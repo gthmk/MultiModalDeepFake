{
 "cells": [
  {
   "cell_type": "markdown",
   "id": "8a40f3c2-9876-4961-baeb-dc21a30f31a5",
   "metadata": {},
   "source": [
    "# Utility Functions for Generating and Converting Audio"
   ]
  },
  {
   "cell_type": "code",
   "execution_count": 18,
   "id": "a186c954-d3f1-47f0-8afd-bd16864ed57f",
   "metadata": {},
   "outputs": [],
   "source": [
    "import os\n",
    "import pandas as pd\n",
    "import numpy as np\n",
    "import scipy\n",
    "from scipy.io import wavfile\n",
    "import IPython.display as ipd\n",
    "import matplotlib.pyplot as plt\n",
    "import moviepy.editor as mp\n",
    "from pathlib import Path\n",
    "%matplotlib inline\n",
    "base_path = \"/home/ubuntu/\""
   ]
  },
  {
   "cell_type": "code",
   "execution_count": 10,
   "id": "a3a99234-ff48-4e97-8a17-c5f03ad5efa5",
   "metadata": {},
   "outputs": [],
   "source": [
    "#original video\n",
    "test_video = base_path + 'data/biden-twitter-fake.mp4'\n",
    "\n",
    "#provide a generated audio file name\n",
    "test_audio = base_path + 'data/biden-twitter-fake-test-generated.wav'"
   ]
  },
  {
   "cell_type": "markdown",
   "id": "4ccf2263-418d-4efc-9710-89634a160220",
   "metadata": {},
   "source": [
    "## `MoviePy` method\n",
    "\n",
    "Docs - https://zulko.github.io/moviepy/ref/AudioClip.html"
   ]
  },
  {
   "cell_type": "code",
   "execution_count": 16,
   "id": "7152f3e4-2714-4f6f-b65e-cbe7ffa71bb0",
   "metadata": {},
   "outputs": [],
   "source": [
    "def extract_wav(mp4_filepath, wav_filepath):\n",
    "\n",
    "  #check if file exists (conversion crashes)\n",
    "    wav_file = Path(wav_filepath)\n",
    "\n",
    "    if wav_file.exists():\n",
    "        print(\"File exists: {}\".format(wav_filepath.split('/')[-1]))\n",
    "        return None\n",
    "    else:\n",
    "        print(\"Generating file: {}\".format(wav_filepath.split('/')[-1]))\n",
    "    \n",
    "    #do video to wav conversion\n",
    "    video = mp.VideoFileClip(mp4_filepath)\n",
    "    try:\n",
    "        video.audio.write_audiofile(wav_filepath, ffmpeg_params=[\"-ac\", \"1\"])\n",
    "    except:\n",
    "        print(\"Failed for video:\".format(mp4_filepath.split('/')[-1]))"
   ]
  },
  {
   "cell_type": "code",
   "execution_count": 17,
   "id": "2ddb925b-8293-4e76-b8c9-cdec9ceef470",
   "metadata": {},
   "outputs": [
    {
     "name": "stdout",
     "output_type": "stream",
     "text": [
      "Generating file: biden-twitter-fake-test-generated.wav\n",
      "MoviePy - Writing audio in /home/ubuntu/data/biden-twitter-fake-test-generated.wav\n"
     ]
    },
    {
     "name": "stderr",
     "output_type": "stream",
     "text": [
      "                                                                    "
     ]
    },
    {
     "name": "stdout",
     "output_type": "stream",
     "text": [
      "MoviePy - Done.\n"
     ]
    },
    {
     "name": "stderr",
     "output_type": "stream",
     "text": [
      "\r"
     ]
    }
   ],
   "source": [
    "extract_wav(test_video,test_audio)"
   ]
  },
  {
   "cell_type": "code",
   "execution_count": null,
   "id": "097f2a54-d527-4d84-a359-9a75105b5b15",
   "metadata": {},
   "outputs": [],
   "source": []
  }
 ],
 "metadata": {
  "kernelspec": {
   "display_name": "deepfake-detection-v1",
   "language": "python",
   "name": "deepfake-detection-v1"
  },
  "language_info": {
   "codemirror_mode": {
    "name": "ipython",
    "version": 3
   },
   "file_extension": ".py",
   "mimetype": "text/x-python",
   "name": "python",
   "nbconvert_exporter": "python",
   "pygments_lexer": "ipython3",
   "version": "3.9.16"
  }
 },
 "nbformat": 4,
 "nbformat_minor": 5
}
