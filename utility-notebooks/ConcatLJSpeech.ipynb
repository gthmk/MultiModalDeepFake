{
 "cells": [
  {
   "cell_type": "code",
   "execution_count": 9,
   "id": "05830405-7569-4150-b0a2-3ee101ea8d67",
   "metadata": {},
   "outputs": [],
   "source": [
    "import pandas as pd\n",
    "import os\n",
    "from pydub import AudioSegment"
   ]
  },
  {
   "cell_type": "code",
   "execution_count": 5,
   "id": "b14fdd8c-21f0-4b22-bbef-3db42aac910a",
   "metadata": {},
   "outputs": [],
   "source": [
    "home_path = '/home/ubuntu'"
   ]
  },
  {
   "cell_type": "code",
   "execution_count": 6,
   "id": "dd9e49a9-7fe7-492c-ac77-d38d84d12982",
   "metadata": {},
   "outputs": [],
   "source": [
    "#load the data\n",
    "metadata = pd.read_csv(os.path.join(home_path, 'data/wavefake_data/LJ_metadata.csv'))"
   ]
  },
  {
   "cell_type": "code",
   "execution_count": 17,
   "id": "85914cc6-4ed2-4ca5-ad70-0cf1febf0b65",
   "metadata": {},
   "outputs": [],
   "source": [
    "for main_id in metadata['Main_ID'].unique():\n",
    "    clips= []\n",
    "    clip_paths = list(metadata.loc[metadata['Main_ID']==main_id, 'Real'])\n",
    "    for clip_path in clip_paths:\n",
    "        clip = AudioSegment.from_file(clip_path)\n",
    "        clips.append(clip)\n",
    "        \n",
    "    final_clip = clips[0]\n",
    "    for clip in clips[1:]:\n",
    "        final_clip += clip\n",
    "        \n",
    "    final_clip.export(os.path.join(home_path, 'data/wavefake_data/ConcatAudio', f'{main_id}.wav'))\n",
    "    \n",
    "    \n",
    "        "
   ]
  },
  {
   "cell_type": "code",
   "execution_count": null,
   "id": "52222d10-a0d9-4b5a-8ddc-0367dd55d597",
   "metadata": {},
   "outputs": [],
   "source": []
  }
 ],
 "metadata": {
  "kernelspec": {
   "display_name": "Python 3",
   "language": "python",
   "name": "python3"
  },
  "language_info": {
   "codemirror_mode": {
    "name": "ipython",
    "version": 3
   },
   "file_extension": ".py",
   "mimetype": "text/x-python",
   "name": "python",
   "nbconvert_exporter": "python",
   "pygments_lexer": "ipython3",
   "version": "3.8.10"
  }
 },
 "nbformat": 4,
 "nbformat_minor": 5
}
