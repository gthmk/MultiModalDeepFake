{
 "cells": [
  {
   "cell_type": "code",
   "execution_count": 10,
   "id": "ca207e91-0f56-43a6-892b-a8292817f628",
   "metadata": {},
   "outputs": [],
   "source": [
    "import os\n",
    "\n",
    "input_dir = '../../data/wavefake_data/generated_audio'\n",
    "\n",
    "valid_folders = [item for item in os.listdir(input_dir) if not item.startswith('.')]"
   ]
  },
  {
   "cell_type": "code",
   "execution_count": 11,
   "id": "e19c2a08-dcf7-4e81-8d82-603bc4ffab31",
   "metadata": {},
   "outputs": [
    {
     "data": {
      "text/plain": [
       "['ljspeech_hifiGAN',\n",
       " 'ljspeech_full_band_melgan',\n",
       " 'ljspeech_waveglow',\n",
       " 'ljspeech_elevenlabs',\n",
       " 'ljspeech_multi_band_melgan',\n",
       " 'ljspeech_uberduck',\n",
       " '11LabsDeepFakes',\n",
       " 'ljspeech_melgan_large',\n",
       " 'ljspeech_parallel_wavegan',\n",
       " 'ljspeech_melgan',\n",
       " 'ElevenLabsDeepFakes.zip']"
      ]
     },
     "execution_count": 11,
     "metadata": {},
     "output_type": "execute_result"
    }
   ],
   "source": [
    "wavefake_folders = []\n",
    "valid_folders"
   ]
  },
  {
   "cell_type": "code",
   "execution_count": null,
   "id": "b6a3076a-b7e9-4a27-9759-c8ffcfc5b88b",
   "metadata": {},
   "outputs": [],
   "source": []
  }
 ],
 "metadata": {
  "kernelspec": {
   "display_name": "Python 3 (ipykernel)",
   "language": "python",
   "name": "python3"
  },
  "language_info": {
   "codemirror_mode": {
    "name": "ipython",
    "version": 3
   },
   "file_extension": ".py",
   "mimetype": "text/x-python",
   "name": "python",
   "nbconvert_exporter": "python",
   "pygments_lexer": "ipython3",
   "version": "3.8.10"
  }
 },
 "nbformat": 4,
 "nbformat_minor": 5
}
