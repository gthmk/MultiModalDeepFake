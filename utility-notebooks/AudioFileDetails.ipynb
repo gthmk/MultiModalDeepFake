{
 "cells": [
  {
   "cell_type": "code",
   "execution_count": 1,
   "id": "4b87a325-5545-40b2-b2b2-070517c02480",
   "metadata": {},
   "outputs": [],
   "source": [
    "import os\n",
    "import librosa\n",
    "\n",
    "def get_total_duration(directories):\n",
    "    total_duration = 0.0\n",
    "    count = 0\n",
    "\n",
    "    for directory in directories:\n",
    "        for filename in os.listdir(directory):\n",
    "            if filename.endswith('.wav'):\n",
    "                count += 1\n",
    "                filepath = os.path.join(directory, filename)\n",
    "                audio, sr = librosa.load(filepath, sr=None)\n",
    "                duration = len(audio) / sr\n",
    "                total_duration += duration\n",
    "\n",
    "    return total_duration, count"
   ]
  },
  {
   "cell_type": "code",
   "execution_count": null,
   "id": "45cb2845-88e6-4200-9510-9b16510b06fc",
   "metadata": {},
   "outputs": [],
   "source": []
  }
 ],
 "metadata": {
  "kernelspec": {
   "display_name": "Python 3 (ipykernel)",
   "language": "python",
   "name": "python3"
  },
  "language_info": {
   "codemirror_mode": {
    "name": "ipython",
    "version": 3
   },
   "file_extension": ".py",
   "mimetype": "text/x-python",
   "name": "python",
   "nbconvert_exporter": "python",
   "pygments_lexer": "ipython3",
   "version": "3.8.10"
  }
 },
 "nbformat": 4,
 "nbformat_minor": 5
}
