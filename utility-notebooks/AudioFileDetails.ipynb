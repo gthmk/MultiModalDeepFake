{
 "cells": [
  {
   "cell_type": "code",
   "execution_count": 2,
   "id": "4b87a325-5545-40b2-b2b2-070517c02480",
   "metadata": {},
   "outputs": [],
   "source": [
    "import os\n",
    "import librosa\n",
    "\n",
    "def get_total_duration(directories):\n",
    "    total_duration = 0.0\n",
    "    count = 0\n",
    "\n",
    "    for directory in directories:\n",
    "        for filename in os.listdir(directory):\n",
    "            if filename.endswith('.wav'):\n",
    "                count += 1\n",
    "                filepath = os.path.join(directory, filename)\n",
    "                audio, sr = librosa.load(filepath, sr=None)\n",
    "                duration = len(audio) / sr\n",
    "                total_duration += duration\n",
    "\n",
    "    return total_duration, count"
   ]
  },
  {
   "cell_type": "code",
   "execution_count": 8,
   "id": "fdb4ffa1-6d5b-4f43-b0b2-86ba63706c5c",
   "metadata": {},
   "outputs": [
    {
     "name": "stdout",
     "output_type": "stream",
     "text": [
      "Duration:  13.348624999999998\n",
      "Count:  2\n"
     ]
    }
   ],
   "source": [
    "directories = ['/home/ubuntu/data/wavefake_data/generated_audio/testing_duration']\n",
    "total_duration, count = get_total_duration(directories)\n",
    "print('Duration: ', total_duration)\n",
    "print('Count: ', count)"
   ]
  },
  {
   "cell_type": "code",
   "execution_count": 6,
   "id": "45cb2845-88e6-4200-9510-9b16510b06fc",
   "metadata": {},
   "outputs": [
    {
     "name": "stdout",
     "output_type": "stream",
     "text": [
      "Duration:  78441.57737500026\n",
      "Count:  13077\n"
     ]
    }
   ],
   "source": [
    "directories = ['/home/ubuntu/data/wavefake_data/generated_audio/ljspeech_elevenlabs/16000KHz']\n",
    "total_duration, count = get_total_duration(directories)\n",
    "print('Duration: ', total_duration)\n",
    "print('Count: ', count)"
   ]
  },
  {
   "cell_type": "code",
   "execution_count": 12,
   "id": "c6b11532-f18a-4ae8-95d3-4e6f1e42370c",
   "metadata": {},
   "outputs": [
    {
     "name": "stdout",
     "output_type": "stream",
     "text": [
      "Duration:  83322.27775000014\n",
      "Count:  13094\n"
     ]
    }
   ],
   "source": [
    "directories = ['/home/ubuntu/data/wavefake_data/generated_audio/ljspeech_uberduck/16000KHz']\n",
    "total_duration, count = get_total_duration(directories)\n",
    "print('Duration: ', total_duration)\n",
    "print('Count: ', count)"
   ]
  },
  {
   "cell_type": "code",
   "execution_count": 13,
   "id": "7f90b5ba-3094-490b-b6d2-e69ace403d50",
   "metadata": {},
   "outputs": [
    {
     "name": "stdout",
     "output_type": "stream",
     "text": [
      "Duration:  603081.7342499985\n",
      "Count:  91700\n"
     ]
    }
   ],
   "source": [
    "directories = ['/home/ubuntu/data/wavefake_data/generated_audio/ljspeech_full_band_melgan/16000KHz',\n",
    "               '/home/ubuntu/data/wavefake_data/generated_audio/ljspeech_hifiGAN/16000KHz', \n",
    "               '/home/ubuntu/data/wavefake_data/generated_audio/ljspeech_melgan/16000KHz', \n",
    "               '/home/ubuntu/data/wavefake_data/generated_audio/ljspeech_melgan_large/16000KHz',\n",
    "               '/home/ubuntu/data/wavefake_data/generated_audio/ljspeech_multi_band_melgan/16000KHz',\n",
    "               '/home/ubuntu/data/wavefake_data/generated_audio/ljspeech_parallel_wavegan/16000KHz',\n",
    "               '/home/ubuntu/data/wavefake_data/generated_audio/ljspeech_waveglow/16000KHz']\n",
    "total_duration, count = get_total_duration(directories)\n",
    "print('Duration: ', total_duration)\n",
    "print('Count: ', count)"
   ]
  },
  {
   "cell_type": "code",
   "execution_count": 14,
   "id": "1c56b283-7a83-4de6-ade3-613c3564fb6e",
   "metadata": {},
   "outputs": [
    {
     "name": "stdout",
     "output_type": "stream",
     "text": [
      "Duration:  86117.48537500021\n",
      "Count:  13100\n"
     ]
    }
   ],
   "source": [
    "directories = ['/home/ubuntu/data/wavefake_data/LJSpeech_1.1/wavs/16000KHz']\n",
    "total_duration, count = get_total_duration(directories)\n",
    "print('Duration: ', total_duration)\n",
    "print('Count: ', count)"
   ]
  },
  {
   "cell_type": "code",
   "execution_count": null,
   "id": "7d26662b-fade-48d6-9482-b3bb72738a0b",
   "metadata": {},
   "outputs": [],
   "source": []
  }
 ],
 "metadata": {
  "kernelspec": {
   "display_name": "Python 3 (ipykernel)",
   "language": "python",
   "name": "python3"
  },
  "language_info": {
   "codemirror_mode": {
    "name": "ipython",
    "version": 3
   },
   "file_extension": ".py",
   "mimetype": "text/x-python",
   "name": "python",
   "nbconvert_exporter": "python",
   "pygments_lexer": "ipython3",
   "version": "3.8.10"
  }
 },
 "nbformat": 4,
 "nbformat_minor": 5
}
