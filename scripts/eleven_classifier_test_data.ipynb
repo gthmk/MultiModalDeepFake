{
 "cells": [
  {
   "cell_type": "markdown",
   "id": "aad62324-6e28-4064-8fbc-3ba19797d17a",
   "metadata": {},
   "source": [
    "# Data generated to test Elevenlabs Classifier "
   ]
  },
  {
   "cell_type": "code",
   "execution_count": 1,
   "id": "56ec9e0b-0f20-4196-93df-82339bcd8646",
   "metadata": {},
   "outputs": [],
   "source": [
    "import pandas as pd\n",
    "import shutil"
   ]
  },
  {
   "cell_type": "code",
   "execution_count": 2,
   "id": "8b212ffb-8fab-4af1-ba99-bab3473ebf9d",
   "metadata": {},
   "outputs": [],
   "source": [
    "path = '/home/ubuntu/launder_metadata.csv'\n",
    "lddf = pd.read_csv(path)"
   ]
  },
  {
   "cell_type": "markdown",
   "id": "872d9083-472c-421e-9cff-c74944144c5d",
   "metadata": {},
   "source": [
    "## Real files mix"
   ]
  },
  {
   "cell_type": "code",
   "execution_count": 3,
   "id": "49320cd5-b6ff-42cd-86b5-df58446f7c7a",
   "metadata": {},
   "outputs": [],
   "source": [
    "transcoded_r = lddf[(lddf['isTranscode']==1) & (lddf['isNoise']==0) & lddf['Path'].str.contains('LJSpeech_1.1', case=False)]\n",
    "noisy_transcoded_r = lddf[(lddf['isTranscode']==1) & (lddf['isNoise']==1) & lddf['Path'].str.contains('LJSpeech_1.1', case=False)]\n",
    "regular_r = lddf[(lddf['isTranscode']==0) & (lddf['isNoise']==0) & lddf['Path'].str.contains('LJSpeech_1.1', case=False)]"
   ]
  },
  {
   "cell_type": "code",
   "execution_count": 4,
   "id": "edca695d-f643-46e3-ba76-ebe7d0b130a1",
   "metadata": {},
   "outputs": [],
   "source": [
    "l1_r=transcoded_r.sample(n=20)\n",
    "l2_r=noisy_transcoded_r.sample(n=20)\n",
    "l3_r=regular_r.sample(n=20)\n",
    "laundered_test_eleven_r = pd.concat([l1_r, l2_r, l3_r])\n",
    "laundered_set_r = set(laundered_test_eleven_r.Path.to_list())"
   ]
  },
  {
   "cell_type": "code",
   "execution_count": 5,
   "id": "58ee3ccf-62a0-4712-ab27-cda87a32da09",
   "metadata": {},
   "outputs": [
    {
     "data": {
      "text/plain": [
       "({'/home/ubuntu/data/wavefake_data/LJSpeech_1.1/wavs/16000KHz/LJ005-0065.wav',\n",
       "  '/home/ubuntu/data/wavefake_data/LJSpeech_1.1/wavs/16000KHz/LJ005-0128.wav',\n",
       "  '/home/ubuntu/data/wavefake_data/LJSpeech_1.1/wavs/16000KHz/LJ007-0014.wav',\n",
       "  '/home/ubuntu/data/wavefake_data/LJSpeech_1.1/wavs/16000KHz/LJ008-0099.wav',\n",
       "  '/home/ubuntu/data/wavefake_data/LJSpeech_1.1/wavs/16000KHz/LJ008-0160.wav',\n",
       "  '/home/ubuntu/data/wavefake_data/LJSpeech_1.1/wavs/16000KHz/LJ008-0240.wav',\n",
       "  '/home/ubuntu/data/wavefake_data/LJSpeech_1.1/wavs/16000KHz/LJ009-0047.wav',\n",
       "  '/home/ubuntu/data/wavefake_data/LJSpeech_1.1/wavs/16000KHz/LJ012-0036.wav',\n",
       "  '/home/ubuntu/data/wavefake_data/LJSpeech_1.1/wavs/16000KHz/LJ012-0176.wav',\n",
       "  '/home/ubuntu/data/wavefake_data/LJSpeech_1.1/wavs/16000KHz/LJ013-0042.wav',\n",
       "  '/home/ubuntu/data/wavefake_data/LJSpeech_1.1/wavs/16000KHz/LJ013-0063.wav',\n",
       "  '/home/ubuntu/data/wavefake_data/LJSpeech_1.1/wavs/16000KHz/LJ013-0064.wav',\n",
       "  '/home/ubuntu/data/wavefake_data/LJSpeech_1.1/wavs/16000KHz/LJ013-0134.wav',\n",
       "  '/home/ubuntu/data/wavefake_data/LJSpeech_1.1/wavs/16000KHz/LJ013-0136.wav',\n",
       "  '/home/ubuntu/data/wavefake_data/LJSpeech_1.1/wavs/16000KHz/LJ014-0230.wav',\n",
       "  '/home/ubuntu/data/wavefake_data/LJSpeech_1.1/wavs/16000KHz/LJ014-0338.wav',\n",
       "  '/home/ubuntu/data/wavefake_data/LJSpeech_1.1/wavs/16000KHz/LJ015-0144.wav',\n",
       "  '/home/ubuntu/data/wavefake_data/LJSpeech_1.1/wavs/16000KHz/LJ016-0209.wav',\n",
       "  '/home/ubuntu/data/wavefake_data/LJSpeech_1.1/wavs/16000KHz/LJ016-0438.wav',\n",
       "  '/home/ubuntu/data/wavefake_data/LJSpeech_1.1/wavs/16000KHz/LJ018-0088.wav',\n",
       "  '/home/ubuntu/data/wavefake_data/LJSpeech_1.1/wavs/16000KHz/LJ018-0240.wav',\n",
       "  '/home/ubuntu/data/wavefake_data/LJSpeech_1.1/wavs/16000KHz/LJ019-0089.wav',\n",
       "  '/home/ubuntu/data/wavefake_data/LJSpeech_1.1/wavs/16000KHz/LJ019-0248.wav',\n",
       "  '/home/ubuntu/data/wavefake_data/LJSpeech_1.1/wavs/16000KHz/LJ019-0308.wav',\n",
       "  '/home/ubuntu/data/wavefake_data/LJSpeech_1.1/wavs/16000KHz/LJ020-0001.wav',\n",
       "  '/home/ubuntu/data/wavefake_data/LJSpeech_1.1/wavs/16000KHz/LJ021-0071.wav',\n",
       "  '/home/ubuntu/data/wavefake_data/LJSpeech_1.1/wavs/16000KHz/LJ021-0100.wav',\n",
       "  '/home/ubuntu/data/wavefake_data/LJSpeech_1.1/wavs/16000KHz/LJ023-0088.wav',\n",
       "  '/home/ubuntu/data/wavefake_data/LJSpeech_1.1/wavs/16000KHz/LJ024-0108.wav',\n",
       "  '/home/ubuntu/data/wavefake_data/LJSpeech_1.1/wavs/16000KHz/LJ025-0077.wav',\n",
       "  '/home/ubuntu/data/wavefake_data/LJSpeech_1.1/wavs/16000KHz/LJ027-0119.wav',\n",
       "  '/home/ubuntu/data/wavefake_data/LJSpeech_1.1/wavs/16000KHz/LJ028-0175.wav',\n",
       "  '/home/ubuntu/data/wavefake_data/LJSpeech_1.1/wavs/16000KHz/LJ028-0196.wav',\n",
       "  '/home/ubuntu/data/wavefake_data/LJSpeech_1.1/wavs/16000KHz/LJ028-0417.wav',\n",
       "  '/home/ubuntu/data/wavefake_data/LJSpeech_1.1/wavs/16000KHz/LJ030-0032.wav',\n",
       "  '/home/ubuntu/data/wavefake_data/LJSpeech_1.1/wavs/16000KHz/LJ030-0225.wav',\n",
       "  '/home/ubuntu/data/wavefake_data/LJSpeech_1.1/wavs/16000KHz/LJ031-0007.wav',\n",
       "  '/home/ubuntu/data/wavefake_data/LJSpeech_1.1/wavs/16000KHz/LJ031-0068.wav',\n",
       "  '/home/ubuntu/data/wavefake_data/LJSpeech_1.1/wavs/16000KHz/LJ031-0120.wav',\n",
       "  '/home/ubuntu/data/wavefake_data/LJSpeech_1.1/wavs/16000KHz/LJ035-0041.wav',\n",
       "  '/home/ubuntu/data/wavefake_data/LJSpeech_1.1/wavs/16000KHz/LJ035-0101.wav',\n",
       "  '/home/ubuntu/data/wavefake_data/LJSpeech_1.1/wavs/16000KHz/LJ036-0058.wav',\n",
       "  '/home/ubuntu/data/wavefake_data/LJSpeech_1.1/wavs/16000KHz/LJ036-0063.wav',\n",
       "  '/home/ubuntu/data/wavefake_data/LJSpeech_1.1/wavs/16000KHz/LJ036-0154.wav',\n",
       "  '/home/ubuntu/data/wavefake_data/LJSpeech_1.1/wavs/16000KHz/LJ037-0050.wav',\n",
       "  '/home/ubuntu/data/wavefake_data/LJSpeech_1.1/wavs/16000KHz/LJ038-0028.wav',\n",
       "  '/home/ubuntu/data/wavefake_data/LJSpeech_1.1/wavs/16000KHz/LJ038-0192.wav',\n",
       "  '/home/ubuntu/data/wavefake_data/LJSpeech_1.1/wavs/16000KHz/LJ038-0274.wav',\n",
       "  '/home/ubuntu/data/wavefake_data/LJSpeech_1.1/wavs/16000KHz/LJ040-0113.wav',\n",
       "  '/home/ubuntu/data/wavefake_data/LJSpeech_1.1/wavs/16000KHz/LJ042-0016.wav',\n",
       "  '/home/ubuntu/data/wavefake_data/LJSpeech_1.1/wavs/16000KHz/LJ042-0032.wav',\n",
       "  '/home/ubuntu/data/wavefake_data/LJSpeech_1.1/wavs/16000KHz/LJ043-0055.wav',\n",
       "  '/home/ubuntu/data/wavefake_data/LJSpeech_1.1/wavs/16000KHz/LJ044-0069.wav',\n",
       "  '/home/ubuntu/data/wavefake_data/LJSpeech_1.1/wavs/16000KHz/LJ044-0167.wav',\n",
       "  '/home/ubuntu/data/wavefake_data/LJSpeech_1.1/wavs/16000KHz/LJ045-0095.wav',\n",
       "  '/home/ubuntu/data/wavefake_data/LJSpeech_1.1/wavs/16000KHz/LJ047-0080.wav',\n",
       "  '/home/ubuntu/data/wavefake_data/LJSpeech_1.1/wavs/16000KHz/LJ047-0201.wav',\n",
       "  '/home/ubuntu/data/wavefake_data/LJSpeech_1.1/wavs/16000KHz/LJ049-0043.wav',\n",
       "  '/home/ubuntu/data/wavefake_data/LJSpeech_1.1/wavs/16000KHz/LJ049-0130.wav',\n",
       "  '/home/ubuntu/data/wavefake_data/LJSpeech_1.1/wavs/16000KHz/LJ050-0191.wav'},\n",
       " 60)"
      ]
     },
     "execution_count": 5,
     "metadata": {},
     "output_type": "execute_result"
    }
   ],
   "source": [
    "laundered_set_r, len(laundered_set_r)"
   ]
  },
  {
   "cell_type": "code",
   "execution_count": 6,
   "id": "5952a5e0-e7f4-4344-9c7b-91c4924a8bac",
   "metadata": {},
   "outputs": [],
   "source": [
    "#laundered_test_eleven_r.to_csv('real_test_metadata.csv', index=False)"
   ]
  },
  {
   "cell_type": "code",
   "execution_count": 7,
   "id": "c724b852-2f16-4cda-976b-ec61cb5b5462",
   "metadata": {},
   "outputs": [],
   "source": [
    "for file in laundered_set_r:\n",
    "    shutil.copy(file, '/home/ubuntu/data/eleven_classifier_test/real')"
   ]
  },
  {
   "cell_type": "markdown",
   "id": "aba33ea5-45c2-497a-9b27-418a4ac54f4b",
   "metadata": {},
   "source": [
    "## Fake files mix"
   ]
  },
  {
   "cell_type": "code",
   "execution_count": 8,
   "id": "6e1f0d62-9d2a-48b5-984f-c15fa773fb99",
   "metadata": {},
   "outputs": [],
   "source": [
    "transcoded_f = lddf[(lddf['isTranscode']==1) & (lddf['isNoise']==0) & lddf['Path'].str.contains('ljspeech_elevenlabs', case=False)]\n",
    "noisy_transcoded_f = lddf[(lddf['isTranscode']==1) & (lddf['isNoise']==1) & lddf['Path'].str.contains('ljspeech_elevenlabs', case=False)]\n",
    "regular_f = lddf[(lddf['isTranscode']==0) & (lddf['isNoise']==0) & lddf['Path'].str.contains('ljspeech_elevenlabs', case=False)]"
   ]
  },
  {
   "cell_type": "code",
   "execution_count": 9,
   "id": "3810579f-9c5a-46d5-ac69-8967d284105d",
   "metadata": {},
   "outputs": [],
   "source": [
    "l1_f=transcoded_f.sample(n=20)\n",
    "l2_f=noisy_transcoded_f.sample(n=20)\n",
    "l3_f=regular_f.sample(n=20)\n",
    "laundered_test_eleven_f = pd.concat([l1_f, l2_f, l3_f])\n",
    "laundered_set_f = set(laundered_test_eleven_f.Path.to_list())"
   ]
  },
  {
   "cell_type": "code",
   "execution_count": 10,
   "id": "44e29458-8ce7-4345-b121-5312e8d9b3c0",
   "metadata": {},
   "outputs": [
    {
     "data": {
      "text/plain": [
       "({'/home/ubuntu/data/wavefake_data/generated_audio/ljspeech_elevenlabs/16000KHz/LJ003-0208.wav',\n",
       "  '/home/ubuntu/data/wavefake_data/generated_audio/ljspeech_elevenlabs/16000KHz/LJ003-0270.wav',\n",
       "  '/home/ubuntu/data/wavefake_data/generated_audio/ljspeech_elevenlabs/16000KHz/LJ005-0101.wav',\n",
       "  '/home/ubuntu/data/wavefake_data/generated_audio/ljspeech_elevenlabs/16000KHz/LJ005-0172.wav',\n",
       "  '/home/ubuntu/data/wavefake_data/generated_audio/ljspeech_elevenlabs/16000KHz/LJ006-0070.wav',\n",
       "  '/home/ubuntu/data/wavefake_data/generated_audio/ljspeech_elevenlabs/16000KHz/LJ006-0078.wav',\n",
       "  '/home/ubuntu/data/wavefake_data/generated_audio/ljspeech_elevenlabs/16000KHz/LJ006-0113.wav',\n",
       "  '/home/ubuntu/data/wavefake_data/generated_audio/ljspeech_elevenlabs/16000KHz/LJ007-0232.wav',\n",
       "  '/home/ubuntu/data/wavefake_data/generated_audio/ljspeech_elevenlabs/16000KHz/LJ008-0307.wav',\n",
       "  '/home/ubuntu/data/wavefake_data/generated_audio/ljspeech_elevenlabs/16000KHz/LJ010-0044.wav',\n",
       "  '/home/ubuntu/data/wavefake_data/generated_audio/ljspeech_elevenlabs/16000KHz/LJ010-0070.wav',\n",
       "  '/home/ubuntu/data/wavefake_data/generated_audio/ljspeech_elevenlabs/16000KHz/LJ010-0146.wav',\n",
       "  '/home/ubuntu/data/wavefake_data/generated_audio/ljspeech_elevenlabs/16000KHz/LJ010-0157.wav',\n",
       "  '/home/ubuntu/data/wavefake_data/generated_audio/ljspeech_elevenlabs/16000KHz/LJ011-0083.wav',\n",
       "  '/home/ubuntu/data/wavefake_data/generated_audio/ljspeech_elevenlabs/16000KHz/LJ012-0291.wav',\n",
       "  '/home/ubuntu/data/wavefake_data/generated_audio/ljspeech_elevenlabs/16000KHz/LJ014-0207.wav',\n",
       "  '/home/ubuntu/data/wavefake_data/generated_audio/ljspeech_elevenlabs/16000KHz/LJ014-0295.wav',\n",
       "  '/home/ubuntu/data/wavefake_data/generated_audio/ljspeech_elevenlabs/16000KHz/LJ015-0175.wav',\n",
       "  '/home/ubuntu/data/wavefake_data/generated_audio/ljspeech_elevenlabs/16000KHz/LJ015-0275.wav',\n",
       "  '/home/ubuntu/data/wavefake_data/generated_audio/ljspeech_elevenlabs/16000KHz/LJ016-0292.wav',\n",
       "  '/home/ubuntu/data/wavefake_data/generated_audio/ljspeech_elevenlabs/16000KHz/LJ017-0038.wav',\n",
       "  '/home/ubuntu/data/wavefake_data/generated_audio/ljspeech_elevenlabs/16000KHz/LJ019-0118.wav',\n",
       "  '/home/ubuntu/data/wavefake_data/generated_audio/ljspeech_elevenlabs/16000KHz/LJ019-0268.wav',\n",
       "  '/home/ubuntu/data/wavefake_data/generated_audio/ljspeech_elevenlabs/16000KHz/LJ019-0312.wav',\n",
       "  '/home/ubuntu/data/wavefake_data/generated_audio/ljspeech_elevenlabs/16000KHz/LJ022-0026.wav',\n",
       "  '/home/ubuntu/data/wavefake_data/generated_audio/ljspeech_elevenlabs/16000KHz/LJ023-0016.wav',\n",
       "  '/home/ubuntu/data/wavefake_data/generated_audio/ljspeech_elevenlabs/16000KHz/LJ024-0100.wav',\n",
       "  '/home/ubuntu/data/wavefake_data/generated_audio/ljspeech_elevenlabs/16000KHz/LJ024-0130.wav',\n",
       "  '/home/ubuntu/data/wavefake_data/generated_audio/ljspeech_elevenlabs/16000KHz/LJ025-0046.wav',\n",
       "  '/home/ubuntu/data/wavefake_data/generated_audio/ljspeech_elevenlabs/16000KHz/LJ028-0022.wav',\n",
       "  '/home/ubuntu/data/wavefake_data/generated_audio/ljspeech_elevenlabs/16000KHz/LJ028-0264.wav',\n",
       "  '/home/ubuntu/data/wavefake_data/generated_audio/ljspeech_elevenlabs/16000KHz/LJ029-0053.wav',\n",
       "  '/home/ubuntu/data/wavefake_data/generated_audio/ljspeech_elevenlabs/16000KHz/LJ029-0186.wav',\n",
       "  '/home/ubuntu/data/wavefake_data/generated_audio/ljspeech_elevenlabs/16000KHz/LJ030-0003.wav',\n",
       "  '/home/ubuntu/data/wavefake_data/generated_audio/ljspeech_elevenlabs/16000KHz/LJ031-0109.wav',\n",
       "  '/home/ubuntu/data/wavefake_data/generated_audio/ljspeech_elevenlabs/16000KHz/LJ031-0186.wav',\n",
       "  '/home/ubuntu/data/wavefake_data/generated_audio/ljspeech_elevenlabs/16000KHz/LJ032-0147.wav',\n",
       "  '/home/ubuntu/data/wavefake_data/generated_audio/ljspeech_elevenlabs/16000KHz/LJ032-0273.wav',\n",
       "  '/home/ubuntu/data/wavefake_data/generated_audio/ljspeech_elevenlabs/16000KHz/LJ035-0127.wav',\n",
       "  '/home/ubuntu/data/wavefake_data/generated_audio/ljspeech_elevenlabs/16000KHz/LJ036-0073.wav',\n",
       "  '/home/ubuntu/data/wavefake_data/generated_audio/ljspeech_elevenlabs/16000KHz/LJ037-0039.wav',\n",
       "  '/home/ubuntu/data/wavefake_data/generated_audio/ljspeech_elevenlabs/16000KHz/LJ037-0105.wav',\n",
       "  '/home/ubuntu/data/wavefake_data/generated_audio/ljspeech_elevenlabs/16000KHz/LJ038-0295.wav',\n",
       "  '/home/ubuntu/data/wavefake_data/generated_audio/ljspeech_elevenlabs/16000KHz/LJ040-0061.wav',\n",
       "  '/home/ubuntu/data/wavefake_data/generated_audio/ljspeech_elevenlabs/16000KHz/LJ040-0214.wav',\n",
       "  '/home/ubuntu/data/wavefake_data/generated_audio/ljspeech_elevenlabs/16000KHz/LJ041-0053.wav',\n",
       "  '/home/ubuntu/data/wavefake_data/generated_audio/ljspeech_elevenlabs/16000KHz/LJ042-0204.wav',\n",
       "  '/home/ubuntu/data/wavefake_data/generated_audio/ljspeech_elevenlabs/16000KHz/LJ042-0242.wav',\n",
       "  '/home/ubuntu/data/wavefake_data/generated_audio/ljspeech_elevenlabs/16000KHz/LJ043-0080.wav',\n",
       "  '/home/ubuntu/data/wavefake_data/generated_audio/ljspeech_elevenlabs/16000KHz/LJ044-0065.wav',\n",
       "  '/home/ubuntu/data/wavefake_data/generated_audio/ljspeech_elevenlabs/16000KHz/LJ045-0094.wav',\n",
       "  '/home/ubuntu/data/wavefake_data/generated_audio/ljspeech_elevenlabs/16000KHz/LJ045-0185.wav',\n",
       "  '/home/ubuntu/data/wavefake_data/generated_audio/ljspeech_elevenlabs/16000KHz/LJ045-0219.wav',\n",
       "  '/home/ubuntu/data/wavefake_data/generated_audio/ljspeech_elevenlabs/16000KHz/LJ045-0226.wav',\n",
       "  '/home/ubuntu/data/wavefake_data/generated_audio/ljspeech_elevenlabs/16000KHz/LJ047-0150.wav',\n",
       "  '/home/ubuntu/data/wavefake_data/generated_audio/ljspeech_elevenlabs/16000KHz/LJ047-0211.wav',\n",
       "  '/home/ubuntu/data/wavefake_data/generated_audio/ljspeech_elevenlabs/16000KHz/LJ048-0131.wav',\n",
       "  '/home/ubuntu/data/wavefake_data/generated_audio/ljspeech_elevenlabs/16000KHz/LJ048-0209.wav',\n",
       "  '/home/ubuntu/data/wavefake_data/generated_audio/ljspeech_elevenlabs/16000KHz/LJ050-0115.wav',\n",
       "  '/home/ubuntu/data/wavefake_data/generated_audio/ljspeech_elevenlabs/16000KHz/LJ050-0155.wav'},\n",
       " 60)"
      ]
     },
     "execution_count": 10,
     "metadata": {},
     "output_type": "execute_result"
    }
   ],
   "source": [
    "laundered_set_f, len(laundered_set_f)"
   ]
  },
  {
   "cell_type": "code",
   "execution_count": 11,
   "id": "13d65c98-f740-4c61-81bc-683e45c011f4",
   "metadata": {},
   "outputs": [],
   "source": [
    "for file in laundered_set_f:\n",
    "    shutil.copy(file, '/home/ubuntu/data/eleven_classifier_test/fake')"
   ]
  },
  {
   "cell_type": "markdown",
   "id": "26120412-8639-4965-bf52-3a8043ad7a61",
   "metadata": {},
   "source": [
    "## Final Metadata"
   ]
  },
  {
   "cell_type": "code",
   "execution_count": 12,
   "id": "9ef5db51-d7d4-4c9f-bf00-d4d45ffb376b",
   "metadata": {},
   "outputs": [],
   "source": [
    "laundered_test_eleven_r['label'] = 'Real'\n",
    "laundered_test_eleven_f['label'] = 'Fake'\n",
    "laundered_test_eleven = pd.concat([laundered_test_eleven_r, laundered_test_eleven_f])"
   ]
  },
  {
   "cell_type": "code",
   "execution_count": 14,
   "id": "ece698cf-a88a-41da-af87-b18b4f2f0ff0",
   "metadata": {},
   "outputs": [],
   "source": [
    "laundered_test_eleven.to_csv('test_metadata.csv', index=False)"
   ]
  },
  {
   "cell_type": "markdown",
   "id": "20cd2077-fcea-4f7d-90e5-badf79bf369e",
   "metadata": {},
   "source": [
    "## Extreme Noisy Transcoded"
   ]
  },
  {
   "cell_type": "code",
   "execution_count": 15,
   "id": "439d6084-e5bc-4b40-b094-4a874f6f6486",
   "metadata": {},
   "outputs": [],
   "source": [
    "selected = noisy_transcoded_f[(noisy_transcoded_f['BitRate']=='64k')].sort_values('SNR')"
   ]
  },
  {
   "cell_type": "code",
   "execution_count": 16,
   "id": "7c1c3a51-caeb-4ee0-a720-09a892f95229",
   "metadata": {},
   "outputs": [
    {
     "data": {
      "text/html": [
       "<div>\n",
       "<style scoped>\n",
       "    .dataframe tbody tr th:only-of-type {\n",
       "        vertical-align: middle;\n",
       "    }\n",
       "\n",
       "    .dataframe tbody tr th {\n",
       "        vertical-align: top;\n",
       "    }\n",
       "\n",
       "    .dataframe thead th {\n",
       "        text-align: right;\n",
       "    }\n",
       "</style>\n",
       "<table border=\"1\" class=\"dataframe\">\n",
       "  <thead>\n",
       "    <tr style=\"text-align: right;\">\n",
       "      <th></th>\n",
       "      <th>Unnamed: 0</th>\n",
       "      <th>Path</th>\n",
       "      <th>isTranscode</th>\n",
       "      <th>BitRate</th>\n",
       "      <th>isNoise</th>\n",
       "      <th>SNR</th>\n",
       "    </tr>\n",
       "  </thead>\n",
       "  <tbody>\n",
       "    <tr>\n",
       "      <th>10417</th>\n",
       "      <td>10417</td>\n",
       "      <td>/home/ubuntu/data/wavefake_data/generated_audi...</td>\n",
       "      <td>1</td>\n",
       "      <td>64k</td>\n",
       "      <td>1</td>\n",
       "      <td>10.0</td>\n",
       "    </tr>\n",
       "    <tr>\n",
       "      <th>7857</th>\n",
       "      <td>7857</td>\n",
       "      <td>/home/ubuntu/data/wavefake_data/generated_audi...</td>\n",
       "      <td>1</td>\n",
       "      <td>64k</td>\n",
       "      <td>1</td>\n",
       "      <td>10.0</td>\n",
       "    </tr>\n",
       "    <tr>\n",
       "      <th>653</th>\n",
       "      <td>653</td>\n",
       "      <td>/home/ubuntu/data/wavefake_data/generated_audi...</td>\n",
       "      <td>1</td>\n",
       "      <td>64k</td>\n",
       "      <td>1</td>\n",
       "      <td>10.0</td>\n",
       "    </tr>\n",
       "    <tr>\n",
       "      <th>11260</th>\n",
       "      <td>11260</td>\n",
       "      <td>/home/ubuntu/data/wavefake_data/generated_audi...</td>\n",
       "      <td>1</td>\n",
       "      <td>64k</td>\n",
       "      <td>1</td>\n",
       "      <td>10.0</td>\n",
       "    </tr>\n",
       "    <tr>\n",
       "      <th>4785</th>\n",
       "      <td>4785</td>\n",
       "      <td>/home/ubuntu/data/wavefake_data/generated_audi...</td>\n",
       "      <td>1</td>\n",
       "      <td>64k</td>\n",
       "      <td>1</td>\n",
       "      <td>10.0</td>\n",
       "    </tr>\n",
       "    <tr>\n",
       "      <th>...</th>\n",
       "      <td>...</td>\n",
       "      <td>...</td>\n",
       "      <td>...</td>\n",
       "      <td>...</td>\n",
       "      <td>...</td>\n",
       "      <td>...</td>\n",
       "    </tr>\n",
       "    <tr>\n",
       "      <th>5307</th>\n",
       "      <td>5307</td>\n",
       "      <td>/home/ubuntu/data/wavefake_data/generated_audi...</td>\n",
       "      <td>1</td>\n",
       "      <td>64k</td>\n",
       "      <td>1</td>\n",
       "      <td>80.0</td>\n",
       "    </tr>\n",
       "    <tr>\n",
       "      <th>1541</th>\n",
       "      <td>1541</td>\n",
       "      <td>/home/ubuntu/data/wavefake_data/generated_audi...</td>\n",
       "      <td>1</td>\n",
       "      <td>64k</td>\n",
       "      <td>1</td>\n",
       "      <td>80.0</td>\n",
       "    </tr>\n",
       "    <tr>\n",
       "      <th>2795</th>\n",
       "      <td>2795</td>\n",
       "      <td>/home/ubuntu/data/wavefake_data/generated_audi...</td>\n",
       "      <td>1</td>\n",
       "      <td>64k</td>\n",
       "      <td>1</td>\n",
       "      <td>80.0</td>\n",
       "    </tr>\n",
       "    <tr>\n",
       "      <th>4769</th>\n",
       "      <td>4769</td>\n",
       "      <td>/home/ubuntu/data/wavefake_data/generated_audi...</td>\n",
       "      <td>1</td>\n",
       "      <td>64k</td>\n",
       "      <td>1</td>\n",
       "      <td>80.0</td>\n",
       "    </tr>\n",
       "    <tr>\n",
       "      <th>4917</th>\n",
       "      <td>4917</td>\n",
       "      <td>/home/ubuntu/data/wavefake_data/generated_audi...</td>\n",
       "      <td>1</td>\n",
       "      <td>64k</td>\n",
       "      <td>1</td>\n",
       "      <td>80.0</td>\n",
       "    </tr>\n",
       "  </tbody>\n",
       "</table>\n",
       "<p>1163 rows × 6 columns</p>\n",
       "</div>"
      ],
      "text/plain": [
       "       Unnamed: 0                                               Path  \\\n",
       "10417       10417  /home/ubuntu/data/wavefake_data/generated_audi...   \n",
       "7857         7857  /home/ubuntu/data/wavefake_data/generated_audi...   \n",
       "653           653  /home/ubuntu/data/wavefake_data/generated_audi...   \n",
       "11260       11260  /home/ubuntu/data/wavefake_data/generated_audi...   \n",
       "4785         4785  /home/ubuntu/data/wavefake_data/generated_audi...   \n",
       "...           ...                                                ...   \n",
       "5307         5307  /home/ubuntu/data/wavefake_data/generated_audi...   \n",
       "1541         1541  /home/ubuntu/data/wavefake_data/generated_audi...   \n",
       "2795         2795  /home/ubuntu/data/wavefake_data/generated_audi...   \n",
       "4769         4769  /home/ubuntu/data/wavefake_data/generated_audi...   \n",
       "4917         4917  /home/ubuntu/data/wavefake_data/generated_audi...   \n",
       "\n",
       "       isTranscode BitRate  isNoise   SNR  \n",
       "10417            1     64k        1  10.0  \n",
       "7857             1     64k        1  10.0  \n",
       "653              1     64k        1  10.0  \n",
       "11260            1     64k        1  10.0  \n",
       "4785             1     64k        1  10.0  \n",
       "...            ...     ...      ...   ...  \n",
       "5307             1     64k        1  80.0  \n",
       "1541             1     64k        1  80.0  \n",
       "2795             1     64k        1  80.0  \n",
       "4769             1     64k        1  80.0  \n",
       "4917             1     64k        1  80.0  \n",
       "\n",
       "[1163 rows x 6 columns]"
      ]
     },
     "execution_count": 16,
     "metadata": {},
     "output_type": "execute_result"
    }
   ],
   "source": [
    "selected"
   ]
  },
  {
   "cell_type": "code",
   "execution_count": 17,
   "id": "efbe241a-5d49-4519-bfcb-775a817698cf",
   "metadata": {},
   "outputs": [
    {
     "data": {
      "text/plain": [
       "['/home/ubuntu/data/wavefake_data/generated_audio/ljspeech_elevenlabs/16000KHz/LJ034-0138.wav',\n",
       " '/home/ubuntu/data/wavefake_data/generated_audio/ljspeech_elevenlabs/16000KHz/LJ044-0006.wav',\n",
       " '/home/ubuntu/data/wavefake_data/generated_audio/ljspeech_elevenlabs/16000KHz/LJ021-0020.wav',\n",
       " '/home/ubuntu/data/wavefake_data/generated_audio/ljspeech_elevenlabs/16000KHz/LJ006-0145.wav',\n",
       " '/home/ubuntu/data/wavefake_data/generated_audio/ljspeech_elevenlabs/16000KHz/LJ042-0185.wav']"
      ]
     },
     "execution_count": 17,
     "metadata": {},
     "output_type": "execute_result"
    }
   ],
   "source": [
    "selected.Path.to_list()[:5]"
   ]
  },
  {
   "cell_type": "code",
   "execution_count": 18,
   "id": "30e3d1e9-7f3e-459b-acfa-dd2dda83b637",
   "metadata": {},
   "outputs": [],
   "source": [
    "for file in selected.Path.to_list()[:5]:\n",
    "    shutil.copy(file, 'fake_noisy_selected/')"
   ]
  },
  {
   "cell_type": "code",
   "execution_count": null,
   "id": "828ad005-2e47-4935-ae82-d4810fe00206",
   "metadata": {},
   "outputs": [],
   "source": []
  },
  {
   "cell_type": "code",
   "execution_count": null,
   "id": "319f1576-c0d3-4429-a9d2-08764c120386",
   "metadata": {},
   "outputs": [],
   "source": []
  },
  {
   "cell_type": "code",
   "execution_count": null,
   "id": "79f6d049-8928-4e83-bced-f8c7c340da8d",
   "metadata": {},
   "outputs": [],
   "source": []
  },
  {
   "cell_type": "code",
   "execution_count": null,
   "id": "6a5a17c7-c9d3-4824-a903-c98ffcad6ae6",
   "metadata": {},
   "outputs": [],
   "source": []
  },
  {
   "cell_type": "code",
   "execution_count": null,
   "id": "f62b8deb-2ff1-493b-947d-ca3235b76968",
   "metadata": {},
   "outputs": [],
   "source": []
  }
 ],
 "metadata": {
  "kernelspec": {
   "display_name": "nemo",
   "language": "python",
   "name": "python3"
  },
  "language_info": {
   "codemirror_mode": {
    "name": "ipython",
    "version": 3
   },
   "file_extension": ".py",
   "mimetype": "text/x-python",
   "name": "python",
   "nbconvert_exporter": "python",
   "pygments_lexer": "ipython3",
   "version": "3.8.0"
  }
 },
 "nbformat": 4,
 "nbformat_minor": 5
}
