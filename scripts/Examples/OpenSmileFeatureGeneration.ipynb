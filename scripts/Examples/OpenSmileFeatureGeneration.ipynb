{
 "cells": [
  {
   "cell_type": "markdown",
   "id": "c3e32646-c54d-4870-b957-7d787e8907ec",
   "metadata": {
    "tags": []
   },
   "source": [
    "# Generate openSMILE features\n",
    "\n",
    "This script uses the `smileFeatureGenerator` class and generates openSMILE features (OSF) for various audio datasets used in the experiments. These features are saved to corresponding savefiles for reuse in experiments.\n",
    "\n",
    "The files are saved in - `data/OpenSmile/04-2023-OSF-feature-csvs`"
   ]
  },
  {
   "cell_type": "code",
   "execution_count": 1,
   "id": "57c25a55-1b66-4da0-9c48-8bd3a11bc7f8",
   "metadata": {},
   "outputs": [],
   "source": [
    "import sys\n",
    "sys.path.append(\"/home/ubuntu/MultiModalDeepFake\")\n",
    "from packages.SmileFeatureGenerator import smileFeatureGenerator\n",
    "from datetime import date\n",
    "#base_path\n",
    "base_path = \"/home/ubuntu/\""
   ]
  },
  {
   "cell_type": "markdown",
   "id": "53bfbe95-cd3c-4d89-8c65-8e0f9e5fbf30",
   "metadata": {},
   "source": [
    "## 04-01-2023 Feature Extraction Set:"
   ]
  },
  {
   "cell_type": "markdown",
   "id": "a0d01f2e-0538-4e16-9880-b13be8b2623e",
   "metadata": {
    "tags": []
   },
   "source": [
    "#### File Path Handling:"
   ]
  },
  {
   "cell_type": "code",
   "execution_count": null,
   "id": "dcf90ba8-3705-402a-b2b3-46533631d288",
   "metadata": {},
   "outputs": [
    {
     "data": {
      "text/plain": [
       "['/home/ubuntu/data/world-leaders-dataset/WavFiles/biden_wav_audio/16KHz',\n",
       " '/home/ubuntu/data/world-leaders-dataset/WavFiles/biden_wav_audio/44KHz',\n",
       " '/home/ubuntu/data/world-leaders-dataset/11LabsDeepFakes/Biden/16Khz',\n",
       " '/home/ubuntu/data/world-leaders-dataset/11LabsDeepFakes/Biden/44Khz',\n",
       " '/home/ubuntu/data/InTheWildFakes/Biden/16000KHz',\n",
       " '/home/ubuntu/data/InTheWildFakes/Biden/Original',\n",
       " '/home/ubuntu/data/wavefake_data/LJSpeech_1.1/wavs/16000KHz',\n",
       " '/home/ubuntu/data/wavefake_data/LJSpeech_1.1/wavs/Original',\n",
       " '/home/ubuntu/data/wavefake_data/generated_audio/ljspeech_elevenlabs/16000KHz',\n",
       " '/home/ubuntu/data/wavefake_data/generated_audio/ljspeech_elevenlabs/Original',\n",
       " '/home/ubuntu/data/wavefake_data/generated_audio/ljspeech_melgan/16000KHz',\n",
       " '/home/ubuntu/data/wavefake_data/generated_audio/ljspeech_melgan/Original',\n",
       " '/home/ubuntu/data/wavefake_data/generated_audio/ljspeech_melgan_large/16000KHz',\n",
       " '/home/ubuntu/data/wavefake_data/generated_audio/ljspeech_melgan_large/Original',\n",
       " '/home/ubuntu/data/wavefake_data/generated_audio/ljspeech_full_band_melgan/16000KHz',\n",
       " '/home/ubuntu/data/wavefake_data/generated_audio/ljspeech_full_band_melgan/Original',\n",
       " '/home/ubuntu/data/wavefake_data/generated_audio/ljspeech_multi_band_melgan/16000KHz',\n",
       " '/home/ubuntu/data/wavefake_data/generated_audio/ljspeech_multi_band_melgan/Original',\n",
       " '/home/ubuntu/data/wavefake_data/generated_audio/ljspeech_hifiGAN/16000KHz',\n",
       " '/home/ubuntu/data/wavefake_data/generated_audio/ljspeech_hifiGAN/Original',\n",
       " '/home/ubuntu/data/wavefake_data/generated_audio/ljspeech_parallel_wavegan/16000KHz',\n",
       " '/home/ubuntu/data/wavefake_data/generated_audio/ljspeech_parallel_wavegan/Original',\n",
       " '/home/ubuntu/data/wavefake_data/generated_audio/ljspeech_waveglow/16000KHz',\n",
       " '/home/ubuntu/data/wavefake_data/generated_audio/ljspeech_waveglow/Original']"
      ]
     },
     "execution_count": 2,
     "metadata": {},
     "output_type": "execute_result"
    }
   ],
   "source": [
    "path_list = []\n",
    "\n",
    "#biden original world leaders dataset\n",
    "path_list.append(base_path + 'data/world-leaders-dataset/WavFiles/biden_wav_audio/16KHz')\n",
    "path_list.append(base_path + 'data/world-leaders-dataset/WavFiles/biden_wav_audio/44KHz')\n",
    "\n",
    "#biden 11labs fake world leaders dataset\n",
    "path_list.append(base_path + 'data/world-leaders-dataset/11LabsDeepFakes/Biden/16Khz')\n",
    "path_list.append(base_path + 'data/world-leaders-dataset/11LabsDeepFakes/Biden/44Khz')\n",
    "\n",
    "#biden in the wild deepfakes\n",
    "path_list.append(base_path + 'data/InTheWildFakes/Biden/16000KHz')\n",
    "path_list.append(base_path + 'data/InTheWildFakes/Biden/Original')\n",
    "\n",
    "#LJ Speech original all sampling rates\n",
    "path_list.append(base_path + 'data/wavefake_data/LJSpeech_1.1/wavs/16000KHz')\n",
    "path_list.append(base_path + 'data/wavefake_data/LJSpeech_1.1/wavs/Original')\n",
    "\n",
    "#11labs generated audio\n",
    "path_list.append(base_path + 'data/wavefake_data/generated_audio/ljspeech_elevenlabs/16000KHz')\n",
    "path_list.append(base_path + 'data/wavefake_data/generated_audio/ljspeech_elevenlabs/Original')\n",
    "\n",
    "#melgan\n",
    "path_list.append(base_path + 'data/wavefake_data/generated_audio/ljspeech_melgan/16000KHz')\n",
    "path_list.append(base_path + 'data/wavefake_data/generated_audio/ljspeech_melgan/Original')\n",
    "\n",
    "#melgan-large\n",
    "path_list.append(base_path + 'data/wavefake_data/generated_audio/ljspeech_melgan_large/16000KHz')\n",
    "path_list.append(base_path + 'data/wavefake_data/generated_audio/ljspeech_melgan_large/Original')\n",
    "\n",
    "#full band melgan\n",
    "path_list.append(base_path + 'data/wavefake_data/generated_audio/ljspeech_full_band_melgan/16000KHz')\n",
    "path_list.append(base_path + 'data/wavefake_data/generated_audio/ljspeech_full_band_melgan/Original')\n",
    "\n",
    "#multi band melgan\n",
    "path_list.append(base_path + 'data/wavefake_data/generated_audio/ljspeech_multi_band_melgan/16000KHz')\n",
    "path_list.append(base_path + 'data/wavefake_data/generated_audio/ljspeech_multi_band_melgan/Original')\n",
    "\n",
    "#hifigan\n",
    "path_list.append(base_path + 'data/wavefake_data/generated_audio/ljspeech_hifiGAN/16000KHz')\n",
    "path_list.append(base_path + 'data/wavefake_data/generated_audio/ljspeech_hifiGAN/Original')\n",
    "\n",
    "#parallel wavegan\n",
    "path_list.append(base_path + 'data/wavefake_data/generated_audio/ljspeech_parallel_wavegan/16000KHz')\n",
    "path_list.append(base_path + 'data/wavefake_data/generated_audio/ljspeech_parallel_wavegan/Original')\n",
    "\n",
    "#waveglow\n",
    "path_list.append(base_path + 'data/wavefake_data/generated_audio/ljspeech_waveglow/16000KHz')\n",
    "path_list.append(base_path + 'data/wavefake_data/generated_audio/ljspeech_waveglow/Original')\n",
    "\n",
    "path_list"
   ]
  },
  {
   "cell_type": "code",
   "execution_count": 3,
   "id": "3fe2570e-25e3-44fe-bc76-8fbe93e39c4d",
   "metadata": {},
   "outputs": [
    {
     "data": {
      "text/plain": [
       "['OSF-2023-04-01-world-leaders-dataset-WavFiles-biden_wav_audio-16KHz.csv',\n",
       " 'OSF-2023-04-01-world-leaders-dataset-WavFiles-biden_wav_audio-44KHz.csv',\n",
       " 'OSF-2023-04-01-world-leaders-dataset-11LabsDeepFakes-Biden-16Khz.csv',\n",
       " 'OSF-2023-04-01-world-leaders-dataset-11LabsDeepFakes-Biden-44Khz.csv',\n",
       " 'OSF-2023-04-01-InTheWildFakes-Biden-16000KHz.csv',\n",
       " 'OSF-2023-04-01-InTheWildFakes-Biden-Original.csv',\n",
       " 'OSF-2023-04-01-wavefake_data-LJSpeech_1.1-wavs-16000KHz.csv',\n",
       " 'OSF-2023-04-01-wavefake_data-LJSpeech_1.1-wavs-Original.csv',\n",
       " 'OSF-2023-04-01-wavefake_data-generated_audio-ljspeech_elevenlabs-16000KHz.csv',\n",
       " 'OSF-2023-04-01-wavefake_data-generated_audio-ljspeech_elevenlabs-Original.csv',\n",
       " 'OSF-2023-04-01-wavefake_data-generated_audio-ljspeech_melgan-16000KHz.csv',\n",
       " 'OSF-2023-04-01-wavefake_data-generated_audio-ljspeech_melgan-Original.csv',\n",
       " 'OSF-2023-04-01-wavefake_data-generated_audio-ljspeech_melgan_large-16000KHz.csv',\n",
       " 'OSF-2023-04-01-wavefake_data-generated_audio-ljspeech_melgan_large-Original.csv',\n",
       " 'OSF-2023-04-01-wavefake_data-generated_audio-ljspeech_full_band_melgan-16000KHz.csv',\n",
       " 'OSF-2023-04-01-wavefake_data-generated_audio-ljspeech_full_band_melgan-Original.csv',\n",
       " 'OSF-2023-04-01-wavefake_data-generated_audio-ljspeech_multi_band_melgan-16000KHz.csv',\n",
       " 'OSF-2023-04-01-wavefake_data-generated_audio-ljspeech_multi_band_melgan-Original.csv',\n",
       " 'OSF-2023-04-01-wavefake_data-generated_audio-ljspeech_hifiGAN-16000KHz.csv',\n",
       " 'OSF-2023-04-01-wavefake_data-generated_audio-ljspeech_hifiGAN-Original.csv',\n",
       " 'OSF-2023-04-01-wavefake_data-generated_audio-ljspeech_parallel_wavegan-16000KHz.csv',\n",
       " 'OSF-2023-04-01-wavefake_data-generated_audio-ljspeech_parallel_wavegan-Original.csv',\n",
       " 'OSF-2023-04-01-wavefake_data-generated_audio-ljspeech_waveglow-16000KHz.csv',\n",
       " 'OSF-2023-04-01-wavefake_data-generated_audio-ljspeech_waveglow-Original.csv']"
      ]
     },
     "execution_count": 3,
     "metadata": {},
     "output_type": "execute_result"
    }
   ],
   "source": [
    "save_files = ['-'.join(path.split('/')[4:]) for path in path_list]\n",
    "save_files = ['OSF-' + str(date.today()) + '-' + fn + '.csv' for fn in save_files]\n",
    "save_files"
   ]
  },
  {
   "cell_type": "code",
   "execution_count": 4,
   "id": "41d66744-6aae-4344-aa07-6d88e26417fa",
   "metadata": {},
   "outputs": [],
   "source": [
    "save_path = base_path + 'data/OpenSmile/04-2023-OSF-feature-csvs/'\n",
    "save_paths = [save_path + fn for fn in save_files]"
   ]
  },
  {
   "cell_type": "markdown",
   "id": "269da723-4ac6-42fa-bc54-251a5f4552db",
   "metadata": {},
   "source": [
    "#### Feature Extraction:"
   ]
  },
  {
   "cell_type": "code",
   "execution_count": null,
   "id": "e5e12030-799b-4bff-8897-920790032b12",
   "metadata": {},
   "outputs": [
    {
     "name": "stdout",
     "output_type": "stream",
     "text": [
      "processing OSF-2023-04-01-world-leaders-dataset-WavFiles-biden_wav_audio-16KHz.csv.......\n",
      "\n",
      "Generating openSMILE features...\n",
      "\n"
     ]
    },
    {
     "name": "stderr",
     "output_type": "stream",
     "text": [
      "100%|██████████| 214/214 [01:34<00:00,  2.27it/s]\n"
     ]
    },
    {
     "name": "stdout",
     "output_type": "stream",
     "text": [
      "\n",
      "openSMILE features generated... call saveFeatures(filename)\n",
      "\n",
      "Features saved to /home/ubuntu/data/OpenSmile/04-2023-OSF-feature-csvs/OSF-2023-04-01-world-leaders-dataset-WavFiles-biden_wav_audio-16KHz.csv\n",
      "\n",
      "processing OSF-2023-04-01-world-leaders-dataset-WavFiles-biden_wav_audio-44KHz.csv.......\n",
      "\n",
      "Generating openSMILE features...\n",
      "\n"
     ]
    },
    {
     "name": "stderr",
     "output_type": "stream",
     "text": [
      "100%|██████████| 214/214 [05:34<00:00,  1.56s/it]\n"
     ]
    },
    {
     "name": "stdout",
     "output_type": "stream",
     "text": [
      "\n",
      "openSMILE features generated... call saveFeatures(filename)\n",
      "\n",
      "Features saved to /home/ubuntu/data/OpenSmile/04-2023-OSF-feature-csvs/OSF-2023-04-01-world-leaders-dataset-WavFiles-biden_wav_audio-44KHz.csv\n",
      "\n",
      "processing OSF-2023-04-01-world-leaders-dataset-11LabsDeepFakes-Biden-16Khz.csv.......\n",
      "\n",
      "Generating openSMILE features...\n",
      "\n"
     ]
    },
    {
     "name": "stderr",
     "output_type": "stream",
     "text": [
      "100%|██████████| 213/213 [01:17<00:00,  2.74it/s]\n"
     ]
    },
    {
     "name": "stdout",
     "output_type": "stream",
     "text": [
      "\n",
      "openSMILE features generated... call saveFeatures(filename)\n",
      "\n",
      "Features saved to /home/ubuntu/data/OpenSmile/04-2023-OSF-feature-csvs/OSF-2023-04-01-world-leaders-dataset-11LabsDeepFakes-Biden-16Khz.csv\n",
      "\n",
      "processing OSF-2023-04-01-world-leaders-dataset-11LabsDeepFakes-Biden-44Khz.csv.......\n",
      "\n",
      "Generating openSMILE features...\n",
      "\n"
     ]
    },
    {
     "name": "stderr",
     "output_type": "stream",
     "text": [
      "100%|██████████| 213/213 [04:26<00:00,  1.25s/it]\n"
     ]
    },
    {
     "name": "stdout",
     "output_type": "stream",
     "text": [
      "\n",
      "openSMILE features generated... call saveFeatures(filename)\n",
      "\n",
      "Features saved to /home/ubuntu/data/OpenSmile/04-2023-OSF-feature-csvs/OSF-2023-04-01-world-leaders-dataset-11LabsDeepFakes-Biden-44Khz.csv\n",
      "\n",
      "processing OSF-2023-04-01-InTheWildFakes-Biden-16000KHz.csv.......\n",
      "\n",
      "Generating openSMILE features...\n",
      "\n"
     ]
    },
    {
     "name": "stderr",
     "output_type": "stream",
     "text": [
      "100%|██████████| 5/5 [00:03<00:00,  1.51it/s]\n"
     ]
    },
    {
     "name": "stdout",
     "output_type": "stream",
     "text": [
      "\n",
      "openSMILE features generated... call saveFeatures(filename)\n",
      "\n",
      "Features saved to /home/ubuntu/data/OpenSmile/04-2023-OSF-feature-csvs/OSF-2023-04-01-InTheWildFakes-Biden-16000KHz.csv\n",
      "\n",
      "processing OSF-2023-04-01-InTheWildFakes-Biden-Original.csv.......\n",
      "\n",
      "Generating openSMILE features...\n",
      "\n"
     ]
    },
    {
     "name": "stderr",
     "output_type": "stream",
     "text": [
      "100%|██████████| 3/3 [00:04<00:00,  1.42s/it]\n"
     ]
    },
    {
     "name": "stdout",
     "output_type": "stream",
     "text": [
      "\n",
      "openSMILE features generated... call saveFeatures(filename)\n",
      "\n",
      "Features saved to /home/ubuntu/data/OpenSmile/04-2023-OSF-feature-csvs/OSF-2023-04-01-InTheWildFakes-Biden-Original.csv\n",
      "\n",
      "processing OSF-2023-04-01-wavefake_data-LJSpeech_1.1-wavs-16000KHz.csv.......\n",
      "\n",
      "Generating openSMILE features...\n",
      "\n"
     ]
    },
    {
     "name": "stderr",
     "output_type": "stream",
     "text": [
      "100%|██████████| 13100/13100 [42:06<00:00,  5.19it/s]\n"
     ]
    },
    {
     "name": "stdout",
     "output_type": "stream",
     "text": [
      "\n",
      "openSMILE features generated... call saveFeatures(filename)\n",
      "\n",
      "Features saved to /home/ubuntu/data/OpenSmile/04-2023-OSF-feature-csvs/OSF-2023-04-01-wavefake_data-LJSpeech_1.1-wavs-16000KHz.csv\n",
      "\n",
      "processing OSF-2023-04-01-wavefake_data-LJSpeech_1.1-wavs-Original.csv.......\n",
      "\n",
      "Generating openSMILE features...\n",
      "\n"
     ]
    },
    {
     "name": "stderr",
     "output_type": "stream",
     "text": [
      "100%|██████████| 13100/13100 [48:25<00:00,  4.51it/s]\n"
     ]
    },
    {
     "name": "stdout",
     "output_type": "stream",
     "text": [
      "\n",
      "openSMILE features generated... call saveFeatures(filename)\n",
      "\n",
      "Features saved to /home/ubuntu/data/OpenSmile/04-2023-OSF-feature-csvs/OSF-2023-04-01-wavefake_data-LJSpeech_1.1-wavs-Original.csv\n",
      "\n",
      "processing OSF-2023-04-01-wavefake_data-generated_audio-ljspeech_elevenlabs-16000KHz.csv.......\n",
      "\n",
      "Generating openSMILE features...\n",
      "\n"
     ]
    },
    {
     "name": "stderr",
     "output_type": "stream",
     "text": [
      "100%|██████████| 13077/13077 [40:24<00:00,  5.39it/s]\n"
     ]
    },
    {
     "name": "stdout",
     "output_type": "stream",
     "text": [
      "\n",
      "openSMILE features generated... call saveFeatures(filename)\n",
      "\n",
      "Features saved to /home/ubuntu/data/OpenSmile/04-2023-OSF-feature-csvs/OSF-2023-04-01-wavefake_data-generated_audio-ljspeech_elevenlabs-16000KHz.csv\n",
      "\n",
      "processing OSF-2023-04-01-wavefake_data-generated_audio-ljspeech_elevenlabs-Original.csv.......\n",
      "\n",
      "Generating openSMILE features...\n",
      "\n"
     ]
    },
    {
     "name": "stderr",
     "output_type": "stream",
     "text": [
      "100%|██████████| 13077/13077 [1:10:01<00:00,  3.11it/s]\n"
     ]
    },
    {
     "name": "stdout",
     "output_type": "stream",
     "text": [
      "\n",
      "openSMILE features generated... call saveFeatures(filename)\n",
      "\n",
      "Features saved to /home/ubuntu/data/OpenSmile/04-2023-OSF-feature-csvs/OSF-2023-04-01-wavefake_data-generated_audio-ljspeech_elevenlabs-Original.csv\n",
      "\n",
      "processing OSF-2023-04-01-wavefake_data-generated_audio-ljspeech_melgan-16000KHz.csv.......\n",
      "\n",
      "Generating openSMILE features...\n",
      "\n"
     ]
    },
    {
     "name": "stderr",
     "output_type": "stream",
     "text": [
      "100%|██████████| 13100/13100 [41:43<00:00,  5.23it/s]\n"
     ]
    },
    {
     "name": "stdout",
     "output_type": "stream",
     "text": [
      "\n",
      "openSMILE features generated... call saveFeatures(filename)\n",
      "\n",
      "Features saved to /home/ubuntu/data/OpenSmile/04-2023-OSF-feature-csvs/OSF-2023-04-01-wavefake_data-generated_audio-ljspeech_melgan-16000KHz.csv\n",
      "\n",
      "processing OSF-2023-04-01-wavefake_data-generated_audio-ljspeech_melgan-Original.csv.......\n",
      "\n",
      "Generating openSMILE features...\n",
      "\n"
     ]
    },
    {
     "name": "stderr",
     "output_type": "stream",
     "text": [
      "100%|██████████| 13100/13100 [48:33<00:00,  4.50it/s]\n"
     ]
    },
    {
     "name": "stdout",
     "output_type": "stream",
     "text": [
      "\n",
      "openSMILE features generated... call saveFeatures(filename)\n",
      "\n",
      "Features saved to /home/ubuntu/data/OpenSmile/04-2023-OSF-feature-csvs/OSF-2023-04-01-wavefake_data-generated_audio-ljspeech_melgan-Original.csv\n",
      "\n",
      "processing OSF-2023-04-01-wavefake_data-generated_audio-ljspeech_melgan_large-16000KHz.csv.......\n",
      "\n",
      "Generating openSMILE features...\n",
      "\n"
     ]
    },
    {
     "name": "stderr",
     "output_type": "stream",
     "text": [
      "100%|██████████| 13100/13100 [41:43<00:00,  5.23it/s]\n"
     ]
    },
    {
     "name": "stdout",
     "output_type": "stream",
     "text": [
      "\n",
      "openSMILE features generated... call saveFeatures(filename)\n",
      "\n",
      "Features saved to /home/ubuntu/data/OpenSmile/04-2023-OSF-feature-csvs/OSF-2023-04-01-wavefake_data-generated_audio-ljspeech_melgan_large-16000KHz.csv\n",
      "\n",
      "processing OSF-2023-04-01-wavefake_data-generated_audio-ljspeech_melgan_large-Original.csv.......\n",
      "\n",
      "Generating openSMILE features...\n",
      "\n"
     ]
    },
    {
     "name": "stderr",
     "output_type": "stream",
     "text": [
      "100%|██████████| 13100/13100 [47:52<00:00,  4.56it/s]\n"
     ]
    },
    {
     "name": "stdout",
     "output_type": "stream",
     "text": [
      "\n",
      "openSMILE features generated... call saveFeatures(filename)\n",
      "\n",
      "Features saved to /home/ubuntu/data/OpenSmile/04-2023-OSF-feature-csvs/OSF-2023-04-01-wavefake_data-generated_audio-ljspeech_melgan_large-Original.csv\n",
      "\n",
      "processing OSF-2023-04-01-wavefake_data-generated_audio-ljspeech_full_band_melgan-16000KHz.csv.......\n",
      "\n",
      "Generating openSMILE features...\n",
      "\n"
     ]
    },
    {
     "name": "stderr",
     "output_type": "stream",
     "text": [
      "100%|██████████| 13100/13100 [41:58<00:00,  5.20it/s]\n"
     ]
    },
    {
     "name": "stdout",
     "output_type": "stream",
     "text": [
      "\n",
      "openSMILE features generated... call saveFeatures(filename)\n",
      "\n",
      "Features saved to /home/ubuntu/data/OpenSmile/04-2023-OSF-feature-csvs/OSF-2023-04-01-wavefake_data-generated_audio-ljspeech_full_band_melgan-16000KHz.csv\n",
      "\n",
      "processing OSF-2023-04-01-wavefake_data-generated_audio-ljspeech_full_band_melgan-Original.csv.......\n",
      "\n",
      "Generating openSMILE features...\n",
      "\n"
     ]
    },
    {
     "name": "stderr",
     "output_type": "stream",
     "text": [
      "100%|██████████| 13100/13100 [48:39<00:00,  4.49it/s]\n"
     ]
    },
    {
     "name": "stdout",
     "output_type": "stream",
     "text": [
      "\n",
      "openSMILE features generated... call saveFeatures(filename)\n",
      "\n",
      "Features saved to /home/ubuntu/data/OpenSmile/04-2023-OSF-feature-csvs/OSF-2023-04-01-wavefake_data-generated_audio-ljspeech_full_band_melgan-Original.csv\n",
      "\n",
      "processing OSF-2023-04-01-wavefake_data-generated_audio-ljspeech_multi_band_melgan-16000KHz.csv.......\n",
      "\n",
      "Generating openSMILE features...\n",
      "\n"
     ]
    },
    {
     "name": "stderr",
     "output_type": "stream",
     "text": [
      "100%|██████████| 13100/13100 [41:59<00:00,  5.20it/s]\n"
     ]
    },
    {
     "name": "stdout",
     "output_type": "stream",
     "text": [
      "\n",
      "openSMILE features generated... call saveFeatures(filename)\n",
      "\n",
      "Features saved to /home/ubuntu/data/OpenSmile/04-2023-OSF-feature-csvs/OSF-2023-04-01-wavefake_data-generated_audio-ljspeech_multi_band_melgan-16000KHz.csv\n",
      "\n",
      "processing OSF-2023-04-01-wavefake_data-generated_audio-ljspeech_multi_band_melgan-Original.csv.......\n",
      "\n",
      "Generating openSMILE features...\n",
      "\n"
     ]
    },
    {
     "name": "stderr",
     "output_type": "stream",
     "text": [
      "100%|██████████| 13100/13100 [48:24<00:00,  4.51it/s]\n"
     ]
    },
    {
     "name": "stdout",
     "output_type": "stream",
     "text": [
      "\n",
      "openSMILE features generated... call saveFeatures(filename)\n",
      "\n",
      "Features saved to /home/ubuntu/data/OpenSmile/04-2023-OSF-feature-csvs/OSF-2023-04-01-wavefake_data-generated_audio-ljspeech_multi_band_melgan-Original.csv\n",
      "\n",
      "processing OSF-2023-04-01-wavefake_data-generated_audio-ljspeech_hifiGAN-16000KHz.csv.......\n",
      "\n",
      "Generating openSMILE features...\n",
      "\n"
     ]
    },
    {
     "name": "stderr",
     "output_type": "stream",
     "text": [
      "100%|██████████| 13100/13100 [41:54<00:00,  5.21it/s]\n"
     ]
    },
    {
     "name": "stdout",
     "output_type": "stream",
     "text": [
      "\n",
      "openSMILE features generated... call saveFeatures(filename)\n",
      "\n",
      "Features saved to /home/ubuntu/data/OpenSmile/04-2023-OSF-feature-csvs/OSF-2023-04-01-wavefake_data-generated_audio-ljspeech_hifiGAN-16000KHz.csv\n",
      "\n",
      "processing OSF-2023-04-01-wavefake_data-generated_audio-ljspeech_hifiGAN-Original.csv.......\n",
      "\n",
      "Generating openSMILE features...\n",
      "\n"
     ]
    },
    {
     "name": "stderr",
     "output_type": "stream",
     "text": [
      "100%|██████████| 13100/13100 [50:53<00:00,  4.29it/s]\n"
     ]
    },
    {
     "name": "stdout",
     "output_type": "stream",
     "text": [
      "\n",
      "openSMILE features generated... call saveFeatures(filename)\n",
      "\n",
      "Features saved to /home/ubuntu/data/OpenSmile/04-2023-OSF-feature-csvs/OSF-2023-04-01-wavefake_data-generated_audio-ljspeech_hifiGAN-Original.csv\n",
      "\n",
      "processing OSF-2023-04-01-wavefake_data-generated_audio-ljspeech_parallel_wavegan-16000KHz.csv.......\n",
      "\n",
      "Generating openSMILE features...\n",
      "\n"
     ]
    },
    {
     "name": "stderr",
     "output_type": "stream",
     "text": [
      "100%|██████████| 13100/13100 [43:41<00:00,  5.00it/s]\n"
     ]
    },
    {
     "name": "stdout",
     "output_type": "stream",
     "text": [
      "\n",
      "openSMILE features generated... call saveFeatures(filename)\n",
      "\n",
      "Features saved to /home/ubuntu/data/OpenSmile/04-2023-OSF-feature-csvs/OSF-2023-04-01-wavefake_data-generated_audio-ljspeech_parallel_wavegan-16000KHz.csv\n",
      "\n",
      "processing OSF-2023-04-01-wavefake_data-generated_audio-ljspeech_parallel_wavegan-Original.csv.......\n",
      "\n",
      "Generating openSMILE features...\n",
      "\n"
     ]
    },
    {
     "name": "stderr",
     "output_type": "stream",
     "text": [
      "100%|██████████| 13100/13100 [48:40<00:00,  4.49it/s]\n"
     ]
    },
    {
     "name": "stdout",
     "output_type": "stream",
     "text": [
      "\n",
      "openSMILE features generated... call saveFeatures(filename)\n",
      "\n",
      "Features saved to /home/ubuntu/data/OpenSmile/04-2023-OSF-feature-csvs/OSF-2023-04-01-wavefake_data-generated_audio-ljspeech_parallel_wavegan-Original.csv\n",
      "\n",
      "processing OSF-2023-04-01-wavefake_data-generated_audio-ljspeech_waveglow-16000KHz.csv.......\n",
      "\n",
      "Generating openSMILE features...\n",
      "\n"
     ]
    },
    {
     "name": "stderr",
     "output_type": "stream",
     "text": [
      "100%|██████████| 13100/13100 [41:56<00:00,  5.21it/s]\n"
     ]
    },
    {
     "name": "stdout",
     "output_type": "stream",
     "text": [
      "\n",
      "openSMILE features generated... call saveFeatures(filename)\n",
      "\n",
      "Features saved to /home/ubuntu/data/OpenSmile/04-2023-OSF-feature-csvs/OSF-2023-04-01-wavefake_data-generated_audio-ljspeech_waveglow-16000KHz.csv\n",
      "\n",
      "processing OSF-2023-04-01-wavefake_data-generated_audio-ljspeech_waveglow-Original.csv.......\n",
      "\n",
      "Generating openSMILE features...\n",
      "\n"
     ]
    },
    {
     "name": "stderr",
     "output_type": "stream",
     "text": [
      " 83%|████████▎ | 10852/13100 [37:31<11:03,  3.39it/s]"
     ]
    }
   ],
   "source": [
    "for sourcepath, savepath in zip(path_list, save_paths):\n",
    "    \n",
    "    print(\"processing {}.......\\n\".format(savepath.split('/')[-1]))\n",
    "    \n",
    "    try:\n",
    "        featureGenerator = smileFeatureGenerator(sourcepath)\n",
    "    except AssertionError:\n",
    "        print(\"\\nNo wav files found in data path {}\\n\".format(sourcepath))\n",
    "        continue\n",
    "    \n",
    "    featureGenerator.generateFeatures()\n",
    "    featureGenerator.saveFeatures(savepath)    "
   ]
  },
  {
   "cell_type": "code",
   "execution_count": 11,
   "id": "5f6e0b4d-4e19-4e11-a4c2-b5b5cbef19b1",
   "metadata": {},
   "outputs": [
    {
     "name": "stdout",
     "output_type": "stream",
     "text": [
      "Generating openSMILE features...\n",
      "\n"
     ]
    },
    {
     "name": "stderr",
     "output_type": "stream",
     "text": [
      "100%|██████████| 13100/13100 [48:39<00:00,  4.49it/s]\n"
     ]
    },
    {
     "name": "stdout",
     "output_type": "stream",
     "text": [
      "\n",
      "openSMILE features generated... call saveFeatures(filename)\n",
      "\n",
      "Features saved to /home/ubuntu/data/OpenSmile/04-2023-OSF-feature-csvs/OSF-2023-04-01-wavefake_data-generated_audio-ljspeech_waveglow-Original.csv\n",
      "\n"
     ]
    }
   ],
   "source": [
    "try:\n",
    "    featureGenerator = smileFeatureGenerator(path_list[-1])\n",
    "except AssertionError:\n",
    "    print(\"\\nNo wav files found in data path {}\\n\".format(path_list[-1]))\n",
    "\n",
    "featureGenerator.generateFeatures()\n",
    "featureGenerator.saveFeatures(save_paths[-1])"
   ]
  },
  {
   "cell_type": "markdown",
   "id": "85b4d46b-7794-4e84-99f6-5fc5e2358705",
   "metadata": {},
   "source": [
    "## 04-05-2023 UberDuck Extraction:"
   ]
  },
  {
   "cell_type": "code",
   "execution_count": 3,
   "id": "4f0fee74-7fc1-4652-9d1c-37e2f9c0097b",
   "metadata": {},
   "outputs": [
    {
     "data": {
      "text/plain": [
       "['/home/ubuntu/data/wavefake_data/generated_audio/ljspeech_uberduck/Original']"
      ]
     },
     "execution_count": 3,
     "metadata": {},
     "output_type": "execute_result"
    }
   ],
   "source": [
    "path_list = []\n",
    "\n",
    "#biden original world leaders dataset\n",
    "#path_list.append('/home/ubuntu/data/wavefake_data/generated_audio/ljspeech_uberduck/16000KHz')\n",
    "path_list.append('/home/ubuntu/data/wavefake_data/generated_audio/ljspeech_uberduck/Original')\n",
    "\n",
    "path_list"
   ]
  },
  {
   "cell_type": "code",
   "execution_count": 4,
   "id": "ba4f8eef-3c71-48bd-aa52-626e3a31c8c5",
   "metadata": {},
   "outputs": [
    {
     "data": {
      "text/plain": [
       "['OSF-2023-04-06-wavefake_data-generated_audio-ljspeech_uberduck-Original.csv']"
      ]
     },
     "execution_count": 4,
     "metadata": {},
     "output_type": "execute_result"
    }
   ],
   "source": [
    "save_files = ['-'.join(path.split('/')[4:]) for path in path_list]\n",
    "save_files = ['OSF-' + str(date.today()) + '-' + fn + '.csv' for fn in save_files]\n",
    "save_files"
   ]
  },
  {
   "cell_type": "code",
   "execution_count": 5,
   "id": "474f00ee-00c4-45f1-9c1e-f3b9c377c6f4",
   "metadata": {},
   "outputs": [
    {
     "data": {
      "text/plain": [
       "['/home/ubuntu/data/OpenSmile/04-2023-OSF-feature-csvs/OSF-2023-04-06-wavefake_data-generated_audio-ljspeech_uberduck-Original.csv']"
      ]
     },
     "execution_count": 5,
     "metadata": {},
     "output_type": "execute_result"
    }
   ],
   "source": [
    "save_path = base_path + 'data/OpenSmile/04-2023-OSF-feature-csvs/'\n",
    "save_paths = [save_path + fn for fn in save_files]\n",
    "save_paths"
   ]
  },
  {
   "cell_type": "code",
   "execution_count": 6,
   "id": "327ba599-141b-45a1-8257-ba4e3b3a9831",
   "metadata": {},
   "outputs": [
    {
     "name": "stdout",
     "output_type": "stream",
     "text": [
      "processing OSF-2023-04-06-wavefake_data-generated_audio-ljspeech_uberduck-Original.csv.......\n",
      "\n",
      "Generating openSMILE features...\n",
      "\n"
     ]
    },
    {
     "name": "stderr",
     "output_type": "stream",
     "text": [
      " 67%|██████▋   | 8732/13096 [28:14<13:52,  5.24it/s]"
     ]
    },
    {
     "name": "stdout",
     "output_type": "stream",
     "text": [
      "Error processing file: /home/ubuntu/data/wavefake_data/generated_audio/ljspeech_uberduck/Original/LJ033-0007-uberduck.wav\n"
     ]
    },
    {
     "name": "stderr",
     "output_type": "stream",
     "text": [
      " 87%|████████▋ | 11389/13096 [40:21<08:07,  3.50it/s]"
     ]
    },
    {
     "name": "stdout",
     "output_type": "stream",
     "text": [
      "Error processing file: /home/ubuntu/data/wavefake_data/generated_audio/ljspeech_uberduck/Original/LJ014-0063-uberduck.wav\n"
     ]
    },
    {
     "name": "stderr",
     "output_type": "stream",
     "text": [
      "100%|██████████| 13096/13096 [48:56<00:00,  4.46it/s]\n"
     ]
    },
    {
     "name": "stdout",
     "output_type": "stream",
     "text": [
      "\n",
      "openSMILE features generated... call saveFeatures(filename)\n",
      "\n",
      "Features saved to /home/ubuntu/data/OpenSmile/04-2023-OSF-feature-csvs/OSF-2023-04-06-wavefake_data-generated_audio-ljspeech_uberduck-Original.csv\n",
      "\n"
     ]
    }
   ],
   "source": [
    "for sourcepath, savepath in zip(path_list, save_paths):\n",
    "    \n",
    "    print(\"processing {}.......\\n\".format(savepath.split('/')[-1]))\n",
    "    \n",
    "    try:\n",
    "        featureGenerator = smileFeatureGenerator(sourcepath)\n",
    "    except AssertionError:\n",
    "        print(\"\\nNo wav files found in data path {}\\n\".format(sourcepath))\n",
    "        continue\n",
    "    \n",
    "    featureGenerator.generateFeatures()\n",
    "    featureGenerator.saveFeatures(savepath)    "
   ]
  },
  {
   "cell_type": "code",
   "execution_count": null,
   "id": "9524a806-2ec1-4b28-adbb-f0189c4bb1b1",
   "metadata": {},
   "outputs": [],
   "source": []
  },
  {
   "cell_type": "code",
   "execution_count": null,
   "id": "74fd0470-4543-4081-b99e-3b79270b6bd3",
   "metadata": {},
   "outputs": [],
   "source": []
  },
  {
   "cell_type": "code",
   "execution_count": null,
   "id": "0b255bde-7f49-4c40-bf46-af79f814f0bc",
   "metadata": {},
   "outputs": [],
   "source": []
  },
  {
   "cell_type": "code",
   "execution_count": null,
   "id": "64d7ce76-ad2c-4681-b957-291359d96618",
   "metadata": {},
   "outputs": [],
   "source": []
  },
  {
   "cell_type": "code",
   "execution_count": null,
   "id": "2b15e398-a786-4c26-95d4-71c4d753d40e",
   "metadata": {},
   "outputs": [],
   "source": []
  },
  {
   "cell_type": "code",
   "execution_count": null,
   "id": "c5d7f775",
   "metadata": {},
   "outputs": [],
   "source": []
  }
 ],
 "metadata": {
  "kernelspec": {
   "display_name": "deepfake-detection-v2",
   "language": "python",
   "name": "deepfake-detection-v2"
  },
  "language_info": {
   "codemirror_mode": {
    "name": "ipython",
    "version": 3
   },
   "file_extension": ".py",
   "mimetype": "text/x-python",
   "name": "python",
   "nbconvert_exporter": "python",
   "pygments_lexer": "ipython3",
   "version": "3.9.16"
  }
 },
 "nbformat": 4,
 "nbformat_minor": 5
}
