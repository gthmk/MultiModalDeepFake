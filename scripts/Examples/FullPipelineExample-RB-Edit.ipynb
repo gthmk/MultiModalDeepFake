{
 "cells": [
  {
   "cell_type": "code",
   "execution_count": 1,
   "id": "a1754ce9",
   "metadata": {},
   "outputs": [
    {
     "name": "stderr",
     "output_type": "stream",
     "text": [
      "/home/ubuntu/.local/lib/python3.8/site-packages/requests/__init__.py:89: RequestsDependencyWarning: urllib3 (1.24.3) or chardet (5.1.0) doesn't match a supported version!\n",
      "  warnings.warn(\"urllib3 ({}) or chardet ({}) doesn't match a supported \"\n",
      "2023-05-18 04:31:43.389681: I tensorflow/core/platform/cpu_feature_guard.cc:193] This TensorFlow binary is optimized with oneAPI Deep Neural Network Library (oneDNN) to use the following CPU instructions in performance-critical operations:  AVX2 AVX512F AVX512_VNNI FMA\n",
      "To enable them in other operations, rebuild TensorFlow with the appropriate compiler flags.\n",
      "2023-05-18 04:31:43.498061: I tensorflow/core/util/port.cc:104] oneDNN custom operations are on. You may see slightly different numerical results due to floating-point round-off errors from different computation orders. To turn them off, set the environment variable `TF_ENABLE_ONEDNN_OPTS=0`.\n",
      "2023-05-18 04:31:44.042934: W tensorflow/compiler/xla/stream_executor/platform/default/dso_loader.cc:64] Could not load dynamic library 'libnvinfer.so.7'; dlerror: libnvinfer.so.7: cannot open shared object file: No such file or directory\n",
      "2023-05-18 04:31:44.042987: W tensorflow/compiler/xla/stream_executor/platform/default/dso_loader.cc:64] Could not load dynamic library 'libnvinfer_plugin.so.7'; dlerror: libnvinfer_plugin.so.7: cannot open shared object file: No such file or directory\n",
      "2023-05-18 04:31:44.042992: W tensorflow/compiler/tf2tensorrt/utils/py_utils.cc:38] TF-TRT Warning: Cannot dlopen some TensorRT libraries. If you would like to use Nvidia GPU with TensorRT, please make sure the missing libraries mentioned above are installed properly.\n",
      "[NeMo W 2023-05-18 04:31:44 optimizers:55] Apex was not found. Using the lamb or fused_adam optimizer will error out.\n",
      "[NeMo W 2023-05-18 04:31:45 experimental:27] Module <class 'nemo.collections.asr.models.audio_to_audio_model.AudioToAudioModel'> is experimental, not ready for production and is not fully supported. Use at your own risk.\n",
      "[NeMo W 2023-05-18 04:31:45 experimental:27] Module <class 'nemo.collections.asr.modules.audio_modules.SpectrogramToMultichannelFeatures'> is experimental, not ready for production and is not fully supported. Use at your own risk.\n",
      "[NeMo W 2023-05-18 04:31:45 nemo_logging:349] /home/ubuntu/miniconda3/envs/nemo/lib/python3.8/site-packages/torch/jit/annotations.py:309: UserWarning: TorchScript will treat type annotations of Tensor dtype-specific subtypes as if they are normal Tensors. dtype constraints are not enforced in compilation either.\n",
      "      warnings.warn(\"TorchScript will treat type annotations of Tensor \"\n",
      "    \n",
      "[NeMo W 2023-05-18 04:31:46 experimental:27] Module <class 'nemo.collections.asr.data.audio_to_audio.BaseAudioDataset'> is experimental, not ready for production and is not fully supported. Use at your own risk.\n",
      "[NeMo W 2023-05-18 04:31:46 experimental:27] Module <class 'nemo.collections.asr.data.audio_to_audio.AudioToTargetDataset'> is experimental, not ready for production and is not fully supported. Use at your own risk.\n",
      "[NeMo W 2023-05-18 04:31:46 experimental:27] Module <class 'nemo.collections.asr.data.audio_to_audio.AudioToTargetWithReferenceDataset'> is experimental, not ready for production and is not fully supported. Use at your own risk.\n",
      "[NeMo W 2023-05-18 04:31:46 experimental:27] Module <class 'nemo.collections.asr.data.audio_to_audio.AudioToTargetWithEmbeddingDataset'> is experimental, not ready for production and is not fully supported. Use at your own risk.\n",
      "[NeMo W 2023-05-18 04:31:46 experimental:27] Module <class 'nemo.collections.asr.models.enhancement_models.EncMaskDecAudioToAudioModel'> is experimental, not ready for production and is not fully supported. Use at your own risk.\n"
     ]
    }
   ],
   "source": [
    "import sys\n",
    "sys.path.append(\"/home/ubuntu/MultiModalDeepFake\")\n",
    "import nemo.collections.asr as nemo_asr \n",
    "import pandas as pd"
   ]
  },
  {
   "cell_type": "code",
   "execution_count": null,
   "id": "704a1092",
   "metadata": {},
   "outputs": [
    {
     "name": "stderr",
     "output_type": "stream",
     "text": [
      "################################################################################\n",
      "### WARNING, path does not exist: KALDI_ROOT=/mnt/matylda5/iveselyk/Tools/kaldi-trunk\n",
      "###          (please add 'export KALDI_ROOT=<your_path>' in your $HOME/.profile)\n",
      "###          (or run as: KALDI_ROOT=<your_path> python <your_script>.py)\n",
      "################################################################################\n",
      "\n"
     ]
    }
   ],
   "source": [
    "from packages.LJDataLoader import LJDataLoader\n",
    "from packages.AudioEmbeddingsManager import AudioEmbeddingsManager\n",
    "from packages.ModelManager import ModelManager\n",
    "from packages.CadenceModelManager import CadenceModelManager\n",
    "import packages.AnalysisManager as am\n",
    "from packages.SmileFeatureManager import SmileFeatureManager"
   ]
  },
  {
   "cell_type": "code",
   "execution_count": null,
   "id": "c99d6b71-3cd2-40a0-a439-0f579013eb9a",
   "metadata": {},
   "outputs": [],
   "source": [
    "def generate_split(fake_cols, file_path):\n",
    "\n",
    "    \n",
    "    loader = LJDataLoader(data_path=file_path)\n",
    "    loader.sample(0.1)\n",
    "    loader.splitData()\n",
    "\n",
    "    source_architectures = ['Full_Band_MelGan', 'HifiGan', 'MelGan', 'MelGanLarge', 'Multi_Band_MelGan', 'Parallel_WaveGan', 'Waveglow']\n",
    "    new_col_name = 'RandWaveFake'\n",
    "    loader.selectRandomArchitecture(target_col=new_col_name, source_cols=source_architectures)\n",
    "    \n",
    "    source_architectures = ['RandWaveFake', 'ElevenLabs', 'UberDuck']\n",
    "    new_col_name = 'Fake'\n",
    "    loader.selectRandomArchitecture(target_col=new_col_name, source_cols=source_architectures)\n",
    "\n",
    "    #data_df = loader.generateFinalDataFrame(real_col='Real', fake_cols=['RandWaveFake', 'ElevenLabs', 'UberDuck'])\n",
    "    data_df = loader.generateFinalDataFrame(real_col='Real', fake_cols=fake_cols)\n",
    "    \n",
    "    train_count = data_df[data_df['type'] == 'train'].shape[0]\n",
    "    dev_count = data_df[data_df['type'] == 'dev'].shape[0]\n",
    "    test_count = data_df[data_df['type'] == 'test'].shape[0]\n",
    "\n",
    "    print(f'# of Train instances: {train_count}')\n",
    "    print(f'# of Dev instances: {dev_count}')\n",
    "    print(f'# of Test instances: {test_count}')\n",
    "    \n",
    "    return data_df"
   ]
  },
  {
   "cell_type": "code",
   "execution_count": null,
   "id": "73bb9087-a587-4b7f-a270-031cf55bd1c5",
   "metadata": {},
   "outputs": [],
   "source": [
    "def generate_features(data_df):\n",
    "    speaker_model = nemo_asr.models.EncDecSpeakerLabelModel.from_pretrained(model_name='titanet_large')\n",
    "    embedding_manager = AudioEmbeddingsManager(model=speaker_model, data=data_df)\n",
    "    em_feature_df, em_feature_cols = embedding_manager.generateFeatureDf()\n",
    "    \n",
    "    #cadence_manager = CadenceModelManager(data_df)\n",
    "    #cad_feature_df, cad_feature_cols, scalar =  cadence_manager.run_cadence_feature_extraction_pipeline() # Add param for load features or not\n",
    "    \n",
    "    smile_manager = SmileFeatureManager(data_df)\n",
    "    os_binary_feature_df, os_binary_feature_cols = smile_manager.generateFeatureDf('random_forest', label_type='binary')\n",
    "    os_multiclass_feature_df, os_multiclass_feature_cols = smile_manager.generateFeatureDf('random_forest', label_type='multiclass')\n",
    "    \n",
    "    feature_store = {}\n",
    "    feature_store['titanet'] = (em_feature_df, em_feature_cols)\n",
    "    feature_store['openSmile_binary'] = (os_binary_feature_df, os_binary_feature_cols)\n",
    "    feature_store['openSmile_multiclass'] = (os_multiclass_feature_df, os_multiclass_feature_cols)\n",
    "    #feature_store['cadence'] = (cad_feature_df, cad_feature_cols)\n",
    "    \n",
    "    return feature_store\n",
    "    \n",
    "    "
   ]
  },
  {
   "cell_type": "code",
   "execution_count": null,
   "id": "f444f8df-6f02-4f76-869d-a8722e7c5cb3",
   "metadata": {},
   "outputs": [],
   "source": [
    "def train_eval(feature_store, fake_cols):\n",
    "    results_cols = ['model', 'fake_cols', 'label_type', 'acc', 'cls_acc', 'loss']\n",
    "    results = pd.DataFrame(columns=results_cols)\n",
    "    \n",
    "    for label_type in ['label', 'multiclass_label']:\n",
    "        for k, v in feature_store.items():\n",
    "            model_manager = ModelManager('logreg', v[0], v[1], merge_train_dev=True)\n",
    "            model_manager.trainPredict(label_col=label_type)\n",
    "            print(model_manager.class_accuracy)\n",
    "            results = results.append(pd.DataFrame({'model':[k], 'label_type':[label_type], 'fake_cols':[fake_cols], 'acc':[model_manager.accuracy], 'cls_acc':[model_manager.class_accuracy],  'loss':[model_manager.log_loss_value]}))\n",
    "    \n",
    "    return results\n",
    "    \n",
    "    "
   ]
  },
  {
   "cell_type": "code",
   "execution_count": null,
   "id": "a2c8a77a-0903-47d6-a059-9f4101f8cc36",
   "metadata": {},
   "outputs": [],
   "source": [
    "def run(fake_cols, metadata_path, name):\n",
    "    data_df = generate_split(fake_cols, metadata_path)\n",
    "    feature_store = generate_features(data_df)\n",
    "    results = train_eval(feature_store, fake_cols)\n",
    "    results.to_csv(f'/home/ubuntu/data/results/{name}.csv', index=False)\n",
    "    \n",
    "    "
   ]
  },
  {
   "cell_type": "code",
   "execution_count": 7,
   "id": "bc7da5b3-6cc2-4945-b028-b77a074181c3",
   "metadata": {},
   "outputs": [
    {
     "name": "stdout",
     "output_type": "stream",
     "text": [
      "# of Train instances: 1566\n",
      "# of Dev instances: 522\n",
      "# of Test instances: 524\n",
      "[NeMo I 2023-05-18 04:31:48 cloud:56] Found existing object /home/ubuntu/.cache/torch/NeMo/NeMo_1.15.0/titanet-l/492c0ab8416139171dc18c21879a9e45/titanet-l.nemo.\n",
      "[NeMo I 2023-05-18 04:31:48 cloud:62] Re-using file from: /home/ubuntu/.cache/torch/NeMo/NeMo_1.15.0/titanet-l/492c0ab8416139171dc18c21879a9e45/titanet-l.nemo\n",
      "[NeMo I 2023-05-18 04:31:48 common:913] Instantiating model from pre-trained checkpoint\n"
     ]
    },
    {
     "name": "stderr",
     "output_type": "stream",
     "text": [
      "[NeMo W 2023-05-18 04:31:49 modelPT:156] If you intend to do training or fine-tuning, please call the ModelPT.setup_training_data() method and provide a valid configuration file to setup the train data loader.\n",
      "    Train config : \n",
      "    manifest_filepath: /manifests/combined_fisher_swbd_voxceleb12_librispeech/train.json\n",
      "    sample_rate: 16000\n",
      "    labels: null\n",
      "    batch_size: 64\n",
      "    shuffle: true\n",
      "    time_length: 3\n",
      "    is_tarred: false\n",
      "    tarred_audio_filepaths: null\n",
      "    tarred_shard_strategy: scatter\n",
      "    augmentor:\n",
      "      noise:\n",
      "        manifest_path: /manifests/noise/rir_noise_manifest.json\n",
      "        prob: 0.5\n",
      "        min_snr_db: 0\n",
      "        max_snr_db: 15\n",
      "      speed:\n",
      "        prob: 0.5\n",
      "        sr: 16000\n",
      "        resample_type: kaiser_fast\n",
      "        min_speed_rate: 0.95\n",
      "        max_speed_rate: 1.05\n",
      "    num_workers: 15\n",
      "    pin_memory: true\n",
      "    \n",
      "[NeMo W 2023-05-18 04:31:49 modelPT:163] If you intend to do validation, please call the ModelPT.setup_validation_data() or ModelPT.setup_multiple_validation_data() method and provide a valid configuration file to setup the validation data loader(s). \n",
      "    Validation config : \n",
      "    manifest_filepath: /manifests/combined_fisher_swbd_voxceleb12_librispeech/dev.json\n",
      "    sample_rate: 16000\n",
      "    labels: null\n",
      "    batch_size: 128\n",
      "    shuffle: false\n",
      "    time_length: 3\n",
      "    num_workers: 15\n",
      "    pin_memory: true\n",
      "    \n"
     ]
    },
    {
     "name": "stdout",
     "output_type": "stream",
     "text": [
      "[NeMo I 2023-05-18 04:31:49 label_models:126] Setting angular: true/false in decoder is deprecated and will be removed in 1.13 version, use specific loss with _target_\n",
      "[NeMo I 2023-05-18 04:31:49 features:267] PADDING: 16\n",
      "[NeMo I 2023-05-18 04:31:49 save_restore_connector:243] Model EncDecSpeakerLabelModel was successfully restored from /home/ubuntu/.cache/torch/NeMo/NeMo_1.15.0/titanet-l/492c0ab8416139171dc18c21879a9e45/titanet-l.nemo.\n"
     ]
    },
    {
     "name": "stderr",
     "output_type": "stream",
     "text": [
      "100%|██████████| 2/2 [00:00<00:00,  3.69it/s]\n",
      "100%|██████████| 2/2 [00:24<00:00, 12.13s/it]\n"
     ]
    },
    {
     "name": "stdout",
     "output_type": "stream",
     "text": [
      "Initializing data...\n",
      "Standardizing features...\n",
      "smileFeatureSelectFromModel object initialized.\n",
      "\n",
      "\n",
      "Selected features:.\n",
      "\n",
      "1. audspec_lengthL1norm_sma_minPos\n",
      "2. audspec_lengthL1norm_sma_range\n",
      "3. audspec_lengthL1norm_sma_iqr2-3\n",
      "4. duration(seconds)\n",
      "5. audspec_lengthL1norm_sma_quartile3\n",
      "6. audspec_lengthL1norm_sma_iqr1-3\n",
      "7. audspec_lengthL1norm_sma_iqr1-2\n",
      "8. audspec_lengthL1norm_sma_quartile2\n",
      "9. audspec_lengthL1norm_sma_quartile1\n",
      "10. audspec_lengthL1norm_sma_maxPos\n",
      "Initializing data...\n",
      "Standardizing features...\n",
      "smileFeatureSelectFromModel object initialized.\n",
      "\n"
     ]
    },
    {
     "name": "stderr",
     "output_type": "stream",
     "text": [
      "[NeMo W 2023-05-18 04:32:23 nemo_logging:349] /tmp/ipykernel_1578709/405606096.py:10: FutureWarning: The frame.append method is deprecated and will be removed from pandas in a future version. Use pandas.concat instead.\n",
      "      results = results.append(pd.DataFrame({'model':[k], 'label_type':[label_type], 'fake_cols':[fake_cols], 'acc':[model_manager.accuracy], 'cls_acc':[model_manager.class_accuracy],  'loss':[model_manager.log_loss_value]}))\n",
      "    \n",
      "[NeMo W 2023-05-18 04:32:23 nemo_logging:349] /tmp/ipykernel_1578709/405606096.py:10: FutureWarning: The frame.append method is deprecated and will be removed from pandas in a future version. Use pandas.concat instead.\n",
      "      results = results.append(pd.DataFrame({'model':[k], 'label_type':[label_type], 'fake_cols':[fake_cols], 'acc':[model_manager.accuracy], 'cls_acc':[model_manager.class_accuracy],  'loss':[model_manager.log_loss_value]}))\n",
      "    \n",
      "[NeMo W 2023-05-18 04:32:23 nemo_logging:349] /tmp/ipykernel_1578709/405606096.py:10: FutureWarning: The frame.append method is deprecated and will be removed from pandas in a future version. Use pandas.concat instead.\n",
      "      results = results.append(pd.DataFrame({'model':[k], 'label_type':[label_type], 'fake_cols':[fake_cols], 'acc':[model_manager.accuracy], 'cls_acc':[model_manager.class_accuracy],  'loss':[model_manager.log_loss_value]}))\n",
      "    \n",
      "[NeMo W 2023-05-18 04:32:23 nemo_logging:349] /tmp/ipykernel_1578709/405606096.py:10: FutureWarning: The frame.append method is deprecated and will be removed from pandas in a future version. Use pandas.concat instead.\n",
      "      results = results.append(pd.DataFrame({'model':[k], 'label_type':[label_type], 'fake_cols':[fake_cols], 'acc':[model_manager.accuracy], 'cls_acc':[model_manager.class_accuracy],  'loss':[model_manager.log_loss_value]}))\n",
      "    \n",
      "[NeMo W 2023-05-18 04:32:23 nemo_logging:349] /tmp/ipykernel_1578709/405606096.py:10: FutureWarning: The frame.append method is deprecated and will be removed from pandas in a future version. Use pandas.concat instead.\n",
      "      results = results.append(pd.DataFrame({'model':[k], 'label_type':[label_type], 'fake_cols':[fake_cols], 'acc':[model_manager.accuracy], 'cls_acc':[model_manager.class_accuracy],  'loss':[model_manager.log_loss_value]}))\n",
      "    \n",
      "[NeMo W 2023-05-18 04:32:23 nemo_logging:349] /tmp/ipykernel_1578709/405606096.py:10: FutureWarning: The frame.append method is deprecated and will be removed from pandas in a future version. Use pandas.concat instead.\n",
      "      results = results.append(pd.DataFrame({'model':[k], 'label_type':[label_type], 'fake_cols':[fake_cols], 'acc':[model_manager.accuracy], 'cls_acc':[model_manager.class_accuracy],  'loss':[model_manager.log_loss_value]}))\n",
      "    \n"
     ]
    },
    {
     "name": "stdout",
     "output_type": "stream",
     "text": [
      "\n",
      "Selected features:.\n",
      "\n",
      "1. pcm_fftMag_spectralEntropy_sma_de_lpgain\n",
      "2. pcm_fftMag_spectralEntropy_sma_de_range\n",
      "3. pcm_fftMag_spectralEntropy_sma_de_lpc1\n",
      "4. audspec_lengthL1norm_sma_de_peakMeanRel\n",
      "5. audSpec_Rfilt_sma[5]_qregc2\n",
      "6. pcm_fftMag_spectralEntropy_sma_de_kurtosis\n",
      "7. pcm_fftMag_spectralEntropy_sma_linregc2\n",
      "8. pcm_fftMag_spectralEntropy_sma_upleveltime75\n",
      "9. pcm_fftMag_spectralEntropy_sma_upleveltime90\n",
      "10. pcm_fftMag_spectralSlope_sma_de_peakMeanRel\n",
      "{0: 1.0, 1: 1.0}\n",
      "{0: 0.9541984732824428, 1: 0.9694656488549618}\n",
      "{0: 1.0, 1: 1.0}\n",
      "{0: 1.0, 1: 1.0}\n",
      "{0: 0.9541984732824428, 1: 0.9694656488549618}\n",
      "{0: 1.0, 1: 1.0}\n"
     ]
    }
   ],
   "source": [
    "file_path = '/home/ubuntu/data/wavefake_data/LJ_metadata_16000KHz.csv'\n",
    "run(['ElevenLabs'], file_path, '16KHz_ElevenLabs')"
   ]
  },
  {
   "cell_type": "markdown",
   "id": "2f191bb2-eb2b-44f5-9812-512213063804",
   "metadata": {},
   "source": [
    "For the columns, we want:\n",
    "- Which dataset are we using\n",
    "- What are the fake cols\n",
    "- Binary/Multi-Class\n",
    "- Feature Generation Method\n",
    "- Accuracy\n",
    "- Loss"
   ]
  },
  {
   "cell_type": "code",
   "execution_count": 8,
   "id": "e67b5523-356f-4c93-8643-c8db29057b6a",
   "metadata": {},
   "outputs": [
    {
     "name": "stdout",
     "output_type": "stream",
     "text": [
      "# of Train instances: 1566\n",
      "# of Dev instances: 522\n",
      "# of Test instances: 524\n",
      "[NeMo I 2023-05-18 04:32:24 cloud:56] Found existing object /home/ubuntu/.cache/torch/NeMo/NeMo_1.15.0/titanet-l/492c0ab8416139171dc18c21879a9e45/titanet-l.nemo.\n",
      "[NeMo I 2023-05-18 04:32:24 cloud:62] Re-using file from: /home/ubuntu/.cache/torch/NeMo/NeMo_1.15.0/titanet-l/492c0ab8416139171dc18c21879a9e45/titanet-l.nemo\n",
      "[NeMo I 2023-05-18 04:32:24 common:913] Instantiating model from pre-trained checkpoint\n"
     ]
    },
    {
     "name": "stderr",
     "output_type": "stream",
     "text": [
      "[NeMo W 2023-05-18 04:32:24 modelPT:156] If you intend to do training or fine-tuning, please call the ModelPT.setup_training_data() method and provide a valid configuration file to setup the train data loader.\n",
      "    Train config : \n",
      "    manifest_filepath: /manifests/combined_fisher_swbd_voxceleb12_librispeech/train.json\n",
      "    sample_rate: 16000\n",
      "    labels: null\n",
      "    batch_size: 64\n",
      "    shuffle: true\n",
      "    time_length: 3\n",
      "    is_tarred: false\n",
      "    tarred_audio_filepaths: null\n",
      "    tarred_shard_strategy: scatter\n",
      "    augmentor:\n",
      "      noise:\n",
      "        manifest_path: /manifests/noise/rir_noise_manifest.json\n",
      "        prob: 0.5\n",
      "        min_snr_db: 0\n",
      "        max_snr_db: 15\n",
      "      speed:\n",
      "        prob: 0.5\n",
      "        sr: 16000\n",
      "        resample_type: kaiser_fast\n",
      "        min_speed_rate: 0.95\n",
      "        max_speed_rate: 1.05\n",
      "    num_workers: 15\n",
      "    pin_memory: true\n",
      "    \n",
      "[NeMo W 2023-05-18 04:32:24 modelPT:163] If you intend to do validation, please call the ModelPT.setup_validation_data() or ModelPT.setup_multiple_validation_data() method and provide a valid configuration file to setup the validation data loader(s). \n",
      "    Validation config : \n",
      "    manifest_filepath: /manifests/combined_fisher_swbd_voxceleb12_librispeech/dev.json\n",
      "    sample_rate: 16000\n",
      "    labels: null\n",
      "    batch_size: 128\n",
      "    shuffle: false\n",
      "    time_length: 3\n",
      "    num_workers: 15\n",
      "    pin_memory: true\n",
      "    \n"
     ]
    },
    {
     "name": "stdout",
     "output_type": "stream",
     "text": [
      "[NeMo I 2023-05-18 04:32:24 label_models:126] Setting angular: true/false in decoder is deprecated and will be removed in 1.13 version, use specific loss with _target_\n",
      "[NeMo I 2023-05-18 04:32:24 features:267] PADDING: 16\n",
      "[NeMo I 2023-05-18 04:32:25 save_restore_connector:243] Model EncDecSpeakerLabelModel was successfully restored from /home/ubuntu/.cache/torch/NeMo/NeMo_1.15.0/titanet-l/492c0ab8416139171dc18c21879a9e45/titanet-l.nemo.\n"
     ]
    },
    {
     "name": "stderr",
     "output_type": "stream",
     "text": [
      "100%|██████████| 2/2 [00:00<00:00,  4.03it/s]\n",
      "100%|██████████| 2/2 [00:23<00:00, 11.82s/it]\n"
     ]
    },
    {
     "name": "stdout",
     "output_type": "stream",
     "text": [
      "Initializing data...\n",
      "Standardizing features...\n",
      "smileFeatureSelectFromModel object initialized.\n",
      "\n",
      "\n",
      "Selected features:.\n",
      "\n",
      "1. audspec_lengthL1norm_sma_minPos\n",
      "2. audspec_lengthL1norm_sma_range\n",
      "3. audspec_lengthL1norm_sma_iqr2-3\n",
      "4. duration(seconds)\n",
      "5. audspec_lengthL1norm_sma_quartile3\n",
      "6. audspec_lengthL1norm_sma_iqr1-3\n",
      "7. audspec_lengthL1norm_sma_iqr1-2\n",
      "8. audspec_lengthL1norm_sma_quartile2\n",
      "9. audspec_lengthL1norm_sma_quartile1\n",
      "10. audspec_lengthL1norm_sma_maxPos\n",
      "Initializing data...\n",
      "Standardizing features...\n",
      "smileFeatureSelectFromModel object initialized.\n",
      "\n"
     ]
    },
    {
     "name": "stderr",
     "output_type": "stream",
     "text": [
      "[NeMo W 2023-05-18 04:32:58 nemo_logging:349] /tmp/ipykernel_1578709/405606096.py:10: FutureWarning: The frame.append method is deprecated and will be removed from pandas in a future version. Use pandas.concat instead.\n",
      "      results = results.append(pd.DataFrame({'model':[k], 'label_type':[label_type], 'fake_cols':[fake_cols], 'acc':[model_manager.accuracy], 'cls_acc':[model_manager.class_accuracy],  'loss':[model_manager.log_loss_value]}))\n",
      "    \n",
      "[NeMo W 2023-05-18 04:32:58 nemo_logging:349] /tmp/ipykernel_1578709/405606096.py:10: FutureWarning: The frame.append method is deprecated and will be removed from pandas in a future version. Use pandas.concat instead.\n",
      "      results = results.append(pd.DataFrame({'model':[k], 'label_type':[label_type], 'fake_cols':[fake_cols], 'acc':[model_manager.accuracy], 'cls_acc':[model_manager.class_accuracy],  'loss':[model_manager.log_loss_value]}))\n",
      "    \n",
      "[NeMo W 2023-05-18 04:32:58 nemo_logging:349] /tmp/ipykernel_1578709/405606096.py:10: FutureWarning: The frame.append method is deprecated and will be removed from pandas in a future version. Use pandas.concat instead.\n",
      "      results = results.append(pd.DataFrame({'model':[k], 'label_type':[label_type], 'fake_cols':[fake_cols], 'acc':[model_manager.accuracy], 'cls_acc':[model_manager.class_accuracy],  'loss':[model_manager.log_loss_value]}))\n",
      "    \n",
      "[NeMo W 2023-05-18 04:32:58 nemo_logging:349] /tmp/ipykernel_1578709/405606096.py:10: FutureWarning: The frame.append method is deprecated and will be removed from pandas in a future version. Use pandas.concat instead.\n",
      "      results = results.append(pd.DataFrame({'model':[k], 'label_type':[label_type], 'fake_cols':[fake_cols], 'acc':[model_manager.accuracy], 'cls_acc':[model_manager.class_accuracy],  'loss':[model_manager.log_loss_value]}))\n",
      "    \n",
      "[NeMo W 2023-05-18 04:32:58 nemo_logging:349] /tmp/ipykernel_1578709/405606096.py:10: FutureWarning: The frame.append method is deprecated and will be removed from pandas in a future version. Use pandas.concat instead.\n",
      "      results = results.append(pd.DataFrame({'model':[k], 'label_type':[label_type], 'fake_cols':[fake_cols], 'acc':[model_manager.accuracy], 'cls_acc':[model_manager.class_accuracy],  'loss':[model_manager.log_loss_value]}))\n",
      "    \n",
      "[NeMo W 2023-05-18 04:32:58 nemo_logging:349] /tmp/ipykernel_1578709/405606096.py:10: FutureWarning: The frame.append method is deprecated and will be removed from pandas in a future version. Use pandas.concat instead.\n",
      "      results = results.append(pd.DataFrame({'model':[k], 'label_type':[label_type], 'fake_cols':[fake_cols], 'acc':[model_manager.accuracy], 'cls_acc':[model_manager.class_accuracy],  'loss':[model_manager.log_loss_value]}))\n",
      "    \n"
     ]
    },
    {
     "name": "stdout",
     "output_type": "stream",
     "text": [
      "\n",
      "Selected features:.\n",
      "\n",
      "1. mfcc_sma_de[14]_rqmean\n",
      "2. pcm_fftMag_spectralEntropy_sma_de_maxPos\n",
      "3. pcm_fftMag_spectralEntropy_sma_skewness\n",
      "4. pcm_fftMag_spectralEntropy_sma_upleveltime50\n",
      "5. pcm_fftMag_spectralEntropy_sma_de_lpc2\n",
      "6. pcm_fftMag_spectralEntropy_sma_de_lpc0\n",
      "7. pcm_fftMag_spectralEntropy_sma_upleveltime75\n",
      "8. pcm_fftMag_spectralEntropy_sma_minRangeRel\n",
      "9. pcm_fftMag_spectralEntropy_sma_upleveltime90\n",
      "10. pcm_RMSenergy_sma_de_peakMeanRel\n",
      "{0: 1.0, 1: 1.0}\n",
      "{0: 0.9198473282442748, 1: 0.9732824427480916}\n",
      "{0: 1.0, 1: 0.9923664122137404}\n",
      "{0: 1.0, 1: 1.0}\n",
      "{0: 0.9198473282442748, 1: 0.9732824427480916}\n",
      "{0: 1.0, 1: 0.9923664122137404}\n"
     ]
    }
   ],
   "source": [
    "file_path = '/home/ubuntu/data/wavefake_data/LJ_metadata_16000KHz.csv'\n",
    "run(['ElevenLabs'], file_path, '16KHz_ElevenLabs')"
   ]
  },
  {
   "cell_type": "code",
   "execution_count": 9,
   "id": "c323a8b9-1d03-45f3-9161-f289f2795f23",
   "metadata": {},
   "outputs": [
    {
     "name": "stdout",
     "output_type": "stream",
     "text": [
      "# of Train instances: 2349\n",
      "# of Dev instances: 783\n",
      "# of Test instances: 786\n",
      "[NeMo I 2023-05-18 04:32:58 cloud:56] Found existing object /home/ubuntu/.cache/torch/NeMo/NeMo_1.15.0/titanet-l/492c0ab8416139171dc18c21879a9e45/titanet-l.nemo.\n",
      "[NeMo I 2023-05-18 04:32:58 cloud:62] Re-using file from: /home/ubuntu/.cache/torch/NeMo/NeMo_1.15.0/titanet-l/492c0ab8416139171dc18c21879a9e45/titanet-l.nemo\n",
      "[NeMo I 2023-05-18 04:32:58 common:913] Instantiating model from pre-trained checkpoint\n"
     ]
    },
    {
     "name": "stderr",
     "output_type": "stream",
     "text": [
      "[NeMo W 2023-05-18 04:32:59 modelPT:156] If you intend to do training or fine-tuning, please call the ModelPT.setup_training_data() method and provide a valid configuration file to setup the train data loader.\n",
      "    Train config : \n",
      "    manifest_filepath: /manifests/combined_fisher_swbd_voxceleb12_librispeech/train.json\n",
      "    sample_rate: 16000\n",
      "    labels: null\n",
      "    batch_size: 64\n",
      "    shuffle: true\n",
      "    time_length: 3\n",
      "    is_tarred: false\n",
      "    tarred_audio_filepaths: null\n",
      "    tarred_shard_strategy: scatter\n",
      "    augmentor:\n",
      "      noise:\n",
      "        manifest_path: /manifests/noise/rir_noise_manifest.json\n",
      "        prob: 0.5\n",
      "        min_snr_db: 0\n",
      "        max_snr_db: 15\n",
      "      speed:\n",
      "        prob: 0.5\n",
      "        sr: 16000\n",
      "        resample_type: kaiser_fast\n",
      "        min_speed_rate: 0.95\n",
      "        max_speed_rate: 1.05\n",
      "    num_workers: 15\n",
      "    pin_memory: true\n",
      "    \n",
      "[NeMo W 2023-05-18 04:32:59 modelPT:163] If you intend to do validation, please call the ModelPT.setup_validation_data() or ModelPT.setup_multiple_validation_data() method and provide a valid configuration file to setup the validation data loader(s). \n",
      "    Validation config : \n",
      "    manifest_filepath: /manifests/combined_fisher_swbd_voxceleb12_librispeech/dev.json\n",
      "    sample_rate: 16000\n",
      "    labels: null\n",
      "    batch_size: 128\n",
      "    shuffle: false\n",
      "    time_length: 3\n",
      "    num_workers: 15\n",
      "    pin_memory: true\n",
      "    \n"
     ]
    },
    {
     "name": "stdout",
     "output_type": "stream",
     "text": [
      "[NeMo I 2023-05-18 04:32:59 label_models:126] Setting angular: true/false in decoder is deprecated and will be removed in 1.13 version, use specific loss with _target_\n",
      "[NeMo I 2023-05-18 04:32:59 features:267] PADDING: 16\n",
      "[NeMo I 2023-05-18 04:32:59 save_restore_connector:243] Model EncDecSpeakerLabelModel was successfully restored from /home/ubuntu/.cache/torch/NeMo/NeMo_1.15.0/titanet-l/492c0ab8416139171dc18c21879a9e45/titanet-l.nemo.\n"
     ]
    },
    {
     "name": "stderr",
     "output_type": "stream",
     "text": [
      "100%|██████████| 3/3 [00:00<00:00,  3.82it/s]\n",
      "100%|██████████| 3/3 [00:36<00:00, 12.07s/it]\n"
     ]
    },
    {
     "name": "stdout",
     "output_type": "stream",
     "text": [
      "Initializing data...\n",
      "Standardizing features...\n",
      "smileFeatureSelectFromModel object initialized.\n",
      "\n",
      "\n",
      "Selected features:.\n",
      "\n",
      "1. audspec_lengthL1norm_sma_minPos\n",
      "2. audspec_lengthL1norm_sma_range\n",
      "3. audspec_lengthL1norm_sma_iqr2-3\n",
      "4. duration(seconds)\n",
      "5. audspec_lengthL1norm_sma_quartile3\n",
      "6. audspec_lengthL1norm_sma_iqr1-3\n",
      "7. audspec_lengthL1norm_sma_iqr1-2\n",
      "8. audspec_lengthL1norm_sma_quartile2\n",
      "9. audspec_lengthL1norm_sma_quartile1\n",
      "10. audspec_lengthL1norm_sma_maxPos\n",
      "Initializing data...\n",
      "Standardizing features...\n",
      "smileFeatureSelectFromModel object initialized.\n",
      "\n"
     ]
    },
    {
     "name": "stderr",
     "output_type": "stream",
     "text": [
      "[NeMo W 2023-05-18 04:33:52 nemo_logging:349] /tmp/ipykernel_1578709/405606096.py:10: FutureWarning: The frame.append method is deprecated and will be removed from pandas in a future version. Use pandas.concat instead.\n",
      "      results = results.append(pd.DataFrame({'model':[k], 'label_type':[label_type], 'fake_cols':[fake_cols], 'acc':[model_manager.accuracy], 'cls_acc':[model_manager.class_accuracy],  'loss':[model_manager.log_loss_value]}))\n",
      "    \n",
      "[NeMo W 2023-05-18 04:33:52 nemo_logging:349] /tmp/ipykernel_1578709/405606096.py:10: FutureWarning: The frame.append method is deprecated and will be removed from pandas in a future version. Use pandas.concat instead.\n",
      "      results = results.append(pd.DataFrame({'model':[k], 'label_type':[label_type], 'fake_cols':[fake_cols], 'acc':[model_manager.accuracy], 'cls_acc':[model_manager.class_accuracy],  'loss':[model_manager.log_loss_value]}))\n",
      "    \n",
      "[NeMo W 2023-05-18 04:33:52 nemo_logging:349] /home/ubuntu/.local/lib/python3.8/site-packages/sklearn/linear_model/_logistic.py:458: ConvergenceWarning: lbfgs failed to converge (status=1):\n",
      "    STOP: TOTAL NO. of ITERATIONS REACHED LIMIT.\n",
      "    \n",
      "    Increase the number of iterations (max_iter) or scale the data as shown in:\n",
      "        https://scikit-learn.org/stable/modules/preprocessing.html\n",
      "    Please also refer to the documentation for alternative solver options:\n",
      "        https://scikit-learn.org/stable/modules/linear_model.html#logistic-regression\n",
      "      n_iter_i = _check_optimize_result(\n",
      "    \n",
      "[NeMo W 2023-05-18 04:33:52 nemo_logging:349] /tmp/ipykernel_1578709/405606096.py:10: FutureWarning: The frame.append method is deprecated and will be removed from pandas in a future version. Use pandas.concat instead.\n",
      "      results = results.append(pd.DataFrame({'model':[k], 'label_type':[label_type], 'fake_cols':[fake_cols], 'acc':[model_manager.accuracy], 'cls_acc':[model_manager.class_accuracy],  'loss':[model_manager.log_loss_value]}))\n",
      "    \n",
      "[NeMo W 2023-05-18 04:33:52 nemo_logging:349] /tmp/ipykernel_1578709/405606096.py:10: FutureWarning: The frame.append method is deprecated and will be removed from pandas in a future version. Use pandas.concat instead.\n",
      "      results = results.append(pd.DataFrame({'model':[k], 'label_type':[label_type], 'fake_cols':[fake_cols], 'acc':[model_manager.accuracy], 'cls_acc':[model_manager.class_accuracy],  'loss':[model_manager.log_loss_value]}))\n",
      "    \n"
     ]
    },
    {
     "name": "stdout",
     "output_type": "stream",
     "text": [
      "\n",
      "Selected features:.\n",
      "\n",
      "1. pcm_fftMag_spectralEntropy_sma_de_maxPos\n",
      "2. mfcc_sma_de[8]_lpgain\n",
      "3. audspec_lengthL1norm_sma_minPos\n",
      "4. pcm_fftMag_spectralEntropy_sma_de_lpc1\n",
      "5. mfcc_sma_de[13]_lpgain\n",
      "6. pcm_fftMag_spectralEntropy_sma_upleveltime75\n",
      "7. pcm_fftMag_spectralEntropy_sma_kurtosis\n",
      "8. pcm_RMSenergy_sma_de_peakMeanRel\n",
      "9. mfcc_sma[13]_lpgain\n",
      "10. mfcc_sma_de[14]_meanFallingSlope\n",
      "{0: 0.9885496183206107, 1: 1.0}\n",
      "{0: 0.6679389312977099, 1: 0.9064885496183206}\n",
      "{0: 0.9427480916030534, 1: 0.9599236641221374}\n",
      "{0: 1.0, 1: 1.0, 2: 1.0}\n"
     ]
    },
    {
     "name": "stderr",
     "output_type": "stream",
     "text": [
      "[NeMo W 2023-05-18 04:33:52 nemo_logging:349] /home/ubuntu/.local/lib/python3.8/site-packages/sklearn/linear_model/_logistic.py:458: ConvergenceWarning: lbfgs failed to converge (status=1):\n",
      "    STOP: TOTAL NO. of ITERATIONS REACHED LIMIT.\n",
      "    \n",
      "    Increase the number of iterations (max_iter) or scale the data as shown in:\n",
      "        https://scikit-learn.org/stable/modules/preprocessing.html\n",
      "    Please also refer to the documentation for alternative solver options:\n",
      "        https://scikit-learn.org/stable/modules/linear_model.html#logistic-regression\n",
      "      n_iter_i = _check_optimize_result(\n",
      "    \n",
      "[NeMo W 2023-05-18 04:33:52 nemo_logging:349] /tmp/ipykernel_1578709/405606096.py:10: FutureWarning: The frame.append method is deprecated and will be removed from pandas in a future version. Use pandas.concat instead.\n",
      "      results = results.append(pd.DataFrame({'model':[k], 'label_type':[label_type], 'fake_cols':[fake_cols], 'acc':[model_manager.accuracy], 'cls_acc':[model_manager.class_accuracy],  'loss':[model_manager.log_loss_value]}))\n",
      "    \n",
      "[NeMo W 2023-05-18 04:33:52 nemo_logging:349] /home/ubuntu/.local/lib/python3.8/site-packages/sklearn/linear_model/_logistic.py:458: ConvergenceWarning: lbfgs failed to converge (status=1):\n",
      "    STOP: TOTAL NO. of ITERATIONS REACHED LIMIT.\n",
      "    \n",
      "    Increase the number of iterations (max_iter) or scale the data as shown in:\n",
      "        https://scikit-learn.org/stable/modules/preprocessing.html\n",
      "    Please also refer to the documentation for alternative solver options:\n",
      "        https://scikit-learn.org/stable/modules/linear_model.html#logistic-regression\n",
      "      n_iter_i = _check_optimize_result(\n",
      "    \n",
      "[NeMo W 2023-05-18 04:33:52 nemo_logging:349] /tmp/ipykernel_1578709/405606096.py:10: FutureWarning: The frame.append method is deprecated and will be removed from pandas in a future version. Use pandas.concat instead.\n",
      "      results = results.append(pd.DataFrame({'model':[k], 'label_type':[label_type], 'fake_cols':[fake_cols], 'acc':[model_manager.accuracy], 'cls_acc':[model_manager.class_accuracy],  'loss':[model_manager.log_loss_value]}))\n",
      "    \n"
     ]
    },
    {
     "name": "stdout",
     "output_type": "stream",
     "text": [
      "{0: 0.7099236641221374, 1: 0.7519083969465649, 2: 0.9656488549618321}\n",
      "{0: 0.9580152671755725, 1: 0.9732824427480916, 2: 0.9809160305343512}\n"
     ]
    }
   ],
   "source": [
    "file_path = '/home/ubuntu/data/wavefake_data/LJ_metadata_16000KHz.csv'\n",
    "run(['UberDuck', 'ElevenLabs'], file_path, '16KHz_ElevenLabs_and_UberDuck')"
   ]
  },
  {
   "cell_type": "code",
   "execution_count": 10,
   "id": "95bd03da-e36e-4ce6-909c-d519188eb049",
   "metadata": {},
   "outputs": [
    {
     "name": "stdout",
     "output_type": "stream",
     "text": [
      "# of Train instances: 3132\n",
      "# of Dev instances: 1044\n",
      "# of Test instances: 1048\n",
      "[NeMo I 2023-05-18 04:33:53 cloud:56] Found existing object /home/ubuntu/.cache/torch/NeMo/NeMo_1.15.0/titanet-l/492c0ab8416139171dc18c21879a9e45/titanet-l.nemo.\n",
      "[NeMo I 2023-05-18 04:33:53 cloud:62] Re-using file from: /home/ubuntu/.cache/torch/NeMo/NeMo_1.15.0/titanet-l/492c0ab8416139171dc18c21879a9e45/titanet-l.nemo\n",
      "[NeMo I 2023-05-18 04:33:53 common:913] Instantiating model from pre-trained checkpoint\n"
     ]
    },
    {
     "name": "stderr",
     "output_type": "stream",
     "text": [
      "[NeMo W 2023-05-18 04:33:53 modelPT:156] If you intend to do training or fine-tuning, please call the ModelPT.setup_training_data() method and provide a valid configuration file to setup the train data loader.\n",
      "    Train config : \n",
      "    manifest_filepath: /manifests/combined_fisher_swbd_voxceleb12_librispeech/train.json\n",
      "    sample_rate: 16000\n",
      "    labels: null\n",
      "    batch_size: 64\n",
      "    shuffle: true\n",
      "    time_length: 3\n",
      "    is_tarred: false\n",
      "    tarred_audio_filepaths: null\n",
      "    tarred_shard_strategy: scatter\n",
      "    augmentor:\n",
      "      noise:\n",
      "        manifest_path: /manifests/noise/rir_noise_manifest.json\n",
      "        prob: 0.5\n",
      "        min_snr_db: 0\n",
      "        max_snr_db: 15\n",
      "      speed:\n",
      "        prob: 0.5\n",
      "        sr: 16000\n",
      "        resample_type: kaiser_fast\n",
      "        min_speed_rate: 0.95\n",
      "        max_speed_rate: 1.05\n",
      "    num_workers: 15\n",
      "    pin_memory: true\n",
      "    \n",
      "[NeMo W 2023-05-18 04:33:53 modelPT:163] If you intend to do validation, please call the ModelPT.setup_validation_data() or ModelPT.setup_multiple_validation_data() method and provide a valid configuration file to setup the validation data loader(s). \n",
      "    Validation config : \n",
      "    manifest_filepath: /manifests/combined_fisher_swbd_voxceleb12_librispeech/dev.json\n",
      "    sample_rate: 16000\n",
      "    labels: null\n",
      "    batch_size: 128\n",
      "    shuffle: false\n",
      "    time_length: 3\n",
      "    num_workers: 15\n",
      "    pin_memory: true\n",
      "    \n"
     ]
    },
    {
     "name": "stdout",
     "output_type": "stream",
     "text": [
      "[NeMo I 2023-05-18 04:33:53 label_models:126] Setting angular: true/false in decoder is deprecated and will be removed in 1.13 version, use specific loss with _target_\n",
      "[NeMo I 2023-05-18 04:33:53 features:267] PADDING: 16\n",
      "[NeMo I 2023-05-18 04:33:54 save_restore_connector:243] Model EncDecSpeakerLabelModel was successfully restored from /home/ubuntu/.cache/torch/NeMo/NeMo_1.15.0/titanet-l/492c0ab8416139171dc18c21879a9e45/titanet-l.nemo.\n"
     ]
    },
    {
     "name": "stderr",
     "output_type": "stream",
     "text": [
      "100%|██████████| 10/10 [00:02<00:00,  3.97it/s]\n",
      "100%|██████████| 10/10 [01:58<00:00, 11.89s/it]\n"
     ]
    },
    {
     "name": "stdout",
     "output_type": "stream",
     "text": [
      "Initializing data...\n",
      "Standardizing features...\n",
      "smileFeatureSelectFromModel object initialized.\n",
      "\n",
      "\n",
      "Selected features:.\n",
      "\n",
      "1. audspec_lengthL1norm_sma_minPos\n",
      "2. audspec_lengthL1norm_sma_range\n",
      "3. audspec_lengthL1norm_sma_iqr2-3\n",
      "4. duration(seconds)\n",
      "5. audspec_lengthL1norm_sma_quartile3\n",
      "6. audspec_lengthL1norm_sma_iqr1-3\n",
      "7. audspec_lengthL1norm_sma_iqr1-2\n",
      "8. audspec_lengthL1norm_sma_quartile2\n",
      "9. audspec_lengthL1norm_sma_quartile1\n",
      "10. audspec_lengthL1norm_sma_maxPos\n",
      "Initializing data...\n",
      "Standardizing features...\n",
      "smileFeatureSelectFromModel object initialized.\n",
      "\n"
     ]
    },
    {
     "name": "stderr",
     "output_type": "stream",
     "text": [
      "[NeMo W 2023-05-18 04:36:19 nemo_logging:349] /tmp/ipykernel_1578709/405606096.py:10: FutureWarning: The frame.append method is deprecated and will be removed from pandas in a future version. Use pandas.concat instead.\n",
      "      results = results.append(pd.DataFrame({'model':[k], 'label_type':[label_type], 'fake_cols':[fake_cols], 'acc':[model_manager.accuracy], 'cls_acc':[model_manager.class_accuracy],  'loss':[model_manager.log_loss_value]}))\n",
      "    \n",
      "[NeMo W 2023-05-18 04:36:19 nemo_logging:349] /tmp/ipykernel_1578709/405606096.py:10: FutureWarning: The frame.append method is deprecated and will be removed from pandas in a future version. Use pandas.concat instead.\n",
      "      results = results.append(pd.DataFrame({'model':[k], 'label_type':[label_type], 'fake_cols':[fake_cols], 'acc':[model_manager.accuracy], 'cls_acc':[model_manager.class_accuracy],  'loss':[model_manager.log_loss_value]}))\n",
      "    \n",
      "[NeMo W 2023-05-18 04:36:19 nemo_logging:349] /home/ubuntu/.local/lib/python3.8/site-packages/sklearn/linear_model/_logistic.py:458: ConvergenceWarning: lbfgs failed to converge (status=1):\n",
      "    STOP: TOTAL NO. of ITERATIONS REACHED LIMIT.\n",
      "    \n",
      "    Increase the number of iterations (max_iter) or scale the data as shown in:\n",
      "        https://scikit-learn.org/stable/modules/preprocessing.html\n",
      "    Please also refer to the documentation for alternative solver options:\n",
      "        https://scikit-learn.org/stable/modules/linear_model.html#logistic-regression\n",
      "      n_iter_i = _check_optimize_result(\n",
      "    \n",
      "[NeMo W 2023-05-18 04:36:19 nemo_logging:349] /tmp/ipykernel_1578709/405606096.py:10: FutureWarning: The frame.append method is deprecated and will be removed from pandas in a future version. Use pandas.concat instead.\n",
      "      results = results.append(pd.DataFrame({'model':[k], 'label_type':[label_type], 'fake_cols':[fake_cols], 'acc':[model_manager.accuracy], 'cls_acc':[model_manager.class_accuracy],  'loss':[model_manager.log_loss_value]}))\n",
      "    \n",
      "[NeMo W 2023-05-18 04:36:19 nemo_logging:349] /tmp/ipykernel_1578709/405606096.py:10: FutureWarning: The frame.append method is deprecated and will be removed from pandas in a future version. Use pandas.concat instead.\n",
      "      results = results.append(pd.DataFrame({'model':[k], 'label_type':[label_type], 'fake_cols':[fake_cols], 'acc':[model_manager.accuracy], 'cls_acc':[model_manager.class_accuracy],  'loss':[model_manager.log_loss_value]}))\n",
      "    \n"
     ]
    },
    {
     "name": "stdout",
     "output_type": "stream",
     "text": [
      "\n",
      "Selected features:.\n",
      "\n",
      "1. pcm_fftMag_spectralEntropy_sma_de_range\n",
      "2. audspec_lengthL1norm_sma_de_peakMeanRel\n",
      "3. pcm_fftMag_spectralEntropy_sma_qregerrQ\n",
      "4. pcm_fftMag_spectralEntropy_sma_de_lpc0\n",
      "5. jitterDDP_sma_quartile1\n",
      "6. pcm_fftMag_spectralEntropy_sma_range\n",
      "7. jitterDDP_sma_percentile1.0\n",
      "8. mfcc_sma[9]_lpgain\n",
      "9. mfcc_sma[14]_quartile3\n",
      "10. pcm_fftMag_spectralEntropy_sma_kurtosis\n",
      "{0: 0.5343511450381679, 1: 0.9987277353689568}\n",
      "{0: 0.2480916030534351, 1: 0.94529262086514}\n",
      "{0: 0.5419847328244275, 1: 0.9134860050890585}\n",
      "{0: 0.9656488549618321, 1: 1.0, 2: 0.9961832061068703, 3: 0.9580152671755725}\n"
     ]
    },
    {
     "name": "stderr",
     "output_type": "stream",
     "text": [
      "[NeMo W 2023-05-18 04:36:19 nemo_logging:349] /home/ubuntu/.local/lib/python3.8/site-packages/sklearn/linear_model/_logistic.py:458: ConvergenceWarning: lbfgs failed to converge (status=1):\n",
      "    STOP: TOTAL NO. of ITERATIONS REACHED LIMIT.\n",
      "    \n",
      "    Increase the number of iterations (max_iter) or scale the data as shown in:\n",
      "        https://scikit-learn.org/stable/modules/preprocessing.html\n",
      "    Please also refer to the documentation for alternative solver options:\n",
      "        https://scikit-learn.org/stable/modules/linear_model.html#logistic-regression\n",
      "      n_iter_i = _check_optimize_result(\n",
      "    \n",
      "[NeMo W 2023-05-18 04:36:19 nemo_logging:349] /tmp/ipykernel_1578709/405606096.py:10: FutureWarning: The frame.append method is deprecated and will be removed from pandas in a future version. Use pandas.concat instead.\n",
      "      results = results.append(pd.DataFrame({'model':[k], 'label_type':[label_type], 'fake_cols':[fake_cols], 'acc':[model_manager.accuracy], 'cls_acc':[model_manager.class_accuracy],  'loss':[model_manager.log_loss_value]}))\n",
      "    \n",
      "[NeMo W 2023-05-18 04:36:19 nemo_logging:349] /home/ubuntu/.local/lib/python3.8/site-packages/sklearn/linear_model/_logistic.py:458: ConvergenceWarning: lbfgs failed to converge (status=1):\n",
      "    STOP: TOTAL NO. of ITERATIONS REACHED LIMIT.\n",
      "    \n",
      "    Increase the number of iterations (max_iter) or scale the data as shown in:\n",
      "        https://scikit-learn.org/stable/modules/preprocessing.html\n",
      "    Please also refer to the documentation for alternative solver options:\n",
      "        https://scikit-learn.org/stable/modules/linear_model.html#logistic-regression\n",
      "      n_iter_i = _check_optimize_result(\n",
      "    \n",
      "[NeMo W 2023-05-18 04:36:19 nemo_logging:349] /tmp/ipykernel_1578709/405606096.py:10: FutureWarning: The frame.append method is deprecated and will be removed from pandas in a future version. Use pandas.concat instead.\n",
      "      results = results.append(pd.DataFrame({'model':[k], 'label_type':[label_type], 'fake_cols':[fake_cols], 'acc':[model_manager.accuracy], 'cls_acc':[model_manager.class_accuracy],  'loss':[model_manager.log_loss_value]}))\n",
      "    \n"
     ]
    },
    {
     "name": "stdout",
     "output_type": "stream",
     "text": [
      "{0: 0.5343511450381679, 1: 0.9694656488549618, 2: 0.7022900763358778, 3: 0.24045801526717558}\n",
      "{0: 0.6679389312977099, 1: 0.9923664122137404, 2: 0.8816793893129771, 3: 0.5458015267175572}\n"
     ]
    }
   ],
   "source": [
    "file_path = '/home/ubuntu/data/wavefake_data/LJ_metadata_16000KHz.csv'\n",
    "run(['ElevenLabs', 'UberDuck', 'RandWaveFake'], file_path, '16KHz_Mix')"
   ]
  },
  {
   "cell_type": "code",
   "execution_count": 11,
   "id": "f0ff1f08-e8c3-4531-bfd3-3cb455946e28",
   "metadata": {},
   "outputs": [
    {
     "name": "stdout",
     "output_type": "stream",
     "text": [
      "# of Train instances: 1566\n",
      "# of Dev instances: 522\n",
      "# of Test instances: 522\n",
      "[NeMo I 2023-05-18 04:36:19 cloud:56] Found existing object /home/ubuntu/.cache/torch/NeMo/NeMo_1.15.0/titanet-l/492c0ab8416139171dc18c21879a9e45/titanet-l.nemo.\n",
      "[NeMo I 2023-05-18 04:36:19 cloud:62] Re-using file from: /home/ubuntu/.cache/torch/NeMo/NeMo_1.15.0/titanet-l/492c0ab8416139171dc18c21879a9e45/titanet-l.nemo\n",
      "[NeMo I 2023-05-18 04:36:19 common:913] Instantiating model from pre-trained checkpoint\n"
     ]
    },
    {
     "name": "stderr",
     "output_type": "stream",
     "text": [
      "[NeMo W 2023-05-18 04:36:20 modelPT:156] If you intend to do training or fine-tuning, please call the ModelPT.setup_training_data() method and provide a valid configuration file to setup the train data loader.\n",
      "    Train config : \n",
      "    manifest_filepath: /manifests/combined_fisher_swbd_voxceleb12_librispeech/train.json\n",
      "    sample_rate: 16000\n",
      "    labels: null\n",
      "    batch_size: 64\n",
      "    shuffle: true\n",
      "    time_length: 3\n",
      "    is_tarred: false\n",
      "    tarred_audio_filepaths: null\n",
      "    tarred_shard_strategy: scatter\n",
      "    augmentor:\n",
      "      noise:\n",
      "        manifest_path: /manifests/noise/rir_noise_manifest.json\n",
      "        prob: 0.5\n",
      "        min_snr_db: 0\n",
      "        max_snr_db: 15\n",
      "      speed:\n",
      "        prob: 0.5\n",
      "        sr: 16000\n",
      "        resample_type: kaiser_fast\n",
      "        min_speed_rate: 0.95\n",
      "        max_speed_rate: 1.05\n",
      "    num_workers: 15\n",
      "    pin_memory: true\n",
      "    \n",
      "[NeMo W 2023-05-18 04:36:20 modelPT:163] If you intend to do validation, please call the ModelPT.setup_validation_data() or ModelPT.setup_multiple_validation_data() method and provide a valid configuration file to setup the validation data loader(s). \n",
      "    Validation config : \n",
      "    manifest_filepath: /manifests/combined_fisher_swbd_voxceleb12_librispeech/dev.json\n",
      "    sample_rate: 16000\n",
      "    labels: null\n",
      "    batch_size: 128\n",
      "    shuffle: false\n",
      "    time_length: 3\n",
      "    num_workers: 15\n",
      "    pin_memory: true\n",
      "    \n"
     ]
    },
    {
     "name": "stdout",
     "output_type": "stream",
     "text": [
      "[NeMo I 2023-05-18 04:36:20 label_models:126] Setting angular: true/false in decoder is deprecated and will be removed in 1.13 version, use specific loss with _target_\n",
      "[NeMo I 2023-05-18 04:36:20 features:267] PADDING: 16\n",
      "[NeMo I 2023-05-18 04:36:20 save_restore_connector:243] Model EncDecSpeakerLabelModel was successfully restored from /home/ubuntu/.cache/torch/NeMo/NeMo_1.15.0/titanet-l/492c0ab8416139171dc18c21879a9e45/titanet-l.nemo.\n"
     ]
    },
    {
     "name": "stderr",
     "output_type": "stream",
     "text": [
      "100%|██████████| 2/2 [00:00<00:00,  3.89it/s]\n",
      "100%|██████████| 2/2 [00:23<00:00, 11.92s/it]\n"
     ]
    },
    {
     "name": "stdout",
     "output_type": "stream",
     "text": [
      "Initializing data...\n",
      "Standardizing features...\n",
      "smileFeatureSelectFromModel object initialized.\n",
      "\n",
      "\n",
      "Selected features:.\n",
      "\n",
      "1. audspec_lengthL1norm_sma_minPos\n",
      "2. audspec_lengthL1norm_sma_range\n",
      "3. audspec_lengthL1norm_sma_iqr2-3\n",
      "4. duration(seconds)\n",
      "5. audspec_lengthL1norm_sma_quartile3\n",
      "6. audspec_lengthL1norm_sma_iqr1-3\n",
      "7. audspec_lengthL1norm_sma_iqr1-2\n",
      "8. audspec_lengthL1norm_sma_quartile2\n",
      "9. audspec_lengthL1norm_sma_quartile1\n",
      "10. audspec_lengthL1norm_sma_maxPos\n",
      "Initializing data...\n",
      "Standardizing features...\n",
      "smileFeatureSelectFromModel object initialized.\n",
      "\n"
     ]
    },
    {
     "name": "stderr",
     "output_type": "stream",
     "text": [
      "[NeMo W 2023-05-18 04:36:56 nemo_logging:349] /tmp/ipykernel_1578709/405606096.py:10: FutureWarning: The frame.append method is deprecated and will be removed from pandas in a future version. Use pandas.concat instead.\n",
      "      results = results.append(pd.DataFrame({'model':[k], 'label_type':[label_type], 'fake_cols':[fake_cols], 'acc':[model_manager.accuracy], 'cls_acc':[model_manager.class_accuracy],  'loss':[model_manager.log_loss_value]}))\n",
      "    \n",
      "[NeMo W 2023-05-18 04:36:56 nemo_logging:349] /tmp/ipykernel_1578709/405606096.py:10: FutureWarning: The frame.append method is deprecated and will be removed from pandas in a future version. Use pandas.concat instead.\n",
      "      results = results.append(pd.DataFrame({'model':[k], 'label_type':[label_type], 'fake_cols':[fake_cols], 'acc':[model_manager.accuracy], 'cls_acc':[model_manager.class_accuracy],  'loss':[model_manager.log_loss_value]}))\n",
      "    \n",
      "[NeMo W 2023-05-18 04:36:56 nemo_logging:349] /tmp/ipykernel_1578709/405606096.py:10: FutureWarning: The frame.append method is deprecated and will be removed from pandas in a future version. Use pandas.concat instead.\n",
      "      results = results.append(pd.DataFrame({'model':[k], 'label_type':[label_type], 'fake_cols':[fake_cols], 'acc':[model_manager.accuracy], 'cls_acc':[model_manager.class_accuracy],  'loss':[model_manager.log_loss_value]}))\n",
      "    \n",
      "[NeMo W 2023-05-18 04:36:56 nemo_logging:349] /tmp/ipykernel_1578709/405606096.py:10: FutureWarning: The frame.append method is deprecated and will be removed from pandas in a future version. Use pandas.concat instead.\n",
      "      results = results.append(pd.DataFrame({'model':[k], 'label_type':[label_type], 'fake_cols':[fake_cols], 'acc':[model_manager.accuracy], 'cls_acc':[model_manager.class_accuracy],  'loss':[model_manager.log_loss_value]}))\n",
      "    \n",
      "[NeMo W 2023-05-18 04:36:56 nemo_logging:349] /tmp/ipykernel_1578709/405606096.py:10: FutureWarning: The frame.append method is deprecated and will be removed from pandas in a future version. Use pandas.concat instead.\n",
      "      results = results.append(pd.DataFrame({'model':[k], 'label_type':[label_type], 'fake_cols':[fake_cols], 'acc':[model_manager.accuracy], 'cls_acc':[model_manager.class_accuracy],  'loss':[model_manager.log_loss_value]}))\n",
      "    \n",
      "[NeMo W 2023-05-18 04:36:56 nemo_logging:349] /tmp/ipykernel_1578709/405606096.py:10: FutureWarning: The frame.append method is deprecated and will be removed from pandas in a future version. Use pandas.concat instead.\n",
      "      results = results.append(pd.DataFrame({'model':[k], 'label_type':[label_type], 'fake_cols':[fake_cols], 'acc':[model_manager.accuracy], 'cls_acc':[model_manager.class_accuracy],  'loss':[model_manager.log_loss_value]}))\n",
      "    \n"
     ]
    },
    {
     "name": "stdout",
     "output_type": "stream",
     "text": [
      "\n",
      "Selected features:.\n",
      "\n",
      "1. audspecRasta_lengthL1norm_sma_linregc1\n",
      "2. audSpec_Rfilt_sma[4]_linregc1\n",
      "3. audspecRasta_lengthL1norm_sma_qregc2\n",
      "4. audspecRasta_lengthL1norm_sma_qregc1\n",
      "5. pcm_fftMag_spectralFlux_sma_de_peakMeanRel\n",
      "6. audSpec_Rfilt_sma[5]_qregc2\n",
      "7. audspecRasta_lengthL1norm_sma_de_maxPos\n",
      "8. pcm_fftMag_fband250-650_sma_de_peakMeanRel\n",
      "9. pcm_fftMag_spectralSlope_sma_upleveltime90\n",
      "10. pcm_fftMag_spectralSlope_sma_percentile99.0\n",
      "{0: 0.9540229885057471, 1: 0.9272030651340997}\n",
      "{0: 0.6513409961685823, 1: 0.7432950191570882}\n",
      "{0: 0.9003831417624522, 1: 0.8467432950191571}\n",
      "{0: 0.9540229885057471, 1: 0.9272030651340997}\n",
      "{0: 0.6513409961685823, 1: 0.7432950191570882}\n",
      "{0: 0.9003831417624522, 1: 0.8467432950191571}\n"
     ]
    }
   ],
   "source": [
    "file_path = '/home/ubuntu/data/wavefake_data/LJ_metadata_16KHz_Laundered.csv'\n",
    "run(['ElevenLabs'], file_path, '16KHz_ElevenLabs_Laundered')"
   ]
  },
  {
   "cell_type": "code",
   "execution_count": 12,
   "id": "06322cae-5e05-4df0-a309-d8b77dc96ca6",
   "metadata": {},
   "outputs": [
    {
     "name": "stdout",
     "output_type": "stream",
     "text": [
      "# of Train instances: 1566\n",
      "# of Dev instances: 522\n",
      "# of Test instances: 522\n",
      "[NeMo I 2023-05-18 04:36:56 cloud:56] Found existing object /home/ubuntu/.cache/torch/NeMo/NeMo_1.15.0/titanet-l/492c0ab8416139171dc18c21879a9e45/titanet-l.nemo.\n",
      "[NeMo I 2023-05-18 04:36:56 cloud:62] Re-using file from: /home/ubuntu/.cache/torch/NeMo/NeMo_1.15.0/titanet-l/492c0ab8416139171dc18c21879a9e45/titanet-l.nemo\n",
      "[NeMo I 2023-05-18 04:36:56 common:913] Instantiating model from pre-trained checkpoint\n"
     ]
    },
    {
     "name": "stderr",
     "output_type": "stream",
     "text": [
      "[NeMo W 2023-05-18 04:36:57 modelPT:156] If you intend to do training or fine-tuning, please call the ModelPT.setup_training_data() method and provide a valid configuration file to setup the train data loader.\n",
      "    Train config : \n",
      "    manifest_filepath: /manifests/combined_fisher_swbd_voxceleb12_librispeech/train.json\n",
      "    sample_rate: 16000\n",
      "    labels: null\n",
      "    batch_size: 64\n",
      "    shuffle: true\n",
      "    time_length: 3\n",
      "    is_tarred: false\n",
      "    tarred_audio_filepaths: null\n",
      "    tarred_shard_strategy: scatter\n",
      "    augmentor:\n",
      "      noise:\n",
      "        manifest_path: /manifests/noise/rir_noise_manifest.json\n",
      "        prob: 0.5\n",
      "        min_snr_db: 0\n",
      "        max_snr_db: 15\n",
      "      speed:\n",
      "        prob: 0.5\n",
      "        sr: 16000\n",
      "        resample_type: kaiser_fast\n",
      "        min_speed_rate: 0.95\n",
      "        max_speed_rate: 1.05\n",
      "    num_workers: 15\n",
      "    pin_memory: true\n",
      "    \n",
      "[NeMo W 2023-05-18 04:36:57 modelPT:163] If you intend to do validation, please call the ModelPT.setup_validation_data() or ModelPT.setup_multiple_validation_data() method and provide a valid configuration file to setup the validation data loader(s). \n",
      "    Validation config : \n",
      "    manifest_filepath: /manifests/combined_fisher_swbd_voxceleb12_librispeech/dev.json\n",
      "    sample_rate: 16000\n",
      "    labels: null\n",
      "    batch_size: 128\n",
      "    shuffle: false\n",
      "    time_length: 3\n",
      "    num_workers: 15\n",
      "    pin_memory: true\n",
      "    \n"
     ]
    },
    {
     "name": "stdout",
     "output_type": "stream",
     "text": [
      "[NeMo I 2023-05-18 04:36:57 label_models:126] Setting angular: true/false in decoder is deprecated and will be removed in 1.13 version, use specific loss with _target_\n",
      "[NeMo I 2023-05-18 04:36:57 features:267] PADDING: 16\n",
      "[NeMo I 2023-05-18 04:36:57 save_restore_connector:243] Model EncDecSpeakerLabelModel was successfully restored from /home/ubuntu/.cache/torch/NeMo/NeMo_1.15.0/titanet-l/492c0ab8416139171dc18c21879a9e45/titanet-l.nemo.\n"
     ]
    },
    {
     "name": "stderr",
     "output_type": "stream",
     "text": [
      "100%|██████████| 2/2 [00:00<00:00,  3.91it/s]\n",
      "100%|██████████| 2/2 [00:24<00:00, 12.13s/it]\n"
     ]
    },
    {
     "name": "stdout",
     "output_type": "stream",
     "text": [
      "Initializing data...\n",
      "Standardizing features...\n",
      "smileFeatureSelectFromModel object initialized.\n",
      "\n",
      "\n",
      "Selected features:.\n",
      "\n",
      "1. audspec_lengthL1norm_sma_minPos\n",
      "2. audspec_lengthL1norm_sma_range\n",
      "3. audspec_lengthL1norm_sma_iqr2-3\n",
      "4. duration(seconds)\n",
      "5. audspec_lengthL1norm_sma_quartile3\n",
      "6. audspec_lengthL1norm_sma_iqr1-3\n",
      "7. audspec_lengthL1norm_sma_iqr1-2\n",
      "8. audspec_lengthL1norm_sma_quartile2\n",
      "9. audspec_lengthL1norm_sma_quartile1\n",
      "10. audspec_lengthL1norm_sma_maxPos\n",
      "Initializing data...\n",
      "Standardizing features...\n",
      "smileFeatureSelectFromModel object initialized.\n",
      "\n"
     ]
    },
    {
     "name": "stderr",
     "output_type": "stream",
     "text": [
      "[NeMo W 2023-05-18 04:37:34 nemo_logging:349] /tmp/ipykernel_1578709/405606096.py:10: FutureWarning: The frame.append method is deprecated and will be removed from pandas in a future version. Use pandas.concat instead.\n",
      "      results = results.append(pd.DataFrame({'model':[k], 'label_type':[label_type], 'fake_cols':[fake_cols], 'acc':[model_manager.accuracy], 'cls_acc':[model_manager.class_accuracy],  'loss':[model_manager.log_loss_value]}))\n",
      "    \n",
      "[NeMo W 2023-05-18 04:37:34 nemo_logging:349] /tmp/ipykernel_1578709/405606096.py:10: FutureWarning: The frame.append method is deprecated and will be removed from pandas in a future version. Use pandas.concat instead.\n",
      "      results = results.append(pd.DataFrame({'model':[k], 'label_type':[label_type], 'fake_cols':[fake_cols], 'acc':[model_manager.accuracy], 'cls_acc':[model_manager.class_accuracy],  'loss':[model_manager.log_loss_value]}))\n",
      "    \n",
      "[NeMo W 2023-05-18 04:37:34 nemo_logging:349] /home/ubuntu/.local/lib/python3.8/site-packages/sklearn/linear_model/_logistic.py:458: ConvergenceWarning: lbfgs failed to converge (status=1):\n",
      "    STOP: TOTAL NO. of ITERATIONS REACHED LIMIT.\n",
      "    \n",
      "    Increase the number of iterations (max_iter) or scale the data as shown in:\n",
      "        https://scikit-learn.org/stable/modules/preprocessing.html\n",
      "    Please also refer to the documentation for alternative solver options:\n",
      "        https://scikit-learn.org/stable/modules/linear_model.html#logistic-regression\n",
      "      n_iter_i = _check_optimize_result(\n",
      "    \n",
      "[NeMo W 2023-05-18 04:37:34 nemo_logging:349] /tmp/ipykernel_1578709/405606096.py:10: FutureWarning: The frame.append method is deprecated and will be removed from pandas in a future version. Use pandas.concat instead.\n",
      "      results = results.append(pd.DataFrame({'model':[k], 'label_type':[label_type], 'fake_cols':[fake_cols], 'acc':[model_manager.accuracy], 'cls_acc':[model_manager.class_accuracy],  'loss':[model_manager.log_loss_value]}))\n",
      "    \n",
      "[NeMo W 2023-05-18 04:37:34 nemo_logging:349] /tmp/ipykernel_1578709/405606096.py:10: FutureWarning: The frame.append method is deprecated and will be removed from pandas in a future version. Use pandas.concat instead.\n",
      "      results = results.append(pd.DataFrame({'model':[k], 'label_type':[label_type], 'fake_cols':[fake_cols], 'acc':[model_manager.accuracy], 'cls_acc':[model_manager.class_accuracy],  'loss':[model_manager.log_loss_value]}))\n",
      "    \n",
      "[NeMo W 2023-05-18 04:37:34 nemo_logging:349] /tmp/ipykernel_1578709/405606096.py:10: FutureWarning: The frame.append method is deprecated and will be removed from pandas in a future version. Use pandas.concat instead.\n",
      "      results = results.append(pd.DataFrame({'model':[k], 'label_type':[label_type], 'fake_cols':[fake_cols], 'acc':[model_manager.accuracy], 'cls_acc':[model_manager.class_accuracy],  'loss':[model_manager.log_loss_value]}))\n",
      "    \n"
     ]
    },
    {
     "name": "stdout",
     "output_type": "stream",
     "text": [
      "\n",
      "Selected features:.\n",
      "\n",
      "1. mfcc_sma[14]_peakMeanRel\n",
      "2. mfcc_sma[14]_peakMeanAbs\n",
      "3. mfcc_sma[5]_lpc2\n",
      "4. mfcc_sma[14]_rqmean\n",
      "5. mfcc_sma_de[13]_meanFallingSlope\n",
      "6. mfcc_sma_de[13]_meanRisingSlope\n",
      "7. mfcc_sma[11]_lpc2\n",
      "8. mfcc_sma[14]_quartile1\n",
      "9. mfcc_sma[14]_quartile2\n",
      "10. mfcc_sma[13]_lpgain\n",
      "{0: 0.8850574712643678, 1: 0.9923371647509579}\n",
      "{0: 0.5823754789272031, 1: 0.6896551724137931}\n",
      "{0: 0.8122605363984674, 1: 0.8314176245210728}\n",
      "{0: 0.8850574712643678, 1: 0.9923371647509579}\n",
      "{0: 0.5823754789272031, 1: 0.6896551724137931}\n"
     ]
    },
    {
     "name": "stderr",
     "output_type": "stream",
     "text": [
      "[NeMo W 2023-05-18 04:37:34 nemo_logging:349] /home/ubuntu/.local/lib/python3.8/site-packages/sklearn/linear_model/_logistic.py:458: ConvergenceWarning: lbfgs failed to converge (status=1):\n",
      "    STOP: TOTAL NO. of ITERATIONS REACHED LIMIT.\n",
      "    \n",
      "    Increase the number of iterations (max_iter) or scale the data as shown in:\n",
      "        https://scikit-learn.org/stable/modules/preprocessing.html\n",
      "    Please also refer to the documentation for alternative solver options:\n",
      "        https://scikit-learn.org/stable/modules/linear_model.html#logistic-regression\n",
      "      n_iter_i = _check_optimize_result(\n",
      "    \n",
      "[NeMo W 2023-05-18 04:37:34 nemo_logging:349] /tmp/ipykernel_1578709/405606096.py:10: FutureWarning: The frame.append method is deprecated and will be removed from pandas in a future version. Use pandas.concat instead.\n",
      "      results = results.append(pd.DataFrame({'model':[k], 'label_type':[label_type], 'fake_cols':[fake_cols], 'acc':[model_manager.accuracy], 'cls_acc':[model_manager.class_accuracy],  'loss':[model_manager.log_loss_value]}))\n",
      "    \n"
     ]
    },
    {
     "name": "stdout",
     "output_type": "stream",
     "text": [
      "{0: 0.8122605363984674, 1: 0.8314176245210728}\n"
     ]
    }
   ],
   "source": [
    "file_path = '/home/ubuntu/data/wavefake_data/LJ_metadata_16KHz_Laundered.csv'\n",
    "run(['UberDuck'], file_path, '16KHz_UberDuck_Laundered')"
   ]
  },
  {
   "cell_type": "code",
   "execution_count": 13,
   "id": "ab235243-e6e4-4d01-a91d-9e9ed45eecd2",
   "metadata": {},
   "outputs": [
    {
     "name": "stdout",
     "output_type": "stream",
     "text": [
      "# of Train instances: 2349\n",
      "# of Dev instances: 783\n",
      "# of Test instances: 783\n",
      "[NeMo I 2023-05-18 04:37:34 cloud:56] Found existing object /home/ubuntu/.cache/torch/NeMo/NeMo_1.15.0/titanet-l/492c0ab8416139171dc18c21879a9e45/titanet-l.nemo.\n",
      "[NeMo I 2023-05-18 04:37:34 cloud:62] Re-using file from: /home/ubuntu/.cache/torch/NeMo/NeMo_1.15.0/titanet-l/492c0ab8416139171dc18c21879a9e45/titanet-l.nemo\n",
      "[NeMo I 2023-05-18 04:37:34 common:913] Instantiating model from pre-trained checkpoint\n"
     ]
    },
    {
     "name": "stderr",
     "output_type": "stream",
     "text": [
      "[NeMo W 2023-05-18 04:37:35 modelPT:156] If you intend to do training or fine-tuning, please call the ModelPT.setup_training_data() method and provide a valid configuration file to setup the train data loader.\n",
      "    Train config : \n",
      "    manifest_filepath: /manifests/combined_fisher_swbd_voxceleb12_librispeech/train.json\n",
      "    sample_rate: 16000\n",
      "    labels: null\n",
      "    batch_size: 64\n",
      "    shuffle: true\n",
      "    time_length: 3\n",
      "    is_tarred: false\n",
      "    tarred_audio_filepaths: null\n",
      "    tarred_shard_strategy: scatter\n",
      "    augmentor:\n",
      "      noise:\n",
      "        manifest_path: /manifests/noise/rir_noise_manifest.json\n",
      "        prob: 0.5\n",
      "        min_snr_db: 0\n",
      "        max_snr_db: 15\n",
      "      speed:\n",
      "        prob: 0.5\n",
      "        sr: 16000\n",
      "        resample_type: kaiser_fast\n",
      "        min_speed_rate: 0.95\n",
      "        max_speed_rate: 1.05\n",
      "    num_workers: 15\n",
      "    pin_memory: true\n",
      "    \n",
      "[NeMo W 2023-05-18 04:37:35 modelPT:163] If you intend to do validation, please call the ModelPT.setup_validation_data() or ModelPT.setup_multiple_validation_data() method and provide a valid configuration file to setup the validation data loader(s). \n",
      "    Validation config : \n",
      "    manifest_filepath: /manifests/combined_fisher_swbd_voxceleb12_librispeech/dev.json\n",
      "    sample_rate: 16000\n",
      "    labels: null\n",
      "    batch_size: 128\n",
      "    shuffle: false\n",
      "    time_length: 3\n",
      "    num_workers: 15\n",
      "    pin_memory: true\n",
      "    \n"
     ]
    },
    {
     "name": "stdout",
     "output_type": "stream",
     "text": [
      "[NeMo I 2023-05-18 04:37:35 label_models:126] Setting angular: true/false in decoder is deprecated and will be removed in 1.13 version, use specific loss with _target_\n",
      "[NeMo I 2023-05-18 04:37:35 features:267] PADDING: 16\n",
      "[NeMo I 2023-05-18 04:37:35 save_restore_connector:243] Model EncDecSpeakerLabelModel was successfully restored from /home/ubuntu/.cache/torch/NeMo/NeMo_1.15.0/titanet-l/492c0ab8416139171dc18c21879a9e45/titanet-l.nemo.\n"
     ]
    },
    {
     "name": "stderr",
     "output_type": "stream",
     "text": [
      "100%|██████████| 3/3 [00:00<00:00,  3.76it/s]\n",
      "100%|██████████| 3/3 [00:36<00:00, 12.01s/it]\n"
     ]
    },
    {
     "name": "stdout",
     "output_type": "stream",
     "text": [
      "Initializing data...\n",
      "Standardizing features...\n",
      "smileFeatureSelectFromModel object initialized.\n",
      "\n",
      "\n",
      "Selected features:.\n",
      "\n",
      "1. audspec_lengthL1norm_sma_minPos\n",
      "2. audspec_lengthL1norm_sma_range\n",
      "3. audspec_lengthL1norm_sma_iqr2-3\n",
      "4. duration(seconds)\n",
      "5. audspec_lengthL1norm_sma_quartile3\n",
      "6. audspec_lengthL1norm_sma_iqr1-3\n",
      "7. audspec_lengthL1norm_sma_iqr1-2\n",
      "8. audspec_lengthL1norm_sma_quartile2\n",
      "9. audspec_lengthL1norm_sma_quartile1\n",
      "10. audspec_lengthL1norm_sma_maxPos\n",
      "Initializing data...\n",
      "Standardizing features...\n",
      "smileFeatureSelectFromModel object initialized.\n",
      "\n"
     ]
    },
    {
     "name": "stderr",
     "output_type": "stream",
     "text": [
      "[NeMo W 2023-05-18 04:38:29 nemo_logging:349] /tmp/ipykernel_1578709/405606096.py:10: FutureWarning: The frame.append method is deprecated and will be removed from pandas in a future version. Use pandas.concat instead.\n",
      "      results = results.append(pd.DataFrame({'model':[k], 'label_type':[label_type], 'fake_cols':[fake_cols], 'acc':[model_manager.accuracy], 'cls_acc':[model_manager.class_accuracy],  'loss':[model_manager.log_loss_value]}))\n",
      "    \n",
      "[NeMo W 2023-05-18 04:38:29 nemo_logging:349] /tmp/ipykernel_1578709/405606096.py:10: FutureWarning: The frame.append method is deprecated and will be removed from pandas in a future version. Use pandas.concat instead.\n",
      "      results = results.append(pd.DataFrame({'model':[k], 'label_type':[label_type], 'fake_cols':[fake_cols], 'acc':[model_manager.accuracy], 'cls_acc':[model_manager.class_accuracy],  'loss':[model_manager.log_loss_value]}))\n",
      "    \n",
      "[NeMo W 2023-05-18 04:38:29 nemo_logging:349] /home/ubuntu/.local/lib/python3.8/site-packages/sklearn/linear_model/_logistic.py:458: ConvergenceWarning: lbfgs failed to converge (status=1):\n",
      "    STOP: TOTAL NO. of ITERATIONS REACHED LIMIT.\n",
      "    \n",
      "    Increase the number of iterations (max_iter) or scale the data as shown in:\n",
      "        https://scikit-learn.org/stable/modules/preprocessing.html\n",
      "    Please also refer to the documentation for alternative solver options:\n",
      "        https://scikit-learn.org/stable/modules/linear_model.html#logistic-regression\n",
      "      n_iter_i = _check_optimize_result(\n",
      "    \n",
      "[NeMo W 2023-05-18 04:38:29 nemo_logging:349] /tmp/ipykernel_1578709/405606096.py:10: FutureWarning: The frame.append method is deprecated and will be removed from pandas in a future version. Use pandas.concat instead.\n",
      "      results = results.append(pd.DataFrame({'model':[k], 'label_type':[label_type], 'fake_cols':[fake_cols], 'acc':[model_manager.accuracy], 'cls_acc':[model_manager.class_accuracy],  'loss':[model_manager.log_loss_value]}))\n",
      "    \n"
     ]
    },
    {
     "name": "stdout",
     "output_type": "stream",
     "text": [
      "\n",
      "Selected features:.\n",
      "\n",
      "1. audSpec_Rfilt_sma_de[5]_minPos\n",
      "2. audSpec_Rfilt_sma[4]_linregc1\n",
      "3. audspec_lengthL1norm_sma_de_peakMeanRel\n",
      "4. pcm_fftMag_spectralSlope_sma_upleveltime90\n",
      "5. pcm_fftMag_spectralFlux_sma_de_peakMeanRel\n",
      "6. audSpec_Rfilt_sma[5]_qregc2\n",
      "7. mfcc_sma_de[13]_meanFallingSlope\n",
      "8. audspecRasta_lengthL1norm_sma_qregc2\n",
      "9. pcm_RMSenergy_sma_de_peakMeanRel\n",
      "10. pcm_fftMag_spectralSlope_sma_percentile99.0\n",
      "{0: 0.8199233716475096, 1: 1.0}\n",
      "{0: 0.2720306513409962, 1: 0.9310344827586207}\n",
      "{0: 0.4789272030651341, 1: 0.8659003831417624}\n"
     ]
    },
    {
     "name": "stderr",
     "output_type": "stream",
     "text": [
      "[NeMo W 2023-05-18 04:38:29 nemo_logging:349] /tmp/ipykernel_1578709/405606096.py:10: FutureWarning: The frame.append method is deprecated and will be removed from pandas in a future version. Use pandas.concat instead.\n",
      "      results = results.append(pd.DataFrame({'model':[k], 'label_type':[label_type], 'fake_cols':[fake_cols], 'acc':[model_manager.accuracy], 'cls_acc':[model_manager.class_accuracy],  'loss':[model_manager.log_loss_value]}))\n",
      "    \n",
      "[NeMo W 2023-05-18 04:38:29 nemo_logging:349] /home/ubuntu/.local/lib/python3.8/site-packages/sklearn/linear_model/_logistic.py:458: ConvergenceWarning: lbfgs failed to converge (status=1):\n",
      "    STOP: TOTAL NO. of ITERATIONS REACHED LIMIT.\n",
      "    \n",
      "    Increase the number of iterations (max_iter) or scale the data as shown in:\n",
      "        https://scikit-learn.org/stable/modules/preprocessing.html\n",
      "    Please also refer to the documentation for alternative solver options:\n",
      "        https://scikit-learn.org/stable/modules/linear_model.html#logistic-regression\n",
      "      n_iter_i = _check_optimize_result(\n",
      "    \n",
      "[NeMo W 2023-05-18 04:38:29 nemo_logging:349] /tmp/ipykernel_1578709/405606096.py:10: FutureWarning: The frame.append method is deprecated and will be removed from pandas in a future version. Use pandas.concat instead.\n",
      "      results = results.append(pd.DataFrame({'model':[k], 'label_type':[label_type], 'fake_cols':[fake_cols], 'acc':[model_manager.accuracy], 'cls_acc':[model_manager.class_accuracy],  'loss':[model_manager.log_loss_value]}))\n",
      "    \n",
      "[NeMo W 2023-05-18 04:38:29 nemo_logging:349] /home/ubuntu/.local/lib/python3.8/site-packages/sklearn/linear_model/_logistic.py:458: ConvergenceWarning: lbfgs failed to converge (status=1):\n",
      "    STOP: TOTAL NO. of ITERATIONS REACHED LIMIT.\n",
      "    \n",
      "    Increase the number of iterations (max_iter) or scale the data as shown in:\n",
      "        https://scikit-learn.org/stable/modules/preprocessing.html\n",
      "    Please also refer to the documentation for alternative solver options:\n",
      "        https://scikit-learn.org/stable/modules/linear_model.html#logistic-regression\n",
      "      n_iter_i = _check_optimize_result(\n",
      "    \n",
      "[NeMo W 2023-05-18 04:38:29 nemo_logging:349] /tmp/ipykernel_1578709/405606096.py:10: FutureWarning: The frame.append method is deprecated and will be removed from pandas in a future version. Use pandas.concat instead.\n",
      "      results = results.append(pd.DataFrame({'model':[k], 'label_type':[label_type], 'fake_cols':[fake_cols], 'acc':[model_manager.accuracy], 'cls_acc':[model_manager.class_accuracy],  'loss':[model_manager.log_loss_value]}))\n",
      "    \n"
     ]
    },
    {
     "name": "stdout",
     "output_type": "stream",
     "text": [
      "{0: 0.8888888888888888, 1: 0.9501915708812261, 2: 0.9042145593869731}\n",
      "{0: 0.4827586206896552, 1: 0.5287356321839081, 2: 0.5900383141762452}\n",
      "{0: 0.6206896551724138, 1: 0.6551724137931034, 2: 0.8045977011494253}\n"
     ]
    }
   ],
   "source": [
    "file_path = '/home/ubuntu/data/wavefake_data/LJ_metadata_16KHz_Laundered.csv'\n",
    "run(['UberDuck', 'ElevenLabs'], file_path, '16KHz_ElevenLabs_and_UberDuck_Laundered')"
   ]
  },
  {
   "cell_type": "code",
   "execution_count": 14,
   "id": "3c8b87d4-d366-48de-9c5f-f0648069f1a7",
   "metadata": {},
   "outputs": [
    {
     "name": "stdout",
     "output_type": "stream",
     "text": [
      "# of Train instances: 3132\n",
      "# of Dev instances: 1044\n",
      "# of Test instances: 1044\n",
      "[NeMo I 2023-05-18 04:38:30 cloud:56] Found existing object /home/ubuntu/.cache/torch/NeMo/NeMo_1.15.0/titanet-l/492c0ab8416139171dc18c21879a9e45/titanet-l.nemo.\n",
      "[NeMo I 2023-05-18 04:38:30 cloud:62] Re-using file from: /home/ubuntu/.cache/torch/NeMo/NeMo_1.15.0/titanet-l/492c0ab8416139171dc18c21879a9e45/titanet-l.nemo\n",
      "[NeMo I 2023-05-18 04:38:30 common:913] Instantiating model from pre-trained checkpoint\n"
     ]
    },
    {
     "name": "stderr",
     "output_type": "stream",
     "text": [
      "[NeMo W 2023-05-18 04:38:30 modelPT:156] If you intend to do training or fine-tuning, please call the ModelPT.setup_training_data() method and provide a valid configuration file to setup the train data loader.\n",
      "    Train config : \n",
      "    manifest_filepath: /manifests/combined_fisher_swbd_voxceleb12_librispeech/train.json\n",
      "    sample_rate: 16000\n",
      "    labels: null\n",
      "    batch_size: 64\n",
      "    shuffle: true\n",
      "    time_length: 3\n",
      "    is_tarred: false\n",
      "    tarred_audio_filepaths: null\n",
      "    tarred_shard_strategy: scatter\n",
      "    augmentor:\n",
      "      noise:\n",
      "        manifest_path: /manifests/noise/rir_noise_manifest.json\n",
      "        prob: 0.5\n",
      "        min_snr_db: 0\n",
      "        max_snr_db: 15\n",
      "      speed:\n",
      "        prob: 0.5\n",
      "        sr: 16000\n",
      "        resample_type: kaiser_fast\n",
      "        min_speed_rate: 0.95\n",
      "        max_speed_rate: 1.05\n",
      "    num_workers: 15\n",
      "    pin_memory: true\n",
      "    \n",
      "[NeMo W 2023-05-18 04:38:30 modelPT:163] If you intend to do validation, please call the ModelPT.setup_validation_data() or ModelPT.setup_multiple_validation_data() method and provide a valid configuration file to setup the validation data loader(s). \n",
      "    Validation config : \n",
      "    manifest_filepath: /manifests/combined_fisher_swbd_voxceleb12_librispeech/dev.json\n",
      "    sample_rate: 16000\n",
      "    labels: null\n",
      "    batch_size: 128\n",
      "    shuffle: false\n",
      "    time_length: 3\n",
      "    num_workers: 15\n",
      "    pin_memory: true\n",
      "    \n"
     ]
    },
    {
     "name": "stdout",
     "output_type": "stream",
     "text": [
      "[NeMo I 2023-05-18 04:38:30 label_models:126] Setting angular: true/false in decoder is deprecated and will be removed in 1.13 version, use specific loss with _target_\n",
      "[NeMo I 2023-05-18 04:38:30 features:267] PADDING: 16\n",
      "[NeMo I 2023-05-18 04:38:31 save_restore_connector:243] Model EncDecSpeakerLabelModel was successfully restored from /home/ubuntu/.cache/torch/NeMo/NeMo_1.15.0/titanet-l/492c0ab8416139171dc18c21879a9e45/titanet-l.nemo.\n"
     ]
    },
    {
     "name": "stderr",
     "output_type": "stream",
     "text": [
      "100%|██████████| 10/10 [00:02<00:00,  3.85it/s]\n",
      "100%|██████████| 10/10 [02:02<00:00, 12.21s/it]\n"
     ]
    },
    {
     "name": "stdout",
     "output_type": "stream",
     "text": [
      "Initializing data...\n",
      "Standardizing features...\n",
      "smileFeatureSelectFromModel object initialized.\n",
      "\n",
      "\n",
      "Selected features:.\n",
      "\n",
      "1. audspec_lengthL1norm_sma_minPos\n",
      "2. audspec_lengthL1norm_sma_range\n",
      "3. audspec_lengthL1norm_sma_iqr2-3\n",
      "4. duration(seconds)\n",
      "5. audspec_lengthL1norm_sma_quartile3\n",
      "6. audspec_lengthL1norm_sma_iqr1-3\n",
      "7. audspec_lengthL1norm_sma_iqr1-2\n",
      "8. audspec_lengthL1norm_sma_quartile2\n",
      "9. audspec_lengthL1norm_sma_quartile1\n",
      "10. audspec_lengthL1norm_sma_maxPos\n",
      "Initializing data...\n",
      "Standardizing features...\n",
      "smileFeatureSelectFromModel object initialized.\n",
      "\n"
     ]
    },
    {
     "name": "stderr",
     "output_type": "stream",
     "text": [
      "[NeMo W 2023-05-18 04:40:59 nemo_logging:349] /tmp/ipykernel_1578709/405606096.py:10: FutureWarning: The frame.append method is deprecated and will be removed from pandas in a future version. Use pandas.concat instead.\n",
      "      results = results.append(pd.DataFrame({'model':[k], 'label_type':[label_type], 'fake_cols':[fake_cols], 'acc':[model_manager.accuracy], 'cls_acc':[model_manager.class_accuracy],  'loss':[model_manager.log_loss_value]}))\n",
      "    \n"
     ]
    },
    {
     "name": "stdout",
     "output_type": "stream",
     "text": [
      "\n",
      "Selected features:.\n",
      "\n",
      "1. mfcc_sma[11]_peakDistStddev\n",
      "2. audSpec_Rfilt_sma[5]_qregc1\n",
      "3. audSpec_Rfilt_sma[19]_centroid\n",
      "4. audSpec_Rfilt_sma[5]_maxPos\n",
      "5. audSpec_Rfilt_sma[5]_qregc2\n",
      "6. audSpec_Rfilt_sma[5]_centroid\n",
      "7. pcm_fftMag_spectralSlope_sma_percentile99.0\n",
      "8. jitterDDP_sma_quartile1\n",
      "9. mfcc_sma[14]_peakMeanAbs\n",
      "10. audspecRasta_lengthL1norm_sma_centroid\n",
      "{0: 0.23754789272030652, 1: 0.9961685823754789}\n"
     ]
    },
    {
     "name": "stderr",
     "output_type": "stream",
     "text": [
      "[NeMo W 2023-05-18 04:40:59 nemo_logging:349] /tmp/ipykernel_1578709/405606096.py:10: FutureWarning: The frame.append method is deprecated and will be removed from pandas in a future version. Use pandas.concat instead.\n",
      "      results = results.append(pd.DataFrame({'model':[k], 'label_type':[label_type], 'fake_cols':[fake_cols], 'acc':[model_manager.accuracy], 'cls_acc':[model_manager.class_accuracy],  'loss':[model_manager.log_loss_value]}))\n",
      "    \n",
      "[NeMo W 2023-05-18 04:41:00 nemo_logging:349] /tmp/ipykernel_1578709/405606096.py:10: FutureWarning: The frame.append method is deprecated and will be removed from pandas in a future version. Use pandas.concat instead.\n",
      "      results = results.append(pd.DataFrame({'model':[k], 'label_type':[label_type], 'fake_cols':[fake_cols], 'acc':[model_manager.accuracy], 'cls_acc':[model_manager.class_accuracy],  'loss':[model_manager.log_loss_value]}))\n",
      "    \n"
     ]
    },
    {
     "name": "stdout",
     "output_type": "stream",
     "text": [
      "{0: 0.034482758620689655, 1: 0.9897828863346104}\n",
      "{0: 0.13026819923371646, 1: 0.9642401021711366}\n"
     ]
    },
    {
     "name": "stderr",
     "output_type": "stream",
     "text": [
      "[NeMo W 2023-05-18 04:41:00 nemo_logging:349] /tmp/ipykernel_1578709/405606096.py:10: FutureWarning: The frame.append method is deprecated and will be removed from pandas in a future version. Use pandas.concat instead.\n",
      "      results = results.append(pd.DataFrame({'model':[k], 'label_type':[label_type], 'fake_cols':[fake_cols], 'acc':[model_manager.accuracy], 'cls_acc':[model_manager.class_accuracy],  'loss':[model_manager.log_loss_value]}))\n",
      "    \n",
      "[NeMo W 2023-05-18 04:41:00 nemo_logging:349] /home/ubuntu/.local/lib/python3.8/site-packages/sklearn/linear_model/_logistic.py:458: ConvergenceWarning: lbfgs failed to converge (status=1):\n",
      "    STOP: TOTAL NO. of ITERATIONS REACHED LIMIT.\n",
      "    \n",
      "    Increase the number of iterations (max_iter) or scale the data as shown in:\n",
      "        https://scikit-learn.org/stable/modules/preprocessing.html\n",
      "    Please also refer to the documentation for alternative solver options:\n",
      "        https://scikit-learn.org/stable/modules/linear_model.html#logistic-regression\n",
      "      n_iter_i = _check_optimize_result(\n",
      "    \n",
      "[NeMo W 2023-05-18 04:41:00 nemo_logging:349] /tmp/ipykernel_1578709/405606096.py:10: FutureWarning: The frame.append method is deprecated and will be removed from pandas in a future version. Use pandas.concat instead.\n",
      "      results = results.append(pd.DataFrame({'model':[k], 'label_type':[label_type], 'fake_cols':[fake_cols], 'acc':[model_manager.accuracy], 'cls_acc':[model_manager.class_accuracy],  'loss':[model_manager.log_loss_value]}))\n",
      "    \n",
      "[NeMo W 2023-05-18 04:41:00 nemo_logging:349] /home/ubuntu/.local/lib/python3.8/site-packages/sklearn/linear_model/_logistic.py:458: ConvergenceWarning: lbfgs failed to converge (status=1):\n",
      "    STOP: TOTAL NO. of ITERATIONS REACHED LIMIT.\n",
      "    \n",
      "    Increase the number of iterations (max_iter) or scale the data as shown in:\n",
      "        https://scikit-learn.org/stable/modules/preprocessing.html\n",
      "    Please also refer to the documentation for alternative solver options:\n",
      "        https://scikit-learn.org/stable/modules/linear_model.html#logistic-regression\n",
      "      n_iter_i = _check_optimize_result(\n",
      "    \n",
      "[NeMo W 2023-05-18 04:41:00 nemo_logging:349] /tmp/ipykernel_1578709/405606096.py:10: FutureWarning: The frame.append method is deprecated and will be removed from pandas in a future version. Use pandas.concat instead.\n",
      "      results = results.append(pd.DataFrame({'model':[k], 'label_type':[label_type], 'fake_cols':[fake_cols], 'acc':[model_manager.accuracy], 'cls_acc':[model_manager.class_accuracy],  'loss':[model_manager.log_loss_value]}))\n",
      "    \n"
     ]
    },
    {
     "name": "stdout",
     "output_type": "stream",
     "text": [
      "{0: 0.7816091954022989, 1: 0.9118773946360154, 2: 0.9425287356321839, 3: 0.8467432950191571}\n",
      "{0: 0.3946360153256705, 1: 0.5555555555555556, 2: 0.42528735632183906, 3: 0.19157088122605365}\n",
      "{0: 0.5057471264367817, 1: 0.8467432950191571, 2: 0.6513409961685823, 3: 0.28735632183908044}\n"
     ]
    }
   ],
   "source": [
    "file_path = '/home/ubuntu/data/wavefake_data/LJ_metadata_16KHz_Laundered.csv'\n",
    "run(['ElevenLabs', 'UberDuck', 'RandWaveFake'], file_path, '16KHz_Mix_Laundered')"
   ]
  },
  {
   "cell_type": "code",
   "execution_count": null,
   "id": "3a302eee-3c3a-4e71-9241-4329946bfc3d",
   "metadata": {},
   "outputs": [],
   "source": []
  }
 ],
 "metadata": {
  "kernelspec": {
   "display_name": "nemo",
   "language": "python",
   "name": "nemo"
  },
  "language_info": {
   "codemirror_mode": {
    "name": "ipython",
    "version": 3
   },
   "file_extension": ".py",
   "mimetype": "text/x-python",
   "name": "python",
   "nbconvert_exporter": "python",
   "pygments_lexer": "ipython3",
   "version": "3.8.0"
  }
 },
 "nbformat": 4,
 "nbformat_minor": 5
}
