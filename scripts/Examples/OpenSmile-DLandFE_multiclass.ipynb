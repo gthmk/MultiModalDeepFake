{
 "cells": [
  {
   "cell_type": "markdown",
   "metadata": {},
   "source": [
    "# Testing OpenSmile Classes\n",
    "\n",
    "Draft 1 of pipeline for creating a df, loading the generated openSMILE features, and running feature selection."
   ]
  },
  {
   "cell_type": "code",
   "execution_count": null,
   "metadata": {},
   "outputs": [],
   "source": [
    "import pandas as pd\n",
    "import numpy as np\n",
    "import sys\n",
    "import os\n",
    "import json\n",
    "from tqdm import tqdm\n",
    "sys.path.append(\"/home/ubuntu/MultiModalDeepFake\")\n",
    "from packages.LJDataLoader import LJDataLoader\n",
    "from packages.SmileFeatureLoader import smileFeatureLoader\n",
    "from packages.SmileFeatureSelector import smileFeatureSelectorBruteForce, smileFeatureSelectFromModel, smileUnivariateFeatureSelector, process_data_for_all_archs\n",
    "from sklearn.linear_model import LogisticRegression\n",
    "from sklearn.ensemble import RandomForestClassifier\n",
    "import sklearn.feature_selection as fs\n",
    "from sklearn.metrics import accuracy_score, roc_curve, roc_auc_score, confusion_matrix, classification_report"
   ]
  },
  {
   "cell_type": "markdown",
   "metadata": {
    "tags": []
   },
   "source": [
    "## Part 1: Creating the dataframe with the train-dev-test split"
   ]
  },
  {
   "cell_type": "code",
   "execution_count": null,
   "metadata": {},
   "outputs": [],
   "source": [
    "#load LJ 16khz data\n",
    "file_path = '/home/ubuntu/data/wavefake_data/LJ_metadata_Original.csv'\n",
    "loader = LJDataLoader(data_path=file_path)"
   ]
  },
  {
   "cell_type": "code",
   "execution_count": null,
   "metadata": {},
   "outputs": [
    {
     "name": "stdout",
     "output_type": "stream",
     "text": [
      "13057\n",
      "7834 10445\n"
     ]
    }
   ],
   "source": [
    "#split data into train, dev, test\n",
    "loader.splitData()"
   ]
  },
  {
   "cell_type": "code",
   "execution_count": null,
   "metadata": {},
   "outputs": [],
   "source": [
    "source_architectures = ['Full_Band_MelGan', 'HifiGan', 'MelGan', 'MelGanLarge', 'Multi_Band_MelGan', 'Parallel_WaveGan', 'Waveglow']\n",
    "new_col_name = 'RandWaveFake'"
   ]
  },
  {
   "cell_type": "code",
   "execution_count": null,
   "metadata": {},
   "outputs": [],
   "source": [
    "loader.selectRandomArchitecture(target_col=new_col_name, source_cols=source_architectures)"
   ]
  },
  {
   "cell_type": "code",
   "execution_count": null,
   "metadata": {},
   "outputs": [
    {
     "data": {
      "text/plain": [
       "Index(['index', 'Unnamed: 0', 'id', 'Main_ID', 'Secondary_ID', 'Real',\n",
       "       'Full_Band_MelGan', 'HifiGan', 'MelGan', 'MelGanLarge',\n",
       "       'Multi_Band_MelGan', 'Parallel_WaveGan', 'Waveglow', 'ElevenLabs',\n",
       "       'UberDuck', 'transcript_1', 'transcript_2', 'type', 'RandWaveFake'],\n",
       "      dtype='object')"
      ]
     },
     "execution_count": 6,
     "metadata": {},
     "output_type": "execute_result"
    }
   ],
   "source": [
    "loader.metadata.columns"
   ]
  },
  {
   "cell_type": "code",
   "execution_count": null,
   "metadata": {},
   "outputs": [],
   "source": [
    "#generate the dataframe\n",
    "#single_id entry=True breaks\n",
    "df = loader.generateFinalDataFrame(real_col='Real', fake_cols=['ElevenLabs','UberDuck','RandWaveFake'])"
   ]
  },
  {
   "cell_type": "code",
   "execution_count": null,
   "metadata": {},
   "outputs": [
    {
     "data": {
      "text/plain": [
       "(52228, 6)"
      ]
     },
     "execution_count": 8,
     "metadata": {},
     "output_type": "execute_result"
    }
   ],
   "source": [
    "df.shape"
   ]
  },
  {
   "cell_type": "code",
   "execution_count": null,
   "metadata": {},
   "outputs": [
    {
     "data": {
      "text/html": [
       "<div>\n",
       "<style scoped>\n",
       "    .dataframe tbody tr th:only-of-type {\n",
       "        vertical-align: middle;\n",
       "    }\n",
       "\n",
       "    .dataframe tbody tr th {\n",
       "        vertical-align: top;\n",
       "    }\n",
       "\n",
       "    .dataframe thead th {\n",
       "        text-align: right;\n",
       "    }\n",
       "</style>\n",
       "<table border=\"1\" class=\"dataframe\">\n",
       "  <thead>\n",
       "    <tr style=\"text-align: right;\">\n",
       "      <th></th>\n",
       "      <th>type</th>\n",
       "      <th>id</th>\n",
       "      <th>architecture</th>\n",
       "      <th>path</th>\n",
       "      <th>label</th>\n",
       "      <th>multiclass_label</th>\n",
       "    </tr>\n",
       "  </thead>\n",
       "  <tbody>\n",
       "    <tr>\n",
       "      <th>0</th>\n",
       "      <td>train</td>\n",
       "      <td>LJ013-0125</td>\n",
       "      <td>Real</td>\n",
       "      <td>/home/ubuntu/data/wavefake_data/LJSpeech_1.1/w...</td>\n",
       "      <td>0</td>\n",
       "      <td>0</td>\n",
       "    </tr>\n",
       "    <tr>\n",
       "      <th>1</th>\n",
       "      <td>train</td>\n",
       "      <td>LJ042-0084</td>\n",
       "      <td>Real</td>\n",
       "      <td>/home/ubuntu/data/wavefake_data/LJSpeech_1.1/w...</td>\n",
       "      <td>0</td>\n",
       "      <td>0</td>\n",
       "    </tr>\n",
       "    <tr>\n",
       "      <th>2</th>\n",
       "      <td>train</td>\n",
       "      <td>LJ047-0032</td>\n",
       "      <td>Real</td>\n",
       "      <td>/home/ubuntu/data/wavefake_data/LJSpeech_1.1/w...</td>\n",
       "      <td>0</td>\n",
       "      <td>0</td>\n",
       "    </tr>\n",
       "    <tr>\n",
       "      <th>3</th>\n",
       "      <td>train</td>\n",
       "      <td>LJ044-0063</td>\n",
       "      <td>Real</td>\n",
       "      <td>/home/ubuntu/data/wavefake_data/LJSpeech_1.1/w...</td>\n",
       "      <td>0</td>\n",
       "      <td>0</td>\n",
       "    </tr>\n",
       "    <tr>\n",
       "      <th>4</th>\n",
       "      <td>train</td>\n",
       "      <td>LJ016-0067</td>\n",
       "      <td>Real</td>\n",
       "      <td>/home/ubuntu/data/wavefake_data/LJSpeech_1.1/w...</td>\n",
       "      <td>0</td>\n",
       "      <td>0</td>\n",
       "    </tr>\n",
       "  </tbody>\n",
       "</table>\n",
       "</div>"
      ],
      "text/plain": [
       "    type          id architecture  \\\n",
       "0  train  LJ013-0125         Real   \n",
       "1  train  LJ042-0084         Real   \n",
       "2  train  LJ047-0032         Real   \n",
       "3  train  LJ044-0063         Real   \n",
       "4  train  LJ016-0067         Real   \n",
       "\n",
       "                                                path  label  multiclass_label  \n",
       "0  /home/ubuntu/data/wavefake_data/LJSpeech_1.1/w...      0                 0  \n",
       "1  /home/ubuntu/data/wavefake_data/LJSpeech_1.1/w...      0                 0  \n",
       "2  /home/ubuntu/data/wavefake_data/LJSpeech_1.1/w...      0                 0  \n",
       "3  /home/ubuntu/data/wavefake_data/LJSpeech_1.1/w...      0                 0  \n",
       "4  /home/ubuntu/data/wavefake_data/LJSpeech_1.1/w...      0                 0  "
      ]
     },
     "execution_count": 9,
     "metadata": {},
     "output_type": "execute_result"
    }
   ],
   "source": [
    "df.head()"
   ]
  },
  {
   "cell_type": "code",
   "execution_count": null,
   "metadata": {},
   "outputs": [
    {
     "data": {
      "text/plain": [
       "Real            13057\n",
       "ElevenLabs      13057\n",
       "UberDuck        13057\n",
       "RandWaveFake    13057\n",
       "Name: architecture, dtype: int64"
      ]
     },
     "execution_count": 10,
     "metadata": {},
     "output_type": "execute_result"
    }
   ],
   "source": [
    "df['architecture'].value_counts()"
   ]
  },
  {
   "cell_type": "markdown",
   "metadata": {},
   "source": [
    "#### Temporary solution for all_archs:\n",
    "\n",
    "This external function could be integrated into data loader class"
   ]
  },
  {
   "cell_type": "code",
   "execution_count": null,
   "metadata": {},
   "outputs": [],
   "source": [
    "fake_cols=['ElevenLabs','UberDuck','RandWaveFake']\n",
    "\n",
    "arch_filter = process_data_for_all_archs(df, fake_cols)"
   ]
  },
  {
   "cell_type": "code",
   "execution_count": null,
   "metadata": {},
   "outputs": [
    {
     "name": "stdout",
     "output_type": "stream",
     "text": [
      "ElevenLabs 4352\n",
      "UberDuck 4352\n",
      "RandWaveFake 4353\n"
     ]
    }
   ],
   "source": [
    "for key,value in arch_filter.items():\n",
    "    print(key, len(value))"
   ]
  },
  {
   "cell_type": "code",
   "execution_count": null,
   "metadata": {},
   "outputs": [],
   "source": [
    "df2 = pd.DataFrame()\n",
    "for key, value in arch_filter.items():\n",
    "    df_ = df[(df['architecture'].isin(['Real', key])) & (df['id'].isin(value))].copy()\n",
    "    df_.loc[:, 'arch_filter'] = [key] * df_.shape[0]\n",
    "    df2 = pd.concat((df2, df_))"
   ]
  },
  {
   "cell_type": "code",
   "execution_count": null,
   "metadata": {},
   "outputs": [
    {
     "data": {
      "text/plain": [
       "Real            13057\n",
       "RandWaveFake     4353\n",
       "ElevenLabs       4352\n",
       "UberDuck         4352\n",
       "Name: architecture, dtype: int64"
      ]
     },
     "execution_count": 14,
     "metadata": {},
     "output_type": "execute_result"
    }
   ],
   "source": [
    "df2.architecture.value_counts()"
   ]
  },
  {
   "cell_type": "code",
   "execution_count": null,
   "metadata": {
    "tags": []
   },
   "outputs": [
    {
     "data": {
      "text/plain": [
       "RandWaveFake    8706\n",
       "ElevenLabs      8704\n",
       "UberDuck        8704\n",
       "Name: arch_filter, dtype: int64"
      ]
     },
     "execution_count": 15,
     "metadata": {},
     "output_type": "execute_result"
    }
   ],
   "source": [
    "df2.arch_filter.value_counts()"
   ]
  },
  {
   "cell_type": "code",
   "execution_count": null,
   "metadata": {},
   "outputs": [],
   "source": [
    "merge_df = df2[['path','arch_filter']]"
   ]
  },
  {
   "cell_type": "code",
   "execution_count": null,
   "metadata": {},
   "outputs": [
    {
     "data": {
      "text/plain": [
       "((26114, 2), (26114, 7))"
      ]
     },
     "execution_count": 17,
     "metadata": {},
     "output_type": "execute_result"
    }
   ],
   "source": [
    "merge_df.shape, df2.shape"
   ]
  },
  {
   "cell_type": "code",
   "execution_count": null,
   "metadata": {},
   "outputs": [],
   "source": [
    "final_df = pd.merge(df, merge_df, on='path', how='left')"
   ]
  },
  {
   "cell_type": "code",
   "execution_count": null,
   "metadata": {},
   "outputs": [
    {
     "data": {
      "text/plain": [
       "NaN             26114\n",
       "RandWaveFake     8706\n",
       "UberDuck         8704\n",
       "ElevenLabs       8704\n",
       "Name: arch_filter, dtype: int64"
      ]
     },
     "execution_count": 19,
     "metadata": {},
     "output_type": "execute_result"
    }
   ],
   "source": [
    "final_df.arch_filter.value_counts(dropna=False)"
   ]
  },
  {
   "cell_type": "code",
   "execution_count": null,
   "metadata": {},
   "outputs": [
    {
     "data": {
      "text/plain": [
       "((52228, 6), (52228, 7))"
      ]
     },
     "execution_count": 20,
     "metadata": {},
     "output_type": "execute_result"
    }
   ],
   "source": [
    "df.shape, final_df.shape"
   ]
  },
  {
   "cell_type": "markdown",
   "metadata": {
    "jp-MarkdownHeadingCollapsed": true,
    "tags": []
   },
   "source": [
    "## Side: Creating/Updating File Mappings JSON:\n",
    "\n",
    "This JSON has the path to the collection of wavfiles as the key and the corresponding smile features as values. \n",
    "\n",
    "For now, each time a new set of wav file are generated for a new provider/architecture - they should be stored in a separate unique folderpath. The `SmileFeatureGenerator` class will convert these to the csv file that can then be used to create a new JSON entry. "
   ]
  },
  {
   "cell_type": "code",
   "execution_count": null,
   "metadata": {},
   "outputs": [],
   "source": [
    "file_mapping = dict()\n",
    "\n",
    "#biden real\n",
    "file_mapping['/home/ubuntu/data/world-leaders-dataset/WavFiles/biden_wav_audio/44KHz'] = '/home/ubuntu/data/OpenSmile/04-2023-OSF-feature-csvs/OSF-2023-04-01-world-leaders-dataset-WavFiles-biden_wav_audio-44KHz.csv'\n",
    "file_mapping['/home/ubuntu/data/world-leaders-dataset/WavFiles/biden_wav_audio/16KHz'] = '/home/ubuntu/data/OpenSmile/04-2023-OSF-feature-csvs/OSF-2023-04-01-world-leaders-dataset-WavFiles-biden_wav_audio-16KHz.csv'\n",
    "\n",
    "#biden eleven labs\n",
    "file_mapping['/home/ubuntu/data/world-leaders-dataset/11LabsDeepFakes/Biden/44Khz'] = '/home/ubuntu/data/OpenSmile/04-2023-OSF-feature-csvs/OSF-2023-04-01-world-leaders-dataset-11LabsDeepFakes-Biden-44Khz.csv'\n",
    "file_mapping['/home/ubuntu/data/world-leaders-dataset/11LabsDeepFakes/Biden/16Khz'] = '/home/ubuntu/data/OpenSmile/04-2023-OSF-feature-csvs/OSF-2023-04-01-world-leaders-dataset-11LabsDeepFakes-Biden-16Khz.csv'\n",
    "\n",
    "#biden in the wild\n",
    "file_mapping['/home/ubuntu/data/InTheWildFakes/Biden/Original'] = '/home/ubuntu/data/OpenSmile/04-2023-OSF-feature-csvs/OSF-2023-04-01-InTheWildFakes-Biden-Original.csv'\n",
    "file_mapping['/home/ubuntu/data/InTheWildFakes/Biden/16000KHz'] = '/home/ubuntu/data/OpenSmile/04-2023-OSF-feature-csvs/OSF-2023-04-01-InTheWildFakes-Biden-16000KHz.csv'\n",
    "\n",
    "#ljspeech real\n",
    "file_mapping['/home/ubuntu/data/wavefake_data/LJSpeech_1.1/wavs/Original'] = '/home/ubuntu/data/OpenSmile/04-2023-OSF-feature-csvs/OSF-2023-04-01-wavefake_data-LJSpeech_1.1-wavs-Original.csv'\n",
    "file_mapping['/home/ubuntu/data/wavefake_data/LJSpeech_1.1/wavs/16000KHz'] = '/home/ubuntu/data/OpenSmile/04-2023-OSF-feature-csvs/OSF-2023-04-01-wavefake_data-LJSpeech_1.1-wavs-16000KHz.csv'\n",
    "\n",
    "#ljspeech eleven labs\n",
    "file_mapping['/home/ubuntu/data/wavefake_data/generated_audio/ljspeech_elevenlabs/Original'] = '/home/ubuntu/data/OpenSmile/04-2023-OSF-feature-csvs/OSF-2023-04-01-wavefake_data-generated_audio-ljspeech_elevenlabs-Original.csv'\n",
    "file_mapping['/home/ubuntu/data/wavefake_data/generated_audio/ljspeech_elevenlabs/16000KHz'] = '/home/ubuntu/data/OpenSmile/04-2023-OSF-feature-csvs/OSF-2023-04-01-wavefake_data-generated_audio-ljspeech_elevenlabs-16000KHz.csv'\n",
    "\n",
    "#ljspeech uberduck\n",
    "file_mapping['/home/ubuntu/data/wavefake_data/generated_audio/ljspeech_uberduck/Original'] = '/home/ubuntu/data/OpenSmile/04-2023-OSF-feature-csvs/OSF-2023-04-06-wavefake_data-generated_audio-ljspeech_uberduck-Original.csv'\n",
    "file_mapping['/home/ubuntu/data/wavefake_data/generated_audio/ljspeech_uberduck/16000KHz'] = '/home/ubuntu/data/OpenSmile/04-2023-OSF-feature-csvs/OSF-2023-04-06-wavefake_data-generated_audio-ljspeech_uberduck-16000KHz.csv'\n",
    "\n",
    "#ljspeech melgan\n",
    "file_mapping['/home/ubuntu/data/wavefake_data/generated_audio/ljspeech_melgan/Original'] = '/home/ubuntu/data/OpenSmile/04-2023-OSF-feature-csvs/OSF-2023-04-01-wavefake_data-generated_audio-ljspeech_melgan-Original.csv'\n",
    "file_mapping['/home/ubuntu/data/wavefake_data/generated_audio/ljspeech_melgan/16000KHz'] = '/home/ubuntu/data/OpenSmile/04-2023-OSF-feature-csvs/OSF-2023-04-01-wavefake_data-generated_audio-ljspeech_melgan-16000KHz.csv'\n",
    "\n",
    "#ljspeech melgan large\n",
    "file_mapping['/home/ubuntu/data/wavefake_data/generated_audio/ljspeech_melgan_large/Original'] = '/home/ubuntu/data/OpenSmile/04-2023-OSF-feature-csvs/OSF-2023-04-01-wavefake_data-generated_audio-ljspeech_melgan_large-Original.csv'\n",
    "file_mapping['/home/ubuntu/data/wavefake_data/generated_audio/ljspeech_melgan_large/16000KHz'] = '/home/ubuntu/data/OpenSmile/04-2023-OSF-feature-csvs/OSF-2023-04-01-wavefake_data-generated_audio-ljspeech_melgan_large-16000KHz.csv'\n",
    "\n",
    "#ljspeech multi band melgan\n",
    "file_mapping['/home/ubuntu/data/wavefake_data/generated_audio/ljspeech_multi_band_melgan/Original'] = '/home/ubuntu/data/OpenSmile/04-2023-OSF-feature-csvs/OSF-2023-04-01-wavefake_data-generated_audio-ljspeech_multi_band_melgan-Original.csv'\n",
    "file_mapping['/home/ubuntu/data/wavefake_data/generated_audio/ljspeech_multi_band_melgan/16000KHz'] = '/home/ubuntu/data/OpenSmile/04-2023-OSF-feature-csvs/OSF-2023-04-01-wavefake_data-generated_audio-ljspeech_multi_band_melgan-16000KHz.csv'\n",
    "\n",
    "#ljspeech full band melgan\n",
    "file_mapping['/home/ubuntu/data/wavefake_data/generated_audio/ljspeech_full_band_melgan/Original'] = '/home/ubuntu/data/OpenSmile/04-2023-OSF-feature-csvs/OSF-2023-04-01-wavefake_data-generated_audio-ljspeech_full_band_melgan-Original.csv'\n",
    "file_mapping['/home/ubuntu/data/wavefake_data/generated_audio/ljspeech_full_band_melgan/16000KHz'] = '/home/ubuntu/data/OpenSmile/04-2023-OSF-feature-csvs/OSF-2023-04-01-wavefake_data-generated_audio-ljspeech_full_band_melgan-16000KHz.csv'\n",
    "\n",
    "#ljspeech hifiGAN\n",
    "file_mapping['/home/ubuntu/data/wavefake_data/generated_audio/ljspeech_hifiGAN/Original'] = '/home/ubuntu/data/OpenSmile/04-2023-OSF-feature-csvs/OSF-2023-04-01-wavefake_data-generated_audio-ljspeech_hifiGAN-Original.csv'\n",
    "file_mapping['/home/ubuntu/data/wavefake_data/generated_audio/ljspeech_hifiGAN/16000KHz'] = '/home/ubuntu/data/OpenSmile/04-2023-OSF-feature-csvs/OSF-2023-04-01-wavefake_data-generated_audio-ljspeech_hifiGAN-16000KHz.csv'\n",
    "\n",
    "#ljspeech parallel wavegan\n",
    "file_mapping['/home/ubuntu/data/wavefake_data/generated_audio/ljspeech_parallel_wavegan/Original'] = '/home/ubuntu/data/OpenSmile/04-2023-OSF-feature-csvs/OSF-2023-04-01-wavefake_data-generated_audio-ljspeech_parallel_wavegan-Original.csv'\n",
    "file_mapping['/home/ubuntu/data/wavefake_data/generated_audio/ljspeech_parallel_wavegan/16000KHz'] = '/home/ubuntu/data/OpenSmile/04-2023-OSF-feature-csvs/OSF-2023-04-01-wavefake_data-generated_audio-ljspeech_parallel_wavegan-16000KHz.csv'\n",
    "\n",
    "#ljspeech waveglow\n",
    "file_mapping['/home/ubuntu/data/wavefake_data/generated_audio/ljspeech_waveglow/Original'] = '/home/ubuntu/data/OpenSmile/04-2023-OSF-feature-csvs/OSF-2023-04-01-wavefake_data-generated_audio-ljspeech_waveglow-Original.csv'\n",
    "file_mapping['/home/ubuntu/data/wavefake_data/generated_audio/ljspeech_waveglow/16000KHz'] = '/home/ubuntu/data/OpenSmile/04-2023-OSF-feature-csvs/OSF-2023-04-01-wavefake_data-generated_audio-ljspeech_waveglow-16000KHz.csv'\n",
    "\n",
    "#file_mapping"
   ]
  },
  {
   "cell_type": "code",
   "execution_count": null,
   "metadata": {},
   "outputs": [],
   "source": [
    "cellEnabled=0\n",
    "\n",
    "if cellEnabled:\n",
    "\n",
    "    file_mappings = '/home/ubuntu/data/OpenSmile/04-2023-OSF-feature-csvs/' + 'file_mappings.json' \n",
    "\n",
    "    with open(file_mappings, \"w\") as json_file:\n",
    "        json.dump(file_mapping, json_file, indent=4)"
   ]
  },
  {
   "cell_type": "markdown",
   "metadata": {
    "tags": []
   },
   "source": [
    "## Part 2: Loading the openSMILE features\n",
    "\n",
    "The openSMILE features are generated and stored in multiple `csv` files here - `data/OpenSmile/04-2023-OSF-feature-csvs`. This folder also stores the JSON file"
   ]
  },
  {
   "cell_type": "code",
   "execution_count": null,
   "metadata": {},
   "outputs": [
    {
     "data": {
      "text/plain": [
       "(52228, 7)"
      ]
     },
     "execution_count": 23,
     "metadata": {},
     "output_type": "execute_result"
    }
   ],
   "source": [
    "final_df.shape"
   ]
  },
  {
   "cell_type": "code",
   "execution_count": null,
   "metadata": {},
   "outputs": [
    {
     "name": "stderr",
     "output_type": "stream",
     "text": [
      "100%|██████████| 10/10 [02:15<00:00, 13.54s/it]\n"
     ]
    }
   ],
   "source": [
    "#pass the test df and the smileFeatureLoader object does the merging\n",
    "smFeatLoader = smileFeatureLoader(final_df)"
   ]
  },
  {
   "cell_type": "code",
   "execution_count": null,
   "metadata": {},
   "outputs": [],
   "source": [
    "#get the df for feature selection\n",
    "fs_df = smFeatLoader.return_merged_df()"
   ]
  },
  {
   "cell_type": "code",
   "execution_count": null,
   "metadata": {},
   "outputs": [
    {
     "data": {
      "text/plain": [
       "(52226, 6381)"
      ]
     },
     "execution_count": 26,
     "metadata": {},
     "output_type": "execute_result"
    }
   ],
   "source": [
    "fs_df.shape"
   ]
  },
  {
   "cell_type": "code",
   "execution_count": null,
   "metadata": {},
   "outputs": [
    {
     "data": {
      "text/plain": [
       "(52228, 6)"
      ]
     },
     "execution_count": 27,
     "metadata": {},
     "output_type": "execute_result"
    }
   ],
   "source": [
    "df.shape"
   ]
  },
  {
   "cell_type": "code",
   "execution_count": null,
   "metadata": {
    "tags": []
   },
   "outputs": [
    {
     "data": {
      "text/html": [
       "<div>\n",
       "<style scoped>\n",
       "    .dataframe tbody tr th:only-of-type {\n",
       "        vertical-align: middle;\n",
       "    }\n",
       "\n",
       "    .dataframe tbody tr th {\n",
       "        vertical-align: top;\n",
       "    }\n",
       "\n",
       "    .dataframe thead th {\n",
       "        text-align: right;\n",
       "    }\n",
       "</style>\n",
       "<table border=\"1\" class=\"dataframe\">\n",
       "  <thead>\n",
       "    <tr style=\"text-align: right;\">\n",
       "      <th></th>\n",
       "      <th>type</th>\n",
       "      <th>id</th>\n",
       "      <th>architecture</th>\n",
       "      <th>path</th>\n",
       "      <th>label</th>\n",
       "      <th>multiclass_label</th>\n",
       "      <th>arch_filter</th>\n",
       "      <th>duration(seconds)</th>\n",
       "      <th>audspec_lengthL1norm_sma_range</th>\n",
       "      <th>audspec_lengthL1norm_sma_maxPos</th>\n",
       "      <th>...</th>\n",
       "      <th>mfcc_sma_de[14]_peakRangeAbs</th>\n",
       "      <th>mfcc_sma_de[14]_peakRangeRel</th>\n",
       "      <th>mfcc_sma_de[14]_peakMeanAbs</th>\n",
       "      <th>mfcc_sma_de[14]_peakMeanMeanDist</th>\n",
       "      <th>mfcc_sma_de[14]_peakMeanRel</th>\n",
       "      <th>mfcc_sma_de[14]_minRangeRel</th>\n",
       "      <th>mfcc_sma_de[14]_meanRisingSlope</th>\n",
       "      <th>mfcc_sma_de[14]_stddevRisingSlope</th>\n",
       "      <th>mfcc_sma_de[14]_meanFallingSlope</th>\n",
       "      <th>mfcc_sma_de[14]_stddevFallingSlope</th>\n",
       "    </tr>\n",
       "  </thead>\n",
       "  <tbody>\n",
       "    <tr>\n",
       "      <th>0</th>\n",
       "      <td>train</td>\n",
       "      <td>LJ013-0125</td>\n",
       "      <td>Real</td>\n",
       "      <td>/home/ubuntu/data/wavefake_data/LJSpeech_1.1/w...</td>\n",
       "      <td>0</td>\n",
       "      <td>0</td>\n",
       "      <td>UberDuck</td>\n",
       "      <td>7.600</td>\n",
       "      <td>2.150976</td>\n",
       "      <td>0.856192</td>\n",
       "      <td>...</td>\n",
       "      <td>6.666750</td>\n",
       "      <td>0.561728</td>\n",
       "      <td>2.251509</td>\n",
       "      <td>2.245225</td>\n",
       "      <td>19.983110</td>\n",
       "      <td>0.502100</td>\n",
       "      <td>104.51715</td>\n",
       "      <td>42.642437</td>\n",
       "      <td>102.34870</td>\n",
       "      <td>44.233257</td>\n",
       "    </tr>\n",
       "    <tr>\n",
       "      <th>1</th>\n",
       "      <td>train</td>\n",
       "      <td>LJ042-0084</td>\n",
       "      <td>Real</td>\n",
       "      <td>/home/ubuntu/data/wavefake_data/LJSpeech_1.1/w...</td>\n",
       "      <td>0</td>\n",
       "      <td>0</td>\n",
       "      <td>RandWaveFake</td>\n",
       "      <td>8.517</td>\n",
       "      <td>2.152849</td>\n",
       "      <td>0.801663</td>\n",
       "      <td>...</td>\n",
       "      <td>8.883474</td>\n",
       "      <td>0.466906</td>\n",
       "      <td>3.512975</td>\n",
       "      <td>3.513055</td>\n",
       "      <td>-20.000000</td>\n",
       "      <td>0.595703</td>\n",
       "      <td>138.78543</td>\n",
       "      <td>64.106000</td>\n",
       "      <td>135.07686</td>\n",
       "      <td>69.522630</td>\n",
       "    </tr>\n",
       "    <tr>\n",
       "      <th>2</th>\n",
       "      <td>train</td>\n",
       "      <td>LJ047-0032</td>\n",
       "      <td>Real</td>\n",
       "      <td>/home/ubuntu/data/wavefake_data/LJSpeech_1.1/w...</td>\n",
       "      <td>0</td>\n",
       "      <td>0</td>\n",
       "      <td>ElevenLabs</td>\n",
       "      <td>8.203</td>\n",
       "      <td>1.993151</td>\n",
       "      <td>0.070284</td>\n",
       "      <td>...</td>\n",
       "      <td>9.228073</td>\n",
       "      <td>0.445313</td>\n",
       "      <td>3.162120</td>\n",
       "      <td>3.158883</td>\n",
       "      <td>19.999882</td>\n",
       "      <td>0.725314</td>\n",
       "      <td>130.25446</td>\n",
       "      <td>67.431730</td>\n",
       "      <td>124.56447</td>\n",
       "      <td>68.578705</td>\n",
       "    </tr>\n",
       "    <tr>\n",
       "      <th>3</th>\n",
       "      <td>train</td>\n",
       "      <td>LJ044-0063</td>\n",
       "      <td>Real</td>\n",
       "      <td>/home/ubuntu/data/wavefake_data/LJSpeech_1.1/w...</td>\n",
       "      <td>0</td>\n",
       "      <td>0</td>\n",
       "      <td>RandWaveFake</td>\n",
       "      <td>3.025</td>\n",
       "      <td>3.101600</td>\n",
       "      <td>0.054422</td>\n",
       "      <td>...</td>\n",
       "      <td>7.837853</td>\n",
       "      <td>0.519312</td>\n",
       "      <td>2.595290</td>\n",
       "      <td>2.634245</td>\n",
       "      <td>-18.663334</td>\n",
       "      <td>0.602941</td>\n",
       "      <td>114.82919</td>\n",
       "      <td>67.769290</td>\n",
       "      <td>113.65942</td>\n",
       "      <td>59.367180</td>\n",
       "    </tr>\n",
       "    <tr>\n",
       "      <th>4</th>\n",
       "      <td>train</td>\n",
       "      <td>LJ016-0067</td>\n",
       "      <td>Real</td>\n",
       "      <td>/home/ubuntu/data/wavefake_data/LJSpeech_1.1/w...</td>\n",
       "      <td>0</td>\n",
       "      <td>0</td>\n",
       "      <td>RandWaveFake</td>\n",
       "      <td>10.049</td>\n",
       "      <td>2.455078</td>\n",
       "      <td>0.045226</td>\n",
       "      <td>...</td>\n",
       "      <td>9.766602</td>\n",
       "      <td>0.581217</td>\n",
       "      <td>2.960240</td>\n",
       "      <td>2.954486</td>\n",
       "      <td>19.996292</td>\n",
       "      <td>0.609338</td>\n",
       "      <td>137.75078</td>\n",
       "      <td>60.657215</td>\n",
       "      <td>129.61658</td>\n",
       "      <td>60.697903</td>\n",
       "    </tr>\n",
       "  </tbody>\n",
       "</table>\n",
       "<p>5 rows × 6381 columns</p>\n",
       "</div>"
      ],
      "text/plain": [
       "    type          id architecture  \\\n",
       "0  train  LJ013-0125         Real   \n",
       "1  train  LJ042-0084         Real   \n",
       "2  train  LJ047-0032         Real   \n",
       "3  train  LJ044-0063         Real   \n",
       "4  train  LJ016-0067         Real   \n",
       "\n",
       "                                                path  label  multiclass_label  \\\n",
       "0  /home/ubuntu/data/wavefake_data/LJSpeech_1.1/w...      0                 0   \n",
       "1  /home/ubuntu/data/wavefake_data/LJSpeech_1.1/w...      0                 0   \n",
       "2  /home/ubuntu/data/wavefake_data/LJSpeech_1.1/w...      0                 0   \n",
       "3  /home/ubuntu/data/wavefake_data/LJSpeech_1.1/w...      0                 0   \n",
       "4  /home/ubuntu/data/wavefake_data/LJSpeech_1.1/w...      0                 0   \n",
       "\n",
       "    arch_filter  duration(seconds)  audspec_lengthL1norm_sma_range  \\\n",
       "0      UberDuck              7.600                        2.150976   \n",
       "1  RandWaveFake              8.517                        2.152849   \n",
       "2    ElevenLabs              8.203                        1.993151   \n",
       "3  RandWaveFake              3.025                        3.101600   \n",
       "4  RandWaveFake             10.049                        2.455078   \n",
       "\n",
       "   audspec_lengthL1norm_sma_maxPos  ...  mfcc_sma_de[14]_peakRangeAbs  \\\n",
       "0                         0.856192  ...                      6.666750   \n",
       "1                         0.801663  ...                      8.883474   \n",
       "2                         0.070284  ...                      9.228073   \n",
       "3                         0.054422  ...                      7.837853   \n",
       "4                         0.045226  ...                      9.766602   \n",
       "\n",
       "   mfcc_sma_de[14]_peakRangeRel  mfcc_sma_de[14]_peakMeanAbs  \\\n",
       "0                      0.561728                     2.251509   \n",
       "1                      0.466906                     3.512975   \n",
       "2                      0.445313                     3.162120   \n",
       "3                      0.519312                     2.595290   \n",
       "4                      0.581217                     2.960240   \n",
       "\n",
       "   mfcc_sma_de[14]_peakMeanMeanDist  mfcc_sma_de[14]_peakMeanRel  \\\n",
       "0                          2.245225                    19.983110   \n",
       "1                          3.513055                   -20.000000   \n",
       "2                          3.158883                    19.999882   \n",
       "3                          2.634245                   -18.663334   \n",
       "4                          2.954486                    19.996292   \n",
       "\n",
       "   mfcc_sma_de[14]_minRangeRel  mfcc_sma_de[14]_meanRisingSlope  \\\n",
       "0                     0.502100                        104.51715   \n",
       "1                     0.595703                        138.78543   \n",
       "2                     0.725314                        130.25446   \n",
       "3                     0.602941                        114.82919   \n",
       "4                     0.609338                        137.75078   \n",
       "\n",
       "   mfcc_sma_de[14]_stddevRisingSlope  mfcc_sma_de[14]_meanFallingSlope  \\\n",
       "0                          42.642437                         102.34870   \n",
       "1                          64.106000                         135.07686   \n",
       "2                          67.431730                         124.56447   \n",
       "3                          67.769290                         113.65942   \n",
       "4                          60.657215                         129.61658   \n",
       "\n",
       "   mfcc_sma_de[14]_stddevFallingSlope  \n",
       "0                           44.233257  \n",
       "1                           69.522630  \n",
       "2                           68.578705  \n",
       "3                           59.367180  \n",
       "4                           60.697903  \n",
       "\n",
       "[5 rows x 6381 columns]"
      ]
     },
     "execution_count": 28,
     "metadata": {},
     "output_type": "execute_result"
    }
   ],
   "source": [
    "fs_df.head()"
   ]
  },
  {
   "cell_type": "code",
   "execution_count": null,
   "metadata": {
    "tags": []
   },
   "outputs": [
    {
     "data": {
      "text/plain": [
       "['type',\n",
       " 'id',\n",
       " 'architecture',\n",
       " 'path',\n",
       " 'label',\n",
       " 'multiclass_label',\n",
       " 'arch_filter']"
      ]
     },
     "execution_count": 29,
     "metadata": {},
     "output_type": "execute_result"
    }
   ],
   "source": [
    "#get the columns that are not the 6373 features as metadata\n",
    "metadata = list(fs_df.columns[:7])\n",
    "metadata"
   ]
  },
  {
   "cell_type": "markdown",
   "metadata": {
    "tags": []
   },
   "source": [
    "## Part 3: Running Brute Force Feature Selection"
   ]
  },
  {
   "cell_type": "code",
   "execution_count": null,
   "metadata": {},
   "outputs": [
    {
     "data": {
      "text/plain": [
       "(52226, 6381)"
      ]
     },
     "execution_count": 30,
     "metadata": {},
     "output_type": "execute_result"
    }
   ],
   "source": [
    "fs_df.shape"
   ]
  },
  {
   "cell_type": "code",
   "execution_count": null,
   "metadata": {},
   "outputs": [
    {
     "name": "stdout",
     "output_type": "stream",
     "text": [
      "Initializing data...\n",
      "Standardizing features...\n",
      "smileFeatureSelectorBruteForce object initialized.\n",
      "\n"
     ]
    }
   ],
   "source": [
    "#initialize the object\n",
    "smFS_bf = smileFeatureSelectorBruteForce(df=fs_df)"
   ]
  },
  {
   "cell_type": "code",
   "execution_count": null,
   "metadata": {},
   "outputs": [
    {
     "name": "stdout",
     "output_type": "stream",
     "text": [
      "Generating brute force feature selection data...\n"
     ]
    },
    {
     "name": "stderr",
     "output_type": "stream",
     "text": [
      "100%|██████████| 6373/6373 [00:34<00:00, 185.06it/s]\n",
      "100%|██████████| 6373/6373 [00:31<00:00, 199.88it/s]\n",
      "100%|██████████| 6373/6373 [00:29<00:00, 212.82it/s]\n",
      "100%|██████████| 6373/6373 [00:30<00:00, 209.77it/s]\n",
      "100%|██████████| 6373/6373 [04:23<00:00, 24.14it/s]"
     ]
    },
    {
     "name": "stdout",
     "output_type": "stream",
     "text": [
      "\n",
      "Brute force feature selection data generated.\n",
      "All data stored in self.bffs_data.\n",
      "\n"
     ]
    },
    {
     "name": "stderr",
     "output_type": "stream",
     "text": [
      "\n"
     ]
    }
   ],
   "source": [
    "smFS_bf.generate_data()"
   ]
  },
  {
   "cell_type": "code",
   "execution_count": null,
   "metadata": {},
   "outputs": [
    {
     "data": {
      "text/html": [
       "<div>\n",
       "<style scoped>\n",
       "    .dataframe tbody tr th:only-of-type {\n",
       "        vertical-align: middle;\n",
       "    }\n",
       "\n",
       "    .dataframe tbody tr th {\n",
       "        vertical-align: top;\n",
       "    }\n",
       "\n",
       "    .dataframe thead th {\n",
       "        text-align: right;\n",
       "    }\n",
       "</style>\n",
       "<table border=\"1\" class=\"dataframe\">\n",
       "  <thead>\n",
       "    <tr style=\"text-align: right;\">\n",
       "      <th></th>\n",
       "      <th>features</th>\n",
       "      <th>ElevenLabs</th>\n",
       "      <th>UberDuck</th>\n",
       "      <th>RandWaveFake</th>\n",
       "      <th>average_binary</th>\n",
       "      <th>all_archs</th>\n",
       "      <th>multiclass</th>\n",
       "    </tr>\n",
       "  </thead>\n",
       "  <tbody>\n",
       "    <tr>\n",
       "      <th>96</th>\n",
       "      <td>pcm_zcr_sma_quartile1</td>\n",
       "      <td>0.998468</td>\n",
       "      <td>0.600153</td>\n",
       "      <td>0.500574</td>\n",
       "      <td>0.699732</td>\n",
       "      <td>0.662007</td>\n",
       "      <td>0.548640</td>\n",
       "    </tr>\n",
       "    <tr>\n",
       "      <th>93</th>\n",
       "      <td>pcm_zcr_sma_range</td>\n",
       "      <td>0.995596</td>\n",
       "      <td>0.580429</td>\n",
       "      <td>0.513022</td>\n",
       "      <td>0.696349</td>\n",
       "      <td>0.653198</td>\n",
       "      <td>0.529395</td>\n",
       "    </tr>\n",
       "    <tr>\n",
       "      <th>103</th>\n",
       "      <td>pcm_zcr_sma_percentile99.0</td>\n",
       "      <td>0.995021</td>\n",
       "      <td>0.541172</td>\n",
       "      <td>0.518767</td>\n",
       "      <td>0.684987</td>\n",
       "      <td>0.641708</td>\n",
       "      <td>0.517714</td>\n",
       "    </tr>\n",
       "    <tr>\n",
       "      <th>104</th>\n",
       "      <td>pcm_zcr_sma_pctlrange0-1</td>\n",
       "      <td>0.994255</td>\n",
       "      <td>0.533321</td>\n",
       "      <td>0.521256</td>\n",
       "      <td>0.682944</td>\n",
       "      <td>0.640176</td>\n",
       "      <td>0.513118</td>\n",
       "    </tr>\n",
       "    <tr>\n",
       "      <th>227</th>\n",
       "      <td>pcm_zcr_sma_de_percentile99.0</td>\n",
       "      <td>0.993489</td>\n",
       "      <td>0.556683</td>\n",
       "      <td>0.519341</td>\n",
       "      <td>0.689838</td>\n",
       "      <td>0.622941</td>\n",
       "      <td>0.534374</td>\n",
       "    </tr>\n",
       "    <tr>\n",
       "      <th>...</th>\n",
       "      <td>...</td>\n",
       "      <td>...</td>\n",
       "      <td>...</td>\n",
       "      <td>...</td>\n",
       "      <td>...</td>\n",
       "      <td>...</td>\n",
       "      <td>...</td>\n",
       "    </tr>\n",
       "    <tr>\n",
       "      <th>2562</th>\n",
       "      <td>audSpec_Rfilt_sma_de[19]_upleveltime50</td>\n",
       "      <td>0.457488</td>\n",
       "      <td>0.513596</td>\n",
       "      <td>0.501340</td>\n",
       "      <td>0.490808</td>\n",
       "      <td>0.476446</td>\n",
       "      <td>0.234872</td>\n",
       "    </tr>\n",
       "    <tr>\n",
       "      <th>4862</th>\n",
       "      <td>pcm_fftMag_fband1000-4000_sma_qregc1</td>\n",
       "      <td>0.457296</td>\n",
       "      <td>0.548449</td>\n",
       "      <td>0.496936</td>\n",
       "      <td>0.500894</td>\n",
       "      <td>0.528342</td>\n",
       "      <td>0.251628</td>\n",
       "    </tr>\n",
       "    <tr>\n",
       "      <th>175</th>\n",
       "      <td>audspecRasta_lengthL1norm_sma_de_upleveltime50</td>\n",
       "      <td>0.454998</td>\n",
       "      <td>0.543278</td>\n",
       "      <td>0.504404</td>\n",
       "      <td>0.500894</td>\n",
       "      <td>0.497319</td>\n",
       "      <td>0.270203</td>\n",
       "    </tr>\n",
       "    <tr>\n",
       "      <th>2493</th>\n",
       "      <td>audSpec_Rfilt_sma_de[17]_skewness</td>\n",
       "      <td>0.453083</td>\n",
       "      <td>0.557641</td>\n",
       "      <td>0.500574</td>\n",
       "      <td>0.503766</td>\n",
       "      <td>0.496170</td>\n",
       "      <td>0.280065</td>\n",
       "    </tr>\n",
       "    <tr>\n",
       "      <th>5115</th>\n",
       "      <td>pcm_fftMag_spectralSlope_sma_qregc1</td>\n",
       "      <td>0.451551</td>\n",
       "      <td>0.556875</td>\n",
       "      <td>0.496936</td>\n",
       "      <td>0.501787</td>\n",
       "      <td>0.468403</td>\n",
       "      <td>0.253447</td>\n",
       "    </tr>\n",
       "  </tbody>\n",
       "</table>\n",
       "<p>6373 rows × 7 columns</p>\n",
       "</div>"
      ],
      "text/plain": [
       "                                            features  ElevenLabs  UberDuck  \\\n",
       "96                             pcm_zcr_sma_quartile1    0.998468  0.600153   \n",
       "93                                 pcm_zcr_sma_range    0.995596  0.580429   \n",
       "103                       pcm_zcr_sma_percentile99.0    0.995021  0.541172   \n",
       "104                         pcm_zcr_sma_pctlrange0-1    0.994255  0.533321   \n",
       "227                    pcm_zcr_sma_de_percentile99.0    0.993489  0.556683   \n",
       "...                                              ...         ...       ...   \n",
       "2562          audSpec_Rfilt_sma_de[19]_upleveltime50    0.457488  0.513596   \n",
       "4862            pcm_fftMag_fband1000-4000_sma_qregc1    0.457296  0.548449   \n",
       "175   audspecRasta_lengthL1norm_sma_de_upleveltime50    0.454998  0.543278   \n",
       "2493               audSpec_Rfilt_sma_de[17]_skewness    0.453083  0.557641   \n",
       "5115             pcm_fftMag_spectralSlope_sma_qregc1    0.451551  0.556875   \n",
       "\n",
       "      RandWaveFake  average_binary  all_archs  multiclass  \n",
       "96        0.500574        0.699732   0.662007    0.548640  \n",
       "93        0.513022        0.696349   0.653198    0.529395  \n",
       "103       0.518767        0.684987   0.641708    0.517714  \n",
       "104       0.521256        0.682944   0.640176    0.513118  \n",
       "227       0.519341        0.689838   0.622941    0.534374  \n",
       "...            ...             ...        ...         ...  \n",
       "2562      0.501340        0.490808   0.476446    0.234872  \n",
       "4862      0.496936        0.500894   0.528342    0.251628  \n",
       "175       0.504404        0.500894   0.497319    0.270203  \n",
       "2493      0.500574        0.503766   0.496170    0.280065  \n",
       "5115      0.496936        0.501787   0.468403    0.253447  \n",
       "\n",
       "[6373 rows x 7 columns]"
      ]
     },
     "execution_count": 33,
     "metadata": {},
     "output_type": "execute_result"
    }
   ],
   "source": [
    "smFS_bf.bffs_data.sort_values(by='ElevenLabs', ascending=False)"
   ]
  },
  {
   "cell_type": "code",
   "execution_count": null,
   "metadata": {},
   "outputs": [
    {
     "name": "stdout",
     "output_type": "stream",
     "text": [
      "\n",
      "Top 15 features selected from ElevenLabs architecture.\n",
      "\n",
      "1. pcm_zcr_sma_quartile1\n",
      "2. pcm_zcr_sma_range\n",
      "3. pcm_zcr_sma_percentile99.0\n",
      "4. pcm_zcr_sma_pctlrange0-1\n",
      "5. pcm_zcr_sma_de_percentile99.0\n",
      "6. pcm_zcr_sma_de_pctlrange0-1\n",
      "7. pcm_zcr_sma_quartile2\n",
      "8. pcm_zcr_sma_de_range\n",
      "9. pcm_zcr_sma_de_percentile1.0\n",
      "10. pcm_zcr_sma_percentile1.0\n",
      "11. pcm_fftMag_spectralSlope_sma_percentile99.0\n",
      "12. audspec_lengthL1norm_sma_de_peakMeanRel\n",
      "13. pcm_zcr_sma_stddev\n",
      "14. pcm_zcr_sma_rqmean\n",
      "15. pcm_zcr_sma_peakMeanAbs\n"
     ]
    }
   ],
   "source": [
    "smFS_bf.FS_from_col(num_features=15, sort_col='ElevenLabs')"
   ]
  },
  {
   "cell_type": "code",
   "execution_count": null,
   "metadata": {},
   "outputs": [
    {
     "name": "stdout",
     "output_type": "stream",
     "text": [
      "\n",
      "Top features selected from all architectures.\n",
      "\n",
      "1. pcm_zcr_sma_quartile1\n",
      "2. jitterLocal_sma_flatness\n",
      "3. mfcc_sma[13]_lpgain\n",
      "4. mfcc_sma_de[9]_meanRisingSlope\n",
      "5. jitterDDP_sma_quartile2\n",
      "6. pcm_zcr_sma_peakMeanAbs\n",
      "7. pcm_zcr_sma_percentile99.0\n",
      "8. pcm_zcr_sma_de_range\n",
      "9. mfcc_sma_de[14]_lpgain\n",
      "10. shimmerLocal_sma_quartile1\n",
      "11. mfcc_sma[14]_quartile2\n",
      "12. mfcc_sma[5]_lpc2\n",
      "13. jitterDDP_sma_flatness\n",
      "14. jitterDDP_sma_percentile1.0\n",
      "15. pcm_zcr_sma_pctlrange0-1\n",
      "16. shimmerLocal_sma_percentile1.0\n",
      "17. pcm_zcr_sma_de_pctlrange0-1\n",
      "18. pcm_fftMag_spectralSlope_sma_percentile99.0\n",
      "19. mfcc_sma_de[11]_lpgain\n",
      "20. mfcc_sma_de[14]_meanFallingSlope\n",
      "21. mfcc_sma[14]_quartile3\n",
      "22. jitterLocal_sma_quartile1\n",
      "23. pcm_zcr_sma_stddev\n",
      "24. mfcc_sma[14]_amean\n",
      "25. mfcc_sma_de[13]_meanRisingSlope\n",
      "26. jitterLocal_sma_percentile1.0\n",
      "27. mfcc_sma_de[13]_lpgain\n",
      "28. mfcc_sma[14]_peakMeanAbs\n",
      "29. pcm_zcr_sma_quartile2\n",
      "30. pcm_zcr_sma_percentile1.0\n",
      "31. pcm_zcr_sma_rqmean\n",
      "32. pcm_zcr_sma_range\n",
      "33. mfcc_sma[11]_lpc2\n",
      "34. audspec_lengthL1norm_sma_de_peakMeanRel\n",
      "35. mfcc_sma[8]_lpgain\n",
      "36. jitterDDP_sma_quartile1\n",
      "37. mfcc_sma[9]_lpgain\n",
      "38. pcm_zcr_sma_de_percentile99.0\n",
      "39. mfcc_sma_de[6]_lpc2\n",
      "40. pcm_zcr_sma_de_percentile1.0\n",
      "41. mfcc_sma_de[8]_lpgain\n",
      "42. mfcc_sma[12]_lpgain\n",
      "43. mfcc_sma_de[9]_lpgain\n"
     ]
    }
   ],
   "source": [
    "smFS_bf.FS_top_n_from_all_archs(n=15)"
   ]
  },
  {
   "cell_type": "markdown",
   "metadata": {},
   "source": [
    "#### Running multiclass prediction:"
   ]
  },
  {
   "cell_type": "code",
   "execution_count": null,
   "metadata": {},
   "outputs": [],
   "source": [
    "features = smFS_bf.FS_top_n_from_all_archs(n=15, return_features=True, print_features=False)"
   ]
  },
  {
   "cell_type": "code",
   "execution_count": null,
   "metadata": {},
   "outputs": [],
   "source": [
    "metadata=['type', 'id', 'architecture', 'path', 'label', 'multiclass_label', 'duration(seconds)']\n",
    "ml_data = fs_df[fs_df.columns.intersection(metadata + features)]"
   ]
  },
  {
   "cell_type": "code",
   "execution_count": null,
   "metadata": {},
   "outputs": [],
   "source": [
    "model = LogisticRegression(max_iter=1000000, n_jobs=-1, solver='saga')"
   ]
  },
  {
   "cell_type": "code",
   "execution_count": null,
   "metadata": {},
   "outputs": [],
   "source": [
    "train_df = ml_data[ml_data['type'] == 'train'].copy()\n",
    "test_df = ml_data[ml_data['type'] == 'test'].copy()"
   ]
  },
  {
   "cell_type": "code",
   "execution_count": null,
   "metadata": {},
   "outputs": [
    {
     "data": {
      "text/plain": [
       "(0.8895484282750917, 0.8893462237963051)"
      ]
     },
     "execution_count": 40,
     "metadata": {},
     "output_type": "execute_result"
    }
   ],
   "source": [
    "X_train = train_df[features]\n",
    "X_test = test_df[features]\n",
    "\n",
    "y_train = train_df['multiclass_label']\n",
    "y_test = test_df['multiclass_label']\n",
    "\n",
    "model.fit(X_train, y_train)\n",
    "y_hat_train = model.predict(X_train)\n",
    "y_hat_test = model.predict(X_test)\n",
    "\n",
    "tra_acc = accuracy_score(y_train, y_hat_train)\n",
    "tst_acc = accuracy_score(y_test, y_hat_test)\n",
    "\n",
    "tra_acc, tst_acc"
   ]
  },
  {
   "cell_type": "markdown",
   "metadata": {},
   "source": [
    "## Part 4: Running Select From Model"
   ]
  },
  {
   "cell_type": "code",
   "execution_count": null,
   "metadata": {},
   "outputs": [
    {
     "name": "stdout",
     "output_type": "stream",
     "text": [
      "Initializing data...\n",
      "Standardizing features...\n",
      "smileFeatureSelectFromModel object initialized.\n",
      "\n"
     ]
    }
   ],
   "source": [
    "smFS_model = smileFeatureSelectFromModel(fs_df)"
   ]
  },
  {
   "cell_type": "code",
   "execution_count": null,
   "metadata": {},
   "outputs": [
    {
     "name": "stdout",
     "output_type": "stream",
     "text": [
      "\n",
      "Selected features:.\n",
      "\n",
      "1. mfcc_sma[13]_lpgain\n",
      "2. mfcc_sma[8]_lpgain\n",
      "3. jitterDDP_sma_quartile1\n",
      "4. mfcc_sma[9]_lpgain\n",
      "5. jitterDDP_sma_percentile1.0\n",
      "6. pcm_zcr_sma_percentile99.0\n",
      "7. mfcc_sma_de[13]_lpgain\n",
      "8. mfcc_sma[12]_lpgain\n",
      "9. mfcc_sma_de[9]_lpgain\n",
      "10. mfcc_sma[12]_meanPeakDist\n"
     ]
    }
   ],
   "source": [
    "smFS_model.select_features_binary()"
   ]
  },
  {
   "cell_type": "code",
   "execution_count": null,
   "metadata": {},
   "outputs": [
    {
     "name": "stdout",
     "output_type": "stream",
     "text": [
      "\n",
      "Selected features:.\n",
      "\n",
      "1. mfcc_sma[5]_lpc2\n",
      "2. mfcc_sma[13]_lpgain\n",
      "3. audspec_lengthL1norm_sma_rqmean\n",
      "4. mfcc_sma[9]_lpgain\n",
      "5. pcm_zcr_sma_percentile99.0\n",
      "6. mfcc_sma_de[13]_lpgain\n",
      "7. mfcc_sma[14]_peakMeanAbs\n",
      "8. pcm_zcr_sma_peakRangeAbs\n",
      "9. mfcc_sma_de[9]_lpgain\n",
      "10. mfcc_sma[14]_quartile2\n"
     ]
    }
   ],
   "source": [
    "smFS_model.select_features_binary(max_features=10, archs=['ElevenLabs', 'UberDuck'])"
   ]
  },
  {
   "cell_type": "code",
   "execution_count": null,
   "metadata": {},
   "outputs": [
    {
     "name": "stdout",
     "output_type": "stream",
     "text": [
      "\n",
      "Selected features:.\n",
      "\n",
      "1. pcm_zcr_sma_quartile1\n",
      "2. pcm_zcr_sma_stddev\n",
      "3. pcm_zcr_sma_rqmean\n",
      "4. voicingFinalUnclipped_sma_flatness\n",
      "5. audspec_lengthL1norm_sma_minPos\n",
      "6. pcm_zcr_sma_de_lpc1\n",
      "7. pcm_zcr_sma_percentile99.0\n",
      "8. pcm_zcr_sma_de_pctlrange0-1\n",
      "9. pcm_zcr_sma_quartile2\n",
      "10. pcm_zcr_sma_range\n"
     ]
    }
   ],
   "source": [
    "smFS_model.select_features_binary(max_features=10, archs='ElevenLabs')"
   ]
  },
  {
   "cell_type": "code",
   "execution_count": null,
   "metadata": {},
   "outputs": [
    {
     "name": "stdout",
     "output_type": "stream",
     "text": [
      "\n",
      "Selected features:.\n",
      "\n",
      "1. mfcc_sma[5]_lpc2\n",
      "2. mfcc_sma[13]_lpgain\n",
      "3. mfcc_sma_de[13]_meanFallingSlope\n",
      "4. mfcc_sma_de[13]_meanRisingSlope\n",
      "5. mfcc_sma_de[13]_lpgain\n",
      "6. mfcc_sma[14]_peakMeanAbs\n",
      "7. mfcc_sma_de[8]_lpgain\n",
      "8. mfcc_sma[14]_rqmean\n",
      "9. mfcc_sma[13]_meanFallingSlope\n",
      "10. mfcc_sma[14]_quartile2\n"
     ]
    }
   ],
   "source": [
    "smFS_model.select_features_binary(max_features=10, archs='UberDuck')"
   ]
  },
  {
   "cell_type": "code",
   "execution_count": null,
   "metadata": {},
   "outputs": [
    {
     "name": "stdout",
     "output_type": "stream",
     "text": [
      "\n",
      "Selected features:.\n",
      "\n",
      "1. mfcc_sma[5]_lpc2\n",
      "2. voicingFinalUnclipped_sma_rqmean\n",
      "3. jitterDDP_sma_quartile1\n",
      "4. audspec_lengthL1norm_sma_de_stddev\n",
      "5. audspec_lengthL1norm_sma_de_peakMeanMeanDist\n",
      "6. jitterDDP_sma_percentile1.0\n",
      "7. pcm_fftMag_spectralSlope_sma_percentile99.0\n",
      "8. pcm_zcr_sma_de_peakMeanMeanDist\n",
      "9. pcm_zcr_sma_de_rqmean\n",
      "10. mfcc_sma[11]_lpc2\n"
     ]
    },
    {
     "data": {
      "text/plain": [
       "['mfcc_sma[5]_lpc2',\n",
       " 'voicingFinalUnclipped_sma_rqmean',\n",
       " 'jitterDDP_sma_quartile1',\n",
       " 'audspec_lengthL1norm_sma_de_stddev',\n",
       " 'audspec_lengthL1norm_sma_de_peakMeanMeanDist',\n",
       " 'jitterDDP_sma_percentile1.0',\n",
       " 'pcm_fftMag_spectralSlope_sma_percentile99.0',\n",
       " 'pcm_zcr_sma_de_peakMeanMeanDist',\n",
       " 'pcm_zcr_sma_de_rqmean',\n",
       " 'mfcc_sma[11]_lpc2']"
      ]
     },
     "execution_count": 46,
     "metadata": {},
     "output_type": "execute_result"
    }
   ],
   "source": [
    "smFS_model.select_features_multiclass(max_features=10, archs=['ElevenLabs', 'UberDuck'], return_features=True)"
   ]
  },
  {
   "cell_type": "markdown",
   "metadata": {},
   "source": [
    "### Univariate Feature Selection:"
   ]
  },
  {
   "cell_type": "code",
   "execution_count": null,
   "metadata": {},
   "outputs": [
    {
     "name": "stdout",
     "output_type": "stream",
     "text": [
      "Initializing data...\n",
      "Standardizing features...\n",
      "smileUnivariateFeatureSelector object initialized.\n",
      "\n"
     ]
    }
   ],
   "source": [
    "smFS_univariate = smileUnivariateFeatureSelector(df=fs_df)"
   ]
  },
  {
   "cell_type": "code",
   "execution_count": null,
   "metadata": {},
   "outputs": [
    {
     "name": "stdout",
     "output_type": "stream",
     "text": [
      "\n",
      "Selected features:.\n",
      "\n",
      "1. pcm_zcr_sma_quartile1\n",
      "2. mfcc_sma[13]_lpgain\n",
      "3. pcm_fftMag_spectralFlux_sma_minPos\n",
      "4. mfcc_sma[6]_lpc0\n",
      "5. pcm_zcr_sma_percentile99.0\n",
      "6. pcm_zcr_sma_de_range\n",
      "7. audspec_lengthL1norm_sma_peakMeanAbs\n",
      "8. pcm_RMSenergy_sma_de_peakMeanRel\n",
      "9. audspec_lengthL1norm_sma_de_stddev\n",
      "10. audspec_lengthL1norm_sma_de_rqmean\n",
      "11. pcm_zcr_sma_pctlrange0-1\n",
      "12. audspec_lengthL1norm_sma_quartile3\n",
      "13. pcm_zcr_sma_de_pctlrange0-1\n",
      "14. pcm_fftMag_spectralSlope_sma_percentile99.0\n",
      "15. pcm_fftMag_spectralHarmonicity_sma_de_peakMeanRel\n",
      "16. audspec_lengthL1norm_sma_de_posamean\n",
      "17. audspec_lengthL1norm_sma_rqmean\n",
      "18. pcm_zcr_sma_quartile2\n",
      "19. pcm_zcr_sma_percentile1.0\n",
      "20. pcm_fftMag_spectralSlope_sma_maxPos\n",
      "21. pcm_zcr_sma_range\n",
      "22. audspec_lengthL1norm_sma_amean\n",
      "23. voicingFinalUnclipped_sma_percentile1.0\n",
      "24. mfcc_sma_de[12]_lpgain\n",
      "25. pcm_zcr_sma_de_percentile1.0\n"
     ]
    }
   ],
   "source": [
    "smFS_univariate.select_features(score_func=fs.mutual_info_classif, mode='k_best',\n",
    "                                num_features=25, archs='all_archs')"
   ]
  },
  {
   "cell_type": "code",
   "execution_count": null,
   "metadata": {},
   "outputs": [
    {
     "name": "stdout",
     "output_type": "stream",
     "text": [
      "\n",
      "Selected features:.\n",
      "\n",
      "1. pcm_zcr_sma_quartile1\n",
      "2. pcm_fftMag_spectralFlux_sma_minPos\n",
      "3. pcm_zcr_sma_percentile99.0\n",
      "4. pcm_zcr_sma_de_range\n",
      "5. audspec_lengthL1norm_sma_peakMeanAbs\n",
      "6. mfcc_sma[14]_rqmean\n",
      "7. pcm_RMSenergy_sma_de_peakMeanRel\n",
      "8. audspec_lengthL1norm_sma_de_stddev\n",
      "9. pcm_fftMag_spectralKurtosis_sma_de_quartile3\n",
      "10. pcm_fftMag_spectralKurtosis_sma_de_iqr2-3\n",
      "11. audspec_lengthL1norm_sma_de_rqmean\n",
      "12. pcm_zcr_sma_pctlrange0-1\n",
      "13. pcm_zcr_sma_de_pctlrange0-1\n",
      "14. pcm_fftMag_spectralSlope_sma_percentile99.0\n",
      "15. audspec_lengthL1norm_sma_rqmean\n",
      "16. audspec_lengthL1norm_sma_minPos\n",
      "17. pcm_zcr_sma_quartile2\n",
      "18. pcm_zcr_sma_percentile1.0\n",
      "19. pcm_fftMag_spectralSlope_sma_maxPos\n",
      "20. mfcc_sma[14]_quartile1\n",
      "21. pcm_zcr_sma_range\n",
      "22. audspec_lengthL1norm_sma_amean\n",
      "23. pcm_zcr_sma_de_percentile99.0\n",
      "24. pcm_RMSenergy_sma_minPos\n",
      "25. voicingFinalUnclipped_sma_percentile1.0\n"
     ]
    }
   ],
   "source": [
    "smFS_univariate.select_features(score_func=fs.mutual_info_classif, mode='k_best',\n",
    "                                num_features=25, archs=['ElevenLabs', 'UberDuck'])"
   ]
  },
  {
   "cell_type": "code",
   "execution_count": null,
   "metadata": {},
   "outputs": [
    {
     "name": "stdout",
     "output_type": "stream",
     "text": [
      "\n",
      "Selected features:.\n",
      "\n",
      "1. pcm_zcr_sma_quartile1\n",
      "2. pcm_fftMag_spectralFlux_sma_minPos\n",
      "3. pcm_zcr_sma_peakMeanAbs\n",
      "4. pcm_zcr_sma_percentile99.0\n",
      "5. pcm_zcr_sma_de_range\n",
      "6. pcm_fftMag_spectralHarmonicity_sma_minPos\n",
      "7. pcm_RMSenergy_sma_de_peakMeanRel\n",
      "8. pcm_zcr_sma_pctlrange0-1\n",
      "9. pcm_fftMag_fband250-650_sma_minPos\n",
      "10. pcm_zcr_sma_de_pctlrange0-1\n",
      "11. pcm_fftMag_spectralSlope_sma_percentile99.0\n",
      "12. pcm_zcr_sma_peakRangeAbs\n",
      "13. pcm_zcr_sma_de_rqmean\n",
      "14. pcm_zcr_sma_stddev\n",
      "15. pcm_zcr_sma_amean\n",
      "16. audspec_lengthL1norm_sma_minPos\n",
      "17. pcm_zcr_sma_quartile2\n",
      "18. pcm_zcr_sma_percentile1.0\n",
      "19. pcm_fftMag_spectralSlope_sma_maxPos\n",
      "20. pcm_zcr_sma_range\n",
      "21. pcm_zcr_sma_rqmean\n",
      "22. pcm_zcr_sma_de_percentile99.0\n",
      "23. pcm_RMSenergy_sma_minPos\n",
      "24. pcm_zcr_sma_de_peakRangeAbs\n",
      "25. pcm_zcr_sma_de_percentile1.0\n"
     ]
    }
   ],
   "source": [
    "smFS_univariate.select_features(score_func=fs.mutual_info_classif, mode='k_best',\n",
    "                                num_features=25, archs='ElevenLabs')"
   ]
  },
  {
   "cell_type": "code",
   "execution_count": null,
   "metadata": {},
   "outputs": [
    {
     "name": "stdout",
     "output_type": "stream",
     "text": [
      "\n",
      "Selected features:.\n",
      "\n",
      "1. mfcc_sma[13]_lpgain\n",
      "2. mfcc_sma_de[9]_meanRisingSlope\n",
      "3. mfcc_sma_de[9]_stddev\n",
      "4. mfcc_sma_de[13]_iqr1-3\n",
      "5. mfcc_sma[14]_quartile2\n",
      "6. mfcc_sma[5]_lpc2\n",
      "7. mfcc_sma[14]_meanRisingSlope\n",
      "8. mfcc_sma_de[14]_meanFallingSlope\n",
      "9. mfcc_sma[14]_quartile3\n",
      "10. mfcc_sma[3]_lpc2\n",
      "11. mfcc_sma[10]_meanPeakDist\n",
      "12. mfcc_sma[14]_amean\n",
      "13. mfcc_sma_de[13]_meanRisingSlope\n",
      "14. mfcc_sma_de[13]_lpgain\n",
      "15. mfcc_sma[14]_peakMeanAbs\n",
      "16. mfcc_sma[14]_peakMeanRel\n",
      "17. mfcc_sma_de[9]_meanFallingSlope\n",
      "18. mfcc_sma[11]_lpc2\n",
      "19. mfcc_sma_de[13]_meanFallingSlope\n",
      "20. mfcc_sma[8]_lpgain\n",
      "21. mfcc_sma[9]_lpgain\n",
      "22. mfcc_sma_de[9]_iqr1-3\n",
      "23. mfcc_sma_de[8]_lpgain\n",
      "24. mfcc_sma[12]_lpgain\n",
      "25. mfcc_sma_de[9]_lpgain\n"
     ]
    }
   ],
   "source": [
    "smFS_univariate.select_features(score_func=fs.mutual_info_classif, mode='k_best',\n",
    "                                num_features=25, archs='UberDuck')"
   ]
  },
  {
   "cell_type": "code",
   "execution_count": null,
   "metadata": {},
   "outputs": [],
   "source": []
  },
  {
   "cell_type": "code",
   "execution_count": null,
   "metadata": {},
   "outputs": [],
   "source": []
  },
  {
   "cell_type": "markdown",
   "metadata": {},
   "source": [
    "# Testing OpenSmile Classes\n",
    "\n",
    "Draft 1 of pipeline for creating a df, loading the generated openSMILE features, and running feature selection."
   ]
  },
  {
   "cell_type": "code",
   "execution_count": null,
   "metadata": {},
   "outputs": [],
   "source": [
    "import pandas as pd\n",
    "import numpy as np\n",
    "import sys\n",
    "import os\n",
    "import json\n",
    "from tqdm import tqdm\n",
    "sys.path.append(\"/home/ubuntu/MultiModalDeepFake\")\n",
    "from packages.LJDataLoader import LJDataLoader\n",
    "from packages.SmileFeatureLoader import smileFeatureLoader\n",
    "from packages.SmileFeatureSelector import smileFeatureSelectorBruteForce, smileFeatureSelectFromModel, smileUnivariateFeatureSelector, process_data_for_all_archs\n",
    "from sklearn.linear_model import LogisticRegression\n",
    "from sklearn.ensemble import RandomForestClassifier\n",
    "import sklearn.feature_selection as fs\n",
    "from sklearn.metrics import accuracy_score, roc_curve, roc_auc_score, confusion_matrix, classification_report"
   ]
  },
  {
   "cell_type": "markdown",
   "metadata": {
    "tags": []
   },
   "source": [
    "## Part 1: Creating the dataframe with the train-dev-test split"
   ]
  },
  {
   "cell_type": "code",
   "execution_count": null,
   "metadata": {},
   "outputs": [],
   "source": [
    "#load LJ 16khz data\n",
    "file_path = '/home/ubuntu/data/wavefake_data/LJ_metadata_Original.csv'\n",
    "loader = LJDataLoader(data_path=file_path)"
   ]
  },
  {
   "cell_type": "code",
   "execution_count": null,
   "metadata": {},
   "outputs": [
    {
     "name": "stdout",
     "output_type": "stream",
     "text": [
      "13057\n",
      "7834 10445\n"
     ]
    }
   ],
   "source": [
    "#split data into train, dev, test\n",
    "loader.splitData()"
   ]
  },
  {
   "cell_type": "code",
   "execution_count": null,
   "metadata": {},
   "outputs": [],
   "source": [
    "source_architectures = ['Full_Band_MelGan', 'HifiGan', 'MelGan', 'MelGanLarge', 'Multi_Band_MelGan', 'Parallel_WaveGan', 'Waveglow']\n",
    "new_col_name = 'RandWaveFake'"
   ]
  },
  {
   "cell_type": "code",
   "execution_count": null,
   "metadata": {},
   "outputs": [],
   "source": [
    "loader.selectRandomArchitecture(target_col=new_col_name, source_cols=source_architectures)"
   ]
  },
  {
   "cell_type": "code",
   "execution_count": null,
   "metadata": {},
   "outputs": [
    {
     "data": {
      "text/plain": [
       "Index(['index', 'Unnamed: 0', 'id', 'Main_ID', 'Secondary_ID', 'Real',\n",
       "       'Full_Band_MelGan', 'HifiGan', 'MelGan', 'MelGanLarge',\n",
       "       'Multi_Band_MelGan', 'Parallel_WaveGan', 'Waveglow', 'ElevenLabs',\n",
       "       'UberDuck', 'transcript_1', 'transcript_2', 'type', 'RandWaveFake'],\n",
       "      dtype='object')"
      ]
     },
     "execution_count": 6,
     "metadata": {},
     "output_type": "execute_result"
    }
   ],
   "source": [
    "loader.metadata.columns"
   ]
  },
  {
   "cell_type": "code",
   "execution_count": null,
   "metadata": {},
   "outputs": [],
   "source": [
    "#generate the dataframe\n",
    "#single_id entry=True breaks\n",
    "df = loader.generateFinalDataFrame(real_col='Real', fake_cols=['ElevenLabs','UberDuck','RandWaveFake'])"
   ]
  },
  {
   "cell_type": "code",
   "execution_count": null,
   "metadata": {},
   "outputs": [
    {
     "data": {
      "text/plain": [
       "(52228, 6)"
      ]
     },
     "execution_count": 8,
     "metadata": {},
     "output_type": "execute_result"
    }
   ],
   "source": [
    "df.shape"
   ]
  },
  {
   "cell_type": "code",
   "execution_count": null,
   "metadata": {},
   "outputs": [
    {
     "data": {
      "text/html": [
       "<div>\n",
       "<style scoped>\n",
       "    .dataframe tbody tr th:only-of-type {\n",
       "        vertical-align: middle;\n",
       "    }\n",
       "\n",
       "    .dataframe tbody tr th {\n",
       "        vertical-align: top;\n",
       "    }\n",
       "\n",
       "    .dataframe thead th {\n",
       "        text-align: right;\n",
       "    }\n",
       "</style>\n",
       "<table border=\"1\" class=\"dataframe\">\n",
       "  <thead>\n",
       "    <tr style=\"text-align: right;\">\n",
       "      <th></th>\n",
       "      <th>type</th>\n",
       "      <th>id</th>\n",
       "      <th>architecture</th>\n",
       "      <th>path</th>\n",
       "      <th>label</th>\n",
       "      <th>multiclass_label</th>\n",
       "    </tr>\n",
       "  </thead>\n",
       "  <tbody>\n",
       "    <tr>\n",
       "      <th>0</th>\n",
       "      <td>train</td>\n",
       "      <td>LJ013-0125</td>\n",
       "      <td>Real</td>\n",
       "      <td>/home/ubuntu/data/wavefake_data/LJSpeech_1.1/w...</td>\n",
       "      <td>0</td>\n",
       "      <td>0</td>\n",
       "    </tr>\n",
       "    <tr>\n",
       "      <th>1</th>\n",
       "      <td>train</td>\n",
       "      <td>LJ042-0084</td>\n",
       "      <td>Real</td>\n",
       "      <td>/home/ubuntu/data/wavefake_data/LJSpeech_1.1/w...</td>\n",
       "      <td>0</td>\n",
       "      <td>0</td>\n",
       "    </tr>\n",
       "    <tr>\n",
       "      <th>2</th>\n",
       "      <td>train</td>\n",
       "      <td>LJ047-0032</td>\n",
       "      <td>Real</td>\n",
       "      <td>/home/ubuntu/data/wavefake_data/LJSpeech_1.1/w...</td>\n",
       "      <td>0</td>\n",
       "      <td>0</td>\n",
       "    </tr>\n",
       "    <tr>\n",
       "      <th>3</th>\n",
       "      <td>train</td>\n",
       "      <td>LJ044-0063</td>\n",
       "      <td>Real</td>\n",
       "      <td>/home/ubuntu/data/wavefake_data/LJSpeech_1.1/w...</td>\n",
       "      <td>0</td>\n",
       "      <td>0</td>\n",
       "    </tr>\n",
       "    <tr>\n",
       "      <th>4</th>\n",
       "      <td>train</td>\n",
       "      <td>LJ016-0067</td>\n",
       "      <td>Real</td>\n",
       "      <td>/home/ubuntu/data/wavefake_data/LJSpeech_1.1/w...</td>\n",
       "      <td>0</td>\n",
       "      <td>0</td>\n",
       "    </tr>\n",
       "  </tbody>\n",
       "</table>\n",
       "</div>"
      ],
      "text/plain": [
       "    type          id architecture  \\\n",
       "0  train  LJ013-0125         Real   \n",
       "1  train  LJ042-0084         Real   \n",
       "2  train  LJ047-0032         Real   \n",
       "3  train  LJ044-0063         Real   \n",
       "4  train  LJ016-0067         Real   \n",
       "\n",
       "                                                path  label  multiclass_label  \n",
       "0  /home/ubuntu/data/wavefake_data/LJSpeech_1.1/w...      0                 0  \n",
       "1  /home/ubuntu/data/wavefake_data/LJSpeech_1.1/w...      0                 0  \n",
       "2  /home/ubuntu/data/wavefake_data/LJSpeech_1.1/w...      0                 0  \n",
       "3  /home/ubuntu/data/wavefake_data/LJSpeech_1.1/w...      0                 0  \n",
       "4  /home/ubuntu/data/wavefake_data/LJSpeech_1.1/w...      0                 0  "
      ]
     },
     "execution_count": 9,
     "metadata": {},
     "output_type": "execute_result"
    }
   ],
   "source": [
    "df.head()"
   ]
  },
  {
   "cell_type": "code",
   "execution_count": null,
   "metadata": {},
   "outputs": [
    {
     "data": {
      "text/plain": [
       "Real            13057\n",
       "ElevenLabs      13057\n",
       "UberDuck        13057\n",
       "RandWaveFake    13057\n",
       "Name: architecture, dtype: int64"
      ]
     },
     "execution_count": 10,
     "metadata": {},
     "output_type": "execute_result"
    }
   ],
   "source": [
    "df['architecture'].value_counts()"
   ]
  },
  {
   "cell_type": "markdown",
   "metadata": {},
   "source": [
    "#### Temporary solution for all_archs:\n",
    "\n",
    "This external function could be integrated into data loader class"
   ]
  },
  {
   "cell_type": "code",
   "execution_count": null,
   "metadata": {},
   "outputs": [],
   "source": [
    "fake_cols=['ElevenLabs','UberDuck','RandWaveFake']\n",
    "\n",
    "arch_filter = process_data_for_all_archs(df, fake_cols)"
   ]
  },
  {
   "cell_type": "code",
   "execution_count": null,
   "metadata": {},
   "outputs": [
    {
     "name": "stdout",
     "output_type": "stream",
     "text": [
      "ElevenLabs 4352\n",
      "UberDuck 4352\n",
      "RandWaveFake 4353\n"
     ]
    }
   ],
   "source": [
    "for key,value in arch_filter.items():\n",
    "    print(key, len(value))"
   ]
  },
  {
   "cell_type": "code",
   "execution_count": null,
   "metadata": {},
   "outputs": [],
   "source": [
    "df2 = pd.DataFrame()\n",
    "for key, value in arch_filter.items():\n",
    "    df_ = df[(df['architecture'].isin(['Real', key])) & (df['id'].isin(value))].copy()\n",
    "    df_.loc[:, 'arch_filter'] = [key] * df_.shape[0]\n",
    "    df2 = pd.concat((df2, df_))"
   ]
  },
  {
   "cell_type": "code",
   "execution_count": null,
   "metadata": {},
   "outputs": [
    {
     "data": {
      "text/plain": [
       "Real            13057\n",
       "RandWaveFake     4353\n",
       "ElevenLabs       4352\n",
       "UberDuck         4352\n",
       "Name: architecture, dtype: int64"
      ]
     },
     "execution_count": 14,
     "metadata": {},
     "output_type": "execute_result"
    }
   ],
   "source": [
    "df2.architecture.value_counts()"
   ]
  },
  {
   "cell_type": "code",
   "execution_count": null,
   "metadata": {
    "tags": []
   },
   "outputs": [
    {
     "data": {
      "text/plain": [
       "RandWaveFake    8706\n",
       "ElevenLabs      8704\n",
       "UberDuck        8704\n",
       "Name: arch_filter, dtype: int64"
      ]
     },
     "execution_count": 15,
     "metadata": {},
     "output_type": "execute_result"
    }
   ],
   "source": [
    "df2.arch_filter.value_counts()"
   ]
  },
  {
   "cell_type": "code",
   "execution_count": null,
   "metadata": {},
   "outputs": [],
   "source": [
    "merge_df = df2[['path','arch_filter']]"
   ]
  },
  {
   "cell_type": "code",
   "execution_count": null,
   "metadata": {},
   "outputs": [
    {
     "data": {
      "text/plain": [
       "((26114, 2), (26114, 7))"
      ]
     },
     "execution_count": 17,
     "metadata": {},
     "output_type": "execute_result"
    }
   ],
   "source": [
    "merge_df.shape, df2.shape"
   ]
  },
  {
   "cell_type": "code",
   "execution_count": null,
   "metadata": {},
   "outputs": [],
   "source": [
    "final_df = pd.merge(df, merge_df, on='path', how='left')"
   ]
  },
  {
   "cell_type": "code",
   "execution_count": null,
   "metadata": {},
   "outputs": [
    {
     "data": {
      "text/plain": [
       "NaN             26114\n",
       "RandWaveFake     8706\n",
       "UberDuck         8704\n",
       "ElevenLabs       8704\n",
       "Name: arch_filter, dtype: int64"
      ]
     },
     "execution_count": 19,
     "metadata": {},
     "output_type": "execute_result"
    }
   ],
   "source": [
    "final_df.arch_filter.value_counts(dropna=False)"
   ]
  },
  {
   "cell_type": "code",
   "execution_count": null,
   "metadata": {},
   "outputs": [
    {
     "data": {
      "text/plain": [
       "((52228, 6), (52228, 7))"
      ]
     },
     "execution_count": 20,
     "metadata": {},
     "output_type": "execute_result"
    }
   ],
   "source": [
    "df.shape, final_df.shape"
   ]
  },
  {
   "cell_type": "markdown",
   "metadata": {
    "jp-MarkdownHeadingCollapsed": true,
    "tags": []
   },
   "source": [
    "## Side: Creating/Updating File Mappings JSON:\n",
    "\n",
    "This JSON has the path to the collection of wavfiles as the key and the corresponding smile features as values. \n",
    "\n",
    "For now, each time a new set of wav file are generated for a new provider/architecture - they should be stored in a separate unique folderpath. The `SmileFeatureGenerator` class will convert these to the csv file that can then be used to create a new JSON entry. "
   ]
  },
  {
   "cell_type": "code",
   "execution_count": null,
   "metadata": {},
   "outputs": [],
   "source": [
    "file_mapping = dict()\n",
    "\n",
    "#biden real\n",
    "file_mapping['/home/ubuntu/data/world-leaders-dataset/WavFiles/biden_wav_audio/44KHz'] = '/home/ubuntu/data/OpenSmile/04-2023-OSF-feature-csvs/OSF-2023-04-01-world-leaders-dataset-WavFiles-biden_wav_audio-44KHz.csv'\n",
    "file_mapping['/home/ubuntu/data/world-leaders-dataset/WavFiles/biden_wav_audio/16KHz'] = '/home/ubuntu/data/OpenSmile/04-2023-OSF-feature-csvs/OSF-2023-04-01-world-leaders-dataset-WavFiles-biden_wav_audio-16KHz.csv'\n",
    "\n",
    "#biden eleven labs\n",
    "file_mapping['/home/ubuntu/data/world-leaders-dataset/11LabsDeepFakes/Biden/44Khz'] = '/home/ubuntu/data/OpenSmile/04-2023-OSF-feature-csvs/OSF-2023-04-01-world-leaders-dataset-11LabsDeepFakes-Biden-44Khz.csv'\n",
    "file_mapping['/home/ubuntu/data/world-leaders-dataset/11LabsDeepFakes/Biden/16Khz'] = '/home/ubuntu/data/OpenSmile/04-2023-OSF-feature-csvs/OSF-2023-04-01-world-leaders-dataset-11LabsDeepFakes-Biden-16Khz.csv'\n",
    "\n",
    "#biden in the wild\n",
    "file_mapping['/home/ubuntu/data/InTheWildFakes/Biden/Original'] = '/home/ubuntu/data/OpenSmile/04-2023-OSF-feature-csvs/OSF-2023-04-01-InTheWildFakes-Biden-Original.csv'\n",
    "file_mapping['/home/ubuntu/data/InTheWildFakes/Biden/16000KHz'] = '/home/ubuntu/data/OpenSmile/04-2023-OSF-feature-csvs/OSF-2023-04-01-InTheWildFakes-Biden-16000KHz.csv'\n",
    "\n",
    "#ljspeech real\n",
    "file_mapping['/home/ubuntu/data/wavefake_data/LJSpeech_1.1/wavs/Original'] = '/home/ubuntu/data/OpenSmile/04-2023-OSF-feature-csvs/OSF-2023-04-01-wavefake_data-LJSpeech_1.1-wavs-Original.csv'\n",
    "file_mapping['/home/ubuntu/data/wavefake_data/LJSpeech_1.1/wavs/16000KHz'] = '/home/ubuntu/data/OpenSmile/04-2023-OSF-feature-csvs/OSF-2023-04-01-wavefake_data-LJSpeech_1.1-wavs-16000KHz.csv'\n",
    "\n",
    "#ljspeech eleven labs\n",
    "file_mapping['/home/ubuntu/data/wavefake_data/generated_audio/ljspeech_elevenlabs/Original'] = '/home/ubuntu/data/OpenSmile/04-2023-OSF-feature-csvs/OSF-2023-04-01-wavefake_data-generated_audio-ljspeech_elevenlabs-Original.csv'\n",
    "file_mapping['/home/ubuntu/data/wavefake_data/generated_audio/ljspeech_elevenlabs/16000KHz'] = '/home/ubuntu/data/OpenSmile/04-2023-OSF-feature-csvs/OSF-2023-04-01-wavefake_data-generated_audio-ljspeech_elevenlabs-16000KHz.csv'\n",
    "\n",
    "#ljspeech uberduck\n",
    "file_mapping['/home/ubuntu/data/wavefake_data/generated_audio/ljspeech_uberduck/Original'] = '/home/ubuntu/data/OpenSmile/04-2023-OSF-feature-csvs/OSF-2023-04-06-wavefake_data-generated_audio-ljspeech_uberduck-Original.csv'\n",
    "file_mapping['/home/ubuntu/data/wavefake_data/generated_audio/ljspeech_uberduck/16000KHz'] = '/home/ubuntu/data/OpenSmile/04-2023-OSF-feature-csvs/OSF-2023-04-06-wavefake_data-generated_audio-ljspeech_uberduck-16000KHz.csv'\n",
    "\n",
    "#ljspeech melgan\n",
    "file_mapping['/home/ubuntu/data/wavefake_data/generated_audio/ljspeech_melgan/Original'] = '/home/ubuntu/data/OpenSmile/04-2023-OSF-feature-csvs/OSF-2023-04-01-wavefake_data-generated_audio-ljspeech_melgan-Original.csv'\n",
    "file_mapping['/home/ubuntu/data/wavefake_data/generated_audio/ljspeech_melgan/16000KHz'] = '/home/ubuntu/data/OpenSmile/04-2023-OSF-feature-csvs/OSF-2023-04-01-wavefake_data-generated_audio-ljspeech_melgan-16000KHz.csv'\n",
    "\n",
    "#ljspeech melgan large\n",
    "file_mapping['/home/ubuntu/data/wavefake_data/generated_audio/ljspeech_melgan_large/Original'] = '/home/ubuntu/data/OpenSmile/04-2023-OSF-feature-csvs/OSF-2023-04-01-wavefake_data-generated_audio-ljspeech_melgan_large-Original.csv'\n",
    "file_mapping['/home/ubuntu/data/wavefake_data/generated_audio/ljspeech_melgan_large/16000KHz'] = '/home/ubuntu/data/OpenSmile/04-2023-OSF-feature-csvs/OSF-2023-04-01-wavefake_data-generated_audio-ljspeech_melgan_large-16000KHz.csv'\n",
    "\n",
    "#ljspeech multi band melgan\n",
    "file_mapping['/home/ubuntu/data/wavefake_data/generated_audio/ljspeech_multi_band_melgan/Original'] = '/home/ubuntu/data/OpenSmile/04-2023-OSF-feature-csvs/OSF-2023-04-01-wavefake_data-generated_audio-ljspeech_multi_band_melgan-Original.csv'\n",
    "file_mapping['/home/ubuntu/data/wavefake_data/generated_audio/ljspeech_multi_band_melgan/16000KHz'] = '/home/ubuntu/data/OpenSmile/04-2023-OSF-feature-csvs/OSF-2023-04-01-wavefake_data-generated_audio-ljspeech_multi_band_melgan-16000KHz.csv'\n",
    "\n",
    "#ljspeech full band melgan\n",
    "file_mapping['/home/ubuntu/data/wavefake_data/generated_audio/ljspeech_full_band_melgan/Original'] = '/home/ubuntu/data/OpenSmile/04-2023-OSF-feature-csvs/OSF-2023-04-01-wavefake_data-generated_audio-ljspeech_full_band_melgan-Original.csv'\n",
    "file_mapping['/home/ubuntu/data/wavefake_data/generated_audio/ljspeech_full_band_melgan/16000KHz'] = '/home/ubuntu/data/OpenSmile/04-2023-OSF-feature-csvs/OSF-2023-04-01-wavefake_data-generated_audio-ljspeech_full_band_melgan-16000KHz.csv'\n",
    "\n",
    "#ljspeech hifiGAN\n",
    "file_mapping['/home/ubuntu/data/wavefake_data/generated_audio/ljspeech_hifiGAN/Original'] = '/home/ubuntu/data/OpenSmile/04-2023-OSF-feature-csvs/OSF-2023-04-01-wavefake_data-generated_audio-ljspeech_hifiGAN-Original.csv'\n",
    "file_mapping['/home/ubuntu/data/wavefake_data/generated_audio/ljspeech_hifiGAN/16000KHz'] = '/home/ubuntu/data/OpenSmile/04-2023-OSF-feature-csvs/OSF-2023-04-01-wavefake_data-generated_audio-ljspeech_hifiGAN-16000KHz.csv'\n",
    "\n",
    "#ljspeech parallel wavegan\n",
    "file_mapping['/home/ubuntu/data/wavefake_data/generated_audio/ljspeech_parallel_wavegan/Original'] = '/home/ubuntu/data/OpenSmile/04-2023-OSF-feature-csvs/OSF-2023-04-01-wavefake_data-generated_audio-ljspeech_parallel_wavegan-Original.csv'\n",
    "file_mapping['/home/ubuntu/data/wavefake_data/generated_audio/ljspeech_parallel_wavegan/16000KHz'] = '/home/ubuntu/data/OpenSmile/04-2023-OSF-feature-csvs/OSF-2023-04-01-wavefake_data-generated_audio-ljspeech_parallel_wavegan-16000KHz.csv'\n",
    "\n",
    "#ljspeech waveglow\n",
    "file_mapping['/home/ubuntu/data/wavefake_data/generated_audio/ljspeech_waveglow/Original'] = '/home/ubuntu/data/OpenSmile/04-2023-OSF-feature-csvs/OSF-2023-04-01-wavefake_data-generated_audio-ljspeech_waveglow-Original.csv'\n",
    "file_mapping['/home/ubuntu/data/wavefake_data/generated_audio/ljspeech_waveglow/16000KHz'] = '/home/ubuntu/data/OpenSmile/04-2023-OSF-feature-csvs/OSF-2023-04-01-wavefake_data-generated_audio-ljspeech_waveglow-16000KHz.csv'\n",
    "\n",
    "#file_mapping"
   ]
  },
  {
   "cell_type": "code",
   "execution_count": null,
   "metadata": {},
   "outputs": [],
   "source": [
    "cellEnabled=0\n",
    "\n",
    "if cellEnabled:\n",
    "\n",
    "    file_mappings = '/home/ubuntu/data/OpenSmile/04-2023-OSF-feature-csvs/' + 'file_mappings.json' \n",
    "\n",
    "    with open(file_mappings, \"w\") as json_file:\n",
    "        json.dump(file_mapping, json_file, indent=4)"
   ]
  },
  {
   "cell_type": "markdown",
   "metadata": {
    "tags": []
   },
   "source": [
    "## Part 2: Loading the openSMILE features\n",
    "\n",
    "The openSMILE features are generated and stored in multiple `csv` files here - `data/OpenSmile/04-2023-OSF-feature-csvs`. This folder also stores the JSON file"
   ]
  },
  {
   "cell_type": "code",
   "execution_count": null,
   "metadata": {},
   "outputs": [
    {
     "data": {
      "text/plain": [
       "(52228, 7)"
      ]
     },
     "execution_count": 23,
     "metadata": {},
     "output_type": "execute_result"
    }
   ],
   "source": [
    "final_df.shape"
   ]
  },
  {
   "cell_type": "code",
   "execution_count": null,
   "metadata": {},
   "outputs": [
    {
     "name": "stderr",
     "output_type": "stream",
     "text": [
      "100%|██████████| 10/10 [02:15<00:00, 13.54s/it]\n"
     ]
    }
   ],
   "source": [
    "#pass the test df and the smileFeatureLoader object does the merging\n",
    "smFeatLoader = smileFeatureLoader(final_df)"
   ]
  },
  {
   "cell_type": "code",
   "execution_count": null,
   "metadata": {},
   "outputs": [],
   "source": [
    "#get the df for feature selection\n",
    "fs_df = smFeatLoader.return_merged_df()"
   ]
  },
  {
   "cell_type": "code",
   "execution_count": null,
   "metadata": {},
   "outputs": [
    {
     "data": {
      "text/plain": [
       "(52226, 6381)"
      ]
     },
     "execution_count": 26,
     "metadata": {},
     "output_type": "execute_result"
    }
   ],
   "source": [
    "fs_df.shape"
   ]
  },
  {
   "cell_type": "code",
   "execution_count": null,
   "metadata": {},
   "outputs": [
    {
     "data": {
      "text/plain": [
       "(52228, 6)"
      ]
     },
     "execution_count": 27,
     "metadata": {},
     "output_type": "execute_result"
    }
   ],
   "source": [
    "df.shape"
   ]
  },
  {
   "cell_type": "code",
   "execution_count": null,
   "metadata": {
    "tags": []
   },
   "outputs": [
    {
     "data": {
      "text/html": [
       "<div>\n",
       "<style scoped>\n",
       "    .dataframe tbody tr th:only-of-type {\n",
       "        vertical-align: middle;\n",
       "    }\n",
       "\n",
       "    .dataframe tbody tr th {\n",
       "        vertical-align: top;\n",
       "    }\n",
       "\n",
       "    .dataframe thead th {\n",
       "        text-align: right;\n",
       "    }\n",
       "</style>\n",
       "<table border=\"1\" class=\"dataframe\">\n",
       "  <thead>\n",
       "    <tr style=\"text-align: right;\">\n",
       "      <th></th>\n",
       "      <th>type</th>\n",
       "      <th>id</th>\n",
       "      <th>architecture</th>\n",
       "      <th>path</th>\n",
       "      <th>label</th>\n",
       "      <th>multiclass_label</th>\n",
       "      <th>arch_filter</th>\n",
       "      <th>duration(seconds)</th>\n",
       "      <th>audspec_lengthL1norm_sma_range</th>\n",
       "      <th>audspec_lengthL1norm_sma_maxPos</th>\n",
       "      <th>...</th>\n",
       "      <th>mfcc_sma_de[14]_peakRangeAbs</th>\n",
       "      <th>mfcc_sma_de[14]_peakRangeRel</th>\n",
       "      <th>mfcc_sma_de[14]_peakMeanAbs</th>\n",
       "      <th>mfcc_sma_de[14]_peakMeanMeanDist</th>\n",
       "      <th>mfcc_sma_de[14]_peakMeanRel</th>\n",
       "      <th>mfcc_sma_de[14]_minRangeRel</th>\n",
       "      <th>mfcc_sma_de[14]_meanRisingSlope</th>\n",
       "      <th>mfcc_sma_de[14]_stddevRisingSlope</th>\n",
       "      <th>mfcc_sma_de[14]_meanFallingSlope</th>\n",
       "      <th>mfcc_sma_de[14]_stddevFallingSlope</th>\n",
       "    </tr>\n",
       "  </thead>\n",
       "  <tbody>\n",
       "    <tr>\n",
       "      <th>0</th>\n",
       "      <td>train</td>\n",
       "      <td>LJ013-0125</td>\n",
       "      <td>Real</td>\n",
       "      <td>/home/ubuntu/data/wavefake_data/LJSpeech_1.1/w...</td>\n",
       "      <td>0</td>\n",
       "      <td>0</td>\n",
       "      <td>UberDuck</td>\n",
       "      <td>7.600</td>\n",
       "      <td>2.150976</td>\n",
       "      <td>0.856192</td>\n",
       "      <td>...</td>\n",
       "      <td>6.666750</td>\n",
       "      <td>0.561728</td>\n",
       "      <td>2.251509</td>\n",
       "      <td>2.245225</td>\n",
       "      <td>19.983110</td>\n",
       "      <td>0.502100</td>\n",
       "      <td>104.51715</td>\n",
       "      <td>42.642437</td>\n",
       "      <td>102.34870</td>\n",
       "      <td>44.233257</td>\n",
       "    </tr>\n",
       "    <tr>\n",
       "      <th>1</th>\n",
       "      <td>train</td>\n",
       "      <td>LJ042-0084</td>\n",
       "      <td>Real</td>\n",
       "      <td>/home/ubuntu/data/wavefake_data/LJSpeech_1.1/w...</td>\n",
       "      <td>0</td>\n",
       "      <td>0</td>\n",
       "      <td>RandWaveFake</td>\n",
       "      <td>8.517</td>\n",
       "      <td>2.152849</td>\n",
       "      <td>0.801663</td>\n",
       "      <td>...</td>\n",
       "      <td>8.883474</td>\n",
       "      <td>0.466906</td>\n",
       "      <td>3.512975</td>\n",
       "      <td>3.513055</td>\n",
       "      <td>-20.000000</td>\n",
       "      <td>0.595703</td>\n",
       "      <td>138.78543</td>\n",
       "      <td>64.106000</td>\n",
       "      <td>135.07686</td>\n",
       "      <td>69.522630</td>\n",
       "    </tr>\n",
       "    <tr>\n",
       "      <th>2</th>\n",
       "      <td>train</td>\n",
       "      <td>LJ047-0032</td>\n",
       "      <td>Real</td>\n",
       "      <td>/home/ubuntu/data/wavefake_data/LJSpeech_1.1/w...</td>\n",
       "      <td>0</td>\n",
       "      <td>0</td>\n",
       "      <td>ElevenLabs</td>\n",
       "      <td>8.203</td>\n",
       "      <td>1.993151</td>\n",
       "      <td>0.070284</td>\n",
       "      <td>...</td>\n",
       "      <td>9.228073</td>\n",
       "      <td>0.445313</td>\n",
       "      <td>3.162120</td>\n",
       "      <td>3.158883</td>\n",
       "      <td>19.999882</td>\n",
       "      <td>0.725314</td>\n",
       "      <td>130.25446</td>\n",
       "      <td>67.431730</td>\n",
       "      <td>124.56447</td>\n",
       "      <td>68.578705</td>\n",
       "    </tr>\n",
       "    <tr>\n",
       "      <th>3</th>\n",
       "      <td>train</td>\n",
       "      <td>LJ044-0063</td>\n",
       "      <td>Real</td>\n",
       "      <td>/home/ubuntu/data/wavefake_data/LJSpeech_1.1/w...</td>\n",
       "      <td>0</td>\n",
       "      <td>0</td>\n",
       "      <td>RandWaveFake</td>\n",
       "      <td>3.025</td>\n",
       "      <td>3.101600</td>\n",
       "      <td>0.054422</td>\n",
       "      <td>...</td>\n",
       "      <td>7.837853</td>\n",
       "      <td>0.519312</td>\n",
       "      <td>2.595290</td>\n",
       "      <td>2.634245</td>\n",
       "      <td>-18.663334</td>\n",
       "      <td>0.602941</td>\n",
       "      <td>114.82919</td>\n",
       "      <td>67.769290</td>\n",
       "      <td>113.65942</td>\n",
       "      <td>59.367180</td>\n",
       "    </tr>\n",
       "    <tr>\n",
       "      <th>4</th>\n",
       "      <td>train</td>\n",
       "      <td>LJ016-0067</td>\n",
       "      <td>Real</td>\n",
       "      <td>/home/ubuntu/data/wavefake_data/LJSpeech_1.1/w...</td>\n",
       "      <td>0</td>\n",
       "      <td>0</td>\n",
       "      <td>RandWaveFake</td>\n",
       "      <td>10.049</td>\n",
       "      <td>2.455078</td>\n",
       "      <td>0.045226</td>\n",
       "      <td>...</td>\n",
       "      <td>9.766602</td>\n",
       "      <td>0.581217</td>\n",
       "      <td>2.960240</td>\n",
       "      <td>2.954486</td>\n",
       "      <td>19.996292</td>\n",
       "      <td>0.609338</td>\n",
       "      <td>137.75078</td>\n",
       "      <td>60.657215</td>\n",
       "      <td>129.61658</td>\n",
       "      <td>60.697903</td>\n",
       "    </tr>\n",
       "  </tbody>\n",
       "</table>\n",
       "<p>5 rows × 6381 columns</p>\n",
       "</div>"
      ],
      "text/plain": [
       "    type          id architecture  \\\n",
       "0  train  LJ013-0125         Real   \n",
       "1  train  LJ042-0084         Real   \n",
       "2  train  LJ047-0032         Real   \n",
       "3  train  LJ044-0063         Real   \n",
       "4  train  LJ016-0067         Real   \n",
       "\n",
       "                                                path  label  multiclass_label  \\\n",
       "0  /home/ubuntu/data/wavefake_data/LJSpeech_1.1/w...      0                 0   \n",
       "1  /home/ubuntu/data/wavefake_data/LJSpeech_1.1/w...      0                 0   \n",
       "2  /home/ubuntu/data/wavefake_data/LJSpeech_1.1/w...      0                 0   \n",
       "3  /home/ubuntu/data/wavefake_data/LJSpeech_1.1/w...      0                 0   \n",
       "4  /home/ubuntu/data/wavefake_data/LJSpeech_1.1/w...      0                 0   \n",
       "\n",
       "    arch_filter  duration(seconds)  audspec_lengthL1norm_sma_range  \\\n",
       "0      UberDuck              7.600                        2.150976   \n",
       "1  RandWaveFake              8.517                        2.152849   \n",
       "2    ElevenLabs              8.203                        1.993151   \n",
       "3  RandWaveFake              3.025                        3.101600   \n",
       "4  RandWaveFake             10.049                        2.455078   \n",
       "\n",
       "   audspec_lengthL1norm_sma_maxPos  ...  mfcc_sma_de[14]_peakRangeAbs  \\\n",
       "0                         0.856192  ...                      6.666750   \n",
       "1                         0.801663  ...                      8.883474   \n",
       "2                         0.070284  ...                      9.228073   \n",
       "3                         0.054422  ...                      7.837853   \n",
       "4                         0.045226  ...                      9.766602   \n",
       "\n",
       "   mfcc_sma_de[14]_peakRangeRel  mfcc_sma_de[14]_peakMeanAbs  \\\n",
       "0                      0.561728                     2.251509   \n",
       "1                      0.466906                     3.512975   \n",
       "2                      0.445313                     3.162120   \n",
       "3                      0.519312                     2.595290   \n",
       "4                      0.581217                     2.960240   \n",
       "\n",
       "   mfcc_sma_de[14]_peakMeanMeanDist  mfcc_sma_de[14]_peakMeanRel  \\\n",
       "0                          2.245225                    19.983110   \n",
       "1                          3.513055                   -20.000000   \n",
       "2                          3.158883                    19.999882   \n",
       "3                          2.634245                   -18.663334   \n",
       "4                          2.954486                    19.996292   \n",
       "\n",
       "   mfcc_sma_de[14]_minRangeRel  mfcc_sma_de[14]_meanRisingSlope  \\\n",
       "0                     0.502100                        104.51715   \n",
       "1                     0.595703                        138.78543   \n",
       "2                     0.725314                        130.25446   \n",
       "3                     0.602941                        114.82919   \n",
       "4                     0.609338                        137.75078   \n",
       "\n",
       "   mfcc_sma_de[14]_stddevRisingSlope  mfcc_sma_de[14]_meanFallingSlope  \\\n",
       "0                          42.642437                         102.34870   \n",
       "1                          64.106000                         135.07686   \n",
       "2                          67.431730                         124.56447   \n",
       "3                          67.769290                         113.65942   \n",
       "4                          60.657215                         129.61658   \n",
       "\n",
       "   mfcc_sma_de[14]_stddevFallingSlope  \n",
       "0                           44.233257  \n",
       "1                           69.522630  \n",
       "2                           68.578705  \n",
       "3                           59.367180  \n",
       "4                           60.697903  \n",
       "\n",
       "[5 rows x 6381 columns]"
      ]
     },
     "execution_count": 28,
     "metadata": {},
     "output_type": "execute_result"
    }
   ],
   "source": [
    "fs_df.head()"
   ]
  },
  {
   "cell_type": "code",
   "execution_count": null,
   "metadata": {
    "tags": []
   },
   "outputs": [
    {
     "data": {
      "text/plain": [
       "['type',\n",
       " 'id',\n",
       " 'architecture',\n",
       " 'path',\n",
       " 'label',\n",
       " 'multiclass_label',\n",
       " 'arch_filter']"
      ]
     },
     "execution_count": 29,
     "metadata": {},
     "output_type": "execute_result"
    }
   ],
   "source": [
    "#get the columns that are not the 6373 features as metadata\n",
    "metadata = list(fs_df.columns[:7])\n",
    "metadata"
   ]
  },
  {
   "cell_type": "markdown",
   "metadata": {
    "tags": []
   },
   "source": [
    "## Part 3: Running Brute Force Feature Selection"
   ]
  },
  {
   "cell_type": "code",
   "execution_count": null,
   "metadata": {},
   "outputs": [
    {
     "data": {
      "text/plain": [
       "(52226, 6381)"
      ]
     },
     "execution_count": 30,
     "metadata": {},
     "output_type": "execute_result"
    }
   ],
   "source": [
    "fs_df.shape"
   ]
  },
  {
   "cell_type": "code",
   "execution_count": null,
   "metadata": {},
   "outputs": [
    {
     "name": "stdout",
     "output_type": "stream",
     "text": [
      "Initializing data...\n",
      "Standardizing features...\n",
      "smileFeatureSelectorBruteForce object initialized.\n",
      "\n"
     ]
    }
   ],
   "source": [
    "#initialize the object\n",
    "smFS_bf = smileFeatureSelectorBruteForce(df=fs_df)"
   ]
  },
  {
   "cell_type": "code",
   "execution_count": null,
   "metadata": {},
   "outputs": [
    {
     "name": "stdout",
     "output_type": "stream",
     "text": [
      "Generating brute force feature selection data...\n"
     ]
    },
    {
     "name": "stderr",
     "output_type": "stream",
     "text": [
      "100%|██████████| 6373/6373 [00:34<00:00, 185.06it/s]\n",
      "100%|██████████| 6373/6373 [00:31<00:00, 199.88it/s]\n",
      "100%|██████████| 6373/6373 [00:29<00:00, 212.82it/s]\n",
      "100%|██████████| 6373/6373 [00:30<00:00, 209.77it/s]\n",
      "100%|██████████| 6373/6373 [04:23<00:00, 24.14it/s]"
     ]
    },
    {
     "name": "stdout",
     "output_type": "stream",
     "text": [
      "\n",
      "Brute force feature selection data generated.\n",
      "All data stored in self.bffs_data.\n",
      "\n"
     ]
    },
    {
     "name": "stderr",
     "output_type": "stream",
     "text": [
      "\n"
     ]
    }
   ],
   "source": [
    "smFS_bf.generate_data()"
   ]
  },
  {
   "cell_type": "code",
   "execution_count": null,
   "metadata": {},
   "outputs": [
    {
     "data": {
      "text/html": [
       "<div>\n",
       "<style scoped>\n",
       "    .dataframe tbody tr th:only-of-type {\n",
       "        vertical-align: middle;\n",
       "    }\n",
       "\n",
       "    .dataframe tbody tr th {\n",
       "        vertical-align: top;\n",
       "    }\n",
       "\n",
       "    .dataframe thead th {\n",
       "        text-align: right;\n",
       "    }\n",
       "</style>\n",
       "<table border=\"1\" class=\"dataframe\">\n",
       "  <thead>\n",
       "    <tr style=\"text-align: right;\">\n",
       "      <th></th>\n",
       "      <th>features</th>\n",
       "      <th>ElevenLabs</th>\n",
       "      <th>UberDuck</th>\n",
       "      <th>RandWaveFake</th>\n",
       "      <th>average_binary</th>\n",
       "      <th>all_archs</th>\n",
       "      <th>multiclass</th>\n",
       "    </tr>\n",
       "  </thead>\n",
       "  <tbody>\n",
       "    <tr>\n",
       "      <th>96</th>\n",
       "      <td>pcm_zcr_sma_quartile1</td>\n",
       "      <td>0.998468</td>\n",
       "      <td>0.600153</td>\n",
       "      <td>0.500574</td>\n",
       "      <td>0.699732</td>\n",
       "      <td>0.662007</td>\n",
       "      <td>0.548640</td>\n",
       "    </tr>\n",
       "    <tr>\n",
       "      <th>93</th>\n",
       "      <td>pcm_zcr_sma_range</td>\n",
       "      <td>0.995596</td>\n",
       "      <td>0.580429</td>\n",
       "      <td>0.513022</td>\n",
       "      <td>0.696349</td>\n",
       "      <td>0.653198</td>\n",
       "      <td>0.529395</td>\n",
       "    </tr>\n",
       "    <tr>\n",
       "      <th>103</th>\n",
       "      <td>pcm_zcr_sma_percentile99.0</td>\n",
       "      <td>0.995021</td>\n",
       "      <td>0.541172</td>\n",
       "      <td>0.518767</td>\n",
       "      <td>0.684987</td>\n",
       "      <td>0.641708</td>\n",
       "      <td>0.517714</td>\n",
       "    </tr>\n",
       "    <tr>\n",
       "      <th>104</th>\n",
       "      <td>pcm_zcr_sma_pctlrange0-1</td>\n",
       "      <td>0.994255</td>\n",
       "      <td>0.533321</td>\n",
       "      <td>0.521256</td>\n",
       "      <td>0.682944</td>\n",
       "      <td>0.640176</td>\n",
       "      <td>0.513118</td>\n",
       "    </tr>\n",
       "    <tr>\n",
       "      <th>227</th>\n",
       "      <td>pcm_zcr_sma_de_percentile99.0</td>\n",
       "      <td>0.993489</td>\n",
       "      <td>0.556683</td>\n",
       "      <td>0.519341</td>\n",
       "      <td>0.689838</td>\n",
       "      <td>0.622941</td>\n",
       "      <td>0.534374</td>\n",
       "    </tr>\n",
       "    <tr>\n",
       "      <th>...</th>\n",
       "      <td>...</td>\n",
       "      <td>...</td>\n",
       "      <td>...</td>\n",
       "      <td>...</td>\n",
       "      <td>...</td>\n",
       "      <td>...</td>\n",
       "      <td>...</td>\n",
       "    </tr>\n",
       "    <tr>\n",
       "      <th>2562</th>\n",
       "      <td>audSpec_Rfilt_sma_de[19]_upleveltime50</td>\n",
       "      <td>0.457488</td>\n",
       "      <td>0.513596</td>\n",
       "      <td>0.501340</td>\n",
       "      <td>0.490808</td>\n",
       "      <td>0.476446</td>\n",
       "      <td>0.234872</td>\n",
       "    </tr>\n",
       "    <tr>\n",
       "      <th>4862</th>\n",
       "      <td>pcm_fftMag_fband1000-4000_sma_qregc1</td>\n",
       "      <td>0.457296</td>\n",
       "      <td>0.548449</td>\n",
       "      <td>0.496936</td>\n",
       "      <td>0.500894</td>\n",
       "      <td>0.528342</td>\n",
       "      <td>0.251628</td>\n",
       "    </tr>\n",
       "    <tr>\n",
       "      <th>175</th>\n",
       "      <td>audspecRasta_lengthL1norm_sma_de_upleveltime50</td>\n",
       "      <td>0.454998</td>\n",
       "      <td>0.543278</td>\n",
       "      <td>0.504404</td>\n",
       "      <td>0.500894</td>\n",
       "      <td>0.497319</td>\n",
       "      <td>0.270203</td>\n",
       "    </tr>\n",
       "    <tr>\n",
       "      <th>2493</th>\n",
       "      <td>audSpec_Rfilt_sma_de[17]_skewness</td>\n",
       "      <td>0.453083</td>\n",
       "      <td>0.557641</td>\n",
       "      <td>0.500574</td>\n",
       "      <td>0.503766</td>\n",
       "      <td>0.496170</td>\n",
       "      <td>0.280065</td>\n",
       "    </tr>\n",
       "    <tr>\n",
       "      <th>5115</th>\n",
       "      <td>pcm_fftMag_spectralSlope_sma_qregc1</td>\n",
       "      <td>0.451551</td>\n",
       "      <td>0.556875</td>\n",
       "      <td>0.496936</td>\n",
       "      <td>0.501787</td>\n",
       "      <td>0.468403</td>\n",
       "      <td>0.253447</td>\n",
       "    </tr>\n",
       "  </tbody>\n",
       "</table>\n",
       "<p>6373 rows × 7 columns</p>\n",
       "</div>"
      ],
      "text/plain": [
       "                                            features  ElevenLabs  UberDuck  \\\n",
       "96                             pcm_zcr_sma_quartile1    0.998468  0.600153   \n",
       "93                                 pcm_zcr_sma_range    0.995596  0.580429   \n",
       "103                       pcm_zcr_sma_percentile99.0    0.995021  0.541172   \n",
       "104                         pcm_zcr_sma_pctlrange0-1    0.994255  0.533321   \n",
       "227                    pcm_zcr_sma_de_percentile99.0    0.993489  0.556683   \n",
       "...                                              ...         ...       ...   \n",
       "2562          audSpec_Rfilt_sma_de[19]_upleveltime50    0.457488  0.513596   \n",
       "4862            pcm_fftMag_fband1000-4000_sma_qregc1    0.457296  0.548449   \n",
       "175   audspecRasta_lengthL1norm_sma_de_upleveltime50    0.454998  0.543278   \n",
       "2493               audSpec_Rfilt_sma_de[17]_skewness    0.453083  0.557641   \n",
       "5115             pcm_fftMag_spectralSlope_sma_qregc1    0.451551  0.556875   \n",
       "\n",
       "      RandWaveFake  average_binary  all_archs  multiclass  \n",
       "96        0.500574        0.699732   0.662007    0.548640  \n",
       "93        0.513022        0.696349   0.653198    0.529395  \n",
       "103       0.518767        0.684987   0.641708    0.517714  \n",
       "104       0.521256        0.682944   0.640176    0.513118  \n",
       "227       0.519341        0.689838   0.622941    0.534374  \n",
       "...            ...             ...        ...         ...  \n",
       "2562      0.501340        0.490808   0.476446    0.234872  \n",
       "4862      0.496936        0.500894   0.528342    0.251628  \n",
       "175       0.504404        0.500894   0.497319    0.270203  \n",
       "2493      0.500574        0.503766   0.496170    0.280065  \n",
       "5115      0.496936        0.501787   0.468403    0.253447  \n",
       "\n",
       "[6373 rows x 7 columns]"
      ]
     },
     "execution_count": 33,
     "metadata": {},
     "output_type": "execute_result"
    }
   ],
   "source": [
    "smFS_bf.bffs_data.sort_values(by='ElevenLabs', ascending=False)"
   ]
  },
  {
   "cell_type": "code",
   "execution_count": null,
   "metadata": {},
   "outputs": [
    {
     "name": "stdout",
     "output_type": "stream",
     "text": [
      "\n",
      "Top 15 features selected from ElevenLabs architecture.\n",
      "\n",
      "1. pcm_zcr_sma_quartile1\n",
      "2. pcm_zcr_sma_range\n",
      "3. pcm_zcr_sma_percentile99.0\n",
      "4. pcm_zcr_sma_pctlrange0-1\n",
      "5. pcm_zcr_sma_de_percentile99.0\n",
      "6. pcm_zcr_sma_de_pctlrange0-1\n",
      "7. pcm_zcr_sma_quartile2\n",
      "8. pcm_zcr_sma_de_range\n",
      "9. pcm_zcr_sma_de_percentile1.0\n",
      "10. pcm_zcr_sma_percentile1.0\n",
      "11. pcm_fftMag_spectralSlope_sma_percentile99.0\n",
      "12. audspec_lengthL1norm_sma_de_peakMeanRel\n",
      "13. pcm_zcr_sma_stddev\n",
      "14. pcm_zcr_sma_rqmean\n",
      "15. pcm_zcr_sma_peakMeanAbs\n"
     ]
    }
   ],
   "source": [
    "smFS_bf.FS_from_col(num_features=15, sort_col='ElevenLabs')"
   ]
  },
  {
   "cell_type": "code",
   "execution_count": null,
   "metadata": {},
   "outputs": [
    {
     "name": "stdout",
     "output_type": "stream",
     "text": [
      "\n",
      "Top features selected from all architectures.\n",
      "\n",
      "1. pcm_zcr_sma_quartile1\n",
      "2. jitterLocal_sma_flatness\n",
      "3. mfcc_sma[13]_lpgain\n",
      "4. mfcc_sma_de[9]_meanRisingSlope\n",
      "5. jitterDDP_sma_quartile2\n",
      "6. pcm_zcr_sma_peakMeanAbs\n",
      "7. pcm_zcr_sma_percentile99.0\n",
      "8. pcm_zcr_sma_de_range\n",
      "9. mfcc_sma_de[14]_lpgain\n",
      "10. shimmerLocal_sma_quartile1\n",
      "11. mfcc_sma[14]_quartile2\n",
      "12. mfcc_sma[5]_lpc2\n",
      "13. jitterDDP_sma_flatness\n",
      "14. jitterDDP_sma_percentile1.0\n",
      "15. pcm_zcr_sma_pctlrange0-1\n",
      "16. shimmerLocal_sma_percentile1.0\n",
      "17. pcm_zcr_sma_de_pctlrange0-1\n",
      "18. pcm_fftMag_spectralSlope_sma_percentile99.0\n",
      "19. mfcc_sma_de[11]_lpgain\n",
      "20. mfcc_sma_de[14]_meanFallingSlope\n",
      "21. mfcc_sma[14]_quartile3\n",
      "22. jitterLocal_sma_quartile1\n",
      "23. pcm_zcr_sma_stddev\n",
      "24. mfcc_sma[14]_amean\n",
      "25. mfcc_sma_de[13]_meanRisingSlope\n",
      "26. jitterLocal_sma_percentile1.0\n",
      "27. mfcc_sma_de[13]_lpgain\n",
      "28. mfcc_sma[14]_peakMeanAbs\n",
      "29. pcm_zcr_sma_quartile2\n",
      "30. pcm_zcr_sma_percentile1.0\n",
      "31. pcm_zcr_sma_rqmean\n",
      "32. pcm_zcr_sma_range\n",
      "33. mfcc_sma[11]_lpc2\n",
      "34. audspec_lengthL1norm_sma_de_peakMeanRel\n",
      "35. mfcc_sma[8]_lpgain\n",
      "36. jitterDDP_sma_quartile1\n",
      "37. mfcc_sma[9]_lpgain\n",
      "38. pcm_zcr_sma_de_percentile99.0\n",
      "39. mfcc_sma_de[6]_lpc2\n",
      "40. pcm_zcr_sma_de_percentile1.0\n",
      "41. mfcc_sma_de[8]_lpgain\n",
      "42. mfcc_sma[12]_lpgain\n",
      "43. mfcc_sma_de[9]_lpgain\n"
     ]
    }
   ],
   "source": [
    "smFS_bf.FS_top_n_from_all_archs(n=15)"
   ]
  },
  {
   "cell_type": "markdown",
   "metadata": {},
   "source": [
    "#### Running multiclass prediction:"
   ]
  },
  {
   "cell_type": "code",
   "execution_count": null,
   "metadata": {},
   "outputs": [],
   "source": [
    "features = smFS_bf.FS_top_n_from_all_archs(n=15, return_features=True, print_features=False)"
   ]
  },
  {
   "cell_type": "code",
   "execution_count": null,
   "metadata": {},
   "outputs": [],
   "source": [
    "metadata=['type', 'id', 'architecture', 'path', 'label', 'multiclass_label', 'duration(seconds)']\n",
    "ml_data = fs_df[fs_df.columns.intersection(metadata + features)]"
   ]
  },
  {
   "cell_type": "code",
   "execution_count": null,
   "metadata": {},
   "outputs": [],
   "source": [
    "model = LogisticRegression(max_iter=1000000, n_jobs=-1, solver='saga')"
   ]
  },
  {
   "cell_type": "code",
   "execution_count": null,
   "metadata": {},
   "outputs": [],
   "source": [
    "train_df = ml_data[ml_data['type'] == 'train'].copy()\n",
    "test_df = ml_data[ml_data['type'] == 'test'].copy()"
   ]
  },
  {
   "cell_type": "code",
   "execution_count": null,
   "metadata": {},
   "outputs": [
    {
     "data": {
      "text/plain": [
       "(0.8895484282750917, 0.8893462237963051)"
      ]
     },
     "execution_count": 40,
     "metadata": {},
     "output_type": "execute_result"
    }
   ],
   "source": [
    "X_train = train_df[features]\n",
    "X_test = test_df[features]\n",
    "\n",
    "y_train = train_df['multiclass_label']\n",
    "y_test = test_df['multiclass_label']\n",
    "\n",
    "model.fit(X_train, y_train)\n",
    "y_hat_train = model.predict(X_train)\n",
    "y_hat_test = model.predict(X_test)\n",
    "\n",
    "tra_acc = accuracy_score(y_train, y_hat_train)\n",
    "tst_acc = accuracy_score(y_test, y_hat_test)\n",
    "\n",
    "tra_acc, tst_acc"
   ]
  },
  {
   "cell_type": "markdown",
   "metadata": {},
   "source": [
    "## Part 4: Running Select From Model"
   ]
  },
  {
   "cell_type": "code",
   "execution_count": null,
   "metadata": {},
   "outputs": [
    {
     "name": "stdout",
     "output_type": "stream",
     "text": [
      "Initializing data...\n",
      "Standardizing features...\n",
      "smileFeatureSelectFromModel object initialized.\n",
      "\n"
     ]
    }
   ],
   "source": [
    "smFS_model = smileFeatureSelectFromModel(fs_df)"
   ]
  },
  {
   "cell_type": "code",
   "execution_count": null,
   "metadata": {},
   "outputs": [
    {
     "name": "stdout",
     "output_type": "stream",
     "text": [
      "\n",
      "Selected features:.\n",
      "\n",
      "1. mfcc_sma[13]_lpgain\n",
      "2. mfcc_sma[8]_lpgain\n",
      "3. jitterDDP_sma_quartile1\n",
      "4. mfcc_sma[9]_lpgain\n",
      "5. jitterDDP_sma_percentile1.0\n",
      "6. pcm_zcr_sma_percentile99.0\n",
      "7. mfcc_sma_de[13]_lpgain\n",
      "8. mfcc_sma[12]_lpgain\n",
      "9. mfcc_sma_de[9]_lpgain\n",
      "10. mfcc_sma[12]_meanPeakDist\n"
     ]
    }
   ],
   "source": [
    "smFS_model.select_features_binary()"
   ]
  },
  {
   "cell_type": "code",
   "execution_count": null,
   "metadata": {},
   "outputs": [
    {
     "name": "stdout",
     "output_type": "stream",
     "text": [
      "\n",
      "Selected features:.\n",
      "\n",
      "1. mfcc_sma[5]_lpc2\n",
      "2. mfcc_sma[13]_lpgain\n",
      "3. audspec_lengthL1norm_sma_rqmean\n",
      "4. mfcc_sma[9]_lpgain\n",
      "5. pcm_zcr_sma_percentile99.0\n",
      "6. mfcc_sma_de[13]_lpgain\n",
      "7. mfcc_sma[14]_peakMeanAbs\n",
      "8. pcm_zcr_sma_peakRangeAbs\n",
      "9. mfcc_sma_de[9]_lpgain\n",
      "10. mfcc_sma[14]_quartile2\n"
     ]
    }
   ],
   "source": [
    "smFS_model.select_features_binary(max_features=10, archs=['ElevenLabs', 'UberDuck'])"
   ]
  },
  {
   "cell_type": "code",
   "execution_count": null,
   "metadata": {},
   "outputs": [
    {
     "name": "stdout",
     "output_type": "stream",
     "text": [
      "\n",
      "Selected features:.\n",
      "\n",
      "1. pcm_zcr_sma_quartile1\n",
      "2. pcm_zcr_sma_stddev\n",
      "3. pcm_zcr_sma_rqmean\n",
      "4. voicingFinalUnclipped_sma_flatness\n",
      "5. audspec_lengthL1norm_sma_minPos\n",
      "6. pcm_zcr_sma_de_lpc1\n",
      "7. pcm_zcr_sma_percentile99.0\n",
      "8. pcm_zcr_sma_de_pctlrange0-1\n",
      "9. pcm_zcr_sma_quartile2\n",
      "10. pcm_zcr_sma_range\n"
     ]
    }
   ],
   "source": [
    "smFS_model.select_features_binary(max_features=10, archs='ElevenLabs')"
   ]
  },
  {
   "cell_type": "code",
   "execution_count": null,
   "metadata": {},
   "outputs": [
    {
     "name": "stdout",
     "output_type": "stream",
     "text": [
      "\n",
      "Selected features:.\n",
      "\n",
      "1. mfcc_sma[5]_lpc2\n",
      "2. mfcc_sma[13]_lpgain\n",
      "3. mfcc_sma_de[13]_meanFallingSlope\n",
      "4. mfcc_sma_de[13]_meanRisingSlope\n",
      "5. mfcc_sma_de[13]_lpgain\n",
      "6. mfcc_sma[14]_peakMeanAbs\n",
      "7. mfcc_sma_de[8]_lpgain\n",
      "8. mfcc_sma[14]_rqmean\n",
      "9. mfcc_sma[13]_meanFallingSlope\n",
      "10. mfcc_sma[14]_quartile2\n"
     ]
    }
   ],
   "source": [
    "smFS_model.select_features_binary(max_features=10, archs='UberDuck')"
   ]
  },
  {
   "cell_type": "code",
   "execution_count": null,
   "metadata": {},
   "outputs": [
    {
     "name": "stdout",
     "output_type": "stream",
     "text": [
      "\n",
      "Selected features:.\n",
      "\n",
      "1. mfcc_sma[5]_lpc2\n",
      "2. voicingFinalUnclipped_sma_rqmean\n",
      "3. jitterDDP_sma_quartile1\n",
      "4. audspec_lengthL1norm_sma_de_stddev\n",
      "5. audspec_lengthL1norm_sma_de_peakMeanMeanDist\n",
      "6. jitterDDP_sma_percentile1.0\n",
      "7. pcm_fftMag_spectralSlope_sma_percentile99.0\n",
      "8. pcm_zcr_sma_de_peakMeanMeanDist\n",
      "9. pcm_zcr_sma_de_rqmean\n",
      "10. mfcc_sma[11]_lpc2\n"
     ]
    },
    {
     "data": {
      "text/plain": [
       "['mfcc_sma[5]_lpc2',\n",
       " 'voicingFinalUnclipped_sma_rqmean',\n",
       " 'jitterDDP_sma_quartile1',\n",
       " 'audspec_lengthL1norm_sma_de_stddev',\n",
       " 'audspec_lengthL1norm_sma_de_peakMeanMeanDist',\n",
       " 'jitterDDP_sma_percentile1.0',\n",
       " 'pcm_fftMag_spectralSlope_sma_percentile99.0',\n",
       " 'pcm_zcr_sma_de_peakMeanMeanDist',\n",
       " 'pcm_zcr_sma_de_rqmean',\n",
       " 'mfcc_sma[11]_lpc2']"
      ]
     },
     "execution_count": 46,
     "metadata": {},
     "output_type": "execute_result"
    }
   ],
   "source": [
    "smFS_model.select_features_multiclass(max_features=10, archs=['ElevenLabs', 'UberDuck'], return_features=True)"
   ]
  },
  {
   "cell_type": "markdown",
   "metadata": {},
   "source": [
    "### Univariate Feature Selection:"
   ]
  },
  {
   "cell_type": "code",
   "execution_count": null,
   "metadata": {},
   "outputs": [
    {
     "name": "stdout",
     "output_type": "stream",
     "text": [
      "Initializing data...\n",
      "Standardizing features...\n",
      "smileUnivariateFeatureSelector object initialized.\n",
      "\n"
     ]
    }
   ],
   "source": [
    "smFS_univariate = smileUnivariateFeatureSelector(df=fs_df)"
   ]
  },
  {
   "cell_type": "code",
   "execution_count": null,
   "metadata": {},
   "outputs": [
    {
     "name": "stdout",
     "output_type": "stream",
     "text": [
      "\n",
      "Selected features:.\n",
      "\n",
      "1. pcm_zcr_sma_quartile1\n",
      "2. mfcc_sma[13]_lpgain\n",
      "3. pcm_fftMag_spectralFlux_sma_minPos\n",
      "4. mfcc_sma[6]_lpc0\n",
      "5. pcm_zcr_sma_percentile99.0\n",
      "6. pcm_zcr_sma_de_range\n",
      "7. audspec_lengthL1norm_sma_peakMeanAbs\n",
      "8. pcm_RMSenergy_sma_de_peakMeanRel\n",
      "9. audspec_lengthL1norm_sma_de_stddev\n",
      "10. audspec_lengthL1norm_sma_de_rqmean\n",
      "11. pcm_zcr_sma_pctlrange0-1\n",
      "12. audspec_lengthL1norm_sma_quartile3\n",
      "13. pcm_zcr_sma_de_pctlrange0-1\n",
      "14. pcm_fftMag_spectralSlope_sma_percentile99.0\n",
      "15. pcm_fftMag_spectralHarmonicity_sma_de_peakMeanRel\n",
      "16. audspec_lengthL1norm_sma_de_posamean\n",
      "17. audspec_lengthL1norm_sma_rqmean\n",
      "18. pcm_zcr_sma_quartile2\n",
      "19. pcm_zcr_sma_percentile1.0\n",
      "20. pcm_fftMag_spectralSlope_sma_maxPos\n",
      "21. pcm_zcr_sma_range\n",
      "22. audspec_lengthL1norm_sma_amean\n",
      "23. voicingFinalUnclipped_sma_percentile1.0\n",
      "24. mfcc_sma_de[12]_lpgain\n",
      "25. pcm_zcr_sma_de_percentile1.0\n"
     ]
    }
   ],
   "source": [
    "smFS_univariate.select_features(score_func=fs.mutual_info_classif, mode='k_best',\n",
    "                                num_features=25, archs='all_archs')"
   ]
  },
  {
   "cell_type": "code",
   "execution_count": null,
   "metadata": {},
   "outputs": [
    {
     "name": "stdout",
     "output_type": "stream",
     "text": [
      "\n",
      "Selected features:.\n",
      "\n",
      "1. pcm_zcr_sma_quartile1\n",
      "2. pcm_fftMag_spectralFlux_sma_minPos\n",
      "3. pcm_zcr_sma_percentile99.0\n",
      "4. pcm_zcr_sma_de_range\n",
      "5. audspec_lengthL1norm_sma_peakMeanAbs\n",
      "6. mfcc_sma[14]_rqmean\n",
      "7. pcm_RMSenergy_sma_de_peakMeanRel\n",
      "8. audspec_lengthL1norm_sma_de_stddev\n",
      "9. pcm_fftMag_spectralKurtosis_sma_de_quartile3\n",
      "10. pcm_fftMag_spectralKurtosis_sma_de_iqr2-3\n",
      "11. audspec_lengthL1norm_sma_de_rqmean\n",
      "12. pcm_zcr_sma_pctlrange0-1\n",
      "13. pcm_zcr_sma_de_pctlrange0-1\n",
      "14. pcm_fftMag_spectralSlope_sma_percentile99.0\n",
      "15. audspec_lengthL1norm_sma_rqmean\n",
      "16. audspec_lengthL1norm_sma_minPos\n",
      "17. pcm_zcr_sma_quartile2\n",
      "18. pcm_zcr_sma_percentile1.0\n",
      "19. pcm_fftMag_spectralSlope_sma_maxPos\n",
      "20. mfcc_sma[14]_quartile1\n",
      "21. pcm_zcr_sma_range\n",
      "22. audspec_lengthL1norm_sma_amean\n",
      "23. pcm_zcr_sma_de_percentile99.0\n",
      "24. pcm_RMSenergy_sma_minPos\n",
      "25. voicingFinalUnclipped_sma_percentile1.0\n"
     ]
    }
   ],
   "source": [
    "smFS_univariate.select_features(score_func=fs.mutual_info_classif, mode='k_best',\n",
    "                                num_features=25, archs=['ElevenLabs', 'UberDuck'])"
   ]
  },
  {
   "cell_type": "code",
   "execution_count": null,
   "metadata": {},
   "outputs": [
    {
     "name": "stdout",
     "output_type": "stream",
     "text": [
      "\n",
      "Selected features:.\n",
      "\n",
      "1. pcm_zcr_sma_quartile1\n",
      "2. pcm_fftMag_spectralFlux_sma_minPos\n",
      "3. pcm_zcr_sma_peakMeanAbs\n",
      "4. pcm_zcr_sma_percentile99.0\n",
      "5. pcm_zcr_sma_de_range\n",
      "6. pcm_fftMag_spectralHarmonicity_sma_minPos\n",
      "7. pcm_RMSenergy_sma_de_peakMeanRel\n",
      "8. pcm_zcr_sma_pctlrange0-1\n",
      "9. pcm_fftMag_fband250-650_sma_minPos\n",
      "10. pcm_zcr_sma_de_pctlrange0-1\n",
      "11. pcm_fftMag_spectralSlope_sma_percentile99.0\n",
      "12. pcm_zcr_sma_peakRangeAbs\n",
      "13. pcm_zcr_sma_de_rqmean\n",
      "14. pcm_zcr_sma_stddev\n",
      "15. pcm_zcr_sma_amean\n",
      "16. audspec_lengthL1norm_sma_minPos\n",
      "17. pcm_zcr_sma_quartile2\n",
      "18. pcm_zcr_sma_percentile1.0\n",
      "19. pcm_fftMag_spectralSlope_sma_maxPos\n",
      "20. pcm_zcr_sma_range\n",
      "21. pcm_zcr_sma_rqmean\n",
      "22. pcm_zcr_sma_de_percentile99.0\n",
      "23. pcm_RMSenergy_sma_minPos\n",
      "24. pcm_zcr_sma_de_peakRangeAbs\n",
      "25. pcm_zcr_sma_de_percentile1.0\n"
     ]
    }
   ],
   "source": [
    "smFS_univariate.select_features(score_func=fs.mutual_info_classif, mode='k_best',\n",
    "                                num_features=25, archs='ElevenLabs')"
   ]
  },
  {
   "cell_type": "code",
   "execution_count": null,
   "metadata": {},
   "outputs": [
    {
     "name": "stdout",
     "output_type": "stream",
     "text": [
      "\n",
      "Selected features:.\n",
      "\n",
      "1. mfcc_sma[13]_lpgain\n",
      "2. mfcc_sma_de[9]_meanRisingSlope\n",
      "3. mfcc_sma_de[9]_stddev\n",
      "4. mfcc_sma_de[13]_iqr1-3\n",
      "5. mfcc_sma[14]_quartile2\n",
      "6. mfcc_sma[5]_lpc2\n",
      "7. mfcc_sma[14]_meanRisingSlope\n",
      "8. mfcc_sma_de[14]_meanFallingSlope\n",
      "9. mfcc_sma[14]_quartile3\n",
      "10. mfcc_sma[3]_lpc2\n",
      "11. mfcc_sma[10]_meanPeakDist\n",
      "12. mfcc_sma[14]_amean\n",
      "13. mfcc_sma_de[13]_meanRisingSlope\n",
      "14. mfcc_sma_de[13]_lpgain\n",
      "15. mfcc_sma[14]_peakMeanAbs\n",
      "16. mfcc_sma[14]_peakMeanRel\n",
      "17. mfcc_sma_de[9]_meanFallingSlope\n",
      "18. mfcc_sma[11]_lpc2\n",
      "19. mfcc_sma_de[13]_meanFallingSlope\n",
      "20. mfcc_sma[8]_lpgain\n",
      "21. mfcc_sma[9]_lpgain\n",
      "22. mfcc_sma_de[9]_iqr1-3\n",
      "23. mfcc_sma_de[8]_lpgain\n",
      "24. mfcc_sma[12]_lpgain\n",
      "25. mfcc_sma_de[9]_lpgain\n"
     ]
    }
   ],
   "source": [
    "smFS_univariate.select_features(score_func=fs.mutual_info_classif, mode='k_best',\n",
    "                                num_features=25, archs='UberDuck')"
   ]
  },
  {
   "cell_type": "code",
   "execution_count": null,
   "metadata": {},
   "outputs": [],
   "source": []
  },
  {
   "cell_type": "code",
   "execution_count": null,
   "metadata": {},
   "outputs": [],
   "source": []
  }
 ],
 "metadata": {
  "kernelspec": {
   "display_name": "deepfake-detection-v1",
   "language": "python",
   "name": "deepfake-detection-v1"
  },
  "language_info": {
   "codemirror_mode": {
    "name": "ipython",
    "version": 3
   },
   "file_extension": ".py",
   "mimetype": "text/x-python",
   "name": "python",
   "nbconvert_exporter": "python",
   "pygments_lexer": "ipython3",
   "version": "3.9.16"
  }
 },
 "nbformat": 4,
 "nbformat_minor": 4
}
