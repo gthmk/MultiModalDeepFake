{
 "cells": [
  {
   "cell_type": "markdown",
   "metadata": {},
   "source": [
    "# Testing OpenSmile Classes\n",
    "\n",
    "Draft 1 of pipeline for creating a df, loading the generated openSMILE features, and running feature selection."
   ]
  },
  {
   "cell_type": "code",
   "execution_count": 1,
   "metadata": {},
   "outputs": [],
   "source": [
    "import pandas as pd\n",
    "import numpy as np\n",
    "import sys\n",
    "import os\n",
    "import json\n",
    "from tqdm import tqdm\n",
    "sys.path.append(\"/home/ubuntu/MultiModalDeepFake\")\n",
    "from packages.LJDataLoader import LJDataLoader\n",
    "from packages.SmileFeatureLoader import smileFeatureLoader\n",
    "from packages.SmileFeatureSelector import smileFeatureSelectorBruteForce, smileFeatureSelectFromModel, smileUnivariateFeatureSelector\n",
    "from sklearn.linear_model import LogisticRegression\n",
    "from sklearn.ensemble import RandomForestClassifier\n",
    "import sklearn.feature_selection as fs"
   ]
  },
  {
   "cell_type": "markdown",
   "metadata": {
    "tags": []
   },
   "source": [
    "## Part 1: Creating the dataframe with the train-dev-test split"
   ]
  },
  {
   "cell_type": "code",
   "execution_count": 2,
   "metadata": {},
   "outputs": [],
   "source": [
    "#load LJ 16khz data\n",
    "file_path = '/home/ubuntu/data/wavefake_data/LJ_metadata_16000KHz.csv'\n",
    "loader = LJDataLoader(data_path=file_path)"
   ]
  },
  {
   "cell_type": "code",
   "execution_count": 3,
   "metadata": {},
   "outputs": [
    {
     "name": "stdout",
     "output_type": "stream",
     "text": [
      "13055\n",
      "7833 10444\n"
     ]
    }
   ],
   "source": [
    "#split data into train, dev, test\n",
    "loader.splitData()"
   ]
  },
  {
   "cell_type": "code",
   "execution_count": 4,
   "metadata": {},
   "outputs": [
    {
     "data": {
      "text/plain": [
       "Index(['index', 'Unnamed: 0', 'id', 'Main_ID', 'Secondary_ID', 'Real',\n",
       "       'Full_Band_MelGan', 'HifiGan', 'MelGan', 'MelGanLarge',\n",
       "       'Multi_Band_MelGan', 'Parallel_WaveGan', 'Waveglow', 'ElevenLabs',\n",
       "       'UberDuck', 'transcript_1', 'transcript_2', 'type'],\n",
       "      dtype='object')"
      ]
     },
     "execution_count": 4,
     "metadata": {},
     "output_type": "execute_result"
    }
   ],
   "source": [
    "loader.metadata.columns"
   ]
  },
  {
   "cell_type": "code",
   "execution_count": 5,
   "metadata": {},
   "outputs": [
    {
     "data": {
      "text/plain": [
       "['Real',\n",
       " 'Full_Band_MelGan',\n",
       " 'HifiGan',\n",
       " 'MelGan',\n",
       " 'MelGanLarge',\n",
       " 'Multi_Band_MelGan',\n",
       " 'Parallel_WaveGan',\n",
       " 'Waveglow',\n",
       " 'ElevenLabs',\n",
       " 'UberDuck']"
      ]
     },
     "execution_count": 5,
     "metadata": {},
     "output_type": "execute_result"
    }
   ],
   "source": [
    "#get the column names\n",
    "cols = list(loader.metadata.columns[5:15])\n",
    "cols"
   ]
  },
  {
   "cell_type": "code",
   "execution_count": 6,
   "metadata": {},
   "outputs": [],
   "source": [
    "#generate the dataframe\n",
    "#single_id entry=True breaks\n",
    "df = loader.generateFinalDataFrame(real_col=cols[0], fake_cols=cols[1:])"
   ]
  },
  {
   "cell_type": "code",
   "execution_count": 7,
   "metadata": {},
   "outputs": [
    {
     "data": {
      "text/plain": [
       "(130550, 6)"
      ]
     },
     "execution_count": 7,
     "metadata": {},
     "output_type": "execute_result"
    }
   ],
   "source": [
    "df.shape"
   ]
  },
  {
   "cell_type": "code",
   "execution_count": 8,
   "metadata": {},
   "outputs": [
    {
     "data": {
      "text/html": [
       "<div>\n",
       "<style scoped>\n",
       "    .dataframe tbody tr th:only-of-type {\n",
       "        vertical-align: middle;\n",
       "    }\n",
       "\n",
       "    .dataframe tbody tr th {\n",
       "        vertical-align: top;\n",
       "    }\n",
       "\n",
       "    .dataframe thead th {\n",
       "        text-align: right;\n",
       "    }\n",
       "</style>\n",
       "<table border=\"1\" class=\"dataframe\">\n",
       "  <thead>\n",
       "    <tr style=\"text-align: right;\">\n",
       "      <th></th>\n",
       "      <th>type</th>\n",
       "      <th>id</th>\n",
       "      <th>architecture</th>\n",
       "      <th>path</th>\n",
       "      <th>label</th>\n",
       "      <th>multiclass_label</th>\n",
       "    </tr>\n",
       "  </thead>\n",
       "  <tbody>\n",
       "    <tr>\n",
       "      <th>0</th>\n",
       "      <td>train</td>\n",
       "      <td>LJ018-0361</td>\n",
       "      <td>Real</td>\n",
       "      <td>/home/ubuntu/data/wavefake_data/LJSpeech_1.1/w...</td>\n",
       "      <td>0</td>\n",
       "      <td>0</td>\n",
       "    </tr>\n",
       "    <tr>\n",
       "      <th>1</th>\n",
       "      <td>train</td>\n",
       "      <td>LJ019-0139</td>\n",
       "      <td>Real</td>\n",
       "      <td>/home/ubuntu/data/wavefake_data/LJSpeech_1.1/w...</td>\n",
       "      <td>0</td>\n",
       "      <td>0</td>\n",
       "    </tr>\n",
       "    <tr>\n",
       "      <th>2</th>\n",
       "      <td>train</td>\n",
       "      <td>LJ008-0187</td>\n",
       "      <td>Real</td>\n",
       "      <td>/home/ubuntu/data/wavefake_data/LJSpeech_1.1/w...</td>\n",
       "      <td>0</td>\n",
       "      <td>0</td>\n",
       "    </tr>\n",
       "    <tr>\n",
       "      <th>3</th>\n",
       "      <td>train</td>\n",
       "      <td>LJ018-0223</td>\n",
       "      <td>Real</td>\n",
       "      <td>/home/ubuntu/data/wavefake_data/LJSpeech_1.1/w...</td>\n",
       "      <td>0</td>\n",
       "      <td>0</td>\n",
       "    </tr>\n",
       "    <tr>\n",
       "      <th>4</th>\n",
       "      <td>train</td>\n",
       "      <td>LJ016-0417</td>\n",
       "      <td>Real</td>\n",
       "      <td>/home/ubuntu/data/wavefake_data/LJSpeech_1.1/w...</td>\n",
       "      <td>0</td>\n",
       "      <td>0</td>\n",
       "    </tr>\n",
       "  </tbody>\n",
       "</table>\n",
       "</div>"
      ],
      "text/plain": [
       "    type          id architecture  \\\n",
       "0  train  LJ018-0361         Real   \n",
       "1  train  LJ019-0139         Real   \n",
       "2  train  LJ008-0187         Real   \n",
       "3  train  LJ018-0223         Real   \n",
       "4  train  LJ016-0417         Real   \n",
       "\n",
       "                                                path  label  multiclass_label  \n",
       "0  /home/ubuntu/data/wavefake_data/LJSpeech_1.1/w...      0                 0  \n",
       "1  /home/ubuntu/data/wavefake_data/LJSpeech_1.1/w...      0                 0  \n",
       "2  /home/ubuntu/data/wavefake_data/LJSpeech_1.1/w...      0                 0  \n",
       "3  /home/ubuntu/data/wavefake_data/LJSpeech_1.1/w...      0                 0  \n",
       "4  /home/ubuntu/data/wavefake_data/LJSpeech_1.1/w...      0                 0  "
      ]
     },
     "execution_count": 8,
     "metadata": {},
     "output_type": "execute_result"
    }
   ],
   "source": [
    "df.head()"
   ]
  },
  {
   "cell_type": "code",
   "execution_count": 9,
   "metadata": {},
   "outputs": [
    {
     "data": {
      "text/plain": [
       "Real                 13055\n",
       "Full_Band_MelGan     13055\n",
       "HifiGan              13055\n",
       "MelGan               13055\n",
       "MelGanLarge          13055\n",
       "Multi_Band_MelGan    13055\n",
       "Parallel_WaveGan     13055\n",
       "Waveglow             13055\n",
       "ElevenLabs           13055\n",
       "UberDuck             13055\n",
       "Name: architecture, dtype: int64"
      ]
     },
     "execution_count": 9,
     "metadata": {},
     "output_type": "execute_result"
    }
   ],
   "source": [
    "df['architecture'].value_counts()"
   ]
  },
  {
   "cell_type": "code",
   "execution_count": 10,
   "metadata": {},
   "outputs": [],
   "source": [
    "# sample 10000 rows from df for testing with balanced real and fake\n",
    "#sampled_df = df.groupby('B', group_keys=False).apply(lambda x: x.sample(n=min_group_size))\n",
    "\n",
    "#temporary solution for testing\n",
    "\n",
    "test_df = df.groupby('label', group_keys=False).apply(lambda x: x.sample(n=500))"
   ]
  },
  {
   "cell_type": "code",
   "execution_count": 11,
   "metadata": {},
   "outputs": [
    {
     "data": {
      "text/plain": [
       "train    605\n",
       "test     205\n",
       "dev      190\n",
       "Name: type, dtype: int64"
      ]
     },
     "execution_count": 11,
     "metadata": {},
     "output_type": "execute_result"
    }
   ],
   "source": [
    "#check balance\n",
    "test_df.type.value_counts()"
   ]
  },
  {
   "cell_type": "code",
   "execution_count": 12,
   "metadata": {},
   "outputs": [
    {
     "data": {
      "text/plain": [
       "Real                 500\n",
       "HifiGan               72\n",
       "MelGanLarge           64\n",
       "ElevenLabs            60\n",
       "Multi_Band_MelGan     59\n",
       "UberDuck              58\n",
       "Full_Band_MelGan      55\n",
       "MelGan                45\n",
       "Parallel_WaveGan      44\n",
       "Waveglow              43\n",
       "Name: architecture, dtype: int64"
      ]
     },
     "execution_count": 12,
     "metadata": {},
     "output_type": "execute_result"
    }
   ],
   "source": [
    "test_df.architecture.value_counts()"
   ]
  },
  {
   "cell_type": "code",
   "execution_count": 13,
   "metadata": {},
   "outputs": [
    {
     "data": {
      "text/plain": [
       "0    500\n",
       "1    500\n",
       "Name: label, dtype: int64"
      ]
     },
     "execution_count": 13,
     "metadata": {},
     "output_type": "execute_result"
    }
   ],
   "source": [
    "test_df.label.value_counts()"
   ]
  },
  {
   "cell_type": "markdown",
   "metadata": {
    "jp-MarkdownHeadingCollapsed": true,
    "tags": []
   },
   "source": [
    "## Side: Creating/Updating File Mappings JSON:\n",
    "\n",
    "This JSON has the path to the collection of wavfiles as the key and the corresponding smile features as values. \n",
    "\n",
    "For now, each time a new set of wav file are generated for a new provider/architecture - they should be stored in a separate unique folderpath. The `SmileFeatureGenerator` class will convert these to the csv file that can then be used to create a new JSON entry. "
   ]
  },
  {
   "cell_type": "code",
   "execution_count": null,
   "metadata": {},
   "outputs": [],
   "source": [
    "file_mapping = dict()\n",
    "\n",
    "#biden real\n",
    "file_mapping['/home/ubuntu/data/world-leaders-dataset/WavFiles/biden_wav_audio/44KHz'] = '/home/ubuntu/data/OpenSmile/04-2023-OSF-feature-csvs/OSF-2023-04-01-world-leaders-dataset-WavFiles-biden_wav_audio-44KHz.csv'\n",
    "file_mapping['/home/ubuntu/data/world-leaders-dataset/WavFiles/biden_wav_audio/16KHz'] = '/home/ubuntu/data/OpenSmile/04-2023-OSF-feature-csvs/OSF-2023-04-01-world-leaders-dataset-WavFiles-biden_wav_audio-16KHz.csv'\n",
    "\n",
    "#biden eleven labs\n",
    "file_mapping['/home/ubuntu/data/world-leaders-dataset/11LabsDeepFakes/Biden/44Khz'] = '/home/ubuntu/data/OpenSmile/04-2023-OSF-feature-csvs/OSF-2023-04-01-world-leaders-dataset-11LabsDeepFakes-Biden-44Khz.csv'\n",
    "file_mapping['/home/ubuntu/data/world-leaders-dataset/11LabsDeepFakes/Biden/16Khz'] = '/home/ubuntu/data/OpenSmile/04-2023-OSF-feature-csvs/OSF-2023-04-01-world-leaders-dataset-11LabsDeepFakes-Biden-16Khz.csv'\n",
    "\n",
    "#biden in the wild\n",
    "file_mapping['/home/ubuntu/data/InTheWildFakes/Biden/Original'] = '/home/ubuntu/data/OpenSmile/04-2023-OSF-feature-csvs/OSF-2023-04-01-InTheWildFakes-Biden-Original.csv'\n",
    "file_mapping['/home/ubuntu/data/InTheWildFakes/Biden/16000KHz'] = '/home/ubuntu/data/OpenSmile/04-2023-OSF-feature-csvs/OSF-2023-04-01-InTheWildFakes-Biden-16000KHz.csv'\n",
    "\n",
    "#ljspeech real\n",
    "file_mapping['/home/ubuntu/data/wavefake_data/LJSpeech_1.1/wavs/Original'] = '/home/ubuntu/data/OpenSmile/04-2023-OSF-feature-csvs/OSF-2023-04-01-wavefake_data-LJSpeech_1.1-wavs-Original.csv'\n",
    "file_mapping['/home/ubuntu/data/wavefake_data/LJSpeech_1.1/wavs/16000KHz'] = '/home/ubuntu/data/OpenSmile/04-2023-OSF-feature-csvs/OSF-2023-04-01-wavefake_data-LJSpeech_1.1-wavs-16000KHz.csv'\n",
    "\n",
    "#ljspeech eleven labs\n",
    "file_mapping['/home/ubuntu/data/wavefake_data/generated_audio/ljspeech_elevenlabs/Original'] = '/home/ubuntu/data/OpenSmile/04-2023-OSF-feature-csvs/OSF-2023-04-01-wavefake_data-generated_audio-ljspeech_elevenlabs-Original.csv'\n",
    "file_mapping['/home/ubuntu/data/wavefake_data/generated_audio/ljspeech_elevenlabs/16000KHz'] = '/home/ubuntu/data/OpenSmile/04-2023-OSF-feature-csvs/OSF-2023-04-01-wavefake_data-generated_audio-ljspeech_elevenlabs-16000KHz.csv'\n",
    "\n",
    "#ljspeech uberduck\n",
    "file_mapping['/home/ubuntu/data/wavefake_data/generated_audio/ljspeech_uberduck/Original'] = '/home/ubuntu/data/OpenSmile/04-2023-OSF-feature-csvs/OSF-2023-04-06-wavefake_data-generated_audio-ljspeech_uberduck-Original.csv'\n",
    "file_mapping['/home/ubuntu/data/wavefake_data/generated_audio/ljspeech_uberduck/16000KHz'] = '/home/ubuntu/data/OpenSmile/04-2023-OSF-feature-csvs/OSF-2023-04-06-wavefake_data-generated_audio-ljspeech_uberduck-16000KHz.csv'\n",
    "\n",
    "#ljspeech melgan\n",
    "file_mapping['/home/ubuntu/data/wavefake_data/generated_audio/ljspeech_melgan/Original'] = '/home/ubuntu/data/OpenSmile/04-2023-OSF-feature-csvs/OSF-2023-04-01-wavefake_data-generated_audio-ljspeech_melgan-Original.csv'\n",
    "file_mapping['/home/ubuntu/data/wavefake_data/generated_audio/ljspeech_melgan/16000KHz'] = '/home/ubuntu/data/OpenSmile/04-2023-OSF-feature-csvs/OSF-2023-04-01-wavefake_data-generated_audio-ljspeech_melgan-16000KHz.csv'\n",
    "\n",
    "#ljspeech melgan large\n",
    "file_mapping['/home/ubuntu/data/wavefake_data/generated_audio/ljspeech_melgan_large/Original'] = '/home/ubuntu/data/OpenSmile/04-2023-OSF-feature-csvs/OSF-2023-04-01-wavefake_data-generated_audio-ljspeech_melgan_large-Original.csv'\n",
    "file_mapping['/home/ubuntu/data/wavefake_data/generated_audio/ljspeech_melgan_large/16000KHz'] = '/home/ubuntu/data/OpenSmile/04-2023-OSF-feature-csvs/OSF-2023-04-01-wavefake_data-generated_audio-ljspeech_melgan_large-16000KHz.csv'\n",
    "\n",
    "#ljspeech multi band melgan\n",
    "file_mapping['/home/ubuntu/data/wavefake_data/generated_audio/ljspeech_multi_band_melgan/Original'] = '/home/ubuntu/data/OpenSmile/04-2023-OSF-feature-csvs/OSF-2023-04-01-wavefake_data-generated_audio-ljspeech_multi_band_melgan-Original.csv'\n",
    "file_mapping['/home/ubuntu/data/wavefake_data/generated_audio/ljspeech_multi_band_melgan/16000KHz'] = '/home/ubuntu/data/OpenSmile/04-2023-OSF-feature-csvs/OSF-2023-04-01-wavefake_data-generated_audio-ljspeech_multi_band_melgan-16000KHz.csv'\n",
    "\n",
    "#ljspeech full band melgan\n",
    "file_mapping['/home/ubuntu/data/wavefake_data/generated_audio/ljspeech_full_band_melgan/Original'] = '/home/ubuntu/data/OpenSmile/04-2023-OSF-feature-csvs/OSF-2023-04-01-wavefake_data-generated_audio-ljspeech_full_band_melgan-Original.csv'\n",
    "file_mapping['/home/ubuntu/data/wavefake_data/generated_audio/ljspeech_full_band_melgan/16000KHz'] = '/home/ubuntu/data/OpenSmile/04-2023-OSF-feature-csvs/OSF-2023-04-01-wavefake_data-generated_audio-ljspeech_full_band_melgan-16000KHz.csv'\n",
    "\n",
    "#ljspeech hifiGAN\n",
    "file_mapping['/home/ubuntu/data/wavefake_data/generated_audio/ljspeech_hifiGAN/Original'] = '/home/ubuntu/data/OpenSmile/04-2023-OSF-feature-csvs/OSF-2023-04-01-wavefake_data-generated_audio-ljspeech_hifiGAN-Original.csv'\n",
    "file_mapping['/home/ubuntu/data/wavefake_data/generated_audio/ljspeech_hifiGAN/16000KHz'] = '/home/ubuntu/data/OpenSmile/04-2023-OSF-feature-csvs/OSF-2023-04-01-wavefake_data-generated_audio-ljspeech_hifiGAN-16000KHz.csv'\n",
    "\n",
    "#ljspeech parallel wavegan\n",
    "file_mapping['/home/ubuntu/data/wavefake_data/generated_audio/ljspeech_parallel_wavegan/Original'] = '/home/ubuntu/data/OpenSmile/04-2023-OSF-feature-csvs/OSF-2023-04-01-wavefake_data-generated_audio-ljspeech_parallel_wavegan-Original.csv'\n",
    "file_mapping['/home/ubuntu/data/wavefake_data/generated_audio/ljspeech_parallel_wavegan/16000KHz'] = '/home/ubuntu/data/OpenSmile/04-2023-OSF-feature-csvs/OSF-2023-04-01-wavefake_data-generated_audio-ljspeech_parallel_wavegan-16000KHz.csv'\n",
    "\n",
    "#ljspeech waveglow\n",
    "file_mapping['/home/ubuntu/data/wavefake_data/generated_audio/ljspeech_waveglow/Original'] = '/home/ubuntu/data/OpenSmile/04-2023-OSF-feature-csvs/OSF-2023-04-01-wavefake_data-generated_audio-ljspeech_waveglow-Original.csv'\n",
    "file_mapping['/home/ubuntu/data/wavefake_data/generated_audio/ljspeech_waveglow/16000KHz'] = '/home/ubuntu/data/OpenSmile/04-2023-OSF-feature-csvs/OSF-2023-04-01-wavefake_data-generated_audio-ljspeech_waveglow-16000KHz.csv'\n",
    "\n",
    "#file_mapping"
   ]
  },
  {
   "cell_type": "code",
   "execution_count": null,
   "metadata": {},
   "outputs": [],
   "source": [
    "cellEnabled=0\n",
    "\n",
    "if cellEnabled:\n",
    "\n",
    "    file_mappings = '/home/ubuntu/data/OpenSmile/04-2023-OSF-feature-csvs/' + 'file_mappings.json' \n",
    "\n",
    "    with open(file_mappings, \"w\") as json_file:\n",
    "        json.dump(file_mapping, json_file, indent=4)"
   ]
  },
  {
   "cell_type": "markdown",
   "metadata": {
    "tags": []
   },
   "source": [
    "## Part 2: Loading the openSMILE features\n",
    "\n",
    "The openSMILE features are generated and stored in multiple `csv` files here - `data/OpenSmile/04-2023-OSF-feature-csvs`. This folder also stores the JSON file"
   ]
  },
  {
   "cell_type": "code",
   "execution_count": 14,
   "metadata": {},
   "outputs": [
    {
     "name": "stderr",
     "output_type": "stream",
     "text": [
      "100%|██████████| 10/10 [02:01<00:00, 12.14s/it]\n"
     ]
    }
   ],
   "source": [
    "#pass the test df and the smileFeatureLoader object does the merging\n",
    "smFeatLoader = smileFeatureLoader(test_df)"
   ]
  },
  {
   "cell_type": "code",
   "execution_count": 15,
   "metadata": {},
   "outputs": [],
   "source": [
    "#get the df for feature selection\n",
    "fs_df = smFeatLoader.return_merged_df()"
   ]
  },
  {
   "cell_type": "code",
   "execution_count": 16,
   "metadata": {},
   "outputs": [
    {
     "data": {
      "text/plain": [
       "(1000, 6380)"
      ]
     },
     "execution_count": 16,
     "metadata": {},
     "output_type": "execute_result"
    }
   ],
   "source": [
    "fs_df.shape"
   ]
  },
  {
   "cell_type": "code",
   "execution_count": 17,
   "metadata": {},
   "outputs": [
    {
     "data": {
      "text/html": [
       "<div>\n",
       "<style scoped>\n",
       "    .dataframe tbody tr th:only-of-type {\n",
       "        vertical-align: middle;\n",
       "    }\n",
       "\n",
       "    .dataframe tbody tr th {\n",
       "        vertical-align: top;\n",
       "    }\n",
       "\n",
       "    .dataframe thead th {\n",
       "        text-align: right;\n",
       "    }\n",
       "</style>\n",
       "<table border=\"1\" class=\"dataframe\">\n",
       "  <thead>\n",
       "    <tr style=\"text-align: right;\">\n",
       "      <th></th>\n",
       "      <th>type</th>\n",
       "      <th>id</th>\n",
       "      <th>architecture</th>\n",
       "      <th>path</th>\n",
       "      <th>label</th>\n",
       "      <th>multiclass_label</th>\n",
       "      <th>duration(seconds)</th>\n",
       "      <th>audspec_lengthL1norm_sma_range</th>\n",
       "      <th>audspec_lengthL1norm_sma_maxPos</th>\n",
       "      <th>audspec_lengthL1norm_sma_minPos</th>\n",
       "      <th>...</th>\n",
       "      <th>mfcc_sma_de[14]_peakRangeAbs</th>\n",
       "      <th>mfcc_sma_de[14]_peakRangeRel</th>\n",
       "      <th>mfcc_sma_de[14]_peakMeanAbs</th>\n",
       "      <th>mfcc_sma_de[14]_peakMeanMeanDist</th>\n",
       "      <th>mfcc_sma_de[14]_peakMeanRel</th>\n",
       "      <th>mfcc_sma_de[14]_minRangeRel</th>\n",
       "      <th>mfcc_sma_de[14]_meanRisingSlope</th>\n",
       "      <th>mfcc_sma_de[14]_stddevRisingSlope</th>\n",
       "      <th>mfcc_sma_de[14]_meanFallingSlope</th>\n",
       "      <th>mfcc_sma_de[14]_stddevFallingSlope</th>\n",
       "    </tr>\n",
       "  </thead>\n",
       "  <tbody>\n",
       "    <tr>\n",
       "      <th>0</th>\n",
       "      <td>dev</td>\n",
       "      <td>LJ009-0260</td>\n",
       "      <td>Real</td>\n",
       "      <td>/home/ubuntu/data/wavefake_data/LJSpeech_1.1/w...</td>\n",
       "      <td>0</td>\n",
       "      <td>0</td>\n",
       "      <td>1.504</td>\n",
       "      <td>3.210858</td>\n",
       "      <td>0.216783</td>\n",
       "      <td>0.993007</td>\n",
       "      <td>...</td>\n",
       "      <td>7.969172</td>\n",
       "      <td>0.537269</td>\n",
       "      <td>2.800857</td>\n",
       "      <td>2.633814</td>\n",
       "      <td>13.429184</td>\n",
       "      <td>0.614214</td>\n",
       "      <td>151.788300</td>\n",
       "      <td>93.544685</td>\n",
       "      <td>144.491440</td>\n",
       "      <td>56.958157</td>\n",
       "    </tr>\n",
       "    <tr>\n",
       "      <th>1</th>\n",
       "      <td>test</td>\n",
       "      <td>LJ015-0023</td>\n",
       "      <td>Real</td>\n",
       "      <td>/home/ubuntu/data/wavefake_data/LJSpeech_1.1/w...</td>\n",
       "      <td>0</td>\n",
       "      <td>0</td>\n",
       "      <td>8.563</td>\n",
       "      <td>2.311157</td>\n",
       "      <td>0.070671</td>\n",
       "      <td>0.391048</td>\n",
       "      <td>...</td>\n",
       "      <td>11.307250</td>\n",
       "      <td>0.555090</td>\n",
       "      <td>2.970577</td>\n",
       "      <td>2.979340</td>\n",
       "      <td>-19.979172</td>\n",
       "      <td>0.461164</td>\n",
       "      <td>119.856010</td>\n",
       "      <td>65.274330</td>\n",
       "      <td>124.644340</td>\n",
       "      <td>66.294090</td>\n",
       "    </tr>\n",
       "    <tr>\n",
       "      <th>2</th>\n",
       "      <td>train</td>\n",
       "      <td>LJ023-0066</td>\n",
       "      <td>Real</td>\n",
       "      <td>/home/ubuntu/data/wavefake_data/LJSpeech_1.1/w...</td>\n",
       "      <td>0</td>\n",
       "      <td>0</td>\n",
       "      <td>5.220</td>\n",
       "      <td>2.309739</td>\n",
       "      <td>0.366990</td>\n",
       "      <td>0.937864</td>\n",
       "      <td>...</td>\n",
       "      <td>9.972246</td>\n",
       "      <td>0.690888</td>\n",
       "      <td>2.720463</td>\n",
       "      <td>2.722816</td>\n",
       "      <td>-19.999962</td>\n",
       "      <td>0.377124</td>\n",
       "      <td>119.469540</td>\n",
       "      <td>63.340397</td>\n",
       "      <td>112.896164</td>\n",
       "      <td>56.064102</td>\n",
       "    </tr>\n",
       "    <tr>\n",
       "      <th>3</th>\n",
       "      <td>train</td>\n",
       "      <td>LJ004-0105</td>\n",
       "      <td>Real</td>\n",
       "      <td>/home/ubuntu/data/wavefake_data/LJSpeech_1.1/w...</td>\n",
       "      <td>0</td>\n",
       "      <td>0</td>\n",
       "      <td>7.414</td>\n",
       "      <td>2.110040</td>\n",
       "      <td>0.527248</td>\n",
       "      <td>0.514986</td>\n",
       "      <td>...</td>\n",
       "      <td>7.553504</td>\n",
       "      <td>0.534313</td>\n",
       "      <td>2.727876</td>\n",
       "      <td>2.737227</td>\n",
       "      <td>-19.964270</td>\n",
       "      <td>0.458944</td>\n",
       "      <td>119.058624</td>\n",
       "      <td>56.358753</td>\n",
       "      <td>115.973946</td>\n",
       "      <td>51.865910</td>\n",
       "    </tr>\n",
       "    <tr>\n",
       "      <th>4</th>\n",
       "      <td>train</td>\n",
       "      <td>LJ050-0060</td>\n",
       "      <td>Real</td>\n",
       "      <td>/home/ubuntu/data/wavefake_data/LJSpeech_1.1/w...</td>\n",
       "      <td>0</td>\n",
       "      <td>0</td>\n",
       "      <td>9.538</td>\n",
       "      <td>1.902781</td>\n",
       "      <td>0.151163</td>\n",
       "      <td>0.139535</td>\n",
       "      <td>...</td>\n",
       "      <td>7.638598</td>\n",
       "      <td>0.497670</td>\n",
       "      <td>2.552455</td>\n",
       "      <td>2.558427</td>\n",
       "      <td>-19.991665</td>\n",
       "      <td>0.545857</td>\n",
       "      <td>113.729520</td>\n",
       "      <td>58.177570</td>\n",
       "      <td>110.945210</td>\n",
       "      <td>57.596600</td>\n",
       "    </tr>\n",
       "  </tbody>\n",
       "</table>\n",
       "<p>5 rows × 6380 columns</p>\n",
       "</div>"
      ],
      "text/plain": [
       "    type          id architecture  \\\n",
       "0    dev  LJ009-0260         Real   \n",
       "1   test  LJ015-0023         Real   \n",
       "2  train  LJ023-0066         Real   \n",
       "3  train  LJ004-0105         Real   \n",
       "4  train  LJ050-0060         Real   \n",
       "\n",
       "                                                path  label  multiclass_label  \\\n",
       "0  /home/ubuntu/data/wavefake_data/LJSpeech_1.1/w...      0                 0   \n",
       "1  /home/ubuntu/data/wavefake_data/LJSpeech_1.1/w...      0                 0   \n",
       "2  /home/ubuntu/data/wavefake_data/LJSpeech_1.1/w...      0                 0   \n",
       "3  /home/ubuntu/data/wavefake_data/LJSpeech_1.1/w...      0                 0   \n",
       "4  /home/ubuntu/data/wavefake_data/LJSpeech_1.1/w...      0                 0   \n",
       "\n",
       "   duration(seconds)  audspec_lengthL1norm_sma_range  \\\n",
       "0              1.504                        3.210858   \n",
       "1              8.563                        2.311157   \n",
       "2              5.220                        2.309739   \n",
       "3              7.414                        2.110040   \n",
       "4              9.538                        1.902781   \n",
       "\n",
       "   audspec_lengthL1norm_sma_maxPos  audspec_lengthL1norm_sma_minPos  ...  \\\n",
       "0                         0.216783                         0.993007  ...   \n",
       "1                         0.070671                         0.391048  ...   \n",
       "2                         0.366990                         0.937864  ...   \n",
       "3                         0.527248                         0.514986  ...   \n",
       "4                         0.151163                         0.139535  ...   \n",
       "\n",
       "   mfcc_sma_de[14]_peakRangeAbs  mfcc_sma_de[14]_peakRangeRel  \\\n",
       "0                      7.969172                      0.537269   \n",
       "1                     11.307250                      0.555090   \n",
       "2                      9.972246                      0.690888   \n",
       "3                      7.553504                      0.534313   \n",
       "4                      7.638598                      0.497670   \n",
       "\n",
       "   mfcc_sma_de[14]_peakMeanAbs  mfcc_sma_de[14]_peakMeanMeanDist  \\\n",
       "0                     2.800857                          2.633814   \n",
       "1                     2.970577                          2.979340   \n",
       "2                     2.720463                          2.722816   \n",
       "3                     2.727876                          2.737227   \n",
       "4                     2.552455                          2.558427   \n",
       "\n",
       "   mfcc_sma_de[14]_peakMeanRel  mfcc_sma_de[14]_minRangeRel  \\\n",
       "0                    13.429184                     0.614214   \n",
       "1                   -19.979172                     0.461164   \n",
       "2                   -19.999962                     0.377124   \n",
       "3                   -19.964270                     0.458944   \n",
       "4                   -19.991665                     0.545857   \n",
       "\n",
       "   mfcc_sma_de[14]_meanRisingSlope  mfcc_sma_de[14]_stddevRisingSlope  \\\n",
       "0                       151.788300                          93.544685   \n",
       "1                       119.856010                          65.274330   \n",
       "2                       119.469540                          63.340397   \n",
       "3                       119.058624                          56.358753   \n",
       "4                       113.729520                          58.177570   \n",
       "\n",
       "   mfcc_sma_de[14]_meanFallingSlope  mfcc_sma_de[14]_stddevFallingSlope  \n",
       "0                        144.491440                           56.958157  \n",
       "1                        124.644340                           66.294090  \n",
       "2                        112.896164                           56.064102  \n",
       "3                        115.973946                           51.865910  \n",
       "4                        110.945210                           57.596600  \n",
       "\n",
       "[5 rows x 6380 columns]"
      ]
     },
     "execution_count": 17,
     "metadata": {},
     "output_type": "execute_result"
    }
   ],
   "source": [
    "fs_df.head()"
   ]
  },
  {
   "cell_type": "code",
   "execution_count": null,
   "metadata": {},
   "outputs": [],
   "source": []
  },
  {
   "cell_type": "markdown",
   "metadata": {},
   "source": [
    "## Part 3: Running feature selection"
   ]
  },
  {
   "cell_type": "code",
   "execution_count": 18,
   "metadata": {},
   "outputs": [
    {
     "data": {
      "text/plain": [
       "['type',\n",
       " 'id',\n",
       " 'architecture',\n",
       " 'path',\n",
       " 'label',\n",
       " 'multiclass_label',\n",
       " 'duration(seconds)']"
      ]
     },
     "execution_count": 18,
     "metadata": {},
     "output_type": "execute_result"
    }
   ],
   "source": [
    "#get the columns that are not the 6373 features as metadata\n",
    "metadata = list(fs_df.columns[:7])\n",
    "metadata"
   ]
  },
  {
   "cell_type": "markdown",
   "metadata": {
    "tags": []
   },
   "source": [
    "### BruteForce feature selection (Buggy and doesn't run):\n",
    "\n",
    "Has an issue due to how architecture is currently set up. Need a mapping between real and fake architectures for the code to run properly. Gautham to discuss further with Romit."
   ]
  },
  {
   "cell_type": "code",
   "execution_count": 19,
   "metadata": {},
   "outputs": [
    {
     "name": "stdout",
     "output_type": "stream",
     "text": [
      "Initializing data...\n",
      "Standardizing features...\n",
      "smileFeatureSelectorBruteForce object initialized.\n",
      "\n"
     ]
    }
   ],
   "source": [
    "#initialize the object\n",
    "smFS_bf = smileFeatureSelectorBruteForce(df=fs_df, metadata=metadata, standardize=True, model=LogisticRegression())"
   ]
  },
  {
   "cell_type": "markdown",
   "metadata": {},
   "source": [
    "__architecture column needs fixing (real should be mapped to the corresponding fake that is assigned to it__"
   ]
  },
  {
   "cell_type": "code",
   "execution_count": 20,
   "metadata": {
    "tags": []
   },
   "outputs": [
    {
     "data": {
      "text/plain": [
       "array(['Real', 'ElevenLabs', 'Parallel_WaveGan', 'UberDuck', 'HifiGan',\n",
       "       'MelGan', 'Multi_Band_MelGan', 'MelGanLarge', 'Full_Band_MelGan',\n",
       "       'Waveglow'], dtype=object)"
      ]
     },
     "execution_count": 20,
     "metadata": {},
     "output_type": "execute_result"
    }
   ],
   "source": [
    "smFS_bf.data.architecture.unique()"
   ]
  },
  {
   "cell_type": "code",
   "execution_count": 21,
   "metadata": {},
   "outputs": [
    {
     "data": {
      "text/plain": [
       "Real                 500\n",
       "HifiGan               72\n",
       "MelGanLarge           64\n",
       "ElevenLabs            60\n",
       "Multi_Band_MelGan     59\n",
       "UberDuck              58\n",
       "Full_Band_MelGan      55\n",
       "MelGan                45\n",
       "Parallel_WaveGan      44\n",
       "Waveglow              43\n",
       "Name: architecture, dtype: int64"
      ]
     },
     "execution_count": 21,
     "metadata": {},
     "output_type": "execute_result"
    }
   ],
   "source": [
    "smFS_bf.data.architecture.value_counts()"
   ]
  },
  {
   "cell_type": "markdown",
   "metadata": {},
   "source": [
    "### Select From Model"
   ]
  },
  {
   "cell_type": "code",
   "execution_count": 22,
   "metadata": {},
   "outputs": [
    {
     "name": "stdout",
     "output_type": "stream",
     "text": [
      "Initializing data...\n",
      "Standardizing features...\n",
      "smileFeatureSelectFromModel object initialized.\n",
      "\n"
     ]
    }
   ],
   "source": [
    "smFS_model = smileFeatureSelectFromModel(df=fs_df,\n",
    "                                        metadata=['type', 'id', 'architecture', 'path', 'label', 'multiclass_label', 'duration(seconds)'],\n",
    "                                        standardize = True,\n",
    "                                        model=RandomForestClassifier())"
   ]
  },
  {
   "cell_type": "code",
   "execution_count": 23,
   "metadata": {},
   "outputs": [
    {
     "name": "stdout",
     "output_type": "stream",
     "text": [
      "\n",
      "Top 25 features selected from all_archs architecture.\n",
      "\n",
      "1. pcm_RMSenergy_sma_quartile2\n",
      "2. pcm_fftMag_spectralFlux_sma_stddev\n",
      "3. pcm_fftMag_spectralEntropy_sma_lpc2\n",
      "4. mfcc_sma[4]_lpc0\n",
      "5. mfcc_sma[6]_lpgain\n",
      "6. mfcc_sma[6]_lpc0\n",
      "7. mfcc_sma[6]_lpc1\n",
      "8. mfcc_sma[7]_lpgain\n",
      "9. mfcc_sma[8]_lpc0\n",
      "10. mfcc_sma[10]_lpgain\n",
      "11. mfcc_sma[12]_lpc0\n",
      "12. mfcc_sma[13]_lpgain\n",
      "13. mfcc_sma_de[6]_lpgain\n",
      "14. mfcc_sma_de[6]_lpc1\n",
      "15. mfcc_sma_de[8]_lpgain\n",
      "16. mfcc_sma_de[8]_lpc2\n",
      "17. mfcc_sma_de[9]_lpgain\n",
      "18. mfcc_sma_de[9]_lpc0\n",
      "19. jitterLocal_sma_percentile1.0\n",
      "20. jitterDDP_sma_flatness\n",
      "21. jitterDDP_sma_quartile1\n",
      "22. jitterDDP_sma_quartile2\n",
      "23. jitterDDP_sma_percentile1.0\n",
      "24. audspec_lengthL1norm_sma_rqmean\n",
      "25. pcm_fftMag_spectralFlux_sma_peakMeanAbs\n"
     ]
    }
   ],
   "source": [
    "exp_df_2 = smFS_model.select_features(max_features=25, arch='all_archs', return_df=True)"
   ]
  },
  {
   "cell_type": "code",
   "execution_count": 24,
   "metadata": {},
   "outputs": [
    {
     "data": {
      "text/html": [
       "<div>\n",
       "<style scoped>\n",
       "    .dataframe tbody tr th:only-of-type {\n",
       "        vertical-align: middle;\n",
       "    }\n",
       "\n",
       "    .dataframe tbody tr th {\n",
       "        vertical-align: top;\n",
       "    }\n",
       "\n",
       "    .dataframe thead th {\n",
       "        text-align: right;\n",
       "    }\n",
       "</style>\n",
       "<table border=\"1\" class=\"dataframe\">\n",
       "  <thead>\n",
       "    <tr style=\"text-align: right;\">\n",
       "      <th></th>\n",
       "      <th>type</th>\n",
       "      <th>id</th>\n",
       "      <th>architecture</th>\n",
       "      <th>path</th>\n",
       "      <th>label</th>\n",
       "      <th>multiclass_label</th>\n",
       "      <th>duration(seconds)</th>\n",
       "      <th>pcm_RMSenergy_sma_quartile2</th>\n",
       "      <th>pcm_fftMag_spectralFlux_sma_stddev</th>\n",
       "      <th>pcm_fftMag_spectralEntropy_sma_lpc2</th>\n",
       "      <th>...</th>\n",
       "      <th>mfcc_sma_de[8]_lpc2</th>\n",
       "      <th>mfcc_sma_de[9]_lpgain</th>\n",
       "      <th>mfcc_sma_de[9]_lpc0</th>\n",
       "      <th>jitterLocal_sma_percentile1.0</th>\n",
       "      <th>jitterDDP_sma_flatness</th>\n",
       "      <th>jitterDDP_sma_quartile1</th>\n",
       "      <th>jitterDDP_sma_quartile2</th>\n",
       "      <th>jitterDDP_sma_percentile1.0</th>\n",
       "      <th>audspec_lengthL1norm_sma_rqmean</th>\n",
       "      <th>pcm_fftMag_spectralFlux_sma_peakMeanAbs</th>\n",
       "    </tr>\n",
       "  </thead>\n",
       "  <tbody>\n",
       "    <tr>\n",
       "      <th>0</th>\n",
       "      <td>dev</td>\n",
       "      <td>LJ009-0260</td>\n",
       "      <td>Real</td>\n",
       "      <td>/home/ubuntu/data/wavefake_data/LJSpeech_1.1/w...</td>\n",
       "      <td>0</td>\n",
       "      <td>0</td>\n",
       "      <td>1.504</td>\n",
       "      <td>0.060996</td>\n",
       "      <td>0.418733</td>\n",
       "      <td>0.025716</td>\n",
       "      <td>...</td>\n",
       "      <td>0.138888</td>\n",
       "      <td>0.965260</td>\n",
       "      <td>-1.860047</td>\n",
       "      <td>0.003598</td>\n",
       "      <td>0.429953</td>\n",
       "      <td>0.004462</td>\n",
       "      <td>0.013563</td>\n",
       "      <td>0.002438</td>\n",
       "      <td>0.997488</td>\n",
       "      <td>0.963522</td>\n",
       "    </tr>\n",
       "    <tr>\n",
       "      <th>1</th>\n",
       "      <td>test</td>\n",
       "      <td>LJ015-0023</td>\n",
       "      <td>Real</td>\n",
       "      <td>/home/ubuntu/data/wavefake_data/LJSpeech_1.1/w...</td>\n",
       "      <td>0</td>\n",
       "      <td>0</td>\n",
       "      <td>8.563</td>\n",
       "      <td>0.047888</td>\n",
       "      <td>0.265508</td>\n",
       "      <td>0.208156</td>\n",
       "      <td>...</td>\n",
       "      <td>-0.021208</td>\n",
       "      <td>0.870025</td>\n",
       "      <td>-1.828410</td>\n",
       "      <td>0.001473</td>\n",
       "      <td>0.401082</td>\n",
       "      <td>0.003500</td>\n",
       "      <td>0.007872</td>\n",
       "      <td>0.001107</td>\n",
       "      <td>0.802554</td>\n",
       "      <td>0.697738</td>\n",
       "    </tr>\n",
       "    <tr>\n",
       "      <th>2</th>\n",
       "      <td>train</td>\n",
       "      <td>LJ023-0066</td>\n",
       "      <td>Real</td>\n",
       "      <td>/home/ubuntu/data/wavefake_data/LJSpeech_1.1/w...</td>\n",
       "      <td>0</td>\n",
       "      <td>0</td>\n",
       "      <td>5.220</td>\n",
       "      <td>0.037776</td>\n",
       "      <td>0.177167</td>\n",
       "      <td>0.188617</td>\n",
       "      <td>...</td>\n",
       "      <td>-0.010521</td>\n",
       "      <td>0.741540</td>\n",
       "      <td>-1.847833</td>\n",
       "      <td>0.001426</td>\n",
       "      <td>0.438787</td>\n",
       "      <td>0.003260</td>\n",
       "      <td>0.007696</td>\n",
       "      <td>0.000759</td>\n",
       "      <td>0.807089</td>\n",
       "      <td>0.451510</td>\n",
       "    </tr>\n",
       "    <tr>\n",
       "      <th>3</th>\n",
       "      <td>train</td>\n",
       "      <td>LJ004-0105</td>\n",
       "      <td>Real</td>\n",
       "      <td>/home/ubuntu/data/wavefake_data/LJSpeech_1.1/w...</td>\n",
       "      <td>0</td>\n",
       "      <td>0</td>\n",
       "      <td>7.414</td>\n",
       "      <td>0.035107</td>\n",
       "      <td>0.172776</td>\n",
       "      <td>0.323238</td>\n",
       "      <td>...</td>\n",
       "      <td>-0.034936</td>\n",
       "      <td>0.990298</td>\n",
       "      <td>-1.900016</td>\n",
       "      <td>0.001218</td>\n",
       "      <td>0.495432</td>\n",
       "      <td>0.004910</td>\n",
       "      <td>0.010289</td>\n",
       "      <td>0.000962</td>\n",
       "      <td>0.638135</td>\n",
       "      <td>0.460996</td>\n",
       "    </tr>\n",
       "    <tr>\n",
       "      <th>4</th>\n",
       "      <td>train</td>\n",
       "      <td>LJ050-0060</td>\n",
       "      <td>Real</td>\n",
       "      <td>/home/ubuntu/data/wavefake_data/LJSpeech_1.1/w...</td>\n",
       "      <td>0</td>\n",
       "      <td>0</td>\n",
       "      <td>9.538</td>\n",
       "      <td>0.044952</td>\n",
       "      <td>0.235707</td>\n",
       "      <td>0.155720</td>\n",
       "      <td>...</td>\n",
       "      <td>0.087988</td>\n",
       "      <td>0.751940</td>\n",
       "      <td>-1.794040</td>\n",
       "      <td>0.001904</td>\n",
       "      <td>0.451818</td>\n",
       "      <td>0.003431</td>\n",
       "      <td>0.007436</td>\n",
       "      <td>0.001499</td>\n",
       "      <td>0.710726</td>\n",
       "      <td>0.621085</td>\n",
       "    </tr>\n",
       "  </tbody>\n",
       "</table>\n",
       "<p>5 rows × 32 columns</p>\n",
       "</div>"
      ],
      "text/plain": [
       "    type          id architecture  \\\n",
       "0    dev  LJ009-0260         Real   \n",
       "1   test  LJ015-0023         Real   \n",
       "2  train  LJ023-0066         Real   \n",
       "3  train  LJ004-0105         Real   \n",
       "4  train  LJ050-0060         Real   \n",
       "\n",
       "                                                path  label  multiclass_label  \\\n",
       "0  /home/ubuntu/data/wavefake_data/LJSpeech_1.1/w...      0                 0   \n",
       "1  /home/ubuntu/data/wavefake_data/LJSpeech_1.1/w...      0                 0   \n",
       "2  /home/ubuntu/data/wavefake_data/LJSpeech_1.1/w...      0                 0   \n",
       "3  /home/ubuntu/data/wavefake_data/LJSpeech_1.1/w...      0                 0   \n",
       "4  /home/ubuntu/data/wavefake_data/LJSpeech_1.1/w...      0                 0   \n",
       "\n",
       "   duration(seconds)  pcm_RMSenergy_sma_quartile2  \\\n",
       "0              1.504                     0.060996   \n",
       "1              8.563                     0.047888   \n",
       "2              5.220                     0.037776   \n",
       "3              7.414                     0.035107   \n",
       "4              9.538                     0.044952   \n",
       "\n",
       "   pcm_fftMag_spectralFlux_sma_stddev  pcm_fftMag_spectralEntropy_sma_lpc2  \\\n",
       "0                            0.418733                             0.025716   \n",
       "1                            0.265508                             0.208156   \n",
       "2                            0.177167                             0.188617   \n",
       "3                            0.172776                             0.323238   \n",
       "4                            0.235707                             0.155720   \n",
       "\n",
       "   ...  mfcc_sma_de[8]_lpc2  mfcc_sma_de[9]_lpgain  mfcc_sma_de[9]_lpc0  \\\n",
       "0  ...             0.138888               0.965260            -1.860047   \n",
       "1  ...            -0.021208               0.870025            -1.828410   \n",
       "2  ...            -0.010521               0.741540            -1.847833   \n",
       "3  ...            -0.034936               0.990298            -1.900016   \n",
       "4  ...             0.087988               0.751940            -1.794040   \n",
       "\n",
       "   jitterLocal_sma_percentile1.0  jitterDDP_sma_flatness  \\\n",
       "0                       0.003598                0.429953   \n",
       "1                       0.001473                0.401082   \n",
       "2                       0.001426                0.438787   \n",
       "3                       0.001218                0.495432   \n",
       "4                       0.001904                0.451818   \n",
       "\n",
       "   jitterDDP_sma_quartile1  jitterDDP_sma_quartile2  \\\n",
       "0                 0.004462                 0.013563   \n",
       "1                 0.003500                 0.007872   \n",
       "2                 0.003260                 0.007696   \n",
       "3                 0.004910                 0.010289   \n",
       "4                 0.003431                 0.007436   \n",
       "\n",
       "   jitterDDP_sma_percentile1.0  audspec_lengthL1norm_sma_rqmean  \\\n",
       "0                     0.002438                         0.997488   \n",
       "1                     0.001107                         0.802554   \n",
       "2                     0.000759                         0.807089   \n",
       "3                     0.000962                         0.638135   \n",
       "4                     0.001499                         0.710726   \n",
       "\n",
       "   pcm_fftMag_spectralFlux_sma_peakMeanAbs  \n",
       "0                                 0.963522  \n",
       "1                                 0.697738  \n",
       "2                                 0.451510  \n",
       "3                                 0.460996  \n",
       "4                                 0.621085  \n",
       "\n",
       "[5 rows x 32 columns]"
      ]
     },
     "execution_count": 24,
     "metadata": {},
     "output_type": "execute_result"
    }
   ],
   "source": [
    "exp_df_2.head()"
   ]
  },
  {
   "cell_type": "code",
   "execution_count": null,
   "metadata": {},
   "outputs": [],
   "source": []
  },
  {
   "cell_type": "markdown",
   "metadata": {},
   "source": [
    "### Univariate Feature Selection:"
   ]
  },
  {
   "cell_type": "code",
   "execution_count": 25,
   "metadata": {},
   "outputs": [
    {
     "name": "stdout",
     "output_type": "stream",
     "text": [
      "Initializing data...\n",
      "Standardizing features...\n",
      "smileUnivariateFeatureSelector object initialized.\n",
      "\n"
     ]
    }
   ],
   "source": [
    "smFS_univariate = smileUnivariateFeatureSelector(df=fs_df,\n",
    "                                                metadata=['type', 'id', 'architecture', 'path', 'label', 'multiclass_label', 'duration(seconds)'],\n",
    "                                                standardize = True)"
   ]
  },
  {
   "cell_type": "code",
   "execution_count": 26,
   "metadata": {},
   "outputs": [
    {
     "name": "stdout",
     "output_type": "stream",
     "text": [
      "\n",
      "Top 25 features selected from all_archs architecture.\n",
      "\n",
      "1. mfcc_sma[6]_lpc0\n",
      "2. mfcc_sma[6]_lpc1\n",
      "3. mfcc_sma[7]_lpgain\n",
      "4. mfcc_sma[9]_lpgain\n",
      "5. mfcc_sma[10]_lpgain\n",
      "6. mfcc_sma[10]_lpc0\n",
      "7. mfcc_sma[12]_lpgain\n",
      "8. pcm_fftMag_spectralEntropy_sma_de_upleveltime50\n",
      "9. pcm_fftMag_spectralEntropy_sma_de_lpc1\n",
      "10. mfcc_sma_de[5]_lpgain\n",
      "11. mfcc_sma_de[5]_lpc0\n",
      "12. mfcc_sma_de[6]_lpc0\n",
      "13. mfcc_sma_de[6]_lpc1\n",
      "14. mfcc_sma_de[6]_lpc2\n",
      "15. mfcc_sma_de[7]_lpc0\n",
      "16. mfcc_sma_de[8]_lpc1\n",
      "17. mfcc_sma_de[9]_lpgain\n",
      "18. mfcc_sma_de[9]_lpc1\n",
      "19. mfcc_sma_de[9]_lpc2\n",
      "20. mfcc_sma_de[13]_lpgain\n",
      "21. mfcc_sma_de[14]_lpc0\n",
      "22. jitterDDP_sma_quartile1\n",
      "23. jitterDDP_sma_percentile1.0\n",
      "24. audspec_lengthL1norm_sma_rqmean\n",
      "25. mfcc_sma[14]_peakMeanRel\n"
     ]
    }
   ],
   "source": [
    "exp_df_3 = smFS_univariate.select_features(score_func=fs.mutual_info_classif, mode='k_best',\n",
    "                                num_features=25, arch='all_archs', return_df=True)"
   ]
  },
  {
   "cell_type": "code",
   "execution_count": 27,
   "metadata": {},
   "outputs": [
    {
     "data": {
      "text/html": [
       "<div>\n",
       "<style scoped>\n",
       "    .dataframe tbody tr th:only-of-type {\n",
       "        vertical-align: middle;\n",
       "    }\n",
       "\n",
       "    .dataframe tbody tr th {\n",
       "        vertical-align: top;\n",
       "    }\n",
       "\n",
       "    .dataframe thead th {\n",
       "        text-align: right;\n",
       "    }\n",
       "</style>\n",
       "<table border=\"1\" class=\"dataframe\">\n",
       "  <thead>\n",
       "    <tr style=\"text-align: right;\">\n",
       "      <th></th>\n",
       "      <th>type</th>\n",
       "      <th>id</th>\n",
       "      <th>architecture</th>\n",
       "      <th>path</th>\n",
       "      <th>label</th>\n",
       "      <th>multiclass_label</th>\n",
       "      <th>duration(seconds)</th>\n",
       "      <th>mfcc_sma[6]_lpc0</th>\n",
       "      <th>mfcc_sma[6]_lpc1</th>\n",
       "      <th>mfcc_sma[7]_lpgain</th>\n",
       "      <th>...</th>\n",
       "      <th>mfcc_sma_de[8]_lpc1</th>\n",
       "      <th>mfcc_sma_de[9]_lpgain</th>\n",
       "      <th>mfcc_sma_de[9]_lpc1</th>\n",
       "      <th>mfcc_sma_de[9]_lpc2</th>\n",
       "      <th>mfcc_sma_de[13]_lpgain</th>\n",
       "      <th>mfcc_sma_de[14]_lpc0</th>\n",
       "      <th>jitterDDP_sma_quartile1</th>\n",
       "      <th>jitterDDP_sma_percentile1.0</th>\n",
       "      <th>audspec_lengthL1norm_sma_rqmean</th>\n",
       "      <th>mfcc_sma[14]_peakMeanRel</th>\n",
       "    </tr>\n",
       "  </thead>\n",
       "  <tbody>\n",
       "    <tr>\n",
       "      <th>0</th>\n",
       "      <td>dev</td>\n",
       "      <td>LJ009-0260</td>\n",
       "      <td>Real</td>\n",
       "      <td>/home/ubuntu/data/wavefake_data/LJSpeech_1.1/w...</td>\n",
       "      <td>0</td>\n",
       "      <td>0</td>\n",
       "      <td>1.504</td>\n",
       "      <td>-1.458140</td>\n",
       "      <td>0.294377</td>\n",
       "      <td>13.706154</td>\n",
       "      <td>...</td>\n",
       "      <td>1.037667</td>\n",
       "      <td>0.965260</td>\n",
       "      <td>1.550542</td>\n",
       "      <td>-0.419666</td>\n",
       "      <td>0.435053</td>\n",
       "      <td>-1.743573</td>\n",
       "      <td>0.004462</td>\n",
       "      <td>0.002438</td>\n",
       "      <td>0.997488</td>\n",
       "      <td>-0.691467</td>\n",
       "    </tr>\n",
       "    <tr>\n",
       "      <th>1</th>\n",
       "      <td>test</td>\n",
       "      <td>LJ015-0023</td>\n",
       "      <td>Real</td>\n",
       "      <td>/home/ubuntu/data/wavefake_data/LJSpeech_1.1/w...</td>\n",
       "      <td>0</td>\n",
       "      <td>0</td>\n",
       "      <td>8.563</td>\n",
       "      <td>-1.650147</td>\n",
       "      <td>0.659978</td>\n",
       "      <td>12.533196</td>\n",
       "      <td>...</td>\n",
       "      <td>1.315105</td>\n",
       "      <td>0.870025</td>\n",
       "      <td>1.297118</td>\n",
       "      <td>0.097991</td>\n",
       "      <td>0.585227</td>\n",
       "      <td>-1.863716</td>\n",
       "      <td>0.003500</td>\n",
       "      <td>0.001107</td>\n",
       "      <td>0.802554</td>\n",
       "      <td>-0.265414</td>\n",
       "    </tr>\n",
       "    <tr>\n",
       "      <th>2</th>\n",
       "      <td>train</td>\n",
       "      <td>LJ023-0066</td>\n",
       "      <td>Real</td>\n",
       "      <td>/home/ubuntu/data/wavefake_data/LJSpeech_1.1/w...</td>\n",
       "      <td>0</td>\n",
       "      <td>0</td>\n",
       "      <td>5.220</td>\n",
       "      <td>-1.598264</td>\n",
       "      <td>0.519333</td>\n",
       "      <td>9.975176</td>\n",
       "      <td>...</td>\n",
       "      <td>1.431306</td>\n",
       "      <td>0.741540</td>\n",
       "      <td>1.315783</td>\n",
       "      <td>-0.003893</td>\n",
       "      <td>0.429883</td>\n",
       "      <td>-1.777453</td>\n",
       "      <td>0.003260</td>\n",
       "      <td>0.000759</td>\n",
       "      <td>0.807089</td>\n",
       "      <td>-0.463732</td>\n",
       "    </tr>\n",
       "    <tr>\n",
       "      <th>3</th>\n",
       "      <td>train</td>\n",
       "      <td>LJ004-0105</td>\n",
       "      <td>Real</td>\n",
       "      <td>/home/ubuntu/data/wavefake_data/LJSpeech_1.1/w...</td>\n",
       "      <td>0</td>\n",
       "      <td>0</td>\n",
       "      <td>7.414</td>\n",
       "      <td>-1.764933</td>\n",
       "      <td>0.831072</td>\n",
       "      <td>12.636436</td>\n",
       "      <td>...</td>\n",
       "      <td>1.344727</td>\n",
       "      <td>0.990298</td>\n",
       "      <td>1.517885</td>\n",
       "      <td>-0.178515</td>\n",
       "      <td>0.585094</td>\n",
       "      <td>-1.790064</td>\n",
       "      <td>0.004910</td>\n",
       "      <td>0.000962</td>\n",
       "      <td>0.638135</td>\n",
       "      <td>-0.002557</td>\n",
       "    </tr>\n",
       "    <tr>\n",
       "      <th>4</th>\n",
       "      <td>train</td>\n",
       "      <td>LJ050-0060</td>\n",
       "      <td>Real</td>\n",
       "      <td>/home/ubuntu/data/wavefake_data/LJSpeech_1.1/w...</td>\n",
       "      <td>0</td>\n",
       "      <td>0</td>\n",
       "      <td>9.538</td>\n",
       "      <td>-1.616009</td>\n",
       "      <td>0.600396</td>\n",
       "      <td>11.458459</td>\n",
       "      <td>...</td>\n",
       "      <td>1.285241</td>\n",
       "      <td>0.751940</td>\n",
       "      <td>1.297805</td>\n",
       "      <td>0.031830</td>\n",
       "      <td>0.475726</td>\n",
       "      <td>-1.771895</td>\n",
       "      <td>0.003431</td>\n",
       "      <td>0.001499</td>\n",
       "      <td>0.710726</td>\n",
       "      <td>-0.110715</td>\n",
       "    </tr>\n",
       "  </tbody>\n",
       "</table>\n",
       "<p>5 rows × 32 columns</p>\n",
       "</div>"
      ],
      "text/plain": [
       "    type          id architecture  \\\n",
       "0    dev  LJ009-0260         Real   \n",
       "1   test  LJ015-0023         Real   \n",
       "2  train  LJ023-0066         Real   \n",
       "3  train  LJ004-0105         Real   \n",
       "4  train  LJ050-0060         Real   \n",
       "\n",
       "                                                path  label  multiclass_label  \\\n",
       "0  /home/ubuntu/data/wavefake_data/LJSpeech_1.1/w...      0                 0   \n",
       "1  /home/ubuntu/data/wavefake_data/LJSpeech_1.1/w...      0                 0   \n",
       "2  /home/ubuntu/data/wavefake_data/LJSpeech_1.1/w...      0                 0   \n",
       "3  /home/ubuntu/data/wavefake_data/LJSpeech_1.1/w...      0                 0   \n",
       "4  /home/ubuntu/data/wavefake_data/LJSpeech_1.1/w...      0                 0   \n",
       "\n",
       "   duration(seconds)  mfcc_sma[6]_lpc0  mfcc_sma[6]_lpc1  mfcc_sma[7]_lpgain  \\\n",
       "0              1.504         -1.458140          0.294377           13.706154   \n",
       "1              8.563         -1.650147          0.659978           12.533196   \n",
       "2              5.220         -1.598264          0.519333            9.975176   \n",
       "3              7.414         -1.764933          0.831072           12.636436   \n",
       "4              9.538         -1.616009          0.600396           11.458459   \n",
       "\n",
       "   ...  mfcc_sma_de[8]_lpc1  mfcc_sma_de[9]_lpgain  mfcc_sma_de[9]_lpc1  \\\n",
       "0  ...             1.037667               0.965260             1.550542   \n",
       "1  ...             1.315105               0.870025             1.297118   \n",
       "2  ...             1.431306               0.741540             1.315783   \n",
       "3  ...             1.344727               0.990298             1.517885   \n",
       "4  ...             1.285241               0.751940             1.297805   \n",
       "\n",
       "   mfcc_sma_de[9]_lpc2  mfcc_sma_de[13]_lpgain  mfcc_sma_de[14]_lpc0  \\\n",
       "0            -0.419666                0.435053             -1.743573   \n",
       "1             0.097991                0.585227             -1.863716   \n",
       "2            -0.003893                0.429883             -1.777453   \n",
       "3            -0.178515                0.585094             -1.790064   \n",
       "4             0.031830                0.475726             -1.771895   \n",
       "\n",
       "   jitterDDP_sma_quartile1  jitterDDP_sma_percentile1.0  \\\n",
       "0                 0.004462                     0.002438   \n",
       "1                 0.003500                     0.001107   \n",
       "2                 0.003260                     0.000759   \n",
       "3                 0.004910                     0.000962   \n",
       "4                 0.003431                     0.001499   \n",
       "\n",
       "   audspec_lengthL1norm_sma_rqmean  mfcc_sma[14]_peakMeanRel  \n",
       "0                         0.997488                 -0.691467  \n",
       "1                         0.802554                 -0.265414  \n",
       "2                         0.807089                 -0.463732  \n",
       "3                         0.638135                 -0.002557  \n",
       "4                         0.710726                 -0.110715  \n",
       "\n",
       "[5 rows x 32 columns]"
      ]
     },
     "execution_count": 27,
     "metadata": {},
     "output_type": "execute_result"
    }
   ],
   "source": [
    "exp_df_3.head()"
   ]
  },
  {
   "cell_type": "code",
   "execution_count": null,
   "metadata": {},
   "outputs": [],
   "source": []
  }
 ],
 "metadata": {
  "kernelspec": {
   "display_name": "deepfake-detection-v1",
   "language": "python",
   "name": "deepfake-detection-v1"
  },
  "language_info": {
   "codemirror_mode": {
    "name": "ipython",
    "version": 3
   },
   "file_extension": ".py",
   "mimetype": "text/x-python",
   "name": "python",
   "nbconvert_exporter": "python",
   "pygments_lexer": "ipython3",
   "version": "3.9.16"
  }
 },
 "nbformat": 4,
 "nbformat_minor": 4
}
