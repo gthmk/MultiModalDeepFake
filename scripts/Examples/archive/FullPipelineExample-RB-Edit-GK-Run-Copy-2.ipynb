{
 "cells": [
  {
   "cell_type": "code",
   "execution_count": 24,
   "id": "a1754ce9",
   "metadata": {},
   "outputs": [],
   "source": [
    "import sys\n",
    "sys.path.append(\"/home/ubuntu/MultiModalDeepFake\")\n",
    "import nemo.collections.asr as nemo_asr \n",
    "import pandas as pd"
   ]
  },
  {
   "cell_type": "code",
   "execution_count": 25,
   "id": "704a1092",
   "metadata": {},
   "outputs": [],
   "source": [
    "from packages.LJDataLoader import LJDataLoader\n",
    "from packages.AudioEmbeddingsManager import AudioEmbeddingsManager\n",
    "from packages.ModelManager import ModelManager\n",
    "from packages.CadenceModelManager import CadenceModelManager\n",
    "import packages.AnalysisManager as am\n",
    "from packages.SmileFeatureManager import SmileFeatureManager"
   ]
  },
  {
   "cell_type": "code",
   "execution_count": 26,
   "id": "c99d6b71-3cd2-40a0-a439-0f579013eb9a",
   "metadata": {},
   "outputs": [],
   "source": [
    "def generate_split(fake_cols, file_path):\n",
    "\n",
    "    \n",
    "    loader = LJDataLoader(data_path=file_path)\n",
    "    loader.splitData()\n",
    "\n",
    "    source_architectures = ['Full_Band_MelGan', 'HifiGan', 'MelGan', 'MelGanLarge', 'Multi_Band_MelGan', 'Parallel_WaveGan', 'Waveglow']\n",
    "    new_col_name = 'RandWaveFake'\n",
    "    loader.selectRandomArchitecture(target_col=new_col_name, source_cols=source_architectures)\n",
    "    \n",
    "    source_architectures = ['ElevenLabs', 'UberDuck']\n",
    "    new_col_name = 'EL_UD_Fake'\n",
    "    loader.selectRandomArchitecture(target_col=new_col_name, source_cols=source_architectures)\n",
    "    \n",
    "    source_architectures = ['RandWaveFake', 'ElevenLabs', 'UberDuck']\n",
    "    new_col_name = 'Fake'\n",
    "    loader.selectRandomArchitecture(target_col=new_col_name, source_cols=source_architectures)\n",
    "\n",
    "    #data_df = loader.generateFinalDataFrame(real_col='Real', fake_cols=['RandWaveFake', 'ElevenLabs', 'UberDuck'])\n",
    "    data_df = loader.generateFinalDataFrame(real_col='Real', fake_cols=fake_cols)\n",
    "    \n",
    "    train_count = data_df[data_df['type'] == 'train'].shape[0]\n",
    "    dev_count = data_df[data_df['type'] == 'dev'].shape[0]\n",
    "    test_count = data_df[data_df['type'] == 'test'].shape[0]\n",
    "\n",
    "    print(f'# of Train instances: {train_count}')\n",
    "    print(f'# of Dev instances: {dev_count}')\n",
    "    print(f'# of Test instances: {test_count}')\n",
    "    \n",
    "    return data_df"
   ]
  },
  {
   "cell_type": "code",
   "execution_count": 27,
   "id": "ea44a1bf-3349-40bd-b9ed-9398b42e747d",
   "metadata": {},
   "outputs": [
    {
     "name": "stdout",
     "output_type": "stream",
     "text": [
      "# of Train instances: 78330\n",
      "# of Dev instances: 26110\n",
      "# of Test instances: 26110\n"
     ]
    },
    {
     "data": {
      "text/html": [
       "<div>\n",
       "<style scoped>\n",
       "    .dataframe tbody tr th:only-of-type {\n",
       "        vertical-align: middle;\n",
       "    }\n",
       "\n",
       "    .dataframe tbody tr th {\n",
       "        vertical-align: top;\n",
       "    }\n",
       "\n",
       "    .dataframe thead th {\n",
       "        text-align: right;\n",
       "    }\n",
       "</style>\n",
       "<table border=\"1\" class=\"dataframe\">\n",
       "  <thead>\n",
       "    <tr style=\"text-align: right;\">\n",
       "      <th></th>\n",
       "      <th>type</th>\n",
       "      <th>id</th>\n",
       "      <th>architecture</th>\n",
       "      <th>path</th>\n",
       "      <th>label</th>\n",
       "      <th>multiclass_label</th>\n",
       "    </tr>\n",
       "  </thead>\n",
       "  <tbody>\n",
       "    <tr>\n",
       "      <th>0</th>\n",
       "      <td>train</td>\n",
       "      <td>LJ008-0040</td>\n",
       "      <td>Real</td>\n",
       "      <td>/home/ubuntu/data/wavefake_data/LJSpeech_1.1/w...</td>\n",
       "      <td>0</td>\n",
       "      <td>0</td>\n",
       "    </tr>\n",
       "    <tr>\n",
       "      <th>1</th>\n",
       "      <td>train</td>\n",
       "      <td>LJ003-0001</td>\n",
       "      <td>Real</td>\n",
       "      <td>/home/ubuntu/data/wavefake_data/LJSpeech_1.1/w...</td>\n",
       "      <td>0</td>\n",
       "      <td>0</td>\n",
       "    </tr>\n",
       "    <tr>\n",
       "      <th>2</th>\n",
       "      <td>train</td>\n",
       "      <td>LJ033-0102</td>\n",
       "      <td>Real</td>\n",
       "      <td>/home/ubuntu/data/wavefake_data/LJSpeech_1.1/w...</td>\n",
       "      <td>0</td>\n",
       "      <td>0</td>\n",
       "    </tr>\n",
       "    <tr>\n",
       "      <th>3</th>\n",
       "      <td>train</td>\n",
       "      <td>LJ026-0041</td>\n",
       "      <td>Real</td>\n",
       "      <td>/home/ubuntu/data/wavefake_data/LJSpeech_1.1/w...</td>\n",
       "      <td>0</td>\n",
       "      <td>0</td>\n",
       "    </tr>\n",
       "    <tr>\n",
       "      <th>4</th>\n",
       "      <td>train</td>\n",
       "      <td>LJ031-0081</td>\n",
       "      <td>Real</td>\n",
       "      <td>/home/ubuntu/data/wavefake_data/LJSpeech_1.1/w...</td>\n",
       "      <td>0</td>\n",
       "      <td>0</td>\n",
       "    </tr>\n",
       "    <tr>\n",
       "      <th>...</th>\n",
       "      <td>...</td>\n",
       "      <td>...</td>\n",
       "      <td>...</td>\n",
       "      <td>...</td>\n",
       "      <td>...</td>\n",
       "      <td>...</td>\n",
       "    </tr>\n",
       "    <tr>\n",
       "      <th>130545</th>\n",
       "      <td>test</td>\n",
       "      <td>LJ015-0204</td>\n",
       "      <td>Waveglow</td>\n",
       "      <td>/home/ubuntu/data/wavefake_data/generated_audi...</td>\n",
       "      <td>1</td>\n",
       "      <td>9</td>\n",
       "    </tr>\n",
       "    <tr>\n",
       "      <th>130546</th>\n",
       "      <td>test</td>\n",
       "      <td>LJ013-0152</td>\n",
       "      <td>Waveglow</td>\n",
       "      <td>/home/ubuntu/data/wavefake_data/generated_audi...</td>\n",
       "      <td>1</td>\n",
       "      <td>9</td>\n",
       "    </tr>\n",
       "    <tr>\n",
       "      <th>130547</th>\n",
       "      <td>test</td>\n",
       "      <td>LJ009-0181</td>\n",
       "      <td>Waveglow</td>\n",
       "      <td>/home/ubuntu/data/wavefake_data/generated_audi...</td>\n",
       "      <td>1</td>\n",
       "      <td>9</td>\n",
       "    </tr>\n",
       "    <tr>\n",
       "      <th>130548</th>\n",
       "      <td>test</td>\n",
       "      <td>LJ002-0142</td>\n",
       "      <td>Waveglow</td>\n",
       "      <td>/home/ubuntu/data/wavefake_data/generated_audi...</td>\n",
       "      <td>1</td>\n",
       "      <td>9</td>\n",
       "    </tr>\n",
       "    <tr>\n",
       "      <th>130549</th>\n",
       "      <td>test</td>\n",
       "      <td>LJ002-0283</td>\n",
       "      <td>Waveglow</td>\n",
       "      <td>/home/ubuntu/data/wavefake_data/generated_audi...</td>\n",
       "      <td>1</td>\n",
       "      <td>9</td>\n",
       "    </tr>\n",
       "  </tbody>\n",
       "</table>\n",
       "<p>130550 rows × 6 columns</p>\n",
       "</div>"
      ],
      "text/plain": [
       "         type          id architecture  \\\n",
       "0       train  LJ008-0040         Real   \n",
       "1       train  LJ003-0001         Real   \n",
       "2       train  LJ033-0102         Real   \n",
       "3       train  LJ026-0041         Real   \n",
       "4       train  LJ031-0081         Real   \n",
       "...       ...         ...          ...   \n",
       "130545   test  LJ015-0204     Waveglow   \n",
       "130546   test  LJ013-0152     Waveglow   \n",
       "130547   test  LJ009-0181     Waveglow   \n",
       "130548   test  LJ002-0142     Waveglow   \n",
       "130549   test  LJ002-0283     Waveglow   \n",
       "\n",
       "                                                     path  label  \\\n",
       "0       /home/ubuntu/data/wavefake_data/LJSpeech_1.1/w...      0   \n",
       "1       /home/ubuntu/data/wavefake_data/LJSpeech_1.1/w...      0   \n",
       "2       /home/ubuntu/data/wavefake_data/LJSpeech_1.1/w...      0   \n",
       "3       /home/ubuntu/data/wavefake_data/LJSpeech_1.1/w...      0   \n",
       "4       /home/ubuntu/data/wavefake_data/LJSpeech_1.1/w...      0   \n",
       "...                                                   ...    ...   \n",
       "130545  /home/ubuntu/data/wavefake_data/generated_audi...      1   \n",
       "130546  /home/ubuntu/data/wavefake_data/generated_audi...      1   \n",
       "130547  /home/ubuntu/data/wavefake_data/generated_audi...      1   \n",
       "130548  /home/ubuntu/data/wavefake_data/generated_audi...      1   \n",
       "130549  /home/ubuntu/data/wavefake_data/generated_audi...      1   \n",
       "\n",
       "        multiclass_label  \n",
       "0                      0  \n",
       "1                      0  \n",
       "2                      0  \n",
       "3                      0  \n",
       "4                      0  \n",
       "...                  ...  \n",
       "130545                 9  \n",
       "130546                 9  \n",
       "130547                 9  \n",
       "130548                 9  \n",
       "130549                 9  \n",
       "\n",
       "[130550 rows x 6 columns]"
      ]
     },
     "execution_count": 27,
     "metadata": {},
     "output_type": "execute_result"
    }
   ],
   "source": [
    "df = generate_split(['ElevenLabs', 'UberDuck', 'Full_Band_MelGan', 'HifiGan', 'MelGan', 'MelGanLarge', 'Multi_Band_MelGan', 'Parallel_WaveGan', 'Waveglow'], '/home/ubuntu/data/wavefake_data/LJ_metadata_16000KHz.csv')\n",
    "df"
   ]
  },
  {
   "cell_type": "code",
   "execution_count": 28,
   "id": "73bb9087-a587-4b7f-a270-031cf55bd1c5",
   "metadata": {},
   "outputs": [],
   "source": [
    "def generate_features(data_df):\n",
    "    speaker_model = nemo_asr.models.EncDecSpeakerLabelModel.from_pretrained(model_name='titanet_large')\n",
    "    embedding_manager = AudioEmbeddingsManager(model=speaker_model, data=data_df)\n",
    "    em_feature_df, em_feature_cols = embedding_manager.generateFeatureDf()\n",
    "    \n",
    "    cadence_manager = CadenceModelManager(data_df)\n",
    "    cad_feature_df, cad_feature_cols, scalar =  cadence_manager.run_cadence_feature_extraction_pipeline() # Add param for load features or not\n",
    "    \n",
    "    smile_manager = SmileFeatureManager(data_df)\n",
    "    #change number of features (feature_count=10 default)\n",
    "    os_binary_feature_df, os_binary_feature_cols = smile_manager.generateFeatureDf('random_forest', label_type='binary', feature_count=20)\n",
    "    os_multiclass_feature_df, os_multiclass_feature_cols = smile_manager.generateFeatureDf('random_forest', label_type='multiclass', feature_count=20)\n",
    "    \n",
    "    feature_store = {}\n",
    "    feature_store['titanet'] = (em_feature_df, em_feature_cols)\n",
    "    feature_store['openSmile_binary'] = (os_binary_feature_df, os_binary_feature_cols)\n",
    "    feature_store['openSmile_multiclass'] = (os_multiclass_feature_df, os_multiclass_feature_cols)\n",
    "    feature_store['cadence'] = (cad_feature_df, cad_feature_cols)\n",
    "    \n",
    "    return feature_store\n",
    "    \n",
    "    "
   ]
  },
  {
   "cell_type": "code",
   "execution_count": 29,
   "id": "f444f8df-6f02-4f76-869d-a8722e7c5cb3",
   "metadata": {},
   "outputs": [],
   "source": [
    "def train_eval(feature_store, fake_cols):\n",
    "    results_cols = ['feature_method', 'model', 'fake_cols', 'label_type', 'acc', 'cls_acc', 'loss']\n",
    "    results = pd.DataFrame(columns=results_cols)\n",
    "    \n",
    "    models = ['logreg', 'random_forest']\n",
    "    for model in models:\n",
    "        for label_type in ['label', 'multiclass_label']:\n",
    "            for k, v in feature_store.items():\n",
    "                model_manager = ModelManager(model, v[0], v[1], merge_train_dev=True)\n",
    "                model_manager.trainPredict(label_col=label_type)\n",
    "                results = results.append(pd.DataFrame({'feature_method':[k], 'label_type':[label_type], 'fake_cols':[fake_cols], 'acc':[model_manager.accuracy], 'cls_acc':[model_manager.class_accuracy],  'loss':[model_manager.log_loss_value], 'model':[model]}))\n",
    "    \n",
    "    return results\n",
    "    \n",
    "    "
   ]
  },
  {
   "cell_type": "code",
   "execution_count": 30,
   "id": "a2c8a77a-0903-47d6-a059-9f4101f8cc36",
   "metadata": {},
   "outputs": [],
   "source": [
    "def run(fake_cols, metadata_path, name, data_df=None):\n",
    "    if data_df is None:\n",
    "        data_df = generate_split(fake_cols, metadata_path)\n",
    "    feature_store = generate_features(data_df)\n",
    "    results = train_eval(feature_store, fake_cols)\n",
    "    results.to_csv(f'/home/ubuntu/data/results/{name}.csv', index=False)\n",
    "    \n",
    "    "
   ]
  },
  {
   "cell_type": "code",
   "execution_count": 8,
   "id": "bc7da5b3-6cc2-4945-b028-b77a074181c3",
   "metadata": {},
   "outputs": [
    {
     "name": "stdout",
     "output_type": "stream",
     "text": [
      "# of Train instances: 15666\n",
      "# of Dev instances: 5222\n",
      "# of Test instances: 5222\n",
      "[NeMo I 2023-06-13 15:43:48 cloud:56] Found existing object /home/ubuntu/.cache/torch/NeMo/NeMo_1.15.0/titanet-l/492c0ab8416139171dc18c21879a9e45/titanet-l.nemo.\n",
      "[NeMo I 2023-06-13 15:43:48 cloud:62] Re-using file from: /home/ubuntu/.cache/torch/NeMo/NeMo_1.15.0/titanet-l/492c0ab8416139171dc18c21879a9e45/titanet-l.nemo\n",
      "[NeMo I 2023-06-13 15:43:48 common:913] Instantiating model from pre-trained checkpoint\n"
     ]
    },
    {
     "name": "stderr",
     "output_type": "stream",
     "text": [
      "[NeMo W 2023-06-13 15:43:49 modelPT:156] If you intend to do training or fine-tuning, please call the ModelPT.setup_training_data() method and provide a valid configuration file to setup the train data loader.\n",
      "    Train config : \n",
      "    manifest_filepath: /manifests/combined_fisher_swbd_voxceleb12_librispeech/train.json\n",
      "    sample_rate: 16000\n",
      "    labels: null\n",
      "    batch_size: 64\n",
      "    shuffle: true\n",
      "    time_length: 3\n",
      "    is_tarred: false\n",
      "    tarred_audio_filepaths: null\n",
      "    tarred_shard_strategy: scatter\n",
      "    augmentor:\n",
      "      noise:\n",
      "        manifest_path: /manifests/noise/rir_noise_manifest.json\n",
      "        prob: 0.5\n",
      "        min_snr_db: 0\n",
      "        max_snr_db: 15\n",
      "      speed:\n",
      "        prob: 0.5\n",
      "        sr: 16000\n",
      "        resample_type: kaiser_fast\n",
      "        min_speed_rate: 0.95\n",
      "        max_speed_rate: 1.05\n",
      "    num_workers: 15\n",
      "    pin_memory: true\n",
      "    \n",
      "[NeMo W 2023-06-13 15:43:49 modelPT:163] If you intend to do validation, please call the ModelPT.setup_validation_data() or ModelPT.setup_multiple_validation_data() method and provide a valid configuration file to setup the validation data loader(s). \n",
      "    Validation config : \n",
      "    manifest_filepath: /manifests/combined_fisher_swbd_voxceleb12_librispeech/dev.json\n",
      "    sample_rate: 16000\n",
      "    labels: null\n",
      "    batch_size: 128\n",
      "    shuffle: false\n",
      "    time_length: 3\n",
      "    num_workers: 15\n",
      "    pin_memory: true\n",
      "    \n"
     ]
    },
    {
     "name": "stdout",
     "output_type": "stream",
     "text": [
      "[NeMo I 2023-06-13 15:43:49 label_models:126] Setting angular: true/false in decoder is deprecated and will be removed in 1.13 version, use specific loss with _target_\n",
      "[NeMo I 2023-06-13 15:43:49 features:267] PADDING: 16\n",
      "[NeMo I 2023-06-13 15:43:50 save_restore_connector:243] Model EncDecSpeakerLabelModel was successfully restored from /home/ubuntu/.cache/torch/NeMo/NeMo_1.15.0/titanet-l/492c0ab8416139171dc18c21879a9e45/titanet-l.nemo.\n"
     ]
    },
    {
     "name": "stderr",
     "output_type": "stream",
     "text": [
      "100%|██████████| 2/2 [00:00<00:00,  3.30it/s]\n",
      "100%|██████████| 2/2 [00:00<00:00, 28.27it/s]\n",
      "100%|██████████| 2/2 [00:25<00:00, 12.94s/it]\n"
     ]
    },
    {
     "name": "stdout",
     "output_type": "stream",
     "text": [
      "Initializing data...\n",
      "Standardizing features...\n",
      "smileFeatureSelectFromModel object initialized.\n",
      "\n",
      "\n",
      "Selected features:.\n",
      "\n",
      "1. mfcc_sma_de[14]_stddev\n",
      "2. pcm_fftMag_spectralEntropy_sma_qregerrQ\n",
      "3. pcm_fftMag_spectralEntropy_sma_de_lpc1\n",
      "4. pcm_fftMag_spectralEntropy_sma_upleveltime90\n",
      "5. pcm_fftMag_spectralEntropy_sma_de_lpc4\n",
      "6. pcm_RMSenergy_sma_de_peakMeanRel\n",
      "7. pcm_fftMag_spectralEntropy_sma_lpc2\n",
      "8. pcm_fftMag_spectralEntropy_sma_de_minPos\n",
      "9. pcm_fftMag_spectralEntropy_sma_upleveltime75\n",
      "10. pcm_fftMag_spectralEntropy_sma_range\n",
      "11. pcm_fftMag_spectralEntropy_sma_upleveltime50\n",
      "12. pcm_fftMag_spectralEntropy_sma_de_maxPos\n",
      "13. pcm_fftMag_spectralEntropy_sma_de_lpgain\n",
      "14. pcm_fftMag_spectralEntropy_sma_peakRangeRel\n",
      "15. audspecRasta_lengthL1norm_sma_qregc2\n",
      "16. pcm_fftMag_spectralEntropy_sma_de_range\n",
      "17. pcm_fftMag_fband250-650_sma_de_peakMeanRel\n",
      "18. pcm_fftMag_spectralHarmonicity_sma_de_peakMeanRel\n",
      "19. pcm_fftMag_spectralEntropy_sma_lpc4\n",
      "20. pcm_fftMag_spectralEntropy_sma_de_lpc0\n",
      "Initializing data...\n",
      "Standardizing features...\n",
      "smileFeatureSelectFromModel object initialized.\n",
      "\n"
     ]
    },
    {
     "name": "stderr",
     "output_type": "stream",
     "text": [
      "[NeMo W 2023-06-13 15:47:15 nemo_logging:349] /tmp/ipykernel_1951049/4172940570.py:15: FutureWarning: The frame.append method is deprecated and will be removed from pandas in a future version. Use pandas.concat instead.\n",
      "      results = results.append(pd.DataFrame({'feature_method':[k], 'label_type':[label_type], 'fake_cols':[fake_cols], 'acc':[model_manager.accuracy], 'cls_acc':[model_manager.class_accuracy],  'loss':[model_manager.log_loss_value], 'model':[model]}))\n",
      "    \n"
     ]
    },
    {
     "name": "stdout",
     "output_type": "stream",
     "text": [
      "\n",
      "Selected features:.\n",
      "\n",
      "1. pcm_fftMag_spectralEntropy_sma_upleveltime90\n",
      "2. pcm_fftMag_spectralFlux_sma_de_peakMeanRel\n",
      "3. pcm_fftMag_spectralEntropy_sma_linregerrQ\n",
      "4. pcm_fftMag_spectralEntropy_sma_de_lpc2\n",
      "5. pcm_RMSenergy_sma_de_peakMeanRel\n",
      "6. pcm_fftMag_spectralEntropy_sma_lpc2\n",
      "7. pcm_fftMag_spectralEntropy_sma_lpc1\n",
      "8. pcm_fftMag_spectralEntropy_sma_linregc2\n",
      "9. audSpec_Rfilt_sma[2]_qregc1\n",
      "10. audspec_lengthL1norm_sma_de_peakMeanRel\n",
      "11. pcm_fftMag_spectralEntropy_sma_de_maxPos\n",
      "12. pcm_fftMag_spectralEntropy_sma_de_lpgain\n",
      "13. audspec_lengthL1norm_sma_minPos\n",
      "14. pcm_RMSenergy_sma_minPos\n",
      "15. audSpec_Rfilt_sma[5]_qregc2\n",
      "16. pcm_fftMag_spectralEntropy_sma_de_range\n",
      "17. pcm_fftMag_fband250-650_sma_de_peakMeanRel\n",
      "18. audSpec_Rfilt_sma[20]_maxPos\n",
      "19. pcm_fftMag_spectralEntropy_sma_de_stddev\n",
      "20. pcm_fftMag_spectralSlope_sma_de_peakMeanRel\n",
      "Real\n",
      "ElevenLabs\n",
      "\n",
      "Class Accuracy\n",
      "{'Real': 1.0, 'ElevenLabs': 1.0}\n",
      "\n",
      "Accuracy\n",
      "1.0\n"
     ]
    },
    {
     "name": "stderr",
     "output_type": "stream",
     "text": [
      "[NeMo W 2023-06-13 15:47:15 nemo_logging:349] /home/ubuntu/.local/lib/python3.8/site-packages/sklearn/linear_model/_logistic.py:458: ConvergenceWarning: lbfgs failed to converge (status=1):\n",
      "    STOP: TOTAL NO. of ITERATIONS REACHED LIMIT.\n",
      "    \n",
      "    Increase the number of iterations (max_iter) or scale the data as shown in:\n",
      "        https://scikit-learn.org/stable/modules/preprocessing.html\n",
      "    Please also refer to the documentation for alternative solver options:\n",
      "        https://scikit-learn.org/stable/modules/linear_model.html#logistic-regression\n",
      "      n_iter_i = _check_optimize_result(\n",
      "    \n",
      "[NeMo W 2023-06-13 15:47:15 nemo_logging:349] /tmp/ipykernel_1951049/4172940570.py:15: FutureWarning: The frame.append method is deprecated and will be removed from pandas in a future version. Use pandas.concat instead.\n",
      "      results = results.append(pd.DataFrame({'feature_method':[k], 'label_type':[label_type], 'fake_cols':[fake_cols], 'acc':[model_manager.accuracy], 'cls_acc':[model_manager.class_accuracy],  'loss':[model_manager.log_loss_value], 'model':[model]}))\n",
      "    \n",
      "[NeMo W 2023-06-13 15:47:15 nemo_logging:349] /home/ubuntu/.local/lib/python3.8/site-packages/sklearn/linear_model/_logistic.py:458: ConvergenceWarning: lbfgs failed to converge (status=1):\n",
      "    STOP: TOTAL NO. of ITERATIONS REACHED LIMIT.\n",
      "    \n",
      "    Increase the number of iterations (max_iter) or scale the data as shown in:\n",
      "        https://scikit-learn.org/stable/modules/preprocessing.html\n",
      "    Please also refer to the documentation for alternative solver options:\n",
      "        https://scikit-learn.org/stable/modules/linear_model.html#logistic-regression\n",
      "      n_iter_i = _check_optimize_result(\n",
      "    \n",
      "[NeMo W 2023-06-13 15:47:15 nemo_logging:349] /tmp/ipykernel_1951049/4172940570.py:15: FutureWarning: The frame.append method is deprecated and will be removed from pandas in a future version. Use pandas.concat instead.\n",
      "      results = results.append(pd.DataFrame({'feature_method':[k], 'label_type':[label_type], 'fake_cols':[fake_cols], 'acc':[model_manager.accuracy], 'cls_acc':[model_manager.class_accuracy],  'loss':[model_manager.log_loss_value], 'model':[model]}))\n",
      "    \n",
      "[NeMo W 2023-06-13 15:47:15 nemo_logging:349] /tmp/ipykernel_1951049/4172940570.py:15: FutureWarning: The frame.append method is deprecated and will be removed from pandas in a future version. Use pandas.concat instead.\n",
      "      results = results.append(pd.DataFrame({'feature_method':[k], 'label_type':[label_type], 'fake_cols':[fake_cols], 'acc':[model_manager.accuracy], 'cls_acc':[model_manager.class_accuracy],  'loss':[model_manager.log_loss_value], 'model':[model]}))\n",
      "    \n"
     ]
    },
    {
     "name": "stdout",
     "output_type": "stream",
     "text": [
      "Real\n",
      "ElevenLabs\n",
      "\n",
      "Class Accuracy\n",
      "{'Real': 1.0, 'ElevenLabs': 0.9984680199157411}\n",
      "\n",
      "Accuracy\n",
      "0.9992340099578706\n",
      "Real\n",
      "ElevenLabs\n",
      "\n",
      "Class Accuracy\n",
      "{'Real': 0.9988510149368058, 'ElevenLabs': 0.9965530448104175}\n",
      "\n",
      "Accuracy\n",
      "0.9977020298736117\n",
      "Real\n",
      "ElevenLabs\n",
      "\n",
      "Class Accuracy\n",
      "{'Real': 0.7460743010340866, 'ElevenLabs': 0.7744159325928763}\n",
      "\n",
      "Accuracy\n",
      "0.7602451168134814\n"
     ]
    },
    {
     "name": "stderr",
     "output_type": "stream",
     "text": [
      "[NeMo W 2023-06-13 15:47:15 nemo_logging:349] /tmp/ipykernel_1951049/4172940570.py:15: FutureWarning: The frame.append method is deprecated and will be removed from pandas in a future version. Use pandas.concat instead.\n",
      "      results = results.append(pd.DataFrame({'feature_method':[k], 'label_type':[label_type], 'fake_cols':[fake_cols], 'acc':[model_manager.accuracy], 'cls_acc':[model_manager.class_accuracy],  'loss':[model_manager.log_loss_value], 'model':[model]}))\n",
      "    \n",
      "[NeMo W 2023-06-13 15:47:16 nemo_logging:349] /home/ubuntu/.local/lib/python3.8/site-packages/sklearn/linear_model/_logistic.py:458: ConvergenceWarning: lbfgs failed to converge (status=1):\n",
      "    STOP: TOTAL NO. of ITERATIONS REACHED LIMIT.\n",
      "    \n",
      "    Increase the number of iterations (max_iter) or scale the data as shown in:\n",
      "        https://scikit-learn.org/stable/modules/preprocessing.html\n",
      "    Please also refer to the documentation for alternative solver options:\n",
      "        https://scikit-learn.org/stable/modules/linear_model.html#logistic-regression\n",
      "      n_iter_i = _check_optimize_result(\n",
      "    \n",
      "[NeMo W 2023-06-13 15:47:16 nemo_logging:349] /tmp/ipykernel_1951049/4172940570.py:15: FutureWarning: The frame.append method is deprecated and will be removed from pandas in a future version. Use pandas.concat instead.\n",
      "      results = results.append(pd.DataFrame({'feature_method':[k], 'label_type':[label_type], 'fake_cols':[fake_cols], 'acc':[model_manager.accuracy], 'cls_acc':[model_manager.class_accuracy],  'loss':[model_manager.log_loss_value], 'model':[model]}))\n",
      "    \n",
      "[NeMo W 2023-06-13 15:47:16 nemo_logging:349] /home/ubuntu/.local/lib/python3.8/site-packages/sklearn/linear_model/_logistic.py:458: ConvergenceWarning: lbfgs failed to converge (status=1):\n",
      "    STOP: TOTAL NO. of ITERATIONS REACHED LIMIT.\n",
      "    \n",
      "    Increase the number of iterations (max_iter) or scale the data as shown in:\n",
      "        https://scikit-learn.org/stable/modules/preprocessing.html\n",
      "    Please also refer to the documentation for alternative solver options:\n",
      "        https://scikit-learn.org/stable/modules/linear_model.html#logistic-regression\n",
      "      n_iter_i = _check_optimize_result(\n",
      "    \n",
      "[NeMo W 2023-06-13 15:47:16 nemo_logging:349] /tmp/ipykernel_1951049/4172940570.py:15: FutureWarning: The frame.append method is deprecated and will be removed from pandas in a future version. Use pandas.concat instead.\n",
      "      results = results.append(pd.DataFrame({'feature_method':[k], 'label_type':[label_type], 'fake_cols':[fake_cols], 'acc':[model_manager.accuracy], 'cls_acc':[model_manager.class_accuracy],  'loss':[model_manager.log_loss_value], 'model':[model]}))\n",
      "    \n"
     ]
    },
    {
     "name": "stdout",
     "output_type": "stream",
     "text": [
      "Real\n",
      "ElevenLabs\n",
      "\n",
      "Class Accuracy\n",
      "{'Real': 1.0, 'ElevenLabs': 1.0}\n",
      "\n",
      "Accuracy\n",
      "1.0\n",
      "Real\n",
      "ElevenLabs\n",
      "\n",
      "Class Accuracy\n",
      "{'Real': 1.0, 'ElevenLabs': 0.9984680199157411}\n",
      "\n",
      "Accuracy\n",
      "0.9992340099578706\n",
      "Real\n",
      "ElevenLabs\n",
      "\n",
      "Class Accuracy\n",
      "{'Real': 0.9988510149368058, 'ElevenLabs': 0.9965530448104175}\n",
      "\n",
      "Accuracy\n",
      "0.9977020298736117\n"
     ]
    },
    {
     "name": "stderr",
     "output_type": "stream",
     "text": [
      "[NeMo W 2023-06-13 15:47:16 nemo_logging:349] /tmp/ipykernel_1951049/4172940570.py:15: FutureWarning: The frame.append method is deprecated and will be removed from pandas in a future version. Use pandas.concat instead.\n",
      "      results = results.append(pd.DataFrame({'feature_method':[k], 'label_type':[label_type], 'fake_cols':[fake_cols], 'acc':[model_manager.accuracy], 'cls_acc':[model_manager.class_accuracy],  'loss':[model_manager.log_loss_value], 'model':[model]}))\n",
      "    \n"
     ]
    },
    {
     "name": "stdout",
     "output_type": "stream",
     "text": [
      "Real\n",
      "ElevenLabs\n",
      "\n",
      "Class Accuracy\n",
      "{'Real': 0.7460743010340866, 'ElevenLabs': 0.7744159325928763}\n",
      "\n",
      "Accuracy\n",
      "0.7602451168134814\n"
     ]
    },
    {
     "name": "stderr",
     "output_type": "stream",
     "text": [
      "[NeMo W 2023-06-13 15:47:35 nemo_logging:349] /tmp/ipykernel_1951049/4172940570.py:15: FutureWarning: The frame.append method is deprecated and will be removed from pandas in a future version. Use pandas.concat instead.\n",
      "      results = results.append(pd.DataFrame({'feature_method':[k], 'label_type':[label_type], 'fake_cols':[fake_cols], 'acc':[model_manager.accuracy], 'cls_acc':[model_manager.class_accuracy],  'loss':[model_manager.log_loss_value], 'model':[model]}))\n",
      "    \n"
     ]
    },
    {
     "name": "stdout",
     "output_type": "stream",
     "text": [
      "Real\n",
      "ElevenLabs\n",
      "\n",
      "Class Accuracy\n",
      "{'Real': 1.0, 'ElevenLabs': 1.0}\n",
      "\n",
      "Accuracy\n",
      "1.0\n"
     ]
    },
    {
     "name": "stderr",
     "output_type": "stream",
     "text": [
      "[NeMo W 2023-06-13 15:47:38 nemo_logging:349] /tmp/ipykernel_1951049/4172940570.py:15: FutureWarning: The frame.append method is deprecated and will be removed from pandas in a future version. Use pandas.concat instead.\n",
      "      results = results.append(pd.DataFrame({'feature_method':[k], 'label_type':[label_type], 'fake_cols':[fake_cols], 'acc':[model_manager.accuracy], 'cls_acc':[model_manager.class_accuracy],  'loss':[model_manager.log_loss_value], 'model':[model]}))\n",
      "    \n"
     ]
    },
    {
     "name": "stdout",
     "output_type": "stream",
     "text": [
      "Real\n",
      "ElevenLabs\n",
      "\n",
      "Class Accuracy\n",
      "{'Real': 0.9996170049789352, 'ElevenLabs': 0.9992340099578706}\n",
      "\n",
      "Accuracy\n",
      "0.9994255074684029\n"
     ]
    },
    {
     "name": "stderr",
     "output_type": "stream",
     "text": [
      "[NeMo W 2023-06-13 15:47:41 nemo_logging:349] /tmp/ipykernel_1951049/4172940570.py:15: FutureWarning: The frame.append method is deprecated and will be removed from pandas in a future version. Use pandas.concat instead.\n",
      "      results = results.append(pd.DataFrame({'feature_method':[k], 'label_type':[label_type], 'fake_cols':[fake_cols], 'acc':[model_manager.accuracy], 'cls_acc':[model_manager.class_accuracy],  'loss':[model_manager.log_loss_value], 'model':[model]}))\n",
      "    \n"
     ]
    },
    {
     "name": "stdout",
     "output_type": "stream",
     "text": [
      "Real\n",
      "ElevenLabs\n",
      "\n",
      "Class Accuracy\n",
      "{'Real': 1.0, 'ElevenLabs': 0.9988510149368058}\n",
      "\n",
      "Accuracy\n",
      "0.9994255074684029\n"
     ]
    },
    {
     "name": "stderr",
     "output_type": "stream",
     "text": [
      "[NeMo W 2023-06-13 15:47:45 nemo_logging:349] /tmp/ipykernel_1951049/4172940570.py:15: FutureWarning: The frame.append method is deprecated and will be removed from pandas in a future version. Use pandas.concat instead.\n",
      "      results = results.append(pd.DataFrame({'feature_method':[k], 'label_type':[label_type], 'fake_cols':[fake_cols], 'acc':[model_manager.accuracy], 'cls_acc':[model_manager.class_accuracy],  'loss':[model_manager.log_loss_value], 'model':[model]}))\n",
      "    \n"
     ]
    },
    {
     "name": "stdout",
     "output_type": "stream",
     "text": [
      "Real\n",
      "ElevenLabs\n",
      "\n",
      "Class Accuracy\n",
      "{'Real': 0.8123324396782842, 'ElevenLabs': 0.8146304098046725}\n",
      "\n",
      "Accuracy\n",
      "0.8134814247414783\n"
     ]
    },
    {
     "name": "stderr",
     "output_type": "stream",
     "text": [
      "[NeMo W 2023-06-13 15:48:03 nemo_logging:349] /tmp/ipykernel_1951049/4172940570.py:15: FutureWarning: The frame.append method is deprecated and will be removed from pandas in a future version. Use pandas.concat instead.\n",
      "      results = results.append(pd.DataFrame({'feature_method':[k], 'label_type':[label_type], 'fake_cols':[fake_cols], 'acc':[model_manager.accuracy], 'cls_acc':[model_manager.class_accuracy],  'loss':[model_manager.log_loss_value], 'model':[model]}))\n",
      "    \n"
     ]
    },
    {
     "name": "stdout",
     "output_type": "stream",
     "text": [
      "Real\n",
      "ElevenLabs\n",
      "\n",
      "Class Accuracy\n",
      "{'Real': 1.0, 'ElevenLabs': 1.0}\n",
      "\n",
      "Accuracy\n",
      "1.0\n"
     ]
    },
    {
     "name": "stderr",
     "output_type": "stream",
     "text": [
      "[NeMo W 2023-06-13 15:48:06 nemo_logging:349] /tmp/ipykernel_1951049/4172940570.py:15: FutureWarning: The frame.append method is deprecated and will be removed from pandas in a future version. Use pandas.concat instead.\n",
      "      results = results.append(pd.DataFrame({'feature_method':[k], 'label_type':[label_type], 'fake_cols':[fake_cols], 'acc':[model_manager.accuracy], 'cls_acc':[model_manager.class_accuracy],  'loss':[model_manager.log_loss_value], 'model':[model]}))\n",
      "    \n"
     ]
    },
    {
     "name": "stdout",
     "output_type": "stream",
     "text": [
      "Real\n",
      "ElevenLabs\n",
      "\n",
      "Class Accuracy\n",
      "{'Real': 0.9996170049789352, 'ElevenLabs': 0.9992340099578706}\n",
      "\n",
      "Accuracy\n",
      "0.9994255074684029\n"
     ]
    },
    {
     "name": "stderr",
     "output_type": "stream",
     "text": [
      "[NeMo W 2023-06-13 15:48:10 nemo_logging:349] /tmp/ipykernel_1951049/4172940570.py:15: FutureWarning: The frame.append method is deprecated and will be removed from pandas in a future version. Use pandas.concat instead.\n",
      "      results = results.append(pd.DataFrame({'feature_method':[k], 'label_type':[label_type], 'fake_cols':[fake_cols], 'acc':[model_manager.accuracy], 'cls_acc':[model_manager.class_accuracy],  'loss':[model_manager.log_loss_value], 'model':[model]}))\n",
      "    \n"
     ]
    },
    {
     "name": "stdout",
     "output_type": "stream",
     "text": [
      "Real\n",
      "ElevenLabs\n",
      "\n",
      "Class Accuracy\n",
      "{'Real': 1.0, 'ElevenLabs': 0.9988510149368058}\n",
      "\n",
      "Accuracy\n",
      "0.9994255074684029\n"
     ]
    },
    {
     "name": "stderr",
     "output_type": "stream",
     "text": [
      "[NeMo W 2023-06-13 15:48:13 nemo_logging:349] /tmp/ipykernel_1951049/4172940570.py:15: FutureWarning: The frame.append method is deprecated and will be removed from pandas in a future version. Use pandas.concat instead.\n",
      "      results = results.append(pd.DataFrame({'feature_method':[k], 'label_type':[label_type], 'fake_cols':[fake_cols], 'acc':[model_manager.accuracy], 'cls_acc':[model_manager.class_accuracy],  'loss':[model_manager.log_loss_value], 'model':[model]}))\n",
      "    \n"
     ]
    },
    {
     "name": "stdout",
     "output_type": "stream",
     "text": [
      "Real\n",
      "ElevenLabs\n",
      "\n",
      "Class Accuracy\n",
      "{'Real': 0.8123324396782842, 'ElevenLabs': 0.8222903102259671}\n",
      "\n",
      "Accuracy\n",
      "0.8173113749521256\n"
     ]
    }
   ],
   "source": [
    "file_path = '/home/ubuntu/data/wavefake_data/LJ_metadata_16000KHz.csv'\n",
    "run(['ElevenLabs'], file_path, '16KHz_ElevenLabs')"
   ]
  },
  {
   "attachments": {},
   "cell_type": "markdown",
   "id": "2f191bb2-eb2b-44f5-9812-512213063804",
   "metadata": {},
   "source": [
    "For the columns, we want:\n",
    "- Which dataset are we using\n",
    "- What are the fake cols\n",
    "- Binary/Multi-Class\n",
    "- Feature Generation Method\n",
    "- Accuracy\n",
    "- Loss"
   ]
  },
  {
   "cell_type": "code",
   "execution_count": 9,
   "id": "008e192f-ea8d-457e-b4da-51ac17ff6474",
   "metadata": {},
   "outputs": [],
   "source": [
    "## SB_Comment - where are the final uned cadence results? I can see the params used below but dont think they're being used \n",
    "## SB_Comment - should set the window size and threshold as global params e.g. uberduck_window_size, elevenlabs_window_size, general_window_size etc "
   ]
  },
  {
   "cell_type": "code",
   "execution_count": 10,
   "id": "e67b5523-356f-4c93-8643-c8db29057b6a",
   "metadata": {},
   "outputs": [
    {
     "name": "stdout",
     "output_type": "stream",
     "text": [
      "# of Train instances: 15666\n",
      "# of Dev instances: 5222\n",
      "# of Test instances: 5222\n",
      "[NeMo I 2023-06-13 15:48:14 cloud:56] Found existing object /home/ubuntu/.cache/torch/NeMo/NeMo_1.15.0/titanet-l/492c0ab8416139171dc18c21879a9e45/titanet-l.nemo.\n",
      "[NeMo I 2023-06-13 15:48:14 cloud:62] Re-using file from: /home/ubuntu/.cache/torch/NeMo/NeMo_1.15.0/titanet-l/492c0ab8416139171dc18c21879a9e45/titanet-l.nemo\n",
      "[NeMo I 2023-06-13 15:48:14 common:913] Instantiating model from pre-trained checkpoint\n"
     ]
    },
    {
     "name": "stderr",
     "output_type": "stream",
     "text": [
      "[NeMo W 2023-06-13 15:48:14 modelPT:156] If you intend to do training or fine-tuning, please call the ModelPT.setup_training_data() method and provide a valid configuration file to setup the train data loader.\n",
      "    Train config : \n",
      "    manifest_filepath: /manifests/combined_fisher_swbd_voxceleb12_librispeech/train.json\n",
      "    sample_rate: 16000\n",
      "    labels: null\n",
      "    batch_size: 64\n",
      "    shuffle: true\n",
      "    time_length: 3\n",
      "    is_tarred: false\n",
      "    tarred_audio_filepaths: null\n",
      "    tarred_shard_strategy: scatter\n",
      "    augmentor:\n",
      "      noise:\n",
      "        manifest_path: /manifests/noise/rir_noise_manifest.json\n",
      "        prob: 0.5\n",
      "        min_snr_db: 0\n",
      "        max_snr_db: 15\n",
      "      speed:\n",
      "        prob: 0.5\n",
      "        sr: 16000\n",
      "        resample_type: kaiser_fast\n",
      "        min_speed_rate: 0.95\n",
      "        max_speed_rate: 1.05\n",
      "    num_workers: 15\n",
      "    pin_memory: true\n",
      "    \n",
      "[NeMo W 2023-06-13 15:48:14 modelPT:163] If you intend to do validation, please call the ModelPT.setup_validation_data() or ModelPT.setup_multiple_validation_data() method and provide a valid configuration file to setup the validation data loader(s). \n",
      "    Validation config : \n",
      "    manifest_filepath: /manifests/combined_fisher_swbd_voxceleb12_librispeech/dev.json\n",
      "    sample_rate: 16000\n",
      "    labels: null\n",
      "    batch_size: 128\n",
      "    shuffle: false\n",
      "    time_length: 3\n",
      "    num_workers: 15\n",
      "    pin_memory: true\n",
      "    \n"
     ]
    },
    {
     "name": "stdout",
     "output_type": "stream",
     "text": [
      "[NeMo I 2023-06-13 15:48:14 label_models:126] Setting angular: true/false in decoder is deprecated and will be removed in 1.13 version, use specific loss with _target_\n",
      "[NeMo I 2023-06-13 15:48:14 features:267] PADDING: 16\n",
      "[NeMo I 2023-06-13 15:48:15 save_restore_connector:243] Model EncDecSpeakerLabelModel was successfully restored from /home/ubuntu/.cache/torch/NeMo/NeMo_1.15.0/titanet-l/492c0ab8416139171dc18c21879a9e45/titanet-l.nemo.\n"
     ]
    },
    {
     "name": "stderr",
     "output_type": "stream",
     "text": [
      "100%|██████████| 2/2 [00:00<00:00,  3.53it/s]\n",
      "100%|██████████| 2/2 [00:00<00:00, 28.62it/s]\n",
      "100%|██████████| 2/2 [00:26<00:00, 13.40s/it]\n"
     ]
    },
    {
     "name": "stdout",
     "output_type": "stream",
     "text": [
      "Initializing data...\n",
      "Standardizing features...\n",
      "smileFeatureSelectFromModel object initialized.\n",
      "\n",
      "\n",
      "Selected features:.\n",
      "\n",
      "1. mfcc_sma_de[14]_meanFallingSlope\n",
      "2. mfcc_sma[9]_lpgain\n",
      "3. mfcc_sma_de[9]_iqr1-2\n",
      "4. mfcc_sma_de[9]_meanRisingSlope\n",
      "5. mfcc_sma[5]_lpc2\n",
      "6. mfcc_sma[13]_lpgain\n",
      "7. mfcc_sma[10]_meanPeakDist\n",
      "8. mfcc_sma[8]_lpgain\n",
      "9. mfcc_sma[14]_quartile2\n",
      "10. mfcc_sma_de[13]_lpgain\n",
      "11. mfcc_sma_de[9]_stddev\n",
      "12. mfcc_sma[13]_meanFallingSlope\n",
      "13. mfcc_sma[14]_amean\n",
      "14. mfcc_sma_de[14]_meanRisingSlope\n",
      "15. mfcc_sma[14]_quartile1\n",
      "16. mfcc_sma_de[10]_meanPeakDist\n",
      "17. mfcc_sma[11]_lpc2\n",
      "18. mfcc_sma_de[9]_lpgain\n",
      "19. mfcc_sma_de[12]_meanPeakDist\n",
      "20. mfcc_sma_de[8]_lpgain\n",
      "Initializing data...\n",
      "Standardizing features...\n",
      "smileFeatureSelectFromModel object initialized.\n",
      "\n"
     ]
    },
    {
     "name": "stderr",
     "output_type": "stream",
     "text": [
      "[NeMo W 2023-06-13 15:53:24 nemo_logging:349] /tmp/ipykernel_1951049/4172940570.py:15: FutureWarning: The frame.append method is deprecated and will be removed from pandas in a future version. Use pandas.concat instead.\n",
      "      results = results.append(pd.DataFrame({'feature_method':[k], 'label_type':[label_type], 'fake_cols':[fake_cols], 'acc':[model_manager.accuracy], 'cls_acc':[model_manager.class_accuracy],  'loss':[model_manager.log_loss_value], 'model':[model]}))\n",
      "    \n",
      "[NeMo W 2023-06-13 15:53:24 nemo_logging:349] /home/ubuntu/.local/lib/python3.8/site-packages/sklearn/linear_model/_logistic.py:458: ConvergenceWarning: lbfgs failed to converge (status=1):\n",
      "    STOP: TOTAL NO. of ITERATIONS REACHED LIMIT.\n",
      "    \n",
      "    Increase the number of iterations (max_iter) or scale the data as shown in:\n",
      "        https://scikit-learn.org/stable/modules/preprocessing.html\n",
      "    Please also refer to the documentation for alternative solver options:\n",
      "        https://scikit-learn.org/stable/modules/linear_model.html#logistic-regression\n",
      "      n_iter_i = _check_optimize_result(\n",
      "    \n"
     ]
    },
    {
     "name": "stdout",
     "output_type": "stream",
     "text": [
      "\n",
      "Selected features:.\n",
      "\n",
      "1. mfcc_sma[9]_lpgain\n",
      "2. mfcc_sma_de[13]_quartile3\n",
      "3. mfcc_sma[12]_meanPeakDist\n",
      "4. mfcc_sma_de[9]_meanRisingSlope\n",
      "5. mfcc_sma[5]_lpc2\n",
      "6. mfcc_sma[14]_peakMeanAbs\n",
      "7. mfcc_sma[13]_lpgain\n",
      "8. mfcc_sma[10]_meanPeakDist\n",
      "9. mfcc_sma[8]_lpgain\n",
      "10. mfcc_sma[14]_quartile2\n",
      "11. mfcc_sma_de[13]_lpgain\n",
      "12. mfcc_sma_de[9]_meanFallingSlope\n",
      "13. mfcc_sma_de[9]_stddev\n",
      "14. mfcc_sma[13]_meanFallingSlope\n",
      "15. mfcc_sma[14]_amean\n",
      "16. mfcc_sma_de[13]_meanRisingSlope\n",
      "17. mfcc_sma_de[11]_lpc2\n",
      "18. mfcc_sma_de[10]_meanPeakDist\n",
      "19. mfcc_sma[11]_lpc2\n",
      "20. mfcc_sma_de[8]_lpgain\n",
      "Real\n",
      "UberDuck\n",
      "\n",
      "Class Accuracy\n",
      "{'Real': 0.9988510149368058, 'UberDuck': 0.9980828220858896}\n",
      "\n",
      "Accuracy\n",
      "0.9984671392987162\n",
      "Real\n",
      "UberDuck\n"
     ]
    },
    {
     "name": "stderr",
     "output_type": "stream",
     "text": [
      "[NeMo W 2023-06-13 15:53:24 nemo_logging:349] /tmp/ipykernel_1951049/4172940570.py:15: FutureWarning: The frame.append method is deprecated and will be removed from pandas in a future version. Use pandas.concat instead.\n",
      "      results = results.append(pd.DataFrame({'feature_method':[k], 'label_type':[label_type], 'fake_cols':[fake_cols], 'acc':[model_manager.accuracy], 'cls_acc':[model_manager.class_accuracy],  'loss':[model_manager.log_loss_value], 'model':[model]}))\n",
      "    \n",
      "[NeMo W 2023-06-13 15:53:24 nemo_logging:349] /home/ubuntu/.local/lib/python3.8/site-packages/sklearn/linear_model/_logistic.py:458: ConvergenceWarning: lbfgs failed to converge (status=1):\n",
      "    STOP: TOTAL NO. of ITERATIONS REACHED LIMIT.\n",
      "    \n",
      "    Increase the number of iterations (max_iter) or scale the data as shown in:\n",
      "        https://scikit-learn.org/stable/modules/preprocessing.html\n",
      "    Please also refer to the documentation for alternative solver options:\n",
      "        https://scikit-learn.org/stable/modules/linear_model.html#logistic-regression\n",
      "      n_iter_i = _check_optimize_result(\n",
      "    \n",
      "[NeMo W 2023-06-13 15:53:24 nemo_logging:349] /tmp/ipykernel_1951049/4172940570.py:15: FutureWarning: The frame.append method is deprecated and will be removed from pandas in a future version. Use pandas.concat instead.\n",
      "      results = results.append(pd.DataFrame({'feature_method':[k], 'label_type':[label_type], 'fake_cols':[fake_cols], 'acc':[model_manager.accuracy], 'cls_acc':[model_manager.class_accuracy],  'loss':[model_manager.log_loss_value], 'model':[model]}))\n",
      "    \n",
      "[NeMo W 2023-06-13 15:53:24 nemo_logging:349] /tmp/ipykernel_1951049/4172940570.py:15: FutureWarning: The frame.append method is deprecated and will be removed from pandas in a future version. Use pandas.concat instead.\n",
      "      results = results.append(pd.DataFrame({'feature_method':[k], 'label_type':[label_type], 'fake_cols':[fake_cols], 'acc':[model_manager.accuracy], 'cls_acc':[model_manager.class_accuracy],  'loss':[model_manager.log_loss_value], 'model':[model]}))\n",
      "    \n"
     ]
    },
    {
     "name": "stdout",
     "output_type": "stream",
     "text": [
      "\n",
      "Class Accuracy\n",
      "{'Real': 0.9655304481041747, 'UberDuck': 0.9528916124090386}\n",
      "\n",
      "Accuracy\n",
      "0.9592110302566067\n",
      "Real\n",
      "UberDuck\n",
      "\n",
      "Class Accuracy\n",
      "{'Real': 0.9651474530831099, 'UberDuck': 0.952508617387974}\n",
      "\n",
      "Accuracy\n",
      "0.9588280352355419\n",
      "Real\n",
      "UberDuck\n",
      "\n",
      "Class Accuracy\n",
      "{'Real': 0.542703944848717, 'UberDuck': 0.51053236307928}\n",
      "\n",
      "Accuracy\n",
      "0.5266181539639985\n"
     ]
    },
    {
     "name": "stderr",
     "output_type": "stream",
     "text": [
      "[NeMo W 2023-06-13 15:53:24 nemo_logging:349] /tmp/ipykernel_1951049/4172940570.py:15: FutureWarning: The frame.append method is deprecated and will be removed from pandas in a future version. Use pandas.concat instead.\n",
      "      results = results.append(pd.DataFrame({'feature_method':[k], 'label_type':[label_type], 'fake_cols':[fake_cols], 'acc':[model_manager.accuracy], 'cls_acc':[model_manager.class_accuracy],  'loss':[model_manager.log_loss_value], 'model':[model]}))\n",
      "    \n",
      "[NeMo W 2023-06-13 15:53:24 nemo_logging:349] /home/ubuntu/.local/lib/python3.8/site-packages/sklearn/linear_model/_logistic.py:458: ConvergenceWarning: lbfgs failed to converge (status=1):\n",
      "    STOP: TOTAL NO. of ITERATIONS REACHED LIMIT.\n",
      "    \n",
      "    Increase the number of iterations (max_iter) or scale the data as shown in:\n",
      "        https://scikit-learn.org/stable/modules/preprocessing.html\n",
      "    Please also refer to the documentation for alternative solver options:\n",
      "        https://scikit-learn.org/stable/modules/linear_model.html#logistic-regression\n",
      "      n_iter_i = _check_optimize_result(\n",
      "    \n",
      "[NeMo W 2023-06-13 15:53:24 nemo_logging:349] /tmp/ipykernel_1951049/4172940570.py:15: FutureWarning: The frame.append method is deprecated and will be removed from pandas in a future version. Use pandas.concat instead.\n",
      "      results = results.append(pd.DataFrame({'feature_method':[k], 'label_type':[label_type], 'fake_cols':[fake_cols], 'acc':[model_manager.accuracy], 'cls_acc':[model_manager.class_accuracy],  'loss':[model_manager.log_loss_value], 'model':[model]}))\n",
      "    \n",
      "[NeMo W 2023-06-13 15:53:24 nemo_logging:349] /home/ubuntu/.local/lib/python3.8/site-packages/sklearn/linear_model/_logistic.py:458: ConvergenceWarning: lbfgs failed to converge (status=1):\n",
      "    STOP: TOTAL NO. of ITERATIONS REACHED LIMIT.\n",
      "    \n",
      "    Increase the number of iterations (max_iter) or scale the data as shown in:\n",
      "        https://scikit-learn.org/stable/modules/preprocessing.html\n",
      "    Please also refer to the documentation for alternative solver options:\n",
      "        https://scikit-learn.org/stable/modules/linear_model.html#logistic-regression\n",
      "      n_iter_i = _check_optimize_result(\n",
      "    \n"
     ]
    },
    {
     "name": "stdout",
     "output_type": "stream",
     "text": [
      "Real\n",
      "UberDuck\n",
      "\n",
      "Class Accuracy\n",
      "{'Real': 0.9988510149368058, 'UberDuck': 0.9980828220858896}\n",
      "\n",
      "Accuracy\n",
      "0.9984671392987162\n",
      "Real\n",
      "UberDuck\n",
      "\n",
      "Class Accuracy\n",
      "{'Real': 0.9655304481041747, 'UberDuck': 0.9528916124090386}\n",
      "\n",
      "Accuracy\n",
      "0.9592110302566067\n",
      "Real\n",
      "UberDuck\n",
      "\n",
      "Class Accuracy\n",
      "{'Real': 0.9651474530831099, 'UberDuck': 0.952508617387974}\n",
      "\n",
      "Accuracy\n",
      "0.9588280352355419\n"
     ]
    },
    {
     "name": "stderr",
     "output_type": "stream",
     "text": [
      "[NeMo W 2023-06-13 15:53:24 nemo_logging:349] /tmp/ipykernel_1951049/4172940570.py:15: FutureWarning: The frame.append method is deprecated and will be removed from pandas in a future version. Use pandas.concat instead.\n",
      "      results = results.append(pd.DataFrame({'feature_method':[k], 'label_type':[label_type], 'fake_cols':[fake_cols], 'acc':[model_manager.accuracy], 'cls_acc':[model_manager.class_accuracy],  'loss':[model_manager.log_loss_value], 'model':[model]}))\n",
      "    \n",
      "[NeMo W 2023-06-13 15:53:24 nemo_logging:349] /tmp/ipykernel_1951049/4172940570.py:15: FutureWarning: The frame.append method is deprecated and will be removed from pandas in a future version. Use pandas.concat instead.\n",
      "      results = results.append(pd.DataFrame({'feature_method':[k], 'label_type':[label_type], 'fake_cols':[fake_cols], 'acc':[model_manager.accuracy], 'cls_acc':[model_manager.class_accuracy],  'loss':[model_manager.log_loss_value], 'model':[model]}))\n",
      "    \n"
     ]
    },
    {
     "name": "stdout",
     "output_type": "stream",
     "text": [
      "Real\n",
      "UberDuck\n",
      "\n",
      "Class Accuracy\n",
      "{'Real': 0.542703944848717, 'UberDuck': 0.51053236307928}\n",
      "\n",
      "Accuracy\n",
      "0.5266181539639985\n"
     ]
    },
    {
     "name": "stderr",
     "output_type": "stream",
     "text": [
      "[NeMo W 2023-06-13 15:53:50 nemo_logging:349] /tmp/ipykernel_1951049/4172940570.py:15: FutureWarning: The frame.append method is deprecated and will be removed from pandas in a future version. Use pandas.concat instead.\n",
      "      results = results.append(pd.DataFrame({'feature_method':[k], 'label_type':[label_type], 'fake_cols':[fake_cols], 'acc':[model_manager.accuracy], 'cls_acc':[model_manager.class_accuracy],  'loss':[model_manager.log_loss_value], 'model':[model]}))\n",
      "    \n"
     ]
    },
    {
     "name": "stdout",
     "output_type": "stream",
     "text": [
      "Real\n",
      "UberDuck\n",
      "\n",
      "Class Accuracy\n",
      "{'Real': 0.9992340099578706, 'UberDuck': 0.9950153374233128}\n",
      "\n",
      "Accuracy\n",
      "0.9971258861850929\n"
     ]
    },
    {
     "name": "stderr",
     "output_type": "stream",
     "text": [
      "[NeMo W 2023-06-13 15:53:57 nemo_logging:349] /tmp/ipykernel_1951049/4172940570.py:15: FutureWarning: The frame.append method is deprecated and will be removed from pandas in a future version. Use pandas.concat instead.\n",
      "      results = results.append(pd.DataFrame({'feature_method':[k], 'label_type':[label_type], 'fake_cols':[fake_cols], 'acc':[model_manager.accuracy], 'cls_acc':[model_manager.class_accuracy],  'loss':[model_manager.log_loss_value], 'model':[model]}))\n",
      "    \n"
     ]
    },
    {
     "name": "stdout",
     "output_type": "stream",
     "text": [
      "Real\n",
      "UberDuck\n",
      "\n",
      "Class Accuracy\n",
      "{'Real': 0.9908081194944466, 'UberDuck': 0.9900421294523171}\n",
      "\n",
      "Accuracy\n",
      "0.9904251244733818\n"
     ]
    },
    {
     "name": "stderr",
     "output_type": "stream",
     "text": [
      "[NeMo W 2023-06-13 15:54:04 nemo_logging:349] /tmp/ipykernel_1951049/4172940570.py:15: FutureWarning: The frame.append method is deprecated and will be removed from pandas in a future version. Use pandas.concat instead.\n",
      "      results = results.append(pd.DataFrame({'feature_method':[k], 'label_type':[label_type], 'fake_cols':[fake_cols], 'acc':[model_manager.accuracy], 'cls_acc':[model_manager.class_accuracy],  'loss':[model_manager.log_loss_value], 'model':[model]}))\n",
      "    \n"
     ]
    },
    {
     "name": "stdout",
     "output_type": "stream",
     "text": [
      "Real\n",
      "UberDuck\n",
      "\n",
      "Class Accuracy\n",
      "{'Real': 0.9896591344312524, 'UberDuck': 0.9885101493680583}\n",
      "\n",
      "Accuracy\n",
      "0.9890846418996553\n"
     ]
    },
    {
     "name": "stderr",
     "output_type": "stream",
     "text": [
      "[NeMo W 2023-06-13 15:54:09 nemo_logging:349] /tmp/ipykernel_1951049/4172940570.py:15: FutureWarning: The frame.append method is deprecated and will be removed from pandas in a future version. Use pandas.concat instead.\n",
      "      results = results.append(pd.DataFrame({'feature_method':[k], 'label_type':[label_type], 'fake_cols':[fake_cols], 'acc':[model_manager.accuracy], 'cls_acc':[model_manager.class_accuracy],  'loss':[model_manager.log_loss_value], 'model':[model]}))\n",
      "    \n"
     ]
    },
    {
     "name": "stdout",
     "output_type": "stream",
     "text": [
      "Real\n",
      "UberDuck\n",
      "\n",
      "Class Accuracy\n",
      "{'Real': 0.5626196859440827, 'UberDuck': 0.5335120643431636}\n",
      "\n",
      "Accuracy\n",
      "0.5480658751436231\n"
     ]
    },
    {
     "name": "stderr",
     "output_type": "stream",
     "text": [
      "[NeMo W 2023-06-13 15:54:35 nemo_logging:349] /tmp/ipykernel_1951049/4172940570.py:15: FutureWarning: The frame.append method is deprecated and will be removed from pandas in a future version. Use pandas.concat instead.\n",
      "      results = results.append(pd.DataFrame({'feature_method':[k], 'label_type':[label_type], 'fake_cols':[fake_cols], 'acc':[model_manager.accuracy], 'cls_acc':[model_manager.class_accuracy],  'loss':[model_manager.log_loss_value], 'model':[model]}))\n",
      "    \n"
     ]
    },
    {
     "name": "stdout",
     "output_type": "stream",
     "text": [
      "Real\n",
      "UberDuck\n",
      "\n",
      "Class Accuracy\n",
      "{'Real': 0.9996170049789352, 'UberDuck': 0.9969325153374233}\n",
      "\n",
      "Accuracy\n",
      "0.9982755317110558\n"
     ]
    },
    {
     "name": "stderr",
     "output_type": "stream",
     "text": [
      "[NeMo W 2023-06-13 15:54:42 nemo_logging:349] /tmp/ipykernel_1951049/4172940570.py:15: FutureWarning: The frame.append method is deprecated and will be removed from pandas in a future version. Use pandas.concat instead.\n",
      "      results = results.append(pd.DataFrame({'feature_method':[k], 'label_type':[label_type], 'fake_cols':[fake_cols], 'acc':[model_manager.accuracy], 'cls_acc':[model_manager.class_accuracy],  'loss':[model_manager.log_loss_value], 'model':[model]}))\n",
      "    \n"
     ]
    },
    {
     "name": "stdout",
     "output_type": "stream",
     "text": [
      "Real\n",
      "UberDuck\n",
      "\n",
      "Class Accuracy\n",
      "{'Real': 0.9900421294523171, 'UberDuck': 0.9908081194944466}\n",
      "\n",
      "Accuracy\n",
      "0.9904251244733818\n"
     ]
    },
    {
     "name": "stderr",
     "output_type": "stream",
     "text": [
      "[NeMo W 2023-06-13 15:54:49 nemo_logging:349] /tmp/ipykernel_1951049/4172940570.py:15: FutureWarning: The frame.append method is deprecated and will be removed from pandas in a future version. Use pandas.concat instead.\n",
      "      results = results.append(pd.DataFrame({'feature_method':[k], 'label_type':[label_type], 'fake_cols':[fake_cols], 'acc':[model_manager.accuracy], 'cls_acc':[model_manager.class_accuracy],  'loss':[model_manager.log_loss_value], 'model':[model]}))\n",
      "    \n"
     ]
    },
    {
     "name": "stdout",
     "output_type": "stream",
     "text": [
      "Real\n",
      "UberDuck\n",
      "\n",
      "Class Accuracy\n",
      "{'Real': 0.9888931443891229, 'UberDuck': 0.9888931443891229}\n",
      "\n",
      "Accuracy\n",
      "0.9888931443891229\n"
     ]
    },
    {
     "name": "stderr",
     "output_type": "stream",
     "text": [
      "[NeMo W 2023-06-13 15:54:54 nemo_logging:349] /tmp/ipykernel_1951049/4172940570.py:15: FutureWarning: The frame.append method is deprecated and will be removed from pandas in a future version. Use pandas.concat instead.\n",
      "      results = results.append(pd.DataFrame({'feature_method':[k], 'label_type':[label_type], 'fake_cols':[fake_cols], 'acc':[model_manager.accuracy], 'cls_acc':[model_manager.class_accuracy],  'loss':[model_manager.log_loss_value], 'model':[model]}))\n",
      "    \n"
     ]
    },
    {
     "name": "stdout",
     "output_type": "stream",
     "text": [
      "Real\n",
      "UberDuck\n",
      "\n",
      "Class Accuracy\n",
      "{'Real': 0.5610877058598238, 'UberDuck': 0.5365760245116813}\n",
      "\n",
      "Accuracy\n",
      "0.5488318651857526\n"
     ]
    }
   ],
   "source": [
    "file_path = '/home/ubuntu/data/wavefake_data/LJ_metadata_16000KHz.csv'\n",
    "run(['UberDuck'], file_path, '16KHz_UberDuck')"
   ]
  },
  {
   "cell_type": "code",
   "execution_count": 22,
   "id": "daf6fe04-b257-4df0-81c2-02608f068378",
   "metadata": {},
   "outputs": [
    {
     "name": "stdout",
     "output_type": "stream",
     "text": [
      "# of Train instances: 15666\n",
      "# of Dev instances: 5222\n",
      "# of Test instances: 5222\n",
      "[NeMo I 2023-06-13 17:30:57 cloud:56] Found existing object /home/ubuntu/.cache/torch/NeMo/NeMo_1.15.0/titanet-l/492c0ab8416139171dc18c21879a9e45/titanet-l.nemo.\n",
      "[NeMo I 2023-06-13 17:30:57 cloud:62] Re-using file from: /home/ubuntu/.cache/torch/NeMo/NeMo_1.15.0/titanet-l/492c0ab8416139171dc18c21879a9e45/titanet-l.nemo\n",
      "[NeMo I 2023-06-13 17:30:57 common:913] Instantiating model from pre-trained checkpoint\n"
     ]
    },
    {
     "name": "stderr",
     "output_type": "stream",
     "text": [
      "[NeMo W 2023-06-13 17:30:58 modelPT:156] If you intend to do training or fine-tuning, please call the ModelPT.setup_training_data() method and provide a valid configuration file to setup the train data loader.\n",
      "    Train config : \n",
      "    manifest_filepath: /manifests/combined_fisher_swbd_voxceleb12_librispeech/train.json\n",
      "    sample_rate: 16000\n",
      "    labels: null\n",
      "    batch_size: 64\n",
      "    shuffle: true\n",
      "    time_length: 3\n",
      "    is_tarred: false\n",
      "    tarred_audio_filepaths: null\n",
      "    tarred_shard_strategy: scatter\n",
      "    augmentor:\n",
      "      noise:\n",
      "        manifest_path: /manifests/noise/rir_noise_manifest.json\n",
      "        prob: 0.5\n",
      "        min_snr_db: 0\n",
      "        max_snr_db: 15\n",
      "      speed:\n",
      "        prob: 0.5\n",
      "        sr: 16000\n",
      "        resample_type: kaiser_fast\n",
      "        min_speed_rate: 0.95\n",
      "        max_speed_rate: 1.05\n",
      "    num_workers: 15\n",
      "    pin_memory: true\n",
      "    \n",
      "[NeMo W 2023-06-13 17:30:58 modelPT:163] If you intend to do validation, please call the ModelPT.setup_validation_data() or ModelPT.setup_multiple_validation_data() method and provide a valid configuration file to setup the validation data loader(s). \n",
      "    Validation config : \n",
      "    manifest_filepath: /manifests/combined_fisher_swbd_voxceleb12_librispeech/dev.json\n",
      "    sample_rate: 16000\n",
      "    labels: null\n",
      "    batch_size: 128\n",
      "    shuffle: false\n",
      "    time_length: 3\n",
      "    num_workers: 15\n",
      "    pin_memory: true\n",
      "    \n"
     ]
    },
    {
     "name": "stdout",
     "output_type": "stream",
     "text": [
      "[NeMo I 2023-06-13 17:30:58 label_models:126] Setting angular: true/false in decoder is deprecated and will be removed in 1.13 version, use specific loss with _target_\n",
      "[NeMo I 2023-06-13 17:30:58 features:267] PADDING: 16\n",
      "[NeMo I 2023-06-13 17:30:58 save_restore_connector:243] Model EncDecSpeakerLabelModel was successfully restored from /home/ubuntu/.cache/torch/NeMo/NeMo_1.15.0/titanet-l/492c0ab8416139171dc18c21879a9e45/titanet-l.nemo.\n"
     ]
    },
    {
     "name": "stderr",
     "output_type": "stream",
     "text": [
      "100%|██████████| 8/8 [00:02<00:00,  3.71it/s]\n",
      "100%|██████████| 8/8 [00:00<00:00, 31.95it/s]\n",
      "100%|██████████| 8/8 [01:41<00:00, 12.72s/it]\n"
     ]
    },
    {
     "name": "stdout",
     "output_type": "stream",
     "text": [
      "Initializing data...\n",
      "Standardizing features...\n",
      "smileFeatureSelectFromModel object initialized.\n",
      "\n",
      "\n",
      "Selected features:.\n",
      "\n",
      "1. shimmerLocal_sma_quartile1\n",
      "2. jitterLocal_sma_percentile1.0\n",
      "3. mfcc_sma_de[7]_lpc0\n",
      "4. mfcc_sma_de[6]_lpc2\n",
      "5. jitterLocal_sma_quartile1\n",
      "6. jitterDDP_sma_iqr1-2\n",
      "7. jitterDDP_sma_flatness\n",
      "8. mfcc_sma_de[14]_lpgain\n",
      "9. mfcc_sma_de[8]_lpc1\n",
      "10. mfcc_sma[9]_lpc0\n",
      "11. mfcc_sma_de[10]_lpc0\n",
      "12. mfcc_sma_de[5]_lpc2\n",
      "13. mfcc_sma[12]_lpc1\n",
      "14. jitterDDP_sma_percentile1.0\n",
      "15. jitterLocal_sma_flatness\n",
      "16. mfcc_sma_de[7]_lpc1\n",
      "17. mfcc_sma_de[9]_lpc2\n",
      "18. jitterDDP_sma_quartile1\n",
      "19. jitterDDP_sma_quartile2\n",
      "20. shimmerLocal_sma_percentile1.0\n",
      "Initializing data...\n",
      "Standardizing features...\n",
      "smileFeatureSelectFromModel object initialized.\n",
      "\n"
     ]
    },
    {
     "name": "stderr",
     "output_type": "stream",
     "text": [
      "[NeMo W 2023-06-13 17:37:16 nemo_logging:349] /tmp/ipykernel_1951049/4172940570.py:15: FutureWarning: The frame.append method is deprecated and will be removed from pandas in a future version. Use pandas.concat instead.\n",
      "      results = results.append(pd.DataFrame({'feature_method':[k], 'label_type':[label_type], 'fake_cols':[fake_cols], 'acc':[model_manager.accuracy], 'cls_acc':[model_manager.class_accuracy],  'loss':[model_manager.log_loss_value], 'model':[model]}))\n",
      "    \n"
     ]
    },
    {
     "name": "stdout",
     "output_type": "stream",
     "text": [
      "\n",
      "Selected features:.\n",
      "\n",
      "1. shimmerLocal_sma_quartile1\n",
      "2. mfcc_sma[9]_lpgain\n",
      "3. jitterLocal_sma_percentile1.0\n",
      "4. mfcc_sma_de[9]_lpc0\n",
      "5. mfcc_sma[11]_lpc1\n",
      "6. mfcc_sma_de[12]_lpc1\n",
      "7. jitterLocal_sma_quartile1\n",
      "8. jitterDDP_sma_iqr1-2\n",
      "9. jitterDDP_sma_flatness\n",
      "10. mfcc_sma_de[13]_lpgain\n",
      "11. mfcc_sma_de[6]_lpc0\n",
      "12. mfcc_sma_de[5]_lpc3\n",
      "13. jitterDDP_sma_percentile1.0\n",
      "14. jitterLocal_sma_flatness\n",
      "15. mfcc_sma_de[6]_lpc1\n",
      "16. mfcc_sma[6]_lpc0\n",
      "17. jitterDDP_sma_quartile1\n",
      "18. jitterDDP_sma_quartile2\n",
      "19. mfcc_sma[9]_lpc1\n",
      "20. shimmerLocal_sma_percentile1.0\n",
      "Real\n",
      "RandWaveFake\n",
      "\n",
      "Class Accuracy\n",
      "{'Real': 0.967828418230563, 'RandWaveFake': 0.9563385675986212}\n",
      "\n",
      "Accuracy\n",
      "0.9620834929145922\n"
     ]
    },
    {
     "name": "stderr",
     "output_type": "stream",
     "text": [
      "[NeMo W 2023-06-13 17:37:16 nemo_logging:349] /home/ubuntu/.local/lib/python3.8/site-packages/sklearn/linear_model/_logistic.py:458: ConvergenceWarning: lbfgs failed to converge (status=1):\n",
      "    STOP: TOTAL NO. of ITERATIONS REACHED LIMIT.\n",
      "    \n",
      "    Increase the number of iterations (max_iter) or scale the data as shown in:\n",
      "        https://scikit-learn.org/stable/modules/preprocessing.html\n",
      "    Please also refer to the documentation for alternative solver options:\n",
      "        https://scikit-learn.org/stable/modules/linear_model.html#logistic-regression\n",
      "      n_iter_i = _check_optimize_result(\n",
      "    \n",
      "[NeMo W 2023-06-13 17:37:16 nemo_logging:349] /tmp/ipykernel_1951049/4172940570.py:15: FutureWarning: The frame.append method is deprecated and will be removed from pandas in a future version. Use pandas.concat instead.\n",
      "      results = results.append(pd.DataFrame({'feature_method':[k], 'label_type':[label_type], 'fake_cols':[fake_cols], 'acc':[model_manager.accuracy], 'cls_acc':[model_manager.class_accuracy],  'loss':[model_manager.log_loss_value], 'model':[model]}))\n",
      "    \n",
      "[NeMo W 2023-06-13 17:37:16 nemo_logging:349] /home/ubuntu/.local/lib/python3.8/site-packages/sklearn/linear_model/_logistic.py:458: ConvergenceWarning: lbfgs failed to converge (status=1):\n",
      "    STOP: TOTAL NO. of ITERATIONS REACHED LIMIT.\n",
      "    \n",
      "    Increase the number of iterations (max_iter) or scale the data as shown in:\n",
      "        https://scikit-learn.org/stable/modules/preprocessing.html\n",
      "    Please also refer to the documentation for alternative solver options:\n",
      "        https://scikit-learn.org/stable/modules/linear_model.html#logistic-regression\n",
      "      n_iter_i = _check_optimize_result(\n",
      "    \n",
      "[NeMo W 2023-06-13 17:37:16 nemo_logging:349] /tmp/ipykernel_1951049/4172940570.py:15: FutureWarning: The frame.append method is deprecated and will be removed from pandas in a future version. Use pandas.concat instead.\n",
      "      results = results.append(pd.DataFrame({'feature_method':[k], 'label_type':[label_type], 'fake_cols':[fake_cols], 'acc':[model_manager.accuracy], 'cls_acc':[model_manager.class_accuracy],  'loss':[model_manager.log_loss_value], 'model':[model]}))\n",
      "    \n",
      "[NeMo W 2023-06-13 17:37:16 nemo_logging:349] /tmp/ipykernel_1951049/4172940570.py:15: FutureWarning: The frame.append method is deprecated and will be removed from pandas in a future version. Use pandas.concat instead.\n",
      "      results = results.append(pd.DataFrame({'feature_method':[k], 'label_type':[label_type], 'fake_cols':[fake_cols], 'acc':[model_manager.accuracy], 'cls_acc':[model_manager.class_accuracy],  'loss':[model_manager.log_loss_value], 'model':[model]}))\n",
      "    \n"
     ]
    },
    {
     "name": "stdout",
     "output_type": "stream",
     "text": [
      "Real\n",
      "RandWaveFake\n",
      "\n",
      "Class Accuracy\n",
      "{'Real': 0.8364611260053619, 'RandWaveFake': 0.7740329375718116}\n",
      "\n",
      "Accuracy\n",
      "0.8052470317885867\n",
      "Real\n",
      "RandWaveFake\n",
      "\n",
      "Class Accuracy\n",
      "{'Real': 0.8318651857525852, 'RandWaveFake': 0.7702029873611643}\n",
      "\n",
      "Accuracy\n",
      "0.8010340865568748\n",
      "Real\n",
      "RandWaveFake\n",
      "\n",
      "Class Accuracy\n",
      "{'Real': 0.4412102642665645, 'RandWaveFake': 0.5764075067024129}\n",
      "\n",
      "Accuracy\n",
      "0.5088088854844887\n"
     ]
    },
    {
     "name": "stderr",
     "output_type": "stream",
     "text": [
      "[NeMo W 2023-06-13 17:37:16 nemo_logging:349] /tmp/ipykernel_1951049/4172940570.py:15: FutureWarning: The frame.append method is deprecated and will be removed from pandas in a future version. Use pandas.concat instead.\n",
      "      results = results.append(pd.DataFrame({'feature_method':[k], 'label_type':[label_type], 'fake_cols':[fake_cols], 'acc':[model_manager.accuracy], 'cls_acc':[model_manager.class_accuracy],  'loss':[model_manager.log_loss_value], 'model':[model]}))\n",
      "    \n",
      "[NeMo W 2023-06-13 17:37:17 nemo_logging:349] /home/ubuntu/.local/lib/python3.8/site-packages/sklearn/linear_model/_logistic.py:458: ConvergenceWarning: lbfgs failed to converge (status=1):\n",
      "    STOP: TOTAL NO. of ITERATIONS REACHED LIMIT.\n",
      "    \n",
      "    Increase the number of iterations (max_iter) or scale the data as shown in:\n",
      "        https://scikit-learn.org/stable/modules/preprocessing.html\n",
      "    Please also refer to the documentation for alternative solver options:\n",
      "        https://scikit-learn.org/stable/modules/linear_model.html#logistic-regression\n",
      "      n_iter_i = _check_optimize_result(\n",
      "    \n",
      "[NeMo W 2023-06-13 17:37:17 nemo_logging:349] /tmp/ipykernel_1951049/4172940570.py:15: FutureWarning: The frame.append method is deprecated and will be removed from pandas in a future version. Use pandas.concat instead.\n",
      "      results = results.append(pd.DataFrame({'feature_method':[k], 'label_type':[label_type], 'fake_cols':[fake_cols], 'acc':[model_manager.accuracy], 'cls_acc':[model_manager.class_accuracy],  'loss':[model_manager.log_loss_value], 'model':[model]}))\n",
      "    \n"
     ]
    },
    {
     "name": "stdout",
     "output_type": "stream",
     "text": [
      "Real\n",
      "RandWaveFake\n",
      "\n",
      "Class Accuracy\n",
      "{'Real': 0.967828418230563, 'RandWaveFake': 0.9563385675986212}\n",
      "\n",
      "Accuracy\n",
      "0.9620834929145922\n",
      "Real\n",
      "RandWaveFake\n",
      "\n",
      "Class Accuracy\n",
      "{'Real': 0.8364611260053619, 'RandWaveFake': 0.7740329375718116}\n",
      "\n",
      "Accuracy\n",
      "0.8052470317885867\n"
     ]
    },
    {
     "name": "stderr",
     "output_type": "stream",
     "text": [
      "[NeMo W 2023-06-13 17:37:17 nemo_logging:349] /home/ubuntu/.local/lib/python3.8/site-packages/sklearn/linear_model/_logistic.py:458: ConvergenceWarning: lbfgs failed to converge (status=1):\n",
      "    STOP: TOTAL NO. of ITERATIONS REACHED LIMIT.\n",
      "    \n",
      "    Increase the number of iterations (max_iter) or scale the data as shown in:\n",
      "        https://scikit-learn.org/stable/modules/preprocessing.html\n",
      "    Please also refer to the documentation for alternative solver options:\n",
      "        https://scikit-learn.org/stable/modules/linear_model.html#logistic-regression\n",
      "      n_iter_i = _check_optimize_result(\n",
      "    \n",
      "[NeMo W 2023-06-13 17:37:17 nemo_logging:349] /tmp/ipykernel_1951049/4172940570.py:15: FutureWarning: The frame.append method is deprecated and will be removed from pandas in a future version. Use pandas.concat instead.\n",
      "      results = results.append(pd.DataFrame({'feature_method':[k], 'label_type':[label_type], 'fake_cols':[fake_cols], 'acc':[model_manager.accuracy], 'cls_acc':[model_manager.class_accuracy],  'loss':[model_manager.log_loss_value], 'model':[model]}))\n",
      "    \n",
      "[NeMo W 2023-06-13 17:37:17 nemo_logging:349] /tmp/ipykernel_1951049/4172940570.py:15: FutureWarning: The frame.append method is deprecated and will be removed from pandas in a future version. Use pandas.concat instead.\n",
      "      results = results.append(pd.DataFrame({'feature_method':[k], 'label_type':[label_type], 'fake_cols':[fake_cols], 'acc':[model_manager.accuracy], 'cls_acc':[model_manager.class_accuracy],  'loss':[model_manager.log_loss_value], 'model':[model]}))\n",
      "    \n"
     ]
    },
    {
     "name": "stdout",
     "output_type": "stream",
     "text": [
      "Real\n",
      "RandWaveFake\n",
      "\n",
      "Class Accuracy\n",
      "{'Real': 0.8318651857525852, 'RandWaveFake': 0.7702029873611643}\n",
      "\n",
      "Accuracy\n",
      "0.8010340865568748\n",
      "Real\n",
      "RandWaveFake\n",
      "\n",
      "Class Accuracy\n",
      "{'Real': 0.4412102642665645, 'RandWaveFake': 0.5764075067024129}\n",
      "\n",
      "Accuracy\n",
      "0.5088088854844887\n"
     ]
    },
    {
     "name": "stderr",
     "output_type": "stream",
     "text": [
      "[NeMo W 2023-06-13 17:37:41 nemo_logging:349] /tmp/ipykernel_1951049/4172940570.py:15: FutureWarning: The frame.append method is deprecated and will be removed from pandas in a future version. Use pandas.concat instead.\n",
      "      results = results.append(pd.DataFrame({'feature_method':[k], 'label_type':[label_type], 'fake_cols':[fake_cols], 'acc':[model_manager.accuracy], 'cls_acc':[model_manager.class_accuracy],  'loss':[model_manager.log_loss_value], 'model':[model]}))\n",
      "    \n"
     ]
    },
    {
     "name": "stdout",
     "output_type": "stream",
     "text": [
      "Real\n",
      "RandWaveFake\n",
      "\n",
      "Class Accuracy\n",
      "{'Real': 0.9605515128303332, 'RandWaveFake': 0.9410187667560321}\n",
      "\n",
      "Accuracy\n",
      "0.9507851397931827\n"
     ]
    },
    {
     "name": "stderr",
     "output_type": "stream",
     "text": [
      "[NeMo W 2023-06-13 17:37:48 nemo_logging:349] /tmp/ipykernel_1951049/4172940570.py:15: FutureWarning: The frame.append method is deprecated and will be removed from pandas in a future version. Use pandas.concat instead.\n",
      "      results = results.append(pd.DataFrame({'feature_method':[k], 'label_type':[label_type], 'fake_cols':[fake_cols], 'acc':[model_manager.accuracy], 'cls_acc':[model_manager.class_accuracy],  'loss':[model_manager.log_loss_value], 'model':[model]}))\n",
      "    \n"
     ]
    },
    {
     "name": "stdout",
     "output_type": "stream",
     "text": [
      "Real\n",
      "RandWaveFake\n",
      "\n",
      "Class Accuracy\n",
      "{'Real': 0.9065492148602068, 'RandWaveFake': 0.8682497127537342}\n",
      "\n",
      "Accuracy\n",
      "0.8873994638069705\n"
     ]
    },
    {
     "name": "stderr",
     "output_type": "stream",
     "text": [
      "[NeMo W 2023-06-13 17:37:56 nemo_logging:349] /tmp/ipykernel_1951049/4172940570.py:15: FutureWarning: The frame.append method is deprecated and will be removed from pandas in a future version. Use pandas.concat instead.\n",
      "      results = results.append(pd.DataFrame({'feature_method':[k], 'label_type':[label_type], 'fake_cols':[fake_cols], 'acc':[model_manager.accuracy], 'cls_acc':[model_manager.class_accuracy],  'loss':[model_manager.log_loss_value], 'model':[model]}))\n",
      "    \n"
     ]
    },
    {
     "name": "stdout",
     "output_type": "stream",
     "text": [
      "Real\n",
      "RandWaveFake\n",
      "\n",
      "Class Accuracy\n",
      "{'Real': 0.9011872845653006, 'RandWaveFake': 0.871313672922252}\n",
      "\n",
      "Accuracy\n",
      "0.8862504787437764\n"
     ]
    },
    {
     "name": "stderr",
     "output_type": "stream",
     "text": [
      "[NeMo W 2023-06-13 17:38:02 nemo_logging:349] /tmp/ipykernel_1951049/4172940570.py:15: FutureWarning: The frame.append method is deprecated and will be removed from pandas in a future version. Use pandas.concat instead.\n",
      "      results = results.append(pd.DataFrame({'feature_method':[k], 'label_type':[label_type], 'fake_cols':[fake_cols], 'acc':[model_manager.accuracy], 'cls_acc':[model_manager.class_accuracy],  'loss':[model_manager.log_loss_value], 'model':[model]}))\n",
      "    \n"
     ]
    },
    {
     "name": "stdout",
     "output_type": "stream",
     "text": [
      "Real\n",
      "RandWaveFake\n",
      "\n",
      "Class Accuracy\n",
      "{'Real': 0.5319800842589046, 'RandWaveFake': 0.5124473381846036}\n",
      "\n",
      "Accuracy\n",
      "0.5222137112217541\n"
     ]
    },
    {
     "name": "stderr",
     "output_type": "stream",
     "text": [
      "[NeMo W 2023-06-13 17:38:26 nemo_logging:349] /tmp/ipykernel_1951049/4172940570.py:15: FutureWarning: The frame.append method is deprecated and will be removed from pandas in a future version. Use pandas.concat instead.\n",
      "      results = results.append(pd.DataFrame({'feature_method':[k], 'label_type':[label_type], 'fake_cols':[fake_cols], 'acc':[model_manager.accuracy], 'cls_acc':[model_manager.class_accuracy],  'loss':[model_manager.log_loss_value], 'model':[model]}))\n",
      "    \n"
     ]
    },
    {
     "name": "stdout",
     "output_type": "stream",
     "text": [
      "Real\n",
      "RandWaveFake\n",
      "\n",
      "Class Accuracy\n",
      "{'Real': 0.9601685178092685, 'RandWaveFake': 0.9406357717349675}\n",
      "\n",
      "Accuracy\n",
      "0.9504021447721179\n"
     ]
    },
    {
     "name": "stderr",
     "output_type": "stream",
     "text": [
      "[NeMo W 2023-06-13 17:38:33 nemo_logging:349] /tmp/ipykernel_1951049/4172940570.py:15: FutureWarning: The frame.append method is deprecated and will be removed from pandas in a future version. Use pandas.concat instead.\n",
      "      results = results.append(pd.DataFrame({'feature_method':[k], 'label_type':[label_type], 'fake_cols':[fake_cols], 'acc':[model_manager.accuracy], 'cls_acc':[model_manager.class_accuracy],  'loss':[model_manager.log_loss_value], 'model':[model]}))\n",
      "    \n"
     ]
    },
    {
     "name": "stdout",
     "output_type": "stream",
     "text": [
      "Real\n",
      "RandWaveFake\n",
      "\n",
      "Class Accuracy\n",
      "{'Real': 0.9046342397548832, 'RandWaveFake': 0.86710072769054}\n",
      "\n",
      "Accuracy\n",
      "0.8858674837227116\n"
     ]
    },
    {
     "name": "stderr",
     "output_type": "stream",
     "text": [
      "[NeMo W 2023-06-13 17:38:41 nemo_logging:349] /tmp/ipykernel_1951049/4172940570.py:15: FutureWarning: The frame.append method is deprecated and will be removed from pandas in a future version. Use pandas.concat instead.\n",
      "      results = results.append(pd.DataFrame({'feature_method':[k], 'label_type':[label_type], 'fake_cols':[fake_cols], 'acc':[model_manager.accuracy], 'cls_acc':[model_manager.class_accuracy],  'loss':[model_manager.log_loss_value], 'model':[model]}))\n",
      "    \n"
     ]
    },
    {
     "name": "stdout",
     "output_type": "stream",
     "text": [
      "Real\n",
      "RandWaveFake\n",
      "\n",
      "Class Accuracy\n",
      "{'Real': 0.8996553044810417, 'RandWaveFake': 0.8743776330907698}\n",
      "\n",
      "Accuracy\n",
      "0.8870164687859058\n"
     ]
    },
    {
     "name": "stderr",
     "output_type": "stream",
     "text": [
      "[NeMo W 2023-06-13 17:38:47 nemo_logging:349] /tmp/ipykernel_1951049/4172940570.py:15: FutureWarning: The frame.append method is deprecated and will be removed from pandas in a future version. Use pandas.concat instead.\n",
      "      results = results.append(pd.DataFrame({'feature_method':[k], 'label_type':[label_type], 'fake_cols':[fake_cols], 'acc':[model_manager.accuracy], 'cls_acc':[model_manager.class_accuracy],  'loss':[model_manager.log_loss_value], 'model':[model]}))\n",
      "    \n"
     ]
    },
    {
     "name": "stdout",
     "output_type": "stream",
     "text": [
      "Real\n",
      "RandWaveFake\n",
      "\n",
      "Class Accuracy\n",
      "{'Real': 0.5354270394484871, 'RandWaveFake': 0.5009574875526618}\n",
      "\n",
      "Accuracy\n",
      "0.5181922635005745\n"
     ]
    }
   ],
   "source": [
    "file_path = '/home/ubuntu/data/wavefake_data/LJ_metadata_16000KHz.csv'\n",
    "run(['RandWaveFake'], file_path, '16KHz_RandWaveFake_B')"
   ]
  },
  {
   "cell_type": "code",
   "execution_count": 11,
   "id": "c323a8b9-1d03-45f3-9161-f289f2795f23",
   "metadata": {},
   "outputs": [
    {
     "name": "stdout",
     "output_type": "stream",
     "text": [
      "# of Train instances: 23499\n",
      "# of Dev instances: 7833\n",
      "# of Test instances: 7833\n",
      "[NeMo I 2023-06-13 15:54:55 cloud:56] Found existing object /home/ubuntu/.cache/torch/NeMo/NeMo_1.15.0/titanet-l/492c0ab8416139171dc18c21879a9e45/titanet-l.nemo.\n",
      "[NeMo I 2023-06-13 15:54:55 cloud:62] Re-using file from: /home/ubuntu/.cache/torch/NeMo/NeMo_1.15.0/titanet-l/492c0ab8416139171dc18c21879a9e45/titanet-l.nemo\n",
      "[NeMo I 2023-06-13 15:54:55 common:913] Instantiating model from pre-trained checkpoint\n"
     ]
    },
    {
     "name": "stderr",
     "output_type": "stream",
     "text": [
      "[NeMo W 2023-06-13 15:54:56 modelPT:156] If you intend to do training or fine-tuning, please call the ModelPT.setup_training_data() method and provide a valid configuration file to setup the train data loader.\n",
      "    Train config : \n",
      "    manifest_filepath: /manifests/combined_fisher_swbd_voxceleb12_librispeech/train.json\n",
      "    sample_rate: 16000\n",
      "    labels: null\n",
      "    batch_size: 64\n",
      "    shuffle: true\n",
      "    time_length: 3\n",
      "    is_tarred: false\n",
      "    tarred_audio_filepaths: null\n",
      "    tarred_shard_strategy: scatter\n",
      "    augmentor:\n",
      "      noise:\n",
      "        manifest_path: /manifests/noise/rir_noise_manifest.json\n",
      "        prob: 0.5\n",
      "        min_snr_db: 0\n",
      "        max_snr_db: 15\n",
      "      speed:\n",
      "        prob: 0.5\n",
      "        sr: 16000\n",
      "        resample_type: kaiser_fast\n",
      "        min_speed_rate: 0.95\n",
      "        max_speed_rate: 1.05\n",
      "    num_workers: 15\n",
      "    pin_memory: true\n",
      "    \n",
      "[NeMo W 2023-06-13 15:54:56 modelPT:163] If you intend to do validation, please call the ModelPT.setup_validation_data() or ModelPT.setup_multiple_validation_data() method and provide a valid configuration file to setup the validation data loader(s). \n",
      "    Validation config : \n",
      "    manifest_filepath: /manifests/combined_fisher_swbd_voxceleb12_librispeech/dev.json\n",
      "    sample_rate: 16000\n",
      "    labels: null\n",
      "    batch_size: 128\n",
      "    shuffle: false\n",
      "    time_length: 3\n",
      "    num_workers: 15\n",
      "    pin_memory: true\n",
      "    \n"
     ]
    },
    {
     "name": "stdout",
     "output_type": "stream",
     "text": [
      "[NeMo I 2023-06-13 15:54:56 label_models:126] Setting angular: true/false in decoder is deprecated and will be removed in 1.13 version, use specific loss with _target_\n",
      "[NeMo I 2023-06-13 15:54:56 features:267] PADDING: 16\n",
      "[NeMo I 2023-06-13 15:54:56 save_restore_connector:243] Model EncDecSpeakerLabelModel was successfully restored from /home/ubuntu/.cache/torch/NeMo/NeMo_1.15.0/titanet-l/492c0ab8416139171dc18c21879a9e45/titanet-l.nemo.\n"
     ]
    },
    {
     "name": "stderr",
     "output_type": "stream",
     "text": [
      "100%|██████████| 3/3 [00:00<00:00,  3.64it/s]\n",
      "100%|██████████| 3/3 [00:00<00:00, 29.52it/s]\n",
      "100%|██████████| 3/3 [00:39<00:00, 13.12s/it]\n"
     ]
    },
    {
     "name": "stdout",
     "output_type": "stream",
     "text": [
      "Initializing data...\n",
      "Standardizing features...\n",
      "smileFeatureSelectFromModel object initialized.\n",
      "\n",
      "\n",
      "Selected features:.\n",
      "\n",
      "1. mfcc_sma_de[14]_meanFallingSlope\n",
      "2. mfcc_sma[9]_lpgain\n",
      "3. pcm_fftMag_spectralEntropy_sma_de_lpc1\n",
      "4. mfcc_sma_de[9]_meanRisingSlope\n",
      "5. pcm_fftMag_spectralEntropy_sma_de_lpc4\n",
      "6. mfcc_sma[13]_lpgain\n",
      "7. mfcc_sma[12]_lpgain\n",
      "8. mfcc_sma[14]_quartile2\n",
      "9. mfcc_sma_de[13]_lpgain\n",
      "10. pcm_fftMag_spectralEntropy_sma_upleveltime50\n",
      "11. pcm_fftMag_spectralEntropy_sma_de_lpgain\n",
      "12. mfcc_sma[14]_peakMeanRel\n",
      "13. audspec_lengthL1norm_sma_minPos\n",
      "14. mfcc_sma[14]_rqmean\n",
      "15. mfcc_sma[14]_amean\n",
      "16. pcm_RMSenergy_sma_minPos\n",
      "17. mfcc_sma[14]_quartile1\n",
      "18. mfcc_sma_de[10]_meanPeakDist\n",
      "19. mfcc_sma[6]_lpc0\n",
      "20. mfcc_sma[11]_lpc2\n",
      "Initializing data...\n",
      "Standardizing features...\n",
      "smileFeatureSelectFromModel object initialized.\n",
      "\n",
      "\n",
      "Selected features:.\n",
      "\n",
      "1. mfcc_sma_de[14]_meanFallingSlope\n",
      "2. pcm_fftMag_spectralFlux_sma_minPos\n",
      "3. pcm_fftMag_spectralEntropy_sma_qregerrQ\n",
      "4. pcm_fftMag_spectralEntropy_sma_de_lpc4\n",
      "5. pcm_fftMag_spectralEntropy_sma_linregerrQ\n",
      "6. audspecRasta_lengthL1norm_sma_centroid\n",
      "7. mfcc_sma[13]_lpgain\n",
      "8. mfcc_sma[12]_lpgain\n",
      "9. pcm_fftMag_spectralEntropy_sma_linregc2\n",
      "10. mfcc_sma[8]_lpgain\n",
      "11. pcm_fftMag_spectralEntropy_sma_de_minPos\n",
      "12. audspec_lengthL1norm_sma_de_peakMeanRel\n",
      "13. pcm_fftMag_spectralEntropy_sma_upleveltime75\n",
      "14. pcm_fftMag_spectralEntropy_sma_range\n",
      "15. pcm_fftMag_spectralEntropy_sma_upleveltime50\n",
      "16. pcm_fftMag_spectralEntropy_sma_de_maxPos\n",
      "17. pcm_RMSenergy_sma_minPos\n",
      "18. pcm_fftMag_spectralEntropy_sma_de_range\n",
      "19. pcm_fftMag_spectralEntropy_sma_de_kurtosis\n",
      "20. mfcc_sma_de[8]_lpgain\n"
     ]
    },
    {
     "name": "stderr",
     "output_type": "stream",
     "text": [
      "[NeMo W 2023-06-13 16:02:06 nemo_logging:349] /tmp/ipykernel_1951049/4172940570.py:15: FutureWarning: The frame.append method is deprecated and will be removed from pandas in a future version. Use pandas.concat instead.\n",
      "      results = results.append(pd.DataFrame({'feature_method':[k], 'label_type':[label_type], 'fake_cols':[fake_cols], 'acc':[model_manager.accuracy], 'cls_acc':[model_manager.class_accuracy],  'loss':[model_manager.log_loss_value], 'model':[model]}))\n",
      "    \n",
      "[NeMo W 2023-06-13 16:02:07 nemo_logging:349] /home/ubuntu/.local/lib/python3.8/site-packages/sklearn/linear_model/_logistic.py:458: ConvergenceWarning: lbfgs failed to converge (status=1):\n",
      "    STOP: TOTAL NO. of ITERATIONS REACHED LIMIT.\n",
      "    \n",
      "    Increase the number of iterations (max_iter) or scale the data as shown in:\n",
      "        https://scikit-learn.org/stable/modules/preprocessing.html\n",
      "    Please also refer to the documentation for alternative solver options:\n",
      "        https://scikit-learn.org/stable/modules/linear_model.html#logistic-regression\n",
      "      n_iter_i = _check_optimize_result(\n",
      "    \n",
      "[NeMo W 2023-06-13 16:02:07 nemo_logging:349] /tmp/ipykernel_1951049/4172940570.py:15: FutureWarning: The frame.append method is deprecated and will be removed from pandas in a future version. Use pandas.concat instead.\n",
      "      results = results.append(pd.DataFrame({'feature_method':[k], 'label_type':[label_type], 'fake_cols':[fake_cols], 'acc':[model_manager.accuracy], 'cls_acc':[model_manager.class_accuracy],  'loss':[model_manager.log_loss_value], 'model':[model]}))\n",
      "    \n"
     ]
    },
    {
     "name": "stdout",
     "output_type": "stream",
     "text": [
      "Real\n",
      "UberDuck\n",
      "\n",
      "Class Accuracy\n",
      "{'Real': 0.9969360398314822, 'UberDuck': 0.9994246260069045}\n",
      "\n",
      "Accuracy\n",
      "0.9985942492012779\n",
      "Real\n",
      "UberDuck\n",
      "\n",
      "Class Accuracy\n",
      "{'Real': 0.9402527767139027, 'UberDuck': 0.9628494829567216}\n",
      "\n",
      "Accuracy\n",
      "0.9553172475424486\n"
     ]
    },
    {
     "name": "stderr",
     "output_type": "stream",
     "text": [
      "[NeMo W 2023-06-13 16:02:07 nemo_logging:349] /home/ubuntu/.local/lib/python3.8/site-packages/sklearn/linear_model/_logistic.py:458: ConvergenceWarning: lbfgs failed to converge (status=1):\n",
      "    STOP: TOTAL NO. of ITERATIONS REACHED LIMIT.\n",
      "    \n",
      "    Increase the number of iterations (max_iter) or scale the data as shown in:\n",
      "        https://scikit-learn.org/stable/modules/preprocessing.html\n",
      "    Please also refer to the documentation for alternative solver options:\n",
      "        https://scikit-learn.org/stable/modules/linear_model.html#logistic-regression\n",
      "      n_iter_i = _check_optimize_result(\n",
      "    \n",
      "[NeMo W 2023-06-13 16:02:07 nemo_logging:349] /tmp/ipykernel_1951049/4172940570.py:15: FutureWarning: The frame.append method is deprecated and will be removed from pandas in a future version. Use pandas.concat instead.\n",
      "      results = results.append(pd.DataFrame({'feature_method':[k], 'label_type':[label_type], 'fake_cols':[fake_cols], 'acc':[model_manager.accuracy], 'cls_acc':[model_manager.class_accuracy],  'loss':[model_manager.log_loss_value], 'model':[model]}))\n",
      "    \n",
      "[NeMo W 2023-06-13 16:02:07 nemo_logging:349] /tmp/ipykernel_1951049/4172940570.py:15: FutureWarning: The frame.append method is deprecated and will be removed from pandas in a future version. Use pandas.concat instead.\n",
      "      results = results.append(pd.DataFrame({'feature_method':[k], 'label_type':[label_type], 'fake_cols':[fake_cols], 'acc':[model_manager.accuracy], 'cls_acc':[model_manager.class_accuracy],  'loss':[model_manager.log_loss_value], 'model':[model]}))\n",
      "    \n"
     ]
    },
    {
     "name": "stdout",
     "output_type": "stream",
     "text": [
      "Real\n",
      "UberDuck\n",
      "\n",
      "Class Accuracy\n",
      "{'Real': 0.9099961700497894, 'UberDuck': 0.9448487169666794}\n",
      "\n",
      "Accuracy\n",
      "0.9332312013277161\n",
      "Real\n",
      "UberDuck\n",
      "\n",
      "Class Accuracy\n",
      "{'Real': 0.09689774032937572, 'UberDuck': 0.9546150900038299}\n",
      "\n",
      "Accuracy\n",
      "0.6687093067790119\n"
     ]
    },
    {
     "name": "stderr",
     "output_type": "stream",
     "text": [
      "[NeMo W 2023-06-13 16:02:07 nemo_logging:349] /tmp/ipykernel_1951049/4172940570.py:15: FutureWarning: The frame.append method is deprecated and will be removed from pandas in a future version. Use pandas.concat instead.\n",
      "      results = results.append(pd.DataFrame({'feature_method':[k], 'label_type':[label_type], 'fake_cols':[fake_cols], 'acc':[model_manager.accuracy], 'cls_acc':[model_manager.class_accuracy],  'loss':[model_manager.log_loss_value], 'model':[model]}))\n",
      "    \n"
     ]
    },
    {
     "name": "stdout",
     "output_type": "stream",
     "text": [
      "Real\n",
      "UberDuck\n",
      "ElevenLabs\n",
      "\n",
      "Class Accuracy\n",
      "{'Real': 0.9988510149368058, 'UberDuck': 0.9984668455346877, 'ElevenLabs': 1.0}\n",
      "\n",
      "Accuracy\n",
      "0.9991054313099041\n"
     ]
    },
    {
     "name": "stderr",
     "output_type": "stream",
     "text": [
      "[NeMo W 2023-06-13 16:02:08 nemo_logging:349] /home/ubuntu/.local/lib/python3.8/site-packages/sklearn/linear_model/_logistic.py:458: ConvergenceWarning: lbfgs failed to converge (status=1):\n",
      "    STOP: TOTAL NO. of ITERATIONS REACHED LIMIT.\n",
      "    \n",
      "    Increase the number of iterations (max_iter) or scale the data as shown in:\n",
      "        https://scikit-learn.org/stable/modules/preprocessing.html\n",
      "    Please also refer to the documentation for alternative solver options:\n",
      "        https://scikit-learn.org/stable/modules/linear_model.html#logistic-regression\n",
      "      n_iter_i = _check_optimize_result(\n",
      "    \n",
      "[NeMo W 2023-06-13 16:02:08 nemo_logging:349] /tmp/ipykernel_1951049/4172940570.py:15: FutureWarning: The frame.append method is deprecated and will be removed from pandas in a future version. Use pandas.concat instead.\n",
      "      results = results.append(pd.DataFrame({'feature_method':[k], 'label_type':[label_type], 'fake_cols':[fake_cols], 'acc':[model_manager.accuracy], 'cls_acc':[model_manager.class_accuracy],  'loss':[model_manager.log_loss_value], 'model':[model]}))\n",
      "    \n"
     ]
    },
    {
     "name": "stdout",
     "output_type": "stream",
     "text": [
      "Real\n",
      "UberDuck\n",
      "ElevenLabs\n",
      "\n",
      "Class Accuracy\n",
      "{'Real': 0.9540405974722329, 'UberDuck': 0.9436997319034852, 'ElevenLabs': 0.9835312140942167}\n",
      "\n",
      "Accuracy\n",
      "0.9604238478233116\n"
     ]
    },
    {
     "name": "stderr",
     "output_type": "stream",
     "text": [
      "[NeMo W 2023-06-13 16:02:08 nemo_logging:349] /home/ubuntu/.local/lib/python3.8/site-packages/sklearn/linear_model/_logistic.py:458: ConvergenceWarning: lbfgs failed to converge (status=1):\n",
      "    STOP: TOTAL NO. of ITERATIONS REACHED LIMIT.\n",
      "    \n",
      "    Increase the number of iterations (max_iter) or scale the data as shown in:\n",
      "        https://scikit-learn.org/stable/modules/preprocessing.html\n",
      "    Please also refer to the documentation for alternative solver options:\n",
      "        https://scikit-learn.org/stable/modules/linear_model.html#logistic-regression\n",
      "      n_iter_i = _check_optimize_result(\n",
      "    \n",
      "[NeMo W 2023-06-13 16:02:08 nemo_logging:349] /tmp/ipykernel_1951049/4172940570.py:15: FutureWarning: The frame.append method is deprecated and will be removed from pandas in a future version. Use pandas.concat instead.\n",
      "      results = results.append(pd.DataFrame({'feature_method':[k], 'label_type':[label_type], 'fake_cols':[fake_cols], 'acc':[model_manager.accuracy], 'cls_acc':[model_manager.class_accuracy],  'loss':[model_manager.log_loss_value], 'model':[model]}))\n",
      "    \n"
     ]
    },
    {
     "name": "stdout",
     "output_type": "stream",
     "text": [
      "Real\n",
      "UberDuck\n",
      "ElevenLabs\n",
      "\n",
      "Class Accuracy\n",
      "{'Real': 0.9168900804289544, 'UberDuck': 0.9015702795863654, 'ElevenLabs': 0.9685944082726925}\n",
      "\n",
      "Accuracy\n",
      "0.9290182560960041\n"
     ]
    },
    {
     "name": "stderr",
     "output_type": "stream",
     "text": [
      "[NeMo W 2023-06-13 16:02:08 nemo_logging:349] /tmp/ipykernel_1951049/4172940570.py:15: FutureWarning: The frame.append method is deprecated and will be removed from pandas in a future version. Use pandas.concat instead.\n",
      "      results = results.append(pd.DataFrame({'feature_method':[k], 'label_type':[label_type], 'fake_cols':[fake_cols], 'acc':[model_manager.accuracy], 'cls_acc':[model_manager.class_accuracy],  'loss':[model_manager.log_loss_value], 'model':[model]}))\n",
      "    \n"
     ]
    },
    {
     "name": "stdout",
     "output_type": "stream",
     "text": [
      "Real\n",
      "UberDuck\n",
      "ElevenLabs\n",
      "\n",
      "Class Accuracy\n",
      "{'Real': 0.3466104940635772, 'UberDuck': 0.4346993489084642, 'ElevenLabs': 0.7843738031405592}\n",
      "\n",
      "Accuracy\n",
      "0.5218945487042002\n"
     ]
    },
    {
     "name": "stderr",
     "output_type": "stream",
     "text": [
      "[NeMo W 2023-06-13 16:02:53 nemo_logging:349] /tmp/ipykernel_1951049/4172940570.py:15: FutureWarning: The frame.append method is deprecated and will be removed from pandas in a future version. Use pandas.concat instead.\n",
      "      results = results.append(pd.DataFrame({'feature_method':[k], 'label_type':[label_type], 'fake_cols':[fake_cols], 'acc':[model_manager.accuracy], 'cls_acc':[model_manager.class_accuracy],  'loss':[model_manager.log_loss_value], 'model':[model]}))\n",
      "    \n"
     ]
    },
    {
     "name": "stdout",
     "output_type": "stream",
     "text": [
      "Real\n",
      "UberDuck\n",
      "\n",
      "Class Accuracy\n",
      "{'Real': 0.9988510149368058, 'UberDuck': 0.9978902953586498}\n",
      "\n",
      "Accuracy\n",
      "0.9982108626198083\n"
     ]
    },
    {
     "name": "stderr",
     "output_type": "stream",
     "text": [
      "[NeMo W 2023-06-13 16:03:02 nemo_logging:349] /tmp/ipykernel_1951049/4172940570.py:15: FutureWarning: The frame.append method is deprecated and will be removed from pandas in a future version. Use pandas.concat instead.\n",
      "      results = results.append(pd.DataFrame({'feature_method':[k], 'label_type':[label_type], 'fake_cols':[fake_cols], 'acc':[model_manager.accuracy], 'cls_acc':[model_manager.class_accuracy],  'loss':[model_manager.log_loss_value], 'model':[model]}))\n",
      "    \n"
     ]
    },
    {
     "name": "stdout",
     "output_type": "stream",
     "text": [
      "Real\n",
      "UberDuck\n",
      "\n",
      "Class Accuracy\n",
      "{'Real': 0.9842972041363462, 'UberDuck': 0.9923400995787055}\n",
      "\n",
      "Accuracy\n",
      "0.9896591344312524\n"
     ]
    },
    {
     "name": "stderr",
     "output_type": "stream",
     "text": [
      "[NeMo W 2023-06-13 16:03:12 nemo_logging:349] /tmp/ipykernel_1951049/4172940570.py:15: FutureWarning: The frame.append method is deprecated and will be removed from pandas in a future version. Use pandas.concat instead.\n",
      "      results = results.append(pd.DataFrame({'feature_method':[k], 'label_type':[label_type], 'fake_cols':[fake_cols], 'acc':[model_manager.accuracy], 'cls_acc':[model_manager.class_accuracy],  'loss':[model_manager.log_loss_value], 'model':[model]}))\n",
      "    \n"
     ]
    },
    {
     "name": "stdout",
     "output_type": "stream",
     "text": [
      "Real\n",
      "UberDuck\n",
      "\n",
      "Class Accuracy\n",
      "{'Real': 0.9620834929145922, 'UberDuck': 0.9777862887782459}\n",
      "\n",
      "Accuracy\n",
      "0.9725520234903613\n"
     ]
    },
    {
     "name": "stderr",
     "output_type": "stream",
     "text": [
      "[NeMo W 2023-06-13 16:03:18 nemo_logging:349] /tmp/ipykernel_1951049/4172940570.py:15: FutureWarning: The frame.append method is deprecated and will be removed from pandas in a future version. Use pandas.concat instead.\n",
      "      results = results.append(pd.DataFrame({'feature_method':[k], 'label_type':[label_type], 'fake_cols':[fake_cols], 'acc':[model_manager.accuracy], 'cls_acc':[model_manager.class_accuracy],  'loss':[model_manager.log_loss_value], 'model':[model]}))\n",
      "    \n"
     ]
    },
    {
     "name": "stdout",
     "output_type": "stream",
     "text": [
      "Real\n",
      "UberDuck\n",
      "\n",
      "Class Accuracy\n",
      "{'Real': 0.3106089620834929, 'UberDuck': 0.8356951359632325}\n",
      "\n",
      "Accuracy\n",
      "0.6606664113366526\n"
     ]
    },
    {
     "name": "stderr",
     "output_type": "stream",
     "text": [
      "[NeMo W 2023-06-13 16:03:58 nemo_logging:349] /tmp/ipykernel_1951049/4172940570.py:15: FutureWarning: The frame.append method is deprecated and will be removed from pandas in a future version. Use pandas.concat instead.\n",
      "      results = results.append(pd.DataFrame({'feature_method':[k], 'label_type':[label_type], 'fake_cols':[fake_cols], 'acc':[model_manager.accuracy], 'cls_acc':[model_manager.class_accuracy],  'loss':[model_manager.log_loss_value], 'model':[model]}))\n",
      "    \n"
     ]
    },
    {
     "name": "stdout",
     "output_type": "stream",
     "text": [
      "Real\n",
      "UberDuck\n",
      "ElevenLabs\n",
      "\n",
      "Class Accuracy\n",
      "{'Real': 0.9988510149368058, 'UberDuck': 0.9950172479877347, 'ElevenLabs': 1.0}\n",
      "\n",
      "Accuracy\n",
      "0.9979552715654952\n"
     ]
    },
    {
     "name": "stderr",
     "output_type": "stream",
     "text": [
      "[NeMo W 2023-06-13 16:04:08 nemo_logging:349] /tmp/ipykernel_1951049/4172940570.py:15: FutureWarning: The frame.append method is deprecated and will be removed from pandas in a future version. Use pandas.concat instead.\n",
      "      results = results.append(pd.DataFrame({'feature_method':[k], 'label_type':[label_type], 'fake_cols':[fake_cols], 'acc':[model_manager.accuracy], 'cls_acc':[model_manager.class_accuracy],  'loss':[model_manager.log_loss_value], 'model':[model]}))\n",
      "    \n"
     ]
    },
    {
     "name": "stdout",
     "output_type": "stream",
     "text": [
      "Real\n",
      "UberDuck\n",
      "ElevenLabs\n",
      "\n",
      "Class Accuracy\n",
      "{'Real': 0.9862121792416698, 'UberDuck': 0.9823822290310226, 'ElevenLabs': 0.9977020298736117}\n",
      "\n",
      "Accuracy\n",
      "0.9887654793821014\n"
     ]
    },
    {
     "name": "stderr",
     "output_type": "stream",
     "text": [
      "[NeMo W 2023-06-13 16:04:19 nemo_logging:349] /tmp/ipykernel_1951049/4172940570.py:15: FutureWarning: The frame.append method is deprecated and will be removed from pandas in a future version. Use pandas.concat instead.\n",
      "      results = results.append(pd.DataFrame({'feature_method':[k], 'label_type':[label_type], 'fake_cols':[fake_cols], 'acc':[model_manager.accuracy], 'cls_acc':[model_manager.class_accuracy],  'loss':[model_manager.log_loss_value], 'model':[model]}))\n",
      "    \n"
     ]
    },
    {
     "name": "stdout",
     "output_type": "stream",
     "text": [
      "Real\n",
      "UberDuck\n",
      "ElevenLabs\n",
      "\n",
      "Class Accuracy\n",
      "{'Real': 0.9628494829567216, 'UberDuck': 0.9574875526618154, 'ElevenLabs': 0.9977020298736117}\n",
      "\n",
      "Accuracy\n",
      "0.9726796884973828\n"
     ]
    },
    {
     "name": "stderr",
     "output_type": "stream",
     "text": [
      "[NeMo W 2023-06-13 16:04:25 nemo_logging:349] /tmp/ipykernel_1951049/4172940570.py:15: FutureWarning: The frame.append method is deprecated and will be removed from pandas in a future version. Use pandas.concat instead.\n",
      "      results = results.append(pd.DataFrame({'feature_method':[k], 'label_type':[label_type], 'fake_cols':[fake_cols], 'acc':[model_manager.accuracy], 'cls_acc':[model_manager.class_accuracy],  'loss':[model_manager.log_loss_value], 'model':[model]}))\n",
      "    \n"
     ]
    },
    {
     "name": "stdout",
     "output_type": "stream",
     "text": [
      "Real\n",
      "UberDuck\n",
      "ElevenLabs\n",
      "\n",
      "Class Accuracy\n",
      "{'Real': 0.42857142857142855, 'UberDuck': 0.5093833780160858, 'ElevenLabs': 0.8130984297204137}\n",
      "\n",
      "Accuracy\n",
      "0.5836844121026427\n"
     ]
    }
   ],
   "source": [
    "file_path = '/home/ubuntu/data/wavefake_data/LJ_metadata_16000KHz.csv'\n",
    "run(['UberDuck', 'ElevenLabs'], file_path, '16KHz_ElevenLabs_and_UberDuck')"
   ]
  },
  {
   "cell_type": "code",
   "execution_count": null,
   "id": "a931b19f-1422-4b65-9400-820672682380",
   "metadata": {},
   "outputs": [],
   "source": [
    "file_path = '/home/ubuntu/data/wavefake_data/LJ_metadata_16000KHz.csv'\n",
    "run(['EL_UD_Fake'], file_path, '16KHz_Mix')"
   ]
  },
  {
   "cell_type": "code",
   "execution_count": 12,
   "id": "95bd03da-e36e-4ce6-909c-d519188eb049",
   "metadata": {},
   "outputs": [
    {
     "name": "stdout",
     "output_type": "stream",
     "text": [
      "# of Train instances: 31332\n",
      "# of Dev instances: 10444\n",
      "# of Test instances: 10444\n",
      "[NeMo I 2023-06-13 16:04:26 cloud:56] Found existing object /home/ubuntu/.cache/torch/NeMo/NeMo_1.15.0/titanet-l/492c0ab8416139171dc18c21879a9e45/titanet-l.nemo.\n",
      "[NeMo I 2023-06-13 16:04:26 cloud:62] Re-using file from: /home/ubuntu/.cache/torch/NeMo/NeMo_1.15.0/titanet-l/492c0ab8416139171dc18c21879a9e45/titanet-l.nemo\n",
      "[NeMo I 2023-06-13 16:04:26 common:913] Instantiating model from pre-trained checkpoint\n"
     ]
    },
    {
     "name": "stderr",
     "output_type": "stream",
     "text": [
      "[NeMo W 2023-06-13 16:04:26 modelPT:156] If you intend to do training or fine-tuning, please call the ModelPT.setup_training_data() method and provide a valid configuration file to setup the train data loader.\n",
      "    Train config : \n",
      "    manifest_filepath: /manifests/combined_fisher_swbd_voxceleb12_librispeech/train.json\n",
      "    sample_rate: 16000\n",
      "    labels: null\n",
      "    batch_size: 64\n",
      "    shuffle: true\n",
      "    time_length: 3\n",
      "    is_tarred: false\n",
      "    tarred_audio_filepaths: null\n",
      "    tarred_shard_strategy: scatter\n",
      "    augmentor:\n",
      "      noise:\n",
      "        manifest_path: /manifests/noise/rir_noise_manifest.json\n",
      "        prob: 0.5\n",
      "        min_snr_db: 0\n",
      "        max_snr_db: 15\n",
      "      speed:\n",
      "        prob: 0.5\n",
      "        sr: 16000\n",
      "        resample_type: kaiser_fast\n",
      "        min_speed_rate: 0.95\n",
      "        max_speed_rate: 1.05\n",
      "    num_workers: 15\n",
      "    pin_memory: true\n",
      "    \n",
      "[NeMo W 2023-06-13 16:04:26 modelPT:163] If you intend to do validation, please call the ModelPT.setup_validation_data() or ModelPT.setup_multiple_validation_data() method and provide a valid configuration file to setup the validation data loader(s). \n",
      "    Validation config : \n",
      "    manifest_filepath: /manifests/combined_fisher_swbd_voxceleb12_librispeech/dev.json\n",
      "    sample_rate: 16000\n",
      "    labels: null\n",
      "    batch_size: 128\n",
      "    shuffle: false\n",
      "    time_length: 3\n",
      "    num_workers: 15\n",
      "    pin_memory: true\n",
      "    \n"
     ]
    },
    {
     "name": "stdout",
     "output_type": "stream",
     "text": [
      "[NeMo I 2023-06-13 16:04:26 label_models:126] Setting angular: true/false in decoder is deprecated and will be removed in 1.13 version, use specific loss with _target_\n",
      "[NeMo I 2023-06-13 16:04:26 features:267] PADDING: 16\n",
      "[NeMo I 2023-06-13 16:04:27 save_restore_connector:243] Model EncDecSpeakerLabelModel was successfully restored from /home/ubuntu/.cache/torch/NeMo/NeMo_1.15.0/titanet-l/492c0ab8416139171dc18c21879a9e45/titanet-l.nemo.\n"
     ]
    },
    {
     "name": "stderr",
     "output_type": "stream",
     "text": [
      "100%|██████████| 10/10 [00:03<00:00,  3.11it/s]\n",
      "100%|██████████| 10/10 [00:00<00:00, 24.51it/s]\n",
      "100%|██████████| 10/10 [02:19<00:00, 13.93s/it]\n"
     ]
    },
    {
     "name": "stdout",
     "output_type": "stream",
     "text": [
      "Initializing data...\n",
      "Standardizing features...\n",
      "smileFeatureSelectFromModel object initialized.\n",
      "\n",
      "\n",
      "Selected features:.\n",
      "\n",
      "1. mfcc_sma[9]_lpgain\n",
      "2. jitterLocal_sma_percentile1.0\n",
      "3. mfcc_sma[14]_quartile3\n",
      "4. pcm_fftMag_fband1000-4000_sma_quartile1\n",
      "5. audspec_lengthL1norm_sma_amean\n",
      "6. pcm_fftMag_spectralEntropy_sma_de_lpc1\n",
      "7. audspec_lengthL1norm_sma_rqmean\n",
      "8. pcm_RMSenergy_sma_de_peakMeanRel\n",
      "9. mfcc_sma[13]_lpgain\n",
      "10. jitterDDP_sma_flatness\n",
      "11. mfcc_sma_de[14]_lpgain\n",
      "12. mfcc_sma_de[13]_lpgain\n",
      "13. mfcc_sma_de[6]_lpc0\n",
      "14. pcm_fftMag_spectralEntropy_sma_upleveltime75\n",
      "15. mfcc_sma[14]_amean\n",
      "16. jitterDDP_sma_percentile1.0\n",
      "17. jitterDDP_sma_quartile1\n",
      "18. jitterDDP_sma_quartile2\n",
      "19. mfcc_sma_de[9]_lpgain\n",
      "20. mfcc_sma_de[8]_lpgain\n",
      "Initializing data...\n",
      "Standardizing features...\n",
      "smileFeatureSelectFromModel object initialized.\n",
      "\n",
      "\n",
      "Selected features:.\n",
      "\n",
      "1. mfcc_sma[9]_lpgain\n",
      "2. pcm_fftMag_spectralEntropy_sma_qregerrQ\n",
      "3. mfcc_sma[5]_lpc2\n",
      "4. pcm_fftMag_spectralEntropy_sma_lpc2\n",
      "5. mfcc_sma[13]_lpgain\n",
      "6. jitterDDP_sma_flatness\n",
      "7. mfcc_sma_de[13]_lpgain\n",
      "8. pcm_fftMag_spectralEntropy_sma_upleveltime75\n",
      "9. pcm_fftMag_spectralEntropy_sma_range\n",
      "10. pcm_fftMag_spectralEntropy_sma_upleveltime50\n",
      "11. pcm_fftMag_spectralEntropy_sma_de_maxPos\n",
      "12. pcm_fftMag_spectralEntropy_sma_de_lpgain\n",
      "13. pcm_fftMag_spectralEntropy_sma_peakRangeRel\n",
      "14. audspec_lengthL1norm_sma_minPos\n",
      "15. pcm_fftMag_spectralEntropy_sma_kurtosis\n",
      "16. jitterDDP_sma_percentile1.0\n",
      "17. pcm_fftMag_spectralEntropy_sma_de_range\n",
      "18. jitterDDP_sma_quartile1\n",
      "19. mfcc_sma[11]_lpc2\n",
      "20. pcm_fftMag_spectralEntropy_sma_de_lpc0\n"
     ]
    },
    {
     "name": "stderr",
     "output_type": "stream",
     "text": [
      "[NeMo W 2023-06-13 16:15:57 nemo_logging:349] /tmp/ipykernel_1951049/4172940570.py:15: FutureWarning: The frame.append method is deprecated and will be removed from pandas in a future version. Use pandas.concat instead.\n",
      "      results = results.append(pd.DataFrame({'feature_method':[k], 'label_type':[label_type], 'fake_cols':[fake_cols], 'acc':[model_manager.accuracy], 'cls_acc':[model_manager.class_accuracy],  'loss':[model_manager.log_loss_value], 'model':[model]}))\n",
      "    \n",
      "[NeMo W 2023-06-13 16:15:58 nemo_logging:349] /home/ubuntu/.local/lib/python3.8/site-packages/sklearn/linear_model/_logistic.py:458: ConvergenceWarning: lbfgs failed to converge (status=1):\n",
      "    STOP: TOTAL NO. of ITERATIONS REACHED LIMIT.\n",
      "    \n",
      "    Increase the number of iterations (max_iter) or scale the data as shown in:\n",
      "        https://scikit-learn.org/stable/modules/preprocessing.html\n",
      "    Please also refer to the documentation for alternative solver options:\n",
      "        https://scikit-learn.org/stable/modules/linear_model.html#logistic-regression\n",
      "      n_iter_i = _check_optimize_result(\n",
      "    \n",
      "[NeMo W 2023-06-13 16:15:58 nemo_logging:349] /tmp/ipykernel_1951049/4172940570.py:15: FutureWarning: The frame.append method is deprecated and will be removed from pandas in a future version. Use pandas.concat instead.\n",
      "      results = results.append(pd.DataFrame({'feature_method':[k], 'label_type':[label_type], 'fake_cols':[fake_cols], 'acc':[model_manager.accuracy], 'cls_acc':[model_manager.class_accuracy],  'loss':[model_manager.log_loss_value], 'model':[model]}))\n",
      "    \n"
     ]
    },
    {
     "name": "stdout",
     "output_type": "stream",
     "text": [
      "Real\n",
      "ElevenLabs\n",
      "\n",
      "Class Accuracy\n",
      "{'Real': 0.9276139410187667, 'ElevenLabs': 0.9897737440879458}\n",
      "\n",
      "Accuracy\n",
      "0.9742188997508147\n",
      "Real\n",
      "ElevenLabs\n",
      "\n",
      "Class Accuracy\n",
      "{'Real': 0.7395633856759862, 'ElevenLabs': 0.9267202859696158}\n",
      "\n",
      "Accuracy\n",
      "0.8799310608962083\n"
     ]
    },
    {
     "name": "stderr",
     "output_type": "stream",
     "text": [
      "[NeMo W 2023-06-13 16:15:58 nemo_logging:349] /home/ubuntu/.local/lib/python3.8/site-packages/sklearn/linear_model/_logistic.py:458: ConvergenceWarning: lbfgs failed to converge (status=1):\n",
      "    STOP: TOTAL NO. of ITERATIONS REACHED LIMIT.\n",
      "    \n",
      "    Increase the number of iterations (max_iter) or scale the data as shown in:\n",
      "        https://scikit-learn.org/stable/modules/preprocessing.html\n",
      "    Please also refer to the documentation for alternative solver options:\n",
      "        https://scikit-learn.org/stable/modules/linear_model.html#logistic-regression\n",
      "      n_iter_i = _check_optimize_result(\n",
      "    \n",
      "[NeMo W 2023-06-13 16:15:58 nemo_logging:349] /tmp/ipykernel_1951049/4172940570.py:15: FutureWarning: The frame.append method is deprecated and will be removed from pandas in a future version. Use pandas.concat instead.\n",
      "      results = results.append(pd.DataFrame({'feature_method':[k], 'label_type':[label_type], 'fake_cols':[fake_cols], 'acc':[model_manager.accuracy], 'cls_acc':[model_manager.class_accuracy],  'loss':[model_manager.log_loss_value], 'model':[model]}))\n",
      "    \n",
      "[NeMo W 2023-06-13 16:15:58 nemo_logging:349] /tmp/ipykernel_1951049/4172940570.py:15: FutureWarning: The frame.append method is deprecated and will be removed from pandas in a future version. Use pandas.concat instead.\n",
      "      results = results.append(pd.DataFrame({'feature_method':[k], 'label_type':[label_type], 'fake_cols':[fake_cols], 'acc':[model_manager.accuracy], 'cls_acc':[model_manager.class_accuracy],  'loss':[model_manager.log_loss_value], 'model':[model]}))\n",
      "    \n"
     ]
    },
    {
     "name": "stdout",
     "output_type": "stream",
     "text": [
      "Real\n",
      "ElevenLabs\n",
      "\n",
      "Class Accuracy\n",
      "{'Real': 0.6786671773266948, 'ElevenLabs': 0.926337290948551}\n",
      "\n",
      "Accuracy\n",
      "0.864419762543087\n",
      "Real\n",
      "ElevenLabs\n",
      "\n",
      "Class Accuracy\n",
      "{'Real': 0.0015319800842589046, 'ElevenLabs': 0.9987233499297843}\n",
      "\n",
      "Accuracy\n",
      "0.7494255074684029\n"
     ]
    },
    {
     "name": "stderr",
     "output_type": "stream",
     "text": [
      "[NeMo W 2023-06-13 16:15:59 nemo_logging:349] /home/ubuntu/.local/lib/python3.8/site-packages/sklearn/linear_model/_logistic.py:458: ConvergenceWarning: lbfgs failed to converge (status=1):\n",
      "    STOP: TOTAL NO. of ITERATIONS REACHED LIMIT.\n",
      "    \n",
      "    Increase the number of iterations (max_iter) or scale the data as shown in:\n",
      "        https://scikit-learn.org/stable/modules/preprocessing.html\n",
      "    Please also refer to the documentation for alternative solver options:\n",
      "        https://scikit-learn.org/stable/modules/linear_model.html#logistic-regression\n",
      "      n_iter_i = _check_optimize_result(\n",
      "    \n",
      "[NeMo W 2023-06-13 16:15:59 nemo_logging:349] /tmp/ipykernel_1951049/4172940570.py:15: FutureWarning: The frame.append method is deprecated and will be removed from pandas in a future version. Use pandas.concat instead.\n",
      "      results = results.append(pd.DataFrame({'feature_method':[k], 'label_type':[label_type], 'fake_cols':[fake_cols], 'acc':[model_manager.accuracy], 'cls_acc':[model_manager.class_accuracy],  'loss':[model_manager.log_loss_value], 'model':[model]}))\n",
      "    \n"
     ]
    },
    {
     "name": "stdout",
     "output_type": "stream",
     "text": [
      "Real\n",
      "ElevenLabs\n",
      "UberDuck\n",
      "RandWaveFake\n",
      "\n",
      "Class Accuracy\n",
      "{'Real': 0.967828418230563, 'ElevenLabs': 1.0, 'UberDuck': 0.9980828220858896, 'RandWaveFake': 0.967828418230563}\n",
      "\n",
      "Accuracy\n",
      "0.9834195898025685\n"
     ]
    },
    {
     "name": "stderr",
     "output_type": "stream",
     "text": [
      "[NeMo W 2023-06-13 16:16:00 nemo_logging:349] /home/ubuntu/.local/lib/python3.8/site-packages/sklearn/linear_model/_logistic.py:458: ConvergenceWarning: lbfgs failed to converge (status=1):\n",
      "    STOP: TOTAL NO. of ITERATIONS REACHED LIMIT.\n",
      "    \n",
      "    Increase the number of iterations (max_iter) or scale the data as shown in:\n",
      "        https://scikit-learn.org/stable/modules/preprocessing.html\n",
      "    Please also refer to the documentation for alternative solver options:\n",
      "        https://scikit-learn.org/stable/modules/linear_model.html#logistic-regression\n",
      "      n_iter_i = _check_optimize_result(\n",
      "    \n",
      "[NeMo W 2023-06-13 16:16:00 nemo_logging:349] /tmp/ipykernel_1951049/4172940570.py:15: FutureWarning: The frame.append method is deprecated and will be removed from pandas in a future version. Use pandas.concat instead.\n",
      "      results = results.append(pd.DataFrame({'feature_method':[k], 'label_type':[label_type], 'fake_cols':[fake_cols], 'acc':[model_manager.accuracy], 'cls_acc':[model_manager.class_accuracy],  'loss':[model_manager.log_loss_value], 'model':[model]}))\n",
      "    \n"
     ]
    },
    {
     "name": "stdout",
     "output_type": "stream",
     "text": [
      "Real\n",
      "ElevenLabs\n",
      "UberDuck\n",
      "RandWaveFake\n",
      "\n",
      "Class Accuracy\n",
      "{'Real': 0.7778628877824588, 'ElevenLabs': 0.9823822290310226, 'UberDuck': 0.9126771351972425, 'RandWaveFake': 0.6579854461891995}\n",
      "\n",
      "Accuracy\n",
      "0.8327269245499809\n"
     ]
    },
    {
     "name": "stderr",
     "output_type": "stream",
     "text": [
      "[NeMo W 2023-06-13 16:16:00 nemo_logging:349] /home/ubuntu/.local/lib/python3.8/site-packages/sklearn/linear_model/_logistic.py:458: ConvergenceWarning: lbfgs failed to converge (status=1):\n",
      "    STOP: TOTAL NO. of ITERATIONS REACHED LIMIT.\n",
      "    \n",
      "    Increase the number of iterations (max_iter) or scale the data as shown in:\n",
      "        https://scikit-learn.org/stable/modules/preprocessing.html\n",
      "    Please also refer to the documentation for alternative solver options:\n",
      "        https://scikit-learn.org/stable/modules/linear_model.html#logistic-regression\n",
      "      n_iter_i = _check_optimize_result(\n",
      "    \n",
      "[NeMo W 2023-06-13 16:16:00 nemo_logging:349] /tmp/ipykernel_1951049/4172940570.py:15: FutureWarning: The frame.append method is deprecated and will be removed from pandas in a future version. Use pandas.concat instead.\n",
      "      results = results.append(pd.DataFrame({'feature_method':[k], 'label_type':[label_type], 'fake_cols':[fake_cols], 'acc':[model_manager.accuracy], 'cls_acc':[model_manager.class_accuracy],  'loss':[model_manager.log_loss_value], 'model':[model]}))\n",
      "    \n"
     ]
    },
    {
     "name": "stdout",
     "output_type": "stream",
     "text": [
      "Real\n",
      "ElevenLabs\n",
      "UberDuck\n",
      "RandWaveFake\n",
      "\n",
      "Class Accuracy\n",
      "{'Real': 0.7805438529299119, 'ElevenLabs': 0.9900421294523171, 'UberDuck': 0.9574875526618154, 'RandWaveFake': 0.7234775947912677}\n",
      "\n",
      "Accuracy\n",
      "0.862887782458828\n"
     ]
    },
    {
     "name": "stderr",
     "output_type": "stream",
     "text": [
      "[NeMo W 2023-06-13 16:16:01 nemo_logging:349] /home/ubuntu/.local/lib/python3.8/site-packages/sklearn/linear_model/_logistic.py:458: ConvergenceWarning: lbfgs failed to converge (status=1):\n",
      "    STOP: TOTAL NO. of ITERATIONS REACHED LIMIT.\n",
      "    \n",
      "    Increase the number of iterations (max_iter) or scale the data as shown in:\n",
      "        https://scikit-learn.org/stable/modules/preprocessing.html\n",
      "    Please also refer to the documentation for alternative solver options:\n",
      "        https://scikit-learn.org/stable/modules/linear_model.html#logistic-regression\n",
      "      n_iter_i = _check_optimize_result(\n",
      "    \n",
      "[NeMo W 2023-06-13 16:16:01 nemo_logging:349] /tmp/ipykernel_1951049/4172940570.py:15: FutureWarning: The frame.append method is deprecated and will be removed from pandas in a future version. Use pandas.concat instead.\n",
      "      results = results.append(pd.DataFrame({'feature_method':[k], 'label_type':[label_type], 'fake_cols':[fake_cols], 'acc':[model_manager.accuracy], 'cls_acc':[model_manager.class_accuracy],  'loss':[model_manager.log_loss_value], 'model':[model]}))\n",
      "    \n"
     ]
    },
    {
     "name": "stdout",
     "output_type": "stream",
     "text": [
      "Real\n",
      "ElevenLabs\n",
      "UberDuck\n",
      "RandWaveFake\n",
      "\n",
      "Class Accuracy\n",
      "{'Real': 0.2443508234392953, 'ElevenLabs': 0.779011872845653, 'UberDuck': 0.39065492148602066, 'RandWaveFake': 0.1991574109536576}\n",
      "\n",
      "Accuracy\n",
      "0.4032937571811566\n"
     ]
    },
    {
     "name": "stderr",
     "output_type": "stream",
     "text": [
      "[NeMo W 2023-06-13 16:16:57 nemo_logging:349] /tmp/ipykernel_1951049/4172940570.py:15: FutureWarning: The frame.append method is deprecated and will be removed from pandas in a future version. Use pandas.concat instead.\n",
      "      results = results.append(pd.DataFrame({'feature_method':[k], 'label_type':[label_type], 'fake_cols':[fake_cols], 'acc':[model_manager.accuracy], 'cls_acc':[model_manager.class_accuracy],  'loss':[model_manager.log_loss_value], 'model':[model]}))\n",
      "    \n"
     ]
    },
    {
     "name": "stdout",
     "output_type": "stream",
     "text": [
      "Real\n",
      "ElevenLabs\n",
      "\n",
      "Class Accuracy\n",
      "{'Real': 0.9222520107238605, 'ElevenLabs': 0.985299757126422}\n",
      "\n",
      "Accuracy\n",
      "0.9695227142035653\n"
     ]
    },
    {
     "name": "stderr",
     "output_type": "stream",
     "text": [
      "[NeMo W 2023-06-13 16:17:10 nemo_logging:349] /tmp/ipykernel_1951049/4172940570.py:15: FutureWarning: The frame.append method is deprecated and will be removed from pandas in a future version. Use pandas.concat instead.\n",
      "      results = results.append(pd.DataFrame({'feature_method':[k], 'label_type':[label_type], 'fake_cols':[fake_cols], 'acc':[model_manager.accuracy], 'cls_acc':[model_manager.class_accuracy],  'loss':[model_manager.log_loss_value], 'model':[model]}))\n",
      "    \n"
     ]
    },
    {
     "name": "stdout",
     "output_type": "stream",
     "text": [
      "Real\n",
      "ElevenLabs\n",
      "\n",
      "Class Accuracy\n",
      "{'Real': 0.86710072769054, 'ElevenLabs': 0.9544235924932976}\n",
      "\n",
      "Accuracy\n",
      "0.9325928762926082\n"
     ]
    },
    {
     "name": "stderr",
     "output_type": "stream",
     "text": [
      "[NeMo W 2023-06-13 16:17:23 nemo_logging:349] /tmp/ipykernel_1951049/4172940570.py:15: FutureWarning: The frame.append method is deprecated and will be removed from pandas in a future version. Use pandas.concat instead.\n",
      "      results = results.append(pd.DataFrame({'feature_method':[k], 'label_type':[label_type], 'fake_cols':[fake_cols], 'acc':[model_manager.accuracy], 'cls_acc':[model_manager.class_accuracy],  'loss':[model_manager.log_loss_value], 'model':[model]}))\n",
      "    \n"
     ]
    },
    {
     "name": "stdout",
     "output_type": "stream",
     "text": [
      "Real\n",
      "ElevenLabs\n",
      "\n",
      "Class Accuracy\n",
      "{'Real': 0.8395250861738798, 'ElevenLabs': 0.9505936422826503}\n",
      "\n",
      "Accuracy\n",
      "0.9228265032554577\n",
      "Real\n",
      "ElevenLabs\n"
     ]
    },
    {
     "name": "stderr",
     "output_type": "stream",
     "text": [
      "[NeMo W 2023-06-13 16:17:33 nemo_logging:349] /tmp/ipykernel_1951049/4172940570.py:15: FutureWarning: The frame.append method is deprecated and will be removed from pandas in a future version. Use pandas.concat instead.\n",
      "      results = results.append(pd.DataFrame({'feature_method':[k], 'label_type':[label_type], 'fake_cols':[fake_cols], 'acc':[model_manager.accuracy], 'cls_acc':[model_manager.class_accuracy],  'loss':[model_manager.log_loss_value], 'model':[model]}))\n",
      "    \n"
     ]
    },
    {
     "name": "stdout",
     "output_type": "stream",
     "text": [
      "\n",
      "Class Accuracy\n",
      "{'Real': 0.0674071237073918, 'ElevenLabs': 0.9632324779777863}\n",
      "\n",
      "Accuracy\n",
      "0.7392761394101877\n"
     ]
    },
    {
     "name": "stderr",
     "output_type": "stream",
     "text": [
      "[NeMo W 2023-06-13 16:18:29 nemo_logging:349] /tmp/ipykernel_1951049/4172940570.py:15: FutureWarning: The frame.append method is deprecated and will be removed from pandas in a future version. Use pandas.concat instead.\n",
      "      results = results.append(pd.DataFrame({'feature_method':[k], 'label_type':[label_type], 'fake_cols':[fake_cols], 'acc':[model_manager.accuracy], 'cls_acc':[model_manager.class_accuracy],  'loss':[model_manager.log_loss_value], 'model':[model]}))\n",
      "    \n"
     ]
    },
    {
     "name": "stdout",
     "output_type": "stream",
     "text": [
      "Real\n",
      "ElevenLabs\n",
      "UberDuck\n",
      "RandWaveFake\n",
      "\n",
      "Class Accuracy\n",
      "{'Real': 0.9605515128303332, 'ElevenLabs': 1.0, 'UberDuck': 0.995398773006135, 'RandWaveFake': 0.9414017617770969}\n",
      "\n",
      "Accuracy\n",
      "0.9743147402721871\n"
     ]
    },
    {
     "name": "stderr",
     "output_type": "stream",
     "text": [
      "[NeMo W 2023-06-13 16:18:45 nemo_logging:349] /tmp/ipykernel_1951049/4172940570.py:15: FutureWarning: The frame.append method is deprecated and will be removed from pandas in a future version. Use pandas.concat instead.\n",
      "      results = results.append(pd.DataFrame({'feature_method':[k], 'label_type':[label_type], 'fake_cols':[fake_cols], 'acc':[model_manager.accuracy], 'cls_acc':[model_manager.class_accuracy],  'loss':[model_manager.log_loss_value], 'model':[model]}))\n",
      "    \n"
     ]
    },
    {
     "name": "stdout",
     "output_type": "stream",
     "text": [
      "Real\n",
      "ElevenLabs\n",
      "UberDuck\n",
      "RandWaveFake\n",
      "\n",
      "Class Accuracy\n",
      "{'Real': 0.8858674837227116, 'ElevenLabs': 0.9984680199157411, 'UberDuck': 0.9571045576407506, 'RandWaveFake': 0.8261202604366144}\n",
      "\n",
      "Accuracy\n",
      "0.9168900804289544\n"
     ]
    },
    {
     "name": "stderr",
     "output_type": "stream",
     "text": [
      "[NeMo W 2023-06-13 16:19:00 nemo_logging:349] /tmp/ipykernel_1951049/4172940570.py:15: FutureWarning: The frame.append method is deprecated and will be removed from pandas in a future version. Use pandas.concat instead.\n",
      "      results = results.append(pd.DataFrame({'feature_method':[k], 'label_type':[label_type], 'fake_cols':[fake_cols], 'acc':[model_manager.accuracy], 'cls_acc':[model_manager.class_accuracy],  'loss':[model_manager.log_loss_value], 'model':[model]}))\n",
      "    \n"
     ]
    },
    {
     "name": "stdout",
     "output_type": "stream",
     "text": [
      "Real\n",
      "ElevenLabs\n",
      "UberDuck\n",
      "RandWaveFake\n",
      "\n",
      "Class Accuracy\n",
      "{'Real': 0.872845653006511, 'ElevenLabs': 0.9977020298736117, 'UberDuck': 0.9613175028724626, 'RandWaveFake': 0.8360781309842972}\n",
      "\n",
      "Accuracy\n",
      "0.9169858291842206\n",
      "Real\n",
      "ElevenLabs\n",
      "UberDuck\n",
      "RandWaveFake\n"
     ]
    },
    {
     "name": "stderr",
     "output_type": "stream",
     "text": [
      "[NeMo W 2023-06-13 16:19:09 nemo_logging:349] /tmp/ipykernel_1951049/4172940570.py:15: FutureWarning: The frame.append method is deprecated and will be removed from pandas in a future version. Use pandas.concat instead.\n",
      "      results = results.append(pd.DataFrame({'feature_method':[k], 'label_type':[label_type], 'fake_cols':[fake_cols], 'acc':[model_manager.accuracy], 'cls_acc':[model_manager.class_accuracy],  'loss':[model_manager.log_loss_value], 'model':[model]}))\n",
      "    \n"
     ]
    },
    {
     "name": "stdout",
     "output_type": "stream",
     "text": [
      "\n",
      "Class Accuracy\n",
      "{'Real': 0.2799693603983148, 'ElevenLabs': 0.7786288778245882, 'UberDuck': 0.4128686327077748, 'RandWaveFake': 0.28456530065109154}\n",
      "\n",
      "Accuracy\n",
      "0.4390080428954424\n"
     ]
    }
   ],
   "source": [
    "file_path = '/home/ubuntu/data/wavefake_data/LJ_metadata_16000KHz.csv'\n",
    "run(['ElevenLabs', 'UberDuck', 'RandWaveFake'], file_path, '16KHz_Mix')"
   ]
  },
  {
   "cell_type": "code",
   "execution_count": 31,
   "id": "8c59f1ae-5207-4a9d-b292-25074edc4bb6",
   "metadata": {},
   "outputs": [
    {
     "name": "stdout",
     "output_type": "stream",
     "text": [
      "# of Train instances: 15666\n",
      "# of Dev instances: 5222\n",
      "# of Test instances: 5222\n",
      "[NeMo I 2023-06-15 07:13:21 cloud:56] Found existing object /home/ubuntu/.cache/torch/NeMo/NeMo_1.15.0/titanet-l/492c0ab8416139171dc18c21879a9e45/titanet-l.nemo.\n",
      "[NeMo I 2023-06-15 07:13:21 cloud:62] Re-using file from: /home/ubuntu/.cache/torch/NeMo/NeMo_1.15.0/titanet-l/492c0ab8416139171dc18c21879a9e45/titanet-l.nemo\n",
      "[NeMo I 2023-06-15 07:13:21 common:913] Instantiating model from pre-trained checkpoint\n"
     ]
    },
    {
     "name": "stderr",
     "output_type": "stream",
     "text": [
      "[NeMo W 2023-06-15 07:13:22 modelPT:156] If you intend to do training or fine-tuning, please call the ModelPT.setup_training_data() method and provide a valid configuration file to setup the train data loader.\n",
      "    Train config : \n",
      "    manifest_filepath: /manifests/combined_fisher_swbd_voxceleb12_librispeech/train.json\n",
      "    sample_rate: 16000\n",
      "    labels: null\n",
      "    batch_size: 64\n",
      "    shuffle: true\n",
      "    time_length: 3\n",
      "    is_tarred: false\n",
      "    tarred_audio_filepaths: null\n",
      "    tarred_shard_strategy: scatter\n",
      "    augmentor:\n",
      "      noise:\n",
      "        manifest_path: /manifests/noise/rir_noise_manifest.json\n",
      "        prob: 0.5\n",
      "        min_snr_db: 0\n",
      "        max_snr_db: 15\n",
      "      speed:\n",
      "        prob: 0.5\n",
      "        sr: 16000\n",
      "        resample_type: kaiser_fast\n",
      "        min_speed_rate: 0.95\n",
      "        max_speed_rate: 1.05\n",
      "    num_workers: 15\n",
      "    pin_memory: true\n",
      "    \n",
      "[NeMo W 2023-06-15 07:13:22 modelPT:163] If you intend to do validation, please call the ModelPT.setup_validation_data() or ModelPT.setup_multiple_validation_data() method and provide a valid configuration file to setup the validation data loader(s). \n",
      "    Validation config : \n",
      "    manifest_filepath: /manifests/combined_fisher_swbd_voxceleb12_librispeech/dev.json\n",
      "    sample_rate: 16000\n",
      "    labels: null\n",
      "    batch_size: 128\n",
      "    shuffle: false\n",
      "    time_length: 3\n",
      "    num_workers: 15\n",
      "    pin_memory: true\n",
      "    \n"
     ]
    },
    {
     "name": "stdout",
     "output_type": "stream",
     "text": [
      "[NeMo I 2023-06-15 07:13:22 label_models:126] Setting angular: true/false in decoder is deprecated and will be removed in 1.13 version, use specific loss with _target_\n",
      "[NeMo I 2023-06-15 07:13:22 features:267] PADDING: 16\n",
      "[NeMo I 2023-06-15 07:13:23 save_restore_connector:243] Model EncDecSpeakerLabelModel was successfully restored from /home/ubuntu/.cache/torch/NeMo/NeMo_1.15.0/titanet-l/492c0ab8416139171dc18c21879a9e45/titanet-l.nemo.\n"
     ]
    },
    {
     "name": "stderr",
     "output_type": "stream",
     "text": [
      "100%|██████████| 3/3 [00:00<00:00,  4.02it/s]\n",
      "100%|██████████| 3/3 [00:00<00:00, 31.03it/s]\n",
      "100%|██████████| 3/3 [00:37<00:00, 12.43s/it]\n"
     ]
    },
    {
     "name": "stdout",
     "output_type": "stream",
     "text": [
      "Initializing data...\n",
      "Standardizing features...\n",
      "smileFeatureSelectFromModel object initialized.\n",
      "\n",
      "\n",
      "Selected features:.\n",
      "\n",
      "1. mfcc_sma[9]_lpgain\n",
      "2. mfcc_sma[12]_meanPeakDist\n",
      "3. pcm_fftMag_spectralEntropy_sma_de_lpc1\n",
      "4. audspec_lengthL1norm_sma_rqmean\n",
      "5. mfcc_sma[5]_lpc2\n",
      "6. mfcc_sma[13]_lpgain\n",
      "7. mfcc_sma[10]_meanPeakDist\n",
      "8. mfcc_sma[14]_quartile2\n",
      "9. mfcc_sma_de[13]_lpgain\n",
      "10. mfcc_sma[10]_lpc2\n",
      "11. pcm_fftMag_spectralEntropy_sma_upleveltime50\n",
      "12. mfcc_sma[14]_rqmean\n",
      "13. mfcc_sma[14]_amean\n",
      "14. pcm_fftMag_spectralEntropy_sma_kurtosis\n",
      "15. mfcc_sma[3]_lpc2\n",
      "16. mfcc_sma[14]_quartile1\n",
      "17. pcm_fftMag_spectralEntropy_sma_de_range\n",
      "18. mfcc_sma_de[10]_meanPeakDist\n",
      "19. mfcc_sma[11]_lpc2\n",
      "20. mfcc_sma_de[12]_meanPeakDist\n",
      "Initializing data...\n",
      "Standardizing features...\n",
      "smileFeatureSelectFromModel object initialized.\n",
      "\n"
     ]
    },
    {
     "name": "stderr",
     "output_type": "stream",
     "text": [
      "[NeMo W 2023-06-15 07:18:23 nemo_logging:349] /tmp/ipykernel_1951049/4098438169.py:11: FutureWarning: The frame.append method is deprecated and will be removed from pandas in a future version. Use pandas.concat instead.\n",
      "      results = results.append(pd.DataFrame({'feature_method':[k], 'label_type':[label_type], 'fake_cols':[fake_cols], 'acc':[model_manager.accuracy], 'cls_acc':[model_manager.class_accuracy],  'loss':[model_manager.log_loss_value], 'model':[model]}))\n",
      "    \n"
     ]
    },
    {
     "name": "stdout",
     "output_type": "stream",
     "text": [
      "\n",
      "Selected features:.\n",
      "\n",
      "1. mfcc_sma_de[14]_meanFallingSlope\n",
      "2. mfcc_sma[14]_quartile3\n",
      "3. pcm_fftMag_fband1000-4000_sma_quartile1\n",
      "4. pcm_fftMag_spectralEntropy_sma_de_lpc1\n",
      "5. mfcc_sma_de[9]_meanRisingSlope\n",
      "6. pcm_fftMag_spectralEntropy_sma_de_lpc4\n",
      "7. mfcc_sma[13]_lpgain\n",
      "8. mfcc_sma[8]_lpgain\n",
      "9. mfcc_sma[14]_quartile2\n",
      "10. mfcc_sma_de[13]_lpgain\n",
      "11. pcm_fftMag_spectralEntropy_sma_upleveltime75\n",
      "12. audspec_lengthL1norm_sma_minPos\n",
      "13. mfcc_sma[14]_rqmean\n",
      "14. mfcc_sma[14]_amean\n",
      "15. mfcc_sma[14]_quartile1\n",
      "16. pcm_fftMag_spectralEntropy_sma_de_range\n",
      "17. pcm_fftMag_spectralHarmonicity_sma_de_peakMeanRel\n",
      "18. mfcc_sma[11]_lpc2\n",
      "19. pcm_fftMag_spectralEntropy_sma_lpc0\n",
      "20. pcm_fftMag_spectralEntropy_sma_de_lpc0\n",
      "Real\n",
      "EL_UD_Fake\n"
     ]
    },
    {
     "name": "stderr",
     "output_type": "stream",
     "text": [
      "[NeMo W 2023-06-15 07:18:23 nemo_logging:349] /home/ubuntu/.local/lib/python3.8/site-packages/sklearn/linear_model/_logistic.py:458: ConvergenceWarning: lbfgs failed to converge (status=1):\n",
      "    STOP: TOTAL NO. of ITERATIONS REACHED LIMIT.\n",
      "    \n",
      "    Increase the number of iterations (max_iter) or scale the data as shown in:\n",
      "        https://scikit-learn.org/stable/modules/preprocessing.html\n",
      "    Please also refer to the documentation for alternative solver options:\n",
      "        https://scikit-learn.org/stable/modules/linear_model.html#logistic-regression\n",
      "      n_iter_i = _check_optimize_result(\n",
      "    \n",
      "[NeMo W 2023-06-15 07:18:23 nemo_logging:349] /tmp/ipykernel_1951049/4098438169.py:11: FutureWarning: The frame.append method is deprecated and will be removed from pandas in a future version. Use pandas.concat instead.\n",
      "      results = results.append(pd.DataFrame({'feature_method':[k], 'label_type':[label_type], 'fake_cols':[fake_cols], 'acc':[model_manager.accuracy], 'cls_acc':[model_manager.class_accuracy],  'loss':[model_manager.log_loss_value], 'model':[model]}))\n",
      "    \n",
      "[NeMo W 2023-06-15 07:18:23 nemo_logging:349] /home/ubuntu/.local/lib/python3.8/site-packages/sklearn/linear_model/_logistic.py:458: ConvergenceWarning: lbfgs failed to converge (status=1):\n",
      "    STOP: TOTAL NO. of ITERATIONS REACHED LIMIT.\n",
      "    \n",
      "    Increase the number of iterations (max_iter) or scale the data as shown in:\n",
      "        https://scikit-learn.org/stable/modules/preprocessing.html\n",
      "    Please also refer to the documentation for alternative solver options:\n",
      "        https://scikit-learn.org/stable/modules/linear_model.html#logistic-regression\n",
      "      n_iter_i = _check_optimize_result(\n",
      "    \n",
      "[NeMo W 2023-06-15 07:18:23 nemo_logging:349] /tmp/ipykernel_1951049/4098438169.py:11: FutureWarning: The frame.append method is deprecated and will be removed from pandas in a future version. Use pandas.concat instead.\n",
      "      results = results.append(pd.DataFrame({'feature_method':[k], 'label_type':[label_type], 'fake_cols':[fake_cols], 'acc':[model_manager.accuracy], 'cls_acc':[model_manager.class_accuracy],  'loss':[model_manager.log_loss_value], 'model':[model]}))\n",
      "    \n"
     ]
    },
    {
     "name": "stdout",
     "output_type": "stream",
     "text": [
      "Real\n",
      "EL_UD_Fake\n",
      "Real\n",
      "EL_UD_Fake\n"
     ]
    },
    {
     "name": "stderr",
     "output_type": "stream",
     "text": [
      "[NeMo W 2023-06-15 07:18:23 nemo_logging:349] /tmp/ipykernel_1951049/4098438169.py:11: FutureWarning: The frame.append method is deprecated and will be removed from pandas in a future version. Use pandas.concat instead.\n",
      "      results = results.append(pd.DataFrame({'feature_method':[k], 'label_type':[label_type], 'fake_cols':[fake_cols], 'acc':[model_manager.accuracy], 'cls_acc':[model_manager.class_accuracy],  'loss':[model_manager.log_loss_value], 'model':[model]}))\n",
      "    \n",
      "[NeMo W 2023-06-15 07:18:24 nemo_logging:349] /tmp/ipykernel_1951049/4098438169.py:11: FutureWarning: The frame.append method is deprecated and will be removed from pandas in a future version. Use pandas.concat instead.\n",
      "      results = results.append(pd.DataFrame({'feature_method':[k], 'label_type':[label_type], 'fake_cols':[fake_cols], 'acc':[model_manager.accuracy], 'cls_acc':[model_manager.class_accuracy],  'loss':[model_manager.log_loss_value], 'model':[model]}))\n",
      "    \n"
     ]
    },
    {
     "name": "stdout",
     "output_type": "stream",
     "text": [
      "Real\n",
      "EL_UD_Fake\n",
      "Real\n",
      "EL_UD_Fake\n"
     ]
    },
    {
     "name": "stderr",
     "output_type": "stream",
     "text": [
      "[NeMo W 2023-06-15 07:18:24 nemo_logging:349] /home/ubuntu/.local/lib/python3.8/site-packages/sklearn/linear_model/_logistic.py:458: ConvergenceWarning: lbfgs failed to converge (status=1):\n",
      "    STOP: TOTAL NO. of ITERATIONS REACHED LIMIT.\n",
      "    \n",
      "    Increase the number of iterations (max_iter) or scale the data as shown in:\n",
      "        https://scikit-learn.org/stable/modules/preprocessing.html\n",
      "    Please also refer to the documentation for alternative solver options:\n",
      "        https://scikit-learn.org/stable/modules/linear_model.html#logistic-regression\n",
      "      n_iter_i = _check_optimize_result(\n",
      "    \n",
      "[NeMo W 2023-06-15 07:18:24 nemo_logging:349] /tmp/ipykernel_1951049/4098438169.py:11: FutureWarning: The frame.append method is deprecated and will be removed from pandas in a future version. Use pandas.concat instead.\n",
      "      results = results.append(pd.DataFrame({'feature_method':[k], 'label_type':[label_type], 'fake_cols':[fake_cols], 'acc':[model_manager.accuracy], 'cls_acc':[model_manager.class_accuracy],  'loss':[model_manager.log_loss_value], 'model':[model]}))\n",
      "    \n",
      "[NeMo W 2023-06-15 07:18:24 nemo_logging:349] /home/ubuntu/.local/lib/python3.8/site-packages/sklearn/linear_model/_logistic.py:458: ConvergenceWarning: lbfgs failed to converge (status=1):\n",
      "    STOP: TOTAL NO. of ITERATIONS REACHED LIMIT.\n",
      "    \n",
      "    Increase the number of iterations (max_iter) or scale the data as shown in:\n",
      "        https://scikit-learn.org/stable/modules/preprocessing.html\n",
      "    Please also refer to the documentation for alternative solver options:\n",
      "        https://scikit-learn.org/stable/modules/linear_model.html#logistic-regression\n",
      "      n_iter_i = _check_optimize_result(\n",
      "    \n",
      "[NeMo W 2023-06-15 07:18:24 nemo_logging:349] /tmp/ipykernel_1951049/4098438169.py:11: FutureWarning: The frame.append method is deprecated and will be removed from pandas in a future version. Use pandas.concat instead.\n",
      "      results = results.append(pd.DataFrame({'feature_method':[k], 'label_type':[label_type], 'fake_cols':[fake_cols], 'acc':[model_manager.accuracy], 'cls_acc':[model_manager.class_accuracy],  'loss':[model_manager.log_loss_value], 'model':[model]}))\n",
      "    \n"
     ]
    },
    {
     "name": "stdout",
     "output_type": "stream",
     "text": [
      "Real\n",
      "EL_UD_Fake\n",
      "Real\n",
      "EL_UD_Fake\n"
     ]
    },
    {
     "name": "stderr",
     "output_type": "stream",
     "text": [
      "[NeMo W 2023-06-15 07:18:24 nemo_logging:349] /tmp/ipykernel_1951049/4098438169.py:11: FutureWarning: The frame.append method is deprecated and will be removed from pandas in a future version. Use pandas.concat instead.\n",
      "      results = results.append(pd.DataFrame({'feature_method':[k], 'label_type':[label_type], 'fake_cols':[fake_cols], 'acc':[model_manager.accuracy], 'cls_acc':[model_manager.class_accuracy],  'loss':[model_manager.log_loss_value], 'model':[model]}))\n",
      "    \n"
     ]
    },
    {
     "name": "stdout",
     "output_type": "stream",
     "text": [
      "Real\n",
      "EL_UD_Fake\n"
     ]
    },
    {
     "name": "stderr",
     "output_type": "stream",
     "text": [
      "[NeMo W 2023-06-15 07:18:48 nemo_logging:349] /tmp/ipykernel_1951049/4098438169.py:11: FutureWarning: The frame.append method is deprecated and will be removed from pandas in a future version. Use pandas.concat instead.\n",
      "      results = results.append(pd.DataFrame({'feature_method':[k], 'label_type':[label_type], 'fake_cols':[fake_cols], 'acc':[model_manager.accuracy], 'cls_acc':[model_manager.class_accuracy],  'loss':[model_manager.log_loss_value], 'model':[model]}))\n",
      "    \n"
     ]
    },
    {
     "name": "stdout",
     "output_type": "stream",
     "text": [
      "Real\n",
      "EL_UD_Fake\n"
     ]
    },
    {
     "name": "stderr",
     "output_type": "stream",
     "text": [
      "[NeMo W 2023-06-15 07:18:55 nemo_logging:349] /tmp/ipykernel_1951049/4098438169.py:11: FutureWarning: The frame.append method is deprecated and will be removed from pandas in a future version. Use pandas.concat instead.\n",
      "      results = results.append(pd.DataFrame({'feature_method':[k], 'label_type':[label_type], 'fake_cols':[fake_cols], 'acc':[model_manager.accuracy], 'cls_acc':[model_manager.class_accuracy],  'loss':[model_manager.log_loss_value], 'model':[model]}))\n",
      "    \n"
     ]
    },
    {
     "name": "stdout",
     "output_type": "stream",
     "text": [
      "Real\n",
      "EL_UD_Fake\n"
     ]
    },
    {
     "name": "stderr",
     "output_type": "stream",
     "text": [
      "[NeMo W 2023-06-15 07:19:02 nemo_logging:349] /tmp/ipykernel_1951049/4098438169.py:11: FutureWarning: The frame.append method is deprecated and will be removed from pandas in a future version. Use pandas.concat instead.\n",
      "      results = results.append(pd.DataFrame({'feature_method':[k], 'label_type':[label_type], 'fake_cols':[fake_cols], 'acc':[model_manager.accuracy], 'cls_acc':[model_manager.class_accuracy],  'loss':[model_manager.log_loss_value], 'model':[model]}))\n",
      "    \n"
     ]
    },
    {
     "name": "stdout",
     "output_type": "stream",
     "text": [
      "Real\n",
      "EL_UD_Fake\n"
     ]
    },
    {
     "name": "stderr",
     "output_type": "stream",
     "text": [
      "[NeMo W 2023-06-15 07:19:06 nemo_logging:349] /tmp/ipykernel_1951049/4098438169.py:11: FutureWarning: The frame.append method is deprecated and will be removed from pandas in a future version. Use pandas.concat instead.\n",
      "      results = results.append(pd.DataFrame({'feature_method':[k], 'label_type':[label_type], 'fake_cols':[fake_cols], 'acc':[model_manager.accuracy], 'cls_acc':[model_manager.class_accuracy],  'loss':[model_manager.log_loss_value], 'model':[model]}))\n",
      "    \n"
     ]
    },
    {
     "name": "stdout",
     "output_type": "stream",
     "text": [
      "Real\n",
      "EL_UD_Fake\n"
     ]
    },
    {
     "name": "stderr",
     "output_type": "stream",
     "text": [
      "[NeMo W 2023-06-15 07:19:30 nemo_logging:349] /tmp/ipykernel_1951049/4098438169.py:11: FutureWarning: The frame.append method is deprecated and will be removed from pandas in a future version. Use pandas.concat instead.\n",
      "      results = results.append(pd.DataFrame({'feature_method':[k], 'label_type':[label_type], 'fake_cols':[fake_cols], 'acc':[model_manager.accuracy], 'cls_acc':[model_manager.class_accuracy],  'loss':[model_manager.log_loss_value], 'model':[model]}))\n",
      "    \n"
     ]
    },
    {
     "name": "stdout",
     "output_type": "stream",
     "text": [
      "Real\n",
      "EL_UD_Fake\n"
     ]
    },
    {
     "name": "stderr",
     "output_type": "stream",
     "text": [
      "[NeMo W 2023-06-15 07:19:37 nemo_logging:349] /tmp/ipykernel_1951049/4098438169.py:11: FutureWarning: The frame.append method is deprecated and will be removed from pandas in a future version. Use pandas.concat instead.\n",
      "      results = results.append(pd.DataFrame({'feature_method':[k], 'label_type':[label_type], 'fake_cols':[fake_cols], 'acc':[model_manager.accuracy], 'cls_acc':[model_manager.class_accuracy],  'loss':[model_manager.log_loss_value], 'model':[model]}))\n",
      "    \n"
     ]
    },
    {
     "name": "stdout",
     "output_type": "stream",
     "text": [
      "Real\n",
      "EL_UD_Fake\n"
     ]
    },
    {
     "name": "stderr",
     "output_type": "stream",
     "text": [
      "[NeMo W 2023-06-15 07:19:43 nemo_logging:349] /tmp/ipykernel_1951049/4098438169.py:11: FutureWarning: The frame.append method is deprecated and will be removed from pandas in a future version. Use pandas.concat instead.\n",
      "      results = results.append(pd.DataFrame({'feature_method':[k], 'label_type':[label_type], 'fake_cols':[fake_cols], 'acc':[model_manager.accuracy], 'cls_acc':[model_manager.class_accuracy],  'loss':[model_manager.log_loss_value], 'model':[model]}))\n",
      "    \n"
     ]
    },
    {
     "name": "stdout",
     "output_type": "stream",
     "text": [
      "Real\n",
      "EL_UD_Fake\n"
     ]
    },
    {
     "name": "stderr",
     "output_type": "stream",
     "text": [
      "[NeMo W 2023-06-15 07:19:47 nemo_logging:349] /tmp/ipykernel_1951049/4098438169.py:11: FutureWarning: The frame.append method is deprecated and will be removed from pandas in a future version. Use pandas.concat instead.\n",
      "      results = results.append(pd.DataFrame({'feature_method':[k], 'label_type':[label_type], 'fake_cols':[fake_cols], 'acc':[model_manager.accuracy], 'cls_acc':[model_manager.class_accuracy],  'loss':[model_manager.log_loss_value], 'model':[model]}))\n",
      "    \n"
     ]
    },
    {
     "name": "stdout",
     "output_type": "stream",
     "text": [
      "Real\n",
      "EL_UD_Fake\n"
     ]
    }
   ],
   "source": [
    "file_path = '/home/ubuntu/data/wavefake_data/LJ_metadata_16000KHz.csv'\n",
    "run(['EL_UD_Fake'], file_path, '16KHz_EL_UD_Fake_B')"
   ]
  },
  {
   "cell_type": "code",
   "execution_count": null,
   "id": "169055ad-6fef-4bf4-9ce8-a536286c55ab",
   "metadata": {},
   "outputs": [],
   "source": [
    "file_path = '/home/ubuntu/data/wavefake_data/LJ_metadata_16000KHz.csv'\n",
    "run(['Fake'], file_path, '16KHz_Fake')"
   ]
  },
  {
   "cell_type": "code",
   "execution_count": 15,
   "id": "f0ff1f08-e8c3-4531-bfd3-3cb455946e28",
   "metadata": {},
   "outputs": [
    {
     "name": "stdout",
     "output_type": "stream",
     "text": [
      "# of Train instances: 15664\n",
      "# of Dev instances: 5222\n",
      "# of Test instances: 5222\n",
      "[NeMo I 2023-06-13 16:35:46 cloud:56] Found existing object /home/ubuntu/.cache/torch/NeMo/NeMo_1.15.0/titanet-l/492c0ab8416139171dc18c21879a9e45/titanet-l.nemo.\n",
      "[NeMo I 2023-06-13 16:35:46 cloud:62] Re-using file from: /home/ubuntu/.cache/torch/NeMo/NeMo_1.15.0/titanet-l/492c0ab8416139171dc18c21879a9e45/titanet-l.nemo\n",
      "[NeMo I 2023-06-13 16:35:46 common:913] Instantiating model from pre-trained checkpoint\n"
     ]
    },
    {
     "name": "stderr",
     "output_type": "stream",
     "text": [
      "[NeMo W 2023-06-13 16:35:47 modelPT:156] If you intend to do training or fine-tuning, please call the ModelPT.setup_training_data() method and provide a valid configuration file to setup the train data loader.\n",
      "    Train config : \n",
      "    manifest_filepath: /manifests/combined_fisher_swbd_voxceleb12_librispeech/train.json\n",
      "    sample_rate: 16000\n",
      "    labels: null\n",
      "    batch_size: 64\n",
      "    shuffle: true\n",
      "    time_length: 3\n",
      "    is_tarred: false\n",
      "    tarred_audio_filepaths: null\n",
      "    tarred_shard_strategy: scatter\n",
      "    augmentor:\n",
      "      noise:\n",
      "        manifest_path: /manifests/noise/rir_noise_manifest.json\n",
      "        prob: 0.5\n",
      "        min_snr_db: 0\n",
      "        max_snr_db: 15\n",
      "      speed:\n",
      "        prob: 0.5\n",
      "        sr: 16000\n",
      "        resample_type: kaiser_fast\n",
      "        min_speed_rate: 0.95\n",
      "        max_speed_rate: 1.05\n",
      "    num_workers: 15\n",
      "    pin_memory: true\n",
      "    \n",
      "[NeMo W 2023-06-13 16:35:47 modelPT:163] If you intend to do validation, please call the ModelPT.setup_validation_data() or ModelPT.setup_multiple_validation_data() method and provide a valid configuration file to setup the validation data loader(s). \n",
      "    Validation config : \n",
      "    manifest_filepath: /manifests/combined_fisher_swbd_voxceleb12_librispeech/dev.json\n",
      "    sample_rate: 16000\n",
      "    labels: null\n",
      "    batch_size: 128\n",
      "    shuffle: false\n",
      "    time_length: 3\n",
      "    num_workers: 15\n",
      "    pin_memory: true\n",
      "    \n"
     ]
    },
    {
     "name": "stdout",
     "output_type": "stream",
     "text": [
      "[NeMo I 2023-06-13 16:35:47 label_models:126] Setting angular: true/false in decoder is deprecated and will be removed in 1.13 version, use specific loss with _target_\n",
      "[NeMo I 2023-06-13 16:35:47 features:267] PADDING: 16\n",
      "[NeMo I 2023-06-13 16:35:47 save_restore_connector:243] Model EncDecSpeakerLabelModel was successfully restored from /home/ubuntu/.cache/torch/NeMo/NeMo_1.15.0/titanet-l/492c0ab8416139171dc18c21879a9e45/titanet-l.nemo.\n"
     ]
    },
    {
     "name": "stderr",
     "output_type": "stream",
     "text": [
      "100%|██████████| 2/2 [00:00<00:00,  3.14it/s]\n",
      "100%|██████████| 2/2 [00:00<00:00, 30.64it/s]\n",
      "100%|██████████| 2/2 [00:28<00:00, 14.20s/it]\n"
     ]
    },
    {
     "name": "stdout",
     "output_type": "stream",
     "text": [
      "Initializing data...\n",
      "Standardizing features...\n",
      "smileFeatureSelectFromModel object initialized.\n",
      "\n",
      "\n",
      "Selected features:.\n",
      "\n",
      "1. audSpec_Rfilt_sma[2]_linregc1\n",
      "2. audspecRasta_lengthL1norm_sma_linregc1\n",
      "3. audSpec_Rfilt_sma[4]_qregc2\n",
      "4. pcm_RMSenergy_sma_de_lpc4\n",
      "5. pcm_fftMag_spectralFlux_sma_de_peakMeanRel\n",
      "6. audSpec_Rfilt_sma[4]_maxPos\n",
      "7. pcm_RMSenergy_sma_de_peakMeanRel\n",
      "8. pcm_fftMag_spectralSlope_sma_upleveltime90\n",
      "9. audSpec_Rfilt_sma_de[1]_maxPos\n",
      "10. audSpec_Rfilt_sma[3]_linregc1\n",
      "11. audSpec_Rfilt_sma[1]_linregc1\n",
      "12. audSpec_Rfilt_sma[4]_centroid\n",
      "13. pcm_fftMag_spectralSlope_sma_peakMeanRel\n",
      "14. audspec_lengthL1norm_sma_minPos\n",
      "15. audSpec_Rfilt_sma[1]_centroid\n",
      "16. audspecRasta_lengthL1norm_sma_qregc2\n",
      "17. audSpec_Rfilt_sma[3]_qregc2\n",
      "18. audSpec_Rfilt_sma[5]_qregc1\n",
      "19. pcm_fftMag_spectralHarmonicity_sma_de_peakMeanRel\n",
      "20. audspecRasta_lengthL1norm_sma_qregc1\n",
      "Initializing data...\n",
      "Standardizing features...\n",
      "smileFeatureSelectFromModel object initialized.\n",
      "\n"
     ]
    },
    {
     "name": "stderr",
     "output_type": "stream",
     "text": [
      "[NeMo W 2023-06-13 16:40:34 nemo_logging:349] /tmp/ipykernel_1951049/4172940570.py:15: FutureWarning: The frame.append method is deprecated and will be removed from pandas in a future version. Use pandas.concat instead.\n",
      "      results = results.append(pd.DataFrame({'feature_method':[k], 'label_type':[label_type], 'fake_cols':[fake_cols], 'acc':[model_manager.accuracy], 'cls_acc':[model_manager.class_accuracy],  'loss':[model_manager.log_loss_value], 'model':[model]}))\n",
      "    \n"
     ]
    },
    {
     "name": "stdout",
     "output_type": "stream",
     "text": [
      "\n",
      "Selected features:.\n",
      "\n",
      "1. audSpec_Rfilt_sma[2]_qregc2\n",
      "2. audSpec_Rfilt_sma[5]_linregc1\n",
      "3. audSpec_Rfilt_sma[2]_linregc1\n",
      "4. pcm_fftMag_spectralSlope_sma_percentile99.0\n",
      "5. audspecRasta_lengthL1norm_sma_linregc1\n",
      "6. audSpec_Rfilt_sma[4]_qregc2\n",
      "7. audSpec_Rfilt_sma[4]_qregc1\n",
      "8. audspecRasta_lengthL1norm_sma_maxPos\n",
      "9. pcm_fftMag_spectralFlux_sma_de_peakMeanRel\n",
      "10. audSpec_Rfilt_sma[4]_maxPos\n",
      "11. audSpec_Rfilt_sma[5]_centroid\n",
      "12. pcm_fftMag_spectralSlope_sma_upleveltime90\n",
      "13. mfcc_sma[10]_quartile3\n",
      "14. audSpec_Rfilt_sma[1]_linregc1\n",
      "15. audSpec_Rfilt_sma[4]_linregc1\n",
      "16. audSpec_Rfilt_sma[6]_qregc2\n",
      "17. audSpec_Rfilt_sma[2]_maxPos\n",
      "18. audspecRasta_lengthL1norm_sma_qregc2\n",
      "19. audSpec_Rfilt_sma[5]_qregc1\n",
      "20. audSpec_Rfilt_sma[20]_centroid\n",
      "Real\n",
      "ElevenLabs\n",
      "\n",
      "Class Accuracy\n",
      "{'Real': 0.9586365377250096, 'ElevenLabs': 0.9536576024511682}\n",
      "\n",
      "Accuracy\n",
      "0.9561470700880889\n"
     ]
    },
    {
     "name": "stderr",
     "output_type": "stream",
     "text": [
      "[NeMo W 2023-06-13 16:40:34 nemo_logging:349] /home/ubuntu/.local/lib/python3.8/site-packages/sklearn/linear_model/_logistic.py:458: ConvergenceWarning: lbfgs failed to converge (status=1):\n",
      "    STOP: TOTAL NO. of ITERATIONS REACHED LIMIT.\n",
      "    \n",
      "    Increase the number of iterations (max_iter) or scale the data as shown in:\n",
      "        https://scikit-learn.org/stable/modules/preprocessing.html\n",
      "    Please also refer to the documentation for alternative solver options:\n",
      "        https://scikit-learn.org/stable/modules/linear_model.html#logistic-regression\n",
      "      n_iter_i = _check_optimize_result(\n",
      "    \n",
      "[NeMo W 2023-06-13 16:40:34 nemo_logging:349] /tmp/ipykernel_1951049/4172940570.py:15: FutureWarning: The frame.append method is deprecated and will be removed from pandas in a future version. Use pandas.concat instead.\n",
      "      results = results.append(pd.DataFrame({'feature_method':[k], 'label_type':[label_type], 'fake_cols':[fake_cols], 'acc':[model_manager.accuracy], 'cls_acc':[model_manager.class_accuracy],  'loss':[model_manager.log_loss_value], 'model':[model]}))\n",
      "    \n",
      "[NeMo W 2023-06-13 16:40:35 nemo_logging:349] /home/ubuntu/.local/lib/python3.8/site-packages/sklearn/linear_model/_logistic.py:458: ConvergenceWarning: lbfgs failed to converge (status=1):\n",
      "    STOP: TOTAL NO. of ITERATIONS REACHED LIMIT.\n",
      "    \n",
      "    Increase the number of iterations (max_iter) or scale the data as shown in:\n",
      "        https://scikit-learn.org/stable/modules/preprocessing.html\n",
      "    Please also refer to the documentation for alternative solver options:\n",
      "        https://scikit-learn.org/stable/modules/linear_model.html#logistic-regression\n",
      "      n_iter_i = _check_optimize_result(\n",
      "    \n",
      "[NeMo W 2023-06-13 16:40:35 nemo_logging:349] /tmp/ipykernel_1951049/4172940570.py:15: FutureWarning: The frame.append method is deprecated and will be removed from pandas in a future version. Use pandas.concat instead.\n",
      "      results = results.append(pd.DataFrame({'feature_method':[k], 'label_type':[label_type], 'fake_cols':[fake_cols], 'acc':[model_manager.accuracy], 'cls_acc':[model_manager.class_accuracy],  'loss':[model_manager.log_loss_value], 'model':[model]}))\n",
      "    \n",
      "[NeMo W 2023-06-13 16:40:35 nemo_logging:349] /tmp/ipykernel_1951049/4172940570.py:15: FutureWarning: The frame.append method is deprecated and will be removed from pandas in a future version. Use pandas.concat instead.\n",
      "      results = results.append(pd.DataFrame({'feature_method':[k], 'label_type':[label_type], 'fake_cols':[fake_cols], 'acc':[model_manager.accuracy], 'cls_acc':[model_manager.class_accuracy],  'loss':[model_manager.log_loss_value], 'model':[model]}))\n",
      "    \n"
     ]
    },
    {
     "name": "stdout",
     "output_type": "stream",
     "text": [
      "Real\n",
      "ElevenLabs\n",
      "\n",
      "Class Accuracy\n",
      "{'Real': 0.900804289544236, 'ElevenLabs': 0.9115281501340483}\n",
      "\n",
      "Accuracy\n",
      "0.9061662198391421\n",
      "Real\n",
      "ElevenLabs\n",
      "\n",
      "Class Accuracy\n",
      "{'Real': 0.9237839908081195, 'ElevenLabs': 0.9126771351972425}\n",
      "\n",
      "Accuracy\n",
      "0.9182305630026809\n",
      "Real\n",
      "ElevenLabs\n",
      "\n",
      "Class Accuracy\n",
      "{'Real': 0.7606623181133969, 'ElevenLabs': 0.724761426418885}\n",
      "\n",
      "Accuracy\n",
      "0.7427208835341366\n"
     ]
    },
    {
     "name": "stderr",
     "output_type": "stream",
     "text": [
      "[NeMo W 2023-06-13 16:40:35 nemo_logging:349] /tmp/ipykernel_1951049/4172940570.py:15: FutureWarning: The frame.append method is deprecated and will be removed from pandas in a future version. Use pandas.concat instead.\n",
      "      results = results.append(pd.DataFrame({'feature_method':[k], 'label_type':[label_type], 'fake_cols':[fake_cols], 'acc':[model_manager.accuracy], 'cls_acc':[model_manager.class_accuracy],  'loss':[model_manager.log_loss_value], 'model':[model]}))\n",
      "    \n",
      "[NeMo W 2023-06-13 16:40:35 nemo_logging:349] /home/ubuntu/.local/lib/python3.8/site-packages/sklearn/linear_model/_logistic.py:458: ConvergenceWarning: lbfgs failed to converge (status=1):\n",
      "    STOP: TOTAL NO. of ITERATIONS REACHED LIMIT.\n",
      "    \n",
      "    Increase the number of iterations (max_iter) or scale the data as shown in:\n",
      "        https://scikit-learn.org/stable/modules/preprocessing.html\n",
      "    Please also refer to the documentation for alternative solver options:\n",
      "        https://scikit-learn.org/stable/modules/linear_model.html#logistic-regression\n",
      "      n_iter_i = _check_optimize_result(\n",
      "    \n",
      "[NeMo W 2023-06-13 16:40:35 nemo_logging:349] /tmp/ipykernel_1951049/4172940570.py:15: FutureWarning: The frame.append method is deprecated and will be removed from pandas in a future version. Use pandas.concat instead.\n",
      "      results = results.append(pd.DataFrame({'feature_method':[k], 'label_type':[label_type], 'fake_cols':[fake_cols], 'acc':[model_manager.accuracy], 'cls_acc':[model_manager.class_accuracy],  'loss':[model_manager.log_loss_value], 'model':[model]}))\n",
      "    \n",
      "[NeMo W 2023-06-13 16:40:35 nemo_logging:349] /home/ubuntu/.local/lib/python3.8/site-packages/sklearn/linear_model/_logistic.py:458: ConvergenceWarning: lbfgs failed to converge (status=1):\n",
      "    STOP: TOTAL NO. of ITERATIONS REACHED LIMIT.\n",
      "    \n",
      "    Increase the number of iterations (max_iter) or scale the data as shown in:\n",
      "        https://scikit-learn.org/stable/modules/preprocessing.html\n",
      "    Please also refer to the documentation for alternative solver options:\n",
      "        https://scikit-learn.org/stable/modules/linear_model.html#logistic-regression\n",
      "      n_iter_i = _check_optimize_result(\n",
      "    \n"
     ]
    },
    {
     "name": "stdout",
     "output_type": "stream",
     "text": [
      "Real\n",
      "ElevenLabs\n",
      "\n",
      "Class Accuracy\n",
      "{'Real': 0.9586365377250096, 'ElevenLabs': 0.9536576024511682}\n",
      "\n",
      "Accuracy\n",
      "0.9561470700880889\n",
      "Real\n",
      "ElevenLabs\n",
      "\n",
      "Class Accuracy\n",
      "{'Real': 0.900804289544236, 'ElevenLabs': 0.9115281501340483}\n",
      "\n",
      "Accuracy\n",
      "0.9061662198391421\n",
      "Real\n",
      "ElevenLabs\n"
     ]
    },
    {
     "name": "stderr",
     "output_type": "stream",
     "text": [
      "[NeMo W 2023-06-13 16:40:35 nemo_logging:349] /tmp/ipykernel_1951049/4172940570.py:15: FutureWarning: The frame.append method is deprecated and will be removed from pandas in a future version. Use pandas.concat instead.\n",
      "      results = results.append(pd.DataFrame({'feature_method':[k], 'label_type':[label_type], 'fake_cols':[fake_cols], 'acc':[model_manager.accuracy], 'cls_acc':[model_manager.class_accuracy],  'loss':[model_manager.log_loss_value], 'model':[model]}))\n",
      "    \n",
      "[NeMo W 2023-06-13 16:40:35 nemo_logging:349] /tmp/ipykernel_1951049/4172940570.py:15: FutureWarning: The frame.append method is deprecated and will be removed from pandas in a future version. Use pandas.concat instead.\n",
      "      results = results.append(pd.DataFrame({'feature_method':[k], 'label_type':[label_type], 'fake_cols':[fake_cols], 'acc':[model_manager.accuracy], 'cls_acc':[model_manager.class_accuracy],  'loss':[model_manager.log_loss_value], 'model':[model]}))\n",
      "    \n"
     ]
    },
    {
     "name": "stdout",
     "output_type": "stream",
     "text": [
      "\n",
      "Class Accuracy\n",
      "{'Real': 0.9237839908081195, 'ElevenLabs': 0.9126771351972425}\n",
      "\n",
      "Accuracy\n",
      "0.9182305630026809\n",
      "Real\n",
      "ElevenLabs\n",
      "\n",
      "Class Accuracy\n",
      "{'Real': 0.7606623181133969, 'ElevenLabs': 0.724761426418885}\n",
      "\n",
      "Accuracy\n",
      "0.7427208835341366\n"
     ]
    },
    {
     "name": "stderr",
     "output_type": "stream",
     "text": [
      "[NeMo W 2023-06-13 16:40:57 nemo_logging:349] /tmp/ipykernel_1951049/4172940570.py:15: FutureWarning: The frame.append method is deprecated and will be removed from pandas in a future version. Use pandas.concat instead.\n",
      "      results = results.append(pd.DataFrame({'feature_method':[k], 'label_type':[label_type], 'fake_cols':[fake_cols], 'acc':[model_manager.accuracy], 'cls_acc':[model_manager.class_accuracy],  'loss':[model_manager.log_loss_value], 'model':[model]}))\n",
      "    \n"
     ]
    },
    {
     "name": "stdout",
     "output_type": "stream",
     "text": [
      "Real\n",
      "ElevenLabs\n",
      "\n",
      "Class Accuracy\n",
      "{'Real': 0.9639984680199157, 'ElevenLabs': 0.9513596323247798}\n",
      "\n",
      "Accuracy\n",
      "0.9576790501723478\n"
     ]
    },
    {
     "name": "stderr",
     "output_type": "stream",
     "text": [
      "[NeMo W 2023-06-13 16:41:03 nemo_logging:349] /tmp/ipykernel_1951049/4172940570.py:15: FutureWarning: The frame.append method is deprecated and will be removed from pandas in a future version. Use pandas.concat instead.\n",
      "      results = results.append(pd.DataFrame({'feature_method':[k], 'label_type':[label_type], 'fake_cols':[fake_cols], 'acc':[model_manager.accuracy], 'cls_acc':[model_manager.class_accuracy],  'loss':[model_manager.log_loss_value], 'model':[model]}))\n",
      "    \n"
     ]
    },
    {
     "name": "stdout",
     "output_type": "stream",
     "text": [
      "Real\n",
      "ElevenLabs\n",
      "\n",
      "Class Accuracy\n",
      "{'Real': 0.9429337418613558, 'ElevenLabs': 0.9555725775564917}\n",
      "\n",
      "Accuracy\n",
      "0.9492531597089238\n"
     ]
    },
    {
     "name": "stderr",
     "output_type": "stream",
     "text": [
      "[NeMo W 2023-06-13 16:41:09 nemo_logging:349] /tmp/ipykernel_1951049/4172940570.py:15: FutureWarning: The frame.append method is deprecated and will be removed from pandas in a future version. Use pandas.concat instead.\n",
      "      results = results.append(pd.DataFrame({'feature_method':[k], 'label_type':[label_type], 'fake_cols':[fake_cols], 'acc':[model_manager.accuracy], 'cls_acc':[model_manager.class_accuracy],  'loss':[model_manager.log_loss_value], 'model':[model]}))\n",
      "    \n"
     ]
    },
    {
     "name": "stdout",
     "output_type": "stream",
     "text": [
      "Real\n",
      "ElevenLabs\n",
      "\n",
      "Class Accuracy\n",
      "{'Real': 0.9670624281884336, 'ElevenLabs': 0.9414017617770969}\n",
      "\n",
      "Accuracy\n",
      "0.9542320949827652\n"
     ]
    },
    {
     "name": "stderr",
     "output_type": "stream",
     "text": [
      "[NeMo W 2023-06-13 16:41:12 nemo_logging:349] /tmp/ipykernel_1951049/4172940570.py:15: FutureWarning: The frame.append method is deprecated and will be removed from pandas in a future version. Use pandas.concat instead.\n",
      "      results = results.append(pd.DataFrame({'feature_method':[k], 'label_type':[label_type], 'fake_cols':[fake_cols], 'acc':[model_manager.accuracy], 'cls_acc':[model_manager.class_accuracy],  'loss':[model_manager.log_loss_value], 'model':[model]}))\n",
      "    \n"
     ]
    },
    {
     "name": "stdout",
     "output_type": "stream",
     "text": [
      "Real\n",
      "ElevenLabs\n",
      "\n",
      "Class Accuracy\n",
      "{'Real': 0.7461113898645259, 'ElevenLabs': 0.7624309392265194}\n",
      "\n",
      "Accuracy\n",
      "0.7542670682730924\n"
     ]
    },
    {
     "name": "stderr",
     "output_type": "stream",
     "text": [
      "[NeMo W 2023-06-13 16:41:34 nemo_logging:349] /tmp/ipykernel_1951049/4172940570.py:15: FutureWarning: The frame.append method is deprecated and will be removed from pandas in a future version. Use pandas.concat instead.\n",
      "      results = results.append(pd.DataFrame({'feature_method':[k], 'label_type':[label_type], 'fake_cols':[fake_cols], 'acc':[model_manager.accuracy], 'cls_acc':[model_manager.class_accuracy],  'loss':[model_manager.log_loss_value], 'model':[model]}))\n",
      "    \n"
     ]
    },
    {
     "name": "stdout",
     "output_type": "stream",
     "text": [
      "Real\n",
      "ElevenLabs\n",
      "\n",
      "Class Accuracy\n",
      "{'Real': 0.9662964381463041, 'ElevenLabs': 0.9521256223669092}\n",
      "\n",
      "Accuracy\n",
      "0.9592110302566067\n"
     ]
    },
    {
     "name": "stderr",
     "output_type": "stream",
     "text": [
      "[NeMo W 2023-06-13 16:41:40 nemo_logging:349] /tmp/ipykernel_1951049/4172940570.py:15: FutureWarning: The frame.append method is deprecated and will be removed from pandas in a future version. Use pandas.concat instead.\n",
      "      results = results.append(pd.DataFrame({'feature_method':[k], 'label_type':[label_type], 'fake_cols':[fake_cols], 'acc':[model_manager.accuracy], 'cls_acc':[model_manager.class_accuracy],  'loss':[model_manager.log_loss_value], 'model':[model]}))\n",
      "    \n"
     ]
    },
    {
     "name": "stdout",
     "output_type": "stream",
     "text": [
      "Real\n",
      "ElevenLabs\n",
      "\n",
      "Class Accuracy\n",
      "{'Real': 0.9421677518192263, 'ElevenLabs': 0.9551895825354271}\n",
      "\n",
      "Accuracy\n",
      "0.9486786671773267\n"
     ]
    },
    {
     "name": "stderr",
     "output_type": "stream",
     "text": [
      "[NeMo W 2023-06-13 16:41:46 nemo_logging:349] /tmp/ipykernel_1951049/4172940570.py:15: FutureWarning: The frame.append method is deprecated and will be removed from pandas in a future version. Use pandas.concat instead.\n",
      "      results = results.append(pd.DataFrame({'feature_method':[k], 'label_type':[label_type], 'fake_cols':[fake_cols], 'acc':[model_manager.accuracy], 'cls_acc':[model_manager.class_accuracy],  'loss':[model_manager.log_loss_value], 'model':[model]}))\n",
      "    \n"
     ]
    },
    {
     "name": "stdout",
     "output_type": "stream",
     "text": [
      "Real\n",
      "ElevenLabs\n",
      "\n",
      "Class Accuracy\n",
      "{'Real': 0.9655304481041747, 'ElevenLabs': 0.938337801608579}\n",
      "\n",
      "Accuracy\n",
      "0.9519341248563769\n"
     ]
    },
    {
     "name": "stderr",
     "output_type": "stream",
     "text": [
      "[NeMo W 2023-06-13 16:41:49 nemo_logging:349] /tmp/ipykernel_1951049/4172940570.py:15: FutureWarning: The frame.append method is deprecated and will be removed from pandas in a future version. Use pandas.concat instead.\n",
      "      results = results.append(pd.DataFrame({'feature_method':[k], 'label_type':[label_type], 'fake_cols':[fake_cols], 'acc':[model_manager.accuracy], 'cls_acc':[model_manager.class_accuracy],  'loss':[model_manager.log_loss_value], 'model':[model]}))\n",
      "    \n"
     ]
    },
    {
     "name": "stdout",
     "output_type": "stream",
     "text": [
      "Real\n",
      "ElevenLabs\n",
      "\n",
      "Class Accuracy\n",
      "{'Real': 0.7521324636226794, 'ElevenLabs': 0.7594173782019086}\n",
      "\n",
      "Accuracy\n",
      "0.7557730923694779\n"
     ]
    }
   ],
   "source": [
    "file_path = '/home/ubuntu/data/wavefake_data/LJ_metadata_16KHz_Laundered.csv'\n",
    "run(['ElevenLabs'], file_path, '16KHz_ElevenLabs_Laundered')"
   ]
  },
  {
   "cell_type": "code",
   "execution_count": 16,
   "id": "06322cae-5e05-4df0-a309-d8b77dc96ca6",
   "metadata": {},
   "outputs": [
    {
     "name": "stdout",
     "output_type": "stream",
     "text": [
      "# of Train instances: 15664\n",
      "# of Dev instances: 5222\n",
      "# of Test instances: 5222\n",
      "[NeMo I 2023-06-13 16:41:49 cloud:56] Found existing object /home/ubuntu/.cache/torch/NeMo/NeMo_1.15.0/titanet-l/492c0ab8416139171dc18c21879a9e45/titanet-l.nemo.\n",
      "[NeMo I 2023-06-13 16:41:49 cloud:62] Re-using file from: /home/ubuntu/.cache/torch/NeMo/NeMo_1.15.0/titanet-l/492c0ab8416139171dc18c21879a9e45/titanet-l.nemo\n",
      "[NeMo I 2023-06-13 16:41:49 common:913] Instantiating model from pre-trained checkpoint\n"
     ]
    },
    {
     "name": "stderr",
     "output_type": "stream",
     "text": [
      "[NeMo W 2023-06-13 16:41:50 modelPT:156] If you intend to do training or fine-tuning, please call the ModelPT.setup_training_data() method and provide a valid configuration file to setup the train data loader.\n",
      "    Train config : \n",
      "    manifest_filepath: /manifests/combined_fisher_swbd_voxceleb12_librispeech/train.json\n",
      "    sample_rate: 16000\n",
      "    labels: null\n",
      "    batch_size: 64\n",
      "    shuffle: true\n",
      "    time_length: 3\n",
      "    is_tarred: false\n",
      "    tarred_audio_filepaths: null\n",
      "    tarred_shard_strategy: scatter\n",
      "    augmentor:\n",
      "      noise:\n",
      "        manifest_path: /manifests/noise/rir_noise_manifest.json\n",
      "        prob: 0.5\n",
      "        min_snr_db: 0\n",
      "        max_snr_db: 15\n",
      "      speed:\n",
      "        prob: 0.5\n",
      "        sr: 16000\n",
      "        resample_type: kaiser_fast\n",
      "        min_speed_rate: 0.95\n",
      "        max_speed_rate: 1.05\n",
      "    num_workers: 15\n",
      "    pin_memory: true\n",
      "    \n",
      "[NeMo W 2023-06-13 16:41:50 modelPT:163] If you intend to do validation, please call the ModelPT.setup_validation_data() or ModelPT.setup_multiple_validation_data() method and provide a valid configuration file to setup the validation data loader(s). \n",
      "    Validation config : \n",
      "    manifest_filepath: /manifests/combined_fisher_swbd_voxceleb12_librispeech/dev.json\n",
      "    sample_rate: 16000\n",
      "    labels: null\n",
      "    batch_size: 128\n",
      "    shuffle: false\n",
      "    time_length: 3\n",
      "    num_workers: 15\n",
      "    pin_memory: true\n",
      "    \n"
     ]
    },
    {
     "name": "stdout",
     "output_type": "stream",
     "text": [
      "[NeMo I 2023-06-13 16:41:50 label_models:126] Setting angular: true/false in decoder is deprecated and will be removed in 1.13 version, use specific loss with _target_\n",
      "[NeMo I 2023-06-13 16:41:50 features:267] PADDING: 16\n",
      "[NeMo I 2023-06-13 16:41:51 save_restore_connector:243] Model EncDecSpeakerLabelModel was successfully restored from /home/ubuntu/.cache/torch/NeMo/NeMo_1.15.0/titanet-l/492c0ab8416139171dc18c21879a9e45/titanet-l.nemo.\n"
     ]
    },
    {
     "name": "stderr",
     "output_type": "stream",
     "text": [
      "100%|██████████| 2/2 [00:00<00:00,  3.46it/s]\n",
      "100%|██████████| 2/2 [00:00<00:00, 30.64it/s]\n",
      "100%|██████████| 2/2 [00:27<00:00, 13.52s/it]\n"
     ]
    },
    {
     "name": "stdout",
     "output_type": "stream",
     "text": [
      "Initializing data...\n",
      "Standardizing features...\n",
      "smileFeatureSelectFromModel object initialized.\n",
      "\n",
      "\n",
      "Selected features:.\n",
      "\n",
      "1. mfcc_sma_de[14]_meanFallingSlope\n",
      "2. mfcc_sma[9]_lpgain\n",
      "3. mfcc_sma[14]_quartile3\n",
      "4. mfcc_sma[12]_meanPeakDist\n",
      "5. mfcc_sma_de[9]_meanRisingSlope\n",
      "6. mfcc_sma_de[9]_rqmean\n",
      "7. mfcc_sma[5]_lpc2\n",
      "8. mfcc_sma[14]_peakMeanAbs\n",
      "9. mfcc_sma[13]_peakMeanAbs\n",
      "10. mfcc_sma[13]_lpgain\n",
      "11. mfcc_sma[12]_lpgain\n",
      "12. mfcc_sma_de[13]_meanFallingSlope\n",
      "13. mfcc_sma[8]_lpgain\n",
      "14. mfcc_sma[14]_peakMeanRel\n",
      "15. mfcc_sma[14]_rqmean\n",
      "16. mfcc_sma[14]_amean\n",
      "17. F0final_sma_pctlrange0-1\n",
      "18. mfcc_sma[14]_quartile1\n",
      "19. mfcc_sma[11]_lpc2\n",
      "20. mfcc_sma_de[12]_meanRisingSlope\n",
      "Initializing data...\n",
      "Standardizing features...\n",
      "smileFeatureSelectFromModel object initialized.\n",
      "\n"
     ]
    },
    {
     "name": "stderr",
     "output_type": "stream",
     "text": [
      "[NeMo W 2023-06-13 16:46:35 nemo_logging:349] /tmp/ipykernel_1951049/4172940570.py:15: FutureWarning: The frame.append method is deprecated and will be removed from pandas in a future version. Use pandas.concat instead.\n",
      "      results = results.append(pd.DataFrame({'feature_method':[k], 'label_type':[label_type], 'fake_cols':[fake_cols], 'acc':[model_manager.accuracy], 'cls_acc':[model_manager.class_accuracy],  'loss':[model_manager.log_loss_value], 'model':[model]}))\n",
      "    \n"
     ]
    },
    {
     "name": "stdout",
     "output_type": "stream",
     "text": [
      "\n",
      "Selected features:.\n",
      "\n",
      "1. mfcc_sma[13]_quartile2\n",
      "2. mfcc_sma_de[14]_meanFallingSlope\n",
      "3. mfcc_sma[9]_lpgain\n",
      "4. mfcc_sma[14]_quartile3\n",
      "5. mfcc_sma_de[9]_meanRisingSlope\n",
      "6. mfcc_sma[14]_peakMeanAbs\n",
      "7. mfcc_sma[13]_lpgain\n",
      "8. mfcc_sma_de[13]_meanFallingSlope\n",
      "9. mfcc_sma[14]_quartile2\n",
      "10. mfcc_sma_de[13]_lpgain\n",
      "11. mfcc_sma_de[9]_meanFallingSlope\n",
      "12. mfcc_sma_de[9]_iqr1-3\n",
      "13. mfcc_sma[14]_peakMeanRel\n",
      "14. mfcc_sma[14]_rqmean\n",
      "15. mfcc_sma[14]_amean\n",
      "16. mfcc_sma[14]_quartile1\n",
      "17. mfcc_sma[11]_lpc2\n",
      "18. mfcc_sma_de[12]_meanPeakDist\n",
      "19. mfcc_sma[14]_flatness\n",
      "20. mfcc_sma_de[12]_meanRisingSlope\n",
      "Real\n",
      "UberDuck\n",
      "\n",
      "Class Accuracy\n",
      "{'Real': 0.9268479509766373, 'UberDuck': 0.935656836461126}\n",
      "\n",
      "Accuracy\n",
      "0.9312523937188817\n"
     ]
    },
    {
     "name": "stderr",
     "output_type": "stream",
     "text": [
      "[NeMo W 2023-06-13 16:46:35 nemo_logging:349] /home/ubuntu/.local/lib/python3.8/site-packages/sklearn/linear_model/_logistic.py:458: ConvergenceWarning: lbfgs failed to converge (status=1):\n",
      "    STOP: TOTAL NO. of ITERATIONS REACHED LIMIT.\n",
      "    \n",
      "    Increase the number of iterations (max_iter) or scale the data as shown in:\n",
      "        https://scikit-learn.org/stable/modules/preprocessing.html\n",
      "    Please also refer to the documentation for alternative solver options:\n",
      "        https://scikit-learn.org/stable/modules/linear_model.html#logistic-regression\n",
      "      n_iter_i = _check_optimize_result(\n",
      "    \n",
      "[NeMo W 2023-06-13 16:46:35 nemo_logging:349] /tmp/ipykernel_1951049/4172940570.py:15: FutureWarning: The frame.append method is deprecated and will be removed from pandas in a future version. Use pandas.concat instead.\n",
      "      results = results.append(pd.DataFrame({'feature_method':[k], 'label_type':[label_type], 'fake_cols':[fake_cols], 'acc':[model_manager.accuracy], 'cls_acc':[model_manager.class_accuracy],  'loss':[model_manager.log_loss_value], 'model':[model]}))\n",
      "    \n",
      "[NeMo W 2023-06-13 16:46:35 nemo_logging:349] /home/ubuntu/.local/lib/python3.8/site-packages/sklearn/linear_model/_logistic.py:458: ConvergenceWarning: lbfgs failed to converge (status=1):\n",
      "    STOP: TOTAL NO. of ITERATIONS REACHED LIMIT.\n",
      "    \n",
      "    Increase the number of iterations (max_iter) or scale the data as shown in:\n",
      "        https://scikit-learn.org/stable/modules/preprocessing.html\n",
      "    Please also refer to the documentation for alternative solver options:\n",
      "        https://scikit-learn.org/stable/modules/linear_model.html#logistic-regression\n",
      "      n_iter_i = _check_optimize_result(\n",
      "    \n",
      "[NeMo W 2023-06-13 16:46:35 nemo_logging:349] /tmp/ipykernel_1951049/4172940570.py:15: FutureWarning: The frame.append method is deprecated and will be removed from pandas in a future version. Use pandas.concat instead.\n",
      "      results = results.append(pd.DataFrame({'feature_method':[k], 'label_type':[label_type], 'fake_cols':[fake_cols], 'acc':[model_manager.accuracy], 'cls_acc':[model_manager.class_accuracy],  'loss':[model_manager.log_loss_value], 'model':[model]}))\n",
      "    \n",
      "[NeMo W 2023-06-13 16:46:36 nemo_logging:349] /tmp/ipykernel_1951049/4172940570.py:15: FutureWarning: The frame.append method is deprecated and will be removed from pandas in a future version. Use pandas.concat instead.\n",
      "      results = results.append(pd.DataFrame({'feature_method':[k], 'label_type':[label_type], 'fake_cols':[fake_cols], 'acc':[model_manager.accuracy], 'cls_acc':[model_manager.class_accuracy],  'loss':[model_manager.log_loss_value], 'model':[model]}))\n",
      "    \n"
     ]
    },
    {
     "name": "stdout",
     "output_type": "stream",
     "text": [
      "Real\n",
      "UberDuck\n",
      "\n",
      "Class Accuracy\n",
      "{'Real': 0.8337801608579088, 'UberDuck': 0.7541171964764458}\n",
      "\n",
      "Accuracy\n",
      "0.7939486786671773\n",
      "Real\n",
      "UberDuck\n",
      "\n",
      "Class Accuracy\n",
      "{'Real': 0.864419762543087, 'UberDuck': 0.759479126771352}\n",
      "\n",
      "Accuracy\n",
      "0.8119494446572194\n",
      "Real\n",
      "UberDuck\n",
      "\n",
      "Class Accuracy\n",
      "{'Real': 0.5805168986083499, 'UberDuck': 0.5668179525970751}\n",
      "\n",
      "Accuracy\n",
      "0.5737171464330413\n"
     ]
    },
    {
     "name": "stderr",
     "output_type": "stream",
     "text": [
      "[NeMo W 2023-06-13 16:46:36 nemo_logging:349] /tmp/ipykernel_1951049/4172940570.py:15: FutureWarning: The frame.append method is deprecated and will be removed from pandas in a future version. Use pandas.concat instead.\n",
      "      results = results.append(pd.DataFrame({'feature_method':[k], 'label_type':[label_type], 'fake_cols':[fake_cols], 'acc':[model_manager.accuracy], 'cls_acc':[model_manager.class_accuracy],  'loss':[model_manager.log_loss_value], 'model':[model]}))\n",
      "    \n",
      "[NeMo W 2023-06-13 16:46:36 nemo_logging:349] /home/ubuntu/.local/lib/python3.8/site-packages/sklearn/linear_model/_logistic.py:458: ConvergenceWarning: lbfgs failed to converge (status=1):\n",
      "    STOP: TOTAL NO. of ITERATIONS REACHED LIMIT.\n",
      "    \n",
      "    Increase the number of iterations (max_iter) or scale the data as shown in:\n",
      "        https://scikit-learn.org/stable/modules/preprocessing.html\n",
      "    Please also refer to the documentation for alternative solver options:\n",
      "        https://scikit-learn.org/stable/modules/linear_model.html#logistic-regression\n",
      "      n_iter_i = _check_optimize_result(\n",
      "    \n",
      "[NeMo W 2023-06-13 16:46:36 nemo_logging:349] /tmp/ipykernel_1951049/4172940570.py:15: FutureWarning: The frame.append method is deprecated and will be removed from pandas in a future version. Use pandas.concat instead.\n",
      "      results = results.append(pd.DataFrame({'feature_method':[k], 'label_type':[label_type], 'fake_cols':[fake_cols], 'acc':[model_manager.accuracy], 'cls_acc':[model_manager.class_accuracy],  'loss':[model_manager.log_loss_value], 'model':[model]}))\n",
      "    \n"
     ]
    },
    {
     "name": "stdout",
     "output_type": "stream",
     "text": [
      "Real\n",
      "UberDuck\n",
      "\n",
      "Class Accuracy\n",
      "{'Real': 0.9268479509766373, 'UberDuck': 0.935656836461126}\n",
      "\n",
      "Accuracy\n",
      "0.9312523937188817\n",
      "Real\n",
      "UberDuck\n",
      "\n",
      "Class Accuracy\n",
      "{'Real': 0.8337801608579088, 'UberDuck': 0.7541171964764458}\n",
      "\n",
      "Accuracy\n",
      "0.7939486786671773\n"
     ]
    },
    {
     "name": "stderr",
     "output_type": "stream",
     "text": [
      "[NeMo W 2023-06-13 16:46:36 nemo_logging:349] /home/ubuntu/.local/lib/python3.8/site-packages/sklearn/linear_model/_logistic.py:458: ConvergenceWarning: lbfgs failed to converge (status=1):\n",
      "    STOP: TOTAL NO. of ITERATIONS REACHED LIMIT.\n",
      "    \n",
      "    Increase the number of iterations (max_iter) or scale the data as shown in:\n",
      "        https://scikit-learn.org/stable/modules/preprocessing.html\n",
      "    Please also refer to the documentation for alternative solver options:\n",
      "        https://scikit-learn.org/stable/modules/linear_model.html#logistic-regression\n",
      "      n_iter_i = _check_optimize_result(\n",
      "    \n",
      "[NeMo W 2023-06-13 16:46:36 nemo_logging:349] /tmp/ipykernel_1951049/4172940570.py:15: FutureWarning: The frame.append method is deprecated and will be removed from pandas in a future version. Use pandas.concat instead.\n",
      "      results = results.append(pd.DataFrame({'feature_method':[k], 'label_type':[label_type], 'fake_cols':[fake_cols], 'acc':[model_manager.accuracy], 'cls_acc':[model_manager.class_accuracy],  'loss':[model_manager.log_loss_value], 'model':[model]}))\n",
      "    \n",
      "[NeMo W 2023-06-13 16:46:36 nemo_logging:349] /tmp/ipykernel_1951049/4172940570.py:15: FutureWarning: The frame.append method is deprecated and will be removed from pandas in a future version. Use pandas.concat instead.\n",
      "      results = results.append(pd.DataFrame({'feature_method':[k], 'label_type':[label_type], 'fake_cols':[fake_cols], 'acc':[model_manager.accuracy], 'cls_acc':[model_manager.class_accuracy],  'loss':[model_manager.log_loss_value], 'model':[model]}))\n",
      "    \n"
     ]
    },
    {
     "name": "stdout",
     "output_type": "stream",
     "text": [
      "Real\n",
      "UberDuck\n",
      "\n",
      "Class Accuracy\n",
      "{'Real': 0.864419762543087, 'UberDuck': 0.759479126771352}\n",
      "\n",
      "Accuracy\n",
      "0.8119494446572194\n",
      "Real\n",
      "UberDuck\n",
      "\n",
      "Class Accuracy\n",
      "{'Real': 0.5805168986083499, 'UberDuck': 0.5668179525970751}\n",
      "\n",
      "Accuracy\n",
      "0.5737171464330413\n"
     ]
    },
    {
     "name": "stderr",
     "output_type": "stream",
     "text": [
      "[NeMo W 2023-06-13 16:47:00 nemo_logging:349] /tmp/ipykernel_1951049/4172940570.py:15: FutureWarning: The frame.append method is deprecated and will be removed from pandas in a future version. Use pandas.concat instead.\n",
      "      results = results.append(pd.DataFrame({'feature_method':[k], 'label_type':[label_type], 'fake_cols':[fake_cols], 'acc':[model_manager.accuracy], 'cls_acc':[model_manager.class_accuracy],  'loss':[model_manager.log_loss_value], 'model':[model]}))\n",
      "    \n"
     ]
    },
    {
     "name": "stdout",
     "output_type": "stream",
     "text": [
      "Real\n",
      "UberDuck\n",
      "\n",
      "Class Accuracy\n",
      "{'Real': 0.939869781692838, 'UberDuck': 0.9352738414400613}\n",
      "\n",
      "Accuracy\n",
      "0.9375718115664496\n"
     ]
    },
    {
     "name": "stderr",
     "output_type": "stream",
     "text": [
      "[NeMo W 2023-06-13 16:47:08 nemo_logging:349] /tmp/ipykernel_1951049/4172940570.py:15: FutureWarning: The frame.append method is deprecated and will be removed from pandas in a future version. Use pandas.concat instead.\n",
      "      results = results.append(pd.DataFrame({'feature_method':[k], 'label_type':[label_type], 'fake_cols':[fake_cols], 'acc':[model_manager.accuracy], 'cls_acc':[model_manager.class_accuracy],  'loss':[model_manager.log_loss_value], 'model':[model]}))\n",
      "    \n"
     ]
    },
    {
     "name": "stdout",
     "output_type": "stream",
     "text": [
      "Real\n",
      "UberDuck\n",
      "\n",
      "Class Accuracy\n",
      "{'Real': 0.8605898123324397, 'UberDuck': 0.8540788969743394}\n",
      "\n",
      "Accuracy\n",
      "0.8573343546533895\n"
     ]
    },
    {
     "name": "stderr",
     "output_type": "stream",
     "text": [
      "[NeMo W 2023-06-13 16:47:15 nemo_logging:349] /tmp/ipykernel_1951049/4172940570.py:15: FutureWarning: The frame.append method is deprecated and will be removed from pandas in a future version. Use pandas.concat instead.\n",
      "      results = results.append(pd.DataFrame({'feature_method':[k], 'label_type':[label_type], 'fake_cols':[fake_cols], 'acc':[model_manager.accuracy], 'cls_acc':[model_manager.class_accuracy],  'loss':[model_manager.log_loss_value], 'model':[model]}))\n",
      "    \n"
     ]
    },
    {
     "name": "stdout",
     "output_type": "stream",
     "text": [
      "Real\n",
      "UberDuck\n",
      "\n",
      "Class Accuracy\n",
      "{'Real': 0.8613558023745691, 'UberDuck': 0.8498659517426274}\n",
      "\n",
      "Accuracy\n",
      "0.8556108770585983\n"
     ]
    },
    {
     "name": "stderr",
     "output_type": "stream",
     "text": [
      "[NeMo W 2023-06-13 16:47:19 nemo_logging:349] /tmp/ipykernel_1951049/4172940570.py:15: FutureWarning: The frame.append method is deprecated and will be removed from pandas in a future version. Use pandas.concat instead.\n",
      "      results = results.append(pd.DataFrame({'feature_method':[k], 'label_type':[label_type], 'fake_cols':[fake_cols], 'acc':[model_manager.accuracy], 'cls_acc':[model_manager.class_accuracy],  'loss':[model_manager.log_loss_value], 'model':[model]}))\n",
      "    \n"
     ]
    },
    {
     "name": "stdout",
     "output_type": "stream",
     "text": [
      "Real\n",
      "UberDuck\n",
      "\n",
      "Class Accuracy\n",
      "{'Real': 0.5710735586481114, 'UberDuck': 0.5688350983358548}\n",
      "\n",
      "Accuracy\n",
      "0.5699624530663329\n"
     ]
    },
    {
     "name": "stderr",
     "output_type": "stream",
     "text": [
      "[NeMo W 2023-06-13 16:47:43 nemo_logging:349] /tmp/ipykernel_1951049/4172940570.py:15: FutureWarning: The frame.append method is deprecated and will be removed from pandas in a future version. Use pandas.concat instead.\n",
      "      results = results.append(pd.DataFrame({'feature_method':[k], 'label_type':[label_type], 'fake_cols':[fake_cols], 'acc':[model_manager.accuracy], 'cls_acc':[model_manager.class_accuracy],  'loss':[model_manager.log_loss_value], 'model':[model]}))\n",
      "    \n"
     ]
    },
    {
     "name": "stdout",
     "output_type": "stream",
     "text": [
      "Real\n",
      "UberDuck\n",
      "\n",
      "Class Accuracy\n",
      "{'Real': 0.9379548065875144, 'UberDuck': 0.9429337418613558}\n",
      "\n",
      "Accuracy\n",
      "0.9404442742244351\n"
     ]
    },
    {
     "name": "stderr",
     "output_type": "stream",
     "text": [
      "[NeMo W 2023-06-13 16:47:51 nemo_logging:349] /tmp/ipykernel_1951049/4172940570.py:15: FutureWarning: The frame.append method is deprecated and will be removed from pandas in a future version. Use pandas.concat instead.\n",
      "      results = results.append(pd.DataFrame({'feature_method':[k], 'label_type':[label_type], 'fake_cols':[fake_cols], 'acc':[model_manager.accuracy], 'cls_acc':[model_manager.class_accuracy],  'loss':[model_manager.log_loss_value], 'model':[model]}))\n",
      "    \n"
     ]
    },
    {
     "name": "stdout",
     "output_type": "stream",
     "text": [
      "Real\n",
      "UberDuck\n",
      "\n",
      "Class Accuracy\n",
      "{'Real': 0.8582918422060514, 'UberDuck': 0.8559938720796629}\n",
      "\n",
      "Accuracy\n",
      "0.8571428571428571\n"
     ]
    },
    {
     "name": "stderr",
     "output_type": "stream",
     "text": [
      "[NeMo W 2023-06-13 16:47:58 nemo_logging:349] /tmp/ipykernel_1951049/4172940570.py:15: FutureWarning: The frame.append method is deprecated and will be removed from pandas in a future version. Use pandas.concat instead.\n",
      "      results = results.append(pd.DataFrame({'feature_method':[k], 'label_type':[label_type], 'fake_cols':[fake_cols], 'acc':[model_manager.accuracy], 'cls_acc':[model_manager.class_accuracy],  'loss':[model_manager.log_loss_value], 'model':[model]}))\n",
      "    \n"
     ]
    },
    {
     "name": "stdout",
     "output_type": "stream",
     "text": [
      "Real\n",
      "UberDuck\n",
      "\n",
      "Class Accuracy\n",
      "{'Real': 0.8567598621217924, 'UberDuck': 0.8460360015319801}\n",
      "\n",
      "Accuracy\n",
      "0.8513979318268863\n"
     ]
    },
    {
     "name": "stderr",
     "output_type": "stream",
     "text": [
      "[NeMo W 2023-06-13 16:48:02 nemo_logging:349] /tmp/ipykernel_1951049/4172940570.py:15: FutureWarning: The frame.append method is deprecated and will be removed from pandas in a future version. Use pandas.concat instead.\n",
      "      results = results.append(pd.DataFrame({'feature_method':[k], 'label_type':[label_type], 'fake_cols':[fake_cols], 'acc':[model_manager.accuracy], 'cls_acc':[model_manager.class_accuracy],  'loss':[model_manager.log_loss_value], 'model':[model]}))\n",
      "    \n"
     ]
    },
    {
     "name": "stdout",
     "output_type": "stream",
     "text": [
      "Real\n",
      "UberDuck\n",
      "\n",
      "Class Accuracy\n",
      "{'Real': 0.5666003976143141, 'UberDuck': 0.5617750882501261}\n",
      "\n",
      "Accuracy\n",
      "0.5642052565707134\n"
     ]
    }
   ],
   "source": [
    "file_path = '/home/ubuntu/data/wavefake_data/LJ_metadata_16KHz_Laundered.csv'\n",
    "run(['UberDuck'], file_path, '16KHz_UberDuck_Laundered')"
   ]
  },
  {
   "cell_type": "code",
   "execution_count": 17,
   "id": "c7012e3e-bcda-4cf6-a111-969771b768d7",
   "metadata": {},
   "outputs": [
    {
     "name": "stdout",
     "output_type": "stream",
     "text": [
      "# of Train instances: 15664\n",
      "# of Dev instances: 5222\n",
      "# of Test instances: 5222\n",
      "[NeMo I 2023-06-13 16:48:02 cloud:56] Found existing object /home/ubuntu/.cache/torch/NeMo/NeMo_1.15.0/titanet-l/492c0ab8416139171dc18c21879a9e45/titanet-l.nemo.\n",
      "[NeMo I 2023-06-13 16:48:02 cloud:62] Re-using file from: /home/ubuntu/.cache/torch/NeMo/NeMo_1.15.0/titanet-l/492c0ab8416139171dc18c21879a9e45/titanet-l.nemo\n",
      "[NeMo I 2023-06-13 16:48:02 common:913] Instantiating model from pre-trained checkpoint\n"
     ]
    },
    {
     "name": "stderr",
     "output_type": "stream",
     "text": [
      "[NeMo W 2023-06-13 16:48:03 modelPT:156] If you intend to do training or fine-tuning, please call the ModelPT.setup_training_data() method and provide a valid configuration file to setup the train data loader.\n",
      "    Train config : \n",
      "    manifest_filepath: /manifests/combined_fisher_swbd_voxceleb12_librispeech/train.json\n",
      "    sample_rate: 16000\n",
      "    labels: null\n",
      "    batch_size: 64\n",
      "    shuffle: true\n",
      "    time_length: 3\n",
      "    is_tarred: false\n",
      "    tarred_audio_filepaths: null\n",
      "    tarred_shard_strategy: scatter\n",
      "    augmentor:\n",
      "      noise:\n",
      "        manifest_path: /manifests/noise/rir_noise_manifest.json\n",
      "        prob: 0.5\n",
      "        min_snr_db: 0\n",
      "        max_snr_db: 15\n",
      "      speed:\n",
      "        prob: 0.5\n",
      "        sr: 16000\n",
      "        resample_type: kaiser_fast\n",
      "        min_speed_rate: 0.95\n",
      "        max_speed_rate: 1.05\n",
      "    num_workers: 15\n",
      "    pin_memory: true\n",
      "    \n",
      "[NeMo W 2023-06-13 16:48:03 modelPT:163] If you intend to do validation, please call the ModelPT.setup_validation_data() or ModelPT.setup_multiple_validation_data() method and provide a valid configuration file to setup the validation data loader(s). \n",
      "    Validation config : \n",
      "    manifest_filepath: /manifests/combined_fisher_swbd_voxceleb12_librispeech/dev.json\n",
      "    sample_rate: 16000\n",
      "    labels: null\n",
      "    batch_size: 128\n",
      "    shuffle: false\n",
      "    time_length: 3\n",
      "    num_workers: 15\n",
      "    pin_memory: true\n",
      "    \n"
     ]
    },
    {
     "name": "stdout",
     "output_type": "stream",
     "text": [
      "[NeMo I 2023-06-13 16:48:03 label_models:126] Setting angular: true/false in decoder is deprecated and will be removed in 1.13 version, use specific loss with _target_\n",
      "[NeMo I 2023-06-13 16:48:03 features:267] PADDING: 16\n",
      "[NeMo I 2023-06-13 16:48:03 save_restore_connector:243] Model EncDecSpeakerLabelModel was successfully restored from /home/ubuntu/.cache/torch/NeMo/NeMo_1.15.0/titanet-l/492c0ab8416139171dc18c21879a9e45/titanet-l.nemo.\n"
     ]
    },
    {
     "name": "stderr",
     "output_type": "stream",
     "text": [
      "100%|██████████| 8/8 [00:02<00:00,  3.23it/s]\n",
      "100%|██████████| 8/8 [00:00<00:00, 32.27it/s]\n",
      "100%|██████████| 8/8 [01:49<00:00, 13.74s/it]\n"
     ]
    },
    {
     "name": "stdout",
     "output_type": "stream",
     "text": [
      "Initializing data...\n",
      "Standardizing features...\n",
      "smileFeatureSelectFromModel object initialized.\n",
      "\n",
      "\n",
      "Selected features:.\n",
      "\n",
      "1. shimmerLocal_sma_quartile1\n",
      "2. mfcc_sma[8]_lpc1\n",
      "3. jitterLocal_sma_percentile1.0\n",
      "4. shimmerLocal_sma_percentile1.0\n",
      "5. mfcc_sma_de[5]_lpc1\n",
      "6. mfcc_sma[6]_lpc1\n",
      "7. mfcc_sma_de[6]_lpc2\n",
      "8. mfcc_sma[11]_lpc1\n",
      "9. jitterLocal_sma_quartile1\n",
      "10. jitterDDP_sma_flatness\n",
      "11. mfcc_sma[8]_lpc0\n",
      "12. mfcc_sma[9]_lpc0\n",
      "13. jitterDDP_sma_percentile1.0\n",
      "14. mfcc_sma_de[6]_lpc1\n",
      "15. jitterDDP_sma_quartile1\n",
      "16. jitterDDP_sma_quartile2\n",
      "17. mfcc_sma[13]_lpc1\n",
      "18. mfcc_sma[9]_lpc1\n",
      "19. mfcc_sma_de[13]_lpc1\n",
      "20. jitterDDP_sma_de_iqr2-3\n",
      "Initializing data...\n",
      "Standardizing features...\n",
      "smileFeatureSelectFromModel object initialized.\n",
      "\n"
     ]
    },
    {
     "name": "stderr",
     "output_type": "stream",
     "text": [
      "[NeMo W 2023-06-13 16:54:28 nemo_logging:349] /tmp/ipykernel_1951049/4172940570.py:15: FutureWarning: The frame.append method is deprecated and will be removed from pandas in a future version. Use pandas.concat instead.\n",
      "      results = results.append(pd.DataFrame({'feature_method':[k], 'label_type':[label_type], 'fake_cols':[fake_cols], 'acc':[model_manager.accuracy], 'cls_acc':[model_manager.class_accuracy],  'loss':[model_manager.log_loss_value], 'model':[model]}))\n",
      "    \n"
     ]
    },
    {
     "name": "stdout",
     "output_type": "stream",
     "text": [
      "\n",
      "Selected features:.\n",
      "\n",
      "1. logHNR_sma_posamean\n",
      "2. shimmerLocal_sma_quartile1\n",
      "3. jitterLocal_sma_percentile1.0\n",
      "4. mfcc_sma_de[5]_lpc1\n",
      "5. mfcc_sma[6]_lpc1\n",
      "6. mfcc_sma_de[12]_lpc1\n",
      "7. mfcc_sma_de[7]_lpc2\n",
      "8. jitterLocal_sma_quartile1\n",
      "9. jitterDDP_sma_flatness\n",
      "10. mfcc_sma_de[6]_lpc0\n",
      "11. mfcc_sma[9]_lpc0\n",
      "12. mfcc_sma_de[13]_lpc1\n",
      "13. mfcc_sma_de[10]_lpc1\n",
      "14. jitterDDP_sma_percentile1.0\n",
      "15. mfcc_sma_de[6]_lpc1\n",
      "16. jitterDDP_sma_quartile1\n",
      "17. jitterDDP_sma_quartile2\n",
      "18. mfcc_sma[9]_lpc1\n",
      "19. mfcc_sma[10]_lpc1\n",
      "20. shimmerLocal_sma_percentile1.0\n",
      "Real\n",
      "RandWaveFake\n",
      "\n",
      "Class Accuracy\n",
      "{'Real': 0.8510149368058215, 'RandWaveFake': 0.8801225584067407}\n",
      "\n",
      "Accuracy\n",
      "0.8655687476062811\n"
     ]
    },
    {
     "name": "stderr",
     "output_type": "stream",
     "text": [
      "[NeMo W 2023-06-13 16:54:28 nemo_logging:349] /home/ubuntu/.local/lib/python3.8/site-packages/sklearn/linear_model/_logistic.py:458: ConvergenceWarning: lbfgs failed to converge (status=1):\n",
      "    STOP: TOTAL NO. of ITERATIONS REACHED LIMIT.\n",
      "    \n",
      "    Increase the number of iterations (max_iter) or scale the data as shown in:\n",
      "        https://scikit-learn.org/stable/modules/preprocessing.html\n",
      "    Please also refer to the documentation for alternative solver options:\n",
      "        https://scikit-learn.org/stable/modules/linear_model.html#logistic-regression\n",
      "      n_iter_i = _check_optimize_result(\n",
      "    \n",
      "[NeMo W 2023-06-13 16:54:28 nemo_logging:349] /tmp/ipykernel_1951049/4172940570.py:15: FutureWarning: The frame.append method is deprecated and will be removed from pandas in a future version. Use pandas.concat instead.\n",
      "      results = results.append(pd.DataFrame({'feature_method':[k], 'label_type':[label_type], 'fake_cols':[fake_cols], 'acc':[model_manager.accuracy], 'cls_acc':[model_manager.class_accuracy],  'loss':[model_manager.log_loss_value], 'model':[model]}))\n",
      "    \n",
      "[NeMo W 2023-06-13 16:54:28 nemo_logging:349] /home/ubuntu/.local/lib/python3.8/site-packages/sklearn/linear_model/_logistic.py:458: ConvergenceWarning: lbfgs failed to converge (status=1):\n",
      "    STOP: TOTAL NO. of ITERATIONS REACHED LIMIT.\n",
      "    \n",
      "    Increase the number of iterations (max_iter) or scale the data as shown in:\n",
      "        https://scikit-learn.org/stable/modules/preprocessing.html\n",
      "    Please also refer to the documentation for alternative solver options:\n",
      "        https://scikit-learn.org/stable/modules/linear_model.html#logistic-regression\n",
      "      n_iter_i = _check_optimize_result(\n",
      "    \n",
      "[NeMo W 2023-06-13 16:54:29 nemo_logging:349] /tmp/ipykernel_1951049/4172940570.py:15: FutureWarning: The frame.append method is deprecated and will be removed from pandas in a future version. Use pandas.concat instead.\n",
      "      results = results.append(pd.DataFrame({'feature_method':[k], 'label_type':[label_type], 'fake_cols':[fake_cols], 'acc':[model_manager.accuracy], 'cls_acc':[model_manager.class_accuracy],  'loss':[model_manager.log_loss_value], 'model':[model]}))\n",
      "    \n",
      "[NeMo W 2023-06-13 16:54:29 nemo_logging:349] /tmp/ipykernel_1951049/4172940570.py:15: FutureWarning: The frame.append method is deprecated and will be removed from pandas in a future version. Use pandas.concat instead.\n",
      "      results = results.append(pd.DataFrame({'feature_method':[k], 'label_type':[label_type], 'fake_cols':[fake_cols], 'acc':[model_manager.accuracy], 'cls_acc':[model_manager.class_accuracy],  'loss':[model_manager.log_loss_value], 'model':[model]}))\n",
      "    \n"
     ]
    },
    {
     "name": "stdout",
     "output_type": "stream",
     "text": [
      "Real\n",
      "RandWaveFake\n",
      "\n",
      "Class Accuracy\n",
      "{'Real': 0.7158176943699732, 'RandWaveFake': 0.5553427805438529}\n",
      "\n",
      "Accuracy\n",
      "0.635580237456913\n",
      "Real\n",
      "RandWaveFake\n",
      "\n",
      "Class Accuracy\n",
      "{'Real': 0.7039448487169667, 'RandWaveFake': 0.5990042129452318}\n",
      "\n",
      "Accuracy\n",
      "0.6514745308310992\n",
      "Real\n",
      "RandWaveFake\n",
      "\n",
      "Class Accuracy\n",
      "{'Real': 0.5475718533201189, 'RandWaveFake': 0.5103483089348814}\n",
      "\n",
      "Accuracy\n",
      "0.5291322830707677\n"
     ]
    },
    {
     "name": "stderr",
     "output_type": "stream",
     "text": [
      "[NeMo W 2023-06-13 16:54:29 nemo_logging:349] /tmp/ipykernel_1951049/4172940570.py:15: FutureWarning: The frame.append method is deprecated and will be removed from pandas in a future version. Use pandas.concat instead.\n",
      "      results = results.append(pd.DataFrame({'feature_method':[k], 'label_type':[label_type], 'fake_cols':[fake_cols], 'acc':[model_manager.accuracy], 'cls_acc':[model_manager.class_accuracy],  'loss':[model_manager.log_loss_value], 'model':[model]}))\n",
      "    \n",
      "[NeMo W 2023-06-13 16:54:29 nemo_logging:349] /home/ubuntu/.local/lib/python3.8/site-packages/sklearn/linear_model/_logistic.py:458: ConvergenceWarning: lbfgs failed to converge (status=1):\n",
      "    STOP: TOTAL NO. of ITERATIONS REACHED LIMIT.\n",
      "    \n",
      "    Increase the number of iterations (max_iter) or scale the data as shown in:\n",
      "        https://scikit-learn.org/stable/modules/preprocessing.html\n",
      "    Please also refer to the documentation for alternative solver options:\n",
      "        https://scikit-learn.org/stable/modules/linear_model.html#logistic-regression\n",
      "      n_iter_i = _check_optimize_result(\n",
      "    \n",
      "[NeMo W 2023-06-13 16:54:29 nemo_logging:349] /tmp/ipykernel_1951049/4172940570.py:15: FutureWarning: The frame.append method is deprecated and will be removed from pandas in a future version. Use pandas.concat instead.\n",
      "      results = results.append(pd.DataFrame({'feature_method':[k], 'label_type':[label_type], 'fake_cols':[fake_cols], 'acc':[model_manager.accuracy], 'cls_acc':[model_manager.class_accuracy],  'loss':[model_manager.log_loss_value], 'model':[model]}))\n",
      "    \n"
     ]
    },
    {
     "name": "stdout",
     "output_type": "stream",
     "text": [
      "Real\n",
      "RandWaveFake\n",
      "\n",
      "Class Accuracy\n",
      "{'Real': 0.8510149368058215, 'RandWaveFake': 0.8801225584067407}\n",
      "\n",
      "Accuracy\n",
      "0.8655687476062811\n",
      "Real\n",
      "RandWaveFake\n",
      "\n",
      "Class Accuracy\n",
      "{'Real': 0.7158176943699732, 'RandWaveFake': 0.5553427805438529}\n",
      "\n",
      "Accuracy\n",
      "0.635580237456913\n"
     ]
    },
    {
     "name": "stderr",
     "output_type": "stream",
     "text": [
      "[NeMo W 2023-06-13 16:54:29 nemo_logging:349] /home/ubuntu/.local/lib/python3.8/site-packages/sklearn/linear_model/_logistic.py:458: ConvergenceWarning: lbfgs failed to converge (status=1):\n",
      "    STOP: TOTAL NO. of ITERATIONS REACHED LIMIT.\n",
      "    \n",
      "    Increase the number of iterations (max_iter) or scale the data as shown in:\n",
      "        https://scikit-learn.org/stable/modules/preprocessing.html\n",
      "    Please also refer to the documentation for alternative solver options:\n",
      "        https://scikit-learn.org/stable/modules/linear_model.html#logistic-regression\n",
      "      n_iter_i = _check_optimize_result(\n",
      "    \n",
      "[NeMo W 2023-06-13 16:54:29 nemo_logging:349] /tmp/ipykernel_1951049/4172940570.py:15: FutureWarning: The frame.append method is deprecated and will be removed from pandas in a future version. Use pandas.concat instead.\n",
      "      results = results.append(pd.DataFrame({'feature_method':[k], 'label_type':[label_type], 'fake_cols':[fake_cols], 'acc':[model_manager.accuracy], 'cls_acc':[model_manager.class_accuracy],  'loss':[model_manager.log_loss_value], 'model':[model]}))\n",
      "    \n",
      "[NeMo W 2023-06-13 16:54:29 nemo_logging:349] /tmp/ipykernel_1951049/4172940570.py:15: FutureWarning: The frame.append method is deprecated and will be removed from pandas in a future version. Use pandas.concat instead.\n",
      "      results = results.append(pd.DataFrame({'feature_method':[k], 'label_type':[label_type], 'fake_cols':[fake_cols], 'acc':[model_manager.accuracy], 'cls_acc':[model_manager.class_accuracy],  'loss':[model_manager.log_loss_value], 'model':[model]}))\n",
      "    \n"
     ]
    },
    {
     "name": "stdout",
     "output_type": "stream",
     "text": [
      "Real\n",
      "RandWaveFake\n",
      "\n",
      "Class Accuracy\n",
      "{'Real': 0.7039448487169667, 'RandWaveFake': 0.5990042129452318}\n",
      "\n",
      "Accuracy\n",
      "0.6514745308310992\n",
      "Real\n",
      "RandWaveFake\n",
      "\n",
      "Class Accuracy\n",
      "{'Real': 0.5475718533201189, 'RandWaveFake': 0.5103483089348814}\n",
      "\n",
      "Accuracy\n",
      "0.5291322830707677\n"
     ]
    },
    {
     "name": "stderr",
     "output_type": "stream",
     "text": [
      "[NeMo W 2023-06-13 16:54:53 nemo_logging:349] /tmp/ipykernel_1951049/4172940570.py:15: FutureWarning: The frame.append method is deprecated and will be removed from pandas in a future version. Use pandas.concat instead.\n",
      "      results = results.append(pd.DataFrame({'feature_method':[k], 'label_type':[label_type], 'fake_cols':[fake_cols], 'acc':[model_manager.accuracy], 'cls_acc':[model_manager.class_accuracy],  'loss':[model_manager.log_loss_value], 'model':[model]}))\n",
      "    \n"
     ]
    },
    {
     "name": "stdout",
     "output_type": "stream",
     "text": [
      "Real\n",
      "RandWaveFake\n",
      "\n",
      "Class Accuracy\n",
      "{'Real': 0.8621217924166986, 'RandWaveFake': 0.8395250861738798}\n",
      "\n",
      "Accuracy\n",
      "0.8508234392952891\n"
     ]
    },
    {
     "name": "stderr",
     "output_type": "stream",
     "text": [
      "[NeMo W 2023-06-13 16:55:00 nemo_logging:349] /tmp/ipykernel_1951049/4172940570.py:15: FutureWarning: The frame.append method is deprecated and will be removed from pandas in a future version. Use pandas.concat instead.\n",
      "      results = results.append(pd.DataFrame({'feature_method':[k], 'label_type':[label_type], 'fake_cols':[fake_cols], 'acc':[model_manager.accuracy], 'cls_acc':[model_manager.class_accuracy],  'loss':[model_manager.log_loss_value], 'model':[model]}))\n",
      "    \n"
     ]
    },
    {
     "name": "stdout",
     "output_type": "stream",
     "text": [
      "Real\n",
      "RandWaveFake\n",
      "\n",
      "Class Accuracy\n",
      "{'Real': 0.7813098429720413, 'RandWaveFake': 0.7629260819609345}\n",
      "\n",
      "Accuracy\n",
      "0.7721179624664879\n"
     ]
    },
    {
     "name": "stderr",
     "output_type": "stream",
     "text": [
      "[NeMo W 2023-06-13 16:55:08 nemo_logging:349] /tmp/ipykernel_1951049/4172940570.py:15: FutureWarning: The frame.append method is deprecated and will be removed from pandas in a future version. Use pandas.concat instead.\n",
      "      results = results.append(pd.DataFrame({'feature_method':[k], 'label_type':[label_type], 'fake_cols':[fake_cols], 'acc':[model_manager.accuracy], 'cls_acc':[model_manager.class_accuracy],  'loss':[model_manager.log_loss_value], 'model':[model]}))\n",
      "    \n"
     ]
    },
    {
     "name": "stdout",
     "output_type": "stream",
     "text": [
      "Real\n",
      "RandWaveFake\n",
      "\n",
      "Class Accuracy\n",
      "{'Real': 0.795863653772501, 'RandWaveFake': 0.7590961317502872}\n",
      "\n",
      "Accuracy\n",
      "0.7774798927613941\n"
     ]
    },
    {
     "name": "stderr",
     "output_type": "stream",
     "text": [
      "[NeMo W 2023-06-13 16:55:12 nemo_logging:349] /tmp/ipykernel_1951049/4172940570.py:15: FutureWarning: The frame.append method is deprecated and will be removed from pandas in a future version. Use pandas.concat instead.\n",
      "      results = results.append(pd.DataFrame({'feature_method':[k], 'label_type':[label_type], 'fake_cols':[fake_cols], 'acc':[model_manager.accuracy], 'cls_acc':[model_manager.class_accuracy],  'loss':[model_manager.log_loss_value], 'model':[model]}))\n",
      "    \n"
     ]
    },
    {
     "name": "stdout",
     "output_type": "stream",
     "text": [
      "Real\n",
      "RandWaveFake\n",
      "\n",
      "Class Accuracy\n",
      "{'Real': 0.541625371655104, 'RandWaveFake': 0.4810701665825341}\n",
      "\n",
      "Accuracy\n",
      "0.5116279069767442\n"
     ]
    },
    {
     "name": "stderr",
     "output_type": "stream",
     "text": [
      "[NeMo W 2023-06-13 16:55:35 nemo_logging:349] /tmp/ipykernel_1951049/4172940570.py:15: FutureWarning: The frame.append method is deprecated and will be removed from pandas in a future version. Use pandas.concat instead.\n",
      "      results = results.append(pd.DataFrame({'feature_method':[k], 'label_type':[label_type], 'fake_cols':[fake_cols], 'acc':[model_manager.accuracy], 'cls_acc':[model_manager.class_accuracy],  'loss':[model_manager.log_loss_value], 'model':[model]}))\n",
      "    \n"
     ]
    },
    {
     "name": "stdout",
     "output_type": "stream",
     "text": [
      "Real\n",
      "RandWaveFake\n",
      "\n",
      "Class Accuracy\n",
      "{'Real': 0.8571428571428571, 'RandWaveFake': 0.8372271160474913}\n",
      "\n",
      "Accuracy\n",
      "0.8471849865951743\n"
     ]
    },
    {
     "name": "stderr",
     "output_type": "stream",
     "text": [
      "[NeMo W 2023-06-13 16:55:43 nemo_logging:349] /tmp/ipykernel_1951049/4172940570.py:15: FutureWarning: The frame.append method is deprecated and will be removed from pandas in a future version. Use pandas.concat instead.\n",
      "      results = results.append(pd.DataFrame({'feature_method':[k], 'label_type':[label_type], 'fake_cols':[fake_cols], 'acc':[model_manager.accuracy], 'cls_acc':[model_manager.class_accuracy],  'loss':[model_manager.log_loss_value], 'model':[model]}))\n",
      "    \n"
     ]
    },
    {
     "name": "stdout",
     "output_type": "stream",
     "text": [
      "Real\n",
      "RandWaveFake\n",
      "\n",
      "Class Accuracy\n",
      "{'Real': 0.7973956338567598, 'RandWaveFake': 0.7633090769819992}\n",
      "\n",
      "Accuracy\n",
      "0.7803523554193795\n"
     ]
    },
    {
     "name": "stderr",
     "output_type": "stream",
     "text": [
      "[NeMo W 2023-06-13 16:55:50 nemo_logging:349] /tmp/ipykernel_1951049/4172940570.py:15: FutureWarning: The frame.append method is deprecated and will be removed from pandas in a future version. Use pandas.concat instead.\n",
      "      results = results.append(pd.DataFrame({'feature_method':[k], 'label_type':[label_type], 'fake_cols':[fake_cols], 'acc':[model_manager.accuracy], 'cls_acc':[model_manager.class_accuracy],  'loss':[model_manager.log_loss_value], 'model':[model]}))\n",
      "    \n"
     ]
    },
    {
     "name": "stdout",
     "output_type": "stream",
     "text": [
      "Real\n",
      "RandWaveFake\n",
      "\n",
      "Class Accuracy\n",
      "{'Real': 0.783224818077365, 'RandWaveFake': 0.7583301417081578}\n",
      "\n",
      "Accuracy\n",
      "0.7707774798927614\n"
     ]
    },
    {
     "name": "stderr",
     "output_type": "stream",
     "text": [
      "[NeMo W 2023-06-13 16:55:55 nemo_logging:349] /tmp/ipykernel_1951049/4172940570.py:15: FutureWarning: The frame.append method is deprecated and will be removed from pandas in a future version. Use pandas.concat instead.\n",
      "      results = results.append(pd.DataFrame({'feature_method':[k], 'label_type':[label_type], 'fake_cols':[fake_cols], 'acc':[model_manager.accuracy], 'cls_acc':[model_manager.class_accuracy],  'loss':[model_manager.log_loss_value], 'model':[model]}))\n",
      "    \n"
     ]
    },
    {
     "name": "stdout",
     "output_type": "stream",
     "text": [
      "Real\n",
      "RandWaveFake\n",
      "\n",
      "Class Accuracy\n",
      "{'Real': 0.5341922695738355, 'RandWaveFake': 0.48056537102473496}\n",
      "\n",
      "Accuracy\n",
      "0.5076269067266816\n"
     ]
    }
   ],
   "source": [
    "file_path = '/home/ubuntu/data/wavefake_data/LJ_metadata_16KHz_Laundered.csv'\n",
    "run(['RandWaveFake'], file_path, '16KHz_RandWaveFake_Laundered')"
   ]
  },
  {
   "cell_type": "code",
   "execution_count": 18,
   "id": "ab235243-e6e4-4d01-a91d-9e9ed45eecd2",
   "metadata": {},
   "outputs": [
    {
     "name": "stdout",
     "output_type": "stream",
     "text": [
      "# of Train instances: 23496\n",
      "# of Dev instances: 7833\n",
      "# of Test instances: 7833\n",
      "[NeMo I 2023-06-13 16:55:55 cloud:56] Found existing object /home/ubuntu/.cache/torch/NeMo/NeMo_1.15.0/titanet-l/492c0ab8416139171dc18c21879a9e45/titanet-l.nemo.\n",
      "[NeMo I 2023-06-13 16:55:55 cloud:62] Re-using file from: /home/ubuntu/.cache/torch/NeMo/NeMo_1.15.0/titanet-l/492c0ab8416139171dc18c21879a9e45/titanet-l.nemo\n",
      "[NeMo I 2023-06-13 16:55:55 common:913] Instantiating model from pre-trained checkpoint\n"
     ]
    },
    {
     "name": "stderr",
     "output_type": "stream",
     "text": [
      "[NeMo W 2023-06-13 16:55:56 modelPT:156] If you intend to do training or fine-tuning, please call the ModelPT.setup_training_data() method and provide a valid configuration file to setup the train data loader.\n",
      "    Train config : \n",
      "    manifest_filepath: /manifests/combined_fisher_swbd_voxceleb12_librispeech/train.json\n",
      "    sample_rate: 16000\n",
      "    labels: null\n",
      "    batch_size: 64\n",
      "    shuffle: true\n",
      "    time_length: 3\n",
      "    is_tarred: false\n",
      "    tarred_audio_filepaths: null\n",
      "    tarred_shard_strategy: scatter\n",
      "    augmentor:\n",
      "      noise:\n",
      "        manifest_path: /manifests/noise/rir_noise_manifest.json\n",
      "        prob: 0.5\n",
      "        min_snr_db: 0\n",
      "        max_snr_db: 15\n",
      "      speed:\n",
      "        prob: 0.5\n",
      "        sr: 16000\n",
      "        resample_type: kaiser_fast\n",
      "        min_speed_rate: 0.95\n",
      "        max_speed_rate: 1.05\n",
      "    num_workers: 15\n",
      "    pin_memory: true\n",
      "    \n",
      "[NeMo W 2023-06-13 16:55:56 modelPT:163] If you intend to do validation, please call the ModelPT.setup_validation_data() or ModelPT.setup_multiple_validation_data() method and provide a valid configuration file to setup the validation data loader(s). \n",
      "    Validation config : \n",
      "    manifest_filepath: /manifests/combined_fisher_swbd_voxceleb12_librispeech/dev.json\n",
      "    sample_rate: 16000\n",
      "    labels: null\n",
      "    batch_size: 128\n",
      "    shuffle: false\n",
      "    time_length: 3\n",
      "    num_workers: 15\n",
      "    pin_memory: true\n",
      "    \n"
     ]
    },
    {
     "name": "stdout",
     "output_type": "stream",
     "text": [
      "[NeMo I 2023-06-13 16:55:56 label_models:126] Setting angular: true/false in decoder is deprecated and will be removed in 1.13 version, use specific loss with _target_\n",
      "[NeMo I 2023-06-13 16:55:56 features:267] PADDING: 16\n",
      "[NeMo I 2023-06-13 16:55:56 save_restore_connector:243] Model EncDecSpeakerLabelModel was successfully restored from /home/ubuntu/.cache/torch/NeMo/NeMo_1.15.0/titanet-l/492c0ab8416139171dc18c21879a9e45/titanet-l.nemo.\n"
     ]
    },
    {
     "name": "stderr",
     "output_type": "stream",
     "text": [
      "100%|██████████| 3/3 [00:00<00:00,  3.52it/s]\n",
      "100%|██████████| 3/3 [00:00<00:00, 28.29it/s]\n",
      "100%|██████████| 3/3 [00:39<00:00, 13.33s/it]\n"
     ]
    },
    {
     "name": "stdout",
     "output_type": "stream",
     "text": [
      "Initializing data...\n",
      "Standardizing features...\n",
      "smileFeatureSelectFromModel object initialized.\n",
      "\n",
      "\n",
      "Selected features:.\n",
      "\n",
      "1. mfcc_sma[9]_lpgain\n",
      "2. mfcc_sma[14]_quartile3\n",
      "3. pcm_fftMag_spectralSlope_sma_percentile99.0\n",
      "4. mfcc_sma_de[9]_meanRisingSlope\n",
      "5. mfcc_sma[13]_lpgain\n",
      "6. pcm_fftMag_spectralSlope_sma_upleveltime90\n",
      "7. mfcc_sma[13]_amean\n",
      "8. mfcc_sma[10]_peakMeanMeanDist\n",
      "9. mfcc_sma[14]_quartile2\n",
      "10. mfcc_sma_de[13]_lpgain\n",
      "11. mfcc_sma[14]_percentile1.0\n",
      "12. audspecRasta_lengthL1norm_sma_de_minPos\n",
      "13. mfcc_sma[14]_peakMeanRel\n",
      "14. mfcc_sma[14]_rqmean\n",
      "15. mfcc_sma[14]_amean\n",
      "16. mfcc_sma_de[13]_meanRisingSlope\n",
      "17. mfcc_sma[3]_lpc2\n",
      "18. mfcc_sma[14]_quartile1\n",
      "19. pcm_fftMag_spectralHarmonicity_sma_de_peakMeanRel\n",
      "20. mfcc_sma[6]_lpc0\n",
      "Initializing data...\n",
      "Standardizing features...\n",
      "smileFeatureSelectFromModel object initialized.\n",
      "\n",
      "\n",
      "Selected features:.\n",
      "\n",
      "1. audSpec_Rfilt_sma[1]_maxPos\n",
      "2. mfcc_sma_de[14]_meanFallingSlope\n",
      "3. audSpec_Rfilt_sma[2]_qregc2\n",
      "4. audSpec_Rfilt_sma[5]_linregc1\n",
      "5. mfcc_sma[4]_peakMeanAbs\n",
      "6. mfcc_sma[9]_lpgain\n",
      "7. pcm_fftMag_spectralSlope_sma_percentile99.0\n",
      "8. pcm_fftMag_spectralFlux_sma_de_peakMeanRel\n",
      "9. mfcc_sma[14]_peakMeanAbs\n",
      "10. audSpec_Rfilt_sma[5]_centroid\n",
      "11. mfcc_sma[13]_lpgain\n",
      "12. mfcc_sma[4]_quartile3\n",
      "13. mfcc_sma[14]_quartile2\n",
      "14. mfcc_sma[14]_peakMeanRel\n",
      "15. mfcc_sma[14]_amean\n",
      "16. mfcc_sma_de[13]_meanRisingSlope\n",
      "17. pcm_RMSenergy_sma_minPos\n",
      "18. audspecRasta_lengthL1norm_sma_qregc2\n",
      "19. pcm_fftMag_fband250-650_sma_de_peakMeanRel\n",
      "20. audspecRasta_lengthL1norm_sma_qregc1\n"
     ]
    },
    {
     "name": "stderr",
     "output_type": "stream",
     "text": [
      "[NeMo W 2023-06-13 17:03:27 nemo_logging:349] /tmp/ipykernel_1951049/4172940570.py:15: FutureWarning: The frame.append method is deprecated and will be removed from pandas in a future version. Use pandas.concat instead.\n",
      "      results = results.append(pd.DataFrame({'feature_method':[k], 'label_type':[label_type], 'fake_cols':[fake_cols], 'acc':[model_manager.accuracy], 'cls_acc':[model_manager.class_accuracy],  'loss':[model_manager.log_loss_value], 'model':[model]}))\n",
      "    \n",
      "[NeMo W 2023-06-13 17:03:27 nemo_logging:349] /home/ubuntu/.local/lib/python3.8/site-packages/sklearn/linear_model/_logistic.py:458: ConvergenceWarning: lbfgs failed to converge (status=1):\n",
      "    STOP: TOTAL NO. of ITERATIONS REACHED LIMIT.\n",
      "    \n",
      "    Increase the number of iterations (max_iter) or scale the data as shown in:\n",
      "        https://scikit-learn.org/stable/modules/preprocessing.html\n",
      "    Please also refer to the documentation for alternative solver options:\n",
      "        https://scikit-learn.org/stable/modules/linear_model.html#logistic-regression\n",
      "      n_iter_i = _check_optimize_result(\n",
      "    \n",
      "[NeMo W 2023-06-13 17:03:27 nemo_logging:349] /tmp/ipykernel_1951049/4172940570.py:15: FutureWarning: The frame.append method is deprecated and will be removed from pandas in a future version. Use pandas.concat instead.\n",
      "      results = results.append(pd.DataFrame({'feature_method':[k], 'label_type':[label_type], 'fake_cols':[fake_cols], 'acc':[model_manager.accuracy], 'cls_acc':[model_manager.class_accuracy],  'loss':[model_manager.log_loss_value], 'model':[model]}))\n",
      "    \n"
     ]
    },
    {
     "name": "stdout",
     "output_type": "stream",
     "text": [
      "Real\n",
      "UberDuck\n",
      "\n",
      "Class Accuracy\n",
      "{'Real': 0.8774415932592876, 'UberDuck': 0.9904251244733818}\n",
      "\n",
      "Accuracy\n",
      "0.9527639474020171\n",
      "Real\n",
      "UberDuck\n",
      "\n",
      "Class Accuracy\n",
      "{'Real': 0.7334354653389505, 'UberDuck': 0.8883569513596323}\n",
      "\n",
      "Accuracy\n",
      "0.836716456019405\n"
     ]
    },
    {
     "name": "stderr",
     "output_type": "stream",
     "text": [
      "[NeMo W 2023-06-13 17:03:27 nemo_logging:349] /home/ubuntu/.local/lib/python3.8/site-packages/sklearn/linear_model/_logistic.py:458: ConvergenceWarning: lbfgs failed to converge (status=1):\n",
      "    STOP: TOTAL NO. of ITERATIONS REACHED LIMIT.\n",
      "    \n",
      "    Increase the number of iterations (max_iter) or scale the data as shown in:\n",
      "        https://scikit-learn.org/stable/modules/preprocessing.html\n",
      "    Please also refer to the documentation for alternative solver options:\n",
      "        https://scikit-learn.org/stable/modules/linear_model.html#logistic-regression\n",
      "      n_iter_i = _check_optimize_result(\n",
      "    \n",
      "[NeMo W 2023-06-13 17:03:27 nemo_logging:349] /tmp/ipykernel_1951049/4172940570.py:15: FutureWarning: The frame.append method is deprecated and will be removed from pandas in a future version. Use pandas.concat instead.\n",
      "      results = results.append(pd.DataFrame({'feature_method':[k], 'label_type':[label_type], 'fake_cols':[fake_cols], 'acc':[model_manager.accuracy], 'cls_acc':[model_manager.class_accuracy],  'loss':[model_manager.log_loss_value], 'model':[model]}))\n",
      "    \n",
      "[NeMo W 2023-06-13 17:03:27 nemo_logging:349] /tmp/ipykernel_1951049/4172940570.py:15: FutureWarning: The frame.append method is deprecated and will be removed from pandas in a future version. Use pandas.concat instead.\n",
      "      results = results.append(pd.DataFrame({'feature_method':[k], 'label_type':[label_type], 'fake_cols':[fake_cols], 'acc':[model_manager.accuracy], 'cls_acc':[model_manager.class_accuracy],  'loss':[model_manager.log_loss_value], 'model':[model]}))\n",
      "    \n"
     ]
    },
    {
     "name": "stdout",
     "output_type": "stream",
     "text": [
      "Real\n",
      "UberDuck\n",
      "\n",
      "Class Accuracy\n",
      "{'Real': 0.6602834163155878, 'UberDuck': 0.8851014936805821}\n",
      "\n",
      "Accuracy\n",
      "0.8101621345589174\n",
      "Real\n",
      "UberDuck\n",
      "\n",
      "Class Accuracy\n",
      "{'Real': 0.02059266700150678, 'UberDuck': 0.9835651074589128}\n",
      "\n",
      "Accuracy\n",
      "0.6611167171207535\n"
     ]
    },
    {
     "name": "stderr",
     "output_type": "stream",
     "text": [
      "[NeMo W 2023-06-13 17:03:28 nemo_logging:349] /home/ubuntu/.local/lib/python3.8/site-packages/sklearn/linear_model/_logistic.py:458: ConvergenceWarning: lbfgs failed to converge (status=1):\n",
      "    STOP: TOTAL NO. of ITERATIONS REACHED LIMIT.\n",
      "    \n",
      "    Increase the number of iterations (max_iter) or scale the data as shown in:\n",
      "        https://scikit-learn.org/stable/modules/preprocessing.html\n",
      "    Please also refer to the documentation for alternative solver options:\n",
      "        https://scikit-learn.org/stable/modules/linear_model.html#logistic-regression\n",
      "      n_iter_i = _check_optimize_result(\n",
      "    \n",
      "[NeMo W 2023-06-13 17:03:28 nemo_logging:349] /tmp/ipykernel_1951049/4172940570.py:15: FutureWarning: The frame.append method is deprecated and will be removed from pandas in a future version. Use pandas.concat instead.\n",
      "      results = results.append(pd.DataFrame({'feature_method':[k], 'label_type':[label_type], 'fake_cols':[fake_cols], 'acc':[model_manager.accuracy], 'cls_acc':[model_manager.class_accuracy],  'loss':[model_manager.log_loss_value], 'model':[model]}))\n",
      "    \n"
     ]
    },
    {
     "name": "stdout",
     "output_type": "stream",
     "text": [
      "Real\n",
      "UberDuck\n",
      "ElevenLabs\n",
      "\n",
      "Class Accuracy\n",
      "{'Real': 0.9199540405974722, 'UberDuck': 0.9337418613558024, 'ElevenLabs': 0.9291459211030256}\n",
      "\n",
      "Accuracy\n",
      "0.9276139410187667\n"
     ]
    },
    {
     "name": "stderr",
     "output_type": "stream",
     "text": [
      "[NeMo W 2023-06-13 17:03:28 nemo_logging:349] /home/ubuntu/.local/lib/python3.8/site-packages/sklearn/linear_model/_logistic.py:458: ConvergenceWarning: lbfgs failed to converge (status=1):\n",
      "    STOP: TOTAL NO. of ITERATIONS REACHED LIMIT.\n",
      "    \n",
      "    Increase the number of iterations (max_iter) or scale the data as shown in:\n",
      "        https://scikit-learn.org/stable/modules/preprocessing.html\n",
      "    Please also refer to the documentation for alternative solver options:\n",
      "        https://scikit-learn.org/stable/modules/linear_model.html#logistic-regression\n",
      "      n_iter_i = _check_optimize_result(\n",
      "    \n",
      "[NeMo W 2023-06-13 17:03:28 nemo_logging:349] /tmp/ipykernel_1951049/4172940570.py:15: FutureWarning: The frame.append method is deprecated and will be removed from pandas in a future version. Use pandas.concat instead.\n",
      "      results = results.append(pd.DataFrame({'feature_method':[k], 'label_type':[label_type], 'fake_cols':[fake_cols], 'acc':[model_manager.accuracy], 'cls_acc':[model_manager.class_accuracy],  'loss':[model_manager.log_loss_value], 'model':[model]}))\n",
      "    \n"
     ]
    },
    {
     "name": "stdout",
     "output_type": "stream",
     "text": [
      "Real\n",
      "UberDuck\n",
      "ElevenLabs\n",
      "\n",
      "Class Accuracy\n",
      "{'Real': 0.7839908081194944, 'UberDuck': 0.6890080428954424, 'ElevenLabs': 0.7437763309076982}\n",
      "\n",
      "Accuracy\n",
      "0.7389250606408784\n"
     ]
    },
    {
     "name": "stderr",
     "output_type": "stream",
     "text": [
      "[NeMo W 2023-06-13 17:03:29 nemo_logging:349] /home/ubuntu/.local/lib/python3.8/site-packages/sklearn/linear_model/_logistic.py:458: ConvergenceWarning: lbfgs failed to converge (status=1):\n",
      "    STOP: TOTAL NO. of ITERATIONS REACHED LIMIT.\n",
      "    \n",
      "    Increase the number of iterations (max_iter) or scale the data as shown in:\n",
      "        https://scikit-learn.org/stable/modules/preprocessing.html\n",
      "    Please also refer to the documentation for alternative solver options:\n",
      "        https://scikit-learn.org/stable/modules/linear_model.html#logistic-regression\n",
      "      n_iter_i = _check_optimize_result(\n",
      "    \n",
      "[NeMo W 2023-06-13 17:03:29 nemo_logging:349] /tmp/ipykernel_1951049/4172940570.py:15: FutureWarning: The frame.append method is deprecated and will be removed from pandas in a future version. Use pandas.concat instead.\n",
      "      results = results.append(pd.DataFrame({'feature_method':[k], 'label_type':[label_type], 'fake_cols':[fake_cols], 'acc':[model_manager.accuracy], 'cls_acc':[model_manager.class_accuracy],  'loss':[model_manager.log_loss_value], 'model':[model]}))\n",
      "    \n"
     ]
    },
    {
     "name": "stdout",
     "output_type": "stream",
     "text": [
      "Real\n",
      "UberDuck\n",
      "ElevenLabs\n",
      "\n",
      "Class Accuracy\n",
      "{'Real': 0.7567981616238989, 'UberDuck': 0.7250095748755266, 'ElevenLabs': 0.8540788969743394}\n",
      "\n",
      "Accuracy\n",
      "0.7786288778245882\n"
     ]
    },
    {
     "name": "stderr",
     "output_type": "stream",
     "text": [
      "[NeMo W 2023-06-13 17:03:29 nemo_logging:349] /tmp/ipykernel_1951049/4172940570.py:15: FutureWarning: The frame.append method is deprecated and will be removed from pandas in a future version. Use pandas.concat instead.\n",
      "      results = results.append(pd.DataFrame({'feature_method':[k], 'label_type':[label_type], 'fake_cols':[fake_cols], 'acc':[model_manager.accuracy], 'cls_acc':[model_manager.class_accuracy],  'loss':[model_manager.log_loss_value], 'model':[model]}))\n",
      "    \n"
     ]
    },
    {
     "name": "stdout",
     "output_type": "stream",
     "text": [
      "Real\n",
      "UberDuck\n",
      "ElevenLabs\n",
      "\n",
      "Class Accuracy\n",
      "{'Real': 0.34455047714716225, 'UberDuck': 0.5245983935742972, 'ElevenLabs': 0.7218543046357616}\n",
      "\n",
      "Accuracy\n",
      "0.5294315506222671\n"
     ]
    },
    {
     "name": "stderr",
     "output_type": "stream",
     "text": [
      "[NeMo W 2023-06-13 17:04:11 nemo_logging:349] /tmp/ipykernel_1951049/4172940570.py:15: FutureWarning: The frame.append method is deprecated and will be removed from pandas in a future version. Use pandas.concat instead.\n",
      "      results = results.append(pd.DataFrame({'feature_method':[k], 'label_type':[label_type], 'fake_cols':[fake_cols], 'acc':[model_manager.accuracy], 'cls_acc':[model_manager.class_accuracy],  'loss':[model_manager.log_loss_value], 'model':[model]}))\n",
      "    \n"
     ]
    },
    {
     "name": "stdout",
     "output_type": "stream",
     "text": [
      "Real\n",
      "UberDuck\n",
      "\n",
      "Class Accuracy\n",
      "{'Real': 0.8690157027958637, 'UberDuck': 0.9931060896208349}\n",
      "\n",
      "Accuracy\n",
      "0.9517426273458445\n"
     ]
    },
    {
     "name": "stderr",
     "output_type": "stream",
     "text": [
      "[NeMo W 2023-06-13 17:04:22 nemo_logging:349] /tmp/ipykernel_1951049/4172940570.py:15: FutureWarning: The frame.append method is deprecated and will be removed from pandas in a future version. Use pandas.concat instead.\n",
      "      results = results.append(pd.DataFrame({'feature_method':[k], 'label_type':[label_type], 'fake_cols':[fake_cols], 'acc':[model_manager.accuracy], 'cls_acc':[model_manager.class_accuracy],  'loss':[model_manager.log_loss_value], 'model':[model]}))\n",
      "    \n"
     ]
    },
    {
     "name": "stdout",
     "output_type": "stream",
     "text": [
      "Real\n",
      "UberDuck\n",
      "\n",
      "Class Accuracy\n",
      "{'Real': 0.7882037533512064, 'UberDuck': 0.9484871696667944}\n",
      "\n",
      "Accuracy\n",
      "0.895059364228265\n"
     ]
    },
    {
     "name": "stderr",
     "output_type": "stream",
     "text": [
      "[NeMo W 2023-06-13 17:04:32 nemo_logging:349] /tmp/ipykernel_1951049/4172940570.py:15: FutureWarning: The frame.append method is deprecated and will be removed from pandas in a future version. Use pandas.concat instead.\n",
      "      results = results.append(pd.DataFrame({'feature_method':[k], 'label_type':[label_type], 'fake_cols':[fake_cols], 'acc':[model_manager.accuracy], 'cls_acc':[model_manager.class_accuracy],  'loss':[model_manager.log_loss_value], 'model':[model]}))\n",
      "    \n"
     ]
    },
    {
     "name": "stdout",
     "output_type": "stream",
     "text": [
      "Real\n",
      "UberDuck\n",
      "\n",
      "Class Accuracy\n",
      "{'Real': 0.7947146687093067, 'UberDuck': 0.9504021447721179}\n",
      "\n",
      "Accuracy\n",
      "0.8985063194178475\n"
     ]
    },
    {
     "name": "stderr",
     "output_type": "stream",
     "text": [
      "[NeMo W 2023-06-13 17:04:37 nemo_logging:349] /tmp/ipykernel_1951049/4172940570.py:15: FutureWarning: The frame.append method is deprecated and will be removed from pandas in a future version. Use pandas.concat instead.\n",
      "      results = results.append(pd.DataFrame({'feature_method':[k], 'label_type':[label_type], 'fake_cols':[fake_cols], 'acc':[model_manager.accuracy], 'cls_acc':[model_manager.class_accuracy],  'loss':[model_manager.log_loss_value], 'model':[model]}))\n",
      "    \n"
     ]
    },
    {
     "name": "stdout",
     "output_type": "stream",
     "text": [
      "Real\n",
      "UberDuck\n",
      "\n",
      "Class Accuracy\n",
      "{'Real': 0.2777498744349573, 'UberDuck': 0.8594184576485462}\n",
      "\n",
      "Accuracy\n",
      "0.6646485031954255\n"
     ]
    },
    {
     "name": "stderr",
     "output_type": "stream",
     "text": [
      "[NeMo W 2023-06-13 17:05:19 nemo_logging:349] /tmp/ipykernel_1951049/4172940570.py:15: FutureWarning: The frame.append method is deprecated and will be removed from pandas in a future version. Use pandas.concat instead.\n",
      "      results = results.append(pd.DataFrame({'feature_method':[k], 'label_type':[label_type], 'fake_cols':[fake_cols], 'acc':[model_manager.accuracy], 'cls_acc':[model_manager.class_accuracy],  'loss':[model_manager.log_loss_value], 'model':[model]}))\n",
      "    \n"
     ]
    },
    {
     "name": "stdout",
     "output_type": "stream",
     "text": [
      "Real\n",
      "UberDuck\n",
      "ElevenLabs\n",
      "\n",
      "Class Accuracy\n",
      "{'Real': 0.920337035618537, 'UberDuck': 0.9360398314821907, 'ElevenLabs': 0.9348908464189966}\n",
      "\n",
      "Accuracy\n",
      "0.9304225711732415\n"
     ]
    },
    {
     "name": "stderr",
     "output_type": "stream",
     "text": [
      "[NeMo W 2023-06-13 17:05:30 nemo_logging:349] /tmp/ipykernel_1951049/4172940570.py:15: FutureWarning: The frame.append method is deprecated and will be removed from pandas in a future version. Use pandas.concat instead.\n",
      "      results = results.append(pd.DataFrame({'feature_method':[k], 'label_type':[label_type], 'fake_cols':[fake_cols], 'acc':[model_manager.accuracy], 'cls_acc':[model_manager.class_accuracy],  'loss':[model_manager.log_loss_value], 'model':[model]}))\n",
      "    \n"
     ]
    },
    {
     "name": "stdout",
     "output_type": "stream",
     "text": [
      "Real\n",
      "UberDuck\n",
      "ElevenLabs\n",
      "\n",
      "Class Accuracy\n",
      "{'Real': 0.8326311757947147, 'UberDuck': 0.8360781309842972, 'ElevenLabs': 0.9268479509766373}\n",
      "\n",
      "Accuracy\n",
      "0.8651857525852163\n"
     ]
    },
    {
     "name": "stderr",
     "output_type": "stream",
     "text": [
      "[NeMo W 2023-06-13 17:05:41 nemo_logging:349] /tmp/ipykernel_1951049/4172940570.py:15: FutureWarning: The frame.append method is deprecated and will be removed from pandas in a future version. Use pandas.concat instead.\n",
      "      results = results.append(pd.DataFrame({'feature_method':[k], 'label_type':[label_type], 'fake_cols':[fake_cols], 'acc':[model_manager.accuracy], 'cls_acc':[model_manager.class_accuracy],  'loss':[model_manager.log_loss_value], 'model':[model]}))\n",
      "    \n"
     ]
    },
    {
     "name": "stdout",
     "output_type": "stream",
     "text": [
      "Real\n",
      "UberDuck\n",
      "ElevenLabs\n",
      "\n",
      "Class Accuracy\n",
      "{'Real': 0.8402910762160092, 'UberDuck': 0.8556108770585983, 'ElevenLabs': 0.9341248563768672}\n",
      "\n",
      "Accuracy\n",
      "0.8766756032171582\n"
     ]
    },
    {
     "name": "stderr",
     "output_type": "stream",
     "text": [
      "[NeMo W 2023-06-13 17:05:45 nemo_logging:349] /tmp/ipykernel_1951049/4172940570.py:15: FutureWarning: The frame.append method is deprecated and will be removed from pandas in a future version. Use pandas.concat instead.\n",
      "      results = results.append(pd.DataFrame({'feature_method':[k], 'label_type':[label_type], 'fake_cols':[fake_cols], 'acc':[model_manager.accuracy], 'cls_acc':[model_manager.class_accuracy],  'loss':[model_manager.log_loss_value], 'model':[model]}))\n",
      "    \n"
     ]
    },
    {
     "name": "stdout",
     "output_type": "stream",
     "text": [
      "Real\n",
      "UberDuck\n",
      "ElevenLabs\n",
      "\n",
      "Class Accuracy\n",
      "{'Real': 0.42089402310396784, 'UberDuck': 0.47540160642570284, 'ElevenLabs': 0.7187977585328579}\n",
      "\n",
      "Accuracy\n",
      "0.5375042045072318\n"
     ]
    }
   ],
   "source": [
    "file_path = '/home/ubuntu/data/wavefake_data/LJ_metadata_16KHz_Laundered.csv'\n",
    "run(['UberDuck', 'ElevenLabs'], file_path, '16KHz_ElevenLabs_and_UberDuck_Laundered')"
   ]
  },
  {
   "cell_type": "code",
   "execution_count": 19,
   "id": "3c8b87d4-d366-48de-9c5f-f0648069f1a7",
   "metadata": {},
   "outputs": [
    {
     "name": "stdout",
     "output_type": "stream",
     "text": [
      "# of Train instances: 31328\n",
      "# of Dev instances: 10444\n",
      "# of Test instances: 10444\n",
      "[NeMo I 2023-06-13 17:05:46 cloud:56] Found existing object /home/ubuntu/.cache/torch/NeMo/NeMo_1.15.0/titanet-l/492c0ab8416139171dc18c21879a9e45/titanet-l.nemo.\n",
      "[NeMo I 2023-06-13 17:05:46 cloud:62] Re-using file from: /home/ubuntu/.cache/torch/NeMo/NeMo_1.15.0/titanet-l/492c0ab8416139171dc18c21879a9e45/titanet-l.nemo\n",
      "[NeMo I 2023-06-13 17:05:46 common:913] Instantiating model from pre-trained checkpoint\n"
     ]
    },
    {
     "name": "stderr",
     "output_type": "stream",
     "text": [
      "[NeMo W 2023-06-13 17:05:46 modelPT:156] If you intend to do training or fine-tuning, please call the ModelPT.setup_training_data() method and provide a valid configuration file to setup the train data loader.\n",
      "    Train config : \n",
      "    manifest_filepath: /manifests/combined_fisher_swbd_voxceleb12_librispeech/train.json\n",
      "    sample_rate: 16000\n",
      "    labels: null\n",
      "    batch_size: 64\n",
      "    shuffle: true\n",
      "    time_length: 3\n",
      "    is_tarred: false\n",
      "    tarred_audio_filepaths: null\n",
      "    tarred_shard_strategy: scatter\n",
      "    augmentor:\n",
      "      noise:\n",
      "        manifest_path: /manifests/noise/rir_noise_manifest.json\n",
      "        prob: 0.5\n",
      "        min_snr_db: 0\n",
      "        max_snr_db: 15\n",
      "      speed:\n",
      "        prob: 0.5\n",
      "        sr: 16000\n",
      "        resample_type: kaiser_fast\n",
      "        min_speed_rate: 0.95\n",
      "        max_speed_rate: 1.05\n",
      "    num_workers: 15\n",
      "    pin_memory: true\n",
      "    \n",
      "[NeMo W 2023-06-13 17:05:46 modelPT:163] If you intend to do validation, please call the ModelPT.setup_validation_data() or ModelPT.setup_multiple_validation_data() method and provide a valid configuration file to setup the validation data loader(s). \n",
      "    Validation config : \n",
      "    manifest_filepath: /manifests/combined_fisher_swbd_voxceleb12_librispeech/dev.json\n",
      "    sample_rate: 16000\n",
      "    labels: null\n",
      "    batch_size: 128\n",
      "    shuffle: false\n",
      "    time_length: 3\n",
      "    num_workers: 15\n",
      "    pin_memory: true\n",
      "    \n"
     ]
    },
    {
     "name": "stdout",
     "output_type": "stream",
     "text": [
      "[NeMo I 2023-06-13 17:05:46 label_models:126] Setting angular: true/false in decoder is deprecated and will be removed in 1.13 version, use specific loss with _target_\n",
      "[NeMo I 2023-06-13 17:05:46 features:267] PADDING: 16\n",
      "[NeMo I 2023-06-13 17:05:47 save_restore_connector:243] Model EncDecSpeakerLabelModel was successfully restored from /home/ubuntu/.cache/torch/NeMo/NeMo_1.15.0/titanet-l/492c0ab8416139171dc18c21879a9e45/titanet-l.nemo.\n"
     ]
    },
    {
     "name": "stderr",
     "output_type": "stream",
     "text": [
      "100%|██████████| 10/10 [00:02<00:00,  3.38it/s]\n",
      "100%|██████████| 10/10 [00:00<00:00, 26.83it/s]\n",
      "100%|██████████| 10/10 [02:14<00:00, 13.41s/it]\n"
     ]
    },
    {
     "name": "stdout",
     "output_type": "stream",
     "text": [
      "Initializing data...\n",
      "Standardizing features...\n",
      "smileFeatureSelectFromModel object initialized.\n",
      "\n",
      "\n",
      "Selected features:.\n",
      "\n",
      "1. mfcc_sma[9]_lpgain\n",
      "2. jitterLocal_sma_percentile1.0\n",
      "3. mfcc_sma[14]_quartile3\n",
      "4. pcm_fftMag_fband1000-4000_sma_quartile1\n",
      "5. audspec_lengthL1norm_sma_amean\n",
      "6. pcm_fftMag_spectralFlux_sma_pctlrange0-1\n",
      "7. pcm_fftMag_spectralFlux_sma_de_rqmean\n",
      "8. jitterDDP_sma_flatness\n",
      "9. audspec_lengthL1norm_sma_quartile2\n",
      "10. mfcc_sma[14]_quartile2\n",
      "11. mfcc_sma[14]_rqmean\n",
      "12. mfcc_sma[14]_amean\n",
      "13. jitterDDP_sma_percentile1.0\n",
      "14. mfcc_sma[14]_quartile1\n",
      "15. pcm_fftMag_spectralFlux_sma_peakRangeAbs\n",
      "16. mfcc_sma[6]_lpc0\n",
      "17. jitterDDP_sma_quartile1\n",
      "18. jitterDDP_sma_quartile2\n",
      "19. mfcc_sma_de[9]_lpgain\n",
      "20. mfcc_sma[7]_lpc0\n",
      "Initializing data...\n",
      "Standardizing features...\n",
      "smileFeatureSelectFromModel object initialized.\n",
      "\n",
      "\n",
      "Selected features:.\n",
      "\n",
      "1. jitterLocal_sma_percentile1.0\n",
      "2. mfcc_sma[14]_quartile3\n",
      "3. pcm_fftMag_spectralSlope_sma_percentile99.0\n",
      "4. audSpec_Rfilt_sma[4]_qregc2\n",
      "5. audspecRasta_lengthL1norm_sma_maxPos\n",
      "6. mfcc_sma[5]_lpc2\n",
      "7. audSpec_Rfilt_sma_de[4]_maxPos\n",
      "8. audSpec_Rfilt_sma[5]_centroid\n",
      "9. mfcc_sma[13]_lpgain\n",
      "10. audSpec_Rfilt_sma[6]_centroid\n",
      "11. audSpec_Rfilt_sma_de[1]_minPos\n",
      "12. mfcc_sma[4]_peakMeanRel\n",
      "13. mfcc_sma[14]_quartile2\n",
      "14. audSpec_Rfilt_sma[4]_centroid\n",
      "15. mfcc_sma[14]_peakMeanRel\n",
      "16. mfcc_sma[14]_rqmean\n",
      "17. mfcc_sma[14]_amean\n",
      "18. jitterDDP_sma_percentile1.0\n",
      "19. mfcc_sma[11]_meanPeakDist\n",
      "20. jitterDDP_sma_quartile1\n"
     ]
    },
    {
     "name": "stderr",
     "output_type": "stream",
     "text": [
      "[NeMo W 2023-06-13 17:17:42 nemo_logging:349] /tmp/ipykernel_1951049/4172940570.py:15: FutureWarning: The frame.append method is deprecated and will be removed from pandas in a future version. Use pandas.concat instead.\n",
      "      results = results.append(pd.DataFrame({'feature_method':[k], 'label_type':[label_type], 'fake_cols':[fake_cols], 'acc':[model_manager.accuracy], 'cls_acc':[model_manager.class_accuracy],  'loss':[model_manager.log_loss_value], 'model':[model]}))\n",
      "    \n",
      "[NeMo W 2023-06-13 17:17:42 nemo_logging:349] /home/ubuntu/.local/lib/python3.8/site-packages/sklearn/linear_model/_logistic.py:458: ConvergenceWarning: lbfgs failed to converge (status=1):\n",
      "    STOP: TOTAL NO. of ITERATIONS REACHED LIMIT.\n",
      "    \n",
      "    Increase the number of iterations (max_iter) or scale the data as shown in:\n",
      "        https://scikit-learn.org/stable/modules/preprocessing.html\n",
      "    Please also refer to the documentation for alternative solver options:\n",
      "        https://scikit-learn.org/stable/modules/linear_model.html#logistic-regression\n",
      "      n_iter_i = _check_optimize_result(\n",
      "    \n",
      "[NeMo W 2023-06-13 17:17:42 nemo_logging:349] /tmp/ipykernel_1951049/4172940570.py:15: FutureWarning: The frame.append method is deprecated and will be removed from pandas in a future version. Use pandas.concat instead.\n",
      "      results = results.append(pd.DataFrame({'feature_method':[k], 'label_type':[label_type], 'fake_cols':[fake_cols], 'acc':[model_manager.accuracy], 'cls_acc':[model_manager.class_accuracy],  'loss':[model_manager.log_loss_value], 'model':[model]}))\n",
      "    \n"
     ]
    },
    {
     "name": "stdout",
     "output_type": "stream",
     "text": [
      "Real\n",
      "ElevenLabs\n",
      "\n",
      "Class Accuracy\n",
      "{'Real': 0.746840291076216, 'ElevenLabs': 0.9784246138133538}\n",
      "\n",
      "Accuracy\n",
      "0.9205285331290693\n",
      "Real\n",
      "ElevenLabs\n",
      "\n",
      "Class Accuracy\n",
      "{'Real': 0.30831099195710454, 'ElevenLabs': 0.949189327205413}\n",
      "\n",
      "Accuracy\n",
      "0.7889697433933359\n"
     ]
    },
    {
     "name": "stderr",
     "output_type": "stream",
     "text": [
      "[NeMo W 2023-06-13 17:17:42 nemo_logging:349] /home/ubuntu/.local/lib/python3.8/site-packages/sklearn/linear_model/_logistic.py:458: ConvergenceWarning: lbfgs failed to converge (status=1):\n",
      "    STOP: TOTAL NO. of ITERATIONS REACHED LIMIT.\n",
      "    \n",
      "    Increase the number of iterations (max_iter) or scale the data as shown in:\n",
      "        https://scikit-learn.org/stable/modules/preprocessing.html\n",
      "    Please also refer to the documentation for alternative solver options:\n",
      "        https://scikit-learn.org/stable/modules/linear_model.html#logistic-regression\n",
      "      n_iter_i = _check_optimize_result(\n",
      "    \n",
      "[NeMo W 2023-06-13 17:17:42 nemo_logging:349] /tmp/ipykernel_1951049/4172940570.py:15: FutureWarning: The frame.append method is deprecated and will be removed from pandas in a future version. Use pandas.concat instead.\n",
      "      results = results.append(pd.DataFrame({'feature_method':[k], 'label_type':[label_type], 'fake_cols':[fake_cols], 'acc':[model_manager.accuracy], 'cls_acc':[model_manager.class_accuracy],  'loss':[model_manager.log_loss_value], 'model':[model]}))\n",
      "    \n",
      "[NeMo W 2023-06-13 17:17:42 nemo_logging:349] /tmp/ipykernel_1951049/4172940570.py:15: FutureWarning: The frame.append method is deprecated and will be removed from pandas in a future version. Use pandas.concat instead.\n",
      "      results = results.append(pd.DataFrame({'feature_method':[k], 'label_type':[label_type], 'fake_cols':[fake_cols], 'acc':[model_manager.accuracy], 'cls_acc':[model_manager.class_accuracy],  'loss':[model_manager.log_loss_value], 'model':[model]}))\n",
      "    \n"
     ]
    },
    {
     "name": "stdout",
     "output_type": "stream",
     "text": [
      "Real\n",
      "ElevenLabs\n",
      "\n",
      "Class Accuracy\n",
      "{'Real': 0.2784373803140559, 'ElevenLabs': 0.9412740967700753}\n",
      "\n",
      "Accuracy\n",
      "0.7755649176560705\n",
      "Real\n",
      "ElevenLabs\n",
      "\n",
      "Class Accuracy\n",
      "{'Real': 0.0005083884087442806, 'ElevenLabs': 0.999665327978581}\n",
      "\n",
      "Accuracy\n",
      "0.7522346720382727\n"
     ]
    },
    {
     "name": "stderr",
     "output_type": "stream",
     "text": [
      "[NeMo W 2023-06-13 17:17:43 nemo_logging:349] /home/ubuntu/.local/lib/python3.8/site-packages/sklearn/linear_model/_logistic.py:458: ConvergenceWarning: lbfgs failed to converge (status=1):\n",
      "    STOP: TOTAL NO. of ITERATIONS REACHED LIMIT.\n",
      "    \n",
      "    Increase the number of iterations (max_iter) or scale the data as shown in:\n",
      "        https://scikit-learn.org/stable/modules/preprocessing.html\n",
      "    Please also refer to the documentation for alternative solver options:\n",
      "        https://scikit-learn.org/stable/modules/linear_model.html#logistic-regression\n",
      "      n_iter_i = _check_optimize_result(\n",
      "    \n",
      "[NeMo W 2023-06-13 17:17:43 nemo_logging:349] /tmp/ipykernel_1951049/4172940570.py:15: FutureWarning: The frame.append method is deprecated and will be removed from pandas in a future version. Use pandas.concat instead.\n",
      "      results = results.append(pd.DataFrame({'feature_method':[k], 'label_type':[label_type], 'fake_cols':[fake_cols], 'acc':[model_manager.accuracy], 'cls_acc':[model_manager.class_accuracy],  'loss':[model_manager.log_loss_value], 'model':[model]}))\n",
      "    \n"
     ]
    },
    {
     "name": "stdout",
     "output_type": "stream",
     "text": [
      "Real\n",
      "ElevenLabs\n",
      "UberDuck\n",
      "RandWaveFake\n",
      "\n",
      "Class Accuracy\n",
      "{'Real': 0.8356951359632325, 'ElevenLabs': 0.9322098812715435, 'UberDuck': 0.9073152049023363, 'RandWaveFake': 0.847567981616239}\n",
      "\n",
      "Accuracy\n",
      "0.8806970509383378\n"
     ]
    },
    {
     "name": "stderr",
     "output_type": "stream",
     "text": [
      "[NeMo W 2023-06-13 17:17:44 nemo_logging:349] /home/ubuntu/.local/lib/python3.8/site-packages/sklearn/linear_model/_logistic.py:458: ConvergenceWarning: lbfgs failed to converge (status=1):\n",
      "    STOP: TOTAL NO. of ITERATIONS REACHED LIMIT.\n",
      "    \n",
      "    Increase the number of iterations (max_iter) or scale the data as shown in:\n",
      "        https://scikit-learn.org/stable/modules/preprocessing.html\n",
      "    Please also refer to the documentation for alternative solver options:\n",
      "        https://scikit-learn.org/stable/modules/linear_model.html#logistic-regression\n",
      "      n_iter_i = _check_optimize_result(\n",
      "    \n",
      "[NeMo W 2023-06-13 17:17:44 nemo_logging:349] /tmp/ipykernel_1951049/4172940570.py:15: FutureWarning: The frame.append method is deprecated and will be removed from pandas in a future version. Use pandas.concat instead.\n",
      "      results = results.append(pd.DataFrame({'feature_method':[k], 'label_type':[label_type], 'fake_cols':[fake_cols], 'acc':[model_manager.accuracy], 'cls_acc':[model_manager.class_accuracy],  'loss':[model_manager.log_loss_value], 'model':[model]}))\n",
      "    \n"
     ]
    },
    {
     "name": "stdout",
     "output_type": "stream",
     "text": [
      "Real\n",
      "ElevenLabs\n",
      "UberDuck\n",
      "RandWaveFake\n",
      "\n",
      "Class Accuracy\n",
      "{'Real': 0.48410570662581387, 'ElevenLabs': 0.5878973573343547, 'UberDuck': 0.6572194561470701, 'RandWaveFake': 0.4339333588663347}\n",
      "\n",
      "Accuracy\n",
      "0.5407889697433933\n"
     ]
    },
    {
     "name": "stderr",
     "output_type": "stream",
     "text": [
      "[NeMo W 2023-06-13 17:17:45 nemo_logging:349] /home/ubuntu/.local/lib/python3.8/site-packages/sklearn/linear_model/_logistic.py:458: ConvergenceWarning: lbfgs failed to converge (status=1):\n",
      "    STOP: TOTAL NO. of ITERATIONS REACHED LIMIT.\n",
      "    \n",
      "    Increase the number of iterations (max_iter) or scale the data as shown in:\n",
      "        https://scikit-learn.org/stable/modules/preprocessing.html\n",
      "    Please also refer to the documentation for alternative solver options:\n",
      "        https://scikit-learn.org/stable/modules/linear_model.html#logistic-regression\n",
      "      n_iter_i = _check_optimize_result(\n",
      "    \n",
      "[NeMo W 2023-06-13 17:17:45 nemo_logging:349] /tmp/ipykernel_1951049/4172940570.py:15: FutureWarning: The frame.append method is deprecated and will be removed from pandas in a future version. Use pandas.concat instead.\n",
      "      results = results.append(pd.DataFrame({'feature_method':[k], 'label_type':[label_type], 'fake_cols':[fake_cols], 'acc':[model_manager.accuracy], 'cls_acc':[model_manager.class_accuracy],  'loss':[model_manager.log_loss_value], 'model':[model]}))\n",
      "    \n"
     ]
    },
    {
     "name": "stdout",
     "output_type": "stream",
     "text": [
      "Real\n",
      "ElevenLabs\n",
      "UberDuck\n",
      "RandWaveFake\n",
      "\n",
      "Class Accuracy\n",
      "{'Real': 0.4810417464572961, 'ElevenLabs': 0.802757564151666, 'UberDuck': 0.7767139027192647, 'RandWaveFake': 0.43086939869781693}\n",
      "\n",
      "Accuracy\n",
      "0.622845653006511\n"
     ]
    },
    {
     "name": "stderr",
     "output_type": "stream",
     "text": [
      "[NeMo W 2023-06-13 17:17:45 nemo_logging:349] /home/ubuntu/.local/lib/python3.8/site-packages/sklearn/linear_model/_logistic.py:458: ConvergenceWarning: lbfgs failed to converge (status=1):\n",
      "    STOP: TOTAL NO. of ITERATIONS REACHED LIMIT.\n",
      "    \n",
      "    Increase the number of iterations (max_iter) or scale the data as shown in:\n",
      "        https://scikit-learn.org/stable/modules/preprocessing.html\n",
      "    Please also refer to the documentation for alternative solver options:\n",
      "        https://scikit-learn.org/stable/modules/linear_model.html#logistic-regression\n",
      "      n_iter_i = _check_optimize_result(\n",
      "    \n",
      "[NeMo W 2023-06-13 17:17:45 nemo_logging:349] /tmp/ipykernel_1951049/4172940570.py:15: FutureWarning: The frame.append method is deprecated and will be removed from pandas in a future version. Use pandas.concat instead.\n",
      "      results = results.append(pd.DataFrame({'feature_method':[k], 'label_type':[label_type], 'fake_cols':[fake_cols], 'acc':[model_manager.accuracy], 'cls_acc':[model_manager.class_accuracy],  'loss':[model_manager.log_loss_value], 'model':[model]}))\n",
      "    \n"
     ]
    },
    {
     "name": "stdout",
     "output_type": "stream",
     "text": [
      "Real\n",
      "ElevenLabs\n",
      "UberDuck\n",
      "RandWaveFake\n",
      "\n",
      "Class Accuracy\n",
      "{'Real': 0.28825622775800713, 'ElevenLabs': 0.7621432148222334, 'UberDuck': 0.5342465753424658, 'RandWaveFake': 0.06772908366533864}\n",
      "\n",
      "Accuracy\n",
      "0.41269041923706407\n"
     ]
    },
    {
     "name": "stderr",
     "output_type": "stream",
     "text": [
      "[NeMo W 2023-06-13 17:18:42 nemo_logging:349] /tmp/ipykernel_1951049/4172940570.py:15: FutureWarning: The frame.append method is deprecated and will be removed from pandas in a future version. Use pandas.concat instead.\n",
      "      results = results.append(pd.DataFrame({'feature_method':[k], 'label_type':[label_type], 'fake_cols':[fake_cols], 'acc':[model_manager.accuracy], 'cls_acc':[model_manager.class_accuracy],  'loss':[model_manager.log_loss_value], 'model':[model]}))\n",
      "    \n"
     ]
    },
    {
     "name": "stdout",
     "output_type": "stream",
     "text": [
      "Real\n",
      "ElevenLabs\n",
      "\n",
      "Class Accuracy\n",
      "{'Real': 0.7004978935273841, 'ElevenLabs': 0.9836588791012384}\n",
      "\n",
      "Accuracy\n",
      "0.9128686327077749\n"
     ]
    },
    {
     "name": "stderr",
     "output_type": "stream",
     "text": [
      "[NeMo W 2023-06-13 17:18:58 nemo_logging:349] /tmp/ipykernel_1951049/4172940570.py:15: FutureWarning: The frame.append method is deprecated and will be removed from pandas in a future version. Use pandas.concat instead.\n",
      "      results = results.append(pd.DataFrame({'feature_method':[k], 'label_type':[label_type], 'fake_cols':[fake_cols], 'acc':[model_manager.accuracy], 'cls_acc':[model_manager.class_accuracy],  'loss':[model_manager.log_loss_value], 'model':[model]}))\n",
      "    \n"
     ]
    },
    {
     "name": "stdout",
     "output_type": "stream",
     "text": [
      "Real\n",
      "ElevenLabs\n",
      "\n",
      "Class Accuracy\n",
      "{'Real': 0.5833014170815779, 'ElevenLabs': 0.9572322226477722}\n",
      "\n",
      "Accuracy\n",
      "0.8637495212562236\n"
     ]
    },
    {
     "name": "stderr",
     "output_type": "stream",
     "text": [
      "[NeMo W 2023-06-13 17:19:13 nemo_logging:349] /tmp/ipykernel_1951049/4172940570.py:15: FutureWarning: The frame.append method is deprecated and will be removed from pandas in a future version. Use pandas.concat instead.\n",
      "      results = results.append(pd.DataFrame({'feature_method':[k], 'label_type':[label_type], 'fake_cols':[fake_cols], 'acc':[model_manager.accuracy], 'cls_acc':[model_manager.class_accuracy],  'loss':[model_manager.log_loss_value], 'model':[model]}))\n",
      "    \n"
     ]
    },
    {
     "name": "stdout",
     "output_type": "stream",
     "text": [
      "Real\n",
      "ElevenLabs\n",
      "\n",
      "Class Accuracy\n",
      "{'Real': 0.5553427805438529, 'ElevenLabs': 0.9558279075705349}\n",
      "\n",
      "Accuracy\n",
      "0.8557066258138645\n"
     ]
    },
    {
     "name": "stderr",
     "output_type": "stream",
     "text": [
      "[NeMo W 2023-06-13 17:19:21 nemo_logging:349] /tmp/ipykernel_1951049/4172940570.py:15: FutureWarning: The frame.append method is deprecated and will be removed from pandas in a future version. Use pandas.concat instead.\n",
      "      results = results.append(pd.DataFrame({'feature_method':[k], 'label_type':[label_type], 'fake_cols':[fake_cols], 'acc':[model_manager.accuracy], 'cls_acc':[model_manager.class_accuracy],  'loss':[model_manager.log_loss_value], 'model':[model]}))\n",
      "    \n"
     ]
    },
    {
     "name": "stdout",
     "output_type": "stream",
     "text": [
      "Real\n",
      "ElevenLabs\n",
      "\n",
      "Class Accuracy\n",
      "{'Real': 0.07066598881545501, 'ElevenLabs': 0.9558232931726908}\n",
      "\n",
      "Accuracy\n",
      "0.736623442024424\n",
      "Real\n",
      "ElevenLabs\n",
      "UberDuck\n",
      "RandWaveFake\n"
     ]
    },
    {
     "name": "stderr",
     "output_type": "stream",
     "text": [
      "[NeMo W 2023-06-13 17:20:19 nemo_logging:349] /tmp/ipykernel_1951049/4172940570.py:15: FutureWarning: The frame.append method is deprecated and will be removed from pandas in a future version. Use pandas.concat instead.\n",
      "      results = results.append(pd.DataFrame({'feature_method':[k], 'label_type':[label_type], 'fake_cols':[fake_cols], 'acc':[model_manager.accuracy], 'cls_acc':[model_manager.class_accuracy],  'loss':[model_manager.log_loss_value], 'model':[model]}))\n",
      "    \n"
     ]
    },
    {
     "name": "stdout",
     "output_type": "stream",
     "text": [
      "\n",
      "Class Accuracy\n",
      "{'Real': 0.8100344695518958, 'ElevenLabs': 0.9410187667560321, 'UberDuck': 0.920337035618537, 'RandWaveFake': 0.8119494446572194}\n",
      "\n",
      "Accuracy\n",
      "0.8708349291459211\n",
      "Real\n",
      "ElevenLabs\n",
      "UberDuck\n",
      "RandWaveFake\n",
      "\n",
      "Class Accuracy\n",
      "{'Real': 0.7024128686327078, 'ElevenLabs': 0.7702029873611643, 'UberDuck': 0.7571811566449637, 'RandWaveFake': 0.6499425507468403}\n",
      "\n",
      "Accuracy\n",
      "0.719934890846419\n"
     ]
    },
    {
     "name": "stderr",
     "output_type": "stream",
     "text": [
      "[NeMo W 2023-06-13 17:20:36 nemo_logging:349] /tmp/ipykernel_1951049/4172940570.py:15: FutureWarning: The frame.append method is deprecated and will be removed from pandas in a future version. Use pandas.concat instead.\n",
      "      results = results.append(pd.DataFrame({'feature_method':[k], 'label_type':[label_type], 'fake_cols':[fake_cols], 'acc':[model_manager.accuracy], 'cls_acc':[model_manager.class_accuracy],  'loss':[model_manager.log_loss_value], 'model':[model]}))\n",
      "    \n",
      "[NeMo W 2023-06-13 17:20:54 nemo_logging:349] /tmp/ipykernel_1951049/4172940570.py:15: FutureWarning: The frame.append method is deprecated and will be removed from pandas in a future version. Use pandas.concat instead.\n",
      "      results = results.append(pd.DataFrame({'feature_method':[k], 'label_type':[label_type], 'fake_cols':[fake_cols], 'acc':[model_manager.accuracy], 'cls_acc':[model_manager.class_accuracy],  'loss':[model_manager.log_loss_value], 'model':[model]}))\n",
      "    \n"
     ]
    },
    {
     "name": "stdout",
     "output_type": "stream",
     "text": [
      "Real\n",
      "ElevenLabs\n",
      "UberDuck\n",
      "RandWaveFake\n",
      "\n",
      "Class Accuracy\n",
      "{'Real': 0.6641133665262352, 'ElevenLabs': 0.9302949061662198, 'UberDuck': 0.8169283799310609, 'RandWaveFake': 0.6710072769054002}\n",
      "\n",
      "Accuracy\n",
      "0.7705859823822291\n"
     ]
    },
    {
     "name": "stderr",
     "output_type": "stream",
     "text": [
      "[NeMo W 2023-06-13 17:21:00 nemo_logging:349] /tmp/ipykernel_1951049/4172940570.py:15: FutureWarning: The frame.append method is deprecated and will be removed from pandas in a future version. Use pandas.concat instead.\n",
      "      results = results.append(pd.DataFrame({'feature_method':[k], 'label_type':[label_type], 'fake_cols':[fake_cols], 'acc':[model_manager.accuracy], 'cls_acc':[model_manager.class_accuracy],  'loss':[model_manager.log_loss_value], 'model':[model]}))\n",
      "    \n"
     ]
    },
    {
     "name": "stdout",
     "output_type": "stream",
     "text": [
      "Real\n",
      "ElevenLabs\n",
      "UberDuck\n",
      "RandWaveFake\n",
      "\n",
      "Class Accuracy\n",
      "{'Real': 0.30808337569903405, 'ElevenLabs': 0.6710065097646469, 'UberDuck': 0.42364282090309485, 'RandWaveFake': 0.2495019920318725}\n",
      "\n",
      "Accuracy\n",
      "0.41319400730202693\n"
     ]
    }
   ],
   "source": [
    "file_path = '/home/ubuntu/data/wavefake_data/LJ_metadata_16KHz_Laundered.csv'\n",
    "run(['ElevenLabs', 'UberDuck', 'RandWaveFake'], file_path, '16KHz_Mix_Laundered')"
   ]
  },
  {
   "cell_type": "code",
   "execution_count": 21,
   "id": "722812eb-90c7-43a3-b0f2-9131167bcc08",
   "metadata": {},
   "outputs": [
    {
     "name": "stdout",
     "output_type": "stream",
     "text": [
      "# of Train instances: 15664\n",
      "# of Dev instances: 5222\n",
      "# of Test instances: 5222\n",
      "[NeMo I 2023-06-13 17:24:35 cloud:56] Found existing object /home/ubuntu/.cache/torch/NeMo/NeMo_1.15.0/titanet-l/492c0ab8416139171dc18c21879a9e45/titanet-l.nemo.\n",
      "[NeMo I 2023-06-13 17:24:35 cloud:62] Re-using file from: /home/ubuntu/.cache/torch/NeMo/NeMo_1.15.0/titanet-l/492c0ab8416139171dc18c21879a9e45/titanet-l.nemo\n",
      "[NeMo I 2023-06-13 17:24:35 common:913] Instantiating model from pre-trained checkpoint\n"
     ]
    },
    {
     "name": "stderr",
     "output_type": "stream",
     "text": [
      "[NeMo W 2023-06-13 17:24:35 modelPT:156] If you intend to do training or fine-tuning, please call the ModelPT.setup_training_data() method and provide a valid configuration file to setup the train data loader.\n",
      "    Train config : \n",
      "    manifest_filepath: /manifests/combined_fisher_swbd_voxceleb12_librispeech/train.json\n",
      "    sample_rate: 16000\n",
      "    labels: null\n",
      "    batch_size: 64\n",
      "    shuffle: true\n",
      "    time_length: 3\n",
      "    is_tarred: false\n",
      "    tarred_audio_filepaths: null\n",
      "    tarred_shard_strategy: scatter\n",
      "    augmentor:\n",
      "      noise:\n",
      "        manifest_path: /manifests/noise/rir_noise_manifest.json\n",
      "        prob: 0.5\n",
      "        min_snr_db: 0\n",
      "        max_snr_db: 15\n",
      "      speed:\n",
      "        prob: 0.5\n",
      "        sr: 16000\n",
      "        resample_type: kaiser_fast\n",
      "        min_speed_rate: 0.95\n",
      "        max_speed_rate: 1.05\n",
      "    num_workers: 15\n",
      "    pin_memory: true\n",
      "    \n",
      "[NeMo W 2023-06-13 17:24:35 modelPT:163] If you intend to do validation, please call the ModelPT.setup_validation_data() or ModelPT.setup_multiple_validation_data() method and provide a valid configuration file to setup the validation data loader(s). \n",
      "    Validation config : \n",
      "    manifest_filepath: /manifests/combined_fisher_swbd_voxceleb12_librispeech/dev.json\n",
      "    sample_rate: 16000\n",
      "    labels: null\n",
      "    batch_size: 128\n",
      "    shuffle: false\n",
      "    time_length: 3\n",
      "    num_workers: 15\n",
      "    pin_memory: true\n",
      "    \n"
     ]
    },
    {
     "name": "stdout",
     "output_type": "stream",
     "text": [
      "[NeMo I 2023-06-13 17:24:35 label_models:126] Setting angular: true/false in decoder is deprecated and will be removed in 1.13 version, use specific loss with _target_\n",
      "[NeMo I 2023-06-13 17:24:35 features:267] PADDING: 16\n",
      "[NeMo I 2023-06-13 17:24:36 save_restore_connector:243] Model EncDecSpeakerLabelModel was successfully restored from /home/ubuntu/.cache/torch/NeMo/NeMo_1.15.0/titanet-l/492c0ab8416139171dc18c21879a9e45/titanet-l.nemo.\n"
     ]
    },
    {
     "name": "stderr",
     "output_type": "stream",
     "text": [
      "100%|██████████| 3/3 [00:00<00:00,  3.61it/s]\n",
      "100%|██████████| 3/3 [00:00<00:00, 31.17it/s]\n",
      "100%|██████████| 3/3 [00:38<00:00, 12.94s/it]\n"
     ]
    },
    {
     "name": "stdout",
     "output_type": "stream",
     "text": [
      "Initializing data...\n",
      "Standardizing features...\n",
      "smileFeatureSelectFromModel object initialized.\n",
      "\n",
      "\n",
      "Selected features:.\n",
      "\n",
      "1. mfcc_sma[13]_quartile2\n",
      "2. audSpec_Rfilt_sma[19]_centroid\n",
      "3. mfcc_sma[9]_lpgain\n",
      "4. audspecRasta_lengthL1norm_sma_de_maxPos\n",
      "5. mfcc_sma[14]_quartile3\n",
      "6. audspec_lengthL1norm_sma_quartile3\n",
      "7. mfcc_sma_de[9]_meanRisingSlope\n",
      "8. mfcc_sma[14]_peakMeanAbs\n",
      "9. pcm_RMSenergy_sma_de_peakMeanRel\n",
      "10. mfcc_sma[10]_meanPeakDist\n",
      "11. mfcc_sma[11]_pctlrange0-1\n",
      "12. mfcc_sma[14]_quartile2\n",
      "13. mfcc_sma_de[13]_lpgain\n",
      "14. audspecRasta_lengthL1norm_sma_de_minPos\n",
      "15. audspec_lengthL1norm_sma_minPos\n",
      "16. mfcc_sma[14]_rqmean\n",
      "17. mfcc_sma[14]_amean\n",
      "18. mfcc_sma_de[13]_meanRisingSlope\n",
      "19. mfcc_sma[14]_quartile1\n",
      "20. mfcc_sma_de[9]_lpgain\n",
      "Initializing data...\n",
      "Standardizing features...\n",
      "smileFeatureSelectFromModel object initialized.\n",
      "\n"
     ]
    },
    {
     "name": "stderr",
     "output_type": "stream",
     "text": [
      "[NeMo W 2023-06-13 17:29:34 nemo_logging:349] /tmp/ipykernel_1951049/4172940570.py:15: FutureWarning: The frame.append method is deprecated and will be removed from pandas in a future version. Use pandas.concat instead.\n",
      "      results = results.append(pd.DataFrame({'feature_method':[k], 'label_type':[label_type], 'fake_cols':[fake_cols], 'acc':[model_manager.accuracy], 'cls_acc':[model_manager.class_accuracy],  'loss':[model_manager.log_loss_value], 'model':[model]}))\n",
      "    \n"
     ]
    },
    {
     "name": "stdout",
     "output_type": "stream",
     "text": [
      "\n",
      "Selected features:.\n",
      "\n",
      "1. audSpec_Rfilt_sma[2]_qregc2\n",
      "2. mfcc_sma[9]_lpgain\n",
      "3. mfcc_sma[14]_quartile3\n",
      "4. pcm_fftMag_spectralSlope_sma_percentile99.0\n",
      "5. pcm_fftMag_fband1000-4000_sma_quartile1\n",
      "6. mfcc_sma[12]_meanPeakDist\n",
      "7. mfcc_sma_de[9]_meanRisingSlope\n",
      "8. audspec_lengthL1norm_sma_rqmean\n",
      "9. mfcc_sma[14]_peakMeanAbs\n",
      "10. audSpec_Rfilt_sma[5]_centroid\n",
      "11. mfcc_sma[13]_lpgain\n",
      "12. pcm_fftMag_spectralSlope_sma_upleveltime90\n",
      "13. mfcc_sma[14]_quartile2\n",
      "14. audspec_lengthL1norm_sma_minPos\n",
      "15. mfcc_sma[14]_rqmean\n",
      "16. mfcc_sma[14]_amean\n",
      "17. audspecRasta_lengthL1norm_sma_qregc2\n",
      "18. mfcc_sma[14]_quartile1\n",
      "19. mfcc_sma[6]_lpc0\n",
      "20. audspecRasta_lengthL1norm_sma_qregc1\n",
      "Real\n",
      "EL_UD_Fake\n",
      "\n",
      "Class Accuracy\n",
      "{'Real': 0.9218690157027959, 'EL_UD_Fake': 0.9494446572194561}\n",
      "\n",
      "Accuracy\n",
      "0.935656836461126\n"
     ]
    },
    {
     "name": "stderr",
     "output_type": "stream",
     "text": [
      "[NeMo W 2023-06-13 17:29:34 nemo_logging:349] /home/ubuntu/.local/lib/python3.8/site-packages/sklearn/linear_model/_logistic.py:458: ConvergenceWarning: lbfgs failed to converge (status=1):\n",
      "    STOP: TOTAL NO. of ITERATIONS REACHED LIMIT.\n",
      "    \n",
      "    Increase the number of iterations (max_iter) or scale the data as shown in:\n",
      "        https://scikit-learn.org/stable/modules/preprocessing.html\n",
      "    Please also refer to the documentation for alternative solver options:\n",
      "        https://scikit-learn.org/stable/modules/linear_model.html#logistic-regression\n",
      "      n_iter_i = _check_optimize_result(\n",
      "    \n",
      "[NeMo W 2023-06-13 17:29:34 nemo_logging:349] /tmp/ipykernel_1951049/4172940570.py:15: FutureWarning: The frame.append method is deprecated and will be removed from pandas in a future version. Use pandas.concat instead.\n",
      "      results = results.append(pd.DataFrame({'feature_method':[k], 'label_type':[label_type], 'fake_cols':[fake_cols], 'acc':[model_manager.accuracy], 'cls_acc':[model_manager.class_accuracy],  'loss':[model_manager.log_loss_value], 'model':[model]}))\n",
      "    \n",
      "[NeMo W 2023-06-13 17:29:34 nemo_logging:349] /home/ubuntu/.local/lib/python3.8/site-packages/sklearn/linear_model/_logistic.py:458: ConvergenceWarning: lbfgs failed to converge (status=1):\n",
      "    STOP: TOTAL NO. of ITERATIONS REACHED LIMIT.\n",
      "    \n",
      "    Increase the number of iterations (max_iter) or scale the data as shown in:\n",
      "        https://scikit-learn.org/stable/modules/preprocessing.html\n",
      "    Please also refer to the documentation for alternative solver options:\n",
      "        https://scikit-learn.org/stable/modules/linear_model.html#logistic-regression\n",
      "      n_iter_i = _check_optimize_result(\n",
      "    \n",
      "[NeMo W 2023-06-13 17:29:34 nemo_logging:349] /tmp/ipykernel_1951049/4172940570.py:15: FutureWarning: The frame.append method is deprecated and will be removed from pandas in a future version. Use pandas.concat instead.\n",
      "      results = results.append(pd.DataFrame({'feature_method':[k], 'label_type':[label_type], 'fake_cols':[fake_cols], 'acc':[model_manager.accuracy], 'cls_acc':[model_manager.class_accuracy],  'loss':[model_manager.log_loss_value], 'model':[model]}))\n",
      "    \n",
      "[NeMo W 2023-06-13 17:29:34 nemo_logging:349] /tmp/ipykernel_1951049/4172940570.py:15: FutureWarning: The frame.append method is deprecated and will be removed from pandas in a future version. Use pandas.concat instead.\n",
      "      results = results.append(pd.DataFrame({'feature_method':[k], 'label_type':[label_type], 'fake_cols':[fake_cols], 'acc':[model_manager.accuracy], 'cls_acc':[model_manager.class_accuracy],  'loss':[model_manager.log_loss_value], 'model':[model]}))\n",
      "    \n"
     ]
    },
    {
     "name": "stdout",
     "output_type": "stream",
     "text": [
      "Real\n",
      "EL_UD_Fake\n",
      "\n",
      "Class Accuracy\n",
      "{'Real': 0.8272692454998085, 'EL_UD_Fake': 0.7897357334354653}\n",
      "\n",
      "Accuracy\n",
      "0.8085024894676369\n",
      "Real\n",
      "EL_UD_Fake\n",
      "\n",
      "Class Accuracy\n",
      "{'Real': 0.7912677135197242, 'EL_UD_Fake': 0.8169283799310609}\n",
      "\n",
      "Accuracy\n",
      "0.8040980467253925\n",
      "Real\n",
      "EL_UD_Fake\n",
      "\n",
      "Class Accuracy\n",
      "{'Real': 0.6658215010141988, 'EL_UD_Fake': 0.5656515227159261}\n",
      "\n",
      "Accuracy\n",
      "0.6153459119496856\n"
     ]
    },
    {
     "name": "stderr",
     "output_type": "stream",
     "text": [
      "[NeMo W 2023-06-13 17:29:34 nemo_logging:349] /tmp/ipykernel_1951049/4172940570.py:15: FutureWarning: The frame.append method is deprecated and will be removed from pandas in a future version. Use pandas.concat instead.\n",
      "      results = results.append(pd.DataFrame({'feature_method':[k], 'label_type':[label_type], 'fake_cols':[fake_cols], 'acc':[model_manager.accuracy], 'cls_acc':[model_manager.class_accuracy],  'loss':[model_manager.log_loss_value], 'model':[model]}))\n",
      "    \n",
      "[NeMo W 2023-06-13 17:29:34 nemo_logging:349] /home/ubuntu/.local/lib/python3.8/site-packages/sklearn/linear_model/_logistic.py:458: ConvergenceWarning: lbfgs failed to converge (status=1):\n",
      "    STOP: TOTAL NO. of ITERATIONS REACHED LIMIT.\n",
      "    \n",
      "    Increase the number of iterations (max_iter) or scale the data as shown in:\n",
      "        https://scikit-learn.org/stable/modules/preprocessing.html\n",
      "    Please also refer to the documentation for alternative solver options:\n",
      "        https://scikit-learn.org/stable/modules/linear_model.html#logistic-regression\n",
      "      n_iter_i = _check_optimize_result(\n",
      "    \n",
      "[NeMo W 2023-06-13 17:29:34 nemo_logging:349] /tmp/ipykernel_1951049/4172940570.py:15: FutureWarning: The frame.append method is deprecated and will be removed from pandas in a future version. Use pandas.concat instead.\n",
      "      results = results.append(pd.DataFrame({'feature_method':[k], 'label_type':[label_type], 'fake_cols':[fake_cols], 'acc':[model_manager.accuracy], 'cls_acc':[model_manager.class_accuracy],  'loss':[model_manager.log_loss_value], 'model':[model]}))\n",
      "    \n"
     ]
    },
    {
     "name": "stdout",
     "output_type": "stream",
     "text": [
      "Real\n",
      "EL_UD_Fake\n",
      "\n",
      "Class Accuracy\n",
      "{'Real': 0.9218690157027959, 'EL_UD_Fake': 0.9494446572194561}\n",
      "\n",
      "Accuracy\n",
      "0.935656836461126\n",
      "Real\n",
      "EL_UD_Fake\n",
      "\n",
      "Class Accuracy\n",
      "{'Real': 0.8272692454998085, 'EL_UD_Fake': 0.7897357334354653}\n",
      "\n",
      "Accuracy\n",
      "0.8085024894676369\n"
     ]
    },
    {
     "name": "stderr",
     "output_type": "stream",
     "text": [
      "[NeMo W 2023-06-13 17:29:34 nemo_logging:349] /home/ubuntu/.local/lib/python3.8/site-packages/sklearn/linear_model/_logistic.py:458: ConvergenceWarning: lbfgs failed to converge (status=1):\n",
      "    STOP: TOTAL NO. of ITERATIONS REACHED LIMIT.\n",
      "    \n",
      "    Increase the number of iterations (max_iter) or scale the data as shown in:\n",
      "        https://scikit-learn.org/stable/modules/preprocessing.html\n",
      "    Please also refer to the documentation for alternative solver options:\n",
      "        https://scikit-learn.org/stable/modules/linear_model.html#logistic-regression\n",
      "      n_iter_i = _check_optimize_result(\n",
      "    \n",
      "[NeMo W 2023-06-13 17:29:34 nemo_logging:349] /tmp/ipykernel_1951049/4172940570.py:15: FutureWarning: The frame.append method is deprecated and will be removed from pandas in a future version. Use pandas.concat instead.\n",
      "      results = results.append(pd.DataFrame({'feature_method':[k], 'label_type':[label_type], 'fake_cols':[fake_cols], 'acc':[model_manager.accuracy], 'cls_acc':[model_manager.class_accuracy],  'loss':[model_manager.log_loss_value], 'model':[model]}))\n",
      "    \n",
      "[NeMo W 2023-06-13 17:29:34 nemo_logging:349] /tmp/ipykernel_1951049/4172940570.py:15: FutureWarning: The frame.append method is deprecated and will be removed from pandas in a future version. Use pandas.concat instead.\n",
      "      results = results.append(pd.DataFrame({'feature_method':[k], 'label_type':[label_type], 'fake_cols':[fake_cols], 'acc':[model_manager.accuracy], 'cls_acc':[model_manager.class_accuracy],  'loss':[model_manager.log_loss_value], 'model':[model]}))\n",
      "    \n"
     ]
    },
    {
     "name": "stdout",
     "output_type": "stream",
     "text": [
      "Real\n",
      "EL_UD_Fake\n",
      "\n",
      "Class Accuracy\n",
      "{'Real': 0.7912677135197242, 'EL_UD_Fake': 0.8169283799310609}\n",
      "\n",
      "Accuracy\n",
      "0.8040980467253925\n",
      "Real\n",
      "EL_UD_Fake\n",
      "\n",
      "Class Accuracy\n",
      "{'Real': 0.6658215010141988, 'EL_UD_Fake': 0.5656515227159261}\n",
      "\n",
      "Accuracy\n",
      "0.6153459119496856\n"
     ]
    },
    {
     "name": "stderr",
     "output_type": "stream",
     "text": [
      "[NeMo W 2023-06-13 17:29:58 nemo_logging:349] /tmp/ipykernel_1951049/4172940570.py:15: FutureWarning: The frame.append method is deprecated and will be removed from pandas in a future version. Use pandas.concat instead.\n",
      "      results = results.append(pd.DataFrame({'feature_method':[k], 'label_type':[label_type], 'fake_cols':[fake_cols], 'acc':[model_manager.accuracy], 'cls_acc':[model_manager.class_accuracy],  'loss':[model_manager.log_loss_value], 'model':[model]}))\n",
      "    \n"
     ]
    },
    {
     "name": "stdout",
     "output_type": "stream",
     "text": [
      "Real\n",
      "EL_UD_Fake\n",
      "\n",
      "Class Accuracy\n",
      "{'Real': 0.9402527767139027, 'EL_UD_Fake': 0.9406357717349675}\n",
      "\n",
      "Accuracy\n",
      "0.9404442742244351\n"
     ]
    },
    {
     "name": "stderr",
     "output_type": "stream",
     "text": [
      "[NeMo W 2023-06-13 17:30:05 nemo_logging:349] /tmp/ipykernel_1951049/4172940570.py:15: FutureWarning: The frame.append method is deprecated and will be removed from pandas in a future version. Use pandas.concat instead.\n",
      "      results = results.append(pd.DataFrame({'feature_method':[k], 'label_type':[label_type], 'fake_cols':[fake_cols], 'acc':[model_manager.accuracy], 'cls_acc':[model_manager.class_accuracy],  'loss':[model_manager.log_loss_value], 'model':[model]}))\n",
      "    \n"
     ]
    },
    {
     "name": "stdout",
     "output_type": "stream",
     "text": [
      "Real\n",
      "EL_UD_Fake\n",
      "\n",
      "Class Accuracy\n",
      "{'Real': 0.8862504787437764, 'EL_UD_Fake': 0.8701646878590579}\n",
      "\n",
      "Accuracy\n",
      "0.8782075833014171\n"
     ]
    },
    {
     "name": "stderr",
     "output_type": "stream",
     "text": [
      "[NeMo W 2023-06-13 17:30:12 nemo_logging:349] /tmp/ipykernel_1951049/4172940570.py:15: FutureWarning: The frame.append method is deprecated and will be removed from pandas in a future version. Use pandas.concat instead.\n",
      "      results = results.append(pd.DataFrame({'feature_method':[k], 'label_type':[label_type], 'fake_cols':[fake_cols], 'acc':[model_manager.accuracy], 'cls_acc':[model_manager.class_accuracy],  'loss':[model_manager.log_loss_value], 'model':[model]}))\n",
      "    \n"
     ]
    },
    {
     "name": "stdout",
     "output_type": "stream",
     "text": [
      "Real\n",
      "EL_UD_Fake\n",
      "\n",
      "Class Accuracy\n",
      "{'Real': 0.9122941401761777, 'EL_UD_Fake': 0.8778245882803524}\n",
      "\n",
      "Accuracy\n",
      "0.895059364228265\n"
     ]
    },
    {
     "name": "stderr",
     "output_type": "stream",
     "text": [
      "[NeMo W 2023-06-13 17:30:16 nemo_logging:349] /tmp/ipykernel_1951049/4172940570.py:15: FutureWarning: The frame.append method is deprecated and will be removed from pandas in a future version. Use pandas.concat instead.\n",
      "      results = results.append(pd.DataFrame({'feature_method':[k], 'label_type':[label_type], 'fake_cols':[fake_cols], 'acc':[model_manager.accuracy], 'cls_acc':[model_manager.class_accuracy],  'loss':[model_manager.log_loss_value], 'model':[model]}))\n",
      "    \n"
     ]
    },
    {
     "name": "stdout",
     "output_type": "stream",
     "text": [
      "Real\n",
      "EL_UD_Fake\n",
      "\n",
      "Class Accuracy\n",
      "{'Real': 0.6587221095334685, 'EL_UD_Fake': 0.5836245631552671}\n",
      "\n",
      "Accuracy\n",
      "0.620880503144654\n"
     ]
    },
    {
     "name": "stderr",
     "output_type": "stream",
     "text": [
      "[NeMo W 2023-06-13 17:30:39 nemo_logging:349] /tmp/ipykernel_1951049/4172940570.py:15: FutureWarning: The frame.append method is deprecated and will be removed from pandas in a future version. Use pandas.concat instead.\n",
      "      results = results.append(pd.DataFrame({'feature_method':[k], 'label_type':[label_type], 'fake_cols':[fake_cols], 'acc':[model_manager.accuracy], 'cls_acc':[model_manager.class_accuracy],  'loss':[model_manager.log_loss_value], 'model':[model]}))\n",
      "    \n"
     ]
    },
    {
     "name": "stdout",
     "output_type": "stream",
     "text": [
      "Real\n",
      "EL_UD_Fake\n",
      "\n",
      "Class Accuracy\n",
      "{'Real': 0.9337418613558024, 'EL_UD_Fake': 0.9417847567981616}\n",
      "\n",
      "Accuracy\n",
      "0.937763309076982\n"
     ]
    },
    {
     "name": "stderr",
     "output_type": "stream",
     "text": [
      "[NeMo W 2023-06-13 17:30:46 nemo_logging:349] /tmp/ipykernel_1951049/4172940570.py:15: FutureWarning: The frame.append method is deprecated and will be removed from pandas in a future version. Use pandas.concat instead.\n",
      "      results = results.append(pd.DataFrame({'feature_method':[k], 'label_type':[label_type], 'fake_cols':[fake_cols], 'acc':[model_manager.accuracy], 'cls_acc':[model_manager.class_accuracy],  'loss':[model_manager.log_loss_value], 'model':[model]}))\n",
      "    \n"
     ]
    },
    {
     "name": "stdout",
     "output_type": "stream",
     "text": [
      "Real\n",
      "EL_UD_Fake\n",
      "\n",
      "Class Accuracy\n",
      "{'Real': 0.886633473764841, 'EL_UD_Fake': 0.868632707774799}\n",
      "\n",
      "Accuracy\n",
      "0.87763309076982\n"
     ]
    },
    {
     "name": "stderr",
     "output_type": "stream",
     "text": [
      "[NeMo W 2023-06-13 17:30:53 nemo_logging:349] /tmp/ipykernel_1951049/4172940570.py:15: FutureWarning: The frame.append method is deprecated and will be removed from pandas in a future version. Use pandas.concat instead.\n",
      "      results = results.append(pd.DataFrame({'feature_method':[k], 'label_type':[label_type], 'fake_cols':[fake_cols], 'acc':[model_manager.accuracy], 'cls_acc':[model_manager.class_accuracy],  'loss':[model_manager.log_loss_value], 'model':[model]}))\n",
      "    \n"
     ]
    },
    {
     "name": "stdout",
     "output_type": "stream",
     "text": [
      "Real\n",
      "EL_UD_Fake\n",
      "\n",
      "Class Accuracy\n",
      "{'Real': 0.9084641899655305, 'EL_UD_Fake': 0.8789735733435465}\n",
      "\n",
      "Accuracy\n",
      "0.8937188816545385\n"
     ]
    },
    {
     "name": "stderr",
     "output_type": "stream",
     "text": [
      "[NeMo W 2023-06-13 17:30:57 nemo_logging:349] /tmp/ipykernel_1951049/4172940570.py:15: FutureWarning: The frame.append method is deprecated and will be removed from pandas in a future version. Use pandas.concat instead.\n",
      "      results = results.append(pd.DataFrame({'feature_method':[k], 'label_type':[label_type], 'fake_cols':[fake_cols], 'acc':[model_manager.accuracy], 'cls_acc':[model_manager.class_accuracy],  'loss':[model_manager.log_loss_value], 'model':[model]}))\n",
      "    \n"
     ]
    },
    {
     "name": "stdout",
     "output_type": "stream",
     "text": [
      "Real\n",
      "EL_UD_Fake\n",
      "\n",
      "Class Accuracy\n",
      "{'Real': 0.6592292089249493, 'EL_UD_Fake': 0.5811283075386919}\n",
      "\n",
      "Accuracy\n",
      "0.619874213836478\n"
     ]
    }
   ],
   "source": [
    "file_path = '/home/ubuntu/data/wavefake_data/LJ_metadata_16KHz_Laundered.csv'\n",
    "run(['EL_UD_Fake'], file_path, '16KHz_EL_UD_Fake_Laundered_B')"
   ]
  },
  {
   "cell_type": "code",
   "execution_count": 23,
   "id": "6b56c132",
   "metadata": {},
   "outputs": [
    {
     "name": "stdout",
     "output_type": "stream",
     "text": [
      "# of Train instances: 15664\n",
      "# of Dev instances: 5222\n",
      "# of Test instances: 5222\n",
      "[NeMo I 2023-06-13 17:38:47 cloud:56] Found existing object /home/ubuntu/.cache/torch/NeMo/NeMo_1.15.0/titanet-l/492c0ab8416139171dc18c21879a9e45/titanet-l.nemo.\n",
      "[NeMo I 2023-06-13 17:38:47 cloud:62] Re-using file from: /home/ubuntu/.cache/torch/NeMo/NeMo_1.15.0/titanet-l/492c0ab8416139171dc18c21879a9e45/titanet-l.nemo\n",
      "[NeMo I 2023-06-13 17:38:47 common:913] Instantiating model from pre-trained checkpoint\n"
     ]
    },
    {
     "name": "stderr",
     "output_type": "stream",
     "text": [
      "[NeMo W 2023-06-13 17:38:48 modelPT:156] If you intend to do training or fine-tuning, please call the ModelPT.setup_training_data() method and provide a valid configuration file to setup the train data loader.\n",
      "    Train config : \n",
      "    manifest_filepath: /manifests/combined_fisher_swbd_voxceleb12_librispeech/train.json\n",
      "    sample_rate: 16000\n",
      "    labels: null\n",
      "    batch_size: 64\n",
      "    shuffle: true\n",
      "    time_length: 3\n",
      "    is_tarred: false\n",
      "    tarred_audio_filepaths: null\n",
      "    tarred_shard_strategy: scatter\n",
      "    augmentor:\n",
      "      noise:\n",
      "        manifest_path: /manifests/noise/rir_noise_manifest.json\n",
      "        prob: 0.5\n",
      "        min_snr_db: 0\n",
      "        max_snr_db: 15\n",
      "      speed:\n",
      "        prob: 0.5\n",
      "        sr: 16000\n",
      "        resample_type: kaiser_fast\n",
      "        min_speed_rate: 0.95\n",
      "        max_speed_rate: 1.05\n",
      "    num_workers: 15\n",
      "    pin_memory: true\n",
      "    \n",
      "[NeMo W 2023-06-13 17:38:48 modelPT:163] If you intend to do validation, please call the ModelPT.setup_validation_data() or ModelPT.setup_multiple_validation_data() method and provide a valid configuration file to setup the validation data loader(s). \n",
      "    Validation config : \n",
      "    manifest_filepath: /manifests/combined_fisher_swbd_voxceleb12_librispeech/dev.json\n",
      "    sample_rate: 16000\n",
      "    labels: null\n",
      "    batch_size: 128\n",
      "    shuffle: false\n",
      "    time_length: 3\n",
      "    num_workers: 15\n",
      "    pin_memory: true\n",
      "    \n"
     ]
    },
    {
     "name": "stdout",
     "output_type": "stream",
     "text": [
      "[NeMo I 2023-06-13 17:38:48 label_models:126] Setting angular: true/false in decoder is deprecated and will be removed in 1.13 version, use specific loss with _target_\n",
      "[NeMo I 2023-06-13 17:38:48 features:267] PADDING: 16\n",
      "[NeMo I 2023-06-13 17:38:49 save_restore_connector:243] Model EncDecSpeakerLabelModel was successfully restored from /home/ubuntu/.cache/torch/NeMo/NeMo_1.15.0/titanet-l/492c0ab8416139171dc18c21879a9e45/titanet-l.nemo.\n"
     ]
    },
    {
     "name": "stderr",
     "output_type": "stream",
     "text": [
      "100%|██████████| 10/10 [00:02<00:00,  3.63it/s]\n",
      "100%|██████████| 10/10 [00:00<00:00, 31.73it/s]\n",
      "100%|██████████| 10/10 [02:08<00:00, 12.89s/it]\n"
     ]
    },
    {
     "name": "stdout",
     "output_type": "stream",
     "text": [
      "Initializing data...\n",
      "Standardizing features...\n",
      "smileFeatureSelectFromModel object initialized.\n",
      "\n",
      "\n",
      "Selected features:.\n",
      "\n",
      "1. mfcc_sma[9]_lpgain\n",
      "2. mfcc_sma[14]_quartile3\n",
      "3. audspec_lengthL1norm_sma_amean\n",
      "4. audspec_lengthL1norm_sma_quartile3\n",
      "5. mfcc_sma[14]_peakMeanAbs\n",
      "6. mfcc_sma[5]_lpc0\n",
      "7. pcm_fftMag_fband1000-4000_sma_iqr1-3\n",
      "8. mfcc_sma[13]_lpgain\n",
      "9. jitterDDP_sma_flatness\n",
      "10. audspec_lengthL1norm_sma_quartile2\n",
      "11. mfcc_sma_de[13]_lpgain\n",
      "12. audSpec_Rfilt_sma[4]_centroid\n",
      "13. mfcc_sma[14]_rqmean\n",
      "14. mfcc_sma[14]_amean\n",
      "15. jitterDDP_sma_percentile1.0\n",
      "16. audspecRasta_lengthL1norm_sma_qregc2\n",
      "17. mfcc_sma[6]_lpc0\n",
      "18. jitterDDP_sma_quartile1\n",
      "19. mfcc_sma_de[9]_lpgain\n",
      "20. pcm_fftMag_fband1000-4000_sma_iqr2-3\n",
      "Initializing data...\n",
      "Standardizing features...\n",
      "smileFeatureSelectFromModel object initialized.\n",
      "\n"
     ]
    },
    {
     "name": "stderr",
     "output_type": "stream",
     "text": [
      "[NeMo W 2023-06-13 17:45:40 nemo_logging:349] /tmp/ipykernel_1951049/4172940570.py:15: FutureWarning: The frame.append method is deprecated and will be removed from pandas in a future version. Use pandas.concat instead.\n",
      "      results = results.append(pd.DataFrame({'feature_method':[k], 'label_type':[label_type], 'fake_cols':[fake_cols], 'acc':[model_manager.accuracy], 'cls_acc':[model_manager.class_accuracy],  'loss':[model_manager.log_loss_value], 'model':[model]}))\n",
      "    \n"
     ]
    },
    {
     "name": "stdout",
     "output_type": "stream",
     "text": [
      "\n",
      "Selected features:.\n",
      "\n",
      "1. mfcc_sma[9]_lpgain\n",
      "2. jitterLocal_sma_percentile1.0\n",
      "3. mfcc_sma[14]_quartile3\n",
      "4. pcm_fftMag_spectralSlope_sma_percentile99.0\n",
      "5. mfcc_sma[14]_peakMeanAbs\n",
      "6. audSpec_Rfilt_sma[5]_centroid\n",
      "7. mfcc_sma[8]_lpgain\n",
      "8. mfcc_sma[14]_quartile2\n",
      "9. mfcc_sma[12]_lpc0\n",
      "10. pcm_fftMag_fband1000-4000_sma_iqr1-2\n",
      "11. pcm_fftMag_spectralFlux_sma_stddev\n",
      "12. mfcc_sma[14]_peakMeanRel\n",
      "13. mfcc_sma[14]_rqmean\n",
      "14. mfcc_sma[14]_amean\n",
      "15. jitterDDP_sma_percentile1.0\n",
      "16. mfcc_sma[14]_quartile1\n",
      "17. mfcc_sma[6]_lpc0\n",
      "18. jitterDDP_sma_quartile1\n",
      "19. mfcc_sma_de[9]_lpgain\n",
      "20. mfcc_sma[7]_lpc0\n",
      "Real\n",
      "Fake\n",
      "\n",
      "Class Accuracy\n",
      "{'Real': 0.8946763692072003, 'Fake': 0.8379931060896209}\n",
      "\n",
      "Accuracy\n",
      "0.8663347376484106\n"
     ]
    },
    {
     "name": "stderr",
     "output_type": "stream",
     "text": [
      "[NeMo W 2023-06-13 17:45:40 nemo_logging:349] /home/ubuntu/.local/lib/python3.8/site-packages/sklearn/linear_model/_logistic.py:458: ConvergenceWarning: lbfgs failed to converge (status=1):\n",
      "    STOP: TOTAL NO. of ITERATIONS REACHED LIMIT.\n",
      "    \n",
      "    Increase the number of iterations (max_iter) or scale the data as shown in:\n",
      "        https://scikit-learn.org/stable/modules/preprocessing.html\n",
      "    Please also refer to the documentation for alternative solver options:\n",
      "        https://scikit-learn.org/stable/modules/linear_model.html#logistic-regression\n",
      "      n_iter_i = _check_optimize_result(\n",
      "    \n",
      "[NeMo W 2023-06-13 17:45:40 nemo_logging:349] /tmp/ipykernel_1951049/4172940570.py:15: FutureWarning: The frame.append method is deprecated and will be removed from pandas in a future version. Use pandas.concat instead.\n",
      "      results = results.append(pd.DataFrame({'feature_method':[k], 'label_type':[label_type], 'fake_cols':[fake_cols], 'acc':[model_manager.accuracy], 'cls_acc':[model_manager.class_accuracy],  'loss':[model_manager.log_loss_value], 'model':[model]}))\n",
      "    \n",
      "[NeMo W 2023-06-13 17:45:40 nemo_logging:349] /home/ubuntu/.local/lib/python3.8/site-packages/sklearn/linear_model/_logistic.py:458: ConvergenceWarning: lbfgs failed to converge (status=1):\n",
      "    STOP: TOTAL NO. of ITERATIONS REACHED LIMIT.\n",
      "    \n",
      "    Increase the number of iterations (max_iter) or scale the data as shown in:\n",
      "        https://scikit-learn.org/stable/modules/preprocessing.html\n",
      "    Please also refer to the documentation for alternative solver options:\n",
      "        https://scikit-learn.org/stable/modules/linear_model.html#logistic-regression\n",
      "      n_iter_i = _check_optimize_result(\n",
      "    \n",
      "[NeMo W 2023-06-13 17:45:40 nemo_logging:349] /tmp/ipykernel_1951049/4172940570.py:15: FutureWarning: The frame.append method is deprecated and will be removed from pandas in a future version. Use pandas.concat instead.\n",
      "      results = results.append(pd.DataFrame({'feature_method':[k], 'label_type':[label_type], 'fake_cols':[fake_cols], 'acc':[model_manager.accuracy], 'cls_acc':[model_manager.class_accuracy],  'loss':[model_manager.log_loss_value], 'model':[model]}))\n",
      "    \n",
      "[NeMo W 2023-06-13 17:45:40 nemo_logging:349] /tmp/ipykernel_1951049/4172940570.py:15: FutureWarning: The frame.append method is deprecated and will be removed from pandas in a future version. Use pandas.concat instead.\n",
      "      results = results.append(pd.DataFrame({'feature_method':[k], 'label_type':[label_type], 'fake_cols':[fake_cols], 'acc':[model_manager.accuracy], 'cls_acc':[model_manager.class_accuracy],  'loss':[model_manager.log_loss_value], 'model':[model]}))\n",
      "    \n"
     ]
    },
    {
     "name": "stdout",
     "output_type": "stream",
     "text": [
      "Real\n",
      "Fake\n",
      "\n",
      "Class Accuracy\n",
      "{'Real': 0.7487552661815396, 'Fake': 0.7070088088854845}\n",
      "\n",
      "Accuracy\n",
      "0.7278820375335121\n",
      "Real\n",
      "Fake\n",
      "\n",
      "Class Accuracy\n",
      "{'Real': 0.735733435465339, 'Fake': 0.7284565300651091}\n",
      "\n",
      "Accuracy\n",
      "0.732094982765224\n",
      "Real\n",
      "Fake\n",
      "\n",
      "Class Accuracy\n",
      "{'Real': 0.6328986960882648, 'Fake': 0.5236436037829766}\n",
      "\n",
      "Accuracy\n",
      "0.5780664501623782\n"
     ]
    },
    {
     "name": "stderr",
     "output_type": "stream",
     "text": [
      "[NeMo W 2023-06-13 17:45:40 nemo_logging:349] /tmp/ipykernel_1951049/4172940570.py:15: FutureWarning: The frame.append method is deprecated and will be removed from pandas in a future version. Use pandas.concat instead.\n",
      "      results = results.append(pd.DataFrame({'feature_method':[k], 'label_type':[label_type], 'fake_cols':[fake_cols], 'acc':[model_manager.accuracy], 'cls_acc':[model_manager.class_accuracy],  'loss':[model_manager.log_loss_value], 'model':[model]}))\n",
      "    \n",
      "[NeMo W 2023-06-13 17:45:40 nemo_logging:349] /home/ubuntu/.local/lib/python3.8/site-packages/sklearn/linear_model/_logistic.py:458: ConvergenceWarning: lbfgs failed to converge (status=1):\n",
      "    STOP: TOTAL NO. of ITERATIONS REACHED LIMIT.\n",
      "    \n",
      "    Increase the number of iterations (max_iter) or scale the data as shown in:\n",
      "        https://scikit-learn.org/stable/modules/preprocessing.html\n",
      "    Please also refer to the documentation for alternative solver options:\n",
      "        https://scikit-learn.org/stable/modules/linear_model.html#logistic-regression\n",
      "      n_iter_i = _check_optimize_result(\n",
      "    \n",
      "[NeMo W 2023-06-13 17:45:40 nemo_logging:349] /tmp/ipykernel_1951049/4172940570.py:15: FutureWarning: The frame.append method is deprecated and will be removed from pandas in a future version. Use pandas.concat instead.\n",
      "      results = results.append(pd.DataFrame({'feature_method':[k], 'label_type':[label_type], 'fake_cols':[fake_cols], 'acc':[model_manager.accuracy], 'cls_acc':[model_manager.class_accuracy],  'loss':[model_manager.log_loss_value], 'model':[model]}))\n",
      "    \n"
     ]
    },
    {
     "name": "stdout",
     "output_type": "stream",
     "text": [
      "Real\n",
      "Fake\n",
      "\n",
      "Class Accuracy\n",
      "{'Real': 0.8946763692072003, 'Fake': 0.8379931060896209}\n",
      "\n",
      "Accuracy\n",
      "0.8663347376484106\n",
      "Real\n",
      "Fake\n",
      "\n",
      "Class Accuracy\n",
      "{'Real': 0.7487552661815396, 'Fake': 0.7070088088854845}\n",
      "\n",
      "Accuracy\n",
      "0.7278820375335121\n"
     ]
    },
    {
     "name": "stderr",
     "output_type": "stream",
     "text": [
      "[NeMo W 2023-06-13 17:45:40 nemo_logging:349] /home/ubuntu/.local/lib/python3.8/site-packages/sklearn/linear_model/_logistic.py:458: ConvergenceWarning: lbfgs failed to converge (status=1):\n",
      "    STOP: TOTAL NO. of ITERATIONS REACHED LIMIT.\n",
      "    \n",
      "    Increase the number of iterations (max_iter) or scale the data as shown in:\n",
      "        https://scikit-learn.org/stable/modules/preprocessing.html\n",
      "    Please also refer to the documentation for alternative solver options:\n",
      "        https://scikit-learn.org/stable/modules/linear_model.html#logistic-regression\n",
      "      n_iter_i = _check_optimize_result(\n",
      "    \n",
      "[NeMo W 2023-06-13 17:45:40 nemo_logging:349] /tmp/ipykernel_1951049/4172940570.py:15: FutureWarning: The frame.append method is deprecated and will be removed from pandas in a future version. Use pandas.concat instead.\n",
      "      results = results.append(pd.DataFrame({'feature_method':[k], 'label_type':[label_type], 'fake_cols':[fake_cols], 'acc':[model_manager.accuracy], 'cls_acc':[model_manager.class_accuracy],  'loss':[model_manager.log_loss_value], 'model':[model]}))\n",
      "    \n",
      "[NeMo W 2023-06-13 17:45:40 nemo_logging:349] /tmp/ipykernel_1951049/4172940570.py:15: FutureWarning: The frame.append method is deprecated and will be removed from pandas in a future version. Use pandas.concat instead.\n",
      "      results = results.append(pd.DataFrame({'feature_method':[k], 'label_type':[label_type], 'fake_cols':[fake_cols], 'acc':[model_manager.accuracy], 'cls_acc':[model_manager.class_accuracy],  'loss':[model_manager.log_loss_value], 'model':[model]}))\n",
      "    \n"
     ]
    },
    {
     "name": "stdout",
     "output_type": "stream",
     "text": [
      "Real\n",
      "Fake\n",
      "\n",
      "Class Accuracy\n",
      "{'Real': 0.735733435465339, 'Fake': 0.7284565300651091}\n",
      "\n",
      "Accuracy\n",
      "0.732094982765224\n",
      "Real\n",
      "Fake\n",
      "\n",
      "Class Accuracy\n",
      "{'Real': 0.6328986960882648, 'Fake': 0.5236436037829766}\n",
      "\n",
      "Accuracy\n",
      "0.5780664501623782\n"
     ]
    },
    {
     "name": "stderr",
     "output_type": "stream",
     "text": [
      "[NeMo W 2023-06-13 17:46:04 nemo_logging:349] /tmp/ipykernel_1951049/4172940570.py:15: FutureWarning: The frame.append method is deprecated and will be removed from pandas in a future version. Use pandas.concat instead.\n",
      "      results = results.append(pd.DataFrame({'feature_method':[k], 'label_type':[label_type], 'fake_cols':[fake_cols], 'acc':[model_manager.accuracy], 'cls_acc':[model_manager.class_accuracy],  'loss':[model_manager.log_loss_value], 'model':[model]}))\n",
      "    \n"
     ]
    },
    {
     "name": "stdout",
     "output_type": "stream",
     "text": [
      "Real\n",
      "Fake\n",
      "\n",
      "Class Accuracy\n",
      "{'Real': 0.9199540405974722, 'Fake': 0.8192263500574493}\n",
      "\n",
      "Accuracy\n",
      "0.8695901953274607\n"
     ]
    },
    {
     "name": "stderr",
     "output_type": "stream",
     "text": [
      "[NeMo W 2023-06-13 17:46:12 nemo_logging:349] /tmp/ipykernel_1951049/4172940570.py:15: FutureWarning: The frame.append method is deprecated and will be removed from pandas in a future version. Use pandas.concat instead.\n",
      "      results = results.append(pd.DataFrame({'feature_method':[k], 'label_type':[label_type], 'fake_cols':[fake_cols], 'acc':[model_manager.accuracy], 'cls_acc':[model_manager.class_accuracy],  'loss':[model_manager.log_loss_value], 'model':[model]}))\n",
      "    \n"
     ]
    },
    {
     "name": "stdout",
     "output_type": "stream",
     "text": [
      "Real\n",
      "Fake\n",
      "\n",
      "Class Accuracy\n",
      "{'Real': 0.834929145921103, 'Fake': 0.7993106089620835}\n",
      "\n",
      "Accuracy\n",
      "0.8171198774415933\n"
     ]
    },
    {
     "name": "stderr",
     "output_type": "stream",
     "text": [
      "[NeMo W 2023-06-13 17:46:19 nemo_logging:349] /tmp/ipykernel_1951049/4172940570.py:15: FutureWarning: The frame.append method is deprecated and will be removed from pandas in a future version. Use pandas.concat instead.\n",
      "      results = results.append(pd.DataFrame({'feature_method':[k], 'label_type':[label_type], 'fake_cols':[fake_cols], 'acc':[model_manager.accuracy], 'cls_acc':[model_manager.class_accuracy],  'loss':[model_manager.log_loss_value], 'model':[model]}))\n",
      "    \n"
     ]
    },
    {
     "name": "stdout",
     "output_type": "stream",
     "text": [
      "Real\n",
      "Fake\n",
      "\n",
      "Class Accuracy\n",
      "{'Real': 0.8498659517426274, 'Fake': 0.8138644197625431}\n",
      "\n",
      "Accuracy\n",
      "0.8318651857525852\n"
     ]
    },
    {
     "name": "stderr",
     "output_type": "stream",
     "text": [
      "[NeMo W 2023-06-13 17:46:22 nemo_logging:349] /tmp/ipykernel_1951049/4172940570.py:15: FutureWarning: The frame.append method is deprecated and will be removed from pandas in a future version. Use pandas.concat instead.\n",
      "      results = results.append(pd.DataFrame({'feature_method':[k], 'label_type':[label_type], 'fake_cols':[fake_cols], 'acc':[model_manager.accuracy], 'cls_acc':[model_manager.class_accuracy],  'loss':[model_manager.log_loss_value], 'model':[model]}))\n",
      "    \n"
     ]
    },
    {
     "name": "stdout",
     "output_type": "stream",
     "text": [
      "Real\n",
      "Fake\n",
      "\n",
      "Class Accuracy\n",
      "{'Real': 0.5957873620862588, 'Fake': 0.5171727227476356}\n",
      "\n",
      "Accuracy\n",
      "0.5563327504371721\n"
     ]
    },
    {
     "name": "stderr",
     "output_type": "stream",
     "text": [
      "[NeMo W 2023-06-13 17:46:46 nemo_logging:349] /tmp/ipykernel_1951049/4172940570.py:15: FutureWarning: The frame.append method is deprecated and will be removed from pandas in a future version. Use pandas.concat instead.\n",
      "      results = results.append(pd.DataFrame({'feature_method':[k], 'label_type':[label_type], 'fake_cols':[fake_cols], 'acc':[model_manager.accuracy], 'cls_acc':[model_manager.class_accuracy],  'loss':[model_manager.log_loss_value], 'model':[model]}))\n",
      "    \n"
     ]
    },
    {
     "name": "stdout",
     "output_type": "stream",
     "text": [
      "Real\n",
      "Fake\n",
      "\n",
      "Class Accuracy\n",
      "{'Real': 0.9211030256606664, 'Fake': 0.8257372654155496}\n",
      "\n",
      "Accuracy\n",
      "0.873420145538108\n"
     ]
    },
    {
     "name": "stderr",
     "output_type": "stream",
     "text": [
      "[NeMo W 2023-06-13 17:46:54 nemo_logging:349] /tmp/ipykernel_1951049/4172940570.py:15: FutureWarning: The frame.append method is deprecated and will be removed from pandas in a future version. Use pandas.concat instead.\n",
      "      results = results.append(pd.DataFrame({'feature_method':[k], 'label_type':[label_type], 'fake_cols':[fake_cols], 'acc':[model_manager.accuracy], 'cls_acc':[model_manager.class_accuracy],  'loss':[model_manager.log_loss_value], 'model':[model]}))\n",
      "    \n"
     ]
    },
    {
     "name": "stdout",
     "output_type": "stream",
     "text": [
      "Real\n",
      "Fake\n",
      "\n",
      "Class Accuracy\n",
      "{'Real': 0.8295672156261968, 'Fake': 0.8004595940252777}\n",
      "\n",
      "Accuracy\n",
      "0.8150134048257373\n"
     ]
    },
    {
     "name": "stderr",
     "output_type": "stream",
     "text": [
      "[NeMo W 2023-06-13 17:47:01 nemo_logging:349] /tmp/ipykernel_1951049/4172940570.py:15: FutureWarning: The frame.append method is deprecated and will be removed from pandas in a future version. Use pandas.concat instead.\n",
      "      results = results.append(pd.DataFrame({'feature_method':[k], 'label_type':[label_type], 'fake_cols':[fake_cols], 'acc':[model_manager.accuracy], 'cls_acc':[model_manager.class_accuracy],  'loss':[model_manager.log_loss_value], 'model':[model]}))\n",
      "    \n"
     ]
    },
    {
     "name": "stdout",
     "output_type": "stream",
     "text": [
      "Real\n",
      "Fake\n",
      "\n",
      "Class Accuracy\n",
      "{'Real': 0.8498659517426274, 'Fake': 0.8161623898889314}\n",
      "\n",
      "Accuracy\n",
      "0.8330141708157794\n"
     ]
    },
    {
     "name": "stderr",
     "output_type": "stream",
     "text": [
      "[NeMo W 2023-06-13 17:47:04 nemo_logging:349] /tmp/ipykernel_1951049/4172940570.py:15: FutureWarning: The frame.append method is deprecated and will be removed from pandas in a future version. Use pandas.concat instead.\n",
      "      results = results.append(pd.DataFrame({'feature_method':[k], 'label_type':[label_type], 'fake_cols':[fake_cols], 'acc':[model_manager.accuracy], 'cls_acc':[model_manager.class_accuracy],  'loss':[model_manager.log_loss_value], 'model':[model]}))\n",
      "    \n"
     ]
    },
    {
     "name": "stdout",
     "output_type": "stream",
     "text": [
      "Real\n",
      "Fake\n",
      "\n",
      "Class Accuracy\n",
      "{'Real': 0.600802407221665, 'Fake': 0.519163763066202}\n",
      "\n",
      "Accuracy\n",
      "0.5598301274044467\n"
     ]
    }
   ],
   "source": [
    "file_path = '/home/ubuntu/data/wavefake_data/LJ_metadata_16KHz_Laundered.csv'\n",
    "run(['Fake'], file_path, '16KHz_Fake_Laundered_B')"
   ]
  },
  {
   "cell_type": "code",
   "execution_count": null,
   "id": "6d6c1717",
   "metadata": {},
   "outputs": [],
   "source": []
  }
 ],
 "metadata": {
  "kernelspec": {
   "display_name": "nemo",
   "language": "python",
   "name": "nemo"
  },
  "language_info": {
   "codemirror_mode": {
    "name": "ipython",
    "version": 3
   },
   "file_extension": ".py",
   "mimetype": "text/x-python",
   "name": "python",
   "nbconvert_exporter": "python",
   "pygments_lexer": "ipython3",
   "version": "3.8.0"
  }
 },
 "nbformat": 4,
 "nbformat_minor": 5
}
