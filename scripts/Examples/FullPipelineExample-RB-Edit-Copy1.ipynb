{
 "cells": [
  {
   "cell_type": "code",
   "execution_count": null,
   "id": "a1754ce9",
   "metadata": {},
   "outputs": [],
   "source": [
    "import sys\n",
    "sys.path.append(\"/home/ubuntu/MultiModalDeepFake\")\n",
    "import nemo.collections.asr as nemo_asr \n",
    "import pandas as pd"
   ]
  },
  {
   "cell_type": "code",
   "execution_count": null,
   "id": "704a1092",
   "metadata": {},
   "outputs": [],
   "source": [
    "from packages.LJDataLoader import LJDataLoader\n",
    "from packages.AudioEmbeddingsManager import AudioEmbeddingsManager\n",
    "from packages.ModelManager import ModelManager\n",
    "from packages.CadenceModelManager import CadenceModelManager\n",
    "import packages.AnalysisManager as am\n",
    "from packages.SmileFeatureManager import SmileFeatureManager"
   ]
  },
  {
   "cell_type": "code",
   "execution_count": null,
   "id": "c99d6b71-3cd2-40a0-a439-0f579013eb9a",
   "metadata": {},
   "outputs": [],
   "source": [
    "def generate_split(fake_cols, file_path):\n",
    "\n",
    "    \n",
    "    loader = LJDataLoader(data_path=file_path, filter_cols=['ElevenLabsCloneClip'])\n",
    "    loader.splitData()\n",
    "\n",
    "    source_architectures = ['Full_Band_MelGan', 'HifiGan', 'MelGan', 'MelGanLarge', 'Multi_Band_MelGan', 'Parallel_WaveGan', 'Waveglow']\n",
    "    new_col_name = 'RandWaveFake'\n",
    "    loader.selectRandomArchitecture(target_col=new_col_name, source_cols=source_architectures)\n",
    "    \n",
    "    source_architectures = ['ElevenLabs', 'UberDuck']\n",
    "    new_col_name = 'EL_UD_Fake'\n",
    "    loader.selectRandomArchitecture(target_col=new_col_name, source_cols=source_architectures)\n",
    "    \n",
    "    source_architectures = ['RandWaveFake', 'ElevenLabs', 'UberDuck']\n",
    "    new_col_name = 'Fake'\n",
    "    loader.selectRandomArchitecture(target_col=new_col_name, source_cols=source_architectures)\n",
    "\n",
    "    #data_df = loader.generateFinalDataFrame(real_col='Real', fake_cols=['RandWaveFake', 'ElevenLabs', 'UberDuck'])\n",
    "    data_df = loader.generateFinalDataFrame(real_col='Real', fake_cols=fake_cols)\n",
    "    \n",
    "    train_count = data_df[data_df['type'] == 'train'].shape[0]\n",
    "    dev_count = data_df[data_df['type'] == 'dev'].shape[0]\n",
    "    test_count = data_df[data_df['type'] == 'test'].shape[0]\n",
    "\n",
    "    print(f'# of Train instances: {train_count}')\n",
    "    print(f'# of Dev instances: {dev_count}')\n",
    "    print(f'# of Test instances: {test_count}')\n",
    "    \n",
    "    return data_df"
   ]
  },
  {
   "cell_type": "code",
   "execution_count": null,
   "id": "050cbb79-ba35-405b-8f29-67ce99a5b9fb",
   "metadata": {},
   "outputs": [],
   "source": []
  },
  {
   "cell_type": "code",
   "execution_count": null,
   "id": "ea44a1bf-3349-40bd-b9ed-9398b42e747d",
   "metadata": {},
   "outputs": [],
   "source": [
    "df = generate_split(['ElevenLabs', 'UberDuck', 'Full_Band_MelGan', 'HifiGan', 'MelGan', 'MelGanLarge', 'Multi_Band_MelGan', 'Parallel_WaveGan', 'Waveglow'], '/home/ubuntu/data/wavefake_data/LJ_metadata_16000KHz.csv')\n",
    "df"
   ]
  },
  {
   "cell_type": "code",
   "execution_count": null,
   "id": "c14a65cb-59cf-4e19-b777-80bf153e28a5",
   "metadata": {},
   "outputs": [],
   "source": [
    "df[['architecture', 'label']].value_counts()"
   ]
  },
  {
   "cell_type": "code",
   "execution_count": null,
   "id": "73bb9087-a587-4b7f-a270-031cf55bd1c5",
   "metadata": {},
   "outputs": [],
   "source": [
    "def generate_features(data_df):\n",
    "    speaker_model = nemo_asr.models.EncDecSpeakerLabelModel.from_pretrained(model_name='titanet_large')\n",
    "    embedding_manager = AudioEmbeddingsManager(model=speaker_model, data=data_df)\n",
    "    em_feature_df, em_feature_cols = embedding_manager.generateFeatureDf()\n",
    "    \n",
    "    cadence_manager = CadenceModelManager(data_df)\n",
    "    cad_feature_df, cad_feature_cols, scalar =  cadence_manager.run_cadence_feature_extraction_pipeline(fill_na=-1) # Add param for load features or not\n",
    "    \n",
    "    smile_manager = SmileFeatureManager(data_df)\n",
    "    #change number of features (feature_count=10 default)\n",
    "    os_binary_feature_df, os_binary_feature_cols = smile_manager.generateFeatureDf('random_forest', label_type='binary', feature_count=20)\n",
    "    os_multiclass_feature_df, os_multiclass_feature_cols = smile_manager.generateFeatureDf('random_forest', label_type='multiclass', feature_count=20)\n",
    "    \n",
    "    feature_store = {}\n",
    "    feature_store['titanet'] = (em_feature_df, em_feature_cols)\n",
    "    feature_store['openSmile_binary'] = (os_binary_feature_df, os_binary_feature_cols)\n",
    "    feature_store['openSmile_multiclass'] = (os_multiclass_feature_df, os_multiclass_feature_cols)\n",
    "    feature_store['cadence'] = (cad_feature_df, cad_feature_cols)\n",
    "    \n",
    "    return feature_store\n",
    "    \n",
    "    "
   ]
  },
  {
   "cell_type": "code",
   "execution_count": null,
   "id": "f444f8df-6f02-4f76-869d-a8722e7c5cb3",
   "metadata": {},
   "outputs": [],
   "source": [
    "def train_eval(feature_store, fake_cols):\n",
    "    results_cols = ['feature_method', 'model', 'fake_cols', 'label_type', 'acc', 'cls_acc', 'loss', 'eer_score', 'eer_threshold']\n",
    "    results = pd.DataFrame(columns=results_cols)\n",
    "    \n",
    "    models = ['logreg', 'random_forest']\n",
    "    for model in models:\n",
    "        for label_type in ['label', 'multiclass_label']:\n",
    "            for k, v in feature_store.items():\n",
    "                model_manager = ModelManager(model, v[0], v[1], merge_train_dev=True)\n",
    "                model_manager.trainPredict(label_col=label_type)\n",
    "                results = results.append(pd.DataFrame({'feature_method':[k], 'label_type':[label_type], 'fake_cols':[fake_cols], 'acc':[model_manager.accuracy], 'cls_acc':[model_manager.class_accuracy],  'loss':[model_manager.log_loss_value], 'model':[model], \n",
    "                                                       'eer_score':[model_manager.eer_score], 'eer_threshold':[model_manager.eer_threshold]}))\n",
    "    \n",
    "    return results\n",
    "    \n",
    "    "
   ]
  },
  {
   "cell_type": "code",
   "execution_count": null,
   "id": "a2c8a77a-0903-47d6-a059-9f4101f8cc36",
   "metadata": {},
   "outputs": [],
   "source": [
    "def run(fake_cols, metadata_path, name, data_df=None):\n",
    "    if data_df is None:\n",
    "        data_df = generate_split(fake_cols, metadata_path)\n",
    "    feature_store = generate_features(data_df)\n",
    "    results = train_eval(feature_store, fake_cols)\n",
    "    results.to_csv(f'/home/ubuntu/data/results/6-30-23_2/{name}.csv', index=False)\n",
    "    return results\n",
    "    \n",
    "    \n",
    "    "
   ]
  },
  {
   "cell_type": "code",
   "execution_count": null,
   "id": "cd29fdca-25a1-4e8f-a304-5c861c021cde",
   "metadata": {},
   "outputs": [],
   "source": [
    "agg_df = pd.DataFrame(columns=['feature_method', 'model', 'fake_cols', 'label_type', 'acc', 'cls_acc', 'loss', 'laundered', 'eer_score', 'eer_threshold'])"
   ]
  },
  {
   "cell_type": "code",
   "execution_count": null,
   "id": "bc7da5b3-6cc2-4945-b028-b77a074181c3",
   "metadata": {},
   "outputs": [],
   "source": [
    "file_path = '/home/ubuntu/data/wavefake_data/LJ_metadata_16000KHz.csv'\n",
    "results = run(['ElevenLabs'], file_path, '16KHz_ElevenLabs')\n",
    "results['laundered'] = 0\n",
    "agg_df = agg_df.append(results)"
   ]
  },
  {
   "cell_type": "code",
   "execution_count": null,
   "id": "008e192f-ea8d-457e-b4da-51ac17ff6474",
   "metadata": {},
   "outputs": [],
   "source": [
    "## SB_Comment - where are the final uned cadence results? I can see the params used below but dont think they're being used \n",
    "## SB_Comment - should set the window size and threshold as global params e.g. uberduck_window_size, elevenlabs_window_size, general_window_size etc "
   ]
  },
  {
   "cell_type": "code",
   "execution_count": null,
   "id": "e67b5523-356f-4c93-8643-c8db29057b6a",
   "metadata": {},
   "outputs": [],
   "source": [
    "file_path = '/home/ubuntu/data/wavefake_data/LJ_metadata_16000KHz.csv'\n",
    "results = run(['UberDuck'], file_path, '16KHz_UberDuck')\n",
    "results['laundered'] = 0\n",
    "agg_df = agg_df.append(results)\n"
   ]
  },
  {
   "cell_type": "code",
   "execution_count": null,
   "id": "daf6fe04-b257-4df0-81c2-02608f068378",
   "metadata": {},
   "outputs": [],
   "source": [
    "file_path = '/home/ubuntu/data/wavefake_data/LJ_metadata_16000KHz.csv'\n",
    "results = run(['RandWaveFake'], file_path, '16KHz_RandWaveFake_B')\n",
    "results['laundered'] = 0\n",
    "agg_df = agg_df.append(results)\n"
   ]
  },
  {
   "cell_type": "code",
   "execution_count": null,
   "id": "c323a8b9-1d03-45f3-9161-f289f2795f23",
   "metadata": {},
   "outputs": [],
   "source": [
    "file_path = '/home/ubuntu/data/wavefake_data/LJ_metadata_16000KHz.csv'\n",
    "results = run(['UberDuck', 'ElevenLabs'], file_path, '16KHz_ElevenLabs_and_UberDuck')\n",
    "results['laundered'] = 0\n",
    "agg_df = agg_df.append(results)\n"
   ]
  },
  {
   "cell_type": "code",
   "execution_count": null,
   "id": "95bd03da-e36e-4ce6-909c-d519188eb049",
   "metadata": {},
   "outputs": [],
   "source": [
    "file_path = '/home/ubuntu/data/wavefake_data/LJ_metadata_16000KHz.csv'\n",
    "results = run(['ElevenLabs', 'UberDuck', 'RandWaveFake'], file_path, '16KHz_Mix')\n",
    "results['laundered'] = 0\n",
    "agg_df = agg_df.append(results)\n"
   ]
  },
  {
   "cell_type": "code",
   "execution_count": null,
   "id": "8c59f1ae-5207-4a9d-b292-25074edc4bb6",
   "metadata": {},
   "outputs": [],
   "source": [
    "file_path = '/home/ubuntu/data/wavefake_data/LJ_metadata_16000KHz.csv'\n",
    "results = run(['EL_UD_Fake'], file_path, '16KHz_EL_UD_Fake_B')\n",
    "results['laundered'] = 0\n",
    "agg_df = agg_df.append(results)\n"
   ]
  },
  {
   "cell_type": "code",
   "execution_count": null,
   "id": "169055ad-6fef-4bf4-9ce8-a536286c55ab",
   "metadata": {},
   "outputs": [],
   "source": [
    "file_path = '/home/ubuntu/data/wavefake_data/LJ_metadata_16000KHz.csv'\n",
    "results = run(['Fake'], file_path, '16KHz_Fake')\n",
    "results['laundered'] = 0\n",
    "agg_df = agg_df.append(results)\n"
   ]
  },
  {
   "cell_type": "code",
   "execution_count": null,
   "id": "f0ff1f08-e8c3-4531-bfd3-3cb455946e28",
   "metadata": {},
   "outputs": [],
   "source": [
    "file_path = '/home/ubuntu/data/wavefake_data/LJ_metadata_16KHz_Laundered.csv'\n",
    "results = run(['ElevenLabs'], file_path, '16KHz_ElevenLabs_Laundered')\n",
    "results['laundered'] = 1\n",
    "agg_df = agg_df.append(results)\n"
   ]
  },
  {
   "cell_type": "code",
   "execution_count": null,
   "id": "06322cae-5e05-4df0-a309-d8b77dc96ca6",
   "metadata": {},
   "outputs": [],
   "source": [
    "file_path = '/home/ubuntu/data/wavefake_data/LJ_metadata_16KHz_Laundered.csv'\n",
    "results = run(['UberDuck'], file_path, '16KHz_UberDuck_Laundered')\n",
    "results['laundered'] = 1\n",
    "agg_df = agg_df.append(results)\n"
   ]
  },
  {
   "cell_type": "code",
   "execution_count": null,
   "id": "c7012e3e-bcda-4cf6-a111-969771b768d7",
   "metadata": {},
   "outputs": [],
   "source": [
    "file_path = '/home/ubuntu/data/wavefake_data/LJ_metadata_16KHz_Laundered.csv'\n",
    "results = run(['RandWaveFake'], file_path, '16KHz_RandWaveFake_Laundered')\n",
    "results['laundered'] = 1\n",
    "agg_df = agg_df.append(results)\n"
   ]
  },
  {
   "cell_type": "code",
   "execution_count": null,
   "id": "ab235243-e6e4-4d01-a91d-9e9ed45eecd2",
   "metadata": {},
   "outputs": [],
   "source": [
    "file_path = '/home/ubuntu/data/wavefake_data/LJ_metadata_16KHz_Laundered.csv'\n",
    "results = run(['UberDuck', 'ElevenLabs'], file_path, '16KHz_ElevenLabs_and_UberDuck_Laundered')\n",
    "results['laundered'] = 1\n",
    "agg_df = agg_df.append(results)\n"
   ]
  },
  {
   "cell_type": "code",
   "execution_count": null,
   "id": "3c8b87d4-d366-48de-9c5f-f0648069f1a7",
   "metadata": {},
   "outputs": [],
   "source": [
    "file_path = '/home/ubuntu/data/wavefake_data/LJ_metadata_16KHz_Laundered.csv'\n",
    "results = run(['ElevenLabs', 'UberDuck', 'RandWaveFake'], file_path, '16KHz_Mix_Laundered')\n",
    "results['laundered'] = 1\n",
    "agg_df = agg_df.append(results)\n"
   ]
  },
  {
   "cell_type": "code",
   "execution_count": null,
   "id": "722812eb-90c7-43a3-b0f2-9131167bcc08",
   "metadata": {},
   "outputs": [],
   "source": [
    "file_path = '/home/ubuntu/data/wavefake_data/LJ_metadata_16KHz_Laundered.csv'\n",
    "results = run(['EL_UD_Fake'], file_path, '16KHz_EL_UD_Fake_Laundered_B')\n",
    "results['laundered'] = 1\n",
    "agg_df = agg_df.append(results)\n"
   ]
  },
  {
   "cell_type": "code",
   "execution_count": null,
   "id": "6b56c132",
   "metadata": {},
   "outputs": [],
   "source": [
    "file_path = '/home/ubuntu/data/wavefake_data/LJ_metadata_16KHz_Laundered.csv'\n",
    "results = run(['Fake'], file_path, '16KHz_Fake_Laundered_B')\n",
    "results['laundered'] = 1\n",
    "agg_df = agg_df.append(results)\n"
   ]
  },
  {
   "cell_type": "code",
   "execution_count": null,
   "id": "afdf47d9",
   "metadata": {},
   "outputs": [],
   "source": [
    "agg_df.to_csv('/home/ubuntu/data/results/6-30-23_2/agg_results.csv', index=False)"
   ]
  },
  {
   "cell_type": "code",
   "execution_count": null,
   "id": "6d6c1717",
   "metadata": {},
   "outputs": [],
   "source": []
  }
 ],
 "metadata": {
  "kernelspec": {
   "display_name": "nemo",
   "language": "python",
   "name": "nemo"
  },
  "language_info": {
   "codemirror_mode": {
    "name": "ipython",
    "version": 3
   },
   "file_extension": ".py",
   "mimetype": "text/x-python",
   "name": "python",
   "nbconvert_exporter": "python",
   "pygments_lexer": "ipython3",
   "version": "3.8.0"
  }
 },
 "nbformat": 4,
 "nbformat_minor": 5
}
