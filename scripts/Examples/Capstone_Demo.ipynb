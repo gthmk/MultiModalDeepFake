{
 "cells": [
  {
   "cell_type": "code",
   "execution_count": null,
   "id": "43059804-65d1-4e1c-a027-bbbf18c91d57",
   "metadata": {},
   "outputs": [],
   "source": [
    "#load models & packages\n",
    "\n",
    "\n",
    "## MODEL PREP\n",
    "# do we need to train a Hany specific model\n",
    "# genereate Hany 11 labs fakes "
   ]
  },
  {
   "cell_type": "code",
   "execution_count": null,
   "id": "797e2e5e-42d3-4613-a39c-54e0756ae141",
   "metadata": {},
   "outputs": [],
   "source": [
    "# Loading python script\n",
    "\n",
    "## have it say its creating features\n",
    "## "
   ]
  },
  {
   "cell_type": "code",
   "execution_count": null,
   "id": "937eeed5-b98f-429c-a1d3-43c608e53946",
   "metadata": {},
   "outputs": [],
   "source": [
    "## Evaluation\n",
    "## Probability of fake\n"
   ]
  }
 ],
 "metadata": {
  "kernelspec": {
   "display_name": "nemo",
   "language": "python",
   "name": "nemo"
  },
  "language_info": {
   "codemirror_mode": {
    "name": "ipython",
    "version": 3
   },
   "file_extension": ".py",
   "mimetype": "text/x-python",
   "name": "python",
   "nbconvert_exporter": "python",
   "pygments_lexer": "ipython3",
   "version": "3.8.0"
  }
 },
 "nbformat": 4,
 "nbformat_minor": 5
}
