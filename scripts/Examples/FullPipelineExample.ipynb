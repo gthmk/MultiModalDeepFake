{
 "cells": [
  {
   "cell_type": "code",
   "execution_count": 1,
   "id": "a1754ce9",
   "metadata": {},
   "outputs": [
    {
     "name": "stderr",
     "output_type": "stream",
     "text": [
      "/home/ubuntu/.local/lib/python3.8/site-packages/requests/__init__.py:89: RequestsDependencyWarning: urllib3 (1.24.3) or chardet (5.1.0) doesn't match a supported version!\n",
      "  warnings.warn(\"urllib3 ({}) or chardet ({}) doesn't match a supported \"\n",
      "2023-05-10 19:56:59.386353: I tensorflow/core/platform/cpu_feature_guard.cc:193] This TensorFlow binary is optimized with oneAPI Deep Neural Network Library (oneDNN) to use the following CPU instructions in performance-critical operations:  AVX2 AVX512F AVX512_VNNI FMA\n",
      "To enable them in other operations, rebuild TensorFlow with the appropriate compiler flags.\n",
      "2023-05-10 19:56:59.491372: I tensorflow/core/util/port.cc:104] oneDNN custom operations are on. You may see slightly different numerical results due to floating-point round-off errors from different computation orders. To turn them off, set the environment variable `TF_ENABLE_ONEDNN_OPTS=0`.\n",
      "2023-05-10 19:57:00.030926: W tensorflow/compiler/xla/stream_executor/platform/default/dso_loader.cc:64] Could not load dynamic library 'libnvinfer.so.7'; dlerror: libnvinfer.so.7: cannot open shared object file: No such file or directory\n",
      "2023-05-10 19:57:00.030978: W tensorflow/compiler/xla/stream_executor/platform/default/dso_loader.cc:64] Could not load dynamic library 'libnvinfer_plugin.so.7'; dlerror: libnvinfer_plugin.so.7: cannot open shared object file: No such file or directory\n",
      "2023-05-10 19:57:00.030983: W tensorflow/compiler/tf2tensorrt/utils/py_utils.cc:38] TF-TRT Warning: Cannot dlopen some TensorRT libraries. If you would like to use Nvidia GPU with TensorRT, please make sure the missing libraries mentioned above are installed properly.\n",
      "[NeMo W 2023-05-10 19:57:00 optimizers:55] Apex was not found. Using the lamb or fused_adam optimizer will error out.\n",
      "[NeMo W 2023-05-10 19:57:01 experimental:27] Module <class 'nemo.collections.asr.models.audio_to_audio_model.AudioToAudioModel'> is experimental, not ready for production and is not fully supported. Use at your own risk.\n",
      "[NeMo W 2023-05-10 19:57:01 experimental:27] Module <class 'nemo.collections.asr.modules.audio_modules.SpectrogramToMultichannelFeatures'> is experimental, not ready for production and is not fully supported. Use at your own risk.\n",
      "[NeMo W 2023-05-10 19:57:01 nemo_logging:349] /home/ubuntu/miniconda3/envs/nemo/lib/python3.8/site-packages/torch/jit/annotations.py:309: UserWarning: TorchScript will treat type annotations of Tensor dtype-specific subtypes as if they are normal Tensors. dtype constraints are not enforced in compilation either.\n",
      "      warnings.warn(\"TorchScript will treat type annotations of Tensor \"\n",
      "    \n",
      "[NeMo W 2023-05-10 19:57:02 experimental:27] Module <class 'nemo.collections.asr.data.audio_to_audio.BaseAudioDataset'> is experimental, not ready for production and is not fully supported. Use at your own risk.\n",
      "[NeMo W 2023-05-10 19:57:02 experimental:27] Module <class 'nemo.collections.asr.data.audio_to_audio.AudioToTargetDataset'> is experimental, not ready for production and is not fully supported. Use at your own risk.\n",
      "[NeMo W 2023-05-10 19:57:02 experimental:27] Module <class 'nemo.collections.asr.data.audio_to_audio.AudioToTargetWithReferenceDataset'> is experimental, not ready for production and is not fully supported. Use at your own risk.\n",
      "[NeMo W 2023-05-10 19:57:02 experimental:27] Module <class 'nemo.collections.asr.data.audio_to_audio.AudioToTargetWithEmbeddingDataset'> is experimental, not ready for production and is not fully supported. Use at your own risk.\n",
      "[NeMo W 2023-05-10 19:57:02 experimental:27] Module <class 'nemo.collections.asr.models.enhancement_models.EncMaskDecAudioToAudioModel'> is experimental, not ready for production and is not fully supported. Use at your own risk.\n"
     ]
    }
   ],
   "source": [
    "import sys\n",
    "sys.path.append(\"/home/ubuntu/MultiModalDeepFake\")\n",
    "import nemo.collections.asr as nemo_asr \n",
    "import pandas as pd"
   ]
  },
  {
   "cell_type": "code",
   "execution_count": 2,
   "id": "704a1092",
   "metadata": {},
   "outputs": [
    {
     "name": "stderr",
     "output_type": "stream",
     "text": [
      "################################################################################\n",
      "### WARNING, path does not exist: KALDI_ROOT=/mnt/matylda5/iveselyk/Tools/kaldi-trunk\n",
      "###          (please add 'export KALDI_ROOT=<your_path>' in your $HOME/.profile)\n",
      "###          (or run as: KALDI_ROOT=<your_path> python <your_script>.py)\n",
      "################################################################################\n",
      "\n"
     ]
    }
   ],
   "source": [
    "from packages.LJDataLoader import LJDataLoader\n",
    "from packages.AudioEmbeddingsManager import AudioEmbeddingsManager\n",
    "from packages.ModelManager import ModelManager\n",
    "from packages.CadenceModelManager import CadenceModelManager\n",
    "import packages.AnalysisManager as am\n",
    "from packages.SmileFeatureManager import SmileFeatureManager"
   ]
  },
  {
   "cell_type": "markdown",
   "id": "4af9b280",
   "metadata": {},
   "source": [
    "## Generate the Train/Dev/Test"
   ]
  },
  {
   "cell_type": "code",
   "execution_count": 3,
   "id": "be5ea4f2",
   "metadata": {},
   "outputs": [],
   "source": [
    "file_path = '/home/ubuntu/data/wavefake_data/LJ_metadata_16KHz_Laundered.csv'\n",
    "loader = LJDataLoader(data_path=file_path)\n",
    "loader.sample(0.1)\n",
    "loader.splitData()\n",
    "\n",
    "source_architectures = ['Full_Band_MelGan', 'HifiGan', 'MelGan', 'MelGanLarge', 'Multi_Band_MelGan', 'Parallel_WaveGan', 'Waveglow']\n",
    "new_col_name = 'RandWaveFake'\n",
    "loader.selectRandomArchitecture(target_col=new_col_name, source_cols=source_architectures)\n",
    "\n",
    "#data_df = loader.generateFinalDataFrame(real_col='Real', fake_cols=['RandWaveFake', 'ElevenLabs', 'UberDuck'])\n",
    "data_df = loader.generateFinalDataFrame(real_col='Real', fake_cols=['ElevenLabs'])"
   ]
  },
  {
   "cell_type": "code",
   "execution_count": 4,
   "id": "12b0d076-fb70-499a-9a3c-d57a8c52c5e9",
   "metadata": {},
   "outputs": [
    {
     "name": "stdout",
     "output_type": "stream",
     "text": [
      "# of Train instances: 1566\n",
      "# of Dev instances: 522\n",
      "# of Test instances: 522\n"
     ]
    }
   ],
   "source": [
    "train_count = data_df[data_df['type'] == 'train'].shape[0]\n",
    "dev_count = data_df[data_df['type'] == 'dev'].shape[0]\n",
    "test_count = data_df[data_df['type'] == 'test'].shape[0]\n",
    "\n",
    "print(f'# of Train instances: {train_count}')\n",
    "print(f'# of Dev instances: {dev_count}')\n",
    "print(f'# of Test instances: {test_count}')"
   ]
  },
  {
   "cell_type": "code",
   "execution_count": 5,
   "id": "12270847-b09d-4361-bc00-b737d60d6504",
   "metadata": {},
   "outputs": [
    {
     "data": {
      "text/html": [
       "<div>\n",
       "<style scoped>\n",
       "    .dataframe tbody tr th:only-of-type {\n",
       "        vertical-align: middle;\n",
       "    }\n",
       "\n",
       "    .dataframe tbody tr th {\n",
       "        vertical-align: top;\n",
       "    }\n",
       "\n",
       "    .dataframe thead th {\n",
       "        text-align: right;\n",
       "    }\n",
       "</style>\n",
       "<table border=\"1\" class=\"dataframe\">\n",
       "  <thead>\n",
       "    <tr style=\"text-align: right;\">\n",
       "      <th></th>\n",
       "      <th>type</th>\n",
       "      <th>id</th>\n",
       "      <th>architecture</th>\n",
       "      <th>path</th>\n",
       "      <th>label</th>\n",
       "      <th>multiclass_label</th>\n",
       "    </tr>\n",
       "  </thead>\n",
       "  <tbody>\n",
       "    <tr>\n",
       "      <th>0</th>\n",
       "      <td>train</td>\n",
       "      <td>LJ002-0156</td>\n",
       "      <td>Real</td>\n",
       "      <td>/home/ubuntu/data/wavefake_data/LJSpeech_1.1/w...</td>\n",
       "      <td>0</td>\n",
       "      <td>0</td>\n",
       "    </tr>\n",
       "    <tr>\n",
       "      <th>1</th>\n",
       "      <td>train</td>\n",
       "      <td>LJ009-0241</td>\n",
       "      <td>Real</td>\n",
       "      <td>/home/ubuntu/data/wavefake_data/LJSpeech_1.1/w...</td>\n",
       "      <td>0</td>\n",
       "      <td>0</td>\n",
       "    </tr>\n",
       "    <tr>\n",
       "      <th>2</th>\n",
       "      <td>train</td>\n",
       "      <td>LJ037-0241</td>\n",
       "      <td>Real</td>\n",
       "      <td>/home/ubuntu/data/wavefake_data/LJSpeech_1.1/w...</td>\n",
       "      <td>0</td>\n",
       "      <td>0</td>\n",
       "    </tr>\n",
       "    <tr>\n",
       "      <th>3</th>\n",
       "      <td>train</td>\n",
       "      <td>LJ028-0476</td>\n",
       "      <td>Real</td>\n",
       "      <td>/home/ubuntu/data/wavefake_data/LJSpeech_1.1/w...</td>\n",
       "      <td>0</td>\n",
       "      <td>0</td>\n",
       "    </tr>\n",
       "    <tr>\n",
       "      <th>4</th>\n",
       "      <td>train</td>\n",
       "      <td>LJ016-0016</td>\n",
       "      <td>Real</td>\n",
       "      <td>/home/ubuntu/data/wavefake_data/LJSpeech_1.1/w...</td>\n",
       "      <td>0</td>\n",
       "      <td>0</td>\n",
       "    </tr>\n",
       "  </tbody>\n",
       "</table>\n",
       "</div>"
      ],
      "text/plain": [
       "    type          id architecture  \\\n",
       "0  train  LJ002-0156         Real   \n",
       "1  train  LJ009-0241         Real   \n",
       "2  train  LJ037-0241         Real   \n",
       "3  train  LJ028-0476         Real   \n",
       "4  train  LJ016-0016         Real   \n",
       "\n",
       "                                                path  label  multiclass_label  \n",
       "0  /home/ubuntu/data/wavefake_data/LJSpeech_1.1/w...      0                 0  \n",
       "1  /home/ubuntu/data/wavefake_data/LJSpeech_1.1/w...      0                 0  \n",
       "2  /home/ubuntu/data/wavefake_data/LJSpeech_1.1/w...      0                 0  \n",
       "3  /home/ubuntu/data/wavefake_data/LJSpeech_1.1/w...      0                 0  \n",
       "4  /home/ubuntu/data/wavefake_data/LJSpeech_1.1/w...      0                 0  "
      ]
     },
     "execution_count": 5,
     "metadata": {},
     "output_type": "execute_result"
    }
   ],
   "source": [
    "data_df.head()"
   ]
  },
  {
   "cell_type": "code",
   "execution_count": 6,
   "id": "9c3d9952-b4e2-4246-8e09-e1c01eb0214f",
   "metadata": {},
   "outputs": [],
   "source": [
    "data_df = pd.read_csv('/home/ubuntu/data/demo/demo_train_test_split.csv')"
   ]
  },
  {
   "cell_type": "code",
   "execution_count": 7,
   "id": "60d8c36a-72f8-4570-a35e-d7f3c87bc4a8",
   "metadata": {},
   "outputs": [
    {
     "data": {
      "text/html": [
       "<div>\n",
       "<style scoped>\n",
       "    .dataframe tbody tr th:only-of-type {\n",
       "        vertical-align: middle;\n",
       "    }\n",
       "\n",
       "    .dataframe tbody tr th {\n",
       "        vertical-align: top;\n",
       "    }\n",
       "\n",
       "    .dataframe thead th {\n",
       "        text-align: right;\n",
       "    }\n",
       "</style>\n",
       "<table border=\"1\" class=\"dataframe\">\n",
       "  <thead>\n",
       "    <tr style=\"text-align: right;\">\n",
       "      <th></th>\n",
       "      <th>id</th>\n",
       "      <th>architecture</th>\n",
       "      <th>path</th>\n",
       "      <th>label</th>\n",
       "      <th>multiclass_label</th>\n",
       "      <th>type</th>\n",
       "    </tr>\n",
       "  </thead>\n",
       "  <tbody>\n",
       "    <tr>\n",
       "      <th>0</th>\n",
       "      <td>206A-lecture01-03_clip63</td>\n",
       "      <td>Real</td>\n",
       "      <td>/home/ubuntu/data/demo/hany_206b_clip_audio_16...</td>\n",
       "      <td>0</td>\n",
       "      <td>0</td>\n",
       "      <td>train</td>\n",
       "    </tr>\n",
       "    <tr>\n",
       "      <th>1</th>\n",
       "      <td>206A-lecture01-05_clip30</td>\n",
       "      <td>Real</td>\n",
       "      <td>/home/ubuntu/data/demo/hany_206b_clip_audio_16...</td>\n",
       "      <td>0</td>\n",
       "      <td>0</td>\n",
       "      <td>train</td>\n",
       "    </tr>\n",
       "    <tr>\n",
       "      <th>2</th>\n",
       "      <td>LJ028-0215</td>\n",
       "      <td>ElevenLabs</td>\n",
       "      <td>/home/ubuntu/data/demo/hany_elevenlabs_16KHz/L...</td>\n",
       "      <td>1</td>\n",
       "      <td>1</td>\n",
       "      <td>train</td>\n",
       "    </tr>\n",
       "    <tr>\n",
       "      <th>3</th>\n",
       "      <td>LJ011-0030</td>\n",
       "      <td>ElevenLabs</td>\n",
       "      <td>/home/ubuntu/data/demo/hany_elevenlabs_16KHz/L...</td>\n",
       "      <td>1</td>\n",
       "      <td>1</td>\n",
       "      <td>train</td>\n",
       "    </tr>\n",
       "    <tr>\n",
       "      <th>4</th>\n",
       "      <td>206A-lecture02-02_clip25</td>\n",
       "      <td>Real</td>\n",
       "      <td>/home/ubuntu/data/demo/hany_206b_clip_audio_16...</td>\n",
       "      <td>0</td>\n",
       "      <td>0</td>\n",
       "      <td>train</td>\n",
       "    </tr>\n",
       "    <tr>\n",
       "      <th>...</th>\n",
       "      <td>...</td>\n",
       "      <td>...</td>\n",
       "      <td>...</td>\n",
       "      <td>...</td>\n",
       "      <td>...</td>\n",
       "      <td>...</td>\n",
       "    </tr>\n",
       "    <tr>\n",
       "      <th>1223</th>\n",
       "      <td>206A-lecture01-03_clip107</td>\n",
       "      <td>Real</td>\n",
       "      <td>/home/ubuntu/data/demo/hany_206b_clip_audio_16...</td>\n",
       "      <td>0</td>\n",
       "      <td>0</td>\n",
       "      <td>test</td>\n",
       "    </tr>\n",
       "    <tr>\n",
       "      <th>1224</th>\n",
       "      <td>LJ003-0300</td>\n",
       "      <td>ElevenLabs</td>\n",
       "      <td>/home/ubuntu/data/demo/hany_elevenlabs_16KHz/L...</td>\n",
       "      <td>1</td>\n",
       "      <td>1</td>\n",
       "      <td>test</td>\n",
       "    </tr>\n",
       "    <tr>\n",
       "      <th>1225</th>\n",
       "      <td>LJ031-0218</td>\n",
       "      <td>ElevenLabs</td>\n",
       "      <td>/home/ubuntu/data/demo/hany_elevenlabs_16KHz/L...</td>\n",
       "      <td>1</td>\n",
       "      <td>1</td>\n",
       "      <td>test</td>\n",
       "    </tr>\n",
       "    <tr>\n",
       "      <th>1226</th>\n",
       "      <td>LJ022-0023</td>\n",
       "      <td>ElevenLabs</td>\n",
       "      <td>/home/ubuntu/data/demo/hany_elevenlabs_16KHz/L...</td>\n",
       "      <td>1</td>\n",
       "      <td>1</td>\n",
       "      <td>test</td>\n",
       "    </tr>\n",
       "    <tr>\n",
       "      <th>1227</th>\n",
       "      <td>206A-lecture02-01_clip6</td>\n",
       "      <td>Real</td>\n",
       "      <td>/home/ubuntu/data/demo/hany_206b_clip_audio_16...</td>\n",
       "      <td>0</td>\n",
       "      <td>0</td>\n",
       "      <td>test</td>\n",
       "    </tr>\n",
       "  </tbody>\n",
       "</table>\n",
       "<p>1228 rows × 6 columns</p>\n",
       "</div>"
      ],
      "text/plain": [
       "                             id architecture  \\\n",
       "0      206A-lecture01-03_clip63         Real   \n",
       "1      206A-lecture01-05_clip30         Real   \n",
       "2                    LJ028-0215   ElevenLabs   \n",
       "3                    LJ011-0030   ElevenLabs   \n",
       "4      206A-lecture02-02_clip25         Real   \n",
       "...                         ...          ...   \n",
       "1223  206A-lecture01-03_clip107         Real   \n",
       "1224                 LJ003-0300   ElevenLabs   \n",
       "1225                 LJ031-0218   ElevenLabs   \n",
       "1226                 LJ022-0023   ElevenLabs   \n",
       "1227    206A-lecture02-01_clip6         Real   \n",
       "\n",
       "                                                   path  label  \\\n",
       "0     /home/ubuntu/data/demo/hany_206b_clip_audio_16...      0   \n",
       "1     /home/ubuntu/data/demo/hany_206b_clip_audio_16...      0   \n",
       "2     /home/ubuntu/data/demo/hany_elevenlabs_16KHz/L...      1   \n",
       "3     /home/ubuntu/data/demo/hany_elevenlabs_16KHz/L...      1   \n",
       "4     /home/ubuntu/data/demo/hany_206b_clip_audio_16...      0   \n",
       "...                                                 ...    ...   \n",
       "1223  /home/ubuntu/data/demo/hany_206b_clip_audio_16...      0   \n",
       "1224  /home/ubuntu/data/demo/hany_elevenlabs_16KHz/L...      1   \n",
       "1225  /home/ubuntu/data/demo/hany_elevenlabs_16KHz/L...      1   \n",
       "1226  /home/ubuntu/data/demo/hany_elevenlabs_16KHz/L...      1   \n",
       "1227  /home/ubuntu/data/demo/hany_206b_clip_audio_16...      0   \n",
       "\n",
       "      multiclass_label   type  \n",
       "0                    0  train  \n",
       "1                    0  train  \n",
       "2                    1  train  \n",
       "3                    1  train  \n",
       "4                    0  train  \n",
       "...                ...    ...  \n",
       "1223                 0   test  \n",
       "1224                 1   test  \n",
       "1225                 1   test  \n",
       "1226                 1   test  \n",
       "1227                 0   test  \n",
       "\n",
       "[1228 rows x 6 columns]"
      ]
     },
     "execution_count": 7,
     "metadata": {},
     "output_type": "execute_result"
    }
   ],
   "source": [
    "data_df"
   ]
  },
  {
   "cell_type": "markdown",
   "id": "9452fc99",
   "metadata": {},
   "source": [
    "## Generate the Features"
   ]
  },
  {
   "cell_type": "code",
   "execution_count": 8,
   "id": "4a1328ad",
   "metadata": {},
   "outputs": [
    {
     "name": "stdout",
     "output_type": "stream",
     "text": [
      "[NeMo I 2023-05-10 19:57:04 cloud:56] Found existing object /home/ubuntu/.cache/torch/NeMo/NeMo_1.15.0/titanet-l/492c0ab8416139171dc18c21879a9e45/titanet-l.nemo.\n",
      "[NeMo I 2023-05-10 19:57:04 cloud:62] Re-using file from: /home/ubuntu/.cache/torch/NeMo/NeMo_1.15.0/titanet-l/492c0ab8416139171dc18c21879a9e45/titanet-l.nemo\n",
      "[NeMo I 2023-05-10 19:57:04 common:913] Instantiating model from pre-trained checkpoint\n"
     ]
    },
    {
     "name": "stderr",
     "output_type": "stream",
     "text": [
      "[NeMo W 2023-05-10 19:57:05 modelPT:156] If you intend to do training or fine-tuning, please call the ModelPT.setup_training_data() method and provide a valid configuration file to setup the train data loader.\n",
      "    Train config : \n",
      "    manifest_filepath: /manifests/combined_fisher_swbd_voxceleb12_librispeech/train.json\n",
      "    sample_rate: 16000\n",
      "    labels: null\n",
      "    batch_size: 64\n",
      "    shuffle: true\n",
      "    time_length: 3\n",
      "    is_tarred: false\n",
      "    tarred_audio_filepaths: null\n",
      "    tarred_shard_strategy: scatter\n",
      "    augmentor:\n",
      "      noise:\n",
      "        manifest_path: /manifests/noise/rir_noise_manifest.json\n",
      "        prob: 0.5\n",
      "        min_snr_db: 0\n",
      "        max_snr_db: 15\n",
      "      speed:\n",
      "        prob: 0.5\n",
      "        sr: 16000\n",
      "        resample_type: kaiser_fast\n",
      "        min_speed_rate: 0.95\n",
      "        max_speed_rate: 1.05\n",
      "    num_workers: 15\n",
      "    pin_memory: true\n",
      "    \n",
      "[NeMo W 2023-05-10 19:57:05 modelPT:163] If you intend to do validation, please call the ModelPT.setup_validation_data() or ModelPT.setup_multiple_validation_data() method and provide a valid configuration file to setup the validation data loader(s). \n",
      "    Validation config : \n",
      "    manifest_filepath: /manifests/combined_fisher_swbd_voxceleb12_librispeech/dev.json\n",
      "    sample_rate: 16000\n",
      "    labels: null\n",
      "    batch_size: 128\n",
      "    shuffle: false\n",
      "    time_length: 3\n",
      "    num_workers: 15\n",
      "    pin_memory: true\n",
      "    \n"
     ]
    },
    {
     "name": "stdout",
     "output_type": "stream",
     "text": [
      "[NeMo I 2023-05-10 19:57:05 label_models:126] Setting angular: true/false in decoder is deprecated and will be removed in 1.13 version, use specific loss with _target_\n",
      "[NeMo I 2023-05-10 19:57:05 features:267] PADDING: 16\n",
      "[NeMo I 2023-05-10 19:57:05 save_restore_connector:243] Model EncDecSpeakerLabelModel was successfully restored from /home/ubuntu/.cache/torch/NeMo/NeMo_1.15.0/titanet-l/492c0ab8416139171dc18c21879a9e45/titanet-l.nemo.\n"
     ]
    },
    {
     "name": "stderr",
     "output_type": "stream",
     "text": [
      "100%|██████████| 2/2 [00:00<00:00,  6.66it/s]\n"
     ]
    }
   ],
   "source": [
    "\n",
    "speaker_model = nemo_asr.models.EncDecSpeakerLabelModel.from_pretrained(model_name='titanet_large')\n",
    "embedding_manager = AudioEmbeddingsManager(model=speaker_model, data=data_df)\n",
    "em_feature_df, em_feature_cols = embedding_manager.generateFeatureDf()\n"
   ]
  },
  {
   "cell_type": "markdown",
   "id": "3ad0a806-a60f-4072-beed-d3cf72021dc9",
   "metadata": {},
   "source": [
    "<font color='red'> Sarah to update"
   ]
  },
  {
   "cell_type": "code",
   "execution_count": 9,
   "id": "25d293bc",
   "metadata": {},
   "outputs": [
    {
     "name": "stdout",
     "output_type": "stream",
     "text": [
      "Normalizing amplitudes\n",
      "Truncating silences\n",
      "Truncating audio 100/1228 (8%)\n",
      "Truncating audio 200/1228 (16%)\n",
      "Truncating audio 300/1228 (24%)\n",
      "Truncating audio 400/1228 (33%)\n",
      "Truncating audio 500/1228 (41%)\n",
      "Truncating audio 600/1228 (49%)\n",
      "Truncating audio 700/1228 (57%)\n",
      "Truncating audio 800/1228 (65%)\n",
      "Truncating audio 900/1228 (73%)\n",
      "Truncating audio 1000/1228 (81%)\n",
      "Truncating audio 1100/1228 (90%)\n",
      "Truncating audio 1200/1228 (98%)\n",
      "Extracting pauses\n",
      "Extracting pause spreads\n"
     ]
    },
    {
     "name": "stderr",
     "output_type": "stream",
     "text": [
      "[NeMo W 2023-05-10 19:58:25 nemo_logging:349] /home/ubuntu/.local/lib/python3.8/site-packages/numpy/core/_methods.py:265: RuntimeWarning: Degrees of freedom <= 0 for slice\n",
      "      ret = _var(a, axis=axis, dtype=dtype, out=out, ddof=ddof,\n",
      "    \n",
      "[NeMo W 2023-05-10 19:58:25 nemo_logging:349] /home/ubuntu/.local/lib/python3.8/site-packages/numpy/core/_methods.py:223: RuntimeWarning: invalid value encountered in divide\n",
      "      arrmean = um.true_divide(arrmean, div, out=arrmean, casting='unsafe',\n",
      "    \n",
      "[NeMo W 2023-05-10 19:58:25 nemo_logging:349] /home/ubuntu/.local/lib/python3.8/site-packages/numpy/core/_methods.py:257: RuntimeWarning: invalid value encountered in double_scalars\n",
      "      ret = ret.dtype.type(ret / rcount)\n",
      "    \n",
      "[NeMo W 2023-05-10 19:58:25 nemo_logging:349] /home/ubuntu/.local/lib/python3.8/site-packages/numpy/core/fromnumeric.py:3432: RuntimeWarning: Mean of empty slice.\n",
      "      return _methods._mean(a, axis=axis, dtype=dtype,\n",
      "    \n",
      "[NeMo W 2023-05-10 19:58:25 nemo_logging:349] /home/ubuntu/.local/lib/python3.8/site-packages/numpy/core/_methods.py:190: RuntimeWarning: invalid value encountered in double_scalars\n",
      "      ret = ret.dtype.type(ret / rcount)\n",
      "    \n"
     ]
    },
    {
     "name": "stdout",
     "output_type": "stream",
     "text": [
      "Extracting amplitude features\n",
      "Creating dataframe\n",
      "Complete\n",
      "<class 'sklearn.preprocessing._data.MinMaxScaler'>\n"
     ]
    }
   ],
   "source": [
    "\n",
    "cadence_manager = CadenceModelManager(data_df)\n",
    "cad_feature_df, cad_feature_cols, scalar =  cadence_manager.run_cadence_feature_extraction_pipeline() # Add param for load features or not\n",
    "# TO DO: save the features down to CSV so can be loaded with features loader \n",
    "print(type(scalar))"
   ]
  },
  {
   "cell_type": "code",
   "execution_count": 10,
   "id": "043951e0-25fc-49e3-b46f-f07aaadb027c",
   "metadata": {},
   "outputs": [
    {
     "name": "stderr",
     "output_type": "stream",
     "text": [
      "100%|██████████| 2/2 [00:12<00:00,  6.32s/it]\n"
     ]
    },
    {
     "name": "stdout",
     "output_type": "stream",
     "text": [
      "Initializing data...\n",
      "Standardizing features...\n",
      "smileFeatureSelectFromModel object initialized.\n",
      "\n",
      "\n",
      "Selected features:.\n",
      "\n",
      "1. duration(seconds)\n",
      "2. audspec_lengthL1norm_sma_iqr2-3\n",
      "3. audspec_lengthL1norm_sma_maxPos\n",
      "4. audspec_lengthL1norm_sma_quartile2\n",
      "5. audspec_lengthL1norm_sma_range\n",
      "6. audspec_lengthL1norm_sma_iqr1-2\n",
      "7. audspec_lengthL1norm_sma_quartile3\n",
      "8. audspec_lengthL1norm_sma_quartile1\n",
      "9. audspec_lengthL1norm_sma_minPos\n",
      "10. audspec_lengthL1norm_sma_iqr1-3\n",
      "Initializing data...\n",
      "Standardizing features...\n",
      "smileFeatureSelectFromModel object initialized.\n",
      "\n",
      "\n",
      "Selected features:.\n",
      "\n",
      "1. mfcc_sma[5]_quartile3\n",
      "2. pcm_fftMag_spectralRollOff90.0_sma_quartile1\n",
      "3. pcm_fftMag_spectralSkewness_sma_de_posamean\n",
      "4. mfcc_sma[6]_quartile2\n",
      "5. pcm_fftMag_spectralRollOff50.0_sma_quartile1\n",
      "6. pcm_fftMag_spectralEntropy_sma_amean\n",
      "7. mfcc_sma[2]_amean\n",
      "8. mfcc_sma[3]_quartile3\n",
      "9. pcm_fftMag_spectralSkewness_sma_de_lpgain\n",
      "10. mfcc_sma[3]_quartile2\n"
     ]
    }
   ],
   "source": [
    "\n",
    "smile_manager = SmileFeatureManager(data_df)\n",
    "os_binary_feature_df, os_binary_feature_cols = smile_manager.generateFeatureDf('random_forest', label_type='binary')\n",
    "os_multiclass_feature_df, os_multiclass_feature_cols = smile_manager.generateFeatureDf('random_forest', label_type='multiclass')\n"
   ]
  },
  {
   "cell_type": "markdown",
   "id": "dd386ba7",
   "metadata": {},
   "source": [
    "## Predict and Evaluate"
   ]
  },
  {
   "cell_type": "code",
   "execution_count": 11,
   "id": "25db3cfd-7487-467e-b1f9-b7fb29775a17",
   "metadata": {},
   "outputs": [
    {
     "data": {
      "text/plain": [
       "(1.0, 0.1613799612571519)"
      ]
     },
     "execution_count": 11,
     "metadata": {},
     "output_type": "execute_result"
    }
   ],
   "source": [
    "em_model_manager_bin = ModelManager('logreg', em_feature_df, em_feature_cols, merge_train_dev=True)\n",
    "em_model_manager_bin.trainPredict(label_col='label')"
   ]
  },
  {
   "cell_type": "code",
   "execution_count": 12,
   "id": "9e84c7bb",
   "metadata": {},
   "outputs": [
    {
     "data": {
      "text/plain": [
       "(1.0, 0.1613799612571519)"
      ]
     },
     "execution_count": 12,
     "metadata": {},
     "output_type": "execute_result"
    }
   ],
   "source": [
    "em_model_manager_multi = ModelManager('logreg', em_feature_df, em_feature_cols, merge_train_dev=True)\n",
    "em_model_manager_multi.trainPredict(label_col='multiclass_label')"
   ]
  },
  {
   "cell_type": "code",
   "execution_count": 13,
   "id": "ec8237a8-436f-4e40-ba70-9c475e2551ad",
   "metadata": {},
   "outputs": [
    {
     "data": {
      "text/plain": [
       "(0.991869918699187, 0.04902363169122448)"
      ]
     },
     "execution_count": 13,
     "metadata": {},
     "output_type": "execute_result"
    }
   ],
   "source": [
    "os_model_manager_bin = ModelManager('logreg', os_binary_feature_df, os_binary_feature_cols, merge_train_dev=True)\n",
    "os_model_manager_bin.trainPredict(label_col='label')"
   ]
  },
  {
   "cell_type": "code",
   "execution_count": 14,
   "id": "4a12561f-e9c0-49a6-8b37-d46540935f87",
   "metadata": {},
   "outputs": [
    {
     "data": {
      "text/plain": [
       "(1.0, 1.1099331708836112e-05)"
      ]
     },
     "execution_count": 14,
     "metadata": {},
     "output_type": "execute_result"
    }
   ],
   "source": [
    "os_model_manager_multi = ModelManager('logreg', os_multiclass_feature_df, os_multiclass_feature_cols, merge_train_dev=True)\n",
    "os_model_manager_multi.trainPredict(label_col='label')"
   ]
  },
  {
   "cell_type": "code",
   "execution_count": 15,
   "id": "e5f478dc-b2ce-4fa9-9294-be0725bc9741",
   "metadata": {},
   "outputs": [
    {
     "data": {
      "text/plain": [
       "(1.0, 0.05890690830930745)"
      ]
     },
     "execution_count": 15,
     "metadata": {},
     "output_type": "execute_result"
    }
   ],
   "source": [
    "cad_model_manager_bin = ModelManager('logreg', cad_feature_df, cad_feature_cols, merge_train_dev=True)\n",
    "cad_model_manager_bin.trainPredict(label_col='label')"
   ]
  },
  {
   "cell_type": "code",
   "execution_count": 16,
   "id": "8f69d383-94ef-4b21-b0d4-860ed863ffb0",
   "metadata": {},
   "outputs": [
    {
     "data": {
      "text/plain": [
       "(1.0, 0.05890690830930745)"
      ]
     },
     "execution_count": 16,
     "metadata": {},
     "output_type": "execute_result"
    }
   ],
   "source": [
    "cad_model_manager_multi = ModelManager('logreg', cad_feature_df, cad_feature_cols, merge_train_dev=True)\n",
    "cad_model_manager_multi.trainPredict(label_col='multiclass_label')"
   ]
  },
  {
   "cell_type": "code",
   "execution_count": 17,
   "id": "26a0a988-0083-4fd9-8d45-862e0d4e8f3a",
   "metadata": {},
   "outputs": [
    {
     "name": "stdout",
     "output_type": "stream",
     "text": [
      "Binary Performance\n",
      "---------------------------\n",
      "Embeddings Accuracy: 1.0\n",
      "OpenSmile Accuracy: 0.991869918699187\n",
      "Cadence Accuracy: 1.0\n",
      "\n",
      "Embeddings Loss: 0.1613799612571519\n",
      "OpenSmile Loss: 0.04902363169122448\n",
      "Cadence Loss: 0.05890690830930745\n"
     ]
    }
   ],
   "source": [
    "print('Binary Performance')\n",
    "print('---------------------------')\n",
    "print(f'Embeddings Accuracy: {em_model_manager_bin.accuracy}')\n",
    "print(f'OpenSmile Accuracy: {os_model_manager_bin.accuracy}')\n",
    "print(f'Cadence Accuracy: {cad_model_manager_bin.accuracy}')\n",
    "print()\n",
    "print(f'Embeddings Loss: {em_model_manager_bin.log_loss_value}')\n",
    "print(f'OpenSmile Loss: {os_model_manager_bin.log_loss_value}')\n",
    "print(f'Cadence Loss: {cad_model_manager_bin.log_loss_value}')"
   ]
  },
  {
   "cell_type": "code",
   "execution_count": 18,
   "id": "efd7fb80-82bd-4ba3-8856-ced84411c72e",
   "metadata": {},
   "outputs": [],
   "source": [
    "#am.predCorrelation((em_model_manager_bin, cad_model_manager_bin), label_type='binary')"
   ]
  },
  {
   "cell_type": "code",
   "execution_count": 19,
   "id": "4546cdf3-e9ab-4677-bfc5-2c6702a84ad0",
   "metadata": {},
   "outputs": [
    {
     "name": "stdout",
     "output_type": "stream",
     "text": [
      "Multi-Class Performance\n",
      "---------------------------\n",
      "Embeddings Accuracy: 1.0\n",
      "OpenSmile Accuracy: 1.0\n",
      "Cadence Accuracy: 1.0\n",
      "\n",
      "Embeddings Loss: 0.1613799612571519\n",
      "OpenSmile Loss: 1.1099331708836112e-05\n",
      "Cadence Loss: 0.05890690830930745\n"
     ]
    }
   ],
   "source": [
    "print('Multi-Class Performance')\n",
    "print('---------------------------')\n",
    "print(f'Embeddings Accuracy: {em_model_manager_multi.accuracy}')\n",
    "print(f'OpenSmile Accuracy: {os_model_manager_multi.accuracy}')\n",
    "print(f'Cadence Accuracy: {cad_model_manager_multi.accuracy}')\n",
    "print()\n",
    "print(f'Embeddings Loss: {em_model_manager_multi.log_loss_value}')\n",
    "print(f'OpenSmile Loss: {os_model_manager_multi.log_loss_value}')\n",
    "print(f'Cadence Loss: {cad_model_manager_multi.log_loss_value}')"
   ]
  },
  {
   "cell_type": "code",
   "execution_count": 20,
   "id": "d65f06c3-532b-4897-9f87-76edfb0a4fee",
   "metadata": {},
   "outputs": [],
   "source": [
    "#am.predCorrelation((em_model_manager_multi, cad_model_manager_multi), label_type='multiclass')"
   ]
  },
  {
   "cell_type": "code",
   "execution_count": 21,
   "id": "9af00dba-7910-4a84-8e94-0485535313ec",
   "metadata": {},
   "outputs": [
    {
     "data": {
      "text/plain": [
       "<packages.ModelManager.ModelManager at 0x7f8d4cabc670>"
      ]
     },
     "execution_count": 21,
     "metadata": {},
     "output_type": "execute_result"
    }
   ],
   "source": [
    "em_model_manager_bin\n",
    "os_model_manager_bin\n",
    "cad_model_manager_bin"
   ]
  },
  {
   "cell_type": "code",
   "execution_count": 22,
   "id": "cc48850f-36a2-4d4b-a3e2-7e5fb2950197",
   "metadata": {},
   "outputs": [],
   "source": [
    "import pickle, os\n",
    "\n",
    "def save_model(model, filepath):\n",
    "    with open(filepath, 'wb') as file:\n",
    "        pickle.dump(model, file)"
   ]
  },
  {
   "cell_type": "code",
   "execution_count": 23,
   "id": "f66231b3-11a1-4962-b981-669f393323ab",
   "metadata": {},
   "outputs": [],
   "source": [
    "model_dir = '/home/ubuntu/data/demo/models'\n",
    "save_model(em_model_manager_bin.model, os.path.join(model_dir, 'titanet.pkl'))\n",
    "save_model(os_model_manager_bin.model, os.path.join(model_dir, 'openSmile.pkl'))\n",
    "save_model(cad_model_manager_bin.model, os.path.join(model_dir, 'cadence.pkl'))"
   ]
  },
  {
   "cell_type": "code",
   "execution_count": 24,
   "id": "0fdb54a1-8a12-4e78-a6f4-c98ef2c0cc64",
   "metadata": {},
   "outputs": [],
   "source": [
    "with open('/home/ubuntu/data/demo/models/openSmile_features.pkl', 'wb') as file:\n",
    "    pickle.dump(os_binary_feature_cols, file)"
   ]
  },
  {
   "cell_type": "code",
   "execution_count": 28,
   "id": "cf1e015a-2d77-47c5-969f-51e2e1873b0d",
   "metadata": {},
   "outputs": [],
   "source": [
    "with open('/home/ubuntu/data/demo/models/em_features.pkl', 'wb') as file:\n",
    "    pickle.dump(em_feature_cols, file)"
   ]
  },
  {
   "cell_type": "code",
   "execution_count": 25,
   "id": "59224b9b-0727-4b69-aeef-250797eae46a",
   "metadata": {},
   "outputs": [],
   "source": [
    "with open('/home/ubuntu/data/demo/models/cadence_scalar.pkl', 'wb') as file:\n",
    "    pickle.dump(scalar, file)"
   ]
  }
 ],
 "metadata": {
  "kernelspec": {
   "display_name": "nemo",
   "language": "python",
   "name": "nemo"
  },
  "language_info": {
   "codemirror_mode": {
    "name": "ipython",
    "version": 3
   },
   "file_extension": ".py",
   "mimetype": "text/x-python",
   "name": "python",
   "nbconvert_exporter": "python",
   "pygments_lexer": "ipython3",
   "version": "3.8.0"
  }
 },
 "nbformat": 4,
 "nbformat_minor": 5
}
