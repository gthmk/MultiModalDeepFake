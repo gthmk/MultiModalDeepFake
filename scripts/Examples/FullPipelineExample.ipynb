{
 "cells": [
  {
   "cell_type": "code",
   "execution_count": null,
   "id": "54d8e6ce-0227-40cb-8511-1a9272e9ba99",
   "metadata": {},
   "outputs": [],
   "source": []
  },
  {
   "cell_type": "code",
   "execution_count": 1,
   "id": "a1754ce9",
   "metadata": {},
   "outputs": [],
   "source": [
    "import sys\n",
    "sys.path.append(\"/home/ubuntu/MultiModalDeepFake\")\n",
    "#import nemo.collections.asr as nemo_asr \n",
    "import pandas as pd"
   ]
  },
  {
   "cell_type": "code",
   "execution_count": 2,
   "id": "704a1092",
   "metadata": {},
   "outputs": [
    {
     "name": "stderr",
     "output_type": "stream",
     "text": [
      "################################################################################\n",
      "### WARNING, path does not exist: KALDI_ROOT=/mnt/matylda5/iveselyk/Tools/kaldi-trunk\n",
      "###          (please add 'export KALDI_ROOT=<your_path>' in your $HOME/.profile)\n",
      "###          (or run as: KALDI_ROOT=<your_path> python <your_script>.py)\n",
      "################################################################################\n",
      "\n",
      "2023-04-06 02:38:15.073803: I tensorflow/core/platform/cpu_feature_guard.cc:193] This TensorFlow binary is optimized with oneAPI Deep Neural Network Library (oneDNN) to use the following CPU instructions in performance-critical operations:  AVX2 AVX512F AVX512_VNNI FMA\n",
      "To enable them in other operations, rebuild TensorFlow with the appropriate compiler flags.\n",
      "2023-04-06 02:38:15.182724: I tensorflow/core/util/port.cc:104] oneDNN custom operations are on. You may see slightly different numerical results due to floating-point round-off errors from different computation orders. To turn them off, set the environment variable `TF_ENABLE_ONEDNN_OPTS=0`.\n",
      "2023-04-06 02:38:15.691624: W tensorflow/compiler/xla/stream_executor/platform/default/dso_loader.cc:64] Could not load dynamic library 'libnvinfer.so.7'; dlerror: libnvinfer.so.7: cannot open shared object file: No such file or directory\n",
      "2023-04-06 02:38:15.691684: W tensorflow/compiler/xla/stream_executor/platform/default/dso_loader.cc:64] Could not load dynamic library 'libnvinfer_plugin.so.7'; dlerror: libnvinfer_plugin.so.7: cannot open shared object file: No such file or directory\n",
      "2023-04-06 02:38:15.691688: W tensorflow/compiler/tf2tensorrt/utils/py_utils.cc:38] TF-TRT Warning: Cannot dlopen some TensorRT libraries. If you would like to use Nvidia GPU with TensorRT, please make sure the missing libraries mentioned above are installed properly.\n",
      "/home/ubuntu/.local/lib/python3.8/site-packages/requests/__init__.py:89: RequestsDependencyWarning: urllib3 (1.24.3) or chardet (5.1.0) doesn't match a supported version!\n",
      "  warnings.warn(\"urllib3 ({}) or chardet ({}) doesn't match a supported \"\n"
     ]
    }
   ],
   "source": [
    "from packages.LJDataLoader import LJDataLoader\n",
    "from packages.AudioEmbeddingsManager import AudioEmbeddingsManager\n",
    "from packages.ModelManager import ModelManager\n",
    "from packages.CadenceModelManager import CadenceModelManager"
   ]
  },
  {
   "cell_type": "markdown",
   "id": "4af9b280",
   "metadata": {},
   "source": [
    "## Generate the Train/Dev/Test"
   ]
  },
  {
   "cell_type": "code",
   "execution_count": 3,
   "id": "be5ea4f2",
   "metadata": {},
   "outputs": [
    {
     "name": "stdout",
     "output_type": "stream",
     "text": [
      "1306\n",
      "783 1044\n"
     ]
    }
   ],
   "source": [
    "file_path = '/home/ubuntu/data/wavefake_data/LJ_metadata_Original.csv'\n",
    "loader = LJDataLoader(data_path=file_path)\n",
    "loader.sample(0.1)\n",
    "loader.splitData()\n",
    "\n",
    "source_architectures = ['Full_Band_MelGan', 'HifiGan', 'MelGan', 'MelGanLarge', 'Multi_Band_MelGan', 'Parallel_WaveGan', 'Waveglow']\n",
    "new_col_name = 'RandWaveFake'\n",
    "loader.selectRandomArchitecture(target_col=new_col_name, source_cols=source_architectures)\n",
    "\n",
    "#data_df = loader.generateFinalDataFrame(real_col='Real', fake_cols=['RandWaveFake', 'ElevenLabs', 'UberDuck'])\n",
    "data_df = loader.generateFinalDataFrame(real_col='Real', fake_cols=['ElevenLabs'])"
   ]
  },
  {
   "cell_type": "code",
   "execution_count": 4,
   "id": "6a850801-5f10-470d-bf3e-9ee6a6571016",
   "metadata": {},
   "outputs": [
    {
     "data": {
      "text/html": [
       "<div>\n",
       "<style scoped>\n",
       "    .dataframe tbody tr th:only-of-type {\n",
       "        vertical-align: middle;\n",
       "    }\n",
       "\n",
       "    .dataframe tbody tr th {\n",
       "        vertical-align: top;\n",
       "    }\n",
       "\n",
       "    .dataframe thead th {\n",
       "        text-align: right;\n",
       "    }\n",
       "</style>\n",
       "<table border=\"1\" class=\"dataframe\">\n",
       "  <thead>\n",
       "    <tr style=\"text-align: right;\">\n",
       "      <th></th>\n",
       "      <th>type</th>\n",
       "      <th>path</th>\n",
       "      <th>label</th>\n",
       "      <th>multiclass_label</th>\n",
       "    </tr>\n",
       "  </thead>\n",
       "  <tbody>\n",
       "    <tr>\n",
       "      <th>0</th>\n",
       "      <td>train</td>\n",
       "      <td>/home/ubuntu/data/wavefake_data/LJSpeech_1.1/w...</td>\n",
       "      <td>0</td>\n",
       "      <td>0</td>\n",
       "    </tr>\n",
       "    <tr>\n",
       "      <th>1</th>\n",
       "      <td>train</td>\n",
       "      <td>/home/ubuntu/data/wavefake_data/LJSpeech_1.1/w...</td>\n",
       "      <td>0</td>\n",
       "      <td>0</td>\n",
       "    </tr>\n",
       "    <tr>\n",
       "      <th>2</th>\n",
       "      <td>train</td>\n",
       "      <td>/home/ubuntu/data/wavefake_data/LJSpeech_1.1/w...</td>\n",
       "      <td>0</td>\n",
       "      <td>0</td>\n",
       "    </tr>\n",
       "    <tr>\n",
       "      <th>3</th>\n",
       "      <td>train</td>\n",
       "      <td>/home/ubuntu/data/wavefake_data/LJSpeech_1.1/w...</td>\n",
       "      <td>0</td>\n",
       "      <td>0</td>\n",
       "    </tr>\n",
       "    <tr>\n",
       "      <th>4</th>\n",
       "      <td>train</td>\n",
       "      <td>/home/ubuntu/data/wavefake_data/LJSpeech_1.1/w...</td>\n",
       "      <td>0</td>\n",
       "      <td>0</td>\n",
       "    </tr>\n",
       "  </tbody>\n",
       "</table>\n",
       "</div>"
      ],
      "text/plain": [
       "    type                                               path  label  \\\n",
       "0  train  /home/ubuntu/data/wavefake_data/LJSpeech_1.1/w...      0   \n",
       "1  train  /home/ubuntu/data/wavefake_data/LJSpeech_1.1/w...      0   \n",
       "2  train  /home/ubuntu/data/wavefake_data/LJSpeech_1.1/w...      0   \n",
       "3  train  /home/ubuntu/data/wavefake_data/LJSpeech_1.1/w...      0   \n",
       "4  train  /home/ubuntu/data/wavefake_data/LJSpeech_1.1/w...      0   \n",
       "\n",
       "   multiclass_label  \n",
       "0                 0  \n",
       "1                 0  \n",
       "2                 0  \n",
       "3                 0  \n",
       "4                 0  "
      ]
     },
     "execution_count": 4,
     "metadata": {},
     "output_type": "execute_result"
    }
   ],
   "source": [
    "data_df.head()"
   ]
  },
  {
   "cell_type": "code",
   "execution_count": 5,
   "id": "12b0d076-fb70-499a-9a3c-d57a8c52c5e9",
   "metadata": {},
   "outputs": [
    {
     "name": "stdout",
     "output_type": "stream",
     "text": [
      "# of Train instances: 1566\n",
      "# of Dev instances: 522\n",
      "# of Test instances: 524\n"
     ]
    }
   ],
   "source": [
    "train_count = data_df[data_df['type'] == 'train'].shape[0]\n",
    "dev_count = data_df[data_df['type'] == 'dev'].shape[0]\n",
    "test_count = data_df[data_df['type'] == 'test'].shape[0]\n",
    "\n",
    "print(f'# of Train instances: {train_count}')\n",
    "print(f'# of Dev instances: {dev_count}')\n",
    "print(f'# of Test instances: {test_count}')"
   ]
  },
  {
   "cell_type": "markdown",
   "id": "9452fc99",
   "metadata": {},
   "source": [
    "## Generate the Features"
   ]
  },
  {
   "cell_type": "code",
   "execution_count": 6,
   "id": "4a1328ad",
   "metadata": {},
   "outputs": [],
   "source": [
    "#speaker_model = nemo_asr.models.EncDecSpeakerLabelModel.from_pretrained(model_name='titanet_large')\n",
    "#embedding_manager = AudioEmbeddingsManager(model=speaker_model, data=data_df)\n",
    "#feature_df, feature_cols = embedding_manager.generateFeatureDf()"
   ]
  },
  {
   "cell_type": "code",
   "execution_count": 7,
   "id": "25d293bc",
   "metadata": {},
   "outputs": [],
   "source": [
    "cadence_manager = CadenceModelManager(data_df)"
   ]
  },
  {
   "cell_type": "code",
   "execution_count": 8,
   "id": "505faa8d-7bf5-4f07-a914-947096442603",
   "metadata": {},
   "outputs": [
    {
     "name": "stdout",
     "output_type": "stream",
     "text": [
      "Normalizing amplitudes\n",
      "Truncating silences\n",
      "Truncating audio 100/2612 (4%)\n",
      "Truncating audio 200/2612 (8%)\n",
      "Truncating audio 300/2612 (11%)\n",
      "Truncating audio 400/2612 (15%)\n",
      "Truncating audio 500/2612 (19%)\n",
      "Truncating audio 600/2612 (23%)\n",
      "Truncating audio 700/2612 (27%)\n",
      "Truncating audio 800/2612 (31%)\n",
      "Truncating audio 900/2612 (34%)\n",
      "Truncating audio 1000/2612 (38%)\n",
      "Truncating audio 1100/2612 (42%)\n",
      "Truncating audio 1200/2612 (46%)\n",
      "Truncating audio 1300/2612 (50%)\n",
      "Truncating audio 1400/2612 (54%)\n",
      "Truncating audio 1500/2612 (57%)\n",
      "Truncating audio 1600/2612 (61%)\n",
      "Truncating audio 1700/2612 (65%)\n",
      "Truncating audio 1800/2612 (69%)\n",
      "Truncating audio 1900/2612 (73%)\n",
      "Truncating audio 2000/2612 (77%)\n",
      "Truncating audio 2100/2612 (80%)\n",
      "Truncating audio 2200/2612 (84%)\n",
      "Truncating audio 2300/2612 (88%)\n",
      "Truncating audio 2400/2612 (92%)\n",
      "Truncating audio 2500/2612 (96%)\n",
      "Truncating audio 2600/2612 (100%)\n",
      "Extracting pauses\n",
      "Extracting pause spreads\n"
     ]
    },
    {
     "name": "stderr",
     "output_type": "stream",
     "text": [
      "/home/ubuntu/.local/lib/python3.8/site-packages/numpy/core/_methods.py:265: RuntimeWarning: Degrees of freedom <= 0 for slice\n",
      "  ret = _var(a, axis=axis, dtype=dtype, out=out, ddof=ddof,\n",
      "/home/ubuntu/.local/lib/python3.8/site-packages/numpy/core/_methods.py:223: RuntimeWarning: invalid value encountered in divide\n",
      "  arrmean = um.true_divide(arrmean, div, out=arrmean, casting='unsafe',\n",
      "/home/ubuntu/.local/lib/python3.8/site-packages/numpy/core/_methods.py:257: RuntimeWarning: invalid value encountered in double_scalars\n",
      "  ret = ret.dtype.type(ret / rcount)\n",
      "/home/ubuntu/.local/lib/python3.8/site-packages/numpy/core/fromnumeric.py:3432: RuntimeWarning: Mean of empty slice.\n",
      "  return _methods._mean(a, axis=axis, dtype=dtype,\n",
      "/home/ubuntu/.local/lib/python3.8/site-packages/numpy/core/_methods.py:190: RuntimeWarning: invalid value encountered in double_scalars\n",
      "  ret = ret.dtype.type(ret / rcount)\n"
     ]
    },
    {
     "name": "stdout",
     "output_type": "stream",
     "text": [
      "Extracting amplitude features\n",
      "Creating dataframe\n",
      "Complete\n"
     ]
    }
   ],
   "source": [
    "feature_df, feature_cols =  cadence_manager.run_cadence_feature_extraction_pipeline()"
   ]
  },
  {
   "cell_type": "code",
   "execution_count": 9,
   "id": "d36f735f-ce65-417d-8334-9eb2fdde5ade",
   "metadata": {},
   "outputs": [
    {
     "data": {
      "text/html": [
       "<div>\n",
       "<style scoped>\n",
       "    .dataframe tbody tr th:only-of-type {\n",
       "        vertical-align: middle;\n",
       "    }\n",
       "\n",
       "    .dataframe tbody tr th {\n",
       "        vertical-align: top;\n",
       "    }\n",
       "\n",
       "    .dataframe thead th {\n",
       "        text-align: right;\n",
       "    }\n",
       "</style>\n",
       "<table border=\"1\" class=\"dataframe\">\n",
       "  <thead>\n",
       "    <tr style=\"text-align: right;\">\n",
       "      <th></th>\n",
       "      <th>type</th>\n",
       "      <th>path</th>\n",
       "      <th>label</th>\n",
       "      <th>multiclass_label</th>\n",
       "      <th>pause_ratio</th>\n",
       "      <th>pause_mean</th>\n",
       "      <th>pause_std</th>\n",
       "      <th>n_pauses</th>\n",
       "      <th>amp_deriv</th>\n",
       "      <th>amp_mean</th>\n",
       "    </tr>\n",
       "  </thead>\n",
       "  <tbody>\n",
       "    <tr>\n",
       "      <th>0</th>\n",
       "      <td>train</td>\n",
       "      <td>/home/ubuntu/data/wavefake_data/LJSpeech_1.1/w...</td>\n",
       "      <td>0</td>\n",
       "      <td>0</td>\n",
       "      <td>0.331714</td>\n",
       "      <td>0.053819</td>\n",
       "      <td>0.134518</td>\n",
       "      <td>0.546667</td>\n",
       "      <td>0.061520</td>\n",
       "      <td>0.278384</td>\n",
       "    </tr>\n",
       "    <tr>\n",
       "      <th>1</th>\n",
       "      <td>train</td>\n",
       "      <td>/home/ubuntu/data/wavefake_data/LJSpeech_1.1/w...</td>\n",
       "      <td>0</td>\n",
       "      <td>0</td>\n",
       "      <td>0.145843</td>\n",
       "      <td>0.037292</td>\n",
       "      <td>0.057166</td>\n",
       "      <td>0.373333</td>\n",
       "      <td>0.091889</td>\n",
       "      <td>0.405361</td>\n",
       "    </tr>\n",
       "    <tr>\n",
       "      <th>2</th>\n",
       "      <td>train</td>\n",
       "      <td>/home/ubuntu/data/wavefake_data/LJSpeech_1.1/w...</td>\n",
       "      <td>0</td>\n",
       "      <td>0</td>\n",
       "      <td>0.480302</td>\n",
       "      <td>0.078375</td>\n",
       "      <td>0.206590</td>\n",
       "      <td>0.513333</td>\n",
       "      <td>0.009041</td>\n",
       "      <td>0.289811</td>\n",
       "    </tr>\n",
       "    <tr>\n",
       "      <th>3</th>\n",
       "      <td>train</td>\n",
       "      <td>/home/ubuntu/data/wavefake_data/LJSpeech_1.1/w...</td>\n",
       "      <td>0</td>\n",
       "      <td>0</td>\n",
       "      <td>0.202562</td>\n",
       "      <td>0.033152</td>\n",
       "      <td>0.078172</td>\n",
       "      <td>0.566667</td>\n",
       "      <td>0.048194</td>\n",
       "      <td>0.462623</td>\n",
       "    </tr>\n",
       "    <tr>\n",
       "      <th>4</th>\n",
       "      <td>train</td>\n",
       "      <td>/home/ubuntu/data/wavefake_data/LJSpeech_1.1/w...</td>\n",
       "      <td>0</td>\n",
       "      <td>0</td>\n",
       "      <td>0.250078</td>\n",
       "      <td>0.061014</td>\n",
       "      <td>0.238740</td>\n",
       "      <td>0.380000</td>\n",
       "      <td>0.087289</td>\n",
       "      <td>0.215022</td>\n",
       "    </tr>\n",
       "  </tbody>\n",
       "</table>\n",
       "</div>"
      ],
      "text/plain": [
       "    type                                               path  label  \\\n",
       "0  train  /home/ubuntu/data/wavefake_data/LJSpeech_1.1/w...      0   \n",
       "1  train  /home/ubuntu/data/wavefake_data/LJSpeech_1.1/w...      0   \n",
       "2  train  /home/ubuntu/data/wavefake_data/LJSpeech_1.1/w...      0   \n",
       "3  train  /home/ubuntu/data/wavefake_data/LJSpeech_1.1/w...      0   \n",
       "4  train  /home/ubuntu/data/wavefake_data/LJSpeech_1.1/w...      0   \n",
       "\n",
       "   multiclass_label  pause_ratio  pause_mean  pause_std  n_pauses  amp_deriv  \\\n",
       "0                 0     0.331714    0.053819   0.134518  0.546667   0.061520   \n",
       "1                 0     0.145843    0.037292   0.057166  0.373333   0.091889   \n",
       "2                 0     0.480302    0.078375   0.206590  0.513333   0.009041   \n",
       "3                 0     0.202562    0.033152   0.078172  0.566667   0.048194   \n",
       "4                 0     0.250078    0.061014   0.238740  0.380000   0.087289   \n",
       "\n",
       "   amp_mean  \n",
       "0  0.278384  \n",
       "1  0.405361  \n",
       "2  0.289811  \n",
       "3  0.462623  \n",
       "4  0.215022  "
      ]
     },
     "execution_count": 9,
     "metadata": {},
     "output_type": "execute_result"
    }
   ],
   "source": [
    "feature_df.head()"
   ]
  },
  {
   "cell_type": "markdown",
   "id": "dd386ba7",
   "metadata": {},
   "source": [
    "## Predict and Evaluate"
   ]
  },
  {
   "cell_type": "code",
   "execution_count": 16,
   "id": "25db3cfd-7487-467e-b1f9-b7fb29775a17",
   "metadata": {},
   "outputs": [],
   "source": [
    "model_manager = ModelManager('svm', feature_df, feature_cols, merge_train_dev=True)"
   ]
  },
  {
   "cell_type": "code",
   "execution_count": 17,
   "id": "9e84c7bb",
   "metadata": {},
   "outputs": [],
   "source": [
    "acc, logloss = model_manager.trainPredict(label_col='label')"
   ]
  },
  {
   "cell_type": "code",
   "execution_count": 12,
   "id": "90b262af-3306-4a74-90f9-15b76824264b",
   "metadata": {},
   "outputs": [],
   "source": [
    "#model_manager.plotRocCurve()"
   ]
  },
  {
   "cell_type": "code",
   "execution_count": 13,
   "id": "8f460429-cbad-45e5-9cd1-c8fe26dc912c",
   "metadata": {},
   "outputs": [],
   "source": [
    "#model_manager.plotProbaDistribution()"
   ]
  },
  {
   "cell_type": "code",
   "execution_count": 18,
   "id": "6a460f3b",
   "metadata": {},
   "outputs": [
    {
     "name": "stdout",
     "output_type": "stream",
     "text": [
      "0.7992351816443595 None\n"
     ]
    }
   ],
   "source": [
    "print(acc, logloss)"
   ]
  },
  {
   "cell_type": "code",
   "execution_count": null,
   "id": "2ebe242f",
   "metadata": {},
   "outputs": [],
   "source": []
  }
 ],
 "metadata": {
  "kernelspec": {
   "display_name": "nemo",
   "language": "python",
   "name": "nemo"
  },
  "language_info": {
   "codemirror_mode": {
    "name": "ipython",
    "version": 3
   },
   "file_extension": ".py",
   "mimetype": "text/x-python",
   "name": "python",
   "nbconvert_exporter": "python",
   "pygments_lexer": "ipython3",
   "version": "3.8.0"
  }
 },
 "nbformat": 4,
 "nbformat_minor": 5
}
