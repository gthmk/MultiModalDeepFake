{
 "cells": [
  {
   "cell_type": "code",
   "execution_count": 1,
   "id": "a1754ce9",
   "metadata": {},
   "outputs": [
    {
     "name": "stderr",
     "output_type": "stream",
     "text": [
      "/home/ubuntu/.local/lib/python3.8/site-packages/requests/__init__.py:89: RequestsDependencyWarning: urllib3 (1.24.3) or chardet (5.1.0) doesn't match a supported version!\n",
      "  warnings.warn(\"urllib3 ({}) or chardet ({}) doesn't match a supported \"\n",
      "2023-04-06 04:15:46.957465: I tensorflow/core/platform/cpu_feature_guard.cc:193] This TensorFlow binary is optimized with oneAPI Deep Neural Network Library (oneDNN) to use the following CPU instructions in performance-critical operations:  AVX2 AVX512F AVX512_VNNI FMA\n",
      "To enable them in other operations, rebuild TensorFlow with the appropriate compiler flags.\n",
      "2023-04-06 04:15:47.063886: I tensorflow/core/util/port.cc:104] oneDNN custom operations are on. You may see slightly different numerical results due to floating-point round-off errors from different computation orders. To turn them off, set the environment variable `TF_ENABLE_ONEDNN_OPTS=0`.\n",
      "2023-04-06 04:15:47.609783: W tensorflow/compiler/xla/stream_executor/platform/default/dso_loader.cc:64] Could not load dynamic library 'libnvinfer.so.7'; dlerror: libnvinfer.so.7: cannot open shared object file: No such file or directory\n",
      "2023-04-06 04:15:47.609833: W tensorflow/compiler/xla/stream_executor/platform/default/dso_loader.cc:64] Could not load dynamic library 'libnvinfer_plugin.so.7'; dlerror: libnvinfer_plugin.so.7: cannot open shared object file: No such file or directory\n",
      "2023-04-06 04:15:47.609838: W tensorflow/compiler/tf2tensorrt/utils/py_utils.cc:38] TF-TRT Warning: Cannot dlopen some TensorRT libraries. If you would like to use Nvidia GPU with TensorRT, please make sure the missing libraries mentioned above are installed properly.\n",
      "[NeMo W 2023-04-06 04:15:48 optimizers:55] Apex was not found. Using the lamb or fused_adam optimizer will error out.\n",
      "[NeMo W 2023-04-06 04:15:48 experimental:27] Module <class 'nemo.collections.asr.models.audio_to_audio_model.AudioToAudioModel'> is experimental, not ready for production and is not fully supported. Use at your own risk.\n",
      "[NeMo W 2023-04-06 04:15:49 experimental:27] Module <class 'nemo.collections.asr.modules.audio_modules.SpectrogramToMultichannelFeatures'> is experimental, not ready for production and is not fully supported. Use at your own risk.\n",
      "[NeMo W 2023-04-06 04:15:49 nemo_logging:349] /home/ubuntu/miniconda3/envs/nemo/lib/python3.8/site-packages/torch/jit/annotations.py:309: UserWarning: TorchScript will treat type annotations of Tensor dtype-specific subtypes as if they are normal Tensors. dtype constraints are not enforced in compilation either.\n",
      "      warnings.warn(\"TorchScript will treat type annotations of Tensor \"\n",
      "    \n",
      "[NeMo W 2023-04-06 04:15:49 experimental:27] Module <class 'nemo.collections.asr.data.audio_to_audio.BaseAudioDataset'> is experimental, not ready for production and is not fully supported. Use at your own risk.\n",
      "[NeMo W 2023-04-06 04:15:49 experimental:27] Module <class 'nemo.collections.asr.data.audio_to_audio.AudioToTargetDataset'> is experimental, not ready for production and is not fully supported. Use at your own risk.\n",
      "[NeMo W 2023-04-06 04:15:49 experimental:27] Module <class 'nemo.collections.asr.data.audio_to_audio.AudioToTargetWithReferenceDataset'> is experimental, not ready for production and is not fully supported. Use at your own risk.\n",
      "[NeMo W 2023-04-06 04:15:49 experimental:27] Module <class 'nemo.collections.asr.data.audio_to_audio.AudioToTargetWithEmbeddingDataset'> is experimental, not ready for production and is not fully supported. Use at your own risk.\n",
      "[NeMo W 2023-04-06 04:15:49 experimental:27] Module <class 'nemo.collections.asr.models.enhancement_models.EncMaskDecAudioToAudioModel'> is experimental, not ready for production and is not fully supported. Use at your own risk.\n"
     ]
    }
   ],
   "source": [
    "import sys\n",
    "sys.path.append(\"/home/ubuntu/MultiModalDeepFake\")\n",
    "import nemo.collections.asr as nemo_asr \n",
    "import pandas as pd"
   ]
  },
  {
   "cell_type": "code",
   "execution_count": 2,
   "id": "704a1092",
   "metadata": {},
   "outputs": [
    {
     "name": "stderr",
     "output_type": "stream",
     "text": [
      "################################################################################\n",
      "### WARNING, path does not exist: KALDI_ROOT=/mnt/matylda5/iveselyk/Tools/kaldi-trunk\n",
      "###          (please add 'export KALDI_ROOT=<your_path>' in your $HOME/.profile)\n",
      "###          (or run as: KALDI_ROOT=<your_path> python <your_script>.py)\n",
      "################################################################################\n",
      "\n"
     ]
    }
   ],
   "source": [
    "from packages.LJDataLoader import LJDataLoader\n",
    "from packages.AudioEmbeddingsManager import AudioEmbeddingsManager\n",
    "from packages.ModelManager import ModelManager\n",
    "from packages.CadenceModelManager import CadenceModelManager"
   ]
  },
  {
   "cell_type": "markdown",
   "id": "4af9b280",
   "metadata": {},
   "source": [
    "## Generate the Train/Dev/Test"
   ]
  },
  {
   "cell_type": "code",
   "execution_count": 3,
   "id": "be5ea4f2",
   "metadata": {},
   "outputs": [
    {
     "name": "stdout",
     "output_type": "stream",
     "text": [
      "1306\n",
      "783 1044\n"
     ]
    }
   ],
   "source": [
    "file_path = '/home/ubuntu/data/wavefake_data/LJ_metadata_16000KHz.csv'\n",
    "loader = LJDataLoader(data_path=file_path)\n",
    "loader.sample(0.1)\n",
    "loader.splitData()\n",
    "\n",
    "source_architectures = ['Full_Band_MelGan', 'HifiGan', 'MelGan', 'MelGanLarge', 'Multi_Band_MelGan', 'Parallel_WaveGan', 'Waveglow']\n",
    "new_col_name = 'RandWaveFake'\n",
    "loader.selectRandomArchitecture(target_col=new_col_name, source_cols=source_architectures)\n",
    "\n",
    "#data_df = loader.generateFinalDataFrame(real_col='Real', fake_cols=['RandWaveFake', 'ElevenLabs', 'UberDuck'])\n",
    "data_df = loader.generateFinalDataFrame(real_col='Real', fake_cols=['ElevenLabs'])a"
   ]
  },
  {
   "cell_type": "code",
   "execution_count": 4,
   "id": "6a850801-5f10-470d-bf3e-9ee6a6571016",
   "metadata": {},
   "outputs": [
    {
     "data": {
      "text/html": [
       "<div>\n",
       "<style scoped>\n",
       "    .dataframe tbody tr th:only-of-type {\n",
       "        vertical-align: middle;\n",
       "    }\n",
       "\n",
       "    .dataframe tbody tr th {\n",
       "        vertical-align: top;\n",
       "    }\n",
       "\n",
       "    .dataframe thead th {\n",
       "        text-align: right;\n",
       "    }\n",
       "</style>\n",
       "<table border=\"1\" class=\"dataframe\">\n",
       "  <thead>\n",
       "    <tr style=\"text-align: right;\">\n",
       "      <th></th>\n",
       "      <th>type</th>\n",
       "      <th>path</th>\n",
       "      <th>label</th>\n",
       "      <th>multiclass_label</th>\n",
       "    </tr>\n",
       "  </thead>\n",
       "  <tbody>\n",
       "    <tr>\n",
       "      <th>0</th>\n",
       "      <td>train</td>\n",
       "      <td>/home/ubuntu/data/wavefake_data/LJSpeech_1.1/w...</td>\n",
       "      <td>0</td>\n",
       "      <td>0</td>\n",
       "    </tr>\n",
       "    <tr>\n",
       "      <th>1</th>\n",
       "      <td>train</td>\n",
       "      <td>/home/ubuntu/data/wavefake_data/LJSpeech_1.1/w...</td>\n",
       "      <td>0</td>\n",
       "      <td>0</td>\n",
       "    </tr>\n",
       "    <tr>\n",
       "      <th>2</th>\n",
       "      <td>train</td>\n",
       "      <td>/home/ubuntu/data/wavefake_data/LJSpeech_1.1/w...</td>\n",
       "      <td>0</td>\n",
       "      <td>0</td>\n",
       "    </tr>\n",
       "    <tr>\n",
       "      <th>3</th>\n",
       "      <td>train</td>\n",
       "      <td>/home/ubuntu/data/wavefake_data/LJSpeech_1.1/w...</td>\n",
       "      <td>0</td>\n",
       "      <td>0</td>\n",
       "    </tr>\n",
       "    <tr>\n",
       "      <th>4</th>\n",
       "      <td>train</td>\n",
       "      <td>/home/ubuntu/data/wavefake_data/LJSpeech_1.1/w...</td>\n",
       "      <td>0</td>\n",
       "      <td>0</td>\n",
       "    </tr>\n",
       "  </tbody>\n",
       "</table>\n",
       "</div>"
      ],
      "text/plain": [
       "    type                                               path  label  \\\n",
       "0  train  /home/ubuntu/data/wavefake_data/LJSpeech_1.1/w...      0   \n",
       "1  train  /home/ubuntu/data/wavefake_data/LJSpeech_1.1/w...      0   \n",
       "2  train  /home/ubuntu/data/wavefake_data/LJSpeech_1.1/w...      0   \n",
       "3  train  /home/ubuntu/data/wavefake_data/LJSpeech_1.1/w...      0   \n",
       "4  train  /home/ubuntu/data/wavefake_data/LJSpeech_1.1/w...      0   \n",
       "\n",
       "   multiclass_label  \n",
       "0                 0  \n",
       "1                 0  \n",
       "2                 0  \n",
       "3                 0  \n",
       "4                 0  "
      ]
     },
     "execution_count": 4,
     "metadata": {},
     "output_type": "execute_result"
    }
   ],
   "source": [
    "data_df.head()"
   ]
  },
  {
   "cell_type": "code",
   "execution_count": 5,
   "id": "12b0d076-fb70-499a-9a3c-d57a8c52c5e9",
   "metadata": {},
   "outputs": [
    {
     "name": "stdout",
     "output_type": "stream",
     "text": [
      "# of Train instances: 1566\n",
      "# of Dev instances: 522\n",
      "# of Test instances: 524\n"
     ]
    }
   ],
   "source": [
    "train_count = data_df[data_df['type'] == 'train'].shape[0]\n",
    "dev_count = data_df[data_df['type'] == 'dev'].shape[0]\n",
    "test_count = data_df[data_df['type'] == 'test'].shape[0]\n",
    "\n",
    "print(f'# of Train instances: {train_count}')\n",
    "print(f'# of Dev instances: {dev_count}')\n",
    "print(f'# of Test instances: {test_count}')"
   ]
  },
  {
   "cell_type": "markdown",
   "id": "9452fc99",
   "metadata": {},
   "source": [
    "## Generate the Features"
   ]
  },
  {
   "cell_type": "code",
   "execution_count": 6,
   "id": "4a1328ad",
   "metadata": {},
   "outputs": [
    {
     "name": "stdout",
     "output_type": "stream",
     "text": [
      "[NeMo I 2023-04-06 04:15:52 cloud:56] Found existing object /home/ubuntu/.cache/torch/NeMo/NeMo_1.15.0/titanet-l/492c0ab8416139171dc18c21879a9e45/titanet-l.nemo.\n",
      "[NeMo I 2023-04-06 04:15:52 cloud:62] Re-using file from: /home/ubuntu/.cache/torch/NeMo/NeMo_1.15.0/titanet-l/492c0ab8416139171dc18c21879a9e45/titanet-l.nemo\n",
      "[NeMo I 2023-04-06 04:15:52 common:913] Instantiating model from pre-trained checkpoint\n"
     ]
    },
    {
     "name": "stderr",
     "output_type": "stream",
     "text": [
      "[NeMo W 2023-04-06 04:15:52 modelPT:156] If you intend to do training or fine-tuning, please call the ModelPT.setup_training_data() method and provide a valid configuration file to setup the train data loader.\n",
      "    Train config : \n",
      "    manifest_filepath: /manifests/combined_fisher_swbd_voxceleb12_librispeech/train.json\n",
      "    sample_rate: 16000\n",
      "    labels: null\n",
      "    batch_size: 64\n",
      "    shuffle: true\n",
      "    time_length: 3\n",
      "    is_tarred: false\n",
      "    tarred_audio_filepaths: null\n",
      "    tarred_shard_strategy: scatter\n",
      "    augmentor:\n",
      "      noise:\n",
      "        manifest_path: /manifests/noise/rir_noise_manifest.json\n",
      "        prob: 0.5\n",
      "        min_snr_db: 0\n",
      "        max_snr_db: 15\n",
      "      speed:\n",
      "        prob: 0.5\n",
      "        sr: 16000\n",
      "        resample_type: kaiser_fast\n",
      "        min_speed_rate: 0.95\n",
      "        max_speed_rate: 1.05\n",
      "    num_workers: 15\n",
      "    pin_memory: true\n",
      "    \n",
      "[NeMo W 2023-04-06 04:15:52 modelPT:163] If you intend to do validation, please call the ModelPT.setup_validation_data() or ModelPT.setup_multiple_validation_data() method and provide a valid configuration file to setup the validation data loader(s). \n",
      "    Validation config : \n",
      "    manifest_filepath: /manifests/combined_fisher_swbd_voxceleb12_librispeech/dev.json\n",
      "    sample_rate: 16000\n",
      "    labels: null\n",
      "    batch_size: 128\n",
      "    shuffle: false\n",
      "    time_length: 3\n",
      "    num_workers: 15\n",
      "    pin_memory: true\n",
      "    \n"
     ]
    },
    {
     "name": "stdout",
     "output_type": "stream",
     "text": [
      "[NeMo I 2023-04-06 04:15:52 label_models:126] Setting angular: true/false in decoder is deprecated and will be removed in 1.13 version, use specific loss with _target_\n",
      "[NeMo I 2023-04-06 04:15:52 features:267] PADDING: 16\n",
      "[NeMo I 2023-04-06 04:15:53 save_restore_connector:243] Model EncDecSpeakerLabelModel was successfully restored from /home/ubuntu/.cache/torch/NeMo/NeMo_1.15.0/titanet-l/492c0ab8416139171dc18c21879a9e45/titanet-l.nemo.\n"
     ]
    },
    {
     "name": "stderr",
     "output_type": "stream",
     "text": [
      "[NeMo W 2023-04-06 04:15:53 nemo_logging:349] /home/ubuntu/miniconda3/envs/nemo/lib/python3.8/site-packages/nemo/collections/asr/models/label_models.py:437: UserWarning: Creating a tensor from a list of numpy.ndarrays is extremely slow. Please consider converting the list to a single numpy.ndarray with numpy.array() before converting to a tensor. (Triggered internally at /opt/conda/conda-bld/pytorch_1670525491394/work/torch/csrc/utils/tensor_new.cpp:230.)\n",
      "      torch.tensor([audio], device=device),\n",
      "    \n"
     ]
    }
   ],
   "source": [
    "speaker_model = nemo_asr.models.EncDecSpeakerLabelModel.from_pretrained(model_name='titanet_large')\n",
    "embedding_manager = AudioEmbeddingsManager(model=speaker_model, data=data_df)\n",
    "feature_df, feature_cols = embedding_manager.generateFeatureDf()"
   ]
  },
  {
   "cell_type": "code",
   "execution_count": 7,
   "id": "25d293bc",
   "metadata": {},
   "outputs": [],
   "source": [
    "#cadence_manager = CadenceModelManager(data_df)\n",
    "#feature_df, feature_cols =  cadence_manager.run_cadence_feature_extraction_pipeline()"
   ]
  },
  {
   "cell_type": "code",
   "execution_count": null,
   "id": "505faa8d-7bf5-4f07-a914-947096442603",
   "metadata": {},
   "outputs": [],
   "source": []
  },
  {
   "cell_type": "code",
   "execution_count": 8,
   "id": "d36f735f-ce65-417d-8334-9eb2fdde5ade",
   "metadata": {},
   "outputs": [
    {
     "data": {
      "text/html": [
       "<div>\n",
       "<style scoped>\n",
       "    .dataframe tbody tr th:only-of-type {\n",
       "        vertical-align: middle;\n",
       "    }\n",
       "\n",
       "    .dataframe tbody tr th {\n",
       "        vertical-align: top;\n",
       "    }\n",
       "\n",
       "    .dataframe thead th {\n",
       "        text-align: right;\n",
       "    }\n",
       "</style>\n",
       "<table border=\"1\" class=\"dataframe\">\n",
       "  <thead>\n",
       "    <tr style=\"text-align: right;\">\n",
       "      <th></th>\n",
       "      <th>type</th>\n",
       "      <th>path</th>\n",
       "      <th>label</th>\n",
       "      <th>multiclass_label</th>\n",
       "      <th>0</th>\n",
       "      <th>1</th>\n",
       "      <th>2</th>\n",
       "      <th>3</th>\n",
       "      <th>4</th>\n",
       "      <th>5</th>\n",
       "      <th>...</th>\n",
       "      <th>182</th>\n",
       "      <th>183</th>\n",
       "      <th>184</th>\n",
       "      <th>185</th>\n",
       "      <th>186</th>\n",
       "      <th>187</th>\n",
       "      <th>188</th>\n",
       "      <th>189</th>\n",
       "      <th>190</th>\n",
       "      <th>191</th>\n",
       "    </tr>\n",
       "  </thead>\n",
       "  <tbody>\n",
       "    <tr>\n",
       "      <th>0</th>\n",
       "      <td>train</td>\n",
       "      <td>/home/ubuntu/data/wavefake_data/LJSpeech_1.1/w...</td>\n",
       "      <td>0</td>\n",
       "      <td>0</td>\n",
       "      <td>0.016714</td>\n",
       "      <td>0.005400</td>\n",
       "      <td>-0.009738</td>\n",
       "      <td>0.021128</td>\n",
       "      <td>-0.014102</td>\n",
       "      <td>0.031398</td>\n",
       "      <td>...</td>\n",
       "      <td>0.008778</td>\n",
       "      <td>0.000308</td>\n",
       "      <td>-1.658708e-02</td>\n",
       "      <td>-0.013447</td>\n",
       "      <td>0.006099</td>\n",
       "      <td>0.032921</td>\n",
       "      <td>-0.017553</td>\n",
       "      <td>-0.003184</td>\n",
       "      <td>0.010100</td>\n",
       "      <td>-0.002100</td>\n",
       "    </tr>\n",
       "    <tr>\n",
       "      <th>1</th>\n",
       "      <td>train</td>\n",
       "      <td>/home/ubuntu/data/wavefake_data/LJSpeech_1.1/w...</td>\n",
       "      <td>0</td>\n",
       "      <td>0</td>\n",
       "      <td>0.010898</td>\n",
       "      <td>0.006426</td>\n",
       "      <td>0.012742</td>\n",
       "      <td>0.016855</td>\n",
       "      <td>-0.018741</td>\n",
       "      <td>-0.001058</td>\n",
       "      <td>...</td>\n",
       "      <td>-0.012862</td>\n",
       "      <td>0.009545</td>\n",
       "      <td>-7.136932e-07</td>\n",
       "      <td>-0.011805</td>\n",
       "      <td>0.021345</td>\n",
       "      <td>0.012488</td>\n",
       "      <td>0.013538</td>\n",
       "      <td>0.015600</td>\n",
       "      <td>0.008326</td>\n",
       "      <td>0.003499</td>\n",
       "    </tr>\n",
       "    <tr>\n",
       "      <th>2</th>\n",
       "      <td>train</td>\n",
       "      <td>/home/ubuntu/data/wavefake_data/LJSpeech_1.1/w...</td>\n",
       "      <td>0</td>\n",
       "      <td>0</td>\n",
       "      <td>-0.013994</td>\n",
       "      <td>-0.003443</td>\n",
       "      <td>-0.007238</td>\n",
       "      <td>0.008705</td>\n",
       "      <td>-0.013361</td>\n",
       "      <td>0.019492</td>\n",
       "      <td>...</td>\n",
       "      <td>-0.001584</td>\n",
       "      <td>0.002109</td>\n",
       "      <td>-9.996667e-03</td>\n",
       "      <td>-0.025861</td>\n",
       "      <td>0.011085</td>\n",
       "      <td>0.009016</td>\n",
       "      <td>0.015038</td>\n",
       "      <td>0.004588</td>\n",
       "      <td>0.005513</td>\n",
       "      <td>-0.014584</td>\n",
       "    </tr>\n",
       "    <tr>\n",
       "      <th>3</th>\n",
       "      <td>train</td>\n",
       "      <td>/home/ubuntu/data/wavefake_data/LJSpeech_1.1/w...</td>\n",
       "      <td>0</td>\n",
       "      <td>0</td>\n",
       "      <td>-0.008663</td>\n",
       "      <td>-0.002662</td>\n",
       "      <td>-0.004435</td>\n",
       "      <td>0.030348</td>\n",
       "      <td>-0.015254</td>\n",
       "      <td>0.022459</td>\n",
       "      <td>...</td>\n",
       "      <td>-0.017928</td>\n",
       "      <td>0.003475</td>\n",
       "      <td>-5.310708e-03</td>\n",
       "      <td>-0.008899</td>\n",
       "      <td>-0.001103</td>\n",
       "      <td>0.022448</td>\n",
       "      <td>0.010539</td>\n",
       "      <td>0.017438</td>\n",
       "      <td>0.007632</td>\n",
       "      <td>0.004290</td>\n",
       "    </tr>\n",
       "    <tr>\n",
       "      <th>4</th>\n",
       "      <td>train</td>\n",
       "      <td>/home/ubuntu/data/wavefake_data/LJSpeech_1.1/w...</td>\n",
       "      <td>0</td>\n",
       "      <td>0</td>\n",
       "      <td>0.003007</td>\n",
       "      <td>0.002043</td>\n",
       "      <td>-0.002273</td>\n",
       "      <td>0.035606</td>\n",
       "      <td>-0.019608</td>\n",
       "      <td>0.022570</td>\n",
       "      <td>...</td>\n",
       "      <td>-0.001105</td>\n",
       "      <td>-0.018791</td>\n",
       "      <td>6.015320e-03</td>\n",
       "      <td>-0.020697</td>\n",
       "      <td>0.011641</td>\n",
       "      <td>0.017223</td>\n",
       "      <td>0.002605</td>\n",
       "      <td>0.003883</td>\n",
       "      <td>0.008884</td>\n",
       "      <td>-0.005917</td>\n",
       "    </tr>\n",
       "  </tbody>\n",
       "</table>\n",
       "<p>5 rows × 196 columns</p>\n",
       "</div>"
      ],
      "text/plain": [
       "    type                                               path  label  \\\n",
       "0  train  /home/ubuntu/data/wavefake_data/LJSpeech_1.1/w...      0   \n",
       "1  train  /home/ubuntu/data/wavefake_data/LJSpeech_1.1/w...      0   \n",
       "2  train  /home/ubuntu/data/wavefake_data/LJSpeech_1.1/w...      0   \n",
       "3  train  /home/ubuntu/data/wavefake_data/LJSpeech_1.1/w...      0   \n",
       "4  train  /home/ubuntu/data/wavefake_data/LJSpeech_1.1/w...      0   \n",
       "\n",
       "   multiclass_label         0         1         2         3         4  \\\n",
       "0                 0  0.016714  0.005400 -0.009738  0.021128 -0.014102   \n",
       "1                 0  0.010898  0.006426  0.012742  0.016855 -0.018741   \n",
       "2                 0 -0.013994 -0.003443 -0.007238  0.008705 -0.013361   \n",
       "3                 0 -0.008663 -0.002662 -0.004435  0.030348 -0.015254   \n",
       "4                 0  0.003007  0.002043 -0.002273  0.035606 -0.019608   \n",
       "\n",
       "          5  ...       182       183           184       185       186  \\\n",
       "0  0.031398  ...  0.008778  0.000308 -1.658708e-02 -0.013447  0.006099   \n",
       "1 -0.001058  ... -0.012862  0.009545 -7.136932e-07 -0.011805  0.021345   \n",
       "2  0.019492  ... -0.001584  0.002109 -9.996667e-03 -0.025861  0.011085   \n",
       "3  0.022459  ... -0.017928  0.003475 -5.310708e-03 -0.008899 -0.001103   \n",
       "4  0.022570  ... -0.001105 -0.018791  6.015320e-03 -0.020697  0.011641   \n",
       "\n",
       "        187       188       189       190       191  \n",
       "0  0.032921 -0.017553 -0.003184  0.010100 -0.002100  \n",
       "1  0.012488  0.013538  0.015600  0.008326  0.003499  \n",
       "2  0.009016  0.015038  0.004588  0.005513 -0.014584  \n",
       "3  0.022448  0.010539  0.017438  0.007632  0.004290  \n",
       "4  0.017223  0.002605  0.003883  0.008884 -0.005917  \n",
       "\n",
       "[5 rows x 196 columns]"
      ]
     },
     "execution_count": 8,
     "metadata": {},
     "output_type": "execute_result"
    }
   ],
   "source": [
    "feature_df.head()"
   ]
  },
  {
   "cell_type": "markdown",
   "id": "dd386ba7",
   "metadata": {},
   "source": [
    "## Predict and Evaluate"
   ]
  },
  {
   "cell_type": "code",
   "execution_count": 9,
   "id": "25db3cfd-7487-467e-b1f9-b7fb29775a17",
   "metadata": {},
   "outputs": [],
   "source": [
    "model_manager = ModelManager('svm', feature_df, feature_cols, merge_train_dev=True)"
   ]
  },
  {
   "cell_type": "code",
   "execution_count": 10,
   "id": "9e84c7bb",
   "metadata": {},
   "outputs": [],
   "source": [
    "acc, logloss = model_manager.trainPredict(label_col='label')"
   ]
  },
  {
   "cell_type": "code",
   "execution_count": 11,
   "id": "90b262af-3306-4a74-90f9-15b76824264b",
   "metadata": {},
   "outputs": [],
   "source": [
    "#model_manager.plotRocCurve()"
   ]
  },
  {
   "cell_type": "code",
   "execution_count": 12,
   "id": "8f460429-cbad-45e5-9cd1-c8fe26dc912c",
   "metadata": {},
   "outputs": [],
   "source": [
    "#model_manager.plotProbaDistribution()"
   ]
  },
  {
   "cell_type": "code",
   "execution_count": 13,
   "id": "6a460f3b",
   "metadata": {},
   "outputs": [
    {
     "name": "stdout",
     "output_type": "stream",
     "text": [
      "1.0 None\n"
     ]
    }
   ],
   "source": [
    "print(acc, logloss)"
   ]
  },
  {
   "cell_type": "code",
   "execution_count": null,
   "id": "2ebe242f",
   "metadata": {},
   "outputs": [],
   "source": []
  }
 ],
 "metadata": {
  "kernelspec": {
   "display_name": "nemo",
   "language": "python",
   "name": "nemo"
  },
  "language_info": {
   "codemirror_mode": {
    "name": "ipython",
    "version": 3
   },
   "file_extension": ".py",
   "mimetype": "text/x-python",
   "name": "python",
   "nbconvert_exporter": "python",
   "pygments_lexer": "ipython3",
   "version": "3.8.0"
  }
 },
 "nbformat": 4,
 "nbformat_minor": 5
}
