{
 "cells": [
  {
   "cell_type": "code",
   "execution_count": 1,
   "id": "a1754ce9",
   "metadata": {},
   "outputs": [
    {
     "name": "stderr",
     "output_type": "stream",
     "text": [
      "/home/ubuntu/.local/lib/python3.8/site-packages/requests/__init__.py:89: RequestsDependencyWarning: urllib3 (1.24.3) or chardet (5.1.0) doesn't match a supported version!\n",
      "  warnings.warn(\"urllib3 ({}) or chardet ({}) doesn't match a supported \"\n",
      "2023-04-05 05:05:37.860259: I tensorflow/core/platform/cpu_feature_guard.cc:193] This TensorFlow binary is optimized with oneAPI Deep Neural Network Library (oneDNN) to use the following CPU instructions in performance-critical operations:  AVX2 AVX512F AVX512_VNNI FMA\n",
      "To enable them in other operations, rebuild TensorFlow with the appropriate compiler flags.\n",
      "2023-04-05 05:05:37.963957: I tensorflow/core/util/port.cc:104] oneDNN custom operations are on. You may see slightly different numerical results due to floating-point round-off errors from different computation orders. To turn them off, set the environment variable `TF_ENABLE_ONEDNN_OPTS=0`.\n",
      "2023-04-05 05:05:38.495498: W tensorflow/compiler/xla/stream_executor/platform/default/dso_loader.cc:64] Could not load dynamic library 'libnvinfer.so.7'; dlerror: libnvinfer.so.7: cannot open shared object file: No such file or directory\n",
      "2023-04-05 05:05:38.495545: W tensorflow/compiler/xla/stream_executor/platform/default/dso_loader.cc:64] Could not load dynamic library 'libnvinfer_plugin.so.7'; dlerror: libnvinfer_plugin.so.7: cannot open shared object file: No such file or directory\n",
      "2023-04-05 05:05:38.495550: W tensorflow/compiler/tf2tensorrt/utils/py_utils.cc:38] TF-TRT Warning: Cannot dlopen some TensorRT libraries. If you would like to use Nvidia GPU with TensorRT, please make sure the missing libraries mentioned above are installed properly.\n",
      "[NeMo W 2023-04-05 05:05:39 optimizers:55] Apex was not found. Using the lamb or fused_adam optimizer will error out.\n",
      "[NeMo W 2023-04-05 05:05:39 experimental:27] Module <class 'nemo.collections.asr.models.audio_to_audio_model.AudioToAudioModel'> is experimental, not ready for production and is not fully supported. Use at your own risk.\n",
      "[NeMo W 2023-04-05 05:05:40 experimental:27] Module <class 'nemo.collections.asr.modules.audio_modules.SpectrogramToMultichannelFeatures'> is experimental, not ready for production and is not fully supported. Use at your own risk.\n",
      "[NeMo W 2023-04-05 05:05:40 nemo_logging:349] /home/ubuntu/miniconda3/envs/nemo/lib/python3.8/site-packages/torch/jit/annotations.py:309: UserWarning: TorchScript will treat type annotations of Tensor dtype-specific subtypes as if they are normal Tensors. dtype constraints are not enforced in compilation either.\n",
      "      warnings.warn(\"TorchScript will treat type annotations of Tensor \"\n",
      "    \n",
      "[NeMo W 2023-04-05 05:05:40 experimental:27] Module <class 'nemo.collections.asr.data.audio_to_audio.BaseAudioDataset'> is experimental, not ready for production and is not fully supported. Use at your own risk.\n",
      "[NeMo W 2023-04-05 05:05:40 experimental:27] Module <class 'nemo.collections.asr.data.audio_to_audio.AudioToTargetDataset'> is experimental, not ready for production and is not fully supported. Use at your own risk.\n",
      "[NeMo W 2023-04-05 05:05:40 experimental:27] Module <class 'nemo.collections.asr.data.audio_to_audio.AudioToTargetWithReferenceDataset'> is experimental, not ready for production and is not fully supported. Use at your own risk.\n",
      "[NeMo W 2023-04-05 05:05:40 experimental:27] Module <class 'nemo.collections.asr.data.audio_to_audio.AudioToTargetWithEmbeddingDataset'> is experimental, not ready for production and is not fully supported. Use at your own risk.\n",
      "[NeMo W 2023-04-05 05:05:40 experimental:27] Module <class 'nemo.collections.asr.models.enhancement_models.EncMaskDecAudioToAudioModel'> is experimental, not ready for production and is not fully supported. Use at your own risk.\n"
     ]
    }
   ],
   "source": [
    "import sys\n",
    "sys.path.append(\"/home/ubuntu/MultiModalDeepFake\")\n",
    "import nemo.collections.asr as nemo_asr \n",
    "import pandas as pd"
   ]
  },
  {
   "cell_type": "code",
   "execution_count": 2,
   "id": "704a1092",
   "metadata": {},
   "outputs": [],
   "source": [
    "from packages.LJDataLoader import LJDataLoader\n",
    "from packages.AudioEmbeddingsManager import AudioEmbeddingsManager\n",
    "from packages.ModelManager import ModelManager"
   ]
  },
  {
   "cell_type": "markdown",
   "id": "4af9b280",
   "metadata": {},
   "source": [
    "## Generate the Train/Dev/Test"
   ]
  },
  {
   "cell_type": "code",
   "execution_count": 3,
   "id": "be5ea4f2",
   "metadata": {},
   "outputs": [],
   "source": [
    "file_path = '/home/ubuntu/data/wavefake_data/LJ_metadata_16000KHz.csv'\n",
    "loader = LJDataLoader(data_path=file_path)\n",
    "loader.sample(0.1)\n",
    "loader.splitData()\n",
    "\n",
    "source_architectures = ['Full_Band_MelGan', 'HifiGan', 'MelGan', 'MelGanLarge', 'Multi_Band_MelGan', 'Parallel_WaveGan', 'Waveglow']\n",
    "new_col_name = 'RandWaveFake'\n",
    "loader.selectRandomArchitecture(target_col=new_col_name, source_cols=source_architectures)\n",
    "\n",
    "#data_df = loader.generateFinalDataFrame(real_col='Real', fake_cols=['RandWaveFake', 'ElevenLabs', 'UberDuck'])\n",
    "data_df = loader.generateFinalDataFrame(real_col='Real', fake_cols=['ElevenLabs', 'UberDuck'])"
   ]
  },
  {
   "cell_type": "markdown",
   "id": "9452fc99",
   "metadata": {},
   "source": [
    "## Generate the Features"
   ]
  },
  {
   "cell_type": "code",
   "execution_count": 4,
   "id": "4a1328ad",
   "metadata": {},
   "outputs": [
    {
     "name": "stdout",
     "output_type": "stream",
     "text": [
      "[NeMo I 2023-04-05 05:05:41 cloud:56] Found existing object /home/ubuntu/.cache/torch/NeMo/NeMo_1.15.0/titanet-l/492c0ab8416139171dc18c21879a9e45/titanet-l.nemo.\n",
      "[NeMo I 2023-04-05 05:05:41 cloud:62] Re-using file from: /home/ubuntu/.cache/torch/NeMo/NeMo_1.15.0/titanet-l/492c0ab8416139171dc18c21879a9e45/titanet-l.nemo\n",
      "[NeMo I 2023-04-05 05:05:41 common:913] Instantiating model from pre-trained checkpoint\n"
     ]
    },
    {
     "name": "stderr",
     "output_type": "stream",
     "text": [
      "[NeMo W 2023-04-05 05:05:41 modelPT:156] If you intend to do training or fine-tuning, please call the ModelPT.setup_training_data() method and provide a valid configuration file to setup the train data loader.\n",
      "    Train config : \n",
      "    manifest_filepath: /manifests/combined_fisher_swbd_voxceleb12_librispeech/train.json\n",
      "    sample_rate: 16000\n",
      "    labels: null\n",
      "    batch_size: 64\n",
      "    shuffle: true\n",
      "    time_length: 3\n",
      "    is_tarred: false\n",
      "    tarred_audio_filepaths: null\n",
      "    tarred_shard_strategy: scatter\n",
      "    augmentor:\n",
      "      noise:\n",
      "        manifest_path: /manifests/noise/rir_noise_manifest.json\n",
      "        prob: 0.5\n",
      "        min_snr_db: 0\n",
      "        max_snr_db: 15\n",
      "      speed:\n",
      "        prob: 0.5\n",
      "        sr: 16000\n",
      "        resample_type: kaiser_fast\n",
      "        min_speed_rate: 0.95\n",
      "        max_speed_rate: 1.05\n",
      "    num_workers: 15\n",
      "    pin_memory: true\n",
      "    \n",
      "[NeMo W 2023-04-05 05:05:41 modelPT:163] If you intend to do validation, please call the ModelPT.setup_validation_data() or ModelPT.setup_multiple_validation_data() method and provide a valid configuration file to setup the validation data loader(s). \n",
      "    Validation config : \n",
      "    manifest_filepath: /manifests/combined_fisher_swbd_voxceleb12_librispeech/dev.json\n",
      "    sample_rate: 16000\n",
      "    labels: null\n",
      "    batch_size: 128\n",
      "    shuffle: false\n",
      "    time_length: 3\n",
      "    num_workers: 15\n",
      "    pin_memory: true\n",
      "    \n"
     ]
    },
    {
     "name": "stdout",
     "output_type": "stream",
     "text": [
      "[NeMo I 2023-04-05 05:05:41 label_models:126] Setting angular: true/false in decoder is deprecated and will be removed in 1.13 version, use specific loss with _target_\n",
      "[NeMo I 2023-04-05 05:05:41 features:267] PADDING: 16\n",
      "[NeMo I 2023-04-05 05:05:42 save_restore_connector:243] Model EncDecSpeakerLabelModel was successfully restored from /home/ubuntu/.cache/torch/NeMo/NeMo_1.15.0/titanet-l/492c0ab8416139171dc18c21879a9e45/titanet-l.nemo.\n"
     ]
    }
   ],
   "source": [
    "speaker_model = nemo_asr.models.EncDecSpeakerLabelModel.from_pretrained(model_name='titanet_large')"
   ]
  },
  {
   "cell_type": "code",
   "execution_count": 5,
   "id": "057d9817",
   "metadata": {},
   "outputs": [],
   "source": [
    "embedding_manager = AudioEmbeddingsManager(model=speaker_model, data=data_df)"
   ]
  },
  {
   "cell_type": "code",
   "execution_count": 6,
   "id": "25d293bc",
   "metadata": {},
   "outputs": [
    {
     "name": "stderr",
     "output_type": "stream",
     "text": [
      "[NeMo W 2023-04-05 05:05:43 nemo_logging:349] /home/ubuntu/miniconda3/envs/nemo/lib/python3.8/site-packages/nemo/collections/asr/models/label_models.py:437: UserWarning: Creating a tensor from a list of numpy.ndarrays is extremely slow. Please consider converting the list to a single numpy.ndarray with numpy.array() before converting to a tensor. (Triggered internally at /opt/conda/conda-bld/pytorch_1670525491394/work/torch/csrc/utils/tensor_new.cpp:230.)\n",
      "      torch.tensor([audio], device=device),\n",
      "    \n"
     ]
    }
   ],
   "source": [
    "feature_df, feature_cols = embedding_manager.generateFeatureDf()"
   ]
  },
  {
   "cell_type": "code",
   "execution_count": 7,
   "id": "d36f735f-ce65-417d-8334-9eb2fdde5ade",
   "metadata": {},
   "outputs": [
    {
     "data": {
      "text/html": [
       "<div>\n",
       "<style scoped>\n",
       "    .dataframe tbody tr th:only-of-type {\n",
       "        vertical-align: middle;\n",
       "    }\n",
       "\n",
       "    .dataframe tbody tr th {\n",
       "        vertical-align: top;\n",
       "    }\n",
       "\n",
       "    .dataframe thead th {\n",
       "        text-align: right;\n",
       "    }\n",
       "</style>\n",
       "<table border=\"1\" class=\"dataframe\">\n",
       "  <thead>\n",
       "    <tr style=\"text-align: right;\">\n",
       "      <th></th>\n",
       "      <th>type</th>\n",
       "      <th>path</th>\n",
       "      <th>label</th>\n",
       "      <th>multiclass_label</th>\n",
       "      <th>0</th>\n",
       "      <th>1</th>\n",
       "      <th>2</th>\n",
       "      <th>3</th>\n",
       "      <th>4</th>\n",
       "      <th>5</th>\n",
       "      <th>...</th>\n",
       "      <th>182</th>\n",
       "      <th>183</th>\n",
       "      <th>184</th>\n",
       "      <th>185</th>\n",
       "      <th>186</th>\n",
       "      <th>187</th>\n",
       "      <th>188</th>\n",
       "      <th>189</th>\n",
       "      <th>190</th>\n",
       "      <th>191</th>\n",
       "    </tr>\n",
       "  </thead>\n",
       "  <tbody>\n",
       "    <tr>\n",
       "      <th>0</th>\n",
       "      <td>train</td>\n",
       "      <td>/home/ubuntu/data/wavefake_data/LJSpeech_1.1/w...</td>\n",
       "      <td>0</td>\n",
       "      <td>0</td>\n",
       "      <td>-0.004833</td>\n",
       "      <td>0.011228</td>\n",
       "      <td>-0.007260</td>\n",
       "      <td>-0.003250</td>\n",
       "      <td>-0.023042</td>\n",
       "      <td>0.024393</td>\n",
       "      <td>...</td>\n",
       "      <td>0.006901</td>\n",
       "      <td>0.004162</td>\n",
       "      <td>-0.012884</td>\n",
       "      <td>-0.014927</td>\n",
       "      <td>0.021247</td>\n",
       "      <td>0.012206</td>\n",
       "      <td>0.006459</td>\n",
       "      <td>0.011414</td>\n",
       "      <td>0.007401</td>\n",
       "      <td>0.003593</td>\n",
       "    </tr>\n",
       "    <tr>\n",
       "      <th>1</th>\n",
       "      <td>train</td>\n",
       "      <td>/home/ubuntu/data/wavefake_data/LJSpeech_1.1/w...</td>\n",
       "      <td>0</td>\n",
       "      <td>0</td>\n",
       "      <td>-0.013503</td>\n",
       "      <td>-0.002885</td>\n",
       "      <td>0.003451</td>\n",
       "      <td>0.018167</td>\n",
       "      <td>-0.022606</td>\n",
       "      <td>0.020847</td>\n",
       "      <td>...</td>\n",
       "      <td>-0.018954</td>\n",
       "      <td>0.004550</td>\n",
       "      <td>0.010938</td>\n",
       "      <td>-0.013638</td>\n",
       "      <td>0.005500</td>\n",
       "      <td>0.003162</td>\n",
       "      <td>-0.009371</td>\n",
       "      <td>0.004279</td>\n",
       "      <td>0.019605</td>\n",
       "      <td>0.002401</td>\n",
       "    </tr>\n",
       "    <tr>\n",
       "      <th>2</th>\n",
       "      <td>train</td>\n",
       "      <td>/home/ubuntu/data/wavefake_data/LJSpeech_1.1/w...</td>\n",
       "      <td>0</td>\n",
       "      <td>0</td>\n",
       "      <td>-0.006981</td>\n",
       "      <td>0.004201</td>\n",
       "      <td>-0.015476</td>\n",
       "      <td>0.031246</td>\n",
       "      <td>-0.012042</td>\n",
       "      <td>0.005981</td>\n",
       "      <td>...</td>\n",
       "      <td>-0.017657</td>\n",
       "      <td>0.004625</td>\n",
       "      <td>-0.010638</td>\n",
       "      <td>-0.016903</td>\n",
       "      <td>0.013171</td>\n",
       "      <td>0.017300</td>\n",
       "      <td>0.012562</td>\n",
       "      <td>0.000862</td>\n",
       "      <td>0.004463</td>\n",
       "      <td>-0.010272</td>\n",
       "    </tr>\n",
       "    <tr>\n",
       "      <th>3</th>\n",
       "      <td>train</td>\n",
       "      <td>/home/ubuntu/data/wavefake_data/LJSpeech_1.1/w...</td>\n",
       "      <td>0</td>\n",
       "      <td>0</td>\n",
       "      <td>0.008485</td>\n",
       "      <td>-0.009508</td>\n",
       "      <td>0.005324</td>\n",
       "      <td>0.023528</td>\n",
       "      <td>-0.014678</td>\n",
       "      <td>0.025951</td>\n",
       "      <td>...</td>\n",
       "      <td>-0.040629</td>\n",
       "      <td>-0.014372</td>\n",
       "      <td>-0.014995</td>\n",
       "      <td>-0.003999</td>\n",
       "      <td>-0.001448</td>\n",
       "      <td>0.032389</td>\n",
       "      <td>0.006757</td>\n",
       "      <td>-0.001001</td>\n",
       "      <td>0.010690</td>\n",
       "      <td>0.017595</td>\n",
       "    </tr>\n",
       "    <tr>\n",
       "      <th>4</th>\n",
       "      <td>train</td>\n",
       "      <td>/home/ubuntu/data/wavefake_data/LJSpeech_1.1/w...</td>\n",
       "      <td>0</td>\n",
       "      <td>0</td>\n",
       "      <td>0.006824</td>\n",
       "      <td>-0.004262</td>\n",
       "      <td>-0.000653</td>\n",
       "      <td>0.018907</td>\n",
       "      <td>-0.003375</td>\n",
       "      <td>0.028410</td>\n",
       "      <td>...</td>\n",
       "      <td>-0.017940</td>\n",
       "      <td>-0.008076</td>\n",
       "      <td>-0.000130</td>\n",
       "      <td>-0.009583</td>\n",
       "      <td>-0.001130</td>\n",
       "      <td>0.012930</td>\n",
       "      <td>0.007421</td>\n",
       "      <td>0.009749</td>\n",
       "      <td>0.014425</td>\n",
       "      <td>-0.002132</td>\n",
       "    </tr>\n",
       "  </tbody>\n",
       "</table>\n",
       "<p>5 rows × 196 columns</p>\n",
       "</div>"
      ],
      "text/plain": [
       "    type                                               path  label  \\\n",
       "0  train  /home/ubuntu/data/wavefake_data/LJSpeech_1.1/w...      0   \n",
       "1  train  /home/ubuntu/data/wavefake_data/LJSpeech_1.1/w...      0   \n",
       "2  train  /home/ubuntu/data/wavefake_data/LJSpeech_1.1/w...      0   \n",
       "3  train  /home/ubuntu/data/wavefake_data/LJSpeech_1.1/w...      0   \n",
       "4  train  /home/ubuntu/data/wavefake_data/LJSpeech_1.1/w...      0   \n",
       "\n",
       "   multiclass_label         0         1         2         3         4  \\\n",
       "0                 0 -0.004833  0.011228 -0.007260 -0.003250 -0.023042   \n",
       "1                 0 -0.013503 -0.002885  0.003451  0.018167 -0.022606   \n",
       "2                 0 -0.006981  0.004201 -0.015476  0.031246 -0.012042   \n",
       "3                 0  0.008485 -0.009508  0.005324  0.023528 -0.014678   \n",
       "4                 0  0.006824 -0.004262 -0.000653  0.018907 -0.003375   \n",
       "\n",
       "          5  ...       182       183       184       185       186       187  \\\n",
       "0  0.024393  ...  0.006901  0.004162 -0.012884 -0.014927  0.021247  0.012206   \n",
       "1  0.020847  ... -0.018954  0.004550  0.010938 -0.013638  0.005500  0.003162   \n",
       "2  0.005981  ... -0.017657  0.004625 -0.010638 -0.016903  0.013171  0.017300   \n",
       "3  0.025951  ... -0.040629 -0.014372 -0.014995 -0.003999 -0.001448  0.032389   \n",
       "4  0.028410  ... -0.017940 -0.008076 -0.000130 -0.009583 -0.001130  0.012930   \n",
       "\n",
       "        188       189       190       191  \n",
       "0  0.006459  0.011414  0.007401  0.003593  \n",
       "1 -0.009371  0.004279  0.019605  0.002401  \n",
       "2  0.012562  0.000862  0.004463 -0.010272  \n",
       "3  0.006757 -0.001001  0.010690  0.017595  \n",
       "4  0.007421  0.009749  0.014425 -0.002132  \n",
       "\n",
       "[5 rows x 196 columns]"
      ]
     },
     "execution_count": 7,
     "metadata": {},
     "output_type": "execute_result"
    }
   ],
   "source": [
    "feature_df.head()"
   ]
  },
  {
   "cell_type": "markdown",
   "id": "dd386ba7",
   "metadata": {},
   "source": [
    "## Predict and Evaluate"
   ]
  },
  {
   "cell_type": "code",
   "execution_count": 8,
   "id": "25db3cfd-7487-467e-b1f9-b7fb29775a17",
   "metadata": {},
   "outputs": [],
   "source": [
    "model_manager = ModelManager('logreg', feature_df, feature_cols, merge_train_dev=True)"
   ]
  },
  {
   "cell_type": "code",
   "execution_count": 9,
   "id": "9e84c7bb",
   "metadata": {},
   "outputs": [],
   "source": [
    "acc, logloss = model_manager.trainPredict(label_col='multiclass_label')"
   ]
  },
  {
   "cell_type": "code",
   "execution_count": 10,
   "id": "90b262af-3306-4a74-90f9-15b76824264b",
   "metadata": {},
   "outputs": [],
   "source": [
    "#model_manager.plotRocCurve()"
   ]
  },
  {
   "cell_type": "code",
   "execution_count": 11,
   "id": "8f460429-cbad-45e5-9cd1-c8fe26dc912c",
   "metadata": {},
   "outputs": [
    {
     "data": {
      "image/png": "[encoded data removed]",
      "text/plain": [
       "<Figure size 640x480 with 1 Axes>"
      ]
     },
     "metadata": {},
     "output_type": "display_data"
    }
   ],
   "source": [
    "model_manager.plotProbaDistribution()"
   ]
  },
  {
   "cell_type": "code",
   "execution_count": 12,
   "id": "6a460f3b",
   "metadata": {},
   "outputs": [
    {
     "name": "stdout",
     "output_type": "stream",
     "text": [
      "1.0 0.20505706174352645\n"
     ]
    }
   ],
   "source": [
    "print(acc, logloss)"
   ]
  },
  {
   "cell_type": "code",
   "execution_count": null,
   "id": "2ebe242f",
   "metadata": {},
   "outputs": [],
   "source": []
  }
 ],
 "metadata": {
  "kernelspec": {
   "display_name": "nemo",
   "language": "python",
   "name": "nemo"
  },
  "language_info": {
   "codemirror_mode": {
    "name": "ipython",
    "version": 3
   },
   "file_extension": ".py",
   "mimetype": "text/x-python",
   "name": "python",
   "nbconvert_exporter": "python",
   "pygments_lexer": "ipython3",
   "version": "3.8.0"
  }
 },
 "nbformat": 4,
 "nbformat_minor": 5
}
