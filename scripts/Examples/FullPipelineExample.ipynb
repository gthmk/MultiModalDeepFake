{
 "cells": [
  {
   "cell_type": "code",
   "execution_count": 1,
   "id": "a1754ce9",
   "metadata": {},
   "outputs": [
    {
     "name": "stderr",
     "output_type": "stream",
     "text": [
      "/home/ubuntu/.local/lib/python3.8/site-packages/requests/__init__.py:89: RequestsDependencyWarning: urllib3 (1.24.3) or chardet (5.1.0) doesn't match a supported version!\n",
      "  warnings.warn(\"urllib3 ({}) or chardet ({}) doesn't match a supported \"\n",
      "2023-04-11 19:15:12.342440: I tensorflow/core/platform/cpu_feature_guard.cc:193] This TensorFlow binary is optimized with oneAPI Deep Neural Network Library (oneDNN) to use the following CPU instructions in performance-critical operations:  AVX2 AVX512F AVX512_VNNI FMA\n",
      "To enable them in other operations, rebuild TensorFlow with the appropriate compiler flags.\n",
      "2023-04-11 19:15:12.449346: I tensorflow/core/util/port.cc:104] oneDNN custom operations are on. You may see slightly different numerical results due to floating-point round-off errors from different computation orders. To turn them off, set the environment variable `TF_ENABLE_ONEDNN_OPTS=0`.\n",
      "2023-04-11 19:15:12.996855: W tensorflow/compiler/xla/stream_executor/platform/default/dso_loader.cc:64] Could not load dynamic library 'libnvinfer.so.7'; dlerror: libnvinfer.so.7: cannot open shared object file: No such file or directory\n",
      "2023-04-11 19:15:12.996909: W tensorflow/compiler/xla/stream_executor/platform/default/dso_loader.cc:64] Could not load dynamic library 'libnvinfer_plugin.so.7'; dlerror: libnvinfer_plugin.so.7: cannot open shared object file: No such file or directory\n",
      "2023-04-11 19:15:12.996913: W tensorflow/compiler/tf2tensorrt/utils/py_utils.cc:38] TF-TRT Warning: Cannot dlopen some TensorRT libraries. If you would like to use Nvidia GPU with TensorRT, please make sure the missing libraries mentioned above are installed properly.\n",
      "[NeMo W 2023-04-11 19:15:13 optimizers:55] Apex was not found. Using the lamb or fused_adam optimizer will error out.\n",
      "[NeMo W 2023-04-11 19:15:14 experimental:27] Module <class 'nemo.collections.asr.models.audio_to_audio_model.AudioToAudioModel'> is experimental, not ready for production and is not fully supported. Use at your own risk.\n",
      "[NeMo W 2023-04-11 19:15:14 experimental:27] Module <class 'nemo.collections.asr.modules.audio_modules.SpectrogramToMultichannelFeatures'> is experimental, not ready for production and is not fully supported. Use at your own risk.\n",
      "[NeMo W 2023-04-11 19:15:14 nemo_logging:349] /home/ubuntu/miniconda3/envs/nemo/lib/python3.8/site-packages/torch/jit/annotations.py:309: UserWarning: TorchScript will treat type annotations of Tensor dtype-specific subtypes as if they are normal Tensors. dtype constraints are not enforced in compilation either.\n",
      "      warnings.warn(\"TorchScript will treat type annotations of Tensor \"\n",
      "    \n",
      "[NeMo W 2023-04-11 19:15:15 experimental:27] Module <class 'nemo.collections.asr.data.audio_to_audio.BaseAudioDataset'> is experimental, not ready for production and is not fully supported. Use at your own risk.\n",
      "[NeMo W 2023-04-11 19:15:15 experimental:27] Module <class 'nemo.collections.asr.data.audio_to_audio.AudioToTargetDataset'> is experimental, not ready for production and is not fully supported. Use at your own risk.\n",
      "[NeMo W 2023-04-11 19:15:15 experimental:27] Module <class 'nemo.collections.asr.data.audio_to_audio.AudioToTargetWithReferenceDataset'> is experimental, not ready for production and is not fully supported. Use at your own risk.\n",
      "[NeMo W 2023-04-11 19:15:15 experimental:27] Module <class 'nemo.collections.asr.data.audio_to_audio.AudioToTargetWithEmbeddingDataset'> is experimental, not ready for production and is not fully supported. Use at your own risk.\n",
      "[NeMo W 2023-04-11 19:15:15 experimental:27] Module <class 'nemo.collections.asr.models.enhancement_models.EncMaskDecAudioToAudioModel'> is experimental, not ready for production and is not fully supported. Use at your own risk.\n"
     ]
    }
   ],
   "source": [
    "import sys\n",
    "sys.path.append(\"/home/ubuntu/MultiModalDeepFake\")\n",
    "import nemo.collections.asr as nemo_asr \n",
    "import pandas as pd"
   ]
  },
  {
   "cell_type": "code",
   "execution_count": 2,
   "id": "704a1092",
   "metadata": {},
   "outputs": [
    {
     "name": "stderr",
     "output_type": "stream",
     "text": [
      "################################################################################\n",
      "### WARNING, path does not exist: KALDI_ROOT=/mnt/matylda5/iveselyk/Tools/kaldi-trunk\n",
      "###          (please add 'export KALDI_ROOT=<your_path>' in your $HOME/.profile)\n",
      "###          (or run as: KALDI_ROOT=<your_path> python <your_script>.py)\n",
      "################################################################################\n",
      "\n"
     ]
    }
   ],
   "source": [
    "from packages.LJDataLoader import LJDataLoader\n",
    "from packages.AudioEmbeddingsManager import AudioEmbeddingsManager\n",
    "from packages.ModelManager import ModelManager\n",
    "from packages.CadenceModelManager import CadenceModelManager\n",
    "import packages.AnalysisManager as am"
   ]
  },
  {
   "cell_type": "markdown",
   "id": "4af9b280",
   "metadata": {},
   "source": [
    "## Generate the Train/Dev/Test"
   ]
  },
  {
   "cell_type": "code",
   "execution_count": 3,
   "id": "c096f800-16aa-420c-83cc-366c13f91765",
   "metadata": {},
   "outputs": [
    {
     "data": {
      "text/html": [
       "<div>\n",
       "<style scoped>\n",
       "    .dataframe tbody tr th:only-of-type {\n",
       "        vertical-align: middle;\n",
       "    }\n",
       "\n",
       "    .dataframe tbody tr th {\n",
       "        vertical-align: top;\n",
       "    }\n",
       "\n",
       "    .dataframe thead th {\n",
       "        text-align: right;\n",
       "    }\n",
       "</style>\n",
       "<table border=\"1\" class=\"dataframe\">\n",
       "  <thead>\n",
       "    <tr style=\"text-align: right;\">\n",
       "      <th></th>\n",
       "      <th>Unnamed: 0</th>\n",
       "      <th>id</th>\n",
       "      <th>Main_ID</th>\n",
       "      <th>Secondary_ID</th>\n",
       "      <th>Real</th>\n",
       "      <th>Full_Band_MelGan</th>\n",
       "      <th>HifiGan</th>\n",
       "      <th>MelGan</th>\n",
       "      <th>MelGanLarge</th>\n",
       "      <th>Multi_Band_MelGan</th>\n",
       "      <th>Parallel_WaveGan</th>\n",
       "      <th>Waveglow</th>\n",
       "      <th>ElevenLabs</th>\n",
       "      <th>UberDuck</th>\n",
       "      <th>transcript_1</th>\n",
       "      <th>transcript_2</th>\n",
       "    </tr>\n",
       "  </thead>\n",
       "  <tbody>\n",
       "    <tr>\n",
       "      <th>0</th>\n",
       "      <td>0</td>\n",
       "      <td>LJ001-0001</td>\n",
       "      <td>LJ001</td>\n",
       "      <td>1</td>\n",
       "      <td>/home/ubuntu/data/wavefake_data/LJSpeech_1.1/w...</td>\n",
       "      <td>/home/ubuntu/data/wavefake_data/generated_audi...</td>\n",
       "      <td>/home/ubuntu/data/wavefake_data/generated_audi...</td>\n",
       "      <td>/home/ubuntu/data/wavefake_data/generated_audi...</td>\n",
       "      <td>/home/ubuntu/data/wavefake_data/generated_audi...</td>\n",
       "      <td>/home/ubuntu/data/wavefake_data/generated_audi...</td>\n",
       "      <td>/home/ubuntu/data/wavefake_data/generated_audi...</td>\n",
       "      <td>/home/ubuntu/data/wavefake_data/generated_audi...</td>\n",
       "      <td>/home/ubuntu/data/wavefake_data/generated_audi...</td>\n",
       "      <td>/home/ubuntu/data/wavefake_data/generated_audi...</td>\n",
       "      <td>Printing, in the only sense with which we are ...</td>\n",
       "      <td>Printing, in the only sense with which we are ...</td>\n",
       "    </tr>\n",
       "    <tr>\n",
       "      <th>1</th>\n",
       "      <td>1</td>\n",
       "      <td>LJ001-0002</td>\n",
       "      <td>LJ001</td>\n",
       "      <td>2</td>\n",
       "      <td>/home/ubuntu/data/wavefake_data/LJSpeech_1.1/w...</td>\n",
       "      <td>/home/ubuntu/data/wavefake_data/generated_audi...</td>\n",
       "      <td>/home/ubuntu/data/wavefake_data/generated_audi...</td>\n",
       "      <td>/home/ubuntu/data/wavefake_data/generated_audi...</td>\n",
       "      <td>/home/ubuntu/data/wavefake_data/generated_audi...</td>\n",
       "      <td>/home/ubuntu/data/wavefake_data/generated_audi...</td>\n",
       "      <td>/home/ubuntu/data/wavefake_data/generated_audi...</td>\n",
       "      <td>/home/ubuntu/data/wavefake_data/generated_audi...</td>\n",
       "      <td>/home/ubuntu/data/wavefake_data/generated_audi...</td>\n",
       "      <td>/home/ubuntu/data/wavefake_data/generated_audi...</td>\n",
       "      <td>in being comparatively modern.</td>\n",
       "      <td>in being comparatively modern.</td>\n",
       "    </tr>\n",
       "    <tr>\n",
       "      <th>2</th>\n",
       "      <td>2</td>\n",
       "      <td>LJ001-0003</td>\n",
       "      <td>LJ001</td>\n",
       "      <td>3</td>\n",
       "      <td>/home/ubuntu/data/wavefake_data/LJSpeech_1.1/w...</td>\n",
       "      <td>/home/ubuntu/data/wavefake_data/generated_audi...</td>\n",
       "      <td>/home/ubuntu/data/wavefake_data/generated_audi...</td>\n",
       "      <td>/home/ubuntu/data/wavefake_data/generated_audi...</td>\n",
       "      <td>/home/ubuntu/data/wavefake_data/generated_audi...</td>\n",
       "      <td>/home/ubuntu/data/wavefake_data/generated_audi...</td>\n",
       "      <td>/home/ubuntu/data/wavefake_data/generated_audi...</td>\n",
       "      <td>/home/ubuntu/data/wavefake_data/generated_audi...</td>\n",
       "      <td>/home/ubuntu/data/wavefake_data/generated_audi...</td>\n",
       "      <td>/home/ubuntu/data/wavefake_data/generated_audi...</td>\n",
       "      <td>For although the Chinese took impressions from...</td>\n",
       "      <td>For although the Chinese took impressions from...</td>\n",
       "    </tr>\n",
       "    <tr>\n",
       "      <th>3</th>\n",
       "      <td>3</td>\n",
       "      <td>LJ001-0004</td>\n",
       "      <td>LJ001</td>\n",
       "      <td>4</td>\n",
       "      <td>/home/ubuntu/data/wavefake_data/LJSpeech_1.1/w...</td>\n",
       "      <td>/home/ubuntu/data/wavefake_data/generated_audi...</td>\n",
       "      <td>/home/ubuntu/data/wavefake_data/generated_audi...</td>\n",
       "      <td>/home/ubuntu/data/wavefake_data/generated_audi...</td>\n",
       "      <td>/home/ubuntu/data/wavefake_data/generated_audi...</td>\n",
       "      <td>/home/ubuntu/data/wavefake_data/generated_audi...</td>\n",
       "      <td>/home/ubuntu/data/wavefake_data/generated_audi...</td>\n",
       "      <td>/home/ubuntu/data/wavefake_data/generated_audi...</td>\n",
       "      <td>/home/ubuntu/data/wavefake_data/generated_audi...</td>\n",
       "      <td>/home/ubuntu/data/wavefake_data/generated_audi...</td>\n",
       "      <td>produced the block books, which were the immed...</td>\n",
       "      <td>produced the block books, which were the immed...</td>\n",
       "    </tr>\n",
       "    <tr>\n",
       "      <th>4</th>\n",
       "      <td>4</td>\n",
       "      <td>LJ001-0005</td>\n",
       "      <td>LJ001</td>\n",
       "      <td>5</td>\n",
       "      <td>/home/ubuntu/data/wavefake_data/LJSpeech_1.1/w...</td>\n",
       "      <td>/home/ubuntu/data/wavefake_data/generated_audi...</td>\n",
       "      <td>/home/ubuntu/data/wavefake_data/generated_audi...</td>\n",
       "      <td>/home/ubuntu/data/wavefake_data/generated_audi...</td>\n",
       "      <td>/home/ubuntu/data/wavefake_data/generated_audi...</td>\n",
       "      <td>/home/ubuntu/data/wavefake_data/generated_audi...</td>\n",
       "      <td>/home/ubuntu/data/wavefake_data/generated_audi...</td>\n",
       "      <td>/home/ubuntu/data/wavefake_data/generated_audi...</td>\n",
       "      <td>/home/ubuntu/data/wavefake_data/generated_audi...</td>\n",
       "      <td>/home/ubuntu/data/wavefake_data/generated_audi...</td>\n",
       "      <td>the invention of movable metal letters in the ...</td>\n",
       "      <td>the invention of movable metal letters in the ...</td>\n",
       "    </tr>\n",
       "    <tr>\n",
       "      <th>...</th>\n",
       "      <td>...</td>\n",
       "      <td>...</td>\n",
       "      <td>...</td>\n",
       "      <td>...</td>\n",
       "      <td>...</td>\n",
       "      <td>...</td>\n",
       "      <td>...</td>\n",
       "      <td>...</td>\n",
       "      <td>...</td>\n",
       "      <td>...</td>\n",
       "      <td>...</td>\n",
       "      <td>...</td>\n",
       "      <td>...</td>\n",
       "      <td>...</td>\n",
       "      <td>...</td>\n",
       "      <td>...</td>\n",
       "    </tr>\n",
       "    <tr>\n",
       "      <th>13095</th>\n",
       "      <td>13095</td>\n",
       "      <td>LJ050-0274</td>\n",
       "      <td>LJ050</td>\n",
       "      <td>274</td>\n",
       "      <td>/home/ubuntu/data/wavefake_data/LJSpeech_1.1/w...</td>\n",
       "      <td>/home/ubuntu/data/wavefake_data/generated_audi...</td>\n",
       "      <td>/home/ubuntu/data/wavefake_data/generated_audi...</td>\n",
       "      <td>/home/ubuntu/data/wavefake_data/generated_audi...</td>\n",
       "      <td>/home/ubuntu/data/wavefake_data/generated_audi...</td>\n",
       "      <td>/home/ubuntu/data/wavefake_data/generated_audi...</td>\n",
       "      <td>/home/ubuntu/data/wavefake_data/generated_audi...</td>\n",
       "      <td>/home/ubuntu/data/wavefake_data/generated_audi...</td>\n",
       "      <td>/home/ubuntu/data/wavefake_data/generated_audi...</td>\n",
       "      <td>/home/ubuntu/data/wavefake_data/generated_audi...</td>\n",
       "      <td>made certain recommendations which it believes...</td>\n",
       "      <td>made certain recommendations which it believes...</td>\n",
       "    </tr>\n",
       "    <tr>\n",
       "      <th>13096</th>\n",
       "      <td>13096</td>\n",
       "      <td>LJ050-0275</td>\n",
       "      <td>LJ050</td>\n",
       "      <td>275</td>\n",
       "      <td>/home/ubuntu/data/wavefake_data/LJSpeech_1.1/w...</td>\n",
       "      <td>/home/ubuntu/data/wavefake_data/generated_audi...</td>\n",
       "      <td>/home/ubuntu/data/wavefake_data/generated_audi...</td>\n",
       "      <td>/home/ubuntu/data/wavefake_data/generated_audi...</td>\n",
       "      <td>/home/ubuntu/data/wavefake_data/generated_audi...</td>\n",
       "      <td>/home/ubuntu/data/wavefake_data/generated_audi...</td>\n",
       "      <td>/home/ubuntu/data/wavefake_data/generated_audi...</td>\n",
       "      <td>/home/ubuntu/data/wavefake_data/generated_audi...</td>\n",
       "      <td>/home/ubuntu/data/wavefake_data/generated_audi...</td>\n",
       "      <td>/home/ubuntu/data/wavefake_data/generated_audi...</td>\n",
       "      <td>materially improve upon the procedures in effe...</td>\n",
       "      <td>materially improve upon the procedures in effe...</td>\n",
       "    </tr>\n",
       "    <tr>\n",
       "      <th>13097</th>\n",
       "      <td>13097</td>\n",
       "      <td>LJ050-0276</td>\n",
       "      <td>LJ050</td>\n",
       "      <td>276</td>\n",
       "      <td>/home/ubuntu/data/wavefake_data/LJSpeech_1.1/w...</td>\n",
       "      <td>/home/ubuntu/data/wavefake_data/generated_audi...</td>\n",
       "      <td>/home/ubuntu/data/wavefake_data/generated_audi...</td>\n",
       "      <td>/home/ubuntu/data/wavefake_data/generated_audi...</td>\n",
       "      <td>/home/ubuntu/data/wavefake_data/generated_audi...</td>\n",
       "      <td>/home/ubuntu/data/wavefake_data/generated_audi...</td>\n",
       "      <td>/home/ubuntu/data/wavefake_data/generated_audi...</td>\n",
       "      <td>/home/ubuntu/data/wavefake_data/generated_audi...</td>\n",
       "      <td>/home/ubuntu/data/wavefake_data/generated_audi...</td>\n",
       "      <td>/home/ubuntu/data/wavefake_data/generated_audi...</td>\n",
       "      <td>As has been pointed out, the Commission has no...</td>\n",
       "      <td>As has been pointed out, the Commission has no...</td>\n",
       "    </tr>\n",
       "    <tr>\n",
       "      <th>13098</th>\n",
       "      <td>13098</td>\n",
       "      <td>LJ050-0277</td>\n",
       "      <td>LJ050</td>\n",
       "      <td>277</td>\n",
       "      <td>/home/ubuntu/data/wavefake_data/LJSpeech_1.1/w...</td>\n",
       "      <td>/home/ubuntu/data/wavefake_data/generated_audi...</td>\n",
       "      <td>/home/ubuntu/data/wavefake_data/generated_audi...</td>\n",
       "      <td>/home/ubuntu/data/wavefake_data/generated_audi...</td>\n",
       "      <td>/home/ubuntu/data/wavefake_data/generated_audi...</td>\n",
       "      <td>/home/ubuntu/data/wavefake_data/generated_audi...</td>\n",
       "      <td>/home/ubuntu/data/wavefake_data/generated_audi...</td>\n",
       "      <td>/home/ubuntu/data/wavefake_data/generated_audi...</td>\n",
       "      <td>/home/ubuntu/data/wavefake_data/generated_audi...</td>\n",
       "      <td>/home/ubuntu/data/wavefake_data/generated_audi...</td>\n",
       "      <td>with the active cooperation of the responsible...</td>\n",
       "      <td>with the active cooperation of the responsible...</td>\n",
       "    </tr>\n",
       "    <tr>\n",
       "      <th>13099</th>\n",
       "      <td>13099</td>\n",
       "      <td>LJ050-0278</td>\n",
       "      <td>LJ050</td>\n",
       "      <td>278</td>\n",
       "      <td>/home/ubuntu/data/wavefake_data/LJSpeech_1.1/w...</td>\n",
       "      <td>/home/ubuntu/data/wavefake_data/generated_audi...</td>\n",
       "      <td>/home/ubuntu/data/wavefake_data/generated_audi...</td>\n",
       "      <td>/home/ubuntu/data/wavefake_data/generated_audi...</td>\n",
       "      <td>/home/ubuntu/data/wavefake_data/generated_audi...</td>\n",
       "      <td>/home/ubuntu/data/wavefake_data/generated_audi...</td>\n",
       "      <td>/home/ubuntu/data/wavefake_data/generated_audi...</td>\n",
       "      <td>/home/ubuntu/data/wavefake_data/generated_audi...</td>\n",
       "      <td>/home/ubuntu/data/wavefake_data/generated_audi...</td>\n",
       "      <td>/home/ubuntu/data/wavefake_data/generated_audi...</td>\n",
       "      <td>the recommendations we have here suggested wou...</td>\n",
       "      <td>the recommendations we have here suggested wou...</td>\n",
       "    </tr>\n",
       "  </tbody>\n",
       "</table>\n",
       "<p>13100 rows × 16 columns</p>\n",
       "</div>"
      ],
      "text/plain": [
       "       Unnamed: 0          id Main_ID  Secondary_ID  \\\n",
       "0               0  LJ001-0001   LJ001             1   \n",
       "1               1  LJ001-0002   LJ001             2   \n",
       "2               2  LJ001-0003   LJ001             3   \n",
       "3               3  LJ001-0004   LJ001             4   \n",
       "4               4  LJ001-0005   LJ001             5   \n",
       "...           ...         ...     ...           ...   \n",
       "13095       13095  LJ050-0274   LJ050           274   \n",
       "13096       13096  LJ050-0275   LJ050           275   \n",
       "13097       13097  LJ050-0276   LJ050           276   \n",
       "13098       13098  LJ050-0277   LJ050           277   \n",
       "13099       13099  LJ050-0278   LJ050           278   \n",
       "\n",
       "                                                    Real  \\\n",
       "0      /home/ubuntu/data/wavefake_data/LJSpeech_1.1/w...   \n",
       "1      /home/ubuntu/data/wavefake_data/LJSpeech_1.1/w...   \n",
       "2      /home/ubuntu/data/wavefake_data/LJSpeech_1.1/w...   \n",
       "3      /home/ubuntu/data/wavefake_data/LJSpeech_1.1/w...   \n",
       "4      /home/ubuntu/data/wavefake_data/LJSpeech_1.1/w...   \n",
       "...                                                  ...   \n",
       "13095  /home/ubuntu/data/wavefake_data/LJSpeech_1.1/w...   \n",
       "13096  /home/ubuntu/data/wavefake_data/LJSpeech_1.1/w...   \n",
       "13097  /home/ubuntu/data/wavefake_data/LJSpeech_1.1/w...   \n",
       "13098  /home/ubuntu/data/wavefake_data/LJSpeech_1.1/w...   \n",
       "13099  /home/ubuntu/data/wavefake_data/LJSpeech_1.1/w...   \n",
       "\n",
       "                                        Full_Band_MelGan  \\\n",
       "0      /home/ubuntu/data/wavefake_data/generated_audi...   \n",
       "1      /home/ubuntu/data/wavefake_data/generated_audi...   \n",
       "2      /home/ubuntu/data/wavefake_data/generated_audi...   \n",
       "3      /home/ubuntu/data/wavefake_data/generated_audi...   \n",
       "4      /home/ubuntu/data/wavefake_data/generated_audi...   \n",
       "...                                                  ...   \n",
       "13095  /home/ubuntu/data/wavefake_data/generated_audi...   \n",
       "13096  /home/ubuntu/data/wavefake_data/generated_audi...   \n",
       "13097  /home/ubuntu/data/wavefake_data/generated_audi...   \n",
       "13098  /home/ubuntu/data/wavefake_data/generated_audi...   \n",
       "13099  /home/ubuntu/data/wavefake_data/generated_audi...   \n",
       "\n",
       "                                                 HifiGan  \\\n",
       "0      /home/ubuntu/data/wavefake_data/generated_audi...   \n",
       "1      /home/ubuntu/data/wavefake_data/generated_audi...   \n",
       "2      /home/ubuntu/data/wavefake_data/generated_audi...   \n",
       "3      /home/ubuntu/data/wavefake_data/generated_audi...   \n",
       "4      /home/ubuntu/data/wavefake_data/generated_audi...   \n",
       "...                                                  ...   \n",
       "13095  /home/ubuntu/data/wavefake_data/generated_audi...   \n",
       "13096  /home/ubuntu/data/wavefake_data/generated_audi...   \n",
       "13097  /home/ubuntu/data/wavefake_data/generated_audi...   \n",
       "13098  /home/ubuntu/data/wavefake_data/generated_audi...   \n",
       "13099  /home/ubuntu/data/wavefake_data/generated_audi...   \n",
       "\n",
       "                                                  MelGan  \\\n",
       "0      /home/ubuntu/data/wavefake_data/generated_audi...   \n",
       "1      /home/ubuntu/data/wavefake_data/generated_audi...   \n",
       "2      /home/ubuntu/data/wavefake_data/generated_audi...   \n",
       "3      /home/ubuntu/data/wavefake_data/generated_audi...   \n",
       "4      /home/ubuntu/data/wavefake_data/generated_audi...   \n",
       "...                                                  ...   \n",
       "13095  /home/ubuntu/data/wavefake_data/generated_audi...   \n",
       "13096  /home/ubuntu/data/wavefake_data/generated_audi...   \n",
       "13097  /home/ubuntu/data/wavefake_data/generated_audi...   \n",
       "13098  /home/ubuntu/data/wavefake_data/generated_audi...   \n",
       "13099  /home/ubuntu/data/wavefake_data/generated_audi...   \n",
       "\n",
       "                                             MelGanLarge  \\\n",
       "0      /home/ubuntu/data/wavefake_data/generated_audi...   \n",
       "1      /home/ubuntu/data/wavefake_data/generated_audi...   \n",
       "2      /home/ubuntu/data/wavefake_data/generated_audi...   \n",
       "3      /home/ubuntu/data/wavefake_data/generated_audi...   \n",
       "4      /home/ubuntu/data/wavefake_data/generated_audi...   \n",
       "...                                                  ...   \n",
       "13095  /home/ubuntu/data/wavefake_data/generated_audi...   \n",
       "13096  /home/ubuntu/data/wavefake_data/generated_audi...   \n",
       "13097  /home/ubuntu/data/wavefake_data/generated_audi...   \n",
       "13098  /home/ubuntu/data/wavefake_data/generated_audi...   \n",
       "13099  /home/ubuntu/data/wavefake_data/generated_audi...   \n",
       "\n",
       "                                       Multi_Band_MelGan  \\\n",
       "0      /home/ubuntu/data/wavefake_data/generated_audi...   \n",
       "1      /home/ubuntu/data/wavefake_data/generated_audi...   \n",
       "2      /home/ubuntu/data/wavefake_data/generated_audi...   \n",
       "3      /home/ubuntu/data/wavefake_data/generated_audi...   \n",
       "4      /home/ubuntu/data/wavefake_data/generated_audi...   \n",
       "...                                                  ...   \n",
       "13095  /home/ubuntu/data/wavefake_data/generated_audi...   \n",
       "13096  /home/ubuntu/data/wavefake_data/generated_audi...   \n",
       "13097  /home/ubuntu/data/wavefake_data/generated_audi...   \n",
       "13098  /home/ubuntu/data/wavefake_data/generated_audi...   \n",
       "13099  /home/ubuntu/data/wavefake_data/generated_audi...   \n",
       "\n",
       "                                        Parallel_WaveGan  \\\n",
       "0      /home/ubuntu/data/wavefake_data/generated_audi...   \n",
       "1      /home/ubuntu/data/wavefake_data/generated_audi...   \n",
       "2      /home/ubuntu/data/wavefake_data/generated_audi...   \n",
       "3      /home/ubuntu/data/wavefake_data/generated_audi...   \n",
       "4      /home/ubuntu/data/wavefake_data/generated_audi...   \n",
       "...                                                  ...   \n",
       "13095  /home/ubuntu/data/wavefake_data/generated_audi...   \n",
       "13096  /home/ubuntu/data/wavefake_data/generated_audi...   \n",
       "13097  /home/ubuntu/data/wavefake_data/generated_audi...   \n",
       "13098  /home/ubuntu/data/wavefake_data/generated_audi...   \n",
       "13099  /home/ubuntu/data/wavefake_data/generated_audi...   \n",
       "\n",
       "                                                Waveglow  \\\n",
       "0      /home/ubuntu/data/wavefake_data/generated_audi...   \n",
       "1      /home/ubuntu/data/wavefake_data/generated_audi...   \n",
       "2      /home/ubuntu/data/wavefake_data/generated_audi...   \n",
       "3      /home/ubuntu/data/wavefake_data/generated_audi...   \n",
       "4      /home/ubuntu/data/wavefake_data/generated_audi...   \n",
       "...                                                  ...   \n",
       "13095  /home/ubuntu/data/wavefake_data/generated_audi...   \n",
       "13096  /home/ubuntu/data/wavefake_data/generated_audi...   \n",
       "13097  /home/ubuntu/data/wavefake_data/generated_audi...   \n",
       "13098  /home/ubuntu/data/wavefake_data/generated_audi...   \n",
       "13099  /home/ubuntu/data/wavefake_data/generated_audi...   \n",
       "\n",
       "                                              ElevenLabs  \\\n",
       "0      /home/ubuntu/data/wavefake_data/generated_audi...   \n",
       "1      /home/ubuntu/data/wavefake_data/generated_audi...   \n",
       "2      /home/ubuntu/data/wavefake_data/generated_audi...   \n",
       "3      /home/ubuntu/data/wavefake_data/generated_audi...   \n",
       "4      /home/ubuntu/data/wavefake_data/generated_audi...   \n",
       "...                                                  ...   \n",
       "13095  /home/ubuntu/data/wavefake_data/generated_audi...   \n",
       "13096  /home/ubuntu/data/wavefake_data/generated_audi...   \n",
       "13097  /home/ubuntu/data/wavefake_data/generated_audi...   \n",
       "13098  /home/ubuntu/data/wavefake_data/generated_audi...   \n",
       "13099  /home/ubuntu/data/wavefake_data/generated_audi...   \n",
       "\n",
       "                                                UberDuck  \\\n",
       "0      /home/ubuntu/data/wavefake_data/generated_audi...   \n",
       "1      /home/ubuntu/data/wavefake_data/generated_audi...   \n",
       "2      /home/ubuntu/data/wavefake_data/generated_audi...   \n",
       "3      /home/ubuntu/data/wavefake_data/generated_audi...   \n",
       "4      /home/ubuntu/data/wavefake_data/generated_audi...   \n",
       "...                                                  ...   \n",
       "13095  /home/ubuntu/data/wavefake_data/generated_audi...   \n",
       "13096  /home/ubuntu/data/wavefake_data/generated_audi...   \n",
       "13097  /home/ubuntu/data/wavefake_data/generated_audi...   \n",
       "13098  /home/ubuntu/data/wavefake_data/generated_audi...   \n",
       "13099  /home/ubuntu/data/wavefake_data/generated_audi...   \n",
       "\n",
       "                                            transcript_1  \\\n",
       "0      Printing, in the only sense with which we are ...   \n",
       "1                         in being comparatively modern.   \n",
       "2      For although the Chinese took impressions from...   \n",
       "3      produced the block books, which were the immed...   \n",
       "4      the invention of movable metal letters in the ...   \n",
       "...                                                  ...   \n",
       "13095  made certain recommendations which it believes...   \n",
       "13096  materially improve upon the procedures in effe...   \n",
       "13097  As has been pointed out, the Commission has no...   \n",
       "13098  with the active cooperation of the responsible...   \n",
       "13099  the recommendations we have here suggested wou...   \n",
       "\n",
       "                                            transcript_2  \n",
       "0      Printing, in the only sense with which we are ...  \n",
       "1                         in being comparatively modern.  \n",
       "2      For although the Chinese took impressions from...  \n",
       "3      produced the block books, which were the immed...  \n",
       "4      the invention of movable metal letters in the ...  \n",
       "...                                                  ...  \n",
       "13095  made certain recommendations which it believes...  \n",
       "13096  materially improve upon the procedures in effe...  \n",
       "13097  As has been pointed out, the Commission has no...  \n",
       "13098  with the active cooperation of the responsible...  \n",
       "13099  the recommendations we have here suggested wou...  \n",
       "\n",
       "[13100 rows x 16 columns]"
      ]
     },
     "execution_count": 3,
     "metadata": {},
     "output_type": "execute_result"
    }
   ],
   "source": [
    "file_path = '/home/ubuntu/data/wavefake_data/LJ_metadata_16000KHz.csv'\n",
    "pd.read_csv(file_path)"
   ]
  },
  {
   "cell_type": "code",
   "execution_count": 4,
   "id": "be5ea4f2",
   "metadata": {},
   "outputs": [],
   "source": [
    "file_path = '/home/ubuntu/data/wavefake_data/LJ_metadata_16000KHz.csv'\n",
    "loader = LJDataLoader(data_path=file_path)\n",
    "loader.sample(0.2)\n",
    "loader.splitData()\n",
    "\n",
    "source_architectures = ['Full_Band_MelGan', 'HifiGan', 'MelGan', 'MelGanLarge', 'Multi_Band_MelGan', 'Parallel_WaveGan', 'Waveglow']\n",
    "new_col_name = 'RandWaveFake'\n",
    "loader.selectRandomArchitecture(target_col=new_col_name, source_cols=source_architectures)\n",
    "\n",
    "#data_df = loader.generateFinalDataFrame(real_col='Real', fake_cols=['RandWaveFake', 'ElevenLabs', 'UberDuck'])\n",
    "data_df = loader.generateFinalDataFrame(real_col='Real', fake_cols=['UberDuck'])"
   ]
  },
  {
   "cell_type": "code",
   "execution_count": 5,
   "id": "12b0d076-fb70-499a-9a3c-d57a8c52c5e9",
   "metadata": {},
   "outputs": [
    {
     "name": "stdout",
     "output_type": "stream",
     "text": [
      "# of Train instances: 3132\n",
      "# of Dev instances: 1044\n",
      "# of Test instances: 1046\n"
     ]
    }
   ],
   "source": [
    "train_count = data_df[data_df['type'] == 'train'].shape[0]\n",
    "dev_count = data_df[data_df['type'] == 'dev'].shape[0]\n",
    "test_count = data_df[data_df['type'] == 'test'].shape[0]\n",
    "\n",
    "print(f'# of Train instances: {train_count}')\n",
    "print(f'# of Dev instances: {dev_count}')\n",
    "print(f'# of Test instances: {test_count}')"
   ]
  },
  {
   "cell_type": "markdown",
   "id": "9452fc99",
   "metadata": {},
   "source": [
    "## Generate the Features"
   ]
  },
  {
   "cell_type": "code",
   "execution_count": 6,
   "id": "4a1328ad",
   "metadata": {},
   "outputs": [
    {
     "name": "stdout",
     "output_type": "stream",
     "text": [
      "[NeMo I 2023-04-11 19:15:18 cloud:56] Found existing object /home/ubuntu/.cache/torch/NeMo/NeMo_1.15.0/titanet-l/492c0ab8416139171dc18c21879a9e45/titanet-l.nemo.\n",
      "[NeMo I 2023-04-11 19:15:18 cloud:62] Re-using file from: /home/ubuntu/.cache/torch/NeMo/NeMo_1.15.0/titanet-l/492c0ab8416139171dc18c21879a9e45/titanet-l.nemo\n",
      "[NeMo I 2023-04-11 19:15:18 common:913] Instantiating model from pre-trained checkpoint\n"
     ]
    },
    {
     "name": "stderr",
     "output_type": "stream",
     "text": [
      "[NeMo W 2023-04-11 19:15:18 modelPT:156] If you intend to do training or fine-tuning, please call the ModelPT.setup_training_data() method and provide a valid configuration file to setup the train data loader.\n",
      "    Train config : \n",
      "    manifest_filepath: /manifests/combined_fisher_swbd_voxceleb12_librispeech/train.json\n",
      "    sample_rate: 16000\n",
      "    labels: null\n",
      "    batch_size: 64\n",
      "    shuffle: true\n",
      "    time_length: 3\n",
      "    is_tarred: false\n",
      "    tarred_audio_filepaths: null\n",
      "    tarred_shard_strategy: scatter\n",
      "    augmentor:\n",
      "      noise:\n",
      "        manifest_path: /manifests/noise/rir_noise_manifest.json\n",
      "        prob: 0.5\n",
      "        min_snr_db: 0\n",
      "        max_snr_db: 15\n",
      "      speed:\n",
      "        prob: 0.5\n",
      "        sr: 16000\n",
      "        resample_type: kaiser_fast\n",
      "        min_speed_rate: 0.95\n",
      "        max_speed_rate: 1.05\n",
      "    num_workers: 15\n",
      "    pin_memory: true\n",
      "    \n",
      "[NeMo W 2023-04-11 19:15:18 modelPT:163] If you intend to do validation, please call the ModelPT.setup_validation_data() or ModelPT.setup_multiple_validation_data() method and provide a valid configuration file to setup the validation data loader(s). \n",
      "    Validation config : \n",
      "    manifest_filepath: /manifests/combined_fisher_swbd_voxceleb12_librispeech/dev.json\n",
      "    sample_rate: 16000\n",
      "    labels: null\n",
      "    batch_size: 128\n",
      "    shuffle: false\n",
      "    time_length: 3\n",
      "    num_workers: 15\n",
      "    pin_memory: true\n",
      "    \n"
     ]
    },
    {
     "name": "stdout",
     "output_type": "stream",
     "text": [
      "[NeMo I 2023-04-11 19:15:18 label_models:126] Setting angular: true/false in decoder is deprecated and will be removed in 1.13 version, use specific loss with _target_\n",
      "[NeMo I 2023-04-11 19:15:18 features:267] PADDING: 16\n",
      "[NeMo I 2023-04-11 19:15:19 save_restore_connector:243] Model EncDecSpeakerLabelModel was successfully restored from /home/ubuntu/.cache/torch/NeMo/NeMo_1.15.0/titanet-l/492c0ab8416139171dc18c21879a9e45/titanet-l.nemo.\n"
     ]
    },
    {
     "name": "stderr",
     "output_type": "stream",
     "text": [
      "100%|██████████| 2/2 [00:00<00:00,  3.60it/s]\n"
     ]
    }
   ],
   "source": [
    "speaker_model = nemo_asr.models.EncDecSpeakerLabelModel.from_pretrained(model_name='titanet_large')\n",
    "embedding_manager = AudioEmbeddingsManager(model=speaker_model, data=data_df)\n",
    "em_feature_df, em_feature_cols = embedding_manager.generateFeatureDf()"
   ]
  },
  {
   "cell_type": "code",
   "execution_count": 7,
   "id": "25d293bc",
   "metadata": {},
   "outputs": [
    {
     "name": "stdout",
     "output_type": "stream",
     "text": [
      "Normalizing amplitudes\n",
      "Truncating silences\n",
      "Truncating audio 100/5222 (2%)\n",
      "Truncating audio 200/5222 (4%)\n",
      "Truncating audio 300/5222 (6%)\n",
      "Truncating audio 400/5222 (8%)\n",
      "Truncating audio 500/5222 (10%)\n",
      "Truncating audio 600/5222 (11%)\n",
      "Truncating audio 700/5222 (13%)\n",
      "Truncating audio 800/5222 (15%)\n",
      "Truncating audio 900/5222 (17%)\n",
      "Truncating audio 1000/5222 (19%)\n",
      "Truncating audio 1100/5222 (21%)\n",
      "Truncating audio 1200/5222 (23%)\n",
      "Truncating audio 1300/5222 (25%)\n",
      "Truncating audio 1400/5222 (27%)\n",
      "Truncating audio 1500/5222 (29%)\n",
      "Truncating audio 1600/5222 (31%)\n",
      "Truncating audio 1700/5222 (33%)\n",
      "Truncating audio 1800/5222 (34%)\n",
      "Truncating audio 1900/5222 (36%)\n",
      "Truncating audio 2000/5222 (38%)\n",
      "Truncating audio 2100/5222 (40%)\n",
      "Truncating audio 2200/5222 (42%)\n",
      "Truncating audio 2300/5222 (44%)\n",
      "Truncating audio 2400/5222 (46%)\n",
      "Truncating audio 2500/5222 (48%)\n",
      "Truncating audio 2600/5222 (50%)\n",
      "Truncating audio 2700/5222 (52%)\n",
      "Truncating audio 2800/5222 (54%)\n",
      "Truncating audio 2900/5222 (56%)\n",
      "Truncating audio 3000/5222 (57%)\n",
      "Truncating audio 3100/5222 (59%)\n",
      "Truncating audio 3200/5222 (61%)\n",
      "Truncating audio 3300/5222 (63%)\n",
      "Truncating audio 3400/5222 (65%)\n",
      "Truncating audio 3500/5222 (67%)\n",
      "Truncating audio 3600/5222 (69%)\n",
      "Truncating audio 3700/5222 (71%)\n",
      "Truncating audio 3800/5222 (73%)\n",
      "Truncating audio 3900/5222 (75%)\n",
      "Truncating audio 4000/5222 (77%)\n",
      "Truncating audio 4100/5222 (79%)\n",
      "Truncating audio 4200/5222 (80%)\n",
      "Truncating audio 4300/5222 (82%)\n",
      "Truncating audio 4400/5222 (84%)\n",
      "Truncating audio 4500/5222 (86%)\n",
      "Truncating audio 4600/5222 (88%)\n",
      "Truncating audio 4700/5222 (90%)\n",
      "Truncating audio 4800/5222 (92%)\n",
      "Truncating audio 4900/5222 (94%)\n",
      "Truncating audio 5000/5222 (96%)\n",
      "Truncating audio 5100/5222 (98%)\n",
      "Truncating audio 5200/5222 (100%)\n",
      "Extracting pauses\n",
      "Extracting pause spreads\n"
     ]
    },
    {
     "name": "stderr",
     "output_type": "stream",
     "text": [
      "[NeMo W 2023-04-11 19:18:10 nemo_logging:349] /home/ubuntu/.local/lib/python3.8/site-packages/numpy/core/_methods.py:265: RuntimeWarning: Degrees of freedom <= 0 for slice\n",
      "      ret = _var(a, axis=axis, dtype=dtype, out=out, ddof=ddof,\n",
      "    \n",
      "[NeMo W 2023-04-11 19:18:10 nemo_logging:349] /home/ubuntu/.local/lib/python3.8/site-packages/numpy/core/_methods.py:223: RuntimeWarning: invalid value encountered in divide\n",
      "      arrmean = um.true_divide(arrmean, div, out=arrmean, casting='unsafe',\n",
      "    \n",
      "[NeMo W 2023-04-11 19:18:10 nemo_logging:349] /home/ubuntu/.local/lib/python3.8/site-packages/numpy/core/_methods.py:257: RuntimeWarning: invalid value encountered in double_scalars\n",
      "      ret = ret.dtype.type(ret / rcount)\n",
      "    \n",
      "[NeMo W 2023-04-11 19:18:10 nemo_logging:349] /home/ubuntu/.local/lib/python3.8/site-packages/numpy/core/fromnumeric.py:3432: RuntimeWarning: Mean of empty slice.\n",
      "      return _methods._mean(a, axis=axis, dtype=dtype,\n",
      "    \n",
      "[NeMo W 2023-04-11 19:18:10 nemo_logging:349] /home/ubuntu/.local/lib/python3.8/site-packages/numpy/core/_methods.py:190: RuntimeWarning: invalid value encountered in double_scalars\n",
      "      ret = ret.dtype.type(ret / rcount)\n",
      "    \n"
     ]
    },
    {
     "name": "stdout",
     "output_type": "stream",
     "text": [
      "Extracting amplitude features\n",
      "Creating dataframe\n",
      "Complete\n"
     ]
    }
   ],
   "source": [
    "cadence_manager = CadenceModelManager(data_df)\n",
    "cad_feature_df, cad_feature_cols =  cadence_manager.run_cadence_feature_extraction_pipeline()"
   ]
  },
  {
   "cell_type": "code",
   "execution_count": null,
   "id": "505faa8d-7bf5-4f07-a914-947096442603",
   "metadata": {},
   "outputs": [],
   "source": []
  },
  {
   "cell_type": "markdown",
   "id": "dd386ba7",
   "metadata": {},
   "source": [
    "## Predict and Evaluate"
   ]
  },
  {
   "cell_type": "code",
   "execution_count": 8,
   "id": "25db3cfd-7487-467e-b1f9-b7fb29775a17",
   "metadata": {},
   "outputs": [
    {
     "name": "stderr",
     "output_type": "stream",
     "text": [
      "[NeMo W 2023-04-11 19:21:55 nemo_logging:349] /home/ubuntu/MultiModalDeepFake/packages/ModelManager.py:61: FutureWarning: Passing a set as an indexer is deprecated and will raise in a future version. Use a list instead.\n",
      "      self.X_train = self.train[self.feature_cols].copy()\n",
      "    \n",
      "[NeMo W 2023-04-11 19:21:55 nemo_logging:349] /home/ubuntu/MultiModalDeepFake/packages/ModelManager.py:68: FutureWarning: Passing a set as an indexer is deprecated and will raise in a future version. Use a list instead.\n",
      "      self.X_test = self.test[self.feature_cols].copy()\n",
      "    \n"
     ]
    },
    {
     "data": {
      "text/plain": [
       "(0.9990439770554493, 0.20646261802843452)"
      ]
     },
     "execution_count": 8,
     "metadata": {},
     "output_type": "execute_result"
    }
   ],
   "source": [
    "em_model_manager_bin = ModelManager('logreg', em_feature_df, em_feature_cols, merge_train_dev=True)\n",
    "em_model_manager_bin.trainPredict(label_col='label')"
   ]
  },
  {
   "cell_type": "code",
   "execution_count": 9,
   "id": "9e84c7bb",
   "metadata": {},
   "outputs": [
    {
     "name": "stderr",
     "output_type": "stream",
     "text": [
      "[NeMo W 2023-04-11 19:21:55 nemo_logging:349] /home/ubuntu/MultiModalDeepFake/packages/ModelManager.py:61: FutureWarning: Passing a set as an indexer is deprecated and will raise in a future version. Use a list instead.\n",
      "      self.X_train = self.train[self.feature_cols].copy()\n",
      "    \n",
      "[NeMo W 2023-04-11 19:21:55 nemo_logging:349] /home/ubuntu/MultiModalDeepFake/packages/ModelManager.py:68: FutureWarning: Passing a set as an indexer is deprecated and will raise in a future version. Use a list instead.\n",
      "      self.X_test = self.test[self.feature_cols].copy()\n",
      "    \n"
     ]
    },
    {
     "data": {
      "text/plain": [
       "(0.9990439770554493, 0.20646261802843452)"
      ]
     },
     "execution_count": 9,
     "metadata": {},
     "output_type": "execute_result"
    }
   ],
   "source": [
    "em_model_manager_multi = ModelManager('logreg', em_feature_df, em_feature_cols, merge_train_dev=True)\n",
    "em_model_manager_multi.trainPredict(label_col='multiclass_label')"
   ]
  },
  {
   "cell_type": "code",
   "execution_count": 10,
   "id": "e5f478dc-b2ce-4fa9-9294-be0725bc9741",
   "metadata": {},
   "outputs": [
    {
     "data": {
      "text/plain": [
       "(0.570334928229665, 0.6734536823903307)"
      ]
     },
     "execution_count": 10,
     "metadata": {},
     "output_type": "execute_result"
    }
   ],
   "source": [
    "cad_model_manager_bin = ModelManager('logreg', cad_feature_df, cad_feature_cols, merge_train_dev=True)\n",
    "cad_model_manager_bin.trainPredict(label_col='label')"
   ]
  },
  {
   "cell_type": "code",
   "execution_count": 11,
   "id": "8f69d383-94ef-4b21-b0d4-860ed863ffb0",
   "metadata": {},
   "outputs": [
    {
     "data": {
      "text/plain": [
       "(0.570334928229665, 0.6734536823903307)"
      ]
     },
     "execution_count": 11,
     "metadata": {},
     "output_type": "execute_result"
    }
   ],
   "source": [
    "cad_model_manager_multi = ModelManager('logreg', cad_feature_df, cad_feature_cols, merge_train_dev=True)\n",
    "cad_model_manager_multi.trainPredict(label_col='multiclass_label')"
   ]
  },
  {
   "cell_type": "code",
   "execution_count": 12,
   "id": "26a0a988-0083-4fd9-8d45-862e0d4e8f3a",
   "metadata": {},
   "outputs": [
    {
     "name": "stdout",
     "output_type": "stream",
     "text": [
      "Binary Performance\n",
      "---------------------------\n",
      "Embeddings Accuracy: 0.9990439770554493\n",
      "Cadence Accuracy: 0.570334928229665\n",
      "Embeddings Accuracy: 0.20646261802843452\n",
      "Cadence Accuracy: 0.6734536823903307\n"
     ]
    }
   ],
   "source": [
    "print('Binary Performance')\n",
    "print('---------------------------')\n",
    "print(f'Embeddings Accuracy: {em_model_manager_bin.accuracy}')\n",
    "print(f'Cadence Accuracy: {cad_model_manager_bin.accuracy}')\n",
    "print(f'Embeddings Loss: {em_model_manager_bin.log_loss_value}')\n",
    "print(f'Cadence Loss: {cad_model_manager_bin.log_loss_value}')"
   ]
  },
  {
   "cell_type": "code",
   "execution_count": 13,
   "id": "efd7fb80-82bd-4ba3-8856-ced84411c72e",
   "metadata": {},
   "outputs": [
    {
     "ename": "ValueError",
     "evalue": "all the input array dimensions for the concatenation axis must match exactly, but along dimension 1, the array at index 0 has size 1046 and the array at index 1 has size 1045",
     "output_type": "error",
     "traceback": [
      "\u001b[0;31m---------------------------------------------------------------------------\u001b[0m",
      "\u001b[0;31mValueError\u001b[0m                                Traceback (most recent call last)",
      "Cell \u001b[0;32mIn[13], line 1\u001b[0m\n\u001b[0;32m----> 1\u001b[0m \u001b[43mam\u001b[49m\u001b[38;5;241;43m.\u001b[39;49m\u001b[43mpredCorrelation\u001b[49m\u001b[43m(\u001b[49m\u001b[43m(\u001b[49m\u001b[43mem_model_manager_bin\u001b[49m\u001b[43m,\u001b[49m\u001b[43m \u001b[49m\u001b[43mcad_model_manager_bin\u001b[49m\u001b[43m)\u001b[49m\u001b[43m,\u001b[49m\u001b[43m \u001b[49m\u001b[43mlabel_type\u001b[49m\u001b[38;5;241;43m=\u001b[39;49m\u001b[38;5;124;43m'\u001b[39;49m\u001b[38;5;124;43mbinary\u001b[39;49m\u001b[38;5;124;43m'\u001b[39;49m\u001b[43m)\u001b[49m\n",
      "File \u001b[0;32m~/MultiModalDeepFake/packages/AnalysisManager.py:21\u001b[0m, in \u001b[0;36mpredCorrelation\u001b[0;34m(model_managers, label_type)\u001b[0m\n\u001b[1;32m     18\u001b[0m matrix_1 \u001b[38;5;241m=\u001b[39m model_managers[\u001b[38;5;241m0\u001b[39m]\u001b[38;5;241m.\u001b[39my_prob\n\u001b[1;32m     19\u001b[0m matrix_2 \u001b[38;5;241m=\u001b[39m model_managers[\u001b[38;5;241m1\u001b[39m]\u001b[38;5;241m.\u001b[39my_prob\n\u001b[0;32m---> 21\u001b[0m corr_coef \u001b[38;5;241m=\u001b[39m \u001b[43mnp\u001b[49m\u001b[38;5;241;43m.\u001b[39;49m\u001b[43mcorrcoef\u001b[49m\u001b[43m(\u001b[49m\u001b[43mmatrix_1\u001b[49m\u001b[38;5;241;43m.\u001b[39;49m\u001b[43mT\u001b[49m\u001b[43m,\u001b[49m\u001b[43m \u001b[49m\u001b[43mmatrix_2\u001b[49m\u001b[38;5;241;43m.\u001b[39;49m\u001b[43mT\u001b[49m\u001b[43m)\u001b[49m\n\u001b[1;32m     23\u001b[0m idx_ar \u001b[38;5;241m=\u001b[39m np\u001b[38;5;241m.\u001b[39marange(matrix_1\u001b[38;5;241m.\u001b[39mshape[\u001b[38;5;241m1\u001b[39m], \u001b[38;5;241m2\u001b[39m\u001b[38;5;241m*\u001b[39mmatrix_1\u001b[38;5;241m.\u001b[39mshape[\u001b[38;5;241m1\u001b[39m]\u001b[38;5;241m-\u001b[39m\u001b[38;5;241m1\u001b[39m, \u001b[38;5;241m1\u001b[39m)\n\u001b[1;32m     24\u001b[0m idx_ar \u001b[38;5;241m=\u001b[39m idx_ar\u001b[38;5;241m.\u001b[39mreshape(idx_ar\u001b[38;5;241m.\u001b[39mshape[\u001b[38;5;241m0\u001b[39m], \u001b[38;5;241m-\u001b[39m\u001b[38;5;241m1\u001b[39m)\n",
      "File \u001b[0;32m<__array_function__ internals>:180\u001b[0m, in \u001b[0;36mcorrcoef\u001b[0;34m(*args, **kwargs)\u001b[0m\n",
      "File \u001b[0;32m~/.local/lib/python3.8/site-packages/numpy/lib/function_base.py:2845\u001b[0m, in \u001b[0;36mcorrcoef\u001b[0;34m(x, y, rowvar, bias, ddof, dtype)\u001b[0m\n\u001b[1;32m   2841\u001b[0m \u001b[38;5;28;01mif\u001b[39;00m bias \u001b[38;5;129;01mis\u001b[39;00m \u001b[38;5;129;01mnot\u001b[39;00m np\u001b[38;5;241m.\u001b[39m_NoValue \u001b[38;5;129;01mor\u001b[39;00m ddof \u001b[38;5;129;01mis\u001b[39;00m \u001b[38;5;129;01mnot\u001b[39;00m np\u001b[38;5;241m.\u001b[39m_NoValue:\n\u001b[1;32m   2842\u001b[0m     \u001b[38;5;66;03m# 2015-03-15, 1.10\u001b[39;00m\n\u001b[1;32m   2843\u001b[0m     warnings\u001b[38;5;241m.\u001b[39mwarn(\u001b[38;5;124m'\u001b[39m\u001b[38;5;124mbias and ddof have no effect and are deprecated\u001b[39m\u001b[38;5;124m'\u001b[39m,\n\u001b[1;32m   2844\u001b[0m                   \u001b[38;5;167;01mDeprecationWarning\u001b[39;00m, stacklevel\u001b[38;5;241m=\u001b[39m\u001b[38;5;241m3\u001b[39m)\n\u001b[0;32m-> 2845\u001b[0m c \u001b[38;5;241m=\u001b[39m \u001b[43mcov\u001b[49m\u001b[43m(\u001b[49m\u001b[43mx\u001b[49m\u001b[43m,\u001b[49m\u001b[43m \u001b[49m\u001b[43my\u001b[49m\u001b[43m,\u001b[49m\u001b[43m \u001b[49m\u001b[43mrowvar\u001b[49m\u001b[43m,\u001b[49m\u001b[43m \u001b[49m\u001b[43mdtype\u001b[49m\u001b[38;5;241;43m=\u001b[39;49m\u001b[43mdtype\u001b[49m\u001b[43m)\u001b[49m\n\u001b[1;32m   2846\u001b[0m \u001b[38;5;28;01mtry\u001b[39;00m:\n\u001b[1;32m   2847\u001b[0m     d \u001b[38;5;241m=\u001b[39m diag(c)\n",
      "File \u001b[0;32m<__array_function__ internals>:180\u001b[0m, in \u001b[0;36mcov\u001b[0;34m(*args, **kwargs)\u001b[0m\n",
      "File \u001b[0;32m~/.local/lib/python3.8/site-packages/numpy/lib/function_base.py:2639\u001b[0m, in \u001b[0;36mcov\u001b[0;34m(m, y, rowvar, bias, ddof, fweights, aweights, dtype)\u001b[0m\n\u001b[1;32m   2637\u001b[0m     \u001b[38;5;28;01mif\u001b[39;00m \u001b[38;5;129;01mnot\u001b[39;00m rowvar \u001b[38;5;129;01mand\u001b[39;00m y\u001b[38;5;241m.\u001b[39mshape[\u001b[38;5;241m0\u001b[39m] \u001b[38;5;241m!=\u001b[39m \u001b[38;5;241m1\u001b[39m:\n\u001b[1;32m   2638\u001b[0m         y \u001b[38;5;241m=\u001b[39m y\u001b[38;5;241m.\u001b[39mT\n\u001b[0;32m-> 2639\u001b[0m     X \u001b[38;5;241m=\u001b[39m \u001b[43mnp\u001b[49m\u001b[38;5;241;43m.\u001b[39;49m\u001b[43mconcatenate\u001b[49m\u001b[43m(\u001b[49m\u001b[43m(\u001b[49m\u001b[43mX\u001b[49m\u001b[43m,\u001b[49m\u001b[43m \u001b[49m\u001b[43my\u001b[49m\u001b[43m)\u001b[49m\u001b[43m,\u001b[49m\u001b[43m \u001b[49m\u001b[43maxis\u001b[49m\u001b[38;5;241;43m=\u001b[39;49m\u001b[38;5;241;43m0\u001b[39;49m\u001b[43m)\u001b[49m\n\u001b[1;32m   2641\u001b[0m \u001b[38;5;28;01mif\u001b[39;00m ddof \u001b[38;5;129;01mis\u001b[39;00m \u001b[38;5;28;01mNone\u001b[39;00m:\n\u001b[1;32m   2642\u001b[0m     \u001b[38;5;28;01mif\u001b[39;00m bias \u001b[38;5;241m==\u001b[39m \u001b[38;5;241m0\u001b[39m:\n",
      "File \u001b[0;32m<__array_function__ internals>:180\u001b[0m, in \u001b[0;36mconcatenate\u001b[0;34m(*args, **kwargs)\u001b[0m\n",
      "\u001b[0;31mValueError\u001b[0m: all the input array dimensions for the concatenation axis must match exactly, but along dimension 1, the array at index 0 has size 1046 and the array at index 1 has size 1045"
     ]
    }
   ],
   "source": [
    "am.predCorrelation((em_model_manager_bin, cad_model_manager_bin), label_type='binary')"
   ]
  },
  {
   "cell_type": "code",
   "execution_count": 14,
   "id": "4546cdf3-e9ab-4677-bfc5-2c6702a84ad0",
   "metadata": {},
   "outputs": [
    {
     "name": "stdout",
     "output_type": "stream",
     "text": [
      "Multi-Class Performance\n",
      "---------------------------\n",
      "Embeddings Accuracy: 0.9990439770554493\n",
      "Cadence Accuracy: 0.570334928229665\n",
      "Embeddings Accuracy: 0.20646261802843452\n",
      "Cadence Accuracy: 0.6734536823903307\n"
     ]
    }
   ],
   "source": [
    "print('Multi-Class Performance')\n",
    "print('---------------------------')\n",
    "print(f'Embeddings Accuracy: {em_model_manager_multi.accuracy}')\n",
    "print(f'Cadence Accuracy: {cad_model_manager_multi.accuracy}')\n",
    "print(f'Embeddings Loss: {em_model_manager_multi.log_loss_value}')\n",
    "print(f'Cadence Loss: {cad_model_manager_multi.log_loss_value}')"
   ]
  },
  {
   "cell_type": "code",
   "execution_count": null,
   "id": "d65f06c3-532b-4897-9f87-76edfb0a4fee",
   "metadata": {},
   "outputs": [],
   "source": [
    "am.predCorrelation((em_model_manager_multi, cad_model_manager_multi), label_type='multiclass')"
   ]
  }
 ],
 "metadata": {
  "kernelspec": {
   "display_name": "nemo",
   "language": "python",
   "name": "nemo"
  },
  "language_info": {
   "codemirror_mode": {
    "name": "ipython",
    "version": 3
   },
   "file_extension": ".py",
   "mimetype": "text/x-python",
   "name": "python",
   "nbconvert_exporter": "python",
   "pygments_lexer": "ipython3",
   "version": "3.8.0"
  }
 },
 "nbformat": 4,
 "nbformat_minor": 5
}
