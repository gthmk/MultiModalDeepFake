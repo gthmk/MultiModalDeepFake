{
 "cells": [
  {
   "cell_type": "markdown",
   "metadata": {},
   "source": [
    "# Testing OpenSmile Classes\n",
    "\n",
    "Draft 1 of pipeline for creating a df, loading the generated openSMILE features, and running feature selection."
   ]
  },
  {
   "cell_type": "code",
   "execution_count": 34,
   "metadata": {},
   "outputs": [],
   "source": [
    "import pandas as pd\n",
    "import numpy as np\n",
    "import sys\n",
    "import os\n",
    "import json\n",
    "from tqdm import tqdm\n",
    "sys.path.append(\"/home/ubuntu/MultiModalDeepFake\")\n",
    "from packages.LJDataLoader import LJDataLoader\n",
    "from packages.SmileFeatureLoader import smileFeatureLoader\n",
    "from packages.SmileFeatureSelector import smileFeatureSelectorBruteForce, smileFeatureSelectFromModel, smileUnivariateFeatureSelector\n",
    "from sklearn.linear_model import LogisticRegression\n",
    "from sklearn.ensemble import RandomForestClassifier\n",
    "import sklearn.feature_selection as fs"
   ]
  },
  {
   "cell_type": "markdown",
   "metadata": {
    "tags": []
   },
   "source": [
    "## Part 1: Creating the dataframe with the train-dev-test split"
   ]
  },
  {
   "cell_type": "code",
   "execution_count": 2,
   "metadata": {},
   "outputs": [],
   "source": [
    "#load LJ 16khz data\n",
    "file_path = '/home/ubuntu/data/wavefake_data/LJ_metadata_16000KHz.csv'\n",
    "loader = LJDataLoader(data_path=file_path)"
   ]
  },
  {
   "cell_type": "code",
   "execution_count": 3,
   "metadata": {},
   "outputs": [
    {
     "name": "stdout",
     "output_type": "stream",
     "text": [
      "13055\n",
      "7833 10444\n"
     ]
    }
   ],
   "source": [
    "#split data into train, dev, test\n",
    "loader.splitData()"
   ]
  },
  {
   "cell_type": "code",
   "execution_count": 4,
   "metadata": {},
   "outputs": [
    {
     "data": {
      "text/plain": [
       "Index(['index', 'Unnamed: 0', 'id', 'Main_ID', 'Secondary_ID', 'Real',\n",
       "       'Full_Band_MelGan', 'HifiGan', 'MelGan', 'MelGanLarge',\n",
       "       'Multi_Band_MelGan', 'Parallel_WaveGan', 'Waveglow', 'ElevenLabs',\n",
       "       'UberDuck', 'transcript_1', 'transcript_2', 'type'],\n",
       "      dtype='object')"
      ]
     },
     "execution_count": 4,
     "metadata": {},
     "output_type": "execute_result"
    }
   ],
   "source": [
    "loader.metadata.columns"
   ]
  },
  {
   "cell_type": "code",
   "execution_count": 5,
   "metadata": {},
   "outputs": [
    {
     "data": {
      "text/plain": [
       "['Real',\n",
       " 'Full_Band_MelGan',\n",
       " 'HifiGan',\n",
       " 'MelGan',\n",
       " 'MelGanLarge',\n",
       " 'Multi_Band_MelGan',\n",
       " 'Parallel_WaveGan',\n",
       " 'Waveglow',\n",
       " 'ElevenLabs',\n",
       " 'UberDuck']"
      ]
     },
     "execution_count": 5,
     "metadata": {},
     "output_type": "execute_result"
    }
   ],
   "source": [
    "#get the column names\n",
    "cols = list(loader.metadata.columns[5:15])\n",
    "cols"
   ]
  },
  {
   "cell_type": "code",
   "execution_count": 6,
   "metadata": {},
   "outputs": [],
   "source": [
    "#generate the dataframe\n",
    "#single_id entry=True breaks\n",
    "df = loader.generateFinalDataFrame(real_col=cols[0], fake_cols=cols[1:])"
   ]
  },
  {
   "cell_type": "code",
   "execution_count": 7,
   "metadata": {},
   "outputs": [
    {
     "data": {
      "text/plain": [
       "(130550, 6)"
      ]
     },
     "execution_count": 7,
     "metadata": {},
     "output_type": "execute_result"
    }
   ],
   "source": [
    "df.shape"
   ]
  },
  {
   "cell_type": "code",
   "execution_count": 8,
   "metadata": {},
   "outputs": [
    {
     "data": {
      "text/html": [
       "<div>\n",
       "<style scoped>\n",
       "    .dataframe tbody tr th:only-of-type {\n",
       "        vertical-align: middle;\n",
       "    }\n",
       "\n",
       "    .dataframe tbody tr th {\n",
       "        vertical-align: top;\n",
       "    }\n",
       "\n",
       "    .dataframe thead th {\n",
       "        text-align: right;\n",
       "    }\n",
       "</style>\n",
       "<table border=\"1\" class=\"dataframe\">\n",
       "  <thead>\n",
       "    <tr style=\"text-align: right;\">\n",
       "      <th></th>\n",
       "      <th>type</th>\n",
       "      <th>id</th>\n",
       "      <th>architecture</th>\n",
       "      <th>path</th>\n",
       "      <th>label</th>\n",
       "      <th>multiclass_label</th>\n",
       "    </tr>\n",
       "  </thead>\n",
       "  <tbody>\n",
       "    <tr>\n",
       "      <th>0</th>\n",
       "      <td>train</td>\n",
       "      <td>LJ010-0214</td>\n",
       "      <td>Real</td>\n",
       "      <td>/home/ubuntu/data/wavefake_data/LJSpeech_1.1/w...</td>\n",
       "      <td>0</td>\n",
       "      <td>0</td>\n",
       "    </tr>\n",
       "    <tr>\n",
       "      <th>1</th>\n",
       "      <td>train</td>\n",
       "      <td>LJ014-0253</td>\n",
       "      <td>Real</td>\n",
       "      <td>/home/ubuntu/data/wavefake_data/LJSpeech_1.1/w...</td>\n",
       "      <td>0</td>\n",
       "      <td>0</td>\n",
       "    </tr>\n",
       "    <tr>\n",
       "      <th>2</th>\n",
       "      <td>train</td>\n",
       "      <td>LJ005-0168</td>\n",
       "      <td>Real</td>\n",
       "      <td>/home/ubuntu/data/wavefake_data/LJSpeech_1.1/w...</td>\n",
       "      <td>0</td>\n",
       "      <td>0</td>\n",
       "    </tr>\n",
       "    <tr>\n",
       "      <th>3</th>\n",
       "      <td>train</td>\n",
       "      <td>LJ011-0264</td>\n",
       "      <td>Real</td>\n",
       "      <td>/home/ubuntu/data/wavefake_data/LJSpeech_1.1/w...</td>\n",
       "      <td>0</td>\n",
       "      <td>0</td>\n",
       "    </tr>\n",
       "    <tr>\n",
       "      <th>4</th>\n",
       "      <td>train</td>\n",
       "      <td>LJ017-0067</td>\n",
       "      <td>Real</td>\n",
       "      <td>/home/ubuntu/data/wavefake_data/LJSpeech_1.1/w...</td>\n",
       "      <td>0</td>\n",
       "      <td>0</td>\n",
       "    </tr>\n",
       "  </tbody>\n",
       "</table>\n",
       "</div>"
      ],
      "text/plain": [
       "    type          id architecture  \\\n",
       "0  train  LJ010-0214         Real   \n",
       "1  train  LJ014-0253         Real   \n",
       "2  train  LJ005-0168         Real   \n",
       "3  train  LJ011-0264         Real   \n",
       "4  train  LJ017-0067         Real   \n",
       "\n",
       "                                                path  label  multiclass_label  \n",
       "0  /home/ubuntu/data/wavefake_data/LJSpeech_1.1/w...      0                 0  \n",
       "1  /home/ubuntu/data/wavefake_data/LJSpeech_1.1/w...      0                 0  \n",
       "2  /home/ubuntu/data/wavefake_data/LJSpeech_1.1/w...      0                 0  \n",
       "3  /home/ubuntu/data/wavefake_data/LJSpeech_1.1/w...      0                 0  \n",
       "4  /home/ubuntu/data/wavefake_data/LJSpeech_1.1/w...      0                 0  "
      ]
     },
     "execution_count": 8,
     "metadata": {},
     "output_type": "execute_result"
    }
   ],
   "source": [
    "df.head()"
   ]
  },
  {
   "cell_type": "code",
   "execution_count": 9,
   "metadata": {},
   "outputs": [],
   "source": [
    "# sample 10000 rows from df for testing with balanced real and fake\n",
    "#sampled_df = df.groupby('B', group_keys=False).apply(lambda x: x.sample(n=min_group_size))\n",
    "\n",
    "#temporary solution for testing\n",
    "\n",
    "test_df = df.groupby('label', group_keys=False).apply(lambda x: x.sample(n=500))"
   ]
  },
  {
   "cell_type": "code",
   "execution_count": 10,
   "metadata": {},
   "outputs": [
    {
     "data": {
      "text/plain": [
       "train    601\n",
       "test     202\n",
       "dev      197\n",
       "Name: type, dtype: int64"
      ]
     },
     "execution_count": 10,
     "metadata": {},
     "output_type": "execute_result"
    }
   ],
   "source": [
    "#check balance\n",
    "test_df.type.value_counts()"
   ]
  },
  {
   "cell_type": "code",
   "execution_count": 11,
   "metadata": {},
   "outputs": [
    {
     "data": {
      "text/plain": [
       "Real                 500\n",
       "Multi_Band_MelGan     67\n",
       "MelGanLarge           65\n",
       "ElevenLabs            59\n",
       "Waveglow              58\n",
       "UberDuck              57\n",
       "MelGan                55\n",
       "Full_Band_MelGan      51\n",
       "HifiGan               51\n",
       "Parallel_WaveGan      37\n",
       "Name: architecture, dtype: int64"
      ]
     },
     "execution_count": 11,
     "metadata": {},
     "output_type": "execute_result"
    }
   ],
   "source": [
    "test_df.architecture.value_counts()"
   ]
  },
  {
   "cell_type": "code",
   "execution_count": 12,
   "metadata": {},
   "outputs": [
    {
     "data": {
      "text/plain": [
       "0    500\n",
       "1    500\n",
       "Name: label, dtype: int64"
      ]
     },
     "execution_count": 12,
     "metadata": {},
     "output_type": "execute_result"
    }
   ],
   "source": [
    "test_df.label.value_counts()"
   ]
  },
  {
   "cell_type": "markdown",
   "metadata": {
    "jp-MarkdownHeadingCollapsed": true,
    "tags": []
   },
   "source": [
    "## Side: Creating/Updating File Mappings JSON:\n",
    "\n",
    "This JSON has the path to the collection of wavfiles as the key and the corresponding smile features as values. \n",
    "\n",
    "For now, each time a new set of wav file are generated for a new provider/architecture - they should be stored in a separate unique folderpath. The `SmileFeatureGenerator` class will convert these to the csv file that can then be used to create a new JSON entry. "
   ]
  },
  {
   "cell_type": "code",
   "execution_count": 13,
   "metadata": {},
   "outputs": [],
   "source": [
    "file_mapping = dict()\n",
    "\n",
    "#biden real\n",
    "file_mapping['/home/ubuntu/data/world-leaders-dataset/WavFiles/biden_wav_audio/44KHz'] = '/home/ubuntu/data/OpenSmile/04-2023-OSF-feature-csvs/OSF-2023-04-01-world-leaders-dataset-WavFiles-biden_wav_audio-44KHz.csv'\n",
    "file_mapping['/home/ubuntu/data/world-leaders-dataset/WavFiles/biden_wav_audio/16KHz'] = '/home/ubuntu/data/OpenSmile/04-2023-OSF-feature-csvs/OSF-2023-04-01-world-leaders-dataset-WavFiles-biden_wav_audio-16KHz.csv'\n",
    "\n",
    "#biden eleven labs\n",
    "file_mapping['/home/ubuntu/data/world-leaders-dataset/11LabsDeepFakes/Biden/44Khz'] = '/home/ubuntu/data/OpenSmile/04-2023-OSF-feature-csvs/OSF-2023-04-01-world-leaders-dataset-11LabsDeepFakes-Biden-44Khz.csv'\n",
    "file_mapping['/home/ubuntu/data/world-leaders-dataset/11LabsDeepFakes/Biden/16Khz'] = '/home/ubuntu/data/OpenSmile/04-2023-OSF-feature-csvs/OSF-2023-04-01-world-leaders-dataset-11LabsDeepFakes-Biden-16Khz.csv'\n",
    "\n",
    "#biden in the wild\n",
    "file_mapping['/home/ubuntu/data/InTheWildFakes/Biden/Original'] = '/home/ubuntu/data/OpenSmile/04-2023-OSF-feature-csvs/OSF-2023-04-01-InTheWildFakes-Biden-Original.csv'\n",
    "file_mapping['/home/ubuntu/data/InTheWildFakes/Biden/16000KHz'] = '/home/ubuntu/data/OpenSmile/04-2023-OSF-feature-csvs/OSF-2023-04-01-InTheWildFakes-Biden-16000KHz.csv'\n",
    "\n",
    "#ljspeech real\n",
    "file_mapping['/home/ubuntu/data/wavefake_data/LJSpeech_1.1/wavs/Original'] = '/home/ubuntu/data/OpenSmile/04-2023-OSF-feature-csvs/OSF-2023-04-01-wavefake_data-LJSpeech_1.1-wavs-Original.csv'\n",
    "file_mapping['/home/ubuntu/data/wavefake_data/LJSpeech_1.1/wavs/16000KHz'] = '/home/ubuntu/data/OpenSmile/04-2023-OSF-feature-csvs/OSF-2023-04-01-wavefake_data-LJSpeech_1.1-wavs-16000KHz.csv'\n",
    "\n",
    "#ljspeech eleven labs\n",
    "file_mapping['/home/ubuntu/data/wavefake_data/generated_audio/ljspeech_elevenlabs/Original'] = '/home/ubuntu/data/OpenSmile/04-2023-OSF-feature-csvs/OSF-2023-04-01-wavefake_data-generated_audio-ljspeech_elevenlabs-Original.csv'\n",
    "file_mapping['/home/ubuntu/data/wavefake_data/generated_audio/ljspeech_elevenlabs/16000KHz'] = '/home/ubuntu/data/OpenSmile/04-2023-OSF-feature-csvs/OSF-2023-04-01-wavefake_data-generated_audio-ljspeech_elevenlabs-16000KHz.csv'\n",
    "\n",
    "#ljspeech uberduck\n",
    "file_mapping['/home/ubuntu/data/wavefake_data/generated_audio/ljspeech_uberduck/Original'] = '/home/ubuntu/data/OpenSmile/04-2023-OSF-feature-csvs/OSF-2023-04-06-wavefake_data-generated_audio-ljspeech_uberduck-Original.csv'\n",
    "file_mapping['/home/ubuntu/data/wavefake_data/generated_audio/ljspeech_uberduck/16000KHz'] = '/home/ubuntu/data/OpenSmile/04-2023-OSF-feature-csvs/OSF-2023-04-06-wavefake_data-generated_audio-ljspeech_uberduck-16000KHz.csv'\n",
    "\n",
    "#ljspeech melgan\n",
    "file_mapping['/home/ubuntu/data/wavefake_data/generated_audio/ljspeech_melgan/Original'] = '/home/ubuntu/data/OpenSmile/04-2023-OSF-feature-csvs/OSF-2023-04-01-wavefake_data-generated_audio-ljspeech_melgan-Original.csv'\n",
    "file_mapping['/home/ubuntu/data/wavefake_data/generated_audio/ljspeech_melgan/16000KHz'] = '/home/ubuntu/data/OpenSmile/04-2023-OSF-feature-csvs/OSF-2023-04-01-wavefake_data-generated_audio-ljspeech_melgan-16000KHz.csv'\n",
    "\n",
    "#ljspeech melgan large\n",
    "file_mapping['/home/ubuntu/data/wavefake_data/generated_audio/ljspeech_melgan_large/Original'] = '/home/ubuntu/data/OpenSmile/04-2023-OSF-feature-csvs/OSF-2023-04-01-wavefake_data-generated_audio-ljspeech_melgan_large-Original.csv'\n",
    "file_mapping['/home/ubuntu/data/wavefake_data/generated_audio/ljspeech_melgan_large/16000KHz'] = '/home/ubuntu/data/OpenSmile/04-2023-OSF-feature-csvs/OSF-2023-04-01-wavefake_data-generated_audio-ljspeech_melgan_large-16000KHz.csv'\n",
    "\n",
    "#ljspeech multi band melgan\n",
    "file_mapping['/home/ubuntu/data/wavefake_data/generated_audio/ljspeech_multi_band_melgan/Original'] = '/home/ubuntu/data/OpenSmile/04-2023-OSF-feature-csvs/OSF-2023-04-01-wavefake_data-generated_audio-ljspeech_multi_band_melgan-Original.csv'\n",
    "file_mapping['/home/ubuntu/data/wavefake_data/generated_audio/ljspeech_multi_band_melgan/16000KHz'] = '/home/ubuntu/data/OpenSmile/04-2023-OSF-feature-csvs/OSF-2023-04-01-wavefake_data-generated_audio-ljspeech_multi_band_melgan-16000KHz.csv'\n",
    "\n",
    "#ljspeech full band melgan\n",
    "file_mapping['/home/ubuntu/data/wavefake_data/generated_audio/ljspeech_full_band_melgan/Original'] = '/home/ubuntu/data/OpenSmile/04-2023-OSF-feature-csvs/OSF-2023-04-01-wavefake_data-generated_audio-ljspeech_full_band_melgan-Original.csv'\n",
    "file_mapping['/home/ubuntu/data/wavefake_data/generated_audio/ljspeech_full_band_melgan/16000KHz'] = '/home/ubuntu/data/OpenSmile/04-2023-OSF-feature-csvs/OSF-2023-04-01-wavefake_data-generated_audio-ljspeech_full_band_melgan-16000KHz.csv'\n",
    "\n",
    "#ljspeech hifiGAN\n",
    "file_mapping['/home/ubuntu/data/wavefake_data/generated_audio/ljspeech_hifiGAN/Original'] = '/home/ubuntu/data/OpenSmile/04-2023-OSF-feature-csvs/OSF-2023-04-01-wavefake_data-generated_audio-ljspeech_hifiGAN-Original.csv'\n",
    "file_mapping['/home/ubuntu/data/wavefake_data/generated_audio/ljspeech_hifiGAN/16000KHz'] = '/home/ubuntu/data/OpenSmile/04-2023-OSF-feature-csvs/OSF-2023-04-01-wavefake_data-generated_audio-ljspeech_hifiGAN-16000KHz.csv'\n",
    "\n",
    "#ljspeech parallel wavegan\n",
    "file_mapping['/home/ubuntu/data/wavefake_data/generated_audio/ljspeech_parallel_wavegan/Original'] = '/home/ubuntu/data/OpenSmile/04-2023-OSF-feature-csvs/OSF-2023-04-01-wavefake_data-generated_audio-ljspeech_parallel_wavegan-Original.csv'\n",
    "file_mapping['/home/ubuntu/data/wavefake_data/generated_audio/ljspeech_parallel_wavegan/16000KHz'] = '/home/ubuntu/data/OpenSmile/04-2023-OSF-feature-csvs/OSF-2023-04-01-wavefake_data-generated_audio-ljspeech_parallel_wavegan-16000KHz.csv'\n",
    "\n",
    "#ljspeech waveglow\n",
    "file_mapping['/home/ubuntu/data/wavefake_data/generated_audio/ljspeech_waveglow/Original'] = '/home/ubuntu/data/OpenSmile/04-2023-OSF-feature-csvs/OSF-2023-04-01-wavefake_data-generated_audio-ljspeech_waveglow-Original.csv'\n",
    "file_mapping['/home/ubuntu/data/wavefake_data/generated_audio/ljspeech_waveglow/16000KHz'] = '/home/ubuntu/data/OpenSmile/04-2023-OSF-feature-csvs/OSF-2023-04-01-wavefake_data-generated_audio-ljspeech_waveglow-16000KHz.csv'\n",
    "\n",
    "#file_mapping"
   ]
  },
  {
   "cell_type": "code",
   "execution_count": 14,
   "metadata": {},
   "outputs": [],
   "source": [
    "cellEnabled=0\n",
    "\n",
    "if cellEnabled:\n",
    "\n",
    "    file_mappings = '/home/ubuntu/data/OpenSmile/04-2023-OSF-feature-csvs/' + 'file_mappings.json' \n",
    "\n",
    "    with open(file_mappings, \"w\") as json_file:\n",
    "        json.dump(file_mapping, json_file, indent=4)"
   ]
  },
  {
   "cell_type": "markdown",
   "metadata": {
    "jp-MarkdownHeadingCollapsed": true,
    "tags": []
   },
   "source": [
    "## Part 2: Loading the openSMILE features\n",
    "\n",
    "The openSMILE features are generated and stored in multiple `csv` files here - `data/OpenSmile/04-2023-OSF-feature-csvs`. This folder also stores the JSON file"
   ]
  },
  {
   "cell_type": "code",
   "execution_count": 15,
   "metadata": {},
   "outputs": [
    {
     "name": "stderr",
     "output_type": "stream",
     "text": [
      "100%|██████████| 10/10 [02:02<00:00, 12.21s/it]\n"
     ]
    }
   ],
   "source": [
    "#pass the test df and the smileFeatureLoader object does the merging\n",
    "smFeatLoader = smileFeatureLoader(test_df)"
   ]
  },
  {
   "cell_type": "code",
   "execution_count": 16,
   "metadata": {},
   "outputs": [],
   "source": [
    "#get the df for feature selection\n",
    "fs_df = smFeatLoader.return_merged_df()"
   ]
  },
  {
   "cell_type": "code",
   "execution_count": 17,
   "metadata": {},
   "outputs": [
    {
     "data": {
      "text/plain": [
       "(1000, 6380)"
      ]
     },
     "execution_count": 17,
     "metadata": {},
     "output_type": "execute_result"
    }
   ],
   "source": [
    "fs_df.shape"
   ]
  },
  {
   "cell_type": "code",
   "execution_count": 18,
   "metadata": {},
   "outputs": [
    {
     "data": {
      "text/html": [
       "<div>\n",
       "<style scoped>\n",
       "    .dataframe tbody tr th:only-of-type {\n",
       "        vertical-align: middle;\n",
       "    }\n",
       "\n",
       "    .dataframe tbody tr th {\n",
       "        vertical-align: top;\n",
       "    }\n",
       "\n",
       "    .dataframe thead th {\n",
       "        text-align: right;\n",
       "    }\n",
       "</style>\n",
       "<table border=\"1\" class=\"dataframe\">\n",
       "  <thead>\n",
       "    <tr style=\"text-align: right;\">\n",
       "      <th></th>\n",
       "      <th>type</th>\n",
       "      <th>id</th>\n",
       "      <th>architecture</th>\n",
       "      <th>path</th>\n",
       "      <th>label</th>\n",
       "      <th>multiclass_label</th>\n",
       "      <th>duration(seconds)</th>\n",
       "      <th>audspec_lengthL1norm_sma_range</th>\n",
       "      <th>audspec_lengthL1norm_sma_maxPos</th>\n",
       "      <th>audspec_lengthL1norm_sma_minPos</th>\n",
       "      <th>...</th>\n",
       "      <th>mfcc_sma_de[14]_peakRangeAbs</th>\n",
       "      <th>mfcc_sma_de[14]_peakRangeRel</th>\n",
       "      <th>mfcc_sma_de[14]_peakMeanAbs</th>\n",
       "      <th>mfcc_sma_de[14]_peakMeanMeanDist</th>\n",
       "      <th>mfcc_sma_de[14]_peakMeanRel</th>\n",
       "      <th>mfcc_sma_de[14]_minRangeRel</th>\n",
       "      <th>mfcc_sma_de[14]_meanRisingSlope</th>\n",
       "      <th>mfcc_sma_de[14]_stddevRisingSlope</th>\n",
       "      <th>mfcc_sma_de[14]_meanFallingSlope</th>\n",
       "      <th>mfcc_sma_de[14]_stddevFallingSlope</th>\n",
       "    </tr>\n",
       "  </thead>\n",
       "  <tbody>\n",
       "    <tr>\n",
       "      <th>0</th>\n",
       "      <td>test</td>\n",
       "      <td>LJ013-0259</td>\n",
       "      <td>Real</td>\n",
       "      <td>/home/ubuntu/data/wavefake_data/LJSpeech_1.1/w...</td>\n",
       "      <td>0</td>\n",
       "      <td>0</td>\n",
       "      <td>4.302</td>\n",
       "      <td>1.496595</td>\n",
       "      <td>0.042553</td>\n",
       "      <td>0.468085</td>\n",
       "      <td>...</td>\n",
       "      <td>7.460823</td>\n",
       "      <td>0.592091</td>\n",
       "      <td>2.315921</td>\n",
       "      <td>2.339794</td>\n",
       "      <td>-19.323751</td>\n",
       "      <td>0.551804</td>\n",
       "      <td>105.872765</td>\n",
       "      <td>61.772340</td>\n",
       "      <td>113.69934</td>\n",
       "      <td>64.144070</td>\n",
       "    </tr>\n",
       "    <tr>\n",
       "      <th>1</th>\n",
       "      <td>dev</td>\n",
       "      <td>LJ012-0263</td>\n",
       "      <td>Real</td>\n",
       "      <td>/home/ubuntu/data/wavefake_data/LJSpeech_1.1/w...</td>\n",
       "      <td>0</td>\n",
       "      <td>0</td>\n",
       "      <td>4.651</td>\n",
       "      <td>1.563841</td>\n",
       "      <td>0.768559</td>\n",
       "      <td>0.578603</td>\n",
       "      <td>...</td>\n",
       "      <td>9.612248</td>\n",
       "      <td>0.600741</td>\n",
       "      <td>3.082802</td>\n",
       "      <td>3.058858</td>\n",
       "      <td>19.632143</td>\n",
       "      <td>0.509521</td>\n",
       "      <td>153.061510</td>\n",
       "      <td>64.131256</td>\n",
       "      <td>144.06512</td>\n",
       "      <td>78.137570</td>\n",
       "    </tr>\n",
       "    <tr>\n",
       "      <th>2</th>\n",
       "      <td>train</td>\n",
       "      <td>LJ028-0354</td>\n",
       "      <td>Real</td>\n",
       "      <td>/home/ubuntu/data/wavefake_data/LJSpeech_1.1/w...</td>\n",
       "      <td>0</td>\n",
       "      <td>0</td>\n",
       "      <td>8.366</td>\n",
       "      <td>2.199751</td>\n",
       "      <td>0.375151</td>\n",
       "      <td>0.322075</td>\n",
       "      <td>...</td>\n",
       "      <td>9.524864</td>\n",
       "      <td>0.578718</td>\n",
       "      <td>2.724679</td>\n",
       "      <td>2.711402</td>\n",
       "      <td>19.890615</td>\n",
       "      <td>0.501133</td>\n",
       "      <td>127.369700</td>\n",
       "      <td>67.013660</td>\n",
       "      <td>119.74008</td>\n",
       "      <td>60.782593</td>\n",
       "    </tr>\n",
       "    <tr>\n",
       "      <th>3</th>\n",
       "      <td>train</td>\n",
       "      <td>LJ016-0167</td>\n",
       "      <td>Real</td>\n",
       "      <td>/home/ubuntu/data/wavefake_data/LJSpeech_1.1/w...</td>\n",
       "      <td>0</td>\n",
       "      <td>0</td>\n",
       "      <td>4.511</td>\n",
       "      <td>1.935269</td>\n",
       "      <td>0.022523</td>\n",
       "      <td>0.184685</td>\n",
       "      <td>...</td>\n",
       "      <td>7.462513</td>\n",
       "      <td>0.437238</td>\n",
       "      <td>2.635641</td>\n",
       "      <td>2.659336</td>\n",
       "      <td>-19.490585</td>\n",
       "      <td>0.571664</td>\n",
       "      <td>123.250435</td>\n",
       "      <td>77.503330</td>\n",
       "      <td>106.04592</td>\n",
       "      <td>61.903313</td>\n",
       "    </tr>\n",
       "    <tr>\n",
       "      <th>4</th>\n",
       "      <td>train</td>\n",
       "      <td>LJ039-0039</td>\n",
       "      <td>Real</td>\n",
       "      <td>/home/ubuntu/data/wavefake_data/LJSpeech_1.1/w...</td>\n",
       "      <td>0</td>\n",
       "      <td>0</td>\n",
       "      <td>5.870</td>\n",
       "      <td>2.389787</td>\n",
       "      <td>0.267241</td>\n",
       "      <td>0.251724</td>\n",
       "      <td>...</td>\n",
       "      <td>8.003578</td>\n",
       "      <td>0.532049</td>\n",
       "      <td>2.905448</td>\n",
       "      <td>2.901232</td>\n",
       "      <td>19.999120</td>\n",
       "      <td>0.460577</td>\n",
       "      <td>133.209290</td>\n",
       "      <td>59.059555</td>\n",
       "      <td>121.85595</td>\n",
       "      <td>56.025913</td>\n",
       "    </tr>\n",
       "  </tbody>\n",
       "</table>\n",
       "<p>5 rows × 6380 columns</p>\n",
       "</div>"
      ],
      "text/plain": [
       "    type          id architecture  \\\n",
       "0   test  LJ013-0259         Real   \n",
       "1    dev  LJ012-0263         Real   \n",
       "2  train  LJ028-0354         Real   \n",
       "3  train  LJ016-0167         Real   \n",
       "4  train  LJ039-0039         Real   \n",
       "\n",
       "                                                path  label  multiclass_label  \\\n",
       "0  /home/ubuntu/data/wavefake_data/LJSpeech_1.1/w...      0                 0   \n",
       "1  /home/ubuntu/data/wavefake_data/LJSpeech_1.1/w...      0                 0   \n",
       "2  /home/ubuntu/data/wavefake_data/LJSpeech_1.1/w...      0                 0   \n",
       "3  /home/ubuntu/data/wavefake_data/LJSpeech_1.1/w...      0                 0   \n",
       "4  /home/ubuntu/data/wavefake_data/LJSpeech_1.1/w...      0                 0   \n",
       "\n",
       "   duration(seconds)  audspec_lengthL1norm_sma_range  \\\n",
       "0              4.302                        1.496595   \n",
       "1              4.651                        1.563841   \n",
       "2              8.366                        2.199751   \n",
       "3              4.511                        1.935269   \n",
       "4              5.870                        2.389787   \n",
       "\n",
       "   audspec_lengthL1norm_sma_maxPos  audspec_lengthL1norm_sma_minPos  ...  \\\n",
       "0                         0.042553                         0.468085  ...   \n",
       "1                         0.768559                         0.578603  ...   \n",
       "2                         0.375151                         0.322075  ...   \n",
       "3                         0.022523                         0.184685  ...   \n",
       "4                         0.267241                         0.251724  ...   \n",
       "\n",
       "   mfcc_sma_de[14]_peakRangeAbs  mfcc_sma_de[14]_peakRangeRel  \\\n",
       "0                      7.460823                      0.592091   \n",
       "1                      9.612248                      0.600741   \n",
       "2                      9.524864                      0.578718   \n",
       "3                      7.462513                      0.437238   \n",
       "4                      8.003578                      0.532049   \n",
       "\n",
       "   mfcc_sma_de[14]_peakMeanAbs  mfcc_sma_de[14]_peakMeanMeanDist  \\\n",
       "0                     2.315921                          2.339794   \n",
       "1                     3.082802                          3.058858   \n",
       "2                     2.724679                          2.711402   \n",
       "3                     2.635641                          2.659336   \n",
       "4                     2.905448                          2.901232   \n",
       "\n",
       "   mfcc_sma_de[14]_peakMeanRel  mfcc_sma_de[14]_minRangeRel  \\\n",
       "0                   -19.323751                     0.551804   \n",
       "1                    19.632143                     0.509521   \n",
       "2                    19.890615                     0.501133   \n",
       "3                   -19.490585                     0.571664   \n",
       "4                    19.999120                     0.460577   \n",
       "\n",
       "   mfcc_sma_de[14]_meanRisingSlope  mfcc_sma_de[14]_stddevRisingSlope  \\\n",
       "0                       105.872765                          61.772340   \n",
       "1                       153.061510                          64.131256   \n",
       "2                       127.369700                          67.013660   \n",
       "3                       123.250435                          77.503330   \n",
       "4                       133.209290                          59.059555   \n",
       "\n",
       "   mfcc_sma_de[14]_meanFallingSlope  mfcc_sma_de[14]_stddevFallingSlope  \n",
       "0                         113.69934                           64.144070  \n",
       "1                         144.06512                           78.137570  \n",
       "2                         119.74008                           60.782593  \n",
       "3                         106.04592                           61.903313  \n",
       "4                         121.85595                           56.025913  \n",
       "\n",
       "[5 rows x 6380 columns]"
      ]
     },
     "execution_count": 18,
     "metadata": {},
     "output_type": "execute_result"
    }
   ],
   "source": [
    "fs_df.head()"
   ]
  },
  {
   "cell_type": "code",
   "execution_count": null,
   "metadata": {},
   "outputs": [],
   "source": []
  },
  {
   "cell_type": "markdown",
   "metadata": {},
   "source": [
    "## Part 3: Running feature selection"
   ]
  },
  {
   "cell_type": "code",
   "execution_count": 19,
   "metadata": {},
   "outputs": [
    {
     "data": {
      "text/plain": [
       "['type',\n",
       " 'id',\n",
       " 'architecture',\n",
       " 'path',\n",
       " 'label',\n",
       " 'multiclass_label',\n",
       " 'duration(seconds)']"
      ]
     },
     "execution_count": 19,
     "metadata": {},
     "output_type": "execute_result"
    }
   ],
   "source": [
    "#get the columns that are not the 6373 features as metadata\n",
    "metadata = list(fs_df.columns[:7])\n",
    "metadata"
   ]
  },
  {
   "cell_type": "markdown",
   "metadata": {
    "jp-MarkdownHeadingCollapsed": true,
    "tags": []
   },
   "source": [
    "### BruteForce feature selection (Buggy and doesn't run):\n",
    "\n",
    "Has an issue due to how architecture is currently set up. Need a mapping between real and fake architectures for the code to run properly. Gautham to discuss further with Romit."
   ]
  },
  {
   "cell_type": "code",
   "execution_count": 20,
   "metadata": {},
   "outputs": [
    {
     "name": "stdout",
     "output_type": "stream",
     "text": [
      "Initializing data...\n",
      "Standardizing features...\n",
      "smileFeatureSelectorBruteForce object initialized.\n",
      "\n"
     ]
    }
   ],
   "source": [
    "#initialize the object\n",
    "smFS_bf = smileFeatureSelectorBruteForce(df=fs_df, metadata=metadata, standardize=True, model=LogisticRegression())"
   ]
  },
  {
   "cell_type": "markdown",
   "metadata": {},
   "source": [
    "__architecture column needs fixing (real should be mapped to the corresponding fake that is assigned to it__"
   ]
  },
  {
   "cell_type": "code",
   "execution_count": 24,
   "metadata": {
    "tags": []
   },
   "outputs": [
    {
     "data": {
      "text/plain": [
       "array(['Real', 'MelGan', 'ElevenLabs', 'UberDuck', 'MelGanLarge',\n",
       "       'Full_Band_MelGan', 'HifiGan', 'Waveglow', 'Multi_Band_MelGan',\n",
       "       'Parallel_WaveGan'], dtype=object)"
      ]
     },
     "execution_count": 24,
     "metadata": {},
     "output_type": "execute_result"
    }
   ],
   "source": [
    "smFS_bf.data.architecture.unique()"
   ]
  },
  {
   "cell_type": "code",
   "execution_count": 26,
   "metadata": {},
   "outputs": [
    {
     "data": {
      "text/plain": [
       "Real                 500\n",
       "Multi_Band_MelGan     67\n",
       "MelGanLarge           65\n",
       "ElevenLabs            59\n",
       "Waveglow              58\n",
       "UberDuck              57\n",
       "MelGan                55\n",
       "Full_Band_MelGan      51\n",
       "HifiGan               51\n",
       "Parallel_WaveGan      37\n",
       "Name: architecture, dtype: int64"
      ]
     },
     "execution_count": 26,
     "metadata": {},
     "output_type": "execute_result"
    }
   ],
   "source": [
    "smFS_bf.data.architecture.value_counts()"
   ]
  },
  {
   "cell_type": "markdown",
   "metadata": {},
   "source": [
    "### Select From Model"
   ]
  },
  {
   "cell_type": "code",
   "execution_count": 30,
   "metadata": {},
   "outputs": [
    {
     "name": "stdout",
     "output_type": "stream",
     "text": [
      "Initializing data...\n",
      "Standardizing features...\n",
      "smileFeatureSelectFromModel object initialized.\n",
      "\n"
     ]
    }
   ],
   "source": [
    "smFS_model = smileFeatureSelectFromModel(df=fs_df,\n",
    "                                        metadata=['type', 'id', 'architecture', 'path', 'label', 'multiclass_label', 'duration(seconds)'],\n",
    "                                        standardize = True,\n",
    "                                        model=RandomForestClassifier())"
   ]
  },
  {
   "cell_type": "code",
   "execution_count": 31,
   "metadata": {},
   "outputs": [
    {
     "name": "stdout",
     "output_type": "stream",
     "text": [
      "\n",
      "Top 50 features selected from all_archs architecture.\n",
      "\n",
      "1. audspec_lengthL1norm_sma_minPos\n",
      "2. audspec_lengthL1norm_sma_de_percentile99.0\n",
      "3. pcm_fftMag_spectralEntropy_sma_range\n",
      "4. pcm_fftMag_spectralEntropy_sma_stddev\n",
      "5. pcm_fftMag_spectralEntropy_sma_upleveltime25\n",
      "6. pcm_fftMag_spectralEntropy_sma_upleveltime75\n",
      "7. pcm_fftMag_spectralEntropy_sma_lpc2\n",
      "8. pcm_fftMag_spectralSlope_sma_pctlrange0-1\n",
      "9. pcm_fftMag_spectralHarmonicity_sma_iqr1-2\n",
      "10. mfcc_sma[4]_lpc0\n",
      "11. mfcc_sma[5]_lpc0\n",
      "12. mfcc_sma[5]_lpc1\n",
      "13. mfcc_sma[6]_lpc1\n",
      "14. mfcc_sma[7]_lpgain\n",
      "15. mfcc_sma[8]_lpgain\n",
      "16. mfcc_sma[8]_lpc0\n",
      "17. mfcc_sma[8]_lpc1\n",
      "18. mfcc_sma[9]_lpgain\n",
      "19. mfcc_sma[9]_lpc0\n",
      "20. mfcc_sma[10]_lpgain\n",
      "21. mfcc_sma[11]_lpc1\n",
      "22. mfcc_sma[12]_lpgain\n",
      "23. mfcc_sma[13]_lpgain\n",
      "24. mfcc_sma[13]_lpc0\n",
      "25. mfcc_sma[14]_lpgain\n",
      "26. mfcc_sma[14]_lpc4\n",
      "27. pcm_fftMag_spectralFlux_sma_de_range\n",
      "28. pcm_fftMag_spectralEntropy_sma_de_lpc0\n",
      "29. pcm_fftMag_spectralEntropy_sma_de_lpc2\n",
      "30. pcm_fftMag_spectralEntropy_sma_de_lpc3\n",
      "31. pcm_fftMag_spectralEntropy_sma_de_lpc4\n",
      "32. mfcc_sma_de[5]_lpc0\n",
      "33. mfcc_sma_de[5]_lpc1\n",
      "34. mfcc_sma_de[5]_lpc3\n",
      "35. mfcc_sma_de[6]_lpc0\n",
      "36. mfcc_sma_de[6]_lpc3\n",
      "37. mfcc_sma_de[6]_lpc4\n",
      "38. mfcc_sma_de[8]_lpgain\n",
      "39. mfcc_sma_de[11]_lpc0\n",
      "40. mfcc_sma_de[12]_lpgain\n",
      "41. mfcc_sma_de[14]_stddev\n",
      "42. jitterLocal_sma_quartile1\n",
      "43. jitterLocal_sma_percentile1.0\n",
      "44. jitterDDP_sma_flatness\n",
      "45. jitterDDP_sma_quartile1\n",
      "46. jitterDDP_sma_quartile2\n",
      "47. jitterDDP_sma_percentile1.0\n",
      "48. shimmerLocal_sma_quartile1\n",
      "49. pcm_fftMag_spectralFlux_sma_peakMeanMeanDist\n",
      "50. pcm_fftMag_spectralFlux_sma_de_rqmean\n"
     ]
    }
   ],
   "source": [
    "exp_df_2 = smFS_model.select_features(max_features=50, arch='all_archs', return_df=True)"
   ]
  },
  {
   "cell_type": "code",
   "execution_count": 32,
   "metadata": {},
   "outputs": [
    {
     "data": {
      "text/html": [
       "<div>\n",
       "<style scoped>\n",
       "    .dataframe tbody tr th:only-of-type {\n",
       "        vertical-align: middle;\n",
       "    }\n",
       "\n",
       "    .dataframe tbody tr th {\n",
       "        vertical-align: top;\n",
       "    }\n",
       "\n",
       "    .dataframe thead th {\n",
       "        text-align: right;\n",
       "    }\n",
       "</style>\n",
       "<table border=\"1\" class=\"dataframe\">\n",
       "  <thead>\n",
       "    <tr style=\"text-align: right;\">\n",
       "      <th></th>\n",
       "      <th>type</th>\n",
       "      <th>id</th>\n",
       "      <th>architecture</th>\n",
       "      <th>path</th>\n",
       "      <th>label</th>\n",
       "      <th>multiclass_label</th>\n",
       "      <th>duration(seconds)</th>\n",
       "      <th>audspec_lengthL1norm_sma_minPos</th>\n",
       "      <th>audspec_lengthL1norm_sma_de_percentile99.0</th>\n",
       "      <th>pcm_fftMag_spectralEntropy_sma_range</th>\n",
       "      <th>...</th>\n",
       "      <th>mfcc_sma_de[14]_stddev</th>\n",
       "      <th>jitterLocal_sma_quartile1</th>\n",
       "      <th>jitterLocal_sma_percentile1.0</th>\n",
       "      <th>jitterDDP_sma_flatness</th>\n",
       "      <th>jitterDDP_sma_quartile1</th>\n",
       "      <th>jitterDDP_sma_quartile2</th>\n",
       "      <th>jitterDDP_sma_percentile1.0</th>\n",
       "      <th>shimmerLocal_sma_quartile1</th>\n",
       "      <th>pcm_fftMag_spectralFlux_sma_peakMeanMeanDist</th>\n",
       "      <th>pcm_fftMag_spectralFlux_sma_de_rqmean</th>\n",
       "    </tr>\n",
       "  </thead>\n",
       "  <tbody>\n",
       "    <tr>\n",
       "      <th>0</th>\n",
       "      <td>test</td>\n",
       "      <td>LJ013-0259</td>\n",
       "      <td>Real</td>\n",
       "      <td>/home/ubuntu/data/wavefake_data/LJSpeech_1.1/w...</td>\n",
       "      <td>0</td>\n",
       "      <td>0</td>\n",
       "      <td>4.302</td>\n",
       "      <td>0.468085</td>\n",
       "      <td>0.247302</td>\n",
       "      <td>4.469073</td>\n",
       "      <td>...</td>\n",
       "      <td>1.983607</td>\n",
       "      <td>0.007026</td>\n",
       "      <td>0.001895</td>\n",
       "      <td>0.453075</td>\n",
       "      <td>0.004671</td>\n",
       "      <td>0.008471</td>\n",
       "      <td>0.001323</td>\n",
       "      <td>0.052039</td>\n",
       "      <td>0.218071</td>\n",
       "      <td>0.039611</td>\n",
       "    </tr>\n",
       "    <tr>\n",
       "      <th>1</th>\n",
       "      <td>dev</td>\n",
       "      <td>LJ012-0263</td>\n",
       "      <td>Real</td>\n",
       "      <td>/home/ubuntu/data/wavefake_data/LJSpeech_1.1/w...</td>\n",
       "      <td>0</td>\n",
       "      <td>0</td>\n",
       "      <td>4.651</td>\n",
       "      <td>0.578603</td>\n",
       "      <td>0.232772</td>\n",
       "      <td>4.941270</td>\n",
       "      <td>...</td>\n",
       "      <td>2.721441</td>\n",
       "      <td>0.006502</td>\n",
       "      <td>0.001842</td>\n",
       "      <td>0.426867</td>\n",
       "      <td>0.003687</td>\n",
       "      <td>0.008054</td>\n",
       "      <td>0.001291</td>\n",
       "      <td>0.051700</td>\n",
       "      <td>0.275938</td>\n",
       "      <td>0.056681</td>\n",
       "    </tr>\n",
       "    <tr>\n",
       "      <th>2</th>\n",
       "      <td>train</td>\n",
       "      <td>LJ028-0354</td>\n",
       "      <td>Real</td>\n",
       "      <td>/home/ubuntu/data/wavefake_data/LJSpeech_1.1/w...</td>\n",
       "      <td>0</td>\n",
       "      <td>0</td>\n",
       "      <td>8.366</td>\n",
       "      <td>0.322075</td>\n",
       "      <td>0.283420</td>\n",
       "      <td>4.672210</td>\n",
       "      <td>...</td>\n",
       "      <td>2.294550</td>\n",
       "      <td>0.006055</td>\n",
       "      <td>0.001006</td>\n",
       "      <td>0.373644</td>\n",
       "      <td>0.003025</td>\n",
       "      <td>0.008001</td>\n",
       "      <td>0.000828</td>\n",
       "      <td>0.053240</td>\n",
       "      <td>0.324383</td>\n",
       "      <td>0.058585</td>\n",
       "    </tr>\n",
       "    <tr>\n",
       "      <th>3</th>\n",
       "      <td>train</td>\n",
       "      <td>LJ016-0167</td>\n",
       "      <td>Real</td>\n",
       "      <td>/home/ubuntu/data/wavefake_data/LJSpeech_1.1/w...</td>\n",
       "      <td>0</td>\n",
       "      <td>0</td>\n",
       "      <td>4.511</td>\n",
       "      <td>0.184685</td>\n",
       "      <td>0.216809</td>\n",
       "      <td>4.382821</td>\n",
       "      <td>...</td>\n",
       "      <td>2.379282</td>\n",
       "      <td>0.005908</td>\n",
       "      <td>0.001493</td>\n",
       "      <td>0.415245</td>\n",
       "      <td>0.003536</td>\n",
       "      <td>0.008716</td>\n",
       "      <td>0.001126</td>\n",
       "      <td>0.047515</td>\n",
       "      <td>0.331672</td>\n",
       "      <td>0.049816</td>\n",
       "    </tr>\n",
       "    <tr>\n",
       "      <th>4</th>\n",
       "      <td>train</td>\n",
       "      <td>LJ039-0039</td>\n",
       "      <td>Real</td>\n",
       "      <td>/home/ubuntu/data/wavefake_data/LJSpeech_1.1/w...</td>\n",
       "      <td>0</td>\n",
       "      <td>0</td>\n",
       "      <td>5.870</td>\n",
       "      <td>0.251724</td>\n",
       "      <td>0.359164</td>\n",
       "      <td>4.778096</td>\n",
       "      <td>...</td>\n",
       "      <td>2.391476</td>\n",
       "      <td>0.009301</td>\n",
       "      <td>0.001601</td>\n",
       "      <td>0.368966</td>\n",
       "      <td>0.005124</td>\n",
       "      <td>0.012834</td>\n",
       "      <td>0.001009</td>\n",
       "      <td>0.053185</td>\n",
       "      <td>0.368581</td>\n",
       "      <td>0.072331</td>\n",
       "    </tr>\n",
       "  </tbody>\n",
       "</table>\n",
       "<p>5 rows × 57 columns</p>\n",
       "</div>"
      ],
      "text/plain": [
       "    type          id architecture  \\\n",
       "0   test  LJ013-0259         Real   \n",
       "1    dev  LJ012-0263         Real   \n",
       "2  train  LJ028-0354         Real   \n",
       "3  train  LJ016-0167         Real   \n",
       "4  train  LJ039-0039         Real   \n",
       "\n",
       "                                                path  label  multiclass_label  \\\n",
       "0  /home/ubuntu/data/wavefake_data/LJSpeech_1.1/w...      0                 0   \n",
       "1  /home/ubuntu/data/wavefake_data/LJSpeech_1.1/w...      0                 0   \n",
       "2  /home/ubuntu/data/wavefake_data/LJSpeech_1.1/w...      0                 0   \n",
       "3  /home/ubuntu/data/wavefake_data/LJSpeech_1.1/w...      0                 0   \n",
       "4  /home/ubuntu/data/wavefake_data/LJSpeech_1.1/w...      0                 0   \n",
       "\n",
       "   duration(seconds)  audspec_lengthL1norm_sma_minPos  \\\n",
       "0              4.302                         0.468085   \n",
       "1              4.651                         0.578603   \n",
       "2              8.366                         0.322075   \n",
       "3              4.511                         0.184685   \n",
       "4              5.870                         0.251724   \n",
       "\n",
       "   audspec_lengthL1norm_sma_de_percentile99.0  \\\n",
       "0                                    0.247302   \n",
       "1                                    0.232772   \n",
       "2                                    0.283420   \n",
       "3                                    0.216809   \n",
       "4                                    0.359164   \n",
       "\n",
       "   pcm_fftMag_spectralEntropy_sma_range  ...  mfcc_sma_de[14]_stddev  \\\n",
       "0                              4.469073  ...                1.983607   \n",
       "1                              4.941270  ...                2.721441   \n",
       "2                              4.672210  ...                2.294550   \n",
       "3                              4.382821  ...                2.379282   \n",
       "4                              4.778096  ...                2.391476   \n",
       "\n",
       "   jitterLocal_sma_quartile1  jitterLocal_sma_percentile1.0  \\\n",
       "0                   0.007026                       0.001895   \n",
       "1                   0.006502                       0.001842   \n",
       "2                   0.006055                       0.001006   \n",
       "3                   0.005908                       0.001493   \n",
       "4                   0.009301                       0.001601   \n",
       "\n",
       "   jitterDDP_sma_flatness  jitterDDP_sma_quartile1  jitterDDP_sma_quartile2  \\\n",
       "0                0.453075                 0.004671                 0.008471   \n",
       "1                0.426867                 0.003687                 0.008054   \n",
       "2                0.373644                 0.003025                 0.008001   \n",
       "3                0.415245                 0.003536                 0.008716   \n",
       "4                0.368966                 0.005124                 0.012834   \n",
       "\n",
       "   jitterDDP_sma_percentile1.0  shimmerLocal_sma_quartile1  \\\n",
       "0                     0.001323                    0.052039   \n",
       "1                     0.001291                    0.051700   \n",
       "2                     0.000828                    0.053240   \n",
       "3                     0.001126                    0.047515   \n",
       "4                     0.001009                    0.053185   \n",
       "\n",
       "   pcm_fftMag_spectralFlux_sma_peakMeanMeanDist  \\\n",
       "0                                      0.218071   \n",
       "1                                      0.275938   \n",
       "2                                      0.324383   \n",
       "3                                      0.331672   \n",
       "4                                      0.368581   \n",
       "\n",
       "   pcm_fftMag_spectralFlux_sma_de_rqmean  \n",
       "0                               0.039611  \n",
       "1                               0.056681  \n",
       "2                               0.058585  \n",
       "3                               0.049816  \n",
       "4                               0.072331  \n",
       "\n",
       "[5 rows x 57 columns]"
      ]
     },
     "execution_count": 32,
     "metadata": {},
     "output_type": "execute_result"
    }
   ],
   "source": [
    "exp_df_2.head()"
   ]
  },
  {
   "cell_type": "code",
   "execution_count": null,
   "metadata": {},
   "outputs": [],
   "source": []
  },
  {
   "cell_type": "markdown",
   "metadata": {},
   "source": [
    "### Univariate Feature Selection:"
   ]
  },
  {
   "cell_type": "code",
   "execution_count": 33,
   "metadata": {},
   "outputs": [
    {
     "name": "stdout",
     "output_type": "stream",
     "text": [
      "Initializing data...\n",
      "Standardizing features...\n",
      "smileUnivariateFeatureSelector object initialized.\n",
      "\n"
     ]
    }
   ],
   "source": [
    "smFS_univariate = smileUnivariateFeatureSelector(df=fs_df,\n",
    "                                                metadata=['type', 'id', 'architecture', 'path', 'label', 'multiclass_label', 'duration(seconds)'],\n",
    "                                                standardize = True)"
   ]
  },
  {
   "cell_type": "code",
   "execution_count": 36,
   "metadata": {},
   "outputs": [
    {
     "name": "stdout",
     "output_type": "stream",
     "text": [
      "\n",
      "Top 50 features selected from all_archs architecture.\n",
      "\n",
      "1. audspecRasta_lengthL1norm_sma_lpc3\n",
      "2. audSpec_Rfilt_sma[6]_iqr1-3\n",
      "3. pcm_fftMag_fband1000-4000_sma_iqr2-3\n",
      "4. pcm_fftMag_spectralCentroid_sma_quartile1\n",
      "5. pcm_fftMag_spectralSlope_sma_upleveltime90\n",
      "6. mfcc_sma[3]_lpc0\n",
      "7. mfcc_sma[5]_lpc0\n",
      "8. mfcc_sma[5]_lpc1\n",
      "9. mfcc_sma[6]_lpc1\n",
      "10. mfcc_sma[6]_lpc2\n",
      "11. mfcc_sma[8]_lpc0\n",
      "12. mfcc_sma[9]_lpgain\n",
      "13. mfcc_sma[10]_lpc2\n",
      "14. mfcc_sma[13]_lpgain\n",
      "15. audSpec_Rfilt_sma_de[8]_kurtosis\n",
      "16. pcm_fftMag_spectralEntropy_sma_de_upleveltime25\n",
      "17. pcm_fftMag_spectralEntropy_sma_de_lpc0\n",
      "18. pcm_fftMag_spectralEntropy_sma_de_lpc1\n",
      "19. pcm_fftMag_spectralEntropy_sma_de_lpc2\n",
      "20. pcm_fftMag_spectralEntropy_sma_de_lpc3\n",
      "21. pcm_fftMag_spectralEntropy_sma_de_lpc4\n",
      "22. mfcc_sma_de[3]_leftctime\n",
      "23. mfcc_sma_de[5]_lpc0\n",
      "24. mfcc_sma_de[5]_lpc1\n",
      "25. mfcc_sma_de[5]_lpc2\n",
      "26. mfcc_sma_de[5]_lpc3\n",
      "27. mfcc_sma_de[6]_lpc0\n",
      "28. mfcc_sma_de[6]_lpc1\n",
      "29. mfcc_sma_de[8]_lpc1\n",
      "30. mfcc_sma_de[10]_lpc0\n",
      "31. mfcc_sma_de[11]_percentile99.0\n",
      "32. mfcc_sma_de[11]_lpc0\n",
      "33. mfcc_sma_de[12]_lpgain\n",
      "34. mfcc_sma_de[14]_lpc0\n",
      "35. mfcc_sma_de[14]_lpc1\n",
      "36. F0final_sma_percentile1.0\n",
      "37. jitterLocal_sma_quartile1\n",
      "38. jitterLocal_sma_percentile1.0\n",
      "39. jitterDDP_sma_flatness\n",
      "40. jitterDDP_sma_quartile1\n",
      "41. jitterDDP_sma_percentile1.0\n",
      "42. audSpec_Rfilt_sma[11]_stddevRisingSlope\n",
      "43. audSpec_Rfilt_sma[17]_linregc1\n",
      "44. pcm_fftMag_spectralEntropy_sma_meanPeakDist\n",
      "45. pcm_fftMag_spectralEntropy_sma_peakRangeAbs\n",
      "46. pcm_fftMag_spectralEntropy_sma_linregerrQ\n",
      "47. mfcc_sma[10]_peakMeanRel\n",
      "48. audSpec_Rfilt_sma_de[25]_meanRisingSlope\n",
      "49. pcm_fftMag_spectralEntropy_sma_de_peakRangeRel\n",
      "50. pcm_fftMag_spectralHarmonicity_sma_de_peakMeanRel\n"
     ]
    }
   ],
   "source": [
    "exp_df_3 = smFS_univariate.select_features(score_func=fs.mutual_info_classif, mode='k_best',\n",
    "                                num_features=50, arch='all_archs', return_df=True)"
   ]
  },
  {
   "cell_type": "code",
   "execution_count": 37,
   "metadata": {},
   "outputs": [
    {
     "data": {
      "text/html": [
       "<div>\n",
       "<style scoped>\n",
       "    .dataframe tbody tr th:only-of-type {\n",
       "        vertical-align: middle;\n",
       "    }\n",
       "\n",
       "    .dataframe tbody tr th {\n",
       "        vertical-align: top;\n",
       "    }\n",
       "\n",
       "    .dataframe thead th {\n",
       "        text-align: right;\n",
       "    }\n",
       "</style>\n",
       "<table border=\"1\" class=\"dataframe\">\n",
       "  <thead>\n",
       "    <tr style=\"text-align: right;\">\n",
       "      <th></th>\n",
       "      <th>type</th>\n",
       "      <th>id</th>\n",
       "      <th>architecture</th>\n",
       "      <th>path</th>\n",
       "      <th>label</th>\n",
       "      <th>multiclass_label</th>\n",
       "      <th>duration(seconds)</th>\n",
       "      <th>audspecRasta_lengthL1norm_sma_lpc3</th>\n",
       "      <th>audSpec_Rfilt_sma[6]_iqr1-3</th>\n",
       "      <th>pcm_fftMag_fband1000-4000_sma_iqr2-3</th>\n",
       "      <th>...</th>\n",
       "      <th>jitterDDP_sma_percentile1.0</th>\n",
       "      <th>audSpec_Rfilt_sma[11]_stddevRisingSlope</th>\n",
       "      <th>audSpec_Rfilt_sma[17]_linregc1</th>\n",
       "      <th>pcm_fftMag_spectralEntropy_sma_meanPeakDist</th>\n",
       "      <th>pcm_fftMag_spectralEntropy_sma_peakRangeAbs</th>\n",
       "      <th>pcm_fftMag_spectralEntropy_sma_linregerrQ</th>\n",
       "      <th>mfcc_sma[10]_peakMeanRel</th>\n",
       "      <th>audSpec_Rfilt_sma_de[25]_meanRisingSlope</th>\n",
       "      <th>pcm_fftMag_spectralEntropy_sma_de_peakRangeRel</th>\n",
       "      <th>pcm_fftMag_spectralHarmonicity_sma_de_peakMeanRel</th>\n",
       "    </tr>\n",
       "  </thead>\n",
       "  <tbody>\n",
       "    <tr>\n",
       "      <th>0</th>\n",
       "      <td>test</td>\n",
       "      <td>LJ013-0259</td>\n",
       "      <td>Real</td>\n",
       "      <td>/home/ubuntu/data/wavefake_data/LJSpeech_1.1/w...</td>\n",
       "      <td>0</td>\n",
       "      <td>0</td>\n",
       "      <td>4.302</td>\n",
       "      <td>-0.332759</td>\n",
       "      <td>1.157577</td>\n",
       "      <td>0.022394</td>\n",
       "      <td>...</td>\n",
       "      <td>0.001323</td>\n",
       "      <td>27.166035</td>\n",
       "      <td>0.010736</td>\n",
       "      <td>0.181818</td>\n",
       "      <td>2.795163</td>\n",
       "      <td>0.046141</td>\n",
       "      <td>-0.351882</td>\n",
       "      <td>7.344189</td>\n",
       "      <td>0.423907</td>\n",
       "      <td>-20.0</td>\n",
       "    </tr>\n",
       "    <tr>\n",
       "      <th>1</th>\n",
       "      <td>dev</td>\n",
       "      <td>LJ012-0263</td>\n",
       "      <td>Real</td>\n",
       "      <td>/home/ubuntu/data/wavefake_data/LJSpeech_1.1/w...</td>\n",
       "      <td>0</td>\n",
       "      <td>0</td>\n",
       "      <td>4.651</td>\n",
       "      <td>-0.247732</td>\n",
       "      <td>1.532883</td>\n",
       "      <td>0.033312</td>\n",
       "      <td>...</td>\n",
       "      <td>0.001291</td>\n",
       "      <td>28.959106</td>\n",
       "      <td>0.006218</td>\n",
       "      <td>0.177083</td>\n",
       "      <td>4.169969</td>\n",
       "      <td>0.063398</td>\n",
       "      <td>-0.626416</td>\n",
       "      <td>7.708104</td>\n",
       "      <td>0.469881</td>\n",
       "      <td>-20.0</td>\n",
       "    </tr>\n",
       "    <tr>\n",
       "      <th>2</th>\n",
       "      <td>train</td>\n",
       "      <td>LJ028-0354</td>\n",
       "      <td>Real</td>\n",
       "      <td>/home/ubuntu/data/wavefake_data/LJSpeech_1.1/w...</td>\n",
       "      <td>0</td>\n",
       "      <td>0</td>\n",
       "      <td>8.366</td>\n",
       "      <td>-0.438421</td>\n",
       "      <td>1.361229</td>\n",
       "      <td>0.041608</td>\n",
       "      <td>...</td>\n",
       "      <td>0.000828</td>\n",
       "      <td>21.196800</td>\n",
       "      <td>-0.003832</td>\n",
       "      <td>0.174565</td>\n",
       "      <td>3.500376</td>\n",
       "      <td>0.046804</td>\n",
       "      <td>0.140003</td>\n",
       "      <td>8.733562</td>\n",
       "      <td>0.503734</td>\n",
       "      <td>-20.0</td>\n",
       "    </tr>\n",
       "    <tr>\n",
       "      <th>3</th>\n",
       "      <td>train</td>\n",
       "      <td>LJ016-0167</td>\n",
       "      <td>Real</td>\n",
       "      <td>/home/ubuntu/data/wavefake_data/LJSpeech_1.1/w...</td>\n",
       "      <td>0</td>\n",
       "      <td>0</td>\n",
       "      <td>4.511</td>\n",
       "      <td>-0.171198</td>\n",
       "      <td>1.308590</td>\n",
       "      <td>0.011016</td>\n",
       "      <td>...</td>\n",
       "      <td>0.001126</td>\n",
       "      <td>22.780064</td>\n",
       "      <td>-0.010751</td>\n",
       "      <td>0.177727</td>\n",
       "      <td>3.683311</td>\n",
       "      <td>0.050404</td>\n",
       "      <td>-0.015058</td>\n",
       "      <td>8.424246</td>\n",
       "      <td>0.521879</td>\n",
       "      <td>-20.0</td>\n",
       "    </tr>\n",
       "    <tr>\n",
       "      <th>4</th>\n",
       "      <td>train</td>\n",
       "      <td>LJ039-0039</td>\n",
       "      <td>Real</td>\n",
       "      <td>/home/ubuntu/data/wavefake_data/LJSpeech_1.1/w...</td>\n",
       "      <td>0</td>\n",
       "      <td>0</td>\n",
       "      <td>5.870</td>\n",
       "      <td>-0.109692</td>\n",
       "      <td>1.320929</td>\n",
       "      <td>0.014708</td>\n",
       "      <td>...</td>\n",
       "      <td>0.001009</td>\n",
       "      <td>19.902828</td>\n",
       "      <td>-0.001488</td>\n",
       "      <td>0.173125</td>\n",
       "      <td>3.361160</td>\n",
       "      <td>0.055270</td>\n",
       "      <td>-5.756375</td>\n",
       "      <td>10.361280</td>\n",
       "      <td>0.420324</td>\n",
       "      <td>-20.0</td>\n",
       "    </tr>\n",
       "  </tbody>\n",
       "</table>\n",
       "<p>5 rows × 57 columns</p>\n",
       "</div>"
      ],
      "text/plain": [
       "    type          id architecture  \\\n",
       "0   test  LJ013-0259         Real   \n",
       "1    dev  LJ012-0263         Real   \n",
       "2  train  LJ028-0354         Real   \n",
       "3  train  LJ016-0167         Real   \n",
       "4  train  LJ039-0039         Real   \n",
       "\n",
       "                                                path  label  multiclass_label  \\\n",
       "0  /home/ubuntu/data/wavefake_data/LJSpeech_1.1/w...      0                 0   \n",
       "1  /home/ubuntu/data/wavefake_data/LJSpeech_1.1/w...      0                 0   \n",
       "2  /home/ubuntu/data/wavefake_data/LJSpeech_1.1/w...      0                 0   \n",
       "3  /home/ubuntu/data/wavefake_data/LJSpeech_1.1/w...      0                 0   \n",
       "4  /home/ubuntu/data/wavefake_data/LJSpeech_1.1/w...      0                 0   \n",
       "\n",
       "   duration(seconds)  audspecRasta_lengthL1norm_sma_lpc3  \\\n",
       "0              4.302                           -0.332759   \n",
       "1              4.651                           -0.247732   \n",
       "2              8.366                           -0.438421   \n",
       "3              4.511                           -0.171198   \n",
       "4              5.870                           -0.109692   \n",
       "\n",
       "   audSpec_Rfilt_sma[6]_iqr1-3  pcm_fftMag_fband1000-4000_sma_iqr2-3  ...  \\\n",
       "0                     1.157577                              0.022394  ...   \n",
       "1                     1.532883                              0.033312  ...   \n",
       "2                     1.361229                              0.041608  ...   \n",
       "3                     1.308590                              0.011016  ...   \n",
       "4                     1.320929                              0.014708  ...   \n",
       "\n",
       "   jitterDDP_sma_percentile1.0  audSpec_Rfilt_sma[11]_stddevRisingSlope  \\\n",
       "0                     0.001323                                27.166035   \n",
       "1                     0.001291                                28.959106   \n",
       "2                     0.000828                                21.196800   \n",
       "3                     0.001126                                22.780064   \n",
       "4                     0.001009                                19.902828   \n",
       "\n",
       "   audSpec_Rfilt_sma[17]_linregc1  \\\n",
       "0                        0.010736   \n",
       "1                        0.006218   \n",
       "2                       -0.003832   \n",
       "3                       -0.010751   \n",
       "4                       -0.001488   \n",
       "\n",
       "   pcm_fftMag_spectralEntropy_sma_meanPeakDist  \\\n",
       "0                                     0.181818   \n",
       "1                                     0.177083   \n",
       "2                                     0.174565   \n",
       "3                                     0.177727   \n",
       "4                                     0.173125   \n",
       "\n",
       "   pcm_fftMag_spectralEntropy_sma_peakRangeAbs  \\\n",
       "0                                     2.795163   \n",
       "1                                     4.169969   \n",
       "2                                     3.500376   \n",
       "3                                     3.683311   \n",
       "4                                     3.361160   \n",
       "\n",
       "   pcm_fftMag_spectralEntropy_sma_linregerrQ  mfcc_sma[10]_peakMeanRel  \\\n",
       "0                                   0.046141                 -0.351882   \n",
       "1                                   0.063398                 -0.626416   \n",
       "2                                   0.046804                  0.140003   \n",
       "3                                   0.050404                 -0.015058   \n",
       "4                                   0.055270                 -5.756375   \n",
       "\n",
       "   audSpec_Rfilt_sma_de[25]_meanRisingSlope  \\\n",
       "0                                  7.344189   \n",
       "1                                  7.708104   \n",
       "2                                  8.733562   \n",
       "3                                  8.424246   \n",
       "4                                 10.361280   \n",
       "\n",
       "   pcm_fftMag_spectralEntropy_sma_de_peakRangeRel  \\\n",
       "0                                        0.423907   \n",
       "1                                        0.469881   \n",
       "2                                        0.503734   \n",
       "3                                        0.521879   \n",
       "4                                        0.420324   \n",
       "\n",
       "   pcm_fftMag_spectralHarmonicity_sma_de_peakMeanRel  \n",
       "0                                              -20.0  \n",
       "1                                              -20.0  \n",
       "2                                              -20.0  \n",
       "3                                              -20.0  \n",
       "4                                              -20.0  \n",
       "\n",
       "[5 rows x 57 columns]"
      ]
     },
     "execution_count": 37,
     "metadata": {},
     "output_type": "execute_result"
    }
   ],
   "source": [
    "exp_df_3.head()"
   ]
  },
  {
   "cell_type": "code",
   "execution_count": null,
   "metadata": {},
   "outputs": [],
   "source": []
  }
 ],
 "metadata": {
  "kernelspec": {
   "display_name": "deepfake-detection-v1",
   "language": "python",
   "name": "deepfake-detection-v1"
  },
  "language_info": {
   "codemirror_mode": {
    "name": "ipython",
    "version": 3
   },
   "file_extension": ".py",
   "mimetype": "text/x-python",
   "name": "python",
   "nbconvert_exporter": "python",
   "pygments_lexer": "ipython3",
   "version": "3.9.16"
  }
 },
 "nbformat": 4,
 "nbformat_minor": 4
}
