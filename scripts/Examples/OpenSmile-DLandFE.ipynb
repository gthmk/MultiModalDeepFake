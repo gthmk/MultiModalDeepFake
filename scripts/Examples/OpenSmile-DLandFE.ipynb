{
 "cells": [
  {
   "cell_type": "markdown",
   "metadata": {},
   "source": [
    "# Testing OpenSmile Classes\n",
    "\n",
    "This notebook provides a sequence of steps to generate a dataframe and load the opensmile features for feature selection and testing."
   ]
  },
  {
   "cell_type": "code",
   "execution_count": 1,
   "metadata": {},
   "outputs": [],
   "source": [
    "import pandas as pd\n",
    "import numpy as np\n",
    "import sys\n",
    "import os\n",
    "import json\n",
    "from tqdm import tqdm\n",
    "sys.path.append(\"/home/ubuntu/MultiModalDeepFake\")\n",
    "from packages.LJDataLoader import LJDataLoader\n",
    "from packages.SmileFeatureLoader import smileFeatureLoader"
   ]
  },
  {
   "cell_type": "markdown",
   "metadata": {},
   "source": [
    "### Part 1: Creating the dataframe with the train-dev-test split"
   ]
  },
  {
   "cell_type": "code",
   "execution_count": 3,
   "metadata": {},
   "outputs": [],
   "source": [
    "#load LJ 16khz data\n",
    "#\n",
    "file_path = '/home/ubuntu/data/wavefake_data/LJ_metadata_16000KHz.csv'\n",
    "loader = LJDataLoader(data_path=file_path)"
   ]
  },
  {
   "cell_type": "code",
   "execution_count": 4,
   "metadata": {},
   "outputs": [
    {
     "name": "stdout",
     "output_type": "stream",
     "text": [
      "13055\n",
      "7833 10444\n"
     ]
    }
   ],
   "source": [
    "#split data into train, val, test\n",
    "loader.splitData()\n"
   ]
  },
  {
   "cell_type": "code",
   "execution_count": 6,
   "metadata": {},
   "outputs": [
    {
     "data": {
      "text/plain": [
       "['Real',\n",
       " 'Full_Band_MelGan',\n",
       " 'HifiGan',\n",
       " 'MelGan',\n",
       " 'MelGanLarge',\n",
       " 'Multi_Band_MelGan',\n",
       " 'Parallel_WaveGan',\n",
       " 'Waveglow',\n",
       " 'ElevenLabs',\n",
       " 'UberDuck']"
      ]
     },
     "execution_count": 6,
     "metadata": {},
     "output_type": "execute_result"
    }
   ],
   "source": [
    "#get the column names\n",
    "cols = list(loader.metadata.columns[5:15])\n",
    "cols"
   ]
  },
  {
   "cell_type": "code",
   "execution_count": 7,
   "metadata": {},
   "outputs": [],
   "source": [
    "#generate the dataframe\n",
    "df = loader.generateFinalDataFrame(real_col=cols[0], fake_cols=cols[1:], single_id_entry=True)"
   ]
  },
  {
   "cell_type": "code",
   "execution_count": 8,
   "metadata": {},
   "outputs": [
    {
     "data": {
      "text/plain": [
       "(13055, 18)"
      ]
     },
     "execution_count": 8,
     "metadata": {},
     "output_type": "execute_result"
    }
   ],
   "source": [
    "loader.metadata.shape"
   ]
  },
  {
   "cell_type": "code",
   "execution_count": 9,
   "metadata": {},
   "outputs": [
    {
     "data": {
      "text/html": [
       "<div>\n",
       "<style scoped>\n",
       "    .dataframe tbody tr th:only-of-type {\n",
       "        vertical-align: middle;\n",
       "    }\n",
       "\n",
       "    .dataframe tbody tr th {\n",
       "        vertical-align: top;\n",
       "    }\n",
       "\n",
       "    .dataframe thead th {\n",
       "        text-align: right;\n",
       "    }\n",
       "</style>\n",
       "<table border=\"1\" class=\"dataframe\">\n",
       "  <thead>\n",
       "    <tr style=\"text-align: right;\">\n",
       "      <th></th>\n",
       "      <th>path</th>\n",
       "      <th>label</th>\n",
       "      <th>multiclass_label</th>\n",
       "      <th>type</th>\n",
       "    </tr>\n",
       "  </thead>\n",
       "  <tbody>\n",
       "    <tr>\n",
       "      <th>0</th>\n",
       "      <td>/home/ubuntu/data/wavefake_data/generated_audi...</td>\n",
       "      <td>1</td>\n",
       "      <td>6</td>\n",
       "      <td>train</td>\n",
       "    </tr>\n",
       "    <tr>\n",
       "      <th>1</th>\n",
       "      <td>/home/ubuntu/data/wavefake_data/generated_audi...</td>\n",
       "      <td>1</td>\n",
       "      <td>9</td>\n",
       "      <td>train</td>\n",
       "    </tr>\n",
       "    <tr>\n",
       "      <th>2</th>\n",
       "      <td>/home/ubuntu/data/wavefake_data/generated_audi...</td>\n",
       "      <td>1</td>\n",
       "      <td>1</td>\n",
       "      <td>train</td>\n",
       "    </tr>\n",
       "    <tr>\n",
       "      <th>3</th>\n",
       "      <td>/home/ubuntu/data/wavefake_data/generated_audi...</td>\n",
       "      <td>1</td>\n",
       "      <td>3</td>\n",
       "      <td>train</td>\n",
       "    </tr>\n",
       "    <tr>\n",
       "      <th>4</th>\n",
       "      <td>/home/ubuntu/data/wavefake_data/generated_audi...</td>\n",
       "      <td>1</td>\n",
       "      <td>6</td>\n",
       "      <td>train</td>\n",
       "    </tr>\n",
       "  </tbody>\n",
       "</table>\n",
       "</div>"
      ],
      "text/plain": [
       "                                                path  label  multiclass_label  \\\n",
       "0  /home/ubuntu/data/wavefake_data/generated_audi...      1                 6   \n",
       "1  /home/ubuntu/data/wavefake_data/generated_audi...      1                 9   \n",
       "2  /home/ubuntu/data/wavefake_data/generated_audi...      1                 1   \n",
       "3  /home/ubuntu/data/wavefake_data/generated_audi...      1                 3   \n",
       "4  /home/ubuntu/data/wavefake_data/generated_audi...      1                 6   \n",
       "\n",
       "    type  \n",
       "0  train  \n",
       "1  train  \n",
       "2  train  \n",
       "3  train  \n",
       "4  train  "
      ]
     },
     "execution_count": 9,
     "metadata": {},
     "output_type": "execute_result"
    }
   ],
   "source": [
    "df.head()"
   ]
  },
  {
   "cell_type": "markdown",
   "metadata": {},
   "source": [
    "__Why are there 130550 data points if `single_id_entry=False`__"
   ]
  },
  {
   "cell_type": "code",
   "execution_count": 10,
   "metadata": {},
   "outputs": [
    {
     "data": {
      "text/plain": [
       "(13055, 4)"
      ]
     },
     "execution_count": 10,
     "metadata": {},
     "output_type": "execute_result"
    }
   ],
   "source": [
    "df.shape"
   ]
  },
  {
   "cell_type": "code",
   "execution_count": 11,
   "metadata": {},
   "outputs": [],
   "source": [
    "# sample 1000 rows from df for testing\n",
    "test_df = df.sample(n=1000, random_state=42)"
   ]
  },
  {
   "cell_type": "code",
   "execution_count": 12,
   "metadata": {},
   "outputs": [
    {
     "data": {
      "text/html": [
       "<div>\n",
       "<style scoped>\n",
       "    .dataframe tbody tr th:only-of-type {\n",
       "        vertical-align: middle;\n",
       "    }\n",
       "\n",
       "    .dataframe tbody tr th {\n",
       "        vertical-align: top;\n",
       "    }\n",
       "\n",
       "    .dataframe thead th {\n",
       "        text-align: right;\n",
       "    }\n",
       "</style>\n",
       "<table border=\"1\" class=\"dataframe\">\n",
       "  <thead>\n",
       "    <tr style=\"text-align: right;\">\n",
       "      <th></th>\n",
       "      <th>path</th>\n",
       "      <th>label</th>\n",
       "      <th>multiclass_label</th>\n",
       "      <th>type</th>\n",
       "    </tr>\n",
       "  </thead>\n",
       "  <tbody>\n",
       "    <tr>\n",
       "      <th>2614</th>\n",
       "      <td>/home/ubuntu/data/wavefake_data/generated_audi...</td>\n",
       "      <td>1</td>\n",
       "      <td>8</td>\n",
       "      <td>train</td>\n",
       "    </tr>\n",
       "    <tr>\n",
       "      <th>10003</th>\n",
       "      <td>/home/ubuntu/data/wavefake_data/LJSpeech_1.1/w...</td>\n",
       "      <td>0</td>\n",
       "      <td>0</td>\n",
       "      <td>dev</td>\n",
       "    </tr>\n",
       "    <tr>\n",
       "      <th>12056</th>\n",
       "      <td>/home/ubuntu/data/wavefake_data/generated_audi...</td>\n",
       "      <td>1</td>\n",
       "      <td>8</td>\n",
       "      <td>test</td>\n",
       "    </tr>\n",
       "    <tr>\n",
       "      <th>2924</th>\n",
       "      <td>/home/ubuntu/data/wavefake_data/generated_audi...</td>\n",
       "      <td>1</td>\n",
       "      <td>8</td>\n",
       "      <td>train</td>\n",
       "    </tr>\n",
       "    <tr>\n",
       "      <th>2495</th>\n",
       "      <td>/home/ubuntu/data/wavefake_data/generated_audi...</td>\n",
       "      <td>1</td>\n",
       "      <td>2</td>\n",
       "      <td>train</td>\n",
       "    </tr>\n",
       "  </tbody>\n",
       "</table>\n",
       "</div>"
      ],
      "text/plain": [
       "                                                    path  label  \\\n",
       "2614   /home/ubuntu/data/wavefake_data/generated_audi...      1   \n",
       "10003  /home/ubuntu/data/wavefake_data/LJSpeech_1.1/w...      0   \n",
       "12056  /home/ubuntu/data/wavefake_data/generated_audi...      1   \n",
       "2924   /home/ubuntu/data/wavefake_data/generated_audi...      1   \n",
       "2495   /home/ubuntu/data/wavefake_data/generated_audi...      1   \n",
       "\n",
       "       multiclass_label   type  \n",
       "2614                  8  train  \n",
       "10003                 0    dev  \n",
       "12056                 8   test  \n",
       "2924                  8  train  \n",
       "2495                  2  train  "
      ]
     },
     "execution_count": 12,
     "metadata": {},
     "output_type": "execute_result"
    }
   ],
   "source": [
    "test_df.head()"
   ]
  },
  {
   "cell_type": "markdown",
   "metadata": {},
   "source": [
    "## "
   ]
  },
  {
   "cell_type": "markdown",
   "metadata": {
    "jp-MarkdownHeadingCollapsed": true,
    "tags": []
   },
   "source": [
    "## Loading the data\n",
    "\n",
    "Final result should have the following columns with 6373 smile features\n",
    "\n",
    "metadata=['id', 'path', 'split', 'type', 'label', 'multiclass_label', 'duration(seconds)']"
   ]
  },
  {
   "cell_type": "markdown",
   "metadata": {},
   "source": [
    "#### Testing Code"
   ]
  },
  {
   "cell_type": "code",
   "execution_count": 69,
   "metadata": {},
   "outputs": [
    {
     "data": {
      "text/plain": [
       "ljspeech_elevenlabs           123\n",
       "ljspeech_hifiGAN              110\n",
       "ljspeech_melgan               109\n",
       "ljspeech_parallel_wavegan     108\n",
       "ljspeech_uberduck             102\n",
       "ljspeech_melgan_large         101\n",
       "ljspeech_multi_band_melgan     96\n",
       "wavs                           89\n",
       "ljspeech_full_band_melgan      87\n",
       "ljspeech_waveglow              75\n",
       "Name: path, dtype: int64"
      ]
     },
     "execution_count": 69,
     "metadata": {},
     "output_type": "execute_result"
    }
   ],
   "source": [
    "test_df.path.apply(lambda x: x.split('/')[-3]).value_counts()"
   ]
  },
  {
   "cell_type": "code",
   "execution_count": null,
   "metadata": {},
   "outputs": [],
   "source": []
  },
  {
   "cell_type": "code",
   "execution_count": 72,
   "metadata": {},
   "outputs": [
    {
     "data": {
      "text/plain": [
       "array(['/home/ubuntu/data/wavefake_data/generated_audio/ljspeech_hifiGAN/16000KHz',\n",
       "       '/home/ubuntu/data/wavefake_data/generated_audio/ljspeech_melgan_large/16000KHz',\n",
       "       '/home/ubuntu/data/wavefake_data/generated_audio/ljspeech_melgan/16000KHz',\n",
       "       '/home/ubuntu/data/wavefake_data/generated_audio/ljspeech_waveglow/16000KHz',\n",
       "       '/home/ubuntu/data/wavefake_data/generated_audio/ljspeech_uberduck/16000KHz',\n",
       "       '/home/ubuntu/data/wavefake_data/generated_audio/ljspeech_multi_band_melgan/16000KHz',\n",
       "       '/home/ubuntu/data/wavefake_data/generated_audio/ljspeech_full_band_melgan/16000KHz',\n",
       "       '/home/ubuntu/data/wavefake_data/generated_audio/ljspeech_elevenlabs/16000KHz',\n",
       "       '/home/ubuntu/data/wavefake_data/generated_audio/ljspeech_parallel_wavegan/16000KHz',\n",
       "       '/home/ubuntu/data/wavefake_data/LJSpeech_1.1/wavs/16000KHz'],\n",
       "      dtype=object)"
      ]
     },
     "execution_count": 72,
     "metadata": {},
     "output_type": "execute_result"
    }
   ],
   "source": [
    "test_df.path.apply(lambda x: '/'.join(x.split('/')[:-1])).unique()"
   ]
  },
  {
   "cell_type": "code",
   "execution_count": 51,
   "metadata": {},
   "outputs": [
    {
     "data": {
      "text/plain": [
       "'/home/ubuntu/data/wavefake_data/generated_audio/ljspeech_hifiGAN/16000KHz/LJ035-0150_generated.wav'"
      ]
     },
     "execution_count": 51,
     "metadata": {},
     "output_type": "execute_result"
    }
   ],
   "source": [
    "test_df.path.iloc[0]"
   ]
  },
  {
   "cell_type": "code",
   "execution_count": 52,
   "metadata": {},
   "outputs": [
    {
     "data": {
      "text/plain": [
       "'/home/ubuntu/data/OpenSmile/04-2023-OSF-feature-csvs/OSF-2023-04-01-InTheWildFakes-Biden-16000KHz.csv'"
      ]
     },
     "execution_count": 52,
     "metadata": {},
     "output_type": "execute_result"
    }
   ],
   "source": [
    "'/home/ubuntu/data/OpenSmile/04-2023-OSF-feature-csvs/OSF-2023-04-01-InTheWildFakes-Biden-16000KHz.csv'"
   ]
  },
  {
   "cell_type": "code",
   "execution_count": 58,
   "metadata": {},
   "outputs": [
    {
     "data": {
      "text/plain": [
       "['OSF-2023-04-01-wavefake_data-LJSpeech_1.1-wavs-Original.csv',\n",
       " 'OSF-2023-04-01-wavefake_data-generated_audio-ljspeech_hifiGAN-16000KHz.csv',\n",
       " 'OSF-2023-04-01-InTheWildFakes-Biden-16000KHz.csv',\n",
       " 'OSF-2023-04-01-wavefake_data-generated_audio-ljspeech_melgan_large-16000KHz.csv',\n",
       " 'OSF-2023-04-01-wavefake_data-generated_audio-ljspeech_melgan-Original.csv',\n",
       " 'OSF-2023-04-01-world-leaders-dataset-11LabsDeepFakes-Biden-44Khz.csv',\n",
       " 'OSF-2023-04-01-wavefake_data-generated_audio-ljspeech_multi_band_melgan-16000KHz.csv',\n",
       " 'OSF-2023-04-01-wavefake_data-LJSpeech_1.1-wavs-16000KHz.csv',\n",
       " 'OSF-2023-04-01-wavefake_data-generated_audio-ljspeech_waveglow-Original.csv',\n",
       " 'OSF-2023-04-06-wavefake_data-generated_audio-ljspeech_uberduck-16000KHz.csv',\n",
       " 'OSF-2023-04-01-wavefake_data-generated_audio-ljspeech_hifiGAN-Original.csv',\n",
       " 'OSF-2023-04-01-world-leaders-dataset-WavFiles-biden_wav_audio-44KHz.csv',\n",
       " 'OSF-2023-04-01-world-leaders-dataset-WavFiles-biden_wav_audio-16KHz.csv',\n",
       " 'OSF-2023-04-01-wavefake_data-generated_audio-ljspeech_multi_band_melgan-Original.csv',\n",
       " 'OSF-2023-04-01-wavefake_data-generated_audio-ljspeech_elevenlabs-Original.csv',\n",
       " 'OSF-2023-04-01-wavefake_data-generated_audio-ljspeech_melgan_large-Original.csv',\n",
       " 'OSF-2023-04-01-wavefake_data-generated_audio-ljspeech_parallel_wavegan-16000KHz.csv',\n",
       " 'OSF-2023-04-01-world-leaders-dataset-11LabsDeepFakes-Biden-16Khz.csv',\n",
       " 'OSF-2023-04-01-wavefake_data-generated_audio-ljspeech_elevenlabs-16000KHz.csv',\n",
       " 'OSF-2023-04-06-wavefake_data-generated_audio-ljspeech_uberduck-Original.csv',\n",
       " 'OSF-2023-04-01-wavefake_data-generated_audio-ljspeech_full_band_melgan-Original.csv',\n",
       " 'OSF-2023-04-01-wavefake_data-generated_audio-ljspeech_melgan-16000KHz.csv',\n",
       " 'OSF-2023-04-01-InTheWildFakes-Biden-Original.csv',\n",
       " 'OSF-2023-04-01-wavefake_data-generated_audio-ljspeech_parallel_wavegan-Original.csv',\n",
       " 'OSF-2023-04-01-wavefake_data-generated_audio-ljspeech_full_band_melgan-16000KHz.csv',\n",
       " 'OSF-2023-04-01-wavefake_data-generated_audio-ljspeech_waveglow-16000KHz.csv']"
      ]
     },
     "execution_count": 58,
     "metadata": {},
     "output_type": "execute_result"
    }
   ],
   "source": [
    "#list files in of a particular extension in a directory\n",
    "def list_files(directory, extension):\n",
    "    return [f for f in os.listdir(directory) if f.endswith('.' + extension)]\n",
    "\n",
    "file_list = list_files('/home/ubuntu/data/OpenSmile/04-2023-OSF-feature-csvs', 'csv')\n",
    "file_list\n"
   ]
  },
  {
   "cell_type": "code",
   "execution_count": 74,
   "metadata": {},
   "outputs": [
    {
     "data": {
      "text/plain": [
       "26"
      ]
     },
     "execution_count": 74,
     "metadata": {},
     "output_type": "execute_result"
    }
   ],
   "source": [
    "len(file_list)"
   ]
  },
  {
   "cell_type": "markdown",
   "metadata": {},
   "source": [
    "#### Creating file mappings JSON"
   ]
  },
  {
   "cell_type": "code",
   "execution_count": 75,
   "metadata": {},
   "outputs": [
    {
     "data": {
      "text/plain": [
       "{'/home/ubuntu/data/world-leaders-dataset/WavFiles/biden_wav_audio/44KHz': '/home/ubuntu/data/OpenSmile/04-2023-OSF-feature-csvs/OSF-2023-04-01-world-leaders-dataset-WavFiles-biden_wav_audio-44KHz.csv',\n",
       " '/home/ubuntu/data/world-leaders-dataset/WavFiles/biden_wav_audio/16KHz': '/home/ubuntu/data/OpenSmile/04-2023-OSF-feature-csvs/OSF-2023-04-01-world-leaders-dataset-WavFiles-biden_wav_audio-16KHz.csv',\n",
       " '/home/ubuntu/data/world-leaders-dataset/11LabsDeepFakes/Biden/44Khz': '/home/ubuntu/data/OpenSmile/04-2023-OSF-feature-csvs/OSF-2023-04-01-world-leaders-dataset-11LabsDeepFakes-Biden-44Khz.csv',\n",
       " '/home/ubuntu/data/world-leaders-dataset/11LabsDeepFakes/Biden/16Khz': '/home/ubuntu/data/OpenSmile/04-2023-OSF-feature-csvs/OSF-2023-04-01-world-leaders-dataset-11LabsDeepFakes-Biden-16Khz.csv',\n",
       " '/home/ubuntu/data/InTheWildFakes/Biden/Original': '/home/ubuntu/data/OpenSmile/04-2023-OSF-feature-csvs/OSF-2023-04-01-InTheWildFakes-Biden-Original.csv',\n",
       " '/home/ubuntu/data/InTheWildFakes/Biden/16000KHz': '/home/ubuntu/data/OpenSmile/04-2023-OSF-feature-csvs/OSF-2023-04-01-InTheWildFakes-Biden-16000KHz.csv',\n",
       " '/home/ubuntu/data/wavefake_data/LJSpeech_1.1/wavs/Original': '/home/ubuntu/data/OpenSmile/04-2023-OSF-feature-csvs/OSF-2023-04-01-wavefake_data-LJSpeech_1.1-wavs-Original.csv',\n",
       " '/home/ubuntu/data/wavefake_data/LJSpeech_1.1/wavs/16000KHz': '/home/ubuntu/data/OpenSmile/04-2023-OSF-feature-csvs/OSF-2023-04-01-wavefake_data-LJSpeech_1.1-wavs-16000KHz.csv',\n",
       " '/home/ubuntu/data/wavefake_data/generated_audio/ljspeech_elevenlabs/Original': '/home/ubuntu/data/OpenSmile/04-2023-OSF-feature-csvs/OSF-2023-04-01-wavefake_data-generated_audio-ljspeech_elevenlabs-Original.csv',\n",
       " '/home/ubuntu/data/wavefake_data/generated_audio/ljspeech_elevenlabs/16000KHz': '/home/ubuntu/data/OpenSmile/04-2023-OSF-feature-csvs/OSF-2023-04-01-wavefake_data-generated_audio-ljspeech_elevenlabs-16000KHz.csv',\n",
       " '/home/ubuntu/data/wavefake_data/generated_audio/ljspeech_uberduck/Original': '/home/ubuntu/data/OpenSmile/04-2023-OSF-feature-csvs/OSF-2023-04-06-wavefake_data-generated_audio-ljspeech_uberduck-Original.csv',\n",
       " '/home/ubuntu/data/wavefake_data/generated_audio/ljspeech_uberduck/16000KHz': '/home/ubuntu/data/OpenSmile/04-2023-OSF-feature-csvs/OSF-2023-04-06-wavefake_data-generated_audio-ljspeech_uberduck-16000KHz.csv',\n",
       " '/home/ubuntu/data/wavefake_data/generated_audio/ljspeech_melgan/Original': '/home/ubuntu/data/OpenSmile/04-2023-OSF-feature-csvs/OSF-2023-04-01-wavefake_data-generated_audio-ljspeech_melgan-Original.csv',\n",
       " '/home/ubuntu/data/wavefake_data/generated_audio/ljspeech_melgan/16000KHz': '/home/ubuntu/data/OpenSmile/04-2023-OSF-feature-csvs/OSF-2023-04-01-wavefake_data-generated_audio-ljspeech_melgan-16000KHz.csv',\n",
       " '/home/ubuntu/data/wavefake_data/generated_audio/ljspeech_melgan_large/Original': '/home/ubuntu/data/OpenSmile/04-2023-OSF-feature-csvs/OSF-2023-04-01-wavefake_data-generated_audio-ljspeech_melgan_large-Original.csv',\n",
       " '/home/ubuntu/data/wavefake_data/generated_audio/ljspeech_melgan_large/16000KHz': '/home/ubuntu/data/OpenSmile/04-2023-OSF-feature-csvs/OSF-2023-04-01-wavefake_data-generated_audio-ljspeech_melgan_large-16000KHz.csv',\n",
       " '/home/ubuntu/data/wavefake_data/generated_audio/ljspeech_multi_band_melgan/Original': '/home/ubuntu/data/OpenSmile/04-2023-OSF-feature-csvs/OSF-2023-04-01-wavefake_data-generated_audio-ljspeech_multi_band_melgan-Original.csv',\n",
       " '/home/ubuntu/data/wavefake_data/generated_audio/ljspeech_multi_band_melgan/16000KHz': '/home/ubuntu/data/OpenSmile/04-2023-OSF-feature-csvs/OSF-2023-04-01-wavefake_data-generated_audio-ljspeech_multi_band_melgan-16000KHz.csv',\n",
       " '/home/ubuntu/data/wavefake_data/generated_audio/ljspeech_full_band_melgan/Original': '/home/ubuntu/data/OpenSmile/04-2023-OSF-feature-csvs/OSF-2023-04-01-wavefake_data-generated_audio-ljspeech_full_band_melgan-Original.csv',\n",
       " '/home/ubuntu/data/wavefake_data/generated_audio/ljspeech_full_band_melgan/16000KHz': '/home/ubuntu/data/OpenSmile/04-2023-OSF-feature-csvs/OSF-2023-04-01-wavefake_data-generated_audio-ljspeech_full_band_melgan-16000KHz.csv',\n",
       " '/home/ubuntu/data/wavefake_data/generated_audio/ljspeech_hifiGAN/Original': '/home/ubuntu/data/OpenSmile/04-2023-OSF-feature-csvs/OSF-2023-04-01-wavefake_data-generated_audio-ljspeech_hifiGAN-Original.csv',\n",
       " '/home/ubuntu/data/wavefake_data/generated_audio/ljspeech_hifiGAN/16000KHz': '/home/ubuntu/data/OpenSmile/04-2023-OSF-feature-csvs/OSF-2023-04-01-wavefake_data-generated_audio-ljspeech_hifiGAN-16000KHz.csv',\n",
       " '/home/ubuntu/data/wavefake_data/generated_audio/ljspeech_parallel_wavegan/Original': '/home/ubuntu/data/OpenSmile/04-2023-OSF-feature-csvs/OSF-2023-04-01-wavefake_data-generated_audio-ljspeech_parallel_wavegan-Original.csv',\n",
       " '/home/ubuntu/data/wavefake_data/generated_audio/ljspeech_parallel_wavegan/16000KHz': '/home/ubuntu/data/OpenSmile/04-2023-OSF-feature-csvs/OSF-2023-04-01-wavefake_data-generated_audio-ljspeech_parallel_wavegan-16000KHz.csv',\n",
       " '/home/ubuntu/data/wavefake_data/generated_audio/ljspeech_waveglow/Original': '/home/ubuntu/data/OpenSmile/04-2023-OSF-feature-csvs/OSF-2023-04-01-wavefake_data-generated_audio-ljspeech_waveglow-Original.csv',\n",
       " '/home/ubuntu/data/wavefake_data/generated_audio/ljspeech_waveglow/16000KHz': '/home/ubuntu/data/OpenSmile/04-2023-OSF-feature-csvs/OSF-2023-04-01-wavefake_data-generated_audio-ljspeech_waveglow-16000KHz.csv'}"
      ]
     },
     "execution_count": 75,
     "metadata": {},
     "output_type": "execute_result"
    }
   ],
   "source": [
    "file_mapping = dict()\n",
    "\n",
    "#biden real\n",
    "file_mapping['/home/ubuntu/data/world-leaders-dataset/WavFiles/biden_wav_audio/44KHz'] = '/home/ubuntu/data/OpenSmile/04-2023-OSF-feature-csvs/OSF-2023-04-01-world-leaders-dataset-WavFiles-biden_wav_audio-44KHz.csv'\n",
    "file_mapping['/home/ubuntu/data/world-leaders-dataset/WavFiles/biden_wav_audio/16KHz'] = '/home/ubuntu/data/OpenSmile/04-2023-OSF-feature-csvs/OSF-2023-04-01-world-leaders-dataset-WavFiles-biden_wav_audio-16KHz.csv'\n",
    "\n",
    "#biden eleven labs\n",
    "file_mapping['/home/ubuntu/data/world-leaders-dataset/11LabsDeepFakes/Biden/44Khz'] = '/home/ubuntu/data/OpenSmile/04-2023-OSF-feature-csvs/OSF-2023-04-01-world-leaders-dataset-11LabsDeepFakes-Biden-44Khz.csv'\n",
    "file_mapping['/home/ubuntu/data/world-leaders-dataset/11LabsDeepFakes/Biden/16Khz'] = '/home/ubuntu/data/OpenSmile/04-2023-OSF-feature-csvs/OSF-2023-04-01-world-leaders-dataset-11LabsDeepFakes-Biden-16Khz.csv'\n",
    "\n",
    "#biden in the wild\n",
    "file_mapping['/home/ubuntu/data/InTheWildFakes/Biden/Original'] = '/home/ubuntu/data/OpenSmile/04-2023-OSF-feature-csvs/OSF-2023-04-01-InTheWildFakes-Biden-Original.csv'\n",
    "file_mapping['/home/ubuntu/data/InTheWildFakes/Biden/16000KHz'] = '/home/ubuntu/data/OpenSmile/04-2023-OSF-feature-csvs/OSF-2023-04-01-InTheWildFakes-Biden-16000KHz.csv'\n",
    "\n",
    "#ljspeech real\n",
    "file_mapping['/home/ubuntu/data/wavefake_data/LJSpeech_1.1/wavs/Original'] = '/home/ubuntu/data/OpenSmile/04-2023-OSF-feature-csvs/OSF-2023-04-01-wavefake_data-LJSpeech_1.1-wavs-Original.csv'\n",
    "file_mapping['/home/ubuntu/data/wavefake_data/LJSpeech_1.1/wavs/16000KHz'] = '/home/ubuntu/data/OpenSmile/04-2023-OSF-feature-csvs/OSF-2023-04-01-wavefake_data-LJSpeech_1.1-wavs-16000KHz.csv'\n",
    "\n",
    "#ljspeech eleven labs\n",
    "file_mapping['/home/ubuntu/data/wavefake_data/generated_audio/ljspeech_elevenlabs/Original'] = '/home/ubuntu/data/OpenSmile/04-2023-OSF-feature-csvs/OSF-2023-04-01-wavefake_data-generated_audio-ljspeech_elevenlabs-Original.csv'\n",
    "file_mapping['/home/ubuntu/data/wavefake_data/generated_audio/ljspeech_elevenlabs/16000KHz'] = '/home/ubuntu/data/OpenSmile/04-2023-OSF-feature-csvs/OSF-2023-04-01-wavefake_data-generated_audio-ljspeech_elevenlabs-16000KHz.csv'\n",
    "\n",
    "#ljspeech uberduck\n",
    "file_mapping['/home/ubuntu/data/wavefake_data/generated_audio/ljspeech_uberduck/Original'] = '/home/ubuntu/data/OpenSmile/04-2023-OSF-feature-csvs/OSF-2023-04-06-wavefake_data-generated_audio-ljspeech_uberduck-Original.csv'\n",
    "file_mapping['/home/ubuntu/data/wavefake_data/generated_audio/ljspeech_uberduck/16000KHz'] = '/home/ubuntu/data/OpenSmile/04-2023-OSF-feature-csvs/OSF-2023-04-06-wavefake_data-generated_audio-ljspeech_uberduck-16000KHz.csv'\n",
    "\n",
    "#ljspeech melgan\n",
    "file_mapping['/home/ubuntu/data/wavefake_data/generated_audio/ljspeech_melgan/Original'] = '/home/ubuntu/data/OpenSmile/04-2023-OSF-feature-csvs/OSF-2023-04-01-wavefake_data-generated_audio-ljspeech_melgan-Original.csv'\n",
    "file_mapping['/home/ubuntu/data/wavefake_data/generated_audio/ljspeech_melgan/16000KHz'] = '/home/ubuntu/data/OpenSmile/04-2023-OSF-feature-csvs/OSF-2023-04-01-wavefake_data-generated_audio-ljspeech_melgan-16000KHz.csv'\n",
    "\n",
    "#ljspeech melgan large\n",
    "file_mapping['/home/ubuntu/data/wavefake_data/generated_audio/ljspeech_melgan_large/Original'] = '/home/ubuntu/data/OpenSmile/04-2023-OSF-feature-csvs/OSF-2023-04-01-wavefake_data-generated_audio-ljspeech_melgan_large-Original.csv'\n",
    "file_mapping['/home/ubuntu/data/wavefake_data/generated_audio/ljspeech_melgan_large/16000KHz'] = '/home/ubuntu/data/OpenSmile/04-2023-OSF-feature-csvs/OSF-2023-04-01-wavefake_data-generated_audio-ljspeech_melgan_large-16000KHz.csv'\n",
    "\n",
    "#ljspeech multi band melgan\n",
    "file_mapping['/home/ubuntu/data/wavefake_data/generated_audio/ljspeech_multi_band_melgan/Original'] = '/home/ubuntu/data/OpenSmile/04-2023-OSF-feature-csvs/OSF-2023-04-01-wavefake_data-generated_audio-ljspeech_multi_band_melgan-Original.csv'\n",
    "file_mapping['/home/ubuntu/data/wavefake_data/generated_audio/ljspeech_multi_band_melgan/16000KHz'] = '/home/ubuntu/data/OpenSmile/04-2023-OSF-feature-csvs/OSF-2023-04-01-wavefake_data-generated_audio-ljspeech_multi_band_melgan-16000KHz.csv'\n",
    "\n",
    "#ljspeech full band melgan\n",
    "file_mapping['/home/ubuntu/data/wavefake_data/generated_audio/ljspeech_full_band_melgan/Original'] = '/home/ubuntu/data/OpenSmile/04-2023-OSF-feature-csvs/OSF-2023-04-01-wavefake_data-generated_audio-ljspeech_full_band_melgan-Original.csv'\n",
    "file_mapping['/home/ubuntu/data/wavefake_data/generated_audio/ljspeech_full_band_melgan/16000KHz'] = '/home/ubuntu/data/OpenSmile/04-2023-OSF-feature-csvs/OSF-2023-04-01-wavefake_data-generated_audio-ljspeech_full_band_melgan-16000KHz.csv'\n",
    "\n",
    "#ljspeech hifiGAN\n",
    "file_mapping['/home/ubuntu/data/wavefake_data/generated_audio/ljspeech_hifiGAN/Original'] = '/home/ubuntu/data/OpenSmile/04-2023-OSF-feature-csvs/OSF-2023-04-01-wavefake_data-generated_audio-ljspeech_hifiGAN-Original.csv'\n",
    "file_mapping['/home/ubuntu/data/wavefake_data/generated_audio/ljspeech_hifiGAN/16000KHz'] = '/home/ubuntu/data/OpenSmile/04-2023-OSF-feature-csvs/OSF-2023-04-01-wavefake_data-generated_audio-ljspeech_hifiGAN-16000KHz.csv'\n",
    "\n",
    "#ljspeech parallel wavegan\n",
    "file_mapping['/home/ubuntu/data/wavefake_data/generated_audio/ljspeech_parallel_wavegan/Original'] = '/home/ubuntu/data/OpenSmile/04-2023-OSF-feature-csvs/OSF-2023-04-01-wavefake_data-generated_audio-ljspeech_parallel_wavegan-Original.csv'\n",
    "file_mapping['/home/ubuntu/data/wavefake_data/generated_audio/ljspeech_parallel_wavegan/16000KHz'] = '/home/ubuntu/data/OpenSmile/04-2023-OSF-feature-csvs/OSF-2023-04-01-wavefake_data-generated_audio-ljspeech_parallel_wavegan-16000KHz.csv'\n",
    "\n",
    "#ljspeech waveglow\n",
    "file_mapping['/home/ubuntu/data/wavefake_data/generated_audio/ljspeech_waveglow/Original'] = '/home/ubuntu/data/OpenSmile/04-2023-OSF-feature-csvs/OSF-2023-04-01-wavefake_data-generated_audio-ljspeech_waveglow-Original.csv'\n",
    "file_mapping['/home/ubuntu/data/wavefake_data/generated_audio/ljspeech_waveglow/16000KHz'] = '/home/ubuntu/data/OpenSmile/04-2023-OSF-feature-csvs/OSF-2023-04-01-wavefake_data-generated_audio-ljspeech_waveglow-16000KHz.csv'\n",
    "\n",
    "file_mapping"
   ]
  },
  {
   "cell_type": "code",
   "execution_count": 77,
   "metadata": {},
   "outputs": [],
   "source": [
    "import json\n",
    "\n",
    "file_mappings = '/home/ubuntu/data/OpenSmile/04-2023-OSF-feature-csvs/' + 'file_mappings.json' \n",
    "\n",
    "with open(file_mappings, \"w\") as json_file:\n",
    "    json.dump(file_mapping, json_file, indent=4)"
   ]
  },
  {
   "cell_type": "markdown",
   "metadata": {},
   "source": [
    "## Scratchpad"
   ]
  },
  {
   "cell_type": "code",
   "execution_count": 78,
   "metadata": {},
   "outputs": [],
   "source": [
    "test_df_2 = pd.read_csv('/home/ubuntu/data/OpenSmile/04-2023-OSF-feature-csvs/OSF-2023-04-06-wavefake_data-generated_audio-ljspeech_uberduck-16000KHz.csv')"
   ]
  },
  {
   "cell_type": "code",
   "execution_count": 79,
   "metadata": {},
   "outputs": [
    {
     "data": {
      "text/plain": [
       "(13094, 6375)"
      ]
     },
     "execution_count": 79,
     "metadata": {},
     "output_type": "execute_result"
    }
   ],
   "source": [
    "test_df_2.shape"
   ]
  },
  {
   "cell_type": "code",
   "execution_count": 80,
   "metadata": {},
   "outputs": [
    {
     "data": {
      "text/html": [
       "<div>\n",
       "<style scoped>\n",
       "    .dataframe tbody tr th:only-of-type {\n",
       "        vertical-align: middle;\n",
       "    }\n",
       "\n",
       "    .dataframe tbody tr th {\n",
       "        vertical-align: top;\n",
       "    }\n",
       "\n",
       "    .dataframe thead th {\n",
       "        text-align: right;\n",
       "    }\n",
       "</style>\n",
       "<table border=\"1\" class=\"dataframe\">\n",
       "  <thead>\n",
       "    <tr style=\"text-align: right;\">\n",
       "      <th></th>\n",
       "      <th>path</th>\n",
       "      <th>label</th>\n",
       "      <th>multiclass_label</th>\n",
       "      <th>type</th>\n",
       "    </tr>\n",
       "  </thead>\n",
       "  <tbody>\n",
       "    <tr>\n",
       "      <th>2614</th>\n",
       "      <td>/home/ubuntu/data/wavefake_data/generated_audi...</td>\n",
       "      <td>1</td>\n",
       "      <td>2</td>\n",
       "      <td>train</td>\n",
       "    </tr>\n",
       "    <tr>\n",
       "      <th>10003</th>\n",
       "      <td>/home/ubuntu/data/wavefake_data/generated_audi...</td>\n",
       "      <td>1</td>\n",
       "      <td>4</td>\n",
       "      <td>dev</td>\n",
       "    </tr>\n",
       "    <tr>\n",
       "      <th>12056</th>\n",
       "      <td>/home/ubuntu/data/wavefake_data/generated_audi...</td>\n",
       "      <td>1</td>\n",
       "      <td>3</td>\n",
       "      <td>test</td>\n",
       "    </tr>\n",
       "    <tr>\n",
       "      <th>2924</th>\n",
       "      <td>/home/ubuntu/data/wavefake_data/generated_audi...</td>\n",
       "      <td>1</td>\n",
       "      <td>4</td>\n",
       "      <td>train</td>\n",
       "    </tr>\n",
       "    <tr>\n",
       "      <th>2495</th>\n",
       "      <td>/home/ubuntu/data/wavefake_data/generated_audi...</td>\n",
       "      <td>1</td>\n",
       "      <td>3</td>\n",
       "      <td>train</td>\n",
       "    </tr>\n",
       "  </tbody>\n",
       "</table>\n",
       "</div>"
      ],
      "text/plain": [
       "                                                    path  label  \\\n",
       "2614   /home/ubuntu/data/wavefake_data/generated_audi...      1   \n",
       "10003  /home/ubuntu/data/wavefake_data/generated_audi...      1   \n",
       "12056  /home/ubuntu/data/wavefake_data/generated_audi...      1   \n",
       "2924   /home/ubuntu/data/wavefake_data/generated_audi...      1   \n",
       "2495   /home/ubuntu/data/wavefake_data/generated_audi...      1   \n",
       "\n",
       "       multiclass_label   type  \n",
       "2614                  2  train  \n",
       "10003                 4    dev  \n",
       "12056                 3   test  \n",
       "2924                  4  train  \n",
       "2495                  3  train  "
      ]
     },
     "execution_count": 80,
     "metadata": {},
     "output_type": "execute_result"
    }
   ],
   "source": [
    "test_df.head()"
   ]
  },
  {
   "cell_type": "code",
   "execution_count": 81,
   "metadata": {},
   "outputs": [
    {
     "data": {
      "text/plain": [
       "'/home/ubuntu/data/OpenSmile/04-2023-OSF-feature-csvs/file_mappings.json'"
      ]
     },
     "execution_count": 81,
     "metadata": {},
     "output_type": "execute_result"
    }
   ],
   "source": [
    "file_mappings"
   ]
  },
  {
   "cell_type": "code",
   "execution_count": 20,
   "metadata": {},
   "outputs": [],
   "source": [
    "class smileFeatureLoader:\n",
    "    def __init__(self, df, \n",
    "                 file_mappings= '/home/ubuntu/data/OpenSmile/04-2023-OSF-feature-csvs/file_mappings.json') -> None:\n",
    "\n",
    "        self.df = df\n",
    "        self.df['path_keys'] = df.path.apply(lambda x: '/'.join(x.split('/')[:-1]))\n",
    "        \n",
    "        with open(file_mappings) as f:\n",
    "            self.file_mappings = json.load(f)\n",
    "        \n",
    "        self.merged_df = self._load_smile_features()\n",
    "        \n",
    "    def _load_smile_features(self):\n",
    "\n",
    "        tqdm.pandas()\n",
    "\n",
    "        merged_df = pd.DataFrame()\n",
    "        \n",
    "        #iterate through all the unique path keys in the provided df\n",
    "        for path_key in tqdm(self.df.path_keys.unique()):\n",
    "            \n",
    "            #load the precomputed smile features for files in the path key\n",
    "            csv_path = self.file_mappings[path_key]\n",
    "            right_df = pd.read_csv(csv_path)\n",
    "            \n",
    "            #create the left df by filtering the provided df by the path key\n",
    "            left_df = self.df[self.df.path_keys == path_key]\n",
    "\n",
    "            #merge the left and right dfs\n",
    "            merged_df = pd.concat([merged_df, pd.merge(left_df, right_df, left_on='path', right_on='file', how='left')], axis=0)\n",
    "\n",
    "        return merged_df\n",
    "                \n",
    "                "
   ]
  },
  {
   "cell_type": "code",
   "execution_count": 21,
   "metadata": {},
   "outputs": [
    {
     "name": "stderr",
     "output_type": "stream",
     "text": [
      "14it [00:12,  1.15it/s]00:00<?, ?it/s]\n",
      "14it [00:12,  1.14it/s]00:12<01:51, 12.43s/it]\n",
      "4it [00:04,  1.09s/it][00:24<01:39, 12.48s/it]\n",
      " 20%|██        | 2/10 [00:29<01:57, 14.66s/it]\n"
     ]
    },
    {
     "ename": "ParserError",
     "evalue": "Error tokenizing data. C error: Calling read(nbytes) on source failed. Try engine='python'.",
     "output_type": "error",
     "traceback": [
      "\u001b[0;31m---------------------------------------------------------------------------\u001b[0m",
      "\u001b[0;31mParserError\u001b[0m                               Traceback (most recent call last)",
      "Cell \u001b[0;32mIn[21], line 1\u001b[0m\n\u001b[0;32m----> 1\u001b[0m sm \u001b[39m=\u001b[39m smileFeatureLoader(test_df)\n",
      "Cell \u001b[0;32mIn[20], line 11\u001b[0m, in \u001b[0;36msmileFeatureLoader.__init__\u001b[0;34m(self, df, file_mappings)\u001b[0m\n\u001b[1;32m      8\u001b[0m \u001b[39mwith\u001b[39;00m \u001b[39mopen\u001b[39m(file_mappings) \u001b[39mas\u001b[39;00m f:\n\u001b[1;32m      9\u001b[0m     \u001b[39mself\u001b[39m\u001b[39m.\u001b[39mfile_mappings \u001b[39m=\u001b[39m json\u001b[39m.\u001b[39mload(f)\n\u001b[0;32m---> 11\u001b[0m \u001b[39mself\u001b[39m\u001b[39m.\u001b[39mmerged_df \u001b[39m=\u001b[39m \u001b[39mself\u001b[39;49m\u001b[39m.\u001b[39;49m_load_smile_features()\n",
      "Cell \u001b[0;32mIn[20], line 25\u001b[0m, in \u001b[0;36msmileFeatureLoader._load_smile_features\u001b[0;34m(self)\u001b[0m\n\u001b[1;32m     23\u001b[0m csv_path \u001b[39m=\u001b[39m \u001b[39mself\u001b[39m\u001b[39m.\u001b[39mfile_mappings[path_key]\n\u001b[1;32m     24\u001b[0m right_df \u001b[39m=\u001b[39m pd\u001b[39m.\u001b[39mread_csv(csv_path, iterator\u001b[39m=\u001b[39m\u001b[39mTrue\u001b[39;00m, chunksize\u001b[39m=\u001b[39m\u001b[39m1000\u001b[39m)\n\u001b[0;32m---> 25\u001b[0m right_df \u001b[39m=\u001b[39m pd\u001b[39m.\u001b[39;49mconcat(tqdm(right_df), ignore_index\u001b[39m=\u001b[39;49m\u001b[39mTrue\u001b[39;49;00m)\n\u001b[1;32m     27\u001b[0m \u001b[39m#create the left df by filtering the provided df by the path key\u001b[39;00m\n\u001b[1;32m     28\u001b[0m left_df \u001b[39m=\u001b[39m \u001b[39mself\u001b[39m\u001b[39m.\u001b[39mdf[\u001b[39mself\u001b[39m\u001b[39m.\u001b[39mdf\u001b[39m.\u001b[39mpath_keys \u001b[39m==\u001b[39m path_key]\n",
      "File \u001b[0;32m~/miniconda3/envs/deepfake-detection-v1/lib/python3.9/site-packages/pandas/util/_decorators.py:331\u001b[0m, in \u001b[0;36mdeprecate_nonkeyword_arguments.<locals>.decorate.<locals>.wrapper\u001b[0;34m(*args, **kwargs)\u001b[0m\n\u001b[1;32m    325\u001b[0m \u001b[39mif\u001b[39;00m \u001b[39mlen\u001b[39m(args) \u001b[39m>\u001b[39m num_allow_args:\n\u001b[1;32m    326\u001b[0m     warnings\u001b[39m.\u001b[39mwarn(\n\u001b[1;32m    327\u001b[0m         msg\u001b[39m.\u001b[39mformat(arguments\u001b[39m=\u001b[39m_format_argument_list(allow_args)),\n\u001b[1;32m    328\u001b[0m         \u001b[39mFutureWarning\u001b[39;00m,\n\u001b[1;32m    329\u001b[0m         stacklevel\u001b[39m=\u001b[39mfind_stack_level(),\n\u001b[1;32m    330\u001b[0m     )\n\u001b[0;32m--> 331\u001b[0m \u001b[39mreturn\u001b[39;00m func(\u001b[39m*\u001b[39;49margs, \u001b[39m*\u001b[39;49m\u001b[39m*\u001b[39;49mkwargs)\n",
      "File \u001b[0;32m~/miniconda3/envs/deepfake-detection-v1/lib/python3.9/site-packages/pandas/core/reshape/concat.py:368\u001b[0m, in \u001b[0;36mconcat\u001b[0;34m(objs, axis, join, ignore_index, keys, levels, names, verify_integrity, sort, copy)\u001b[0m\n\u001b[1;32m    146\u001b[0m \u001b[39m@deprecate_nonkeyword_arguments\u001b[39m(version\u001b[39m=\u001b[39m\u001b[39mNone\u001b[39;00m, allowed_args\u001b[39m=\u001b[39m[\u001b[39m\"\u001b[39m\u001b[39mobjs\u001b[39m\u001b[39m\"\u001b[39m])\n\u001b[1;32m    147\u001b[0m \u001b[39mdef\u001b[39;00m \u001b[39mconcat\u001b[39m(\n\u001b[1;32m    148\u001b[0m     objs: Iterable[NDFrame] \u001b[39m|\u001b[39m Mapping[HashableT, NDFrame],\n\u001b[0;32m   (...)\u001b[0m\n\u001b[1;32m    157\u001b[0m     copy: \u001b[39mbool\u001b[39m \u001b[39m=\u001b[39m \u001b[39mTrue\u001b[39;00m,\n\u001b[1;32m    158\u001b[0m ) \u001b[39m-\u001b[39m\u001b[39m>\u001b[39m DataFrame \u001b[39m|\u001b[39m Series:\n\u001b[1;32m    159\u001b[0m     \u001b[39m\"\"\"\u001b[39;00m\n\u001b[1;32m    160\u001b[0m \u001b[39m    Concatenate pandas objects along a particular axis.\u001b[39;00m\n\u001b[1;32m    161\u001b[0m \n\u001b[0;32m   (...)\u001b[0m\n\u001b[1;32m    366\u001b[0m \u001b[39m    1   3   4\u001b[39;00m\n\u001b[1;32m    367\u001b[0m \u001b[39m    \"\"\"\u001b[39;00m\n\u001b[0;32m--> 368\u001b[0m     op \u001b[39m=\u001b[39m _Concatenator(\n\u001b[1;32m    369\u001b[0m         objs,\n\u001b[1;32m    370\u001b[0m         axis\u001b[39m=\u001b[39;49maxis,\n\u001b[1;32m    371\u001b[0m         ignore_index\u001b[39m=\u001b[39;49mignore_index,\n\u001b[1;32m    372\u001b[0m         join\u001b[39m=\u001b[39;49mjoin,\n\u001b[1;32m    373\u001b[0m         keys\u001b[39m=\u001b[39;49mkeys,\n\u001b[1;32m    374\u001b[0m         levels\u001b[39m=\u001b[39;49mlevels,\n\u001b[1;32m    375\u001b[0m         names\u001b[39m=\u001b[39;49mnames,\n\u001b[1;32m    376\u001b[0m         verify_integrity\u001b[39m=\u001b[39;49mverify_integrity,\n\u001b[1;32m    377\u001b[0m         copy\u001b[39m=\u001b[39;49mcopy,\n\u001b[1;32m    378\u001b[0m         sort\u001b[39m=\u001b[39;49msort,\n\u001b[1;32m    379\u001b[0m     )\n\u001b[1;32m    381\u001b[0m     \u001b[39mreturn\u001b[39;00m op\u001b[39m.\u001b[39mget_result()\n",
      "File \u001b[0;32m~/miniconda3/envs/deepfake-detection-v1/lib/python3.9/site-packages/pandas/core/reshape/concat.py:422\u001b[0m, in \u001b[0;36m_Concatenator.__init__\u001b[0;34m(self, objs, axis, join, keys, levels, names, ignore_index, verify_integrity, copy, sort)\u001b[0m\n\u001b[1;32m    420\u001b[0m     objs \u001b[39m=\u001b[39m [objs[k] \u001b[39mfor\u001b[39;00m k \u001b[39min\u001b[39;00m keys]\n\u001b[1;32m    421\u001b[0m \u001b[39melse\u001b[39;00m:\n\u001b[0;32m--> 422\u001b[0m     objs \u001b[39m=\u001b[39m \u001b[39mlist\u001b[39;49m(objs)\n\u001b[1;32m    424\u001b[0m \u001b[39mif\u001b[39;00m \u001b[39mlen\u001b[39m(objs) \u001b[39m==\u001b[39m \u001b[39m0\u001b[39m:\n\u001b[1;32m    425\u001b[0m     \u001b[39mraise\u001b[39;00m \u001b[39mValueError\u001b[39;00m(\u001b[39m\"\u001b[39m\u001b[39mNo objects to concatenate\u001b[39m\u001b[39m\"\u001b[39m)\n",
      "File \u001b[0;32m~/miniconda3/envs/deepfake-detection-v1/lib/python3.9/site-packages/tqdm/std.py:1195\u001b[0m, in \u001b[0;36mtqdm.__iter__\u001b[0;34m(self)\u001b[0m\n\u001b[1;32m   1192\u001b[0m time \u001b[39m=\u001b[39m \u001b[39mself\u001b[39m\u001b[39m.\u001b[39m_time\n\u001b[1;32m   1194\u001b[0m \u001b[39mtry\u001b[39;00m:\n\u001b[0;32m-> 1195\u001b[0m     \u001b[39mfor\u001b[39;00m obj \u001b[39min\u001b[39;00m iterable:\n\u001b[1;32m   1196\u001b[0m         \u001b[39myield\u001b[39;00m obj\n\u001b[1;32m   1197\u001b[0m         \u001b[39m# Update and possibly print the progressbar.\u001b[39;00m\n\u001b[1;32m   1198\u001b[0m         \u001b[39m# Note: does not call self.update(1) for speed optimisation.\u001b[39;00m\n",
      "File \u001b[0;32m~/miniconda3/envs/deepfake-detection-v1/lib/python3.9/site-packages/pandas/io/parsers/readers.py:1698\u001b[0m, in \u001b[0;36mTextFileReader.__next__\u001b[0;34m(self)\u001b[0m\n\u001b[1;32m   1696\u001b[0m \u001b[39mdef\u001b[39;00m \u001b[39m__next__\u001b[39m(\u001b[39mself\u001b[39m) \u001b[39m-\u001b[39m\u001b[39m>\u001b[39m DataFrame:\n\u001b[1;32m   1697\u001b[0m     \u001b[39mtry\u001b[39;00m:\n\u001b[0;32m-> 1698\u001b[0m         \u001b[39mreturn\u001b[39;00m \u001b[39mself\u001b[39;49m\u001b[39m.\u001b[39;49mget_chunk()\n\u001b[1;32m   1699\u001b[0m     \u001b[39mexcept\u001b[39;00m \u001b[39mStopIteration\u001b[39;00m:\n\u001b[1;32m   1700\u001b[0m         \u001b[39mself\u001b[39m\u001b[39m.\u001b[39mclose()\n",
      "File \u001b[0;32m~/miniconda3/envs/deepfake-detection-v1/lib/python3.9/site-packages/pandas/io/parsers/readers.py:1810\u001b[0m, in \u001b[0;36mTextFileReader.get_chunk\u001b[0;34m(self, size)\u001b[0m\n\u001b[1;32m   1808\u001b[0m         \u001b[39mraise\u001b[39;00m \u001b[39mStopIteration\u001b[39;00m\n\u001b[1;32m   1809\u001b[0m     size \u001b[39m=\u001b[39m \u001b[39mmin\u001b[39m(size, \u001b[39mself\u001b[39m\u001b[39m.\u001b[39mnrows \u001b[39m-\u001b[39m \u001b[39mself\u001b[39m\u001b[39m.\u001b[39m_currow)\n\u001b[0;32m-> 1810\u001b[0m \u001b[39mreturn\u001b[39;00m \u001b[39mself\u001b[39;49m\u001b[39m.\u001b[39;49mread(nrows\u001b[39m=\u001b[39;49msize)\n",
      "File \u001b[0;32m~/miniconda3/envs/deepfake-detection-v1/lib/python3.9/site-packages/pandas/io/parsers/readers.py:1778\u001b[0m, in \u001b[0;36mTextFileReader.read\u001b[0;34m(self, nrows)\u001b[0m\n\u001b[1;32m   1771\u001b[0m nrows \u001b[39m=\u001b[39m validate_integer(\u001b[39m\"\u001b[39m\u001b[39mnrows\u001b[39m\u001b[39m\"\u001b[39m, nrows)\n\u001b[1;32m   1772\u001b[0m \u001b[39mtry\u001b[39;00m:\n\u001b[1;32m   1773\u001b[0m     \u001b[39m# error: \"ParserBase\" has no attribute \"read\"\u001b[39;00m\n\u001b[1;32m   1774\u001b[0m     (\n\u001b[1;32m   1775\u001b[0m         index,\n\u001b[1;32m   1776\u001b[0m         columns,\n\u001b[1;32m   1777\u001b[0m         col_dict,\n\u001b[0;32m-> 1778\u001b[0m     ) \u001b[39m=\u001b[39m \u001b[39mself\u001b[39;49m\u001b[39m.\u001b[39;49m_engine\u001b[39m.\u001b[39;49mread(  \u001b[39m# type: ignore[attr-defined]\u001b[39;49;00m\n\u001b[1;32m   1779\u001b[0m         nrows\n\u001b[1;32m   1780\u001b[0m     )\n\u001b[1;32m   1781\u001b[0m \u001b[39mexcept\u001b[39;00m \u001b[39mException\u001b[39;00m:\n\u001b[1;32m   1782\u001b[0m     \u001b[39mself\u001b[39m\u001b[39m.\u001b[39mclose()\n",
      "File \u001b[0;32m~/miniconda3/envs/deepfake-detection-v1/lib/python3.9/site-packages/pandas/io/parsers/c_parser_wrapper.py:230\u001b[0m, in \u001b[0;36mCParserWrapper.read\u001b[0;34m(self, nrows)\u001b[0m\n\u001b[1;32m    228\u001b[0m \u001b[39mtry\u001b[39;00m:\n\u001b[1;32m    229\u001b[0m     \u001b[39mif\u001b[39;00m \u001b[39mself\u001b[39m\u001b[39m.\u001b[39mlow_memory:\n\u001b[0;32m--> 230\u001b[0m         chunks \u001b[39m=\u001b[39m \u001b[39mself\u001b[39;49m\u001b[39m.\u001b[39;49m_reader\u001b[39m.\u001b[39;49mread_low_memory(nrows)\n\u001b[1;32m    231\u001b[0m         \u001b[39m# destructive to chunks\u001b[39;00m\n\u001b[1;32m    232\u001b[0m         data \u001b[39m=\u001b[39m _concatenate_chunks(chunks)\n",
      "File \u001b[0;32m~/miniconda3/envs/deepfake-detection-v1/lib/python3.9/site-packages/pandas/_libs/parsers.pyx:820\u001b[0m, in \u001b[0;36mpandas._libs.parsers.TextReader.read_low_memory\u001b[0;34m()\u001b[0m\n",
      "File \u001b[0;32m~/miniconda3/envs/deepfake-detection-v1/lib/python3.9/site-packages/pandas/_libs/parsers.pyx:866\u001b[0m, in \u001b[0;36mpandas._libs.parsers.TextReader._read_rows\u001b[0;34m()\u001b[0m\n",
      "File \u001b[0;32m~/miniconda3/envs/deepfake-detection-v1/lib/python3.9/site-packages/pandas/_libs/parsers.pyx:852\u001b[0m, in \u001b[0;36mpandas._libs.parsers.TextReader._tokenize_rows\u001b[0;34m()\u001b[0m\n",
      "File \u001b[0;32m~/miniconda3/envs/deepfake-detection-v1/lib/python3.9/site-packages/pandas/_libs/parsers.pyx:1973\u001b[0m, in \u001b[0;36mpandas._libs.parsers.raise_parser_error\u001b[0;34m()\u001b[0m\n",
      "\u001b[0;31mParserError\u001b[0m: Error tokenizing data. C error: Calling read(nbytes) on source failed. Try engine='python'."
     ]
    }
   ],
   "source": [
    "sm = smileFeatureLoader(test_df)"
   ]
  },
  {
   "cell_type": "code",
   "execution_count": 13,
   "metadata": {},
   "outputs": [
    {
     "data": {
      "text/html": [
       "<div>\n",
       "<style scoped>\n",
       "    .dataframe tbody tr th:only-of-type {\n",
       "        vertical-align: middle;\n",
       "    }\n",
       "\n",
       "    .dataframe tbody tr th {\n",
       "        vertical-align: top;\n",
       "    }\n",
       "\n",
       "    .dataframe thead th {\n",
       "        text-align: right;\n",
       "    }\n",
       "</style>\n",
       "<table border=\"1\" class=\"dataframe\">\n",
       "  <thead>\n",
       "    <tr style=\"text-align: right;\">\n",
       "      <th></th>\n",
       "      <th>path</th>\n",
       "      <th>label</th>\n",
       "      <th>multiclass_label</th>\n",
       "      <th>type</th>\n",
       "      <th>path_keys</th>\n",
       "      <th>file</th>\n",
       "      <th>duration(seconds)</th>\n",
       "      <th>audspec_lengthL1norm_sma_range</th>\n",
       "      <th>audspec_lengthL1norm_sma_maxPos</th>\n",
       "      <th>audspec_lengthL1norm_sma_minPos</th>\n",
       "      <th>...</th>\n",
       "      <th>mfcc_sma_de[14]_peakRangeAbs</th>\n",
       "      <th>mfcc_sma_de[14]_peakRangeRel</th>\n",
       "      <th>mfcc_sma_de[14]_peakMeanAbs</th>\n",
       "      <th>mfcc_sma_de[14]_peakMeanMeanDist</th>\n",
       "      <th>mfcc_sma_de[14]_peakMeanRel</th>\n",
       "      <th>mfcc_sma_de[14]_minRangeRel</th>\n",
       "      <th>mfcc_sma_de[14]_meanRisingSlope</th>\n",
       "      <th>mfcc_sma_de[14]_stddevRisingSlope</th>\n",
       "      <th>mfcc_sma_de[14]_meanFallingSlope</th>\n",
       "      <th>mfcc_sma_de[14]_stddevFallingSlope</th>\n",
       "    </tr>\n",
       "  </thead>\n",
       "  <tbody>\n",
       "    <tr>\n",
       "      <th>0</th>\n",
       "      <td>/home/ubuntu/data/wavefake_data/generated_audi...</td>\n",
       "      <td>1</td>\n",
       "      <td>8</td>\n",
       "      <td>train</td>\n",
       "      <td>/home/ubuntu/data/wavefake_data/generated_audi...</td>\n",
       "      <td>/home/ubuntu/data/wavefake_data/generated_audi...</td>\n",
       "      <td>6.269</td>\n",
       "      <td>1.833148</td>\n",
       "      <td>0.583199</td>\n",
       "      <td>0.000000</td>\n",
       "      <td>...</td>\n",
       "      <td>10.114010</td>\n",
       "      <td>0.511215</td>\n",
       "      <td>3.687236</td>\n",
       "      <td>3.687813</td>\n",
       "      <td>-20.000000</td>\n",
       "      <td>0.605559</td>\n",
       "      <td>140.96674</td>\n",
       "      <td>61.022186</td>\n",
       "      <td>139.871150</td>\n",
       "      <td>83.242775</td>\n",
       "    </tr>\n",
       "    <tr>\n",
       "      <th>1</th>\n",
       "      <td>/home/ubuntu/data/wavefake_data/generated_audi...</td>\n",
       "      <td>1</td>\n",
       "      <td>8</td>\n",
       "      <td>train</td>\n",
       "      <td>/home/ubuntu/data/wavefake_data/generated_audi...</td>\n",
       "      <td>/home/ubuntu/data/wavefake_data/generated_audi...</td>\n",
       "      <td>2.089</td>\n",
       "      <td>2.192309</td>\n",
       "      <td>0.144279</td>\n",
       "      <td>0.000000</td>\n",
       "      <td>...</td>\n",
       "      <td>5.299999</td>\n",
       "      <td>0.410885</td>\n",
       "      <td>2.593824</td>\n",
       "      <td>2.601382</td>\n",
       "      <td>-19.980114</td>\n",
       "      <td>0.613261</td>\n",
       "      <td>130.84023</td>\n",
       "      <td>61.562347</td>\n",
       "      <td>104.060470</td>\n",
       "      <td>43.534836</td>\n",
       "    </tr>\n",
       "    <tr>\n",
       "      <th>2</th>\n",
       "      <td>/home/ubuntu/data/wavefake_data/generated_audi...</td>\n",
       "      <td>1</td>\n",
       "      <td>8</td>\n",
       "      <td>train</td>\n",
       "      <td>/home/ubuntu/data/wavefake_data/generated_audi...</td>\n",
       "      <td>/home/ubuntu/data/wavefake_data/generated_audi...</td>\n",
       "      <td>9.012</td>\n",
       "      <td>1.809207</td>\n",
       "      <td>0.024608</td>\n",
       "      <td>0.000000</td>\n",
       "      <td>...</td>\n",
       "      <td>10.790438</td>\n",
       "      <td>0.525003</td>\n",
       "      <td>3.622012</td>\n",
       "      <td>3.623859</td>\n",
       "      <td>-20.000000</td>\n",
       "      <td>0.531072</td>\n",
       "      <td>147.01364</td>\n",
       "      <td>78.597780</td>\n",
       "      <td>140.556670</td>\n",
       "      <td>68.385190</td>\n",
       "    </tr>\n",
       "    <tr>\n",
       "      <th>3</th>\n",
       "      <td>/home/ubuntu/data/wavefake_data/generated_audi...</td>\n",
       "      <td>1</td>\n",
       "      <td>8</td>\n",
       "      <td>train</td>\n",
       "      <td>/home/ubuntu/data/wavefake_data/generated_audi...</td>\n",
       "      <td>/home/ubuntu/data/wavefake_data/generated_audi...</td>\n",
       "      <td>6.530</td>\n",
       "      <td>1.916828</td>\n",
       "      <td>0.010836</td>\n",
       "      <td>0.000000</td>\n",
       "      <td>...</td>\n",
       "      <td>10.668040</td>\n",
       "      <td>0.543688</td>\n",
       "      <td>3.270228</td>\n",
       "      <td>3.269604</td>\n",
       "      <td>20.000000</td>\n",
       "      <td>0.532827</td>\n",
       "      <td>148.19579</td>\n",
       "      <td>77.316980</td>\n",
       "      <td>137.104170</td>\n",
       "      <td>65.971275</td>\n",
       "    </tr>\n",
       "    <tr>\n",
       "      <th>4</th>\n",
       "      <td>/home/ubuntu/data/wavefake_data/generated_audi...</td>\n",
       "      <td>1</td>\n",
       "      <td>8</td>\n",
       "      <td>train</td>\n",
       "      <td>/home/ubuntu/data/wavefake_data/generated_audi...</td>\n",
       "      <td>/home/ubuntu/data/wavefake_data/generated_audi...</td>\n",
       "      <td>3.761</td>\n",
       "      <td>1.712983</td>\n",
       "      <td>0.243902</td>\n",
       "      <td>0.000000</td>\n",
       "      <td>...</td>\n",
       "      <td>6.755691</td>\n",
       "      <td>0.469319</td>\n",
       "      <td>2.834880</td>\n",
       "      <td>2.844430</td>\n",
       "      <td>-19.966377</td>\n",
       "      <td>0.649432</td>\n",
       "      <td>126.90704</td>\n",
       "      <td>65.421590</td>\n",
       "      <td>130.091920</td>\n",
       "      <td>60.061220</td>\n",
       "    </tr>\n",
       "    <tr>\n",
       "      <th>...</th>\n",
       "      <td>...</td>\n",
       "      <td>...</td>\n",
       "      <td>...</td>\n",
       "      <td>...</td>\n",
       "      <td>...</td>\n",
       "      <td>...</td>\n",
       "      <td>...</td>\n",
       "      <td>...</td>\n",
       "      <td>...</td>\n",
       "      <td>...</td>\n",
       "      <td>...</td>\n",
       "      <td>...</td>\n",
       "      <td>...</td>\n",
       "      <td>...</td>\n",
       "      <td>...</td>\n",
       "      <td>...</td>\n",
       "      <td>...</td>\n",
       "      <td>...</td>\n",
       "      <td>...</td>\n",
       "      <td>...</td>\n",
       "      <td>...</td>\n",
       "    </tr>\n",
       "    <tr>\n",
       "      <th>95</th>\n",
       "      <td>/home/ubuntu/data/wavefake_data/generated_audi...</td>\n",
       "      <td>1</td>\n",
       "      <td>5</td>\n",
       "      <td>train</td>\n",
       "      <td>/home/ubuntu/data/wavefake_data/generated_audi...</td>\n",
       "      <td>/home/ubuntu/data/wavefake_data/generated_audi...</td>\n",
       "      <td>8.661</td>\n",
       "      <td>1.553160</td>\n",
       "      <td>0.076834</td>\n",
       "      <td>0.649593</td>\n",
       "      <td>...</td>\n",
       "      <td>10.735183</td>\n",
       "      <td>0.646978</td>\n",
       "      <td>2.648336</td>\n",
       "      <td>2.641622</td>\n",
       "      <td>19.988420</td>\n",
       "      <td>0.456448</td>\n",
       "      <td>120.63265</td>\n",
       "      <td>66.592440</td>\n",
       "      <td>117.374954</td>\n",
       "      <td>65.537590</td>\n",
       "    </tr>\n",
       "    <tr>\n",
       "      <th>96</th>\n",
       "      <td>/home/ubuntu/data/wavefake_data/generated_audi...</td>\n",
       "      <td>1</td>\n",
       "      <td>5</td>\n",
       "      <td>test</td>\n",
       "      <td>/home/ubuntu/data/wavefake_data/generated_audi...</td>\n",
       "      <td>/home/ubuntu/data/wavefake_data/generated_audi...</td>\n",
       "      <td>8.336</td>\n",
       "      <td>1.772172</td>\n",
       "      <td>0.700968</td>\n",
       "      <td>0.648910</td>\n",
       "      <td>...</td>\n",
       "      <td>7.625343</td>\n",
       "      <td>0.608741</td>\n",
       "      <td>2.418311</td>\n",
       "      <td>2.424134</td>\n",
       "      <td>-19.990600</td>\n",
       "      <td>0.610165</td>\n",
       "      <td>104.94406</td>\n",
       "      <td>54.201775</td>\n",
       "      <td>115.714910</td>\n",
       "      <td>57.590630</td>\n",
       "    </tr>\n",
       "    <tr>\n",
       "      <th>97</th>\n",
       "      <td>/home/ubuntu/data/wavefake_data/generated_audi...</td>\n",
       "      <td>1</td>\n",
       "      <td>5</td>\n",
       "      <td>train</td>\n",
       "      <td>/home/ubuntu/data/wavefake_data/generated_audi...</td>\n",
       "      <td>/home/ubuntu/data/wavefake_data/generated_audi...</td>\n",
       "      <td>6.490</td>\n",
       "      <td>1.954121</td>\n",
       "      <td>0.951713</td>\n",
       "      <td>0.476636</td>\n",
       "      <td>...</td>\n",
       "      <td>8.423761</td>\n",
       "      <td>0.647947</td>\n",
       "      <td>2.706032</td>\n",
       "      <td>2.693978</td>\n",
       "      <td>19.916290</td>\n",
       "      <td>0.429277</td>\n",
       "      <td>113.65552</td>\n",
       "      <td>59.076927</td>\n",
       "      <td>117.757900</td>\n",
       "      <td>53.465050</td>\n",
       "    </tr>\n",
       "    <tr>\n",
       "      <th>98</th>\n",
       "      <td>/home/ubuntu/data/wavefake_data/generated_audi...</td>\n",
       "      <td>1</td>\n",
       "      <td>5</td>\n",
       "      <td>test</td>\n",
       "      <td>/home/ubuntu/data/wavefake_data/generated_audi...</td>\n",
       "      <td>/home/ubuntu/data/wavefake_data/generated_audi...</td>\n",
       "      <td>5.932</td>\n",
       "      <td>1.838428</td>\n",
       "      <td>0.206485</td>\n",
       "      <td>0.186007</td>\n",
       "      <td>...</td>\n",
       "      <td>7.011283</td>\n",
       "      <td>0.556861</td>\n",
       "      <td>2.458248</td>\n",
       "      <td>2.465018</td>\n",
       "      <td>-19.983952</td>\n",
       "      <td>0.514018</td>\n",
       "      <td>111.73879</td>\n",
       "      <td>49.925026</td>\n",
       "      <td>105.887634</td>\n",
       "      <td>54.165188</td>\n",
       "    </tr>\n",
       "    <tr>\n",
       "      <th>99</th>\n",
       "      <td>/home/ubuntu/data/wavefake_data/generated_audi...</td>\n",
       "      <td>1</td>\n",
       "      <td>5</td>\n",
       "      <td>train</td>\n",
       "      <td>/home/ubuntu/data/wavefake_data/generated_audi...</td>\n",
       "      <td>/home/ubuntu/data/wavefake_data/generated_audi...</td>\n",
       "      <td>4.365</td>\n",
       "      <td>1.517043</td>\n",
       "      <td>0.275058</td>\n",
       "      <td>0.596737</td>\n",
       "      <td>...</td>\n",
       "      <td>6.740565</td>\n",
       "      <td>0.566793</td>\n",
       "      <td>2.268948</td>\n",
       "      <td>2.266029</td>\n",
       "      <td>19.999542</td>\n",
       "      <td>0.525073</td>\n",
       "      <td>112.47779</td>\n",
       "      <td>50.066635</td>\n",
       "      <td>96.771250</td>\n",
       "      <td>53.011440</td>\n",
       "    </tr>\n",
       "  </tbody>\n",
       "</table>\n",
       "<p>1000 rows × 6380 columns</p>\n",
       "</div>"
      ],
      "text/plain": [
       "                                                 path  label  \\\n",
       "0   /home/ubuntu/data/wavefake_data/generated_audi...      1   \n",
       "1   /home/ubuntu/data/wavefake_data/generated_audi...      1   \n",
       "2   /home/ubuntu/data/wavefake_data/generated_audi...      1   \n",
       "3   /home/ubuntu/data/wavefake_data/generated_audi...      1   \n",
       "4   /home/ubuntu/data/wavefake_data/generated_audi...      1   \n",
       "..                                                ...    ...   \n",
       "95  /home/ubuntu/data/wavefake_data/generated_audi...      1   \n",
       "96  /home/ubuntu/data/wavefake_data/generated_audi...      1   \n",
       "97  /home/ubuntu/data/wavefake_data/generated_audi...      1   \n",
       "98  /home/ubuntu/data/wavefake_data/generated_audi...      1   \n",
       "99  /home/ubuntu/data/wavefake_data/generated_audi...      1   \n",
       "\n",
       "    multiclass_label   type  \\\n",
       "0                  8  train   \n",
       "1                  8  train   \n",
       "2                  8  train   \n",
       "3                  8  train   \n",
       "4                  8  train   \n",
       "..               ...    ...   \n",
       "95                 5  train   \n",
       "96                 5   test   \n",
       "97                 5  train   \n",
       "98                 5   test   \n",
       "99                 5  train   \n",
       "\n",
       "                                            path_keys  \\\n",
       "0   /home/ubuntu/data/wavefake_data/generated_audi...   \n",
       "1   /home/ubuntu/data/wavefake_data/generated_audi...   \n",
       "2   /home/ubuntu/data/wavefake_data/generated_audi...   \n",
       "3   /home/ubuntu/data/wavefake_data/generated_audi...   \n",
       "4   /home/ubuntu/data/wavefake_data/generated_audi...   \n",
       "..                                                ...   \n",
       "95  /home/ubuntu/data/wavefake_data/generated_audi...   \n",
       "96  /home/ubuntu/data/wavefake_data/generated_audi...   \n",
       "97  /home/ubuntu/data/wavefake_data/generated_audi...   \n",
       "98  /home/ubuntu/data/wavefake_data/generated_audi...   \n",
       "99  /home/ubuntu/data/wavefake_data/generated_audi...   \n",
       "\n",
       "                                                 file  duration(seconds)  \\\n",
       "0   /home/ubuntu/data/wavefake_data/generated_audi...              6.269   \n",
       "1   /home/ubuntu/data/wavefake_data/generated_audi...              2.089   \n",
       "2   /home/ubuntu/data/wavefake_data/generated_audi...              9.012   \n",
       "3   /home/ubuntu/data/wavefake_data/generated_audi...              6.530   \n",
       "4   /home/ubuntu/data/wavefake_data/generated_audi...              3.761   \n",
       "..                                                ...                ...   \n",
       "95  /home/ubuntu/data/wavefake_data/generated_audi...              8.661   \n",
       "96  /home/ubuntu/data/wavefake_data/generated_audi...              8.336   \n",
       "97  /home/ubuntu/data/wavefake_data/generated_audi...              6.490   \n",
       "98  /home/ubuntu/data/wavefake_data/generated_audi...              5.932   \n",
       "99  /home/ubuntu/data/wavefake_data/generated_audi...              4.365   \n",
       "\n",
       "    audspec_lengthL1norm_sma_range  audspec_lengthL1norm_sma_maxPos  \\\n",
       "0                         1.833148                         0.583199   \n",
       "1                         2.192309                         0.144279   \n",
       "2                         1.809207                         0.024608   \n",
       "3                         1.916828                         0.010836   \n",
       "4                         1.712983                         0.243902   \n",
       "..                             ...                              ...   \n",
       "95                        1.553160                         0.076834   \n",
       "96                        1.772172                         0.700968   \n",
       "97                        1.954121                         0.951713   \n",
       "98                        1.838428                         0.206485   \n",
       "99                        1.517043                         0.275058   \n",
       "\n",
       "    audspec_lengthL1norm_sma_minPos  ...  mfcc_sma_de[14]_peakRangeAbs  \\\n",
       "0                          0.000000  ...                     10.114010   \n",
       "1                          0.000000  ...                      5.299999   \n",
       "2                          0.000000  ...                     10.790438   \n",
       "3                          0.000000  ...                     10.668040   \n",
       "4                          0.000000  ...                      6.755691   \n",
       "..                              ...  ...                           ...   \n",
       "95                         0.649593  ...                     10.735183   \n",
       "96                         0.648910  ...                      7.625343   \n",
       "97                         0.476636  ...                      8.423761   \n",
       "98                         0.186007  ...                      7.011283   \n",
       "99                         0.596737  ...                      6.740565   \n",
       "\n",
       "    mfcc_sma_de[14]_peakRangeRel  mfcc_sma_de[14]_peakMeanAbs  \\\n",
       "0                       0.511215                     3.687236   \n",
       "1                       0.410885                     2.593824   \n",
       "2                       0.525003                     3.622012   \n",
       "3                       0.543688                     3.270228   \n",
       "4                       0.469319                     2.834880   \n",
       "..                           ...                          ...   \n",
       "95                      0.646978                     2.648336   \n",
       "96                      0.608741                     2.418311   \n",
       "97                      0.647947                     2.706032   \n",
       "98                      0.556861                     2.458248   \n",
       "99                      0.566793                     2.268948   \n",
       "\n",
       "    mfcc_sma_de[14]_peakMeanMeanDist  mfcc_sma_de[14]_peakMeanRel  \\\n",
       "0                           3.687813                   -20.000000   \n",
       "1                           2.601382                   -19.980114   \n",
       "2                           3.623859                   -20.000000   \n",
       "3                           3.269604                    20.000000   \n",
       "4                           2.844430                   -19.966377   \n",
       "..                               ...                          ...   \n",
       "95                          2.641622                    19.988420   \n",
       "96                          2.424134                   -19.990600   \n",
       "97                          2.693978                    19.916290   \n",
       "98                          2.465018                   -19.983952   \n",
       "99                          2.266029                    19.999542   \n",
       "\n",
       "    mfcc_sma_de[14]_minRangeRel  mfcc_sma_de[14]_meanRisingSlope  \\\n",
       "0                      0.605559                        140.96674   \n",
       "1                      0.613261                        130.84023   \n",
       "2                      0.531072                        147.01364   \n",
       "3                      0.532827                        148.19579   \n",
       "4                      0.649432                        126.90704   \n",
       "..                          ...                              ...   \n",
       "95                     0.456448                        120.63265   \n",
       "96                     0.610165                        104.94406   \n",
       "97                     0.429277                        113.65552   \n",
       "98                     0.514018                        111.73879   \n",
       "99                     0.525073                        112.47779   \n",
       "\n",
       "    mfcc_sma_de[14]_stddevRisingSlope  mfcc_sma_de[14]_meanFallingSlope  \\\n",
       "0                           61.022186                        139.871150   \n",
       "1                           61.562347                        104.060470   \n",
       "2                           78.597780                        140.556670   \n",
       "3                           77.316980                        137.104170   \n",
       "4                           65.421590                        130.091920   \n",
       "..                                ...                               ...   \n",
       "95                          66.592440                        117.374954   \n",
       "96                          54.201775                        115.714910   \n",
       "97                          59.076927                        117.757900   \n",
       "98                          49.925026                        105.887634   \n",
       "99                          50.066635                         96.771250   \n",
       "\n",
       "    mfcc_sma_de[14]_stddevFallingSlope  \n",
       "0                            83.242775  \n",
       "1                            43.534836  \n",
       "2                            68.385190  \n",
       "3                            65.971275  \n",
       "4                            60.061220  \n",
       "..                                 ...  \n",
       "95                           65.537590  \n",
       "96                           57.590630  \n",
       "97                           53.465050  \n",
       "98                           54.165188  \n",
       "99                           53.011440  \n",
       "\n",
       "[1000 rows x 6380 columns]"
      ]
     },
     "execution_count": 13,
     "metadata": {},
     "output_type": "execute_result"
    }
   ],
   "source": [
    "sm.merged_df"
   ]
  },
  {
   "cell_type": "code",
   "execution_count": null,
   "metadata": {},
   "outputs": [],
   "source": []
  },
  {
   "cell_type": "code",
   "execution_count": null,
   "metadata": {},
   "outputs": [],
   "source": []
  },
  {
   "cell_type": "code",
   "execution_count": null,
   "metadata": {},
   "outputs": [],
   "source": []
  }
 ],
 "metadata": {
  "kernelspec": {
   "display_name": "deepfake-detection-v1",
   "language": "python",
   "name": "deepfake-detection-v1"
  },
  "language_info": {
   "codemirror_mode": {
    "name": "ipython",
    "version": 3
   },
   "file_extension": ".py",
   "mimetype": "text/x-python",
   "name": "python",
   "nbconvert_exporter": "python",
   "pygments_lexer": "ipython3",
   "version": "3.9.16"
  }
 },
 "nbformat": 4,
 "nbformat_minor": 4
}
