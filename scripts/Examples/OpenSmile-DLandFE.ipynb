{
 "cells": [
  {
   "cell_type": "markdown",
   "metadata": {},
   "source": [
    "# Testing OpenSmile Classes\n",
    "\n",
    "This notebook provides a sequence of steps to generate a dataframe and load the opensmile features for feature selection and testing."
   ]
  },
  {
   "cell_type": "code",
   "execution_count": 1,
   "metadata": {},
   "outputs": [],
   "source": [
    "import pandas as pd\n",
    "import numpy as np\n",
    "import sys\n",
    "import os\n",
    "import json\n",
    "from tqdm import tqdm\n",
    "sys.path.append(\"/home/ubuntu/MultiModalDeepFake\")\n",
    "from packages.LJDataLoader import LJDataLoader\n",
    "from packages.SmileFeatureLoader import smileFeatureLoader"
   ]
  },
  {
   "cell_type": "markdown",
   "metadata": {},
   "source": [
    "### Part 1: Creating the dataframe with the train-dev-test split"
   ]
  },
  {
   "cell_type": "code",
   "execution_count": 3,
   "metadata": {},
   "outputs": [],
   "source": [
    "#load LJ 16khz data\n",
    "#\n",
    "file_path = '/home/ubuntu/data/wavefake_data/LJ_metadata_16000KHz.csv'\n",
    "loader = LJDataLoader(data_path=file_path)"
   ]
  },
  {
   "cell_type": "code",
   "execution_count": 4,
   "metadata": {},
   "outputs": [
    {
     "name": "stdout",
     "output_type": "stream",
     "text": [
      "13055\n",
      "7833 10444\n"
     ]
    }
   ],
   "source": [
    "#split data into train, val, test\n",
    "loader.splitData()\n"
   ]
  },
  {
   "cell_type": "code",
   "execution_count": 6,
   "metadata": {},
   "outputs": [
    {
     "data": {
      "text/plain": [
       "['Real',\n",
       " 'Full_Band_MelGan',\n",
       " 'HifiGan',\n",
       " 'MelGan',\n",
       " 'MelGanLarge',\n",
       " 'Multi_Band_MelGan',\n",
       " 'Parallel_WaveGan',\n",
       " 'Waveglow',\n",
       " 'ElevenLabs',\n",
       " 'UberDuck']"
      ]
     },
     "execution_count": 6,
     "metadata": {},
     "output_type": "execute_result"
    }
   ],
   "source": [
    "#get the column names\n",
    "cols = list(loader.metadata.columns[5:15])\n",
    "cols"
   ]
  },
  {
   "cell_type": "code",
   "execution_count": 7,
   "metadata": {},
   "outputs": [],
   "source": [
    "#generate the dataframe\n",
    "df = loader.generateFinalDataFrame(real_col=cols[0], fake_cols=cols[1:], single_id_entry=True)"
   ]
  },
  {
   "cell_type": "code",
   "execution_count": 8,
   "metadata": {},
   "outputs": [
    {
     "data": {
      "text/plain": [
       "(13055, 18)"
      ]
     },
     "execution_count": 8,
     "metadata": {},
     "output_type": "execute_result"
    }
   ],
   "source": [
    "loader.metadata.shape"
   ]
  },
  {
   "cell_type": "code",
   "execution_count": 9,
   "metadata": {},
   "outputs": [
    {
     "data": {
      "text/html": [
       "<div>\n",
       "<style scoped>\n",
       "    .dataframe tbody tr th:only-of-type {\n",
       "        vertical-align: middle;\n",
       "    }\n",
       "\n",
       "    .dataframe tbody tr th {\n",
       "        vertical-align: top;\n",
       "    }\n",
       "\n",
       "    .dataframe thead th {\n",
       "        text-align: right;\n",
       "    }\n",
       "</style>\n",
       "<table border=\"1\" class=\"dataframe\">\n",
       "  <thead>\n",
       "    <tr style=\"text-align: right;\">\n",
       "      <th></th>\n",
       "      <th>path</th>\n",
       "      <th>label</th>\n",
       "      <th>multiclass_label</th>\n",
       "      <th>type</th>\n",
       "    </tr>\n",
       "  </thead>\n",
       "  <tbody>\n",
       "    <tr>\n",
       "      <th>0</th>\n",
       "      <td>/home/ubuntu/data/wavefake_data/generated_audi...</td>\n",
       "      <td>1</td>\n",
       "      <td>6</td>\n",
       "      <td>train</td>\n",
       "    </tr>\n",
       "    <tr>\n",
       "      <th>1</th>\n",
       "      <td>/home/ubuntu/data/wavefake_data/generated_audi...</td>\n",
       "      <td>1</td>\n",
       "      <td>9</td>\n",
       "      <td>train</td>\n",
       "    </tr>\n",
       "    <tr>\n",
       "      <th>2</th>\n",
       "      <td>/home/ubuntu/data/wavefake_data/generated_audi...</td>\n",
       "      <td>1</td>\n",
       "      <td>1</td>\n",
       "      <td>train</td>\n",
       "    </tr>\n",
       "    <tr>\n",
       "      <th>3</th>\n",
       "      <td>/home/ubuntu/data/wavefake_data/generated_audi...</td>\n",
       "      <td>1</td>\n",
       "      <td>3</td>\n",
       "      <td>train</td>\n",
       "    </tr>\n",
       "    <tr>\n",
       "      <th>4</th>\n",
       "      <td>/home/ubuntu/data/wavefake_data/generated_audi...</td>\n",
       "      <td>1</td>\n",
       "      <td>6</td>\n",
       "      <td>train</td>\n",
       "    </tr>\n",
       "  </tbody>\n",
       "</table>\n",
       "</div>"
      ],
      "text/plain": [
       "                                                path  label  multiclass_label  \\\n",
       "0  /home/ubuntu/data/wavefake_data/generated_audi...      1                 6   \n",
       "1  /home/ubuntu/data/wavefake_data/generated_audi...      1                 9   \n",
       "2  /home/ubuntu/data/wavefake_data/generated_audi...      1                 1   \n",
       "3  /home/ubuntu/data/wavefake_data/generated_audi...      1                 3   \n",
       "4  /home/ubuntu/data/wavefake_data/generated_audi...      1                 6   \n",
       "\n",
       "    type  \n",
       "0  train  \n",
       "1  train  \n",
       "2  train  \n",
       "3  train  \n",
       "4  train  "
      ]
     },
     "execution_count": 9,
     "metadata": {},
     "output_type": "execute_result"
    }
   ],
   "source": [
    "df.head()"
   ]
  },
  {
   "cell_type": "markdown",
   "metadata": {},
   "source": [
    "__Why are there 130550 data points if `single_id_entry=False`__"
   ]
  },
  {
   "cell_type": "code",
   "execution_count": 10,
   "metadata": {},
   "outputs": [
    {
     "data": {
      "text/plain": [
       "(13055, 4)"
      ]
     },
     "execution_count": 10,
     "metadata": {},
     "output_type": "execute_result"
    }
   ],
   "source": [
    "df.shape"
   ]
  },
  {
   "cell_type": "code",
   "execution_count": 11,
   "metadata": {},
   "outputs": [],
   "source": [
    "# sample 1000 rows from df for testing\n",
    "test_df = df.sample(n=1000, random_state=42)"
   ]
  },
  {
   "cell_type": "code",
   "execution_count": 12,
   "metadata": {},
   "outputs": [
    {
     "data": {
      "text/html": [
       "<div>\n",
       "<style scoped>\n",
       "    .dataframe tbody tr th:only-of-type {\n",
       "        vertical-align: middle;\n",
       "    }\n",
       "\n",
       "    .dataframe tbody tr th {\n",
       "        vertical-align: top;\n",
       "    }\n",
       "\n",
       "    .dataframe thead th {\n",
       "        text-align: right;\n",
       "    }\n",
       "</style>\n",
       "<table border=\"1\" class=\"dataframe\">\n",
       "  <thead>\n",
       "    <tr style=\"text-align: right;\">\n",
       "      <th></th>\n",
       "      <th>path</th>\n",
       "      <th>label</th>\n",
       "      <th>multiclass_label</th>\n",
       "      <th>type</th>\n",
       "    </tr>\n",
       "  </thead>\n",
       "  <tbody>\n",
       "    <tr>\n",
       "      <th>2614</th>\n",
       "      <td>/home/ubuntu/data/wavefake_data/generated_audi...</td>\n",
       "      <td>1</td>\n",
       "      <td>8</td>\n",
       "      <td>train</td>\n",
       "    </tr>\n",
       "    <tr>\n",
       "      <th>10003</th>\n",
       "      <td>/home/ubuntu/data/wavefake_data/LJSpeech_1.1/w...</td>\n",
       "      <td>0</td>\n",
       "      <td>0</td>\n",
       "      <td>dev</td>\n",
       "    </tr>\n",
       "    <tr>\n",
       "      <th>12056</th>\n",
       "      <td>/home/ubuntu/data/wavefake_data/generated_audi...</td>\n",
       "      <td>1</td>\n",
       "      <td>8</td>\n",
       "      <td>test</td>\n",
       "    </tr>\n",
       "    <tr>\n",
       "      <th>2924</th>\n",
       "      <td>/home/ubuntu/data/wavefake_data/generated_audi...</td>\n",
       "      <td>1</td>\n",
       "      <td>8</td>\n",
       "      <td>train</td>\n",
       "    </tr>\n",
       "    <tr>\n",
       "      <th>2495</th>\n",
       "      <td>/home/ubuntu/data/wavefake_data/generated_audi...</td>\n",
       "      <td>1</td>\n",
       "      <td>2</td>\n",
       "      <td>train</td>\n",
       "    </tr>\n",
       "  </tbody>\n",
       "</table>\n",
       "</div>"
      ],
      "text/plain": [
       "                                                    path  label  \\\n",
       "2614   /home/ubuntu/data/wavefake_data/generated_audi...      1   \n",
       "10003  /home/ubuntu/data/wavefake_data/LJSpeech_1.1/w...      0   \n",
       "12056  /home/ubuntu/data/wavefake_data/generated_audi...      1   \n",
       "2924   /home/ubuntu/data/wavefake_data/generated_audi...      1   \n",
       "2495   /home/ubuntu/data/wavefake_data/generated_audi...      1   \n",
       "\n",
       "       multiclass_label   type  \n",
       "2614                  8  train  \n",
       "10003                 0    dev  \n",
       "12056                 8   test  \n",
       "2924                  8  train  \n",
       "2495                  2  train  "
      ]
     },
     "execution_count": 12,
     "metadata": {},
     "output_type": "execute_result"
    }
   ],
   "source": [
    "test_df.head()"
   ]
  },
  {
   "cell_type": "markdown",
   "metadata": {},
   "source": [
    "## "
   ]
  },
  {
   "cell_type": "markdown",
   "metadata": {
    "jp-MarkdownHeadingCollapsed": true,
    "tags": []
   },
   "source": [
    "## Loading the data\n",
    "\n",
    "Final result should have the following columns with 6373 smile features\n",
    "\n",
    "metadata=['id', 'path', 'split', 'type', 'label', 'multiclass_label', 'duration(seconds)']"
   ]
  },
  {
   "cell_type": "markdown",
   "metadata": {},
   "source": [
    "#### Testing Code"
   ]
  },
  {
   "cell_type": "code",
   "execution_count": 69,
   "metadata": {},
   "outputs": [
    {
     "data": {
      "text/plain": [
       "ljspeech_elevenlabs           123\n",
       "ljspeech_hifiGAN              110\n",
       "ljspeech_melgan               109\n",
       "ljspeech_parallel_wavegan     108\n",
       "ljspeech_uberduck             102\n",
       "ljspeech_melgan_large         101\n",
       "ljspeech_multi_band_melgan     96\n",
       "wavs                           89\n",
       "ljspeech_full_band_melgan      87\n",
       "ljspeech_waveglow              75\n",
       "Name: path, dtype: int64"
      ]
     },
     "execution_count": 69,
     "metadata": {},
     "output_type": "execute_result"
    }
   ],
   "source": [
    "test_df.path.apply(lambda x: x.split('/')[-3]).value_counts()"
   ]
  },
  {
   "cell_type": "code",
   "execution_count": null,
   "metadata": {},
   "outputs": [],
   "source": []
  },
  {
   "cell_type": "code",
   "execution_count": 72,
   "metadata": {},
   "outputs": [
    {
     "data": {
      "text/plain": [
       "array(['/home/ubuntu/data/wavefake_data/generated_audio/ljspeech_hifiGAN/16000KHz',\n",
       "       '/home/ubuntu/data/wavefake_data/generated_audio/ljspeech_melgan_large/16000KHz',\n",
       "       '/home/ubuntu/data/wavefake_data/generated_audio/ljspeech_melgan/16000KHz',\n",
       "       '/home/ubuntu/data/wavefake_data/generated_audio/ljspeech_waveglow/16000KHz',\n",
       "       '/home/ubuntu/data/wavefake_data/generated_audio/ljspeech_uberduck/16000KHz',\n",
       "       '/home/ubuntu/data/wavefake_data/generated_audio/ljspeech_multi_band_melgan/16000KHz',\n",
       "       '/home/ubuntu/data/wavefake_data/generated_audio/ljspeech_full_band_melgan/16000KHz',\n",
       "       '/home/ubuntu/data/wavefake_data/generated_audio/ljspeech_elevenlabs/16000KHz',\n",
       "       '/home/ubuntu/data/wavefake_data/generated_audio/ljspeech_parallel_wavegan/16000KHz',\n",
       "       '/home/ubuntu/data/wavefake_data/LJSpeech_1.1/wavs/16000KHz'],\n",
       "      dtype=object)"
      ]
     },
     "execution_count": 72,
     "metadata": {},
     "output_type": "execute_result"
    }
   ],
   "source": [
    "test_df.path.apply(lambda x: '/'.join(x.split('/')[:-1])).unique()"
   ]
  },
  {
   "cell_type": "code",
   "execution_count": 51,
   "metadata": {},
   "outputs": [
    {
     "data": {
      "text/plain": [
       "'/home/ubuntu/data/wavefake_data/generated_audio/ljspeech_hifiGAN/16000KHz/LJ035-0150_generated.wav'"
      ]
     },
     "execution_count": 51,
     "metadata": {},
     "output_type": "execute_result"
    }
   ],
   "source": [
    "test_df.path.iloc[0]"
   ]
  },
  {
   "cell_type": "code",
   "execution_count": 52,
   "metadata": {},
   "outputs": [
    {
     "data": {
      "text/plain": [
       "'/home/ubuntu/data/OpenSmile/04-2023-OSF-feature-csvs/OSF-2023-04-01-InTheWildFakes-Biden-16000KHz.csv'"
      ]
     },
     "execution_count": 52,
     "metadata": {},
     "output_type": "execute_result"
    }
   ],
   "source": [
    "'/home/ubuntu/data/OpenSmile/04-2023-OSF-feature-csvs/OSF-2023-04-01-InTheWildFakes-Biden-16000KHz.csv'"
   ]
  },
  {
   "cell_type": "code",
   "execution_count": 58,
   "metadata": {},
   "outputs": [
    {
     "data": {
      "text/plain": [
       "['OSF-2023-04-01-wavefake_data-LJSpeech_1.1-wavs-Original.csv',\n",
       " 'OSF-2023-04-01-wavefake_data-generated_audio-ljspeech_hifiGAN-16000KHz.csv',\n",
       " 'OSF-2023-04-01-InTheWildFakes-Biden-16000KHz.csv',\n",
       " 'OSF-2023-04-01-wavefake_data-generated_audio-ljspeech_melgan_large-16000KHz.csv',\n",
       " 'OSF-2023-04-01-wavefake_data-generated_audio-ljspeech_melgan-Original.csv',\n",
       " 'OSF-2023-04-01-world-leaders-dataset-11LabsDeepFakes-Biden-44Khz.csv',\n",
       " 'OSF-2023-04-01-wavefake_data-generated_audio-ljspeech_multi_band_melgan-16000KHz.csv',\n",
       " 'OSF-2023-04-01-wavefake_data-LJSpeech_1.1-wavs-16000KHz.csv',\n",
       " 'OSF-2023-04-01-wavefake_data-generated_audio-ljspeech_waveglow-Original.csv',\n",
       " 'OSF-2023-04-06-wavefake_data-generated_audio-ljspeech_uberduck-16000KHz.csv',\n",
       " 'OSF-2023-04-01-wavefake_data-generated_audio-ljspeech_hifiGAN-Original.csv',\n",
       " 'OSF-2023-04-01-world-leaders-dataset-WavFiles-biden_wav_audio-44KHz.csv',\n",
       " 'OSF-2023-04-01-world-leaders-dataset-WavFiles-biden_wav_audio-16KHz.csv',\n",
       " 'OSF-2023-04-01-wavefake_data-generated_audio-ljspeech_multi_band_melgan-Original.csv',\n",
       " 'OSF-2023-04-01-wavefake_data-generated_audio-ljspeech_elevenlabs-Original.csv',\n",
       " 'OSF-2023-04-01-wavefake_data-generated_audio-ljspeech_melgan_large-Original.csv',\n",
       " 'OSF-2023-04-01-wavefake_data-generated_audio-ljspeech_parallel_wavegan-16000KHz.csv',\n",
       " 'OSF-2023-04-01-world-leaders-dataset-11LabsDeepFakes-Biden-16Khz.csv',\n",
       " 'OSF-2023-04-01-wavefake_data-generated_audio-ljspeech_elevenlabs-16000KHz.csv',\n",
       " 'OSF-2023-04-06-wavefake_data-generated_audio-ljspeech_uberduck-Original.csv',\n",
       " 'OSF-2023-04-01-wavefake_data-generated_audio-ljspeech_full_band_melgan-Original.csv',\n",
       " 'OSF-2023-04-01-wavefake_data-generated_audio-ljspeech_melgan-16000KHz.csv',\n",
       " 'OSF-2023-04-01-InTheWildFakes-Biden-Original.csv',\n",
       " 'OSF-2023-04-01-wavefake_data-generated_audio-ljspeech_parallel_wavegan-Original.csv',\n",
       " 'OSF-2023-04-01-wavefake_data-generated_audio-ljspeech_full_band_melgan-16000KHz.csv',\n",
       " 'OSF-2023-04-01-wavefake_data-generated_audio-ljspeech_waveglow-16000KHz.csv']"
      ]
     },
     "execution_count": 58,
     "metadata": {},
     "output_type": "execute_result"
    }
   ],
   "source": [
    "#list files in of a particular extension in a directory\n",
    "def list_files(directory, extension):\n",
    "    return [f for f in os.listdir(directory) if f.endswith('.' + extension)]\n",
    "\n",
    "file_list = list_files('/home/ubuntu/data/OpenSmile/04-2023-OSF-feature-csvs', 'csv')\n",
    "file_list\n"
   ]
  },
  {
   "cell_type": "code",
   "execution_count": 74,
   "metadata": {},
   "outputs": [
    {
     "data": {
      "text/plain": [
       "26"
      ]
     },
     "execution_count": 74,
     "metadata": {},
     "output_type": "execute_result"
    }
   ],
   "source": [
    "len(file_list)"
   ]
  },
  {
   "cell_type": "markdown",
   "metadata": {},
   "source": [
    "#### Creating file mappings JSON"
   ]
  },
  {
   "cell_type": "code",
   "execution_count": 75,
   "metadata": {},
   "outputs": [
    {
     "data": {
      "text/plain": [
       "{'/home/ubuntu/data/world-leaders-dataset/WavFiles/biden_wav_audio/44KHz': '/home/ubuntu/data/OpenSmile/04-2023-OSF-feature-csvs/OSF-2023-04-01-world-leaders-dataset-WavFiles-biden_wav_audio-44KHz.csv',\n",
       " '/home/ubuntu/data/world-leaders-dataset/WavFiles/biden_wav_audio/16KHz': '/home/ubuntu/data/OpenSmile/04-2023-OSF-feature-csvs/OSF-2023-04-01-world-leaders-dataset-WavFiles-biden_wav_audio-16KHz.csv',\n",
       " '/home/ubuntu/data/world-leaders-dataset/11LabsDeepFakes/Biden/44Khz': '/home/ubuntu/data/OpenSmile/04-2023-OSF-feature-csvs/OSF-2023-04-01-world-leaders-dataset-11LabsDeepFakes-Biden-44Khz.csv',\n",
       " '/home/ubuntu/data/world-leaders-dataset/11LabsDeepFakes/Biden/16Khz': '/home/ubuntu/data/OpenSmile/04-2023-OSF-feature-csvs/OSF-2023-04-01-world-leaders-dataset-11LabsDeepFakes-Biden-16Khz.csv',\n",
       " '/home/ubuntu/data/InTheWildFakes/Biden/Original': '/home/ubuntu/data/OpenSmile/04-2023-OSF-feature-csvs/OSF-2023-04-01-InTheWildFakes-Biden-Original.csv',\n",
       " '/home/ubuntu/data/InTheWildFakes/Biden/16000KHz': '/home/ubuntu/data/OpenSmile/04-2023-OSF-feature-csvs/OSF-2023-04-01-InTheWildFakes-Biden-16000KHz.csv',\n",
       " '/home/ubuntu/data/wavefake_data/LJSpeech_1.1/wavs/Original': '/home/ubuntu/data/OpenSmile/04-2023-OSF-feature-csvs/OSF-2023-04-01-wavefake_data-LJSpeech_1.1-wavs-Original.csv',\n",
       " '/home/ubuntu/data/wavefake_data/LJSpeech_1.1/wavs/16000KHz': '/home/ubuntu/data/OpenSmile/04-2023-OSF-feature-csvs/OSF-2023-04-01-wavefake_data-LJSpeech_1.1-wavs-16000KHz.csv',\n",
       " '/home/ubuntu/data/wavefake_data/generated_audio/ljspeech_elevenlabs/Original': '/home/ubuntu/data/OpenSmile/04-2023-OSF-feature-csvs/OSF-2023-04-01-wavefake_data-generated_audio-ljspeech_elevenlabs-Original.csv',\n",
       " '/home/ubuntu/data/wavefake_data/generated_audio/ljspeech_elevenlabs/16000KHz': '/home/ubuntu/data/OpenSmile/04-2023-OSF-feature-csvs/OSF-2023-04-01-wavefake_data-generated_audio-ljspeech_elevenlabs-16000KHz.csv',\n",
       " '/home/ubuntu/data/wavefake_data/generated_audio/ljspeech_uberduck/Original': '/home/ubuntu/data/OpenSmile/04-2023-OSF-feature-csvs/OSF-2023-04-06-wavefake_data-generated_audio-ljspeech_uberduck-Original.csv',\n",
       " '/home/ubuntu/data/wavefake_data/generated_audio/ljspeech_uberduck/16000KHz': '/home/ubuntu/data/OpenSmile/04-2023-OSF-feature-csvs/OSF-2023-04-06-wavefake_data-generated_audio-ljspeech_uberduck-16000KHz.csv',\n",
       " '/home/ubuntu/data/wavefake_data/generated_audio/ljspeech_melgan/Original': '/home/ubuntu/data/OpenSmile/04-2023-OSF-feature-csvs/OSF-2023-04-01-wavefake_data-generated_audio-ljspeech_melgan-Original.csv',\n",
       " '/home/ubuntu/data/wavefake_data/generated_audio/ljspeech_melgan/16000KHz': '/home/ubuntu/data/OpenSmile/04-2023-OSF-feature-csvs/OSF-2023-04-01-wavefake_data-generated_audio-ljspeech_melgan-16000KHz.csv',\n",
       " '/home/ubuntu/data/wavefake_data/generated_audio/ljspeech_melgan_large/Original': '/home/ubuntu/data/OpenSmile/04-2023-OSF-feature-csvs/OSF-2023-04-01-wavefake_data-generated_audio-ljspeech_melgan_large-Original.csv',\n",
       " '/home/ubuntu/data/wavefake_data/generated_audio/ljspeech_melgan_large/16000KHz': '/home/ubuntu/data/OpenSmile/04-2023-OSF-feature-csvs/OSF-2023-04-01-wavefake_data-generated_audio-ljspeech_melgan_large-16000KHz.csv',\n",
       " '/home/ubuntu/data/wavefake_data/generated_audio/ljspeech_multi_band_melgan/Original': '/home/ubuntu/data/OpenSmile/04-2023-OSF-feature-csvs/OSF-2023-04-01-wavefake_data-generated_audio-ljspeech_multi_band_melgan-Original.csv',\n",
       " '/home/ubuntu/data/wavefake_data/generated_audio/ljspeech_multi_band_melgan/16000KHz': '/home/ubuntu/data/OpenSmile/04-2023-OSF-feature-csvs/OSF-2023-04-01-wavefake_data-generated_audio-ljspeech_multi_band_melgan-16000KHz.csv',\n",
       " '/home/ubuntu/data/wavefake_data/generated_audio/ljspeech_full_band_melgan/Original': '/home/ubuntu/data/OpenSmile/04-2023-OSF-feature-csvs/OSF-2023-04-01-wavefake_data-generated_audio-ljspeech_full_band_melgan-Original.csv',\n",
       " '/home/ubuntu/data/wavefake_data/generated_audio/ljspeech_full_band_melgan/16000KHz': '/home/ubuntu/data/OpenSmile/04-2023-OSF-feature-csvs/OSF-2023-04-01-wavefake_data-generated_audio-ljspeech_full_band_melgan-16000KHz.csv',\n",
       " '/home/ubuntu/data/wavefake_data/generated_audio/ljspeech_hifiGAN/Original': '/home/ubuntu/data/OpenSmile/04-2023-OSF-feature-csvs/OSF-2023-04-01-wavefake_data-generated_audio-ljspeech_hifiGAN-Original.csv',\n",
       " '/home/ubuntu/data/wavefake_data/generated_audio/ljspeech_hifiGAN/16000KHz': '/home/ubuntu/data/OpenSmile/04-2023-OSF-feature-csvs/OSF-2023-04-01-wavefake_data-generated_audio-ljspeech_hifiGAN-16000KHz.csv',\n",
       " '/home/ubuntu/data/wavefake_data/generated_audio/ljspeech_parallel_wavegan/Original': '/home/ubuntu/data/OpenSmile/04-2023-OSF-feature-csvs/OSF-2023-04-01-wavefake_data-generated_audio-ljspeech_parallel_wavegan-Original.csv',\n",
       " '/home/ubuntu/data/wavefake_data/generated_audio/ljspeech_parallel_wavegan/16000KHz': '/home/ubuntu/data/OpenSmile/04-2023-OSF-feature-csvs/OSF-2023-04-01-wavefake_data-generated_audio-ljspeech_parallel_wavegan-16000KHz.csv',\n",
       " '/home/ubuntu/data/wavefake_data/generated_audio/ljspeech_waveglow/Original': '/home/ubuntu/data/OpenSmile/04-2023-OSF-feature-csvs/OSF-2023-04-01-wavefake_data-generated_audio-ljspeech_waveglow-Original.csv',\n",
       " '/home/ubuntu/data/wavefake_data/generated_audio/ljspeech_waveglow/16000KHz': '/home/ubuntu/data/OpenSmile/04-2023-OSF-feature-csvs/OSF-2023-04-01-wavefake_data-generated_audio-ljspeech_waveglow-16000KHz.csv'}"
      ]
     },
     "execution_count": 75,
     "metadata": {},
     "output_type": "execute_result"
    }
   ],
   "source": [
    "file_mapping = dict()\n",
    "\n",
    "#biden real\n",
    "file_mapping['/home/ubuntu/data/world-leaders-dataset/WavFiles/biden_wav_audio/44KHz'] = '/home/ubuntu/data/OpenSmile/04-2023-OSF-feature-csvs/OSF-2023-04-01-world-leaders-dataset-WavFiles-biden_wav_audio-44KHz.csv'\n",
    "file_mapping['/home/ubuntu/data/world-leaders-dataset/WavFiles/biden_wav_audio/16KHz'] = '/home/ubuntu/data/OpenSmile/04-2023-OSF-feature-csvs/OSF-2023-04-01-world-leaders-dataset-WavFiles-biden_wav_audio-16KHz.csv'\n",
    "\n",
    "#biden eleven labs\n",
    "file_mapping['/home/ubuntu/data/world-leaders-dataset/11LabsDeepFakes/Biden/44Khz'] = '/home/ubuntu/data/OpenSmile/04-2023-OSF-feature-csvs/OSF-2023-04-01-world-leaders-dataset-11LabsDeepFakes-Biden-44Khz.csv'\n",
    "file_mapping['/home/ubuntu/data/world-leaders-dataset/11LabsDeepFakes/Biden/16Khz'] = '/home/ubuntu/data/OpenSmile/04-2023-OSF-feature-csvs/OSF-2023-04-01-world-leaders-dataset-11LabsDeepFakes-Biden-16Khz.csv'\n",
    "\n",
    "#biden in the wild\n",
    "file_mapping['/home/ubuntu/data/InTheWildFakes/Biden/Original'] = '/home/ubuntu/data/OpenSmile/04-2023-OSF-feature-csvs/OSF-2023-04-01-InTheWildFakes-Biden-Original.csv'\n",
    "file_mapping['/home/ubuntu/data/InTheWildFakes/Biden/16000KHz'] = '/home/ubuntu/data/OpenSmile/04-2023-OSF-feature-csvs/OSF-2023-04-01-InTheWildFakes-Biden-16000KHz.csv'\n",
    "\n",
    "#ljspeech real\n",
    "file_mapping['/home/ubuntu/data/wavefake_data/LJSpeech_1.1/wavs/Original'] = '/home/ubuntu/data/OpenSmile/04-2023-OSF-feature-csvs/OSF-2023-04-01-wavefake_data-LJSpeech_1.1-wavs-Original.csv'\n",
    "file_mapping['/home/ubuntu/data/wavefake_data/LJSpeech_1.1/wavs/16000KHz'] = '/home/ubuntu/data/OpenSmile/04-2023-OSF-feature-csvs/OSF-2023-04-01-wavefake_data-LJSpeech_1.1-wavs-16000KHz.csv'\n",
    "\n",
    "#ljspeech eleven labs\n",
    "file_mapping['/home/ubuntu/data/wavefake_data/generated_audio/ljspeech_elevenlabs/Original'] = '/home/ubuntu/data/OpenSmile/04-2023-OSF-feature-csvs/OSF-2023-04-01-wavefake_data-generated_audio-ljspeech_elevenlabs-Original.csv'\n",
    "file_mapping['/home/ubuntu/data/wavefake_data/generated_audio/ljspeech_elevenlabs/16000KHz'] = '/home/ubuntu/data/OpenSmile/04-2023-OSF-feature-csvs/OSF-2023-04-01-wavefake_data-generated_audio-ljspeech_elevenlabs-16000KHz.csv'\n",
    "\n",
    "#ljspeech uberduck\n",
    "file_mapping['/home/ubuntu/data/wavefake_data/generated_audio/ljspeech_uberduck/Original'] = '/home/ubuntu/data/OpenSmile/04-2023-OSF-feature-csvs/OSF-2023-04-06-wavefake_data-generated_audio-ljspeech_uberduck-Original.csv'\n",
    "file_mapping['/home/ubuntu/data/wavefake_data/generated_audio/ljspeech_uberduck/16000KHz'] = '/home/ubuntu/data/OpenSmile/04-2023-OSF-feature-csvs/OSF-2023-04-06-wavefake_data-generated_audio-ljspeech_uberduck-16000KHz.csv'\n",
    "\n",
    "#ljspeech melgan\n",
    "file_mapping['/home/ubuntu/data/wavefake_data/generated_audio/ljspeech_melgan/Original'] = '/home/ubuntu/data/OpenSmile/04-2023-OSF-feature-csvs/OSF-2023-04-01-wavefake_data-generated_audio-ljspeech_melgan-Original.csv'\n",
    "file_mapping['/home/ubuntu/data/wavefake_data/generated_audio/ljspeech_melgan/16000KHz'] = '/home/ubuntu/data/OpenSmile/04-2023-OSF-feature-csvs/OSF-2023-04-01-wavefake_data-generated_audio-ljspeech_melgan-16000KHz.csv'\n",
    "\n",
    "#ljspeech melgan large\n",
    "file_mapping['/home/ubuntu/data/wavefake_data/generated_audio/ljspeech_melgan_large/Original'] = '/home/ubuntu/data/OpenSmile/04-2023-OSF-feature-csvs/OSF-2023-04-01-wavefake_data-generated_audio-ljspeech_melgan_large-Original.csv'\n",
    "file_mapping['/home/ubuntu/data/wavefake_data/generated_audio/ljspeech_melgan_large/16000KHz'] = '/home/ubuntu/data/OpenSmile/04-2023-OSF-feature-csvs/OSF-2023-04-01-wavefake_data-generated_audio-ljspeech_melgan_large-16000KHz.csv'\n",
    "\n",
    "#ljspeech multi band melgan\n",
    "file_mapping['/home/ubuntu/data/wavefake_data/generated_audio/ljspeech_multi_band_melgan/Original'] = '/home/ubuntu/data/OpenSmile/04-2023-OSF-feature-csvs/OSF-2023-04-01-wavefake_data-generated_audio-ljspeech_multi_band_melgan-Original.csv'\n",
    "file_mapping['/home/ubuntu/data/wavefake_data/generated_audio/ljspeech_multi_band_melgan/16000KHz'] = '/home/ubuntu/data/OpenSmile/04-2023-OSF-feature-csvs/OSF-2023-04-01-wavefake_data-generated_audio-ljspeech_multi_band_melgan-16000KHz.csv'\n",
    "\n",
    "#ljspeech full band melgan\n",
    "file_mapping['/home/ubuntu/data/wavefake_data/generated_audio/ljspeech_full_band_melgan/Original'] = '/home/ubuntu/data/OpenSmile/04-2023-OSF-feature-csvs/OSF-2023-04-01-wavefake_data-generated_audio-ljspeech_full_band_melgan-Original.csv'\n",
    "file_mapping['/home/ubuntu/data/wavefake_data/generated_audio/ljspeech_full_band_melgan/16000KHz'] = '/home/ubuntu/data/OpenSmile/04-2023-OSF-feature-csvs/OSF-2023-04-01-wavefake_data-generated_audio-ljspeech_full_band_melgan-16000KHz.csv'\n",
    "\n",
    "#ljspeech hifiGAN\n",
    "file_mapping['/home/ubuntu/data/wavefake_data/generated_audio/ljspeech_hifiGAN/Original'] = '/home/ubuntu/data/OpenSmile/04-2023-OSF-feature-csvs/OSF-2023-04-01-wavefake_data-generated_audio-ljspeech_hifiGAN-Original.csv'\n",
    "file_mapping['/home/ubuntu/data/wavefake_data/generated_audio/ljspeech_hifiGAN/16000KHz'] = '/home/ubuntu/data/OpenSmile/04-2023-OSF-feature-csvs/OSF-2023-04-01-wavefake_data-generated_audio-ljspeech_hifiGAN-16000KHz.csv'\n",
    "\n",
    "#ljspeech parallel wavegan\n",
    "file_mapping['/home/ubuntu/data/wavefake_data/generated_audio/ljspeech_parallel_wavegan/Original'] = '/home/ubuntu/data/OpenSmile/04-2023-OSF-feature-csvs/OSF-2023-04-01-wavefake_data-generated_audio-ljspeech_parallel_wavegan-Original.csv'\n",
    "file_mapping['/home/ubuntu/data/wavefake_data/generated_audio/ljspeech_parallel_wavegan/16000KHz'] = '/home/ubuntu/data/OpenSmile/04-2023-OSF-feature-csvs/OSF-2023-04-01-wavefake_data-generated_audio-ljspeech_parallel_wavegan-16000KHz.csv'\n",
    "\n",
    "#ljspeech waveglow\n",
    "file_mapping['/home/ubuntu/data/wavefake_data/generated_audio/ljspeech_waveglow/Original'] = '/home/ubuntu/data/OpenSmile/04-2023-OSF-feature-csvs/OSF-2023-04-01-wavefake_data-generated_audio-ljspeech_waveglow-Original.csv'\n",
    "file_mapping['/home/ubuntu/data/wavefake_data/generated_audio/ljspeech_waveglow/16000KHz'] = '/home/ubuntu/data/OpenSmile/04-2023-OSF-feature-csvs/OSF-2023-04-01-wavefake_data-generated_audio-ljspeech_waveglow-16000KHz.csv'\n",
    "\n",
    "file_mapping"
   ]
  },
  {
   "cell_type": "code",
   "execution_count": 77,
   "metadata": {},
   "outputs": [],
   "source": [
    "import json\n",
    "\n",
    "file_mappings = '/home/ubuntu/data/OpenSmile/04-2023-OSF-feature-csvs/' + 'file_mappings.json' \n",
    "\n",
    "with open(file_mappings, \"w\") as json_file:\n",
    "    json.dump(file_mapping, json_file, indent=4)"
   ]
  },
  {
   "cell_type": "markdown",
   "metadata": {},
   "source": [
    "## Scratchpad"
   ]
  },
  {
   "cell_type": "code",
   "execution_count": 78,
   "metadata": {},
   "outputs": [],
   "source": [
    "test_df_2 = pd.read_csv('/home/ubuntu/data/OpenSmile/04-2023-OSF-feature-csvs/OSF-2023-04-06-wavefake_data-generated_audio-ljspeech_uberduck-16000KHz.csv')"
   ]
  },
  {
   "cell_type": "code",
   "execution_count": 79,
   "metadata": {},
   "outputs": [
    {
     "data": {
      "text/plain": [
       "(13094, 6375)"
      ]
     },
     "execution_count": 79,
     "metadata": {},
     "output_type": "execute_result"
    }
   ],
   "source": [
    "test_df_2.shape"
   ]
  },
  {
   "cell_type": "code",
   "execution_count": 80,
   "metadata": {},
   "outputs": [
    {
     "data": {
      "text/html": [
       "<div>\n",
       "<style scoped>\n",
       "    .dataframe tbody tr th:only-of-type {\n",
       "        vertical-align: middle;\n",
       "    }\n",
       "\n",
       "    .dataframe tbody tr th {\n",
       "        vertical-align: top;\n",
       "    }\n",
       "\n",
       "    .dataframe thead th {\n",
       "        text-align: right;\n",
       "    }\n",
       "</style>\n",
       "<table border=\"1\" class=\"dataframe\">\n",
       "  <thead>\n",
       "    <tr style=\"text-align: right;\">\n",
       "      <th></th>\n",
       "      <th>path</th>\n",
       "      <th>label</th>\n",
       "      <th>multiclass_label</th>\n",
       "      <th>type</th>\n",
       "    </tr>\n",
       "  </thead>\n",
       "  <tbody>\n",
       "    <tr>\n",
       "      <th>2614</th>\n",
       "      <td>/home/ubuntu/data/wavefake_data/generated_audi...</td>\n",
       "      <td>1</td>\n",
       "      <td>2</td>\n",
       "      <td>train</td>\n",
       "    </tr>\n",
       "    <tr>\n",
       "      <th>10003</th>\n",
       "      <td>/home/ubuntu/data/wavefake_data/generated_audi...</td>\n",
       "      <td>1</td>\n",
       "      <td>4</td>\n",
       "      <td>dev</td>\n",
       "    </tr>\n",
       "    <tr>\n",
       "      <th>12056</th>\n",
       "      <td>/home/ubuntu/data/wavefake_data/generated_audi...</td>\n",
       "      <td>1</td>\n",
       "      <td>3</td>\n",
       "      <td>test</td>\n",
       "    </tr>\n",
       "    <tr>\n",
       "      <th>2924</th>\n",
       "      <td>/home/ubuntu/data/wavefake_data/generated_audi...</td>\n",
       "      <td>1</td>\n",
       "      <td>4</td>\n",
       "      <td>train</td>\n",
       "    </tr>\n",
       "    <tr>\n",
       "      <th>2495</th>\n",
       "      <td>/home/ubuntu/data/wavefake_data/generated_audi...</td>\n",
       "      <td>1</td>\n",
       "      <td>3</td>\n",
       "      <td>train</td>\n",
       "    </tr>\n",
       "  </tbody>\n",
       "</table>\n",
       "</div>"
      ],
      "text/plain": [
       "                                                    path  label  \\\n",
       "2614   /home/ubuntu/data/wavefake_data/generated_audi...      1   \n",
       "10003  /home/ubuntu/data/wavefake_data/generated_audi...      1   \n",
       "12056  /home/ubuntu/data/wavefake_data/generated_audi...      1   \n",
       "2924   /home/ubuntu/data/wavefake_data/generated_audi...      1   \n",
       "2495   /home/ubuntu/data/wavefake_data/generated_audi...      1   \n",
       "\n",
       "       multiclass_label   type  \n",
       "2614                  2  train  \n",
       "10003                 4    dev  \n",
       "12056                 3   test  \n",
       "2924                  4  train  \n",
       "2495                  3  train  "
      ]
     },
     "execution_count": 80,
     "metadata": {},
     "output_type": "execute_result"
    }
   ],
   "source": [
    "test_df.head()"
   ]
  },
  {
   "cell_type": "code",
   "execution_count": 81,
   "metadata": {},
   "outputs": [
    {
     "data": {
      "text/plain": [
       "'/home/ubuntu/data/OpenSmile/04-2023-OSF-feature-csvs/file_mappings.json'"
      ]
     },
     "execution_count": 81,
     "metadata": {},
     "output_type": "execute_result"
    }
   ],
   "source": [
    "file_mappings"
   ]
  },
  {
   "cell_type": "code",
   "execution_count": 13,
   "metadata": {},
   "outputs": [],
   "source": [
    "class smileFeatureLoader:\n",
    "    def __init__(self, df, \n",
    "                 file_mappings= '/home/ubuntu/data/OpenSmile/04-2023-OSF-feature-csvs/file_mappings.json') -> None:\n",
    "\n",
    "        self.df = df\n",
    "        self.df['path_keys'] = df.path.apply(lambda x: '/'.join(x.split('/')[:-1]))\n",
    "        \n",
    "        with open(file_mappings) as f:\n",
    "            self.file_mappings = json.load(f)\n",
    "        \n",
    "        self.merged_df = self._load_smile_features()\n",
    "        \n",
    "    def _load_smile_features(self):\n",
    "\n",
    "        tqdm.pandas()\n",
    "\n",
    "        merged_df = pd.DataFrame()\n",
    "        \n",
    "        #iterate through all the unique path keys in the provided df\n",
    "        for path_key in tqdm(self.df.path_keys.unique()):\n",
    "            \n",
    "            #load the precomputed smile features for files in the path key\n",
    "            csv_path = self.file_mappings[path_key]\n",
    "            right_df = pd.read_csv(csv_path)\n",
    "            \n",
    "            #create the left df by filtering the provided df by the path key\n",
    "            left_df = self.df[self.df.path_keys == path_key]\n",
    "\n",
    "            #merge the left and right dfs\n",
    "            merged_df = pd.concat([merged_df, pd.merge(left_df, right_df, left_on='path', right_on='file', how='left')], axis=0)\n",
    "\n",
    "        return merged_df\n",
    "                \n",
    "                "
   ]
  },
  {
   "cell_type": "code",
   "execution_count": 14,
   "metadata": {},
   "outputs": [
    {
     "name": "stderr",
     "output_type": "stream",
     "text": [
      "100%|██████████| 10/10 [01:57<00:00, 11.71s/it]\n"
     ]
    }
   ],
   "source": [
    "sm = smileFeatureLoader(test_df)"
   ]
  },
  {
   "cell_type": "code",
   "execution_count": 15,
   "metadata": {},
   "outputs": [
    {
     "data": {
      "text/html": [
       "<div>\n",
       "<style scoped>\n",
       "    .dataframe tbody tr th:only-of-type {\n",
       "        vertical-align: middle;\n",
       "    }\n",
       "\n",
       "    .dataframe tbody tr th {\n",
       "        vertical-align: top;\n",
       "    }\n",
       "\n",
       "    .dataframe thead th {\n",
       "        text-align: right;\n",
       "    }\n",
       "</style>\n",
       "<table border=\"1\" class=\"dataframe\">\n",
       "  <thead>\n",
       "    <tr style=\"text-align: right;\">\n",
       "      <th></th>\n",
       "      <th>path</th>\n",
       "      <th>label</th>\n",
       "      <th>multiclass_label</th>\n",
       "      <th>type</th>\n",
       "      <th>path_keys</th>\n",
       "      <th>file</th>\n",
       "      <th>duration(seconds)</th>\n",
       "      <th>audspec_lengthL1norm_sma_range</th>\n",
       "      <th>audspec_lengthL1norm_sma_maxPos</th>\n",
       "      <th>audspec_lengthL1norm_sma_minPos</th>\n",
       "      <th>...</th>\n",
       "      <th>mfcc_sma_de[14]_peakRangeAbs</th>\n",
       "      <th>mfcc_sma_de[14]_peakRangeRel</th>\n",
       "      <th>mfcc_sma_de[14]_peakMeanAbs</th>\n",
       "      <th>mfcc_sma_de[14]_peakMeanMeanDist</th>\n",
       "      <th>mfcc_sma_de[14]_peakMeanRel</th>\n",
       "      <th>mfcc_sma_de[14]_minRangeRel</th>\n",
       "      <th>mfcc_sma_de[14]_meanRisingSlope</th>\n",
       "      <th>mfcc_sma_de[14]_stddevRisingSlope</th>\n",
       "      <th>mfcc_sma_de[14]_meanFallingSlope</th>\n",
       "      <th>mfcc_sma_de[14]_stddevFallingSlope</th>\n",
       "    </tr>\n",
       "  </thead>\n",
       "  <tbody>\n",
       "    <tr>\n",
       "      <th>0</th>\n",
       "      <td>/home/ubuntu/data/wavefake_data/generated_audi...</td>\n",
       "      <td>1</td>\n",
       "      <td>8</td>\n",
       "      <td>train</td>\n",
       "      <td>/home/ubuntu/data/wavefake_data/generated_audi...</td>\n",
       "      <td>/home/ubuntu/data/wavefake_data/generated_audi...</td>\n",
       "      <td>3.343</td>\n",
       "      <td>1.602459</td>\n",
       "      <td>0.051988</td>\n",
       "      <td>0.000000</td>\n",
       "      <td>...</td>\n",
       "      <td>7.730895</td>\n",
       "      <td>0.415551</td>\n",
       "      <td>3.062819</td>\n",
       "      <td>3.077089</td>\n",
       "      <td>-19.904160</td>\n",
       "      <td>0.570120</td>\n",
       "      <td>126.63781</td>\n",
       "      <td>63.581635</td>\n",
       "      <td>126.151910</td>\n",
       "      <td>83.772940</td>\n",
       "    </tr>\n",
       "    <tr>\n",
       "      <th>1</th>\n",
       "      <td>/home/ubuntu/data/wavefake_data/generated_audi...</td>\n",
       "      <td>1</td>\n",
       "      <td>8</td>\n",
       "      <td>test</td>\n",
       "      <td>/home/ubuntu/data/wavefake_data/generated_audi...</td>\n",
       "      <td>/home/ubuntu/data/wavefake_data/generated_audi...</td>\n",
       "      <td>2.533</td>\n",
       "      <td>2.394111</td>\n",
       "      <td>0.158537</td>\n",
       "      <td>0.000000</td>\n",
       "      <td>...</td>\n",
       "      <td>8.517508</td>\n",
       "      <td>0.538352</td>\n",
       "      <td>3.136288</td>\n",
       "      <td>3.186036</td>\n",
       "      <td>-18.538776</td>\n",
       "      <td>0.407908</td>\n",
       "      <td>120.36672</td>\n",
       "      <td>69.367580</td>\n",
       "      <td>132.064440</td>\n",
       "      <td>62.742523</td>\n",
       "    </tr>\n",
       "    <tr>\n",
       "      <th>2</th>\n",
       "      <td>/home/ubuntu/data/wavefake_data/generated_audi...</td>\n",
       "      <td>1</td>\n",
       "      <td>8</td>\n",
       "      <td>train</td>\n",
       "      <td>/home/ubuntu/data/wavefake_data/generated_audi...</td>\n",
       "      <td>/home/ubuntu/data/wavefake_data/generated_audi...</td>\n",
       "      <td>6.269</td>\n",
       "      <td>2.050387</td>\n",
       "      <td>0.038772</td>\n",
       "      <td>0.000000</td>\n",
       "      <td>...</td>\n",
       "      <td>10.730106</td>\n",
       "      <td>0.604909</td>\n",
       "      <td>3.346725</td>\n",
       "      <td>3.366471</td>\n",
       "      <td>-19.813828</td>\n",
       "      <td>0.470749</td>\n",
       "      <td>136.01222</td>\n",
       "      <td>72.739040</td>\n",
       "      <td>132.920400</td>\n",
       "      <td>66.525240</td>\n",
       "    </tr>\n",
       "    <tr>\n",
       "      <th>3</th>\n",
       "      <td>/home/ubuntu/data/wavefake_data/generated_audi...</td>\n",
       "      <td>1</td>\n",
       "      <td>8</td>\n",
       "      <td>test</td>\n",
       "      <td>/home/ubuntu/data/wavefake_data/generated_audi...</td>\n",
       "      <td>/home/ubuntu/data/wavefake_data/generated_audi...</td>\n",
       "      <td>4.675</td>\n",
       "      <td>1.830175</td>\n",
       "      <td>0.430435</td>\n",
       "      <td>0.000000</td>\n",
       "      <td>...</td>\n",
       "      <td>10.181911</td>\n",
       "      <td>0.538243</td>\n",
       "      <td>3.430733</td>\n",
       "      <td>3.462836</td>\n",
       "      <td>-19.445423</td>\n",
       "      <td>0.508702</td>\n",
       "      <td>141.20656</td>\n",
       "      <td>64.411970</td>\n",
       "      <td>122.776210</td>\n",
       "      <td>61.358030</td>\n",
       "    </tr>\n",
       "    <tr>\n",
       "      <th>4</th>\n",
       "      <td>/home/ubuntu/data/wavefake_data/generated_audi...</td>\n",
       "      <td>1</td>\n",
       "      <td>8</td>\n",
       "      <td>train</td>\n",
       "      <td>/home/ubuntu/data/wavefake_data/generated_audi...</td>\n",
       "      <td>/home/ubuntu/data/wavefake_data/generated_audi...</td>\n",
       "      <td>2.324</td>\n",
       "      <td>1.606619</td>\n",
       "      <td>0.471111</td>\n",
       "      <td>0.000000</td>\n",
       "      <td>...</td>\n",
       "      <td>8.520594</td>\n",
       "      <td>0.549646</td>\n",
       "      <td>3.773812</td>\n",
       "      <td>3.750864</td>\n",
       "      <td>19.798428</td>\n",
       "      <td>0.574246</td>\n",
       "      <td>155.39288</td>\n",
       "      <td>81.809204</td>\n",
       "      <td>148.857930</td>\n",
       "      <td>51.816810</td>\n",
       "    </tr>\n",
       "    <tr>\n",
       "      <th>...</th>\n",
       "      <td>...</td>\n",
       "      <td>...</td>\n",
       "      <td>...</td>\n",
       "      <td>...</td>\n",
       "      <td>...</td>\n",
       "      <td>...</td>\n",
       "      <td>...</td>\n",
       "      <td>...</td>\n",
       "      <td>...</td>\n",
       "      <td>...</td>\n",
       "      <td>...</td>\n",
       "      <td>...</td>\n",
       "      <td>...</td>\n",
       "      <td>...</td>\n",
       "      <td>...</td>\n",
       "      <td>...</td>\n",
       "      <td>...</td>\n",
       "      <td>...</td>\n",
       "      <td>...</td>\n",
       "      <td>...</td>\n",
       "      <td>...</td>\n",
       "    </tr>\n",
       "    <tr>\n",
       "      <th>94</th>\n",
       "      <td>/home/ubuntu/data/wavefake_data/generated_audi...</td>\n",
       "      <td>1</td>\n",
       "      <td>4</td>\n",
       "      <td>train</td>\n",
       "      <td>/home/ubuntu/data/wavefake_data/generated_audi...</td>\n",
       "      <td>/home/ubuntu/data/wavefake_data/generated_audi...</td>\n",
       "      <td>9.450</td>\n",
       "      <td>2.651617</td>\n",
       "      <td>0.003198</td>\n",
       "      <td>0.938166</td>\n",
       "      <td>...</td>\n",
       "      <td>8.625346</td>\n",
       "      <td>0.531985</td>\n",
       "      <td>2.666343</td>\n",
       "      <td>2.661437</td>\n",
       "      <td>19.997124</td>\n",
       "      <td>0.576915</td>\n",
       "      <td>121.31240</td>\n",
       "      <td>62.890102</td>\n",
       "      <td>112.288360</td>\n",
       "      <td>60.995308</td>\n",
       "    </tr>\n",
       "    <tr>\n",
       "      <th>95</th>\n",
       "      <td>/home/ubuntu/data/wavefake_data/generated_audi...</td>\n",
       "      <td>1</td>\n",
       "      <td>4</td>\n",
       "      <td>dev</td>\n",
       "      <td>/home/ubuntu/data/wavefake_data/generated_audi...</td>\n",
       "      <td>/home/ubuntu/data/wavefake_data/generated_audi...</td>\n",
       "      <td>4.702</td>\n",
       "      <td>2.456301</td>\n",
       "      <td>0.045356</td>\n",
       "      <td>0.025918</td>\n",
       "      <td>...</td>\n",
       "      <td>7.471141</td>\n",
       "      <td>0.546813</td>\n",
       "      <td>2.701924</td>\n",
       "      <td>2.683001</td>\n",
       "      <td>19.712158</td>\n",
       "      <td>0.551914</td>\n",
       "      <td>129.52907</td>\n",
       "      <td>65.336900</td>\n",
       "      <td>113.750970</td>\n",
       "      <td>54.800827</td>\n",
       "    </tr>\n",
       "    <tr>\n",
       "      <th>96</th>\n",
       "      <td>/home/ubuntu/data/wavefake_data/generated_audi...</td>\n",
       "      <td>1</td>\n",
       "      <td>4</td>\n",
       "      <td>train</td>\n",
       "      <td>/home/ubuntu/data/wavefake_data/generated_audi...</td>\n",
       "      <td>/home/ubuntu/data/wavefake_data/generated_audi...</td>\n",
       "      <td>8.173</td>\n",
       "      <td>1.792119</td>\n",
       "      <td>0.716049</td>\n",
       "      <td>0.639506</td>\n",
       "      <td>...</td>\n",
       "      <td>9.240211</td>\n",
       "      <td>0.558711</td>\n",
       "      <td>2.689802</td>\n",
       "      <td>2.678833</td>\n",
       "      <td>19.936390</td>\n",
       "      <td>0.526763</td>\n",
       "      <td>124.36311</td>\n",
       "      <td>57.995438</td>\n",
       "      <td>120.478280</td>\n",
       "      <td>52.921406</td>\n",
       "    </tr>\n",
       "    <tr>\n",
       "      <th>97</th>\n",
       "      <td>/home/ubuntu/data/wavefake_data/generated_audi...</td>\n",
       "      <td>1</td>\n",
       "      <td>4</td>\n",
       "      <td>train</td>\n",
       "      <td>/home/ubuntu/data/wavefake_data/generated_audi...</td>\n",
       "      <td>/home/ubuntu/data/wavefake_data/generated_audi...</td>\n",
       "      <td>4.527</td>\n",
       "      <td>1.439918</td>\n",
       "      <td>0.056180</td>\n",
       "      <td>0.044944</td>\n",
       "      <td>...</td>\n",
       "      <td>7.654117</td>\n",
       "      <td>0.429644</td>\n",
       "      <td>3.191265</td>\n",
       "      <td>3.184236</td>\n",
       "      <td>19.993542</td>\n",
       "      <td>0.573339</td>\n",
       "      <td>129.89511</td>\n",
       "      <td>59.407608</td>\n",
       "      <td>113.241100</td>\n",
       "      <td>69.361946</td>\n",
       "    </tr>\n",
       "    <tr>\n",
       "      <th>98</th>\n",
       "      <td>/home/ubuntu/data/wavefake_data/generated_audi...</td>\n",
       "      <td>1</td>\n",
       "      <td>4</td>\n",
       "      <td>test</td>\n",
       "      <td>/home/ubuntu/data/wavefake_data/generated_audi...</td>\n",
       "      <td>/home/ubuntu/data/wavefake_data/generated_audi...</td>\n",
       "      <td>5.131</td>\n",
       "      <td>2.810225</td>\n",
       "      <td>0.519763</td>\n",
       "      <td>0.490119</td>\n",
       "      <td>...</td>\n",
       "      <td>6.606598</td>\n",
       "      <td>0.526998</td>\n",
       "      <td>2.302624</td>\n",
       "      <td>2.280257</td>\n",
       "      <td>19.400558</td>\n",
       "      <td>0.569407</td>\n",
       "      <td>118.53277</td>\n",
       "      <td>54.030310</td>\n",
       "      <td>110.319176</td>\n",
       "      <td>58.946415</td>\n",
       "    </tr>\n",
       "  </tbody>\n",
       "</table>\n",
       "<p>1000 rows × 6380 columns</p>\n",
       "</div>"
      ],
      "text/plain": [
       "                                                 path  label  \\\n",
       "0   /home/ubuntu/data/wavefake_data/generated_audi...      1   \n",
       "1   /home/ubuntu/data/wavefake_data/generated_audi...      1   \n",
       "2   /home/ubuntu/data/wavefake_data/generated_audi...      1   \n",
       "3   /home/ubuntu/data/wavefake_data/generated_audi...      1   \n",
       "4   /home/ubuntu/data/wavefake_data/generated_audi...      1   \n",
       "..                                                ...    ...   \n",
       "94  /home/ubuntu/data/wavefake_data/generated_audi...      1   \n",
       "95  /home/ubuntu/data/wavefake_data/generated_audi...      1   \n",
       "96  /home/ubuntu/data/wavefake_data/generated_audi...      1   \n",
       "97  /home/ubuntu/data/wavefake_data/generated_audi...      1   \n",
       "98  /home/ubuntu/data/wavefake_data/generated_audi...      1   \n",
       "\n",
       "    multiclass_label   type  \\\n",
       "0                  8  train   \n",
       "1                  8   test   \n",
       "2                  8  train   \n",
       "3                  8   test   \n",
       "4                  8  train   \n",
       "..               ...    ...   \n",
       "94                 4  train   \n",
       "95                 4    dev   \n",
       "96                 4  train   \n",
       "97                 4  train   \n",
       "98                 4   test   \n",
       "\n",
       "                                            path_keys  \\\n",
       "0   /home/ubuntu/data/wavefake_data/generated_audi...   \n",
       "1   /home/ubuntu/data/wavefake_data/generated_audi...   \n",
       "2   /home/ubuntu/data/wavefake_data/generated_audi...   \n",
       "3   /home/ubuntu/data/wavefake_data/generated_audi...   \n",
       "4   /home/ubuntu/data/wavefake_data/generated_audi...   \n",
       "..                                                ...   \n",
       "94  /home/ubuntu/data/wavefake_data/generated_audi...   \n",
       "95  /home/ubuntu/data/wavefake_data/generated_audi...   \n",
       "96  /home/ubuntu/data/wavefake_data/generated_audi...   \n",
       "97  /home/ubuntu/data/wavefake_data/generated_audi...   \n",
       "98  /home/ubuntu/data/wavefake_data/generated_audi...   \n",
       "\n",
       "                                                 file  duration(seconds)  \\\n",
       "0   /home/ubuntu/data/wavefake_data/generated_audi...              3.343   \n",
       "1   /home/ubuntu/data/wavefake_data/generated_audi...              2.533   \n",
       "2   /home/ubuntu/data/wavefake_data/generated_audi...              6.269   \n",
       "3   /home/ubuntu/data/wavefake_data/generated_audi...              4.675   \n",
       "4   /home/ubuntu/data/wavefake_data/generated_audi...              2.324   \n",
       "..                                                ...                ...   \n",
       "94  /home/ubuntu/data/wavefake_data/generated_audi...              9.450   \n",
       "95  /home/ubuntu/data/wavefake_data/generated_audi...              4.702   \n",
       "96  /home/ubuntu/data/wavefake_data/generated_audi...              8.173   \n",
       "97  /home/ubuntu/data/wavefake_data/generated_audi...              4.527   \n",
       "98  /home/ubuntu/data/wavefake_data/generated_audi...              5.131   \n",
       "\n",
       "    audspec_lengthL1norm_sma_range  audspec_lengthL1norm_sma_maxPos  \\\n",
       "0                         1.602459                         0.051988   \n",
       "1                         2.394111                         0.158537   \n",
       "2                         2.050387                         0.038772   \n",
       "3                         1.830175                         0.430435   \n",
       "4                         1.606619                         0.471111   \n",
       "..                             ...                              ...   \n",
       "94                        2.651617                         0.003198   \n",
       "95                        2.456301                         0.045356   \n",
       "96                        1.792119                         0.716049   \n",
       "97                        1.439918                         0.056180   \n",
       "98                        2.810225                         0.519763   \n",
       "\n",
       "    audspec_lengthL1norm_sma_minPos  ...  mfcc_sma_de[14]_peakRangeAbs  \\\n",
       "0                          0.000000  ...                      7.730895   \n",
       "1                          0.000000  ...                      8.517508   \n",
       "2                          0.000000  ...                     10.730106   \n",
       "3                          0.000000  ...                     10.181911   \n",
       "4                          0.000000  ...                      8.520594   \n",
       "..                              ...  ...                           ...   \n",
       "94                         0.938166  ...                      8.625346   \n",
       "95                         0.025918  ...                      7.471141   \n",
       "96                         0.639506  ...                      9.240211   \n",
       "97                         0.044944  ...                      7.654117   \n",
       "98                         0.490119  ...                      6.606598   \n",
       "\n",
       "    mfcc_sma_de[14]_peakRangeRel  mfcc_sma_de[14]_peakMeanAbs  \\\n",
       "0                       0.415551                     3.062819   \n",
       "1                       0.538352                     3.136288   \n",
       "2                       0.604909                     3.346725   \n",
       "3                       0.538243                     3.430733   \n",
       "4                       0.549646                     3.773812   \n",
       "..                           ...                          ...   \n",
       "94                      0.531985                     2.666343   \n",
       "95                      0.546813                     2.701924   \n",
       "96                      0.558711                     2.689802   \n",
       "97                      0.429644                     3.191265   \n",
       "98                      0.526998                     2.302624   \n",
       "\n",
       "    mfcc_sma_de[14]_peakMeanMeanDist  mfcc_sma_de[14]_peakMeanRel  \\\n",
       "0                           3.077089                   -19.904160   \n",
       "1                           3.186036                   -18.538776   \n",
       "2                           3.366471                   -19.813828   \n",
       "3                           3.462836                   -19.445423   \n",
       "4                           3.750864                    19.798428   \n",
       "..                               ...                          ...   \n",
       "94                          2.661437                    19.997124   \n",
       "95                          2.683001                    19.712158   \n",
       "96                          2.678833                    19.936390   \n",
       "97                          3.184236                    19.993542   \n",
       "98                          2.280257                    19.400558   \n",
       "\n",
       "    mfcc_sma_de[14]_minRangeRel  mfcc_sma_de[14]_meanRisingSlope  \\\n",
       "0                      0.570120                        126.63781   \n",
       "1                      0.407908                        120.36672   \n",
       "2                      0.470749                        136.01222   \n",
       "3                      0.508702                        141.20656   \n",
       "4                      0.574246                        155.39288   \n",
       "..                          ...                              ...   \n",
       "94                     0.576915                        121.31240   \n",
       "95                     0.551914                        129.52907   \n",
       "96                     0.526763                        124.36311   \n",
       "97                     0.573339                        129.89511   \n",
       "98                     0.569407                        118.53277   \n",
       "\n",
       "    mfcc_sma_de[14]_stddevRisingSlope  mfcc_sma_de[14]_meanFallingSlope  \\\n",
       "0                           63.581635                        126.151910   \n",
       "1                           69.367580                        132.064440   \n",
       "2                           72.739040                        132.920400   \n",
       "3                           64.411970                        122.776210   \n",
       "4                           81.809204                        148.857930   \n",
       "..                                ...                               ...   \n",
       "94                          62.890102                        112.288360   \n",
       "95                          65.336900                        113.750970   \n",
       "96                          57.995438                        120.478280   \n",
       "97                          59.407608                        113.241100   \n",
       "98                          54.030310                        110.319176   \n",
       "\n",
       "    mfcc_sma_de[14]_stddevFallingSlope  \n",
       "0                            83.772940  \n",
       "1                            62.742523  \n",
       "2                            66.525240  \n",
       "3                            61.358030  \n",
       "4                            51.816810  \n",
       "..                                 ...  \n",
       "94                           60.995308  \n",
       "95                           54.800827  \n",
       "96                           52.921406  \n",
       "97                           69.361946  \n",
       "98                           58.946415  \n",
       "\n",
       "[1000 rows x 6380 columns]"
      ]
     },
     "execution_count": 15,
     "metadata": {},
     "output_type": "execute_result"
    }
   ],
   "source": [
    "sm.merged_df"
   ]
  },
  {
   "cell_type": "code",
   "execution_count": null,
   "metadata": {},
   "outputs": [],
   "source": []
  },
  {
   "cell_type": "code",
   "execution_count": null,
   "metadata": {},
   "outputs": [],
   "source": []
  },
  {
   "cell_type": "code",
   "execution_count": null,
   "metadata": {},
   "outputs": [],
   "source": []
  }
 ],
 "metadata": {
  "kernelspec": {
   "display_name": "deepfake-detection-v1",
   "language": "python",
   "name": "deepfake-detection-v1"
  },
  "language_info": {
   "codemirror_mode": {
    "name": "ipython",
    "version": 3
   },
   "file_extension": ".py",
   "mimetype": "text/x-python",
   "name": "python",
   "nbconvert_exporter": "python",
   "pygments_lexer": "ipython3",
   "version": "3.9.16"
  }
 },
 "nbformat": 4,
 "nbformat_minor": 4
}
