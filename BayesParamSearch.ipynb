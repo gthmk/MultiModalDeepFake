{
 "cells": [
  {
   "cell_type": "code",
   "execution_count": 1,
   "id": "14c19ea0-0a86-4c08-84d7-85a0bd3ed119",
   "metadata": {},
   "outputs": [],
   "source": [
    "import sys\n",
    "sys.path.append(\"/home/ubuntu/MultiModalDeepFake\")"
   ]
  },
  {
   "cell_type": "code",
   "execution_count": 2,
   "id": "8be2fbd8-5fc6-49bc-84d6-ba94875d513d",
   "metadata": {},
   "outputs": [
    {
     "name": "stderr",
     "output_type": "stream",
     "text": [
      "/home/ubuntu/.local/lib/python3.8/site-packages/pandas/core/computation/expressions.py:20: UserWarning: Pandas requires version '2.7.3' or newer of 'numexpr' (version '2.7.1' currently installed).\n",
      "  from pandas.core.computation.check import NUMEXPR_INSTALLED\n"
     ]
    }
   ],
   "source": [
    "from packages.CadenceModelManager import CadenceModelManager\n",
    "from packages.LJDataLoader import LJDataLoader"
   ]
  },
  {
   "cell_type": "code",
   "execution_count": 3,
   "id": "ba912381-2ae5-4c6c-97fa-6c31cdbf7f1b",
   "metadata": {},
   "outputs": [],
   "source": [
    "file_path = '/home/ubuntu/data/wavefake_data/LJ_metadata_16KHz_Laundered.csv'\n",
    "loader = LJDataLoader(data_path=file_path)\n",
    "\n",
    "source_architectures = ['Full_Band_MelGan', 'HifiGan', 'MelGan', 'MelGanLarge', 'Multi_Band_MelGan', 'Parallel_WaveGan', 'Waveglow']\n",
    "new_col_name = 'RandWaveFake'\n",
    "loader.selectRandomArchitecture(target_col=new_col_name, source_cols=source_architectures)\n",
    "\n",
    "loader.splitData()\n",
    "data_df = loader.generateFinalDataFrame(real_col='Real', fake_cols=['ElevenLabs', 'UberDuck', 'RandWaveFake'])"
   ]
  },
  {
   "cell_type": "code",
   "execution_count": 4,
   "id": "8b15f5b4-6654-49e8-9f3c-669cf135dc01",
   "metadata": {},
   "outputs": [],
   "source": [
    "cad_model = CadenceModelManager(data_df)"
   ]
  },
  {
   "cell_type": "code",
   "execution_count": 5,
   "id": "89d544d2-881f-46c0-880e-c74d9724ff62",
   "metadata": {},
   "outputs": [
    {
     "name": "stdout",
     "output_type": "stream",
     "text": [
      "Initializing the 25 hyper-parameters\n",
      "Running Params: 299, 0.10171869655485333\n",
      "Normalizing amplitudes\n",
      "Truncating silences\n",
      "Truncating audio 100/500 (20%)\n",
      "Truncating audio 200/500 (40%)\n",
      "Truncating audio 300/500 (60%)\n",
      "Truncating audio 400/500 (80%)\n",
      "Truncating audio 500/500 (100%)\n",
      "Extracting pauses\n",
      "Extracting pause spreads\n"
     ]
    },
    {
     "name": "stderr",
     "output_type": "stream",
     "text": [
      "/home/ubuntu/.local/lib/python3.8/site-packages/numpy/core/_methods.py:265: RuntimeWarning: Degrees of freedom <= 0 for slice\n",
      "  ret = _var(a, axis=axis, dtype=dtype, out=out, ddof=ddof,\n",
      "/home/ubuntu/.local/lib/python3.8/site-packages/numpy/core/_methods.py:223: RuntimeWarning: invalid value encountered in divide\n",
      "  arrmean = um.true_divide(arrmean, div, out=arrmean, casting='unsafe',\n",
      "/home/ubuntu/.local/lib/python3.8/site-packages/numpy/core/_methods.py:257: RuntimeWarning: invalid value encountered in double_scalars\n",
      "  ret = ret.dtype.type(ret / rcount)\n",
      "/home/ubuntu/.local/lib/python3.8/site-packages/numpy/core/fromnumeric.py:3432: RuntimeWarning: Mean of empty slice.\n",
      "  return _methods._mean(a, axis=axis, dtype=dtype,\n",
      "/home/ubuntu/.local/lib/python3.8/site-packages/numpy/core/_methods.py:190: RuntimeWarning: invalid value encountered in double_scalars\n",
      "  ret = ret.dtype.type(ret / rcount)\n"
     ]
    },
    {
     "name": "stdout",
     "output_type": "stream",
     "text": [
      "Extracting amplitude features\n",
      "Creating dataframe\n",
      "Complete\n",
      "Running Params: 242, 0.12989663352263423\n",
      "Normalizing amplitudes\n",
      "Truncating silences\n",
      "Truncating audio 100/500 (20%)\n",
      "Truncating audio 200/500 (40%)\n",
      "Truncating audio 300/500 (60%)\n",
      "Truncating audio 400/500 (80%)\n",
      "Truncating audio 500/500 (100%)\n",
      "Extracting pauses\n",
      "Extracting pause spreads\n"
     ]
    },
    {
     "name": "stderr",
     "output_type": "stream",
     "text": [
      "/home/ubuntu/.local/lib/python3.8/site-packages/numpy/core/_methods.py:265: RuntimeWarning: Degrees of freedom <= 0 for slice\n",
      "  ret = _var(a, axis=axis, dtype=dtype, out=out, ddof=ddof,\n",
      "/home/ubuntu/.local/lib/python3.8/site-packages/numpy/core/_methods.py:223: RuntimeWarning: invalid value encountered in divide\n",
      "  arrmean = um.true_divide(arrmean, div, out=arrmean, casting='unsafe',\n",
      "/home/ubuntu/.local/lib/python3.8/site-packages/numpy/core/_methods.py:257: RuntimeWarning: invalid value encountered in double_scalars\n",
      "  ret = ret.dtype.type(ret / rcount)\n",
      "/home/ubuntu/.local/lib/python3.8/site-packages/numpy/core/fromnumeric.py:3432: RuntimeWarning: Mean of empty slice.\n",
      "  return _methods._mean(a, axis=axis, dtype=dtype,\n",
      "/home/ubuntu/.local/lib/python3.8/site-packages/numpy/core/_methods.py:190: RuntimeWarning: invalid value encountered in double_scalars\n",
      "  ret = ret.dtype.type(ret / rcount)\n"
     ]
    },
    {
     "name": "stdout",
     "output_type": "stream",
     "text": [
      "Extracting amplitude features\n",
      "Creating dataframe\n",
      "Complete\n",
      "Running Params: 327, 0.005\n",
      "Normalizing amplitudes\n",
      "Truncating silences\n",
      "Truncating audio 100/500 (20%)\n",
      "Truncating audio 200/500 (40%)\n",
      "Truncating audio 300/500 (60%)\n",
      "Truncating audio 400/500 (80%)\n",
      "Truncating audio 500/500 (100%)\n",
      "Extracting pauses\n",
      "Extracting pause spreads\n"
     ]
    },
    {
     "name": "stderr",
     "output_type": "stream",
     "text": [
      "/home/ubuntu/.local/lib/python3.8/site-packages/numpy/core/_methods.py:265: RuntimeWarning: Degrees of freedom <= 0 for slice\n",
      "  ret = _var(a, axis=axis, dtype=dtype, out=out, ddof=ddof,\n",
      "/home/ubuntu/.local/lib/python3.8/site-packages/numpy/core/_methods.py:223: RuntimeWarning: invalid value encountered in divide\n",
      "  arrmean = um.true_divide(arrmean, div, out=arrmean, casting='unsafe',\n",
      "/home/ubuntu/.local/lib/python3.8/site-packages/numpy/core/_methods.py:257: RuntimeWarning: invalid value encountered in double_scalars\n",
      "  ret = ret.dtype.type(ret / rcount)\n",
      "/home/ubuntu/.local/lib/python3.8/site-packages/numpy/core/fromnumeric.py:3432: RuntimeWarning: Mean of empty slice.\n",
      "  return _methods._mean(a, axis=axis, dtype=dtype,\n",
      "/home/ubuntu/.local/lib/python3.8/site-packages/numpy/core/_methods.py:190: RuntimeWarning: invalid value encountered in double_scalars\n",
      "  ret = ret.dtype.type(ret / rcount)\n"
     ]
    },
    {
     "name": "stdout",
     "output_type": "stream",
     "text": [
      "Extracting amplitude features\n",
      "Creating dataframe\n",
      "Complete\n",
      "Running Params: 282, 0.06935960217274266\n",
      "Normalizing amplitudes\n",
      "Truncating silences\n",
      "Truncating audio 100/500 (20%)\n",
      "Truncating audio 200/500 (40%)\n",
      "Truncating audio 300/500 (60%)\n",
      "Truncating audio 400/500 (80%)\n",
      "Truncating audio 500/500 (100%)\n",
      "Extracting pauses\n",
      "Extracting pause spreads\n"
     ]
    },
    {
     "name": "stderr",
     "output_type": "stream",
     "text": [
      "/home/ubuntu/.local/lib/python3.8/site-packages/numpy/core/_methods.py:265: RuntimeWarning: Degrees of freedom <= 0 for slice\n",
      "  ret = _var(a, axis=axis, dtype=dtype, out=out, ddof=ddof,\n",
      "/home/ubuntu/.local/lib/python3.8/site-packages/numpy/core/_methods.py:223: RuntimeWarning: invalid value encountered in divide\n",
      "  arrmean = um.true_divide(arrmean, div, out=arrmean, casting='unsafe',\n",
      "/home/ubuntu/.local/lib/python3.8/site-packages/numpy/core/_methods.py:257: RuntimeWarning: invalid value encountered in double_scalars\n",
      "  ret = ret.dtype.type(ret / rcount)\n",
      "/home/ubuntu/.local/lib/python3.8/site-packages/numpy/core/fromnumeric.py:3432: RuntimeWarning: Mean of empty slice.\n",
      "  return _methods._mean(a, axis=axis, dtype=dtype,\n",
      "/home/ubuntu/.local/lib/python3.8/site-packages/numpy/core/_methods.py:190: RuntimeWarning: invalid value encountered in double_scalars\n",
      "  ret = ret.dtype.type(ret / rcount)\n"
     ]
    },
    {
     "name": "stdout",
     "output_type": "stream",
     "text": [
      "Extracting amplitude features\n",
      "Creating dataframe\n",
      "Complete\n",
      "Running Params: 198, 0.07151101480609677\n",
      "Normalizing amplitudes\n",
      "Truncating silences\n",
      "Truncating audio 100/500 (20%)\n",
      "Truncating audio 200/500 (40%)\n",
      "Truncating audio 300/500 (60%)\n",
      "Truncating audio 400/500 (80%)\n",
      "Truncating audio 500/500 (100%)\n",
      "Extracting pauses\n",
      "Extracting pause spreads\n"
     ]
    },
    {
     "name": "stderr",
     "output_type": "stream",
     "text": [
      "/home/ubuntu/.local/lib/python3.8/site-packages/numpy/core/_methods.py:265: RuntimeWarning: Degrees of freedom <= 0 for slice\n",
      "  ret = _var(a, axis=axis, dtype=dtype, out=out, ddof=ddof,\n",
      "/home/ubuntu/.local/lib/python3.8/site-packages/numpy/core/_methods.py:223: RuntimeWarning: invalid value encountered in divide\n",
      "  arrmean = um.true_divide(arrmean, div, out=arrmean, casting='unsafe',\n",
      "/home/ubuntu/.local/lib/python3.8/site-packages/numpy/core/_methods.py:257: RuntimeWarning: invalid value encountered in double_scalars\n",
      "  ret = ret.dtype.type(ret / rcount)\n",
      "/home/ubuntu/.local/lib/python3.8/site-packages/numpy/core/fromnumeric.py:3432: RuntimeWarning: Mean of empty slice.\n",
      "  return _methods._mean(a, axis=axis, dtype=dtype,\n",
      "/home/ubuntu/.local/lib/python3.8/site-packages/numpy/core/_methods.py:190: RuntimeWarning: invalid value encountered in double_scalars\n",
      "  ret = ret.dtype.type(ret / rcount)\n"
     ]
    },
    {
     "name": "stdout",
     "output_type": "stream",
     "text": [
      "Extracting amplitude features\n",
      "Creating dataframe\n",
      "Complete\n",
      "Running Params: 395, 0.046224125994119375\n",
      "Normalizing amplitudes\n",
      "Truncating silences\n",
      "Truncating audio 100/500 (20%)\n",
      "Truncating audio 200/500 (40%)\n",
      "Truncating audio 300/500 (60%)\n",
      "Truncating audio 400/500 (80%)\n",
      "Truncating audio 500/500 (100%)\n",
      "Extracting pauses\n",
      "Extracting pause spreads\n"
     ]
    },
    {
     "name": "stderr",
     "output_type": "stream",
     "text": [
      "/home/ubuntu/.local/lib/python3.8/site-packages/numpy/core/_methods.py:265: RuntimeWarning: Degrees of freedom <= 0 for slice\n",
      "  ret = _var(a, axis=axis, dtype=dtype, out=out, ddof=ddof,\n",
      "/home/ubuntu/.local/lib/python3.8/site-packages/numpy/core/_methods.py:223: RuntimeWarning: invalid value encountered in divide\n",
      "  arrmean = um.true_divide(arrmean, div, out=arrmean, casting='unsafe',\n",
      "/home/ubuntu/.local/lib/python3.8/site-packages/numpy/core/_methods.py:257: RuntimeWarning: invalid value encountered in double_scalars\n",
      "  ret = ret.dtype.type(ret / rcount)\n",
      "/home/ubuntu/.local/lib/python3.8/site-packages/numpy/core/fromnumeric.py:3432: RuntimeWarning: Mean of empty slice.\n",
      "  return _methods._mean(a, axis=axis, dtype=dtype,\n",
      "/home/ubuntu/.local/lib/python3.8/site-packages/numpy/core/_methods.py:190: RuntimeWarning: invalid value encountered in double_scalars\n",
      "  ret = ret.dtype.type(ret / rcount)\n"
     ]
    },
    {
     "name": "stdout",
     "output_type": "stream",
     "text": [
      "Extracting amplitude features\n",
      "Creating dataframe\n",
      "Complete\n",
      "Running Params: 279, 0.005\n",
      "Normalizing amplitudes\n",
      "Truncating silences\n",
      "Truncating audio 100/500 (20%)\n",
      "Truncating audio 200/500 (40%)\n",
      "Truncating audio 300/500 (60%)\n",
      "Truncating audio 400/500 (80%)\n",
      "Truncating audio 500/500 (100%)\n",
      "Extracting pauses\n",
      "Extracting pause spreads\n"
     ]
    },
    {
     "name": "stderr",
     "output_type": "stream",
     "text": [
      "/home/ubuntu/.local/lib/python3.8/site-packages/numpy/core/_methods.py:265: RuntimeWarning: Degrees of freedom <= 0 for slice\n",
      "  ret = _var(a, axis=axis, dtype=dtype, out=out, ddof=ddof,\n",
      "/home/ubuntu/.local/lib/python3.8/site-packages/numpy/core/_methods.py:223: RuntimeWarning: invalid value encountered in divide\n",
      "  arrmean = um.true_divide(arrmean, div, out=arrmean, casting='unsafe',\n",
      "/home/ubuntu/.local/lib/python3.8/site-packages/numpy/core/_methods.py:257: RuntimeWarning: invalid value encountered in double_scalars\n",
      "  ret = ret.dtype.type(ret / rcount)\n",
      "/home/ubuntu/.local/lib/python3.8/site-packages/numpy/core/fromnumeric.py:3432: RuntimeWarning: Mean of empty slice.\n",
      "  return _methods._mean(a, axis=axis, dtype=dtype,\n",
      "/home/ubuntu/.local/lib/python3.8/site-packages/numpy/core/_methods.py:190: RuntimeWarning: invalid value encountered in double_scalars\n",
      "  ret = ret.dtype.type(ret / rcount)\n"
     ]
    },
    {
     "name": "stdout",
     "output_type": "stream",
     "text": [
      "Extracting amplitude features\n",
      "Creating dataframe\n",
      "Complete\n",
      "Running Params: 352, 0.005\n",
      "Normalizing amplitudes\n",
      "Truncating silences\n",
      "Truncating audio 100/500 (20%)\n",
      "Truncating audio 200/500 (40%)\n",
      "Truncating audio 300/500 (60%)\n",
      "Truncating audio 400/500 (80%)\n",
      "Truncating audio 500/500 (100%)\n",
      "Extracting pauses\n",
      "Extracting pause spreads\n"
     ]
    },
    {
     "name": "stderr",
     "output_type": "stream",
     "text": [
      "/home/ubuntu/.local/lib/python3.8/site-packages/numpy/core/_methods.py:265: RuntimeWarning: Degrees of freedom <= 0 for slice\n",
      "  ret = _var(a, axis=axis, dtype=dtype, out=out, ddof=ddof,\n",
      "/home/ubuntu/.local/lib/python3.8/site-packages/numpy/core/_methods.py:223: RuntimeWarning: invalid value encountered in divide\n",
      "  arrmean = um.true_divide(arrmean, div, out=arrmean, casting='unsafe',\n",
      "/home/ubuntu/.local/lib/python3.8/site-packages/numpy/core/_methods.py:257: RuntimeWarning: invalid value encountered in double_scalars\n",
      "  ret = ret.dtype.type(ret / rcount)\n",
      "/home/ubuntu/.local/lib/python3.8/site-packages/numpy/core/fromnumeric.py:3432: RuntimeWarning: Mean of empty slice.\n",
      "  return _methods._mean(a, axis=axis, dtype=dtype,\n",
      "/home/ubuntu/.local/lib/python3.8/site-packages/numpy/core/_methods.py:190: RuntimeWarning: invalid value encountered in double_scalars\n",
      "  ret = ret.dtype.type(ret / rcount)\n"
     ]
    },
    {
     "name": "stdout",
     "output_type": "stream",
     "text": [
      "Extracting amplitude features\n",
      "Creating dataframe\n",
      "Complete\n",
      "Running Params: 503, 0.019323992259803434\n",
      "Normalizing amplitudes\n",
      "Truncating silences\n",
      "Truncating audio 100/500 (20%)\n",
      "Truncating audio 200/500 (40%)\n",
      "Truncating audio 300/500 (60%)\n",
      "Truncating audio 400/500 (80%)\n",
      "Truncating audio 500/500 (100%)\n",
      "Extracting pauses\n",
      "Extracting pause spreads\n"
     ]
    },
    {
     "name": "stderr",
     "output_type": "stream",
     "text": [
      "/home/ubuntu/.local/lib/python3.8/site-packages/numpy/core/_methods.py:265: RuntimeWarning: Degrees of freedom <= 0 for slice\n",
      "  ret = _var(a, axis=axis, dtype=dtype, out=out, ddof=ddof,\n",
      "/home/ubuntu/.local/lib/python3.8/site-packages/numpy/core/_methods.py:223: RuntimeWarning: invalid value encountered in divide\n",
      "  arrmean = um.true_divide(arrmean, div, out=arrmean, casting='unsafe',\n",
      "/home/ubuntu/.local/lib/python3.8/site-packages/numpy/core/_methods.py:257: RuntimeWarning: invalid value encountered in double_scalars\n",
      "  ret = ret.dtype.type(ret / rcount)\n",
      "/home/ubuntu/.local/lib/python3.8/site-packages/numpy/core/fromnumeric.py:3432: RuntimeWarning: Mean of empty slice.\n",
      "  return _methods._mean(a, axis=axis, dtype=dtype,\n",
      "/home/ubuntu/.local/lib/python3.8/site-packages/numpy/core/_methods.py:190: RuntimeWarning: invalid value encountered in double_scalars\n",
      "  ret = ret.dtype.type(ret / rcount)\n"
     ]
    },
    {
     "name": "stdout",
     "output_type": "stream",
     "text": [
      "Extracting amplitude features\n",
      "Creating dataframe\n",
      "Complete\n",
      "Running Params: 344, 0.059980874871074404\n",
      "Normalizing amplitudes\n",
      "Truncating silences\n",
      "Truncating audio 100/500 (20%)\n",
      "Truncating audio 200/500 (40%)\n",
      "Truncating audio 300/500 (60%)\n",
      "Truncating audio 400/500 (80%)\n",
      "Truncating audio 500/500 (100%)\n",
      "Extracting pauses\n",
      "Extracting pause spreads\n"
     ]
    },
    {
     "name": "stderr",
     "output_type": "stream",
     "text": [
      "/home/ubuntu/.local/lib/python3.8/site-packages/numpy/core/_methods.py:265: RuntimeWarning: Degrees of freedom <= 0 for slice\n",
      "  ret = _var(a, axis=axis, dtype=dtype, out=out, ddof=ddof,\n",
      "/home/ubuntu/.local/lib/python3.8/site-packages/numpy/core/_methods.py:223: RuntimeWarning: invalid value encountered in divide\n",
      "  arrmean = um.true_divide(arrmean, div, out=arrmean, casting='unsafe',\n",
      "/home/ubuntu/.local/lib/python3.8/site-packages/numpy/core/_methods.py:257: RuntimeWarning: invalid value encountered in double_scalars\n",
      "  ret = ret.dtype.type(ret / rcount)\n",
      "/home/ubuntu/.local/lib/python3.8/site-packages/numpy/core/fromnumeric.py:3432: RuntimeWarning: Mean of empty slice.\n",
      "  return _methods._mean(a, axis=axis, dtype=dtype,\n",
      "/home/ubuntu/.local/lib/python3.8/site-packages/numpy/core/_methods.py:190: RuntimeWarning: invalid value encountered in double_scalars\n",
      "  ret = ret.dtype.type(ret / rcount)\n"
     ]
    },
    {
     "name": "stdout",
     "output_type": "stream",
     "text": [
      "Extracting amplitude features\n",
      "Creating dataframe\n",
      "Complete\n",
      "Running Params: 234, 0.03883444734710613\n",
      "Normalizing amplitudes\n",
      "Truncating silences\n",
      "Truncating audio 100/500 (20%)\n",
      "Truncating audio 200/500 (40%)\n",
      "Truncating audio 300/500 (60%)\n",
      "Truncating audio 400/500 (80%)\n",
      "Truncating audio 500/500 (100%)\n",
      "Extracting pauses\n",
      "Extracting pause spreads\n"
     ]
    },
    {
     "name": "stderr",
     "output_type": "stream",
     "text": [
      "/home/ubuntu/.local/lib/python3.8/site-packages/numpy/core/_methods.py:265: RuntimeWarning: Degrees of freedom <= 0 for slice\n",
      "  ret = _var(a, axis=axis, dtype=dtype, out=out, ddof=ddof,\n",
      "/home/ubuntu/.local/lib/python3.8/site-packages/numpy/core/_methods.py:223: RuntimeWarning: invalid value encountered in divide\n",
      "  arrmean = um.true_divide(arrmean, div, out=arrmean, casting='unsafe',\n",
      "/home/ubuntu/.local/lib/python3.8/site-packages/numpy/core/_methods.py:257: RuntimeWarning: invalid value encountered in double_scalars\n",
      "  ret = ret.dtype.type(ret / rcount)\n",
      "/home/ubuntu/.local/lib/python3.8/site-packages/numpy/core/fromnumeric.py:3432: RuntimeWarning: Mean of empty slice.\n",
      "  return _methods._mean(a, axis=axis, dtype=dtype,\n",
      "/home/ubuntu/.local/lib/python3.8/site-packages/numpy/core/_methods.py:190: RuntimeWarning: invalid value encountered in double_scalars\n",
      "  ret = ret.dtype.type(ret / rcount)\n"
     ]
    },
    {
     "name": "stdout",
     "output_type": "stream",
     "text": [
      "Extracting amplitude features\n",
      "Creating dataframe\n",
      "Complete\n",
      "Running Params: 173, 0.02509113154327643\n",
      "Normalizing amplitudes\n",
      "Truncating silences\n",
      "Truncating audio 100/500 (20%)\n",
      "Truncating audio 200/500 (40%)\n",
      "Truncating audio 300/500 (60%)\n",
      "Truncating audio 400/500 (80%)\n",
      "Truncating audio 500/500 (100%)\n",
      "Extracting pauses\n",
      "Extracting pause spreads\n"
     ]
    },
    {
     "name": "stderr",
     "output_type": "stream",
     "text": [
      "/home/ubuntu/.local/lib/python3.8/site-packages/numpy/core/_methods.py:265: RuntimeWarning: Degrees of freedom <= 0 for slice\n",
      "  ret = _var(a, axis=axis, dtype=dtype, out=out, ddof=ddof,\n",
      "/home/ubuntu/.local/lib/python3.8/site-packages/numpy/core/_methods.py:223: RuntimeWarning: invalid value encountered in divide\n",
      "  arrmean = um.true_divide(arrmean, div, out=arrmean, casting='unsafe',\n",
      "/home/ubuntu/.local/lib/python3.8/site-packages/numpy/core/_methods.py:257: RuntimeWarning: invalid value encountered in double_scalars\n",
      "  ret = ret.dtype.type(ret / rcount)\n",
      "/home/ubuntu/.local/lib/python3.8/site-packages/numpy/core/fromnumeric.py:3432: RuntimeWarning: Mean of empty slice.\n",
      "  return _methods._mean(a, axis=axis, dtype=dtype,\n",
      "/home/ubuntu/.local/lib/python3.8/site-packages/numpy/core/_methods.py:190: RuntimeWarning: invalid value encountered in double_scalars\n",
      "  ret = ret.dtype.type(ret / rcount)\n"
     ]
    },
    {
     "name": "stdout",
     "output_type": "stream",
     "text": [
      "Extracting amplitude features\n",
      "Creating dataframe\n",
      "Complete\n",
      "Running Params: 181, 0.10470728123551612\n",
      "Normalizing amplitudes\n",
      "Truncating silences\n",
      "Truncating audio 100/500 (20%)\n",
      "Truncating audio 200/500 (40%)\n",
      "Truncating audio 300/500 (60%)\n",
      "Truncating audio 400/500 (80%)\n",
      "Truncating audio 500/500 (100%)\n",
      "Extracting pauses\n",
      "Extracting pause spreads\n"
     ]
    },
    {
     "name": "stderr",
     "output_type": "stream",
     "text": [
      "/home/ubuntu/.local/lib/python3.8/site-packages/numpy/core/_methods.py:265: RuntimeWarning: Degrees of freedom <= 0 for slice\n",
      "  ret = _var(a, axis=axis, dtype=dtype, out=out, ddof=ddof,\n",
      "/home/ubuntu/.local/lib/python3.8/site-packages/numpy/core/_methods.py:223: RuntimeWarning: invalid value encountered in divide\n",
      "  arrmean = um.true_divide(arrmean, div, out=arrmean, casting='unsafe',\n",
      "/home/ubuntu/.local/lib/python3.8/site-packages/numpy/core/_methods.py:257: RuntimeWarning: invalid value encountered in double_scalars\n",
      "  ret = ret.dtype.type(ret / rcount)\n",
      "/home/ubuntu/.local/lib/python3.8/site-packages/numpy/core/fromnumeric.py:3432: RuntimeWarning: Mean of empty slice.\n",
      "  return _methods._mean(a, axis=axis, dtype=dtype,\n",
      "/home/ubuntu/.local/lib/python3.8/site-packages/numpy/core/_methods.py:190: RuntimeWarning: invalid value encountered in double_scalars\n",
      "  ret = ret.dtype.type(ret / rcount)\n"
     ]
    },
    {
     "name": "stdout",
     "output_type": "stream",
     "text": [
      "Extracting amplitude features\n",
      "Creating dataframe\n",
      "Complete\n",
      "Running Params: 453, 0.016617542179518434\n",
      "Normalizing amplitudes\n",
      "Truncating silences\n",
      "Truncating audio 100/500 (20%)\n",
      "Truncating audio 200/500 (40%)\n",
      "Truncating audio 300/500 (60%)\n",
      "Truncating audio 400/500 (80%)\n",
      "Truncating audio 500/500 (100%)\n",
      "Extracting pauses\n",
      "Extracting pause spreads\n"
     ]
    },
    {
     "name": "stderr",
     "output_type": "stream",
     "text": [
      "/home/ubuntu/.local/lib/python3.8/site-packages/numpy/core/_methods.py:265: RuntimeWarning: Degrees of freedom <= 0 for slice\n",
      "  ret = _var(a, axis=axis, dtype=dtype, out=out, ddof=ddof,\n",
      "/home/ubuntu/.local/lib/python3.8/site-packages/numpy/core/_methods.py:223: RuntimeWarning: invalid value encountered in divide\n",
      "  arrmean = um.true_divide(arrmean, div, out=arrmean, casting='unsafe',\n",
      "/home/ubuntu/.local/lib/python3.8/site-packages/numpy/core/_methods.py:257: RuntimeWarning: invalid value encountered in double_scalars\n",
      "  ret = ret.dtype.type(ret / rcount)\n",
      "/home/ubuntu/.local/lib/python3.8/site-packages/numpy/core/fromnumeric.py:3432: RuntimeWarning: Mean of empty slice.\n",
      "  return _methods._mean(a, axis=axis, dtype=dtype,\n",
      "/home/ubuntu/.local/lib/python3.8/site-packages/numpy/core/_methods.py:190: RuntimeWarning: invalid value encountered in double_scalars\n",
      "  ret = ret.dtype.type(ret / rcount)\n"
     ]
    },
    {
     "name": "stdout",
     "output_type": "stream",
     "text": [
      "Extracting amplitude features\n",
      "Creating dataframe\n",
      "Complete\n",
      "Running Params: 320, 0.11501987850174346\n",
      "Normalizing amplitudes\n",
      "Truncating silences\n",
      "Truncating audio 100/500 (20%)\n",
      "Truncating audio 200/500 (40%)\n",
      "Truncating audio 300/500 (60%)\n",
      "Truncating audio 400/500 (80%)\n",
      "Truncating audio 500/500 (100%)\n",
      "Extracting pauses\n",
      "Extracting pause spreads\n"
     ]
    },
    {
     "name": "stderr",
     "output_type": "stream",
     "text": [
      "/home/ubuntu/.local/lib/python3.8/site-packages/numpy/core/_methods.py:265: RuntimeWarning: Degrees of freedom <= 0 for slice\n",
      "  ret = _var(a, axis=axis, dtype=dtype, out=out, ddof=ddof,\n",
      "/home/ubuntu/.local/lib/python3.8/site-packages/numpy/core/_methods.py:223: RuntimeWarning: invalid value encountered in divide\n",
      "  arrmean = um.true_divide(arrmean, div, out=arrmean, casting='unsafe',\n",
      "/home/ubuntu/.local/lib/python3.8/site-packages/numpy/core/_methods.py:257: RuntimeWarning: invalid value encountered in double_scalars\n",
      "  ret = ret.dtype.type(ret / rcount)\n",
      "/home/ubuntu/.local/lib/python3.8/site-packages/numpy/core/fromnumeric.py:3432: RuntimeWarning: Mean of empty slice.\n",
      "  return _methods._mean(a, axis=axis, dtype=dtype,\n",
      "/home/ubuntu/.local/lib/python3.8/site-packages/numpy/core/_methods.py:190: RuntimeWarning: invalid value encountered in double_scalars\n",
      "  ret = ret.dtype.type(ret / rcount)\n"
     ]
    },
    {
     "name": "stdout",
     "output_type": "stream",
     "text": [
      "Extracting amplitude features\n",
      "Creating dataframe\n",
      "Complete\n",
      "Running Params: 372, 0.13344096606685052\n",
      "Normalizing amplitudes\n",
      "Truncating silences\n",
      "Truncating audio 100/500 (20%)\n",
      "Truncating audio 200/500 (40%)\n",
      "Truncating audio 300/500 (60%)\n",
      "Truncating audio 400/500 (80%)\n",
      "Truncating audio 500/500 (100%)\n",
      "Extracting pauses\n",
      "Extracting pause spreads\n"
     ]
    },
    {
     "name": "stderr",
     "output_type": "stream",
     "text": [
      "/home/ubuntu/.local/lib/python3.8/site-packages/numpy/core/_methods.py:265: RuntimeWarning: Degrees of freedom <= 0 for slice\n",
      "  ret = _var(a, axis=axis, dtype=dtype, out=out, ddof=ddof,\n",
      "/home/ubuntu/.local/lib/python3.8/site-packages/numpy/core/_methods.py:223: RuntimeWarning: invalid value encountered in divide\n",
      "  arrmean = um.true_divide(arrmean, div, out=arrmean, casting='unsafe',\n",
      "/home/ubuntu/.local/lib/python3.8/site-packages/numpy/core/_methods.py:257: RuntimeWarning: invalid value encountered in double_scalars\n",
      "  ret = ret.dtype.type(ret / rcount)\n",
      "/home/ubuntu/.local/lib/python3.8/site-packages/numpy/core/fromnumeric.py:3432: RuntimeWarning: Mean of empty slice.\n",
      "  return _methods._mean(a, axis=axis, dtype=dtype,\n",
      "/home/ubuntu/.local/lib/python3.8/site-packages/numpy/core/_methods.py:190: RuntimeWarning: invalid value encountered in double_scalars\n",
      "  ret = ret.dtype.type(ret / rcount)\n"
     ]
    },
    {
     "name": "stdout",
     "output_type": "stream",
     "text": [
      "Extracting amplitude features\n",
      "Creating dataframe\n",
      "Complete\n",
      "Running Params: 128, 0.026933048571423056\n",
      "Normalizing amplitudes\n",
      "Truncating silences\n",
      "Truncating audio 100/500 (20%)\n",
      "Truncating audio 200/500 (40%)\n",
      "Truncating audio 300/500 (60%)\n",
      "Truncating audio 400/500 (80%)\n",
      "Truncating audio 500/500 (100%)\n",
      "Extracting pauses\n",
      "Extracting pause spreads\n"
     ]
    },
    {
     "name": "stderr",
     "output_type": "stream",
     "text": [
      "/home/ubuntu/.local/lib/python3.8/site-packages/numpy/core/_methods.py:265: RuntimeWarning: Degrees of freedom <= 0 for slice\n",
      "  ret = _var(a, axis=axis, dtype=dtype, out=out, ddof=ddof,\n",
      "/home/ubuntu/.local/lib/python3.8/site-packages/numpy/core/_methods.py:223: RuntimeWarning: invalid value encountered in divide\n",
      "  arrmean = um.true_divide(arrmean, div, out=arrmean, casting='unsafe',\n",
      "/home/ubuntu/.local/lib/python3.8/site-packages/numpy/core/_methods.py:257: RuntimeWarning: invalid value encountered in double_scalars\n",
      "  ret = ret.dtype.type(ret / rcount)\n",
      "/home/ubuntu/.local/lib/python3.8/site-packages/numpy/core/fromnumeric.py:3432: RuntimeWarning: Mean of empty slice.\n",
      "  return _methods._mean(a, axis=axis, dtype=dtype,\n",
      "/home/ubuntu/.local/lib/python3.8/site-packages/numpy/core/_methods.py:190: RuntimeWarning: invalid value encountered in double_scalars\n",
      "  ret = ret.dtype.type(ret / rcount)\n"
     ]
    },
    {
     "name": "stdout",
     "output_type": "stream",
     "text": [
      "Extracting amplitude features\n",
      "Creating dataframe\n",
      "Complete\n",
      "Running Params: 429, 0.02275934416699232\n",
      "Normalizing amplitudes\n",
      "Truncating silences\n",
      "Truncating audio 100/500 (20%)\n",
      "Truncating audio 200/500 (40%)\n",
      "Truncating audio 300/500 (60%)\n",
      "Truncating audio 400/500 (80%)\n",
      "Truncating audio 500/500 (100%)\n",
      "Extracting pauses\n",
      "Extracting pause spreads\n"
     ]
    },
    {
     "name": "stderr",
     "output_type": "stream",
     "text": [
      "/home/ubuntu/.local/lib/python3.8/site-packages/numpy/core/_methods.py:265: RuntimeWarning: Degrees of freedom <= 0 for slice\n",
      "  ret = _var(a, axis=axis, dtype=dtype, out=out, ddof=ddof,\n",
      "/home/ubuntu/.local/lib/python3.8/site-packages/numpy/core/_methods.py:223: RuntimeWarning: invalid value encountered in divide\n",
      "  arrmean = um.true_divide(arrmean, div, out=arrmean, casting='unsafe',\n",
      "/home/ubuntu/.local/lib/python3.8/site-packages/numpy/core/_methods.py:257: RuntimeWarning: invalid value encountered in double_scalars\n",
      "  ret = ret.dtype.type(ret / rcount)\n",
      "/home/ubuntu/.local/lib/python3.8/site-packages/numpy/core/fromnumeric.py:3432: RuntimeWarning: Mean of empty slice.\n",
      "  return _methods._mean(a, axis=axis, dtype=dtype,\n",
      "/home/ubuntu/.local/lib/python3.8/site-packages/numpy/core/_methods.py:190: RuntimeWarning: invalid value encountered in double_scalars\n",
      "  ret = ret.dtype.type(ret / rcount)\n"
     ]
    },
    {
     "name": "stdout",
     "output_type": "stream",
     "text": [
      "Extracting amplitude features\n",
      "Creating dataframe\n",
      "Complete\n",
      "Running Params: 275, 0.07993067865821606\n",
      "Normalizing amplitudes\n",
      "Truncating silences\n",
      "Truncating audio 100/500 (20%)\n",
      "Truncating audio 200/500 (40%)\n",
      "Truncating audio 300/500 (60%)\n",
      "Truncating audio 400/500 (80%)\n",
      "Truncating audio 500/500 (100%)\n",
      "Extracting pauses\n",
      "Extracting pause spreads\n"
     ]
    },
    {
     "name": "stderr",
     "output_type": "stream",
     "text": [
      "/home/ubuntu/.local/lib/python3.8/site-packages/numpy/core/_methods.py:265: RuntimeWarning: Degrees of freedom <= 0 for slice\n",
      "  ret = _var(a, axis=axis, dtype=dtype, out=out, ddof=ddof,\n",
      "/home/ubuntu/.local/lib/python3.8/site-packages/numpy/core/_methods.py:223: RuntimeWarning: invalid value encountered in divide\n",
      "  arrmean = um.true_divide(arrmean, div, out=arrmean, casting='unsafe',\n",
      "/home/ubuntu/.local/lib/python3.8/site-packages/numpy/core/_methods.py:257: RuntimeWarning: invalid value encountered in double_scalars\n",
      "  ret = ret.dtype.type(ret / rcount)\n",
      "/home/ubuntu/.local/lib/python3.8/site-packages/numpy/core/fromnumeric.py:3432: RuntimeWarning: Mean of empty slice.\n",
      "  return _methods._mean(a, axis=axis, dtype=dtype,\n",
      "/home/ubuntu/.local/lib/python3.8/site-packages/numpy/core/_methods.py:190: RuntimeWarning: invalid value encountered in double_scalars\n",
      "  ret = ret.dtype.type(ret / rcount)\n"
     ]
    },
    {
     "name": "stdout",
     "output_type": "stream",
     "text": [
      "Extracting amplitude features\n",
      "Creating dataframe\n",
      "Complete\n",
      "Running Params: 179, 0.09439383770805122\n",
      "Normalizing amplitudes\n",
      "Truncating silences\n",
      "Truncating audio 100/500 (20%)\n",
      "Truncating audio 200/500 (40%)\n",
      "Truncating audio 300/500 (60%)\n",
      "Truncating audio 400/500 (80%)\n",
      "Truncating audio 500/500 (100%)\n",
      "Extracting pauses\n",
      "Extracting pause spreads\n"
     ]
    },
    {
     "name": "stderr",
     "output_type": "stream",
     "text": [
      "/home/ubuntu/.local/lib/python3.8/site-packages/numpy/core/_methods.py:265: RuntimeWarning: Degrees of freedom <= 0 for slice\n",
      "  ret = _var(a, axis=axis, dtype=dtype, out=out, ddof=ddof,\n",
      "/home/ubuntu/.local/lib/python3.8/site-packages/numpy/core/_methods.py:223: RuntimeWarning: invalid value encountered in divide\n",
      "  arrmean = um.true_divide(arrmean, div, out=arrmean, casting='unsafe',\n",
      "/home/ubuntu/.local/lib/python3.8/site-packages/numpy/core/_methods.py:257: RuntimeWarning: invalid value encountered in double_scalars\n",
      "  ret = ret.dtype.type(ret / rcount)\n",
      "/home/ubuntu/.local/lib/python3.8/site-packages/numpy/core/fromnumeric.py:3432: RuntimeWarning: Mean of empty slice.\n",
      "  return _methods._mean(a, axis=axis, dtype=dtype,\n",
      "/home/ubuntu/.local/lib/python3.8/site-packages/numpy/core/_methods.py:190: RuntimeWarning: invalid value encountered in double_scalars\n",
      "  ret = ret.dtype.type(ret / rcount)\n"
     ]
    },
    {
     "name": "stdout",
     "output_type": "stream",
     "text": [
      "Extracting amplitude features\n",
      "Creating dataframe\n",
      "Complete\n",
      "Running Params: 408, 0.005282469869734276\n",
      "Normalizing amplitudes\n",
      "Truncating silences\n",
      "Truncating audio 100/500 (20%)\n",
      "Truncating audio 200/500 (40%)\n",
      "Truncating audio 300/500 (60%)\n",
      "Truncating audio 400/500 (80%)\n",
      "Truncating audio 500/500 (100%)\n",
      "Extracting pauses\n",
      "Extracting pause spreads\n"
     ]
    },
    {
     "name": "stderr",
     "output_type": "stream",
     "text": [
      "/home/ubuntu/.local/lib/python3.8/site-packages/numpy/core/_methods.py:265: RuntimeWarning: Degrees of freedom <= 0 for slice\n",
      "  ret = _var(a, axis=axis, dtype=dtype, out=out, ddof=ddof,\n",
      "/home/ubuntu/.local/lib/python3.8/site-packages/numpy/core/_methods.py:223: RuntimeWarning: invalid value encountered in divide\n",
      "  arrmean = um.true_divide(arrmean, div, out=arrmean, casting='unsafe',\n",
      "/home/ubuntu/.local/lib/python3.8/site-packages/numpy/core/_methods.py:257: RuntimeWarning: invalid value encountered in double_scalars\n",
      "  ret = ret.dtype.type(ret / rcount)\n",
      "/home/ubuntu/.local/lib/python3.8/site-packages/numpy/core/fromnumeric.py:3432: RuntimeWarning: Mean of empty slice.\n",
      "  return _methods._mean(a, axis=axis, dtype=dtype,\n",
      "/home/ubuntu/.local/lib/python3.8/site-packages/numpy/core/_methods.py:190: RuntimeWarning: invalid value encountered in double_scalars\n",
      "  ret = ret.dtype.type(ret / rcount)\n"
     ]
    },
    {
     "name": "stdout",
     "output_type": "stream",
     "text": [
      "Extracting amplitude features\n",
      "Creating dataframe\n",
      "Complete\n",
      "Running Params: 272, 0.03340292008150568\n",
      "Normalizing amplitudes\n",
      "Truncating silences\n",
      "Truncating audio 100/500 (20%)\n",
      "Truncating audio 200/500 (40%)\n",
      "Truncating audio 300/500 (60%)\n",
      "Truncating audio 400/500 (80%)\n",
      "Truncating audio 500/500 (100%)\n",
      "Extracting pauses\n",
      "Extracting pause spreads\n"
     ]
    },
    {
     "name": "stderr",
     "output_type": "stream",
     "text": [
      "/home/ubuntu/.local/lib/python3.8/site-packages/numpy/core/_methods.py:265: RuntimeWarning: Degrees of freedom <= 0 for slice\n",
      "  ret = _var(a, axis=axis, dtype=dtype, out=out, ddof=ddof,\n",
      "/home/ubuntu/.local/lib/python3.8/site-packages/numpy/core/_methods.py:223: RuntimeWarning: invalid value encountered in divide\n",
      "  arrmean = um.true_divide(arrmean, div, out=arrmean, casting='unsafe',\n",
      "/home/ubuntu/.local/lib/python3.8/site-packages/numpy/core/_methods.py:257: RuntimeWarning: invalid value encountered in double_scalars\n",
      "  ret = ret.dtype.type(ret / rcount)\n",
      "/home/ubuntu/.local/lib/python3.8/site-packages/numpy/core/fromnumeric.py:3432: RuntimeWarning: Mean of empty slice.\n",
      "  return _methods._mean(a, axis=axis, dtype=dtype,\n",
      "/home/ubuntu/.local/lib/python3.8/site-packages/numpy/core/_methods.py:190: RuntimeWarning: invalid value encountered in double_scalars\n",
      "  ret = ret.dtype.type(ret / rcount)\n"
     ]
    },
    {
     "name": "stdout",
     "output_type": "stream",
     "text": [
      "Extracting amplitude features\n",
      "Creating dataframe\n",
      "Complete\n",
      "Running Params: 275, 0.03362196958089223\n",
      "Normalizing amplitudes\n",
      "Truncating silences\n",
      "Truncating audio 100/500 (20%)\n",
      "Truncating audio 200/500 (40%)\n",
      "Truncating audio 300/500 (60%)\n",
      "Truncating audio 400/500 (80%)\n",
      "Truncating audio 500/500 (100%)\n",
      "Extracting pauses\n",
      "Extracting pause spreads\n"
     ]
    },
    {
     "name": "stderr",
     "output_type": "stream",
     "text": [
      "/home/ubuntu/.local/lib/python3.8/site-packages/numpy/core/_methods.py:265: RuntimeWarning: Degrees of freedom <= 0 for slice\n",
      "  ret = _var(a, axis=axis, dtype=dtype, out=out, ddof=ddof,\n",
      "/home/ubuntu/.local/lib/python3.8/site-packages/numpy/core/_methods.py:223: RuntimeWarning: invalid value encountered in divide\n",
      "  arrmean = um.true_divide(arrmean, div, out=arrmean, casting='unsafe',\n",
      "/home/ubuntu/.local/lib/python3.8/site-packages/numpy/core/_methods.py:257: RuntimeWarning: invalid value encountered in double_scalars\n",
      "  ret = ret.dtype.type(ret / rcount)\n",
      "/home/ubuntu/.local/lib/python3.8/site-packages/numpy/core/fromnumeric.py:3432: RuntimeWarning: Mean of empty slice.\n",
      "  return _methods._mean(a, axis=axis, dtype=dtype,\n",
      "/home/ubuntu/.local/lib/python3.8/site-packages/numpy/core/_methods.py:190: RuntimeWarning: invalid value encountered in double_scalars\n",
      "  ret = ret.dtype.type(ret / rcount)\n"
     ]
    },
    {
     "name": "stdout",
     "output_type": "stream",
     "text": [
      "Extracting amplitude features\n",
      "Creating dataframe\n",
      "Complete\n",
      "Running Params: 192, 0.06196367297415636\n",
      "Normalizing amplitudes\n",
      "Truncating silences\n",
      "Truncating audio 100/500 (20%)\n",
      "Truncating audio 200/500 (40%)\n",
      "Truncating audio 300/500 (60%)\n",
      "Truncating audio 400/500 (80%)\n",
      "Truncating audio 500/500 (100%)\n",
      "Extracting pauses\n",
      "Extracting pause spreads\n"
     ]
    },
    {
     "name": "stderr",
     "output_type": "stream",
     "text": [
      "/home/ubuntu/.local/lib/python3.8/site-packages/numpy/core/_methods.py:265: RuntimeWarning: Degrees of freedom <= 0 for slice\n",
      "  ret = _var(a, axis=axis, dtype=dtype, out=out, ddof=ddof,\n",
      "/home/ubuntu/.local/lib/python3.8/site-packages/numpy/core/_methods.py:223: RuntimeWarning: invalid value encountered in divide\n",
      "  arrmean = um.true_divide(arrmean, div, out=arrmean, casting='unsafe',\n",
      "/home/ubuntu/.local/lib/python3.8/site-packages/numpy/core/_methods.py:257: RuntimeWarning: invalid value encountered in double_scalars\n",
      "  ret = ret.dtype.type(ret / rcount)\n",
      "/home/ubuntu/.local/lib/python3.8/site-packages/numpy/core/fromnumeric.py:3432: RuntimeWarning: Mean of empty slice.\n",
      "  return _methods._mean(a, axis=axis, dtype=dtype,\n",
      "/home/ubuntu/.local/lib/python3.8/site-packages/numpy/core/_methods.py:190: RuntimeWarning: invalid value encountered in double_scalars\n",
      "  ret = ret.dtype.type(ret / rcount)\n"
     ]
    },
    {
     "name": "stdout",
     "output_type": "stream",
     "text": [
      "Extracting amplitude features\n",
      "Creating dataframe\n",
      "Complete\n",
      "Running Params: 368, 0.03488887928873863\n",
      "Normalizing amplitudes\n",
      "Truncating silences\n",
      "Truncating audio 100/500 (20%)\n",
      "Truncating audio 200/500 (40%)\n",
      "Truncating audio 300/500 (60%)\n",
      "Truncating audio 400/500 (80%)\n",
      "Truncating audio 500/500 (100%)\n",
      "Extracting pauses\n",
      "Extracting pause spreads\n"
     ]
    },
    {
     "name": "stderr",
     "output_type": "stream",
     "text": [
      "/home/ubuntu/.local/lib/python3.8/site-packages/numpy/core/_methods.py:265: RuntimeWarning: Degrees of freedom <= 0 for slice\n",
      "  ret = _var(a, axis=axis, dtype=dtype, out=out, ddof=ddof,\n",
      "/home/ubuntu/.local/lib/python3.8/site-packages/numpy/core/_methods.py:223: RuntimeWarning: invalid value encountered in divide\n",
      "  arrmean = um.true_divide(arrmean, div, out=arrmean, casting='unsafe',\n",
      "/home/ubuntu/.local/lib/python3.8/site-packages/numpy/core/_methods.py:257: RuntimeWarning: invalid value encountered in double_scalars\n",
      "  ret = ret.dtype.type(ret / rcount)\n",
      "/home/ubuntu/.local/lib/python3.8/site-packages/numpy/core/fromnumeric.py:3432: RuntimeWarning: Mean of empty slice.\n",
      "  return _methods._mean(a, axis=axis, dtype=dtype,\n",
      "/home/ubuntu/.local/lib/python3.8/site-packages/numpy/core/_methods.py:190: RuntimeWarning: invalid value encountered in double_scalars\n",
      "  ret = ret.dtype.type(ret / rcount)\n"
     ]
    },
    {
     "name": "stdout",
     "output_type": "stream",
     "text": [
      "Extracting amplitude features\n",
      "Creating dataframe\n",
      "Complete\n",
      "Optimal H:  [1.80000000e+02 5.36146048e-02]\n",
      "Running Params: 180, 0.053614604835268115\n",
      "Normalizing amplitudes\n",
      "Truncating silences\n",
      "Truncating audio 100/500 (20%)\n",
      "Truncating audio 200/500 (40%)\n",
      "Truncating audio 300/500 (60%)\n",
      "Truncating audio 400/500 (80%)\n",
      "Truncating audio 500/500 (100%)\n",
      "Extracting pauses\n",
      "Extracting pause spreads\n"
     ]
    },
    {
     "name": "stderr",
     "output_type": "stream",
     "text": [
      "/home/ubuntu/.local/lib/python3.8/site-packages/numpy/core/_methods.py:265: RuntimeWarning: Degrees of freedom <= 0 for slice\n",
      "  ret = _var(a, axis=axis, dtype=dtype, out=out, ddof=ddof,\n",
      "/home/ubuntu/.local/lib/python3.8/site-packages/numpy/core/_methods.py:223: RuntimeWarning: invalid value encountered in divide\n",
      "  arrmean = um.true_divide(arrmean, div, out=arrmean, casting='unsafe',\n",
      "/home/ubuntu/.local/lib/python3.8/site-packages/numpy/core/_methods.py:257: RuntimeWarning: invalid value encountered in double_scalars\n",
      "  ret = ret.dtype.type(ret / rcount)\n",
      "/home/ubuntu/.local/lib/python3.8/site-packages/numpy/core/fromnumeric.py:3432: RuntimeWarning: Mean of empty slice.\n",
      "  return _methods._mean(a, axis=axis, dtype=dtype,\n",
      "/home/ubuntu/.local/lib/python3.8/site-packages/numpy/core/_methods.py:190: RuntimeWarning: invalid value encountered in double_scalars\n",
      "  ret = ret.dtype.type(ret / rcount)\n"
     ]
    },
    {
     "name": "stdout",
     "output_type": "stream",
     "text": [
      "Extracting amplitude features\n",
      "Creating dataframe\n",
      "Complete\n",
      "acc:  [0.632]\n",
      "Optimal H:  [2.80000000e+02 8.52232653e-02]\n",
      "Running Params: 280, 0.08522326528520971\n",
      "Normalizing amplitudes\n",
      "Truncating silences\n",
      "Truncating audio 100/500 (20%)\n",
      "Truncating audio 200/500 (40%)\n",
      "Truncating audio 300/500 (60%)\n",
      "Truncating audio 400/500 (80%)\n",
      "Truncating audio 500/500 (100%)\n",
      "Extracting pauses\n",
      "Extracting pause spreads\n"
     ]
    },
    {
     "name": "stderr",
     "output_type": "stream",
     "text": [
      "/home/ubuntu/.local/lib/python3.8/site-packages/numpy/core/_methods.py:265: RuntimeWarning: Degrees of freedom <= 0 for slice\n",
      "  ret = _var(a, axis=axis, dtype=dtype, out=out, ddof=ddof,\n",
      "/home/ubuntu/.local/lib/python3.8/site-packages/numpy/core/_methods.py:223: RuntimeWarning: invalid value encountered in divide\n",
      "  arrmean = um.true_divide(arrmean, div, out=arrmean, casting='unsafe',\n",
      "/home/ubuntu/.local/lib/python3.8/site-packages/numpy/core/_methods.py:257: RuntimeWarning: invalid value encountered in double_scalars\n",
      "  ret = ret.dtype.type(ret / rcount)\n",
      "/home/ubuntu/.local/lib/python3.8/site-packages/numpy/core/fromnumeric.py:3432: RuntimeWarning: Mean of empty slice.\n",
      "  return _methods._mean(a, axis=axis, dtype=dtype,\n",
      "/home/ubuntu/.local/lib/python3.8/site-packages/numpy/core/_methods.py:190: RuntimeWarning: invalid value encountered in double_scalars\n",
      "  ret = ret.dtype.type(ret / rcount)\n"
     ]
    },
    {
     "name": "stdout",
     "output_type": "stream",
     "text": [
      "Extracting amplitude features\n",
      "Creating dataframe\n",
      "Complete\n",
      "acc:  [0.676]\n",
      "Optimal H:  [2.74e+02 5.00e-03]\n",
      "Running Params: 274, 0.005\n",
      "Normalizing amplitudes\n",
      "Truncating silences\n",
      "Truncating audio 100/500 (20%)\n",
      "Truncating audio 200/500 (40%)\n",
      "Truncating audio 300/500 (60%)\n",
      "Truncating audio 400/500 (80%)\n",
      "Truncating audio 500/500 (100%)\n",
      "Extracting pauses\n",
      "Extracting pause spreads\n"
     ]
    },
    {
     "name": "stderr",
     "output_type": "stream",
     "text": [
      "/home/ubuntu/.local/lib/python3.8/site-packages/numpy/core/_methods.py:265: RuntimeWarning: Degrees of freedom <= 0 for slice\n",
      "  ret = _var(a, axis=axis, dtype=dtype, out=out, ddof=ddof,\n",
      "/home/ubuntu/.local/lib/python3.8/site-packages/numpy/core/_methods.py:223: RuntimeWarning: invalid value encountered in divide\n",
      "  arrmean = um.true_divide(arrmean, div, out=arrmean, casting='unsafe',\n",
      "/home/ubuntu/.local/lib/python3.8/site-packages/numpy/core/_methods.py:257: RuntimeWarning: invalid value encountered in double_scalars\n",
      "  ret = ret.dtype.type(ret / rcount)\n",
      "/home/ubuntu/.local/lib/python3.8/site-packages/numpy/core/fromnumeric.py:3432: RuntimeWarning: Mean of empty slice.\n",
      "  return _methods._mean(a, axis=axis, dtype=dtype,\n",
      "/home/ubuntu/.local/lib/python3.8/site-packages/numpy/core/_methods.py:190: RuntimeWarning: invalid value encountered in double_scalars\n",
      "  ret = ret.dtype.type(ret / rcount)\n"
     ]
    },
    {
     "name": "stdout",
     "output_type": "stream",
     "text": [
      "Extracting amplitude features\n",
      "Creating dataframe\n",
      "Complete\n",
      "acc:  [0.616]\n",
      "Optimal H:  [3.96000000e+02 1.33743715e-01]\n",
      "Running Params: 396, 0.13374371478345953\n",
      "Normalizing amplitudes\n",
      "Truncating silences\n",
      "Truncating audio 100/500 (20%)\n",
      "Truncating audio 200/500 (40%)\n",
      "Truncating audio 300/500 (60%)\n",
      "Truncating audio 400/500 (80%)\n",
      "Truncating audio 500/500 (100%)\n",
      "Extracting pauses\n",
      "Extracting pause spreads\n"
     ]
    },
    {
     "name": "stderr",
     "output_type": "stream",
     "text": [
      "/home/ubuntu/.local/lib/python3.8/site-packages/numpy/core/_methods.py:265: RuntimeWarning: Degrees of freedom <= 0 for slice\n",
      "  ret = _var(a, axis=axis, dtype=dtype, out=out, ddof=ddof,\n",
      "/home/ubuntu/.local/lib/python3.8/site-packages/numpy/core/_methods.py:223: RuntimeWarning: invalid value encountered in divide\n",
      "  arrmean = um.true_divide(arrmean, div, out=arrmean, casting='unsafe',\n",
      "/home/ubuntu/.local/lib/python3.8/site-packages/numpy/core/_methods.py:257: RuntimeWarning: invalid value encountered in double_scalars\n",
      "  ret = ret.dtype.type(ret / rcount)\n",
      "/home/ubuntu/.local/lib/python3.8/site-packages/numpy/core/fromnumeric.py:3432: RuntimeWarning: Mean of empty slice.\n",
      "  return _methods._mean(a, axis=axis, dtype=dtype,\n",
      "/home/ubuntu/.local/lib/python3.8/site-packages/numpy/core/_methods.py:190: RuntimeWarning: invalid value encountered in double_scalars\n",
      "  ret = ret.dtype.type(ret / rcount)\n"
     ]
    },
    {
     "name": "stdout",
     "output_type": "stream",
     "text": [
      "Extracting amplitude features\n",
      "Creating dataframe\n",
      "Complete\n",
      "acc:  [0.612]\n",
      "Optimal H:  [1.29000000e+02 7.36826014e-02]\n",
      "Running Params: 129, 0.07368260144694684\n",
      "Normalizing amplitudes\n",
      "Truncating silences\n",
      "Truncating audio 100/500 (20%)\n",
      "Truncating audio 200/500 (40%)\n",
      "Truncating audio 300/500 (60%)\n",
      "Truncating audio 400/500 (80%)\n",
      "Truncating audio 500/500 (100%)\n",
      "Extracting pauses\n",
      "Extracting pause spreads\n"
     ]
    },
    {
     "name": "stderr",
     "output_type": "stream",
     "text": [
      "/home/ubuntu/.local/lib/python3.8/site-packages/numpy/core/_methods.py:265: RuntimeWarning: Degrees of freedom <= 0 for slice\n",
      "  ret = _var(a, axis=axis, dtype=dtype, out=out, ddof=ddof,\n",
      "/home/ubuntu/.local/lib/python3.8/site-packages/numpy/core/_methods.py:223: RuntimeWarning: invalid value encountered in divide\n",
      "  arrmean = um.true_divide(arrmean, div, out=arrmean, casting='unsafe',\n",
      "/home/ubuntu/.local/lib/python3.8/site-packages/numpy/core/_methods.py:257: RuntimeWarning: invalid value encountered in double_scalars\n",
      "  ret = ret.dtype.type(ret / rcount)\n",
      "/home/ubuntu/.local/lib/python3.8/site-packages/numpy/core/fromnumeric.py:3432: RuntimeWarning: Mean of empty slice.\n",
      "  return _methods._mean(a, axis=axis, dtype=dtype,\n",
      "/home/ubuntu/.local/lib/python3.8/site-packages/numpy/core/_methods.py:190: RuntimeWarning: invalid value encountered in double_scalars\n",
      "  ret = ret.dtype.type(ret / rcount)\n"
     ]
    },
    {
     "name": "stdout",
     "output_type": "stream",
     "text": [
      "Extracting amplitude features\n",
      "Creating dataframe\n",
      "Complete\n",
      "acc:  [0.62]\n",
      "Optimal H:  [3.71000000e+02 4.85363864e-02]\n",
      "Running Params: 371, 0.04853638644791913\n",
      "Normalizing amplitudes\n",
      "Truncating silences\n",
      "Truncating audio 100/500 (20%)\n",
      "Truncating audio 200/500 (40%)\n",
      "Truncating audio 300/500 (60%)\n",
      "Truncating audio 400/500 (80%)\n",
      "Truncating audio 500/500 (100%)\n",
      "Extracting pauses\n",
      "Extracting pause spreads\n"
     ]
    },
    {
     "name": "stderr",
     "output_type": "stream",
     "text": [
      "/home/ubuntu/.local/lib/python3.8/site-packages/numpy/core/_methods.py:265: RuntimeWarning: Degrees of freedom <= 0 for slice\n",
      "  ret = _var(a, axis=axis, dtype=dtype, out=out, ddof=ddof,\n",
      "/home/ubuntu/.local/lib/python3.8/site-packages/numpy/core/_methods.py:223: RuntimeWarning: invalid value encountered in divide\n",
      "  arrmean = um.true_divide(arrmean, div, out=arrmean, casting='unsafe',\n",
      "/home/ubuntu/.local/lib/python3.8/site-packages/numpy/core/_methods.py:257: RuntimeWarning: invalid value encountered in double_scalars\n",
      "  ret = ret.dtype.type(ret / rcount)\n",
      "/home/ubuntu/.local/lib/python3.8/site-packages/numpy/core/fromnumeric.py:3432: RuntimeWarning: Mean of empty slice.\n",
      "  return _methods._mean(a, axis=axis, dtype=dtype,\n",
      "/home/ubuntu/.local/lib/python3.8/site-packages/numpy/core/_methods.py:190: RuntimeWarning: invalid value encountered in double_scalars\n",
      "  ret = ret.dtype.type(ret / rcount)\n"
     ]
    },
    {
     "name": "stdout",
     "output_type": "stream",
     "text": [
      "Extracting amplitude features\n",
      "Creating dataframe\n",
      "Complete\n",
      "acc:  [0.634]\n",
      "Optimal H:  [3.69000000e+02 1.79201579e-02]\n",
      "Running Params: 369, 0.017920157895827675\n",
      "Normalizing amplitudes\n",
      "Truncating silences\n",
      "Truncating audio 100/500 (20%)\n",
      "Truncating audio 200/500 (40%)\n",
      "Truncating audio 300/500 (60%)\n",
      "Truncating audio 400/500 (80%)\n",
      "Truncating audio 500/500 (100%)\n",
      "Extracting pauses\n",
      "Extracting pause spreads\n"
     ]
    },
    {
     "name": "stderr",
     "output_type": "stream",
     "text": [
      "/home/ubuntu/.local/lib/python3.8/site-packages/numpy/core/_methods.py:265: RuntimeWarning: Degrees of freedom <= 0 for slice\n",
      "  ret = _var(a, axis=axis, dtype=dtype, out=out, ddof=ddof,\n",
      "/home/ubuntu/.local/lib/python3.8/site-packages/numpy/core/_methods.py:223: RuntimeWarning: invalid value encountered in divide\n",
      "  arrmean = um.true_divide(arrmean, div, out=arrmean, casting='unsafe',\n",
      "/home/ubuntu/.local/lib/python3.8/site-packages/numpy/core/_methods.py:257: RuntimeWarning: invalid value encountered in double_scalars\n",
      "  ret = ret.dtype.type(ret / rcount)\n",
      "/home/ubuntu/.local/lib/python3.8/site-packages/numpy/core/fromnumeric.py:3432: RuntimeWarning: Mean of empty slice.\n",
      "  return _methods._mean(a, axis=axis, dtype=dtype,\n",
      "/home/ubuntu/.local/lib/python3.8/site-packages/numpy/core/_methods.py:190: RuntimeWarning: invalid value encountered in double_scalars\n",
      "  ret = ret.dtype.type(ret / rcount)\n"
     ]
    },
    {
     "name": "stdout",
     "output_type": "stream",
     "text": [
      "Extracting amplitude features\n",
      "Creating dataframe\n",
      "Complete\n",
      "acc:  [0.632]\n",
      "Optimal H:  [2.75000000e+02 4.02526683e-02]\n",
      "Running Params: 275, 0.0402526683215155\n",
      "Normalizing amplitudes\n",
      "Truncating silences\n",
      "Truncating audio 100/500 (20%)\n",
      "Truncating audio 200/500 (40%)\n",
      "Truncating audio 300/500 (60%)\n",
      "Truncating audio 400/500 (80%)\n",
      "Truncating audio 500/500 (100%)\n",
      "Extracting pauses\n",
      "Extracting pause spreads\n"
     ]
    },
    {
     "name": "stderr",
     "output_type": "stream",
     "text": [
      "/home/ubuntu/.local/lib/python3.8/site-packages/numpy/core/_methods.py:265: RuntimeWarning: Degrees of freedom <= 0 for slice\n",
      "  ret = _var(a, axis=axis, dtype=dtype, out=out, ddof=ddof,\n",
      "/home/ubuntu/.local/lib/python3.8/site-packages/numpy/core/_methods.py:223: RuntimeWarning: invalid value encountered in divide\n",
      "  arrmean = um.true_divide(arrmean, div, out=arrmean, casting='unsafe',\n",
      "/home/ubuntu/.local/lib/python3.8/site-packages/numpy/core/_methods.py:257: RuntimeWarning: invalid value encountered in double_scalars\n",
      "  ret = ret.dtype.type(ret / rcount)\n",
      "/home/ubuntu/.local/lib/python3.8/site-packages/numpy/core/fromnumeric.py:3432: RuntimeWarning: Mean of empty slice.\n",
      "  return _methods._mean(a, axis=axis, dtype=dtype,\n",
      "/home/ubuntu/.local/lib/python3.8/site-packages/numpy/core/_methods.py:190: RuntimeWarning: invalid value encountered in double_scalars\n",
      "  ret = ret.dtype.type(ret / rcount)\n"
     ]
    },
    {
     "name": "stdout",
     "output_type": "stream",
     "text": [
      "Extracting amplitude features\n",
      "Creating dataframe\n",
      "Complete\n",
      "acc:  [0.654]\n",
      "Optimal H:  [2.73000000e+02 8.05979653e-02]\n",
      "Running Params: 273, 0.08059796528839741\n",
      "Normalizing amplitudes\n",
      "Truncating silences\n",
      "Truncating audio 100/500 (20%)\n",
      "Truncating audio 200/500 (40%)\n",
      "Truncating audio 300/500 (60%)\n",
      "Truncating audio 400/500 (80%)\n",
      "Truncating audio 500/500 (100%)\n",
      "Extracting pauses\n",
      "Extracting pause spreads\n"
     ]
    },
    {
     "name": "stderr",
     "output_type": "stream",
     "text": [
      "/home/ubuntu/.local/lib/python3.8/site-packages/numpy/core/_methods.py:265: RuntimeWarning: Degrees of freedom <= 0 for slice\n",
      "  ret = _var(a, axis=axis, dtype=dtype, out=out, ddof=ddof,\n",
      "/home/ubuntu/.local/lib/python3.8/site-packages/numpy/core/_methods.py:223: RuntimeWarning: invalid value encountered in divide\n",
      "  arrmean = um.true_divide(arrmean, div, out=arrmean, casting='unsafe',\n",
      "/home/ubuntu/.local/lib/python3.8/site-packages/numpy/core/_methods.py:257: RuntimeWarning: invalid value encountered in double_scalars\n",
      "  ret = ret.dtype.type(ret / rcount)\n",
      "/home/ubuntu/.local/lib/python3.8/site-packages/numpy/core/fromnumeric.py:3432: RuntimeWarning: Mean of empty slice.\n",
      "  return _methods._mean(a, axis=axis, dtype=dtype,\n",
      "/home/ubuntu/.local/lib/python3.8/site-packages/numpy/core/_methods.py:190: RuntimeWarning: invalid value encountered in double_scalars\n",
      "  ret = ret.dtype.type(ret / rcount)\n"
     ]
    },
    {
     "name": "stdout",
     "output_type": "stream",
     "text": [
      "Extracting amplitude features\n",
      "Creating dataframe\n",
      "Complete\n",
      "acc:  [0.642]\n",
      "Optimal H:  [3.21000000e+02 1.87069608e-02]\n",
      "Running Params: 321, 0.018706960800720256\n",
      "Normalizing amplitudes\n",
      "Truncating silences\n",
      "Truncating audio 100/500 (20%)\n",
      "Truncating audio 200/500 (40%)\n",
      "Truncating audio 300/500 (60%)\n",
      "Truncating audio 400/500 (80%)\n",
      "Truncating audio 500/500 (100%)\n",
      "Extracting pauses\n",
      "Extracting pause spreads\n"
     ]
    },
    {
     "name": "stderr",
     "output_type": "stream",
     "text": [
      "/home/ubuntu/.local/lib/python3.8/site-packages/numpy/core/_methods.py:265: RuntimeWarning: Degrees of freedom <= 0 for slice\n",
      "  ret = _var(a, axis=axis, dtype=dtype, out=out, ddof=ddof,\n",
      "/home/ubuntu/.local/lib/python3.8/site-packages/numpy/core/_methods.py:223: RuntimeWarning: invalid value encountered in divide\n",
      "  arrmean = um.true_divide(arrmean, div, out=arrmean, casting='unsafe',\n",
      "/home/ubuntu/.local/lib/python3.8/site-packages/numpy/core/_methods.py:257: RuntimeWarning: invalid value encountered in double_scalars\n",
      "  ret = ret.dtype.type(ret / rcount)\n",
      "/home/ubuntu/.local/lib/python3.8/site-packages/numpy/core/fromnumeric.py:3432: RuntimeWarning: Mean of empty slice.\n",
      "  return _methods._mean(a, axis=axis, dtype=dtype,\n",
      "/home/ubuntu/.local/lib/python3.8/site-packages/numpy/core/_methods.py:190: RuntimeWarning: invalid value encountered in double_scalars\n",
      "  ret = ret.dtype.type(ret / rcount)\n"
     ]
    },
    {
     "name": "stdout",
     "output_type": "stream",
     "text": [
      "Extracting amplitude features\n",
      "Creating dataframe\n",
      "Complete\n",
      "acc:  [0.626]\n",
      "Optimal H:  [5.02000000e+02 4.92018854e-02]\n",
      "Running Params: 502, 0.04920188543732496\n",
      "Normalizing amplitudes\n",
      "Truncating silences\n",
      "Truncating audio 100/500 (20%)\n",
      "Truncating audio 200/500 (40%)\n",
      "Truncating audio 300/500 (60%)\n",
      "Truncating audio 400/500 (80%)\n",
      "Truncating audio 500/500 (100%)\n",
      "Extracting pauses\n",
      "Extracting pause spreads\n"
     ]
    },
    {
     "name": "stderr",
     "output_type": "stream",
     "text": [
      "/home/ubuntu/.local/lib/python3.8/site-packages/numpy/core/_methods.py:265: RuntimeWarning: Degrees of freedom <= 0 for slice\n",
      "  ret = _var(a, axis=axis, dtype=dtype, out=out, ddof=ddof,\n",
      "/home/ubuntu/.local/lib/python3.8/site-packages/numpy/core/_methods.py:223: RuntimeWarning: invalid value encountered in divide\n",
      "  arrmean = um.true_divide(arrmean, div, out=arrmean, casting='unsafe',\n",
      "/home/ubuntu/.local/lib/python3.8/site-packages/numpy/core/_methods.py:257: RuntimeWarning: invalid value encountered in double_scalars\n",
      "  ret = ret.dtype.type(ret / rcount)\n",
      "/home/ubuntu/.local/lib/python3.8/site-packages/numpy/core/fromnumeric.py:3432: RuntimeWarning: Mean of empty slice.\n",
      "  return _methods._mean(a, axis=axis, dtype=dtype,\n",
      "/home/ubuntu/.local/lib/python3.8/site-packages/numpy/core/_methods.py:190: RuntimeWarning: invalid value encountered in double_scalars\n",
      "  ret = ret.dtype.type(ret / rcount)\n"
     ]
    },
    {
     "name": "stdout",
     "output_type": "stream",
     "text": [
      "Extracting amplitude features\n",
      "Creating dataframe\n",
      "Complete\n",
      "acc:  [0.608]\n",
      "Optimal H:  [2.75e+02 5.00e-03]\n",
      "Running Params: 275, 0.005\n",
      "Normalizing amplitudes\n",
      "Truncating silences\n",
      "Truncating audio 100/500 (20%)\n",
      "Truncating audio 200/500 (40%)\n",
      "Truncating audio 300/500 (60%)\n",
      "Truncating audio 400/500 (80%)\n",
      "Truncating audio 500/500 (100%)\n",
      "Extracting pauses\n",
      "Extracting pause spreads\n"
     ]
    },
    {
     "name": "stderr",
     "output_type": "stream",
     "text": [
      "/home/ubuntu/.local/lib/python3.8/site-packages/numpy/core/_methods.py:265: RuntimeWarning: Degrees of freedom <= 0 for slice\n",
      "  ret = _var(a, axis=axis, dtype=dtype, out=out, ddof=ddof,\n",
      "/home/ubuntu/.local/lib/python3.8/site-packages/numpy/core/_methods.py:223: RuntimeWarning: invalid value encountered in divide\n",
      "  arrmean = um.true_divide(arrmean, div, out=arrmean, casting='unsafe',\n",
      "/home/ubuntu/.local/lib/python3.8/site-packages/numpy/core/_methods.py:257: RuntimeWarning: invalid value encountered in double_scalars\n",
      "  ret = ret.dtype.type(ret / rcount)\n",
      "/home/ubuntu/.local/lib/python3.8/site-packages/numpy/core/fromnumeric.py:3432: RuntimeWarning: Mean of empty slice.\n",
      "  return _methods._mean(a, axis=axis, dtype=dtype,\n",
      "/home/ubuntu/.local/lib/python3.8/site-packages/numpy/core/_methods.py:190: RuntimeWarning: invalid value encountered in double_scalars\n",
      "  ret = ret.dtype.type(ret / rcount)\n"
     ]
    },
    {
     "name": "stdout",
     "output_type": "stream",
     "text": [
      "Extracting amplitude features\n",
      "Creating dataframe\n",
      "Complete\n",
      "acc:  [0.616]\n",
      "Optimal H:  [4.54000000e+02 7.28085101e-02]\n",
      "Running Params: 454, 0.07280851013805793\n",
      "Normalizing amplitudes\n",
      "Truncating silences\n",
      "Truncating audio 100/500 (20%)\n",
      "Truncating audio 200/500 (40%)\n",
      "Truncating audio 300/500 (60%)\n",
      "Truncating audio 400/500 (80%)\n",
      "Truncating audio 500/500 (100%)\n",
      "Extracting pauses\n",
      "Extracting pause spreads\n"
     ]
    },
    {
     "name": "stderr",
     "output_type": "stream",
     "text": [
      "/home/ubuntu/.local/lib/python3.8/site-packages/numpy/core/_methods.py:265: RuntimeWarning: Degrees of freedom <= 0 for slice\n",
      "  ret = _var(a, axis=axis, dtype=dtype, out=out, ddof=ddof,\n",
      "/home/ubuntu/.local/lib/python3.8/site-packages/numpy/core/_methods.py:223: RuntimeWarning: invalid value encountered in divide\n",
      "  arrmean = um.true_divide(arrmean, div, out=arrmean, casting='unsafe',\n",
      "/home/ubuntu/.local/lib/python3.8/site-packages/numpy/core/_methods.py:257: RuntimeWarning: invalid value encountered in double_scalars\n",
      "  ret = ret.dtype.type(ret / rcount)\n",
      "/home/ubuntu/.local/lib/python3.8/site-packages/numpy/core/fromnumeric.py:3432: RuntimeWarning: Mean of empty slice.\n",
      "  return _methods._mean(a, axis=axis, dtype=dtype,\n",
      "/home/ubuntu/.local/lib/python3.8/site-packages/numpy/core/_methods.py:190: RuntimeWarning: invalid value encountered in double_scalars\n",
      "  ret = ret.dtype.type(ret / rcount)\n"
     ]
    },
    {
     "name": "stdout",
     "output_type": "stream",
     "text": [
      "Extracting amplitude features\n",
      "Creating dataframe\n",
      "Complete\n",
      "acc:  [0.622]\n",
      "Optimal H:  [1.72000000e+02 6.25298294e-02]\n",
      "Running Params: 172, 0.06252982937129527\n",
      "Normalizing amplitudes\n",
      "Truncating silences\n",
      "Truncating audio 100/500 (20%)\n",
      "Truncating audio 200/500 (40%)\n",
      "Truncating audio 300/500 (60%)\n",
      "Truncating audio 400/500 (80%)\n",
      "Truncating audio 500/500 (100%)\n",
      "Extracting pauses\n",
      "Extracting pause spreads\n"
     ]
    },
    {
     "name": "stderr",
     "output_type": "stream",
     "text": [
      "/home/ubuntu/.local/lib/python3.8/site-packages/numpy/core/_methods.py:265: RuntimeWarning: Degrees of freedom <= 0 for slice\n",
      "  ret = _var(a, axis=axis, dtype=dtype, out=out, ddof=ddof,\n",
      "/home/ubuntu/.local/lib/python3.8/site-packages/numpy/core/_methods.py:223: RuntimeWarning: invalid value encountered in divide\n",
      "  arrmean = um.true_divide(arrmean, div, out=arrmean, casting='unsafe',\n",
      "/home/ubuntu/.local/lib/python3.8/site-packages/numpy/core/_methods.py:257: RuntimeWarning: invalid value encountered in double_scalars\n",
      "  ret = ret.dtype.type(ret / rcount)\n",
      "/home/ubuntu/.local/lib/python3.8/site-packages/numpy/core/fromnumeric.py:3432: RuntimeWarning: Mean of empty slice.\n",
      "  return _methods._mean(a, axis=axis, dtype=dtype,\n",
      "/home/ubuntu/.local/lib/python3.8/site-packages/numpy/core/_methods.py:190: RuntimeWarning: invalid value encountered in double_scalars\n",
      "  ret = ret.dtype.type(ret / rcount)\n"
     ]
    },
    {
     "name": "stdout",
     "output_type": "stream",
     "text": [
      "Extracting amplitude features\n",
      "Creating dataframe\n",
      "Complete\n",
      "acc:  [0.616]\n",
      "Optimal H:  [3.51000000e+02 9.22781454e-02]\n",
      "Running Params: 351, 0.09227814539365706\n",
      "Normalizing amplitudes\n",
      "Truncating silences\n",
      "Truncating audio 100/500 (20%)\n",
      "Truncating audio 200/500 (40%)\n",
      "Truncating audio 300/500 (60%)\n",
      "Truncating audio 400/500 (80%)\n",
      "Truncating audio 500/500 (100%)\n",
      "Extracting pauses\n",
      "Extracting pause spreads\n"
     ]
    },
    {
     "name": "stderr",
     "output_type": "stream",
     "text": [
      "/home/ubuntu/.local/lib/python3.8/site-packages/numpy/core/_methods.py:265: RuntimeWarning: Degrees of freedom <= 0 for slice\n",
      "  ret = _var(a, axis=axis, dtype=dtype, out=out, ddof=ddof,\n",
      "/home/ubuntu/.local/lib/python3.8/site-packages/numpy/core/_methods.py:223: RuntimeWarning: invalid value encountered in divide\n",
      "  arrmean = um.true_divide(arrmean, div, out=arrmean, casting='unsafe',\n",
      "/home/ubuntu/.local/lib/python3.8/site-packages/numpy/core/_methods.py:257: RuntimeWarning: invalid value encountered in double_scalars\n",
      "  ret = ret.dtype.type(ret / rcount)\n",
      "/home/ubuntu/.local/lib/python3.8/site-packages/numpy/core/fromnumeric.py:3432: RuntimeWarning: Mean of empty slice.\n",
      "  return _methods._mean(a, axis=axis, dtype=dtype,\n",
      "/home/ubuntu/.local/lib/python3.8/site-packages/numpy/core/_methods.py:190: RuntimeWarning: invalid value encountered in double_scalars\n",
      "  ret = ret.dtype.type(ret / rcount)\n"
     ]
    },
    {
     "name": "stdout",
     "output_type": "stream",
     "text": [
      "Extracting amplitude features\n",
      "Creating dataframe\n",
      "Complete\n",
      "acc:  [0.594]\n",
      "Optimal H:  [2.43e+02 5.00e-03]\n",
      "Running Params: 243, 0.005\n",
      "Normalizing amplitudes\n",
      "Truncating silences\n",
      "Truncating audio 100/500 (20%)\n",
      "Truncating audio 200/500 (40%)\n",
      "Truncating audio 300/500 (60%)\n",
      "Truncating audio 400/500 (80%)\n",
      "Truncating audio 500/500 (100%)\n",
      "Extracting pauses\n",
      "Extracting pause spreads\n"
     ]
    },
    {
     "name": "stderr",
     "output_type": "stream",
     "text": [
      "/home/ubuntu/.local/lib/python3.8/site-packages/numpy/core/_methods.py:265: RuntimeWarning: Degrees of freedom <= 0 for slice\n",
      "  ret = _var(a, axis=axis, dtype=dtype, out=out, ddof=ddof,\n",
      "/home/ubuntu/.local/lib/python3.8/site-packages/numpy/core/_methods.py:223: RuntimeWarning: invalid value encountered in divide\n",
      "  arrmean = um.true_divide(arrmean, div, out=arrmean, casting='unsafe',\n",
      "/home/ubuntu/.local/lib/python3.8/site-packages/numpy/core/_methods.py:257: RuntimeWarning: invalid value encountered in double_scalars\n",
      "  ret = ret.dtype.type(ret / rcount)\n",
      "/home/ubuntu/.local/lib/python3.8/site-packages/numpy/core/fromnumeric.py:3432: RuntimeWarning: Mean of empty slice.\n",
      "  return _methods._mean(a, axis=axis, dtype=dtype,\n",
      "/home/ubuntu/.local/lib/python3.8/site-packages/numpy/core/_methods.py:190: RuntimeWarning: invalid value encountered in double_scalars\n",
      "  ret = ret.dtype.type(ret / rcount)\n"
     ]
    },
    {
     "name": "stdout",
     "output_type": "stream",
     "text": [
      "Extracting amplitude features\n",
      "Creating dataframe\n",
      "Complete\n",
      "acc:  [0.592]\n",
      "Optimal H:  [4.30000000e+02 1.15780331e-01]\n",
      "Running Params: 430, 0.11578033106699097\n",
      "Normalizing amplitudes\n",
      "Truncating silences\n",
      "Truncating audio 100/500 (20%)\n",
      "Truncating audio 200/500 (40%)\n",
      "Truncating audio 300/500 (60%)\n",
      "Truncating audio 400/500 (80%)\n",
      "Truncating audio 500/500 (100%)\n",
      "Extracting pauses\n",
      "Extracting pause spreads\n"
     ]
    },
    {
     "name": "stderr",
     "output_type": "stream",
     "text": [
      "/home/ubuntu/.local/lib/python3.8/site-packages/numpy/core/_methods.py:265: RuntimeWarning: Degrees of freedom <= 0 for slice\n",
      "  ret = _var(a, axis=axis, dtype=dtype, out=out, ddof=ddof,\n",
      "/home/ubuntu/.local/lib/python3.8/site-packages/numpy/core/_methods.py:223: RuntimeWarning: invalid value encountered in divide\n",
      "  arrmean = um.true_divide(arrmean, div, out=arrmean, casting='unsafe',\n",
      "/home/ubuntu/.local/lib/python3.8/site-packages/numpy/core/_methods.py:257: RuntimeWarning: invalid value encountered in double_scalars\n",
      "  ret = ret.dtype.type(ret / rcount)\n",
      "/home/ubuntu/.local/lib/python3.8/site-packages/numpy/core/fromnumeric.py:3432: RuntimeWarning: Mean of empty slice.\n",
      "  return _methods._mean(a, axis=axis, dtype=dtype,\n",
      "/home/ubuntu/.local/lib/python3.8/site-packages/numpy/core/_methods.py:190: RuntimeWarning: invalid value encountered in double_scalars\n",
      "  ret = ret.dtype.type(ret / rcount)\n"
     ]
    },
    {
     "name": "stdout",
     "output_type": "stream",
     "text": [
      "Extracting amplitude features\n",
      "Creating dataframe\n",
      "Complete\n",
      "acc:  [0.652]\n",
      "Optimal H:  [2.35000000e+02 7.38553629e-02]\n",
      "Running Params: 235, 0.07385536293930725\n",
      "Normalizing amplitudes\n",
      "Truncating silences\n",
      "Truncating audio 100/500 (20%)\n",
      "Truncating audio 200/500 (40%)\n",
      "Truncating audio 300/500 (60%)\n",
      "Truncating audio 400/500 (80%)\n",
      "Truncating audio 500/500 (100%)\n",
      "Extracting pauses\n",
      "Extracting pause spreads\n"
     ]
    },
    {
     "name": "stderr",
     "output_type": "stream",
     "text": [
      "/home/ubuntu/.local/lib/python3.8/site-packages/numpy/core/_methods.py:265: RuntimeWarning: Degrees of freedom <= 0 for slice\n",
      "  ret = _var(a, axis=axis, dtype=dtype, out=out, ddof=ddof,\n",
      "/home/ubuntu/.local/lib/python3.8/site-packages/numpy/core/_methods.py:223: RuntimeWarning: invalid value encountered in divide\n",
      "  arrmean = um.true_divide(arrmean, div, out=arrmean, casting='unsafe',\n",
      "/home/ubuntu/.local/lib/python3.8/site-packages/numpy/core/_methods.py:257: RuntimeWarning: invalid value encountered in double_scalars\n",
      "  ret = ret.dtype.type(ret / rcount)\n",
      "/home/ubuntu/.local/lib/python3.8/site-packages/numpy/core/fromnumeric.py:3432: RuntimeWarning: Mean of empty slice.\n",
      "  return _methods._mean(a, axis=axis, dtype=dtype,\n",
      "/home/ubuntu/.local/lib/python3.8/site-packages/numpy/core/_methods.py:190: RuntimeWarning: invalid value encountered in double_scalars\n",
      "  ret = ret.dtype.type(ret / rcount)\n"
     ]
    },
    {
     "name": "stdout",
     "output_type": "stream",
     "text": [
      "Extracting amplitude features\n",
      "Creating dataframe\n",
      "Complete\n",
      "acc:  [0.6]\n",
      "Optimal H:  [3.45000000e+02 1.36668729e-02]\n",
      "Running Params: 345, 0.013666872909224956\n",
      "Normalizing amplitudes\n",
      "Truncating silences\n",
      "Truncating audio 100/500 (20%)\n",
      "Truncating audio 200/500 (40%)\n",
      "Truncating audio 300/500 (60%)\n",
      "Truncating audio 400/500 (80%)\n",
      "Truncating audio 500/500 (100%)\n",
      "Extracting pauses\n",
      "Extracting pause spreads\n"
     ]
    },
    {
     "name": "stderr",
     "output_type": "stream",
     "text": [
      "/home/ubuntu/.local/lib/python3.8/site-packages/numpy/core/_methods.py:265: RuntimeWarning: Degrees of freedom <= 0 for slice\n",
      "  ret = _var(a, axis=axis, dtype=dtype, out=out, ddof=ddof,\n",
      "/home/ubuntu/.local/lib/python3.8/site-packages/numpy/core/_methods.py:223: RuntimeWarning: invalid value encountered in divide\n",
      "  arrmean = um.true_divide(arrmean, div, out=arrmean, casting='unsafe',\n",
      "/home/ubuntu/.local/lib/python3.8/site-packages/numpy/core/_methods.py:257: RuntimeWarning: invalid value encountered in double_scalars\n",
      "  ret = ret.dtype.type(ret / rcount)\n",
      "/home/ubuntu/.local/lib/python3.8/site-packages/numpy/core/fromnumeric.py:3432: RuntimeWarning: Mean of empty slice.\n",
      "  return _methods._mean(a, axis=axis, dtype=dtype,\n",
      "/home/ubuntu/.local/lib/python3.8/site-packages/numpy/core/_methods.py:190: RuntimeWarning: invalid value encountered in double_scalars\n",
      "  ret = ret.dtype.type(ret / rcount)\n"
     ]
    },
    {
     "name": "stdout",
     "output_type": "stream",
     "text": [
      "Extracting amplitude features\n",
      "Creating dataframe\n",
      "Complete\n",
      "acc:  [0.678]\n",
      "Optimal H:  [1.99e+02 5.00e-03]\n",
      "Running Params: 199, 0.005\n",
      "Normalizing amplitudes\n",
      "Truncating silences\n",
      "Truncating audio 100/500 (20%)\n",
      "Truncating audio 200/500 (40%)\n",
      "Truncating audio 300/500 (60%)\n",
      "Truncating audio 400/500 (80%)\n",
      "Truncating audio 500/500 (100%)\n",
      "Extracting pauses\n",
      "Extracting pause spreads\n"
     ]
    },
    {
     "name": "stderr",
     "output_type": "stream",
     "text": [
      "/home/ubuntu/.local/lib/python3.8/site-packages/numpy/core/_methods.py:265: RuntimeWarning: Degrees of freedom <= 0 for slice\n",
      "  ret = _var(a, axis=axis, dtype=dtype, out=out, ddof=ddof,\n",
      "/home/ubuntu/.local/lib/python3.8/site-packages/numpy/core/_methods.py:223: RuntimeWarning: invalid value encountered in divide\n",
      "  arrmean = um.true_divide(arrmean, div, out=arrmean, casting='unsafe',\n",
      "/home/ubuntu/.local/lib/python3.8/site-packages/numpy/core/_methods.py:257: RuntimeWarning: invalid value encountered in double_scalars\n",
      "  ret = ret.dtype.type(ret / rcount)\n",
      "/home/ubuntu/.local/lib/python3.8/site-packages/numpy/core/fromnumeric.py:3432: RuntimeWarning: Mean of empty slice.\n",
      "  return _methods._mean(a, axis=axis, dtype=dtype,\n",
      "/home/ubuntu/.local/lib/python3.8/site-packages/numpy/core/_methods.py:190: RuntimeWarning: invalid value encountered in double_scalars\n",
      "  ret = ret.dtype.type(ret / rcount)\n"
     ]
    },
    {
     "name": "stdout",
     "output_type": "stream",
     "text": [
      "Extracting amplitude features\n",
      "Creating dataframe\n",
      "Complete\n",
      "acc:  [0.626]\n",
      "Optimal H:  [3.28000000e+02 8.98870286e-02]\n",
      "Running Params: 328, 0.08988702864698203\n",
      "Normalizing amplitudes\n",
      "Truncating silences\n",
      "Truncating audio 100/500 (20%)\n",
      "Truncating audio 200/500 (40%)\n",
      "Truncating audio 300/500 (60%)\n",
      "Truncating audio 400/500 (80%)\n",
      "Truncating audio 500/500 (100%)\n",
      "Extracting pauses\n",
      "Extracting pause spreads\n"
     ]
    },
    {
     "name": "stderr",
     "output_type": "stream",
     "text": [
      "/home/ubuntu/.local/lib/python3.8/site-packages/numpy/core/_methods.py:265: RuntimeWarning: Degrees of freedom <= 0 for slice\n",
      "  ret = _var(a, axis=axis, dtype=dtype, out=out, ddof=ddof,\n",
      "/home/ubuntu/.local/lib/python3.8/site-packages/numpy/core/_methods.py:223: RuntimeWarning: invalid value encountered in divide\n",
      "  arrmean = um.true_divide(arrmean, div, out=arrmean, casting='unsafe',\n",
      "/home/ubuntu/.local/lib/python3.8/site-packages/numpy/core/_methods.py:257: RuntimeWarning: invalid value encountered in double_scalars\n",
      "  ret = ret.dtype.type(ret / rcount)\n",
      "/home/ubuntu/.local/lib/python3.8/site-packages/numpy/core/fromnumeric.py:3432: RuntimeWarning: Mean of empty slice.\n",
      "  return _methods._mean(a, axis=axis, dtype=dtype,\n",
      "/home/ubuntu/.local/lib/python3.8/site-packages/numpy/core/_methods.py:190: RuntimeWarning: invalid value encountered in double_scalars\n",
      "  ret = ret.dtype.type(ret / rcount)\n"
     ]
    },
    {
     "name": "stdout",
     "output_type": "stream",
     "text": [
      "Extracting amplitude features\n",
      "Creating dataframe\n",
      "Complete\n",
      "acc:  [0.63]\n",
      "Optimal H:  [4.07000000e+02 8.16399855e-02]\n",
      "Running Params: 407, 0.08163998550107573\n",
      "Normalizing amplitudes\n",
      "Truncating silences\n",
      "Truncating audio 100/500 (20%)\n",
      "Truncating audio 200/500 (40%)\n",
      "Truncating audio 300/500 (60%)\n",
      "Truncating audio 400/500 (80%)\n",
      "Truncating audio 500/500 (100%)\n",
      "Extracting pauses\n",
      "Extracting pause spreads\n"
     ]
    },
    {
     "name": "stderr",
     "output_type": "stream",
     "text": [
      "/home/ubuntu/.local/lib/python3.8/site-packages/numpy/core/_methods.py:265: RuntimeWarning: Degrees of freedom <= 0 for slice\n",
      "  ret = _var(a, axis=axis, dtype=dtype, out=out, ddof=ddof,\n",
      "/home/ubuntu/.local/lib/python3.8/site-packages/numpy/core/_methods.py:223: RuntimeWarning: invalid value encountered in divide\n",
      "  arrmean = um.true_divide(arrmean, div, out=arrmean, casting='unsafe',\n",
      "/home/ubuntu/.local/lib/python3.8/site-packages/numpy/core/_methods.py:257: RuntimeWarning: invalid value encountered in double_scalars\n",
      "  ret = ret.dtype.type(ret / rcount)\n",
      "/home/ubuntu/.local/lib/python3.8/site-packages/numpy/core/fromnumeric.py:3432: RuntimeWarning: Mean of empty slice.\n",
      "  return _methods._mean(a, axis=axis, dtype=dtype,\n",
      "/home/ubuntu/.local/lib/python3.8/site-packages/numpy/core/_methods.py:190: RuntimeWarning: invalid value encountered in double_scalars\n",
      "  ret = ret.dtype.type(ret / rcount)\n"
     ]
    },
    {
     "name": "stdout",
     "output_type": "stream",
     "text": [
      "Extracting amplitude features\n",
      "Creating dataframe\n",
      "Complete\n",
      "acc:  [0.674]\n",
      "Optimal H:  [1.93e+02 5.00e-03]\n",
      "Running Params: 193, 0.005\n",
      "Normalizing amplitudes\n",
      "Truncating silences\n",
      "Truncating audio 100/500 (20%)\n",
      "Truncating audio 200/500 (40%)\n",
      "Truncating audio 300/500 (60%)\n",
      "Truncating audio 400/500 (80%)\n",
      "Truncating audio 500/500 (100%)\n",
      "Extracting pauses\n",
      "Extracting pause spreads\n"
     ]
    },
    {
     "name": "stderr",
     "output_type": "stream",
     "text": [
      "/home/ubuntu/.local/lib/python3.8/site-packages/numpy/core/_methods.py:265: RuntimeWarning: Degrees of freedom <= 0 for slice\n",
      "  ret = _var(a, axis=axis, dtype=dtype, out=out, ddof=ddof,\n",
      "/home/ubuntu/.local/lib/python3.8/site-packages/numpy/core/_methods.py:223: RuntimeWarning: invalid value encountered in divide\n",
      "  arrmean = um.true_divide(arrmean, div, out=arrmean, casting='unsafe',\n",
      "/home/ubuntu/.local/lib/python3.8/site-packages/numpy/core/_methods.py:257: RuntimeWarning: invalid value encountered in double_scalars\n",
      "  ret = ret.dtype.type(ret / rcount)\n",
      "/home/ubuntu/.local/lib/python3.8/site-packages/numpy/core/fromnumeric.py:3432: RuntimeWarning: Mean of empty slice.\n",
      "  return _methods._mean(a, axis=axis, dtype=dtype,\n",
      "/home/ubuntu/.local/lib/python3.8/site-packages/numpy/core/_methods.py:190: RuntimeWarning: invalid value encountered in double_scalars\n",
      "  ret = ret.dtype.type(ret / rcount)\n"
     ]
    },
    {
     "name": "stdout",
     "output_type": "stream",
     "text": [
      "Extracting amplitude features\n",
      "Creating dataframe\n",
      "Complete\n",
      "acc:  [0.626]\n",
      "Optimal H:  [2.81000000e+02 6.98936653e-03]\n",
      "Running Params: 281, 0.006989366528161928\n",
      "Normalizing amplitudes\n",
      "Truncating silences\n",
      "Truncating audio 100/500 (20%)\n",
      "Truncating audio 200/500 (40%)\n",
      "Truncating audio 300/500 (60%)\n",
      "Truncating audio 400/500 (80%)\n",
      "Truncating audio 500/500 (100%)\n",
      "Extracting pauses\n",
      "Extracting pause spreads\n"
     ]
    },
    {
     "name": "stderr",
     "output_type": "stream",
     "text": [
      "/home/ubuntu/.local/lib/python3.8/site-packages/numpy/core/_methods.py:265: RuntimeWarning: Degrees of freedom <= 0 for slice\n",
      "  ret = _var(a, axis=axis, dtype=dtype, out=out, ddof=ddof,\n",
      "/home/ubuntu/.local/lib/python3.8/site-packages/numpy/core/_methods.py:223: RuntimeWarning: invalid value encountered in divide\n",
      "  arrmean = um.true_divide(arrmean, div, out=arrmean, casting='unsafe',\n",
      "/home/ubuntu/.local/lib/python3.8/site-packages/numpy/core/_methods.py:257: RuntimeWarning: invalid value encountered in double_scalars\n",
      "  ret = ret.dtype.type(ret / rcount)\n",
      "/home/ubuntu/.local/lib/python3.8/site-packages/numpy/core/fromnumeric.py:3432: RuntimeWarning: Mean of empty slice.\n",
      "  return _methods._mean(a, axis=axis, dtype=dtype,\n",
      "/home/ubuntu/.local/lib/python3.8/site-packages/numpy/core/_methods.py:190: RuntimeWarning: invalid value encountered in double_scalars\n",
      "  ret = ret.dtype.type(ret / rcount)\n"
     ]
    },
    {
     "name": "stdout",
     "output_type": "stream",
     "text": [
      "Extracting amplitude features\n",
      "Creating dataframe\n",
      "Complete\n",
      "acc:  [0.636]\n",
      "Optimal H:  [3.e+02 5.e-03]\n",
      "Running Params: 300, 0.005\n",
      "Normalizing amplitudes\n",
      "Truncating silences\n",
      "Truncating audio 100/500 (20%)\n",
      "Truncating audio 200/500 (40%)\n",
      "Truncating audio 300/500 (60%)\n",
      "Truncating audio 400/500 (80%)\n",
      "Truncating audio 500/500 (100%)\n",
      "Extracting pauses\n",
      "Extracting pause spreads\n"
     ]
    },
    {
     "name": "stderr",
     "output_type": "stream",
     "text": [
      "/home/ubuntu/.local/lib/python3.8/site-packages/numpy/core/_methods.py:265: RuntimeWarning: Degrees of freedom <= 0 for slice\n",
      "  ret = _var(a, axis=axis, dtype=dtype, out=out, ddof=ddof,\n",
      "/home/ubuntu/.local/lib/python3.8/site-packages/numpy/core/_methods.py:223: RuntimeWarning: invalid value encountered in divide\n",
      "  arrmean = um.true_divide(arrmean, div, out=arrmean, casting='unsafe',\n",
      "/home/ubuntu/.local/lib/python3.8/site-packages/numpy/core/_methods.py:257: RuntimeWarning: invalid value encountered in double_scalars\n",
      "  ret = ret.dtype.type(ret / rcount)\n",
      "/home/ubuntu/.local/lib/python3.8/site-packages/numpy/core/fromnumeric.py:3432: RuntimeWarning: Mean of empty slice.\n",
      "  return _methods._mean(a, axis=axis, dtype=dtype,\n",
      "/home/ubuntu/.local/lib/python3.8/site-packages/numpy/core/_methods.py:190: RuntimeWarning: invalid value encountered in double_scalars\n",
      "  ret = ret.dtype.type(ret / rcount)\n"
     ]
    },
    {
     "name": "stdout",
     "output_type": "stream",
     "text": [
      "Extracting amplitude features\n",
      "Creating dataframe\n",
      "Complete\n",
      "acc:  [0.644]\n",
      "Optimal H:  [2.77000000e+02 6.54250148e-02]\n",
      "Running Params: 277, 0.06542501477080008\n",
      "Normalizing amplitudes\n",
      "Truncating silences\n",
      "Truncating audio 100/500 (20%)\n",
      "Truncating audio 200/500 (40%)\n",
      "Truncating audio 300/500 (60%)\n",
      "Truncating audio 400/500 (80%)\n",
      "Truncating audio 500/500 (100%)\n",
      "Extracting pauses\n",
      "Extracting pause spreads\n"
     ]
    },
    {
     "name": "stderr",
     "output_type": "stream",
     "text": [
      "/home/ubuntu/.local/lib/python3.8/site-packages/numpy/core/_methods.py:265: RuntimeWarning: Degrees of freedom <= 0 for slice\n",
      "  ret = _var(a, axis=axis, dtype=dtype, out=out, ddof=ddof,\n",
      "/home/ubuntu/.local/lib/python3.8/site-packages/numpy/core/_methods.py:223: RuntimeWarning: invalid value encountered in divide\n",
      "  arrmean = um.true_divide(arrmean, div, out=arrmean, casting='unsafe',\n",
      "/home/ubuntu/.local/lib/python3.8/site-packages/numpy/core/_methods.py:257: RuntimeWarning: invalid value encountered in double_scalars\n",
      "  ret = ret.dtype.type(ret / rcount)\n",
      "/home/ubuntu/.local/lib/python3.8/site-packages/numpy/core/fromnumeric.py:3432: RuntimeWarning: Mean of empty slice.\n",
      "  return _methods._mean(a, axis=axis, dtype=dtype,\n",
      "/home/ubuntu/.local/lib/python3.8/site-packages/numpy/core/_methods.py:190: RuntimeWarning: invalid value encountered in double_scalars\n",
      "  ret = ret.dtype.type(ret / rcount)\n"
     ]
    },
    {
     "name": "stdout",
     "output_type": "stream",
     "text": [
      "Extracting amplitude features\n",
      "Creating dataframe\n",
      "Complete\n",
      "acc:  [0.618]\n",
      "Optimal H:  [2.75000000e+02 6.13594599e-02]\n",
      "Running Params: 275, 0.06135945986661758\n",
      "Normalizing amplitudes\n",
      "Truncating silences\n",
      "Truncating audio 100/500 (20%)\n",
      "Truncating audio 200/500 (40%)\n",
      "Truncating audio 300/500 (60%)\n",
      "Truncating audio 400/500 (80%)\n",
      "Truncating audio 500/500 (100%)\n",
      "Extracting pauses\n",
      "Extracting pause spreads\n"
     ]
    },
    {
     "name": "stderr",
     "output_type": "stream",
     "text": [
      "/home/ubuntu/.local/lib/python3.8/site-packages/numpy/core/_methods.py:265: RuntimeWarning: Degrees of freedom <= 0 for slice\n",
      "  ret = _var(a, axis=axis, dtype=dtype, out=out, ddof=ddof,\n",
      "/home/ubuntu/.local/lib/python3.8/site-packages/numpy/core/_methods.py:223: RuntimeWarning: invalid value encountered in divide\n",
      "  arrmean = um.true_divide(arrmean, div, out=arrmean, casting='unsafe',\n",
      "/home/ubuntu/.local/lib/python3.8/site-packages/numpy/core/_methods.py:257: RuntimeWarning: invalid value encountered in double_scalars\n",
      "  ret = ret.dtype.type(ret / rcount)\n",
      "/home/ubuntu/.local/lib/python3.8/site-packages/numpy/core/fromnumeric.py:3432: RuntimeWarning: Mean of empty slice.\n",
      "  return _methods._mean(a, axis=axis, dtype=dtype,\n",
      "/home/ubuntu/.local/lib/python3.8/site-packages/numpy/core/_methods.py:190: RuntimeWarning: invalid value encountered in double_scalars\n",
      "  ret = ret.dtype.type(ret / rcount)\n"
     ]
    },
    {
     "name": "stdout",
     "output_type": "stream",
     "text": [
      "Extracting amplitude features\n",
      "Creating dataframe\n",
      "Complete\n",
      "acc:  [0.64]\n",
      "Optimal H:  [2.76000000e+02 4.73063617e-02]\n",
      "Running Params: 276, 0.047306361680379876\n",
      "Normalizing amplitudes\n",
      "Truncating silences\n",
      "Truncating audio 100/500 (20%)\n",
      "Truncating audio 200/500 (40%)\n",
      "Truncating audio 300/500 (60%)\n",
      "Truncating audio 400/500 (80%)\n",
      "Truncating audio 500/500 (100%)\n",
      "Extracting pauses\n",
      "Extracting pause spreads\n"
     ]
    },
    {
     "name": "stderr",
     "output_type": "stream",
     "text": [
      "/home/ubuntu/.local/lib/python3.8/site-packages/numpy/core/_methods.py:265: RuntimeWarning: Degrees of freedom <= 0 for slice\n",
      "  ret = _var(a, axis=axis, dtype=dtype, out=out, ddof=ddof,\n",
      "/home/ubuntu/.local/lib/python3.8/site-packages/numpy/core/_methods.py:223: RuntimeWarning: invalid value encountered in divide\n",
      "  arrmean = um.true_divide(arrmean, div, out=arrmean, casting='unsafe',\n",
      "/home/ubuntu/.local/lib/python3.8/site-packages/numpy/core/_methods.py:257: RuntimeWarning: invalid value encountered in double_scalars\n",
      "  ret = ret.dtype.type(ret / rcount)\n",
      "/home/ubuntu/.local/lib/python3.8/site-packages/numpy/core/fromnumeric.py:3432: RuntimeWarning: Mean of empty slice.\n",
      "  return _methods._mean(a, axis=axis, dtype=dtype,\n",
      "/home/ubuntu/.local/lib/python3.8/site-packages/numpy/core/_methods.py:190: RuntimeWarning: invalid value encountered in double_scalars\n",
      "  ret = ret.dtype.type(ret / rcount)\n"
     ]
    },
    {
     "name": "stdout",
     "output_type": "stream",
     "text": [
      "Extracting amplitude features\n",
      "Creating dataframe\n",
      "Complete\n",
      "acc:  [0.626]\n",
      "Optimal H:  [1.83000000e+02 2.17295606e-02]\n",
      "Running Params: 183, 0.021729560648119758\n",
      "Normalizing amplitudes\n",
      "Truncating silences\n",
      "Truncating audio 100/500 (20%)\n",
      "Truncating audio 200/500 (40%)\n",
      "Truncating audio 300/500 (60%)\n",
      "Truncating audio 400/500 (80%)\n",
      "Truncating audio 500/500 (100%)\n",
      "Extracting pauses\n",
      "Extracting pause spreads\n"
     ]
    },
    {
     "name": "stderr",
     "output_type": "stream",
     "text": [
      "/home/ubuntu/.local/lib/python3.8/site-packages/numpy/core/_methods.py:265: RuntimeWarning: Degrees of freedom <= 0 for slice\n",
      "  ret = _var(a, axis=axis, dtype=dtype, out=out, ddof=ddof,\n",
      "/home/ubuntu/.local/lib/python3.8/site-packages/numpy/core/_methods.py:223: RuntimeWarning: invalid value encountered in divide\n",
      "  arrmean = um.true_divide(arrmean, div, out=arrmean, casting='unsafe',\n",
      "/home/ubuntu/.local/lib/python3.8/site-packages/numpy/core/_methods.py:257: RuntimeWarning: invalid value encountered in double_scalars\n",
      "  ret = ret.dtype.type(ret / rcount)\n",
      "/home/ubuntu/.local/lib/python3.8/site-packages/numpy/core/fromnumeric.py:3432: RuntimeWarning: Mean of empty slice.\n",
      "  return _methods._mean(a, axis=axis, dtype=dtype,\n",
      "/home/ubuntu/.local/lib/python3.8/site-packages/numpy/core/_methods.py:190: RuntimeWarning: invalid value encountered in double_scalars\n",
      "  ret = ret.dtype.type(ret / rcount)\n"
     ]
    },
    {
     "name": "stdout",
     "output_type": "stream",
     "text": [
      "Extracting amplitude features\n",
      "Creating dataframe\n",
      "Complete\n",
      "acc:  [0.626]\n",
      "Optimal H:  [1.82000000e+02 6.01087282e-02]\n",
      "Running Params: 182, 0.06010872816957359\n",
      "Normalizing amplitudes\n",
      "Truncating silences\n",
      "Truncating audio 100/500 (20%)\n",
      "Truncating audio 200/500 (40%)\n",
      "Truncating audio 300/500 (60%)\n",
      "Truncating audio 400/500 (80%)\n",
      "Truncating audio 500/500 (100%)\n",
      "Extracting pauses\n",
      "Extracting pause spreads\n"
     ]
    },
    {
     "name": "stderr",
     "output_type": "stream",
     "text": [
      "/home/ubuntu/.local/lib/python3.8/site-packages/numpy/core/_methods.py:265: RuntimeWarning: Degrees of freedom <= 0 for slice\n",
      "  ret = _var(a, axis=axis, dtype=dtype, out=out, ddof=ddof,\n",
      "/home/ubuntu/.local/lib/python3.8/site-packages/numpy/core/_methods.py:223: RuntimeWarning: invalid value encountered in divide\n",
      "  arrmean = um.true_divide(arrmean, div, out=arrmean, casting='unsafe',\n",
      "/home/ubuntu/.local/lib/python3.8/site-packages/numpy/core/_methods.py:257: RuntimeWarning: invalid value encountered in double_scalars\n",
      "  ret = ret.dtype.type(ret / rcount)\n",
      "/home/ubuntu/.local/lib/python3.8/site-packages/numpy/core/fromnumeric.py:3432: RuntimeWarning: Mean of empty slice.\n",
      "  return _methods._mean(a, axis=axis, dtype=dtype,\n",
      "/home/ubuntu/.local/lib/python3.8/site-packages/numpy/core/_methods.py:190: RuntimeWarning: invalid value encountered in double_scalars\n",
      "  ret = ret.dtype.type(ret / rcount)\n"
     ]
    },
    {
     "name": "stdout",
     "output_type": "stream",
     "text": [
      "Extracting amplitude features\n",
      "Creating dataframe\n",
      "Complete\n",
      "acc:  [0.62]\n",
      "Optimal H:  [1.85000000e+02 2.78804379e-02]\n",
      "Running Params: 185, 0.02788043790584045\n",
      "Normalizing amplitudes\n",
      "Truncating silences\n",
      "Truncating audio 100/500 (20%)\n",
      "Truncating audio 200/500 (40%)\n",
      "Truncating audio 300/500 (60%)\n",
      "Truncating audio 400/500 (80%)\n",
      "Truncating audio 500/500 (100%)\n",
      "Extracting pauses\n",
      "Extracting pause spreads\n"
     ]
    },
    {
     "name": "stderr",
     "output_type": "stream",
     "text": [
      "/home/ubuntu/.local/lib/python3.8/site-packages/numpy/core/_methods.py:265: RuntimeWarning: Degrees of freedom <= 0 for slice\n",
      "  ret = _var(a, axis=axis, dtype=dtype, out=out, ddof=ddof,\n",
      "/home/ubuntu/.local/lib/python3.8/site-packages/numpy/core/_methods.py:223: RuntimeWarning: invalid value encountered in divide\n",
      "  arrmean = um.true_divide(arrmean, div, out=arrmean, casting='unsafe',\n",
      "/home/ubuntu/.local/lib/python3.8/site-packages/numpy/core/_methods.py:257: RuntimeWarning: invalid value encountered in double_scalars\n",
      "  ret = ret.dtype.type(ret / rcount)\n",
      "/home/ubuntu/.local/lib/python3.8/site-packages/numpy/core/fromnumeric.py:3432: RuntimeWarning: Mean of empty slice.\n",
      "  return _methods._mean(a, axis=axis, dtype=dtype,\n",
      "/home/ubuntu/.local/lib/python3.8/site-packages/numpy/core/_methods.py:190: RuntimeWarning: invalid value encountered in double_scalars\n",
      "  ret = ret.dtype.type(ret / rcount)\n"
     ]
    },
    {
     "name": "stdout",
     "output_type": "stream",
     "text": [
      "Extracting amplitude features\n",
      "Creating dataframe\n",
      "Complete\n",
      "acc:  [0.618]\n",
      "Optimal H:  [2.72000000e+02 3.47723899e-02]\n",
      "Running Params: 272, 0.03477238988728486\n",
      "Normalizing amplitudes\n",
      "Truncating silences\n",
      "Truncating audio 100/500 (20%)\n",
      "Truncating audio 200/500 (40%)\n",
      "Truncating audio 300/500 (60%)\n",
      "Truncating audio 400/500 (80%)\n",
      "Truncating audio 500/500 (100%)\n",
      "Extracting pauses\n",
      "Extracting pause spreads\n"
     ]
    },
    {
     "name": "stderr",
     "output_type": "stream",
     "text": [
      "/home/ubuntu/.local/lib/python3.8/site-packages/numpy/core/_methods.py:265: RuntimeWarning: Degrees of freedom <= 0 for slice\n",
      "  ret = _var(a, axis=axis, dtype=dtype, out=out, ddof=ddof,\n",
      "/home/ubuntu/.local/lib/python3.8/site-packages/numpy/core/_methods.py:223: RuntimeWarning: invalid value encountered in divide\n",
      "  arrmean = um.true_divide(arrmean, div, out=arrmean, casting='unsafe',\n",
      "/home/ubuntu/.local/lib/python3.8/site-packages/numpy/core/_methods.py:257: RuntimeWarning: invalid value encountered in double_scalars\n",
      "  ret = ret.dtype.type(ret / rcount)\n",
      "/home/ubuntu/.local/lib/python3.8/site-packages/numpy/core/fromnumeric.py:3432: RuntimeWarning: Mean of empty slice.\n",
      "  return _methods._mean(a, axis=axis, dtype=dtype,\n",
      "/home/ubuntu/.local/lib/python3.8/site-packages/numpy/core/_methods.py:190: RuntimeWarning: invalid value encountered in double_scalars\n",
      "  ret = ret.dtype.type(ret / rcount)\n"
     ]
    },
    {
     "name": "stdout",
     "output_type": "stream",
     "text": [
      "Extracting amplitude features\n",
      "Creating dataframe\n",
      "Complete\n",
      "acc:  [0.646]\n",
      "Optimal H:  [2.72000000e+02 8.95997464e-02]\n",
      "Running Params: 272, 0.08959974641684704\n",
      "Normalizing amplitudes\n",
      "Truncating silences\n",
      "Truncating audio 100/500 (20%)\n",
      "Truncating audio 200/500 (40%)\n",
      "Truncating audio 300/500 (60%)\n",
      "Truncating audio 400/500 (80%)\n",
      "Truncating audio 500/500 (100%)\n",
      "Extracting pauses\n",
      "Extracting pause spreads\n"
     ]
    },
    {
     "name": "stderr",
     "output_type": "stream",
     "text": [
      "/home/ubuntu/.local/lib/python3.8/site-packages/numpy/core/_methods.py:265: RuntimeWarning: Degrees of freedom <= 0 for slice\n",
      "  ret = _var(a, axis=axis, dtype=dtype, out=out, ddof=ddof,\n",
      "/home/ubuntu/.local/lib/python3.8/site-packages/numpy/core/_methods.py:223: RuntimeWarning: invalid value encountered in divide\n",
      "  arrmean = um.true_divide(arrmean, div, out=arrmean, casting='unsafe',\n",
      "/home/ubuntu/.local/lib/python3.8/site-packages/numpy/core/_methods.py:257: RuntimeWarning: invalid value encountered in double_scalars\n",
      "  ret = ret.dtype.type(ret / rcount)\n",
      "/home/ubuntu/.local/lib/python3.8/site-packages/numpy/core/fromnumeric.py:3432: RuntimeWarning: Mean of empty slice.\n",
      "  return _methods._mean(a, axis=axis, dtype=dtype,\n",
      "/home/ubuntu/.local/lib/python3.8/site-packages/numpy/core/_methods.py:190: RuntimeWarning: invalid value encountered in double_scalars\n",
      "  ret = ret.dtype.type(ret / rcount)\n"
     ]
    },
    {
     "name": "stdout",
     "output_type": "stream",
     "text": [
      "Extracting amplitude features\n",
      "Creating dataframe\n",
      "Complete\n",
      "acc:  [0.592]\n",
      "Optimal H:  [2.71000000e+02 7.72415177e-02]\n",
      "Running Params: 271, 0.07724151772322724\n",
      "Normalizing amplitudes\n",
      "Truncating silences\n",
      "Truncating audio 100/500 (20%)\n",
      "Truncating audio 200/500 (40%)\n",
      "Truncating audio 300/500 (60%)\n",
      "Truncating audio 400/500 (80%)\n",
      "Truncating audio 500/500 (100%)\n",
      "Extracting pauses\n",
      "Extracting pause spreads\n"
     ]
    },
    {
     "name": "stderr",
     "output_type": "stream",
     "text": [
      "/home/ubuntu/.local/lib/python3.8/site-packages/numpy/core/_methods.py:265: RuntimeWarning: Degrees of freedom <= 0 for slice\n",
      "  ret = _var(a, axis=axis, dtype=dtype, out=out, ddof=ddof,\n",
      "/home/ubuntu/.local/lib/python3.8/site-packages/numpy/core/_methods.py:223: RuntimeWarning: invalid value encountered in divide\n",
      "  arrmean = um.true_divide(arrmean, div, out=arrmean, casting='unsafe',\n",
      "/home/ubuntu/.local/lib/python3.8/site-packages/numpy/core/_methods.py:257: RuntimeWarning: invalid value encountered in double_scalars\n",
      "  ret = ret.dtype.type(ret / rcount)\n",
      "/home/ubuntu/.local/lib/python3.8/site-packages/numpy/core/fromnumeric.py:3432: RuntimeWarning: Mean of empty slice.\n",
      "  return _methods._mean(a, axis=axis, dtype=dtype,\n",
      "/home/ubuntu/.local/lib/python3.8/site-packages/numpy/core/_methods.py:190: RuntimeWarning: invalid value encountered in double_scalars\n",
      "  ret = ret.dtype.type(ret / rcount)\n"
     ]
    },
    {
     "name": "stdout",
     "output_type": "stream",
     "text": [
      "Extracting amplitude features\n",
      "Creating dataframe\n",
      "Complete\n",
      "acc:  [0.622]\n",
      "Optimal H:  [1.84000000e+02 4.09043221e-02]\n",
      "Running Params: 184, 0.040904322067431095\n",
      "Normalizing amplitudes\n",
      "Truncating silences\n",
      "Truncating audio 100/500 (20%)\n",
      "Truncating audio 200/500 (40%)\n",
      "Truncating audio 300/500 (60%)\n",
      "Truncating audio 400/500 (80%)\n",
      "Truncating audio 500/500 (100%)\n",
      "Extracting pauses\n",
      "Extracting pause spreads\n"
     ]
    },
    {
     "name": "stderr",
     "output_type": "stream",
     "text": [
      "/home/ubuntu/.local/lib/python3.8/site-packages/numpy/core/_methods.py:265: RuntimeWarning: Degrees of freedom <= 0 for slice\n",
      "  ret = _var(a, axis=axis, dtype=dtype, out=out, ddof=ddof,\n",
      "/home/ubuntu/.local/lib/python3.8/site-packages/numpy/core/_methods.py:223: RuntimeWarning: invalid value encountered in divide\n",
      "  arrmean = um.true_divide(arrmean, div, out=arrmean, casting='unsafe',\n",
      "/home/ubuntu/.local/lib/python3.8/site-packages/numpy/core/_methods.py:257: RuntimeWarning: invalid value encountered in double_scalars\n",
      "  ret = ret.dtype.type(ret / rcount)\n",
      "/home/ubuntu/.local/lib/python3.8/site-packages/numpy/core/fromnumeric.py:3432: RuntimeWarning: Mean of empty slice.\n",
      "  return _methods._mean(a, axis=axis, dtype=dtype,\n",
      "/home/ubuntu/.local/lib/python3.8/site-packages/numpy/core/_methods.py:190: RuntimeWarning: invalid value encountered in double_scalars\n",
      "  ret = ret.dtype.type(ret / rcount)\n"
     ]
    },
    {
     "name": "stdout",
     "output_type": "stream",
     "text": [
      "Extracting amplitude features\n",
      "Creating dataframe\n",
      "Complete\n",
      "acc:  [0.642]\n",
      "Optimal H:  [1.77000000e+02 9.35158719e-02]\n",
      "Running Params: 177, 0.09351587188277045\n",
      "Normalizing amplitudes\n",
      "Truncating silences\n",
      "Truncating audio 100/500 (20%)\n",
      "Truncating audio 200/500 (40%)\n",
      "Truncating audio 300/500 (60%)\n",
      "Truncating audio 400/500 (80%)\n",
      "Truncating audio 500/500 (100%)\n",
      "Extracting pauses\n",
      "Extracting pause spreads\n"
     ]
    },
    {
     "name": "stderr",
     "output_type": "stream",
     "text": [
      "/home/ubuntu/.local/lib/python3.8/site-packages/numpy/core/_methods.py:265: RuntimeWarning: Degrees of freedom <= 0 for slice\n",
      "  ret = _var(a, axis=axis, dtype=dtype, out=out, ddof=ddof,\n",
      "/home/ubuntu/.local/lib/python3.8/site-packages/numpy/core/_methods.py:223: RuntimeWarning: invalid value encountered in divide\n",
      "  arrmean = um.true_divide(arrmean, div, out=arrmean, casting='unsafe',\n",
      "/home/ubuntu/.local/lib/python3.8/site-packages/numpy/core/_methods.py:257: RuntimeWarning: invalid value encountered in double_scalars\n",
      "  ret = ret.dtype.type(ret / rcount)\n",
      "/home/ubuntu/.local/lib/python3.8/site-packages/numpy/core/fromnumeric.py:3432: RuntimeWarning: Mean of empty slice.\n",
      "  return _methods._mean(a, axis=axis, dtype=dtype,\n",
      "/home/ubuntu/.local/lib/python3.8/site-packages/numpy/core/_methods.py:190: RuntimeWarning: invalid value encountered in double_scalars\n",
      "  ret = ret.dtype.type(ret / rcount)\n"
     ]
    },
    {
     "name": "stdout",
     "output_type": "stream",
     "text": [
      "Extracting amplitude features\n",
      "Creating dataframe\n",
      "Complete\n",
      "acc:  [0.626]\n",
      "Optimal H:  [1.78000000e+02 6.63623272e-02]\n",
      "Running Params: 178, 0.06636232719935135\n",
      "Normalizing amplitudes\n",
      "Truncating silences\n",
      "Truncating audio 100/500 (20%)\n",
      "Truncating audio 200/500 (40%)\n",
      "Truncating audio 300/500 (60%)\n",
      "Truncating audio 400/500 (80%)\n",
      "Truncating audio 500/500 (100%)\n",
      "Extracting pauses\n",
      "Extracting pause spreads\n"
     ]
    },
    {
     "name": "stderr",
     "output_type": "stream",
     "text": [
      "/home/ubuntu/.local/lib/python3.8/site-packages/numpy/core/_methods.py:265: RuntimeWarning: Degrees of freedom <= 0 for slice\n",
      "  ret = _var(a, axis=axis, dtype=dtype, out=out, ddof=ddof,\n",
      "/home/ubuntu/.local/lib/python3.8/site-packages/numpy/core/_methods.py:223: RuntimeWarning: invalid value encountered in divide\n",
      "  arrmean = um.true_divide(arrmean, div, out=arrmean, casting='unsafe',\n",
      "/home/ubuntu/.local/lib/python3.8/site-packages/numpy/core/_methods.py:257: RuntimeWarning: invalid value encountered in double_scalars\n",
      "  ret = ret.dtype.type(ret / rcount)\n",
      "/home/ubuntu/.local/lib/python3.8/site-packages/numpy/core/fromnumeric.py:3432: RuntimeWarning: Mean of empty slice.\n",
      "  return _methods._mean(a, axis=axis, dtype=dtype,\n",
      "/home/ubuntu/.local/lib/python3.8/site-packages/numpy/core/_methods.py:190: RuntimeWarning: invalid value encountered in double_scalars\n",
      "  ret = ret.dtype.type(ret / rcount)\n"
     ]
    },
    {
     "name": "stdout",
     "output_type": "stream",
     "text": [
      "Extracting amplitude features\n",
      "Creating dataframe\n",
      "Complete\n",
      "acc:  [0.63]\n",
      "Optimal H:  [2.84000000e+02 5.85936252e-02]\n",
      "Running Params: 284, 0.05859362516993418\n",
      "Normalizing amplitudes\n",
      "Truncating silences\n",
      "Truncating audio 100/500 (20%)\n",
      "Truncating audio 200/500 (40%)\n",
      "Truncating audio 300/500 (60%)\n",
      "Truncating audio 400/500 (80%)\n",
      "Truncating audio 500/500 (100%)\n",
      "Extracting pauses\n",
      "Extracting pause spreads\n"
     ]
    },
    {
     "name": "stderr",
     "output_type": "stream",
     "text": [
      "/home/ubuntu/.local/lib/python3.8/site-packages/numpy/core/_methods.py:265: RuntimeWarning: Degrees of freedom <= 0 for slice\n",
      "  ret = _var(a, axis=axis, dtype=dtype, out=out, ddof=ddof,\n",
      "/home/ubuntu/.local/lib/python3.8/site-packages/numpy/core/_methods.py:223: RuntimeWarning: invalid value encountered in divide\n",
      "  arrmean = um.true_divide(arrmean, div, out=arrmean, casting='unsafe',\n",
      "/home/ubuntu/.local/lib/python3.8/site-packages/numpy/core/_methods.py:257: RuntimeWarning: invalid value encountered in double_scalars\n",
      "  ret = ret.dtype.type(ret / rcount)\n",
      "/home/ubuntu/.local/lib/python3.8/site-packages/numpy/core/fromnumeric.py:3432: RuntimeWarning: Mean of empty slice.\n",
      "  return _methods._mean(a, axis=axis, dtype=dtype,\n",
      "/home/ubuntu/.local/lib/python3.8/site-packages/numpy/core/_methods.py:190: RuntimeWarning: invalid value encountered in double_scalars\n",
      "  ret = ret.dtype.type(ret / rcount)\n"
     ]
    },
    {
     "name": "stdout",
     "output_type": "stream",
     "text": [
      "Extracting amplitude features\n",
      "Creating dataframe\n",
      "Complete\n",
      "acc:  [0.6]\n",
      "Optimal H:  [1.75000000e+02 5.44063254e-02]\n",
      "Running Params: 175, 0.054406325384995444\n",
      "Normalizing amplitudes\n",
      "Truncating silences\n",
      "Truncating audio 100/500 (20%)\n",
      "Truncating audio 200/500 (40%)\n",
      "Truncating audio 300/500 (60%)\n",
      "Truncating audio 400/500 (80%)\n",
      "Truncating audio 500/500 (100%)\n",
      "Extracting pauses\n",
      "Extracting pause spreads\n"
     ]
    },
    {
     "name": "stderr",
     "output_type": "stream",
     "text": [
      "/home/ubuntu/.local/lib/python3.8/site-packages/numpy/core/_methods.py:265: RuntimeWarning: Degrees of freedom <= 0 for slice\n",
      "  ret = _var(a, axis=axis, dtype=dtype, out=out, ddof=ddof,\n",
      "/home/ubuntu/.local/lib/python3.8/site-packages/numpy/core/_methods.py:223: RuntimeWarning: invalid value encountered in divide\n",
      "  arrmean = um.true_divide(arrmean, div, out=arrmean, casting='unsafe',\n",
      "/home/ubuntu/.local/lib/python3.8/site-packages/numpy/core/_methods.py:257: RuntimeWarning: invalid value encountered in double_scalars\n",
      "  ret = ret.dtype.type(ret / rcount)\n",
      "/home/ubuntu/.local/lib/python3.8/site-packages/numpy/core/fromnumeric.py:3432: RuntimeWarning: Mean of empty slice.\n",
      "  return _methods._mean(a, axis=axis, dtype=dtype,\n",
      "/home/ubuntu/.local/lib/python3.8/site-packages/numpy/core/_methods.py:190: RuntimeWarning: invalid value encountered in double_scalars\n",
      "  ret = ret.dtype.type(ret / rcount)\n"
     ]
    },
    {
     "name": "stdout",
     "output_type": "stream",
     "text": [
      "Extracting amplitude features\n",
      "Creating dataframe\n",
      "Complete\n",
      "acc:  [0.602]\n",
      "Optimal H:  [2.83000000e+02 1.38726159e-02]\n",
      "Running Params: 283, 0.013872615896343587\n",
      "Normalizing amplitudes\n",
      "Truncating silences\n",
      "Truncating audio 100/500 (20%)\n",
      "Truncating audio 200/500 (40%)\n",
      "Truncating audio 300/500 (60%)\n",
      "Truncating audio 400/500 (80%)\n",
      "Truncating audio 500/500 (100%)\n",
      "Extracting pauses\n",
      "Extracting pause spreads\n"
     ]
    },
    {
     "name": "stderr",
     "output_type": "stream",
     "text": [
      "/home/ubuntu/.local/lib/python3.8/site-packages/numpy/core/_methods.py:265: RuntimeWarning: Degrees of freedom <= 0 for slice\n",
      "  ret = _var(a, axis=axis, dtype=dtype, out=out, ddof=ddof,\n",
      "/home/ubuntu/.local/lib/python3.8/site-packages/numpy/core/_methods.py:223: RuntimeWarning: invalid value encountered in divide\n",
      "  arrmean = um.true_divide(arrmean, div, out=arrmean, casting='unsafe',\n",
      "/home/ubuntu/.local/lib/python3.8/site-packages/numpy/core/_methods.py:257: RuntimeWarning: invalid value encountered in double_scalars\n",
      "  ret = ret.dtype.type(ret / rcount)\n",
      "/home/ubuntu/.local/lib/python3.8/site-packages/numpy/core/fromnumeric.py:3432: RuntimeWarning: Mean of empty slice.\n",
      "  return _methods._mean(a, axis=axis, dtype=dtype,\n",
      "/home/ubuntu/.local/lib/python3.8/site-packages/numpy/core/_methods.py:190: RuntimeWarning: invalid value encountered in double_scalars\n",
      "  ret = ret.dtype.type(ret / rcount)\n"
     ]
    },
    {
     "name": "stdout",
     "output_type": "stream",
     "text": [
      "Extracting amplitude features\n",
      "Creating dataframe\n",
      "Complete\n",
      "acc:  [0.654]\n",
      "Optimal H:  [3.93000000e+02 5.27350593e-02]\n",
      "Running Params: 393, 0.05273505934465979\n",
      "Normalizing amplitudes\n",
      "Truncating silences\n",
      "Truncating audio 100/500 (20%)\n",
      "Truncating audio 200/500 (40%)\n",
      "Truncating audio 300/500 (60%)\n",
      "Truncating audio 400/500 (80%)\n",
      "Truncating audio 500/500 (100%)\n",
      "Extracting pauses\n",
      "Extracting pause spreads\n"
     ]
    },
    {
     "name": "stderr",
     "output_type": "stream",
     "text": [
      "/home/ubuntu/.local/lib/python3.8/site-packages/numpy/core/_methods.py:265: RuntimeWarning: Degrees of freedom <= 0 for slice\n",
      "  ret = _var(a, axis=axis, dtype=dtype, out=out, ddof=ddof,\n",
      "/home/ubuntu/.local/lib/python3.8/site-packages/numpy/core/_methods.py:223: RuntimeWarning: invalid value encountered in divide\n",
      "  arrmean = um.true_divide(arrmean, div, out=arrmean, casting='unsafe',\n",
      "/home/ubuntu/.local/lib/python3.8/site-packages/numpy/core/_methods.py:257: RuntimeWarning: invalid value encountered in double_scalars\n",
      "  ret = ret.dtype.type(ret / rcount)\n",
      "/home/ubuntu/.local/lib/python3.8/site-packages/numpy/core/fromnumeric.py:3432: RuntimeWarning: Mean of empty slice.\n",
      "  return _methods._mean(a, axis=axis, dtype=dtype,\n",
      "/home/ubuntu/.local/lib/python3.8/site-packages/numpy/core/_methods.py:190: RuntimeWarning: invalid value encountered in double_scalars\n",
      "  ret = ret.dtype.type(ret / rcount)\n"
     ]
    },
    {
     "name": "stdout",
     "output_type": "stream",
     "text": [
      "Extracting amplitude features\n",
      "Creating dataframe\n",
      "Complete\n",
      "acc:  [0.64]\n",
      "Optimal H:  [3.94000000e+02 7.62958582e-02]\n",
      "Running Params: 394, 0.07629585818516858\n",
      "Normalizing amplitudes\n",
      "Truncating silences\n",
      "Truncating audio 100/500 (20%)\n",
      "Truncating audio 200/500 (40%)\n",
      "Truncating audio 300/500 (60%)\n",
      "Truncating audio 400/500 (80%)\n",
      "Truncating audio 500/500 (100%)\n",
      "Extracting pauses\n",
      "Extracting pause spreads\n"
     ]
    },
    {
     "name": "stderr",
     "output_type": "stream",
     "text": [
      "/home/ubuntu/.local/lib/python3.8/site-packages/numpy/core/_methods.py:265: RuntimeWarning: Degrees of freedom <= 0 for slice\n",
      "  ret = _var(a, axis=axis, dtype=dtype, out=out, ddof=ddof,\n",
      "/home/ubuntu/.local/lib/python3.8/site-packages/numpy/core/_methods.py:223: RuntimeWarning: invalid value encountered in divide\n",
      "  arrmean = um.true_divide(arrmean, div, out=arrmean, casting='unsafe',\n",
      "/home/ubuntu/.local/lib/python3.8/site-packages/numpy/core/_methods.py:257: RuntimeWarning: invalid value encountered in double_scalars\n",
      "  ret = ret.dtype.type(ret / rcount)\n",
      "/home/ubuntu/.local/lib/python3.8/site-packages/numpy/core/fromnumeric.py:3432: RuntimeWarning: Mean of empty slice.\n",
      "  return _methods._mean(a, axis=axis, dtype=dtype,\n",
      "/home/ubuntu/.local/lib/python3.8/site-packages/numpy/core/_methods.py:190: RuntimeWarning: invalid value encountered in double_scalars\n",
      "  ret = ret.dtype.type(ret / rcount)\n"
     ]
    },
    {
     "name": "stdout",
     "output_type": "stream",
     "text": [
      "Extracting amplitude features\n",
      "Creating dataframe\n",
      "Complete\n",
      "acc:  [0.63]\n",
      "Optimal H:  [3.91000000e+02 4.80326831e-02]\n",
      "Running Params: 391, 0.04803268313466959\n",
      "Normalizing amplitudes\n",
      "Truncating silences\n",
      "Truncating audio 100/500 (20%)\n",
      "Truncating audio 200/500 (40%)\n",
      "Truncating audio 300/500 (60%)\n",
      "Truncating audio 400/500 (80%)\n",
      "Truncating audio 500/500 (100%)\n",
      "Extracting pauses\n",
      "Extracting pause spreads\n"
     ]
    },
    {
     "name": "stderr",
     "output_type": "stream",
     "text": [
      "/home/ubuntu/.local/lib/python3.8/site-packages/numpy/core/_methods.py:265: RuntimeWarning: Degrees of freedom <= 0 for slice\n",
      "  ret = _var(a, axis=axis, dtype=dtype, out=out, ddof=ddof,\n",
      "/home/ubuntu/.local/lib/python3.8/site-packages/numpy/core/_methods.py:223: RuntimeWarning: invalid value encountered in divide\n",
      "  arrmean = um.true_divide(arrmean, div, out=arrmean, casting='unsafe',\n",
      "/home/ubuntu/.local/lib/python3.8/site-packages/numpy/core/_methods.py:257: RuntimeWarning: invalid value encountered in double_scalars\n",
      "  ret = ret.dtype.type(ret / rcount)\n",
      "/home/ubuntu/.local/lib/python3.8/site-packages/numpy/core/fromnumeric.py:3432: RuntimeWarning: Mean of empty slice.\n",
      "  return _methods._mean(a, axis=axis, dtype=dtype,\n",
      "/home/ubuntu/.local/lib/python3.8/site-packages/numpy/core/_methods.py:190: RuntimeWarning: invalid value encountered in double_scalars\n",
      "  ret = ret.dtype.type(ret / rcount)\n"
     ]
    },
    {
     "name": "stdout",
     "output_type": "stream",
     "text": [
      "Extracting amplitude features\n",
      "Creating dataframe\n",
      "Complete\n",
      "acc:  [0.632]\n",
      "Optimal H:  [3.92000000e+02 1.45840732e-01]\n",
      "Running Params: 392, 0.14584073227308308\n",
      "Normalizing amplitudes\n",
      "Truncating silences\n",
      "Truncating audio 100/500 (20%)\n",
      "Truncating audio 200/500 (40%)\n",
      "Truncating audio 300/500 (60%)\n",
      "Truncating audio 400/500 (80%)\n",
      "Truncating audio 500/500 (100%)\n",
      "Extracting pauses\n",
      "Extracting pause spreads\n"
     ]
    },
    {
     "name": "stderr",
     "output_type": "stream",
     "text": [
      "/home/ubuntu/.local/lib/python3.8/site-packages/numpy/core/_methods.py:265: RuntimeWarning: Degrees of freedom <= 0 for slice\n",
      "  ret = _var(a, axis=axis, dtype=dtype, out=out, ddof=ddof,\n",
      "/home/ubuntu/.local/lib/python3.8/site-packages/numpy/core/_methods.py:223: RuntimeWarning: invalid value encountered in divide\n",
      "  arrmean = um.true_divide(arrmean, div, out=arrmean, casting='unsafe',\n",
      "/home/ubuntu/.local/lib/python3.8/site-packages/numpy/core/_methods.py:257: RuntimeWarning: invalid value encountered in double_scalars\n",
      "  ret = ret.dtype.type(ret / rcount)\n",
      "/home/ubuntu/.local/lib/python3.8/site-packages/numpy/core/fromnumeric.py:3432: RuntimeWarning: Mean of empty slice.\n",
      "  return _methods._mean(a, axis=axis, dtype=dtype,\n",
      "/home/ubuntu/.local/lib/python3.8/site-packages/numpy/core/_methods.py:190: RuntimeWarning: invalid value encountered in double_scalars\n",
      "  ret = ret.dtype.type(ret / rcount)\n"
     ]
    },
    {
     "name": "stdout",
     "output_type": "stream",
     "text": [
      "Extracting amplitude features\n",
      "Creating dataframe\n",
      "Complete\n",
      "acc:  [0.624]\n",
      "Optimal H:  [3.89e+02 5.00e-03]\n",
      "Running Params: 389, 0.005\n",
      "Normalizing amplitudes\n",
      "Truncating silences\n",
      "Truncating audio 100/500 (20%)\n",
      "Truncating audio 200/500 (40%)\n",
      "Truncating audio 300/500 (60%)\n",
      "Truncating audio 400/500 (80%)\n",
      "Truncating audio 500/500 (100%)\n",
      "Extracting pauses\n",
      "Extracting pause spreads\n"
     ]
    },
    {
     "name": "stderr",
     "output_type": "stream",
     "text": [
      "/home/ubuntu/.local/lib/python3.8/site-packages/numpy/core/_methods.py:265: RuntimeWarning: Degrees of freedom <= 0 for slice\n",
      "  ret = _var(a, axis=axis, dtype=dtype, out=out, ddof=ddof,\n",
      "/home/ubuntu/.local/lib/python3.8/site-packages/numpy/core/_methods.py:223: RuntimeWarning: invalid value encountered in divide\n",
      "  arrmean = um.true_divide(arrmean, div, out=arrmean, casting='unsafe',\n",
      "/home/ubuntu/.local/lib/python3.8/site-packages/numpy/core/_methods.py:257: RuntimeWarning: invalid value encountered in double_scalars\n",
      "  ret = ret.dtype.type(ret / rcount)\n",
      "/home/ubuntu/.local/lib/python3.8/site-packages/numpy/core/fromnumeric.py:3432: RuntimeWarning: Mean of empty slice.\n",
      "  return _methods._mean(a, axis=axis, dtype=dtype,\n",
      "/home/ubuntu/.local/lib/python3.8/site-packages/numpy/core/_methods.py:190: RuntimeWarning: invalid value encountered in double_scalars\n",
      "  ret = ret.dtype.type(ret / rcount)\n"
     ]
    },
    {
     "name": "stdout",
     "output_type": "stream",
     "text": [
      "Extracting amplitude features\n",
      "Creating dataframe\n",
      "Complete\n",
      "acc:  [0.65]\n",
      "Optimal H:  [3.20000000e+02 1.16170351e-01]\n",
      "Running Params: 320, 0.116170350545383\n",
      "Normalizing amplitudes\n",
      "Truncating silences\n",
      "Truncating audio 100/500 (20%)\n",
      "Truncating audio 200/500 (40%)\n",
      "Truncating audio 300/500 (60%)\n",
      "Truncating audio 400/500 (80%)\n",
      "Truncating audio 500/500 (100%)\n",
      "Extracting pauses\n",
      "Extracting pause spreads\n"
     ]
    },
    {
     "name": "stderr",
     "output_type": "stream",
     "text": [
      "/home/ubuntu/.local/lib/python3.8/site-packages/numpy/core/_methods.py:265: RuntimeWarning: Degrees of freedom <= 0 for slice\n",
      "  ret = _var(a, axis=axis, dtype=dtype, out=out, ddof=ddof,\n",
      "/home/ubuntu/.local/lib/python3.8/site-packages/numpy/core/_methods.py:223: RuntimeWarning: invalid value encountered in divide\n",
      "  arrmean = um.true_divide(arrmean, div, out=arrmean, casting='unsafe',\n",
      "/home/ubuntu/.local/lib/python3.8/site-packages/numpy/core/_methods.py:257: RuntimeWarning: invalid value encountered in double_scalars\n",
      "  ret = ret.dtype.type(ret / rcount)\n",
      "/home/ubuntu/.local/lib/python3.8/site-packages/numpy/core/fromnumeric.py:3432: RuntimeWarning: Mean of empty slice.\n",
      "  return _methods._mean(a, axis=axis, dtype=dtype,\n",
      "/home/ubuntu/.local/lib/python3.8/site-packages/numpy/core/_methods.py:190: RuntimeWarning: invalid value encountered in double_scalars\n",
      "  ret = ret.dtype.type(ret / rcount)\n"
     ]
    },
    {
     "name": "stdout",
     "output_type": "stream",
     "text": [
      "Extracting amplitude features\n",
      "Creating dataframe\n",
      "Complete\n",
      "acc:  [0.628]\n",
      "Optimal H:  [3.2000000e+02 8.9353228e-03]\n",
      "Running Params: 320, 0.008935322803921848\n",
      "Normalizing amplitudes\n",
      "Truncating silences\n",
      "Truncating audio 100/500 (20%)\n",
      "Truncating audio 200/500 (40%)\n",
      "Truncating audio 300/500 (60%)\n",
      "Truncating audio 400/500 (80%)\n",
      "Truncating audio 500/500 (100%)\n",
      "Extracting pauses\n",
      "Extracting pause spreads\n"
     ]
    },
    {
     "name": "stderr",
     "output_type": "stream",
     "text": [
      "/home/ubuntu/.local/lib/python3.8/site-packages/numpy/core/_methods.py:265: RuntimeWarning: Degrees of freedom <= 0 for slice\n",
      "  ret = _var(a, axis=axis, dtype=dtype, out=out, ddof=ddof,\n",
      "/home/ubuntu/.local/lib/python3.8/site-packages/numpy/core/_methods.py:223: RuntimeWarning: invalid value encountered in divide\n",
      "  arrmean = um.true_divide(arrmean, div, out=arrmean, casting='unsafe',\n",
      "/home/ubuntu/.local/lib/python3.8/site-packages/numpy/core/_methods.py:257: RuntimeWarning: invalid value encountered in double_scalars\n",
      "  ret = ret.dtype.type(ret / rcount)\n",
      "/home/ubuntu/.local/lib/python3.8/site-packages/numpy/core/fromnumeric.py:3432: RuntimeWarning: Mean of empty slice.\n",
      "  return _methods._mean(a, axis=axis, dtype=dtype,\n",
      "/home/ubuntu/.local/lib/python3.8/site-packages/numpy/core/_methods.py:190: RuntimeWarning: invalid value encountered in double_scalars\n",
      "  ret = ret.dtype.type(ret / rcount)\n"
     ]
    },
    {
     "name": "stdout",
     "output_type": "stream",
     "text": [
      "Extracting amplitude features\n",
      "Creating dataframe\n",
      "Complete\n",
      "acc:  [0.638]\n",
      "Optimal H:  [3.20000000e+02 5.22777328e-02]\n",
      "Running Params: 320, 0.05227773283451041\n",
      "Normalizing amplitudes\n",
      "Truncating silences\n",
      "Truncating audio 100/500 (20%)\n",
      "Truncating audio 200/500 (40%)\n",
      "Truncating audio 300/500 (60%)\n",
      "Truncating audio 400/500 (80%)\n",
      "Truncating audio 500/500 (100%)\n",
      "Extracting pauses\n",
      "Extracting pause spreads\n"
     ]
    },
    {
     "name": "stderr",
     "output_type": "stream",
     "text": [
      "/home/ubuntu/.local/lib/python3.8/site-packages/numpy/core/_methods.py:265: RuntimeWarning: Degrees of freedom <= 0 for slice\n",
      "  ret = _var(a, axis=axis, dtype=dtype, out=out, ddof=ddof,\n",
      "/home/ubuntu/.local/lib/python3.8/site-packages/numpy/core/_methods.py:223: RuntimeWarning: invalid value encountered in divide\n",
      "  arrmean = um.true_divide(arrmean, div, out=arrmean, casting='unsafe',\n",
      "/home/ubuntu/.local/lib/python3.8/site-packages/numpy/core/_methods.py:257: RuntimeWarning: invalid value encountered in double_scalars\n",
      "  ret = ret.dtype.type(ret / rcount)\n",
      "/home/ubuntu/.local/lib/python3.8/site-packages/numpy/core/fromnumeric.py:3432: RuntimeWarning: Mean of empty slice.\n",
      "  return _methods._mean(a, axis=axis, dtype=dtype,\n",
      "/home/ubuntu/.local/lib/python3.8/site-packages/numpy/core/_methods.py:190: RuntimeWarning: invalid value encountered in double_scalars\n",
      "  ret = ret.dtype.type(ret / rcount)\n"
     ]
    },
    {
     "name": "stdout",
     "output_type": "stream",
     "text": [
      "Extracting amplitude features\n",
      "Creating dataframe\n",
      "Complete\n",
      "acc:  [0.594]\n",
      "Optimal H:  [3.90000000e+02 3.64688712e-02]\n",
      "Running Params: 390, 0.03646887121382454\n",
      "Normalizing amplitudes\n",
      "Truncating silences\n",
      "Truncating audio 100/500 (20%)\n",
      "Truncating audio 200/500 (40%)\n",
      "Truncating audio 300/500 (60%)\n",
      "Truncating audio 400/500 (80%)\n",
      "Truncating audio 500/500 (100%)\n",
      "Extracting pauses\n",
      "Extracting pause spreads\n"
     ]
    },
    {
     "name": "stderr",
     "output_type": "stream",
     "text": [
      "/home/ubuntu/.local/lib/python3.8/site-packages/numpy/core/_methods.py:265: RuntimeWarning: Degrees of freedom <= 0 for slice\n",
      "  ret = _var(a, axis=axis, dtype=dtype, out=out, ddof=ddof,\n",
      "/home/ubuntu/.local/lib/python3.8/site-packages/numpy/core/_methods.py:223: RuntimeWarning: invalid value encountered in divide\n",
      "  arrmean = um.true_divide(arrmean, div, out=arrmean, casting='unsafe',\n",
      "/home/ubuntu/.local/lib/python3.8/site-packages/numpy/core/_methods.py:257: RuntimeWarning: invalid value encountered in double_scalars\n",
      "  ret = ret.dtype.type(ret / rcount)\n",
      "/home/ubuntu/.local/lib/python3.8/site-packages/numpy/core/fromnumeric.py:3432: RuntimeWarning: Mean of empty slice.\n",
      "  return _methods._mean(a, axis=axis, dtype=dtype,\n",
      "/home/ubuntu/.local/lib/python3.8/site-packages/numpy/core/_methods.py:190: RuntimeWarning: invalid value encountered in double_scalars\n",
      "  ret = ret.dtype.type(ret / rcount)\n"
     ]
    },
    {
     "name": "stdout",
     "output_type": "stream",
     "text": [
      "Extracting amplitude features\n",
      "Creating dataframe\n",
      "Complete\n",
      "acc:  [0.63]\n",
      "Optimal H:  [3.87000000e+02 7.41419633e-02]\n",
      "Running Params: 387, 0.07414196331927378\n",
      "Normalizing amplitudes\n",
      "Truncating silences\n",
      "Truncating audio 100/500 (20%)\n",
      "Truncating audio 200/500 (40%)\n",
      "Truncating audio 300/500 (60%)\n",
      "Truncating audio 400/500 (80%)\n",
      "Truncating audio 500/500 (100%)\n",
      "Extracting pauses\n",
      "Extracting pause spreads\n"
     ]
    },
    {
     "name": "stderr",
     "output_type": "stream",
     "text": [
      "/home/ubuntu/.local/lib/python3.8/site-packages/numpy/core/_methods.py:265: RuntimeWarning: Degrees of freedom <= 0 for slice\n",
      "  ret = _var(a, axis=axis, dtype=dtype, out=out, ddof=ddof,\n",
      "/home/ubuntu/.local/lib/python3.8/site-packages/numpy/core/_methods.py:223: RuntimeWarning: invalid value encountered in divide\n",
      "  arrmean = um.true_divide(arrmean, div, out=arrmean, casting='unsafe',\n",
      "/home/ubuntu/.local/lib/python3.8/site-packages/numpy/core/_methods.py:257: RuntimeWarning: invalid value encountered in double_scalars\n",
      "  ret = ret.dtype.type(ret / rcount)\n",
      "/home/ubuntu/.local/lib/python3.8/site-packages/numpy/core/fromnumeric.py:3432: RuntimeWarning: Mean of empty slice.\n",
      "  return _methods._mean(a, axis=axis, dtype=dtype,\n",
      "/home/ubuntu/.local/lib/python3.8/site-packages/numpy/core/_methods.py:190: RuntimeWarning: invalid value encountered in double_scalars\n",
      "  ret = ret.dtype.type(ret / rcount)\n"
     ]
    },
    {
     "name": "stdout",
     "output_type": "stream",
     "text": [
      "Extracting amplitude features\n",
      "Creating dataframe\n",
      "Complete\n",
      "acc:  [0.646]\n",
      "Optimal H:  [3.88000000e+02 9.67629141e-02]\n",
      "Running Params: 388, 0.09676291410302518\n",
      "Normalizing amplitudes\n",
      "Truncating silences\n",
      "Truncating audio 100/500 (20%)\n",
      "Truncating audio 200/500 (40%)\n",
      "Truncating audio 300/500 (60%)\n",
      "Truncating audio 400/500 (80%)\n",
      "Truncating audio 500/500 (100%)\n",
      "Extracting pauses\n",
      "Extracting pause spreads\n"
     ]
    },
    {
     "name": "stderr",
     "output_type": "stream",
     "text": [
      "/home/ubuntu/.local/lib/python3.8/site-packages/numpy/core/_methods.py:265: RuntimeWarning: Degrees of freedom <= 0 for slice\n",
      "  ret = _var(a, axis=axis, dtype=dtype, out=out, ddof=ddof,\n",
      "/home/ubuntu/.local/lib/python3.8/site-packages/numpy/core/_methods.py:223: RuntimeWarning: invalid value encountered in divide\n",
      "  arrmean = um.true_divide(arrmean, div, out=arrmean, casting='unsafe',\n",
      "/home/ubuntu/.local/lib/python3.8/site-packages/numpy/core/_methods.py:257: RuntimeWarning: invalid value encountered in double_scalars\n",
      "  ret = ret.dtype.type(ret / rcount)\n",
      "/home/ubuntu/.local/lib/python3.8/site-packages/numpy/core/fromnumeric.py:3432: RuntimeWarning: Mean of empty slice.\n",
      "  return _methods._mean(a, axis=axis, dtype=dtype,\n",
      "/home/ubuntu/.local/lib/python3.8/site-packages/numpy/core/_methods.py:190: RuntimeWarning: invalid value encountered in double_scalars\n",
      "  ret = ret.dtype.type(ret / rcount)\n"
     ]
    },
    {
     "name": "stdout",
     "output_type": "stream",
     "text": [
      "Extracting amplitude features\n",
      "Creating dataframe\n",
      "Complete\n",
      "acc:  [0.642]\n",
      "Optimal H:  [3.85000000e+02 7.08802429e-02]\n",
      "Running Params: 385, 0.07088024287136362\n",
      "Normalizing amplitudes\n",
      "Truncating silences\n",
      "Truncating audio 100/500 (20%)\n",
      "Truncating audio 200/500 (40%)\n",
      "Truncating audio 300/500 (60%)\n",
      "Truncating audio 400/500 (80%)\n",
      "Truncating audio 500/500 (100%)\n",
      "Extracting pauses\n",
      "Extracting pause spreads\n"
     ]
    },
    {
     "name": "stderr",
     "output_type": "stream",
     "text": [
      "/home/ubuntu/.local/lib/python3.8/site-packages/numpy/core/_methods.py:265: RuntimeWarning: Degrees of freedom <= 0 for slice\n",
      "  ret = _var(a, axis=axis, dtype=dtype, out=out, ddof=ddof,\n",
      "/home/ubuntu/.local/lib/python3.8/site-packages/numpy/core/_methods.py:223: RuntimeWarning: invalid value encountered in divide\n",
      "  arrmean = um.true_divide(arrmean, div, out=arrmean, casting='unsafe',\n",
      "/home/ubuntu/.local/lib/python3.8/site-packages/numpy/core/_methods.py:257: RuntimeWarning: invalid value encountered in double_scalars\n",
      "  ret = ret.dtype.type(ret / rcount)\n",
      "/home/ubuntu/.local/lib/python3.8/site-packages/numpy/core/fromnumeric.py:3432: RuntimeWarning: Mean of empty slice.\n",
      "  return _methods._mean(a, axis=axis, dtype=dtype,\n",
      "/home/ubuntu/.local/lib/python3.8/site-packages/numpy/core/_methods.py:190: RuntimeWarning: invalid value encountered in double_scalars\n",
      "  ret = ret.dtype.type(ret / rcount)\n"
     ]
    },
    {
     "name": "stdout",
     "output_type": "stream",
     "text": [
      "Extracting amplitude features\n",
      "Creating dataframe\n",
      "Complete\n",
      "acc:  [0.642]\n",
      "Optimal H:  [3.8600000e+02 4.1367279e-02]\n",
      "Running Params: 386, 0.041367278968735585\n",
      "Normalizing amplitudes\n",
      "Truncating silences\n",
      "Truncating audio 100/500 (20%)\n",
      "Truncating audio 200/500 (40%)\n",
      "Truncating audio 300/500 (60%)\n",
      "Truncating audio 400/500 (80%)\n",
      "Truncating audio 500/500 (100%)\n",
      "Extracting pauses\n",
      "Extracting pause spreads\n"
     ]
    },
    {
     "name": "stderr",
     "output_type": "stream",
     "text": [
      "/home/ubuntu/.local/lib/python3.8/site-packages/numpy/core/_methods.py:265: RuntimeWarning: Degrees of freedom <= 0 for slice\n",
      "  ret = _var(a, axis=axis, dtype=dtype, out=out, ddof=ddof,\n",
      "/home/ubuntu/.local/lib/python3.8/site-packages/numpy/core/_methods.py:223: RuntimeWarning: invalid value encountered in divide\n",
      "  arrmean = um.true_divide(arrmean, div, out=arrmean, casting='unsafe',\n",
      "/home/ubuntu/.local/lib/python3.8/site-packages/numpy/core/_methods.py:257: RuntimeWarning: invalid value encountered in double_scalars\n",
      "  ret = ret.dtype.type(ret / rcount)\n",
      "/home/ubuntu/.local/lib/python3.8/site-packages/numpy/core/fromnumeric.py:3432: RuntimeWarning: Mean of empty slice.\n",
      "  return _methods._mean(a, axis=axis, dtype=dtype,\n",
      "/home/ubuntu/.local/lib/python3.8/site-packages/numpy/core/_methods.py:190: RuntimeWarning: invalid value encountered in double_scalars\n",
      "  ret = ret.dtype.type(ret / rcount)\n"
     ]
    },
    {
     "name": "stdout",
     "output_type": "stream",
     "text": [
      "Extracting amplitude features\n",
      "Creating dataframe\n",
      "Complete\n",
      "acc:  [0.626]\n",
      "Optimal H:  [3.83000000e+02 4.56247414e-02]\n",
      "Running Params: 383, 0.04562474135298934\n",
      "Normalizing amplitudes\n",
      "Truncating silences\n",
      "Truncating audio 100/500 (20%)\n",
      "Truncating audio 200/500 (40%)\n",
      "Truncating audio 300/500 (60%)\n",
      "Truncating audio 400/500 (80%)\n",
      "Truncating audio 500/500 (100%)\n",
      "Extracting pauses\n",
      "Extracting pause spreads\n"
     ]
    },
    {
     "name": "stderr",
     "output_type": "stream",
     "text": [
      "/home/ubuntu/.local/lib/python3.8/site-packages/numpy/core/_methods.py:265: RuntimeWarning: Degrees of freedom <= 0 for slice\n",
      "  ret = _var(a, axis=axis, dtype=dtype, out=out, ddof=ddof,\n",
      "/home/ubuntu/.local/lib/python3.8/site-packages/numpy/core/_methods.py:223: RuntimeWarning: invalid value encountered in divide\n",
      "  arrmean = um.true_divide(arrmean, div, out=arrmean, casting='unsafe',\n",
      "/home/ubuntu/.local/lib/python3.8/site-packages/numpy/core/_methods.py:257: RuntimeWarning: invalid value encountered in double_scalars\n",
      "  ret = ret.dtype.type(ret / rcount)\n",
      "/home/ubuntu/.local/lib/python3.8/site-packages/numpy/core/fromnumeric.py:3432: RuntimeWarning: Mean of empty slice.\n",
      "  return _methods._mean(a, axis=axis, dtype=dtype,\n",
      "/home/ubuntu/.local/lib/python3.8/site-packages/numpy/core/_methods.py:190: RuntimeWarning: invalid value encountered in double_scalars\n",
      "  ret = ret.dtype.type(ret / rcount)\n"
     ]
    },
    {
     "name": "stdout",
     "output_type": "stream",
     "text": [
      "Extracting amplitude features\n",
      "Creating dataframe\n",
      "Complete\n",
      "acc:  [0.636]\n",
      "Optimal H:  [3.84e+02 5.00e-03]\n",
      "Running Params: 384, 0.005\n",
      "Normalizing amplitudes\n",
      "Truncating silences\n",
      "Truncating audio 100/500 (20%)\n",
      "Truncating audio 200/500 (40%)\n",
      "Truncating audio 300/500 (60%)\n",
      "Truncating audio 400/500 (80%)\n",
      "Truncating audio 500/500 (100%)\n",
      "Extracting pauses\n",
      "Extracting pause spreads\n"
     ]
    },
    {
     "name": "stderr",
     "output_type": "stream",
     "text": [
      "/home/ubuntu/.local/lib/python3.8/site-packages/numpy/core/_methods.py:265: RuntimeWarning: Degrees of freedom <= 0 for slice\n",
      "  ret = _var(a, axis=axis, dtype=dtype, out=out, ddof=ddof,\n",
      "/home/ubuntu/.local/lib/python3.8/site-packages/numpy/core/_methods.py:223: RuntimeWarning: invalid value encountered in divide\n",
      "  arrmean = um.true_divide(arrmean, div, out=arrmean, casting='unsafe',\n",
      "/home/ubuntu/.local/lib/python3.8/site-packages/numpy/core/_methods.py:257: RuntimeWarning: invalid value encountered in double_scalars\n",
      "  ret = ret.dtype.type(ret / rcount)\n",
      "/home/ubuntu/.local/lib/python3.8/site-packages/numpy/core/fromnumeric.py:3432: RuntimeWarning: Mean of empty slice.\n",
      "  return _methods._mean(a, axis=axis, dtype=dtype,\n",
      "/home/ubuntu/.local/lib/python3.8/site-packages/numpy/core/_methods.py:190: RuntimeWarning: invalid value encountered in double_scalars\n",
      "  ret = ret.dtype.type(ret / rcount)\n"
     ]
    },
    {
     "name": "stdout",
     "output_type": "stream",
     "text": [
      "Extracting amplitude features\n",
      "Creating dataframe\n",
      "Complete\n",
      "acc:  [0.624]\n",
      "Optimal H:  [3.81000000e+02 5.30540897e-02]\n",
      "Running Params: 381, 0.053054089717152884\n",
      "Normalizing amplitudes\n",
      "Truncating silences\n",
      "Truncating audio 100/500 (20%)\n",
      "Truncating audio 200/500 (40%)\n",
      "Truncating audio 300/500 (60%)\n",
      "Truncating audio 400/500 (80%)\n",
      "Truncating audio 500/500 (100%)\n",
      "Extracting pauses\n",
      "Extracting pause spreads\n"
     ]
    },
    {
     "name": "stderr",
     "output_type": "stream",
     "text": [
      "/home/ubuntu/.local/lib/python3.8/site-packages/numpy/core/_methods.py:265: RuntimeWarning: Degrees of freedom <= 0 for slice\n",
      "  ret = _var(a, axis=axis, dtype=dtype, out=out, ddof=ddof,\n",
      "/home/ubuntu/.local/lib/python3.8/site-packages/numpy/core/_methods.py:223: RuntimeWarning: invalid value encountered in divide\n",
      "  arrmean = um.true_divide(arrmean, div, out=arrmean, casting='unsafe',\n",
      "/home/ubuntu/.local/lib/python3.8/site-packages/numpy/core/_methods.py:257: RuntimeWarning: invalid value encountered in double_scalars\n",
      "  ret = ret.dtype.type(ret / rcount)\n",
      "/home/ubuntu/.local/lib/python3.8/site-packages/numpy/core/fromnumeric.py:3432: RuntimeWarning: Mean of empty slice.\n",
      "  return _methods._mean(a, axis=axis, dtype=dtype,\n",
      "/home/ubuntu/.local/lib/python3.8/site-packages/numpy/core/_methods.py:190: RuntimeWarning: invalid value encountered in double_scalars\n",
      "  ret = ret.dtype.type(ret / rcount)\n"
     ]
    },
    {
     "name": "stdout",
     "output_type": "stream",
     "text": [
      "Extracting amplitude features\n",
      "Creating dataframe\n",
      "Complete\n",
      "acc:  [0.65]\n",
      "Optimal H:  [3.82000000e+02 8.16294333e-02]\n",
      "Running Params: 382, 0.08162943334524608\n",
      "Normalizing amplitudes\n",
      "Truncating silences\n",
      "Truncating audio 100/500 (20%)\n",
      "Truncating audio 200/500 (40%)\n",
      "Truncating audio 300/500 (60%)\n",
      "Truncating audio 400/500 (80%)\n",
      "Truncating audio 500/500 (100%)\n",
      "Extracting pauses\n",
      "Extracting pause spreads\n"
     ]
    },
    {
     "name": "stderr",
     "output_type": "stream",
     "text": [
      "/home/ubuntu/.local/lib/python3.8/site-packages/numpy/core/_methods.py:265: RuntimeWarning: Degrees of freedom <= 0 for slice\n",
      "  ret = _var(a, axis=axis, dtype=dtype, out=out, ddof=ddof,\n",
      "/home/ubuntu/.local/lib/python3.8/site-packages/numpy/core/_methods.py:223: RuntimeWarning: invalid value encountered in divide\n",
      "  arrmean = um.true_divide(arrmean, div, out=arrmean, casting='unsafe',\n",
      "/home/ubuntu/.local/lib/python3.8/site-packages/numpy/core/_methods.py:257: RuntimeWarning: invalid value encountered in double_scalars\n",
      "  ret = ret.dtype.type(ret / rcount)\n",
      "/home/ubuntu/.local/lib/python3.8/site-packages/numpy/core/fromnumeric.py:3432: RuntimeWarning: Mean of empty slice.\n",
      "  return _methods._mean(a, axis=axis, dtype=dtype,\n",
      "/home/ubuntu/.local/lib/python3.8/site-packages/numpy/core/_methods.py:190: RuntimeWarning: invalid value encountered in double_scalars\n",
      "  ret = ret.dtype.type(ret / rcount)\n"
     ]
    },
    {
     "name": "stdout",
     "output_type": "stream",
     "text": [
      "Extracting amplitude features\n",
      "Creating dataframe\n",
      "Complete\n",
      "acc:  [0.632]\n",
      "Optimal H:  [3.79000000e+02 3.95766225e-02]\n",
      "Running Params: 379, 0.03957662250499151\n",
      "Normalizing amplitudes\n",
      "Truncating silences\n",
      "Truncating audio 100/500 (20%)\n",
      "Truncating audio 200/500 (40%)\n",
      "Truncating audio 300/500 (60%)\n",
      "Truncating audio 400/500 (80%)\n",
      "Truncating audio 500/500 (100%)\n",
      "Extracting pauses\n",
      "Extracting pause spreads\n"
     ]
    },
    {
     "name": "stderr",
     "output_type": "stream",
     "text": [
      "/home/ubuntu/.local/lib/python3.8/site-packages/numpy/core/_methods.py:265: RuntimeWarning: Degrees of freedom <= 0 for slice\n",
      "  ret = _var(a, axis=axis, dtype=dtype, out=out, ddof=ddof,\n",
      "/home/ubuntu/.local/lib/python3.8/site-packages/numpy/core/_methods.py:223: RuntimeWarning: invalid value encountered in divide\n",
      "  arrmean = um.true_divide(arrmean, div, out=arrmean, casting='unsafe',\n",
      "/home/ubuntu/.local/lib/python3.8/site-packages/numpy/core/_methods.py:257: RuntimeWarning: invalid value encountered in double_scalars\n",
      "  ret = ret.dtype.type(ret / rcount)\n",
      "/home/ubuntu/.local/lib/python3.8/site-packages/numpy/core/fromnumeric.py:3432: RuntimeWarning: Mean of empty slice.\n",
      "  return _methods._mean(a, axis=axis, dtype=dtype,\n",
      "/home/ubuntu/.local/lib/python3.8/site-packages/numpy/core/_methods.py:190: RuntimeWarning: invalid value encountered in double_scalars\n",
      "  ret = ret.dtype.type(ret / rcount)\n"
     ]
    },
    {
     "name": "stdout",
     "output_type": "stream",
     "text": [
      "Extracting amplitude features\n",
      "Creating dataframe\n",
      "Complete\n",
      "acc:  [0.634]\n",
      "Optimal H:  [3.80000000e+02 1.64059283e-01]\n",
      "Running Params: 380, 0.16405928251033847\n",
      "Normalizing amplitudes\n",
      "Truncating silences\n",
      "Truncating audio 100/500 (20%)\n",
      "Truncating audio 200/500 (40%)\n",
      "Truncating audio 300/500 (60%)\n",
      "Truncating audio 400/500 (80%)\n",
      "Truncating audio 500/500 (100%)\n",
      "Extracting pauses\n",
      "Extracting pause spreads\n"
     ]
    },
    {
     "name": "stderr",
     "output_type": "stream",
     "text": [
      "/home/ubuntu/.local/lib/python3.8/site-packages/numpy/core/_methods.py:265: RuntimeWarning: Degrees of freedom <= 0 for slice\n",
      "  ret = _var(a, axis=axis, dtype=dtype, out=out, ddof=ddof,\n",
      "/home/ubuntu/.local/lib/python3.8/site-packages/numpy/core/_methods.py:223: RuntimeWarning: invalid value encountered in divide\n",
      "  arrmean = um.true_divide(arrmean, div, out=arrmean, casting='unsafe',\n",
      "/home/ubuntu/.local/lib/python3.8/site-packages/numpy/core/_methods.py:257: RuntimeWarning: invalid value encountered in double_scalars\n",
      "  ret = ret.dtype.type(ret / rcount)\n",
      "/home/ubuntu/.local/lib/python3.8/site-packages/numpy/core/fromnumeric.py:3432: RuntimeWarning: Mean of empty slice.\n",
      "  return _methods._mean(a, axis=axis, dtype=dtype,\n",
      "/home/ubuntu/.local/lib/python3.8/site-packages/numpy/core/_methods.py:190: RuntimeWarning: invalid value encountered in double_scalars\n",
      "  ret = ret.dtype.type(ret / rcount)\n"
     ]
    },
    {
     "name": "stdout",
     "output_type": "stream",
     "text": [
      "Extracting amplitude features\n",
      "Creating dataframe\n",
      "Complete\n",
      "acc:  [0.632]\n",
      "Optimal H:  [3.77000000e+02 1.69441221e-02]\n",
      "Running Params: 377, 0.01694412211184307\n",
      "Normalizing amplitudes\n",
      "Truncating silences\n",
      "Truncating audio 100/500 (20%)\n",
      "Truncating audio 200/500 (40%)\n",
      "Truncating audio 300/500 (60%)\n",
      "Truncating audio 400/500 (80%)\n",
      "Truncating audio 500/500 (100%)\n",
      "Extracting pauses\n",
      "Extracting pause spreads\n"
     ]
    },
    {
     "name": "stderr",
     "output_type": "stream",
     "text": [
      "/home/ubuntu/.local/lib/python3.8/site-packages/numpy/core/_methods.py:265: RuntimeWarning: Degrees of freedom <= 0 for slice\n",
      "  ret = _var(a, axis=axis, dtype=dtype, out=out, ddof=ddof,\n",
      "/home/ubuntu/.local/lib/python3.8/site-packages/numpy/core/_methods.py:223: RuntimeWarning: invalid value encountered in divide\n",
      "  arrmean = um.true_divide(arrmean, div, out=arrmean, casting='unsafe',\n",
      "/home/ubuntu/.local/lib/python3.8/site-packages/numpy/core/_methods.py:257: RuntimeWarning: invalid value encountered in double_scalars\n",
      "  ret = ret.dtype.type(ret / rcount)\n",
      "/home/ubuntu/.local/lib/python3.8/site-packages/numpy/core/fromnumeric.py:3432: RuntimeWarning: Mean of empty slice.\n",
      "  return _methods._mean(a, axis=axis, dtype=dtype,\n",
      "/home/ubuntu/.local/lib/python3.8/site-packages/numpy/core/_methods.py:190: RuntimeWarning: invalid value encountered in double_scalars\n",
      "  ret = ret.dtype.type(ret / rcount)\n"
     ]
    },
    {
     "name": "stdout",
     "output_type": "stream",
     "text": [
      "Extracting amplitude features\n",
      "Creating dataframe\n",
      "Complete\n",
      "acc:  [0.662]\n",
      "Optimal H:  [3.78000000e+02 7.40467311e-02]\n",
      "Running Params: 378, 0.07404673106858678\n",
      "Normalizing amplitudes\n",
      "Truncating silences\n",
      "Truncating audio 100/500 (20%)\n",
      "Truncating audio 200/500 (40%)\n",
      "Truncating audio 300/500 (60%)\n",
      "Truncating audio 400/500 (80%)\n",
      "Truncating audio 500/500 (100%)\n",
      "Extracting pauses\n",
      "Extracting pause spreads\n"
     ]
    },
    {
     "name": "stderr",
     "output_type": "stream",
     "text": [
      "/home/ubuntu/.local/lib/python3.8/site-packages/numpy/core/_methods.py:265: RuntimeWarning: Degrees of freedom <= 0 for slice\n",
      "  ret = _var(a, axis=axis, dtype=dtype, out=out, ddof=ddof,\n",
      "/home/ubuntu/.local/lib/python3.8/site-packages/numpy/core/_methods.py:223: RuntimeWarning: invalid value encountered in divide\n",
      "  arrmean = um.true_divide(arrmean, div, out=arrmean, casting='unsafe',\n",
      "/home/ubuntu/.local/lib/python3.8/site-packages/numpy/core/_methods.py:257: RuntimeWarning: invalid value encountered in double_scalars\n",
      "  ret = ret.dtype.type(ret / rcount)\n",
      "/home/ubuntu/.local/lib/python3.8/site-packages/numpy/core/fromnumeric.py:3432: RuntimeWarning: Mean of empty slice.\n",
      "  return _methods._mean(a, axis=axis, dtype=dtype,\n",
      "/home/ubuntu/.local/lib/python3.8/site-packages/numpy/core/_methods.py:190: RuntimeWarning: invalid value encountered in double_scalars\n",
      "  ret = ret.dtype.type(ret / rcount)\n"
     ]
    },
    {
     "name": "stdout",
     "output_type": "stream",
     "text": [
      "Extracting amplitude features\n",
      "Creating dataframe\n",
      "Complete\n",
      "acc:  [0.61]\n",
      "Optimal H:  [3.75e+02 5.00e-03]\n",
      "Running Params: 375, 0.005\n",
      "Normalizing amplitudes\n",
      "Truncating silences\n",
      "Truncating audio 100/500 (20%)\n",
      "Truncating audio 200/500 (40%)\n",
      "Truncating audio 300/500 (60%)\n",
      "Truncating audio 400/500 (80%)\n",
      "Truncating audio 500/500 (100%)\n",
      "Extracting pauses\n",
      "Extracting pause spreads\n"
     ]
    },
    {
     "name": "stderr",
     "output_type": "stream",
     "text": [
      "/home/ubuntu/.local/lib/python3.8/site-packages/numpy/core/_methods.py:265: RuntimeWarning: Degrees of freedom <= 0 for slice\n",
      "  ret = _var(a, axis=axis, dtype=dtype, out=out, ddof=ddof,\n",
      "/home/ubuntu/.local/lib/python3.8/site-packages/numpy/core/_methods.py:223: RuntimeWarning: invalid value encountered in divide\n",
      "  arrmean = um.true_divide(arrmean, div, out=arrmean, casting='unsafe',\n",
      "/home/ubuntu/.local/lib/python3.8/site-packages/numpy/core/_methods.py:257: RuntimeWarning: invalid value encountered in double_scalars\n",
      "  ret = ret.dtype.type(ret / rcount)\n",
      "/home/ubuntu/.local/lib/python3.8/site-packages/numpy/core/fromnumeric.py:3432: RuntimeWarning: Mean of empty slice.\n",
      "  return _methods._mean(a, axis=axis, dtype=dtype,\n",
      "/home/ubuntu/.local/lib/python3.8/site-packages/numpy/core/_methods.py:190: RuntimeWarning: invalid value encountered in double_scalars\n",
      "  ret = ret.dtype.type(ret / rcount)\n"
     ]
    },
    {
     "name": "stdout",
     "output_type": "stream",
     "text": [
      "Extracting amplitude features\n",
      "Creating dataframe\n",
      "Complete\n",
      "acc:  [0.634]\n",
      "Optimal H:  [3.76000000e+02 9.52868732e-02]\n",
      "Running Params: 376, 0.09528687315809325\n",
      "Normalizing amplitudes\n",
      "Truncating silences\n",
      "Truncating audio 100/500 (20%)\n",
      "Truncating audio 200/500 (40%)\n",
      "Truncating audio 300/500 (60%)\n",
      "Truncating audio 400/500 (80%)\n",
      "Truncating audio 500/500 (100%)\n",
      "Extracting pauses\n",
      "Extracting pause spreads\n"
     ]
    },
    {
     "name": "stderr",
     "output_type": "stream",
     "text": [
      "/home/ubuntu/.local/lib/python3.8/site-packages/numpy/core/_methods.py:265: RuntimeWarning: Degrees of freedom <= 0 for slice\n",
      "  ret = _var(a, axis=axis, dtype=dtype, out=out, ddof=ddof,\n",
      "/home/ubuntu/.local/lib/python3.8/site-packages/numpy/core/_methods.py:223: RuntimeWarning: invalid value encountered in divide\n",
      "  arrmean = um.true_divide(arrmean, div, out=arrmean, casting='unsafe',\n",
      "/home/ubuntu/.local/lib/python3.8/site-packages/numpy/core/_methods.py:257: RuntimeWarning: invalid value encountered in double_scalars\n",
      "  ret = ret.dtype.type(ret / rcount)\n",
      "/home/ubuntu/.local/lib/python3.8/site-packages/numpy/core/fromnumeric.py:3432: RuntimeWarning: Mean of empty slice.\n",
      "  return _methods._mean(a, axis=axis, dtype=dtype,\n",
      "/home/ubuntu/.local/lib/python3.8/site-packages/numpy/core/_methods.py:190: RuntimeWarning: invalid value encountered in double_scalars\n",
      "  ret = ret.dtype.type(ret / rcount)\n"
     ]
    },
    {
     "name": "stdout",
     "output_type": "stream",
     "text": [
      "Extracting amplitude features\n",
      "Creating dataframe\n",
      "Complete\n",
      "acc:  [0.62]\n",
      "Optimal H:  [3.74000000e+02 5.44746743e-02]\n",
      "Running Params: 374, 0.05447467430545005\n",
      "Normalizing amplitudes\n",
      "Truncating silences\n",
      "Truncating audio 100/500 (20%)\n",
      "Truncating audio 200/500 (40%)\n",
      "Truncating audio 300/500 (60%)\n",
      "Truncating audio 400/500 (80%)\n",
      "Truncating audio 500/500 (100%)\n",
      "Extracting pauses\n",
      "Extracting pause spreads\n"
     ]
    },
    {
     "name": "stderr",
     "output_type": "stream",
     "text": [
      "/home/ubuntu/.local/lib/python3.8/site-packages/numpy/core/_methods.py:265: RuntimeWarning: Degrees of freedom <= 0 for slice\n",
      "  ret = _var(a, axis=axis, dtype=dtype, out=out, ddof=ddof,\n",
      "/home/ubuntu/.local/lib/python3.8/site-packages/numpy/core/_methods.py:223: RuntimeWarning: invalid value encountered in divide\n",
      "  arrmean = um.true_divide(arrmean, div, out=arrmean, casting='unsafe',\n",
      "/home/ubuntu/.local/lib/python3.8/site-packages/numpy/core/_methods.py:257: RuntimeWarning: invalid value encountered in double_scalars\n",
      "  ret = ret.dtype.type(ret / rcount)\n",
      "/home/ubuntu/.local/lib/python3.8/site-packages/numpy/core/fromnumeric.py:3432: RuntimeWarning: Mean of empty slice.\n",
      "  return _methods._mean(a, axis=axis, dtype=dtype,\n",
      "/home/ubuntu/.local/lib/python3.8/site-packages/numpy/core/_methods.py:190: RuntimeWarning: invalid value encountered in double_scalars\n",
      "  ret = ret.dtype.type(ret / rcount)\n"
     ]
    },
    {
     "name": "stdout",
     "output_type": "stream",
     "text": [
      "Extracting amplitude features\n",
      "Creating dataframe\n",
      "Complete\n",
      "acc:  [0.652]\n",
      "Optimal H:  [4.05000000e+02 7.41276012e-02]\n",
      "Running Params: 405, 0.07412760116356468\n",
      "Normalizing amplitudes\n",
      "Truncating silences\n",
      "Truncating audio 100/500 (20%)\n",
      "Truncating audio 200/500 (40%)\n",
      "Truncating audio 300/500 (60%)\n",
      "Truncating audio 400/500 (80%)\n",
      "Truncating audio 500/500 (100%)\n",
      "Extracting pauses\n",
      "Extracting pause spreads\n"
     ]
    },
    {
     "name": "stderr",
     "output_type": "stream",
     "text": [
      "/home/ubuntu/.local/lib/python3.8/site-packages/numpy/core/_methods.py:265: RuntimeWarning: Degrees of freedom <= 0 for slice\n",
      "  ret = _var(a, axis=axis, dtype=dtype, out=out, ddof=ddof,\n",
      "/home/ubuntu/.local/lib/python3.8/site-packages/numpy/core/_methods.py:223: RuntimeWarning: invalid value encountered in divide\n",
      "  arrmean = um.true_divide(arrmean, div, out=arrmean, casting='unsafe',\n",
      "/home/ubuntu/.local/lib/python3.8/site-packages/numpy/core/_methods.py:257: RuntimeWarning: invalid value encountered in double_scalars\n",
      "  ret = ret.dtype.type(ret / rcount)\n",
      "/home/ubuntu/.local/lib/python3.8/site-packages/numpy/core/fromnumeric.py:3432: RuntimeWarning: Mean of empty slice.\n",
      "  return _methods._mean(a, axis=axis, dtype=dtype,\n",
      "/home/ubuntu/.local/lib/python3.8/site-packages/numpy/core/_methods.py:190: RuntimeWarning: invalid value encountered in double_scalars\n",
      "  ret = ret.dtype.type(ret / rcount)\n"
     ]
    },
    {
     "name": "stdout",
     "output_type": "stream",
     "text": [
      "Extracting amplitude features\n",
      "Creating dataframe\n",
      "Complete\n",
      "acc:  [0.642]\n",
      "Optimal H:  [4.04000000e+02 6.90263065e-02]\n",
      "Running Params: 404, 0.06902630646258608\n",
      "Normalizing amplitudes\n",
      "Truncating silences\n",
      "Truncating audio 100/500 (20%)\n",
      "Truncating audio 200/500 (40%)\n",
      "Truncating audio 300/500 (60%)\n",
      "Truncating audio 400/500 (80%)\n",
      "Truncating audio 500/500 (100%)\n",
      "Extracting pauses\n",
      "Extracting pause spreads\n"
     ]
    },
    {
     "name": "stderr",
     "output_type": "stream",
     "text": [
      "/home/ubuntu/.local/lib/python3.8/site-packages/numpy/core/_methods.py:265: RuntimeWarning: Degrees of freedom <= 0 for slice\n",
      "  ret = _var(a, axis=axis, dtype=dtype, out=out, ddof=ddof,\n",
      "/home/ubuntu/.local/lib/python3.8/site-packages/numpy/core/_methods.py:223: RuntimeWarning: invalid value encountered in divide\n",
      "  arrmean = um.true_divide(arrmean, div, out=arrmean, casting='unsafe',\n",
      "/home/ubuntu/.local/lib/python3.8/site-packages/numpy/core/_methods.py:257: RuntimeWarning: invalid value encountered in double_scalars\n",
      "  ret = ret.dtype.type(ret / rcount)\n",
      "/home/ubuntu/.local/lib/python3.8/site-packages/numpy/core/fromnumeric.py:3432: RuntimeWarning: Mean of empty slice.\n",
      "  return _methods._mean(a, axis=axis, dtype=dtype,\n",
      "/home/ubuntu/.local/lib/python3.8/site-packages/numpy/core/_methods.py:190: RuntimeWarning: invalid value encountered in double_scalars\n",
      "  ret = ret.dtype.type(ret / rcount)\n"
     ]
    },
    {
     "name": "stdout",
     "output_type": "stream",
     "text": [
      "Extracting amplitude features\n",
      "Creating dataframe\n",
      "Complete\n",
      "acc:  [0.636]\n",
      "Optimal H:  [3.4700000e+02 6.6813724e-02]\n",
      "Running Params: 347, 0.06681372403690067\n",
      "Normalizing amplitudes\n",
      "Truncating silences\n",
      "Truncating audio 100/500 (20%)\n",
      "Truncating audio 200/500 (40%)\n",
      "Truncating audio 300/500 (60%)\n",
      "Truncating audio 400/500 (80%)\n",
      "Truncating audio 500/500 (100%)\n",
      "Extracting pauses\n",
      "Extracting pause spreads\n"
     ]
    },
    {
     "name": "stderr",
     "output_type": "stream",
     "text": [
      "/home/ubuntu/.local/lib/python3.8/site-packages/numpy/core/_methods.py:265: RuntimeWarning: Degrees of freedom <= 0 for slice\n",
      "  ret = _var(a, axis=axis, dtype=dtype, out=out, ddof=ddof,\n",
      "/home/ubuntu/.local/lib/python3.8/site-packages/numpy/core/_methods.py:223: RuntimeWarning: invalid value encountered in divide\n",
      "  arrmean = um.true_divide(arrmean, div, out=arrmean, casting='unsafe',\n",
      "/home/ubuntu/.local/lib/python3.8/site-packages/numpy/core/_methods.py:257: RuntimeWarning: invalid value encountered in double_scalars\n",
      "  ret = ret.dtype.type(ret / rcount)\n",
      "/home/ubuntu/.local/lib/python3.8/site-packages/numpy/core/fromnumeric.py:3432: RuntimeWarning: Mean of empty slice.\n",
      "  return _methods._mean(a, axis=axis, dtype=dtype,\n",
      "/home/ubuntu/.local/lib/python3.8/site-packages/numpy/core/_methods.py:190: RuntimeWarning: invalid value encountered in double_scalars\n",
      "  ret = ret.dtype.type(ret / rcount)\n"
     ]
    },
    {
     "name": "stdout",
     "output_type": "stream",
     "text": [
      "Extracting amplitude features\n",
      "Creating dataframe\n",
      "Complete\n",
      "acc:  [0.626]\n",
      "Optimal H:  [3.46000000e+02 1.09717298e-01]\n",
      "Running Params: 346, 0.10971729757166683\n",
      "Normalizing amplitudes\n",
      "Truncating silences\n",
      "Truncating audio 100/500 (20%)\n",
      "Truncating audio 200/500 (40%)\n",
      "Truncating audio 300/500 (60%)\n",
      "Truncating audio 400/500 (80%)\n",
      "Truncating audio 500/500 (100%)\n",
      "Extracting pauses\n",
      "Extracting pause spreads\n"
     ]
    },
    {
     "name": "stderr",
     "output_type": "stream",
     "text": [
      "/home/ubuntu/.local/lib/python3.8/site-packages/numpy/core/_methods.py:265: RuntimeWarning: Degrees of freedom <= 0 for slice\n",
      "  ret = _var(a, axis=axis, dtype=dtype, out=out, ddof=ddof,\n",
      "/home/ubuntu/.local/lib/python3.8/site-packages/numpy/core/_methods.py:223: RuntimeWarning: invalid value encountered in divide\n",
      "  arrmean = um.true_divide(arrmean, div, out=arrmean, casting='unsafe',\n",
      "/home/ubuntu/.local/lib/python3.8/site-packages/numpy/core/_methods.py:257: RuntimeWarning: invalid value encountered in double_scalars\n",
      "  ret = ret.dtype.type(ret / rcount)\n",
      "/home/ubuntu/.local/lib/python3.8/site-packages/numpy/core/fromnumeric.py:3432: RuntimeWarning: Mean of empty slice.\n",
      "  return _methods._mean(a, axis=axis, dtype=dtype,\n",
      "/home/ubuntu/.local/lib/python3.8/site-packages/numpy/core/_methods.py:190: RuntimeWarning: invalid value encountered in double_scalars\n",
      "  ret = ret.dtype.type(ret / rcount)\n"
     ]
    },
    {
     "name": "stdout",
     "output_type": "stream",
     "text": [
      "Extracting amplitude features\n",
      "Creating dataframe\n",
      "Complete\n",
      "acc:  [0.602]\n",
      "Optimal H:  [3.49000000e+02 1.34313149e-02]\n",
      "Running Params: 349, 0.013431314900018712\n",
      "Normalizing amplitudes\n",
      "Truncating silences\n",
      "Truncating audio 100/500 (20%)\n",
      "Truncating audio 200/500 (40%)\n",
      "Truncating audio 300/500 (60%)\n",
      "Truncating audio 400/500 (80%)\n",
      "Truncating audio 500/500 (100%)\n",
      "Extracting pauses\n",
      "Extracting pause spreads\n"
     ]
    },
    {
     "name": "stderr",
     "output_type": "stream",
     "text": [
      "/home/ubuntu/.local/lib/python3.8/site-packages/numpy/core/_methods.py:265: RuntimeWarning: Degrees of freedom <= 0 for slice\n",
      "  ret = _var(a, axis=axis, dtype=dtype, out=out, ddof=ddof,\n",
      "/home/ubuntu/.local/lib/python3.8/site-packages/numpy/core/_methods.py:223: RuntimeWarning: invalid value encountered in divide\n",
      "  arrmean = um.true_divide(arrmean, div, out=arrmean, casting='unsafe',\n",
      "/home/ubuntu/.local/lib/python3.8/site-packages/numpy/core/_methods.py:257: RuntimeWarning: invalid value encountered in double_scalars\n",
      "  ret = ret.dtype.type(ret / rcount)\n",
      "/home/ubuntu/.local/lib/python3.8/site-packages/numpy/core/fromnumeric.py:3432: RuntimeWarning: Mean of empty slice.\n",
      "  return _methods._mean(a, axis=axis, dtype=dtype,\n",
      "/home/ubuntu/.local/lib/python3.8/site-packages/numpy/core/_methods.py:190: RuntimeWarning: invalid value encountered in double_scalars\n",
      "  ret = ret.dtype.type(ret / rcount)\n"
     ]
    },
    {
     "name": "stdout",
     "output_type": "stream",
     "text": [
      "Extracting amplitude features\n",
      "Creating dataframe\n",
      "Complete\n",
      "acc:  [0.64]\n",
      "Optimal H:  [3.48000000e+02 8.88474047e-02]\n",
      "Running Params: 348, 0.08884740467772925\n",
      "Normalizing amplitudes\n",
      "Truncating silences\n",
      "Truncating audio 100/500 (20%)\n",
      "Truncating audio 200/500 (40%)\n",
      "Truncating audio 300/500 (60%)\n",
      "Truncating audio 400/500 (80%)\n",
      "Truncating audio 500/500 (100%)\n",
      "Extracting pauses\n",
      "Extracting pause spreads\n"
     ]
    },
    {
     "name": "stderr",
     "output_type": "stream",
     "text": [
      "/home/ubuntu/.local/lib/python3.8/site-packages/numpy/core/_methods.py:265: RuntimeWarning: Degrees of freedom <= 0 for slice\n",
      "  ret = _var(a, axis=axis, dtype=dtype, out=out, ddof=ddof,\n",
      "/home/ubuntu/.local/lib/python3.8/site-packages/numpy/core/_methods.py:223: RuntimeWarning: invalid value encountered in divide\n",
      "  arrmean = um.true_divide(arrmean, div, out=arrmean, casting='unsafe',\n",
      "/home/ubuntu/.local/lib/python3.8/site-packages/numpy/core/_methods.py:257: RuntimeWarning: invalid value encountered in double_scalars\n",
      "  ret = ret.dtype.type(ret / rcount)\n",
      "/home/ubuntu/.local/lib/python3.8/site-packages/numpy/core/fromnumeric.py:3432: RuntimeWarning: Mean of empty slice.\n",
      "  return _methods._mean(a, axis=axis, dtype=dtype,\n",
      "/home/ubuntu/.local/lib/python3.8/site-packages/numpy/core/_methods.py:190: RuntimeWarning: invalid value encountered in double_scalars\n",
      "  ret = ret.dtype.type(ret / rcount)\n"
     ]
    },
    {
     "name": "stdout",
     "output_type": "stream",
     "text": [
      "Extracting amplitude features\n",
      "Creating dataframe\n",
      "Complete\n",
      "acc:  [0.6]\n",
      "Optimal H:  [3.54000000e+02 1.36953302e-02]\n",
      "Running Params: 354, 0.013695330172988171\n",
      "Normalizing amplitudes\n",
      "Truncating silences\n",
      "Truncating audio 100/500 (20%)\n",
      "Truncating audio 200/500 (40%)\n",
      "Truncating audio 300/500 (60%)\n",
      "Truncating audio 400/500 (80%)\n",
      "Truncating audio 500/500 (100%)\n",
      "Extracting pauses\n",
      "Extracting pause spreads\n"
     ]
    },
    {
     "name": "stderr",
     "output_type": "stream",
     "text": [
      "/home/ubuntu/.local/lib/python3.8/site-packages/numpy/core/_methods.py:265: RuntimeWarning: Degrees of freedom <= 0 for slice\n",
      "  ret = _var(a, axis=axis, dtype=dtype, out=out, ddof=ddof,\n",
      "/home/ubuntu/.local/lib/python3.8/site-packages/numpy/core/_methods.py:223: RuntimeWarning: invalid value encountered in divide\n",
      "  arrmean = um.true_divide(arrmean, div, out=arrmean, casting='unsafe',\n",
      "/home/ubuntu/.local/lib/python3.8/site-packages/numpy/core/_methods.py:257: RuntimeWarning: invalid value encountered in double_scalars\n",
      "  ret = ret.dtype.type(ret / rcount)\n",
      "/home/ubuntu/.local/lib/python3.8/site-packages/numpy/core/fromnumeric.py:3432: RuntimeWarning: Mean of empty slice.\n",
      "  return _methods._mean(a, axis=axis, dtype=dtype,\n",
      "/home/ubuntu/.local/lib/python3.8/site-packages/numpy/core/_methods.py:190: RuntimeWarning: invalid value encountered in double_scalars\n",
      "  ret = ret.dtype.type(ret / rcount)\n"
     ]
    },
    {
     "name": "stdout",
     "output_type": "stream",
     "text": [
      "Extracting amplitude features\n",
      "Creating dataframe\n",
      "Complete\n",
      "acc:  [0.618]\n",
      "Optimal H:  [3.5300000e+02 9.9767165e-02]\n",
      "Running Params: 353, 0.09976716495621127\n",
      "Normalizing amplitudes\n",
      "Truncating silences\n",
      "Truncating audio 100/500 (20%)\n",
      "Truncating audio 200/500 (40%)\n",
      "Truncating audio 300/500 (60%)\n",
      "Truncating audio 400/500 (80%)\n",
      "Truncating audio 500/500 (100%)\n",
      "Extracting pauses\n",
      "Extracting pause spreads\n"
     ]
    },
    {
     "name": "stderr",
     "output_type": "stream",
     "text": [
      "/home/ubuntu/.local/lib/python3.8/site-packages/numpy/core/_methods.py:265: RuntimeWarning: Degrees of freedom <= 0 for slice\n",
      "  ret = _var(a, axis=axis, dtype=dtype, out=out, ddof=ddof,\n",
      "/home/ubuntu/.local/lib/python3.8/site-packages/numpy/core/_methods.py:223: RuntimeWarning: invalid value encountered in divide\n",
      "  arrmean = um.true_divide(arrmean, div, out=arrmean, casting='unsafe',\n",
      "/home/ubuntu/.local/lib/python3.8/site-packages/numpy/core/_methods.py:257: RuntimeWarning: invalid value encountered in double_scalars\n",
      "  ret = ret.dtype.type(ret / rcount)\n",
      "/home/ubuntu/.local/lib/python3.8/site-packages/numpy/core/fromnumeric.py:3432: RuntimeWarning: Mean of empty slice.\n",
      "  return _methods._mean(a, axis=axis, dtype=dtype,\n",
      "/home/ubuntu/.local/lib/python3.8/site-packages/numpy/core/_methods.py:190: RuntimeWarning: invalid value encountered in double_scalars\n",
      "  ret = ret.dtype.type(ret / rcount)\n"
     ]
    },
    {
     "name": "stdout",
     "output_type": "stream",
     "text": [
      "Extracting amplitude features\n",
      "Creating dataframe\n",
      "Complete\n",
      "acc:  [0.66]\n",
      "Optimal H:  [3.0200000e+02 6.8560598e-02]\n",
      "Running Params: 302, 0.06856059800082105\n",
      "Normalizing amplitudes\n",
      "Truncating silences\n",
      "Truncating audio 100/500 (20%)\n",
      "Truncating audio 200/500 (40%)\n",
      "Truncating audio 300/500 (60%)\n",
      "Truncating audio 400/500 (80%)\n",
      "Truncating audio 500/500 (100%)\n",
      "Extracting pauses\n",
      "Extracting pause spreads\n"
     ]
    },
    {
     "name": "stderr",
     "output_type": "stream",
     "text": [
      "/home/ubuntu/.local/lib/python3.8/site-packages/numpy/core/_methods.py:265: RuntimeWarning: Degrees of freedom <= 0 for slice\n",
      "  ret = _var(a, axis=axis, dtype=dtype, out=out, ddof=ddof,\n",
      "/home/ubuntu/.local/lib/python3.8/site-packages/numpy/core/_methods.py:223: RuntimeWarning: invalid value encountered in divide\n",
      "  arrmean = um.true_divide(arrmean, div, out=arrmean, casting='unsafe',\n",
      "/home/ubuntu/.local/lib/python3.8/site-packages/numpy/core/_methods.py:257: RuntimeWarning: invalid value encountered in double_scalars\n",
      "  ret = ret.dtype.type(ret / rcount)\n",
      "/home/ubuntu/.local/lib/python3.8/site-packages/numpy/core/fromnumeric.py:3432: RuntimeWarning: Mean of empty slice.\n",
      "  return _methods._mean(a, axis=axis, dtype=dtype,\n",
      "/home/ubuntu/.local/lib/python3.8/site-packages/numpy/core/_methods.py:190: RuntimeWarning: invalid value encountered in double_scalars\n",
      "  ret = ret.dtype.type(ret / rcount)\n"
     ]
    },
    {
     "name": "stdout",
     "output_type": "stream",
     "text": [
      "Extracting amplitude features\n",
      "Creating dataframe\n",
      "Complete\n",
      "acc:  [0.63]\n",
      "Optimal H:  [3.01000000e+02 8.77584584e-02]\n",
      "Running Params: 301, 0.08775845839565652\n",
      "Normalizing amplitudes\n",
      "Truncating silences\n",
      "Truncating audio 100/500 (20%)\n",
      "Truncating audio 200/500 (40%)\n",
      "Truncating audio 300/500 (60%)\n",
      "Truncating audio 400/500 (80%)\n",
      "Truncating audio 500/500 (100%)\n",
      "Extracting pauses\n",
      "Extracting pause spreads\n"
     ]
    },
    {
     "name": "stderr",
     "output_type": "stream",
     "text": [
      "/home/ubuntu/.local/lib/python3.8/site-packages/numpy/core/_methods.py:265: RuntimeWarning: Degrees of freedom <= 0 for slice\n",
      "  ret = _var(a, axis=axis, dtype=dtype, out=out, ddof=ddof,\n",
      "/home/ubuntu/.local/lib/python3.8/site-packages/numpy/core/_methods.py:223: RuntimeWarning: invalid value encountered in divide\n",
      "  arrmean = um.true_divide(arrmean, div, out=arrmean, casting='unsafe',\n",
      "/home/ubuntu/.local/lib/python3.8/site-packages/numpy/core/_methods.py:257: RuntimeWarning: invalid value encountered in double_scalars\n",
      "  ret = ret.dtype.type(ret / rcount)\n",
      "/home/ubuntu/.local/lib/python3.8/site-packages/numpy/core/fromnumeric.py:3432: RuntimeWarning: Mean of empty slice.\n",
      "  return _methods._mean(a, axis=axis, dtype=dtype,\n",
      "/home/ubuntu/.local/lib/python3.8/site-packages/numpy/core/_methods.py:190: RuntimeWarning: invalid value encountered in double_scalars\n",
      "  ret = ret.dtype.type(ret / rcount)\n"
     ]
    },
    {
     "name": "stdout",
     "output_type": "stream",
     "text": [
      "Extracting amplitude features\n",
      "Creating dataframe\n",
      "Complete\n",
      "acc:  [0.612]\n",
      "Optimal H:  [3.04000000e+02 5.70235791e-02]\n",
      "Running Params: 304, 0.05702357911306756\n",
      "Normalizing amplitudes\n",
      "Truncating silences\n",
      "Truncating audio 100/500 (20%)\n",
      "Truncating audio 200/500 (40%)\n",
      "Truncating audio 300/500 (60%)\n",
      "Truncating audio 400/500 (80%)\n",
      "Truncating audio 500/500 (100%)\n",
      "Extracting pauses\n",
      "Extracting pause spreads\n"
     ]
    },
    {
     "name": "stderr",
     "output_type": "stream",
     "text": [
      "/home/ubuntu/.local/lib/python3.8/site-packages/numpy/core/_methods.py:265: RuntimeWarning: Degrees of freedom <= 0 for slice\n",
      "  ret = _var(a, axis=axis, dtype=dtype, out=out, ddof=ddof,\n",
      "/home/ubuntu/.local/lib/python3.8/site-packages/numpy/core/_methods.py:223: RuntimeWarning: invalid value encountered in divide\n",
      "  arrmean = um.true_divide(arrmean, div, out=arrmean, casting='unsafe',\n",
      "/home/ubuntu/.local/lib/python3.8/site-packages/numpy/core/_methods.py:257: RuntimeWarning: invalid value encountered in double_scalars\n",
      "  ret = ret.dtype.type(ret / rcount)\n",
      "/home/ubuntu/.local/lib/python3.8/site-packages/numpy/core/fromnumeric.py:3432: RuntimeWarning: Mean of empty slice.\n",
      "  return _methods._mean(a, axis=axis, dtype=dtype,\n",
      "/home/ubuntu/.local/lib/python3.8/site-packages/numpy/core/_methods.py:190: RuntimeWarning: invalid value encountered in double_scalars\n",
      "  ret = ret.dtype.type(ret / rcount)\n"
     ]
    },
    {
     "name": "stdout",
     "output_type": "stream",
     "text": [
      "Extracting amplitude features\n",
      "Creating dataframe\n",
      "Complete\n",
      "acc:  [0.652]\n",
      "Optimal H:  [3.0300000e+02 5.4476827e-03]\n",
      "Running Params: 303, 0.005447682702765987\n",
      "Normalizing amplitudes\n",
      "Truncating silences\n",
      "Truncating audio 100/500 (20%)\n",
      "Truncating audio 200/500 (40%)\n",
      "Truncating audio 300/500 (60%)\n",
      "Truncating audio 400/500 (80%)\n",
      "Truncating audio 500/500 (100%)\n",
      "Extracting pauses\n",
      "Extracting pause spreads\n"
     ]
    },
    {
     "name": "stderr",
     "output_type": "stream",
     "text": [
      "/home/ubuntu/.local/lib/python3.8/site-packages/numpy/core/_methods.py:265: RuntimeWarning: Degrees of freedom <= 0 for slice\n",
      "  ret = _var(a, axis=axis, dtype=dtype, out=out, ddof=ddof,\n",
      "/home/ubuntu/.local/lib/python3.8/site-packages/numpy/core/_methods.py:223: RuntimeWarning: invalid value encountered in divide\n",
      "  arrmean = um.true_divide(arrmean, div, out=arrmean, casting='unsafe',\n",
      "/home/ubuntu/.local/lib/python3.8/site-packages/numpy/core/_methods.py:257: RuntimeWarning: invalid value encountered in double_scalars\n",
      "  ret = ret.dtype.type(ret / rcount)\n",
      "/home/ubuntu/.local/lib/python3.8/site-packages/numpy/core/fromnumeric.py:3432: RuntimeWarning: Mean of empty slice.\n",
      "  return _methods._mean(a, axis=axis, dtype=dtype,\n",
      "/home/ubuntu/.local/lib/python3.8/site-packages/numpy/core/_methods.py:190: RuntimeWarning: invalid value encountered in double_scalars\n",
      "  ret = ret.dtype.type(ret / rcount)\n"
     ]
    },
    {
     "name": "stdout",
     "output_type": "stream",
     "text": [
      "Extracting amplitude features\n",
      "Creating dataframe\n",
      "Complete\n",
      "acc:  [0.63]\n",
      "Optimal H:  [3.0600000e+02 5.0504024e-02]\n",
      "Running Params: 306, 0.05050402403893538\n",
      "Normalizing amplitudes\n",
      "Truncating silences\n",
      "Truncating audio 100/500 (20%)\n",
      "Truncating audio 200/500 (40%)\n",
      "Truncating audio 300/500 (60%)\n",
      "Truncating audio 400/500 (80%)\n",
      "Truncating audio 500/500 (100%)\n",
      "Extracting pauses\n",
      "Extracting pause spreads\n"
     ]
    },
    {
     "name": "stderr",
     "output_type": "stream",
     "text": [
      "/home/ubuntu/.local/lib/python3.8/site-packages/numpy/core/_methods.py:265: RuntimeWarning: Degrees of freedom <= 0 for slice\n",
      "  ret = _var(a, axis=axis, dtype=dtype, out=out, ddof=ddof,\n",
      "/home/ubuntu/.local/lib/python3.8/site-packages/numpy/core/_methods.py:223: RuntimeWarning: invalid value encountered in divide\n",
      "  arrmean = um.true_divide(arrmean, div, out=arrmean, casting='unsafe',\n",
      "/home/ubuntu/.local/lib/python3.8/site-packages/numpy/core/_methods.py:257: RuntimeWarning: invalid value encountered in double_scalars\n",
      "  ret = ret.dtype.type(ret / rcount)\n",
      "/home/ubuntu/.local/lib/python3.8/site-packages/numpy/core/fromnumeric.py:3432: RuntimeWarning: Mean of empty slice.\n",
      "  return _methods._mean(a, axis=axis, dtype=dtype,\n",
      "/home/ubuntu/.local/lib/python3.8/site-packages/numpy/core/_methods.py:190: RuntimeWarning: invalid value encountered in double_scalars\n",
      "  ret = ret.dtype.type(ret / rcount)\n"
     ]
    },
    {
     "name": "stdout",
     "output_type": "stream",
     "text": [
      "Extracting amplitude features\n",
      "Creating dataframe\n",
      "Complete\n",
      "acc:  [0.606]\n",
      "Optimal H:  [3.05000000e+02 1.32048459e-01]\n",
      "Running Params: 305, 0.13204845878202454\n",
      "Normalizing amplitudes\n",
      "Truncating silences\n",
      "Truncating audio 100/500 (20%)\n",
      "Truncating audio 200/500 (40%)\n",
      "Truncating audio 300/500 (60%)\n",
      "Truncating audio 400/500 (80%)\n",
      "Truncating audio 500/500 (100%)\n",
      "Extracting pauses\n",
      "Extracting pause spreads\n"
     ]
    },
    {
     "name": "stderr",
     "output_type": "stream",
     "text": [
      "/home/ubuntu/.local/lib/python3.8/site-packages/numpy/core/_methods.py:265: RuntimeWarning: Degrees of freedom <= 0 for slice\n",
      "  ret = _var(a, axis=axis, dtype=dtype, out=out, ddof=ddof,\n",
      "/home/ubuntu/.local/lib/python3.8/site-packages/numpy/core/_methods.py:223: RuntimeWarning: invalid value encountered in divide\n",
      "  arrmean = um.true_divide(arrmean, div, out=arrmean, casting='unsafe',\n",
      "/home/ubuntu/.local/lib/python3.8/site-packages/numpy/core/_methods.py:257: RuntimeWarning: invalid value encountered in double_scalars\n",
      "  ret = ret.dtype.type(ret / rcount)\n",
      "/home/ubuntu/.local/lib/python3.8/site-packages/numpy/core/fromnumeric.py:3432: RuntimeWarning: Mean of empty slice.\n",
      "  return _methods._mean(a, axis=axis, dtype=dtype,\n",
      "/home/ubuntu/.local/lib/python3.8/site-packages/numpy/core/_methods.py:190: RuntimeWarning: invalid value encountered in double_scalars\n",
      "  ret = ret.dtype.type(ret / rcount)\n"
     ]
    },
    {
     "name": "stdout",
     "output_type": "stream",
     "text": [
      "Extracting amplitude features\n",
      "Creating dataframe\n",
      "Complete\n",
      "acc:  [0.626]\n",
      "Optimal H:  [2.72000000e+02 5.95666872e-02]\n",
      "Running Params: 272, 0.05956668724044529\n",
      "Normalizing amplitudes\n",
      "Truncating silences\n",
      "Truncating audio 100/500 (20%)\n",
      "Truncating audio 200/500 (40%)\n",
      "Truncating audio 300/500 (60%)\n",
      "Truncating audio 400/500 (80%)\n",
      "Truncating audio 500/500 (100%)\n",
      "Extracting pauses\n",
      "Extracting pause spreads\n"
     ]
    },
    {
     "name": "stderr",
     "output_type": "stream",
     "text": [
      "/home/ubuntu/.local/lib/python3.8/site-packages/numpy/core/_methods.py:265: RuntimeWarning: Degrees of freedom <= 0 for slice\n",
      "  ret = _var(a, axis=axis, dtype=dtype, out=out, ddof=ddof,\n",
      "/home/ubuntu/.local/lib/python3.8/site-packages/numpy/core/_methods.py:223: RuntimeWarning: invalid value encountered in divide\n",
      "  arrmean = um.true_divide(arrmean, div, out=arrmean, casting='unsafe',\n",
      "/home/ubuntu/.local/lib/python3.8/site-packages/numpy/core/_methods.py:257: RuntimeWarning: invalid value encountered in double_scalars\n",
      "  ret = ret.dtype.type(ret / rcount)\n",
      "/home/ubuntu/.local/lib/python3.8/site-packages/numpy/core/fromnumeric.py:3432: RuntimeWarning: Mean of empty slice.\n",
      "  return _methods._mean(a, axis=axis, dtype=dtype,\n",
      "/home/ubuntu/.local/lib/python3.8/site-packages/numpy/core/_methods.py:190: RuntimeWarning: invalid value encountered in double_scalars\n",
      "  ret = ret.dtype.type(ret / rcount)\n"
     ]
    },
    {
     "name": "stdout",
     "output_type": "stream",
     "text": [
      "Extracting amplitude features\n",
      "Creating dataframe\n",
      "Complete\n",
      "acc:  [0.644]\n",
      "Optimal H:  [2.69000000e+02 5.54224404e-02]\n",
      "Running Params: 269, 0.05542244035647768\n",
      "Normalizing amplitudes\n",
      "Truncating silences\n",
      "Truncating audio 100/500 (20%)\n",
      "Truncating audio 200/500 (40%)\n",
      "Truncating audio 300/500 (60%)\n",
      "Truncating audio 400/500 (80%)\n",
      "Truncating audio 500/500 (100%)\n",
      "Extracting pauses\n",
      "Extracting pause spreads\n"
     ]
    },
    {
     "name": "stderr",
     "output_type": "stream",
     "text": [
      "/home/ubuntu/.local/lib/python3.8/site-packages/numpy/core/_methods.py:265: RuntimeWarning: Degrees of freedom <= 0 for slice\n",
      "  ret = _var(a, axis=axis, dtype=dtype, out=out, ddof=ddof,\n",
      "/home/ubuntu/.local/lib/python3.8/site-packages/numpy/core/_methods.py:223: RuntimeWarning: invalid value encountered in divide\n",
      "  arrmean = um.true_divide(arrmean, div, out=arrmean, casting='unsafe',\n",
      "/home/ubuntu/.local/lib/python3.8/site-packages/numpy/core/_methods.py:257: RuntimeWarning: invalid value encountered in double_scalars\n",
      "  ret = ret.dtype.type(ret / rcount)\n",
      "/home/ubuntu/.local/lib/python3.8/site-packages/numpy/core/fromnumeric.py:3432: RuntimeWarning: Mean of empty slice.\n",
      "  return _methods._mean(a, axis=axis, dtype=dtype,\n",
      "/home/ubuntu/.local/lib/python3.8/site-packages/numpy/core/_methods.py:190: RuntimeWarning: invalid value encountered in double_scalars\n",
      "  ret = ret.dtype.type(ret / rcount)\n"
     ]
    },
    {
     "name": "stdout",
     "output_type": "stream",
     "text": [
      "Extracting amplitude features\n",
      "Creating dataframe\n",
      "Complete\n",
      "acc:  [0.634]\n",
      "Optimal H:  [2.70000000e+02 3.98357059e-02]\n",
      "Running Params: 270, 0.0398357059210018\n",
      "Normalizing amplitudes\n",
      "Truncating silences\n",
      "Truncating audio 100/500 (20%)\n",
      "Truncating audio 200/500 (40%)\n",
      "Truncating audio 300/500 (60%)\n",
      "Truncating audio 400/500 (80%)\n",
      "Truncating audio 500/500 (100%)\n",
      "Extracting pauses\n",
      "Extracting pause spreads\n"
     ]
    },
    {
     "name": "stderr",
     "output_type": "stream",
     "text": [
      "/home/ubuntu/.local/lib/python3.8/site-packages/numpy/core/_methods.py:265: RuntimeWarning: Degrees of freedom <= 0 for slice\n",
      "  ret = _var(a, axis=axis, dtype=dtype, out=out, ddof=ddof,\n",
      "/home/ubuntu/.local/lib/python3.8/site-packages/numpy/core/_methods.py:223: RuntimeWarning: invalid value encountered in divide\n",
      "  arrmean = um.true_divide(arrmean, div, out=arrmean, casting='unsafe',\n",
      "/home/ubuntu/.local/lib/python3.8/site-packages/numpy/core/_methods.py:257: RuntimeWarning: invalid value encountered in double_scalars\n",
      "  ret = ret.dtype.type(ret / rcount)\n",
      "/home/ubuntu/.local/lib/python3.8/site-packages/numpy/core/fromnumeric.py:3432: RuntimeWarning: Mean of empty slice.\n",
      "  return _methods._mean(a, axis=axis, dtype=dtype,\n",
      "/home/ubuntu/.local/lib/python3.8/site-packages/numpy/core/_methods.py:190: RuntimeWarning: invalid value encountered in double_scalars\n",
      "  ret = ret.dtype.type(ret / rcount)\n"
     ]
    },
    {
     "name": "stdout",
     "output_type": "stream",
     "text": [
      "Extracting amplitude features\n",
      "Creating dataframe\n",
      "Complete\n",
      "acc:  [0.626]\n",
      "Optimal H:  [2.67000000e+02 5.00485142e-02]\n",
      "Running Params: 267, 0.05004851417668016\n",
      "Normalizing amplitudes\n",
      "Truncating silences\n",
      "Truncating audio 100/500 (20%)\n",
      "Truncating audio 200/500 (40%)\n",
      "Truncating audio 300/500 (60%)\n",
      "Truncating audio 400/500 (80%)\n",
      "Truncating audio 500/500 (100%)\n",
      "Extracting pauses\n",
      "Extracting pause spreads\n"
     ]
    },
    {
     "name": "stderr",
     "output_type": "stream",
     "text": [
      "/home/ubuntu/.local/lib/python3.8/site-packages/numpy/core/_methods.py:265: RuntimeWarning: Degrees of freedom <= 0 for slice\n",
      "  ret = _var(a, axis=axis, dtype=dtype, out=out, ddof=ddof,\n",
      "/home/ubuntu/.local/lib/python3.8/site-packages/numpy/core/_methods.py:223: RuntimeWarning: invalid value encountered in divide\n",
      "  arrmean = um.true_divide(arrmean, div, out=arrmean, casting='unsafe',\n",
      "/home/ubuntu/.local/lib/python3.8/site-packages/numpy/core/_methods.py:257: RuntimeWarning: invalid value encountered in double_scalars\n",
      "  ret = ret.dtype.type(ret / rcount)\n",
      "/home/ubuntu/.local/lib/python3.8/site-packages/numpy/core/fromnumeric.py:3432: RuntimeWarning: Mean of empty slice.\n",
      "  return _methods._mean(a, axis=axis, dtype=dtype,\n",
      "/home/ubuntu/.local/lib/python3.8/site-packages/numpy/core/_methods.py:190: RuntimeWarning: invalid value encountered in double_scalars\n",
      "  ret = ret.dtype.type(ret / rcount)\n"
     ]
    },
    {
     "name": "stdout",
     "output_type": "stream",
     "text": [
      "Extracting amplitude features\n",
      "Creating dataframe\n",
      "Complete\n",
      "acc:  [0.648]\n",
      "Optimal H:  [2.68000000e+02 1.83954818e-02]\n",
      "Running Params: 268, 0.01839548182875214\n",
      "Normalizing amplitudes\n",
      "Truncating silences\n",
      "Truncating audio 100/500 (20%)\n",
      "Truncating audio 200/500 (40%)\n",
      "Truncating audio 300/500 (60%)\n",
      "Truncating audio 400/500 (80%)\n",
      "Truncating audio 500/500 (100%)\n",
      "Extracting pauses\n",
      "Extracting pause spreads\n"
     ]
    },
    {
     "name": "stderr",
     "output_type": "stream",
     "text": [
      "/home/ubuntu/.local/lib/python3.8/site-packages/numpy/core/_methods.py:265: RuntimeWarning: Degrees of freedom <= 0 for slice\n",
      "  ret = _var(a, axis=axis, dtype=dtype, out=out, ddof=ddof,\n",
      "/home/ubuntu/.local/lib/python3.8/site-packages/numpy/core/_methods.py:223: RuntimeWarning: invalid value encountered in divide\n",
      "  arrmean = um.true_divide(arrmean, div, out=arrmean, casting='unsafe',\n",
      "/home/ubuntu/.local/lib/python3.8/site-packages/numpy/core/_methods.py:257: RuntimeWarning: invalid value encountered in double_scalars\n",
      "  ret = ret.dtype.type(ret / rcount)\n",
      "/home/ubuntu/.local/lib/python3.8/site-packages/numpy/core/fromnumeric.py:3432: RuntimeWarning: Mean of empty slice.\n",
      "  return _methods._mean(a, axis=axis, dtype=dtype,\n",
      "/home/ubuntu/.local/lib/python3.8/site-packages/numpy/core/_methods.py:190: RuntimeWarning: invalid value encountered in double_scalars\n",
      "  ret = ret.dtype.type(ret / rcount)\n"
     ]
    },
    {
     "name": "stdout",
     "output_type": "stream",
     "text": [
      "Extracting amplitude features\n",
      "Creating dataframe\n",
      "Complete\n",
      "acc:  [0.648]\n",
      "Optimal H:  [2.65000000e+02 4.25428977e-02]\n",
      "Running Params: 265, 0.04254289772691583\n",
      "Normalizing amplitudes\n",
      "Truncating silences\n",
      "Truncating audio 100/500 (20%)\n",
      "Truncating audio 200/500 (40%)\n",
      "Truncating audio 300/500 (60%)\n",
      "Truncating audio 400/500 (80%)\n",
      "Truncating audio 500/500 (100%)\n",
      "Extracting pauses\n",
      "Extracting pause spreads\n"
     ]
    },
    {
     "name": "stderr",
     "output_type": "stream",
     "text": [
      "/home/ubuntu/.local/lib/python3.8/site-packages/numpy/core/_methods.py:265: RuntimeWarning: Degrees of freedom <= 0 for slice\n",
      "  ret = _var(a, axis=axis, dtype=dtype, out=out, ddof=ddof,\n",
      "/home/ubuntu/.local/lib/python3.8/site-packages/numpy/core/_methods.py:223: RuntimeWarning: invalid value encountered in divide\n",
      "  arrmean = um.true_divide(arrmean, div, out=arrmean, casting='unsafe',\n",
      "/home/ubuntu/.local/lib/python3.8/site-packages/numpy/core/_methods.py:257: RuntimeWarning: invalid value encountered in double_scalars\n",
      "  ret = ret.dtype.type(ret / rcount)\n",
      "/home/ubuntu/.local/lib/python3.8/site-packages/numpy/core/fromnumeric.py:3432: RuntimeWarning: Mean of empty slice.\n",
      "  return _methods._mean(a, axis=axis, dtype=dtype,\n",
      "/home/ubuntu/.local/lib/python3.8/site-packages/numpy/core/_methods.py:190: RuntimeWarning: invalid value encountered in double_scalars\n",
      "  ret = ret.dtype.type(ret / rcount)\n"
     ]
    },
    {
     "name": "stdout",
     "output_type": "stream",
     "text": [
      "Extracting amplitude features\n",
      "Creating dataframe\n",
      "Complete\n",
      "acc:  [0.624]\n",
      "Optimal H:  [2.66000000e+02 1.18748199e-01]\n",
      "Running Params: 266, 0.11874819918370023\n",
      "Normalizing amplitudes\n",
      "Truncating silences\n",
      "Truncating audio 100/500 (20%)\n",
      "Truncating audio 200/500 (40%)\n",
      "Truncating audio 300/500 (60%)\n",
      "Truncating audio 400/500 (80%)\n",
      "Truncating audio 500/500 (100%)\n",
      "Extracting pauses\n",
      "Extracting pause spreads\n"
     ]
    },
    {
     "name": "stderr",
     "output_type": "stream",
     "text": [
      "/home/ubuntu/.local/lib/python3.8/site-packages/numpy/core/_methods.py:265: RuntimeWarning: Degrees of freedom <= 0 for slice\n",
      "  ret = _var(a, axis=axis, dtype=dtype, out=out, ddof=ddof,\n",
      "/home/ubuntu/.local/lib/python3.8/site-packages/numpy/core/_methods.py:223: RuntimeWarning: invalid value encountered in divide\n",
      "  arrmean = um.true_divide(arrmean, div, out=arrmean, casting='unsafe',\n",
      "/home/ubuntu/.local/lib/python3.8/site-packages/numpy/core/_methods.py:257: RuntimeWarning: invalid value encountered in double_scalars\n",
      "  ret = ret.dtype.type(ret / rcount)\n",
      "/home/ubuntu/.local/lib/python3.8/site-packages/numpy/core/fromnumeric.py:3432: RuntimeWarning: Mean of empty slice.\n",
      "  return _methods._mean(a, axis=axis, dtype=dtype,\n",
      "/home/ubuntu/.local/lib/python3.8/site-packages/numpy/core/_methods.py:190: RuntimeWarning: invalid value encountered in double_scalars\n",
      "  ret = ret.dtype.type(ret / rcount)\n"
     ]
    },
    {
     "name": "stdout",
     "output_type": "stream",
     "text": [
      "Extracting amplitude features\n",
      "Creating dataframe\n",
      "Complete\n",
      "acc:  [0.654]\n",
      "Optimal H:  [3.08000000e+02 6.33895733e-02]\n",
      "Running Params: 308, 0.06338957334325716\n",
      "Normalizing amplitudes\n",
      "Truncating silences\n",
      "Truncating audio 100/500 (20%)\n",
      "Truncating audio 200/500 (40%)\n",
      "Truncating audio 300/500 (60%)\n",
      "Truncating audio 400/500 (80%)\n",
      "Truncating audio 500/500 (100%)\n",
      "Extracting pauses\n",
      "Extracting pause spreads\n"
     ]
    },
    {
     "name": "stderr",
     "output_type": "stream",
     "text": [
      "/home/ubuntu/.local/lib/python3.8/site-packages/numpy/core/_methods.py:265: RuntimeWarning: Degrees of freedom <= 0 for slice\n",
      "  ret = _var(a, axis=axis, dtype=dtype, out=out, ddof=ddof,\n",
      "/home/ubuntu/.local/lib/python3.8/site-packages/numpy/core/_methods.py:223: RuntimeWarning: invalid value encountered in divide\n",
      "  arrmean = um.true_divide(arrmean, div, out=arrmean, casting='unsafe',\n",
      "/home/ubuntu/.local/lib/python3.8/site-packages/numpy/core/_methods.py:257: RuntimeWarning: invalid value encountered in double_scalars\n",
      "  ret = ret.dtype.type(ret / rcount)\n",
      "/home/ubuntu/.local/lib/python3.8/site-packages/numpy/core/fromnumeric.py:3432: RuntimeWarning: Mean of empty slice.\n",
      "  return _methods._mean(a, axis=axis, dtype=dtype,\n",
      "/home/ubuntu/.local/lib/python3.8/site-packages/numpy/core/_methods.py:190: RuntimeWarning: invalid value encountered in double_scalars\n",
      "  ret = ret.dtype.type(ret / rcount)\n"
     ]
    },
    {
     "name": "stdout",
     "output_type": "stream",
     "text": [
      "Extracting amplitude features\n",
      "Creating dataframe\n",
      "Complete\n",
      "acc:  [0.612]\n",
      "Optimal H:  [3.0900000e+02 1.0179351e-01]\n",
      "Running Params: 309, 0.10179350986887326\n",
      "Normalizing amplitudes\n",
      "Truncating silences\n",
      "Truncating audio 100/500 (20%)\n",
      "Truncating audio 200/500 (40%)\n",
      "Truncating audio 300/500 (60%)\n",
      "Truncating audio 400/500 (80%)\n",
      "Truncating audio 500/500 (100%)\n",
      "Extracting pauses\n",
      "Extracting pause spreads\n"
     ]
    },
    {
     "name": "stderr",
     "output_type": "stream",
     "text": [
      "/home/ubuntu/.local/lib/python3.8/site-packages/numpy/core/_methods.py:265: RuntimeWarning: Degrees of freedom <= 0 for slice\n",
      "  ret = _var(a, axis=axis, dtype=dtype, out=out, ddof=ddof,\n",
      "/home/ubuntu/.local/lib/python3.8/site-packages/numpy/core/_methods.py:223: RuntimeWarning: invalid value encountered in divide\n",
      "  arrmean = um.true_divide(arrmean, div, out=arrmean, casting='unsafe',\n",
      "/home/ubuntu/.local/lib/python3.8/site-packages/numpy/core/_methods.py:257: RuntimeWarning: invalid value encountered in double_scalars\n",
      "  ret = ret.dtype.type(ret / rcount)\n",
      "/home/ubuntu/.local/lib/python3.8/site-packages/numpy/core/fromnumeric.py:3432: RuntimeWarning: Mean of empty slice.\n",
      "  return _methods._mean(a, axis=axis, dtype=dtype,\n",
      "/home/ubuntu/.local/lib/python3.8/site-packages/numpy/core/_methods.py:190: RuntimeWarning: invalid value encountered in double_scalars\n",
      "  ret = ret.dtype.type(ret / rcount)\n"
     ]
    },
    {
     "name": "stdout",
     "output_type": "stream",
     "text": [
      "Extracting amplitude features\n",
      "Creating dataframe\n",
      "Complete\n",
      "acc:  [0.646]\n",
      "Optimal H:  [1.87e+02 5.00e-03]\n",
      "Running Params: 187, 0.005\n",
      "Normalizing amplitudes\n",
      "Truncating silences\n",
      "Truncating audio 100/500 (20%)\n",
      "Truncating audio 200/500 (40%)\n",
      "Truncating audio 300/500 (60%)\n",
      "Truncating audio 400/500 (80%)\n",
      "Truncating audio 500/500 (100%)\n",
      "Extracting pauses\n",
      "Extracting pause spreads\n"
     ]
    },
    {
     "name": "stderr",
     "output_type": "stream",
     "text": [
      "/home/ubuntu/.local/lib/python3.8/site-packages/numpy/core/_methods.py:265: RuntimeWarning: Degrees of freedom <= 0 for slice\n",
      "  ret = _var(a, axis=axis, dtype=dtype, out=out, ddof=ddof,\n",
      "/home/ubuntu/.local/lib/python3.8/site-packages/numpy/core/_methods.py:223: RuntimeWarning: invalid value encountered in divide\n",
      "  arrmean = um.true_divide(arrmean, div, out=arrmean, casting='unsafe',\n",
      "/home/ubuntu/.local/lib/python3.8/site-packages/numpy/core/_methods.py:257: RuntimeWarning: invalid value encountered in double_scalars\n",
      "  ret = ret.dtype.type(ret / rcount)\n",
      "/home/ubuntu/.local/lib/python3.8/site-packages/numpy/core/fromnumeric.py:3432: RuntimeWarning: Mean of empty slice.\n",
      "  return _methods._mean(a, axis=axis, dtype=dtype,\n",
      "/home/ubuntu/.local/lib/python3.8/site-packages/numpy/core/_methods.py:190: RuntimeWarning: invalid value encountered in double_scalars\n",
      "  ret = ret.dtype.type(ret / rcount)\n"
     ]
    },
    {
     "name": "stdout",
     "output_type": "stream",
     "text": [
      "Extracting amplitude features\n",
      "Creating dataframe\n",
      "Complete\n",
      "acc:  [0.642]\n",
      "Optimal H:  [1.89000000e+02 2.61502584e-02]\n",
      "Running Params: 189, 0.026150258355799583\n",
      "Normalizing amplitudes\n",
      "Truncating silences\n",
      "Truncating audio 100/500 (20%)\n",
      "Truncating audio 200/500 (40%)\n",
      "Truncating audio 300/500 (60%)\n",
      "Truncating audio 400/500 (80%)\n",
      "Truncating audio 500/500 (100%)\n",
      "Extracting pauses\n",
      "Extracting pause spreads\n"
     ]
    },
    {
     "name": "stderr",
     "output_type": "stream",
     "text": [
      "/home/ubuntu/.local/lib/python3.8/site-packages/numpy/core/_methods.py:265: RuntimeWarning: Degrees of freedom <= 0 for slice\n",
      "  ret = _var(a, axis=axis, dtype=dtype, out=out, ddof=ddof,\n",
      "/home/ubuntu/.local/lib/python3.8/site-packages/numpy/core/_methods.py:223: RuntimeWarning: invalid value encountered in divide\n",
      "  arrmean = um.true_divide(arrmean, div, out=arrmean, casting='unsafe',\n",
      "/home/ubuntu/.local/lib/python3.8/site-packages/numpy/core/_methods.py:257: RuntimeWarning: invalid value encountered in double_scalars\n",
      "  ret = ret.dtype.type(ret / rcount)\n",
      "/home/ubuntu/.local/lib/python3.8/site-packages/numpy/core/fromnumeric.py:3432: RuntimeWarning: Mean of empty slice.\n",
      "  return _methods._mean(a, axis=axis, dtype=dtype,\n",
      "/home/ubuntu/.local/lib/python3.8/site-packages/numpy/core/_methods.py:190: RuntimeWarning: invalid value encountered in double_scalars\n",
      "  ret = ret.dtype.type(ret / rcount)\n"
     ]
    },
    {
     "name": "stdout",
     "output_type": "stream",
     "text": [
      "Extracting amplitude features\n",
      "Creating dataframe\n",
      "Complete\n",
      "acc:  [0.642]\n",
      "Optimal H:  [1.88000000e+02 3.48087642e-02]\n",
      "Running Params: 188, 0.03480876419168492\n",
      "Normalizing amplitudes\n",
      "Truncating silences\n",
      "Truncating audio 100/500 (20%)\n",
      "Truncating audio 200/500 (40%)\n",
      "Truncating audio 300/500 (60%)\n",
      "Truncating audio 400/500 (80%)\n",
      "Truncating audio 500/500 (100%)\n",
      "Extracting pauses\n",
      "Extracting pause spreads\n"
     ]
    },
    {
     "name": "stderr",
     "output_type": "stream",
     "text": [
      "/home/ubuntu/.local/lib/python3.8/site-packages/numpy/core/_methods.py:265: RuntimeWarning: Degrees of freedom <= 0 for slice\n",
      "  ret = _var(a, axis=axis, dtype=dtype, out=out, ddof=ddof,\n",
      "/home/ubuntu/.local/lib/python3.8/site-packages/numpy/core/_methods.py:223: RuntimeWarning: invalid value encountered in divide\n",
      "  arrmean = um.true_divide(arrmean, div, out=arrmean, casting='unsafe',\n",
      "/home/ubuntu/.local/lib/python3.8/site-packages/numpy/core/_methods.py:257: RuntimeWarning: invalid value encountered in double_scalars\n",
      "  ret = ret.dtype.type(ret / rcount)\n",
      "/home/ubuntu/.local/lib/python3.8/site-packages/numpy/core/fromnumeric.py:3432: RuntimeWarning: Mean of empty slice.\n",
      "  return _methods._mean(a, axis=axis, dtype=dtype,\n",
      "/home/ubuntu/.local/lib/python3.8/site-packages/numpy/core/_methods.py:190: RuntimeWarning: invalid value encountered in double_scalars\n",
      "  ret = ret.dtype.type(ret / rcount)\n"
     ]
    },
    {
     "name": "stdout",
     "output_type": "stream",
     "text": [
      "Extracting amplitude features\n",
      "Creating dataframe\n",
      "Complete\n",
      "acc:  [0.604]\n",
      "Optimal H:  [1.90000000e+02 1.42650054e-02]\n",
      "Running Params: 190, 0.014265005352730058\n",
      "Normalizing amplitudes\n",
      "Truncating silences\n",
      "Truncating audio 100/500 (20%)\n",
      "Truncating audio 200/500 (40%)\n",
      "Truncating audio 300/500 (60%)\n",
      "Truncating audio 400/500 (80%)\n",
      "Truncating audio 500/500 (100%)\n",
      "Extracting pauses\n",
      "Extracting pause spreads\n"
     ]
    },
    {
     "name": "stderr",
     "output_type": "stream",
     "text": [
      "/home/ubuntu/.local/lib/python3.8/site-packages/numpy/core/_methods.py:265: RuntimeWarning: Degrees of freedom <= 0 for slice\n",
      "  ret = _var(a, axis=axis, dtype=dtype, out=out, ddof=ddof,\n",
      "/home/ubuntu/.local/lib/python3.8/site-packages/numpy/core/_methods.py:223: RuntimeWarning: invalid value encountered in divide\n",
      "  arrmean = um.true_divide(arrmean, div, out=arrmean, casting='unsafe',\n",
      "/home/ubuntu/.local/lib/python3.8/site-packages/numpy/core/_methods.py:257: RuntimeWarning: invalid value encountered in double_scalars\n",
      "  ret = ret.dtype.type(ret / rcount)\n",
      "/home/ubuntu/.local/lib/python3.8/site-packages/numpy/core/fromnumeric.py:3432: RuntimeWarning: Mean of empty slice.\n",
      "  return _methods._mean(a, axis=axis, dtype=dtype,\n",
      "/home/ubuntu/.local/lib/python3.8/site-packages/numpy/core/_methods.py:190: RuntimeWarning: invalid value encountered in double_scalars\n",
      "  ret = ret.dtype.type(ret / rcount)\n"
     ]
    },
    {
     "name": "stdout",
     "output_type": "stream",
     "text": [
      "Extracting amplitude features\n",
      "Creating dataframe\n",
      "Complete\n",
      "acc:  [0.63]\n",
      "Optimal H:  [1.95000000e+02 1.91438063e-02]\n",
      "Running Params: 195, 0.019143806260388276\n",
      "Normalizing amplitudes\n",
      "Truncating silences\n",
      "Truncating audio 100/500 (20%)\n",
      "Truncating audio 200/500 (40%)\n",
      "Truncating audio 300/500 (60%)\n",
      "Truncating audio 400/500 (80%)\n",
      "Truncating audio 500/500 (100%)\n",
      "Extracting pauses\n",
      "Extracting pause spreads\n"
     ]
    },
    {
     "name": "stderr",
     "output_type": "stream",
     "text": [
      "/home/ubuntu/.local/lib/python3.8/site-packages/numpy/core/_methods.py:265: RuntimeWarning: Degrees of freedom <= 0 for slice\n",
      "  ret = _var(a, axis=axis, dtype=dtype, out=out, ddof=ddof,\n",
      "/home/ubuntu/.local/lib/python3.8/site-packages/numpy/core/_methods.py:223: RuntimeWarning: invalid value encountered in divide\n",
      "  arrmean = um.true_divide(arrmean, div, out=arrmean, casting='unsafe',\n",
      "/home/ubuntu/.local/lib/python3.8/site-packages/numpy/core/_methods.py:257: RuntimeWarning: invalid value encountered in double_scalars\n",
      "  ret = ret.dtype.type(ret / rcount)\n",
      "/home/ubuntu/.local/lib/python3.8/site-packages/numpy/core/fromnumeric.py:3432: RuntimeWarning: Mean of empty slice.\n",
      "  return _methods._mean(a, axis=axis, dtype=dtype,\n",
      "/home/ubuntu/.local/lib/python3.8/site-packages/numpy/core/_methods.py:190: RuntimeWarning: invalid value encountered in double_scalars\n",
      "  ret = ret.dtype.type(ret / rcount)\n"
     ]
    },
    {
     "name": "stdout",
     "output_type": "stream",
     "text": [
      "Extracting amplitude features\n",
      "Creating dataframe\n",
      "Complete\n",
      "acc:  [0.628]\n",
      "Optimal H:  [1.94000000e+02 8.06036182e-02]\n",
      "Running Params: 194, 0.08060361818425804\n",
      "Normalizing amplitudes\n",
      "Truncating silences\n",
      "Truncating audio 100/500 (20%)\n",
      "Truncating audio 200/500 (40%)\n",
      "Truncating audio 300/500 (60%)\n",
      "Truncating audio 400/500 (80%)\n",
      "Truncating audio 500/500 (100%)\n",
      "Extracting pauses\n",
      "Extracting pause spreads\n"
     ]
    },
    {
     "name": "stderr",
     "output_type": "stream",
     "text": [
      "/home/ubuntu/.local/lib/python3.8/site-packages/numpy/core/_methods.py:265: RuntimeWarning: Degrees of freedom <= 0 for slice\n",
      "  ret = _var(a, axis=axis, dtype=dtype, out=out, ddof=ddof,\n",
      "/home/ubuntu/.local/lib/python3.8/site-packages/numpy/core/_methods.py:223: RuntimeWarning: invalid value encountered in divide\n",
      "  arrmean = um.true_divide(arrmean, div, out=arrmean, casting='unsafe',\n",
      "/home/ubuntu/.local/lib/python3.8/site-packages/numpy/core/_methods.py:257: RuntimeWarning: invalid value encountered in double_scalars\n",
      "  ret = ret.dtype.type(ret / rcount)\n",
      "/home/ubuntu/.local/lib/python3.8/site-packages/numpy/core/fromnumeric.py:3432: RuntimeWarning: Mean of empty slice.\n",
      "  return _methods._mean(a, axis=axis, dtype=dtype,\n",
      "/home/ubuntu/.local/lib/python3.8/site-packages/numpy/core/_methods.py:190: RuntimeWarning: invalid value encountered in double_scalars\n",
      "  ret = ret.dtype.type(ret / rcount)\n"
     ]
    },
    {
     "name": "stdout",
     "output_type": "stream",
     "text": [
      "Extracting amplitude features\n",
      "Creating dataframe\n",
      "Complete\n",
      "acc:  [0.68]\n",
      "Optimal H:  [3.11000000e+02 1.00759278e-01]\n",
      "Running Params: 311, 0.10075927762932728\n",
      "Normalizing amplitudes\n",
      "Truncating silences\n",
      "Truncating audio 100/500 (20%)\n",
      "Truncating audio 200/500 (40%)\n",
      "Truncating audio 300/500 (60%)\n",
      "Truncating audio 400/500 (80%)\n",
      "Truncating audio 500/500 (100%)\n",
      "Extracting pauses\n",
      "Extracting pause spreads\n"
     ]
    },
    {
     "name": "stderr",
     "output_type": "stream",
     "text": [
      "/home/ubuntu/.local/lib/python3.8/site-packages/numpy/core/_methods.py:265: RuntimeWarning: Degrees of freedom <= 0 for slice\n",
      "  ret = _var(a, axis=axis, dtype=dtype, out=out, ddof=ddof,\n",
      "/home/ubuntu/.local/lib/python3.8/site-packages/numpy/core/_methods.py:223: RuntimeWarning: invalid value encountered in divide\n",
      "  arrmean = um.true_divide(arrmean, div, out=arrmean, casting='unsafe',\n",
      "/home/ubuntu/.local/lib/python3.8/site-packages/numpy/core/_methods.py:257: RuntimeWarning: invalid value encountered in double_scalars\n",
      "  ret = ret.dtype.type(ret / rcount)\n",
      "/home/ubuntu/.local/lib/python3.8/site-packages/numpy/core/fromnumeric.py:3432: RuntimeWarning: Mean of empty slice.\n",
      "  return _methods._mean(a, axis=axis, dtype=dtype,\n",
      "/home/ubuntu/.local/lib/python3.8/site-packages/numpy/core/_methods.py:190: RuntimeWarning: invalid value encountered in double_scalars\n",
      "  ret = ret.dtype.type(ret / rcount)\n"
     ]
    },
    {
     "name": "stdout",
     "output_type": "stream",
     "text": [
      "Extracting amplitude features\n",
      "Creating dataframe\n",
      "Complete\n",
      "acc:  [0.622]\n",
      "Optimal H:  [3.10000000e+02 1.51062901e-02]\n",
      "Running Params: 310, 0.015106290089033983\n",
      "Normalizing amplitudes\n",
      "Truncating silences\n",
      "Truncating audio 100/500 (20%)\n",
      "Truncating audio 200/500 (40%)\n",
      "Truncating audio 300/500 (60%)\n",
      "Truncating audio 400/500 (80%)\n",
      "Truncating audio 500/500 (100%)\n",
      "Extracting pauses\n",
      "Extracting pause spreads\n"
     ]
    },
    {
     "name": "stderr",
     "output_type": "stream",
     "text": [
      "/home/ubuntu/.local/lib/python3.8/site-packages/numpy/core/_methods.py:265: RuntimeWarning: Degrees of freedom <= 0 for slice\n",
      "  ret = _var(a, axis=axis, dtype=dtype, out=out, ddof=ddof,\n",
      "/home/ubuntu/.local/lib/python3.8/site-packages/numpy/core/_methods.py:223: RuntimeWarning: invalid value encountered in divide\n",
      "  arrmean = um.true_divide(arrmean, div, out=arrmean, casting='unsafe',\n",
      "/home/ubuntu/.local/lib/python3.8/site-packages/numpy/core/_methods.py:257: RuntimeWarning: invalid value encountered in double_scalars\n",
      "  ret = ret.dtype.type(ret / rcount)\n",
      "/home/ubuntu/.local/lib/python3.8/site-packages/numpy/core/fromnumeric.py:3432: RuntimeWarning: Mean of empty slice.\n",
      "  return _methods._mean(a, axis=axis, dtype=dtype,\n",
      "/home/ubuntu/.local/lib/python3.8/site-packages/numpy/core/_methods.py:190: RuntimeWarning: invalid value encountered in double_scalars\n",
      "  ret = ret.dtype.type(ret / rcount)\n"
     ]
    },
    {
     "name": "stdout",
     "output_type": "stream",
     "text": [
      "Extracting amplitude features\n",
      "Creating dataframe\n",
      "Complete\n",
      "acc:  [0.624]\n",
      "Optimal H:  [3.13000000e+02 1.02034404e-01]\n",
      "Running Params: 313, 0.10203440439784997\n",
      "Normalizing amplitudes\n",
      "Truncating silences\n",
      "Truncating audio 100/500 (20%)\n",
      "Truncating audio 200/500 (40%)\n",
      "Truncating audio 300/500 (60%)\n",
      "Truncating audio 400/500 (80%)\n",
      "Truncating audio 500/500 (100%)\n",
      "Extracting pauses\n",
      "Extracting pause spreads\n"
     ]
    },
    {
     "name": "stderr",
     "output_type": "stream",
     "text": [
      "/home/ubuntu/.local/lib/python3.8/site-packages/numpy/core/_methods.py:265: RuntimeWarning: Degrees of freedom <= 0 for slice\n",
      "  ret = _var(a, axis=axis, dtype=dtype, out=out, ddof=ddof,\n",
      "/home/ubuntu/.local/lib/python3.8/site-packages/numpy/core/_methods.py:223: RuntimeWarning: invalid value encountered in divide\n",
      "  arrmean = um.true_divide(arrmean, div, out=arrmean, casting='unsafe',\n",
      "/home/ubuntu/.local/lib/python3.8/site-packages/numpy/core/_methods.py:257: RuntimeWarning: invalid value encountered in double_scalars\n",
      "  ret = ret.dtype.type(ret / rcount)\n",
      "/home/ubuntu/.local/lib/python3.8/site-packages/numpy/core/fromnumeric.py:3432: RuntimeWarning: Mean of empty slice.\n",
      "  return _methods._mean(a, axis=axis, dtype=dtype,\n",
      "/home/ubuntu/.local/lib/python3.8/site-packages/numpy/core/_methods.py:190: RuntimeWarning: invalid value encountered in double_scalars\n",
      "  ret = ret.dtype.type(ret / rcount)\n"
     ]
    },
    {
     "name": "stdout",
     "output_type": "stream",
     "text": [
      "Extracting amplitude features\n",
      "Creating dataframe\n",
      "Complete\n",
      "acc:  [0.63]\n",
      "Optimal H:  [3.12e+02 5.00e-03]\n",
      "Running Params: 312, 0.005\n",
      "Normalizing amplitudes\n",
      "Truncating silences\n",
      "Truncating audio 100/500 (20%)\n",
      "Truncating audio 200/500 (40%)\n",
      "Truncating audio 300/500 (60%)\n",
      "Truncating audio 400/500 (80%)\n",
      "Truncating audio 500/500 (100%)\n",
      "Extracting pauses\n",
      "Extracting pause spreads\n"
     ]
    },
    {
     "name": "stderr",
     "output_type": "stream",
     "text": [
      "/home/ubuntu/.local/lib/python3.8/site-packages/numpy/core/_methods.py:265: RuntimeWarning: Degrees of freedom <= 0 for slice\n",
      "  ret = _var(a, axis=axis, dtype=dtype, out=out, ddof=ddof,\n",
      "/home/ubuntu/.local/lib/python3.8/site-packages/numpy/core/_methods.py:223: RuntimeWarning: invalid value encountered in divide\n",
      "  arrmean = um.true_divide(arrmean, div, out=arrmean, casting='unsafe',\n",
      "/home/ubuntu/.local/lib/python3.8/site-packages/numpy/core/_methods.py:257: RuntimeWarning: invalid value encountered in double_scalars\n",
      "  ret = ret.dtype.type(ret / rcount)\n",
      "/home/ubuntu/.local/lib/python3.8/site-packages/numpy/core/fromnumeric.py:3432: RuntimeWarning: Mean of empty slice.\n",
      "  return _methods._mean(a, axis=axis, dtype=dtype,\n",
      "/home/ubuntu/.local/lib/python3.8/site-packages/numpy/core/_methods.py:190: RuntimeWarning: invalid value encountered in double_scalars\n",
      "  ret = ret.dtype.type(ret / rcount)\n"
     ]
    },
    {
     "name": "stdout",
     "output_type": "stream",
     "text": [
      "Extracting amplitude features\n",
      "Creating dataframe\n",
      "Complete\n",
      "acc:  [0.618]\n",
      "Optimal H:  [3.15000000e+02 1.04479409e-01]\n",
      "Running Params: 315, 0.10447940873844158\n",
      "Normalizing amplitudes\n",
      "Truncating silences\n",
      "Truncating audio 100/500 (20%)\n",
      "Truncating audio 200/500 (40%)\n",
      "Truncating audio 300/500 (60%)\n",
      "Truncating audio 400/500 (80%)\n",
      "Truncating audio 500/500 (100%)\n",
      "Extracting pauses\n",
      "Extracting pause spreads\n"
     ]
    },
    {
     "name": "stderr",
     "output_type": "stream",
     "text": [
      "/home/ubuntu/.local/lib/python3.8/site-packages/numpy/core/_methods.py:265: RuntimeWarning: Degrees of freedom <= 0 for slice\n",
      "  ret = _var(a, axis=axis, dtype=dtype, out=out, ddof=ddof,\n",
      "/home/ubuntu/.local/lib/python3.8/site-packages/numpy/core/_methods.py:223: RuntimeWarning: invalid value encountered in divide\n",
      "  arrmean = um.true_divide(arrmean, div, out=arrmean, casting='unsafe',\n",
      "/home/ubuntu/.local/lib/python3.8/site-packages/numpy/core/_methods.py:257: RuntimeWarning: invalid value encountered in double_scalars\n",
      "  ret = ret.dtype.type(ret / rcount)\n",
      "/home/ubuntu/.local/lib/python3.8/site-packages/numpy/core/fromnumeric.py:3432: RuntimeWarning: Mean of empty slice.\n",
      "  return _methods._mean(a, axis=axis, dtype=dtype,\n",
      "/home/ubuntu/.local/lib/python3.8/site-packages/numpy/core/_methods.py:190: RuntimeWarning: invalid value encountered in double_scalars\n",
      "  ret = ret.dtype.type(ret / rcount)\n"
     ]
    },
    {
     "name": "stdout",
     "output_type": "stream",
     "text": [
      "Extracting amplitude features\n",
      "Creating dataframe\n",
      "Complete\n",
      "acc:  [0.638]\n",
      "Optimal H:  [3.1400000e+02 2.8165913e-02]\n",
      "Running Params: 314, 0.028165912980637968\n",
      "Normalizing amplitudes\n",
      "Truncating silences\n",
      "Truncating audio 100/500 (20%)\n",
      "Truncating audio 200/500 (40%)\n",
      "Truncating audio 300/500 (60%)\n",
      "Truncating audio 400/500 (80%)\n",
      "Truncating audio 500/500 (100%)\n",
      "Extracting pauses\n",
      "Extracting pause spreads\n"
     ]
    },
    {
     "name": "stderr",
     "output_type": "stream",
     "text": [
      "/home/ubuntu/.local/lib/python3.8/site-packages/numpy/core/_methods.py:265: RuntimeWarning: Degrees of freedom <= 0 for slice\n",
      "  ret = _var(a, axis=axis, dtype=dtype, out=out, ddof=ddof,\n",
      "/home/ubuntu/.local/lib/python3.8/site-packages/numpy/core/_methods.py:223: RuntimeWarning: invalid value encountered in divide\n",
      "  arrmean = um.true_divide(arrmean, div, out=arrmean, casting='unsafe',\n",
      "/home/ubuntu/.local/lib/python3.8/site-packages/numpy/core/_methods.py:257: RuntimeWarning: invalid value encountered in double_scalars\n",
      "  ret = ret.dtype.type(ret / rcount)\n",
      "/home/ubuntu/.local/lib/python3.8/site-packages/numpy/core/fromnumeric.py:3432: RuntimeWarning: Mean of empty slice.\n",
      "  return _methods._mean(a, axis=axis, dtype=dtype,\n",
      "/home/ubuntu/.local/lib/python3.8/site-packages/numpy/core/_methods.py:190: RuntimeWarning: invalid value encountered in double_scalars\n",
      "  ret = ret.dtype.type(ret / rcount)\n"
     ]
    },
    {
     "name": "stdout",
     "output_type": "stream",
     "text": [
      "Extracting amplitude features\n",
      "Creating dataframe\n",
      "Complete\n",
      "acc:  [0.644]\n",
      "Optimal H:  [3.17000000e+02 1.29434664e-01]\n",
      "Running Params: 317, 0.12943466369179257\n",
      "Normalizing amplitudes\n",
      "Truncating silences\n",
      "Truncating audio 100/500 (20%)\n",
      "Truncating audio 200/500 (40%)\n",
      "Truncating audio 300/500 (60%)\n",
      "Truncating audio 400/500 (80%)\n",
      "Truncating audio 500/500 (100%)\n",
      "Extracting pauses\n",
      "Extracting pause spreads\n"
     ]
    },
    {
     "name": "stderr",
     "output_type": "stream",
     "text": [
      "/home/ubuntu/.local/lib/python3.8/site-packages/numpy/core/_methods.py:265: RuntimeWarning: Degrees of freedom <= 0 for slice\n",
      "  ret = _var(a, axis=axis, dtype=dtype, out=out, ddof=ddof,\n",
      "/home/ubuntu/.local/lib/python3.8/site-packages/numpy/core/_methods.py:223: RuntimeWarning: invalid value encountered in divide\n",
      "  arrmean = um.true_divide(arrmean, div, out=arrmean, casting='unsafe',\n",
      "/home/ubuntu/.local/lib/python3.8/site-packages/numpy/core/_methods.py:257: RuntimeWarning: invalid value encountered in double_scalars\n",
      "  ret = ret.dtype.type(ret / rcount)\n",
      "/home/ubuntu/.local/lib/python3.8/site-packages/numpy/core/fromnumeric.py:3432: RuntimeWarning: Mean of empty slice.\n",
      "  return _methods._mean(a, axis=axis, dtype=dtype,\n",
      "/home/ubuntu/.local/lib/python3.8/site-packages/numpy/core/_methods.py:190: RuntimeWarning: invalid value encountered in double_scalars\n",
      "  ret = ret.dtype.type(ret / rcount)\n"
     ]
    },
    {
     "name": "stdout",
     "output_type": "stream",
     "text": [
      "Extracting amplitude features\n",
      "Creating dataframe\n",
      "Complete\n",
      "acc:  [0.636]\n",
      "Normalizing amplitudes\n",
      "Truncating silences\n",
      "Truncating audio 100/39162 (0%)\n",
      "Truncating audio 200/39162 (1%)\n",
      "Truncating audio 300/39162 (1%)\n",
      "Truncating audio 400/39162 (1%)\n",
      "Truncating audio 500/39162 (1%)\n",
      "Truncating audio 600/39162 (2%)\n",
      "Truncating audio 700/39162 (2%)\n",
      "Truncating audio 800/39162 (2%)\n",
      "Truncating audio 900/39162 (2%)\n",
      "Truncating audio 1000/39162 (3%)\n",
      "Truncating audio 1100/39162 (3%)\n",
      "Truncating audio 1200/39162 (3%)\n",
      "Truncating audio 1300/39162 (3%)\n",
      "Truncating audio 1400/39162 (4%)\n",
      "Truncating audio 1500/39162 (4%)\n",
      "Truncating audio 1600/39162 (4%)\n",
      "Truncating audio 1700/39162 (4%)\n",
      "Truncating audio 1800/39162 (5%)\n",
      "Truncating audio 1900/39162 (5%)\n",
      "Truncating audio 2000/39162 (5%)\n",
      "Truncating audio 2100/39162 (5%)\n",
      "Truncating audio 2200/39162 (6%)\n",
      "Truncating audio 2300/39162 (6%)\n",
      "Truncating audio 2400/39162 (6%)\n",
      "Truncating audio 2500/39162 (6%)\n",
      "Truncating audio 2600/39162 (7%)\n",
      "Truncating audio 2700/39162 (7%)\n",
      "Truncating audio 2800/39162 (7%)\n",
      "Truncating audio 2900/39162 (7%)\n",
      "Truncating audio 3000/39162 (8%)\n",
      "Truncating audio 3100/39162 (8%)\n",
      "Truncating audio 3200/39162 (8%)\n",
      "Truncating audio 3300/39162 (8%)\n",
      "Truncating audio 3400/39162 (9%)\n",
      "Truncating audio 3500/39162 (9%)\n",
      "Truncating audio 3600/39162 (9%)\n",
      "Truncating audio 3700/39162 (9%)\n",
      "Truncating audio 3800/39162 (10%)\n",
      "Truncating audio 3900/39162 (10%)\n",
      "Truncating audio 4000/39162 (10%)\n",
      "Truncating audio 4100/39162 (10%)\n",
      "Truncating audio 4200/39162 (11%)\n",
      "Truncating audio 4300/39162 (11%)\n",
      "Truncating audio 4400/39162 (11%)\n",
      "Truncating audio 4500/39162 (11%)\n",
      "Truncating audio 4600/39162 (12%)\n",
      "Truncating audio 4700/39162 (12%)\n",
      "Truncating audio 4800/39162 (12%)\n",
      "Truncating audio 4900/39162 (13%)\n",
      "Truncating audio 5000/39162 (13%)\n",
      "Truncating audio 5100/39162 (13%)\n",
      "Truncating audio 5200/39162 (13%)\n",
      "Truncating audio 5300/39162 (14%)\n",
      "Truncating audio 5400/39162 (14%)\n",
      "Truncating audio 5500/39162 (14%)\n",
      "Truncating audio 5600/39162 (14%)\n",
      "Truncating audio 5700/39162 (15%)\n",
      "Truncating audio 5800/39162 (15%)\n",
      "Truncating audio 5900/39162 (15%)\n",
      "Truncating audio 6000/39162 (15%)\n",
      "Truncating audio 6100/39162 (16%)\n",
      "Truncating audio 6200/39162 (16%)\n",
      "Truncating audio 6300/39162 (16%)\n",
      "Truncating audio 6400/39162 (16%)\n",
      "Truncating audio 6500/39162 (17%)\n",
      "Truncating audio 6600/39162 (17%)\n",
      "Truncating audio 6700/39162 (17%)\n",
      "Truncating audio 6800/39162 (17%)\n",
      "Truncating audio 6900/39162 (18%)\n",
      "Truncating audio 7000/39162 (18%)\n",
      "Truncating audio 7100/39162 (18%)\n",
      "Truncating audio 7200/39162 (18%)\n",
      "Truncating audio 7300/39162 (19%)\n",
      "Truncating audio 7400/39162 (19%)\n",
      "Truncating audio 7500/39162 (19%)\n",
      "Truncating audio 7600/39162 (19%)\n",
      "Truncating audio 7700/39162 (20%)\n",
      "Truncating audio 7800/39162 (20%)\n",
      "Truncating audio 7900/39162 (20%)\n",
      "Truncating audio 8000/39162 (20%)\n",
      "Truncating audio 8100/39162 (21%)\n",
      "Truncating audio 8200/39162 (21%)\n",
      "Truncating audio 8300/39162 (21%)\n",
      "Truncating audio 8400/39162 (21%)\n",
      "Truncating audio 8500/39162 (22%)\n",
      "Truncating audio 8600/39162 (22%)\n",
      "Truncating audio 8700/39162 (22%)\n",
      "Truncating audio 8800/39162 (22%)\n",
      "Truncating audio 8900/39162 (23%)\n",
      "Truncating audio 9000/39162 (23%)\n",
      "Truncating audio 9100/39162 (23%)\n",
      "Truncating audio 9200/39162 (23%)\n",
      "Truncating audio 9300/39162 (24%)\n",
      "Truncating audio 9400/39162 (24%)\n",
      "Truncating audio 9500/39162 (24%)\n",
      "Truncating audio 9600/39162 (25%)\n",
      "Truncating audio 9700/39162 (25%)\n",
      "Truncating audio 9800/39162 (25%)\n",
      "Truncating audio 9900/39162 (25%)\n",
      "Truncating audio 10000/39162 (26%)\n",
      "Truncating audio 10100/39162 (26%)\n",
      "Truncating audio 10200/39162 (26%)\n",
      "Truncating audio 10300/39162 (26%)\n",
      "Truncating audio 10400/39162 (27%)\n",
      "Truncating audio 10500/39162 (27%)\n",
      "Truncating audio 10600/39162 (27%)\n",
      "Truncating audio 10700/39162 (27%)\n",
      "Truncating audio 10800/39162 (28%)\n",
      "Truncating audio 10900/39162 (28%)\n",
      "Truncating audio 11000/39162 (28%)\n",
      "Truncating audio 11100/39162 (28%)\n",
      "Truncating audio 11200/39162 (29%)\n",
      "Truncating audio 11300/39162 (29%)\n",
      "Truncating audio 11400/39162 (29%)\n",
      "Truncating audio 11500/39162 (29%)\n",
      "Truncating audio 11600/39162 (30%)\n",
      "Truncating audio 11700/39162 (30%)\n",
      "Truncating audio 11800/39162 (30%)\n",
      "Truncating audio 11900/39162 (30%)\n",
      "Truncating audio 12000/39162 (31%)\n",
      "Truncating audio 12100/39162 (31%)\n",
      "Truncating audio 12200/39162 (31%)\n",
      "Truncating audio 12300/39162 (31%)\n",
      "Truncating audio 12400/39162 (32%)\n",
      "Truncating audio 12500/39162 (32%)\n",
      "Truncating audio 12600/39162 (32%)\n",
      "Truncating audio 12700/39162 (32%)\n",
      "Truncating audio 12800/39162 (33%)\n",
      "Truncating audio 12900/39162 (33%)\n",
      "Truncating audio 13000/39162 (33%)\n",
      "Truncating audio 13100/39162 (33%)\n",
      "Truncating audio 13200/39162 (34%)\n",
      "Truncating audio 13300/39162 (34%)\n",
      "Truncating audio 13400/39162 (34%)\n",
      "Truncating audio 13500/39162 (34%)\n",
      "Truncating audio 13600/39162 (35%)\n",
      "Truncating audio 13700/39162 (35%)\n",
      "Truncating audio 13800/39162 (35%)\n",
      "Truncating audio 13900/39162 (35%)\n",
      "Truncating audio 14000/39162 (36%)\n",
      "Truncating audio 14100/39162 (36%)\n",
      "Truncating audio 14200/39162 (36%)\n",
      "Truncating audio 14300/39162 (37%)\n",
      "Truncating audio 14400/39162 (37%)\n",
      "Truncating audio 14500/39162 (37%)\n",
      "Truncating audio 14600/39162 (37%)\n",
      "Truncating audio 14700/39162 (38%)\n",
      "Truncating audio 14800/39162 (38%)\n",
      "Truncating audio 14900/39162 (38%)\n",
      "Truncating audio 15000/39162 (38%)\n",
      "Truncating audio 15100/39162 (39%)\n",
      "Truncating audio 15200/39162 (39%)\n",
      "Truncating audio 15300/39162 (39%)\n",
      "Truncating audio 15400/39162 (39%)\n",
      "Truncating audio 15500/39162 (40%)\n",
      "Truncating audio 15600/39162 (40%)\n",
      "Truncating audio 15700/39162 (40%)\n",
      "Truncating audio 15800/39162 (40%)\n",
      "Truncating audio 15900/39162 (41%)\n",
      "Truncating audio 16000/39162 (41%)\n",
      "Truncating audio 16100/39162 (41%)\n",
      "Truncating audio 16200/39162 (41%)\n",
      "Truncating audio 16300/39162 (42%)\n",
      "Truncating audio 16400/39162 (42%)\n",
      "Truncating audio 16500/39162 (42%)\n",
      "Truncating audio 16600/39162 (42%)\n",
      "Truncating audio 16700/39162 (43%)\n",
      "Truncating audio 16800/39162 (43%)\n",
      "Truncating audio 16900/39162 (43%)\n",
      "Truncating audio 17000/39162 (43%)\n",
      "Truncating audio 17100/39162 (44%)\n",
      "Truncating audio 17200/39162 (44%)\n",
      "Truncating audio 17300/39162 (44%)\n",
      "Truncating audio 17400/39162 (44%)\n",
      "Truncating audio 17500/39162 (45%)\n",
      "Truncating audio 17600/39162 (45%)\n",
      "Truncating audio 17700/39162 (45%)\n",
      "Truncating audio 17800/39162 (45%)\n",
      "Truncating audio 17900/39162 (46%)\n",
      "Truncating audio 18000/39162 (46%)\n",
      "Truncating audio 18100/39162 (46%)\n",
      "Truncating audio 18200/39162 (46%)\n",
      "Truncating audio 18300/39162 (47%)\n",
      "Truncating audio 18400/39162 (47%)\n",
      "Truncating audio 18500/39162 (47%)\n",
      "Truncating audio 18600/39162 (47%)\n",
      "Truncating audio 18700/39162 (48%)\n",
      "Truncating audio 18800/39162 (48%)\n",
      "Truncating audio 18900/39162 (48%)\n",
      "Truncating audio 19000/39162 (49%)\n",
      "Truncating audio 19100/39162 (49%)\n",
      "Truncating audio 19200/39162 (49%)\n",
      "Truncating audio 19300/39162 (49%)\n",
      "Truncating audio 19400/39162 (50%)\n",
      "Truncating audio 19500/39162 (50%)\n",
      "Truncating audio 19600/39162 (50%)\n",
      "Truncating audio 19700/39162 (50%)\n",
      "Truncating audio 19800/39162 (51%)\n",
      "Truncating audio 19900/39162 (51%)\n",
      "Truncating audio 20000/39162 (51%)\n",
      "Truncating audio 20100/39162 (51%)\n",
      "Truncating audio 20200/39162 (52%)\n",
      "Truncating audio 20300/39162 (52%)\n",
      "Truncating audio 20400/39162 (52%)\n",
      "Truncating audio 20500/39162 (52%)\n",
      "Truncating audio 20600/39162 (53%)\n",
      "Truncating audio 20700/39162 (53%)\n",
      "Truncating audio 20800/39162 (53%)\n",
      "Truncating audio 20900/39162 (53%)\n",
      "Truncating audio 21000/39162 (54%)\n",
      "Truncating audio 21100/39162 (54%)\n",
      "Truncating audio 21200/39162 (54%)\n",
      "Truncating audio 21300/39162 (54%)\n",
      "Truncating audio 21400/39162 (55%)\n",
      "Truncating audio 21500/39162 (55%)\n",
      "Truncating audio 21600/39162 (55%)\n",
      "Truncating audio 21700/39162 (55%)\n",
      "Truncating audio 21800/39162 (56%)\n",
      "Truncating audio 21900/39162 (56%)\n",
      "Truncating audio 22000/39162 (56%)\n",
      "Truncating audio 22100/39162 (56%)\n",
      "Truncating audio 22200/39162 (57%)\n",
      "Truncating audio 22300/39162 (57%)\n",
      "Truncating audio 22400/39162 (57%)\n",
      "Truncating audio 22500/39162 (57%)\n",
      "Truncating audio 22600/39162 (58%)\n",
      "Truncating audio 22700/39162 (58%)\n",
      "Truncating audio 22800/39162 (58%)\n",
      "Truncating audio 22900/39162 (58%)\n",
      "Truncating audio 23000/39162 (59%)\n",
      "Truncating audio 23100/39162 (59%)\n",
      "Truncating audio 23200/39162 (59%)\n",
      "Truncating audio 23300/39162 (59%)\n",
      "Truncating audio 23400/39162 (60%)\n",
      "Truncating audio 23500/39162 (60%)\n",
      "Truncating audio 23600/39162 (60%)\n",
      "Truncating audio 23700/39162 (61%)\n",
      "Truncating audio 23800/39162 (61%)\n",
      "Truncating audio 23900/39162 (61%)\n",
      "Truncating audio 24000/39162 (61%)\n",
      "Truncating audio 24100/39162 (62%)\n",
      "Truncating audio 24200/39162 (62%)\n",
      "Truncating audio 24300/39162 (62%)\n",
      "Truncating audio 24400/39162 (62%)\n",
      "Truncating audio 24500/39162 (63%)\n",
      "Truncating audio 24600/39162 (63%)\n",
      "Truncating audio 24700/39162 (63%)\n",
      "Truncating audio 24800/39162 (63%)\n",
      "Truncating audio 24900/39162 (64%)\n",
      "Truncating audio 25000/39162 (64%)\n",
      "Truncating audio 25100/39162 (64%)\n",
      "Truncating audio 25200/39162 (64%)\n",
      "Truncating audio 25300/39162 (65%)\n",
      "Truncating audio 25400/39162 (65%)\n",
      "Truncating audio 25500/39162 (65%)\n",
      "Truncating audio 25600/39162 (65%)\n",
      "Truncating audio 25700/39162 (66%)\n",
      "Truncating audio 25800/39162 (66%)\n",
      "Truncating audio 25900/39162 (66%)\n",
      "Truncating audio 26000/39162 (66%)\n",
      "Truncating audio 26100/39162 (67%)\n",
      "Truncating audio 26200/39162 (67%)\n",
      "Truncating audio 26300/39162 (67%)\n",
      "Truncating audio 26400/39162 (67%)\n",
      "Truncating audio 26500/39162 (68%)\n",
      "Truncating audio 26600/39162 (68%)\n",
      "Truncating audio 26700/39162 (68%)\n",
      "Truncating audio 26800/39162 (68%)\n",
      "Truncating audio 26900/39162 (69%)\n",
      "Truncating audio 27000/39162 (69%)\n",
      "Truncating audio 27100/39162 (69%)\n",
      "Truncating audio 27200/39162 (69%)\n",
      "Truncating audio 27300/39162 (70%)\n",
      "Truncating audio 27400/39162 (70%)\n",
      "Truncating audio 27500/39162 (70%)\n",
      "Truncating audio 27600/39162 (70%)\n",
      "Truncating audio 27700/39162 (71%)\n",
      "Truncating audio 27800/39162 (71%)\n",
      "Truncating audio 27900/39162 (71%)\n",
      "Truncating audio 28000/39162 (71%)\n",
      "Truncating audio 28100/39162 (72%)\n",
      "Truncating audio 28200/39162 (72%)\n",
      "Truncating audio 28300/39162 (72%)\n",
      "Truncating audio 28400/39162 (73%)\n",
      "Truncating audio 28500/39162 (73%)\n",
      "Truncating audio 28600/39162 (73%)\n",
      "Truncating audio 28700/39162 (73%)\n",
      "Truncating audio 28800/39162 (74%)\n",
      "Truncating audio 28900/39162 (74%)\n",
      "Truncating audio 29000/39162 (74%)\n",
      "Truncating audio 29100/39162 (74%)\n",
      "Truncating audio 29200/39162 (75%)\n",
      "Truncating audio 29300/39162 (75%)\n",
      "Truncating audio 29400/39162 (75%)\n",
      "Truncating audio 29500/39162 (75%)\n",
      "Truncating audio 29600/39162 (76%)\n",
      "Truncating audio 29700/39162 (76%)\n",
      "Truncating audio 29800/39162 (76%)\n",
      "Truncating audio 29900/39162 (76%)\n",
      "Truncating audio 30000/39162 (77%)\n",
      "Truncating audio 30100/39162 (77%)\n",
      "Truncating audio 30200/39162 (77%)\n",
      "Truncating audio 30300/39162 (77%)\n",
      "Truncating audio 30400/39162 (78%)\n",
      "Truncating audio 30500/39162 (78%)\n",
      "Truncating audio 30600/39162 (78%)\n",
      "Truncating audio 30700/39162 (78%)\n",
      "Truncating audio 30800/39162 (79%)\n",
      "Truncating audio 30900/39162 (79%)\n",
      "Truncating audio 31000/39162 (79%)\n",
      "Truncating audio 31100/39162 (79%)\n",
      "Truncating audio 31200/39162 (80%)\n",
      "Truncating audio 31300/39162 (80%)\n",
      "Truncating audio 31400/39162 (80%)\n",
      "Truncating audio 31500/39162 (80%)\n",
      "Truncating audio 31600/39162 (81%)\n",
      "Truncating audio 31700/39162 (81%)\n",
      "Truncating audio 31800/39162 (81%)\n",
      "Truncating audio 31900/39162 (81%)\n",
      "Truncating audio 32000/39162 (82%)\n",
      "Truncating audio 32100/39162 (82%)\n",
      "Truncating audio 32200/39162 (82%)\n",
      "Truncating audio 32300/39162 (82%)\n",
      "Truncating audio 32400/39162 (83%)\n",
      "Truncating audio 32500/39162 (83%)\n",
      "Truncating audio 32600/39162 (83%)\n",
      "Truncating audio 32700/39162 (83%)\n",
      "Truncating audio 32800/39162 (84%)\n",
      "Truncating audio 32900/39162 (84%)\n",
      "Truncating audio 33000/39162 (84%)\n",
      "Truncating audio 33100/39162 (85%)\n",
      "Truncating audio 33200/39162 (85%)\n",
      "Truncating audio 33300/39162 (85%)\n",
      "Truncating audio 33400/39162 (85%)\n",
      "Truncating audio 33500/39162 (86%)\n",
      "Truncating audio 33600/39162 (86%)\n",
      "Truncating audio 33700/39162 (86%)\n",
      "Truncating audio 33800/39162 (86%)\n",
      "Truncating audio 33900/39162 (87%)\n",
      "Truncating audio 34000/39162 (87%)\n",
      "Truncating audio 34100/39162 (87%)\n",
      "Truncating audio 34200/39162 (87%)\n",
      "Truncating audio 34300/39162 (88%)\n",
      "Truncating audio 34400/39162 (88%)\n",
      "Truncating audio 34500/39162 (88%)\n",
      "Truncating audio 34600/39162 (88%)\n",
      "Truncating audio 34700/39162 (89%)\n",
      "Truncating audio 34800/39162 (89%)\n",
      "Truncating audio 34900/39162 (89%)\n",
      "Truncating audio 35000/39162 (89%)\n",
      "Truncating audio 35100/39162 (90%)\n",
      "Truncating audio 35200/39162 (90%)\n",
      "Truncating audio 35300/39162 (90%)\n",
      "Truncating audio 35400/39162 (90%)\n",
      "Truncating audio 35500/39162 (91%)\n",
      "Truncating audio 35600/39162 (91%)\n",
      "Truncating audio 35700/39162 (91%)\n",
      "Truncating audio 35800/39162 (91%)\n",
      "Truncating audio 35900/39162 (92%)\n",
      "Truncating audio 36000/39162 (92%)\n",
      "Truncating audio 36100/39162 (92%)\n",
      "Truncating audio 36200/39162 (92%)\n",
      "Truncating audio 36300/39162 (93%)\n",
      "Truncating audio 36400/39162 (93%)\n",
      "Truncating audio 36500/39162 (93%)\n",
      "Truncating audio 36600/39162 (93%)\n",
      "Truncating audio 36700/39162 (94%)\n",
      "Truncating audio 36800/39162 (94%)\n",
      "Truncating audio 36900/39162 (94%)\n",
      "Truncating audio 37000/39162 (94%)\n",
      "Truncating audio 37100/39162 (95%)\n",
      "Truncating audio 37200/39162 (95%)\n",
      "Truncating audio 37300/39162 (95%)\n",
      "Truncating audio 37400/39162 (96%)\n",
      "Truncating audio 37500/39162 (96%)\n",
      "Truncating audio 37600/39162 (96%)\n",
      "Truncating audio 37700/39162 (96%)\n",
      "Truncating audio 37800/39162 (97%)\n",
      "Truncating audio 37900/39162 (97%)\n",
      "Truncating audio 38000/39162 (97%)\n",
      "Truncating audio 38100/39162 (97%)\n",
      "Truncating audio 38200/39162 (98%)\n",
      "Truncating audio 38300/39162 (98%)\n",
      "Truncating audio 38400/39162 (98%)\n",
      "Truncating audio 38500/39162 (98%)\n",
      "Truncating audio 38600/39162 (99%)\n",
      "Truncating audio 38700/39162 (99%)\n",
      "Truncating audio 38800/39162 (99%)\n",
      "Truncating audio 38900/39162 (99%)\n",
      "Truncating audio 39000/39162 (100%)\n",
      "Truncating audio 39100/39162 (100%)\n",
      "Extracting pauses\n",
      "Extracting pause spreads\n"
     ]
    },
    {
     "name": "stderr",
     "output_type": "stream",
     "text": [
      "/home/ubuntu/.local/lib/python3.8/site-packages/numpy/core/_methods.py:265: RuntimeWarning: Degrees of freedom <= 0 for slice\n",
      "  ret = _var(a, axis=axis, dtype=dtype, out=out, ddof=ddof,\n",
      "/home/ubuntu/.local/lib/python3.8/site-packages/numpy/core/_methods.py:223: RuntimeWarning: invalid value encountered in divide\n",
      "  arrmean = um.true_divide(arrmean, div, out=arrmean, casting='unsafe',\n",
      "/home/ubuntu/.local/lib/python3.8/site-packages/numpy/core/_methods.py:257: RuntimeWarning: invalid value encountered in double_scalars\n",
      "  ret = ret.dtype.type(ret / rcount)\n",
      "/home/ubuntu/.local/lib/python3.8/site-packages/numpy/core/fromnumeric.py:3432: RuntimeWarning: Mean of empty slice.\n",
      "  return _methods._mean(a, axis=axis, dtype=dtype,\n",
      "/home/ubuntu/.local/lib/python3.8/site-packages/numpy/core/_methods.py:190: RuntimeWarning: invalid value encountered in double_scalars\n",
      "  ret = ret.dtype.type(ret / rcount)\n"
     ]
    },
    {
     "name": "stdout",
     "output_type": "stream",
     "text": [
      "Extracting amplitude features\n",
      "Creating dataframe\n",
      "Complete\n",
      "--- 10658.597424268723 seconds ---\n"
     ]
    }
   ],
   "source": [
    "import time\n",
    "start_time = time.time()\n",
    "output_dir = '/home/ubuntu/data/wavefake_data/Cadence_features/16khz_Laundered/'\n",
    "output_name = 'Mix'\n",
    "cad_model.hyperparam_search_and_featues(output_dir=output_dir, output_name=output_name, n_iter=100, sample_size=500, init_ex_count=25)\n",
    "print(\"--- %s seconds ---\" % (time.time() - start_time))"
   ]
  },
  {
   "cell_type": "code",
   "execution_count": null,
   "id": "c14b6a58-0cec-4fb1-aa28-46795dba2f54",
   "metadata": {},
   "outputs": [],
   "source": []
  }
 ],
 "metadata": {
  "kernelspec": {
   "display_name": "Python 3 (ipykernel)",
   "language": "python",
   "name": "python3"
  },
  "language_info": {
   "codemirror_mode": {
    "name": "ipython",
    "version": 3
   },
   "file_extension": ".py",
   "mimetype": "text/x-python",
   "name": "python",
   "nbconvert_exporter": "python",
   "pygments_lexer": "ipython3",
   "version": "3.8.10"
  }
 },
 "nbformat": 4,
 "nbformat_minor": 5
}
