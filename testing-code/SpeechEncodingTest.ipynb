{
 "cells": [
  {
   "cell_type": "code",
   "execution_count": 1,
   "id": "791035ce-c651-4f1b-8552-d034d5be4c6c",
   "metadata": {},
   "outputs": [
    {
     "name": "stderr",
     "output_type": "stream",
     "text": [
      "2023-03-07 00:46:42.463172: I tensorflow/core/platform/cpu_feature_guard.cc:193] This TensorFlow binary is optimized with oneAPI Deep Neural Network Library (oneDNN) to use the following CPU instructions in performance-critical operations:  AVX2 AVX512F AVX512_VNNI FMA\n",
      "To enable them in other operations, rebuild TensorFlow with the appropriate compiler flags.\n",
      "2023-03-07 00:46:42.567021: I tensorflow/core/util/port.cc:104] oneDNN custom operations are on. You may see slightly different numerical results due to floating-point round-off errors from different computation orders. To turn them off, set the environment variable `TF_ENABLE_ONEDNN_OPTS=0`.\n",
      "2023-03-07 00:46:43.091697: W tensorflow/compiler/xla/stream_executor/platform/default/dso_loader.cc:64] Could not load dynamic library 'libnvinfer.so.7'; dlerror: libnvinfer.so.7: cannot open shared object file: No such file or directory\n",
      "2023-03-07 00:46:43.091749: W tensorflow/compiler/xla/stream_executor/platform/default/dso_loader.cc:64] Could not load dynamic library 'libnvinfer_plugin.so.7'; dlerror: libnvinfer_plugin.so.7: cannot open shared object file: No such file or directory\n",
      "2023-03-07 00:46:43.091754: W tensorflow/compiler/tf2tensorrt/utils/py_utils.cc:38] TF-TRT Warning: Cannot dlopen some TensorRT libraries. If you would like to use Nvidia GPU with TensorRT, please make sure the missing libraries mentioned above are installed properly.\n",
      "[NeMo W 2023-03-07 00:46:44 optimizers:55] Apex was not found. Using the lamb or fused_adam optimizer will error out.\n",
      "[NeMo W 2023-03-07 00:46:44 experimental:27] Module <class 'nemo.collections.asr.models.audio_to_audio_model.AudioToAudioModel'> is experimental, not ready for production and is not fully supported. Use at your own risk.\n",
      "[NeMo W 2023-03-07 00:46:44 experimental:27] Module <class 'nemo.collections.asr.modules.audio_modules.SpectrogramToMultichannelFeatures'> is experimental, not ready for production and is not fully supported. Use at your own risk.\n",
      "[NeMo W 2023-03-07 00:46:44 nemo_logging:349] /home/ubuntu/miniconda3/envs/nemo/lib/python3.8/site-packages/torch/jit/annotations.py:309: UserWarning: TorchScript will treat type annotations of Tensor dtype-specific subtypes as if they are normal Tensors. dtype constraints are not enforced in compilation either.\n",
      "      warnings.warn(\"TorchScript will treat type annotations of Tensor \"\n",
      "    \n",
      "[NeMo W 2023-03-07 00:46:45 experimental:27] Module <class 'nemo.collections.asr.data.audio_to_audio.BaseAudioDataset'> is experimental, not ready for production and is not fully supported. Use at your own risk.\n",
      "[NeMo W 2023-03-07 00:46:45 experimental:27] Module <class 'nemo.collections.asr.data.audio_to_audio.AudioToTargetDataset'> is experimental, not ready for production and is not fully supported. Use at your own risk.\n",
      "[NeMo W 2023-03-07 00:46:45 experimental:27] Module <class 'nemo.collections.asr.data.audio_to_audio.AudioToTargetWithReferenceDataset'> is experimental, not ready for production and is not fully supported. Use at your own risk.\n",
      "[NeMo W 2023-03-07 00:46:45 experimental:27] Module <class 'nemo.collections.asr.data.audio_to_audio.AudioToTargetWithEmbeddingDataset'> is experimental, not ready for production and is not fully supported. Use at your own risk.\n",
      "[NeMo W 2023-03-07 00:46:45 experimental:27] Module <class 'nemo.collections.asr.models.enhancement_models.EncMaskDecAudioToAudioModel'> is experimental, not ready for production and is not fully supported. Use at your own risk.\n"
     ]
    }
   ],
   "source": [
    "import nemo.collections.asr as nemo_asr\n",
    "import librosa\n",
    "import os\n",
    "import random\n",
    "import numpy as np\n",
    "from sklearn.model_selection import train_test_split\n",
    "from sklearn.neighbors import KNeighborsClassifier\n",
    "from sklearn.metrics import accuracy_score\n",
    "from sklearn.manifold import TSNE\n",
    "import seaborn as sns\n",
    "import matplotlib.pyplot as plt\n",
    "\n",
    "home_path = '/home/ubuntu'"
   ]
  },
  {
   "cell_type": "code",
   "execution_count": 2,
   "id": "194ef67b-ec63-46cc-82c1-559ea85a4f04",
   "metadata": {},
   "outputs": [
    {
     "name": "stdout",
     "output_type": "stream",
     "text": [
      "[NeMo I 2023-03-07 00:46:45 cloud:56] Found existing object /home/ubuntu/.cache/torch/NeMo/NeMo_1.15.0/titanet-l/492c0ab8416139171dc18c21879a9e45/titanet-l.nemo.\n",
      "[NeMo I 2023-03-07 00:46:45 cloud:62] Re-using file from: /home/ubuntu/.cache/torch/NeMo/NeMo_1.15.0/titanet-l/492c0ab8416139171dc18c21879a9e45/titanet-l.nemo\n",
      "[NeMo I 2023-03-07 00:46:45 common:913] Instantiating model from pre-trained checkpoint\n"
     ]
    },
    {
     "name": "stderr",
     "output_type": "stream",
     "text": [
      "[NeMo W 2023-03-07 00:46:46 modelPT:156] If you intend to do training or fine-tuning, please call the ModelPT.setup_training_data() method and provide a valid configuration file to setup the train data loader.\n",
      "    Train config : \n",
      "    manifest_filepath: /manifests/combined_fisher_swbd_voxceleb12_librispeech/train.json\n",
      "    sample_rate: 16000\n",
      "    labels: null\n",
      "    batch_size: 64\n",
      "    shuffle: true\n",
      "    time_length: 3\n",
      "    is_tarred: false\n",
      "    tarred_audio_filepaths: null\n",
      "    tarred_shard_strategy: scatter\n",
      "    augmentor:\n",
      "      noise:\n",
      "        manifest_path: /manifests/noise/rir_noise_manifest.json\n",
      "        prob: 0.5\n",
      "        min_snr_db: 0\n",
      "        max_snr_db: 15\n",
      "      speed:\n",
      "        prob: 0.5\n",
      "        sr: 16000\n",
      "        resample_type: kaiser_fast\n",
      "        min_speed_rate: 0.95\n",
      "        max_speed_rate: 1.05\n",
      "    num_workers: 15\n",
      "    pin_memory: true\n",
      "    \n",
      "[NeMo W 2023-03-07 00:46:46 modelPT:163] If you intend to do validation, please call the ModelPT.setup_validation_data() or ModelPT.setup_multiple_validation_data() method and provide a valid configuration file to setup the validation data loader(s). \n",
      "    Validation config : \n",
      "    manifest_filepath: /manifests/combined_fisher_swbd_voxceleb12_librispeech/dev.json\n",
      "    sample_rate: 16000\n",
      "    labels: null\n",
      "    batch_size: 128\n",
      "    shuffle: false\n",
      "    time_length: 3\n",
      "    num_workers: 15\n",
      "    pin_memory: true\n",
      "    \n"
     ]
    },
    {
     "name": "stdout",
     "output_type": "stream",
     "text": [
      "[NeMo I 2023-03-07 00:46:46 label_models:126] Setting angular: true/false in decoder is deprecated and will be removed in 1.13 version, use specific loss with _target_\n",
      "[NeMo I 2023-03-07 00:46:46 features:267] PADDING: 16\n",
      "[NeMo I 2023-03-07 00:46:46 save_restore_connector:243] Model EncDecSpeakerLabelModel was successfully restored from /home/ubuntu/.cache/torch/NeMo/NeMo_1.15.0/titanet-l/492c0ab8416139171dc18c21879a9e45/titanet-l.nemo.\n"
     ]
    }
   ],
   "source": [
    "speaker_model = nemo_asr.models.EncDecSpeakerLabelModel.from_pretrained(model_name='titanet_large')"
   ]
  },
  {
   "cell_type": "markdown",
   "id": "3a907a95-bcad-4653-9492-743d0ff7ca20",
   "metadata": {},
   "source": [
    "## Introduction"
   ]
  },
  {
   "cell_type": "markdown",
   "id": "b674945f-d146-4549-b28b-32eab20a335d",
   "metadata": {},
   "source": [
    "The goal of this workbook is to test and experiment with different audio file encoding mechanisms. The goal here is to understand if given enough data wheter we can implement a embedding system that will be able to detect differences between real data and fake data."
   ]
  },
  {
   "cell_type": "markdown",
   "id": "a3068ab4-8680-408b-9eda-36ccd46fd914",
   "metadata": {},
   "source": [
    "The goal of this workbook is to answer a few questions:\n",
    "- Can we use out of the box pre-trained models for our problem?\n",
    "- What is the added benefit of fine-tuning the model using generated fakes?\n",
    "- How much data would be required to run fine-tuning?\n",
    "- Is there any reason to self-train the model?\n",
    "- How much data would we need self-train the model?\n",
    "- Can we increase the amount of data through data augmentation?\n",
    "- In general, what is the right length of each audio file to be useful"
   ]
  },
  {
   "cell_type": "markdown",
   "id": "31f1253a-8aa2-47b9-a78a-be1b75398498",
   "metadata": {},
   "source": [
    "To start, we will be using an out of the box model from NVIDIA NeMo called titanet_large. \n",
    "\n",
    "https://arxiv.org/pdf/2110.04410.pdf \n"
   ]
  },
  {
   "cell_type": "code",
   "execution_count": 3,
   "id": "40e170ea-7d4b-4e08-87df-04863c5b55f2",
   "metadata": {},
   "outputs": [],
   "source": [
    "def normalize(ar):\n",
    "    return (ar - np.mean(ar, axis=0))/np.std(ar, axis=0)"
   ]
  },
  {
   "cell_type": "code",
   "execution_count": 4,
   "id": "b502664d-753a-42a2-ad16-b3ad975761ac",
   "metadata": {},
   "outputs": [],
   "source": [
    "def load_data(folder_path, file_names=None):\n",
    "    file_paths = list(os.listdir(os.path.join(home_path, folder_path)))\n",
    "    \n",
    "    if isinstance(file_names, type(None)):\n",
    "        file_paths = [os.path.join(home_path, folder_path, file_path) for file_path in file_paths]\n",
    "    else:\n",
    "        file_paths = [os.path.join(home_path, folder_path, file_path) for file_path in file_paths if file_path in file_names]\n",
    "    return file_paths"
   ]
  },
  {
   "cell_type": "code",
   "execution_count": 5,
   "id": "13c09fca-0a2a-4162-980d-0053f86189a5",
   "metadata": {},
   "outputs": [],
   "source": [
    "def get_embeddings(model, file_paths):\n",
    "    embeddings = np.array([model.get_embedding(file_path).cpu().detach().numpy()[0] for file_path in file_paths])\n",
    "    \n",
    "    if normalize:\n",
    "        pass\n",
    "        #embeddings = normalize(embeddings)\n",
    "    \n",
    "    np.random.shuffle(embeddings)\n",
    "    return embeddings"
   ]
  },
  {
   "cell_type": "code",
   "execution_count": 6,
   "id": "dbfa141e-76af-4887-b4e8-dcb181acb5b5",
   "metadata": {},
   "outputs": [],
   "source": [
    "def get_TSNE_Embeddings(X):\n",
    "    tsne = TSNE(n_components=2, learning_rate='auto', init='random')\n",
    "    return tsne.fit_transform(X)"
   ]
  },
  {
   "cell_type": "code",
   "execution_count": 7,
   "id": "c9d7cd55-48d2-4bc4-a6ee-1dfda6f17ee2",
   "metadata": {},
   "outputs": [],
   "source": [
    "def model_and_eval(X, y, model):\n",
    "    \n",
    "    #split into test/train\n",
    "    X_train, X_test, y_train, y_test =train_test_split(X, y, shuffle=True)\n",
    "    \n",
    "    # create the model\n",
    "    model.fit(X_train, y_train)\n",
    "\n",
    "    pred_train = model.predict(X_train) \n",
    "    pred_test = model.predict(X_test) \n",
    "    \n",
    "    #evaluate\n",
    "    print('Training Accuracy')\n",
    "    print('-------------------------------')\n",
    "    train_acc = accuracy_score(y_true=y_train, y_pred=pred_train)\n",
    "    print(f'Acc: {train_acc:.2f}')\n",
    "\n",
    "    print()\n",
    "\n",
    "    print('Testing Accuracy')\n",
    "    print('-------------------------------')\n",
    "    test_acc = accuracy_score(y_true=y_test, y_pred=pred_test)\n",
    "    print(f'Acc: {test_acc:.2f}')\n",
    "    \n",
    "    return model\n",
    "    "
   ]
  },
  {
   "cell_type": "markdown",
   "id": "f9f16860-6a44-4713-9d8a-57128c0fad0a",
   "metadata": {},
   "source": [
    "## Experiment #1\n",
    "For our first test, we will see how the TitaNet Large performs on the easy task of seperating Biden and Obama audio clips. '\n",
    "\n",
    "We will generate embeddings for audio clips for each speaker. With these embeddings, we will analyze them in two different ways:\n",
    "1. Run a simple classification model to see if we can find separation between the two voices\n",
    "2. Plot the embeddings using T-SNE and see if there are clear clusters in the data"
   ]
  },
  {
   "cell_type": "markdown",
   "id": "d1a0e90a-4e51-40b1-bb34-23a17685ec80",
   "metadata": {},
   "source": [
    "### Load the Data and Model"
   ]
  },
  {
   "cell_type": "code",
   "execution_count": 8,
   "id": "8308c9ed-6cc9-4846-ac76-83b91b51810f",
   "metadata": {},
   "outputs": [],
   "source": [
    "#read in Biden and Obama Data\n",
    "biden_wav_folder = 'data/world-leaders-dataset/WavFiles/biden_wav_audio/16000KHz'\n",
    "obama_wav_folder = 'data/world-leaders-dataset/WavFiles/obama_wav_audio/16000KHz'\n",
    "\n",
    "biden_file_paths = load_data(biden_wav_folder)\n",
    "obama_file_paths = load_data(obama_wav_folder)"
   ]
  },
  {
   "cell_type": "markdown",
   "id": "2631f5f2-dc75-4604-9713-91365ddcfc52",
   "metadata": {},
   "source": [
    "### Generate Embeddings and Labels"
   ]
  },
  {
   "cell_type": "code",
   "execution_count": 9,
   "id": "4e6fac5e-7e34-48e7-b3a2-a764dd7e24ef",
   "metadata": {},
   "outputs": [],
   "source": [
    "balance_classes = True"
   ]
  },
  {
   "cell_type": "code",
   "execution_count": 10,
   "id": "9872c0c8-9986-4f27-a1e0-0fce1387ebc9",
   "metadata": {},
   "outputs": [
    {
     "name": "stderr",
     "output_type": "stream",
     "text": [
      "[NeMo W 2023-03-07 00:46:47 nemo_logging:349] /home/ubuntu/miniconda3/envs/nemo/lib/python3.8/site-packages/nemo/collections/asr/models/label_models.py:437: UserWarning: Creating a tensor from a list of numpy.ndarrays is extremely slow. Please consider converting the list to a single numpy.ndarray with numpy.array() before converting to a tensor. (Triggered internally at /opt/conda/conda-bld/pytorch_1670525491394/work/torch/csrc/utils/tensor_new.cpp:230.)\n",
      "      torch.tensor([audio], device=device),\n",
      "    \n"
     ]
    }
   ],
   "source": [
    "biden_embeddings = get_embeddings(model=speaker_model, file_paths=biden_file_paths)\n",
    "obama_embeddings = get_embeddings(model=speaker_model, file_paths=obama_file_paths)\n",
    "\n",
    "if balance_classes:\n",
    "    num_samples = min(len(biden_embeddings), len(obama_embeddings))\n",
    "    biden_embeddings = biden_embeddings[:num_samples,:]\n",
    "    obama_embeddings = obama_embeddings[:num_samples,:]\n",
    "    \n",
    "    biden_labels = [1]*num_samples\n",
    "    obama_labels = [0]*num_samples\n",
    "else:\n",
    "    biden_labels = [1]*biden_embeddings.shape[0]\n",
    "    obama_labels = [0]*obama_embeddings.shape[0]"
   ]
  },
  {
   "cell_type": "markdown",
   "id": "ba200d7d-6316-4da2-a7f4-971e5d0ce13e",
   "metadata": {},
   "source": [
    "## Run and Evaluate Classifier"
   ]
  },
  {
   "cell_type": "code",
   "execution_count": 11,
   "id": "517831fd-6854-4717-a1ae-5147582a013b",
   "metadata": {},
   "outputs": [],
   "source": [
    "#combine the data\n",
    "X = np.concatenate((biden_embeddings, obama_embeddings), axis=0)\n",
    "y = np.concatenate((biden_labels, obama_labels))"
   ]
  },
  {
   "cell_type": "code",
   "execution_count": 12,
   "id": "172fd381-6bcb-4069-ac72-772b20157c92",
   "metadata": {},
   "outputs": [
    {
     "name": "stdout",
     "output_type": "stream",
     "text": [
      "Training Accuracy\n",
      "-------------------------------\n",
      "Acc: 1.00\n",
      "\n",
      "Testing Accuracy\n",
      "-------------------------------\n",
      "Acc: 1.00\n"
     ]
    }
   ],
   "source": [
    "model = KNeighborsClassifier()\n",
    "model = model_and_eval(X, y, model)"
   ]
  },
  {
   "cell_type": "markdown",
   "id": "60523e6c-bc94-4c0b-8196-d9f4e6130712",
   "metadata": {},
   "source": [
    "### Plot the TSNE\n"
   ]
  },
  {
   "cell_type": "code",
   "execution_count": 13,
   "id": "9ac52d4a-e2c8-44ee-af63-f91e2aff7412",
   "metadata": {},
   "outputs": [],
   "source": [
    "viz_samples = 50\n",
    "\n",
    "biden_embeddings_viz = biden_embeddings[:viz_samples,:]\n",
    "obama_embeddings_viz = obama_embeddings[:viz_samples,:]\n",
    "\n",
    "X_viz = np.concatenate((biden_embeddings_viz, obama_embeddings_viz))\n",
    "\n",
    "X_embed = get_TSNE_Embeddings(X_viz)"
   ]
  },
  {
   "cell_type": "code",
   "execution_count": 14,
   "id": "81bce488-9f6e-4717-a1d6-11ec88e091ad",
   "metadata": {},
   "outputs": [
    {
     "data": {
      "image/png": "[encoded data removed]",
      "text/plain": [
       "<Figure size 640x480 with 1 Axes>"
      ]
     },
     "metadata": {},
     "output_type": "display_data"
    }
   ],
   "source": [
    "sns.scatterplot(x=X_embed[:50,0], y=X_embed[:50,1], color='red', label='Biden')\n",
    "sns.scatterplot(x=X_embed[50:,0], y=X_embed[50:,1], color='blue', label='Obama')\n",
    "plt.title('TSNE Biden vs. Obama Embeddings')\n",
    "plt.show()"
   ]
  },
  {
   "cell_type": "markdown",
   "id": "af3ce807-eb3b-43ab-bf67-065d7fe49a5c",
   "metadata": {},
   "source": [
    "## Experiment #2\n",
    "\n",
    "The model is able to easily differentiate between Biden and Obama's voice. We will now test if the out-of-the-box embeddings is able to differentiate between fake Biden audio clips created by ElevenLabs and real Biden clips."
   ]
  },
  {
   "cell_type": "markdown",
   "id": "151f1f99-3e84-4c61-b515-e1e36286c80a",
   "metadata": {},
   "source": [
    "### Load the Data"
   ]
  },
  {
   "cell_type": "code",
   "execution_count": 15,
   "id": "d84307ac-2999-40a7-8322-0c1686df0a44",
   "metadata": {},
   "outputs": [],
   "source": [
    "#read in Biden fake data\n",
    "#we already have the real Biden Speech Embeddings, so no need to re-pull those\n",
    "biden_fake_wav_folder = 'data/world-leaders-dataset/11LabsDeepFakes/16000KHz'\n",
    "\n",
    "biden_fake_file_paths = load_data(biden_fake_wav_folder)"
   ]
  },
  {
   "cell_type": "markdown",
   "id": "a089c438-66ea-49b8-8ddb-c673788313f6",
   "metadata": {},
   "source": [
    "### Generate Embeddings and Labels"
   ]
  },
  {
   "cell_type": "code",
   "execution_count": 16,
   "id": "543a72cc-7559-46e4-87dc-a91a3aa8b1a3",
   "metadata": {},
   "outputs": [],
   "source": [
    "balance_classes = True"
   ]
  },
  {
   "cell_type": "code",
   "execution_count": 17,
   "id": "7a62d7ec-921e-4d4e-94a0-1742e351de98",
   "metadata": {},
   "outputs": [],
   "source": [
    "biden_real_embeddings = biden_embeddings #renaming for ease of reading\n",
    "biden_fake_embeddings = get_embeddings(model=speaker_model, file_paths=biden_fake_file_paths)\n",
    "\n",
    "if balance_classes:\n",
    "    num_samples = min(len(biden_real_embeddings), len(biden_fake_embeddings))\n",
    "    biden_real_embeddings = biden_real_embeddings[:num_samples,:]\n",
    "    biden_fake_embeddings = biden_fake_embeddings[:num_samples,:]\n",
    "    \n",
    "    biden_real_labels = [1]*num_samples\n",
    "    biden_fake_labels = [0]*num_samples\n",
    "else:\n",
    "    biden_real_labels = [1]*biden_real_embeddings.shape[0]\n",
    "    biden_faake_labels = [0]*biden_fake_embeddings.shape[0]"
   ]
  },
  {
   "cell_type": "markdown",
   "id": "41feda2d-f053-47b8-9d17-49d6bc969644",
   "metadata": {},
   "source": [
    "### Run and Evaluate Model\n"
   ]
  },
  {
   "cell_type": "code",
   "execution_count": 18,
   "id": "b9162940-7043-4c1a-a332-d17bac64ff72",
   "metadata": {},
   "outputs": [],
   "source": [
    "#combine the data\n",
    "X = np.concatenate((biden_real_embeddings, biden_fake_embeddings), axis=0)\n",
    "y = np.concatenate((biden_real_labels, biden_fake_labels))"
   ]
  },
  {
   "cell_type": "code",
   "execution_count": 19,
   "id": "df29a741-6561-41ff-abb5-185ad7456f3f",
   "metadata": {},
   "outputs": [
    {
     "name": "stdout",
     "output_type": "stream",
     "text": [
      "Training Accuracy\n",
      "-------------------------------\n",
      "Acc: 1.00\n",
      "\n",
      "Testing Accuracy\n",
      "-------------------------------\n",
      "Acc: 1.00\n"
     ]
    }
   ],
   "source": [
    "model = KNeighborsClassifier()\n",
    "model = model_and_eval(X, y, model)"
   ]
  },
  {
   "cell_type": "markdown",
   "id": "301c30e3-df93-4ea6-93f0-5d826080a41e",
   "metadata": {},
   "source": [
    "### Plot the TSNE"
   ]
  },
  {
   "cell_type": "code",
   "execution_count": 20,
   "id": "bf608265-3f67-4239-ac5e-f99b2510702a",
   "metadata": {},
   "outputs": [],
   "source": [
    "viz_samples = 50\n",
    "\n",
    "biden_real_embeddings_viz = biden_real_embeddings[:viz_samples,:]\n",
    "biden_fake_embeddings_viz = biden_fake_embeddings[:viz_samples,:]\n",
    "\n",
    "X_viz = np.concatenate((biden_real_embeddings_viz, biden_fake_embeddings_viz))\n",
    "\n",
    "X_embed = get_TSNE_Embeddings(X_viz)"
   ]
  },
  {
   "cell_type": "code",
   "execution_count": 21,
   "id": "e5fe5dce-950f-463c-b583-a9f255b699f2",
   "metadata": {},
   "outputs": [
    {
     "data": {
      "image/png": "[encoded data removed]",
      "text/plain": [
       "<Figure size 640x480 with 1 Axes>"
      ]
     },
     "metadata": {},
     "output_type": "display_data"
    }
   ],
   "source": [
    "sns.scatterplot(x=X_embed[:viz_samples,0], y=X_embed[:viz_samples,1], color='red', label='Real')\n",
    "sns.scatterplot(x=X_embed[viz_samples:,0], y=X_embed[viz_samples:,1], color='blue', label='Fake')\n",
    "plt.title('TSNE Biden Real vs. Biden Fake Embeddings')\n",
    "plt.show()"
   ]
  },
  {
   "cell_type": "markdown",
   "id": "7aa6c964-c34b-4ab4-b600-04d424d80776",
   "metadata": {},
   "source": [
    "## Experiment #3\n",
    "\n",
    "We see the model performs really well with ElevenLabs Data. We will also get the embeddings for a few deepfakes from the wild."
   ]
  },
  {
   "cell_type": "code",
   "execution_count": 22,
   "id": "4ce3d638-6fbb-4055-a9ab-0fc6573f193d",
   "metadata": {},
   "outputs": [],
   "source": [
    "itw_reddit = os.path.join(home_path,'data/InTheWildFakes/Biden/16000KHz/biden-reddit-fake.wav')\n",
    "itw_twitter = os.path.join(home_path,'data/InTheWildFakes/Biden/16000KHz/biden-twitter-fake.wav')\n",
    "itw_twitter2 = os.path.join(home_path,'data/InTheWildFakes/Biden/16000KHz/jb-twitter-2-df-16khz.wav')\n",
    "itw_real = os.path.join(home_path,'data/InTheWildFakes/Biden/16000KHz/jb-real-sample-1-test-16khz.wav')\n",
    "\n",
    "itw_labels = [0,0,0,1]"
   ]
  },
  {
   "cell_type": "code",
   "execution_count": 23,
   "id": "2cd234c9-2ddd-4493-a9f4-99f5efb13f5b",
   "metadata": {},
   "outputs": [],
   "source": [
    "itw_embeddings = get_embeddings(model=speaker_model, file_paths=[itw_reddit, itw_twitter, itw_twitter2, itw_real])"
   ]
  },
  {
   "cell_type": "code",
   "execution_count": 24,
   "id": "8ab63da4-cab2-4c4e-b2ac-b2cb73e58053",
   "metadata": {},
   "outputs": [],
   "source": [
    "X_vis = np.concatenate((biden_real_embeddings_viz, itw_embeddings))\n",
    "\n",
    "X_embed = get_TSNE_Embeddings(X_viz)"
   ]
  },
  {
   "cell_type": "code",
   "execution_count": 25,
   "id": "aed7d82f-e6e9-48dd-aa88-54178b3e3695",
   "metadata": {},
   "outputs": [],
   "source": [
    "itw_pred = model.predict(itw_embeddings)"
   ]
  },
  {
   "cell_type": "code",
   "execution_count": 26,
   "id": "c17cbd28-a9d3-4904-a378-14033786ce7a",
   "metadata": {},
   "outputs": [
    {
     "name": "stdout",
     "output_type": "stream",
     "text": [
      "Training Accuracy\n",
      "-------------------------------\n",
      "Acc: 0.50\n"
     ]
    }
   ],
   "source": [
    "#evaluate\n",
    "print('Training Accuracy')\n",
    "print('-------------------------------')\n",
    "train_acc = accuracy_score(y_true=itw_labels, y_pred=itw_pred)\n",
    "print(f'Acc: {train_acc:.2f}')"
   ]
  },
  {
   "cell_type": "code",
   "execution_count": 27,
   "id": "d0df5fc1-6e7d-429c-8700-65148cd88598",
   "metadata": {},
   "outputs": [
    {
     "data": {
      "image/png": "[encoded data removed]",
      "text/plain": [
       "<Figure size 640x480 with 1 Axes>"
      ]
     },
     "metadata": {},
     "output_type": "display_data"
    }
   ],
   "source": [
    "sns.scatterplot(x=X_embed[:50,0], y=X_embed[:50,1], color='red', label='Real')\n",
    "sns.scatterplot(x=X_embed[50:53,0], y=X_embed[50:53,1], color='blue', label='IRL Fake')\n",
    "sns.scatterplot(x=X_embed[53:54,0], y=X_embed[53:54,1], color='orange', label='IRL Real')\n",
    "plt.title('TSNE Biden Real vs. Biden Fake Embeddings')\n",
    "plt.show()"
   ]
  },
  {
   "cell_type": "markdown",
   "id": "ad2052f8-e5b1-442a-aad5-6bc8936c8fb7",
   "metadata": {},
   "source": [
    "## Experiment #4\n",
    "\n",
    "One known weakness is that ElevenLabs seems to be an easy problem to solve. As such, "
   ]
  },
  {
   "cell_type": "code",
   "execution_count": 40,
   "id": "5bd55cf8-ce60-494f-a004-8b1258da82ae",
   "metadata": {},
   "outputs": [],
   "source": [
    "# 7 GANs folders\n",
    "lj_full_band_mlegan_wav_folder = 'data/wavefake_data/generated_audio/ljspeech_full_band_melgan/16000KHz'\n",
    "lj_hifigan_wav_folder = 'data/wavefake_data/generated_audio/ljspeech_hifiGAN/16000KHz'\n",
    "lj_melgan_wav_folder = 'data/wavefake_data/generated_audio/ljspeech_melgan/16000KHz'\n",
    "lj_melgan_large_wav_folder = 'data/wavefake_data/generated_audio/ljspeech_melgan_large/16000KHz'\n",
    "lj_multi_band_melgan_wav_folder = 'data/wavefake_data/generated_audio/ljspeech_multi_band_melgan/16000KHz'\n",
    "lj_parallel_wavegan_wav_folder = 'data/wavefake_data/generated_audio/ljspeech_parallel_wavegan/16000KHz'\n",
    "lj_waveglow_wav_folder = 'data/wavefake_data/generated_audio/ljspeech_waveglow/16000KHz'\n",
    "\n",
    "lf_real_wav_folder = 'data/wavefake_data/LJSpeech_1.1/wavs/16000KHz'"
   ]
  },
  {
   "cell_type": "code",
   "execution_count": 29,
   "id": "4f799f0c-d5d0-4e10-891c-bd38266fbd2a",
   "metadata": {},
   "outputs": [],
   "source": [
    "#load the real data, shuffle and sample 50 clips\n",
    "n_train_samples = 100\n",
    "\n",
    "lf_real_file_paths = load_data(lf_real_wav_folder)\n",
    "random.shuffle(lf_real_file_paths)\n",
    "lf_real_file_paths_sample = lf_real_file_paths[:n_train_samples]\n",
    "\n",
    "sample_names = [path[len(path)-14:len(path)-4]+'_gen.wav' for path in lf_real_file_paths_sample]"
   ]
  },
  {
   "cell_type": "code",
   "execution_count": 61,
   "id": "01a9ad2b-8764-4efb-b3e0-3db8621388c0",
   "metadata": {},
   "outputs": [],
   "source": [
    "lj_full_band_mlegan_file_paths_sample = load_data(lj_full_band_mlegan_wav_folder, sample_names)\n",
    "lj_hifigan_file_paths_sample = load_data(lj_hifigan_wav_folder, sample_names)\n",
    "lj_melgan_file_paths_sample = load_data(lj_melgan_wav_folder, sample_names)\n",
    "lj_melgan_large_file_paths_sample = load_data(lj_melgan_large_wav_folder, sample_names)\n",
    "lj_multi_band_melgan_file_paths_sample = load_data(lj_multi_band_melgan_wav_folder, sample_names)\n",
    "lj_parallel_wavegan_file_paths_sample = load_data(lj_parallel_wavegan_wav_folder, sample_names)\n",
    "lj_waveglow_file_paths_sample = load_data(lj_waveglow_wav_folder, sample_names)"
   ]
  },
  {
   "cell_type": "code",
   "execution_count": 63,
   "id": "bd3e4777-92b6-45eb-bb91-dccbb13323b2",
   "metadata": {},
   "outputs": [],
   "source": [
    "lj_full_band_mlegan_embeddings = get_embeddings(model=speaker_model, file_paths=lj_full_band_mlegan_file_paths_sample)\n",
    "lj_hifigan_embeddings = get_embeddings(model=speaker_model, file_paths=lj_hifigan_file_paths_sample)\n",
    "lj_melgan_embeddings = get_embeddings(model=speaker_model, file_paths=lj_melgan_file_paths_sample)\n",
    "lj_melgan_large_embeddings = get_embeddings(model=speaker_model, file_paths=lj_melgan_large_file_paths_sample)\n",
    "lj_multi_band_melgan_embeddings = get_embeddings(model=speaker_model, file_paths=lj_multi_band_melgan_file_paths_sample)\n",
    "lj_parallel_wavegan_embeddings = get_embeddings(model=speaker_model, file_paths=lj_parallel_wavegan_file_paths_sample)\n",
    "lj_waveglow_embeddings = get_embeddings(model=speaker_model, file_paths=lj_waveglow_file_paths_sample)\n",
    "lf_real_embeddings = get_embeddings(model=speaker_model, file_paths=lf_real_file_paths_sample)"
   ]
  },
  {
   "cell_type": "code",
   "execution_count": 48,
   "id": "3ab57b5e-6459-4d10-9159-4043965f2afc",
   "metadata": {},
   "outputs": [],
   "source": [
    "#individual gan lables\n",
    "lj_full_band_mlegan_labels_indv = [0]*lj_full_band_mlegan_embeddings.shape[0]\n",
    "lj_hifigan_labels_indv = [1]*lj_hifigan_embeddings.shape[0]\n",
    "lj_melgan_labels_indv = [2]*lj_melgan_embeddings.shape[0]\n",
    "lj_melgan_large_labels_indv = [3]*lj_melgan_large_embeddings.shape[0]\n",
    "lj_multi_band_melgan_labels_indv = [4]*lj_multi_band_melgan_embeddings.shape[0]\n",
    "lj_parallel_wavegan_labels_indv = [5]*lj_parallel_wavegan_embeddings.shape[0]\n",
    "lj_waveglow_labels_indv = [6]*lj_waveglow_embeddings.shape[0]\n",
    "lf_real_labels_indv = [7]*lf_real_embeddings.shape[0]"
   ]
  },
  {
   "cell_type": "code",
   "execution_count": 49,
   "id": "685a9781-4060-43e0-b88f-8984e6052505",
   "metadata": {},
   "outputs": [
    {
     "ename": "ValueError",
     "evalue": "all the input arrays must have same number of dimensions, but the array at index 0 has 2 dimension(s) and the array at index 1 has 1 dimension(s)",
     "output_type": "error",
     "traceback": [
      "\u001b[0;31m---------------------------------------------------------------------------\u001b[0m",
      "\u001b[0;31mValueError\u001b[0m                                Traceback (most recent call last)",
      "Cell \u001b[0;32mIn[49], line 2\u001b[0m\n\u001b[1;32m      1\u001b[0m \u001b[38;5;66;03m#combine the data\u001b[39;00m\n\u001b[0;32m----> 2\u001b[0m X \u001b[38;5;241m=\u001b[39m \u001b[43mnp\u001b[49m\u001b[38;5;241;43m.\u001b[39;49m\u001b[43mconcatenate\u001b[49m\u001b[43m(\u001b[49m\u001b[43m(\u001b[49m\u001b[43mlj_full_band_mlegan_embeddings\u001b[49m\u001b[43m,\u001b[49m\u001b[43m \u001b[49m\u001b[43mlj_hifigan_embeddings\u001b[49m\u001b[43m,\u001b[49m\u001b[43m \u001b[49m\u001b[43mlj_melgan_embeddings\u001b[49m\u001b[43m,\u001b[49m\u001b[43m \u001b[49m\u001b[43mlj_melgan_large_embeddings\u001b[49m\u001b[43m,\u001b[49m\u001b[43m \u001b[49m\u001b[43mlj_multi_band_melgan_embeddings\u001b[49m\u001b[43m,\u001b[49m\u001b[43m \u001b[49m\u001b[43mlj_parallel_wavegan_embeddings\u001b[49m\u001b[43m,\u001b[49m\u001b[43m \u001b[49m\u001b[43mlj_waveglow_embeddings\u001b[49m\u001b[43m,\u001b[49m\u001b[43m \u001b[49m\u001b[43mlf_real_embeddings\u001b[49m\u001b[43m)\u001b[49m\u001b[43m,\u001b[49m\u001b[43m \u001b[49m\u001b[43maxis\u001b[49m\u001b[38;5;241;43m=\u001b[39;49m\u001b[38;5;241;43m0\u001b[39;49m\u001b[43m)\u001b[49m\n\u001b[1;32m      3\u001b[0m y \u001b[38;5;241m=\u001b[39m np\u001b[38;5;241m.\u001b[39mconcatenate((lj_full_band_mlegan_labels_indv, lj_hifigan_labels_indv, lj_melgan_labels_indv, lj_melgan_large_labels_indv, lj_multi_band_melgan_labels_indv, lj_parallel_wavegan_labels_indv, lj_waveglow_labels_indv, lf_real_labels_indv))\n",
      "File \u001b[0;32m<__array_function__ internals>:180\u001b[0m, in \u001b[0;36mconcatenate\u001b[0;34m(*args, **kwargs)\u001b[0m\n",
      "\u001b[0;31mValueError\u001b[0m: all the input arrays must have same number of dimensions, but the array at index 0 has 2 dimension(s) and the array at index 1 has 1 dimension(s)"
     ]
    }
   ],
   "source": [
    "#combine the data\n",
    "X = np.concatenate((lj_full_band_mlegan_embeddings, lj_hifigan_embeddings, lj_melgan_embeddings, lj_melgan_large_embeddings, lj_multi_band_melgan_embeddings, lj_parallel_wavegan_embeddings, lj_waveglow_embeddings, lf_real_embeddings), axis=0)\n",
    "y = np.concatenate((lj_full_band_mlegan_labels_indv, lj_hifigan_labels_indv, lj_melgan_labels_indv, lj_melgan_large_labels_indv, lj_multi_band_melgan_labels_indv, lj_parallel_wavegan_labels_indv, lj_waveglow_labels_indv, lf_real_labels_indv))"
   ]
  },
  {
   "cell_type": "code",
   "execution_count": 55,
   "id": "5f55142f-3617-4ebe-84fd-d8969b3a079d",
   "metadata": {},
   "outputs": [
    {
     "ename": "ValueError",
     "evalue": "all the input arrays must have same number of dimensions, but the array at index 0 has 2 dimension(s) and the array at index 4 has 1 dimension(s)",
     "output_type": "error",
     "traceback": [
      "\u001b[0;31m---------------------------------------------------------------------------\u001b[0m",
      "\u001b[0;31mValueError\u001b[0m                                Traceback (most recent call last)",
      "Cell \u001b[0;32mIn[55], line 1\u001b[0m\n\u001b[0;32m----> 1\u001b[0m X \u001b[38;5;241m=\u001b[39m \u001b[43mnp\u001b[49m\u001b[38;5;241;43m.\u001b[39;49m\u001b[43mconcatenate\u001b[49m\u001b[43m(\u001b[49m\u001b[43m(\u001b[49m\u001b[43mlj_full_band_mlegan_embeddings\u001b[49m\u001b[43m,\u001b[49m\u001b[43m \u001b[49m\u001b[43mlj_melgan_embeddings\u001b[49m\u001b[43m,\u001b[49m\u001b[43m \u001b[49m\u001b[43mlj_melgan_large_embeddings\u001b[49m\u001b[43m,\u001b[49m\u001b[43m \u001b[49m\u001b[43mlj_multi_band_melgan_embeddings\u001b[49m\u001b[43m,\u001b[49m\u001b[43m \u001b[49m\u001b[43mlj_parallel_wavegan_embeddings\u001b[49m\u001b[43m,\u001b[49m\u001b[43m \u001b[49m\u001b[43mlj_waveglow_embeddings\u001b[49m\u001b[43m,\u001b[49m\u001b[43m \u001b[49m\u001b[43mlf_real_embeddings\u001b[49m\u001b[43m)\u001b[49m\u001b[43m,\u001b[49m\u001b[43m \u001b[49m\u001b[43maxis\u001b[49m\u001b[38;5;241;43m=\u001b[39;49m\u001b[38;5;241;43m0\u001b[39;49m\u001b[43m)\u001b[49m\n",
      "File \u001b[0;32m<__array_function__ internals>:180\u001b[0m, in \u001b[0;36mconcatenate\u001b[0;34m(*args, **kwargs)\u001b[0m\n",
      "\u001b[0;31mValueError\u001b[0m: all the input arrays must have same number of dimensions, but the array at index 0 has 2 dimension(s) and the array at index 4 has 1 dimension(s)"
     ]
    }
   ],
   "source": [
    "X = np.concatenate((lj_full_band_mlegan_embeddings, lj_melgan_embeddings, lj_melgan_large_embeddings, lj_multi_band_melgan_embeddings, lj_parallel_wavegan_embeddings, lj_waveglow_embeddings, lf_real_embeddings), axis=0)"
   ]
  },
  {
   "cell_type": "code",
   "execution_count": 60,
   "id": "014e4663-63b5-442d-96cf-6c3d64e2b748",
   "metadata": {},
   "outputs": [
    {
     "data": {
      "text/plain": [
       "(0,)"
      ]
     },
     "execution_count": 60,
     "metadata": {},
     "output_type": "execute_result"
    }
   ],
   "source": [
    "lj_parallel_wavegan_embeddings.shape"
   ]
  },
  {
   "cell_type": "code",
   "execution_count": null,
   "id": "9fee2278-3466-4727-b4a1-f269a6d05cd0",
   "metadata": {},
   "outputs": [],
   "source": [
    "#model = nemo_asr.models.EncDecSpeakerLabelModel(cfg)"
   ]
  },
  {
   "cell_type": "code",
   "execution_count": null,
   "id": "23c01eae-e3c9-46da-afba-1dcd8c0d8a3b",
   "metadata": {},
   "outputs": [],
   "source": [
    "#model = nemo_asr.models.ASRModel.from_pretrained(model_name=\"titanet_large\")"
   ]
  },
  {
   "cell_type": "code",
   "execution_count": null,
   "id": "845fce62-a130-4c50-9eaf-10095cf44f7a",
   "metadata": {},
   "outputs": [],
   "source": [
    "#speaker_model = nemo_asr.models.EncDecSpeakerLabelModel.from_pretrained(model_name='titanet_large')"
   ]
  },
  {
   "cell_type": "code",
   "execution_count": null,
   "id": "88245151-b684-4746-9a47-6d94b12057cc",
   "metadata": {},
   "outputs": [],
   "source": [
    "#audio_path = r'/home/ubuntu/data/biden_wav_audio/16000KHz/09JW7Dmfs48_0_0.wav'\n",
    "#speaker_model.get_embedding(audio_path)"
   ]
  },
  {
   "cell_type": "code",
   "execution_count": null,
   "id": "a8a1c2a4-6cd5-470d-9eec-69c3d7db9b14",
   "metadata": {},
   "outputs": [],
   "source": [
    "#librosa.get_samplerate(audio_path)"
   ]
  },
  {
   "cell_type": "code",
   "execution_count": null,
   "id": "c6290482-1c62-45e4-bf0a-0cf316c9d2cd",
   "metadata": {},
   "outputs": [],
   "source": [
    "import os\n",
    "import soundfile as sf"
   ]
  },
  {
   "cell_type": "code",
   "execution_count": null,
   "id": "73db8799-d180-44d9-8e57-28d6db745060",
   "metadata": {},
   "outputs": [],
   "source": [
    "\n",
    "source_dir = 'data/wavefake_data/LJSpeech_1.1/wavs/Original'\n",
    "target_dir = 'data/wavefake_data/LJSpeech_1.1/wavs/16000KHz'\n",
    "target_sr = 16000\n",
    "for file in os.listdir(os.path.join(home_path, source_dir)):\n",
    "    y, sr = librosa.load(os.path.join(home_path, source_dir, file))\n",
    "    resampled_audio = librosa.resample(y=y.T, orig_sr=sr, target_sr=target_sr)\n",
    "    sf.write(os.path.join(home_path, target_dir, file), resampled_audio, target_sr, subtype='PCM_24')\n",
    "   "
   ]
  },
  {
   "cell_type": "code",
   "execution_count": null,
   "id": "dce6a19b-0539-45fd-8ce5-add481b3ffd3",
   "metadata": {},
   "outputs": [],
   "source": []
  },
  {
   "cell_type": "code",
   "execution_count": null,
   "id": "974772ea-cabd-4436-83db-46bd8a57a888",
   "metadata": {},
   "outputs": [],
   "source": [
    "\n",
    "import shutil\n",
    "\n",
    "path = 'data/wavefake_data/LJSpeech_1.1/wavs/'\n",
    "for file in list(os.walk(os.path.join(home_path,path)))[0][2]:\n",
    "    src_path = os.path.join(home_path, path, file)\n",
    "    dest_path = os.path.join(home_path,path,'Original',file)\n",
    "    shutil.move(src_path, dest_path)\n",
    "    \n"
   ]
  }
 ],
 "metadata": {
  "kernelspec": {
   "display_name": "nemo",
   "language": "python",
   "name": "nemo"
  },
  "language_info": {
   "codemirror_mode": {
    "name": "ipython",
    "version": 3
   },
   "file_extension": ".py",
   "mimetype": "text/x-python",
   "name": "python",
   "nbconvert_exporter": "python",
   "pygments_lexer": "ipython3",
   "version": "3.8.0"
  }
 },
 "nbformat": 4,
 "nbformat_minor": 5
}
