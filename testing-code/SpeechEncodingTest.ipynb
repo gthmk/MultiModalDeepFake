{
 "cells": [
  {
   "cell_type": "code",
   "execution_count": null,
   "id": "791035ce-c651-4f1b-8552-d034d5be4c6c",
   "metadata": {},
   "outputs": [
    {
     "name": "stderr",
     "output_type": "stream",
     "text": [
      "2023-03-13 21:57:47.460572: I tensorflow/core/platform/cpu_feature_guard.cc:193] This TensorFlow binary is optimized with oneAPI Deep Neural Network Library (oneDNN) to use the following CPU instructions in performance-critical operations:  AVX2 AVX512F AVX512_VNNI FMA\n",
      "To enable them in other operations, rebuild TensorFlow with the appropriate compiler flags.\n",
      "2023-03-13 21:57:47.591593: I tensorflow/core/util/port.cc:104] oneDNN custom operations are on. You may see slightly different numerical results due to floating-point round-off errors from different computation orders. To turn them off, set the environment variable `TF_ENABLE_ONEDNN_OPTS=0`.\n",
      "2023-03-13 21:57:48.277824: W tensorflow/compiler/xla/stream_executor/platform/default/dso_loader.cc:64] Could not load dynamic library 'libnvinfer.so.7'; dlerror: libnvinfer.so.7: cannot open shared object file: No such file or directory\n",
      "2023-03-13 21:57:48.277884: W tensorflow/compiler/xla/stream_executor/platform/default/dso_loader.cc:64] Could not load dynamic library 'libnvinfer_plugin.so.7'; dlerror: libnvinfer_plugin.so.7: cannot open shared object file: No such file or directory\n",
      "2023-03-13 21:57:48.277889: W tensorflow/compiler/tf2tensorrt/utils/py_utils.cc:38] TF-TRT Warning: Cannot dlopen some TensorRT libraries. If you would like to use Nvidia GPU with TensorRT, please make sure the missing libraries mentioned above are installed properly.\n",
      "[NeMo W 2023-03-13 21:57:49 optimizers:55] Apex was not found. Using the lamb or fused_adam optimizer will error out.\n",
      "[NeMo W 2023-03-13 21:57:49 experimental:27] Module <class 'nemo.collections.asr.models.audio_to_audio_model.AudioToAudioModel'> is experimental, not ready for production and is not fully supported. Use at your own risk.\n",
      "[NeMo W 2023-03-13 21:57:50 experimental:27] Module <class 'nemo.collections.asr.modules.audio_modules.SpectrogramToMultichannelFeatures'> is experimental, not ready for production and is not fully supported. Use at your own risk.\n",
      "[NeMo W 2023-03-13 21:57:50 nemo_logging:349] /home/ubuntu/miniconda3/envs/nemo/lib/python3.8/site-packages/torch/jit/annotations.py:309: UserWarning: TorchScript will treat type annotations of Tensor dtype-specific subtypes as if they are normal Tensors. dtype constraints are not enforced in compilation either.\n",
      "      warnings.warn(\"TorchScript will treat type annotations of Tensor \"\n",
      "    \n",
      "[NeMo W 2023-03-13 21:57:51 experimental:27] Module <class 'nemo.collections.asr.data.audio_to_audio.BaseAudioDataset'> is experimental, not ready for production and is not fully supported. Use at your own risk.\n",
      "[NeMo W 2023-03-13 21:57:51 experimental:27] Module <class 'nemo.collections.asr.data.audio_to_audio.AudioToTargetDataset'> is experimental, not ready for production and is not fully supported. Use at your own risk.\n",
      "[NeMo W 2023-03-13 21:57:51 experimental:27] Module <class 'nemo.collections.asr.data.audio_to_audio.AudioToTargetWithReferenceDataset'> is experimental, not ready for production and is not fully supported. Use at your own risk.\n",
      "[NeMo W 2023-03-13 21:57:51 experimental:27] Module <class 'nemo.collections.asr.data.audio_to_audio.AudioToTargetWithEmbeddingDataset'> is experimental, not ready for production and is not fully supported. Use at your own risk.\n",
      "[NeMo W 2023-03-13 21:57:51 experimental:27] Module <class 'nemo.collections.asr.models.enhancement_models.EncMaskDecAudioToAudioModel'> is experimental, not ready for production and is not fully supported. Use at your own risk.\n"
     ]
    }
   ],
   "source": [
    "import nemo.collections.asr as nemo_asr\n",
    "import librosa\n",
    "import os\n",
    "import random\n",
    "import numpy as np\n",
    "from sklearn.model_selection import train_test_split\n",
    "from sklearn.neighbors import KNeighborsClassifier\n",
    "from sklearn.metrics import accuracy_score\n",
    "from sklearn.manifold import TSNE\n",
    "import seaborn as sns\n",
    "import matplotlib.pyplot as plt\n",
    "import pandas as pd\n",
    "from sklearn.linear_model import LogisticRegression\n",
    "\n",
    "home_path = '/home/ubuntu'"
   ]
  },
  {
   "cell_type": "code",
   "execution_count": null,
   "id": "194ef67b-ec63-46cc-82c1-559ea85a4f04",
   "metadata": {},
   "outputs": [
    {
     "name": "stdout",
     "output_type": "stream",
     "text": [
      "[NeMo I 2023-03-13 21:57:51 cloud:56] Found existing object /home/ubuntu/.cache/torch/NeMo/NeMo_1.15.0/titanet-l/492c0ab8416139171dc18c21879a9e45/titanet-l.nemo.\n",
      "[NeMo I 2023-03-13 21:57:51 cloud:62] Re-using file from: /home/ubuntu/.cache/torch/NeMo/NeMo_1.15.0/titanet-l/492c0ab8416139171dc18c21879a9e45/titanet-l.nemo\n",
      "[NeMo I 2023-03-13 21:57:51 common:913] Instantiating model from pre-trained checkpoint\n"
     ]
    },
    {
     "name": "stderr",
     "output_type": "stream",
     "text": [
      "[NeMo W 2023-03-13 21:57:52 modelPT:156] If you intend to do training or fine-tuning, please call the ModelPT.setup_training_data() method and provide a valid configuration file to setup the train data loader.\n",
      "    Train config : \n",
      "    manifest_filepath: /manifests/combined_fisher_swbd_voxceleb12_librispeech/train.json\n",
      "    sample_rate: 16000\n",
      "    labels: null\n",
      "    batch_size: 64\n",
      "    shuffle: true\n",
      "    time_length: 3\n",
      "    is_tarred: false\n",
      "    tarred_audio_filepaths: null\n",
      "    tarred_shard_strategy: scatter\n",
      "    augmentor:\n",
      "      noise:\n",
      "        manifest_path: /manifests/noise/rir_noise_manifest.json\n",
      "        prob: 0.5\n",
      "        min_snr_db: 0\n",
      "        max_snr_db: 15\n",
      "      speed:\n",
      "        prob: 0.5\n",
      "        sr: 16000\n",
      "        resample_type: kaiser_fast\n",
      "        min_speed_rate: 0.95\n",
      "        max_speed_rate: 1.05\n",
      "    num_workers: 15\n",
      "    pin_memory: true\n",
      "    \n",
      "[NeMo W 2023-03-13 21:57:52 modelPT:163] If you intend to do validation, please call the ModelPT.setup_validation_data() or ModelPT.setup_multiple_validation_data() method and provide a valid configuration file to setup the validation data loader(s). \n",
      "    Validation config : \n",
      "    manifest_filepath: /manifests/combined_fisher_swbd_voxceleb12_librispeech/dev.json\n",
      "    sample_rate: 16000\n",
      "    labels: null\n",
      "    batch_size: 128\n",
      "    shuffle: false\n",
      "    time_length: 3\n",
      "    num_workers: 15\n",
      "    pin_memory: true\n",
      "    \n"
     ]
    },
    {
     "name": "stdout",
     "output_type": "stream",
     "text": [
      "[NeMo I 2023-03-13 21:57:52 label_models:126] Setting angular: true/false in decoder is deprecated and will be removed in 1.13 version, use specific loss with _target_\n",
      "[NeMo I 2023-03-13 21:57:52 features:267] PADDING: 16\n",
      "[NeMo I 2023-03-13 21:57:52 save_restore_connector:243] Model EncDecSpeakerLabelModel was successfully restored from /home/ubuntu/.cache/torch/NeMo/NeMo_1.15.0/titanet-l/492c0ab8416139171dc18c21879a9e45/titanet-l.nemo.\n"
     ]
    }
   ],
   "source": [
    "speaker_model = nemo_asr.models.EncDecSpeakerLabelModel.from_pretrained(model_name='titanet_large')"
   ]
  },
  {
   "cell_type": "markdown",
   "id": "3a907a95-bcad-4653-9492-743d0ff7ca20",
   "metadata": {},
   "source": [
    "## Introduction"
   ]
  },
  {
   "cell_type": "markdown",
   "id": "b674945f-d146-4549-b28b-32eab20a335d",
   "metadata": {},
   "source": [
    "The goal of this workbook is to test and experiment with different audio file encoding mechanisms. The goal here is to understand if given enough data wheter we can implement a embedding system that will be able to detect differences between real data and fake data."
   ]
  },
  {
   "cell_type": "markdown",
   "id": "a3068ab4-8680-408b-9eda-36ccd46fd914",
   "metadata": {},
   "source": [
    "The goal of this workbook is to answer a few questions:\n",
    "- Can we use out of the box pre-trained models for our problem?\n",
    "- What is the added benefit of fine-tuning the model using generated fakes?\n",
    "- How much data would be required to run fine-tuning?\n",
    "- Is there any reason to self-train the model?\n",
    "- How much data would we need self-train the model?\n",
    "- Can we increase the amount of data through data augmentation?\n",
    "- In general, what is the right length of each audio file to be useful"
   ]
  },
  {
   "cell_type": "markdown",
   "id": "31f1253a-8aa2-47b9-a78a-be1b75398498",
   "metadata": {},
   "source": [
    "To start, we will be using an out of the box model from NVIDIA NeMo called titanet_large. \n",
    "\n",
    "https://arxiv.org/pdf/2110.04410.pdf \n"
   ]
  },
  {
   "cell_type": "code",
   "execution_count": null,
   "id": "40e170ea-7d4b-4e08-87df-04863c5b55f2",
   "metadata": {},
   "outputs": [],
   "source": [
    "def normalize(ar):\n",
    "    return (ar - np.mean(ar, axis=0))/np.std(ar, axis=0)"
   ]
  },
  {
   "cell_type": "code",
   "execution_count": null,
   "id": "b502664d-753a-42a2-ad16-b3ad975761ac",
   "metadata": {},
   "outputs": [],
   "source": [
    "def load_data(folder_path, file_names=None):\n",
    "    file_paths = list(os.listdir(os.path.join(home_path, folder_path)))\n",
    "    \n",
    "    if isinstance(file_names, type(None)):\n",
    "        file_paths = [os.path.join(home_path, folder_path, file_path) for file_path in file_paths]\n",
    "    else:\n",
    "        file_paths = [os.path.join(home_path, folder_path, file_path) for file_path in file_paths if file_path in file_names]\n",
    "    return file_paths"
   ]
  },
  {
   "cell_type": "code",
   "execution_count": null,
   "id": "13c09fca-0a2a-4162-980d-0053f86189a5",
   "metadata": {},
   "outputs": [],
   "source": [
    "def get_embeddings(model, file_paths):\n",
    "\n",
    "    #embeddings = []\n",
    "    #for file_path in file_paths:\n",
    "    #    print(file_path)\n",
    "    #    model.get_embedding(file_path).cpu().detach().numpy()[0]\n",
    "        \n",
    "    \n",
    "    embeddings = np.array([model.get_embedding(file_path).cpu().detach().numpy()[0] for file_path in file_paths])\n",
    "    \n",
    "    if normalize:\n",
    "        pass\n",
    "        #embeddings = normalize(embeddings)\n",
    "    \n",
    "    np.random.shuffle(embeddings)\n",
    "    return embeddings"
   ]
  },
  {
   "cell_type": "code",
   "execution_count": null,
   "id": "dbfa141e-76af-4887-b4e8-dcb181acb5b5",
   "metadata": {},
   "outputs": [],
   "source": [
    "def get_TSNE_Embeddings(X):\n",
    "    tsne = TSNE(n_components=2, learning_rate='auto', init='random')\n",
    "    return tsne.fit_transform(X)"
   ]
  },
  {
   "cell_type": "code",
   "execution_count": null,
   "id": "c9d7cd55-48d2-4bc4-a6ee-1dfda6f17ee2",
   "metadata": {},
   "outputs": [],
   "source": [
    "def model_and_eval(X, y, model):\n",
    "    \n",
    "    #split into test/train\n",
    "    X_train, X_test, y_train, y_test =train_test_split(X, y, shuffle=True)\n",
    "    \n",
    "    # create the model\n",
    "    model.fit(X_train, y_train)\n",
    "\n",
    "    pred_train = model.predict(X_train) \n",
    "    pred_test = model.predict(X_test) \n",
    "    \n",
    "    #evaluate\n",
    "    print('Training Accuracy')\n",
    "    print('-------------------------------')\n",
    "    train_acc = accuracy_score(y_true=y_train, y_pred=pred_train)\n",
    "    print(f'Acc: {train_acc:.2f}')\n",
    "\n",
    "    print()\n",
    "\n",
    "    print('Testing Accuracy')\n",
    "    print('-------------------------------')\n",
    "    test_acc = accuracy_score(y_true=y_test, y_pred=pred_test)\n",
    "    print(f'Acc: {test_acc:.2f}')\n",
    "    \n",
    "    return model\n",
    "    "
   ]
  },
  {
   "cell_type": "markdown",
   "id": "f9f16860-6a44-4713-9d8a-57128c0fad0a",
   "metadata": {},
   "source": [
    "## Experiment #1\n",
    "For our first test, we will see how the TitaNet Large performs on the easy task of seperating Biden and Obama audio clips. '\n",
    "\n",
    "We will generate embeddings for audio clips for each speaker. With these embeddings, we will analyze them in two different ways:\n",
    "1. Run a simple classification model to see if we can find separation between the two voices\n",
    "2. Plot the embeddings using T-SNE and see if there are clear clusters in the data"
   ]
  },
  {
   "cell_type": "markdown",
   "id": "d1a0e90a-4e51-40b1-bb34-23a17685ec80",
   "metadata": {},
   "source": [
    "### Load the Data and Model"
   ]
  },
  {
   "cell_type": "code",
   "execution_count": null,
   "id": "8308c9ed-6cc9-4846-ac76-83b91b51810f",
   "metadata": {},
   "outputs": [],
   "source": [
    "#read in Biden and Obama Data\n",
    "biden_wav_folder = 'data/world-leaders-dataset/WavFiles/biden_wav_audio/16000KHz'\n",
    "obama_wav_folder = 'data/world-leaders-dataset/WavFiles/obama_wav_audio/16000KHz'\n",
    "\n",
    "biden_file_paths = load_data(biden_wav_folder)\n",
    "obama_file_paths = load_data(obama_wav_folder)"
   ]
  },
  {
   "cell_type": "markdown",
   "id": "2631f5f2-dc75-4604-9713-91365ddcfc52",
   "metadata": {},
   "source": [
    "### Generate Embeddings and Labels"
   ]
  },
  {
   "cell_type": "code",
   "execution_count": null,
   "id": "4e6fac5e-7e34-48e7-b3a2-a764dd7e24ef",
   "metadata": {},
   "outputs": [],
   "source": [
    "balance_classes = True"
   ]
  },
  {
   "cell_type": "code",
   "execution_count": null,
   "id": "9872c0c8-9986-4f27-a1e0-0fce1387ebc9",
   "metadata": {},
   "outputs": [
    {
     "name": "stderr",
     "output_type": "stream",
     "text": [
      "[NeMo W 2023-03-13 21:57:54 nemo_logging:349] /home/ubuntu/miniconda3/envs/nemo/lib/python3.8/site-packages/nemo/collections/asr/models/label_models.py:437: UserWarning: Creating a tensor from a list of numpy.ndarrays is extremely slow. Please consider converting the list to a single numpy.ndarray with numpy.array() before converting to a tensor. (Triggered internally at /opt/conda/conda-bld/pytorch_1670525491394/work/torch/csrc/utils/tensor_new.cpp:230.)\n",
      "      torch.tensor([audio], device=device),\n",
      "    \n"
     ]
    }
   ],
   "source": [
    "biden_embeddings = get_embeddings(model=speaker_model, file_paths=biden_file_paths)\n",
    "obama_embeddings = get_embeddings(model=speaker_model, file_paths=obama_file_paths)\n",
    "\n",
    "if balance_classes:\n",
    "    num_samples = min(len(biden_embeddings), len(obama_embeddings))\n",
    "    biden_embeddings = biden_embeddings[:num_samples,:]\n",
    "    obama_embeddings = obama_embeddings[:num_samples,:]\n",
    "    \n",
    "    biden_labels = [1]*num_samples\n",
    "    obama_labels = [0]*num_samples\n",
    "else:\n",
    "    biden_labels = [1]*biden_embeddings.shape[0]\n",
    "    obama_labels = [0]*obama_embeddings.shape[0]"
   ]
  },
  {
   "cell_type": "markdown",
   "id": "ba200d7d-6316-4da2-a7f4-971e5d0ce13e",
   "metadata": {},
   "source": [
    "## Run and Evaluate Classifier"
   ]
  },
  {
   "cell_type": "code",
   "execution_count": null,
   "id": "517831fd-6854-4717-a1ae-5147582a013b",
   "metadata": {},
   "outputs": [],
   "source": [
    "#combine the data\n",
    "X = np.concatenate((biden_embeddings, obama_embeddings), axis=0)\n",
    "y = np.concatenate((biden_labels, obama_labels))"
   ]
  },
  {
   "cell_type": "code",
   "execution_count": null,
   "id": "172fd381-6bcb-4069-ac72-772b20157c92",
   "metadata": {},
   "outputs": [
    {
     "name": "stdout",
     "output_type": "stream",
     "text": [
      "Training Accuracy\n",
      "-------------------------------\n",
      "Acc: 1.00\n",
      "\n",
      "Testing Accuracy\n",
      "-------------------------------\n",
      "Acc: 1.00\n"
     ]
    }
   ],
   "source": [
    "model = KNeighborsClassifier()\n",
    "model = model_and_eval(X, y, model)"
   ]
  },
  {
   "cell_type": "markdown",
   "id": "60523e6c-bc94-4c0b-8196-d9f4e6130712",
   "metadata": {},
   "source": [
    "### Plot the TSNE\n"
   ]
  },
  {
   "cell_type": "code",
   "execution_count": null,
   "id": "9ac52d4a-e2c8-44ee-af63-f91e2aff7412",
   "metadata": {},
   "outputs": [],
   "source": [
    "viz_samples = 50\n",
    "\n",
    "biden_embeddings_viz = biden_embeddings[:viz_samples,:]\n",
    "obama_embeddings_viz = obama_embeddings[:viz_samples,:]\n",
    "\n",
    "X_viz = np.concatenate((biden_embeddings_viz, obama_embeddings_viz))\n",
    "\n",
    "X_embed = get_TSNE_Embeddings(X_viz)"
   ]
  },
  {
   "cell_type": "code",
   "execution_count": null,
   "id": "81bce488-9f6e-4717-a1d6-11ec88e091ad",
   "metadata": {},
   "outputs": [
    {
     "data": {
      "image/png": "[encoded data removed]",
      "text/plain": [
       "<Figure size 640x480 with 1 Axes>"
      ]
     },
     "metadata": {},
     "output_type": "display_data"
    }
   ],
   "source": [
    "sns.scatterplot(x=X_embed[:50,0], y=X_embed[:50,1], color='red', label='Biden')\n",
    "sns.scatterplot(x=X_embed[50:,0], y=X_embed[50:,1], color='blue', label='Obama')\n",
    "plt.title('TSNE Biden vs. Obama Embeddings')\n",
    "plt.show()"
   ]
  },
  {
   "cell_type": "markdown",
   "id": "af3ce807-eb3b-43ab-bf67-065d7fe49a5c",
   "metadata": {},
   "source": [
    "## Experiment #2\n",
    "\n",
    "The model is able to easily differentiate between Biden and Obama's voice. We will now test if the out-of-the-box embeddings is able to differentiate between fake Biden audio clips created by ElevenLabs and real Biden clips."
   ]
  },
  {
   "cell_type": "markdown",
   "id": "151f1f99-3e84-4c61-b515-e1e36286c80a",
   "metadata": {},
   "source": [
    "### Load the Data"
   ]
  },
  {
   "cell_type": "code",
   "execution_count": null,
   "id": "d84307ac-2999-40a7-8322-0c1686df0a44",
   "metadata": {},
   "outputs": [],
   "source": [
    "#read in Biden fake data\n",
    "#we already have the real Biden Speech Embeddings, so no need to re-pull those\n",
    "biden_fake_wav_folder = 'data/world-leaders-dataset/11LabsDeepFakes/16000KHz'\n",
    "\n",
    "biden_fake_file_paths = load_data(biden_fake_wav_folder)"
   ]
  },
  {
   "cell_type": "markdown",
   "id": "a089c438-66ea-49b8-8ddb-c673788313f6",
   "metadata": {},
   "source": [
    "### Generate Embeddings and Labels"
   ]
  },
  {
   "cell_type": "code",
   "execution_count": null,
   "id": "543a72cc-7559-46e4-87dc-a91a3aa8b1a3",
   "metadata": {},
   "outputs": [],
   "source": [
    "balance_classes = True"
   ]
  },
  {
   "cell_type": "code",
   "execution_count": null,
   "id": "7a62d7ec-921e-4d4e-94a0-1742e351de98",
   "metadata": {},
   "outputs": [],
   "source": [
    "biden_real_embeddings = biden_embeddings #renaming for ease of reading\n",
    "biden_fake_embeddings = get_embeddings(model=speaker_model, file_paths=biden_fake_file_paths)\n",
    "\n",
    "if balance_classes:\n",
    "    num_samples = min(len(biden_real_embeddings), len(biden_fake_embeddings))\n",
    "    biden_real_embeddings = biden_real_embeddings[:num_samples,:]\n",
    "    biden_fake_embeddings = biden_fake_embeddings[:num_samples,:]\n",
    "    \n",
    "    biden_real_labels = [1]*num_samples\n",
    "    biden_fake_labels = [0]*num_samples\n",
    "else:\n",
    "    biden_real_labels = [1]*biden_real_embeddings.shape[0]\n",
    "    biden_faake_labels = [0]*biden_fake_embeddings.shape[0]"
   ]
  },
  {
   "cell_type": "markdown",
   "id": "41feda2d-f053-47b8-9d17-49d6bc969644",
   "metadata": {},
   "source": [
    "### Run and Evaluate Model\n"
   ]
  },
  {
   "cell_type": "code",
   "execution_count": null,
   "id": "b9162940-7043-4c1a-a332-d17bac64ff72",
   "metadata": {},
   "outputs": [],
   "source": [
    "#combine the data\n",
    "X = np.concatenate((biden_real_embeddings, biden_fake_embeddings), axis=0)\n",
    "y = np.concatenate((biden_real_labels, biden_fake_labels))"
   ]
  },
  {
   "cell_type": "code",
   "execution_count": null,
   "id": "df29a741-6561-41ff-abb5-185ad7456f3f",
   "metadata": {},
   "outputs": [
    {
     "name": "stdout",
     "output_type": "stream",
     "text": [
      "Training Accuracy\n",
      "-------------------------------\n",
      "Acc: 1.00\n",
      "\n",
      "Testing Accuracy\n",
      "-------------------------------\n",
      "Acc: 1.00\n"
     ]
    }
   ],
   "source": [
    "model = KNeighborsClassifier()\n",
    "model = model_and_eval(X, y, model)"
   ]
  },
  {
   "cell_type": "markdown",
   "id": "301c30e3-df93-4ea6-93f0-5d826080a41e",
   "metadata": {},
   "source": [
    "### Plot the TSNE"
   ]
  },
  {
   "cell_type": "code",
   "execution_count": null,
   "id": "bf608265-3f67-4239-ac5e-f99b2510702a",
   "metadata": {},
   "outputs": [],
   "source": [
    "viz_samples = 50\n",
    "\n",
    "biden_real_embeddings_viz = biden_real_embeddings[:viz_samples,:]\n",
    "biden_fake_embeddings_viz = biden_fake_embeddings[:viz_samples,:]\n",
    "\n",
    "X_viz = np.concatenate((biden_real_embeddings_viz, biden_fake_embeddings_viz))\n",
    "\n",
    "X_embed = get_TSNE_Embeddings(X_viz)"
   ]
  },
  {
   "cell_type": "code",
   "execution_count": null,
   "id": "e5fe5dce-950f-463c-b583-a9f255b699f2",
   "metadata": {},
   "outputs": [
    {
     "data": {
      "image/png": "[encoded data removed]",
      "text/plain": [
       "<Figure size 640x480 with 1 Axes>"
      ]
     },
     "metadata": {},
     "output_type": "display_data"
    }
   ],
   "source": [
    "sns.scatterplot(x=X_embed[:viz_samples,0], y=X_embed[:viz_samples,1], color='red', label='Real')\n",
    "sns.scatterplot(x=X_embed[viz_samples:,0], y=X_embed[viz_samples:,1], color='blue', label='Fake')\n",
    "plt.title('TSNE Biden Real vs. Biden Fake Embeddings')\n",
    "plt.show()"
   ]
  },
  {
   "cell_type": "markdown",
   "id": "7aa6c964-c34b-4ab4-b600-04d424d80776",
   "metadata": {},
   "source": [
    "## Experiment #3\n",
    "\n",
    "We see the model performs really well with ElevenLabs Data. We will also get the embeddings for a few deepfakes from the wild."
   ]
  },
  {
   "cell_type": "code",
   "execution_count": null,
   "id": "4ce3d638-6fbb-4055-a9ab-0fc6573f193d",
   "metadata": {},
   "outputs": [],
   "source": [
    "itw_reddit = os.path.join(home_path,'data/InTheWildFakes/Biden/16000KHz/biden-reddit-fake.wav')\n",
    "itw_twitter = os.path.join(home_path,'data/InTheWildFakes/Biden/16000KHz/biden-twitter-fake.wav')\n",
    "itw_twitter2 = os.path.join(home_path,'data/InTheWildFakes/Biden/16000KHz/jb-twitter-2-df-16khz.wav')\n",
    "itw_real = os.path.join(home_path,'data/InTheWildFakes/Biden/16000KHz/jb-real-sample-1-test-16khz.wav')\n",
    "\n",
    "itw_labels = [0,0,0,1]"
   ]
  },
  {
   "cell_type": "code",
   "execution_count": null,
   "id": "2cd234c9-2ddd-4493-a9f4-99f5efb13f5b",
   "metadata": {},
   "outputs": [],
   "source": [
    "itw_embeddings = get_embeddings(model=speaker_model, file_paths=[itw_reddit, itw_twitter, itw_twitter2, itw_real])"
   ]
  },
  {
   "cell_type": "code",
   "execution_count": null,
   "id": "8ab63da4-cab2-4c4e-b2ac-b2cb73e58053",
   "metadata": {},
   "outputs": [],
   "source": [
    "X_vis = np.concatenate((biden_real_embeddings_viz, itw_embeddings))\n",
    "\n",
    "X_embed = get_TSNE_Embeddings(X_viz)"
   ]
  },
  {
   "cell_type": "code",
   "execution_count": null,
   "id": "aed7d82f-e6e9-48dd-aa88-54178b3e3695",
   "metadata": {},
   "outputs": [],
   "source": [
    "itw_pred = model.predict(itw_embeddings)"
   ]
  },
  {
   "cell_type": "code",
   "execution_count": null,
   "id": "c17cbd28-a9d3-4904-a378-14033786ce7a",
   "metadata": {},
   "outputs": [
    {
     "name": "stdout",
     "output_type": "stream",
     "text": [
      "Training Accuracy\n",
      "-------------------------------\n",
      "Acc: 0.50\n"
     ]
    }
   ],
   "source": [
    "#evaluate\n",
    "print('Training Accuracy')\n",
    "print('-------------------------------')\n",
    "train_acc = accuracy_score(y_true=itw_labels, y_pred=itw_pred)\n",
    "print(f'Acc: {train_acc:.2f}')"
   ]
  },
  {
   "cell_type": "code",
   "execution_count": null,
   "id": "d0df5fc1-6e7d-429c-8700-65148cd88598",
   "metadata": {},
   "outputs": [
    {
     "data": {
      "image/png": "[encoded data removed]",
      "text/plain": [
       "<Figure size 640x480 with 1 Axes>"
      ]
     },
     "metadata": {},
     "output_type": "display_data"
    }
   ],
   "source": [
    "sns.scatterplot(x=X_embed[:50,0], y=X_embed[:50,1], color='red', label='Real')\n",
    "sns.scatterplot(x=X_embed[50:53,0], y=X_embed[50:53,1], color='blue', label='IRL Fake')\n",
    "sns.scatterplot(x=X_embed[53:54,0], y=X_embed[53:54,1], color='orange', label='IRL Real')\n",
    "plt.title('TSNE Biden Real vs. Biden Fake Embeddings')\n",
    "plt.show()"
   ]
  },
  {
   "cell_type": "markdown",
   "id": "ad2052f8-e5b1-442a-aad5-6bc8936c8fb7",
   "metadata": {},
   "source": [
    "## Experiment #4\n",
    "\n",
    "One known weakness is that ElevenLabs seems to be an easy problem to solve. As such, we want to see how the embeddings perform when we consider the LJ speech dataset"
   ]
  },
  {
   "cell_type": "code",
   "execution_count": null,
   "id": "c26c7285-08a3-43c6-8e61-e214e17b78b5",
   "metadata": {},
   "outputs": [],
   "source": [
    "def generate_embeddings_and_labels(dataframe, architectures):\n",
    "    \n",
    "    X = None\n",
    "    y = None\n",
    "    for architecture, idx in architectures.items():\n",
    "        embeddings = get_embeddings(model=speaker_model, file_paths=dataframe[architecture])\n",
    "        if isinstance(X, type(None)):\n",
    "            X = embeddings\n",
    "            y = np.array([idx]*embeddings.shape[0])\n",
    "        else:\n",
    "            X = np.concatenate((X, embeddings), axis=0)\n",
    "            y = np.concatenate((y, np.array([idx]*embeddings.shape[0])))\n",
    "        \n",
    "    return X, y"
   ]
  },
  {
   "cell_type": "code",
   "execution_count": null,
   "id": "8626262d-9f2d-4b7d-a847-b04d2f492dca",
   "metadata": {},
   "outputs": [],
   "source": [
    "def splitDataFromDf(metadata, train_perc, dev_perc, test_perc):\n",
    "    \n",
    "    metadata = metadata.sample(frac=1)\n",
    "    \n",
    "    train_idx = int(metadata.shape[0]*train_perc)\n",
    "    dev_idx = int(metadata.shape[0]*dev_perc)\n",
    "    test_idx = int(metadata.shape[0]*test_perc)\n",
    "    \n",
    "    X_train = metadata[:train_idx].copy()\n",
    "    X_dev = metadata[train_idx:train_idx+dev_idx].copy()\n",
    "    X_test = metadata[train_idx+dev_idx:].copy()\n",
    "    \n",
    "    return X_train, X_dev, X_test\n",
    "    "
   ]
  },
  {
   "cell_type": "code",
   "execution_count": null,
   "id": "6d3d595d-5579-4a7a-8954-1feefb03ebd1",
   "metadata": {},
   "outputs": [],
   "source": [
    "def run(metadata, train_perc, dev_perc, test_perc, architectures, model):\n",
    "    X_train_id, X_dev_id, X_test_id = splitDataFromDf(metadata, train_perc=0.8, dev_perc=0.0, test_perc=0.2)\n",
    "    \n",
    "    X_train, y_train = generate_embeddings_and_labels(X_train_id,architectures)\n",
    "    X_test, y_test = generate_embeddings_and_labels(X_test_id,architectures)\n",
    "    \n",
    "    model.fit(X_train, y_train)\n",
    "\n",
    "    train_pred = model.predict(X_train)\n",
    "    test_pred = model.predict(X_test)\n",
    "    \n",
    "    train_acc = accuracy_score(y_true=y_train, y_pred=train_pred)\n",
    "    test_acc = accuracy_score(y_true=y_test, y_pred=test_pred)\n",
    "\n",
    "    print('All Data')\n",
    "    print('----------')\n",
    "    print(f'Train Accuracy: {train_acc:.2f}')\n",
    "    print(f'Test Accuracy: {test_acc:.2f}')\n",
    "    print()\n",
    "    print()\n",
    "\n",
    "    for architecture, idx in architectures.items():\n",
    "        train_idx = np.where(y_train == idx)\n",
    "        test_idx = np.where(y_test == idx)\n",
    "\n",
    "        y_train_arch = y_train[train_idx]\n",
    "        y_test_arch = y_test[test_idx]\n",
    "        train_pred_arch = train_pred[train_idx]\n",
    "        test_pred_arch = test_pred[test_idx]\n",
    "\n",
    "        train_acc_arch = accuracy_score(y_true=y_train_arch, y_pred=train_pred_arch)\n",
    "        test_acc_arch = accuracy_score(y_true=y_test_arch, y_pred=test_pred_arch)\n",
    "\n",
    "\n",
    "        print(architecture)\n",
    "        print('----------')\n",
    "        print(f'Train Accuracy: {train_acc_arch:.2f}')\n",
    "        print(f'Test Accuracy: {test_acc_arch:.2f}')\n",
    "        print()\n",
    "        print()\n",
    "    \n",
    "    "
   ]
  },
  {
   "cell_type": "code",
   "execution_count": null,
   "id": "2407e2f7-6bb3-4e80-8152-c7301386b793",
   "metadata": {},
   "outputs": [
    {
     "name": "stdout",
     "output_type": "stream",
     "text": [
      "All Data\n",
      "----------\n",
      "Train Accuracy: 0.71\n",
      "Test Accuracy: 0.71\n",
      "\n",
      "\n",
      "Real\n",
      "----------\n",
      "Train Accuracy: 0.89\n",
      "Test Accuracy: 0.89\n",
      "\n",
      "\n",
      "Full_Band_MelGan\n",
      "----------\n",
      "Train Accuracy: 0.22\n",
      "Test Accuracy: 0.14\n",
      "\n",
      "\n",
      "HifiGan\n",
      "----------\n",
      "Train Accuracy: 0.35\n",
      "Test Accuracy: 0.29\n",
      "\n",
      "\n",
      "MelGan\n",
      "----------\n",
      "Train Accuracy: 0.33\n",
      "Test Accuracy: 0.51\n",
      "\n",
      "\n",
      "MelGanLarge\n",
      "----------\n",
      "Train Accuracy: 0.99\n",
      "Test Accuracy: 1.00\n",
      "\n",
      "\n",
      "Multi_Band_MelGan\n",
      "----------\n",
      "Train Accuracy: 0.74\n",
      "Test Accuracy: 0.71\n",
      "\n",
      "\n",
      "Parallel_WaveGan\n",
      "----------\n",
      "Train Accuracy: 0.93\n",
      "Test Accuracy: 0.89\n",
      "\n",
      "\n",
      "Waveglow\n",
      "----------\n",
      "Train Accuracy: 0.96\n",
      "Test Accuracy: 1.00\n",
      "\n",
      "\n",
      "ElevenLabs\n",
      "----------\n",
      "Train Accuracy: 1.00\n",
      "Test Accuracy: 1.00\n",
      "\n",
      "\n"
     ]
    }
   ],
   "source": [
    "lj_metadata = pd.read_csv('/home/ubuntu/data/wavefake_data/LJ_metadata_16000KHz.csv')\n",
    "lj_metadata = lj_metadata[~lj_metadata.ElevenLabs.isna()]\n",
    "\n",
    "sample_perc = 0.1\n",
    "lj_metadata = lj_metadata.sample(frac=sample_perc)\n",
    "\n",
    "\n",
    "model = LogisticRegression()\n",
    "architectures = {'Real':0, 'Full_Band_MelGan':1, 'HifiGan':2, 'MelGan':3, 'MelGanLarge':4, 'Multi_Band_MelGan':5, 'Parallel_WaveGan':6, 'Waveglow':7, 'ElevenLabs':8}\n",
    "run(lj_metadata, 0.8, 0.0, 0.2 , architectures, model)"
   ]
  },
  {
   "cell_type": "markdown",
   "id": "6c76b308-3c3b-4057-b0fb-3000abcd288e",
   "metadata": {},
   "source": [
    "## Experiment #5\n",
    "\n",
    "Testing with 3 classes: Real, MelGAN, 11Labs"
   ]
  },
  {
   "cell_type": "code",
   "execution_count": null,
   "id": "3d093cd0-80a0-4bb1-b384-a4e871f182cb",
   "metadata": {},
   "outputs": [],
   "source": [
    "def randomlySelectCols(rw, src_cols):\n",
    "    \n",
    "    rand_idx = np.random.randint(0, len(src_cols))\n",
    "    return rw[src_cols[rand_idx]]\n",
    "    "
   ]
  },
  {
   "cell_type": "code",
   "execution_count": null,
   "id": "4e40b01a-cc6e-400f-bbbe-6b88cbff3233",
   "metadata": {},
   "outputs": [],
   "source": [
    "lj_metadata_3_class = lj_metadata.copy()\n",
    "\n",
    "src_cols = ['Full_Band_MelGan', 'HifiGan', 'MelGan', 'MelGanLarge', 'Multi_Band_MelGan', 'Parallel_WaveGan', 'Waveglow']\n",
    "lj_metadata_3_class['RandMelGAN'] = lj_metadata_3_class.apply(lambda row: randomlySelectCols(row, src_cols), axis=1)"
   ]
  },
  {
   "cell_type": "code",
   "execution_count": null,
   "id": "50690631-fc17-4b75-824a-dbb6f3307a8a",
   "metadata": {},
   "outputs": [
    {
     "name": "stdout",
     "output_type": "stream",
     "text": [
      "All Data\n",
      "----------\n",
      "Train Accuracy: 0.94\n",
      "Test Accuracy: 0.96\n",
      "\n",
      "\n",
      "Real\n",
      "----------\n",
      "Train Accuracy: 0.93\n",
      "Test Accuracy: 0.94\n",
      "\n",
      "\n",
      "RandMelGAN\n",
      "----------\n",
      "Train Accuracy: 0.90\n",
      "Test Accuracy: 0.94\n",
      "\n",
      "\n",
      "ElevenLabs\n",
      "----------\n",
      "Train Accuracy: 1.00\n",
      "Test Accuracy: 1.00\n",
      "\n",
      "\n"
     ]
    }
   ],
   "source": [
    "model = LogisticRegression()\n",
    "architectures = {'Real':0, 'RandMelGAN':1, 'ElevenLabs':2}\n",
    "run(lj_metadata_3_class, 0.8, 0.0, 0.2 , architectures, model)"
   ]
  },
  {
   "cell_type": "markdown",
   "id": "b75c794c-4228-4847-8615-4ede88586eff",
   "metadata": {},
   "source": [
    "## Experiment #6\n",
    "\n",
    "Testing with 3 classes: Real, Fake"
   ]
  },
  {
   "cell_type": "code",
   "execution_count": null,
   "id": "c87a66c2-b560-4317-b125-d5f7e3c103f5",
   "metadata": {},
   "outputs": [],
   "source": [
    "lj_metadata_2_class = lj_metadata.copy()\n",
    "\n",
    "src_cols = ['Full_Band_MelGan', 'HifiGan', 'MelGan', 'MelGanLarge', 'Multi_Band_MelGan', 'Parallel_WaveGan', 'Waveglow', 'ElevenLabs']\n",
    "lj_metadata_2_class['RandFake'] = lj_metadata_2_class.apply(lambda row: randomlySelectCols(row, src_cols), axis=1)"
   ]
  },
  {
   "cell_type": "code",
   "execution_count": null,
   "id": "d1730bf0-e249-4e34-8326-2f41e78d18c4",
   "metadata": {},
   "outputs": [
    {
     "name": "stdout",
     "output_type": "stream",
     "text": [
      "All Data\n",
      "----------\n",
      "Train Accuracy: 0.94\n",
      "Test Accuracy: 0.90\n",
      "\n",
      "\n",
      "Real\n",
      "----------\n",
      "Train Accuracy: 0.98\n",
      "Test Accuracy: 0.91\n",
      "\n",
      "\n",
      "RandFake\n",
      "----------\n",
      "Train Accuracy: 0.90\n",
      "Test Accuracy: 0.89\n",
      "\n",
      "\n"
     ]
    }
   ],
   "source": [
    "model = LogisticRegression()\n",
    "architectures = {'Real':0, 'RandFake':1}\n",
    "run(lj_metadata_2_class, 0.8, 0.0, 0.2 , architectures, model)"
   ]
  },
  {
   "cell_type": "markdown",
   "id": "66cbd059-bb4d-4222-a9eb-4387081a8e78",
   "metadata": {},
   "source": [
    "## Experiment #7\n",
    "\n",
    "Testing with all classes using AAC MP4 with a 64K bitrate"
   ]
  },
  {
   "cell_type": "code",
   "execution_count": null,
   "id": "83535c45-cbe6-4003-9fe7-228830b8462a",
   "metadata": {},
   "outputs": [],
   "source": [
    "lj_metadata = pd.read_csv('/home/ubuntu/data/wavefake_data/LJ_metadata_16000KHz_AAC_64K.csv')\n",
    "lj_metadata = lj_metadata[~lj_metadata.ElevenLabs.isna()]\n",
    "\n",
    "sample_perc = 0.1\n",
    "lj_metadata = lj_metadata.sample(frac=sample_perc)\n",
    "\n",
    "architectures = {'Real':0, 'Full_Band_MelGan':1, 'HifiGan':2, 'MelGan':3, 'MelGanLarge':4, 'Multi_Band_MelGan':5, 'Parallel_WaveGan':6, 'Waveglow':7, 'ElevenLabs':8}"
   ]
  },
  {
   "cell_type": "code",
   "execution_count": null,
   "id": "c9c55074-e314-4dae-ab47-f1bb9ac36b1f",
   "metadata": {},
   "outputs": [
    {
     "name": "stdout",
     "output_type": "stream",
     "text": [
      "All Data\n",
      "----------\n",
      "Train Accuracy: 0.71\n",
      "Test Accuracy: 0.71\n",
      "\n",
      "\n",
      "Real\n",
      "----------\n",
      "Train Accuracy: 0.91\n",
      "Test Accuracy: 0.89\n",
      "\n",
      "\n",
      "Full_Band_MelGan\n",
      "----------\n",
      "Train Accuracy: 0.22\n",
      "Test Accuracy: 0.14\n",
      "\n",
      "\n",
      "HifiGan\n",
      "----------\n",
      "Train Accuracy: 0.34\n",
      "Test Accuracy: 0.31\n",
      "\n",
      "\n",
      "MelGan\n",
      "----------\n",
      "Train Accuracy: 0.35\n",
      "Test Accuracy: 0.37\n",
      "\n",
      "\n",
      "MelGanLarge\n",
      "----------\n",
      "Train Accuracy: 0.99\n",
      "Test Accuracy: 1.00\n",
      "\n",
      "\n",
      "Multi_Band_MelGan\n",
      "----------\n",
      "Train Accuracy: 0.71\n",
      "Test Accuracy: 0.77\n",
      "\n",
      "\n",
      "Parallel_WaveGan\n",
      "----------\n",
      "Train Accuracy: 0.93\n",
      "Test Accuracy: 0.94\n",
      "\n",
      "\n",
      "Waveglow\n",
      "----------\n",
      "Train Accuracy: 0.94\n",
      "Test Accuracy: 0.97\n",
      "\n",
      "\n",
      "ElevenLabs\n",
      "----------\n",
      "Train Accuracy: 1.00\n",
      "Test Accuracy: 1.00\n",
      "\n",
      "\n"
     ]
    }
   ],
   "source": [
    "model = LogisticRegression()\n",
    "architectures = {'Real':0, 'Full_Band_MelGan':1, 'HifiGan':2, 'MelGan':3, 'MelGanLarge':4, 'Multi_Band_MelGan':5, 'Parallel_WaveGan':6, 'Waveglow':7, 'ElevenLabs':8}\n",
    "run(lj_metadata, 0.8, 0.0, 0.2 , architectures, model)"
   ]
  },
  {
   "cell_type": "markdown",
   "id": "6db72bce-cdda-461c-93eb-1abda8276ff3",
   "metadata": {},
   "source": [
    "## Experiment #8\n",
    "\n",
    "AAC MP4 with a 64K Bitrate. 3 Classes: Real, RandMelGAN, ElevenLabs"
   ]
  },
  {
   "cell_type": "code",
   "execution_count": null,
   "id": "01ad66b2-cb28-4d0d-8f27-46f921648640",
   "metadata": {},
   "outputs": [],
   "source": [
    "lj_metadata_2_class = lj_metadata.copy()\n",
    "\n",
    "src_cols = ['Full_Band_MelGan', 'HifiGan', 'MelGan', 'MelGanLarge', 'Multi_Band_MelGan', 'Parallel_WaveGan', 'Waveglow', 'ElevenLabs']\n",
    "lj_metadata_2_class['RandFake'] = lj_metadata_2_class.apply(lambda row: randomlySelectCols(row, src_cols), axis=1)"
   ]
  },
  {
   "cell_type": "code",
   "execution_count": null,
   "id": "b040de6b-7019-42ac-af8d-92ce4134023b",
   "metadata": {},
   "outputs": [
    {
     "name": "stdout",
     "output_type": "stream",
     "text": [
      "All Data\n",
      "----------\n",
      "Train Accuracy: 0.96\n",
      "Test Accuracy: 0.90\n",
      "\n",
      "\n",
      "Real\n",
      "----------\n",
      "Train Accuracy: 0.96\n",
      "Test Accuracy: 0.83\n",
      "\n",
      "\n",
      "RandMelGAN\n",
      "----------\n",
      "Train Accuracy: 0.92\n",
      "Test Accuracy: 0.89\n",
      "\n",
      "\n",
      "ElevenLabs\n",
      "----------\n",
      "Train Accuracy: 1.00\n",
      "Test Accuracy: 1.00\n",
      "\n",
      "\n"
     ]
    }
   ],
   "source": [
    "model = LogisticRegression()\n",
    "architectures = {'Real':0, 'RandMelGAN':1, 'ElevenLabs':2}\n",
    "run(lj_metadata_3_class, 0.8, 0.0, 0.2 , architectures, model)"
   ]
  },
  {
   "cell_type": "code",
   "execution_count": null,
   "id": "93ac0095",
   "metadata": {},
   "outputs": [
    {
     "name": "stderr",
     "output_type": "stream",
     "text": [
      "2023-03-13 21:57:47.460572: I tensorflow/core/platform/cpu_feature_guard.cc:193] This TensorFlow binary is optimized with oneAPI Deep Neural Network Library (oneDNN) to use the following CPU instructions in performance-critical operations:  AVX2 AVX512F AVX512_VNNI FMA\n",
      "To enable them in other operations, rebuild TensorFlow with the appropriate compiler flags.\n",
      "2023-03-13 21:57:47.591593: I tensorflow/core/util/port.cc:104] oneDNN custom operations are on. You may see slightly different numerical results due to floating-point round-off errors from different computation orders. To turn them off, set the environment variable `TF_ENABLE_ONEDNN_OPTS=0`.\n",
      "2023-03-13 21:57:48.277824: W tensorflow/compiler/xla/stream_executor/platform/default/dso_loader.cc:64] Could not load dynamic library 'libnvinfer.so.7'; dlerror: libnvinfer.so.7: cannot open shared object file: No such file or directory\n",
      "2023-03-13 21:57:48.277884: W tensorflow/compiler/xla/stream_executor/platform/default/dso_loader.cc:64] Could not load dynamic library 'libnvinfer_plugin.so.7'; dlerror: libnvinfer_plugin.so.7: cannot open shared object file: No such file or directory\n",
      "2023-03-13 21:57:48.277889: W tensorflow/compiler/tf2tensorrt/utils/py_utils.cc:38] TF-TRT Warning: Cannot dlopen some TensorRT libraries. If you would like to use Nvidia GPU with TensorRT, please make sure the missing libraries mentioned above are installed properly.\n",
      "[NeMo W 2023-03-13 21:57:49 optimizers:55] Apex was not found. Using the lamb or fused_adam optimizer will error out.\n",
      "[NeMo W 2023-03-13 21:57:49 experimental:27] Module <class 'nemo.collections.asr.models.audio_to_audio_model.AudioToAudioModel'> is experimental, not ready for production and is not fully supported. Use at your own risk.\n",
      "[NeMo W 2023-03-13 21:57:50 experimental:27] Module <class 'nemo.collections.asr.modules.audio_modules.SpectrogramToMultichannelFeatures'> is experimental, not ready for production and is not fully supported. Use at your own risk.\n",
      "[NeMo W 2023-03-13 21:57:50 nemo_logging:349] /home/ubuntu/miniconda3/envs/nemo/lib/python3.8/site-packages/torch/jit/annotations.py:309: UserWarning: TorchScript will treat type annotations of Tensor dtype-specific subtypes as if they are normal Tensors. dtype constraints are not enforced in compilation either.\n",
      "      warnings.warn(\"TorchScript will treat type annotations of Tensor \"\n",
      "    \n",
      "[NeMo W 2023-03-13 21:57:51 experimental:27] Module <class 'nemo.collections.asr.data.audio_to_audio.BaseAudioDataset'> is experimental, not ready for production and is not fully supported. Use at your own risk.\n",
      "[NeMo W 2023-03-13 21:57:51 experimental:27] Module <class 'nemo.collections.asr.data.audio_to_audio.AudioToTargetDataset'> is experimental, not ready for production and is not fully supported. Use at your own risk.\n",
      "[NeMo W 2023-03-13 21:57:51 experimental:27] Module <class 'nemo.collections.asr.data.audio_to_audio.AudioToTargetWithReferenceDataset'> is experimental, not ready for production and is not fully supported. Use at your own risk.\n",
      "[NeMo W 2023-03-13 21:57:51 experimental:27] Module <class 'nemo.collections.asr.data.audio_to_audio.AudioToTargetWithEmbeddingDataset'> is experimental, not ready for production and is not fully supported. Use at your own risk.\n",
      "[NeMo W 2023-03-13 21:57:51 experimental:27] Module <class 'nemo.collections.asr.models.enhancement_models.EncMaskDecAudioToAudioModel'> is experimental, not ready for production and is not fully supported. Use at your own risk.\n"
     ]
    }
   ],
   "source": [
    "import nemo.collections.asr as nemo_asr\n",
    "import librosa\n",
    "import os\n",
    "import random\n",
    "import numpy as np\n",
    "from sklearn.model_selection import train_test_split\n",
    "from sklearn.neighbors import KNeighborsClassifier\n",
    "from sklearn.metrics import accuracy_score\n",
    "from sklearn.manifold import TSNE\n",
    "import seaborn as sns\n",
    "import matplotlib.pyplot as plt\n",
    "import pandas as pd\n",
    "from sklearn.linear_model import LogisticRegression\n",
    "\n",
    "home_path = '/home/ubuntu'"
   ]
  },
  {
   "cell_type": "code",
   "execution_count": null,
   "id": "587400dd",
   "metadata": {},
   "outputs": [
    {
     "name": "stdout",
     "output_type": "stream",
     "text": [
      "[NeMo I 2023-03-13 21:57:51 cloud:56] Found existing object /home/ubuntu/.cache/torch/NeMo/NeMo_1.15.0/titanet-l/492c0ab8416139171dc18c21879a9e45/titanet-l.nemo.\n",
      "[NeMo I 2023-03-13 21:57:51 cloud:62] Re-using file from: /home/ubuntu/.cache/torch/NeMo/NeMo_1.15.0/titanet-l/492c0ab8416139171dc18c21879a9e45/titanet-l.nemo\n",
      "[NeMo I 2023-03-13 21:57:51 common:913] Instantiating model from pre-trained checkpoint\n"
     ]
    },
    {
     "name": "stderr",
     "output_type": "stream",
     "text": [
      "[NeMo W 2023-03-13 21:57:52 modelPT:156] If you intend to do training or fine-tuning, please call the ModelPT.setup_training_data() method and provide a valid configuration file to setup the train data loader.\n",
      "    Train config : \n",
      "    manifest_filepath: /manifests/combined_fisher_swbd_voxceleb12_librispeech/train.json\n",
      "    sample_rate: 16000\n",
      "    labels: null\n",
      "    batch_size: 64\n",
      "    shuffle: true\n",
      "    time_length: 3\n",
      "    is_tarred: false\n",
      "    tarred_audio_filepaths: null\n",
      "    tarred_shard_strategy: scatter\n",
      "    augmentor:\n",
      "      noise:\n",
      "        manifest_path: /manifests/noise/rir_noise_manifest.json\n",
      "        prob: 0.5\n",
      "        min_snr_db: 0\n",
      "        max_snr_db: 15\n",
      "      speed:\n",
      "        prob: 0.5\n",
      "        sr: 16000\n",
      "        resample_type: kaiser_fast\n",
      "        min_speed_rate: 0.95\n",
      "        max_speed_rate: 1.05\n",
      "    num_workers: 15\n",
      "    pin_memory: true\n",
      "    \n",
      "[NeMo W 2023-03-13 21:57:52 modelPT:163] If you intend to do validation, please call the ModelPT.setup_validation_data() or ModelPT.setup_multiple_validation_data() method and provide a valid configuration file to setup the validation data loader(s). \n",
      "    Validation config : \n",
      "    manifest_filepath: /manifests/combined_fisher_swbd_voxceleb12_librispeech/dev.json\n",
      "    sample_rate: 16000\n",
      "    labels: null\n",
      "    batch_size: 128\n",
      "    shuffle: false\n",
      "    time_length: 3\n",
      "    num_workers: 15\n",
      "    pin_memory: true\n",
      "    \n"
     ]
    },
    {
     "name": "stdout",
     "output_type": "stream",
     "text": [
      "[NeMo I 2023-03-13 21:57:52 label_models:126] Setting angular: true/false in decoder is deprecated and will be removed in 1.13 version, use specific loss with _target_\n",
      "[NeMo I 2023-03-13 21:57:52 features:267] PADDING: 16\n",
      "[NeMo I 2023-03-13 21:57:52 save_restore_connector:243] Model EncDecSpeakerLabelModel was successfully restored from /home/ubuntu/.cache/torch/NeMo/NeMo_1.15.0/titanet-l/492c0ab8416139171dc18c21879a9e45/titanet-l.nemo.\n"
     ]
    }
   ],
   "source": [
    "speaker_model = nemo_asr.models.EncDecSpeakerLabelModel.from_pretrained(model_name='titanet_large')"
   ]
  },
  {
   "cell_type": "markdown",
   "id": "0d3ccb01",
   "metadata": {},
   "source": [
    "## Introduction"
   ]
  },
  {
   "cell_type": "markdown",
   "id": "4b47b27e",
   "metadata": {},
   "source": [
    "The goal of this workbook is to test and experiment with different audio file encoding mechanisms. The goal here is to understand if given enough data wheter we can implement a embedding system that will be able to detect differences between real data and fake data."
   ]
  },
  {
   "cell_type": "markdown",
   "id": "a93252da",
   "metadata": {},
   "source": [
    "The goal of this workbook is to answer a few questions:\n",
    "- Can we use out of the box pre-trained models for our problem?\n",
    "- What is the added benefit of fine-tuning the model using generated fakes?\n",
    "- How much data would be required to run fine-tuning?\n",
    "- Is there any reason to self-train the model?\n",
    "- How much data would we need self-train the model?\n",
    "- Can we increase the amount of data through data augmentation?\n",
    "- In general, what is the right length of each audio file to be useful"
   ]
  },
  {
   "cell_type": "markdown",
   "id": "b0f0e5c1",
   "metadata": {},
   "source": [
    "To start, we will be using an out of the box model from NVIDIA NeMo called titanet_large. \n",
    "\n",
    "https://arxiv.org/pdf/2110.04410.pdf \n"
   ]
  },
  {
   "cell_type": "code",
   "execution_count": null,
   "id": "4ccf1681",
   "metadata": {},
   "outputs": [],
   "source": [
    "def normalize(ar):\n",
    "    return (ar - np.mean(ar, axis=0))/np.std(ar, axis=0)"
   ]
  },
  {
   "cell_type": "code",
   "execution_count": null,
   "id": "58ef165e",
   "metadata": {},
   "outputs": [],
   "source": [
    "def load_data(folder_path, file_names=None):\n",
    "    file_paths = list(os.listdir(os.path.join(home_path, folder_path)))\n",
    "    \n",
    "    if isinstance(file_names, type(None)):\n",
    "        file_paths = [os.path.join(home_path, folder_path, file_path) for file_path in file_paths]\n",
    "    else:\n",
    "        file_paths = [os.path.join(home_path, folder_path, file_path) for file_path in file_paths if file_path in file_names]\n",
    "    return file_paths"
   ]
  },
  {
   "cell_type": "code",
   "execution_count": null,
   "id": "93608e0c",
   "metadata": {},
   "outputs": [],
   "source": [
    "def get_embeddings(model, file_paths):\n",
    "\n",
    "    #embeddings = []\n",
    "    #for file_path in file_paths:\n",
    "    #    print(file_path)\n",
    "    #    model.get_embedding(file_path).cpu().detach().numpy()[0]\n",
    "        \n",
    "    \n",
    "    embeddings = np.array([model.get_embedding(file_path).cpu().detach().numpy()[0] for file_path in file_paths])\n",
    "    \n",
    "    if normalize:\n",
    "        pass\n",
    "        #embeddings = normalize(embeddings)\n",
    "    \n",
    "    np.random.shuffle(embeddings)\n",
    "    return embeddings"
   ]
  },
  {
   "cell_type": "code",
   "execution_count": null,
   "id": "75fbfa3e",
   "metadata": {},
   "outputs": [],
   "source": [
    "def get_TSNE_Embeddings(X):\n",
    "    tsne = TSNE(n_components=2, learning_rate='auto', init='random')\n",
    "    return tsne.fit_transform(X)"
   ]
  },
  {
   "cell_type": "code",
   "execution_count": null,
   "id": "535e2c18",
   "metadata": {},
   "outputs": [],
   "source": [
    "def model_and_eval(X, y, model):\n",
    "    \n",
    "    #split into test/train\n",
    "    X_train, X_test, y_train, y_test =train_test_split(X, y, shuffle=True)\n",
    "    \n",
    "    # create the model\n",
    "    model.fit(X_train, y_train)\n",
    "\n",
    "    pred_train = model.predict(X_train) \n",
    "    pred_test = model.predict(X_test) \n",
    "    \n",
    "    #evaluate\n",
    "    print('Training Accuracy')\n",
    "    print('-------------------------------')\n",
    "    train_acc = accuracy_score(y_true=y_train, y_pred=pred_train)\n",
    "    print(f'Acc: {train_acc:.2f}')\n",
    "\n",
    "    print()\n",
    "\n",
    "    print('Testing Accuracy')\n",
    "    print('-------------------------------')\n",
    "    test_acc = accuracy_score(y_true=y_test, y_pred=pred_test)\n",
    "    print(f'Acc: {test_acc:.2f}')\n",
    "    \n",
    "    return model\n",
    "    "
   ]
  },
  {
   "cell_type": "markdown",
   "id": "c9878f63",
   "metadata": {},
   "source": [
    "## Experiment #1\n",
    "For our first test, we will see how the TitaNet Large performs on the easy task of seperating Biden and Obama audio clips. '\n",
    "\n",
    "We will generate embeddings for audio clips for each speaker. With these embeddings, we will analyze them in two different ways:\n",
    "1. Run a simple classification model to see if we can find separation between the two voices\n",
    "2. Plot the embeddings using T-SNE and see if there are clear clusters in the data"
   ]
  },
  {
   "cell_type": "markdown",
   "id": "5570e40f",
   "metadata": {},
   "source": [
    "### Load the Data and Model"
   ]
  },
  {
   "cell_type": "code",
   "execution_count": null,
   "id": "af6c3fc8",
   "metadata": {},
   "outputs": [],
   "source": [
    "#read in Biden and Obama Data\n",
    "biden_wav_folder = 'data/world-leaders-dataset/WavFiles/biden_wav_audio/16000KHz'\n",
    "obama_wav_folder = 'data/world-leaders-dataset/WavFiles/obama_wav_audio/16000KHz'\n",
    "\n",
    "biden_file_paths = load_data(biden_wav_folder)\n",
    "obama_file_paths = load_data(obama_wav_folder)"
   ]
  },
  {
   "cell_type": "markdown",
   "id": "150136f7",
   "metadata": {},
   "source": [
    "### Generate Embeddings and Labels"
   ]
  },
  {
   "cell_type": "code",
   "execution_count": null,
   "id": "c84d78b5",
   "metadata": {},
   "outputs": [],
   "source": [
    "balance_classes = True"
   ]
  },
  {
   "cell_type": "code",
   "execution_count": null,
   "id": "fc1d7259",
   "metadata": {},
   "outputs": [
    {
     "name": "stderr",
     "output_type": "stream",
     "text": [
      "[NeMo W 2023-03-13 21:57:54 nemo_logging:349] /home/ubuntu/miniconda3/envs/nemo/lib/python3.8/site-packages/nemo/collections/asr/models/label_models.py:437: UserWarning: Creating a tensor from a list of numpy.ndarrays is extremely slow. Please consider converting the list to a single numpy.ndarray with numpy.array() before converting to a tensor. (Triggered internally at /opt/conda/conda-bld/pytorch_1670525491394/work/torch/csrc/utils/tensor_new.cpp:230.)\n",
      "      torch.tensor([audio], device=device),\n",
      "    \n"
     ]
    }
   ],
   "source": [
    "biden_embeddings = get_embeddings(model=speaker_model, file_paths=biden_file_paths)\n",
    "obama_embeddings = get_embeddings(model=speaker_model, file_paths=obama_file_paths)\n",
    "\n",
    "if balance_classes:\n",
    "    num_samples = min(len(biden_embeddings), len(obama_embeddings))\n",
    "    biden_embeddings = biden_embeddings[:num_samples,:]\n",
    "    obama_embeddings = obama_embeddings[:num_samples,:]\n",
    "    \n",
    "    biden_labels = [1]*num_samples\n",
    "    obama_labels = [0]*num_samples\n",
    "else:\n",
    "    biden_labels = [1]*biden_embeddings.shape[0]\n",
    "    obama_labels = [0]*obama_embeddings.shape[0]"
   ]
  },
  {
   "cell_type": "markdown",
   "id": "75b28404",
   "metadata": {},
   "source": [
    "## Run and Evaluate Classifier"
   ]
  },
  {
   "cell_type": "code",
   "execution_count": null,
   "id": "f1a5275b",
   "metadata": {},
   "outputs": [],
   "source": [
    "#combine the data\n",
    "X = np.concatenate((biden_embeddings, obama_embeddings), axis=0)\n",
    "y = np.concatenate((biden_labels, obama_labels))"
   ]
  },
  {
   "cell_type": "code",
   "execution_count": null,
   "id": "381d5593",
   "metadata": {},
   "outputs": [
    {
     "name": "stdout",
     "output_type": "stream",
     "text": [
      "Training Accuracy\n",
      "-------------------------------\n",
      "Acc: 1.00\n",
      "\n",
      "Testing Accuracy\n",
      "-------------------------------\n",
      "Acc: 1.00\n"
     ]
    }
   ],
   "source": [
    "model = KNeighborsClassifier()\n",
    "model = model_and_eval(X, y, model)"
   ]
  },
  {
   "cell_type": "markdown",
   "id": "c18b70e2",
   "metadata": {},
   "source": [
    "### Plot the TSNE\n"
   ]
  },
  {
   "cell_type": "code",
   "execution_count": null,
   "id": "b6c31729",
   "metadata": {},
   "outputs": [],
   "source": [
    "viz_samples = 50\n",
    "\n",
    "biden_embeddings_viz = biden_embeddings[:viz_samples,:]\n",
    "obama_embeddings_viz = obama_embeddings[:viz_samples,:]\n",
    "\n",
    "X_viz = np.concatenate((biden_embeddings_viz, obama_embeddings_viz))\n",
    "\n",
    "X_embed = get_TSNE_Embeddings(X_viz)"
   ]
  },
  {
   "cell_type": "code",
   "execution_count": null,
   "id": "6228a6e9",
   "metadata": {},
   "outputs": [
    {
     "data": {
      "image/png": "[encoded data removed]",
      "text/plain": [
       "<Figure size 640x480 with 1 Axes>"
      ]
     },
     "metadata": {},
     "output_type": "display_data"
    }
   ],
   "source": [
    "sns.scatterplot(x=X_embed[:50,0], y=X_embed[:50,1], color='red', label='Biden')\n",
    "sns.scatterplot(x=X_embed[50:,0], y=X_embed[50:,1], color='blue', label='Obama')\n",
    "plt.title('TSNE Biden vs. Obama Embeddings')\n",
    "plt.show()"
   ]
  },
  {
   "cell_type": "markdown",
   "id": "84450cf7",
   "metadata": {},
   "source": [
    "## Experiment #2\n",
    "\n",
    "The model is able to easily differentiate between Biden and Obama's voice. We will now test if the out-of-the-box embeddings is able to differentiate between fake Biden audio clips created by ElevenLabs and real Biden clips."
   ]
  },
  {
   "cell_type": "markdown",
   "id": "a84841ab",
   "metadata": {},
   "source": [
    "### Load the Data"
   ]
  },
  {
   "cell_type": "code",
   "execution_count": null,
   "id": "a40483d4",
   "metadata": {},
   "outputs": [],
   "source": [
    "#read in Biden fake data\n",
    "#we already have the real Biden Speech Embeddings, so no need to re-pull those\n",
    "biden_fake_wav_folder = 'data/world-leaders-dataset/11LabsDeepFakes/16000KHz'\n",
    "\n",
    "biden_fake_file_paths = load_data(biden_fake_wav_folder)"
   ]
  },
  {
   "cell_type": "markdown",
   "id": "c2d84e73",
   "metadata": {},
   "source": [
    "### Generate Embeddings and Labels"
   ]
  },
  {
   "cell_type": "code",
   "execution_count": null,
   "id": "c3746560",
   "metadata": {},
   "outputs": [],
   "source": [
    "balance_classes = True"
   ]
  },
  {
   "cell_type": "code",
   "execution_count": null,
   "id": "30bdac36",
   "metadata": {},
   "outputs": [],
   "source": [
    "biden_real_embeddings = biden_embeddings #renaming for ease of reading\n",
    "biden_fake_embeddings = get_embeddings(model=speaker_model, file_paths=biden_fake_file_paths)\n",
    "\n",
    "if balance_classes:\n",
    "    num_samples = min(len(biden_real_embeddings), len(biden_fake_embeddings))\n",
    "    biden_real_embeddings = biden_real_embeddings[:num_samples,:]\n",
    "    biden_fake_embeddings = biden_fake_embeddings[:num_samples,:]\n",
    "    \n",
    "    biden_real_labels = [1]*num_samples\n",
    "    biden_fake_labels = [0]*num_samples\n",
    "else:\n",
    "    biden_real_labels = [1]*biden_real_embeddings.shape[0]\n",
    "    biden_faake_labels = [0]*biden_fake_embeddings.shape[0]"
   ]
  },
  {
   "cell_type": "markdown",
   "id": "98a6d50f",
   "metadata": {},
   "source": [
    "### Run and Evaluate Model\n"
   ]
  },
  {
   "cell_type": "code",
   "execution_count": null,
   "id": "4be1747a",
   "metadata": {},
   "outputs": [],
   "source": [
    "#combine the data\n",
    "X = np.concatenate((biden_real_embeddings, biden_fake_embeddings), axis=0)\n",
    "y = np.concatenate((biden_real_labels, biden_fake_labels))"
   ]
  },
  {
   "cell_type": "code",
   "execution_count": null,
   "id": "478fd202",
   "metadata": {},
   "outputs": [
    {
     "name": "stdout",
     "output_type": "stream",
     "text": [
      "Training Accuracy\n",
      "-------------------------------\n",
      "Acc: 1.00\n",
      "\n",
      "Testing Accuracy\n",
      "-------------------------------\n",
      "Acc: 1.00\n"
     ]
    }
   ],
   "source": [
    "model = KNeighborsClassifier()\n",
    "model = model_and_eval(X, y, model)"
   ]
  },
  {
   "cell_type": "markdown",
   "id": "fcdf6414",
   "metadata": {},
   "source": [
    "### Plot the TSNE"
   ]
  },
  {
   "cell_type": "code",
   "execution_count": null,
   "id": "fd98a35f",
   "metadata": {},
   "outputs": [],
   "source": [
    "viz_samples = 50\n",
    "\n",
    "biden_real_embeddings_viz = biden_real_embeddings[:viz_samples,:]\n",
    "biden_fake_embeddings_viz = biden_fake_embeddings[:viz_samples,:]\n",
    "\n",
    "X_viz = np.concatenate((biden_real_embeddings_viz, biden_fake_embeddings_viz))\n",
    "\n",
    "X_embed = get_TSNE_Embeddings(X_viz)"
   ]
  },
  {
   "cell_type": "code",
   "execution_count": null,
   "id": "05f53310",
   "metadata": {},
   "outputs": [
    {
     "data": {
      "image/png": "[encoded data removed]",
      "text/plain": [
       "<Figure size 640x480 with 1 Axes>"
      ]
     },
     "metadata": {},
     "output_type": "display_data"
    }
   ],
   "source": [
    "sns.scatterplot(x=X_embed[:viz_samples,0], y=X_embed[:viz_samples,1], color='red', label='Real')\n",
    "sns.scatterplot(x=X_embed[viz_samples:,0], y=X_embed[viz_samples:,1], color='blue', label='Fake')\n",
    "plt.title('TSNE Biden Real vs. Biden Fake Embeddings')\n",
    "plt.show()"
   ]
  },
  {
   "cell_type": "markdown",
   "id": "ae7b5d53",
   "metadata": {},
   "source": [
    "## Experiment #3\n",
    "\n",
    "We see the model performs really well with ElevenLabs Data. We will also get the embeddings for a few deepfakes from the wild."
   ]
  },
  {
   "cell_type": "code",
   "execution_count": null,
   "id": "addd429a",
   "metadata": {},
   "outputs": [],
   "source": [
    "itw_reddit = os.path.join(home_path,'data/InTheWildFakes/Biden/16000KHz/biden-reddit-fake.wav')\n",
    "itw_twitter = os.path.join(home_path,'data/InTheWildFakes/Biden/16000KHz/biden-twitter-fake.wav')\n",
    "itw_twitter2 = os.path.join(home_path,'data/InTheWildFakes/Biden/16000KHz/jb-twitter-2-df-16khz.wav')\n",
    "itw_real = os.path.join(home_path,'data/InTheWildFakes/Biden/16000KHz/jb-real-sample-1-test-16khz.wav')\n",
    "\n",
    "itw_labels = [0,0,0,1]"
   ]
  },
  {
   "cell_type": "code",
   "execution_count": null,
   "id": "42ceb2c2",
   "metadata": {},
   "outputs": [],
   "source": [
    "itw_embeddings = get_embeddings(model=speaker_model, file_paths=[itw_reddit, itw_twitter, itw_twitter2, itw_real])"
   ]
  },
  {
   "cell_type": "code",
   "execution_count": null,
   "id": "86b74d36",
   "metadata": {},
   "outputs": [],
   "source": [
    "X_vis = np.concatenate((biden_real_embeddings_viz, itw_embeddings))\n",
    "\n",
    "X_embed = get_TSNE_Embeddings(X_viz)"
   ]
  },
  {
   "cell_type": "code",
   "execution_count": null,
   "id": "feb5df4f",
   "metadata": {},
   "outputs": [],
   "source": [
    "itw_pred = model.predict(itw_embeddings)"
   ]
  },
  {
   "cell_type": "code",
   "execution_count": null,
   "id": "40f908f9",
   "metadata": {},
   "outputs": [
    {
     "name": "stdout",
     "output_type": "stream",
     "text": [
      "Training Accuracy\n",
      "-------------------------------\n",
      "Acc: 0.50\n"
     ]
    }
   ],
   "source": [
    "#evaluate\n",
    "print('Training Accuracy')\n",
    "print('-------------------------------')\n",
    "train_acc = accuracy_score(y_true=itw_labels, y_pred=itw_pred)\n",
    "print(f'Acc: {train_acc:.2f}')"
   ]
  },
  {
   "cell_type": "code",
   "execution_count": null,
   "id": "92960f3e",
   "metadata": {},
   "outputs": [
    {
     "data": {
      "image/png": "[encoded data removed]",
      "text/plain": [
       "<Figure size 640x480 with 1 Axes>"
      ]
     },
     "metadata": {},
     "output_type": "display_data"
    }
   ],
   "source": [
    "sns.scatterplot(x=X_embed[:50,0], y=X_embed[:50,1], color='red', label='Real')\n",
    "sns.scatterplot(x=X_embed[50:53,0], y=X_embed[50:53,1], color='blue', label='IRL Fake')\n",
    "sns.scatterplot(x=X_embed[53:54,0], y=X_embed[53:54,1], color='orange', label='IRL Real')\n",
    "plt.title('TSNE Biden Real vs. Biden Fake Embeddings')\n",
    "plt.show()"
   ]
  },
  {
   "cell_type": "markdown",
   "id": "c3e9d465",
   "metadata": {},
   "source": [
    "## Experiment #4\n",
    "\n",
    "One known weakness is that ElevenLabs seems to be an easy problem to solve. As such, we want to see how the embeddings perform when we consider the LJ speech dataset"
   ]
  },
  {
   "cell_type": "code",
   "execution_count": null,
   "id": "df2c5455",
   "metadata": {},
   "outputs": [],
   "source": [
    "def generate_embeddings_and_labels(dataframe, architectures):\n",
    "    \n",
    "    X = None\n",
    "    y = None\n",
    "    for architecture, idx in architectures.items():\n",
    "        embeddings = get_embeddings(model=speaker_model, file_paths=dataframe[architecture])\n",
    "        if isinstance(X, type(None)):\n",
    "            X = embeddings\n",
    "            y = np.array([idx]*embeddings.shape[0])\n",
    "        else:\n",
    "            X = np.concatenate((X, embeddings), axis=0)\n",
    "            y = np.concatenate((y, np.array([idx]*embeddings.shape[0])))\n",
    "        \n",
    "    return X, y"
   ]
  },
  {
   "cell_type": "code",
   "execution_count": null,
   "id": "5313cb94",
   "metadata": {},
   "outputs": [],
   "source": [
    "def splitDataFromDf(metadata, train_perc, dev_perc, test_perc):\n",
    "    \n",
    "    metadata = metadata.sample(frac=1)\n",
    "    \n",
    "    train_idx = int(metadata.shape[0]*train_perc)\n",
    "    dev_idx = int(metadata.shape[0]*dev_perc)\n",
    "    test_idx = int(metadata.shape[0]*test_perc)\n",
    "    \n",
    "    X_train = metadata[:train_idx].copy()\n",
    "    X_dev = metadata[train_idx:train_idx+dev_idx].copy()\n",
    "    X_test = metadata[train_idx+dev_idx:].copy()\n",
    "    \n",
    "    return X_train, X_dev, X_test\n",
    "    "
   ]
  },
  {
   "cell_type": "code",
   "execution_count": null,
   "id": "720eebae",
   "metadata": {},
   "outputs": [],
   "source": [
    "def run(metadata, train_perc, dev_perc, test_perc, architectures, model):\n",
    "    X_train_id, X_dev_id, X_test_id = splitDataFromDf(metadata, train_perc=0.8, dev_perc=0.0, test_perc=0.2)\n",
    "    \n",
    "    X_train, y_train = generate_embeddings_and_labels(X_train_id,architectures)\n",
    "    X_test, y_test = generate_embeddings_and_labels(X_test_id,architectures)\n",
    "    \n",
    "    model.fit(X_train, y_train)\n",
    "\n",
    "    train_pred = model.predict(X_train)\n",
    "    test_pred = model.predict(X_test)\n",
    "    \n",
    "    train_acc = accuracy_score(y_true=y_train, y_pred=train_pred)\n",
    "    test_acc = accuracy_score(y_true=y_test, y_pred=test_pred)\n",
    "\n",
    "    print('All Data')\n",
    "    print('----------')\n",
    "    print(f'Train Accuracy: {train_acc:.2f}')\n",
    "    print(f'Test Accuracy: {test_acc:.2f}')\n",
    "    print()\n",
    "    print()\n",
    "\n",
    "    for architecture, idx in architectures.items():\n",
    "        train_idx = np.where(y_train == idx)\n",
    "        test_idx = np.where(y_test == idx)\n",
    "\n",
    "        y_train_arch = y_train[train_idx]\n",
    "        y_test_arch = y_test[test_idx]\n",
    "        train_pred_arch = train_pred[train_idx]\n",
    "        test_pred_arch = test_pred[test_idx]\n",
    "\n",
    "        train_acc_arch = accuracy_score(y_true=y_train_arch, y_pred=train_pred_arch)\n",
    "        test_acc_arch = accuracy_score(y_true=y_test_arch, y_pred=test_pred_arch)\n",
    "\n",
    "\n",
    "        print(architecture)\n",
    "        print('----------')\n",
    "        print(f'Train Accuracy: {train_acc_arch:.2f}')\n",
    "        print(f'Test Accuracy: {test_acc_arch:.2f}')\n",
    "        print()\n",
    "        print()\n",
    "    \n",
    "    "
   ]
  },
  {
   "cell_type": "code",
   "execution_count": null,
   "id": "73022cbb",
   "metadata": {},
   "outputs": [
    {
     "name": "stdout",
     "output_type": "stream",
     "text": [
      "All Data\n",
      "----------\n",
      "Train Accuracy: 0.71\n",
      "Test Accuracy: 0.71\n",
      "\n",
      "\n",
      "Real\n",
      "----------\n",
      "Train Accuracy: 0.89\n",
      "Test Accuracy: 0.89\n",
      "\n",
      "\n",
      "Full_Band_MelGan\n",
      "----------\n",
      "Train Accuracy: 0.22\n",
      "Test Accuracy: 0.14\n",
      "\n",
      "\n",
      "HifiGan\n",
      "----------\n",
      "Train Accuracy: 0.35\n",
      "Test Accuracy: 0.29\n",
      "\n",
      "\n",
      "MelGan\n",
      "----------\n",
      "Train Accuracy: 0.33\n",
      "Test Accuracy: 0.51\n",
      "\n",
      "\n",
      "MelGanLarge\n",
      "----------\n",
      "Train Accuracy: 0.99\n",
      "Test Accuracy: 1.00\n",
      "\n",
      "\n",
      "Multi_Band_MelGan\n",
      "----------\n",
      "Train Accuracy: 0.74\n",
      "Test Accuracy: 0.71\n",
      "\n",
      "\n",
      "Parallel_WaveGan\n",
      "----------\n",
      "Train Accuracy: 0.93\n",
      "Test Accuracy: 0.89\n",
      "\n",
      "\n",
      "Waveglow\n",
      "----------\n",
      "Train Accuracy: 0.96\n",
      "Test Accuracy: 1.00\n",
      "\n",
      "\n",
      "ElevenLabs\n",
      "----------\n",
      "Train Accuracy: 1.00\n",
      "Test Accuracy: 1.00\n",
      "\n",
      "\n"
     ]
    }
   ],
   "source": [
    "lj_metadata = pd.read_csv('/home/ubuntu/data/wavefake_data/LJ_metadata_16000KHz.csv')\n",
    "lj_metadata = lj_metadata[~lj_metadata.ElevenLabs.isna()]\n",
    "\n",
    "sample_perc = 0.1\n",
    "lj_metadata = lj_metadata.sample(frac=sample_perc)\n",
    "\n",
    "\n",
    "model = LogisticRegression()\n",
    "architectures = {'Real':0, 'Full_Band_MelGan':1, 'HifiGan':2, 'MelGan':3, 'MelGanLarge':4, 'Multi_Band_MelGan':5, 'Parallel_WaveGan':6, 'Waveglow':7, 'ElevenLabs':8}\n",
    "run(lj_metadata, 0.8, 0.0, 0.2 , architectures, model)"
   ]
  },
  {
   "cell_type": "markdown",
   "id": "49bfbca0",
   "metadata": {},
   "source": [
    "## Experiment #5\n",
    "\n",
    "Testing with 3 classes: Real, MelGAN, 11Labs"
   ]
  },
  {
   "cell_type": "code",
   "execution_count": null,
   "id": "078aae5f",
   "metadata": {},
   "outputs": [],
   "source": [
    "def randomlySelectCols(rw, src_cols):\n",
    "    \n",
    "    rand_idx = np.random.randint(0, len(src_cols))\n",
    "    return rw[src_cols[rand_idx]]\n",
    "    "
   ]
  },
  {
   "cell_type": "code",
   "execution_count": null,
   "id": "43d66c40",
   "metadata": {},
   "outputs": [],
   "source": [
    "lj_metadata_3_class = lj_metadata.copy()\n",
    "\n",
    "src_cols = ['Full_Band_MelGan', 'HifiGan', 'MelGan', 'MelGanLarge', 'Multi_Band_MelGan', 'Parallel_WaveGan', 'Waveglow']\n",
    "lj_metadata_3_class['RandMelGAN'] = lj_metadata_3_class.apply(lambda row: randomlySelectCols(row, src_cols), axis=1)"
   ]
  },
  {
   "cell_type": "code",
   "execution_count": null,
   "id": "e282b878",
   "metadata": {},
   "outputs": [
    {
     "name": "stdout",
     "output_type": "stream",
     "text": [
      "All Data\n",
      "----------\n",
      "Train Accuracy: 0.94\n",
      "Test Accuracy: 0.96\n",
      "\n",
      "\n",
      "Real\n",
      "----------\n",
      "Train Accuracy: 0.93\n",
      "Test Accuracy: 0.94\n",
      "\n",
      "\n",
      "RandMelGAN\n",
      "----------\n",
      "Train Accuracy: 0.90\n",
      "Test Accuracy: 0.94\n",
      "\n",
      "\n",
      "ElevenLabs\n",
      "----------\n",
      "Train Accuracy: 1.00\n",
      "Test Accuracy: 1.00\n",
      "\n",
      "\n"
     ]
    }
   ],
   "source": [
    "model = LogisticRegression()\n",
    "architectures = {'Real':0, 'RandMelGAN':1, 'ElevenLabs':2}\n",
    "run(lj_metadata_3_class, 0.8, 0.0, 0.2 , architectures, model)"
   ]
  },
  {
   "cell_type": "markdown",
   "id": "9b1d065e",
   "metadata": {},
   "source": [
    "## Experiment #6\n",
    "\n",
    "Testing with 3 classes: Real, Fake"
   ]
  },
  {
   "cell_type": "code",
   "execution_count": null,
   "id": "a6838d33",
   "metadata": {},
   "outputs": [],
   "source": [
    "lj_metadata_2_class = lj_metadata.copy()\n",
    "\n",
    "src_cols = ['Full_Band_MelGan', 'HifiGan', 'MelGan', 'MelGanLarge', 'Multi_Band_MelGan', 'Parallel_WaveGan', 'Waveglow', 'ElevenLabs']\n",
    "lj_metadata_2_class['RandFake'] = lj_metadata_2_class.apply(lambda row: randomlySelectCols(row, src_cols), axis=1)"
   ]
  },
  {
   "cell_type": "code",
   "execution_count": null,
   "id": "e43e13f8",
   "metadata": {},
   "outputs": [
    {
     "name": "stdout",
     "output_type": "stream",
     "text": [
      "All Data\n",
      "----------\n",
      "Train Accuracy: 0.94\n",
      "Test Accuracy: 0.90\n",
      "\n",
      "\n",
      "Real\n",
      "----------\n",
      "Train Accuracy: 0.98\n",
      "Test Accuracy: 0.91\n",
      "\n",
      "\n",
      "RandFake\n",
      "----------\n",
      "Train Accuracy: 0.90\n",
      "Test Accuracy: 0.89\n",
      "\n",
      "\n"
     ]
    }
   ],
   "source": [
    "model = LogisticRegression()\n",
    "architectures = {'Real':0, 'RandFake':1}\n",
    "run(lj_metadata_2_class, 0.8, 0.0, 0.2 , architectures, model)"
   ]
  },
  {
   "cell_type": "markdown",
   "id": "a3f9ea4a",
   "metadata": {},
   "source": [
    "## Experiment #7\n",
    "\n",
    "Testing with all classes using AAC MP4 with a 64K bitrate"
   ]
  },
  {
   "cell_type": "code",
   "execution_count": null,
   "id": "d4e77a14",
   "metadata": {},
   "outputs": [],
   "source": [
    "lj_metadata = pd.read_csv('/home/ubuntu/data/wavefake_data/LJ_metadata_16000KHz_AAC_64K.csv')\n",
    "lj_metadata = lj_metadata[~lj_metadata.ElevenLabs.isna()]\n",
    "\n",
    "sample_perc = 0.1\n",
    "lj_metadata = lj_metadata.sample(frac=sample_perc)\n",
    "\n",
    "architectures = {'Real':0, 'Full_Band_MelGan':1, 'HifiGan':2, 'MelGan':3, 'MelGanLarge':4, 'Multi_Band_MelGan':5, 'Parallel_WaveGan':6, 'Waveglow':7, 'ElevenLabs':8}"
   ]
  },
  {
   "cell_type": "code",
   "execution_count": null,
   "id": "9452de41",
   "metadata": {},
   "outputs": [
    {
     "name": "stdout",
     "output_type": "stream",
     "text": [
      "All Data\n",
      "----------\n",
      "Train Accuracy: 0.71\n",
      "Test Accuracy: 0.71\n",
      "\n",
      "\n",
      "Real\n",
      "----------\n",
      "Train Accuracy: 0.91\n",
      "Test Accuracy: 0.89\n",
      "\n",
      "\n",
      "Full_Band_MelGan\n",
      "----------\n",
      "Train Accuracy: 0.22\n",
      "Test Accuracy: 0.14\n",
      "\n",
      "\n",
      "HifiGan\n",
      "----------\n",
      "Train Accuracy: 0.34\n",
      "Test Accuracy: 0.31\n",
      "\n",
      "\n",
      "MelGan\n",
      "----------\n",
      "Train Accuracy: 0.35\n",
      "Test Accuracy: 0.37\n",
      "\n",
      "\n",
      "MelGanLarge\n",
      "----------\n",
      "Train Accuracy: 0.99\n",
      "Test Accuracy: 1.00\n",
      "\n",
      "\n",
      "Multi_Band_MelGan\n",
      "----------\n",
      "Train Accuracy: 0.71\n",
      "Test Accuracy: 0.77\n",
      "\n",
      "\n",
      "Parallel_WaveGan\n",
      "----------\n",
      "Train Accuracy: 0.93\n",
      "Test Accuracy: 0.94\n",
      "\n",
      "\n",
      "Waveglow\n",
      "----------\n",
      "Train Accuracy: 0.94\n",
      "Test Accuracy: 0.97\n",
      "\n",
      "\n",
      "ElevenLabs\n",
      "----------\n",
      "Train Accuracy: 1.00\n",
      "Test Accuracy: 1.00\n",
      "\n",
      "\n"
     ]
    }
   ],
   "source": [
    "model = LogisticRegression()\n",
    "architectures = {'Real':0, 'Full_Band_MelGan':1, 'HifiGan':2, 'MelGan':3, 'MelGanLarge':4, 'Multi_Band_MelGan':5, 'Parallel_WaveGan':6, 'Waveglow':7, 'ElevenLabs':8}\n",
    "run(lj_metadata, 0.8, 0.0, 0.2 , architectures, model)"
   ]
  },
  {
   "cell_type": "markdown",
   "id": "3afb3f58",
   "metadata": {},
   "source": [
    "## Experiment #8\n",
    "\n",
    "AAC MP4 with a 64K Bitrate. 3 Classes: Real, RandMelGAN, ElevenLabs"
   ]
  },
  {
   "cell_type": "code",
   "execution_count": null,
   "id": "01e9851a",
   "metadata": {},
   "outputs": [],
   "source": [
    "lj_metadata_2_class = lj_metadata.copy()\n",
    "\n",
    "src_cols = ['Full_Band_MelGan', 'HifiGan', 'MelGan', 'MelGanLarge', 'Multi_Band_MelGan', 'Parallel_WaveGan', 'Waveglow', 'ElevenLabs']\n",
    "lj_metadata_2_class['RandFake'] = lj_metadata_2_class.apply(lambda row: randomlySelectCols(row, src_cols), axis=1)"
   ]
  },
  {
   "cell_type": "code",
   "execution_count": null,
   "id": "24dc8187",
   "metadata": {},
   "outputs": [
    {
     "name": "stdout",
     "output_type": "stream",
     "text": [
      "All Data\n",
      "----------\n",
      "Train Accuracy: 0.96\n",
      "Test Accuracy: 0.90\n",
      "\n",
      "\n",
      "Real\n",
      "----------\n",
      "Train Accuracy: 0.96\n",
      "Test Accuracy: 0.83\n",
      "\n",
      "\n",
      "RandMelGAN\n",
      "----------\n",
      "Train Accuracy: 0.92\n",
      "Test Accuracy: 0.89\n",
      "\n",
      "\n",
      "ElevenLabs\n",
      "----------\n",
      "Train Accuracy: 1.00\n",
      "Test Accuracy: 1.00\n",
      "\n",
      "\n"
     ]
    }
   ],
   "source": [
    "model = LogisticRegression()\n",
    "architectures = {'Real':0, 'RandMelGAN':1, 'ElevenLabs':2}\n",
    "run(lj_metadata_3_class, 0.8, 0.0, 0.2 , architectures, model)"
   ]
  }
 ],
 "metadata": {
  "kernelspec": {
   "display_name": "nemo",
   "language": "python",
   "name": "nemo"
  },
  "language_info": {
   "codemirror_mode": {
    "name": "ipython",
    "version": 3
   },
   "file_extension": ".py",
   "mimetype": "text/x-python",
   "name": "python",
   "nbconvert_exporter": "python",
   "pygments_lexer": "ipython3",
   "version": "3.8.0"
  }
 },
 "nbformat": 4,
 "nbformat_minor": 5
}
