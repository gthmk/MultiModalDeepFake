{
 "cells": [
  {
   "cell_type": "markdown",
   "id": "61571150",
   "metadata": {},
   "source": [
    "# Inital Testing Features for OpenSmile\n",
    "\n",
    "OpenSmile has a large & diverse feature set that may be useful for differentiating audio based deep fakes."
   ]
  },
  {
   "cell_type": "markdown",
   "id": "d501c842",
   "metadata": {},
   "source": [
    "### Import Packages & Setup"
   ]
  },
  {
   "cell_type": "code",
   "execution_count": null,
   "id": "427d9d2e",
   "metadata": {},
   "outputs": [],
   "source": [
    "import opensmile\n",
    "import pandas as pd\n",
    "import os\n",
    "from sklearn.model_selection import train_test_split\n",
    "from sklearn.decomposition import PCA\n",
    "from sklearn.linear_model import LogisticRegression\n",
    "from sklearn.metrics import accuracy_score\n",
    "import numpy as np\n",
    "import matplotlib.pyplot as plt\n",
    "import seaborn as sns\n",
    "\n",
    "\n",
    "import warnings\n",
    "warnings.filterwarnings(\"ignore\")"
   ]
  },
  {
   "cell_type": "markdown",
   "id": "6694f310",
   "metadata": {},
   "source": [
    "### Load the Data"
   ]
  },
  {
   "cell_type": "code",
   "execution_count": null,
   "id": "c565fb3c",
   "metadata": {},
   "outputs": [],
   "source": [
    "smile = opensmile.Smile(\n",
    "    feature_set=opensmile.FeatureSet.ComParE_2016,\n",
    "    feature_level=opensmile.FeatureLevel.Functionals,\n",
    ")"
   ]
  },
  {
   "cell_type": "code",
   "execution_count": null,
   "id": "e20e49e6",
   "metadata": {},
   "outputs": [],
   "source": [
    "def load_files(file_paths, label):\n",
    "    \n",
    "    '''\n",
    "    Parameters:\n",
    "    file_paths: list of file paths for wav files\n",
    "    label: 1 or 0 label categorization\n",
    "    '''\n",
    "    \n",
    "    results = pd.DataFrame()\n",
    "    \n",
    "    for file_path in file_paths:\n",
    "        df = smile.process_file(file_path)\n",
    "        results = pd.concat([results,df])\n",
    "        \n",
    "    return results\n"
   ]
  },
  {
   "cell_type": "code",
   "execution_count": null,
   "id": "d4e44ebf-bb3e-40ec-927b-5af21397b5bd",
   "metadata": {},
   "outputs": [],
   "source": [
    "def split_data(df, label_col_name='label', test_size=0.1):\n",
    "    \n",
    "    y = df[label_col_name].copy()\n",
    "    X = df.drop(columns=[label_col_name]).copy()\n",
    " \n",
    "    X_train, X_test, y_train, y_test = train_test_split(X, y, test_size=test_size) #X_train, X_test, y_train, y_test\n",
    "    return {X_train:X_train, X_test:X_test, y_train:y_train, y_test:y_test}\n"
   ]
  },
  {
   "cell_type": "code",
   "execution_count": null,
   "id": "f20fe854-73cd-4f29-8e37-b5c7fa29fd4f",
   "metadata": {},
   "outputs": [],
   "source": [
    "def run_pca(X_train, X_test):\n",
    "    \n",
    "    pca = PCA()\n",
    "    X_train_pca = pca.fit_transform(X_train)\n",
    "    X_test_pca = pca.transform(X_test)\n",
    "    return X_train_pca, X_test_pca, pca"
   ]
  },
  {
   "cell_type": "code",
   "execution_count": null,
   "id": "85aad9af-74fa-4913-90f5-f0c8689187f9",
   "metadata": {},
   "outputs": [],
   "source": [
    "def train_and_evaluate_model(data,  )"
   ]
  },
  {
   "cell_type": "code",
   "execution_count": null,
   "id": "3f55169c",
   "metadata": {
    "collapsed": true,
    "jupyter": {
     "outputs_hidden": true
    },
    "tags": []
   },
   "outputs": [],
   "source": [
    "real_path = '/Users/romitbarua/Documents/Berkeley/Spring 2023/world_leaders/jb_bo_audio/biden_wav_audio'\n",
    "biden_df = load_files(biden_path)\n",
    "biden_df['label'] = 0\n",
    "\n",
    "#obama_path = '/Users/romitbarua/Documents/Berkeley/Spring 2023/world_leaders/jb_bo_audio/obama_wav_audio'\n",
    "#obama_df = load_files(obama_path)\n",
    "#obama_df['label'] = 1\n",
    "\n",
    "fake_path = '/Users/romitbarua/Documents/Berkeley/Spring 2023/world_leaders/ElevenLabsDeepFakeWav'\n",
    "fake_biden_df = load_files(fake_biden_path)\n",
    "fake_biden_df['label'] = 1"
   ]
  },
  {
   "cell_type": "code",
   "execution_count": null,
   "id": "142af11e-a54b-4814-8482-bc5f5b729dae",
   "metadata": {},
   "outputs": [],
   "source": []
  },
  {
   "cell_type": "code",
   "execution_count": null,
   "id": "c23e4e3d-f753-4c4d-921d-560ad330c77f",
   "metadata": {},
   "outputs": [],
   "source": []
  },
  {
   "cell_type": "code",
   "execution_count": null,
   "id": "8845d5b2-23a7-4118-a4b1-9cfb1cf9c4e0",
   "metadata": {},
   "outputs": [],
   "source": []
  },
  {
   "cell_type": "code",
   "execution_count": null,
   "id": "361d6777",
   "metadata": {},
   "outputs": [],
   "source": [
    "df = pd.concat([biden_df, fake_biden_df]).reset_index()\n",
    "df = df.drop(columns=['file', 'start', 'end'])\n",
    "df.head()"
   ]
  },
  {
   "cell_type": "code",
   "execution_count": null,
   "id": "10141add",
   "metadata": {},
   "outputs": [],
   "source": [
    "y = df['label'].copy()\n",
    "X = df.drop(columns=['label']).copy()\n",
    "\n",
    "X_train, X_test, y_train, y_test = train_test_split(X, y, test_size=0.1)"
   ]
  },
  {
   "cell_type": "code",
   "execution_count": null,
   "id": "c4b1f230",
   "metadata": {},
   "outputs": [],
   "source": [
    "pca = PCA()\n",
    "X_train_pca = pca.fit_transform(X_train)\n",
    "X_test_pca = pca.transform(X_test) "
   ]
  },
  {
   "cell_type": "code",
   "execution_count": null,
   "id": "8fca02f7",
   "metadata": {},
   "outputs": [],
   "source": []
  },
  {
   "cell_type": "code",
   "execution_count": null,
   "id": "6d6ac61d",
   "metadata": {},
   "outputs": [],
   "source": [
    "pred = model.predict(X_test_pca)"
   ]
  },
  {
   "cell_type": "code",
   "execution_count": null,
   "id": "32aac208",
   "metadata": {},
   "outputs": [],
   "source": [
    "acc = accuracy_score(y_true=y_test, y_pred=pred)\n",
    "acc"
   ]
  },
  {
   "cell_type": "code",
   "execution_count": null,
   "id": "d4ec56d8",
   "metadata": {
    "collapsed": true,
    "jupyter": {
     "outputs_hidden": true
    },
    "tags": []
   },
   "outputs": [],
   "source": [
    "components = np.arange(1,100,1)\n",
    "acc_plot = []\n",
    "\n",
    "for component in components:\n",
    "    model = LogisticRegression()\n",
    "    model.fit(X_train_pca[:,:component], y_train)\n",
    "    pred = model.predict(X_test_pca[:,:component])\n",
    "    acc = accuracy_score(y_true=y_test, y_pred=pred)\n",
    "    acc_plot.append(acc)\n",
    "\n",
    "    "
   ]
  },
  {
   "cell_type": "code",
   "execution_count": null,
   "id": "9dff06a9",
   "metadata": {},
   "outputs": [],
   "source": [
    "sns.lineplot(x=components, y=acc_plot)\n",
    "plt.xlabel('# of Components')\n",
    "plt.ylabel('Acc %')\n",
    "plt.title('Biden vs. Obama Accuracy')\n",
    "plt.show()"
   ]
  },
  {
   "cell_type": "markdown",
   "id": "6d3c0eca",
   "metadata": {},
   "source": [
    "### Forward Feature Selection"
   ]
  },
  {
   "cell_type": "code",
   "execution_count": null,
   "id": "9a463fe3",
   "metadata": {
    "collapsed": true,
    "jupyter": {
     "outputs_hidden": true
    },
    "tags": []
   },
   "outputs": [],
   "source": [
    "all_features = list(X_train.columns)\n",
    "num_features = 15\n",
    "\n",
    "selected_features = []\n",
    "train_acc = []\n",
    "test_acc = []\n",
    "\n",
    "best_feature_set = None\n",
    "\n",
    "while len(selected_features) <= num_features:\n",
    "    \n",
    "    print(f'Selecting Feature {len(selected_features)+1} out of {num_features}')\n",
    "    \n",
    "    best_test_acc = 0\n",
    "    best_train_acc = 0\n",
    "    best_feature = None\n",
    "    \n",
    "    for idx, feature in enumerate(all_features):\n",
    "        \n",
    "        if idx % 100 == 0:\n",
    "            print(f'Currently testing feature #{idx}')\n",
    "        \n",
    "        feature_test = selected_features + [feature]\n",
    "        \n",
    "        X_train_feature = X_train[feature_test]\n",
    "        X_test_feature = X_test[feature_test]\n",
    "        \n",
    "        model = LogisticRegression()\n",
    "        model.fit(X_train_feature, y_train)\n",
    "        \n",
    "        pred_train = model.predict(X_train_feature)\n",
    "        pred_test = model.predict(X_test_feature)\n",
    "        \n",
    "        acc_train = accuracy_score(y_true=y_train, y_pred=pred_train)\n",
    "        acc_test = accuracy_score(y_true=y_test, y_pred=pred_test)\n",
    "        \n",
    "        if acc_test > best_test_acc:\n",
    "            best_feature = feature\n",
    "            best_train_acc = acc_train\n",
    "            best_test_acc = acc_test\n",
    "            \n",
    "    selected_features.append(best_feature)\n",
    "    train_acc.append(best_train_acc)\n",
    "    test_acc.append(best_test_acc)\n",
    "    \n",
    "    all_features.remove(best_feature)\n",
    "    \n",
    "    print(f'Best Feature: {best_feature}')\n",
    "    print(f'Train Acc: {best_train_acc}')\n",
    "    print(f'Test Acc: {best_test_acc}')\n",
    "    print(f'Feaure List: {selected_features}')\n",
    "    print('-----------------------------------')\n",
    "    \n",
    "       \n",
    "        \n",
    "        \n",
    "        \n",
    "        \n",
    "        "
   ]
  },
  {
   "cell_type": "code",
   "execution_count": null,
   "id": "8d17c563",
   "metadata": {},
   "outputs": [],
   "source": [
    "sns.histplot(data=df, x='mfcc_sma[3]_percentile1.0', hue='label')"
   ]
  },
  {
   "cell_type": "markdown",
   "id": "8819cdd6-c9cd-4d23-b771-40b381058ab3",
   "metadata": {},
   "source": [
    "## Testing on New Dataset"
   ]
  },
  {
   "cell_type": "code",
   "execution_count": null,
   "id": "465d7a27-ac84-42a2-8326-e1cc8b26939c",
   "metadata": {},
   "outputs": [],
   "source": [
    "base_path = \"/home/ubuntu/\"\n",
    "\n",
    "LJ_original = base_path + 'data/LJSpeech_1.1'\n",
    "\n",
    "LJ_fbmelgan = base_path + 'data/generated_audio/ljspeech_full_band_melgan'\n",
    "LJ_parallel_wavegan = base_path + 'data/generated_audio/ljspeech_parallel_wavegan'"
   ]
  },
  {
   "cell_type": "code",
   "execution_count": null,
   "id": "82d81bda-4353-4d70-b64b-ae5561507ccb",
   "metadata": {},
   "outputs": [],
   "source": [
    "real_df = pd.DataFrame()\n",
    "\n",
    "original_files = []\n",
    "for dirpath,_,filenames in os.walk(LJ_original):\n",
    "    for file in filenames:\n",
    "        if file.startswith(\"LJ001-\") and file.endswith('.wav'):\n",
    "        #if file.endswith('.wav'):\n",
    "            original_files.append(os.path.abspath(os.path.join(dirpath, file)))\n",
    "original_files.sort()\n",
    "print(len(original_files))"
   ]
  },
  {
   "cell_type": "code",
   "execution_count": null,
   "id": "fa833f38-de75-42c4-a98e-a491891b092d",
   "metadata": {},
   "outputs": [],
   "source": [
    "melgan_files = []\n",
    "for dirpath,_,filenames in os.walk(LJ_fbmelgan):\n",
    "    for file in filenames:\n",
    "        if file.startswith(\"LJ001-\") and file.endswith('.wav'):\n",
    "        #if file.endswith('.wav'):\n",
    "            melgan_files.append(os.path.abspath(os.path.join(dirpath, file)))\n",
    "melgan_files.sort()\n",
    "print(len(melgan_files))"
   ]
  },
  {
   "cell_type": "code",
   "execution_count": null,
   "id": "20b7a066-99d4-4d18-8a32-9f1b05abb269",
   "metadata": {},
   "outputs": [],
   "source": [
    "def load_files(file_paths):\n",
    "    \n",
    "    results = pd.DataFrame()\n",
    "    \n",
    "    for idx, file in enumerate(file_paths):\n",
    "        df = smile.process_file(file)\n",
    "        results = pd.concat([results,df])\n",
    "        \n",
    "    return results\n"
   ]
  },
  {
   "cell_type": "code",
   "execution_count": null,
   "id": "384294f3-b14f-4600-bd61-a3f392f7701b",
   "metadata": {},
   "outputs": [],
   "source": [
    "real_df = load_files(original_files)\n",
    "real_df['label'] = 0"
   ]
  },
  {
   "cell_type": "code",
   "execution_count": null,
   "id": "f5cfdfa8-b368-4832-a861-23cd723365ce",
   "metadata": {},
   "outputs": [],
   "source": [
    "fake_df = load_files(melgan_files)\n",
    "fake_df['label'] = 1"
   ]
  },
  {
   "cell_type": "code",
   "execution_count": null,
   "id": "785e0707-20ba-4c2d-8b91-f531469089fa",
   "metadata": {},
   "outputs": [],
   "source": [
    "df = pd.concat([real_df, fake_df]).reset_index()\n",
    "df = df.drop(columns=['file', 'start', 'end'])\n",
    "df.head()"
   ]
  },
  {
   "cell_type": "code",
   "execution_count": null,
   "id": "00ee9712-c8ba-41f8-a84e-f3992c4ef315",
   "metadata": {},
   "outputs": [],
   "source": [
    "y = df['label'].copy()\n",
    "X = df.drop(columns=['label']).copy()\n",
    "\n",
    "X_train, X_test, y_train, y_test = train_test_split(X, y, test_size=0.1)"
   ]
  },
  {
   "cell_type": "code",
   "execution_count": null,
   "id": "2d10065a-c258-4115-a8f2-f809120c1f1c",
   "metadata": {},
   "outputs": [],
   "source": [
    "all_features = list(X_train.columns)\n",
    "num_features = 15\n",
    "\n",
    "selected_features = []\n",
    "train_acc = []\n",
    "test_acc = []\n",
    "\n",
    "best_feature_set = None\n",
    "\n",
    "while len(selected_features) <= num_features:\n",
    "    \n",
    "    print(f'Selecting Feature {len(selected_features)+1} out of {num_features}')\n",
    "    \n",
    "    best_test_acc = 0\n",
    "    best_train_acc = 0\n",
    "    best_feature = None\n",
    "    \n",
    "    for idx, feature in enumerate(all_features):\n",
    "        \n",
    "        if idx % 100 == 0:\n",
    "            print(f'Currently testing feature #{idx}')\n",
    "        \n",
    "        feature_test = selected_features + [feature]\n",
    "        \n",
    "        X_train_feature = X_train[feature_test]\n",
    "        X_test_feature = X_test[feature_test]\n",
    "        \n",
    "        model = LogisticRegression()\n",
    "        model.fit(X_train_feature, y_train)\n",
    "        \n",
    "        pred_train = model.predict(X_train_feature)\n",
    "        pred_test = model.predict(X_test_feature)\n",
    "        \n",
    "        acc_train = accuracy_score(y_true=y_train, y_pred=pred_train)\n",
    "        acc_test = accuracy_score(y_true=y_test, y_pred=pred_test)\n",
    "        \n",
    "        if acc_test > best_test_acc:\n",
    "            best_feature = feature\n",
    "            best_train_acc = acc_train\n",
    "            best_test_acc = acc_test\n",
    "            \n",
    "    selected_features.append(best_feature)\n",
    "    train_acc.append(best_train_acc)\n",
    "    test_acc.append(best_test_acc)\n",
    "    \n",
    "    all_features.remove(best_feature)\n",
    "    \n",
    "    print(f'Best Feature: {best_feature}')\n",
    "    print(f'Train Acc: {best_train_acc}')\n",
    "    print(f'Test Acc: {best_test_acc}')\n",
    "    print(f'Feaure List: {selected_features}')\n",
    "    print('-----------------------------------')\n",
    "    print()\n",
    "    print()"
   ]
  },
  {
   "cell_type": "code",
   "execution_count": null,
   "id": "cc537f62-28bb-426e-8795-77f13edf145f",
   "metadata": {},
   "outputs": [],
   "source": [
    "selected_features"
   ]
  },
  {
   "cell_type": "code",
   "execution_count": null,
   "id": "1013a782-8b34-4cca-828b-8f49a20495ea",
   "metadata": {},
   "outputs": [],
   "source": [
    "sns.scatterplot(data=df, x='jitterDDP_sma_flatness', y='audSpec_Rfilt_sma[8]_lpc1', hue='label')"
   ]
  }
 ],
 "metadata": {
  "kernelspec": {
   "display_name": "Python 3",
   "language": "python",
   "name": "python3"
  },
  "language_info": {
   "codemirror_mode": {
    "name": "ipython",
    "version": 3
   },
   "file_extension": ".py",
   "mimetype": "text/x-python",
   "name": "python",
   "nbconvert_exporter": "python",
   "pygments_lexer": "ipython3",
   "version": "3.8.10"
  }
 },
 "nbformat": 4,
 "nbformat_minor": 5
}
