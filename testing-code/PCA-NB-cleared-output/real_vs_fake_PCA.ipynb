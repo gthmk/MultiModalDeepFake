{
 "cells": [
  {
   "cell_type": "code",
   "execution_count": null,
   "id": "994d6a24",
   "metadata": {},
   "outputs": [],
   "source": [
    "import opensmile\n",
    "import pandas as pd\n",
    "import os\n",
    "from sklearn.model_selection import train_test_split\n",
    "from sklearn.decomposition import PCA\n",
    "from sklearn.linear_model import LogisticRegression\n",
    "from sklearn.metrics import accuracy_score\n",
    "import numpy as np\n",
    "import matplotlib.pyplot as plt\n",
    "import seaborn as sns"
   ]
  },
  {
   "cell_type": "code",
   "execution_count": null,
   "id": "e6f6e53a",
   "metadata": {},
   "outputs": [],
   "source": [
    "smile = opensmile.Smile(\n",
    "    feature_set=opensmile.FeatureSet.ComParE_2016,\n",
    "    feature_level=opensmile.FeatureLevel.Functionals)"
   ]
  },
  {
   "cell_type": "code",
   "execution_count": null,
   "id": "21bd9a40",
   "metadata": {},
   "outputs": [],
   "source": [
    "def load_files(path):\n",
    "    \n",
    "    results = pd.DataFrame()\n",
    "    \n",
    "    for file in os.listdir(path):\n",
    "        if file.endswith('.wav'):\n",
    "            df = smile.process_file(os.path.join(path,file))\n",
    "            results = pd.concat([results,df])\n",
    "        \n",
    "    return results"
   ]
  },
  {
   "cell_type": "code",
   "execution_count": null,
   "id": "a37b89d7",
   "metadata": {},
   "outputs": [],
   "source": [
    "base_path = \"/home/ubuntu/\""
   ]
  },
  {
   "cell_type": "code",
   "execution_count": null,
   "id": "ebf26a50",
   "metadata": {},
   "outputs": [],
   "source": [
    "real_path = base_path + 'data/biden_wav_audio'\n",
    "biden_df = load_files(real_path)\n",
    "biden_df['label'] = 0\n",
    "\n",
    "fake_path = base_path + 'data/11LabsDeepFakes'\n",
    "fake_biden_df = load_files(fake_path)\n",
    "fake_biden_df['label'] = 1"
   ]
  },
  {
   "cell_type": "code",
   "execution_count": null,
   "id": "9c1d86a7",
   "metadata": {},
   "outputs": [],
   "source": [
    "df = pd.concat([biden_df, fake_biden_df]).reset_index()\n",
    "df = df.drop(columns=['file', 'start', 'end'])\n",
    "df.head()"
   ]
  },
  {
   "cell_type": "code",
   "execution_count": null,
   "id": "b8e3fa49",
   "metadata": {},
   "outputs": [],
   "source": [
    "y = df['label'].copy()\n",
    "X = df.drop(columns=['label']).copy()\n",
    "\n",
    "X_train, X_test, y_train, y_test = train_test_split(X, y, test_size=0.1)"
   ]
  },
  {
   "cell_type": "code",
   "execution_count": null,
   "id": "8ff03a19",
   "metadata": {},
   "outputs": [],
   "source": [
    "pca = PCA()\n",
    "X_train_pca = pca.fit_transform(X_train)\n",
    "X_test_pca = pca.transform(X_test) "
   ]
  },
  {
   "cell_type": "code",
   "execution_count": null,
   "id": "6ba97c35",
   "metadata": {},
   "outputs": [],
   "source": [
    "components = np.arange(1,100,1)\n",
    "acc_plot = []\n",
    "\n",
    "for component in components:\n",
    "    model = LogisticRegression()\n",
    "    model.fit(X_train_pca[:,:component], y_train)\n",
    "    pred = model.predict(X_test_pca[:,:component])\n",
    "    acc = accuracy_score(y_true=y_test, y_pred=pred)\n",
    "    acc_plot.append(acc)"
   ]
  },
  {
   "cell_type": "code",
   "execution_count": null,
   "id": "4159bcf7",
   "metadata": {},
   "outputs": [],
   "source": [
    "sns.lineplot(x=components, y=acc_plot)\n",
    "plt.xlabel('# of Components')\n",
    "plt.ylabel('Acc %')\n",
    "plt.title('real vs. fake Biden Accuracy')\n",
    "plt.show()"
   ]
  },
  {
   "cell_type": "code",
   "execution_count": null,
   "id": "dfc69b0a",
   "metadata": {},
   "outputs": [],
   "source": []
  }
 ],
 "metadata": {
  "kernelspec": {
   "display_name": "deepfake-detection",
   "language": "python",
   "name": "deepfake-detection"
  },
  "language_info": {
   "codemirror_mode": {
    "name": "ipython",
    "version": 3
   },
   "file_extension": ".py",
   "mimetype": "text/x-python",
   "name": "python",
   "nbconvert_exporter": "python",
   "pygments_lexer": "ipython3",
   "version": "3.8.10"
  }
 },
 "nbformat": 4,
 "nbformat_minor": 5
}
