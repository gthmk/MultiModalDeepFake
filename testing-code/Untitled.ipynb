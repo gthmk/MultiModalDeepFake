{
 "cells": [
  {
   "cell_type": "code",
   "execution_count": null,
   "id": "536b15a1-1bff-49f3-8c2c-45c2a7efdcb4",
   "metadata": {},
   "outputs": [],
   "source": [
    "from transformers import AutoFeatureExtractor, HubertForSequenceClassification\n",
    "from datasets import load_dataset\n",
    "import torch"
   ]
  },
  {
   "cell_type": "code",
   "execution_count": null,
   "id": "199fa47f-695b-43a2-8fc8-a4cbd4f27d12",
   "metadata": {},
   "outputs": [
    {
     "name": "stderr",
     "output_type": "stream",
     "text": [
      "Downloading builder script: 100%|██████████| 5.17k/5.17k [00:00<00:00, 8.63MB/s]\n"
     ]
    },
    {
     "name": "stdout",
     "output_type": "stream",
     "text": [
      "Downloading and preparing dataset librispeech_asr_demo/clean to /home/ubuntu/.cache/huggingface/datasets/hf-internal-testing___librispeech_asr_demo/clean/2.1.0/d3bc4c2bc2078fcde3ad0f0f635862e4c0fef78ba94c4a34c4c250a097af240b...\n"
     ]
    },
    {
     "name": "stderr",
     "output_type": "stream",
     "text": [
      "Downloading data files:   0%|          | 0/1 [00:00<?, ?it/s]\n",
      "Downloading data:   0%|          | 0.00/9.08M [00:00<?, ?B/s]\u001b[A\n",
      "Downloading data:   1%|          | 52.2k/9.08M [00:00<00:25, 352kB/s]\u001b[A\n",
      "Downloading data:   3%|▎         | 261k/9.08M [00:00<00:09, 966kB/s] \u001b[A\n",
      "Downloading data:  13%|█▎        | 1.15M/9.08M [00:00<00:02, 3.23MB/s]\u001b[A\n",
      "Downloading data:  39%|███▊      | 3.50M/9.08M [00:00<00:00, 8.07MB/s]\u001b[A\n",
      "Downloading data: 100%|██████████| 9.08M/9.08M [00:00<00:00, 11.3MB/s]\u001b[A\n",
      "Downloading data files: 100%|██████████| 1/1 [00:01<00:00,  1.51s/it]\n",
      "Extracting data files: 100%|██████████| 1/1 [00:00<00:00, 30.51it/s]\n",
      "                                                             "
     ]
    },
    {
     "name": "stdout",
     "output_type": "stream",
     "text": [
      "Dataset librispeech_asr_demo downloaded and prepared to /home/ubuntu/.cache/huggingface/datasets/hf-internal-testing___librispeech_asr_demo/clean/2.1.0/d3bc4c2bc2078fcde3ad0f0f635862e4c0fef78ba94c4a34c4c250a097af240b. Subsequent calls will reuse this data.\n"
     ]
    },
    {
     "name": "stderr",
     "output_type": "stream",
     "text": [
      "\r"
     ]
    }
   ],
   "source": [
    "dataset = load_dataset(\"hf-internal-testing/librispeech_asr_demo\", \"clean\", split=\"validation\")"
   ]
  },
  {
   "cell_type": "code",
   "execution_count": null,
   "id": "c9664cbe-676d-41e6-9776-f725e4bbdf70",
   "metadata": {},
   "outputs": [],
   "source": [
    "dataset = dataset.sort(\"id\")"
   ]
  },
  {
   "cell_type": "code",
   "execution_count": null,
   "id": "e3038581-ecf3-42e3-bd4b-2cfcc52fe0a9",
   "metadata": {},
   "outputs": [],
   "source": [
    "sampling_rate = dataset.features[\"audio\"].sampling_rate"
   ]
  },
  {
   "cell_type": "code",
   "execution_count": null,
   "id": "a8c4103c-ef8e-4e5b-846c-8e93bfb2b071",
   "metadata": {},
   "outputs": [
    {
     "name": "stderr",
     "output_type": "stream",
     "text": [
      "Downloading (…)rocessor_config.json: 100%|██████████| 213/213 [00:00<00:00, 48.1kB/s]\n"
     ]
    }
   ],
   "source": [
    "feature_extractor = AutoFeatureExtractor.from_pretrained(\"superb/hubert-base-superb-ks\")"
   ]
  },
  {
   "cell_type": "code",
   "execution_count": null,
   "id": "0c93944e-5b17-420c-8f9e-f85459b848d3",
   "metadata": {},
   "outputs": [
    {
     "name": "stderr",
     "output_type": "stream",
     "text": [
      "Downloading (…)lve/main/config.json: 100%|██████████| 1.93k/1.93k [00:00<00:00, 466kB/s]\n",
      "Downloading (…)\"pytorch_model.bin\";: 100%|██████████| 378M/378M [00:03<00:00, 95.2MB/s] \n"
     ]
    }
   ],
   "source": [
    "model = HubertForSequenceClassification.from_pretrained(\"superb/hubert-base-superb-ks\")"
   ]
  },
  {
   "cell_type": "code",
   "execution_count": null,
   "id": "fad06c6b-82b0-46b0-99e4-cf6296bdb91f",
   "metadata": {},
   "outputs": [
    {
     "data": {
      "text/plain": [
       "{'file': '/home/ubuntu/.cache/huggingface/datasets/downloads/extracted/34789e5de9eaef2bab48fe13d634e8e553cb3353c3451fe594bbeb91c420eacd/dev_clean/1272/128104/1272-128104-0000.flac',\n",
       " 'audio': {'path': '/home/ubuntu/.cache/huggingface/datasets/downloads/extracted/34789e5de9eaef2bab48fe13d634e8e553cb3353c3451fe594bbeb91c420eacd/dev_clean/1272/128104/1272-128104-0000.flac',\n",
       "  'array': array([0.00238037, 0.0020752 , 0.00198364, ..., 0.00042725, 0.00057983,\n",
       "         0.0010376 ], dtype=float32),\n",
       "  'sampling_rate': 16000},\n",
       " 'text': 'MISTER QUILTER IS THE APOSTLE OF THE MIDDLE CLASSES AND WE ARE GLAD TO WELCOME HIS GOSPEL',\n",
       " 'speaker_id': 1272,\n",
       " 'chapter_id': 128104,\n",
       " 'id': '1272-128104-0000'}"
      ]
     },
     "execution_count": 9,
     "metadata": {},
     "output_type": "execute_result"
    }
   ],
   "source": [
    "dataset[0]"
   ]
  },
  {
   "cell_type": "code",
   "execution_count": null,
   "id": "5d5e34b1-1deb-4a6b-80d0-7e0e03525156",
   "metadata": {},
   "outputs": [],
   "source": [
    "inputs = feature_extractor(dataset[0][\"audio\"][\"array\"], sampling_rate=sampling_rate, return_tensors=\"pt\")"
   ]
  },
  {
   "cell_type": "code",
   "execution_count": null,
   "id": "a854c327-6416-4007-a872-397de8cf8e0d",
   "metadata": {},
   "outputs": [
    {
     "data": {
      "text/plain": [
       "{'input_values': tensor([[0.0024, 0.0021, 0.0020,  ..., 0.0004, 0.0006, 0.0010]]), 'attention_mask': tensor([[1, 1, 1,  ..., 1, 1, 1]], dtype=torch.int32)}"
      ]
     },
     "execution_count": 12,
     "metadata": {},
     "output_type": "execute_result"
    }
   ],
   "source": [
    "inputs"
   ]
  },
  {
   "cell_type": "code",
   "execution_count": null,
   "id": "48622101-0373-4bef-b3cf-0e0c23afa7c9",
   "metadata": {},
   "outputs": [
    {
     "data": {
      "text/plain": [
       "torch.Size([1, 93680])"
      ]
     },
     "execution_count": 17,
     "metadata": {},
     "output_type": "execute_result"
    }
   ],
   "source": [
    "inputs['input_values'].shape"
   ]
  },
  {
   "cell_type": "code",
   "execution_count": null,
   "id": "ed83d0d5-246b-45c4-bf55-8989f0fe03f8",
   "metadata": {},
   "outputs": [],
   "source": []
  }
 ],
 "metadata": {
  "kernelspec": {
   "display_name": "deepfake-detection-v1",
   "language": "python",
   "name": "deepfake-detection-v1"
  },
  "language_info": {
   "codemirror_mode": {
    "name": "ipython",
    "version": 3
   },
   "file_extension": ".py",
   "mimetype": "text/x-python",
   "name": "python",
   "nbconvert_exporter": "python",
   "pygments_lexer": "ipython3",
   "version": "3.9.16"
  }
 },
 "nbformat": 4,
 "nbformat_minor": 5
}
