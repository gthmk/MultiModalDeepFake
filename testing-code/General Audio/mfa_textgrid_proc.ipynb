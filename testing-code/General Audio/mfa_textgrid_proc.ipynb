{
  "nbformat": 4,
  "nbformat_minor": 0,
  "metadata": {
    "colab": {
      "provenance": [],
      "machine_shape": "hm",
      "authorship_tag": "ABX9TyOTNOzj4gvcOC/wYKLkOyUD",
      "include_colab_link": true
    },
    "kernelspec": {
      "name": "python3",
      "display_name": "Python 3"
    },
    "language_info": {
      "name": "python"
    },
    "accelerator": "TPU",
    "gpuClass": "standard"
  },
  "cells": [
    {
      "cell_type": "markdown",
      "metadata": {
        "id": "view-in-github",
        "colab_type": "text"
      },
      "source": [
        "<a href=\"https://colab.research.google.com/github/romitbarua/MultiModalDeepFake/blob/main/TestingNotebooks/mfa_textgrid_proc.ipynb\" target=\"_parent\"><img src=\"https://colab.research.google.com/assets/colab-badge.svg\" alt=\"Open In Colab\"/></a>"
      ]
    },
    {
      "cell_type": "code",
      "source": [
        "#https://github.com/kylebgorman/textgrid\n",
        "!pip install textgrid"
      ],
      "metadata": {
        "colab": {
          "base_uri": "https://localhost:8080/"
        },
        "id": "sH1mOIUyl6QY",
        "outputId": "0721b1d4-e123-4db1-a57f-c0b1a1aa491d"
      },
      "execution_count": 1,
      "outputs": [
        {
          "output_type": "stream",
          "name": "stdout",
          "text": [
            "Looking in indexes: https://pypi.org/simple, https://us-python.pkg.dev/colab-wheels/public/simple/\n",
            "Requirement already satisfied: textgrid in /usr/local/lib/python3.7/dist-packages (1.5)\n"
          ]
        }
      ]
    },
    {
      "cell_type": "code",
      "source": [
        "!pip install moviepy\n",
        "!pip3 install imageio==2.4.1\n",
        "!pip install imageio-ffmpeg"
      ],
      "metadata": {
        "colab": {
          "base_uri": "https://localhost:8080/"
        },
        "id": "AxQVCLNFqTx0",
        "outputId": "afc78381-62aa-4697-e99d-089490e3db1b"
      },
      "execution_count": 2,
      "outputs": [
        {
          "output_type": "stream",
          "name": "stdout",
          "text": [
            "Looking in indexes: https://pypi.org/simple, https://us-python.pkg.dev/colab-wheels/public/simple/\n",
            "Requirement already satisfied: moviepy in /usr/local/lib/python3.7/dist-packages (0.2.3.5)\n",
            "Requirement already satisfied: numpy in /usr/local/lib/python3.7/dist-packages (from moviepy) (1.21.6)\n",
            "Requirement already satisfied: imageio<3.0,>=2.1.2 in /usr/local/lib/python3.7/dist-packages (from moviepy) (2.4.1)\n",
            "Requirement already satisfied: tqdm<5.0,>=4.11.2 in /usr/local/lib/python3.7/dist-packages (from moviepy) (4.64.1)\n",
            "Requirement already satisfied: decorator<5.0,>=4.0.2 in /usr/local/lib/python3.7/dist-packages (from moviepy) (4.4.2)\n",
            "Requirement already satisfied: pillow in /usr/local/lib/python3.7/dist-packages (from imageio<3.0,>=2.1.2->moviepy) (7.1.2)\n",
            "Looking in indexes: https://pypi.org/simple, https://us-python.pkg.dev/colab-wheels/public/simple/\n",
            "Requirement already satisfied: imageio==2.4.1 in /usr/local/lib/python3.7/dist-packages (2.4.1)\n",
            "Requirement already satisfied: numpy in /usr/local/lib/python3.7/dist-packages (from imageio==2.4.1) (1.21.6)\n",
            "Requirement already satisfied: pillow in /usr/local/lib/python3.7/dist-packages (from imageio==2.4.1) (7.1.2)\n",
            "Looking in indexes: https://pypi.org/simple, https://us-python.pkg.dev/colab-wheels/public/simple/\n",
            "Requirement already satisfied: imageio-ffmpeg in /usr/local/lib/python3.7/dist-packages (0.4.7)\n"
          ]
        }
      ]
    },
    {
      "cell_type": "code",
      "execution_count": 3,
      "metadata": {
        "colab": {
          "base_uri": "https://localhost:8080/"
        },
        "id": "aXBkqi2ubgHI",
        "outputId": "e2cc7aaf-f7d3-4326-ff6c-bc54315b4cfb"
      },
      "outputs": [
        {
          "output_type": "stream",
          "name": "stdout",
          "text": [
            "Drive already mounted at /content/drive/; to attempt to forcibly remount, call drive.mount(\"/content/drive/\", force_remount=True).\n"
          ]
        }
      ],
      "source": [
        "from google.colab import drive\n",
        "drive.mount('/content/drive/')"
      ]
    },
    {
      "cell_type": "code",
      "source": [
        "import pandas as pd\n",
        "import numpy as np\n",
        "import textgrid\n",
        "from moviepy.editor import *\n",
        "import pickle"
      ],
      "metadata": {
        "id": "gX0MACSxbw-c"
      },
      "execution_count": 38,
      "outputs": []
    },
    {
      "cell_type": "markdown",
      "source": [
        "## Extracting MBP Phonemes"
      ],
      "metadata": {
        "id": "8CAGx4USqX7S"
      }
    },
    {
      "cell_type": "code",
      "source": [
        "metadata_file = r'/content/drive/MyDrive/DeepFakeDetection/data/FakeAVCeleb_v1.2/wav2lip_metadata_updated.csv'\n",
        "metadata_df = pd.read_csv(metadata_file)"
      ],
      "metadata": {
        "id": "Q8H2ZB03byXt"
      },
      "execution_count": 5,
      "outputs": []
    },
    {
      "cell_type": "code",
      "source": [
        "metadata_df.columns"
      ],
      "metadata": {
        "colab": {
          "base_uri": "https://localhost:8080/"
        },
        "id": "Np2bdzmJb15n",
        "outputId": "1d06ec0e-ee3b-45ae-f620-b4190aa0b6dd"
      },
      "execution_count": 6,
      "outputs": [
        {
          "output_type": "execute_result",
          "data": {
            "text/plain": [
              "Index(['video_id', 'source', 'target1', 'target2', 'method', 'category',\n",
              "       'type', 'race', 'gender', 'filename', 'directory_path', 'mp4_filepath',\n",
              "       'utterance_file', 'wav_filepath', 'audio_length', 'textgrid_filepath'],\n",
              "      dtype='object')"
            ]
          },
          "metadata": {},
          "execution_count": 6
        }
      ]
    },
    {
      "cell_type": "code",
      "source": [
        "tg_test = metadata_df.textgrid_filepath[0]"
      ],
      "metadata": {
        "id": "DFMo3Bxpb4qn"
      },
      "execution_count": 7,
      "outputs": []
    },
    {
      "cell_type": "code",
      "source": [
        "tg = textgrid.TextGrid.fromFile(tg_test)"
      ],
      "metadata": {
        "id": "wLfrFyggmnO1"
      },
      "execution_count": 8,
      "outputs": []
    },
    {
      "cell_type": "code",
      "source": [
        "tg[1]"
      ],
      "metadata": {
        "colab": {
          "base_uri": "https://localhost:8080/"
        },
        "id": "9kISufrHnRic",
        "outputId": "c8355411-ef97-44ac-cadb-118d69956192"
      },
      "execution_count": 9,
      "outputs": [
        {
          "output_type": "execute_result",
          "data": {
            "text/plain": [
              "IntervalTier(phones, [Interval(0.0, 0.11, S), Interval(0.11, 0.19, IY1), Interval(0.19, 0.24, DH), Interval(0.24, 0.35, AE1), Interval(0.35, 0.42, T), Interval(0.42, 0.45, B), Interval(0.45, 0.5, IH0), Interval(0.5, 0.63, F), Interval(0.63, 0.79, AO1), Interval(0.79, 0.86, R), Interval(0.86, 1.18, None), Interval(1.18, 1.62, AH0), Interval(1.62, 1.79, N), Interval(1.79, 1.89, D), Interval(1.89, 1.91, DH), Interval(1.91, 2.13, EH1), Interval(2.13, 2.61, N), Interval(2.61, 2.65, None), Interval(2.65, 2.71, Y), Interval(2.71, 2.74, UW1), Interval(2.74, 2.79, G), Interval(2.79, 2.82, AA1), Interval(2.82, 2.85, T), Interval(2.85, 2.88, AH0), Interval(2.88, 2.92, L), Interval(2.92, 2.95, IH1), Interval(2.95, 2.98, T), Interval(2.98, 3.03, AH0), Interval(3.03, 3.07, L), Interval(3.07, 3.16, S), Interval(3.16, 3.2, AH0), Interval(3.2, 3.29, P), Interval(3.29, 3.34, R), Interval(3.34, 3.44, AY1), Interval(3.44, 3.52, Z), Interval(3.52, 3.57, F), Interval(3.57, 3.6, ER0), Interval(3.6, 3.64, Y), Interval(3.64, 3.68, UH1), Interval(3.68, 3.73, R), Interval(3.73, 3.86, K), Interval(3.86, 3.9, R), Interval(3.9, 3.94, IH1), Interval(3.94, 4.06, S), Interval(4.06, 4.1, M), Interval(4.1, 4.17, AH0), Interval(4.17, 4.21, S), Interval(4.21, 4.38, S), Interval(4.38, 4.45, AH1), Interval(4.45, 4.48, M), Interval(4.48, 4.57, TH), Interval(4.57, 4.62, IH0), Interval(4.62, 4.68, NG), Interval(4.68, 4.73, V), Interval(4.73, 4.77, EH1), Interval(4.77, 4.82, R), Interval(4.82, 4.88, IY0), Interval(4.88, 4.97, D), Interval(4.97, 5.01, IH1), Interval(5.01, 5.11, F), Interval(5.11, 5.14, R), Interval(5.14, 5.17, AH0), Interval(5.17, 5.2, N), Interval(5.2, 5.23, T), Interval(5.23, 5.27, F), Interval(5.27, 5.31, ER0), Interval(5.31, 5.37, M), Interval(5.37, 5.45, P), Interval(5.45, 5.52, AA1), Interval(5.52, 5.59, M), Interval(5.59, 5.67, P), Interval(5.67, 5.87, EY2), Interval(5.87, 5.9, IY1), Interval(5.9, 6.02, K), Interval(6.02, 6.12, OW1), Interval(6.12, 6.16, D), Interval(6.16, 6.36, AE1), Interval(6.36, 6.57, N), Interval(6.57, 6.62, D), Interval(6.62, 7.02, None), Interval(7.02, 7.08, AH0), Interval(7.08, 7.16, M), Interval(7.16, 7.23, Y), Interval(7.23, 7.3, UW1), Interval(7.3, 7.38, Z), Interval(7.38, 7.43, IH0), Interval(7.43, 7.52, K), Interval(7.52, 7.54, AH0), Interval(7.54, 7.68, L), Interval(7.68, 7.77, None), Interval(7.77, 7.92, AH0), Interval(7.92, 7.95, N), Interval(7.95, 7.98, D), Interval(7.98, 8.04, AH0), Interval(8.04, 8.16, P), Interval(8.16, 8.22, L), Interval(8.22, 8.37, EY1), Interval(8.37, 8.43, AH0), Interval(8.43, 8.54, K), Interval(8.54, 8.59, EH1), Interval(8.59, 8.69, R), Interval(8.69, 8.72, IH0), Interval(8.72, 8.75, K), Interval(8.75, 8.81, T), Interval(8.81, 8.85, ER0), Interval(8.85, 8.92, K), Interval(8.92, 8.95, AO1), Interval(8.95, 9.0, L), Interval(9.0, 9.05, D), Interval(9.05, 9.12, M), Interval(9.12, 9.26, AE1), Interval(9.26, 9.34, S), Interval(9.34, 9.42, V), Interval(9.42, 9.45, EH1), Interval(9.45, 9.53, R), Interval(9.53, 9.68, IY0), Interval(9.68, 9.8, None), Interval(9.8, 9.89, L), Interval(9.89, 10.01, AY1), Interval(10.01, 10.04, T), Interval(10.04, 10.1, None)])"
            ]
          },
          "metadata": {},
          "execution_count": 9
        }
      ]
    },
    {
      "cell_type": "code",
      "source": [
        "type(tg[1][:])"
      ],
      "metadata": {
        "colab": {
          "base_uri": "https://localhost:8080/"
        },
        "id": "9LeHoaZmm20R",
        "outputId": "9cb6d12a-5476-436f-8556-665762513aa9"
      },
      "execution_count": 10,
      "outputs": [
        {
          "output_type": "execute_result",
          "data": {
            "text/plain": [
              "list"
            ]
          },
          "metadata": {},
          "execution_count": 10
        }
      ]
    },
    {
      "cell_type": "code",
      "source": [
        "tg[1][:][:3]"
      ],
      "metadata": {
        "colab": {
          "base_uri": "https://localhost:8080/"
        },
        "id": "oGVQjoVwnY_n",
        "outputId": "3ca14b6d-e2a5-4d4f-976d-4943796dff51"
      },
      "execution_count": 11,
      "outputs": [
        {
          "output_type": "execute_result",
          "data": {
            "text/plain": [
              "[Interval(0.0, 0.11, S), Interval(0.11, 0.19, IY1), Interval(0.19, 0.24, DH)]"
            ]
          },
          "metadata": {},
          "execution_count": 11
        }
      ]
    },
    {
      "cell_type": "code",
      "source": [
        "tg[1][:][0].mark"
      ],
      "metadata": {
        "colab": {
          "base_uri": "https://localhost:8080/",
          "height": 37
        },
        "id": "5coSISoEnjUb",
        "outputId": "b3e33563-39e8-41bb-cb58-cf505a9b3552"
      },
      "execution_count": 12,
      "outputs": [
        {
          "output_type": "execute_result",
          "data": {
            "text/plain": [
              "'S'"
            ],
            "application/vnd.google.colaboratory.intrinsic+json": {
              "type": "string"
            }
          },
          "metadata": {},
          "execution_count": 12
        }
      ]
    },
    {
      "cell_type": "code",
      "source": [
        "m_phonemes = []\n",
        "b_phonemes = []\n",
        "p_phonemes = []\n",
        "\n",
        "for interval in tg[1][:]:\n",
        "\n",
        "  if interval.mark == 'M':\n",
        "    m_phonemes.append(interval)\n",
        "  if interval.mark == 'B':\n",
        "    b_phonemes.append(interval)\n",
        "  if interval.mark == 'P':\n",
        "    p_phonemes.append(interval)\n"
      ],
      "metadata": {
        "id": "wyb9kJAbnqUg"
      },
      "execution_count": 13,
      "outputs": []
    },
    {
      "cell_type": "code",
      "source": [
        "m_phonemes"
      ],
      "metadata": {
        "colab": {
          "base_uri": "https://localhost:8080/"
        },
        "id": "y30vkLyuoT3I",
        "outputId": "d92b444e-38fe-4106-bbfb-ca2a17833067"
      },
      "execution_count": 14,
      "outputs": [
        {
          "output_type": "execute_result",
          "data": {
            "text/plain": [
              "[Interval(4.06, 4.1, M),\n",
              " Interval(4.45, 4.48, M),\n",
              " Interval(5.31, 5.37, M),\n",
              " Interval(5.52, 5.59, M),\n",
              " Interval(7.08, 7.16, M),\n",
              " Interval(9.05, 9.12, M)]"
            ]
          },
          "metadata": {},
          "execution_count": 14
        }
      ]
    },
    {
      "cell_type": "code",
      "source": [
        "b_phonemes"
      ],
      "metadata": {
        "colab": {
          "base_uri": "https://localhost:8080/"
        },
        "id": "YJcaL85koW6D",
        "outputId": "6edaa1c0-581d-40d2-ec68-cd041b0ca288"
      },
      "execution_count": 15,
      "outputs": [
        {
          "output_type": "execute_result",
          "data": {
            "text/plain": [
              "[Interval(0.42, 0.45, B)]"
            ]
          },
          "metadata": {},
          "execution_count": 15
        }
      ]
    },
    {
      "cell_type": "code",
      "source": [
        "p_phonemes"
      ],
      "metadata": {
        "colab": {
          "base_uri": "https://localhost:8080/"
        },
        "id": "kA2O-dQ8oXPV",
        "outputId": "86975ae1-fe4c-4dd9-e137-72cdac33e6ed"
      },
      "execution_count": 16,
      "outputs": [
        {
          "output_type": "execute_result",
          "data": {
            "text/plain": [
              "[Interval(3.2, 3.29, P),\n",
              " Interval(5.37, 5.45, P),\n",
              " Interval(5.59, 5.67, P),\n",
              " Interval(8.04, 8.16, P)]"
            ]
          },
          "metadata": {},
          "execution_count": 16
        }
      ]
    },
    {
      "cell_type": "code",
      "source": [
        "m_phonemes[0].minTime, m_phonemes[0].maxTime"
      ],
      "metadata": {
        "colab": {
          "base_uri": "https://localhost:8080/"
        },
        "id": "innRSbMsojqR",
        "outputId": "6f6b3267-398b-4ae8-e0c1-9dc0f0d5606e"
      },
      "execution_count": 17,
      "outputs": [
        {
          "output_type": "execute_result",
          "data": {
            "text/plain": [
              "(4.06, 4.1)"
            ]
          },
          "metadata": {},
          "execution_count": 17
        }
      ]
    },
    {
      "cell_type": "markdown",
      "source": [
        "## Extracting Relevant Video Segments"
      ],
      "metadata": {
        "id": "AVsams5UrSVr"
      }
    },
    {
      "cell_type": "code",
      "source": [
        "video_test = metadata_df.mp4_filepath[0]\n",
        "clip = VideoFileClip(video_test) "
      ],
      "metadata": {
        "id": "KtSWDHDjrSA8"
      },
      "execution_count": 18,
      "outputs": []
    },
    {
      "cell_type": "code",
      "source": [
        "sub_clip = clip.subclip(m_phonemes[1].minTime, m_phonemes[1].maxTime)"
      ],
      "metadata": {
        "id": "rIi5zhdlrwuP"
      },
      "execution_count": 19,
      "outputs": []
    },
    {
      "cell_type": "code",
      "source": [
        "sub_clip = clip.subclip(m_phonemes[2].minTime, m_phonemes[2].maxTime)"
      ],
      "metadata": {
        "id": "9IL3bIR-txVE"
      },
      "execution_count": 20,
      "outputs": []
    },
    {
      "cell_type": "code",
      "source": [
        "sub_clip = clip.subclip(m_phonemes[3].minTime, m_phonemes[3].maxTime)"
      ],
      "metadata": {
        "id": "f0X9q3pvtykB"
      },
      "execution_count": 21,
      "outputs": []
    },
    {
      "cell_type": "code",
      "source": [
        "sub_clip = clip.subclip(m_phonemes[4].minTime, m_phonemes[4].maxTime)"
      ],
      "metadata": {
        "id": "3Z7DH3GetzWS"
      },
      "execution_count": 22,
      "outputs": []
    },
    {
      "cell_type": "code",
      "source": [
        "sub_clip = clip.subclip(m_phonemes[5].minTime, m_phonemes[5].maxTime)"
      ],
      "metadata": {
        "id": "ACo8WzKOt0qJ"
      },
      "execution_count": 23,
      "outputs": []
    },
    {
      "cell_type": "code",
      "source": [
        "sub_clip = clip.subclip(b_phonemes[0].minTime, b_phonemes[0].maxTime)"
      ],
      "metadata": {
        "id": "3sHsDuTIuCWD"
      },
      "execution_count": 24,
      "outputs": []
    },
    {
      "cell_type": "code",
      "source": [
        "sub_clip = clip.subclip(p_phonemes[1].minTime, p_phonemes[1].maxTime)"
      ],
      "metadata": {
        "id": "9BoGA5ywuCq_"
      },
      "execution_count": 25,
      "outputs": []
    },
    {
      "cell_type": "code",
      "source": [
        "sub_clip = clip.subclip(p_phonemes[1].minTime-0.15, p_phonemes[1].maxTime+0.15)"
      ],
      "metadata": {
        "id": "nxuwfyfpcMFY"
      },
      "execution_count": 26,
      "outputs": []
    },
    {
      "cell_type": "code",
      "source": [
        "sub_clip = clip.subclip(p_phonemes[2].minTime, p_phonemes[2].maxTime)"
      ],
      "metadata": {
        "id": "1CPNOpuwuDBW"
      },
      "execution_count": 27,
      "outputs": []
    },
    {
      "cell_type": "code",
      "source": [
        "sub_clip = clip.subclip(p_phonemes[3].minTime, p_phonemes[3].maxTime)"
      ],
      "metadata": {
        "id": "WmGkDPhsuIj3"
      },
      "execution_count": 28,
      "outputs": []
    },
    {
      "cell_type": "code",
      "source": [
        "sub_clip.ipython_display(width = 360)"
      ],
      "metadata": {
        "colab": {
          "base_uri": "https://localhost:8080/",
          "height": 417
        },
        "id": "qciMJVxUr7yL",
        "outputId": "01c5d3d2-cd36-441c-d222-0083f6adfa85"
      },
      "execution_count": 29,
      "outputs": [
        {
          "output_type": "stream",
          "name": "stderr",
          "text": [
            "100%|██████████| 3/3 [00:00<00:00, 231.53it/s]\n",
            "100%|██████████| 4/4 [00:00<00:00, 963.99it/s]\n"
          ]
        },
        {
          "output_type": "execute_result",
          "data": {
            "text/plain": [
              "<moviepy.video.io.html_tools.HTML2 object>"
            ],
            "text/html": [
              "<div align=middle><video width='360'src='data:video/mp4;base64,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' controls>Sorry, seems like your browser doesn't support HTML5 audio/video</video></div>"
            ]
          },
          "metadata": {},
          "execution_count": 29
        }
      ]
    },
    {
      "cell_type": "markdown",
      "source": [
        "## Metadata update\n"
      ],
      "metadata": {
        "id": "emNeDWCqdWjT"
      }
    },
    {
      "cell_type": "code",
      "source": [
        "metadata_df.head()"
      ],
      "metadata": {
        "colab": {
          "base_uri": "https://localhost:8080/",
          "height": 361
        },
        "id": "L9JXYMNadaov",
        "outputId": "6b84cb2f-1715-48e6-fc95-1a55d12a12c4"
      },
      "execution_count": 30,
      "outputs": [
        {
          "output_type": "execute_result",
          "data": {
            "text/plain": [
              "  video_id   source target1 target2 method category                 type  \\\n",
              "0  video 1  id00076       -       -   real        A  RealVideo-RealAudio   \n",
              "1  video 2  id00166       -       -   real        A  RealVideo-RealAudio   \n",
              "2  video 3  id00173       -       -   real        A  RealVideo-RealAudio   \n",
              "3  video 4  id00366       -       -   real        A  RealVideo-RealAudio   \n",
              "4  video 5  id00391       -       -   real        A  RealVideo-RealAudio   \n",
              "\n",
              "      race gender   filename  \\\n",
              "0  African    men  00109.mp4   \n",
              "1  African    men  00010.mp4   \n",
              "2  African    men  00118.mp4   \n",
              "3  African    men  00118.mp4   \n",
              "4  African    men  00052.mp4   \n",
              "\n",
              "                                      directory_path  \\\n",
              "0  /content/drive/MyDrive/DeepFakeDetection/data/...   \n",
              "1  /content/drive/MyDrive/DeepFakeDetection/data/...   \n",
              "2  /content/drive/MyDrive/DeepFakeDetection/data/...   \n",
              "3  /content/drive/MyDrive/DeepFakeDetection/data/...   \n",
              "4  /content/drive/MyDrive/DeepFakeDetection/data/...   \n",
              "\n",
              "                                        mp4_filepath  \\\n",
              "0  /content/drive/MyDrive/DeepFakeDetection/data/...   \n",
              "1  /content/drive/MyDrive/DeepFakeDetection/data/...   \n",
              "2  /content/drive/MyDrive/DeepFakeDetection/data/...   \n",
              "3  /content/drive/MyDrive/DeepFakeDetection/data/...   \n",
              "4  /content/drive/MyDrive/DeepFakeDetection/data/...   \n",
              "\n",
              "                                      utterance_file  \\\n",
              "0  /content/drive/MyDrive/DeepFakeDetection/data/...   \n",
              "1  /content/drive/MyDrive/DeepFakeDetection/data/...   \n",
              "2  /content/drive/MyDrive/DeepFakeDetection/data/...   \n",
              "3  /content/drive/MyDrive/DeepFakeDetection/data/...   \n",
              "4  /content/drive/MyDrive/DeepFakeDetection/data/...   \n",
              "\n",
              "                                        wav_filepath  audio_length  \\\n",
              "0  /content/drive/MyDrive/DeepFakeDetection/data/...         10.10   \n",
              "1  /content/drive/MyDrive/DeepFakeDetection/data/...          6.46   \n",
              "2  /content/drive/MyDrive/DeepFakeDetection/data/...          6.02   \n",
              "3  /content/drive/MyDrive/DeepFakeDetection/data/...          9.02   \n",
              "4  /content/drive/MyDrive/DeepFakeDetection/data/...         12.06   \n",
              "\n",
              "                                   textgrid_filepath  \n",
              "0  /content/drive/MyDrive/DeepFakeDetection/data/...  \n",
              "1  /content/drive/MyDrive/DeepFakeDetection/data/...  \n",
              "2  /content/drive/MyDrive/DeepFakeDetection/data/...  \n",
              "3  /content/drive/MyDrive/DeepFakeDetection/data/...  \n",
              "4  /content/drive/MyDrive/DeepFakeDetection/data/...  "
            ],
            "text/html": [
              "\n",
              "  <div id=\"df-1d76dc94-594a-4507-a881-33302db0e868\">\n",
              "    <div class=\"colab-df-container\">\n",
              "      <div>\n",
              "<style scoped>\n",
              "    .dataframe tbody tr th:only-of-type {\n",
              "        vertical-align: middle;\n",
              "    }\n",
              "\n",
              "    .dataframe tbody tr th {\n",
              "        vertical-align: top;\n",
              "    }\n",
              "\n",
              "    .dataframe thead th {\n",
              "        text-align: right;\n",
              "    }\n",
              "</style>\n",
              "<table border=\"1\" class=\"dataframe\">\n",
              "  <thead>\n",
              "    <tr style=\"text-align: right;\">\n",
              "      <th></th>\n",
              "      <th>video_id</th>\n",
              "      <th>source</th>\n",
              "      <th>target1</th>\n",
              "      <th>target2</th>\n",
              "      <th>method</th>\n",
              "      <th>category</th>\n",
              "      <th>type</th>\n",
              "      <th>race</th>\n",
              "      <th>gender</th>\n",
              "      <th>filename</th>\n",
              "      <th>directory_path</th>\n",
              "      <th>mp4_filepath</th>\n",
              "      <th>utterance_file</th>\n",
              "      <th>wav_filepath</th>\n",
              "      <th>audio_length</th>\n",
              "      <th>textgrid_filepath</th>\n",
              "    </tr>\n",
              "  </thead>\n",
              "  <tbody>\n",
              "    <tr>\n",
              "      <th>0</th>\n",
              "      <td>video 1</td>\n",
              "      <td>id00076</td>\n",
              "      <td>-</td>\n",
              "      <td>-</td>\n",
              "      <td>real</td>\n",
              "      <td>A</td>\n",
              "      <td>RealVideo-RealAudio</td>\n",
              "      <td>African</td>\n",
              "      <td>men</td>\n",
              "      <td>00109.mp4</td>\n",
              "      <td>/content/drive/MyDrive/DeepFakeDetection/data/...</td>\n",
              "      <td>/content/drive/MyDrive/DeepFakeDetection/data/...</td>\n",
              "      <td>/content/drive/MyDrive/DeepFakeDetection/data/...</td>\n",
              "      <td>/content/drive/MyDrive/DeepFakeDetection/data/...</td>\n",
              "      <td>10.10</td>\n",
              "      <td>/content/drive/MyDrive/DeepFakeDetection/data/...</td>\n",
              "    </tr>\n",
              "    <tr>\n",
              "      <th>1</th>\n",
              "      <td>video 2</td>\n",
              "      <td>id00166</td>\n",
              "      <td>-</td>\n",
              "      <td>-</td>\n",
              "      <td>real</td>\n",
              "      <td>A</td>\n",
              "      <td>RealVideo-RealAudio</td>\n",
              "      <td>African</td>\n",
              "      <td>men</td>\n",
              "      <td>00010.mp4</td>\n",
              "      <td>/content/drive/MyDrive/DeepFakeDetection/data/...</td>\n",
              "      <td>/content/drive/MyDrive/DeepFakeDetection/data/...</td>\n",
              "      <td>/content/drive/MyDrive/DeepFakeDetection/data/...</td>\n",
              "      <td>/content/drive/MyDrive/DeepFakeDetection/data/...</td>\n",
              "      <td>6.46</td>\n",
              "      <td>/content/drive/MyDrive/DeepFakeDetection/data/...</td>\n",
              "    </tr>\n",
              "    <tr>\n",
              "      <th>2</th>\n",
              "      <td>video 3</td>\n",
              "      <td>id00173</td>\n",
              "      <td>-</td>\n",
              "      <td>-</td>\n",
              "      <td>real</td>\n",
              "      <td>A</td>\n",
              "      <td>RealVideo-RealAudio</td>\n",
              "      <td>African</td>\n",
              "      <td>men</td>\n",
              "      <td>00118.mp4</td>\n",
              "      <td>/content/drive/MyDrive/DeepFakeDetection/data/...</td>\n",
              "      <td>/content/drive/MyDrive/DeepFakeDetection/data/...</td>\n",
              "      <td>/content/drive/MyDrive/DeepFakeDetection/data/...</td>\n",
              "      <td>/content/drive/MyDrive/DeepFakeDetection/data/...</td>\n",
              "      <td>6.02</td>\n",
              "      <td>/content/drive/MyDrive/DeepFakeDetection/data/...</td>\n",
              "    </tr>\n",
              "    <tr>\n",
              "      <th>3</th>\n",
              "      <td>video 4</td>\n",
              "      <td>id00366</td>\n",
              "      <td>-</td>\n",
              "      <td>-</td>\n",
              "      <td>real</td>\n",
              "      <td>A</td>\n",
              "      <td>RealVideo-RealAudio</td>\n",
              "      <td>African</td>\n",
              "      <td>men</td>\n",
              "      <td>00118.mp4</td>\n",
              "      <td>/content/drive/MyDrive/DeepFakeDetection/data/...</td>\n",
              "      <td>/content/drive/MyDrive/DeepFakeDetection/data/...</td>\n",
              "      <td>/content/drive/MyDrive/DeepFakeDetection/data/...</td>\n",
              "      <td>/content/drive/MyDrive/DeepFakeDetection/data/...</td>\n",
              "      <td>9.02</td>\n",
              "      <td>/content/drive/MyDrive/DeepFakeDetection/data/...</td>\n",
              "    </tr>\n",
              "    <tr>\n",
              "      <th>4</th>\n",
              "      <td>video 5</td>\n",
              "      <td>id00391</td>\n",
              "      <td>-</td>\n",
              "      <td>-</td>\n",
              "      <td>real</td>\n",
              "      <td>A</td>\n",
              "      <td>RealVideo-RealAudio</td>\n",
              "      <td>African</td>\n",
              "      <td>men</td>\n",
              "      <td>00052.mp4</td>\n",
              "      <td>/content/drive/MyDrive/DeepFakeDetection/data/...</td>\n",
              "      <td>/content/drive/MyDrive/DeepFakeDetection/data/...</td>\n",
              "      <td>/content/drive/MyDrive/DeepFakeDetection/data/...</td>\n",
              "      <td>/content/drive/MyDrive/DeepFakeDetection/data/...</td>\n",
              "      <td>12.06</td>\n",
              "      <td>/content/drive/MyDrive/DeepFakeDetection/data/...</td>\n",
              "    </tr>\n",
              "  </tbody>\n",
              "</table>\n",
              "</div>\n",
              "      <button class=\"colab-df-convert\" onclick=\"convertToInteractive('df-1d76dc94-594a-4507-a881-33302db0e868')\"\n",
              "              title=\"Convert this dataframe to an interactive table.\"\n",
              "              style=\"display:none;\">\n",
              "        \n",
              "  <svg xmlns=\"http://www.w3.org/2000/svg\" height=\"24px\"viewBox=\"0 0 24 24\"\n",
              "       width=\"24px\">\n",
              "    <path d=\"M0 0h24v24H0V0z\" fill=\"none\"/>\n",
              "    <path d=\"M18.56 5.44l.94 2.06.94-2.06 2.06-.94-2.06-.94-.94-2.06-.94 2.06-2.06.94zm-11 1L8.5 8.5l.94-2.06 2.06-.94-2.06-.94L8.5 2.5l-.94 2.06-2.06.94zm10 10l.94 2.06.94-2.06 2.06-.94-2.06-.94-.94-2.06-.94 2.06-2.06.94z\"/><path d=\"M17.41 7.96l-1.37-1.37c-.4-.4-.92-.59-1.43-.59-.52 0-1.04.2-1.43.59L10.3 9.45l-7.72 7.72c-.78.78-.78 2.05 0 2.83L4 21.41c.39.39.9.59 1.41.59.51 0 1.02-.2 1.41-.59l7.78-7.78 2.81-2.81c.8-.78.8-2.07 0-2.86zM5.41 20L4 18.59l7.72-7.72 1.47 1.35L5.41 20z\"/>\n",
              "  </svg>\n",
              "      </button>\n",
              "      \n",
              "  <style>\n",
              "    .colab-df-container {\n",
              "      display:flex;\n",
              "      flex-wrap:wrap;\n",
              "      gap: 12px;\n",
              "    }\n",
              "\n",
              "    .colab-df-convert {\n",
              "      background-color: #E8F0FE;\n",
              "      border: none;\n",
              "      border-radius: 50%;\n",
              "      cursor: pointer;\n",
              "      display: none;\n",
              "      fill: #1967D2;\n",
              "      height: 32px;\n",
              "      padding: 0 0 0 0;\n",
              "      width: 32px;\n",
              "    }\n",
              "\n",
              "    .colab-df-convert:hover {\n",
              "      background-color: #E2EBFA;\n",
              "      box-shadow: 0px 1px 2px rgba(60, 64, 67, 0.3), 0px 1px 3px 1px rgba(60, 64, 67, 0.15);\n",
              "      fill: #174EA6;\n",
              "    }\n",
              "\n",
              "    [theme=dark] .colab-df-convert {\n",
              "      background-color: #3B4455;\n",
              "      fill: #D2E3FC;\n",
              "    }\n",
              "\n",
              "    [theme=dark] .colab-df-convert:hover {\n",
              "      background-color: #434B5C;\n",
              "      box-shadow: 0px 1px 3px 1px rgba(0, 0, 0, 0.15);\n",
              "      filter: drop-shadow(0px 1px 2px rgba(0, 0, 0, 0.3));\n",
              "      fill: #FFFFFF;\n",
              "    }\n",
              "  </style>\n",
              "\n",
              "      <script>\n",
              "        const buttonEl =\n",
              "          document.querySelector('#df-1d76dc94-594a-4507-a881-33302db0e868 button.colab-df-convert');\n",
              "        buttonEl.style.display =\n",
              "          google.colab.kernel.accessAllowed ? 'block' : 'none';\n",
              "\n",
              "        async function convertToInteractive(key) {\n",
              "          const element = document.querySelector('#df-1d76dc94-594a-4507-a881-33302db0e868');\n",
              "          const dataTable =\n",
              "            await google.colab.kernel.invokeFunction('convertToInteractive',\n",
              "                                                     [key], {});\n",
              "          if (!dataTable) return;\n",
              "\n",
              "          const docLinkHtml = 'Like what you see? Visit the ' +\n",
              "            '<a target=\"_blank\" href=https://colab.research.google.com/notebooks/data_table.ipynb>data table notebook</a>'\n",
              "            + ' to learn more about interactive tables.';\n",
              "          element.innerHTML = '';\n",
              "          dataTable['output_type'] = 'display_data';\n",
              "          await google.colab.output.renderOutput(dataTable, element);\n",
              "          const docLink = document.createElement('div');\n",
              "          docLink.innerHTML = docLinkHtml;\n",
              "          element.appendChild(docLink);\n",
              "        }\n",
              "      </script>\n",
              "    </div>\n",
              "  </div>\n",
              "  "
            ]
          },
          "metadata": {},
          "execution_count": 30
        }
      ]
    },
    {
      "cell_type": "code",
      "source": [
        "video_ids = [\"video {}\".format(i+1) for i in range(metadata_df.shape[0])]\n",
        "metadata_df = metadata_df.assign(video_id = video_ids)\n",
        "first_column = metadata_df.pop('video_id')\n",
        "metadata_df.insert(0, 'video_id', first_column)\n",
        "  "
      ],
      "metadata": {
        "id": "uG9-1DUid3Xb"
      },
      "execution_count": 31,
      "outputs": []
    },
    {
      "cell_type": "code",
      "source": [
        "filename = '/content/drive/MyDrive/DeepFakeDetection/data/FakeAVCeleb_v1.2/wav2lip_metadata_updated.csv'\n",
        "metadata_df.to_csv(filename, index=False)"
      ],
      "metadata": {
        "id": "ueBC2SoCgHmH"
      },
      "execution_count": 32,
      "outputs": []
    },
    {
      "cell_type": "markdown",
      "source": [
        "# Extracting MBP phonemes for all text grids"
      ],
      "metadata": {
        "id": "JEznK01OcbqB"
      }
    },
    {
      "cell_type": "markdown",
      "source": [],
      "metadata": {
        "id": "5TTRnKALcbjW"
      }
    },
    {
      "cell_type": "code",
      "source": [
        "def extract_mbp_phonemes(textgrid_path):\n",
        "\n",
        "  tg = textgrid.TextGrid.fromFile(textgrid_path)\n",
        "\n",
        "  m_phonemes = []\n",
        "  b_phonemes = []\n",
        "  p_phonemes = []\n",
        "\n",
        "  for interval in tg[1][:]:\n",
        "\n",
        "    if interval.mark == 'M':\n",
        "      m_phonemes.append(interval)\n",
        "    if interval.mark == 'B':\n",
        "      b_phonemes.append(interval)\n",
        "    if interval.mark == 'P':\n",
        "      p_phonemes.append(interval)\n",
        "  \n",
        "  return m_phonemes, b_phonemes, p_phonemes"
      ],
      "metadata": {
        "id": "O_cDl-Kvz1ZT"
      },
      "execution_count": 33,
      "outputs": []
    },
    {
      "cell_type": "code",
      "source": [
        "video_ids = metadata_df.video_id.to_list()\n",
        "text_grid_paths = metadata_df.textgrid_filepath.to_list()"
      ],
      "metadata": {
        "id": "i3LZ-JQbcaOb"
      },
      "execution_count": 34,
      "outputs": []
    },
    {
      "cell_type": "code",
      "source": [
        "mbp_dict = dict.fromkeys(video_ids)\n",
        "\n",
        "for vid, tg_pth in zip(video_ids, text_grid_paths):\n",
        "\n",
        "  try:\n",
        "    m_phonemes, b_phonemes, p_phonemes = extract_mbp_phonemes(tg_pth)\n",
        "  \n",
        "    mbp_phonemes = {}\n",
        "\n",
        "    mbp_phonemes['m_phonemes'] = m_phonemes\n",
        "    mbp_phonemes['b_phonemes'] = b_phonemes\n",
        "    mbp_phonemes['p_phonemes'] = p_phonemes\n",
        "\n",
        "    mbp_dict[vid] = mbp_phonemes\n",
        "  except:\n",
        "    mbp_dict[vid] = np.nan\n"
      ],
      "metadata": {
        "id": "k7fjUvBou_vI"
      },
      "execution_count": 36,
      "outputs": []
    },
    {
      "cell_type": "code",
      "source": [
        "mbp_file = r'/content/drive/MyDrive/DeepFakeDetection/data/FakeAVCeleb_v1.2/mbp_phonemes.pickle'\n",
        "\n",
        "with open(mbp_file, 'wb') as handle:\n",
        "  pickle.dump(mbp_dict, handle, protocol=pickle.HIGHEST_PROTOCOL)"
      ],
      "metadata": {
        "id": "_pT9IxI73P3j"
      },
      "execution_count": 46,
      "outputs": []
    },
    {
      "cell_type": "code",
      "source": [
        "with open(mbp_file, 'rb') as handle:\n",
        "  test = pickle.load(handle)"
      ],
      "metadata": {
        "id": "RU7ZljC--wEW"
      },
      "execution_count": 47,
      "outputs": []
    },
    {
      "cell_type": "code",
      "source": [
        "test['video 100']"
      ],
      "metadata": {
        "colab": {
          "base_uri": "https://localhost:8080/"
        },
        "id": "gCJkPJCC_Y3G",
        "outputId": "92063263-fc61-47d0-fa73-9d5dfcb3c341"
      },
      "execution_count": 52,
      "outputs": [
        {
          "output_type": "execute_result",
          "data": {
            "text/plain": [
              "{'m_phonemes': [Interval(6.41, 6.46, M)],\n",
              " 'b_phonemes': [Interval(1.64, 1.71, B),\n",
              "  Interval(3.74, 3.77, B),\n",
              "  Interval(4.78, 4.89, B)],\n",
              " 'p_phonemes': [Interval(6.58, 6.65, P), Interval(6.72, 6.79, P)]}"
            ]
          },
          "metadata": {},
          "execution_count": 52
        }
      ]
    },
    {
      "cell_type": "code",
      "source": [
        "mbp_dict['video 100']"
      ],
      "metadata": {
        "colab": {
          "base_uri": "https://localhost:8080/"
        },
        "id": "HBEgQ-tA_bpt",
        "outputId": "e056e3f4-f9b8-4fea-ed73-179891e2e933"
      },
      "execution_count": 53,
      "outputs": [
        {
          "output_type": "execute_result",
          "data": {
            "text/plain": [
              "{'m_phonemes': [Interval(6.41, 6.46, M)],\n",
              " 'b_phonemes': [Interval(1.64, 1.71, B),\n",
              "  Interval(3.74, 3.77, B),\n",
              "  Interval(4.78, 4.89, B)],\n",
              " 'p_phonemes': [Interval(6.58, 6.65, P), Interval(6.72, 6.79, P)]}"
            ]
          },
          "metadata": {},
          "execution_count": 53
        }
      ]
    }
  ]
}