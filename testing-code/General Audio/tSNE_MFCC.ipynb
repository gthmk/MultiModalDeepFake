{
  "nbformat": 4,
  "nbformat_minor": 0,
  "metadata": {
    "colab": {
      "provenance": [],
      "machine_shape": "hm",
      "authorship_tag": "ABX9TyNoitOirgqiM1ykVRfIvxw7",
      "include_colab_link": true
    },
    "kernelspec": {
      "name": "python3",
      "display_name": "Python 3"
    },
    "language_info": {
      "name": "python"
    },
    "accelerator": "TPU",
    "gpuClass": "standard"
  },
  "cells": [
    {
      "cell_type": "markdown",
      "metadata": {
        "id": "view-in-github",
        "colab_type": "text"
      },
      "source": [
        "<a href=\"https://colab.research.google.com/github/romitbarua/MultiModalDeepFake/blob/main/TestingNotebooks/tSNE_MFCC.ipynb\" target=\"_parent\"><img src=\"https://colab.research.google.com/assets/colab-badge.svg\" alt=\"Open In Colab\"/></a>"
      ]
    },
    {
      "cell_type": "markdown",
      "source": [
        "# t-SNE for MFCC"
      ],
      "metadata": {
        "id": "8_AT74BOteTi"
      }
    },
    {
      "cell_type": "code",
      "execution_count": 44,
      "metadata": {
        "id": "Uf5-eCdjQISa"
      },
      "outputs": [],
      "source": [
        "%matplotlib inline\n",
        "from matplotlib import pyplot as plt\n",
        "import matplotlib.cm as cm\n",
        "import fnmatch\n",
        "import os\n",
        "import numpy as np\n",
        "import librosa\n",
        "import matplotlib.pyplot as plt\n",
        "import librosa.display\n",
        "from sklearn.manifold import TSNE\n",
        "import json\n",
        "# Importing library \n",
        "import csv \n",
        "import sklearn\n",
        "import numpy as np\n",
        "import pandas as pd\n",
        "import matplotlib.pyplot as plt\n",
        "import seaborn as sns\n",
        "import glob\n",
        "import IPython.display as ipd\n",
        "import plotly.express as px"
      ]
    },
    {
      "cell_type": "code",
      "source": [
        "from google.colab import drive\n",
        "drive.mount('/content/drive/')"
      ],
      "metadata": {
        "colab": {
          "base_uri": "https://localhost:8080/"
        },
        "id": "qRoeJGr7RFon",
        "outputId": "953b9e88-3ebc-4de1-b2ef-bd5c4c8b71e0"
      },
      "execution_count": 2,
      "outputs": [
        {
          "output_type": "stream",
          "name": "stdout",
          "text": [
            "Mounted at /content/drive/\n"
          ]
        }
      ]
    },
    {
      "cell_type": "code",
      "source": [
        "filename = '/content/drive/MyDrive/FakeAVCeleb/FakeAVCeleb_v1.2/wav2lip_metadata.csv'\n",
        "metadata_df = pd.read_csv(filename)"
      ],
      "metadata": {
        "id": "KcAcO84kRXW8"
      },
      "execution_count": 3,
      "outputs": []
    },
    {
      "cell_type": "code",
      "source": [
        "id76_df = metadata_df[metadata_df.source=='id00076']"
      ],
      "metadata": {
        "id": "Yie61V0fRa3S"
      },
      "execution_count": 6,
      "outputs": []
    },
    {
      "cell_type": "code",
      "source": [
        "id76_wav_filepaths = id76_df.wav_filepath.to_list()"
      ],
      "metadata": {
        "id": "Tolrd0NfRy7n"
      },
      "execution_count": 9,
      "outputs": []
    },
    {
      "cell_type": "code",
      "source": [
        "def generate_scaled_mfcc_features(audio_file_path, plot=False):\n",
        "  #generate audio time series\n",
        "  audio,sample_rate = librosa.load(audio_file_path)\n",
        "\n",
        "  #truncating feature for now \n",
        "  #may need to consider padding or interpolation\n",
        "  #audio = audio[0:(3*sample_rate)]\n",
        "\n",
        "  #replaced above with taking average across time\n",
        "\n",
        "  #generate mfcc features\n",
        "  mfcc_features = librosa.feature.mfcc(y=audio,sr=sample_rate,n_mfcc=50)\n",
        "  #convert to double to avoid numeric computation issues\n",
        "  mfcc_features = mfcc_features.astype(np.double)\n",
        "  #scale the MFCCs such that each coefficient dimension has zero mean and unit variance\n",
        "  scaled_mfcc_features = sklearn.preprocessing.scale(mfcc_features, axis=1)\n",
        "\n",
        "  if plot==True:\n",
        "    fig, ax = plt.subplots(nrows=1, figsize=(15, 7), sharex=True, sharey=True)\n",
        "    mfcc_plot = display.specshow(mfcc_features, sr=sample_rate, x_axis='time', ax=ax)\n",
        "    ax.set(title='MFCC spectrogram for {}'.format(audio_file_path.split('/')[-2]))\n",
        "    fig.colorbar(mfcc_plot, ax=ax)\n",
        "    return scaled_mfcc_features, mfcc_plot\n",
        "  \n",
        "  return scaled_mfcc_features"
      ],
      "metadata": {
        "id": "Lz9VnyLGTGLP"
      },
      "execution_count": 71,
      "outputs": []
    },
    {
      "cell_type": "code",
      "source": [
        "feature_vectors = []\n",
        "avg_mfccs = []\n",
        "#iterate through all wav files for id\n",
        "for wav_file in id76_wav_filepaths:\n",
        "  #generate mfcc\n",
        "  mfccs = generate_scaled_mfcc_features(wav_file)\n",
        "  #full mfcc feature vector without padding or truncation\n",
        "  feature_vectors.append(mfccs)\n",
        "  #average mfcc feature vector\n",
        "  avg_mfccs.append(np.mean(mfccs,1))"
      ],
      "metadata": {
        "id": "tWAHH1iTTIrS"
      },
      "execution_count": 39,
      "outputs": []
    },
    {
      "cell_type": "code",
      "source": [
        "len(feature_vectors), feature_vectors[0].shape"
      ],
      "metadata": {
        "colab": {
          "base_uri": "https://localhost:8080/"
        },
        "id": "svQyuSISXaFC",
        "outputId": "c4a37501-33b5-4ac8-83e0-58f2978cefd6"
      },
      "execution_count": 40,
      "outputs": [
        {
          "output_type": "execute_result",
          "data": {
            "text/plain": [
              "(21, (20, 435))"
            ]
          },
          "metadata": {},
          "execution_count": 40
        }
      ]
    },
    {
      "cell_type": "code",
      "source": [
        "#averaging for tSNE\n",
        "for vector in feature_vectors:\n",
        "  print(vector.shape)\n",
        "  avg_mfcc = np.mean(vector,1)\n",
        "  print(avg_mfcc.shape)"
      ],
      "metadata": {
        "colab": {
          "base_uri": "https://localhost:8080/"
        },
        "id": "N1sucnP4Yq0F",
        "outputId": "64537789-2b8a-4259-b77c-e8ba2cc4139a"
      },
      "execution_count": 41,
      "outputs": [
        {
          "output_type": "stream",
          "name": "stdout",
          "text": [
            "(20, 435)\n",
            "(20,)\n",
            "(20, 280)\n",
            "(20,)\n",
            "(20, 392)\n",
            "(20,)\n",
            "(20, 340)\n",
            "(20,)\n",
            "(20, 202)\n",
            "(20,)\n",
            "(20, 183)\n",
            "(20,)\n",
            "(20, 247)\n",
            "(20,)\n",
            "(20, 199)\n",
            "(20,)\n",
            "(20, 190)\n",
            "(20,)\n",
            "(20, 221)\n",
            "(20,)\n",
            "(20, 280)\n",
            "(20,)\n",
            "(20, 435)\n",
            "(20,)\n",
            "(20, 359)\n",
            "(20,)\n",
            "(20, 314)\n",
            "(20,)\n",
            "(20, 321)\n",
            "(20,)\n",
            "(20, 185)\n",
            "(20,)\n",
            "(20, 223)\n",
            "(20,)\n",
            "(20, 354)\n",
            "(20,)\n",
            "(20, 255)\n",
            "(20,)\n",
            "(20, 221)\n",
            "(20,)\n",
            "(20, 158)\n",
            "(20,)\n"
          ]
        }
      ]
    },
    {
      "cell_type": "code",
      "source": [
        "len(avg_mfccs), avg_mfccs[0].shape"
      ],
      "metadata": {
        "colab": {
          "base_uri": "https://localhost:8080/"
        },
        "id": "vb6RpL1ne_nS",
        "outputId": "88e41733-731b-4278-9562-f208ac13f4c6"
      },
      "execution_count": 42,
      "outputs": [
        {
          "output_type": "execute_result",
          "data": {
            "text/plain": [
              "(21, (20,))"
            ]
          },
          "metadata": {},
          "execution_count": 42
        }
      ]
    },
    {
      "cell_type": "code",
      "source": [
        "model = TSNE(n_components=2, \n",
        "             learning_rate=200, #default value \n",
        "             perplexity=5, #must be lower than num samples\n",
        "             verbose=2).fit_transform(avg_mfccs)"
      ],
      "metadata": {
        "colab": {
          "base_uri": "https://localhost:8080/"
        },
        "id": "gNDrZzwMXs4n",
        "outputId": "d073c1c7-bfe5-499c-ee6c-d9202f5d1305"
      },
      "execution_count": 43,
      "outputs": [
        {
          "output_type": "stream",
          "name": "stderr",
          "text": [
            "/usr/local/lib/python3.7/dist-packages/sklearn/manifold/_t_sne.py:783: FutureWarning: The default initialization in TSNE will change from 'random' to 'pca' in 1.2.\n",
            "  FutureWarning,\n"
          ]
        },
        {
          "output_type": "stream",
          "name": "stdout",
          "text": [
            "[t-SNE] Computing 16 nearest neighbors...\n",
            "[t-SNE] Indexed 21 samples in 0.000s...\n",
            "[t-SNE] Computed neighbors for 21 samples in 0.003s...\n",
            "[t-SNE] Computed conditional probabilities for sample 21 / 21\n",
            "[t-SNE] Mean sigma: 0.000000\n",
            "[t-SNE] Computed conditional probabilities in 0.010s\n",
            "[t-SNE] Iteration 50: error = 45.4027634, gradient norm = 0.4395739 (50 iterations in 0.020s)\n",
            "[t-SNE] Iteration 100: error = 50.8502464, gradient norm = 0.3700581 (50 iterations in 0.017s)\n",
            "[t-SNE] Iteration 150: error = 47.4991875, gradient norm = 0.5061514 (50 iterations in 0.015s)\n",
            "[t-SNE] Iteration 200: error = 44.1463051, gradient norm = 0.4709113 (50 iterations in 0.018s)\n",
            "[t-SNE] Iteration 250: error = 44.5103683, gradient norm = 0.4816028 (50 iterations in 0.017s)\n",
            "[t-SNE] KL divergence after 250 iterations with early exaggeration: 44.510368\n",
            "[t-SNE] Iteration 300: error = 0.5664833, gradient norm = 0.0009703 (50 iterations in 0.015s)\n",
            "[t-SNE] Iteration 350: error = 0.5042081, gradient norm = 0.0003030 (50 iterations in 0.019s)\n",
            "[t-SNE] Iteration 400: error = 0.4611816, gradient norm = 0.0003612 (50 iterations in 0.016s)\n",
            "[t-SNE] Iteration 450: error = 0.4503014, gradient norm = 0.0001109 (50 iterations in 0.017s)\n",
            "[t-SNE] Iteration 500: error = 0.4449593, gradient norm = 0.0001064 (50 iterations in 0.019s)\n",
            "[t-SNE] Iteration 550: error = 0.4396121, gradient norm = 0.0000509 (50 iterations in 0.023s)\n",
            "[t-SNE] Iteration 600: error = 0.4365485, gradient norm = 0.0001295 (50 iterations in 0.018s)\n",
            "[t-SNE] Iteration 650: error = 0.4271302, gradient norm = 0.0000894 (50 iterations in 0.017s)\n",
            "[t-SNE] Iteration 700: error = 0.4265661, gradient norm = 0.0000429 (50 iterations in 0.017s)\n",
            "[t-SNE] Iteration 750: error = 0.4256260, gradient norm = 0.0000271 (50 iterations in 0.017s)\n",
            "[t-SNE] Iteration 800: error = 0.4254697, gradient norm = 0.0000198 (50 iterations in 0.016s)\n",
            "[t-SNE] Iteration 850: error = 0.4254291, gradient norm = 0.0000194 (50 iterations in 0.016s)\n",
            "[t-SNE] Iteration 900: error = 0.4253973, gradient norm = 0.0000207 (50 iterations in 0.016s)\n",
            "[t-SNE] Iteration 950: error = 0.4257132, gradient norm = 0.0000217 (50 iterations in 0.020s)\n",
            "[t-SNE] Iteration 1000: error = 0.4256002, gradient norm = 0.0000253 (50 iterations in 0.016s)\n",
            "[t-SNE] KL divergence after 1000 iterations: 0.425600\n"
          ]
        }
      ]
    },
    {
      "cell_type": "code",
      "source": [
        "x_axis=model[:,0]\n",
        "y_axis=model[:,1]\n",
        "fig = px.scatter(x=x_axis, y=y_axis)\n",
        "fig.show()"
      ],
      "metadata": {
        "colab": {
          "base_uri": "https://localhost:8080/",
          "height": 563
        },
        "id": "vHkbO1fGggyQ",
        "outputId": "49a75eb6-226e-4572-c7da-5e8e53a1e0d1"
      },
      "execution_count": 45,
      "outputs": [
        {
          "output_type": "display_data",
          "data": {
            "text/html": [
              "<html>\n",
              "<head><meta charset=\"utf-8\" /></head>\n",
              "<body>\n",
              "    <div>            <script src=\"https://cdnjs.cloudflare.com/ajax/libs/mathjax/2.7.5/MathJax.js?config=TeX-AMS-MML_SVG\"></script><script type=\"text/javascript\">if (window.MathJax) {MathJax.Hub.Config({SVG: {font: \"STIX-Web\"}});}</script>                <script type=\"text/javascript\">window.PlotlyConfig = {MathJaxConfig: 'local'};</script>\n",
              "        <script src=\"https://cdn.plot.ly/plotly-2.8.3.min.js\"></script>                <div id=\"8c54197f-c080-4075-b917-f52027f111a4\" class=\"plotly-graph-div\" style=\"height:525px; width:100%;\"></div>            <script type=\"text/javascript\">                                    window.PLOTLYENV=window.PLOTLYENV || {};                                    if (document.getElementById(\"8c54197f-c080-4075-b917-f52027f111a4\")) {                    Plotly.newPlot(                        \"8c54197f-c080-4075-b917-f52027f111a4\",                        [{\"hovertemplate\":\"x=%{x}<br>y=%{y}<extra></extra>\",\"legendgroup\":\"\",\"marker\":{\"color\":\"#636efa\",\"symbol\":\"circle\"},\"mode\":\"markers\",\"name\":\"\",\"orientation\":\"v\",\"showlegend\":false,\"x\":[2.3211746215820312,70.01958465576172,68.83527374267578,36.50450897216797,-99.99463653564453,31.516138076782227,-88.0036849975586,-45.4587516784668,-21.106124877929688,22.266910552978516,1.7819808721542358,-44.31885528564453,9.454724311828613,38.95897674560547,-27.3267879486084,7.477715015411377,-27.785680770874023,-60.65929412841797,-15.976114273071289,-10.302305221557617,-55.76763916015625],\"xaxis\":\"x\",\"y\":[-50.755455017089844,-26.680320739746094,-70.51099395751953,-9.169605255126953,-52.39920425415039,-41.13438415527344,-11.670948028564453,-79.61996459960938,-27.792858123779297,-74.0645980834961,47.52217483520508,-8.020450592041016,11.395179748535156,25.345985412597656,28.304628372192383,-21.012483596801758,-54.21073913574219,18.269445419311523,0.36441996693611145,-84.0419921875,-40.206016540527344],\"yaxis\":\"y\",\"type\":\"scatter\"}],                        {\"template\":{\"data\":{\"bar\":[{\"error_x\":{\"color\":\"#2a3f5f\"},\"error_y\":{\"color\":\"#2a3f5f\"},\"marker\":{\"line\":{\"color\":\"#E5ECF6\",\"width\":0.5},\"pattern\":{\"fillmode\":\"overlay\",\"size\":10,\"solidity\":0.2}},\"type\":\"bar\"}],\"barpolar\":[{\"marker\":{\"line\":{\"color\":\"#E5ECF6\",\"width\":0.5},\"pattern\":{\"fillmode\":\"overlay\",\"size\":10,\"solidity\":0.2}},\"type\":\"barpolar\"}],\"carpet\":[{\"aaxis\":{\"endlinecolor\":\"#2a3f5f\",\"gridcolor\":\"white\",\"linecolor\":\"white\",\"minorgridcolor\":\"white\",\"startlinecolor\":\"#2a3f5f\"},\"baxis\":{\"endlinecolor\":\"#2a3f5f\",\"gridcolor\":\"white\",\"linecolor\":\"white\",\"minorgridcolor\":\"white\",\"startlinecolor\":\"#2a3f5f\"},\"type\":\"carpet\"}],\"choropleth\":[{\"colorbar\":{\"outlinewidth\":0,\"ticks\":\"\"},\"type\":\"choropleth\"}],\"contour\":[{\"colorbar\":{\"outlinewidth\":0,\"ticks\":\"\"},\"colorscale\":[[0.0,\"#0d0887\"],[0.1111111111111111,\"#46039f\"],[0.2222222222222222,\"#7201a8\"],[0.3333333333333333,\"#9c179e\"],[0.4444444444444444,\"#bd3786\"],[0.5555555555555556,\"#d8576b\"],[0.6666666666666666,\"#ed7953\"],[0.7777777777777778,\"#fb9f3a\"],[0.8888888888888888,\"#fdca26\"],[1.0,\"#f0f921\"]],\"type\":\"contour\"}],\"contourcarpet\":[{\"colorbar\":{\"outlinewidth\":0,\"ticks\":\"\"},\"type\":\"contourcarpet\"}],\"heatmap\":[{\"colorbar\":{\"outlinewidth\":0,\"ticks\":\"\"},\"colorscale\":[[0.0,\"#0d0887\"],[0.1111111111111111,\"#46039f\"],[0.2222222222222222,\"#7201a8\"],[0.3333333333333333,\"#9c179e\"],[0.4444444444444444,\"#bd3786\"],[0.5555555555555556,\"#d8576b\"],[0.6666666666666666,\"#ed7953\"],[0.7777777777777778,\"#fb9f3a\"],[0.8888888888888888,\"#fdca26\"],[1.0,\"#f0f921\"]],\"type\":\"heatmap\"}],\"heatmapgl\":[{\"colorbar\":{\"outlinewidth\":0,\"ticks\":\"\"},\"colorscale\":[[0.0,\"#0d0887\"],[0.1111111111111111,\"#46039f\"],[0.2222222222222222,\"#7201a8\"],[0.3333333333333333,\"#9c179e\"],[0.4444444444444444,\"#bd3786\"],[0.5555555555555556,\"#d8576b\"],[0.6666666666666666,\"#ed7953\"],[0.7777777777777778,\"#fb9f3a\"],[0.8888888888888888,\"#fdca26\"],[1.0,\"#f0f921\"]],\"type\":\"heatmapgl\"}],\"histogram\":[{\"marker\":{\"pattern\":{\"fillmode\":\"overlay\",\"size\":10,\"solidity\":0.2}},\"type\":\"histogram\"}],\"histogram2d\":[{\"colorbar\":{\"outlinewidth\":0,\"ticks\":\"\"},\"colorscale\":[[0.0,\"#0d0887\"],[0.1111111111111111,\"#46039f\"],[0.2222222222222222,\"#7201a8\"],[0.3333333333333333,\"#9c179e\"],[0.4444444444444444,\"#bd3786\"],[0.5555555555555556,\"#d8576b\"],[0.6666666666666666,\"#ed7953\"],[0.7777777777777778,\"#fb9f3a\"],[0.8888888888888888,\"#fdca26\"],[1.0,\"#f0f921\"]],\"type\":\"histogram2d\"}],\"histogram2dcontour\":[{\"colorbar\":{\"outlinewidth\":0,\"ticks\":\"\"},\"colorscale\":[[0.0,\"#0d0887\"],[0.1111111111111111,\"#46039f\"],[0.2222222222222222,\"#7201a8\"],[0.3333333333333333,\"#9c179e\"],[0.4444444444444444,\"#bd3786\"],[0.5555555555555556,\"#d8576b\"],[0.6666666666666666,\"#ed7953\"],[0.7777777777777778,\"#fb9f3a\"],[0.8888888888888888,\"#fdca26\"],[1.0,\"#f0f921\"]],\"type\":\"histogram2dcontour\"}],\"mesh3d\":[{\"colorbar\":{\"outlinewidth\":0,\"ticks\":\"\"},\"type\":\"mesh3d\"}],\"parcoords\":[{\"line\":{\"colorbar\":{\"outlinewidth\":0,\"ticks\":\"\"}},\"type\":\"parcoords\"}],\"pie\":[{\"automargin\":true,\"type\":\"pie\"}],\"scatter\":[{\"marker\":{\"colorbar\":{\"outlinewidth\":0,\"ticks\":\"\"}},\"type\":\"scatter\"}],\"scatter3d\":[{\"line\":{\"colorbar\":{\"outlinewidth\":0,\"ticks\":\"\"}},\"marker\":{\"colorbar\":{\"outlinewidth\":0,\"ticks\":\"\"}},\"type\":\"scatter3d\"}],\"scattercarpet\":[{\"marker\":{\"colorbar\":{\"outlinewidth\":0,\"ticks\":\"\"}},\"type\":\"scattercarpet\"}],\"scattergeo\":[{\"marker\":{\"colorbar\":{\"outlinewidth\":0,\"ticks\":\"\"}},\"type\":\"scattergeo\"}],\"scattergl\":[{\"marker\":{\"colorbar\":{\"outlinewidth\":0,\"ticks\":\"\"}},\"type\":\"scattergl\"}],\"scattermapbox\":[{\"marker\":{\"colorbar\":{\"outlinewidth\":0,\"ticks\":\"\"}},\"type\":\"scattermapbox\"}],\"scatterpolar\":[{\"marker\":{\"colorbar\":{\"outlinewidth\":0,\"ticks\":\"\"}},\"type\":\"scatterpolar\"}],\"scatterpolargl\":[{\"marker\":{\"colorbar\":{\"outlinewidth\":0,\"ticks\":\"\"}},\"type\":\"scatterpolargl\"}],\"scatterternary\":[{\"marker\":{\"colorbar\":{\"outlinewidth\":0,\"ticks\":\"\"}},\"type\":\"scatterternary\"}],\"surface\":[{\"colorbar\":{\"outlinewidth\":0,\"ticks\":\"\"},\"colorscale\":[[0.0,\"#0d0887\"],[0.1111111111111111,\"#46039f\"],[0.2222222222222222,\"#7201a8\"],[0.3333333333333333,\"#9c179e\"],[0.4444444444444444,\"#bd3786\"],[0.5555555555555556,\"#d8576b\"],[0.6666666666666666,\"#ed7953\"],[0.7777777777777778,\"#fb9f3a\"],[0.8888888888888888,\"#fdca26\"],[1.0,\"#f0f921\"]],\"type\":\"surface\"}],\"table\":[{\"cells\":{\"fill\":{\"color\":\"#EBF0F8\"},\"line\":{\"color\":\"white\"}},\"header\":{\"fill\":{\"color\":\"#C8D4E3\"},\"line\":{\"color\":\"white\"}},\"type\":\"table\"}]},\"layout\":{\"annotationdefaults\":{\"arrowcolor\":\"#2a3f5f\",\"arrowhead\":0,\"arrowwidth\":1},\"autotypenumbers\":\"strict\",\"coloraxis\":{\"colorbar\":{\"outlinewidth\":0,\"ticks\":\"\"}},\"colorscale\":{\"diverging\":[[0,\"#8e0152\"],[0.1,\"#c51b7d\"],[0.2,\"#de77ae\"],[0.3,\"#f1b6da\"],[0.4,\"#fde0ef\"],[0.5,\"#f7f7f7\"],[0.6,\"#e6f5d0\"],[0.7,\"#b8e186\"],[0.8,\"#7fbc41\"],[0.9,\"#4d9221\"],[1,\"#276419\"]],\"sequential\":[[0.0,\"#0d0887\"],[0.1111111111111111,\"#46039f\"],[0.2222222222222222,\"#7201a8\"],[0.3333333333333333,\"#9c179e\"],[0.4444444444444444,\"#bd3786\"],[0.5555555555555556,\"#d8576b\"],[0.6666666666666666,\"#ed7953\"],[0.7777777777777778,\"#fb9f3a\"],[0.8888888888888888,\"#fdca26\"],[1.0,\"#f0f921\"]],\"sequentialminus\":[[0.0,\"#0d0887\"],[0.1111111111111111,\"#46039f\"],[0.2222222222222222,\"#7201a8\"],[0.3333333333333333,\"#9c179e\"],[0.4444444444444444,\"#bd3786\"],[0.5555555555555556,\"#d8576b\"],[0.6666666666666666,\"#ed7953\"],[0.7777777777777778,\"#fb9f3a\"],[0.8888888888888888,\"#fdca26\"],[1.0,\"#f0f921\"]]},\"colorway\":[\"#636efa\",\"#EF553B\",\"#00cc96\",\"#ab63fa\",\"#FFA15A\",\"#19d3f3\",\"#FF6692\",\"#B6E880\",\"#FF97FF\",\"#FECB52\"],\"font\":{\"color\":\"#2a3f5f\"},\"geo\":{\"bgcolor\":\"white\",\"lakecolor\":\"white\",\"landcolor\":\"#E5ECF6\",\"showlakes\":true,\"showland\":true,\"subunitcolor\":\"white\"},\"hoverlabel\":{\"align\":\"left\"},\"hovermode\":\"closest\",\"mapbox\":{\"style\":\"light\"},\"paper_bgcolor\":\"white\",\"plot_bgcolor\":\"#E5ECF6\",\"polar\":{\"angularaxis\":{\"gridcolor\":\"white\",\"linecolor\":\"white\",\"ticks\":\"\"},\"bgcolor\":\"#E5ECF6\",\"radialaxis\":{\"gridcolor\":\"white\",\"linecolor\":\"white\",\"ticks\":\"\"}},\"scene\":{\"xaxis\":{\"backgroundcolor\":\"#E5ECF6\",\"gridcolor\":\"white\",\"gridwidth\":2,\"linecolor\":\"white\",\"showbackground\":true,\"ticks\":\"\",\"zerolinecolor\":\"white\"},\"yaxis\":{\"backgroundcolor\":\"#E5ECF6\",\"gridcolor\":\"white\",\"gridwidth\":2,\"linecolor\":\"white\",\"showbackground\":true,\"ticks\":\"\",\"zerolinecolor\":\"white\"},\"zaxis\":{\"backgroundcolor\":\"#E5ECF6\",\"gridcolor\":\"white\",\"gridwidth\":2,\"linecolor\":\"white\",\"showbackground\":true,\"ticks\":\"\",\"zerolinecolor\":\"white\"}},\"shapedefaults\":{\"line\":{\"color\":\"#2a3f5f\"}},\"ternary\":{\"aaxis\":{\"gridcolor\":\"white\",\"linecolor\":\"white\",\"ticks\":\"\"},\"baxis\":{\"gridcolor\":\"white\",\"linecolor\":\"white\",\"ticks\":\"\"},\"bgcolor\":\"#E5ECF6\",\"caxis\":{\"gridcolor\":\"white\",\"linecolor\":\"white\",\"ticks\":\"\"}},\"title\":{\"x\":0.05},\"xaxis\":{\"automargin\":true,\"gridcolor\":\"white\",\"linecolor\":\"white\",\"ticks\":\"\",\"title\":{\"standoff\":15},\"zerolinecolor\":\"white\",\"zerolinewidth\":2},\"yaxis\":{\"automargin\":true,\"gridcolor\":\"white\",\"linecolor\":\"white\",\"ticks\":\"\",\"title\":{\"standoff\":15},\"zerolinecolor\":\"white\",\"zerolinewidth\":2}}},\"xaxis\":{\"anchor\":\"y\",\"domain\":[0.0,1.0],\"title\":{\"text\":\"x\"}},\"yaxis\":{\"anchor\":\"x\",\"domain\":[0.0,1.0],\"title\":{\"text\":\"y\"}},\"legend\":{\"tracegroupgap\":0},\"margin\":{\"t\":60}},                        {\"responsive\": true}                    ).then(function(){\n",
              "                            \n",
              "var gd = document.getElementById('8c54197f-c080-4075-b917-f52027f111a4');\n",
              "var x = new MutationObserver(function (mutations, observer) {{\n",
              "        var display = window.getComputedStyle(gd).display;\n",
              "        if (!display || display === 'none') {{\n",
              "            console.log([gd, 'removed!']);\n",
              "            Plotly.purge(gd);\n",
              "            observer.disconnect();\n",
              "        }}\n",
              "}});\n",
              "\n",
              "// Listen for the removal of the full notebook cells\n",
              "var notebookContainer = gd.closest('#notebook-container');\n",
              "if (notebookContainer) {{\n",
              "    x.observe(notebookContainer, {childList: true});\n",
              "}}\n",
              "\n",
              "// Listen for the clearing of the current output cell\n",
              "var outputEl = gd.closest('.output');\n",
              "if (outputEl) {{\n",
              "    x.observe(outputEl, {childList: true});\n",
              "}}\n",
              "\n",
              "                        })                };                            </script>        </div>\n",
              "</body>\n",
              "</html>"
            ]
          },
          "metadata": {}
        }
      ]
    },
    {
      "cell_type": "markdown",
      "source": [
        "## For multiple IDs\n"
      ],
      "metadata": {
        "id": "wFzqNBcqhSP0"
      }
    },
    {
      "cell_type": "code",
      "source": [
        "metadata_df.columns"
      ],
      "metadata": {
        "colab": {
          "base_uri": "https://localhost:8080/"
        },
        "id": "itgp7FJfi_PJ",
        "outputId": "9a354fb0-56fc-43ba-e226-2e0619bc9aab"
      },
      "execution_count": 49,
      "outputs": [
        {
          "output_type": "execute_result",
          "data": {
            "text/plain": [
              "Index(['Unnamed: 0', 'source', 'target1', 'target2', 'method', 'category',\n",
              "       'type', 'race', 'gender', 'filename', 'directory_path', 'mp4_filepath',\n",
              "       'utterance_file', 'wav_filepath'],\n",
              "      dtype='object')"
            ]
          },
          "metadata": {},
          "execution_count": 49
        }
      ]
    },
    {
      "cell_type": "code",
      "source": [
        "all_uniq_ids = metadata_df.source.unique()\n",
        "#select 20\n",
        "analysis_ids = all_uniq_ids[:20]\n",
        "#list for filepaths\n",
        "wav_filepaths = []\n",
        "sources = []\n",
        "color = []\n",
        "targets = []\n",
        "category = []\n",
        "#get data\n",
        "col = 1\n",
        "for id in analysis_ids:\n",
        "  temp_df = metadata_df[metadata_df.source==id]\n",
        "  wav_filepaths.extend(temp_df.wav_filepath.to_list())\n",
        "  sources.extend(temp_df.source.to_list())\n",
        "  targets.extend(temp_df.target1.to_list())\n",
        "  category.extend(temp_df.category.to_list())\n",
        "  color.extend(len(temp_df.source.to_list())*[col])\n",
        "  col += 1"
      ],
      "metadata": {
        "id": "TwPRWY0hhSwg"
      },
      "execution_count": 67,
      "outputs": []
    },
    {
      "cell_type": "code",
      "source": [
        "len(wav_filepaths), len(sources), len(targets), len(category), len(color)"
      ],
      "metadata": {
        "colab": {
          "base_uri": "https://localhost:8080/"
        },
        "id": "Y8NulBw-k1f2",
        "outputId": "0009cb4d-5b13-4846-8bdc-d360d53c6326"
      },
      "execution_count": 65,
      "outputs": [
        {
          "output_type": "execute_result",
          "data": {
            "text/plain": [
              "(427, 427, 427, 427, 427)"
            ]
          },
          "metadata": {},
          "execution_count": 65
        }
      ]
    },
    {
      "cell_type": "code",
      "source": [
        "feature_vectors = []\n",
        "avg_mfccs = []\n",
        "#iterate through all wav files for id\n",
        "for wav_file in wav_filepaths:\n",
        "  #generate mfcc\n",
        "  mfccs = generate_scaled_mfcc_features(wav_file)\n",
        "  #full mfcc feature vector without padding or truncation\n",
        "  feature_vectors.append(mfccs)\n",
        "  #average mfcc feature vector\n",
        "  avg_mfccs.append(np.mean(mfccs,1))"
      ],
      "metadata": {
        "id": "EZS3-FDAlI9l"
      },
      "execution_count": 72,
      "outputs": []
    },
    {
      "cell_type": "code",
      "source": [
        "model = TSNE(n_components=2, \n",
        "             learning_rate=200, #default value \n",
        "             perplexity=5, #must be lower than num samples\n",
        "             verbose=2).fit_transform(avg_mfccs)"
      ],
      "metadata": {
        "colab": {
          "base_uri": "https://localhost:8080/"
        },
        "id": "bqk2nI7vqBAX",
        "outputId": "25a7cbb5-7aa9-4316-bfb5-fc9740508c1c"
      },
      "execution_count": 73,
      "outputs": [
        {
          "output_type": "stream",
          "name": "stderr",
          "text": [
            "/usr/local/lib/python3.7/dist-packages/sklearn/manifold/_t_sne.py:783: FutureWarning:\n",
            "\n",
            "The default initialization in TSNE will change from 'random' to 'pca' in 1.2.\n",
            "\n"
          ]
        },
        {
          "output_type": "stream",
          "name": "stdout",
          "text": [
            "[t-SNE] Computing 16 nearest neighbors...\n",
            "[t-SNE] Indexed 427 samples in 0.001s...\n",
            "[t-SNE] Computed neighbors for 427 samples in 0.017s...\n",
            "[t-SNE] Computed conditional probabilities for sample 427 / 427\n",
            "[t-SNE] Mean sigma: 0.000000\n",
            "[t-SNE] Computed conditional probabilities in 0.025s\n",
            "[t-SNE] Iteration 50: error = 77.3051910, gradient norm = 0.4947553 (50 iterations in 0.133s)\n",
            "[t-SNE] Iteration 100: error = 79.7716980, gradient norm = 0.4509508 (50 iterations in 0.051s)\n",
            "[t-SNE] Iteration 150: error = 80.2058029, gradient norm = 0.4194918 (50 iterations in 0.050s)\n",
            "[t-SNE] Iteration 200: error = 81.1755905, gradient norm = 0.4384472 (50 iterations in 0.052s)\n",
            "[t-SNE] Iteration 250: error = 79.1245804, gradient norm = 0.4274250 (50 iterations in 0.049s)\n",
            "[t-SNE] KL divergence after 250 iterations with early exaggeration: 79.124580\n",
            "[t-SNE] Iteration 300: error = 1.5308634, gradient norm = 0.0023963 (50 iterations in 0.042s)\n",
            "[t-SNE] Iteration 350: error = 1.3689334, gradient norm = 0.0016609 (50 iterations in 0.045s)\n",
            "[t-SNE] Iteration 400: error = 1.2695478, gradient norm = 0.0006131 (50 iterations in 0.041s)\n",
            "[t-SNE] Iteration 450: error = 1.2670333, gradient norm = 0.0001555 (50 iterations in 0.045s)\n",
            "[t-SNE] Iteration 500: error = 1.2672927, gradient norm = 0.0001237 (50 iterations in 0.043s)\n",
            "[t-SNE] Iteration 550: error = 1.2662798, gradient norm = 0.0001111 (50 iterations in 0.044s)\n",
            "[t-SNE] Iteration 600: error = 1.2618163, gradient norm = 0.0001691 (50 iterations in 0.051s)\n",
            "[t-SNE] Iteration 650: error = 1.2590609, gradient norm = 0.0000557 (50 iterations in 0.049s)\n",
            "[t-SNE] Iteration 700: error = 1.2575806, gradient norm = 0.0000997 (50 iterations in 0.044s)\n",
            "[t-SNE] Iteration 750: error = 1.2558714, gradient norm = 0.0000999 (50 iterations in 0.045s)\n",
            "[t-SNE] Iteration 800: error = 1.2511172, gradient norm = 0.0001204 (50 iterations in 0.052s)\n",
            "[t-SNE] Iteration 850: error = 1.2498790, gradient norm = 0.0001122 (50 iterations in 0.048s)\n",
            "[t-SNE] Iteration 900: error = 1.2480279, gradient norm = 0.0001198 (50 iterations in 0.045s)\n",
            "[t-SNE] Iteration 950: error = 1.2469481, gradient norm = 0.0000972 (50 iterations in 0.078s)\n",
            "[t-SNE] Iteration 1000: error = 1.2457677, gradient norm = 0.0001061 (50 iterations in 0.045s)\n",
            "[t-SNE] KL divergence after 1000 iterations: 1.245768\n"
          ]
        }
      ]
    },
    {
      "cell_type": "code",
      "source": [
        "x_axis=model[:,0]\n",
        "y_axis=model[:,1]\n",
        "fig = px.scatter(x=x_axis, \n",
        "                 y=y_axis,\n",
        "                 symbol=category,\n",
        "                 color=sources)\n",
        "fig.show()"
      ],
      "metadata": {
        "colab": {
          "base_uri": "https://localhost:8080/",
          "height": 563
        },
        "id": "zzfBx8iCqHan",
        "outputId": "26b20219-e3e3-4bf5-b24a-a57c831a68be"
      },
      "execution_count": 80,
      "outputs": [
        {
          "output_type": "display_data",
          "data": {
            "text/html": [
              "<html>\n",
              "<head><meta charset=\"utf-8\" /></head>\n",
              "<body>\n",
              "    <div>            <script src=\"https://cdnjs.cloudflare.com/ajax/libs/mathjax/2.7.5/MathJax.js?config=TeX-AMS-MML_SVG\"></script><script type=\"text/javascript\">if (window.MathJax) {MathJax.Hub.Config({SVG: {font: \"STIX-Web\"}});}</script>                <script type=\"text/javascript\">window.PlotlyConfig = {MathJaxConfig: 'local'};</script>\n",
              "        <script src=\"https://cdn.plot.ly/plotly-2.8.3.min.js\"></script>                <div id=\"381a8799-fe63-48d0-82ba-eea34adb5a12\" class=\"plotly-graph-div\" style=\"height:525px; width:100%;\"></div>            <script type=\"text/javascript\">                                    window.PLOTLYENV=window.PLOTLYENV || {};                                    if (document.getElementById(\"381a8799-fe63-48d0-82ba-eea34adb5a12\")) {                    Plotly.newPlot(                        \"381a8799-fe63-48d0-82ba-eea34adb5a12\",                        [{\"hovertemplate\":\"color=id00076<br>symbol=A<br>x=%{x}<br>y=%{y}<extra></extra>\",\"legendgroup\":\"id00076, A\",\"marker\":{\"color\":\"#636efa\",\"symbol\":\"circle\"},\"mode\":\"markers\",\"name\":\"id00076, A\",\"orientation\":\"v\",\"showlegend\":true,\"x\":[-51.757450103759766],\"xaxis\":\"x\",\"y\":[54.614864349365234],\"yaxis\":\"y\",\"type\":\"scatter\"},{\"hovertemplate\":\"color=id00076<br>symbol=C<br>x=%{x}<br>y=%{y}<extra></extra>\",\"legendgroup\":\"id00076, C\",\"marker\":{\"color\":\"#636efa\",\"symbol\":\"diamond\"},\"mode\":\"markers\",\"name\":\"id00076, C\",\"orientation\":\"v\",\"showlegend\":true,\"x\":[-25.39531135559082,-50.54780578613281,6.930293560028076,-66.75232696533203,-31.169116973876953,24.756011962890625,-34.61001968383789,99.84394836425781,-10.644208908081055,10.289619445800781],\"xaxis\":\"x\",\"y\":[106.97400665283203,98.81307983398438,-6.37313985824585,84.88249206542969,6.92826509475708,61.34003829956055,-20.974407196044922,15.95767879486084,-40.105796813964844,-46.881004333496094],\"yaxis\":\"y\",\"type\":\"scatter\"},{\"hovertemplate\":\"color=id00076<br>symbol=D<br>x=%{x}<br>y=%{y}<extra></extra>\",\"legendgroup\":\"id00076, D\",\"marker\":{\"color\":\"#636efa\",\"symbol\":\"square\"},\"mode\":\"markers\",\"name\":\"id00076, D\",\"orientation\":\"v\",\"showlegend\":true,\"x\":[-48.35315704345703,-15.278024673461914,-14.99741268157959,-21.99577522277832,-10.617162704467773,55.23495101928711,-41.54139709472656,52.096900939941406,30.595291137695312,73.98472595214844],\"xaxis\":\"x\",\"y\":[-77.72262573242188,-11.528229713439941,-55.868408203125,-79.97663879394531,43.28093338012695,42.17353057861328,3.422678232192993,-70.67176055908203,-67.49723052978516,76.43863677978516],\"yaxis\":\"y\",\"type\":\"scatter\"},{\"hovertemplate\":\"color=id00166<br>symbol=A<br>x=%{x}<br>y=%{y}<extra></extra>\",\"legendgroup\":\"id00166, A\",\"marker\":{\"color\":\"#EF553B\",\"symbol\":\"circle\"},\"mode\":\"markers\",\"name\":\"id00166, A\",\"orientation\":\"v\",\"showlegend\":true,\"x\":[-38.66824722290039],\"xaxis\":\"x\",\"y\":[-107.86096954345703],\"yaxis\":\"y\",\"type\":\"scatter\"},{\"hovertemplate\":\"color=id00166<br>symbol=C<br>x=%{x}<br>y=%{y}<extra></extra>\",\"legendgroup\":\"id00166, C\",\"marker\":{\"color\":\"#EF553B\",\"symbol\":\"diamond\"},\"mode\":\"markers\",\"name\":\"id00166, C\",\"orientation\":\"v\",\"showlegend\":true,\"x\":[-39.21255111694336,-56.37952423095703,80.90465545654297,-4.585264682769775,-31.900026321411133,4.315876007080078,92.75865936279297,21.145002365112305,18.055614471435547,-8.45491886138916],\"xaxis\":\"x\",\"y\":[89.41653442382812,-6.695858001708984,14.940228462219238,-81.92507934570312,-61.21174240112305,-17.239093780517578,16.90054702758789,76.72502136230469,-33.31760787963867,60.10063934326172],\"yaxis\":\"y\",\"type\":\"scatter\"},{\"hovertemplate\":\"color=id00166<br>symbol=D<br>x=%{x}<br>y=%{y}<extra></extra>\",\"legendgroup\":\"id00166, D\",\"marker\":{\"color\":\"#EF553B\",\"symbol\":\"square\"},\"mode\":\"markers\",\"name\":\"id00166, D\",\"orientation\":\"v\",\"showlegend\":true,\"x\":[18.345232009887695,40.58670425415039,22.64151382446289,-25.404048919677734,25.8450927734375,-20.258922576904297,23.990501403808594,21.244396209716797,-1.9365527629852295,47.69116973876953],\"xaxis\":\"x\",\"y\":[-72.09986114501953,-67.40702819824219,5.097623825073242,-72.88623046875,-0.7139174342155457,3.821035146713257,33.5819206237793,19.395112991333008,-100.27706146240234,46.73263931274414],\"yaxis\":\"y\",\"type\":\"scatter\"},{\"hovertemplate\":\"color=id00173<br>symbol=A<br>x=%{x}<br>y=%{y}<extra></extra>\",\"legendgroup\":\"id00173, A\",\"marker\":{\"color\":\"#00cc96\",\"symbol\":\"circle\"},\"mode\":\"markers\",\"name\":\"id00173, A\",\"orientation\":\"v\",\"showlegend\":true,\"x\":[-13.859193801879883],\"xaxis\":\"x\",\"y\":[-29.119247436523438],\"yaxis\":\"y\",\"type\":\"scatter\"},{\"hovertemplate\":\"color=id00173<br>symbol=C<br>x=%{x}<br>y=%{y}<extra></extra>\",\"legendgroup\":\"id00173, C\",\"marker\":{\"color\":\"#00cc96\",\"symbol\":\"diamond\"},\"mode\":\"markers\",\"name\":\"id00173, C\",\"orientation\":\"v\",\"showlegend\":true,\"x\":[51.224666595458984,-5.970598220825195,0.20969659090042114,-39.35090637207031,-45.894954681396484,-64.78153228759766,-25.878007888793945,-34.57856750488281,18.521448135375977,-2.508674383163452],\"xaxis\":\"x\",\"y\":[68.97869873046875,77.69921112060547,-111.37236785888672,93.4976806640625,-89.00849151611328,-44.55677032470703,-122.68658447265625,52.21803283691406,-16.67278480529785,93.89722442626953],\"yaxis\":\"y\",\"type\":\"scatter\"},{\"hovertemplate\":\"color=id00173<br>symbol=D<br>x=%{x}<br>y=%{y}<extra></extra>\",\"legendgroup\":\"id00173, D\",\"marker\":{\"color\":\"#00cc96\",\"symbol\":\"square\"},\"mode\":\"markers\",\"name\":\"id00173, D\",\"orientation\":\"v\",\"showlegend\":true,\"x\":[-8.85108757019043,-42.76921844482422,12.560840606689453,-21.1892032623291,4.917891979217529,-69.72367858886719,-6.288881778717041,64.2345962524414,51.182525634765625,31.66786003112793],\"xaxis\":\"x\",\"y\":[62.72850799560547,-38.16891098022461,-35.66981506347656,13.766886711120605,20.519304275512695,15.548990249633789,-56.26454162597656,54.09467315673828,79.8115005493164,-50.033058166503906],\"yaxis\":\"y\",\"type\":\"scatter\"},{\"hovertemplate\":\"color=id00366<br>symbol=A<br>x=%{x}<br>y=%{y}<extra></extra>\",\"legendgroup\":\"id00366, A\",\"marker\":{\"color\":\"#ab63fa\",\"symbol\":\"circle\"},\"mode\":\"markers\",\"name\":\"id00366, A\",\"orientation\":\"v\",\"showlegend\":true,\"x\":[-62.27980422973633],\"xaxis\":\"x\",\"y\":[29.010875701904297],\"yaxis\":\"y\",\"type\":\"scatter\"},{\"hovertemplate\":\"color=id00366<br>symbol=C<br>x=%{x}<br>y=%{y}<extra></extra>\",\"legendgroup\":\"id00366, C\",\"marker\":{\"color\":\"#ab63fa\",\"symbol\":\"diamond\"},\"mode\":\"markers\",\"name\":\"id00366, C\",\"orientation\":\"v\",\"showlegend\":true,\"x\":[-69.02812194824219,-22.525493621826172,-42.03238296508789,9.269018173217773,-83.37213134765625,-62.49018478393555,-46.39494705200195,-42.24982833862305,9.671472549438477,91.7759017944336,66.51873016357422,-62.42177963256836,-65.81156158447266,-36.49811935424805,57.236324310302734,-36.007816314697266,90.19715881347656,18.99201202392578,-43.715110778808594,2.689296007156372],\"xaxis\":\"x\",\"y\":[-34.19953918457031,126.11589813232422,80.98600769042969,-126.07559204101562,54.31779098510742,43.2252311706543,94.84239196777344,-91.92337036132812,21.387422561645508,-7.979788780212402,-18.204376220703125,-77.71720123291016,-67.79052734375,39.664093017578125,36.741065979003906,73.46382141113281,34.49496078491211,86.7173843383789,58.88291549682617,-5.22983455657959],\"yaxis\":\"y\",\"type\":\"scatter\"},{\"hovertemplate\":\"color=id00366<br>symbol=D<br>x=%{x}<br>y=%{y}<extra></extra>\",\"legendgroup\":\"id00366, D\",\"marker\":{\"color\":\"#ab63fa\",\"symbol\":\"square\"},\"mode\":\"markers\",\"name\":\"id00366, D\",\"orientation\":\"v\",\"showlegend\":true,\"x\":[13.88131332397461,8.957189559936523,42.22661209106445,85.24455261230469,4.126026153564453,0.8962931632995605,16.98221206665039,-25.192575454711914,9.689618110656738,4.192930221557617],\"xaxis\":\"x\",\"y\":[-24.227619171142578,-2.5414347648620605,2.004950761795044,-45.51138687133789,-73.54253387451172,-45.22064971923828,29.949249267578125,55.62557601928711,-78.00350189208984,103.52730560302734],\"yaxis\":\"y\",\"type\":\"scatter\"},{\"hovertemplate\":\"color=id00391<br>symbol=A<br>x=%{x}<br>y=%{y}<extra></extra>\",\"legendgroup\":\"id00391, A\",\"marker\":{\"color\":\"#FFA15A\",\"symbol\":\"circle\"},\"mode\":\"markers\",\"name\":\"id00391, A\",\"orientation\":\"v\",\"showlegend\":true,\"x\":[73.03734588623047],\"xaxis\":\"x\",\"y\":[-73.55150604248047],\"yaxis\":\"y\",\"type\":\"scatter\"},{\"hovertemplate\":\"color=id00391<br>symbol=C<br>x=%{x}<br>y=%{y}<extra></extra>\",\"legendgroup\":\"id00391, C\",\"marker\":{\"color\":\"#FFA15A\",\"symbol\":\"diamond\"},\"mode\":\"markers\",\"name\":\"id00391, C\",\"orientation\":\"v\",\"showlegend\":true,\"x\":[57.23930358886719,-31.67595863342285,-53.94261932373047,2.419188976287842,-41.508060455322266,-3.759615659713745,13.013656616210938,52.61579132080078,4.328429222106934,-20.79991912841797],\"xaxis\":\"x\",\"y\":[7.35048246383667,112.68031311035156,-2.8215441703796387,71.87380981445312,-49.07086181640625,-29.335357666015625,60.32510757446289,-57.446624755859375,96.64041137695312,72.77708435058594],\"yaxis\":\"y\",\"type\":\"scatter\"},{\"hovertemplate\":\"color=id00391<br>symbol=D<br>x=%{x}<br>y=%{y}<extra></extra>\",\"legendgroup\":\"id00391, D\",\"marker\":{\"color\":\"#FFA15A\",\"symbol\":\"square\"},\"mode\":\"markers\",\"name\":\"id00391, D\",\"orientation\":\"v\",\"showlegend\":true,\"x\":[-38.93951416015625,21.31183433532715,97.98912811279297,-30.803905487060547,31.963394165039062,63.38513946533203,4.693483829498291,-49.48514175415039,6.437894821166992,-44.939754486083984],\"xaxis\":\"x\",\"y\":[3.4658560752868652,55.056060791015625,-26.04081153869629,-114.39149475097656,-73.30463409423828,-23.946592330932617,-99.18021392822266,44.24259948730469,-70.39350128173828,11.73861026763916],\"yaxis\":\"y\",\"type\":\"scatter\"},{\"hovertemplate\":\"color=id00475<br>symbol=A<br>x=%{x}<br>y=%{y}<extra></extra>\",\"legendgroup\":\"id00475, A\",\"marker\":{\"color\":\"#19d3f3\",\"symbol\":\"circle\"},\"mode\":\"markers\",\"name\":\"id00475, A\",\"orientation\":\"v\",\"showlegend\":true,\"x\":[-97.86271667480469],\"xaxis\":\"x\",\"y\":[-42.63505172729492],\"yaxis\":\"y\",\"type\":\"scatter\"},{\"hovertemplate\":\"color=id00475<br>symbol=C<br>x=%{x}<br>y=%{y}<extra></extra>\",\"legendgroup\":\"id00475, C\",\"marker\":{\"color\":\"#19d3f3\",\"symbol\":\"diamond\"},\"mode\":\"markers\",\"name\":\"id00475, C\",\"orientation\":\"v\",\"showlegend\":true,\"x\":[37.016151428222656,-6.331473350524902,-54.13007354736328,-50.652462005615234,72.71260833740234,-59.2242317199707,-68.04820251464844,-17.278921127319336,33.26559829711914,23.38524055480957],\"xaxis\":\"x\",\"y\":[19.047330856323242,8.571680068969727,4.562319755554199,-37.578983306884766,-31.699630737304688,-24.819679260253906,-82.03413391113281,-36.150672912597656,68.52699279785156,72.59620666503906],\"yaxis\":\"y\",\"type\":\"scatter\"},{\"hovertemplate\":\"color=id00475<br>symbol=D<br>x=%{x}<br>y=%{y}<extra></extra>\",\"legendgroup\":\"id00475, D\",\"marker\":{\"color\":\"#19d3f3\",\"symbol\":\"square\"},\"mode\":\"markers\",\"name\":\"id00475, D\",\"orientation\":\"v\",\"showlegend\":true,\"x\":[22.410837173461914,-53.45951843261719,38.53290557861328,-8.175294876098633,-28.143709182739258,54.428306579589844,50.315738677978516,-0.9216793775558472,60.479732513427734,-3.8143842220306396],\"xaxis\":\"x\",\"y\":[-13.780519485473633,-60.944244384765625,-17.47064971923828,-14.379517555236816,13.17099666595459,-55.45913314819336,22.057392120361328,-75.719482421875,35.56161880493164,40.702919006347656],\"yaxis\":\"y\",\"type\":\"scatter\"},{\"hovertemplate\":\"color=id00476<br>symbol=A<br>x=%{x}<br>y=%{y}<extra></extra>\",\"legendgroup\":\"id00476, A\",\"marker\":{\"color\":\"#FF6692\",\"symbol\":\"circle\"},\"mode\":\"markers\",\"name\":\"id00476, A\",\"orientation\":\"v\",\"showlegend\":true,\"x\":[43.59535217285156],\"xaxis\":\"x\",\"y\":[30.287784576416016],\"yaxis\":\"y\",\"type\":\"scatter\"},{\"hovertemplate\":\"color=id00476<br>symbol=C<br>x=%{x}<br>y=%{y}<extra></extra>\",\"legendgroup\":\"id00476, C\",\"marker\":{\"color\":\"#FF6692\",\"symbol\":\"diamond\"},\"mode\":\"markers\",\"name\":\"id00476, C\",\"orientation\":\"v\",\"showlegend\":true,\"x\":[-54.79788589477539,-32.1266975402832,30.59424591064453,72.71260833740234,-63.050357818603516,-1.7506706714630127,-48.89442825317383,57.23074722290039,-3.5955023765563965,-66.46270751953125],\"xaxis\":\"x\",\"y\":[60.23252487182617,-138.9253387451172,33.66448211669922,-31.699630737304688,8.35261058807373,67.06236267089844,-65.58131408691406,60.714599609375,-25.69420623779297,-47.39066696166992],\"yaxis\":\"y\",\"type\":\"scatter\"},{\"hovertemplate\":\"color=id00476<br>symbol=D<br>x=%{x}<br>y=%{y}<extra></extra>\",\"legendgroup\":\"id00476, D\",\"marker\":{\"color\":\"#FF6692\",\"symbol\":\"square\"},\"mode\":\"markers\",\"name\":\"id00476, D\",\"orientation\":\"v\",\"showlegend\":true,\"x\":[1.4334893226623535,36.171302795410156,13.523041725158691,40.41795349121094,33.227386474609375,-8.908625602722168,13.395285606384277,53.170997619628906,18.956531524658203,-35.71114730834961],\"xaxis\":\"x\",\"y\":[-1.0793834924697876,41.87108612060547,-27.597578048706055,-38.58715057373047,54.75876998901367,-70.43856048583984,52.89444351196289,91.81492614746094,-55.34502029418945,18.8974609375],\"yaxis\":\"y\",\"type\":\"scatter\"},{\"hovertemplate\":\"color=id00478<br>symbol=A<br>x=%{x}<br>y=%{y}<extra></extra>\",\"legendgroup\":\"id00478, A\",\"marker\":{\"color\":\"#B6E880\",\"symbol\":\"circle\"},\"mode\":\"markers\",\"name\":\"id00478, A\",\"orientation\":\"v\",\"showlegend\":true,\"x\":[1.12045419216156],\"xaxis\":\"x\",\"y\":[12.831677436828613],\"yaxis\":\"y\",\"type\":\"scatter\"},{\"hovertemplate\":\"color=id00478<br>symbol=C<br>x=%{x}<br>y=%{y}<extra></extra>\",\"legendgroup\":\"id00478, C\",\"marker\":{\"color\":\"#B6E880\",\"symbol\":\"diamond\"},\"mode\":\"markers\",\"name\":\"id00478, C\",\"orientation\":\"v\",\"showlegend\":true,\"x\":[-56.59731674194336,-39.43330001831055,-31.169116973876953,1.6669012308120728,40.945037841796875,109.16674041748047,-3.1466479301452637,-15.05084228515625,-51.62187576293945,2.689296007156372],\"xaxis\":\"x\",\"y\":[103.34149932861328,30.28076934814453,6.92826509475708,49.94762420654297,69.23693084716797,14.072726249694824,64.61693572998047,62.042633056640625,-62.277706146240234,-5.22983455657959],\"yaxis\":\"y\",\"type\":\"scatter\"},{\"hovertemplate\":\"color=id00478<br>symbol=D<br>x=%{x}<br>y=%{y}<extra></extra>\",\"legendgroup\":\"id00478, D\",\"marker\":{\"color\":\"#B6E880\",\"symbol\":\"square\"},\"mode\":\"markers\",\"name\":\"id00478, D\",\"orientation\":\"v\",\"showlegend\":true,\"x\":[-33.6002197265625,40.355369567871094,23.595325469970703,-10.134300231933594,-3.586873769760132,0.0555790439248085,30.430477142333984,42.0453987121582,-7.4133477210998535,-68.4739761352539],\"xaxis\":\"x\",\"y\":[-17.896808624267578,-63.820068359375,-42.58635330200195,-36.834354400634766,19.13263511657715,-91.65950775146484,-14.78812313079834,-10.225950241088867,73.28661346435547,23.95393943786621],\"yaxis\":\"y\",\"type\":\"scatter\"},{\"hovertemplate\":\"color=id00518<br>symbol=A<br>x=%{x}<br>y=%{y}<extra></extra>\",\"legendgroup\":\"id00518, A\",\"marker\":{\"color\":\"#FF97FF\",\"symbol\":\"circle\"},\"mode\":\"markers\",\"name\":\"id00518, A\",\"orientation\":\"v\",\"showlegend\":true,\"x\":[58.767578125],\"xaxis\":\"x\",\"y\":[-8.259001731872559],\"yaxis\":\"y\",\"type\":\"scatter\"},{\"hovertemplate\":\"color=id00518<br>symbol=C<br>x=%{x}<br>y=%{y}<extra></extra>\",\"legendgroup\":\"id00518, C\",\"marker\":{\"color\":\"#FF97FF\",\"symbol\":\"diamond\"},\"mode\":\"markers\",\"name\":\"id00518, C\",\"orientation\":\"v\",\"showlegend\":true,\"x\":[-30.642940521240234,-17.86652374267578,-22.408823013305664,39.614227294921875,-14.484468460083008,-2.8198115825653076,-49.162235260009766,-24.814838409423828,-13.559038162231445,113.3051528930664],\"xaxis\":\"x\",\"y\":[117.6870346069336,-59.565303802490234,95.66636657714844,-14.18940544128418,53.88273239135742,-128.00315856933594,-111.80625915527344,-38.500221252441406,-108.31356048583984,30.825763702392578],\"yaxis\":\"y\",\"type\":\"scatter\"},{\"hovertemplate\":\"color=id00518<br>symbol=D<br>x=%{x}<br>y=%{y}<extra></extra>\",\"legendgroup\":\"id00518, D\",\"marker\":{\"color\":\"#FF97FF\",\"symbol\":\"square\"},\"mode\":\"markers\",\"name\":\"id00518, D\",\"orientation\":\"v\",\"showlegend\":true,\"x\":[-2.780088186264038,-24.147689819335938,21.617183685302734,21.718765258789062,69.62964630126953,95.7763671875,-32.366729736328125,69.98019409179688,-19.63719940185547],\"xaxis\":\"x\",\"y\":[109.45246124267578,-23.403425216674805,96.43856811523438,42.2995719909668,-86.82719421386719,-11.839363098144531,-83.76531982421875,30.816312789916992,87.662109375],\"yaxis\":\"y\",\"type\":\"scatter\"},{\"hovertemplate\":\"color=id00701<br>symbol=A<br>x=%{x}<br>y=%{y}<extra></extra>\",\"legendgroup\":\"id00701, A\",\"marker\":{\"color\":\"#FECB52\",\"symbol\":\"circle\"},\"mode\":\"markers\",\"name\":\"id00701, A\",\"orientation\":\"v\",\"showlegend\":true,\"x\":[14.05947208404541],\"xaxis\":\"x\",\"y\":[-38.60438537597656],\"yaxis\":\"y\",\"type\":\"scatter\"},{\"hovertemplate\":\"color=id00701<br>symbol=C<br>x=%{x}<br>y=%{y}<extra></extra>\",\"legendgroup\":\"id00701, C\",\"marker\":{\"color\":\"#FECB52\",\"symbol\":\"diamond\"},\"mode\":\"markers\",\"name\":\"id00701, C\",\"orientation\":\"v\",\"showlegend\":true,\"x\":[-9.295292854309082,-21.55508041381836,-57.00554656982422,82.55233764648438,72.71260833740234,24.84992790222168,-37.420692443847656,23.536779403686523,-50.05643844604492,101.218017578125],\"xaxis\":\"x\",\"y\":[18.160072326660156,-55.22407531738281,-26.341703414916992,-5.586519241333008,-31.699630737304688,57.373260498046875,-24.620655059814453,-45.26066970825195,80.69379425048828,53.185726165771484],\"yaxis\":\"y\",\"type\":\"scatter\"},{\"hovertemplate\":\"color=id00701<br>symbol=D<br>x=%{x}<br>y=%{y}<extra></extra>\",\"legendgroup\":\"id00701, D\",\"marker\":{\"color\":\"#FECB52\",\"symbol\":\"square\"},\"mode\":\"markers\",\"name\":\"id00701, D\",\"orientation\":\"v\",\"showlegend\":true,\"x\":[1.4334893226623535,8.504170417785645,29.62115478515625,38.47309494018555,14.61914348602295,-18.92317008972168,-16.847713470458984,-90.23540496826172,37.35848617553711,60.34327697753906],\"xaxis\":\"x\",\"y\":[-1.0793834924697876,-94.13883972167969,41.88477325439453,1.0179429054260254,-71.59781646728516,-106.68660736083984,18.967737197875977,25.39202308654785,-87.67337036132812,59.211334228515625],\"yaxis\":\"y\",\"type\":\"scatter\"},{\"hovertemplate\":\"color=id00761<br>symbol=A<br>x=%{x}<br>y=%{y}<extra></extra>\",\"legendgroup\":\"id00761, A\",\"marker\":{\"color\":\"#636efa\",\"symbol\":\"circle\"},\"mode\":\"markers\",\"name\":\"id00761, A\",\"orientation\":\"v\",\"showlegend\":true,\"x\":[23.676969528198242],\"xaxis\":\"x\",\"y\":[96.67837524414062],\"yaxis\":\"y\",\"type\":\"scatter\"},{\"hovertemplate\":\"color=id00761<br>symbol=C<br>x=%{x}<br>y=%{y}<extra></extra>\",\"legendgroup\":\"id00761, C\",\"marker\":{\"color\":\"#636efa\",\"symbol\":\"diamond\"},\"mode\":\"markers\",\"name\":\"id00761, C\",\"orientation\":\"v\",\"showlegend\":true,\"x\":[-45.86313247680664,-48.54570770263672,-41.561649322509766,-6.356411457061768,-42.74674987792969,71.7354736328125,85.70407104492188,-73.80921936035156,-17.629674911499023,-22.16751480102539],\"xaxis\":\"x\",\"y\":[117.75572204589844,9.914478302001953,-10.998552322387695,35.45107650756836,-59.190879821777344,6.4920148849487305,-37.573028564453125,-55.19541931152344,73.13506317138672,54.267181396484375],\"yaxis\":\"y\",\"type\":\"scatter\"},{\"hovertemplate\":\"color=id00761<br>symbol=D<br>x=%{x}<br>y=%{y}<extra></extra>\",\"legendgroup\":\"id00761, D\",\"marker\":{\"color\":\"#636efa\",\"symbol\":\"square\"},\"mode\":\"markers\",\"name\":\"id00761, D\",\"orientation\":\"v\",\"showlegend\":true,\"x\":[35.034461975097656,9.102110862731934,37.690067291259766,-1.7089314460754395,65.67782592773438,10.415539741516113,25.0446720123291,-33.02283477783203,80.88023376464844,-22.440570831298828],\"xaxis\":\"x\",\"y\":[22.781978607177734,-48.84187316894531,-34.82653045654297,-50.65252685546875,-53.73896789550781,-52.41936111450195,-40.4614372253418,44.699546813964844,1.752521276473999,-92.81005859375],\"yaxis\":\"y\",\"type\":\"scatter\"},{\"hovertemplate\":\"color=id00781<br>symbol=A<br>x=%{x}<br>y=%{y}<extra></extra>\",\"legendgroup\":\"id00781, A\",\"marker\":{\"color\":\"#EF553B\",\"symbol\":\"circle\"},\"mode\":\"markers\",\"name\":\"id00781, A\",\"orientation\":\"v\",\"showlegend\":true,\"x\":[20.001535415649414],\"xaxis\":\"x\",\"y\":[-98.46517944335938],\"yaxis\":\"y\",\"type\":\"scatter\"},{\"hovertemplate\":\"color=id00781<br>symbol=C<br>x=%{x}<br>y=%{y}<extra></extra>\",\"legendgroup\":\"id00781, C\",\"marker\":{\"color\":\"#EF553B\",\"symbol\":\"diamond\"},\"mode\":\"markers\",\"name\":\"id00781, C\",\"orientation\":\"v\",\"showlegend\":true,\"x\":[2.312757968902588,-16.18565559387207,51.490726470947266,-22.78853988647461,49.89988327026367,1.8994801044464111,-78.79692840576172,90.19715881347656,-19.422405242919922,-21.1699275970459],\"xaxis\":\"x\",\"y\":[-30.07455825805664,18.49237632751465,44.864803314208984,-1.983770728111267,-4.0540289878845215,-124.39281463623047,5.094747543334961,34.49496078491211,76.71559143066406,-16.46431541442871],\"yaxis\":\"y\",\"type\":\"scatter\"},{\"hovertemplate\":\"color=id00781<br>symbol=D<br>x=%{x}<br>y=%{y}<extra></extra>\",\"legendgroup\":\"id00781, D\",\"marker\":{\"color\":\"#EF553B\",\"symbol\":\"square\"},\"mode\":\"markers\",\"name\":\"id00781, D\",\"orientation\":\"v\",\"showlegend\":true,\"x\":[24.586315155029297,27.572099685668945,-36.50780487060547,-29.340591430664062,24.635202407836914,2.4538278579711914,-10.925756454467773,21.261024475097656,-2.2649664878845215],\"xaxis\":\"x\",\"y\":[66.34664154052734,14.363297462463379,-40.65635681152344,-13.813762664794922,-13.419149398803711,113.22784423828125,48.270782470703125,-112.48113250732422,-19.101768493652344],\"yaxis\":\"y\",\"type\":\"scatter\"},{\"hovertemplate\":\"color=id00830<br>symbol=A<br>x=%{x}<br>y=%{y}<extra></extra>\",\"legendgroup\":\"id00830, A\",\"marker\":{\"color\":\"#00cc96\",\"symbol\":\"circle\"},\"mode\":\"markers\",\"name\":\"id00830, A\",\"orientation\":\"v\",\"showlegend\":true,\"x\":[-10.739288330078125],\"xaxis\":\"x\",\"y\":[-75.99424743652344],\"yaxis\":\"y\",\"type\":\"scatter\"},{\"hovertemplate\":\"color=id00830<br>symbol=C<br>x=%{x}<br>y=%{y}<extra></extra>\",\"legendgroup\":\"id00830, C\",\"marker\":{\"color\":\"#00cc96\",\"symbol\":\"diamond\"},\"mode\":\"markers\",\"name\":\"id00830, C\",\"orientation\":\"v\",\"showlegend\":true,\"x\":[-58.70257568359375,-10.084362030029297,61.63154602050781,66.51873016357422,-0.7458716034889221,-50.52629089355469,-50.491886138916016,115.82495880126953,-28.252647399902344,-31.390615463256836],\"xaxis\":\"x\",\"y\":[74.07372283935547,-54.52542495727539,-16.96506118774414,-18.204376220703125,116.3463134765625,24.013160705566406,-43.76152038574219,38.385711669921875,-101.09588623046875,53.9800910949707],\"yaxis\":\"y\",\"type\":\"scatter\"},{\"hovertemplate\":\"color=id00830<br>symbol=D<br>x=%{x}<br>y=%{y}<extra></extra>\",\"legendgroup\":\"id00830, D\",\"marker\":{\"color\":\"#00cc96\",\"symbol\":\"square\"},\"mode\":\"markers\",\"name\":\"id00830, D\",\"orientation\":\"v\",\"showlegend\":true,\"x\":[39.21796798706055,-28.55179214477539,36.467247009277344,-52.41066360473633,-49.32512283325195,52.58498001098633,11.704489707946777,-11.965567588806152,-2.283505916595459,-54.98316192626953],\"xaxis\":\"x\",\"y\":[37.239776611328125,5.220455169677734,109.3199462890625,-103.68865966796875,59.262264251708984,62.33317184448242,82.183349609375,-82.48230743408203,-55.1611213684082,19.090412139892578],\"yaxis\":\"y\",\"type\":\"scatter\"},{\"hovertemplate\":\"color=id00944<br>symbol=A<br>x=%{x}<br>y=%{y}<extra></extra>\",\"legendgroup\":\"id00944, A\",\"marker\":{\"color\":\"#ab63fa\",\"symbol\":\"circle\"},\"mode\":\"markers\",\"name\":\"id00944, A\",\"orientation\":\"v\",\"showlegend\":true,\"x\":[-14.824042320251465],\"xaxis\":\"x\",\"y\":[84.9523696899414],\"yaxis\":\"y\",\"type\":\"scatter\"},{\"hovertemplate\":\"color=id00944<br>symbol=C<br>x=%{x}<br>y=%{y}<extra></extra>\",\"legendgroup\":\"id00944, C\",\"marker\":{\"color\":\"#ab63fa\",\"symbol\":\"diamond\"},\"mode\":\"markers\",\"name\":\"id00944, C\",\"orientation\":\"v\",\"showlegend\":true,\"x\":[-16.40989112854004,80.35975646972656,3.7297301292419434,-84.25481414794922,13.264520645141602,-13.817910194396973,114.05117797851562,-72.9788589477539,-120.14000701904297,-76.85038757324219],\"xaxis\":\"x\",\"y\":[-3.5238986015319824,52.23698806762695,84.11702728271484,42.70889663696289,77.20414733886719,30.218769073486328,4.3499321937561035,-94.9891357421875,-105.36298370361328,-68.89588165283203],\"yaxis\":\"y\",\"type\":\"scatter\"},{\"hovertemplate\":\"color=id00944<br>symbol=D<br>x=%{x}<br>y=%{y}<extra></extra>\",\"legendgroup\":\"id00944, D\",\"marker\":{\"color\":\"#ab63fa\",\"symbol\":\"square\"},\"mode\":\"markers\",\"name\":\"id00944, D\",\"orientation\":\"v\",\"showlegend\":true,\"x\":[8.482866287231445,-6.526331901550293,-29.81036376953125,-29.17418670654297,42.91563415527344,-55.685028076171875,11.262251853942871,11.76632308959961,-55.12181091308594],\"xaxis\":\"x\",\"y\":[56.07151412963867,-34.83893966674805,-54.01940155029297,-43.509490966796875,-106.27777099609375,46.96039581298828,-1.2353793382644653,-59.52460479736328,34.3442497253418],\"yaxis\":\"y\",\"type\":\"scatter\"},{\"hovertemplate\":\"color=id00987<br>symbol=A<br>x=%{x}<br>y=%{y}<extra></extra>\",\"legendgroup\":\"id00987, A\",\"marker\":{\"color\":\"#FFA15A\",\"symbol\":\"circle\"},\"mode\":\"markers\",\"name\":\"id00987, A\",\"orientation\":\"v\",\"showlegend\":true,\"x\":[-44.286102294921875],\"xaxis\":\"x\",\"y\":[-62.945987701416016],\"yaxis\":\"y\",\"type\":\"scatter\"},{\"hovertemplate\":\"color=id00987<br>symbol=C<br>x=%{x}<br>y=%{y}<extra></extra>\",\"legendgroup\":\"id00987, C\",\"marker\":{\"color\":\"#FFA15A\",\"symbol\":\"diamond\"},\"mode\":\"markers\",\"name\":\"id00987, C\",\"orientation\":\"v\",\"showlegend\":true,\"x\":[48.020721435546875,81.86692810058594,-39.19147491455078,85.70407104492188,24.703594207763672,15.497896194458008,88.44284057617188,47.243812561035156,-34.385868072509766,-25.041343688964844],\"xaxis\":\"x\",\"y\":[-4.418471336364746,-26.34010887145996,94.17866516113281,-37.573028564453125,43.814491271972656,43.83030319213867,37.59574508666992,-21.227121353149414,70.76748657226562,-19.24233627319336],\"yaxis\":\"y\",\"type\":\"scatter\"},{\"hovertemplate\":\"color=id00987<br>symbol=D<br>x=%{x}<br>y=%{y}<extra></extra>\",\"legendgroup\":\"id00987, D\",\"marker\":{\"color\":\"#FFA15A\",\"symbol\":\"square\"},\"mode\":\"markers\",\"name\":\"id00987, D\",\"orientation\":\"v\",\"showlegend\":true,\"x\":[-16.38619613647461,-26.379756927490234,-52.641456604003906,23.02696418762207,61.74813461303711,0.7947714924812317,32.76700973510742,142.8850555419922,-31.533283233642578,-47.00642776489258],\"xaxis\":\"x\",\"y\":[-5.752735614776611,-41.07845687866211,-0.7429128289222717,45.36903381347656,43.24721145629883,-72.74531555175781,-83.56958770751953,-18.081432342529297,-74.22513580322266,34.29990005493164],\"yaxis\":\"y\",\"type\":\"scatter\"},{\"hovertemplate\":\"color=id01036<br>symbol=A<br>x=%{x}<br>y=%{y}<extra></extra>\",\"legendgroup\":\"id01036, A\",\"marker\":{\"color\":\"#19d3f3\",\"symbol\":\"circle\"},\"mode\":\"markers\",\"name\":\"id01036, A\",\"orientation\":\"v\",\"showlegend\":true,\"x\":[-42.038814544677734],\"xaxis\":\"x\",\"y\":[33.03807067871094],\"yaxis\":\"y\",\"type\":\"scatter\"},{\"hovertemplate\":\"color=id01036<br>symbol=C<br>x=%{x}<br>y=%{y}<extra></extra>\",\"legendgroup\":\"id01036, C\",\"marker\":{\"color\":\"#19d3f3\",\"symbol\":\"diamond\"},\"mode\":\"markers\",\"name\":\"id01036, C\",\"orientation\":\"v\",\"showlegend\":true,\"x\":[-9.326281547546387,63.58922576904297,-47.119388580322266,9.185196876525879,44.850704193115234,7.260928630828857,-72.82032012939453,-23.41064453125,-27.308284759521484,-23.98417091369629],\"xaxis\":\"x\",\"y\":[-53.1908073425293,-3.2106528282165527,118.29705047607422,19.815099716186523,14.317572593688965,58.01787185668945,-54.55862045288086,-70.68024444580078,94.8461685180664,72.53012084960938],\"yaxis\":\"y\",\"type\":\"scatter\"},{\"hovertemplate\":\"color=id01036<br>symbol=D<br>x=%{x}<br>y=%{y}<extra></extra>\",\"legendgroup\":\"id01036, D\",\"marker\":{\"color\":\"#19d3f3\",\"symbol\":\"square\"},\"mode\":\"markers\",\"name\":\"id01036, D\",\"orientation\":\"v\",\"showlegend\":true,\"x\":[-47.099647521972656,5.586287021636963,-7.740741729736328,-155.1390380859375,-37.44120407104492,41.788944244384766,-25.64723014831543,63.618736267089844,33.526222229003906,75.25337219238281],\"xaxis\":\"x\",\"y\":[20.832382202148438,-5.260399341583252,23.740337371826172,-77.51666259765625,-92.94123840332031,-74.71613311767578,39.92969512939453,25.616823196411133,-10.186875343322754,53.767295837402344],\"yaxis\":\"y\",\"type\":\"scatter\"},{\"hovertemplate\":\"color=id01076<br>symbol=A<br>x=%{x}<br>y=%{y}<extra></extra>\",\"legendgroup\":\"id01076, A\",\"marker\":{\"color\":\"#FF6692\",\"symbol\":\"circle\"},\"mode\":\"markers\",\"name\":\"id01076, A\",\"orientation\":\"v\",\"showlegend\":true,\"x\":[-61.658103942871094],\"xaxis\":\"x\",\"y\":[-40.20998001098633],\"yaxis\":\"y\",\"type\":\"scatter\"},{\"hovertemplate\":\"color=id01076<br>symbol=C<br>x=%{x}<br>y=%{y}<extra></extra>\",\"legendgroup\":\"id01076, C\",\"marker\":{\"color\":\"#FF6692\",\"symbol\":\"diamond\"},\"mode\":\"markers\",\"name\":\"id01076, C\",\"orientation\":\"v\",\"showlegend\":true,\"x\":[-81.8243179321289,27.24081802368164,-34.78450012207031,-54.5994758605957,-85.22051239013672,68.28425598144531,39.23622512817383,-20.53485679626465,57.171390533447266,1.4141465425491333],\"xaxis\":\"x\",\"y\":[54.50801467895508,119.15062713623047,40.81582260131836,6.682329177856445,-20.82705307006836,-15.250197410583496,-59.10812759399414,123.21721649169922,-38.247371673583984,83.37239837646484],\"yaxis\":\"y\",\"type\":\"scatter\"},{\"hovertemplate\":\"color=id01076<br>symbol=D<br>x=%{x}<br>y=%{y}<extra></extra>\",\"legendgroup\":\"id01076, D\",\"marker\":{\"color\":\"#FF6692\",\"symbol\":\"square\"},\"mode\":\"markers\",\"name\":\"id01076, D\",\"orientation\":\"v\",\"showlegend\":true,\"x\":[35.14933776855469,-41.11564636230469,-72.89990234375,64.46736145019531,-4.412398338317871,9.197553634643555,5.01080322265625,-57.36005783081055,-21.1296443939209,-25.4384708404541],\"xaxis\":\"x\",\"y\":[-27.493730545043945,-11.680521965026855,-77.73117065429688,195.38900756835938,-36.69511032104492,51.73556137084961,-8.68040943145752,-83.04498291015625,-3.3147878646850586,29.385183334350586],\"yaxis\":\"y\",\"type\":\"scatter\"},{\"hovertemplate\":\"color=id01170<br>symbol=A<br>x=%{x}<br>y=%{y}<extra></extra>\",\"legendgroup\":\"id01170, A\",\"marker\":{\"color\":\"#B6E880\",\"symbol\":\"circle\"},\"mode\":\"markers\",\"name\":\"id01170, A\",\"orientation\":\"v\",\"showlegend\":true,\"x\":[11.995917320251465],\"xaxis\":\"x\",\"y\":[36.10293960571289],\"yaxis\":\"y\",\"type\":\"scatter\"},{\"hovertemplate\":\"color=id01170<br>symbol=C<br>x=%{x}<br>y=%{y}<extra></extra>\",\"legendgroup\":\"id01170, C\",\"marker\":{\"color\":\"#B6E880\",\"symbol\":\"diamond\"},\"mode\":\"markers\",\"name\":\"id01170, C\",\"orientation\":\"v\",\"showlegend\":true,\"x\":[-32.018863677978516,-29.84690284729004,-71.1992416381836,-10.333150863647461,-21.38755989074707,-73.80921936035156,-29.697872161865234,-40.8892822265625,-32.16366958618164,-59.002689361572266],\"xaxis\":\"x\",\"y\":[62.09410095214844,43.64938735961914,-0.33389344811439514,-89.32941436767578,21.747297286987305,-55.19541931152344,29.642820358276367,68.11936950683594,-37.80276870727539,-85.67782592773438],\"yaxis\":\"y\",\"type\":\"scatter\"},{\"hovertemplate\":\"color=id01170<br>symbol=D<br>x=%{x}<br>y=%{y}<extra></extra>\",\"legendgroup\":\"id01170, D\",\"marker\":{\"color\":\"#B6E880\",\"symbol\":\"square\"},\"mode\":\"markers\",\"name\":\"id01170, D\",\"orientation\":\"v\",\"showlegend\":true,\"x\":[-14.647002220153809,-48.70526123046875,39.94428253173828,-26.237716674804688,-4.861717700958252,-0.5568658709526062,30.430477142333984,-23.39889907836914,20.491838455200195,56.623958587646484],\"xaxis\":\"x\",\"y\":[-7.714502334594727,-60.525569915771484,4.852160453796387,-54.02666473388672,39.87664031982422,-24.571868896484375,-14.78812313079834,-29.686967849731445,-72.78221893310547,-91.7140884399414],\"yaxis\":\"y\",\"type\":\"scatter\"},{\"hovertemplate\":\"color=id01171<br>symbol=A<br>x=%{x}<br>y=%{y}<extra></extra>\",\"legendgroup\":\"id01171, A\",\"marker\":{\"color\":\"#FF97FF\",\"symbol\":\"circle\"},\"mode\":\"markers\",\"name\":\"id01171, A\",\"orientation\":\"v\",\"showlegend\":true,\"x\":[-9.047182083129883],\"xaxis\":\"x\",\"y\":[91.18061828613281],\"yaxis\":\"y\",\"type\":\"scatter\"},{\"hovertemplate\":\"color=id01171<br>symbol=C<br>x=%{x}<br>y=%{y}<extra></extra>\",\"legendgroup\":\"id01171, C\",\"marker\":{\"color\":\"#FF97FF\",\"symbol\":\"diamond\"},\"mode\":\"markers\",\"name\":\"id01171, C\",\"orientation\":\"v\",\"showlegend\":true,\"x\":[-10.493051528930664,39.79376220703125,-66.1873779296875,24.936962127685547,65.01837158203125,-32.75090408325195,-14.693061828613281,63.6761589050293,-69.24504852294922,0.45981210470199585],\"xaxis\":\"x\",\"y\":[34.3019905090332,-47.24565124511719,-31.80935287475586,8.266908645629883,7.939319610595703,-42.51073455810547,-21.816638946533203,79.33110809326172,106.248779296875,56.065853118896484],\"yaxis\":\"y\",\"type\":\"scatter\"},{\"hovertemplate\":\"color=id01171<br>symbol=D<br>x=%{x}<br>y=%{y}<extra></extra>\",\"legendgroup\":\"id01171, D\",\"marker\":{\"color\":\"#FF97FF\",\"symbol\":\"square\"},\"mode\":\"markers\",\"name\":\"id01171, D\",\"orientation\":\"v\",\"showlegend\":true,\"x\":[-33.65770721435547,18.432933807373047,7.28796911239624,49.23337936401367,97.04310607910156,16.92913818359375,-40.19435501098633,45.2164306640625,-32.95240783691406,51.04920959472656],\"xaxis\":\"x\",\"y\":[-77.90103912353516,13.024955749511719,3.920957088470459,-57.83554458618164,21.763517379760742,-64.31377410888672,-53.862430572509766,22.943660736083984,-96.57501983642578,11.561089515686035],\"yaxis\":\"y\",\"type\":\"scatter\"},{\"hovertemplate\":\"color=id01179<br>symbol=A<br>x=%{x}<br>y=%{y}<extra></extra>\",\"legendgroup\":\"id01179, A\",\"marker\":{\"color\":\"#FECB52\",\"symbol\":\"circle\"},\"mode\":\"markers\",\"name\":\"id01179, A\",\"orientation\":\"v\",\"showlegend\":true,\"x\":[-79.24479675292969],\"xaxis\":\"x\",\"y\":[-63.996315002441406],\"yaxis\":\"y\",\"type\":\"scatter\"},{\"hovertemplate\":\"color=id01179<br>symbol=C<br>x=%{x}<br>y=%{y}<extra></extra>\",\"legendgroup\":\"id01179, C\",\"marker\":{\"color\":\"#FECB52\",\"symbol\":\"diamond\"},\"mode\":\"markers\",\"name\":\"id01179, C\",\"orientation\":\"v\",\"showlegend\":true,\"x\":[18.03653907775879,-53.26777648925781,-23.14437484741211,-81.67412567138672,-42.95977020263672,6.087573528289795,32.55146026611328,-53.94261932373047,-31.773597717285156,28.78495216369629],\"xaxis\":\"x\",\"y\":[-29.661832809448242,-111.72142791748047,95.51718139648438,-6.59385347366333,-22.517627716064453,31.46129608154297,10.73261547088623,-2.8215441703796387,63.281097412109375,96.09830474853516],\"yaxis\":\"y\",\"type\":\"scatter\"},{\"hovertemplate\":\"color=id01179<br>symbol=D<br>x=%{x}<br>y=%{y}<extra></extra>\",\"legendgroup\":\"id01179, D\",\"marker\":{\"color\":\"#FECB52\",\"symbol\":\"square\"},\"mode\":\"markers\",\"name\":\"id01179, D\",\"orientation\":\"v\",\"showlegend\":true,\"x\":[-46.298728942871094,49.99457550048828,20.716596603393555,8.722357749938965,8.063100814819336,30.430477142333984,-59.2072639465332,-80.50582885742188,19.38595962524414,-41.59797286987305],\"xaxis\":\"x\",\"y\":[-21.61560821533203,-38.80237579345703,-54.16319274902344,29.92564582824707,37.12440872192383,-14.78812313079834,77.57797241210938,-17.259811401367188,-54.65671157836914,-84.29231262207031],\"yaxis\":\"y\",\"type\":\"scatter\"}],                        {\"template\":{\"data\":{\"bar\":[{\"error_x\":{\"color\":\"#2a3f5f\"},\"error_y\":{\"color\":\"#2a3f5f\"},\"marker\":{\"line\":{\"color\":\"#E5ECF6\",\"width\":0.5},\"pattern\":{\"fillmode\":\"overlay\",\"size\":10,\"solidity\":0.2}},\"type\":\"bar\"}],\"barpolar\":[{\"marker\":{\"line\":{\"color\":\"#E5ECF6\",\"width\":0.5},\"pattern\":{\"fillmode\":\"overlay\",\"size\":10,\"solidity\":0.2}},\"type\":\"barpolar\"}],\"carpet\":[{\"aaxis\":{\"endlinecolor\":\"#2a3f5f\",\"gridcolor\":\"white\",\"linecolor\":\"white\",\"minorgridcolor\":\"white\",\"startlinecolor\":\"#2a3f5f\"},\"baxis\":{\"endlinecolor\":\"#2a3f5f\",\"gridcolor\":\"white\",\"linecolor\":\"white\",\"minorgridcolor\":\"white\",\"startlinecolor\":\"#2a3f5f\"},\"type\":\"carpet\"}],\"choropleth\":[{\"colorbar\":{\"outlinewidth\":0,\"ticks\":\"\"},\"type\":\"choropleth\"}],\"contour\":[{\"colorbar\":{\"outlinewidth\":0,\"ticks\":\"\"},\"colorscale\":[[0.0,\"#0d0887\"],[0.1111111111111111,\"#46039f\"],[0.2222222222222222,\"#7201a8\"],[0.3333333333333333,\"#9c179e\"],[0.4444444444444444,\"#bd3786\"],[0.5555555555555556,\"#d8576b\"],[0.6666666666666666,\"#ed7953\"],[0.7777777777777778,\"#fb9f3a\"],[0.8888888888888888,\"#fdca26\"],[1.0,\"#f0f921\"]],\"type\":\"contour\"}],\"contourcarpet\":[{\"colorbar\":{\"outlinewidth\":0,\"ticks\":\"\"},\"type\":\"contourcarpet\"}],\"heatmap\":[{\"colorbar\":{\"outlinewidth\":0,\"ticks\":\"\"},\"colorscale\":[[0.0,\"#0d0887\"],[0.1111111111111111,\"#46039f\"],[0.2222222222222222,\"#7201a8\"],[0.3333333333333333,\"#9c179e\"],[0.4444444444444444,\"#bd3786\"],[0.5555555555555556,\"#d8576b\"],[0.6666666666666666,\"#ed7953\"],[0.7777777777777778,\"#fb9f3a\"],[0.8888888888888888,\"#fdca26\"],[1.0,\"#f0f921\"]],\"type\":\"heatmap\"}],\"heatmapgl\":[{\"colorbar\":{\"outlinewidth\":0,\"ticks\":\"\"},\"colorscale\":[[0.0,\"#0d0887\"],[0.1111111111111111,\"#46039f\"],[0.2222222222222222,\"#7201a8\"],[0.3333333333333333,\"#9c179e\"],[0.4444444444444444,\"#bd3786\"],[0.5555555555555556,\"#d8576b\"],[0.6666666666666666,\"#ed7953\"],[0.7777777777777778,\"#fb9f3a\"],[0.8888888888888888,\"#fdca26\"],[1.0,\"#f0f921\"]],\"type\":\"heatmapgl\"}],\"histogram\":[{\"marker\":{\"pattern\":{\"fillmode\":\"overlay\",\"size\":10,\"solidity\":0.2}},\"type\":\"histogram\"}],\"histogram2d\":[{\"colorbar\":{\"outlinewidth\":0,\"ticks\":\"\"},\"colorscale\":[[0.0,\"#0d0887\"],[0.1111111111111111,\"#46039f\"],[0.2222222222222222,\"#7201a8\"],[0.3333333333333333,\"#9c179e\"],[0.4444444444444444,\"#bd3786\"],[0.5555555555555556,\"#d8576b\"],[0.6666666666666666,\"#ed7953\"],[0.7777777777777778,\"#fb9f3a\"],[0.8888888888888888,\"#fdca26\"],[1.0,\"#f0f921\"]],\"type\":\"histogram2d\"}],\"histogram2dcontour\":[{\"colorbar\":{\"outlinewidth\":0,\"ticks\":\"\"},\"colorscale\":[[0.0,\"#0d0887\"],[0.1111111111111111,\"#46039f\"],[0.2222222222222222,\"#7201a8\"],[0.3333333333333333,\"#9c179e\"],[0.4444444444444444,\"#bd3786\"],[0.5555555555555556,\"#d8576b\"],[0.6666666666666666,\"#ed7953\"],[0.7777777777777778,\"#fb9f3a\"],[0.8888888888888888,\"#fdca26\"],[1.0,\"#f0f921\"]],\"type\":\"histogram2dcontour\"}],\"mesh3d\":[{\"colorbar\":{\"outlinewidth\":0,\"ticks\":\"\"},\"type\":\"mesh3d\"}],\"parcoords\":[{\"line\":{\"colorbar\":{\"outlinewidth\":0,\"ticks\":\"\"}},\"type\":\"parcoords\"}],\"pie\":[{\"automargin\":true,\"type\":\"pie\"}],\"scatter\":[{\"marker\":{\"colorbar\":{\"outlinewidth\":0,\"ticks\":\"\"}},\"type\":\"scatter\"}],\"scatter3d\":[{\"line\":{\"colorbar\":{\"outlinewidth\":0,\"ticks\":\"\"}},\"marker\":{\"colorbar\":{\"outlinewidth\":0,\"ticks\":\"\"}},\"type\":\"scatter3d\"}],\"scattercarpet\":[{\"marker\":{\"colorbar\":{\"outlinewidth\":0,\"ticks\":\"\"}},\"type\":\"scattercarpet\"}],\"scattergeo\":[{\"marker\":{\"colorbar\":{\"outlinewidth\":0,\"ticks\":\"\"}},\"type\":\"scattergeo\"}],\"scattergl\":[{\"marker\":{\"colorbar\":{\"outlinewidth\":0,\"ticks\":\"\"}},\"type\":\"scattergl\"}],\"scattermapbox\":[{\"marker\":{\"colorbar\":{\"outlinewidth\":0,\"ticks\":\"\"}},\"type\":\"scattermapbox\"}],\"scatterpolar\":[{\"marker\":{\"colorbar\":{\"outlinewidth\":0,\"ticks\":\"\"}},\"type\":\"scatterpolar\"}],\"scatterpolargl\":[{\"marker\":{\"colorbar\":{\"outlinewidth\":0,\"ticks\":\"\"}},\"type\":\"scatterpolargl\"}],\"scatterternary\":[{\"marker\":{\"colorbar\":{\"outlinewidth\":0,\"ticks\":\"\"}},\"type\":\"scatterternary\"}],\"surface\":[{\"colorbar\":{\"outlinewidth\":0,\"ticks\":\"\"},\"colorscale\":[[0.0,\"#0d0887\"],[0.1111111111111111,\"#46039f\"],[0.2222222222222222,\"#7201a8\"],[0.3333333333333333,\"#9c179e\"],[0.4444444444444444,\"#bd3786\"],[0.5555555555555556,\"#d8576b\"],[0.6666666666666666,\"#ed7953\"],[0.7777777777777778,\"#fb9f3a\"],[0.8888888888888888,\"#fdca26\"],[1.0,\"#f0f921\"]],\"type\":\"surface\"}],\"table\":[{\"cells\":{\"fill\":{\"color\":\"#EBF0F8\"},\"line\":{\"color\":\"white\"}},\"header\":{\"fill\":{\"color\":\"#C8D4E3\"},\"line\":{\"color\":\"white\"}},\"type\":\"table\"}]},\"layout\":{\"annotationdefaults\":{\"arrowcolor\":\"#2a3f5f\",\"arrowhead\":0,\"arrowwidth\":1},\"autotypenumbers\":\"strict\",\"coloraxis\":{\"colorbar\":{\"outlinewidth\":0,\"ticks\":\"\"}},\"colorscale\":{\"diverging\":[[0,\"#8e0152\"],[0.1,\"#c51b7d\"],[0.2,\"#de77ae\"],[0.3,\"#f1b6da\"],[0.4,\"#fde0ef\"],[0.5,\"#f7f7f7\"],[0.6,\"#e6f5d0\"],[0.7,\"#b8e186\"],[0.8,\"#7fbc41\"],[0.9,\"#4d9221\"],[1,\"#276419\"]],\"sequential\":[[0.0,\"#0d0887\"],[0.1111111111111111,\"#46039f\"],[0.2222222222222222,\"#7201a8\"],[0.3333333333333333,\"#9c179e\"],[0.4444444444444444,\"#bd3786\"],[0.5555555555555556,\"#d8576b\"],[0.6666666666666666,\"#ed7953\"],[0.7777777777777778,\"#fb9f3a\"],[0.8888888888888888,\"#fdca26\"],[1.0,\"#f0f921\"]],\"sequentialminus\":[[0.0,\"#0d0887\"],[0.1111111111111111,\"#46039f\"],[0.2222222222222222,\"#7201a8\"],[0.3333333333333333,\"#9c179e\"],[0.4444444444444444,\"#bd3786\"],[0.5555555555555556,\"#d8576b\"],[0.6666666666666666,\"#ed7953\"],[0.7777777777777778,\"#fb9f3a\"],[0.8888888888888888,\"#fdca26\"],[1.0,\"#f0f921\"]]},\"colorway\":[\"#636efa\",\"#EF553B\",\"#00cc96\",\"#ab63fa\",\"#FFA15A\",\"#19d3f3\",\"#FF6692\",\"#B6E880\",\"#FF97FF\",\"#FECB52\"],\"font\":{\"color\":\"#2a3f5f\"},\"geo\":{\"bgcolor\":\"white\",\"lakecolor\":\"white\",\"landcolor\":\"#E5ECF6\",\"showlakes\":true,\"showland\":true,\"subunitcolor\":\"white\"},\"hoverlabel\":{\"align\":\"left\"},\"hovermode\":\"closest\",\"mapbox\":{\"style\":\"light\"},\"paper_bgcolor\":\"white\",\"plot_bgcolor\":\"#E5ECF6\",\"polar\":{\"angularaxis\":{\"gridcolor\":\"white\",\"linecolor\":\"white\",\"ticks\":\"\"},\"bgcolor\":\"#E5ECF6\",\"radialaxis\":{\"gridcolor\":\"white\",\"linecolor\":\"white\",\"ticks\":\"\"}},\"scene\":{\"xaxis\":{\"backgroundcolor\":\"#E5ECF6\",\"gridcolor\":\"white\",\"gridwidth\":2,\"linecolor\":\"white\",\"showbackground\":true,\"ticks\":\"\",\"zerolinecolor\":\"white\"},\"yaxis\":{\"backgroundcolor\":\"#E5ECF6\",\"gridcolor\":\"white\",\"gridwidth\":2,\"linecolor\":\"white\",\"showbackground\":true,\"ticks\":\"\",\"zerolinecolor\":\"white\"},\"zaxis\":{\"backgroundcolor\":\"#E5ECF6\",\"gridcolor\":\"white\",\"gridwidth\":2,\"linecolor\":\"white\",\"showbackground\":true,\"ticks\":\"\",\"zerolinecolor\":\"white\"}},\"shapedefaults\":{\"line\":{\"color\":\"#2a3f5f\"}},\"ternary\":{\"aaxis\":{\"gridcolor\":\"white\",\"linecolor\":\"white\",\"ticks\":\"\"},\"baxis\":{\"gridcolor\":\"white\",\"linecolor\":\"white\",\"ticks\":\"\"},\"bgcolor\":\"#E5ECF6\",\"caxis\":{\"gridcolor\":\"white\",\"linecolor\":\"white\",\"ticks\":\"\"}},\"title\":{\"x\":0.05},\"xaxis\":{\"automargin\":true,\"gridcolor\":\"white\",\"linecolor\":\"white\",\"ticks\":\"\",\"title\":{\"standoff\":15},\"zerolinecolor\":\"white\",\"zerolinewidth\":2},\"yaxis\":{\"automargin\":true,\"gridcolor\":\"white\",\"linecolor\":\"white\",\"ticks\":\"\",\"title\":{\"standoff\":15},\"zerolinecolor\":\"white\",\"zerolinewidth\":2}}},\"xaxis\":{\"anchor\":\"y\",\"domain\":[0.0,1.0],\"title\":{\"text\":\"x\"}},\"yaxis\":{\"anchor\":\"x\",\"domain\":[0.0,1.0],\"title\":{\"text\":\"y\"}},\"legend\":{\"title\":{\"text\":\"color, symbol\"},\"tracegroupgap\":0},\"margin\":{\"t\":60}},                        {\"responsive\": true}                    ).then(function(){\n",
              "                            \n",
              "var gd = document.getElementById('381a8799-fe63-48d0-82ba-eea34adb5a12');\n",
              "var x = new MutationObserver(function (mutations, observer) {{\n",
              "        var display = window.getComputedStyle(gd).display;\n",
              "        if (!display || display === 'none') {{\n",
              "            console.log([gd, 'removed!']);\n",
              "            Plotly.purge(gd);\n",
              "            observer.disconnect();\n",
              "        }}\n",
              "}});\n",
              "\n",
              "// Listen for the removal of the full notebook cells\n",
              "var notebookContainer = gd.closest('#notebook-container');\n",
              "if (notebookContainer) {{\n",
              "    x.observe(notebookContainer, {childList: true});\n",
              "}}\n",
              "\n",
              "// Listen for the clearing of the current output cell\n",
              "var outputEl = gd.closest('.output');\n",
              "if (outputEl) {{\n",
              "    x.observe(outputEl, {childList: true});\n",
              "}}\n",
              "\n",
              "                        })                };                            </script>        </div>\n",
              "</body>\n",
              "</html>"
            ]
          },
          "metadata": {}
        }
      ]
    },
    {
      "cell_type": "markdown",
      "source": [
        "## 3D t-SNE"
      ],
      "metadata": {
        "id": "6GCER-xBt59b"
      }
    },
    {
      "cell_type": "code",
      "source": [
        "model = TSNE(n_components=3, learning_rate=150, perplexity=10, verbose=2, angle=0.1).fit_transform(avg_mfccs)"
      ],
      "metadata": {
        "colab": {
          "base_uri": "https://localhost:8080/"
        },
        "id": "9WOhFo-Jtz-7",
        "outputId": "412dd41d-1461-42c6-c687-ab64f8f5042c"
      },
      "execution_count": 77,
      "outputs": [
        {
          "output_type": "stream",
          "name": "stderr",
          "text": [
            "/usr/local/lib/python3.7/dist-packages/sklearn/manifold/_t_sne.py:783: FutureWarning:\n",
            "\n",
            "The default initialization in TSNE will change from 'random' to 'pca' in 1.2.\n",
            "\n"
          ]
        },
        {
          "output_type": "stream",
          "name": "stdout",
          "text": [
            "[t-SNE] Computing 31 nearest neighbors...\n",
            "[t-SNE] Indexed 427 samples in 0.001s...\n",
            "[t-SNE] Computed neighbors for 427 samples in 0.010s...\n",
            "[t-SNE] Computed conditional probabilities for sample 427 / 427\n",
            "[t-SNE] Mean sigma: 0.000000\n",
            "[t-SNE] Computed conditional probabilities in 0.045s\n",
            "[t-SNE] Iteration 50: error = 89.0854263, gradient norm = 0.2862971 (50 iterations in 0.218s)\n",
            "[t-SNE] Iteration 100: error = 99.8505173, gradient norm = 0.2539310 (50 iterations in 0.156s)\n",
            "[t-SNE] Iteration 150: error = 104.3126755, gradient norm = 0.2343051 (50 iterations in 0.137s)\n",
            "[t-SNE] Iteration 200: error = 108.0907288, gradient norm = 0.2083364 (50 iterations in 0.138s)\n",
            "[t-SNE] Iteration 250: error = 110.4643250, gradient norm = 0.1868647 (50 iterations in 0.177s)\n",
            "[t-SNE] KL divergence after 250 iterations with early exaggeration: 110.464325\n",
            "[t-SNE] Iteration 300: error = 3.4251502, gradient norm = 0.0008573 (50 iterations in 0.132s)\n",
            "[t-SNE] Iteration 350: error = 2.8467317, gradient norm = 0.0002953 (50 iterations in 0.147s)\n",
            "[t-SNE] Iteration 400: error = 2.5313327, gradient norm = 0.0001626 (50 iterations in 0.136s)\n",
            "[t-SNE] Iteration 450: error = 2.3272822, gradient norm = 0.0001056 (50 iterations in 0.150s)\n",
            "[t-SNE] Iteration 500: error = 2.2024455, gradient norm = 0.0000760 (50 iterations in 0.142s)\n",
            "[t-SNE] Iteration 550: error = 2.1151762, gradient norm = 0.0000601 (50 iterations in 0.140s)\n",
            "[t-SNE] Iteration 600: error = 2.0412879, gradient norm = 0.0000490 (50 iterations in 0.135s)\n",
            "[t-SNE] Iteration 650: error = 1.9768101, gradient norm = 0.0000404 (50 iterations in 0.207s)\n",
            "[t-SNE] Iteration 700: error = 1.9206814, gradient norm = 0.0000349 (50 iterations in 0.144s)\n",
            "[t-SNE] Iteration 750: error = 1.8709213, gradient norm = 0.0000301 (50 iterations in 0.155s)\n",
            "[t-SNE] Iteration 800: error = 1.8260696, gradient norm = 0.0000267 (50 iterations in 0.138s)\n",
            "[t-SNE] Iteration 850: error = 1.7845770, gradient norm = 0.0000233 (50 iterations in 0.148s)\n",
            "[t-SNE] Iteration 900: error = 1.7481785, gradient norm = 0.0000205 (50 iterations in 0.140s)\n",
            "[t-SNE] Iteration 950: error = 1.7170850, gradient norm = 0.0000186 (50 iterations in 0.178s)\n",
            "[t-SNE] Iteration 1000: error = 1.6894265, gradient norm = 0.0000175 (50 iterations in 0.147s)\n",
            "[t-SNE] KL divergence after 1000 iterations: 1.689427\n"
          ]
        }
      ]
    },
    {
      "cell_type": "code",
      "source": [
        "x_axis=model[:,0]\n",
        "y_axis=model[:,1]\n",
        "z_axis=model[:,2]\n",
        "import plotly.express as px\n",
        "fig = px.scatter_3d(x=x_axis, y=y_axis, z=z_axis,color=sources,symbol=category,opacity=0.7)\n",
        "\n",
        "fig.update_layout(margin=dict(l=0, r=0, b=0, t=0))\n",
        "fig.show()\n"
      ],
      "metadata": {
        "colab": {
          "base_uri": "https://localhost:8080/",
          "height": 563
        },
        "id": "e_T7uxbFvq5I",
        "outputId": "32fe75ce-a6ba-4e84-d849-fb08c0c53fde"
      },
      "execution_count": 81,
      "outputs": [
        {
          "output_type": "display_data",
          "data": {
            "text/html": [
              "<html>\n",
              "<head><meta charset=\"utf-8\" /></head>\n",
              "<body>\n",
              "    <div>            <script src=\"https://cdnjs.cloudflare.com/ajax/libs/mathjax/2.7.5/MathJax.js?config=TeX-AMS-MML_SVG\"></script><script type=\"text/javascript\">if (window.MathJax) {MathJax.Hub.Config({SVG: {font: \"STIX-Web\"}});}</script>                <script type=\"text/javascript\">window.PlotlyConfig = {MathJaxConfig: 'local'};</script>\n",
              "        <script src=\"https://cdn.plot.ly/plotly-2.8.3.min.js\"></script>                <div id=\"9da96557-6968-4419-8563-ad08ba1c35dd\" class=\"plotly-graph-div\" style=\"height:525px; width:100%;\"></div>            <script type=\"text/javascript\">                                    window.PLOTLYENV=window.PLOTLYENV || {};                                    if (document.getElementById(\"9da96557-6968-4419-8563-ad08ba1c35dd\")) {                    Plotly.newPlot(                        \"9da96557-6968-4419-8563-ad08ba1c35dd\",                        [{\"hovertemplate\":\"color=id00076<br>symbol=A<br>x=%{x}<br>y=%{y}<br>z=%{z}<extra></extra>\",\"legendgroup\":\"id00076, A\",\"marker\":{\"color\":\"#636efa\",\"opacity\":0.7,\"symbol\":\"circle\"},\"mode\":\"markers\",\"name\":\"id00076, A\",\"scene\":\"scene\",\"showlegend\":true,\"x\":[-51.757450103759766],\"y\":[54.614864349365234],\"z\":[-43.115177154541016],\"type\":\"scatter3d\"},{\"hovertemplate\":\"color=id00076<br>symbol=C<br>x=%{x}<br>y=%{y}<br>z=%{z}<extra></extra>\",\"legendgroup\":\"id00076, C\",\"marker\":{\"color\":\"#636efa\",\"opacity\":0.7,\"symbol\":\"diamond\"},\"mode\":\"markers\",\"name\":\"id00076, C\",\"scene\":\"scene\",\"showlegend\":true,\"x\":[-25.39531135559082,-50.54780578613281,6.930293560028076,-66.75232696533203,-31.169116973876953,24.756011962890625,-34.61001968383789,99.84394836425781,-10.644208908081055,10.289619445800781],\"y\":[106.97400665283203,98.81307983398438,-6.37313985824585,84.88249206542969,6.92826509475708,61.34003829956055,-20.974407196044922,15.95767879486084,-40.105796813964844,-46.881004333496094],\"z\":[9.350506782531738,-27.648540496826172,45.14987564086914,27.701740264892578,-28.980972290039062,81.89041900634766,-79.88665008544922,43.49087142944336,-29.320932388305664,-118.45745086669922],\"type\":\"scatter3d\"},{\"hovertemplate\":\"color=id00076<br>symbol=D<br>x=%{x}<br>y=%{y}<br>z=%{z}<extra></extra>\",\"legendgroup\":\"id00076, D\",\"marker\":{\"color\":\"#636efa\",\"opacity\":0.7,\"symbol\":\"square\"},\"mode\":\"markers\",\"name\":\"id00076, D\",\"scene\":\"scene\",\"showlegend\":true,\"x\":[-48.35315704345703,-15.278024673461914,-14.99741268157959,-21.99577522277832,-10.617162704467773,55.23495101928711,-41.54139709472656,52.096900939941406,30.595291137695312,73.98472595214844],\"y\":[-77.72262573242188,-11.528229713439941,-55.868408203125,-79.97663879394531,43.28093338012695,42.17353057861328,3.422678232192993,-70.67176055908203,-67.49723052978516,76.43863677978516],\"z\":[9.231826782226562,-103.63436889648438,80.98355865478516,-53.294097900390625,-57.67924880981445,-16.798330307006836,44.420562744140625,-38.4195442199707,-19.03044891357422,12.960419654846191],\"type\":\"scatter3d\"},{\"hovertemplate\":\"color=id00166<br>symbol=A<br>x=%{x}<br>y=%{y}<br>z=%{z}<extra></extra>\",\"legendgroup\":\"id00166, A\",\"marker\":{\"color\":\"#EF553B\",\"opacity\":0.7,\"symbol\":\"circle\"},\"mode\":\"markers\",\"name\":\"id00166, A\",\"scene\":\"scene\",\"showlegend\":true,\"x\":[-38.66824722290039],\"y\":[-107.86096954345703],\"z\":[-48.514732360839844],\"type\":\"scatter3d\"},{\"hovertemplate\":\"color=id00166<br>symbol=C<br>x=%{x}<br>y=%{y}<br>z=%{z}<extra></extra>\",\"legendgroup\":\"id00166, C\",\"marker\":{\"color\":\"#EF553B\",\"opacity\":0.7,\"symbol\":\"diamond\"},\"mode\":\"markers\",\"name\":\"id00166, C\",\"scene\":\"scene\",\"showlegend\":true,\"x\":[-39.21255111694336,-56.37952423095703,80.90465545654297,-4.585264682769775,-31.900026321411133,4.315876007080078,92.75865936279297,21.145002365112305,18.055614471435547,-8.45491886138916],\"y\":[89.41653442382812,-6.695858001708984,14.940228462219238,-81.92507934570312,-61.21174240112305,-17.239093780517578,16.90054702758789,76.72502136230469,-33.31760787963867,60.10063934326172],\"z\":[-74.77603912353516,74.41168975830078,-16.530113220214844,37.32236862182617,-82.68841552734375,-121.29999542236328,20.113773345947266,24.139217376708984,-43.5170783996582,-124.22602844238281],\"type\":\"scatter3d\"},{\"hovertemplate\":\"color=id00166<br>symbol=D<br>x=%{x}<br>y=%{y}<br>z=%{z}<extra></extra>\",\"legendgroup\":\"id00166, D\",\"marker\":{\"color\":\"#EF553B\",\"opacity\":0.7,\"symbol\":\"square\"},\"mode\":\"markers\",\"name\":\"id00166, D\",\"scene\":\"scene\",\"showlegend\":true,\"x\":[18.345232009887695,40.58670425415039,22.64151382446289,-25.404048919677734,25.8450927734375,-20.258922576904297,23.990501403808594,21.244396209716797,-1.9365527629852295,47.69116973876953],\"y\":[-72.09986114501953,-67.40702819824219,5.097623825073242,-72.88623046875,-0.7139174342155457,3.821035146713257,33.5819206237793,19.395112991333008,-100.27706146240234,46.73263931274414],\"z\":[44.31489181518555,97.01602172851562,-10.095831871032715,5.278637409210205,33.08829116821289,85.94234466552734,40.043739318847656,-39.865455627441406,-23.84559440612793,-72.83187866210938],\"type\":\"scatter3d\"},{\"hovertemplate\":\"color=id00173<br>symbol=A<br>x=%{x}<br>y=%{y}<br>z=%{z}<extra></extra>\",\"legendgroup\":\"id00173, A\",\"marker\":{\"color\":\"#00cc96\",\"opacity\":0.7,\"symbol\":\"circle\"},\"mode\":\"markers\",\"name\":\"id00173, A\",\"scene\":\"scene\",\"showlegend\":true,\"x\":[-13.859193801879883],\"y\":[-29.119247436523438],\"z\":[-63.631778717041016],\"type\":\"scatter3d\"},{\"hovertemplate\":\"color=id00173<br>symbol=C<br>x=%{x}<br>y=%{y}<br>z=%{z}<extra></extra>\",\"legendgroup\":\"id00173, C\",\"marker\":{\"color\":\"#00cc96\",\"opacity\":0.7,\"symbol\":\"diamond\"},\"mode\":\"markers\",\"name\":\"id00173, C\",\"scene\":\"scene\",\"showlegend\":true,\"x\":[51.224666595458984,-5.970598220825195,0.20969659090042114,-39.35090637207031,-45.894954681396484,-64.78153228759766,-25.878007888793945,-34.57856750488281,18.521448135375977,-2.508674383163452],\"y\":[68.97869873046875,77.69921112060547,-111.37236785888672,93.4976806640625,-89.00849151611328,-44.55677032470703,-122.68658447265625,52.21803283691406,-16.67278480529785,93.89722442626953],\"z\":[-5.382640361785889,-71.1339111328125,64.33673095703125,63.449459075927734,57.18083572387695,46.97501754760742,20.186071395874023,-10.263526916503906,-74.48348999023438,-43.57121276855469],\"type\":\"scatter3d\"},{\"hovertemplate\":\"color=id00173<br>symbol=D<br>x=%{x}<br>y=%{y}<br>z=%{z}<extra></extra>\",\"legendgroup\":\"id00173, D\",\"marker\":{\"color\":\"#00cc96\",\"opacity\":0.7,\"symbol\":\"square\"},\"mode\":\"markers\",\"name\":\"id00173, D\",\"scene\":\"scene\",\"showlegend\":true,\"x\":[-8.85108757019043,-42.76921844482422,12.560840606689453,-21.1892032623291,4.917891979217529,-69.72367858886719,-6.288881778717041,64.2345962524414,51.182525634765625,31.66786003112793],\"y\":[62.72850799560547,-38.16891098022461,-35.66981506347656,13.766886711120605,20.519304275512695,15.548990249633789,-56.26454162597656,54.09467315673828,79.8115005493164,-50.033058166503906],\"z\":[34.182857513427734,-2.006200075149536,2.1213912963867188,-100.87479400634766,37.302284240722656,-4.370083332061768,115.851806640625,-57.037254333496094,33.95556640625,-52.27095413208008],\"type\":\"scatter3d\"},{\"hovertemplate\":\"color=id00366<br>symbol=A<br>x=%{x}<br>y=%{y}<br>z=%{z}<extra></extra>\",\"legendgroup\":\"id00366, A\",\"marker\":{\"color\":\"#ab63fa\",\"opacity\":0.7,\"symbol\":\"circle\"},\"mode\":\"markers\",\"name\":\"id00366, A\",\"scene\":\"scene\",\"showlegend\":true,\"x\":[-62.27980422973633],\"y\":[29.010875701904297],\"z\":[32.55339050292969],\"type\":\"scatter3d\"},{\"hovertemplate\":\"color=id00366<br>symbol=C<br>x=%{x}<br>y=%{y}<br>z=%{z}<extra></extra>\",\"legendgroup\":\"id00366, C\",\"marker\":{\"color\":\"#ab63fa\",\"opacity\":0.7,\"symbol\":\"diamond\"},\"mode\":\"markers\",\"name\":\"id00366, C\",\"scene\":\"scene\",\"showlegend\":true,\"x\":[-69.02812194824219,-22.525493621826172,-42.03238296508789,9.269018173217773,-83.37213134765625,-62.49018478393555,-46.39494705200195,-42.24982833862305,9.671472549438477,91.7759017944336,66.51873016357422,-62.42177963256836,-65.81156158447266,-36.49811935424805,57.236324310302734,-36.007816314697266,90.19715881347656,18.99201202392578,-43.715110778808594,2.689296007156372],\"y\":[-34.19953918457031,126.11589813232422,80.98600769042969,-126.07559204101562,54.31779098510742,43.2252311706543,94.84239196777344,-91.92337036132812,21.387422561645508,-7.979788780212402,-18.204376220703125,-77.71720123291016,-67.79052734375,39.664093017578125,36.741065979003906,73.46382141113281,34.49496078491211,86.7173843383789,58.88291549682617,-5.22983455657959],\"z\":[-21.265409469604492,22.410728454589844,41.2770881652832,-45.51996612548828,-17.75589370727539,-67.84400177001953,19.50187873840332,-77.6966323852539,-99.33246612548828,-5.0345001220703125,-77.69868469238281,85.18473052978516,-80.05887603759766,39.83720016479492,49.19337463378906,-34.35883712768555,3.0435452461242676,82.97173309326172,-96.02091217041016,104.72230529785156],\"type\":\"scatter3d\"},{\"hovertemplate\":\"color=id00366<br>symbol=D<br>x=%{x}<br>y=%{y}<br>z=%{z}<extra></extra>\",\"legendgroup\":\"id00366, D\",\"marker\":{\"color\":\"#ab63fa\",\"opacity\":0.7,\"symbol\":\"square\"},\"mode\":\"markers\",\"name\":\"id00366, D\",\"scene\":\"scene\",\"showlegend\":true,\"x\":[13.88131332397461,8.957189559936523,42.22661209106445,85.24455261230469,4.126026153564453,0.8962931632995605,16.98221206665039,-25.192575454711914,9.689618110656738,4.192930221557617],\"y\":[-24.227619171142578,-2.5414347648620605,2.004950761795044,-45.51138687133789,-73.54253387451172,-45.22064971923828,29.949249267578125,55.62557601928711,-78.00350189208984,103.52730560302734],\"z\":[58.3360710144043,71.7388687133789,387.4847106933594,17.707889556884766,-57.21064758300781,96.35868835449219,14.984564781188965,82.56517791748047,-18.00909996032715,-75.87764739990234],\"type\":\"scatter3d\"},{\"hovertemplate\":\"color=id00391<br>symbol=A<br>x=%{x}<br>y=%{y}<br>z=%{z}<extra></extra>\",\"legendgroup\":\"id00391, A\",\"marker\":{\"color\":\"#FFA15A\",\"opacity\":0.7,\"symbol\":\"circle\"},\"mode\":\"markers\",\"name\":\"id00391, A\",\"scene\":\"scene\",\"showlegend\":true,\"x\":[73.03734588623047],\"y\":[-73.55150604248047],\"z\":[-23.62352752685547],\"type\":\"scatter3d\"},{\"hovertemplate\":\"color=id00391<br>symbol=C<br>x=%{x}<br>y=%{y}<br>z=%{z}<extra></extra>\",\"legendgroup\":\"id00391, C\",\"marker\":{\"color\":\"#FFA15A\",\"opacity\":0.7,\"symbol\":\"diamond\"},\"mode\":\"markers\",\"name\":\"id00391, C\",\"scene\":\"scene\",\"showlegend\":true,\"x\":[57.23930358886719,-31.67595863342285,-53.94261932373047,2.419188976287842,-41.508060455322266,-3.759615659713745,13.013656616210938,52.61579132080078,4.328429222106934,-20.79991912841797],\"y\":[7.35048246383667,112.68031311035156,-2.8215441703796387,71.87380981445312,-49.07086181640625,-29.335357666015625,60.32510757446289,-57.446624755859375,96.64041137695312,72.77708435058594],\"z\":[-49.04767990112305,45.28167724609375,-20.62377166748047,69.46852111816406,-101.95149230957031,-85.23333740234375,-20.74827003479004,-81.30040740966797,64.57750701904297,-103.71073913574219],\"type\":\"scatter3d\"},{\"hovertemplate\":\"color=id00391<br>symbol=D<br>x=%{x}<br>y=%{y}<br>z=%{z}<extra></extra>\",\"legendgroup\":\"id00391, D\",\"marker\":{\"color\":\"#FFA15A\",\"opacity\":0.7,\"symbol\":\"square\"},\"mode\":\"markers\",\"name\":\"id00391, D\",\"scene\":\"scene\",\"showlegend\":true,\"x\":[-38.93951416015625,21.31183433532715,97.98912811279297,-30.803905487060547,31.963394165039062,63.38513946533203,4.693483829498291,-49.48514175415039,6.437894821166992,-44.939754486083984],\"y\":[3.4658560752868652,55.056060791015625,-26.04081153869629,-114.39149475097656,-73.30463409423828,-23.946592330932617,-99.18021392822266,44.24259948730469,-70.39350128173828,11.73861026763916],\"z\":[-55.16270065307617,108.83610534667969,26.257427215576172,-24.169597625732422,-59.53947830200195,4.028056621551514,-3.3080646991729736,8.6724853515625,4.511882305145264,83.38224792480469],\"type\":\"scatter3d\"},{\"hovertemplate\":\"color=id00475<br>symbol=A<br>x=%{x}<br>y=%{y}<br>z=%{z}<extra></extra>\",\"legendgroup\":\"id00475, A\",\"marker\":{\"color\":\"#19d3f3\",\"opacity\":0.7,\"symbol\":\"circle\"},\"mode\":\"markers\",\"name\":\"id00475, A\",\"scene\":\"scene\",\"showlegend\":true,\"x\":[-97.86271667480469],\"y\":[-42.63505172729492],\"z\":[35.60706329345703],\"type\":\"scatter3d\"},{\"hovertemplate\":\"color=id00475<br>symbol=C<br>x=%{x}<br>y=%{y}<br>z=%{z}<extra></extra>\",\"legendgroup\":\"id00475, C\",\"marker\":{\"color\":\"#19d3f3\",\"opacity\":0.7,\"symbol\":\"diamond\"},\"mode\":\"markers\",\"name\":\"id00475, C\",\"scene\":\"scene\",\"showlegend\":true,\"x\":[37.016151428222656,-6.331473350524902,-54.13007354736328,-50.652462005615234,72.71260833740234,-59.2242317199707,-68.04820251464844,-17.278921127319336,33.26559829711914,23.38524055480957],\"y\":[19.047330856323242,8.571680068969727,4.562319755554199,-37.578983306884766,-31.699630737304688,-24.819679260253906,-82.03413391113281,-36.150672912597656,68.52699279785156,72.59620666503906],\"z\":[-104.84905242919922,58.58946228027344,108.49402618408203,77.98988342285156,-23.371118545532227,-89.95166015625,-55.999603271484375,-108.23210144042969,-23.3837947845459,58.5958366394043],\"type\":\"scatter3d\"},{\"hovertemplate\":\"color=id00475<br>symbol=D<br>x=%{x}<br>y=%{y}<br>z=%{z}<extra></extra>\",\"legendgroup\":\"id00475, D\",\"marker\":{\"color\":\"#19d3f3\",\"opacity\":0.7,\"symbol\":\"square\"},\"mode\":\"markers\",\"name\":\"id00475, D\",\"scene\":\"scene\",\"showlegend\":true,\"x\":[22.410837173461914,-53.45951843261719,38.53290557861328,-8.175294876098633,-28.143709182739258,54.428306579589844,50.315738677978516,-0.9216793775558472,60.479732513427734,-3.8143842220306396],\"y\":[-13.780519485473633,-60.944244384765625,-17.47064971923828,-14.379517555236816,13.17099666595459,-55.45913314819336,22.057392120361328,-75.719482421875,35.56161880493164,40.702919006347656],\"z\":[-25.232898712158203,-33.6573371887207,41.02538299560547,60.45687484741211,65.16419219970703,28.438129425048828,-1.1411107778549194,-100.35347747802734,-93.43058013916016,8.64150619506836],\"type\":\"scatter3d\"},{\"hovertemplate\":\"color=id00476<br>symbol=A<br>x=%{x}<br>y=%{y}<br>z=%{z}<extra></extra>\",\"legendgroup\":\"id00476, A\",\"marker\":{\"color\":\"#FF6692\",\"opacity\":0.7,\"symbol\":\"circle\"},\"mode\":\"markers\",\"name\":\"id00476, A\",\"scene\":\"scene\",\"showlegend\":true,\"x\":[43.59535217285156],\"y\":[30.287784576416016],\"z\":[-54.28558349609375],\"type\":\"scatter3d\"},{\"hovertemplate\":\"color=id00476<br>symbol=C<br>x=%{x}<br>y=%{y}<br>z=%{z}<extra></extra>\",\"legendgroup\":\"id00476, C\",\"marker\":{\"color\":\"#FF6692\",\"opacity\":0.7,\"symbol\":\"diamond\"},\"mode\":\"markers\",\"name\":\"id00476, C\",\"scene\":\"scene\",\"showlegend\":true,\"x\":[-54.79788589477539,-32.1266975402832,30.59424591064453,72.71260833740234,-63.050357818603516,-1.7506706714630127,-48.89442825317383,57.23074722290039,-3.5955023765563965,-66.46270751953125],\"y\":[60.23252487182617,-138.9253387451172,33.66448211669922,-31.699630737304688,8.35261058807373,67.06236267089844,-65.58131408691406,60.714599609375,-25.69420623779297,-47.39066696166992],\"z\":[36.75466537475586,-6.8408918380737305,-87.5915298461914,-23.371118545532227,-43.0479736328125,93.83069610595703,-60.365318298339844,56.558807373046875,-15.654006958007812,22.43751335144043],\"type\":\"scatter3d\"},{\"hovertemplate\":\"color=id00476<br>symbol=D<br>x=%{x}<br>y=%{y}<br>z=%{z}<extra></extra>\",\"legendgroup\":\"id00476, D\",\"marker\":{\"color\":\"#FF6692\",\"opacity\":0.7,\"symbol\":\"square\"},\"mode\":\"markers\",\"name\":\"id00476, D\",\"scene\":\"scene\",\"showlegend\":true,\"x\":[1.4334893226623535,36.171302795410156,13.523041725158691,40.41795349121094,33.227386474609375,-8.908625602722168,13.395285606384277,53.170997619628906,18.956531524658203,-35.71114730834961],\"y\":[-1.0793834924697876,41.87108612060547,-27.597578048706055,-38.58715057373047,54.75876998901367,-70.43856048583984,52.89444351196289,91.81492614746094,-55.34502029418945,18.8974609375],\"z\":[-21.820865631103516,2.7751293182373047,84.22748565673828,15.141266822814941,36.036556243896484,-29.237329483032227,20.05768585205078,11.862933158874512,-6.886788845062256,102.50492858886719],\"type\":\"scatter3d\"},{\"hovertemplate\":\"color=id00478<br>symbol=A<br>x=%{x}<br>y=%{y}<br>z=%{z}<extra></extra>\",\"legendgroup\":\"id00478, A\",\"marker\":{\"color\":\"#B6E880\",\"opacity\":0.7,\"symbol\":\"circle\"},\"mode\":\"markers\",\"name\":\"id00478, A\",\"scene\":\"scene\",\"showlegend\":true,\"x\":[1.12045419216156],\"y\":[12.831677436828613],\"z\":[-78.41001892089844],\"type\":\"scatter3d\"},{\"hovertemplate\":\"color=id00478<br>symbol=C<br>x=%{x}<br>y=%{y}<br>z=%{z}<extra></extra>\",\"legendgroup\":\"id00478, C\",\"marker\":{\"color\":\"#B6E880\",\"opacity\":0.7,\"symbol\":\"diamond\"},\"mode\":\"markers\",\"name\":\"id00478, C\",\"scene\":\"scene\",\"showlegend\":true,\"x\":[-56.59731674194336,-39.43330001831055,-31.169116973876953,1.6669012308120728,40.945037841796875,109.16674041748047,-3.1466479301452637,-15.05084228515625,-51.62187576293945,2.689296007156372],\"y\":[103.34149932861328,30.28076934814453,6.92826509475708,49.94762420654297,69.23693084716797,14.072726249694824,64.61693572998047,62.042633056640625,-62.277706146240234,-5.22983455657959],\"z\":[43.06120681762695,-109.00887298583984,-28.980972290039062,76.85357666015625,-55.79318618774414,-0.3761042058467865,6.348707675933838,58.09870147705078,32.595664978027344,104.72230529785156],\"type\":\"scatter3d\"},{\"hovertemplate\":\"color=id00478<br>symbol=D<br>x=%{x}<br>y=%{y}<br>z=%{z}<extra></extra>\",\"legendgroup\":\"id00478, D\",\"marker\":{\"color\":\"#B6E880\",\"opacity\":0.7,\"symbol\":\"square\"},\"mode\":\"markers\",\"name\":\"id00478, D\",\"scene\":\"scene\",\"showlegend\":true,\"x\":[-33.6002197265625,40.355369567871094,23.595325469970703,-10.134300231933594,-3.586873769760132,0.0555790439248085,30.430477142333984,42.0453987121582,-7.4133477210998535,-68.4739761352539],\"y\":[-17.896808624267578,-63.820068359375,-42.58635330200195,-36.834354400634766,19.13263511657715,-91.65950775146484,-14.78812313079834,-10.225950241088867,73.28661346435547,23.95393943786621],\"z\":[-57.246620178222656,63.02057647705078,65.38035583496094,2.9396073818206787,82.23403930664062,-80.81167602539062,-103.01915740966797,-59.24475860595703,-19.25539779663086,83.86310577392578],\"type\":\"scatter3d\"},{\"hovertemplate\":\"color=id00518<br>symbol=A<br>x=%{x}<br>y=%{y}<br>z=%{z}<extra></extra>\",\"legendgroup\":\"id00518, A\",\"marker\":{\"color\":\"#FF97FF\",\"opacity\":0.7,\"symbol\":\"circle\"},\"mode\":\"markers\",\"name\":\"id00518, A\",\"scene\":\"scene\",\"showlegend\":true,\"x\":[58.767578125],\"y\":[-8.259001731872559],\"z\":[56.920082092285156],\"type\":\"scatter3d\"},{\"hovertemplate\":\"color=id00518<br>symbol=C<br>x=%{x}<br>y=%{y}<br>z=%{z}<extra></extra>\",\"legendgroup\":\"id00518, C\",\"marker\":{\"color\":\"#FF97FF\",\"opacity\":0.7,\"symbol\":\"diamond\"},\"mode\":\"markers\",\"name\":\"id00518, C\",\"scene\":\"scene\",\"showlegend\":true,\"x\":[-30.642940521240234,-17.86652374267578,-22.408823013305664,39.614227294921875,-14.484468460083008,-2.8198115825653076,-49.162235260009766,-24.814838409423828,-13.559038162231445,113.3051528930664],\"y\":[117.6870346069336,-59.565303802490234,95.66636657714844,-14.18940544128418,53.88273239135742,-128.00315856933594,-111.80625915527344,-38.500221252441406,-108.31356048583984,30.825763702392578],\"z\":[-33.96649932861328,39.60368347167969,-25.13372039794922,100.63978576660156,-85.6129379272461,-19.65431022644043,-2.873573064804077,-84.90424346923828,-47.57421112060547,24.266653060913086],\"type\":\"scatter3d\"},{\"hovertemplate\":\"color=id00518<br>symbol=D<br>x=%{x}<br>y=%{y}<br>z=%{z}<extra></extra>\",\"legendgroup\":\"id00518, D\",\"marker\":{\"color\":\"#FF97FF\",\"opacity\":0.7,\"symbol\":\"square\"},\"mode\":\"markers\",\"name\":\"id00518, D\",\"scene\":\"scene\",\"showlegend\":true,\"x\":[-2.780088186264038,-24.147689819335938,21.617183685302734,21.718765258789062,69.62964630126953,95.7763671875,-32.366729736328125,69.98019409179688,-19.63719940185547],\"y\":[109.45246124267578,-23.403425216674805,96.43856811523438,42.2995719909668,-86.82719421386719,-11.839363098144531,-83.76531982421875,30.816312789916992,87.662109375],\"z\":[24.19113540649414,46.22871017456055,8.255821228027344,62.53506088256836,-55.31045913696289,-38.019935607910156,79.72142028808594,-68.4366455078125,49.35212326049805],\"type\":\"scatter3d\"},{\"hovertemplate\":\"color=id00701<br>symbol=A<br>x=%{x}<br>y=%{y}<br>z=%{z}<extra></extra>\",\"legendgroup\":\"id00701, A\",\"marker\":{\"color\":\"#FECB52\",\"opacity\":0.7,\"symbol\":\"circle\"},\"mode\":\"markers\",\"name\":\"id00701, A\",\"scene\":\"scene\",\"showlegend\":true,\"x\":[14.05947208404541],\"y\":[-38.60438537597656],\"z\":[-22.622995376586914],\"type\":\"scatter3d\"},{\"hovertemplate\":\"color=id00701<br>symbol=C<br>x=%{x}<br>y=%{y}<br>z=%{z}<extra></extra>\",\"legendgroup\":\"id00701, C\",\"marker\":{\"color\":\"#FECB52\",\"opacity\":0.7,\"symbol\":\"diamond\"},\"mode\":\"markers\",\"name\":\"id00701, C\",\"scene\":\"scene\",\"showlegend\":true,\"x\":[-9.295292854309082,-21.55508041381836,-57.00554656982422,82.55233764648438,72.71260833740234,24.84992790222168,-37.420692443847656,23.536779403686523,-50.05643844604492,101.218017578125],\"y\":[18.160072326660156,-55.22407531738281,-26.341703414916992,-5.586519241333008,-31.699630737304688,57.373260498046875,-24.620655059814453,-45.26066970825195,80.69379425048828,53.185726165771484],\"z\":[-4.59089994430542,-41.027950286865234,-61.962154388427734,19.061372756958008,-23.371118545532227,-85.22366333007812,-102.78694915771484,-86.11654663085938,-52.58126449584961,17.640182495117188],\"type\":\"scatter3d\"},{\"hovertemplate\":\"color=id00701<br>symbol=D<br>x=%{x}<br>y=%{y}<br>z=%{z}<extra></extra>\",\"legendgroup\":\"id00701, D\",\"marker\":{\"color\":\"#FECB52\",\"opacity\":0.7,\"symbol\":\"square\"},\"mode\":\"markers\",\"name\":\"id00701, D\",\"scene\":\"scene\",\"showlegend\":true,\"x\":[1.4334893226623535,8.504170417785645,29.62115478515625,38.47309494018555,14.61914348602295,-18.92317008972168,-16.847713470458984,-90.23540496826172,37.35848617553711,60.34327697753906],\"y\":[-1.0793834924697876,-94.13883972167969,41.88477325439453,1.0179429054260254,-71.59781646728516,-106.68660736083984,18.967737197875977,25.39202308654785,-87.67337036132812,59.211334228515625],\"z\":[-21.820865631103516,-41.5381965637207,-28.032453536987305,-34.92927551269531,69.73697662353516,-4.068335056304932,27.577728271484375,-1.9250125885009766,-7.154891490936279,26.16176414489746],\"type\":\"scatter3d\"},{\"hovertemplate\":\"color=id00761<br>symbol=A<br>x=%{x}<br>y=%{y}<br>z=%{z}<extra></extra>\",\"legendgroup\":\"id00761, A\",\"marker\":{\"color\":\"#636efa\",\"opacity\":0.7,\"symbol\":\"circle\"},\"mode\":\"markers\",\"name\":\"id00761, A\",\"scene\":\"scene\",\"showlegend\":true,\"x\":[23.676969528198242],\"y\":[96.67837524414062],\"z\":[-29.273916244506836],\"type\":\"scatter3d\"},{\"hovertemplate\":\"color=id00761<br>symbol=C<br>x=%{x}<br>y=%{y}<br>z=%{z}<extra></extra>\",\"legendgroup\":\"id00761, C\",\"marker\":{\"color\":\"#636efa\",\"opacity\":0.7,\"symbol\":\"diamond\"},\"mode\":\"markers\",\"name\":\"id00761, C\",\"scene\":\"scene\",\"showlegend\":true,\"x\":[-45.86313247680664,-48.54570770263672,-41.561649322509766,-6.356411457061768,-42.74674987792969,71.7354736328125,85.70407104492188,-73.80921936035156,-17.629674911499023,-22.16751480102539],\"y\":[117.75572204589844,9.914478302001953,-10.998552322387695,35.45107650756836,-59.190879821777344,6.4920148849487305,-37.573028564453125,-55.19541931152344,73.13506317138672,54.267181396484375],\"z\":[1.2072415351867676,10.388728141784668,94.14608764648438,-110.91117858886719,87.01557159423828,2.643326759338379,-65.91461181640625,75.24037170410156,-47.867191314697266,15.03010082244873],\"type\":\"scatter3d\"},{\"hovertemplate\":\"color=id00761<br>symbol=D<br>x=%{x}<br>y=%{y}<br>z=%{z}<extra></extra>\",\"legendgroup\":\"id00761, D\",\"marker\":{\"color\":\"#636efa\",\"opacity\":0.7,\"symbol\":\"square\"},\"mode\":\"markers\",\"name\":\"id00761, D\",\"scene\":\"scene\",\"showlegend\":true,\"x\":[35.034461975097656,9.102110862731934,37.690067291259766,-1.7089314460754395,65.67782592773438,10.415539741516113,25.0446720123291,-33.02283477783203,80.88023376464844,-22.440570831298828],\"y\":[22.781978607177734,-48.84187316894531,-34.82653045654297,-50.65252685546875,-53.73896789550781,-52.41936111450195,-40.4614372253418,44.699546813964844,1.752521276473999,-92.81005859375],\"z\":[72.09519958496094,47.01220703125,82.82559967041016,17.311832427978516,-7.642566680908203,-61.06926727294922,106.72317504882812,63.33905029296875,-53.371429443359375,-26.319284439086914],\"type\":\"scatter3d\"},{\"hovertemplate\":\"color=id00781<br>symbol=A<br>x=%{x}<br>y=%{y}<br>z=%{z}<extra></extra>\",\"legendgroup\":\"id00781, A\",\"marker\":{\"color\":\"#EF553B\",\"opacity\":0.7,\"symbol\":\"circle\"},\"mode\":\"markers\",\"name\":\"id00781, A\",\"scene\":\"scene\",\"showlegend\":true,\"x\":[20.001535415649414],\"y\":[-98.46517944335938],\"z\":[21.041152954101562],\"type\":\"scatter3d\"},{\"hovertemplate\":\"color=id00781<br>symbol=C<br>x=%{x}<br>y=%{y}<br>z=%{z}<extra></extra>\",\"legendgroup\":\"id00781, C\",\"marker\":{\"color\":\"#EF553B\",\"opacity\":0.7,\"symbol\":\"diamond\"},\"mode\":\"markers\",\"name\":\"id00781, C\",\"scene\":\"scene\",\"showlegend\":true,\"x\":[2.312757968902588,-16.18565559387207,51.490726470947266,-22.78853988647461,49.89988327026367,1.8994801044464111,-78.79692840576172,90.19715881347656,-19.422405242919922,-21.1699275970459],\"y\":[-30.07455825805664,18.49237632751465,44.864803314208984,-1.983770728111267,-4.0540289878845215,-124.39281463623047,5.094747543334961,34.49496078491211,76.71559143066406,-16.46431541442871],\"z\":[118.06531524658203,119.32212829589844,85.21231842041016,136.19955444335938,18.145666122436523,12.764845848083496,29.08688735961914,3.0435452461242676,18.990707397460938,112.88947296142578],\"type\":\"scatter3d\"},{\"hovertemplate\":\"color=id00781<br>symbol=D<br>x=%{x}<br>y=%{y}<br>z=%{z}<extra></extra>\",\"legendgroup\":\"id00781, D\",\"marker\":{\"color\":\"#EF553B\",\"opacity\":0.7,\"symbol\":\"square\"},\"mode\":\"markers\",\"name\":\"id00781, D\",\"scene\":\"scene\",\"showlegend\":true,\"x\":[24.586315155029297,27.572099685668945,-36.50780487060547,-29.340591430664062,24.635202407836914,2.4538278579711914,-10.925756454467773,21.261024475097656,-2.2649664878845215],\"y\":[66.34664154052734,14.363297462463379,-40.65635681152344,-13.813762664794922,-13.419149398803711,113.22784423828125,48.270782470703125,-112.48113250732422,-19.101768493652344],\"z\":[2.948645830154419,-72.18734741210938,40.31047439575195,68.0701904296875,12.213418960571289,-0.44641074538230896,-15.56203556060791,-14.393776893615723,24.022350311279297],\"type\":\"scatter3d\"},{\"hovertemplate\":\"color=id00830<br>symbol=A<br>x=%{x}<br>y=%{y}<br>z=%{z}<extra></extra>\",\"legendgroup\":\"id00830, A\",\"marker\":{\"color\":\"#00cc96\",\"opacity\":0.7,\"symbol\":\"circle\"},\"mode\":\"markers\",\"name\":\"id00830, A\",\"scene\":\"scene\",\"showlegend\":true,\"x\":[-10.739288330078125],\"y\":[-75.99424743652344],\"z\":[64.7767105102539],\"type\":\"scatter3d\"},{\"hovertemplate\":\"color=id00830<br>symbol=C<br>x=%{x}<br>y=%{y}<br>z=%{z}<extra></extra>\",\"legendgroup\":\"id00830, C\",\"marker\":{\"color\":\"#00cc96\",\"opacity\":0.7,\"symbol\":\"diamond\"},\"mode\":\"markers\",\"name\":\"id00830, C\",\"scene\":\"scene\",\"showlegend\":true,\"x\":[-58.70257568359375,-10.084362030029297,61.63154602050781,66.51873016357422,-0.7458716034889221,-50.52629089355469,-50.491886138916016,115.82495880126953,-28.252647399902344,-31.390615463256836],\"y\":[74.07372283935547,-54.52542495727539,-16.96506118774414,-18.204376220703125,116.3463134765625,24.013160705566406,-43.76152038574219,38.385711669921875,-101.09588623046875,53.9800910949707],\"z\":[57.572723388671875,-71.07874298095703,33.056861877441406,-77.69868469238281,-26.875768661499023,-26.509521484375,-79.67940521240234,-0.8816450834274292,43.30169677734375,-117.31775665283203],\"type\":\"scatter3d\"},{\"hovertemplate\":\"color=id00830<br>symbol=D<br>x=%{x}<br>y=%{y}<br>z=%{z}<extra></extra>\",\"legendgroup\":\"id00830, D\",\"marker\":{\"color\":\"#00cc96\",\"opacity\":0.7,\"symbol\":\"square\"},\"mode\":\"markers\",\"name\":\"id00830, D\",\"scene\":\"scene\",\"showlegend\":true,\"x\":[39.21796798706055,-28.55179214477539,36.467247009277344,-52.41066360473633,-49.32512283325195,52.58498001098633,11.704489707946777,-11.965567588806152,-2.283505916595459,-54.98316192626953],\"y\":[37.239776611328125,5.220455169677734,109.3199462890625,-103.68865966796875,59.262264251708984,62.33317184448242,82.183349609375,-82.48230743408203,-55.1611213684082,19.090412139892578],\"z\":[23.14358901977539,-81.24102783203125,31.23541259765625,-27.226858139038086,80.58263397216797,-91.34081268310547,-10.00298023223877,-8.819900512695312,-11.437027931213379,63.59542465209961],\"type\":\"scatter3d\"},{\"hovertemplate\":\"color=id00944<br>symbol=A<br>x=%{x}<br>y=%{y}<br>z=%{z}<extra></extra>\",\"legendgroup\":\"id00944, A\",\"marker\":{\"color\":\"#ab63fa\",\"opacity\":0.7,\"symbol\":\"circle\"},\"mode\":\"markers\",\"name\":\"id00944, A\",\"scene\":\"scene\",\"showlegend\":true,\"x\":[-14.824042320251465],\"y\":[84.9523696899414],\"z\":[81.43421173095703],\"type\":\"scatter3d\"},{\"hovertemplate\":\"color=id00944<br>symbol=C<br>x=%{x}<br>y=%{y}<br>z=%{z}<extra></extra>\",\"legendgroup\":\"id00944, C\",\"marker\":{\"color\":\"#ab63fa\",\"opacity\":0.7,\"symbol\":\"diamond\"},\"mode\":\"markers\",\"name\":\"id00944, C\",\"scene\":\"scene\",\"showlegend\":true,\"x\":[-16.40989112854004,80.35975646972656,3.7297301292419434,-84.25481414794922,13.264520645141602,-13.817910194396973,114.05117797851562,-72.9788589477539,-120.14000701904297,-76.85038757324219],\"y\":[-3.5238986015319824,52.23698806762695,84.11702728271484,42.70889663696289,77.20414733886719,30.218769073486328,4.3499321937561035,-94.9891357421875,-105.36298370361328,-68.89588165283203],\"z\":[40.877140045166016,-31.10504150390625,36.97625732421875,53.9980354309082,-54.07943344116211,-87.31505584716797,22.612621307373047,4.355015277862549,-0.529047429561615,28.327016830444336],\"type\":\"scatter3d\"},{\"hovertemplate\":\"color=id00944<br>symbol=D<br>x=%{x}<br>y=%{y}<br>z=%{z}<extra></extra>\",\"legendgroup\":\"id00944, D\",\"marker\":{\"color\":\"#ab63fa\",\"opacity\":0.7,\"symbol\":\"square\"},\"mode\":\"markers\",\"name\":\"id00944, D\",\"scene\":\"scene\",\"showlegend\":true,\"x\":[8.482866287231445,-6.526331901550293,-29.81036376953125,-29.17418670654297,42.91563415527344,-55.685028076171875,11.262251853942871,11.76632308959961,-55.12181091308594],\"y\":[56.07151412963867,-34.83893966674805,-54.01940155029297,-43.509490966796875,-106.27777099609375,46.96039581298828,-1.2353793382644653,-59.52460479736328,34.3442497253418],\"z\":[-66.08258819580078,43.856380462646484,13.334254264831543,64.29239654541016,-35.78749465942383,59.984107971191406,-52.0976448059082,-32.45814514160156,102.7494888305664],\"type\":\"scatter3d\"},{\"hovertemplate\":\"color=id00987<br>symbol=A<br>x=%{x}<br>y=%{y}<br>z=%{z}<extra></extra>\",\"legendgroup\":\"id00987, A\",\"marker\":{\"color\":\"#FFA15A\",\"opacity\":0.7,\"symbol\":\"circle\"},\"mode\":\"markers\",\"name\":\"id00987, A\",\"scene\":\"scene\",\"showlegend\":true,\"x\":[-44.286102294921875],\"y\":[-62.945987701416016],\"z\":[60.03171920776367],\"type\":\"scatter3d\"},{\"hovertemplate\":\"color=id00987<br>symbol=C<br>x=%{x}<br>y=%{y}<br>z=%{z}<extra></extra>\",\"legendgroup\":\"id00987, C\",\"marker\":{\"color\":\"#FFA15A\",\"opacity\":0.7,\"symbol\":\"diamond\"},\"mode\":\"markers\",\"name\":\"id00987, C\",\"scene\":\"scene\",\"showlegend\":true,\"x\":[48.020721435546875,81.86692810058594,-39.19147491455078,85.70407104492188,24.703594207763672,15.497896194458008,88.44284057617188,47.243812561035156,-34.385868072509766,-25.041343688964844],\"y\":[-4.418471336364746,-26.34010887145996,94.17866516113281,-37.573028564453125,43.814491271972656,43.83030319213867,37.59574508666992,-21.227121353149414,70.76748657226562,-19.24233627319336],\"z\":[-6.8064866065979,-101.80997467041016,-4.714870452880859,-65.91461181640625,-112.87284088134766,-6.615589141845703,32.98275375366211,-34.89234924316406,64.31739044189453,-14.372346878051758],\"type\":\"scatter3d\"},{\"hovertemplate\":\"color=id00987<br>symbol=D<br>x=%{x}<br>y=%{y}<br>z=%{z}<extra></extra>\",\"legendgroup\":\"id00987, D\",\"marker\":{\"color\":\"#FFA15A\",\"opacity\":0.7,\"symbol\":\"square\"},\"mode\":\"markers\",\"name\":\"id00987, D\",\"scene\":\"scene\",\"showlegend\":true,\"x\":[-16.38619613647461,-26.379756927490234,-52.641456604003906,23.02696418762207,61.74813461303711,0.7947714924812317,32.76700973510742,142.8850555419922,-31.533283233642578,-47.00642776489258],\"y\":[-5.752735614776611,-41.07845687866211,-0.7429128289222717,45.36903381347656,43.24721145629883,-72.74531555175781,-83.56958770751953,-18.081432342529297,-74.22513580322266,34.29990005493164],\"z\":[-47.94978713989258,96.42642211914062,-74.58939361572266,-50.12962341308594,4.734546184539795,93.6169204711914,-36.646183013916016,-62.38182067871094,-18.39191436767578,81.12550354003906],\"type\":\"scatter3d\"},{\"hovertemplate\":\"color=id01036<br>symbol=A<br>x=%{x}<br>y=%{y}<br>z=%{z}<extra></extra>\",\"legendgroup\":\"id01036, A\",\"marker\":{\"color\":\"#19d3f3\",\"opacity\":0.7,\"symbol\":\"circle\"},\"mode\":\"markers\",\"name\":\"id01036, A\",\"scene\":\"scene\",\"showlegend\":true,\"x\":[-42.038814544677734],\"y\":[33.03807067871094],\"z\":[-52.30868148803711],\"type\":\"scatter3d\"},{\"hovertemplate\":\"color=id01036<br>symbol=C<br>x=%{x}<br>y=%{y}<br>z=%{z}<extra></extra>\",\"legendgroup\":\"id01036, C\",\"marker\":{\"color\":\"#19d3f3\",\"opacity\":0.7,\"symbol\":\"diamond\"},\"mode\":\"markers\",\"name\":\"id01036, C\",\"scene\":\"scene\",\"showlegend\":true,\"x\":[-9.326281547546387,63.58922576904297,-47.119388580322266,9.185196876525879,44.850704193115234,7.260928630828857,-72.82032012939453,-23.41064453125,-27.308284759521484,-23.98417091369629],\"y\":[-53.1908073425293,-3.2106528282165527,118.29705047607422,19.815099716186523,14.317572593688965,58.01787185668945,-54.55862045288086,-70.68024444580078,94.8461685180664,72.53012084960938],\"z\":[-94.00323486328125,-28.797155380249023,26.471263885498047,-123.12537384033203,30.045597076416016,-102.06317901611328,-56.84358596801758,102.23228454589844,-52.474220275878906,-2.179938316345215],\"type\":\"scatter3d\"},{\"hovertemplate\":\"color=id01036<br>symbol=D<br>x=%{x}<br>y=%{y}<br>z=%{z}<extra></extra>\",\"legendgroup\":\"id01036, D\",\"marker\":{\"color\":\"#19d3f3\",\"opacity\":0.7,\"symbol\":\"square\"},\"mode\":\"markers\",\"name\":\"id01036, D\",\"scene\":\"scene\",\"showlegend\":true,\"x\":[-47.099647521972656,5.586287021636963,-7.740741729736328,-155.1390380859375,-37.44120407104492,41.788944244384766,-25.64723014831543,63.618736267089844,33.526222229003906,75.25337219238281],\"y\":[20.832382202148438,-5.260399341583252,23.740337371826172,-77.51666259765625,-92.94123840332031,-74.71613311767578,39.92969512939453,25.616823196411133,-10.186875343322754,53.767295837402344],\"z\":[-85.8675765991211,-95.97695922851562,-42.633419036865234,13.983662605285645,-8.324411392211914,17.4000301361084,-38.04237365722656,19.337961196899414,72.91337585449219,-80.10112762451172],\"type\":\"scatter3d\"},{\"hovertemplate\":\"color=id01076<br>symbol=A<br>x=%{x}<br>y=%{y}<br>z=%{z}<extra></extra>\",\"legendgroup\":\"id01076, A\",\"marker\":{\"color\":\"#FF6692\",\"opacity\":0.7,\"symbol\":\"circle\"},\"mode\":\"markers\",\"name\":\"id01076, A\",\"scene\":\"scene\",\"showlegend\":true,\"x\":[-61.658103942871094],\"y\":[-40.20998001098633],\"z\":[103.4297866821289],\"type\":\"scatter3d\"},{\"hovertemplate\":\"color=id01076<br>symbol=C<br>x=%{x}<br>y=%{y}<br>z=%{z}<extra></extra>\",\"legendgroup\":\"id01076, C\",\"marker\":{\"color\":\"#FF6692\",\"opacity\":0.7,\"symbol\":\"diamond\"},\"mode\":\"markers\",\"name\":\"id01076, C\",\"scene\":\"scene\",\"showlegend\":true,\"x\":[-81.8243179321289,27.24081802368164,-34.78450012207031,-54.5994758605957,-85.22051239013672,68.28425598144531,39.23622512817383,-20.53485679626465,57.171390533447266,1.4141465425491333],\"y\":[54.50801467895508,119.15062713623047,40.81582260131836,6.682329177856445,-20.82705307006836,-15.250197410583496,-59.10812759399414,123.21721649169922,-38.247371673583984,83.37239837646484],\"z\":[16.003324508666992,-6.614960193634033,-74.84642028808594,-110.2835693359375,-41.334590911865234,85.85456848144531,-103.43634796142578,-10.622241020202637,-57.921504974365234,15.336485862731934],\"type\":\"scatter3d\"},{\"hovertemplate\":\"color=id01076<br>symbol=D<br>x=%{x}<br>y=%{y}<br>z=%{z}<extra></extra>\",\"legendgroup\":\"id01076, D\",\"marker\":{\"color\":\"#FF6692\",\"opacity\":0.7,\"symbol\":\"square\"},\"mode\":\"markers\",\"name\":\"id01076, D\",\"scene\":\"scene\",\"showlegend\":true,\"x\":[35.14933776855469,-41.11564636230469,-72.89990234375,64.46736145019531,-4.412398338317871,9.197553634643555,5.01080322265625,-57.36005783081055,-21.1296443939209,-25.4384708404541],\"y\":[-27.493730545043945,-11.680521965026855,-77.73117065429688,195.38900756835938,-36.69511032104492,51.73556137084961,-8.68040943145752,-83.04498291015625,-3.3147878646850586,29.385183334350586],\"z\":[-9.677589416503906,27.048803329467773,57.61995315551758,110.94775390625,67.71272277832031,44.45322799682617,3.4231958389282227,-17.9877872467041,11.253890991210938,84.4975814819336],\"type\":\"scatter3d\"},{\"hovertemplate\":\"color=id01170<br>symbol=A<br>x=%{x}<br>y=%{y}<br>z=%{z}<extra></extra>\",\"legendgroup\":\"id01170, A\",\"marker\":{\"color\":\"#B6E880\",\"opacity\":0.7,\"symbol\":\"circle\"},\"mode\":\"markers\",\"name\":\"id01170, A\",\"scene\":\"scene\",\"showlegend\":true,\"x\":[11.995917320251465],\"y\":[36.10293960571289],\"z\":[95.46892547607422],\"type\":\"scatter3d\"},{\"hovertemplate\":\"color=id01170<br>symbol=C<br>x=%{x}<br>y=%{y}<br>z=%{z}<extra></extra>\",\"legendgroup\":\"id01170, C\",\"marker\":{\"color\":\"#B6E880\",\"opacity\":0.7,\"symbol\":\"diamond\"},\"mode\":\"markers\",\"name\":\"id01170, C\",\"scene\":\"scene\",\"showlegend\":true,\"x\":[-32.018863677978516,-29.84690284729004,-71.1992416381836,-10.333150863647461,-21.38755989074707,-73.80921936035156,-29.697872161865234,-40.8892822265625,-32.16366958618164,-59.002689361572266],\"y\":[62.09410095214844,43.64938735961914,-0.33389344811439514,-89.32941436767578,21.747297286987305,-55.19541931152344,29.642820358276367,68.11936950683594,-37.80276870727539,-85.67782592773438],\"z\":[40.9685173034668,107.49262237548828,91.7856216430664,14.051459312438965,-63.52167892456055,75.24037170410156,7.1488356590271,12.973007202148438,-25.379432678222656,34.64550018310547],\"type\":\"scatter3d\"},{\"hovertemplate\":\"color=id01170<br>symbol=D<br>x=%{x}<br>y=%{y}<br>z=%{z}<extra></extra>\",\"legendgroup\":\"id01170, D\",\"marker\":{\"color\":\"#B6E880\",\"opacity\":0.7,\"symbol\":\"square\"},\"mode\":\"markers\",\"name\":\"id01170, D\",\"scene\":\"scene\",\"showlegend\":true,\"x\":[-14.647002220153809,-48.70526123046875,39.94428253173828,-26.237716674804688,-4.861717700958252,-0.5568658709526062,30.430477142333984,-23.39889907836914,20.491838455200195,56.623958587646484],\"y\":[-7.714502334594727,-60.525569915771484,4.852160453796387,-54.02666473388672,39.87664031982422,-24.571868896484375,-14.78812313079834,-29.686967849731445,-72.78221893310547,-91.7140884399414],\"z\":[-70.0143051147461,-7.095730304718018,50.46383285522461,-10.95461368560791,31.25531578063965,-41.69382858276367,-103.01915740966797,20.601961135864258,-84.96208953857422,-19.23487091064453],\"type\":\"scatter3d\"},{\"hovertemplate\":\"color=id01171<br>symbol=A<br>x=%{x}<br>y=%{y}<br>z=%{z}<extra></extra>\",\"legendgroup\":\"id01171, A\",\"marker\":{\"color\":\"#FF97FF\",\"opacity\":0.7,\"symbol\":\"circle\"},\"mode\":\"markers\",\"name\":\"id01171, A\",\"scene\":\"scene\",\"showlegend\":true,\"x\":[-9.047182083129883],\"y\":[91.18061828613281],\"z\":[-2.4684627056121826],\"type\":\"scatter3d\"},{\"hovertemplate\":\"color=id01171<br>symbol=C<br>x=%{x}<br>y=%{y}<br>z=%{z}<extra></extra>\",\"legendgroup\":\"id01171, C\",\"marker\":{\"color\":\"#FF97FF\",\"opacity\":0.7,\"symbol\":\"diamond\"},\"mode\":\"markers\",\"name\":\"id01171, C\",\"scene\":\"scene\",\"showlegend\":true,\"x\":[-10.493051528930664,39.79376220703125,-66.1873779296875,24.936962127685547,65.01837158203125,-32.75090408325195,-14.693061828613281,63.6761589050293,-69.24504852294922,0.45981210470199585],\"y\":[34.3019905090332,-47.24565124511719,-31.80935287475586,8.266908645629883,7.939319610595703,-42.51073455810547,-21.816638946533203,79.33110809326172,106.248779296875,56.065853118896484],\"z\":[57.93598556518555,-32.04425048828125,4.385717391967773,91.23603057861328,38.29755401611328,-62.965858459472656,85.21161651611328,-32.035831451416016,14.270257949829102,-40.67743682861328],\"type\":\"scatter3d\"},{\"hovertemplate\":\"color=id01171<br>symbol=D<br>x=%{x}<br>y=%{y}<br>z=%{z}<extra></extra>\",\"legendgroup\":\"id01171, D\",\"marker\":{\"color\":\"#FF97FF\",\"opacity\":0.7,\"symbol\":\"square\"},\"mode\":\"markers\",\"name\":\"id01171, D\",\"scene\":\"scene\",\"showlegend\":true,\"x\":[-33.65770721435547,18.432933807373047,7.28796911239624,49.23337936401367,97.04310607910156,16.92913818359375,-40.19435501098633,45.2164306640625,-32.95240783691406,51.04920959472656],\"y\":[-77.90103912353516,13.024955749511719,3.920957088470459,-57.83554458618164,21.763517379760742,-64.31377410888672,-53.862430572509766,22.943660736083984,-96.57501983642578,11.561089515686035],\"z\":[36.48619842529297,55.9112434387207,22.288177490234375,2.870126724243164,-38.3372688293457,110.45033264160156,115.91835021972656,-26.303375244140625,13.591689109802246,-79.94819641113281],\"type\":\"scatter3d\"},{\"hovertemplate\":\"color=id01179<br>symbol=A<br>x=%{x}<br>y=%{y}<br>z=%{z}<extra></extra>\",\"legendgroup\":\"id01179, A\",\"marker\":{\"color\":\"#FECB52\",\"opacity\":0.7,\"symbol\":\"circle\"},\"mode\":\"markers\",\"name\":\"id01179, A\",\"scene\":\"scene\",\"showlegend\":true,\"x\":[-79.24479675292969],\"y\":[-63.996315002441406],\"z\":[-11.439593315124512],\"type\":\"scatter3d\"},{\"hovertemplate\":\"color=id01179<br>symbol=C<br>x=%{x}<br>y=%{y}<br>z=%{z}<extra></extra>\",\"legendgroup\":\"id01179, C\",\"marker\":{\"color\":\"#FECB52\",\"opacity\":0.7,\"symbol\":\"diamond\"},\"mode\":\"markers\",\"name\":\"id01179, C\",\"scene\":\"scene\",\"showlegend\":true,\"x\":[18.03653907775879,-53.26777648925781,-23.14437484741211,-81.67412567138672,-42.95977020263672,6.087573528289795,32.55146026611328,-53.94261932373047,-31.773597717285156,28.78495216369629],\"y\":[-29.661832809448242,-111.72142791748047,95.51718139648438,-6.59385347366333,-22.517627716064453,31.46129608154297,10.73261547088623,-2.8215441703796387,63.281097412109375,96.09830474853516],\"z\":[34.74776077270508,26.996337890625,28.680925369262695,61.11499786376953,-37.580894470214844,-24.098018646240234,11.874013900756836,-20.62377166748047,-66.39155578613281,58.55873489379883],\"type\":\"scatter3d\"},{\"hovertemplate\":\"color=id01179<br>symbol=D<br>x=%{x}<br>y=%{y}<br>z=%{z}<extra></extra>\",\"legendgroup\":\"id01179, D\",\"marker\":{\"color\":\"#FECB52\",\"opacity\":0.7,\"symbol\":\"square\"},\"mode\":\"markers\",\"name\":\"id01179, D\",\"scene\":\"scene\",\"showlegend\":true,\"x\":[-46.298728942871094,49.99457550048828,20.716596603393555,8.722357749938965,8.063100814819336,30.430477142333984,-59.2072639465332,-80.50582885742188,19.38595962524414,-41.59797286987305],\"y\":[-21.61560821533203,-38.80237579345703,-54.16319274902344,29.92564582824707,37.12440872192383,-14.78812313079834,77.57797241210938,-17.259811401367188,-54.65671157836914,-84.29231262207031],\"z\":[55.64426803588867,56.799129486083984,16.066129684448242,-56.47711181640625,-80.06488037109375,-103.01915740966797,-4.489946365356445,-71.88982391357422,86.90914154052734,-38.31880569458008],\"type\":\"scatter3d\"}],                        {\"template\":{\"data\":{\"bar\":[{\"error_x\":{\"color\":\"#2a3f5f\"},\"error_y\":{\"color\":\"#2a3f5f\"},\"marker\":{\"line\":{\"color\":\"#E5ECF6\",\"width\":0.5},\"pattern\":{\"fillmode\":\"overlay\",\"size\":10,\"solidity\":0.2}},\"type\":\"bar\"}],\"barpolar\":[{\"marker\":{\"line\":{\"color\":\"#E5ECF6\",\"width\":0.5},\"pattern\":{\"fillmode\":\"overlay\",\"size\":10,\"solidity\":0.2}},\"type\":\"barpolar\"}],\"carpet\":[{\"aaxis\":{\"endlinecolor\":\"#2a3f5f\",\"gridcolor\":\"white\",\"linecolor\":\"white\",\"minorgridcolor\":\"white\",\"startlinecolor\":\"#2a3f5f\"},\"baxis\":{\"endlinecolor\":\"#2a3f5f\",\"gridcolor\":\"white\",\"linecolor\":\"white\",\"minorgridcolor\":\"white\",\"startlinecolor\":\"#2a3f5f\"},\"type\":\"carpet\"}],\"choropleth\":[{\"colorbar\":{\"outlinewidth\":0,\"ticks\":\"\"},\"type\":\"choropleth\"}],\"contour\":[{\"colorbar\":{\"outlinewidth\":0,\"ticks\":\"\"},\"colorscale\":[[0.0,\"#0d0887\"],[0.1111111111111111,\"#46039f\"],[0.2222222222222222,\"#7201a8\"],[0.3333333333333333,\"#9c179e\"],[0.4444444444444444,\"#bd3786\"],[0.5555555555555556,\"#d8576b\"],[0.6666666666666666,\"#ed7953\"],[0.7777777777777778,\"#fb9f3a\"],[0.8888888888888888,\"#fdca26\"],[1.0,\"#f0f921\"]],\"type\":\"contour\"}],\"contourcarpet\":[{\"colorbar\":{\"outlinewidth\":0,\"ticks\":\"\"},\"type\":\"contourcarpet\"}],\"heatmap\":[{\"colorbar\":{\"outlinewidth\":0,\"ticks\":\"\"},\"colorscale\":[[0.0,\"#0d0887\"],[0.1111111111111111,\"#46039f\"],[0.2222222222222222,\"#7201a8\"],[0.3333333333333333,\"#9c179e\"],[0.4444444444444444,\"#bd3786\"],[0.5555555555555556,\"#d8576b\"],[0.6666666666666666,\"#ed7953\"],[0.7777777777777778,\"#fb9f3a\"],[0.8888888888888888,\"#fdca26\"],[1.0,\"#f0f921\"]],\"type\":\"heatmap\"}],\"heatmapgl\":[{\"colorbar\":{\"outlinewidth\":0,\"ticks\":\"\"},\"colorscale\":[[0.0,\"#0d0887\"],[0.1111111111111111,\"#46039f\"],[0.2222222222222222,\"#7201a8\"],[0.3333333333333333,\"#9c179e\"],[0.4444444444444444,\"#bd3786\"],[0.5555555555555556,\"#d8576b\"],[0.6666666666666666,\"#ed7953\"],[0.7777777777777778,\"#fb9f3a\"],[0.8888888888888888,\"#fdca26\"],[1.0,\"#f0f921\"]],\"type\":\"heatmapgl\"}],\"histogram\":[{\"marker\":{\"pattern\":{\"fillmode\":\"overlay\",\"size\":10,\"solidity\":0.2}},\"type\":\"histogram\"}],\"histogram2d\":[{\"colorbar\":{\"outlinewidth\":0,\"ticks\":\"\"},\"colorscale\":[[0.0,\"#0d0887\"],[0.1111111111111111,\"#46039f\"],[0.2222222222222222,\"#7201a8\"],[0.3333333333333333,\"#9c179e\"],[0.4444444444444444,\"#bd3786\"],[0.5555555555555556,\"#d8576b\"],[0.6666666666666666,\"#ed7953\"],[0.7777777777777778,\"#fb9f3a\"],[0.8888888888888888,\"#fdca26\"],[1.0,\"#f0f921\"]],\"type\":\"histogram2d\"}],\"histogram2dcontour\":[{\"colorbar\":{\"outlinewidth\":0,\"ticks\":\"\"},\"colorscale\":[[0.0,\"#0d0887\"],[0.1111111111111111,\"#46039f\"],[0.2222222222222222,\"#7201a8\"],[0.3333333333333333,\"#9c179e\"],[0.4444444444444444,\"#bd3786\"],[0.5555555555555556,\"#d8576b\"],[0.6666666666666666,\"#ed7953\"],[0.7777777777777778,\"#fb9f3a\"],[0.8888888888888888,\"#fdca26\"],[1.0,\"#f0f921\"]],\"type\":\"histogram2dcontour\"}],\"mesh3d\":[{\"colorbar\":{\"outlinewidth\":0,\"ticks\":\"\"},\"type\":\"mesh3d\"}],\"parcoords\":[{\"line\":{\"colorbar\":{\"outlinewidth\":0,\"ticks\":\"\"}},\"type\":\"parcoords\"}],\"pie\":[{\"automargin\":true,\"type\":\"pie\"}],\"scatter\":[{\"marker\":{\"colorbar\":{\"outlinewidth\":0,\"ticks\":\"\"}},\"type\":\"scatter\"}],\"scatter3d\":[{\"line\":{\"colorbar\":{\"outlinewidth\":0,\"ticks\":\"\"}},\"marker\":{\"colorbar\":{\"outlinewidth\":0,\"ticks\":\"\"}},\"type\":\"scatter3d\"}],\"scattercarpet\":[{\"marker\":{\"colorbar\":{\"outlinewidth\":0,\"ticks\":\"\"}},\"type\":\"scattercarpet\"}],\"scattergeo\":[{\"marker\":{\"colorbar\":{\"outlinewidth\":0,\"ticks\":\"\"}},\"type\":\"scattergeo\"}],\"scattergl\":[{\"marker\":{\"colorbar\":{\"outlinewidth\":0,\"ticks\":\"\"}},\"type\":\"scattergl\"}],\"scattermapbox\":[{\"marker\":{\"colorbar\":{\"outlinewidth\":0,\"ticks\":\"\"}},\"type\":\"scattermapbox\"}],\"scatterpolar\":[{\"marker\":{\"colorbar\":{\"outlinewidth\":0,\"ticks\":\"\"}},\"type\":\"scatterpolar\"}],\"scatterpolargl\":[{\"marker\":{\"colorbar\":{\"outlinewidth\":0,\"ticks\":\"\"}},\"type\":\"scatterpolargl\"}],\"scatterternary\":[{\"marker\":{\"colorbar\":{\"outlinewidth\":0,\"ticks\":\"\"}},\"type\":\"scatterternary\"}],\"surface\":[{\"colorbar\":{\"outlinewidth\":0,\"ticks\":\"\"},\"colorscale\":[[0.0,\"#0d0887\"],[0.1111111111111111,\"#46039f\"],[0.2222222222222222,\"#7201a8\"],[0.3333333333333333,\"#9c179e\"],[0.4444444444444444,\"#bd3786\"],[0.5555555555555556,\"#d8576b\"],[0.6666666666666666,\"#ed7953\"],[0.7777777777777778,\"#fb9f3a\"],[0.8888888888888888,\"#fdca26\"],[1.0,\"#f0f921\"]],\"type\":\"surface\"}],\"table\":[{\"cells\":{\"fill\":{\"color\":\"#EBF0F8\"},\"line\":{\"color\":\"white\"}},\"header\":{\"fill\":{\"color\":\"#C8D4E3\"},\"line\":{\"color\":\"white\"}},\"type\":\"table\"}]},\"layout\":{\"annotationdefaults\":{\"arrowcolor\":\"#2a3f5f\",\"arrowhead\":0,\"arrowwidth\":1},\"autotypenumbers\":\"strict\",\"coloraxis\":{\"colorbar\":{\"outlinewidth\":0,\"ticks\":\"\"}},\"colorscale\":{\"diverging\":[[0,\"#8e0152\"],[0.1,\"#c51b7d\"],[0.2,\"#de77ae\"],[0.3,\"#f1b6da\"],[0.4,\"#fde0ef\"],[0.5,\"#f7f7f7\"],[0.6,\"#e6f5d0\"],[0.7,\"#b8e186\"],[0.8,\"#7fbc41\"],[0.9,\"#4d9221\"],[1,\"#276419\"]],\"sequential\":[[0.0,\"#0d0887\"],[0.1111111111111111,\"#46039f\"],[0.2222222222222222,\"#7201a8\"],[0.3333333333333333,\"#9c179e\"],[0.4444444444444444,\"#bd3786\"],[0.5555555555555556,\"#d8576b\"],[0.6666666666666666,\"#ed7953\"],[0.7777777777777778,\"#fb9f3a\"],[0.8888888888888888,\"#fdca26\"],[1.0,\"#f0f921\"]],\"sequentialminus\":[[0.0,\"#0d0887\"],[0.1111111111111111,\"#46039f\"],[0.2222222222222222,\"#7201a8\"],[0.3333333333333333,\"#9c179e\"],[0.4444444444444444,\"#bd3786\"],[0.5555555555555556,\"#d8576b\"],[0.6666666666666666,\"#ed7953\"],[0.7777777777777778,\"#fb9f3a\"],[0.8888888888888888,\"#fdca26\"],[1.0,\"#f0f921\"]]},\"colorway\":[\"#636efa\",\"#EF553B\",\"#00cc96\",\"#ab63fa\",\"#FFA15A\",\"#19d3f3\",\"#FF6692\",\"#B6E880\",\"#FF97FF\",\"#FECB52\"],\"font\":{\"color\":\"#2a3f5f\"},\"geo\":{\"bgcolor\":\"white\",\"lakecolor\":\"white\",\"landcolor\":\"#E5ECF6\",\"showlakes\":true,\"showland\":true,\"subunitcolor\":\"white\"},\"hoverlabel\":{\"align\":\"left\"},\"hovermode\":\"closest\",\"mapbox\":{\"style\":\"light\"},\"paper_bgcolor\":\"white\",\"plot_bgcolor\":\"#E5ECF6\",\"polar\":{\"angularaxis\":{\"gridcolor\":\"white\",\"linecolor\":\"white\",\"ticks\":\"\"},\"bgcolor\":\"#E5ECF6\",\"radialaxis\":{\"gridcolor\":\"white\",\"linecolor\":\"white\",\"ticks\":\"\"}},\"scene\":{\"xaxis\":{\"backgroundcolor\":\"#E5ECF6\",\"gridcolor\":\"white\",\"gridwidth\":2,\"linecolor\":\"white\",\"showbackground\":true,\"ticks\":\"\",\"zerolinecolor\":\"white\"},\"yaxis\":{\"backgroundcolor\":\"#E5ECF6\",\"gridcolor\":\"white\",\"gridwidth\":2,\"linecolor\":\"white\",\"showbackground\":true,\"ticks\":\"\",\"zerolinecolor\":\"white\"},\"zaxis\":{\"backgroundcolor\":\"#E5ECF6\",\"gridcolor\":\"white\",\"gridwidth\":2,\"linecolor\":\"white\",\"showbackground\":true,\"ticks\":\"\",\"zerolinecolor\":\"white\"}},\"shapedefaults\":{\"line\":{\"color\":\"#2a3f5f\"}},\"ternary\":{\"aaxis\":{\"gridcolor\":\"white\",\"linecolor\":\"white\",\"ticks\":\"\"},\"baxis\":{\"gridcolor\":\"white\",\"linecolor\":\"white\",\"ticks\":\"\"},\"bgcolor\":\"#E5ECF6\",\"caxis\":{\"gridcolor\":\"white\",\"linecolor\":\"white\",\"ticks\":\"\"}},\"title\":{\"x\":0.05},\"xaxis\":{\"automargin\":true,\"gridcolor\":\"white\",\"linecolor\":\"white\",\"ticks\":\"\",\"title\":{\"standoff\":15},\"zerolinecolor\":\"white\",\"zerolinewidth\":2},\"yaxis\":{\"automargin\":true,\"gridcolor\":\"white\",\"linecolor\":\"white\",\"ticks\":\"\",\"title\":{\"standoff\":15},\"zerolinecolor\":\"white\",\"zerolinewidth\":2}}},\"scene\":{\"domain\":{\"x\":[0.0,1.0],\"y\":[0.0,1.0]},\"xaxis\":{\"title\":{\"text\":\"x\"}},\"yaxis\":{\"title\":{\"text\":\"y\"}},\"zaxis\":{\"title\":{\"text\":\"z\"}}},\"legend\":{\"title\":{\"text\":\"color, symbol\"},\"tracegroupgap\":0},\"margin\":{\"t\":0,\"l\":0,\"r\":0,\"b\":0}},                        {\"responsive\": true}                    ).then(function(){\n",
              "                            \n",
              "var gd = document.getElementById('9da96557-6968-4419-8563-ad08ba1c35dd');\n",
              "var x = new MutationObserver(function (mutations, observer) {{\n",
              "        var display = window.getComputedStyle(gd).display;\n",
              "        if (!display || display === 'none') {{\n",
              "            console.log([gd, 'removed!']);\n",
              "            Plotly.purge(gd);\n",
              "            observer.disconnect();\n",
              "        }}\n",
              "}});\n",
              "\n",
              "// Listen for the removal of the full notebook cells\n",
              "var notebookContainer = gd.closest('#notebook-container');\n",
              "if (notebookContainer) {{\n",
              "    x.observe(notebookContainer, {childList: true});\n",
              "}}\n",
              "\n",
              "// Listen for the clearing of the current output cell\n",
              "var outputEl = gd.closest('.output');\n",
              "if (outputEl) {{\n",
              "    x.observe(outputEl, {childList: true});\n",
              "}}\n",
              "\n",
              "                        })                };                            </script>        </div>\n",
              "</body>\n",
              "</html>"
            ]
          },
          "metadata": {}
        }
      ]
    },
    {
      "cell_type": "markdown",
      "source": [
        "## Kaggle Version \n",
        "\n",
        "[Source](https://www.kaggle.com/code/ashkhagan/audio-dataset-analysis-4)"
      ],
      "metadata": {
        "id": "Yb9B9IOBwnkk"
      }
    },
    {
      "cell_type": "code",
      "source": [
        "def get_features(y, sr):\n",
        "    y = y[0:sr]  # analyze just first second\n",
        "    S = librosa.feature.melspectrogram(y, sr=sr, n_mels=128)\n",
        "    log_S = librosa.amplitude_to_db(S, ref=np.max)\n",
        "    mfcc = librosa.feature.mfcc(S=log_S, n_mfcc=13)\n",
        "    delta_mfcc = librosa.feature.delta(mfcc, mode='nearest')\n",
        "    delta2_mfcc = librosa.feature.delta(mfcc, order=2, mode='nearest')\n",
        "    feature_vector = np.concatenate((np.mean(mfcc,1), np.mean(delta_mfcc,1), np.mean(delta2_mfcc,1)))\n",
        "    feature_vector = (feature_vector-np.mean(feature_vector)) / np.std(feature_vector)\n",
        "    return feature_vector"
      ],
      "metadata": {
        "id": "-g5MLo13wnTf"
      },
      "execution_count": 83,
      "outputs": []
    },
    {
      "cell_type": "code",
      "source": [
        "feat_vecs = []\n",
        "for wav in wav_filepaths:\n",
        "  y, sr = librosa.load(wav)\n",
        "  feat = get_features(y, sr)\n",
        "  feat_vecs.append(feat)"
      ],
      "metadata": {
        "id": "eNbrwrDMw48O"
      },
      "execution_count": 84,
      "outputs": []
    },
    {
      "cell_type": "code",
      "source": [
        "model4 = TSNE(n_components=2, learning_rate=150, perplexity=5, verbose=2, angle=0.1).fit_transform(feat_vecs)"
      ],
      "metadata": {
        "colab": {
          "base_uri": "https://localhost:8080/"
        },
        "id": "iNeTDMx6ykhh",
        "outputId": "539fe48f-d17c-4483-d28e-0997c31162e5"
      },
      "execution_count": 87,
      "outputs": [
        {
          "output_type": "stream",
          "name": "stderr",
          "text": [
            "/usr/local/lib/python3.7/dist-packages/sklearn/manifold/_t_sne.py:783: FutureWarning:\n",
            "\n",
            "The default initialization in TSNE will change from 'random' to 'pca' in 1.2.\n",
            "\n"
          ]
        },
        {
          "output_type": "stream",
          "name": "stdout",
          "text": [
            "[t-SNE] Computing 16 nearest neighbors...\n",
            "[t-SNE] Indexed 427 samples in 0.000s...\n",
            "[t-SNE] Computed neighbors for 427 samples in 0.009s...\n",
            "[t-SNE] Computed conditional probabilities for sample 427 / 427\n",
            "[t-SNE] Mean sigma: 0.000000\n",
            "[t-SNE] Computed conditional probabilities in 0.014s\n",
            "[t-SNE] Iteration 50: error = 75.8653717, gradient norm = 0.5754599 (50 iterations in 0.154s)\n",
            "[t-SNE] Iteration 100: error = 65.5800476, gradient norm = 0.5759994 (50 iterations in 0.069s)\n",
            "[t-SNE] Iteration 150: error = 61.5863533, gradient norm = 0.5477695 (50 iterations in 0.065s)\n",
            "[t-SNE] Iteration 200: error = 57.8048401, gradient norm = 0.5764118 (50 iterations in 0.059s)\n",
            "[t-SNE] Iteration 250: error = 56.6864967, gradient norm = 0.5700104 (50 iterations in 0.056s)\n",
            "[t-SNE] KL divergence after 250 iterations with early exaggeration: 56.686497\n",
            "[t-SNE] Iteration 300: error = 0.4064005, gradient norm = 0.0042203 (50 iterations in 0.059s)\n",
            "[t-SNE] Iteration 350: error = 0.2299969, gradient norm = 0.0010469 (50 iterations in 0.057s)\n",
            "[t-SNE] Iteration 400: error = 0.1811907, gradient norm = 0.0005398 (50 iterations in 0.059s)\n",
            "[t-SNE] Iteration 450: error = 0.1602655, gradient norm = 0.0003920 (50 iterations in 0.059s)\n",
            "[t-SNE] Iteration 500: error = 0.1483524, gradient norm = 0.0002606 (50 iterations in 0.058s)\n",
            "[t-SNE] Iteration 550: error = 0.1406897, gradient norm = 0.0002464 (50 iterations in 0.057s)\n",
            "[t-SNE] Iteration 600: error = 0.1352404, gradient norm = 0.0001917 (50 iterations in 0.057s)\n",
            "[t-SNE] Iteration 650: error = 0.1312857, gradient norm = 0.0001737 (50 iterations in 0.056s)\n",
            "[t-SNE] Iteration 700: error = 0.1281865, gradient norm = 0.0001509 (50 iterations in 0.061s)\n",
            "[t-SNE] Iteration 750: error = 0.1256844, gradient norm = 0.0001438 (50 iterations in 0.055s)\n",
            "[t-SNE] Iteration 800: error = 0.1236347, gradient norm = 0.0001343 (50 iterations in 0.060s)\n",
            "[t-SNE] Iteration 850: error = 0.1219160, gradient norm = 0.0001184 (50 iterations in 0.087s)\n",
            "[t-SNE] Iteration 900: error = 0.1205145, gradient norm = 0.0001140 (50 iterations in 0.062s)\n",
            "[t-SNE] Iteration 950: error = 0.1193551, gradient norm = 0.0001138 (50 iterations in 0.060s)\n",
            "[t-SNE] Iteration 1000: error = 0.1171239, gradient norm = 0.0000999 (50 iterations in 0.072s)\n",
            "[t-SNE] KL divergence after 1000 iterations: 0.117124\n"
          ]
        }
      ]
    },
    {
      "cell_type": "code",
      "source": [
        "x_axis=model4[:,0]\n",
        "y_axis=model4[:,1]\n",
        "fig = px.scatter(x=x_axis, \n",
        "                 y=y_axis,\n",
        "                 symbol=category,\n",
        "                 color=sources)\n",
        "fig.show()"
      ],
      "metadata": {
        "colab": {
          "base_uri": "https://localhost:8080/",
          "height": 563
        },
        "id": "qetbQqHj025W",
        "outputId": "7f4588e0-73bd-4b9e-928c-fd54cf090aa3"
      },
      "execution_count": 88,
      "outputs": [
        {
          "output_type": "display_data",
          "data": {
            "text/html": [
              "<html>\n",
              "<head><meta charset=\"utf-8\" /></head>\n",
              "<body>\n",
              "    <div>            <script src=\"https://cdnjs.cloudflare.com/ajax/libs/mathjax/2.7.5/MathJax.js?config=TeX-AMS-MML_SVG\"></script><script type=\"text/javascript\">if (window.MathJax) {MathJax.Hub.Config({SVG: {font: \"STIX-Web\"}});}</script>                <script type=\"text/javascript\">window.PlotlyConfig = {MathJaxConfig: 'local'};</script>\n",
              "        <script src=\"https://cdn.plot.ly/plotly-2.8.3.min.js\"></script>                <div id=\"47ae0ba8-079a-4c7e-acd6-e2452b9aeb25\" class=\"plotly-graph-div\" style=\"height:525px; width:100%;\"></div>            <script type=\"text/javascript\">                                    window.PLOTLYENV=window.PLOTLYENV || {};                                    if (document.getElementById(\"47ae0ba8-079a-4c7e-acd6-e2452b9aeb25\")) {                    Plotly.newPlot(                        \"47ae0ba8-079a-4c7e-acd6-e2452b9aeb25\",                        [{\"hovertemplate\":\"color=id00076<br>symbol=A<br>x=%{x}<br>y=%{y}<extra></extra>\",\"legendgroup\":\"id00076, A\",\"marker\":{\"color\":\"#636efa\",\"symbol\":\"circle\"},\"mode\":\"markers\",\"name\":\"id00076, A\",\"orientation\":\"v\",\"showlegend\":true,\"x\":[31.334760665893555],\"xaxis\":\"x\",\"y\":[32.105865478515625],\"yaxis\":\"y\",\"type\":\"scatter\"},{\"hovertemplate\":\"color=id00076<br>symbol=C<br>x=%{x}<br>y=%{y}<extra></extra>\",\"legendgroup\":\"id00076, C\",\"marker\":{\"color\":\"#636efa\",\"symbol\":\"diamond\"},\"mode\":\"markers\",\"name\":\"id00076, C\",\"orientation\":\"v\",\"showlegend\":true,\"x\":[35.95651626586914,-18.120046615600586,-22.708093643188477,27.845413208007812,-10.03087329864502,38.252052307128906,0.13423427939414978,-32.831321716308594,13.824874877929688,7.720970630645752],\"xaxis\":\"x\",\"y\":[-39.30546569824219,-81.32096862792969,-61.233543395996094,-7.176620006561279,7.957180023193359,4.814996242523193,77.43511199951172,27.855873107910156,9.560502052307129,-31.157690048217773],\"yaxis\":\"y\",\"type\":\"scatter\"},{\"hovertemplate\":\"color=id00076<br>symbol=D<br>x=%{x}<br>y=%{y}<extra></extra>\",\"legendgroup\":\"id00076, D\",\"marker\":{\"color\":\"#636efa\",\"symbol\":\"square\"},\"mode\":\"markers\",\"name\":\"id00076, D\",\"orientation\":\"v\",\"showlegend\":true,\"x\":[-63.526126861572266,25.792938232421875,-45.2484245300293,-61.19963836669922,35.490055084228516,31.52707862854004,-70.93351745605469,35.46987533569336,-56.689918518066406,13.952779769897461],\"xaxis\":\"x\",\"y\":[-9.983506202697754,25.99082374572754,5.1245293617248535,42.84982681274414,-63.364776611328125,-17.867979049682617,15.265412330627441,-8.191990852355957,-44.35651397705078,-68.38715362548828],\"yaxis\":\"y\",\"type\":\"scatter\"},{\"hovertemplate\":\"color=id00166<br>symbol=A<br>x=%{x}<br>y=%{y}<extra></extra>\",\"legendgroup\":\"id00166, A\",\"marker\":{\"color\":\"#EF553B\",\"symbol\":\"circle\"},\"mode\":\"markers\",\"name\":\"id00166, A\",\"orientation\":\"v\",\"showlegend\":true,\"x\":[35.84367370605469],\"xaxis\":\"x\",\"y\":[-40.02729034423828],\"yaxis\":\"y\",\"type\":\"scatter\"},{\"hovertemplate\":\"color=id00166<br>symbol=C<br>x=%{x}<br>y=%{y}<extra></extra>\",\"legendgroup\":\"id00166, C\",\"marker\":{\"color\":\"#EF553B\",\"symbol\":\"diamond\"},\"mode\":\"markers\",\"name\":\"id00166, C\",\"orientation\":\"v\",\"showlegend\":true,\"x\":[80.1883316040039,20.355606079101562,-59.07548522949219,37.11728286743164,-16.655153274536133,39.66314697265625,-32.87518310546875,-11.740456581115723,13.707351684570312,12.237969398498535],\"xaxis\":\"x\",\"y\":[-14.898818969726562,66.88998413085938,41.22718048095703,32.622440338134766,-21.646448135375977,-9.282988548278809,28.67353057861328,48.98223876953125,9.196974754333496,-32.90381622314453],\"yaxis\":\"y\",\"type\":\"scatter\"},{\"hovertemplate\":\"color=id00166<br>symbol=D<br>x=%{x}<br>y=%{y}<extra></extra>\",\"legendgroup\":\"id00166, D\",\"marker\":{\"color\":\"#EF553B\",\"symbol\":\"square\"},\"mode\":\"markers\",\"name\":\"id00166, D\",\"orientation\":\"v\",\"showlegend\":true,\"x\":[23.625680923461914,-45.2490348815918,-37.644554138183594,-2.754793405532837,-5.447116851806641,10.562155723571777,-33.751888275146484,8.512857437133789,-73.90312194824219,-67.09761810302734],\"xaxis\":\"x\",\"y\":[22.950355529785156,5.124874591827393,6.691919803619385,-67.12726593017578,3.085583209991455,22.017786026000977,-23.999637603759766,-1.620402455329895,-13.823667526245117,-6.535475254058838],\"yaxis\":\"y\",\"type\":\"scatter\"},{\"hovertemplate\":\"color=id00173<br>symbol=A<br>x=%{x}<br>y=%{y}<extra></extra>\",\"legendgroup\":\"id00173, A\",\"marker\":{\"color\":\"#00cc96\",\"symbol\":\"circle\"},\"mode\":\"markers\",\"name\":\"id00173, A\",\"orientation\":\"v\",\"showlegend\":true,\"x\":[48.8488655090332],\"xaxis\":\"x\",\"y\":[48.06982421875],\"yaxis\":\"y\",\"type\":\"scatter\"},{\"hovertemplate\":\"color=id00173<br>symbol=C<br>x=%{x}<br>y=%{y}<extra></extra>\",\"legendgroup\":\"id00173, C\",\"marker\":{\"color\":\"#00cc96\",\"symbol\":\"diamond\"},\"mode\":\"markers\",\"name\":\"id00173, C\",\"orientation\":\"v\",\"showlegend\":true,\"x\":[-18.14350700378418,18.44756507873535,-31.978530883789062,62.88702392578125,-31.569698333740234,28.510732650756836,61.07954406738281,26.831398010253906,27.837570190429688,7.719716548919678],\"xaxis\":\"x\",\"y\":[-81.69689178466797,-34.996620178222656,59.94275665283203,4.071889400482178,-30.251426696777344,-37.25604248046875,17.504411697387695,45.84307861328125,29.03350830078125,-31.15693473815918],\"yaxis\":\"y\",\"type\":\"scatter\"},{\"hovertemplate\":\"color=id00173<br>symbol=D<br>x=%{x}<br>y=%{y}<extra></extra>\",\"legendgroup\":\"id00173, D\",\"marker\":{\"color\":\"#00cc96\",\"symbol\":\"square\"},\"mode\":\"markers\",\"name\":\"id00173, D\",\"orientation\":\"v\",\"showlegend\":true,\"x\":[5.4697651863098145,-54.661861419677734,51.353031158447266,35.1124153137207,-13.677703857421875,-71.75213623046875,-19.2058162689209,-66.76276397705078,13.689040184020996,-6.199347019195557],\"xaxis\":\"x\",\"y\":[38.99101257324219,-28.928632736206055,-21.97588539123535,-63.38752746582031,10.203909873962402,16.654991149902344,-11.938630104064941,-7.097041606903076,-68.27208709716797,-30.18573760986328],\"yaxis\":\"y\",\"type\":\"scatter\"},{\"hovertemplate\":\"color=id00366<br>symbol=A<br>x=%{x}<br>y=%{y}<extra></extra>\",\"legendgroup\":\"id00366, A\",\"marker\":{\"color\":\"#ab63fa\",\"symbol\":\"circle\"},\"mode\":\"markers\",\"name\":\"id00366, A\",\"orientation\":\"v\",\"showlegend\":true,\"x\":[-32.7848014831543],\"xaxis\":\"x\",\"y\":[68.64359283447266],\"yaxis\":\"y\",\"type\":\"scatter\"},{\"hovertemplate\":\"color=id00366<br>symbol=C<br>x=%{x}<br>y=%{y}<extra></extra>\",\"legendgroup\":\"id00366, C\",\"marker\":{\"color\":\"#ab63fa\",\"symbol\":\"diamond\"},\"mode\":\"markers\",\"name\":\"id00366, C\",\"orientation\":\"v\",\"showlegend\":true,\"x\":[31.337175369262695,35.95687484741211,48.518245697021484,80.11180877685547,-17.92095184326172,-32.09521484375,28.07758140563965,-31.569358825683594,58.647735595703125,-59.074851989746094,-64.9034194946289,61.086002349853516,-42.56517028808594,-56.07773208618164,-37.424415588378906,-18.910884857177734,-33.26256561279297,64.4131851196289,12.238627433776855,-16.161569595336914],\"xaxis\":\"x\",\"y\":[32.10630416870117,-39.30615997314453,47.9039421081543,-15.275190353393555,-81.75492858886719,60.705810546875,-6.559880256652832,-30.25206184387207,-26.838342666625977,41.2273063659668,19.605905532836914,17.10066032409668,-64.2388687133789,-39.73997116088867,33.110626220703125,11.600876808166504,26.840572357177734,9.555438041687012,-32.904075622558594,51.127349853515625],\"yaxis\":\"y\",\"type\":\"scatter\"},{\"hovertemplate\":\"color=id00366<br>symbol=D<br>x=%{x}<br>y=%{y}<extra></extra>\",\"legendgroup\":\"id00366, D\",\"marker\":{\"color\":\"#ab63fa\",\"symbol\":\"square\"},\"mode\":\"markers\",\"name\":\"id00366, D\",\"orientation\":\"v\",\"showlegend\":true,\"x\":[-28.305017471313477,-54.295745849609375,-58.209625244140625,8.513653755187988,23.068498611450195,-19.526004791259766,45.331817626953125,-0.014462482184171677,-56.69239807128906,14.89962100982666],\"xaxis\":\"x\",\"y\":[-38.59189224243164,-28.48845863342285,-32.878963470458984,-1.9034125804901123,-36.22932434082031,-11.36186408996582,46.28363800048828,-28.43331527709961,-44.35222625732422,17.704225540161133],\"yaxis\":\"y\",\"type\":\"scatter\"},{\"hovertemplate\":\"color=id00391<br>symbol=A<br>x=%{x}<br>y=%{y}<extra></extra>\",\"legendgroup\":\"id00391, A\",\"marker\":{\"color\":\"#FFA15A\",\"symbol\":\"circle\"},\"mode\":\"markers\",\"name\":\"id00391, A\",\"orientation\":\"v\",\"showlegend\":true,\"x\":[81.96590423583984],\"xaxis\":\"x\",\"y\":[-15.532012939453125],\"yaxis\":\"y\",\"type\":\"scatter\"},{\"hovertemplate\":\"color=id00391<br>symbol=C<br>x=%{x}<br>y=%{y}<extra></extra>\",\"legendgroup\":\"id00391, C\",\"marker\":{\"color\":\"#FFA15A\",\"symbol\":\"diamond\"},\"mode\":\"markers\",\"name\":\"id00391, C\",\"orientation\":\"v\",\"showlegend\":true,\"x\":[-29.616498947143555,27.723657608032227,-10.201628684997559,38.498626708984375,-16.655174255371094,0.12287361919879913,26.788049697875977,-55.90285873413086,64.41107177734375,12.237956047058105],\"xaxis\":\"x\",\"y\":[61.04179382324219,-6.425516128540039,7.613925457000732,4.596663475036621,-21.64653205871582,77.81792449951172,46.27397155761719,38.90948486328125,9.560243606567383,-32.90389633178711],\"yaxis\":\"y\",\"type\":\"scatter\"},{\"hovertemplate\":\"color=id00391<br>symbol=D<br>x=%{x}<br>y=%{y}<extra></extra>\",\"legendgroup\":\"id00391, D\",\"marker\":{\"color\":\"#FFA15A\",\"symbol\":\"square\"},\"mode\":\"markers\",\"name\":\"id00391, D\",\"orientation\":\"v\",\"showlegend\":true,\"x\":[-6.32565975189209,-57.348350524902344,23.618589401245117,12.202044486999512,23.069061279296875,53.80174255371094,-73.69203186035156,-13.33369255065918,-6.042956352233887,-40.55069351196289],\"xaxis\":\"x\",\"y\":[28.06536293029785,-37.31815719604492,22.939863204956055,1.1689765453338623,-36.2291145324707,4.438279628753662,-13.999507904052734,-25.256593704223633,-30.41814422607422,1.8292925357818604],\"yaxis\":\"y\",\"type\":\"scatter\"},{\"hovertemplate\":\"color=id00475<br>symbol=A<br>x=%{x}<br>y=%{y}<extra></extra>\",\"legendgroup\":\"id00475, A\",\"marker\":{\"color\":\"#19d3f3\",\"symbol\":\"circle\"},\"mode\":\"markers\",\"name\":\"id00475, A\",\"orientation\":\"v\",\"showlegend\":true,\"x\":[-17.883541107177734],\"xaxis\":\"x\",\"y\":[-81.28030395507812],\"yaxis\":\"y\",\"type\":\"scatter\"},{\"hovertemplate\":\"color=id00475<br>symbol=C<br>x=%{x}<br>y=%{y}<extra></extra>\",\"legendgroup\":\"id00475, C\",\"marker\":{\"color\":\"#19d3f3\",\"symbol\":\"diamond\"},\"mode\":\"markers\",\"name\":\"id00475, C\",\"orientation\":\"v\",\"showlegend\":true,\"x\":[0.8909171223640442,-22.708393096923828,20.16364288330078,-20.911367416381836,36.6517219543457,-16.655141830444336,-43.173091888427734,-0.5392788648605347,26.145658493041992,64.41404724121094],\"xaxis\":\"x\",\"y\":[42.42906188964844,-61.23328399658203,66.743896484375,54.603126525878906,32.59231185913086,-21.646373748779297,-64.49711608886719,77.79405975341797,46.21062088012695,9.555658340454102],\"yaxis\":\"y\",\"type\":\"scatter\"},{\"hovertemplate\":\"color=id00475<br>symbol=D<br>x=%{x}<br>y=%{y}<extra></extra>\",\"legendgroup\":\"id00475, D\",\"marker\":{\"color\":\"#19d3f3\",\"symbol\":\"square\"},\"mode\":\"markers\",\"name\":\"id00475, D\",\"orientation\":\"v\",\"showlegend\":true,\"x\":[30.027196884155273,-61.2001953125,-5.448288440704346,-54.297847747802734,11.039806365966797,-3.614706039428711,31.721736907958984,53.80136489868164,-66.77458953857422,-13.329326629638672],\"xaxis\":\"x\",\"y\":[19.479013442993164,42.84969711303711,3.086256265640259,-28.489582061767578,22.053810119628906,33.107566833496094,-17.662973403930664,4.43955659866333,-6.339317798614502,-25.259523391723633],\"yaxis\":\"y\",\"type\":\"scatter\"},{\"hovertemplate\":\"color=id00476<br>symbol=A<br>x=%{x}<br>y=%{y}<extra></extra>\",\"legendgroup\":\"id00476, A\",\"marker\":{\"color\":\"#FF6692\",\"symbol\":\"circle\"},\"mode\":\"markers\",\"name\":\"id00476, A\",\"orientation\":\"v\",\"showlegend\":true,\"x\":[24.097553253173828],\"xaxis\":\"x\",\"y\":[-60.47819519042969],\"yaxis\":\"y\",\"type\":\"scatter\"},{\"hovertemplate\":\"color=id00476<br>symbol=C<br>x=%{x}<br>y=%{y}<extra></extra>\",\"legendgroup\":\"id00476, C\",\"marker\":{\"color\":\"#FF6692\",\"symbol\":\"diamond\"},\"mode\":\"markers\",\"name\":\"id00476, C\",\"orientation\":\"v\",\"showlegend\":true,\"x\":[48.22243881225586,80.56581115722656,0.8909165859222412,36.87110900878906,-10.785928726196289,38.62931442260742,-42.793033599853516,-37.42439651489258,13.571298599243164,1.9596095085144043],\"xaxis\":\"x\",\"y\":[48.50348663330078,-14.781913757324219,42.42905044555664,32.77531051635742,7.89760160446167,4.638650417327881,-64.53815460205078,33.11064910888672,9.844536781311035,48.389503479003906],\"yaxis\":\"y\",\"type\":\"scatter\"},{\"hovertemplate\":\"color=id00476<br>symbol=D<br>x=%{x}<br>y=%{y}<extra></extra>\",\"legendgroup\":\"id00476, D\",\"marker\":{\"color\":\"#FF6692\",\"symbol\":\"square\"},\"mode\":\"markers\",\"name\":\"id00476, D\",\"orientation\":\"v\",\"showlegend\":true,\"x\":[30.027807235717773,-57.34838104248047,66.56283569335938,-3.6153247356414795,45.33237838745117,-56.69353103637695,-13.333551406860352,13.719184875488281,-6.027606964111328,-39.781192779541016],\"xaxis\":\"x\",\"y\":[19.478973388671875,-37.31817626953125,3.7086169719696045,33.1077766418457,46.2844352722168,-44.35345458984375,-25.256742477416992,-67.9889907836914,-29.956390380859375,2.2752294540405273],\"yaxis\":\"y\",\"type\":\"scatter\"},{\"hovertemplate\":\"color=id00478<br>symbol=A<br>x=%{x}<br>y=%{y}<extra></extra>\",\"legendgroup\":\"id00478, A\",\"marker\":{\"color\":\"#B6E880\",\"symbol\":\"circle\"},\"mode\":\"markers\",\"name\":\"id00478, A\",\"orientation\":\"v\",\"showlegend\":true,\"x\":[29.519378662109375],\"xaxis\":\"x\",\"y\":[-37.325584411621094],\"yaxis\":\"y\",\"type\":\"scatter\"},{\"hovertemplate\":\"color=id00478<br>symbol=C<br>x=%{x}<br>y=%{y}<extra></extra>\",\"legendgroup\":\"id00478, C\",\"marker\":{\"color\":\"#B6E880\",\"symbol\":\"diamond\"},\"mode\":\"markers\",\"name\":\"id00478, C\",\"orientation\":\"v\",\"showlegend\":true,\"x\":[27.487579345703125,-53.10424041748047,-10.615145683288574,38.363746643066406,-56.079742431640625,-33.98719787597656,-11.838058471679688,10.178598403930664,2.325429677963257,-16.161476135253906],\"xaxis\":\"x\",\"y\":[-7.044000625610352,-36.906185150146484,8.242642402648926,5.0331711769104,-39.73533630371094,28.007652282714844,48.17881774902344,-5.20373010635376,48.685523986816406,51.12765121459961],\"yaxis\":\"y\",\"type\":\"scatter\"},{\"hovertemplate\":\"color=id00478<br>symbol=D<br>x=%{x}<br>y=%{y}<extra></extra>\",\"legendgroup\":\"id00478, D\",\"marker\":{\"color\":\"#B6E880\",\"symbol\":\"square\"},\"mode\":\"markers\",\"name\":\"id00478, D\",\"orientation\":\"v\",\"showlegend\":true,\"x\":[-6.043301582336426,-37.64290237426758,66.56466674804688,51.584537506103516,10.975312232971191,8.788129806518555,0.9476946592330933,17.679637908935547,48.400203704833984,-40.25372314453125],\"xaxis\":\"x\",\"y\":[28.098886489868164,6.691981315612793,3.7079355716705322,-21.666486740112305,21.78584861755371,-1.9843450784683228,-23.912933349609375,-58.72699737548828,-20.152204513549805,1.5191404819488525],\"yaxis\":\"y\",\"type\":\"scatter\"},{\"hovertemplate\":\"color=id00518<br>symbol=A<br>x=%{x}<br>y=%{y}<extra></extra>\",\"legendgroup\":\"id00518, A\",\"marker\":{\"color\":\"#FF97FF\",\"symbol\":\"circle\"},\"mode\":\"markers\",\"name\":\"id00518, A\",\"orientation\":\"v\",\"showlegend\":true,\"x\":[27.681194305419922],\"xaxis\":\"x\",\"y\":[38.1710319519043],\"yaxis\":\"y\",\"type\":\"scatter\"},{\"hovertemplate\":\"color=id00518<br>symbol=C<br>x=%{x}<br>y=%{y}<extra></extra>\",\"legendgroup\":\"id00518, C\",\"marker\":{\"color\":\"#FF97FF\",\"symbol\":\"diamond\"},\"mode\":\"markers\",\"name\":\"id00518, C\",\"orientation\":\"v\",\"showlegend\":true,\"x\":[34.894493103027344,27.681482315063477,0.9007050395011902,-22.646604537963867,20.752216339111328,28.510499954223633,38.61838150024414,-0.18797141313552856,-19.253210067749023,-33.53471755981445],\"xaxis\":\"x\",\"y\":[-38.42228317260742,38.171539306640625,42.435970306396484,-63.29597473144531,65.49408721923828,-37.25624465942383,4.996755599975586,77.22990417480469,11.28512954711914,28.53609848022461],\"yaxis\":\"y\",\"type\":\"scatter\"},{\"hovertemplate\":\"color=id00518<br>symbol=D<br>x=%{x}<br>y=%{y}<extra></extra>\",\"legendgroup\":\"id00518, D\",\"marker\":{\"color\":\"#FF97FF\",\"symbol\":\"square\"},\"mode\":\"markers\",\"name\":\"id00518, D\",\"orientation\":\"v\",\"showlegend\":true,\"x\":[-61.19460678100586,-28.383100509643555,33.897308349609375,10.762690544128418,8.948997497558594,17.67905616760254,-73.50257873535156,-67.0906753540039,14.899469375610352],\"xaxis\":\"x\",\"y\":[42.8506965637207,-38.1294059753418,-37.8556022644043,22.20726203918457,-1.7540068626403809,-58.72529983520508,-13.576977729797363,-6.917103290557861,17.704130172729492],\"yaxis\":\"y\",\"type\":\"scatter\"},{\"hovertemplate\":\"color=id00701<br>symbol=A<br>x=%{x}<br>y=%{y}<extra></extra>\",\"legendgroup\":\"id00701, A\",\"marker\":{\"color\":\"#FECB52\",\"symbol\":\"circle\"},\"mode\":\"markers\",\"name\":\"id00701, A\",\"orientation\":\"v\",\"showlegend\":true,\"x\":[0.88852459192276],\"xaxis\":\"x\",\"y\":[42.432151794433594],\"yaxis\":\"y\",\"type\":\"scatter\"},{\"hovertemplate\":\"color=id00701<br>symbol=C<br>x=%{x}<br>y=%{y}<extra></extra>\",\"legendgroup\":\"id00701, C\",\"marker\":{\"color\":\"#FECB52\",\"symbol\":\"diamond\"},\"mode\":\"markers\",\"name\":\"id00701, C\",\"orientation\":\"v\",\"showlegend\":true,\"x\":[80.77949523925781,-32.25716018676758,62.88646697998047,-59.074913024902344,36.75971984863281,-56.07710647583008,-0.5256034135818481,-55.90098190307617,-19.15726661682129,-32.2437858581543],\"xaxis\":\"x\",\"y\":[-14.976526260375977,60.08443069458008,4.071900844573975,41.226810455322266,32.32015609741211,-39.74040222167969,77.41136932373047,38.909950256347656,11.739252090454102,28.272483825683594],\"yaxis\":\"y\",\"type\":\"scatter\"},{\"hovertemplate\":\"color=id00701<br>symbol=D<br>x=%{x}<br>y=%{y}<extra></extra>\",\"legendgroup\":\"id00701, D\",\"marker\":{\"color\":\"#FECB52\",\"symbol\":\"square\"},\"mode\":\"markers\",\"name\":\"id00701, D\",\"orientation\":\"v\",\"showlegend\":true,\"x\":[30.027484893798828,-63.5263671875,-2.4412715435028076,5.469028949737549,10.705958366394043,-33.38274383544922,-13.677690505981445,53.80166244506836,35.46967697143555,13.998289108276367],\"xaxis\":\"x\",\"y\":[19.478988647460938,-9.983510971069336,33.08867645263672,38.99021530151367,21.733137130737305,-24.104352951049805,10.203903198242188,4.438937664031982,-8.192008018493652,-67.92505645751953],\"yaxis\":\"y\",\"type\":\"scatter\"},{\"hovertemplate\":\"color=id00761<br>symbol=A<br>x=%{x}<br>y=%{y}<extra></extra>\",\"legendgroup\":\"id00761, A\",\"marker\":{\"color\":\"#636efa\",\"symbol\":\"circle\"},\"mode\":\"markers\",\"name\":\"id00761, A\",\"orientation\":\"v\",\"showlegend\":true,\"x\":[-22.71477699279785],\"xaxis\":\"x\",\"y\":[-60.57087326049805],\"yaxis\":\"y\",\"type\":\"scatter\"},{\"hovertemplate\":\"color=id00761<br>symbol=C<br>x=%{x}<br>y=%{y}<extra></extra>\",\"legendgroup\":\"id00761, C\",\"marker\":{\"color\":\"#636efa\",\"symbol\":\"diamond\"},\"mode\":\"markers\",\"name\":\"id00761, C\",\"orientation\":\"v\",\"showlegend\":true,\"x\":[35.95653533935547,24.097354888916016,20.161514282226562,58.8727912902832,-20.911455154418945,-59.07419967651367,-64.90414428710938,61.42461013793945,-18.963205337524414,-11.562517166137695],\"xaxis\":\"x\",\"y\":[-39.30687713623047,-60.47861099243164,66.74452209472656,-27.25568199157715,54.605220794677734,41.22664260864258,19.605928421020508,16.944137573242188,11.320713996887207,49.479087829589844],\"yaxis\":\"y\",\"type\":\"scatter\"},{\"hovertemplate\":\"color=id00761<br>symbol=D<br>x=%{x}<br>y=%{y}<extra></extra>\",\"legendgroup\":\"id00761, D\",\"marker\":{\"color\":\"#636efa\",\"symbol\":\"square\"},\"mode\":\"markers\",\"name\":\"id00761, D\",\"orientation\":\"v\",\"showlegend\":true,\"x\":[25.791189193725586,-28.508975982666016,66.5655288696289,51.946746826171875,4.189444065093994,23.068498611450195,-18.872032165527344,-0.014453337527811527,17.679365158081055,12.45139217376709],\"xaxis\":\"x\",\"y\":[25.987911224365234,-38.3942985534668,3.714787006378174,-21.705209732055664,-30.433916091918945,-36.22969055175781,-11.752693176269531,-28.4344425201416,-58.727684020996094,-56.37650680541992],\"yaxis\":\"y\",\"type\":\"scatter\"},{\"hovertemplate\":\"color=id00781<br>symbol=A<br>x=%{x}<br>y=%{y}<extra></extra>\",\"legendgroup\":\"id00781, A\",\"marker\":{\"color\":\"#EF553B\",\"symbol\":\"circle\"},\"mode\":\"markers\",\"name\":\"id00781, A\",\"orientation\":\"v\",\"showlegend\":true,\"x\":[18.47756004333496],\"xaxis\":\"x\",\"y\":[-35.00508499145508],\"yaxis\":\"y\",\"type\":\"scatter\"},{\"hovertemplate\":\"color=id00781<br>symbol=C<br>x=%{x}<br>y=%{y}<extra></extra>\",\"legendgroup\":\"id00781, C\",\"marker\":{\"color\":\"#EF553B\",\"symbol\":\"diamond\"},\"mode\":\"markers\",\"name\":\"id00781, C\",\"orientation\":\"v\",\"showlegend\":true,\"x\":[-22.810815811157227,18.46302032470703,20.753219604492188,-31.569286346435547,-8.270885467529297,61.413352966308594,-43.09245681762695,-33.892940521240234,-11.231471061706543,-16.16175651550293],\"xaxis\":\"x\",\"y\":[-63.295570373535156,-35.00052261352539,65.49500274658203,-30.25234603881836,-40.95408630371094,17.677133560180664,-63.83845138549805,27.240110397338867,48.82134246826172,51.126129150390625],\"yaxis\":\"y\",\"type\":\"scatter\"},{\"hovertemplate\":\"color=id00781<br>symbol=D<br>x=%{x}<br>y=%{y}<extra></extra>\",\"legendgroup\":\"id00781, D\",\"marker\":{\"color\":\"#EF553B\",\"symbol\":\"square\"},\"mode\":\"markers\",\"name\":\"id00781, D\",\"orientation\":\"v\",\"showlegend\":true,\"x\":[-37.64207077026367,-61.194210052490234,-28.044836044311523,52.10575485229492,-58.209144592285156,-34.0250129699707,60.01993179321289,14.141465187072754,13.109527587890625],\"xaxis\":\"x\",\"y\":[6.691969394683838,42.85129165649414,-38.45696258544922,-22.068628311157227,-32.87884521484375,-24.26812744140625,20.530033111572266,-68.17961883544922,-56.33635711669922],\"yaxis\":\"y\",\"type\":\"scatter\"},{\"hovertemplate\":\"color=id00830<br>symbol=A<br>x=%{x}<br>y=%{y}<extra></extra>\",\"legendgroup\":\"id00830, A\",\"marker\":{\"color\":\"#00cc96\",\"symbol\":\"circle\"},\"mode\":\"markers\",\"name\":\"id00830, A\",\"orientation\":\"v\",\"showlegend\":true,\"x\":[39.68102264404297],\"xaxis\":\"x\",\"y\":[5.418417930603027],\"yaxis\":\"y\",\"type\":\"scatter\"},{\"hovertemplate\":\"color=id00830<br>symbol=C<br>x=%{x}<br>y=%{y}<extra></extra>\",\"legendgroup\":\"id00830, C\",\"marker\":{\"color\":\"#00cc96\",\"symbol\":\"diamond\"},\"mode\":\"markers\",\"name\":\"id00830, C\",\"orientation\":\"v\",\"showlegend\":true,\"x\":[48.56229782104492,-32.78453063964844,-8.083636283874512,-64.90718841552734,28.500974655151367,-10.240264892578125,-16.655574798583984,-32.60015106201172,1.8575217723846436,12.238622665405273],\"xaxis\":\"x\",\"y\":[48.6632080078125,68.6436996459961,-40.52532196044922,19.6059513092041,-37.25493621826172,8.271029472351074,-21.646581649780273,26.969575881958008,48.66104507446289,-32.90270233154297],\"yaxis\":\"y\",\"type\":\"scatter\"},{\"hovertemplate\":\"color=id00830<br>symbol=D<br>x=%{x}<br>y=%{y}<extra></extra>\",\"legendgroup\":\"id00830, D\",\"marker\":{\"color\":\"#00cc96\",\"symbol\":\"square\"},\"mode\":\"markers\",\"name\":\"id00830, D\",\"orientation\":\"v\",\"showlegend\":true,\"x\":[-57.3494758605957,-3.1813366413116455,4.189451694488525,12.202058792114258,-0.014461968094110489,-66.43678283691406,48.39289855957031,12.428672790527344,-5.755516529083252,-40.14179992675781],\"xaxis\":\"x\",\"y\":[-37.31835174560547,-67.32200622558594,-30.434268951416016,1.1689081192016602,-28.434219360351562,-6.520813465118408,-20.15115737915039,-55.998390197753906,-30.05559730529785,2.4994704723358154],\"yaxis\":\"y\",\"type\":\"scatter\"},{\"hovertemplate\":\"color=id00944<br>symbol=A<br>x=%{x}<br>y=%{y}<extra></extra>\",\"legendgroup\":\"id00944, A\",\"marker\":{\"color\":\"#ab63fa\",\"symbol\":\"circle\"},\"mode\":\"markers\",\"name\":\"id00944, A\",\"orientation\":\"v\",\"showlegend\":true,\"x\":[19.598751068115234],\"xaxis\":\"x\",\"y\":[67.2793960571289],\"yaxis\":\"y\",\"type\":\"scatter\"},{\"hovertemplate\":\"color=id00944<br>symbol=C<br>x=%{x}<br>y=%{y}<extra></extra>\",\"legendgroup\":\"id00944, C\",\"marker\":{\"color\":\"#ab63fa\",\"symbol\":\"diamond\"},\"mode\":\"markers\",\"name\":\"id00944, C\",\"orientation\":\"v\",\"showlegend\":true,\"x\":[34.8958625793457,48.194129943847656,27.681798934936523,-22.810827255249023,18.450050354003906,39.66316604614258,-32.14707946777344,27.834684371948242,13.331756591796875,2.2518553733825684],\"xaxis\":\"x\",\"y\":[-38.42135238647461,48.12284469604492,38.173091888427734,-63.295433044433594,-34.99770736694336,-9.282893180847168,27.501632690429688,29.02091407775879,9.120197296142578,48.40525436401367],\"yaxis\":\"y\",\"type\":\"scatter\"},{\"hovertemplate\":\"color=id00944<br>symbol=D<br>x=%{x}<br>y=%{y}<extra></extra>\",\"legendgroup\":\"id00944, D\",\"marker\":{\"color\":\"#ab63fa\",\"symbol\":\"square\"},\"mode\":\"markers\",\"name\":\"id00944, D\",\"orientation\":\"v\",\"showlegend\":true,\"x\":[-63.52619171142578,-28.097139358520508,5.439223289489746,8.784680366516113,-72.06928253173828,-0.01446213573217392,-73.76832580566406,-5.764707565307617,-39.8050651550293],\"xaxis\":\"x\",\"y\":[-9.983662605285645,-38.17063522338867,39.01280975341797,-1.5359448194503784,16.278871536254883,-28.434123992919922,-13.535011291503906,-30.343547821044922,1.5425200462341309],\"yaxis\":\"y\",\"type\":\"scatter\"},{\"hovertemplate\":\"color=id00987<br>symbol=A<br>x=%{x}<br>y=%{y}<extra></extra>\",\"legendgroup\":\"id00987, A\",\"marker\":{\"color\":\"#FFA15A\",\"symbol\":\"circle\"},\"mode\":\"markers\",\"name\":\"id00987, A\",\"orientation\":\"v\",\"showlegend\":true,\"x\":[-33.55264663696289],\"xaxis\":\"x\",\"y\":[59.95152282714844],\"yaxis\":\"y\",\"type\":\"scatter\"},{\"hovertemplate\":\"color=id00987<br>symbol=C<br>x=%{x}<br>y=%{y}<extra></extra>\",\"legendgroup\":\"id00987, C\",\"marker\":{\"color\":\"#FFA15A\",\"symbol\":\"diamond\"},\"mode\":\"markers\",\"name\":\"id00987, C\",\"orientation\":\"v\",\"showlegend\":true,\"x\":[24.096572875976562,-22.708736419677734,62.88639831542969,-64.90426635742188,-53.10268783569336,26.452524185180664,-33.30132293701172,60.62335968017578,10.178894996643066,13.196328163146973],\"xaxis\":\"x\",\"y\":[-60.47832489013672,-61.231719970703125,4.071897029876709,19.605924606323242,-36.91061019897461,46.4024772644043,27.656660079956055,13.798750877380371,-5.203312397003174,9.767742156982422],\"yaxis\":\"y\",\"type\":\"scatter\"},{\"hovertemplate\":\"color=id00987<br>symbol=D<br>x=%{x}<br>y=%{y}<extra></extra>\",\"legendgroup\":\"id00987, D\",\"marker\":{\"color\":\"#FFA15A\",\"symbol\":\"square\"},\"mode\":\"markers\",\"name\":\"id00987, D\",\"orientation\":\"v\",\"showlegend\":true,\"x\":[-5.913458347320557,-45.24848937988281,-3.0424253940582275,35.1506462097168,31.588645935058594,-19.194114685058594,35.469825744628906,14.89954948425293,12.789838790893555,-40.50857162475586],\"xaxis\":\"x\",\"y\":[27.84909439086914,5.124757766723633,-67.06935119628906,-64.04592895507812,-17.408735275268555,-11.174641609191895,-8.191996574401855,17.703805923461914,-56.548316955566406,2.2722530364990234],\"yaxis\":\"y\",\"type\":\"scatter\"},{\"hovertemplate\":\"color=id01036<br>symbol=A<br>x=%{x}<br>y=%{y}<extra></extra>\",\"legendgroup\":\"id01036, A\",\"marker\":{\"color\":\"#19d3f3\",\"symbol\":\"circle\"},\"mode\":\"markers\",\"name\":\"id01036, A\",\"orientation\":\"v\",\"showlegend\":true,\"x\":[62.909175872802734],\"xaxis\":\"x\",\"y\":[4.073421478271484],\"yaxis\":\"y\",\"type\":\"scatter\"},{\"hovertemplate\":\"color=id01036<br>symbol=C<br>x=%{x}<br>y=%{y}<extra></extra>\",\"legendgroup\":\"id01036, C\",\"marker\":{\"color\":\"#19d3f3\",\"symbol\":\"diamond\"},\"mode\":\"markers\",\"name\":\"id01036, C\",\"orientation\":\"v\",\"showlegend\":true,\"x\":[-32.78445816040039,-29.617605209350586,28.13764762878418,58.607234954833984,-8.371295928955078,-53.10061264038086,-43.32306671142578,39.66636276245117,-19.37284278869629,-12.185965538024902],\"xaxis\":\"x\",\"y\":[68.64396667480469,61.04015350341797,-6.93849515914917,-27.129154205322266,-40.49544906616211,-36.90834045410156,-64.14712524414062,-9.28445053100586,11.543581008911133,49.00086212158203],\"yaxis\":\"y\",\"type\":\"scatter\"},{\"hovertemplate\":\"color=id01036<br>symbol=D<br>x=%{x}<br>y=%{y}<extra></extra>\",\"legendgroup\":\"id01036, D\",\"marker\":{\"color\":\"#19d3f3\",\"symbol\":\"square\"},\"mode\":\"markers\",\"name\":\"id01036, D\",\"orientation\":\"v\",\"showlegend\":true,\"x\":[23.61858367919922,25.79227066040039,35.53133773803711,-58.20952224731445,-33.563865661621094,-3.615327835083008,60.02141189575195,31.297550201416016,-70.93370056152344,-66.43269348144531],\"xaxis\":\"x\",\"y\":[22.93988800048828,25.990432739257812,-64.02285766601562,-32.87884521484375,-24.73906898498535,33.10773849487305,20.530574798583984,-17.46153450012207,15.265205383300781,-6.896513938903809],\"yaxis\":\"y\",\"type\":\"scatter\"},{\"hovertemplate\":\"color=id01076<br>symbol=A<br>x=%{x}<br>y=%{y}<extra></extra>\",\"legendgroup\":\"id01076, A\",\"marker\":{\"color\":\"#FF6692\",\"symbol\":\"circle\"},\"mode\":\"markers\",\"name\":\"id01076, A\",\"orientation\":\"v\",\"showlegend\":true,\"x\":[27.42511558532715],\"xaxis\":\"x\",\"y\":[-6.66506814956665],\"yaxis\":\"y\",\"type\":\"scatter\"},{\"hovertemplate\":\"color=id01076<br>symbol=C<br>x=%{x}<br>y=%{y}<extra></extra>\",\"legendgroup\":\"id01076, C\",\"marker\":{\"color\":\"#FF6692\",\"symbol\":\"diamond\"},\"mode\":\"markers\",\"name\":\"id01076, C\",\"orientation\":\"v\",\"showlegend\":true,\"x\":[80.41276550292969,37.04695129394531,0.6574181914329529,61.732669830322266,-42.71605682373047,-37.42230987548828,-55.90283203125,27.83469009399414,60.62093734741211,-11.385202407836914],\"xaxis\":\"x\",\"y\":[-15.52647876739502,32.34080505371094,38.04216384887695,17.528337478637695,-63.882896423339844,33.10858917236328,38.90969467163086,29.020963668823242,13.798931121826172,48.406272888183594],\"yaxis\":\"y\",\"type\":\"scatter\"},{\"hovertemplate\":\"color=id01076<br>symbol=D<br>x=%{x}<br>y=%{y}<extra></extra>\",\"legendgroup\":\"id01076, D\",\"marker\":{\"color\":\"#FF6692\",\"symbol\":\"square\"},\"mode\":\"markers\",\"name\":\"id01076, D\",\"orientation\":\"v\",\"showlegend\":true,\"x\":[30.027557373046875,23.625667572021484,-45.24901580810547,5.468952655792236,51.88163757324219,35.7000617980957,-58.211673736572266,12.201770782470703,31.26064109802246,-39.57032775878906],\"xaxis\":\"x\",\"y\":[19.4789981842041,22.950382232666016,5.125028133392334,38.99070358276367,-22.36688995361328,-63.68916702270508,-32.87901306152344,1.1689338684082031,-17.74436378479004,1.8933563232421875],\"yaxis\":\"y\",\"type\":\"scatter\"},{\"hovertemplate\":\"color=id01170<br>symbol=A<br>x=%{x}<br>y=%{y}<extra></extra>\",\"legendgroup\":\"id01170, A\",\"marker\":{\"color\":\"#B6E880\",\"symbol\":\"circle\"},\"mode\":\"markers\",\"name\":\"id01170, A\",\"orientation\":\"v\",\"showlegend\":true,\"x\":[-31.568838119506836],\"xaxis\":\"x\",\"y\":[-30.251739501953125],\"yaxis\":\"y\",\"type\":\"scatter\"},{\"hovertemplate\":\"color=id01170<br>symbol=C<br>x=%{x}<br>y=%{y}<extra></extra>\",\"legendgroup\":\"id01170, C\",\"marker\":{\"color\":\"#B6E880\",\"symbol\":\"diamond\"},\"mode\":\"markers\",\"name\":\"id01170, C\",\"orientation\":\"v\",\"showlegend\":true,\"x\":[48.874664306640625,24.09732437133789,20.35560417175293,-31.76449203491211,0.6574488282203674,61.74180221557617,26.18968963623047,-12.174409866333008,13.077479362487793,2.0787105560302734],\"xaxis\":\"x\",\"y\":[48.45084762573242,-60.47818374633789,66.88998413085938,60.55600357055664,38.04205322265625,17.10877799987793,45.77892303466797,48.51944351196289,9.404108047485352,48.838172912597656],\"yaxis\":\"y\",\"type\":\"scatter\"},{\"hovertemplate\":\"color=id01170<br>symbol=D<br>x=%{x}<br>y=%{y}<extra></extra>\",\"legendgroup\":\"id01170, D\",\"marker\":{\"color\":\"#B6E880\",\"symbol\":\"square\"},\"mode\":\"markers\",\"name\":\"id01170, D\",\"orientation\":\"v\",\"showlegend\":true,\"x\":[-6.121983528137207,-2.721536874771118,-5.448052883148193,-54.6608772277832,-33.28818130493164,4.189448356628418,0.9478095173835754,-72.15309143066406,53.80147171020508,35.469764709472656],\"xaxis\":\"x\",\"y\":[27.64419174194336,-67.41566467285156,3.086104154586792,-28.929025650024414,-24.473691940307617,-30.434537887573242,-23.912839889526367,16.33506965637207,4.4389872550964355,-8.191977500915527],\"yaxis\":\"y\",\"type\":\"scatter\"},{\"hovertemplate\":\"color=id01171<br>symbol=A<br>x=%{x}<br>y=%{y}<extra></extra>\",\"legendgroup\":\"id01171, A\",\"marker\":{\"color\":\"#FF97FF\",\"symbol\":\"circle\"},\"mode\":\"markers\",\"name\":\"id01171, A\",\"orientation\":\"v\",\"showlegend\":true,\"x\":[59.07423782348633],\"xaxis\":\"x\",\"y\":[-27.04713249206543],\"yaxis\":\"y\",\"type\":\"scatter\"},{\"hovertemplate\":\"color=id01171<br>symbol=C<br>x=%{x}<br>y=%{y}<extra></extra>\",\"legendgroup\":\"id01171, C\",\"marker\":{\"color\":\"#FF97FF\",\"symbol\":\"diamond\"},\"mode\":\"markers\",\"name\":\"id01171, C\",\"orientation\":\"v\",\"showlegend\":true,\"x\":[-17.726152420043945,-22.646520614624023,-31.704923629760742,58.937740325927734,-8.485843658447266,-0.21593017876148224,-37.42247009277344,26.526844024658203,27.834684371948242,21.525020599365234],\"xaxis\":\"x\",\"y\":[-81.61898803710938,-63.29599380493164,60.15790557861328,-26.782855987548828,-40.76650619506836,77.99708557128906,33.108909606933594,45.65121078491211,29.020917892456055,12.562299728393555],\"yaxis\":\"y\",\"type\":\"scatter\"},{\"hovertemplate\":\"color=id01171<br>symbol=D<br>x=%{x}<br>y=%{y}<extra></extra>\",\"legendgroup\":\"id01171, D\",\"marker\":{\"color\":\"#FF97FF\",\"symbol\":\"square\"},\"mode\":\"markers\",\"name\":\"id01171, D\",\"orientation\":\"v\",\"showlegend\":true,\"x\":[-6.373997688293457,-2.990591049194336,-5.447353363037109,-3.6153247356414795,-71.71419525146484,-19.532365798950195,-73.43022155761719,-56.69815444946289,-13.327326774597168,12.751823425292969],\"xaxis\":\"x\",\"y\":[27.772029876708984,-67.53472137451172,3.0857207775115967,33.107784271240234,16.56631851196289,-11.742384910583496,-13.838359832763672,-44.38617706298828,-25.261676788330078,-55.77961349487305],\"yaxis\":\"y\",\"type\":\"scatter\"},{\"hovertemplate\":\"color=id01179<br>symbol=A<br>x=%{x}<br>y=%{y}<extra></extra>\",\"legendgroup\":\"id01179, A\",\"marker\":{\"color\":\"#FECB52\",\"symbol\":\"circle\"},\"mode\":\"markers\",\"name\":\"id01179, A\",\"orientation\":\"v\",\"showlegend\":true,\"x\":[-20.911760330200195],\"xaxis\":\"x\",\"y\":[54.605045318603516],\"yaxis\":\"y\",\"type\":\"scatter\"},{\"hovertemplate\":\"color=id01179<br>symbol=C<br>x=%{x}<br>y=%{y}<extra></extra>\",\"legendgroup\":\"id01179, C\",\"marker\":{\"color\":\"#FECB52\",\"symbol\":\"diamond\"},\"mode\":\"markers\",\"name\":\"id01179, C\",\"orientation\":\"v\",\"showlegend\":true,\"x\":[31.336772918701172,34.89484405517578,-32.78451156616211,80.68344116210938,-32.32616424560547,-20.913219451904297,-8.021385192871094,-10.580155372619629,39.66319274902344,64.41156005859375],\"xaxis\":\"x\",\"y\":[32.105613708496094,-38.42155456542969,68.64514923095703,-15.416102409362793,60.52317428588867,54.60639953613281,-40.80937957763672,7.58853006362915,-9.283100128173828,9.560961723327637],\"yaxis\":\"y\",\"type\":\"scatter\"},{\"hovertemplate\":\"color=id01179<br>symbol=D<br>x=%{x}<br>y=%{y}<extra></extra>\",\"legendgroup\":\"id01179, D\",\"marker\":{\"color\":\"#FECB52\",\"symbol\":\"square\"},\"mode\":\"markers\",\"name\":\"id01179, D\",\"orientation\":\"v\",\"showlegend\":true,\"x\":[-57.164466857910156,-38.74017333984375,51.489044189453125,34.94145202636719,-33.931068420410156,0.9476001858711243,23.075204849243164,-72.11580657958984,-18.864524841308594,13.088395118713379],\"xaxis\":\"x\",\"y\":[-37.38386917114258,3.159350633621216,-22.312501907348633,-63.73031234741211,-24.63702964782715,-23.912960052490234,-36.23170471191406,16.70153045654297,-11.372872352600098,-55.95735549926758],\"yaxis\":\"y\",\"type\":\"scatter\"}],                        {\"template\":{\"data\":{\"bar\":[{\"error_x\":{\"color\":\"#2a3f5f\"},\"error_y\":{\"color\":\"#2a3f5f\"},\"marker\":{\"line\":{\"color\":\"#E5ECF6\",\"width\":0.5},\"pattern\":{\"fillmode\":\"overlay\",\"size\":10,\"solidity\":0.2}},\"type\":\"bar\"}],\"barpolar\":[{\"marker\":{\"line\":{\"color\":\"#E5ECF6\",\"width\":0.5},\"pattern\":{\"fillmode\":\"overlay\",\"size\":10,\"solidity\":0.2}},\"type\":\"barpolar\"}],\"carpet\":[{\"aaxis\":{\"endlinecolor\":\"#2a3f5f\",\"gridcolor\":\"white\",\"linecolor\":\"white\",\"minorgridcolor\":\"white\",\"startlinecolor\":\"#2a3f5f\"},\"baxis\":{\"endlinecolor\":\"#2a3f5f\",\"gridcolor\":\"white\",\"linecolor\":\"white\",\"minorgridcolor\":\"white\",\"startlinecolor\":\"#2a3f5f\"},\"type\":\"carpet\"}],\"choropleth\":[{\"colorbar\":{\"outlinewidth\":0,\"ticks\":\"\"},\"type\":\"choropleth\"}],\"contour\":[{\"colorbar\":{\"outlinewidth\":0,\"ticks\":\"\"},\"colorscale\":[[0.0,\"#0d0887\"],[0.1111111111111111,\"#46039f\"],[0.2222222222222222,\"#7201a8\"],[0.3333333333333333,\"#9c179e\"],[0.4444444444444444,\"#bd3786\"],[0.5555555555555556,\"#d8576b\"],[0.6666666666666666,\"#ed7953\"],[0.7777777777777778,\"#fb9f3a\"],[0.8888888888888888,\"#fdca26\"],[1.0,\"#f0f921\"]],\"type\":\"contour\"}],\"contourcarpet\":[{\"colorbar\":{\"outlinewidth\":0,\"ticks\":\"\"},\"type\":\"contourcarpet\"}],\"heatmap\":[{\"colorbar\":{\"outlinewidth\":0,\"ticks\":\"\"},\"colorscale\":[[0.0,\"#0d0887\"],[0.1111111111111111,\"#46039f\"],[0.2222222222222222,\"#7201a8\"],[0.3333333333333333,\"#9c179e\"],[0.4444444444444444,\"#bd3786\"],[0.5555555555555556,\"#d8576b\"],[0.6666666666666666,\"#ed7953\"],[0.7777777777777778,\"#fb9f3a\"],[0.8888888888888888,\"#fdca26\"],[1.0,\"#f0f921\"]],\"type\":\"heatmap\"}],\"heatmapgl\":[{\"colorbar\":{\"outlinewidth\":0,\"ticks\":\"\"},\"colorscale\":[[0.0,\"#0d0887\"],[0.1111111111111111,\"#46039f\"],[0.2222222222222222,\"#7201a8\"],[0.3333333333333333,\"#9c179e\"],[0.4444444444444444,\"#bd3786\"],[0.5555555555555556,\"#d8576b\"],[0.6666666666666666,\"#ed7953\"],[0.7777777777777778,\"#fb9f3a\"],[0.8888888888888888,\"#fdca26\"],[1.0,\"#f0f921\"]],\"type\":\"heatmapgl\"}],\"histogram\":[{\"marker\":{\"pattern\":{\"fillmode\":\"overlay\",\"size\":10,\"solidity\":0.2}},\"type\":\"histogram\"}],\"histogram2d\":[{\"colorbar\":{\"outlinewidth\":0,\"ticks\":\"\"},\"colorscale\":[[0.0,\"#0d0887\"],[0.1111111111111111,\"#46039f\"],[0.2222222222222222,\"#7201a8\"],[0.3333333333333333,\"#9c179e\"],[0.4444444444444444,\"#bd3786\"],[0.5555555555555556,\"#d8576b\"],[0.6666666666666666,\"#ed7953\"],[0.7777777777777778,\"#fb9f3a\"],[0.8888888888888888,\"#fdca26\"],[1.0,\"#f0f921\"]],\"type\":\"histogram2d\"}],\"histogram2dcontour\":[{\"colorbar\":{\"outlinewidth\":0,\"ticks\":\"\"},\"colorscale\":[[0.0,\"#0d0887\"],[0.1111111111111111,\"#46039f\"],[0.2222222222222222,\"#7201a8\"],[0.3333333333333333,\"#9c179e\"],[0.4444444444444444,\"#bd3786\"],[0.5555555555555556,\"#d8576b\"],[0.6666666666666666,\"#ed7953\"],[0.7777777777777778,\"#fb9f3a\"],[0.8888888888888888,\"#fdca26\"],[1.0,\"#f0f921\"]],\"type\":\"histogram2dcontour\"}],\"mesh3d\":[{\"colorbar\":{\"outlinewidth\":0,\"ticks\":\"\"},\"type\":\"mesh3d\"}],\"parcoords\":[{\"line\":{\"colorbar\":{\"outlinewidth\":0,\"ticks\":\"\"}},\"type\":\"parcoords\"}],\"pie\":[{\"automargin\":true,\"type\":\"pie\"}],\"scatter\":[{\"marker\":{\"colorbar\":{\"outlinewidth\":0,\"ticks\":\"\"}},\"type\":\"scatter\"}],\"scatter3d\":[{\"line\":{\"colorbar\":{\"outlinewidth\":0,\"ticks\":\"\"}},\"marker\":{\"colorbar\":{\"outlinewidth\":0,\"ticks\":\"\"}},\"type\":\"scatter3d\"}],\"scattercarpet\":[{\"marker\":{\"colorbar\":{\"outlinewidth\":0,\"ticks\":\"\"}},\"type\":\"scattercarpet\"}],\"scattergeo\":[{\"marker\":{\"colorbar\":{\"outlinewidth\":0,\"ticks\":\"\"}},\"type\":\"scattergeo\"}],\"scattergl\":[{\"marker\":{\"colorbar\":{\"outlinewidth\":0,\"ticks\":\"\"}},\"type\":\"scattergl\"}],\"scattermapbox\":[{\"marker\":{\"colorbar\":{\"outlinewidth\":0,\"ticks\":\"\"}},\"type\":\"scattermapbox\"}],\"scatterpolar\":[{\"marker\":{\"colorbar\":{\"outlinewidth\":0,\"ticks\":\"\"}},\"type\":\"scatterpolar\"}],\"scatterpolargl\":[{\"marker\":{\"colorbar\":{\"outlinewidth\":0,\"ticks\":\"\"}},\"type\":\"scatterpolargl\"}],\"scatterternary\":[{\"marker\":{\"colorbar\":{\"outlinewidth\":0,\"ticks\":\"\"}},\"type\":\"scatterternary\"}],\"surface\":[{\"colorbar\":{\"outlinewidth\":0,\"ticks\":\"\"},\"colorscale\":[[0.0,\"#0d0887\"],[0.1111111111111111,\"#46039f\"],[0.2222222222222222,\"#7201a8\"],[0.3333333333333333,\"#9c179e\"],[0.4444444444444444,\"#bd3786\"],[0.5555555555555556,\"#d8576b\"],[0.6666666666666666,\"#ed7953\"],[0.7777777777777778,\"#fb9f3a\"],[0.8888888888888888,\"#fdca26\"],[1.0,\"#f0f921\"]],\"type\":\"surface\"}],\"table\":[{\"cells\":{\"fill\":{\"color\":\"#EBF0F8\"},\"line\":{\"color\":\"white\"}},\"header\":{\"fill\":{\"color\":\"#C8D4E3\"},\"line\":{\"color\":\"white\"}},\"type\":\"table\"}]},\"layout\":{\"annotationdefaults\":{\"arrowcolor\":\"#2a3f5f\",\"arrowhead\":0,\"arrowwidth\":1},\"autotypenumbers\":\"strict\",\"coloraxis\":{\"colorbar\":{\"outlinewidth\":0,\"ticks\":\"\"}},\"colorscale\":{\"diverging\":[[0,\"#8e0152\"],[0.1,\"#c51b7d\"],[0.2,\"#de77ae\"],[0.3,\"#f1b6da\"],[0.4,\"#fde0ef\"],[0.5,\"#f7f7f7\"],[0.6,\"#e6f5d0\"],[0.7,\"#b8e186\"],[0.8,\"#7fbc41\"],[0.9,\"#4d9221\"],[1,\"#276419\"]],\"sequential\":[[0.0,\"#0d0887\"],[0.1111111111111111,\"#46039f\"],[0.2222222222222222,\"#7201a8\"],[0.3333333333333333,\"#9c179e\"],[0.4444444444444444,\"#bd3786\"],[0.5555555555555556,\"#d8576b\"],[0.6666666666666666,\"#ed7953\"],[0.7777777777777778,\"#fb9f3a\"],[0.8888888888888888,\"#fdca26\"],[1.0,\"#f0f921\"]],\"sequentialminus\":[[0.0,\"#0d0887\"],[0.1111111111111111,\"#46039f\"],[0.2222222222222222,\"#7201a8\"],[0.3333333333333333,\"#9c179e\"],[0.4444444444444444,\"#bd3786\"],[0.5555555555555556,\"#d8576b\"],[0.6666666666666666,\"#ed7953\"],[0.7777777777777778,\"#fb9f3a\"],[0.8888888888888888,\"#fdca26\"],[1.0,\"#f0f921\"]]},\"colorway\":[\"#636efa\",\"#EF553B\",\"#00cc96\",\"#ab63fa\",\"#FFA15A\",\"#19d3f3\",\"#FF6692\",\"#B6E880\",\"#FF97FF\",\"#FECB52\"],\"font\":{\"color\":\"#2a3f5f\"},\"geo\":{\"bgcolor\":\"white\",\"lakecolor\":\"white\",\"landcolor\":\"#E5ECF6\",\"showlakes\":true,\"showland\":true,\"subunitcolor\":\"white\"},\"hoverlabel\":{\"align\":\"left\"},\"hovermode\":\"closest\",\"mapbox\":{\"style\":\"light\"},\"paper_bgcolor\":\"white\",\"plot_bgcolor\":\"#E5ECF6\",\"polar\":{\"angularaxis\":{\"gridcolor\":\"white\",\"linecolor\":\"white\",\"ticks\":\"\"},\"bgcolor\":\"#E5ECF6\",\"radialaxis\":{\"gridcolor\":\"white\",\"linecolor\":\"white\",\"ticks\":\"\"}},\"scene\":{\"xaxis\":{\"backgroundcolor\":\"#E5ECF6\",\"gridcolor\":\"white\",\"gridwidth\":2,\"linecolor\":\"white\",\"showbackground\":true,\"ticks\":\"\",\"zerolinecolor\":\"white\"},\"yaxis\":{\"backgroundcolor\":\"#E5ECF6\",\"gridcolor\":\"white\",\"gridwidth\":2,\"linecolor\":\"white\",\"showbackground\":true,\"ticks\":\"\",\"zerolinecolor\":\"white\"},\"zaxis\":{\"backgroundcolor\":\"#E5ECF6\",\"gridcolor\":\"white\",\"gridwidth\":2,\"linecolor\":\"white\",\"showbackground\":true,\"ticks\":\"\",\"zerolinecolor\":\"white\"}},\"shapedefaults\":{\"line\":{\"color\":\"#2a3f5f\"}},\"ternary\":{\"aaxis\":{\"gridcolor\":\"white\",\"linecolor\":\"white\",\"ticks\":\"\"},\"baxis\":{\"gridcolor\":\"white\",\"linecolor\":\"white\",\"ticks\":\"\"},\"bgcolor\":\"#E5ECF6\",\"caxis\":{\"gridcolor\":\"white\",\"linecolor\":\"white\",\"ticks\":\"\"}},\"title\":{\"x\":0.05},\"xaxis\":{\"automargin\":true,\"gridcolor\":\"white\",\"linecolor\":\"white\",\"ticks\":\"\",\"title\":{\"standoff\":15},\"zerolinecolor\":\"white\",\"zerolinewidth\":2},\"yaxis\":{\"automargin\":true,\"gridcolor\":\"white\",\"linecolor\":\"white\",\"ticks\":\"\",\"title\":{\"standoff\":15},\"zerolinecolor\":\"white\",\"zerolinewidth\":2}}},\"xaxis\":{\"anchor\":\"y\",\"domain\":[0.0,1.0],\"title\":{\"text\":\"x\"}},\"yaxis\":{\"anchor\":\"x\",\"domain\":[0.0,1.0],\"title\":{\"text\":\"y\"}},\"legend\":{\"title\":{\"text\":\"color, symbol\"},\"tracegroupgap\":0},\"margin\":{\"t\":60}},                        {\"responsive\": true}                    ).then(function(){\n",
              "                            \n",
              "var gd = document.getElementById('47ae0ba8-079a-4c7e-acd6-e2452b9aeb25');\n",
              "var x = new MutationObserver(function (mutations, observer) {{\n",
              "        var display = window.getComputedStyle(gd).display;\n",
              "        if (!display || display === 'none') {{\n",
              "            console.log([gd, 'removed!']);\n",
              "            Plotly.purge(gd);\n",
              "            observer.disconnect();\n",
              "        }}\n",
              "}});\n",
              "\n",
              "// Listen for the removal of the full notebook cells\n",
              "var notebookContainer = gd.closest('#notebook-container');\n",
              "if (notebookContainer) {{\n",
              "    x.observe(notebookContainer, {childList: true});\n",
              "}}\n",
              "\n",
              "// Listen for the clearing of the current output cell\n",
              "var outputEl = gd.closest('.output');\n",
              "if (outputEl) {{\n",
              "    x.observe(outputEl, {childList: true});\n",
              "}}\n",
              "\n",
              "                        })                };                            </script>        </div>\n",
              "</body>\n",
              "</html>"
            ]
          },
          "metadata": {}
        }
      ]
    }
  ]
}