{
 "cells": [
  {
   "cell_type": "code",
   "execution_count": 57,
   "id": "b050f65a",
   "metadata": {},
   "outputs": [],
   "source": [
    "import os\n",
    "from sklearn.model_selection import train_test_split\n",
    "import gensim\n",
    "import gensim.downloader as api\n",
    "from sklearn.neighbors._classification import KNeighborsClassifier\n",
    "from sklearn.metrics import accuracy_score\n",
    "import urllib.request, json\n",
    "from nltk.tokenize import sent_tokenize, word_tokenize\n",
    "import random"
   ]
  },
  {
   "cell_type": "markdown",
   "id": "e3f60ec2",
   "metadata": {},
   "source": [
    "### Load the Data"
   ]
  },
  {
   "cell_type": "code",
   "execution_count": 2,
   "id": "68c16e35",
   "metadata": {},
   "outputs": [],
   "source": [
    "jb_folder = '/Users/romitbarua/Documents/Berkeley/Spring 2023/world_leaders/combined/worldleaders20/jb'\n",
    "br_folder = '/br'"
   ]
  },
  {
   "cell_type": "code",
   "execution_count": 3,
   "id": "9c2de9b7",
   "metadata": {},
   "outputs": [],
   "source": [
    "def processWord(word):\n",
    "    word = word.lower()\n",
    "    return ''.join(e for e in word if e.isalnum())\n",
    "    "
   ]
  },
  {
   "cell_type": "code",
   "execution_count": 4,
   "id": "c002b21c",
   "metadata": {},
   "outputs": [],
   "source": [
    "path = '/Users/romitbarua/Documents/Berkeley/Spring 2023/world_leaders/combined/worldleaders20'\n",
    "speakers = ['jb', 'br', 'pb', 'kh', 'cb']\n",
    "\n",
    "data = []\n",
    "data_tags = []\n",
    "\n",
    "for speaker in speakers:\n",
    "    for file in os.listdir(os.path.join(path,speaker)):\n",
    "        file_content = []\n",
    "        if ('.txt' in file) and ('phone' not in file):\n",
    "            with open(os.path.join(path, speaker,file)) as f:\n",
    "                lines = f.readlines()\n",
    "                for line in lines:\n",
    "                    \n",
    "                    file_content.append(processWord(line.split(',')[0]))\n",
    "                    \n",
    "            data.append(file_content)\n",
    "            data_tags.append(speaker)\n",
    "        \n",
    "        "
   ]
  },
  {
   "cell_type": "code",
   "execution_count": 5,
   "id": "09c065da",
   "metadata": {},
   "outputs": [],
   "source": [
    "X_train, X_test, y_train, y_test = train_test_split(data, data_tags, test_size=0.10)"
   ]
  },
  {
   "cell_type": "code",
   "execution_count": 6,
   "id": "80cb363a",
   "metadata": {},
   "outputs": [
    {
     "name": "stdout",
     "output_type": "stream",
     "text": [
      "Number of training documents: 1117\n",
      "Number of testing documents: 125\n"
     ]
    }
   ],
   "source": [
    "print(f'Number of training documents: {len(X_train)}')\n",
    "print(f'Number of testing documents: {len(X_test)}')"
   ]
  },
  {
   "cell_type": "code",
   "execution_count": 7,
   "id": "5443a08d",
   "metadata": {},
   "outputs": [],
   "source": [
    "#pip install numpy --upgrade"
   ]
  },
  {
   "cell_type": "code",
   "execution_count": 8,
   "id": "fe34500e",
   "metadata": {},
   "outputs": [],
   "source": [
    "#dataset = api.load(\"text8\")"
   ]
  },
  {
   "cell_type": "code",
   "execution_count": 9,
   "id": "356e98ea",
   "metadata": {},
   "outputs": [],
   "source": [
    "#data = [d for d in dataset]"
   ]
  },
  {
   "cell_type": "code",
   "execution_count": 10,
   "id": "e2854dfd",
   "metadata": {},
   "outputs": [],
   "source": [
    "def tagged_document(list_of_list_of_words):\n",
    "    for i, list_of_words in enumerate(list_of_list_of_words):\n",
    "        yield gensim.models.doc2vec.TaggedDocument(list_of_words, [i])"
   ]
  },
  {
   "cell_type": "code",
   "execution_count": 11,
   "id": "ba71237c",
   "metadata": {},
   "outputs": [],
   "source": [
    "data_training = list(tagged_document(X_train))"
   ]
  },
  {
   "cell_type": "code",
   "execution_count": 12,
   "id": "cdce906c",
   "metadata": {},
   "outputs": [
    {
     "data": {
      "text/plain": [
       "[TaggedDocument(words=['not', 'just', 'tactically', 'focusing', 'in', 'on', 'him', 'we', 'cannot', 'run', 'this', 'race', 'about', 'what', 'were', 'against', 'we', 'have', 'to', 'run', 'this', 'race', 'by', 'what', 'were', 'four', 'because', 'thats', 'going', 'to', 'inspire', 'people', 'thats', 'going', 'to', 'energize', 'folks', 'at', 'the', 'tactics', 'of', 'just', 'beating', 'him', 'im', 'sorry', 'he', 'wants', 'to', 'make', 'this', 'all', 'about', 'him', 'he', 'wants', 'to', 'suck', 'all', 'the', 'oxygen', 'again', 'out', 'of', 'an', 'election', 'and', 'he', 'wants', 'us', 'to', 'fight', 'him', 'on', 'his', 'turfs', 'and', 'his', 'terms', 'i', 'know', 'this', 'from', 'going', 'up', 'against', 'tough'], tags=[0]),\n",
       " TaggedDocument(words=['theyre', 'wondering', 'who', 'it', 'is', 'that', 'ted', 'cruz', 'represent', 'in', 'the', 'senate', 'hes', 'taken', 'hundreds', 'of', 'thousands', 'of', 'dollars', 'from', 'the', 'nra', 'so', 'as', 'people', 'are', 'begging', 'us', 'to', 'take', 'action', 'and', 'dispense', 'with', 'the', 'prayers', 'and', 'thoughts', 'and', 'make', 'sure', 'that', 'we', 'have', 'comprehensive', 'universal', 'background', 'checks', 'and', 'save', 'the', 'lives', 'of', 'our', 'fellow', 'americans', 'and', 'fellow', 'texans', 'as', 'they', 'asked', 'us', 'to', 'ensure', 'that', 'we', 'dont', 'allow', 'people', 'to', 'buy', 'weapons', 'of', 'war', 'designed', 'for', 'the', 'sole', 'purpose', 'of', 'killing', 'people', 'as', 'effectively', 'and', 'efficiently', 'theyre', 'going', 'to', 'see'], tags=[1])]"
      ]
     },
     "execution_count": 12,
     "metadata": {},
     "output_type": "execute_result"
    }
   ],
   "source": [
    "data_training [:2]"
   ]
  },
  {
   "cell_type": "code",
   "execution_count": 13,
   "id": "a6e2db0d",
   "metadata": {},
   "outputs": [],
   "source": [
    "model = gensim.models.doc2vec.Doc2Vec(vector_size=75, min_count=3, epochs=800)"
   ]
  },
  {
   "cell_type": "code",
   "execution_count": 14,
   "id": "b3ac1088",
   "metadata": {},
   "outputs": [],
   "source": [
    "model.build_vocab(data_training)"
   ]
  },
  {
   "cell_type": "code",
   "execution_count": 15,
   "id": "4c72945a",
   "metadata": {},
   "outputs": [
    {
     "name": "stdout",
     "output_type": "stream",
     "text": [
      "[-0.0018015  -0.00469368 -0.00369109 -0.0012169  -0.00447437 -0.00347355\n",
      " -0.00558665 -0.00653968  0.00551053 -0.00426685 -0.00238561  0.00063201\n",
      "  0.00154458 -0.00454299 -0.00551792  0.00224212  0.00240443  0.00400222\n",
      "  0.00434341  0.00066305  0.00506318 -0.00409319 -0.0034704  -0.00317483\n",
      " -0.00475692 -0.00579562  0.0033451   0.0014919  -0.00486575  0.00061452\n",
      "  0.0029611  -0.00617157 -0.00475545 -0.00550879  0.006036   -0.00412667\n",
      " -0.00271706 -0.00076478  0.0027844  -0.00151195  0.00035146 -0.00239385\n",
      " -0.00072916 -0.00333275  0.00608678 -0.00418608  0.00323968  0.00264291\n",
      " -0.00051592 -0.00282541 -0.00535957 -0.00017715 -0.00498864 -0.00041258\n",
      " -0.00509849  0.00506417  0.00323221  0.00188181 -0.00157215 -0.0020488\n",
      "  0.00183242  0.00506284 -0.00150484 -0.00163814 -0.00597288  0.00433506\n",
      " -0.00478104 -0.00363955  0.00510365  0.00418079 -0.0011654  -0.00494329\n",
      "  0.00608666 -0.00347432  0.00340798]\n"
     ]
    }
   ],
   "source": [
    "print(model.infer_vector(['violent', 'means', 'to', 'destroy', 'the','organization']))"
   ]
  },
  {
   "cell_type": "code",
   "execution_count": 16,
   "id": "a314a84d",
   "metadata": {},
   "outputs": [],
   "source": [
    "train_embeddings = []\n",
    "\n",
    "for i in X_train:\n",
    "    train_embeddings.append(model.infer_vector(i))"
   ]
  },
  {
   "cell_type": "code",
   "execution_count": 17,
   "id": "a09ed768",
   "metadata": {},
   "outputs": [],
   "source": [
    "test_embeddings = []\n",
    "\n",
    "for i in X_test:\n",
    "    test_embeddings.append(model.infer_vector(i))"
   ]
  },
  {
   "cell_type": "code",
   "execution_count": 18,
   "id": "54fb16c6",
   "metadata": {},
   "outputs": [],
   "source": [
    "knn = KNeighborsClassifier()"
   ]
  },
  {
   "cell_type": "code",
   "execution_count": 19,
   "id": "5af83c66",
   "metadata": {},
   "outputs": [
    {
     "data": {
      "text/html": [
       "<style>#sk-container-id-1 {color: black;background-color: white;}#sk-container-id-1 pre{padding: 0;}#sk-container-id-1 div.sk-toggleable {background-color: white;}#sk-container-id-1 label.sk-toggleable__label {cursor: pointer;display: block;width: 100%;margin-bottom: 0;padding: 0.3em;box-sizing: border-box;text-align: center;}#sk-container-id-1 label.sk-toggleable__label-arrow:before {content: \"▸\";float: left;margin-right: 0.25em;color: #696969;}#sk-container-id-1 label.sk-toggleable__label-arrow:hover:before {color: black;}#sk-container-id-1 div.sk-estimator:hover label.sk-toggleable__label-arrow:before {color: black;}#sk-container-id-1 div.sk-toggleable__content {max-height: 0;max-width: 0;overflow: hidden;text-align: left;background-color: #f0f8ff;}#sk-container-id-1 div.sk-toggleable__content pre {margin: 0.2em;color: black;border-radius: 0.25em;background-color: #f0f8ff;}#sk-container-id-1 input.sk-toggleable__control:checked~div.sk-toggleable__content {max-height: 200px;max-width: 100%;overflow: auto;}#sk-container-id-1 input.sk-toggleable__control:checked~label.sk-toggleable__label-arrow:before {content: \"▾\";}#sk-container-id-1 div.sk-estimator input.sk-toggleable__control:checked~label.sk-toggleable__label {background-color: #d4ebff;}#sk-container-id-1 div.sk-label input.sk-toggleable__control:checked~label.sk-toggleable__label {background-color: #d4ebff;}#sk-container-id-1 input.sk-hidden--visually {border: 0;clip: rect(1px 1px 1px 1px);clip: rect(1px, 1px, 1px, 1px);height: 1px;margin: -1px;overflow: hidden;padding: 0;position: absolute;width: 1px;}#sk-container-id-1 div.sk-estimator {font-family: monospace;background-color: #f0f8ff;border: 1px dotted black;border-radius: 0.25em;box-sizing: border-box;margin-bottom: 0.5em;}#sk-container-id-1 div.sk-estimator:hover {background-color: #d4ebff;}#sk-container-id-1 div.sk-parallel-item::after {content: \"\";width: 100%;border-bottom: 1px solid gray;flex-grow: 1;}#sk-container-id-1 div.sk-label:hover label.sk-toggleable__label {background-color: #d4ebff;}#sk-container-id-1 div.sk-serial::before {content: \"\";position: absolute;border-left: 1px solid gray;box-sizing: border-box;top: 0;bottom: 0;left: 50%;z-index: 0;}#sk-container-id-1 div.sk-serial {display: flex;flex-direction: column;align-items: center;background-color: white;padding-right: 0.2em;padding-left: 0.2em;position: relative;}#sk-container-id-1 div.sk-item {position: relative;z-index: 1;}#sk-container-id-1 div.sk-parallel {display: flex;align-items: stretch;justify-content: center;background-color: white;position: relative;}#sk-container-id-1 div.sk-item::before, #sk-container-id-1 div.sk-parallel-item::before {content: \"\";position: absolute;border-left: 1px solid gray;box-sizing: border-box;top: 0;bottom: 0;left: 50%;z-index: -1;}#sk-container-id-1 div.sk-parallel-item {display: flex;flex-direction: column;z-index: 1;position: relative;background-color: white;}#sk-container-id-1 div.sk-parallel-item:first-child::after {align-self: flex-end;width: 50%;}#sk-container-id-1 div.sk-parallel-item:last-child::after {align-self: flex-start;width: 50%;}#sk-container-id-1 div.sk-parallel-item:only-child::after {width: 0;}#sk-container-id-1 div.sk-dashed-wrapped {border: 1px dashed gray;margin: 0 0.4em 0.5em 0.4em;box-sizing: border-box;padding-bottom: 0.4em;background-color: white;}#sk-container-id-1 div.sk-label label {font-family: monospace;font-weight: bold;display: inline-block;line-height: 1.2em;}#sk-container-id-1 div.sk-label-container {text-align: center;}#sk-container-id-1 div.sk-container {/* jupyter's `normalize.less` sets `[hidden] { display: none; }` but bootstrap.min.css set `[hidden] { display: none !important; }` so we also need the `!important` here to be able to override the default hidden behavior on the sphinx rendered scikit-learn.org. See: https://github.com/scikit-learn/scikit-learn/issues/21755 */display: inline-block !important;position: relative;}#sk-container-id-1 div.sk-text-repr-fallback {display: none;}</style><div id=\"sk-container-id-1\" class=\"sk-top-container\"><div class=\"sk-text-repr-fallback\"><pre>KNeighborsClassifier()</pre><b>In a Jupyter environment, please rerun this cell to show the HTML representation or trust the notebook. <br />On GitHub, the HTML representation is unable to render, please try loading this page with nbviewer.org.</b></div><div class=\"sk-container\" hidden><div class=\"sk-item\"><div class=\"sk-estimator sk-toggleable\"><input class=\"sk-toggleable__control sk-hidden--visually\" id=\"sk-estimator-id-1\" type=\"checkbox\" checked><label for=\"sk-estimator-id-1\" class=\"sk-toggleable__label sk-toggleable__label-arrow\">KNeighborsClassifier</label><div class=\"sk-toggleable__content\"><pre>KNeighborsClassifier()</pre></div></div></div></div></div>"
      ],
      "text/plain": [
       "KNeighborsClassifier()"
      ]
     },
     "execution_count": 19,
     "metadata": {},
     "output_type": "execute_result"
    }
   ],
   "source": [
    "knn.fit(train_embeddings, y_train)"
   ]
  },
  {
   "cell_type": "code",
   "execution_count": 20,
   "id": "f8b42a95",
   "metadata": {},
   "outputs": [
    {
     "name": "stderr",
     "output_type": "stream",
     "text": [
      "/Users/romitbarua/opt/anaconda3/lib/python3.8/site-packages/sklearn/neighbors/_classification.py:237: FutureWarning: Unlike other reduction functions (e.g. `skew`, `kurtosis`), the default behavior of `mode` typically preserves the axis it acts along. In SciPy 1.11.0, this behavior will change: the default value of `keepdims` will become False, the `axis` over which the statistic is taken will be eliminated, and the value None will no longer be accepted. Set `keepdims` to True or False to avoid this warning.\n",
      "  mode, _ = stats.mode(_y[neigh_ind, k], axis=1)\n"
     ]
    }
   ],
   "source": [
    "pred = knn.predict(test_embeddings)\n",
    "acc = accuracy_score(y_test, pred)"
   ]
  },
  {
   "cell_type": "code",
   "execution_count": 21,
   "id": "0a03927b",
   "metadata": {},
   "outputs": [
    {
     "name": "stdout",
     "output_type": "stream",
     "text": [
      "0.224\n"
     ]
    }
   ],
   "source": [
    "print(acc)"
   ]
  },
  {
   "cell_type": "markdown",
   "id": "106f684f",
   "metadata": {},
   "source": [
    "# Full Presidential Speech Data"
   ]
  },
  {
   "cell_type": "code",
   "execution_count": 70,
   "id": "e7999ac5",
   "metadata": {},
   "outputs": [
    {
     "name": "stderr",
     "output_type": "stream",
     "text": [
      "IOPub data rate exceeded.\n",
      "The notebook server will temporarily stop sending output\n",
      "to the client in order to avoid crashing it.\n",
      "To change this limit, set the config variable\n",
      "`--NotebookApp.iopub_data_rate_limit`.\n",
      "\n",
      "Current values:\n",
      "NotebookApp.iopub_data_rate_limit=1000000.0 (bytes/sec)\n",
      "NotebookApp.rate_limit_window=3.0 (secs)\n",
      "\n"
     ]
    }
   ],
   "source": [
    "with urllib.request.urlopen('https://millercenter.org/sites/default/files/corpus/presidential-speeches.json') as url:\n",
    "    data = json.load(url)\n",
    "    print(data)"
   ]
  },
  {
   "cell_type": "code",
   "execution_count": 73,
   "id": "fc5982db",
   "metadata": {},
   "outputs": [],
   "source": [
    "obama_speeches = [] #Barack Obama\n",
    "bush_speeches = [] #George W. Bush\n",
    "\n",
    "for i in data:\n",
    "\n",
    "    if i['president'] == 'Barack Obama':\n",
    "        obama_speeches.append(i['transcript'])\n",
    "    elif i['president'] == 'George W. Bush':\n",
    "        bush_speeches.append(i['transcript'])\n",
    "        "
   ]
  },
  {
   "cell_type": "code",
   "execution_count": 74,
   "id": "dd1d85e0",
   "metadata": {},
   "outputs": [
    {
     "data": {
      "text/plain": [
       "12005"
      ]
     },
     "execution_count": 74,
     "metadata": {},
     "output_type": "execute_result"
    }
   ],
   "source": [
    "obama_sent = []\n",
    "for speech in obama_speeches:\n",
    "    obama_sent.extend(sent_tokenize(speech))\n",
    "len(obama_sent)"
   ]
  },
  {
   "cell_type": "code",
   "execution_count": 75,
   "id": "9f49d1e6",
   "metadata": {},
   "outputs": [
    {
     "data": {
      "text/plain": [
       "6475"
      ]
     },
     "execution_count": 75,
     "metadata": {},
     "output_type": "execute_result"
    }
   ],
   "source": [
    "bush_sent = []\n",
    "for speech in bush_speeches:\n",
    "    bush_sent.extend(sent_tokenize(speech))\n",
    "len(bush_sent)"
   ]
  },
  {
   "cell_type": "code",
   "execution_count": 76,
   "id": "7ea2a29f",
   "metadata": {},
   "outputs": [],
   "source": [
    "obama_token_sent = []\n",
    "for sent in obama_sent:\n",
    "    obama_token_sent.append(word_tokenize(sent))\n",
    "    \n",
    "bush_token_sent = []\n",
    "for sent in bush_sent:\n",
    "    bush_token_sent.append(word_tokenize(sent))\n",
    "    \n",
    "random.shuffle(obama_token_sent)\n",
    "random.shuffle(bush_token_sent)"
   ]
  },
  {
   "cell_type": "code",
   "execution_count": 77,
   "id": "48155a5b",
   "metadata": {},
   "outputs": [],
   "source": [
    "train_perc = 0.8\n",
    "\n",
    "obama_train = obama_token_sent[:int(len(obama_token_sent)*train_perc)]\n",
    "bush_train = bush_token_sent[:int(len(bush_token_sent)*train_perc)]\n",
    "obama_test = obama_token_sent[int(len(obama_token_sent)*train_perc):]\n",
    "bush_test = bush_token_sent[int(len(bush_token_sent)*train_perc):]\n",
    "\n",
    "X_train = obama_train + bush_train\n",
    "X_test = obama_test + bush_test\n",
    "y_train = [1]*len(obama_train) + [0]*len(bush_train)\n",
    "y_test = [1]*len(obama_test) + [0]*len(bush_test)"
   ]
  },
  {
   "cell_type": "code",
   "execution_count": 78,
   "id": "699993a1",
   "metadata": {},
   "outputs": [],
   "source": [
    "data_training = list(tagged_document(X_train))"
   ]
  },
  {
   "cell_type": "code",
   "execution_count": 79,
   "id": "59303062",
   "metadata": {},
   "outputs": [],
   "source": [
    "model = gensim.models.doc2vec.Doc2Vec(vector_size=50, min_count=3, epochs=100)\n",
    "model.build_vocab(data_training)"
   ]
  },
  {
   "cell_type": "code",
   "execution_count": 80,
   "id": "6668edeb",
   "metadata": {},
   "outputs": [],
   "source": [
    "train_embeddings = []\n",
    "\n",
    "for i in X_train:\n",
    "    train_embeddings.append(model.infer_vector(i))"
   ]
  },
  {
   "cell_type": "code",
   "execution_count": 81,
   "id": "5d8e57f9",
   "metadata": {},
   "outputs": [],
   "source": [
    "test_embeddings = []\n",
    "\n",
    "for i in X_test:\n",
    "    test_embeddings.append(model.infer_vector(i))"
   ]
  },
  {
   "cell_type": "code",
   "execution_count": 82,
   "id": "9bb62874",
   "metadata": {},
   "outputs": [
    {
     "data": {
      "text/html": [
       "<style>#sk-container-id-2 {color: black;background-color: white;}#sk-container-id-2 pre{padding: 0;}#sk-container-id-2 div.sk-toggleable {background-color: white;}#sk-container-id-2 label.sk-toggleable__label {cursor: pointer;display: block;width: 100%;margin-bottom: 0;padding: 0.3em;box-sizing: border-box;text-align: center;}#sk-container-id-2 label.sk-toggleable__label-arrow:before {content: \"▸\";float: left;margin-right: 0.25em;color: #696969;}#sk-container-id-2 label.sk-toggleable__label-arrow:hover:before {color: black;}#sk-container-id-2 div.sk-estimator:hover label.sk-toggleable__label-arrow:before {color: black;}#sk-container-id-2 div.sk-toggleable__content {max-height: 0;max-width: 0;overflow: hidden;text-align: left;background-color: #f0f8ff;}#sk-container-id-2 div.sk-toggleable__content pre {margin: 0.2em;color: black;border-radius: 0.25em;background-color: #f0f8ff;}#sk-container-id-2 input.sk-toggleable__control:checked~div.sk-toggleable__content {max-height: 200px;max-width: 100%;overflow: auto;}#sk-container-id-2 input.sk-toggleable__control:checked~label.sk-toggleable__label-arrow:before {content: \"▾\";}#sk-container-id-2 div.sk-estimator input.sk-toggleable__control:checked~label.sk-toggleable__label {background-color: #d4ebff;}#sk-container-id-2 div.sk-label input.sk-toggleable__control:checked~label.sk-toggleable__label {background-color: #d4ebff;}#sk-container-id-2 input.sk-hidden--visually {border: 0;clip: rect(1px 1px 1px 1px);clip: rect(1px, 1px, 1px, 1px);height: 1px;margin: -1px;overflow: hidden;padding: 0;position: absolute;width: 1px;}#sk-container-id-2 div.sk-estimator {font-family: monospace;background-color: #f0f8ff;border: 1px dotted black;border-radius: 0.25em;box-sizing: border-box;margin-bottom: 0.5em;}#sk-container-id-2 div.sk-estimator:hover {background-color: #d4ebff;}#sk-container-id-2 div.sk-parallel-item::after {content: \"\";width: 100%;border-bottom: 1px solid gray;flex-grow: 1;}#sk-container-id-2 div.sk-label:hover label.sk-toggleable__label {background-color: #d4ebff;}#sk-container-id-2 div.sk-serial::before {content: \"\";position: absolute;border-left: 1px solid gray;box-sizing: border-box;top: 0;bottom: 0;left: 50%;z-index: 0;}#sk-container-id-2 div.sk-serial {display: flex;flex-direction: column;align-items: center;background-color: white;padding-right: 0.2em;padding-left: 0.2em;position: relative;}#sk-container-id-2 div.sk-item {position: relative;z-index: 1;}#sk-container-id-2 div.sk-parallel {display: flex;align-items: stretch;justify-content: center;background-color: white;position: relative;}#sk-container-id-2 div.sk-item::before, #sk-container-id-2 div.sk-parallel-item::before {content: \"\";position: absolute;border-left: 1px solid gray;box-sizing: border-box;top: 0;bottom: 0;left: 50%;z-index: -1;}#sk-container-id-2 div.sk-parallel-item {display: flex;flex-direction: column;z-index: 1;position: relative;background-color: white;}#sk-container-id-2 div.sk-parallel-item:first-child::after {align-self: flex-end;width: 50%;}#sk-container-id-2 div.sk-parallel-item:last-child::after {align-self: flex-start;width: 50%;}#sk-container-id-2 div.sk-parallel-item:only-child::after {width: 0;}#sk-container-id-2 div.sk-dashed-wrapped {border: 1px dashed gray;margin: 0 0.4em 0.5em 0.4em;box-sizing: border-box;padding-bottom: 0.4em;background-color: white;}#sk-container-id-2 div.sk-label label {font-family: monospace;font-weight: bold;display: inline-block;line-height: 1.2em;}#sk-container-id-2 div.sk-label-container {text-align: center;}#sk-container-id-2 div.sk-container {/* jupyter's `normalize.less` sets `[hidden] { display: none; }` but bootstrap.min.css set `[hidden] { display: none !important; }` so we also need the `!important` here to be able to override the default hidden behavior on the sphinx rendered scikit-learn.org. See: https://github.com/scikit-learn/scikit-learn/issues/21755 */display: inline-block !important;position: relative;}#sk-container-id-2 div.sk-text-repr-fallback {display: none;}</style><div id=\"sk-container-id-2\" class=\"sk-top-container\"><div class=\"sk-text-repr-fallback\"><pre>KNeighborsClassifier()</pre><b>In a Jupyter environment, please rerun this cell to show the HTML representation or trust the notebook. <br />On GitHub, the HTML representation is unable to render, please try loading this page with nbviewer.org.</b></div><div class=\"sk-container\" hidden><div class=\"sk-item\"><div class=\"sk-estimator sk-toggleable\"><input class=\"sk-toggleable__control sk-hidden--visually\" id=\"sk-estimator-id-2\" type=\"checkbox\" checked><label for=\"sk-estimator-id-2\" class=\"sk-toggleable__label sk-toggleable__label-arrow\">KNeighborsClassifier</label><div class=\"sk-toggleable__content\"><pre>KNeighborsClassifier()</pre></div></div></div></div></div>"
      ],
      "text/plain": [
       "KNeighborsClassifier()"
      ]
     },
     "execution_count": 82,
     "metadata": {},
     "output_type": "execute_result"
    }
   ],
   "source": [
    "knn = KNeighborsClassifier()\n",
    "knn.fit(train_embeddings, y_train)"
   ]
  },
  {
   "cell_type": "code",
   "execution_count": 83,
   "id": "0c8581c7",
   "metadata": {},
   "outputs": [
    {
     "name": "stdout",
     "output_type": "stream",
     "text": [
      "0.5906385281385281\n"
     ]
    },
    {
     "name": "stderr",
     "output_type": "stream",
     "text": [
      "/Users/romitbarua/opt/anaconda3/lib/python3.8/site-packages/sklearn/neighbors/_classification.py:237: FutureWarning: Unlike other reduction functions (e.g. `skew`, `kurtosis`), the default behavior of `mode` typically preserves the axis it acts along. In SciPy 1.11.0, this behavior will change: the default value of `keepdims` will become False, the `axis` over which the statistic is taken will be eliminated, and the value None will no longer be accepted. Set `keepdims` to True or False to avoid this warning.\n",
      "  mode, _ = stats.mode(_y[neigh_ind, k], axis=1)\n"
     ]
    }
   ],
   "source": [
    "pred = knn.predict(test_embeddings)\n",
    "acc = accuracy_score(y_test, pred)\n",
    "print(acc)"
   ]
  }
 ],
 "metadata": {
  "kernelspec": {
   "display_name": "Python 3",
   "language": "python",
   "name": "python3"
  },
  "language_info": {
   "codemirror_mode": {
    "name": "ipython",
    "version": 3
   },
   "file_extension": ".py",
   "mimetype": "text/x-python",
   "name": "python",
   "nbconvert_exporter": "python",
   "pygments_lexer": "ipython3",
   "version": "3.8.10"
  }
 },
 "nbformat": 4,
 "nbformat_minor": 5
}
