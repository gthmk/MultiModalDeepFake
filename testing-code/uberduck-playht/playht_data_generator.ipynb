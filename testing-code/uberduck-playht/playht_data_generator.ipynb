{
 "cells": [
  {
   "cell_type": "markdown",
   "id": "860e946e-38a0-42af-ac0a-4e7a16d5f967",
   "metadata": {
    "tags": []
   },
   "source": [
    "# Play.ht audio generation"
   ]
  },
  {
   "cell_type": "code",
   "execution_count": 1,
   "id": "b332a378-c880-453e-91c1-3eb75681acf8",
   "metadata": {},
   "outputs": [],
   "source": [
    "import pandas as pd\n",
    "from uberduck import UberDuck\n",
    "import numpy as np\n",
    "from tqdm import tqdm\n",
    "from IPython.display import Audio\n",
    "import os\n",
    "import json\n",
    "import requests\n",
    "base_path = '/home/ubuntu/'\n",
    "\n",
    "import sys\n",
    "sys.path.append(\"/home/ubuntu/testing-code/uberduck-playht\")\n",
    "from playhtDataGenerator import PlayHTVoiceClone"
   ]
  },
  {
   "cell_type": "markdown",
   "id": "8c2cf9b0-c047-49bf-bc60-e8c3c9835cd8",
   "metadata": {
    "tags": []
   },
   "source": [
    "## Creating the credentials:"
   ]
  },
  {
   "cell_type": "code",
   "execution_count": null,
   "id": "fe838f53-5727-4bcf-949e-75e1bac20130",
   "metadata": {},
   "outputs": [],
   "source": [
    "creds = {}\n",
    "creds['X-User-ID'] = '1g4C32urRZNvEF3jFzkRmeQ4Qvf2'\n",
    "creds['Authorization'] = '56d6a907d782446098e2707d484c8825'\n",
    "creds"
   ]
  },
  {
   "cell_type": "code",
   "execution_count": null,
   "id": "b235ea84-760e-456b-97e2-1d0b70bbc70e",
   "metadata": {},
   "outputs": [],
   "source": [
    "filepath = \"/home/ubuntu/configs/playht_api_credentials.json\"\n",
    "\n",
    "with open(filepath, 'w') as f:\n",
    "    json.dump(creds, f, indent=4)"
   ]
  },
  {
   "cell_type": "code",
   "execution_count": null,
   "id": "d050012f-e47d-45f2-9a19-970c06a74205",
   "metadata": {},
   "outputs": [],
   "source": [
    "with open(filepath, 'r') as f:\n",
    "    api_credentials = json.load(f)"
   ]
  },
  {
   "cell_type": "code",
   "execution_count": null,
   "id": "b21d1535-895f-463c-a515-bb77833dfedf",
   "metadata": {},
   "outputs": [],
   "source": [
    "type(api_credentials)"
   ]
  },
  {
   "cell_type": "markdown",
   "id": "a14147b5-ec0c-4481-ac11-85f546370ca1",
   "metadata": {
    "tags": []
   },
   "source": [
    "## Loading LJ transcripts"
   ]
  },
  {
   "cell_type": "code",
   "execution_count": 2,
   "id": "65a7ad7f-f366-403e-b85a-de66560480d6",
   "metadata": {},
   "outputs": [],
   "source": [
    "ljmd_path = base_path + 'data/wavefake_data/LJSpeech_1.1/metadata.csv'\n",
    "LJ_metadata = pd.read_csv(ljmd_path, sep='|', names=['id', 'transcript1', 'transcript2'])"
   ]
  },
  {
   "cell_type": "code",
   "execution_count": 3,
   "id": "6720f2b0-900d-4307-b3c8-75f986465664",
   "metadata": {},
   "outputs": [],
   "source": [
    "transcripts = list(LJ_metadata['transcript1'].sample(n=5))"
   ]
  },
  {
   "cell_type": "code",
   "execution_count": null,
   "id": "4c7f7502-2571-4489-9726-d49b3819a267",
   "metadata": {},
   "outputs": [],
   "source": []
  },
  {
   "cell_type": "code",
   "execution_count": 4,
   "id": "29def40e-3763-49e4-8546-85ab6b0c3092",
   "metadata": {},
   "outputs": [],
   "source": [
    "ljfake_path = base_path + 'data/wavefake_data/generated_audio/ljspeech_playht/original/'"
   ]
  },
  {
   "cell_type": "code",
   "execution_count": 5,
   "id": "e5a13873",
   "metadata": {},
   "outputs": [],
   "source": [
    "phtvc = PlayHTVoiceClone()"
   ]
  },
  {
   "cell_type": "code",
   "execution_count": 9,
   "id": "369a4792",
   "metadata": {},
   "outputs": [],
   "source": [
    "#phtvc.select_cloned_voice()"
   ]
  },
  {
   "cell_type": "code",
   "execution_count": null,
   "id": "0b912714",
   "metadata": {},
   "outputs": [],
   "source": []
  },
  {
   "cell_type": "code",
   "execution_count": null,
   "id": "68704e15",
   "metadata": {},
   "outputs": [],
   "source": [
    "test_url_1 = 'https://play.ht/api/v1/getClonedVoices'"
   ]
  },
  {
   "cell_type": "code",
   "execution_count": 11,
   "id": "e4112cc6",
   "metadata": {},
   "outputs": [
    {
     "name": "stdout",
     "output_type": "stream",
     "text": [
      "{\"status\":\"CREATED\",\"transcriptionId\":\"-NSTxJuPo8uSixkvndRa\",\"contentLength\":2,\"wordCount\":18}\n"
     ]
    }
   ],
   "source": [
    "import requests\n",
    "import json\n",
    "\n",
    "url = \"https://play.ht/api/v2/convert\"\n",
    "\n",
    "payload = json.dumps({\n",
    "  \"voice\": \"en-US-MichelleNeural\",\n",
    "  \"content\": [\n",
    "   \"Hello My frinedsss\",\n",
    "   \"either pass content s an array of strings , or ssml , but not both\"\n",
    "  ],\n",
    "   \"title\": \"Testing public api convertion\"\n",
    "})\n",
    "headers = {\n",
    "  'Authorization': '56d6a907d782446098e2707d484c8825',\n",
    "  'X-User-ID': '1g4C32urRZNvEF3jFzkRmeQ4Qvf2',\n",
    "  'Content-Type': 'application/json'\n",
    "}\n",
    "\n",
    "response = requests.request(\"POST\", url, headers=headers, data=payload)\n",
    "print(response.text)"
   ]
  },
  {
   "cell_type": "code",
   "execution_count": 23,
   "id": "6f7c6a62",
   "metadata": {},
   "outputs": [],
   "source": [
    "url2 = \"https://play.ht/api/v2/getClonedVoices\"\n",
    "\n",
    "headers = {\n",
    "  'AUTHORIZATION': '56d6a907d782446098e2707d484c8825',\n",
    "  'X-USER-ID': '1g4C32urRZNvEF3jFzkRmeQ4Qvf2',\n",
    "  'accept': 'application/json'}\n",
    "\n",
    "resp = requests.get(url2, headers)"
   ]
  },
  {
   "cell_type": "code",
   "execution_count": 24,
   "id": "7c08ac22",
   "metadata": {},
   "outputs": [
    {
     "data": {
      "text/plain": [
       "<Response [404]>"
      ]
     },
     "execution_count": 24,
     "metadata": {},
     "output_type": "execute_result"
    }
   ],
   "source": [
    "resp"
   ]
  },
  {
   "cell_type": "code",
   "execution_count": 28,
   "id": "47dac056",
   "metadata": {},
   "outputs": [
    {
     "name": "stdout",
     "output_type": "stream",
     "text": [
      "Forbidden\n"
     ]
    }
   ],
   "source": [
    "import requests\n",
    "\n",
    "url = \"https://play.ht/api/v1/getClonedVoices\"\n",
    "\n",
    "headers = {\n",
    "    \"accept\": \"application/json\",\n",
    "    \"AUTHORIZATION\": \"56d6a907d782446098e2707d484c8825\",\n",
    "    \"X-USER-ID\": \"1g4C32urRZNvEF3jFzkRmeQ4Qvf2\"\n",
    "}\n",
    "\n",
    "response = requests.get(url, headers=headers)\n",
    "\n",
    "print(response.text)"
   ]
  },
  {
   "cell_type": "code",
   "execution_count": null,
   "id": "ab031073",
   "metadata": {},
   "outputs": [],
   "source": []
  },
  {
   "cell_type": "code",
   "execution_count": null,
   "id": "50486108",
   "metadata": {},
   "outputs": [],
   "source": []
  },
  {
   "cell_type": "code",
   "execution_count": null,
   "id": "8d87e61b",
   "metadata": {},
   "outputs": [],
   "source": []
  },
  {
   "cell_type": "code",
   "execution_count": null,
   "id": "78cfc583",
   "metadata": {},
   "outputs": [],
   "source": []
  },
  {
   "cell_type": "code",
   "execution_count": null,
   "id": "2c6c184d",
   "metadata": {},
   "outputs": [],
   "source": []
  },
  {
   "cell_type": "code",
   "execution_count": null,
   "id": "c63c846d",
   "metadata": {},
   "outputs": [],
   "source": []
  }
 ],
 "metadata": {
  "kernelspec": {
   "display_name": "deepfake-detection-v1",
   "language": "python",
   "name": "deepfake-detection-v1"
  },
  "language_info": {
   "codemirror_mode": {
    "name": "ipython",
    "version": 3
   },
   "file_extension": ".py",
   "mimetype": "text/x-python",
   "name": "python",
   "nbconvert_exporter": "python",
   "pygments_lexer": "ipython3",
   "version": "3.9.16"
  }
 },
 "nbformat": 4,
 "nbformat_minor": 5
}
