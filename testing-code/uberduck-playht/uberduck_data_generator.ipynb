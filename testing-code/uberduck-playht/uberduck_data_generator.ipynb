{
 "cells": [
  {
   "cell_type": "code",
   "execution_count": 10,
   "id": "821ee826-349f-4a00-87f0-8f256ab2749a",
   "metadata": {
    "tags": []
   },
   "outputs": [],
   "source": [
    "import pandas as pd\n",
    "from uberduck import UberDuck\n",
    "import numpy as np\n",
    "from tqdm import tqdm\n",
    "from IPython.display import Audio\n",
    "import os\n",
    "base_path = '/home/ubuntu/'"
   ]
  },
  {
   "cell_type": "code",
   "execution_count": 2,
   "id": "54db1280-ecc4-407c-98db-345ef9706605",
   "metadata": {},
   "outputs": [],
   "source": [
    "ljmd_path = base_path + 'data/wavefake_data/LJSpeech_1.1/metadata.csv'\n",
    "LJ_metadata = pd.read_csv(ljmd_path, sep='|', names=['id', 'transcript1', 'transcript2'])"
   ]
  },
  {
   "cell_type": "code",
   "execution_count": 3,
   "id": "01480c2e-450c-4372-8a57-0e1fef6fea51",
   "metadata": {},
   "outputs": [
    {
     "data": {
      "text/html": [
       "<div>\n",
       "<style scoped>\n",
       "    .dataframe tbody tr th:only-of-type {\n",
       "        vertical-align: middle;\n",
       "    }\n",
       "\n",
       "    .dataframe tbody tr th {\n",
       "        vertical-align: top;\n",
       "    }\n",
       "\n",
       "    .dataframe thead th {\n",
       "        text-align: right;\n",
       "    }\n",
       "</style>\n",
       "<table border=\"1\" class=\"dataframe\">\n",
       "  <thead>\n",
       "    <tr style=\"text-align: right;\">\n",
       "      <th></th>\n",
       "      <th>id</th>\n",
       "      <th>transcript1</th>\n",
       "      <th>transcript2</th>\n",
       "    </tr>\n",
       "  </thead>\n",
       "  <tbody>\n",
       "    <tr>\n",
       "      <th>0</th>\n",
       "      <td>LJ001-0001</td>\n",
       "      <td>Printing, in the only sense with which we are ...</td>\n",
       "      <td>Printing, in the only sense with which we are ...</td>\n",
       "    </tr>\n",
       "    <tr>\n",
       "      <th>1</th>\n",
       "      <td>LJ001-0002</td>\n",
       "      <td>in being comparatively modern.</td>\n",
       "      <td>in being comparatively modern.</td>\n",
       "    </tr>\n",
       "    <tr>\n",
       "      <th>2</th>\n",
       "      <td>LJ001-0003</td>\n",
       "      <td>For although the Chinese took impressions from...</td>\n",
       "      <td>For although the Chinese took impressions from...</td>\n",
       "    </tr>\n",
       "    <tr>\n",
       "      <th>3</th>\n",
       "      <td>LJ001-0004</td>\n",
       "      <td>produced the block books, which were the immed...</td>\n",
       "      <td>produced the block books, which were the immed...</td>\n",
       "    </tr>\n",
       "    <tr>\n",
       "      <th>4</th>\n",
       "      <td>LJ001-0005</td>\n",
       "      <td>the invention of movable metal letters in the ...</td>\n",
       "      <td>the invention of movable metal letters in the ...</td>\n",
       "    </tr>\n",
       "  </tbody>\n",
       "</table>\n",
       "</div>"
      ],
      "text/plain": [
       "           id                                        transcript1  \\\n",
       "0  LJ001-0001  Printing, in the only sense with which we are ...   \n",
       "1  LJ001-0002                     in being comparatively modern.   \n",
       "2  LJ001-0003  For although the Chinese took impressions from...   \n",
       "3  LJ001-0004  produced the block books, which were the immed...   \n",
       "4  LJ001-0005  the invention of movable metal letters in the ...   \n",
       "\n",
       "                                         transcript2  \n",
       "0  Printing, in the only sense with which we are ...  \n",
       "1                     in being comparatively modern.  \n",
       "2  For although the Chinese took impressions from...  \n",
       "3  produced the block books, which were the immed...  \n",
       "4  the invention of movable metal letters in the ...  "
      ]
     },
     "execution_count": 3,
     "metadata": {},
     "output_type": "execute_result"
    }
   ],
   "source": [
    "LJ_metadata.head()"
   ]
  },
  {
   "cell_type": "code",
   "execution_count": 4,
   "id": "1a2997ce-ab59-4ca3-b09e-5ad2abe54cc4",
   "metadata": {},
   "outputs": [],
   "source": [
    "#tested and works fine with API\n",
    "#LJ_metadata.iloc[np.where(LJ_metadata['transcript2'].apply(lambda x: '\"' in str(x)) == True)].iloc[1,1]"
   ]
  },
  {
   "cell_type": "code",
   "execution_count": 5,
   "id": "d34ddb72-6fed-4155-bc9f-ef7b92d91c6c",
   "metadata": {},
   "outputs": [],
   "source": [
    "#uberduck class instantiation\n",
    "api_client = UberDuck(\"pub_uldmvvwmerbaqmqxta\", \"pk_f6cad1a4-e2c9-493b-8764-6dd92e9c83ab\")\n",
    "voice = 'lj'"
   ]
  },
  {
   "cell_type": "code",
   "execution_count": 6,
   "id": "bb6f38e6-723c-4b9b-aefa-8c7974eebbe1",
   "metadata": {},
   "outputs": [],
   "source": [
    "ljfake_path = base_path + 'data/wavefake_data/generated_audio/ljspeech_uberduck/original/'"
   ]
  },
  {
   "cell_type": "code",
   "execution_count": null,
   "id": "138b7752-e6d6-40d8-8794-e0c7a297882c",
   "metadata": {},
   "outputs": [
    {
     "name": "stderr",
     "output_type": "stream",
     "text": [
      "  7%|▋         | 932/13100 [34:58<161:33:49, 47.80s/it]"
     ]
    },
    {
     "name": "stdout",
     "output_type": "stream",
     "text": [
      "Failed for id:LJ004-0062\n"
     ]
    },
    {
     "name": "stderr",
     "output_type": "stream",
     "text": [
      " 11%|█▏        | 1475/13100 [53:10<4:13:52,  1.31s/it] "
     ]
    },
    {
     "name": "stdout",
     "output_type": "stream",
     "text": [
      "Failed for id:LJ006-0057\n"
     ]
    },
    {
     "name": "stderr",
     "output_type": "stream",
     "text": [
      " 16%|█▌        | 2052/13100 [1:13:27<3:55:08,  1.28s/it]"
     ]
    },
    {
     "name": "stdout",
     "output_type": "stream",
     "text": [
      "Failed for id:LJ008-0083\n"
     ]
    },
    {
     "name": "stderr",
     "output_type": "stream",
     "text": [
      " 35%|███▌      | 4620/13100 [2:36:23<3:58:24,  1.69s/it] "
     ]
    },
    {
     "name": "stdout",
     "output_type": "stream",
     "text": [
      "Failed for id:LJ016-0206\n"
     ]
    },
    {
     "name": "stderr",
     "output_type": "stream",
     "text": [
      " 47%|████▋     | 6159/13100 [3:27:55<3:08:17,  1.63s/it] "
     ]
    },
    {
     "name": "stdout",
     "output_type": "stream",
     "text": [
      "Failed for id:LJ021-0118\n"
     ]
    },
    {
     "name": "stderr",
     "output_type": "stream",
     "text": [
      " 69%|██████▉   | 9020/13100 [5:00:48<2:47:39,  2.47s/it]"
     ]
    },
    {
     "name": "stdout",
     "output_type": "stream",
     "text": [
      "Failed for id:LJ034-0054\n"
     ]
    },
    {
     "name": "stderr",
     "output_type": "stream",
     "text": [
      " 81%|████████  | 10623/13100 [5:52:53<58:19,  1.41s/it]  "
     ]
    },
    {
     "name": "stdout",
     "output_type": "stream",
     "text": [
      "Failed for id:LJ040-0189\n"
     ]
    },
    {
     "name": "stderr",
     "output_type": "stream",
     "text": [
      " 84%|████████▍ | 11014/13100 [6:08:09<1:04:02,  1.84s/it]"
     ]
    }
   ],
   "source": [
    "for index, row in tqdm(LJ_metadata.iterrows(), total=len(LJ_metadata)):\n",
    "    file_id = row['id']\n",
    "    file_path = ljfake_path + file_id + '-uberduck.wav'\n",
    "    transcript = row['transcript1']\n",
    "    \n",
    "    failed_file = []\n",
    "    try:\n",
    "        api_client.speak(transcript, voice, play_sound=False, file_path=file_path)\n",
    "    except:\n",
    "        print(\"Failed for id:{}\".format(file_id))  \n",
    "    "
   ]
  },
  {
   "cell_type": "code",
   "execution_count": null,
   "id": "23489a48-0905-4caa-8d66-2294592682fa",
   "metadata": {},
   "outputs": [],
   "source": [
    "#play a test file\n",
    "#test_file = base_path + 'data/wavefake_data/generated_audio/ljspeech_uberduck/original/LJ001-0001.wav'\n",
    "#Audio(filename=test_file, autoplay=True)"
   ]
  },
  {
   "cell_type": "code",
   "execution_count": 14,
   "id": "7d1b7d77-f0e4-4587-8285-315eb8c70bb6",
   "metadata": {},
   "outputs": [
    {
     "name": "stdout",
     "output_type": "stream",
     "text": [
      "N\n"
     ]
    }
   ],
   "source": [
    "if os.path.exists(base_path + 'data/wavefake_data/generated_audio/ljspeech_uberduck/original/LJ050-0266-uberduck.wav'):\n",
    "    print(\"N\")"
   ]
  },
  {
   "cell_type": "code",
   "execution_count": 15,
   "id": "de88707d-de4e-4d02-9759-f50cf7e56207",
   "metadata": {},
   "outputs": [
    {
     "name": "stderr",
     "output_type": "stream",
     "text": [
      " 34%|███▍      | 4470/13100 [00:04<00:04, 1897.40it/s]"
     ]
    },
    {
     "name": "stdout",
     "output_type": "stream",
     "text": [
      "Failed for id:LJ006-0057\n",
      "Failed for id:LJ008-0083\n"
     ]
    },
    {
     "name": "stderr",
     "output_type": "stream",
     "text": [
      " 66%|██████▋   | 8681/13100 [00:09<00:02, 1658.43it/s]"
     ]
    },
    {
     "name": "stdout",
     "output_type": "stream",
     "text": [
      "Failed for id:LJ021-0118\n"
     ]
    },
    {
     "name": "stderr",
     "output_type": "stream",
     "text": [
      " 82%|████████▏ | 10696/13100 [00:13<00:02, 910.26it/s]"
     ]
    },
    {
     "name": "stdout",
     "output_type": "stream",
     "text": [
      "Failed for id:LJ040-0189\n"
     ]
    },
    {
     "name": "stderr",
     "output_type": "stream",
     "text": [
      "100%|██████████| 13100/13100 [00:14<00:00, 880.06it/s]\n"
     ]
    }
   ],
   "source": [
    "for index, row in tqdm(LJ_metadata.iterrows(), total=len(LJ_metadata)):\n",
    "    file_id = row['id']\n",
    "    file_path = ljfake_path + file_id + '-uberduck.wav'\n",
    "    transcript = row['transcript1']\n",
    "    \n",
    "    failed_file = []\n",
    "    if not os.path.exists(file_path):\n",
    "        try:\n",
    "            api_client.speak(transcript, voice, play_sound=False, file_path=file_path)\n",
    "        except:\n",
    "            print(\"Failed for id:{}\".format(file_id))  \n",
    "            failed_file.append(file_id)"
   ]
  },
  {
   "cell_type": "code",
   "execution_count": null,
   "id": "4918a9d3-4187-4bd2-b4e0-75db5f51ab12",
   "metadata": {},
   "outputs": [],
   "source": []
  }
 ],
 "metadata": {
  "kernelspec": {
   "display_name": "deepfake-detection-v1",
   "language": "python",
   "name": "deepfake-detection-v1"
  },
  "language_info": {
   "codemirror_mode": {
    "name": "ipython",
    "version": 3
   },
   "file_extension": ".py",
   "mimetype": "text/x-python",
   "name": "python",
   "nbconvert_exporter": "python",
   "pygments_lexer": "ipython3",
   "version": "3.9.16"
  }
 },
 "nbformat": 4,
 "nbformat_minor": 5
}
