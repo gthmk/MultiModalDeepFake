{
 "cells": [
  {
   "cell_type": "code",
   "execution_count": 13,
   "id": "0e9e4cdd-deaa-411a-be07-df75e0920926",
   "metadata": {},
   "outputs": [],
   "source": [
    "import opensmile \n",
    "import pandas as pd\n",
    "import numpy as np\n",
    "import os\n",
    "import random\n",
    "from tqdm import tqdm\n",
    "base_path = \"/home/ubuntu/\""
   ]
  },
  {
   "cell_type": "markdown",
   "id": "bb69b713-35da-4cc6-9c4e-3bd7024ffa2b",
   "metadata": {},
   "source": [
    "## Sampling and Mixing Data"
   ]
  },
  {
   "cell_type": "code",
   "execution_count": 2,
   "id": "b083ace8-1657-4512-b0b3-d15d90a5fb2c",
   "metadata": {},
   "outputs": [],
   "source": [
    "ljs_real_path = base_path + 'data/wavefake_data/LJSpeech_1.1/wavs/Original'\n",
    "ljs_fbm_path = base_path + 'data/wavefake_data/generated_audio/ljspeech_full_band_melgan/Original'\n",
    "ljs_mg_path = base_path + 'data/wavefake_data/generated_audio/ljspeech_melgan/Original'\n",
    "ljs_mgl_path = base_path + 'data/wavefake_data/generated_audio/ljspeech_melgan_large/Original'\n",
    "ljs_mbmg_path = base_path + 'data/wavefake_data/generated_audio/ljspeech_multi_band_melgan/Original'\n",
    "ljs_pwg_path = base_path + 'data/wavefake_data/generated_audio/ljspeech_parallel_wavegan/Original'\n",
    "ljs_wg_path = base_path + 'data/wavefake_data/generated_audio/ljspeech_waveglow/Original'\n",
    "ljs_hfg_path = base_path + 'data/wavefake_data/generated_audio/ljspeech_hifiGAN/Original'"
   ]
  },
  {
   "cell_type": "code",
   "execution_count": 3,
   "id": "5b921356-73de-43bb-bbee-9962504f3f21",
   "metadata": {},
   "outputs": [],
   "source": [
    "data_paths = [ljs_real_path, ljs_fbm_path, ljs_mg_path, ljs_mgl_path, ljs_mbmg_path, ljs_pwg_path, ljs_wg_path, ljs_hfg_path]"
   ]
  },
  {
   "cell_type": "code",
   "execution_count": 4,
   "id": "d98cd47e-908b-4545-9447-40cbf662f8e7",
   "metadata": {},
   "outputs": [],
   "source": [
    "def generate_sample(paths, samples=700):\n",
    "    \n",
    "    #split for samples\n",
    "    re_samples = int(samples/2)\n",
    "    fk_samples = samples - re_samples\n",
    "    \n",
    "    #get path to real data and create real sample\n",
    "    real_path = paths[0]\n",
    "    real_path_lst = os.listdir(real_path) \n",
    "    real_path_lst = [r for r in real_path_lst if \".wav\" in r]\n",
    "    real_files = random.sample(real_path_lst, re_samples)\n",
    "    real_files_all = [os.path.join(real_path,f) for f in real_files]\n",
    "    \n",
    "    #iteratively sample and store fake files\n",
    "    fake_files_all = [] \n",
    "    \n",
    "    for i in range(len(paths)-1):\n",
    "        \n",
    "        fake_path = paths[i+1]\n",
    "        fake_files = os.listdir(fake_path)\n",
    "        fake_files = [f for f in fake_files if \".wav\" in f]\n",
    "        \n",
    "        sr_low = int((i/(len(paths)-1))*fk_samples)\n",
    "        sr_high = int(((i+1)/(len(paths)-1))*fk_samples)\n",
    "        \n",
    "        #print(sr_low, sr_high)\n",
    "        \n",
    "        sample_files = [f.split(\".\")[0] for f in real_files[sr_low:sr_high]]\n",
    "        fake_files_all.extend([os.path.join(fake_path, ff) for fname in sample_files for ff in fake_files if fname in ff])\n",
    "        \n",
    "        \n",
    "    return {'real_files': real_files_all, 'fake_files': fake_files_all}"
   ]
  },
  {
   "cell_type": "code",
   "execution_count": 19,
   "id": "7ea4e15f-692f-43bd-bbdc-44192791bc28",
   "metadata": {},
   "outputs": [],
   "source": [
    "data = generate_sample(data_paths, samples=11200)"
   ]
  },
  {
   "cell_type": "code",
   "execution_count": 20,
   "id": "b5ab8b48-273b-47fa-b223-aa26422a6557",
   "metadata": {},
   "outputs": [
    {
     "data": {
      "text/plain": [
       "(5600, 5600)"
      ]
     },
     "execution_count": 20,
     "metadata": {},
     "output_type": "execute_result"
    }
   ],
   "source": [
    "len(data['real_files']), len(data['fake_files'])"
   ]
  },
  {
   "cell_type": "markdown",
   "id": "5c44e573-8553-48df-9505-d5288d51b2dd",
   "metadata": {},
   "source": [
    "## Generate OpenSmile Features"
   ]
  },
  {
   "cell_type": "code",
   "execution_count": 21,
   "id": "0e832a3c-2795-4f96-80b3-6bcc5291c8bb",
   "metadata": {},
   "outputs": [],
   "source": [
    "smile_functionals_ComParE = opensmile.Smile(\n",
    "    feature_set=opensmile.FeatureSet.ComParE_2016,\n",
    "    feature_level=opensmile.FeatureLevel.Functionals)"
   ]
  },
  {
   "cell_type": "code",
   "execution_count": 22,
   "id": "e67a3aa9-dc97-454a-9fdc-23c4a355e000",
   "metadata": {},
   "outputs": [],
   "source": [
    "def generate_df(files_dict, smile_object, save=False, savefile=None):\n",
    "    \n",
    "    print(\"generating features for real files\\n\")\n",
    "    real_df = pd.DataFrame()\n",
    "    for i in tqdm(range(len(files_dict['real_files']))):\n",
    "        df = smile_object.process_file(files_dict['real_files'][i])\n",
    "        real_df = pd.concat([real_df,df])\n",
    "    real_df['label'] = 0\n",
    "    \n",
    "    print(\"\\ngenerating features for fake files\\n\")\n",
    "    fake_df = pd.DataFrame()\n",
    "    for i in tqdm(range(len(files_dict['fake_files']))):\n",
    "        df = smile_object.process_file(files_dict['fake_files'][i])\n",
    "        fake_df = pd.concat([fake_df,df])\n",
    "    fake_df['label'] = 1\n",
    "    \n",
    "    df = pd.concat([real_df, fake_df]).reset_index()\n",
    "    \n",
    "    if save==True:\n",
    "        df.to_csv(savefile, index=False)\n",
    "        print(\"saved to {}\".format(savefile))        \n",
    "        \n",
    "    if save==False:\n",
    "        return df"
   ]
  },
  {
   "cell_type": "code",
   "execution_count": 23,
   "id": "ae37115b-d37b-4f1b-b0a0-e6333169eb1e",
   "metadata": {},
   "outputs": [
    {
     "name": "stdout",
     "output_type": "stream",
     "text": [
      "generating features for real files\n",
      "\n"
     ]
    },
    {
     "name": "stderr",
     "output_type": "stream",
     "text": [
      "100%|██████████| 5600/5600 [14:14<00:00,  6.56it/s]\n"
     ]
    },
    {
     "name": "stdout",
     "output_type": "stream",
     "text": [
      "\n",
      "generating features for fake files\n",
      "\n"
     ]
    },
    {
     "name": "stderr",
     "output_type": "stream",
     "text": [
      "100%|██████████| 5600/5600 [14:12<00:00,  6.57it/s]\n"
     ]
    },
    {
     "name": "stdout",
     "output_type": "stream",
     "text": [
      "saved to /home/ubuntu/testing-code/opensmile-feature-importance/smile_dfs/LJ_sample_11200.csv\n"
     ]
    }
   ],
   "source": [
    "savefile = base_path + 'testing-code/opensmile-feature-importance/smile_dfs/' + 'LJ_sample_11200.csv'\n",
    "generate_df(data, smile_functionals_ComParE, save=True, savefile=savefile)"
   ]
  },
  {
   "cell_type": "code",
   "execution_count": null,
   "id": "a4e9b3f0-9549-4441-b375-2e21644579f1",
   "metadata": {},
   "outputs": [],
   "source": []
  },
  {
   "cell_type": "code",
   "execution_count": null,
   "id": "c6f98ed2-8742-46d9-9118-6f6f35dd2b33",
   "metadata": {},
   "outputs": [],
   "source": []
  }
 ],
 "metadata": {
  "kernelspec": {
   "display_name": "deepfake-detection-v1",
   "language": "python",
   "name": "deepfake-detection-v1"
  },
  "language_info": {
   "codemirror_mode": {
    "name": "ipython",
    "version": 3
   },
   "file_extension": ".py",
   "mimetype": "text/x-python",
   "name": "python",
   "nbconvert_exporter": "python",
   "pygments_lexer": "ipython3",
   "version": "3.9.16"
  }
 },
 "nbformat": 4,
 "nbformat_minor": 5
}
