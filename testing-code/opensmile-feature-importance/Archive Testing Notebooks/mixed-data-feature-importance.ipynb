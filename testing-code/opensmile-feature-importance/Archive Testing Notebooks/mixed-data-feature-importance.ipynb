{
 "cells": [
  {
   "cell_type": "markdown",
   "id": "efd87af7-5a3a-472d-a00c-3e31224fca1a",
   "metadata": {},
   "source": [
    "## Feature Importance and Feature Selection with mixed LJ data\n"
   ]
  },
  {
   "cell_type": "code",
   "execution_count": 75,
   "id": "75d20fc8-feca-4bba-bbdf-191da0594896",
   "metadata": {},
   "outputs": [],
   "source": [
    "import opensmile \n",
    "import pandas as pd\n",
    "import numpy as np\n",
    "import os\n",
    "from sklearn.ensemble import RandomForestClassifier\n",
    "from sklearn.model_selection import train_test_split\n",
    "import matplotlib.pyplot as plt\n",
    "from sklearn.feature_selection import SelectFromModel\n",
    "from sklearn.linear_model import LogisticRegression\n",
    "from sklearn.metrics import accuracy_score\n",
    "import random\n",
    "from sklearn.preprocessing import StandardScaler\n",
    "from sklearn.manifold import TSNE\n",
    "from sklearn.neighbors import KNeighborsClassifier\n",
    "import seaborn as sns\n",
    "from sklearn import svm\n",
    "base_path = \"/home/ubuntu/\""
   ]
  },
  {
   "cell_type": "markdown",
   "id": "ed23462f-915e-4558-8e14-d5915f51b2fd",
   "metadata": {},
   "source": [
    "## Sampling and Mixing Data"
   ]
  },
  {
   "cell_type": "code",
   "execution_count": 4,
   "id": "0179d938-bb17-4ffb-a4bf-be7af43e99dc",
   "metadata": {},
   "outputs": [
    {
     "name": "stdout",
     "output_type": "stream",
     "text": [
      "13100\n"
     ]
    }
   ],
   "source": [
    "real_path = base_path + 'data/wavefake_data/LJSpeech_1.1/wavs'\n",
    "real_path_lst = os.listdir(real_path) \n",
    "real_path_lst = [l for l in real_path_lst if \".wav\" in l]\n",
    "number_files = len(real_path_lst)\n",
    "print(len(real_path_lst))"
   ]
  },
  {
   "cell_type": "code",
   "execution_count": 5,
   "id": "537d5034-af9c-4828-a655-ab75dd5e112e",
   "metadata": {},
   "outputs": [
    {
     "data": {
      "text/plain": [
       "700"
      ]
     },
     "execution_count": 5,
     "metadata": {},
     "output_type": "execute_result"
    }
   ],
   "source": [
    "real_files = random.sample(real_path_lst, 700)\n",
    "len(real_files)"
   ]
  },
  {
   "cell_type": "code",
   "execution_count": 6,
   "id": "177fd777-3738-47d8-8a47-733cfa0ff997",
   "metadata": {},
   "outputs": [
    {
     "name": "stdout",
     "output_type": "stream",
     "text": [
      "13100\n"
     ]
    }
   ],
   "source": [
    "ljs_fbm_path = base_path + 'data/wavefake_data/generated_audio/ljspeech_full_band_melgan'\n",
    "ljs_fbm_lst = os.listdir(ljs_fbm_path) \n",
    "ljs_fbm_lst = [l for l in ljs_fbm_lst if \".wav\" in l]\n",
    "number_files = len(ljs_fbm_lst)\n",
    "print(len(ljs_fbm_lst))"
   ]
  },
  {
   "cell_type": "code",
   "execution_count": 7,
   "id": "f79a652f-73d7-4a68-8212-7c1e3a04c173",
   "metadata": {},
   "outputs": [],
   "source": [
    "fake_files = []"
   ]
  },
  {
   "cell_type": "code",
   "execution_count": 8,
   "id": "ae4f72e0-d49d-42f9-b271-de9d32287951",
   "metadata": {},
   "outputs": [],
   "source": [
    "files = [f.split(\".\")[0] for f in real_files[:100]]\n",
    "fake_files.extend([os.path.join(ljs_fbm_path,f2) for f in files for f2 in ljs_fbm_lst if f in f2])"
   ]
  },
  {
   "cell_type": "code",
   "execution_count": 9,
   "id": "fa32ff02-dffd-41a5-8447-061be551848c",
   "metadata": {},
   "outputs": [
    {
     "data": {
      "text/plain": [
       "(100,\n",
       " '/home/ubuntu/data/wavefake_data/generated_audio/ljspeech_full_band_melgan/LJ038-0086_gen.wav')"
      ]
     },
     "execution_count": 9,
     "metadata": {},
     "output_type": "execute_result"
    }
   ],
   "source": [
    "len(fake_files), fake_files[0]"
   ]
  },
  {
   "cell_type": "code",
   "execution_count": 10,
   "id": "bb95c6b7-3702-4984-bfc0-b38091f3a8f9",
   "metadata": {},
   "outputs": [
    {
     "name": "stdout",
     "output_type": "stream",
     "text": [
      "13100\n"
     ]
    }
   ],
   "source": [
    "ljs_mg_path = base_path + 'data/wavefake_data/generated_audio/ljspeech_melgan'\n",
    "ljs_mg_lst = os.listdir(ljs_mg_path) \n",
    "ljs_mg_lst = [l for l in ljs_mg_lst if \".wav\" in l]\n",
    "number_files = len(ljs_mg_lst)\n",
    "print(len(ljs_mg_lst))"
   ]
  },
  {
   "cell_type": "code",
   "execution_count": 11,
   "id": "8ad24104-dc0c-4ebd-8d3d-2973bd29a992",
   "metadata": {},
   "outputs": [],
   "source": [
    "files = [f.split(\".\")[0] for f in real_files[100:200]]\n",
    "fake_files.extend([os.path.join(ljs_mg_path,f2) for f in files for f2 in ljs_mg_lst if f in f2])"
   ]
  },
  {
   "cell_type": "code",
   "execution_count": 12,
   "id": "c6d372ae-1352-4f84-861e-2ce826c97f41",
   "metadata": {},
   "outputs": [
    {
     "data": {
      "text/plain": [
       "(200,\n",
       " '/home/ubuntu/data/wavefake_data/generated_audio/ljspeech_melgan/LJ032-0226_gen.wav')"
      ]
     },
     "execution_count": 12,
     "metadata": {},
     "output_type": "execute_result"
    }
   ],
   "source": [
    "len(fake_files), fake_files[100]"
   ]
  },
  {
   "cell_type": "code",
   "execution_count": 13,
   "id": "c4eca19c-b62e-41a4-8ba2-4fd1c1fb828f",
   "metadata": {},
   "outputs": [
    {
     "name": "stdout",
     "output_type": "stream",
     "text": [
      "13100\n"
     ]
    }
   ],
   "source": [
    "ljs_mgl_path = base_path + 'data/wavefake_data/generated_audio/ljspeech_melgan_large'\n",
    "ljs_mgl_lst = os.listdir(ljs_mgl_path) \n",
    "ljs_mgl_lst = [l for l in ljs_mgl_lst if \".wav\" in l]\n",
    "number_files = len(ljs_mgl_lst)\n",
    "print(len(ljs_mgl_lst))"
   ]
  },
  {
   "cell_type": "code",
   "execution_count": 14,
   "id": "76448a62-3711-4e3b-a1b2-85de0d5c9556",
   "metadata": {},
   "outputs": [],
   "source": [
    "files = [f.split(\".\")[0] for f in real_files[200:300]]\n",
    "fake_files.extend([os.path.join(ljs_mgl_path,f2) for f in files for f2 in ljs_mgl_lst if f in f2])"
   ]
  },
  {
   "cell_type": "code",
   "execution_count": 15,
   "id": "bb0ddd00-4bc6-4263-b8e4-1c7681e183d0",
   "metadata": {},
   "outputs": [
    {
     "data": {
      "text/plain": [
       "(300,\n",
       " '/home/ubuntu/data/wavefake_data/generated_audio/ljspeech_melgan_large/LJ011-0110_gen.wav')"
      ]
     },
     "execution_count": 15,
     "metadata": {},
     "output_type": "execute_result"
    }
   ],
   "source": [
    "len(fake_files), fake_files[200]"
   ]
  },
  {
   "cell_type": "code",
   "execution_count": 16,
   "id": "730f629b-5297-4008-afb7-731c4a12b42b",
   "metadata": {},
   "outputs": [
    {
     "name": "stdout",
     "output_type": "stream",
     "text": [
      "13100\n"
     ]
    }
   ],
   "source": [
    "ljs_mbmg_path = base_path + 'data/wavefake_data/generated_audio/ljspeech_multi_band_melgan'\n",
    "ljs_mbmg_lst = os.listdir(ljs_mbmg_path) \n",
    "ljs_mbmg_lst = [l for l in ljs_mbmg_lst if \".wav\" in l]\n",
    "number_files = len(ljs_mbmg_lst)\n",
    "print(len(ljs_mbmg_lst))"
   ]
  },
  {
   "cell_type": "code",
   "execution_count": 17,
   "id": "d77dd699-3c54-497b-8162-947cbe8c46c3",
   "metadata": {},
   "outputs": [],
   "source": [
    "files = [f.split(\".\")[0] for f in real_files[300:400]]\n",
    "fake_files.extend([os.path.join(ljs_mbmg_path,f2) for f in files for f2 in ljs_mbmg_lst if f in f2])"
   ]
  },
  {
   "cell_type": "code",
   "execution_count": 18,
   "id": "eabfcdc5-d773-47f6-9da9-48142aee8dfd",
   "metadata": {},
   "outputs": [
    {
     "data": {
      "text/plain": [
       "(400,\n",
       " '/home/ubuntu/data/wavefake_data/generated_audio/ljspeech_multi_band_melgan/LJ048-0157_gen.wav')"
      ]
     },
     "execution_count": 18,
     "metadata": {},
     "output_type": "execute_result"
    }
   ],
   "source": [
    "len(fake_files), fake_files[300]"
   ]
  },
  {
   "cell_type": "code",
   "execution_count": 19,
   "id": "354a8929-f898-43a3-878d-291238e85038",
   "metadata": {},
   "outputs": [
    {
     "name": "stdout",
     "output_type": "stream",
     "text": [
      "13100\n"
     ]
    }
   ],
   "source": [
    "ljs_pwg_path = base_path + 'data/wavefake_data/generated_audio/ljspeech_parallel_wavegan'\n",
    "ljs_pwg_lst = os.listdir(ljs_pwg_path) \n",
    "ljs_pwg_lst = [l for l in ljs_pwg_lst if \".wav\" in l]\n",
    "number_files = len(ljs_pwg_lst)\n",
    "print(len(ljs_pwg_lst))"
   ]
  },
  {
   "cell_type": "code",
   "execution_count": 20,
   "id": "fd186786-8d70-4739-b74b-c30f19762fff",
   "metadata": {},
   "outputs": [],
   "source": [
    "files = [f.split(\".\")[0] for f in real_files[400:500]]\n",
    "fake_files.extend([os.path.join(ljs_pwg_path,f2) for f in files for f2 in ljs_pwg_lst if f in f2])"
   ]
  },
  {
   "cell_type": "code",
   "execution_count": 21,
   "id": "ec55e471-6654-4c57-9238-70601ba9d028",
   "metadata": {},
   "outputs": [
    {
     "data": {
      "text/plain": [
       "(500,\n",
       " '/home/ubuntu/data/wavefake_data/generated_audio/ljspeech_parallel_wavegan/LJ049-0155_gen.wav')"
      ]
     },
     "execution_count": 21,
     "metadata": {},
     "output_type": "execute_result"
    }
   ],
   "source": [
    "len(fake_files), fake_files[400]"
   ]
  },
  {
   "cell_type": "code",
   "execution_count": 22,
   "id": "827ff80d-e769-417d-b711-d1dc40810a46",
   "metadata": {},
   "outputs": [
    {
     "name": "stdout",
     "output_type": "stream",
     "text": [
      "13100\n"
     ]
    }
   ],
   "source": [
    "ljs_wg_path = base_path + 'data/wavefake_data/generated_audio/ljspeech_waveglow'\n",
    "ljs_wg_lst = os.listdir(ljs_wg_path) \n",
    "ljs_wg_lst = [l for l in ljs_wg_lst if \".wav\" in l]\n",
    "number_files = len(ljs_wg_lst)\n",
    "print(len(ljs_wg_lst))"
   ]
  },
  {
   "cell_type": "code",
   "execution_count": 23,
   "id": "5aae81d9-28fc-4134-b40b-7734479643f3",
   "metadata": {},
   "outputs": [],
   "source": [
    "files = [f.split(\".\")[0] for f in real_files[500:600]]\n",
    "fake_files.extend([os.path.join(ljs_wg_path,f2) for f in files for f2 in ljs_wg_lst if f in f2])"
   ]
  },
  {
   "cell_type": "code",
   "execution_count": 24,
   "id": "6eeec0cb-d39c-41a1-8969-458a9e3a8b01",
   "metadata": {},
   "outputs": [
    {
     "data": {
      "text/plain": [
       "(600,\n",
       " '/home/ubuntu/data/wavefake_data/generated_audio/ljspeech_waveglow/LJ014-0254.wav')"
      ]
     },
     "execution_count": 24,
     "metadata": {},
     "output_type": "execute_result"
    }
   ],
   "source": [
    "len(fake_files), fake_files[500]"
   ]
  },
  {
   "cell_type": "code",
   "execution_count": 25,
   "id": "47779b39-9a59-42d7-9b5a-ddff8ba6d786",
   "metadata": {},
   "outputs": [
    {
     "name": "stdout",
     "output_type": "stream",
     "text": [
      "13100\n"
     ]
    }
   ],
   "source": [
    "ljs_hfg_path = base_path + 'data/wavefake_data/generated_audio/ljspeech_hifiGAN'\n",
    "ljs_hfg_lst = os.listdir(ljs_hfg_path) \n",
    "ljs_hfg_lst = [l for l in ljs_hfg_lst if \".wav\" in l]\n",
    "number_files = len(ljs_hfg_lst)\n",
    "print(len(ljs_hfg_lst))"
   ]
  },
  {
   "cell_type": "code",
   "execution_count": 26,
   "id": "a41c2148-8b10-4eb4-a692-f4374b366588",
   "metadata": {},
   "outputs": [],
   "source": [
    "files = [f.split(\".\")[0] for f in real_files[600:]]\n",
    "fake_files.extend([os.path.join(ljs_hfg_path,f2) for f in files for f2 in ljs_hfg_lst if f in f2])"
   ]
  },
  {
   "cell_type": "code",
   "execution_count": 27,
   "id": "f66b99b0-6115-4dbd-bd48-5365e993eb69",
   "metadata": {},
   "outputs": [
    {
     "data": {
      "text/plain": [
       "(700,\n",
       " '/home/ubuntu/data/wavefake_data/generated_audio/ljspeech_hifiGAN/LJ038-0099_generated.wav')"
      ]
     },
     "execution_count": 27,
     "metadata": {},
     "output_type": "execute_result"
    }
   ],
   "source": [
    "len(fake_files), fake_files[600]"
   ]
  },
  {
   "cell_type": "code",
   "execution_count": 28,
   "id": "99c550b8-c2b7-40a6-b970-01e9f9c135a4",
   "metadata": {},
   "outputs": [],
   "source": [
    "real_files = [os.path.join(real_path,f) for f in real_files]"
   ]
  },
  {
   "cell_type": "code",
   "execution_count": 29,
   "id": "94fa20c0-78f8-43bf-8cb5-5d5acd3c3455",
   "metadata": {},
   "outputs": [
    {
     "data": {
      "text/plain": [
       "(700, 700)"
      ]
     },
     "execution_count": 29,
     "metadata": {},
     "output_type": "execute_result"
    }
   ],
   "source": [
    "len(real_files), len(fake_files)"
   ]
  },
  {
   "cell_type": "markdown",
   "id": "a01a2b67-809b-42d3-b9fd-01d6c194cc4c",
   "metadata": {},
   "source": [
    "## Load files"
   ]
  },
  {
   "cell_type": "code",
   "execution_count": 31,
   "id": "53396a80-8405-42b7-8cd0-7c4a4bcbc64e",
   "metadata": {},
   "outputs": [],
   "source": [
    "smile_functionals_ComParE = opensmile.Smile(\n",
    "    feature_set=opensmile.FeatureSet.ComParE_2016,\n",
    "    feature_level=opensmile.FeatureLevel.Functionals)"
   ]
  },
  {
   "cell_type": "code",
   "execution_count": 32,
   "id": "ee698d1d-2961-4679-b366-35d99dc48291",
   "metadata": {},
   "outputs": [],
   "source": [
    "def load_files(files, smile_object):\n",
    "    \n",
    "    results = pd.DataFrame()\n",
    "    \n",
    "    for file in files:\n",
    "        df = smile_object.process_file(file)\n",
    "        results = pd.concat([results,df])\n",
    "        \n",
    "    return results"
   ]
  },
  {
   "cell_type": "code",
   "execution_count": 33,
   "id": "1f2a9bbe-dd47-4ea7-a345-373233a608e6",
   "metadata": {},
   "outputs": [],
   "source": [
    "real_df = load_files(real_files, smile_functionals_ComParE)\n",
    "real_df['label'] = 0\n",
    "fake_df = load_files(fake_files, smile_functionals_ComParE)\n",
    "fake_df['label'] = 1"
   ]
  },
  {
   "cell_type": "code",
   "execution_count": 34,
   "id": "a1a18fd2-b00d-4df1-a8ff-b072d20a3302",
   "metadata": {},
   "outputs": [
    {
     "data": {
      "text/html": [
       "<div>\n",
       "<style scoped>\n",
       "    .dataframe tbody tr th:only-of-type {\n",
       "        vertical-align: middle;\n",
       "    }\n",
       "\n",
       "    .dataframe tbody tr th {\n",
       "        vertical-align: top;\n",
       "    }\n",
       "\n",
       "    .dataframe thead th {\n",
       "        text-align: right;\n",
       "    }\n",
       "</style>\n",
       "<table border=\"1\" class=\"dataframe\">\n",
       "  <thead>\n",
       "    <tr style=\"text-align: right;\">\n",
       "      <th></th>\n",
       "      <th>audspec_lengthL1norm_sma_range</th>\n",
       "      <th>audspec_lengthL1norm_sma_maxPos</th>\n",
       "      <th>audspec_lengthL1norm_sma_minPos</th>\n",
       "      <th>audspec_lengthL1norm_sma_quartile1</th>\n",
       "      <th>audspec_lengthL1norm_sma_quartile2</th>\n",
       "      <th>audspec_lengthL1norm_sma_quartile3</th>\n",
       "      <th>audspec_lengthL1norm_sma_iqr1-2</th>\n",
       "      <th>audspec_lengthL1norm_sma_iqr2-3</th>\n",
       "      <th>audspec_lengthL1norm_sma_iqr1-3</th>\n",
       "      <th>audspec_lengthL1norm_sma_percentile1.0</th>\n",
       "      <th>...</th>\n",
       "      <th>mfcc_sma_de[14]_peakRangeRel</th>\n",
       "      <th>mfcc_sma_de[14]_peakMeanAbs</th>\n",
       "      <th>mfcc_sma_de[14]_peakMeanMeanDist</th>\n",
       "      <th>mfcc_sma_de[14]_peakMeanRel</th>\n",
       "      <th>mfcc_sma_de[14]_minRangeRel</th>\n",
       "      <th>mfcc_sma_de[14]_meanRisingSlope</th>\n",
       "      <th>mfcc_sma_de[14]_stddevRisingSlope</th>\n",
       "      <th>mfcc_sma_de[14]_meanFallingSlope</th>\n",
       "      <th>mfcc_sma_de[14]_stddevFallingSlope</th>\n",
       "      <th>label</th>\n",
       "    </tr>\n",
       "  </thead>\n",
       "  <tbody>\n",
       "    <tr>\n",
       "      <th>0</th>\n",
       "      <td>2.124479</td>\n",
       "      <td>0.893349</td>\n",
       "      <td>0.308486</td>\n",
       "      <td>0.267338</td>\n",
       "      <td>0.499608</td>\n",
       "      <td>0.885211</td>\n",
       "      <td>0.232270</td>\n",
       "      <td>0.385602</td>\n",
       "      <td>0.617872</td>\n",
       "      <td>0.044313</td>\n",
       "      <td>...</td>\n",
       "      <td>0.662033</td>\n",
       "      <td>2.974841</td>\n",
       "      <td>2.963165</td>\n",
       "      <td>19.943762</td>\n",
       "      <td>0.523784</td>\n",
       "      <td>131.128555</td>\n",
       "      <td>66.098000</td>\n",
       "      <td>120.066254</td>\n",
       "      <td>61.888931</td>\n",
       "      <td>0</td>\n",
       "    </tr>\n",
       "    <tr>\n",
       "      <th>1</th>\n",
       "      <td>2.781305</td>\n",
       "      <td>0.011321</td>\n",
       "      <td>0.567924</td>\n",
       "      <td>0.289153</td>\n",
       "      <td>0.552113</td>\n",
       "      <td>0.846404</td>\n",
       "      <td>0.262960</td>\n",
       "      <td>0.294291</td>\n",
       "      <td>0.557251</td>\n",
       "      <td>0.037906</td>\n",
       "      <td>...</td>\n",
       "      <td>0.542799</td>\n",
       "      <td>2.734431</td>\n",
       "      <td>2.769067</td>\n",
       "      <td>-19.000904</td>\n",
       "      <td>0.555212</td>\n",
       "      <td>135.078400</td>\n",
       "      <td>67.588287</td>\n",
       "      <td>120.971909</td>\n",
       "      <td>51.323032</td>\n",
       "      <td>0</td>\n",
       "    </tr>\n",
       "    <tr>\n",
       "      <th>2</th>\n",
       "      <td>2.533759</td>\n",
       "      <td>0.015748</td>\n",
       "      <td>0.330709</td>\n",
       "      <td>0.277039</td>\n",
       "      <td>0.563823</td>\n",
       "      <td>0.899199</td>\n",
       "      <td>0.286784</td>\n",
       "      <td>0.335376</td>\n",
       "      <td>0.622160</td>\n",
       "      <td>0.043467</td>\n",
       "      <td>...</td>\n",
       "      <td>0.568665</td>\n",
       "      <td>2.780759</td>\n",
       "      <td>2.771164</td>\n",
       "      <td>19.963444</td>\n",
       "      <td>0.468121</td>\n",
       "      <td>118.367302</td>\n",
       "      <td>57.946774</td>\n",
       "      <td>119.383171</td>\n",
       "      <td>53.824604</td>\n",
       "      <td>0</td>\n",
       "    </tr>\n",
       "    <tr>\n",
       "      <th>3</th>\n",
       "      <td>1.910753</td>\n",
       "      <td>0.861746</td>\n",
       "      <td>0.300416</td>\n",
       "      <td>0.232167</td>\n",
       "      <td>0.541258</td>\n",
       "      <td>0.856423</td>\n",
       "      <td>0.309091</td>\n",
       "      <td>0.315165</td>\n",
       "      <td>0.624256</td>\n",
       "      <td>0.043619</td>\n",
       "      <td>...</td>\n",
       "      <td>0.486095</td>\n",
       "      <td>2.667521</td>\n",
       "      <td>2.668165</td>\n",
       "      <td>-20.000000</td>\n",
       "      <td>0.580604</td>\n",
       "      <td>124.114510</td>\n",
       "      <td>66.929955</td>\n",
       "      <td>105.760841</td>\n",
       "      <td>57.880852</td>\n",
       "      <td>0</td>\n",
       "    </tr>\n",
       "    <tr>\n",
       "      <th>4</th>\n",
       "      <td>2.248582</td>\n",
       "      <td>0.494881</td>\n",
       "      <td>0.998294</td>\n",
       "      <td>0.295214</td>\n",
       "      <td>0.581481</td>\n",
       "      <td>1.038198</td>\n",
       "      <td>0.286267</td>\n",
       "      <td>0.456717</td>\n",
       "      <td>0.742984</td>\n",
       "      <td>0.081494</td>\n",
       "      <td>...</td>\n",
       "      <td>0.453043</td>\n",
       "      <td>2.578402</td>\n",
       "      <td>2.585198</td>\n",
       "      <td>-19.986479</td>\n",
       "      <td>0.631845</td>\n",
       "      <td>109.632156</td>\n",
       "      <td>48.306881</td>\n",
       "      <td>115.613190</td>\n",
       "      <td>62.423603</td>\n",
       "      <td>0</td>\n",
       "    </tr>\n",
       "  </tbody>\n",
       "</table>\n",
       "<p>5 rows × 6374 columns</p>\n",
       "</div>"
      ],
      "text/plain": [
       "   audspec_lengthL1norm_sma_range  audspec_lengthL1norm_sma_maxPos  \\\n",
       "0                        2.124479                         0.893349   \n",
       "1                        2.781305                         0.011321   \n",
       "2                        2.533759                         0.015748   \n",
       "3                        1.910753                         0.861746   \n",
       "4                        2.248582                         0.494881   \n",
       "\n",
       "   audspec_lengthL1norm_sma_minPos  audspec_lengthL1norm_sma_quartile1  \\\n",
       "0                         0.308486                            0.267338   \n",
       "1                         0.567924                            0.289153   \n",
       "2                         0.330709                            0.277039   \n",
       "3                         0.300416                            0.232167   \n",
       "4                         0.998294                            0.295214   \n",
       "\n",
       "   audspec_lengthL1norm_sma_quartile2  audspec_lengthL1norm_sma_quartile3  \\\n",
       "0                            0.499608                            0.885211   \n",
       "1                            0.552113                            0.846404   \n",
       "2                            0.563823                            0.899199   \n",
       "3                            0.541258                            0.856423   \n",
       "4                            0.581481                            1.038198   \n",
       "\n",
       "   audspec_lengthL1norm_sma_iqr1-2  audspec_lengthL1norm_sma_iqr2-3  \\\n",
       "0                         0.232270                         0.385602   \n",
       "1                         0.262960                         0.294291   \n",
       "2                         0.286784                         0.335376   \n",
       "3                         0.309091                         0.315165   \n",
       "4                         0.286267                         0.456717   \n",
       "\n",
       "   audspec_lengthL1norm_sma_iqr1-3  audspec_lengthL1norm_sma_percentile1.0  \\\n",
       "0                         0.617872                                0.044313   \n",
       "1                         0.557251                                0.037906   \n",
       "2                         0.622160                                0.043467   \n",
       "3                         0.624256                                0.043619   \n",
       "4                         0.742984                                0.081494   \n",
       "\n",
       "   ...  mfcc_sma_de[14]_peakRangeRel  mfcc_sma_de[14]_peakMeanAbs  \\\n",
       "0  ...                      0.662033                     2.974841   \n",
       "1  ...                      0.542799                     2.734431   \n",
       "2  ...                      0.568665                     2.780759   \n",
       "3  ...                      0.486095                     2.667521   \n",
       "4  ...                      0.453043                     2.578402   \n",
       "\n",
       "   mfcc_sma_de[14]_peakMeanMeanDist  mfcc_sma_de[14]_peakMeanRel  \\\n",
       "0                          2.963165                    19.943762   \n",
       "1                          2.769067                   -19.000904   \n",
       "2                          2.771164                    19.963444   \n",
       "3                          2.668165                   -20.000000   \n",
       "4                          2.585198                   -19.986479   \n",
       "\n",
       "   mfcc_sma_de[14]_minRangeRel  mfcc_sma_de[14]_meanRisingSlope  \\\n",
       "0                     0.523784                       131.128555   \n",
       "1                     0.555212                       135.078400   \n",
       "2                     0.468121                       118.367302   \n",
       "3                     0.580604                       124.114510   \n",
       "4                     0.631845                       109.632156   \n",
       "\n",
       "   mfcc_sma_de[14]_stddevRisingSlope  mfcc_sma_de[14]_meanFallingSlope  \\\n",
       "0                          66.098000                        120.066254   \n",
       "1                          67.588287                        120.971909   \n",
       "2                          57.946774                        119.383171   \n",
       "3                          66.929955                        105.760841   \n",
       "4                          48.306881                        115.613190   \n",
       "\n",
       "   mfcc_sma_de[14]_stddevFallingSlope  label  \n",
       "0                           61.888931      0  \n",
       "1                           51.323032      0  \n",
       "2                           53.824604      0  \n",
       "3                           57.880852      0  \n",
       "4                           62.423603      0  \n",
       "\n",
       "[5 rows x 6374 columns]"
      ]
     },
     "execution_count": 34,
     "metadata": {},
     "output_type": "execute_result"
    }
   ],
   "source": [
    "df = pd.concat([real_df, fake_df]).reset_index()\n",
    "df = df.drop(columns=['file', 'start', 'end'])\n",
    "df.head()"
   ]
  },
  {
   "cell_type": "code",
   "execution_count": 35,
   "id": "cacba4c3-7895-4428-8fa9-965a792d3a05",
   "metadata": {},
   "outputs": [],
   "source": [
    "df.to_csv(\"mixed_data_opensmile_feats.csv\", index=False)\n",
    "#df = pd.read_csv(\"mixed_data_opensmile_feats.csv\")"
   ]
  },
  {
   "cell_type": "code",
   "execution_count": 36,
   "id": "613a1bc8-22ff-40a0-bd0c-58f92e89ea24",
   "metadata": {},
   "outputs": [],
   "source": [
    "y = df['label'].copy()\n",
    "X = df.drop(columns=['label']).copy()\n",
    "\n",
    "X_train, X_test, y_train, y_test = train_test_split(X, y, test_size=0.1)"
   ]
  },
  {
   "cell_type": "code",
   "execution_count": 39,
   "id": "4f5d99b2-700e-45d9-962f-b81f9226d879",
   "metadata": {},
   "outputs": [],
   "source": [
    "#standard scaling of input data\n",
    "scaler = StandardScaler()\n",
    "X_train_scaled = scaler.fit_transform(X_train)\n",
    "X_test_scaled = scaler.transform(X_test)"
   ]
  },
  {
   "cell_type": "markdown",
   "id": "15e3c4d6-8fda-41cf-89c5-358189794b80",
   "metadata": {},
   "source": [
    "## Feature Importance\n",
    "\n",
    "Random forest regressor - https://scikit-learn.org/stable/modules/generated/sklearn.ensemble.RandomForestClassifier.html"
   ]
  },
  {
   "cell_type": "code",
   "execution_count": 106,
   "id": "8c7eedf8-88d3-4606-accd-1cecbe9b3630",
   "metadata": {},
   "outputs": [],
   "source": [
    "#hyperparameter selection\n",
    "n_estimators = 500 #default=100\n",
    "criterion = \"gini\" #{“gini”, “entropy”, “log_loss”}, default=”gini”\n",
    "max_depth = 8 #default=None \n",
    "min_samples_split = 2 #default=2 The minimum number of samples required to split an internal node\n",
    "min_samples_leaf = 1 #default=1 The minimum number of samples required to be at a leaf node.\n",
    "min_weight_fraction_leaf = 0.0 #The minimum weighted fraction of the sum total of weights (of all the input samples) required to be at a leaf node.\n",
    "max_features = \"log2\" #default=\"sqrt\" The number of features to consider when looking for the best split:\n",
    "max_leaf_nodes = None #Grow trees with max_leaf_nodes in best-first fashion.\n",
    "min_impurity_decrease = 0.0 #A node will be split if this split induces a decrease of the impurity greater than or equal to this value.\n",
    "bootstrap = True #default = True Whether bootstrap samples are used when building trees.\n",
    "oob_score = True #default = False Whether to use out-of-bag samples to estimate the generalization score.\n",
    "n_jobs = -1 #default=None -1 means all processors\n",
    "random_state = None #deafult=None controls randomness of bootstrapping\n",
    "verbose = 0 \n",
    "warm_start = False #deafult = False When set to True, reuse the solution of the previous call to fit and add more estimators to the ensemble, otherwise, just fit a whole new forest.\n",
    "max_samples = None #If bootstrap is True, the number of samples to draw from X to train each base estimator."
   ]
  },
  {
   "cell_type": "code",
   "execution_count": 107,
   "id": "5675300a-f470-406f-9513-d1f4cddd8d72",
   "metadata": {},
   "outputs": [],
   "source": [
    "#define model\n",
    "model_rfc = RandomForestClassifier(n_estimators=n_estimators,\n",
    "                                max_depth=max_depth,\n",
    "                                criterion=criterion,\n",
    "                                max_features=max_features,\n",
    "                                bootstrap=bootstrap,\n",
    "                                oob_score=oob_score,\n",
    "                                n_jobs=n_jobs)\n",
    "\n",
    "#fit model\n",
    "model_rfc.fit(X_train_scaled,y_train)\n",
    "\n",
    "#get feature importance \n",
    "importance = model_rfc.feature_importances_"
   ]
  },
  {
   "cell_type": "code",
   "execution_count": 108,
   "id": "8eee308a-8179-444f-a056-e2cc1ac6ef6e",
   "metadata": {},
   "outputs": [
    {
     "data": {
      "image/png": "[encoded data removed]",
      "text/plain": [
       "<Figure size 640x480 with 1 Axes>"
      ]
     },
     "metadata": {},
     "output_type": "display_data"
    }
   ],
   "source": [
    "# plot feature importance\n",
    "pyplot.bar([x for x in range(len(importance))], importance)\n",
    "pyplot.show()"
   ]
  },
  {
   "cell_type": "code",
   "execution_count": 109,
   "id": "30233afe-27a9-435c-840f-7a44e470dd7e",
   "metadata": {},
   "outputs": [
    {
     "name": "stdout",
     "output_type": "stream",
     "text": [
      "Feature: audspec_lengthL1norm_sma_quartile3, Score: 0.00135\n",
      "Feature: pcm_fftMag_spectralHarmonicity_sma_iqr1-2, Score: 0.00152\n",
      "Feature: mfcc_sma[5]_lpc1, Score: 0.00200\n",
      "Feature: mfcc_sma[6]_lpc1, Score: 0.00208\n",
      "Feature: mfcc_sma[7]_lpc0, Score: 0.00184\n",
      "Feature: mfcc_sma[7]_lpc1, Score: 0.00134\n",
      "Feature: mfcc_sma[8]_lpgain, Score: 0.00246\n",
      "Feature: mfcc_sma[8]_lpc1, Score: 0.00190\n",
      "Feature: mfcc_sma[10]_lpc1, Score: 0.00196\n",
      "Feature: mfcc_sma[11]_lpgain, Score: 0.00230\n",
      "Feature: mfcc_sma[12]_lpgain, Score: 0.00206\n",
      "Feature: mfcc_sma[13]_lpc0, Score: 0.00132\n",
      "Feature: mfcc_sma_de[3]_lpc0, Score: 0.00202\n",
      "Feature: mfcc_sma_de[4]_lpc1, Score: 0.00149\n",
      "Feature: mfcc_sma_de[4]_lpc3, Score: 0.00167\n",
      "Feature: mfcc_sma_de[5]_lpc0, Score: 0.00193\n",
      "Feature: mfcc_sma_de[5]_lpc1, Score: 0.00209\n",
      "Feature: mfcc_sma_de[5]_lpc2, Score: 0.00281\n",
      "Feature: mfcc_sma_de[6]_lpgain, Score: 0.00195\n",
      "Feature: mfcc_sma_de[6]_lpc0, Score: 0.00247\n",
      "Feature: mfcc_sma_de[6]_lpc2, Score: 0.00242\n",
      "Feature: mfcc_sma_de[6]_lpc3, Score: 0.00188\n",
      "Feature: mfcc_sma_de[7]_lpgain, Score: 0.00130\n",
      "Feature: mfcc_sma_de[7]_lpc1, Score: 0.00153\n",
      "Feature: mfcc_sma_de[7]_lpc2, Score: 0.00156\n",
      "Feature: mfcc_sma_de[7]_lpc3, Score: 0.00162\n",
      "Feature: mfcc_sma_de[8]_lpc0, Score: 0.00192\n",
      "Feature: mfcc_sma_de[8]_lpc2, Score: 0.00130\n",
      "Feature: mfcc_sma_de[9]_lpgain, Score: 0.00150\n",
      "Feature: mfcc_sma_de[9]_lpc0, Score: 0.00197\n",
      "Feature: mfcc_sma_de[9]_lpc1, Score: 0.00132\n",
      "Feature: mfcc_sma_de[9]_lpc2, Score: 0.00314\n",
      "Feature: mfcc_sma_de[10]_lpgain, Score: 0.00207\n",
      "Feature: mfcc_sma_de[10]_lpc1, Score: 0.00212\n",
      "Feature: mfcc_sma_de[11]_lpgain, Score: 0.00160\n",
      "Feature: mfcc_sma_de[11]_lpc1, Score: 0.00131\n",
      "Feature: mfcc_sma_de[11]_lpc2, Score: 0.00156\n",
      "Feature: mfcc_sma_de[12]_lpc1, Score: 0.00215\n",
      "Feature: mfcc_sma_de[13]_lpgain, Score: 0.00197\n",
      "Feature: mfcc_sma_de[14]_lpgain, Score: 0.00170\n",
      "Feature: jitterLocal_sma_flatness, Score: 0.00314\n",
      "Feature: jitterLocal_sma_percentile1.0, Score: 0.00481\n",
      "Feature: jitterDDP_sma_flatness, Score: 0.00394\n",
      "Feature: jitterDDP_sma_quartile1, Score: 0.00435\n",
      "Feature: jitterDDP_sma_quartile2, Score: 0.00288\n",
      "Feature: jitterDDP_sma_percentile1.0, Score: 0.00565\n",
      "Feature: shimmerLocal_sma_flatness, Score: 0.00144\n",
      "Feature: shimmerLocal_sma_quartile1, Score: 0.00217\n",
      "Feature: shimmerLocal_sma_percentile1.0, Score: 0.00213\n",
      "Feature: logHNR_sma_posamean, Score: 0.00140\n"
     ]
    }
   ],
   "source": [
    "features = X.columns.to_list()\n",
    "top_k_features = np.argsort(importance)[-50:]\n",
    "tresh=importance[top_k_features[0]]\n",
    "# summarize feature importance\n",
    "for i,v in enumerate(importance):\n",
    "    if v >= tresh:\n",
    "        print('Feature: %s, Score: %.5f' % (features[i],v))"
   ]
  },
  {
   "cell_type": "markdown",
   "id": "d99bbe6e-d684-40a7-ba69-45ad43081e93",
   "metadata": {},
   "source": [
    "## Feature Selection:"
   ]
  },
  {
   "cell_type": "code",
   "execution_count": 110,
   "id": "dd79d018-0919-430a-a723-5c97761e6605",
   "metadata": {},
   "outputs": [],
   "source": [
    "# feature selection\n",
    "def select_features(model, X_train, y_train, X_test, max_features=50):\n",
    "\t# configure to select a subset of features\n",
    "\tfs = SelectFromModel(model, max_features=max_features)\n",
    "\t# learn relationship from training data\n",
    "\tfs.fit(X_train, y_train)\n",
    "\t# transform train input data\n",
    "\tX_train_fs = fs.transform(X_train)\n",
    "\t# transform test input data\n",
    "\tX_test_fs = fs.transform(X_test)\n",
    "\treturn X_train_fs, X_test_fs, fs"
   ]
  },
  {
   "cell_type": "code",
   "execution_count": 111,
   "id": "b207e45f-f095-43ce-8e22-9596c57e6e4c",
   "metadata": {},
   "outputs": [],
   "source": [
    "# feature selection\n",
    "X_train_fs, X_test_fs, fs = select_features(model_rfc, X_train_scaled, y_train, X_test_scaled, 25)"
   ]
  },
  {
   "cell_type": "markdown",
   "id": "664f0a14-7170-4e9c-bcb5-93a24ffdfa0b",
   "metadata": {},
   "source": [
    "__Logistic Regression:__"
   ]
  },
  {
   "cell_type": "code",
   "execution_count": 112,
   "id": "90227c5b-0f47-4839-8f53-7c2b742c47f3",
   "metadata": {},
   "outputs": [
    {
     "name": "stdout",
     "output_type": "stream",
     "text": [
      "Accuracy: 89.29\n"
     ]
    }
   ],
   "source": [
    "# fit the model\n",
    "model_lr = LogisticRegression(solver='liblinear')\n",
    "model_lr.fit(X_train_fs, y_train)\n",
    "# evaluate the model\n",
    "yhat = model_lr.predict(X_test_fs)\n",
    "# evaluate predictions\n",
    "accuracy = accuracy_score(y_test, yhat)\n",
    "print('Accuracy: %.2f' % (accuracy*100))"
   ]
  },
  {
   "cell_type": "markdown",
   "id": "f4c6213b-8469-45a5-afc1-6527a02f5a71",
   "metadata": {},
   "source": [
    "__KNN Classifier:__"
   ]
  },
  {
   "cell_type": "code",
   "execution_count": 113,
   "id": "cb0cba82-df8c-41d7-94a8-4a5ab8a1f438",
   "metadata": {},
   "outputs": [
    {
     "name": "stdout",
     "output_type": "stream",
     "text": [
      "Accuracy: 80.71\n"
     ]
    }
   ],
   "source": [
    "model_knnc = KNeighborsClassifier()\n",
    "model_knnc.fit(X_train_fs, y_train)\n",
    "\n",
    "# evaluate the model\n",
    "yhat = model_knnc.predict(X_test_fs)\n",
    "# evaluate predictions\n",
    "accuracy = accuracy_score(y_test, yhat)\n",
    "print('Accuracy: %.2f' % (accuracy*100))"
   ]
  },
  {
   "cell_type": "markdown",
   "id": "8ebb65e1-e2d6-4358-a696-6329c801ff20",
   "metadata": {},
   "source": [
    "__Linear SVM:__"
   ]
  },
  {
   "cell_type": "code",
   "execution_count": 114,
   "id": "695e8fb3-3463-44c5-aa60-57a707f9ddb9",
   "metadata": {},
   "outputs": [
    {
     "name": "stdout",
     "output_type": "stream",
     "text": [
      "Accuracy: 90.71\n"
     ]
    }
   ],
   "source": [
    "#linear SVM\n",
    "model_linear_svm = svm.SVC(kernel='linear')\n",
    "\n",
    "#fit the model \n",
    "model_linear_svm.fit(X_train_fs, y_train)\n",
    "\n",
    "#Predict the response\n",
    "yhat_svm = model_linear_svm.predict(X_test_fs)\n",
    "\n",
    "#evaluate predictions\n",
    "accuracy_svm = accuracy_score(y_test, yhat_svm)\n",
    "print('Accuracy: %.2f' % (accuracy_svm*100))"
   ]
  },
  {
   "cell_type": "markdown",
   "id": "7aa0790f-a14f-4f87-aebf-bb2ddd2077f2",
   "metadata": {},
   "source": [
    "__Non-linear SVM:__"
   ]
  },
  {
   "cell_type": "code",
   "execution_count": 115,
   "id": "fde8da92-04e1-4cf3-8cc6-1e10934feb55",
   "metadata": {},
   "outputs": [
    {
     "name": "stdout",
     "output_type": "stream",
     "text": [
      "Kernel: poly, C: 1\n",
      "Accuracy: 78.57\n",
      "\n",
      "Kernel: poly, C: 1.5\n",
      "Accuracy: 80.71\n",
      "\n",
      "Kernel: poly, C: 2\n",
      "Accuracy: 82.86\n",
      "\n",
      "Kernel: rbf, C: 1\n",
      "Accuracy: 87.14\n",
      "\n",
      "Kernel: rbf, C: 1.5\n",
      "Accuracy: 88.57\n",
      "\n",
      "Kernel: rbf, C: 2\n",
      "Accuracy: 87.86\n",
      "\n",
      "Kernel: sigmoid, C: 1\n",
      "Accuracy: 75.71\n",
      "\n",
      "Kernel: sigmoid, C: 1.5\n",
      "Accuracy: 74.29\n",
      "\n",
      "Kernel: sigmoid, C: 2\n",
      "Accuracy: 73.57\n",
      "\n"
     ]
    }
   ],
   "source": [
    "#hyperparameters\n",
    "kernels = ['poly', 'rbf', 'sigmoid']\n",
    "C = [1, 1.5, 2]\n",
    "\n",
    "#hyperparameter search\n",
    "for kernel in kernels:\n",
    "    for c in C:\n",
    "        \n",
    "        #linear SVM\n",
    "        model_linear_svm = svm.SVC(kernel=kernel, C=c)\n",
    "\n",
    "        #fit the model \n",
    "        model_linear_svm.fit(X_train_fs, y_train)\n",
    "\n",
    "        #Predict the response\n",
    "        yhat_svm = model_linear_svm.predict(X_test_fs)\n",
    "\n",
    "        #evaluate predictions\n",
    "        accuracy_svm = accuracy_score(y_test, yhat_svm)\n",
    "        print('Kernel: {}, C: {}'.format(kernel, c))\n",
    "        print('Accuracy: %.2f\\n' % (accuracy_svm*100))\n"
   ]
  },
  {
   "cell_type": "markdown",
   "id": "93a836fb-0028-480d-ac78-f45720041240",
   "metadata": {},
   "source": [
    "## Visualization:"
   ]
  },
  {
   "cell_type": "code",
   "execution_count": 116,
   "id": "92bb45d5-3878-4f37-b916-2b4f06d90494",
   "metadata": {},
   "outputs": [
    {
     "data": {
      "text/plain": [
       "(631, 629)"
      ]
     },
     "execution_count": 116,
     "metadata": {},
     "output_type": "execute_result"
    }
   ],
   "source": [
    "real_idx = np.where(y_train.to_numpy() == 0)[0]\n",
    "X_real = pd.DataFrame(X_train_fs[real_idx])\n",
    "fake_idx = np.where(y_train.to_numpy() == 1)[0]\n",
    "X_fake = pd.DataFrame(X_train_fs[fake_idx])\n",
    "len(X_real), len(X_fake)"
   ]
  },
  {
   "cell_type": "code",
   "execution_count": 126,
   "id": "9024209e-6717-4dc3-baec-77867e9c67dc",
   "metadata": {},
   "outputs": [],
   "source": [
    "X_tsne = pd.concat([X_real, X_fake]).reset_index()"
   ]
  },
  {
   "cell_type": "code",
   "execution_count": 129,
   "id": "1c44368a-f9fa-4c65-aa75-6842b2102a8a",
   "metadata": {},
   "outputs": [
    {
     "name": "stderr",
     "output_type": "stream",
     "text": [
      "/home/ubuntu/miniconda3/envs/deepfake-detection-v1/lib/python3.9/site-packages/sklearn/utils/validation.py:1688: FutureWarning: Feature names only support names that are all strings. Got feature names with dtypes: ['int', 'str']. An error will be raised in 1.2.\n",
      "  warnings.warn(\n"
     ]
    }
   ],
   "source": [
    "tsne = TSNE(n_components=2, learning_rate='auto', init='random')\n",
    "X_tsne_2d = tsne.fit_transform(X_tsne)"
   ]
  },
  {
   "cell_type": "code",
   "execution_count": 130,
   "id": "61698369-5f5d-4657-895f-2b80ca3fcc3b",
   "metadata": {},
   "outputs": [
    {
     "data": {
      "image/png": "[encoded data removed]",
      "text/plain": [
       "<Figure size 640x480 with 1 Axes>"
      ]
     },
     "metadata": {},
     "output_type": "display_data"
    }
   ],
   "source": [
    "sns.scatterplot(x=X_tsne_2d[:195,0], y=X_tsne_2d[:195,1], color='red', label='Real')\n",
    "sns.scatterplot(x=X_tsne_2d[195:384,0], y=X_tsne_2d[195:384,1], color='blue', label='Fake')\n",
    "#sns.scatterplot(x=X_tsne_2d[384:,0], y=X_tsne_2d[384:,1], color='orange', label='ITW Fake')\n",
    "plt.title('TSNE Real vs. Fake Embeddings After Feature Selection')\n",
    "plt.show()"
   ]
  },
  {
   "cell_type": "markdown",
   "id": "5795fee3-8905-42b1-a9a3-8c7ac7abb5d0",
   "metadata": {},
   "source": [
    "## Hyperparameter tuning for Logistic Regression:"
   ]
  },
  {
   "cell_type": "code",
   "execution_count": 122,
   "id": "9d7c9807-6a0b-4e4e-a0d8-9b7e17b5c98b",
   "metadata": {},
   "outputs": [],
   "source": [
    "max_features = np.arange(5,50,1)\n",
    "lr_accuracies = []\n",
    "knn_accuracies = []\n",
    "svm_accuracies = []"
   ]
  },
  {
   "cell_type": "code",
   "execution_count": 123,
   "id": "2ad5cc35-62cf-4d8b-98c3-6a3ec6a433e9",
   "metadata": {},
   "outputs": [],
   "source": [
    "for maxf in max_features:\n",
    "    \n",
    "    X_train_fs, X_test_fs, fs = select_features(model_rfc, X_train_scaled, y_train, X_test_scaled, maxf)\n",
    "    \n",
    "    # fit the logreg model\n",
    "    model_lr = LogisticRegression(solver='liblinear')\n",
    "    model_lr.fit(X_train_fs, y_train)\n",
    "    # evaluate the model\n",
    "    yhat_lr = model_lr.predict(X_test_fs)\n",
    "    # evaluate predictions\n",
    "    lr_accuracies.append(accuracy_score(y_test, yhat_lr))\n",
    "    \n",
    "    #KNN classifier\n",
    "    model_knnc = KNeighborsClassifier()\n",
    "    model_knnc.fit(X_train_fs, y_train)\n",
    "    # evaluate the model\n",
    "    yhat_knnc = model_knnc.predict(X_test_fs)\n",
    "    # evaluate predictions\n",
    "    knn_accuracies.append(accuracy_score(y_test, yhat_knnc))\n",
    "    \n",
    "    #SVM classifier\n",
    "    #linear SVM\n",
    "    model_linear_svm = svm.SVC(kernel='linear')\n",
    "    #fit the model \n",
    "    model_linear_svm.fit(X_train_fs, y_train)\n",
    "    #Predict the response\n",
    "    yhat_svm = model_linear_svm.predict(X_test_fs)\n",
    "    #evaluate predictions\n",
    "    svm_accuracies.append(accuracy_score(y_test, yhat_svm))"
   ]
  },
  {
   "cell_type": "code",
   "execution_count": 125,
   "id": "56c863bd-f2e3-42f3-8e2c-6d6677eddae4",
   "metadata": {},
   "outputs": [
    {
     "data": {
      "image/png": "[encoded data removed]",
      "text/plain": [
       "<Figure size 640x480 with 1 Axes>"
      ]
     },
     "metadata": {},
     "output_type": "display_data"
    }
   ],
   "source": [
    "sns.lineplot(x=max_features, y=lr_accuracies, color='red', label='logreg')\n",
    "sns.lineplot(x=max_features, y=knn_accuracies, color='blue', label='knn')\n",
    "sns.lineplot(x=max_features, y=svm_accuracies, color='green', label='svm')\n",
    "plt.title('Accuracy vs. Max Feats for KNN, logreg, linear SVM')\n",
    "plt.show()"
   ]
  },
  {
   "cell_type": "code",
   "execution_count": null,
   "id": "83ec7474-9c06-43fa-8a66-d0d1419b6921",
   "metadata": {},
   "outputs": [],
   "source": []
  },
  {
   "cell_type": "code",
   "execution_count": null,
   "id": "eb4656d5-b83b-43c4-8587-467aafda5a1d",
   "metadata": {},
   "outputs": [],
   "source": []
  },
  {
   "cell_type": "code",
   "execution_count": null,
   "id": "07185470-0ec3-472c-a9c6-e0a37fa64ea2",
   "metadata": {},
   "outputs": [],
   "source": []
  }
 ],
 "metadata": {
  "kernelspec": {
   "display_name": "deepfake-detection-v1",
   "language": "python",
   "name": "deepfake-detection-v1"
  },
  "language_info": {
   "codemirror_mode": {
    "name": "ipython",
    "version": 3
   },
   "file_extension": ".py",
   "mimetype": "text/x-python",
   "name": "python",
   "nbconvert_exporter": "python",
   "pygments_lexer": "ipython3",
   "version": "3.9.16"
  }
 },
 "nbformat": 4,
 "nbformat_minor": 5
}
