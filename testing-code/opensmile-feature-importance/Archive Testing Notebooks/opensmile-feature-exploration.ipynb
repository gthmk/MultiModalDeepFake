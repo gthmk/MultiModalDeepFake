{
 "cells": [
  {
   "cell_type": "markdown",
   "id": "a10f2b2c-5cbd-4496-bfcb-8e7ebf0c8503",
   "metadata": {},
   "source": [
    "# openSMILE feature exploration\n",
    "\n",
    "Standardized Feature Sets - https://link.springer.com/content/pdf/bbm:978-3-642-36806-6/1.pdf"
   ]
  },
  {
   "cell_type": "code",
   "execution_count": 1,
   "id": "47d67752-7232-4d67-a4ed-25a7c8e0c5a6",
   "metadata": {},
   "outputs": [],
   "source": [
    "import opensmile \n",
    "import pandas as pd\n",
    "import numpy as np\n",
    "import os"
   ]
  },
  {
   "cell_type": "markdown",
   "id": "a3f15956-d241-40bc-ab17-f771b0245ef8",
   "metadata": {},
   "source": [
    "The [openSMILE Python API](https://audeering.github.io/opensmile-python/) includes the [ComParE 2016](http://www.tangsoo.de/documents/Publications/Schuller16-TI2.pdf) feature set which enables us to extract 65 low-level descriptors (for ex. MFCC) as well as 6373 Functionals derived from these decriptors. \n",
    "\n",
    "For each audio file - the LLDs are a `samples x 65` df and the functionals are a `1 x 6373` df."
   ]
  },
  {
   "cell_type": "code",
   "execution_count": 2,
   "id": "7bb56aac-0957-45d6-938e-fbc5878e0208",
   "metadata": {},
   "outputs": [],
   "source": [
    "smile_lld_ComParE = opensmile.Smile(\n",
    "    feature_set=opensmile.FeatureSet.ComParE_2016,\n",
    "    feature_level=opensmile.FeatureLevel.LowLevelDescriptors)"
   ]
  },
  {
   "cell_type": "code",
   "execution_count": 3,
   "id": "684a9855-9bc6-4074-b9e8-856a1cd9b05a",
   "metadata": {},
   "outputs": [],
   "source": [
    "smile_functionals_ComParE = opensmile.Smile(\n",
    "    feature_set=opensmile.FeatureSet.ComParE_2016,\n",
    "    feature_level=opensmile.FeatureLevel.Functionals)"
   ]
  },
  {
   "cell_type": "code",
   "execution_count": 5,
   "id": "f38647e3-6056-43de-a48c-c8bf37a275f6",
   "metadata": {},
   "outputs": [
    {
     "name": "stdout",
     "output_type": "stream",
     "text": [
      "Total number of low-level descriptors: 65\n",
      "Total number of functionals: 6373\n"
     ]
    }
   ],
   "source": [
    "print(\"Total number of low-level descriptors: {}\".format(len(smile_lld_ComParE.feature_names)))\n",
    "print(\"Total number of functionals: {}\".format(len(smile_functionals_ComParE.feature_names)))"
   ]
  },
  {
   "cell_type": "code",
   "execution_count": null,
   "id": "f76c00b0-11f0-4352-9b90-780b32b242ff",
   "metadata": {},
   "outputs": [
    {
     "data": {
      "text/plain": [
       "(65, 6373)"
      ]
     },
     "execution_count": 17,
     "metadata": {},
     "output_type": "execute_result"
    }
   ],
   "source": [
    ", "
   ]
  },
  {
   "cell_type": "code",
   "execution_count": null,
   "id": "2a22357c-c0d7-4d46-b63a-55847729373a",
   "metadata": {},
   "outputs": [
    {
     "data": {
      "text/plain": [
       "['F0final_sma',\n",
       " 'voicingFinalUnclipped_sma',\n",
       " 'jitterLocal_sma',\n",
       " 'jitterDDP_sma',\n",
       " 'shimmerLocal_sma',\n",
       " 'logHNR_sma',\n",
       " 'audspec_lengthL1norm_sma',\n",
       " 'audspecRasta_lengthL1norm_sma',\n",
       " 'pcm_RMSenergy_sma',\n",
       " 'pcm_zcr_sma',\n",
       " 'audSpec_Rfilt_sma[0]',\n",
       " 'audSpec_Rfilt_sma[1]',\n",
       " 'audSpec_Rfilt_sma[2]',\n",
       " 'audSpec_Rfilt_sma[3]',\n",
       " 'audSpec_Rfilt_sma[4]',\n",
       " 'audSpec_Rfilt_sma[5]',\n",
       " 'audSpec_Rfilt_sma[6]',\n",
       " 'audSpec_Rfilt_sma[7]',\n",
       " 'audSpec_Rfilt_sma[8]',\n",
       " 'audSpec_Rfilt_sma[9]',\n",
       " 'audSpec_Rfilt_sma[10]',\n",
       " 'audSpec_Rfilt_sma[11]',\n",
       " 'audSpec_Rfilt_sma[12]',\n",
       " 'audSpec_Rfilt_sma[13]',\n",
       " 'audSpec_Rfilt_sma[14]',\n",
       " 'audSpec_Rfilt_sma[15]',\n",
       " 'audSpec_Rfilt_sma[16]',\n",
       " 'audSpec_Rfilt_sma[17]',\n",
       " 'audSpec_Rfilt_sma[18]',\n",
       " 'audSpec_Rfilt_sma[19]',\n",
       " 'audSpec_Rfilt_sma[20]',\n",
       " 'audSpec_Rfilt_sma[21]',\n",
       " 'audSpec_Rfilt_sma[22]',\n",
       " 'audSpec_Rfilt_sma[23]',\n",
       " 'audSpec_Rfilt_sma[24]',\n",
       " 'audSpec_Rfilt_sma[25]',\n",
       " 'pcm_fftMag_fband250-650_sma',\n",
       " 'pcm_fftMag_fband1000-4000_sma',\n",
       " 'pcm_fftMag_spectralRollOff25.0_sma',\n",
       " 'pcm_fftMag_spectralRollOff50.0_sma',\n",
       " 'pcm_fftMag_spectralRollOff75.0_sma',\n",
       " 'pcm_fftMag_spectralRollOff90.0_sma',\n",
       " 'pcm_fftMag_spectralFlux_sma',\n",
       " 'pcm_fftMag_spectralCentroid_sma',\n",
       " 'pcm_fftMag_spectralEntropy_sma',\n",
       " 'pcm_fftMag_spectralVariance_sma',\n",
       " 'pcm_fftMag_spectralSkewness_sma',\n",
       " 'pcm_fftMag_spectralKurtosis_sma',\n",
       " 'pcm_fftMag_spectralSlope_sma',\n",
       " 'pcm_fftMag_psySharpness_sma',\n",
       " 'pcm_fftMag_spectralHarmonicity_sma',\n",
       " 'mfcc_sma[1]',\n",
       " 'mfcc_sma[2]',\n",
       " 'mfcc_sma[3]',\n",
       " 'mfcc_sma[4]',\n",
       " 'mfcc_sma[5]',\n",
       " 'mfcc_sma[6]',\n",
       " 'mfcc_sma[7]',\n",
       " 'mfcc_sma[8]',\n",
       " 'mfcc_sma[9]',\n",
       " 'mfcc_sma[10]',\n",
       " 'mfcc_sma[11]',\n",
       " 'mfcc_sma[12]',\n",
       " 'mfcc_sma[13]',\n",
       " 'mfcc_sma[14]']"
      ]
     },
     "execution_count": 6,
     "metadata": {},
     "output_type": "execute_result"
    }
   ],
   "source": [
    "smile_lld_ComParE.feature_names"
   ]
  },
  {
   "cell_type": "code",
   "execution_count": null,
   "id": "59291810-4047-46eb-a88b-35abcd6edac8",
   "metadata": {},
   "outputs": [
    {
     "data": {
      "text/plain": [
       "['pcm_fftMag_spectralEntropy_sma_range',\n",
       " 'pcm_fftMag_spectralEntropy_sma_maxPos',\n",
       " 'pcm_fftMag_spectralEntropy_sma_minPos',\n",
       " 'pcm_fftMag_spectralEntropy_sma_quartile1',\n",
       " 'pcm_fftMag_spectralEntropy_sma_quartile2',\n",
       " 'pcm_fftMag_spectralEntropy_sma_quartile3',\n",
       " 'pcm_fftMag_spectralEntropy_sma_iqr1-2',\n",
       " 'pcm_fftMag_spectralEntropy_sma_iqr2-3',\n",
       " 'pcm_fftMag_spectralEntropy_sma_iqr1-3',\n",
       " 'pcm_fftMag_spectralEntropy_sma_percentile1.0',\n",
       " 'pcm_fftMag_spectralEntropy_sma_percentile99.0',\n",
       " 'pcm_fftMag_spectralEntropy_sma_pctlrange0-1',\n",
       " 'pcm_fftMag_spectralEntropy_sma_stddev',\n",
       " 'pcm_fftMag_spectralEntropy_sma_skewness',\n",
       " 'pcm_fftMag_spectralEntropy_sma_kurtosis',\n",
       " 'pcm_fftMag_spectralEntropy_sma_meanSegLen',\n",
       " 'pcm_fftMag_spectralEntropy_sma_maxSegLen',\n",
       " 'pcm_fftMag_spectralEntropy_sma_minSegLen',\n",
       " 'pcm_fftMag_spectralEntropy_sma_segLenStddev',\n",
       " 'pcm_fftMag_spectralEntropy_sma_upleveltime25',\n",
       " 'pcm_fftMag_spectralEntropy_sma_upleveltime50',\n",
       " 'pcm_fftMag_spectralEntropy_sma_upleveltime75',\n",
       " 'pcm_fftMag_spectralEntropy_sma_upleveltime90',\n",
       " 'pcm_fftMag_spectralEntropy_sma_risetime',\n",
       " 'pcm_fftMag_spectralEntropy_sma_leftctime',\n",
       " 'pcm_fftMag_spectralEntropy_sma_lpgain',\n",
       " 'pcm_fftMag_spectralEntropy_sma_lpc0',\n",
       " 'pcm_fftMag_spectralEntropy_sma_lpc1',\n",
       " 'pcm_fftMag_spectralEntropy_sma_lpc2',\n",
       " 'pcm_fftMag_spectralEntropy_sma_lpc3',\n",
       " 'pcm_fftMag_spectralEntropy_sma_lpc4',\n",
       " 'pcm_fftMag_spectralEntropy_sma_de_range',\n",
       " 'pcm_fftMag_spectralEntropy_sma_de_maxPos',\n",
       " 'pcm_fftMag_spectralEntropy_sma_de_minPos',\n",
       " 'pcm_fftMag_spectralEntropy_sma_de_quartile1',\n",
       " 'pcm_fftMag_spectralEntropy_sma_de_quartile2',\n",
       " 'pcm_fftMag_spectralEntropy_sma_de_quartile3',\n",
       " 'pcm_fftMag_spectralEntropy_sma_de_iqr1-2',\n",
       " 'pcm_fftMag_spectralEntropy_sma_de_iqr2-3',\n",
       " 'pcm_fftMag_spectralEntropy_sma_de_iqr1-3',\n",
       " 'pcm_fftMag_spectralEntropy_sma_de_percentile1.0',\n",
       " 'pcm_fftMag_spectralEntropy_sma_de_percentile99.0',\n",
       " 'pcm_fftMag_spectralEntropy_sma_de_pctlrange0-1',\n",
       " 'pcm_fftMag_spectralEntropy_sma_de_stddev',\n",
       " 'pcm_fftMag_spectralEntropy_sma_de_skewness',\n",
       " 'pcm_fftMag_spectralEntropy_sma_de_kurtosis',\n",
       " 'pcm_fftMag_spectralEntropy_sma_de_meanSegLen',\n",
       " 'pcm_fftMag_spectralEntropy_sma_de_maxSegLen',\n",
       " 'pcm_fftMag_spectralEntropy_sma_de_minSegLen',\n",
       " 'pcm_fftMag_spectralEntropy_sma_de_segLenStddev',\n",
       " 'pcm_fftMag_spectralEntropy_sma_de_upleveltime25',\n",
       " 'pcm_fftMag_spectralEntropy_sma_de_upleveltime50',\n",
       " 'pcm_fftMag_spectralEntropy_sma_de_upleveltime75',\n",
       " 'pcm_fftMag_spectralEntropy_sma_de_upleveltime90',\n",
       " 'pcm_fftMag_spectralEntropy_sma_de_risetime',\n",
       " 'pcm_fftMag_spectralEntropy_sma_de_leftctime',\n",
       " 'pcm_fftMag_spectralEntropy_sma_de_lpgain',\n",
       " 'pcm_fftMag_spectralEntropy_sma_de_lpc0',\n",
       " 'pcm_fftMag_spectralEntropy_sma_de_lpc1',\n",
       " 'pcm_fftMag_spectralEntropy_sma_de_lpc2',\n",
       " 'pcm_fftMag_spectralEntropy_sma_de_lpc3',\n",
       " 'pcm_fftMag_spectralEntropy_sma_de_lpc4',\n",
       " 'pcm_fftMag_spectralEntropy_sma_amean',\n",
       " 'pcm_fftMag_spectralEntropy_sma_flatness',\n",
       " 'pcm_fftMag_spectralEntropy_sma_rqmean',\n",
       " 'pcm_fftMag_spectralEntropy_sma_meanPeakDist',\n",
       " 'pcm_fftMag_spectralEntropy_sma_peakDistStddev',\n",
       " 'pcm_fftMag_spectralEntropy_sma_peakRangeAbs',\n",
       " 'pcm_fftMag_spectralEntropy_sma_peakRangeRel',\n",
       " 'pcm_fftMag_spectralEntropy_sma_peakMeanAbs',\n",
       " 'pcm_fftMag_spectralEntropy_sma_peakMeanMeanDist',\n",
       " 'pcm_fftMag_spectralEntropy_sma_peakMeanRel',\n",
       " 'pcm_fftMag_spectralEntropy_sma_minRangeRel',\n",
       " 'pcm_fftMag_spectralEntropy_sma_meanRisingSlope',\n",
       " 'pcm_fftMag_spectralEntropy_sma_stddevRisingSlope',\n",
       " 'pcm_fftMag_spectralEntropy_sma_meanFallingSlope',\n",
       " 'pcm_fftMag_spectralEntropy_sma_stddevFallingSlope',\n",
       " 'pcm_fftMag_spectralEntropy_sma_linregc1',\n",
       " 'pcm_fftMag_spectralEntropy_sma_linregc2',\n",
       " 'pcm_fftMag_spectralEntropy_sma_linregerrQ',\n",
       " 'pcm_fftMag_spectralEntropy_sma_qregc1',\n",
       " 'pcm_fftMag_spectralEntropy_sma_qregc2',\n",
       " 'pcm_fftMag_spectralEntropy_sma_qregc3',\n",
       " 'pcm_fftMag_spectralEntropy_sma_qregerrQ',\n",
       " 'pcm_fftMag_spectralEntropy_sma_centroid',\n",
       " 'pcm_fftMag_spectralEntropy_sma_de_flatness',\n",
       " 'pcm_fftMag_spectralEntropy_sma_de_posamean',\n",
       " 'pcm_fftMag_spectralEntropy_sma_de_rqmean',\n",
       " 'pcm_fftMag_spectralEntropy_sma_de_meanPeakDist',\n",
       " 'pcm_fftMag_spectralEntropy_sma_de_peakDistStddev',\n",
       " 'pcm_fftMag_spectralEntropy_sma_de_peakRangeAbs',\n",
       " 'pcm_fftMag_spectralEntropy_sma_de_peakRangeRel',\n",
       " 'pcm_fftMag_spectralEntropy_sma_de_peakMeanAbs',\n",
       " 'pcm_fftMag_spectralEntropy_sma_de_peakMeanMeanDist',\n",
       " 'pcm_fftMag_spectralEntropy_sma_de_peakMeanRel',\n",
       " 'pcm_fftMag_spectralEntropy_sma_de_minRangeRel',\n",
       " 'pcm_fftMag_spectralEntropy_sma_de_meanRisingSlope',\n",
       " 'pcm_fftMag_spectralEntropy_sma_de_stddevRisingSlope',\n",
       " 'pcm_fftMag_spectralEntropy_sma_de_meanFallingSlope',\n",
       " 'pcm_fftMag_spectralEntropy_sma_de_stddevFallingSlope']"
      ]
     },
     "execution_count": 7,
     "metadata": {},
     "output_type": "execute_result"
    }
   ],
   "source": [
    "term = \"entropy\"\n",
    "result = [match for match in smile_functionals_ComParE.feature_names if term in match.lower()]\n",
    "result"
   ]
  },
  {
   "cell_type": "code",
   "execution_count": null,
   "id": "605d06fd-94bc-4b02-b098-ad5a6fc5c3a0",
   "metadata": {},
   "outputs": [],
   "source": [
    "smile_lld_eGeMAPS = opensmile.Smile(\n",
    "    feature_set=opensmile.FeatureSet.eGeMAPSv02,\n",
    "    feature_level=opensmile.FeatureLevel.LowLevelDescriptors)"
   ]
  },
  {
   "cell_type": "code",
   "execution_count": null,
   "id": "6d685c41-6d4d-4905-96b6-e9ea407b3732",
   "metadata": {},
   "outputs": [
    {
     "data": {
      "text/plain": [
       "['Loudness_sma3',\n",
       " 'alphaRatio_sma3',\n",
       " 'hammarbergIndex_sma3',\n",
       " 'slope0-500_sma3',\n",
       " 'slope500-1500_sma3',\n",
       " 'spectralFlux_sma3',\n",
       " 'mfcc1_sma3',\n",
       " 'mfcc2_sma3',\n",
       " 'mfcc3_sma3',\n",
       " 'mfcc4_sma3',\n",
       " 'F0semitoneFrom27.5Hz_sma3nz',\n",
       " 'jitterLocal_sma3nz',\n",
       " 'shimmerLocaldB_sma3nz',\n",
       " 'HNRdBACF_sma3nz',\n",
       " 'logRelF0-H1-H2_sma3nz',\n",
       " 'logRelF0-H1-A3_sma3nz',\n",
       " 'F1frequency_sma3nz',\n",
       " 'F1bandwidth_sma3nz',\n",
       " 'F1amplitudeLogRelF0_sma3nz',\n",
       " 'F2frequency_sma3nz',\n",
       " 'F2bandwidth_sma3nz',\n",
       " 'F2amplitudeLogRelF0_sma3nz',\n",
       " 'F3frequency_sma3nz',\n",
       " 'F3bandwidth_sma3nz',\n",
       " 'F3amplitudeLogRelF0_sma3nz']"
      ]
     },
     "execution_count": 19,
     "metadata": {},
     "output_type": "execute_result"
    }
   ],
   "source": [
    "smile_lld_eGeMAPS.feature_names"
   ]
  },
  {
   "cell_type": "code",
   "execution_count": null,
   "id": "c311966a-b89c-4470-bdca-a09adc55668d",
   "metadata": {},
   "outputs": [],
   "source": [
    "smile_functionals_eGeMAPS = opensmile.Smile(\n",
    "    feature_set=opensmile.FeatureSet.eGeMAPSv02,\n",
    "    feature_level=opensmile.FeatureLevel.Functionals)"
   ]
  },
  {
   "cell_type": "code",
   "execution_count": null,
   "id": "9d98c7cf-0b5b-42ab-a07a-c3022f63d783",
   "metadata": {},
   "outputs": [
    {
     "data": {
      "text/plain": [
       "['F0semitoneFrom27.5Hz_sma3nz_amean',\n",
       " 'F0semitoneFrom27.5Hz_sma3nz_stddevNorm',\n",
       " 'F0semitoneFrom27.5Hz_sma3nz_percentile20.0',\n",
       " 'F0semitoneFrom27.5Hz_sma3nz_percentile50.0',\n",
       " 'F0semitoneFrom27.5Hz_sma3nz_percentile80.0',\n",
       " 'F0semitoneFrom27.5Hz_sma3nz_pctlrange0-2',\n",
       " 'F0semitoneFrom27.5Hz_sma3nz_meanRisingSlope',\n",
       " 'F0semitoneFrom27.5Hz_sma3nz_stddevRisingSlope',\n",
       " 'F0semitoneFrom27.5Hz_sma3nz_meanFallingSlope',\n",
       " 'F0semitoneFrom27.5Hz_sma3nz_stddevFallingSlope',\n",
       " 'loudness_sma3_amean',\n",
       " 'loudness_sma3_stddevNorm',\n",
       " 'loudness_sma3_percentile20.0',\n",
       " 'loudness_sma3_percentile50.0',\n",
       " 'loudness_sma3_percentile80.0',\n",
       " 'loudness_sma3_pctlrange0-2',\n",
       " 'loudness_sma3_meanRisingSlope',\n",
       " 'loudness_sma3_stddevRisingSlope',\n",
       " 'loudness_sma3_meanFallingSlope',\n",
       " 'loudness_sma3_stddevFallingSlope',\n",
       " 'spectralFlux_sma3_amean',\n",
       " 'spectralFlux_sma3_stddevNorm',\n",
       " 'mfcc1_sma3_amean',\n",
       " 'mfcc1_sma3_stddevNorm',\n",
       " 'mfcc2_sma3_amean',\n",
       " 'mfcc2_sma3_stddevNorm',\n",
       " 'mfcc3_sma3_amean',\n",
       " 'mfcc3_sma3_stddevNorm',\n",
       " 'mfcc4_sma3_amean',\n",
       " 'mfcc4_sma3_stddevNorm',\n",
       " 'jitterLocal_sma3nz_amean',\n",
       " 'jitterLocal_sma3nz_stddevNorm',\n",
       " 'shimmerLocaldB_sma3nz_amean',\n",
       " 'shimmerLocaldB_sma3nz_stddevNorm',\n",
       " 'HNRdBACF_sma3nz_amean',\n",
       " 'HNRdBACF_sma3nz_stddevNorm',\n",
       " 'logRelF0-H1-H2_sma3nz_amean',\n",
       " 'logRelF0-H1-H2_sma3nz_stddevNorm',\n",
       " 'logRelF0-H1-A3_sma3nz_amean',\n",
       " 'logRelF0-H1-A3_sma3nz_stddevNorm',\n",
       " 'F1frequency_sma3nz_amean',\n",
       " 'F1frequency_sma3nz_stddevNorm',\n",
       " 'F1bandwidth_sma3nz_amean',\n",
       " 'F1bandwidth_sma3nz_stddevNorm',\n",
       " 'F1amplitudeLogRelF0_sma3nz_amean',\n",
       " 'F1amplitudeLogRelF0_sma3nz_stddevNorm',\n",
       " 'F2frequency_sma3nz_amean',\n",
       " 'F2frequency_sma3nz_stddevNorm',\n",
       " 'F2bandwidth_sma3nz_amean',\n",
       " 'F2bandwidth_sma3nz_stddevNorm',\n",
       " 'F2amplitudeLogRelF0_sma3nz_amean',\n",
       " 'F2amplitudeLogRelF0_sma3nz_stddevNorm',\n",
       " 'F3frequency_sma3nz_amean',\n",
       " 'F3frequency_sma3nz_stddevNorm',\n",
       " 'F3bandwidth_sma3nz_amean',\n",
       " 'F3bandwidth_sma3nz_stddevNorm',\n",
       " 'F3amplitudeLogRelF0_sma3nz_amean',\n",
       " 'F3amplitudeLogRelF0_sma3nz_stddevNorm',\n",
       " 'alphaRatioV_sma3nz_amean',\n",
       " 'alphaRatioV_sma3nz_stddevNorm',\n",
       " 'hammarbergIndexV_sma3nz_amean',\n",
       " 'hammarbergIndexV_sma3nz_stddevNorm',\n",
       " 'slopeV0-500_sma3nz_amean',\n",
       " 'slopeV0-500_sma3nz_stddevNorm',\n",
       " 'slopeV500-1500_sma3nz_amean',\n",
       " 'slopeV500-1500_sma3nz_stddevNorm',\n",
       " 'spectralFluxV_sma3nz_amean',\n",
       " 'spectralFluxV_sma3nz_stddevNorm',\n",
       " 'mfcc1V_sma3nz_amean',\n",
       " 'mfcc1V_sma3nz_stddevNorm',\n",
       " 'mfcc2V_sma3nz_amean',\n",
       " 'mfcc2V_sma3nz_stddevNorm',\n",
       " 'mfcc3V_sma3nz_amean',\n",
       " 'mfcc3V_sma3nz_stddevNorm',\n",
       " 'mfcc4V_sma3nz_amean',\n",
       " 'mfcc4V_sma3nz_stddevNorm',\n",
       " 'alphaRatioUV_sma3nz_amean',\n",
       " 'hammarbergIndexUV_sma3nz_amean',\n",
       " 'slopeUV0-500_sma3nz_amean',\n",
       " 'slopeUV500-1500_sma3nz_amean',\n",
       " 'spectralFluxUV_sma3nz_amean',\n",
       " 'loudnessPeaksPerSec',\n",
       " 'VoicedSegmentsPerSec',\n",
       " 'MeanVoicedSegmentLengthSec',\n",
       " 'StddevVoicedSegmentLengthSec',\n",
       " 'MeanUnvoicedSegmentLength',\n",
       " 'StddevUnvoicedSegmentLength',\n",
       " 'equivalentSoundLevel_dBp']"
      ]
     },
     "execution_count": 21,
     "metadata": {},
     "output_type": "execute_result"
    }
   ],
   "source": [
    "smile_functionals_eGeMAPS.feature_names"
   ]
  },
  {
   "cell_type": "code",
   "execution_count": null,
   "id": "cb6ce15e-dde3-42b7-95b0-87aa499e454a",
   "metadata": {},
   "outputs": [],
   "source": []
  }
 ],
 "metadata": {
  "kernelspec": {
   "display_name": "deepfake-detection-v1",
   "language": "python",
   "name": "deepfake-detection-v1"
  },
  "language_info": {
   "codemirror_mode": {
    "name": "ipython",
    "version": 3
   },
   "file_extension": ".py",
   "mimetype": "text/x-python",
   "name": "python",
   "nbconvert_exporter": "python",
   "pygments_lexer": "ipython3",
   "version": "3.9.16"
  }
 },
 "nbformat": 4,
 "nbformat_minor": 5
}
