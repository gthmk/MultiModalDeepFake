{
 "cells": [
  {
   "cell_type": "code",
   "execution_count": 1,
   "id": "0e9e4cdd-deaa-411a-be07-df75e0920926",
   "metadata": {},
   "outputs": [],
   "source": [
    "import opensmile \n",
    "import pandas as pd\n",
    "import numpy as np\n",
    "import os\n",
    "from sklearn.ensemble import RandomForestClassifier\n",
    "from sklearn.model_selection import train_test_split, RandomizedSearchCV\n",
    "import matplotlib.pyplot as plt\n",
    "from sklearn.feature_selection import SelectFromModel\n",
    "from sklearn.linear_model import LogisticRegression\n",
    "from sklearn.metrics import accuracy_score\n",
    "import random\n",
    "from sklearn.preprocessing import MinMaxScaler, StandardScaler, RobustScaler\n",
    "from sklearn.manifold import TSNE\n",
    "from sklearn.neighbors import KNeighborsClassifier\n",
    "import seaborn as sns\n",
    "from sklearn import svm\n",
    "base_path = \"/home/ubuntu/\""
   ]
  },
  {
   "cell_type": "markdown",
   "id": "bb69b713-35da-4cc6-9c4e-3bd7024ffa2b",
   "metadata": {},
   "source": [
    "## Read saved dataframes to generate features and labels"
   ]
  },
  {
   "cell_type": "code",
   "execution_count": 2,
   "id": "73fcf850-8a65-482a-9cf2-9ae257d5ef5a",
   "metadata": {},
   "outputs": [],
   "source": [
    "data_path_lj = base_path + 'testing-code/opensmile-feature-importance/smile_dfs/LJ_sample_11200.csv'\n",
    "df = pd.read_csv(data_path_lj)"
   ]
  },
  {
   "cell_type": "code",
   "execution_count": 3,
   "id": "1dd0326a-74da-40fd-92ab-30924c33e536",
   "metadata": {},
   "outputs": [
    {
     "data": {
      "text/plain": [
       "(11200, 6378)"
      ]
     },
     "execution_count": 3,
     "metadata": {},
     "output_type": "execute_result"
    }
   ],
   "source": [
    "df.shape"
   ]
  },
  {
   "cell_type": "code",
   "execution_count": 4,
   "id": "8353f6bc-fcbe-45dc-827b-cf3b1fb3c2b3",
   "metadata": {},
   "outputs": [],
   "source": [
    "y = df['label'].copy()\n",
    "X = df.drop(columns=['file', 'type', 'start', 'end','label']).copy()\n",
    "\n",
    "X_train, X_test, y_train, y_test = train_test_split(X, y, test_size=0.2)"
   ]
  },
  {
   "cell_type": "code",
   "execution_count": 5,
   "id": "f2973139-8365-4e50-89b0-5054f822e1e4",
   "metadata": {},
   "outputs": [],
   "source": [
    "#standard scaling of input data\n",
    "scaler = StandardScaler()\n",
    "X_train_scaled = scaler.fit_transform(X_train)\n",
    "X_test_scaled = scaler.transform(X_test)"
   ]
  },
  {
   "cell_type": "code",
   "execution_count": 14,
   "id": "a8fbf76c-d6ea-4247-a126-bc41148011da",
   "metadata": {},
   "outputs": [],
   "source": [
    "features = df.drop(columns=['file', 'type', 'start', 'end','label']).columns.to_list()"
   ]
  },
  {
   "cell_type": "markdown",
   "id": "343b08e0-4350-4a16-a9d9-0c9ab263ce5d",
   "metadata": {},
   "source": [
    "Univariate feature selection works by selecting the best features based on univariate statistical tests. It can be seen as a preprocessing step to an estimator. Scikit-learn exposes feature selection routines as objects that implement the transform method:\n",
    "\n",
    "## SelectKBest"
   ]
  },
  {
   "cell_type": "code",
   "execution_count": 10,
   "id": "aeb9a01b-a2b3-466b-9f5f-2113cbc1ce17",
   "metadata": {},
   "outputs": [],
   "source": [
    "from sklearn.feature_selection import SelectKBest, mutual_info_classif"
   ]
  },
  {
   "cell_type": "code",
   "execution_count": 11,
   "id": "dee9fa7f-982a-4689-826c-a2c68d4354c1",
   "metadata": {},
   "outputs": [
    {
     "data": {
      "text/plain": [
       "SelectKBest(k=50, score_func=<function mutual_info_classif at 0x7fe540890430>)"
      ]
     },
     "execution_count": 11,
     "metadata": {},
     "output_type": "execute_result"
    }
   ],
   "source": [
    "#Select top 2 features based on mutual info regression\n",
    "selector = SelectKBest(mutual_info_classif, k = 50)\n",
    "selector.fit(X_train_scaled, y_train)"
   ]
  },
  {
   "cell_type": "code",
   "execution_count": 13,
   "id": "18fb4e28-c63b-4bf9-8649-1713d803508f",
   "metadata": {},
   "outputs": [
    {
     "data": {
      "text/plain": [
       "6373"
      ]
     },
     "execution_count": 13,
     "metadata": {},
     "output_type": "execute_result"
    }
   ],
   "source": [
    "len(selector.get_support())"
   ]
  },
  {
   "cell_type": "code",
   "execution_count": 17,
   "id": "d22764e2-f7a1-4b16-b811-52467a826444",
   "metadata": {},
   "outputs": [
    {
     "name": "stdout",
     "output_type": "stream",
     "text": [
      "Index(['mfcc_sma[5]_lpc1', 'mfcc_sma[6]_lpc0', 'mfcc_sma[6]_lpc1',\n",
      "       'mfcc_sma[7]_lpc0', 'mfcc_sma[7]_lpc1', 'mfcc_sma[8]_lpc1',\n",
      "       'mfcc_sma[9]_lpgain', 'mfcc_sma[9]_lpc0', 'mfcc_sma[9]_lpc1',\n",
      "       'mfcc_sma[10]_lpc0', 'mfcc_sma[10]_lpc1', 'mfcc_sma[11]_lpgain',\n",
      "       'mfcc_sma[11]_lpc1', 'mfcc_sma[12]_lpgain', 'mfcc_sma[12]_lpc1',\n",
      "       'mfcc_sma[13]_lpgain', 'mfcc_sma_de[3]_lpc1', 'mfcc_sma_de[3]_lpc2',\n",
      "       'mfcc_sma_de[5]_lpc0', 'mfcc_sma_de[5]_lpc1', 'mfcc_sma_de[5]_lpc2',\n",
      "       'mfcc_sma_de[6]_lpgain', 'mfcc_sma_de[6]_lpc0', 'mfcc_sma_de[6]_lpc1',\n",
      "       'mfcc_sma_de[6]_lpc2', 'mfcc_sma_de[6]_lpc3', 'mfcc_sma_de[7]_lpc0',\n",
      "       'mfcc_sma_de[7]_lpc1', 'mfcc_sma_de[7]_lpc2', 'mfcc_sma_de[8]_lpgain',\n",
      "       'mfcc_sma_de[8]_lpc0', 'mfcc_sma_de[8]_lpc1', 'mfcc_sma_de[8]_lpc2',\n",
      "       'mfcc_sma_de[9]_lpgain', 'mfcc_sma_de[9]_lpc1',\n",
      "       'mfcc_sma_de[10]_lpgain', 'mfcc_sma_de[10]_lpc0',\n",
      "       'mfcc_sma_de[10]_lpc1', 'mfcc_sma_de[11]_lpgain',\n",
      "       'mfcc_sma_de[11]_lpc2', 'mfcc_sma_de[12]_lpgain',\n",
      "       'mfcc_sma_de[12]_lpc2', 'mfcc_sma_de[13]_lpgain',\n",
      "       'mfcc_sma_de[14]_lpgain', 'jitterLocal_sma_quartile1',\n",
      "       'jitterLocal_sma_percentile1.0', 'jitterDDP_sma_flatness',\n",
      "       'jitterDDP_sma_quartile1', 'jitterDDP_sma_quartile2',\n",
      "       'jitterDDP_sma_percentile1.0'],\n",
      "      dtype='object')\n"
     ]
    }
   ],
   "source": [
    "df.drop(columns=['file', 'type', 'start', 'end','label']).columns[selector.get_support()]"
   ]
  },
  {
   "cell_type": "markdown",
   "id": "0ebf9849-8274-451b-ad5b-ef6594ace7bc",
   "metadata": {},
   "source": [
    " ## Recursive Feature Elimination (RFE)"
   ]
  },
  {
   "cell_type": "code",
   "execution_count": 25,
   "id": "53f6eeff-f48d-4662-bd5f-ca5ce4076b55",
   "metadata": {},
   "outputs": [],
   "source": [
    "from sklearn.feature_selection import RFE\n",
    "from sklearn.linear_model import LogisticRegression\n",
    "import warnings\n",
    "warnings.filterwarnings(\"ignore\")"
   ]
  },
  {
   "cell_type": "code",
   "execution_count": 28,
   "id": "b5eda627-81f8-4c21-aa6e-fd197a883b3a",
   "metadata": {},
   "outputs": [
    {
     "data": {
      "text/plain": [
       "RFE(estimator=LogisticRegression(), n_features_to_select=50, step=10)"
      ]
     },
     "execution_count": 28,
     "metadata": {},
     "output_type": "execute_result"
    }
   ],
   "source": [
    "# #Selecting the Best important features according to Logistic Regression\n",
    "rfe_selector = RFE(estimator=LogisticRegression(),n_features_to_select = 50, step = 10)\n",
    "rfe_selector.fit(X_train_scaled, y_train)"
   ]
  },
  {
   "cell_type": "code",
   "execution_count": 29,
   "id": "44820194-0d62-4c7f-bed4-a17d946ef209",
   "metadata": {},
   "outputs": [
    {
     "data": {
      "text/plain": [
       "Index(['audspec_lengthL1norm_sma_iqr1-3', 'pcm_RMSenergy_sma_de_stddev',\n",
       "       'pcm_fftMag_fband250-650_sma_percentile1.0',\n",
       "       'pcm_fftMag_spectralFlux_sma_quartile3',\n",
       "       'pcm_fftMag_spectralFlux_sma_iqr1-2',\n",
       "       'pcm_fftMag_spectralEntropy_sma_iqr2-3',\n",
       "       'pcm_fftMag_spectralVariance_sma_quartile1',\n",
       "       'pcm_fftMag_spectralSkewness_sma_quartile3',\n",
       "       'pcm_fftMag_spectralHarmonicity_sma_quartile2', 'mfcc_sma[1]_range',\n",
       "       'mfcc_sma[1]_quartile3', 'mfcc_sma[2]_quartile2', 'mfcc_sma[5]_lpc1',\n",
       "       'mfcc_sma[6]_lpc2', 'mfcc_sma[7]_quartile3', 'mfcc_sma[9]_lpc0',\n",
       "       'mfcc_sma[11]_lpc1', 'audSpec_Rfilt_sma_de[22]_iqr1-3',\n",
       "       'pcm_fftMag_spectralFlux_sma_de_pctlrange0-1',\n",
       "       'mfcc_sma_de[1]_quartile3', 'mfcc_sma_de[3]_lpc1',\n",
       "       'mfcc_sma_de[5]_lpgain', 'voicingFinalUnclipped_sma_quartile3',\n",
       "       'jitterLocal_sma_quartile2', 'jitterDDP_sma_amean',\n",
       "       'jitterDDP_sma_flatness', 'jitterDDP_sma_posamean',\n",
       "       'jitterDDP_sma_quartile1', 'jitterDDP_sma_quartile2',\n",
       "       'jitterDDP_sma_iqr1-3', 'jitterDDP_sma_percentile1.0',\n",
       "       'shimmerLocal_sma_quartile1', 'logHNR_sma_posamean',\n",
       "       'logHNR_sma_upleveltime75', 'F0final_sma_de_iqr2-3',\n",
       "       'jitterLocal_sma_de_iqr1-3', 'jitterDDP_sma_de_qregc1',\n",
       "       'audSpec_Rfilt_sma[16]_amean', 'audSpec_Rfilt_sma[17]_flatness',\n",
       "       'pcm_fftMag_spectralRollOff75.0_sma_amean',\n",
       "       'pcm_fftMag_spectralFlux_sma_rqmean',\n",
       "       'pcm_fftMag_spectralEntropy_sma_rqmean',\n",
       "       'pcm_fftMag_spectralVariance_sma_amean',\n",
       "       'pcm_fftMag_spectralVariance_sma_flatness',\n",
       "       'pcm_fftMag_spectralSkewness_sma_amean',\n",
       "       'pcm_fftMag_spectralSlope_sma_amean', 'mfcc_sma[1]_rqmean',\n",
       "       'mfcc_sma[9]_peakMeanAbs', 'pcm_RMSenergy_sma_de_rqmean',\n",
       "       'pcm_fftMag_spectralHarmonicity_sma_de_flatness'],\n",
       "      dtype='object')"
      ]
     },
     "execution_count": 29,
     "metadata": {},
     "output_type": "execute_result"
    }
   ],
   "source": [
    "df.drop(columns=['file', 'type', 'start', 'end','label']).columns[rfe_selector.get_support()]"
   ]
  },
  {
   "cell_type": "code",
   "execution_count": null,
   "id": "25affe88-0493-4a82-ab4d-8e5b400eb81a",
   "metadata": {},
   "outputs": [],
   "source": [
    "from sklearn.feature_selection import RFECV\n",
    "cv_estimator = RandomForestClassifier(random_state =42)\n",
    "cv_estimator.fit(X_train_scaled, y_train)\n",
    "cv_selector = RFECV(cv_estimator,cv= 5, step=50,scoring='accuracy')\n",
    "cv_selector = cv_selector.fit(X_train_scaled, y_train)"
   ]
  },
  {
   "cell_type": "code",
   "execution_count": null,
   "id": "90229d5c-28b3-47a3-86d8-6ba39de6bc5d",
   "metadata": {},
   "outputs": [],
   "source": [
    "tdf = df.drop(columns=['file', 'type', 'start', 'end','label'])\n",
    "rfecv_mask = cv_selector.get_support() #list of booleans\n",
    "rfecv_features = [] \n",
    "for bool, feature in zip(rfecv_mask, tdf.columns):\n",
    "    if bool:\n",
    "        rfecv_features.append(feature)\n",
    "print(‘Optimal number of features :’, cv_selector.n_features_)\n",
    "print(‘Best features :’, rfecv_features)\n",
    "n_features = tdf.shape[1]\n",
    "plt.figure(figsize=(8,8))\n",
    "plt.barh(range(n_features), cv_estimator.feature_importances_, align='center') \n",
    "plt.yticks(np.arange(n_features), tdf.columns.values) \n",
    "plt.xlabel('Feature importance')\n",
    "plt.ylabel('Feature')\n",
    "plt.show()"
   ]
  },
  {
   "cell_type": "code",
   "execution_count": null,
   "id": "21d6b4bd-d5ed-46eb-92c3-d6a4cf8b17a4",
   "metadata": {},
   "outputs": [],
   "source": []
  }
 ],
 "metadata": {
  "kernelspec": {
   "display_name": "deepfake-detection-v1",
   "language": "python",
   "name": "deepfake-detection-v1"
  },
  "language_info": {
   "codemirror_mode": {
    "name": "ipython",
    "version": 3
   },
   "file_extension": ".py",
   "mimetype": "text/x-python",
   "name": "python",
   "nbconvert_exporter": "python",
   "pygments_lexer": "ipython3",
   "version": "3.9.16"
  }
 },
 "nbformat": 4,
 "nbformat_minor": 5
}
