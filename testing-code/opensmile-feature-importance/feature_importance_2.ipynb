{
 "cells": [
  {
   "cell_type": "markdown",
   "id": "eae0b6a5-6b0f-4192-a551-8b168e0c699f",
   "metadata": {},
   "source": [
    "## Feature Importance and Feature Selection\n"
   ]
  },
  {
   "cell_type": "code",
   "execution_count": 51,
   "id": "f60c048d",
   "metadata": {},
   "outputs": [],
   "source": [
    "import opensmile \n",
    "import pandas as pd\n",
    "import numpy as np\n",
    "import os\n",
    "from sklearn.ensemble import RandomForestClassifier\n",
    "from sklearn.model_selection import train_test_split\n",
    "import matplotlib.pyplot as plt\n",
    "from sklearn.feature_selection import SelectFromModel\n",
    "from sklearn.linear_model import LogisticRegression\n",
    "from sklearn.metrics import accuracy_score\n",
    "from sklearn.preprocessing import StandardScaler\n",
    "from sklearn.manifold import TSNE\n",
    "import seaborn as sns"
   ]
  },
  {
   "cell_type": "code",
   "execution_count": 2,
   "id": "4ca9bb14",
   "metadata": {},
   "outputs": [],
   "source": [
    "smile_lld_ComParE = opensmile.Smile(\n",
    "    feature_set=opensmile.FeatureSet.ComParE_2016,\n",
    "    feature_level=opensmile.FeatureLevel.LowLevelDescriptors)"
   ]
  },
  {
   "cell_type": "code",
   "execution_count": 3,
   "id": "952742cf",
   "metadata": {},
   "outputs": [],
   "source": [
    "smile_functionals_ComParE = opensmile.Smile(\n",
    "    feature_set=opensmile.FeatureSet.ComParE_2016,\n",
    "    feature_level=opensmile.FeatureLevel.Functionals)"
   ]
  },
  {
   "cell_type": "code",
   "execution_count": 4,
   "id": "461f5b99",
   "metadata": {},
   "outputs": [
    {
     "data": {
      "text/plain": [
       "(65, 6373)"
      ]
     },
     "execution_count": 4,
     "metadata": {},
     "output_type": "execute_result"
    }
   ],
   "source": [
    "len(smile_lld_ComParE.feature_names), len(smile_functionals_ComParE.feature_names)"
   ]
  },
  {
   "cell_type": "code",
   "execution_count": 5,
   "id": "ca8ab7ef",
   "metadata": {},
   "outputs": [],
   "source": [
    "def load_files(path, smile_object):\n",
    "    \n",
    "    results = pd.DataFrame()\n",
    "    \n",
    "    for file in os.listdir(path):\n",
    "        if file.endswith('.wav'):\n",
    "            df = smile_object.process_file(os.path.join(path,file))\n",
    "            results = pd.concat([results,df])\n",
    "        \n",
    "    return results"
   ]
  },
  {
   "cell_type": "code",
   "execution_count": 6,
   "id": "2a93db4a",
   "metadata": {},
   "outputs": [],
   "source": [
    "base_path = \"/home/ubuntu/\""
   ]
  },
  {
   "cell_type": "code",
   "execution_count": 7,
   "id": "fcf05b41",
   "metadata": {},
   "outputs": [],
   "source": [
    "real_path = base_path + 'data/world-leaders-dataset/WavFiles/biden_wav_audio/44100KHz'\n",
    "biden_df = load_files(real_path, smile_functionals_ComParE)\n",
    "biden_df['label'] = 0\n",
    "\n",
    "fake_path = base_path + 'data/world-leaders-dataset/11LabsDeepFakes'\n",
    "fake_biden_df = load_files(fake_path, smile_functionals_ComParE)\n",
    "fake_biden_df['label'] = 1"
   ]
  },
  {
   "cell_type": "code",
   "execution_count": 8,
   "id": "af3ecdb2-37ea-4efd-8310-5b5fa96c954d",
   "metadata": {},
   "outputs": [
    {
     "data": {
      "text/html": [
       "<div>\n",
       "<style scoped>\n",
       "    .dataframe tbody tr th:only-of-type {\n",
       "        vertical-align: middle;\n",
       "    }\n",
       "\n",
       "    .dataframe tbody tr th {\n",
       "        vertical-align: top;\n",
       "    }\n",
       "\n",
       "    .dataframe thead th {\n",
       "        text-align: right;\n",
       "    }\n",
       "</style>\n",
       "<table border=\"1\" class=\"dataframe\">\n",
       "  <thead>\n",
       "    <tr style=\"text-align: right;\">\n",
       "      <th></th>\n",
       "      <th>audspec_lengthL1norm_sma_range</th>\n",
       "      <th>audspec_lengthL1norm_sma_maxPos</th>\n",
       "      <th>audspec_lengthL1norm_sma_minPos</th>\n",
       "      <th>audspec_lengthL1norm_sma_quartile1</th>\n",
       "      <th>audspec_lengthL1norm_sma_quartile2</th>\n",
       "      <th>audspec_lengthL1norm_sma_quartile3</th>\n",
       "      <th>audspec_lengthL1norm_sma_iqr1-2</th>\n",
       "      <th>audspec_lengthL1norm_sma_iqr2-3</th>\n",
       "      <th>audspec_lengthL1norm_sma_iqr1-3</th>\n",
       "      <th>audspec_lengthL1norm_sma_percentile1.0</th>\n",
       "      <th>...</th>\n",
       "      <th>mfcc_sma_de[14]_peakRangeRel</th>\n",
       "      <th>mfcc_sma_de[14]_peakMeanAbs</th>\n",
       "      <th>mfcc_sma_de[14]_peakMeanMeanDist</th>\n",
       "      <th>mfcc_sma_de[14]_peakMeanRel</th>\n",
       "      <th>mfcc_sma_de[14]_minRangeRel</th>\n",
       "      <th>mfcc_sma_de[14]_meanRisingSlope</th>\n",
       "      <th>mfcc_sma_de[14]_stddevRisingSlope</th>\n",
       "      <th>mfcc_sma_de[14]_meanFallingSlope</th>\n",
       "      <th>mfcc_sma_de[14]_stddevFallingSlope</th>\n",
       "      <th>label</th>\n",
       "    </tr>\n",
       "  </thead>\n",
       "  <tbody>\n",
       "    <tr>\n",
       "      <th>0</th>\n",
       "      <td>4.703442</td>\n",
       "      <td>0.757979</td>\n",
       "      <td>0.317021</td>\n",
       "      <td>0.915155</td>\n",
       "      <td>1.601160</td>\n",
       "      <td>2.246375</td>\n",
       "      <td>0.686006</td>\n",
       "      <td>0.645215</td>\n",
       "      <td>1.331221</td>\n",
       "      <td>0.101343</td>\n",
       "      <td>...</td>\n",
       "      <td>0.614847</td>\n",
       "      <td>2.273842</td>\n",
       "      <td>2.270063</td>\n",
       "      <td>19.998241</td>\n",
       "      <td>0.636268</td>\n",
       "      <td>106.226677</td>\n",
       "      <td>50.793915</td>\n",
       "      <td>103.037048</td>\n",
       "      <td>52.213242</td>\n",
       "      <td>0</td>\n",
       "    </tr>\n",
       "    <tr>\n",
       "      <th>1</th>\n",
       "      <td>2.267536</td>\n",
       "      <td>0.028464</td>\n",
       "      <td>0.113483</td>\n",
       "      <td>0.238443</td>\n",
       "      <td>0.427879</td>\n",
       "      <td>0.663548</td>\n",
       "      <td>0.189437</td>\n",
       "      <td>0.235668</td>\n",
       "      <td>0.425105</td>\n",
       "      <td>0.059096</td>\n",
       "      <td>...</td>\n",
       "      <td>0.596789</td>\n",
       "      <td>2.498126</td>\n",
       "      <td>2.499365</td>\n",
       "      <td>-20.000000</td>\n",
       "      <td>0.483478</td>\n",
       "      <td>115.425087</td>\n",
       "      <td>57.748161</td>\n",
       "      <td>112.634346</td>\n",
       "      <td>58.922848</td>\n",
       "      <td>0</td>\n",
       "    </tr>\n",
       "    <tr>\n",
       "      <th>2</th>\n",
       "      <td>3.228675</td>\n",
       "      <td>0.078931</td>\n",
       "      <td>0.877564</td>\n",
       "      <td>0.276506</td>\n",
       "      <td>0.627168</td>\n",
       "      <td>0.960359</td>\n",
       "      <td>0.350661</td>\n",
       "      <td>0.333191</td>\n",
       "      <td>0.683852</td>\n",
       "      <td>0.107443</td>\n",
       "      <td>...</td>\n",
       "      <td>0.551893</td>\n",
       "      <td>2.649651</td>\n",
       "      <td>2.647956</td>\n",
       "      <td>19.999996</td>\n",
       "      <td>0.558275</td>\n",
       "      <td>115.258064</td>\n",
       "      <td>62.384377</td>\n",
       "      <td>119.572105</td>\n",
       "      <td>64.346001</td>\n",
       "      <td>0</td>\n",
       "    </tr>\n",
       "    <tr>\n",
       "      <th>3</th>\n",
       "      <td>2.391800</td>\n",
       "      <td>0.521424</td>\n",
       "      <td>0.720177</td>\n",
       "      <td>0.193181</td>\n",
       "      <td>0.444353</td>\n",
       "      <td>0.718777</td>\n",
       "      <td>0.251172</td>\n",
       "      <td>0.274424</td>\n",
       "      <td>0.525596</td>\n",
       "      <td>0.072356</td>\n",
       "      <td>...</td>\n",
       "      <td>0.594311</td>\n",
       "      <td>2.408087</td>\n",
       "      <td>2.408055</td>\n",
       "      <td>20.000000</td>\n",
       "      <td>0.565387</td>\n",
       "      <td>111.302612</td>\n",
       "      <td>51.976112</td>\n",
       "      <td>109.908424</td>\n",
       "      <td>54.466801</td>\n",
       "      <td>0</td>\n",
       "    </tr>\n",
       "    <tr>\n",
       "      <th>4</th>\n",
       "      <td>2.131366</td>\n",
       "      <td>0.672943</td>\n",
       "      <td>0.857552</td>\n",
       "      <td>0.221287</td>\n",
       "      <td>0.564615</td>\n",
       "      <td>0.886703</td>\n",
       "      <td>0.343328</td>\n",
       "      <td>0.322088</td>\n",
       "      <td>0.665416</td>\n",
       "      <td>0.126160</td>\n",
       "      <td>...</td>\n",
       "      <td>0.580128</td>\n",
       "      <td>2.398257</td>\n",
       "      <td>2.399142</td>\n",
       "      <td>-20.000000</td>\n",
       "      <td>0.575350</td>\n",
       "      <td>110.340683</td>\n",
       "      <td>54.816952</td>\n",
       "      <td>107.680603</td>\n",
       "      <td>54.231342</td>\n",
       "      <td>0</td>\n",
       "    </tr>\n",
       "  </tbody>\n",
       "</table>\n",
       "<p>5 rows × 6374 columns</p>\n",
       "</div>"
      ],
      "text/plain": [
       "   audspec_lengthL1norm_sma_range  audspec_lengthL1norm_sma_maxPos  \\\n",
       "0                        4.703442                         0.757979   \n",
       "1                        2.267536                         0.028464   \n",
       "2                        3.228675                         0.078931   \n",
       "3                        2.391800                         0.521424   \n",
       "4                        2.131366                         0.672943   \n",
       "\n",
       "   audspec_lengthL1norm_sma_minPos  audspec_lengthL1norm_sma_quartile1  \\\n",
       "0                         0.317021                            0.915155   \n",
       "1                         0.113483                            0.238443   \n",
       "2                         0.877564                            0.276506   \n",
       "3                         0.720177                            0.193181   \n",
       "4                         0.857552                            0.221287   \n",
       "\n",
       "   audspec_lengthL1norm_sma_quartile2  audspec_lengthL1norm_sma_quartile3  \\\n",
       "0                            1.601160                            2.246375   \n",
       "1                            0.427879                            0.663548   \n",
       "2                            0.627168                            0.960359   \n",
       "3                            0.444353                            0.718777   \n",
       "4                            0.564615                            0.886703   \n",
       "\n",
       "   audspec_lengthL1norm_sma_iqr1-2  audspec_lengthL1norm_sma_iqr2-3  \\\n",
       "0                         0.686006                         0.645215   \n",
       "1                         0.189437                         0.235668   \n",
       "2                         0.350661                         0.333191   \n",
       "3                         0.251172                         0.274424   \n",
       "4                         0.343328                         0.322088   \n",
       "\n",
       "   audspec_lengthL1norm_sma_iqr1-3  audspec_lengthL1norm_sma_percentile1.0  \\\n",
       "0                         1.331221                                0.101343   \n",
       "1                         0.425105                                0.059096   \n",
       "2                         0.683852                                0.107443   \n",
       "3                         0.525596                                0.072356   \n",
       "4                         0.665416                                0.126160   \n",
       "\n",
       "   ...  mfcc_sma_de[14]_peakRangeRel  mfcc_sma_de[14]_peakMeanAbs  \\\n",
       "0  ...                      0.614847                     2.273842   \n",
       "1  ...                      0.596789                     2.498126   \n",
       "2  ...                      0.551893                     2.649651   \n",
       "3  ...                      0.594311                     2.408087   \n",
       "4  ...                      0.580128                     2.398257   \n",
       "\n",
       "   mfcc_sma_de[14]_peakMeanMeanDist  mfcc_sma_de[14]_peakMeanRel  \\\n",
       "0                          2.270063                    19.998241   \n",
       "1                          2.499365                   -20.000000   \n",
       "2                          2.647956                    19.999996   \n",
       "3                          2.408055                    20.000000   \n",
       "4                          2.399142                   -20.000000   \n",
       "\n",
       "   mfcc_sma_de[14]_minRangeRel  mfcc_sma_de[14]_meanRisingSlope  \\\n",
       "0                     0.636268                       106.226677   \n",
       "1                     0.483478                       115.425087   \n",
       "2                     0.558275                       115.258064   \n",
       "3                     0.565387                       111.302612   \n",
       "4                     0.575350                       110.340683   \n",
       "\n",
       "   mfcc_sma_de[14]_stddevRisingSlope  mfcc_sma_de[14]_meanFallingSlope  \\\n",
       "0                          50.793915                        103.037048   \n",
       "1                          57.748161                        112.634346   \n",
       "2                          62.384377                        119.572105   \n",
       "3                          51.976112                        109.908424   \n",
       "4                          54.816952                        107.680603   \n",
       "\n",
       "   mfcc_sma_de[14]_stddevFallingSlope  label  \n",
       "0                           52.213242      0  \n",
       "1                           58.922848      0  \n",
       "2                           64.346001      0  \n",
       "3                           54.466801      0  \n",
       "4                           54.231342      0  \n",
       "\n",
       "[5 rows x 6374 columns]"
      ]
     },
     "execution_count": 8,
     "metadata": {},
     "output_type": "execute_result"
    }
   ],
   "source": [
    "df = pd.concat([biden_df, fake_biden_df]).reset_index()\n",
    "df = df.drop(columns=['file', 'start', 'end'])\n",
    "df.head()"
   ]
  },
  {
   "cell_type": "code",
   "execution_count": 16,
   "id": "43722141-fcc9-4ac9-887e-4ec5542e65ea",
   "metadata": {},
   "outputs": [],
   "source": [
    "#df.to_csv(\"biden_opensmile_feats.csv\", index=False)\n",
    "df = pd.read_csv(\"biden_opensmile_feats.csv\")"
   ]
  },
  {
   "cell_type": "code",
   "execution_count": 17,
   "id": "f27ce938-8af9-432a-8beb-177196374aa7",
   "metadata": {},
   "outputs": [],
   "source": [
    "y = df['label'].copy()\n",
    "X = df.drop(columns=['label']).copy()\n",
    "\n",
    "X_train, X_test, y_train, y_test = train_test_split(X, y, test_size=0.1)"
   ]
  },
  {
   "cell_type": "code",
   "execution_count": 18,
   "id": "621077e7-adde-4c63-8e4f-4149d02c44bc",
   "metadata": {},
   "outputs": [],
   "source": [
    "#standard scaling of input data\n",
    "scaler = StandardScaler()\n",
    "X_train_scaled = scaler.fit_transform(X_train)\n",
    "X_test_scaled = scaler.transform(X_test)"
   ]
  },
  {
   "cell_type": "markdown",
   "id": "7ed18e09-a811-4dd3-b402-4e4b84f2ee98",
   "metadata": {},
   "source": [
    "## Feature Importance\n",
    "\n",
    "Random forest regressor - https://scikit-learn.org/stable/modules/generated/sklearn.ensemble.RandomForestClassifier.html"
   ]
  },
  {
   "cell_type": "code",
   "execution_count": 19,
   "id": "115844f2-143b-40b4-865e-67f98e6957ee",
   "metadata": {},
   "outputs": [],
   "source": [
    "#hyperparameter selection\n",
    "n_estimators = 1000 #default=100\n",
    "criterion = \"gini\" #{“gini”, “entropy”, “log_loss”}, default=”gini”\n",
    "max_depth = 10 #default=None \n",
    "min_samples_split = 2 #default=2 The minimum number of samples required to split an internal node\n",
    "min_samples_leaf = 1 #default=1 The minimum number of samples required to be at a leaf node.\n",
    "min_weight_fraction_leaf = 0.0 #The minimum weighted fraction of the sum total of weights (of all the input samples) required to be at a leaf node.\n",
    "max_features = \"log2\" #default=\"sqrt\" The number of features to consider when looking for the best split:\n",
    "max_leaf_nodes = None #Grow trees with max_leaf_nodes in best-first fashion.\n",
    "min_impurity_decrease = 0.0 #A node will be split if this split induces a decrease of the impurity greater than or equal to this value.\n",
    "bootstrap = True #default = True Whether bootstrap samples are used when building trees.\n",
    "oob_score = True #default = False Whether to use out-of-bag samples to estimate the generalization score.\n",
    "n_jobs = -1 #default=None -1 means all processors\n",
    "random_state = None #deafult=None controls randomness of bootstrapping\n",
    "verbose = 0 \n",
    "warm_start = False #deafult = False When set to True, reuse the solution of the previous call to fit and add more estimators to the ensemble, otherwise, just fit a whole new forest.\n",
    "max_samples = None #If bootstrap is True, the number of samples to draw from X to train each base estimator."
   ]
  },
  {
   "cell_type": "code",
   "execution_count": 20,
   "id": "aa8e8910-9ae2-44b4-b633-247aaac29564",
   "metadata": {},
   "outputs": [],
   "source": [
    "#define model\n",
    "model_rfc = RandomForestClassifier(n_estimators=n_estimators,\n",
    "                                max_depth=max_depth,\n",
    "                                criterion=criterion,\n",
    "                                max_features=max_features,\n",
    "                                bootstrap=bootstrap,\n",
    "                                oob_score=oob_score,\n",
    "                                n_jobs=n_jobs)\n",
    "\n",
    "#fit model\n",
    "model_rfc.fit(X_train_scaled,y_train)\n",
    "\n",
    "#get feature importance \n",
    "importance = model_rfc.feature_importances_"
   ]
  },
  {
   "cell_type": "code",
   "execution_count": 21,
   "id": "4a00b913-d1ac-4142-9aa9-b234d93bdd9e",
   "metadata": {},
   "outputs": [
    {
     "data": {
      "image/png": "[encoded data removed]",
      "text/plain": [
       "<Figure size 640x480 with 1 Axes>"
      ]
     },
     "metadata": {},
     "output_type": "display_data"
    }
   ],
   "source": [
    "# plot feature importance\n",
    "pyplot.bar([x for x in range(len(importance))], importance)\n",
    "pyplot.show()"
   ]
  },
  {
   "cell_type": "code",
   "execution_count": 22,
   "id": "f6353168-7595-4ed7-8327-fb118898bc7e",
   "metadata": {},
   "outputs": [
    {
     "name": "stdout",
     "output_type": "stream",
     "text": [
      "Feature: audspec_lengthL1norm_sma_minPos, Score: 0.00504\n",
      "Feature: pcm_RMSenergy_sma_minPos, Score: 0.00361\n",
      "Feature: pcm_RMSenergy_sma_de_lpc0, Score: 0.00278\n",
      "Feature: pcm_RMSenergy_sma_de_lpc1, Score: 0.00262\n",
      "Feature: pcm_zcr_sma_de_lpgain, Score: 0.00401\n",
      "Feature: pcm_zcr_sma_de_lpc2, Score: 0.00273\n",
      "Feature: pcm_fftMag_spectralVariance_sma_lpc4, Score: 0.00261\n",
      "Feature: pcm_fftMag_spectralSlope_sma_lpc0, Score: 0.00278\n",
      "Feature: mfcc_sma[7]_lpgain, Score: 0.00332\n",
      "Feature: mfcc_sma[7]_lpc0, Score: 0.00621\n",
      "Feature: mfcc_sma[10]_lpgain, Score: 0.00384\n",
      "Feature: mfcc_sma[10]_lpc0, Score: 0.00511\n",
      "Feature: mfcc_sma[10]_lpc1, Score: 0.00309\n",
      "Feature: mfcc_sma[11]_quartile1, Score: 0.00285\n",
      "Feature: mfcc_sma[11]_quartile3, Score: 0.00288\n",
      "Feature: audSpec_Rfilt_sma_de[10]_iqr1-2, Score: 0.00273\n",
      "Feature: audSpec_Rfilt_sma_de[11]_quartile1, Score: 0.00276\n",
      "Feature: audSpec_Rfilt_sma_de[11]_iqr1-2, Score: 0.00326\n",
      "Feature: pcm_fftMag_spectralRollOff25.0_sma_de_risetime, Score: 0.00310\n",
      "Feature: pcm_fftMag_spectralKurtosis_sma_de_pctlrange0-1, Score: 0.00297\n",
      "Feature: pcm_fftMag_spectralKurtosis_sma_de_lpgain, Score: 0.00282\n",
      "Feature: pcm_fftMag_spectralSlope_sma_de_lpc0, Score: 0.00315\n",
      "Feature: mfcc_sma_de[1]_percentile1.0, Score: 0.00376\n",
      "Feature: mfcc_sma_de[1]_pctlrange0-1, Score: 0.00346\n",
      "Feature: mfcc_sma_de[1]_stddev, Score: 0.00312\n",
      "Feature: mfcc_sma_de[2]_iqr2-3, Score: 0.00383\n",
      "Feature: mfcc_sma_de[2]_lpc2, Score: 0.00399\n",
      "Feature: mfcc_sma_de[3]_quartile3, Score: 0.00269\n",
      "Feature: mfcc_sma_de[10]_lpc0, Score: 0.00318\n",
      "Feature: mfcc_sma_de[11]_lpgain, Score: 0.00273\n",
      "Feature: mfcc_sma_de[13]_lpc0, Score: 0.00265\n",
      "Feature: F0final_sma_flatness, Score: 0.00262\n",
      "Feature: F0final_sma_iqr1-3, Score: 0.00293\n",
      "Feature: F0final_sma_stddev, Score: 0.00345\n",
      "Feature: voicingFinalUnclipped_sma_iqr2-3, Score: 0.00310\n",
      "Feature: voicingFinalUnclipped_sma_leftctime, Score: 0.00281\n",
      "Feature: voicingFinalUnclipped_sma_de_risetime, Score: 0.00303\n",
      "Feature: audSpec_Rfilt_sma[23]_meanFallingSlope, Score: 0.00313\n",
      "Feature: pcm_fftMag_spectralSkewness_sma_meanRisingSlope, Score: 0.00318\n",
      "Feature: mfcc_sma[1]_rqmean, Score: 0.00290\n",
      "Feature: mfcc_sma[1]_stddevRisingSlope, Score: 0.00298\n",
      "Feature: mfcc_sma[3]_meanFallingSlope, Score: 0.00327\n",
      "Feature: mfcc_sma_de[1]_posamean, Score: 0.00451\n",
      "Feature: mfcc_sma_de[1]_rqmean, Score: 0.00277\n",
      "Feature: mfcc_sma_de[1]_peakMeanAbs, Score: 0.00418\n",
      "Feature: mfcc_sma_de[1]_peakMeanMeanDist, Score: 0.00302\n",
      "Feature: mfcc_sma_de[1]_meanRisingSlope, Score: 0.00488\n",
      "Feature: mfcc_sma_de[1]_meanFallingSlope, Score: 0.00263\n",
      "Feature: mfcc_sma_de[2]_peakMeanMeanDist, Score: 0.00305\n",
      "Feature: mfcc_sma_de[3]_rqmean, Score: 0.00367\n"
     ]
    }
   ],
   "source": [
    "features = X.columns.to_list()\n",
    "top_k_features = np.argsort(importance)[-50:]\n",
    "tresh=importance[top_k_features[0]]\n",
    "# summarize feature importance\n",
    "for i,v in enumerate(importance):\n",
    "    if v >= tresh:\n",
    "        print('Feature: %s, Score: %.5f' % (features[i],v))"
   ]
  },
  {
   "cell_type": "markdown",
   "id": "33ed1b16-d99c-412d-ad5a-f3afd133e600",
   "metadata": {},
   "source": [
    "## Feature Selection"
   ]
  },
  {
   "cell_type": "code",
   "execution_count": 23,
   "id": "9f42e421-f5b7-4373-9b80-dbd20b4010e3",
   "metadata": {},
   "outputs": [],
   "source": [
    "# feature selection\n",
    "def select_features(model, X_train, y_train, X_test):\n",
    "\t# configure to select a subset of features\n",
    "\tfs = SelectFromModel(model, max_features=50)\n",
    "\t# learn relationship from training data\n",
    "\tfs.fit(X_train, y_train)\n",
    "\t# transform train input data\n",
    "\tX_train_fs = fs.transform(X_train)\n",
    "\t# transform test input data\n",
    "\tX_test_fs = fs.transform(X_test)\n",
    "\treturn X_train_fs, X_test_fs, fs"
   ]
  },
  {
   "cell_type": "code",
   "execution_count": 24,
   "id": "be2b1482-f2c9-4d10-9869-8ed6f41c52e2",
   "metadata": {},
   "outputs": [],
   "source": [
    "# feature selection\n",
    "X_train_fs, X_test_fs, fs = select_features(model_rfc, X_train_scaled, y_train, X_test_scaled)"
   ]
  },
  {
   "cell_type": "markdown",
   "id": "4cff2d92-52a7-4535-8596-d9584ca4ffda",
   "metadata": {},
   "source": [
    "__Logistic Regression:__"
   ]
  },
  {
   "cell_type": "code",
   "execution_count": 25,
   "id": "1732cdf0-bde7-45b9-a8fd-73d967b3de8f",
   "metadata": {},
   "outputs": [
    {
     "name": "stdout",
     "output_type": "stream",
     "text": [
      "Accuracy: 100.00\n"
     ]
    }
   ],
   "source": [
    "# fit the model\n",
    "model_lr = LogisticRegression(solver='liblinear')\n",
    "model_lr.fit(X_train_fs, y_train)\n",
    "# evaluate the model\n",
    "yhat = model_lr.predict(X_test_fs)\n",
    "# evaluate predictions\n",
    "accuracy = accuracy_score(y_test, yhat)\n",
    "print('Accuracy: %.2f' % (accuracy*100))"
   ]
  },
  {
   "cell_type": "markdown",
   "id": "2e72ac87-e5ce-4191-99c1-57343fa5f012",
   "metadata": {},
   "source": [
    "__KNN Classifier:__"
   ]
  },
  {
   "cell_type": "code",
   "execution_count": 26,
   "id": "5ca4b58f-3ba6-48ae-85c4-d6a983f14d45",
   "metadata": {},
   "outputs": [
    {
     "name": "stdout",
     "output_type": "stream",
     "text": [
      "Accuracy: 100.00\n"
     ]
    }
   ],
   "source": [
    "from sklearn.neighbors import KNeighborsClassifier\n",
    "\n",
    "model_knnc = KNeighborsClassifier()\n",
    "model_knnc.fit(X_train_fs, y_train)\n",
    "\n",
    "# evaluate the model\n",
    "yhat = model_knnc.predict(X_test_fs)\n",
    "# evaluate predictions\n",
    "accuracy = accuracy_score(y_test, yhat)\n",
    "print('Accuracy: %.2f' % (accuracy*100))"
   ]
  },
  {
   "cell_type": "markdown",
   "id": "c3d54920-71aa-42d8-a080-f374f53b5f36",
   "metadata": {},
   "source": [
    "## Test on in the wild deepfake\n",
    "\n",
    "Biden twitter deepfake - https://twitter.com/Finanzas_Times/status/1626004270829928448?t=VU_2BRhMHvrNyms6jQnx8w&s=08\n",
    "\n",
    "Biden reddit deepfake - https://www.reddit.com/r/shitposting/comments/1165xnx/now_thats_my_president/?utm_source=share&utm_medium=ios_app&utm_name=iossmf"
   ]
  },
  {
   "cell_type": "code",
   "execution_count": 27,
   "id": "991297ad-7e36-4290-b57a-06cd491ebb3b",
   "metadata": {},
   "outputs": [],
   "source": [
    "jb_dfitw1 = base_path + \"data/InTheWildFakes/Biden/Original/biden-reddit-fake.wav\"\n",
    "jb_dfitw2 = base_path + \"data/InTheWildFakes/Biden/Original/biden-twitter-fake.wav\""
   ]
  },
  {
   "cell_type": "code",
   "execution_count": 28,
   "id": "402bcabc-72bf-45f1-af71-ec2fed67e616",
   "metadata": {},
   "outputs": [],
   "source": [
    "jb_dfitw1_df = smile_functionals_ComParE.process_file(jb_dfitw1)\n",
    "jb_dfitw1_df_scaled = scaler.transform(jb_dfitw1_df)\n",
    "\n",
    "jb_dfitw2_df = smile_functionals_ComParE.process_file(jb_dfitw2)\n",
    "jb_dfitw2_df_scaled = scaler.transform(jb_dfitw2_df)"
   ]
  },
  {
   "cell_type": "code",
   "execution_count": 29,
   "id": "d4f8360a-95bc-4599-a175-0f2f32c809b9",
   "metadata": {},
   "outputs": [
    {
     "data": {
      "text/plain": [
       "(array([1]), array([1]))"
      ]
     },
     "execution_count": 29,
     "metadata": {},
     "output_type": "execute_result"
    }
   ],
   "source": [
    "model_lr.predict(fs.transform(jb_dfitw1_df_scaled)), model_knnc.predict(fs.transform(jb_dfitw1_df_scaled))"
   ]
  },
  {
   "cell_type": "code",
   "execution_count": 30,
   "id": "3925fc3f-1c5d-43f8-9580-6c6cc7ce3498",
   "metadata": {},
   "outputs": [
    {
     "data": {
      "text/plain": [
       "(array([1]), array([1]))"
      ]
     },
     "execution_count": 30,
     "metadata": {},
     "output_type": "execute_result"
    }
   ],
   "source": [
    "model_lr.predict(fs.transform(jb_dfitw2_df_scaled)), model_knnc.predict(fs.transform(jb_dfitw2_df_scaled))"
   ]
  },
  {
   "cell_type": "code",
   "execution_count": 31,
   "id": "f6e262d3-2cfc-4b71-ba57-50b5b296539b",
   "metadata": {},
   "outputs": [],
   "source": [
    "jb_dfitw3 = base_path + \"data/InTheWildFakes/Biden/Original/jb-twitter-2-df.wav\"\n",
    "jb_dfitw3_df = smile_functionals_ComParE.process_file(jb_dfitw3)\n",
    "jb_dfitw3_df_scaled = scaler.transform(jb_dfitw3_df)"
   ]
  },
  {
   "cell_type": "code",
   "execution_count": 32,
   "id": "6e674053-780a-4433-bf5d-060e4cf44d20",
   "metadata": {},
   "outputs": [
    {
     "data": {
      "text/plain": [
       "(array([0]), array([0]))"
      ]
     },
     "execution_count": 32,
     "metadata": {},
     "output_type": "execute_result"
    }
   ],
   "source": [
    "model_lr.predict(fs.transform(jb_dfitw3_df_scaled)), model_knnc.predict(fs.transform(jb_dfitw3_df_scaled))"
   ]
  },
  {
   "cell_type": "code",
   "execution_count": 155,
   "id": "69dc0fb1-39fc-4e95-bec0-dac6199201ff",
   "metadata": {},
   "outputs": [],
   "source": [
    "jb_dfitw_all = pd.concat([pd.DataFrame(jb_dfitw1_df_scaled), pd.DataFrame(jb_dfitw2_df_scaled), pd.DataFrame(jb_dfitw3_df_scaled)]).reset_index()"
   ]
  },
  {
   "cell_type": "markdown",
   "id": "a20e1dc7-949f-4ea2-abd4-fdb8d82091b0",
   "metadata": {},
   "source": [
    "## Visualization"
   ]
  },
  {
   "cell_type": "code",
   "execution_count": 184,
   "id": "76a737db-ab7c-4b45-a1f0-660a4aeb0aba",
   "metadata": {},
   "outputs": [
    {
     "data": {
      "text/plain": [
       "(195, 189)"
      ]
     },
     "execution_count": 184,
     "metadata": {},
     "output_type": "execute_result"
    }
   ],
   "source": [
    "real_idx = np.where(y_train.to_numpy() == 0)[0]\n",
    "X_real = pd.DataFrame(X_train_fs[real_idx])\n",
    "fake_idx = np.where(y_train.to_numpy() == 1)[0]\n",
    "X_fake = pd.DataFrame(X_train_fs[fake_idx])\n",
    "len(X_real), len(X_fake)"
   ]
  },
  {
   "cell_type": "code",
   "execution_count": 193,
   "id": "a060f75c-6ba6-4cf1-835f-2778b968c392",
   "metadata": {},
   "outputs": [],
   "source": [
    "X_tsne = pd.concat([X_real, X_fake]).reset_index()"
   ]
  },
  {
   "cell_type": "code",
   "execution_count": 200,
   "id": "8910910d-e51e-46ce-bca4-28ab837e66bc",
   "metadata": {},
   "outputs": [
    {
     "name": "stderr",
     "output_type": "stream",
     "text": [
      "/home/ubuntu/miniconda3/envs/deepfake-detection-v1/lib/python3.9/site-packages/sklearn/utils/validation.py:1688: FutureWarning: Feature names only support names that are all strings. Got feature names with dtypes: ['int', 'str']. An error will be raised in 1.2.\n",
      "  warnings.warn(\n"
     ]
    }
   ],
   "source": [
    "tsne = TSNE(n_components=2, learning_rate='auto', init='random')\n",
    "X_tsne_2d = tsne.fit_transform(X_tsne)"
   ]
  },
  {
   "cell_type": "code",
   "execution_count": 201,
   "id": "b0641df7-29cc-479a-9463-c5d4b8be3e3a",
   "metadata": {},
   "outputs": [
    {
     "data": {
      "image/png": "[encoded data removed]",
      "text/plain": [
       "<Figure size 640x480 with 1 Axes>"
      ]
     },
     "metadata": {},
     "output_type": "display_data"
    }
   ],
   "source": [
    "sns.scatterplot(x=X_tsne_2d[:195,0], y=X_tsne_2d[:195,1], color='red', label='Real')\n",
    "sns.scatterplot(x=X_tsne_2d[195:384,0], y=X_tsne_2d[195:384,1], color='blue', label='Fake')\n",
    "#sns.scatterplot(x=X_tsne_2d[384:,0], y=X_tsne_2d[384:,1], color='orange', label='ITW Fake')\n",
    "plt.title('TSNE Real vs. Fake Biden Embeddings After Feature Selection')\n",
    "plt.show()"
   ]
  },
  {
   "cell_type": "code",
   "execution_count": 188,
   "id": "939b087a-1a40-43ca-adcc-b0487a93ad66",
   "metadata": {},
   "outputs": [],
   "source": [
    "tsne = TSNE(n_components=2, learning_rate='auto', init='random')\n",
    "X_tsne_2d = tsne.fit_transform(X)"
   ]
  },
  {
   "cell_type": "code",
   "execution_count": 189,
   "id": "f52c0b5f-e092-4e84-817e-d73a5dd34283",
   "metadata": {},
   "outputs": [
    {
     "data": {
      "image/png": "[encoded data removed]",
      "text/plain": [
       "<Figure size 640x480 with 1 Axes>"
      ]
     },
     "metadata": {},
     "output_type": "display_data"
    }
   ],
   "source": [
    "sns.scatterplot(x=X_tsne_2d[:214,0], y=X_tsne_2d[:214,1], color='red', label='Real')\n",
    "sns.scatterplot(x=X_tsne_2d[214:,0], y=X_tsne_2d[214:,1], color='blue', label='Fake')\n",
    "plt.title('TSNE Real vs. Fake Biden Embeddings Before Feature Selection')\n",
    "plt.show()"
   ]
  },
  {
   "cell_type": "code",
   "execution_count": null,
   "id": "1e0c7016-bea3-4899-b80c-cc210a295306",
   "metadata": {},
   "outputs": [],
   "source": []
  }
 ],
 "metadata": {
  "kernelspec": {
   "display_name": "deepfake-detection-v1",
   "language": "python",
   "name": "deepfake-detection-v1"
  },
  "language_info": {
   "codemirror_mode": {
    "name": "ipython",
    "version": 3
   },
   "file_extension": ".py",
   "mimetype": "text/x-python",
   "name": "python",
   "nbconvert_exporter": "python",
   "pygments_lexer": "ipython3",
   "version": "3.9.16"
  }
 },
 "nbformat": 4,
 "nbformat_minor": 5
}
