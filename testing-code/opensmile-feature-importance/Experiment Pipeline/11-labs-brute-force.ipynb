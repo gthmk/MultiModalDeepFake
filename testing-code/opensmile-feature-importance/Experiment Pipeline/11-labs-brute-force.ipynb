{
 "cells": [
  {
   "cell_type": "code",
   "execution_count": 1,
   "id": "ee81c829-4589-432d-b3af-9b3c3d549714",
   "metadata": {},
   "outputs": [],
   "source": [
    "import opensmile \n",
    "import pandas as pd\n",
    "import numpy as np\n",
    "import os\n",
    "from sklearn.ensemble import RandomForestClassifier\n",
    "from sklearn.model_selection import train_test_split, RandomizedSearchCV, GridSearchCV\n",
    "import matplotlib.pyplot as plt\n",
    "from sklearn.feature_selection import SelectFromModel, SelectKBest, mutual_info_regression, SequentialFeatureSelector\n",
    "from sklearn.linear_model import LogisticRegression\n",
    "from sklearn.metrics import accuracy_score, roc_curve, roc_auc_score, confusion_matrix, classification_report\n",
    "import random\n",
    "from sklearn.preprocessing import MinMaxScaler, StandardScaler, RobustScaler\n",
    "from sklearn.manifold import TSNE\n",
    "from sklearn.neighbors import KNeighborsClassifier\n",
    "import seaborn as sns\n",
    "from sklearn import svm\n",
    "from pprint import pprint\n",
    "from tqdm import tqdm\n",
    "base_path = \"/home/ubuntu/\""
   ]
  },
  {
   "cell_type": "markdown",
   "id": "11c77424-21eb-41c0-b442-043c0e4b5ba4",
   "metadata": {},
   "source": [
    "## Utility Functions:"
   ]
  },
  {
   "cell_type": "code",
   "execution_count": 2,
   "id": "45f8a1df-078f-4713-8457-192aac6a0458",
   "metadata": {},
   "outputs": [],
   "source": [
    "def generate_confusion_matrix(y_test, yhat_test):\n",
    "    \n",
    "    #generate confusion matrix\n",
    "    cm = confusion_matrix(y_test, yhat_test)\n",
    "\n",
    "    #plot confusion matrix\n",
    "    plt.imshow(cm, interpolation='nearest', cmap=plt.cm.Wistia_r)\n",
    "    classNames = ['Real','Fake']\n",
    "    plt.title('Real vs Fake Confusion Matrix')\n",
    "    plt.ylabel('True label')\n",
    "    plt.xlabel('Predicted label')\n",
    "    tick_marks = np.arange(len(classNames))\n",
    "    plt.xticks(tick_marks, classNames, rotation=45)\n",
    "    plt.yticks(tick_marks, classNames)\n",
    "    s = [['TN','FP'], ['FN', 'TP']]\n",
    "    for i in range(2):\n",
    "        for j in range(2):\n",
    "            plt.text(j,i, str(s[i][j])+\" = \"+str(cm[i][j]))\n",
    "    plt.show()"
   ]
  },
  {
   "cell_type": "code",
   "execution_count": 3,
   "id": "d824c806-3c7c-4217-96f7-991ccd052498",
   "metadata": {},
   "outputs": [],
   "source": [
    "def generate_ROC_curve(model, y_test, X_test):\n",
    "    \n",
    "    # generate a no skill prediction (majority class)\n",
    "    ns_probs = [0 for _ in range(len(y_test))]\n",
    "    # predict probabilities\n",
    "    lr_probs = model.predict_proba(X_test)\n",
    "    # keep probabilities for the positive outcome only\n",
    "    lr_probs = lr_probs[:, 1]\n",
    "    # calculate scores\n",
    "    ns_auc = roc_auc_score(y_test, ns_probs)\n",
    "    lr_auc = roc_auc_score(y_test, lr_probs)\n",
    "    # summarize scores\n",
    "    print('No Skill: ROC AUC=%.3f' % (ns_auc))\n",
    "    print('Logistic: ROC AUC=%.3f\\n' % (lr_auc))\n",
    "    \n",
    "    # calculate roc curves\n",
    "    ns_fpr, ns_tpr, _ = roc_curve(y_test, ns_probs)\n",
    "    lr_fpr, lr_tpr, _ = roc_curve(y_test, lr_probs)\n",
    "    # plot the roc curve for the model\n",
    "    plt.plot(ns_fpr, ns_tpr, linestyle='--', label='No Skill')\n",
    "    plt.plot(lr_fpr, lr_tpr, marker='.', label='Logistic')\n",
    "    # axis labels\n",
    "    plt.xlabel('False Positive Rate')\n",
    "    plt.ylabel('True Positive Rate')\n",
    "    # show the legend\n",
    "    plt.legend()\n",
    "    # show the plot\n",
    "    plt.show()"
   ]
  },
  {
   "cell_type": "code",
   "execution_count": 4,
   "id": "b21e032c-25b3-4cbe-b7f2-2edecdb54471",
   "metadata": {},
   "outputs": [],
   "source": [
    "def run_model_on_test_data(model, X_train, X_test, y_train, y_test, feature_index):\n",
    "    \n",
    "    #fit model\n",
    "    model.fit(X_train[feature_index], y_train)\n",
    "    \n",
    "    #predict on held out test data\n",
    "    yhat_train = model.predict(X_train[feature_index])\n",
    "    yhat_test = model.predict(X_test[feature_index])\n",
    "    \n",
    "    #compute accuracy \n",
    "    accuracy_train = accuracy_score(y_train, yhat_train)\n",
    "    accuracy_test = accuracy_score(y_test, yhat_test)\n",
    "    \n",
    "    #print\n",
    "    print('<---- Train and Test Accuracy ---->\\n')\n",
    "    print('Logistic accuracy train = %.3f' % (accuracy_train*100))\n",
    "    print('Logistic accuracy test = %.3f' % (accuracy_test*100))\n",
    "    \n",
    "    print('\\n<---- Classification Report ---->\\n')\n",
    "    print(classification_report(y_test, yhat_test))\n",
    "    \n",
    "    print('\\n<---- Confusion Matrix ---->\\n')\n",
    "    generate_confusion_matrix(y_test, yhat_test)\n",
    "    \n",
    "    print('\\n<---- ROC-AUC ---->\\n')\n",
    "    generate_ROC_curve(model, y_test, X_test[feature_index]) "
   ]
  },
  {
   "cell_type": "markdown",
   "id": "700a4f68-42f7-4da9-9122-f0a7d93ce3b4",
   "metadata": {},
   "source": [
    "## Importing 11labs data"
   ]
  },
  {
   "cell_type": "code",
   "execution_count": 5,
   "id": "7e8c53e8-d42c-4037-994f-10e6e4b295c4",
   "metadata": {},
   "outputs": [],
   "source": [
    "biden_real_44k = base_path + 'data/world-leaders-dataset/WavFiles/biden_wav_audio/44KHz'\n",
    "biden_real_16k = base_path + 'data/world-leaders-dataset/WavFiles/biden_wav_audio/16KHz'\n",
    "biden_fake_44k = base_path + 'data/world-leaders-dataset/11LabsDeepFakes/44Khz'\n",
    "biden_fake_16k = base_path + 'data/world-leaders-dataset/11LabsDeepFakes/16Khz'"
   ]
  },
  {
   "cell_type": "code",
   "execution_count": 6,
   "id": "4ea601a7-dfdf-45fa-913e-3f252d606552",
   "metadata": {},
   "outputs": [],
   "source": [
    "def get_path_list(folder_path):\n",
    "    \n",
    "    path_list = os.listdir(folder_path)\n",
    "    path_list = [p for p in path_list if \".wav\" in p]\n",
    "    path_list = [os.path.join(folder_path,p) for p in path_list]\n",
    "    \n",
    "    return path_list"
   ]
  },
  {
   "cell_type": "code",
   "execution_count": 7,
   "id": "65b7431c-67ee-4ac6-8c04-ad0a652df8af",
   "metadata": {},
   "outputs": [],
   "source": [
    "def generate_smile_df(folder_path, smile_object):\n",
    "    \n",
    "    path_list = get_path_list(folder_path)\n",
    "    \n",
    "    smile_df = pd.DataFrame()\n",
    "    \n",
    "    print(\"\\nGenerating openSMILE features\\n\")\n",
    "    \n",
    "    for i in tqdm(range(len(path_list))):\n",
    "        df = smile_object.process_file(path_list[i]).reset_index()\n",
    "        \n",
    "        duration = df['end'] - df['start']\n",
    "        duration = duration.astype('timedelta64[ms]')/1000\n",
    "        df.insert(loc=1, column='duration(seconds)', value=duration)\n",
    "        \n",
    "        df = df.rename(columns={'file':'path'})\n",
    "        \n",
    "        file = df.path.apply(lambda x:x.split('/')[-1])\n",
    "        df.insert(loc=1, column='file', value=file)\n",
    "        \n",
    "        df.drop(columns=['start', 'end'], inplace=True)\n",
    "        \n",
    "        smile_df = pd.concat([smile_df, df])\n",
    "    \n",
    "    return smile_df"
   ]
  },
  {
   "cell_type": "code",
   "execution_count": 8,
   "id": "b26dc214-50ae-428d-a2c1-16c49030fd74",
   "metadata": {},
   "outputs": [],
   "source": [
    "smile_functionals_ComParE = opensmile.Smile(\n",
    "    feature_set=opensmile.FeatureSet.ComParE_2016,\n",
    "    feature_level=opensmile.FeatureLevel.Functionals)"
   ]
  },
  {
   "cell_type": "code",
   "execution_count": 9,
   "id": "ecc48b72-0a38-414d-bbf0-60081e86e305",
   "metadata": {},
   "outputs": [],
   "source": [
    "cellEnabled = 0\n",
    "#cellEnabled = 1\n",
    "\n",
    "savefile_16k = base_path + 'testing-code/opensmile-feature-importance/smile_dfs/' + '0319-SmileFeats-JB_16k.csv'\n",
    "savefile_44k = base_path + 'testing-code/opensmile-feature-importance/smile_dfs/' + '0319-SmileFeats-JB_44k.csv'\n",
    "\n",
    "if cellEnabled:\n",
    "\n",
    "    real_df_16k = generate_smile_df(biden_real_16k, smile_functionals_ComParE)\n",
    "    real_df_16k.insert(loc=3, column='fake', value=0)\n",
    "\n",
    "    fake_df_16k = generate_smile_df(biden_fake_16k, smile_functionals_ComParE)\n",
    "    fake_df_16k.insert(loc=3, column='fake', value=1)\n",
    "\n",
    "    df_16k = pd.concat([real_df_16k, fake_df_16k]).reset_index(drop=True)\n",
    "    df_16k.to_csv(savefile_16k, index=False)\n",
    "    print(\"\\nsaved to {}\\n\".format(savefile_16k)) \n",
    "\n",
    "    real_df_44k = generate_smile_df(biden_real_44k, smile_functionals_ComParE)\n",
    "    real_df_44k.insert(loc=3, column='fake', value=0)\n",
    "\n",
    "    fake_df_44k = generate_smile_df(biden_fake_44k, smile_functionals_ComParE)\n",
    "    fake_df_44k.insert(loc=3, column='fake', value=1)\n",
    "\n",
    "    df_44k = pd.concat([real_df_44k, fake_df_44k]).reset_index(drop=True)\n",
    "    df_44k.to_csv(savefile_44k, index=False)\n",
    "    print(\"\\nsaved to {}\\n\".format(savefile_44k))\n",
    "    \n",
    "if not cellEnabled:\n",
    "    \n",
    "    df_16k = pd.read_csv(savefile_16k)\n",
    "    df_44k = pd.read_csv(savefile_44k)"
   ]
  },
  {
   "cell_type": "code",
   "execution_count": 10,
   "id": "693084c4-e06e-4f07-b8ae-3cefc4345a6b",
   "metadata": {},
   "outputs": [
    {
     "data": {
      "text/plain": [
       "Index(['path', 'file', 'duration(seconds)', 'fake',\n",
       "       'audspec_lengthL1norm_sma_range', 'audspec_lengthL1norm_sma_maxPos',\n",
       "       'audspec_lengthL1norm_sma_minPos', 'audspec_lengthL1norm_sma_quartile1',\n",
       "       'audspec_lengthL1norm_sma_quartile2',\n",
       "       'audspec_lengthL1norm_sma_quartile3',\n",
       "       ...\n",
       "       'mfcc_sma_de[14]_peakRangeAbs', 'mfcc_sma_de[14]_peakRangeRel',\n",
       "       'mfcc_sma_de[14]_peakMeanAbs', 'mfcc_sma_de[14]_peakMeanMeanDist',\n",
       "       'mfcc_sma_de[14]_peakMeanRel', 'mfcc_sma_de[14]_minRangeRel',\n",
       "       'mfcc_sma_de[14]_meanRisingSlope', 'mfcc_sma_de[14]_stddevRisingSlope',\n",
       "       'mfcc_sma_de[14]_meanFallingSlope',\n",
       "       'mfcc_sma_de[14]_stddevFallingSlope'],\n",
       "      dtype='object', length=6377)"
      ]
     },
     "execution_count": 10,
     "metadata": {},
     "output_type": "execute_result"
    }
   ],
   "source": [
    "df_44k.columns"
   ]
  },
  {
   "cell_type": "markdown",
   "id": "0a3f474d-4855-4bc9-a267-98c492574025",
   "metadata": {},
   "source": [
    "## Train-Dev-Test Split:"
   ]
  },
  {
   "cell_type": "code",
   "execution_count": 11,
   "id": "9132e56e-a3d8-4fcd-9e63-8413c4381740",
   "metadata": {},
   "outputs": [],
   "source": [
    "def process_data(df):\n",
    "    \n",
    "    train_df, test_df = train_test_split(df, test_size=0.1, shuffle=True, random_state=45)\n",
    "    train_df, dev_df = train_test_split(train_df, test_size=0.1, shuffle=True, random_state=45)\n",
    "    \n",
    "    exp_data_scaler = StandardScaler()\n",
    "    train_df.iloc[:,4:] = exp_data_scaler.fit_transform(train_df.iloc[:,4:])\n",
    "    dev_df.iloc[:,4:] = exp_data_scaler.transform(dev_df.iloc[:,4:])\n",
    "    test_df.iloc[:,4:] = exp_data_scaler.transform(test_df.iloc[:,4:])\n",
    "    \n",
    "    X_train = train_df.drop(columns=['path', 'file', 'duration(seconds)', 'fake']).copy()\n",
    "    y_train = train_df['fake'].copy()\n",
    "\n",
    "    X_dev = dev_df.drop(columns=['path', 'file', 'duration(seconds)', 'fake'])\n",
    "    y_dev = dev_df['fake'].copy()\n",
    "\n",
    "    X_test = test_df.drop(columns=['path', 'file', 'duration(seconds)', 'fake'])\n",
    "    y_test = test_df['fake'].copy()\n",
    "    \n",
    "    return X_train, y_train, X_dev, y_dev, X_test, y_test"
   ]
  },
  {
   "cell_type": "code",
   "execution_count": 12,
   "id": "2c75215a-2189-4c6e-9db6-542d842a8830",
   "metadata": {},
   "outputs": [],
   "source": [
    "X_train_16k, y_train_16k, X_dev_16k, y_dev_16k, X_test_16k, y_test_16k = process_data(df_16k)\n",
    "X_train_44k, y_train_44k, X_dev_44k, y_dev_44k, X_test_44k, y_test_44k = process_data(df_44k)"
   ]
  },
  {
   "cell_type": "markdown",
   "id": "04f89922-cfd6-4471-a6a8-c72a63e06530",
   "metadata": {},
   "source": [
    "## Brute-Force feature selection:"
   ]
  },
  {
   "cell_type": "code",
   "execution_count": 13,
   "id": "4d8ff73a-da93-4804-80d0-c9e5af7e9451",
   "metadata": {},
   "outputs": [],
   "source": [
    "def run_bflr(X_train, y_train, X_dev, y_dev):\n",
    "    \n",
    "    train_accuracies = []\n",
    "    dev_accuracies = []\n",
    "    \n",
    "    for i in tqdm(range(6373)):\n",
    "        \n",
    "        model_lr = LogisticRegression()\n",
    "        model_lr.fit(X_train.iloc[:,i].to_numpy().reshape(-1, 1), y_train)\n",
    "        y_hat_train = model_lr.predict(X_train.iloc[:,i].to_numpy().reshape(-1, 1))\n",
    "        y_hat_dev = model_lr.predict(X_dev.iloc[:,i].to_numpy().reshape(-1, 1))\n",
    "        train_accuracy = accuracy_score(y_train, y_hat_train)\n",
    "        train_accuracies.append(train_accuracy)        \n",
    "        dev_accuracy = accuracy_score(y_dev, y_hat_dev)\n",
    "        dev_accuracies.append(dev_accuracy)\n",
    "    \n",
    "    print(\"\\nAverage train accuracy: {}\".format(np.mean(train_accuracies)))\n",
    "    print(\"Average dev accuracy: {}\\n\".format(np.mean(dev_accuracies)))\n",
    "    \n",
    "    return dev_accuracies"
   ]
  },
  {
   "cell_type": "code",
   "execution_count": 14,
   "id": "66c035ff-f4bf-427a-bc40-62e46ae5a50d",
   "metadata": {},
   "outputs": [],
   "source": [
    "def run_bfsvm(X_train, y_train, X_dev, y_dev):\n",
    "    \n",
    "    train_accuracies = []\n",
    "    dev_accuracies = []\n",
    "    \n",
    "    for i in tqdm(range(6373)):\n",
    "        \n",
    "        model_svm = svm.SVC(probability=True)\n",
    "        model_svm.fit(X_train.iloc[:,i].to_numpy().reshape(-1, 1), y_train)\n",
    "        y_hat_train = model_svm.predict(X_train.iloc[:,i].to_numpy().reshape(-1, 1))\n",
    "        y_hat_dev = model_svm.predict(X_dev.iloc[:,i].to_numpy().reshape(-1, 1))\n",
    "        train_accuracy = accuracy_score(y_train, y_hat_train)\n",
    "        train_accuracies.append(train_accuracy)        \n",
    "        dev_accuracy = accuracy_score(y_dev, y_hat_dev)\n",
    "        dev_accuracies.append(dev_accuracy)\n",
    "    \n",
    "    print(\"\\nAverage train accuracy: {}\".format(np.mean(train_accuracies)))\n",
    "    print(\"Average dev accuracy: {}\\n\".format(np.mean(dev_accuracies)))\n",
    "    \n",
    "    return dev_accuracies"
   ]
  },
  {
   "cell_type": "code",
   "execution_count": 15,
   "id": "e21c192a-03b3-4c84-902e-b89fc990aeb4",
   "metadata": {},
   "outputs": [
    {
     "name": "stderr",
     "output_type": "stream",
     "text": [
      "100%|██████████| 6373/6373 [00:11<00:00, 577.58it/s]\n"
     ]
    },
    {
     "name": "stdout",
     "output_type": "stream",
     "text": [
      "\n",
      "Average train accuracy: 0.6238356108310193\n",
      "Average dev accuracy: 0.6180923527542075\n",
      "\n"
     ]
    },
    {
     "name": "stderr",
     "output_type": "stream",
     "text": [
      "100%|██████████| 6373/6373 [00:11<00:00, 576.22it/s]\n"
     ]
    },
    {
     "name": "stdout",
     "output_type": "stream",
     "text": [
      "\n",
      "Average train accuracy: 0.619171459304084\n",
      "Average dev accuracy: 0.6152800074030264\n",
      "\n"
     ]
    },
    {
     "name": "stderr",
     "output_type": "stream",
     "text": [
      "100%|██████████| 6373/6373 [02:27<00:00, 43.33it/s]\n"
     ]
    },
    {
     "name": "stdout",
     "output_type": "stream",
     "text": [
      "\n",
      "Average train accuracy: 0.6653431482909101\n",
      "Average dev accuracy: 0.6635606142902549\n",
      "\n"
     ]
    },
    {
     "name": "stderr",
     "output_type": "stream",
     "text": [
      "100%|██████████| 6373/6373 [02:30<00:00, 42.34it/s]"
     ]
    },
    {
     "name": "stdout",
     "output_type": "stream",
     "text": [
      "\n",
      "Average train accuracy: 0.6607772373032063\n",
      "Average dev accuracy: 0.6583302152108051\n",
      "\n"
     ]
    },
    {
     "name": "stderr",
     "output_type": "stream",
     "text": [
      "\n"
     ]
    }
   ],
   "source": [
    "features = df_16k.columns.to_list()[4:]\n",
    "bruteforce_df = pd.DataFrame(features, columns=['features'])\n",
    "bruteforce_df['dev_16k_accuracies_lr'] = run_bflr(X_train_16k, y_train_16k, X_dev_16k, y_dev_16k)\n",
    "bruteforce_df['dev_44k_accuracies_lr'] = run_bflr(X_train_44k, y_train_44k, X_dev_44k, y_dev_44k)\n",
    "bruteforce_df['dev_16k_accuracies_svm'] = run_bfsvm(X_train_16k, y_train_16k, X_dev_16k, y_dev_16k)\n",
    "bruteforce_df['dev_44k_accuracies_svm'] = run_bfsvm(X_train_44k, y_train_44k, X_dev_44k, y_dev_44k)"
   ]
  },
  {
   "cell_type": "code",
   "execution_count": 20,
   "id": "7477effd-f092-47b2-a797-6dd2b2527367",
   "metadata": {},
   "outputs": [
    {
     "data": {
      "text/html": [
       "<div>\n",
       "<style scoped>\n",
       "    .dataframe tbody tr th:only-of-type {\n",
       "        vertical-align: middle;\n",
       "    }\n",
       "\n",
       "    .dataframe tbody tr th {\n",
       "        vertical-align: top;\n",
       "    }\n",
       "\n",
       "    .dataframe thead th {\n",
       "        text-align: right;\n",
       "    }\n",
       "</style>\n",
       "<table border=\"1\" class=\"dataframe\">\n",
       "  <thead>\n",
       "    <tr style=\"text-align: right;\">\n",
       "      <th></th>\n",
       "      <th>features</th>\n",
       "      <th>dev_16k_accuracies_lr</th>\n",
       "      <th>dev_44k_accuracies_lr</th>\n",
       "      <th>dev_16k_accuracies_svm</th>\n",
       "      <th>dev_44k_accuracies_svm</th>\n",
       "      <th>mean_dev_accuracies_lr</th>\n",
       "      <th>mean_dev_accuracies_svm</th>\n",
       "      <th>mean_dev_accuracies_all</th>\n",
       "    </tr>\n",
       "  </thead>\n",
       "  <tbody>\n",
       "    <tr>\n",
       "      <th>0</th>\n",
       "      <td>audspec_lengthL1norm_sma_range</td>\n",
       "      <td>0.666667</td>\n",
       "      <td>0.666667</td>\n",
       "      <td>0.641026</td>\n",
       "      <td>0.641026</td>\n",
       "      <td>0.666667</td>\n",
       "      <td>0.641026</td>\n",
       "      <td>0.653846</td>\n",
       "    </tr>\n",
       "    <tr>\n",
       "      <th>1</th>\n",
       "      <td>audspec_lengthL1norm_sma_maxPos</td>\n",
       "      <td>0.692308</td>\n",
       "      <td>0.615385</td>\n",
       "      <td>0.692308</td>\n",
       "      <td>0.692308</td>\n",
       "      <td>0.653846</td>\n",
       "      <td>0.692308</td>\n",
       "      <td>0.673077</td>\n",
       "    </tr>\n",
       "    <tr>\n",
       "      <th>2</th>\n",
       "      <td>audspec_lengthL1norm_sma_minPos</td>\n",
       "      <td>0.923077</td>\n",
       "      <td>0.923077</td>\n",
       "      <td>0.923077</td>\n",
       "      <td>0.923077</td>\n",
       "      <td>0.923077</td>\n",
       "      <td>0.923077</td>\n",
       "      <td>0.923077</td>\n",
       "    </tr>\n",
       "    <tr>\n",
       "      <th>3</th>\n",
       "      <td>audspec_lengthL1norm_sma_quartile1</td>\n",
       "      <td>0.717949</td>\n",
       "      <td>0.717949</td>\n",
       "      <td>0.820513</td>\n",
       "      <td>0.820513</td>\n",
       "      <td>0.717949</td>\n",
       "      <td>0.820513</td>\n",
       "      <td>0.769231</td>\n",
       "    </tr>\n",
       "    <tr>\n",
       "      <th>4</th>\n",
       "      <td>audspec_lengthL1norm_sma_quartile2</td>\n",
       "      <td>0.794872</td>\n",
       "      <td>0.794872</td>\n",
       "      <td>0.897436</td>\n",
       "      <td>0.897436</td>\n",
       "      <td>0.794872</td>\n",
       "      <td>0.897436</td>\n",
       "      <td>0.846154</td>\n",
       "    </tr>\n",
       "  </tbody>\n",
       "</table>\n",
       "</div>"
      ],
      "text/plain": [
       "                             features  dev_16k_accuracies_lr  \\\n",
       "0      audspec_lengthL1norm_sma_range               0.666667   \n",
       "1     audspec_lengthL1norm_sma_maxPos               0.692308   \n",
       "2     audspec_lengthL1norm_sma_minPos               0.923077   \n",
       "3  audspec_lengthL1norm_sma_quartile1               0.717949   \n",
       "4  audspec_lengthL1norm_sma_quartile2               0.794872   \n",
       "\n",
       "   dev_44k_accuracies_lr  dev_16k_accuracies_svm  dev_44k_accuracies_svm  \\\n",
       "0               0.666667                0.641026                0.641026   \n",
       "1               0.615385                0.692308                0.692308   \n",
       "2               0.923077                0.923077                0.923077   \n",
       "3               0.717949                0.820513                0.820513   \n",
       "4               0.794872                0.897436                0.897436   \n",
       "\n",
       "   mean_dev_accuracies_lr  mean_dev_accuracies_svm  mean_dev_accuracies_all  \n",
       "0                0.666667                 0.641026                 0.653846  \n",
       "1                0.653846                 0.692308                 0.673077  \n",
       "2                0.923077                 0.923077                 0.923077  \n",
       "3                0.717949                 0.820513                 0.769231  \n",
       "4                0.794872                 0.897436                 0.846154  "
      ]
     },
     "execution_count": 20,
     "metadata": {},
     "output_type": "execute_result"
    }
   ],
   "source": [
    "bruteforce_df['mean_dev_accuracies_lr'] = bruteforce_df[['dev_16k_accuracies_lr','dev_44k_accuracies_lr']].mean(axis=1)\n",
    "bruteforce_df['mean_dev_accuracies_svm'] = bruteforce_df[['dev_16k_accuracies_svm','dev_44k_accuracies_svm']].mean(axis=1)\n",
    "bruteforce_df['mean_dev_accuracies_all'] = bruteforce_df.iloc[:,1:].mean(axis=1)\n",
    "bruteforce_df.head()"
   ]
  },
  {
   "cell_type": "markdown",
   "id": "8bc98cad-4d39-4398-bbaa-104c1b9e141d",
   "metadata": {
    "tags": []
   },
   "source": [
    "#### Results"
   ]
  },
  {
   "cell_type": "code",
   "execution_count": 51,
   "id": "b781b31f-8723-4416-88a3-62e97dce25c0",
   "metadata": {},
   "outputs": [
    {
     "data": {
      "text/html": [
       "<div>\n",
       "<style scoped>\n",
       "    .dataframe tbody tr th:only-of-type {\n",
       "        vertical-align: middle;\n",
       "    }\n",
       "\n",
       "    .dataframe tbody tr th {\n",
       "        vertical-align: top;\n",
       "    }\n",
       "\n",
       "    .dataframe thead th {\n",
       "        text-align: right;\n",
       "    }\n",
       "</style>\n",
       "<table border=\"1\" class=\"dataframe\">\n",
       "  <thead>\n",
       "    <tr style=\"text-align: right;\">\n",
       "      <th></th>\n",
       "      <th>features</th>\n",
       "      <th>dev_16k_accuracies_lr</th>\n",
       "      <th>dev_44k_accuracies_lr</th>\n",
       "      <th>dev_16k_accuracies_svm</th>\n",
       "      <th>dev_44k_accuracies_svm</th>\n",
       "      <th>mean_dev_accuracies_lr</th>\n",
       "      <th>mean_dev_accuracies_svm</th>\n",
       "      <th>mean_dev_accuracies_all</th>\n",
       "    </tr>\n",
       "  </thead>\n",
       "  <tbody>\n",
       "    <tr>\n",
       "      <th>1545</th>\n",
       "      <td>mfcc_sma[1]_lpc0</td>\n",
       "      <td>1.000000</td>\n",
       "      <td>1.000000</td>\n",
       "      <td>1.000000</td>\n",
       "      <td>1.000000</td>\n",
       "      <td>1.000000</td>\n",
       "      <td>1.000000</td>\n",
       "      <td>1.000000</td>\n",
       "    </tr>\n",
       "    <tr>\n",
       "      <th>1823</th>\n",
       "      <td>mfcc_sma[10]_lpgain</td>\n",
       "      <td>1.000000</td>\n",
       "      <td>1.000000</td>\n",
       "      <td>1.000000</td>\n",
       "      <td>1.000000</td>\n",
       "      <td>1.000000</td>\n",
       "      <td>1.000000</td>\n",
       "      <td>1.000000</td>\n",
       "    </tr>\n",
       "    <tr>\n",
       "      <th>2645</th>\n",
       "      <td>audSpec_Rfilt_sma_de[22]_percentile99.0</td>\n",
       "      <td>0.974359</td>\n",
       "      <td>1.000000</td>\n",
       "      <td>0.974359</td>\n",
       "      <td>0.974359</td>\n",
       "      <td>0.987179</td>\n",
       "      <td>0.974359</td>\n",
       "      <td>0.980769</td>\n",
       "    </tr>\n",
       "    <tr>\n",
       "      <th>3529</th>\n",
       "      <td>mfcc_sma_de[10]_lpc0</td>\n",
       "      <td>0.974359</td>\n",
       "      <td>1.000000</td>\n",
       "      <td>0.974359</td>\n",
       "      <td>1.000000</td>\n",
       "      <td>0.987179</td>\n",
       "      <td>0.987179</td>\n",
       "      <td>0.987179</td>\n",
       "    </tr>\n",
       "    <tr>\n",
       "      <th>1824</th>\n",
       "      <td>mfcc_sma[10]_lpc0</td>\n",
       "      <td>0.974359</td>\n",
       "      <td>0.974359</td>\n",
       "      <td>0.974359</td>\n",
       "      <td>0.974359</td>\n",
       "      <td>0.974359</td>\n",
       "      <td>0.974359</td>\n",
       "      <td>0.974359</td>\n",
       "    </tr>\n",
       "    <tr>\n",
       "      <th>1833</th>\n",
       "      <td>mfcc_sma[11]_quartile2</td>\n",
       "      <td>0.974359</td>\n",
       "      <td>0.974359</td>\n",
       "      <td>0.974359</td>\n",
       "      <td>0.974359</td>\n",
       "      <td>0.974359</td>\n",
       "      <td>0.974359</td>\n",
       "      <td>0.974359</td>\n",
       "    </tr>\n",
       "    <tr>\n",
       "      <th>2644</th>\n",
       "      <td>audSpec_Rfilt_sma_de[22]_percentile1.0</td>\n",
       "      <td>0.974359</td>\n",
       "      <td>0.974359</td>\n",
       "      <td>0.974359</td>\n",
       "      <td>0.974359</td>\n",
       "      <td>0.974359</td>\n",
       "      <td>0.974359</td>\n",
       "      <td>0.974359</td>\n",
       "    </tr>\n",
       "    <tr>\n",
       "      <th>2646</th>\n",
       "      <td>audSpec_Rfilt_sma_de[22]_pctlrange0-1</td>\n",
       "      <td>0.974359</td>\n",
       "      <td>0.974359</td>\n",
       "      <td>0.974359</td>\n",
       "      <td>0.974359</td>\n",
       "      <td>0.974359</td>\n",
       "      <td>0.974359</td>\n",
       "      <td>0.974359</td>\n",
       "    </tr>\n",
       "    <tr>\n",
       "      <th>2647</th>\n",
       "      <td>audSpec_Rfilt_sma_de[22]_stddev</td>\n",
       "      <td>0.974359</td>\n",
       "      <td>0.974359</td>\n",
       "      <td>0.974359</td>\n",
       "      <td>0.974359</td>\n",
       "      <td>0.974359</td>\n",
       "      <td>0.974359</td>\n",
       "      <td>0.974359</td>\n",
       "    </tr>\n",
       "    <tr>\n",
       "      <th>3235</th>\n",
       "      <td>mfcc_sma_de[1]_pctlrange0-1</td>\n",
       "      <td>0.974359</td>\n",
       "      <td>0.974359</td>\n",
       "      <td>0.974359</td>\n",
       "      <td>0.974359</td>\n",
       "      <td>0.974359</td>\n",
       "      <td>0.974359</td>\n",
       "      <td>0.974359</td>\n",
       "    </tr>\n",
       "    <tr>\n",
       "      <th>5177</th>\n",
       "      <td>mfcc_sma[1]_meanRisingSlope</td>\n",
       "      <td>0.974359</td>\n",
       "      <td>0.974359</td>\n",
       "      <td>0.974359</td>\n",
       "      <td>0.974359</td>\n",
       "      <td>0.974359</td>\n",
       "      <td>0.974359</td>\n",
       "      <td>0.974359</td>\n",
       "    </tr>\n",
       "    <tr>\n",
       "      <th>5396</th>\n",
       "      <td>mfcc_sma[11]_amean</td>\n",
       "      <td>0.974359</td>\n",
       "      <td>0.974359</td>\n",
       "      <td>0.974359</td>\n",
       "      <td>0.974359</td>\n",
       "      <td>0.974359</td>\n",
       "      <td>0.974359</td>\n",
       "      <td>0.974359</td>\n",
       "    </tr>\n",
       "    <tr>\n",
       "      <th>5880</th>\n",
       "      <td>audSpec_Rfilt_sma_de[22]_rqmean</td>\n",
       "      <td>0.974359</td>\n",
       "      <td>0.974359</td>\n",
       "      <td>0.974359</td>\n",
       "      <td>0.974359</td>\n",
       "      <td>0.974359</td>\n",
       "      <td>0.974359</td>\n",
       "      <td>0.974359</td>\n",
       "    </tr>\n",
       "  </tbody>\n",
       "</table>\n",
       "</div>"
      ],
      "text/plain": [
       "                                     features  dev_16k_accuracies_lr  \\\n",
       "1545                         mfcc_sma[1]_lpc0               1.000000   \n",
       "1823                      mfcc_sma[10]_lpgain               1.000000   \n",
       "2645  audSpec_Rfilt_sma_de[22]_percentile99.0               0.974359   \n",
       "3529                     mfcc_sma_de[10]_lpc0               0.974359   \n",
       "1824                        mfcc_sma[10]_lpc0               0.974359   \n",
       "1833                   mfcc_sma[11]_quartile2               0.974359   \n",
       "2644   audSpec_Rfilt_sma_de[22]_percentile1.0               0.974359   \n",
       "2646    audSpec_Rfilt_sma_de[22]_pctlrange0-1               0.974359   \n",
       "2647          audSpec_Rfilt_sma_de[22]_stddev               0.974359   \n",
       "3235              mfcc_sma_de[1]_pctlrange0-1               0.974359   \n",
       "5177              mfcc_sma[1]_meanRisingSlope               0.974359   \n",
       "5396                       mfcc_sma[11]_amean               0.974359   \n",
       "5880          audSpec_Rfilt_sma_de[22]_rqmean               0.974359   \n",
       "\n",
       "      dev_44k_accuracies_lr  dev_16k_accuracies_svm  dev_44k_accuracies_svm  \\\n",
       "1545               1.000000                1.000000                1.000000   \n",
       "1823               1.000000                1.000000                1.000000   \n",
       "2645               1.000000                0.974359                0.974359   \n",
       "3529               1.000000                0.974359                1.000000   \n",
       "1824               0.974359                0.974359                0.974359   \n",
       "1833               0.974359                0.974359                0.974359   \n",
       "2644               0.974359                0.974359                0.974359   \n",
       "2646               0.974359                0.974359                0.974359   \n",
       "2647               0.974359                0.974359                0.974359   \n",
       "3235               0.974359                0.974359                0.974359   \n",
       "5177               0.974359                0.974359                0.974359   \n",
       "5396               0.974359                0.974359                0.974359   \n",
       "5880               0.974359                0.974359                0.974359   \n",
       "\n",
       "      mean_dev_accuracies_lr  mean_dev_accuracies_svm  mean_dev_accuracies_all  \n",
       "1545                1.000000                 1.000000                 1.000000  \n",
       "1823                1.000000                 1.000000                 1.000000  \n",
       "2645                0.987179                 0.974359                 0.980769  \n",
       "3529                0.987179                 0.987179                 0.987179  \n",
       "1824                0.974359                 0.974359                 0.974359  \n",
       "1833                0.974359                 0.974359                 0.974359  \n",
       "2644                0.974359                 0.974359                 0.974359  \n",
       "2646                0.974359                 0.974359                 0.974359  \n",
       "2647                0.974359                 0.974359                 0.974359  \n",
       "3235                0.974359                 0.974359                 0.974359  \n",
       "5177                0.974359                 0.974359                 0.974359  \n",
       "5396                0.974359                 0.974359                 0.974359  \n",
       "5880                0.974359                 0.974359                 0.974359  "
      ]
     },
     "execution_count": 51,
     "metadata": {},
     "output_type": "execute_result"
    }
   ],
   "source": [
    "bruteforce_df[(bruteforce_df.iloc[:,1:] > 0.95).all(axis=1)].sort_values(by='mean_dev_accuracies_lr', ascending=False)"
   ]
  },
  {
   "cell_type": "code",
   "execution_count": 25,
   "id": "65c4d5cf-7466-4e00-8194-483bb8c8078c",
   "metadata": {},
   "outputs": [
    {
     "data": {
      "text/html": [
       "<div>\n",
       "<style scoped>\n",
       "    .dataframe tbody tr th:only-of-type {\n",
       "        vertical-align: middle;\n",
       "    }\n",
       "\n",
       "    .dataframe tbody tr th {\n",
       "        vertical-align: top;\n",
       "    }\n",
       "\n",
       "    .dataframe thead th {\n",
       "        text-align: right;\n",
       "    }\n",
       "</style>\n",
       "<table border=\"1\" class=\"dataframe\">\n",
       "  <thead>\n",
       "    <tr style=\"text-align: right;\">\n",
       "      <th></th>\n",
       "      <th>features</th>\n",
       "      <th>dev_16k_accuracies_lr</th>\n",
       "      <th>dev_44k_accuracies_lr</th>\n",
       "      <th>dev_16k_accuracies_svm</th>\n",
       "      <th>dev_44k_accuracies_svm</th>\n",
       "      <th>mean_dev_accuracies_lr</th>\n",
       "      <th>mean_dev_accuracies_svm</th>\n",
       "      <th>mean_dev_accuracies_all</th>\n",
       "    </tr>\n",
       "  </thead>\n",
       "  <tbody>\n",
       "    <tr>\n",
       "      <th>1545</th>\n",
       "      <td>mfcc_sma[1]_lpc0</td>\n",
       "      <td>1.000000</td>\n",
       "      <td>1.000000</td>\n",
       "      <td>1.000000</td>\n",
       "      <td>1.000000</td>\n",
       "      <td>1.000000</td>\n",
       "      <td>1.000000</td>\n",
       "      <td>1.000000</td>\n",
       "    </tr>\n",
       "    <tr>\n",
       "      <th>1823</th>\n",
       "      <td>mfcc_sma[10]_lpgain</td>\n",
       "      <td>1.000000</td>\n",
       "      <td>1.000000</td>\n",
       "      <td>1.000000</td>\n",
       "      <td>1.000000</td>\n",
       "      <td>1.000000</td>\n",
       "      <td>1.000000</td>\n",
       "      <td>1.000000</td>\n",
       "    </tr>\n",
       "    <tr>\n",
       "      <th>3529</th>\n",
       "      <td>mfcc_sma_de[10]_lpc0</td>\n",
       "      <td>0.974359</td>\n",
       "      <td>1.000000</td>\n",
       "      <td>0.974359</td>\n",
       "      <td>1.000000</td>\n",
       "      <td>0.987179</td>\n",
       "      <td>0.987179</td>\n",
       "      <td>0.987179</td>\n",
       "    </tr>\n",
       "    <tr>\n",
       "      <th>1824</th>\n",
       "      <td>mfcc_sma[10]_lpc0</td>\n",
       "      <td>0.974359</td>\n",
       "      <td>0.974359</td>\n",
       "      <td>0.974359</td>\n",
       "      <td>0.974359</td>\n",
       "      <td>0.974359</td>\n",
       "      <td>0.974359</td>\n",
       "      <td>0.974359</td>\n",
       "    </tr>\n",
       "    <tr>\n",
       "      <th>1833</th>\n",
       "      <td>mfcc_sma[11]_quartile2</td>\n",
       "      <td>0.974359</td>\n",
       "      <td>0.974359</td>\n",
       "      <td>0.974359</td>\n",
       "      <td>0.974359</td>\n",
       "      <td>0.974359</td>\n",
       "      <td>0.974359</td>\n",
       "      <td>0.974359</td>\n",
       "    </tr>\n",
       "    <tr>\n",
       "      <th>2644</th>\n",
       "      <td>audSpec_Rfilt_sma_de[22]_percentile1.0</td>\n",
       "      <td>0.974359</td>\n",
       "      <td>0.974359</td>\n",
       "      <td>0.974359</td>\n",
       "      <td>0.974359</td>\n",
       "      <td>0.974359</td>\n",
       "      <td>0.974359</td>\n",
       "      <td>0.974359</td>\n",
       "    </tr>\n",
       "    <tr>\n",
       "      <th>2645</th>\n",
       "      <td>audSpec_Rfilt_sma_de[22]_percentile99.0</td>\n",
       "      <td>0.974359</td>\n",
       "      <td>1.000000</td>\n",
       "      <td>0.974359</td>\n",
       "      <td>0.974359</td>\n",
       "      <td>0.987179</td>\n",
       "      <td>0.974359</td>\n",
       "      <td>0.980769</td>\n",
       "    </tr>\n",
       "    <tr>\n",
       "      <th>2646</th>\n",
       "      <td>audSpec_Rfilt_sma_de[22]_pctlrange0-1</td>\n",
       "      <td>0.974359</td>\n",
       "      <td>0.974359</td>\n",
       "      <td>0.974359</td>\n",
       "      <td>0.974359</td>\n",
       "      <td>0.974359</td>\n",
       "      <td>0.974359</td>\n",
       "      <td>0.974359</td>\n",
       "    </tr>\n",
       "    <tr>\n",
       "      <th>2647</th>\n",
       "      <td>audSpec_Rfilt_sma_de[22]_stddev</td>\n",
       "      <td>0.974359</td>\n",
       "      <td>0.974359</td>\n",
       "      <td>0.974359</td>\n",
       "      <td>0.974359</td>\n",
       "      <td>0.974359</td>\n",
       "      <td>0.974359</td>\n",
       "      <td>0.974359</td>\n",
       "    </tr>\n",
       "    <tr>\n",
       "      <th>3235</th>\n",
       "      <td>mfcc_sma_de[1]_pctlrange0-1</td>\n",
       "      <td>0.974359</td>\n",
       "      <td>0.974359</td>\n",
       "      <td>0.974359</td>\n",
       "      <td>0.974359</td>\n",
       "      <td>0.974359</td>\n",
       "      <td>0.974359</td>\n",
       "      <td>0.974359</td>\n",
       "    </tr>\n",
       "    <tr>\n",
       "      <th>5177</th>\n",
       "      <td>mfcc_sma[1]_meanRisingSlope</td>\n",
       "      <td>0.974359</td>\n",
       "      <td>0.974359</td>\n",
       "      <td>0.974359</td>\n",
       "      <td>0.974359</td>\n",
       "      <td>0.974359</td>\n",
       "      <td>0.974359</td>\n",
       "      <td>0.974359</td>\n",
       "    </tr>\n",
       "    <tr>\n",
       "      <th>5396</th>\n",
       "      <td>mfcc_sma[11]_amean</td>\n",
       "      <td>0.974359</td>\n",
       "      <td>0.974359</td>\n",
       "      <td>0.974359</td>\n",
       "      <td>0.974359</td>\n",
       "      <td>0.974359</td>\n",
       "      <td>0.974359</td>\n",
       "      <td>0.974359</td>\n",
       "    </tr>\n",
       "    <tr>\n",
       "      <th>5880</th>\n",
       "      <td>audSpec_Rfilt_sma_de[22]_rqmean</td>\n",
       "      <td>0.974359</td>\n",
       "      <td>0.974359</td>\n",
       "      <td>0.974359</td>\n",
       "      <td>0.974359</td>\n",
       "      <td>0.974359</td>\n",
       "      <td>0.974359</td>\n",
       "      <td>0.974359</td>\n",
       "    </tr>\n",
       "  </tbody>\n",
       "</table>\n",
       "</div>"
      ],
      "text/plain": [
       "                                     features  dev_16k_accuracies_lr  \\\n",
       "1545                         mfcc_sma[1]_lpc0               1.000000   \n",
       "1823                      mfcc_sma[10]_lpgain               1.000000   \n",
       "3529                     mfcc_sma_de[10]_lpc0               0.974359   \n",
       "1824                        mfcc_sma[10]_lpc0               0.974359   \n",
       "1833                   mfcc_sma[11]_quartile2               0.974359   \n",
       "2644   audSpec_Rfilt_sma_de[22]_percentile1.0               0.974359   \n",
       "2645  audSpec_Rfilt_sma_de[22]_percentile99.0               0.974359   \n",
       "2646    audSpec_Rfilt_sma_de[22]_pctlrange0-1               0.974359   \n",
       "2647          audSpec_Rfilt_sma_de[22]_stddev               0.974359   \n",
       "3235              mfcc_sma_de[1]_pctlrange0-1               0.974359   \n",
       "5177              mfcc_sma[1]_meanRisingSlope               0.974359   \n",
       "5396                       mfcc_sma[11]_amean               0.974359   \n",
       "5880          audSpec_Rfilt_sma_de[22]_rqmean               0.974359   \n",
       "\n",
       "      dev_44k_accuracies_lr  dev_16k_accuracies_svm  dev_44k_accuracies_svm  \\\n",
       "1545               1.000000                1.000000                1.000000   \n",
       "1823               1.000000                1.000000                1.000000   \n",
       "3529               1.000000                0.974359                1.000000   \n",
       "1824               0.974359                0.974359                0.974359   \n",
       "1833               0.974359                0.974359                0.974359   \n",
       "2644               0.974359                0.974359                0.974359   \n",
       "2645               1.000000                0.974359                0.974359   \n",
       "2646               0.974359                0.974359                0.974359   \n",
       "2647               0.974359                0.974359                0.974359   \n",
       "3235               0.974359                0.974359                0.974359   \n",
       "5177               0.974359                0.974359                0.974359   \n",
       "5396               0.974359                0.974359                0.974359   \n",
       "5880               0.974359                0.974359                0.974359   \n",
       "\n",
       "      mean_dev_accuracies_lr  mean_dev_accuracies_svm  mean_dev_accuracies_all  \n",
       "1545                1.000000                 1.000000                 1.000000  \n",
       "1823                1.000000                 1.000000                 1.000000  \n",
       "3529                0.987179                 0.987179                 0.987179  \n",
       "1824                0.974359                 0.974359                 0.974359  \n",
       "1833                0.974359                 0.974359                 0.974359  \n",
       "2644                0.974359                 0.974359                 0.974359  \n",
       "2645                0.987179                 0.974359                 0.980769  \n",
       "2646                0.974359                 0.974359                 0.974359  \n",
       "2647                0.974359                 0.974359                 0.974359  \n",
       "3235                0.974359                 0.974359                 0.974359  \n",
       "5177                0.974359                 0.974359                 0.974359  \n",
       "5396                0.974359                 0.974359                 0.974359  \n",
       "5880                0.974359                 0.974359                 0.974359  "
      ]
     },
     "execution_count": 25,
     "metadata": {},
     "output_type": "execute_result"
    }
   ],
   "source": [
    "bruteforce_df[(bruteforce_df.iloc[:,1:] > 0.95).all(axis=1)].sort_values(by='mean_dev_accuracies_svm', ascending=False)"
   ]
  },
  {
   "cell_type": "code",
   "execution_count": 30,
   "id": "86a93c41-13b4-442d-8c43-5b45f19ec71b",
   "metadata": {},
   "outputs": [
    {
     "data": {
      "text/html": [
       "<div>\n",
       "<style scoped>\n",
       "    .dataframe tbody tr th:only-of-type {\n",
       "        vertical-align: middle;\n",
       "    }\n",
       "\n",
       "    .dataframe tbody tr th {\n",
       "        vertical-align: top;\n",
       "    }\n",
       "\n",
       "    .dataframe thead th {\n",
       "        text-align: right;\n",
       "    }\n",
       "</style>\n",
       "<table border=\"1\" class=\"dataframe\">\n",
       "  <thead>\n",
       "    <tr style=\"text-align: right;\">\n",
       "      <th></th>\n",
       "      <th>features</th>\n",
       "      <th>dev_16k_accuracies_lr</th>\n",
       "      <th>dev_44k_accuracies_lr</th>\n",
       "      <th>dev_16k_accuracies_svm</th>\n",
       "      <th>dev_44k_accuracies_svm</th>\n",
       "      <th>mean_dev_accuracies_lr</th>\n",
       "      <th>mean_dev_accuracies_svm</th>\n",
       "      <th>mean_dev_accuracies_all</th>\n",
       "    </tr>\n",
       "  </thead>\n",
       "  <tbody>\n",
       "    <tr>\n",
       "      <th>1545</th>\n",
       "      <td>mfcc_sma[1]_lpc0</td>\n",
       "      <td>1.000000</td>\n",
       "      <td>1.000000</td>\n",
       "      <td>1.000000</td>\n",
       "      <td>1.000000</td>\n",
       "      <td>1.000000</td>\n",
       "      <td>1.000000</td>\n",
       "      <td>1.000000</td>\n",
       "    </tr>\n",
       "    <tr>\n",
       "      <th>1823</th>\n",
       "      <td>mfcc_sma[10]_lpgain</td>\n",
       "      <td>1.000000</td>\n",
       "      <td>1.000000</td>\n",
       "      <td>1.000000</td>\n",
       "      <td>1.000000</td>\n",
       "      <td>1.000000</td>\n",
       "      <td>1.000000</td>\n",
       "      <td>1.000000</td>\n",
       "    </tr>\n",
       "    <tr>\n",
       "      <th>3529</th>\n",
       "      <td>mfcc_sma_de[10]_lpc0</td>\n",
       "      <td>0.974359</td>\n",
       "      <td>1.000000</td>\n",
       "      <td>0.974359</td>\n",
       "      <td>1.000000</td>\n",
       "      <td>0.987179</td>\n",
       "      <td>0.987179</td>\n",
       "      <td>0.987179</td>\n",
       "    </tr>\n",
       "    <tr>\n",
       "      <th>2645</th>\n",
       "      <td>audSpec_Rfilt_sma_de[22]_percentile99.0</td>\n",
       "      <td>0.974359</td>\n",
       "      <td>1.000000</td>\n",
       "      <td>0.974359</td>\n",
       "      <td>0.974359</td>\n",
       "      <td>0.987179</td>\n",
       "      <td>0.974359</td>\n",
       "      <td>0.980769</td>\n",
       "    </tr>\n",
       "    <tr>\n",
       "      <th>1824</th>\n",
       "      <td>mfcc_sma[10]_lpc0</td>\n",
       "      <td>0.974359</td>\n",
       "      <td>0.974359</td>\n",
       "      <td>0.974359</td>\n",
       "      <td>0.974359</td>\n",
       "      <td>0.974359</td>\n",
       "      <td>0.974359</td>\n",
       "      <td>0.974359</td>\n",
       "    </tr>\n",
       "    <tr>\n",
       "      <th>1833</th>\n",
       "      <td>mfcc_sma[11]_quartile2</td>\n",
       "      <td>0.974359</td>\n",
       "      <td>0.974359</td>\n",
       "      <td>0.974359</td>\n",
       "      <td>0.974359</td>\n",
       "      <td>0.974359</td>\n",
       "      <td>0.974359</td>\n",
       "      <td>0.974359</td>\n",
       "    </tr>\n",
       "    <tr>\n",
       "      <th>2644</th>\n",
       "      <td>audSpec_Rfilt_sma_de[22]_percentile1.0</td>\n",
       "      <td>0.974359</td>\n",
       "      <td>0.974359</td>\n",
       "      <td>0.974359</td>\n",
       "      <td>0.974359</td>\n",
       "      <td>0.974359</td>\n",
       "      <td>0.974359</td>\n",
       "      <td>0.974359</td>\n",
       "    </tr>\n",
       "    <tr>\n",
       "      <th>2646</th>\n",
       "      <td>audSpec_Rfilt_sma_de[22]_pctlrange0-1</td>\n",
       "      <td>0.974359</td>\n",
       "      <td>0.974359</td>\n",
       "      <td>0.974359</td>\n",
       "      <td>0.974359</td>\n",
       "      <td>0.974359</td>\n",
       "      <td>0.974359</td>\n",
       "      <td>0.974359</td>\n",
       "    </tr>\n",
       "    <tr>\n",
       "      <th>2647</th>\n",
       "      <td>audSpec_Rfilt_sma_de[22]_stddev</td>\n",
       "      <td>0.974359</td>\n",
       "      <td>0.974359</td>\n",
       "      <td>0.974359</td>\n",
       "      <td>0.974359</td>\n",
       "      <td>0.974359</td>\n",
       "      <td>0.974359</td>\n",
       "      <td>0.974359</td>\n",
       "    </tr>\n",
       "    <tr>\n",
       "      <th>3235</th>\n",
       "      <td>mfcc_sma_de[1]_pctlrange0-1</td>\n",
       "      <td>0.974359</td>\n",
       "      <td>0.974359</td>\n",
       "      <td>0.974359</td>\n",
       "      <td>0.974359</td>\n",
       "      <td>0.974359</td>\n",
       "      <td>0.974359</td>\n",
       "      <td>0.974359</td>\n",
       "    </tr>\n",
       "    <tr>\n",
       "      <th>5177</th>\n",
       "      <td>mfcc_sma[1]_meanRisingSlope</td>\n",
       "      <td>0.974359</td>\n",
       "      <td>0.974359</td>\n",
       "      <td>0.974359</td>\n",
       "      <td>0.974359</td>\n",
       "      <td>0.974359</td>\n",
       "      <td>0.974359</td>\n",
       "      <td>0.974359</td>\n",
       "    </tr>\n",
       "    <tr>\n",
       "      <th>5396</th>\n",
       "      <td>mfcc_sma[11]_amean</td>\n",
       "      <td>0.974359</td>\n",
       "      <td>0.974359</td>\n",
       "      <td>0.974359</td>\n",
       "      <td>0.974359</td>\n",
       "      <td>0.974359</td>\n",
       "      <td>0.974359</td>\n",
       "      <td>0.974359</td>\n",
       "    </tr>\n",
       "    <tr>\n",
       "      <th>5880</th>\n",
       "      <td>audSpec_Rfilt_sma_de[22]_rqmean</td>\n",
       "      <td>0.974359</td>\n",
       "      <td>0.974359</td>\n",
       "      <td>0.974359</td>\n",
       "      <td>0.974359</td>\n",
       "      <td>0.974359</td>\n",
       "      <td>0.974359</td>\n",
       "      <td>0.974359</td>\n",
       "    </tr>\n",
       "  </tbody>\n",
       "</table>\n",
       "</div>"
      ],
      "text/plain": [
       "                                     features  dev_16k_accuracies_lr  \\\n",
       "1545                         mfcc_sma[1]_lpc0               1.000000   \n",
       "1823                      mfcc_sma[10]_lpgain               1.000000   \n",
       "3529                     mfcc_sma_de[10]_lpc0               0.974359   \n",
       "2645  audSpec_Rfilt_sma_de[22]_percentile99.0               0.974359   \n",
       "1824                        mfcc_sma[10]_lpc0               0.974359   \n",
       "1833                   mfcc_sma[11]_quartile2               0.974359   \n",
       "2644   audSpec_Rfilt_sma_de[22]_percentile1.0               0.974359   \n",
       "2646    audSpec_Rfilt_sma_de[22]_pctlrange0-1               0.974359   \n",
       "2647          audSpec_Rfilt_sma_de[22]_stddev               0.974359   \n",
       "3235              mfcc_sma_de[1]_pctlrange0-1               0.974359   \n",
       "5177              mfcc_sma[1]_meanRisingSlope               0.974359   \n",
       "5396                       mfcc_sma[11]_amean               0.974359   \n",
       "5880          audSpec_Rfilt_sma_de[22]_rqmean               0.974359   \n",
       "\n",
       "      dev_44k_accuracies_lr  dev_16k_accuracies_svm  dev_44k_accuracies_svm  \\\n",
       "1545               1.000000                1.000000                1.000000   \n",
       "1823               1.000000                1.000000                1.000000   \n",
       "3529               1.000000                0.974359                1.000000   \n",
       "2645               1.000000                0.974359                0.974359   \n",
       "1824               0.974359                0.974359                0.974359   \n",
       "1833               0.974359                0.974359                0.974359   \n",
       "2644               0.974359                0.974359                0.974359   \n",
       "2646               0.974359                0.974359                0.974359   \n",
       "2647               0.974359                0.974359                0.974359   \n",
       "3235               0.974359                0.974359                0.974359   \n",
       "5177               0.974359                0.974359                0.974359   \n",
       "5396               0.974359                0.974359                0.974359   \n",
       "5880               0.974359                0.974359                0.974359   \n",
       "\n",
       "      mean_dev_accuracies_lr  mean_dev_accuracies_svm  mean_dev_accuracies_all  \n",
       "1545                1.000000                 1.000000                 1.000000  \n",
       "1823                1.000000                 1.000000                 1.000000  \n",
       "3529                0.987179                 0.987179                 0.987179  \n",
       "2645                0.987179                 0.974359                 0.980769  \n",
       "1824                0.974359                 0.974359                 0.974359  \n",
       "1833                0.974359                 0.974359                 0.974359  \n",
       "2644                0.974359                 0.974359                 0.974359  \n",
       "2646                0.974359                 0.974359                 0.974359  \n",
       "2647                0.974359                 0.974359                 0.974359  \n",
       "3235                0.974359                 0.974359                 0.974359  \n",
       "5177                0.974359                 0.974359                 0.974359  \n",
       "5396                0.974359                 0.974359                 0.974359  \n",
       "5880                0.974359                 0.974359                 0.974359  "
      ]
     },
     "execution_count": 30,
     "metadata": {},
     "output_type": "execute_result"
    }
   ],
   "source": [
    "bruteforce_df[(bruteforce_df.iloc[:,1:] > 0.95).all(axis=1)].sort_values(by='mean_dev_accuracies_all', ascending=False)"
   ]
  },
  {
   "cell_type": "code",
   "execution_count": 29,
   "id": "4f6cf823-ddc6-40ec-87bb-e5e82c7d7854",
   "metadata": {},
   "outputs": [
    {
     "data": {
      "text/html": [
       "<div>\n",
       "<style scoped>\n",
       "    .dataframe tbody tr th:only-of-type {\n",
       "        vertical-align: middle;\n",
       "    }\n",
       "\n",
       "    .dataframe tbody tr th {\n",
       "        vertical-align: top;\n",
       "    }\n",
       "\n",
       "    .dataframe thead th {\n",
       "        text-align: right;\n",
       "    }\n",
       "</style>\n",
       "<table border=\"1\" class=\"dataframe\">\n",
       "  <thead>\n",
       "    <tr style=\"text-align: right;\">\n",
       "      <th></th>\n",
       "      <th>features</th>\n",
       "      <th>dev_16k_accuracies_lr</th>\n",
       "      <th>dev_44k_accuracies_lr</th>\n",
       "      <th>dev_16k_accuracies_svm</th>\n",
       "      <th>dev_44k_accuracies_svm</th>\n",
       "      <th>mean_dev_accuracies_lr</th>\n",
       "      <th>mean_dev_accuracies_svm</th>\n",
       "      <th>mean_dev_accuracies_all</th>\n",
       "    </tr>\n",
       "  </thead>\n",
       "  <tbody>\n",
       "    <tr>\n",
       "      <th>5546</th>\n",
       "      <td>pcm_zcr_sma_de_meanFallingSlope</td>\n",
       "      <td>1.000000</td>\n",
       "      <td>0.948718</td>\n",
       "      <td>1.000000</td>\n",
       "      <td>0.974359</td>\n",
       "      <td>0.974359</td>\n",
       "      <td>0.987179</td>\n",
       "      <td>0.980769</td>\n",
       "    </tr>\n",
       "    <tr>\n",
       "      <th>242</th>\n",
       "      <td>pcm_zcr_sma_de_lpgain</td>\n",
       "      <td>0.923077</td>\n",
       "      <td>0.974359</td>\n",
       "      <td>0.897436</td>\n",
       "      <td>0.974359</td>\n",
       "      <td>0.948718</td>\n",
       "      <td>0.935897</td>\n",
       "      <td>0.942308</td>\n",
       "    </tr>\n",
       "    <tr>\n",
       "      <th>247</th>\n",
       "      <td>pcm_zcr_sma_de_lpc4</td>\n",
       "      <td>0.897436</td>\n",
       "      <td>0.974359</td>\n",
       "      <td>0.846154</td>\n",
       "      <td>0.948718</td>\n",
       "      <td>0.935897</td>\n",
       "      <td>0.897436</td>\n",
       "      <td>0.916667</td>\n",
       "    </tr>\n",
       "    <tr>\n",
       "      <th>243</th>\n",
       "      <td>pcm_zcr_sma_de_lpc0</td>\n",
       "      <td>0.871795</td>\n",
       "      <td>0.974359</td>\n",
       "      <td>0.871795</td>\n",
       "      <td>0.974359</td>\n",
       "      <td>0.923077</td>\n",
       "      <td>0.923077</td>\n",
       "      <td>0.923077</td>\n",
       "    </tr>\n",
       "    <tr>\n",
       "      <th>5543</th>\n",
       "      <td>pcm_zcr_sma_de_minRangeRel</td>\n",
       "      <td>0.820513</td>\n",
       "      <td>0.974359</td>\n",
       "      <td>0.846154</td>\n",
       "      <td>0.974359</td>\n",
       "      <td>0.897436</td>\n",
       "      <td>0.910256</td>\n",
       "      <td>0.903846</td>\n",
       "    </tr>\n",
       "  </tbody>\n",
       "</table>\n",
       "</div>"
      ],
      "text/plain": [
       "                             features  dev_16k_accuracies_lr  \\\n",
       "5546  pcm_zcr_sma_de_meanFallingSlope               1.000000   \n",
       "242             pcm_zcr_sma_de_lpgain               0.923077   \n",
       "247               pcm_zcr_sma_de_lpc4               0.897436   \n",
       "243               pcm_zcr_sma_de_lpc0               0.871795   \n",
       "5543       pcm_zcr_sma_de_minRangeRel               0.820513   \n",
       "\n",
       "      dev_44k_accuracies_lr  dev_16k_accuracies_svm  dev_44k_accuracies_svm  \\\n",
       "5546               0.948718                1.000000                0.974359   \n",
       "242                0.974359                0.897436                0.974359   \n",
       "247                0.974359                0.846154                0.948718   \n",
       "243                0.974359                0.871795                0.974359   \n",
       "5543               0.974359                0.846154                0.974359   \n",
       "\n",
       "      mean_dev_accuracies_lr  mean_dev_accuracies_svm  mean_dev_accuracies_all  \n",
       "5546                0.974359                 0.987179                 0.980769  \n",
       "242                 0.948718                 0.935897                 0.942308  \n",
       "247                 0.935897                 0.897436                 0.916667  \n",
       "243                 0.923077                 0.923077                 0.923077  \n",
       "5543                0.897436                 0.910256                 0.903846  "
      ]
     },
     "execution_count": 29,
     "metadata": {},
     "output_type": "execute_result"
    }
   ],
   "source": [
    "bruteforce_df[(bruteforce_df[\"features\"].str.contains(\"zcr\")) & (bruteforce_df.iloc[:,1:] > 0.95).any(axis=1)].sort_values(by='dev_16k_accuracies_lr', ascending=False)"
   ]
  },
  {
   "cell_type": "code",
   "execution_count": 40,
   "id": "e93935fc-f7c1-479f-bf34-d9bb83d9b25a",
   "metadata": {},
   "outputs": [
    {
     "data": {
      "text/plain": [
       "1545                           mfcc_sma[1]_lpc0\n",
       "1823                        mfcc_sma[10]_lpgain\n",
       "1824                          mfcc_sma[10]_lpc0\n",
       "1833                     mfcc_sma[11]_quartile2\n",
       "2644     audSpec_Rfilt_sma_de[22]_percentile1.0\n",
       "2645    audSpec_Rfilt_sma_de[22]_percentile99.0\n",
       "2646      audSpec_Rfilt_sma_de[22]_pctlrange0-1\n",
       "2647            audSpec_Rfilt_sma_de[22]_stddev\n",
       "3235                mfcc_sma_de[1]_pctlrange0-1\n",
       "3529                       mfcc_sma_de[10]_lpc0\n",
       "5177                mfcc_sma[1]_meanRisingSlope\n",
       "5396                         mfcc_sma[11]_amean\n",
       "5880            audSpec_Rfilt_sma_de[22]_rqmean\n",
       "Name: features, dtype: object"
      ]
     },
     "execution_count": 40,
     "metadata": {},
     "output_type": "execute_result"
    }
   ],
   "source": [
    "selected_features = bruteforce_df[(bruteforce_df.iloc[:,1:] > 0.95).all(axis=1)]['features']\n",
    "selected_features"
   ]
  },
  {
   "cell_type": "markdown",
   "id": "ebe8752f-a6c7-40b6-84e5-5deb2c141f9e",
   "metadata": {
    "tags": []
   },
   "source": [
    "### Performance on held out test data"
   ]
  },
  {
   "cell_type": "code",
   "execution_count": 32,
   "id": "e2951801-1462-4ede-915b-99ed7f3eb773",
   "metadata": {},
   "outputs": [],
   "source": [
    "#data concatenation\n",
    "X_train_final_16k = pd.concat([X_train_16k, X_dev_16k])\n",
    "y_train_final_16k = pd.concat([y_train_16k, y_dev_16k])\n",
    "\n",
    "X_train_final_44k = pd.concat([X_train_44k, X_dev_44k])\n",
    "y_train_final_44k = pd.concat([y_train_44k, y_dev_44k])\n",
    "\n",
    "X_train_final = pd.concat([X_train_44k, X_dev_44k, X_train_16k, X_dev_16k])\n",
    "y_train_final = pd.concat([y_train_44k, y_dev_44k, y_train_16k, y_dev_16k])\n",
    "\n",
    "X_test_final = pd.concat([X_test_44k, X_test_16k])\n",
    "y_test_final = pd.concat([y_test_44k, y_test_16k])"
   ]
  },
  {
   "cell_type": "markdown",
   "id": "7820c323-16e7-47e3-9cd0-6ff1cdf89ef5",
   "metadata": {
    "tags": []
   },
   "source": [
    "#### Model 1"
   ]
  },
  {
   "cell_type": "code",
   "execution_count": 33,
   "id": "923525b4-8161-4aa0-b5f7-913d6285a570",
   "metadata": {},
   "outputs": [],
   "source": [
    "#select features identified from brute force\n",
    "feature_index_1 = df_16k.columns.intersection(['mfcc_sma[10]_lpgain', 'mfcc_sma[1]_lpc0'])"
   ]
  },
  {
   "cell_type": "code",
   "execution_count": 34,
   "id": "0a20805c-ea4e-483c-8f81-346f0c560ed1",
   "metadata": {},
   "outputs": [
    {
     "name": "stdout",
     "output_type": "stream",
     "text": [
      "<---- Train and Test Accuracy ---->\n",
      "\n",
      "Logistic accuracy train = 98.958\n",
      "Logistic accuracy test = 97.674\n",
      "\n",
      "<---- Classification Report ---->\n",
      "\n",
      "              precision    recall  f1-score   support\n",
      "\n",
      "           0       0.95      1.00      0.97        19\n",
      "           1       1.00      0.96      0.98        24\n",
      "\n",
      "    accuracy                           0.98        43\n",
      "   macro avg       0.97      0.98      0.98        43\n",
      "weighted avg       0.98      0.98      0.98        43\n",
      "\n",
      "\n",
      "<---- Confusion Matrix ---->\n",
      "\n"
     ]
    },
    {
     "data": {
      "image/png": "[encoded data removed]",
      "text/plain": [
       "<Figure size 640x480 with 1 Axes>"
      ]
     },
     "metadata": {},
     "output_type": "display_data"
    },
    {
     "name": "stdout",
     "output_type": "stream",
     "text": [
      "\n",
      "<---- ROC-AUC ---->\n",
      "\n",
      "No Skill: ROC AUC=0.500\n",
      "Logistic: ROC AUC=0.993\n",
      "\n"
     ]
    },
    {
     "data": {
      "image/png": "[encoded data removed]",
      "text/plain": [
       "<Figure size 640x480 with 1 Axes>"
      ]
     },
     "metadata": {},
     "output_type": "display_data"
    }
   ],
   "source": [
    "#run model on 16k\n",
    "model_svm_16k = svm.SVC(probability=True)\n",
    "run_model_on_test_data(model_svm_16k, X_train_final_16k, X_test_16k, y_train_final_16k, y_test_16k, feature_index_1)"
   ]
  },
  {
   "cell_type": "code",
   "execution_count": 35,
   "id": "9a687293-e274-424f-9f2f-8cdc46e536fc",
   "metadata": {},
   "outputs": [
    {
     "name": "stdout",
     "output_type": "stream",
     "text": [
      "<---- Train and Test Accuracy ---->\n",
      "\n",
      "Logistic accuracy train = 98.438\n",
      "Logistic accuracy test = 97.674\n",
      "\n",
      "<---- Classification Report ---->\n",
      "\n",
      "              precision    recall  f1-score   support\n",
      "\n",
      "           0       0.95      1.00      0.97        19\n",
      "           1       1.00      0.96      0.98        24\n",
      "\n",
      "    accuracy                           0.98        43\n",
      "   macro avg       0.97      0.98      0.98        43\n",
      "weighted avg       0.98      0.98      0.98        43\n",
      "\n",
      "\n",
      "<---- Confusion Matrix ---->\n",
      "\n"
     ]
    },
    {
     "data": {
      "image/png": "[encoded data removed]",
      "text/plain": [
       "<Figure size 640x480 with 1 Axes>"
      ]
     },
     "metadata": {},
     "output_type": "display_data"
    },
    {
     "name": "stdout",
     "output_type": "stream",
     "text": [
      "\n",
      "<---- ROC-AUC ---->\n",
      "\n",
      "No Skill: ROC AUC=0.500\n",
      "Logistic: ROC AUC=0.998\n",
      "\n"
     ]
    },
    {
     "data": {
      "image/png": "[encoded data removed]",
      "text/plain": [
       "<Figure size 640x480 with 1 Axes>"
      ]
     },
     "metadata": {},
     "output_type": "display_data"
    }
   ],
   "source": [
    "#run model on 44k\n",
    "model_svm_44k = svm.SVC(probability=True)\n",
    "run_model_on_test_data(model_svm_44k, X_train_final_44k, X_test_44k, y_train_final_44k, y_test_44k, feature_index_1)"
   ]
  },
  {
   "cell_type": "code",
   "execution_count": 36,
   "id": "0efd10de-4fa9-4162-b574-e363938849c0",
   "metadata": {},
   "outputs": [
    {
     "name": "stdout",
     "output_type": "stream",
     "text": [
      "<---- Train and Test Accuracy ---->\n",
      "\n",
      "Logistic accuracy train = 99.089\n",
      "Logistic accuracy test = 97.674\n",
      "\n",
      "<---- Classification Report ---->\n",
      "\n",
      "              precision    recall  f1-score   support\n",
      "\n",
      "           0       0.95      1.00      0.97        38\n",
      "           1       1.00      0.96      0.98        48\n",
      "\n",
      "    accuracy                           0.98        86\n",
      "   macro avg       0.97      0.98      0.98        86\n",
      "weighted avg       0.98      0.98      0.98        86\n",
      "\n",
      "\n",
      "<---- Confusion Matrix ---->\n",
      "\n"
     ]
    },
    {
     "data": {
      "image/png": "[encoded data removed]",
      "text/plain": [
       "<Figure size 640x480 with 1 Axes>"
      ]
     },
     "metadata": {},
     "output_type": "display_data"
    },
    {
     "name": "stdout",
     "output_type": "stream",
     "text": [
      "\n",
      "<---- ROC-AUC ---->\n",
      "\n",
      "No Skill: ROC AUC=0.500\n",
      "Logistic: ROC AUC=0.994\n",
      "\n"
     ]
    },
    {
     "data": {
      "image/png": "[encoded data removed]",
      "text/plain": [
       "<Figure size 640x480 with 1 Axes>"
      ]
     },
     "metadata": {},
     "output_type": "display_data"
    }
   ],
   "source": [
    "#run model on both together\n",
    "model_svm_combined = svm.SVC(probability=True)\n",
    "run_model_on_test_data(model_svm_combined, X_train_final, X_test_final, y_train_final, y_test_final, feature_index_1)"
   ]
  },
  {
   "cell_type": "markdown",
   "id": "983f66be-3982-4050-87fe-fdcb9ef75b36",
   "metadata": {
    "jp-MarkdownHeadingCollapsed": true,
    "tags": []
   },
   "source": [
    "#### Model 2"
   ]
  },
  {
   "cell_type": "code",
   "execution_count": 41,
   "id": "15255e0f-0590-4647-9b18-2310c32fda5a",
   "metadata": {},
   "outputs": [
    {
     "data": {
      "text/plain": [
       "Index(['mfcc_sma[1]_lpc0', 'mfcc_sma[10]_lpgain', 'mfcc_sma[10]_lpc0',\n",
       "       'mfcc_sma[11]_quartile2', 'audSpec_Rfilt_sma_de[22]_percentile1.0',\n",
       "       'audSpec_Rfilt_sma_de[22]_percentile99.0',\n",
       "       'audSpec_Rfilt_sma_de[22]_pctlrange0-1',\n",
       "       'audSpec_Rfilt_sma_de[22]_stddev', 'mfcc_sma_de[1]_pctlrange0-1',\n",
       "       'mfcc_sma_de[10]_lpc0', 'mfcc_sma[1]_meanRisingSlope',\n",
       "       'mfcc_sma[11]_amean', 'audSpec_Rfilt_sma_de[22]_rqmean'],\n",
       "      dtype='object')"
      ]
     },
     "execution_count": 41,
     "metadata": {},
     "output_type": "execute_result"
    }
   ],
   "source": [
    "#select features identified from brute force\n",
    "feature_index_2 = df_16k.columns.intersection(selected_features)\n",
    "feature_index_2"
   ]
  },
  {
   "cell_type": "code",
   "execution_count": 42,
   "id": "9d0fa08b-6182-454b-9921-ab0c9d448576",
   "metadata": {},
   "outputs": [
    {
     "name": "stdout",
     "output_type": "stream",
     "text": [
      "<---- Train and Test Accuracy ---->\n",
      "\n",
      "Logistic accuracy train = 100.000\n",
      "Logistic accuracy test = 100.000\n",
      "\n",
      "<---- Classification Report ---->\n",
      "\n",
      "              precision    recall  f1-score   support\n",
      "\n",
      "           0       1.00      1.00      1.00        19\n",
      "           1       1.00      1.00      1.00        24\n",
      "\n",
      "    accuracy                           1.00        43\n",
      "   macro avg       1.00      1.00      1.00        43\n",
      "weighted avg       1.00      1.00      1.00        43\n",
      "\n",
      "\n",
      "<---- Confusion Matrix ---->\n",
      "\n"
     ]
    },
    {
     "data": {
      "image/png": "[encoded data removed]",
      "text/plain": [
       "<Figure size 640x480 with 1 Axes>"
      ]
     },
     "metadata": {},
     "output_type": "display_data"
    },
    {
     "name": "stdout",
     "output_type": "stream",
     "text": [
      "\n",
      "<---- ROC-AUC ---->\n",
      "\n",
      "No Skill: ROC AUC=0.500\n",
      "Logistic: ROC AUC=1.000\n",
      "\n"
     ]
    },
    {
     "data": {
      "image/png": "[encoded data removed]",
      "text/plain": [
       "<Figure size 640x480 with 1 Axes>"
      ]
     },
     "metadata": {},
     "output_type": "display_data"
    }
   ],
   "source": [
    "#run model on 16k\n",
    "model_svm_16k = svm.SVC(probability=True)\n",
    "run_model_on_test_data(model_svm_16k, X_train_final_16k, X_test_16k, y_train_final_16k, y_test_16k, feature_index_2)"
   ]
  },
  {
   "cell_type": "code",
   "execution_count": 43,
   "id": "4d607e89-06fb-4db1-b427-960d787f801c",
   "metadata": {},
   "outputs": [
    {
     "name": "stdout",
     "output_type": "stream",
     "text": [
      "<---- Train and Test Accuracy ---->\n",
      "\n",
      "Logistic accuracy train = 100.000\n",
      "Logistic accuracy test = 100.000\n",
      "\n",
      "<---- Classification Report ---->\n",
      "\n",
      "              precision    recall  f1-score   support\n",
      "\n",
      "           0       1.00      1.00      1.00        19\n",
      "           1       1.00      1.00      1.00        24\n",
      "\n",
      "    accuracy                           1.00        43\n",
      "   macro avg       1.00      1.00      1.00        43\n",
      "weighted avg       1.00      1.00      1.00        43\n",
      "\n",
      "\n",
      "<---- Confusion Matrix ---->\n",
      "\n"
     ]
    },
    {
     "data": {
      "image/png": "[encoded data removed]",
      "text/plain": [
       "<Figure size 640x480 with 1 Axes>"
      ]
     },
     "metadata": {},
     "output_type": "display_data"
    },
    {
     "name": "stdout",
     "output_type": "stream",
     "text": [
      "\n",
      "<---- ROC-AUC ---->\n",
      "\n",
      "No Skill: ROC AUC=0.500\n",
      "Logistic: ROC AUC=1.000\n",
      "\n"
     ]
    },
    {
     "data": {
      "image/png": "[encoded data removed]",
      "text/plain": [
       "<Figure size 640x480 with 1 Axes>"
      ]
     },
     "metadata": {},
     "output_type": "display_data"
    }
   ],
   "source": [
    "#run model on 44k\n",
    "model_svm_44k = svm.SVC(probability=True)\n",
    "run_model_on_test_data(model_svm_44k, X_train_final_44k, X_test_44k, y_train_final_44k, y_test_44k, feature_index_2)"
   ]
  },
  {
   "cell_type": "code",
   "execution_count": 44,
   "id": "2f77ba20-2142-42d2-9124-f60afcdbe0c3",
   "metadata": {},
   "outputs": [
    {
     "name": "stdout",
     "output_type": "stream",
     "text": [
      "<---- Train and Test Accuracy ---->\n",
      "\n",
      "Logistic accuracy train = 100.000\n",
      "Logistic accuracy test = 100.000\n",
      "\n",
      "<---- Classification Report ---->\n",
      "\n",
      "              precision    recall  f1-score   support\n",
      "\n",
      "           0       1.00      1.00      1.00        38\n",
      "           1       1.00      1.00      1.00        48\n",
      "\n",
      "    accuracy                           1.00        86\n",
      "   macro avg       1.00      1.00      1.00        86\n",
      "weighted avg       1.00      1.00      1.00        86\n",
      "\n",
      "\n",
      "<---- Confusion Matrix ---->\n",
      "\n"
     ]
    },
    {
     "data": {
      "image/png": "[encoded data removed]",
      "text/plain": [
       "<Figure size 640x480 with 1 Axes>"
      ]
     },
     "metadata": {},
     "output_type": "display_data"
    },
    {
     "name": "stdout",
     "output_type": "stream",
     "text": [
      "\n",
      "<---- ROC-AUC ---->\n",
      "\n",
      "No Skill: ROC AUC=0.500\n",
      "Logistic: ROC AUC=1.000\n",
      "\n"
     ]
    },
    {
     "data": {
      "image/png": "[encoded data removed]",
      "text/plain": [
       "<Figure size 640x480 with 1 Axes>"
      ]
     },
     "metadata": {},
     "output_type": "display_data"
    }
   ],
   "source": [
    "#run model on both together\n",
    "model_svm_combined = svm.SVC(probability=True)\n",
    "run_model_on_test_data(model_svm_combined, X_train_final, X_test_final, y_train_final, y_test_final, feature_index_2)"
   ]
  },
  {
   "cell_type": "code",
   "execution_count": 46,
   "id": "460d429c-7ed9-4d78-907a-92baf5ab344b",
   "metadata": {},
   "outputs": [
    {
     "name": "stdout",
     "output_type": "stream",
     "text": [
      "<---- Train and Test Accuracy ---->\n",
      "\n",
      "Logistic accuracy train = 100.000\n",
      "Logistic accuracy test = 100.000\n",
      "\n",
      "<---- Classification Report ---->\n",
      "\n",
      "              precision    recall  f1-score   support\n",
      "\n",
      "           0       1.00      1.00      1.00        38\n",
      "           1       1.00      1.00      1.00        48\n",
      "\n",
      "    accuracy                           1.00        86\n",
      "   macro avg       1.00      1.00      1.00        86\n",
      "weighted avg       1.00      1.00      1.00        86\n",
      "\n",
      "\n",
      "<---- Confusion Matrix ---->\n",
      "\n"
     ]
    },
    {
     "data": {
      "image/png": "[encoded data removed]",
      "text/plain": [
       "<Figure size 640x480 with 1 Axes>"
      ]
     },
     "metadata": {},
     "output_type": "display_data"
    },
    {
     "name": "stdout",
     "output_type": "stream",
     "text": [
      "\n",
      "<---- ROC-AUC ---->\n",
      "\n",
      "No Skill: ROC AUC=0.500\n",
      "Logistic: ROC AUC=1.000\n",
      "\n"
     ]
    },
    {
     "data": {
      "image/png": "[encoded data removed]",
      "text/plain": [
       "<Figure size 640x480 with 1 Axes>"
      ]
     },
     "metadata": {},
     "output_type": "display_data"
    }
   ],
   "source": [
    "#run model on both together\n",
    "model_lr_combined = LogisticRegression()\n",
    "run_model_on_test_data(model_lr_combined, X_train_final, X_test_final, y_train_final, y_test_final, feature_index_2)"
   ]
  },
  {
   "cell_type": "markdown",
   "id": "17d3c8c4-2321-4ff6-b88d-d26918c69a4d",
   "metadata": {},
   "source": [
    "# Appendix (WIP)"
   ]
  },
  {
   "cell_type": "code",
   "execution_count": 49,
   "id": "b8b7e0f5-6e6d-465d-850d-44df67d04475",
   "metadata": {},
   "outputs": [],
   "source": [
    "def run_bflr_2(X_train, y_train, X_dev, y_dev, features):\n",
    "    \n",
    "    train_accuracies = []\n",
    "    dev_accuracies = []\n",
    "    \n",
    "    for i in tqdm(range(len(features))):\n",
    "        \n",
    "        model_lr = LogisticRegression()\n",
    "        model_lr.fit(X_train[features[i]].iloc[:,i].to_numpy().reshape(-1, 1), y_train)\n",
    "        y_hat_train = model_lr.predict(X_train[features[i]].iloc[:,i].to_numpy().reshape(-1, 1))\n",
    "        y_hat_dev = model_lr.predict(X_dev[features[i]].iloc[:,i].to_numpy().reshape(-1, 1))\n",
    "        train_accuracy = accuracy_score(y_train, y_hat_train)\n",
    "        train_accuracies.append(train_accuracy)        \n",
    "        dev_accuracy = accuracy_score(y_dev, y_hat_dev)\n",
    "        dev_accuracies.append(dev_accuracy)\n",
    "    \n",
    "    print(\"\\nAverage train accuracy: {}\".format(np.mean(train_accuracies)))\n",
    "    print(\"Average dev accuracy: {}\\n\".format(np.mean(dev_accuracies)))\n",
    "    \n",
    "    return dev_accuracies"
   ]
  },
  {
   "cell_type": "code",
   "execution_count": null,
   "id": "9c0c4526-509d-4ac4-9dac-d5e4ec5d6c8b",
   "metadata": {},
   "outputs": [],
   "source": []
  },
  {
   "cell_type": "code",
   "execution_count": null,
   "id": "dac1da53-ab70-4e00-bd18-11cfbeae5252",
   "metadata": {},
   "outputs": [],
   "source": []
  },
  {
   "cell_type": "code",
   "execution_count": null,
   "id": "ab72d1b0-f39e-4307-87ed-77f85596fd72",
   "metadata": {},
   "outputs": [],
   "source": []
  },
  {
   "cell_type": "code",
   "execution_count": null,
   "id": "d43fe880-265d-4188-af99-8605553ade89",
   "metadata": {},
   "outputs": [],
   "source": []
  },
  {
   "cell_type": "code",
   "execution_count": null,
   "id": "9c57ed1b-0c71-40c9-a8cb-9f671bf25d22",
   "metadata": {},
   "outputs": [],
   "source": []
  },
  {
   "cell_type": "code",
   "execution_count": null,
   "id": "ea0292ef-ecb4-47a4-acb5-1683a8204d6e",
   "metadata": {},
   "outputs": [],
   "source": []
  },
  {
   "cell_type": "code",
   "execution_count": null,
   "id": "cd5bcad2-87df-418d-a84a-e67455dc2c04",
   "metadata": {},
   "outputs": [],
   "source": []
  },
  {
   "cell_type": "code",
   "execution_count": null,
   "id": "50bb4de4-d755-42d0-96b6-a3e49558987b",
   "metadata": {},
   "outputs": [],
   "source": []
  },
  {
   "cell_type": "code",
   "execution_count": null,
   "id": "31118c35-501d-46ee-a522-29bcb1feff4f",
   "metadata": {},
   "outputs": [],
   "source": []
  },
  {
   "cell_type": "code",
   "execution_count": null,
   "id": "c2244ae4-9dd0-4397-9eb0-4718334ecdda",
   "metadata": {},
   "outputs": [],
   "source": []
  }
 ],
 "metadata": {
  "kernelspec": {
   "display_name": "deepfake-detection-v1",
   "language": "python",
   "name": "deepfake-detection-v1"
  },
  "language_info": {
   "codemirror_mode": {
    "name": "ipython",
    "version": 3
   },
   "file_extension": ".py",
   "mimetype": "text/x-python",
   "name": "python",
   "nbconvert_exporter": "python",
   "pygments_lexer": "ipython3",
   "version": "3.9.16"
  }
 },
 "nbformat": 4,
 "nbformat_minor": 5
}
