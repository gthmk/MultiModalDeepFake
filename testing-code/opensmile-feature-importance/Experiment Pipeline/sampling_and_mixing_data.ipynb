{
 "cells": [
  {
   "cell_type": "markdown",
   "id": "6ceeadd9-3b19-48cd-9fcb-95714652cfa2",
   "metadata": {},
   "source": [
    "# Sampling and Mixing data for experiments\n",
    "\n",
    "- update 03/19/2023: need to fix `.mp4` issues"
   ]
  },
  {
   "cell_type": "code",
   "execution_count": 1,
   "id": "26fb5f88-9ec4-4803-a48a-db9a0b517fde",
   "metadata": {},
   "outputs": [],
   "source": [
    "import opensmile \n",
    "import pandas as pd\n",
    "import numpy as np\n",
    "import os\n",
    "import random\n",
    "from tqdm import tqdm\n",
    "from pathlib import Path\n",
    "base_path = \"/home/ubuntu/\""
   ]
  },
  {
   "cell_type": "code",
   "execution_count": 2,
   "id": "6f1668bb-de29-495c-ab02-b44bd0b62251",
   "metadata": {},
   "outputs": [],
   "source": [
    "metadata_original = base_path + 'data/wavefake_data/LJ_metadata_Original.csv'\n",
    "metadata_16k = base_path + 'data/wavefake_data/LJ_metadata_16000KHz.csv'\n",
    "metadata_16k64 = base_path + 'data/wavefake_data/LJ_metadata_16000KHz_AAC_64K.csv'\n",
    "metadata_16k196 = base_path + 'data/wavefake_data/LJ_metadata_16000KHz_AAC_196K.csv'"
   ]
  },
  {
   "cell_type": "code",
   "execution_count": 3,
   "id": "2ad05202-4f17-4d4b-b754-907a62a0c364",
   "metadata": {},
   "outputs": [],
   "source": [
    "df_metadata_original = pd.read_csv(metadata_original).drop(columns=['Unnamed: 0'])\n",
    "df_metadata_16k = pd.read_csv(metadata_16k).drop(columns=['Unnamed: 0'])\n",
    "df_metadata_16k64 = pd.read_csv(metadata_16k64).drop(columns=['Unnamed: 0'])\n",
    "df_metadata_16k196 = pd.read_csv(metadata_16k196).drop(columns=['Unnamed: 0'])"
   ]
  },
  {
   "cell_type": "code",
   "execution_count": 4,
   "id": "34c15a16-b35f-4676-9fcf-dfd487551e79",
   "metadata": {},
   "outputs": [],
   "source": [
    "df_metadata_16k64['id'] = df_metadata_16k64['id'].apply(lambda x: x.split('.')[0])"
   ]
  },
  {
   "cell_type": "code",
   "execution_count": 5,
   "id": "7862a883-8357-4564-bb15-a5a0f47b7e7b",
   "metadata": {},
   "outputs": [
    {
     "data": {
      "text/plain": [
       "Index(['id', 'Main_ID', 'Secondary_ID', 'Real', 'Full_Band_MelGan', 'HifiGan',\n",
       "       'MelGan', 'MelGanLarge', 'Multi_Band_MelGan', 'Parallel_WaveGan',\n",
       "       'Waveglow', 'ElevenLabs', 'transcript_1', 'transcript_2'],\n",
       "      dtype='object')"
      ]
     },
     "execution_count": 5,
     "metadata": {},
     "output_type": "execute_result"
    }
   ],
   "source": [
    "df_metadata_original.columns"
   ]
  },
  {
   "cell_type": "code",
   "execution_count": 6,
   "id": "d6479365-1e4e-4dad-b202-b33a1c989c3f",
   "metadata": {},
   "outputs": [
    {
     "data": {
      "text/plain": [
       "id                       0\n",
       "Main_ID                  0\n",
       "Secondary_ID             0\n",
       "Real                     0\n",
       "Full_Band_MelGan         0\n",
       "HifiGan                  0\n",
       "MelGan                   0\n",
       "MelGanLarge              0\n",
       "Multi_Band_MelGan        0\n",
       "Parallel_WaveGan         0\n",
       "Waveglow                 0\n",
       "ElevenLabs           11389\n",
       "transcript_1             0\n",
       "transcript_2            16\n",
       "dtype: int64"
      ]
     },
     "execution_count": 6,
     "metadata": {},
     "output_type": "execute_result"
    }
   ],
   "source": [
    "df_metadata_original.isna().sum()"
   ]
  },
  {
   "cell_type": "code",
   "execution_count": 7,
   "id": "dca34c79-76b0-43f3-a132-0d50cdbef813",
   "metadata": {},
   "outputs": [
    {
     "data": {
      "text/plain": [
       "(True, True, True)"
      ]
     },
     "execution_count": 7,
     "metadata": {},
     "output_type": "execute_result"
    }
   ],
   "source": [
    "np.all(df_metadata_original['id'] == df_metadata_16k['id']), np.all(df_metadata_original['id'] == df_metadata_16k64['id']), np.all(df_metadata_original['id'] == df_metadata_16k196['id'])"
   ]
  },
  {
   "cell_type": "code",
   "execution_count": 8,
   "id": "6efc8fd1-ea98-402e-8222-cb43a73ebd1e",
   "metadata": {},
   "outputs": [],
   "source": [
    "def process_dataframe_for_arch(df, arch, n_sample=800, random_state=42):\n",
    "    \n",
    "    #select and remove samples from provided dataframe\n",
    "    df_sample = df[df[arch].notna()].sample(n=n_sample, random_state=random_state)\n",
    "    df.drop(df_sample.index, axis=0, inplace=True)\n",
    "    \n",
    "    #process real\n",
    "    df_real = df_sample[['id', 'Real']].rename(columns={'Real':'file'})\n",
    "    df_real['type'] = arch\n",
    "    df_real['fake'] = 0\n",
    "    \n",
    "    #process fake\n",
    "    df_fake = df_sample[['id', arch]].rename(columns={arch:'file'})\n",
    "    df_fake['type'] = arch\n",
    "    df_fake['fake'] = 1\n",
    "    \n",
    "    #concat and return\n",
    "    df_selected = pd.concat([df_real, df_fake]).reset_index()\n",
    "    \n",
    "    return df_selected    "
   ]
  },
  {
   "cell_type": "markdown",
   "id": "feb86589-7853-4949-9efc-01a0f1d1053f",
   "metadata": {},
   "source": [
    "## Without transcoding samples"
   ]
  },
  {
   "cell_type": "code",
   "execution_count": 9,
   "id": "14634cb0-8b7f-4bd4-8943-dc0b130bf960",
   "metadata": {
    "tags": []
   },
   "outputs": [
    {
     "name": "stdout",
     "output_type": "stream",
     "text": [
      "['ElevenLabs', 'Waveglow', 'Parallel_WaveGan', 'Multi_Band_MelGan', 'MelGanLarge', 'MelGan', 'HifiGan', 'Full_Band_MelGan']\n"
     ]
    }
   ],
   "source": [
    "#this df contains all samples of data\n",
    "df_all_samples = df_metadata_original.copy()\n",
    "\n",
    "#get list of all archs and print to check Elevenlabs goes first since it has limited data\n",
    "archs = df_all_samples.columns.to_list()[4:12]\n",
    "archs.reverse()\n",
    "print(archs)\n",
    "\n",
    "#create sampled df\n",
    "df_selected_samples = pd.DataFrame()\n",
    "for arch in archs:\n",
    "    df_ = process_dataframe_for_arch(df_all_samples, arch)\n",
    "    df_selected_samples = pd.concat([df_selected_samples, df_])\n",
    "\n",
    "df_selected_samples.reset_index(inplace=True)\n",
    "df_selected_samples.drop(columns=df_selected_samples.columns.to_list()[:2], inplace=True)"
   ]
  },
  {
   "cell_type": "code",
   "execution_count": 10,
   "id": "18f1fd6e-ea5e-464c-a235-f588775e0025",
   "metadata": {},
   "outputs": [
    {
     "data": {
      "text/plain": [
       "ElevenLabs           1600\n",
       "Waveglow             1600\n",
       "Parallel_WaveGan     1600\n",
       "Multi_Band_MelGan    1600\n",
       "MelGanLarge          1600\n",
       "MelGan               1600\n",
       "HifiGan              1600\n",
       "Full_Band_MelGan     1600\n",
       "Name: type, dtype: int64"
      ]
     },
     "execution_count": 10,
     "metadata": {},
     "output_type": "execute_result"
    }
   ],
   "source": [
    "#sanity check\n",
    "df_selected_samples.type.value_counts()"
   ]
  },
  {
   "cell_type": "markdown",
   "id": "2bb207a3-19f5-4c2d-990b-f3bd8a835986",
   "metadata": {},
   "source": [
    "## Generate OpenSmile Features"
   ]
  },
  {
   "cell_type": "code",
   "execution_count": 11,
   "id": "3639c007-a9e3-495c-8571-bb8a90486c44",
   "metadata": {},
   "outputs": [],
   "source": [
    "smile_functionals_ComParE = opensmile.Smile(\n",
    "    feature_set=opensmile.FeatureSet.ComParE_2016,\n",
    "    feature_level=opensmile.FeatureLevel.Functionals)"
   ]
  },
  {
   "cell_type": "code",
   "execution_count": 12,
   "id": "6c9ef3aa-c4d1-4d54-9930-997946d5cf4f",
   "metadata": {},
   "outputs": [],
   "source": [
    "def generate_smile_features(df_sample, smile_object, save=False, savefile=None):\n",
    "    \n",
    "    print(\"Generating openSMILE features\\n\")\n",
    "    \n",
    "    smile_df = pd.DataFrame()\n",
    "    \n",
    "    for i in tqdm(range(df_sample.shape[0])):\n",
    "        \n",
    "        df = smile_object.process_file(df_sample.file[i]).reset_index()\n",
    "        \n",
    "        duration = df['end'] - df['start']\n",
    "        duration = duration.astype('timedelta64[ms]')/1000\n",
    "        df.insert(loc=1, column='duration(seconds)', value=duration)\n",
    "        \n",
    "        df.drop(columns=['start', 'end'], inplace=True)\n",
    "        \n",
    "        smile_df = pd.concat([smile_df, df_sample.merge(df, on='file')]).reset_index(drop=True)\n",
    "        \n",
    "    if save==True:\n",
    "        smile_df.to_csv(savefile, index=False)\n",
    "        print(\"\\nsaved to {}\".format(savefile))        \n",
    "        \n",
    "    if save==False:\n",
    "        return smile_df"
   ]
  },
  {
   "cell_type": "code",
   "execution_count": 13,
   "id": "cb9ee5dc-468a-424a-a45b-f7c946cd183d",
   "metadata": {},
   "outputs": [
    {
     "name": "stdout",
     "output_type": "stream",
     "text": [
      "Generating openSMILE features\n",
      "\n"
     ]
    },
    {
     "name": "stderr",
     "output_type": "stream",
     "text": [
      "100%|██████████| 12800/12800 [49:16<00:00,  4.33it/s] \n"
     ]
    },
    {
     "name": "stdout",
     "output_type": "stream",
     "text": [
      "\n",
      "saved to /home/ubuntu/testing-code/opensmile-feature-importance/smile_dfs/0319-lj_experimental_data_v2.csv\n"
     ]
    }
   ],
   "source": [
    "savefile = base_path + 'testing-code/opensmile-feature-importance/smile_dfs/' + '0319-lj_experimental_data_v2.csv'\n",
    "generate_smile_features(df_selected_samples, smile_functionals_ComParE, save=True, savefile=savefile)"
   ]
  },
  {
   "cell_type": "code",
   "execution_count": null,
   "id": "e1ea575d-9a2c-408e-8265-01cb66d813d8",
   "metadata": {},
   "outputs": [],
   "source": []
  }
 ],
 "metadata": {
  "kernelspec": {
   "display_name": "deepfake-detection-v1",
   "language": "python",
   "name": "deepfake-detection-v1"
  },
  "language_info": {
   "codemirror_mode": {
    "name": "ipython",
    "version": 3
   },
   "file_extension": ".py",
   "mimetype": "text/x-python",
   "name": "python",
   "nbconvert_exporter": "python",
   "pygments_lexer": "ipython3",
   "version": "3.9.16"
  }
 },
 "nbformat": 4,
 "nbformat_minor": 5
}
