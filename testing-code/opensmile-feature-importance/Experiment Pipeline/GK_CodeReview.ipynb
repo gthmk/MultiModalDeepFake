{
 "cells": [
  {
   "cell_type": "markdown",
   "id": "9dc43b06-33f0-466c-bf4a-8d1202fd9253",
   "metadata": {
    "tags": []
   },
   "source": [
    "## Imports"
   ]
  },
  {
   "cell_type": "code",
   "execution_count": 1,
   "id": "f3ebec8c-2671-47fe-bce1-923a303c64d2",
   "metadata": {},
   "outputs": [],
   "source": [
    "import sys\n",
    "sys.path.append(\"/home/ubuntu/MultiModalDeepFake\")\n",
    "import pandas as pd\n",
    "import numpy as np\n",
    "#import nemo.collections.asr as nemo_asr "
   ]
  },
  {
   "cell_type": "code",
   "execution_count": 2,
   "id": "9bec0463-7893-48af-811c-98e65d9cdc3b",
   "metadata": {},
   "outputs": [],
   "source": [
    "from packages.LJDataLoader import LJDataLoader\n",
    "#from packages.AudioEmbeddingsManager import AudioEmbeddingsManager\n",
    "from packages.ModelManager import ModelManager\n",
    "from packages.CadenceModelManager import CadenceModelManager\n",
    "import packages.AnalysisManager as am\n",
    "from packages.SmileFeatureManager import SmileFeatureManager"
   ]
  },
  {
   "cell_type": "code",
   "execution_count": 3,
   "id": "2e75b4b8-ac9f-4a48-84a6-ac931ad2caf0",
   "metadata": {},
   "outputs": [],
   "source": [
    "from packages.SmileFeatureSelector import *"
   ]
  },
  {
   "cell_type": "markdown",
   "id": "c7347a54-9c94-42bd-b3a1-5d53e96b2d88",
   "metadata": {
    "jp-MarkdownHeadingCollapsed": true,
    "tags": []
   },
   "source": [
    "# Smile Code Review"
   ]
  },
  {
   "cell_type": "markdown",
   "id": "3faf0fc4-7061-4fb9-b4d8-e2e0e71cf04a",
   "metadata": {
    "jp-MarkdownHeadingCollapsed": true,
    "tags": []
   },
   "source": [
    "## Functions from Pipeline"
   ]
  },
  {
   "cell_type": "code",
   "execution_count": null,
   "id": "4610a54d-b0e6-4fd1-880f-5a7d0755fcdc",
   "metadata": {},
   "outputs": [],
   "source": [
    "def generate_split(fake_cols, file_path):\n",
    "\n",
    "    \n",
    "    loader = LJDataLoader(data_path=file_path)\n",
    "    \n",
    "    #GK: comment out sample cos shuffle = True which causes sampling to be redundant\n",
    "    \n",
    "    loader.sample(0.1)\n",
    "    loader.splitData()\n",
    "\n",
    "    source_architectures = ['Full_Band_MelGan', 'HifiGan', 'MelGan', 'MelGanLarge', 'Multi_Band_MelGan', 'Parallel_WaveGan', 'Waveglow']\n",
    "    new_col_name = 'RandWaveFake'\n",
    "    loader.selectRandomArchitecture(target_col=new_col_name, source_cols=source_architectures)\n",
    "    \n",
    "    source_architectures = ['RandWaveFake', 'ElevenLabs', 'UberDuck']\n",
    "    new_col_name = 'Fake'\n",
    "    loader.selectRandomArchitecture(target_col=new_col_name, source_cols=source_architectures)\n",
    "\n",
    "    #data_df = loader.generateFinalDataFrame(real_col='Real', fake_cols=['RandWaveFake', 'ElevenLabs', 'UberDuck'])\n",
    "    data_df = loader.generateFinalDataFrame(real_col='Real', fake_cols=fake_cols)\n",
    "    \n",
    "    train_count = data_df[data_df['type'] == 'train'].shape[0]\n",
    "    dev_count = data_df[data_df['type'] == 'dev'].shape[0]\n",
    "    test_count = data_df[data_df['type'] == 'test'].shape[0]\n",
    "\n",
    "    print(f'# of Train instances: {train_count}')\n",
    "    print(f'# of Dev instances: {dev_count}')\n",
    "    print(f'# of Test instances: {test_count}')\n",
    "    \n",
    "    return data_df"
   ]
  },
  {
   "cell_type": "code",
   "execution_count": null,
   "id": "e3cedc58-50bb-4c4b-a6b2-10ea9e9f507a",
   "metadata": {},
   "outputs": [],
   "source": [
    "def generate_features(data_df, window_size, silence_threshold):\n",
    "    speaker_model = nemo_asr.models.EncDecSpeakerLabelModel.from_pretrained(model_name='titanet_large')\n",
    "    embedding_manager = AudioEmbeddingsManager(model=speaker_model, data=data_df)\n",
    "    em_feature_df, em_feature_cols = embedding_manager.generateFeatureDf()\n",
    "    \n",
    "    \"\"\"\n",
    "    cadence_manager = CadenceModelManager(data_df)\n",
    "    cad_feature_df, cad_feature_cols, scalar =  cadence_manager.run_cadence_feature_extraction_pipeline(window_size, silence_threshold) # Add param for load features or not\n",
    "    \"\"\"\n",
    "    \n",
    "    smile_manager = SmileFeatureManager(data_df)\n",
    "    #change number of features (feature_count=10 default)\n",
    "    os_binary_feature_df, os_binary_feature_cols = smile_manager.generateFeatureDf('random_forest', label_type='binary', feature_count=25)\n",
    "    os_multiclass_feature_df, os_multiclass_feature_cols = smile_manager.generateFeatureDf('random_forest', label_type='multiclass', feature_count=25)\n",
    "    \n",
    "    feature_store = {}\n",
    "    feature_store['titanet'] = (em_feature_df, em_feature_cols)\n",
    "    feature_store['openSmile_binary'] = (os_binary_feature_df, os_binary_feature_cols)\n",
    "    feature_store['openSmile_multiclass'] = (os_multiclass_feature_df, os_multiclass_feature_cols)\n",
    "    #feature_store['cadence'] = (cad_feature_df, cad_feature_cols)\n",
    "    \n",
    "    return feature_store\n",
    "    "
   ]
  },
  {
   "cell_type": "code",
   "execution_count": null,
   "id": "c24f37ba-a72b-49f7-8d1a-d9156ff29227",
   "metadata": {},
   "outputs": [],
   "source": [
    "def train_eval(feature_store, fake_cols):\n",
    "    results_cols = ['model', 'fake_cols', 'label_type', 'acc', 'cls_acc', 'loss']\n",
    "    results = pd.DataFrame(columns=results_cols)\n",
    "    \n",
    "    for label_type in ['label', 'multiclass_label']:\n",
    "        for k, v in feature_store.items():\n",
    "            model_manager = ModelManager('decision_tree', v[0], v[1], merge_train_dev=True)\n",
    "            model_manager.trainPredict(label_col=label_type)\n",
    "            print(\"\\nClass Accuracy\")\n",
    "            print(model_manager.class_accuracy)\n",
    "            print(\"\\nAccuracy\")\n",
    "            print(model_manager.accuracy)\n",
    "            results = results.append(pd.DataFrame({'model':[k], 'label_type':[label_type], 'fake_cols':[fake_cols], 'acc':[model_manager.accuracy], 'cls_acc':[model_manager.class_accuracy],  'loss':[model_manager.log_loss_value]}))\n",
    "    \n",
    "    return results  \n",
    "    "
   ]
  },
  {
   "cell_type": "code",
   "execution_count": null,
   "id": "4686cdb7-ec33-48ed-a3dd-eda4f9c7b4b4",
   "metadata": {},
   "outputs": [],
   "source": [
    "def run(fake_cols, metadata_path, name, data_df=None, window_size=100, silence_threshold=0.1):\n",
    "    if data_df is None:\n",
    "        data_df = generate_split(fake_cols, metadata_path)\n",
    "    feature_store = generate_features(data_df, window_size, silence_threshold)\n",
    "    results = train_eval(feature_store, fake_cols)\n",
    "    results.to_csv(f'/home/ubuntu/data/results/{name}.csv', index=False)\n",
    "    "
   ]
  },
  {
   "cell_type": "code",
   "execution_count": null,
   "id": "32ab6c75-7fe9-4741-ab76-c151153c7202",
   "metadata": {},
   "outputs": [],
   "source": []
  },
  {
   "cell_type": "code",
   "execution_count": null,
   "id": "e775277a-2cf7-49c9-b885-8498eaae0a0d",
   "metadata": {},
   "outputs": [],
   "source": []
  },
  {
   "cell_type": "code",
   "execution_count": null,
   "id": "240be561-8a43-4ebb-a78b-11fa2dd40885",
   "metadata": {},
   "outputs": [],
   "source": []
  },
  {
   "cell_type": "markdown",
   "id": "3772eb83-909d-4fc1-8cac-6becf3b5ea91",
   "metadata": {
    "tags": []
   },
   "source": [
    "## Testing Code"
   ]
  },
  {
   "cell_type": "markdown",
   "id": "e6713c0d-0d06-4e46-a1e6-d1ade071331b",
   "metadata": {
    "jp-MarkdownHeadingCollapsed": true,
    "tags": []
   },
   "source": [
    "### Data Loading"
   ]
  },
  {
   "cell_type": "code",
   "execution_count": null,
   "id": "9872a4fc-1857-4b00-8728-5114f28b99b2",
   "metadata": {},
   "outputs": [],
   "source": [
    "fcols = ['ElevenLabs', 'UberDuck', 'Full_Band_MelGan', 'HifiGan', 'MelGan', 'MelGanLarge', 'Multi_Band_MelGan', 'Parallel_WaveGan', 'Waveglow']\n",
    "\n",
    "#filepaths\n",
    "fp = '/home/ubuntu/data/wavefake_data/LJ_metadata_16000KHz.csv'\n",
    "fp2 = '/home/ubuntu/data/wavefake_data/LJ_metadata_16KHz_Laundered.csv'\n",
    "\n",
    "df = generate_split(fcols, fp)"
   ]
  },
  {
   "cell_type": "code",
   "execution_count": null,
   "id": "7c550289-3109-4620-9ac1-ca3081e28149",
   "metadata": {},
   "outputs": [],
   "source": [
    "smile_manager = SmileFeatureManager(df)"
   ]
  },
  {
   "cell_type": "code",
   "execution_count": null,
   "id": "7e9e1ef6-7e6a-4148-a93d-58151edc5f8e",
   "metadata": {},
   "outputs": [],
   "source": [
    "testing_df = smile_manager.feature_df.copy()"
   ]
  },
  {
   "cell_type": "code",
   "execution_count": null,
   "id": "a998544f-1bea-4fc5-a48e-dda1abb604ad",
   "metadata": {},
   "outputs": [],
   "source": [
    "testing_df.columns"
   ]
  },
  {
   "cell_type": "code",
   "execution_count": null,
   "id": "ee54f01f-8101-4674-b37e-c3dce829c251",
   "metadata": {},
   "outputs": [],
   "source": [
    "list(df.columns)"
   ]
  },
  {
   "cell_type": "code",
   "execution_count": null,
   "id": "93eec6c6-8a35-479f-9623-8e741f1b6b83",
   "metadata": {},
   "outputs": [],
   "source": [
    "list(df.architecture.unique())[1:]"
   ]
  },
  {
   "cell_type": "markdown",
   "id": "de74d146-af31-4d71-af5b-e49e6f7ae838",
   "metadata": {
    "jp-MarkdownHeadingCollapsed": true,
    "tags": []
   },
   "source": [
    "### BruteForce Testing"
   ]
  },
  {
   "cell_type": "code",
   "execution_count": null,
   "id": "dba7cccb-8115-48d7-84cf-df7d0669d81d",
   "metadata": {},
   "outputs": [],
   "source": [
    "sm_fs_bf = smileFeatureSelectorBruteForce(testing_df, metadata=list(df.columns),\n",
    "                                          real_col='Real',\n",
    "                                          fake_cols=list(df.architecture.unique())[1:])"
   ]
  },
  {
   "cell_type": "code",
   "execution_count": null,
   "id": "b0d294e2-69e6-42fd-bfe9-9b4598a534ea",
   "metadata": {},
   "outputs": [],
   "source": [
    "sm_fs_bf.generate_data()"
   ]
  },
  {
   "cell_type": "code",
   "execution_count": null,
   "id": "cf6aa598-9687-407f-a1cb-60f03671a4e0",
   "metadata": {},
   "outputs": [],
   "source": [
    "sm_fs_bf.bffs_data.columns"
   ]
  },
  {
   "cell_type": "code",
   "execution_count": null,
   "id": "1f71e784-7f8d-4dc5-a91c-d24ac4412a05",
   "metadata": {
    "jupyter": {
     "source_hidden": true
    },
    "tags": []
   },
   "outputs": [],
   "source": [
    "sm_fs_bf.bffs_data[(sm_fs_bf.bffs_data.iloc[:,1:] > 0.9).any(axis=1)]"
   ]
  },
  {
   "cell_type": "code",
   "execution_count": null,
   "id": "12a7def2-af7d-46fc-bcaf-de9eece0d278",
   "metadata": {},
   "outputs": [],
   "source": [
    "sm_fs_bf.bffs_data[(sm_fs_bf.bffs_data.iloc[:,1] > 0.8)]"
   ]
  },
  {
   "cell_type": "code",
   "execution_count": null,
   "id": "85a36795-77fa-448b-9c80-0f1602cb8083",
   "metadata": {},
   "outputs": [],
   "source": [
    "mask = sm_fs_bf.bffs_data['features'].str.contains('zcr')\n",
    "td = sm_fs_bf.bffs_data[mask]\n",
    "td.sort_values(by='ElevenLabs', ascending=False)"
   ]
  },
  {
   "cell_type": "code",
   "execution_count": null,
   "id": "1fe2a905-654e-40fe-9d4d-4f23db757071",
   "metadata": {},
   "outputs": [],
   "source": [
    "sm_fs_bf.FS_from_col(sort_col='ElevenLabs')"
   ]
  },
  {
   "cell_type": "markdown",
   "id": "5a8e28a5-51b7-44d1-9811-008918c3a944",
   "metadata": {
    "jp-MarkdownHeadingCollapsed": true,
    "tags": []
   },
   "source": [
    "### SelectFromModel Testing"
   ]
  },
  {
   "cell_type": "code",
   "execution_count": null,
   "id": "9a115a07-fe08-440f-8746-c7bcefedb440",
   "metadata": {},
   "outputs": [],
   "source": [
    "selector = smileFeatureSelectFromModel(testing_df, metadata=list(df.columns),\n",
    "                                          real_col='Real',\n",
    "                                          fake_cols=list(df.architecture.unique())[1:])"
   ]
  },
  {
   "cell_type": "code",
   "execution_count": null,
   "id": "ad3844f1-2f60-4058-828f-31a638926152",
   "metadata": {},
   "outputs": [],
   "source": [
    "df_fb = selector.select_features_binary(max_features=25, return_df=True)"
   ]
  },
  {
   "cell_type": "code",
   "execution_count": null,
   "id": "81698d77-c617-4893-8c53-713c83cf886a",
   "metadata": {},
   "outputs": [],
   "source": [
    "df_fm = selector.select_features_multiclass(max_features=25, return_df=True)"
   ]
  },
  {
   "cell_type": "markdown",
   "id": "74a6c503-15c4-40f6-b568-fb6bfa84f12e",
   "metadata": {
    "jp-MarkdownHeadingCollapsed": true,
    "tags": []
   },
   "source": [
    "### Model Testing"
   ]
  },
  {
   "cell_type": "code",
   "execution_count": null,
   "id": "f8bae31c-4692-4942-8dbf-670b49374599",
   "metadata": {},
   "outputs": [],
   "source": [
    "type(df_fb[0]), type(df_fb[1])"
   ]
  },
  {
   "cell_type": "code",
   "execution_count": null,
   "id": "8dec853a-8b28-4977-b214-75254dc61438",
   "metadata": {},
   "outputs": [],
   "source": [
    "df_fb[0]"
   ]
  },
  {
   "cell_type": "code",
   "execution_count": null,
   "id": "77882d10-24fe-4a73-832f-279c5a43bd08",
   "metadata": {},
   "outputs": [],
   "source": [
    "df_fb[0].label.value_counts()"
   ]
  },
  {
   "cell_type": "code",
   "execution_count": null,
   "id": "83072dd6-6f7e-4f9c-a672-1cde81e8e35b",
   "metadata": {},
   "outputs": [],
   "source": [
    "model_manager1 = ModelManager('svm', df_fb[0], df_fb[1], merge_train_dev=True)\n",
    "model_manager1.trainPredict(label_col='label')\n",
    "print(model_manager1.class_accuracy)"
   ]
  },
  {
   "cell_type": "code",
   "execution_count": null,
   "id": "f3becf64-3f7f-465f-9ae1-fa745debe5d3",
   "metadata": {},
   "outputs": [],
   "source": [
    "model_manager1.data.label.value_counts()"
   ]
  },
  {
   "cell_type": "code",
   "execution_count": null,
   "id": "cddbe3b2-d719-4854-a282-ff2dc8e6a458",
   "metadata": {},
   "outputs": [],
   "source": [
    "model_manager1.data.multiclass_label.value_counts()"
   ]
  },
  {
   "cell_type": "code",
   "execution_count": null,
   "id": "4eed8e81-c827-4d63-911a-03d5d24b34be",
   "metadata": {},
   "outputs": [],
   "source": [
    "model_manager1.accuracy"
   ]
  },
  {
   "cell_type": "code",
   "execution_count": null,
   "id": "554b05ee-14d7-4fa6-8f42-7b2682e16181",
   "metadata": {},
   "outputs": [],
   "source": [
    "model_manager2 = ModelManager('svm', df_fm[0], df_fm[1], merge_train_dev=True)\n",
    "model_manager2.trainPredict(label_col='multiclass_label')\n",
    "print(model_manager2.accuracy)"
   ]
  },
  {
   "cell_type": "code",
   "execution_count": null,
   "id": "913d8639-6634-43b3-9c30-be3114b8ef5f",
   "metadata": {},
   "outputs": [],
   "source": [
    "print(model_manager2.class_accuracy)"
   ]
  },
  {
   "cell_type": "code",
   "execution_count": null,
   "id": "7725906f-d4e2-4b7b-8fb2-4e5beea4efe9",
   "metadata": {},
   "outputs": [],
   "source": [
    "model_manager3 = ModelManager('decision_tree', df_fb[0], df_fb[1], merge_train_dev=True)\n",
    "model_manager3.trainPredict(label_col='label')\n",
    "print(model_manager3.accuracy)\n",
    "print(model_manager3.class_accuracy)"
   ]
  },
  {
   "cell_type": "code",
   "execution_count": null,
   "id": "3c0fe753-ba06-41a5-9d39-f38c33783a60",
   "metadata": {},
   "outputs": [],
   "source": [
    "model_manager4 = ModelManager('decision_tree', df_fm[0], df_fm[1], merge_train_dev=True)\n",
    "model_manager4.trainPredict(label_col='multiclass_label')\n",
    "print(model_manager4.accuracy)\n",
    "print(model_manager4.class_accuracy)"
   ]
  },
  {
   "cell_type": "markdown",
   "id": "8e2e749e-8878-4f54-a05f-caccdc4ea567",
   "metadata": {
    "jp-MarkdownHeadingCollapsed": true,
    "tags": []
   },
   "source": [
    "### Testing ACC SCORE"
   ]
  },
  {
   "cell_type": "code",
   "execution_count": null,
   "id": "e176a89b-fbec-453a-8f80-2813dbfd7180",
   "metadata": {},
   "outputs": [],
   "source": [
    "metadata_path = '/home/ubuntu/data/wavefake_data/LJ_metadata_16000KHz.csv'\n",
    "fake_cols = ['ElevenLabs', 'UberDuck', 'RandWaveFake']\n",
    "data_df = generate_split(fake_cols, metadata_path)"
   ]
  },
  {
   "cell_type": "code",
   "execution_count": null,
   "id": "fd83ae0f-1c04-4126-bad5-3e692f8d6c7c",
   "metadata": {},
   "outputs": [],
   "source": [
    "feature_store = generate_features(data_df, window_size=100, silence_threshold=0.1)"
   ]
  },
  {
   "cell_type": "code",
   "execution_count": null,
   "id": "f68974a2-5bfa-475e-a9f4-f27085e723e0",
   "metadata": {},
   "outputs": [],
   "source": [
    "data = feature_store['openSmile_multiclass'][0]\n",
    "features = feature_store['openSmile_multiclass'][1]"
   ]
  },
  {
   "cell_type": "code",
   "execution_count": null,
   "id": "ba944486-9e37-4639-b7b3-0e9a2b66baf5",
   "metadata": {},
   "outputs": [],
   "source": [
    "#model_manager = ModelManager('logreg', v0, v1, merge_train_dev=True)"
   ]
  },
  {
   "cell_type": "code",
   "execution_count": null,
   "id": "780b1ed4-30f3-4183-ae47-54a551519549",
   "metadata": {},
   "outputs": [],
   "source": [
    "#model_manager.trainPredict(label_col='multiclass_label')"
   ]
  },
  {
   "cell_type": "code",
   "execution_count": null,
   "id": "02f14eb5-749a-4e7b-8a88-3221b30bc8e1",
   "metadata": {},
   "outputs": [],
   "source": []
  },
  {
   "cell_type": "code",
   "execution_count": null,
   "id": "62ffc088-ee9c-4dbe-8713-7a54efc4d20e",
   "metadata": {},
   "outputs": [],
   "source": [
    "train = data[(data.type=='train') | (data.type=='dev')].dropna()\n",
    "test = data[data.type=='test'].dropna()"
   ]
  },
  {
   "cell_type": "code",
   "execution_count": null,
   "id": "4cfdc365-60e6-41db-94d8-032d04068587",
   "metadata": {},
   "outputs": [],
   "source": [
    "from sklearn.linear_model import LogisticRegression\n",
    "\n",
    "model_lr = LogisticRegression(max_iter=100000000)\n",
    "\n",
    "X_train = train[features].reset_index(drop=True)\n",
    "X_test = test[features].reset_index(drop=True)\n",
    "\n",
    "y_train = train['multiclass_label'].reset_index(drop=True)\n",
    "y_test = test['multiclass_label'].reset_index(drop=True)\n",
    "\n",
    "model_lr.fit(X_train, y_train)\n",
    "\n",
    "y_pred = model_lr.predict(X_test)"
   ]
  },
  {
   "cell_type": "code",
   "execution_count": null,
   "id": "d5c09757-78df-4cda-b50a-8f8669cbd66b",
   "metadata": {},
   "outputs": [],
   "source": [
    "from sklearn.metrics import accuracy_score, log_loss, roc_curve\n",
    "\n",
    "accuracy_score(y_test, y_pred)"
   ]
  },
  {
   "cell_type": "code",
   "execution_count": null,
   "id": "1c9161c2-b0f6-42ee-a0b2-d99a8b1da0cf",
   "metadata": {},
   "outputs": [],
   "source": [
    "set(y_test)"
   ]
  },
  {
   "cell_type": "code",
   "execution_count": null,
   "id": "6ee171f2-755d-43dd-9d95-d870c31696a4",
   "metadata": {},
   "outputs": [],
   "source": [
    "a = np.where(y_test==0)[0]"
   ]
  },
  {
   "cell_type": "code",
   "execution_count": null,
   "id": "a5e872ca-9a01-425c-9b12-184940deeaee",
   "metadata": {},
   "outputs": [],
   "source": [
    "a"
   ]
  },
  {
   "cell_type": "code",
   "execution_count": null,
   "id": "4e4a8391-3eb7-4a09-831d-c493b707cba9",
   "metadata": {},
   "outputs": [],
   "source": [
    "y_test.index"
   ]
  },
  {
   "cell_type": "code",
   "execution_count": null,
   "id": "04789a7c-6261-44ba-a29b-7e100a28959d",
   "metadata": {},
   "outputs": [],
   "source": [
    "class_accuracy = {}\n",
    "for cls in range(len(set(y_test))):\n",
    "    cls_idx = np.where(y_test==cls)[0]\n",
    "    cls_test = y_test[cls_idx]\n",
    "    cls_pred = y_pred[cls_idx]\n",
    "    class_accuracy[cls] = accuracy_score(cls_test, cls_pred)"
   ]
  },
  {
   "cell_type": "code",
   "execution_count": null,
   "id": "21ab9853-aed7-4e66-8004-0ebf7dd565d7",
   "metadata": {},
   "outputs": [],
   "source": [
    "class_accuracy"
   ]
  },
  {
   "cell_type": "code",
   "execution_count": null,
   "id": "64c8b507-06a7-49af-bb07-26ad4fafa73c",
   "metadata": {},
   "outputs": [],
   "source": [
    "np.mean(list(class_accuracy.values()))"
   ]
  },
  {
   "cell_type": "code",
   "execution_count": null,
   "id": "1e1c8428-cf29-4db2-a425-6b632f4effd9",
   "metadata": {},
   "outputs": [],
   "source": [
    "cls_idx = np.where(y_test==1)[0]\n",
    "len(cls_idx)"
   ]
  },
  {
   "cell_type": "code",
   "execution_count": null,
   "id": "454b4d8e-59ed-4f5f-a8b3-85b548bf9d33",
   "metadata": {},
   "outputs": [],
   "source": [
    "def find_same_values(array1, array2, number):\n",
    "    result = []\n",
    "    for i in range(len(array1)):\n",
    "        if array1[i] == array2[i] == number:\n",
    "            result.append(i)\n",
    "    return result"
   ]
  },
  {
   "cell_type": "code",
   "execution_count": null,
   "id": "f1e7f884-c678-421a-950e-d2d8049724ee",
   "metadata": {},
   "outputs": [],
   "source": [
    "len(find_same_values(y_test, y_pred, 1))/len(np.where(y_test==1)[0])"
   ]
  },
  {
   "cell_type": "code",
   "execution_count": null,
   "id": "3d22cad3-98fe-41b3-9b9d-99929b010add",
   "metadata": {},
   "outputs": [],
   "source": [
    "for cls in range(len(set(y_test))):\n",
    "    a = len(find_same_values(y_test, y_pred, cls))/len(np.where(y_test==cls)[0])\n",
    "    print(a)"
   ]
  },
  {
   "cell_type": "markdown",
   "id": "b5863ec8-68cd-4dca-b3a7-d8917471871a",
   "metadata": {
    "jp-MarkdownHeadingCollapsed": true,
    "tags": []
   },
   "source": [
    "# Cadence Code Review"
   ]
  },
  {
   "cell_type": "markdown",
   "id": "2e7186ea-078c-47a5-84fc-96c4e45feee5",
   "metadata": {},
   "source": [
    "## Data Loading"
   ]
  },
  {
   "cell_type": "code",
   "execution_count": 4,
   "id": "660e0e8b-ecca-4f0f-a0fb-58286c5df4cb",
   "metadata": {},
   "outputs": [],
   "source": [
    "def generate_split(fake_cols, file_path):\n",
    "\n",
    "    \n",
    "    loader = LJDataLoader(data_path=file_path)\n",
    "    loader.splitData()\n",
    "\n",
    "    source_architectures = ['Full_Band_MelGan', 'HifiGan', 'MelGan', 'MelGanLarge', 'Multi_Band_MelGan', 'Parallel_WaveGan', 'Waveglow']\n",
    "    new_col_name = 'RandWaveFake'\n",
    "    loader.selectRandomArchitecture(target_col=new_col_name, source_cols=source_architectures)\n",
    "    \n",
    "    source_architectures = ['ElevenLabs', 'UberDuck']\n",
    "    new_col_name = 'EL_UD_Fake'\n",
    "    loader.selectRandomArchitecture(target_col=new_col_name, source_cols=source_architectures)\n",
    "    \n",
    "    source_architectures = ['RandWaveFake', 'ElevenLabs', 'UberDuck']\n",
    "    new_col_name = 'Fake'\n",
    "    loader.selectRandomArchitecture(target_col=new_col_name, source_cols=source_architectures)\n",
    "\n",
    "    #data_df = loader.generateFinalDataFrame(real_col='Real', fake_cols=['RandWaveFake', 'ElevenLabs', 'UberDuck'])\n",
    "    data_df = loader.generateFinalDataFrame(real_col='Real', fake_cols=fake_cols)\n",
    "    \n",
    "    train_count = data_df[data_df['type'] == 'train'].shape[0]\n",
    "    dev_count = data_df[data_df['type'] == 'dev'].shape[0]\n",
    "    test_count = data_df[data_df['type'] == 'test'].shape[0]\n",
    "\n",
    "    print(f'# of Train instances: {train_count}')\n",
    "    print(f'# of Dev instances: {dev_count}')\n",
    "    print(f'# of Test instances: {test_count}')\n",
    "    \n",
    "    return data_df"
   ]
  },
  {
   "cell_type": "code",
   "execution_count": 5,
   "id": "62eed7dd-fe82-44c8-a986-5d1633fc1be0",
   "metadata": {},
   "outputs": [
    {
     "name": "stdout",
     "output_type": "stream",
     "text": [
      "# of Train instances: 78330\n",
      "# of Dev instances: 26110\n",
      "# of Test instances: 26110\n"
     ]
    }
   ],
   "source": [
    "fcols = ['ElevenLabs', 'UberDuck', 'Full_Band_MelGan', 'HifiGan', 'MelGan', 'MelGanLarge', 'Multi_Band_MelGan', 'Parallel_WaveGan', 'Waveglow']\n",
    "\n",
    "#filepaths\n",
    "fp = '/home/ubuntu/data/wavefake_data/LJ_metadata_16000KHz.csv'\n",
    "fp2 = '/home/ubuntu/data/wavefake_data/LJ_metadata_16KHz_Laundered.csv'\n",
    "\n",
    "df = generate_split(fcols, fp)"
   ]
  },
  {
   "cell_type": "code",
   "execution_count": 6,
   "id": "c195e59d-d938-40ea-a1e3-935effebf402",
   "metadata": {},
   "outputs": [
    {
     "data": {
      "text/html": [
       "<div>\n",
       "<style scoped>\n",
       "    .dataframe tbody tr th:only-of-type {\n",
       "        vertical-align: middle;\n",
       "    }\n",
       "\n",
       "    .dataframe tbody tr th {\n",
       "        vertical-align: top;\n",
       "    }\n",
       "\n",
       "    .dataframe thead th {\n",
       "        text-align: right;\n",
       "    }\n",
       "</style>\n",
       "<table border=\"1\" class=\"dataframe\">\n",
       "  <thead>\n",
       "    <tr style=\"text-align: right;\">\n",
       "      <th></th>\n",
       "      <th>type</th>\n",
       "      <th>id</th>\n",
       "      <th>architecture</th>\n",
       "      <th>path</th>\n",
       "      <th>label</th>\n",
       "      <th>multiclass_label</th>\n",
       "    </tr>\n",
       "  </thead>\n",
       "  <tbody>\n",
       "    <tr>\n",
       "      <th>0</th>\n",
       "      <td>train</td>\n",
       "      <td>LJ049-0064</td>\n",
       "      <td>Real</td>\n",
       "      <td>/home/ubuntu/data/wavefake_data/LJSpeech_1.1/w...</td>\n",
       "      <td>0</td>\n",
       "      <td>0</td>\n",
       "    </tr>\n",
       "    <tr>\n",
       "      <th>1</th>\n",
       "      <td>train</td>\n",
       "      <td>LJ027-0024</td>\n",
       "      <td>Real</td>\n",
       "      <td>/home/ubuntu/data/wavefake_data/LJSpeech_1.1/w...</td>\n",
       "      <td>0</td>\n",
       "      <td>0</td>\n",
       "    </tr>\n",
       "    <tr>\n",
       "      <th>2</th>\n",
       "      <td>train</td>\n",
       "      <td>LJ016-0258</td>\n",
       "      <td>Real</td>\n",
       "      <td>/home/ubuntu/data/wavefake_data/LJSpeech_1.1/w...</td>\n",
       "      <td>0</td>\n",
       "      <td>0</td>\n",
       "    </tr>\n",
       "    <tr>\n",
       "      <th>3</th>\n",
       "      <td>train</td>\n",
       "      <td>LJ008-0284</td>\n",
       "      <td>Real</td>\n",
       "      <td>/home/ubuntu/data/wavefake_data/LJSpeech_1.1/w...</td>\n",
       "      <td>0</td>\n",
       "      <td>0</td>\n",
       "    </tr>\n",
       "    <tr>\n",
       "      <th>4</th>\n",
       "      <td>train</td>\n",
       "      <td>LJ037-0141</td>\n",
       "      <td>Real</td>\n",
       "      <td>/home/ubuntu/data/wavefake_data/LJSpeech_1.1/w...</td>\n",
       "      <td>0</td>\n",
       "      <td>0</td>\n",
       "    </tr>\n",
       "  </tbody>\n",
       "</table>\n",
       "</div>"
      ],
      "text/plain": [
       "    type          id architecture  \\\n",
       "0  train  LJ049-0064         Real   \n",
       "1  train  LJ027-0024         Real   \n",
       "2  train  LJ016-0258         Real   \n",
       "3  train  LJ008-0284         Real   \n",
       "4  train  LJ037-0141         Real   \n",
       "\n",
       "                                                path  label  multiclass_label  \n",
       "0  /home/ubuntu/data/wavefake_data/LJSpeech_1.1/w...      0                 0  \n",
       "1  /home/ubuntu/data/wavefake_data/LJSpeech_1.1/w...      0                 0  \n",
       "2  /home/ubuntu/data/wavefake_data/LJSpeech_1.1/w...      0                 0  \n",
       "3  /home/ubuntu/data/wavefake_data/LJSpeech_1.1/w...      0                 0  \n",
       "4  /home/ubuntu/data/wavefake_data/LJSpeech_1.1/w...      0                 0  "
      ]
     },
     "execution_count": 6,
     "metadata": {},
     "output_type": "execute_result"
    }
   ],
   "source": [
    "df.head()"
   ]
  },
  {
   "cell_type": "code",
   "execution_count": 7,
   "id": "fbb64d5f-9d6e-4437-98b3-ea9863670068",
   "metadata": {},
   "outputs": [
    {
     "data": {
      "text/plain": [
       "Real                 13055\n",
       "ElevenLabs           13055\n",
       "UberDuck             13055\n",
       "Full_Band_MelGan     13055\n",
       "HifiGan              13055\n",
       "MelGan               13055\n",
       "MelGanLarge          13055\n",
       "Multi_Band_MelGan    13055\n",
       "Parallel_WaveGan     13055\n",
       "Waveglow             13055\n",
       "Name: architecture, dtype: int64"
      ]
     },
     "execution_count": 7,
     "metadata": {},
     "output_type": "execute_result"
    }
   ],
   "source": [
    "df.architecture.value_counts()"
   ]
  },
  {
   "cell_type": "code",
   "execution_count": 8,
   "id": "a05c6c1f-3c6c-40a4-9fa2-88ecd1b5cb86",
   "metadata": {},
   "outputs": [
    {
     "data": {
      "text/plain": [
       "Index(['type', 'id', 'architecture', 'path', 'label', 'multiclass_label'], dtype='object')"
      ]
     },
     "execution_count": 8,
     "metadata": {},
     "output_type": "execute_result"
    }
   ],
   "source": [
    "df.columns"
   ]
  },
  {
   "cell_type": "markdown",
   "id": "abfe854b-6400-42a7-81b6-615c2e9a663e",
   "metadata": {},
   "source": [
    "## Testing"
   ]
  },
  {
   "cell_type": "code",
   "execution_count": 9,
   "id": "0ab5a30d-3620-42b4-b0f4-286a45d12eae",
   "metadata": {},
   "outputs": [],
   "source": [
    "cadence_manager = CadenceModelManager(df)"
   ]
  },
  {
   "cell_type": "code",
   "execution_count": 10,
   "id": "204fc8ba-5ae1-4300-91fe-d05bb36fb869",
   "metadata": {},
   "outputs": [
    {
     "name": "stderr",
     "output_type": "stream",
     "text": [
      "100%|██████████| 10/10 [00:00<00:00, 16.61it/s]\n"
     ]
    }
   ],
   "source": [
    "cad_feature_df, cad_feature_cols, scalar =  cadence_manager.run_cadence_feature_extraction_pipeline()"
   ]
  },
  {
   "cell_type": "code",
   "execution_count": 11,
   "id": "162edde2-d135-40af-9d11-c67e81ceaa75",
   "metadata": {},
   "outputs": [
    {
     "data": {
      "text/html": [
       "<div>\n",
       "<style scoped>\n",
       "    .dataframe tbody tr th:only-of-type {\n",
       "        vertical-align: middle;\n",
       "    }\n",
       "\n",
       "    .dataframe tbody tr th {\n",
       "        vertical-align: top;\n",
       "    }\n",
       "\n",
       "    .dataframe thead th {\n",
       "        text-align: right;\n",
       "    }\n",
       "</style>\n",
       "<table border=\"1\" class=\"dataframe\">\n",
       "  <thead>\n",
       "    <tr style=\"text-align: right;\">\n",
       "      <th></th>\n",
       "      <th>type</th>\n",
       "      <th>id</th>\n",
       "      <th>architecture</th>\n",
       "      <th>path</th>\n",
       "      <th>label</th>\n",
       "      <th>multiclass_label</th>\n",
       "      <th>Mix_pause_ratio</th>\n",
       "      <th>Mix_pause_mean</th>\n",
       "      <th>Mix_pause_std</th>\n",
       "      <th>Mix_n_pauses</th>\n",
       "      <th>Mix_amp_deriv</th>\n",
       "      <th>Mix_amp_mean</th>\n",
       "    </tr>\n",
       "  </thead>\n",
       "  <tbody>\n",
       "    <tr>\n",
       "      <th>0</th>\n",
       "      <td>train</td>\n",
       "      <td>LJ049-0064</td>\n",
       "      <td>Real</td>\n",
       "      <td>/home/ubuntu/data/wavefake_data/LJSpeech_1.1/w...</td>\n",
       "      <td>0</td>\n",
       "      <td>0</td>\n",
       "      <td>0.110360</td>\n",
       "      <td>0.026212</td>\n",
       "      <td>0.063718</td>\n",
       "      <td>0.112593</td>\n",
       "      <td>0.000851</td>\n",
       "      <td>0.198723</td>\n",
       "    </tr>\n",
       "    <tr>\n",
       "      <th>1</th>\n",
       "      <td>train</td>\n",
       "      <td>LJ027-0024</td>\n",
       "      <td>Real</td>\n",
       "      <td>/home/ubuntu/data/wavefake_data/LJSpeech_1.1/w...</td>\n",
       "      <td>0</td>\n",
       "      <td>0</td>\n",
       "      <td>0.111218</td>\n",
       "      <td>0.006088</td>\n",
       "      <td>0.020646</td>\n",
       "      <td>0.345185</td>\n",
       "      <td>0.017901</td>\n",
       "      <td>0.165211</td>\n",
       "    </tr>\n",
       "    <tr>\n",
       "      <th>2</th>\n",
       "      <td>train</td>\n",
       "      <td>LJ016-0258</td>\n",
       "      <td>Real</td>\n",
       "      <td>/home/ubuntu/data/wavefake_data/LJSpeech_1.1/w...</td>\n",
       "      <td>0</td>\n",
       "      <td>0</td>\n",
       "      <td>0.131858</td>\n",
       "      <td>0.016751</td>\n",
       "      <td>0.063415</td>\n",
       "      <td>0.140741</td>\n",
       "      <td>0.023905</td>\n",
       "      <td>0.157353</td>\n",
       "    </tr>\n",
       "    <tr>\n",
       "      <th>3</th>\n",
       "      <td>train</td>\n",
       "      <td>LJ008-0284</td>\n",
       "      <td>Real</td>\n",
       "      <td>/home/ubuntu/data/wavefake_data/LJSpeech_1.1/w...</td>\n",
       "      <td>0</td>\n",
       "      <td>0</td>\n",
       "      <td>0.138596</td>\n",
       "      <td>0.008182</td>\n",
       "      <td>0.018847</td>\n",
       "      <td>0.305185</td>\n",
       "      <td>0.031064</td>\n",
       "      <td>0.166307</td>\n",
       "    </tr>\n",
       "    <tr>\n",
       "      <th>4</th>\n",
       "      <td>train</td>\n",
       "      <td>LJ037-0141</td>\n",
       "      <td>Real</td>\n",
       "      <td>/home/ubuntu/data/wavefake_data/LJSpeech_1.1/w...</td>\n",
       "      <td>0</td>\n",
       "      <td>0</td>\n",
       "      <td>0.200678</td>\n",
       "      <td>0.007185</td>\n",
       "      <td>0.031230</td>\n",
       "      <td>0.358519</td>\n",
       "      <td>0.006330</td>\n",
       "      <td>0.088020</td>\n",
       "    </tr>\n",
       "  </tbody>\n",
       "</table>\n",
       "</div>"
      ],
      "text/plain": [
       "    type          id architecture  \\\n",
       "0  train  LJ049-0064         Real   \n",
       "1  train  LJ027-0024         Real   \n",
       "2  train  LJ016-0258         Real   \n",
       "3  train  LJ008-0284         Real   \n",
       "4  train  LJ037-0141         Real   \n",
       "\n",
       "                                                path  label  multiclass_label  \\\n",
       "0  /home/ubuntu/data/wavefake_data/LJSpeech_1.1/w...      0                 0   \n",
       "1  /home/ubuntu/data/wavefake_data/LJSpeech_1.1/w...      0                 0   \n",
       "2  /home/ubuntu/data/wavefake_data/LJSpeech_1.1/w...      0                 0   \n",
       "3  /home/ubuntu/data/wavefake_data/LJSpeech_1.1/w...      0                 0   \n",
       "4  /home/ubuntu/data/wavefake_data/LJSpeech_1.1/w...      0                 0   \n",
       "\n",
       "   Mix_pause_ratio  Mix_pause_mean  Mix_pause_std  Mix_n_pauses  \\\n",
       "0         0.110360        0.026212       0.063718      0.112593   \n",
       "1         0.111218        0.006088       0.020646      0.345185   \n",
       "2         0.131858        0.016751       0.063415      0.140741   \n",
       "3         0.138596        0.008182       0.018847      0.305185   \n",
       "4         0.200678        0.007185       0.031230      0.358519   \n",
       "\n",
       "   Mix_amp_deriv  Mix_amp_mean  \n",
       "0       0.000851      0.198723  \n",
       "1       0.017901      0.165211  \n",
       "2       0.023905      0.157353  \n",
       "3       0.031064      0.166307  \n",
       "4       0.006330      0.088020  "
      ]
     },
     "execution_count": 11,
     "metadata": {},
     "output_type": "execute_result"
    }
   ],
   "source": [
    "cad_feature_df.head()"
   ]
  },
  {
   "cell_type": "code",
   "execution_count": 12,
   "id": "81d60d11-57be-4f4a-a661-e2fd58434473",
   "metadata": {},
   "outputs": [
    {
     "data": {
      "text/plain": [
       "['Mix_pause_ratio',\n",
       " 'Mix_amp_mean',\n",
       " 'Mix_amp_deriv',\n",
       " 'Mix_n_pauses',\n",
       " 'Mix_pause_mean',\n",
       " 'Mix_pause_std']"
      ]
     },
     "execution_count": 12,
     "metadata": {},
     "output_type": "execute_result"
    }
   ],
   "source": [
    "cad_feature_cols"
   ]
  },
  {
   "cell_type": "code",
   "execution_count": 13,
   "id": "e5b04441-e5e8-4d3d-9d09-becbc92604b1",
   "metadata": {},
   "outputs": [
    {
     "data": {
      "text/plain": [
       "Index(['type', 'id', 'architecture', 'path', 'label', 'multiclass_label'], dtype='object')"
      ]
     },
     "execution_count": 13,
     "metadata": {},
     "output_type": "execute_result"
    }
   ],
   "source": [
    "cadence_manager.data.columns"
   ]
  },
  {
   "cell_type": "markdown",
   "id": "4589c147-8c61-435f-a1fe-ce326150c161",
   "metadata": {},
   "source": [
    "## Temp"
   ]
  },
  {
   "cell_type": "code",
   "execution_count": 20,
   "id": "c9d44cfe-ccbf-4d9b-911a-848947734086",
   "metadata": {},
   "outputs": [],
   "source": [
    "import sys, os\n",
    "sys.path.insert(0, '.')\n",
    "import pandas as pd\n",
    "import json\n",
    "from packages.CadenceModelManager import CadenceModelManager\n",
    "\n",
    "\n",
    "params_path = '/home/ubuntu/data/wavefake_data/Cadence_features/16khz_Laundered/params.json'\n",
    "metadata_path = '/home/ubuntu/data/wavefake_data/LJ_metadata_16KHz_Laundered.csv'\n",
    "output_dir = '/home/ubuntu/data/wavefake_data/Cadence_features/16khz_Laundered'\n",
    "\n",
    "with open(params_path) as file:\n",
    "    params = json.load(file)\n",
    "metadata = pd.read_csv(metadata_path)\n",
    "\n",
    "archs = ['Full_Band_MelGan', 'HifiGan', 'MelGan', 'MelGanLarge', 'Multi_Band_MelGan', 'Parallel_WaveGan', 'Waveglow', 'ElevenLabs', 'UberDuck', 'Real']\n",
    "\n",
    "arch = 'Real'\n",
    "file_paths = metadata[[arch]].dropna()\n",
    "file_paths.columns = ['path']"
   ]
  },
  {
   "cell_type": "code",
   "execution_count": 21,
   "id": "b92bc59c-a7c8-4b8f-8f8a-5d278ef60044",
   "metadata": {},
   "outputs": [
    {
     "data": {
      "text/html": [
       "<div>\n",
       "<style scoped>\n",
       "    .dataframe tbody tr th:only-of-type {\n",
       "        vertical-align: middle;\n",
       "    }\n",
       "\n",
       "    .dataframe tbody tr th {\n",
       "        vertical-align: top;\n",
       "    }\n",
       "\n",
       "    .dataframe thead th {\n",
       "        text-align: right;\n",
       "    }\n",
       "</style>\n",
       "<table border=\"1\" class=\"dataframe\">\n",
       "  <thead>\n",
       "    <tr style=\"text-align: right;\">\n",
       "      <th></th>\n",
       "      <th>path</th>\n",
       "    </tr>\n",
       "  </thead>\n",
       "  <tbody>\n",
       "    <tr>\n",
       "      <th>0</th>\n",
       "      <td>/home/ubuntu/data/wavefake_data/LJSpeech_1.1/w...</td>\n",
       "    </tr>\n",
       "    <tr>\n",
       "      <th>1</th>\n",
       "      <td>/home/ubuntu/data/wavefake_data/LJSpeech_1.1/w...</td>\n",
       "    </tr>\n",
       "    <tr>\n",
       "      <th>2</th>\n",
       "      <td>/home/ubuntu/data/wavefake_data/LJSpeech_1.1/w...</td>\n",
       "    </tr>\n",
       "    <tr>\n",
       "      <th>3</th>\n",
       "      <td>/home/ubuntu/data/wavefake_data/LJSpeech_1.1/w...</td>\n",
       "    </tr>\n",
       "    <tr>\n",
       "      <th>4</th>\n",
       "      <td>/home/ubuntu/data/wavefake_data/LJSpeech_1.1/w...</td>\n",
       "    </tr>\n",
       "    <tr>\n",
       "      <th>...</th>\n",
       "      <td>...</td>\n",
       "    </tr>\n",
       "    <tr>\n",
       "      <th>13095</th>\n",
       "      <td>/home/ubuntu/data/wavefake_data/LJSpeech_1.1/w...</td>\n",
       "    </tr>\n",
       "    <tr>\n",
       "      <th>13096</th>\n",
       "      <td>/home/ubuntu/data/wavefake_data/LJSpeech_1.1/w...</td>\n",
       "    </tr>\n",
       "    <tr>\n",
       "      <th>13097</th>\n",
       "      <td>/home/ubuntu/data/wavefake_data/LJSpeech_1.1/w...</td>\n",
       "    </tr>\n",
       "    <tr>\n",
       "      <th>13098</th>\n",
       "      <td>/home/ubuntu/data/wavefake_data/LJSpeech_1.1/w...</td>\n",
       "    </tr>\n",
       "    <tr>\n",
       "      <th>13099</th>\n",
       "      <td>/home/ubuntu/data/wavefake_data/LJSpeech_1.1/w...</td>\n",
       "    </tr>\n",
       "  </tbody>\n",
       "</table>\n",
       "<p>13100 rows × 1 columns</p>\n",
       "</div>"
      ],
      "text/plain": [
       "                                                    path\n",
       "0      /home/ubuntu/data/wavefake_data/LJSpeech_1.1/w...\n",
       "1      /home/ubuntu/data/wavefake_data/LJSpeech_1.1/w...\n",
       "2      /home/ubuntu/data/wavefake_data/LJSpeech_1.1/w...\n",
       "3      /home/ubuntu/data/wavefake_data/LJSpeech_1.1/w...\n",
       "4      /home/ubuntu/data/wavefake_data/LJSpeech_1.1/w...\n",
       "...                                                  ...\n",
       "13095  /home/ubuntu/data/wavefake_data/LJSpeech_1.1/w...\n",
       "13096  /home/ubuntu/data/wavefake_data/LJSpeech_1.1/w...\n",
       "13097  /home/ubuntu/data/wavefake_data/LJSpeech_1.1/w...\n",
       "13098  /home/ubuntu/data/wavefake_data/LJSpeech_1.1/w...\n",
       "13099  /home/ubuntu/data/wavefake_data/LJSpeech_1.1/w...\n",
       "\n",
       "[13100 rows x 1 columns]"
      ]
     },
     "execution_count": 21,
     "metadata": {},
     "output_type": "execute_result"
    }
   ],
   "source": [
    "file_paths"
   ]
  },
  {
   "cell_type": "code",
   "execution_count": 22,
   "id": "cb2b2b49-3f30-462d-83ed-b58d3da7f240",
   "metadata": {},
   "outputs": [],
   "source": [
    "paths = list(file_paths['path'])"
   ]
  },
  {
   "cell_type": "code",
   "execution_count": null,
   "id": "f7f952f4-984e-4cfc-89a8-548bb7d8846d",
   "metadata": {},
   "outputs": [],
   "source": []
  },
  {
   "cell_type": "markdown",
   "id": "1d113492-e2e9-4028-bbf3-47eeb7e85740",
   "metadata": {},
   "source": [
    "## blockwise testing"
   ]
  },
  {
   "cell_type": "code",
   "execution_count": 14,
   "id": "eaf639e4-2410-40dd-964c-e1d6918ed3e5",
   "metadata": {},
   "outputs": [],
   "source": [
    "import librosa \n",
    "import numpy as np\n",
    "from math import trunc\n",
    "from scipy import signal\n",
    "from numpy import diff"
   ]
  },
  {
   "cell_type": "code",
   "execution_count": 15,
   "id": "a32b6cba-9c95-4ec2-af06-2c35b57169fe",
   "metadata": {},
   "outputs": [],
   "source": [
    "#window size = 395\n",
    "\n",
    "test_file = df.path[130449]"
   ]
  },
  {
   "cell_type": "code",
   "execution_count": 16,
   "id": "559ed398-dc4c-4b93-9eea-4f397fe9c492",
   "metadata": {},
   "outputs": [
    {
     "data": {
      "text/plain": [
       "'/home/ubuntu/data/wavefake_data/generated_audio/ljspeech_waveglow/16000KHz/LJ012-0043.wav'"
      ]
     },
     "execution_count": 16,
     "metadata": {},
     "output_type": "execute_result"
    }
   ],
   "source": [
    "test_file"
   ]
  },
  {
   "cell_type": "markdown",
   "id": "8065bb7f-87a7-4226-9f19-2347d374386b",
   "metadata": {},
   "source": [
    "### normalize audio"
   ]
  },
  {
   "cell_type": "code",
   "execution_count": 88,
   "id": "053f7a01-2da0-4d13-ae0c-c5009bd0c514",
   "metadata": {
    "tags": []
   },
   "outputs": [],
   "source": [
    "sample = librosa.load(test_file)"
   ]
  },
  {
   "cell_type": "code",
   "execution_count": 89,
   "id": "30916b7a-496b-4ad5-9bb0-1210f211c0f9",
   "metadata": {},
   "outputs": [
    {
     "data": {
      "text/plain": [
       "22050"
      ]
     },
     "execution_count": 89,
     "metadata": {},
     "output_type": "execute_result"
    }
   ],
   "source": [
    "sample[1]"
   ]
  },
  {
   "cell_type": "code",
   "execution_count": 90,
   "id": "485e26f3-dc9e-4833-a159-ca7f10526066",
   "metadata": {},
   "outputs": [],
   "source": [
    "sample = librosa.load(test_file)[0]\n",
    "max_abs = np.max(np.abs(sample))\n",
    "normalized_sample = sample/max_abs"
   ]
  },
  {
   "cell_type": "code",
   "execution_count": 26,
   "id": "0e04b9a6-3ebe-4373-8152-eebdd36fb952",
   "metadata": {},
   "outputs": [
    {
     "data": {
      "text/plain": [
       "array([ 0.002754  ,  0.00350152,  0.00101652, ..., -0.00223037,\n",
       "       -0.00147095,  0.        ], dtype=float32)"
      ]
     },
     "execution_count": 26,
     "metadata": {},
     "output_type": "execute_result"
    }
   ],
   "source": [
    "normalized_sample"
   ]
  },
  {
   "cell_type": "code",
   "execution_count": 27,
   "id": "b788856b-bc91-4f34-b6a5-909666402c2e",
   "metadata": {},
   "outputs": [
    {
     "data": {
      "text/plain": [
       "True"
      ]
     },
     "execution_count": 27,
     "metadata": {},
     "output_type": "execute_result"
    }
   ],
   "source": [
    "len(normalized_sample) == len(sample)"
   ]
  },
  {
   "cell_type": "markdown",
   "id": "55bf8b48-b007-4ec1-8163-777414a72d45",
   "metadata": {},
   "source": [
    "## truncate silences"
   ]
  },
  {
   "cell_type": "code",
   "execution_count": 35,
   "id": "4fcc2fe2-1e9b-4cb2-a11c-bafcbc99a876",
   "metadata": {},
   "outputs": [
    {
     "data": {
      "text/plain": [
       "{'Mix': {'window_size': 395.0, 'silence_threshold': 0.046224125994119375}}"
      ]
     },
     "execution_count": 35,
     "metadata": {},
     "output_type": "execute_result"
    }
   ],
   "source": [
    "params"
   ]
  },
  {
   "cell_type": "code",
   "execution_count": 32,
   "id": "acc5da0c-6868-4a00-952e-a481ab956ad1",
   "metadata": {
    "tags": []
   },
   "outputs": [
    {
     "data": {
      "text/plain": [
       "395.0"
      ]
     },
     "execution_count": 32,
     "metadata": {},
     "output_type": "execute_result"
    }
   ],
   "source": [
    "params['Mix']['window_size']"
   ]
  },
  {
   "cell_type": "code",
   "execution_count": 38,
   "id": "9c2d9e74-d0ed-4835-b1fc-e22f6e9042b4",
   "metadata": {},
   "outputs": [
    {
     "name": "stdout",
     "output_type": "stream",
     "text": [
      "5094 0.0291337096580478\n"
     ]
    }
   ],
   "source": [
    "window_size = int(params['Mix']['window_size'])\n",
    "silence_threshold = params['Mix']['silence_threshold']\n",
    "audio = normalized_sample\n",
    "\n",
    "for j in range(len(audio)):\n",
    "    roll_average = np.mean(np.abs(audio[j:j+window_size]))\n",
    "    if roll_average > silence_threshold:\n",
    "        truncation_id_start = j\n",
    "        break\n",
    "        \n",
    "print(truncation_id_start, truncation_id_start/len(audio))"
   ]
  },
  {
   "cell_type": "code",
   "execution_count": 42,
   "id": "addec563-686e-408c-9635-9e80d188804c",
   "metadata": {},
   "outputs": [
    {
     "data": {
      "text/plain": [
       "174849"
      ]
     },
     "execution_count": 42,
     "metadata": {},
     "output_type": "execute_result"
    }
   ],
   "source": [
    "len(audio)"
   ]
  },
  {
   "cell_type": "code",
   "execution_count": 43,
   "id": "585896b6-e485-476c-b1de-ff9a99fe599a",
   "metadata": {},
   "outputs": [
    {
     "name": "stdout",
     "output_type": "stream",
     "text": [
      "170855 0.9771574329850328\n"
     ]
    }
   ],
   "source": [
    "for j in reversed(range(len(audio))):\n",
    "    roll_average = np.mean(np.abs(audio[j-window_size:j]))\n",
    "    if roll_average > silence_threshold:\n",
    "        truncation_id_end = j-window_size\n",
    "        break\n",
    "\n",
    "print(truncation_id_end, truncation_id_end/len(audio))"
   ]
  },
  {
   "cell_type": "markdown",
   "id": "0bba2e58-e9ee-4c93-92eb-be43a2252a3a",
   "metadata": {},
   "source": [
    "## get_silence"
   ]
  },
  {
   "cell_type": "code",
   "execution_count": 44,
   "id": "c8b5f6ac-e64b-4a14-b295-fc92a2c8cf8f",
   "metadata": {},
   "outputs": [],
   "source": [
    "thresh = max(abs(audio))*silence_threshold"
   ]
  },
  {
   "cell_type": "code",
   "execution_count": 46,
   "id": "d6b1b094-e3d4-4cda-aab4-140a69a46853",
   "metadata": {},
   "outputs": [
    {
     "data": {
      "text/plain": [
       "1.0"
      ]
     },
     "execution_count": 46,
     "metadata": {},
     "output_type": "execute_result"
    }
   ],
   "source": [
    "max(abs(audio))"
   ]
  },
  {
   "cell_type": "code",
   "execution_count": 45,
   "id": "05f6b6b7-7ace-4861-a01d-02a6f70db792",
   "metadata": {},
   "outputs": [
    {
     "data": {
      "text/plain": [
       "(0.046224125994119375, 0.046224125994119375)"
      ]
     },
     "execution_count": 45,
     "metadata": {},
     "output_type": "execute_result"
    }
   ],
   "source": [
    "thresh, silence_threshold"
   ]
  },
  {
   "cell_type": "code",
   "execution_count": 47,
   "id": "5031e30e-1310-4213-af0d-ce69a3480c2a",
   "metadata": {},
   "outputs": [],
   "source": [
    "def moving_average(x, w):\n",
    "    return np.convolve(x, np.ones(w), 'valid') / w"
   ]
  },
  {
   "cell_type": "code",
   "execution_count": 48,
   "id": "b4858729-27c1-483a-8024-2c25169ade00",
   "metadata": {},
   "outputs": [],
   "source": [
    "moving_avg = moving_average(abs(audio), window_size) # Window size = 100 "
   ]
  },
  {
   "cell_type": "code",
   "execution_count": 51,
   "id": "6f862037-11ab-4c3c-831a-86fd4de967ce",
   "metadata": {},
   "outputs": [
    {
     "data": {
      "text/plain": [
       "(174455, 174849)"
      ]
     },
     "execution_count": 51,
     "metadata": {},
     "output_type": "execute_result"
    }
   ],
   "source": [
    "len(moving_avg), len(audio)"
   ]
  },
  {
   "cell_type": "code",
   "execution_count": 53,
   "id": "41bd4785-1664-4ec3-9363-27a68b315516",
   "metadata": {},
   "outputs": [
    {
     "data": {
      "text/plain": [
       "(0.4610534960073949, 0.0006986530545102049)"
      ]
     },
     "execution_count": 53,
     "metadata": {},
     "output_type": "execute_result"
    }
   ],
   "source": [
    "np.max(moving_avg), np.min(moving_avg)"
   ]
  },
  {
   "cell_type": "code",
   "execution_count": 54,
   "id": "e8f0429d-411d-4087-9d58-c80f5722bf6b",
   "metadata": {},
   "outputs": [],
   "source": [
    "silent = np.where(abs(moving_avg) < thresh)\n",
    "voiced = np.where(abs(moving_avg) >= thresh)"
   ]
  },
  {
   "cell_type": "code",
   "execution_count": 59,
   "id": "4cd725f0-4a5e-45e7-8314-590f87f54148",
   "metadata": {},
   "outputs": [
    {
     "data": {
      "text/plain": [
       "(74802, 99653)"
      ]
     },
     "execution_count": 59,
     "metadata": {},
     "output_type": "execute_result"
    }
   ],
   "source": [
    "len(silent[0]), len(voiced[0])"
   ]
  },
  {
   "cell_type": "code",
   "execution_count": 62,
   "id": "136910b1-2252-48a4-abf4-23becb6f5c68",
   "metadata": {},
   "outputs": [
    {
     "data": {
      "text/plain": [
       "(174455, 0.42877532888137343)"
      ]
     },
     "execution_count": 62,
     "metadata": {},
     "output_type": "execute_result"
    }
   ],
   "source": [
    "len(silent[0])+len(voiced[0]), len(silent[0])/len(moving_avg)"
   ]
  },
  {
   "cell_type": "markdown",
   "id": "6ea1bc12-fa4b-42e2-9173-8973aaa0ae93",
   "metadata": {},
   "source": [
    "## get silence spread"
   ]
  },
  {
   "cell_type": "code",
   "execution_count": 63,
   "id": "d4a64744-3544-4233-835a-f2239b59dc9b",
   "metadata": {},
   "outputs": [],
   "source": [
    "thresh = max(abs(audio))*silence_threshold"
   ]
  },
  {
   "cell_type": "code",
   "execution_count": 64,
   "id": "00d28ffd-9729-492b-a1e6-fad15e063985",
   "metadata": {},
   "outputs": [],
   "source": [
    "moving_avg = moving_average(abs(audio), window_size) # Window size = 100 "
   ]
  },
  {
   "cell_type": "code",
   "execution_count": 69,
   "id": "683ed3d9-63c2-4417-9dc8-d29b15df65b8",
   "metadata": {},
   "outputs": [],
   "source": [
    "silent_windows = np.where(moving_avg < thresh)\n",
    "silent = np.where(abs(moving_avg) < thresh)"
   ]
  },
  {
   "cell_type": "code",
   "execution_count": 71,
   "id": "adadc264-3269-492a-aaee-4cfd86099258",
   "metadata": {},
   "outputs": [
    {
     "data": {
      "text/plain": [
       "True"
      ]
     },
     "execution_count": 71,
     "metadata": {},
     "output_type": "execute_result"
    }
   ],
   "source": [
    "np.all(silent_windows[0] == silent[0])"
   ]
  },
  {
   "cell_type": "code",
   "execution_count": 72,
   "id": "51e49799-6c86-453d-a2b1-b3092febb695",
   "metadata": {},
   "outputs": [],
   "source": [
    "thresh2 = max(audio)*silence_threshold"
   ]
  },
  {
   "cell_type": "code",
   "execution_count": 74,
   "id": "dfd66c3d-03d2-4c73-abb8-7cd2edcc7da7",
   "metadata": {},
   "outputs": [
    {
     "data": {
      "text/plain": [
       "True"
      ]
     },
     "execution_count": 74,
     "metadata": {},
     "output_type": "execute_result"
    }
   ],
   "source": [
    "thresh2 == thresh"
   ]
  },
  {
   "cell_type": "markdown",
   "id": "c395077e-932c-4399-bc59-abf6a0884f6b",
   "metadata": {},
   "source": [
    "## get_amplitude"
   ]
  },
  {
   "cell_type": "code",
   "execution_count": 112,
   "id": "07178b54-fd9e-4454-abdf-a8edf575616a",
   "metadata": {},
   "outputs": [],
   "source": [
    "def filter_signal(audio, sr, low_pass_filter_cutoff):\n",
    "    \n",
    "    t = np.arange(len(audio)) / sr\n",
    "    w = low_pass_filter_cutoff / (sr / 2) \n",
    "    b, a = signal.butter(5, w, 'low')\n",
    "    smoothed_signal = signal.filtfilt(b, a, audio)\n",
    "    \n",
    "    return smoothed_signal"
   ]
  },
  {
   "cell_type": "code",
   "execution_count": 109,
   "id": "7988639c-7a78-4d30-ba85-22efe1e4fe34",
   "metadata": {},
   "outputs": [],
   "source": [
    "abs_audio = abs(audio)"
   ]
  },
  {
   "cell_type": "code",
   "execution_count": 91,
   "id": "3275a81d-82c3-4b4e-9fa5-821eb390bc89",
   "metadata": {},
   "outputs": [],
   "source": [
    "low_pass_filter_cutoff: int = 10\n",
    "sr = librosa.load(test_file)[1]"
   ]
  },
  {
   "cell_type": "code",
   "execution_count": 81,
   "id": "6a620e58-9524-4feb-8c73-0fcea7c68a53",
   "metadata": {},
   "outputs": [
    {
     "data": {
      "text/plain": [
       "22050"
      ]
     },
     "execution_count": 81,
     "metadata": {},
     "output_type": "execute_result"
    }
   ],
   "source": [
    "sr"
   ]
  },
  {
   "cell_type": "code",
   "execution_count": 92,
   "id": "69f58c9c-8a77-4897-bde6-ae4316d8871d",
   "metadata": {},
   "outputs": [],
   "source": [
    "t = np.arange(len(audio)) / sr"
   ]
  },
  {
   "cell_type": "code",
   "execution_count": 97,
   "id": "b56214a7-21e1-44d5-948f-d6c73366bbe7",
   "metadata": {},
   "outputs": [
    {
     "data": {
      "text/plain": [
       "0.0009070294784580499"
      ]
     },
     "execution_count": 97,
     "metadata": {},
     "output_type": "execute_result"
    }
   ],
   "source": [
    "w = low_pass_filter_cutoff / (sr/2)\n",
    "w"
   ]
  },
  {
   "cell_type": "code",
   "execution_count": 98,
   "id": "5aaed90c-b05a-40d1-b2af-8583b3777040",
   "metadata": {},
   "outputs": [
    {
     "data": {
      "text/plain": [
       "11025.0"
      ]
     },
     "execution_count": 98,
     "metadata": {},
     "output_type": "execute_result"
    }
   ],
   "source": [
    "sr/2"
   ]
  },
  {
   "cell_type": "code",
   "execution_count": 99,
   "id": "eb25f0e5-cdb2-4d59-9968-327aef476961",
   "metadata": {},
   "outputs": [],
   "source": [
    "b, a = signal.butter(5, w, 'low')"
   ]
  },
  {
   "cell_type": "code",
   "execution_count": 100,
   "id": "727974ef-98b7-4f22-8d5e-bbadb9c28349",
   "metadata": {},
   "outputs": [
    {
     "data": {
      "text/plain": [
       "array([5.84393663e-15, 2.92196832e-14, 5.84393663e-14, 5.84393663e-14,\n",
       "       2.92196832e-14, 5.84393663e-15])"
      ]
     },
     "execution_count": 100,
     "metadata": {},
     "output_type": "execute_result"
    }
   ],
   "source": [
    "b"
   ]
  },
  {
   "cell_type": "code",
   "execution_count": 101,
   "id": "c7ca925f-78e1-4a64-bed6-b0752f4e47d5",
   "metadata": {},
   "outputs": [
    {
     "data": {
      "text/plain": [
       "array([ 1.        , -4.99077877,  9.96315758, -9.9448    ,  4.96324234,\n",
       "       -0.99082115])"
      ]
     },
     "execution_count": 101,
     "metadata": {},
     "output_type": "execute_result"
    }
   ],
   "source": [
    "a"
   ]
  },
  {
   "cell_type": "code",
   "execution_count": 113,
   "id": "c13ecc61-f15e-40ba-bed4-7605d4614785",
   "metadata": {},
   "outputs": [],
   "source": [
    "smoothed_signal = signal.filtfilt(b, a, audio)"
   ]
  },
  {
   "cell_type": "code",
   "execution_count": 114,
   "id": "6cad2082-7d76-401b-965d-20736ec3aa59",
   "metadata": {},
   "outputs": [],
   "source": [
    "smoothed_signal = filter_signal(abs_audio, sr, low_pass_filter_cutoff)"
   ]
  },
  {
   "cell_type": "code",
   "execution_count": 116,
   "id": "cbf558e2-275b-4b19-9ed1-6b7990ef598e",
   "metadata": {},
   "outputs": [
    {
     "data": {
      "text/plain": [
       "array([0.002754  , 0.00350152, 0.00101652, ..., 0.00223037, 0.00147095,\n",
       "       0.        ], dtype=float32)"
      ]
     },
     "execution_count": 116,
     "metadata": {},
     "output_type": "execute_result"
    }
   ],
   "source": [
    "abs_audio"
   ]
  },
  {
   "cell_type": "code",
   "execution_count": 115,
   "id": "ad2a61bc-3ebc-4de3-ac17-60aed60074b5",
   "metadata": {},
   "outputs": [
    {
     "data": {
      "text/plain": [
       "array([0.00498179, 0.00498696, 0.00499213, ..., 0.0029359 , 0.0029359 ,\n",
       "       0.0029359 ])"
      ]
     },
     "execution_count": 115,
     "metadata": {},
     "output_type": "execute_result"
    }
   ],
   "source": [
    "smoothed_signal"
   ]
  },
  {
   "cell_type": "code",
   "execution_count": 118,
   "id": "d31f0ec4-927d-47a8-ade3-9f2624bee84b",
   "metadata": {},
   "outputs": [
    {
     "data": {
      "text/plain": [
       "(174849, 174848)"
      ]
     },
     "execution_count": 118,
     "metadata": {},
     "output_type": "execute_result"
    }
   ],
   "source": [
    "len(smoothed_signal), len(diff(smoothed_signal))"
   ]
  },
  {
   "cell_type": "code",
   "execution_count": 119,
   "id": "91d4225f-8834-47b3-9c7f-b62bfe7f8816",
   "metadata": {},
   "outputs": [
    {
     "data": {
      "text/plain": [
       "-1.1700963102304922e-08"
      ]
     },
     "execution_count": 119,
     "metadata": {},
     "output_type": "execute_result"
    }
   ],
   "source": [
    "np.mean(diff(smoothed_signal))"
   ]
  },
  {
   "cell_type": "markdown",
   "id": "becdb658-8af0-473b-85b7-6212c3158e10",
   "metadata": {
    "jp-MarkdownHeadingCollapsed": true,
    "tags": []
   },
   "source": [
    "# Gathering Data for Elevenlabs"
   ]
  },
  {
   "cell_type": "code",
   "execution_count": 121,
   "id": "fa960e43-f7f3-47ce-ab01-377eee04918b",
   "metadata": {},
   "outputs": [],
   "source": [
    "path = '/home/ubuntu/launder_metadata.csv'\n",
    "lddf = pd.read_csv(path)"
   ]
  },
  {
   "cell_type": "code",
   "execution_count": 122,
   "id": "5cd0d912-acc6-4d69-a3b1-0602199a555d",
   "metadata": {},
   "outputs": [
    {
     "data": {
      "text/html": [
       "<div>\n",
       "<style scoped>\n",
       "    .dataframe tbody tr th:only-of-type {\n",
       "        vertical-align: middle;\n",
       "    }\n",
       "\n",
       "    .dataframe tbody tr th {\n",
       "        vertical-align: top;\n",
       "    }\n",
       "\n",
       "    .dataframe thead th {\n",
       "        text-align: right;\n",
       "    }\n",
       "</style>\n",
       "<table border=\"1\" class=\"dataframe\">\n",
       "  <thead>\n",
       "    <tr style=\"text-align: right;\">\n",
       "      <th></th>\n",
       "      <th>Unnamed: 0</th>\n",
       "      <th>Path</th>\n",
       "      <th>isTranscode</th>\n",
       "      <th>BitRate</th>\n",
       "      <th>isNoise</th>\n",
       "      <th>SNR</th>\n",
       "    </tr>\n",
       "  </thead>\n",
       "  <tbody>\n",
       "    <tr>\n",
       "      <th>0</th>\n",
       "      <td>0</td>\n",
       "      <td>/home/ubuntu/data/wavefake_data/generated_audi...</td>\n",
       "      <td>1</td>\n",
       "      <td>196k</td>\n",
       "      <td>0</td>\n",
       "      <td>NaN</td>\n",
       "    </tr>\n",
       "    <tr>\n",
       "      <th>1</th>\n",
       "      <td>1</td>\n",
       "      <td>/home/ubuntu/data/wavefake_data/generated_audi...</td>\n",
       "      <td>1</td>\n",
       "      <td>64k</td>\n",
       "      <td>1</td>\n",
       "      <td>62.0</td>\n",
       "    </tr>\n",
       "    <tr>\n",
       "      <th>2</th>\n",
       "      <td>2</td>\n",
       "      <td>/home/ubuntu/data/wavefake_data/generated_audi...</td>\n",
       "      <td>1</td>\n",
       "      <td>127k</td>\n",
       "      <td>0</td>\n",
       "      <td>NaN</td>\n",
       "    </tr>\n",
       "    <tr>\n",
       "      <th>3</th>\n",
       "      <td>3</td>\n",
       "      <td>/home/ubuntu/data/wavefake_data/generated_audi...</td>\n",
       "      <td>0</td>\n",
       "      <td>NaN</td>\n",
       "      <td>1</td>\n",
       "      <td>38.0</td>\n",
       "    </tr>\n",
       "    <tr>\n",
       "      <th>4</th>\n",
       "      <td>4</td>\n",
       "      <td>/home/ubuntu/data/wavefake_data/generated_audi...</td>\n",
       "      <td>0</td>\n",
       "      <td>NaN</td>\n",
       "      <td>1</td>\n",
       "      <td>47.0</td>\n",
       "    </tr>\n",
       "    <tr>\n",
       "      <th>...</th>\n",
       "      <td>...</td>\n",
       "      <td>...</td>\n",
       "      <td>...</td>\n",
       "      <td>...</td>\n",
       "      <td>...</td>\n",
       "      <td>...</td>\n",
       "    </tr>\n",
       "    <tr>\n",
       "      <th>130963</th>\n",
       "      <td>130963</td>\n",
       "      <td>/home/ubuntu/data/wavefake_data/LJSpeech_1.1/w...</td>\n",
       "      <td>0</td>\n",
       "      <td>NaN</td>\n",
       "      <td>0</td>\n",
       "      <td>NaN</td>\n",
       "    </tr>\n",
       "    <tr>\n",
       "      <th>130964</th>\n",
       "      <td>130964</td>\n",
       "      <td>/home/ubuntu/data/wavefake_data/LJSpeech_1.1/w...</td>\n",
       "      <td>1</td>\n",
       "      <td>127k</td>\n",
       "      <td>1</td>\n",
       "      <td>60.0</td>\n",
       "    </tr>\n",
       "    <tr>\n",
       "      <th>130965</th>\n",
       "      <td>130965</td>\n",
       "      <td>/home/ubuntu/data/wavefake_data/LJSpeech_1.1/w...</td>\n",
       "      <td>0</td>\n",
       "      <td>NaN</td>\n",
       "      <td>1</td>\n",
       "      <td>80.0</td>\n",
       "    </tr>\n",
       "    <tr>\n",
       "      <th>130966</th>\n",
       "      <td>130966</td>\n",
       "      <td>/home/ubuntu/data/wavefake_data/LJSpeech_1.1/w...</td>\n",
       "      <td>0</td>\n",
       "      <td>NaN</td>\n",
       "      <td>0</td>\n",
       "      <td>NaN</td>\n",
       "    </tr>\n",
       "    <tr>\n",
       "      <th>130967</th>\n",
       "      <td>130967</td>\n",
       "      <td>/home/ubuntu/data/wavefake_data/LJSpeech_1.1/w...</td>\n",
       "      <td>1</td>\n",
       "      <td>196k</td>\n",
       "      <td>1</td>\n",
       "      <td>66.0</td>\n",
       "    </tr>\n",
       "  </tbody>\n",
       "</table>\n",
       "<p>130968 rows × 6 columns</p>\n",
       "</div>"
      ],
      "text/plain": [
       "        Unnamed: 0                                               Path  \\\n",
       "0                0  /home/ubuntu/data/wavefake_data/generated_audi...   \n",
       "1                1  /home/ubuntu/data/wavefake_data/generated_audi...   \n",
       "2                2  /home/ubuntu/data/wavefake_data/generated_audi...   \n",
       "3                3  /home/ubuntu/data/wavefake_data/generated_audi...   \n",
       "4                4  /home/ubuntu/data/wavefake_data/generated_audi...   \n",
       "...            ...                                                ...   \n",
       "130963      130963  /home/ubuntu/data/wavefake_data/LJSpeech_1.1/w...   \n",
       "130964      130964  /home/ubuntu/data/wavefake_data/LJSpeech_1.1/w...   \n",
       "130965      130965  /home/ubuntu/data/wavefake_data/LJSpeech_1.1/w...   \n",
       "130966      130966  /home/ubuntu/data/wavefake_data/LJSpeech_1.1/w...   \n",
       "130967      130967  /home/ubuntu/data/wavefake_data/LJSpeech_1.1/w...   \n",
       "\n",
       "        isTranscode BitRate  isNoise   SNR  \n",
       "0                 1    196k        0   NaN  \n",
       "1                 1     64k        1  62.0  \n",
       "2                 1    127k        0   NaN  \n",
       "3                 0     NaN        1  38.0  \n",
       "4                 0     NaN        1  47.0  \n",
       "...             ...     ...      ...   ...  \n",
       "130963            0     NaN        0   NaN  \n",
       "130964            1    127k        1  60.0  \n",
       "130965            0     NaN        1  80.0  \n",
       "130966            0     NaN        0   NaN  \n",
       "130967            1    196k        1  66.0  \n",
       "\n",
       "[130968 rows x 6 columns]"
      ]
     },
     "execution_count": 122,
     "metadata": {},
     "output_type": "execute_result"
    }
   ],
   "source": [
    "lddf"
   ]
  },
  {
   "cell_type": "code",
   "execution_count": 162,
   "id": "5a7f9e3e-f6fa-4af6-a90c-c39a59dbc531",
   "metadata": {},
   "outputs": [],
   "source": [
    "transcoded = lddf[(lddf['isTranscode']==1) & (lddf['isNoise']==0) & lddf['Path'].str.contains('generated_audio', case=False)]\n",
    "noisy_transcoded = lddf[(lddf['isTranscode']==1) & (lddf['isNoise']==1) & lddf['Path'].str.contains('generated_audio', case=False)]\n",
    "regular = lddf[(lddf['isTranscode']==0) & (lddf['isNoise']==0) & lddf['Path'].str.contains('generated_audio', case=False)]"
   ]
  },
  {
   "cell_type": "code",
   "execution_count": 163,
   "id": "74a1e2af-f433-4c6f-85fe-76cb463035b6",
   "metadata": {},
   "outputs": [],
   "source": [
    "l1=transcoded.sample(n=10)\n",
    "l2=noisy_transcoded.sample(n=10)\n",
    "l3=regular.sample(n=10)\n",
    "laundered_test_eleven = pd.concat([l1, l2, l3])\n",
    "laundered_set = set(laundered_test_eleven.Path.to_list())"
   ]
  },
  {
   "cell_type": "code",
   "execution_count": 164,
   "id": "1df20a6e-e22c-4817-a869-fdd40f090dfc",
   "metadata": {},
   "outputs": [
    {
     "data": {
      "text/html": [
       "<div>\n",
       "<style scoped>\n",
       "    .dataframe tbody tr th:only-of-type {\n",
       "        vertical-align: middle;\n",
       "    }\n",
       "\n",
       "    .dataframe tbody tr th {\n",
       "        vertical-align: top;\n",
       "    }\n",
       "\n",
       "    .dataframe thead th {\n",
       "        text-align: right;\n",
       "    }\n",
       "</style>\n",
       "<table border=\"1\" class=\"dataframe\">\n",
       "  <thead>\n",
       "    <tr style=\"text-align: right;\">\n",
       "      <th></th>\n",
       "      <th>Unnamed: 0</th>\n",
       "      <th>Path</th>\n",
       "      <th>isTranscode</th>\n",
       "      <th>BitRate</th>\n",
       "      <th>isNoise</th>\n",
       "      <th>SNR</th>\n",
       "    </tr>\n",
       "  </thead>\n",
       "  <tbody>\n",
       "    <tr>\n",
       "      <th>12697</th>\n",
       "      <td>12697</td>\n",
       "      <td>/home/ubuntu/data/wavefake_data/generated_audi...</td>\n",
       "      <td>1</td>\n",
       "      <td>196k</td>\n",
       "      <td>0</td>\n",
       "      <td>NaN</td>\n",
       "    </tr>\n",
       "    <tr>\n",
       "      <th>51847</th>\n",
       "      <td>51847</td>\n",
       "      <td>/home/ubuntu/data/wavefake_data/generated_audi...</td>\n",
       "      <td>1</td>\n",
       "      <td>196k</td>\n",
       "      <td>0</td>\n",
       "      <td>NaN</td>\n",
       "    </tr>\n",
       "    <tr>\n",
       "      <th>101359</th>\n",
       "      <td>101359</td>\n",
       "      <td>/home/ubuntu/data/wavefake_data/generated_audi...</td>\n",
       "      <td>1</td>\n",
       "      <td>127k</td>\n",
       "      <td>0</td>\n",
       "      <td>NaN</td>\n",
       "    </tr>\n",
       "    <tr>\n",
       "      <th>69489</th>\n",
       "      <td>69489</td>\n",
       "      <td>/home/ubuntu/data/wavefake_data/generated_audi...</td>\n",
       "      <td>1</td>\n",
       "      <td>64k</td>\n",
       "      <td>0</td>\n",
       "      <td>NaN</td>\n",
       "    </tr>\n",
       "    <tr>\n",
       "      <th>10064</th>\n",
       "      <td>10064</td>\n",
       "      <td>/home/ubuntu/data/wavefake_data/generated_audi...</td>\n",
       "      <td>1</td>\n",
       "      <td>127k</td>\n",
       "      <td>0</td>\n",
       "      <td>NaN</td>\n",
       "    </tr>\n",
       "    <tr>\n",
       "      <th>51314</th>\n",
       "      <td>51314</td>\n",
       "      <td>/home/ubuntu/data/wavefake_data/generated_audi...</td>\n",
       "      <td>1</td>\n",
       "      <td>127k</td>\n",
       "      <td>0</td>\n",
       "      <td>NaN</td>\n",
       "    </tr>\n",
       "    <tr>\n",
       "      <th>87255</th>\n",
       "      <td>87255</td>\n",
       "      <td>/home/ubuntu/data/wavefake_data/generated_audi...</td>\n",
       "      <td>1</td>\n",
       "      <td>127k</td>\n",
       "      <td>0</td>\n",
       "      <td>NaN</td>\n",
       "    </tr>\n",
       "    <tr>\n",
       "      <th>1583</th>\n",
       "      <td>1583</td>\n",
       "      <td>/home/ubuntu/data/wavefake_data/generated_audi...</td>\n",
       "      <td>1</td>\n",
       "      <td>127k</td>\n",
       "      <td>0</td>\n",
       "      <td>NaN</td>\n",
       "    </tr>\n",
       "    <tr>\n",
       "      <th>2072</th>\n",
       "      <td>2072</td>\n",
       "      <td>/home/ubuntu/data/wavefake_data/generated_audi...</td>\n",
       "      <td>1</td>\n",
       "      <td>64k</td>\n",
       "      <td>0</td>\n",
       "      <td>NaN</td>\n",
       "    </tr>\n",
       "    <tr>\n",
       "      <th>115794</th>\n",
       "      <td>115794</td>\n",
       "      <td>/home/ubuntu/data/wavefake_data/generated_audi...</td>\n",
       "      <td>1</td>\n",
       "      <td>196k</td>\n",
       "      <td>0</td>\n",
       "      <td>NaN</td>\n",
       "    </tr>\n",
       "    <tr>\n",
       "      <th>66453</th>\n",
       "      <td>66453</td>\n",
       "      <td>/home/ubuntu/data/wavefake_data/generated_audi...</td>\n",
       "      <td>1</td>\n",
       "      <td>64k</td>\n",
       "      <td>1</td>\n",
       "      <td>19.0</td>\n",
       "    </tr>\n",
       "    <tr>\n",
       "      <th>100175</th>\n",
       "      <td>100175</td>\n",
       "      <td>/home/ubuntu/data/wavefake_data/generated_audi...</td>\n",
       "      <td>1</td>\n",
       "      <td>196k</td>\n",
       "      <td>1</td>\n",
       "      <td>13.0</td>\n",
       "    </tr>\n",
       "    <tr>\n",
       "      <th>104948</th>\n",
       "      <td>104948</td>\n",
       "      <td>/home/ubuntu/data/wavefake_data/generated_audi...</td>\n",
       "      <td>1</td>\n",
       "      <td>127k</td>\n",
       "      <td>1</td>\n",
       "      <td>12.0</td>\n",
       "    </tr>\n",
       "    <tr>\n",
       "      <th>19643</th>\n",
       "      <td>19643</td>\n",
       "      <td>/home/ubuntu/data/wavefake_data/generated_audi...</td>\n",
       "      <td>1</td>\n",
       "      <td>127k</td>\n",
       "      <td>1</td>\n",
       "      <td>57.0</td>\n",
       "    </tr>\n",
       "    <tr>\n",
       "      <th>36550</th>\n",
       "      <td>36550</td>\n",
       "      <td>/home/ubuntu/data/wavefake_data/generated_audi...</td>\n",
       "      <td>1</td>\n",
       "      <td>64k</td>\n",
       "      <td>1</td>\n",
       "      <td>16.0</td>\n",
       "    </tr>\n",
       "    <tr>\n",
       "      <th>45251</th>\n",
       "      <td>45251</td>\n",
       "      <td>/home/ubuntu/data/wavefake_data/generated_audi...</td>\n",
       "      <td>1</td>\n",
       "      <td>196k</td>\n",
       "      <td>1</td>\n",
       "      <td>37.0</td>\n",
       "    </tr>\n",
       "    <tr>\n",
       "      <th>112316</th>\n",
       "      <td>112316</td>\n",
       "      <td>/home/ubuntu/data/wavefake_data/generated_audi...</td>\n",
       "      <td>1</td>\n",
       "      <td>64k</td>\n",
       "      <td>1</td>\n",
       "      <td>14.0</td>\n",
       "    </tr>\n",
       "    <tr>\n",
       "      <th>37565</th>\n",
       "      <td>37565</td>\n",
       "      <td>/home/ubuntu/data/wavefake_data/generated_audi...</td>\n",
       "      <td>1</td>\n",
       "      <td>127k</td>\n",
       "      <td>1</td>\n",
       "      <td>14.0</td>\n",
       "    </tr>\n",
       "    <tr>\n",
       "      <th>33639</th>\n",
       "      <td>33639</td>\n",
       "      <td>/home/ubuntu/data/wavefake_data/generated_audi...</td>\n",
       "      <td>1</td>\n",
       "      <td>127k</td>\n",
       "      <td>1</td>\n",
       "      <td>62.0</td>\n",
       "    </tr>\n",
       "    <tr>\n",
       "      <th>31268</th>\n",
       "      <td>31268</td>\n",
       "      <td>/home/ubuntu/data/wavefake_data/generated_audi...</td>\n",
       "      <td>1</td>\n",
       "      <td>196k</td>\n",
       "      <td>1</td>\n",
       "      <td>40.0</td>\n",
       "    </tr>\n",
       "    <tr>\n",
       "      <th>47281</th>\n",
       "      <td>47281</td>\n",
       "      <td>/home/ubuntu/data/wavefake_data/generated_audi...</td>\n",
       "      <td>0</td>\n",
       "      <td>NaN</td>\n",
       "      <td>0</td>\n",
       "      <td>NaN</td>\n",
       "    </tr>\n",
       "    <tr>\n",
       "      <th>98679</th>\n",
       "      <td>98679</td>\n",
       "      <td>/home/ubuntu/data/wavefake_data/generated_audi...</td>\n",
       "      <td>0</td>\n",
       "      <td>NaN</td>\n",
       "      <td>0</td>\n",
       "      <td>NaN</td>\n",
       "    </tr>\n",
       "    <tr>\n",
       "      <th>109360</th>\n",
       "      <td>109360</td>\n",
       "      <td>/home/ubuntu/data/wavefake_data/generated_audi...</td>\n",
       "      <td>0</td>\n",
       "      <td>NaN</td>\n",
       "      <td>0</td>\n",
       "      <td>NaN</td>\n",
       "    </tr>\n",
       "    <tr>\n",
       "      <th>111605</th>\n",
       "      <td>111605</td>\n",
       "      <td>/home/ubuntu/data/wavefake_data/generated_audi...</td>\n",
       "      <td>0</td>\n",
       "      <td>NaN</td>\n",
       "      <td>0</td>\n",
       "      <td>NaN</td>\n",
       "    </tr>\n",
       "    <tr>\n",
       "      <th>97474</th>\n",
       "      <td>97474</td>\n",
       "      <td>/home/ubuntu/data/wavefake_data/generated_audi...</td>\n",
       "      <td>0</td>\n",
       "      <td>NaN</td>\n",
       "      <td>0</td>\n",
       "      <td>NaN</td>\n",
       "    </tr>\n",
       "    <tr>\n",
       "      <th>88484</th>\n",
       "      <td>88484</td>\n",
       "      <td>/home/ubuntu/data/wavefake_data/generated_audi...</td>\n",
       "      <td>0</td>\n",
       "      <td>NaN</td>\n",
       "      <td>0</td>\n",
       "      <td>NaN</td>\n",
       "    </tr>\n",
       "    <tr>\n",
       "      <th>95325</th>\n",
       "      <td>95325</td>\n",
       "      <td>/home/ubuntu/data/wavefake_data/generated_audi...</td>\n",
       "      <td>0</td>\n",
       "      <td>NaN</td>\n",
       "      <td>0</td>\n",
       "      <td>NaN</td>\n",
       "    </tr>\n",
       "    <tr>\n",
       "      <th>99292</th>\n",
       "      <td>99292</td>\n",
       "      <td>/home/ubuntu/data/wavefake_data/generated_audi...</td>\n",
       "      <td>0</td>\n",
       "      <td>NaN</td>\n",
       "      <td>0</td>\n",
       "      <td>NaN</td>\n",
       "    </tr>\n",
       "    <tr>\n",
       "      <th>48731</th>\n",
       "      <td>48731</td>\n",
       "      <td>/home/ubuntu/data/wavefake_data/generated_audi...</td>\n",
       "      <td>0</td>\n",
       "      <td>NaN</td>\n",
       "      <td>0</td>\n",
       "      <td>NaN</td>\n",
       "    </tr>\n",
       "    <tr>\n",
       "      <th>103483</th>\n",
       "      <td>103483</td>\n",
       "      <td>/home/ubuntu/data/wavefake_data/generated_audi...</td>\n",
       "      <td>0</td>\n",
       "      <td>NaN</td>\n",
       "      <td>0</td>\n",
       "      <td>NaN</td>\n",
       "    </tr>\n",
       "  </tbody>\n",
       "</table>\n",
       "</div>"
      ],
      "text/plain": [
       "        Unnamed: 0                                               Path  \\\n",
       "12697        12697  /home/ubuntu/data/wavefake_data/generated_audi...   \n",
       "51847        51847  /home/ubuntu/data/wavefake_data/generated_audi...   \n",
       "101359      101359  /home/ubuntu/data/wavefake_data/generated_audi...   \n",
       "69489        69489  /home/ubuntu/data/wavefake_data/generated_audi...   \n",
       "10064        10064  /home/ubuntu/data/wavefake_data/generated_audi...   \n",
       "51314        51314  /home/ubuntu/data/wavefake_data/generated_audi...   \n",
       "87255        87255  /home/ubuntu/data/wavefake_data/generated_audi...   \n",
       "1583          1583  /home/ubuntu/data/wavefake_data/generated_audi...   \n",
       "2072          2072  /home/ubuntu/data/wavefake_data/generated_audi...   \n",
       "115794      115794  /home/ubuntu/data/wavefake_data/generated_audi...   \n",
       "66453        66453  /home/ubuntu/data/wavefake_data/generated_audi...   \n",
       "100175      100175  /home/ubuntu/data/wavefake_data/generated_audi...   \n",
       "104948      104948  /home/ubuntu/data/wavefake_data/generated_audi...   \n",
       "19643        19643  /home/ubuntu/data/wavefake_data/generated_audi...   \n",
       "36550        36550  /home/ubuntu/data/wavefake_data/generated_audi...   \n",
       "45251        45251  /home/ubuntu/data/wavefake_data/generated_audi...   \n",
       "112316      112316  /home/ubuntu/data/wavefake_data/generated_audi...   \n",
       "37565        37565  /home/ubuntu/data/wavefake_data/generated_audi...   \n",
       "33639        33639  /home/ubuntu/data/wavefake_data/generated_audi...   \n",
       "31268        31268  /home/ubuntu/data/wavefake_data/generated_audi...   \n",
       "47281        47281  /home/ubuntu/data/wavefake_data/generated_audi...   \n",
       "98679        98679  /home/ubuntu/data/wavefake_data/generated_audi...   \n",
       "109360      109360  /home/ubuntu/data/wavefake_data/generated_audi...   \n",
       "111605      111605  /home/ubuntu/data/wavefake_data/generated_audi...   \n",
       "97474        97474  /home/ubuntu/data/wavefake_data/generated_audi...   \n",
       "88484        88484  /home/ubuntu/data/wavefake_data/generated_audi...   \n",
       "95325        95325  /home/ubuntu/data/wavefake_data/generated_audi...   \n",
       "99292        99292  /home/ubuntu/data/wavefake_data/generated_audi...   \n",
       "48731        48731  /home/ubuntu/data/wavefake_data/generated_audi...   \n",
       "103483      103483  /home/ubuntu/data/wavefake_data/generated_audi...   \n",
       "\n",
       "        isTranscode BitRate  isNoise   SNR  \n",
       "12697             1    196k        0   NaN  \n",
       "51847             1    196k        0   NaN  \n",
       "101359            1    127k        0   NaN  \n",
       "69489             1     64k        0   NaN  \n",
       "10064             1    127k        0   NaN  \n",
       "51314             1    127k        0   NaN  \n",
       "87255             1    127k        0   NaN  \n",
       "1583              1    127k        0   NaN  \n",
       "2072              1     64k        0   NaN  \n",
       "115794            1    196k        0   NaN  \n",
       "66453             1     64k        1  19.0  \n",
       "100175            1    196k        1  13.0  \n",
       "104948            1    127k        1  12.0  \n",
       "19643             1    127k        1  57.0  \n",
       "36550             1     64k        1  16.0  \n",
       "45251             1    196k        1  37.0  \n",
       "112316            1     64k        1  14.0  \n",
       "37565             1    127k        1  14.0  \n",
       "33639             1    127k        1  62.0  \n",
       "31268             1    196k        1  40.0  \n",
       "47281             0     NaN        0   NaN  \n",
       "98679             0     NaN        0   NaN  \n",
       "109360            0     NaN        0   NaN  \n",
       "111605            0     NaN        0   NaN  \n",
       "97474             0     NaN        0   NaN  \n",
       "88484             0     NaN        0   NaN  \n",
       "95325             0     NaN        0   NaN  \n",
       "99292             0     NaN        0   NaN  \n",
       "48731             0     NaN        0   NaN  \n",
       "103483            0     NaN        0   NaN  "
      ]
     },
     "execution_count": 164,
     "metadata": {},
     "output_type": "execute_result"
    }
   ],
   "source": [
    "laundered_test_eleven"
   ]
  },
  {
   "cell_type": "code",
   "execution_count": 165,
   "id": "649e4d7f-1239-4701-9ac1-391c1e9dbe5b",
   "metadata": {},
   "outputs": [
    {
     "data": {
      "text/plain": [
       "{'/home/ubuntu/data/wavefake_data/generated_audio/ljspeech_elevenlabs/16000KHz/LJ009-0256.wav',\n",
       " '/home/ubuntu/data/wavefake_data/generated_audio/ljspeech_elevenlabs/16000KHz/LJ022-0030.wav',\n",
       " '/home/ubuntu/data/wavefake_data/generated_audio/ljspeech_elevenlabs/16000KHz/LJ030-0039.wav',\n",
       " '/home/ubuntu/data/wavefake_data/generated_audio/ljspeech_elevenlabs/16000KHz/LJ038-0075.wav',\n",
       " '/home/ubuntu/data/wavefake_data/generated_audio/ljspeech_full_band_melgan/16000KHz/LJ009-0233_gen.wav',\n",
       " '/home/ubuntu/data/wavefake_data/generated_audio/ljspeech_hifiGAN/16000KHz/LJ005-0248_generated.wav',\n",
       " '/home/ubuntu/data/wavefake_data/generated_audio/ljspeech_hifiGAN/16000KHz/LJ021-0178_generated.wav',\n",
       " '/home/ubuntu/data/wavefake_data/generated_audio/ljspeech_hifiGAN/16000KHz/LJ027-0016_generated.wav',\n",
       " '/home/ubuntu/data/wavefake_data/generated_audio/ljspeech_hifiGAN/16000KHz/LJ031-0151_generated.wav',\n",
       " '/home/ubuntu/data/wavefake_data/generated_audio/ljspeech_melgan/16000KHz/LJ028-0308_gen.wav',\n",
       " '/home/ubuntu/data/wavefake_data/generated_audio/ljspeech_melgan/16000KHz/LJ033-0042_gen.wav',\n",
       " '/home/ubuntu/data/wavefake_data/generated_audio/ljspeech_melgan/16000KHz/LJ040-0046_gen.wav',\n",
       " '/home/ubuntu/data/wavefake_data/generated_audio/ljspeech_melgan/16000KHz/LJ042-0101_gen.wav',\n",
       " '/home/ubuntu/data/wavefake_data/generated_audio/ljspeech_melgan/16000KHz/LJ044-0060_gen.wav',\n",
       " '/home/ubuntu/data/wavefake_data/generated_audio/ljspeech_multi_band_melgan/16000KHz/LJ032-0029_gen.wav',\n",
       " '/home/ubuntu/data/wavefake_data/generated_audio/ljspeech_multi_band_melgan/16000KHz/LJ044-0142_gen.wav',\n",
       " '/home/ubuntu/data/wavefake_data/generated_audio/ljspeech_parallel_wavegan/16000KHz/LJ033-0079_gen.wav',\n",
       " '/home/ubuntu/data/wavefake_data/generated_audio/ljspeech_parallel_wavegan/16000KHz/LJ047-0181_gen.wav',\n",
       " '/home/ubuntu/data/wavefake_data/generated_audio/ljspeech_uberduck/16000KHz/LJ008-0033-uberduck.wav',\n",
       " '/home/ubuntu/data/wavefake_data/generated_audio/ljspeech_uberduck/16000KHz/LJ017-0036-uberduck.wav',\n",
       " '/home/ubuntu/data/wavefake_data/generated_audio/ljspeech_uberduck/16000KHz/LJ022-0082-uberduck.wav',\n",
       " '/home/ubuntu/data/wavefake_data/generated_audio/ljspeech_uberduck/16000KHz/LJ034-0168-uberduck.wav',\n",
       " '/home/ubuntu/data/wavefake_data/generated_audio/ljspeech_uberduck/16000KHz/LJ036-0178-uberduck.wav',\n",
       " '/home/ubuntu/data/wavefake_data/generated_audio/ljspeech_uberduck/16000KHz/LJ038-0088-uberduck.wav',\n",
       " '/home/ubuntu/data/wavefake_data/generated_audio/ljspeech_uberduck/16000KHz/LJ045-0133-uberduck.wav',\n",
       " '/home/ubuntu/data/wavefake_data/generated_audio/ljspeech_waveglow/16000KHz/LJ004-0161.wav',\n",
       " '/home/ubuntu/data/wavefake_data/generated_audio/ljspeech_waveglow/16000KHz/LJ009-0204.wav',\n",
       " '/home/ubuntu/data/wavefake_data/generated_audio/ljspeech_waveglow/16000KHz/LJ011-0004.wav',\n",
       " '/home/ubuntu/data/wavefake_data/generated_audio/ljspeech_waveglow/16000KHz/LJ018-0172.wav',\n",
       " '/home/ubuntu/data/wavefake_data/generated_audio/ljspeech_waveglow/16000KHz/LJ018-0356.wav'}"
      ]
     },
     "execution_count": 165,
     "metadata": {},
     "output_type": "execute_result"
    }
   ],
   "source": [
    "laundered_set"
   ]
  },
  {
   "cell_type": "code",
   "execution_count": 166,
   "id": "d639226f-a669-48af-ab91-3a1f7fac9366",
   "metadata": {},
   "outputs": [
    {
     "data": {
      "text/plain": [
       "30"
      ]
     },
     "execution_count": 166,
     "metadata": {},
     "output_type": "execute_result"
    }
   ],
   "source": [
    "len(laundered_set)"
   ]
  },
  {
   "cell_type": "code",
   "execution_count": 168,
   "id": "853d6f2f-c898-40ba-ae87-44646070f48f",
   "metadata": {},
   "outputs": [],
   "source": [
    "#!pip install paramiko"
   ]
  },
  {
   "cell_type": "markdown",
   "id": "b4afc172-cb08-492a-99fe-9aac6c073969",
   "metadata": {},
   "source": [
    "# Final Code Review"
   ]
  },
  {
   "cell_type": "code",
   "execution_count": 169,
   "id": "35027d84-367a-41ea-a63a-09426d63e398",
   "metadata": {},
   "outputs": [],
   "source": [
    "from packages.TIMITDataLoader import TIMITDataLoader"
   ]
  },
  {
   "cell_type": "code",
   "execution_count": 171,
   "id": "4a6030e4-5eeb-45df-80dc-5e6c78f51a8b",
   "metadata": {},
   "outputs": [],
   "source": [
    "timit_data_loader = TIMITDataLoader('/home/ubuntu/data/TIMIT_and_ElevenLabs/TIMIT and ElevenLabs')"
   ]
  },
  {
   "cell_type": "code",
   "execution_count": 172,
   "id": "7cdd56e2-223a-4e99-92ac-d610154f80a6",
   "metadata": {},
   "outputs": [
    {
     "name": "stdout",
     "output_type": "stream",
     "text": [
      "N real and fake phrases: 500, 500\n",
      "492 491\n",
      "/home/ubuntu/data/TIMIT_and_ElevenLabs/TIMIT and ElevenLabs/SI580/real/MPRT0_SI580.WAV\n",
      "# of Train instances: 589\n",
      "# of Dev instances: 196\n",
      "# of Test instances: 198\n"
     ]
    }
   ],
   "source": [
    "df = timit_data_loader.generate_split()"
   ]
  },
  {
   "cell_type": "code",
   "execution_count": 174,
   "id": "52254cf4-9649-4c9f-8bf8-9c4905a8f648",
   "metadata": {},
   "outputs": [
    {
     "data": {
      "text/plain": [
       "(983, 7)"
      ]
     },
     "execution_count": 174,
     "metadata": {},
     "output_type": "execute_result"
    }
   ],
   "source": [
    "df.shape"
   ]
  },
  {
   "cell_type": "code",
   "execution_count": 175,
   "id": "19a76a8e-8a62-4db2-8bfd-444eb170cda1",
   "metadata": {},
   "outputs": [],
   "source": [
    "timit_data_loader2 = TIMITDataLoader('/home/ubuntu/data/TIMIT_and_ElevenLabs/TIMIT and ElevenLabs')"
   ]
  },
  {
   "cell_type": "code",
   "execution_count": 176,
   "id": "cf634737-384a-4a44-ba34-2448fad1692a",
   "metadata": {},
   "outputs": [
    {
     "name": "stdout",
     "output_type": "stream",
     "text": [
      "N real and fake phrases: 500, 500\n",
      "492 491\n",
      "/home/ubuntu/data/TIMIT_and_ElevenLabs/TIMIT and ElevenLabs/SI580/real/MPRT0_SI580.WAV\n",
      "# of Train instances: 589\n",
      "# of Dev instances: 196\n",
      "# of Test instances: 198\n"
     ]
    }
   ],
   "source": [
    "df2 = timit_data_loader2.generate_split()"
   ]
  },
  {
   "cell_type": "code",
   "execution_count": 178,
   "id": "3a8322b3-42a0-44d0-9609-cfc22b647eb5",
   "metadata": {},
   "outputs": [
    {
     "data": {
      "text/plain": [
       "True"
      ]
     },
     "execution_count": 178,
     "metadata": {},
     "output_type": "execute_result"
    }
   ],
   "source": [
    "np.all(df == df2)"
   ]
  },
  {
   "cell_type": "code",
   "execution_count": 202,
   "id": "8a39d0c0-825f-437c-abce-e44fadaa3d15",
   "metadata": {},
   "outputs": [],
   "source": [
    "path1 = '/home/ubuntu/data/results/TIMIT/testing/test1.csv'\n",
    "path2 = '/home/ubuntu/data/results/TIMIT/testing/test2.csv'"
   ]
  },
  {
   "cell_type": "code",
   "execution_count": 203,
   "id": "cd5ed151-920f-417e-818d-bbb3b36ee345",
   "metadata": {},
   "outputs": [],
   "source": [
    "rdf1 = pd.read_csv(path1).drop(['Unnamed: 0'], axis=1)\n",
    "rdf2 = pd.read_csv(path2).drop(['Unnamed: 0'], axis=1)"
   ]
  },
  {
   "cell_type": "code",
   "execution_count": 204,
   "id": "696a8fb8-89f2-4cfe-91a3-ff706905f448",
   "metadata": {},
   "outputs": [
    {
     "data": {
      "text/html": [
       "<div>\n",
       "<style scoped>\n",
       "    .dataframe tbody tr th:only-of-type {\n",
       "        vertical-align: middle;\n",
       "    }\n",
       "\n",
       "    .dataframe tbody tr th {\n",
       "        vertical-align: top;\n",
       "    }\n",
       "\n",
       "    .dataframe thead th {\n",
       "        text-align: right;\n",
       "    }\n",
       "</style>\n",
       "<table border=\"1\" class=\"dataframe\">\n",
       "  <thead>\n",
       "    <tr style=\"text-align: right;\">\n",
       "      <th></th>\n",
       "      <th>feature_method</th>\n",
       "      <th>model</th>\n",
       "      <th>label_type</th>\n",
       "      <th>acc</th>\n",
       "      <th>class_acc_0</th>\n",
       "      <th>class_acc_1</th>\n",
       "      <th>eer_score</th>\n",
       "    </tr>\n",
       "  </thead>\n",
       "  <tbody>\n",
       "    <tr>\n",
       "      <th>0</th>\n",
       "      <td>cadence</td>\n",
       "      <td>logreg</td>\n",
       "      <td>label</td>\n",
       "      <td>0.690909</td>\n",
       "      <td>0.814815</td>\n",
       "      <td>0.650602</td>\n",
       "      <td>0.228916</td>\n",
       "    </tr>\n",
       "    <tr>\n",
       "      <th>1</th>\n",
       "      <td>cadence</td>\n",
       "      <td>logreg</td>\n",
       "      <td>multiclass_label</td>\n",
       "      <td>0.690909</td>\n",
       "      <td>0.814815</td>\n",
       "      <td>0.650602</td>\n",
       "      <td>NaN</td>\n",
       "    </tr>\n",
       "    <tr>\n",
       "      <th>2</th>\n",
       "      <td>cadence</td>\n",
       "      <td>random_forest</td>\n",
       "      <td>label</td>\n",
       "      <td>0.727273</td>\n",
       "      <td>0.814815</td>\n",
       "      <td>0.698795</td>\n",
       "      <td>0.216867</td>\n",
       "    </tr>\n",
       "    <tr>\n",
       "      <th>3</th>\n",
       "      <td>cadence</td>\n",
       "      <td>random_forest</td>\n",
       "      <td>multiclass_label</td>\n",
       "      <td>0.727273</td>\n",
       "      <td>0.814815</td>\n",
       "      <td>0.698795</td>\n",
       "      <td>NaN</td>\n",
       "    </tr>\n",
       "    <tr>\n",
       "      <th>4</th>\n",
       "      <td>openSmile_binary</td>\n",
       "      <td>logreg</td>\n",
       "      <td>label</td>\n",
       "      <td>0.754545</td>\n",
       "      <td>0.000000</td>\n",
       "      <td>1.000000</td>\n",
       "      <td>0.096386</td>\n",
       "    </tr>\n",
       "    <tr>\n",
       "      <th>5</th>\n",
       "      <td>openSmile_binary</td>\n",
       "      <td>logreg</td>\n",
       "      <td>multiclass_label</td>\n",
       "      <td>0.754545</td>\n",
       "      <td>0.000000</td>\n",
       "      <td>1.000000</td>\n",
       "      <td>NaN</td>\n",
       "    </tr>\n",
       "    <tr>\n",
       "      <th>6</th>\n",
       "      <td>openSmile_binary</td>\n",
       "      <td>random_forest</td>\n",
       "      <td>label</td>\n",
       "      <td>0.990909</td>\n",
       "      <td>0.962963</td>\n",
       "      <td>1.000000</td>\n",
       "      <td>0.000000</td>\n",
       "    </tr>\n",
       "    <tr>\n",
       "      <th>7</th>\n",
       "      <td>openSmile_binary</td>\n",
       "      <td>random_forest</td>\n",
       "      <td>multiclass_label</td>\n",
       "      <td>0.990909</td>\n",
       "      <td>0.962963</td>\n",
       "      <td>1.000000</td>\n",
       "      <td>NaN</td>\n",
       "    </tr>\n",
       "    <tr>\n",
       "      <th>8</th>\n",
       "      <td>openSmile_multiclass</td>\n",
       "      <td>logreg</td>\n",
       "      <td>label</td>\n",
       "      <td>0.754545</td>\n",
       "      <td>0.000000</td>\n",
       "      <td>1.000000</td>\n",
       "      <td>0.096386</td>\n",
       "    </tr>\n",
       "    <tr>\n",
       "      <th>9</th>\n",
       "      <td>openSmile_multiclass</td>\n",
       "      <td>logreg</td>\n",
       "      <td>multiclass_label</td>\n",
       "      <td>0.754545</td>\n",
       "      <td>0.000000</td>\n",
       "      <td>1.000000</td>\n",
       "      <td>NaN</td>\n",
       "    </tr>\n",
       "    <tr>\n",
       "      <th>10</th>\n",
       "      <td>openSmile_multiclass</td>\n",
       "      <td>random_forest</td>\n",
       "      <td>label</td>\n",
       "      <td>0.990909</td>\n",
       "      <td>0.962963</td>\n",
       "      <td>1.000000</td>\n",
       "      <td>0.000000</td>\n",
       "    </tr>\n",
       "    <tr>\n",
       "      <th>11</th>\n",
       "      <td>openSmile_multiclass</td>\n",
       "      <td>random_forest</td>\n",
       "      <td>multiclass_label</td>\n",
       "      <td>0.990909</td>\n",
       "      <td>0.962963</td>\n",
       "      <td>1.000000</td>\n",
       "      <td>NaN</td>\n",
       "    </tr>\n",
       "    <tr>\n",
       "      <th>12</th>\n",
       "      <td>titanet</td>\n",
       "      <td>logreg</td>\n",
       "      <td>label</td>\n",
       "      <td>1.000000</td>\n",
       "      <td>1.000000</td>\n",
       "      <td>1.000000</td>\n",
       "      <td>0.000000</td>\n",
       "    </tr>\n",
       "    <tr>\n",
       "      <th>13</th>\n",
       "      <td>titanet</td>\n",
       "      <td>logreg</td>\n",
       "      <td>multiclass_label</td>\n",
       "      <td>1.000000</td>\n",
       "      <td>1.000000</td>\n",
       "      <td>1.000000</td>\n",
       "      <td>NaN</td>\n",
       "    </tr>\n",
       "    <tr>\n",
       "      <th>14</th>\n",
       "      <td>titanet</td>\n",
       "      <td>random_forest</td>\n",
       "      <td>label</td>\n",
       "      <td>0.981818</td>\n",
       "      <td>1.000000</td>\n",
       "      <td>0.975904</td>\n",
       "      <td>0.000000</td>\n",
       "    </tr>\n",
       "    <tr>\n",
       "      <th>15</th>\n",
       "      <td>titanet</td>\n",
       "      <td>random_forest</td>\n",
       "      <td>multiclass_label</td>\n",
       "      <td>0.981818</td>\n",
       "      <td>1.000000</td>\n",
       "      <td>0.975904</td>\n",
       "      <td>NaN</td>\n",
       "    </tr>\n",
       "  </tbody>\n",
       "</table>\n",
       "</div>"
      ],
      "text/plain": [
       "          feature_method          model        label_type       acc  \\\n",
       "0                cadence         logreg             label  0.690909   \n",
       "1                cadence         logreg  multiclass_label  0.690909   \n",
       "2                cadence  random_forest             label  0.727273   \n",
       "3                cadence  random_forest  multiclass_label  0.727273   \n",
       "4       openSmile_binary         logreg             label  0.754545   \n",
       "5       openSmile_binary         logreg  multiclass_label  0.754545   \n",
       "6       openSmile_binary  random_forest             label  0.990909   \n",
       "7       openSmile_binary  random_forest  multiclass_label  0.990909   \n",
       "8   openSmile_multiclass         logreg             label  0.754545   \n",
       "9   openSmile_multiclass         logreg  multiclass_label  0.754545   \n",
       "10  openSmile_multiclass  random_forest             label  0.990909   \n",
       "11  openSmile_multiclass  random_forest  multiclass_label  0.990909   \n",
       "12               titanet         logreg             label  1.000000   \n",
       "13               titanet         logreg  multiclass_label  1.000000   \n",
       "14               titanet  random_forest             label  0.981818   \n",
       "15               titanet  random_forest  multiclass_label  0.981818   \n",
       "\n",
       "    class_acc_0  class_acc_1  eer_score  \n",
       "0      0.814815     0.650602   0.228916  \n",
       "1      0.814815     0.650602        NaN  \n",
       "2      0.814815     0.698795   0.216867  \n",
       "3      0.814815     0.698795        NaN  \n",
       "4      0.000000     1.000000   0.096386  \n",
       "5      0.000000     1.000000        NaN  \n",
       "6      0.962963     1.000000   0.000000  \n",
       "7      0.962963     1.000000        NaN  \n",
       "8      0.000000     1.000000   0.096386  \n",
       "9      0.000000     1.000000        NaN  \n",
       "10     0.962963     1.000000   0.000000  \n",
       "11     0.962963     1.000000        NaN  \n",
       "12     1.000000     1.000000   0.000000  \n",
       "13     1.000000     1.000000        NaN  \n",
       "14     1.000000     0.975904   0.000000  \n",
       "15     1.000000     0.975904        NaN  "
      ]
     },
     "execution_count": 204,
     "metadata": {},
     "output_type": "execute_result"
    }
   ],
   "source": [
    "rdf1"
   ]
  },
  {
   "cell_type": "code",
   "execution_count": 205,
   "id": "9a3ee4eb-f072-4ce1-9f08-b4d4e4b2d816",
   "metadata": {},
   "outputs": [
    {
     "data": {
      "text/html": [
       "<div>\n",
       "<style scoped>\n",
       "    .dataframe tbody tr th:only-of-type {\n",
       "        vertical-align: middle;\n",
       "    }\n",
       "\n",
       "    .dataframe tbody tr th {\n",
       "        vertical-align: top;\n",
       "    }\n",
       "\n",
       "    .dataframe thead th {\n",
       "        text-align: right;\n",
       "    }\n",
       "</style>\n",
       "<table border=\"1\" class=\"dataframe\">\n",
       "  <thead>\n",
       "    <tr style=\"text-align: right;\">\n",
       "      <th></th>\n",
       "      <th>feature_method</th>\n",
       "      <th>model</th>\n",
       "      <th>label_type</th>\n",
       "      <th>acc</th>\n",
       "      <th>class_acc_0</th>\n",
       "      <th>class_acc_1</th>\n",
       "      <th>eer_score</th>\n",
       "    </tr>\n",
       "  </thead>\n",
       "  <tbody>\n",
       "    <tr>\n",
       "      <th>0</th>\n",
       "      <td>cadence</td>\n",
       "      <td>logreg</td>\n",
       "      <td>label</td>\n",
       "      <td>0.787611</td>\n",
       "      <td>0.851852</td>\n",
       "      <td>0.767442</td>\n",
       "      <td>0.185185</td>\n",
       "    </tr>\n",
       "    <tr>\n",
       "      <th>1</th>\n",
       "      <td>cadence</td>\n",
       "      <td>logreg</td>\n",
       "      <td>multiclass_label</td>\n",
       "      <td>0.787611</td>\n",
       "      <td>0.851852</td>\n",
       "      <td>0.767442</td>\n",
       "      <td>NaN</td>\n",
       "    </tr>\n",
       "    <tr>\n",
       "      <th>2</th>\n",
       "      <td>cadence</td>\n",
       "      <td>random_forest</td>\n",
       "      <td>label</td>\n",
       "      <td>0.778761</td>\n",
       "      <td>0.888889</td>\n",
       "      <td>0.744186</td>\n",
       "      <td>0.185185</td>\n",
       "    </tr>\n",
       "    <tr>\n",
       "      <th>3</th>\n",
       "      <td>cadence</td>\n",
       "      <td>random_forest</td>\n",
       "      <td>multiclass_label</td>\n",
       "      <td>0.778761</td>\n",
       "      <td>0.888889</td>\n",
       "      <td>0.744186</td>\n",
       "      <td>NaN</td>\n",
       "    </tr>\n",
       "    <tr>\n",
       "      <th>4</th>\n",
       "      <td>openSmile_binary</td>\n",
       "      <td>logreg</td>\n",
       "      <td>label</td>\n",
       "      <td>1.000000</td>\n",
       "      <td>1.000000</td>\n",
       "      <td>1.000000</td>\n",
       "      <td>0.000000</td>\n",
       "    </tr>\n",
       "    <tr>\n",
       "      <th>5</th>\n",
       "      <td>openSmile_binary</td>\n",
       "      <td>logreg</td>\n",
       "      <td>multiclass_label</td>\n",
       "      <td>1.000000</td>\n",
       "      <td>1.000000</td>\n",
       "      <td>1.000000</td>\n",
       "      <td>NaN</td>\n",
       "    </tr>\n",
       "    <tr>\n",
       "      <th>6</th>\n",
       "      <td>openSmile_binary</td>\n",
       "      <td>random_forest</td>\n",
       "      <td>label</td>\n",
       "      <td>1.000000</td>\n",
       "      <td>1.000000</td>\n",
       "      <td>1.000000</td>\n",
       "      <td>0.000000</td>\n",
       "    </tr>\n",
       "    <tr>\n",
       "      <th>7</th>\n",
       "      <td>openSmile_binary</td>\n",
       "      <td>random_forest</td>\n",
       "      <td>multiclass_label</td>\n",
       "      <td>1.000000</td>\n",
       "      <td>1.000000</td>\n",
       "      <td>1.000000</td>\n",
       "      <td>NaN</td>\n",
       "    </tr>\n",
       "    <tr>\n",
       "      <th>8</th>\n",
       "      <td>openSmile_multiclass</td>\n",
       "      <td>logreg</td>\n",
       "      <td>label</td>\n",
       "      <td>1.000000</td>\n",
       "      <td>1.000000</td>\n",
       "      <td>1.000000</td>\n",
       "      <td>0.000000</td>\n",
       "    </tr>\n",
       "    <tr>\n",
       "      <th>9</th>\n",
       "      <td>openSmile_multiclass</td>\n",
       "      <td>logreg</td>\n",
       "      <td>multiclass_label</td>\n",
       "      <td>1.000000</td>\n",
       "      <td>1.000000</td>\n",
       "      <td>1.000000</td>\n",
       "      <td>NaN</td>\n",
       "    </tr>\n",
       "    <tr>\n",
       "      <th>10</th>\n",
       "      <td>openSmile_multiclass</td>\n",
       "      <td>random_forest</td>\n",
       "      <td>label</td>\n",
       "      <td>1.000000</td>\n",
       "      <td>1.000000</td>\n",
       "      <td>1.000000</td>\n",
       "      <td>0.000000</td>\n",
       "    </tr>\n",
       "    <tr>\n",
       "      <th>11</th>\n",
       "      <td>openSmile_multiclass</td>\n",
       "      <td>random_forest</td>\n",
       "      <td>multiclass_label</td>\n",
       "      <td>1.000000</td>\n",
       "      <td>1.000000</td>\n",
       "      <td>1.000000</td>\n",
       "      <td>NaN</td>\n",
       "    </tr>\n",
       "    <tr>\n",
       "      <th>12</th>\n",
       "      <td>titanet</td>\n",
       "      <td>logreg</td>\n",
       "      <td>label</td>\n",
       "      <td>1.000000</td>\n",
       "      <td>1.000000</td>\n",
       "      <td>1.000000</td>\n",
       "      <td>0.000000</td>\n",
       "    </tr>\n",
       "    <tr>\n",
       "      <th>13</th>\n",
       "      <td>titanet</td>\n",
       "      <td>logreg</td>\n",
       "      <td>multiclass_label</td>\n",
       "      <td>1.000000</td>\n",
       "      <td>1.000000</td>\n",
       "      <td>1.000000</td>\n",
       "      <td>NaN</td>\n",
       "    </tr>\n",
       "    <tr>\n",
       "      <th>14</th>\n",
       "      <td>titanet</td>\n",
       "      <td>random_forest</td>\n",
       "      <td>label</td>\n",
       "      <td>1.000000</td>\n",
       "      <td>1.000000</td>\n",
       "      <td>1.000000</td>\n",
       "      <td>0.000000</td>\n",
       "    </tr>\n",
       "    <tr>\n",
       "      <th>15</th>\n",
       "      <td>titanet</td>\n",
       "      <td>random_forest</td>\n",
       "      <td>multiclass_label</td>\n",
       "      <td>1.000000</td>\n",
       "      <td>1.000000</td>\n",
       "      <td>1.000000</td>\n",
       "      <td>NaN</td>\n",
       "    </tr>\n",
       "  </tbody>\n",
       "</table>\n",
       "</div>"
      ],
      "text/plain": [
       "          feature_method          model        label_type       acc  \\\n",
       "0                cadence         logreg             label  0.787611   \n",
       "1                cadence         logreg  multiclass_label  0.787611   \n",
       "2                cadence  random_forest             label  0.778761   \n",
       "3                cadence  random_forest  multiclass_label  0.778761   \n",
       "4       openSmile_binary         logreg             label  1.000000   \n",
       "5       openSmile_binary         logreg  multiclass_label  1.000000   \n",
       "6       openSmile_binary  random_forest             label  1.000000   \n",
       "7       openSmile_binary  random_forest  multiclass_label  1.000000   \n",
       "8   openSmile_multiclass         logreg             label  1.000000   \n",
       "9   openSmile_multiclass         logreg  multiclass_label  1.000000   \n",
       "10  openSmile_multiclass  random_forest             label  1.000000   \n",
       "11  openSmile_multiclass  random_forest  multiclass_label  1.000000   \n",
       "12               titanet         logreg             label  1.000000   \n",
       "13               titanet         logreg  multiclass_label  1.000000   \n",
       "14               titanet  random_forest             label  1.000000   \n",
       "15               titanet  random_forest  multiclass_label  1.000000   \n",
       "\n",
       "    class_acc_0  class_acc_1  eer_score  \n",
       "0      0.851852     0.767442   0.185185  \n",
       "1      0.851852     0.767442        NaN  \n",
       "2      0.888889     0.744186   0.185185  \n",
       "3      0.888889     0.744186        NaN  \n",
       "4      1.000000     1.000000   0.000000  \n",
       "5      1.000000     1.000000        NaN  \n",
       "6      1.000000     1.000000   0.000000  \n",
       "7      1.000000     1.000000        NaN  \n",
       "8      1.000000     1.000000   0.000000  \n",
       "9      1.000000     1.000000        NaN  \n",
       "10     1.000000     1.000000   0.000000  \n",
       "11     1.000000     1.000000        NaN  \n",
       "12     1.000000     1.000000   0.000000  \n",
       "13     1.000000     1.000000        NaN  \n",
       "14     1.000000     1.000000   0.000000  \n",
       "15     1.000000     1.000000        NaN  "
      ]
     },
     "execution_count": 205,
     "metadata": {},
     "output_type": "execute_result"
    }
   ],
   "source": [
    "rdf2"
   ]
  },
  {
   "cell_type": "code",
   "execution_count": 200,
   "id": "9207e4a0-6d00-49a2-93f0-aa4d9c7a5eef",
   "metadata": {},
   "outputs": [],
   "source": [
    "path3='/home/ubuntu/data/results/TIMIT/archive_16KHz_ElevenLabs_TIMIT_k_fold_regenerated.csv'\n",
    "rdf3 = pd.read_csv(path3).drop(['Unnamed: 0'], axis=1)"
   ]
  },
  {
   "cell_type": "code",
   "execution_count": 201,
   "id": "8c32b9a3-396c-4491-b857-9d74db2bb422",
   "metadata": {},
   "outputs": [
    {
     "data": {
      "text/html": [
       "<div>\n",
       "<style scoped>\n",
       "    .dataframe tbody tr th:only-of-type {\n",
       "        vertical-align: middle;\n",
       "    }\n",
       "\n",
       "    .dataframe tbody tr th {\n",
       "        vertical-align: top;\n",
       "    }\n",
       "\n",
       "    .dataframe thead th {\n",
       "        text-align: right;\n",
       "    }\n",
       "</style>\n",
       "<table border=\"1\" class=\"dataframe\">\n",
       "  <thead>\n",
       "    <tr style=\"text-align: right;\">\n",
       "      <th></th>\n",
       "      <th>feature_method</th>\n",
       "      <th>model</th>\n",
       "      <th>label_type</th>\n",
       "      <th>acc</th>\n",
       "      <th>class_acc_0</th>\n",
       "      <th>class_acc_1</th>\n",
       "    </tr>\n",
       "  </thead>\n",
       "  <tbody>\n",
       "    <tr>\n",
       "      <th>0</th>\n",
       "      <td>cadence</td>\n",
       "      <td>logreg</td>\n",
       "      <td>label</td>\n",
       "      <td>0.898438</td>\n",
       "      <td>0.846154</td>\n",
       "      <td>0.911765</td>\n",
       "    </tr>\n",
       "    <tr>\n",
       "      <th>1</th>\n",
       "      <td>cadence</td>\n",
       "      <td>logreg</td>\n",
       "      <td>multiclass_label</td>\n",
       "      <td>0.898438</td>\n",
       "      <td>0.846154</td>\n",
       "      <td>0.911765</td>\n",
       "    </tr>\n",
       "    <tr>\n",
       "      <th>2</th>\n",
       "      <td>cadence</td>\n",
       "      <td>random_forest</td>\n",
       "      <td>label</td>\n",
       "      <td>0.872396</td>\n",
       "      <td>0.890313</td>\n",
       "      <td>0.867829</td>\n",
       "    </tr>\n",
       "    <tr>\n",
       "      <th>3</th>\n",
       "      <td>cadence</td>\n",
       "      <td>random_forest</td>\n",
       "      <td>multiclass_label</td>\n",
       "      <td>0.873915</td>\n",
       "      <td>0.888177</td>\n",
       "      <td>0.870280</td>\n",
       "    </tr>\n",
       "    <tr>\n",
       "      <th>4</th>\n",
       "      <td>cadence</td>\n",
       "      <td>svm</td>\n",
       "      <td>label</td>\n",
       "      <td>0.898438</td>\n",
       "      <td>0.846154</td>\n",
       "      <td>0.911765</td>\n",
       "    </tr>\n",
       "    <tr>\n",
       "      <th>5</th>\n",
       "      <td>cadence</td>\n",
       "      <td>svm</td>\n",
       "      <td>multiclass_label</td>\n",
       "      <td>0.898438</td>\n",
       "      <td>0.846154</td>\n",
       "      <td>0.911765</td>\n",
       "    </tr>\n",
       "    <tr>\n",
       "      <th>6</th>\n",
       "      <td>openSmile_binary</td>\n",
       "      <td>logreg</td>\n",
       "      <td>label</td>\n",
       "      <td>0.947627</td>\n",
       "      <td>0.753205</td>\n",
       "      <td>0.997186</td>\n",
       "    </tr>\n",
       "    <tr>\n",
       "      <th>7</th>\n",
       "      <td>openSmile_binary</td>\n",
       "      <td>logreg</td>\n",
       "      <td>multiclass_label</td>\n",
       "      <td>0.947627</td>\n",
       "      <td>0.753205</td>\n",
       "      <td>0.997186</td>\n",
       "    </tr>\n",
       "    <tr>\n",
       "      <th>8</th>\n",
       "      <td>openSmile_binary</td>\n",
       "      <td>random_forest</td>\n",
       "      <td>label</td>\n",
       "      <td>1.000000</td>\n",
       "      <td>1.000000</td>\n",
       "      <td>1.000000</td>\n",
       "    </tr>\n",
       "    <tr>\n",
       "      <th>9</th>\n",
       "      <td>openSmile_binary</td>\n",
       "      <td>random_forest</td>\n",
       "      <td>multiclass_label</td>\n",
       "      <td>1.000000</td>\n",
       "      <td>1.000000</td>\n",
       "      <td>1.000000</td>\n",
       "    </tr>\n",
       "    <tr>\n",
       "      <th>10</th>\n",
       "      <td>openSmile_binary</td>\n",
       "      <td>svm</td>\n",
       "      <td>label</td>\n",
       "      <td>0.794126</td>\n",
       "      <td>0.940527</td>\n",
       "      <td>0.756808</td>\n",
       "    </tr>\n",
       "    <tr>\n",
       "      <th>11</th>\n",
       "      <td>openSmile_binary</td>\n",
       "      <td>svm</td>\n",
       "      <td>multiclass_label</td>\n",
       "      <td>0.794126</td>\n",
       "      <td>0.940527</td>\n",
       "      <td>0.756808</td>\n",
       "    </tr>\n",
       "    <tr>\n",
       "      <th>12</th>\n",
       "      <td>openSmile_multiclass</td>\n",
       "      <td>logreg</td>\n",
       "      <td>label</td>\n",
       "      <td>0.936198</td>\n",
       "      <td>0.705484</td>\n",
       "      <td>0.995007</td>\n",
       "    </tr>\n",
       "    <tr>\n",
       "      <th>13</th>\n",
       "      <td>openSmile_multiclass</td>\n",
       "      <td>logreg</td>\n",
       "      <td>multiclass_label</td>\n",
       "      <td>0.936198</td>\n",
       "      <td>0.705484</td>\n",
       "      <td>0.995007</td>\n",
       "    </tr>\n",
       "    <tr>\n",
       "      <th>14</th>\n",
       "      <td>openSmile_multiclass</td>\n",
       "      <td>random_forest</td>\n",
       "      <td>label</td>\n",
       "      <td>0.999928</td>\n",
       "      <td>1.000000</td>\n",
       "      <td>0.999909</td>\n",
       "    </tr>\n",
       "    <tr>\n",
       "      <th>15</th>\n",
       "      <td>openSmile_multiclass</td>\n",
       "      <td>random_forest</td>\n",
       "      <td>multiclass_label</td>\n",
       "      <td>0.999928</td>\n",
       "      <td>1.000000</td>\n",
       "      <td>0.999909</td>\n",
       "    </tr>\n",
       "    <tr>\n",
       "      <th>16</th>\n",
       "      <td>openSmile_multiclass</td>\n",
       "      <td>svm</td>\n",
       "      <td>label</td>\n",
       "      <td>0.851852</td>\n",
       "      <td>0.946581</td>\n",
       "      <td>0.827705</td>\n",
       "    </tr>\n",
       "    <tr>\n",
       "      <th>17</th>\n",
       "      <td>openSmile_multiclass</td>\n",
       "      <td>svm</td>\n",
       "      <td>multiclass_label</td>\n",
       "      <td>0.851852</td>\n",
       "      <td>0.946581</td>\n",
       "      <td>0.827705</td>\n",
       "    </tr>\n",
       "    <tr>\n",
       "      <th>18</th>\n",
       "      <td>titanet</td>\n",
       "      <td>logreg</td>\n",
       "      <td>label</td>\n",
       "      <td>1.000000</td>\n",
       "      <td>1.000000</td>\n",
       "      <td>1.000000</td>\n",
       "    </tr>\n",
       "    <tr>\n",
       "      <th>19</th>\n",
       "      <td>titanet</td>\n",
       "      <td>logreg</td>\n",
       "      <td>multiclass_label</td>\n",
       "      <td>1.000000</td>\n",
       "      <td>1.000000</td>\n",
       "      <td>1.000000</td>\n",
       "    </tr>\n",
       "    <tr>\n",
       "      <th>20</th>\n",
       "      <td>titanet</td>\n",
       "      <td>random_forest</td>\n",
       "      <td>label</td>\n",
       "      <td>0.994430</td>\n",
       "      <td>1.000000</td>\n",
       "      <td>0.993010</td>\n",
       "    </tr>\n",
       "    <tr>\n",
       "      <th>21</th>\n",
       "      <td>titanet</td>\n",
       "      <td>random_forest</td>\n",
       "      <td>multiclass_label</td>\n",
       "      <td>0.995877</td>\n",
       "      <td>1.000000</td>\n",
       "      <td>0.994826</td>\n",
       "    </tr>\n",
       "    <tr>\n",
       "      <th>22</th>\n",
       "      <td>titanet</td>\n",
       "      <td>svm</td>\n",
       "      <td>label</td>\n",
       "      <td>1.000000</td>\n",
       "      <td>1.000000</td>\n",
       "      <td>1.000000</td>\n",
       "    </tr>\n",
       "    <tr>\n",
       "      <th>23</th>\n",
       "      <td>titanet</td>\n",
       "      <td>svm</td>\n",
       "      <td>multiclass_label</td>\n",
       "      <td>1.000000</td>\n",
       "      <td>1.000000</td>\n",
       "      <td>1.000000</td>\n",
       "    </tr>\n",
       "  </tbody>\n",
       "</table>\n",
       "</div>"
      ],
      "text/plain": [
       "          feature_method          model        label_type       acc  \\\n",
       "0                cadence         logreg             label  0.898438   \n",
       "1                cadence         logreg  multiclass_label  0.898438   \n",
       "2                cadence  random_forest             label  0.872396   \n",
       "3                cadence  random_forest  multiclass_label  0.873915   \n",
       "4                cadence            svm             label  0.898438   \n",
       "5                cadence            svm  multiclass_label  0.898438   \n",
       "6       openSmile_binary         logreg             label  0.947627   \n",
       "7       openSmile_binary         logreg  multiclass_label  0.947627   \n",
       "8       openSmile_binary  random_forest             label  1.000000   \n",
       "9       openSmile_binary  random_forest  multiclass_label  1.000000   \n",
       "10      openSmile_binary            svm             label  0.794126   \n",
       "11      openSmile_binary            svm  multiclass_label  0.794126   \n",
       "12  openSmile_multiclass         logreg             label  0.936198   \n",
       "13  openSmile_multiclass         logreg  multiclass_label  0.936198   \n",
       "14  openSmile_multiclass  random_forest             label  0.999928   \n",
       "15  openSmile_multiclass  random_forest  multiclass_label  0.999928   \n",
       "16  openSmile_multiclass            svm             label  0.851852   \n",
       "17  openSmile_multiclass            svm  multiclass_label  0.851852   \n",
       "18               titanet         logreg             label  1.000000   \n",
       "19               titanet         logreg  multiclass_label  1.000000   \n",
       "20               titanet  random_forest             label  0.994430   \n",
       "21               titanet  random_forest  multiclass_label  0.995877   \n",
       "22               titanet            svm             label  1.000000   \n",
       "23               titanet            svm  multiclass_label  1.000000   \n",
       "\n",
       "    class_acc_0  class_acc_1  \n",
       "0      0.846154     0.911765  \n",
       "1      0.846154     0.911765  \n",
       "2      0.890313     0.867829  \n",
       "3      0.888177     0.870280  \n",
       "4      0.846154     0.911765  \n",
       "5      0.846154     0.911765  \n",
       "6      0.753205     0.997186  \n",
       "7      0.753205     0.997186  \n",
       "8      1.000000     1.000000  \n",
       "9      1.000000     1.000000  \n",
       "10     0.940527     0.756808  \n",
       "11     0.940527     0.756808  \n",
       "12     0.705484     0.995007  \n",
       "13     0.705484     0.995007  \n",
       "14     1.000000     0.999909  \n",
       "15     1.000000     0.999909  \n",
       "16     0.946581     0.827705  \n",
       "17     0.946581     0.827705  \n",
       "18     1.000000     1.000000  \n",
       "19     1.000000     1.000000  \n",
       "20     1.000000     0.993010  \n",
       "21     1.000000     0.994826  \n",
       "22     1.000000     1.000000  \n",
       "23     1.000000     1.000000  "
      ]
     },
     "execution_count": 201,
     "metadata": {},
     "output_type": "execute_result"
    }
   ],
   "source": [
    "rdf3"
   ]
  },
  {
   "cell_type": "code",
   "execution_count": 206,
   "id": "1344ac86-182d-49f1-a7a2-37555e77cd94",
   "metadata": {},
   "outputs": [],
   "source": [
    "path5 = '/home/ubuntu/data/results/TIMIT/testing/test5.csv'\n",
    "rdf5 = pd.read_csv(path5).drop(['Unnamed: 0'], axis=1)"
   ]
  },
  {
   "cell_type": "code",
   "execution_count": 207,
   "id": "3aed7227-1ffc-404c-87c6-4c98b9d87a6a",
   "metadata": {},
   "outputs": [
    {
     "data": {
      "text/html": [
       "<div>\n",
       "<style scoped>\n",
       "    .dataframe tbody tr th:only-of-type {\n",
       "        vertical-align: middle;\n",
       "    }\n",
       "\n",
       "    .dataframe tbody tr th {\n",
       "        vertical-align: top;\n",
       "    }\n",
       "\n",
       "    .dataframe thead th {\n",
       "        text-align: right;\n",
       "    }\n",
       "</style>\n",
       "<table border=\"1\" class=\"dataframe\">\n",
       "  <thead>\n",
       "    <tr style=\"text-align: right;\">\n",
       "      <th></th>\n",
       "      <th>feature_method</th>\n",
       "      <th>model</th>\n",
       "      <th>label_type</th>\n",
       "      <th>acc</th>\n",
       "      <th>class_acc_0</th>\n",
       "      <th>class_acc_1</th>\n",
       "      <th>eer_score</th>\n",
       "    </tr>\n",
       "  </thead>\n",
       "  <tbody>\n",
       "    <tr>\n",
       "      <th>0</th>\n",
       "      <td>cadence</td>\n",
       "      <td>logreg</td>\n",
       "      <td>label</td>\n",
       "      <td>0.872</td>\n",
       "      <td>0.724138</td>\n",
       "      <td>0.916667</td>\n",
       "      <td>0.172414</td>\n",
       "    </tr>\n",
       "    <tr>\n",
       "      <th>1</th>\n",
       "      <td>cadence</td>\n",
       "      <td>logreg</td>\n",
       "      <td>multiclass_label</td>\n",
       "      <td>0.872</td>\n",
       "      <td>0.724138</td>\n",
       "      <td>0.916667</td>\n",
       "      <td>NaN</td>\n",
       "    </tr>\n",
       "    <tr>\n",
       "      <th>2</th>\n",
       "      <td>cadence</td>\n",
       "      <td>random_forest</td>\n",
       "      <td>label</td>\n",
       "      <td>0.888</td>\n",
       "      <td>0.758621</td>\n",
       "      <td>0.927083</td>\n",
       "      <td>0.172414</td>\n",
       "    </tr>\n",
       "    <tr>\n",
       "      <th>3</th>\n",
       "      <td>cadence</td>\n",
       "      <td>random_forest</td>\n",
       "      <td>multiclass_label</td>\n",
       "      <td>0.888</td>\n",
       "      <td>0.758621</td>\n",
       "      <td>0.927083</td>\n",
       "      <td>NaN</td>\n",
       "    </tr>\n",
       "    <tr>\n",
       "      <th>4</th>\n",
       "      <td>openSmile_binary</td>\n",
       "      <td>logreg</td>\n",
       "      <td>label</td>\n",
       "      <td>0.768</td>\n",
       "      <td>0.000000</td>\n",
       "      <td>1.000000</td>\n",
       "      <td>0.114583</td>\n",
       "    </tr>\n",
       "    <tr>\n",
       "      <th>5</th>\n",
       "      <td>openSmile_binary</td>\n",
       "      <td>logreg</td>\n",
       "      <td>multiclass_label</td>\n",
       "      <td>0.768</td>\n",
       "      <td>0.000000</td>\n",
       "      <td>1.000000</td>\n",
       "      <td>NaN</td>\n",
       "    </tr>\n",
       "    <tr>\n",
       "      <th>6</th>\n",
       "      <td>openSmile_binary</td>\n",
       "      <td>random_forest</td>\n",
       "      <td>label</td>\n",
       "      <td>0.992</td>\n",
       "      <td>1.000000</td>\n",
       "      <td>0.989583</td>\n",
       "      <td>0.010417</td>\n",
       "    </tr>\n",
       "    <tr>\n",
       "      <th>7</th>\n",
       "      <td>openSmile_binary</td>\n",
       "      <td>random_forest</td>\n",
       "      <td>multiclass_label</td>\n",
       "      <td>0.992</td>\n",
       "      <td>1.000000</td>\n",
       "      <td>0.989583</td>\n",
       "      <td>NaN</td>\n",
       "    </tr>\n",
       "    <tr>\n",
       "      <th>8</th>\n",
       "      <td>openSmile_multiclass</td>\n",
       "      <td>logreg</td>\n",
       "      <td>label</td>\n",
       "      <td>0.768</td>\n",
       "      <td>0.000000</td>\n",
       "      <td>1.000000</td>\n",
       "      <td>0.114583</td>\n",
       "    </tr>\n",
       "    <tr>\n",
       "      <th>9</th>\n",
       "      <td>openSmile_multiclass</td>\n",
       "      <td>logreg</td>\n",
       "      <td>multiclass_label</td>\n",
       "      <td>0.768</td>\n",
       "      <td>0.000000</td>\n",
       "      <td>1.000000</td>\n",
       "      <td>NaN</td>\n",
       "    </tr>\n",
       "    <tr>\n",
       "      <th>10</th>\n",
       "      <td>openSmile_multiclass</td>\n",
       "      <td>random_forest</td>\n",
       "      <td>label</td>\n",
       "      <td>0.992</td>\n",
       "      <td>1.000000</td>\n",
       "      <td>0.989583</td>\n",
       "      <td>0.010417</td>\n",
       "    </tr>\n",
       "    <tr>\n",
       "      <th>11</th>\n",
       "      <td>openSmile_multiclass</td>\n",
       "      <td>random_forest</td>\n",
       "      <td>multiclass_label</td>\n",
       "      <td>0.992</td>\n",
       "      <td>1.000000</td>\n",
       "      <td>0.989583</td>\n",
       "      <td>NaN</td>\n",
       "    </tr>\n",
       "    <tr>\n",
       "      <th>12</th>\n",
       "      <td>titanet</td>\n",
       "      <td>logreg</td>\n",
       "      <td>label</td>\n",
       "      <td>1.000</td>\n",
       "      <td>1.000000</td>\n",
       "      <td>1.000000</td>\n",
       "      <td>0.000000</td>\n",
       "    </tr>\n",
       "    <tr>\n",
       "      <th>13</th>\n",
       "      <td>titanet</td>\n",
       "      <td>logreg</td>\n",
       "      <td>multiclass_label</td>\n",
       "      <td>1.000</td>\n",
       "      <td>1.000000</td>\n",
       "      <td>1.000000</td>\n",
       "      <td>NaN</td>\n",
       "    </tr>\n",
       "    <tr>\n",
       "      <th>14</th>\n",
       "      <td>titanet</td>\n",
       "      <td>random_forest</td>\n",
       "      <td>label</td>\n",
       "      <td>0.992</td>\n",
       "      <td>1.000000</td>\n",
       "      <td>0.989583</td>\n",
       "      <td>0.000000</td>\n",
       "    </tr>\n",
       "    <tr>\n",
       "      <th>15</th>\n",
       "      <td>titanet</td>\n",
       "      <td>random_forest</td>\n",
       "      <td>multiclass_label</td>\n",
       "      <td>0.992</td>\n",
       "      <td>1.000000</td>\n",
       "      <td>0.989583</td>\n",
       "      <td>NaN</td>\n",
       "    </tr>\n",
       "  </tbody>\n",
       "</table>\n",
       "</div>"
      ],
      "text/plain": [
       "          feature_method          model        label_type    acc  class_acc_0  \\\n",
       "0                cadence         logreg             label  0.872     0.724138   \n",
       "1                cadence         logreg  multiclass_label  0.872     0.724138   \n",
       "2                cadence  random_forest             label  0.888     0.758621   \n",
       "3                cadence  random_forest  multiclass_label  0.888     0.758621   \n",
       "4       openSmile_binary         logreg             label  0.768     0.000000   \n",
       "5       openSmile_binary         logreg  multiclass_label  0.768     0.000000   \n",
       "6       openSmile_binary  random_forest             label  0.992     1.000000   \n",
       "7       openSmile_binary  random_forest  multiclass_label  0.992     1.000000   \n",
       "8   openSmile_multiclass         logreg             label  0.768     0.000000   \n",
       "9   openSmile_multiclass         logreg  multiclass_label  0.768     0.000000   \n",
       "10  openSmile_multiclass  random_forest             label  0.992     1.000000   \n",
       "11  openSmile_multiclass  random_forest  multiclass_label  0.992     1.000000   \n",
       "12               titanet         logreg             label  1.000     1.000000   \n",
       "13               titanet         logreg  multiclass_label  1.000     1.000000   \n",
       "14               titanet  random_forest             label  0.992     1.000000   \n",
       "15               titanet  random_forest  multiclass_label  0.992     1.000000   \n",
       "\n",
       "    class_acc_1  eer_score  \n",
       "0      0.916667   0.172414  \n",
       "1      0.916667        NaN  \n",
       "2      0.927083   0.172414  \n",
       "3      0.927083        NaN  \n",
       "4      1.000000   0.114583  \n",
       "5      1.000000        NaN  \n",
       "6      0.989583   0.010417  \n",
       "7      0.989583        NaN  \n",
       "8      1.000000   0.114583  \n",
       "9      1.000000        NaN  \n",
       "10     0.989583   0.010417  \n",
       "11     0.989583        NaN  \n",
       "12     1.000000   0.000000  \n",
       "13     1.000000        NaN  \n",
       "14     0.989583   0.000000  \n",
       "15     0.989583        NaN  "
      ]
     },
     "execution_count": 207,
     "metadata": {},
     "output_type": "execute_result"
    }
   ],
   "source": [
    "rdf5"
   ]
  },
  {
   "cell_type": "code",
   "execution_count": 208,
   "id": "3be07c4a-8158-4b4b-a873-14f78f4dcd9b",
   "metadata": {},
   "outputs": [],
   "source": [
    "path6 = '/home/ubuntu/data/results/TIMIT/testing/test6.csv'\n",
    "rdf6 = pd.read_csv(path5).drop(['Unnamed: 0'], axis=1)"
   ]
  },
  {
   "cell_type": "code",
   "execution_count": 209,
   "id": "0f3f39a4-53b5-4901-ba6f-96dae4f57e6f",
   "metadata": {},
   "outputs": [
    {
     "data": {
      "text/html": [
       "<div>\n",
       "<style scoped>\n",
       "    .dataframe tbody tr th:only-of-type {\n",
       "        vertical-align: middle;\n",
       "    }\n",
       "\n",
       "    .dataframe tbody tr th {\n",
       "        vertical-align: top;\n",
       "    }\n",
       "\n",
       "    .dataframe thead th {\n",
       "        text-align: right;\n",
       "    }\n",
       "</style>\n",
       "<table border=\"1\" class=\"dataframe\">\n",
       "  <thead>\n",
       "    <tr style=\"text-align: right;\">\n",
       "      <th></th>\n",
       "      <th>feature_method</th>\n",
       "      <th>model</th>\n",
       "      <th>label_type</th>\n",
       "      <th>acc</th>\n",
       "      <th>class_acc_0</th>\n",
       "      <th>class_acc_1</th>\n",
       "      <th>eer_score</th>\n",
       "    </tr>\n",
       "  </thead>\n",
       "  <tbody>\n",
       "    <tr>\n",
       "      <th>0</th>\n",
       "      <td>cadence</td>\n",
       "      <td>logreg</td>\n",
       "      <td>label</td>\n",
       "      <td>0.872</td>\n",
       "      <td>0.724138</td>\n",
       "      <td>0.916667</td>\n",
       "      <td>0.172414</td>\n",
       "    </tr>\n",
       "    <tr>\n",
       "      <th>1</th>\n",
       "      <td>cadence</td>\n",
       "      <td>logreg</td>\n",
       "      <td>multiclass_label</td>\n",
       "      <td>0.872</td>\n",
       "      <td>0.724138</td>\n",
       "      <td>0.916667</td>\n",
       "      <td>NaN</td>\n",
       "    </tr>\n",
       "    <tr>\n",
       "      <th>2</th>\n",
       "      <td>cadence</td>\n",
       "      <td>random_forest</td>\n",
       "      <td>label</td>\n",
       "      <td>0.888</td>\n",
       "      <td>0.758621</td>\n",
       "      <td>0.927083</td>\n",
       "      <td>0.172414</td>\n",
       "    </tr>\n",
       "    <tr>\n",
       "      <th>3</th>\n",
       "      <td>cadence</td>\n",
       "      <td>random_forest</td>\n",
       "      <td>multiclass_label</td>\n",
       "      <td>0.888</td>\n",
       "      <td>0.758621</td>\n",
       "      <td>0.927083</td>\n",
       "      <td>NaN</td>\n",
       "    </tr>\n",
       "    <tr>\n",
       "      <th>4</th>\n",
       "      <td>openSmile_binary</td>\n",
       "      <td>logreg</td>\n",
       "      <td>label</td>\n",
       "      <td>0.768</td>\n",
       "      <td>0.000000</td>\n",
       "      <td>1.000000</td>\n",
       "      <td>0.114583</td>\n",
       "    </tr>\n",
       "    <tr>\n",
       "      <th>5</th>\n",
       "      <td>openSmile_binary</td>\n",
       "      <td>logreg</td>\n",
       "      <td>multiclass_label</td>\n",
       "      <td>0.768</td>\n",
       "      <td>0.000000</td>\n",
       "      <td>1.000000</td>\n",
       "      <td>NaN</td>\n",
       "    </tr>\n",
       "    <tr>\n",
       "      <th>6</th>\n",
       "      <td>openSmile_binary</td>\n",
       "      <td>random_forest</td>\n",
       "      <td>label</td>\n",
       "      <td>0.992</td>\n",
       "      <td>1.000000</td>\n",
       "      <td>0.989583</td>\n",
       "      <td>0.010417</td>\n",
       "    </tr>\n",
       "    <tr>\n",
       "      <th>7</th>\n",
       "      <td>openSmile_binary</td>\n",
       "      <td>random_forest</td>\n",
       "      <td>multiclass_label</td>\n",
       "      <td>0.992</td>\n",
       "      <td>1.000000</td>\n",
       "      <td>0.989583</td>\n",
       "      <td>NaN</td>\n",
       "    </tr>\n",
       "    <tr>\n",
       "      <th>8</th>\n",
       "      <td>openSmile_multiclass</td>\n",
       "      <td>logreg</td>\n",
       "      <td>label</td>\n",
       "      <td>0.768</td>\n",
       "      <td>0.000000</td>\n",
       "      <td>1.000000</td>\n",
       "      <td>0.114583</td>\n",
       "    </tr>\n",
       "    <tr>\n",
       "      <th>9</th>\n",
       "      <td>openSmile_multiclass</td>\n",
       "      <td>logreg</td>\n",
       "      <td>multiclass_label</td>\n",
       "      <td>0.768</td>\n",
       "      <td>0.000000</td>\n",
       "      <td>1.000000</td>\n",
       "      <td>NaN</td>\n",
       "    </tr>\n",
       "    <tr>\n",
       "      <th>10</th>\n",
       "      <td>openSmile_multiclass</td>\n",
       "      <td>random_forest</td>\n",
       "      <td>label</td>\n",
       "      <td>0.992</td>\n",
       "      <td>1.000000</td>\n",
       "      <td>0.989583</td>\n",
       "      <td>0.010417</td>\n",
       "    </tr>\n",
       "    <tr>\n",
       "      <th>11</th>\n",
       "      <td>openSmile_multiclass</td>\n",
       "      <td>random_forest</td>\n",
       "      <td>multiclass_label</td>\n",
       "      <td>0.992</td>\n",
       "      <td>1.000000</td>\n",
       "      <td>0.989583</td>\n",
       "      <td>NaN</td>\n",
       "    </tr>\n",
       "    <tr>\n",
       "      <th>12</th>\n",
       "      <td>titanet</td>\n",
       "      <td>logreg</td>\n",
       "      <td>label</td>\n",
       "      <td>1.000</td>\n",
       "      <td>1.000000</td>\n",
       "      <td>1.000000</td>\n",
       "      <td>0.000000</td>\n",
       "    </tr>\n",
       "    <tr>\n",
       "      <th>13</th>\n",
       "      <td>titanet</td>\n",
       "      <td>logreg</td>\n",
       "      <td>multiclass_label</td>\n",
       "      <td>1.000</td>\n",
       "      <td>1.000000</td>\n",
       "      <td>1.000000</td>\n",
       "      <td>NaN</td>\n",
       "    </tr>\n",
       "    <tr>\n",
       "      <th>14</th>\n",
       "      <td>titanet</td>\n",
       "      <td>random_forest</td>\n",
       "      <td>label</td>\n",
       "      <td>0.992</td>\n",
       "      <td>1.000000</td>\n",
       "      <td>0.989583</td>\n",
       "      <td>0.000000</td>\n",
       "    </tr>\n",
       "    <tr>\n",
       "      <th>15</th>\n",
       "      <td>titanet</td>\n",
       "      <td>random_forest</td>\n",
       "      <td>multiclass_label</td>\n",
       "      <td>0.992</td>\n",
       "      <td>1.000000</td>\n",
       "      <td>0.989583</td>\n",
       "      <td>NaN</td>\n",
       "    </tr>\n",
       "  </tbody>\n",
       "</table>\n",
       "</div>"
      ],
      "text/plain": [
       "          feature_method          model        label_type    acc  class_acc_0  \\\n",
       "0                cadence         logreg             label  0.872     0.724138   \n",
       "1                cadence         logreg  multiclass_label  0.872     0.724138   \n",
       "2                cadence  random_forest             label  0.888     0.758621   \n",
       "3                cadence  random_forest  multiclass_label  0.888     0.758621   \n",
       "4       openSmile_binary         logreg             label  0.768     0.000000   \n",
       "5       openSmile_binary         logreg  multiclass_label  0.768     0.000000   \n",
       "6       openSmile_binary  random_forest             label  0.992     1.000000   \n",
       "7       openSmile_binary  random_forest  multiclass_label  0.992     1.000000   \n",
       "8   openSmile_multiclass         logreg             label  0.768     0.000000   \n",
       "9   openSmile_multiclass         logreg  multiclass_label  0.768     0.000000   \n",
       "10  openSmile_multiclass  random_forest             label  0.992     1.000000   \n",
       "11  openSmile_multiclass  random_forest  multiclass_label  0.992     1.000000   \n",
       "12               titanet         logreg             label  1.000     1.000000   \n",
       "13               titanet         logreg  multiclass_label  1.000     1.000000   \n",
       "14               titanet  random_forest             label  0.992     1.000000   \n",
       "15               titanet  random_forest  multiclass_label  0.992     1.000000   \n",
       "\n",
       "    class_acc_1  eer_score  \n",
       "0      0.916667   0.172414  \n",
       "1      0.916667        NaN  \n",
       "2      0.927083   0.172414  \n",
       "3      0.927083        NaN  \n",
       "4      1.000000   0.114583  \n",
       "5      1.000000        NaN  \n",
       "6      0.989583   0.010417  \n",
       "7      0.989583        NaN  \n",
       "8      1.000000   0.114583  \n",
       "9      1.000000        NaN  \n",
       "10     0.989583   0.010417  \n",
       "11     0.989583        NaN  \n",
       "12     1.000000   0.000000  \n",
       "13     1.000000        NaN  \n",
       "14     0.989583   0.000000  \n",
       "15     0.989583        NaN  "
      ]
     },
     "execution_count": 209,
     "metadata": {},
     "output_type": "execute_result"
    }
   ],
   "source": [
    "rdf6"
   ]
  },
  {
   "cell_type": "code",
   "execution_count": null,
   "id": "24fafec0-fe51-45e1-93ef-bb01c1aba958",
   "metadata": {},
   "outputs": [],
   "source": []
  }
 ],
 "metadata": {
  "kernelspec": {
   "display_name": "nemo",
   "language": "python",
   "name": "nemo"
  },
  "language_info": {
   "codemirror_mode": {
    "name": "ipython",
    "version": 3
   },
   "file_extension": ".py",
   "mimetype": "text/x-python",
   "name": "python",
   "nbconvert_exporter": "python",
   "pygments_lexer": "ipython3",
   "version": "3.8.0"
  }
 },
 "nbformat": 4,
 "nbformat_minor": 5
}
