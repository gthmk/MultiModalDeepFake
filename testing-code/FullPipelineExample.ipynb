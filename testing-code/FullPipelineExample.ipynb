{
 "cells": [
  {
   "cell_type": "code",
   "execution_count": null,
   "id": "a1754ce9",
   "metadata": {},
   "outputs": [],
   "source": [
    "import sys\n",
    "sys.path.append(\"/home/ubuntu/MultiModalDeepFake\")\n",
    "import nemo.collections.asr as nemo_asr "
   ]
  },
  {
   "cell_type": "code",
   "execution_count": null,
   "id": "704a1092",
   "metadata": {},
   "outputs": [],
   "source": [
    "from packages.LJDataLoader import LJDataLoader\n",
    "from packages.AudioEmbeddingsManager import AudioEmbeddingsManager"
   ]
  },
  {
   "cell_type": "markdown",
   "id": "4af9b280",
   "metadata": {},
   "source": [
    "## Generate the Train/Dev/Test"
   ]
  },
  {
   "cell_type": "code",
   "execution_count": null,
   "id": "be5ea4f2",
   "metadata": {},
   "outputs": [],
   "source": [
    "file_path = '/home/ubuntu/data/wavefake_data/LJ_metadata_16000KHz.csv'\n",
    "loader = LJDataLoader(data_path=file_path)\n",
    "loader.sample(0.1)\n",
    "loader.splitData()\n",
    "\n",
    "source_architectures = ['Full_Band_MelGan', 'HifiGan', 'MelGan', 'MelGanLarge', 'Multi_Band_MelGan', 'Parallel_WaveGan', 'Waveglow']\n",
    "new_col_name = 'RandWaveFake'\n",
    "loader.selectRandomArchitecture(target_col=new_col_name, source_cols=source_architectures)\n",
    "\n",
    "data_df = loader.generateFinalDataFrame(real_col='Real', fake_cols=['RandWaveFake', 'ElevenLabs'])"
   ]
  },
  {
   "cell_type": "markdown",
   "id": "9452fc99",
   "metadata": {},
   "source": [
    "## Generate the Features"
   ]
  },
  {
   "cell_type": "code",
   "execution_count": null,
   "id": "4a1328ad",
   "metadata": {},
   "outputs": [],
   "source": [
    "speaker_model = nemo_asr.models.EncDecSpeakerLabelModel.from_pretrained(model_name='titanet_large')"
   ]
  },
  {
   "cell_type": "code",
   "execution_count": null,
   "id": "057d9817",
   "metadata": {},
   "outputs": [],
   "source": [
    "embedding_manager = AudioEmbeddingsManager(model=speaker_model, data=df)"
   ]
  },
  {
   "cell_type": "code",
   "execution_count": null,
   "id": "25d293bc",
   "metadata": {},
   "outputs": [],
   "source": [
    "embeddings = embedding_manager.generateEmbeddings()"
   ]
  },
  {
   "cell_type": "code",
   "execution_count": null,
   "id": "3bb7a8f5",
   "metadata": {},
   "outputs": [],
   "source": [
    "emeddings_df = pd.DataFrame(embeddings)\n"
   ]
  },
  {
   "cell_type": "markdown",
   "id": "dd386ba7",
   "metadata": {},
   "source": [
    "## Predict and Evaluate"
   ]
  },
  {
   "cell_type": "code",
   "execution_count": null,
   "id": "6d982d2e",
   "metadata": {},
   "outputs": [],
   "source": [
    "import numpy as np\n",
    "test1 = np.array([[1,2,3], [4,5,6]])\n",
    "test2 = np.array([[7,8,9], [1,2,3]])\n",
    "\n",
    "np.concatenate((test1, test2), axis=0)"
   ]
  },
  {
   "cell_type": "code",
   "execution_count": null,
   "id": "25db3cfd-7487-467e-b1f9-b7fb29775a17",
   "metadata": {},
   "outputs": [],
   "source": [
    "print('test')"
   ]
  }
 ],
 "metadata": {
  "kernelspec": {
   "display_name": "Python 3",
   "language": "python",
   "name": "python3"
  },
  "language_info": {
   "codemirror_mode": {
    "name": "ipython",
    "version": 3
   },
   "file_extension": ".py",
   "mimetype": "text/x-python",
   "name": "python",
   "nbconvert_exporter": "python",
   "pygments_lexer": "ipython3",
   "version": "3.8.8"
  }
 },
 "nbformat": 4,
 "nbformat_minor": 5
}
