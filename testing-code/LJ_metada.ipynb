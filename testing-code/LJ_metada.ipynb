{
 "cells": [
  {
   "cell_type": "code",
   "execution_count": null,
   "id": "e70af702-0e93-47e1-864a-c371696c0435",
   "metadata": {},
   "outputs": [],
   "source": [
    "import pandas as pd\n",
    "import numpy as np"
   ]
  },
  {
   "cell_type": "code",
   "execution_count": null,
   "id": "f74c8c4f-e3ff-4236-a1e9-739daac9baef",
   "metadata": {},
   "outputs": [],
   "source": [
    "lj_metadata = \"/home/ubuntu/\" + \"data/wavefake_data/LJSpeech_1.1/metadata.csv\""
   ]
  },
  {
   "cell_type": "code",
   "execution_count": null,
   "id": "51e0eea2-3b83-43bc-9801-77073b5030ae",
   "metadata": {},
   "outputs": [],
   "source": [
    "df = pd.read_csv(lj_metadata, sep=\"|\", names=['id','ts1','ts2'])"
   ]
  },
  {
   "cell_type": "code",
   "execution_count": null,
   "id": "8db729bf-ed5b-4447-be69-f4927eda8d65",
   "metadata": {},
   "outputs": [
    {
     "data": {
      "text/html": [
       "<div>\n",
       "<style scoped>\n",
       "    .dataframe tbody tr th:only-of-type {\n",
       "        vertical-align: middle;\n",
       "    }\n",
       "\n",
       "    .dataframe tbody tr th {\n",
       "        vertical-align: top;\n",
       "    }\n",
       "\n",
       "    .dataframe thead th {\n",
       "        text-align: right;\n",
       "    }\n",
       "</style>\n",
       "<table border=\"1\" class=\"dataframe\">\n",
       "  <thead>\n",
       "    <tr style=\"text-align: right;\">\n",
       "      <th></th>\n",
       "      <th>id</th>\n",
       "      <th>ts1</th>\n",
       "      <th>ts2</th>\n",
       "    </tr>\n",
       "  </thead>\n",
       "  <tbody>\n",
       "    <tr>\n",
       "      <th>0</th>\n",
       "      <td>LJ001-0001</td>\n",
       "      <td>Printing, in the only sense with which we are ...</td>\n",
       "      <td>Printing, in the only sense with which we are ...</td>\n",
       "    </tr>\n",
       "    <tr>\n",
       "      <th>1</th>\n",
       "      <td>LJ001-0002</td>\n",
       "      <td>in being comparatively modern.</td>\n",
       "      <td>in being comparatively modern.</td>\n",
       "    </tr>\n",
       "    <tr>\n",
       "      <th>2</th>\n",
       "      <td>LJ001-0003</td>\n",
       "      <td>For although the Chinese took impressions from...</td>\n",
       "      <td>For although the Chinese took impressions from...</td>\n",
       "    </tr>\n",
       "    <tr>\n",
       "      <th>3</th>\n",
       "      <td>LJ001-0004</td>\n",
       "      <td>produced the block books, which were the immed...</td>\n",
       "      <td>produced the block books, which were the immed...</td>\n",
       "    </tr>\n",
       "    <tr>\n",
       "      <th>4</th>\n",
       "      <td>LJ001-0005</td>\n",
       "      <td>the invention of movable metal letters in the ...</td>\n",
       "      <td>the invention of movable metal letters in the ...</td>\n",
       "    </tr>\n",
       "    <tr>\n",
       "      <th>...</th>\n",
       "      <td>...</td>\n",
       "      <td>...</td>\n",
       "      <td>...</td>\n",
       "    </tr>\n",
       "    <tr>\n",
       "      <th>13095</th>\n",
       "      <td>LJ050-0274</td>\n",
       "      <td>made certain recommendations which it believes...</td>\n",
       "      <td>made certain recommendations which it believes...</td>\n",
       "    </tr>\n",
       "    <tr>\n",
       "      <th>13096</th>\n",
       "      <td>LJ050-0275</td>\n",
       "      <td>materially improve upon the procedures in effe...</td>\n",
       "      <td>materially improve upon the procedures in effe...</td>\n",
       "    </tr>\n",
       "    <tr>\n",
       "      <th>13097</th>\n",
       "      <td>LJ050-0276</td>\n",
       "      <td>As has been pointed out, the Commission has no...</td>\n",
       "      <td>As has been pointed out, the Commission has no...</td>\n",
       "    </tr>\n",
       "    <tr>\n",
       "      <th>13098</th>\n",
       "      <td>LJ050-0277</td>\n",
       "      <td>with the active cooperation of the responsible...</td>\n",
       "      <td>with the active cooperation of the responsible...</td>\n",
       "    </tr>\n",
       "    <tr>\n",
       "      <th>13099</th>\n",
       "      <td>LJ050-0278</td>\n",
       "      <td>the recommendations we have here suggested wou...</td>\n",
       "      <td>the recommendations we have here suggested wou...</td>\n",
       "    </tr>\n",
       "  </tbody>\n",
       "</table>\n",
       "<p>13100 rows × 3 columns</p>\n",
       "</div>"
      ],
      "text/plain": [
       "               id                                                ts1  \\\n",
       "0      LJ001-0001  Printing, in the only sense with which we are ...   \n",
       "1      LJ001-0002                     in being comparatively modern.   \n",
       "2      LJ001-0003  For although the Chinese took impressions from...   \n",
       "3      LJ001-0004  produced the block books, which were the immed...   \n",
       "4      LJ001-0005  the invention of movable metal letters in the ...   \n",
       "...           ...                                                ...   \n",
       "13095  LJ050-0274  made certain recommendations which it believes...   \n",
       "13096  LJ050-0275  materially improve upon the procedures in effe...   \n",
       "13097  LJ050-0276  As has been pointed out, the Commission has no...   \n",
       "13098  LJ050-0277  with the active cooperation of the responsible...   \n",
       "13099  LJ050-0278  the recommendations we have here suggested wou...   \n",
       "\n",
       "                                                     ts2  \n",
       "0      Printing, in the only sense with which we are ...  \n",
       "1                         in being comparatively modern.  \n",
       "2      For although the Chinese took impressions from...  \n",
       "3      produced the block books, which were the immed...  \n",
       "4      the invention of movable metal letters in the ...  \n",
       "...                                                  ...  \n",
       "13095  made certain recommendations which it believes...  \n",
       "13096  materially improve upon the procedures in effe...  \n",
       "13097  As has been pointed out, the Commission has no...  \n",
       "13098  with the active cooperation of the responsible...  \n",
       "13099  the recommendations we have here suggested wou...  \n",
       "\n",
       "[13100 rows x 3 columns]"
      ]
     },
     "execution_count": 13,
     "metadata": {},
     "output_type": "execute_result"
    }
   ],
   "source": []
  },
  {
   "cell_type": "code",
   "execution_count": null,
   "id": "e7b5ef1d-f04d-4b6d-8cb1-2ddee8e84454",
   "metadata": {},
   "outputs": [
    {
     "data": {
      "text/plain": [
       "False"
      ]
     },
     "execution_count": 33,
     "metadata": {},
     "output_type": "execute_result"
    }
   ],
   "source": [
    "np.all(df['ts1'] == df['ts2'])"
   ]
  },
  {
   "cell_type": "code",
   "execution_count": null,
   "id": "eea7c256-9800-44b4-b02c-d91d757b537d",
   "metadata": {},
   "outputs": [
    {
     "data": {
      "text/plain": [
       "11579"
      ]
     },
     "execution_count": 34,
     "metadata": {},
     "output_type": "execute_result"
    }
   ],
   "source": [
    "np.sum(df['ts1'] == df['ts2'])"
   ]
  },
  {
   "cell_type": "code",
   "execution_count": null,
   "id": "26741a59-8e69-411d-9398-5f566f3c3897",
   "metadata": {},
   "outputs": [],
   "source": [
    "df['match'] = df['ts1'] == df['ts2']"
   ]
  },
  {
   "cell_type": "code",
   "execution_count": null,
   "id": "d90273ef-cbeb-4529-90c3-c9f76acd26f4",
   "metadata": {},
   "outputs": [
    {
     "data": {
      "text/html": [
       "<div>\n",
       "<style scoped>\n",
       "    .dataframe tbody tr th:only-of-type {\n",
       "        vertical-align: middle;\n",
       "    }\n",
       "\n",
       "    .dataframe tbody tr th {\n",
       "        vertical-align: top;\n",
       "    }\n",
       "\n",
       "    .dataframe thead th {\n",
       "        text-align: right;\n",
       "    }\n",
       "</style>\n",
       "<table border=\"1\" class=\"dataframe\">\n",
       "  <thead>\n",
       "    <tr style=\"text-align: right;\">\n",
       "      <th></th>\n",
       "      <th>id</th>\n",
       "      <th>ts1</th>\n",
       "      <th>ts2</th>\n",
       "      <th>match</th>\n",
       "    </tr>\n",
       "  </thead>\n",
       "  <tbody>\n",
       "    <tr>\n",
       "      <th>6</th>\n",
       "      <td>LJ001-0007</td>\n",
       "      <td>the earliest book printed with movable types, ...</td>\n",
       "      <td>the earliest book printed with movable types, ...</td>\n",
       "      <td>False</td>\n",
       "    </tr>\n",
       "    <tr>\n",
       "      <th>23</th>\n",
       "      <td>LJ001-0024</td>\n",
       "      <td>But the first Bible actually dated (which also...</td>\n",
       "      <td>But the first Bible actually dated (which also...</td>\n",
       "      <td>False</td>\n",
       "    </tr>\n",
       "    <tr>\n",
       "      <th>30</th>\n",
       "      <td>LJ001-0031</td>\n",
       "      <td>In 1465 Sweynheim and Pannartz began printing ...</td>\n",
       "      <td>In fourteen sixty-five Sweynheim and Pannartz ...</td>\n",
       "      <td>False</td>\n",
       "    </tr>\n",
       "    <tr>\n",
       "      <th>33</th>\n",
       "      <td>LJ001-0034</td>\n",
       "      <td>They printed very few books in this type, thre...</td>\n",
       "      <td>They printed very few books in this type, thre...</td>\n",
       "      <td>False</td>\n",
       "    </tr>\n",
       "    <tr>\n",
       "      <th>37</th>\n",
       "      <td>LJ001-0038</td>\n",
       "      <td>while in 1470 at Paris Udalric Gering and his ...</td>\n",
       "      <td>while in fourteen seventy at Paris Udalric Ger...</td>\n",
       "      <td>False</td>\n",
       "    </tr>\n",
       "    <tr>\n",
       "      <th>...</th>\n",
       "      <td>...</td>\n",
       "      <td>...</td>\n",
       "      <td>...</td>\n",
       "      <td>...</td>\n",
       "    </tr>\n",
       "    <tr>\n",
       "      <th>13057</th>\n",
       "      <td>LJ050-0236</td>\n",
       "      <td>Thus, in the 4 months following the assassinat...</td>\n",
       "      <td>Thus, in the four months following the assassi...</td>\n",
       "      <td>False</td>\n",
       "    </tr>\n",
       "    <tr>\n",
       "      <th>13058</th>\n",
       "      <td>LJ050-0237</td>\n",
       "      <td>the FBI, on 16 separate occasions, supplied a ...</td>\n",
       "      <td>the FBI, on sixteen separate occasions, suppli...</td>\n",
       "      <td>False</td>\n",
       "    </tr>\n",
       "    <tr>\n",
       "      <th>13060</th>\n",
       "      <td>LJ050-0239</td>\n",
       "      <td>From February 11 through June 30, 1964,</td>\n",
       "      <td>From February eleven through June thirty, nine...</td>\n",
       "      <td>False</td>\n",
       "    </tr>\n",
       "    <tr>\n",
       "      <th>13061</th>\n",
       "      <td>LJ050-0240</td>\n",
       "      <td>the Service had the advantage of 9,500 hours o...</td>\n",
       "      <td>the Service had the advantage of nine thousand...</td>\n",
       "      <td>False</td>\n",
       "    </tr>\n",
       "    <tr>\n",
       "      <th>13087</th>\n",
       "      <td>LJ050-0266</td>\n",
       "      <td>The exchange of letters dated August 31, 1964,</td>\n",
       "      <td>The exchange of letters dated August thirty-on...</td>\n",
       "      <td>False</td>\n",
       "    </tr>\n",
       "  </tbody>\n",
       "</table>\n",
       "<p>1521 rows × 4 columns</p>\n",
       "</div>"
      ],
      "text/plain": [
       "               id                                                ts1  \\\n",
       "6      LJ001-0007  the earliest book printed with movable types, ...   \n",
       "23     LJ001-0024  But the first Bible actually dated (which also...   \n",
       "30     LJ001-0031  In 1465 Sweynheim and Pannartz began printing ...   \n",
       "33     LJ001-0034  They printed very few books in this type, thre...   \n",
       "37     LJ001-0038  while in 1470 at Paris Udalric Gering and his ...   \n",
       "...           ...                                                ...   \n",
       "13057  LJ050-0236  Thus, in the 4 months following the assassinat...   \n",
       "13058  LJ050-0237  the FBI, on 16 separate occasions, supplied a ...   \n",
       "13060  LJ050-0239            From February 11 through June 30, 1964,   \n",
       "13061  LJ050-0240  the Service had the advantage of 9,500 hours o...   \n",
       "13087  LJ050-0266     The exchange of letters dated August 31, 1964,   \n",
       "\n",
       "                                                     ts2  match  \n",
       "6      the earliest book printed with movable types, ...  False  \n",
       "23     But the first Bible actually dated (which also...  False  \n",
       "30     In fourteen sixty-five Sweynheim and Pannartz ...  False  \n",
       "33     They printed very few books in this type, thre...  False  \n",
       "37     while in fourteen seventy at Paris Udalric Ger...  False  \n",
       "...                                                  ...    ...  \n",
       "13057  Thus, in the four months following the assassi...  False  \n",
       "13058  the FBI, on sixteen separate occasions, suppli...  False  \n",
       "13060  From February eleven through June thirty, nine...  False  \n",
       "13061  the Service had the advantage of nine thousand...  False  \n",
       "13087  The exchange of letters dated August thirty-on...  False  \n",
       "\n",
       "[1521 rows x 4 columns]"
      ]
     },
     "execution_count": 37,
     "metadata": {},
     "output_type": "execute_result"
    }
   ],
   "source": [
    "df[df['match']==False]"
   ]
  },
  {
   "cell_type": "code",
   "execution_count": null,
   "id": "63ebd2c9-fe1f-439b-bd9f-83fb575d6608",
   "metadata": {},
   "outputs": [
    {
     "data": {
      "text/plain": [
       "'Printing, in the only sense with which we are at present concerned, differs from most if not from all the arts and crafts represented in the Exhibition'"
      ]
     },
     "execution_count": 20,
     "metadata": {},
     "output_type": "execute_result"
    }
   ],
   "source": [
    "df.iloc[0,:].ts1"
   ]
  },
  {
   "cell_type": "code",
   "execution_count": null,
   "id": "b66dcaa6-261a-4025-8c76-bba5c309ad28",
   "metadata": {},
   "outputs": [
    {
     "data": {
      "text/plain": [
       "'In 1465 Sweynheim and Pannartz began printing in the monastery of Subiaco near Rome,'"
      ]
     },
     "execution_count": 21,
     "metadata": {},
     "output_type": "execute_result"
    }
   ],
   "source": [
    "df.iloc[30,:].ts1"
   ]
  },
  {
   "cell_type": "code",
   "execution_count": null,
   "id": "d3d7a347-0f9e-4b67-b4d4-caa5dba1bc44",
   "metadata": {},
   "outputs": [
    {
     "data": {
      "text/plain": [
       "'The shameful malpractices of Bambridge,'"
      ]
     },
     "execution_count": 22,
     "metadata": {},
     "output_type": "execute_result"
    }
   ],
   "source": [
    "df.iloc[400,:].ts1"
   ]
  },
  {
   "cell_type": "code",
   "execution_count": null,
   "id": "c6b5e188-5d2c-44a9-88a1-b7a9cd43feba",
   "metadata": {},
   "outputs": [
    {
     "data": {
      "text/plain": [
       "id                                            LJ047-0042\n",
       "ts1    and unwilling to answer questions regarding hi...\n",
       "ts2    and unwilling to answer questions regarding hi...\n",
       "Name: 12096, dtype: object"
      ]
     },
     "execution_count": 30,
     "metadata": {},
     "output_type": "execute_result"
    }
   ],
   "source": [
    "df.iloc[12096,:]"
   ]
  },
  {
   "cell_type": "code",
   "execution_count": null,
   "id": "fd5a8b54-958c-4c20-ad48-e8424c6fc913",
   "metadata": {},
   "outputs": [
    {
     "data": {
      "text/plain": [
       "'and unwilling to answer questions regarding his motive for going to the Soviet Union.'"
      ]
     },
     "execution_count": 29,
     "metadata": {},
     "output_type": "execute_result"
    }
   ],
   "source": [
    "df.iloc[12096,:].ts1"
   ]
  },
  {
   "cell_type": "markdown",
   "id": "f0a37406-f965-46ec-9963-51b92c990c8b",
   "metadata": {},
   "source": [
    "## Deeplake \n",
    "\n",
    "https://github.com/activeloopai/deeplake"
   ]
  },
  {
   "cell_type": "code",
   "execution_count": null,
   "id": "f683fdec-6188-4217-8ab0-afb274e5e591",
   "metadata": {},
   "outputs": [],
   "source": [
    "import deeplake"
   ]
  },
  {
   "cell_type": "code",
   "execution_count": null,
   "id": "809e8774-cbc4-4c44-910c-323db13a4935",
   "metadata": {},
   "outputs": [
    {
     "name": "stdout",
     "output_type": "stream",
     "text": [
      "hub://activeloop/LibriSpeech-train-clean-360 loaded successfully.\n",
      "\n",
      "This dataset can be visualized in Jupyter Notebook by ds.visualize() or at https://app.activeloop.ai/activeloop/LibriSpeech-train-clean-360\n",
      "\n",
      " \r"
     ]
    }
   ],
   "source": [
    "ds = deeplake.load('hub://activeloop/LibriSpeech-train-clean-360')"
   ]
  },
  {
   "cell_type": "code",
   "execution_count": null,
   "id": "b81b2c0a-501d-4088-84dd-1483ce37d9ef",
   "metadata": {},
   "outputs": [
    {
     "name": "stdout",
     "output_type": "stream",
     "text": []
    }
   ],
   "source": [
    "dataloader = ds.pytorch(num_workers=0, batch_size=1, shuffle=False)"
   ]
  },
  {
   "cell_type": "code",
   "execution_count": null,
   "id": "da9913ef-43bd-4553-b598-7d8f7882f0b8",
   "metadata": {},
   "outputs": [
    {
     "data": {
      "text/plain": [
       "IterableOrderedDict([('audios',\n",
       "                      tensor([[[27.],\n",
       "                               [22.],\n",
       "                               [21.],\n",
       "                               ...,\n",
       "                               [17.],\n",
       "                               [18.],\n",
       "                               [19.]]], dtype=torch.float64)),\n",
       "                     ('transcripts', [\"TOM THE PIPER'S SON\\n\"]),\n",
       "                     ('index', tensor([[0]]))])"
      ]
     },
     "execution_count": 4,
     "metadata": {},
     "output_type": "execute_result"
    }
   ],
   "source": [
    "next(iter(dataloader))"
   ]
  },
  {
   "cell_type": "code",
   "execution_count": null,
   "id": "43a12b9b-d22a-4583-9b31-8e36a456cd53",
   "metadata": {},
   "outputs": [],
   "source": [
    "dataloader = ds.tensorflow()"
   ]
  },
  {
   "cell_type": "code",
   "execution_count": null,
   "id": "a7157fb4-6243-4cf1-b51c-a72d1c33b5df",
   "metadata": {},
   "outputs": [
    {
     "data": {
      "text/plain": [
       "<DatasetAdapter element_spec={'audios': TensorSpec(shape=(None, 1), dtype=tf.float64, name=None), 'transcripts': TensorSpec(shape=(1,), dtype=tf.string, name=None)}>"
      ]
     },
     "execution_count": 6,
     "metadata": {},
     "output_type": "execute_result"
    }
   ],
   "source": [
    "dataloader"
   ]
  },
  {
   "cell_type": "code",
   "execution_count": null,
   "id": "8d99a914-2647-45ac-8b5f-e8c0204a3bb5",
   "metadata": {},
   "outputs": [],
   "source": [
    "import tensorflow_io\n",
    "import tensorflow_datasets as tfds"
   ]
  },
  {
   "cell_type": "code",
   "execution_count": null,
   "id": "8d3df203-af2d-4541-ae30-bca0e2eba778",
   "metadata": {},
   "outputs": [],
   "source": []
  },
  {
   "cell_type": "code",
   "execution_count": null,
   "id": "4177d13d-0d8f-4a34-ac49-3b9e70dec076",
   "metadata": {},
   "outputs": [],
   "source": []
  }
 ],
 "metadata": {
  "kernelspec": {
   "display_name": "Python 3",
   "language": "python",
   "name": "python3"
  },
  "language_info": {
   "codemirror_mode": {
    "name": "ipython",
    "version": 3
   },
   "file_extension": ".py",
   "mimetype": "text/x-python",
   "name": "python",
   "nbconvert_exporter": "python",
   "pygments_lexer": "ipython3",
   "version": "3.8.10"
  }
 },
 "nbformat": 4,
 "nbformat_minor": 5
}
