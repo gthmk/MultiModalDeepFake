{
 "cells": [
  {
   "cell_type": "code",
   "execution_count": 1,
   "id": "78ff2411",
   "metadata": {},
   "outputs": [
    {
     "name": "stderr",
     "output_type": "stream",
     "text": [
      "/home/ubuntu/.local/lib/python3.8/site-packages/pandas/core/computation/expressions.py:20: UserWarning: Pandas requires version '2.7.3' or newer of 'numexpr' (version '2.7.1' currently installed).\n",
      "  from pandas.core.computation.check import NUMEXPR_INSTALLED\n"
     ]
    }
   ],
   "source": [
    "import pandas as pd"
   ]
  },
  {
   "cell_type": "code",
   "execution_count": 2,
   "id": "ee0c7792-5d06-446c-83f9-f646f68d40c9",
   "metadata": {},
   "outputs": [],
   "source": [
    "data = pd.read_csv('/home/ubuntu/data/wavefake_data/LJ_metadata.csv')"
   ]
  },
  {
   "cell_type": "code",
   "execution_count": 3,
   "id": "8012bb49-6e21-4943-90ca-11a2ebf73e3d",
   "metadata": {},
   "outputs": [],
   "source": [
    "sample = data[data.ElevenLabs.isna()].head(2)"
   ]
  },
  {
   "cell_type": "code",
   "execution_count": 4,
   "id": "afb9aa33-c9a2-4d3a-b9ae-89273865e563",
   "metadata": {},
   "outputs": [],
   "source": [
    "sample.to_csv('/home/ubuntu/sample.csv')"
   ]
  }
 ],
 "metadata": {
  "kernelspec": {
   "display_name": "Python 3",
   "language": "python",
   "name": "python3"
  },
  "language_info": {
   "codemirror_mode": {
    "name": "ipython",
    "version": 3
   },
   "file_extension": ".py",
   "mimetype": "text/x-python",
   "name": "python",
   "nbconvert_exporter": "python",
   "pygments_lexer": "ipython3",
   "version": "3.8.10"
  }
 },
 "nbformat": 4,
 "nbformat_minor": 5
}
