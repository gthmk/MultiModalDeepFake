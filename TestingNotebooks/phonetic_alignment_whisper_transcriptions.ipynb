{
 "cells": [
  {
   "cell_type": "code",
   "execution_count": 12,
   "id": "d939d305",
   "metadata": {},
   "outputs": [],
   "source": [
    "import os\n",
    "import shutil\n",
    "from tqdm import tqdm"
   ]
  },
  {
   "cell_type": "markdown",
   "id": "18459aa8",
   "metadata": {},
   "source": [
    "## Vox Celeb Selected IDs\n",
    "\n",
    "__Put all .txt (trascription) and .wav (audio) files in one folder__"
   ]
  },
  {
   "cell_type": "code",
   "execution_count": 3,
   "id": "f63d6c2a",
   "metadata": {},
   "outputs": [],
   "source": [
    "root = '/Users/gautham/Documents/Documents - gBookPro/Berkeley MIMS/Semester 3/FakeAVCeleb/DeepFakeDetection/data/real_videos_train/'\n",
    "origin = 'source_data'\n",
    "target = 'phonetic_alignment_source'"
   ]
  },
  {
   "cell_type": "code",
   "execution_count": 6,
   "id": "5243a8db",
   "metadata": {},
   "outputs": [],
   "source": [
    "wav_files = []\n",
    "for root, dirs, files in os.walk(root+origin):\n",
    "    for file in files:\n",
    "        if file.endswith(\".wav\"):\n",
    "             wav_files.append(os.path.join(root, file))"
   ]
  },
  {
   "cell_type": "code",
   "execution_count": 8,
   "id": "41e8c3e5",
   "metadata": {},
   "outputs": [
    {
     "data": {
      "text/plain": [
       "855"
      ]
     },
     "execution_count": 8,
     "metadata": {},
     "output_type": "execute_result"
    }
   ],
   "source": [
    "len(wav_files)"
   ]
  },
  {
   "cell_type": "code",
   "execution_count": 9,
   "id": "912adc5b",
   "metadata": {},
   "outputs": [
    {
     "data": {
      "text/plain": [
       "'/Users/gautham/Documents/Documents - gBookPro/Berkeley MIMS/Semester 3/FakeAVCeleb/DeepFakeDetection/data/real_videos_train/source_data/id01168/00027.wav'"
      ]
     },
     "execution_count": 9,
     "metadata": {},
     "output_type": "execute_result"
    }
   ],
   "source": [
    "wav_files[0]"
   ]
  },
  {
   "cell_type": "code",
   "execution_count": 16,
   "id": "af64a69c",
   "metadata": {},
   "outputs": [
    {
     "name": "stderr",
     "output_type": "stream",
     "text": [
      "100%|██████████████████████████████████████████████████████████████████████████████████████| 855/855 [00:01<00:00, 687.48it/s]\n"
     ]
    }
   ],
   "source": [
    "for wav_file in tqdm(wav_files):\n",
    "    \n",
    "    origin_file = wav_file\n",
    "    target_file = wav_file.replace(origin, target)\n",
    "    \n",
    "    shutil.copy(origin_file, target_file)"
   ]
  },
  {
   "cell_type": "markdown",
   "id": "4b795c86",
   "metadata": {},
   "source": [
    "__Run MFA__"
   ]
  },
  {
   "cell_type": "code",
   "execution_count": 17,
   "id": "17f3e93f",
   "metadata": {},
   "outputs": [
    {
     "name": "stdout",
     "output_type": "stream",
     "text": [
      "-\u001b[1m Acoustic model:\u001b[0m \u001b[32menglish_us_arpa_None\u001b[0m\r\n",
      "  -\u001b[1m Version:\u001b[0m \u001b[31m2.0.0rc4.dev19+ged818cb.d20220404\u001b[0m\r\n",
      "  -\u001b[1m Train date:\u001b[0m \u001b[36m2022-05-11 11:19:39.314871\u001b[0m\r\n",
      "  -\u001b[1m Architecture:\u001b[0m \u001b[36mgmm-hmm\u001b[0m\r\n",
      "  -\u001b[1m Phone type:\u001b[0m \u001b[36mtriphone\u001b[0m\r\n",
      "  -\u001b[1m Features:\u001b[0m \u001b[36m\u001b[0m\r\n",
      "    -\u001b[1m Feature type:\u001b[0m \u001b[36mmfcc\u001b[0m\r\n",
      "    -\u001b[1m Frame shift:\u001b[0m \u001b[36m10\u001b[0m\r\n",
      "    -\u001b[1m Performs speaker adaptation:\u001b[0m \u001b[32mTrue\u001b[0m\r\n",
      "    -\u001b[1m Performs LDA on features:\u001b[0m \u001b[32mTrue\u001b[0m\r\n",
      "\r\n",
      "  -\u001b[1m Phones:\u001b[0m \u001b[36mAA\u001b[0m, \u001b[36mAA0\u001b[0m, \u001b[36mAA1\u001b[0m, \u001b[36mAA2\u001b[0m, \u001b[36mAE\u001b[0m, \u001b[36mAE0\u001b[0m, \u001b[36mAE1\u001b[0m, \u001b[36mAE2\u001b[0m, \u001b[36mAH\u001b[0m, \u001b[36mAH0\u001b[0m, \u001b[36mAH1\u001b[0m, \u001b[36mAH2\u001b[0m, \u001b[36mAO\u001b[0m, \u001b[36mAO0\u001b[0m, \u001b[36mAO1\u001b[0m, \u001b[36mAO2\u001b[0m, \u001b[36mAW\u001b[0m, \u001b[36mAW0\u001b[0m, \u001b[36mAW1\u001b[0m, \u001b[36mAW2\u001b[0m, \u001b[36mAY\u001b[0m, \u001b[36mAY0\u001b[0m, \u001b[36mAY1\u001b[0m,\r\n",
      "            \u001b[36mAY2\u001b[0m, \u001b[36mB\u001b[0m, \u001b[36mCH\u001b[0m, \u001b[36mD\u001b[0m, \u001b[36mDH\u001b[0m, \u001b[36mEH\u001b[0m, \u001b[36mEH0\u001b[0m, \u001b[36mEH1\u001b[0m, \u001b[36mEH2\u001b[0m, \u001b[36mER\u001b[0m, \u001b[36mER0\u001b[0m, \u001b[36mER1\u001b[0m, \u001b[36mER2\u001b[0m, \u001b[36mEY\u001b[0m, \u001b[36mEY0\u001b[0m, \u001b[36mEY1\u001b[0m, \u001b[36mEY2\u001b[0m, \u001b[36mF\u001b[0m, \u001b[36mG\u001b[0m, \u001b[36mHH\u001b[0m, \u001b[36mIH\u001b[0m, \u001b[36mIH0\u001b[0m, \u001b[36mIH1\u001b[0m, \u001b[36mIH2\u001b[0m, \u001b[36mIY\u001b[0m,\r\n",
      "            \u001b[36mIY0\u001b[0m, \u001b[36mIY1\u001b[0m, \u001b[36mIY2\u001b[0m, \u001b[36mJH\u001b[0m, \u001b[36mK\u001b[0m, \u001b[36mL\u001b[0m, \u001b[36mM\u001b[0m, \u001b[36mN\u001b[0m, \u001b[36mNG\u001b[0m, \u001b[36mOW\u001b[0m, \u001b[36mOW0\u001b[0m, \u001b[36mOW1\u001b[0m, \u001b[36mOW2\u001b[0m, \u001b[36mOY\u001b[0m, \u001b[36mOY0\u001b[0m, \u001b[36mOY1\u001b[0m, \u001b[36mOY2\u001b[0m, \u001b[36mP\u001b[0m, \u001b[36mR\u001b[0m, \u001b[36mS\u001b[0m, \u001b[36mSH\u001b[0m, \u001b[36mT\u001b[0m, \u001b[36mTH\u001b[0m, \u001b[36mUH\u001b[0m, \u001b[36mUH0\u001b[0m, \u001b[36mUH1\u001b[0m,\r\n",
      "            \u001b[36mUH2\u001b[0m, \u001b[36mUW\u001b[0m, \u001b[36mUW0\u001b[0m, \u001b[36mUW1\u001b[0m, \u001b[36mUW2\u001b[0m, \u001b[36mV\u001b[0m, \u001b[36mW\u001b[0m, \u001b[36mY\u001b[0m, \u001b[36mZ\u001b[0m, and \u001b[36mZH\u001b[0m\r\n",
      "\r\n",
      "\u001b[0m"
     ]
    }
   ],
   "source": [
    "!mfa model inspect acoustic english_us_arpa"
   ]
  },
  {
   "cell_type": "code",
   "execution_count": 19,
   "id": "f9bc6712",
   "metadata": {},
   "outputs": [
    {
     "name": "stdout",
     "output_type": "stream",
     "text": [
      "\u001b[32mINFO\u001b[0m - Setting up corpus information...\n",
      "\u001b[32mINFO\u001b[0m - Loading corpus from source files...\n",
      "100%|████████████████████████████████████████| 855/855 [00:01<00:00, 759.28it/s]\n",
      "\u001b[32mINFO\u001b[0m - Found 8 speakers across 855 files, average number of utterances per speaker: 106.875\n",
      "\u001b[32mINFO\u001b[0m - Initializing multiprocessing jobs...\n",
      "\u001b[32mINFO\u001b[0m - Creating corpus split for feature generation...\n",
      "\u001b[32mINFO\u001b[0m - Generating base features (mfcc)...\n",
      "\u001b[32mINFO\u001b[0m - Generating MFCCs...\n",
      " 98%|████████████████████████████████████████▎| 840/855 [00:20<00:00, 41.11it/s]\n",
      "\u001b[32mINFO\u001b[0m - Calculating CMVN...\n",
      "\u001b[32mINFO\u001b[0m - Creating corpus split with features...\n",
      "\u001b[32mINFO\u001b[0m - Skipping transcription testing\n",
      "\u001b[32mINFO\u001b[0m - Finished initializing!\n",
      "\n",
      "\u001b[32mINFO\u001b[0m - \u001b[1m******\u001b[0m\n",
      "\u001b[32mINFO\u001b[0m - \u001b[1mCorpus\u001b[0m\n",
      "\u001b[32mINFO\u001b[0m - \u001b[1m******\u001b[0m\n",
      "\n",
      "\u001b[32mINFO\u001b[0m -   \u001b[32m855\u001b[0m sound files\n",
      "\u001b[32mINFO\u001b[0m -   \u001b[32m855\u001b[0m text files\n",
      "\u001b[32mINFO\u001b[0m -   \u001b[32m8\u001b[0m speakers\n",
      "\u001b[32mINFO\u001b[0m -   \u001b[32m855\u001b[0m utterances\n",
      "\u001b[32mINFO\u001b[0m -   \u001b[32m6224.458\u001b[0m seconds total duration\n",
      "\n",
      "\u001b[32mINFO\u001b[0m -   \u001b[1mSound file read errors\u001b[0m\n",
      "\u001b[32mINFO\u001b[0m -   \u001b[1m======================\u001b[0m\n",
      "\n",
      "\u001b[32mINFO\u001b[0m -     There were \u001b[32mno\u001b[0m issues reading sound files.\n",
      "\n",
      "\u001b[32mINFO\u001b[0m -   \u001b[1mFeature generation\u001b[0m\n",
      "\u001b[32mINFO\u001b[0m -   \u001b[1m==================\u001b[0m\n",
      "\n",
      "\u001b[32mINFO\u001b[0m -     There were \u001b[32mno\u001b[0m utterances missing features.\n",
      "\n",
      "\u001b[32mINFO\u001b[0m -   \u001b[1mFiles without transcriptions\u001b[0m\n",
      "\u001b[32mINFO\u001b[0m -   \u001b[1m============================\u001b[0m\n",
      "\n",
      "\u001b[32mINFO\u001b[0m -     There were \u001b[32mno\u001b[0m sound files missing transcriptions.\n",
      "\n",
      "\u001b[32mINFO\u001b[0m -   \u001b[1mTranscriptions without sound files\u001b[0m\n",
      "\u001b[32mINFO\u001b[0m -   \u001b[1m==================================\u001b[0m\n",
      "\n",
      "\u001b[32mINFO\u001b[0m -     There were \u001b[32mno\u001b[0m transcription files missing sound files.\n",
      "\n",
      "\n",
      "\u001b[32mINFO\u001b[0m - \u001b[1m**********\u001b[0m\n",
      "\u001b[32mINFO\u001b[0m - \u001b[1mDictionary\u001b[0m\n",
      "\u001b[32mINFO\u001b[0m - \u001b[1m**********\u001b[0m\n",
      "\n",
      "\u001b[32mINFO\u001b[0m -   \u001b[1mOut of vocabulary words\u001b[0m\n",
      "\u001b[32mINFO\u001b[0m -   \u001b[1m=======================\u001b[0m\n",
      "\n",
      "\u001b[32mINFO\u001b[0m -     \u001b[33m119\u001b[0m OOV word types\n",
      "\u001b[32mINFO\u001b[0m -     \u001b[33m5226\u001b[0m total OOV tokens\n",
      "\n",
      "\u001b[32mINFO\u001b[0m -     For a full list of the word types, please see:\n",
      "\n",
      "\u001b[32mINFO\u001b[0m -         \u001b[1m/Users/gautham/Documents/MFA/phonetic_alignment_validate_pretrained/oovs_found.txt\u001b[0m\n",
      "\n",
      "\u001b[32mINFO\u001b[0m -     For a by-utterance breakdown of missing words, see:\n",
      "\n",
      "\u001b[32mINFO\u001b[0m -         \u001b[1m/Users/gautham/Documents/MFA/phonetic_alignment_validate_pretrained/utterance_oovs.txt\u001b[0m\n",
      "\n",
      "\n",
      "\u001b[32mINFO\u001b[0m -   \u001b[1mAcoustic model compatibility\u001b[0m\n",
      "\u001b[32mINFO\u001b[0m -   \u001b[1m============================\u001b[0m\n",
      "\n",
      "\u001b[32mINFO\u001b[0m -     There were \u001b[32mno\u001b[0m phones in the dictionary without acoustic models.\n",
      "\n",
      "\u001b[32mINFO\u001b[0m - Compiling training graphs...\n",
      "100%|████████████████████████████████████████| 855/855 [00:08<00:00, 103.78it/s]\n",
      "\u001b[32mINFO\u001b[0m - Generating alignments...\n",
      " 90%|████████████████████████████████████▉    | 770/855 [00:33<00:03, 22.79it/s]\n",
      "\u001b[32mINFO\u001b[0m - Calculating fMLLR for speaker adaptation...\n",
      "100%|█████████████████████████████████████████████| 8/8 [00:14<00:00,  1.80s/it]\n",
      "\u001b[32mINFO\u001b[0m - Generating alignments...\n",
      " 91%|█████████████████████████████████████▍   | 782/855 [00:26<00:02, 29.20it/s]\n",
      "\n",
      "\u001b[32mINFO\u001b[0m - \u001b[1m*********\u001b[0m\n",
      "\u001b[32mINFO\u001b[0m - \u001b[1mAlignment\u001b[0m\n",
      "\u001b[32mINFO\u001b[0m - \u001b[1m*********\u001b[0m\n",
      "\n",
      "\u001b[32mINFO\u001b[0m -   \u001b[32m0\u001b[0m utterances were too short to be aligned\n",
      "\u001b[32mINFO\u001b[0m -   \u001b[33m85\u001b[0m utterances that need a larger beam to align\n",
      "\u001b[32mINFO\u001b[0m -   There were \u001b[31m73\u001b[0m unaligned utterances out of \u001b[1m855\u001b[0m after initial training. For details, please see:\n",
      "\n",
      "\u001b[32mINFO\u001b[0m -     \u001b[1m/Users/gautham/Documents/MFA/phonetic_alignment_validate_pretrained/unalignable_files.csv\u001b[0m\n",
      "\u001b[32mINFO\u001b[0m -   \u001b[32m770\u001b[0m utterances were successfully aligned\n",
      "\u001b[32mINFO\u001b[0m - Done! Everything took 130.04342103004456 seconds\n",
      "\u001b[0m"
     ]
    }
   ],
   "source": [
    "!mfa validate '/Users/gautham/Documents/Documents - gBookPro/Berkeley MIMS/Semester 3/FakeAVCeleb/DeepFakeDetection/data/real_videos_train/phonetic_alignment_source' english_us_arpa english_us_arpa"
   ]
  },
  {
   "cell_type": "code",
   "execution_count": 21,
   "id": "e31ee067",
   "metadata": {},
   "outputs": [
    {
     "name": "stdout",
     "output_type": "stream",
     "text": [
      "\u001b[32mINFO\u001b[0m - Setting up corpus information...\n",
      "\u001b[32mINFO\u001b[0m - Loading corpus from source files...\n",
      "100%|████████████████████████████████████████| 855/855 [00:01<00:00, 763.43it/s]\n",
      "\u001b[32mINFO\u001b[0m - Found 8 speakers across 855 files, average number of utterances per speaker: 106.875\n",
      "\u001b[32mINFO\u001b[0m - Initializing multiprocessing jobs...\n",
      "\u001b[32mINFO\u001b[0m - Creating corpus split for feature generation...\n",
      "\u001b[32mINFO\u001b[0m - Generating base features (mfcc)...\n",
      "\u001b[32mINFO\u001b[0m - Generating MFCCs...\n",
      " 98%|████████████████████████████████████████▎| 840/855 [00:20<00:00, 40.71it/s]\n",
      "\u001b[32mINFO\u001b[0m - Calculating CMVN...\n",
      "\u001b[32mINFO\u001b[0m - Creating corpus split with features...\n",
      "\u001b[32mINFO\u001b[0m - Compiling training graphs...\n",
      "100%|████████████████████████████████████████| 855/855 [00:07<00:00, 112.07it/s]\n",
      "\u001b[32mINFO\u001b[0m - Performing first-pass alignment...\n",
      "\u001b[32mINFO\u001b[0m - Generating alignments...\n",
      " 90%|█████████████████████████████████████    | 772/855 [00:33<00:03, 22.84it/s]\n",
      "\u001b[32mINFO\u001b[0m - Calculating fMLLR for speaker adaptation...\n",
      "100%|█████████████████████████████████████████████| 8/8 [00:13<00:00,  1.63s/it]\n",
      "\u001b[32mINFO\u001b[0m - Performing second-pass alignment...\n",
      "\u001b[32mINFO\u001b[0m - Generating alignments...\n",
      " 91%|█████████████████████████████████████▍   | 782/855 [00:26<00:02, 29.61it/s]\n",
      "\u001b[32mINFO\u001b[0m - Exporting TextGrids to /Users/gautham/Documents/Documents - gBookPro/Berkeley MIMS/Semester\n",
      "                3/FakeAVCeleb/DeepFakeDetection/data/real_videos_train/phonetic_alignment_output...\n",
      "\u001b[32mINFO\u001b[0m - Collecting phone and word alignments from alignment lattices...\n",
      " 91%|████████████████████████████████████▌   | 782/855 [00:05<00:00, 139.23it/s]\n",
      "100%|████████████████████████████████████████| 855/855 [00:06<00:00, 142.26it/s]\n",
      "\u001b[32mINFO\u001b[0m - Finished exporting TextGrids to /Users/gautham/Documents/Documents - gBookPro/Berkeley MIMS/Semester\n",
      "                3/FakeAVCeleb/DeepFakeDetection/data/real_videos_train/phonetic_alignment_output!\n",
      "\u001b[32mINFO\u001b[0m - Done! Everything took 143.672865152359 seconds\n",
      "\u001b[0m"
     ]
    }
   ],
   "source": [
    "!mfa align '/Users/gautham/Documents/Documents - gBookPro/Berkeley MIMS/Semester 3/FakeAVCeleb/DeepFakeDetection/data/real_videos_train/phonetic_alignment_source' english_us_arpa english_us_arpa '/Users/gautham/Documents/Documents - gBookPro/Berkeley MIMS/Semester 3/FakeAVCeleb/DeepFakeDetection/data/real_videos_train/phonetic_alignment_output'"
   ]
  },
  {
   "cell_type": "code",
   "execution_count": 41,
   "id": "16d5116e",
   "metadata": {},
   "outputs": [],
   "source": [
    "folder = '/Users/gautham/Documents/Documents - gBookPro/Berkeley MIMS/Semester 3/FakeAVCeleb/DeepFakeDetection/data/real_videos_train/phonetic_alignment_output'\n",
    "tg_files = []\n",
    "for root, dirs, files in os.walk(folder):\n",
    "    for file in files:\n",
    "        if file.endswith(\".TextGrid\"):\n",
    "             tg_files.append(os.path.join(root, file))"
   ]
  },
  {
   "cell_type": "code",
   "execution_count": 42,
   "id": "00566849",
   "metadata": {},
   "outputs": [
    {
     "data": {
      "text/plain": [
       "782"
      ]
     },
     "execution_count": 42,
     "metadata": {},
     "output_type": "execute_result"
    }
   ],
   "source": [
    "len(tg_files)"
   ]
  },
  {
   "cell_type": "markdown",
   "id": "d2b102e7",
   "metadata": {},
   "source": [
    "# Fake AV Celeb\n",
    "\n",
    "Put all .txt (trascription) and .wav (audio) files in one folder"
   ]
  },
  {
   "cell_type": "code",
   "execution_count": 30,
   "id": "711493be",
   "metadata": {},
   "outputs": [],
   "source": [
    "origin = '/Users/gautham/Documents/Documents - gBookPro/Berkeley MIMS/Semester 3/FakeAVCeleb/DeepFakeDetection/data/FakeAVCeleb_v1.2'\n",
    "target = 'FakeAVCeleb_v1.2/new_phonetic_alignment/phonetic_alignment_source/'"
   ]
  },
  {
   "cell_type": "code",
   "execution_count": 25,
   "id": "245ecf13",
   "metadata": {},
   "outputs": [],
   "source": [
    "wav_files = []\n",
    "for root, dirs, files in os.walk(origin):\n",
    "    for file in files:\n",
    "        if file.endswith(\".wav\"):\n",
    "             wav_files.append(os.path.join(root, file))"
   ]
  },
  {
   "cell_type": "code",
   "execution_count": 26,
   "id": "9a1198f6",
   "metadata": {},
   "outputs": [
    {
     "data": {
      "text/plain": [
       "10102"
      ]
     },
     "execution_count": 26,
     "metadata": {},
     "output_type": "execute_result"
    }
   ],
   "source": [
    "len(wav_files)"
   ]
  },
  {
   "cell_type": "code",
   "execution_count": 27,
   "id": "d1cf9ec8",
   "metadata": {},
   "outputs": [
    {
     "data": {
      "text/plain": [
       "'/Users/gautham/Documents/Documents - gBookPro/Berkeley MIMS/Semester 3/FakeAVCeleb/DeepFakeDetection/data/FakeAVCeleb_v1.2/RealVideo-RealAudio/African/men/id01856/00006.wav'"
      ]
     },
     "execution_count": 27,
     "metadata": {},
     "output_type": "execute_result"
    }
   ],
   "source": [
    "wav_files[0]"
   ]
  },
  {
   "cell_type": "code",
   "execution_count": 31,
   "id": "b787fc18",
   "metadata": {},
   "outputs": [
    {
     "data": {
      "text/plain": [
       "'/Users/gautham/Documents/Documents - gBookPro/Berkeley MIMS/Semester 3/FakeAVCeleb/DeepFakeDetection/data/FakeAVCeleb_v1.2/new_phonetic_alignment/phonetic_alignment_source/RealVideo-RealAudio/African/men/id01856/00006.wav'"
      ]
     },
     "execution_count": 31,
     "metadata": {},
     "output_type": "execute_result"
    }
   ],
   "source": [
    "wav_files[0].split('FakeAVCeleb_v1.2/')[0]+target+wav_files[0].split('FakeAVCeleb_v1.2/')[1]"
   ]
  },
  {
   "cell_type": "code",
   "execution_count": 32,
   "id": "5c9393e6",
   "metadata": {},
   "outputs": [
    {
     "name": "stderr",
     "output_type": "stream",
     "text": [
      "100%|██████████████████████████████████████████████████████████████████████████████████| 10102/10102 [00:13<00:00, 745.28it/s]\n"
     ]
    }
   ],
   "source": [
    "for wav_file in tqdm(wav_files):\n",
    "    \n",
    "    origin_file = wav_file\n",
    "    target_file = wav_file.split('FakeAVCeleb_v1.2/')[0]+target+wav_file.split('FakeAVCeleb_v1.2/')[1]\n",
    "    \n",
    "    shutil.copy(origin_file, target_file)"
   ]
  },
  {
   "cell_type": "code",
   "execution_count": 44,
   "id": "8f04d7a5",
   "metadata": {},
   "outputs": [],
   "source": [
    "folder = '/Users/gautham/Documents/Documents - gBookPro/Berkeley MIMS/Semester 3/FakeAVCeleb/DeepFakeDetection/data/FakeAVCeleb_v1.2/new_phonetic_alignment/phonetic_alignment_source'\n",
    "\n",
    "wav_files = []\n",
    "for root, dirs, files in os.walk(folder):\n",
    "    for file in files:\n",
    "        if file.endswith(\".wav\"):\n",
    "             wav_files.append(os.path.join(root, file))"
   ]
  },
  {
   "cell_type": "code",
   "execution_count": 45,
   "id": "da614ba6",
   "metadata": {},
   "outputs": [
    {
     "data": {
      "text/plain": [
       "10102"
      ]
     },
     "execution_count": 45,
     "metadata": {},
     "output_type": "execute_result"
    }
   ],
   "source": [
    "len(wav_files)"
   ]
  },
  {
   "cell_type": "code",
   "execution_count": 57,
   "id": "e4bc9329",
   "metadata": {},
   "outputs": [],
   "source": [
    "folder = '/Users/gautham/Documents/Documents - gBookPro/Berkeley MIMS/Semester 3/FakeAVCeleb/DeepFakeDetection/data/FakeAVCeleb_v1.2/new_phonetic_alignment/phonetic_alignment_source'\n",
    "\n",
    "txt_files = []\n",
    "for root, dirs, files in os.walk(folder):\n",
    "    for file in files:\n",
    "        if file.endswith(\".txt\"):\n",
    "             txt_files.append(os.path.join(root, file))"
   ]
  },
  {
   "cell_type": "code",
   "execution_count": 58,
   "id": "d7bb4796",
   "metadata": {},
   "outputs": [
    {
     "data": {
      "text/plain": [
       "10102"
      ]
     },
     "execution_count": 58,
     "metadata": {},
     "output_type": "execute_result"
    }
   ],
   "source": [
    "len(txt_files)"
   ]
  },
  {
   "cell_type": "code",
   "execution_count": 59,
   "id": "9a68512f",
   "metadata": {},
   "outputs": [],
   "source": [
    "for txt_file in txt_files:\n",
    "    \n",
    "    if \"_txttolip\" in txt_file:\n",
    "        \n",
    "        print(txt_file)"
   ]
  },
  {
   "cell_type": "code",
   "execution_count": 56,
   "id": "53e503f2",
   "metadata": {},
   "outputs": [
    {
     "name": "stderr",
     "output_type": "stream",
     "text": [
      "100%|█████████████████████████████████████████████████████████████████████████████████| 10102/10102 [00:01<00:00, 5824.64it/s]\n"
     ]
    }
   ],
   "source": [
    "\"\"\"for txt_file in tqdm(txt_files):\n",
    "    \n",
    "    if \"_txttolip\" in txt_file:\n",
    "        \n",
    "        #print(txt_file)\n",
    "        \n",
    "        src = txt_file\n",
    "        dst = txt_file.replace(\"_txttolip\", \"_wavtolip\")\n",
    "        \n",
    "        os.rename(src, dst)\"\"\""
   ]
  },
  {
   "cell_type": "code",
   "execution_count": 60,
   "id": "f4ec35f5",
   "metadata": {},
   "outputs": [
    {
     "name": "stdout",
     "output_type": "stream",
     "text": [
      "\u001b[32mINFO\u001b[0m - Setting up corpus information...\n",
      "\u001b[32mINFO\u001b[0m - Loading corpus from source files...\n",
      "100%|███████████████████████████████████| 10102/10102 [00:03<00:00, 2670.43it/s]\n",
      "\u001b[32mINFO\u001b[0m - Found 500 speakers across 10102 files, average number of utterances per speaker: 20.204\n",
      "\u001b[32mINFO\u001b[0m - Initializing multiprocessing jobs...\n",
      "\u001b[32mINFO\u001b[0m - Creating corpus split for feature generation...\n",
      "\u001b[32mINFO\u001b[0m - Generating base features (mfcc)...\n",
      "\u001b[32mINFO\u001b[0m - Generating MFCCs...\n",
      "100%|████████████████████████████████████▉| 10090/10102 [02:06<00:00, 79.54it/s]\n",
      "\u001b[33mWARNING\u001b[0m - There were 1 utterances ignored due to an issue in feature generation, see the log file for full details or\n",
      "                   run `mfa validate` on the corpus.\n",
      "\u001b[32mINFO\u001b[0m - Calculating CMVN...\n",
      "\u001b[32mINFO\u001b[0m - Creating corpus split with features...\n",
      "\u001b[32mINFO\u001b[0m - Skipping transcription testing\n",
      "\u001b[32mINFO\u001b[0m - Finished initializing!\n",
      "\n",
      "\u001b[32mINFO\u001b[0m - \u001b[1m******\u001b[0m\n",
      "\u001b[32mINFO\u001b[0m - \u001b[1mCorpus\u001b[0m\n",
      "\u001b[32mINFO\u001b[0m - \u001b[1m******\u001b[0m\n",
      "\n",
      "\u001b[32mINFO\u001b[0m -   \u001b[32m10102\u001b[0m sound files\n",
      "\u001b[32mINFO\u001b[0m -   \u001b[32m10102\u001b[0m text files\n",
      "\u001b[32mINFO\u001b[0m -   \u001b[32m500\u001b[0m speakers\n",
      "\u001b[32mINFO\u001b[0m -   \u001b[32m10102\u001b[0m utterances\n",
      "\u001b[32mINFO\u001b[0m -   \u001b[32m51344.841\u001b[0m seconds total duration\n",
      "\n",
      "\u001b[32mINFO\u001b[0m -   \u001b[1mSound file read errors\u001b[0m\n",
      "\u001b[32mINFO\u001b[0m -   \u001b[1m======================\u001b[0m\n",
      "\n",
      "\u001b[32mINFO\u001b[0m -     There were \u001b[32mno\u001b[0m issues reading sound files.\n",
      "\n",
      "\u001b[32mINFO\u001b[0m -   \u001b[1mFeature generation\u001b[0m\n",
      "\u001b[32mINFO\u001b[0m -   \u001b[1m==================\u001b[0m\n",
      "\n",
      "\u001b[32mINFO\u001b[0m -     There were \u001b[31m1\u001b[0m utterances missing features. Please see\n",
      "                \u001b[1m/Users/gautham/Documents/MFA/phonetic_alignment_source_validate_pretrained/missing_features.csv\u001b[0m for a\n",
      "                list.\n",
      "\n",
      "\u001b[32mINFO\u001b[0m -   \u001b[1mFiles without transcriptions\u001b[0m\n",
      "\u001b[32mINFO\u001b[0m -   \u001b[1m============================\u001b[0m\n",
      "\n",
      "\u001b[32mINFO\u001b[0m -     There were \u001b[32mno\u001b[0m sound files missing transcriptions.\n",
      "\n",
      "\u001b[32mINFO\u001b[0m -   \u001b[1mTranscriptions without sound files\u001b[0m\n",
      "\u001b[32mINFO\u001b[0m -   \u001b[1m==================================\u001b[0m\n",
      "\n",
      "\u001b[32mINFO\u001b[0m -     There were \u001b[32mno\u001b[0m transcription files missing sound files.\n",
      "\n",
      "\n",
      "\u001b[32mINFO\u001b[0m - \u001b[1m**********\u001b[0m\n",
      "\u001b[32mINFO\u001b[0m - \u001b[1mDictionary\u001b[0m\n",
      "\u001b[32mINFO\u001b[0m - \u001b[1m**********\u001b[0m\n",
      "\n",
      "\u001b[32mINFO\u001b[0m -   \u001b[1mOut of vocabulary words\u001b[0m\n",
      "\u001b[32mINFO\u001b[0m -   \u001b[1m=======================\u001b[0m\n",
      "\n",
      "\u001b[32mINFO\u001b[0m -     \u001b[33m564\u001b[0m OOV word types\n",
      "\u001b[32mINFO\u001b[0m -     \u001b[33m36373\u001b[0m total OOV tokens\n",
      "\n",
      "\u001b[32mINFO\u001b[0m -     For a full list of the word types, please see:\n",
      "\n",
      "\u001b[32mINFO\u001b[0m -         \u001b[1m/Users/gautham/Documents/MFA/phonetic_alignment_source_validate_pretrained/oovs_found.txt\u001b[0m\n",
      "\n",
      "\u001b[32mINFO\u001b[0m -     For a by-utterance breakdown of missing words, see:\n",
      "\n",
      "\u001b[32mINFO\u001b[0m -         \u001b[1m/Users/gautham/Documents/MFA/phonetic_alignment_source_validate_pretrained/utterance_oovs.txt\u001b[0m\n",
      "\n",
      "\n",
      "\u001b[32mINFO\u001b[0m -   \u001b[1mAcoustic model compatibility\u001b[0m\n",
      "\u001b[32mINFO\u001b[0m -   \u001b[1m============================\u001b[0m\n",
      "\n",
      "\u001b[32mINFO\u001b[0m -     There were \u001b[32mno\u001b[0m phones in the dictionary without acoustic models.\n",
      "\n",
      "\u001b[32mINFO\u001b[0m - Compiling training graphs...\n",
      "100%|███████████████████████████████████▉| 10101/10102 [00:29<00:00, 348.01it/s]\n",
      "\u001b[32mINFO\u001b[0m - Generating alignments...\n",
      " 95%|████████████████████████████████████  | 9594/10102 [02:25<00:07, 65.93it/s]\n",
      "\u001b[32mINFO\u001b[0m - Calculating fMLLR for speaker adaptation...\n",
      "100%|█████████████████████████████████████████| 500/500 [01:37<00:00,  5.11it/s]\n",
      "\u001b[32mINFO\u001b[0m - Generating alignments...\n",
      " 95%|███████████████████████████████████▉  | 9568/10102 [02:16<00:07, 70.35it/s]\n",
      "\n",
      "\u001b[32mINFO\u001b[0m - \u001b[1m*********\u001b[0m\n",
      "\u001b[32mINFO\u001b[0m - \u001b[1mAlignment\u001b[0m\n",
      "\u001b[32mINFO\u001b[0m - \u001b[1m*********\u001b[0m\n",
      "\n",
      "\u001b[32mINFO\u001b[0m -   \u001b[32m0\u001b[0m utterances were too short to be aligned\n",
      "\u001b[32mINFO\u001b[0m -   \u001b[33m507\u001b[0m utterances that need a larger beam to align\n",
      "\u001b[32mINFO\u001b[0m -   There were \u001b[31m534\u001b[0m unaligned utterances out of \u001b[1m10102\u001b[0m after initial training. For details, please see:\n",
      "\n",
      "\u001b[32mINFO\u001b[0m -     \u001b[1m/Users/gautham/Documents/MFA/phonetic_alignment_source_validate_pretrained/unalignable_files.csv\u001b[0m\n",
      "\u001b[32mINFO\u001b[0m -   \u001b[32m9595\u001b[0m utterances were successfully aligned\n",
      "\u001b[32mINFO\u001b[0m - Done! Everything took 568.558121919632 seconds\n",
      "\u001b[0m"
     ]
    }
   ],
   "source": [
    "!mfa validate '/Users/gautham/Documents/Documents - gBookPro/Berkeley MIMS/Semester 3/FakeAVCeleb/DeepFakeDetection/data/FakeAVCeleb_v1.2/new_phonetic_alignment/phonetic_alignment_source' english_us_arpa english_us_arpa"
   ]
  },
  {
   "cell_type": "code",
   "execution_count": 61,
   "id": "b9a7bbd8",
   "metadata": {},
   "outputs": [
    {
     "name": "stdout",
     "output_type": "stream",
     "text": [
      "\u001b[32mINFO\u001b[0m - Setting up corpus information...\n",
      "\u001b[32mINFO\u001b[0m - Loading corpus from source files...\n",
      "100%|███████████████████████████████████| 10102/10102 [00:02<00:00, 3662.75it/s]\n",
      "\u001b[32mINFO\u001b[0m - Found 500 speakers across 10102 files, average number of utterances per speaker: 20.204\n",
      "\u001b[32mINFO\u001b[0m - Initializing multiprocessing jobs...\n",
      "\u001b[32mINFO\u001b[0m - Creating corpus split for feature generation...\n",
      "\u001b[32mINFO\u001b[0m - Generating base features (mfcc)...\n",
      "\u001b[32mINFO\u001b[0m - Generating MFCCs...\n",
      "100%|████████████████████████████████████▉| 10090/10102 [02:19<00:00, 72.36it/s]\n",
      "\u001b[33mWARNING\u001b[0m - There were 1 utterances ignored due to an issue in feature generation, see the log file for full details or\n",
      "                   run `mfa validate` on the corpus.\n",
      "\u001b[32mINFO\u001b[0m - Calculating CMVN...\n",
      "\u001b[32mINFO\u001b[0m - Creating corpus split with features...\n",
      "\u001b[32mINFO\u001b[0m - Compiling training graphs...\n",
      "100%|███████████████████████████████████▉| 10101/10102 [00:30<00:00, 336.25it/s]\n",
      "\u001b[32mINFO\u001b[0m - Performing first-pass alignment...\n",
      "\u001b[32mINFO\u001b[0m - Generating alignments...\n",
      " 95%|████████████████████████████████████  | 9593/10102 [02:35<00:08, 61.51it/s]\n",
      "\u001b[32mINFO\u001b[0m - Calculating fMLLR for speaker adaptation...\n",
      "100%|█████████████████████████████████████████| 500/500 [01:33<00:00,  5.37it/s]\n",
      "\u001b[32mINFO\u001b[0m - Performing second-pass alignment...\n",
      "\u001b[32mINFO\u001b[0m - Generating alignments...\n",
      " 95%|███████████████████████████████████▉  | 9567/10102 [02:04<00:06, 76.64it/s]\n",
      "\u001b[32mINFO\u001b[0m - Exporting TextGrids to /Users/gautham/Documents/Documents - gBookPro/Berkeley MIMS/Semester\n",
      "                3/FakeAVCeleb/DeepFakeDetection/data/FakeAVCeleb_v1.2/new_phonetic_alignment/phonetic_alignment_output..\n",
      "                .\n",
      "\u001b[32mINFO\u001b[0m - Collecting phone and word alignments from alignment lattices...\n",
      " 95%|███████████████████████████████████  | 9567/10102 [00:15<00:00, 627.23it/s]\n",
      "100%|████████████████████████████████████| 10102/10102 [00:22<00:00, 451.83it/s]\n",
      "\u001b[32mINFO\u001b[0m - Finished exporting TextGrids to /Users/gautham/Documents/Documents - gBookPro/Berkeley MIMS/Semester\n",
      "                3/FakeAVCeleb/DeepFakeDetection/data/FakeAVCeleb_v1.2/new_phonetic_alignment/phonetic_alignment_output!\n",
      "\u001b[32mINFO\u001b[0m - Done! Everything took 617.1935820579529 seconds\n",
      "\u001b[0m"
     ]
    }
   ],
   "source": [
    "!mfa align --clean '/Users/gautham/Documents/Documents - gBookPro/Berkeley MIMS/Semester 3/FakeAVCeleb/DeepFakeDetection/data/FakeAVCeleb_v1.2/new_phonetic_alignment/phonetic_alignment_source' english_us_arpa english_us_arpa '/Users/gautham/Documents/Documents - gBookPro/Berkeley MIMS/Semester 3/FakeAVCeleb/DeepFakeDetection/data/FakeAVCeleb_v1.2/new_phonetic_alignment/phonetic_alignment_output'"
   ]
  },
  {
   "cell_type": "code",
   "execution_count": 68,
   "id": "172618f1",
   "metadata": {},
   "outputs": [],
   "source": [
    "folder = '/Users/gautham/Documents/Documents - gBookPro/Berkeley MIMS/Semester 3/FakeAVCeleb/DeepFakeDetection/data/FakeAVCeleb_v1.2/new_phonetic_alignment/phonetic_alignment_output'\n",
    "\n",
    "folder = '/Users/gautham/Documents/Documents - gBookPro/Berkeley MIMS/Semester 3/FakeAVCeleb/DeepFakeDetection/data/FakeAVCeleb_v1.2/new_phonetic_alignment/phonetic_alignment_output/FakeVideo-FakeAudio'\n",
    "\n",
    "tg_files = []\n",
    "for root, dirs, files in os.walk(folder):\n",
    "    for file in files:\n",
    "        if file.endswith(\".TextGrid\"):\n",
    "             tg_files.append(os.path.join(root, file))"
   ]
  },
  {
   "cell_type": "code",
   "execution_count": 69,
   "id": "f48228d5",
   "metadata": {},
   "outputs": [
    {
     "data": {
      "text/plain": [
       "4460"
      ]
     },
     "execution_count": 69,
     "metadata": {},
     "output_type": "execute_result"
    }
   ],
   "source": [
    "len(tg_files)"
   ]
  },
  {
   "cell_type": "code",
   "execution_count": null,
   "id": "05cc7c06",
   "metadata": {},
   "outputs": [],
   "source": []
  }
 ],
 "metadata": {
  "kernelspec": {
   "display_name": "290T Project",
   "language": "python",
   "name": "290t-project"
  },
  "language_info": {
   "codemirror_mode": {
    "name": "ipython",
    "version": 3
   },
   "file_extension": ".py",
   "mimetype": "text/x-python",
   "name": "python",
   "nbconvert_exporter": "python",
   "pygments_lexer": "ipython3",
   "version": "3.10.4"
  }
 },
 "nbformat": 4,
 "nbformat_minor": 5
}
