{
  "nbformat": 4,
  "nbformat_minor": 0,
  "metadata": {
    "colab": {
      "provenance": [],
      "authorship_tag": "ABX9TyP1GsvDmxTUgVcfCfoeW3YJ",
      "include_colab_link": true
    },
    "kernelspec": {
      "name": "python3",
      "display_name": "Python 3"
    },
    "language_info": {
      "name": "python"
    }
  },
  "cells": [
    {
      "cell_type": "markdown",
      "metadata": {
        "id": "view-in-github",
        "colab_type": "text"
      },
      "source": [
        "<a href=\"https://colab.research.google.com/github/romitbarua/MultiModalDeepFake/blob/main/TestingNotebooks/MFCCExtractFunc.ipynb\" target=\"_parent\"><img src=\"https://colab.research.google.com/assets/colab-badge.svg\" alt=\"Open In Colab\"/></a>"
      ]
    },
    {
      "cell_type": "code",
      "execution_count": null,
      "metadata": {
        "id": "NVbfWd1eY-ND"
      },
      "outputs": [],
      "source": [
        "import librosa\n",
        "import sklearn\n",
        "import os\n",
        "import numpy as np\n",
        "import scipy\n",
        "from scipy.io import wavfile\n",
        "import scipy.fftpack as fft\n",
        "from scipy.signal import get_window\n",
        "import IPython.display as ipd\n",
        "import matplotlib.pyplot as plt\n",
        "import pandas as pd\n",
        "from librosa import display"
      ]
    },
    {
      "cell_type": "code",
      "source": [
        "from google.colab import drive\n",
        "drive.mount('/content/drive/')"
      ],
      "metadata": {
        "colab": {
          "base_uri": "https://localhost:8080/"
        },
        "id": "YkoWZ7xhZyYa",
        "outputId": "7b6b9644-61a0-45b3-ed32-2170c287d296"
      },
      "execution_count": null,
      "outputs": [
        {
          "output_type": "stream",
          "name": "stdout",
          "text": [
            "Mounted at /content/drive/\n"
          ]
        }
      ]
    },
    {
      "cell_type": "code",
      "source": [
        "filename = '/content/drive/MyDrive/FakeAVCeleb/FakeAVCeleb_v1.2/wav2lip_metadata.csv'\n",
        "metadata_df = pd.read_csv(filename)"
      ],
      "metadata": {
        "id": "1p70da3dd2-P"
      },
      "execution_count": null,
      "outputs": []
    },
    {
      "cell_type": "code",
      "source": [
        "filepaths = metadata_df.filepath.to_list()"
      ],
      "metadata": {
        "id": "IuHVMpvmd-jz"
      },
      "execution_count": null,
      "outputs": []
    },
    {
      "cell_type": "code",
      "source": [
        "audio_file = filepaths[0].replace('mp4', 'wav')"
      ],
      "metadata": {
        "id": "9PLnTmuFeGdG"
      },
      "execution_count": null,
      "outputs": []
    },
    {
      "cell_type": "code",
      "source": [
        "audio,sample_rate = librosa.load(audio_file)\n",
        "mfcc_features = librosa.feature.mfcc(y=audio,sr=sample_rate,n_mfcc=20)"
      ],
      "metadata": {
        "id": "vq6zndgtewLw"
      },
      "execution_count": null,
      "outputs": []
    },
    {
      "cell_type": "code",
      "source": [
        "mfcc_features.shape"
      ],
      "metadata": {
        "colab": {
          "base_uri": "https://localhost:8080/"
        },
        "id": "YT617tdDgSq8",
        "outputId": "4e0c7184-2036-4fb3-8b3e-7932b6f197ac"
      },
      "execution_count": null,
      "outputs": [
        {
          "output_type": "execute_result",
          "data": {
            "text/plain": [
              "(20, 435)"
            ]
          },
          "metadata": {},
          "execution_count": 7
        }
      ]
    },
    {
      "cell_type": "code",
      "source": [
        "mfcc_features = mfcc_features.astype(np.double)"
      ],
      "metadata": {
        "id": "tHsjyWKpiyJx"
      },
      "execution_count": null,
      "outputs": []
    },
    {
      "cell_type": "code",
      "source": [
        "#scale the MFCCs such that each coefficient dimension has zero mean and unit variance\n",
        "#https://scikit-learn.org/stable/modules/generated/sklearn.preprocessing.scale.html\n",
        "scaled_mfcc_features = sklearn.preprocessing.scale(mfcc_features, axis=1)"
      ],
      "metadata": {
        "id": "2Z-5-Nt5hp1S"
      },
      "execution_count": null,
      "outputs": []
    },
    {
      "cell_type": "code",
      "source": [
        "def generate_scaled_mfcc_features(audio_file_path, plot=False):\n",
        "  #generate audio time series\n",
        "  audio,sample_rate = librosa.load(audio_file_path)\n",
        "  #generate mfcc features\n",
        "  mfcc_features = librosa.feature.mfcc(y=audio,sr=sample_rate,n_mfcc=20)\n",
        "  #convert to double to avoid numeric computation issues\n",
        "  mfcc_features = mfcc_features.astype(np.double)\n",
        "  #scale the MFCCs such that each coefficient dimension has zero mean and unit variance\n",
        "  scaled_mfcc_features = sklearn.preprocessing.scale(mfcc_features, axis=1)\n",
        "\n",
        "  if plot==True:\n",
        "    fig, ax = plt.subplots(nrows=1, figsize=(15, 7), sharex=True, sharey=True)\n",
        "    mfcc_plot = display.specshow(mfcc_features, sr=sample_rate, x_axis='time', ax=ax)\n",
        "    ax.set(title='MFCC spectrogram for {}'.format(audio_file_path.split('/')[-2]))\n",
        "    fig.colorbar(mfcc_plot, ax=ax)\n",
        "    return scaled_mfcc_features, mfcc_plot\n",
        "  \n",
        "  return scaled_mfcc_features"
      ],
      "metadata": {
        "id": "oWzi2rv0jMVW"
      },
      "execution_count": null,
      "outputs": []
    },
    {
      "cell_type": "code",
      "source": [
        "generate_scaled_mfcc_features(audio_file, plot=True)"
      ],
      "metadata": {
        "colab": {
          "base_uri": "https://localhost:8080/",
          "height": 702
        },
        "id": "3gnqOQyAkDEv",
        "outputId": "f60ded93-cf11-4448-9b56-60354ed7feca"
      },
      "execution_count": null,
      "outputs": [
        {
          "output_type": "execute_result",
          "data": {
            "text/plain": [
              "(array([[ 0.46665774,  0.66424067,  0.73601981, ...,  1.1262867 ,\n",
              "          1.24987346,  1.32232234],\n",
              "        [-2.58604067, -2.69439848, -2.80997837, ...,  0.36650966,\n",
              "          0.51510846,  0.82878663],\n",
              "        [ 0.64784956,  0.54152059,  0.40525892, ..., -0.65328431,\n",
              "         -1.40672892, -1.47991384],\n",
              "        ...,\n",
              "        [ 0.39948905, -0.55713051, -0.55201782, ..., -0.09048638,\n",
              "         -0.52541208, -0.1474519 ],\n",
              "        [ 1.18303084,  1.13468591,  1.20702292, ...,  0.41240325,\n",
              "         -0.15030572,  0.65868766],\n",
              "        [-0.59885095, -1.05967349, -0.57139227, ...,  0.57837515,\n",
              "         -0.30024465,  0.54611095]]),\n",
              " <matplotlib.collections.QuadMesh at 0x7fbc0d4f2250>)"
            ]
          },
          "metadata": {},
          "execution_count": 14
        },
        {
          "output_type": "display_data",
          "data": {
            "text/plain": [
              "<Figure size 1080x504 with 2 Axes>"
            ],
            "image/png": "[encoded data removed]"
          },
          "metadata": {
            "needs_background": "light"
          }
        }
      ]
    }
  ]
}