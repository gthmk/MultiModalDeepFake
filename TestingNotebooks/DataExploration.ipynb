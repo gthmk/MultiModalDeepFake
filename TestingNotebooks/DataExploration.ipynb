{
 "cells": [
  {
   "cell_type": "code",
   "execution_count": 2,
   "id": "a62065fe",
   "metadata": {},
   "outputs": [],
   "source": [
    "import cv2\n",
    "import matplotlib.pyplot as plt\n",
    "import os\n",
    "import pandas as pd"
   ]
  },
  {
   "cell_type": "code",
   "execution_count": 1,
   "id": "b8561a79",
   "metadata": {},
   "outputs": [],
   "source": [
    "data_dir = '../data/FakeAVCeleb_v1.2'"
   ]
  },
  {
   "cell_type": "code",
   "execution_count": null,
   "id": "0de929a8",
   "metadata": {},
   "outputs": [],
   "source": []
  },
  {
   "cell_type": "code",
   "execution_count": 28,
   "id": "41c940c7",
   "metadata": {},
   "outputs": [],
   "source": [
    "# init data dict\n",
    "## key == id\n",
    "## col include\n",
    "### FakeVideo-FakeAudio: path\n",
    "### FakeVideo-RealAudio: path\n",
    "### RealVideo-FakeAudio: path\n",
    "### RealVideo-RealAudio: path\n",
    "### ethnicity: value\n",
    "### gender: value\n",
    "\n",
    "info_dict = {}\n",
    "\n",
    "#set video type\n",
    "for vid_type in os.listdir(data_dir):\n",
    "    vid_type_path = os.path.join(data_dir,vid_type)\n",
    "    if not os.path.isdir(vid_type_path):\n",
    "        continue\n",
    "    \n",
    "    #set ethnicity\n",
    "    for eth in os.listdir(vid_type_path):\n",
    "        eth_path = os.path.join(vid_type_path, eth)\n",
    "        if not os.path.isdir(eth_path):\n",
    "            continue\n",
    "        \n",
    "        #set gender\n",
    "        for gen in os.listdir(eth_path):\n",
    "            gen_path = os.path.join(eth_path, gen)\n",
    "            if not os.path.isdir(gen_path):\n",
    "                continue\n",
    "                \n",
    "            for ids in os.listdir(gen_path):\n",
    "                ids_path = os.path.join(gen_path, ids)\n",
    "                if not os.path.isdir(ids_path):\n",
    "                    continue\n",
    "                    \n",
    "                    \n",
    "                if ids not in info_dict.keys():\n",
    "                    info_dict[ids] = {\n",
    "                        'FakeVideo-FakeAudio': None,\n",
    "                        'FakeVideo-RealAudio':None,\n",
    "                        'RealVideo-FakeAudio':None,\n",
    "                        'RealVideo-RealAudio':None,\n",
    "                        'Ethnicity': None,\n",
    "                        'Gender':None\n",
    "                    }\n",
    "                    \n",
    "                info_dict[ids][vid_type] = ids_path\n",
    "                info_dict[ids]['Ethnicity'] = eth\n",
    "                info_dict[ids]['Gender'] = gen\n",
    "    "
   ]
  },
  {
   "cell_type": "code",
   "execution_count": 29,
   "id": "06aa1a33",
   "metadata": {},
   "outputs": [
    {
     "data": {
      "text/plain": [
       "500"
      ]
     },
     "execution_count": 29,
     "metadata": {},
     "output_type": "execute_result"
    }
   ],
   "source": [
    "len(info_dict)"
   ]
  },
  {
   "cell_type": "code",
   "execution_count": 30,
   "id": "1851bdc2",
   "metadata": {},
   "outputs": [
    {
     "data": {
      "text/plain": [
       "dict_keys(['id01856', 'id00173', 'id01452', 'id01036', 'id01835', 'id00518', 'id01779', 'id01544', 'id01528', 'id01521', 'id00478', 'id00476', 'id02342', 'id00076', 'id02316', 'id00391', 'id00701', 'id02051', 'id01076', 'id00166', 'id02005', 'id01610', 'id02296', 'id02494', 'id00987', 'id02040', 'id04727', 'id01691', 'id00781', 'id00944', 'id01637', 'id01236', 'id01207', 'id01972', 'id01171', 'id01170', 'id01717', 'id01179', 'id00830', 'id01920', 'id01598', 'id00475', 'id01933', 'id01597', 'id01392', 'id01530', 'id01995', 'id00366', 'id00761', 'id02268', 'id01661', 'id05235', 'id04376', 'id02824', 'id00371', 'id05251', 'id01783', 'id00832', 'id04055', 'id02508', 'id04437', 'id01532', 'id04689', 'id00829', 'id00220', 'id02721', 'id04245', 'id04820', 'id01907', 'id04736', 'id04939', 'id02808', 'id00707', 'id00592', 'id02838', 'id00568', 'id02071', 'id05231', 'id03569', 'id03103', 'id02617', 'id04374', 'id05252', 'id01838', 'id04540', 'id00577', 'id04547', 'id05980', 'id01178', 'id00460', 'id02301', 'id03656', 'id03658', 'id02586', 'id05106', 'id02948', 'id03747', 'id00359', 'id03713', 'id04705', 'id00777', 'id03757', 'id01096', 'id00971', 'id00529', 'id03678', 'id00062', 'id01172', 'id01175', 'id00052', 'id04219', 'id01105', 'id04221', 'id00243', 'id01168', 'id00049', 'id01192', 'id04216', 'id03525', 'id00708', 'id01210', 'id01048', 'id00169', 'id01211', 'id00184', 'id00345', 'id00179', 'id00945', 'id01239', 'id01201', 'id00775', 'id00943', 'id01035', 'id01182', 'id04034', 'id00264', 'id00060', 'id00696', 'id01124', 'id00020', 'id00018', 'id00029', 'id01163', 'id00087', 'id03668', 'id00021', 'id04073', 'id00088', 'id01044', 'id01042', 'id00575', 'id00180', 'id00383', 'id00145', 'id00385', 'id01091', 'id00835', 'id00098', 'id00261', 'id00462', 'id00431', 'id00097', 'id00842', 'id00618', 'id00272', 'id00616', 'id03696', 'id00680', 'id00025', 'id00398', 'id03781', 'id00752', 'id01217', 'id02466', 'id01245', 'id01216', 'id01227', 'id03556', 'id01005', 'id00381', 'id03707', 'id01231', 'id01004', 'id01238', 'id00291', 'id00231', 'id00458', 'id00841', 'id00428', 'id00848', 'id03605', 'id00418', 'id00555', 'id01225', 'id00100', 'id01075', 'id02464', 'id01223', 'id00190', 'id01248', 'id07768', 'id03599', 'id07108', 'id07163', 'id07165', 'id04526', 'id00857', 'id08457', 'id06334', 'id00860', 'id00414', 'id07058', 'id00816', 'id00082', 'id00078', 'id07200', 'id07182', 'id03945', 'id04561', 'id00103', 'id03344', 'id07179', 'id04560', 'id07194', 'id08313', 'id08314', 'id04928', 'id07195', 'id07161', 'id00773', 'id00745', 'id06354', 'id00032', 'id07210', 'id06355', 'id04601', 'id06753', 'id00033', 'id00459', 'id00685', 'id07233', 'id07463', 'id04562', 'id00769', 'id04554', 'id03180', 'id00350', 'id04599', 'id00732', 'id04537', 'id00747', 'id06428', 'id04529', 'id07136', 'id06445', 'id02089', 'id00235', 'id03815', 'id04490', 'id07051', 'id05931', 'id02310', 'id04070', 'id06343', 'id03897', 'id07236', 'id06254', 'id05845', 'id00739', 'id05478', 'id05434', 'id04583', 'id05435', 'id00149', 'id02619', 'id03559', 'id04582', 'id04927', 'id07049', 'id07078', 'id07689', 'id06752', 'id05920', 'id07686', 'id00461', 'id07008', 'id00488', 'id00417', 'id00080', 'id00043', 'id06232', 'id01026', 'id06439', 'id06268', 'id06437', 'id04564', 'id04530', 'id03985', 'id07377', 'id06438', 'id01099', 'id01052', 'id00187', 'id00946', 'id00519', 'id00520', 'id00186', 'id01098', 'id01126', 'id00694', 'id00292', 'id00266', 'id00498', 'id00055', 'id00063', 'id01156', 'id01102', 'id00415', 'id01157', 'id00192', 'id00909', 'id00594', 'id00709', 'id00963', 'id00990', 'id00999', 'id00535', 'id00559', 'id00306', 'id00183', 'id01051', 'id01058', 'id00981', 'id00171', 'id00185', 'id00919', 'id00548', 'id00253', 'id00265', 'id01123', 'id02567', 'id00241', 'id00225', 'id03205', 'id01154', 'id00282', 'id00368', 'id00305', 'id00554', 'id00358', 'id00581', 'id01001', 'id00379', 'id00589', 'id00325', 'id00188', 'id03649', 'id00232', 'id00633', 'id00634', 'id00491', 'id00496', 'id00234', 'id00287', 'id00071', 'id00484', 'id00826', 'id00365', 'id00569', 'id03716', 'id00330', 'id00373', 'id00374', 'id01002', 'id00328', 'id00434', 'id00262', 'id00068', 'id03816', 'id03620', 'id00403', 'id03844', 'id00897', 'id00495', 'id00806', 'id00823', 'id03651', 'id00270', 'id00042', 'id00813', 'id03858', 'id00271', 'id00332', 'id00395', 'id03941', 'id03589', 'id01018', 'id00591', 'id03371', 'id00735', 'id00740', 'id05268', 'id04111', 'id00126', 'id01204', 'id06878', 'id08299', 'id01589', 'id02553', 'id05383', 'id06591', 'id03028', 'id02332', 'id06152', 'id08652', 'id04687', 'id08613', 'id06807', 'id06467', 'id00560', 'id02493', 'id05479', 'id03168', 'id03965', 'id04774', 'id07102', 'id09053', 'id04789', 'id04726', 'id06470', 'id07338', 'id03889', 'id04691', 'id05743', 'id02561', 'id06594', 'id00056', 'id02365', 'id00863', 'id06535', 'id09143', 'id04222', 'id06776', 'id05332', 'id04884', 'id01683', 'id00597', 'id01212', 'id01215', 'id06269', 'id06443', 'id04144', 'id06225', 'id06427', 'id00430', 'id09171', 'id08402', 'id09125', 'id04414', 'id06388', 'id06066', 'id06061', 'id08139', 'id01281', 'id00763', 'id05620', 'id04701', 'id06060', 'id00363', 'id05844', 'id00566', 'id02807', 'id00582', 'id07901', 'id07739', 'id05631', 'id00579', 'id01451', 'id07799', 'id09116', 'id05576', 'id03211', 'id09174', 'id06158', 'id04066', 'id04057', 'id09175', 'id09181', 'id07039', 'id02587', 'id08819', 'id08397', 'id00935', 'id03379', 'id06065', 'id06054', 'id00137', 'id06462', 'id03940', 'id07383'])"
      ]
     },
     "execution_count": 30,
     "metadata": {},
     "output_type": "execute_result"
    }
   ],
   "source": [
    "info_dict.keys()"
   ]
  },
  {
   "cell_type": "code",
   "execution_count": 34,
   "id": "7b2ec058",
   "metadata": {},
   "outputs": [
    {
     "data": {
      "text/html": [
       "<div>\n",
       "<style scoped>\n",
       "    .dataframe tbody tr th:only-of-type {\n",
       "        vertical-align: middle;\n",
       "    }\n",
       "\n",
       "    .dataframe tbody tr th {\n",
       "        vertical-align: top;\n",
       "    }\n",
       "\n",
       "    .dataframe thead th {\n",
       "        text-align: right;\n",
       "    }\n",
       "</style>\n",
       "<table border=\"1\" class=\"dataframe\">\n",
       "  <thead>\n",
       "    <tr style=\"text-align: right;\">\n",
       "      <th></th>\n",
       "      <th>FakeVideo-FakeAudio</th>\n",
       "      <th>FakeVideo-RealAudio</th>\n",
       "      <th>RealVideo-FakeAudio</th>\n",
       "      <th>RealVideo-RealAudio</th>\n",
       "      <th>Ethnicity</th>\n",
       "      <th>Gender</th>\n",
       "    </tr>\n",
       "  </thead>\n",
       "  <tbody>\n",
       "    <tr>\n",
       "      <th>id01856</th>\n",
       "      <td>../data/FakeAVCeleb_v1.2/FakeVideo-FakeAudio/A...</td>\n",
       "      <td>../data/FakeAVCeleb_v1.2/FakeVideo-RealAudio/A...</td>\n",
       "      <td>../data/FakeAVCeleb_v1.2/RealVideo-FakeAudio/A...</td>\n",
       "      <td>../data/FakeAVCeleb_v1.2/RealVideo-RealAudio/A...</td>\n",
       "      <td>African</td>\n",
       "      <td>men</td>\n",
       "    </tr>\n",
       "    <tr>\n",
       "      <th>id00173</th>\n",
       "      <td>../data/FakeAVCeleb_v1.2/FakeVideo-FakeAudio/A...</td>\n",
       "      <td>../data/FakeAVCeleb_v1.2/FakeVideo-RealAudio/A...</td>\n",
       "      <td>../data/FakeAVCeleb_v1.2/RealVideo-FakeAudio/A...</td>\n",
       "      <td>../data/FakeAVCeleb_v1.2/RealVideo-RealAudio/A...</td>\n",
       "      <td>African</td>\n",
       "      <td>men</td>\n",
       "    </tr>\n",
       "    <tr>\n",
       "      <th>id01452</th>\n",
       "      <td>../data/FakeAVCeleb_v1.2/FakeVideo-FakeAudio/A...</td>\n",
       "      <td>../data/FakeAVCeleb_v1.2/FakeVideo-RealAudio/A...</td>\n",
       "      <td>../data/FakeAVCeleb_v1.2/RealVideo-FakeAudio/A...</td>\n",
       "      <td>../data/FakeAVCeleb_v1.2/RealVideo-RealAudio/A...</td>\n",
       "      <td>African</td>\n",
       "      <td>men</td>\n",
       "    </tr>\n",
       "    <tr>\n",
       "      <th>id01036</th>\n",
       "      <td>../data/FakeAVCeleb_v1.2/FakeVideo-FakeAudio/A...</td>\n",
       "      <td>../data/FakeAVCeleb_v1.2/FakeVideo-RealAudio/A...</td>\n",
       "      <td>../data/FakeAVCeleb_v1.2/RealVideo-FakeAudio/A...</td>\n",
       "      <td>../data/FakeAVCeleb_v1.2/RealVideo-RealAudio/A...</td>\n",
       "      <td>African</td>\n",
       "      <td>men</td>\n",
       "    </tr>\n",
       "    <tr>\n",
       "      <th>id01835</th>\n",
       "      <td>../data/FakeAVCeleb_v1.2/FakeVideo-FakeAudio/A...</td>\n",
       "      <td>../data/FakeAVCeleb_v1.2/FakeVideo-RealAudio/A...</td>\n",
       "      <td>../data/FakeAVCeleb_v1.2/RealVideo-FakeAudio/A...</td>\n",
       "      <td>../data/FakeAVCeleb_v1.2/RealVideo-RealAudio/A...</td>\n",
       "      <td>African</td>\n",
       "      <td>men</td>\n",
       "    </tr>\n",
       "    <tr>\n",
       "      <th>...</th>\n",
       "      <td>...</td>\n",
       "      <td>...</td>\n",
       "      <td>...</td>\n",
       "      <td>...</td>\n",
       "      <td>...</td>\n",
       "      <td>...</td>\n",
       "    </tr>\n",
       "    <tr>\n",
       "      <th>id06054</th>\n",
       "      <td>../data/FakeAVCeleb_v1.2/FakeVideo-FakeAudio/A...</td>\n",
       "      <td>../data/FakeAVCeleb_v1.2/FakeVideo-RealAudio/A...</td>\n",
       "      <td>../data/FakeAVCeleb_v1.2/RealVideo-FakeAudio/A...</td>\n",
       "      <td>../data/FakeAVCeleb_v1.2/RealVideo-RealAudio/A...</td>\n",
       "      <td>Asian (East)</td>\n",
       "      <td>women</td>\n",
       "    </tr>\n",
       "    <tr>\n",
       "      <th>id00137</th>\n",
       "      <td>../data/FakeAVCeleb_v1.2/FakeVideo-FakeAudio/A...</td>\n",
       "      <td>../data/FakeAVCeleb_v1.2/FakeVideo-RealAudio/A...</td>\n",
       "      <td>../data/FakeAVCeleb_v1.2/RealVideo-FakeAudio/A...</td>\n",
       "      <td>../data/FakeAVCeleb_v1.2/RealVideo-RealAudio/A...</td>\n",
       "      <td>Asian (East)</td>\n",
       "      <td>women</td>\n",
       "    </tr>\n",
       "    <tr>\n",
       "      <th>id06462</th>\n",
       "      <td>../data/FakeAVCeleb_v1.2/FakeVideo-FakeAudio/A...</td>\n",
       "      <td>../data/FakeAVCeleb_v1.2/FakeVideo-RealAudio/A...</td>\n",
       "      <td>../data/FakeAVCeleb_v1.2/RealVideo-FakeAudio/A...</td>\n",
       "      <td>../data/FakeAVCeleb_v1.2/RealVideo-RealAudio/A...</td>\n",
       "      <td>Asian (East)</td>\n",
       "      <td>women</td>\n",
       "    </tr>\n",
       "    <tr>\n",
       "      <th>id03940</th>\n",
       "      <td>../data/FakeAVCeleb_v1.2/FakeVideo-FakeAudio/A...</td>\n",
       "      <td>../data/FakeAVCeleb_v1.2/FakeVideo-RealAudio/A...</td>\n",
       "      <td>../data/FakeAVCeleb_v1.2/RealVideo-FakeAudio/A...</td>\n",
       "      <td>../data/FakeAVCeleb_v1.2/RealVideo-RealAudio/A...</td>\n",
       "      <td>Asian (East)</td>\n",
       "      <td>women</td>\n",
       "    </tr>\n",
       "    <tr>\n",
       "      <th>id07383</th>\n",
       "      <td>../data/FakeAVCeleb_v1.2/FakeVideo-FakeAudio/A...</td>\n",
       "      <td>../data/FakeAVCeleb_v1.2/FakeVideo-RealAudio/A...</td>\n",
       "      <td>../data/FakeAVCeleb_v1.2/RealVideo-FakeAudio/A...</td>\n",
       "      <td>../data/FakeAVCeleb_v1.2/RealVideo-RealAudio/A...</td>\n",
       "      <td>Asian (East)</td>\n",
       "      <td>women</td>\n",
       "    </tr>\n",
       "  </tbody>\n",
       "</table>\n",
       "<p>500 rows × 6 columns</p>\n",
       "</div>"
      ],
      "text/plain": [
       "                                       FakeVideo-FakeAudio  \\\n",
       "id01856  ../data/FakeAVCeleb_v1.2/FakeVideo-FakeAudio/A...   \n",
       "id00173  ../data/FakeAVCeleb_v1.2/FakeVideo-FakeAudio/A...   \n",
       "id01452  ../data/FakeAVCeleb_v1.2/FakeVideo-FakeAudio/A...   \n",
       "id01036  ../data/FakeAVCeleb_v1.2/FakeVideo-FakeAudio/A...   \n",
       "id01835  ../data/FakeAVCeleb_v1.2/FakeVideo-FakeAudio/A...   \n",
       "...                                                    ...   \n",
       "id06054  ../data/FakeAVCeleb_v1.2/FakeVideo-FakeAudio/A...   \n",
       "id00137  ../data/FakeAVCeleb_v1.2/FakeVideo-FakeAudio/A...   \n",
       "id06462  ../data/FakeAVCeleb_v1.2/FakeVideo-FakeAudio/A...   \n",
       "id03940  ../data/FakeAVCeleb_v1.2/FakeVideo-FakeAudio/A...   \n",
       "id07383  ../data/FakeAVCeleb_v1.2/FakeVideo-FakeAudio/A...   \n",
       "\n",
       "                                       FakeVideo-RealAudio  \\\n",
       "id01856  ../data/FakeAVCeleb_v1.2/FakeVideo-RealAudio/A...   \n",
       "id00173  ../data/FakeAVCeleb_v1.2/FakeVideo-RealAudio/A...   \n",
       "id01452  ../data/FakeAVCeleb_v1.2/FakeVideo-RealAudio/A...   \n",
       "id01036  ../data/FakeAVCeleb_v1.2/FakeVideo-RealAudio/A...   \n",
       "id01835  ../data/FakeAVCeleb_v1.2/FakeVideo-RealAudio/A...   \n",
       "...                                                    ...   \n",
       "id06054  ../data/FakeAVCeleb_v1.2/FakeVideo-RealAudio/A...   \n",
       "id00137  ../data/FakeAVCeleb_v1.2/FakeVideo-RealAudio/A...   \n",
       "id06462  ../data/FakeAVCeleb_v1.2/FakeVideo-RealAudio/A...   \n",
       "id03940  ../data/FakeAVCeleb_v1.2/FakeVideo-RealAudio/A...   \n",
       "id07383  ../data/FakeAVCeleb_v1.2/FakeVideo-RealAudio/A...   \n",
       "\n",
       "                                       RealVideo-FakeAudio  \\\n",
       "id01856  ../data/FakeAVCeleb_v1.2/RealVideo-FakeAudio/A...   \n",
       "id00173  ../data/FakeAVCeleb_v1.2/RealVideo-FakeAudio/A...   \n",
       "id01452  ../data/FakeAVCeleb_v1.2/RealVideo-FakeAudio/A...   \n",
       "id01036  ../data/FakeAVCeleb_v1.2/RealVideo-FakeAudio/A...   \n",
       "id01835  ../data/FakeAVCeleb_v1.2/RealVideo-FakeAudio/A...   \n",
       "...                                                    ...   \n",
       "id06054  ../data/FakeAVCeleb_v1.2/RealVideo-FakeAudio/A...   \n",
       "id00137  ../data/FakeAVCeleb_v1.2/RealVideo-FakeAudio/A...   \n",
       "id06462  ../data/FakeAVCeleb_v1.2/RealVideo-FakeAudio/A...   \n",
       "id03940  ../data/FakeAVCeleb_v1.2/RealVideo-FakeAudio/A...   \n",
       "id07383  ../data/FakeAVCeleb_v1.2/RealVideo-FakeAudio/A...   \n",
       "\n",
       "                                       RealVideo-RealAudio     Ethnicity  \\\n",
       "id01856  ../data/FakeAVCeleb_v1.2/RealVideo-RealAudio/A...       African   \n",
       "id00173  ../data/FakeAVCeleb_v1.2/RealVideo-RealAudio/A...       African   \n",
       "id01452  ../data/FakeAVCeleb_v1.2/RealVideo-RealAudio/A...       African   \n",
       "id01036  ../data/FakeAVCeleb_v1.2/RealVideo-RealAudio/A...       African   \n",
       "id01835  ../data/FakeAVCeleb_v1.2/RealVideo-RealAudio/A...       African   \n",
       "...                                                    ...           ...   \n",
       "id06054  ../data/FakeAVCeleb_v1.2/RealVideo-RealAudio/A...  Asian (East)   \n",
       "id00137  ../data/FakeAVCeleb_v1.2/RealVideo-RealAudio/A...  Asian (East)   \n",
       "id06462  ../data/FakeAVCeleb_v1.2/RealVideo-RealAudio/A...  Asian (East)   \n",
       "id03940  ../data/FakeAVCeleb_v1.2/RealVideo-RealAudio/A...  Asian (East)   \n",
       "id07383  ../data/FakeAVCeleb_v1.2/RealVideo-RealAudio/A...  Asian (East)   \n",
       "\n",
       "        Gender  \n",
       "id01856    men  \n",
       "id00173    men  \n",
       "id01452    men  \n",
       "id01036    men  \n",
       "id01835    men  \n",
       "...        ...  \n",
       "id06054  women  \n",
       "id00137  women  \n",
       "id06462  women  \n",
       "id03940  women  \n",
       "id07383  women  \n",
       "\n",
       "[500 rows x 6 columns]"
      ]
     },
     "execution_count": 34,
     "metadata": {},
     "output_type": "execute_result"
    }
   ],
   "source": [
    "pd.DataFrame.from_dict(info_dict, orient='index')"
   ]
  },
  {
   "cell_type": "code",
   "execution_count": 17,
   "id": "1c2ce7cc",
   "metadata": {},
   "outputs": [
    {
     "data": {
      "text/plain": [
       "False"
      ]
     },
     "execution_count": 17,
     "metadata": {},
     "output_type": "execute_result"
    }
   ],
   "source": [
    "path = '../data/FakeAVCeleb_v1.2/RealVideo-RealAudio/.DS_Store'\n",
    "os.path.isdir(path)"
   ]
  },
  {
   "cell_type": "code",
   "execution_count": 15,
   "id": "aaed65cc",
   "metadata": {},
   "outputs": [
    {
     "data": {
      "text/plain": [
       "dict_keys(['level_1'])"
      ]
     },
     "execution_count": 15,
     "metadata": {},
     "output_type": "execute_result"
    }
   ],
   "source": [
    "test_dict = {}\n",
    "\n",
    "test_dict['level_1'] = 1\n",
    "test_dict.keys()"
   ]
  }
 ],
 "metadata": {
  "kernelspec": {
   "display_name": "Python 3",
   "language": "python",
   "name": "python3"
  },
  "language_info": {
   "codemirror_mode": {
    "name": "ipython",
    "version": 3
   },
   "file_extension": ".py",
   "mimetype": "text/x-python",
   "name": "python",
   "nbconvert_exporter": "python",
   "pygments_lexer": "ipython3",
   "version": "3.8.8"
  }
 },
 "nbformat": 4,
 "nbformat_minor": 5
}
