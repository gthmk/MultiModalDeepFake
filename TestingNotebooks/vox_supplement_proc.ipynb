{
  "nbformat": 4,
  "nbformat_minor": 0,
  "metadata": {
    "colab": {
      "provenance": [],
      "machine_shape": "hm",
      "authorship_tag": "ABX9TyMQ8Y5A9Lrro8yckNQoq2Hs"
    },
    "kernelspec": {
      "name": "python3",
      "display_name": "Python 3"
    },
    "language_info": {
      "name": "python"
    },
    "accelerator": "TPU",
    "gpuClass": "standard"
  },
  "cells": [
    {
      "cell_type": "code",
      "execution_count": 1,
      "metadata": {
        "colab": {
          "base_uri": "https://localhost:8080/"
        },
        "id": "Pd8QZmvDlZ9N",
        "outputId": "995cdf13-1e1e-4506-8ae9-d5251f35a0e6"
      },
      "outputs": [
        {
          "output_type": "stream",
          "name": "stdout",
          "text": [
            "Drive already mounted at /content/drive/; to attempt to forcibly remount, call drive.mount(\"/content/drive/\", force_remount=True).\n"
          ]
        }
      ],
      "source": [
        "from google.colab import drive\n",
        "drive.mount('/content/drive/')"
      ]
    },
    {
      "cell_type": "code",
      "source": [
        "import pandas as pd"
      ],
      "metadata": {
        "id": "Ut_hEvf9yKjN"
      },
      "execution_count": 2,
      "outputs": []
    },
    {
      "cell_type": "code",
      "source": [
        "metadata_file = r'/content/drive/MyDrive/DeepFakeDetection/data/FakeAVCeleb_v1.2/wav2lip_metadata_updated.csv'\n",
        "metadata_df = pd.read_csv(metadata_file)"
      ],
      "metadata": {
        "id": "cl3EDBX6yUN6"
      },
      "execution_count": 3,
      "outputs": []
    },
    {
      "cell_type": "code",
      "source": [
        "metadata_df.columns"
      ],
      "metadata": {
        "colab": {
          "base_uri": "https://localhost:8080/"
        },
        "id": "I-oppiBwyXM0",
        "outputId": "167546e2-309f-45b6-f3ef-a9e6de64dd51"
      },
      "execution_count": 4,
      "outputs": [
        {
          "output_type": "execute_result",
          "data": {
            "text/plain": [
              "Index(['video_id', 'source', 'target1', 'target2', 'method', 'category',\n",
              "       'type', 'race', 'gender', 'filename', 'directory_path', 'mp4_filepath',\n",
              "       'utterance_file', 'wav_filepath', 'audio_length', 'textgrid_filepath'],\n",
              "      dtype='object')"
            ]
          },
          "metadata": {},
          "execution_count": 4
        }
      ]
    },
    {
      "cell_type": "code",
      "source": [
        "g = metadata_df.groupby([\"source\"]).count()"
      ],
      "metadata": {
        "id": "weXUAQGFyaMF"
      },
      "execution_count": 5,
      "outputs": []
    },
    {
      "cell_type": "code",
      "source": [
        "g.apply(lambda x: x.sort_values(ascending=False).head(10))"
      ],
      "metadata": {
        "colab": {
          "base_uri": "https://localhost:8080/",
          "height": 458
        },
        "id": "7Qisf_arzEiy",
        "outputId": "fa4e446c-882d-4f10-9ac8-e8995b801f96"
      },
      "execution_count": 6,
      "outputs": [
        {
          "output_type": "execute_result",
          "data": {
            "text/plain": [
              "         video_id  target1  target2  method  category  type  race  gender  \\\n",
              "source                                                                      \n",
              "id01610        38       38       38      38        38    38    38      38   \n",
              "id00366        31       31       31      31        31    31    31      31   \n",
              "id02494        26       26       26      26        26    26    26      26   \n",
              "id01182        24       24       24      24        24    24    24      24   \n",
              "id01098        21       21       21      21        21    21    21      21   \n",
              "id01156        21       21       21      21        21    21    21      21   \n",
              "id01171        21       21       21      21        21    21    21      21   \n",
              "id01170        21       21       21      21        21    21    21      21   \n",
              "id01168        21       21       21      21        21    21    21      21   \n",
              "id01163        21       21       21      21        21    21    21      21   \n",
              "\n",
              "         filename  directory_path  mp4_filepath  utterance_file  wav_filepath  \\\n",
              "source                                                                          \n",
              "id01610        38              38            38              38            38   \n",
              "id00366        31              31            31              31            31   \n",
              "id02494        26              26            26              26            26   \n",
              "id01182        24              24            24              24            24   \n",
              "id01098        21              21            21              21            21   \n",
              "id01156        21              21            21              21            21   \n",
              "id01171        21              21            21              21            21   \n",
              "id01170        21              21            21              21            21   \n",
              "id01168        21              21            21              21            21   \n",
              "id01163        21              21            21              21            21   \n",
              "\n",
              "         audio_length  textgrid_filepath  \n",
              "source                                    \n",
              "id01610            38                 38  \n",
              "id00366            31                 31  \n",
              "id02494            26                 26  \n",
              "id01182            24                 24  \n",
              "id01098            21                 21  \n",
              "id01156            21                 21  \n",
              "id01171            21                 21  \n",
              "id01170            21                 21  \n",
              "id01168            21                 21  \n",
              "id01163            21                 21  "
            ],
            "text/html": [
              "\n",
              "  <div id=\"df-9e6cc5ae-b289-4b31-911d-de987fd07df6\">\n",
              "    <div class=\"colab-df-container\">\n",
              "      <div>\n",
              "<style scoped>\n",
              "    .dataframe tbody tr th:only-of-type {\n",
              "        vertical-align: middle;\n",
              "    }\n",
              "\n",
              "    .dataframe tbody tr th {\n",
              "        vertical-align: top;\n",
              "    }\n",
              "\n",
              "    .dataframe thead th {\n",
              "        text-align: right;\n",
              "    }\n",
              "</style>\n",
              "<table border=\"1\" class=\"dataframe\">\n",
              "  <thead>\n",
              "    <tr style=\"text-align: right;\">\n",
              "      <th></th>\n",
              "      <th>video_id</th>\n",
              "      <th>target1</th>\n",
              "      <th>target2</th>\n",
              "      <th>method</th>\n",
              "      <th>category</th>\n",
              "      <th>type</th>\n",
              "      <th>race</th>\n",
              "      <th>gender</th>\n",
              "      <th>filename</th>\n",
              "      <th>directory_path</th>\n",
              "      <th>mp4_filepath</th>\n",
              "      <th>utterance_file</th>\n",
              "      <th>wav_filepath</th>\n",
              "      <th>audio_length</th>\n",
              "      <th>textgrid_filepath</th>\n",
              "    </tr>\n",
              "    <tr>\n",
              "      <th>source</th>\n",
              "      <th></th>\n",
              "      <th></th>\n",
              "      <th></th>\n",
              "      <th></th>\n",
              "      <th></th>\n",
              "      <th></th>\n",
              "      <th></th>\n",
              "      <th></th>\n",
              "      <th></th>\n",
              "      <th></th>\n",
              "      <th></th>\n",
              "      <th></th>\n",
              "      <th></th>\n",
              "      <th></th>\n",
              "      <th></th>\n",
              "    </tr>\n",
              "  </thead>\n",
              "  <tbody>\n",
              "    <tr>\n",
              "      <th>id01610</th>\n",
              "      <td>38</td>\n",
              "      <td>38</td>\n",
              "      <td>38</td>\n",
              "      <td>38</td>\n",
              "      <td>38</td>\n",
              "      <td>38</td>\n",
              "      <td>38</td>\n",
              "      <td>38</td>\n",
              "      <td>38</td>\n",
              "      <td>38</td>\n",
              "      <td>38</td>\n",
              "      <td>38</td>\n",
              "      <td>38</td>\n",
              "      <td>38</td>\n",
              "      <td>38</td>\n",
              "    </tr>\n",
              "    <tr>\n",
              "      <th>id00366</th>\n",
              "      <td>31</td>\n",
              "      <td>31</td>\n",
              "      <td>31</td>\n",
              "      <td>31</td>\n",
              "      <td>31</td>\n",
              "      <td>31</td>\n",
              "      <td>31</td>\n",
              "      <td>31</td>\n",
              "      <td>31</td>\n",
              "      <td>31</td>\n",
              "      <td>31</td>\n",
              "      <td>31</td>\n",
              "      <td>31</td>\n",
              "      <td>31</td>\n",
              "      <td>31</td>\n",
              "    </tr>\n",
              "    <tr>\n",
              "      <th>id02494</th>\n",
              "      <td>26</td>\n",
              "      <td>26</td>\n",
              "      <td>26</td>\n",
              "      <td>26</td>\n",
              "      <td>26</td>\n",
              "      <td>26</td>\n",
              "      <td>26</td>\n",
              "      <td>26</td>\n",
              "      <td>26</td>\n",
              "      <td>26</td>\n",
              "      <td>26</td>\n",
              "      <td>26</td>\n",
              "      <td>26</td>\n",
              "      <td>26</td>\n",
              "      <td>26</td>\n",
              "    </tr>\n",
              "    <tr>\n",
              "      <th>id01182</th>\n",
              "      <td>24</td>\n",
              "      <td>24</td>\n",
              "      <td>24</td>\n",
              "      <td>24</td>\n",
              "      <td>24</td>\n",
              "      <td>24</td>\n",
              "      <td>24</td>\n",
              "      <td>24</td>\n",
              "      <td>24</td>\n",
              "      <td>24</td>\n",
              "      <td>24</td>\n",
              "      <td>24</td>\n",
              "      <td>24</td>\n",
              "      <td>24</td>\n",
              "      <td>24</td>\n",
              "    </tr>\n",
              "    <tr>\n",
              "      <th>id01098</th>\n",
              "      <td>21</td>\n",
              "      <td>21</td>\n",
              "      <td>21</td>\n",
              "      <td>21</td>\n",
              "      <td>21</td>\n",
              "      <td>21</td>\n",
              "      <td>21</td>\n",
              "      <td>21</td>\n",
              "      <td>21</td>\n",
              "      <td>21</td>\n",
              "      <td>21</td>\n",
              "      <td>21</td>\n",
              "      <td>21</td>\n",
              "      <td>21</td>\n",
              "      <td>21</td>\n",
              "    </tr>\n",
              "    <tr>\n",
              "      <th>id01156</th>\n",
              "      <td>21</td>\n",
              "      <td>21</td>\n",
              "      <td>21</td>\n",
              "      <td>21</td>\n",
              "      <td>21</td>\n",
              "      <td>21</td>\n",
              "      <td>21</td>\n",
              "      <td>21</td>\n",
              "      <td>21</td>\n",
              "      <td>21</td>\n",
              "      <td>21</td>\n",
              "      <td>21</td>\n",
              "      <td>21</td>\n",
              "      <td>21</td>\n",
              "      <td>21</td>\n",
              "    </tr>\n",
              "    <tr>\n",
              "      <th>id01171</th>\n",
              "      <td>21</td>\n",
              "      <td>21</td>\n",
              "      <td>21</td>\n",
              "      <td>21</td>\n",
              "      <td>21</td>\n",
              "      <td>21</td>\n",
              "      <td>21</td>\n",
              "      <td>21</td>\n",
              "      <td>21</td>\n",
              "      <td>21</td>\n",
              "      <td>21</td>\n",
              "      <td>21</td>\n",
              "      <td>21</td>\n",
              "      <td>21</td>\n",
              "      <td>21</td>\n",
              "    </tr>\n",
              "    <tr>\n",
              "      <th>id01170</th>\n",
              "      <td>21</td>\n",
              "      <td>21</td>\n",
              "      <td>21</td>\n",
              "      <td>21</td>\n",
              "      <td>21</td>\n",
              "      <td>21</td>\n",
              "      <td>21</td>\n",
              "      <td>21</td>\n",
              "      <td>21</td>\n",
              "      <td>21</td>\n",
              "      <td>21</td>\n",
              "      <td>21</td>\n",
              "      <td>21</td>\n",
              "      <td>21</td>\n",
              "      <td>21</td>\n",
              "    </tr>\n",
              "    <tr>\n",
              "      <th>id01168</th>\n",
              "      <td>21</td>\n",
              "      <td>21</td>\n",
              "      <td>21</td>\n",
              "      <td>21</td>\n",
              "      <td>21</td>\n",
              "      <td>21</td>\n",
              "      <td>21</td>\n",
              "      <td>21</td>\n",
              "      <td>21</td>\n",
              "      <td>21</td>\n",
              "      <td>21</td>\n",
              "      <td>21</td>\n",
              "      <td>21</td>\n",
              "      <td>21</td>\n",
              "      <td>21</td>\n",
              "    </tr>\n",
              "    <tr>\n",
              "      <th>id01163</th>\n",
              "      <td>21</td>\n",
              "      <td>21</td>\n",
              "      <td>21</td>\n",
              "      <td>21</td>\n",
              "      <td>21</td>\n",
              "      <td>21</td>\n",
              "      <td>21</td>\n",
              "      <td>21</td>\n",
              "      <td>21</td>\n",
              "      <td>21</td>\n",
              "      <td>21</td>\n",
              "      <td>21</td>\n",
              "      <td>21</td>\n",
              "      <td>21</td>\n",
              "      <td>21</td>\n",
              "    </tr>\n",
              "  </tbody>\n",
              "</table>\n",
              "</div>\n",
              "      <button class=\"colab-df-convert\" onclick=\"convertToInteractive('df-9e6cc5ae-b289-4b31-911d-de987fd07df6')\"\n",
              "              title=\"Convert this dataframe to an interactive table.\"\n",
              "              style=\"display:none;\">\n",
              "        \n",
              "  <svg xmlns=\"http://www.w3.org/2000/svg\" height=\"24px\"viewBox=\"0 0 24 24\"\n",
              "       width=\"24px\">\n",
              "    <path d=\"M0 0h24v24H0V0z\" fill=\"none\"/>\n",
              "    <path d=\"M18.56 5.44l.94 2.06.94-2.06 2.06-.94-2.06-.94-.94-2.06-.94 2.06-2.06.94zm-11 1L8.5 8.5l.94-2.06 2.06-.94-2.06-.94L8.5 2.5l-.94 2.06-2.06.94zm10 10l.94 2.06.94-2.06 2.06-.94-2.06-.94-.94-2.06-.94 2.06-2.06.94z\"/><path d=\"M17.41 7.96l-1.37-1.37c-.4-.4-.92-.59-1.43-.59-.52 0-1.04.2-1.43.59L10.3 9.45l-7.72 7.72c-.78.78-.78 2.05 0 2.83L4 21.41c.39.39.9.59 1.41.59.51 0 1.02-.2 1.41-.59l7.78-7.78 2.81-2.81c.8-.78.8-2.07 0-2.86zM5.41 20L4 18.59l7.72-7.72 1.47 1.35L5.41 20z\"/>\n",
              "  </svg>\n",
              "      </button>\n",
              "      \n",
              "  <style>\n",
              "    .colab-df-container {\n",
              "      display:flex;\n",
              "      flex-wrap:wrap;\n",
              "      gap: 12px;\n",
              "    }\n",
              "\n",
              "    .colab-df-convert {\n",
              "      background-color: #E8F0FE;\n",
              "      border: none;\n",
              "      border-radius: 50%;\n",
              "      cursor: pointer;\n",
              "      display: none;\n",
              "      fill: #1967D2;\n",
              "      height: 32px;\n",
              "      padding: 0 0 0 0;\n",
              "      width: 32px;\n",
              "    }\n",
              "\n",
              "    .colab-df-convert:hover {\n",
              "      background-color: #E2EBFA;\n",
              "      box-shadow: 0px 1px 2px rgba(60, 64, 67, 0.3), 0px 1px 3px 1px rgba(60, 64, 67, 0.15);\n",
              "      fill: #174EA6;\n",
              "    }\n",
              "\n",
              "    [theme=dark] .colab-df-convert {\n",
              "      background-color: #3B4455;\n",
              "      fill: #D2E3FC;\n",
              "    }\n",
              "\n",
              "    [theme=dark] .colab-df-convert:hover {\n",
              "      background-color: #434B5C;\n",
              "      box-shadow: 0px 1px 3px 1px rgba(0, 0, 0, 0.15);\n",
              "      filter: drop-shadow(0px 1px 2px rgba(0, 0, 0, 0.3));\n",
              "      fill: #FFFFFF;\n",
              "    }\n",
              "  </style>\n",
              "\n",
              "      <script>\n",
              "        const buttonEl =\n",
              "          document.querySelector('#df-9e6cc5ae-b289-4b31-911d-de987fd07df6 button.colab-df-convert');\n",
              "        buttonEl.style.display =\n",
              "          google.colab.kernel.accessAllowed ? 'block' : 'none';\n",
              "\n",
              "        async function convertToInteractive(key) {\n",
              "          const element = document.querySelector('#df-9e6cc5ae-b289-4b31-911d-de987fd07df6');\n",
              "          const dataTable =\n",
              "            await google.colab.kernel.invokeFunction('convertToInteractive',\n",
              "                                                     [key], {});\n",
              "          if (!dataTable) return;\n",
              "\n",
              "          const docLinkHtml = 'Like what you see? Visit the ' +\n",
              "            '<a target=\"_blank\" href=https://colab.research.google.com/notebooks/data_table.ipynb>data table notebook</a>'\n",
              "            + ' to learn more about interactive tables.';\n",
              "          element.innerHTML = '';\n",
              "          dataTable['output_type'] = 'display_data';\n",
              "          await google.colab.output.renderOutput(dataTable, element);\n",
              "          const docLink = document.createElement('div');\n",
              "          docLink.innerHTML = docLinkHtml;\n",
              "          element.appendChild(docLink);\n",
              "        }\n",
              "      </script>\n",
              "    </div>\n",
              "  </div>\n",
              "  "
            ]
          },
          "metadata": {},
          "execution_count": 6
        }
      ]
    },
    {
      "cell_type": "code",
      "source": [
        "metadata_df[metadata_df.source=='id02494']"
      ],
      "metadata": {
        "colab": {
          "base_uri": "https://localhost:8080/",
          "height": 1000
        },
        "id": "-5fSw57PziHC",
        "outputId": "254927ba-9b54-4ad7-f83e-6f2afb61b71f"
      },
      "execution_count": 7,
      "outputs": [
        {
          "output_type": "execute_result",
          "data": {
            "text/plain": [
              "        video_id   source  target1 target2   method category  \\\n",
              "48      video 49  id02494        -       -     real        A   \n",
              "1007  video 1008  id02494  id00366       -  wav2lip        C   \n",
              "1008  video 1009  id02494  id00475       -  wav2lip        C   \n",
              "1009  video 1010  id02494  id00761       -  wav2lip        C   \n",
              "1010  video 1011  id02494  id01036       -  wav2lip        C   \n",
              "1011  video 1012  id02494  id01171       -  wav2lip        C   \n",
              "1012  video 1013  id02494  id01207       -  wav2lip        C   \n",
              "1013  video 1014  id02494  id01392       -  wav2lip        C   \n",
              "1014  video 1015  id02494  id01521       -  wav2lip        C   \n",
              "1015  video 1016  id02494  id01598       -  wav2lip        C   \n",
              "1016  video 1017  id02494  id01610       -  wav2lip        C   \n",
              "1017  video 1018  id02494  id01691       -  wav2lip        C   \n",
              "1018  video 1019  id02494  id01779       -  wav2lip        C   \n",
              "1019  video 1020  id02494  id01835       -  wav2lip        C   \n",
              "1020  video 1021  id02494  id02268       -  wav2lip        C   \n",
              "1021  video 1022  id02494  id02342       -  wav2lip        C   \n",
              "5987  video 5988  id02494  id00166       -  wav2lip        D   \n",
              "5988  video 5989  id02494  id00173       -  wav2lip        D   \n",
              "5989  video 5990  id02494  id00944       -  wav2lip        D   \n",
              "5990  video 5991  id02494  id01036       -  wav2lip        D   \n",
              "5991  video 5992  id02494  id01179       -  wav2lip        D   \n",
              "5992  video 5993  id02494  id01530       -  wav2lip        D   \n",
              "5993  video 5994  id02494  id01717       -  wav2lip        D   \n",
              "5994  video 5995  id02494  id01856       -  wav2lip        D   \n",
              "5995  video 5996  id02494  id02005       -  wav2lip        D   \n",
              "5996  video 5997  id02494  id02051       -  wav2lip        D   \n",
              "\n",
              "                     type     race gender                    filename  \\\n",
              "48    RealVideo-RealAudio  African    men                   00050.mp4   \n",
              "1007  FakeVideo-RealAudio  African    men  00050_id00366_wavtolip.mp4   \n",
              "1008  FakeVideo-RealAudio  African    men  00050_id00475_wavtolip.mp4   \n",
              "1009  FakeVideo-RealAudio  African    men  00050_id00761_wavtolip.mp4   \n",
              "1010  FakeVideo-RealAudio  African    men  00050_id01036_wavtolip.mp4   \n",
              "1011  FakeVideo-RealAudio  African    men  00050_id01171_wavtolip.mp4   \n",
              "1012  FakeVideo-RealAudio  African    men  00050_id01207_wavtolip.mp4   \n",
              "1013  FakeVideo-RealAudio  African    men  00050_id01392_wavtolip.mp4   \n",
              "1014  FakeVideo-RealAudio  African    men  00050_id01521_wavtolip.mp4   \n",
              "1015  FakeVideo-RealAudio  African    men  00050_id01598_wavtolip.mp4   \n",
              "1016  FakeVideo-RealAudio  African    men  00050_id01610_wavtolip.mp4   \n",
              "1017  FakeVideo-RealAudio  African    men  00050_id01691_wavtolip.mp4   \n",
              "1018  FakeVideo-RealAudio  African    men  00050_id01779_wavtolip.mp4   \n",
              "1019  FakeVideo-RealAudio  African    men  00050_id01835_wavtolip.mp4   \n",
              "1020  FakeVideo-RealAudio  African    men  00050_id02268_wavtolip.mp4   \n",
              "1021  FakeVideo-RealAudio  African    men  00050_id02342_wavtolip.mp4   \n",
              "5987  FakeVideo-FakeAudio  African    men  00050_id00166_wavtolip.mp4   \n",
              "5988  FakeVideo-FakeAudio  African    men  00050_id00173_wavtolip.mp4   \n",
              "5989  FakeVideo-FakeAudio  African    men  00050_id00944_wavtolip.mp4   \n",
              "5990  FakeVideo-FakeAudio  African    men  00050_id01036_wavtolip.mp4   \n",
              "5991  FakeVideo-FakeAudio  African    men  00050_id01179_wavtolip.mp4   \n",
              "5992  FakeVideo-FakeAudio  African    men  00050_id01530_wavtolip.mp4   \n",
              "5993  FakeVideo-FakeAudio  African    men  00050_id01717_wavtolip.mp4   \n",
              "5994  FakeVideo-FakeAudio  African    men  00050_id01856_wavtolip.mp4   \n",
              "5995  FakeVideo-FakeAudio  African    men  00050_id02005_wavtolip.mp4   \n",
              "5996  FakeVideo-FakeAudio  African    men  00050_id02051_wavtolip.mp4   \n",
              "\n",
              "                                         directory_path  \\\n",
              "48    /content/drive/MyDrive/DeepFakeDetection/data/...   \n",
              "1007  /content/drive/MyDrive/DeepFakeDetection/data/...   \n",
              "1008  /content/drive/MyDrive/DeepFakeDetection/data/...   \n",
              "1009  /content/drive/MyDrive/DeepFakeDetection/data/...   \n",
              "1010  /content/drive/MyDrive/DeepFakeDetection/data/...   \n",
              "1011  /content/drive/MyDrive/DeepFakeDetection/data/...   \n",
              "1012  /content/drive/MyDrive/DeepFakeDetection/data/...   \n",
              "1013  /content/drive/MyDrive/DeepFakeDetection/data/...   \n",
              "1014  /content/drive/MyDrive/DeepFakeDetection/data/...   \n",
              "1015  /content/drive/MyDrive/DeepFakeDetection/data/...   \n",
              "1016  /content/drive/MyDrive/DeepFakeDetection/data/...   \n",
              "1017  /content/drive/MyDrive/DeepFakeDetection/data/...   \n",
              "1018  /content/drive/MyDrive/DeepFakeDetection/data/...   \n",
              "1019  /content/drive/MyDrive/DeepFakeDetection/data/...   \n",
              "1020  /content/drive/MyDrive/DeepFakeDetection/data/...   \n",
              "1021  /content/drive/MyDrive/DeepFakeDetection/data/...   \n",
              "5987  /content/drive/MyDrive/DeepFakeDetection/data/...   \n",
              "5988  /content/drive/MyDrive/DeepFakeDetection/data/...   \n",
              "5989  /content/drive/MyDrive/DeepFakeDetection/data/...   \n",
              "5990  /content/drive/MyDrive/DeepFakeDetection/data/...   \n",
              "5991  /content/drive/MyDrive/DeepFakeDetection/data/...   \n",
              "5992  /content/drive/MyDrive/DeepFakeDetection/data/...   \n",
              "5993  /content/drive/MyDrive/DeepFakeDetection/data/...   \n",
              "5994  /content/drive/MyDrive/DeepFakeDetection/data/...   \n",
              "5995  /content/drive/MyDrive/DeepFakeDetection/data/...   \n",
              "5996  /content/drive/MyDrive/DeepFakeDetection/data/...   \n",
              "\n",
              "                                           mp4_filepath  \\\n",
              "48    /content/drive/MyDrive/DeepFakeDetection/data/...   \n",
              "1007  /content/drive/MyDrive/DeepFakeDetection/data/...   \n",
              "1008  /content/drive/MyDrive/DeepFakeDetection/data/...   \n",
              "1009  /content/drive/MyDrive/DeepFakeDetection/data/...   \n",
              "1010  /content/drive/MyDrive/DeepFakeDetection/data/...   \n",
              "1011  /content/drive/MyDrive/DeepFakeDetection/data/...   \n",
              "1012  /content/drive/MyDrive/DeepFakeDetection/data/...   \n",
              "1013  /content/drive/MyDrive/DeepFakeDetection/data/...   \n",
              "1014  /content/drive/MyDrive/DeepFakeDetection/data/...   \n",
              "1015  /content/drive/MyDrive/DeepFakeDetection/data/...   \n",
              "1016  /content/drive/MyDrive/DeepFakeDetection/data/...   \n",
              "1017  /content/drive/MyDrive/DeepFakeDetection/data/...   \n",
              "1018  /content/drive/MyDrive/DeepFakeDetection/data/...   \n",
              "1019  /content/drive/MyDrive/DeepFakeDetection/data/...   \n",
              "1020  /content/drive/MyDrive/DeepFakeDetection/data/...   \n",
              "1021  /content/drive/MyDrive/DeepFakeDetection/data/...   \n",
              "5987  /content/drive/MyDrive/DeepFakeDetection/data/...   \n",
              "5988  /content/drive/MyDrive/DeepFakeDetection/data/...   \n",
              "5989  /content/drive/MyDrive/DeepFakeDetection/data/...   \n",
              "5990  /content/drive/MyDrive/DeepFakeDetection/data/...   \n",
              "5991  /content/drive/MyDrive/DeepFakeDetection/data/...   \n",
              "5992  /content/drive/MyDrive/DeepFakeDetection/data/...   \n",
              "5993  /content/drive/MyDrive/DeepFakeDetection/data/...   \n",
              "5994  /content/drive/MyDrive/DeepFakeDetection/data/...   \n",
              "5995  /content/drive/MyDrive/DeepFakeDetection/data/...   \n",
              "5996  /content/drive/MyDrive/DeepFakeDetection/data/...   \n",
              "\n",
              "                                         utterance_file  \\\n",
              "48    /content/drive/MyDrive/DeepFakeDetection/data/...   \n",
              "1007  /content/drive/MyDrive/DeepFakeDetection/data/...   \n",
              "1008  /content/drive/MyDrive/DeepFakeDetection/data/...   \n",
              "1009  /content/drive/MyDrive/DeepFakeDetection/data/...   \n",
              "1010  /content/drive/MyDrive/DeepFakeDetection/data/...   \n",
              "1011  /content/drive/MyDrive/DeepFakeDetection/data/...   \n",
              "1012  /content/drive/MyDrive/DeepFakeDetection/data/...   \n",
              "1013  /content/drive/MyDrive/DeepFakeDetection/data/...   \n",
              "1014  /content/drive/MyDrive/DeepFakeDetection/data/...   \n",
              "1015  /content/drive/MyDrive/DeepFakeDetection/data/...   \n",
              "1016  /content/drive/MyDrive/DeepFakeDetection/data/...   \n",
              "1017  /content/drive/MyDrive/DeepFakeDetection/data/...   \n",
              "1018  /content/drive/MyDrive/DeepFakeDetection/data/...   \n",
              "1019  /content/drive/MyDrive/DeepFakeDetection/data/...   \n",
              "1020  /content/drive/MyDrive/DeepFakeDetection/data/...   \n",
              "1021  /content/drive/MyDrive/DeepFakeDetection/data/...   \n",
              "5987  /content/drive/MyDrive/DeepFakeDetection/data/...   \n",
              "5988  /content/drive/MyDrive/DeepFakeDetection/data/...   \n",
              "5989  /content/drive/MyDrive/DeepFakeDetection/data/...   \n",
              "5990  /content/drive/MyDrive/DeepFakeDetection/data/...   \n",
              "5991  /content/drive/MyDrive/DeepFakeDetection/data/...   \n",
              "5992  /content/drive/MyDrive/DeepFakeDetection/data/...   \n",
              "5993  /content/drive/MyDrive/DeepFakeDetection/data/...   \n",
              "5994  /content/drive/MyDrive/DeepFakeDetection/data/...   \n",
              "5995  /content/drive/MyDrive/DeepFakeDetection/data/...   \n",
              "5996  /content/drive/MyDrive/DeepFakeDetection/data/...   \n",
              "\n",
              "                                           wav_filepath  audio_length  \\\n",
              "48    /content/drive/MyDrive/DeepFakeDetection/data/...      4.340000   \n",
              "1007  /content/drive/MyDrive/DeepFakeDetection/data/...      4.400000   \n",
              "1008  /content/drive/MyDrive/DeepFakeDetection/data/...      4.400000   \n",
              "1009  /content/drive/MyDrive/DeepFakeDetection/data/...      4.400000   \n",
              "1010  /content/drive/MyDrive/DeepFakeDetection/data/...      4.400000   \n",
              "1011  /content/drive/MyDrive/DeepFakeDetection/data/...      4.400000   \n",
              "1012  /content/drive/MyDrive/DeepFakeDetection/data/...      4.400000   \n",
              "1013  /content/drive/MyDrive/DeepFakeDetection/data/...      4.400000   \n",
              "1014  /content/drive/MyDrive/DeepFakeDetection/data/...      4.240000   \n",
              "1015  /content/drive/MyDrive/DeepFakeDetection/data/...      4.400000   \n",
              "1016  /content/drive/MyDrive/DeepFakeDetection/data/...      4.400000   \n",
              "1017  /content/drive/MyDrive/DeepFakeDetection/data/...      4.400000   \n",
              "1018  /content/drive/MyDrive/DeepFakeDetection/data/...      4.400000   \n",
              "1019  /content/drive/MyDrive/DeepFakeDetection/data/...      4.400000   \n",
              "1020  /content/drive/MyDrive/DeepFakeDetection/data/...      4.400000   \n",
              "1021  /content/drive/MyDrive/DeepFakeDetection/data/...      4.400000   \n",
              "5987  /content/drive/MyDrive/DeepFakeDetection/data/...      4.340000   \n",
              "5988  /content/drive/MyDrive/DeepFakeDetection/data/...      4.340000   \n",
              "5989  /content/drive/MyDrive/DeepFakeDetection/data/...      4.340000   \n",
              "5990  /content/drive/MyDrive/DeepFakeDetection/data/...      4.340000   \n",
              "5991  /content/drive/MyDrive/DeepFakeDetection/data/...      4.340000   \n",
              "5992  /content/drive/MyDrive/DeepFakeDetection/data/...      4.220000   \n",
              "5993  /content/drive/MyDrive/DeepFakeDetection/data/...      3.260000   \n",
              "5994  /content/drive/MyDrive/DeepFakeDetection/data/...      3.950023   \n",
              "5995  /content/drive/MyDrive/DeepFakeDetection/data/...      4.340000   \n",
              "5996  /content/drive/MyDrive/DeepFakeDetection/data/...      3.840000   \n",
              "\n",
              "                                      textgrid_filepath  \n",
              "48    /content/drive/MyDrive/DeepFakeDetection/data/...  \n",
              "1007  /content/drive/MyDrive/DeepFakeDetection/data/...  \n",
              "1008  /content/drive/MyDrive/DeepFakeDetection/data/...  \n",
              "1009  /content/drive/MyDrive/DeepFakeDetection/data/...  \n",
              "1010  /content/drive/MyDrive/DeepFakeDetection/data/...  \n",
              "1011  /content/drive/MyDrive/DeepFakeDetection/data/...  \n",
              "1012  /content/drive/MyDrive/DeepFakeDetection/data/...  \n",
              "1013  /content/drive/MyDrive/DeepFakeDetection/data/...  \n",
              "1014  /content/drive/MyDrive/DeepFakeDetection/data/...  \n",
              "1015  /content/drive/MyDrive/DeepFakeDetection/data/...  \n",
              "1016  /content/drive/MyDrive/DeepFakeDetection/data/...  \n",
              "1017  /content/drive/MyDrive/DeepFakeDetection/data/...  \n",
              "1018  /content/drive/MyDrive/DeepFakeDetection/data/...  \n",
              "1019  /content/drive/MyDrive/DeepFakeDetection/data/...  \n",
              "1020  /content/drive/MyDrive/DeepFakeDetection/data/...  \n",
              "1021  /content/drive/MyDrive/DeepFakeDetection/data/...  \n",
              "5987  /content/drive/MyDrive/DeepFakeDetection/data/...  \n",
              "5988  /content/drive/MyDrive/DeepFakeDetection/data/...  \n",
              "5989  /content/drive/MyDrive/DeepFakeDetection/data/...  \n",
              "5990  /content/drive/MyDrive/DeepFakeDetection/data/...  \n",
              "5991  /content/drive/MyDrive/DeepFakeDetection/data/...  \n",
              "5992  /content/drive/MyDrive/DeepFakeDetection/data/...  \n",
              "5993  /content/drive/MyDrive/DeepFakeDetection/data/...  \n",
              "5994  /content/drive/MyDrive/DeepFakeDetection/data/...  \n",
              "5995  /content/drive/MyDrive/DeepFakeDetection/data/...  \n",
              "5996  /content/drive/MyDrive/DeepFakeDetection/data/...  "
            ],
            "text/html": [
              "\n",
              "  <div id=\"df-0ba473ed-22ea-43bb-a97f-a3099c566fd6\">\n",
              "    <div class=\"colab-df-container\">\n",
              "      <div>\n",
              "<style scoped>\n",
              "    .dataframe tbody tr th:only-of-type {\n",
              "        vertical-align: middle;\n",
              "    }\n",
              "\n",
              "    .dataframe tbody tr th {\n",
              "        vertical-align: top;\n",
              "    }\n",
              "\n",
              "    .dataframe thead th {\n",
              "        text-align: right;\n",
              "    }\n",
              "</style>\n",
              "<table border=\"1\" class=\"dataframe\">\n",
              "  <thead>\n",
              "    <tr style=\"text-align: right;\">\n",
              "      <th></th>\n",
              "      <th>video_id</th>\n",
              "      <th>source</th>\n",
              "      <th>target1</th>\n",
              "      <th>target2</th>\n",
              "      <th>method</th>\n",
              "      <th>category</th>\n",
              "      <th>type</th>\n",
              "      <th>race</th>\n",
              "      <th>gender</th>\n",
              "      <th>filename</th>\n",
              "      <th>directory_path</th>\n",
              "      <th>mp4_filepath</th>\n",
              "      <th>utterance_file</th>\n",
              "      <th>wav_filepath</th>\n",
              "      <th>audio_length</th>\n",
              "      <th>textgrid_filepath</th>\n",
              "    </tr>\n",
              "  </thead>\n",
              "  <tbody>\n",
              "    <tr>\n",
              "      <th>48</th>\n",
              "      <td>video 49</td>\n",
              "      <td>id02494</td>\n",
              "      <td>-</td>\n",
              "      <td>-</td>\n",
              "      <td>real</td>\n",
              "      <td>A</td>\n",
              "      <td>RealVideo-RealAudio</td>\n",
              "      <td>African</td>\n",
              "      <td>men</td>\n",
              "      <td>00050.mp4</td>\n",
              "      <td>/content/drive/MyDrive/DeepFakeDetection/data/...</td>\n",
              "      <td>/content/drive/MyDrive/DeepFakeDetection/data/...</td>\n",
              "      <td>/content/drive/MyDrive/DeepFakeDetection/data/...</td>\n",
              "      <td>/content/drive/MyDrive/DeepFakeDetection/data/...</td>\n",
              "      <td>4.340000</td>\n",
              "      <td>/content/drive/MyDrive/DeepFakeDetection/data/...</td>\n",
              "    </tr>\n",
              "    <tr>\n",
              "      <th>1007</th>\n",
              "      <td>video 1008</td>\n",
              "      <td>id02494</td>\n",
              "      <td>id00366</td>\n",
              "      <td>-</td>\n",
              "      <td>wav2lip</td>\n",
              "      <td>C</td>\n",
              "      <td>FakeVideo-RealAudio</td>\n",
              "      <td>African</td>\n",
              "      <td>men</td>\n",
              "      <td>00050_id00366_wavtolip.mp4</td>\n",
              "      <td>/content/drive/MyDrive/DeepFakeDetection/data/...</td>\n",
              "      <td>/content/drive/MyDrive/DeepFakeDetection/data/...</td>\n",
              "      <td>/content/drive/MyDrive/DeepFakeDetection/data/...</td>\n",
              "      <td>/content/drive/MyDrive/DeepFakeDetection/data/...</td>\n",
              "      <td>4.400000</td>\n",
              "      <td>/content/drive/MyDrive/DeepFakeDetection/data/...</td>\n",
              "    </tr>\n",
              "    <tr>\n",
              "      <th>1008</th>\n",
              "      <td>video 1009</td>\n",
              "      <td>id02494</td>\n",
              "      <td>id00475</td>\n",
              "      <td>-</td>\n",
              "      <td>wav2lip</td>\n",
              "      <td>C</td>\n",
              "      <td>FakeVideo-RealAudio</td>\n",
              "      <td>African</td>\n",
              "      <td>men</td>\n",
              "      <td>00050_id00475_wavtolip.mp4</td>\n",
              "      <td>/content/drive/MyDrive/DeepFakeDetection/data/...</td>\n",
              "      <td>/content/drive/MyDrive/DeepFakeDetection/data/...</td>\n",
              "      <td>/content/drive/MyDrive/DeepFakeDetection/data/...</td>\n",
              "      <td>/content/drive/MyDrive/DeepFakeDetection/data/...</td>\n",
              "      <td>4.400000</td>\n",
              "      <td>/content/drive/MyDrive/DeepFakeDetection/data/...</td>\n",
              "    </tr>\n",
              "    <tr>\n",
              "      <th>1009</th>\n",
              "      <td>video 1010</td>\n",
              "      <td>id02494</td>\n",
              "      <td>id00761</td>\n",
              "      <td>-</td>\n",
              "      <td>wav2lip</td>\n",
              "      <td>C</td>\n",
              "      <td>FakeVideo-RealAudio</td>\n",
              "      <td>African</td>\n",
              "      <td>men</td>\n",
              "      <td>00050_id00761_wavtolip.mp4</td>\n",
              "      <td>/content/drive/MyDrive/DeepFakeDetection/data/...</td>\n",
              "      <td>/content/drive/MyDrive/DeepFakeDetection/data/...</td>\n",
              "      <td>/content/drive/MyDrive/DeepFakeDetection/data/...</td>\n",
              "      <td>/content/drive/MyDrive/DeepFakeDetection/data/...</td>\n",
              "      <td>4.400000</td>\n",
              "      <td>/content/drive/MyDrive/DeepFakeDetection/data/...</td>\n",
              "    </tr>\n",
              "    <tr>\n",
              "      <th>1010</th>\n",
              "      <td>video 1011</td>\n",
              "      <td>id02494</td>\n",
              "      <td>id01036</td>\n",
              "      <td>-</td>\n",
              "      <td>wav2lip</td>\n",
              "      <td>C</td>\n",
              "      <td>FakeVideo-RealAudio</td>\n",
              "      <td>African</td>\n",
              "      <td>men</td>\n",
              "      <td>00050_id01036_wavtolip.mp4</td>\n",
              "      <td>/content/drive/MyDrive/DeepFakeDetection/data/...</td>\n",
              "      <td>/content/drive/MyDrive/DeepFakeDetection/data/...</td>\n",
              "      <td>/content/drive/MyDrive/DeepFakeDetection/data/...</td>\n",
              "      <td>/content/drive/MyDrive/DeepFakeDetection/data/...</td>\n",
              "      <td>4.400000</td>\n",
              "      <td>/content/drive/MyDrive/DeepFakeDetection/data/...</td>\n",
              "    </tr>\n",
              "    <tr>\n",
              "      <th>1011</th>\n",
              "      <td>video 1012</td>\n",
              "      <td>id02494</td>\n",
              "      <td>id01171</td>\n",
              "      <td>-</td>\n",
              "      <td>wav2lip</td>\n",
              "      <td>C</td>\n",
              "      <td>FakeVideo-RealAudio</td>\n",
              "      <td>African</td>\n",
              "      <td>men</td>\n",
              "      <td>00050_id01171_wavtolip.mp4</td>\n",
              "      <td>/content/drive/MyDrive/DeepFakeDetection/data/...</td>\n",
              "      <td>/content/drive/MyDrive/DeepFakeDetection/data/...</td>\n",
              "      <td>/content/drive/MyDrive/DeepFakeDetection/data/...</td>\n",
              "      <td>/content/drive/MyDrive/DeepFakeDetection/data/...</td>\n",
              "      <td>4.400000</td>\n",
              "      <td>/content/drive/MyDrive/DeepFakeDetection/data/...</td>\n",
              "    </tr>\n",
              "    <tr>\n",
              "      <th>1012</th>\n",
              "      <td>video 1013</td>\n",
              "      <td>id02494</td>\n",
              "      <td>id01207</td>\n",
              "      <td>-</td>\n",
              "      <td>wav2lip</td>\n",
              "      <td>C</td>\n",
              "      <td>FakeVideo-RealAudio</td>\n",
              "      <td>African</td>\n",
              "      <td>men</td>\n",
              "      <td>00050_id01207_wavtolip.mp4</td>\n",
              "      <td>/content/drive/MyDrive/DeepFakeDetection/data/...</td>\n",
              "      <td>/content/drive/MyDrive/DeepFakeDetection/data/...</td>\n",
              "      <td>/content/drive/MyDrive/DeepFakeDetection/data/...</td>\n",
              "      <td>/content/drive/MyDrive/DeepFakeDetection/data/...</td>\n",
              "      <td>4.400000</td>\n",
              "      <td>/content/drive/MyDrive/DeepFakeDetection/data/...</td>\n",
              "    </tr>\n",
              "    <tr>\n",
              "      <th>1013</th>\n",
              "      <td>video 1014</td>\n",
              "      <td>id02494</td>\n",
              "      <td>id01392</td>\n",
              "      <td>-</td>\n",
              "      <td>wav2lip</td>\n",
              "      <td>C</td>\n",
              "      <td>FakeVideo-RealAudio</td>\n",
              "      <td>African</td>\n",
              "      <td>men</td>\n",
              "      <td>00050_id01392_wavtolip.mp4</td>\n",
              "      <td>/content/drive/MyDrive/DeepFakeDetection/data/...</td>\n",
              "      <td>/content/drive/MyDrive/DeepFakeDetection/data/...</td>\n",
              "      <td>/content/drive/MyDrive/DeepFakeDetection/data/...</td>\n",
              "      <td>/content/drive/MyDrive/DeepFakeDetection/data/...</td>\n",
              "      <td>4.400000</td>\n",
              "      <td>/content/drive/MyDrive/DeepFakeDetection/data/...</td>\n",
              "    </tr>\n",
              "    <tr>\n",
              "      <th>1014</th>\n",
              "      <td>video 1015</td>\n",
              "      <td>id02494</td>\n",
              "      <td>id01521</td>\n",
              "      <td>-</td>\n",
              "      <td>wav2lip</td>\n",
              "      <td>C</td>\n",
              "      <td>FakeVideo-RealAudio</td>\n",
              "      <td>African</td>\n",
              "      <td>men</td>\n",
              "      <td>00050_id01521_wavtolip.mp4</td>\n",
              "      <td>/content/drive/MyDrive/DeepFakeDetection/data/...</td>\n",
              "      <td>/content/drive/MyDrive/DeepFakeDetection/data/...</td>\n",
              "      <td>/content/drive/MyDrive/DeepFakeDetection/data/...</td>\n",
              "      <td>/content/drive/MyDrive/DeepFakeDetection/data/...</td>\n",
              "      <td>4.240000</td>\n",
              "      <td>/content/drive/MyDrive/DeepFakeDetection/data/...</td>\n",
              "    </tr>\n",
              "    <tr>\n",
              "      <th>1015</th>\n",
              "      <td>video 1016</td>\n",
              "      <td>id02494</td>\n",
              "      <td>id01598</td>\n",
              "      <td>-</td>\n",
              "      <td>wav2lip</td>\n",
              "      <td>C</td>\n",
              "      <td>FakeVideo-RealAudio</td>\n",
              "      <td>African</td>\n",
              "      <td>men</td>\n",
              "      <td>00050_id01598_wavtolip.mp4</td>\n",
              "      <td>/content/drive/MyDrive/DeepFakeDetection/data/...</td>\n",
              "      <td>/content/drive/MyDrive/DeepFakeDetection/data/...</td>\n",
              "      <td>/content/drive/MyDrive/DeepFakeDetection/data/...</td>\n",
              "      <td>/content/drive/MyDrive/DeepFakeDetection/data/...</td>\n",
              "      <td>4.400000</td>\n",
              "      <td>/content/drive/MyDrive/DeepFakeDetection/data/...</td>\n",
              "    </tr>\n",
              "    <tr>\n",
              "      <th>1016</th>\n",
              "      <td>video 1017</td>\n",
              "      <td>id02494</td>\n",
              "      <td>id01610</td>\n",
              "      <td>-</td>\n",
              "      <td>wav2lip</td>\n",
              "      <td>C</td>\n",
              "      <td>FakeVideo-RealAudio</td>\n",
              "      <td>African</td>\n",
              "      <td>men</td>\n",
              "      <td>00050_id01610_wavtolip.mp4</td>\n",
              "      <td>/content/drive/MyDrive/DeepFakeDetection/data/...</td>\n",
              "      <td>/content/drive/MyDrive/DeepFakeDetection/data/...</td>\n",
              "      <td>/content/drive/MyDrive/DeepFakeDetection/data/...</td>\n",
              "      <td>/content/drive/MyDrive/DeepFakeDetection/data/...</td>\n",
              "      <td>4.400000</td>\n",
              "      <td>/content/drive/MyDrive/DeepFakeDetection/data/...</td>\n",
              "    </tr>\n",
              "    <tr>\n",
              "      <th>1017</th>\n",
              "      <td>video 1018</td>\n",
              "      <td>id02494</td>\n",
              "      <td>id01691</td>\n",
              "      <td>-</td>\n",
              "      <td>wav2lip</td>\n",
              "      <td>C</td>\n",
              "      <td>FakeVideo-RealAudio</td>\n",
              "      <td>African</td>\n",
              "      <td>men</td>\n",
              "      <td>00050_id01691_wavtolip.mp4</td>\n",
              "      <td>/content/drive/MyDrive/DeepFakeDetection/data/...</td>\n",
              "      <td>/content/drive/MyDrive/DeepFakeDetection/data/...</td>\n",
              "      <td>/content/drive/MyDrive/DeepFakeDetection/data/...</td>\n",
              "      <td>/content/drive/MyDrive/DeepFakeDetection/data/...</td>\n",
              "      <td>4.400000</td>\n",
              "      <td>/content/drive/MyDrive/DeepFakeDetection/data/...</td>\n",
              "    </tr>\n",
              "    <tr>\n",
              "      <th>1018</th>\n",
              "      <td>video 1019</td>\n",
              "      <td>id02494</td>\n",
              "      <td>id01779</td>\n",
              "      <td>-</td>\n",
              "      <td>wav2lip</td>\n",
              "      <td>C</td>\n",
              "      <td>FakeVideo-RealAudio</td>\n",
              "      <td>African</td>\n",
              "      <td>men</td>\n",
              "      <td>00050_id01779_wavtolip.mp4</td>\n",
              "      <td>/content/drive/MyDrive/DeepFakeDetection/data/...</td>\n",
              "      <td>/content/drive/MyDrive/DeepFakeDetection/data/...</td>\n",
              "      <td>/content/drive/MyDrive/DeepFakeDetection/data/...</td>\n",
              "      <td>/content/drive/MyDrive/DeepFakeDetection/data/...</td>\n",
              "      <td>4.400000</td>\n",
              "      <td>/content/drive/MyDrive/DeepFakeDetection/data/...</td>\n",
              "    </tr>\n",
              "    <tr>\n",
              "      <th>1019</th>\n",
              "      <td>video 1020</td>\n",
              "      <td>id02494</td>\n",
              "      <td>id01835</td>\n",
              "      <td>-</td>\n",
              "      <td>wav2lip</td>\n",
              "      <td>C</td>\n",
              "      <td>FakeVideo-RealAudio</td>\n",
              "      <td>African</td>\n",
              "      <td>men</td>\n",
              "      <td>00050_id01835_wavtolip.mp4</td>\n",
              "      <td>/content/drive/MyDrive/DeepFakeDetection/data/...</td>\n",
              "      <td>/content/drive/MyDrive/DeepFakeDetection/data/...</td>\n",
              "      <td>/content/drive/MyDrive/DeepFakeDetection/data/...</td>\n",
              "      <td>/content/drive/MyDrive/DeepFakeDetection/data/...</td>\n",
              "      <td>4.400000</td>\n",
              "      <td>/content/drive/MyDrive/DeepFakeDetection/data/...</td>\n",
              "    </tr>\n",
              "    <tr>\n",
              "      <th>1020</th>\n",
              "      <td>video 1021</td>\n",
              "      <td>id02494</td>\n",
              "      <td>id02268</td>\n",
              "      <td>-</td>\n",
              "      <td>wav2lip</td>\n",
              "      <td>C</td>\n",
              "      <td>FakeVideo-RealAudio</td>\n",
              "      <td>African</td>\n",
              "      <td>men</td>\n",
              "      <td>00050_id02268_wavtolip.mp4</td>\n",
              "      <td>/content/drive/MyDrive/DeepFakeDetection/data/...</td>\n",
              "      <td>/content/drive/MyDrive/DeepFakeDetection/data/...</td>\n",
              "      <td>/content/drive/MyDrive/DeepFakeDetection/data/...</td>\n",
              "      <td>/content/drive/MyDrive/DeepFakeDetection/data/...</td>\n",
              "      <td>4.400000</td>\n",
              "      <td>/content/drive/MyDrive/DeepFakeDetection/data/...</td>\n",
              "    </tr>\n",
              "    <tr>\n",
              "      <th>1021</th>\n",
              "      <td>video 1022</td>\n",
              "      <td>id02494</td>\n",
              "      <td>id02342</td>\n",
              "      <td>-</td>\n",
              "      <td>wav2lip</td>\n",
              "      <td>C</td>\n",
              "      <td>FakeVideo-RealAudio</td>\n",
              "      <td>African</td>\n",
              "      <td>men</td>\n",
              "      <td>00050_id02342_wavtolip.mp4</td>\n",
              "      <td>/content/drive/MyDrive/DeepFakeDetection/data/...</td>\n",
              "      <td>/content/drive/MyDrive/DeepFakeDetection/data/...</td>\n",
              "      <td>/content/drive/MyDrive/DeepFakeDetection/data/...</td>\n",
              "      <td>/content/drive/MyDrive/DeepFakeDetection/data/...</td>\n",
              "      <td>4.400000</td>\n",
              "      <td>/content/drive/MyDrive/DeepFakeDetection/data/...</td>\n",
              "    </tr>\n",
              "    <tr>\n",
              "      <th>5987</th>\n",
              "      <td>video 5988</td>\n",
              "      <td>id02494</td>\n",
              "      <td>id00166</td>\n",
              "      <td>-</td>\n",
              "      <td>wav2lip</td>\n",
              "      <td>D</td>\n",
              "      <td>FakeVideo-FakeAudio</td>\n",
              "      <td>African</td>\n",
              "      <td>men</td>\n",
              "      <td>00050_id00166_wavtolip.mp4</td>\n",
              "      <td>/content/drive/MyDrive/DeepFakeDetection/data/...</td>\n",
              "      <td>/content/drive/MyDrive/DeepFakeDetection/data/...</td>\n",
              "      <td>/content/drive/MyDrive/DeepFakeDetection/data/...</td>\n",
              "      <td>/content/drive/MyDrive/DeepFakeDetection/data/...</td>\n",
              "      <td>4.340000</td>\n",
              "      <td>/content/drive/MyDrive/DeepFakeDetection/data/...</td>\n",
              "    </tr>\n",
              "    <tr>\n",
              "      <th>5988</th>\n",
              "      <td>video 5989</td>\n",
              "      <td>id02494</td>\n",
              "      <td>id00173</td>\n",
              "      <td>-</td>\n",
              "      <td>wav2lip</td>\n",
              "      <td>D</td>\n",
              "      <td>FakeVideo-FakeAudio</td>\n",
              "      <td>African</td>\n",
              "      <td>men</td>\n",
              "      <td>00050_id00173_wavtolip.mp4</td>\n",
              "      <td>/content/drive/MyDrive/DeepFakeDetection/data/...</td>\n",
              "      <td>/content/drive/MyDrive/DeepFakeDetection/data/...</td>\n",
              "      <td>/content/drive/MyDrive/DeepFakeDetection/data/...</td>\n",
              "      <td>/content/drive/MyDrive/DeepFakeDetection/data/...</td>\n",
              "      <td>4.340000</td>\n",
              "      <td>/content/drive/MyDrive/DeepFakeDetection/data/...</td>\n",
              "    </tr>\n",
              "    <tr>\n",
              "      <th>5989</th>\n",
              "      <td>video 5990</td>\n",
              "      <td>id02494</td>\n",
              "      <td>id00944</td>\n",
              "      <td>-</td>\n",
              "      <td>wav2lip</td>\n",
              "      <td>D</td>\n",
              "      <td>FakeVideo-FakeAudio</td>\n",
              "      <td>African</td>\n",
              "      <td>men</td>\n",
              "      <td>00050_id00944_wavtolip.mp4</td>\n",
              "      <td>/content/drive/MyDrive/DeepFakeDetection/data/...</td>\n",
              "      <td>/content/drive/MyDrive/DeepFakeDetection/data/...</td>\n",
              "      <td>/content/drive/MyDrive/DeepFakeDetection/data/...</td>\n",
              "      <td>/content/drive/MyDrive/DeepFakeDetection/data/...</td>\n",
              "      <td>4.340000</td>\n",
              "      <td>/content/drive/MyDrive/DeepFakeDetection/data/...</td>\n",
              "    </tr>\n",
              "    <tr>\n",
              "      <th>5990</th>\n",
              "      <td>video 5991</td>\n",
              "      <td>id02494</td>\n",
              "      <td>id01036</td>\n",
              "      <td>-</td>\n",
              "      <td>wav2lip</td>\n",
              "      <td>D</td>\n",
              "      <td>FakeVideo-FakeAudio</td>\n",
              "      <td>African</td>\n",
              "      <td>men</td>\n",
              "      <td>00050_id01036_wavtolip.mp4</td>\n",
              "      <td>/content/drive/MyDrive/DeepFakeDetection/data/...</td>\n",
              "      <td>/content/drive/MyDrive/DeepFakeDetection/data/...</td>\n",
              "      <td>/content/drive/MyDrive/DeepFakeDetection/data/...</td>\n",
              "      <td>/content/drive/MyDrive/DeepFakeDetection/data/...</td>\n",
              "      <td>4.340000</td>\n",
              "      <td>/content/drive/MyDrive/DeepFakeDetection/data/...</td>\n",
              "    </tr>\n",
              "    <tr>\n",
              "      <th>5991</th>\n",
              "      <td>video 5992</td>\n",
              "      <td>id02494</td>\n",
              "      <td>id01179</td>\n",
              "      <td>-</td>\n",
              "      <td>wav2lip</td>\n",
              "      <td>D</td>\n",
              "      <td>FakeVideo-FakeAudio</td>\n",
              "      <td>African</td>\n",
              "      <td>men</td>\n",
              "      <td>00050_id01179_wavtolip.mp4</td>\n",
              "      <td>/content/drive/MyDrive/DeepFakeDetection/data/...</td>\n",
              "      <td>/content/drive/MyDrive/DeepFakeDetection/data/...</td>\n",
              "      <td>/content/drive/MyDrive/DeepFakeDetection/data/...</td>\n",
              "      <td>/content/drive/MyDrive/DeepFakeDetection/data/...</td>\n",
              "      <td>4.340000</td>\n",
              "      <td>/content/drive/MyDrive/DeepFakeDetection/data/...</td>\n",
              "    </tr>\n",
              "    <tr>\n",
              "      <th>5992</th>\n",
              "      <td>video 5993</td>\n",
              "      <td>id02494</td>\n",
              "      <td>id01530</td>\n",
              "      <td>-</td>\n",
              "      <td>wav2lip</td>\n",
              "      <td>D</td>\n",
              "      <td>FakeVideo-FakeAudio</td>\n",
              "      <td>African</td>\n",
              "      <td>men</td>\n",
              "      <td>00050_id01530_wavtolip.mp4</td>\n",
              "      <td>/content/drive/MyDrive/DeepFakeDetection/data/...</td>\n",
              "      <td>/content/drive/MyDrive/DeepFakeDetection/data/...</td>\n",
              "      <td>/content/drive/MyDrive/DeepFakeDetection/data/...</td>\n",
              "      <td>/content/drive/MyDrive/DeepFakeDetection/data/...</td>\n",
              "      <td>4.220000</td>\n",
              "      <td>/content/drive/MyDrive/DeepFakeDetection/data/...</td>\n",
              "    </tr>\n",
              "    <tr>\n",
              "      <th>5993</th>\n",
              "      <td>video 5994</td>\n",
              "      <td>id02494</td>\n",
              "      <td>id01717</td>\n",
              "      <td>-</td>\n",
              "      <td>wav2lip</td>\n",
              "      <td>D</td>\n",
              "      <td>FakeVideo-FakeAudio</td>\n",
              "      <td>African</td>\n",
              "      <td>men</td>\n",
              "      <td>00050_id01717_wavtolip.mp4</td>\n",
              "      <td>/content/drive/MyDrive/DeepFakeDetection/data/...</td>\n",
              "      <td>/content/drive/MyDrive/DeepFakeDetection/data/...</td>\n",
              "      <td>/content/drive/MyDrive/DeepFakeDetection/data/...</td>\n",
              "      <td>/content/drive/MyDrive/DeepFakeDetection/data/...</td>\n",
              "      <td>3.260000</td>\n",
              "      <td>/content/drive/MyDrive/DeepFakeDetection/data/...</td>\n",
              "    </tr>\n",
              "    <tr>\n",
              "      <th>5994</th>\n",
              "      <td>video 5995</td>\n",
              "      <td>id02494</td>\n",
              "      <td>id01856</td>\n",
              "      <td>-</td>\n",
              "      <td>wav2lip</td>\n",
              "      <td>D</td>\n",
              "      <td>FakeVideo-FakeAudio</td>\n",
              "      <td>African</td>\n",
              "      <td>men</td>\n",
              "      <td>00050_id01856_wavtolip.mp4</td>\n",
              "      <td>/content/drive/MyDrive/DeepFakeDetection/data/...</td>\n",
              "      <td>/content/drive/MyDrive/DeepFakeDetection/data/...</td>\n",
              "      <td>/content/drive/MyDrive/DeepFakeDetection/data/...</td>\n",
              "      <td>/content/drive/MyDrive/DeepFakeDetection/data/...</td>\n",
              "      <td>3.950023</td>\n",
              "      <td>/content/drive/MyDrive/DeepFakeDetection/data/...</td>\n",
              "    </tr>\n",
              "    <tr>\n",
              "      <th>5995</th>\n",
              "      <td>video 5996</td>\n",
              "      <td>id02494</td>\n",
              "      <td>id02005</td>\n",
              "      <td>-</td>\n",
              "      <td>wav2lip</td>\n",
              "      <td>D</td>\n",
              "      <td>FakeVideo-FakeAudio</td>\n",
              "      <td>African</td>\n",
              "      <td>men</td>\n",
              "      <td>00050_id02005_wavtolip.mp4</td>\n",
              "      <td>/content/drive/MyDrive/DeepFakeDetection/data/...</td>\n",
              "      <td>/content/drive/MyDrive/DeepFakeDetection/data/...</td>\n",
              "      <td>/content/drive/MyDrive/DeepFakeDetection/data/...</td>\n",
              "      <td>/content/drive/MyDrive/DeepFakeDetection/data/...</td>\n",
              "      <td>4.340000</td>\n",
              "      <td>/content/drive/MyDrive/DeepFakeDetection/data/...</td>\n",
              "    </tr>\n",
              "    <tr>\n",
              "      <th>5996</th>\n",
              "      <td>video 5997</td>\n",
              "      <td>id02494</td>\n",
              "      <td>id02051</td>\n",
              "      <td>-</td>\n",
              "      <td>wav2lip</td>\n",
              "      <td>D</td>\n",
              "      <td>FakeVideo-FakeAudio</td>\n",
              "      <td>African</td>\n",
              "      <td>men</td>\n",
              "      <td>00050_id02051_wavtolip.mp4</td>\n",
              "      <td>/content/drive/MyDrive/DeepFakeDetection/data/...</td>\n",
              "      <td>/content/drive/MyDrive/DeepFakeDetection/data/...</td>\n",
              "      <td>/content/drive/MyDrive/DeepFakeDetection/data/...</td>\n",
              "      <td>/content/drive/MyDrive/DeepFakeDetection/data/...</td>\n",
              "      <td>3.840000</td>\n",
              "      <td>/content/drive/MyDrive/DeepFakeDetection/data/...</td>\n",
              "    </tr>\n",
              "  </tbody>\n",
              "</table>\n",
              "</div>\n",
              "      <button class=\"colab-df-convert\" onclick=\"convertToInteractive('df-0ba473ed-22ea-43bb-a97f-a3099c566fd6')\"\n",
              "              title=\"Convert this dataframe to an interactive table.\"\n",
              "              style=\"display:none;\">\n",
              "        \n",
              "  <svg xmlns=\"http://www.w3.org/2000/svg\" height=\"24px\"viewBox=\"0 0 24 24\"\n",
              "       width=\"24px\">\n",
              "    <path d=\"M0 0h24v24H0V0z\" fill=\"none\"/>\n",
              "    <path d=\"M18.56 5.44l.94 2.06.94-2.06 2.06-.94-2.06-.94-.94-2.06-.94 2.06-2.06.94zm-11 1L8.5 8.5l.94-2.06 2.06-.94-2.06-.94L8.5 2.5l-.94 2.06-2.06.94zm10 10l.94 2.06.94-2.06 2.06-.94-2.06-.94-.94-2.06-.94 2.06-2.06.94z\"/><path d=\"M17.41 7.96l-1.37-1.37c-.4-.4-.92-.59-1.43-.59-.52 0-1.04.2-1.43.59L10.3 9.45l-7.72 7.72c-.78.78-.78 2.05 0 2.83L4 21.41c.39.39.9.59 1.41.59.51 0 1.02-.2 1.41-.59l7.78-7.78 2.81-2.81c.8-.78.8-2.07 0-2.86zM5.41 20L4 18.59l7.72-7.72 1.47 1.35L5.41 20z\"/>\n",
              "  </svg>\n",
              "      </button>\n",
              "      \n",
              "  <style>\n",
              "    .colab-df-container {\n",
              "      display:flex;\n",
              "      flex-wrap:wrap;\n",
              "      gap: 12px;\n",
              "    }\n",
              "\n",
              "    .colab-df-convert {\n",
              "      background-color: #E8F0FE;\n",
              "      border: none;\n",
              "      border-radius: 50%;\n",
              "      cursor: pointer;\n",
              "      display: none;\n",
              "      fill: #1967D2;\n",
              "      height: 32px;\n",
              "      padding: 0 0 0 0;\n",
              "      width: 32px;\n",
              "    }\n",
              "\n",
              "    .colab-df-convert:hover {\n",
              "      background-color: #E2EBFA;\n",
              "      box-shadow: 0px 1px 2px rgba(60, 64, 67, 0.3), 0px 1px 3px 1px rgba(60, 64, 67, 0.15);\n",
              "      fill: #174EA6;\n",
              "    }\n",
              "\n",
              "    [theme=dark] .colab-df-convert {\n",
              "      background-color: #3B4455;\n",
              "      fill: #D2E3FC;\n",
              "    }\n",
              "\n",
              "    [theme=dark] .colab-df-convert:hover {\n",
              "      background-color: #434B5C;\n",
              "      box-shadow: 0px 1px 3px 1px rgba(0, 0, 0, 0.15);\n",
              "      filter: drop-shadow(0px 1px 2px rgba(0, 0, 0, 0.3));\n",
              "      fill: #FFFFFF;\n",
              "    }\n",
              "  </style>\n",
              "\n",
              "      <script>\n",
              "        const buttonEl =\n",
              "          document.querySelector('#df-0ba473ed-22ea-43bb-a97f-a3099c566fd6 button.colab-df-convert');\n",
              "        buttonEl.style.display =\n",
              "          google.colab.kernel.accessAllowed ? 'block' : 'none';\n",
              "\n",
              "        async function convertToInteractive(key) {\n",
              "          const element = document.querySelector('#df-0ba473ed-22ea-43bb-a97f-a3099c566fd6');\n",
              "          const dataTable =\n",
              "            await google.colab.kernel.invokeFunction('convertToInteractive',\n",
              "                                                     [key], {});\n",
              "          if (!dataTable) return;\n",
              "\n",
              "          const docLinkHtml = 'Like what you see? Visit the ' +\n",
              "            '<a target=\"_blank\" href=https://colab.research.google.com/notebooks/data_table.ipynb>data table notebook</a>'\n",
              "            + ' to learn more about interactive tables.';\n",
              "          element.innerHTML = '';\n",
              "          dataTable['output_type'] = 'display_data';\n",
              "          await google.colab.output.renderOutput(dataTable, element);\n",
              "          const docLink = document.createElement('div');\n",
              "          docLink.innerHTML = docLinkHtml;\n",
              "          element.appendChild(docLink);\n",
              "        }\n",
              "      </script>\n",
              "    </div>\n",
              "  </div>\n",
              "  "
            ]
          },
          "metadata": {},
          "execution_count": 7
        }
      ]
    },
    {
      "cell_type": "markdown",
      "source": [
        "## Metadata proc for vox real videos"
      ],
      "metadata": {
        "id": "rKnRlLOmVyGA"
      }
    },
    {
      "cell_type": "code",
      "source": [
        "import os"
      ],
      "metadata": {
        "id": "i1DQ5tfqWCGk"
      },
      "execution_count": 8,
      "outputs": []
    },
    {
      "cell_type": "code",
      "source": [
        "real_train_path = r'/content/drive/MyDrive/DeepFakeDetection/data/FakeAVCeleb_v1.2/real_videos_train'"
      ],
      "metadata": {
        "id": "ubP1TPbfT3-p"
      },
      "execution_count": 9,
      "outputs": []
    },
    {
      "cell_type": "code",
      "source": [
        "def extract_file_paths(dir_path):\n",
        "\n",
        "  filelist = []\n",
        "\n",
        "  for root, dirs, files in os.walk(dir_path):\n",
        "    for file in files:\n",
        "      filelist.append(os.path.join(root,file))\n",
        "  \n",
        "  return filelist"
      ],
      "metadata": {
        "id": "DhMxLH1rT5Qh"
      },
      "execution_count": 10,
      "outputs": []
    },
    {
      "cell_type": "code",
      "source": [
        "#for name in filelist:\n",
        "  #print(name)"
      ],
      "metadata": {
        "id": "8vCZe-wQXJ-S"
      },
      "execution_count": 11,
      "outputs": []
    },
    {
      "cell_type": "markdown",
      "source": [
        "## Catching videos from vox that don't work with dlib"
      ],
      "metadata": {
        "id": "tgP6z-b_T6V8"
      }
    },
    {
      "cell_type": "code",
      "source": [
        "import os\n",
        "import cv2\n",
        "import dlib\n",
        "from google.colab.patches import cv2_imshow\n",
        "import numpy as np \n",
        "from sklearn.preprocessing import StandardScaler\n",
        "from sklearn.decomposition import PCA\n",
        "import matplotlib.pyplot as plt\n",
        "import librosa\n",
        "from scipy.io import wavfile\n",
        "from sklearn.model_selection import train_test_split\n",
        "from sklearn.linear_model import LinearRegression\n",
        "from sklearn.metrics import mean_squared_error\n",
        "import pandas as pd\n",
        "import seaborn as sns\n",
        "from sklearn.ensemble import RandomForestRegressor"
      ],
      "metadata": {
        "id": "uTRDo0xST57w"
      },
      "execution_count": 12,
      "outputs": []
    },
    {
      "cell_type": "code",
      "source": [
        "SYM_PATH = '/content/drive/MyDrive/DeepFakeDetection'\n",
        "%cd $SYM_PATH\n",
        "%pip install -e ."
      ],
      "metadata": {
        "colab": {
          "base_uri": "https://localhost:8080/"
        },
        "id": "hBw8y7RwUbXe",
        "outputId": "bab962e3-f417-4055-e5fb-092fa3abb259"
      },
      "execution_count": 13,
      "outputs": [
        {
          "output_type": "stream",
          "name": "stdout",
          "text": [
            "/content/drive/MyDrive/DeepFakeDetection\n",
            "Looking in indexes: https://pypi.org/simple, https://us-python.pkg.dev/colab-wheels/public/simple/\n",
            "Obtaining file:///content/drive/MyDrive/DeepFakeDetection\n",
            "Installing collected packages: DeepFake\n",
            "  Attempting uninstall: DeepFake\n",
            "    Found existing installation: DeepFake 0.1.0\n",
            "    Can't uninstall 'DeepFake'. No files were found to uninstall.\n",
            "  Running setup.py develop for DeepFake\n",
            "Successfully installed DeepFake-0.1.0\n"
          ]
        }
      ]
    },
    {
      "cell_type": "code",
      "source": [
        "from packages.DlibManager import DlibManager\n",
        "\n",
        "predictor_path = '/content/drive/MyDrive/DeepFakeDetection/model/shape_predictor_68_face_landmarks.dat'\n",
        "detector = dlib.get_frontal_face_detector()\n",
        "predictor = dlib.shape_predictor(predictor_path)"
      ],
      "metadata": {
        "id": "kumt0_KfUb-A"
      },
      "execution_count": 14,
      "outputs": []
    },
    {
      "cell_type": "code",
      "source": [
        "filelist = extract_file_paths(real_train_path)"
      ],
      "metadata": {
        "id": "Lqofhb7vUcZv"
      },
      "execution_count": 15,
      "outputs": []
    },
    {
      "cell_type": "code",
      "source": [
        "len(filelist)"
      ],
      "metadata": {
        "colab": {
          "base_uri": "https://localhost:8080/"
        },
        "id": "RhM5IwSIcTiD",
        "outputId": "beac2807-281e-4074-dd87-c58c99e16690"
      },
      "execution_count": 16,
      "outputs": [
        {
          "output_type": "execute_result",
          "data": {
            "text/plain": [
              "1394"
            ]
          },
          "metadata": {},
          "execution_count": 16
        }
      ]
    },
    {
      "cell_type": "code",
      "source": [
        "#training_videos_details = []\n",
        "failed_training_videos_dlib = []\n",
        "\n",
        "for idx, train_video_path in enumerate(filelist):\n",
        "\n",
        "  print(f'Video #{idx+1} out of {len(filelist)}') \n",
        "\n",
        "  video = cv2.VideoCapture(train_video_path)\n",
        "\n",
        "  try:\n",
        "    dlib_video = DlibManager(predictor, detector, video)\n",
        "  \n",
        "  except:\n",
        "    print(f'Failed to Upload: Video #{idx+1}')\n",
        "    print(f'Failed for video path #{train_video_path}')\n",
        "    failed_training_videos_dlib.append(train_video_path)\n",
        "\n",
        "  video.release()"
      ],
      "metadata": {
        "colab": {
          "base_uri": "https://localhost:8080/"
        },
        "id": "hR9xiwHzbj6P",
        "outputId": "9e9df207-51e9-4f5e-f68d-eb77f2f3aa8b"
      },
      "execution_count": 17,
      "outputs": [
        {
          "output_type": "stream",
          "name": "stdout",
          "text": [
            "Video #1 out of 1394\n",
            "Failed to Upload: Video #1\n",
            "Failed for video path #/content/drive/MyDrive/DeepFakeDetection/data/FakeAVCeleb_v1.2/real_videos_train/id01163/00001.mp4\n",
            "Video #2 out of 1394\n",
            "Failed to Upload: Video #2\n",
            "Failed for video path #/content/drive/MyDrive/DeepFakeDetection/data/FakeAVCeleb_v1.2/real_videos_train/id01163/00002.mp4\n",
            "Video #3 out of 1394\n",
            "Failed to Upload: Video #3\n",
            "Failed for video path #/content/drive/MyDrive/DeepFakeDetection/data/FakeAVCeleb_v1.2/real_videos_train/id01163/00003.mp4\n",
            "Video #4 out of 1394\n",
            "Failed to Upload: Video #4\n",
            "Failed for video path #/content/drive/MyDrive/DeepFakeDetection/data/FakeAVCeleb_v1.2/real_videos_train/id01163/00004.mp4\n",
            "Video #5 out of 1394\n",
            "Failed to Upload: Video #5\n",
            "Failed for video path #/content/drive/MyDrive/DeepFakeDetection/data/FakeAVCeleb_v1.2/real_videos_train/id01163/00005.mp4\n",
            "Video #6 out of 1394\n",
            "Video #7 out of 1394\n",
            "Video #8 out of 1394\n",
            "Video #9 out of 1394\n",
            "Video #10 out of 1394\n",
            "Video #11 out of 1394\n",
            "Video #12 out of 1394\n",
            "Failed to Upload: Video #12\n",
            "Failed for video path #/content/drive/MyDrive/DeepFakeDetection/data/FakeAVCeleb_v1.2/real_videos_train/id01163/00011.mp4\n",
            "Video #13 out of 1394\n",
            "Video #14 out of 1394\n",
            "Video #15 out of 1394\n",
            "Video #16 out of 1394\n",
            "Video #17 out of 1394\n",
            "Video #18 out of 1394\n",
            "Failed to Upload: Video #18\n",
            "Failed for video path #/content/drive/MyDrive/DeepFakeDetection/data/FakeAVCeleb_v1.2/real_videos_train/id01163/00018.mp4\n",
            "Video #19 out of 1394\n",
            "Video #20 out of 1394\n",
            "Video #21 out of 1394\n",
            "Failed to Upload: Video #21\n",
            "Failed for video path #/content/drive/MyDrive/DeepFakeDetection/data/FakeAVCeleb_v1.2/real_videos_train/id01163/00021.mp4\n",
            "Video #22 out of 1394\n",
            "Video #23 out of 1394\n",
            "Failed to Upload: Video #23\n",
            "Failed for video path #/content/drive/MyDrive/DeepFakeDetection/data/FakeAVCeleb_v1.2/real_videos_train/id01163/00022.mp4\n",
            "Video #24 out of 1394\n",
            "Failed to Upload: Video #24\n",
            "Failed for video path #/content/drive/MyDrive/DeepFakeDetection/data/FakeAVCeleb_v1.2/real_videos_train/id01163/00024.mp4\n",
            "Video #25 out of 1394\n",
            "Failed to Upload: Video #25\n",
            "Failed for video path #/content/drive/MyDrive/DeepFakeDetection/data/FakeAVCeleb_v1.2/real_videos_train/id01163/00025.mp4\n",
            "Video #26 out of 1394\n",
            "Failed to Upload: Video #26\n",
            "Failed for video path #/content/drive/MyDrive/DeepFakeDetection/data/FakeAVCeleb_v1.2/real_videos_train/id01163/00026.mp4\n",
            "Video #27 out of 1394\n",
            "Failed to Upload: Video #27\n",
            "Failed for video path #/content/drive/MyDrive/DeepFakeDetection/data/FakeAVCeleb_v1.2/real_videos_train/id01163/00027.mp4\n",
            "Video #28 out of 1394\n",
            "Video #29 out of 1394\n",
            "Video #30 out of 1394\n",
            "Video #31 out of 1394\n",
            "Failed to Upload: Video #31\n",
            "Failed for video path #/content/drive/MyDrive/DeepFakeDetection/data/FakeAVCeleb_v1.2/real_videos_train/id01163/00031.mp4\n",
            "Video #32 out of 1394\n",
            "Video #33 out of 1394\n",
            "Video #34 out of 1394\n",
            "Video #35 out of 1394\n",
            "Video #36 out of 1394\n",
            "Video #37 out of 1394\n",
            "Video #38 out of 1394\n",
            "Failed to Upload: Video #38\n",
            "Failed for video path #/content/drive/MyDrive/DeepFakeDetection/data/FakeAVCeleb_v1.2/real_videos_train/id01163/00039.mp4\n",
            "Video #39 out of 1394\n",
            "Failed to Upload: Video #39\n",
            "Failed for video path #/content/drive/MyDrive/DeepFakeDetection/data/FakeAVCeleb_v1.2/real_videos_train/id01163/00038.mp4\n",
            "Video #40 out of 1394\n",
            "Failed to Upload: Video #40\n",
            "Failed for video path #/content/drive/MyDrive/DeepFakeDetection/data/FakeAVCeleb_v1.2/real_videos_train/id01163/00040.mp4\n",
            "Video #41 out of 1394\n",
            "Failed to Upload: Video #41\n",
            "Failed for video path #/content/drive/MyDrive/DeepFakeDetection/data/FakeAVCeleb_v1.2/real_videos_train/id01163/00041.mp4\n",
            "Video #42 out of 1394\n",
            "Failed to Upload: Video #42\n",
            "Failed for video path #/content/drive/MyDrive/DeepFakeDetection/data/FakeAVCeleb_v1.2/real_videos_train/id01163/00042.mp4\n",
            "Video #43 out of 1394\n",
            "Failed to Upload: Video #43\n",
            "Failed for video path #/content/drive/MyDrive/DeepFakeDetection/data/FakeAVCeleb_v1.2/real_videos_train/id01163/00043.mp4\n",
            "Video #44 out of 1394\n",
            "Failed to Upload: Video #44\n",
            "Failed for video path #/content/drive/MyDrive/DeepFakeDetection/data/FakeAVCeleb_v1.2/real_videos_train/id01163/00044.mp4\n",
            "Video #45 out of 1394\n",
            "Failed to Upload: Video #45\n",
            "Failed for video path #/content/drive/MyDrive/DeepFakeDetection/data/FakeAVCeleb_v1.2/real_videos_train/id01163/00045.mp4\n",
            "Video #46 out of 1394\n",
            "Failed to Upload: Video #46\n",
            "Failed for video path #/content/drive/MyDrive/DeepFakeDetection/data/FakeAVCeleb_v1.2/real_videos_train/id01163/00046.mp4\n",
            "Video #47 out of 1394\n",
            "Failed to Upload: Video #47\n",
            "Failed for video path #/content/drive/MyDrive/DeepFakeDetection/data/FakeAVCeleb_v1.2/real_videos_train/id01163/00047.mp4\n",
            "Video #48 out of 1394\n",
            "Failed to Upload: Video #48\n",
            "Failed for video path #/content/drive/MyDrive/DeepFakeDetection/data/FakeAVCeleb_v1.2/real_videos_train/id01163/00048.mp4\n",
            "Video #49 out of 1394\n",
            "Failed to Upload: Video #49\n",
            "Failed for video path #/content/drive/MyDrive/DeepFakeDetection/data/FakeAVCeleb_v1.2/real_videos_train/id01163/00049.mp4\n",
            "Video #50 out of 1394\n",
            "Failed to Upload: Video #50\n",
            "Failed for video path #/content/drive/MyDrive/DeepFakeDetection/data/FakeAVCeleb_v1.2/real_videos_train/id01163/00050.mp4\n",
            "Video #51 out of 1394\n",
            "Failed to Upload: Video #51\n",
            "Failed for video path #/content/drive/MyDrive/DeepFakeDetection/data/FakeAVCeleb_v1.2/real_videos_train/id01163/00051.mp4\n",
            "Video #52 out of 1394\n",
            "Failed to Upload: Video #52\n",
            "Failed for video path #/content/drive/MyDrive/DeepFakeDetection/data/FakeAVCeleb_v1.2/real_videos_train/id01163/00052.mp4\n",
            "Video #53 out of 1394\n",
            "Failed to Upload: Video #53\n",
            "Failed for video path #/content/drive/MyDrive/DeepFakeDetection/data/FakeAVCeleb_v1.2/real_videos_train/id01163/00053.mp4\n",
            "Video #54 out of 1394\n",
            "Failed to Upload: Video #54\n",
            "Failed for video path #/content/drive/MyDrive/DeepFakeDetection/data/FakeAVCeleb_v1.2/real_videos_train/id01163/00054.mp4\n",
            "Video #55 out of 1394\n",
            "Video #56 out of 1394\n",
            "Video #57 out of 1394\n",
            "Video #58 out of 1394\n",
            "Video #59 out of 1394\n",
            "Video #60 out of 1394\n",
            "Video #61 out of 1394\n",
            "Video #62 out of 1394\n",
            "Video #63 out of 1394\n",
            "Video #64 out of 1394\n",
            "Video #65 out of 1394\n",
            "Video #66 out of 1394\n",
            "Video #67 out of 1394\n",
            "Video #68 out of 1394\n",
            "Video #69 out of 1394\n",
            "Video #70 out of 1394\n",
            "Video #71 out of 1394\n",
            "Video #72 out of 1394\n",
            "Video #73 out of 1394\n",
            "Video #74 out of 1394\n",
            "Video #75 out of 1394\n",
            "Video #76 out of 1394\n",
            "Video #77 out of 1394\n",
            "Video #78 out of 1394\n",
            "Video #79 out of 1394\n",
            "Video #80 out of 1394\n",
            "Video #81 out of 1394\n",
            "Video #82 out of 1394\n",
            "Video #83 out of 1394\n",
            "Video #84 out of 1394\n",
            "Video #85 out of 1394\n",
            "Video #86 out of 1394\n",
            "Video #87 out of 1394\n",
            "Video #88 out of 1394\n",
            "Video #89 out of 1394\n",
            "Video #90 out of 1394\n",
            "Video #91 out of 1394\n",
            "Video #92 out of 1394\n",
            "Video #93 out of 1394\n",
            "Video #94 out of 1394\n",
            "Video #95 out of 1394\n",
            "Video #96 out of 1394\n",
            "Video #97 out of 1394\n",
            "Video #98 out of 1394\n",
            "Video #99 out of 1394\n",
            "Video #100 out of 1394\n",
            "Video #101 out of 1394\n",
            "Video #102 out of 1394\n",
            "Failed to Upload: Video #102\n",
            "Failed for video path #/content/drive/MyDrive/DeepFakeDetection/data/FakeAVCeleb_v1.2/real_videos_train/id01163/00102.mp4\n",
            "Video #103 out of 1394\n",
            "Video #104 out of 1394\n",
            "Video #105 out of 1394\n",
            "Video #106 out of 1394\n",
            "Video #107 out of 1394\n",
            "Video #108 out of 1394\n",
            "Video #109 out of 1394\n",
            "Video #110 out of 1394\n",
            "Video #111 out of 1394\n",
            "Video #112 out of 1394\n",
            "Video #113 out of 1394\n",
            "Video #114 out of 1394\n",
            "Video #115 out of 1394\n",
            "Video #116 out of 1394\n",
            "Video #117 out of 1394\n",
            "Video #118 out of 1394\n",
            "Video #119 out of 1394\n",
            "Video #120 out of 1394\n",
            "Video #121 out of 1394\n",
            "Video #122 out of 1394\n",
            "Video #123 out of 1394\n",
            "Failed to Upload: Video #123\n",
            "Failed for video path #/content/drive/MyDrive/DeepFakeDetection/data/FakeAVCeleb_v1.2/real_videos_train/id01163/00123.mp4\n",
            "Video #124 out of 1394\n",
            "Video #125 out of 1394\n",
            "Video #126 out of 1394\n",
            "Video #127 out of 1394\n",
            "Video #128 out of 1394\n",
            "Failed to Upload: Video #128\n",
            "Failed for video path #/content/drive/MyDrive/DeepFakeDetection/data/FakeAVCeleb_v1.2/real_videos_train/id01163/00129.mp4\n",
            "Video #129 out of 1394\n",
            "Failed to Upload: Video #129\n",
            "Failed for video path #/content/drive/MyDrive/DeepFakeDetection/data/FakeAVCeleb_v1.2/real_videos_train/id01163/00128.mp4\n",
            "Video #130 out of 1394\n",
            "Failed to Upload: Video #130\n",
            "Failed for video path #/content/drive/MyDrive/DeepFakeDetection/data/FakeAVCeleb_v1.2/real_videos_train/id01163/00130.mp4\n",
            "Video #131 out of 1394\n",
            "Video #132 out of 1394\n",
            "Video #133 out of 1394\n",
            "Failed to Upload: Video #133\n",
            "Failed for video path #/content/drive/MyDrive/DeepFakeDetection/data/FakeAVCeleb_v1.2/real_videos_train/id01163/00134.mp4\n",
            "Video #134 out of 1394\n",
            "Failed to Upload: Video #134\n",
            "Failed for video path #/content/drive/MyDrive/DeepFakeDetection/data/FakeAVCeleb_v1.2/real_videos_train/id01163/00133.mp4\n",
            "Video #135 out of 1394\n",
            "Failed to Upload: Video #135\n",
            "Failed for video path #/content/drive/MyDrive/DeepFakeDetection/data/FakeAVCeleb_v1.2/real_videos_train/id01163/00136.mp4\n",
            "Video #136 out of 1394\n",
            "Failed to Upload: Video #136\n",
            "Failed for video path #/content/drive/MyDrive/DeepFakeDetection/data/FakeAVCeleb_v1.2/real_videos_train/id01163/00135.mp4\n",
            "Video #137 out of 1394\n",
            "Failed to Upload: Video #137\n",
            "Failed for video path #/content/drive/MyDrive/DeepFakeDetection/data/FakeAVCeleb_v1.2/real_videos_train/id01163/00137.mp4\n",
            "Video #138 out of 1394\n",
            "Video #139 out of 1394\n",
            "Failed to Upload: Video #139\n",
            "Failed for video path #/content/drive/MyDrive/DeepFakeDetection/data/FakeAVCeleb_v1.2/real_videos_train/id01163/00138.mp4\n",
            "Video #140 out of 1394\n",
            "Video #141 out of 1394\n",
            "Video #142 out of 1394\n",
            "Video #143 out of 1394\n",
            "Video #144 out of 1394\n",
            "Video #145 out of 1394\n",
            "Video #146 out of 1394\n",
            "Video #147 out of 1394\n",
            "Video #148 out of 1394\n",
            "Video #149 out of 1394\n",
            "Video #150 out of 1394\n",
            "Video #151 out of 1394\n",
            "Video #152 out of 1394\n",
            "Video #153 out of 1394\n",
            "Video #154 out of 1394\n",
            "Video #155 out of 1394\n",
            "Video #156 out of 1394\n",
            "Failed to Upload: Video #156\n",
            "Failed for video path #/content/drive/MyDrive/DeepFakeDetection/data/FakeAVCeleb_v1.2/real_videos_train/id01163/00156.mp4\n",
            "Video #157 out of 1394\n",
            "Video #158 out of 1394\n",
            "Video #159 out of 1394\n",
            "Video #160 out of 1394\n",
            "Video #161 out of 1394\n",
            "Video #162 out of 1394\n",
            "Video #163 out of 1394\n",
            "Failed to Upload: Video #163\n",
            "Failed for video path #/content/drive/MyDrive/DeepFakeDetection/data/FakeAVCeleb_v1.2/real_videos_train/id01163/00164.mp4\n",
            "Video #164 out of 1394\n",
            "Failed to Upload: Video #164\n",
            "Failed for video path #/content/drive/MyDrive/DeepFakeDetection/data/FakeAVCeleb_v1.2/real_videos_train/id01163/00165.mp4\n",
            "Video #165 out of 1394\n",
            "Video #166 out of 1394\n",
            "Failed to Upload: Video #166\n",
            "Failed for video path #/content/drive/MyDrive/DeepFakeDetection/data/FakeAVCeleb_v1.2/real_videos_train/id01163/00166.mp4\n",
            "Video #167 out of 1394\n",
            "Video #168 out of 1394\n",
            "Failed to Upload: Video #168\n",
            "Failed for video path #/content/drive/MyDrive/DeepFakeDetection/data/FakeAVCeleb_v1.2/real_videos_train/id01163/00167.mp4\n",
            "Video #169 out of 1394\n",
            "Video #170 out of 1394\n",
            "Failed to Upload: Video #170\n",
            "Failed for video path #/content/drive/MyDrive/DeepFakeDetection/data/FakeAVCeleb_v1.2/real_videos_train/id01163/00170.mp4\n",
            "Video #171 out of 1394\n",
            "Failed to Upload: Video #171\n",
            "Failed for video path #/content/drive/MyDrive/DeepFakeDetection/data/FakeAVCeleb_v1.2/real_videos_train/id01163/00171.mp4\n",
            "Video #172 out of 1394\n",
            "Failed to Upload: Video #172\n",
            "Failed for video path #/content/drive/MyDrive/DeepFakeDetection/data/FakeAVCeleb_v1.2/real_videos_train/id01163/00172.mp4\n",
            "Video #173 out of 1394\n",
            "Failed to Upload: Video #173\n",
            "Failed for video path #/content/drive/MyDrive/DeepFakeDetection/data/FakeAVCeleb_v1.2/real_videos_train/id01163/00174.mp4\n",
            "Video #174 out of 1394\n",
            "Failed to Upload: Video #174\n",
            "Failed for video path #/content/drive/MyDrive/DeepFakeDetection/data/FakeAVCeleb_v1.2/real_videos_train/id01163/00173.mp4\n",
            "Video #175 out of 1394\n",
            "Failed to Upload: Video #175\n",
            "Failed for video path #/content/drive/MyDrive/DeepFakeDetection/data/FakeAVCeleb_v1.2/real_videos_train/id01163/00176.mp4\n",
            "Video #176 out of 1394\n",
            "Video #177 out of 1394\n",
            "Failed to Upload: Video #177\n",
            "Failed for video path #/content/drive/MyDrive/DeepFakeDetection/data/FakeAVCeleb_v1.2/real_videos_train/id01163/00178.mp4\n",
            "Video #178 out of 1394\n",
            "Video #179 out of 1394\n",
            "Failed to Upload: Video #179\n",
            "Failed for video path #/content/drive/MyDrive/DeepFakeDetection/data/FakeAVCeleb_v1.2/real_videos_train/id01163/00177.mp4\n",
            "Video #180 out of 1394\n",
            "Failed to Upload: Video #180\n",
            "Failed for video path #/content/drive/MyDrive/DeepFakeDetection/data/FakeAVCeleb_v1.2/real_videos_train/id01163/00180.mp4\n",
            "Video #181 out of 1394\n",
            "Video #182 out of 1394\n",
            "Video #183 out of 1394\n",
            "Video #184 out of 1394\n",
            "Video #185 out of 1394\n",
            "Video #186 out of 1394\n",
            "Video #187 out of 1394\n",
            "Video #188 out of 1394\n",
            "Video #189 out of 1394\n",
            "Video #190 out of 1394\n",
            "Video #191 out of 1394\n",
            "Video #192 out of 1394\n",
            "Video #193 out of 1394\n",
            "Video #194 out of 1394\n",
            "Video #195 out of 1394\n",
            "Video #196 out of 1394\n",
            "Video #197 out of 1394\n",
            "Video #198 out of 1394\n",
            "Video #199 out of 1394\n",
            "Video #200 out of 1394\n",
            "Video #201 out of 1394\n",
            "Video #202 out of 1394\n",
            "Video #203 out of 1394\n",
            "Video #204 out of 1394\n",
            "Video #205 out of 1394\n",
            "Video #206 out of 1394\n",
            "Video #207 out of 1394\n",
            "Video #208 out of 1394\n",
            "Failed to Upload: Video #208\n",
            "Failed for video path #/content/drive/MyDrive/DeepFakeDetection/data/FakeAVCeleb_v1.2/real_videos_train/id01163/00209.mp4\n",
            "Video #209 out of 1394\n",
            "Video #210 out of 1394\n",
            "Video #211 out of 1394\n",
            "Video #212 out of 1394\n",
            "Video #213 out of 1394\n",
            "Video #214 out of 1394\n",
            "Video #215 out of 1394\n",
            "Video #216 out of 1394\n",
            "Video #217 out of 1394\n",
            "Video #218 out of 1394\n",
            "Video #219 out of 1394\n",
            "Video #220 out of 1394\n",
            "Video #221 out of 1394\n",
            "Video #222 out of 1394\n",
            "Video #223 out of 1394\n",
            "Video #224 out of 1394\n",
            "Video #225 out of 1394\n",
            "Video #226 out of 1394\n",
            "Video #227 out of 1394\n",
            "Video #228 out of 1394\n",
            "Video #229 out of 1394\n",
            "Video #230 out of 1394\n",
            "Video #231 out of 1394\n",
            "Failed to Upload: Video #231\n",
            "Failed for video path #/content/drive/MyDrive/DeepFakeDetection/data/FakeAVCeleb_v1.2/real_videos_train/id01163/00232.mp4\n",
            "Video #232 out of 1394\n",
            "Failed to Upload: Video #232\n",
            "Failed for video path #/content/drive/MyDrive/DeepFakeDetection/data/FakeAVCeleb_v1.2/real_videos_train/id01163/00231.mp4\n",
            "Video #233 out of 1394\n",
            "Failed to Upload: Video #233\n",
            "Failed for video path #/content/drive/MyDrive/DeepFakeDetection/data/FakeAVCeleb_v1.2/real_videos_train/id01163/00234.mp4\n",
            "Video #234 out of 1394\n",
            "Failed to Upload: Video #234\n",
            "Failed for video path #/content/drive/MyDrive/DeepFakeDetection/data/FakeAVCeleb_v1.2/real_videos_train/id01163/00233.mp4\n",
            "Video #235 out of 1394\n",
            "Video #236 out of 1394\n",
            "Video #237 out of 1394\n",
            "Video #238 out of 1394\n",
            "Video #239 out of 1394\n",
            "Video #240 out of 1394\n",
            "Video #241 out of 1394\n",
            "Video #242 out of 1394\n",
            "Video #243 out of 1394\n",
            "Failed to Upload: Video #243\n",
            "Failed for video path #/content/drive/MyDrive/DeepFakeDetection/data/FakeAVCeleb_v1.2/real_videos_train/id01163/00243.mp4\n",
            "Video #244 out of 1394\n",
            "Video #245 out of 1394\n",
            "Video #246 out of 1394\n",
            "Video #247 out of 1394\n",
            "Video #248 out of 1394\n",
            "Video #249 out of 1394\n",
            "Video #250 out of 1394\n",
            "Video #251 out of 1394\n",
            "Failed to Upload: Video #251\n",
            "Failed for video path #/content/drive/MyDrive/DeepFakeDetection/data/FakeAVCeleb_v1.2/real_videos_train/id01163/00252.mp4\n",
            "Video #252 out of 1394\n",
            "Video #253 out of 1394\n",
            "Video #254 out of 1394\n",
            "Video #255 out of 1394\n",
            "Failed to Upload: Video #255\n",
            "Failed for video path #/content/drive/MyDrive/DeepFakeDetection/data/FakeAVCeleb_v1.2/real_videos_train/id01163/00255.mp4\n",
            "Video #256 out of 1394\n",
            "Video #257 out of 1394\n",
            "Video #258 out of 1394\n",
            "Video #259 out of 1394\n",
            "Video #260 out of 1394\n",
            "Video #261 out of 1394\n",
            "Video #262 out of 1394\n",
            "Video #263 out of 1394\n",
            "Video #264 out of 1394\n",
            "Video #265 out of 1394\n",
            "Video #266 out of 1394\n",
            "Video #267 out of 1394\n",
            "Video #268 out of 1394\n",
            "Video #269 out of 1394\n",
            "Video #270 out of 1394\n",
            "Video #271 out of 1394\n",
            "Video #272 out of 1394\n",
            "Video #273 out of 1394\n",
            "Video #274 out of 1394\n",
            "Video #275 out of 1394\n",
            "Video #276 out of 1394\n",
            "Video #277 out of 1394\n",
            "Video #278 out of 1394\n",
            "Video #279 out of 1394\n",
            "Video #280 out of 1394\n",
            "Video #281 out of 1394\n",
            "Video #282 out of 1394\n",
            "Video #283 out of 1394\n",
            "Video #284 out of 1394\n",
            "Video #285 out of 1394\n",
            "Video #286 out of 1394\n",
            "Failed to Upload: Video #286\n",
            "Failed for video path #/content/drive/MyDrive/DeepFakeDetection/data/FakeAVCeleb_v1.2/real_videos_train/id01163/00287.mp4\n",
            "Video #287 out of 1394\n",
            "Failed to Upload: Video #287\n",
            "Failed for video path #/content/drive/MyDrive/DeepFakeDetection/data/FakeAVCeleb_v1.2/real_videos_train/id01163/00286.mp4\n",
            "Video #288 out of 1394\n",
            "Failed to Upload: Video #288\n",
            "Failed for video path #/content/drive/MyDrive/DeepFakeDetection/data/FakeAVCeleb_v1.2/real_videos_train/id01163/00288.mp4\n",
            "Video #289 out of 1394\n",
            "Failed to Upload: Video #289\n",
            "Failed for video path #/content/drive/MyDrive/DeepFakeDetection/data/FakeAVCeleb_v1.2/real_videos_train/id01163/00290.mp4\n",
            "Video #290 out of 1394\n",
            "Failed to Upload: Video #290\n",
            "Failed for video path #/content/drive/MyDrive/DeepFakeDetection/data/FakeAVCeleb_v1.2/real_videos_train/id01163/00289.mp4\n",
            "Video #291 out of 1394\n",
            "Failed to Upload: Video #291\n",
            "Failed for video path #/content/drive/MyDrive/DeepFakeDetection/data/FakeAVCeleb_v1.2/real_videos_train/id01163/00291.mp4\n",
            "Video #292 out of 1394\n",
            "Video #293 out of 1394\n",
            "Failed to Upload: Video #293\n",
            "Failed for video path #/content/drive/MyDrive/DeepFakeDetection/data/FakeAVCeleb_v1.2/real_videos_train/id01163/00292.mp4\n",
            "Video #294 out of 1394\n",
            "Video #295 out of 1394\n",
            "Video #296 out of 1394\n",
            "Video #297 out of 1394\n",
            "Video #298 out of 1394\n",
            "Video #299 out of 1394\n",
            "Video #300 out of 1394\n",
            "Video #301 out of 1394\n",
            "Video #302 out of 1394\n",
            "Video #303 out of 1394\n",
            "Video #304 out of 1394\n",
            "Video #305 out of 1394\n",
            "Video #306 out of 1394\n",
            "Video #307 out of 1394\n",
            "Video #308 out of 1394\n",
            "Video #309 out of 1394\n",
            "Video #310 out of 1394\n",
            "Video #311 out of 1394\n",
            "Video #312 out of 1394\n",
            "Video #313 out of 1394\n",
            "Video #314 out of 1394\n",
            "Video #315 out of 1394\n",
            "Video #316 out of 1394\n",
            "Video #317 out of 1394\n",
            "Video #318 out of 1394\n",
            "Video #319 out of 1394\n",
            "Video #320 out of 1394\n",
            "Video #321 out of 1394\n",
            "Video #322 out of 1394\n",
            "Failed to Upload: Video #322\n",
            "Failed for video path #/content/drive/MyDrive/DeepFakeDetection/data/FakeAVCeleb_v1.2/real_videos_train/id01163/00322.mp4\n",
            "Video #323 out of 1394\n",
            "Video #324 out of 1394\n",
            "Failed to Upload: Video #324\n",
            "Failed for video path #/content/drive/MyDrive/DeepFakeDetection/data/FakeAVCeleb_v1.2/real_videos_train/id01163/00325.mp4\n",
            "Video #325 out of 1394\n",
            "Video #326 out of 1394\n",
            "Video #327 out of 1394\n",
            "Failed to Upload: Video #327\n",
            "Failed for video path #/content/drive/MyDrive/DeepFakeDetection/data/FakeAVCeleb_v1.2/real_videos_train/id01163/00327.mp4\n",
            "Video #328 out of 1394\n",
            "Failed to Upload: Video #328\n",
            "Failed for video path #/content/drive/MyDrive/DeepFakeDetection/data/FakeAVCeleb_v1.2/real_videos_train/id01163/00328.mp4\n",
            "Video #329 out of 1394\n",
            "Video #330 out of 1394\n",
            "Failed to Upload: Video #330\n",
            "Failed for video path #/content/drive/MyDrive/DeepFakeDetection/data/FakeAVCeleb_v1.2/real_videos_train/id01163/00329.mp4\n",
            "Video #331 out of 1394\n",
            "Video #332 out of 1394\n",
            "Video #333 out of 1394\n",
            "Video #334 out of 1394\n",
            "Video #335 out of 1394\n",
            "Video #336 out of 1394\n",
            "Video #337 out of 1394\n",
            "Video #338 out of 1394\n",
            "Failed to Upload: Video #338\n",
            "Failed for video path #/content/drive/MyDrive/DeepFakeDetection/data/FakeAVCeleb_v1.2/real_videos_train/id01163/00337.mp4\n",
            "Video #339 out of 1394\n",
            "Failed to Upload: Video #339\n",
            "Failed for video path #/content/drive/MyDrive/DeepFakeDetection/data/FakeAVCeleb_v1.2/real_videos_train/id01163/00340.mp4\n",
            "Video #340 out of 1394\n",
            "Video #341 out of 1394\n",
            "Video #342 out of 1394\n",
            "Video #343 out of 1394\n",
            "Video #344 out of 1394\n",
            "Video #345 out of 1394\n",
            "Video #346 out of 1394\n",
            "Video #347 out of 1394\n",
            "Video #348 out of 1394\n",
            "Failed to Upload: Video #348\n",
            "Failed for video path #/content/drive/MyDrive/DeepFakeDetection/data/FakeAVCeleb_v1.2/real_videos_train/id01163/00348.mp4\n",
            "Video #349 out of 1394\n",
            "Video #350 out of 1394\n",
            "Video #351 out of 1394\n",
            "Video #352 out of 1394\n",
            "Video #353 out of 1394\n",
            "Failed to Upload: Video #353\n",
            "Failed for video path #/content/drive/MyDrive/DeepFakeDetection/data/FakeAVCeleb_v1.2/real_videos_train/id01163/00354.mp4\n",
            "Video #354 out of 1394\n",
            "Video #355 out of 1394\n",
            "Video #356 out of 1394\n",
            "Video #357 out of 1394\n",
            "Video #358 out of 1394\n",
            "Video #359 out of 1394\n",
            "Video #360 out of 1394\n",
            "Video #361 out of 1394\n",
            "Video #362 out of 1394\n",
            "Video #363 out of 1394\n",
            "Failed to Upload: Video #363\n",
            "Failed for video path #/content/drive/MyDrive/DeepFakeDetection/data/FakeAVCeleb_v1.2/real_videos_train/id01163/00364.mp4\n",
            "Video #364 out of 1394\n",
            "Video #365 out of 1394\n",
            "Failed to Upload: Video #365\n",
            "Failed for video path #/content/drive/MyDrive/DeepFakeDetection/data/FakeAVCeleb_v1.2/real_videos_train/id01163/00366.mp4\n",
            "Video #366 out of 1394\n",
            "Failed to Upload: Video #366\n",
            "Failed for video path #/content/drive/MyDrive/DeepFakeDetection/data/FakeAVCeleb_v1.2/real_videos_train/id01163/00365.mp4\n",
            "Video #367 out of 1394\n",
            "Failed to Upload: Video #367\n",
            "Failed for video path #/content/drive/MyDrive/DeepFakeDetection/data/FakeAVCeleb_v1.2/real_videos_train/id01163/00369.mp4\n",
            "Video #368 out of 1394\n",
            "Failed to Upload: Video #368\n",
            "Failed for video path #/content/drive/MyDrive/DeepFakeDetection/data/FakeAVCeleb_v1.2/real_videos_train/id01163/00367.mp4\n",
            "Video #369 out of 1394\n",
            "Failed to Upload: Video #369\n",
            "Failed for video path #/content/drive/MyDrive/DeepFakeDetection/data/FakeAVCeleb_v1.2/real_videos_train/id01163/00368.mp4\n",
            "Video #370 out of 1394\n",
            "Video #371 out of 1394\n",
            "Failed to Upload: Video #371\n",
            "Failed for video path #/content/drive/MyDrive/DeepFakeDetection/data/FakeAVCeleb_v1.2/real_videos_train/id01163/00371.mp4\n",
            "Video #372 out of 1394\n",
            "Failed to Upload: Video #372\n",
            "Failed for video path #/content/drive/MyDrive/DeepFakeDetection/data/FakeAVCeleb_v1.2/real_videos_train/id01163/00372.mp4\n",
            "Video #373 out of 1394\n",
            "Failed to Upload: Video #373\n",
            "Failed for video path #/content/drive/MyDrive/DeepFakeDetection/data/FakeAVCeleb_v1.2/real_videos_train/id01163/00373.mp4\n",
            "Video #374 out of 1394\n",
            "Video #375 out of 1394\n",
            "Failed to Upload: Video #375\n",
            "Failed for video path #/content/drive/MyDrive/DeepFakeDetection/data/FakeAVCeleb_v1.2/real_videos_train/id01163/00375.mp4\n",
            "Video #376 out of 1394\n",
            "Video #377 out of 1394\n",
            "Failed to Upload: Video #377\n",
            "Failed for video path #/content/drive/MyDrive/DeepFakeDetection/data/FakeAVCeleb_v1.2/real_videos_train/id01163/00377.mp4\n",
            "Video #378 out of 1394\n",
            "Failed to Upload: Video #378\n",
            "Failed for video path #/content/drive/MyDrive/DeepFakeDetection/data/FakeAVCeleb_v1.2/real_videos_train/id01163/00378.mp4\n",
            "Video #379 out of 1394\n",
            "Failed to Upload: Video #379\n",
            "Failed for video path #/content/drive/MyDrive/DeepFakeDetection/data/FakeAVCeleb_v1.2/real_videos_train/id01163/00379.mp4\n",
            "Video #380 out of 1394\n",
            "Video #381 out of 1394\n",
            "Video #382 out of 1394\n",
            "Video #383 out of 1394\n",
            "Video #384 out of 1394\n",
            "Video #385 out of 1394\n",
            "Video #386 out of 1394\n",
            "Video #387 out of 1394\n",
            "Video #388 out of 1394\n",
            "Video #389 out of 1394\n",
            "Video #390 out of 1394\n",
            "Video #391 out of 1394\n",
            "Video #392 out of 1394\n",
            "Video #393 out of 1394\n",
            "Video #394 out of 1394\n",
            "Failed to Upload: Video #394\n",
            "Failed for video path #/content/drive/MyDrive/DeepFakeDetection/data/FakeAVCeleb_v1.2/real_videos_train/id01163/00394.mp4\n",
            "Video #395 out of 1394\n",
            "Failed to Upload: Video #395\n",
            "Failed for video path #/content/drive/MyDrive/DeepFakeDetection/data/FakeAVCeleb_v1.2/real_videos_train/id01163/00395.mp4\n",
            "Video #396 out of 1394\n",
            "Video #397 out of 1394\n",
            "Video #398 out of 1394\n",
            "Video #399 out of 1394\n",
            "Video #400 out of 1394\n",
            "Video #401 out of 1394\n",
            "Video #402 out of 1394\n",
            "Video #403 out of 1394\n",
            "Failed to Upload: Video #403\n",
            "Failed for video path #/content/drive/MyDrive/DeepFakeDetection/data/FakeAVCeleb_v1.2/real_videos_train/id01163/00403.mp4\n",
            "Video #404 out of 1394\n",
            "Video #405 out of 1394\n",
            "Video #406 out of 1394\n",
            "Failed to Upload: Video #406\n",
            "Failed for video path #/content/drive/MyDrive/DeepFakeDetection/data/FakeAVCeleb_v1.2/real_videos_train/id01163/00407.mp4\n",
            "Video #407 out of 1394\n",
            "Video #408 out of 1394\n",
            "Video #409 out of 1394\n",
            "Video #410 out of 1394\n",
            "Video #411 out of 1394\n",
            "Video #412 out of 1394\n",
            "Video #413 out of 1394\n",
            "Video #414 out of 1394\n",
            "Video #415 out of 1394\n",
            "Video #416 out of 1394\n",
            "Video #417 out of 1394\n",
            "Video #418 out of 1394\n",
            "Video #419 out of 1394\n",
            "Video #420 out of 1394\n",
            "Video #421 out of 1394\n",
            "Video #422 out of 1394\n",
            "Video #423 out of 1394\n",
            "Video #424 out of 1394\n",
            "Video #425 out of 1394\n",
            "Video #426 out of 1394\n",
            "Video #427 out of 1394\n",
            "Failed to Upload: Video #427\n",
            "Failed for video path #/content/drive/MyDrive/DeepFakeDetection/data/FakeAVCeleb_v1.2/real_videos_train/id01163/00427.mp4\n",
            "Video #428 out of 1394\n",
            "Failed to Upload: Video #428\n",
            "Failed for video path #/content/drive/MyDrive/DeepFakeDetection/data/FakeAVCeleb_v1.2/real_videos_train/id01163/00429.mp4\n",
            "Video #429 out of 1394\n",
            "Failed to Upload: Video #429\n",
            "Failed for video path #/content/drive/MyDrive/DeepFakeDetection/data/FakeAVCeleb_v1.2/real_videos_train/id01163/00428.mp4\n",
            "Video #430 out of 1394\n",
            "Failed to Upload: Video #430\n",
            "Failed for video path #/content/drive/MyDrive/DeepFakeDetection/data/FakeAVCeleb_v1.2/real_videos_train/id01163/00430.mp4\n",
            "Video #431 out of 1394\n",
            "Video #432 out of 1394\n",
            "Video #433 out of 1394\n",
            "Video #434 out of 1394\n",
            "Video #435 out of 1394\n",
            "Video #436 out of 1394\n",
            "Video #437 out of 1394\n",
            "Video #438 out of 1394\n",
            "Video #439 out of 1394\n",
            "Video #440 out of 1394\n",
            "Video #441 out of 1394\n",
            "Video #442 out of 1394\n",
            "Video #443 out of 1394\n",
            "Failed to Upload: Video #443\n",
            "Failed for video path #/content/drive/MyDrive/DeepFakeDetection/data/FakeAVCeleb_v1.2/real_videos_train/id01163/00442.mp4\n",
            "Video #444 out of 1394\n",
            "Video #445 out of 1394\n",
            "Video #446 out of 1394\n",
            "Failed to Upload: Video #446\n",
            "Failed for video path #/content/drive/MyDrive/DeepFakeDetection/data/FakeAVCeleb_v1.2/real_videos_train/id01163/00447.mp4\n",
            "Video #447 out of 1394\n",
            "Video #448 out of 1394\n",
            "Video #449 out of 1394\n",
            "Video #450 out of 1394\n",
            "Video #451 out of 1394\n",
            "Video #452 out of 1394\n",
            "Video #453 out of 1394\n",
            "Video #454 out of 1394\n",
            "Failed to Upload: Video #454\n",
            "Failed for video path #/content/drive/MyDrive/DeepFakeDetection/data/FakeAVCeleb_v1.2/real_videos_train/id01163/00454.mp4\n",
            "Video #455 out of 1394\n",
            "Failed to Upload: Video #455\n",
            "Failed for video path #/content/drive/MyDrive/DeepFakeDetection/data/FakeAVCeleb_v1.2/real_videos_train/id01163/00455.mp4\n",
            "Video #456 out of 1394\n",
            "Video #457 out of 1394\n",
            "Video #458 out of 1394\n",
            "Video #459 out of 1394\n",
            "Video #460 out of 1394\n",
            "Video #461 out of 1394\n",
            "Video #462 out of 1394\n",
            "Video #463 out of 1394\n",
            "Video #464 out of 1394\n",
            "Video #465 out of 1394\n",
            "Video #466 out of 1394\n",
            "Video #467 out of 1394\n",
            "Video #468 out of 1394\n",
            "Video #469 out of 1394\n",
            "Video #470 out of 1394\n",
            "Video #471 out of 1394\n",
            "Video #472 out of 1394\n",
            "Video #473 out of 1394\n",
            "Video #474 out of 1394\n",
            "Video #475 out of 1394\n",
            "Video #476 out of 1394\n",
            "Video #477 out of 1394\n",
            "Video #478 out of 1394\n",
            "Video #479 out of 1394\n",
            "Video #480 out of 1394\n",
            "Video #481 out of 1394\n",
            "Video #482 out of 1394\n",
            "Video #483 out of 1394\n",
            "Video #484 out of 1394\n",
            "Video #485 out of 1394\n",
            "Video #486 out of 1394\n",
            "Video #487 out of 1394\n",
            "Video #488 out of 1394\n",
            "Video #489 out of 1394\n",
            "Video #490 out of 1394\n",
            "Video #491 out of 1394\n",
            "Video #492 out of 1394\n",
            "Video #493 out of 1394\n",
            "Video #494 out of 1394\n",
            "Video #495 out of 1394\n",
            "Failed to Upload: Video #495\n",
            "Failed for video path #/content/drive/MyDrive/DeepFakeDetection/data/FakeAVCeleb_v1.2/real_videos_train/id01163/00495.mp4\n",
            "Video #496 out of 1394\n",
            "Failed to Upload: Video #496\n",
            "Failed for video path #/content/drive/MyDrive/DeepFakeDetection/data/FakeAVCeleb_v1.2/real_videos_train/id01163/00498.mp4\n",
            "Video #497 out of 1394\n",
            "Failed to Upload: Video #497\n",
            "Failed for video path #/content/drive/MyDrive/DeepFakeDetection/data/FakeAVCeleb_v1.2/real_videos_train/id01163/00496.mp4\n",
            "Video #498 out of 1394\n",
            "Failed to Upload: Video #498\n",
            "Failed for video path #/content/drive/MyDrive/DeepFakeDetection/data/FakeAVCeleb_v1.2/real_videos_train/id01163/00497.mp4\n",
            "Video #499 out of 1394\n",
            "Failed to Upload: Video #499\n",
            "Failed for video path #/content/drive/MyDrive/DeepFakeDetection/data/FakeAVCeleb_v1.2/real_videos_train/id01163/00500.mp4\n",
            "Video #500 out of 1394\n",
            "Failed to Upload: Video #500\n",
            "Failed for video path #/content/drive/MyDrive/DeepFakeDetection/data/FakeAVCeleb_v1.2/real_videos_train/id01163/00499.mp4\n",
            "Video #501 out of 1394\n",
            "Video #502 out of 1394\n",
            "Video #503 out of 1394\n",
            "Video #504 out of 1394\n",
            "Video #505 out of 1394\n",
            "Video #506 out of 1394\n",
            "Video #507 out of 1394\n",
            "Failed to Upload: Video #507\n",
            "Failed for video path #/content/drive/MyDrive/DeepFakeDetection/data/FakeAVCeleb_v1.2/real_videos_train/id01170/00008.mp4\n",
            "Video #508 out of 1394\n",
            "Video #509 out of 1394\n",
            "Video #510 out of 1394\n",
            "Video #511 out of 1394\n",
            "Failed to Upload: Video #511\n",
            "Failed for video path #/content/drive/MyDrive/DeepFakeDetection/data/FakeAVCeleb_v1.2/real_videos_train/id01170/00012.mp4\n",
            "Video #512 out of 1394\n",
            "Failed to Upload: Video #512\n",
            "Failed for video path #/content/drive/MyDrive/DeepFakeDetection/data/FakeAVCeleb_v1.2/real_videos_train/id01170/00011.mp4\n",
            "Video #513 out of 1394\n",
            "Failed to Upload: Video #513\n",
            "Failed for video path #/content/drive/MyDrive/DeepFakeDetection/data/FakeAVCeleb_v1.2/real_videos_train/id01170/00014.mp4\n",
            "Video #514 out of 1394\n",
            "Failed to Upload: Video #514\n",
            "Failed for video path #/content/drive/MyDrive/DeepFakeDetection/data/FakeAVCeleb_v1.2/real_videos_train/id01170/00013.mp4\n",
            "Video #515 out of 1394\n",
            "Failed to Upload: Video #515\n",
            "Failed for video path #/content/drive/MyDrive/DeepFakeDetection/data/FakeAVCeleb_v1.2/real_videos_train/id01170/00015.mp4\n",
            "Video #516 out of 1394\n",
            "Failed to Upload: Video #516\n",
            "Failed for video path #/content/drive/MyDrive/DeepFakeDetection/data/FakeAVCeleb_v1.2/real_videos_train/id01170/00017.mp4\n",
            "Video #517 out of 1394\n",
            "Failed to Upload: Video #517\n",
            "Failed for video path #/content/drive/MyDrive/DeepFakeDetection/data/FakeAVCeleb_v1.2/real_videos_train/id01170/00016.mp4\n",
            "Video #518 out of 1394\n",
            "Failed to Upload: Video #518\n",
            "Failed for video path #/content/drive/MyDrive/DeepFakeDetection/data/FakeAVCeleb_v1.2/real_videos_train/id01170/00018.mp4\n",
            "Video #519 out of 1394\n",
            "Failed to Upload: Video #519\n",
            "Failed for video path #/content/drive/MyDrive/DeepFakeDetection/data/FakeAVCeleb_v1.2/real_videos_train/id01170/00019.mp4\n",
            "Video #520 out of 1394\n",
            "Failed to Upload: Video #520\n",
            "Failed for video path #/content/drive/MyDrive/DeepFakeDetection/data/FakeAVCeleb_v1.2/real_videos_train/id01170/00020.mp4\n",
            "Video #521 out of 1394\n",
            "Failed to Upload: Video #521\n",
            "Failed for video path #/content/drive/MyDrive/DeepFakeDetection/data/FakeAVCeleb_v1.2/real_videos_train/id01170/00022.mp4\n",
            "Video #522 out of 1394\n",
            "Failed to Upload: Video #522\n",
            "Failed for video path #/content/drive/MyDrive/DeepFakeDetection/data/FakeAVCeleb_v1.2/real_videos_train/id01170/00023.mp4\n",
            "Video #523 out of 1394\n",
            "Failed to Upload: Video #523\n",
            "Failed for video path #/content/drive/MyDrive/DeepFakeDetection/data/FakeAVCeleb_v1.2/real_videos_train/id01170/00021.mp4\n",
            "Video #524 out of 1394\n",
            "Video #525 out of 1394\n",
            "Video #526 out of 1394\n",
            "Video #527 out of 1394\n",
            "Video #528 out of 1394\n",
            "Video #529 out of 1394\n",
            "Video #530 out of 1394\n",
            "Video #531 out of 1394\n",
            "Video #532 out of 1394\n",
            "Video #533 out of 1394\n",
            "Video #534 out of 1394\n",
            "Failed to Upload: Video #534\n",
            "Failed for video path #/content/drive/MyDrive/DeepFakeDetection/data/FakeAVCeleb_v1.2/real_videos_train/id01170/00034.mp4\n",
            "Video #535 out of 1394\n",
            "Failed to Upload: Video #535\n",
            "Failed for video path #/content/drive/MyDrive/DeepFakeDetection/data/FakeAVCeleb_v1.2/real_videos_train/id01170/00035.mp4\n",
            "Video #536 out of 1394\n",
            "Failed to Upload: Video #536\n",
            "Failed for video path #/content/drive/MyDrive/DeepFakeDetection/data/FakeAVCeleb_v1.2/real_videos_train/id01170/00037.mp4\n",
            "Video #537 out of 1394\n",
            "Failed to Upload: Video #537\n",
            "Failed for video path #/content/drive/MyDrive/DeepFakeDetection/data/FakeAVCeleb_v1.2/real_videos_train/id01170/00036.mp4\n",
            "Video #538 out of 1394\n",
            "Failed to Upload: Video #538\n",
            "Failed for video path #/content/drive/MyDrive/DeepFakeDetection/data/FakeAVCeleb_v1.2/real_videos_train/id01170/00039.mp4\n",
            "Video #539 out of 1394\n",
            "Failed to Upload: Video #539\n",
            "Failed for video path #/content/drive/MyDrive/DeepFakeDetection/data/FakeAVCeleb_v1.2/real_videos_train/id01170/00038.mp4\n",
            "Video #540 out of 1394\n",
            "Video #541 out of 1394\n",
            "Video #542 out of 1394\n",
            "Video #543 out of 1394\n",
            "Video #544 out of 1394\n",
            "Video #545 out of 1394\n",
            "Video #546 out of 1394\n",
            "Video #547 out of 1394\n",
            "Video #548 out of 1394\n",
            "Failed to Upload: Video #548\n",
            "Failed for video path #/content/drive/MyDrive/DeepFakeDetection/data/FakeAVCeleb_v1.2/real_videos_train/id01170/00048.mp4\n",
            "Video #549 out of 1394\n",
            "Video #550 out of 1394\n",
            "Video #551 out of 1394\n",
            "Video #552 out of 1394\n",
            "Failed to Upload: Video #552\n",
            "Failed for video path #/content/drive/MyDrive/DeepFakeDetection/data/FakeAVCeleb_v1.2/real_videos_train/id01170/00053.mp4\n",
            "Video #553 out of 1394\n",
            "Failed to Upload: Video #553\n",
            "Failed for video path #/content/drive/MyDrive/DeepFakeDetection/data/FakeAVCeleb_v1.2/real_videos_train/id01170/00052.mp4\n",
            "Video #554 out of 1394\n",
            "Video #555 out of 1394\n",
            "Failed to Upload: Video #555\n",
            "Failed for video path #/content/drive/MyDrive/DeepFakeDetection/data/FakeAVCeleb_v1.2/real_videos_train/id01170/00054.mp4\n",
            "Video #556 out of 1394\n",
            "Video #557 out of 1394\n",
            "Failed to Upload: Video #557\n",
            "Failed for video path #/content/drive/MyDrive/DeepFakeDetection/data/FakeAVCeleb_v1.2/real_videos_train/id01170/00057.mp4\n",
            "Video #558 out of 1394\n",
            "Failed to Upload: Video #558\n",
            "Failed for video path #/content/drive/MyDrive/DeepFakeDetection/data/FakeAVCeleb_v1.2/real_videos_train/id01170/00058.mp4\n",
            "Video #559 out of 1394\n",
            "Failed to Upload: Video #559\n",
            "Failed for video path #/content/drive/MyDrive/DeepFakeDetection/data/FakeAVCeleb_v1.2/real_videos_train/id01170/00059.mp4\n",
            "Video #560 out of 1394\n",
            "Video #561 out of 1394\n",
            "Video #562 out of 1394\n",
            "Video #563 out of 1394\n",
            "Video #564 out of 1394\n",
            "Video #565 out of 1394\n",
            "Failed to Upload: Video #565\n",
            "Failed for video path #/content/drive/MyDrive/DeepFakeDetection/data/FakeAVCeleb_v1.2/real_videos_train/id01170/00064.mp4\n",
            "Video #566 out of 1394\n",
            "Video #567 out of 1394\n",
            "Video #568 out of 1394\n",
            "Failed to Upload: Video #568\n",
            "Failed for video path #/content/drive/MyDrive/DeepFakeDetection/data/FakeAVCeleb_v1.2/real_videos_train/id01170/00068.mp4\n",
            "Video #569 out of 1394\n",
            "Video #570 out of 1394\n",
            "Failed to Upload: Video #570\n",
            "Failed for video path #/content/drive/MyDrive/DeepFakeDetection/data/FakeAVCeleb_v1.2/real_videos_train/id01170/00071.mp4\n",
            "Video #571 out of 1394\n",
            "Failed to Upload: Video #571\n",
            "Failed for video path #/content/drive/MyDrive/DeepFakeDetection/data/FakeAVCeleb_v1.2/real_videos_train/id01170/00070.mp4\n",
            "Video #572 out of 1394\n",
            "Failed to Upload: Video #572\n",
            "Failed for video path #/content/drive/MyDrive/DeepFakeDetection/data/FakeAVCeleb_v1.2/real_videos_train/id01170/00073.mp4\n",
            "Video #573 out of 1394\n",
            "Failed to Upload: Video #573\n",
            "Failed for video path #/content/drive/MyDrive/DeepFakeDetection/data/FakeAVCeleb_v1.2/real_videos_train/id01170/00072.mp4\n",
            "Video #574 out of 1394\n",
            "Video #575 out of 1394\n",
            "Failed to Upload: Video #575\n",
            "Failed for video path #/content/drive/MyDrive/DeepFakeDetection/data/FakeAVCeleb_v1.2/real_videos_train/id01170/00076.mp4\n",
            "Video #576 out of 1394\n",
            "Failed to Upload: Video #576\n",
            "Failed for video path #/content/drive/MyDrive/DeepFakeDetection/data/FakeAVCeleb_v1.2/real_videos_train/id01170/00075.mp4\n",
            "Video #577 out of 1394\n",
            "Failed to Upload: Video #577\n",
            "Failed for video path #/content/drive/MyDrive/DeepFakeDetection/data/FakeAVCeleb_v1.2/real_videos_train/id01170/00077.mp4\n",
            "Video #578 out of 1394\n",
            "Video #579 out of 1394\n",
            "Failed to Upload: Video #579\n",
            "Failed for video path #/content/drive/MyDrive/DeepFakeDetection/data/FakeAVCeleb_v1.2/real_videos_train/id01170/00079.mp4\n",
            "Video #580 out of 1394\n",
            "Failed to Upload: Video #580\n",
            "Failed for video path #/content/drive/MyDrive/DeepFakeDetection/data/FakeAVCeleb_v1.2/real_videos_train/id01170/00080.mp4\n",
            "Video #581 out of 1394\n",
            "Failed to Upload: Video #581\n",
            "Failed for video path #/content/drive/MyDrive/DeepFakeDetection/data/FakeAVCeleb_v1.2/real_videos_train/id01170/00081.mp4\n",
            "Video #582 out of 1394\n",
            "Failed to Upload: Video #582\n",
            "Failed for video path #/content/drive/MyDrive/DeepFakeDetection/data/FakeAVCeleb_v1.2/real_videos_train/id01170/00082.mp4\n",
            "Video #583 out of 1394\n",
            "Failed to Upload: Video #583\n",
            "Failed for video path #/content/drive/MyDrive/DeepFakeDetection/data/FakeAVCeleb_v1.2/real_videos_train/id01170/00083.mp4\n",
            "Video #584 out of 1394\n",
            "Failed to Upload: Video #584\n",
            "Failed for video path #/content/drive/MyDrive/DeepFakeDetection/data/FakeAVCeleb_v1.2/real_videos_train/id01170/00084.mp4\n",
            "Video #585 out of 1394\n",
            "Failed to Upload: Video #585\n",
            "Failed for video path #/content/drive/MyDrive/DeepFakeDetection/data/FakeAVCeleb_v1.2/real_videos_train/id01170/00085.mp4\n",
            "Video #586 out of 1394\n",
            "Video #587 out of 1394\n",
            "Failed to Upload: Video #587\n",
            "Failed for video path #/content/drive/MyDrive/DeepFakeDetection/data/FakeAVCeleb_v1.2/real_videos_train/id01170/00087.mp4\n",
            "Video #588 out of 1394\n",
            "Video #589 out of 1394\n",
            "Video #590 out of 1394\n",
            "Video #591 out of 1394\n",
            "Video #592 out of 1394\n",
            "Video #593 out of 1394\n",
            "Failed to Upload: Video #593\n",
            "Failed for video path #/content/drive/MyDrive/DeepFakeDetection/data/FakeAVCeleb_v1.2/real_videos_train/id01170/00093.mp4\n",
            "Video #594 out of 1394\n",
            "Video #595 out of 1394\n",
            "Failed to Upload: Video #595\n",
            "Failed for video path #/content/drive/MyDrive/DeepFakeDetection/data/FakeAVCeleb_v1.2/real_videos_train/id01170/00095.mp4\n",
            "Video #596 out of 1394\n",
            "Video #597 out of 1394\n",
            "Video #598 out of 1394\n",
            "Video #599 out of 1394\n",
            "Video #600 out of 1394\n",
            "Video #601 out of 1394\n",
            "Video #602 out of 1394\n",
            "Video #603 out of 1394\n",
            "Video #604 out of 1394\n",
            "Failed to Upload: Video #604\n",
            "Failed for video path #/content/drive/MyDrive/DeepFakeDetection/data/FakeAVCeleb_v1.2/real_videos_train/id01170/00105.mp4\n",
            "Video #605 out of 1394\n",
            "Video #606 out of 1394\n",
            "Video #607 out of 1394\n",
            "Failed to Upload: Video #607\n",
            "Failed for video path #/content/drive/MyDrive/DeepFakeDetection/data/FakeAVCeleb_v1.2/real_videos_train/id01170/00108.mp4\n",
            "Video #608 out of 1394\n",
            "Video #609 out of 1394\n",
            "Video #610 out of 1394\n",
            "Video #611 out of 1394\n",
            "Video #612 out of 1394\n",
            "Video #613 out of 1394\n",
            "Video #614 out of 1394\n",
            "Video #615 out of 1394\n",
            "Video #616 out of 1394\n",
            "Video #617 out of 1394\n",
            "Failed to Upload: Video #617\n",
            "Failed for video path #/content/drive/MyDrive/DeepFakeDetection/data/FakeAVCeleb_v1.2/real_videos_train/id01170/00117.mp4\n",
            "Video #618 out of 1394\n",
            "Failed to Upload: Video #618\n",
            "Failed for video path #/content/drive/MyDrive/DeepFakeDetection/data/FakeAVCeleb_v1.2/real_videos_train/id01170/00118.mp4\n",
            "Video #619 out of 1394\n",
            "Video #620 out of 1394\n",
            "Video #621 out of 1394\n",
            "Video #622 out of 1394\n",
            "Video #623 out of 1394\n",
            "Video #624 out of 1394\n",
            "Failed to Upload: Video #624\n",
            "Failed for video path #/content/drive/MyDrive/DeepFakeDetection/data/FakeAVCeleb_v1.2/real_videos_train/id01170/00124.mp4\n",
            "Video #625 out of 1394\n",
            "Failed to Upload: Video #625\n",
            "Failed for video path #/content/drive/MyDrive/DeepFakeDetection/data/FakeAVCeleb_v1.2/real_videos_train/id01170/00125.mp4\n",
            "Video #626 out of 1394\n",
            "Failed to Upload: Video #626\n",
            "Failed for video path #/content/drive/MyDrive/DeepFakeDetection/data/FakeAVCeleb_v1.2/real_videos_train/id01170/00126.mp4\n",
            "Video #627 out of 1394\n",
            "Video #628 out of 1394\n",
            "Video #629 out of 1394\n",
            "Video #630 out of 1394\n",
            "Video #631 out of 1394\n",
            "Failed to Upload: Video #631\n",
            "Failed for video path #/content/drive/MyDrive/DeepFakeDetection/data/FakeAVCeleb_v1.2/real_videos_train/id01170/00132.mp4\n",
            "Video #632 out of 1394\n",
            "Video #633 out of 1394\n",
            "Failed to Upload: Video #633\n",
            "Failed for video path #/content/drive/MyDrive/DeepFakeDetection/data/FakeAVCeleb_v1.2/real_videos_train/id01170/00135.mp4\n",
            "Video #634 out of 1394\n",
            "Failed to Upload: Video #634\n",
            "Failed for video path #/content/drive/MyDrive/DeepFakeDetection/data/FakeAVCeleb_v1.2/real_videos_train/id01170/00134.mp4\n",
            "Video #635 out of 1394\n",
            "Failed to Upload: Video #635\n",
            "Failed for video path #/content/drive/MyDrive/DeepFakeDetection/data/FakeAVCeleb_v1.2/real_videos_train/id01170/00133.mp4\n",
            "Video #636 out of 1394\n",
            "Failed to Upload: Video #636\n",
            "Failed for video path #/content/drive/MyDrive/DeepFakeDetection/data/FakeAVCeleb_v1.2/real_videos_train/id01170/00137.mp4\n",
            "Video #637 out of 1394\n",
            "Failed to Upload: Video #637\n",
            "Failed for video path #/content/drive/MyDrive/DeepFakeDetection/data/FakeAVCeleb_v1.2/real_videos_train/id01170/00136.mp4\n",
            "Video #638 out of 1394\n",
            "Failed to Upload: Video #638\n",
            "Failed for video path #/content/drive/MyDrive/DeepFakeDetection/data/FakeAVCeleb_v1.2/real_videos_train/id01170/00139.mp4\n",
            "Video #639 out of 1394\n",
            "Failed to Upload: Video #639\n",
            "Failed for video path #/content/drive/MyDrive/DeepFakeDetection/data/FakeAVCeleb_v1.2/real_videos_train/id01170/00138.mp4\n",
            "Video #640 out of 1394\n",
            "Failed to Upload: Video #640\n",
            "Failed for video path #/content/drive/MyDrive/DeepFakeDetection/data/FakeAVCeleb_v1.2/real_videos_train/id01170/00140.mp4\n",
            "Video #641 out of 1394\n",
            "Failed to Upload: Video #641\n",
            "Failed for video path #/content/drive/MyDrive/DeepFakeDetection/data/FakeAVCeleb_v1.2/real_videos_train/id01170/00141.mp4\n",
            "Video #642 out of 1394\n",
            "Failed to Upload: Video #642\n",
            "Failed for video path #/content/drive/MyDrive/DeepFakeDetection/data/FakeAVCeleb_v1.2/real_videos_train/id01170/00142.mp4\n",
            "Video #643 out of 1394\n",
            "Failed to Upload: Video #643\n",
            "Failed for video path #/content/drive/MyDrive/DeepFakeDetection/data/FakeAVCeleb_v1.2/real_videos_train/id01170/00143.mp4\n",
            "Video #644 out of 1394\n",
            "Failed to Upload: Video #644\n",
            "Failed for video path #/content/drive/MyDrive/DeepFakeDetection/data/FakeAVCeleb_v1.2/real_videos_train/id01170/00144.mp4\n",
            "Video #645 out of 1394\n",
            "Failed to Upload: Video #645\n",
            "Failed for video path #/content/drive/MyDrive/DeepFakeDetection/data/FakeAVCeleb_v1.2/real_videos_train/id01170/00145.mp4\n",
            "Video #646 out of 1394\n",
            "Failed to Upload: Video #646\n",
            "Failed for video path #/content/drive/MyDrive/DeepFakeDetection/data/FakeAVCeleb_v1.2/real_videos_train/id01170/00146.mp4\n",
            "Video #647 out of 1394\n",
            "Failed to Upload: Video #647\n",
            "Failed for video path #/content/drive/MyDrive/DeepFakeDetection/data/FakeAVCeleb_v1.2/real_videos_train/id01170/00148.mp4\n",
            "Video #648 out of 1394\n",
            "Failed to Upload: Video #648\n",
            "Failed for video path #/content/drive/MyDrive/DeepFakeDetection/data/FakeAVCeleb_v1.2/real_videos_train/id01170/00147.mp4\n",
            "Video #649 out of 1394\n",
            "Failed to Upload: Video #649\n",
            "Failed for video path #/content/drive/MyDrive/DeepFakeDetection/data/FakeAVCeleb_v1.2/real_videos_train/id01170/00149.mp4\n",
            "Video #650 out of 1394\n",
            "Failed to Upload: Video #650\n",
            "Failed for video path #/content/drive/MyDrive/DeepFakeDetection/data/FakeAVCeleb_v1.2/real_videos_train/id01170/00150.mp4\n",
            "Video #651 out of 1394\n",
            "Failed to Upload: Video #651\n",
            "Failed for video path #/content/drive/MyDrive/DeepFakeDetection/data/FakeAVCeleb_v1.2/real_videos_train/id01170/00151.mp4\n",
            "Video #652 out of 1394\n",
            "Failed to Upload: Video #652\n",
            "Failed for video path #/content/drive/MyDrive/DeepFakeDetection/data/FakeAVCeleb_v1.2/real_videos_train/id01170/00152.mp4\n",
            "Video #653 out of 1394\n",
            "Failed to Upload: Video #653\n",
            "Failed for video path #/content/drive/MyDrive/DeepFakeDetection/data/FakeAVCeleb_v1.2/real_videos_train/id01170/00153.mp4\n",
            "Video #654 out of 1394\n",
            "Failed to Upload: Video #654\n",
            "Failed for video path #/content/drive/MyDrive/DeepFakeDetection/data/FakeAVCeleb_v1.2/real_videos_train/id01170/00155.mp4\n",
            "Video #655 out of 1394\n",
            "Failed to Upload: Video #655\n",
            "Failed for video path #/content/drive/MyDrive/DeepFakeDetection/data/FakeAVCeleb_v1.2/real_videos_train/id01170/00154.mp4\n",
            "Video #656 out of 1394\n",
            "Failed to Upload: Video #656\n",
            "Failed for video path #/content/drive/MyDrive/DeepFakeDetection/data/FakeAVCeleb_v1.2/real_videos_train/id01170/00156.mp4\n",
            "Video #657 out of 1394\n",
            "Failed to Upload: Video #657\n",
            "Failed for video path #/content/drive/MyDrive/DeepFakeDetection/data/FakeAVCeleb_v1.2/real_videos_train/id01170/00157.mp4\n",
            "Video #658 out of 1394\n",
            "Failed to Upload: Video #658\n",
            "Failed for video path #/content/drive/MyDrive/DeepFakeDetection/data/FakeAVCeleb_v1.2/real_videos_train/id01170/00158.mp4\n",
            "Video #659 out of 1394\n",
            "Failed to Upload: Video #659\n",
            "Failed for video path #/content/drive/MyDrive/DeepFakeDetection/data/FakeAVCeleb_v1.2/real_videos_train/id01170/00159.mp4\n",
            "Video #660 out of 1394\n",
            "Failed to Upload: Video #660\n",
            "Failed for video path #/content/drive/MyDrive/DeepFakeDetection/data/FakeAVCeleb_v1.2/real_videos_train/id01170/00160.mp4\n",
            "Video #661 out of 1394\n",
            "Video #662 out of 1394\n",
            "Video #663 out of 1394\n",
            "Video #664 out of 1394\n",
            "Video #665 out of 1394\n",
            "Failed to Upload: Video #665\n",
            "Failed for video path #/content/drive/MyDrive/DeepFakeDetection/data/FakeAVCeleb_v1.2/real_videos_train/id01182/00003.mp4\n",
            "Video #666 out of 1394\n",
            "Video #667 out of 1394\n",
            "Failed to Upload: Video #667\n",
            "Failed for video path #/content/drive/MyDrive/DeepFakeDetection/data/FakeAVCeleb_v1.2/real_videos_train/id01182/00005.mp4\n",
            "Video #668 out of 1394\n",
            "Video #669 out of 1394\n",
            "Video #670 out of 1394\n",
            "Video #671 out of 1394\n",
            "Video #672 out of 1394\n",
            "Video #673 out of 1394\n",
            "Video #674 out of 1394\n",
            "Video #675 out of 1394\n",
            "Video #676 out of 1394\n",
            "Video #677 out of 1394\n",
            "Failed to Upload: Video #677\n",
            "Failed for video path #/content/drive/MyDrive/DeepFakeDetection/data/FakeAVCeleb_v1.2/real_videos_train/id01182/00016.mp4\n",
            "Video #678 out of 1394\n",
            "Failed to Upload: Video #678\n",
            "Failed for video path #/content/drive/MyDrive/DeepFakeDetection/data/FakeAVCeleb_v1.2/real_videos_train/id01182/00015.mp4\n",
            "Video #679 out of 1394\n",
            "Failed to Upload: Video #679\n",
            "Failed for video path #/content/drive/MyDrive/DeepFakeDetection/data/FakeAVCeleb_v1.2/real_videos_train/id01182/00017.mp4\n",
            "Video #680 out of 1394\n",
            "Failed to Upload: Video #680\n",
            "Failed for video path #/content/drive/MyDrive/DeepFakeDetection/data/FakeAVCeleb_v1.2/real_videos_train/id01182/00019.mp4\n",
            "Video #681 out of 1394\n",
            "Failed to Upload: Video #681\n",
            "Failed for video path #/content/drive/MyDrive/DeepFakeDetection/data/FakeAVCeleb_v1.2/real_videos_train/id01182/00018.mp4\n",
            "Video #682 out of 1394\n",
            "Failed to Upload: Video #682\n",
            "Failed for video path #/content/drive/MyDrive/DeepFakeDetection/data/FakeAVCeleb_v1.2/real_videos_train/id01182/00021.mp4\n",
            "Video #683 out of 1394\n",
            "Failed to Upload: Video #683\n",
            "Failed for video path #/content/drive/MyDrive/DeepFakeDetection/data/FakeAVCeleb_v1.2/real_videos_train/id01182/00020.mp4\n",
            "Video #684 out of 1394\n",
            "Failed to Upload: Video #684\n",
            "Failed for video path #/content/drive/MyDrive/DeepFakeDetection/data/FakeAVCeleb_v1.2/real_videos_train/id01182/00022.mp4\n",
            "Video #685 out of 1394\n",
            "Video #686 out of 1394\n",
            "Failed to Upload: Video #686\n",
            "Failed for video path #/content/drive/MyDrive/DeepFakeDetection/data/FakeAVCeleb_v1.2/real_videos_train/id01182/00024.mp4\n",
            "Video #687 out of 1394\n",
            "Video #688 out of 1394\n",
            "Failed to Upload: Video #688\n",
            "Failed for video path #/content/drive/MyDrive/DeepFakeDetection/data/FakeAVCeleb_v1.2/real_videos_train/id01182/00026.mp4\n",
            "Video #689 out of 1394\n",
            "Failed to Upload: Video #689\n",
            "Failed for video path #/content/drive/MyDrive/DeepFakeDetection/data/FakeAVCeleb_v1.2/real_videos_train/id01182/00027.mp4\n",
            "Video #690 out of 1394\n",
            "Video #691 out of 1394\n",
            "Failed to Upload: Video #691\n",
            "Failed for video path #/content/drive/MyDrive/DeepFakeDetection/data/FakeAVCeleb_v1.2/real_videos_train/id01182/00029.mp4\n",
            "Video #692 out of 1394\n",
            "Failed to Upload: Video #692\n",
            "Failed for video path #/content/drive/MyDrive/DeepFakeDetection/data/FakeAVCeleb_v1.2/real_videos_train/id01182/00030.mp4\n",
            "Video #693 out of 1394\n",
            "Failed to Upload: Video #693\n",
            "Failed for video path #/content/drive/MyDrive/DeepFakeDetection/data/FakeAVCeleb_v1.2/real_videos_train/id01182/00031.mp4\n",
            "Video #694 out of 1394\n",
            "Video #695 out of 1394\n",
            "Video #696 out of 1394\n",
            "Video #697 out of 1394\n",
            "Video #698 out of 1394\n",
            "Video #699 out of 1394\n",
            "Failed to Upload: Video #699\n",
            "Failed for video path #/content/drive/MyDrive/DeepFakeDetection/data/FakeAVCeleb_v1.2/real_videos_train/id01182/00038.mp4\n",
            "Video #700 out of 1394\n",
            "Failed to Upload: Video #700\n",
            "Failed for video path #/content/drive/MyDrive/DeepFakeDetection/data/FakeAVCeleb_v1.2/real_videos_train/id01182/00037.mp4\n",
            "Video #701 out of 1394\n",
            "Video #702 out of 1394\n",
            "Video #703 out of 1394\n",
            "Video #704 out of 1394\n",
            "Video #705 out of 1394\n",
            "Video #706 out of 1394\n",
            "Video #707 out of 1394\n",
            "Video #708 out of 1394\n",
            "Video #709 out of 1394\n",
            "Video #710 out of 1394\n",
            "Failed to Upload: Video #710\n",
            "Failed for video path #/content/drive/MyDrive/DeepFakeDetection/data/FakeAVCeleb_v1.2/real_videos_train/id01182/00048.mp4\n",
            "Video #711 out of 1394\n",
            "Video #712 out of 1394\n",
            "Failed to Upload: Video #712\n",
            "Failed for video path #/content/drive/MyDrive/DeepFakeDetection/data/FakeAVCeleb_v1.2/real_videos_train/id01182/00051.mp4\n",
            "Video #713 out of 1394\n",
            "Video #714 out of 1394\n",
            "Failed to Upload: Video #714\n",
            "Failed for video path #/content/drive/MyDrive/DeepFakeDetection/data/FakeAVCeleb_v1.2/real_videos_train/id01182/00053.mp4\n",
            "Video #715 out of 1394\n",
            "Failed to Upload: Video #715\n",
            "Failed for video path #/content/drive/MyDrive/DeepFakeDetection/data/FakeAVCeleb_v1.2/real_videos_train/id01182/00052.mp4\n",
            "Video #716 out of 1394\n",
            "Failed to Upload: Video #716\n",
            "Failed for video path #/content/drive/MyDrive/DeepFakeDetection/data/FakeAVCeleb_v1.2/real_videos_train/id01182/00054.mp4\n",
            "Video #717 out of 1394\n",
            "Failed to Upload: Video #717\n",
            "Failed for video path #/content/drive/MyDrive/DeepFakeDetection/data/FakeAVCeleb_v1.2/real_videos_train/id01182/00055.mp4\n",
            "Video #718 out of 1394\n",
            "Video #719 out of 1394\n",
            "Failed to Upload: Video #719\n",
            "Failed for video path #/content/drive/MyDrive/DeepFakeDetection/data/FakeAVCeleb_v1.2/real_videos_train/id01182/00056.mp4\n",
            "Video #720 out of 1394\n",
            "Video #721 out of 1394\n",
            "Video #722 out of 1394\n",
            "Failed to Upload: Video #722\n",
            "Failed for video path #/content/drive/MyDrive/DeepFakeDetection/data/FakeAVCeleb_v1.2/real_videos_train/id01182/00060.mp4\n",
            "Video #723 out of 1394\n",
            "Video #724 out of 1394\n",
            "Failed to Upload: Video #724\n",
            "Failed for video path #/content/drive/MyDrive/DeepFakeDetection/data/FakeAVCeleb_v1.2/real_videos_train/id01182/00063.mp4\n",
            "Video #725 out of 1394\n",
            "Failed to Upload: Video #725\n",
            "Failed for video path #/content/drive/MyDrive/DeepFakeDetection/data/FakeAVCeleb_v1.2/real_videos_train/id01182/00061.mp4\n",
            "Video #726 out of 1394\n",
            "Video #727 out of 1394\n",
            "Failed to Upload: Video #727\n",
            "Failed for video path #/content/drive/MyDrive/DeepFakeDetection/data/FakeAVCeleb_v1.2/real_videos_train/id01182/00066.mp4\n",
            "Video #728 out of 1394\n",
            "Video #729 out of 1394\n",
            "Video #730 out of 1394\n",
            "Video #731 out of 1394\n",
            "Failed to Upload: Video #731\n",
            "Failed for video path #/content/drive/MyDrive/DeepFakeDetection/data/FakeAVCeleb_v1.2/real_videos_train/id01182/00068.mp4\n",
            "Video #732 out of 1394\n",
            "Failed to Upload: Video #732\n",
            "Failed for video path #/content/drive/MyDrive/DeepFakeDetection/data/FakeAVCeleb_v1.2/real_videos_train/id01182/00070.mp4\n",
            "Video #733 out of 1394\n",
            "Failed to Upload: Video #733\n",
            "Failed for video path #/content/drive/MyDrive/DeepFakeDetection/data/FakeAVCeleb_v1.2/real_videos_train/id01182/00071.mp4\n",
            "Video #734 out of 1394\n",
            "Video #735 out of 1394\n",
            "Video #736 out of 1394\n",
            "Video #737 out of 1394\n",
            "Video #738 out of 1394\n",
            "Video #739 out of 1394\n",
            "Video #740 out of 1394\n",
            "Video #741 out of 1394\n",
            "Video #742 out of 1394\n",
            "Video #743 out of 1394\n",
            "Video #744 out of 1394\n",
            "Video #745 out of 1394\n",
            "Video #746 out of 1394\n",
            "Video #747 out of 1394\n",
            "Video #748 out of 1394\n",
            "Video #749 out of 1394\n",
            "Failed to Upload: Video #749\n",
            "Failed for video path #/content/drive/MyDrive/DeepFakeDetection/data/FakeAVCeleb_v1.2/real_videos_train/id01182/00088.mp4\n",
            "Video #750 out of 1394\n",
            "Failed to Upload: Video #750\n",
            "Failed for video path #/content/drive/MyDrive/DeepFakeDetection/data/FakeAVCeleb_v1.2/real_videos_train/id01182/00087.mp4\n",
            "Video #751 out of 1394\n",
            "Failed to Upload: Video #751\n",
            "Failed for video path #/content/drive/MyDrive/DeepFakeDetection/data/FakeAVCeleb_v1.2/real_videos_train/id01182/00089.mp4\n",
            "Video #752 out of 1394\n",
            "Video #753 out of 1394\n",
            "Failed to Upload: Video #753\n",
            "Failed for video path #/content/drive/MyDrive/DeepFakeDetection/data/FakeAVCeleb_v1.2/real_videos_train/id01182/00093.mp4\n",
            "Video #754 out of 1394\n",
            "Video #755 out of 1394\n",
            "Video #756 out of 1394\n",
            "Video #757 out of 1394\n",
            "Video #758 out of 1394\n",
            "Video #759 out of 1394\n",
            "Failed to Upload: Video #759\n",
            "Failed for video path #/content/drive/MyDrive/DeepFakeDetection/data/FakeAVCeleb_v1.2/real_videos_train/id01182/00097.mp4\n",
            "Video #760 out of 1394\n",
            "Video #761 out of 1394\n",
            "Failed to Upload: Video #761\n",
            "Failed for video path #/content/drive/MyDrive/DeepFakeDetection/data/FakeAVCeleb_v1.2/real_videos_train/id01182/00100.mp4\n",
            "Video #762 out of 1394\n",
            "Video #763 out of 1394\n",
            "Video #764 out of 1394\n",
            "Failed to Upload: Video #764\n",
            "Failed for video path #/content/drive/MyDrive/DeepFakeDetection/data/FakeAVCeleb_v1.2/real_videos_train/id01182/00102.mp4\n",
            "Video #765 out of 1394\n",
            "Failed to Upload: Video #765\n",
            "Failed for video path #/content/drive/MyDrive/DeepFakeDetection/data/FakeAVCeleb_v1.2/real_videos_train/id01182/00103.mp4\n",
            "Video #766 out of 1394\n",
            "Video #767 out of 1394\n",
            "Video #768 out of 1394\n",
            "Failed to Upload: Video #768\n",
            "Failed for video path #/content/drive/MyDrive/DeepFakeDetection/data/FakeAVCeleb_v1.2/real_videos_train/id01182/00105.mp4\n",
            "Video #769 out of 1394\n",
            "Video #770 out of 1394\n",
            "Failed to Upload: Video #770\n",
            "Failed for video path #/content/drive/MyDrive/DeepFakeDetection/data/FakeAVCeleb_v1.2/real_videos_train/id01182/00107.mp4\n",
            "Video #771 out of 1394\n",
            "Failed to Upload: Video #771\n",
            "Failed for video path #/content/drive/MyDrive/DeepFakeDetection/data/FakeAVCeleb_v1.2/real_videos_train/id01182/00110.mp4\n",
            "Video #772 out of 1394\n",
            "Failed to Upload: Video #772\n",
            "Failed for video path #/content/drive/MyDrive/DeepFakeDetection/data/FakeAVCeleb_v1.2/real_videos_train/id01182/00109.mp4\n",
            "Video #773 out of 1394\n",
            "Video #774 out of 1394\n",
            "Video #775 out of 1394\n",
            "Video #776 out of 1394\n",
            "Video #777 out of 1394\n",
            "Video #778 out of 1394\n",
            "Video #779 out of 1394\n",
            "Failed to Upload: Video #779\n",
            "Failed for video path #/content/drive/MyDrive/DeepFakeDetection/data/FakeAVCeleb_v1.2/real_videos_train/id01182/00117.mp4\n",
            "Video #780 out of 1394\n",
            "Failed to Upload: Video #780\n",
            "Failed for video path #/content/drive/MyDrive/DeepFakeDetection/data/FakeAVCeleb_v1.2/real_videos_train/id01182/00118.mp4\n",
            "Video #781 out of 1394\n",
            "Video #782 out of 1394\n",
            "Video #783 out of 1394\n",
            "Video #784 out of 1394\n",
            "Video #785 out of 1394\n",
            "Failed to Upload: Video #785\n",
            "Failed for video path #/content/drive/MyDrive/DeepFakeDetection/data/FakeAVCeleb_v1.2/real_videos_train/id01182/00122.mp4\n",
            "Video #786 out of 1394\n",
            "Video #787 out of 1394\n",
            "Video #788 out of 1394\n",
            "Video #789 out of 1394\n",
            "Video #790 out of 1394\n",
            "Failed to Upload: Video #790\n",
            "Failed for video path #/content/drive/MyDrive/DeepFakeDetection/data/FakeAVCeleb_v1.2/real_videos_train/id01182/00127.mp4\n",
            "Video #791 out of 1394\n",
            "Video #792 out of 1394\n",
            "Video #793 out of 1394\n",
            "Video #794 out of 1394\n",
            "Video #795 out of 1394\n",
            "Failed to Upload: Video #795\n",
            "Failed for video path #/content/drive/MyDrive/DeepFakeDetection/data/FakeAVCeleb_v1.2/real_videos_train/id01182/00133.mp4\n",
            "Video #796 out of 1394\n",
            "Video #797 out of 1394\n",
            "Video #798 out of 1394\n",
            "Failed to Upload: Video #798\n",
            "Failed for video path #/content/drive/MyDrive/DeepFakeDetection/data/FakeAVCeleb_v1.2/real_videos_train/id01182/00135.mp4\n",
            "Video #799 out of 1394\n",
            "Video #800 out of 1394\n",
            "Failed to Upload: Video #800\n",
            "Failed for video path #/content/drive/MyDrive/DeepFakeDetection/data/FakeAVCeleb_v1.2/real_videos_train/id01182/00138.mp4\n",
            "Video #801 out of 1394\n",
            "Video #802 out of 1394\n",
            "Failed to Upload: Video #802\n",
            "Failed for video path #/content/drive/MyDrive/DeepFakeDetection/data/FakeAVCeleb_v1.2/real_videos_train/id01182/00140.mp4\n",
            "Video #803 out of 1394\n",
            "Video #804 out of 1394\n",
            "Failed to Upload: Video #804\n",
            "Failed for video path #/content/drive/MyDrive/DeepFakeDetection/data/FakeAVCeleb_v1.2/real_videos_train/id01182/00142.mp4\n",
            "Video #805 out of 1394\n",
            "Video #806 out of 1394\n",
            "Video #807 out of 1394\n",
            "Failed to Upload: Video #807\n",
            "Failed for video path #/content/drive/MyDrive/DeepFakeDetection/data/FakeAVCeleb_v1.2/real_videos_train/id01182/00146.mp4\n",
            "Video #808 out of 1394\n",
            "Video #809 out of 1394\n",
            "Video #810 out of 1394\n",
            "Video #811 out of 1394\n",
            "Failed to Upload: Video #811\n",
            "Failed for video path #/content/drive/MyDrive/DeepFakeDetection/data/FakeAVCeleb_v1.2/real_videos_train/id01182/00150.mp4\n",
            "Video #812 out of 1394\n",
            "Failed to Upload: Video #812\n",
            "Failed for video path #/content/drive/MyDrive/DeepFakeDetection/data/FakeAVCeleb_v1.2/real_videos_train/id01182/00149.mp4\n",
            "Video #813 out of 1394\n",
            "Failed to Upload: Video #813\n",
            "Failed for video path #/content/drive/MyDrive/DeepFakeDetection/data/FakeAVCeleb_v1.2/real_videos_train/id01182/00151.mp4\n",
            "Video #814 out of 1394\n",
            "Failed to Upload: Video #814\n",
            "Failed for video path #/content/drive/MyDrive/DeepFakeDetection/data/FakeAVCeleb_v1.2/real_videos_train/id01182/00152.mp4\n",
            "Video #815 out of 1394\n",
            "Failed to Upload: Video #815\n",
            "Failed for video path #/content/drive/MyDrive/DeepFakeDetection/data/FakeAVCeleb_v1.2/real_videos_train/id01182/00153.mp4\n",
            "Video #816 out of 1394\n",
            "Failed to Upload: Video #816\n",
            "Failed for video path #/content/drive/MyDrive/DeepFakeDetection/data/FakeAVCeleb_v1.2/real_videos_train/id01182/00154.mp4\n",
            "Video #817 out of 1394\n",
            "Failed to Upload: Video #817\n",
            "Failed for video path #/content/drive/MyDrive/DeepFakeDetection/data/FakeAVCeleb_v1.2/real_videos_train/id01182/00156.mp4\n",
            "Video #818 out of 1394\n",
            "Failed to Upload: Video #818\n",
            "Failed for video path #/content/drive/MyDrive/DeepFakeDetection/data/FakeAVCeleb_v1.2/real_videos_train/id01182/00155.mp4\n",
            "Video #819 out of 1394\n",
            "Failed to Upload: Video #819\n",
            "Failed for video path #/content/drive/MyDrive/DeepFakeDetection/data/FakeAVCeleb_v1.2/real_videos_train/id01182/00157.mp4\n",
            "Video #820 out of 1394\n",
            "Failed to Upload: Video #820\n",
            "Failed for video path #/content/drive/MyDrive/DeepFakeDetection/data/FakeAVCeleb_v1.2/real_videos_train/id01182/00158.mp4\n",
            "Video #821 out of 1394\n",
            "Video #822 out of 1394\n",
            "Video #823 out of 1394\n",
            "Video #824 out of 1394\n",
            "Video #825 out of 1394\n",
            "Video #826 out of 1394\n",
            "Video #827 out of 1394\n",
            "Video #828 out of 1394\n",
            "Failed to Upload: Video #828\n",
            "Failed for video path #/content/drive/MyDrive/DeepFakeDetection/data/FakeAVCeleb_v1.2/real_videos_train/id01182/00166.mp4\n",
            "Video #829 out of 1394\n",
            "Video #830 out of 1394\n",
            "Video #831 out of 1394\n",
            "Failed to Upload: Video #831\n",
            "Failed for video path #/content/drive/MyDrive/DeepFakeDetection/data/FakeAVCeleb_v1.2/real_videos_train/id01182/00168.mp4\n",
            "Video #832 out of 1394\n",
            "Failed to Upload: Video #832\n",
            "Failed for video path #/content/drive/MyDrive/DeepFakeDetection/data/FakeAVCeleb_v1.2/real_videos_train/id01610/00002.mp4\n",
            "Video #833 out of 1394\n",
            "Video #834 out of 1394\n",
            "Failed to Upload: Video #834\n",
            "Failed for video path #/content/drive/MyDrive/DeepFakeDetection/data/FakeAVCeleb_v1.2/real_videos_train/id01610/00003.mp4\n",
            "Video #835 out of 1394\n",
            "Video #836 out of 1394\n",
            "Failed to Upload: Video #836\n",
            "Failed for video path #/content/drive/MyDrive/DeepFakeDetection/data/FakeAVCeleb_v1.2/real_videos_train/id01610/00004.mp4\n",
            "Video #837 out of 1394\n",
            "Failed to Upload: Video #837\n",
            "Failed for video path #/content/drive/MyDrive/DeepFakeDetection/data/FakeAVCeleb_v1.2/real_videos_train/id01610/00006.mp4\n",
            "Video #838 out of 1394\n",
            "Failed to Upload: Video #838\n",
            "Failed for video path #/content/drive/MyDrive/DeepFakeDetection/data/FakeAVCeleb_v1.2/real_videos_train/id01610/00008.mp4\n",
            "Video #839 out of 1394\n",
            "Failed to Upload: Video #839\n",
            "Failed for video path #/content/drive/MyDrive/DeepFakeDetection/data/FakeAVCeleb_v1.2/real_videos_train/id01610/00007.mp4\n",
            "Video #840 out of 1394\n",
            "Failed to Upload: Video #840\n",
            "Failed for video path #/content/drive/MyDrive/DeepFakeDetection/data/FakeAVCeleb_v1.2/real_videos_train/id01610/00009.mp4\n",
            "Video #841 out of 1394\n",
            "Failed to Upload: Video #841\n",
            "Failed for video path #/content/drive/MyDrive/DeepFakeDetection/data/FakeAVCeleb_v1.2/real_videos_train/id01610/00011.mp4\n",
            "Video #842 out of 1394\n",
            "Failed to Upload: Video #842\n",
            "Failed for video path #/content/drive/MyDrive/DeepFakeDetection/data/FakeAVCeleb_v1.2/real_videos_train/id01610/00010.mp4\n",
            "Video #843 out of 1394\n",
            "Video #844 out of 1394\n",
            "Video #845 out of 1394\n",
            "Failed to Upload: Video #845\n",
            "Failed for video path #/content/drive/MyDrive/DeepFakeDetection/data/FakeAVCeleb_v1.2/real_videos_train/id01610/00014.mp4\n",
            "Video #846 out of 1394\n",
            "Failed to Upload: Video #846\n",
            "Failed for video path #/content/drive/MyDrive/DeepFakeDetection/data/FakeAVCeleb_v1.2/real_videos_train/id01610/00016.mp4\n",
            "Video #847 out of 1394\n",
            "Failed to Upload: Video #847\n",
            "Failed for video path #/content/drive/MyDrive/DeepFakeDetection/data/FakeAVCeleb_v1.2/real_videos_train/id01610/00015.mp4\n",
            "Video #848 out of 1394\n",
            "Failed to Upload: Video #848\n",
            "Failed for video path #/content/drive/MyDrive/DeepFakeDetection/data/FakeAVCeleb_v1.2/real_videos_train/id01610/00017.mp4\n",
            "Video #849 out of 1394\n",
            "Video #850 out of 1394\n",
            "Video #851 out of 1394\n",
            "Video #852 out of 1394\n",
            "Video #853 out of 1394\n",
            "Video #854 out of 1394\n",
            "Video #855 out of 1394\n",
            "Video #856 out of 1394\n",
            "Video #857 out of 1394\n",
            "Video #858 out of 1394\n",
            "Video #859 out of 1394\n",
            "Video #860 out of 1394\n",
            "Video #861 out of 1394\n",
            "Video #862 out of 1394\n",
            "Failed to Upload: Video #862\n",
            "Failed for video path #/content/drive/MyDrive/DeepFakeDetection/data/FakeAVCeleb_v1.2/real_videos_train/id01610/00031.mp4\n",
            "Video #863 out of 1394\n",
            "Failed to Upload: Video #863\n",
            "Failed for video path #/content/drive/MyDrive/DeepFakeDetection/data/FakeAVCeleb_v1.2/real_videos_train/id01610/00032.mp4\n",
            "Video #864 out of 1394\n",
            "Failed to Upload: Video #864\n",
            "Failed for video path #/content/drive/MyDrive/DeepFakeDetection/data/FakeAVCeleb_v1.2/real_videos_train/id01610/00034.mp4\n",
            "Video #865 out of 1394\n",
            "Failed to Upload: Video #865\n",
            "Failed for video path #/content/drive/MyDrive/DeepFakeDetection/data/FakeAVCeleb_v1.2/real_videos_train/id01610/00033.mp4\n",
            "Video #866 out of 1394\n",
            "Video #867 out of 1394\n",
            "Video #868 out of 1394\n",
            "Failed to Upload: Video #868\n",
            "Failed for video path #/content/drive/MyDrive/DeepFakeDetection/data/FakeAVCeleb_v1.2/real_videos_train/id01610/00037.mp4\n",
            "Video #869 out of 1394\n",
            "Video #870 out of 1394\n",
            "Video #871 out of 1394\n",
            "Video #872 out of 1394\n",
            "Failed to Upload: Video #872\n",
            "Failed for video path #/content/drive/MyDrive/DeepFakeDetection/data/FakeAVCeleb_v1.2/real_videos_train/id01610/00041.mp4\n",
            "Video #873 out of 1394\n",
            "Failed to Upload: Video #873\n",
            "Failed for video path #/content/drive/MyDrive/DeepFakeDetection/data/FakeAVCeleb_v1.2/real_videos_train/id01610/00042.mp4\n",
            "Video #874 out of 1394\n",
            "Failed to Upload: Video #874\n",
            "Failed for video path #/content/drive/MyDrive/DeepFakeDetection/data/FakeAVCeleb_v1.2/real_videos_train/id01610/00044.mp4\n",
            "Video #875 out of 1394\n",
            "Failed to Upload: Video #875\n",
            "Failed for video path #/content/drive/MyDrive/DeepFakeDetection/data/FakeAVCeleb_v1.2/real_videos_train/id01610/00043.mp4\n",
            "Video #876 out of 1394\n",
            "Failed to Upload: Video #876\n",
            "Failed for video path #/content/drive/MyDrive/DeepFakeDetection/data/FakeAVCeleb_v1.2/real_videos_train/id01610/00045.mp4\n",
            "Video #877 out of 1394\n",
            "Failed to Upload: Video #877\n",
            "Failed for video path #/content/drive/MyDrive/DeepFakeDetection/data/FakeAVCeleb_v1.2/real_videos_train/id01610/00047.mp4\n",
            "Video #878 out of 1394\n",
            "Failed to Upload: Video #878\n",
            "Failed for video path #/content/drive/MyDrive/DeepFakeDetection/data/FakeAVCeleb_v1.2/real_videos_train/id01610/00046.mp4\n",
            "Video #879 out of 1394\n",
            "Failed to Upload: Video #879\n",
            "Failed for video path #/content/drive/MyDrive/DeepFakeDetection/data/FakeAVCeleb_v1.2/real_videos_train/id01610/00048.mp4\n",
            "Video #880 out of 1394\n",
            "Video #881 out of 1394\n",
            "Failed to Upload: Video #881\n",
            "Failed for video path #/content/drive/MyDrive/DeepFakeDetection/data/FakeAVCeleb_v1.2/real_videos_train/id01610/00050.mp4\n",
            "Video #882 out of 1394\n",
            "Failed to Upload: Video #882\n",
            "Failed for video path #/content/drive/MyDrive/DeepFakeDetection/data/FakeAVCeleb_v1.2/real_videos_train/id01610/00051.mp4\n",
            "Video #883 out of 1394\n",
            "Video #884 out of 1394\n",
            "Failed to Upload: Video #884\n",
            "Failed for video path #/content/drive/MyDrive/DeepFakeDetection/data/FakeAVCeleb_v1.2/real_videos_train/id01610/00054.mp4\n",
            "Video #885 out of 1394\n",
            "Failed to Upload: Video #885\n",
            "Failed for video path #/content/drive/MyDrive/DeepFakeDetection/data/FakeAVCeleb_v1.2/real_videos_train/id01610/00053.mp4\n",
            "Video #886 out of 1394\n",
            "Failed to Upload: Video #886\n",
            "Failed for video path #/content/drive/MyDrive/DeepFakeDetection/data/FakeAVCeleb_v1.2/real_videos_train/id01610/00055.mp4\n",
            "Video #887 out of 1394\n",
            "Video #888 out of 1394\n",
            "Video #889 out of 1394\n",
            "Video #890 out of 1394\n",
            "Failed to Upload: Video #890\n",
            "Failed for video path #/content/drive/MyDrive/DeepFakeDetection/data/FakeAVCeleb_v1.2/real_videos_train/id01610/00059.mp4\n",
            "Video #891 out of 1394\n",
            "Video #892 out of 1394\n",
            "Video #893 out of 1394\n",
            "Video #894 out of 1394\n",
            "Video #895 out of 1394\n",
            "Failed to Upload: Video #895\n",
            "Failed for video path #/content/drive/MyDrive/DeepFakeDetection/data/FakeAVCeleb_v1.2/real_videos_train/id01610/00064.mp4\n",
            "Video #896 out of 1394\n",
            "Failed to Upload: Video #896\n",
            "Failed for video path #/content/drive/MyDrive/DeepFakeDetection/data/FakeAVCeleb_v1.2/real_videos_train/id01610/00065.mp4\n",
            "Video #897 out of 1394\n",
            "Video #898 out of 1394\n",
            "Video #899 out of 1394\n",
            "Video #900 out of 1394\n",
            "Video #901 out of 1394\n",
            "Video #902 out of 1394\n",
            "Video #903 out of 1394\n",
            "Video #904 out of 1394\n",
            "Video #905 out of 1394\n",
            "Video #906 out of 1394\n",
            "Video #907 out of 1394\n",
            "Video #908 out of 1394\n",
            "Video #909 out of 1394\n",
            "Video #910 out of 1394\n",
            "Video #911 out of 1394\n",
            "Video #912 out of 1394\n",
            "Video #913 out of 1394\n",
            "Video #914 out of 1394\n",
            "Video #915 out of 1394\n",
            "Video #916 out of 1394\n",
            "Video #917 out of 1394\n",
            "Video #918 out of 1394\n",
            "Video #919 out of 1394\n",
            "Video #920 out of 1394\n",
            "Video #921 out of 1394\n",
            "Video #922 out of 1394\n",
            "Video #923 out of 1394\n",
            "Failed to Upload: Video #923\n",
            "Failed for video path #/content/drive/MyDrive/DeepFakeDetection/data/FakeAVCeleb_v1.2/real_videos_train/id01610/00092.mp4\n",
            "Video #924 out of 1394\n",
            "Failed to Upload: Video #924\n",
            "Failed for video path #/content/drive/MyDrive/DeepFakeDetection/data/FakeAVCeleb_v1.2/real_videos_train/id01610/00093.mp4\n",
            "Video #925 out of 1394\n",
            "Video #926 out of 1394\n",
            "Failed to Upload: Video #926\n",
            "Failed for video path #/content/drive/MyDrive/DeepFakeDetection/data/FakeAVCeleb_v1.2/real_videos_train/id01610/00095.mp4\n",
            "Video #927 out of 1394\n",
            "Failed to Upload: Video #927\n",
            "Failed for video path #/content/drive/MyDrive/DeepFakeDetection/data/FakeAVCeleb_v1.2/real_videos_train/id01610/00097.mp4\n",
            "Video #928 out of 1394\n",
            "Failed to Upload: Video #928\n",
            "Failed for video path #/content/drive/MyDrive/DeepFakeDetection/data/FakeAVCeleb_v1.2/real_videos_train/id01610/00096.mp4\n",
            "Video #929 out of 1394\n",
            "Failed to Upload: Video #929\n",
            "Failed for video path #/content/drive/MyDrive/DeepFakeDetection/data/FakeAVCeleb_v1.2/real_videos_train/id01610/00098.mp4\n",
            "Video #930 out of 1394\n",
            "Failed to Upload: Video #930\n",
            "Failed for video path #/content/drive/MyDrive/DeepFakeDetection/data/FakeAVCeleb_v1.2/real_videos_train/id01610/00099.mp4\n",
            "Video #931 out of 1394\n",
            "Video #932 out of 1394\n",
            "Video #933 out of 1394\n",
            "Video #934 out of 1394\n",
            "Video #935 out of 1394\n",
            "Video #936 out of 1394\n",
            "Video #937 out of 1394\n",
            "Video #938 out of 1394\n",
            "Video #939 out of 1394\n",
            "Video #940 out of 1394\n",
            "Video #941 out of 1394\n",
            "Video #942 out of 1394\n",
            "Video #943 out of 1394\n",
            "Video #944 out of 1394\n",
            "Video #945 out of 1394\n",
            "Video #946 out of 1394\n",
            "Video #947 out of 1394\n",
            "Video #948 out of 1394\n",
            "Video #949 out of 1394\n",
            "Video #950 out of 1394\n",
            "Video #951 out of 1394\n",
            "Failed to Upload: Video #951\n",
            "Failed for video path #/content/drive/MyDrive/DeepFakeDetection/data/FakeAVCeleb_v1.2/real_videos_train/id01610/00120.mp4\n",
            "Video #952 out of 1394\n",
            "Video #953 out of 1394\n",
            "Video #954 out of 1394\n",
            "Video #955 out of 1394\n",
            "Video #956 out of 1394\n",
            "Video #957 out of 1394\n",
            "Video #958 out of 1394\n",
            "Failed to Upload: Video #958\n",
            "Failed for video path #/content/drive/MyDrive/DeepFakeDetection/data/FakeAVCeleb_v1.2/real_videos_train/id01610/00127.mp4\n",
            "Video #959 out of 1394\n",
            "Video #960 out of 1394\n",
            "Failed to Upload: Video #960\n",
            "Failed for video path #/content/drive/MyDrive/DeepFakeDetection/data/FakeAVCeleb_v1.2/real_videos_train/id01610/00129.mp4\n",
            "Video #961 out of 1394\n",
            "Video #962 out of 1394\n",
            "Video #963 out of 1394\n",
            "Video #964 out of 1394\n",
            "Video #965 out of 1394\n",
            "Video #966 out of 1394\n",
            "Video #967 out of 1394\n",
            "Failed to Upload: Video #967\n",
            "Failed for video path #/content/drive/MyDrive/DeepFakeDetection/data/FakeAVCeleb_v1.2/real_videos_train/id01610/00136.mp4\n",
            "Video #968 out of 1394\n",
            "Failed to Upload: Video #968\n",
            "Failed for video path #/content/drive/MyDrive/DeepFakeDetection/data/FakeAVCeleb_v1.2/real_videos_train/id01610/00137.mp4\n",
            "Video #969 out of 1394\n",
            "Video #970 out of 1394\n",
            "Video #971 out of 1394\n",
            "Failed to Upload: Video #971\n",
            "Failed for video path #/content/drive/MyDrive/DeepFakeDetection/data/FakeAVCeleb_v1.2/real_videos_train/id00366/00003.mp4\n",
            "Video #972 out of 1394\n",
            "Failed to Upload: Video #972\n",
            "Failed for video path #/content/drive/MyDrive/DeepFakeDetection/data/FakeAVCeleb_v1.2/real_videos_train/id00366/00004.mp4\n",
            "Video #973 out of 1394\n",
            "Failed to Upload: Video #973\n",
            "Failed for video path #/content/drive/MyDrive/DeepFakeDetection/data/FakeAVCeleb_v1.2/real_videos_train/id00366/00007.mp4\n",
            "Video #974 out of 1394\n",
            "Video #975 out of 1394\n",
            "Video #976 out of 1394\n",
            "Failed to Upload: Video #976\n",
            "Failed for video path #/content/drive/MyDrive/DeepFakeDetection/data/FakeAVCeleb_v1.2/real_videos_train/id00366/00008.mp4\n",
            "Video #977 out of 1394\n",
            "Failed to Upload: Video #977\n",
            "Failed for video path #/content/drive/MyDrive/DeepFakeDetection/data/FakeAVCeleb_v1.2/real_videos_train/id00366/00009.mp4\n",
            "Video #978 out of 1394\n",
            "Failed to Upload: Video #978\n",
            "Failed for video path #/content/drive/MyDrive/DeepFakeDetection/data/FakeAVCeleb_v1.2/real_videos_train/id00366/00011.mp4\n",
            "Video #979 out of 1394\n",
            "Failed to Upload: Video #979\n",
            "Failed for video path #/content/drive/MyDrive/DeepFakeDetection/data/FakeAVCeleb_v1.2/real_videos_train/id00366/00010.mp4\n",
            "Video #980 out of 1394\n",
            "Failed to Upload: Video #980\n",
            "Failed for video path #/content/drive/MyDrive/DeepFakeDetection/data/FakeAVCeleb_v1.2/real_videos_train/id00366/00013.mp4\n",
            "Video #981 out of 1394\n",
            "Failed to Upload: Video #981\n",
            "Failed for video path #/content/drive/MyDrive/DeepFakeDetection/data/FakeAVCeleb_v1.2/real_videos_train/id00366/00012.mp4\n",
            "Video #982 out of 1394\n",
            "Failed to Upload: Video #982\n",
            "Failed for video path #/content/drive/MyDrive/DeepFakeDetection/data/FakeAVCeleb_v1.2/real_videos_train/id00366/00015.mp4\n",
            "Video #983 out of 1394\n",
            "Failed to Upload: Video #983\n",
            "Failed for video path #/content/drive/MyDrive/DeepFakeDetection/data/FakeAVCeleb_v1.2/real_videos_train/id00366/00016.mp4\n",
            "Video #984 out of 1394\n",
            "Failed to Upload: Video #984\n",
            "Failed for video path #/content/drive/MyDrive/DeepFakeDetection/data/FakeAVCeleb_v1.2/real_videos_train/id00366/00014.mp4\n",
            "Video #985 out of 1394\n",
            "Failed to Upload: Video #985\n",
            "Failed for video path #/content/drive/MyDrive/DeepFakeDetection/data/FakeAVCeleb_v1.2/real_videos_train/id00366/00017.mp4\n",
            "Video #986 out of 1394\n",
            "Video #987 out of 1394\n",
            "Failed to Upload: Video #987\n",
            "Failed for video path #/content/drive/MyDrive/DeepFakeDetection/data/FakeAVCeleb_v1.2/real_videos_train/id00366/00019.mp4\n",
            "Video #988 out of 1394\n",
            "Video #989 out of 1394\n",
            "Failed to Upload: Video #989\n",
            "Failed for video path #/content/drive/MyDrive/DeepFakeDetection/data/FakeAVCeleb_v1.2/real_videos_train/id00366/00022.mp4\n",
            "Video #990 out of 1394\n",
            "Failed to Upload: Video #990\n",
            "Failed for video path #/content/drive/MyDrive/DeepFakeDetection/data/FakeAVCeleb_v1.2/real_videos_train/id00366/00021.mp4\n",
            "Video #991 out of 1394\n",
            "Failed to Upload: Video #991\n",
            "Failed for video path #/content/drive/MyDrive/DeepFakeDetection/data/FakeAVCeleb_v1.2/real_videos_train/id00366/00023.mp4\n",
            "Video #992 out of 1394\n",
            "Failed to Upload: Video #992\n",
            "Failed for video path #/content/drive/MyDrive/DeepFakeDetection/data/FakeAVCeleb_v1.2/real_videos_train/id00366/00024.mp4\n",
            "Video #993 out of 1394\n",
            "Failed to Upload: Video #993\n",
            "Failed for video path #/content/drive/MyDrive/DeepFakeDetection/data/FakeAVCeleb_v1.2/real_videos_train/id00366/00026.mp4\n",
            "Video #994 out of 1394\n",
            "Failed to Upload: Video #994\n",
            "Failed for video path #/content/drive/MyDrive/DeepFakeDetection/data/FakeAVCeleb_v1.2/real_videos_train/id00366/00025.mp4\n",
            "Video #995 out of 1394\n",
            "Video #996 out of 1394\n",
            "Failed to Upload: Video #996\n",
            "Failed for video path #/content/drive/MyDrive/DeepFakeDetection/data/FakeAVCeleb_v1.2/real_videos_train/id00366/00029.mp4\n",
            "Video #997 out of 1394\n",
            "Video #998 out of 1394\n",
            "Video #999 out of 1394\n",
            "Failed to Upload: Video #999\n",
            "Failed for video path #/content/drive/MyDrive/DeepFakeDetection/data/FakeAVCeleb_v1.2/real_videos_train/id00366/00031.mp4\n",
            "Video #1000 out of 1394\n",
            "Failed to Upload: Video #1000\n",
            "Failed for video path #/content/drive/MyDrive/DeepFakeDetection/data/FakeAVCeleb_v1.2/real_videos_train/id00366/00032.mp4\n",
            "Video #1001 out of 1394\n",
            "Video #1002 out of 1394\n",
            "Failed to Upload: Video #1002\n",
            "Failed for video path #/content/drive/MyDrive/DeepFakeDetection/data/FakeAVCeleb_v1.2/real_videos_train/id00366/00035.mp4\n",
            "Video #1003 out of 1394\n",
            "Failed to Upload: Video #1003\n",
            "Failed for video path #/content/drive/MyDrive/DeepFakeDetection/data/FakeAVCeleb_v1.2/real_videos_train/id00366/00036.mp4\n",
            "Video #1004 out of 1394\n",
            "Failed to Upload: Video #1004\n",
            "Failed for video path #/content/drive/MyDrive/DeepFakeDetection/data/FakeAVCeleb_v1.2/real_videos_train/id00366/00034.mp4\n",
            "Video #1005 out of 1394\n",
            "Failed to Upload: Video #1005\n",
            "Failed for video path #/content/drive/MyDrive/DeepFakeDetection/data/FakeAVCeleb_v1.2/real_videos_train/id00366/00038.mp4\n",
            "Video #1006 out of 1394\n",
            "Video #1007 out of 1394\n",
            "Failed to Upload: Video #1007\n",
            "Failed for video path #/content/drive/MyDrive/DeepFakeDetection/data/FakeAVCeleb_v1.2/real_videos_train/id00366/00039.mp4\n",
            "Video #1008 out of 1394\n",
            "Failed to Upload: Video #1008\n",
            "Failed for video path #/content/drive/MyDrive/DeepFakeDetection/data/FakeAVCeleb_v1.2/real_videos_train/id00366/00040.mp4\n",
            "Video #1009 out of 1394\n",
            "Failed to Upload: Video #1009\n",
            "Failed for video path #/content/drive/MyDrive/DeepFakeDetection/data/FakeAVCeleb_v1.2/real_videos_train/id00366/00041.mp4\n",
            "Video #1010 out of 1394\n",
            "Failed to Upload: Video #1010\n",
            "Failed for video path #/content/drive/MyDrive/DeepFakeDetection/data/FakeAVCeleb_v1.2/real_videos_train/id00366/00042.mp4\n",
            "Video #1011 out of 1394\n",
            "Failed to Upload: Video #1011\n",
            "Failed for video path #/content/drive/MyDrive/DeepFakeDetection/data/FakeAVCeleb_v1.2/real_videos_train/id00366/00043.mp4\n",
            "Video #1012 out of 1394\n",
            "Failed to Upload: Video #1012\n",
            "Failed for video path #/content/drive/MyDrive/DeepFakeDetection/data/FakeAVCeleb_v1.2/real_videos_train/id00366/00045.mp4\n",
            "Video #1013 out of 1394\n",
            "Failed to Upload: Video #1013\n",
            "Failed for video path #/content/drive/MyDrive/DeepFakeDetection/data/FakeAVCeleb_v1.2/real_videos_train/id00366/00044.mp4\n",
            "Video #1014 out of 1394\n",
            "Failed to Upload: Video #1014\n",
            "Failed for video path #/content/drive/MyDrive/DeepFakeDetection/data/FakeAVCeleb_v1.2/real_videos_train/id00366/00047.mp4\n",
            "Video #1015 out of 1394\n",
            "Failed to Upload: Video #1015\n",
            "Failed for video path #/content/drive/MyDrive/DeepFakeDetection/data/FakeAVCeleb_v1.2/real_videos_train/id00366/00046.mp4\n",
            "Video #1016 out of 1394\n",
            "Failed to Upload: Video #1016\n",
            "Failed for video path #/content/drive/MyDrive/DeepFakeDetection/data/FakeAVCeleb_v1.2/real_videos_train/id00366/00048.mp4\n",
            "Video #1017 out of 1394\n",
            "Failed to Upload: Video #1017\n",
            "Failed for video path #/content/drive/MyDrive/DeepFakeDetection/data/FakeAVCeleb_v1.2/real_videos_train/id00366/00049.mp4\n",
            "Video #1018 out of 1394\n",
            "Failed to Upload: Video #1018\n",
            "Failed for video path #/content/drive/MyDrive/DeepFakeDetection/data/FakeAVCeleb_v1.2/real_videos_train/id00366/00050.mp4\n",
            "Video #1019 out of 1394\n",
            "Failed to Upload: Video #1019\n",
            "Failed for video path #/content/drive/MyDrive/DeepFakeDetection/data/FakeAVCeleb_v1.2/real_videos_train/id00366/00052.mp4\n",
            "Video #1020 out of 1394\n",
            "Failed to Upload: Video #1020\n",
            "Failed for video path #/content/drive/MyDrive/DeepFakeDetection/data/FakeAVCeleb_v1.2/real_videos_train/id00366/00051.mp4\n",
            "Video #1021 out of 1394\n",
            "Video #1022 out of 1394\n",
            "Failed to Upload: Video #1022\n",
            "Failed for video path #/content/drive/MyDrive/DeepFakeDetection/data/FakeAVCeleb_v1.2/real_videos_train/id00366/00053.mp4\n",
            "Video #1023 out of 1394\n",
            "Failed to Upload: Video #1023\n",
            "Failed for video path #/content/drive/MyDrive/DeepFakeDetection/data/FakeAVCeleb_v1.2/real_videos_train/id00366/00055.mp4\n",
            "Video #1024 out of 1394\n",
            "Failed to Upload: Video #1024\n",
            "Failed for video path #/content/drive/MyDrive/DeepFakeDetection/data/FakeAVCeleb_v1.2/real_videos_train/id00366/00056.mp4\n",
            "Video #1025 out of 1394\n",
            "Failed to Upload: Video #1025\n",
            "Failed for video path #/content/drive/MyDrive/DeepFakeDetection/data/FakeAVCeleb_v1.2/real_videos_train/id00366/00057.mp4\n",
            "Video #1026 out of 1394\n",
            "Failed to Upload: Video #1026\n",
            "Failed for video path #/content/drive/MyDrive/DeepFakeDetection/data/FakeAVCeleb_v1.2/real_videos_train/id00366/00058.mp4\n",
            "Video #1027 out of 1394\n",
            "Failed to Upload: Video #1027\n",
            "Failed for video path #/content/drive/MyDrive/DeepFakeDetection/data/FakeAVCeleb_v1.2/real_videos_train/id00366/00059.mp4\n",
            "Video #1028 out of 1394\n",
            "Failed to Upload: Video #1028\n",
            "Failed for video path #/content/drive/MyDrive/DeepFakeDetection/data/FakeAVCeleb_v1.2/real_videos_train/id00366/00060.mp4\n",
            "Video #1029 out of 1394\n",
            "Failed to Upload: Video #1029\n",
            "Failed for video path #/content/drive/MyDrive/DeepFakeDetection/data/FakeAVCeleb_v1.2/real_videos_train/id00366/00062.mp4\n",
            "Video #1030 out of 1394\n",
            "Failed to Upload: Video #1030\n",
            "Failed for video path #/content/drive/MyDrive/DeepFakeDetection/data/FakeAVCeleb_v1.2/real_videos_train/id00366/00061.mp4\n",
            "Video #1031 out of 1394\n",
            "Failed to Upload: Video #1031\n",
            "Failed for video path #/content/drive/MyDrive/DeepFakeDetection/data/FakeAVCeleb_v1.2/real_videos_train/id00366/00063.mp4\n",
            "Video #1032 out of 1394\n",
            "Failed to Upload: Video #1032\n",
            "Failed for video path #/content/drive/MyDrive/DeepFakeDetection/data/FakeAVCeleb_v1.2/real_videos_train/id00366/00064.mp4\n",
            "Video #1033 out of 1394\n",
            "Failed to Upload: Video #1033\n",
            "Failed for video path #/content/drive/MyDrive/DeepFakeDetection/data/FakeAVCeleb_v1.2/real_videos_train/id00366/00065.mp4\n",
            "Video #1034 out of 1394\n",
            "Failed to Upload: Video #1034\n",
            "Failed for video path #/content/drive/MyDrive/DeepFakeDetection/data/FakeAVCeleb_v1.2/real_videos_train/id00366/00066.mp4\n",
            "Video #1035 out of 1394\n",
            "Failed to Upload: Video #1035\n",
            "Failed for video path #/content/drive/MyDrive/DeepFakeDetection/data/FakeAVCeleb_v1.2/real_videos_train/id00366/00067.mp4\n",
            "Video #1036 out of 1394\n",
            "Failed to Upload: Video #1036\n",
            "Failed for video path #/content/drive/MyDrive/DeepFakeDetection/data/FakeAVCeleb_v1.2/real_videos_train/id00366/00068.mp4\n",
            "Video #1037 out of 1394\n",
            "Failed to Upload: Video #1037\n",
            "Failed for video path #/content/drive/MyDrive/DeepFakeDetection/data/FakeAVCeleb_v1.2/real_videos_train/id00366/00069.mp4\n",
            "Video #1038 out of 1394\n",
            "Failed to Upload: Video #1038\n",
            "Failed for video path #/content/drive/MyDrive/DeepFakeDetection/data/FakeAVCeleb_v1.2/real_videos_train/id00366/00070.mp4\n",
            "Video #1039 out of 1394\n",
            "Failed to Upload: Video #1039\n",
            "Failed for video path #/content/drive/MyDrive/DeepFakeDetection/data/FakeAVCeleb_v1.2/real_videos_train/id00366/00071.mp4\n",
            "Video #1040 out of 1394\n",
            "Failed to Upload: Video #1040\n",
            "Failed for video path #/content/drive/MyDrive/DeepFakeDetection/data/FakeAVCeleb_v1.2/real_videos_train/id00366/00072.mp4\n",
            "Video #1041 out of 1394\n",
            "Failed to Upload: Video #1041\n",
            "Failed for video path #/content/drive/MyDrive/DeepFakeDetection/data/FakeAVCeleb_v1.2/real_videos_train/id00366/00073.mp4\n",
            "Video #1042 out of 1394\n",
            "Failed to Upload: Video #1042\n",
            "Failed for video path #/content/drive/MyDrive/DeepFakeDetection/data/FakeAVCeleb_v1.2/real_videos_train/id00366/00074.mp4\n",
            "Video #1043 out of 1394\n",
            "Failed to Upload: Video #1043\n",
            "Failed for video path #/content/drive/MyDrive/DeepFakeDetection/data/FakeAVCeleb_v1.2/real_videos_train/id00366/00075.mp4\n",
            "Video #1044 out of 1394\n",
            "Failed to Upload: Video #1044\n",
            "Failed for video path #/content/drive/MyDrive/DeepFakeDetection/data/FakeAVCeleb_v1.2/real_videos_train/id00366/00076.mp4\n",
            "Video #1045 out of 1394\n",
            "Failed to Upload: Video #1045\n",
            "Failed for video path #/content/drive/MyDrive/DeepFakeDetection/data/FakeAVCeleb_v1.2/real_videos_train/id00366/00077.mp4\n",
            "Video #1046 out of 1394\n",
            "Video #1047 out of 1394\n",
            "Failed to Upload: Video #1047\n",
            "Failed for video path #/content/drive/MyDrive/DeepFakeDetection/data/FakeAVCeleb_v1.2/real_videos_train/id00366/00080.mp4\n",
            "Video #1048 out of 1394\n",
            "Failed to Upload: Video #1048\n",
            "Failed for video path #/content/drive/MyDrive/DeepFakeDetection/data/FakeAVCeleb_v1.2/real_videos_train/id00366/00079.mp4\n",
            "Video #1049 out of 1394\n",
            "Failed to Upload: Video #1049\n",
            "Failed for video path #/content/drive/MyDrive/DeepFakeDetection/data/FakeAVCeleb_v1.2/real_videos_train/id00366/00081.mp4\n",
            "Video #1050 out of 1394\n",
            "Failed to Upload: Video #1050\n",
            "Failed for video path #/content/drive/MyDrive/DeepFakeDetection/data/FakeAVCeleb_v1.2/real_videos_train/id00366/00083.mp4\n",
            "Video #1051 out of 1394\n",
            "Failed to Upload: Video #1051\n",
            "Failed for video path #/content/drive/MyDrive/DeepFakeDetection/data/FakeAVCeleb_v1.2/real_videos_train/id00366/00082.mp4\n",
            "Video #1052 out of 1394\n",
            "Failed to Upload: Video #1052\n",
            "Failed for video path #/content/drive/MyDrive/DeepFakeDetection/data/FakeAVCeleb_v1.2/real_videos_train/id00366/00084.mp4\n",
            "Video #1053 out of 1394\n",
            "Failed to Upload: Video #1053\n",
            "Failed for video path #/content/drive/MyDrive/DeepFakeDetection/data/FakeAVCeleb_v1.2/real_videos_train/id00366/00086.mp4\n",
            "Video #1054 out of 1394\n",
            "Failed to Upload: Video #1054\n",
            "Failed for video path #/content/drive/MyDrive/DeepFakeDetection/data/FakeAVCeleb_v1.2/real_videos_train/id00366/00085.mp4\n",
            "Video #1055 out of 1394\n",
            "Failed to Upload: Video #1055\n",
            "Failed for video path #/content/drive/MyDrive/DeepFakeDetection/data/FakeAVCeleb_v1.2/real_videos_train/id00366/00089.mp4\n",
            "Video #1056 out of 1394\n",
            "Failed to Upload: Video #1056\n",
            "Failed for video path #/content/drive/MyDrive/DeepFakeDetection/data/FakeAVCeleb_v1.2/real_videos_train/id00366/00088.mp4\n",
            "Video #1057 out of 1394\n",
            "Failed to Upload: Video #1057\n",
            "Failed for video path #/content/drive/MyDrive/DeepFakeDetection/data/FakeAVCeleb_v1.2/real_videos_train/id00366/00087.mp4\n",
            "Video #1058 out of 1394\n",
            "Failed to Upload: Video #1058\n",
            "Failed for video path #/content/drive/MyDrive/DeepFakeDetection/data/FakeAVCeleb_v1.2/real_videos_train/id00366/00091.mp4\n",
            "Video #1059 out of 1394\n",
            "Failed to Upload: Video #1059\n",
            "Failed for video path #/content/drive/MyDrive/DeepFakeDetection/data/FakeAVCeleb_v1.2/real_videos_train/id00366/00090.mp4\n",
            "Video #1060 out of 1394\n",
            "Video #1061 out of 1394\n",
            "Failed to Upload: Video #1061\n",
            "Failed for video path #/content/drive/MyDrive/DeepFakeDetection/data/FakeAVCeleb_v1.2/real_videos_train/id00366/00093.mp4\n",
            "Video #1062 out of 1394\n",
            "Failed to Upload: Video #1062\n",
            "Failed for video path #/content/drive/MyDrive/DeepFakeDetection/data/FakeAVCeleb_v1.2/real_videos_train/id00366/00095.mp4\n",
            "Video #1063 out of 1394\n",
            "Video #1064 out of 1394\n",
            "Failed to Upload: Video #1064\n",
            "Failed for video path #/content/drive/MyDrive/DeepFakeDetection/data/FakeAVCeleb_v1.2/real_videos_train/id00366/00097.mp4\n",
            "Video #1065 out of 1394\n",
            "Video #1066 out of 1394\n",
            "Failed to Upload: Video #1066\n",
            "Failed for video path #/content/drive/MyDrive/DeepFakeDetection/data/FakeAVCeleb_v1.2/real_videos_train/id00366/00098.mp4\n",
            "Video #1067 out of 1394\n",
            "Failed to Upload: Video #1067\n",
            "Failed for video path #/content/drive/MyDrive/DeepFakeDetection/data/FakeAVCeleb_v1.2/real_videos_train/id00366/00099.mp4\n",
            "Video #1068 out of 1394\n",
            "Failed to Upload: Video #1068\n",
            "Failed for video path #/content/drive/MyDrive/DeepFakeDetection/data/FakeAVCeleb_v1.2/real_videos_train/id00366/00100.mp4\n",
            "Video #1069 out of 1394\n",
            "Failed to Upload: Video #1069\n",
            "Failed for video path #/content/drive/MyDrive/DeepFakeDetection/data/FakeAVCeleb_v1.2/real_videos_train/id00366/00101.mp4\n",
            "Video #1070 out of 1394\n",
            "Failed to Upload: Video #1070\n",
            "Failed for video path #/content/drive/MyDrive/DeepFakeDetection/data/FakeAVCeleb_v1.2/real_videos_train/id00366/00102.mp4\n",
            "Video #1071 out of 1394\n",
            "Failed to Upload: Video #1071\n",
            "Failed for video path #/content/drive/MyDrive/DeepFakeDetection/data/FakeAVCeleb_v1.2/real_videos_train/id00366/00103.mp4\n",
            "Video #1072 out of 1394\n",
            "Failed to Upload: Video #1072\n",
            "Failed for video path #/content/drive/MyDrive/DeepFakeDetection/data/FakeAVCeleb_v1.2/real_videos_train/id00366/00105.mp4\n",
            "Video #1073 out of 1394\n",
            "Failed to Upload: Video #1073\n",
            "Failed for video path #/content/drive/MyDrive/DeepFakeDetection/data/FakeAVCeleb_v1.2/real_videos_train/id00366/00104.mp4\n",
            "Video #1074 out of 1394\n",
            "Failed to Upload: Video #1074\n",
            "Failed for video path #/content/drive/MyDrive/DeepFakeDetection/data/FakeAVCeleb_v1.2/real_videos_train/id00366/00106.mp4\n",
            "Video #1075 out of 1394\n",
            "Failed to Upload: Video #1075\n",
            "Failed for video path #/content/drive/MyDrive/DeepFakeDetection/data/FakeAVCeleb_v1.2/real_videos_train/id00366/00107.mp4\n",
            "Video #1076 out of 1394\n",
            "Failed to Upload: Video #1076\n",
            "Failed for video path #/content/drive/MyDrive/DeepFakeDetection/data/FakeAVCeleb_v1.2/real_videos_train/id00366/00108.mp4\n",
            "Video #1077 out of 1394\n",
            "Failed to Upload: Video #1077\n",
            "Failed for video path #/content/drive/MyDrive/DeepFakeDetection/data/FakeAVCeleb_v1.2/real_videos_train/id00366/00109.mp4\n",
            "Video #1078 out of 1394\n",
            "Failed to Upload: Video #1078\n",
            "Failed for video path #/content/drive/MyDrive/DeepFakeDetection/data/FakeAVCeleb_v1.2/real_videos_train/id00366/00110.mp4\n",
            "Video #1079 out of 1394\n",
            "Failed to Upload: Video #1079\n",
            "Failed for video path #/content/drive/MyDrive/DeepFakeDetection/data/FakeAVCeleb_v1.2/real_videos_train/id00366/00111.mp4\n",
            "Video #1080 out of 1394\n",
            "Failed to Upload: Video #1080\n",
            "Failed for video path #/content/drive/MyDrive/DeepFakeDetection/data/FakeAVCeleb_v1.2/real_videos_train/id00366/00112.mp4\n",
            "Video #1081 out of 1394\n",
            "Failed to Upload: Video #1081\n",
            "Failed for video path #/content/drive/MyDrive/DeepFakeDetection/data/FakeAVCeleb_v1.2/real_videos_train/id00366/00113.mp4\n",
            "Video #1082 out of 1394\n",
            "Failed to Upload: Video #1082\n",
            "Failed for video path #/content/drive/MyDrive/DeepFakeDetection/data/FakeAVCeleb_v1.2/real_videos_train/id00366/00114.mp4\n",
            "Video #1083 out of 1394\n",
            "Video #1084 out of 1394\n",
            "Failed to Upload: Video #1084\n",
            "Failed for video path #/content/drive/MyDrive/DeepFakeDetection/data/FakeAVCeleb_v1.2/real_videos_train/id00366/00117.mp4\n",
            "Video #1085 out of 1394\n",
            "Video #1086 out of 1394\n",
            "Failed to Upload: Video #1086\n",
            "Failed for video path #/content/drive/MyDrive/DeepFakeDetection/data/FakeAVCeleb_v1.2/real_videos_train/id00366/00118.mp4\n",
            "Video #1087 out of 1394\n",
            "Failed to Upload: Video #1087\n",
            "Failed for video path #/content/drive/MyDrive/DeepFakeDetection/data/FakeAVCeleb_v1.2/real_videos_train/id00366/00119.mp4\n",
            "Video #1088 out of 1394\n",
            "Video #1089 out of 1394\n",
            "Video #1090 out of 1394\n",
            "Failed to Upload: Video #1090\n",
            "Failed for video path #/content/drive/MyDrive/DeepFakeDetection/data/FakeAVCeleb_v1.2/real_videos_train/id00366/00122.mp4\n",
            "Video #1091 out of 1394\n",
            "Failed to Upload: Video #1091\n",
            "Failed for video path #/content/drive/MyDrive/DeepFakeDetection/data/FakeAVCeleb_v1.2/real_videos_train/id00366/00123.mp4\n",
            "Video #1092 out of 1394\n",
            "Video #1093 out of 1394\n",
            "Video #1094 out of 1394\n",
            "Failed to Upload: Video #1094\n",
            "Failed for video path #/content/drive/MyDrive/DeepFakeDetection/data/FakeAVCeleb_v1.2/real_videos_train/id00366/00126.mp4\n",
            "Video #1095 out of 1394\n",
            "Video #1096 out of 1394\n",
            "Failed to Upload: Video #1096\n",
            "Failed for video path #/content/drive/MyDrive/DeepFakeDetection/data/FakeAVCeleb_v1.2/real_videos_train/id00366/00128.mp4\n",
            "Video #1097 out of 1394\n",
            "Video #1098 out of 1394\n",
            "Video #1099 out of 1394\n",
            "Video #1100 out of 1394\n",
            "Video #1101 out of 1394\n",
            "Video #1102 out of 1394\n",
            "Video #1103 out of 1394\n",
            "Video #1104 out of 1394\n",
            "Video #1105 out of 1394\n",
            "Failed to Upload: Video #1105\n",
            "Failed for video path #/content/drive/MyDrive/DeepFakeDetection/data/FakeAVCeleb_v1.2/real_videos_train/id00366/00137.mp4\n",
            "Video #1106 out of 1394\n",
            "Failed to Upload: Video #1106\n",
            "Failed for video path #/content/drive/MyDrive/DeepFakeDetection/data/FakeAVCeleb_v1.2/real_videos_train/id00366/00139.mp4\n",
            "Video #1107 out of 1394\n",
            "Failed to Upload: Video #1107\n",
            "Failed for video path #/content/drive/MyDrive/DeepFakeDetection/data/FakeAVCeleb_v1.2/real_videos_train/id00366/00140.mp4\n",
            "Video #1108 out of 1394\n",
            "Failed to Upload: Video #1108\n",
            "Failed for video path #/content/drive/MyDrive/DeepFakeDetection/data/FakeAVCeleb_v1.2/real_videos_train/id00366/00138.mp4\n",
            "Video #1109 out of 1394\n",
            "Video #1110 out of 1394\n",
            "Failed to Upload: Video #1110\n",
            "Failed for video path #/content/drive/MyDrive/DeepFakeDetection/data/FakeAVCeleb_v1.2/real_videos_train/id00366/00141.mp4\n",
            "Video #1111 out of 1394\n",
            "Video #1112 out of 1394\n",
            "Video #1113 out of 1394\n",
            "Video #1114 out of 1394\n",
            "Video #1115 out of 1394\n",
            "Video #1116 out of 1394\n",
            "Failed to Upload: Video #1116\n",
            "Failed for video path #/content/drive/MyDrive/DeepFakeDetection/data/FakeAVCeleb_v1.2/real_videos_train/id00366/00149.mp4\n",
            "Video #1117 out of 1394\n",
            "Video #1118 out of 1394\n",
            "Failed to Upload: Video #1118\n",
            "Failed for video path #/content/drive/MyDrive/DeepFakeDetection/data/FakeAVCeleb_v1.2/real_videos_train/id00366/00152.mp4\n",
            "Video #1119 out of 1394\n",
            "Failed to Upload: Video #1119\n",
            "Failed for video path #/content/drive/MyDrive/DeepFakeDetection/data/FakeAVCeleb_v1.2/real_videos_train/id00366/00151.mp4\n",
            "Video #1120 out of 1394\n",
            "Failed to Upload: Video #1120\n",
            "Failed for video path #/content/drive/MyDrive/DeepFakeDetection/data/FakeAVCeleb_v1.2/real_videos_train/id00366/00150.mp4\n",
            "Video #1121 out of 1394\n",
            "Failed to Upload: Video #1121\n",
            "Failed for video path #/content/drive/MyDrive/DeepFakeDetection/data/FakeAVCeleb_v1.2/real_videos_train/id00366/00154.mp4\n",
            "Video #1122 out of 1394\n",
            "Failed to Upload: Video #1122\n",
            "Failed for video path #/content/drive/MyDrive/DeepFakeDetection/data/FakeAVCeleb_v1.2/real_videos_train/id00366/00153.mp4\n",
            "Video #1123 out of 1394\n",
            "Failed to Upload: Video #1123\n",
            "Failed for video path #/content/drive/MyDrive/DeepFakeDetection/data/FakeAVCeleb_v1.2/real_videos_train/id00366/00156.mp4\n",
            "Video #1124 out of 1394\n",
            "Failed to Upload: Video #1124\n",
            "Failed for video path #/content/drive/MyDrive/DeepFakeDetection/data/FakeAVCeleb_v1.2/real_videos_train/id00366/00155.mp4\n",
            "Video #1125 out of 1394\n",
            "Failed to Upload: Video #1125\n",
            "Failed for video path #/content/drive/MyDrive/DeepFakeDetection/data/FakeAVCeleb_v1.2/real_videos_train/id00366/00158.mp4\n",
            "Video #1126 out of 1394\n",
            "Failed to Upload: Video #1126\n",
            "Failed for video path #/content/drive/MyDrive/DeepFakeDetection/data/FakeAVCeleb_v1.2/real_videos_train/id00366/00157.mp4\n",
            "Video #1127 out of 1394\n",
            "Failed to Upload: Video #1127\n",
            "Failed for video path #/content/drive/MyDrive/DeepFakeDetection/data/FakeAVCeleb_v1.2/real_videos_train/id00366/00159.mp4\n",
            "Video #1128 out of 1394\n",
            "Failed to Upload: Video #1128\n",
            "Failed for video path #/content/drive/MyDrive/DeepFakeDetection/data/FakeAVCeleb_v1.2/real_videos_train/id00366/00160.mp4\n",
            "Video #1129 out of 1394\n",
            "Failed to Upload: Video #1129\n",
            "Failed for video path #/content/drive/MyDrive/DeepFakeDetection/data/FakeAVCeleb_v1.2/real_videos_train/id00366/00161.mp4\n",
            "Video #1130 out of 1394\n",
            "Failed to Upload: Video #1130\n",
            "Failed for video path #/content/drive/MyDrive/DeepFakeDetection/data/FakeAVCeleb_v1.2/real_videos_train/id00366/00162.mp4\n",
            "Video #1131 out of 1394\n",
            "Failed to Upload: Video #1131\n",
            "Failed for video path #/content/drive/MyDrive/DeepFakeDetection/data/FakeAVCeleb_v1.2/real_videos_train/id00366/00163.mp4\n",
            "Video #1132 out of 1394\n",
            "Failed to Upload: Video #1132\n",
            "Failed for video path #/content/drive/MyDrive/DeepFakeDetection/data/FakeAVCeleb_v1.2/real_videos_train/id00366/00165.mp4\n",
            "Video #1133 out of 1394\n",
            "Failed to Upload: Video #1133\n",
            "Failed for video path #/content/drive/MyDrive/DeepFakeDetection/data/FakeAVCeleb_v1.2/real_videos_train/id00366/00164.mp4\n",
            "Video #1134 out of 1394\n",
            "Failed to Upload: Video #1134\n",
            "Failed for video path #/content/drive/MyDrive/DeepFakeDetection/data/FakeAVCeleb_v1.2/real_videos_train/id00366/00166.mp4\n",
            "Video #1135 out of 1394\n",
            "Failed to Upload: Video #1135\n",
            "Failed for video path #/content/drive/MyDrive/DeepFakeDetection/data/FakeAVCeleb_v1.2/real_videos_train/id00366/00168.mp4\n",
            "Video #1136 out of 1394\n",
            "Failed to Upload: Video #1136\n",
            "Failed for video path #/content/drive/MyDrive/DeepFakeDetection/data/FakeAVCeleb_v1.2/real_videos_train/id00366/00167.mp4\n",
            "Video #1137 out of 1394\n",
            "Failed to Upload: Video #1137\n",
            "Failed for video path #/content/drive/MyDrive/DeepFakeDetection/data/FakeAVCeleb_v1.2/real_videos_train/id00366/00169.mp4\n",
            "Video #1138 out of 1394\n",
            "Failed to Upload: Video #1138\n",
            "Failed for video path #/content/drive/MyDrive/DeepFakeDetection/data/FakeAVCeleb_v1.2/real_videos_train/id00366/00170.mp4\n",
            "Video #1139 out of 1394\n",
            "Failed to Upload: Video #1139\n",
            "Failed for video path #/content/drive/MyDrive/DeepFakeDetection/data/FakeAVCeleb_v1.2/real_videos_train/id00366/00171.mp4\n",
            "Video #1140 out of 1394\n",
            "Failed to Upload: Video #1140\n",
            "Failed for video path #/content/drive/MyDrive/DeepFakeDetection/data/FakeAVCeleb_v1.2/real_videos_train/id00366/00172.mp4\n",
            "Video #1141 out of 1394\n",
            "Failed to Upload: Video #1141\n",
            "Failed for video path #/content/drive/MyDrive/DeepFakeDetection/data/FakeAVCeleb_v1.2/real_videos_train/id00366/00174.mp4\n",
            "Video #1142 out of 1394\n",
            "Failed to Upload: Video #1142\n",
            "Failed for video path #/content/drive/MyDrive/DeepFakeDetection/data/FakeAVCeleb_v1.2/real_videos_train/id00366/00173.mp4\n",
            "Video #1143 out of 1394\n",
            "Failed to Upload: Video #1143\n",
            "Failed for video path #/content/drive/MyDrive/DeepFakeDetection/data/FakeAVCeleb_v1.2/real_videos_train/id00366/00176.mp4\n",
            "Video #1144 out of 1394\n",
            "Failed to Upload: Video #1144\n",
            "Failed for video path #/content/drive/MyDrive/DeepFakeDetection/data/FakeAVCeleb_v1.2/real_videos_train/id00366/00175.mp4\n",
            "Video #1145 out of 1394\n",
            "Failed to Upload: Video #1145\n",
            "Failed for video path #/content/drive/MyDrive/DeepFakeDetection/data/FakeAVCeleb_v1.2/real_videos_train/id00366/00177.mp4\n",
            "Video #1146 out of 1394\n",
            "Failed to Upload: Video #1146\n",
            "Failed for video path #/content/drive/MyDrive/DeepFakeDetection/data/FakeAVCeleb_v1.2/real_videos_train/id00366/00178.mp4\n",
            "Video #1147 out of 1394\n",
            "Failed to Upload: Video #1147\n",
            "Failed for video path #/content/drive/MyDrive/DeepFakeDetection/data/FakeAVCeleb_v1.2/real_videos_train/id00366/00179.mp4\n",
            "Video #1148 out of 1394\n",
            "Failed to Upload: Video #1148\n",
            "Failed for video path #/content/drive/MyDrive/DeepFakeDetection/data/FakeAVCeleb_v1.2/real_videos_train/id00366/00181.mp4\n",
            "Video #1149 out of 1394\n",
            "Failed to Upload: Video #1149\n",
            "Failed for video path #/content/drive/MyDrive/DeepFakeDetection/data/FakeAVCeleb_v1.2/real_videos_train/id00366/00180.mp4\n",
            "Video #1150 out of 1394\n",
            "Failed to Upload: Video #1150\n",
            "Failed for video path #/content/drive/MyDrive/DeepFakeDetection/data/FakeAVCeleb_v1.2/real_videos_train/id00366/00183.mp4\n",
            "Video #1151 out of 1394\n",
            "Failed to Upload: Video #1151\n",
            "Failed for video path #/content/drive/MyDrive/DeepFakeDetection/data/FakeAVCeleb_v1.2/real_videos_train/id00366/00182.mp4\n",
            "Video #1152 out of 1394\n",
            "Video #1153 out of 1394\n",
            "Failed to Upload: Video #1153\n",
            "Failed for video path #/content/drive/MyDrive/DeepFakeDetection/data/FakeAVCeleb_v1.2/real_videos_train/id00366/00186.mp4\n",
            "Video #1154 out of 1394\n",
            "Failed to Upload: Video #1154\n",
            "Failed for video path #/content/drive/MyDrive/DeepFakeDetection/data/FakeAVCeleb_v1.2/real_videos_train/id00366/00185.mp4\n",
            "Video #1155 out of 1394\n",
            "Video #1156 out of 1394\n",
            "Video #1157 out of 1394\n",
            "Failed to Upload: Video #1157\n",
            "Failed for video path #/content/drive/MyDrive/DeepFakeDetection/data/FakeAVCeleb_v1.2/real_videos_train/id00366/00189.mp4\n",
            "Video #1158 out of 1394\n",
            "Failed to Upload: Video #1158\n",
            "Failed for video path #/content/drive/MyDrive/DeepFakeDetection/data/FakeAVCeleb_v1.2/real_videos_train/id00366/00191.mp4\n",
            "Video #1159 out of 1394\n",
            "Failed to Upload: Video #1159\n",
            "Failed for video path #/content/drive/MyDrive/DeepFakeDetection/data/FakeAVCeleb_v1.2/real_videos_train/id00366/00190.mp4\n",
            "Video #1160 out of 1394\n",
            "Failed to Upload: Video #1160\n",
            "Failed for video path #/content/drive/MyDrive/DeepFakeDetection/data/FakeAVCeleb_v1.2/real_videos_train/id00366/00192.mp4\n",
            "Video #1161 out of 1394\n",
            "Video #1162 out of 1394\n",
            "Failed to Upload: Video #1162\n",
            "Failed for video path #/content/drive/MyDrive/DeepFakeDetection/data/FakeAVCeleb_v1.2/real_videos_train/id00366/00193.mp4\n",
            "Video #1163 out of 1394\n",
            "Failed to Upload: Video #1163\n",
            "Failed for video path #/content/drive/MyDrive/DeepFakeDetection/data/FakeAVCeleb_v1.2/real_videos_train/id00366/00195.mp4\n",
            "Video #1164 out of 1394\n",
            "Video #1165 out of 1394\n",
            "Failed to Upload: Video #1165\n",
            "Failed for video path #/content/drive/MyDrive/DeepFakeDetection/data/FakeAVCeleb_v1.2/real_videos_train/id00366/00197.mp4\n",
            "Video #1166 out of 1394\n",
            "Video #1167 out of 1394\n",
            "Failed to Upload: Video #1167\n",
            "Failed for video path #/content/drive/MyDrive/DeepFakeDetection/data/FakeAVCeleb_v1.2/real_videos_train/id00366/00198.mp4\n",
            "Video #1168 out of 1394\n",
            "Video #1169 out of 1394\n",
            "Failed to Upload: Video #1169\n",
            "Failed for video path #/content/drive/MyDrive/DeepFakeDetection/data/FakeAVCeleb_v1.2/real_videos_train/id00366/00200.mp4\n",
            "Video #1170 out of 1394\n",
            "Video #1171 out of 1394\n",
            "Failed to Upload: Video #1171\n",
            "Failed for video path #/content/drive/MyDrive/DeepFakeDetection/data/FakeAVCeleb_v1.2/real_videos_train/id00366/00202.mp4\n",
            "Video #1172 out of 1394\n",
            "Failed to Upload: Video #1172\n",
            "Failed for video path #/content/drive/MyDrive/DeepFakeDetection/data/FakeAVCeleb_v1.2/real_videos_train/id00366/00204.mp4\n",
            "Video #1173 out of 1394\n",
            "Failed to Upload: Video #1173\n",
            "Failed for video path #/content/drive/MyDrive/DeepFakeDetection/data/FakeAVCeleb_v1.2/real_videos_train/id00366/00205.mp4\n",
            "Video #1174 out of 1394\n",
            "Video #1175 out of 1394\n",
            "Failed to Upload: Video #1175\n",
            "Failed for video path #/content/drive/MyDrive/DeepFakeDetection/data/FakeAVCeleb_v1.2/real_videos_train/id00366/00207.mp4\n",
            "Video #1176 out of 1394\n",
            "Failed to Upload: Video #1176\n",
            "Failed for video path #/content/drive/MyDrive/DeepFakeDetection/data/FakeAVCeleb_v1.2/real_videos_train/id00366/00209.mp4\n",
            "Video #1177 out of 1394\n",
            "Failed to Upload: Video #1177\n",
            "Failed for video path #/content/drive/MyDrive/DeepFakeDetection/data/FakeAVCeleb_v1.2/real_videos_train/id00366/00208.mp4\n",
            "Video #1178 out of 1394\n",
            "Failed to Upload: Video #1178\n",
            "Failed for video path #/content/drive/MyDrive/DeepFakeDetection/data/FakeAVCeleb_v1.2/real_videos_train/id00366/00211.mp4\n",
            "Video #1179 out of 1394\n",
            "Failed to Upload: Video #1179\n",
            "Failed for video path #/content/drive/MyDrive/DeepFakeDetection/data/FakeAVCeleb_v1.2/real_videos_train/id00366/00210.mp4\n",
            "Video #1180 out of 1394\n",
            "Video #1181 out of 1394\n",
            "Video #1182 out of 1394\n",
            "Failed to Upload: Video #1182\n",
            "Failed for video path #/content/drive/MyDrive/DeepFakeDetection/data/FakeAVCeleb_v1.2/real_videos_train/id00366/00214.mp4\n",
            "Video #1183 out of 1394\n",
            "Failed to Upload: Video #1183\n",
            "Failed for video path #/content/drive/MyDrive/DeepFakeDetection/data/FakeAVCeleb_v1.2/real_videos_train/id00366/00215.mp4\n",
            "Video #1184 out of 1394\n",
            "Failed to Upload: Video #1184\n",
            "Failed for video path #/content/drive/MyDrive/DeepFakeDetection/data/FakeAVCeleb_v1.2/real_videos_train/id00366/00216.mp4\n",
            "Video #1185 out of 1394\n",
            "Failed to Upload: Video #1185\n",
            "Failed for video path #/content/drive/MyDrive/DeepFakeDetection/data/FakeAVCeleb_v1.2/real_videos_train/id00366/00218.mp4\n",
            "Video #1186 out of 1394\n",
            "Failed to Upload: Video #1186\n",
            "Failed for video path #/content/drive/MyDrive/DeepFakeDetection/data/FakeAVCeleb_v1.2/real_videos_train/id00366/00217.mp4\n",
            "Video #1187 out of 1394\n",
            "Video #1188 out of 1394\n",
            "Failed to Upload: Video #1188\n",
            "Failed for video path #/content/drive/MyDrive/DeepFakeDetection/data/FakeAVCeleb_v1.2/real_videos_train/id00366/00220.mp4\n",
            "Video #1189 out of 1394\n",
            "Failed to Upload: Video #1189\n",
            "Failed for video path #/content/drive/MyDrive/DeepFakeDetection/data/FakeAVCeleb_v1.2/real_videos_train/id00366/00222.mp4\n",
            "Video #1190 out of 1394\n",
            "Failed to Upload: Video #1190\n",
            "Failed for video path #/content/drive/MyDrive/DeepFakeDetection/data/FakeAVCeleb_v1.2/real_videos_train/id00366/00221.mp4\n",
            "Video #1191 out of 1394\n",
            "Failed to Upload: Video #1191\n",
            "Failed for video path #/content/drive/MyDrive/DeepFakeDetection/data/FakeAVCeleb_v1.2/real_videos_train/id00366/00224.mp4\n",
            "Video #1192 out of 1394\n",
            "Failed to Upload: Video #1192\n",
            "Failed for video path #/content/drive/MyDrive/DeepFakeDetection/data/FakeAVCeleb_v1.2/real_videos_train/id00366/00223.mp4\n",
            "Video #1193 out of 1394\n",
            "Failed to Upload: Video #1193\n",
            "Failed for video path #/content/drive/MyDrive/DeepFakeDetection/data/FakeAVCeleb_v1.2/real_videos_train/id00366/00226.mp4\n",
            "Video #1194 out of 1394\n",
            "Failed to Upload: Video #1194\n",
            "Failed for video path #/content/drive/MyDrive/DeepFakeDetection/data/FakeAVCeleb_v1.2/real_videos_train/id00366/00225.mp4\n",
            "Video #1195 out of 1394\n",
            "Failed to Upload: Video #1195\n",
            "Failed for video path #/content/drive/MyDrive/DeepFakeDetection/data/FakeAVCeleb_v1.2/real_videos_train/id00366/00227.mp4\n",
            "Video #1196 out of 1394\n",
            "Failed to Upload: Video #1196\n",
            "Failed for video path #/content/drive/MyDrive/DeepFakeDetection/data/FakeAVCeleb_v1.2/real_videos_train/id00366/00228.mp4\n",
            "Video #1197 out of 1394\n",
            "Failed to Upload: Video #1197\n",
            "Failed for video path #/content/drive/MyDrive/DeepFakeDetection/data/FakeAVCeleb_v1.2/real_videos_train/id00366/00229.mp4\n",
            "Video #1198 out of 1394\n",
            "Failed to Upload: Video #1198\n",
            "Failed for video path #/content/drive/MyDrive/DeepFakeDetection/data/FakeAVCeleb_v1.2/real_videos_train/id00366/00230.mp4\n",
            "Video #1199 out of 1394\n",
            "Failed to Upload: Video #1199\n",
            "Failed for video path #/content/drive/MyDrive/DeepFakeDetection/data/FakeAVCeleb_v1.2/real_videos_train/id00366/00231.mp4\n",
            "Video #1200 out of 1394\n",
            "Failed to Upload: Video #1200\n",
            "Failed for video path #/content/drive/MyDrive/DeepFakeDetection/data/FakeAVCeleb_v1.2/real_videos_train/id00366/00232.mp4\n",
            "Video #1201 out of 1394\n",
            "Failed to Upload: Video #1201\n",
            "Failed for video path #/content/drive/MyDrive/DeepFakeDetection/data/FakeAVCeleb_v1.2/real_videos_train/id01168/00002.mp4\n",
            "Video #1202 out of 1394\n",
            "Failed to Upload: Video #1202\n",
            "Failed for video path #/content/drive/MyDrive/DeepFakeDetection/data/FakeAVCeleb_v1.2/real_videos_train/id01168/00001.mp4\n",
            "Video #1203 out of 1394\n",
            "Failed to Upload: Video #1203\n",
            "Failed for video path #/content/drive/MyDrive/DeepFakeDetection/data/FakeAVCeleb_v1.2/real_videos_train/id01168/00003.mp4\n",
            "Video #1204 out of 1394\n",
            "Failed to Upload: Video #1204\n",
            "Failed for video path #/content/drive/MyDrive/DeepFakeDetection/data/FakeAVCeleb_v1.2/real_videos_train/id01168/00004.mp4\n",
            "Video #1205 out of 1394\n",
            "Failed to Upload: Video #1205\n",
            "Failed for video path #/content/drive/MyDrive/DeepFakeDetection/data/FakeAVCeleb_v1.2/real_videos_train/id01168/00005.mp4\n",
            "Video #1206 out of 1394\n",
            "Failed to Upload: Video #1206\n",
            "Failed for video path #/content/drive/MyDrive/DeepFakeDetection/data/FakeAVCeleb_v1.2/real_videos_train/id01168/00006.mp4\n",
            "Video #1207 out of 1394\n",
            "Failed to Upload: Video #1207\n",
            "Failed for video path #/content/drive/MyDrive/DeepFakeDetection/data/FakeAVCeleb_v1.2/real_videos_train/id01168/00007.mp4\n",
            "Video #1208 out of 1394\n",
            "Video #1209 out of 1394\n",
            "Failed to Upload: Video #1209\n",
            "Failed for video path #/content/drive/MyDrive/DeepFakeDetection/data/FakeAVCeleb_v1.2/real_videos_train/id01168/00008.mp4\n",
            "Video #1210 out of 1394\n",
            "Video #1211 out of 1394\n",
            "Failed to Upload: Video #1211\n",
            "Failed for video path #/content/drive/MyDrive/DeepFakeDetection/data/FakeAVCeleb_v1.2/real_videos_train/id01168/00011.mp4\n",
            "Video #1212 out of 1394\n",
            "Video #1213 out of 1394\n",
            "Failed to Upload: Video #1213\n",
            "Failed for video path #/content/drive/MyDrive/DeepFakeDetection/data/FakeAVCeleb_v1.2/real_videos_train/id01168/00013.mp4\n",
            "Video #1214 out of 1394\n",
            "Video #1215 out of 1394\n",
            "Video #1216 out of 1394\n",
            "Video #1217 out of 1394\n",
            "Video #1218 out of 1394\n",
            "Video #1219 out of 1394\n",
            "Video #1220 out of 1394\n",
            "Failed to Upload: Video #1220\n",
            "Failed for video path #/content/drive/MyDrive/DeepFakeDetection/data/FakeAVCeleb_v1.2/real_videos_train/id01168/00020.mp4\n",
            "Video #1221 out of 1394\n",
            "Failed to Upload: Video #1221\n",
            "Failed for video path #/content/drive/MyDrive/DeepFakeDetection/data/FakeAVCeleb_v1.2/real_videos_train/id01168/00023.mp4\n",
            "Video #1222 out of 1394\n",
            "Failed to Upload: Video #1222\n",
            "Failed for video path #/content/drive/MyDrive/DeepFakeDetection/data/FakeAVCeleb_v1.2/real_videos_train/id01168/00022.mp4\n",
            "Video #1223 out of 1394\n",
            "Failed to Upload: Video #1223\n",
            "Failed for video path #/content/drive/MyDrive/DeepFakeDetection/data/FakeAVCeleb_v1.2/real_videos_train/id01168/00021.mp4\n",
            "Video #1224 out of 1394\n",
            "Failed to Upload: Video #1224\n",
            "Failed for video path #/content/drive/MyDrive/DeepFakeDetection/data/FakeAVCeleb_v1.2/real_videos_train/id01168/00025.mp4\n",
            "Video #1225 out of 1394\n",
            "Failed to Upload: Video #1225\n",
            "Failed for video path #/content/drive/MyDrive/DeepFakeDetection/data/FakeAVCeleb_v1.2/real_videos_train/id01168/00024.mp4\n",
            "Video #1226 out of 1394\n",
            "Video #1227 out of 1394\n",
            "Video #1228 out of 1394\n",
            "Video #1229 out of 1394\n",
            "Video #1230 out of 1394\n",
            "Video #1231 out of 1394\n",
            "Video #1232 out of 1394\n",
            "Video #1233 out of 1394\n",
            "Video #1234 out of 1394\n",
            "Video #1235 out of 1394\n",
            "Video #1236 out of 1394\n",
            "Video #1237 out of 1394\n",
            "Video #1238 out of 1394\n",
            "Video #1239 out of 1394\n",
            "Video #1240 out of 1394\n",
            "Failed to Upload: Video #1240\n",
            "Failed for video path #/content/drive/MyDrive/DeepFakeDetection/data/FakeAVCeleb_v1.2/real_videos_train/id01168/00041.mp4\n",
            "Video #1241 out of 1394\n",
            "Video #1242 out of 1394\n",
            "Video #1243 out of 1394\n",
            "Video #1244 out of 1394\n",
            "Video #1245 out of 1394\n",
            "Video #1246 out of 1394\n",
            "Video #1247 out of 1394\n",
            "Video #1248 out of 1394\n",
            "Failed to Upload: Video #1248\n",
            "Failed for video path #/content/drive/MyDrive/DeepFakeDetection/data/FakeAVCeleb_v1.2/real_videos_train/id01168/00047.mp4\n",
            "Video #1249 out of 1394\n",
            "Video #1250 out of 1394\n",
            "Video #1251 out of 1394\n",
            "Video #1252 out of 1394\n",
            "Video #1253 out of 1394\n",
            "Video #1254 out of 1394\n",
            "Video #1255 out of 1394\n",
            "Failed to Upload: Video #1255\n",
            "Failed for video path #/content/drive/MyDrive/DeepFakeDetection/data/FakeAVCeleb_v1.2/real_videos_train/id01168/00056.mp4\n",
            "Video #1256 out of 1394\n",
            "Failed to Upload: Video #1256\n",
            "Failed for video path #/content/drive/MyDrive/DeepFakeDetection/data/FakeAVCeleb_v1.2/real_videos_train/id01168/00057.mp4\n",
            "Video #1257 out of 1394\n",
            "Failed to Upload: Video #1257\n",
            "Failed for video path #/content/drive/MyDrive/DeepFakeDetection/data/FakeAVCeleb_v1.2/real_videos_train/id01168/00055.mp4\n",
            "Video #1258 out of 1394\n",
            "Failed to Upload: Video #1258\n",
            "Failed for video path #/content/drive/MyDrive/DeepFakeDetection/data/FakeAVCeleb_v1.2/real_videos_train/id01168/00058.mp4\n",
            "Video #1259 out of 1394\n",
            "Failed to Upload: Video #1259\n",
            "Failed for video path #/content/drive/MyDrive/DeepFakeDetection/data/FakeAVCeleb_v1.2/real_videos_train/id01168/00059.mp4\n",
            "Video #1260 out of 1394\n",
            "Failed to Upload: Video #1260\n",
            "Failed for video path #/content/drive/MyDrive/DeepFakeDetection/data/FakeAVCeleb_v1.2/real_videos_train/id01168/00062.mp4\n",
            "Video #1261 out of 1394\n",
            "Failed to Upload: Video #1261\n",
            "Failed for video path #/content/drive/MyDrive/DeepFakeDetection/data/FakeAVCeleb_v1.2/real_videos_train/id01168/00060.mp4\n",
            "Video #1262 out of 1394\n",
            "Failed to Upload: Video #1262\n",
            "Failed for video path #/content/drive/MyDrive/DeepFakeDetection/data/FakeAVCeleb_v1.2/real_videos_train/id01168/00061.mp4\n",
            "Video #1263 out of 1394\n",
            "Failed to Upload: Video #1263\n",
            "Failed for video path #/content/drive/MyDrive/DeepFakeDetection/data/FakeAVCeleb_v1.2/real_videos_train/id02494/00002.mp4\n",
            "Video #1264 out of 1394\n",
            "Video #1265 out of 1394\n",
            "Failed to Upload: Video #1265\n",
            "Failed for video path #/content/drive/MyDrive/DeepFakeDetection/data/FakeAVCeleb_v1.2/real_videos_train/id02494/00003.mp4\n",
            "Video #1266 out of 1394\n",
            "Failed to Upload: Video #1266\n",
            "Failed for video path #/content/drive/MyDrive/DeepFakeDetection/data/FakeAVCeleb_v1.2/real_videos_train/id02494/00004.mp4\n",
            "Video #1267 out of 1394\n",
            "Video #1268 out of 1394\n",
            "Video #1269 out of 1394\n",
            "Video #1270 out of 1394\n",
            "Video #1271 out of 1394\n",
            "Video #1272 out of 1394\n",
            "Video #1273 out of 1394\n",
            "Video #1274 out of 1394\n",
            "Video #1275 out of 1394\n",
            "Video #1276 out of 1394\n",
            "Failed to Upload: Video #1276\n",
            "Failed for video path #/content/drive/MyDrive/DeepFakeDetection/data/FakeAVCeleb_v1.2/real_videos_train/id02494/00014.mp4\n",
            "Video #1277 out of 1394\n",
            "Failed to Upload: Video #1277\n",
            "Failed for video path #/content/drive/MyDrive/DeepFakeDetection/data/FakeAVCeleb_v1.2/real_videos_train/id02494/00015.mp4\n",
            "Video #1278 out of 1394\n",
            "Video #1279 out of 1394\n",
            "Video #1280 out of 1394\n",
            "Video #1281 out of 1394\n",
            "Video #1282 out of 1394\n",
            "Video #1283 out of 1394\n",
            "Video #1284 out of 1394\n",
            "Video #1285 out of 1394\n",
            "Video #1286 out of 1394\n",
            "Video #1287 out of 1394\n",
            "Failed to Upload: Video #1287\n",
            "Failed for video path #/content/drive/MyDrive/DeepFakeDetection/data/FakeAVCeleb_v1.2/real_videos_train/id02494/00025.mp4\n",
            "Video #1288 out of 1394\n",
            "Video #1289 out of 1394\n",
            "Video #1290 out of 1394\n",
            "Video #1291 out of 1394\n",
            "Video #1292 out of 1394\n",
            "Video #1293 out of 1394\n",
            "Failed to Upload: Video #1293\n",
            "Failed for video path #/content/drive/MyDrive/DeepFakeDetection/data/FakeAVCeleb_v1.2/real_videos_train/id02494/00031.mp4\n",
            "Video #1294 out of 1394\n",
            "Video #1295 out of 1394\n",
            "Video #1296 out of 1394\n",
            "Video #1297 out of 1394\n",
            "Video #1298 out of 1394\n",
            "Video #1299 out of 1394\n",
            "Video #1300 out of 1394\n",
            "Video #1301 out of 1394\n",
            "Video #1302 out of 1394\n",
            "Video #1303 out of 1394\n",
            "Failed to Upload: Video #1303\n",
            "Failed for video path #/content/drive/MyDrive/DeepFakeDetection/data/FakeAVCeleb_v1.2/real_videos_train/id02494/00041.mp4\n",
            "Video #1304 out of 1394\n",
            "Failed to Upload: Video #1304\n",
            "Failed for video path #/content/drive/MyDrive/DeepFakeDetection/data/FakeAVCeleb_v1.2/real_videos_train/id02494/00043.mp4\n",
            "Video #1305 out of 1394\n",
            "Failed to Upload: Video #1305\n",
            "Failed for video path #/content/drive/MyDrive/DeepFakeDetection/data/FakeAVCeleb_v1.2/real_videos_train/id02494/00042.mp4\n",
            "Video #1306 out of 1394\n",
            "Failed to Upload: Video #1306\n",
            "Failed for video path #/content/drive/MyDrive/DeepFakeDetection/data/FakeAVCeleb_v1.2/real_videos_train/id02494/00045.mp4\n",
            "Video #1307 out of 1394\n",
            "Failed to Upload: Video #1307\n",
            "Failed for video path #/content/drive/MyDrive/DeepFakeDetection/data/FakeAVCeleb_v1.2/real_videos_train/id02494/00044.mp4\n",
            "Video #1308 out of 1394\n",
            "Video #1309 out of 1394\n",
            "Video #1310 out of 1394\n",
            "Video #1311 out of 1394\n",
            "Video #1312 out of 1394\n",
            "Video #1313 out of 1394\n",
            "Video #1314 out of 1394\n",
            "Video #1315 out of 1394\n",
            "Video #1316 out of 1394\n",
            "Video #1317 out of 1394\n",
            "Video #1318 out of 1394\n",
            "Video #1319 out of 1394\n",
            "Video #1320 out of 1394\n",
            "Video #1321 out of 1394\n",
            "Video #1322 out of 1394\n",
            "Video #1323 out of 1394\n",
            "Video #1324 out of 1394\n",
            "Video #1325 out of 1394\n",
            "Failed to Upload: Video #1325\n",
            "Failed for video path #/content/drive/MyDrive/DeepFakeDetection/data/FakeAVCeleb_v1.2/real_videos_train/id01171/00007.mp4\n",
            "Video #1326 out of 1394\n",
            "Video #1327 out of 1394\n",
            "Video #1328 out of 1394\n",
            "Video #1329 out of 1394\n",
            "Video #1330 out of 1394\n",
            "Failed to Upload: Video #1330\n",
            "Failed for video path #/content/drive/MyDrive/DeepFakeDetection/data/FakeAVCeleb_v1.2/real_videos_train/id01171/00009.mp4\n",
            "Video #1331 out of 1394\n",
            "Video #1332 out of 1394\n",
            "Video #1333 out of 1394\n",
            "Video #1334 out of 1394\n",
            "Video #1335 out of 1394\n",
            "Video #1336 out of 1394\n",
            "Video #1337 out of 1394\n",
            "Failed to Upload: Video #1337\n",
            "Failed for video path #/content/drive/MyDrive/DeepFakeDetection/data/FakeAVCeleb_v1.2/real_videos_train/id01171/00019.mp4\n",
            "Video #1338 out of 1394\n",
            "Video #1339 out of 1394\n",
            "Video #1340 out of 1394\n",
            "Video #1341 out of 1394\n",
            "Video #1342 out of 1394\n",
            "Video #1343 out of 1394\n",
            "Video #1344 out of 1394\n",
            "Video #1345 out of 1394\n",
            "Video #1346 out of 1394\n",
            "Video #1347 out of 1394\n",
            "Video #1348 out of 1394\n",
            "Video #1349 out of 1394\n",
            "Video #1350 out of 1394\n",
            "Video #1351 out of 1394\n",
            "Video #1352 out of 1394\n",
            "Video #1353 out of 1394\n",
            "Video #1354 out of 1394\n",
            "Video #1355 out of 1394\n",
            "Video #1356 out of 1394\n",
            "Video #1357 out of 1394\n",
            "Failed to Upload: Video #1357\n",
            "Failed for video path #/content/drive/MyDrive/DeepFakeDetection/data/FakeAVCeleb_v1.2/real_videos_train/id01171/00038.mp4\n",
            "Video #1358 out of 1394\n",
            "Failed to Upload: Video #1358\n",
            "Failed for video path #/content/drive/MyDrive/DeepFakeDetection/data/FakeAVCeleb_v1.2/real_videos_train/id01171/00039.mp4\n",
            "Video #1359 out of 1394\n",
            "Video #1360 out of 1394\n",
            "Video #1361 out of 1394\n",
            "Failed to Upload: Video #1361\n",
            "Failed for video path #/content/drive/MyDrive/DeepFakeDetection/data/FakeAVCeleb_v1.2/real_videos_train/id01171/00042.mp4\n",
            "Video #1362 out of 1394\n",
            "Video #1363 out of 1394\n",
            "Failed to Upload: Video #1363\n",
            "Failed for video path #/content/drive/MyDrive/DeepFakeDetection/data/FakeAVCeleb_v1.2/real_videos_train/id01171/00043.mp4\n",
            "Video #1364 out of 1394\n",
            "Video #1365 out of 1394\n",
            "Video #1366 out of 1394\n",
            "Video #1367 out of 1394\n",
            "Video #1368 out of 1394\n",
            "Video #1369 out of 1394\n",
            "Failed to Upload: Video #1369\n",
            "Failed for video path #/content/drive/MyDrive/DeepFakeDetection/data/FakeAVCeleb_v1.2/real_videos_train/id01171/00050.mp4\n",
            "Video #1370 out of 1394\n",
            "Video #1371 out of 1394\n",
            "Video #1372 out of 1394\n",
            "Failed to Upload: Video #1372\n",
            "Failed for video path #/content/drive/MyDrive/DeepFakeDetection/data/FakeAVCeleb_v1.2/real_videos_train/id01171/00052.mp4\n",
            "Video #1373 out of 1394\n",
            "Video #1374 out of 1394\n",
            "Failed to Upload: Video #1374\n",
            "Failed for video path #/content/drive/MyDrive/DeepFakeDetection/data/FakeAVCeleb_v1.2/real_videos_train/id01171/00055.mp4\n",
            "Video #1375 out of 1394\n",
            "Video #1376 out of 1394\n",
            "Failed to Upload: Video #1376\n",
            "Failed for video path #/content/drive/MyDrive/DeepFakeDetection/data/FakeAVCeleb_v1.2/real_videos_train/id01171/00058.mp4\n",
            "Video #1377 out of 1394\n",
            "Video #1378 out of 1394\n",
            "Failed to Upload: Video #1378\n",
            "Failed for video path #/content/drive/MyDrive/DeepFakeDetection/data/FakeAVCeleb_v1.2/real_videos_train/id01171/00057.mp4\n",
            "Video #1379 out of 1394\n",
            "Video #1380 out of 1394\n",
            "Video #1381 out of 1394\n",
            "Video #1382 out of 1394\n",
            "Video #1383 out of 1394\n",
            "Video #1384 out of 1394\n",
            "Video #1385 out of 1394\n",
            "Failed to Upload: Video #1385\n",
            "Failed for video path #/content/drive/MyDrive/DeepFakeDetection/data/FakeAVCeleb_v1.2/real_videos_train/id01171/00065.mp4\n",
            "Video #1386 out of 1394\n",
            "Video #1387 out of 1394\n",
            "Video #1388 out of 1394\n",
            "Video #1389 out of 1394\n",
            "Video #1390 out of 1394\n",
            "Video #1391 out of 1394\n",
            "Video #1392 out of 1394\n",
            "Video #1393 out of 1394\n",
            "Video #1394 out of 1394\n",
            "Failed to Upload: Video #1394\n",
            "Failed for video path #/content/drive/MyDrive/DeepFakeDetection/data/FakeAVCeleb_v1.2/real_videos_train/id01171/00075.mp4\n"
          ]
        }
      ]
    },
    {
      "cell_type": "code",
      "source": [
        "(len(filelist) - len(failed_training_videos_dlib))/len(filelist), len(filelist) - len(failed_training_videos_dlib)"
      ],
      "metadata": {
        "colab": {
          "base_uri": "https://localhost:8080/"
        },
        "id": "ANgM_ZSHm6U3",
        "outputId": "6de1162c-f037-4303-d502-8b94bc97ffde"
      },
      "execution_count": 21,
      "outputs": [
        {
          "output_type": "execute_result",
          "data": {
            "text/plain": [
              "(0.6133428981348638, 855)"
            ]
          },
          "metadata": {},
          "execution_count": 21
        }
      ]
    },
    {
      "cell_type": "code",
      "source": [
        "import csv\n",
        "\n",
        "vox_real_file_paths = r'/content/drive/MyDrive/DeepFakeDetection/data/FakeAVCeleb_v1.2/vox_real_file_paths.csv'\n",
        "vox_failed_file_paths = r'/content/drive/MyDrive/DeepFakeDetection/data/FakeAVCeleb_v1.2/vox_failed_file_paths.csv'\n",
        "\n",
        "with open(vox_real_file_paths, 'w', newline='') as myfile:\n",
        "     wr = csv.writer(myfile, quoting=csv.QUOTE_ALL)\n",
        "     wr.writerow(filelist)\n",
        "\n",
        "with open(vox_failed_file_paths, 'w', newline='') as myfile:\n",
        "     wr = csv.writer(myfile, quoting=csv.QUOTE_ALL)\n",
        "     wr.writerow(failed_training_videos_dlib)\n"
      ],
      "metadata": {
        "id": "OaPAghthncY3"
      },
      "execution_count": 24,
      "outputs": []
    },
    {
      "cell_type": "code",
      "source": [
        "file = open('/content/drive/MyDrive/DeepFakeDetection/data/FakeAVCeleb_v1.2/vox_real_file_paths.csv', \"r\")\n",
        "data = list(csv.reader(file, delimiter=\",\"))\n",
        "file.close()"
      ],
      "metadata": {
        "id": "-ujDAVhOo8Ww"
      },
      "execution_count": 26,
      "outputs": []
    },
    {
      "cell_type": "code",
      "source": [
        "import collections"
      ],
      "metadata": {
        "id": "JlYl2HFYrNRF"
      },
      "execution_count": 31,
      "outputs": []
    },
    {
      "cell_type": "code",
      "source": [
        "ids_all = [file.split('/')[-2] for file in filelist]\n",
        "ids_fail = [file.split('/')[-2] for file in failed_training_videos_dlib]"
      ],
      "metadata": {
        "id": "X9iFlOvtppn9"
      },
      "execution_count": 32,
      "outputs": []
    },
    {
      "cell_type": "code",
      "source": [
        "c_ids_all = collections.Counter(ids_all)\n",
        "c_ids_fail = collections.Counter(ids_fail)"
      ],
      "metadata": {
        "id": "ZaeVcQ7wrnUd"
      },
      "execution_count": 36,
      "outputs": []
    },
    {
      "cell_type": "code",
      "source": [
        "c_ids_all"
      ],
      "metadata": {
        "colab": {
          "base_uri": "https://localhost:8080/"
        },
        "id": "jQmrXmvUsxe9",
        "outputId": "4c80c6fa-86ba-4b3a-a8a4-564fdc60aae0"
      },
      "execution_count": 37,
      "outputs": [
        {
          "output_type": "execute_result",
          "data": {
            "text/plain": [
              "Counter({'id01163': 500,\n",
              "         'id01170': 162,\n",
              "         'id01182': 169,\n",
              "         'id01610': 137,\n",
              "         'id00366': 232,\n",
              "         'id01168': 62,\n",
              "         'id02494': 57,\n",
              "         'id01171': 75})"
            ]
          },
          "metadata": {},
          "execution_count": 37
        }
      ]
    },
    {
      "cell_type": "code",
      "source": [
        "c_ids_fail"
      ],
      "metadata": {
        "colab": {
          "base_uri": "https://localhost:8080/"
        },
        "id": "Al2Itgz6s2-t",
        "outputId": "974223b7-ee2b-4963-f3fa-9a0cc87cb1fc"
      },
      "execution_count": 38,
      "outputs": [
        {
          "output_type": "execute_result",
          "data": {
            "text/plain": [
              "Counter({'id01163': 111,\n",
              "         'id01170': 82,\n",
              "         'id01182': 66,\n",
              "         'id01610': 46,\n",
              "         'id00366': 182,\n",
              "         'id01168': 26,\n",
              "         'id02494': 12,\n",
              "         'id01171': 14})"
            ]
          },
          "metadata": {},
          "execution_count": 38
        }
      ]
    },
    {
      "cell_type": "markdown",
      "source": [
        "## Fake video dlib check"
      ],
      "metadata": {
        "id": "KqMzh40EvNG_"
      }
    },
    {
      "cell_type": "code",
      "source": [
        "selected_ids = list(c_ids_all.keys())"
      ],
      "metadata": {
        "id": "G5FCIn4dvLti"
      },
      "execution_count": 41,
      "outputs": []
    },
    {
      "cell_type": "code",
      "source": [
        "metadata_df.columns"
      ],
      "metadata": {
        "colab": {
          "base_uri": "https://localhost:8080/"
        },
        "id": "43tcbYcP3CqR",
        "outputId": "e2645bea-b43e-4a3f-97f7-d0333a1154fa"
      },
      "execution_count": 45,
      "outputs": [
        {
          "output_type": "execute_result",
          "data": {
            "text/plain": [
              "Index(['video_id', 'source', 'target1', 'target2', 'method', 'category',\n",
              "       'type', 'race', 'gender', 'filename', 'directory_path', 'mp4_filepath',\n",
              "       'utterance_file', 'wav_filepath', 'audio_length', 'textgrid_filepath'],\n",
              "      dtype='object')"
            ]
          },
          "metadata": {},
          "execution_count": 45
        }
      ]
    },
    {
      "cell_type": "code",
      "source": [
        "fake_videos_list = []\n",
        "\n",
        "for id in selected_ids:\n",
        "  fake_videos = metadata_df.loc[metadata_df['source']==id, 'mp4_filepath'].to_list()\n",
        "  fake_videos_list.extend(fake_videos)"
      ],
      "metadata": {
        "id": "GZEuh94L04W_"
      },
      "execution_count": 48,
      "outputs": []
    },
    {
      "cell_type": "code",
      "source": [
        "len(fake_videos_list)"
      ],
      "metadata": {
        "colab": {
          "base_uri": "https://localhost:8080/"
        },
        "id": "8WhAVHlv3XKD",
        "outputId": "06acd195-590f-4fb4-c4ba-1d2aa5da4216"
      },
      "execution_count": 49,
      "outputs": [
        {
          "output_type": "execute_result",
          "data": {
            "text/plain": [
              "203"
            ]
          },
          "metadata": {},
          "execution_count": 49
        }
      ]
    },
    {
      "cell_type": "code",
      "source": [
        "#training_videos_details = []\n",
        "failed_fake_videos_dlib = []\n",
        "\n",
        "for idx, train_video_path in enumerate(fake_videos_list):\n",
        "\n",
        "  print(f'Video #{idx+1} out of {len(fake_videos_list)}') \n",
        "\n",
        "  video = cv2.VideoCapture(train_video_path)\n",
        "\n",
        "  try:\n",
        "    dlib_video = DlibManager(predictor, detector, video)\n",
        "  \n",
        "  except:\n",
        "    print(f'Failed to Upload: Video #{idx+1}')\n",
        "    print(f'Failed for video path #{train_video_path}')\n",
        "    failed_fake_videos_dlib.append(train_video_path)\n",
        "\n",
        "  video.release()"
      ],
      "metadata": {
        "colab": {
          "base_uri": "https://localhost:8080/"
        },
        "id": "QRgKWxzK3aSp",
        "outputId": "99759e9c-158c-4340-d16b-197c7fdef9b7"
      },
      "execution_count": 50,
      "outputs": [
        {
          "output_type": "stream",
          "name": "stdout",
          "text": [
            "Video #1 out of 203\n",
            "Video #2 out of 203\n",
            "Video #3 out of 203\n",
            "Video #4 out of 203\n",
            "Video #5 out of 203\n",
            "Video #6 out of 203\n",
            "Video #7 out of 203\n",
            "Video #8 out of 203\n",
            "Video #9 out of 203\n",
            "Video #10 out of 203\n",
            "Video #11 out of 203\n",
            "Video #12 out of 203\n",
            "Video #13 out of 203\n",
            "Video #14 out of 203\n",
            "Video #15 out of 203\n",
            "Video #16 out of 203\n",
            "Video #17 out of 203\n",
            "Video #18 out of 203\n",
            "Video #19 out of 203\n",
            "Video #20 out of 203\n",
            "Video #21 out of 203\n",
            "Video #22 out of 203\n",
            "Failed to Upload: Video #22\n",
            "Failed for video path #/content/drive/MyDrive/DeepFakeDetection/data/FakeAVCeleb_v1.2/RealVideo-RealAudio/African/men/id01170/00021.mp4\n",
            "Video #23 out of 203\n",
            "Failed to Upload: Video #23\n",
            "Failed for video path #/content/drive/MyDrive/DeepFakeDetection/data/FakeAVCeleb_v1.2/FakeVideo-RealAudio/African/men/id01170/00021_id00173_wavtolip.mp4\n",
            "Video #24 out of 203\n",
            "Failed to Upload: Video #24\n",
            "Failed for video path #/content/drive/MyDrive/DeepFakeDetection/data/FakeAVCeleb_v1.2/FakeVideo-RealAudio/African/men/id01170/00021_id00476_wavtolip.mp4\n",
            "Video #25 out of 203\n",
            "Failed to Upload: Video #25\n",
            "Failed for video path #/content/drive/MyDrive/DeepFakeDetection/data/FakeAVCeleb_v1.2/FakeVideo-RealAudio/African/men/id01170/00021_id00944_wavtolip.mp4\n",
            "Video #26 out of 203\n",
            "Failed to Upload: Video #26\n",
            "Failed for video path #/content/drive/MyDrive/DeepFakeDetection/data/FakeAVCeleb_v1.2/FakeVideo-RealAudio/African/men/id01170/00021_id00987_wavtolip.mp4\n",
            "Video #27 out of 203\n",
            "Failed to Upload: Video #27\n",
            "Failed for video path #/content/drive/MyDrive/DeepFakeDetection/data/FakeAVCeleb_v1.2/FakeVideo-RealAudio/African/men/id01170/00021_id01521_wavtolip.mp4\n",
            "Video #28 out of 203\n",
            "Failed to Upload: Video #28\n",
            "Failed for video path #/content/drive/MyDrive/DeepFakeDetection/data/FakeAVCeleb_v1.2/FakeVideo-RealAudio/African/men/id01170/00021_id01610_wavtolip.mp4\n",
            "Video #29 out of 203\n",
            "Failed to Upload: Video #29\n",
            "Failed for video path #/content/drive/MyDrive/DeepFakeDetection/data/FakeAVCeleb_v1.2/FakeVideo-RealAudio/African/men/id01170/00021_id01835_wavtolip.mp4\n",
            "Video #30 out of 203\n",
            "Failed to Upload: Video #30\n",
            "Failed for video path #/content/drive/MyDrive/DeepFakeDetection/data/FakeAVCeleb_v1.2/FakeVideo-RealAudio/African/men/id01170/00021_id02051_wavtolip.mp4\n",
            "Video #31 out of 203\n",
            "Failed to Upload: Video #31\n",
            "Failed for video path #/content/drive/MyDrive/DeepFakeDetection/data/FakeAVCeleb_v1.2/FakeVideo-RealAudio/African/men/id01170/00021_id02296_wavtolip.mp4\n",
            "Video #32 out of 203\n",
            "Failed to Upload: Video #32\n",
            "Failed for video path #/content/drive/MyDrive/DeepFakeDetection/data/FakeAVCeleb_v1.2/FakeVideo-RealAudio/African/men/id01170/00021_id02316_wavtolip.mp4\n",
            "Video #33 out of 203\n",
            "Failed to Upload: Video #33\n",
            "Failed for video path #/content/drive/MyDrive/DeepFakeDetection/data/FakeAVCeleb_v1.2/FakeVideo-FakeAudio/African/men/id01170/00021_id00166_wavtolip.mp4\n",
            "Video #34 out of 203\n",
            "Failed to Upload: Video #34\n",
            "Failed for video path #/content/drive/MyDrive/DeepFakeDetection/data/FakeAVCeleb_v1.2/FakeVideo-FakeAudio/African/men/id01170/00021_id00761_wavtolip.mp4\n",
            "Video #35 out of 203\n",
            "Failed to Upload: Video #35\n",
            "Failed for video path #/content/drive/MyDrive/DeepFakeDetection/data/FakeAVCeleb_v1.2/FakeVideo-FakeAudio/African/men/id01170/00021_id01076_wavtolip.mp4\n",
            "Video #36 out of 203\n",
            "Failed to Upload: Video #36\n",
            "Failed for video path #/content/drive/MyDrive/DeepFakeDetection/data/FakeAVCeleb_v1.2/FakeVideo-FakeAudio/African/men/id01170/00021_id01170_wavtolip.mp4\n",
            "Video #37 out of 203\n",
            "Failed to Upload: Video #37\n",
            "Failed for video path #/content/drive/MyDrive/DeepFakeDetection/data/FakeAVCeleb_v1.2/FakeVideo-FakeAudio/African/men/id01170/00021_id01392_wavtolip.mp4\n",
            "Video #38 out of 203\n",
            "Failed to Upload: Video #38\n",
            "Failed for video path #/content/drive/MyDrive/DeepFakeDetection/data/FakeAVCeleb_v1.2/FakeVideo-FakeAudio/African/men/id01170/00021_id01452_wavtolip.mp4\n",
            "Video #39 out of 203\n",
            "Failed to Upload: Video #39\n",
            "Failed for video path #/content/drive/MyDrive/DeepFakeDetection/data/FakeAVCeleb_v1.2/FakeVideo-FakeAudio/African/men/id01170/00021_id01544_wavtolip.mp4\n",
            "Video #40 out of 203\n",
            "Failed to Upload: Video #40\n",
            "Failed for video path #/content/drive/MyDrive/DeepFakeDetection/data/FakeAVCeleb_v1.2/FakeVideo-FakeAudio/African/men/id01170/00021_id01691_wavtolip.mp4\n",
            "Video #41 out of 203\n",
            "Failed to Upload: Video #41\n",
            "Failed for video path #/content/drive/MyDrive/DeepFakeDetection/data/FakeAVCeleb_v1.2/FakeVideo-FakeAudio/African/men/id01170/00021_id01779_wavtolip.mp4\n",
            "Video #42 out of 203\n",
            "Failed to Upload: Video #42\n",
            "Failed for video path #/content/drive/MyDrive/DeepFakeDetection/data/FakeAVCeleb_v1.2/FakeVideo-FakeAudio/African/men/id01170/00021_id01920_wavtolip.mp4\n",
            "Video #43 out of 203\n",
            "Video #44 out of 203\n",
            "Video #45 out of 203\n",
            "Video #46 out of 203\n",
            "Video #47 out of 203\n",
            "Failed to Upload: Video #47\n",
            "Failed for video path #/content/drive/MyDrive/DeepFakeDetection/data/FakeAVCeleb_v1.2/FakeVideo-RealAudio/Caucasian (American)/men/id01182/00167_id00943_wavtolip.mp4\n",
            "Video #48 out of 203\n",
            "Video #49 out of 203\n",
            "Video #50 out of 203\n",
            "Video #51 out of 203\n",
            "Video #52 out of 203\n",
            "Failed to Upload: Video #52\n",
            "Failed for video path #/content/drive/MyDrive/DeepFakeDetection/data/FakeAVCeleb_v1.2/FakeVideo-RealAudio/Caucasian (American)/men/id01182/00167_id01172_wavtolip.mp4\n",
            "Video #53 out of 203\n",
            "Video #54 out of 203\n",
            "Video #55 out of 203\n",
            "Video #56 out of 203\n",
            "Video #57 out of 203\n",
            "Video #58 out of 203\n",
            "Video #59 out of 203\n",
            "Video #60 out of 203\n",
            "Video #61 out of 203\n",
            "Video #62 out of 203\n",
            "Video #63 out of 203\n",
            "Video #64 out of 203\n",
            "Failed to Upload: Video #64\n",
            "Failed for video path #/content/drive/MyDrive/DeepFakeDetection/data/FakeAVCeleb_v1.2/FakeVideo-FakeAudio/Caucasian (American)/men/id01182/00167_id01035_wavtolip.mp4\n",
            "Video #65 out of 203\n",
            "Failed to Upload: Video #65\n",
            "Failed for video path #/content/drive/MyDrive/DeepFakeDetection/data/FakeAVCeleb_v1.2/FakeVideo-FakeAudio/Caucasian (American)/men/id01182/00167_id01048_wavtolip.mp4\n",
            "Video #66 out of 203\n",
            "Video #67 out of 203\n",
            "Video #68 out of 203\n",
            "Video #69 out of 203\n",
            "Video #70 out of 203\n",
            "Video #71 out of 203\n",
            "Video #72 out of 203\n",
            "Video #73 out of 203\n",
            "Video #74 out of 203\n",
            "Video #75 out of 203\n",
            "Video #76 out of 203\n",
            "Video #77 out of 203\n",
            "Video #78 out of 203\n",
            "Video #79 out of 203\n",
            "Video #80 out of 203\n",
            "Video #81 out of 203\n",
            "Video #82 out of 203\n",
            "Video #83 out of 203\n",
            "Video #84 out of 203\n",
            "Video #85 out of 203\n",
            "Video #86 out of 203\n",
            "Video #87 out of 203\n",
            "Video #88 out of 203\n",
            "Video #89 out of 203\n",
            "Video #90 out of 203\n",
            "Video #91 out of 203\n",
            "Video #92 out of 203\n",
            "Video #93 out of 203\n",
            "Video #94 out of 203\n",
            "Video #95 out of 203\n",
            "Video #96 out of 203\n",
            "Video #97 out of 203\n",
            "Video #98 out of 203\n",
            "Video #99 out of 203\n",
            "Video #100 out of 203\n",
            "Video #101 out of 203\n",
            "Video #102 out of 203\n",
            "Video #103 out of 203\n",
            "Video #104 out of 203\n",
            "Video #105 out of 203\n",
            "Failed to Upload: Video #105\n",
            "Failed for video path #/content/drive/MyDrive/DeepFakeDetection/data/FakeAVCeleb_v1.2/RealVideo-RealAudio/African/men/id00366/00118.mp4\n",
            "Video #106 out of 203\n",
            "Failed to Upload: Video #106\n",
            "Failed for video path #/content/drive/MyDrive/DeepFakeDetection/data/FakeAVCeleb_v1.2/FakeVideo-RealAudio/African/men/id00366/00118_id00076_wavtolip.mp4\n",
            "Video #107 out of 203\n",
            "Video #108 out of 203\n",
            "Video #109 out of 203\n",
            "Failed to Upload: Video #109\n",
            "Failed for video path #/content/drive/MyDrive/DeepFakeDetection/data/FakeAVCeleb_v1.2/FakeVideo-RealAudio/African/men/id00366/00118_id00391_wavtolip.mp4\n",
            "Video #110 out of 203\n",
            "Failed to Upload: Video #110\n",
            "Failed for video path #/content/drive/MyDrive/DeepFakeDetection/data/FakeAVCeleb_v1.2/FakeVideo-RealAudio/African/men/id00366/00118_id00475_wavtolip.mp4\n",
            "Video #111 out of 203\n",
            "Failed to Upload: Video #111\n",
            "Failed for video path #/content/drive/MyDrive/DeepFakeDetection/data/FakeAVCeleb_v1.2/FakeVideo-RealAudio/African/men/id00366/00118_id00987_wavtolip.mp4\n",
            "Video #112 out of 203\n",
            "Video #113 out of 203\n",
            "Failed to Upload: Video #113\n",
            "Failed for video path #/content/drive/MyDrive/DeepFakeDetection/data/FakeAVCeleb_v1.2/FakeVideo-RealAudio/African/men/id00366/00118_id01170_wavtolip.mp4\n",
            "Video #114 out of 203\n",
            "Video #115 out of 203\n",
            "Video #116 out of 203\n",
            "Video #117 out of 203\n",
            "Failed to Upload: Video #117\n",
            "Failed for video path #/content/drive/MyDrive/DeepFakeDetection/data/FakeAVCeleb_v1.2/FakeVideo-RealAudio/African/men/id00366/00118_id01610_wavtolip.mp4\n",
            "Video #118 out of 203\n",
            "Video #119 out of 203\n",
            "Failed to Upload: Video #119\n",
            "Failed for video path #/content/drive/MyDrive/DeepFakeDetection/data/FakeAVCeleb_v1.2/FakeVideo-RealAudio/African/men/id00366/00118_id01691_wavtolip.mp4\n",
            "Video #120 out of 203\n",
            "Video #121 out of 203\n",
            "Failed to Upload: Video #121\n",
            "Failed for video path #/content/drive/MyDrive/DeepFakeDetection/data/FakeAVCeleb_v1.2/FakeVideo-RealAudio/African/men/id00366/00118_id01933_wavtolip.mp4\n",
            "Video #122 out of 203\n",
            "Video #123 out of 203\n",
            "Video #124 out of 203\n",
            "Video #125 out of 203\n",
            "Video #126 out of 203\n",
            "Video #127 out of 203\n",
            "Failed to Upload: Video #127\n",
            "Failed for video path #/content/drive/MyDrive/DeepFakeDetection/data/FakeAVCeleb_v1.2/FakeVideo-FakeAudio/African/men/id00366/00118_id01170_wavtolip.mp4\n",
            "Video #128 out of 203\n",
            "Video #129 out of 203\n",
            "Failed to Upload: Video #129\n",
            "Failed for video path #/content/drive/MyDrive/DeepFakeDetection/data/FakeAVCeleb_v1.2/FakeVideo-FakeAudio/African/men/id00366/00118_id01528_wavtolip.mp4\n",
            "Video #130 out of 203\n",
            "Video #131 out of 203\n",
            "Video #132 out of 203\n",
            "Failed to Upload: Video #132\n",
            "Failed for video path #/content/drive/MyDrive/DeepFakeDetection/data/FakeAVCeleb_v1.2/FakeVideo-FakeAudio/African/men/id00366/00118_id01835_wavtolip.mp4\n",
            "Video #133 out of 203\n",
            "Video #134 out of 203\n",
            "Video #135 out of 203\n",
            "Video #136 out of 203\n",
            "Video #137 out of 203\n",
            "Video #138 out of 203\n",
            "Video #139 out of 203\n",
            "Video #140 out of 203\n",
            "Video #141 out of 203\n",
            "Video #142 out of 203\n",
            "Video #143 out of 203\n",
            "Video #144 out of 203\n",
            "Video #145 out of 203\n",
            "Video #146 out of 203\n",
            "Video #147 out of 203\n",
            "Video #148 out of 203\n",
            "Video #149 out of 203\n",
            "Video #150 out of 203\n",
            "Video #151 out of 203\n",
            "Video #152 out of 203\n",
            "Video #153 out of 203\n",
            "Video #154 out of 203\n",
            "Video #155 out of 203\n",
            "Video #156 out of 203\n",
            "Video #157 out of 203\n",
            "Video #158 out of 203\n",
            "Video #159 out of 203\n",
            "Video #160 out of 203\n",
            "Video #161 out of 203\n",
            "Video #162 out of 203\n",
            "Video #163 out of 203\n",
            "Video #164 out of 203\n",
            "Video #165 out of 203\n",
            "Video #166 out of 203\n",
            "Video #167 out of 203\n",
            "Video #168 out of 203\n",
            "Video #169 out of 203\n",
            "Video #170 out of 203\n",
            "Video #171 out of 203\n",
            "Video #172 out of 203\n",
            "Video #173 out of 203\n",
            "Video #174 out of 203\n",
            "Video #175 out of 203\n",
            "Video #176 out of 203\n",
            "Video #177 out of 203\n",
            "Video #178 out of 203\n",
            "Video #179 out of 203\n",
            "Video #180 out of 203\n",
            "Video #181 out of 203\n",
            "Video #182 out of 203\n",
            "Video #183 out of 203\n",
            "Video #184 out of 203\n",
            "Video #185 out of 203\n",
            "Video #186 out of 203\n",
            "Video #187 out of 203\n",
            "Video #188 out of 203\n",
            "Video #189 out of 203\n",
            "Video #190 out of 203\n",
            "Video #191 out of 203\n",
            "Video #192 out of 203\n",
            "Video #193 out of 203\n",
            "Video #194 out of 203\n",
            "Video #195 out of 203\n",
            "Video #196 out of 203\n",
            "Video #197 out of 203\n",
            "Video #198 out of 203\n",
            "Video #199 out of 203\n",
            "Video #200 out of 203\n",
            "Video #201 out of 203\n",
            "Video #202 out of 203\n",
            "Video #203 out of 203\n"
          ]
        }
      ]
    },
    {
      "cell_type": "code",
      "source": [
        "fake_file_paths = r'/content/drive/MyDrive/DeepFakeDetection/data/FakeAVCeleb_v1.2/fake_file_paths.csv'\n",
        "fake_failed_file_paths = r'/content/drive/MyDrive/DeepFakeDetection/data/FakeAVCeleb_v1.2/fake_failed_file_paths.csv'\n",
        "\n",
        "with open(fake_file_paths, 'w', newline='') as myfile:\n",
        "     wr = csv.writer(myfile, quoting=csv.QUOTE_ALL)\n",
        "     wr.writerow(fake_videos_list)\n",
        "\n",
        "with open(fake_failed_file_paths, 'w', newline='') as myfile:\n",
        "     wr = csv.writer(myfile, quoting=csv.QUOTE_ALL)\n",
        "     wr.writerow(failed_fake_videos_dlib)"
      ],
      "metadata": {
        "id": "HAsNcJ0b8wxg"
      },
      "execution_count": 55,
      "outputs": []
    },
    {
      "cell_type": "code",
      "source": [
        "fake_ids_all = [file.split('/')[-2] for file in fake_videos_list]\n",
        "fake_ids_fail = [file.split('/')[-2] for file in failed_fake_videos_dlib]"
      ],
      "metadata": {
        "id": "a8aUZcfN-CeY"
      },
      "execution_count": 56,
      "outputs": []
    },
    {
      "cell_type": "code",
      "source": [
        "c_fake_ids_all = collections.Counter(fake_ids_all)\n",
        "c_fake_ids_fail = collections.Counter(fake_ids_fail)"
      ],
      "metadata": {
        "id": "JZWmFXPd-ND5"
      },
      "execution_count": 57,
      "outputs": []
    },
    {
      "cell_type": "code",
      "source": [
        "c_fake_ids_all"
      ],
      "metadata": {
        "colab": {
          "base_uri": "https://localhost:8080/"
        },
        "id": "z_yhAVQt-WGj",
        "outputId": "a2e0c868-bdab-4382-adf2-4a94d72c7d5e"
      },
      "execution_count": 58,
      "outputs": [
        {
          "output_type": "execute_result",
          "data": {
            "text/plain": [
              "Counter({'id01163': 21,\n",
              "         'id01170': 21,\n",
              "         'id01182': 24,\n",
              "         'id01610': 38,\n",
              "         'id00366': 31,\n",
              "         'id01168': 21,\n",
              "         'id02494': 26,\n",
              "         'id01171': 21})"
            ]
          },
          "metadata": {},
          "execution_count": 58
        }
      ]
    },
    {
      "cell_type": "code",
      "source": [
        "c_fake_ids_fail"
      ],
      "metadata": {
        "colab": {
          "base_uri": "https://localhost:8080/"
        },
        "id": "z3fu-mpI-ZRq",
        "outputId": "a9d84f66-5c91-4595-9854-f59bd25a4039"
      },
      "execution_count": 59,
      "outputs": [
        {
          "output_type": "execute_result",
          "data": {
            "text/plain": [
              "Counter({'id01170': 21, 'id01182': 4, 'id00366': 12})"
            ]
          },
          "metadata": {},
          "execution_count": 59
        }
      ]
    },
    {
      "cell_type": "markdown",
      "source": [
        "## create training and test data"
      ],
      "metadata": {
        "id": "eA55qBgV-mz1"
      }
    },
    {
      "cell_type": "code",
      "source": [
        "real_videos_train = [path for path in filelist if path not in failed_training_videos_dlib]"
      ],
      "metadata": {
        "id": "hYXujOX_-haM"
      },
      "execution_count": 81,
      "outputs": []
    },
    {
      "cell_type": "code",
      "source": [
        "fake_videos_train = [path for path in fake_videos_list if path not in failed_fake_videos_dlib]"
      ],
      "metadata": {
        "id": "-oxKq_ya-lIy"
      },
      "execution_count": 82,
      "outputs": []
    },
    {
      "cell_type": "code",
      "source": [
        "len(real_videos_train), len(fake_videos_train)"
      ],
      "metadata": {
        "colab": {
          "base_uri": "https://localhost:8080/"
        },
        "id": "_s5EgeTzAgZX",
        "outputId": "9dfd29ea-29c1-4081-998d-3624bf2e2d92"
      },
      "execution_count": 83,
      "outputs": [
        {
          "output_type": "execute_result",
          "data": {
            "text/plain": [
              "(855, 166)"
            ]
          },
          "metadata": {},
          "execution_count": 83
        }
      ]
    },
    {
      "cell_type": "code",
      "source": [
        "id01163_real = [path for path in real_videos_train if 'id01163' in path]\n",
        "id01163_fake = [path for path in fake_videos_train if 'id01163' in path]"
      ],
      "metadata": {
        "id": "VBeEFqG1Azx1"
      },
      "execution_count": 84,
      "outputs": []
    },
    {
      "cell_type": "code",
      "source": [
        "len(id01163_real), len(id01163_fake)"
      ],
      "metadata": {
        "colab": {
          "base_uri": "https://localhost:8080/"
        },
        "id": "HI5kLjLsB7Ju",
        "outputId": "9aae6066-f474-4aa3-e45c-0da3ecf9a73d"
      },
      "execution_count": 85,
      "outputs": [
        {
          "output_type": "execute_result",
          "data": {
            "text/plain": [
              "(389, 22)"
            ]
          },
          "metadata": {},
          "execution_count": 85
        }
      ]
    },
    {
      "cell_type": "code",
      "source": [
        "id01610_real = [path for path in real_videos_train if 'id01610' in path]\n",
        "id01610_fake = [path for path in fake_videos_train if 'id01610' in path]"
      ],
      "metadata": {
        "id": "afUyWXhRCDQ1"
      },
      "execution_count": 86,
      "outputs": []
    },
    {
      "cell_type": "code",
      "source": [
        "id01163_real_path = '/content/drive/MyDrive/DeepFakeDetection/data/FakeAVCeleb_v1.2/training_metadata/id01163_real.csv'\n",
        "id01163_fake_path = '/content/drive/MyDrive/DeepFakeDetection/data/FakeAVCeleb_v1.2/training_metadata/id01163_fake.csv'\n",
        "id01610_real_path = '/content/drive/MyDrive/DeepFakeDetection/data/FakeAVCeleb_v1.2/training_metadata/id01610_real.csv'\n",
        "id01610_fake_path = '/content/drive/MyDrive/DeepFakeDetection/data/FakeAVCeleb_v1.2/training_metadata/id01610_fake.csv'\n"
      ],
      "metadata": {
        "id": "8kUVD9svDBc6"
      },
      "execution_count": 87,
      "outputs": []
    },
    {
      "cell_type": "code",
      "source": [
        "with open(id01163_real_path, 'w', newline='') as myfile:\n",
        "     wr = csv.writer(myfile, quoting=csv.QUOTE_ALL)\n",
        "     wr.writerow(id01163_real)\n",
        "\n",
        "with open(id01163_fake_path, 'w', newline='') as myfile:\n",
        "     wr = csv.writer(myfile, quoting=csv.QUOTE_ALL)\n",
        "     wr.writerow(id01163_fake)\n",
        "\n",
        "with open(id01610_real_path, 'w', newline='') as myfile:\n",
        "     wr = csv.writer(myfile, quoting=csv.QUOTE_ALL)\n",
        "     wr.writerow(id01610_real)\n",
        "\n",
        "with open(id01610_fake_path, 'w', newline='') as myfile:\n",
        "     wr = csv.writer(myfile, quoting=csv.QUOTE_ALL)\n",
        "     wr.writerow(id01610_fake)"
      ],
      "metadata": {
        "id": "21LqbZUyE3pJ"
      },
      "execution_count": 88,
      "outputs": []
    },
    {
      "cell_type": "code",
      "source": [
        "id01610_real[0]"
      ],
      "metadata": {
        "colab": {
          "base_uri": "https://localhost:8080/",
          "height": 75
        },
        "id": "0WSBv_3IFi1E",
        "outputId": "a48fce15-760d-47f1-b7e6-666c27c76aed"
      },
      "execution_count": 89,
      "outputs": [
        {
          "output_type": "execute_result",
          "data": {
            "text/plain": [
              "'/content/drive/MyDrive/DeepFakeDetection/data/FakeAVCeleb_v1.2/real_videos_train/id01610/00001.mp4'"
            ],
            "application/vnd.google.colaboratory.intrinsic+json": {
              "type": "string"
            }
          },
          "metadata": {},
          "execution_count": 89
        }
      ]
    },
    {
      "cell_type": "code",
      "source": [
        "id01610_fake[0]"
      ],
      "metadata": {
        "colab": {
          "base_uri": "https://localhost:8080/",
          "height": 75
        },
        "id": "H6kV7bPkFqRU",
        "outputId": "fee57e10-9749-41df-98dd-e8b1382fa3cd"
      },
      "execution_count": 90,
      "outputs": [
        {
          "output_type": "execute_result",
          "data": {
            "text/plain": [
              "'/content/drive/MyDrive/DeepFakeDetection/data/FakeAVCeleb_v1.2/RealVideo-RealAudio/African/men/id01610/00090.mp4'"
            ],
            "application/vnd.google.colaboratory.intrinsic+json": {
              "type": "string"
            }
          },
          "metadata": {},
          "execution_count": 90
        }
      ]
    },
    {
      "cell_type": "markdown",
      "source": [
        "## generating audio files for vox videos"
      ],
      "metadata": {
        "id": "W8bXhQFUMcYB"
      }
    },
    {
      "cell_type": "code",
      "source": [
        "!pip install moviepy\n",
        "!pip3 install imageio==2.4.1\n",
        "!pip install --upgrade imageio-ffmpeg"
      ],
      "metadata": {
        "colab": {
          "base_uri": "https://localhost:8080/"
        },
        "id": "Jgaglsp-MakY",
        "outputId": "d104d1d7-a476-4da0-ecfd-400db7ed5aaf"
      },
      "execution_count": 92,
      "outputs": [
        {
          "output_type": "stream",
          "name": "stdout",
          "text": [
            "Looking in indexes: https://pypi.org/simple, https://us-python.pkg.dev/colab-wheels/public/simple/\n",
            "Requirement already satisfied: moviepy in /usr/local/lib/python3.7/dist-packages (0.2.3.5)\n",
            "Requirement already satisfied: numpy in /usr/local/lib/python3.7/dist-packages (from moviepy) (1.21.6)\n",
            "Requirement already satisfied: tqdm<5.0,>=4.11.2 in /usr/local/lib/python3.7/dist-packages (from moviepy) (4.64.1)\n",
            "Requirement already satisfied: decorator<5.0,>=4.0.2 in /usr/local/lib/python3.7/dist-packages (from moviepy) (4.4.2)\n",
            "Requirement already satisfied: imageio<3.0,>=2.1.2 in /usr/local/lib/python3.7/dist-packages (from moviepy) (2.9.0)\n",
            "Requirement already satisfied: pillow in /usr/local/lib/python3.7/dist-packages (from imageio<3.0,>=2.1.2->moviepy) (7.1.2)\n",
            "Looking in indexes: https://pypi.org/simple, https://us-python.pkg.dev/colab-wheels/public/simple/\n",
            "Collecting imageio==2.4.1\n",
            "  Downloading imageio-2.4.1.tar.gz (3.3 MB)\n",
            "\u001b[K     |████████████████████████████████| 3.3 MB 5.0 MB/s \n",
            "\u001b[?25hRequirement already satisfied: numpy in /usr/local/lib/python3.7/dist-packages (from imageio==2.4.1) (1.21.6)\n",
            "Requirement already satisfied: pillow in /usr/local/lib/python3.7/dist-packages (from imageio==2.4.1) (7.1.2)\n",
            "Building wheels for collected packages: imageio\n",
            "  Building wheel for imageio (setup.py) ... \u001b[?25l\u001b[?25hdone\n",
            "  Created wheel for imageio: filename=imageio-2.4.1-py3-none-any.whl size=3303886 sha256=165cd1245087fc29286c2ebd7cad1fd7862711f2deec93c5632ddcc5ef221340\n",
            "  Stored in directory: /root/.cache/pip/wheels/46/20/07/7bb9c8c44e6ec2efa60fd0e6280094f53f65f41767ef69a5ee\n",
            "Successfully built imageio\n",
            "Installing collected packages: imageio\n",
            "  Attempting uninstall: imageio\n",
            "    Found existing installation: imageio 2.9.0\n",
            "    Uninstalling imageio-2.9.0:\n",
            "      Successfully uninstalled imageio-2.9.0\n",
            "Successfully installed imageio-2.4.1\n",
            "Looking in indexes: https://pypi.org/simple, https://us-python.pkg.dev/colab-wheels/public/simple/\n",
            "Collecting imageio-ffmpeg\n",
            "  Downloading imageio_ffmpeg-0.4.7-py3-none-manylinux2010_x86_64.whl (26.9 MB)\n",
            "\u001b[K     |████████████████████████████████| 26.9 MB 1.2 MB/s \n",
            "\u001b[?25hInstalling collected packages: imageio-ffmpeg\n",
            "Successfully installed imageio-ffmpeg-0.4.7\n"
          ]
        }
      ]
    },
    {
      "cell_type": "code",
      "source": [
        "import os\n",
        "import pandas as pd\n",
        "import numpy as np\n",
        "import scipy\n",
        "from scipy.io import wavfile\n",
        "import scipy.fftpack as fft\n",
        "from scipy.signal import get_window\n",
        "import IPython.display as ipd\n",
        "import matplotlib.pyplot as plt\n",
        "import moviepy.editor as mp\n",
        "from pathlib import Path\n",
        "%matplotlib inline"
      ],
      "metadata": {
        "colab": {
          "base_uri": "https://localhost:8080/"
        },
        "id": "qRTHJt21MsQT",
        "outputId": "36fcceb0-5ba9-4623-db4a-0f2cc0a16a6b"
      },
      "execution_count": 93,
      "outputs": [
        {
          "output_type": "stream",
          "name": "stdout",
          "text": [
            "Imageio: 'ffmpeg-linux64-v3.3.1' was not found on your computer; downloading it now.\n",
            "Try 1. Download from https://github.com/imageio/imageio-binaries/raw/master/ffmpeg/ffmpeg-linux64-v3.3.1 (43.8 MB)\n",
            "Downloading: 8192/45929032 bytes (0.0%)\b\b\b\b\b\b\b\b\b\b\b\b\b\b\b\b\b\b\b\b\b\b\b\b\b\b2949120/45929032 bytes (6.4%)\b\b\b\b\b\b\b\b\b\b\b\b\b\b\b\b\b\b\b\b\b\b\b\b\b\b\b\b\b6512640/45929032 bytes (14.2%)\b\b\b\b\b\b\b\b\b\b\b\b\b\b\b\b\b\b\b\b\b\b\b\b\b\b\b\b\b\b10313728/45929032 bytes (22.5%)\b\b\b\b\b\b\b\b\b\b\b\b\b\b\b\b\b\b\b\b\b\b\b\b\b\b\b\b\b\b\b14426112/45929032 bytes (31.4%)\b\b\b\b\b\b\b\b\b\b\b\b\b\b\b\b\b\b\b\b\b\b\b\b\b\b\b\b\b\b\b18612224/45929032 bytes (40.5%)\b\b\b\b\b\b\b\b\b\b\b\b\b\b\b\b\b\b\b\b\b\b\b\b\b\b\b\b\b\b\b22773760/45929032 bytes (49.6%)\b\b\b\b\b\b\b\b\b\b\b\b\b\b\b\b\b\b\b\b\b\b\b\b\b\b\b\b\b\b\b26976256/45929032 bytes (58.7%)\b\b\b\b\b\b\b\b\b\b\b\b\b\b\b\b\b\b\b\b\b\b\b\b\b\b\b\b\b\b\b31096832/45929032 bytes (67.7%)\b\b\b\b\b\b\b\b\b\b\b\b\b\b\b\b\b\b\b\b\b\b\b\b\b\b\b\b\b\b\b35356672/45929032 bytes (77.0%)\b\b\b\b\b\b\b\b\b\b\b\b\b\b\b\b\b\b\b\b\b\b\b\b\b\b\b\b\b\b\b39591936/45929032 bytes (86.2%)\b\b\b\b\b\b\b\b\b\b\b\b\b\b\b\b\b\b\b\b\b\b\b\b\b\b\b\b\b\b\b43884544/45929032 bytes (95.5%)\b\b\b\b\b\b\b\b\b\b\b\b\b\b\b\b\b\b\b\b\b\b\b\b\b\b\b\b\b\b\b45929032/45929032 bytes (100.0%)\n",
            "  Done\n",
            "File saved as /root/.imageio/ffmpeg/ffmpeg-linux64-v3.3.1.\n"
          ]
        }
      ]
    },
    {
      "cell_type": "code",
      "source": [
        "len(real_videos_train), len(fake_videos_train)"
      ],
      "metadata": {
        "colab": {
          "base_uri": "https://localhost:8080/"
        },
        "id": "Tf8DpBT1MwFL",
        "outputId": "64807786-fd68-4a00-f725-5566d05aa378"
      },
      "execution_count": 95,
      "outputs": [
        {
          "output_type": "execute_result",
          "data": {
            "text/plain": [
              "(855, 166)"
            ]
          },
          "metadata": {},
          "execution_count": 95
        }
      ]
    },
    {
      "cell_type": "code",
      "source": [
        "len(real_videos_train) + len(fake_videos_train)"
      ],
      "metadata": {
        "colab": {
          "base_uri": "https://localhost:8080/"
        },
        "id": "ay71HFr-NpnZ",
        "outputId": "265b12b4-e10b-4d9d-e384-f6123c7fd92a"
      },
      "execution_count": 99,
      "outputs": [
        {
          "output_type": "execute_result",
          "data": {
            "text/plain": [
              "1021"
            ]
          },
          "metadata": {},
          "execution_count": 99
        }
      ]
    },
    {
      "cell_type": "code",
      "source": [
        "real_mp4_filepaths = real_videos_train\n",
        "real_wav_filepaths = [file.replace('.mp4','.wav') for file in real_videos_train]\n"
      ],
      "metadata": {
        "id": "q1rTOT2WNGp3"
      },
      "execution_count": 105,
      "outputs": []
    },
    {
      "cell_type": "code",
      "source": [
        "len(real_mp4_filepaths)"
      ],
      "metadata": {
        "colab": {
          "base_uri": "https://localhost:8080/"
        },
        "id": "tqJgGxUUOd_E",
        "outputId": "ad9f9839-a4eb-4e36-ea5b-03b807134642"
      },
      "execution_count": 103,
      "outputs": [
        {
          "output_type": "execute_result",
          "data": {
            "text/plain": [
              "855"
            ]
          },
          "metadata": {},
          "execution_count": 103
        }
      ]
    },
    {
      "cell_type": "code",
      "source": [
        "def extract_wav(mp4_filepath, wav_filepath):\n",
        "\n",
        "  #check if file exists (conversion crashes)\n",
        "  wav_file = Path(wav_filepath)\n",
        "  if wav_file.exists():\n",
        "    print(\"File exists for id {}\".format(mp4_filepath.split('/')[-2]))\n",
        "  else:\n",
        "    print(\"Generating file for id {}\".format(mp4_filepath.split('/')[-2]))\n",
        "    #do video to wav conversion\n",
        "    video = mp.VideoFileClip(mp4_filepath)\n",
        "    try:\n",
        "      video.audio.write_audiofile(wav_filepath, ffmpeg_params=[\"-ac\", \"1\"])\n",
        "    except:\n",
        "      print(\"Failed for id {}\".format(mp4_filepath.split('/')[-2]))"
      ],
      "metadata": {
        "id": "_mdBPLGuOkFs"
      },
      "execution_count": 104,
      "outputs": []
    },
    {
      "cell_type": "code",
      "source": [
        "for mp4, wav in zip(real_mp4_filepaths, real_wav_filepaths):\n",
        "  extract_wav(mp4,wav)"
      ],
      "metadata": {
        "colab": {
          "base_uri": "https://localhost:8080/"
        },
        "id": "DUcttkTwOpvS",
        "outputId": "9f3682cc-9292-497e-c582-21aa4339e038"
      },
      "execution_count": 106,
      "outputs": [
        {
          "output_type": "stream",
          "name": "stdout",
          "text": [
            "Generating file for id id01163\n",
            "[MoviePy] Writing audio in /content/drive/MyDrive/DeepFakeDetection/data/FakeAVCeleb_v1.2/real_videos_train/id01163/00006.wav\n"
          ]
        },
        {
          "output_type": "stream",
          "name": "stderr",
          "text": [
            "100%|██████████| 479/479 [00:00<00:00, 3213.49it/s]"
          ]
        },
        {
          "output_type": "stream",
          "name": "stdout",
          "text": [
            "[MoviePy] Done.\n"
          ]
        },
        {
          "output_type": "stream",
          "name": "stderr",
          "text": [
            "\n"
          ]
        },
        {
          "output_type": "stream",
          "name": "stdout",
          "text": [
            "Generating file for id id01163\n",
            "[MoviePy] Writing audio in /content/drive/MyDrive/DeepFakeDetection/data/FakeAVCeleb_v1.2/real_videos_train/id01163/00008.wav\n"
          ]
        },
        {
          "output_type": "stream",
          "name": "stderr",
          "text": [
            "100%|██████████| 223/223 [00:00<00:00, 3120.55it/s]"
          ]
        },
        {
          "output_type": "stream",
          "name": "stdout",
          "text": [
            "[MoviePy] Done.\n"
          ]
        },
        {
          "output_type": "stream",
          "name": "stderr",
          "text": [
            "\n"
          ]
        },
        {
          "output_type": "stream",
          "name": "stdout",
          "text": [
            "Generating file for id id01163\n",
            "[MoviePy] Writing audio in /content/drive/MyDrive/DeepFakeDetection/data/FakeAVCeleb_v1.2/real_videos_train/id01163/00007.wav\n"
          ]
        },
        {
          "output_type": "stream",
          "name": "stderr",
          "text": [
            "100%|██████████| 413/413 [00:00<00:00, 3274.29it/s]"
          ]
        },
        {
          "output_type": "stream",
          "name": "stdout",
          "text": [
            "[MoviePy] Done.\n"
          ]
        },
        {
          "output_type": "stream",
          "name": "stderr",
          "text": [
            "\n"
          ]
        },
        {
          "output_type": "stream",
          "name": "stdout",
          "text": [
            "Generating file for id id01163\n",
            "[MoviePy] Writing audio in /content/drive/MyDrive/DeepFakeDetection/data/FakeAVCeleb_v1.2/real_videos_train/id01163/00009.wav\n"
          ]
        },
        {
          "output_type": "stream",
          "name": "stderr",
          "text": [
            "100%|██████████| 199/199 [00:00<00:00, 3053.59it/s]"
          ]
        },
        {
          "output_type": "stream",
          "name": "stdout",
          "text": [
            "[MoviePy] Done.\n"
          ]
        },
        {
          "output_type": "stream",
          "name": "stderr",
          "text": [
            "\n"
          ]
        },
        {
          "output_type": "stream",
          "name": "stdout",
          "text": [
            "Generating file for id id01163\n",
            "[MoviePy] Writing audio in /content/drive/MyDrive/DeepFakeDetection/data/FakeAVCeleb_v1.2/real_videos_train/id01163/00012.wav\n"
          ]
        },
        {
          "output_type": "stream",
          "name": "stderr",
          "text": [
            "100%|██████████| 111/111 [00:00<00:00, 2792.43it/s]"
          ]
        },
        {
          "output_type": "stream",
          "name": "stdout",
          "text": [
            "[MoviePy] Done.\n"
          ]
        },
        {
          "output_type": "stream",
          "name": "stderr",
          "text": [
            "\n"
          ]
        },
        {
          "output_type": "stream",
          "name": "stdout",
          "text": [
            "Generating file for id id01163\n",
            "[MoviePy] Writing audio in /content/drive/MyDrive/DeepFakeDetection/data/FakeAVCeleb_v1.2/real_videos_train/id01163/00010.wav\n"
          ]
        },
        {
          "output_type": "stream",
          "name": "stderr",
          "text": [
            "100%|██████████| 234/234 [00:00<00:00, 3132.53it/s]"
          ]
        },
        {
          "output_type": "stream",
          "name": "stdout",
          "text": [
            "[MoviePy] Done.\n"
          ]
        },
        {
          "output_type": "stream",
          "name": "stderr",
          "text": [
            "\n"
          ]
        },
        {
          "output_type": "stream",
          "name": "stdout",
          "text": [
            "Generating file for id id01163\n",
            "[MoviePy] Writing audio in /content/drive/MyDrive/DeepFakeDetection/data/FakeAVCeleb_v1.2/real_videos_train/id01163/00013.wav\n"
          ]
        },
        {
          "output_type": "stream",
          "name": "stderr",
          "text": [
            "100%|██████████| 378/378 [00:00<00:00, 3145.62it/s]"
          ]
        },
        {
          "output_type": "stream",
          "name": "stdout",
          "text": [
            "[MoviePy] Done.\n"
          ]
        },
        {
          "output_type": "stream",
          "name": "stderr",
          "text": [
            "\n"
          ]
        },
        {
          "output_type": "stream",
          "name": "stdout",
          "text": [
            "Generating file for id id01163\n",
            "[MoviePy] Writing audio in /content/drive/MyDrive/DeepFakeDetection/data/FakeAVCeleb_v1.2/real_videos_train/id01163/00015.wav\n"
          ]
        },
        {
          "output_type": "stream",
          "name": "stderr",
          "text": [
            "100%|██████████| 151/151 [00:00<00:00, 2100.83it/s]"
          ]
        },
        {
          "output_type": "stream",
          "name": "stdout",
          "text": [
            "[MoviePy] Done.\n"
          ]
        },
        {
          "output_type": "stream",
          "name": "stderr",
          "text": [
            "\n"
          ]
        },
        {
          "output_type": "stream",
          "name": "stdout",
          "text": [
            "Generating file for id id01163\n",
            "[MoviePy] Writing audio in /content/drive/MyDrive/DeepFakeDetection/data/FakeAVCeleb_v1.2/real_videos_train/id01163/00014.wav\n"
          ]
        },
        {
          "output_type": "stream",
          "name": "stderr",
          "text": [
            "100%|██████████| 113/113 [00:00<00:00, 2867.65it/s]"
          ]
        },
        {
          "output_type": "stream",
          "name": "stdout",
          "text": [
            "[MoviePy] Done.\n"
          ]
        },
        {
          "output_type": "stream",
          "name": "stderr",
          "text": [
            "\n"
          ]
        },
        {
          "output_type": "stream",
          "name": "stdout",
          "text": [
            "Generating file for id id01163\n",
            "[MoviePy] Writing audio in /content/drive/MyDrive/DeepFakeDetection/data/FakeAVCeleb_v1.2/real_videos_train/id01163/00017.wav\n"
          ]
        },
        {
          "output_type": "stream",
          "name": "stderr",
          "text": [
            "100%|██████████| 94/94 [00:00<00:00, 3130.67it/s]"
          ]
        },
        {
          "output_type": "stream",
          "name": "stdout",
          "text": [
            "[MoviePy] Done.\n"
          ]
        },
        {
          "output_type": "stream",
          "name": "stderr",
          "text": [
            "\n"
          ]
        },
        {
          "output_type": "stream",
          "name": "stdout",
          "text": [
            "Generating file for id id01163\n",
            "[MoviePy] Writing audio in /content/drive/MyDrive/DeepFakeDetection/data/FakeAVCeleb_v1.2/real_videos_train/id01163/00016.wav\n"
          ]
        },
        {
          "output_type": "stream",
          "name": "stderr",
          "text": [
            "100%|██████████| 107/107 [00:00<00:00, 3198.75it/s]"
          ]
        },
        {
          "output_type": "stream",
          "name": "stdout",
          "text": [
            "[MoviePy] Done.\n"
          ]
        },
        {
          "output_type": "stream",
          "name": "stderr",
          "text": [
            "\n"
          ]
        },
        {
          "output_type": "stream",
          "name": "stdout",
          "text": [
            "Generating file for id id01163\n",
            "[MoviePy] Writing audio in /content/drive/MyDrive/DeepFakeDetection/data/FakeAVCeleb_v1.2/real_videos_train/id01163/00019.wav\n"
          ]
        },
        {
          "output_type": "stream",
          "name": "stderr",
          "text": [
            "100%|██████████| 134/134 [00:00<00:00, 2975.23it/s]"
          ]
        },
        {
          "output_type": "stream",
          "name": "stdout",
          "text": [
            "[MoviePy] Done.\n"
          ]
        },
        {
          "output_type": "stream",
          "name": "stderr",
          "text": [
            "\n"
          ]
        },
        {
          "output_type": "stream",
          "name": "stdout",
          "text": [
            "Generating file for id id01163\n",
            "[MoviePy] Writing audio in /content/drive/MyDrive/DeepFakeDetection/data/FakeAVCeleb_v1.2/real_videos_train/id01163/00020.wav\n"
          ]
        },
        {
          "output_type": "stream",
          "name": "stderr",
          "text": [
            "100%|██████████| 113/113 [00:00<00:00, 2885.19it/s]"
          ]
        },
        {
          "output_type": "stream",
          "name": "stdout",
          "text": [
            "[MoviePy] Done.\n"
          ]
        },
        {
          "output_type": "stream",
          "name": "stderr",
          "text": [
            "\n"
          ]
        },
        {
          "output_type": "stream",
          "name": "stdout",
          "text": [
            "Generating file for id id01163\n",
            "[MoviePy] Writing audio in /content/drive/MyDrive/DeepFakeDetection/data/FakeAVCeleb_v1.2/real_videos_train/id01163/00023.wav\n"
          ]
        },
        {
          "output_type": "stream",
          "name": "stderr",
          "text": [
            "100%|██████████| 165/165 [00:00<00:00, 3088.82it/s]"
          ]
        },
        {
          "output_type": "stream",
          "name": "stdout",
          "text": [
            "[MoviePy] Done.\n"
          ]
        },
        {
          "output_type": "stream",
          "name": "stderr",
          "text": [
            "\n"
          ]
        },
        {
          "output_type": "stream",
          "name": "stdout",
          "text": [
            "Generating file for id id01163\n",
            "[MoviePy] Writing audio in /content/drive/MyDrive/DeepFakeDetection/data/FakeAVCeleb_v1.2/real_videos_train/id01163/00028.wav\n"
          ]
        },
        {
          "output_type": "stream",
          "name": "stderr",
          "text": [
            "100%|██████████| 115/115 [00:00<00:00, 2800.85it/s]"
          ]
        },
        {
          "output_type": "stream",
          "name": "stdout",
          "text": [
            "[MoviePy] Done.\n"
          ]
        },
        {
          "output_type": "stream",
          "name": "stderr",
          "text": [
            "\n"
          ]
        },
        {
          "output_type": "stream",
          "name": "stdout",
          "text": [
            "Generating file for id id01163\n",
            "[MoviePy] Writing audio in /content/drive/MyDrive/DeepFakeDetection/data/FakeAVCeleb_v1.2/real_videos_train/id01163/00029.wav\n"
          ]
        },
        {
          "output_type": "stream",
          "name": "stderr",
          "text": [
            "100%|██████████| 151/151 [00:00<00:00, 3015.13it/s]"
          ]
        },
        {
          "output_type": "stream",
          "name": "stdout",
          "text": [
            "[MoviePy] Done.\n"
          ]
        },
        {
          "output_type": "stream",
          "name": "stderr",
          "text": [
            "\n"
          ]
        },
        {
          "output_type": "stream",
          "name": "stdout",
          "text": [
            "Generating file for id id01163\n",
            "[MoviePy] Writing audio in /content/drive/MyDrive/DeepFakeDetection/data/FakeAVCeleb_v1.2/real_videos_train/id01163/00030.wav\n"
          ]
        },
        {
          "output_type": "stream",
          "name": "stderr",
          "text": [
            "100%|██████████| 94/94 [00:00<00:00, 2989.50it/s]"
          ]
        },
        {
          "output_type": "stream",
          "name": "stdout",
          "text": [
            "[MoviePy] Done.\n"
          ]
        },
        {
          "output_type": "stream",
          "name": "stderr",
          "text": [
            "\n"
          ]
        },
        {
          "output_type": "stream",
          "name": "stdout",
          "text": [
            "Generating file for id id01163\n",
            "[MoviePy] Writing audio in /content/drive/MyDrive/DeepFakeDetection/data/FakeAVCeleb_v1.2/real_videos_train/id01163/00033.wav\n"
          ]
        },
        {
          "output_type": "stream",
          "name": "stderr",
          "text": [
            "100%|██████████| 203/203 [00:00<00:00, 3297.70it/s]"
          ]
        },
        {
          "output_type": "stream",
          "name": "stdout",
          "text": [
            "[MoviePy] Done.\n"
          ]
        },
        {
          "output_type": "stream",
          "name": "stderr",
          "text": [
            "\n"
          ]
        },
        {
          "output_type": "stream",
          "name": "stdout",
          "text": [
            "Generating file for id id01163\n",
            "[MoviePy] Writing audio in /content/drive/MyDrive/DeepFakeDetection/data/FakeAVCeleb_v1.2/real_videos_train/id01163/00032.wav\n"
          ]
        },
        {
          "output_type": "stream",
          "name": "stderr",
          "text": [
            "100%|██████████| 285/285 [00:00<00:00, 3051.49it/s]"
          ]
        },
        {
          "output_type": "stream",
          "name": "stdout",
          "text": [
            "[MoviePy] Done.\n"
          ]
        },
        {
          "output_type": "stream",
          "name": "stderr",
          "text": [
            "\n"
          ]
        },
        {
          "output_type": "stream",
          "name": "stdout",
          "text": [
            "Generating file for id id01163\n",
            "[MoviePy] Writing audio in /content/drive/MyDrive/DeepFakeDetection/data/FakeAVCeleb_v1.2/real_videos_train/id01163/00034.wav\n"
          ]
        },
        {
          "output_type": "stream",
          "name": "stderr",
          "text": [
            "100%|██████████| 183/183 [00:00<00:00, 3060.85it/s]"
          ]
        },
        {
          "output_type": "stream",
          "name": "stdout",
          "text": [
            "[MoviePy] Done.\n"
          ]
        },
        {
          "output_type": "stream",
          "name": "stderr",
          "text": [
            "\n"
          ]
        },
        {
          "output_type": "stream",
          "name": "stdout",
          "text": [
            "Generating file for id id01163\n",
            "[MoviePy] Writing audio in /content/drive/MyDrive/DeepFakeDetection/data/FakeAVCeleb_v1.2/real_videos_train/id01163/00035.wav\n"
          ]
        },
        {
          "output_type": "stream",
          "name": "stderr",
          "text": [
            "100%|██████████| 297/297 [00:00<00:00, 3233.74it/s]"
          ]
        },
        {
          "output_type": "stream",
          "name": "stdout",
          "text": [
            "[MoviePy] Done.\n"
          ]
        },
        {
          "output_type": "stream",
          "name": "stderr",
          "text": [
            "\n"
          ]
        },
        {
          "output_type": "stream",
          "name": "stdout",
          "text": [
            "Generating file for id id01163\n",
            "[MoviePy] Writing audio in /content/drive/MyDrive/DeepFakeDetection/data/FakeAVCeleb_v1.2/real_videos_train/id01163/00036.wav\n"
          ]
        },
        {
          "output_type": "stream",
          "name": "stderr",
          "text": [
            "100%|██████████| 145/145 [00:00<00:00, 2929.66it/s]"
          ]
        },
        {
          "output_type": "stream",
          "name": "stdout",
          "text": [
            "[MoviePy] Done.\n"
          ]
        },
        {
          "output_type": "stream",
          "name": "stderr",
          "text": [
            "\n"
          ]
        },
        {
          "output_type": "stream",
          "name": "stdout",
          "text": [
            "Generating file for id id01163\n",
            "[MoviePy] Writing audio in /content/drive/MyDrive/DeepFakeDetection/data/FakeAVCeleb_v1.2/real_videos_train/id01163/00037.wav\n"
          ]
        },
        {
          "output_type": "stream",
          "name": "stderr",
          "text": [
            "100%|██████████| 227/227 [00:00<00:00, 3102.27it/s]"
          ]
        },
        {
          "output_type": "stream",
          "name": "stdout",
          "text": [
            "[MoviePy] Done.\n"
          ]
        },
        {
          "output_type": "stream",
          "name": "stderr",
          "text": [
            "\n"
          ]
        },
        {
          "output_type": "stream",
          "name": "stdout",
          "text": [
            "Generating file for id id01163\n",
            "[MoviePy] Writing audio in /content/drive/MyDrive/DeepFakeDetection/data/FakeAVCeleb_v1.2/real_videos_train/id01163/00056.wav\n"
          ]
        },
        {
          "output_type": "stream",
          "name": "stderr",
          "text": [
            "100%|██████████| 97/97 [00:00<00:00, 3161.53it/s]"
          ]
        },
        {
          "output_type": "stream",
          "name": "stdout",
          "text": [
            "[MoviePy] Done.\n"
          ]
        },
        {
          "output_type": "stream",
          "name": "stderr",
          "text": [
            "\n"
          ]
        },
        {
          "output_type": "stream",
          "name": "stdout",
          "text": [
            "Generating file for id id01163\n",
            "[MoviePy] Writing audio in /content/drive/MyDrive/DeepFakeDetection/data/FakeAVCeleb_v1.2/real_videos_train/id01163/00055.wav\n"
          ]
        },
        {
          "output_type": "stream",
          "name": "stderr",
          "text": [
            "100%|██████████| 93/93 [00:00<00:00, 3130.81it/s]"
          ]
        },
        {
          "output_type": "stream",
          "name": "stdout",
          "text": [
            "[MoviePy] Done.\n"
          ]
        },
        {
          "output_type": "stream",
          "name": "stderr",
          "text": [
            "\n"
          ]
        },
        {
          "output_type": "stream",
          "name": "stdout",
          "text": [
            "Generating file for id id01163\n",
            "[MoviePy] Writing audio in /content/drive/MyDrive/DeepFakeDetection/data/FakeAVCeleb_v1.2/real_videos_train/id01163/00058.wav\n"
          ]
        },
        {
          "output_type": "stream",
          "name": "stderr",
          "text": [
            "100%|██████████| 119/119 [00:00<00:00, 2619.14it/s]"
          ]
        },
        {
          "output_type": "stream",
          "name": "stdout",
          "text": [
            "[MoviePy] Done.\n"
          ]
        },
        {
          "output_type": "stream",
          "name": "stderr",
          "text": [
            "\n"
          ]
        },
        {
          "output_type": "stream",
          "name": "stdout",
          "text": [
            "Generating file for id id01163\n",
            "[MoviePy] Writing audio in /content/drive/MyDrive/DeepFakeDetection/data/FakeAVCeleb_v1.2/real_videos_train/id01163/00057.wav\n"
          ]
        },
        {
          "output_type": "stream",
          "name": "stderr",
          "text": [
            "100%|██████████| 118/118 [00:00<00:00, 2780.62it/s]"
          ]
        },
        {
          "output_type": "stream",
          "name": "stdout",
          "text": [
            "[MoviePy] Done.\n"
          ]
        },
        {
          "output_type": "stream",
          "name": "stderr",
          "text": [
            "\n"
          ]
        },
        {
          "output_type": "stream",
          "name": "stdout",
          "text": [
            "Generating file for id id01163\n",
            "[MoviePy] Writing audio in /content/drive/MyDrive/DeepFakeDetection/data/FakeAVCeleb_v1.2/real_videos_train/id01163/00059.wav\n"
          ]
        },
        {
          "output_type": "stream",
          "name": "stderr",
          "text": [
            "100%|██████████| 131/131 [00:00<00:00, 2921.91it/s]"
          ]
        },
        {
          "output_type": "stream",
          "name": "stdout",
          "text": [
            "[MoviePy] Done.\n"
          ]
        },
        {
          "output_type": "stream",
          "name": "stderr",
          "text": [
            "\n"
          ]
        },
        {
          "output_type": "stream",
          "name": "stdout",
          "text": [
            "Generating file for id id01163\n",
            "[MoviePy] Writing audio in /content/drive/MyDrive/DeepFakeDetection/data/FakeAVCeleb_v1.2/real_videos_train/id01163/00060.wav\n"
          ]
        },
        {
          "output_type": "stream",
          "name": "stderr",
          "text": [
            "100%|██████████| 146/146 [00:00<00:00, 3037.01it/s]"
          ]
        },
        {
          "output_type": "stream",
          "name": "stdout",
          "text": [
            "[MoviePy] Done.\n"
          ]
        },
        {
          "output_type": "stream",
          "name": "stderr",
          "text": [
            "\n"
          ]
        },
        {
          "output_type": "stream",
          "name": "stdout",
          "text": [
            "Generating file for id id01163\n",
            "[MoviePy] Writing audio in /content/drive/MyDrive/DeepFakeDetection/data/FakeAVCeleb_v1.2/real_videos_train/id01163/00061.wav\n"
          ]
        },
        {
          "output_type": "stream",
          "name": "stderr",
          "text": [
            "100%|██████████| 127/127 [00:00<00:00, 2728.25it/s]"
          ]
        },
        {
          "output_type": "stream",
          "name": "stdout",
          "text": [
            "[MoviePy] Done.\n"
          ]
        },
        {
          "output_type": "stream",
          "name": "stderr",
          "text": [
            "\n"
          ]
        },
        {
          "output_type": "stream",
          "name": "stdout",
          "text": [
            "Generating file for id id01163\n",
            "[MoviePy] Writing audio in /content/drive/MyDrive/DeepFakeDetection/data/FakeAVCeleb_v1.2/real_videos_train/id01163/00063.wav\n"
          ]
        },
        {
          "output_type": "stream",
          "name": "stderr",
          "text": [
            "100%|██████████| 199/199 [00:00<00:00, 3030.75it/s]"
          ]
        },
        {
          "output_type": "stream",
          "name": "stdout",
          "text": [
            "[MoviePy] Done.\n"
          ]
        },
        {
          "output_type": "stream",
          "name": "stderr",
          "text": [
            "\n"
          ]
        },
        {
          "output_type": "stream",
          "name": "stdout",
          "text": [
            "Generating file for id id01163\n",
            "[MoviePy] Writing audio in /content/drive/MyDrive/DeepFakeDetection/data/FakeAVCeleb_v1.2/real_videos_train/id01163/00062.wav\n"
          ]
        },
        {
          "output_type": "stream",
          "name": "stderr",
          "text": [
            "100%|██████████| 105/105 [00:00<00:00, 3091.69it/s]"
          ]
        },
        {
          "output_type": "stream",
          "name": "stdout",
          "text": [
            "[MoviePy] Done.\n"
          ]
        },
        {
          "output_type": "stream",
          "name": "stderr",
          "text": [
            "\n"
          ]
        },
        {
          "output_type": "stream",
          "name": "stdout",
          "text": [
            "Generating file for id id01163\n",
            "[MoviePy] Writing audio in /content/drive/MyDrive/DeepFakeDetection/data/FakeAVCeleb_v1.2/real_videos_train/id01163/00064.wav\n"
          ]
        },
        {
          "output_type": "stream",
          "name": "stderr",
          "text": [
            "100%|██████████| 162/162 [00:00<00:00, 2948.71it/s]"
          ]
        },
        {
          "output_type": "stream",
          "name": "stdout",
          "text": [
            "[MoviePy] Done.\n"
          ]
        },
        {
          "output_type": "stream",
          "name": "stderr",
          "text": [
            "\n"
          ]
        },
        {
          "output_type": "stream",
          "name": "stdout",
          "text": [
            "Generating file for id id01163\n",
            "[MoviePy] Writing audio in /content/drive/MyDrive/DeepFakeDetection/data/FakeAVCeleb_v1.2/real_videos_train/id01163/00065.wav\n"
          ]
        },
        {
          "output_type": "stream",
          "name": "stderr",
          "text": [
            "100%|██████████| 276/276 [00:00<00:00, 3070.82it/s]"
          ]
        },
        {
          "output_type": "stream",
          "name": "stdout",
          "text": [
            "[MoviePy] Done.\n"
          ]
        },
        {
          "output_type": "stream",
          "name": "stderr",
          "text": [
            "\n"
          ]
        },
        {
          "output_type": "stream",
          "name": "stdout",
          "text": [
            "Generating file for id id01163\n",
            "[MoviePy] Writing audio in /content/drive/MyDrive/DeepFakeDetection/data/FakeAVCeleb_v1.2/real_videos_train/id01163/00066.wav\n"
          ]
        },
        {
          "output_type": "stream",
          "name": "stderr",
          "text": [
            "100%|██████████| 114/114 [00:00<00:00, 2884.54it/s]"
          ]
        },
        {
          "output_type": "stream",
          "name": "stdout",
          "text": [
            "[MoviePy] Done.\n"
          ]
        },
        {
          "output_type": "stream",
          "name": "stderr",
          "text": [
            "\n"
          ]
        },
        {
          "output_type": "stream",
          "name": "stdout",
          "text": [
            "Generating file for id id01163\n",
            "[MoviePy] Writing audio in /content/drive/MyDrive/DeepFakeDetection/data/FakeAVCeleb_v1.2/real_videos_train/id01163/00068.wav\n"
          ]
        },
        {
          "output_type": "stream",
          "name": "stderr",
          "text": [
            "100%|██████████| 109/109 [00:00<00:00, 2969.91it/s]"
          ]
        },
        {
          "output_type": "stream",
          "name": "stdout",
          "text": [
            "[MoviePy] Done.\n"
          ]
        },
        {
          "output_type": "stream",
          "name": "stderr",
          "text": [
            "\n"
          ]
        },
        {
          "output_type": "stream",
          "name": "stdout",
          "text": [
            "Generating file for id id01163\n",
            "[MoviePy] Writing audio in /content/drive/MyDrive/DeepFakeDetection/data/FakeAVCeleb_v1.2/real_videos_train/id01163/00067.wav\n"
          ]
        },
        {
          "output_type": "stream",
          "name": "stderr",
          "text": [
            "100%|██████████| 115/115 [00:00<00:00, 2983.29it/s]"
          ]
        },
        {
          "output_type": "stream",
          "name": "stdout",
          "text": [
            "[MoviePy] Done.\n"
          ]
        },
        {
          "output_type": "stream",
          "name": "stderr",
          "text": [
            "\n"
          ]
        },
        {
          "output_type": "stream",
          "name": "stdout",
          "text": [
            "Generating file for id id01163\n",
            "[MoviePy] Writing audio in /content/drive/MyDrive/DeepFakeDetection/data/FakeAVCeleb_v1.2/real_videos_train/id01163/00070.wav\n"
          ]
        },
        {
          "output_type": "stream",
          "name": "stderr",
          "text": [
            "100%|██████████| 140/140 [00:00<00:00, 2958.97it/s]"
          ]
        },
        {
          "output_type": "stream",
          "name": "stdout",
          "text": [
            "[MoviePy] Done.\n"
          ]
        },
        {
          "output_type": "stream",
          "name": "stderr",
          "text": [
            "\n"
          ]
        },
        {
          "output_type": "stream",
          "name": "stdout",
          "text": [
            "Generating file for id id01163\n",
            "[MoviePy] Writing audio in /content/drive/MyDrive/DeepFakeDetection/data/FakeAVCeleb_v1.2/real_videos_train/id01163/00069.wav\n"
          ]
        },
        {
          "output_type": "stream",
          "name": "stderr",
          "text": [
            "100%|██████████| 90/90 [00:00<00:00, 3033.27it/s]"
          ]
        },
        {
          "output_type": "stream",
          "name": "stdout",
          "text": [
            "[MoviePy] Done.\n",
            "Generating file for id id01163\n",
            "[MoviePy] Writing audio in /content/drive/MyDrive/DeepFakeDetection/data/FakeAVCeleb_v1.2/real_videos_train/id01163/00071.wav\n"
          ]
        },
        {
          "output_type": "stream",
          "name": "stderr",
          "text": [
            "\n",
            "100%|██████████| 139/139 [00:00<00:00, 3161.80it/s]"
          ]
        },
        {
          "output_type": "stream",
          "name": "stdout",
          "text": [
            "[MoviePy] Done.\n"
          ]
        },
        {
          "output_type": "stream",
          "name": "stderr",
          "text": [
            "\n"
          ]
        },
        {
          "output_type": "stream",
          "name": "stdout",
          "text": [
            "Generating file for id id01163\n",
            "[MoviePy] Writing audio in /content/drive/MyDrive/DeepFakeDetection/data/FakeAVCeleb_v1.2/real_videos_train/id01163/00072.wav\n"
          ]
        },
        {
          "output_type": "stream",
          "name": "stderr",
          "text": [
            "100%|██████████| 115/115 [00:00<00:00, 2899.60it/s]"
          ]
        },
        {
          "output_type": "stream",
          "name": "stdout",
          "text": [
            "[MoviePy] Done.\n"
          ]
        },
        {
          "output_type": "stream",
          "name": "stderr",
          "text": [
            "\n"
          ]
        },
        {
          "output_type": "stream",
          "name": "stdout",
          "text": [
            "Generating file for id id01163\n",
            "[MoviePy] Writing audio in /content/drive/MyDrive/DeepFakeDetection/data/FakeAVCeleb_v1.2/real_videos_train/id01163/00073.wav\n"
          ]
        },
        {
          "output_type": "stream",
          "name": "stderr",
          "text": [
            "100%|██████████| 124/124 [00:00<00:00, 3087.25it/s]"
          ]
        },
        {
          "output_type": "stream",
          "name": "stdout",
          "text": [
            "[MoviePy] Done.\n"
          ]
        },
        {
          "output_type": "stream",
          "name": "stderr",
          "text": [
            "\n"
          ]
        },
        {
          "output_type": "stream",
          "name": "stdout",
          "text": [
            "Generating file for id id01163\n",
            "[MoviePy] Writing audio in /content/drive/MyDrive/DeepFakeDetection/data/FakeAVCeleb_v1.2/real_videos_train/id01163/00074.wav\n"
          ]
        },
        {
          "output_type": "stream",
          "name": "stderr",
          "text": [
            "100%|██████████| 101/101 [00:00<00:00, 3131.74it/s]"
          ]
        },
        {
          "output_type": "stream",
          "name": "stdout",
          "text": [
            "[MoviePy] Done.\n"
          ]
        },
        {
          "output_type": "stream",
          "name": "stderr",
          "text": [
            "\n"
          ]
        },
        {
          "output_type": "stream",
          "name": "stdout",
          "text": [
            "Generating file for id id01163\n",
            "[MoviePy] Writing audio in /content/drive/MyDrive/DeepFakeDetection/data/FakeAVCeleb_v1.2/real_videos_train/id01163/00075.wav\n"
          ]
        },
        {
          "output_type": "stream",
          "name": "stderr",
          "text": [
            "100%|██████████| 170/170 [00:00<00:00, 3105.96it/s]"
          ]
        },
        {
          "output_type": "stream",
          "name": "stdout",
          "text": [
            "[MoviePy] Done.\n"
          ]
        },
        {
          "output_type": "stream",
          "name": "stderr",
          "text": [
            "\n"
          ]
        },
        {
          "output_type": "stream",
          "name": "stdout",
          "text": [
            "Generating file for id id01163\n",
            "[MoviePy] Writing audio in /content/drive/MyDrive/DeepFakeDetection/data/FakeAVCeleb_v1.2/real_videos_train/id01163/00076.wav\n"
          ]
        },
        {
          "output_type": "stream",
          "name": "stderr",
          "text": [
            "100%|██████████| 165/165 [00:00<00:00, 3105.82it/s]"
          ]
        },
        {
          "output_type": "stream",
          "name": "stdout",
          "text": [
            "[MoviePy] Done.\n"
          ]
        },
        {
          "output_type": "stream",
          "name": "stderr",
          "text": [
            "\n"
          ]
        },
        {
          "output_type": "stream",
          "name": "stdout",
          "text": [
            "Generating file for id id01163\n",
            "[MoviePy] Writing audio in /content/drive/MyDrive/DeepFakeDetection/data/FakeAVCeleb_v1.2/real_videos_train/id01163/00077.wav\n"
          ]
        },
        {
          "output_type": "stream",
          "name": "stderr",
          "text": [
            "100%|██████████| 148/148 [00:00<00:00, 3056.12it/s]"
          ]
        },
        {
          "output_type": "stream",
          "name": "stdout",
          "text": [
            "[MoviePy] Done.\n"
          ]
        },
        {
          "output_type": "stream",
          "name": "stderr",
          "text": [
            "\n"
          ]
        },
        {
          "output_type": "stream",
          "name": "stdout",
          "text": [
            "Generating file for id id01163\n",
            "[MoviePy] Writing audio in /content/drive/MyDrive/DeepFakeDetection/data/FakeAVCeleb_v1.2/real_videos_train/id01163/00078.wav\n"
          ]
        },
        {
          "output_type": "stream",
          "name": "stderr",
          "text": [
            "100%|██████████| 426/426 [00:00<00:00, 3258.45it/s]"
          ]
        },
        {
          "output_type": "stream",
          "name": "stdout",
          "text": [
            "[MoviePy] Done.\n"
          ]
        },
        {
          "output_type": "stream",
          "name": "stderr",
          "text": [
            "\n"
          ]
        },
        {
          "output_type": "stream",
          "name": "stdout",
          "text": [
            "Generating file for id id01163\n",
            "[MoviePy] Writing audio in /content/drive/MyDrive/DeepFakeDetection/data/FakeAVCeleb_v1.2/real_videos_train/id01163/00079.wav\n"
          ]
        },
        {
          "output_type": "stream",
          "name": "stderr",
          "text": [
            "100%|██████████| 186/186 [00:00<00:00, 3193.50it/s]"
          ]
        },
        {
          "output_type": "stream",
          "name": "stdout",
          "text": [
            "[MoviePy] Done.\n"
          ]
        },
        {
          "output_type": "stream",
          "name": "stderr",
          "text": [
            "\n"
          ]
        },
        {
          "output_type": "stream",
          "name": "stdout",
          "text": [
            "Generating file for id id01163\n",
            "[MoviePy] Writing audio in /content/drive/MyDrive/DeepFakeDetection/data/FakeAVCeleb_v1.2/real_videos_train/id01163/00080.wav\n"
          ]
        },
        {
          "output_type": "stream",
          "name": "stderr",
          "text": [
            "100%|██████████| 154/154 [00:00<00:00, 3180.90it/s]"
          ]
        },
        {
          "output_type": "stream",
          "name": "stdout",
          "text": [
            "[MoviePy] Done.\n"
          ]
        },
        {
          "output_type": "stream",
          "name": "stderr",
          "text": [
            "\n"
          ]
        },
        {
          "output_type": "stream",
          "name": "stdout",
          "text": [
            "Generating file for id id01163\n",
            "[MoviePy] Writing audio in /content/drive/MyDrive/DeepFakeDetection/data/FakeAVCeleb_v1.2/real_videos_train/id01163/00082.wav\n"
          ]
        },
        {
          "output_type": "stream",
          "name": "stderr",
          "text": [
            "100%|██████████| 145/145 [00:00<00:00, 3151.77it/s]"
          ]
        },
        {
          "output_type": "stream",
          "name": "stdout",
          "text": [
            "[MoviePy] Done.\n"
          ]
        },
        {
          "output_type": "stream",
          "name": "stderr",
          "text": [
            "\n"
          ]
        },
        {
          "output_type": "stream",
          "name": "stdout",
          "text": [
            "Generating file for id id01163\n",
            "[MoviePy] Writing audio in /content/drive/MyDrive/DeepFakeDetection/data/FakeAVCeleb_v1.2/real_videos_train/id01163/00081.wav\n"
          ]
        },
        {
          "output_type": "stream",
          "name": "stderr",
          "text": [
            "100%|██████████| 284/284 [00:00<00:00, 3287.08it/s]"
          ]
        },
        {
          "output_type": "stream",
          "name": "stdout",
          "text": [
            "[MoviePy] Done.\n"
          ]
        },
        {
          "output_type": "stream",
          "name": "stderr",
          "text": [
            "\n"
          ]
        },
        {
          "output_type": "stream",
          "name": "stdout",
          "text": [
            "Generating file for id id01163\n",
            "[MoviePy] Writing audio in /content/drive/MyDrive/DeepFakeDetection/data/FakeAVCeleb_v1.2/real_videos_train/id01163/00083.wav\n"
          ]
        },
        {
          "output_type": "stream",
          "name": "stderr",
          "text": [
            "100%|██████████| 242/242 [00:00<00:00, 2987.49it/s]"
          ]
        },
        {
          "output_type": "stream",
          "name": "stdout",
          "text": [
            "[MoviePy] Done.\n"
          ]
        },
        {
          "output_type": "stream",
          "name": "stderr",
          "text": [
            "\n"
          ]
        },
        {
          "output_type": "stream",
          "name": "stdout",
          "text": [
            "Generating file for id id01163\n",
            "[MoviePy] Writing audio in /content/drive/MyDrive/DeepFakeDetection/data/FakeAVCeleb_v1.2/real_videos_train/id01163/00084.wav\n"
          ]
        },
        {
          "output_type": "stream",
          "name": "stderr",
          "text": [
            "100%|██████████| 93/93 [00:00<00:00, 3113.49it/s]"
          ]
        },
        {
          "output_type": "stream",
          "name": "stdout",
          "text": [
            "[MoviePy] Done.\n"
          ]
        },
        {
          "output_type": "stream",
          "name": "stderr",
          "text": [
            "\n"
          ]
        },
        {
          "output_type": "stream",
          "name": "stdout",
          "text": [
            "Generating file for id id01163\n",
            "[MoviePy] Writing audio in /content/drive/MyDrive/DeepFakeDetection/data/FakeAVCeleb_v1.2/real_videos_train/id01163/00085.wav\n"
          ]
        },
        {
          "output_type": "stream",
          "name": "stderr",
          "text": [
            "100%|██████████| 133/133 [00:00<00:00, 2931.28it/s]"
          ]
        },
        {
          "output_type": "stream",
          "name": "stdout",
          "text": [
            "[MoviePy] Done.\n"
          ]
        },
        {
          "output_type": "stream",
          "name": "stderr",
          "text": [
            "\n"
          ]
        },
        {
          "output_type": "stream",
          "name": "stdout",
          "text": [
            "Generating file for id id01163\n",
            "[MoviePy] Writing audio in /content/drive/MyDrive/DeepFakeDetection/data/FakeAVCeleb_v1.2/real_videos_train/id01163/00086.wav\n"
          ]
        },
        {
          "output_type": "stream",
          "name": "stderr",
          "text": [
            "100%|██████████| 566/566 [00:00<00:00, 3367.18it/s]"
          ]
        },
        {
          "output_type": "stream",
          "name": "stdout",
          "text": [
            "[MoviePy] Done.\n"
          ]
        },
        {
          "output_type": "stream",
          "name": "stderr",
          "text": [
            "\n"
          ]
        },
        {
          "output_type": "stream",
          "name": "stdout",
          "text": [
            "Generating file for id id01163\n",
            "[MoviePy] Writing audio in /content/drive/MyDrive/DeepFakeDetection/data/FakeAVCeleb_v1.2/real_videos_train/id01163/00087.wav\n"
          ]
        },
        {
          "output_type": "stream",
          "name": "stderr",
          "text": [
            "100%|██████████| 164/164 [00:00<00:00, 3064.97it/s]"
          ]
        },
        {
          "output_type": "stream",
          "name": "stdout",
          "text": [
            "[MoviePy] Done.\n"
          ]
        },
        {
          "output_type": "stream",
          "name": "stderr",
          "text": [
            "\n"
          ]
        },
        {
          "output_type": "stream",
          "name": "stdout",
          "text": [
            "Generating file for id id01163\n",
            "[MoviePy] Writing audio in /content/drive/MyDrive/DeepFakeDetection/data/FakeAVCeleb_v1.2/real_videos_train/id01163/00088.wav\n"
          ]
        },
        {
          "output_type": "stream",
          "name": "stderr",
          "text": [
            "100%|██████████| 130/130 [00:00<00:00, 2190.94it/s]"
          ]
        },
        {
          "output_type": "stream",
          "name": "stdout",
          "text": [
            "[MoviePy] Done.\n"
          ]
        },
        {
          "output_type": "stream",
          "name": "stderr",
          "text": [
            "\n"
          ]
        },
        {
          "output_type": "stream",
          "name": "stdout",
          "text": [
            "Generating file for id id01163\n",
            "[MoviePy] Writing audio in /content/drive/MyDrive/DeepFakeDetection/data/FakeAVCeleb_v1.2/real_videos_train/id01163/00090.wav\n"
          ]
        },
        {
          "output_type": "stream",
          "name": "stderr",
          "text": [
            "100%|██████████| 221/221 [00:00<00:00, 3111.07it/s]"
          ]
        },
        {
          "output_type": "stream",
          "name": "stdout",
          "text": [
            "[MoviePy] Done.\n"
          ]
        },
        {
          "output_type": "stream",
          "name": "stderr",
          "text": [
            "\n"
          ]
        },
        {
          "output_type": "stream",
          "name": "stdout",
          "text": [
            "Generating file for id id01163\n",
            "[MoviePy] Writing audio in /content/drive/MyDrive/DeepFakeDetection/data/FakeAVCeleb_v1.2/real_videos_train/id01163/00089.wav\n"
          ]
        },
        {
          "output_type": "stream",
          "name": "stderr",
          "text": [
            "100%|██████████| 147/147 [00:00<00:00, 3016.84it/s]"
          ]
        },
        {
          "output_type": "stream",
          "name": "stdout",
          "text": [
            "[MoviePy] Done.\n"
          ]
        },
        {
          "output_type": "stream",
          "name": "stderr",
          "text": [
            "\n"
          ]
        },
        {
          "output_type": "stream",
          "name": "stdout",
          "text": [
            "Generating file for id id01163\n",
            "[MoviePy] Writing audio in /content/drive/MyDrive/DeepFakeDetection/data/FakeAVCeleb_v1.2/real_videos_train/id01163/00092.wav\n"
          ]
        },
        {
          "output_type": "stream",
          "name": "stderr",
          "text": [
            "100%|██████████| 116/116 [00:00<00:00, 2892.83it/s]"
          ]
        },
        {
          "output_type": "stream",
          "name": "stdout",
          "text": [
            "[MoviePy] Done.\n"
          ]
        },
        {
          "output_type": "stream",
          "name": "stderr",
          "text": [
            "\n"
          ]
        },
        {
          "output_type": "stream",
          "name": "stdout",
          "text": [
            "Generating file for id id01163\n",
            "[MoviePy] Writing audio in /content/drive/MyDrive/DeepFakeDetection/data/FakeAVCeleb_v1.2/real_videos_train/id01163/00091.wav\n"
          ]
        },
        {
          "output_type": "stream",
          "name": "stderr",
          "text": [
            "100%|██████████| 432/432 [00:00<00:00, 2673.24it/s]"
          ]
        },
        {
          "output_type": "stream",
          "name": "stdout",
          "text": [
            "[MoviePy] Done.\n"
          ]
        },
        {
          "output_type": "stream",
          "name": "stderr",
          "text": [
            "\n"
          ]
        },
        {
          "output_type": "stream",
          "name": "stdout",
          "text": [
            "Generating file for id id01163\n",
            "[MoviePy] Writing audio in /content/drive/MyDrive/DeepFakeDetection/data/FakeAVCeleb_v1.2/real_videos_train/id01163/00093.wav\n"
          ]
        },
        {
          "output_type": "stream",
          "name": "stderr",
          "text": [
            "100%|██████████| 325/325 [00:00<00:00, 3293.82it/s]"
          ]
        },
        {
          "output_type": "stream",
          "name": "stdout",
          "text": [
            "[MoviePy] Done.\n"
          ]
        },
        {
          "output_type": "stream",
          "name": "stderr",
          "text": [
            "\n"
          ]
        },
        {
          "output_type": "stream",
          "name": "stdout",
          "text": [
            "Generating file for id id01163\n",
            "[MoviePy] Writing audio in /content/drive/MyDrive/DeepFakeDetection/data/FakeAVCeleb_v1.2/real_videos_train/id01163/00095.wav\n"
          ]
        },
        {
          "output_type": "stream",
          "name": "stderr",
          "text": [
            "100%|██████████| 123/123 [00:00<00:00, 2829.11it/s]"
          ]
        },
        {
          "output_type": "stream",
          "name": "stdout",
          "text": [
            "[MoviePy] Done.\n"
          ]
        },
        {
          "output_type": "stream",
          "name": "stderr",
          "text": [
            "\n"
          ]
        },
        {
          "output_type": "stream",
          "name": "stdout",
          "text": [
            "Generating file for id id01163\n",
            "[MoviePy] Writing audio in /content/drive/MyDrive/DeepFakeDetection/data/FakeAVCeleb_v1.2/real_videos_train/id01163/00094.wav\n"
          ]
        },
        {
          "output_type": "stream",
          "name": "stderr",
          "text": [
            "100%|██████████| 425/425 [00:00<00:00, 3321.54it/s]"
          ]
        },
        {
          "output_type": "stream",
          "name": "stdout",
          "text": [
            "[MoviePy] Done.\n"
          ]
        },
        {
          "output_type": "stream",
          "name": "stderr",
          "text": [
            "\n"
          ]
        },
        {
          "output_type": "stream",
          "name": "stdout",
          "text": [
            "Generating file for id id01163\n",
            "[MoviePy] Writing audio in /content/drive/MyDrive/DeepFakeDetection/data/FakeAVCeleb_v1.2/real_videos_train/id01163/00096.wav\n"
          ]
        },
        {
          "output_type": "stream",
          "name": "stderr",
          "text": [
            "100%|██████████| 324/324 [00:00<00:00, 3336.89it/s]"
          ]
        },
        {
          "output_type": "stream",
          "name": "stdout",
          "text": [
            "[MoviePy] Done.\n"
          ]
        },
        {
          "output_type": "stream",
          "name": "stderr",
          "text": [
            "\n"
          ]
        },
        {
          "output_type": "stream",
          "name": "stdout",
          "text": [
            "Generating file for id id01163\n",
            "[MoviePy] Writing audio in /content/drive/MyDrive/DeepFakeDetection/data/FakeAVCeleb_v1.2/real_videos_train/id01163/00098.wav\n"
          ]
        },
        {
          "output_type": "stream",
          "name": "stderr",
          "text": [
            "100%|██████████| 105/105 [00:00<00:00, 3070.05it/s]"
          ]
        },
        {
          "output_type": "stream",
          "name": "stdout",
          "text": [
            "[MoviePy] Done.\n"
          ]
        },
        {
          "output_type": "stream",
          "name": "stderr",
          "text": [
            "\n"
          ]
        },
        {
          "output_type": "stream",
          "name": "stdout",
          "text": [
            "Generating file for id id01163\n",
            "[MoviePy] Writing audio in /content/drive/MyDrive/DeepFakeDetection/data/FakeAVCeleb_v1.2/real_videos_train/id01163/00097.wav\n"
          ]
        },
        {
          "output_type": "stream",
          "name": "stderr",
          "text": [
            "100%|██████████| 106/106 [00:00<00:00, 3177.50it/s]"
          ]
        },
        {
          "output_type": "stream",
          "name": "stdout",
          "text": [
            "[MoviePy] Done.\n"
          ]
        },
        {
          "output_type": "stream",
          "name": "stderr",
          "text": [
            "\n"
          ]
        },
        {
          "output_type": "stream",
          "name": "stdout",
          "text": [
            "Generating file for id id01163\n",
            "[MoviePy] Writing audio in /content/drive/MyDrive/DeepFakeDetection/data/FakeAVCeleb_v1.2/real_videos_train/id01163/00099.wav\n"
          ]
        },
        {
          "output_type": "stream",
          "name": "stderr",
          "text": [
            "100%|██████████| 238/238 [00:00<00:00, 3053.10it/s]"
          ]
        },
        {
          "output_type": "stream",
          "name": "stdout",
          "text": [
            "[MoviePy] Done.\n"
          ]
        },
        {
          "output_type": "stream",
          "name": "stderr",
          "text": [
            "\n"
          ]
        },
        {
          "output_type": "stream",
          "name": "stdout",
          "text": [
            "Generating file for id id01163\n",
            "[MoviePy] Writing audio in /content/drive/MyDrive/DeepFakeDetection/data/FakeAVCeleb_v1.2/real_videos_train/id01163/00100.wav\n"
          ]
        },
        {
          "output_type": "stream",
          "name": "stderr",
          "text": [
            "100%|██████████| 208/208 [00:00<00:00, 3250.14it/s]"
          ]
        },
        {
          "output_type": "stream",
          "name": "stdout",
          "text": [
            "[MoviePy] Done.\n"
          ]
        },
        {
          "output_type": "stream",
          "name": "stderr",
          "text": [
            "\n"
          ]
        },
        {
          "output_type": "stream",
          "name": "stdout",
          "text": [
            "Generating file for id id01163\n",
            "[MoviePy] Writing audio in /content/drive/MyDrive/DeepFakeDetection/data/FakeAVCeleb_v1.2/real_videos_train/id01163/00101.wav\n"
          ]
        },
        {
          "output_type": "stream",
          "name": "stderr",
          "text": [
            "100%|██████████| 259/259 [00:00<00:00, 3363.16it/s]"
          ]
        },
        {
          "output_type": "stream",
          "name": "stdout",
          "text": [
            "[MoviePy] Done.\n"
          ]
        },
        {
          "output_type": "stream",
          "name": "stderr",
          "text": [
            "\n"
          ]
        },
        {
          "output_type": "stream",
          "name": "stdout",
          "text": [
            "Generating file for id id01163\n",
            "[MoviePy] Writing audio in /content/drive/MyDrive/DeepFakeDetection/data/FakeAVCeleb_v1.2/real_videos_train/id01163/00103.wav\n"
          ]
        },
        {
          "output_type": "stream",
          "name": "stderr",
          "text": [
            "100%|██████████| 95/95 [00:00<00:00, 3042.32it/s]"
          ]
        },
        {
          "output_type": "stream",
          "name": "stdout",
          "text": [
            "[MoviePy] Done.\n"
          ]
        },
        {
          "output_type": "stream",
          "name": "stderr",
          "text": [
            "\n"
          ]
        },
        {
          "output_type": "stream",
          "name": "stdout",
          "text": [
            "Generating file for id id01163\n",
            "[MoviePy] Writing audio in /content/drive/MyDrive/DeepFakeDetection/data/FakeAVCeleb_v1.2/real_videos_train/id01163/00105.wav\n"
          ]
        },
        {
          "output_type": "stream",
          "name": "stderr",
          "text": [
            "100%|██████████| 131/131 [00:00<00:00, 2917.46it/s]"
          ]
        },
        {
          "output_type": "stream",
          "name": "stdout",
          "text": [
            "[MoviePy] Done.\n"
          ]
        },
        {
          "output_type": "stream",
          "name": "stderr",
          "text": [
            "\n"
          ]
        },
        {
          "output_type": "stream",
          "name": "stdout",
          "text": [
            "Generating file for id id01163\n",
            "[MoviePy] Writing audio in /content/drive/MyDrive/DeepFakeDetection/data/FakeAVCeleb_v1.2/real_videos_train/id01163/00104.wav\n"
          ]
        },
        {
          "output_type": "stream",
          "name": "stderr",
          "text": [
            "100%|██████████| 201/201 [00:00<00:00, 3096.86it/s]"
          ]
        },
        {
          "output_type": "stream",
          "name": "stdout",
          "text": [
            "[MoviePy] Done.\n"
          ]
        },
        {
          "output_type": "stream",
          "name": "stderr",
          "text": [
            "\n"
          ]
        },
        {
          "output_type": "stream",
          "name": "stdout",
          "text": [
            "Generating file for id id01163\n",
            "[MoviePy] Writing audio in /content/drive/MyDrive/DeepFakeDetection/data/FakeAVCeleb_v1.2/real_videos_train/id01163/00106.wav\n"
          ]
        },
        {
          "output_type": "stream",
          "name": "stderr",
          "text": [
            "100%|██████████| 261/261 [00:00<00:00, 3022.78it/s]"
          ]
        },
        {
          "output_type": "stream",
          "name": "stdout",
          "text": [
            "[MoviePy] Done.\n"
          ]
        },
        {
          "output_type": "stream",
          "name": "stderr",
          "text": [
            "\n"
          ]
        },
        {
          "output_type": "stream",
          "name": "stdout",
          "text": [
            "Generating file for id id01163\n",
            "[MoviePy] Writing audio in /content/drive/MyDrive/DeepFakeDetection/data/FakeAVCeleb_v1.2/real_videos_train/id01163/00107.wav\n"
          ]
        },
        {
          "output_type": "stream",
          "name": "stderr",
          "text": [
            "100%|██████████| 148/148 [00:00<00:00, 2663.67it/s]"
          ]
        },
        {
          "output_type": "stream",
          "name": "stdout",
          "text": [
            "[MoviePy] Done.\n"
          ]
        },
        {
          "output_type": "stream",
          "name": "stderr",
          "text": [
            "\n"
          ]
        },
        {
          "output_type": "stream",
          "name": "stdout",
          "text": [
            "Generating file for id id01163\n",
            "[MoviePy] Writing audio in /content/drive/MyDrive/DeepFakeDetection/data/FakeAVCeleb_v1.2/real_videos_train/id01163/00108.wav\n"
          ]
        },
        {
          "output_type": "stream",
          "name": "stderr",
          "text": [
            "100%|██████████| 136/136 [00:00<00:00, 2986.30it/s]"
          ]
        },
        {
          "output_type": "stream",
          "name": "stdout",
          "text": [
            "[MoviePy] Done.\n"
          ]
        },
        {
          "output_type": "stream",
          "name": "stderr",
          "text": [
            "\n"
          ]
        },
        {
          "output_type": "stream",
          "name": "stdout",
          "text": [
            "Generating file for id id01163\n",
            "[MoviePy] Writing audio in /content/drive/MyDrive/DeepFakeDetection/data/FakeAVCeleb_v1.2/real_videos_train/id01163/00110.wav\n"
          ]
        },
        {
          "output_type": "stream",
          "name": "stderr",
          "text": [
            "100%|██████████| 96/96 [00:00<00:00, 3365.65it/s]"
          ]
        },
        {
          "output_type": "stream",
          "name": "stdout",
          "text": [
            "[MoviePy] Done.\n",
            "Generating file for id id01163\n",
            "[MoviePy] Writing audio in /content/drive/MyDrive/DeepFakeDetection/data/FakeAVCeleb_v1.2/real_videos_train/id01163/00109.wav\n"
          ]
        },
        {
          "output_type": "stream",
          "name": "stderr",
          "text": [
            "\n",
            "100%|██████████| 107/107 [00:00<00:00, 1728.38it/s]"
          ]
        },
        {
          "output_type": "stream",
          "name": "stdout",
          "text": [
            "[MoviePy] Done.\n"
          ]
        },
        {
          "output_type": "stream",
          "name": "stderr",
          "text": [
            "\n"
          ]
        },
        {
          "output_type": "stream",
          "name": "stdout",
          "text": [
            "Generating file for id id01163\n",
            "[MoviePy] Writing audio in /content/drive/MyDrive/DeepFakeDetection/data/FakeAVCeleb_v1.2/real_videos_train/id01163/00111.wav\n"
          ]
        },
        {
          "output_type": "stream",
          "name": "stderr",
          "text": [
            "100%|██████████| 90/90 [00:00<00:00, 3173.68it/s]"
          ]
        },
        {
          "output_type": "stream",
          "name": "stdout",
          "text": [
            "[MoviePy] Done.\n",
            "Generating file for id id01163\n",
            "[MoviePy] Writing audio in /content/drive/MyDrive/DeepFakeDetection/data/FakeAVCeleb_v1.2/real_videos_train/id01163/00112.wav\n"
          ]
        },
        {
          "output_type": "stream",
          "name": "stderr",
          "text": [
            "\n",
            "100%|██████████| 165/165 [00:00<00:00, 3110.49it/s]"
          ]
        },
        {
          "output_type": "stream",
          "name": "stdout",
          "text": [
            "[MoviePy] Done.\n"
          ]
        },
        {
          "output_type": "stream",
          "name": "stderr",
          "text": [
            "\n"
          ]
        },
        {
          "output_type": "stream",
          "name": "stdout",
          "text": [
            "Generating file for id id01163\n",
            "[MoviePy] Writing audio in /content/drive/MyDrive/DeepFakeDetection/data/FakeAVCeleb_v1.2/real_videos_train/id01163/00113.wav\n"
          ]
        },
        {
          "output_type": "stream",
          "name": "stderr",
          "text": [
            "100%|██████████| 91/91 [00:00<00:00, 3225.57it/s]"
          ]
        },
        {
          "output_type": "stream",
          "name": "stdout",
          "text": [
            "[MoviePy] Done.\n",
            "Generating file for id id01163\n",
            "[MoviePy] Writing audio in /content/drive/MyDrive/DeepFakeDetection/data/FakeAVCeleb_v1.2/real_videos_train/id01163/00115.wav\n"
          ]
        },
        {
          "output_type": "stream",
          "name": "stderr",
          "text": [
            "\n",
            "100%|██████████| 147/147 [00:00<00:00, 2917.15it/s]"
          ]
        },
        {
          "output_type": "stream",
          "name": "stdout",
          "text": [
            "[MoviePy] Done.\n"
          ]
        },
        {
          "output_type": "stream",
          "name": "stderr",
          "text": [
            "\n"
          ]
        },
        {
          "output_type": "stream",
          "name": "stdout",
          "text": [
            "Generating file for id id01163\n",
            "[MoviePy] Writing audio in /content/drive/MyDrive/DeepFakeDetection/data/FakeAVCeleb_v1.2/real_videos_train/id01163/00114.wav\n"
          ]
        },
        {
          "output_type": "stream",
          "name": "stderr",
          "text": [
            "100%|██████████| 126/126 [00:00<00:00, 2979.13it/s]"
          ]
        },
        {
          "output_type": "stream",
          "name": "stdout",
          "text": [
            "[MoviePy] Done.\n"
          ]
        },
        {
          "output_type": "stream",
          "name": "stderr",
          "text": [
            "\n"
          ]
        },
        {
          "output_type": "stream",
          "name": "stdout",
          "text": [
            "Generating file for id id01163\n",
            "[MoviePy] Writing audio in /content/drive/MyDrive/DeepFakeDetection/data/FakeAVCeleb_v1.2/real_videos_train/id01163/00117.wav\n"
          ]
        },
        {
          "output_type": "stream",
          "name": "stderr",
          "text": [
            "100%|██████████| 201/201 [00:00<00:00, 3107.05it/s]"
          ]
        },
        {
          "output_type": "stream",
          "name": "stdout",
          "text": [
            "[MoviePy] Done.\n"
          ]
        },
        {
          "output_type": "stream",
          "name": "stderr",
          "text": [
            "\n"
          ]
        },
        {
          "output_type": "stream",
          "name": "stdout",
          "text": [
            "Generating file for id id01163\n",
            "[MoviePy] Writing audio in /content/drive/MyDrive/DeepFakeDetection/data/FakeAVCeleb_v1.2/real_videos_train/id01163/00116.wav\n"
          ]
        },
        {
          "output_type": "stream",
          "name": "stderr",
          "text": [
            "100%|██████████| 97/97 [00:00<00:00, 3311.36it/s]"
          ]
        },
        {
          "output_type": "stream",
          "name": "stdout",
          "text": [
            "[MoviePy] Done.\n",
            "Generating file for id id01163\n",
            "[MoviePy] Writing audio in /content/drive/MyDrive/DeepFakeDetection/data/FakeAVCeleb_v1.2/real_videos_train/id01163/00119.wav\n"
          ]
        },
        {
          "output_type": "stream",
          "name": "stderr",
          "text": [
            "\n",
            "100%|██████████| 108/108 [00:00<00:00, 3292.90it/s]"
          ]
        },
        {
          "output_type": "stream",
          "name": "stdout",
          "text": [
            "[MoviePy] Done.\n",
            "Generating file for id id01163\n",
            "[MoviePy] Writing audio in /content/drive/MyDrive/DeepFakeDetection/data/FakeAVCeleb_v1.2/real_videos_train/id01163/00118.wav\n"
          ]
        },
        {
          "output_type": "stream",
          "name": "stderr",
          "text": [
            "\n",
            "100%|██████████| 96/96 [00:00<00:00, 3332.26it/s]"
          ]
        },
        {
          "output_type": "stream",
          "name": "stdout",
          "text": [
            "[MoviePy] Done.\n",
            "Generating file for id id01163\n",
            "[MoviePy] Writing audio in /content/drive/MyDrive/DeepFakeDetection/data/FakeAVCeleb_v1.2/real_videos_train/id01163/00120.wav\n"
          ]
        },
        {
          "output_type": "stream",
          "name": "stderr",
          "text": [
            "\n",
            "100%|██████████| 175/175 [00:00<00:00, 3105.97it/s]"
          ]
        },
        {
          "output_type": "stream",
          "name": "stdout",
          "text": [
            "[MoviePy] Done.\n"
          ]
        },
        {
          "output_type": "stream",
          "name": "stderr",
          "text": [
            "\n"
          ]
        },
        {
          "output_type": "stream",
          "name": "stdout",
          "text": [
            "Generating file for id id01163\n",
            "[MoviePy] Writing audio in /content/drive/MyDrive/DeepFakeDetection/data/FakeAVCeleb_v1.2/real_videos_train/id01163/00121.wav\n"
          ]
        },
        {
          "output_type": "stream",
          "name": "stderr",
          "text": [
            "100%|██████████| 105/105 [00:00<00:00, 3323.61it/s]"
          ]
        },
        {
          "output_type": "stream",
          "name": "stdout",
          "text": [
            "[MoviePy] Done.\n"
          ]
        },
        {
          "output_type": "stream",
          "name": "stderr",
          "text": [
            "\n"
          ]
        },
        {
          "output_type": "stream",
          "name": "stdout",
          "text": [
            "Generating file for id id01163\n",
            "[MoviePy] Writing audio in /content/drive/MyDrive/DeepFakeDetection/data/FakeAVCeleb_v1.2/real_videos_train/id01163/00122.wav\n"
          ]
        },
        {
          "output_type": "stream",
          "name": "stderr",
          "text": [
            "100%|██████████| 194/194 [00:00<00:00, 2869.85it/s]"
          ]
        },
        {
          "output_type": "stream",
          "name": "stdout",
          "text": [
            "[MoviePy] Done.\n"
          ]
        },
        {
          "output_type": "stream",
          "name": "stderr",
          "text": [
            "\n"
          ]
        },
        {
          "output_type": "stream",
          "name": "stdout",
          "text": [
            "Generating file for id id01163\n",
            "[MoviePy] Writing audio in /content/drive/MyDrive/DeepFakeDetection/data/FakeAVCeleb_v1.2/real_videos_train/id01163/00125.wav\n"
          ]
        },
        {
          "output_type": "stream",
          "name": "stderr",
          "text": [
            "100%|██████████| 104/104 [00:00<00:00, 3019.93it/s]"
          ]
        },
        {
          "output_type": "stream",
          "name": "stdout",
          "text": [
            "[MoviePy] Done.\n"
          ]
        },
        {
          "output_type": "stream",
          "name": "stderr",
          "text": [
            "\n"
          ]
        },
        {
          "output_type": "stream",
          "name": "stdout",
          "text": [
            "Generating file for id id01163\n",
            "[MoviePy] Writing audio in /content/drive/MyDrive/DeepFakeDetection/data/FakeAVCeleb_v1.2/real_videos_train/id01163/00124.wav\n"
          ]
        },
        {
          "output_type": "stream",
          "name": "stderr",
          "text": [
            "100%|██████████| 95/95 [00:00<00:00, 3059.23it/s]"
          ]
        },
        {
          "output_type": "stream",
          "name": "stdout",
          "text": [
            "[MoviePy] Done.\n"
          ]
        },
        {
          "output_type": "stream",
          "name": "stderr",
          "text": [
            "\n"
          ]
        },
        {
          "output_type": "stream",
          "name": "stdout",
          "text": [
            "Generating file for id id01163\n",
            "[MoviePy] Writing audio in /content/drive/MyDrive/DeepFakeDetection/data/FakeAVCeleb_v1.2/real_videos_train/id01163/00127.wav\n"
          ]
        },
        {
          "output_type": "stream",
          "name": "stderr",
          "text": [
            "100%|██████████| 169/169 [00:00<00:00, 3079.08it/s]"
          ]
        },
        {
          "output_type": "stream",
          "name": "stdout",
          "text": [
            "[MoviePy] Done.\n"
          ]
        },
        {
          "output_type": "stream",
          "name": "stderr",
          "text": [
            "\n"
          ]
        },
        {
          "output_type": "stream",
          "name": "stdout",
          "text": [
            "Generating file for id id01163\n",
            "[MoviePy] Writing audio in /content/drive/MyDrive/DeepFakeDetection/data/FakeAVCeleb_v1.2/real_videos_train/id01163/00126.wav\n"
          ]
        },
        {
          "output_type": "stream",
          "name": "stderr",
          "text": [
            "100%|██████████| 303/303 [00:00<00:00, 3191.19it/s]"
          ]
        },
        {
          "output_type": "stream",
          "name": "stdout",
          "text": [
            "[MoviePy] Done.\n"
          ]
        },
        {
          "output_type": "stream",
          "name": "stderr",
          "text": [
            "\n"
          ]
        },
        {
          "output_type": "stream",
          "name": "stdout",
          "text": [
            "Generating file for id id01163\n",
            "[MoviePy] Writing audio in /content/drive/MyDrive/DeepFakeDetection/data/FakeAVCeleb_v1.2/real_videos_train/id01163/00131.wav\n"
          ]
        },
        {
          "output_type": "stream",
          "name": "stderr",
          "text": [
            "100%|██████████| 100/100 [00:00<00:00, 3222.57it/s]"
          ]
        },
        {
          "output_type": "stream",
          "name": "stdout",
          "text": [
            "[MoviePy] Done.\n"
          ]
        },
        {
          "output_type": "stream",
          "name": "stderr",
          "text": [
            "\n"
          ]
        },
        {
          "output_type": "stream",
          "name": "stdout",
          "text": [
            "Generating file for id id01163\n",
            "[MoviePy] Writing audio in /content/drive/MyDrive/DeepFakeDetection/data/FakeAVCeleb_v1.2/real_videos_train/id01163/00132.wav\n"
          ]
        },
        {
          "output_type": "stream",
          "name": "stderr",
          "text": [
            "100%|██████████| 103/103 [00:00<00:00, 2883.84it/s]"
          ]
        },
        {
          "output_type": "stream",
          "name": "stdout",
          "text": [
            "[MoviePy] Done.\n"
          ]
        },
        {
          "output_type": "stream",
          "name": "stderr",
          "text": [
            "\n"
          ]
        },
        {
          "output_type": "stream",
          "name": "stdout",
          "text": [
            "Generating file for id id01163\n",
            "[MoviePy] Writing audio in /content/drive/MyDrive/DeepFakeDetection/data/FakeAVCeleb_v1.2/real_videos_train/id01163/00139.wav\n"
          ]
        },
        {
          "output_type": "stream",
          "name": "stderr",
          "text": [
            "100%|██████████| 104/104 [00:00<00:00, 3345.07it/s]"
          ]
        },
        {
          "output_type": "stream",
          "name": "stdout",
          "text": [
            "[MoviePy] Done.\n",
            "Generating file for id id01163\n",
            "[MoviePy] Writing audio in /content/drive/MyDrive/DeepFakeDetection/data/FakeAVCeleb_v1.2/real_videos_train/id01163/00141.wav\n"
          ]
        },
        {
          "output_type": "stream",
          "name": "stderr",
          "text": [
            "\n",
            "100%|██████████| 126/126 [00:00<00:00, 3088.01it/s]"
          ]
        },
        {
          "output_type": "stream",
          "name": "stdout",
          "text": [
            "[MoviePy] Done.\n"
          ]
        },
        {
          "output_type": "stream",
          "name": "stderr",
          "text": [
            "\n"
          ]
        },
        {
          "output_type": "stream",
          "name": "stdout",
          "text": [
            "Generating file for id id01163\n",
            "[MoviePy] Writing audio in /content/drive/MyDrive/DeepFakeDetection/data/FakeAVCeleb_v1.2/real_videos_train/id01163/00140.wav\n"
          ]
        },
        {
          "output_type": "stream",
          "name": "stderr",
          "text": [
            "100%|██████████| 229/229 [00:00<00:00, 3049.80it/s]"
          ]
        },
        {
          "output_type": "stream",
          "name": "stdout",
          "text": [
            "[MoviePy] Done.\n"
          ]
        },
        {
          "output_type": "stream",
          "name": "stderr",
          "text": [
            "\n"
          ]
        },
        {
          "output_type": "stream",
          "name": "stdout",
          "text": [
            "Generating file for id id01163\n",
            "[MoviePy] Writing audio in /content/drive/MyDrive/DeepFakeDetection/data/FakeAVCeleb_v1.2/real_videos_train/id01163/00143.wav\n"
          ]
        },
        {
          "output_type": "stream",
          "name": "stderr",
          "text": [
            "100%|██████████| 101/101 [00:00<00:00, 3226.12it/s]"
          ]
        },
        {
          "output_type": "stream",
          "name": "stdout",
          "text": [
            "[MoviePy] Done.\n"
          ]
        },
        {
          "output_type": "stream",
          "name": "stderr",
          "text": [
            "\n"
          ]
        },
        {
          "output_type": "stream",
          "name": "stdout",
          "text": [
            "Generating file for id id01163\n",
            "[MoviePy] Writing audio in /content/drive/MyDrive/DeepFakeDetection/data/FakeAVCeleb_v1.2/real_videos_train/id01163/00142.wav\n"
          ]
        },
        {
          "output_type": "stream",
          "name": "stderr",
          "text": [
            "100%|██████████| 145/145 [00:00<00:00, 3084.34it/s]"
          ]
        },
        {
          "output_type": "stream",
          "name": "stdout",
          "text": [
            "[MoviePy] Done.\n"
          ]
        },
        {
          "output_type": "stream",
          "name": "stderr",
          "text": [
            "\n"
          ]
        },
        {
          "output_type": "stream",
          "name": "stdout",
          "text": [
            "Generating file for id id01163\n",
            "[MoviePy] Writing audio in /content/drive/MyDrive/DeepFakeDetection/data/FakeAVCeleb_v1.2/real_videos_train/id01163/00144.wav\n"
          ]
        },
        {
          "output_type": "stream",
          "name": "stderr",
          "text": [
            "100%|██████████| 106/106 [00:00<00:00, 3071.31it/s]"
          ]
        },
        {
          "output_type": "stream",
          "name": "stdout",
          "text": [
            "[MoviePy] Done.\n"
          ]
        },
        {
          "output_type": "stream",
          "name": "stderr",
          "text": [
            "\n"
          ]
        },
        {
          "output_type": "stream",
          "name": "stdout",
          "text": [
            "Generating file for id id01163\n",
            "[MoviePy] Writing audio in /content/drive/MyDrive/DeepFakeDetection/data/FakeAVCeleb_v1.2/real_videos_train/id01163/00145.wav\n"
          ]
        },
        {
          "output_type": "stream",
          "name": "stderr",
          "text": [
            "100%|██████████| 96/96 [00:00<00:00, 3351.17it/s]"
          ]
        },
        {
          "output_type": "stream",
          "name": "stdout",
          "text": [
            "[MoviePy] Done.\n"
          ]
        },
        {
          "output_type": "stream",
          "name": "stderr",
          "text": [
            "\n"
          ]
        },
        {
          "output_type": "stream",
          "name": "stdout",
          "text": [
            "Generating file for id id01163\n",
            "[MoviePy] Writing audio in /content/drive/MyDrive/DeepFakeDetection/data/FakeAVCeleb_v1.2/real_videos_train/id01163/00147.wav\n"
          ]
        },
        {
          "output_type": "stream",
          "name": "stderr",
          "text": [
            "100%|██████████| 94/94 [00:00<00:00, 3153.86it/s]"
          ]
        },
        {
          "output_type": "stream",
          "name": "stdout",
          "text": [
            "[MoviePy] Done.\n"
          ]
        },
        {
          "output_type": "stream",
          "name": "stderr",
          "text": [
            "\n"
          ]
        },
        {
          "output_type": "stream",
          "name": "stdout",
          "text": [
            "Generating file for id id01163\n",
            "[MoviePy] Writing audio in /content/drive/MyDrive/DeepFakeDetection/data/FakeAVCeleb_v1.2/real_videos_train/id01163/00146.wav\n"
          ]
        },
        {
          "output_type": "stream",
          "name": "stderr",
          "text": [
            "100%|██████████| 195/195 [00:00<00:00, 3173.15it/s]"
          ]
        },
        {
          "output_type": "stream",
          "name": "stdout",
          "text": [
            "[MoviePy] Done.\n"
          ]
        },
        {
          "output_type": "stream",
          "name": "stderr",
          "text": [
            "\n"
          ]
        },
        {
          "output_type": "stream",
          "name": "stdout",
          "text": [
            "Generating file for id id01163\n",
            "[MoviePy] Writing audio in /content/drive/MyDrive/DeepFakeDetection/data/FakeAVCeleb_v1.2/real_videos_train/id01163/00148.wav\n"
          ]
        },
        {
          "output_type": "stream",
          "name": "stderr",
          "text": [
            "100%|██████████| 127/127 [00:00<00:00, 3080.02it/s]"
          ]
        },
        {
          "output_type": "stream",
          "name": "stdout",
          "text": [
            "[MoviePy] Done.\n"
          ]
        },
        {
          "output_type": "stream",
          "name": "stderr",
          "text": [
            "\n"
          ]
        },
        {
          "output_type": "stream",
          "name": "stdout",
          "text": [
            "Generating file for id id01163\n",
            "[MoviePy] Writing audio in /content/drive/MyDrive/DeepFakeDetection/data/FakeAVCeleb_v1.2/real_videos_train/id01163/00149.wav\n"
          ]
        },
        {
          "output_type": "stream",
          "name": "stderr",
          "text": [
            "100%|██████████| 219/219 [00:00<00:00, 3204.36it/s]"
          ]
        },
        {
          "output_type": "stream",
          "name": "stdout",
          "text": [
            "[MoviePy] Done.\n"
          ]
        },
        {
          "output_type": "stream",
          "name": "stderr",
          "text": [
            "\n"
          ]
        },
        {
          "output_type": "stream",
          "name": "stdout",
          "text": [
            "Generating file for id id01163\n",
            "[MoviePy] Writing audio in /content/drive/MyDrive/DeepFakeDetection/data/FakeAVCeleb_v1.2/real_videos_train/id01163/00151.wav\n"
          ]
        },
        {
          "output_type": "stream",
          "name": "stderr",
          "text": [
            "100%|██████████| 147/147 [00:00<00:00, 3063.19it/s]"
          ]
        },
        {
          "output_type": "stream",
          "name": "stdout",
          "text": [
            "[MoviePy] Done.\n"
          ]
        },
        {
          "output_type": "stream",
          "name": "stderr",
          "text": [
            "\n"
          ]
        },
        {
          "output_type": "stream",
          "name": "stdout",
          "text": [
            "Generating file for id id01163\n",
            "[MoviePy] Writing audio in /content/drive/MyDrive/DeepFakeDetection/data/FakeAVCeleb_v1.2/real_videos_train/id01163/00150.wav\n"
          ]
        },
        {
          "output_type": "stream",
          "name": "stderr",
          "text": [
            "100%|██████████| 124/124 [00:00<00:00, 3071.84it/s]"
          ]
        },
        {
          "output_type": "stream",
          "name": "stdout",
          "text": [
            "[MoviePy] Done.\n"
          ]
        },
        {
          "output_type": "stream",
          "name": "stderr",
          "text": [
            "\n"
          ]
        },
        {
          "output_type": "stream",
          "name": "stdout",
          "text": [
            "Generating file for id id01163\n",
            "[MoviePy] Writing audio in /content/drive/MyDrive/DeepFakeDetection/data/FakeAVCeleb_v1.2/real_videos_train/id01163/00152.wav\n"
          ]
        },
        {
          "output_type": "stream",
          "name": "stderr",
          "text": [
            "100%|██████████| 204/204 [00:00<00:00, 3287.32it/s]"
          ]
        },
        {
          "output_type": "stream",
          "name": "stdout",
          "text": [
            "[MoviePy] Done.\n"
          ]
        },
        {
          "output_type": "stream",
          "name": "stderr",
          "text": [
            "\n"
          ]
        },
        {
          "output_type": "stream",
          "name": "stdout",
          "text": [
            "Generating file for id id01163\n",
            "[MoviePy] Writing audio in /content/drive/MyDrive/DeepFakeDetection/data/FakeAVCeleb_v1.2/real_videos_train/id01163/00154.wav\n"
          ]
        },
        {
          "output_type": "stream",
          "name": "stderr",
          "text": [
            "100%|██████████| 96/96 [00:00<00:00, 2894.35it/s]"
          ]
        },
        {
          "output_type": "stream",
          "name": "stdout",
          "text": [
            "[MoviePy] Done.\n"
          ]
        },
        {
          "output_type": "stream",
          "name": "stderr",
          "text": [
            "\n"
          ]
        },
        {
          "output_type": "stream",
          "name": "stdout",
          "text": [
            "Generating file for id id01163\n",
            "[MoviePy] Writing audio in /content/drive/MyDrive/DeepFakeDetection/data/FakeAVCeleb_v1.2/real_videos_train/id01163/00153.wav\n"
          ]
        },
        {
          "output_type": "stream",
          "name": "stderr",
          "text": [
            "100%|██████████| 248/248 [00:00<00:00, 3076.39it/s]"
          ]
        },
        {
          "output_type": "stream",
          "name": "stdout",
          "text": [
            "[MoviePy] Done.\n"
          ]
        },
        {
          "output_type": "stream",
          "name": "stderr",
          "text": [
            "\n"
          ]
        },
        {
          "output_type": "stream",
          "name": "stdout",
          "text": [
            "Generating file for id id01163\n",
            "[MoviePy] Writing audio in /content/drive/MyDrive/DeepFakeDetection/data/FakeAVCeleb_v1.2/real_videos_train/id01163/00155.wav\n"
          ]
        },
        {
          "output_type": "stream",
          "name": "stderr",
          "text": [
            "100%|██████████| 100/100 [00:00<00:00, 2962.12it/s]"
          ]
        },
        {
          "output_type": "stream",
          "name": "stdout",
          "text": [
            "[MoviePy] Done.\n"
          ]
        },
        {
          "output_type": "stream",
          "name": "stderr",
          "text": [
            "\n"
          ]
        },
        {
          "output_type": "stream",
          "name": "stdout",
          "text": [
            "Generating file for id id01163\n",
            "[MoviePy] Writing audio in /content/drive/MyDrive/DeepFakeDetection/data/FakeAVCeleb_v1.2/real_videos_train/id01163/00157.wav\n"
          ]
        },
        {
          "output_type": "stream",
          "name": "stderr",
          "text": [
            "100%|██████████| 287/287 [00:00<00:00, 2912.94it/s]"
          ]
        },
        {
          "output_type": "stream",
          "name": "stdout",
          "text": [
            "[MoviePy] Done.\n"
          ]
        },
        {
          "output_type": "stream",
          "name": "stderr",
          "text": [
            "\n"
          ]
        },
        {
          "output_type": "stream",
          "name": "stdout",
          "text": [
            "Generating file for id id01163\n",
            "[MoviePy] Writing audio in /content/drive/MyDrive/DeepFakeDetection/data/FakeAVCeleb_v1.2/real_videos_train/id01163/00158.wav\n"
          ]
        },
        {
          "output_type": "stream",
          "name": "stderr",
          "text": [
            "100%|██████████| 95/95 [00:00<00:00, 3184.59it/s]"
          ]
        },
        {
          "output_type": "stream",
          "name": "stdout",
          "text": [
            "[MoviePy] Done.\n"
          ]
        },
        {
          "output_type": "stream",
          "name": "stderr",
          "text": [
            "\n"
          ]
        },
        {
          "output_type": "stream",
          "name": "stdout",
          "text": [
            "Generating file for id id01163\n",
            "[MoviePy] Writing audio in /content/drive/MyDrive/DeepFakeDetection/data/FakeAVCeleb_v1.2/real_videos_train/id01163/00159.wav\n"
          ]
        },
        {
          "output_type": "stream",
          "name": "stderr",
          "text": [
            "100%|██████████| 113/113 [00:00<00:00, 2828.09it/s]"
          ]
        },
        {
          "output_type": "stream",
          "name": "stdout",
          "text": [
            "[MoviePy] Done.\n"
          ]
        },
        {
          "output_type": "stream",
          "name": "stderr",
          "text": [
            "\n"
          ]
        },
        {
          "output_type": "stream",
          "name": "stdout",
          "text": [
            "Generating file for id id01163\n",
            "[MoviePy] Writing audio in /content/drive/MyDrive/DeepFakeDetection/data/FakeAVCeleb_v1.2/real_videos_train/id01163/00160.wav\n"
          ]
        },
        {
          "output_type": "stream",
          "name": "stderr",
          "text": [
            "100%|██████████| 157/157 [00:00<00:00, 3164.87it/s]"
          ]
        },
        {
          "output_type": "stream",
          "name": "stdout",
          "text": [
            "[MoviePy] Done.\n"
          ]
        },
        {
          "output_type": "stream",
          "name": "stderr",
          "text": [
            "\n"
          ]
        },
        {
          "output_type": "stream",
          "name": "stdout",
          "text": [
            "Generating file for id id01163\n",
            "[MoviePy] Writing audio in /content/drive/MyDrive/DeepFakeDetection/data/FakeAVCeleb_v1.2/real_videos_train/id01163/00161.wav\n"
          ]
        },
        {
          "output_type": "stream",
          "name": "stderr",
          "text": [
            "100%|██████████| 138/138 [00:00<00:00, 3089.13it/s]"
          ]
        },
        {
          "output_type": "stream",
          "name": "stdout",
          "text": [
            "[MoviePy] Done.\n"
          ]
        },
        {
          "output_type": "stream",
          "name": "stderr",
          "text": [
            "\n"
          ]
        },
        {
          "output_type": "stream",
          "name": "stdout",
          "text": [
            "Generating file for id id01163\n",
            "[MoviePy] Writing audio in /content/drive/MyDrive/DeepFakeDetection/data/FakeAVCeleb_v1.2/real_videos_train/id01163/00162.wav\n"
          ]
        },
        {
          "output_type": "stream",
          "name": "stderr",
          "text": [
            "100%|██████████| 149/149 [00:00<00:00, 3093.39it/s]"
          ]
        },
        {
          "output_type": "stream",
          "name": "stdout",
          "text": [
            "[MoviePy] Done.\n"
          ]
        },
        {
          "output_type": "stream",
          "name": "stderr",
          "text": [
            "\n"
          ]
        },
        {
          "output_type": "stream",
          "name": "stdout",
          "text": [
            "Generating file for id id01163\n",
            "[MoviePy] Writing audio in /content/drive/MyDrive/DeepFakeDetection/data/FakeAVCeleb_v1.2/real_videos_train/id01163/00163.wav\n"
          ]
        },
        {
          "output_type": "stream",
          "name": "stderr",
          "text": [
            "100%|██████████| 102/102 [00:00<00:00, 3207.04it/s]"
          ]
        },
        {
          "output_type": "stream",
          "name": "stdout",
          "text": [
            "[MoviePy] Done.\n"
          ]
        },
        {
          "output_type": "stream",
          "name": "stderr",
          "text": [
            "\n"
          ]
        },
        {
          "output_type": "stream",
          "name": "stdout",
          "text": [
            "Generating file for id id01163\n",
            "[MoviePy] Writing audio in /content/drive/MyDrive/DeepFakeDetection/data/FakeAVCeleb_v1.2/real_videos_train/id01163/00168.wav\n"
          ]
        },
        {
          "output_type": "stream",
          "name": "stderr",
          "text": [
            "100%|██████████| 129/129 [00:00<00:00, 3057.56it/s]"
          ]
        },
        {
          "output_type": "stream",
          "name": "stdout",
          "text": [
            "[MoviePy] Done.\n"
          ]
        },
        {
          "output_type": "stream",
          "name": "stderr",
          "text": [
            "\n"
          ]
        },
        {
          "output_type": "stream",
          "name": "stdout",
          "text": [
            "Generating file for id id01163\n",
            "[MoviePy] Writing audio in /content/drive/MyDrive/DeepFakeDetection/data/FakeAVCeleb_v1.2/real_videos_train/id01163/00169.wav\n"
          ]
        },
        {
          "output_type": "stream",
          "name": "stderr",
          "text": [
            "100%|██████████| 127/127 [00:00<00:00, 3024.92it/s]"
          ]
        },
        {
          "output_type": "stream",
          "name": "stdout",
          "text": [
            "[MoviePy] Done.\n"
          ]
        },
        {
          "output_type": "stream",
          "name": "stderr",
          "text": [
            "\n"
          ]
        },
        {
          "output_type": "stream",
          "name": "stdout",
          "text": [
            "Generating file for id id01163\n",
            "[MoviePy] Writing audio in /content/drive/MyDrive/DeepFakeDetection/data/FakeAVCeleb_v1.2/real_videos_train/id01163/00175.wav\n"
          ]
        },
        {
          "output_type": "stream",
          "name": "stderr",
          "text": [
            "100%|██████████| 92/92 [00:00<00:00, 3059.11it/s]"
          ]
        },
        {
          "output_type": "stream",
          "name": "stdout",
          "text": [
            "[MoviePy] Done.\n"
          ]
        },
        {
          "output_type": "stream",
          "name": "stderr",
          "text": [
            "\n"
          ]
        },
        {
          "output_type": "stream",
          "name": "stdout",
          "text": [
            "Generating file for id id01163\n",
            "[MoviePy] Writing audio in /content/drive/MyDrive/DeepFakeDetection/data/FakeAVCeleb_v1.2/real_videos_train/id01163/00179.wav\n"
          ]
        },
        {
          "output_type": "stream",
          "name": "stderr",
          "text": [
            "100%|██████████| 100/100 [00:00<00:00, 3389.58it/s]"
          ]
        },
        {
          "output_type": "stream",
          "name": "stdout",
          "text": [
            "[MoviePy] Done.\n"
          ]
        },
        {
          "output_type": "stream",
          "name": "stderr",
          "text": [
            "\n"
          ]
        },
        {
          "output_type": "stream",
          "name": "stdout",
          "text": [
            "Generating file for id id01163\n",
            "[MoviePy] Writing audio in /content/drive/MyDrive/DeepFakeDetection/data/FakeAVCeleb_v1.2/real_videos_train/id01163/00182.wav\n"
          ]
        },
        {
          "output_type": "stream",
          "name": "stderr",
          "text": [
            "100%|██████████| 137/137 [00:00<00:00, 3073.90it/s]"
          ]
        },
        {
          "output_type": "stream",
          "name": "stdout",
          "text": [
            "[MoviePy] Done.\n"
          ]
        },
        {
          "output_type": "stream",
          "name": "stderr",
          "text": [
            "\n"
          ]
        },
        {
          "output_type": "stream",
          "name": "stdout",
          "text": [
            "Generating file for id id01163\n",
            "[MoviePy] Writing audio in /content/drive/MyDrive/DeepFakeDetection/data/FakeAVCeleb_v1.2/real_videos_train/id01163/00181.wav\n"
          ]
        },
        {
          "output_type": "stream",
          "name": "stderr",
          "text": [
            "100%|██████████| 191/191 [00:00<00:00, 3263.77it/s]"
          ]
        },
        {
          "output_type": "stream",
          "name": "stdout",
          "text": [
            "[MoviePy] Done.\n"
          ]
        },
        {
          "output_type": "stream",
          "name": "stderr",
          "text": [
            "\n"
          ]
        },
        {
          "output_type": "stream",
          "name": "stdout",
          "text": [
            "Generating file for id id01163\n",
            "[MoviePy] Writing audio in /content/drive/MyDrive/DeepFakeDetection/data/FakeAVCeleb_v1.2/real_videos_train/id01163/00183.wav\n"
          ]
        },
        {
          "output_type": "stream",
          "name": "stderr",
          "text": [
            "100%|██████████| 90/90 [00:00<00:00, 3050.50it/s]"
          ]
        },
        {
          "output_type": "stream",
          "name": "stdout",
          "text": [
            "[MoviePy] Done.\n"
          ]
        },
        {
          "output_type": "stream",
          "name": "stderr",
          "text": [
            "\n"
          ]
        },
        {
          "output_type": "stream",
          "name": "stdout",
          "text": [
            "Generating file for id id01163\n",
            "[MoviePy] Writing audio in /content/drive/MyDrive/DeepFakeDetection/data/FakeAVCeleb_v1.2/real_videos_train/id01163/00184.wav\n"
          ]
        },
        {
          "output_type": "stream",
          "name": "stderr",
          "text": [
            "100%|██████████| 107/107 [00:00<00:00, 3125.76it/s]"
          ]
        },
        {
          "output_type": "stream",
          "name": "stdout",
          "text": [
            "[MoviePy] Done.\n"
          ]
        },
        {
          "output_type": "stream",
          "name": "stderr",
          "text": [
            "\n"
          ]
        },
        {
          "output_type": "stream",
          "name": "stdout",
          "text": [
            "Generating file for id id01163\n",
            "[MoviePy] Writing audio in /content/drive/MyDrive/DeepFakeDetection/data/FakeAVCeleb_v1.2/real_videos_train/id01163/00186.wav\n"
          ]
        },
        {
          "output_type": "stream",
          "name": "stderr",
          "text": [
            "100%|██████████| 121/121 [00:00<00:00, 2935.57it/s]"
          ]
        },
        {
          "output_type": "stream",
          "name": "stdout",
          "text": [
            "[MoviePy] Done.\n"
          ]
        },
        {
          "output_type": "stream",
          "name": "stderr",
          "text": [
            "\n"
          ]
        },
        {
          "output_type": "stream",
          "name": "stdout",
          "text": [
            "Generating file for id id01163\n",
            "[MoviePy] Writing audio in /content/drive/MyDrive/DeepFakeDetection/data/FakeAVCeleb_v1.2/real_videos_train/id01163/00185.wav\n"
          ]
        },
        {
          "output_type": "stream",
          "name": "stderr",
          "text": [
            "100%|██████████| 306/306 [00:00<00:00, 3330.26it/s]"
          ]
        },
        {
          "output_type": "stream",
          "name": "stdout",
          "text": [
            "[MoviePy] Done.\n"
          ]
        },
        {
          "output_type": "stream",
          "name": "stderr",
          "text": [
            "\n"
          ]
        },
        {
          "output_type": "stream",
          "name": "stdout",
          "text": [
            "Generating file for id id01163\n",
            "[MoviePy] Writing audio in /content/drive/MyDrive/DeepFakeDetection/data/FakeAVCeleb_v1.2/real_videos_train/id01163/00187.wav\n"
          ]
        },
        {
          "output_type": "stream",
          "name": "stderr",
          "text": [
            "100%|██████████| 115/115 [00:00<00:00, 3014.20it/s]"
          ]
        },
        {
          "output_type": "stream",
          "name": "stdout",
          "text": [
            "[MoviePy] Done.\n"
          ]
        },
        {
          "output_type": "stream",
          "name": "stderr",
          "text": [
            "\n"
          ]
        },
        {
          "output_type": "stream",
          "name": "stdout",
          "text": [
            "Generating file for id id01163\n",
            "[MoviePy] Writing audio in /content/drive/MyDrive/DeepFakeDetection/data/FakeAVCeleb_v1.2/real_videos_train/id01163/00188.wav\n"
          ]
        },
        {
          "output_type": "stream",
          "name": "stderr",
          "text": [
            "100%|██████████| 94/94 [00:00<00:00, 3339.02it/s]"
          ]
        },
        {
          "output_type": "stream",
          "name": "stdout",
          "text": [
            "[MoviePy] Done.\n"
          ]
        },
        {
          "output_type": "stream",
          "name": "stderr",
          "text": [
            "\n"
          ]
        },
        {
          "output_type": "stream",
          "name": "stdout",
          "text": [
            "Generating file for id id01163\n",
            "[MoviePy] Writing audio in /content/drive/MyDrive/DeepFakeDetection/data/FakeAVCeleb_v1.2/real_videos_train/id01163/00189.wav\n"
          ]
        },
        {
          "output_type": "stream",
          "name": "stderr",
          "text": [
            "100%|██████████| 98/98 [00:00<00:00, 3347.76it/s]"
          ]
        },
        {
          "output_type": "stream",
          "name": "stdout",
          "text": [
            "[MoviePy] Done.\n"
          ]
        },
        {
          "output_type": "stream",
          "name": "stderr",
          "text": [
            "\n"
          ]
        },
        {
          "output_type": "stream",
          "name": "stdout",
          "text": [
            "Generating file for id id01163\n",
            "[MoviePy] Writing audio in /content/drive/MyDrive/DeepFakeDetection/data/FakeAVCeleb_v1.2/real_videos_train/id01163/00190.wav\n"
          ]
        },
        {
          "output_type": "stream",
          "name": "stderr",
          "text": [
            "100%|██████████| 101/101 [00:00<00:00, 2845.56it/s]"
          ]
        },
        {
          "output_type": "stream",
          "name": "stdout",
          "text": [
            "[MoviePy] Done.\n"
          ]
        },
        {
          "output_type": "stream",
          "name": "stderr",
          "text": [
            "\n"
          ]
        },
        {
          "output_type": "stream",
          "name": "stdout",
          "text": [
            "Generating file for id id01163\n",
            "[MoviePy] Writing audio in /content/drive/MyDrive/DeepFakeDetection/data/FakeAVCeleb_v1.2/real_videos_train/id01163/00191.wav\n"
          ]
        },
        {
          "output_type": "stream",
          "name": "stderr",
          "text": [
            "100%|██████████| 140/140 [00:00<00:00, 3160.57it/s]"
          ]
        },
        {
          "output_type": "stream",
          "name": "stdout",
          "text": [
            "[MoviePy] Done.\n"
          ]
        },
        {
          "output_type": "stream",
          "name": "stderr",
          "text": [
            "\n"
          ]
        },
        {
          "output_type": "stream",
          "name": "stdout",
          "text": [
            "Generating file for id id01163\n",
            "[MoviePy] Writing audio in /content/drive/MyDrive/DeepFakeDetection/data/FakeAVCeleb_v1.2/real_videos_train/id01163/00192.wav\n"
          ]
        },
        {
          "output_type": "stream",
          "name": "stderr",
          "text": [
            "100%|██████████| 269/269 [00:00<00:00, 3291.55it/s]"
          ]
        },
        {
          "output_type": "stream",
          "name": "stdout",
          "text": [
            "[MoviePy] Done.\n"
          ]
        },
        {
          "output_type": "stream",
          "name": "stderr",
          "text": [
            "\n"
          ]
        },
        {
          "output_type": "stream",
          "name": "stdout",
          "text": [
            "Generating file for id id01163\n",
            "[MoviePy] Writing audio in /content/drive/MyDrive/DeepFakeDetection/data/FakeAVCeleb_v1.2/real_videos_train/id01163/00193.wav\n"
          ]
        },
        {
          "output_type": "stream",
          "name": "stderr",
          "text": [
            "100%|██████████| 119/119 [00:00<00:00, 2867.83it/s]"
          ]
        },
        {
          "output_type": "stream",
          "name": "stdout",
          "text": [
            "[MoviePy] Done.\n"
          ]
        },
        {
          "output_type": "stream",
          "name": "stderr",
          "text": [
            "\n"
          ]
        },
        {
          "output_type": "stream",
          "name": "stdout",
          "text": [
            "Generating file for id id01163\n",
            "[MoviePy] Writing audio in /content/drive/MyDrive/DeepFakeDetection/data/FakeAVCeleb_v1.2/real_videos_train/id01163/00194.wav\n"
          ]
        },
        {
          "output_type": "stream",
          "name": "stderr",
          "text": [
            "100%|██████████| 171/171 [00:00<00:00, 3138.64it/s]"
          ]
        },
        {
          "output_type": "stream",
          "name": "stdout",
          "text": [
            "[MoviePy] Done.\n"
          ]
        },
        {
          "output_type": "stream",
          "name": "stderr",
          "text": [
            "\n"
          ]
        },
        {
          "output_type": "stream",
          "name": "stdout",
          "text": [
            "Generating file for id id01163\n",
            "[MoviePy] Writing audio in /content/drive/MyDrive/DeepFakeDetection/data/FakeAVCeleb_v1.2/real_videos_train/id01163/00195.wav\n"
          ]
        },
        {
          "output_type": "stream",
          "name": "stderr",
          "text": [
            "100%|██████████| 110/110 [00:00<00:00, 2981.51it/s]"
          ]
        },
        {
          "output_type": "stream",
          "name": "stdout",
          "text": [
            "[MoviePy] Done.\n"
          ]
        },
        {
          "output_type": "stream",
          "name": "stderr",
          "text": [
            "\n"
          ]
        },
        {
          "output_type": "stream",
          "name": "stdout",
          "text": [
            "Generating file for id id01163\n",
            "[MoviePy] Writing audio in /content/drive/MyDrive/DeepFakeDetection/data/FakeAVCeleb_v1.2/real_videos_train/id01163/00196.wav\n"
          ]
        },
        {
          "output_type": "stream",
          "name": "stderr",
          "text": [
            "100%|██████████| 141/141 [00:00<00:00, 3181.73it/s]"
          ]
        },
        {
          "output_type": "stream",
          "name": "stdout",
          "text": [
            "[MoviePy] Done.\n"
          ]
        },
        {
          "output_type": "stream",
          "name": "stderr",
          "text": [
            "\n"
          ]
        },
        {
          "output_type": "stream",
          "name": "stdout",
          "text": [
            "Generating file for id id01163\n",
            "[MoviePy] Writing audio in /content/drive/MyDrive/DeepFakeDetection/data/FakeAVCeleb_v1.2/real_videos_train/id01163/00197.wav\n"
          ]
        },
        {
          "output_type": "stream",
          "name": "stderr",
          "text": [
            "100%|██████████| 350/350 [00:00<00:00, 3257.59it/s]"
          ]
        },
        {
          "output_type": "stream",
          "name": "stdout",
          "text": [
            "[MoviePy] Done.\n"
          ]
        },
        {
          "output_type": "stream",
          "name": "stderr",
          "text": [
            "\n"
          ]
        },
        {
          "output_type": "stream",
          "name": "stdout",
          "text": [
            "Generating file for id id01163\n",
            "[MoviePy] Writing audio in /content/drive/MyDrive/DeepFakeDetection/data/FakeAVCeleb_v1.2/real_videos_train/id01163/00199.wav\n"
          ]
        },
        {
          "output_type": "stream",
          "name": "stderr",
          "text": [
            "100%|██████████| 124/124 [00:00<00:00, 3138.80it/s]"
          ]
        },
        {
          "output_type": "stream",
          "name": "stdout",
          "text": [
            "[MoviePy] Done.\n"
          ]
        },
        {
          "output_type": "stream",
          "name": "stderr",
          "text": [
            "\n"
          ]
        },
        {
          "output_type": "stream",
          "name": "stdout",
          "text": [
            "Generating file for id id01163\n",
            "[MoviePy] Writing audio in /content/drive/MyDrive/DeepFakeDetection/data/FakeAVCeleb_v1.2/real_videos_train/id01163/00198.wav\n"
          ]
        },
        {
          "output_type": "stream",
          "name": "stderr",
          "text": [
            "100%|██████████| 96/96 [00:00<00:00, 1757.90it/s]"
          ]
        },
        {
          "output_type": "stream",
          "name": "stdout",
          "text": [
            "[MoviePy] Done.\n"
          ]
        },
        {
          "output_type": "stream",
          "name": "stderr",
          "text": [
            "\n"
          ]
        },
        {
          "output_type": "stream",
          "name": "stdout",
          "text": [
            "Generating file for id id01163\n",
            "[MoviePy] Writing audio in /content/drive/MyDrive/DeepFakeDetection/data/FakeAVCeleb_v1.2/real_videos_train/id01163/00200.wav\n"
          ]
        },
        {
          "output_type": "stream",
          "name": "stderr",
          "text": [
            "100%|██████████| 191/191 [00:00<00:00, 3289.97it/s]"
          ]
        },
        {
          "output_type": "stream",
          "name": "stdout",
          "text": [
            "[MoviePy] Done.\n"
          ]
        },
        {
          "output_type": "stream",
          "name": "stderr",
          "text": [
            "\n"
          ]
        },
        {
          "output_type": "stream",
          "name": "stdout",
          "text": [
            "Generating file for id id01163\n",
            "[MoviePy] Writing audio in /content/drive/MyDrive/DeepFakeDetection/data/FakeAVCeleb_v1.2/real_videos_train/id01163/00201.wav\n"
          ]
        },
        {
          "output_type": "stream",
          "name": "stderr",
          "text": [
            "100%|██████████| 636/636 [00:00<00:00, 3445.99it/s]"
          ]
        },
        {
          "output_type": "stream",
          "name": "stdout",
          "text": [
            "[MoviePy] Done.\n"
          ]
        },
        {
          "output_type": "stream",
          "name": "stderr",
          "text": [
            "\n"
          ]
        },
        {
          "output_type": "stream",
          "name": "stdout",
          "text": [
            "Generating file for id id01163\n",
            "[MoviePy] Writing audio in /content/drive/MyDrive/DeepFakeDetection/data/FakeAVCeleb_v1.2/real_videos_train/id01163/00202.wav\n"
          ]
        },
        {
          "output_type": "stream",
          "name": "stderr",
          "text": [
            "100%|██████████| 209/209 [00:00<00:00, 3413.72it/s]"
          ]
        },
        {
          "output_type": "stream",
          "name": "stdout",
          "text": [
            "[MoviePy] Done.\n"
          ]
        },
        {
          "output_type": "stream",
          "name": "stderr",
          "text": [
            "\n"
          ]
        },
        {
          "output_type": "stream",
          "name": "stdout",
          "text": [
            "Generating file for id id01163\n",
            "[MoviePy] Writing audio in /content/drive/MyDrive/DeepFakeDetection/data/FakeAVCeleb_v1.2/real_videos_train/id01163/00203.wav\n"
          ]
        },
        {
          "output_type": "stream",
          "name": "stderr",
          "text": [
            "100%|██████████| 94/94 [00:00<00:00, 2862.30it/s]"
          ]
        },
        {
          "output_type": "stream",
          "name": "stdout",
          "text": [
            "[MoviePy] Done.\n"
          ]
        },
        {
          "output_type": "stream",
          "name": "stderr",
          "text": [
            "\n"
          ]
        },
        {
          "output_type": "stream",
          "name": "stdout",
          "text": [
            "Generating file for id id01163\n",
            "[MoviePy] Writing audio in /content/drive/MyDrive/DeepFakeDetection/data/FakeAVCeleb_v1.2/real_videos_train/id01163/00204.wav\n"
          ]
        },
        {
          "output_type": "stream",
          "name": "stderr",
          "text": [
            "100%|██████████| 91/91 [00:00<00:00, 3231.91it/s]"
          ]
        },
        {
          "output_type": "stream",
          "name": "stdout",
          "text": [
            "[MoviePy] Done.\n"
          ]
        },
        {
          "output_type": "stream",
          "name": "stderr",
          "text": [
            "\n"
          ]
        },
        {
          "output_type": "stream",
          "name": "stdout",
          "text": [
            "Generating file for id id01163\n",
            "[MoviePy] Writing audio in /content/drive/MyDrive/DeepFakeDetection/data/FakeAVCeleb_v1.2/real_videos_train/id01163/00206.wav\n"
          ]
        },
        {
          "output_type": "stream",
          "name": "stderr",
          "text": [
            "100%|██████████| 146/146 [00:00<00:00, 3189.93it/s]"
          ]
        },
        {
          "output_type": "stream",
          "name": "stdout",
          "text": [
            "[MoviePy] Done.\n"
          ]
        },
        {
          "output_type": "stream",
          "name": "stderr",
          "text": [
            "\n"
          ]
        },
        {
          "output_type": "stream",
          "name": "stdout",
          "text": [
            "Generating file for id id01163\n",
            "[MoviePy] Writing audio in /content/drive/MyDrive/DeepFakeDetection/data/FakeAVCeleb_v1.2/real_videos_train/id01163/00205.wav\n"
          ]
        },
        {
          "output_type": "stream",
          "name": "stderr",
          "text": [
            "100%|██████████| 164/164 [00:00<00:00, 2885.95it/s]"
          ]
        },
        {
          "output_type": "stream",
          "name": "stdout",
          "text": [
            "[MoviePy] Done.\n"
          ]
        },
        {
          "output_type": "stream",
          "name": "stderr",
          "text": [
            "\n"
          ]
        },
        {
          "output_type": "stream",
          "name": "stdout",
          "text": [
            "Generating file for id id01163\n",
            "[MoviePy] Writing audio in /content/drive/MyDrive/DeepFakeDetection/data/FakeAVCeleb_v1.2/real_videos_train/id01163/00207.wav\n"
          ]
        },
        {
          "output_type": "stream",
          "name": "stderr",
          "text": [
            "100%|██████████| 101/101 [00:00<00:00, 3318.28it/s]"
          ]
        },
        {
          "output_type": "stream",
          "name": "stdout",
          "text": [
            "[MoviePy] Done.\n"
          ]
        },
        {
          "output_type": "stream",
          "name": "stderr",
          "text": [
            "\n"
          ]
        },
        {
          "output_type": "stream",
          "name": "stdout",
          "text": [
            "Generating file for id id01163\n",
            "[MoviePy] Writing audio in /content/drive/MyDrive/DeepFakeDetection/data/FakeAVCeleb_v1.2/real_videos_train/id01163/00208.wav\n"
          ]
        },
        {
          "output_type": "stream",
          "name": "stderr",
          "text": [
            "100%|██████████| 113/113 [00:00<00:00, 2850.80it/s]"
          ]
        },
        {
          "output_type": "stream",
          "name": "stdout",
          "text": [
            "[MoviePy] Done.\n"
          ]
        },
        {
          "output_type": "stream",
          "name": "stderr",
          "text": [
            "\n"
          ]
        },
        {
          "output_type": "stream",
          "name": "stdout",
          "text": [
            "Generating file for id id01163\n",
            "[MoviePy] Writing audio in /content/drive/MyDrive/DeepFakeDetection/data/FakeAVCeleb_v1.2/real_videos_train/id01163/00210.wav\n"
          ]
        },
        {
          "output_type": "stream",
          "name": "stderr",
          "text": [
            "100%|██████████| 206/206 [00:00<00:00, 3353.22it/s]"
          ]
        },
        {
          "output_type": "stream",
          "name": "stdout",
          "text": [
            "[MoviePy] Done.\n"
          ]
        },
        {
          "output_type": "stream",
          "name": "stderr",
          "text": [
            "\n"
          ]
        },
        {
          "output_type": "stream",
          "name": "stdout",
          "text": [
            "Generating file for id id01163\n",
            "[MoviePy] Writing audio in /content/drive/MyDrive/DeepFakeDetection/data/FakeAVCeleb_v1.2/real_videos_train/id01163/00211.wav\n"
          ]
        },
        {
          "output_type": "stream",
          "name": "stderr",
          "text": [
            "100%|██████████| 198/198 [00:00<00:00, 3124.99it/s]"
          ]
        },
        {
          "output_type": "stream",
          "name": "stdout",
          "text": [
            "[MoviePy] Done.\n"
          ]
        },
        {
          "output_type": "stream",
          "name": "stderr",
          "text": [
            "\n"
          ]
        },
        {
          "output_type": "stream",
          "name": "stdout",
          "text": [
            "Generating file for id id01163\n",
            "[MoviePy] Writing audio in /content/drive/MyDrive/DeepFakeDetection/data/FakeAVCeleb_v1.2/real_videos_train/id01163/00212.wav\n"
          ]
        },
        {
          "output_type": "stream",
          "name": "stderr",
          "text": [
            "100%|██████████| 137/137 [00:00<00:00, 3013.91it/s]"
          ]
        },
        {
          "output_type": "stream",
          "name": "stdout",
          "text": [
            "[MoviePy] Done.\n"
          ]
        },
        {
          "output_type": "stream",
          "name": "stderr",
          "text": [
            "\n"
          ]
        },
        {
          "output_type": "stream",
          "name": "stdout",
          "text": [
            "Generating file for id id01163\n",
            "[MoviePy] Writing audio in /content/drive/MyDrive/DeepFakeDetection/data/FakeAVCeleb_v1.2/real_videos_train/id01163/00213.wav\n"
          ]
        },
        {
          "output_type": "stream",
          "name": "stderr",
          "text": [
            "100%|██████████| 221/221 [00:00<00:00, 3145.23it/s]"
          ]
        },
        {
          "output_type": "stream",
          "name": "stdout",
          "text": [
            "[MoviePy] Done.\n"
          ]
        },
        {
          "output_type": "stream",
          "name": "stderr",
          "text": [
            "\n"
          ]
        },
        {
          "output_type": "stream",
          "name": "stdout",
          "text": [
            "Generating file for id id01163\n",
            "[MoviePy] Writing audio in /content/drive/MyDrive/DeepFakeDetection/data/FakeAVCeleb_v1.2/real_videos_train/id01163/00214.wav\n"
          ]
        },
        {
          "output_type": "stream",
          "name": "stderr",
          "text": [
            "100%|██████████| 96/96 [00:00<00:00, 3246.00it/s]"
          ]
        },
        {
          "output_type": "stream",
          "name": "stdout",
          "text": [
            "[MoviePy] Done.\n"
          ]
        },
        {
          "output_type": "stream",
          "name": "stderr",
          "text": [
            "\n"
          ]
        },
        {
          "output_type": "stream",
          "name": "stdout",
          "text": [
            "Generating file for id id01163\n",
            "[MoviePy] Writing audio in /content/drive/MyDrive/DeepFakeDetection/data/FakeAVCeleb_v1.2/real_videos_train/id01163/00215.wav\n"
          ]
        },
        {
          "output_type": "stream",
          "name": "stderr",
          "text": [
            "100%|██████████| 184/184 [00:00<00:00, 3118.43it/s]"
          ]
        },
        {
          "output_type": "stream",
          "name": "stdout",
          "text": [
            "[MoviePy] Done.\n"
          ]
        },
        {
          "output_type": "stream",
          "name": "stderr",
          "text": [
            "\n"
          ]
        },
        {
          "output_type": "stream",
          "name": "stdout",
          "text": [
            "Generating file for id id01163\n",
            "[MoviePy] Writing audio in /content/drive/MyDrive/DeepFakeDetection/data/FakeAVCeleb_v1.2/real_videos_train/id01163/00216.wav\n"
          ]
        },
        {
          "output_type": "stream",
          "name": "stderr",
          "text": [
            "100%|██████████| 152/152 [00:00<00:00, 3288.12it/s]"
          ]
        },
        {
          "output_type": "stream",
          "name": "stdout",
          "text": [
            "[MoviePy] Done.\n"
          ]
        },
        {
          "output_type": "stream",
          "name": "stderr",
          "text": [
            "\n"
          ]
        },
        {
          "output_type": "stream",
          "name": "stdout",
          "text": [
            "Generating file for id id01163\n",
            "[MoviePy] Writing audio in /content/drive/MyDrive/DeepFakeDetection/data/FakeAVCeleb_v1.2/real_videos_train/id01163/00217.wav\n"
          ]
        },
        {
          "output_type": "stream",
          "name": "stderr",
          "text": [
            "100%|██████████| 187/187 [00:00<00:00, 3229.78it/s]"
          ]
        },
        {
          "output_type": "stream",
          "name": "stdout",
          "text": [
            "[MoviePy] Done.\n"
          ]
        },
        {
          "output_type": "stream",
          "name": "stderr",
          "text": [
            "\n"
          ]
        },
        {
          "output_type": "stream",
          "name": "stdout",
          "text": [
            "Generating file for id id01163\n",
            "[MoviePy] Writing audio in /content/drive/MyDrive/DeepFakeDetection/data/FakeAVCeleb_v1.2/real_videos_train/id01163/00218.wav\n"
          ]
        },
        {
          "output_type": "stream",
          "name": "stderr",
          "text": [
            "100%|██████████| 89/89 [00:00<00:00, 3205.75it/s]"
          ]
        },
        {
          "output_type": "stream",
          "name": "stdout",
          "text": [
            "[MoviePy] Done.\n"
          ]
        },
        {
          "output_type": "stream",
          "name": "stderr",
          "text": [
            "\n"
          ]
        },
        {
          "output_type": "stream",
          "name": "stdout",
          "text": [
            "Generating file for id id01163\n",
            "[MoviePy] Writing audio in /content/drive/MyDrive/DeepFakeDetection/data/FakeAVCeleb_v1.2/real_videos_train/id01163/00219.wav\n"
          ]
        },
        {
          "output_type": "stream",
          "name": "stderr",
          "text": [
            "100%|██████████| 94/94 [00:00<00:00, 3242.36it/s]"
          ]
        },
        {
          "output_type": "stream",
          "name": "stdout",
          "text": [
            "[MoviePy] Done.\n"
          ]
        },
        {
          "output_type": "stream",
          "name": "stderr",
          "text": [
            "\n"
          ]
        },
        {
          "output_type": "stream",
          "name": "stdout",
          "text": [
            "Generating file for id id01163\n",
            "[MoviePy] Writing audio in /content/drive/MyDrive/DeepFakeDetection/data/FakeAVCeleb_v1.2/real_videos_train/id01163/00220.wav\n"
          ]
        },
        {
          "output_type": "stream",
          "name": "stderr",
          "text": [
            "100%|██████████| 191/191 [00:00<00:00, 3106.18it/s]"
          ]
        },
        {
          "output_type": "stream",
          "name": "stdout",
          "text": [
            "[MoviePy] Done.\n"
          ]
        },
        {
          "output_type": "stream",
          "name": "stderr",
          "text": [
            "\n"
          ]
        },
        {
          "output_type": "stream",
          "name": "stdout",
          "text": [
            "Generating file for id id01163\n",
            "[MoviePy] Writing audio in /content/drive/MyDrive/DeepFakeDetection/data/FakeAVCeleb_v1.2/real_videos_train/id01163/00221.wav\n"
          ]
        },
        {
          "output_type": "stream",
          "name": "stderr",
          "text": [
            "100%|██████████| 327/327 [00:00<00:00, 3269.94it/s]"
          ]
        },
        {
          "output_type": "stream",
          "name": "stdout",
          "text": [
            "[MoviePy] Done.\n"
          ]
        },
        {
          "output_type": "stream",
          "name": "stderr",
          "text": [
            "\n"
          ]
        },
        {
          "output_type": "stream",
          "name": "stdout",
          "text": [
            "Generating file for id id01163\n",
            "[MoviePy] Writing audio in /content/drive/MyDrive/DeepFakeDetection/data/FakeAVCeleb_v1.2/real_videos_train/id01163/00222.wav\n"
          ]
        },
        {
          "output_type": "stream",
          "name": "stderr",
          "text": [
            "100%|██████████| 178/178 [00:00<00:00, 3011.50it/s]"
          ]
        },
        {
          "output_type": "stream",
          "name": "stdout",
          "text": [
            "[MoviePy] Done.\n"
          ]
        },
        {
          "output_type": "stream",
          "name": "stderr",
          "text": [
            "\n"
          ]
        },
        {
          "output_type": "stream",
          "name": "stdout",
          "text": [
            "Generating file for id id01163\n",
            "[MoviePy] Writing audio in /content/drive/MyDrive/DeepFakeDetection/data/FakeAVCeleb_v1.2/real_videos_train/id01163/00224.wav\n"
          ]
        },
        {
          "output_type": "stream",
          "name": "stderr",
          "text": [
            "100%|██████████| 156/156 [00:00<00:00, 3251.53it/s]"
          ]
        },
        {
          "output_type": "stream",
          "name": "stdout",
          "text": [
            "[MoviePy] Done.\n"
          ]
        },
        {
          "output_type": "stream",
          "name": "stderr",
          "text": [
            "\n"
          ]
        },
        {
          "output_type": "stream",
          "name": "stdout",
          "text": [
            "Generating file for id id01163\n",
            "[MoviePy] Writing audio in /content/drive/MyDrive/DeepFakeDetection/data/FakeAVCeleb_v1.2/real_videos_train/id01163/00223.wav\n"
          ]
        },
        {
          "output_type": "stream",
          "name": "stderr",
          "text": [
            "100%|██████████| 123/123 [00:00<00:00, 2782.42it/s]"
          ]
        },
        {
          "output_type": "stream",
          "name": "stdout",
          "text": [
            "[MoviePy] Done.\n"
          ]
        },
        {
          "output_type": "stream",
          "name": "stderr",
          "text": [
            "\n"
          ]
        },
        {
          "output_type": "stream",
          "name": "stdout",
          "text": [
            "Generating file for id id01163\n",
            "[MoviePy] Writing audio in /content/drive/MyDrive/DeepFakeDetection/data/FakeAVCeleb_v1.2/real_videos_train/id01163/00225.wav\n"
          ]
        },
        {
          "output_type": "stream",
          "name": "stderr",
          "text": [
            "100%|██████████| 449/449 [00:00<00:00, 3388.94it/s]"
          ]
        },
        {
          "output_type": "stream",
          "name": "stdout",
          "text": [
            "[MoviePy] Done.\n"
          ]
        },
        {
          "output_type": "stream",
          "name": "stderr",
          "text": [
            "\n"
          ]
        },
        {
          "output_type": "stream",
          "name": "stdout",
          "text": [
            "Generating file for id id01163\n",
            "[MoviePy] Writing audio in /content/drive/MyDrive/DeepFakeDetection/data/FakeAVCeleb_v1.2/real_videos_train/id01163/00227.wav\n"
          ]
        },
        {
          "output_type": "stream",
          "name": "stderr",
          "text": [
            "100%|██████████| 97/97 [00:00<00:00, 3359.74it/s]"
          ]
        },
        {
          "output_type": "stream",
          "name": "stdout",
          "text": [
            "[MoviePy] Done.\n"
          ]
        },
        {
          "output_type": "stream",
          "name": "stderr",
          "text": [
            "\n"
          ]
        },
        {
          "output_type": "stream",
          "name": "stdout",
          "text": [
            "Generating file for id id01163\n",
            "[MoviePy] Writing audio in /content/drive/MyDrive/DeepFakeDetection/data/FakeAVCeleb_v1.2/real_videos_train/id01163/00226.wav\n"
          ]
        },
        {
          "output_type": "stream",
          "name": "stderr",
          "text": [
            "100%|██████████| 217/217 [00:00<00:00, 3135.67it/s]"
          ]
        },
        {
          "output_type": "stream",
          "name": "stdout",
          "text": [
            "[MoviePy] Done.\n"
          ]
        },
        {
          "output_type": "stream",
          "name": "stderr",
          "text": [
            "\n"
          ]
        },
        {
          "output_type": "stream",
          "name": "stdout",
          "text": [
            "Generating file for id id01163\n",
            "[MoviePy] Writing audio in /content/drive/MyDrive/DeepFakeDetection/data/FakeAVCeleb_v1.2/real_videos_train/id01163/00229.wav\n"
          ]
        },
        {
          "output_type": "stream",
          "name": "stderr",
          "text": [
            "100%|██████████| 109/109 [00:00<00:00, 3088.28it/s]"
          ]
        },
        {
          "output_type": "stream",
          "name": "stdout",
          "text": [
            "[MoviePy] Done.\n"
          ]
        },
        {
          "output_type": "stream",
          "name": "stderr",
          "text": [
            "\n"
          ]
        },
        {
          "output_type": "stream",
          "name": "stdout",
          "text": [
            "Generating file for id id01163\n",
            "[MoviePy] Writing audio in /content/drive/MyDrive/DeepFakeDetection/data/FakeAVCeleb_v1.2/real_videos_train/id01163/00228.wav\n"
          ]
        },
        {
          "output_type": "stream",
          "name": "stderr",
          "text": [
            "100%|██████████| 151/151 [00:00<00:00, 3205.29it/s]"
          ]
        },
        {
          "output_type": "stream",
          "name": "stdout",
          "text": [
            "[MoviePy] Done.\n"
          ]
        },
        {
          "output_type": "stream",
          "name": "stderr",
          "text": [
            "\n"
          ]
        },
        {
          "output_type": "stream",
          "name": "stdout",
          "text": [
            "Generating file for id id01163\n",
            "[MoviePy] Writing audio in /content/drive/MyDrive/DeepFakeDetection/data/FakeAVCeleb_v1.2/real_videos_train/id01163/00230.wav\n"
          ]
        },
        {
          "output_type": "stream",
          "name": "stderr",
          "text": [
            "100%|██████████| 411/411 [00:00<00:00, 3335.12it/s]"
          ]
        },
        {
          "output_type": "stream",
          "name": "stdout",
          "text": [
            "[MoviePy] Done.\n"
          ]
        },
        {
          "output_type": "stream",
          "name": "stderr",
          "text": [
            "\n"
          ]
        },
        {
          "output_type": "stream",
          "name": "stdout",
          "text": [
            "Generating file for id id01163\n",
            "[MoviePy] Writing audio in /content/drive/MyDrive/DeepFakeDetection/data/FakeAVCeleb_v1.2/real_videos_train/id01163/00235.wav\n"
          ]
        },
        {
          "output_type": "stream",
          "name": "stderr",
          "text": [
            "100%|██████████| 226/226 [00:00<00:00, 2367.51it/s]"
          ]
        },
        {
          "output_type": "stream",
          "name": "stdout",
          "text": [
            "[MoviePy] Done.\n",
            "Generating file for id id01163\n"
          ]
        },
        {
          "output_type": "stream",
          "name": "stderr",
          "text": [
            "\n"
          ]
        },
        {
          "output_type": "stream",
          "name": "stdout",
          "text": [
            "[MoviePy] Writing audio in /content/drive/MyDrive/DeepFakeDetection/data/FakeAVCeleb_v1.2/real_videos_train/id01163/00236.wav\n"
          ]
        },
        {
          "output_type": "stream",
          "name": "stderr",
          "text": [
            "100%|██████████| 374/374 [00:00<00:00, 3078.56it/s]"
          ]
        },
        {
          "output_type": "stream",
          "name": "stdout",
          "text": [
            "[MoviePy] Done.\n",
            "Generating file for id id01163\n"
          ]
        },
        {
          "output_type": "stream",
          "name": "stderr",
          "text": [
            "\n"
          ]
        },
        {
          "output_type": "stream",
          "name": "stdout",
          "text": [
            "[MoviePy] Writing audio in /content/drive/MyDrive/DeepFakeDetection/data/FakeAVCeleb_v1.2/real_videos_train/id01163/00237.wav\n"
          ]
        },
        {
          "output_type": "stream",
          "name": "stderr",
          "text": [
            "100%|██████████| 356/356 [00:00<00:00, 2218.63it/s]"
          ]
        },
        {
          "output_type": "stream",
          "name": "stdout",
          "text": [
            "[MoviePy] Done.\n"
          ]
        },
        {
          "output_type": "stream",
          "name": "stderr",
          "text": [
            "\n"
          ]
        },
        {
          "output_type": "stream",
          "name": "stdout",
          "text": [
            "Generating file for id id01163\n",
            "[MoviePy] Writing audio in /content/drive/MyDrive/DeepFakeDetection/data/FakeAVCeleb_v1.2/real_videos_train/id01163/00238.wav\n"
          ]
        },
        {
          "output_type": "stream",
          "name": "stderr",
          "text": [
            "100%|██████████| 95/95 [00:00<00:00, 3303.59it/s]"
          ]
        },
        {
          "output_type": "stream",
          "name": "stdout",
          "text": [
            "[MoviePy] Done.\n",
            "Generating file for id id01163\n"
          ]
        },
        {
          "output_type": "stream",
          "name": "stderr",
          "text": [
            "\n"
          ]
        },
        {
          "output_type": "stream",
          "name": "stdout",
          "text": [
            "[MoviePy] Writing audio in /content/drive/MyDrive/DeepFakeDetection/data/FakeAVCeleb_v1.2/real_videos_train/id01163/00239.wav\n"
          ]
        },
        {
          "output_type": "stream",
          "name": "stderr",
          "text": [
            "100%|██████████| 180/180 [00:00<00:00, 3125.53it/s]"
          ]
        },
        {
          "output_type": "stream",
          "name": "stdout",
          "text": [
            "[MoviePy] Done.\n",
            "Generating file for id id01163\n"
          ]
        },
        {
          "output_type": "stream",
          "name": "stderr",
          "text": [
            "\n"
          ]
        },
        {
          "output_type": "stream",
          "name": "stdout",
          "text": [
            "[MoviePy] Writing audio in /content/drive/MyDrive/DeepFakeDetection/data/FakeAVCeleb_v1.2/real_videos_train/id01163/00240.wav\n"
          ]
        },
        {
          "output_type": "stream",
          "name": "stderr",
          "text": [
            "100%|██████████| 189/189 [00:00<00:00, 3184.89it/s]"
          ]
        },
        {
          "output_type": "stream",
          "name": "stdout",
          "text": [
            "[MoviePy] Done.\n",
            "Generating file for id id01163\n"
          ]
        },
        {
          "output_type": "stream",
          "name": "stderr",
          "text": [
            "\n"
          ]
        },
        {
          "output_type": "stream",
          "name": "stdout",
          "text": [
            "[MoviePy] Writing audio in /content/drive/MyDrive/DeepFakeDetection/data/FakeAVCeleb_v1.2/real_videos_train/id01163/00242.wav\n"
          ]
        },
        {
          "output_type": "stream",
          "name": "stderr",
          "text": [
            "100%|██████████| 120/120 [00:00<00:00, 3149.76it/s]"
          ]
        },
        {
          "output_type": "stream",
          "name": "stdout",
          "text": [
            "[MoviePy] Done.\n",
            "Generating file for id id01163\n"
          ]
        },
        {
          "output_type": "stream",
          "name": "stderr",
          "text": [
            "\n"
          ]
        },
        {
          "output_type": "stream",
          "name": "stdout",
          "text": [
            "[MoviePy] Writing audio in /content/drive/MyDrive/DeepFakeDetection/data/FakeAVCeleb_v1.2/real_videos_train/id01163/00241.wav\n"
          ]
        },
        {
          "output_type": "stream",
          "name": "stderr",
          "text": [
            "100%|██████████| 121/121 [00:00<00:00, 3005.98it/s]"
          ]
        },
        {
          "output_type": "stream",
          "name": "stdout",
          "text": [
            "[MoviePy] Done.\n",
            "Generating file for id id01163\n"
          ]
        },
        {
          "output_type": "stream",
          "name": "stderr",
          "text": [
            "\n"
          ]
        },
        {
          "output_type": "stream",
          "name": "stdout",
          "text": [
            "[MoviePy] Writing audio in /content/drive/MyDrive/DeepFakeDetection/data/FakeAVCeleb_v1.2/real_videos_train/id01163/00245.wav\n"
          ]
        },
        {
          "output_type": "stream",
          "name": "stderr",
          "text": [
            "100%|██████████| 122/122 [00:00<00:00, 2579.05it/s]"
          ]
        },
        {
          "output_type": "stream",
          "name": "stdout",
          "text": [
            "[MoviePy] Done.\n",
            "Generating file for id id01163\n"
          ]
        },
        {
          "output_type": "stream",
          "name": "stderr",
          "text": [
            "\n"
          ]
        },
        {
          "output_type": "stream",
          "name": "stdout",
          "text": [
            "[MoviePy] Writing audio in /content/drive/MyDrive/DeepFakeDetection/data/FakeAVCeleb_v1.2/real_videos_train/id01163/00244.wav\n"
          ]
        },
        {
          "output_type": "stream",
          "name": "stderr",
          "text": [
            "100%|██████████| 134/134 [00:00<00:00, 3073.29it/s]"
          ]
        },
        {
          "output_type": "stream",
          "name": "stdout",
          "text": [
            "[MoviePy] Done.\n",
            "Generating file for id id01163\n"
          ]
        },
        {
          "output_type": "stream",
          "name": "stderr",
          "text": [
            "\n"
          ]
        },
        {
          "output_type": "stream",
          "name": "stdout",
          "text": [
            "[MoviePy] Writing audio in /content/drive/MyDrive/DeepFakeDetection/data/FakeAVCeleb_v1.2/real_videos_train/id01163/00247.wav\n"
          ]
        },
        {
          "output_type": "stream",
          "name": "stderr",
          "text": [
            "100%|██████████| 90/90 [00:00<00:00, 2714.56it/s]"
          ]
        },
        {
          "output_type": "stream",
          "name": "stdout",
          "text": [
            "[MoviePy] Done.\n",
            "Generating file for id id01163\n"
          ]
        },
        {
          "output_type": "stream",
          "name": "stderr",
          "text": [
            "\n"
          ]
        },
        {
          "output_type": "stream",
          "name": "stdout",
          "text": [
            "[MoviePy] Writing audio in /content/drive/MyDrive/DeepFakeDetection/data/FakeAVCeleb_v1.2/real_videos_train/id01163/00246.wav\n"
          ]
        },
        {
          "output_type": "stream",
          "name": "stderr",
          "text": [
            "100%|██████████| 239/239 [00:00<00:00, 2981.05it/s]"
          ]
        },
        {
          "output_type": "stream",
          "name": "stdout",
          "text": [
            "[MoviePy] Done.\n",
            "Generating file for id id01163\n"
          ]
        },
        {
          "output_type": "stream",
          "name": "stderr",
          "text": [
            "\n"
          ]
        },
        {
          "output_type": "stream",
          "name": "stdout",
          "text": [
            "[MoviePy] Writing audio in /content/drive/MyDrive/DeepFakeDetection/data/FakeAVCeleb_v1.2/real_videos_train/id01163/00248.wav\n"
          ]
        },
        {
          "output_type": "stream",
          "name": "stderr",
          "text": [
            "100%|██████████| 106/106 [00:00<00:00, 3036.69it/s]"
          ]
        },
        {
          "output_type": "stream",
          "name": "stdout",
          "text": [
            "[MoviePy] Done.\n",
            "Generating file for id id01163\n"
          ]
        },
        {
          "output_type": "stream",
          "name": "stderr",
          "text": [
            "\n"
          ]
        },
        {
          "output_type": "stream",
          "name": "stdout",
          "text": [
            "[MoviePy] Writing audio in /content/drive/MyDrive/DeepFakeDetection/data/FakeAVCeleb_v1.2/real_videos_train/id01163/00249.wav\n"
          ]
        },
        {
          "output_type": "stream",
          "name": "stderr",
          "text": [
            "100%|██████████| 161/161 [00:00<00:00, 2993.06it/s]"
          ]
        },
        {
          "output_type": "stream",
          "name": "stdout",
          "text": [
            "[MoviePy] Done.\n",
            "Generating file for id id01163\n"
          ]
        },
        {
          "output_type": "stream",
          "name": "stderr",
          "text": [
            "\n"
          ]
        },
        {
          "output_type": "stream",
          "name": "stdout",
          "text": [
            "[MoviePy] Writing audio in /content/drive/MyDrive/DeepFakeDetection/data/FakeAVCeleb_v1.2/real_videos_train/id01163/00250.wav\n"
          ]
        },
        {
          "output_type": "stream",
          "name": "stderr",
          "text": [
            "100%|██████████| 147/147 [00:00<00:00, 2161.57it/s]"
          ]
        },
        {
          "output_type": "stream",
          "name": "stdout",
          "text": [
            "[MoviePy] Done.\n",
            "Generating file for id id01163\n"
          ]
        },
        {
          "output_type": "stream",
          "name": "stderr",
          "text": [
            "\n"
          ]
        },
        {
          "output_type": "stream",
          "name": "stdout",
          "text": [
            "[MoviePy] Writing audio in /content/drive/MyDrive/DeepFakeDetection/data/FakeAVCeleb_v1.2/real_videos_train/id01163/00251.wav\n"
          ]
        },
        {
          "output_type": "stream",
          "name": "stderr",
          "text": [
            "100%|██████████| 95/95 [00:00<00:00, 3253.28it/s]"
          ]
        },
        {
          "output_type": "stream",
          "name": "stdout",
          "text": [
            "[MoviePy] Done.\n",
            "Generating file for id id01163\n"
          ]
        },
        {
          "output_type": "stream",
          "name": "stderr",
          "text": [
            "\n"
          ]
        },
        {
          "output_type": "stream",
          "name": "stdout",
          "text": [
            "[MoviePy] Writing audio in /content/drive/MyDrive/DeepFakeDetection/data/FakeAVCeleb_v1.2/real_videos_train/id01163/00253.wav\n"
          ]
        },
        {
          "output_type": "stream",
          "name": "stderr",
          "text": [
            "100%|██████████| 222/222 [00:00<00:00, 3136.78it/s]"
          ]
        },
        {
          "output_type": "stream",
          "name": "stdout",
          "text": [
            "[MoviePy] Done.\n",
            "Generating file for id id01163\n"
          ]
        },
        {
          "output_type": "stream",
          "name": "stderr",
          "text": [
            "\n"
          ]
        },
        {
          "output_type": "stream",
          "name": "stdout",
          "text": [
            "[MoviePy] Writing audio in /content/drive/MyDrive/DeepFakeDetection/data/FakeAVCeleb_v1.2/real_videos_train/id01163/00254.wav\n"
          ]
        },
        {
          "output_type": "stream",
          "name": "stderr",
          "text": [
            "100%|██████████| 173/173 [00:00<00:00, 3020.99it/s]"
          ]
        },
        {
          "output_type": "stream",
          "name": "stdout",
          "text": [
            "[MoviePy] Done.\n",
            "Generating file for id id01163\n"
          ]
        },
        {
          "output_type": "stream",
          "name": "stderr",
          "text": [
            "\n"
          ]
        },
        {
          "output_type": "stream",
          "name": "stdout",
          "text": [
            "[MoviePy] Writing audio in /content/drive/MyDrive/DeepFakeDetection/data/FakeAVCeleb_v1.2/real_videos_train/id01163/00256.wav\n"
          ]
        },
        {
          "output_type": "stream",
          "name": "stderr",
          "text": [
            "100%|██████████| 111/111 [00:00<00:00, 3005.64it/s]"
          ]
        },
        {
          "output_type": "stream",
          "name": "stdout",
          "text": [
            "[MoviePy] Done.\n",
            "Generating file for id id01163\n"
          ]
        },
        {
          "output_type": "stream",
          "name": "stderr",
          "text": [
            "\n"
          ]
        },
        {
          "output_type": "stream",
          "name": "stdout",
          "text": [
            "[MoviePy] Writing audio in /content/drive/MyDrive/DeepFakeDetection/data/FakeAVCeleb_v1.2/real_videos_train/id01163/00257.wav\n"
          ]
        },
        {
          "output_type": "stream",
          "name": "stderr",
          "text": [
            "100%|██████████| 152/152 [00:00<00:00, 3138.60it/s]"
          ]
        },
        {
          "output_type": "stream",
          "name": "stdout",
          "text": [
            "[MoviePy] Done.\n",
            "Generating file for id id01163\n"
          ]
        },
        {
          "output_type": "stream",
          "name": "stderr",
          "text": [
            "\n"
          ]
        },
        {
          "output_type": "stream",
          "name": "stdout",
          "text": [
            "[MoviePy] Writing audio in /content/drive/MyDrive/DeepFakeDetection/data/FakeAVCeleb_v1.2/real_videos_train/id01163/00259.wav\n"
          ]
        },
        {
          "output_type": "stream",
          "name": "stderr",
          "text": [
            "100%|██████████| 273/273 [00:00<00:00, 3041.21it/s]"
          ]
        },
        {
          "output_type": "stream",
          "name": "stdout",
          "text": [
            "[MoviePy] Done.\n",
            "Generating file for id id01163\n"
          ]
        },
        {
          "output_type": "stream",
          "name": "stderr",
          "text": [
            "\n"
          ]
        },
        {
          "output_type": "stream",
          "name": "stdout",
          "text": [
            "[MoviePy] Writing audio in /content/drive/MyDrive/DeepFakeDetection/data/FakeAVCeleb_v1.2/real_videos_train/id01163/00258.wav\n"
          ]
        },
        {
          "output_type": "stream",
          "name": "stderr",
          "text": [
            "100%|██████████| 222/222 [00:00<00:00, 3082.29it/s]"
          ]
        },
        {
          "output_type": "stream",
          "name": "stdout",
          "text": [
            "[MoviePy] Done.\n",
            "Generating file for id id01163\n"
          ]
        },
        {
          "output_type": "stream",
          "name": "stderr",
          "text": [
            "\n"
          ]
        },
        {
          "output_type": "stream",
          "name": "stdout",
          "text": [
            "[MoviePy] Writing audio in /content/drive/MyDrive/DeepFakeDetection/data/FakeAVCeleb_v1.2/real_videos_train/id01163/00261.wav\n"
          ]
        },
        {
          "output_type": "stream",
          "name": "stderr",
          "text": [
            "100%|██████████| 118/118 [00:00<00:00, 2964.69it/s]"
          ]
        },
        {
          "output_type": "stream",
          "name": "stdout",
          "text": [
            "[MoviePy] Done.\n",
            "Generating file for id id01163\n"
          ]
        },
        {
          "output_type": "stream",
          "name": "stderr",
          "text": [
            "\n"
          ]
        },
        {
          "output_type": "stream",
          "name": "stdout",
          "text": [
            "[MoviePy] Writing audio in /content/drive/MyDrive/DeepFakeDetection/data/FakeAVCeleb_v1.2/real_videos_train/id01163/00260.wav\n"
          ]
        },
        {
          "output_type": "stream",
          "name": "stderr",
          "text": [
            "100%|██████████| 239/239 [00:00<00:00, 3206.31it/s]"
          ]
        },
        {
          "output_type": "stream",
          "name": "stdout",
          "text": [
            "[MoviePy] Done.\n",
            "Generating file for id id01163\n"
          ]
        },
        {
          "output_type": "stream",
          "name": "stderr",
          "text": [
            "\n"
          ]
        },
        {
          "output_type": "stream",
          "name": "stdout",
          "text": [
            "[MoviePy] Writing audio in /content/drive/MyDrive/DeepFakeDetection/data/FakeAVCeleb_v1.2/real_videos_train/id01163/00262.wav\n"
          ]
        },
        {
          "output_type": "stream",
          "name": "stderr",
          "text": [
            "100%|██████████| 227/227 [00:00<00:00, 3022.09it/s]"
          ]
        },
        {
          "output_type": "stream",
          "name": "stdout",
          "text": [
            "[MoviePy] Done.\n",
            "Generating file for id id01163\n"
          ]
        },
        {
          "output_type": "stream",
          "name": "stderr",
          "text": [
            "\n"
          ]
        },
        {
          "output_type": "stream",
          "name": "stdout",
          "text": [
            "[MoviePy] Writing audio in /content/drive/MyDrive/DeepFakeDetection/data/FakeAVCeleb_v1.2/real_videos_train/id01163/00263.wav\n"
          ]
        },
        {
          "output_type": "stream",
          "name": "stderr",
          "text": [
            "100%|██████████| 157/157 [00:00<00:00, 3105.60it/s]"
          ]
        },
        {
          "output_type": "stream",
          "name": "stdout",
          "text": [
            "[MoviePy] Done.\n",
            "Generating file for id id01163\n"
          ]
        },
        {
          "output_type": "stream",
          "name": "stderr",
          "text": [
            "\n"
          ]
        },
        {
          "output_type": "stream",
          "name": "stdout",
          "text": [
            "[MoviePy] Writing audio in /content/drive/MyDrive/DeepFakeDetection/data/FakeAVCeleb_v1.2/real_videos_train/id01163/00264.wav\n"
          ]
        },
        {
          "output_type": "stream",
          "name": "stderr",
          "text": [
            "100%|██████████| 154/154 [00:00<00:00, 2978.79it/s]"
          ]
        },
        {
          "output_type": "stream",
          "name": "stdout",
          "text": [
            "[MoviePy] Done.\n",
            "Generating file for id id01163\n"
          ]
        },
        {
          "output_type": "stream",
          "name": "stderr",
          "text": [
            "\n"
          ]
        },
        {
          "output_type": "stream",
          "name": "stdout",
          "text": [
            "[MoviePy] Writing audio in /content/drive/MyDrive/DeepFakeDetection/data/FakeAVCeleb_v1.2/real_videos_train/id01163/00265.wav\n"
          ]
        },
        {
          "output_type": "stream",
          "name": "stderr",
          "text": [
            "100%|██████████| 107/107 [00:00<00:00, 3092.61it/s]"
          ]
        },
        {
          "output_type": "stream",
          "name": "stdout",
          "text": [
            "[MoviePy] Done.\n",
            "Generating file for id id01163\n"
          ]
        },
        {
          "output_type": "stream",
          "name": "stderr",
          "text": [
            "\n"
          ]
        },
        {
          "output_type": "stream",
          "name": "stdout",
          "text": [
            "[MoviePy] Writing audio in /content/drive/MyDrive/DeepFakeDetection/data/FakeAVCeleb_v1.2/real_videos_train/id01163/00267.wav\n"
          ]
        },
        {
          "output_type": "stream",
          "name": "stderr",
          "text": [
            "100%|██████████| 99/99 [00:00<00:00, 2832.60it/s]"
          ]
        },
        {
          "output_type": "stream",
          "name": "stdout",
          "text": [
            "[MoviePy] Done.\n",
            "Generating file for id id01163\n"
          ]
        },
        {
          "output_type": "stream",
          "name": "stderr",
          "text": [
            "\n"
          ]
        },
        {
          "output_type": "stream",
          "name": "stdout",
          "text": [
            "[MoviePy] Writing audio in /content/drive/MyDrive/DeepFakeDetection/data/FakeAVCeleb_v1.2/real_videos_train/id01163/00266.wav\n"
          ]
        },
        {
          "output_type": "stream",
          "name": "stderr",
          "text": [
            "100%|██████████| 244/244 [00:00<00:00, 3285.13it/s]"
          ]
        },
        {
          "output_type": "stream",
          "name": "stdout",
          "text": [
            "[MoviePy] Done.\n",
            "Generating file for id id01163\n"
          ]
        },
        {
          "output_type": "stream",
          "name": "stderr",
          "text": [
            "\n"
          ]
        },
        {
          "output_type": "stream",
          "name": "stdout",
          "text": [
            "[MoviePy] Writing audio in /content/drive/MyDrive/DeepFakeDetection/data/FakeAVCeleb_v1.2/real_videos_train/id01163/00268.wav\n"
          ]
        },
        {
          "output_type": "stream",
          "name": "stderr",
          "text": [
            "100%|██████████| 135/135 [00:00<00:00, 2596.44it/s]"
          ]
        },
        {
          "output_type": "stream",
          "name": "stdout",
          "text": [
            "[MoviePy] Done.\n",
            "Generating file for id id01163\n"
          ]
        },
        {
          "output_type": "stream",
          "name": "stderr",
          "text": [
            "\n"
          ]
        },
        {
          "output_type": "stream",
          "name": "stdout",
          "text": [
            "[MoviePy] Writing audio in /content/drive/MyDrive/DeepFakeDetection/data/FakeAVCeleb_v1.2/real_videos_train/id01163/00270.wav\n"
          ]
        },
        {
          "output_type": "stream",
          "name": "stderr",
          "text": [
            "100%|██████████| 102/102 [00:00<00:00, 2348.41it/s]"
          ]
        },
        {
          "output_type": "stream",
          "name": "stdout",
          "text": [
            "[MoviePy] Done.\n",
            "Generating file for id id01163\n"
          ]
        },
        {
          "output_type": "stream",
          "name": "stderr",
          "text": [
            "\n"
          ]
        },
        {
          "output_type": "stream",
          "name": "stdout",
          "text": [
            "[MoviePy] Writing audio in /content/drive/MyDrive/DeepFakeDetection/data/FakeAVCeleb_v1.2/real_videos_train/id01163/00269.wav\n"
          ]
        },
        {
          "output_type": "stream",
          "name": "stderr",
          "text": [
            "100%|██████████| 159/159 [00:00<00:00, 2277.37it/s]"
          ]
        },
        {
          "output_type": "stream",
          "name": "stdout",
          "text": [
            "[MoviePy] Done.\n",
            "Generating file for id id01163\n"
          ]
        },
        {
          "output_type": "stream",
          "name": "stderr",
          "text": [
            "\n"
          ]
        },
        {
          "output_type": "stream",
          "name": "stdout",
          "text": [
            "[MoviePy] Writing audio in /content/drive/MyDrive/DeepFakeDetection/data/FakeAVCeleb_v1.2/real_videos_train/id01163/00271.wav\n"
          ]
        },
        {
          "output_type": "stream",
          "name": "stderr",
          "text": [
            "100%|██████████| 90/90 [00:00<00:00, 2408.78it/s]"
          ]
        },
        {
          "output_type": "stream",
          "name": "stdout",
          "text": [
            "[MoviePy] Done.\n",
            "Generating file for id id01163\n"
          ]
        },
        {
          "output_type": "stream",
          "name": "stderr",
          "text": [
            "\n"
          ]
        },
        {
          "output_type": "stream",
          "name": "stdout",
          "text": [
            "[MoviePy] Writing audio in /content/drive/MyDrive/DeepFakeDetection/data/FakeAVCeleb_v1.2/real_videos_train/id01163/00272.wav\n"
          ]
        },
        {
          "output_type": "stream",
          "name": "stderr",
          "text": [
            "100%|██████████| 112/112 [00:00<00:00, 2876.28it/s]"
          ]
        },
        {
          "output_type": "stream",
          "name": "stdout",
          "text": [
            "[MoviePy] Done.\n",
            "Generating file for id id01163\n"
          ]
        },
        {
          "output_type": "stream",
          "name": "stderr",
          "text": [
            "\n"
          ]
        },
        {
          "output_type": "stream",
          "name": "stdout",
          "text": [
            "[MoviePy] Writing audio in /content/drive/MyDrive/DeepFakeDetection/data/FakeAVCeleb_v1.2/real_videos_train/id01163/00274.wav\n"
          ]
        },
        {
          "output_type": "stream",
          "name": "stderr",
          "text": [
            "100%|██████████| 145/145 [00:00<00:00, 3100.81it/s]"
          ]
        },
        {
          "output_type": "stream",
          "name": "stdout",
          "text": [
            "[MoviePy] Done.\n",
            "Generating file for id id01163\n"
          ]
        },
        {
          "output_type": "stream",
          "name": "stderr",
          "text": [
            "\n"
          ]
        },
        {
          "output_type": "stream",
          "name": "stdout",
          "text": [
            "[MoviePy] Writing audio in /content/drive/MyDrive/DeepFakeDetection/data/FakeAVCeleb_v1.2/real_videos_train/id01163/00273.wav\n"
          ]
        },
        {
          "output_type": "stream",
          "name": "stderr",
          "text": [
            "100%|██████████| 97/97 [00:00<00:00, 3266.36it/s]"
          ]
        },
        {
          "output_type": "stream",
          "name": "stdout",
          "text": [
            "[MoviePy] Done.\n",
            "Generating file for id id01163\n"
          ]
        },
        {
          "output_type": "stream",
          "name": "stderr",
          "text": [
            "\n"
          ]
        },
        {
          "output_type": "stream",
          "name": "stdout",
          "text": [
            "[MoviePy] Writing audio in /content/drive/MyDrive/DeepFakeDetection/data/FakeAVCeleb_v1.2/real_videos_train/id01163/00275.wav\n"
          ]
        },
        {
          "output_type": "stream",
          "name": "stderr",
          "text": [
            "100%|██████████| 134/134 [00:00<00:00, 3018.07it/s]"
          ]
        },
        {
          "output_type": "stream",
          "name": "stdout",
          "text": [
            "[MoviePy] Done.\n",
            "Generating file for id id01163\n"
          ]
        },
        {
          "output_type": "stream",
          "name": "stderr",
          "text": [
            "\n"
          ]
        },
        {
          "output_type": "stream",
          "name": "stdout",
          "text": [
            "[MoviePy] Writing audio in /content/drive/MyDrive/DeepFakeDetection/data/FakeAVCeleb_v1.2/real_videos_train/id01163/00276.wav\n"
          ]
        },
        {
          "output_type": "stream",
          "name": "stderr",
          "text": [
            "100%|██████████| 132/132 [00:00<00:00, 2799.51it/s]"
          ]
        },
        {
          "output_type": "stream",
          "name": "stdout",
          "text": [
            "[MoviePy] Done.\n",
            "Generating file for id id01163\n"
          ]
        },
        {
          "output_type": "stream",
          "name": "stderr",
          "text": [
            "\n"
          ]
        },
        {
          "output_type": "stream",
          "name": "stdout",
          "text": [
            "[MoviePy] Writing audio in /content/drive/MyDrive/DeepFakeDetection/data/FakeAVCeleb_v1.2/real_videos_train/id01163/00277.wav\n"
          ]
        },
        {
          "output_type": "stream",
          "name": "stderr",
          "text": [
            "100%|██████████| 108/108 [00:00<00:00, 3093.04it/s]"
          ]
        },
        {
          "output_type": "stream",
          "name": "stdout",
          "text": [
            "[MoviePy] Done.\n",
            "Generating file for id id01163\n"
          ]
        },
        {
          "output_type": "stream",
          "name": "stderr",
          "text": [
            "\n"
          ]
        },
        {
          "output_type": "stream",
          "name": "stdout",
          "text": [
            "[MoviePy] Writing audio in /content/drive/MyDrive/DeepFakeDetection/data/FakeAVCeleb_v1.2/real_videos_train/id01163/00278.wav\n"
          ]
        },
        {
          "output_type": "stream",
          "name": "stderr",
          "text": [
            "100%|██████████| 119/119 [00:00<00:00, 2883.75it/s]"
          ]
        },
        {
          "output_type": "stream",
          "name": "stdout",
          "text": [
            "[MoviePy] Done.\n",
            "Generating file for id id01163\n"
          ]
        },
        {
          "output_type": "stream",
          "name": "stderr",
          "text": [
            "\n"
          ]
        },
        {
          "output_type": "stream",
          "name": "stdout",
          "text": [
            "[MoviePy] Writing audio in /content/drive/MyDrive/DeepFakeDetection/data/FakeAVCeleb_v1.2/real_videos_train/id01163/00280.wav\n"
          ]
        },
        {
          "output_type": "stream",
          "name": "stderr",
          "text": [
            "100%|██████████| 115/115 [00:00<00:00, 2989.34it/s]"
          ]
        },
        {
          "output_type": "stream",
          "name": "stdout",
          "text": [
            "[MoviePy] Done.\n",
            "Generating file for id id01163\n"
          ]
        },
        {
          "output_type": "stream",
          "name": "stderr",
          "text": [
            "\n"
          ]
        },
        {
          "output_type": "stream",
          "name": "stdout",
          "text": [
            "[MoviePy] Writing audio in /content/drive/MyDrive/DeepFakeDetection/data/FakeAVCeleb_v1.2/real_videos_train/id01163/00279.wav\n"
          ]
        },
        {
          "output_type": "stream",
          "name": "stderr",
          "text": [
            "100%|██████████| 160/160 [00:00<00:00, 3013.93it/s]"
          ]
        },
        {
          "output_type": "stream",
          "name": "stdout",
          "text": [
            "[MoviePy] Done.\n",
            "Generating file for id id01163\n"
          ]
        },
        {
          "output_type": "stream",
          "name": "stderr",
          "text": [
            "\n"
          ]
        },
        {
          "output_type": "stream",
          "name": "stdout",
          "text": [
            "[MoviePy] Writing audio in /content/drive/MyDrive/DeepFakeDetection/data/FakeAVCeleb_v1.2/real_videos_train/id01163/00281.wav\n"
          ]
        },
        {
          "output_type": "stream",
          "name": "stderr",
          "text": [
            "100%|██████████| 102/102 [00:00<00:00, 3135.35it/s]"
          ]
        },
        {
          "output_type": "stream",
          "name": "stdout",
          "text": [
            "[MoviePy] Done.\n",
            "Generating file for id id01163\n"
          ]
        },
        {
          "output_type": "stream",
          "name": "stderr",
          "text": [
            "\n"
          ]
        },
        {
          "output_type": "stream",
          "name": "stdout",
          "text": [
            "[MoviePy] Writing audio in /content/drive/MyDrive/DeepFakeDetection/data/FakeAVCeleb_v1.2/real_videos_train/id01163/00282.wav\n"
          ]
        },
        {
          "output_type": "stream",
          "name": "stderr",
          "text": [
            "100%|██████████| 190/190 [00:00<00:00, 3160.54it/s]"
          ]
        },
        {
          "output_type": "stream",
          "name": "stdout",
          "text": [
            "[MoviePy] Done.\n",
            "Generating file for id id01163\n"
          ]
        },
        {
          "output_type": "stream",
          "name": "stderr",
          "text": [
            "\n"
          ]
        },
        {
          "output_type": "stream",
          "name": "stdout",
          "text": [
            "[MoviePy] Writing audio in /content/drive/MyDrive/DeepFakeDetection/data/FakeAVCeleb_v1.2/real_videos_train/id01163/00284.wav\n"
          ]
        },
        {
          "output_type": "stream",
          "name": "stderr",
          "text": [
            "100%|██████████| 197/197 [00:00<00:00, 3150.86it/s]"
          ]
        },
        {
          "output_type": "stream",
          "name": "stdout",
          "text": [
            "[MoviePy] Done.\n",
            "Generating file for id id01163\n"
          ]
        },
        {
          "output_type": "stream",
          "name": "stderr",
          "text": [
            "\n"
          ]
        },
        {
          "output_type": "stream",
          "name": "stdout",
          "text": [
            "[MoviePy] Writing audio in /content/drive/MyDrive/DeepFakeDetection/data/FakeAVCeleb_v1.2/real_videos_train/id01163/00283.wav\n"
          ]
        },
        {
          "output_type": "stream",
          "name": "stderr",
          "text": [
            "100%|██████████| 170/170 [00:00<00:00, 2998.68it/s]"
          ]
        },
        {
          "output_type": "stream",
          "name": "stdout",
          "text": [
            "[MoviePy] Done.\n",
            "Generating file for id id01163\n"
          ]
        },
        {
          "output_type": "stream",
          "name": "stderr",
          "text": [
            "\n"
          ]
        },
        {
          "output_type": "stream",
          "name": "stdout",
          "text": [
            "[MoviePy] Writing audio in /content/drive/MyDrive/DeepFakeDetection/data/FakeAVCeleb_v1.2/real_videos_train/id01163/00285.wav\n"
          ]
        },
        {
          "output_type": "stream",
          "name": "stderr",
          "text": [
            "100%|██████████| 262/262 [00:00<00:00, 2678.49it/s]"
          ]
        },
        {
          "output_type": "stream",
          "name": "stdout",
          "text": [
            "[MoviePy] Done.\n",
            "Generating file for id id01163\n"
          ]
        },
        {
          "output_type": "stream",
          "name": "stderr",
          "text": [
            "\n"
          ]
        },
        {
          "output_type": "stream",
          "name": "stdout",
          "text": [
            "[MoviePy] Writing audio in /content/drive/MyDrive/DeepFakeDetection/data/FakeAVCeleb_v1.2/real_videos_train/id01163/00293.wav\n"
          ]
        },
        {
          "output_type": "stream",
          "name": "stderr",
          "text": [
            "100%|██████████| 116/116 [00:00<00:00, 3008.81it/s]"
          ]
        },
        {
          "output_type": "stream",
          "name": "stdout",
          "text": [
            "[MoviePy] Done.\n",
            "Generating file for id id01163\n"
          ]
        },
        {
          "output_type": "stream",
          "name": "stderr",
          "text": [
            "\n"
          ]
        },
        {
          "output_type": "stream",
          "name": "stdout",
          "text": [
            "[MoviePy] Writing audio in /content/drive/MyDrive/DeepFakeDetection/data/FakeAVCeleb_v1.2/real_videos_train/id01163/00294.wav\n"
          ]
        },
        {
          "output_type": "stream",
          "name": "stderr",
          "text": [
            "100%|██████████| 93/93 [00:00<00:00, 3029.58it/s]"
          ]
        },
        {
          "output_type": "stream",
          "name": "stdout",
          "text": [
            "[MoviePy] Done.\n",
            "Generating file for id id01163\n"
          ]
        },
        {
          "output_type": "stream",
          "name": "stderr",
          "text": [
            "\n"
          ]
        },
        {
          "output_type": "stream",
          "name": "stdout",
          "text": [
            "[MoviePy] Writing audio in /content/drive/MyDrive/DeepFakeDetection/data/FakeAVCeleb_v1.2/real_videos_train/id01163/00295.wav\n"
          ]
        },
        {
          "output_type": "stream",
          "name": "stderr",
          "text": [
            "100%|██████████| 125/125 [00:00<00:00, 2950.89it/s]"
          ]
        },
        {
          "output_type": "stream",
          "name": "stdout",
          "text": [
            "[MoviePy] Done.\n",
            "Generating file for id id01163\n"
          ]
        },
        {
          "output_type": "stream",
          "name": "stderr",
          "text": [
            "\n"
          ]
        },
        {
          "output_type": "stream",
          "name": "stdout",
          "text": [
            "[MoviePy] Writing audio in /content/drive/MyDrive/DeepFakeDetection/data/FakeAVCeleb_v1.2/real_videos_train/id01163/00297.wav\n"
          ]
        },
        {
          "output_type": "stream",
          "name": "stderr",
          "text": [
            "100%|██████████| 254/254 [00:00<00:00, 3268.36it/s]"
          ]
        },
        {
          "output_type": "stream",
          "name": "stdout",
          "text": [
            "[MoviePy] Done.\n",
            "Generating file for id id01163\n"
          ]
        },
        {
          "output_type": "stream",
          "name": "stderr",
          "text": [
            "\n"
          ]
        },
        {
          "output_type": "stream",
          "name": "stdout",
          "text": [
            "[MoviePy] Writing audio in /content/drive/MyDrive/DeepFakeDetection/data/FakeAVCeleb_v1.2/real_videos_train/id01163/00296.wav\n"
          ]
        },
        {
          "output_type": "stream",
          "name": "stderr",
          "text": [
            "100%|██████████| 162/162 [00:00<00:00, 3071.89it/s]"
          ]
        },
        {
          "output_type": "stream",
          "name": "stdout",
          "text": [
            "[MoviePy] Done.\n",
            "Generating file for id id01163\n"
          ]
        },
        {
          "output_type": "stream",
          "name": "stderr",
          "text": [
            "\n"
          ]
        },
        {
          "output_type": "stream",
          "name": "stdout",
          "text": [
            "[MoviePy] Writing audio in /content/drive/MyDrive/DeepFakeDetection/data/FakeAVCeleb_v1.2/real_videos_train/id01163/00299.wav\n"
          ]
        },
        {
          "output_type": "stream",
          "name": "stderr",
          "text": [
            "100%|██████████| 118/118 [00:00<00:00, 2559.57it/s]"
          ]
        },
        {
          "output_type": "stream",
          "name": "stdout",
          "text": [
            "[MoviePy] Done.\n",
            "Generating file for id id01163\n"
          ]
        },
        {
          "output_type": "stream",
          "name": "stderr",
          "text": [
            "\n"
          ]
        },
        {
          "output_type": "stream",
          "name": "stdout",
          "text": [
            "[MoviePy] Writing audio in /content/drive/MyDrive/DeepFakeDetection/data/FakeAVCeleb_v1.2/real_videos_train/id01163/00298.wav\n"
          ]
        },
        {
          "output_type": "stream",
          "name": "stderr",
          "text": [
            "100%|██████████| 204/204 [00:00<00:00, 3141.66it/s]"
          ]
        },
        {
          "output_type": "stream",
          "name": "stdout",
          "text": [
            "[MoviePy] Done.\n",
            "Generating file for id id01163\n"
          ]
        },
        {
          "output_type": "stream",
          "name": "stderr",
          "text": [
            "\n"
          ]
        },
        {
          "output_type": "stream",
          "name": "stdout",
          "text": [
            "[MoviePy] Writing audio in /content/drive/MyDrive/DeepFakeDetection/data/FakeAVCeleb_v1.2/real_videos_train/id01163/00300.wav\n"
          ]
        },
        {
          "output_type": "stream",
          "name": "stderr",
          "text": [
            "100%|██████████| 102/102 [00:00<00:00, 3471.99it/s]"
          ]
        },
        {
          "output_type": "stream",
          "name": "stdout",
          "text": [
            "[MoviePy] Done.\n",
            "Generating file for id id01163\n"
          ]
        },
        {
          "output_type": "stream",
          "name": "stderr",
          "text": [
            "\n"
          ]
        },
        {
          "output_type": "stream",
          "name": "stdout",
          "text": [
            "[MoviePy] Writing audio in /content/drive/MyDrive/DeepFakeDetection/data/FakeAVCeleb_v1.2/real_videos_train/id01163/00302.wav\n"
          ]
        },
        {
          "output_type": "stream",
          "name": "stderr",
          "text": [
            "100%|██████████| 191/191 [00:00<00:00, 3137.54it/s]"
          ]
        },
        {
          "output_type": "stream",
          "name": "stdout",
          "text": [
            "[MoviePy] Done.\n",
            "Generating file for id id01163\n"
          ]
        },
        {
          "output_type": "stream",
          "name": "stderr",
          "text": [
            "\n"
          ]
        },
        {
          "output_type": "stream",
          "name": "stdout",
          "text": [
            "[MoviePy] Writing audio in /content/drive/MyDrive/DeepFakeDetection/data/FakeAVCeleb_v1.2/real_videos_train/id01163/00301.wav\n"
          ]
        },
        {
          "output_type": "stream",
          "name": "stderr",
          "text": [
            "100%|██████████| 148/148 [00:00<00:00, 3080.36it/s]"
          ]
        },
        {
          "output_type": "stream",
          "name": "stdout",
          "text": [
            "[MoviePy] Done.\n",
            "Generating file for id id01163\n"
          ]
        },
        {
          "output_type": "stream",
          "name": "stderr",
          "text": [
            "\n"
          ]
        },
        {
          "output_type": "stream",
          "name": "stdout",
          "text": [
            "[MoviePy] Writing audio in /content/drive/MyDrive/DeepFakeDetection/data/FakeAVCeleb_v1.2/real_videos_train/id01163/00304.wav\n"
          ]
        },
        {
          "output_type": "stream",
          "name": "stderr",
          "text": [
            "100%|██████████| 116/116 [00:00<00:00, 2887.27it/s]"
          ]
        },
        {
          "output_type": "stream",
          "name": "stdout",
          "text": [
            "[MoviePy] Done.\n",
            "Generating file for id id01163\n"
          ]
        },
        {
          "output_type": "stream",
          "name": "stderr",
          "text": [
            "\n"
          ]
        },
        {
          "output_type": "stream",
          "name": "stdout",
          "text": [
            "[MoviePy] Writing audio in /content/drive/MyDrive/DeepFakeDetection/data/FakeAVCeleb_v1.2/real_videos_train/id01163/00303.wav\n"
          ]
        },
        {
          "output_type": "stream",
          "name": "stderr",
          "text": [
            "100%|██████████| 210/210 [00:00<00:00, 3272.36it/s]"
          ]
        },
        {
          "output_type": "stream",
          "name": "stdout",
          "text": [
            "[MoviePy] Done.\n",
            "Generating file for id id01163\n"
          ]
        },
        {
          "output_type": "stream",
          "name": "stderr",
          "text": [
            "\n"
          ]
        },
        {
          "output_type": "stream",
          "name": "stdout",
          "text": [
            "[MoviePy] Writing audio in /content/drive/MyDrive/DeepFakeDetection/data/FakeAVCeleb_v1.2/real_videos_train/id01163/00305.wav\n"
          ]
        },
        {
          "output_type": "stream",
          "name": "stderr",
          "text": [
            "100%|██████████| 137/137 [00:00<00:00, 2652.03it/s]"
          ]
        },
        {
          "output_type": "stream",
          "name": "stdout",
          "text": [
            "[MoviePy] Done.\n",
            "Generating file for id id01163\n"
          ]
        },
        {
          "output_type": "stream",
          "name": "stderr",
          "text": [
            "\n"
          ]
        },
        {
          "output_type": "stream",
          "name": "stdout",
          "text": [
            "[MoviePy] Writing audio in /content/drive/MyDrive/DeepFakeDetection/data/FakeAVCeleb_v1.2/real_videos_train/id01163/00306.wav\n"
          ]
        },
        {
          "output_type": "stream",
          "name": "stderr",
          "text": [
            "100%|██████████| 94/94 [00:00<00:00, 3234.12it/s]"
          ]
        },
        {
          "output_type": "stream",
          "name": "stdout",
          "text": [
            "[MoviePy] Done.\n",
            "Generating file for id id01163\n"
          ]
        },
        {
          "output_type": "stream",
          "name": "stderr",
          "text": [
            "\n"
          ]
        },
        {
          "output_type": "stream",
          "name": "stdout",
          "text": [
            "[MoviePy] Writing audio in /content/drive/MyDrive/DeepFakeDetection/data/FakeAVCeleb_v1.2/real_videos_train/id01163/00308.wav\n"
          ]
        },
        {
          "output_type": "stream",
          "name": "stderr",
          "text": [
            "100%|██████████| 96/96 [00:00<00:00, 3049.48it/s]"
          ]
        },
        {
          "output_type": "stream",
          "name": "stdout",
          "text": [
            "[MoviePy] Done.\n",
            "Generating file for id id01163\n"
          ]
        },
        {
          "output_type": "stream",
          "name": "stderr",
          "text": [
            "\n"
          ]
        },
        {
          "output_type": "stream",
          "name": "stdout",
          "text": [
            "[MoviePy] Writing audio in /content/drive/MyDrive/DeepFakeDetection/data/FakeAVCeleb_v1.2/real_videos_train/id01163/00307.wav\n"
          ]
        },
        {
          "output_type": "stream",
          "name": "stderr",
          "text": [
            "100%|██████████| 98/98 [00:00<00:00, 3123.01it/s]"
          ]
        },
        {
          "output_type": "stream",
          "name": "stdout",
          "text": [
            "[MoviePy] Done.\n",
            "Generating file for id id01163\n"
          ]
        },
        {
          "output_type": "stream",
          "name": "stderr",
          "text": [
            "\n"
          ]
        },
        {
          "output_type": "stream",
          "name": "stdout",
          "text": [
            "[MoviePy] Writing audio in /content/drive/MyDrive/DeepFakeDetection/data/FakeAVCeleb_v1.2/real_videos_train/id01163/00310.wav\n"
          ]
        },
        {
          "output_type": "stream",
          "name": "stderr",
          "text": [
            "100%|██████████| 110/110 [00:00<00:00, 3123.87it/s]"
          ]
        },
        {
          "output_type": "stream",
          "name": "stdout",
          "text": [
            "[MoviePy] Done.\n",
            "Generating file for id id01163\n"
          ]
        },
        {
          "output_type": "stream",
          "name": "stderr",
          "text": [
            "\n"
          ]
        },
        {
          "output_type": "stream",
          "name": "stdout",
          "text": [
            "[MoviePy] Writing audio in /content/drive/MyDrive/DeepFakeDetection/data/FakeAVCeleb_v1.2/real_videos_train/id01163/00309.wav\n"
          ]
        },
        {
          "output_type": "stream",
          "name": "stderr",
          "text": [
            "100%|██████████| 130/130 [00:00<00:00, 3138.11it/s]"
          ]
        },
        {
          "output_type": "stream",
          "name": "stdout",
          "text": [
            "[MoviePy] Done.\n",
            "Generating file for id id01163\n"
          ]
        },
        {
          "output_type": "stream",
          "name": "stderr",
          "text": [
            "\n"
          ]
        },
        {
          "output_type": "stream",
          "name": "stdout",
          "text": [
            "[MoviePy] Writing audio in /content/drive/MyDrive/DeepFakeDetection/data/FakeAVCeleb_v1.2/real_videos_train/id01163/00312.wav\n"
          ]
        },
        {
          "output_type": "stream",
          "name": "stderr",
          "text": [
            "100%|██████████| 102/102 [00:00<00:00, 3163.38it/s]"
          ]
        },
        {
          "output_type": "stream",
          "name": "stdout",
          "text": [
            "[MoviePy] Done.\n",
            "Generating file for id id01163\n"
          ]
        },
        {
          "output_type": "stream",
          "name": "stderr",
          "text": [
            "\n"
          ]
        },
        {
          "output_type": "stream",
          "name": "stdout",
          "text": [
            "[MoviePy] Writing audio in /content/drive/MyDrive/DeepFakeDetection/data/FakeAVCeleb_v1.2/real_videos_train/id01163/00311.wav\n"
          ]
        },
        {
          "output_type": "stream",
          "name": "stderr",
          "text": [
            "100%|██████████| 97/97 [00:00<00:00, 3121.79it/s]"
          ]
        },
        {
          "output_type": "stream",
          "name": "stdout",
          "text": [
            "[MoviePy] Done.\n",
            "Generating file for id id01163\n"
          ]
        },
        {
          "output_type": "stream",
          "name": "stderr",
          "text": [
            "\n"
          ]
        },
        {
          "output_type": "stream",
          "name": "stdout",
          "text": [
            "[MoviePy] Writing audio in /content/drive/MyDrive/DeepFakeDetection/data/FakeAVCeleb_v1.2/real_videos_train/id01163/00314.wav\n"
          ]
        },
        {
          "output_type": "stream",
          "name": "stderr",
          "text": [
            "100%|██████████| 214/214 [00:00<00:00, 3114.23it/s]"
          ]
        },
        {
          "output_type": "stream",
          "name": "stdout",
          "text": [
            "[MoviePy] Done.\n",
            "Generating file for id id01163\n"
          ]
        },
        {
          "output_type": "stream",
          "name": "stderr",
          "text": [
            "\n"
          ]
        },
        {
          "output_type": "stream",
          "name": "stdout",
          "text": [
            "[MoviePy] Writing audio in /content/drive/MyDrive/DeepFakeDetection/data/FakeAVCeleb_v1.2/real_videos_train/id01163/00313.wav\n"
          ]
        },
        {
          "output_type": "stream",
          "name": "stderr",
          "text": [
            "100%|██████████| 256/256 [00:00<00:00, 3446.32it/s]"
          ]
        },
        {
          "output_type": "stream",
          "name": "stdout",
          "text": [
            "[MoviePy] Done.\n",
            "Generating file for id id01163\n"
          ]
        },
        {
          "output_type": "stream",
          "name": "stderr",
          "text": [
            "\n"
          ]
        },
        {
          "output_type": "stream",
          "name": "stdout",
          "text": [
            "[MoviePy] Writing audio in /content/drive/MyDrive/DeepFakeDetection/data/FakeAVCeleb_v1.2/real_videos_train/id01163/00315.wav\n"
          ]
        },
        {
          "output_type": "stream",
          "name": "stderr",
          "text": [
            "100%|██████████| 209/209 [00:00<00:00, 3137.57it/s]"
          ]
        },
        {
          "output_type": "stream",
          "name": "stdout",
          "text": [
            "[MoviePy] Done.\n",
            "Generating file for id id01163\n"
          ]
        },
        {
          "output_type": "stream",
          "name": "stderr",
          "text": [
            "\n"
          ]
        },
        {
          "output_type": "stream",
          "name": "stdout",
          "text": [
            "[MoviePy] Writing audio in /content/drive/MyDrive/DeepFakeDetection/data/FakeAVCeleb_v1.2/real_videos_train/id01163/00317.wav\n"
          ]
        },
        {
          "output_type": "stream",
          "name": "stderr",
          "text": [
            "100%|██████████| 134/134 [00:00<00:00, 2910.33it/s]"
          ]
        },
        {
          "output_type": "stream",
          "name": "stdout",
          "text": [
            "[MoviePy] Done.\n",
            "Generating file for id id01163\n"
          ]
        },
        {
          "output_type": "stream",
          "name": "stderr",
          "text": [
            "\n"
          ]
        },
        {
          "output_type": "stream",
          "name": "stdout",
          "text": [
            "[MoviePy] Writing audio in /content/drive/MyDrive/DeepFakeDetection/data/FakeAVCeleb_v1.2/real_videos_train/id01163/00316.wav\n"
          ]
        },
        {
          "output_type": "stream",
          "name": "stderr",
          "text": [
            "100%|██████████| 138/138 [00:00<00:00, 2884.46it/s]"
          ]
        },
        {
          "output_type": "stream",
          "name": "stdout",
          "text": [
            "[MoviePy] Done.\n",
            "Generating file for id id01163\n"
          ]
        },
        {
          "output_type": "stream",
          "name": "stderr",
          "text": [
            "\n"
          ]
        },
        {
          "output_type": "stream",
          "name": "stdout",
          "text": [
            "[MoviePy] Writing audio in /content/drive/MyDrive/DeepFakeDetection/data/FakeAVCeleb_v1.2/real_videos_train/id01163/00318.wav\n"
          ]
        },
        {
          "output_type": "stream",
          "name": "stderr",
          "text": [
            "100%|██████████| 94/94 [00:00<00:00, 3269.49it/s]"
          ]
        },
        {
          "output_type": "stream",
          "name": "stdout",
          "text": [
            "[MoviePy] Done.\n",
            "Generating file for id id01163\n"
          ]
        },
        {
          "output_type": "stream",
          "name": "stderr",
          "text": [
            "\n"
          ]
        },
        {
          "output_type": "stream",
          "name": "stdout",
          "text": [
            "[MoviePy] Writing audio in /content/drive/MyDrive/DeepFakeDetection/data/FakeAVCeleb_v1.2/real_videos_train/id01163/00319.wav\n"
          ]
        },
        {
          "output_type": "stream",
          "name": "stderr",
          "text": [
            "100%|██████████| 251/251 [00:00<00:00, 3120.01it/s]"
          ]
        },
        {
          "output_type": "stream",
          "name": "stdout",
          "text": [
            "[MoviePy] Done.\n",
            "Generating file for id id01163\n"
          ]
        },
        {
          "output_type": "stream",
          "name": "stderr",
          "text": [
            "\n"
          ]
        },
        {
          "output_type": "stream",
          "name": "stdout",
          "text": [
            "[MoviePy] Writing audio in /content/drive/MyDrive/DeepFakeDetection/data/FakeAVCeleb_v1.2/real_videos_train/id01163/00320.wav\n"
          ]
        },
        {
          "output_type": "stream",
          "name": "stderr",
          "text": [
            "100%|██████████| 123/123 [00:00<00:00, 2782.75it/s]"
          ]
        },
        {
          "output_type": "stream",
          "name": "stdout",
          "text": [
            "[MoviePy] Done.\n",
            "Generating file for id id01163\n"
          ]
        },
        {
          "output_type": "stream",
          "name": "stderr",
          "text": [
            "\n"
          ]
        },
        {
          "output_type": "stream",
          "name": "stdout",
          "text": [
            "[MoviePy] Writing audio in /content/drive/MyDrive/DeepFakeDetection/data/FakeAVCeleb_v1.2/real_videos_train/id01163/00321.wav\n"
          ]
        },
        {
          "output_type": "stream",
          "name": "stderr",
          "text": [
            "100%|██████████| 371/371 [00:00<00:00, 3079.76it/s]"
          ]
        },
        {
          "output_type": "stream",
          "name": "stdout",
          "text": [
            "[MoviePy] Done.\n",
            "Generating file for id id01163\n"
          ]
        },
        {
          "output_type": "stream",
          "name": "stderr",
          "text": [
            "\n"
          ]
        },
        {
          "output_type": "stream",
          "name": "stdout",
          "text": [
            "[MoviePy] Writing audio in /content/drive/MyDrive/DeepFakeDetection/data/FakeAVCeleb_v1.2/real_videos_train/id01163/00323.wav\n"
          ]
        },
        {
          "output_type": "stream",
          "name": "stderr",
          "text": [
            "100%|██████████| 98/98 [00:00<00:00, 3194.74it/s]"
          ]
        },
        {
          "output_type": "stream",
          "name": "stdout",
          "text": [
            "[MoviePy] Done.\n",
            "Generating file for id id01163\n"
          ]
        },
        {
          "output_type": "stream",
          "name": "stderr",
          "text": [
            "\n"
          ]
        },
        {
          "output_type": "stream",
          "name": "stdout",
          "text": [
            "[MoviePy] Writing audio in /content/drive/MyDrive/DeepFakeDetection/data/FakeAVCeleb_v1.2/real_videos_train/id01163/00324.wav\n"
          ]
        },
        {
          "output_type": "stream",
          "name": "stderr",
          "text": [
            "100%|██████████| 360/360 [00:00<00:00, 3268.13it/s]"
          ]
        },
        {
          "output_type": "stream",
          "name": "stdout",
          "text": [
            "[MoviePy] Done.\n",
            "Generating file for id id01163\n"
          ]
        },
        {
          "output_type": "stream",
          "name": "stderr",
          "text": [
            "\n"
          ]
        },
        {
          "output_type": "stream",
          "name": "stdout",
          "text": [
            "[MoviePy] Writing audio in /content/drive/MyDrive/DeepFakeDetection/data/FakeAVCeleb_v1.2/real_videos_train/id01163/00326.wav\n"
          ]
        },
        {
          "output_type": "stream",
          "name": "stderr",
          "text": [
            "100%|██████████| 156/156 [00:00<00:00, 3088.20it/s]"
          ]
        },
        {
          "output_type": "stream",
          "name": "stdout",
          "text": [
            "[MoviePy] Done.\n",
            "Generating file for id id01163\n"
          ]
        },
        {
          "output_type": "stream",
          "name": "stderr",
          "text": [
            "\n"
          ]
        },
        {
          "output_type": "stream",
          "name": "stdout",
          "text": [
            "[MoviePy] Writing audio in /content/drive/MyDrive/DeepFakeDetection/data/FakeAVCeleb_v1.2/real_videos_train/id01163/00330.wav\n"
          ]
        },
        {
          "output_type": "stream",
          "name": "stderr",
          "text": [
            "100%|██████████| 206/206 [00:00<00:00, 3225.56it/s]"
          ]
        },
        {
          "output_type": "stream",
          "name": "stdout",
          "text": [
            "[MoviePy] Done.\n",
            "Generating file for id id01163\n"
          ]
        },
        {
          "output_type": "stream",
          "name": "stderr",
          "text": [
            "\n"
          ]
        },
        {
          "output_type": "stream",
          "name": "stdout",
          "text": [
            "[MoviePy] Writing audio in /content/drive/MyDrive/DeepFakeDetection/data/FakeAVCeleb_v1.2/real_videos_train/id01163/00331.wav\n"
          ]
        },
        {
          "output_type": "stream",
          "name": "stderr",
          "text": [
            "100%|██████████| 141/141 [00:00<00:00, 3048.44it/s]"
          ]
        },
        {
          "output_type": "stream",
          "name": "stdout",
          "text": [
            "[MoviePy] Done.\n",
            "Generating file for id id01163\n"
          ]
        },
        {
          "output_type": "stream",
          "name": "stderr",
          "text": [
            "\n"
          ]
        },
        {
          "output_type": "stream",
          "name": "stdout",
          "text": [
            "[MoviePy] Writing audio in /content/drive/MyDrive/DeepFakeDetection/data/FakeAVCeleb_v1.2/real_videos_train/id01163/00332.wav\n"
          ]
        },
        {
          "output_type": "stream",
          "name": "stderr",
          "text": [
            "100%|██████████| 148/148 [00:00<00:00, 3095.10it/s]"
          ]
        },
        {
          "output_type": "stream",
          "name": "stdout",
          "text": [
            "[MoviePy] Done.\n",
            "Generating file for id id01163\n"
          ]
        },
        {
          "output_type": "stream",
          "name": "stderr",
          "text": [
            "\n"
          ]
        },
        {
          "output_type": "stream",
          "name": "stdout",
          "text": [
            "[MoviePy] Writing audio in /content/drive/MyDrive/DeepFakeDetection/data/FakeAVCeleb_v1.2/real_videos_train/id01163/00333.wav\n"
          ]
        },
        {
          "output_type": "stream",
          "name": "stderr",
          "text": [
            "100%|██████████| 98/98 [00:00<00:00, 3146.56it/s]"
          ]
        },
        {
          "output_type": "stream",
          "name": "stdout",
          "text": [
            "[MoviePy] Done.\n",
            "Generating file for id id01163\n"
          ]
        },
        {
          "output_type": "stream",
          "name": "stderr",
          "text": [
            "\n"
          ]
        },
        {
          "output_type": "stream",
          "name": "stdout",
          "text": [
            "[MoviePy] Writing audio in /content/drive/MyDrive/DeepFakeDetection/data/FakeAVCeleb_v1.2/real_videos_train/id01163/00334.wav\n"
          ]
        },
        {
          "output_type": "stream",
          "name": "stderr",
          "text": [
            "100%|██████████| 271/271 [00:00<00:00, 3256.47it/s]"
          ]
        },
        {
          "output_type": "stream",
          "name": "stdout",
          "text": [
            "[MoviePy] Done.\n",
            "Generating file for id id01163\n"
          ]
        },
        {
          "output_type": "stream",
          "name": "stderr",
          "text": [
            "\n"
          ]
        },
        {
          "output_type": "stream",
          "name": "stdout",
          "text": [
            "[MoviePy] Writing audio in /content/drive/MyDrive/DeepFakeDetection/data/FakeAVCeleb_v1.2/real_videos_train/id01163/00336.wav\n"
          ]
        },
        {
          "output_type": "stream",
          "name": "stderr",
          "text": [
            "100%|██████████| 299/299 [00:00<00:00, 3257.16it/s]"
          ]
        },
        {
          "output_type": "stream",
          "name": "stdout",
          "text": [
            "[MoviePy] Done.\n",
            "Generating file for id id01163\n"
          ]
        },
        {
          "output_type": "stream",
          "name": "stderr",
          "text": [
            "\n"
          ]
        },
        {
          "output_type": "stream",
          "name": "stdout",
          "text": [
            "[MoviePy] Writing audio in /content/drive/MyDrive/DeepFakeDetection/data/FakeAVCeleb_v1.2/real_videos_train/id01163/00335.wav\n"
          ]
        },
        {
          "output_type": "stream",
          "name": "stderr",
          "text": [
            "100%|██████████| 355/355 [00:00<00:00, 3284.82it/s]"
          ]
        },
        {
          "output_type": "stream",
          "name": "stdout",
          "text": [
            "[MoviePy] Done.\n",
            "Generating file for id id01163\n"
          ]
        },
        {
          "output_type": "stream",
          "name": "stderr",
          "text": [
            "\n"
          ]
        },
        {
          "output_type": "stream",
          "name": "stdout",
          "text": [
            "[MoviePy] Writing audio in /content/drive/MyDrive/DeepFakeDetection/data/FakeAVCeleb_v1.2/real_videos_train/id01163/00338.wav\n"
          ]
        },
        {
          "output_type": "stream",
          "name": "stderr",
          "text": [
            "100%|██████████| 181/181 [00:00<00:00, 3237.48it/s]"
          ]
        },
        {
          "output_type": "stream",
          "name": "stdout",
          "text": [
            "[MoviePy] Done.\n",
            "Generating file for id id01163\n"
          ]
        },
        {
          "output_type": "stream",
          "name": "stderr",
          "text": [
            "\n"
          ]
        },
        {
          "output_type": "stream",
          "name": "stdout",
          "text": [
            "[MoviePy] Writing audio in /content/drive/MyDrive/DeepFakeDetection/data/FakeAVCeleb_v1.2/real_videos_train/id01163/00339.wav\n"
          ]
        },
        {
          "output_type": "stream",
          "name": "stderr",
          "text": [
            "100%|██████████| 106/106 [00:00<00:00, 2932.46it/s]"
          ]
        },
        {
          "output_type": "stream",
          "name": "stdout",
          "text": [
            "[MoviePy] Done.\n",
            "Generating file for id id01163\n"
          ]
        },
        {
          "output_type": "stream",
          "name": "stderr",
          "text": [
            "\n"
          ]
        },
        {
          "output_type": "stream",
          "name": "stdout",
          "text": [
            "[MoviePy] Writing audio in /content/drive/MyDrive/DeepFakeDetection/data/FakeAVCeleb_v1.2/real_videos_train/id01163/00341.wav\n"
          ]
        },
        {
          "output_type": "stream",
          "name": "stderr",
          "text": [
            "100%|██████████| 168/168 [00:00<00:00, 2339.81it/s]"
          ]
        },
        {
          "output_type": "stream",
          "name": "stdout",
          "text": [
            "[MoviePy] Done.\n",
            "Generating file for id id01163\n"
          ]
        },
        {
          "output_type": "stream",
          "name": "stderr",
          "text": [
            "\n"
          ]
        },
        {
          "output_type": "stream",
          "name": "stdout",
          "text": [
            "[MoviePy] Writing audio in /content/drive/MyDrive/DeepFakeDetection/data/FakeAVCeleb_v1.2/real_videos_train/id01163/00342.wav\n"
          ]
        },
        {
          "output_type": "stream",
          "name": "stderr",
          "text": [
            "100%|██████████| 121/121 [00:00<00:00, 2928.65it/s]"
          ]
        },
        {
          "output_type": "stream",
          "name": "stdout",
          "text": [
            "[MoviePy] Done.\n",
            "Generating file for id id01163\n"
          ]
        },
        {
          "output_type": "stream",
          "name": "stderr",
          "text": [
            "\n"
          ]
        },
        {
          "output_type": "stream",
          "name": "stdout",
          "text": [
            "[MoviePy] Writing audio in /content/drive/MyDrive/DeepFakeDetection/data/FakeAVCeleb_v1.2/real_videos_train/id01163/00344.wav\n"
          ]
        },
        {
          "output_type": "stream",
          "name": "stderr",
          "text": [
            "100%|██████████| 97/97 [00:00<00:00, 3261.33it/s]"
          ]
        },
        {
          "output_type": "stream",
          "name": "stdout",
          "text": [
            "[MoviePy] Done.\n",
            "Generating file for id id01163\n"
          ]
        },
        {
          "output_type": "stream",
          "name": "stderr",
          "text": [
            "\n"
          ]
        },
        {
          "output_type": "stream",
          "name": "stdout",
          "text": [
            "[MoviePy] Writing audio in /content/drive/MyDrive/DeepFakeDetection/data/FakeAVCeleb_v1.2/real_videos_train/id01163/00343.wav\n"
          ]
        },
        {
          "output_type": "stream",
          "name": "stderr",
          "text": [
            "100%|██████████| 89/89 [00:00<00:00, 3226.56it/s]"
          ]
        },
        {
          "output_type": "stream",
          "name": "stdout",
          "text": [
            "[MoviePy] Done.\n",
            "Generating file for id id01163\n"
          ]
        },
        {
          "output_type": "stream",
          "name": "stderr",
          "text": [
            "\n"
          ]
        },
        {
          "output_type": "stream",
          "name": "stdout",
          "text": [
            "[MoviePy] Writing audio in /content/drive/MyDrive/DeepFakeDetection/data/FakeAVCeleb_v1.2/real_videos_train/id01163/00345.wav\n"
          ]
        },
        {
          "output_type": "stream",
          "name": "stderr",
          "text": [
            "100%|██████████| 157/157 [00:00<00:00, 3260.51it/s]"
          ]
        },
        {
          "output_type": "stream",
          "name": "stdout",
          "text": [
            "[MoviePy] Done.\n",
            "Generating file for id id01163\n"
          ]
        },
        {
          "output_type": "stream",
          "name": "stderr",
          "text": [
            "\n"
          ]
        },
        {
          "output_type": "stream",
          "name": "stdout",
          "text": [
            "[MoviePy] Writing audio in /content/drive/MyDrive/DeepFakeDetection/data/FakeAVCeleb_v1.2/real_videos_train/id01163/00347.wav\n"
          ]
        },
        {
          "output_type": "stream",
          "name": "stderr",
          "text": [
            "100%|██████████| 109/109 [00:00<00:00, 2897.37it/s]"
          ]
        },
        {
          "output_type": "stream",
          "name": "stdout",
          "text": [
            "[MoviePy] Done.\n",
            "Generating file for id id01163\n"
          ]
        },
        {
          "output_type": "stream",
          "name": "stderr",
          "text": [
            "\n"
          ]
        },
        {
          "output_type": "stream",
          "name": "stdout",
          "text": [
            "[MoviePy] Writing audio in /content/drive/MyDrive/DeepFakeDetection/data/FakeAVCeleb_v1.2/real_videos_train/id01163/00346.wav\n"
          ]
        },
        {
          "output_type": "stream",
          "name": "stderr",
          "text": [
            "100%|██████████| 301/301 [00:00<00:00, 3378.44it/s]"
          ]
        },
        {
          "output_type": "stream",
          "name": "stdout",
          "text": [
            "[MoviePy] Done.\n",
            "Generating file for id id01163\n"
          ]
        },
        {
          "output_type": "stream",
          "name": "stderr",
          "text": [
            "\n"
          ]
        },
        {
          "output_type": "stream",
          "name": "stdout",
          "text": [
            "[MoviePy] Writing audio in /content/drive/MyDrive/DeepFakeDetection/data/FakeAVCeleb_v1.2/real_videos_train/id01163/00349.wav\n"
          ]
        },
        {
          "output_type": "stream",
          "name": "stderr",
          "text": [
            "100%|██████████| 94/94 [00:00<00:00, 3313.45it/s]"
          ]
        },
        {
          "output_type": "stream",
          "name": "stdout",
          "text": [
            "[MoviePy] Done.\n",
            "Generating file for id id01163\n"
          ]
        },
        {
          "output_type": "stream",
          "name": "stderr",
          "text": [
            "\n"
          ]
        },
        {
          "output_type": "stream",
          "name": "stdout",
          "text": [
            "[MoviePy] Writing audio in /content/drive/MyDrive/DeepFakeDetection/data/FakeAVCeleb_v1.2/real_videos_train/id01163/00350.wav\n"
          ]
        },
        {
          "output_type": "stream",
          "name": "stderr",
          "text": [
            "100%|██████████| 111/111 [00:00<00:00, 2965.31it/s]"
          ]
        },
        {
          "output_type": "stream",
          "name": "stdout",
          "text": [
            "[MoviePy] Done.\n",
            "Generating file for id id01163\n"
          ]
        },
        {
          "output_type": "stream",
          "name": "stderr",
          "text": [
            "\n"
          ]
        },
        {
          "output_type": "stream",
          "name": "stdout",
          "text": [
            "[MoviePy] Writing audio in /content/drive/MyDrive/DeepFakeDetection/data/FakeAVCeleb_v1.2/real_videos_train/id01163/00352.wav\n"
          ]
        },
        {
          "output_type": "stream",
          "name": "stderr",
          "text": [
            "100%|██████████| 225/225 [00:00<00:00, 3264.08it/s]"
          ]
        },
        {
          "output_type": "stream",
          "name": "stdout",
          "text": [
            "[MoviePy] Done.\n",
            "Generating file for id id01163\n"
          ]
        },
        {
          "output_type": "stream",
          "name": "stderr",
          "text": [
            "\n"
          ]
        },
        {
          "output_type": "stream",
          "name": "stdout",
          "text": [
            "[MoviePy] Writing audio in /content/drive/MyDrive/DeepFakeDetection/data/FakeAVCeleb_v1.2/real_videos_train/id01163/00351.wav\n"
          ]
        },
        {
          "output_type": "stream",
          "name": "stderr",
          "text": [
            "100%|██████████| 109/109 [00:00<00:00, 3073.18it/s]"
          ]
        },
        {
          "output_type": "stream",
          "name": "stdout",
          "text": [
            "[MoviePy] Done.\n",
            "Generating file for id id01163\n"
          ]
        },
        {
          "output_type": "stream",
          "name": "stderr",
          "text": [
            "\n"
          ]
        },
        {
          "output_type": "stream",
          "name": "stdout",
          "text": [
            "[MoviePy] Writing audio in /content/drive/MyDrive/DeepFakeDetection/data/FakeAVCeleb_v1.2/real_videos_train/id01163/00353.wav\n"
          ]
        },
        {
          "output_type": "stream",
          "name": "stderr",
          "text": [
            "100%|██████████| 265/265 [00:00<00:00, 3355.32it/s]"
          ]
        },
        {
          "output_type": "stream",
          "name": "stdout",
          "text": [
            "[MoviePy] Done.\n",
            "Generating file for id id01163\n"
          ]
        },
        {
          "output_type": "stream",
          "name": "stderr",
          "text": [
            "\n"
          ]
        },
        {
          "output_type": "stream",
          "name": "stdout",
          "text": [
            "[MoviePy] Writing audio in /content/drive/MyDrive/DeepFakeDetection/data/FakeAVCeleb_v1.2/real_videos_train/id01163/00356.wav\n"
          ]
        },
        {
          "output_type": "stream",
          "name": "stderr",
          "text": [
            "100%|██████████| 143/143 [00:00<00:00, 3172.28it/s]"
          ]
        },
        {
          "output_type": "stream",
          "name": "stdout",
          "text": [
            "[MoviePy] Done.\n",
            "Generating file for id id01163\n"
          ]
        },
        {
          "output_type": "stream",
          "name": "stderr",
          "text": [
            "\n"
          ]
        },
        {
          "output_type": "stream",
          "name": "stdout",
          "text": [
            "[MoviePy] Writing audio in /content/drive/MyDrive/DeepFakeDetection/data/FakeAVCeleb_v1.2/real_videos_train/id01163/00355.wav\n"
          ]
        },
        {
          "output_type": "stream",
          "name": "stderr",
          "text": [
            "100%|██████████| 101/101 [00:00<00:00, 3393.94it/s]"
          ]
        },
        {
          "output_type": "stream",
          "name": "stdout",
          "text": [
            "[MoviePy] Done.\n",
            "Generating file for id id01163\n"
          ]
        },
        {
          "output_type": "stream",
          "name": "stderr",
          "text": [
            "\n"
          ]
        },
        {
          "output_type": "stream",
          "name": "stdout",
          "text": [
            "[MoviePy] Writing audio in /content/drive/MyDrive/DeepFakeDetection/data/FakeAVCeleb_v1.2/real_videos_train/id01163/00357.wav\n"
          ]
        },
        {
          "output_type": "stream",
          "name": "stderr",
          "text": [
            "100%|██████████| 173/173 [00:00<00:00, 3199.94it/s]"
          ]
        },
        {
          "output_type": "stream",
          "name": "stdout",
          "text": [
            "[MoviePy] Done.\n",
            "Generating file for id id01163\n"
          ]
        },
        {
          "output_type": "stream",
          "name": "stderr",
          "text": [
            "\n"
          ]
        },
        {
          "output_type": "stream",
          "name": "stdout",
          "text": [
            "[MoviePy] Writing audio in /content/drive/MyDrive/DeepFakeDetection/data/FakeAVCeleb_v1.2/real_videos_train/id01163/00358.wav\n"
          ]
        },
        {
          "output_type": "stream",
          "name": "stderr",
          "text": [
            "100%|██████████| 89/89 [00:00<00:00, 3280.89it/s]"
          ]
        },
        {
          "output_type": "stream",
          "name": "stdout",
          "text": [
            "[MoviePy] Done.\n",
            "Generating file for id id01163\n"
          ]
        },
        {
          "output_type": "stream",
          "name": "stderr",
          "text": [
            "\n"
          ]
        },
        {
          "output_type": "stream",
          "name": "stdout",
          "text": [
            "[MoviePy] Writing audio in /content/drive/MyDrive/DeepFakeDetection/data/FakeAVCeleb_v1.2/real_videos_train/id01163/00360.wav\n"
          ]
        },
        {
          "output_type": "stream",
          "name": "stderr",
          "text": [
            "100%|██████████| 151/151 [00:00<00:00, 3162.21it/s]"
          ]
        },
        {
          "output_type": "stream",
          "name": "stdout",
          "text": [
            "[MoviePy] Done.\n",
            "Generating file for id id01163\n"
          ]
        },
        {
          "output_type": "stream",
          "name": "stderr",
          "text": [
            "\n"
          ]
        },
        {
          "output_type": "stream",
          "name": "stdout",
          "text": [
            "[MoviePy] Writing audio in /content/drive/MyDrive/DeepFakeDetection/data/FakeAVCeleb_v1.2/real_videos_train/id01163/00359.wav\n"
          ]
        },
        {
          "output_type": "stream",
          "name": "stderr",
          "text": [
            "100%|██████████| 124/124 [00:00<00:00, 3130.12it/s]"
          ]
        },
        {
          "output_type": "stream",
          "name": "stdout",
          "text": [
            "[MoviePy] Done.\n",
            "Generating file for id id01163\n"
          ]
        },
        {
          "output_type": "stream",
          "name": "stderr",
          "text": [
            "\n"
          ]
        },
        {
          "output_type": "stream",
          "name": "stdout",
          "text": [
            "[MoviePy] Writing audio in /content/drive/MyDrive/DeepFakeDetection/data/FakeAVCeleb_v1.2/real_videos_train/id01163/00361.wav\n"
          ]
        },
        {
          "output_type": "stream",
          "name": "stderr",
          "text": [
            "100%|██████████| 131/131 [00:00<00:00, 3066.54it/s]"
          ]
        },
        {
          "output_type": "stream",
          "name": "stdout",
          "text": [
            "[MoviePy] Done.\n",
            "Generating file for id id01163\n"
          ]
        },
        {
          "output_type": "stream",
          "name": "stderr",
          "text": [
            "\n"
          ]
        },
        {
          "output_type": "stream",
          "name": "stdout",
          "text": [
            "[MoviePy] Writing audio in /content/drive/MyDrive/DeepFakeDetection/data/FakeAVCeleb_v1.2/real_videos_train/id01163/00362.wav\n"
          ]
        },
        {
          "output_type": "stream",
          "name": "stderr",
          "text": [
            "100%|██████████| 90/90 [00:00<00:00, 3255.75it/s]"
          ]
        },
        {
          "output_type": "stream",
          "name": "stdout",
          "text": [
            "[MoviePy] Done.\n",
            "Generating file for id id01163\n"
          ]
        },
        {
          "output_type": "stream",
          "name": "stderr",
          "text": [
            "\n"
          ]
        },
        {
          "output_type": "stream",
          "name": "stdout",
          "text": [
            "[MoviePy] Writing audio in /content/drive/MyDrive/DeepFakeDetection/data/FakeAVCeleb_v1.2/real_videos_train/id01163/00363.wav\n"
          ]
        },
        {
          "output_type": "stream",
          "name": "stderr",
          "text": [
            "100%|██████████| 92/92 [00:00<00:00, 3372.39it/s]"
          ]
        },
        {
          "output_type": "stream",
          "name": "stdout",
          "text": [
            "[MoviePy] Done.\n",
            "Generating file for id id01163\n"
          ]
        },
        {
          "output_type": "stream",
          "name": "stderr",
          "text": [
            "\n"
          ]
        },
        {
          "output_type": "stream",
          "name": "stdout",
          "text": [
            "[MoviePy] Writing audio in /content/drive/MyDrive/DeepFakeDetection/data/FakeAVCeleb_v1.2/real_videos_train/id01163/00370.wav\n"
          ]
        },
        {
          "output_type": "stream",
          "name": "stderr",
          "text": [
            "100%|██████████| 94/94 [00:00<00:00, 3192.40it/s]"
          ]
        },
        {
          "output_type": "stream",
          "name": "stdout",
          "text": [
            "[MoviePy] Done.\n",
            "Generating file for id id01163\n"
          ]
        },
        {
          "output_type": "stream",
          "name": "stderr",
          "text": [
            "\n"
          ]
        },
        {
          "output_type": "stream",
          "name": "stdout",
          "text": [
            "[MoviePy] Writing audio in /content/drive/MyDrive/DeepFakeDetection/data/FakeAVCeleb_v1.2/real_videos_train/id01163/00374.wav\n"
          ]
        },
        {
          "output_type": "stream",
          "name": "stderr",
          "text": [
            "100%|██████████| 99/99 [00:00<00:00, 3367.83it/s]"
          ]
        },
        {
          "output_type": "stream",
          "name": "stdout",
          "text": [
            "[MoviePy] Done.\n",
            "Generating file for id id01163\n"
          ]
        },
        {
          "output_type": "stream",
          "name": "stderr",
          "text": [
            "\n"
          ]
        },
        {
          "output_type": "stream",
          "name": "stdout",
          "text": [
            "[MoviePy] Writing audio in /content/drive/MyDrive/DeepFakeDetection/data/FakeAVCeleb_v1.2/real_videos_train/id01163/00376.wav\n"
          ]
        },
        {
          "output_type": "stream",
          "name": "stderr",
          "text": [
            "100%|██████████| 246/246 [00:00<00:00, 3143.28it/s]"
          ]
        },
        {
          "output_type": "stream",
          "name": "stdout",
          "text": [
            "[MoviePy] Done.\n",
            "Generating file for id id01163\n"
          ]
        },
        {
          "output_type": "stream",
          "name": "stderr",
          "text": [
            "\n"
          ]
        },
        {
          "output_type": "stream",
          "name": "stdout",
          "text": [
            "[MoviePy] Writing audio in /content/drive/MyDrive/DeepFakeDetection/data/FakeAVCeleb_v1.2/real_videos_train/id01163/00381.wav\n"
          ]
        },
        {
          "output_type": "stream",
          "name": "stderr",
          "text": [
            "100%|██████████| 131/131 [00:00<00:00, 3169.05it/s]"
          ]
        },
        {
          "output_type": "stream",
          "name": "stdout",
          "text": [
            "[MoviePy] Done.\n",
            "Generating file for id id01163\n"
          ]
        },
        {
          "output_type": "stream",
          "name": "stderr",
          "text": [
            "\n"
          ]
        },
        {
          "output_type": "stream",
          "name": "stdout",
          "text": [
            "[MoviePy] Writing audio in /content/drive/MyDrive/DeepFakeDetection/data/FakeAVCeleb_v1.2/real_videos_train/id01163/00380.wav\n"
          ]
        },
        {
          "output_type": "stream",
          "name": "stderr",
          "text": [
            "100%|██████████| 111/111 [00:00<00:00, 3032.60it/s]"
          ]
        },
        {
          "output_type": "stream",
          "name": "stdout",
          "text": [
            "[MoviePy] Done.\n",
            "Generating file for id id01163\n"
          ]
        },
        {
          "output_type": "stream",
          "name": "stderr",
          "text": [
            "\n"
          ]
        },
        {
          "output_type": "stream",
          "name": "stdout",
          "text": [
            "[MoviePy] Writing audio in /content/drive/MyDrive/DeepFakeDetection/data/FakeAVCeleb_v1.2/real_videos_train/id01163/00382.wav\n"
          ]
        },
        {
          "output_type": "stream",
          "name": "stderr",
          "text": [
            "100%|██████████| 91/91 [00:00<00:00, 3182.03it/s]"
          ]
        },
        {
          "output_type": "stream",
          "name": "stdout",
          "text": [
            "[MoviePy] Done.\n",
            "Generating file for id id01163\n"
          ]
        },
        {
          "output_type": "stream",
          "name": "stderr",
          "text": [
            "\n"
          ]
        },
        {
          "output_type": "stream",
          "name": "stdout",
          "text": [
            "[MoviePy] Writing audio in /content/drive/MyDrive/DeepFakeDetection/data/FakeAVCeleb_v1.2/real_videos_train/id01163/00384.wav\n"
          ]
        },
        {
          "output_type": "stream",
          "name": "stderr",
          "text": [
            "100%|██████████| 95/95 [00:00<00:00, 3044.30it/s]"
          ]
        },
        {
          "output_type": "stream",
          "name": "stdout",
          "text": [
            "[MoviePy] Done.\n",
            "Generating file for id id01163\n"
          ]
        },
        {
          "output_type": "stream",
          "name": "stderr",
          "text": [
            "\n"
          ]
        },
        {
          "output_type": "stream",
          "name": "stdout",
          "text": [
            "[MoviePy] Writing audio in /content/drive/MyDrive/DeepFakeDetection/data/FakeAVCeleb_v1.2/real_videos_train/id01163/00383.wav\n"
          ]
        },
        {
          "output_type": "stream",
          "name": "stderr",
          "text": [
            "\r  0%|          | 0/153 [00:00<?, ?it/s]WARNING:py.warnings:/usr/local/lib/python3.7/dist-packages/moviepy/audio/io/readers.py:198: UserWarning: Error in file /content/drive/MyDrive/DeepFakeDetection/data/FakeAVCeleb_v1.2/real_videos_train/id01163/00383.mp4, At time t=6.85-6.90 seconds, indices wanted: 99698-101686, but len(buffer)=99699\n",
            "index 99699 is out of bounds for axis 0 with size 99699\n",
            "  UserWarning)\n",
            "\n",
            "100%|██████████| 153/153 [00:00<00:00, 3073.91it/s]"
          ]
        },
        {
          "output_type": "stream",
          "name": "stdout",
          "text": [
            "[MoviePy] Done.\n",
            "Generating file for id id01163\n"
          ]
        },
        {
          "output_type": "stream",
          "name": "stderr",
          "text": [
            "\n"
          ]
        },
        {
          "output_type": "stream",
          "name": "stdout",
          "text": [
            "[MoviePy] Writing audio in /content/drive/MyDrive/DeepFakeDetection/data/FakeAVCeleb_v1.2/real_videos_train/id01163/00385.wav\n"
          ]
        },
        {
          "output_type": "stream",
          "name": "stderr",
          "text": [
            "100%|██████████| 97/97 [00:00<00:00, 3319.50it/s]"
          ]
        },
        {
          "output_type": "stream",
          "name": "stdout",
          "text": [
            "[MoviePy] Done.\n",
            "Generating file for id id01163\n"
          ]
        },
        {
          "output_type": "stream",
          "name": "stderr",
          "text": [
            "\n"
          ]
        },
        {
          "output_type": "stream",
          "name": "stdout",
          "text": [
            "[MoviePy] Writing audio in /content/drive/MyDrive/DeepFakeDetection/data/FakeAVCeleb_v1.2/real_videos_train/id01163/00386.wav\n"
          ]
        },
        {
          "output_type": "stream",
          "name": "stderr",
          "text": [
            "100%|██████████| 100/100 [00:00<00:00, 1934.31it/s]"
          ]
        },
        {
          "output_type": "stream",
          "name": "stdout",
          "text": [
            "[MoviePy] Done.\n",
            "Generating file for id id01163\n"
          ]
        },
        {
          "output_type": "stream",
          "name": "stderr",
          "text": [
            "\n"
          ]
        },
        {
          "output_type": "stream",
          "name": "stdout",
          "text": [
            "[MoviePy] Writing audio in /content/drive/MyDrive/DeepFakeDetection/data/FakeAVCeleb_v1.2/real_videos_train/id01163/00387.wav\n"
          ]
        },
        {
          "output_type": "stream",
          "name": "stderr",
          "text": [
            "100%|██████████| 194/194 [00:00<00:00, 3043.67it/s]"
          ]
        },
        {
          "output_type": "stream",
          "name": "stdout",
          "text": [
            "[MoviePy] Done.\n",
            "Generating file for id id01163\n"
          ]
        },
        {
          "output_type": "stream",
          "name": "stderr",
          "text": [
            "\n"
          ]
        },
        {
          "output_type": "stream",
          "name": "stdout",
          "text": [
            "[MoviePy] Writing audio in /content/drive/MyDrive/DeepFakeDetection/data/FakeAVCeleb_v1.2/real_videos_train/id01163/00389.wav\n"
          ]
        },
        {
          "output_type": "stream",
          "name": "stderr",
          "text": [
            "100%|██████████| 205/205 [00:00<00:00, 3483.47it/s]"
          ]
        },
        {
          "output_type": "stream",
          "name": "stdout",
          "text": [
            "[MoviePy] Done.\n",
            "Generating file for id id01163\n"
          ]
        },
        {
          "output_type": "stream",
          "name": "stderr",
          "text": [
            "\n"
          ]
        },
        {
          "output_type": "stream",
          "name": "stdout",
          "text": [
            "[MoviePy] Writing audio in /content/drive/MyDrive/DeepFakeDetection/data/FakeAVCeleb_v1.2/real_videos_train/id01163/00388.wav\n"
          ]
        },
        {
          "output_type": "stream",
          "name": "stderr",
          "text": [
            "100%|██████████| 251/251 [00:00<00:00, 3387.40it/s]"
          ]
        },
        {
          "output_type": "stream",
          "name": "stdout",
          "text": [
            "[MoviePy] Done.\n",
            "Generating file for id id01163\n"
          ]
        },
        {
          "output_type": "stream",
          "name": "stderr",
          "text": [
            "\n"
          ]
        },
        {
          "output_type": "stream",
          "name": "stdout",
          "text": [
            "[MoviePy] Writing audio in /content/drive/MyDrive/DeepFakeDetection/data/FakeAVCeleb_v1.2/real_videos_train/id01163/00390.wav\n"
          ]
        },
        {
          "output_type": "stream",
          "name": "stderr",
          "text": [
            "100%|██████████| 159/159 [00:00<00:00, 3155.43it/s]"
          ]
        },
        {
          "output_type": "stream",
          "name": "stdout",
          "text": [
            "[MoviePy] Done.\n",
            "Generating file for id id01163\n"
          ]
        },
        {
          "output_type": "stream",
          "name": "stderr",
          "text": [
            "\n"
          ]
        },
        {
          "output_type": "stream",
          "name": "stdout",
          "text": [
            "[MoviePy] Writing audio in /content/drive/MyDrive/DeepFakeDetection/data/FakeAVCeleb_v1.2/real_videos_train/id01163/00392.wav\n"
          ]
        },
        {
          "output_type": "stream",
          "name": "stderr",
          "text": [
            "100%|██████████| 200/200 [00:00<00:00, 3312.60it/s]"
          ]
        },
        {
          "output_type": "stream",
          "name": "stdout",
          "text": [
            "[MoviePy] Done.\n",
            "Generating file for id id01163\n"
          ]
        },
        {
          "output_type": "stream",
          "name": "stderr",
          "text": [
            "\n"
          ]
        },
        {
          "output_type": "stream",
          "name": "stdout",
          "text": [
            "[MoviePy] Writing audio in /content/drive/MyDrive/DeepFakeDetection/data/FakeAVCeleb_v1.2/real_videos_train/id01163/00391.wav\n"
          ]
        },
        {
          "output_type": "stream",
          "name": "stderr",
          "text": [
            "100%|██████████| 109/109 [00:00<00:00, 3451.45it/s]"
          ]
        },
        {
          "output_type": "stream",
          "name": "stdout",
          "text": [
            "[MoviePy] Done.\n",
            "Generating file for id id01163\n"
          ]
        },
        {
          "output_type": "stream",
          "name": "stderr",
          "text": [
            "\n"
          ]
        },
        {
          "output_type": "stream",
          "name": "stdout",
          "text": [
            "[MoviePy] Writing audio in /content/drive/MyDrive/DeepFakeDetection/data/FakeAVCeleb_v1.2/real_videos_train/id01163/00393.wav\n"
          ]
        },
        {
          "output_type": "stream",
          "name": "stderr",
          "text": [
            "100%|██████████| 170/170 [00:00<00:00, 2989.53it/s]"
          ]
        },
        {
          "output_type": "stream",
          "name": "stdout",
          "text": [
            "[MoviePy] Done.\n",
            "Generating file for id id01163\n"
          ]
        },
        {
          "output_type": "stream",
          "name": "stderr",
          "text": [
            "\n"
          ]
        },
        {
          "output_type": "stream",
          "name": "stdout",
          "text": [
            "[MoviePy] Writing audio in /content/drive/MyDrive/DeepFakeDetection/data/FakeAVCeleb_v1.2/real_videos_train/id01163/00397.wav\n"
          ]
        },
        {
          "output_type": "stream",
          "name": "stderr",
          "text": [
            "100%|██████████| 95/95 [00:00<00:00, 3282.98it/s]"
          ]
        },
        {
          "output_type": "stream",
          "name": "stdout",
          "text": [
            "[MoviePy] Done.\n",
            "Generating file for id id01163\n"
          ]
        },
        {
          "output_type": "stream",
          "name": "stderr",
          "text": [
            "\n"
          ]
        },
        {
          "output_type": "stream",
          "name": "stdout",
          "text": [
            "[MoviePy] Writing audio in /content/drive/MyDrive/DeepFakeDetection/data/FakeAVCeleb_v1.2/real_videos_train/id01163/00396.wav\n"
          ]
        },
        {
          "output_type": "stream",
          "name": "stderr",
          "text": [
            "100%|██████████| 92/92 [00:00<00:00, 3314.66it/s]"
          ]
        },
        {
          "output_type": "stream",
          "name": "stdout",
          "text": [
            "[MoviePy] Done.\n",
            "Generating file for id id01163\n"
          ]
        },
        {
          "output_type": "stream",
          "name": "stderr",
          "text": [
            "\n"
          ]
        },
        {
          "output_type": "stream",
          "name": "stdout",
          "text": [
            "[MoviePy] Writing audio in /content/drive/MyDrive/DeepFakeDetection/data/FakeAVCeleb_v1.2/real_videos_train/id01163/00398.wav\n"
          ]
        },
        {
          "output_type": "stream",
          "name": "stderr",
          "text": [
            "100%|██████████| 176/176 [00:00<00:00, 3215.85it/s]"
          ]
        },
        {
          "output_type": "stream",
          "name": "stdout",
          "text": [
            "[MoviePy] Done.\n",
            "Generating file for id id01163\n"
          ]
        },
        {
          "output_type": "stream",
          "name": "stderr",
          "text": [
            "\n"
          ]
        },
        {
          "output_type": "stream",
          "name": "stdout",
          "text": [
            "[MoviePy] Writing audio in /content/drive/MyDrive/DeepFakeDetection/data/FakeAVCeleb_v1.2/real_videos_train/id01163/00399.wav\n"
          ]
        },
        {
          "output_type": "stream",
          "name": "stderr",
          "text": [
            "100%|██████████| 98/98 [00:00<00:00, 3520.01it/s]"
          ]
        },
        {
          "output_type": "stream",
          "name": "stdout",
          "text": [
            "[MoviePy] Done.\n",
            "Generating file for id id01163\n"
          ]
        },
        {
          "output_type": "stream",
          "name": "stderr",
          "text": [
            "\n"
          ]
        },
        {
          "output_type": "stream",
          "name": "stdout",
          "text": [
            "[MoviePy] Writing audio in /content/drive/MyDrive/DeepFakeDetection/data/FakeAVCeleb_v1.2/real_videos_train/id01163/00400.wav\n"
          ]
        },
        {
          "output_type": "stream",
          "name": "stderr",
          "text": [
            "100%|██████████| 94/94 [00:00<00:00, 3287.65it/s]"
          ]
        },
        {
          "output_type": "stream",
          "name": "stdout",
          "text": [
            "[MoviePy] Done.\n",
            "Generating file for id id01163\n"
          ]
        },
        {
          "output_type": "stream",
          "name": "stderr",
          "text": [
            "\n"
          ]
        },
        {
          "output_type": "stream",
          "name": "stdout",
          "text": [
            "[MoviePy] Writing audio in /content/drive/MyDrive/DeepFakeDetection/data/FakeAVCeleb_v1.2/real_videos_train/id01163/00401.wav\n"
          ]
        },
        {
          "output_type": "stream",
          "name": "stderr",
          "text": [
            "100%|██████████| 177/177 [00:00<00:00, 3110.82it/s]"
          ]
        },
        {
          "output_type": "stream",
          "name": "stdout",
          "text": [
            "[MoviePy] Done.\n",
            "Generating file for id id01163\n"
          ]
        },
        {
          "output_type": "stream",
          "name": "stderr",
          "text": [
            "\n"
          ]
        },
        {
          "output_type": "stream",
          "name": "stdout",
          "text": [
            "[MoviePy] Writing audio in /content/drive/MyDrive/DeepFakeDetection/data/FakeAVCeleb_v1.2/real_videos_train/id01163/00402.wav\n"
          ]
        },
        {
          "output_type": "stream",
          "name": "stderr",
          "text": [
            "100%|██████████| 90/90 [00:00<00:00, 1732.87it/s]"
          ]
        },
        {
          "output_type": "stream",
          "name": "stdout",
          "text": [
            "[MoviePy] Done.\n",
            "Generating file for id id01163\n"
          ]
        },
        {
          "output_type": "stream",
          "name": "stderr",
          "text": [
            "\n"
          ]
        },
        {
          "output_type": "stream",
          "name": "stdout",
          "text": [
            "[MoviePy] Writing audio in /content/drive/MyDrive/DeepFakeDetection/data/FakeAVCeleb_v1.2/real_videos_train/id01163/00405.wav\n"
          ]
        },
        {
          "output_type": "stream",
          "name": "stderr",
          "text": [
            "100%|██████████| 114/114 [00:00<00:00, 2960.37it/s]"
          ]
        },
        {
          "output_type": "stream",
          "name": "stdout",
          "text": [
            "[MoviePy] Done.\n",
            "Generating file for id id01163\n"
          ]
        },
        {
          "output_type": "stream",
          "name": "stderr",
          "text": [
            "\n"
          ]
        },
        {
          "output_type": "stream",
          "name": "stdout",
          "text": [
            "[MoviePy] Writing audio in /content/drive/MyDrive/DeepFakeDetection/data/FakeAVCeleb_v1.2/real_videos_train/id01163/00404.wav\n"
          ]
        },
        {
          "output_type": "stream",
          "name": "stderr",
          "text": [
            "100%|██████████| 431/431 [00:00<00:00, 3389.92it/s]"
          ]
        },
        {
          "output_type": "stream",
          "name": "stdout",
          "text": [
            "[MoviePy] Done.\n",
            "Generating file for id id01163\n"
          ]
        },
        {
          "output_type": "stream",
          "name": "stderr",
          "text": [
            "\n"
          ]
        },
        {
          "output_type": "stream",
          "name": "stdout",
          "text": [
            "[MoviePy] Writing audio in /content/drive/MyDrive/DeepFakeDetection/data/FakeAVCeleb_v1.2/real_videos_train/id01163/00406.wav\n"
          ]
        },
        {
          "output_type": "stream",
          "name": "stderr",
          "text": [
            "100%|██████████| 109/109 [00:00<00:00, 3125.11it/s]"
          ]
        },
        {
          "output_type": "stream",
          "name": "stdout",
          "text": [
            "[MoviePy] Done.\n",
            "Generating file for id id01163\n"
          ]
        },
        {
          "output_type": "stream",
          "name": "stderr",
          "text": [
            "\n"
          ]
        },
        {
          "output_type": "stream",
          "name": "stdout",
          "text": [
            "[MoviePy] Writing audio in /content/drive/MyDrive/DeepFakeDetection/data/FakeAVCeleb_v1.2/real_videos_train/id01163/00408.wav\n"
          ]
        },
        {
          "output_type": "stream",
          "name": "stderr",
          "text": [
            "100%|██████████| 104/104 [00:00<00:00, 3273.70it/s]"
          ]
        },
        {
          "output_type": "stream",
          "name": "stdout",
          "text": [
            "[MoviePy] Done.\n",
            "Generating file for id id01163\n"
          ]
        },
        {
          "output_type": "stream",
          "name": "stderr",
          "text": [
            "\n"
          ]
        },
        {
          "output_type": "stream",
          "name": "stdout",
          "text": [
            "[MoviePy] Writing audio in /content/drive/MyDrive/DeepFakeDetection/data/FakeAVCeleb_v1.2/real_videos_train/id01163/00409.wav\n"
          ]
        },
        {
          "output_type": "stream",
          "name": "stderr",
          "text": [
            "100%|██████████| 195/195 [00:00<00:00, 3131.60it/s]"
          ]
        },
        {
          "output_type": "stream",
          "name": "stdout",
          "text": [
            "[MoviePy] Done.\n",
            "Generating file for id id01163\n"
          ]
        },
        {
          "output_type": "stream",
          "name": "stderr",
          "text": [
            "\n"
          ]
        },
        {
          "output_type": "stream",
          "name": "stdout",
          "text": [
            "[MoviePy] Writing audio in /content/drive/MyDrive/DeepFakeDetection/data/FakeAVCeleb_v1.2/real_videos_train/id01163/00410.wav\n"
          ]
        },
        {
          "output_type": "stream",
          "name": "stderr",
          "text": [
            "100%|██████████| 201/201 [00:00<00:00, 3349.18it/s]"
          ]
        },
        {
          "output_type": "stream",
          "name": "stdout",
          "text": [
            "[MoviePy] Done.\n",
            "Generating file for id id01163\n"
          ]
        },
        {
          "output_type": "stream",
          "name": "stderr",
          "text": [
            "\n"
          ]
        },
        {
          "output_type": "stream",
          "name": "stdout",
          "text": [
            "[MoviePy] Writing audio in /content/drive/MyDrive/DeepFakeDetection/data/FakeAVCeleb_v1.2/real_videos_train/id01163/00411.wav\n"
          ]
        },
        {
          "output_type": "stream",
          "name": "stderr",
          "text": [
            "100%|██████████| 117/117 [00:00<00:00, 3113.20it/s]"
          ]
        },
        {
          "output_type": "stream",
          "name": "stdout",
          "text": [
            "[MoviePy] Done.\n",
            "Generating file for id id01163\n"
          ]
        },
        {
          "output_type": "stream",
          "name": "stderr",
          "text": [
            "\n"
          ]
        },
        {
          "output_type": "stream",
          "name": "stdout",
          "text": [
            "[MoviePy] Writing audio in /content/drive/MyDrive/DeepFakeDetection/data/FakeAVCeleb_v1.2/real_videos_train/id01163/00412.wav\n"
          ]
        },
        {
          "output_type": "stream",
          "name": "stderr",
          "text": [
            "100%|██████████| 97/97 [00:00<00:00, 3291.09it/s]"
          ]
        },
        {
          "output_type": "stream",
          "name": "stdout",
          "text": [
            "[MoviePy] Done.\n",
            "Generating file for id id01163\n"
          ]
        },
        {
          "output_type": "stream",
          "name": "stderr",
          "text": [
            "\n"
          ]
        },
        {
          "output_type": "stream",
          "name": "stdout",
          "text": [
            "[MoviePy] Writing audio in /content/drive/MyDrive/DeepFakeDetection/data/FakeAVCeleb_v1.2/real_videos_train/id01163/00413.wav\n"
          ]
        },
        {
          "output_type": "stream",
          "name": "stderr",
          "text": [
            "100%|██████████| 103/103 [00:00<00:00, 3219.87it/s]"
          ]
        },
        {
          "output_type": "stream",
          "name": "stdout",
          "text": [
            "[MoviePy] Done.\n",
            "Generating file for id id01163\n"
          ]
        },
        {
          "output_type": "stream",
          "name": "stderr",
          "text": [
            "\n"
          ]
        },
        {
          "output_type": "stream",
          "name": "stdout",
          "text": [
            "[MoviePy] Writing audio in /content/drive/MyDrive/DeepFakeDetection/data/FakeAVCeleb_v1.2/real_videos_train/id01163/00414.wav\n"
          ]
        },
        {
          "output_type": "stream",
          "name": "stderr",
          "text": [
            "100%|██████████| 94/94 [00:00<00:00, 3459.83it/s]"
          ]
        },
        {
          "output_type": "stream",
          "name": "stdout",
          "text": [
            "[MoviePy] Done.\n",
            "Generating file for id id01163\n"
          ]
        },
        {
          "output_type": "stream",
          "name": "stderr",
          "text": [
            "\n"
          ]
        },
        {
          "output_type": "stream",
          "name": "stdout",
          "text": [
            "[MoviePy] Writing audio in /content/drive/MyDrive/DeepFakeDetection/data/FakeAVCeleb_v1.2/real_videos_train/id01163/00415.wav\n"
          ]
        },
        {
          "output_type": "stream",
          "name": "stderr",
          "text": [
            "100%|██████████| 98/98 [00:00<00:00, 3244.44it/s]"
          ]
        },
        {
          "output_type": "stream",
          "name": "stdout",
          "text": [
            "[MoviePy] Done.\n",
            "Generating file for id id01163\n"
          ]
        },
        {
          "output_type": "stream",
          "name": "stderr",
          "text": [
            "\n"
          ]
        },
        {
          "output_type": "stream",
          "name": "stdout",
          "text": [
            "[MoviePy] Writing audio in /content/drive/MyDrive/DeepFakeDetection/data/FakeAVCeleb_v1.2/real_videos_train/id01163/00416.wav\n"
          ]
        },
        {
          "output_type": "stream",
          "name": "stderr",
          "text": [
            "\r  0%|          | 0/153 [00:00<?, ?it/s]WARNING:py.warnings:/usr/local/lib/python3.7/dist-packages/moviepy/audio/io/readers.py:198: UserWarning: Error in file /content/drive/MyDrive/DeepFakeDetection/data/FakeAVCeleb_v1.2/real_videos_train/id01163/00416.mp4, At time t=6.85-6.90 seconds, indices wanted: 99698-101686, but len(buffer)=99699\n",
            "index 99699 is out of bounds for axis 0 with size 99699\n",
            "  UserWarning)\n",
            "\n",
            "100%|██████████| 153/153 [00:00<00:00, 3150.27it/s]"
          ]
        },
        {
          "output_type": "stream",
          "name": "stdout",
          "text": [
            "[MoviePy] Done.\n",
            "Generating file for id id01163\n"
          ]
        },
        {
          "output_type": "stream",
          "name": "stderr",
          "text": [
            "\n"
          ]
        },
        {
          "output_type": "stream",
          "name": "stdout",
          "text": [
            "[MoviePy] Writing audio in /content/drive/MyDrive/DeepFakeDetection/data/FakeAVCeleb_v1.2/real_videos_train/id01163/00418.wav\n"
          ]
        },
        {
          "output_type": "stream",
          "name": "stderr",
          "text": [
            "100%|██████████| 160/160 [00:00<00:00, 2134.75it/s]"
          ]
        },
        {
          "output_type": "stream",
          "name": "stdout",
          "text": [
            "[MoviePy] Done.\n",
            "Generating file for id id01163\n"
          ]
        },
        {
          "output_type": "stream",
          "name": "stderr",
          "text": [
            "\n"
          ]
        },
        {
          "output_type": "stream",
          "name": "stdout",
          "text": [
            "[MoviePy] Writing audio in /content/drive/MyDrive/DeepFakeDetection/data/FakeAVCeleb_v1.2/real_videos_train/id01163/00417.wav\n"
          ]
        },
        {
          "output_type": "stream",
          "name": "stderr",
          "text": [
            "100%|██████████| 127/127 [00:00<00:00, 3081.55it/s]"
          ]
        },
        {
          "output_type": "stream",
          "name": "stdout",
          "text": [
            "[MoviePy] Done.\n",
            "Generating file for id id01163\n"
          ]
        },
        {
          "output_type": "stream",
          "name": "stderr",
          "text": [
            "\n"
          ]
        },
        {
          "output_type": "stream",
          "name": "stdout",
          "text": [
            "[MoviePy] Writing audio in /content/drive/MyDrive/DeepFakeDetection/data/FakeAVCeleb_v1.2/real_videos_train/id01163/00419.wav\n"
          ]
        },
        {
          "output_type": "stream",
          "name": "stderr",
          "text": [
            "100%|██████████| 229/229 [00:00<00:00, 3393.21it/s]"
          ]
        },
        {
          "output_type": "stream",
          "name": "stdout",
          "text": [
            "[MoviePy] Done.\n",
            "Generating file for id id01163\n"
          ]
        },
        {
          "output_type": "stream",
          "name": "stderr",
          "text": [
            "\n"
          ]
        },
        {
          "output_type": "stream",
          "name": "stdout",
          "text": [
            "[MoviePy] Writing audio in /content/drive/MyDrive/DeepFakeDetection/data/FakeAVCeleb_v1.2/real_videos_train/id01163/00421.wav\n"
          ]
        },
        {
          "output_type": "stream",
          "name": "stderr",
          "text": [
            "100%|██████████| 169/169 [00:00<00:00, 3275.23it/s]"
          ]
        },
        {
          "output_type": "stream",
          "name": "stdout",
          "text": [
            "[MoviePy] Done.\n",
            "Generating file for id id01163\n"
          ]
        },
        {
          "output_type": "stream",
          "name": "stderr",
          "text": [
            "\n"
          ]
        },
        {
          "output_type": "stream",
          "name": "stdout",
          "text": [
            "[MoviePy] Writing audio in /content/drive/MyDrive/DeepFakeDetection/data/FakeAVCeleb_v1.2/real_videos_train/id01163/00420.wav\n"
          ]
        },
        {
          "output_type": "stream",
          "name": "stderr",
          "text": [
            "100%|██████████| 149/149 [00:00<00:00, 3091.29it/s]"
          ]
        },
        {
          "output_type": "stream",
          "name": "stdout",
          "text": [
            "[MoviePy] Done.\n",
            "Generating file for id id01163\n"
          ]
        },
        {
          "output_type": "stream",
          "name": "stderr",
          "text": [
            "\n"
          ]
        },
        {
          "output_type": "stream",
          "name": "stdout",
          "text": [
            "[MoviePy] Writing audio in /content/drive/MyDrive/DeepFakeDetection/data/FakeAVCeleb_v1.2/real_videos_train/id01163/00422.wav\n"
          ]
        },
        {
          "output_type": "stream",
          "name": "stderr",
          "text": [
            "100%|██████████| 283/283 [00:00<00:00, 3491.38it/s]"
          ]
        },
        {
          "output_type": "stream",
          "name": "stdout",
          "text": [
            "[MoviePy] Done.\n",
            "Generating file for id id01163\n"
          ]
        },
        {
          "output_type": "stream",
          "name": "stderr",
          "text": [
            "\n"
          ]
        },
        {
          "output_type": "stream",
          "name": "stdout",
          "text": [
            "[MoviePy] Writing audio in /content/drive/MyDrive/DeepFakeDetection/data/FakeAVCeleb_v1.2/real_videos_train/id01163/00423.wav\n"
          ]
        },
        {
          "output_type": "stream",
          "name": "stderr",
          "text": [
            "100%|██████████| 101/101 [00:00<00:00, 3224.59it/s]"
          ]
        },
        {
          "output_type": "stream",
          "name": "stdout",
          "text": [
            "[MoviePy] Done.\n",
            "Generating file for id id01163\n"
          ]
        },
        {
          "output_type": "stream",
          "name": "stderr",
          "text": [
            "\n"
          ]
        },
        {
          "output_type": "stream",
          "name": "stdout",
          "text": [
            "[MoviePy] Writing audio in /content/drive/MyDrive/DeepFakeDetection/data/FakeAVCeleb_v1.2/real_videos_train/id01163/00424.wav\n"
          ]
        },
        {
          "output_type": "stream",
          "name": "stderr",
          "text": [
            "100%|██████████| 142/142 [00:00<00:00, 3186.19it/s]"
          ]
        },
        {
          "output_type": "stream",
          "name": "stdout",
          "text": [
            "[MoviePy] Done.\n",
            "Generating file for id id01163\n"
          ]
        },
        {
          "output_type": "stream",
          "name": "stderr",
          "text": [
            "\n"
          ]
        },
        {
          "output_type": "stream",
          "name": "stdout",
          "text": [
            "[MoviePy] Writing audio in /content/drive/MyDrive/DeepFakeDetection/data/FakeAVCeleb_v1.2/real_videos_train/id01163/00425.wav\n"
          ]
        },
        {
          "output_type": "stream",
          "name": "stderr",
          "text": [
            "100%|██████████| 145/145 [00:00<00:00, 3224.75it/s]"
          ]
        },
        {
          "output_type": "stream",
          "name": "stdout",
          "text": [
            "[MoviePy] Done.\n",
            "Generating file for id id01163\n"
          ]
        },
        {
          "output_type": "stream",
          "name": "stderr",
          "text": [
            "\n"
          ]
        },
        {
          "output_type": "stream",
          "name": "stdout",
          "text": [
            "[MoviePy] Writing audio in /content/drive/MyDrive/DeepFakeDetection/data/FakeAVCeleb_v1.2/real_videos_train/id01163/00426.wav\n"
          ]
        },
        {
          "output_type": "stream",
          "name": "stderr",
          "text": [
            "100%|██████████| 155/155 [00:00<00:00, 3313.04it/s]"
          ]
        },
        {
          "output_type": "stream",
          "name": "stdout",
          "text": [
            "[MoviePy] Done.\n",
            "Generating file for id id01163\n"
          ]
        },
        {
          "output_type": "stream",
          "name": "stderr",
          "text": [
            "\n"
          ]
        },
        {
          "output_type": "stream",
          "name": "stdout",
          "text": [
            "[MoviePy] Writing audio in /content/drive/MyDrive/DeepFakeDetection/data/FakeAVCeleb_v1.2/real_videos_train/id01163/00432.wav\n"
          ]
        },
        {
          "output_type": "stream",
          "name": "stderr",
          "text": [
            "100%|██████████| 95/95 [00:00<00:00, 3134.93it/s]"
          ]
        },
        {
          "output_type": "stream",
          "name": "stdout",
          "text": [
            "[MoviePy] Done.\n",
            "Generating file for id id01163\n"
          ]
        },
        {
          "output_type": "stream",
          "name": "stderr",
          "text": [
            "\n"
          ]
        },
        {
          "output_type": "stream",
          "name": "stdout",
          "text": [
            "[MoviePy] Writing audio in /content/drive/MyDrive/DeepFakeDetection/data/FakeAVCeleb_v1.2/real_videos_train/id01163/00431.wav\n"
          ]
        },
        {
          "output_type": "stream",
          "name": "stderr",
          "text": [
            "100%|██████████| 150/150 [00:00<00:00, 3228.66it/s]"
          ]
        },
        {
          "output_type": "stream",
          "name": "stdout",
          "text": [
            "[MoviePy] Done.\n",
            "Generating file for id id01163\n"
          ]
        },
        {
          "output_type": "stream",
          "name": "stderr",
          "text": [
            "\n"
          ]
        },
        {
          "output_type": "stream",
          "name": "stdout",
          "text": [
            "[MoviePy] Writing audio in /content/drive/MyDrive/DeepFakeDetection/data/FakeAVCeleb_v1.2/real_videos_train/id01163/00433.wav\n"
          ]
        },
        {
          "output_type": "stream",
          "name": "stderr",
          "text": [
            "100%|██████████| 145/145 [00:00<00:00, 3119.05it/s]"
          ]
        },
        {
          "output_type": "stream",
          "name": "stdout",
          "text": [
            "[MoviePy] Done.\n",
            "Generating file for id id01163\n"
          ]
        },
        {
          "output_type": "stream",
          "name": "stderr",
          "text": [
            "\n"
          ]
        },
        {
          "output_type": "stream",
          "name": "stdout",
          "text": [
            "[MoviePy] Writing audio in /content/drive/MyDrive/DeepFakeDetection/data/FakeAVCeleb_v1.2/real_videos_train/id01163/00434.wav\n"
          ]
        },
        {
          "output_type": "stream",
          "name": "stderr",
          "text": [
            "100%|██████████| 98/98 [00:00<00:00, 3218.25it/s]"
          ]
        },
        {
          "output_type": "stream",
          "name": "stdout",
          "text": [
            "[MoviePy] Done.\n",
            "Generating file for id id01163\n"
          ]
        },
        {
          "output_type": "stream",
          "name": "stderr",
          "text": [
            "\n"
          ]
        },
        {
          "output_type": "stream",
          "name": "stdout",
          "text": [
            "[MoviePy] Writing audio in /content/drive/MyDrive/DeepFakeDetection/data/FakeAVCeleb_v1.2/real_videos_train/id01163/00435.wav\n"
          ]
        },
        {
          "output_type": "stream",
          "name": "stderr",
          "text": [
            "100%|██████████| 131/131 [00:00<00:00, 3054.15it/s]"
          ]
        },
        {
          "output_type": "stream",
          "name": "stdout",
          "text": [
            "[MoviePy] Done.\n",
            "Generating file for id id01163\n"
          ]
        },
        {
          "output_type": "stream",
          "name": "stderr",
          "text": [
            "\n"
          ]
        },
        {
          "output_type": "stream",
          "name": "stdout",
          "text": [
            "[MoviePy] Writing audio in /content/drive/MyDrive/DeepFakeDetection/data/FakeAVCeleb_v1.2/real_videos_train/id01163/00436.wav\n"
          ]
        },
        {
          "output_type": "stream",
          "name": "stderr",
          "text": [
            "100%|██████████| 126/126 [00:00<00:00, 2919.19it/s]"
          ]
        },
        {
          "output_type": "stream",
          "name": "stdout",
          "text": [
            "[MoviePy] Done.\n",
            "Generating file for id id01163\n"
          ]
        },
        {
          "output_type": "stream",
          "name": "stderr",
          "text": [
            "\n"
          ]
        },
        {
          "output_type": "stream",
          "name": "stdout",
          "text": [
            "[MoviePy] Writing audio in /content/drive/MyDrive/DeepFakeDetection/data/FakeAVCeleb_v1.2/real_videos_train/id01163/00437.wav\n"
          ]
        },
        {
          "output_type": "stream",
          "name": "stderr",
          "text": [
            "100%|██████████| 109/109 [00:00<00:00, 2582.22it/s]"
          ]
        },
        {
          "output_type": "stream",
          "name": "stdout",
          "text": [
            "[MoviePy] Done.\n",
            "Generating file for id id01163\n"
          ]
        },
        {
          "output_type": "stream",
          "name": "stderr",
          "text": [
            "\n"
          ]
        },
        {
          "output_type": "stream",
          "name": "stdout",
          "text": [
            "[MoviePy] Writing audio in /content/drive/MyDrive/DeepFakeDetection/data/FakeAVCeleb_v1.2/real_videos_train/id01163/00438.wav\n"
          ]
        },
        {
          "output_type": "stream",
          "name": "stderr",
          "text": [
            "100%|██████████| 160/160 [00:00<00:00, 3227.01it/s]"
          ]
        },
        {
          "output_type": "stream",
          "name": "stdout",
          "text": [
            "[MoviePy] Done.\n",
            "Generating file for id id01163\n"
          ]
        },
        {
          "output_type": "stream",
          "name": "stderr",
          "text": [
            "\n"
          ]
        },
        {
          "output_type": "stream",
          "name": "stdout",
          "text": [
            "[MoviePy] Writing audio in /content/drive/MyDrive/DeepFakeDetection/data/FakeAVCeleb_v1.2/real_videos_train/id01163/00439.wav\n"
          ]
        },
        {
          "output_type": "stream",
          "name": "stderr",
          "text": [
            "100%|██████████| 120/120 [00:00<00:00, 3082.05it/s]"
          ]
        },
        {
          "output_type": "stream",
          "name": "stdout",
          "text": [
            "[MoviePy] Done.\n",
            "Generating file for id id01163\n"
          ]
        },
        {
          "output_type": "stream",
          "name": "stderr",
          "text": [
            "\n"
          ]
        },
        {
          "output_type": "stream",
          "name": "stdout",
          "text": [
            "[MoviePy] Writing audio in /content/drive/MyDrive/DeepFakeDetection/data/FakeAVCeleb_v1.2/real_videos_train/id01163/00441.wav\n"
          ]
        },
        {
          "output_type": "stream",
          "name": "stderr",
          "text": [
            "100%|██████████| 143/143 [00:00<00:00, 3154.61it/s]"
          ]
        },
        {
          "output_type": "stream",
          "name": "stdout",
          "text": [
            "[MoviePy] Done.\n",
            "Generating file for id id01163\n"
          ]
        },
        {
          "output_type": "stream",
          "name": "stderr",
          "text": [
            "\n"
          ]
        },
        {
          "output_type": "stream",
          "name": "stdout",
          "text": [
            "[MoviePy] Writing audio in /content/drive/MyDrive/DeepFakeDetection/data/FakeAVCeleb_v1.2/real_videos_train/id01163/00440.wav\n"
          ]
        },
        {
          "output_type": "stream",
          "name": "stderr",
          "text": [
            "100%|██████████| 113/113 [00:00<00:00, 3053.72it/s]"
          ]
        },
        {
          "output_type": "stream",
          "name": "stdout",
          "text": [
            "[MoviePy] Done.\n",
            "Generating file for id id01163\n"
          ]
        },
        {
          "output_type": "stream",
          "name": "stderr",
          "text": [
            "\n"
          ]
        },
        {
          "output_type": "stream",
          "name": "stdout",
          "text": [
            "[MoviePy] Writing audio in /content/drive/MyDrive/DeepFakeDetection/data/FakeAVCeleb_v1.2/real_videos_train/id01163/00443.wav\n"
          ]
        },
        {
          "output_type": "stream",
          "name": "stderr",
          "text": [
            "100%|██████████| 128/128 [00:00<00:00, 3113.61it/s]"
          ]
        },
        {
          "output_type": "stream",
          "name": "stdout",
          "text": [
            "[MoviePy] Done.\n",
            "Generating file for id id01163\n"
          ]
        },
        {
          "output_type": "stream",
          "name": "stderr",
          "text": [
            "\n"
          ]
        },
        {
          "output_type": "stream",
          "name": "stdout",
          "text": [
            "[MoviePy] Writing audio in /content/drive/MyDrive/DeepFakeDetection/data/FakeAVCeleb_v1.2/real_videos_train/id01163/00444.wav\n"
          ]
        },
        {
          "output_type": "stream",
          "name": "stderr",
          "text": [
            "100%|██████████| 106/106 [00:00<00:00, 3242.08it/s]"
          ]
        },
        {
          "output_type": "stream",
          "name": "stdout",
          "text": [
            "[MoviePy] Done.\n",
            "Generating file for id id01163\n"
          ]
        },
        {
          "output_type": "stream",
          "name": "stderr",
          "text": [
            "\n"
          ]
        },
        {
          "output_type": "stream",
          "name": "stdout",
          "text": [
            "[MoviePy] Writing audio in /content/drive/MyDrive/DeepFakeDetection/data/FakeAVCeleb_v1.2/real_videos_train/id01163/00445.wav\n"
          ]
        },
        {
          "output_type": "stream",
          "name": "stderr",
          "text": [
            "100%|██████████| 109/109 [00:00<00:00, 3363.76it/s]"
          ]
        },
        {
          "output_type": "stream",
          "name": "stdout",
          "text": [
            "[MoviePy] Done.\n",
            "Generating file for id id01163\n"
          ]
        },
        {
          "output_type": "stream",
          "name": "stderr",
          "text": [
            "\n"
          ]
        },
        {
          "output_type": "stream",
          "name": "stdout",
          "text": [
            "[MoviePy] Writing audio in /content/drive/MyDrive/DeepFakeDetection/data/FakeAVCeleb_v1.2/real_videos_train/id01163/00446.wav\n"
          ]
        },
        {
          "output_type": "stream",
          "name": "stderr",
          "text": [
            "100%|██████████| 172/172 [00:00<00:00, 3120.82it/s]"
          ]
        },
        {
          "output_type": "stream",
          "name": "stdout",
          "text": [
            "[MoviePy] Done.\n",
            "Generating file for id id01163\n"
          ]
        },
        {
          "output_type": "stream",
          "name": "stderr",
          "text": [
            "\n"
          ]
        },
        {
          "output_type": "stream",
          "name": "stdout",
          "text": [
            "[MoviePy] Writing audio in /content/drive/MyDrive/DeepFakeDetection/data/FakeAVCeleb_v1.2/real_videos_train/id01163/00448.wav\n"
          ]
        },
        {
          "output_type": "stream",
          "name": "stderr",
          "text": [
            "100%|██████████| 112/112 [00:00<00:00, 2727.12it/s]"
          ]
        },
        {
          "output_type": "stream",
          "name": "stdout",
          "text": [
            "[MoviePy] Done.\n",
            "Generating file for id id01163\n"
          ]
        },
        {
          "output_type": "stream",
          "name": "stderr",
          "text": [
            "\n"
          ]
        },
        {
          "output_type": "stream",
          "name": "stdout",
          "text": [
            "[MoviePy] Writing audio in /content/drive/MyDrive/DeepFakeDetection/data/FakeAVCeleb_v1.2/real_videos_train/id01163/00450.wav\n"
          ]
        },
        {
          "output_type": "stream",
          "name": "stderr",
          "text": [
            "100%|██████████| 166/166 [00:00<00:00, 3211.18it/s]"
          ]
        },
        {
          "output_type": "stream",
          "name": "stdout",
          "text": [
            "[MoviePy] Done.\n",
            "Generating file for id id01163\n"
          ]
        },
        {
          "output_type": "stream",
          "name": "stderr",
          "text": [
            "\n"
          ]
        },
        {
          "output_type": "stream",
          "name": "stdout",
          "text": [
            "[MoviePy] Writing audio in /content/drive/MyDrive/DeepFakeDetection/data/FakeAVCeleb_v1.2/real_videos_train/id01163/00449.wav\n"
          ]
        },
        {
          "output_type": "stream",
          "name": "stderr",
          "text": [
            "100%|██████████| 123/123 [00:00<00:00, 3194.74it/s]"
          ]
        },
        {
          "output_type": "stream",
          "name": "stdout",
          "text": [
            "[MoviePy] Done.\n",
            "Generating file for id id01163\n"
          ]
        },
        {
          "output_type": "stream",
          "name": "stderr",
          "text": [
            "\n"
          ]
        },
        {
          "output_type": "stream",
          "name": "stdout",
          "text": [
            "[MoviePy] Writing audio in /content/drive/MyDrive/DeepFakeDetection/data/FakeAVCeleb_v1.2/real_videos_train/id01163/00451.wav\n"
          ]
        },
        {
          "output_type": "stream",
          "name": "stderr",
          "text": [
            "100%|██████████| 124/124 [00:00<00:00, 2963.56it/s]"
          ]
        },
        {
          "output_type": "stream",
          "name": "stdout",
          "text": [
            "[MoviePy] Done.\n",
            "Generating file for id id01163\n"
          ]
        },
        {
          "output_type": "stream",
          "name": "stderr",
          "text": [
            "\n"
          ]
        },
        {
          "output_type": "stream",
          "name": "stdout",
          "text": [
            "[MoviePy] Writing audio in /content/drive/MyDrive/DeepFakeDetection/data/FakeAVCeleb_v1.2/real_videos_train/id01163/00452.wav\n"
          ]
        },
        {
          "output_type": "stream",
          "name": "stderr",
          "text": [
            "100%|██████████| 94/94 [00:00<00:00, 3216.99it/s]"
          ]
        },
        {
          "output_type": "stream",
          "name": "stdout",
          "text": [
            "[MoviePy] Done.\n",
            "Generating file for id id01163\n"
          ]
        },
        {
          "output_type": "stream",
          "name": "stderr",
          "text": [
            "\n"
          ]
        },
        {
          "output_type": "stream",
          "name": "stdout",
          "text": [
            "[MoviePy] Writing audio in /content/drive/MyDrive/DeepFakeDetection/data/FakeAVCeleb_v1.2/real_videos_train/id01163/00453.wav\n"
          ]
        },
        {
          "output_type": "stream",
          "name": "stderr",
          "text": [
            "100%|██████████| 107/107 [00:00<00:00, 2210.28it/s]"
          ]
        },
        {
          "output_type": "stream",
          "name": "stdout",
          "text": [
            "[MoviePy] Done.\n",
            "Generating file for id id01163\n"
          ]
        },
        {
          "output_type": "stream",
          "name": "stderr",
          "text": [
            "\n"
          ]
        },
        {
          "output_type": "stream",
          "name": "stdout",
          "text": [
            "[MoviePy] Writing audio in /content/drive/MyDrive/DeepFakeDetection/data/FakeAVCeleb_v1.2/real_videos_train/id01163/00456.wav\n"
          ]
        },
        {
          "output_type": "stream",
          "name": "stderr",
          "text": [
            "100%|██████████| 99/99 [00:00<00:00, 3235.26it/s]"
          ]
        },
        {
          "output_type": "stream",
          "name": "stdout",
          "text": [
            "[MoviePy] Done.\n",
            "Generating file for id id01163\n"
          ]
        },
        {
          "output_type": "stream",
          "name": "stderr",
          "text": [
            "\n"
          ]
        },
        {
          "output_type": "stream",
          "name": "stdout",
          "text": [
            "[MoviePy] Writing audio in /content/drive/MyDrive/DeepFakeDetection/data/FakeAVCeleb_v1.2/real_videos_train/id01163/00457.wav\n"
          ]
        },
        {
          "output_type": "stream",
          "name": "stderr",
          "text": [
            "100%|██████████| 189/189 [00:00<00:00, 3013.92it/s]"
          ]
        },
        {
          "output_type": "stream",
          "name": "stdout",
          "text": [
            "[MoviePy] Done.\n",
            "Generating file for id id01163\n"
          ]
        },
        {
          "output_type": "stream",
          "name": "stderr",
          "text": [
            "\n"
          ]
        },
        {
          "output_type": "stream",
          "name": "stdout",
          "text": [
            "[MoviePy] Writing audio in /content/drive/MyDrive/DeepFakeDetection/data/FakeAVCeleb_v1.2/real_videos_train/id01163/00459.wav\n"
          ]
        },
        {
          "output_type": "stream",
          "name": "stderr",
          "text": [
            "100%|██████████| 127/127 [00:00<00:00, 3008.59it/s]"
          ]
        },
        {
          "output_type": "stream",
          "name": "stdout",
          "text": [
            "[MoviePy] Done.\n",
            "Generating file for id id01163\n"
          ]
        },
        {
          "output_type": "stream",
          "name": "stderr",
          "text": [
            "\n"
          ]
        },
        {
          "output_type": "stream",
          "name": "stdout",
          "text": [
            "[MoviePy] Writing audio in /content/drive/MyDrive/DeepFakeDetection/data/FakeAVCeleb_v1.2/real_videos_train/id01163/00458.wav\n"
          ]
        },
        {
          "output_type": "stream",
          "name": "stderr",
          "text": [
            "100%|██████████| 155/155 [00:00<00:00, 2616.14it/s]"
          ]
        },
        {
          "output_type": "stream",
          "name": "stdout",
          "text": [
            "[MoviePy] Done.\n",
            "Generating file for id id01163\n"
          ]
        },
        {
          "output_type": "stream",
          "name": "stderr",
          "text": [
            "\n"
          ]
        },
        {
          "output_type": "stream",
          "name": "stdout",
          "text": [
            "[MoviePy] Writing audio in /content/drive/MyDrive/DeepFakeDetection/data/FakeAVCeleb_v1.2/real_videos_train/id01163/00460.wav\n"
          ]
        },
        {
          "output_type": "stream",
          "name": "stderr",
          "text": [
            "100%|██████████| 169/169 [00:00<00:00, 3017.15it/s]"
          ]
        },
        {
          "output_type": "stream",
          "name": "stdout",
          "text": [
            "[MoviePy] Done.\n",
            "Generating file for id id01163\n"
          ]
        },
        {
          "output_type": "stream",
          "name": "stderr",
          "text": [
            "\n"
          ]
        },
        {
          "output_type": "stream",
          "name": "stdout",
          "text": [
            "[MoviePy] Writing audio in /content/drive/MyDrive/DeepFakeDetection/data/FakeAVCeleb_v1.2/real_videos_train/id01163/00461.wav\n"
          ]
        },
        {
          "output_type": "stream",
          "name": "stderr",
          "text": [
            "100%|██████████| 390/390 [00:00<00:00, 3287.53it/s]"
          ]
        },
        {
          "output_type": "stream",
          "name": "stdout",
          "text": [
            "[MoviePy] Done.\n",
            "Generating file for id id01163\n"
          ]
        },
        {
          "output_type": "stream",
          "name": "stderr",
          "text": [
            "\n"
          ]
        },
        {
          "output_type": "stream",
          "name": "stdout",
          "text": [
            "[MoviePy] Writing audio in /content/drive/MyDrive/DeepFakeDetection/data/FakeAVCeleb_v1.2/real_videos_train/id01163/00462.wav\n"
          ]
        },
        {
          "output_type": "stream",
          "name": "stderr",
          "text": [
            "100%|██████████| 470/470 [00:00<00:00, 3187.60it/s]"
          ]
        },
        {
          "output_type": "stream",
          "name": "stdout",
          "text": [
            "[MoviePy] Done.\n"
          ]
        },
        {
          "output_type": "stream",
          "name": "stderr",
          "text": [
            "\n"
          ]
        },
        {
          "output_type": "stream",
          "name": "stdout",
          "text": [
            "Generating file for id id01163\n",
            "[MoviePy] Writing audio in /content/drive/MyDrive/DeepFakeDetection/data/FakeAVCeleb_v1.2/real_videos_train/id01163/00463.wav\n"
          ]
        },
        {
          "output_type": "stream",
          "name": "stderr",
          "text": [
            "100%|██████████| 409/409 [00:00<00:00, 3519.20it/s]"
          ]
        },
        {
          "output_type": "stream",
          "name": "stdout",
          "text": [
            "[MoviePy] Done.\n",
            "Generating file for id id01163\n"
          ]
        },
        {
          "output_type": "stream",
          "name": "stderr",
          "text": [
            "\n"
          ]
        },
        {
          "output_type": "stream",
          "name": "stdout",
          "text": [
            "[MoviePy] Writing audio in /content/drive/MyDrive/DeepFakeDetection/data/FakeAVCeleb_v1.2/real_videos_train/id01163/00464.wav\n"
          ]
        },
        {
          "output_type": "stream",
          "name": "stderr",
          "text": [
            "100%|██████████| 253/253 [00:00<00:00, 3328.47it/s]"
          ]
        },
        {
          "output_type": "stream",
          "name": "stdout",
          "text": [
            "[MoviePy] Done.\n",
            "Generating file for id id01163\n"
          ]
        },
        {
          "output_type": "stream",
          "name": "stderr",
          "text": [
            "\n"
          ]
        },
        {
          "output_type": "stream",
          "name": "stdout",
          "text": [
            "[MoviePy] Writing audio in /content/drive/MyDrive/DeepFakeDetection/data/FakeAVCeleb_v1.2/real_videos_train/id01163/00465.wav\n"
          ]
        },
        {
          "output_type": "stream",
          "name": "stderr",
          "text": [
            "100%|██████████| 292/292 [00:00<00:00, 3375.74it/s]"
          ]
        },
        {
          "output_type": "stream",
          "name": "stdout",
          "text": [
            "[MoviePy] Done.\n",
            "Generating file for id id01163\n"
          ]
        },
        {
          "output_type": "stream",
          "name": "stderr",
          "text": [
            "\n"
          ]
        },
        {
          "output_type": "stream",
          "name": "stdout",
          "text": [
            "[MoviePy] Writing audio in /content/drive/MyDrive/DeepFakeDetection/data/FakeAVCeleb_v1.2/real_videos_train/id01163/00466.wav\n"
          ]
        },
        {
          "output_type": "stream",
          "name": "stderr",
          "text": [
            "100%|██████████| 174/174 [00:00<00:00, 3173.50it/s]"
          ]
        },
        {
          "output_type": "stream",
          "name": "stdout",
          "text": [
            "[MoviePy] Done.\n",
            "Generating file for id id01163\n"
          ]
        },
        {
          "output_type": "stream",
          "name": "stderr",
          "text": [
            "\n"
          ]
        },
        {
          "output_type": "stream",
          "name": "stdout",
          "text": [
            "[MoviePy] Writing audio in /content/drive/MyDrive/DeepFakeDetection/data/FakeAVCeleb_v1.2/real_videos_train/id01163/00468.wav\n"
          ]
        },
        {
          "output_type": "stream",
          "name": "stderr",
          "text": [
            "100%|██████████| 217/217 [00:00<00:00, 3258.55it/s]"
          ]
        },
        {
          "output_type": "stream",
          "name": "stdout",
          "text": [
            "[MoviePy] Done.\n",
            "Generating file for id id01163\n"
          ]
        },
        {
          "output_type": "stream",
          "name": "stderr",
          "text": [
            "\n"
          ]
        },
        {
          "output_type": "stream",
          "name": "stdout",
          "text": [
            "[MoviePy] Writing audio in /content/drive/MyDrive/DeepFakeDetection/data/FakeAVCeleb_v1.2/real_videos_train/id01163/00467.wav\n"
          ]
        },
        {
          "output_type": "stream",
          "name": "stderr",
          "text": [
            "100%|██████████| 702/702 [00:00<00:00, 3677.05it/s]"
          ]
        },
        {
          "output_type": "stream",
          "name": "stdout",
          "text": [
            "[MoviePy] Done.\n"
          ]
        },
        {
          "output_type": "stream",
          "name": "stderr",
          "text": [
            "\n"
          ]
        },
        {
          "output_type": "stream",
          "name": "stdout",
          "text": [
            "Generating file for id id01163\n",
            "[MoviePy] Writing audio in /content/drive/MyDrive/DeepFakeDetection/data/FakeAVCeleb_v1.2/real_videos_train/id01163/00469.wav\n"
          ]
        },
        {
          "output_type": "stream",
          "name": "stderr",
          "text": [
            "100%|██████████| 176/176 [00:00<00:00, 2317.58it/s]"
          ]
        },
        {
          "output_type": "stream",
          "name": "stdout",
          "text": [
            "[MoviePy] Done.\n",
            "Generating file for id id01163\n"
          ]
        },
        {
          "output_type": "stream",
          "name": "stderr",
          "text": [
            "\n"
          ]
        },
        {
          "output_type": "stream",
          "name": "stdout",
          "text": [
            "[MoviePy] Writing audio in /content/drive/MyDrive/DeepFakeDetection/data/FakeAVCeleb_v1.2/real_videos_train/id01163/00471.wav\n"
          ]
        },
        {
          "output_type": "stream",
          "name": "stderr",
          "text": [
            "100%|██████████| 89/89 [00:00<00:00, 3293.54it/s]"
          ]
        },
        {
          "output_type": "stream",
          "name": "stdout",
          "text": [
            "[MoviePy] Done.\n",
            "Generating file for id id01163\n"
          ]
        },
        {
          "output_type": "stream",
          "name": "stderr",
          "text": [
            "\n"
          ]
        },
        {
          "output_type": "stream",
          "name": "stdout",
          "text": [
            "[MoviePy] Writing audio in /content/drive/MyDrive/DeepFakeDetection/data/FakeAVCeleb_v1.2/real_videos_train/id01163/00470.wav\n"
          ]
        },
        {
          "output_type": "stream",
          "name": "stderr",
          "text": [
            "100%|██████████| 445/445 [00:00<00:00, 3364.50it/s]"
          ]
        },
        {
          "output_type": "stream",
          "name": "stdout",
          "text": [
            "[MoviePy] Done.\n",
            "Generating file for id id01163\n"
          ]
        },
        {
          "output_type": "stream",
          "name": "stderr",
          "text": [
            "\n"
          ]
        },
        {
          "output_type": "stream",
          "name": "stdout",
          "text": [
            "[MoviePy] Writing audio in /content/drive/MyDrive/DeepFakeDetection/data/FakeAVCeleb_v1.2/real_videos_train/id01163/00472.wav\n"
          ]
        },
        {
          "output_type": "stream",
          "name": "stderr",
          "text": [
            "100%|██████████| 114/114 [00:00<00:00, 2994.92it/s]"
          ]
        },
        {
          "output_type": "stream",
          "name": "stdout",
          "text": [
            "[MoviePy] Done.\n",
            "Generating file for id id01163\n"
          ]
        },
        {
          "output_type": "stream",
          "name": "stderr",
          "text": [
            "\n"
          ]
        },
        {
          "output_type": "stream",
          "name": "stdout",
          "text": [
            "[MoviePy] Writing audio in /content/drive/MyDrive/DeepFakeDetection/data/FakeAVCeleb_v1.2/real_videos_train/id01163/00473.wav\n"
          ]
        },
        {
          "output_type": "stream",
          "name": "stderr",
          "text": [
            "100%|██████████| 164/164 [00:00<00:00, 3121.65it/s]"
          ]
        },
        {
          "output_type": "stream",
          "name": "stdout",
          "text": [
            "[MoviePy] Done.\n",
            "Generating file for id id01163\n"
          ]
        },
        {
          "output_type": "stream",
          "name": "stderr",
          "text": [
            "\n"
          ]
        },
        {
          "output_type": "stream",
          "name": "stdout",
          "text": [
            "[MoviePy] Writing audio in /content/drive/MyDrive/DeepFakeDetection/data/FakeAVCeleb_v1.2/real_videos_train/id01163/00474.wav\n"
          ]
        },
        {
          "output_type": "stream",
          "name": "stderr",
          "text": [
            "100%|██████████| 259/259 [00:00<00:00, 3233.82it/s]"
          ]
        },
        {
          "output_type": "stream",
          "name": "stdout",
          "text": [
            "[MoviePy] Done.\n",
            "Generating file for id id01163\n"
          ]
        },
        {
          "output_type": "stream",
          "name": "stderr",
          "text": [
            "\n"
          ]
        },
        {
          "output_type": "stream",
          "name": "stdout",
          "text": [
            "[MoviePy] Writing audio in /content/drive/MyDrive/DeepFakeDetection/data/FakeAVCeleb_v1.2/real_videos_train/id01163/00475.wav\n"
          ]
        },
        {
          "output_type": "stream",
          "name": "stderr",
          "text": [
            "100%|██████████| 214/214 [00:00<00:00, 3107.75it/s]"
          ]
        },
        {
          "output_type": "stream",
          "name": "stdout",
          "text": [
            "[MoviePy] Done.\n",
            "Generating file for id id01163\n"
          ]
        },
        {
          "output_type": "stream",
          "name": "stderr",
          "text": [
            "\n"
          ]
        },
        {
          "output_type": "stream",
          "name": "stdout",
          "text": [
            "[MoviePy] Writing audio in /content/drive/MyDrive/DeepFakeDetection/data/FakeAVCeleb_v1.2/real_videos_train/id01163/00476.wav\n"
          ]
        },
        {
          "output_type": "stream",
          "name": "stderr",
          "text": [
            "100%|██████████| 96/96 [00:00<00:00, 3280.46it/s]"
          ]
        },
        {
          "output_type": "stream",
          "name": "stdout",
          "text": [
            "[MoviePy] Done.\n",
            "Generating file for id id01163\n"
          ]
        },
        {
          "output_type": "stream",
          "name": "stderr",
          "text": [
            "\n"
          ]
        },
        {
          "output_type": "stream",
          "name": "stdout",
          "text": [
            "[MoviePy] Writing audio in /content/drive/MyDrive/DeepFakeDetection/data/FakeAVCeleb_v1.2/real_videos_train/id01163/00477.wav\n"
          ]
        },
        {
          "output_type": "stream",
          "name": "stderr",
          "text": [
            "100%|██████████| 154/154 [00:00<00:00, 3276.65it/s]"
          ]
        },
        {
          "output_type": "stream",
          "name": "stdout",
          "text": [
            "[MoviePy] Done.\n",
            "Generating file for id id01163\n"
          ]
        },
        {
          "output_type": "stream",
          "name": "stderr",
          "text": [
            "\n"
          ]
        },
        {
          "output_type": "stream",
          "name": "stdout",
          "text": [
            "[MoviePy] Writing audio in /content/drive/MyDrive/DeepFakeDetection/data/FakeAVCeleb_v1.2/real_videos_train/id01163/00478.wav\n"
          ]
        },
        {
          "output_type": "stream",
          "name": "stderr",
          "text": [
            "100%|██████████| 135/135 [00:00<00:00, 2942.85it/s]"
          ]
        },
        {
          "output_type": "stream",
          "name": "stdout",
          "text": [
            "[MoviePy] Done.\n",
            "Generating file for id id01163\n"
          ]
        },
        {
          "output_type": "stream",
          "name": "stderr",
          "text": [
            "\n"
          ]
        },
        {
          "output_type": "stream",
          "name": "stdout",
          "text": [
            "[MoviePy] Writing audio in /content/drive/MyDrive/DeepFakeDetection/data/FakeAVCeleb_v1.2/real_videos_train/id01163/00480.wav\n"
          ]
        },
        {
          "output_type": "stream",
          "name": "stderr",
          "text": [
            "100%|██████████| 274/274 [00:00<00:00, 3393.54it/s]"
          ]
        },
        {
          "output_type": "stream",
          "name": "stdout",
          "text": [
            "[MoviePy] Done.\n",
            "Generating file for id id01163\n"
          ]
        },
        {
          "output_type": "stream",
          "name": "stderr",
          "text": [
            "\n"
          ]
        },
        {
          "output_type": "stream",
          "name": "stdout",
          "text": [
            "[MoviePy] Writing audio in /content/drive/MyDrive/DeepFakeDetection/data/FakeAVCeleb_v1.2/real_videos_train/id01163/00479.wav\n"
          ]
        },
        {
          "output_type": "stream",
          "name": "stderr",
          "text": [
            "100%|██████████| 201/201 [00:00<00:00, 3266.24it/s]"
          ]
        },
        {
          "output_type": "stream",
          "name": "stdout",
          "text": [
            "[MoviePy] Done.\n",
            "Generating file for id id01163\n"
          ]
        },
        {
          "output_type": "stream",
          "name": "stderr",
          "text": [
            "\n"
          ]
        },
        {
          "output_type": "stream",
          "name": "stdout",
          "text": [
            "[MoviePy] Writing audio in /content/drive/MyDrive/DeepFakeDetection/data/FakeAVCeleb_v1.2/real_videos_train/id01163/00481.wav\n"
          ]
        },
        {
          "output_type": "stream",
          "name": "stderr",
          "text": [
            "100%|██████████| 185/185 [00:00<00:00, 3332.47it/s]"
          ]
        },
        {
          "output_type": "stream",
          "name": "stdout",
          "text": [
            "[MoviePy] Done.\n",
            "Generating file for id id01163\n"
          ]
        },
        {
          "output_type": "stream",
          "name": "stderr",
          "text": [
            "\n"
          ]
        },
        {
          "output_type": "stream",
          "name": "stdout",
          "text": [
            "[MoviePy] Writing audio in /content/drive/MyDrive/DeepFakeDetection/data/FakeAVCeleb_v1.2/real_videos_train/id01163/00482.wav\n"
          ]
        },
        {
          "output_type": "stream",
          "name": "stderr",
          "text": [
            "100%|██████████| 466/466 [00:00<00:00, 2559.32it/s]"
          ]
        },
        {
          "output_type": "stream",
          "name": "stdout",
          "text": [
            "[MoviePy] Done.\n"
          ]
        },
        {
          "output_type": "stream",
          "name": "stderr",
          "text": [
            "\n"
          ]
        },
        {
          "output_type": "stream",
          "name": "stdout",
          "text": [
            "Generating file for id id01163\n",
            "[MoviePy] Writing audio in /content/drive/MyDrive/DeepFakeDetection/data/FakeAVCeleb_v1.2/real_videos_train/id01163/00483.wav\n"
          ]
        },
        {
          "output_type": "stream",
          "name": "stderr",
          "text": [
            "100%|██████████| 129/129 [00:00<00:00, 2300.60it/s]"
          ]
        },
        {
          "output_type": "stream",
          "name": "stdout",
          "text": [
            "[MoviePy] Done.\n",
            "Generating file for id id01163\n"
          ]
        },
        {
          "output_type": "stream",
          "name": "stderr",
          "text": [
            "\n"
          ]
        },
        {
          "output_type": "stream",
          "name": "stdout",
          "text": [
            "[MoviePy] Writing audio in /content/drive/MyDrive/DeepFakeDetection/data/FakeAVCeleb_v1.2/real_videos_train/id01163/00484.wav\n"
          ]
        },
        {
          "output_type": "stream",
          "name": "stderr",
          "text": [
            "100%|██████████| 107/107 [00:00<00:00, 2386.84it/s]"
          ]
        },
        {
          "output_type": "stream",
          "name": "stdout",
          "text": [
            "[MoviePy] Done.\n",
            "Generating file for id id01163\n"
          ]
        },
        {
          "output_type": "stream",
          "name": "stderr",
          "text": [
            "\n"
          ]
        },
        {
          "output_type": "stream",
          "name": "stdout",
          "text": [
            "[MoviePy] Writing audio in /content/drive/MyDrive/DeepFakeDetection/data/FakeAVCeleb_v1.2/real_videos_train/id01163/00485.wav\n"
          ]
        },
        {
          "output_type": "stream",
          "name": "stderr",
          "text": [
            "100%|██████████| 174/174 [00:00<00:00, 2249.58it/s]"
          ]
        },
        {
          "output_type": "stream",
          "name": "stdout",
          "text": [
            "[MoviePy] Done.\n",
            "Generating file for id id01163\n"
          ]
        },
        {
          "output_type": "stream",
          "name": "stderr",
          "text": [
            "\n"
          ]
        },
        {
          "output_type": "stream",
          "name": "stdout",
          "text": [
            "[MoviePy] Writing audio in /content/drive/MyDrive/DeepFakeDetection/data/FakeAVCeleb_v1.2/real_videos_train/id01163/00486.wav\n"
          ]
        },
        {
          "output_type": "stream",
          "name": "stderr",
          "text": [
            "100%|██████████| 92/92 [00:00<00:00, 2540.41it/s]"
          ]
        },
        {
          "output_type": "stream",
          "name": "stdout",
          "text": [
            "[MoviePy] Done.\n",
            "Generating file for id id01163\n"
          ]
        },
        {
          "output_type": "stream",
          "name": "stderr",
          "text": [
            "\n"
          ]
        },
        {
          "output_type": "stream",
          "name": "stdout",
          "text": [
            "[MoviePy] Writing audio in /content/drive/MyDrive/DeepFakeDetection/data/FakeAVCeleb_v1.2/real_videos_train/id01163/00487.wav\n"
          ]
        },
        {
          "output_type": "stream",
          "name": "stderr",
          "text": [
            "100%|██████████| 165/165 [00:00<00:00, 3271.80it/s]"
          ]
        },
        {
          "output_type": "stream",
          "name": "stdout",
          "text": [
            "[MoviePy] Done.\n",
            "Generating file for id id01163\n"
          ]
        },
        {
          "output_type": "stream",
          "name": "stderr",
          "text": [
            "\n"
          ]
        },
        {
          "output_type": "stream",
          "name": "stdout",
          "text": [
            "[MoviePy] Writing audio in /content/drive/MyDrive/DeepFakeDetection/data/FakeAVCeleb_v1.2/real_videos_train/id01163/00488.wav\n"
          ]
        },
        {
          "output_type": "stream",
          "name": "stderr",
          "text": [
            "100%|██████████| 95/95 [00:00<00:00, 3413.89it/s]"
          ]
        },
        {
          "output_type": "stream",
          "name": "stdout",
          "text": [
            "[MoviePy] Done.\n",
            "Generating file for id id01163\n"
          ]
        },
        {
          "output_type": "stream",
          "name": "stderr",
          "text": [
            "\n"
          ]
        },
        {
          "output_type": "stream",
          "name": "stdout",
          "text": [
            "[MoviePy] Writing audio in /content/drive/MyDrive/DeepFakeDetection/data/FakeAVCeleb_v1.2/real_videos_train/id01163/00489.wav\n"
          ]
        },
        {
          "output_type": "stream",
          "name": "stderr",
          "text": [
            "100%|██████████| 251/251 [00:00<00:00, 3274.77it/s]"
          ]
        },
        {
          "output_type": "stream",
          "name": "stdout",
          "text": [
            "[MoviePy] Done.\n",
            "Generating file for id id01163\n"
          ]
        },
        {
          "output_type": "stream",
          "name": "stderr",
          "text": [
            "\n"
          ]
        },
        {
          "output_type": "stream",
          "name": "stdout",
          "text": [
            "[MoviePy] Writing audio in /content/drive/MyDrive/DeepFakeDetection/data/FakeAVCeleb_v1.2/real_videos_train/id01163/00490.wav\n"
          ]
        },
        {
          "output_type": "stream",
          "name": "stderr",
          "text": [
            "100%|██████████| 164/164 [00:00<00:00, 3065.59it/s]"
          ]
        },
        {
          "output_type": "stream",
          "name": "stdout",
          "text": [
            "[MoviePy] Done.\n",
            "Generating file for id id01163\n"
          ]
        },
        {
          "output_type": "stream",
          "name": "stderr",
          "text": [
            "\n"
          ]
        },
        {
          "output_type": "stream",
          "name": "stdout",
          "text": [
            "[MoviePy] Writing audio in /content/drive/MyDrive/DeepFakeDetection/data/FakeAVCeleb_v1.2/real_videos_train/id01163/00492.wav\n"
          ]
        },
        {
          "output_type": "stream",
          "name": "stderr",
          "text": [
            "100%|██████████| 114/114 [00:00<00:00, 3108.89it/s]"
          ]
        },
        {
          "output_type": "stream",
          "name": "stdout",
          "text": [
            "[MoviePy] Done.\n",
            "Generating file for id id01163\n"
          ]
        },
        {
          "output_type": "stream",
          "name": "stderr",
          "text": [
            "\n"
          ]
        },
        {
          "output_type": "stream",
          "name": "stdout",
          "text": [
            "[MoviePy] Writing audio in /content/drive/MyDrive/DeepFakeDetection/data/FakeAVCeleb_v1.2/real_videos_train/id01163/00491.wav\n"
          ]
        },
        {
          "output_type": "stream",
          "name": "stderr",
          "text": [
            "100%|██████████| 390/390 [00:00<00:00, 3435.84it/s]"
          ]
        },
        {
          "output_type": "stream",
          "name": "stdout",
          "text": [
            "[MoviePy] Done.\n",
            "Generating file for id id01163\n"
          ]
        },
        {
          "output_type": "stream",
          "name": "stderr",
          "text": [
            "\n"
          ]
        },
        {
          "output_type": "stream",
          "name": "stdout",
          "text": [
            "[MoviePy] Writing audio in /content/drive/MyDrive/DeepFakeDetection/data/FakeAVCeleb_v1.2/real_videos_train/id01163/00494.wav\n"
          ]
        },
        {
          "output_type": "stream",
          "name": "stderr",
          "text": [
            "100%|██████████| 109/109 [00:00<00:00, 3341.71it/s]"
          ]
        },
        {
          "output_type": "stream",
          "name": "stdout",
          "text": [
            "[MoviePy] Done.\n",
            "Generating file for id id01163\n"
          ]
        },
        {
          "output_type": "stream",
          "name": "stderr",
          "text": [
            "\n"
          ]
        },
        {
          "output_type": "stream",
          "name": "stdout",
          "text": [
            "[MoviePy] Writing audio in /content/drive/MyDrive/DeepFakeDetection/data/FakeAVCeleb_v1.2/real_videos_train/id01163/00493.wav\n"
          ]
        },
        {
          "output_type": "stream",
          "name": "stderr",
          "text": [
            "100%|██████████| 123/123 [00:00<00:00, 3064.85it/s]"
          ]
        },
        {
          "output_type": "stream",
          "name": "stdout",
          "text": [
            "[MoviePy] Done.\n",
            "Generating file for id id01170\n"
          ]
        },
        {
          "output_type": "stream",
          "name": "stderr",
          "text": [
            "\n"
          ]
        },
        {
          "output_type": "stream",
          "name": "stdout",
          "text": [
            "[MoviePy] Writing audio in /content/drive/MyDrive/DeepFakeDetection/data/FakeAVCeleb_v1.2/real_videos_train/id01170/00001.wav\n"
          ]
        },
        {
          "output_type": "stream",
          "name": "stderr",
          "text": [
            "100%|██████████| 121/121 [00:00<00:00, 3038.20it/s]"
          ]
        },
        {
          "output_type": "stream",
          "name": "stdout",
          "text": [
            "[MoviePy] Done.\n",
            "Generating file for id id01170\n"
          ]
        },
        {
          "output_type": "stream",
          "name": "stderr",
          "text": [
            "\n"
          ]
        },
        {
          "output_type": "stream",
          "name": "stdout",
          "text": [
            "[MoviePy] Writing audio in /content/drive/MyDrive/DeepFakeDetection/data/FakeAVCeleb_v1.2/real_videos_train/id01170/00002.wav\n"
          ]
        },
        {
          "output_type": "stream",
          "name": "stderr",
          "text": [
            "100%|██████████| 95/95 [00:00<00:00, 3104.83it/s]"
          ]
        },
        {
          "output_type": "stream",
          "name": "stdout",
          "text": [
            "[MoviePy] Done.\n",
            "Generating file for id id01170\n"
          ]
        },
        {
          "output_type": "stream",
          "name": "stderr",
          "text": [
            "\n"
          ]
        },
        {
          "output_type": "stream",
          "name": "stdout",
          "text": [
            "[MoviePy] Writing audio in /content/drive/MyDrive/DeepFakeDetection/data/FakeAVCeleb_v1.2/real_videos_train/id01170/00004.wav\n"
          ]
        },
        {
          "output_type": "stream",
          "name": "stderr",
          "text": [
            "100%|██████████| 251/251 [00:00<00:00, 3218.98it/s]"
          ]
        },
        {
          "output_type": "stream",
          "name": "stdout",
          "text": [
            "[MoviePy] Done.\n",
            "Generating file for id id01170\n"
          ]
        },
        {
          "output_type": "stream",
          "name": "stderr",
          "text": [
            "\n"
          ]
        },
        {
          "output_type": "stream",
          "name": "stdout",
          "text": [
            "[MoviePy] Writing audio in /content/drive/MyDrive/DeepFakeDetection/data/FakeAVCeleb_v1.2/real_videos_train/id01170/00003.wav\n"
          ]
        },
        {
          "output_type": "stream",
          "name": "stderr",
          "text": [
            "100%|██████████| 142/142 [00:00<00:00, 2124.98it/s]"
          ]
        },
        {
          "output_type": "stream",
          "name": "stdout",
          "text": [
            "[MoviePy] Done.\n",
            "Generating file for id id01170\n"
          ]
        },
        {
          "output_type": "stream",
          "name": "stderr",
          "text": [
            "\n"
          ]
        },
        {
          "output_type": "stream",
          "name": "stdout",
          "text": [
            "[MoviePy] Writing audio in /content/drive/MyDrive/DeepFakeDetection/data/FakeAVCeleb_v1.2/real_videos_train/id01170/00006.wav\n"
          ]
        },
        {
          "output_type": "stream",
          "name": "stderr",
          "text": [
            "100%|██████████| 159/159 [00:00<00:00, 3116.97it/s]"
          ]
        },
        {
          "output_type": "stream",
          "name": "stdout",
          "text": [
            "[MoviePy] Done.\n",
            "Generating file for id id01170\n"
          ]
        },
        {
          "output_type": "stream",
          "name": "stderr",
          "text": [
            "\n"
          ]
        },
        {
          "output_type": "stream",
          "name": "stdout",
          "text": [
            "[MoviePy] Writing audio in /content/drive/MyDrive/DeepFakeDetection/data/FakeAVCeleb_v1.2/real_videos_train/id01170/00005.wav\n"
          ]
        },
        {
          "output_type": "stream",
          "name": "stderr",
          "text": [
            "100%|██████████| 92/92 [00:00<00:00, 3211.91it/s]"
          ]
        },
        {
          "output_type": "stream",
          "name": "stdout",
          "text": [
            "[MoviePy] Done.\n",
            "Generating file for id id01170\n"
          ]
        },
        {
          "output_type": "stream",
          "name": "stderr",
          "text": [
            "\n"
          ]
        },
        {
          "output_type": "stream",
          "name": "stdout",
          "text": [
            "[MoviePy] Writing audio in /content/drive/MyDrive/DeepFakeDetection/data/FakeAVCeleb_v1.2/real_videos_train/id01170/00007.wav\n"
          ]
        },
        {
          "output_type": "stream",
          "name": "stderr",
          "text": [
            "100%|██████████| 94/94 [00:00<00:00, 3182.68it/s]"
          ]
        },
        {
          "output_type": "stream",
          "name": "stdout",
          "text": [
            "[MoviePy] Done.\n",
            "Generating file for id id01170\n"
          ]
        },
        {
          "output_type": "stream",
          "name": "stderr",
          "text": [
            "\n"
          ]
        },
        {
          "output_type": "stream",
          "name": "stdout",
          "text": [
            "[MoviePy] Writing audio in /content/drive/MyDrive/DeepFakeDetection/data/FakeAVCeleb_v1.2/real_videos_train/id01170/00010.wav\n"
          ]
        },
        {
          "output_type": "stream",
          "name": "stderr",
          "text": [
            "100%|██████████| 107/107 [00:00<00:00, 3136.14it/s]"
          ]
        },
        {
          "output_type": "stream",
          "name": "stdout",
          "text": [
            "[MoviePy] Done.\n",
            "Generating file for id id01170\n"
          ]
        },
        {
          "output_type": "stream",
          "name": "stderr",
          "text": [
            "\n"
          ]
        },
        {
          "output_type": "stream",
          "name": "stdout",
          "text": [
            "[MoviePy] Writing audio in /content/drive/MyDrive/DeepFakeDetection/data/FakeAVCeleb_v1.2/real_videos_train/id01170/00009.wav\n"
          ]
        },
        {
          "output_type": "stream",
          "name": "stderr",
          "text": [
            "100%|██████████| 194/194 [00:00<00:00, 3161.49it/s]"
          ]
        },
        {
          "output_type": "stream",
          "name": "stdout",
          "text": [
            "[MoviePy] Done.\n",
            "Generating file for id id01170\n"
          ]
        },
        {
          "output_type": "stream",
          "name": "stderr",
          "text": [
            "\n"
          ]
        },
        {
          "output_type": "stream",
          "name": "stdout",
          "text": [
            "[MoviePy] Writing audio in /content/drive/MyDrive/DeepFakeDetection/data/FakeAVCeleb_v1.2/real_videos_train/id01170/00024.wav\n"
          ]
        },
        {
          "output_type": "stream",
          "name": "stderr",
          "text": [
            "100%|██████████| 122/122 [00:00<00:00, 2749.85it/s]"
          ]
        },
        {
          "output_type": "stream",
          "name": "stdout",
          "text": [
            "[MoviePy] Done.\n",
            "Generating file for id id01170\n"
          ]
        },
        {
          "output_type": "stream",
          "name": "stderr",
          "text": [
            "\n"
          ]
        },
        {
          "output_type": "stream",
          "name": "stdout",
          "text": [
            "[MoviePy] Writing audio in /content/drive/MyDrive/DeepFakeDetection/data/FakeAVCeleb_v1.2/real_videos_train/id01170/00025.wav\n"
          ]
        },
        {
          "output_type": "stream",
          "name": "stderr",
          "text": [
            "100%|██████████| 123/123 [00:00<00:00, 2869.02it/s]"
          ]
        },
        {
          "output_type": "stream",
          "name": "stdout",
          "text": [
            "[MoviePy] Done.\n",
            "Generating file for id id01170\n"
          ]
        },
        {
          "output_type": "stream",
          "name": "stderr",
          "text": [
            "\n"
          ]
        },
        {
          "output_type": "stream",
          "name": "stdout",
          "text": [
            "[MoviePy] Writing audio in /content/drive/MyDrive/DeepFakeDetection/data/FakeAVCeleb_v1.2/real_videos_train/id01170/00027.wav\n"
          ]
        },
        {
          "output_type": "stream",
          "name": "stderr",
          "text": [
            "100%|██████████| 90/90 [00:00<00:00, 2918.81it/s]"
          ]
        },
        {
          "output_type": "stream",
          "name": "stdout",
          "text": [
            "[MoviePy] Done.\n",
            "Generating file for id id01170\n"
          ]
        },
        {
          "output_type": "stream",
          "name": "stderr",
          "text": [
            "\n"
          ]
        },
        {
          "output_type": "stream",
          "name": "stdout",
          "text": [
            "[MoviePy] Writing audio in /content/drive/MyDrive/DeepFakeDetection/data/FakeAVCeleb_v1.2/real_videos_train/id01170/00026.wav\n"
          ]
        },
        {
          "output_type": "stream",
          "name": "stderr",
          "text": [
            "100%|██████████| 109/109 [00:00<00:00, 2837.70it/s]"
          ]
        },
        {
          "output_type": "stream",
          "name": "stdout",
          "text": [
            "[MoviePy] Done.\n",
            "Generating file for id id01170\n"
          ]
        },
        {
          "output_type": "stream",
          "name": "stderr",
          "text": [
            "\n"
          ]
        },
        {
          "output_type": "stream",
          "name": "stdout",
          "text": [
            "[MoviePy] Writing audio in /content/drive/MyDrive/DeepFakeDetection/data/FakeAVCeleb_v1.2/real_videos_train/id01170/00029.wav\n"
          ]
        },
        {
          "output_type": "stream",
          "name": "stderr",
          "text": [
            "100%|██████████| 127/127 [00:00<00:00, 2808.57it/s]"
          ]
        },
        {
          "output_type": "stream",
          "name": "stdout",
          "text": [
            "[MoviePy] Done.\n",
            "Generating file for id id01170\n"
          ]
        },
        {
          "output_type": "stream",
          "name": "stderr",
          "text": [
            "\n"
          ]
        },
        {
          "output_type": "stream",
          "name": "stdout",
          "text": [
            "[MoviePy] Writing audio in /content/drive/MyDrive/DeepFakeDetection/data/FakeAVCeleb_v1.2/real_videos_train/id01170/00028.wav\n"
          ]
        },
        {
          "output_type": "stream",
          "name": "stderr",
          "text": [
            "100%|██████████| 120/120 [00:00<00:00, 2727.00it/s]"
          ]
        },
        {
          "output_type": "stream",
          "name": "stdout",
          "text": [
            "[MoviePy] Done.\n",
            "Generating file for id id01170\n"
          ]
        },
        {
          "output_type": "stream",
          "name": "stderr",
          "text": [
            "\n"
          ]
        },
        {
          "output_type": "stream",
          "name": "stdout",
          "text": [
            "[MoviePy] Writing audio in /content/drive/MyDrive/DeepFakeDetection/data/FakeAVCeleb_v1.2/real_videos_train/id01170/00031.wav\n"
          ]
        },
        {
          "output_type": "stream",
          "name": "stderr",
          "text": [
            "100%|██████████| 115/115 [00:00<00:00, 2746.95it/s]"
          ]
        },
        {
          "output_type": "stream",
          "name": "stdout",
          "text": [
            "[MoviePy] Done.\n",
            "Generating file for id id01170\n"
          ]
        },
        {
          "output_type": "stream",
          "name": "stderr",
          "text": [
            "\n"
          ]
        },
        {
          "output_type": "stream",
          "name": "stdout",
          "text": [
            "[MoviePy] Writing audio in /content/drive/MyDrive/DeepFakeDetection/data/FakeAVCeleb_v1.2/real_videos_train/id01170/00030.wav\n"
          ]
        },
        {
          "output_type": "stream",
          "name": "stderr",
          "text": [
            "100%|██████████| 113/113 [00:00<00:00, 2838.79it/s]"
          ]
        },
        {
          "output_type": "stream",
          "name": "stdout",
          "text": [
            "[MoviePy] Done.\n",
            "Generating file for id id01170\n"
          ]
        },
        {
          "output_type": "stream",
          "name": "stderr",
          "text": [
            "\n"
          ]
        },
        {
          "output_type": "stream",
          "name": "stdout",
          "text": [
            "[MoviePy] Writing audio in /content/drive/MyDrive/DeepFakeDetection/data/FakeAVCeleb_v1.2/real_videos_train/id01170/00033.wav\n"
          ]
        },
        {
          "output_type": "stream",
          "name": "stderr",
          "text": [
            "100%|██████████| 124/124 [00:00<00:00, 3084.23it/s]"
          ]
        },
        {
          "output_type": "stream",
          "name": "stdout",
          "text": [
            "[MoviePy] Done.\n",
            "Generating file for id id01170\n"
          ]
        },
        {
          "output_type": "stream",
          "name": "stderr",
          "text": [
            "\n"
          ]
        },
        {
          "output_type": "stream",
          "name": "stdout",
          "text": [
            "[MoviePy] Writing audio in /content/drive/MyDrive/DeepFakeDetection/data/FakeAVCeleb_v1.2/real_videos_train/id01170/00032.wav\n"
          ]
        },
        {
          "output_type": "stream",
          "name": "stderr",
          "text": [
            "100%|██████████| 201/201 [00:00<00:00, 3031.70it/s]"
          ]
        },
        {
          "output_type": "stream",
          "name": "stdout",
          "text": [
            "[MoviePy] Done.\n",
            "Generating file for id id01170\n"
          ]
        },
        {
          "output_type": "stream",
          "name": "stderr",
          "text": [
            "\n"
          ]
        },
        {
          "output_type": "stream",
          "name": "stdout",
          "text": [
            "[MoviePy] Writing audio in /content/drive/MyDrive/DeepFakeDetection/data/FakeAVCeleb_v1.2/real_videos_train/id01170/00040.wav\n"
          ]
        },
        {
          "output_type": "stream",
          "name": "stderr",
          "text": [
            "100%|██████████| 117/117 [00:00<00:00, 2937.80it/s]"
          ]
        },
        {
          "output_type": "stream",
          "name": "stdout",
          "text": [
            "[MoviePy] Done.\n",
            "Generating file for id id01170\n"
          ]
        },
        {
          "output_type": "stream",
          "name": "stderr",
          "text": [
            "\n"
          ]
        },
        {
          "output_type": "stream",
          "name": "stdout",
          "text": [
            "[MoviePy] Writing audio in /content/drive/MyDrive/DeepFakeDetection/data/FakeAVCeleb_v1.2/real_videos_train/id01170/00041.wav\n"
          ]
        },
        {
          "output_type": "stream",
          "name": "stderr",
          "text": [
            "100%|██████████| 96/96 [00:00<00:00, 2356.39it/s]"
          ]
        },
        {
          "output_type": "stream",
          "name": "stdout",
          "text": [
            "[MoviePy] Done.\n",
            "Generating file for id id01170\n"
          ]
        },
        {
          "output_type": "stream",
          "name": "stderr",
          "text": [
            "\n"
          ]
        },
        {
          "output_type": "stream",
          "name": "stdout",
          "text": [
            "[MoviePy] Writing audio in /content/drive/MyDrive/DeepFakeDetection/data/FakeAVCeleb_v1.2/real_videos_train/id01170/00042.wav\n"
          ]
        },
        {
          "output_type": "stream",
          "name": "stderr",
          "text": [
            "100%|██████████| 162/162 [00:00<00:00, 3028.24it/s]"
          ]
        },
        {
          "output_type": "stream",
          "name": "stdout",
          "text": [
            "[MoviePy] Done.\n",
            "Generating file for id id01170\n"
          ]
        },
        {
          "output_type": "stream",
          "name": "stderr",
          "text": [
            "\n"
          ]
        },
        {
          "output_type": "stream",
          "name": "stdout",
          "text": [
            "[MoviePy] Writing audio in /content/drive/MyDrive/DeepFakeDetection/data/FakeAVCeleb_v1.2/real_videos_train/id01170/00043.wav\n"
          ]
        },
        {
          "output_type": "stream",
          "name": "stderr",
          "text": [
            "100%|██████████| 115/115 [00:00<00:00, 3153.80it/s]"
          ]
        },
        {
          "output_type": "stream",
          "name": "stdout",
          "text": [
            "[MoviePy] Done.\n",
            "Generating file for id id01170\n"
          ]
        },
        {
          "output_type": "stream",
          "name": "stderr",
          "text": [
            "\n"
          ]
        },
        {
          "output_type": "stream",
          "name": "stdout",
          "text": [
            "[MoviePy] Writing audio in /content/drive/MyDrive/DeepFakeDetection/data/FakeAVCeleb_v1.2/real_videos_train/id01170/00044.wav\n"
          ]
        },
        {
          "output_type": "stream",
          "name": "stderr",
          "text": [
            "100%|██████████| 148/148 [00:00<00:00, 3113.16it/s]"
          ]
        },
        {
          "output_type": "stream",
          "name": "stdout",
          "text": [
            "[MoviePy] Done.\n",
            "Generating file for id id01170\n"
          ]
        },
        {
          "output_type": "stream",
          "name": "stderr",
          "text": [
            "\n"
          ]
        },
        {
          "output_type": "stream",
          "name": "stdout",
          "text": [
            "[MoviePy] Writing audio in /content/drive/MyDrive/DeepFakeDetection/data/FakeAVCeleb_v1.2/real_videos_train/id01170/00045.wav\n"
          ]
        },
        {
          "output_type": "stream",
          "name": "stderr",
          "text": [
            "100%|██████████| 106/106 [00:00<00:00, 3055.04it/s]"
          ]
        },
        {
          "output_type": "stream",
          "name": "stdout",
          "text": [
            "[MoviePy] Done.\n",
            "Generating file for id id01170\n"
          ]
        },
        {
          "output_type": "stream",
          "name": "stderr",
          "text": [
            "\n"
          ]
        },
        {
          "output_type": "stream",
          "name": "stdout",
          "text": [
            "[MoviePy] Writing audio in /content/drive/MyDrive/DeepFakeDetection/data/FakeAVCeleb_v1.2/real_videos_train/id01170/00046.wav\n"
          ]
        },
        {
          "output_type": "stream",
          "name": "stderr",
          "text": [
            "100%|██████████| 130/130 [00:00<00:00, 3144.19it/s]"
          ]
        },
        {
          "output_type": "stream",
          "name": "stdout",
          "text": [
            "[MoviePy] Done.\n",
            "Generating file for id id01170\n"
          ]
        },
        {
          "output_type": "stream",
          "name": "stderr",
          "text": [
            "\n"
          ]
        },
        {
          "output_type": "stream",
          "name": "stdout",
          "text": [
            "[MoviePy] Writing audio in /content/drive/MyDrive/DeepFakeDetection/data/FakeAVCeleb_v1.2/real_videos_train/id01170/00047.wav\n"
          ]
        },
        {
          "output_type": "stream",
          "name": "stderr",
          "text": [
            "100%|██████████| 92/92 [00:00<00:00, 3169.88it/s]"
          ]
        },
        {
          "output_type": "stream",
          "name": "stdout",
          "text": [
            "[MoviePy] Done.\n",
            "Generating file for id id01170\n"
          ]
        },
        {
          "output_type": "stream",
          "name": "stderr",
          "text": [
            "\n"
          ]
        },
        {
          "output_type": "stream",
          "name": "stdout",
          "text": [
            "[MoviePy] Writing audio in /content/drive/MyDrive/DeepFakeDetection/data/FakeAVCeleb_v1.2/real_videos_train/id01170/00049.wav\n"
          ]
        },
        {
          "output_type": "stream",
          "name": "stderr",
          "text": [
            "100%|██████████| 93/93 [00:00<00:00, 3248.01it/s]"
          ]
        },
        {
          "output_type": "stream",
          "name": "stdout",
          "text": [
            "[MoviePy] Done.\n",
            "Generating file for id id01170\n"
          ]
        },
        {
          "output_type": "stream",
          "name": "stderr",
          "text": [
            "\n"
          ]
        },
        {
          "output_type": "stream",
          "name": "stdout",
          "text": [
            "[MoviePy] Writing audio in /content/drive/MyDrive/DeepFakeDetection/data/FakeAVCeleb_v1.2/real_videos_train/id01170/00051.wav\n"
          ]
        },
        {
          "output_type": "stream",
          "name": "stderr",
          "text": [
            "100%|██████████| 100/100 [00:00<00:00, 3304.74it/s]"
          ]
        },
        {
          "output_type": "stream",
          "name": "stdout",
          "text": [
            "[MoviePy] Done.\n",
            "Generating file for id id01170\n"
          ]
        },
        {
          "output_type": "stream",
          "name": "stderr",
          "text": [
            "\n"
          ]
        },
        {
          "output_type": "stream",
          "name": "stdout",
          "text": [
            "[MoviePy] Writing audio in /content/drive/MyDrive/DeepFakeDetection/data/FakeAVCeleb_v1.2/real_videos_train/id01170/00050.wav\n"
          ]
        },
        {
          "output_type": "stream",
          "name": "stderr",
          "text": [
            "100%|██████████| 223/223 [00:00<00:00, 3083.85it/s]"
          ]
        },
        {
          "output_type": "stream",
          "name": "stdout",
          "text": [
            "[MoviePy] Done.\n",
            "Generating file for id id01170\n"
          ]
        },
        {
          "output_type": "stream",
          "name": "stderr",
          "text": [
            "\n"
          ]
        },
        {
          "output_type": "stream",
          "name": "stdout",
          "text": [
            "[MoviePy] Writing audio in /content/drive/MyDrive/DeepFakeDetection/data/FakeAVCeleb_v1.2/real_videos_train/id01170/00055.wav\n"
          ]
        },
        {
          "output_type": "stream",
          "name": "stderr",
          "text": [
            "100%|██████████| 150/150 [00:00<00:00, 3077.79it/s]"
          ]
        },
        {
          "output_type": "stream",
          "name": "stdout",
          "text": [
            "[MoviePy] Done.\n",
            "Generating file for id id01170\n"
          ]
        },
        {
          "output_type": "stream",
          "name": "stderr",
          "text": [
            "\n"
          ]
        },
        {
          "output_type": "stream",
          "name": "stdout",
          "text": [
            "[MoviePy] Writing audio in /content/drive/MyDrive/DeepFakeDetection/data/FakeAVCeleb_v1.2/real_videos_train/id01170/00056.wav\n"
          ]
        },
        {
          "output_type": "stream",
          "name": "stderr",
          "text": [
            "100%|██████████| 109/109 [00:00<00:00, 2693.15it/s]"
          ]
        },
        {
          "output_type": "stream",
          "name": "stdout",
          "text": [
            "[MoviePy] Done.\n",
            "Generating file for id id01170\n"
          ]
        },
        {
          "output_type": "stream",
          "name": "stderr",
          "text": [
            "\n"
          ]
        },
        {
          "output_type": "stream",
          "name": "stdout",
          "text": [
            "[MoviePy] Writing audio in /content/drive/MyDrive/DeepFakeDetection/data/FakeAVCeleb_v1.2/real_videos_train/id01170/00061.wav\n"
          ]
        },
        {
          "output_type": "stream",
          "name": "stderr",
          "text": [
            "100%|██████████| 146/146 [00:00<00:00, 2888.64it/s]"
          ]
        },
        {
          "output_type": "stream",
          "name": "stdout",
          "text": [
            "[MoviePy] Done.\n",
            "Generating file for id id01170\n"
          ]
        },
        {
          "output_type": "stream",
          "name": "stderr",
          "text": [
            "\n"
          ]
        },
        {
          "output_type": "stream",
          "name": "stdout",
          "text": [
            "[MoviePy] Writing audio in /content/drive/MyDrive/DeepFakeDetection/data/FakeAVCeleb_v1.2/real_videos_train/id01170/00060.wav\n"
          ]
        },
        {
          "output_type": "stream",
          "name": "stderr",
          "text": [
            "100%|██████████| 93/93 [00:00<00:00, 3046.52it/s]"
          ]
        },
        {
          "output_type": "stream",
          "name": "stdout",
          "text": [
            "[MoviePy] Done.\n",
            "Generating file for id id01170\n"
          ]
        },
        {
          "output_type": "stream",
          "name": "stderr",
          "text": [
            "\n"
          ]
        },
        {
          "output_type": "stream",
          "name": "stdout",
          "text": [
            "[MoviePy] Writing audio in /content/drive/MyDrive/DeepFakeDetection/data/FakeAVCeleb_v1.2/real_videos_train/id01170/00063.wav\n"
          ]
        },
        {
          "output_type": "stream",
          "name": "stderr",
          "text": [
            "100%|██████████| 170/170 [00:00<00:00, 3184.24it/s]"
          ]
        },
        {
          "output_type": "stream",
          "name": "stdout",
          "text": [
            "[MoviePy] Done.\n",
            "Generating file for id id01170\n"
          ]
        },
        {
          "output_type": "stream",
          "name": "stderr",
          "text": [
            "\n"
          ]
        },
        {
          "output_type": "stream",
          "name": "stdout",
          "text": [
            "[MoviePy] Writing audio in /content/drive/MyDrive/DeepFakeDetection/data/FakeAVCeleb_v1.2/real_videos_train/id01170/00062.wav\n"
          ]
        },
        {
          "output_type": "stream",
          "name": "stderr",
          "text": [
            "100%|██████████| 101/101 [00:00<00:00, 3235.31it/s]"
          ]
        },
        {
          "output_type": "stream",
          "name": "stdout",
          "text": [
            "[MoviePy] Done.\n",
            "Generating file for id id01170\n"
          ]
        },
        {
          "output_type": "stream",
          "name": "stderr",
          "text": [
            "\n"
          ]
        },
        {
          "output_type": "stream",
          "name": "stdout",
          "text": [
            "[MoviePy] Writing audio in /content/drive/MyDrive/DeepFakeDetection/data/FakeAVCeleb_v1.2/real_videos_train/id01170/00065.wav\n"
          ]
        },
        {
          "output_type": "stream",
          "name": "stderr",
          "text": [
            "100%|██████████| 228/228 [00:00<00:00, 3235.50it/s]"
          ]
        },
        {
          "output_type": "stream",
          "name": "stdout",
          "text": [
            "[MoviePy] Done.\n",
            "Generating file for id id01170\n"
          ]
        },
        {
          "output_type": "stream",
          "name": "stderr",
          "text": [
            "\n"
          ]
        },
        {
          "output_type": "stream",
          "name": "stdout",
          "text": [
            "[MoviePy] Writing audio in /content/drive/MyDrive/DeepFakeDetection/data/FakeAVCeleb_v1.2/real_videos_train/id01170/00067.wav\n"
          ]
        },
        {
          "output_type": "stream",
          "name": "stderr",
          "text": [
            "100%|██████████| 188/188 [00:00<00:00, 3092.13it/s]"
          ]
        },
        {
          "output_type": "stream",
          "name": "stdout",
          "text": [
            "[MoviePy] Done.\n",
            "Generating file for id id01170\n"
          ]
        },
        {
          "output_type": "stream",
          "name": "stderr",
          "text": [
            "\n"
          ]
        },
        {
          "output_type": "stream",
          "name": "stdout",
          "text": [
            "[MoviePy] Writing audio in /content/drive/MyDrive/DeepFakeDetection/data/FakeAVCeleb_v1.2/real_videos_train/id01170/00066.wav\n"
          ]
        },
        {
          "output_type": "stream",
          "name": "stderr",
          "text": [
            "100%|██████████| 102/102 [00:00<00:00, 3369.53it/s]"
          ]
        },
        {
          "output_type": "stream",
          "name": "stdout",
          "text": [
            "[MoviePy] Done.\n",
            "Generating file for id id01170\n"
          ]
        },
        {
          "output_type": "stream",
          "name": "stderr",
          "text": [
            "\n"
          ]
        },
        {
          "output_type": "stream",
          "name": "stdout",
          "text": [
            "[MoviePy] Writing audio in /content/drive/MyDrive/DeepFakeDetection/data/FakeAVCeleb_v1.2/real_videos_train/id01170/00069.wav\n"
          ]
        },
        {
          "output_type": "stream",
          "name": "stderr",
          "text": [
            "100%|██████████| 94/94 [00:00<00:00, 3353.27it/s]"
          ]
        },
        {
          "output_type": "stream",
          "name": "stdout",
          "text": [
            "[MoviePy] Done.\n",
            "Generating file for id id01170\n"
          ]
        },
        {
          "output_type": "stream",
          "name": "stderr",
          "text": [
            "\n"
          ]
        },
        {
          "output_type": "stream",
          "name": "stdout",
          "text": [
            "[MoviePy] Writing audio in /content/drive/MyDrive/DeepFakeDetection/data/FakeAVCeleb_v1.2/real_videos_train/id01170/00074.wav\n"
          ]
        },
        {
          "output_type": "stream",
          "name": "stderr",
          "text": [
            "100%|██████████| 147/147 [00:00<00:00, 2998.50it/s]"
          ]
        },
        {
          "output_type": "stream",
          "name": "stdout",
          "text": [
            "[MoviePy] Done.\n",
            "Generating file for id id01170\n"
          ]
        },
        {
          "output_type": "stream",
          "name": "stderr",
          "text": [
            "\n"
          ]
        },
        {
          "output_type": "stream",
          "name": "stdout",
          "text": [
            "[MoviePy] Writing audio in /content/drive/MyDrive/DeepFakeDetection/data/FakeAVCeleb_v1.2/real_videos_train/id01170/00078.wav\n"
          ]
        },
        {
          "output_type": "stream",
          "name": "stderr",
          "text": [
            "100%|██████████| 100/100 [00:00<00:00, 3404.63it/s]"
          ]
        },
        {
          "output_type": "stream",
          "name": "stdout",
          "text": [
            "[MoviePy] Done.\n",
            "Generating file for id id01170\n"
          ]
        },
        {
          "output_type": "stream",
          "name": "stderr",
          "text": [
            "\n"
          ]
        },
        {
          "output_type": "stream",
          "name": "stdout",
          "text": [
            "[MoviePy] Writing audio in /content/drive/MyDrive/DeepFakeDetection/data/FakeAVCeleb_v1.2/real_videos_train/id01170/00086.wav\n"
          ]
        },
        {
          "output_type": "stream",
          "name": "stderr",
          "text": [
            "100%|██████████| 150/150 [00:00<00:00, 2913.02it/s]"
          ]
        },
        {
          "output_type": "stream",
          "name": "stdout",
          "text": [
            "[MoviePy] Done.\n",
            "Generating file for id id01170\n"
          ]
        },
        {
          "output_type": "stream",
          "name": "stderr",
          "text": [
            "\n"
          ]
        },
        {
          "output_type": "stream",
          "name": "stdout",
          "text": [
            "[MoviePy] Writing audio in /content/drive/MyDrive/DeepFakeDetection/data/FakeAVCeleb_v1.2/real_videos_train/id01170/00088.wav\n"
          ]
        },
        {
          "output_type": "stream",
          "name": "stderr",
          "text": [
            "100%|██████████| 123/123 [00:00<00:00, 2978.44it/s]"
          ]
        },
        {
          "output_type": "stream",
          "name": "stdout",
          "text": [
            "[MoviePy] Done.\n",
            "Generating file for id id01170\n"
          ]
        },
        {
          "output_type": "stream",
          "name": "stderr",
          "text": [
            "\n"
          ]
        },
        {
          "output_type": "stream",
          "name": "stdout",
          "text": [
            "[MoviePy] Writing audio in /content/drive/MyDrive/DeepFakeDetection/data/FakeAVCeleb_v1.2/real_videos_train/id01170/00089.wav\n"
          ]
        },
        {
          "output_type": "stream",
          "name": "stderr",
          "text": [
            "100%|██████████| 176/176 [00:00<00:00, 3224.82it/s]"
          ]
        },
        {
          "output_type": "stream",
          "name": "stdout",
          "text": [
            "[MoviePy] Done.\n",
            "Generating file for id id01170\n"
          ]
        },
        {
          "output_type": "stream",
          "name": "stderr",
          "text": [
            "\n"
          ]
        },
        {
          "output_type": "stream",
          "name": "stdout",
          "text": [
            "[MoviePy] Writing audio in /content/drive/MyDrive/DeepFakeDetection/data/FakeAVCeleb_v1.2/real_videos_train/id01170/00090.wav\n"
          ]
        },
        {
          "output_type": "stream",
          "name": "stderr",
          "text": [
            "100%|██████████| 181/181 [00:00<00:00, 3202.60it/s]"
          ]
        },
        {
          "output_type": "stream",
          "name": "stdout",
          "text": [
            "[MoviePy] Done.\n",
            "Generating file for id id01170\n"
          ]
        },
        {
          "output_type": "stream",
          "name": "stderr",
          "text": [
            "\n"
          ]
        },
        {
          "output_type": "stream",
          "name": "stdout",
          "text": [
            "[MoviePy] Writing audio in /content/drive/MyDrive/DeepFakeDetection/data/FakeAVCeleb_v1.2/real_videos_train/id01170/00091.wav\n"
          ]
        },
        {
          "output_type": "stream",
          "name": "stderr",
          "text": [
            "100%|██████████| 178/178 [00:00<00:00, 3387.83it/s]"
          ]
        },
        {
          "output_type": "stream",
          "name": "stdout",
          "text": [
            "[MoviePy] Done.\n",
            "Generating file for id id01170\n"
          ]
        },
        {
          "output_type": "stream",
          "name": "stderr",
          "text": [
            "\n"
          ]
        },
        {
          "output_type": "stream",
          "name": "stdout",
          "text": [
            "[MoviePy] Writing audio in /content/drive/MyDrive/DeepFakeDetection/data/FakeAVCeleb_v1.2/real_videos_train/id01170/00092.wav\n"
          ]
        },
        {
          "output_type": "stream",
          "name": "stderr",
          "text": [
            "100%|██████████| 199/199 [00:00<00:00, 2464.24it/s]"
          ]
        },
        {
          "output_type": "stream",
          "name": "stdout",
          "text": [
            "[MoviePy] Done.\n",
            "Generating file for id id01170\n"
          ]
        },
        {
          "output_type": "stream",
          "name": "stderr",
          "text": [
            "\n"
          ]
        },
        {
          "output_type": "stream",
          "name": "stdout",
          "text": [
            "[MoviePy] Writing audio in /content/drive/MyDrive/DeepFakeDetection/data/FakeAVCeleb_v1.2/real_videos_train/id01170/00094.wav\n"
          ]
        },
        {
          "output_type": "stream",
          "name": "stderr",
          "text": [
            "100%|██████████| 132/132 [00:00<00:00, 3123.63it/s]"
          ]
        },
        {
          "output_type": "stream",
          "name": "stdout",
          "text": [
            "[MoviePy] Done.\n",
            "Generating file for id id01170\n"
          ]
        },
        {
          "output_type": "stream",
          "name": "stderr",
          "text": [
            "\n"
          ]
        },
        {
          "output_type": "stream",
          "name": "stdout",
          "text": [
            "[MoviePy] Writing audio in /content/drive/MyDrive/DeepFakeDetection/data/FakeAVCeleb_v1.2/real_videos_train/id01170/00096.wav\n"
          ]
        },
        {
          "output_type": "stream",
          "name": "stderr",
          "text": [
            "100%|██████████| 101/101 [00:00<00:00, 3260.01it/s]"
          ]
        },
        {
          "output_type": "stream",
          "name": "stdout",
          "text": [
            "[MoviePy] Done.\n",
            "Generating file for id id01170\n"
          ]
        },
        {
          "output_type": "stream",
          "name": "stderr",
          "text": [
            "\n"
          ]
        },
        {
          "output_type": "stream",
          "name": "stdout",
          "text": [
            "[MoviePy] Writing audio in /content/drive/MyDrive/DeepFakeDetection/data/FakeAVCeleb_v1.2/real_videos_train/id01170/00097.wav\n"
          ]
        },
        {
          "output_type": "stream",
          "name": "stderr",
          "text": [
            "100%|██████████| 284/284 [00:00<00:00, 3308.60it/s]"
          ]
        },
        {
          "output_type": "stream",
          "name": "stdout",
          "text": [
            "[MoviePy] Done.\n",
            "Generating file for id id01170\n"
          ]
        },
        {
          "output_type": "stream",
          "name": "stderr",
          "text": [
            "\n"
          ]
        },
        {
          "output_type": "stream",
          "name": "stdout",
          "text": [
            "[MoviePy] Writing audio in /content/drive/MyDrive/DeepFakeDetection/data/FakeAVCeleb_v1.2/real_videos_train/id01170/00099.wav\n"
          ]
        },
        {
          "output_type": "stream",
          "name": "stderr",
          "text": [
            "100%|██████████| 104/104 [00:00<00:00, 3195.17it/s]"
          ]
        },
        {
          "output_type": "stream",
          "name": "stdout",
          "text": [
            "[MoviePy] Done.\n",
            "Generating file for id id01170\n"
          ]
        },
        {
          "output_type": "stream",
          "name": "stderr",
          "text": [
            "\n"
          ]
        },
        {
          "output_type": "stream",
          "name": "stdout",
          "text": [
            "[MoviePy] Writing audio in /content/drive/MyDrive/DeepFakeDetection/data/FakeAVCeleb_v1.2/real_videos_train/id01170/00098.wav\n"
          ]
        },
        {
          "output_type": "stream",
          "name": "stderr",
          "text": [
            "100%|██████████| 139/139 [00:00<00:00, 3154.38it/s]"
          ]
        },
        {
          "output_type": "stream",
          "name": "stdout",
          "text": [
            "[MoviePy] Done.\n",
            "Generating file for id id01170\n"
          ]
        },
        {
          "output_type": "stream",
          "name": "stderr",
          "text": [
            "\n"
          ]
        },
        {
          "output_type": "stream",
          "name": "stdout",
          "text": [
            "[MoviePy] Writing audio in /content/drive/MyDrive/DeepFakeDetection/data/FakeAVCeleb_v1.2/real_videos_train/id01170/00100.wav\n"
          ]
        },
        {
          "output_type": "stream",
          "name": "stderr",
          "text": [
            "100%|██████████| 89/89 [00:00<00:00, 3122.80it/s]"
          ]
        },
        {
          "output_type": "stream",
          "name": "stdout",
          "text": [
            "[MoviePy] Done.\n",
            "Generating file for id id01170\n"
          ]
        },
        {
          "output_type": "stream",
          "name": "stderr",
          "text": [
            "\n"
          ]
        },
        {
          "output_type": "stream",
          "name": "stdout",
          "text": [
            "[MoviePy] Writing audio in /content/drive/MyDrive/DeepFakeDetection/data/FakeAVCeleb_v1.2/real_videos_train/id01170/00101.wav\n"
          ]
        },
        {
          "output_type": "stream",
          "name": "stderr",
          "text": [
            "100%|██████████| 131/131 [00:00<00:00, 3078.35it/s]"
          ]
        },
        {
          "output_type": "stream",
          "name": "stdout",
          "text": [
            "[MoviePy] Done.\n",
            "Generating file for id id01170\n"
          ]
        },
        {
          "output_type": "stream",
          "name": "stderr",
          "text": [
            "\n"
          ]
        },
        {
          "output_type": "stream",
          "name": "stdout",
          "text": [
            "[MoviePy] Writing audio in /content/drive/MyDrive/DeepFakeDetection/data/FakeAVCeleb_v1.2/real_videos_train/id01170/00102.wav\n"
          ]
        },
        {
          "output_type": "stream",
          "name": "stderr",
          "text": [
            "100%|██████████| 94/94 [00:00<00:00, 3462.77it/s]"
          ]
        },
        {
          "output_type": "stream",
          "name": "stdout",
          "text": [
            "[MoviePy] Done.\n",
            "Generating file for id id01170\n"
          ]
        },
        {
          "output_type": "stream",
          "name": "stderr",
          "text": [
            "\n"
          ]
        },
        {
          "output_type": "stream",
          "name": "stdout",
          "text": [
            "[MoviePy] Writing audio in /content/drive/MyDrive/DeepFakeDetection/data/FakeAVCeleb_v1.2/real_videos_train/id01170/00103.wav\n"
          ]
        },
        {
          "output_type": "stream",
          "name": "stderr",
          "text": [
            "100%|██████████| 141/141 [00:00<00:00, 3107.87it/s]"
          ]
        },
        {
          "output_type": "stream",
          "name": "stdout",
          "text": [
            "[MoviePy] Done.\n",
            "Generating file for id id01170\n"
          ]
        },
        {
          "output_type": "stream",
          "name": "stderr",
          "text": [
            "\n"
          ]
        },
        {
          "output_type": "stream",
          "name": "stdout",
          "text": [
            "[MoviePy] Writing audio in /content/drive/MyDrive/DeepFakeDetection/data/FakeAVCeleb_v1.2/real_videos_train/id01170/00104.wav\n"
          ]
        },
        {
          "output_type": "stream",
          "name": "stderr",
          "text": [
            "100%|██████████| 97/97 [00:00<00:00, 3214.91it/s]"
          ]
        },
        {
          "output_type": "stream",
          "name": "stdout",
          "text": [
            "[MoviePy] Done.\n",
            "Generating file for id id01170\n"
          ]
        },
        {
          "output_type": "stream",
          "name": "stderr",
          "text": [
            "\n"
          ]
        },
        {
          "output_type": "stream",
          "name": "stdout",
          "text": [
            "[MoviePy] Writing audio in /content/drive/MyDrive/DeepFakeDetection/data/FakeAVCeleb_v1.2/real_videos_train/id01170/00106.wav\n"
          ]
        },
        {
          "output_type": "stream",
          "name": "stderr",
          "text": [
            "100%|██████████| 202/202 [00:00<00:00, 3238.46it/s]"
          ]
        },
        {
          "output_type": "stream",
          "name": "stdout",
          "text": [
            "[MoviePy] Done.\n",
            "Generating file for id id01170\n"
          ]
        },
        {
          "output_type": "stream",
          "name": "stderr",
          "text": [
            "\n"
          ]
        },
        {
          "output_type": "stream",
          "name": "stdout",
          "text": [
            "[MoviePy] Writing audio in /content/drive/MyDrive/DeepFakeDetection/data/FakeAVCeleb_v1.2/real_videos_train/id01170/00107.wav\n"
          ]
        },
        {
          "output_type": "stream",
          "name": "stderr",
          "text": [
            "100%|██████████| 93/93 [00:00<00:00, 3225.37it/s]"
          ]
        },
        {
          "output_type": "stream",
          "name": "stdout",
          "text": [
            "[MoviePy] Done.\n",
            "Generating file for id id01170\n"
          ]
        },
        {
          "output_type": "stream",
          "name": "stderr",
          "text": [
            "\n"
          ]
        },
        {
          "output_type": "stream",
          "name": "stdout",
          "text": [
            "[MoviePy] Writing audio in /content/drive/MyDrive/DeepFakeDetection/data/FakeAVCeleb_v1.2/real_videos_train/id01170/00110.wav\n"
          ]
        },
        {
          "output_type": "stream",
          "name": "stderr",
          "text": [
            "100%|██████████| 100/100 [00:00<00:00, 3332.59it/s]"
          ]
        },
        {
          "output_type": "stream",
          "name": "stdout",
          "text": [
            "[MoviePy] Done.\n",
            "Generating file for id id01170\n"
          ]
        },
        {
          "output_type": "stream",
          "name": "stderr",
          "text": [
            "\n"
          ]
        },
        {
          "output_type": "stream",
          "name": "stdout",
          "text": [
            "[MoviePy] Writing audio in /content/drive/MyDrive/DeepFakeDetection/data/FakeAVCeleb_v1.2/real_videos_train/id01170/00109.wav\n"
          ]
        },
        {
          "output_type": "stream",
          "name": "stderr",
          "text": [
            "100%|██████████| 127/127 [00:00<00:00, 3057.65it/s]"
          ]
        },
        {
          "output_type": "stream",
          "name": "stdout",
          "text": [
            "[MoviePy] Done.\n",
            "Generating file for id id01170\n"
          ]
        },
        {
          "output_type": "stream",
          "name": "stderr",
          "text": [
            "\n"
          ]
        },
        {
          "output_type": "stream",
          "name": "stdout",
          "text": [
            "[MoviePy] Writing audio in /content/drive/MyDrive/DeepFakeDetection/data/FakeAVCeleb_v1.2/real_videos_train/id01170/00111.wav\n"
          ]
        },
        {
          "output_type": "stream",
          "name": "stderr",
          "text": [
            "100%|██████████| 89/89 [00:00<00:00, 3263.02it/s]"
          ]
        },
        {
          "output_type": "stream",
          "name": "stdout",
          "text": [
            "[MoviePy] Done.\n",
            "Generating file for id id01170\n"
          ]
        },
        {
          "output_type": "stream",
          "name": "stderr",
          "text": [
            "\n"
          ]
        },
        {
          "output_type": "stream",
          "name": "stdout",
          "text": [
            "[MoviePy] Writing audio in /content/drive/MyDrive/DeepFakeDetection/data/FakeAVCeleb_v1.2/real_videos_train/id01170/00112.wav\n"
          ]
        },
        {
          "output_type": "stream",
          "name": "stderr",
          "text": [
            "100%|██████████| 151/151 [00:00<00:00, 3081.99it/s]"
          ]
        },
        {
          "output_type": "stream",
          "name": "stdout",
          "text": [
            "[MoviePy] Done.\n",
            "Generating file for id id01170\n"
          ]
        },
        {
          "output_type": "stream",
          "name": "stderr",
          "text": [
            "\n"
          ]
        },
        {
          "output_type": "stream",
          "name": "stdout",
          "text": [
            "[MoviePy] Writing audio in /content/drive/MyDrive/DeepFakeDetection/data/FakeAVCeleb_v1.2/real_videos_train/id01170/00113.wav\n"
          ]
        },
        {
          "output_type": "stream",
          "name": "stderr",
          "text": [
            "100%|██████████| 240/240 [00:00<00:00, 3283.18it/s]"
          ]
        },
        {
          "output_type": "stream",
          "name": "stdout",
          "text": [
            "[MoviePy] Done.\n",
            "Generating file for id id01170\n"
          ]
        },
        {
          "output_type": "stream",
          "name": "stderr",
          "text": [
            "\n"
          ]
        },
        {
          "output_type": "stream",
          "name": "stdout",
          "text": [
            "[MoviePy] Writing audio in /content/drive/MyDrive/DeepFakeDetection/data/FakeAVCeleb_v1.2/real_videos_train/id01170/00114.wav\n"
          ]
        },
        {
          "output_type": "stream",
          "name": "stderr",
          "text": [
            "100%|██████████| 297/297 [00:00<00:00, 3240.55it/s]"
          ]
        },
        {
          "output_type": "stream",
          "name": "stdout",
          "text": [
            "[MoviePy] Done.\n",
            "Generating file for id id01170\n"
          ]
        },
        {
          "output_type": "stream",
          "name": "stderr",
          "text": [
            "\n"
          ]
        },
        {
          "output_type": "stream",
          "name": "stdout",
          "text": [
            "[MoviePy] Writing audio in /content/drive/MyDrive/DeepFakeDetection/data/FakeAVCeleb_v1.2/real_videos_train/id01170/00115.wav\n"
          ]
        },
        {
          "output_type": "stream",
          "name": "stderr",
          "text": [
            "100%|██████████| 268/268 [00:00<00:00, 3201.27it/s]"
          ]
        },
        {
          "output_type": "stream",
          "name": "stdout",
          "text": [
            "[MoviePy] Done.\n",
            "Generating file for id id01170\n"
          ]
        },
        {
          "output_type": "stream",
          "name": "stderr",
          "text": [
            "\n"
          ]
        },
        {
          "output_type": "stream",
          "name": "stdout",
          "text": [
            "[MoviePy] Writing audio in /content/drive/MyDrive/DeepFakeDetection/data/FakeAVCeleb_v1.2/real_videos_train/id01170/00116.wav\n"
          ]
        },
        {
          "output_type": "stream",
          "name": "stderr",
          "text": [
            "100%|██████████| 214/214 [00:00<00:00, 3376.59it/s]"
          ]
        },
        {
          "output_type": "stream",
          "name": "stdout",
          "text": [
            "[MoviePy] Done.\n",
            "Generating file for id id01170\n"
          ]
        },
        {
          "output_type": "stream",
          "name": "stderr",
          "text": [
            "\n"
          ]
        },
        {
          "output_type": "stream",
          "name": "stdout",
          "text": [
            "[MoviePy] Writing audio in /content/drive/MyDrive/DeepFakeDetection/data/FakeAVCeleb_v1.2/real_videos_train/id01170/00120.wav\n"
          ]
        },
        {
          "output_type": "stream",
          "name": "stderr",
          "text": [
            "100%|██████████| 346/346 [00:00<00:00, 3320.19it/s]"
          ]
        },
        {
          "output_type": "stream",
          "name": "stdout",
          "text": [
            "[MoviePy] Done.\n",
            "Generating file for id id01170\n"
          ]
        },
        {
          "output_type": "stream",
          "name": "stderr",
          "text": [
            "\n"
          ]
        },
        {
          "output_type": "stream",
          "name": "stdout",
          "text": [
            "[MoviePy] Writing audio in /content/drive/MyDrive/DeepFakeDetection/data/FakeAVCeleb_v1.2/real_videos_train/id01170/00119.wav\n"
          ]
        },
        {
          "output_type": "stream",
          "name": "stderr",
          "text": [
            "100%|██████████| 94/94 [00:00<00:00, 3266.08it/s]"
          ]
        },
        {
          "output_type": "stream",
          "name": "stdout",
          "text": [
            "[MoviePy] Done.\n",
            "Generating file for id id01170\n"
          ]
        },
        {
          "output_type": "stream",
          "name": "stderr",
          "text": [
            "\n"
          ]
        },
        {
          "output_type": "stream",
          "name": "stdout",
          "text": [
            "[MoviePy] Writing audio in /content/drive/MyDrive/DeepFakeDetection/data/FakeAVCeleb_v1.2/real_videos_train/id01170/00121.wav\n"
          ]
        },
        {
          "output_type": "stream",
          "name": "stderr",
          "text": [
            "100%|██████████| 245/245 [00:00<00:00, 3217.70it/s]"
          ]
        },
        {
          "output_type": "stream",
          "name": "stdout",
          "text": [
            "[MoviePy] Done.\n",
            "Generating file for id id01170\n"
          ]
        },
        {
          "output_type": "stream",
          "name": "stderr",
          "text": [
            "\n"
          ]
        },
        {
          "output_type": "stream",
          "name": "stdout",
          "text": [
            "[MoviePy] Writing audio in /content/drive/MyDrive/DeepFakeDetection/data/FakeAVCeleb_v1.2/real_videos_train/id01170/00123.wav\n"
          ]
        },
        {
          "output_type": "stream",
          "name": "stderr",
          "text": [
            "100%|██████████| 183/183 [00:00<00:00, 3127.63it/s]"
          ]
        },
        {
          "output_type": "stream",
          "name": "stdout",
          "text": [
            "[MoviePy] Done.\n",
            "Generating file for id id01170\n"
          ]
        },
        {
          "output_type": "stream",
          "name": "stderr",
          "text": [
            "\n"
          ]
        },
        {
          "output_type": "stream",
          "name": "stdout",
          "text": [
            "[MoviePy] Writing audio in /content/drive/MyDrive/DeepFakeDetection/data/FakeAVCeleb_v1.2/real_videos_train/id01170/00122.wav\n"
          ]
        },
        {
          "output_type": "stream",
          "name": "stderr",
          "text": [
            "100%|██████████| 141/141 [00:00<00:00, 3114.14it/s]"
          ]
        },
        {
          "output_type": "stream",
          "name": "stdout",
          "text": [
            "[MoviePy] Done.\n",
            "Generating file for id id01170\n"
          ]
        },
        {
          "output_type": "stream",
          "name": "stderr",
          "text": [
            "\n"
          ]
        },
        {
          "output_type": "stream",
          "name": "stdout",
          "text": [
            "[MoviePy] Writing audio in /content/drive/MyDrive/DeepFakeDetection/data/FakeAVCeleb_v1.2/real_videos_train/id01170/00127.wav\n"
          ]
        },
        {
          "output_type": "stream",
          "name": "stderr",
          "text": [
            "100%|██████████| 98/98 [00:00<00:00, 3402.69it/s]"
          ]
        },
        {
          "output_type": "stream",
          "name": "stdout",
          "text": [
            "[MoviePy] Done.\n",
            "Generating file for id id01170\n"
          ]
        },
        {
          "output_type": "stream",
          "name": "stderr",
          "text": [
            "\n"
          ]
        },
        {
          "output_type": "stream",
          "name": "stdout",
          "text": [
            "[MoviePy] Writing audio in /content/drive/MyDrive/DeepFakeDetection/data/FakeAVCeleb_v1.2/real_videos_train/id01170/00128.wav\n"
          ]
        },
        {
          "output_type": "stream",
          "name": "stderr",
          "text": [
            "100%|██████████| 107/107 [00:00<00:00, 3225.32it/s]"
          ]
        },
        {
          "output_type": "stream",
          "name": "stdout",
          "text": [
            "[MoviePy] Done.\n",
            "Generating file for id id01170\n"
          ]
        },
        {
          "output_type": "stream",
          "name": "stderr",
          "text": [
            "\n"
          ]
        },
        {
          "output_type": "stream",
          "name": "stdout",
          "text": [
            "[MoviePy] Writing audio in /content/drive/MyDrive/DeepFakeDetection/data/FakeAVCeleb_v1.2/real_videos_train/id01170/00130.wav\n"
          ]
        },
        {
          "output_type": "stream",
          "name": "stderr",
          "text": [
            "100%|██████████| 139/139 [00:00<00:00, 3103.85it/s]"
          ]
        },
        {
          "output_type": "stream",
          "name": "stdout",
          "text": [
            "[MoviePy] Done.\n",
            "Generating file for id id01170\n"
          ]
        },
        {
          "output_type": "stream",
          "name": "stderr",
          "text": [
            "\n"
          ]
        },
        {
          "output_type": "stream",
          "name": "stdout",
          "text": [
            "[MoviePy] Writing audio in /content/drive/MyDrive/DeepFakeDetection/data/FakeAVCeleb_v1.2/real_videos_train/id01170/00129.wav\n"
          ]
        },
        {
          "output_type": "stream",
          "name": "stderr",
          "text": [
            "100%|██████████| 97/97 [00:00<00:00, 1874.55it/s]"
          ]
        },
        {
          "output_type": "stream",
          "name": "stdout",
          "text": [
            "[MoviePy] Done.\n",
            "Generating file for id id01170\n"
          ]
        },
        {
          "output_type": "stream",
          "name": "stderr",
          "text": [
            "\n"
          ]
        },
        {
          "output_type": "stream",
          "name": "stdout",
          "text": [
            "[MoviePy] Writing audio in /content/drive/MyDrive/DeepFakeDetection/data/FakeAVCeleb_v1.2/real_videos_train/id01170/00131.wav\n"
          ]
        },
        {
          "output_type": "stream",
          "name": "stderr",
          "text": [
            "100%|██████████| 109/109 [00:00<00:00, 2885.21it/s]"
          ]
        },
        {
          "output_type": "stream",
          "name": "stdout",
          "text": [
            "[MoviePy] Done.\n",
            "Generating file for id id01170\n"
          ]
        },
        {
          "output_type": "stream",
          "name": "stderr",
          "text": [
            "\n"
          ]
        },
        {
          "output_type": "stream",
          "name": "stdout",
          "text": [
            "[MoviePy] Writing audio in /content/drive/MyDrive/DeepFakeDetection/data/FakeAVCeleb_v1.2/real_videos_train/id01170/00161.wav\n"
          ]
        },
        {
          "output_type": "stream",
          "name": "stderr",
          "text": [
            "100%|██████████| 146/146 [00:00<00:00, 3147.73it/s]"
          ]
        },
        {
          "output_type": "stream",
          "name": "stdout",
          "text": [
            "[MoviePy] Done.\n",
            "Generating file for id id01170\n"
          ]
        },
        {
          "output_type": "stream",
          "name": "stderr",
          "text": [
            "\n"
          ]
        },
        {
          "output_type": "stream",
          "name": "stdout",
          "text": [
            "[MoviePy] Writing audio in /content/drive/MyDrive/DeepFakeDetection/data/FakeAVCeleb_v1.2/real_videos_train/id01170/00162.wav\n"
          ]
        },
        {
          "output_type": "stream",
          "name": "stderr",
          "text": [
            "100%|██████████| 185/185 [00:00<00:00, 3184.07it/s]"
          ]
        },
        {
          "output_type": "stream",
          "name": "stdout",
          "text": [
            "[MoviePy] Done.\n",
            "Generating file for id id01182\n"
          ]
        },
        {
          "output_type": "stream",
          "name": "stderr",
          "text": [
            "\n"
          ]
        },
        {
          "output_type": "stream",
          "name": "stdout",
          "text": [
            "[MoviePy] Writing audio in /content/drive/MyDrive/DeepFakeDetection/data/FakeAVCeleb_v1.2/real_videos_train/id01182/00001.wav\n"
          ]
        },
        {
          "output_type": "stream",
          "name": "stderr",
          "text": [
            "100%|██████████| 105/105 [00:00<00:00, 3257.60it/s]"
          ]
        },
        {
          "output_type": "stream",
          "name": "stdout",
          "text": [
            "[MoviePy] Done.\n",
            "Generating file for id id01182\n"
          ]
        },
        {
          "output_type": "stream",
          "name": "stderr",
          "text": [
            "\n"
          ]
        },
        {
          "output_type": "stream",
          "name": "stdout",
          "text": [
            "[MoviePy] Writing audio in /content/drive/MyDrive/DeepFakeDetection/data/FakeAVCeleb_v1.2/real_videos_train/id01182/00002.wav\n"
          ]
        },
        {
          "output_type": "stream",
          "name": "stderr",
          "text": [
            "100%|██████████| 110/110 [00:00<00:00, 3011.97it/s]"
          ]
        },
        {
          "output_type": "stream",
          "name": "stdout",
          "text": [
            "[MoviePy] Done.\n",
            "Generating file for id id01182\n"
          ]
        },
        {
          "output_type": "stream",
          "name": "stderr",
          "text": [
            "\n"
          ]
        },
        {
          "output_type": "stream",
          "name": "stdout",
          "text": [
            "[MoviePy] Writing audio in /content/drive/MyDrive/DeepFakeDetection/data/FakeAVCeleb_v1.2/real_videos_train/id01182/00004.wav\n"
          ]
        },
        {
          "output_type": "stream",
          "name": "stderr",
          "text": [
            "100%|██████████| 98/98 [00:00<00:00, 3044.48it/s]"
          ]
        },
        {
          "output_type": "stream",
          "name": "stdout",
          "text": [
            "[MoviePy] Done.\n",
            "Generating file for id id01182\n"
          ]
        },
        {
          "output_type": "stream",
          "name": "stderr",
          "text": [
            "\n"
          ]
        },
        {
          "output_type": "stream",
          "name": "stdout",
          "text": [
            "[MoviePy] Writing audio in /content/drive/MyDrive/DeepFakeDetection/data/FakeAVCeleb_v1.2/real_videos_train/id01182/00006.wav\n"
          ]
        },
        {
          "output_type": "stream",
          "name": "stderr",
          "text": [
            "100%|██████████| 124/124 [00:00<00:00, 3185.31it/s]"
          ]
        },
        {
          "output_type": "stream",
          "name": "stdout",
          "text": [
            "[MoviePy] Done.\n",
            "Generating file for id id01182\n"
          ]
        },
        {
          "output_type": "stream",
          "name": "stderr",
          "text": [
            "\n"
          ]
        },
        {
          "output_type": "stream",
          "name": "stdout",
          "text": [
            "[MoviePy] Writing audio in /content/drive/MyDrive/DeepFakeDetection/data/FakeAVCeleb_v1.2/real_videos_train/id01182/00007.wav\n"
          ]
        },
        {
          "output_type": "stream",
          "name": "stderr",
          "text": [
            "100%|██████████| 133/133 [00:00<00:00, 2841.31it/s]"
          ]
        },
        {
          "output_type": "stream",
          "name": "stdout",
          "text": [
            "[MoviePy] Done.\n",
            "Generating file for id id01182\n"
          ]
        },
        {
          "output_type": "stream",
          "name": "stderr",
          "text": [
            "\n"
          ]
        },
        {
          "output_type": "stream",
          "name": "stdout",
          "text": [
            "[MoviePy] Writing audio in /content/drive/MyDrive/DeepFakeDetection/data/FakeAVCeleb_v1.2/real_videos_train/id01182/00008.wav\n"
          ]
        },
        {
          "output_type": "stream",
          "name": "stderr",
          "text": [
            "100%|██████████| 146/146 [00:00<00:00, 3151.60it/s]"
          ]
        },
        {
          "output_type": "stream",
          "name": "stdout",
          "text": [
            "[MoviePy] Done.\n",
            "Generating file for id id01182\n"
          ]
        },
        {
          "output_type": "stream",
          "name": "stderr",
          "text": [
            "\n"
          ]
        },
        {
          "output_type": "stream",
          "name": "stdout",
          "text": [
            "[MoviePy] Writing audio in /content/drive/MyDrive/DeepFakeDetection/data/FakeAVCeleb_v1.2/real_videos_train/id01182/00009.wav\n"
          ]
        },
        {
          "output_type": "stream",
          "name": "stderr",
          "text": [
            "100%|██████████| 319/319 [00:00<00:00, 3523.44it/s]"
          ]
        },
        {
          "output_type": "stream",
          "name": "stdout",
          "text": [
            "[MoviePy] Done.\n",
            "Generating file for id id01182\n"
          ]
        },
        {
          "output_type": "stream",
          "name": "stderr",
          "text": [
            "\n"
          ]
        },
        {
          "output_type": "stream",
          "name": "stdout",
          "text": [
            "[MoviePy] Writing audio in /content/drive/MyDrive/DeepFakeDetection/data/FakeAVCeleb_v1.2/real_videos_train/id01182/00010.wav\n"
          ]
        },
        {
          "output_type": "stream",
          "name": "stderr",
          "text": [
            "100%|██████████| 178/178 [00:00<00:00, 3161.12it/s]"
          ]
        },
        {
          "output_type": "stream",
          "name": "stdout",
          "text": [
            "[MoviePy] Done.\n",
            "Generating file for id id01182\n"
          ]
        },
        {
          "output_type": "stream",
          "name": "stderr",
          "text": [
            "\n"
          ]
        },
        {
          "output_type": "stream",
          "name": "stdout",
          "text": [
            "[MoviePy] Writing audio in /content/drive/MyDrive/DeepFakeDetection/data/FakeAVCeleb_v1.2/real_videos_train/id01182/00012.wav\n"
          ]
        },
        {
          "output_type": "stream",
          "name": "stderr",
          "text": [
            "100%|██████████| 107/107 [00:00<00:00, 2497.69it/s]"
          ]
        },
        {
          "output_type": "stream",
          "name": "stdout",
          "text": [
            "[MoviePy] Done.\n",
            "Generating file for id id01182\n"
          ]
        },
        {
          "output_type": "stream",
          "name": "stderr",
          "text": [
            "\n"
          ]
        },
        {
          "output_type": "stream",
          "name": "stdout",
          "text": [
            "[MoviePy] Writing audio in /content/drive/MyDrive/DeepFakeDetection/data/FakeAVCeleb_v1.2/real_videos_train/id01182/00011.wav\n"
          ]
        },
        {
          "output_type": "stream",
          "name": "stderr",
          "text": [
            "100%|██████████| 327/327 [00:00<00:00, 3271.32it/s]"
          ]
        },
        {
          "output_type": "stream",
          "name": "stdout",
          "text": [
            "[MoviePy] Done.\n",
            "Generating file for id id01182\n"
          ]
        },
        {
          "output_type": "stream",
          "name": "stderr",
          "text": [
            "\n"
          ]
        },
        {
          "output_type": "stream",
          "name": "stdout",
          "text": [
            "[MoviePy] Writing audio in /content/drive/MyDrive/DeepFakeDetection/data/FakeAVCeleb_v1.2/real_videos_train/id01182/00013.wav\n"
          ]
        },
        {
          "output_type": "stream",
          "name": "stderr",
          "text": [
            "100%|██████████| 156/156 [00:00<00:00, 2436.05it/s]"
          ]
        },
        {
          "output_type": "stream",
          "name": "stdout",
          "text": [
            "[MoviePy] Done.\n",
            "Generating file for id id01182\n"
          ]
        },
        {
          "output_type": "stream",
          "name": "stderr",
          "text": [
            "\n"
          ]
        },
        {
          "output_type": "stream",
          "name": "stdout",
          "text": [
            "[MoviePy] Writing audio in /content/drive/MyDrive/DeepFakeDetection/data/FakeAVCeleb_v1.2/real_videos_train/id01182/00014.wav\n"
          ]
        },
        {
          "output_type": "stream",
          "name": "stderr",
          "text": [
            "100%|██████████| 124/124 [00:00<00:00, 2346.42it/s]"
          ]
        },
        {
          "output_type": "stream",
          "name": "stdout",
          "text": [
            "[MoviePy] Done.\n",
            "Generating file for id id01182\n"
          ]
        },
        {
          "output_type": "stream",
          "name": "stderr",
          "text": [
            "\n"
          ]
        },
        {
          "output_type": "stream",
          "name": "stdout",
          "text": [
            "[MoviePy] Writing audio in /content/drive/MyDrive/DeepFakeDetection/data/FakeAVCeleb_v1.2/real_videos_train/id01182/00023.wav\n"
          ]
        },
        {
          "output_type": "stream",
          "name": "stderr",
          "text": [
            "100%|██████████| 140/140 [00:00<00:00, 2289.36it/s]"
          ]
        },
        {
          "output_type": "stream",
          "name": "stdout",
          "text": [
            "[MoviePy] Done.\n",
            "Generating file for id id01182\n"
          ]
        },
        {
          "output_type": "stream",
          "name": "stderr",
          "text": [
            "\n"
          ]
        },
        {
          "output_type": "stream",
          "name": "stdout",
          "text": [
            "[MoviePy] Writing audio in /content/drive/MyDrive/DeepFakeDetection/data/FakeAVCeleb_v1.2/real_videos_train/id01182/00025.wav\n"
          ]
        },
        {
          "output_type": "stream",
          "name": "stderr",
          "text": [
            "100%|██████████| 120/120 [00:00<00:00, 3206.16it/s]"
          ]
        },
        {
          "output_type": "stream",
          "name": "stdout",
          "text": [
            "[MoviePy] Done.\n",
            "Generating file for id id01182\n"
          ]
        },
        {
          "output_type": "stream",
          "name": "stderr",
          "text": [
            "\n"
          ]
        },
        {
          "output_type": "stream",
          "name": "stdout",
          "text": [
            "[MoviePy] Writing audio in /content/drive/MyDrive/DeepFakeDetection/data/FakeAVCeleb_v1.2/real_videos_train/id01182/00028.wav\n"
          ]
        },
        {
          "output_type": "stream",
          "name": "stderr",
          "text": [
            "100%|██████████| 408/408 [00:00<00:00, 3290.84it/s]"
          ]
        },
        {
          "output_type": "stream",
          "name": "stdout",
          "text": [
            "[MoviePy] Done.\n",
            "Generating file for id id01182\n"
          ]
        },
        {
          "output_type": "stream",
          "name": "stderr",
          "text": [
            "\n"
          ]
        },
        {
          "output_type": "stream",
          "name": "stdout",
          "text": [
            "[MoviePy] Writing audio in /content/drive/MyDrive/DeepFakeDetection/data/FakeAVCeleb_v1.2/real_videos_train/id01182/00032.wav\n"
          ]
        },
        {
          "output_type": "stream",
          "name": "stderr",
          "text": [
            "100%|██████████| 173/173 [00:00<00:00, 3180.01it/s]"
          ]
        },
        {
          "output_type": "stream",
          "name": "stdout",
          "text": [
            "[MoviePy] Done.\n",
            "Generating file for id id01182\n"
          ]
        },
        {
          "output_type": "stream",
          "name": "stderr",
          "text": [
            "\n"
          ]
        },
        {
          "output_type": "stream",
          "name": "stdout",
          "text": [
            "[MoviePy] Writing audio in /content/drive/MyDrive/DeepFakeDetection/data/FakeAVCeleb_v1.2/real_videos_train/id01182/00033.wav\n"
          ]
        },
        {
          "output_type": "stream",
          "name": "stderr",
          "text": [
            "100%|██████████| 221/221 [00:00<00:00, 3281.72it/s]"
          ]
        },
        {
          "output_type": "stream",
          "name": "stdout",
          "text": [
            "[MoviePy] Done.\n",
            "Generating file for id id01182\n"
          ]
        },
        {
          "output_type": "stream",
          "name": "stderr",
          "text": [
            "\n"
          ]
        },
        {
          "output_type": "stream",
          "name": "stdout",
          "text": [
            "[MoviePy] Writing audio in /content/drive/MyDrive/DeepFakeDetection/data/FakeAVCeleb_v1.2/real_videos_train/id01182/00034.wav\n"
          ]
        },
        {
          "output_type": "stream",
          "name": "stderr",
          "text": [
            "100%|██████████| 191/191 [00:00<00:00, 3263.07it/s]"
          ]
        },
        {
          "output_type": "stream",
          "name": "stdout",
          "text": [
            "[MoviePy] Done.\n",
            "Generating file for id id01182\n"
          ]
        },
        {
          "output_type": "stream",
          "name": "stderr",
          "text": [
            "\n"
          ]
        },
        {
          "output_type": "stream",
          "name": "stdout",
          "text": [
            "[MoviePy] Writing audio in /content/drive/MyDrive/DeepFakeDetection/data/FakeAVCeleb_v1.2/real_videos_train/id01182/00035.wav\n"
          ]
        },
        {
          "output_type": "stream",
          "name": "stderr",
          "text": [
            "100%|██████████| 117/117 [00:00<00:00, 2992.28it/s]"
          ]
        },
        {
          "output_type": "stream",
          "name": "stdout",
          "text": [
            "[MoviePy] Done.\n",
            "Generating file for id id01182\n"
          ]
        },
        {
          "output_type": "stream",
          "name": "stderr",
          "text": [
            "\n"
          ]
        },
        {
          "output_type": "stream",
          "name": "stdout",
          "text": [
            "[MoviePy] Writing audio in /content/drive/MyDrive/DeepFakeDetection/data/FakeAVCeleb_v1.2/real_videos_train/id01182/00036.wav\n"
          ]
        },
        {
          "output_type": "stream",
          "name": "stderr",
          "text": [
            "100%|██████████| 104/104 [00:00<00:00, 3207.53it/s]"
          ]
        },
        {
          "output_type": "stream",
          "name": "stdout",
          "text": [
            "[MoviePy] Done.\n",
            "Generating file for id id01182\n"
          ]
        },
        {
          "output_type": "stream",
          "name": "stderr",
          "text": [
            "\n"
          ]
        },
        {
          "output_type": "stream",
          "name": "stdout",
          "text": [
            "[MoviePy] Writing audio in /content/drive/MyDrive/DeepFakeDetection/data/FakeAVCeleb_v1.2/real_videos_train/id01182/00039.wav\n"
          ]
        },
        {
          "output_type": "stream",
          "name": "stderr",
          "text": [
            "100%|██████████| 137/137 [00:00<00:00, 2562.02it/s]"
          ]
        },
        {
          "output_type": "stream",
          "name": "stdout",
          "text": [
            "[MoviePy] Done.\n",
            "Generating file for id id01182\n"
          ]
        },
        {
          "output_type": "stream",
          "name": "stderr",
          "text": [
            "\n"
          ]
        },
        {
          "output_type": "stream",
          "name": "stdout",
          "text": [
            "[MoviePy] Writing audio in /content/drive/MyDrive/DeepFakeDetection/data/FakeAVCeleb_v1.2/real_videos_train/id01182/00041.wav\n"
          ]
        },
        {
          "output_type": "stream",
          "name": "stderr",
          "text": [
            "100%|██████████| 113/113 [00:00<00:00, 2928.71it/s]"
          ]
        },
        {
          "output_type": "stream",
          "name": "stdout",
          "text": [
            "[MoviePy] Done.\n",
            "Generating file for id id01182\n"
          ]
        },
        {
          "output_type": "stream",
          "name": "stderr",
          "text": [
            "\n"
          ]
        },
        {
          "output_type": "stream",
          "name": "stdout",
          "text": [
            "[MoviePy] Writing audio in /content/drive/MyDrive/DeepFakeDetection/data/FakeAVCeleb_v1.2/real_videos_train/id01182/00040.wav\n"
          ]
        },
        {
          "output_type": "stream",
          "name": "stderr",
          "text": [
            "100%|██████████| 95/95 [00:00<00:00, 3091.10it/s]"
          ]
        },
        {
          "output_type": "stream",
          "name": "stdout",
          "text": [
            "[MoviePy] Done.\n",
            "Generating file for id id01182\n"
          ]
        },
        {
          "output_type": "stream",
          "name": "stderr",
          "text": [
            "\n"
          ]
        },
        {
          "output_type": "stream",
          "name": "stdout",
          "text": [
            "[MoviePy] Writing audio in /content/drive/MyDrive/DeepFakeDetection/data/FakeAVCeleb_v1.2/real_videos_train/id01182/00042.wav\n"
          ]
        },
        {
          "output_type": "stream",
          "name": "stderr",
          "text": [
            "100%|██████████| 289/289 [00:00<00:00, 3375.04it/s]"
          ]
        },
        {
          "output_type": "stream",
          "name": "stdout",
          "text": [
            "[MoviePy] Done.\n",
            "Generating file for id id01182\n"
          ]
        },
        {
          "output_type": "stream",
          "name": "stderr",
          "text": [
            "\n"
          ]
        },
        {
          "output_type": "stream",
          "name": "stdout",
          "text": [
            "[MoviePy] Writing audio in /content/drive/MyDrive/DeepFakeDetection/data/FakeAVCeleb_v1.2/real_videos_train/id01182/00044.wav\n"
          ]
        },
        {
          "output_type": "stream",
          "name": "stderr",
          "text": [
            "100%|██████████| 94/94 [00:00<00:00, 3313.90it/s]"
          ]
        },
        {
          "output_type": "stream",
          "name": "stdout",
          "text": [
            "[MoviePy] Done.\n",
            "Generating file for id id01182\n"
          ]
        },
        {
          "output_type": "stream",
          "name": "stderr",
          "text": [
            "\n"
          ]
        },
        {
          "output_type": "stream",
          "name": "stdout",
          "text": [
            "[MoviePy] Writing audio in /content/drive/MyDrive/DeepFakeDetection/data/FakeAVCeleb_v1.2/real_videos_train/id01182/00043.wav\n"
          ]
        },
        {
          "output_type": "stream",
          "name": "stderr",
          "text": [
            "100%|██████████| 194/194 [00:00<00:00, 3258.00it/s]"
          ]
        },
        {
          "output_type": "stream",
          "name": "stdout",
          "text": [
            "[MoviePy] Done.\n",
            "Generating file for id id01182\n"
          ]
        },
        {
          "output_type": "stream",
          "name": "stderr",
          "text": [
            "\n"
          ]
        },
        {
          "output_type": "stream",
          "name": "stdout",
          "text": [
            "[MoviePy] Writing audio in /content/drive/MyDrive/DeepFakeDetection/data/FakeAVCeleb_v1.2/real_videos_train/id01182/00045.wav\n"
          ]
        },
        {
          "output_type": "stream",
          "name": "stderr",
          "text": [
            "100%|██████████| 196/196 [00:00<00:00, 3291.86it/s]"
          ]
        },
        {
          "output_type": "stream",
          "name": "stdout",
          "text": [
            "[MoviePy] Done.\n",
            "Generating file for id id01182\n"
          ]
        },
        {
          "output_type": "stream",
          "name": "stderr",
          "text": [
            "\n"
          ]
        },
        {
          "output_type": "stream",
          "name": "stdout",
          "text": [
            "[MoviePy] Writing audio in /content/drive/MyDrive/DeepFakeDetection/data/FakeAVCeleb_v1.2/real_videos_train/id01182/00047.wav\n"
          ]
        },
        {
          "output_type": "stream",
          "name": "stderr",
          "text": [
            "100%|██████████| 175/175 [00:00<00:00, 3240.75it/s]"
          ]
        },
        {
          "output_type": "stream",
          "name": "stdout",
          "text": [
            "[MoviePy] Done.\n",
            "Generating file for id id01182\n"
          ]
        },
        {
          "output_type": "stream",
          "name": "stderr",
          "text": [
            "\n"
          ]
        },
        {
          "output_type": "stream",
          "name": "stdout",
          "text": [
            "[MoviePy] Writing audio in /content/drive/MyDrive/DeepFakeDetection/data/FakeAVCeleb_v1.2/real_videos_train/id01182/00046.wav\n"
          ]
        },
        {
          "output_type": "stream",
          "name": "stderr",
          "text": [
            "100%|██████████| 251/251 [00:00<00:00, 3414.70it/s]"
          ]
        },
        {
          "output_type": "stream",
          "name": "stdout",
          "text": [
            "[MoviePy] Done.\n",
            "Generating file for id id01182\n"
          ]
        },
        {
          "output_type": "stream",
          "name": "stderr",
          "text": [
            "\n"
          ]
        },
        {
          "output_type": "stream",
          "name": "stdout",
          "text": [
            "[MoviePy] Writing audio in /content/drive/MyDrive/DeepFakeDetection/data/FakeAVCeleb_v1.2/real_videos_train/id01182/00049.wav\n"
          ]
        },
        {
          "output_type": "stream",
          "name": "stderr",
          "text": [
            "100%|██████████| 144/144 [00:00<00:00, 3075.39it/s]"
          ]
        },
        {
          "output_type": "stream",
          "name": "stdout",
          "text": [
            "[MoviePy] Done.\n",
            "Generating file for id id01182\n"
          ]
        },
        {
          "output_type": "stream",
          "name": "stderr",
          "text": [
            "\n"
          ]
        },
        {
          "output_type": "stream",
          "name": "stdout",
          "text": [
            "[MoviePy] Writing audio in /content/drive/MyDrive/DeepFakeDetection/data/FakeAVCeleb_v1.2/real_videos_train/id01182/00050.wav\n"
          ]
        },
        {
          "output_type": "stream",
          "name": "stderr",
          "text": [
            "100%|██████████| 124/124 [00:00<00:00, 3162.61it/s]"
          ]
        },
        {
          "output_type": "stream",
          "name": "stdout",
          "text": [
            "[MoviePy] Done.\n",
            "Generating file for id id01182\n"
          ]
        },
        {
          "output_type": "stream",
          "name": "stderr",
          "text": [
            "\n"
          ]
        },
        {
          "output_type": "stream",
          "name": "stdout",
          "text": [
            "[MoviePy] Writing audio in /content/drive/MyDrive/DeepFakeDetection/data/FakeAVCeleb_v1.2/real_videos_train/id01182/00057.wav\n"
          ]
        },
        {
          "output_type": "stream",
          "name": "stderr",
          "text": [
            "100%|██████████| 159/159 [00:00<00:00, 3101.92it/s]"
          ]
        },
        {
          "output_type": "stream",
          "name": "stdout",
          "text": [
            "[MoviePy] Done.\n",
            "Generating file for id id01182\n"
          ]
        },
        {
          "output_type": "stream",
          "name": "stderr",
          "text": [
            "\n"
          ]
        },
        {
          "output_type": "stream",
          "name": "stdout",
          "text": [
            "[MoviePy] Writing audio in /content/drive/MyDrive/DeepFakeDetection/data/FakeAVCeleb_v1.2/real_videos_train/id01182/00058.wav\n"
          ]
        },
        {
          "output_type": "stream",
          "name": "stderr",
          "text": [
            "100%|██████████| 278/278 [00:00<00:00, 3113.17it/s]"
          ]
        },
        {
          "output_type": "stream",
          "name": "stdout",
          "text": [
            "[MoviePy] Done.\n",
            "Generating file for id id01182\n"
          ]
        },
        {
          "output_type": "stream",
          "name": "stderr",
          "text": [
            "\n"
          ]
        },
        {
          "output_type": "stream",
          "name": "stdout",
          "text": [
            "[MoviePy] Writing audio in /content/drive/MyDrive/DeepFakeDetection/data/FakeAVCeleb_v1.2/real_videos_train/id01182/00059.wav\n"
          ]
        },
        {
          "output_type": "stream",
          "name": "stderr",
          "text": [
            "100%|██████████| 144/144 [00:00<00:00, 3199.03it/s]"
          ]
        },
        {
          "output_type": "stream",
          "name": "stdout",
          "text": [
            "[MoviePy] Done.\n",
            "Generating file for id id01182\n"
          ]
        },
        {
          "output_type": "stream",
          "name": "stderr",
          "text": [
            "\n"
          ]
        },
        {
          "output_type": "stream",
          "name": "stdout",
          "text": [
            "[MoviePy] Writing audio in /content/drive/MyDrive/DeepFakeDetection/data/FakeAVCeleb_v1.2/real_videos_train/id01182/00062.wav\n"
          ]
        },
        {
          "output_type": "stream",
          "name": "stderr",
          "text": [
            "100%|██████████| 137/137 [00:00<00:00, 3055.72it/s]"
          ]
        },
        {
          "output_type": "stream",
          "name": "stdout",
          "text": [
            "[MoviePy] Done.\n",
            "Generating file for id id01182\n"
          ]
        },
        {
          "output_type": "stream",
          "name": "stderr",
          "text": [
            "\n"
          ]
        },
        {
          "output_type": "stream",
          "name": "stdout",
          "text": [
            "[MoviePy] Writing audio in /content/drive/MyDrive/DeepFakeDetection/data/FakeAVCeleb_v1.2/real_videos_train/id01182/00064.wav\n"
          ]
        },
        {
          "output_type": "stream",
          "name": "stderr",
          "text": [
            "100%|██████████| 130/130 [00:00<00:00, 3106.18it/s]"
          ]
        },
        {
          "output_type": "stream",
          "name": "stdout",
          "text": [
            "[MoviePy] Done.\n",
            "Generating file for id id01182\n"
          ]
        },
        {
          "output_type": "stream",
          "name": "stderr",
          "text": [
            "\n"
          ]
        },
        {
          "output_type": "stream",
          "name": "stdout",
          "text": [
            "[MoviePy] Writing audio in /content/drive/MyDrive/DeepFakeDetection/data/FakeAVCeleb_v1.2/real_videos_train/id01182/00065.wav\n"
          ]
        },
        {
          "output_type": "stream",
          "name": "stderr",
          "text": [
            "100%|██████████| 240/240 [00:00<00:00, 3223.93it/s]"
          ]
        },
        {
          "output_type": "stream",
          "name": "stdout",
          "text": [
            "[MoviePy] Done.\n",
            "Generating file for id id01182\n"
          ]
        },
        {
          "output_type": "stream",
          "name": "stderr",
          "text": [
            "\n"
          ]
        },
        {
          "output_type": "stream",
          "name": "stdout",
          "text": [
            "[MoviePy] Writing audio in /content/drive/MyDrive/DeepFakeDetection/data/FakeAVCeleb_v1.2/real_videos_train/id01182/00069.wav\n"
          ]
        },
        {
          "output_type": "stream",
          "name": "stderr",
          "text": [
            "100%|██████████| 154/154 [00:00<00:00, 3353.98it/s]"
          ]
        },
        {
          "output_type": "stream",
          "name": "stdout",
          "text": [
            "[MoviePy] Done.\n",
            "Generating file for id id01182\n"
          ]
        },
        {
          "output_type": "stream",
          "name": "stderr",
          "text": [
            "\n"
          ]
        },
        {
          "output_type": "stream",
          "name": "stdout",
          "text": [
            "[MoviePy] Writing audio in /content/drive/MyDrive/DeepFakeDetection/data/FakeAVCeleb_v1.2/real_videos_train/id01182/00067.wav\n"
          ]
        },
        {
          "output_type": "stream",
          "name": "stderr",
          "text": [
            "100%|██████████| 96/96 [00:00<00:00, 1920.78it/s]"
          ]
        },
        {
          "output_type": "stream",
          "name": "stdout",
          "text": [
            "[MoviePy] Done.\n",
            "Generating file for id id01182\n"
          ]
        },
        {
          "output_type": "stream",
          "name": "stderr",
          "text": [
            "\n"
          ]
        },
        {
          "output_type": "stream",
          "name": "stdout",
          "text": [
            "[MoviePy] Writing audio in /content/drive/MyDrive/DeepFakeDetection/data/FakeAVCeleb_v1.2/real_videos_train/id01182/00072.wav\n"
          ]
        },
        {
          "output_type": "stream",
          "name": "stderr",
          "text": [
            "100%|██████████| 106/106 [00:00<00:00, 3288.14it/s]"
          ]
        },
        {
          "output_type": "stream",
          "name": "stdout",
          "text": [
            "[MoviePy] Done.\n",
            "Generating file for id id01182\n"
          ]
        },
        {
          "output_type": "stream",
          "name": "stderr",
          "text": [
            "\n"
          ]
        },
        {
          "output_type": "stream",
          "name": "stdout",
          "text": [
            "[MoviePy] Writing audio in /content/drive/MyDrive/DeepFakeDetection/data/FakeAVCeleb_v1.2/real_videos_train/id01182/00073.wav\n"
          ]
        },
        {
          "output_type": "stream",
          "name": "stderr",
          "text": [
            "100%|██████████| 294/294 [00:00<00:00, 3326.60it/s]"
          ]
        },
        {
          "output_type": "stream",
          "name": "stdout",
          "text": [
            "[MoviePy] Done.\n",
            "Generating file for id id01182\n"
          ]
        },
        {
          "output_type": "stream",
          "name": "stderr",
          "text": [
            "\n"
          ]
        },
        {
          "output_type": "stream",
          "name": "stdout",
          "text": [
            "[MoviePy] Writing audio in /content/drive/MyDrive/DeepFakeDetection/data/FakeAVCeleb_v1.2/real_videos_train/id01182/00074.wav\n"
          ]
        },
        {
          "output_type": "stream",
          "name": "stderr",
          "text": [
            "100%|██████████| 179/179 [00:00<00:00, 3102.54it/s]"
          ]
        },
        {
          "output_type": "stream",
          "name": "stdout",
          "text": [
            "[MoviePy] Done.\n",
            "Generating file for id id01182\n"
          ]
        },
        {
          "output_type": "stream",
          "name": "stderr",
          "text": [
            "\n"
          ]
        },
        {
          "output_type": "stream",
          "name": "stdout",
          "text": [
            "[MoviePy] Writing audio in /content/drive/MyDrive/DeepFakeDetection/data/FakeAVCeleb_v1.2/real_videos_train/id01182/00075.wav\n"
          ]
        },
        {
          "output_type": "stream",
          "name": "stderr",
          "text": [
            "100%|██████████| 101/101 [00:00<00:00, 3115.41it/s]"
          ]
        },
        {
          "output_type": "stream",
          "name": "stdout",
          "text": [
            "[MoviePy] Done.\n",
            "Generating file for id id01182\n"
          ]
        },
        {
          "output_type": "stream",
          "name": "stderr",
          "text": [
            "\n"
          ]
        },
        {
          "output_type": "stream",
          "name": "stdout",
          "text": [
            "[MoviePy] Writing audio in /content/drive/MyDrive/DeepFakeDetection/data/FakeAVCeleb_v1.2/real_videos_train/id01182/00076.wav\n"
          ]
        },
        {
          "output_type": "stream",
          "name": "stderr",
          "text": [
            "100%|██████████| 105/105 [00:00<00:00, 2940.42it/s]"
          ]
        },
        {
          "output_type": "stream",
          "name": "stdout",
          "text": [
            "[MoviePy] Done.\n",
            "Generating file for id id01182\n"
          ]
        },
        {
          "output_type": "stream",
          "name": "stderr",
          "text": [
            "\n"
          ]
        },
        {
          "output_type": "stream",
          "name": "stdout",
          "text": [
            "[MoviePy] Writing audio in /content/drive/MyDrive/DeepFakeDetection/data/FakeAVCeleb_v1.2/real_videos_train/id01182/00078.wav\n"
          ]
        },
        {
          "output_type": "stream",
          "name": "stderr",
          "text": [
            "100%|██████████| 96/96 [00:00<00:00, 3133.37it/s]"
          ]
        },
        {
          "output_type": "stream",
          "name": "stdout",
          "text": [
            "[MoviePy] Done.\n",
            "Generating file for id id01182\n"
          ]
        },
        {
          "output_type": "stream",
          "name": "stderr",
          "text": [
            "\n"
          ]
        },
        {
          "output_type": "stream",
          "name": "stdout",
          "text": [
            "[MoviePy] Writing audio in /content/drive/MyDrive/DeepFakeDetection/data/FakeAVCeleb_v1.2/real_videos_train/id01182/00077.wav\n"
          ]
        },
        {
          "output_type": "stream",
          "name": "stderr",
          "text": [
            "100%|██████████| 128/128 [00:00<00:00, 2786.90it/s]"
          ]
        },
        {
          "output_type": "stream",
          "name": "stdout",
          "text": [
            "[MoviePy] Done.\n",
            "Generating file for id id01182\n"
          ]
        },
        {
          "output_type": "stream",
          "name": "stderr",
          "text": [
            "\n"
          ]
        },
        {
          "output_type": "stream",
          "name": "stdout",
          "text": [
            "[MoviePy] Writing audio in /content/drive/MyDrive/DeepFakeDetection/data/FakeAVCeleb_v1.2/real_videos_train/id01182/00080.wav\n"
          ]
        },
        {
          "output_type": "stream",
          "name": "stderr",
          "text": [
            "\r  0%|          | 0/153 [00:00<?, ?it/s]WARNING:py.warnings:/usr/local/lib/python3.7/dist-packages/moviepy/audio/io/readers.py:198: UserWarning: Error in file /content/drive/MyDrive/DeepFakeDetection/data/FakeAVCeleb_v1.2/real_videos_train/id01182/00080.mp4, At time t=6.85-6.90 seconds, indices wanted: 99698-101686, but len(buffer)=99699\n",
            "index 99699 is out of bounds for axis 0 with size 99699\n",
            "  UserWarning)\n",
            "\n",
            "100%|██████████| 153/153 [00:00<00:00, 3043.79it/s]"
          ]
        },
        {
          "output_type": "stream",
          "name": "stdout",
          "text": [
            "[MoviePy] Done.\n",
            "Generating file for id id01182\n"
          ]
        },
        {
          "output_type": "stream",
          "name": "stderr",
          "text": [
            "\n"
          ]
        },
        {
          "output_type": "stream",
          "name": "stdout",
          "text": [
            "[MoviePy] Writing audio in /content/drive/MyDrive/DeepFakeDetection/data/FakeAVCeleb_v1.2/real_videos_train/id01182/00081.wav\n"
          ]
        },
        {
          "output_type": "stream",
          "name": "stderr",
          "text": [
            "100%|██████████| 131/131 [00:00<00:00, 3000.48it/s]"
          ]
        },
        {
          "output_type": "stream",
          "name": "stdout",
          "text": [
            "[MoviePy] Done.\n",
            "Generating file for id id01182\n"
          ]
        },
        {
          "output_type": "stream",
          "name": "stderr",
          "text": [
            "\n"
          ]
        },
        {
          "output_type": "stream",
          "name": "stdout",
          "text": [
            "[MoviePy] Writing audio in /content/drive/MyDrive/DeepFakeDetection/data/FakeAVCeleb_v1.2/real_videos_train/id01182/00079.wav\n"
          ]
        },
        {
          "output_type": "stream",
          "name": "stderr",
          "text": [
            "100%|██████████| 143/143 [00:00<00:00, 3062.19it/s]"
          ]
        },
        {
          "output_type": "stream",
          "name": "stdout",
          "text": [
            "[MoviePy] Done.\n",
            "Generating file for id id01182\n"
          ]
        },
        {
          "output_type": "stream",
          "name": "stderr",
          "text": [
            "\n"
          ]
        },
        {
          "output_type": "stream",
          "name": "stdout",
          "text": [
            "[MoviePy] Writing audio in /content/drive/MyDrive/DeepFakeDetection/data/FakeAVCeleb_v1.2/real_videos_train/id01182/00082.wav\n"
          ]
        },
        {
          "output_type": "stream",
          "name": "stderr",
          "text": [
            "100%|██████████| 96/96 [00:00<00:00, 3236.06it/s]"
          ]
        },
        {
          "output_type": "stream",
          "name": "stdout",
          "text": [
            "[MoviePy] Done.\n",
            "Generating file for id id01182\n"
          ]
        },
        {
          "output_type": "stream",
          "name": "stderr",
          "text": [
            "\n"
          ]
        },
        {
          "output_type": "stream",
          "name": "stdout",
          "text": [
            "[MoviePy] Writing audio in /content/drive/MyDrive/DeepFakeDetection/data/FakeAVCeleb_v1.2/real_videos_train/id01182/00083.wav\n"
          ]
        },
        {
          "output_type": "stream",
          "name": "stderr",
          "text": [
            "100%|██████████| 281/281 [00:00<00:00, 3349.46it/s]"
          ]
        },
        {
          "output_type": "stream",
          "name": "stdout",
          "text": [
            "[MoviePy] Done.\n",
            "Generating file for id id01182\n"
          ]
        },
        {
          "output_type": "stream",
          "name": "stderr",
          "text": [
            "\n"
          ]
        },
        {
          "output_type": "stream",
          "name": "stdout",
          "text": [
            "[MoviePy] Writing audio in /content/drive/MyDrive/DeepFakeDetection/data/FakeAVCeleb_v1.2/real_videos_train/id01182/00084.wav\n"
          ]
        },
        {
          "output_type": "stream",
          "name": "stderr",
          "text": [
            "100%|██████████| 268/268 [00:00<00:00, 3334.06it/s]"
          ]
        },
        {
          "output_type": "stream",
          "name": "stdout",
          "text": [
            "[MoviePy] Done.\n",
            "Generating file for id id01182\n"
          ]
        },
        {
          "output_type": "stream",
          "name": "stderr",
          "text": [
            "\n"
          ]
        },
        {
          "output_type": "stream",
          "name": "stdout",
          "text": [
            "[MoviePy] Writing audio in /content/drive/MyDrive/DeepFakeDetection/data/FakeAVCeleb_v1.2/real_videos_train/id01182/00085.wav\n"
          ]
        },
        {
          "output_type": "stream",
          "name": "stderr",
          "text": [
            "100%|██████████| 102/102 [00:00<00:00, 2963.10it/s]"
          ]
        },
        {
          "output_type": "stream",
          "name": "stdout",
          "text": [
            "[MoviePy] Done.\n",
            "Generating file for id id01182\n"
          ]
        },
        {
          "output_type": "stream",
          "name": "stderr",
          "text": [
            "\n"
          ]
        },
        {
          "output_type": "stream",
          "name": "stdout",
          "text": [
            "[MoviePy] Writing audio in /content/drive/MyDrive/DeepFakeDetection/data/FakeAVCeleb_v1.2/real_videos_train/id01182/00086.wav\n"
          ]
        },
        {
          "output_type": "stream",
          "name": "stderr",
          "text": [
            "100%|██████████| 181/181 [00:00<00:00, 2968.72it/s]"
          ]
        },
        {
          "output_type": "stream",
          "name": "stdout",
          "text": [
            "[MoviePy] Done.\n",
            "Generating file for id id01182\n"
          ]
        },
        {
          "output_type": "stream",
          "name": "stderr",
          "text": [
            "\n"
          ]
        },
        {
          "output_type": "stream",
          "name": "stdout",
          "text": [
            "[MoviePy] Writing audio in /content/drive/MyDrive/DeepFakeDetection/data/FakeAVCeleb_v1.2/real_videos_train/id01182/00090.wav\n"
          ]
        },
        {
          "output_type": "stream",
          "name": "stderr",
          "text": [
            "100%|██████████| 137/137 [00:00<00:00, 2833.84it/s]"
          ]
        },
        {
          "output_type": "stream",
          "name": "stdout",
          "text": [
            "[MoviePy] Done.\n",
            "Generating file for id id01182\n"
          ]
        },
        {
          "output_type": "stream",
          "name": "stderr",
          "text": [
            "\n"
          ]
        },
        {
          "output_type": "stream",
          "name": "stdout",
          "text": [
            "[MoviePy] Writing audio in /content/drive/MyDrive/DeepFakeDetection/data/FakeAVCeleb_v1.2/real_videos_train/id01182/00092.wav\n"
          ]
        },
        {
          "output_type": "stream",
          "name": "stderr",
          "text": [
            "100%|██████████| 122/122 [00:00<00:00, 3094.94it/s]"
          ]
        },
        {
          "output_type": "stream",
          "name": "stdout",
          "text": [
            "[MoviePy] Done.\n",
            "Generating file for id id01182\n"
          ]
        },
        {
          "output_type": "stream",
          "name": "stderr",
          "text": [
            "\n"
          ]
        },
        {
          "output_type": "stream",
          "name": "stdout",
          "text": [
            "[MoviePy] Writing audio in /content/drive/MyDrive/DeepFakeDetection/data/FakeAVCeleb_v1.2/real_videos_train/id01182/00091.wav\n"
          ]
        },
        {
          "output_type": "stream",
          "name": "stderr",
          "text": [
            "100%|██████████| 139/139 [00:00<00:00, 2913.05it/s]"
          ]
        },
        {
          "output_type": "stream",
          "name": "stdout",
          "text": [
            "[MoviePy] Done.\n",
            "Generating file for id id01182\n"
          ]
        },
        {
          "output_type": "stream",
          "name": "stderr",
          "text": [
            "\n"
          ]
        },
        {
          "output_type": "stream",
          "name": "stdout",
          "text": [
            "[MoviePy] Writing audio in /content/drive/MyDrive/DeepFakeDetection/data/FakeAVCeleb_v1.2/real_videos_train/id01182/00094.wav\n"
          ]
        },
        {
          "output_type": "stream",
          "name": "stderr",
          "text": [
            "100%|██████████| 206/206 [00:00<00:00, 3320.60it/s]"
          ]
        },
        {
          "output_type": "stream",
          "name": "stdout",
          "text": [
            "[MoviePy] Done.\n",
            "Generating file for id id01182\n"
          ]
        },
        {
          "output_type": "stream",
          "name": "stderr",
          "text": [
            "\n"
          ]
        },
        {
          "output_type": "stream",
          "name": "stdout",
          "text": [
            "[MoviePy] Writing audio in /content/drive/MyDrive/DeepFakeDetection/data/FakeAVCeleb_v1.2/real_videos_train/id01182/00095.wav\n"
          ]
        },
        {
          "output_type": "stream",
          "name": "stderr",
          "text": [
            "100%|██████████| 97/97 [00:00<00:00, 3178.47it/s]"
          ]
        },
        {
          "output_type": "stream",
          "name": "stdout",
          "text": [
            "[MoviePy] Done.\n",
            "Generating file for id id01182\n"
          ]
        },
        {
          "output_type": "stream",
          "name": "stderr",
          "text": [
            "\n"
          ]
        },
        {
          "output_type": "stream",
          "name": "stdout",
          "text": [
            "[MoviePy] Writing audio in /content/drive/MyDrive/DeepFakeDetection/data/FakeAVCeleb_v1.2/real_videos_train/id01182/00096.wav\n"
          ]
        },
        {
          "output_type": "stream",
          "name": "stderr",
          "text": [
            "100%|██████████| 207/207 [00:00<00:00, 3097.18it/s]"
          ]
        },
        {
          "output_type": "stream",
          "name": "stdout",
          "text": [
            "[MoviePy] Done.\n",
            "Generating file for id id01182\n"
          ]
        },
        {
          "output_type": "stream",
          "name": "stderr",
          "text": [
            "\n"
          ]
        },
        {
          "output_type": "stream",
          "name": "stdout",
          "text": [
            "[MoviePy] Writing audio in /content/drive/MyDrive/DeepFakeDetection/data/FakeAVCeleb_v1.2/real_videos_train/id01182/00098.wav\n"
          ]
        },
        {
          "output_type": "stream",
          "name": "stderr",
          "text": [
            "100%|██████████| 116/116 [00:00<00:00, 2984.70it/s]"
          ]
        },
        {
          "output_type": "stream",
          "name": "stdout",
          "text": [
            "[MoviePy] Done.\n",
            "Generating file for id id01182\n"
          ]
        },
        {
          "output_type": "stream",
          "name": "stderr",
          "text": [
            "\n"
          ]
        },
        {
          "output_type": "stream",
          "name": "stdout",
          "text": [
            "[MoviePy] Writing audio in /content/drive/MyDrive/DeepFakeDetection/data/FakeAVCeleb_v1.2/real_videos_train/id01182/00099.wav\n"
          ]
        },
        {
          "output_type": "stream",
          "name": "stderr",
          "text": [
            "100%|██████████| 243/243 [00:00<00:00, 3218.52it/s]"
          ]
        },
        {
          "output_type": "stream",
          "name": "stdout",
          "text": [
            "[MoviePy] Done.\n",
            "Generating file for id id01182\n"
          ]
        },
        {
          "output_type": "stream",
          "name": "stderr",
          "text": [
            "\n"
          ]
        },
        {
          "output_type": "stream",
          "name": "stdout",
          "text": [
            "[MoviePy] Writing audio in /content/drive/MyDrive/DeepFakeDetection/data/FakeAVCeleb_v1.2/real_videos_train/id01182/00101.wav\n"
          ]
        },
        {
          "output_type": "stream",
          "name": "stderr",
          "text": [
            "100%|██████████| 121/121 [00:00<00:00, 3058.27it/s]"
          ]
        },
        {
          "output_type": "stream",
          "name": "stdout",
          "text": [
            "[MoviePy] Done.\n",
            "Generating file for id id01182\n"
          ]
        },
        {
          "output_type": "stream",
          "name": "stderr",
          "text": [
            "\n"
          ]
        },
        {
          "output_type": "stream",
          "name": "stdout",
          "text": [
            "[MoviePy] Writing audio in /content/drive/MyDrive/DeepFakeDetection/data/FakeAVCeleb_v1.2/real_videos_train/id01182/00104.wav\n"
          ]
        },
        {
          "output_type": "stream",
          "name": "stderr",
          "text": [
            "100%|██████████| 107/107 [00:00<00:00, 2994.95it/s]"
          ]
        },
        {
          "output_type": "stream",
          "name": "stdout",
          "text": [
            "[MoviePy] Done.\n",
            "Generating file for id id01182\n"
          ]
        },
        {
          "output_type": "stream",
          "name": "stderr",
          "text": [
            "\n"
          ]
        },
        {
          "output_type": "stream",
          "name": "stdout",
          "text": [
            "[MoviePy] Writing audio in /content/drive/MyDrive/DeepFakeDetection/data/FakeAVCeleb_v1.2/real_videos_train/id01182/00106.wav\n"
          ]
        },
        {
          "output_type": "stream",
          "name": "stderr",
          "text": [
            "100%|██████████| 143/143 [00:00<00:00, 3030.24it/s]"
          ]
        },
        {
          "output_type": "stream",
          "name": "stdout",
          "text": [
            "[MoviePy] Done.\n",
            "Generating file for id id01182\n"
          ]
        },
        {
          "output_type": "stream",
          "name": "stderr",
          "text": [
            "\n"
          ]
        },
        {
          "output_type": "stream",
          "name": "stdout",
          "text": [
            "[MoviePy] Writing audio in /content/drive/MyDrive/DeepFakeDetection/data/FakeAVCeleb_v1.2/real_videos_train/id01182/00108.wav\n"
          ]
        },
        {
          "output_type": "stream",
          "name": "stderr",
          "text": [
            "100%|██████████| 148/148 [00:00<00:00, 3081.52it/s]"
          ]
        },
        {
          "output_type": "stream",
          "name": "stdout",
          "text": [
            "[MoviePy] Done.\n",
            "Generating file for id id01182\n"
          ]
        },
        {
          "output_type": "stream",
          "name": "stderr",
          "text": [
            "\n"
          ]
        },
        {
          "output_type": "stream",
          "name": "stdout",
          "text": [
            "[MoviePy] Writing audio in /content/drive/MyDrive/DeepFakeDetection/data/FakeAVCeleb_v1.2/real_videos_train/id01182/00113.wav\n"
          ]
        },
        {
          "output_type": "stream",
          "name": "stderr",
          "text": [
            "100%|██████████| 163/163 [00:00<00:00, 3078.87it/s]"
          ]
        },
        {
          "output_type": "stream",
          "name": "stdout",
          "text": [
            "[MoviePy] Done.\n",
            "Generating file for id id01182\n"
          ]
        },
        {
          "output_type": "stream",
          "name": "stderr",
          "text": [
            "\n"
          ]
        },
        {
          "output_type": "stream",
          "name": "stdout",
          "text": [
            "[MoviePy] Writing audio in /content/drive/MyDrive/DeepFakeDetection/data/FakeAVCeleb_v1.2/real_videos_train/id01182/00112.wav\n"
          ]
        },
        {
          "output_type": "stream",
          "name": "stderr",
          "text": [
            "100%|██████████| 90/90 [00:00<00:00, 3206.65it/s]"
          ]
        },
        {
          "output_type": "stream",
          "name": "stdout",
          "text": [
            "[MoviePy] Done.\n",
            "Generating file for id id01182\n"
          ]
        },
        {
          "output_type": "stream",
          "name": "stderr",
          "text": [
            "\n"
          ]
        },
        {
          "output_type": "stream",
          "name": "stdout",
          "text": [
            "[MoviePy] Writing audio in /content/drive/MyDrive/DeepFakeDetection/data/FakeAVCeleb_v1.2/real_videos_train/id01182/00111.wav\n"
          ]
        },
        {
          "output_type": "stream",
          "name": "stderr",
          "text": [
            "100%|██████████| 102/102 [00:00<00:00, 1812.75it/s]"
          ]
        },
        {
          "output_type": "stream",
          "name": "stdout",
          "text": [
            "[MoviePy] Done.\n",
            "Generating file for id id01182\n"
          ]
        },
        {
          "output_type": "stream",
          "name": "stderr",
          "text": [
            "\n"
          ]
        },
        {
          "output_type": "stream",
          "name": "stdout",
          "text": [
            "[MoviePy] Writing audio in /content/drive/MyDrive/DeepFakeDetection/data/FakeAVCeleb_v1.2/real_videos_train/id01182/00114.wav\n"
          ]
        },
        {
          "output_type": "stream",
          "name": "stderr",
          "text": [
            "100%|██████████| 90/90 [00:00<00:00, 3191.69it/s]"
          ]
        },
        {
          "output_type": "stream",
          "name": "stdout",
          "text": [
            "[MoviePy] Done.\n",
            "Generating file for id id01182\n"
          ]
        },
        {
          "output_type": "stream",
          "name": "stderr",
          "text": [
            "\n"
          ]
        },
        {
          "output_type": "stream",
          "name": "stdout",
          "text": [
            "[MoviePy] Writing audio in /content/drive/MyDrive/DeepFakeDetection/data/FakeAVCeleb_v1.2/real_videos_train/id01182/00115.wav\n"
          ]
        },
        {
          "output_type": "stream",
          "name": "stderr",
          "text": [
            "100%|██████████| 92/92 [00:00<00:00, 3176.95it/s]"
          ]
        },
        {
          "output_type": "stream",
          "name": "stdout",
          "text": [
            "[MoviePy] Done.\n",
            "Generating file for id id01182\n"
          ]
        },
        {
          "output_type": "stream",
          "name": "stderr",
          "text": [
            "\n"
          ]
        },
        {
          "output_type": "stream",
          "name": "stdout",
          "text": [
            "[MoviePy] Writing audio in /content/drive/MyDrive/DeepFakeDetection/data/FakeAVCeleb_v1.2/real_videos_train/id01182/00116.wav\n"
          ]
        },
        {
          "output_type": "stream",
          "name": "stderr",
          "text": [
            "100%|██████████| 95/95 [00:00<00:00, 3257.96it/s]"
          ]
        },
        {
          "output_type": "stream",
          "name": "stdout",
          "text": [
            "[MoviePy] Done.\n",
            "Generating file for id id01182\n"
          ]
        },
        {
          "output_type": "stream",
          "name": "stderr",
          "text": [
            "\n"
          ]
        },
        {
          "output_type": "stream",
          "name": "stdout",
          "text": [
            "[MoviePy] Writing audio in /content/drive/MyDrive/DeepFakeDetection/data/FakeAVCeleb_v1.2/real_videos_train/id01182/00119.wav\n"
          ]
        },
        {
          "output_type": "stream",
          "name": "stderr",
          "text": [
            "100%|██████████| 297/297 [00:00<00:00, 3378.33it/s]"
          ]
        },
        {
          "output_type": "stream",
          "name": "stdout",
          "text": [
            "[MoviePy] Done.\n",
            "Generating file for id id01182\n"
          ]
        },
        {
          "output_type": "stream",
          "name": "stderr",
          "text": [
            "\n"
          ]
        },
        {
          "output_type": "stream",
          "name": "stdout",
          "text": [
            "[MoviePy] Writing audio in /content/drive/MyDrive/DeepFakeDetection/data/FakeAVCeleb_v1.2/real_videos_train/id01182/00121.wav\n"
          ]
        },
        {
          "output_type": "stream",
          "name": "stderr",
          "text": [
            "100%|██████████| 186/186 [00:00<00:00, 3099.23it/s]"
          ]
        },
        {
          "output_type": "stream",
          "name": "stdout",
          "text": [
            "[MoviePy] Done.\n",
            "Generating file for id id01182\n"
          ]
        },
        {
          "output_type": "stream",
          "name": "stderr",
          "text": [
            "\n"
          ]
        },
        {
          "output_type": "stream",
          "name": "stdout",
          "text": [
            "[MoviePy] Writing audio in /content/drive/MyDrive/DeepFakeDetection/data/FakeAVCeleb_v1.2/real_videos_train/id01182/00120.wav\n"
          ]
        },
        {
          "output_type": "stream",
          "name": "stderr",
          "text": [
            "100%|██████████| 102/102 [00:00<00:00, 2899.54it/s]"
          ]
        },
        {
          "output_type": "stream",
          "name": "stdout",
          "text": [
            "[MoviePy] Done.\n",
            "Generating file for id id01182\n"
          ]
        },
        {
          "output_type": "stream",
          "name": "stderr",
          "text": [
            "\n"
          ]
        },
        {
          "output_type": "stream",
          "name": "stdout",
          "text": [
            "[MoviePy] Writing audio in /content/drive/MyDrive/DeepFakeDetection/data/FakeAVCeleb_v1.2/real_videos_train/id01182/00123.wav\n"
          ]
        },
        {
          "output_type": "stream",
          "name": "stderr",
          "text": [
            "100%|██████████| 102/102 [00:00<00:00, 3109.90it/s]"
          ]
        },
        {
          "output_type": "stream",
          "name": "stdout",
          "text": [
            "[MoviePy] Done.\n",
            "Generating file for id id01182\n"
          ]
        },
        {
          "output_type": "stream",
          "name": "stderr",
          "text": [
            "\n"
          ]
        },
        {
          "output_type": "stream",
          "name": "stdout",
          "text": [
            "[MoviePy] Writing audio in /content/drive/MyDrive/DeepFakeDetection/data/FakeAVCeleb_v1.2/real_videos_train/id01182/00126.wav\n"
          ]
        },
        {
          "output_type": "stream",
          "name": "stderr",
          "text": [
            "100%|██████████| 106/106 [00:00<00:00, 3100.18it/s]"
          ]
        },
        {
          "output_type": "stream",
          "name": "stdout",
          "text": [
            "[MoviePy] Done.\n",
            "Generating file for id id01182\n"
          ]
        },
        {
          "output_type": "stream",
          "name": "stderr",
          "text": [
            "\n"
          ]
        },
        {
          "output_type": "stream",
          "name": "stdout",
          "text": [
            "[MoviePy] Writing audio in /content/drive/MyDrive/DeepFakeDetection/data/FakeAVCeleb_v1.2/real_videos_train/id01182/00124.wav\n"
          ]
        },
        {
          "output_type": "stream",
          "name": "stderr",
          "text": [
            "100%|██████████| 154/154 [00:00<00:00, 3202.81it/s]"
          ]
        },
        {
          "output_type": "stream",
          "name": "stdout",
          "text": [
            "[MoviePy] Done.\n",
            "Generating file for id id01182\n"
          ]
        },
        {
          "output_type": "stream",
          "name": "stderr",
          "text": [
            "\n"
          ]
        },
        {
          "output_type": "stream",
          "name": "stdout",
          "text": [
            "[MoviePy] Writing audio in /content/drive/MyDrive/DeepFakeDetection/data/FakeAVCeleb_v1.2/real_videos_train/id01182/00125.wav\n"
          ]
        },
        {
          "output_type": "stream",
          "name": "stderr",
          "text": [
            "100%|██████████| 131/131 [00:00<00:00, 3140.58it/s]"
          ]
        },
        {
          "output_type": "stream",
          "name": "stdout",
          "text": [
            "[MoviePy] Done.\n",
            "Generating file for id id01182\n"
          ]
        },
        {
          "output_type": "stream",
          "name": "stderr",
          "text": [
            "\n"
          ]
        },
        {
          "output_type": "stream",
          "name": "stdout",
          "text": [
            "[MoviePy] Writing audio in /content/drive/MyDrive/DeepFakeDetection/data/FakeAVCeleb_v1.2/real_videos_train/id01182/00128.wav\n"
          ]
        },
        {
          "output_type": "stream",
          "name": "stderr",
          "text": [
            "100%|██████████| 156/156 [00:00<00:00, 3199.71it/s]"
          ]
        },
        {
          "output_type": "stream",
          "name": "stdout",
          "text": [
            "[MoviePy] Done.\n",
            "Generating file for id id01182\n"
          ]
        },
        {
          "output_type": "stream",
          "name": "stderr",
          "text": [
            "\n"
          ]
        },
        {
          "output_type": "stream",
          "name": "stdout",
          "text": [
            "[MoviePy] Writing audio in /content/drive/MyDrive/DeepFakeDetection/data/FakeAVCeleb_v1.2/real_videos_train/id01182/00129.wav\n"
          ]
        },
        {
          "output_type": "stream",
          "name": "stderr",
          "text": [
            "100%|██████████| 118/118 [00:00<00:00, 2795.14it/s]"
          ]
        },
        {
          "output_type": "stream",
          "name": "stdout",
          "text": [
            "[MoviePy] Done.\n",
            "Generating file for id id01182\n"
          ]
        },
        {
          "output_type": "stream",
          "name": "stderr",
          "text": [
            "\n"
          ]
        },
        {
          "output_type": "stream",
          "name": "stdout",
          "text": [
            "[MoviePy] Writing audio in /content/drive/MyDrive/DeepFakeDetection/data/FakeAVCeleb_v1.2/real_videos_train/id01182/00130.wav\n"
          ]
        },
        {
          "output_type": "stream",
          "name": "stderr",
          "text": [
            "100%|██████████| 149/149 [00:00<00:00, 2847.42it/s]"
          ]
        },
        {
          "output_type": "stream",
          "name": "stdout",
          "text": [
            "[MoviePy] Done.\n",
            "Generating file for id id01182\n"
          ]
        },
        {
          "output_type": "stream",
          "name": "stderr",
          "text": [
            "\n"
          ]
        },
        {
          "output_type": "stream",
          "name": "stdout",
          "text": [
            "[MoviePy] Writing audio in /content/drive/MyDrive/DeepFakeDetection/data/FakeAVCeleb_v1.2/real_videos_train/id01182/00131.wav\n"
          ]
        },
        {
          "output_type": "stream",
          "name": "stderr",
          "text": [
            "100%|██████████| 96/96 [00:00<00:00, 3361.75it/s]"
          ]
        },
        {
          "output_type": "stream",
          "name": "stdout",
          "text": [
            "[MoviePy] Done.\n",
            "Generating file for id id01182\n"
          ]
        },
        {
          "output_type": "stream",
          "name": "stderr",
          "text": [
            "\n"
          ]
        },
        {
          "output_type": "stream",
          "name": "stdout",
          "text": [
            "[MoviePy] Writing audio in /content/drive/MyDrive/DeepFakeDetection/data/FakeAVCeleb_v1.2/real_videos_train/id01182/00132.wav\n"
          ]
        },
        {
          "output_type": "stream",
          "name": "stderr",
          "text": [
            "100%|██████████| 101/101 [00:00<00:00, 2896.38it/s]"
          ]
        },
        {
          "output_type": "stream",
          "name": "stdout",
          "text": [
            "[MoviePy] Done.\n",
            "Generating file for id id01182\n"
          ]
        },
        {
          "output_type": "stream",
          "name": "stderr",
          "text": [
            "\n"
          ]
        },
        {
          "output_type": "stream",
          "name": "stdout",
          "text": [
            "[MoviePy] Writing audio in /content/drive/MyDrive/DeepFakeDetection/data/FakeAVCeleb_v1.2/real_videos_train/id01182/00134.wav\n"
          ]
        },
        {
          "output_type": "stream",
          "name": "stderr",
          "text": [
            "100%|██████████| 160/160 [00:00<00:00, 2979.87it/s]"
          ]
        },
        {
          "output_type": "stream",
          "name": "stdout",
          "text": [
            "[MoviePy] Done.\n",
            "Generating file for id id01182\n"
          ]
        },
        {
          "output_type": "stream",
          "name": "stderr",
          "text": [
            "\n"
          ]
        },
        {
          "output_type": "stream",
          "name": "stdout",
          "text": [
            "[MoviePy] Writing audio in /content/drive/MyDrive/DeepFakeDetection/data/FakeAVCeleb_v1.2/real_videos_train/id01182/00136.wav\n"
          ]
        },
        {
          "output_type": "stream",
          "name": "stderr",
          "text": [
            "100%|██████████| 97/97 [00:00<00:00, 3088.82it/s]"
          ]
        },
        {
          "output_type": "stream",
          "name": "stdout",
          "text": [
            "[MoviePy] Done.\n",
            "Generating file for id id01182\n"
          ]
        },
        {
          "output_type": "stream",
          "name": "stderr",
          "text": [
            "\n"
          ]
        },
        {
          "output_type": "stream",
          "name": "stdout",
          "text": [
            "[MoviePy] Writing audio in /content/drive/MyDrive/DeepFakeDetection/data/FakeAVCeleb_v1.2/real_videos_train/id01182/00137.wav\n"
          ]
        },
        {
          "output_type": "stream",
          "name": "stderr",
          "text": [
            "100%|██████████| 100/100 [00:00<00:00, 3268.65it/s]"
          ]
        },
        {
          "output_type": "stream",
          "name": "stdout",
          "text": [
            "[MoviePy] Done.\n",
            "Generating file for id id01182\n"
          ]
        },
        {
          "output_type": "stream",
          "name": "stderr",
          "text": [
            "\n"
          ]
        },
        {
          "output_type": "stream",
          "name": "stdout",
          "text": [
            "[MoviePy] Writing audio in /content/drive/MyDrive/DeepFakeDetection/data/FakeAVCeleb_v1.2/real_videos_train/id01182/00139.wav\n"
          ]
        },
        {
          "output_type": "stream",
          "name": "stderr",
          "text": [
            "100%|██████████| 106/106 [00:00<00:00, 2995.14it/s]"
          ]
        },
        {
          "output_type": "stream",
          "name": "stdout",
          "text": [
            "[MoviePy] Done.\n",
            "Generating file for id id01182\n"
          ]
        },
        {
          "output_type": "stream",
          "name": "stderr",
          "text": [
            "\n"
          ]
        },
        {
          "output_type": "stream",
          "name": "stdout",
          "text": [
            "[MoviePy] Writing audio in /content/drive/MyDrive/DeepFakeDetection/data/FakeAVCeleb_v1.2/real_videos_train/id01182/00141.wav\n"
          ]
        },
        {
          "output_type": "stream",
          "name": "stderr",
          "text": [
            "100%|██████████| 89/89 [00:00<00:00, 3051.45it/s]"
          ]
        },
        {
          "output_type": "stream",
          "name": "stdout",
          "text": [
            "[MoviePy] Done.\n",
            "Generating file for id id01182\n"
          ]
        },
        {
          "output_type": "stream",
          "name": "stderr",
          "text": [
            "\n"
          ]
        },
        {
          "output_type": "stream",
          "name": "stdout",
          "text": [
            "[MoviePy] Writing audio in /content/drive/MyDrive/DeepFakeDetection/data/FakeAVCeleb_v1.2/real_videos_train/id01182/00143.wav\n"
          ]
        },
        {
          "output_type": "stream",
          "name": "stderr",
          "text": [
            "100%|██████████| 129/129 [00:00<00:00, 2340.05it/s]"
          ]
        },
        {
          "output_type": "stream",
          "name": "stdout",
          "text": [
            "[MoviePy] Done.\n",
            "Generating file for id id01182\n"
          ]
        },
        {
          "output_type": "stream",
          "name": "stderr",
          "text": [
            "\n"
          ]
        },
        {
          "output_type": "stream",
          "name": "stdout",
          "text": [
            "[MoviePy] Writing audio in /content/drive/MyDrive/DeepFakeDetection/data/FakeAVCeleb_v1.2/real_videos_train/id01182/00144.wav\n"
          ]
        },
        {
          "output_type": "stream",
          "name": "stderr",
          "text": [
            "100%|██████████| 173/173 [00:00<00:00, 3110.39it/s]"
          ]
        },
        {
          "output_type": "stream",
          "name": "stdout",
          "text": [
            "[MoviePy] Done.\n",
            "Generating file for id id01182\n"
          ]
        },
        {
          "output_type": "stream",
          "name": "stderr",
          "text": [
            "\n"
          ]
        },
        {
          "output_type": "stream",
          "name": "stdout",
          "text": [
            "[MoviePy] Writing audio in /content/drive/MyDrive/DeepFakeDetection/data/FakeAVCeleb_v1.2/real_videos_train/id01182/00145.wav\n"
          ]
        },
        {
          "output_type": "stream",
          "name": "stderr",
          "text": [
            "100%|██████████| 391/391 [00:00<00:00, 3316.33it/s]"
          ]
        },
        {
          "output_type": "stream",
          "name": "stdout",
          "text": [
            "[MoviePy] Done.\n",
            "Generating file for id id01182\n"
          ]
        },
        {
          "output_type": "stream",
          "name": "stderr",
          "text": [
            "\n"
          ]
        },
        {
          "output_type": "stream",
          "name": "stdout",
          "text": [
            "[MoviePy] Writing audio in /content/drive/MyDrive/DeepFakeDetection/data/FakeAVCeleb_v1.2/real_videos_train/id01182/00148.wav\n"
          ]
        },
        {
          "output_type": "stream",
          "name": "stderr",
          "text": [
            "100%|██████████| 198/198 [00:00<00:00, 3203.48it/s]"
          ]
        },
        {
          "output_type": "stream",
          "name": "stdout",
          "text": [
            "[MoviePy] Done.\n",
            "Generating file for id id01182\n"
          ]
        },
        {
          "output_type": "stream",
          "name": "stderr",
          "text": [
            "\n"
          ]
        },
        {
          "output_type": "stream",
          "name": "stdout",
          "text": [
            "[MoviePy] Writing audio in /content/drive/MyDrive/DeepFakeDetection/data/FakeAVCeleb_v1.2/real_videos_train/id01182/00147.wav\n"
          ]
        },
        {
          "output_type": "stream",
          "name": "stderr",
          "text": [
            "100%|██████████| 204/204 [00:00<00:00, 3303.26it/s]"
          ]
        },
        {
          "output_type": "stream",
          "name": "stdout",
          "text": [
            "[MoviePy] Done.\n",
            "Generating file for id id01182\n"
          ]
        },
        {
          "output_type": "stream",
          "name": "stderr",
          "text": [
            "\n"
          ]
        },
        {
          "output_type": "stream",
          "name": "stdout",
          "text": [
            "[MoviePy] Writing audio in /content/drive/MyDrive/DeepFakeDetection/data/FakeAVCeleb_v1.2/real_videos_train/id01182/00160.wav\n"
          ]
        },
        {
          "output_type": "stream",
          "name": "stderr",
          "text": [
            "100%|██████████| 116/116 [00:00<00:00, 2998.83it/s]"
          ]
        },
        {
          "output_type": "stream",
          "name": "stdout",
          "text": [
            "[MoviePy] Done.\n",
            "Generating file for id id01182\n"
          ]
        },
        {
          "output_type": "stream",
          "name": "stderr",
          "text": [
            "\n"
          ]
        },
        {
          "output_type": "stream",
          "name": "stdout",
          "text": [
            "[MoviePy] Writing audio in /content/drive/MyDrive/DeepFakeDetection/data/FakeAVCeleb_v1.2/real_videos_train/id01182/00159.wav\n"
          ]
        },
        {
          "output_type": "stream",
          "name": "stderr",
          "text": [
            "100%|██████████| 91/91 [00:00<00:00, 2691.48it/s]"
          ]
        },
        {
          "output_type": "stream",
          "name": "stdout",
          "text": [
            "[MoviePy] Done.\n",
            "Generating file for id id01182\n"
          ]
        },
        {
          "output_type": "stream",
          "name": "stderr",
          "text": [
            "\n"
          ]
        },
        {
          "output_type": "stream",
          "name": "stdout",
          "text": [
            "[MoviePy] Writing audio in /content/drive/MyDrive/DeepFakeDetection/data/FakeAVCeleb_v1.2/real_videos_train/id01182/00161.wav\n"
          ]
        },
        {
          "output_type": "stream",
          "name": "stderr",
          "text": [
            "100%|██████████| 109/109 [00:00<00:00, 3071.74it/s]"
          ]
        },
        {
          "output_type": "stream",
          "name": "stdout",
          "text": [
            "[MoviePy] Done.\n",
            "Generating file for id id01182\n"
          ]
        },
        {
          "output_type": "stream",
          "name": "stderr",
          "text": [
            "\n"
          ]
        },
        {
          "output_type": "stream",
          "name": "stdout",
          "text": [
            "[MoviePy] Writing audio in /content/drive/MyDrive/DeepFakeDetection/data/FakeAVCeleb_v1.2/real_videos_train/id01182/00162.wav\n"
          ]
        },
        {
          "output_type": "stream",
          "name": "stderr",
          "text": [
            "100%|██████████| 94/94 [00:00<00:00, 3181.66it/s]"
          ]
        },
        {
          "output_type": "stream",
          "name": "stdout",
          "text": [
            "[MoviePy] Done.\n",
            "Generating file for id id01182\n"
          ]
        },
        {
          "output_type": "stream",
          "name": "stderr",
          "text": [
            "\n"
          ]
        },
        {
          "output_type": "stream",
          "name": "stdout",
          "text": [
            "[MoviePy] Writing audio in /content/drive/MyDrive/DeepFakeDetection/data/FakeAVCeleb_v1.2/real_videos_train/id01182/00164.wav\n"
          ]
        },
        {
          "output_type": "stream",
          "name": "stderr",
          "text": [
            "100%|██████████| 91/91 [00:00<00:00, 2809.58it/s]"
          ]
        },
        {
          "output_type": "stream",
          "name": "stdout",
          "text": [
            "[MoviePy] Done.\n",
            "Generating file for id id01182\n"
          ]
        },
        {
          "output_type": "stream",
          "name": "stderr",
          "text": [
            "\n"
          ]
        },
        {
          "output_type": "stream",
          "name": "stdout",
          "text": [
            "[MoviePy] Writing audio in /content/drive/MyDrive/DeepFakeDetection/data/FakeAVCeleb_v1.2/real_videos_train/id01182/00163.wav\n"
          ]
        },
        {
          "output_type": "stream",
          "name": "stderr",
          "text": [
            "100%|██████████| 213/213 [00:00<00:00, 3214.85it/s]"
          ]
        },
        {
          "output_type": "stream",
          "name": "stdout",
          "text": [
            "[MoviePy] Done.\n",
            "Generating file for id id01182\n"
          ]
        },
        {
          "output_type": "stream",
          "name": "stderr",
          "text": [
            "\n"
          ]
        },
        {
          "output_type": "stream",
          "name": "stdout",
          "text": [
            "[MoviePy] Writing audio in /content/drive/MyDrive/DeepFakeDetection/data/FakeAVCeleb_v1.2/real_videos_train/id01182/00165.wav\n"
          ]
        },
        {
          "output_type": "stream",
          "name": "stderr",
          "text": [
            "100%|██████████| 221/221 [00:00<00:00, 3269.81it/s]"
          ]
        },
        {
          "output_type": "stream",
          "name": "stdout",
          "text": [
            "[MoviePy] Done.\n",
            "Generating file for id id01182\n"
          ]
        },
        {
          "output_type": "stream",
          "name": "stderr",
          "text": [
            "\n"
          ]
        },
        {
          "output_type": "stream",
          "name": "stdout",
          "text": [
            "[MoviePy] Writing audio in /content/drive/MyDrive/DeepFakeDetection/data/FakeAVCeleb_v1.2/real_videos_train/id01182/00167.wav\n"
          ]
        },
        {
          "output_type": "stream",
          "name": "stderr",
          "text": [
            "100%|██████████| 171/171 [00:00<00:00, 3144.94it/s]"
          ]
        },
        {
          "output_type": "stream",
          "name": "stdout",
          "text": [
            "[MoviePy] Done.\n",
            "Generating file for id id01182\n"
          ]
        },
        {
          "output_type": "stream",
          "name": "stderr",
          "text": [
            "\n"
          ]
        },
        {
          "output_type": "stream",
          "name": "stdout",
          "text": [
            "[MoviePy] Writing audio in /content/drive/MyDrive/DeepFakeDetection/data/FakeAVCeleb_v1.2/real_videos_train/id01182/00169.wav\n"
          ]
        },
        {
          "output_type": "stream",
          "name": "stderr",
          "text": [
            "100%|██████████| 136/136 [00:00<00:00, 3166.39it/s]"
          ]
        },
        {
          "output_type": "stream",
          "name": "stdout",
          "text": [
            "[MoviePy] Done.\n",
            "Generating file for id id01610\n"
          ]
        },
        {
          "output_type": "stream",
          "name": "stderr",
          "text": [
            "\n"
          ]
        },
        {
          "output_type": "stream",
          "name": "stdout",
          "text": [
            "[MoviePy] Writing audio in /content/drive/MyDrive/DeepFakeDetection/data/FakeAVCeleb_v1.2/real_videos_train/id01610/00001.wav\n"
          ]
        },
        {
          "output_type": "stream",
          "name": "stderr",
          "text": [
            "100%|██████████| 124/124 [00:00<00:00, 2766.65it/s]"
          ]
        },
        {
          "output_type": "stream",
          "name": "stdout",
          "text": [
            "[MoviePy] Done.\n",
            "Generating file for id id01610\n"
          ]
        },
        {
          "output_type": "stream",
          "name": "stderr",
          "text": [
            "\n"
          ]
        },
        {
          "output_type": "stream",
          "name": "stdout",
          "text": [
            "[MoviePy] Writing audio in /content/drive/MyDrive/DeepFakeDetection/data/FakeAVCeleb_v1.2/real_videos_train/id01610/00005.wav\n"
          ]
        },
        {
          "output_type": "stream",
          "name": "stderr",
          "text": [
            "100%|██████████| 125/125 [00:00<00:00, 2858.49it/s]"
          ]
        },
        {
          "output_type": "stream",
          "name": "stdout",
          "text": [
            "[MoviePy] Done.\n",
            "Generating file for id id01610\n"
          ]
        },
        {
          "output_type": "stream",
          "name": "stderr",
          "text": [
            "\n"
          ]
        },
        {
          "output_type": "stream",
          "name": "stdout",
          "text": [
            "[MoviePy] Writing audio in /content/drive/MyDrive/DeepFakeDetection/data/FakeAVCeleb_v1.2/real_videos_train/id01610/00012.wav\n"
          ]
        },
        {
          "output_type": "stream",
          "name": "stderr",
          "text": [
            "100%|██████████| 155/155 [00:00<00:00, 3153.92it/s]"
          ]
        },
        {
          "output_type": "stream",
          "name": "stdout",
          "text": [
            "[MoviePy] Done.\n",
            "Generating file for id id01610\n"
          ]
        },
        {
          "output_type": "stream",
          "name": "stderr",
          "text": [
            "\n"
          ]
        },
        {
          "output_type": "stream",
          "name": "stdout",
          "text": [
            "[MoviePy] Writing audio in /content/drive/MyDrive/DeepFakeDetection/data/FakeAVCeleb_v1.2/real_videos_train/id01610/00013.wav\n"
          ]
        },
        {
          "output_type": "stream",
          "name": "stderr",
          "text": [
            "100%|██████████| 209/209 [00:00<00:00, 3186.69it/s]"
          ]
        },
        {
          "output_type": "stream",
          "name": "stdout",
          "text": [
            "[MoviePy] Done.\n",
            "Generating file for id id01610\n"
          ]
        },
        {
          "output_type": "stream",
          "name": "stderr",
          "text": [
            "\n"
          ]
        },
        {
          "output_type": "stream",
          "name": "stdout",
          "text": [
            "[MoviePy] Writing audio in /content/drive/MyDrive/DeepFakeDetection/data/FakeAVCeleb_v1.2/real_videos_train/id01610/00019.wav\n"
          ]
        },
        {
          "output_type": "stream",
          "name": "stderr",
          "text": [
            "100%|██████████| 362/362 [00:00<00:00, 3261.96it/s]"
          ]
        },
        {
          "output_type": "stream",
          "name": "stdout",
          "text": [
            "[MoviePy] Done.\n",
            "Generating file for id id01610\n"
          ]
        },
        {
          "output_type": "stream",
          "name": "stderr",
          "text": [
            "\n"
          ]
        },
        {
          "output_type": "stream",
          "name": "stdout",
          "text": [
            "[MoviePy] Writing audio in /content/drive/MyDrive/DeepFakeDetection/data/FakeAVCeleb_v1.2/real_videos_train/id01610/00018.wav\n"
          ]
        },
        {
          "output_type": "stream",
          "name": "stderr",
          "text": [
            "100%|██████████| 103/103 [00:00<00:00, 2907.13it/s]"
          ]
        },
        {
          "output_type": "stream",
          "name": "stdout",
          "text": [
            "[MoviePy] Done.\n",
            "Generating file for id id01610\n"
          ]
        },
        {
          "output_type": "stream",
          "name": "stderr",
          "text": [
            "\n"
          ]
        },
        {
          "output_type": "stream",
          "name": "stdout",
          "text": [
            "[MoviePy] Writing audio in /content/drive/MyDrive/DeepFakeDetection/data/FakeAVCeleb_v1.2/real_videos_train/id01610/00020.wav\n"
          ]
        },
        {
          "output_type": "stream",
          "name": "stderr",
          "text": [
            "100%|██████████| 217/217 [00:00<00:00, 3153.82it/s]"
          ]
        },
        {
          "output_type": "stream",
          "name": "stdout",
          "text": [
            "[MoviePy] Done.\n",
            "Generating file for id id01610\n"
          ]
        },
        {
          "output_type": "stream",
          "name": "stderr",
          "text": [
            "\n"
          ]
        },
        {
          "output_type": "stream",
          "name": "stdout",
          "text": [
            "[MoviePy] Writing audio in /content/drive/MyDrive/DeepFakeDetection/data/FakeAVCeleb_v1.2/real_videos_train/id01610/00021.wav\n"
          ]
        },
        {
          "output_type": "stream",
          "name": "stderr",
          "text": [
            "100%|██████████| 196/196 [00:00<00:00, 3225.02it/s]"
          ]
        },
        {
          "output_type": "stream",
          "name": "stdout",
          "text": [
            "[MoviePy] Done.\n",
            "Generating file for id id01610\n"
          ]
        },
        {
          "output_type": "stream",
          "name": "stderr",
          "text": [
            "\n"
          ]
        },
        {
          "output_type": "stream",
          "name": "stdout",
          "text": [
            "[MoviePy] Writing audio in /content/drive/MyDrive/DeepFakeDetection/data/FakeAVCeleb_v1.2/real_videos_train/id01610/00022.wav\n"
          ]
        },
        {
          "output_type": "stream",
          "name": "stderr",
          "text": [
            "100%|██████████| 303/303 [00:00<00:00, 3347.35it/s]"
          ]
        },
        {
          "output_type": "stream",
          "name": "stdout",
          "text": [
            "[MoviePy] Done.\n",
            "Generating file for id id01610\n"
          ]
        },
        {
          "output_type": "stream",
          "name": "stderr",
          "text": [
            "\n"
          ]
        },
        {
          "output_type": "stream",
          "name": "stdout",
          "text": [
            "[MoviePy] Writing audio in /content/drive/MyDrive/DeepFakeDetection/data/FakeAVCeleb_v1.2/real_videos_train/id01610/00023.wav\n"
          ]
        },
        {
          "output_type": "stream",
          "name": "stderr",
          "text": [
            "100%|██████████| 93/93 [00:00<00:00, 3213.63it/s]"
          ]
        },
        {
          "output_type": "stream",
          "name": "stdout",
          "text": [
            "[MoviePy] Done.\n",
            "Generating file for id id01610\n"
          ]
        },
        {
          "output_type": "stream",
          "name": "stderr",
          "text": [
            "\n"
          ]
        },
        {
          "output_type": "stream",
          "name": "stdout",
          "text": [
            "[MoviePy] Writing audio in /content/drive/MyDrive/DeepFakeDetection/data/FakeAVCeleb_v1.2/real_videos_train/id01610/00024.wav\n"
          ]
        },
        {
          "output_type": "stream",
          "name": "stderr",
          "text": [
            "100%|██████████| 101/101 [00:00<00:00, 3150.91it/s]"
          ]
        },
        {
          "output_type": "stream",
          "name": "stdout",
          "text": [
            "[MoviePy] Done.\n",
            "Generating file for id id01610\n"
          ]
        },
        {
          "output_type": "stream",
          "name": "stderr",
          "text": [
            "\n"
          ]
        },
        {
          "output_type": "stream",
          "name": "stdout",
          "text": [
            "[MoviePy] Writing audio in /content/drive/MyDrive/DeepFakeDetection/data/FakeAVCeleb_v1.2/real_videos_train/id01610/00025.wav\n"
          ]
        },
        {
          "output_type": "stream",
          "name": "stderr",
          "text": [
            "100%|██████████| 146/146 [00:00<00:00, 2824.43it/s]"
          ]
        },
        {
          "output_type": "stream",
          "name": "stdout",
          "text": [
            "[MoviePy] Done.\n",
            "Generating file for id id01610\n"
          ]
        },
        {
          "output_type": "stream",
          "name": "stderr",
          "text": [
            "\n"
          ]
        },
        {
          "output_type": "stream",
          "name": "stdout",
          "text": [
            "[MoviePy] Writing audio in /content/drive/MyDrive/DeepFakeDetection/data/FakeAVCeleb_v1.2/real_videos_train/id01610/00026.wav\n"
          ]
        },
        {
          "output_type": "stream",
          "name": "stderr",
          "text": [
            "100%|██████████| 307/307 [00:00<00:00, 3396.47it/s]"
          ]
        },
        {
          "output_type": "stream",
          "name": "stdout",
          "text": [
            "[MoviePy] Done.\n",
            "Generating file for id id01610\n"
          ]
        },
        {
          "output_type": "stream",
          "name": "stderr",
          "text": [
            "\n"
          ]
        },
        {
          "output_type": "stream",
          "name": "stdout",
          "text": [
            "[MoviePy] Writing audio in /content/drive/MyDrive/DeepFakeDetection/data/FakeAVCeleb_v1.2/real_videos_train/id01610/00028.wav\n"
          ]
        },
        {
          "output_type": "stream",
          "name": "stderr",
          "text": [
            "100%|██████████| 92/92 [00:00<00:00, 3228.84it/s]"
          ]
        },
        {
          "output_type": "stream",
          "name": "stdout",
          "text": [
            "[MoviePy] Done.\n",
            "Generating file for id id01610\n"
          ]
        },
        {
          "output_type": "stream",
          "name": "stderr",
          "text": [
            "\n"
          ]
        },
        {
          "output_type": "stream",
          "name": "stdout",
          "text": [
            "[MoviePy] Writing audio in /content/drive/MyDrive/DeepFakeDetection/data/FakeAVCeleb_v1.2/real_videos_train/id01610/00027.wav\n"
          ]
        },
        {
          "output_type": "stream",
          "name": "stderr",
          "text": [
            "100%|██████████| 105/105 [00:00<00:00, 3185.62it/s]"
          ]
        },
        {
          "output_type": "stream",
          "name": "stdout",
          "text": [
            "[MoviePy] Done.\n",
            "Generating file for id id01610\n"
          ]
        },
        {
          "output_type": "stream",
          "name": "stderr",
          "text": [
            "\n"
          ]
        },
        {
          "output_type": "stream",
          "name": "stdout",
          "text": [
            "[MoviePy] Writing audio in /content/drive/MyDrive/DeepFakeDetection/data/FakeAVCeleb_v1.2/real_videos_train/id01610/00030.wav\n"
          ]
        },
        {
          "output_type": "stream",
          "name": "stderr",
          "text": [
            "100%|██████████| 274/274 [00:00<00:00, 3209.88it/s]"
          ]
        },
        {
          "output_type": "stream",
          "name": "stdout",
          "text": [
            "[MoviePy] Done.\n",
            "Generating file for id id01610\n"
          ]
        },
        {
          "output_type": "stream",
          "name": "stderr",
          "text": [
            "\n"
          ]
        },
        {
          "output_type": "stream",
          "name": "stdout",
          "text": [
            "[MoviePy] Writing audio in /content/drive/MyDrive/DeepFakeDetection/data/FakeAVCeleb_v1.2/real_videos_train/id01610/00029.wav\n"
          ]
        },
        {
          "output_type": "stream",
          "name": "stderr",
          "text": [
            "100%|██████████| 112/112 [00:00<00:00, 2909.48it/s]"
          ]
        },
        {
          "output_type": "stream",
          "name": "stdout",
          "text": [
            "[MoviePy] Done.\n",
            "Generating file for id id01610\n"
          ]
        },
        {
          "output_type": "stream",
          "name": "stderr",
          "text": [
            "\n"
          ]
        },
        {
          "output_type": "stream",
          "name": "stdout",
          "text": [
            "[MoviePy] Writing audio in /content/drive/MyDrive/DeepFakeDetection/data/FakeAVCeleb_v1.2/real_videos_train/id01610/00036.wav\n"
          ]
        },
        {
          "output_type": "stream",
          "name": "stderr",
          "text": [
            "100%|██████████| 152/152 [00:00<00:00, 3192.01it/s]"
          ]
        },
        {
          "output_type": "stream",
          "name": "stdout",
          "text": [
            "[MoviePy] Done.\n",
            "Generating file for id id01610\n"
          ]
        },
        {
          "output_type": "stream",
          "name": "stderr",
          "text": [
            "\n"
          ]
        },
        {
          "output_type": "stream",
          "name": "stdout",
          "text": [
            "[MoviePy] Writing audio in /content/drive/MyDrive/DeepFakeDetection/data/FakeAVCeleb_v1.2/real_videos_train/id01610/00035.wav\n"
          ]
        },
        {
          "output_type": "stream",
          "name": "stderr",
          "text": [
            "100%|██████████| 186/186 [00:00<00:00, 2956.00it/s]"
          ]
        },
        {
          "output_type": "stream",
          "name": "stdout",
          "text": [
            "[MoviePy] Done.\n",
            "Generating file for id id01610\n"
          ]
        },
        {
          "output_type": "stream",
          "name": "stderr",
          "text": [
            "\n"
          ]
        },
        {
          "output_type": "stream",
          "name": "stdout",
          "text": [
            "[MoviePy] Writing audio in /content/drive/MyDrive/DeepFakeDetection/data/FakeAVCeleb_v1.2/real_videos_train/id01610/00038.wav\n"
          ]
        },
        {
          "output_type": "stream",
          "name": "stderr",
          "text": [
            "100%|██████████| 128/128 [00:00<00:00, 2778.53it/s]"
          ]
        },
        {
          "output_type": "stream",
          "name": "stdout",
          "text": [
            "[MoviePy] Done.\n",
            "Generating file for id id01610\n"
          ]
        },
        {
          "output_type": "stream",
          "name": "stderr",
          "text": [
            "\n"
          ]
        },
        {
          "output_type": "stream",
          "name": "stdout",
          "text": [
            "[MoviePy] Writing audio in /content/drive/MyDrive/DeepFakeDetection/data/FakeAVCeleb_v1.2/real_videos_train/id01610/00039.wav\n"
          ]
        },
        {
          "output_type": "stream",
          "name": "stderr",
          "text": [
            "100%|██████████| 185/185 [00:00<00:00, 2935.59it/s]"
          ]
        },
        {
          "output_type": "stream",
          "name": "stdout",
          "text": [
            "[MoviePy] Done.\n",
            "Generating file for id id01610\n"
          ]
        },
        {
          "output_type": "stream",
          "name": "stderr",
          "text": [
            "\n"
          ]
        },
        {
          "output_type": "stream",
          "name": "stdout",
          "text": [
            "[MoviePy] Writing audio in /content/drive/MyDrive/DeepFakeDetection/data/FakeAVCeleb_v1.2/real_videos_train/id01610/00040.wav\n"
          ]
        },
        {
          "output_type": "stream",
          "name": "stderr",
          "text": [
            "100%|██████████| 142/142 [00:00<00:00, 2697.83it/s]"
          ]
        },
        {
          "output_type": "stream",
          "name": "stdout",
          "text": [
            "[MoviePy] Done.\n",
            "Generating file for id id01610\n"
          ]
        },
        {
          "output_type": "stream",
          "name": "stderr",
          "text": [
            "\n"
          ]
        },
        {
          "output_type": "stream",
          "name": "stdout",
          "text": [
            "[MoviePy] Writing audio in /content/drive/MyDrive/DeepFakeDetection/data/FakeAVCeleb_v1.2/real_videos_train/id01610/00049.wav\n"
          ]
        },
        {
          "output_type": "stream",
          "name": "stderr",
          "text": [
            "100%|██████████| 94/94 [00:00<00:00, 3058.71it/s]"
          ]
        },
        {
          "output_type": "stream",
          "name": "stdout",
          "text": [
            "[MoviePy] Done.\n",
            "Generating file for id id01610\n"
          ]
        },
        {
          "output_type": "stream",
          "name": "stderr",
          "text": [
            "\n"
          ]
        },
        {
          "output_type": "stream",
          "name": "stdout",
          "text": [
            "[MoviePy] Writing audio in /content/drive/MyDrive/DeepFakeDetection/data/FakeAVCeleb_v1.2/real_videos_train/id01610/00052.wav\n"
          ]
        },
        {
          "output_type": "stream",
          "name": "stderr",
          "text": [
            "100%|██████████| 115/115 [00:00<00:00, 2886.24it/s]"
          ]
        },
        {
          "output_type": "stream",
          "name": "stdout",
          "text": [
            "[MoviePy] Done.\n",
            "Generating file for id id01610\n"
          ]
        },
        {
          "output_type": "stream",
          "name": "stderr",
          "text": [
            "\n"
          ]
        },
        {
          "output_type": "stream",
          "name": "stdout",
          "text": [
            "[MoviePy] Writing audio in /content/drive/MyDrive/DeepFakeDetection/data/FakeAVCeleb_v1.2/real_videos_train/id01610/00056.wav\n"
          ]
        },
        {
          "output_type": "stream",
          "name": "stderr",
          "text": [
            "100%|██████████| 127/127 [00:00<00:00, 3102.55it/s]"
          ]
        },
        {
          "output_type": "stream",
          "name": "stdout",
          "text": [
            "[MoviePy] Done.\n",
            "Generating file for id id01610\n"
          ]
        },
        {
          "output_type": "stream",
          "name": "stderr",
          "text": [
            "\n"
          ]
        },
        {
          "output_type": "stream",
          "name": "stdout",
          "text": [
            "[MoviePy] Writing audio in /content/drive/MyDrive/DeepFakeDetection/data/FakeAVCeleb_v1.2/real_videos_train/id01610/00057.wav\n"
          ]
        },
        {
          "output_type": "stream",
          "name": "stderr",
          "text": [
            "100%|██████████| 98/98 [00:00<00:00, 3077.49it/s]"
          ]
        },
        {
          "output_type": "stream",
          "name": "stdout",
          "text": [
            "[MoviePy] Done.\n",
            "Generating file for id id01610\n"
          ]
        },
        {
          "output_type": "stream",
          "name": "stderr",
          "text": [
            "\n"
          ]
        },
        {
          "output_type": "stream",
          "name": "stdout",
          "text": [
            "[MoviePy] Writing audio in /content/drive/MyDrive/DeepFakeDetection/data/FakeAVCeleb_v1.2/real_videos_train/id01610/00058.wav\n"
          ]
        },
        {
          "output_type": "stream",
          "name": "stderr",
          "text": [
            "100%|██████████| 122/122 [00:00<00:00, 2961.60it/s]"
          ]
        },
        {
          "output_type": "stream",
          "name": "stdout",
          "text": [
            "[MoviePy] Done.\n",
            "Generating file for id id01610\n"
          ]
        },
        {
          "output_type": "stream",
          "name": "stderr",
          "text": [
            "\n"
          ]
        },
        {
          "output_type": "stream",
          "name": "stdout",
          "text": [
            "[MoviePy] Writing audio in /content/drive/MyDrive/DeepFakeDetection/data/FakeAVCeleb_v1.2/real_videos_train/id01610/00060.wav\n"
          ]
        },
        {
          "output_type": "stream",
          "name": "stderr",
          "text": [
            "100%|██████████| 189/189 [00:00<00:00, 2906.63it/s]"
          ]
        },
        {
          "output_type": "stream",
          "name": "stdout",
          "text": [
            "[MoviePy] Done.\n",
            "Generating file for id id01610\n"
          ]
        },
        {
          "output_type": "stream",
          "name": "stderr",
          "text": [
            "\n"
          ]
        },
        {
          "output_type": "stream",
          "name": "stdout",
          "text": [
            "[MoviePy] Writing audio in /content/drive/MyDrive/DeepFakeDetection/data/FakeAVCeleb_v1.2/real_videos_train/id01610/00062.wav\n"
          ]
        },
        {
          "output_type": "stream",
          "name": "stderr",
          "text": [
            "100%|██████████| 140/140 [00:00<00:00, 3076.16it/s]"
          ]
        },
        {
          "output_type": "stream",
          "name": "stdout",
          "text": [
            "[MoviePy] Done.\n",
            "Generating file for id id01610\n"
          ]
        },
        {
          "output_type": "stream",
          "name": "stderr",
          "text": [
            "\n"
          ]
        },
        {
          "output_type": "stream",
          "name": "stdout",
          "text": [
            "[MoviePy] Writing audio in /content/drive/MyDrive/DeepFakeDetection/data/FakeAVCeleb_v1.2/real_videos_train/id01610/00061.wav\n"
          ]
        },
        {
          "output_type": "stream",
          "name": "stderr",
          "text": [
            "100%|██████████| 169/169 [00:00<00:00, 2805.73it/s]"
          ]
        },
        {
          "output_type": "stream",
          "name": "stdout",
          "text": [
            "[MoviePy] Done.\n",
            "Generating file for id id01610\n"
          ]
        },
        {
          "output_type": "stream",
          "name": "stderr",
          "text": [
            "\n"
          ]
        },
        {
          "output_type": "stream",
          "name": "stdout",
          "text": [
            "[MoviePy] Writing audio in /content/drive/MyDrive/DeepFakeDetection/data/FakeAVCeleb_v1.2/real_videos_train/id01610/00063.wav\n"
          ]
        },
        {
          "output_type": "stream",
          "name": "stderr",
          "text": [
            "100%|██████████| 99/99 [00:00<00:00, 2715.40it/s]"
          ]
        },
        {
          "output_type": "stream",
          "name": "stdout",
          "text": [
            "[MoviePy] Done.\n",
            "Generating file for id id01610\n"
          ]
        },
        {
          "output_type": "stream",
          "name": "stderr",
          "text": [
            "\n"
          ]
        },
        {
          "output_type": "stream",
          "name": "stdout",
          "text": [
            "[MoviePy] Writing audio in /content/drive/MyDrive/DeepFakeDetection/data/FakeAVCeleb_v1.2/real_videos_train/id01610/00066.wav\n"
          ]
        },
        {
          "output_type": "stream",
          "name": "stderr",
          "text": [
            "100%|██████████| 363/363 [00:00<00:00, 3173.71it/s]"
          ]
        },
        {
          "output_type": "stream",
          "name": "stdout",
          "text": [
            "[MoviePy] Done.\n",
            "Generating file for id id01610\n"
          ]
        },
        {
          "output_type": "stream",
          "name": "stderr",
          "text": [
            "\n"
          ]
        },
        {
          "output_type": "stream",
          "name": "stdout",
          "text": [
            "[MoviePy] Writing audio in /content/drive/MyDrive/DeepFakeDetection/data/FakeAVCeleb_v1.2/real_videos_train/id01610/00067.wav\n"
          ]
        },
        {
          "output_type": "stream",
          "name": "stderr",
          "text": [
            "100%|██████████| 195/195 [00:00<00:00, 3145.44it/s]"
          ]
        },
        {
          "output_type": "stream",
          "name": "stdout",
          "text": [
            "[MoviePy] Done.\n",
            "Generating file for id id01610\n"
          ]
        },
        {
          "output_type": "stream",
          "name": "stderr",
          "text": [
            "\n"
          ]
        },
        {
          "output_type": "stream",
          "name": "stdout",
          "text": [
            "[MoviePy] Writing audio in /content/drive/MyDrive/DeepFakeDetection/data/FakeAVCeleb_v1.2/real_videos_train/id01610/00068.wav\n"
          ]
        },
        {
          "output_type": "stream",
          "name": "stderr",
          "text": [
            "100%|██████████| 315/315 [00:00<00:00, 3293.85it/s]"
          ]
        },
        {
          "output_type": "stream",
          "name": "stdout",
          "text": [
            "[MoviePy] Done.\n",
            "Generating file for id id01610\n"
          ]
        },
        {
          "output_type": "stream",
          "name": "stderr",
          "text": [
            "\n"
          ]
        },
        {
          "output_type": "stream",
          "name": "stdout",
          "text": [
            "[MoviePy] Writing audio in /content/drive/MyDrive/DeepFakeDetection/data/FakeAVCeleb_v1.2/real_videos_train/id01610/00069.wav\n"
          ]
        },
        {
          "output_type": "stream",
          "name": "stderr",
          "text": [
            "100%|██████████| 251/251 [00:00<00:00, 3190.99it/s]"
          ]
        },
        {
          "output_type": "stream",
          "name": "stdout",
          "text": [
            "[MoviePy] Done.\n",
            "Generating file for id id01610\n"
          ]
        },
        {
          "output_type": "stream",
          "name": "stderr",
          "text": [
            "\n"
          ]
        },
        {
          "output_type": "stream",
          "name": "stdout",
          "text": [
            "[MoviePy] Writing audio in /content/drive/MyDrive/DeepFakeDetection/data/FakeAVCeleb_v1.2/real_videos_train/id01610/00070.wav\n"
          ]
        },
        {
          "output_type": "stream",
          "name": "stderr",
          "text": [
            "100%|██████████| 648/648 [00:00<00:00, 3343.82it/s]\n"
          ]
        },
        {
          "output_type": "stream",
          "name": "stdout",
          "text": [
            "[MoviePy] Done.\n",
            "Generating file for id id01610\n",
            "[MoviePy] Writing audio in /content/drive/MyDrive/DeepFakeDetection/data/FakeAVCeleb_v1.2/real_videos_train/id01610/00072.wav\n"
          ]
        },
        {
          "output_type": "stream",
          "name": "stderr",
          "text": [
            "100%|██████████| 142/142 [00:00<00:00, 2043.12it/s]"
          ]
        },
        {
          "output_type": "stream",
          "name": "stdout",
          "text": [
            "[MoviePy] Done.\n",
            "Generating file for id id01610\n"
          ]
        },
        {
          "output_type": "stream",
          "name": "stderr",
          "text": [
            "\n"
          ]
        },
        {
          "output_type": "stream",
          "name": "stdout",
          "text": [
            "[MoviePy] Writing audio in /content/drive/MyDrive/DeepFakeDetection/data/FakeAVCeleb_v1.2/real_videos_train/id01610/00071.wav\n"
          ]
        },
        {
          "output_type": "stream",
          "name": "stderr",
          "text": [
            "100%|██████████| 130/130 [00:00<00:00, 2935.83it/s]"
          ]
        },
        {
          "output_type": "stream",
          "name": "stdout",
          "text": [
            "[MoviePy] Done.\n",
            "Generating file for id id01610\n"
          ]
        },
        {
          "output_type": "stream",
          "name": "stderr",
          "text": [
            "\n"
          ]
        },
        {
          "output_type": "stream",
          "name": "stdout",
          "text": [
            "[MoviePy] Writing audio in /content/drive/MyDrive/DeepFakeDetection/data/FakeAVCeleb_v1.2/real_videos_train/id01610/00073.wav\n"
          ]
        },
        {
          "output_type": "stream",
          "name": "stderr",
          "text": [
            "100%|██████████| 186/186 [00:00<00:00, 3069.90it/s]"
          ]
        },
        {
          "output_type": "stream",
          "name": "stdout",
          "text": [
            "[MoviePy] Done.\n",
            "Generating file for id id01610\n"
          ]
        },
        {
          "output_type": "stream",
          "name": "stderr",
          "text": [
            "\n"
          ]
        },
        {
          "output_type": "stream",
          "name": "stdout",
          "text": [
            "[MoviePy] Writing audio in /content/drive/MyDrive/DeepFakeDetection/data/FakeAVCeleb_v1.2/real_videos_train/id01610/00074.wav\n"
          ]
        },
        {
          "output_type": "stream",
          "name": "stderr",
          "text": [
            "100%|██████████| 96/96 [00:00<00:00, 3332.04it/s]"
          ]
        },
        {
          "output_type": "stream",
          "name": "stdout",
          "text": [
            "[MoviePy] Done.\n",
            "Generating file for id id01610\n"
          ]
        },
        {
          "output_type": "stream",
          "name": "stderr",
          "text": [
            "\n"
          ]
        },
        {
          "output_type": "stream",
          "name": "stdout",
          "text": [
            "[MoviePy] Writing audio in /content/drive/MyDrive/DeepFakeDetection/data/FakeAVCeleb_v1.2/real_videos_train/id01610/00075.wav\n"
          ]
        },
        {
          "output_type": "stream",
          "name": "stderr",
          "text": [
            "100%|██████████| 243/243 [00:00<00:00, 3194.67it/s]"
          ]
        },
        {
          "output_type": "stream",
          "name": "stdout",
          "text": [
            "[MoviePy] Done.\n",
            "Generating file for id id01610\n"
          ]
        },
        {
          "output_type": "stream",
          "name": "stderr",
          "text": [
            "\n"
          ]
        },
        {
          "output_type": "stream",
          "name": "stdout",
          "text": [
            "[MoviePy] Writing audio in /content/drive/MyDrive/DeepFakeDetection/data/FakeAVCeleb_v1.2/real_videos_train/id01610/00077.wav\n"
          ]
        },
        {
          "output_type": "stream",
          "name": "stderr",
          "text": [
            "100%|██████████| 95/95 [00:00<00:00, 3334.52it/s]"
          ]
        },
        {
          "output_type": "stream",
          "name": "stdout",
          "text": [
            "[MoviePy] Done.\n",
            "Generating file for id id01610\n"
          ]
        },
        {
          "output_type": "stream",
          "name": "stderr",
          "text": [
            "\n"
          ]
        },
        {
          "output_type": "stream",
          "name": "stdout",
          "text": [
            "[MoviePy] Writing audio in /content/drive/MyDrive/DeepFakeDetection/data/FakeAVCeleb_v1.2/real_videos_train/id01610/00076.wav\n"
          ]
        },
        {
          "output_type": "stream",
          "name": "stderr",
          "text": [
            "100%|██████████| 271/271 [00:00<00:00, 3157.60it/s]"
          ]
        },
        {
          "output_type": "stream",
          "name": "stdout",
          "text": [
            "[MoviePy] Done.\n",
            "Generating file for id id01610\n"
          ]
        },
        {
          "output_type": "stream",
          "name": "stderr",
          "text": [
            "\n"
          ]
        },
        {
          "output_type": "stream",
          "name": "stdout",
          "text": [
            "[MoviePy] Writing audio in /content/drive/MyDrive/DeepFakeDetection/data/FakeAVCeleb_v1.2/real_videos_train/id01610/00078.wav\n"
          ]
        },
        {
          "output_type": "stream",
          "name": "stderr",
          "text": [
            "100%|██████████| 369/369 [00:00<00:00, 3239.37it/s]"
          ]
        },
        {
          "output_type": "stream",
          "name": "stdout",
          "text": [
            "[MoviePy] Done.\n",
            "Generating file for id id01610\n"
          ]
        },
        {
          "output_type": "stream",
          "name": "stderr",
          "text": [
            "\n"
          ]
        },
        {
          "output_type": "stream",
          "name": "stdout",
          "text": [
            "[MoviePy] Writing audio in /content/drive/MyDrive/DeepFakeDetection/data/FakeAVCeleb_v1.2/real_videos_train/id01610/00079.wav\n"
          ]
        },
        {
          "output_type": "stream",
          "name": "stderr",
          "text": [
            "100%|██████████| 113/113 [00:00<00:00, 2900.02it/s]"
          ]
        },
        {
          "output_type": "stream",
          "name": "stdout",
          "text": [
            "[MoviePy] Done.\n",
            "Generating file for id id01610\n"
          ]
        },
        {
          "output_type": "stream",
          "name": "stderr",
          "text": [
            "\n"
          ]
        },
        {
          "output_type": "stream",
          "name": "stdout",
          "text": [
            "[MoviePy] Writing audio in /content/drive/MyDrive/DeepFakeDetection/data/FakeAVCeleb_v1.2/real_videos_train/id01610/00080.wav\n"
          ]
        },
        {
          "output_type": "stream",
          "name": "stderr",
          "text": [
            "100%|██████████| 273/273 [00:00<00:00, 3123.84it/s]"
          ]
        },
        {
          "output_type": "stream",
          "name": "stdout",
          "text": [
            "[MoviePy] Done.\n",
            "Generating file for id id01610\n"
          ]
        },
        {
          "output_type": "stream",
          "name": "stderr",
          "text": [
            "\n"
          ]
        },
        {
          "output_type": "stream",
          "name": "stdout",
          "text": [
            "[MoviePy] Writing audio in /content/drive/MyDrive/DeepFakeDetection/data/FakeAVCeleb_v1.2/real_videos_train/id01610/00081.wav\n"
          ]
        },
        {
          "output_type": "stream",
          "name": "stderr",
          "text": [
            "100%|██████████| 160/160 [00:00<00:00, 2997.50it/s]"
          ]
        },
        {
          "output_type": "stream",
          "name": "stdout",
          "text": [
            "[MoviePy] Done.\n",
            "Generating file for id id01610\n"
          ]
        },
        {
          "output_type": "stream",
          "name": "stderr",
          "text": [
            "\n"
          ]
        },
        {
          "output_type": "stream",
          "name": "stdout",
          "text": [
            "[MoviePy] Writing audio in /content/drive/MyDrive/DeepFakeDetection/data/FakeAVCeleb_v1.2/real_videos_train/id01610/00082.wav\n"
          ]
        },
        {
          "output_type": "stream",
          "name": "stderr",
          "text": [
            "100%|██████████| 289/289 [00:00<00:00, 3223.00it/s]"
          ]
        },
        {
          "output_type": "stream",
          "name": "stdout",
          "text": [
            "[MoviePy] Done.\n",
            "Generating file for id id01610\n"
          ]
        },
        {
          "output_type": "stream",
          "name": "stderr",
          "text": [
            "\n"
          ]
        },
        {
          "output_type": "stream",
          "name": "stdout",
          "text": [
            "[MoviePy] Writing audio in /content/drive/MyDrive/DeepFakeDetection/data/FakeAVCeleb_v1.2/real_videos_train/id01610/00083.wav\n"
          ]
        },
        {
          "output_type": "stream",
          "name": "stderr",
          "text": [
            "100%|██████████| 185/185 [00:00<00:00, 3124.08it/s]"
          ]
        },
        {
          "output_type": "stream",
          "name": "stdout",
          "text": [
            "[MoviePy] Done.\n",
            "Generating file for id id01610\n"
          ]
        },
        {
          "output_type": "stream",
          "name": "stderr",
          "text": [
            "\n"
          ]
        },
        {
          "output_type": "stream",
          "name": "stdout",
          "text": [
            "[MoviePy] Writing audio in /content/drive/MyDrive/DeepFakeDetection/data/FakeAVCeleb_v1.2/real_videos_train/id01610/00085.wav\n"
          ]
        },
        {
          "output_type": "stream",
          "name": "stderr",
          "text": [
            "100%|██████████| 113/113 [00:00<00:00, 2902.77it/s]"
          ]
        },
        {
          "output_type": "stream",
          "name": "stdout",
          "text": [
            "[MoviePy] Done.\n",
            "Generating file for id id01610\n"
          ]
        },
        {
          "output_type": "stream",
          "name": "stderr",
          "text": [
            "\n"
          ]
        },
        {
          "output_type": "stream",
          "name": "stdout",
          "text": [
            "[MoviePy] Writing audio in /content/drive/MyDrive/DeepFakeDetection/data/FakeAVCeleb_v1.2/real_videos_train/id01610/00086.wav\n"
          ]
        },
        {
          "output_type": "stream",
          "name": "stderr",
          "text": [
            "100%|██████████| 131/131 [00:00<00:00, 2867.11it/s]"
          ]
        },
        {
          "output_type": "stream",
          "name": "stdout",
          "text": [
            "[MoviePy] Done.\n",
            "Generating file for id id01610\n"
          ]
        },
        {
          "output_type": "stream",
          "name": "stderr",
          "text": [
            "\n"
          ]
        },
        {
          "output_type": "stream",
          "name": "stdout",
          "text": [
            "[MoviePy] Writing audio in /content/drive/MyDrive/DeepFakeDetection/data/FakeAVCeleb_v1.2/real_videos_train/id01610/00084.wav\n"
          ]
        },
        {
          "output_type": "stream",
          "name": "stderr",
          "text": [
            "100%|██████████| 156/156 [00:00<00:00, 3072.97it/s]"
          ]
        },
        {
          "output_type": "stream",
          "name": "stdout",
          "text": [
            "[MoviePy] Done.\n",
            "Generating file for id id01610\n"
          ]
        },
        {
          "output_type": "stream",
          "name": "stderr",
          "text": [
            "\n"
          ]
        },
        {
          "output_type": "stream",
          "name": "stdout",
          "text": [
            "[MoviePy] Writing audio in /content/drive/MyDrive/DeepFakeDetection/data/FakeAVCeleb_v1.2/real_videos_train/id01610/00088.wav\n"
          ]
        },
        {
          "output_type": "stream",
          "name": "stderr",
          "text": [
            "100%|██████████| 147/147 [00:00<00:00, 2964.30it/s]"
          ]
        },
        {
          "output_type": "stream",
          "name": "stdout",
          "text": [
            "[MoviePy] Done.\n",
            "Generating file for id id01610\n"
          ]
        },
        {
          "output_type": "stream",
          "name": "stderr",
          "text": [
            "\n"
          ]
        },
        {
          "output_type": "stream",
          "name": "stdout",
          "text": [
            "[MoviePy] Writing audio in /content/drive/MyDrive/DeepFakeDetection/data/FakeAVCeleb_v1.2/real_videos_train/id01610/00087.wav\n"
          ]
        },
        {
          "output_type": "stream",
          "name": "stderr",
          "text": [
            "100%|██████████| 96/96 [00:00<00:00, 3089.18it/s]"
          ]
        },
        {
          "output_type": "stream",
          "name": "stdout",
          "text": [
            "[MoviePy] Done.\n",
            "Generating file for id id01610\n"
          ]
        },
        {
          "output_type": "stream",
          "name": "stderr",
          "text": [
            "\n"
          ]
        },
        {
          "output_type": "stream",
          "name": "stdout",
          "text": [
            "[MoviePy] Writing audio in /content/drive/MyDrive/DeepFakeDetection/data/FakeAVCeleb_v1.2/real_videos_train/id01610/00090.wav\n"
          ]
        },
        {
          "output_type": "stream",
          "name": "stderr",
          "text": [
            "100%|██████████| 144/144 [00:00<00:00, 3062.11it/s]"
          ]
        },
        {
          "output_type": "stream",
          "name": "stdout",
          "text": [
            "[MoviePy] Done.\n",
            "Generating file for id id01610\n"
          ]
        },
        {
          "output_type": "stream",
          "name": "stderr",
          "text": [
            "\n"
          ]
        },
        {
          "output_type": "stream",
          "name": "stdout",
          "text": [
            "[MoviePy] Writing audio in /content/drive/MyDrive/DeepFakeDetection/data/FakeAVCeleb_v1.2/real_videos_train/id01610/00089.wav\n"
          ]
        },
        {
          "output_type": "stream",
          "name": "stderr",
          "text": [
            "100%|██████████| 102/102 [00:00<00:00, 3069.05it/s]"
          ]
        },
        {
          "output_type": "stream",
          "name": "stdout",
          "text": [
            "[MoviePy] Done.\n",
            "Generating file for id id01610\n"
          ]
        },
        {
          "output_type": "stream",
          "name": "stderr",
          "text": [
            "\n"
          ]
        },
        {
          "output_type": "stream",
          "name": "stdout",
          "text": [
            "[MoviePy] Writing audio in /content/drive/MyDrive/DeepFakeDetection/data/FakeAVCeleb_v1.2/real_videos_train/id01610/00091.wav\n"
          ]
        },
        {
          "output_type": "stream",
          "name": "stderr",
          "text": [
            "100%|██████████| 195/195 [00:00<00:00, 2986.04it/s]"
          ]
        },
        {
          "output_type": "stream",
          "name": "stdout",
          "text": [
            "[MoviePy] Done.\n",
            "Generating file for id id01610\n"
          ]
        },
        {
          "output_type": "stream",
          "name": "stderr",
          "text": [
            "\n"
          ]
        },
        {
          "output_type": "stream",
          "name": "stdout",
          "text": [
            "[MoviePy] Writing audio in /content/drive/MyDrive/DeepFakeDetection/data/FakeAVCeleb_v1.2/real_videos_train/id01610/00094.wav\n"
          ]
        },
        {
          "output_type": "stream",
          "name": "stderr",
          "text": [
            "100%|██████████| 118/118 [00:00<00:00, 2776.13it/s]"
          ]
        },
        {
          "output_type": "stream",
          "name": "stdout",
          "text": [
            "[MoviePy] Done.\n",
            "Generating file for id id01610\n"
          ]
        },
        {
          "output_type": "stream",
          "name": "stderr",
          "text": [
            "\n"
          ]
        },
        {
          "output_type": "stream",
          "name": "stdout",
          "text": [
            "[MoviePy] Writing audio in /content/drive/MyDrive/DeepFakeDetection/data/FakeAVCeleb_v1.2/real_videos_train/id01610/00100.wav\n"
          ]
        },
        {
          "output_type": "stream",
          "name": "stderr",
          "text": [
            "100%|██████████| 91/91 [00:00<00:00, 3115.87it/s]"
          ]
        },
        {
          "output_type": "stream",
          "name": "stdout",
          "text": [
            "[MoviePy] Done.\n",
            "Generating file for id id01610\n"
          ]
        },
        {
          "output_type": "stream",
          "name": "stderr",
          "text": [
            "\n"
          ]
        },
        {
          "output_type": "stream",
          "name": "stdout",
          "text": [
            "[MoviePy] Writing audio in /content/drive/MyDrive/DeepFakeDetection/data/FakeAVCeleb_v1.2/real_videos_train/id01610/00101.wav\n"
          ]
        },
        {
          "output_type": "stream",
          "name": "stderr",
          "text": [
            "100%|██████████| 266/266 [00:00<00:00, 2684.44it/s]"
          ]
        },
        {
          "output_type": "stream",
          "name": "stdout",
          "text": [
            "[MoviePy] Done.\n",
            "Generating file for id id01610\n"
          ]
        },
        {
          "output_type": "stream",
          "name": "stderr",
          "text": [
            "\n"
          ]
        },
        {
          "output_type": "stream",
          "name": "stdout",
          "text": [
            "[MoviePy] Writing audio in /content/drive/MyDrive/DeepFakeDetection/data/FakeAVCeleb_v1.2/real_videos_train/id01610/00102.wav\n"
          ]
        },
        {
          "output_type": "stream",
          "name": "stderr",
          "text": [
            "100%|██████████| 181/181 [00:00<00:00, 3070.62it/s]"
          ]
        },
        {
          "output_type": "stream",
          "name": "stdout",
          "text": [
            "[MoviePy] Done.\n",
            "Generating file for id id01610\n"
          ]
        },
        {
          "output_type": "stream",
          "name": "stderr",
          "text": [
            "\n"
          ]
        },
        {
          "output_type": "stream",
          "name": "stdout",
          "text": [
            "[MoviePy] Writing audio in /content/drive/MyDrive/DeepFakeDetection/data/FakeAVCeleb_v1.2/real_videos_train/id01610/00103.wav\n"
          ]
        },
        {
          "output_type": "stream",
          "name": "stderr",
          "text": [
            "100%|██████████| 232/232 [00:00<00:00, 3046.90it/s]"
          ]
        },
        {
          "output_type": "stream",
          "name": "stdout",
          "text": [
            "[MoviePy] Done.\n",
            "Generating file for id id01610\n"
          ]
        },
        {
          "output_type": "stream",
          "name": "stderr",
          "text": [
            "\n"
          ]
        },
        {
          "output_type": "stream",
          "name": "stdout",
          "text": [
            "[MoviePy] Writing audio in /content/drive/MyDrive/DeepFakeDetection/data/FakeAVCeleb_v1.2/real_videos_train/id01610/00105.wav\n"
          ]
        },
        {
          "output_type": "stream",
          "name": "stderr",
          "text": [
            "100%|██████████| 221/221 [00:00<00:00, 3139.51it/s]"
          ]
        },
        {
          "output_type": "stream",
          "name": "stdout",
          "text": [
            "[MoviePy] Done.\n",
            "Generating file for id id01610\n"
          ]
        },
        {
          "output_type": "stream",
          "name": "stderr",
          "text": [
            "\n"
          ]
        },
        {
          "output_type": "stream",
          "name": "stdout",
          "text": [
            "[MoviePy] Writing audio in /content/drive/MyDrive/DeepFakeDetection/data/FakeAVCeleb_v1.2/real_videos_train/id01610/00104.wav\n"
          ]
        },
        {
          "output_type": "stream",
          "name": "stderr",
          "text": [
            "100%|██████████| 134/134 [00:00<00:00, 2960.18it/s]"
          ]
        },
        {
          "output_type": "stream",
          "name": "stdout",
          "text": [
            "[MoviePy] Done.\n",
            "Generating file for id id01610\n"
          ]
        },
        {
          "output_type": "stream",
          "name": "stderr",
          "text": [
            "\n"
          ]
        },
        {
          "output_type": "stream",
          "name": "stdout",
          "text": [
            "[MoviePy] Writing audio in /content/drive/MyDrive/DeepFakeDetection/data/FakeAVCeleb_v1.2/real_videos_train/id01610/00106.wav\n"
          ]
        },
        {
          "output_type": "stream",
          "name": "stderr",
          "text": [
            "100%|██████████| 140/140 [00:00<00:00, 2987.52it/s]"
          ]
        },
        {
          "output_type": "stream",
          "name": "stdout",
          "text": [
            "[MoviePy] Done.\n",
            "Generating file for id id01610\n"
          ]
        },
        {
          "output_type": "stream",
          "name": "stderr",
          "text": [
            "\n"
          ]
        },
        {
          "output_type": "stream",
          "name": "stdout",
          "text": [
            "[MoviePy] Writing audio in /content/drive/MyDrive/DeepFakeDetection/data/FakeAVCeleb_v1.2/real_videos_train/id01610/00109.wav\n"
          ]
        },
        {
          "output_type": "stream",
          "name": "stderr",
          "text": [
            "100%|██████████| 147/147 [00:00<00:00, 3100.95it/s]"
          ]
        },
        {
          "output_type": "stream",
          "name": "stdout",
          "text": [
            "[MoviePy] Done.\n",
            "Generating file for id id01610\n"
          ]
        },
        {
          "output_type": "stream",
          "name": "stderr",
          "text": [
            "\n"
          ]
        },
        {
          "output_type": "stream",
          "name": "stdout",
          "text": [
            "[MoviePy] Writing audio in /content/drive/MyDrive/DeepFakeDetection/data/FakeAVCeleb_v1.2/real_videos_train/id01610/00107.wav\n"
          ]
        },
        {
          "output_type": "stream",
          "name": "stderr",
          "text": [
            "100%|██████████| 181/181 [00:00<00:00, 2601.02it/s]"
          ]
        },
        {
          "output_type": "stream",
          "name": "stdout",
          "text": [
            "[MoviePy] Done.\n",
            "Generating file for id id01610\n"
          ]
        },
        {
          "output_type": "stream",
          "name": "stderr",
          "text": [
            "\n"
          ]
        },
        {
          "output_type": "stream",
          "name": "stdout",
          "text": [
            "[MoviePy] Writing audio in /content/drive/MyDrive/DeepFakeDetection/data/FakeAVCeleb_v1.2/real_videos_train/id01610/00108.wav\n"
          ]
        },
        {
          "output_type": "stream",
          "name": "stderr",
          "text": [
            "100%|██████████| 101/101 [00:00<00:00, 3179.55it/s]"
          ]
        },
        {
          "output_type": "stream",
          "name": "stdout",
          "text": [
            "[MoviePy] Done.\n",
            "Generating file for id id01610\n"
          ]
        },
        {
          "output_type": "stream",
          "name": "stderr",
          "text": [
            "\n"
          ]
        },
        {
          "output_type": "stream",
          "name": "stdout",
          "text": [
            "[MoviePy] Writing audio in /content/drive/MyDrive/DeepFakeDetection/data/FakeAVCeleb_v1.2/real_videos_train/id01610/00111.wav\n"
          ]
        },
        {
          "output_type": "stream",
          "name": "stderr",
          "text": [
            "100%|██████████| 112/112 [00:00<00:00, 2925.37it/s]"
          ]
        },
        {
          "output_type": "stream",
          "name": "stdout",
          "text": [
            "[MoviePy] Done.\n",
            "Generating file for id id01610\n"
          ]
        },
        {
          "output_type": "stream",
          "name": "stderr",
          "text": [
            "\n"
          ]
        },
        {
          "output_type": "stream",
          "name": "stdout",
          "text": [
            "[MoviePy] Writing audio in /content/drive/MyDrive/DeepFakeDetection/data/FakeAVCeleb_v1.2/real_videos_train/id01610/00110.wav\n"
          ]
        },
        {
          "output_type": "stream",
          "name": "stderr",
          "text": [
            "100%|██████████| 128/128 [00:00<00:00, 2952.31it/s]"
          ]
        },
        {
          "output_type": "stream",
          "name": "stdout",
          "text": [
            "[MoviePy] Done.\n",
            "Generating file for id id01610\n"
          ]
        },
        {
          "output_type": "stream",
          "name": "stderr",
          "text": [
            "\n"
          ]
        },
        {
          "output_type": "stream",
          "name": "stdout",
          "text": [
            "[MoviePy] Writing audio in /content/drive/MyDrive/DeepFakeDetection/data/FakeAVCeleb_v1.2/real_videos_train/id01610/00112.wav\n"
          ]
        },
        {
          "output_type": "stream",
          "name": "stderr",
          "text": [
            "100%|██████████| 242/242 [00:00<00:00, 3136.17it/s]"
          ]
        },
        {
          "output_type": "stream",
          "name": "stdout",
          "text": [
            "[MoviePy] Done.\n",
            "Generating file for id id01610\n"
          ]
        },
        {
          "output_type": "stream",
          "name": "stderr",
          "text": [
            "\n"
          ]
        },
        {
          "output_type": "stream",
          "name": "stdout",
          "text": [
            "[MoviePy] Writing audio in /content/drive/MyDrive/DeepFakeDetection/data/FakeAVCeleb_v1.2/real_videos_train/id01610/00113.wav\n"
          ]
        },
        {
          "output_type": "stream",
          "name": "stderr",
          "text": [
            "100%|██████████| 110/110 [00:00<00:00, 3012.74it/s]"
          ]
        },
        {
          "output_type": "stream",
          "name": "stdout",
          "text": [
            "[MoviePy] Done.\n",
            "Generating file for id id01610\n"
          ]
        },
        {
          "output_type": "stream",
          "name": "stderr",
          "text": [
            "\n"
          ]
        },
        {
          "output_type": "stream",
          "name": "stdout",
          "text": [
            "[MoviePy] Writing audio in /content/drive/MyDrive/DeepFakeDetection/data/FakeAVCeleb_v1.2/real_videos_train/id01610/00115.wav\n"
          ]
        },
        {
          "output_type": "stream",
          "name": "stderr",
          "text": [
            "100%|██████████| 124/124 [00:00<00:00, 3051.89it/s]"
          ]
        },
        {
          "output_type": "stream",
          "name": "stdout",
          "text": [
            "[MoviePy] Done.\n",
            "Generating file for id id01610\n"
          ]
        },
        {
          "output_type": "stream",
          "name": "stderr",
          "text": [
            "\n"
          ]
        },
        {
          "output_type": "stream",
          "name": "stdout",
          "text": [
            "[MoviePy] Writing audio in /content/drive/MyDrive/DeepFakeDetection/data/FakeAVCeleb_v1.2/real_videos_train/id01610/00114.wav\n"
          ]
        },
        {
          "output_type": "stream",
          "name": "stderr",
          "text": [
            "100%|██████████| 250/250 [00:00<00:00, 3283.06it/s]"
          ]
        },
        {
          "output_type": "stream",
          "name": "stdout",
          "text": [
            "[MoviePy] Done.\n",
            "Generating file for id id01610\n"
          ]
        },
        {
          "output_type": "stream",
          "name": "stderr",
          "text": [
            "\n"
          ]
        },
        {
          "output_type": "stream",
          "name": "stdout",
          "text": [
            "[MoviePy] Writing audio in /content/drive/MyDrive/DeepFakeDetection/data/FakeAVCeleb_v1.2/real_videos_train/id01610/00116.wav\n"
          ]
        },
        {
          "output_type": "stream",
          "name": "stderr",
          "text": [
            "100%|██████████| 132/132 [00:00<00:00, 3120.08it/s]"
          ]
        },
        {
          "output_type": "stream",
          "name": "stdout",
          "text": [
            "[MoviePy] Done.\n",
            "Generating file for id id01610\n"
          ]
        },
        {
          "output_type": "stream",
          "name": "stderr",
          "text": [
            "\n"
          ]
        },
        {
          "output_type": "stream",
          "name": "stdout",
          "text": [
            "[MoviePy] Writing audio in /content/drive/MyDrive/DeepFakeDetection/data/FakeAVCeleb_v1.2/real_videos_train/id01610/00117.wav\n"
          ]
        },
        {
          "output_type": "stream",
          "name": "stderr",
          "text": [
            "100%|██████████| 156/156 [00:00<00:00, 3089.08it/s]"
          ]
        },
        {
          "output_type": "stream",
          "name": "stdout",
          "text": [
            "[MoviePy] Done.\n",
            "Generating file for id id01610\n"
          ]
        },
        {
          "output_type": "stream",
          "name": "stderr",
          "text": [
            "\n"
          ]
        },
        {
          "output_type": "stream",
          "name": "stdout",
          "text": [
            "[MoviePy] Writing audio in /content/drive/MyDrive/DeepFakeDetection/data/FakeAVCeleb_v1.2/real_videos_train/id01610/00118.wav\n"
          ]
        },
        {
          "output_type": "stream",
          "name": "stderr",
          "text": [
            "100%|██████████| 117/117 [00:00<00:00, 3019.03it/s]"
          ]
        },
        {
          "output_type": "stream",
          "name": "stdout",
          "text": [
            "[MoviePy] Done.\n",
            "Generating file for id id01610\n"
          ]
        },
        {
          "output_type": "stream",
          "name": "stderr",
          "text": [
            "\n"
          ]
        },
        {
          "output_type": "stream",
          "name": "stdout",
          "text": [
            "[MoviePy] Writing audio in /content/drive/MyDrive/DeepFakeDetection/data/FakeAVCeleb_v1.2/real_videos_train/id01610/00119.wav\n"
          ]
        },
        {
          "output_type": "stream",
          "name": "stderr",
          "text": [
            "100%|██████████| 91/91 [00:00<00:00, 3112.19it/s]"
          ]
        },
        {
          "output_type": "stream",
          "name": "stdout",
          "text": [
            "[MoviePy] Done.\n",
            "Generating file for id id01610\n"
          ]
        },
        {
          "output_type": "stream",
          "name": "stderr",
          "text": [
            "\n"
          ]
        },
        {
          "output_type": "stream",
          "name": "stdout",
          "text": [
            "[MoviePy] Writing audio in /content/drive/MyDrive/DeepFakeDetection/data/FakeAVCeleb_v1.2/real_videos_train/id01610/00121.wav\n"
          ]
        },
        {
          "output_type": "stream",
          "name": "stderr",
          "text": [
            "100%|██████████| 148/148 [00:00<00:00, 2335.02it/s]"
          ]
        },
        {
          "output_type": "stream",
          "name": "stdout",
          "text": [
            "[MoviePy] Done.\n",
            "Generating file for id id01610\n"
          ]
        },
        {
          "output_type": "stream",
          "name": "stderr",
          "text": [
            "\n"
          ]
        },
        {
          "output_type": "stream",
          "name": "stdout",
          "text": [
            "[MoviePy] Writing audio in /content/drive/MyDrive/DeepFakeDetection/data/FakeAVCeleb_v1.2/real_videos_train/id01610/00123.wav\n"
          ]
        },
        {
          "output_type": "stream",
          "name": "stderr",
          "text": [
            "100%|██████████| 121/121 [00:00<00:00, 3015.78it/s]"
          ]
        },
        {
          "output_type": "stream",
          "name": "stdout",
          "text": [
            "[MoviePy] Done.\n",
            "Generating file for id id01610\n"
          ]
        },
        {
          "output_type": "stream",
          "name": "stderr",
          "text": [
            "\n"
          ]
        },
        {
          "output_type": "stream",
          "name": "stdout",
          "text": [
            "[MoviePy] Writing audio in /content/drive/MyDrive/DeepFakeDetection/data/FakeAVCeleb_v1.2/real_videos_train/id01610/00122.wav\n"
          ]
        },
        {
          "output_type": "stream",
          "name": "stderr",
          "text": [
            "100%|██████████| 135/135 [00:00<00:00, 2983.49it/s]"
          ]
        },
        {
          "output_type": "stream",
          "name": "stdout",
          "text": [
            "[MoviePy] Done.\n",
            "Generating file for id id01610\n"
          ]
        },
        {
          "output_type": "stream",
          "name": "stderr",
          "text": [
            "\n"
          ]
        },
        {
          "output_type": "stream",
          "name": "stdout",
          "text": [
            "[MoviePy] Writing audio in /content/drive/MyDrive/DeepFakeDetection/data/FakeAVCeleb_v1.2/real_videos_train/id01610/00125.wav\n"
          ]
        },
        {
          "output_type": "stream",
          "name": "stderr",
          "text": [
            "100%|██████████| 128/128 [00:00<00:00, 2921.16it/s]"
          ]
        },
        {
          "output_type": "stream",
          "name": "stdout",
          "text": [
            "[MoviePy] Done.\n",
            "Generating file for id id01610\n"
          ]
        },
        {
          "output_type": "stream",
          "name": "stderr",
          "text": [
            "\n"
          ]
        },
        {
          "output_type": "stream",
          "name": "stdout",
          "text": [
            "[MoviePy] Writing audio in /content/drive/MyDrive/DeepFakeDetection/data/FakeAVCeleb_v1.2/real_videos_train/id01610/00124.wav\n"
          ]
        },
        {
          "output_type": "stream",
          "name": "stderr",
          "text": [
            "100%|██████████| 146/146 [00:00<00:00, 2979.04it/s]"
          ]
        },
        {
          "output_type": "stream",
          "name": "stdout",
          "text": [
            "[MoviePy] Done.\n",
            "Generating file for id id01610\n"
          ]
        },
        {
          "output_type": "stream",
          "name": "stderr",
          "text": [
            "\n"
          ]
        },
        {
          "output_type": "stream",
          "name": "stdout",
          "text": [
            "[MoviePy] Writing audio in /content/drive/MyDrive/DeepFakeDetection/data/FakeAVCeleb_v1.2/real_videos_train/id01610/00126.wav\n"
          ]
        },
        {
          "output_type": "stream",
          "name": "stderr",
          "text": [
            "100%|██████████| 184/184 [00:00<00:00, 3072.68it/s]"
          ]
        },
        {
          "output_type": "stream",
          "name": "stdout",
          "text": [
            "[MoviePy] Done.\n",
            "Generating file for id id01610\n"
          ]
        },
        {
          "output_type": "stream",
          "name": "stderr",
          "text": [
            "\n"
          ]
        },
        {
          "output_type": "stream",
          "name": "stdout",
          "text": [
            "[MoviePy] Writing audio in /content/drive/MyDrive/DeepFakeDetection/data/FakeAVCeleb_v1.2/real_videos_train/id01610/00128.wav\n"
          ]
        },
        {
          "output_type": "stream",
          "name": "stderr",
          "text": [
            "100%|██████████| 110/110 [00:00<00:00, 3069.68it/s]"
          ]
        },
        {
          "output_type": "stream",
          "name": "stdout",
          "text": [
            "[MoviePy] Done.\n",
            "Generating file for id id01610\n"
          ]
        },
        {
          "output_type": "stream",
          "name": "stderr",
          "text": [
            "\n"
          ]
        },
        {
          "output_type": "stream",
          "name": "stdout",
          "text": [
            "[MoviePy] Writing audio in /content/drive/MyDrive/DeepFakeDetection/data/FakeAVCeleb_v1.2/real_videos_train/id01610/00130.wav\n"
          ]
        },
        {
          "output_type": "stream",
          "name": "stderr",
          "text": [
            "100%|██████████| 245/245 [00:00<00:00, 3310.55it/s]"
          ]
        },
        {
          "output_type": "stream",
          "name": "stdout",
          "text": [
            "[MoviePy] Done.\n",
            "Generating file for id id01610\n"
          ]
        },
        {
          "output_type": "stream",
          "name": "stderr",
          "text": [
            "\n"
          ]
        },
        {
          "output_type": "stream",
          "name": "stdout",
          "text": [
            "[MoviePy] Writing audio in /content/drive/MyDrive/DeepFakeDetection/data/FakeAVCeleb_v1.2/real_videos_train/id01610/00131.wav\n"
          ]
        },
        {
          "output_type": "stream",
          "name": "stderr",
          "text": [
            "100%|██████████| 116/116 [00:00<00:00, 2931.44it/s]"
          ]
        },
        {
          "output_type": "stream",
          "name": "stdout",
          "text": [
            "[MoviePy] Done.\n",
            "Generating file for id id01610\n"
          ]
        },
        {
          "output_type": "stream",
          "name": "stderr",
          "text": [
            "\n"
          ]
        },
        {
          "output_type": "stream",
          "name": "stdout",
          "text": [
            "[MoviePy] Writing audio in /content/drive/MyDrive/DeepFakeDetection/data/FakeAVCeleb_v1.2/real_videos_train/id01610/00132.wav\n"
          ]
        },
        {
          "output_type": "stream",
          "name": "stderr",
          "text": [
            "100%|██████████| 225/225 [00:00<00:00, 3131.90it/s]"
          ]
        },
        {
          "output_type": "stream",
          "name": "stdout",
          "text": [
            "[MoviePy] Done.\n",
            "Generating file for id id01610\n"
          ]
        },
        {
          "output_type": "stream",
          "name": "stderr",
          "text": [
            "\n"
          ]
        },
        {
          "output_type": "stream",
          "name": "stdout",
          "text": [
            "[MoviePy] Writing audio in /content/drive/MyDrive/DeepFakeDetection/data/FakeAVCeleb_v1.2/real_videos_train/id01610/00133.wav\n"
          ]
        },
        {
          "output_type": "stream",
          "name": "stderr",
          "text": [
            "100%|██████████| 100/100 [00:00<00:00, 2978.72it/s]"
          ]
        },
        {
          "output_type": "stream",
          "name": "stdout",
          "text": [
            "[MoviePy] Done.\n",
            "Generating file for id id01610\n"
          ]
        },
        {
          "output_type": "stream",
          "name": "stderr",
          "text": [
            "\n"
          ]
        },
        {
          "output_type": "stream",
          "name": "stdout",
          "text": [
            "[MoviePy] Writing audio in /content/drive/MyDrive/DeepFakeDetection/data/FakeAVCeleb_v1.2/real_videos_train/id01610/00134.wav\n"
          ]
        },
        {
          "output_type": "stream",
          "name": "stderr",
          "text": [
            "100%|██████████| 228/228 [00:00<00:00, 3213.52it/s]"
          ]
        },
        {
          "output_type": "stream",
          "name": "stdout",
          "text": [
            "[MoviePy] Done.\n",
            "Generating file for id id01610\n"
          ]
        },
        {
          "output_type": "stream",
          "name": "stderr",
          "text": [
            "\n"
          ]
        },
        {
          "output_type": "stream",
          "name": "stdout",
          "text": [
            "[MoviePy] Writing audio in /content/drive/MyDrive/DeepFakeDetection/data/FakeAVCeleb_v1.2/real_videos_train/id01610/00135.wav\n"
          ]
        },
        {
          "output_type": "stream",
          "name": "stderr",
          "text": [
            "100%|██████████| 186/186 [00:00<00:00, 2961.54it/s]"
          ]
        },
        {
          "output_type": "stream",
          "name": "stdout",
          "text": [
            "[MoviePy] Done.\n",
            "Generating file for id id00366\n"
          ]
        },
        {
          "output_type": "stream",
          "name": "stderr",
          "text": [
            "\n"
          ]
        },
        {
          "output_type": "stream",
          "name": "stdout",
          "text": [
            "[MoviePy] Writing audio in /content/drive/MyDrive/DeepFakeDetection/data/FakeAVCeleb_v1.2/real_videos_train/id00366/00002.wav\n"
          ]
        },
        {
          "output_type": "stream",
          "name": "stderr",
          "text": [
            "100%|██████████| 93/93 [00:00<00:00, 3089.96it/s]"
          ]
        },
        {
          "output_type": "stream",
          "name": "stdout",
          "text": [
            "[MoviePy] Done.\n",
            "Generating file for id id00366\n"
          ]
        },
        {
          "output_type": "stream",
          "name": "stderr",
          "text": [
            "\n"
          ]
        },
        {
          "output_type": "stream",
          "name": "stdout",
          "text": [
            "[MoviePy] Writing audio in /content/drive/MyDrive/DeepFakeDetection/data/FakeAVCeleb_v1.2/real_videos_train/id00366/00001.wav\n"
          ]
        },
        {
          "output_type": "stream",
          "name": "stderr",
          "text": [
            "100%|██████████| 121/121 [00:00<00:00, 2977.55it/s]"
          ]
        },
        {
          "output_type": "stream",
          "name": "stdout",
          "text": [
            "[MoviePy] Done.\n",
            "Generating file for id id00366\n"
          ]
        },
        {
          "output_type": "stream",
          "name": "stderr",
          "text": [
            "\n"
          ]
        },
        {
          "output_type": "stream",
          "name": "stdout",
          "text": [
            "[MoviePy] Writing audio in /content/drive/MyDrive/DeepFakeDetection/data/FakeAVCeleb_v1.2/real_videos_train/id00366/00005.wav\n"
          ]
        },
        {
          "output_type": "stream",
          "name": "stderr",
          "text": [
            "100%|██████████| 91/91 [00:00<00:00, 2488.28it/s]"
          ]
        },
        {
          "output_type": "stream",
          "name": "stdout",
          "text": [
            "[MoviePy] Done.\n",
            "Generating file for id id00366\n"
          ]
        },
        {
          "output_type": "stream",
          "name": "stderr",
          "text": [
            "\n"
          ]
        },
        {
          "output_type": "stream",
          "name": "stdout",
          "text": [
            "[MoviePy] Writing audio in /content/drive/MyDrive/DeepFakeDetection/data/FakeAVCeleb_v1.2/real_videos_train/id00366/00006.wav\n"
          ]
        },
        {
          "output_type": "stream",
          "name": "stderr",
          "text": [
            "100%|██████████| 112/112 [00:00<00:00, 2950.40it/s]"
          ]
        },
        {
          "output_type": "stream",
          "name": "stdout",
          "text": [
            "[MoviePy] Done.\n",
            "Generating file for id id00366\n"
          ]
        },
        {
          "output_type": "stream",
          "name": "stderr",
          "text": [
            "\n"
          ]
        },
        {
          "output_type": "stream",
          "name": "stdout",
          "text": [
            "[MoviePy] Writing audio in /content/drive/MyDrive/DeepFakeDetection/data/FakeAVCeleb_v1.2/real_videos_train/id00366/00018.wav\n"
          ]
        },
        {
          "output_type": "stream",
          "name": "stderr",
          "text": [
            "100%|██████████| 206/206 [00:00<00:00, 3251.10it/s]"
          ]
        },
        {
          "output_type": "stream",
          "name": "stdout",
          "text": [
            "[MoviePy] Done.\n",
            "Generating file for id id00366\n"
          ]
        },
        {
          "output_type": "stream",
          "name": "stderr",
          "text": [
            "\n"
          ]
        },
        {
          "output_type": "stream",
          "name": "stdout",
          "text": [
            "[MoviePy] Writing audio in /content/drive/MyDrive/DeepFakeDetection/data/FakeAVCeleb_v1.2/real_videos_train/id00366/00020.wav\n"
          ]
        },
        {
          "output_type": "stream",
          "name": "stderr",
          "text": [
            "100%|██████████| 128/128 [00:00<00:00, 2954.94it/s]"
          ]
        },
        {
          "output_type": "stream",
          "name": "stdout",
          "text": [
            "[MoviePy] Done.\n",
            "Generating file for id id00366\n"
          ]
        },
        {
          "output_type": "stream",
          "name": "stderr",
          "text": [
            "\n"
          ]
        },
        {
          "output_type": "stream",
          "name": "stdout",
          "text": [
            "[MoviePy] Writing audio in /content/drive/MyDrive/DeepFakeDetection/data/FakeAVCeleb_v1.2/real_videos_train/id00366/00027.wav\n"
          ]
        },
        {
          "output_type": "stream",
          "name": "stderr",
          "text": [
            "100%|██████████| 99/99 [00:00<00:00, 3312.22it/s]"
          ]
        },
        {
          "output_type": "stream",
          "name": "stdout",
          "text": [
            "[MoviePy] Done.\n",
            "Generating file for id id00366\n"
          ]
        },
        {
          "output_type": "stream",
          "name": "stderr",
          "text": [
            "\n"
          ]
        },
        {
          "output_type": "stream",
          "name": "stdout",
          "text": [
            "[MoviePy] Writing audio in /content/drive/MyDrive/DeepFakeDetection/data/FakeAVCeleb_v1.2/real_videos_train/id00366/00028.wav\n"
          ]
        },
        {
          "output_type": "stream",
          "name": "stderr",
          "text": [
            "100%|██████████| 148/148 [00:00<00:00, 3073.95it/s]"
          ]
        },
        {
          "output_type": "stream",
          "name": "stdout",
          "text": [
            "[MoviePy] Done.\n",
            "Generating file for id id00366\n"
          ]
        },
        {
          "output_type": "stream",
          "name": "stderr",
          "text": [
            "\n"
          ]
        },
        {
          "output_type": "stream",
          "name": "stdout",
          "text": [
            "[MoviePy] Writing audio in /content/drive/MyDrive/DeepFakeDetection/data/FakeAVCeleb_v1.2/real_videos_train/id00366/00030.wav\n"
          ]
        },
        {
          "output_type": "stream",
          "name": "stderr",
          "text": [
            "100%|██████████| 126/126 [00:00<00:00, 2608.66it/s]"
          ]
        },
        {
          "output_type": "stream",
          "name": "stdout",
          "text": [
            "[MoviePy] Done.\n",
            "Generating file for id id00366\n"
          ]
        },
        {
          "output_type": "stream",
          "name": "stderr",
          "text": [
            "\n"
          ]
        },
        {
          "output_type": "stream",
          "name": "stdout",
          "text": [
            "[MoviePy] Writing audio in /content/drive/MyDrive/DeepFakeDetection/data/FakeAVCeleb_v1.2/real_videos_train/id00366/00033.wav\n"
          ]
        },
        {
          "output_type": "stream",
          "name": "stderr",
          "text": [
            "100%|██████████| 156/156 [00:00<00:00, 3197.03it/s]"
          ]
        },
        {
          "output_type": "stream",
          "name": "stdout",
          "text": [
            "[MoviePy] Done.\n",
            "Generating file for id id00366\n"
          ]
        },
        {
          "output_type": "stream",
          "name": "stderr",
          "text": [
            "\n"
          ]
        },
        {
          "output_type": "stream",
          "name": "stdout",
          "text": [
            "[MoviePy] Writing audio in /content/drive/MyDrive/DeepFakeDetection/data/FakeAVCeleb_v1.2/real_videos_train/id00366/00037.wav\n"
          ]
        },
        {
          "output_type": "stream",
          "name": "stderr",
          "text": [
            "100%|██████████| 133/133 [00:00<00:00, 2870.65it/s]"
          ]
        },
        {
          "output_type": "stream",
          "name": "stdout",
          "text": [
            "[MoviePy] Done.\n",
            "Generating file for id id00366\n"
          ]
        },
        {
          "output_type": "stream",
          "name": "stderr",
          "text": [
            "\n"
          ]
        },
        {
          "output_type": "stream",
          "name": "stdout",
          "text": [
            "[MoviePy] Writing audio in /content/drive/MyDrive/DeepFakeDetection/data/FakeAVCeleb_v1.2/real_videos_train/id00366/00054.wav\n"
          ]
        },
        {
          "output_type": "stream",
          "name": "stderr",
          "text": [
            "100%|██████████| 110/110 [00:00<00:00, 3015.81it/s]"
          ]
        },
        {
          "output_type": "stream",
          "name": "stdout",
          "text": [
            "[MoviePy] Done.\n",
            "Generating file for id id00366\n"
          ]
        },
        {
          "output_type": "stream",
          "name": "stderr",
          "text": [
            "\n"
          ]
        },
        {
          "output_type": "stream",
          "name": "stdout",
          "text": [
            "[MoviePy] Writing audio in /content/drive/MyDrive/DeepFakeDetection/data/FakeAVCeleb_v1.2/real_videos_train/id00366/00078.wav\n"
          ]
        },
        {
          "output_type": "stream",
          "name": "stderr",
          "text": [
            "100%|██████████| 89/89 [00:00<00:00, 3091.97it/s]"
          ]
        },
        {
          "output_type": "stream",
          "name": "stdout",
          "text": [
            "[MoviePy] Done.\n",
            "Generating file for id id00366\n"
          ]
        },
        {
          "output_type": "stream",
          "name": "stderr",
          "text": [
            "\n"
          ]
        },
        {
          "output_type": "stream",
          "name": "stdout",
          "text": [
            "[MoviePy] Writing audio in /content/drive/MyDrive/DeepFakeDetection/data/FakeAVCeleb_v1.2/real_videos_train/id00366/00092.wav\n"
          ]
        },
        {
          "output_type": "stream",
          "name": "stderr",
          "text": [
            "100%|██████████| 231/231 [00:00<00:00, 3232.75it/s]"
          ]
        },
        {
          "output_type": "stream",
          "name": "stdout",
          "text": [
            "[MoviePy] Done.\n",
            "Generating file for id id00366\n"
          ]
        },
        {
          "output_type": "stream",
          "name": "stderr",
          "text": [
            "\n"
          ]
        },
        {
          "output_type": "stream",
          "name": "stdout",
          "text": [
            "[MoviePy] Writing audio in /content/drive/MyDrive/DeepFakeDetection/data/FakeAVCeleb_v1.2/real_videos_train/id00366/00094.wav\n"
          ]
        },
        {
          "output_type": "stream",
          "name": "stderr",
          "text": [
            "100%|██████████| 190/190 [00:00<00:00, 3077.89it/s]"
          ]
        },
        {
          "output_type": "stream",
          "name": "stdout",
          "text": [
            "[MoviePy] Done.\n",
            "Generating file for id id00366\n"
          ]
        },
        {
          "output_type": "stream",
          "name": "stderr",
          "text": [
            "\n"
          ]
        },
        {
          "output_type": "stream",
          "name": "stdout",
          "text": [
            "[MoviePy] Writing audio in /content/drive/MyDrive/DeepFakeDetection/data/FakeAVCeleb_v1.2/real_videos_train/id00366/00096.wav\n"
          ]
        },
        {
          "output_type": "stream",
          "name": "stderr",
          "text": [
            "100%|██████████| 196/196 [00:00<00:00, 3317.78it/s]"
          ]
        },
        {
          "output_type": "stream",
          "name": "stdout",
          "text": [
            "[MoviePy] Done.\n",
            "Generating file for id id00366\n"
          ]
        },
        {
          "output_type": "stream",
          "name": "stderr",
          "text": [
            "\n"
          ]
        },
        {
          "output_type": "stream",
          "name": "stdout",
          "text": [
            "[MoviePy] Writing audio in /content/drive/MyDrive/DeepFakeDetection/data/FakeAVCeleb_v1.2/real_videos_train/id00366/00115.wav\n"
          ]
        },
        {
          "output_type": "stream",
          "name": "stderr",
          "text": [
            "100%|██████████| 111/111 [00:00<00:00, 2201.76it/s]"
          ]
        },
        {
          "output_type": "stream",
          "name": "stdout",
          "text": [
            "[MoviePy] Done.\n",
            "Generating file for id id00366\n"
          ]
        },
        {
          "output_type": "stream",
          "name": "stderr",
          "text": [
            "\n"
          ]
        },
        {
          "output_type": "stream",
          "name": "stdout",
          "text": [
            "[MoviePy] Writing audio in /content/drive/MyDrive/DeepFakeDetection/data/FakeAVCeleb_v1.2/real_videos_train/id00366/00116.wav\n"
          ]
        },
        {
          "output_type": "stream",
          "name": "stderr",
          "text": [
            "100%|██████████| 352/352 [00:00<00:00, 3310.44it/s]"
          ]
        },
        {
          "output_type": "stream",
          "name": "stdout",
          "text": [
            "[MoviePy] Done.\n",
            "Generating file for id id00366\n"
          ]
        },
        {
          "output_type": "stream",
          "name": "stderr",
          "text": [
            "\n"
          ]
        },
        {
          "output_type": "stream",
          "name": "stdout",
          "text": [
            "[MoviePy] Writing audio in /content/drive/MyDrive/DeepFakeDetection/data/FakeAVCeleb_v1.2/real_videos_train/id00366/00121.wav\n"
          ]
        },
        {
          "output_type": "stream",
          "name": "stderr",
          "text": [
            "100%|██████████| 142/142 [00:00<00:00, 3100.15it/s]"
          ]
        },
        {
          "output_type": "stream",
          "name": "stdout",
          "text": [
            "[MoviePy] Done.\n",
            "Generating file for id id00366\n"
          ]
        },
        {
          "output_type": "stream",
          "name": "stderr",
          "text": [
            "\n"
          ]
        },
        {
          "output_type": "stream",
          "name": "stdout",
          "text": [
            "[MoviePy] Writing audio in /content/drive/MyDrive/DeepFakeDetection/data/FakeAVCeleb_v1.2/real_videos_train/id00366/00120.wav\n"
          ]
        },
        {
          "output_type": "stream",
          "name": "stderr",
          "text": [
            "100%|██████████| 101/101 [00:00<00:00, 3211.54it/s]"
          ]
        },
        {
          "output_type": "stream",
          "name": "stdout",
          "text": [
            "[MoviePy] Done.\n",
            "Generating file for id id00366\n"
          ]
        },
        {
          "output_type": "stream",
          "name": "stderr",
          "text": [
            "\n"
          ]
        },
        {
          "output_type": "stream",
          "name": "stdout",
          "text": [
            "[MoviePy] Writing audio in /content/drive/MyDrive/DeepFakeDetection/data/FakeAVCeleb_v1.2/real_videos_train/id00366/00125.wav\n"
          ]
        },
        {
          "output_type": "stream",
          "name": "stderr",
          "text": [
            "100%|██████████| 172/172 [00:00<00:00, 3062.17it/s]"
          ]
        },
        {
          "output_type": "stream",
          "name": "stdout",
          "text": [
            "[MoviePy] Done.\n",
            "Generating file for id id00366\n"
          ]
        },
        {
          "output_type": "stream",
          "name": "stderr",
          "text": [
            "\n"
          ]
        },
        {
          "output_type": "stream",
          "name": "stdout",
          "text": [
            "[MoviePy] Writing audio in /content/drive/MyDrive/DeepFakeDetection/data/FakeAVCeleb_v1.2/real_videos_train/id00366/00124.wav\n"
          ]
        },
        {
          "output_type": "stream",
          "name": "stderr",
          "text": [
            "100%|██████████| 413/413 [00:00<00:00, 3200.96it/s]"
          ]
        },
        {
          "output_type": "stream",
          "name": "stdout",
          "text": [
            "[MoviePy] Done.\n"
          ]
        },
        {
          "output_type": "stream",
          "name": "stderr",
          "text": [
            "\n"
          ]
        },
        {
          "output_type": "stream",
          "name": "stdout",
          "text": [
            "Generating file for id id00366\n",
            "[MoviePy] Writing audio in /content/drive/MyDrive/DeepFakeDetection/data/FakeAVCeleb_v1.2/real_videos_train/id00366/00127.wav\n"
          ]
        },
        {
          "output_type": "stream",
          "name": "stderr",
          "text": [
            "100%|██████████| 239/239 [00:00<00:00, 3190.71it/s]"
          ]
        },
        {
          "output_type": "stream",
          "name": "stdout",
          "text": [
            "[MoviePy] Done.\n",
            "Generating file for id id00366\n"
          ]
        },
        {
          "output_type": "stream",
          "name": "stderr",
          "text": [
            "\n"
          ]
        },
        {
          "output_type": "stream",
          "name": "stdout",
          "text": [
            "[MoviePy] Writing audio in /content/drive/MyDrive/DeepFakeDetection/data/FakeAVCeleb_v1.2/real_videos_train/id00366/00129.wav\n"
          ]
        },
        {
          "output_type": "stream",
          "name": "stderr",
          "text": [
            "100%|██████████| 236/236 [00:00<00:00, 3142.50it/s]"
          ]
        },
        {
          "output_type": "stream",
          "name": "stdout",
          "text": [
            "[MoviePy] Done.\n",
            "Generating file for id id00366\n"
          ]
        },
        {
          "output_type": "stream",
          "name": "stderr",
          "text": [
            "\n"
          ]
        },
        {
          "output_type": "stream",
          "name": "stdout",
          "text": [
            "[MoviePy] Writing audio in /content/drive/MyDrive/DeepFakeDetection/data/FakeAVCeleb_v1.2/real_videos_train/id00366/00130.wav\n"
          ]
        },
        {
          "output_type": "stream",
          "name": "stderr",
          "text": [
            "100%|██████████| 160/160 [00:00<00:00, 2974.38it/s]"
          ]
        },
        {
          "output_type": "stream",
          "name": "stdout",
          "text": [
            "[MoviePy] Done.\n",
            "Generating file for id id00366\n"
          ]
        },
        {
          "output_type": "stream",
          "name": "stderr",
          "text": [
            "\n"
          ]
        },
        {
          "output_type": "stream",
          "name": "stdout",
          "text": [
            "[MoviePy] Writing audio in /content/drive/MyDrive/DeepFakeDetection/data/FakeAVCeleb_v1.2/real_videos_train/id00366/00131.wav\n"
          ]
        },
        {
          "output_type": "stream",
          "name": "stderr",
          "text": [
            "100%|██████████| 207/207 [00:00<00:00, 2410.87it/s]"
          ]
        },
        {
          "output_type": "stream",
          "name": "stdout",
          "text": [
            "[MoviePy] Done.\n",
            "Generating file for id id00366\n"
          ]
        },
        {
          "output_type": "stream",
          "name": "stderr",
          "text": [
            "\n"
          ]
        },
        {
          "output_type": "stream",
          "name": "stdout",
          "text": [
            "[MoviePy] Writing audio in /content/drive/MyDrive/DeepFakeDetection/data/FakeAVCeleb_v1.2/real_videos_train/id00366/00132.wav\n"
          ]
        },
        {
          "output_type": "stream",
          "name": "stderr",
          "text": [
            "100%|██████████| 179/179 [00:00<00:00, 3109.93it/s]"
          ]
        },
        {
          "output_type": "stream",
          "name": "stdout",
          "text": [
            "[MoviePy] Done.\n",
            "Generating file for id id00366\n"
          ]
        },
        {
          "output_type": "stream",
          "name": "stderr",
          "text": [
            "\n"
          ]
        },
        {
          "output_type": "stream",
          "name": "stdout",
          "text": [
            "[MoviePy] Writing audio in /content/drive/MyDrive/DeepFakeDetection/data/FakeAVCeleb_v1.2/real_videos_train/id00366/00134.wav\n"
          ]
        },
        {
          "output_type": "stream",
          "name": "stderr",
          "text": [
            "100%|██████████| 196/196 [00:00<00:00, 3199.57it/s]"
          ]
        },
        {
          "output_type": "stream",
          "name": "stdout",
          "text": [
            "[MoviePy] Done.\n",
            "Generating file for id id00366\n"
          ]
        },
        {
          "output_type": "stream",
          "name": "stderr",
          "text": [
            "\n"
          ]
        },
        {
          "output_type": "stream",
          "name": "stdout",
          "text": [
            "[MoviePy] Writing audio in /content/drive/MyDrive/DeepFakeDetection/data/FakeAVCeleb_v1.2/real_videos_train/id00366/00133.wav\n"
          ]
        },
        {
          "output_type": "stream",
          "name": "stderr",
          "text": [
            "100%|██████████| 155/155 [00:00<00:00, 3195.98it/s]"
          ]
        },
        {
          "output_type": "stream",
          "name": "stdout",
          "text": [
            "[MoviePy] Done.\n",
            "Generating file for id id00366\n"
          ]
        },
        {
          "output_type": "stream",
          "name": "stderr",
          "text": [
            "\n"
          ]
        },
        {
          "output_type": "stream",
          "name": "stdout",
          "text": [
            "[MoviePy] Writing audio in /content/drive/MyDrive/DeepFakeDetection/data/FakeAVCeleb_v1.2/real_videos_train/id00366/00135.wav\n"
          ]
        },
        {
          "output_type": "stream",
          "name": "stderr",
          "text": [
            "100%|██████████| 89/89 [00:00<00:00, 3023.84it/s]"
          ]
        },
        {
          "output_type": "stream",
          "name": "stdout",
          "text": [
            "[MoviePy] Done.\n",
            "Generating file for id id00366\n"
          ]
        },
        {
          "output_type": "stream",
          "name": "stderr",
          "text": [
            "\n"
          ]
        },
        {
          "output_type": "stream",
          "name": "stdout",
          "text": [
            "[MoviePy] Writing audio in /content/drive/MyDrive/DeepFakeDetection/data/FakeAVCeleb_v1.2/real_videos_train/id00366/00136.wav\n"
          ]
        },
        {
          "output_type": "stream",
          "name": "stderr",
          "text": [
            "100%|██████████| 183/183 [00:00<00:00, 3083.75it/s]"
          ]
        },
        {
          "output_type": "stream",
          "name": "stdout",
          "text": [
            "[MoviePy] Done.\n",
            "Generating file for id id00366\n"
          ]
        },
        {
          "output_type": "stream",
          "name": "stderr",
          "text": [
            "\n"
          ]
        },
        {
          "output_type": "stream",
          "name": "stdout",
          "text": [
            "[MoviePy] Writing audio in /content/drive/MyDrive/DeepFakeDetection/data/FakeAVCeleb_v1.2/real_videos_train/id00366/00142.wav\n"
          ]
        },
        {
          "output_type": "stream",
          "name": "stderr",
          "text": [
            "100%|██████████| 136/136 [00:00<00:00, 2901.27it/s]"
          ]
        },
        {
          "output_type": "stream",
          "name": "stdout",
          "text": [
            "[MoviePy] Done.\n",
            "Generating file for id id00366\n"
          ]
        },
        {
          "output_type": "stream",
          "name": "stderr",
          "text": [
            "\n"
          ]
        },
        {
          "output_type": "stream",
          "name": "stdout",
          "text": [
            "[MoviePy] Writing audio in /content/drive/MyDrive/DeepFakeDetection/data/FakeAVCeleb_v1.2/real_videos_train/id00366/00145.wav\n"
          ]
        },
        {
          "output_type": "stream",
          "name": "stderr",
          "text": [
            "100%|██████████| 97/97 [00:00<00:00, 3149.56it/s]"
          ]
        },
        {
          "output_type": "stream",
          "name": "stdout",
          "text": [
            "[MoviePy] Done.\n",
            "Generating file for id id00366\n"
          ]
        },
        {
          "output_type": "stream",
          "name": "stderr",
          "text": [
            "\n"
          ]
        },
        {
          "output_type": "stream",
          "name": "stdout",
          "text": [
            "[MoviePy] Writing audio in /content/drive/MyDrive/DeepFakeDetection/data/FakeAVCeleb_v1.2/real_videos_train/id00366/00144.wav\n"
          ]
        },
        {
          "output_type": "stream",
          "name": "stderr",
          "text": [
            "100%|██████████| 131/131 [00:00<00:00, 3088.33it/s]"
          ]
        },
        {
          "output_type": "stream",
          "name": "stdout",
          "text": [
            "[MoviePy] Done.\n",
            "Generating file for id id00366\n"
          ]
        },
        {
          "output_type": "stream",
          "name": "stderr",
          "text": [
            "\n"
          ]
        },
        {
          "output_type": "stream",
          "name": "stdout",
          "text": [
            "[MoviePy] Writing audio in /content/drive/MyDrive/DeepFakeDetection/data/FakeAVCeleb_v1.2/real_videos_train/id00366/00143.wav\n"
          ]
        },
        {
          "output_type": "stream",
          "name": "stderr",
          "text": [
            "100%|██████████| 102/102 [00:00<00:00, 3235.71it/s]"
          ]
        },
        {
          "output_type": "stream",
          "name": "stdout",
          "text": [
            "[MoviePy] Done.\n",
            "Generating file for id id00366\n"
          ]
        },
        {
          "output_type": "stream",
          "name": "stderr",
          "text": [
            "\n"
          ]
        },
        {
          "output_type": "stream",
          "name": "stdout",
          "text": [
            "[MoviePy] Writing audio in /content/drive/MyDrive/DeepFakeDetection/data/FakeAVCeleb_v1.2/real_videos_train/id00366/00146.wav\n"
          ]
        },
        {
          "output_type": "stream",
          "name": "stderr",
          "text": [
            "100%|██████████| 154/154 [00:00<00:00, 3209.84it/s]"
          ]
        },
        {
          "output_type": "stream",
          "name": "stdout",
          "text": [
            "[MoviePy] Done.\n",
            "Generating file for id id00366\n"
          ]
        },
        {
          "output_type": "stream",
          "name": "stderr",
          "text": [
            "\n"
          ]
        },
        {
          "output_type": "stream",
          "name": "stdout",
          "text": [
            "[MoviePy] Writing audio in /content/drive/MyDrive/DeepFakeDetection/data/FakeAVCeleb_v1.2/real_videos_train/id00366/00147.wav\n"
          ]
        },
        {
          "output_type": "stream",
          "name": "stderr",
          "text": [
            "100%|██████████| 137/137 [00:00<00:00, 3045.05it/s]"
          ]
        },
        {
          "output_type": "stream",
          "name": "stdout",
          "text": [
            "[MoviePy] Done.\n",
            "Generating file for id id00366\n"
          ]
        },
        {
          "output_type": "stream",
          "name": "stderr",
          "text": [
            "\n"
          ]
        },
        {
          "output_type": "stream",
          "name": "stdout",
          "text": [
            "[MoviePy] Writing audio in /content/drive/MyDrive/DeepFakeDetection/data/FakeAVCeleb_v1.2/real_videos_train/id00366/00148.wav\n"
          ]
        },
        {
          "output_type": "stream",
          "name": "stderr",
          "text": [
            "100%|██████████| 221/221 [00:00<00:00, 3342.12it/s]"
          ]
        },
        {
          "output_type": "stream",
          "name": "stdout",
          "text": [
            "[MoviePy] Done.\n",
            "Generating file for id id00366\n"
          ]
        },
        {
          "output_type": "stream",
          "name": "stderr",
          "text": [
            "\n"
          ]
        },
        {
          "output_type": "stream",
          "name": "stdout",
          "text": [
            "[MoviePy] Writing audio in /content/drive/MyDrive/DeepFakeDetection/data/FakeAVCeleb_v1.2/real_videos_train/id00366/00184.wav\n"
          ]
        },
        {
          "output_type": "stream",
          "name": "stderr",
          "text": [
            "100%|██████████| 111/111 [00:00<00:00, 3065.12it/s]"
          ]
        },
        {
          "output_type": "stream",
          "name": "stdout",
          "text": [
            "[MoviePy] Done.\n",
            "Generating file for id id00366\n"
          ]
        },
        {
          "output_type": "stream",
          "name": "stderr",
          "text": [
            "\n"
          ]
        },
        {
          "output_type": "stream",
          "name": "stdout",
          "text": [
            "[MoviePy] Writing audio in /content/drive/MyDrive/DeepFakeDetection/data/FakeAVCeleb_v1.2/real_videos_train/id00366/00188.wav\n"
          ]
        },
        {
          "output_type": "stream",
          "name": "stderr",
          "text": [
            "100%|██████████| 192/192 [00:00<00:00, 3167.90it/s]"
          ]
        },
        {
          "output_type": "stream",
          "name": "stdout",
          "text": [
            "[MoviePy] Done.\n",
            "Generating file for id id00366\n"
          ]
        },
        {
          "output_type": "stream",
          "name": "stderr",
          "text": [
            "\n"
          ]
        },
        {
          "output_type": "stream",
          "name": "stdout",
          "text": [
            "[MoviePy] Writing audio in /content/drive/MyDrive/DeepFakeDetection/data/FakeAVCeleb_v1.2/real_videos_train/id00366/00187.wav\n"
          ]
        },
        {
          "output_type": "stream",
          "name": "stderr",
          "text": [
            "100%|██████████| 111/111 [00:00<00:00, 3033.53it/s]"
          ]
        },
        {
          "output_type": "stream",
          "name": "stdout",
          "text": [
            "[MoviePy] Done.\n",
            "Generating file for id id00366\n"
          ]
        },
        {
          "output_type": "stream",
          "name": "stderr",
          "text": [
            "\n"
          ]
        },
        {
          "output_type": "stream",
          "name": "stdout",
          "text": [
            "[MoviePy] Writing audio in /content/drive/MyDrive/DeepFakeDetection/data/FakeAVCeleb_v1.2/real_videos_train/id00366/00194.wav\n"
          ]
        },
        {
          "output_type": "stream",
          "name": "stderr",
          "text": [
            "100%|██████████| 101/101 [00:00<00:00, 3161.24it/s]"
          ]
        },
        {
          "output_type": "stream",
          "name": "stdout",
          "text": [
            "[MoviePy] Done.\n",
            "Generating file for id id00366\n"
          ]
        },
        {
          "output_type": "stream",
          "name": "stderr",
          "text": [
            "\n"
          ]
        },
        {
          "output_type": "stream",
          "name": "stdout",
          "text": [
            "[MoviePy] Writing audio in /content/drive/MyDrive/DeepFakeDetection/data/FakeAVCeleb_v1.2/real_videos_train/id00366/00196.wav\n"
          ]
        },
        {
          "output_type": "stream",
          "name": "stderr",
          "text": [
            "100%|██████████| 181/181 [00:00<00:00, 3136.26it/s]"
          ]
        },
        {
          "output_type": "stream",
          "name": "stdout",
          "text": [
            "[MoviePy] Done.\n",
            "Generating file for id id00366\n"
          ]
        },
        {
          "output_type": "stream",
          "name": "stderr",
          "text": [
            "\n"
          ]
        },
        {
          "output_type": "stream",
          "name": "stdout",
          "text": [
            "[MoviePy] Writing audio in /content/drive/MyDrive/DeepFakeDetection/data/FakeAVCeleb_v1.2/real_videos_train/id00366/00199.wav\n"
          ]
        },
        {
          "output_type": "stream",
          "name": "stderr",
          "text": [
            "100%|██████████| 248/248 [00:00<00:00, 3081.10it/s]"
          ]
        },
        {
          "output_type": "stream",
          "name": "stdout",
          "text": [
            "[MoviePy] Done.\n",
            "Generating file for id id00366\n"
          ]
        },
        {
          "output_type": "stream",
          "name": "stderr",
          "text": [
            "\n"
          ]
        },
        {
          "output_type": "stream",
          "name": "stdout",
          "text": [
            "[MoviePy] Writing audio in /content/drive/MyDrive/DeepFakeDetection/data/FakeAVCeleb_v1.2/real_videos_train/id00366/00201.wav\n"
          ]
        },
        {
          "output_type": "stream",
          "name": "stderr",
          "text": [
            "100%|██████████| 211/211 [00:00<00:00, 3183.84it/s]"
          ]
        },
        {
          "output_type": "stream",
          "name": "stdout",
          "text": [
            "[MoviePy] Done.\n",
            "Generating file for id id00366\n"
          ]
        },
        {
          "output_type": "stream",
          "name": "stderr",
          "text": [
            "\n"
          ]
        },
        {
          "output_type": "stream",
          "name": "stdout",
          "text": [
            "[MoviePy] Writing audio in /content/drive/MyDrive/DeepFakeDetection/data/FakeAVCeleb_v1.2/real_videos_train/id00366/00203.wav\n"
          ]
        },
        {
          "output_type": "stream",
          "name": "stderr",
          "text": [
            "100%|██████████| 131/131 [00:00<00:00, 3076.26it/s]"
          ]
        },
        {
          "output_type": "stream",
          "name": "stdout",
          "text": [
            "[MoviePy] Done.\n",
            "Generating file for id id00366\n"
          ]
        },
        {
          "output_type": "stream",
          "name": "stderr",
          "text": [
            "\n"
          ]
        },
        {
          "output_type": "stream",
          "name": "stdout",
          "text": [
            "[MoviePy] Writing audio in /content/drive/MyDrive/DeepFakeDetection/data/FakeAVCeleb_v1.2/real_videos_train/id00366/00206.wav\n"
          ]
        },
        {
          "output_type": "stream",
          "name": "stderr",
          "text": [
            "100%|██████████| 301/301 [00:00<00:00, 2494.66it/s]"
          ]
        },
        {
          "output_type": "stream",
          "name": "stdout",
          "text": [
            "[MoviePy] Done.\n"
          ]
        },
        {
          "output_type": "stream",
          "name": "stderr",
          "text": [
            "\n"
          ]
        },
        {
          "output_type": "stream",
          "name": "stdout",
          "text": [
            "Generating file for id id00366\n",
            "[MoviePy] Writing audio in /content/drive/MyDrive/DeepFakeDetection/data/FakeAVCeleb_v1.2/real_videos_train/id00366/00213.wav\n"
          ]
        },
        {
          "output_type": "stream",
          "name": "stderr",
          "text": [
            "100%|██████████| 102/102 [00:00<00:00, 3141.48it/s]"
          ]
        },
        {
          "output_type": "stream",
          "name": "stdout",
          "text": [
            "[MoviePy] Done.\n",
            "Generating file for id id00366\n"
          ]
        },
        {
          "output_type": "stream",
          "name": "stderr",
          "text": [
            "\n"
          ]
        },
        {
          "output_type": "stream",
          "name": "stdout",
          "text": [
            "[MoviePy] Writing audio in /content/drive/MyDrive/DeepFakeDetection/data/FakeAVCeleb_v1.2/real_videos_train/id00366/00212.wav\n"
          ]
        },
        {
          "output_type": "stream",
          "name": "stderr",
          "text": [
            "100%|██████████| 101/101 [00:00<00:00, 3223.22it/s]"
          ]
        },
        {
          "output_type": "stream",
          "name": "stdout",
          "text": [
            "[MoviePy] Done.\n",
            "Generating file for id id00366\n"
          ]
        },
        {
          "output_type": "stream",
          "name": "stderr",
          "text": [
            "\n"
          ]
        },
        {
          "output_type": "stream",
          "name": "stdout",
          "text": [
            "[MoviePy] Writing audio in /content/drive/MyDrive/DeepFakeDetection/data/FakeAVCeleb_v1.2/real_videos_train/id00366/00219.wav\n"
          ]
        },
        {
          "output_type": "stream",
          "name": "stderr",
          "text": [
            "100%|██████████| 109/109 [00:00<00:00, 3194.82it/s]"
          ]
        },
        {
          "output_type": "stream",
          "name": "stdout",
          "text": [
            "[MoviePy] Done.\n",
            "Generating file for id id01168\n"
          ]
        },
        {
          "output_type": "stream",
          "name": "stderr",
          "text": [
            "\n"
          ]
        },
        {
          "output_type": "stream",
          "name": "stdout",
          "text": [
            "[MoviePy] Writing audio in /content/drive/MyDrive/DeepFakeDetection/data/FakeAVCeleb_v1.2/real_videos_train/id01168/00009.wav\n"
          ]
        },
        {
          "output_type": "stream",
          "name": "stderr",
          "text": [
            "100%|██████████| 103/103 [00:00<00:00, 3147.89it/s]"
          ]
        },
        {
          "output_type": "stream",
          "name": "stdout",
          "text": [
            "[MoviePy] Done.\n",
            "Generating file for id id01168\n"
          ]
        },
        {
          "output_type": "stream",
          "name": "stderr",
          "text": [
            "\n"
          ]
        },
        {
          "output_type": "stream",
          "name": "stdout",
          "text": [
            "[MoviePy] Writing audio in /content/drive/MyDrive/DeepFakeDetection/data/FakeAVCeleb_v1.2/real_videos_train/id01168/00010.wav\n"
          ]
        },
        {
          "output_type": "stream",
          "name": "stderr",
          "text": [
            "100%|██████████| 108/108 [00:00<00:00, 3270.41it/s]"
          ]
        },
        {
          "output_type": "stream",
          "name": "stdout",
          "text": [
            "[MoviePy] Done.\n",
            "Generating file for id id01168\n"
          ]
        },
        {
          "output_type": "stream",
          "name": "stderr",
          "text": [
            "\n"
          ]
        },
        {
          "output_type": "stream",
          "name": "stdout",
          "text": [
            "[MoviePy] Writing audio in /content/drive/MyDrive/DeepFakeDetection/data/FakeAVCeleb_v1.2/real_videos_train/id01168/00012.wav\n"
          ]
        },
        {
          "output_type": "stream",
          "name": "stderr",
          "text": [
            "100%|██████████| 366/366 [00:00<00:00, 3288.51it/s]"
          ]
        },
        {
          "output_type": "stream",
          "name": "stdout",
          "text": [
            "[MoviePy] Done.\n",
            "Generating file for id id01168\n"
          ]
        },
        {
          "output_type": "stream",
          "name": "stderr",
          "text": [
            "\n"
          ]
        },
        {
          "output_type": "stream",
          "name": "stdout",
          "text": [
            "[MoviePy] Writing audio in /content/drive/MyDrive/DeepFakeDetection/data/FakeAVCeleb_v1.2/real_videos_train/id01168/00015.wav\n"
          ]
        },
        {
          "output_type": "stream",
          "name": "stderr",
          "text": [
            "100%|██████████| 151/151 [00:00<00:00, 3060.49it/s]"
          ]
        },
        {
          "output_type": "stream",
          "name": "stdout",
          "text": [
            "[MoviePy] Done.\n",
            "Generating file for id id01168\n"
          ]
        },
        {
          "output_type": "stream",
          "name": "stderr",
          "text": [
            "\n"
          ]
        },
        {
          "output_type": "stream",
          "name": "stdout",
          "text": [
            "[MoviePy] Writing audio in /content/drive/MyDrive/DeepFakeDetection/data/FakeAVCeleb_v1.2/real_videos_train/id01168/00014.wav\n"
          ]
        },
        {
          "output_type": "stream",
          "name": "stderr",
          "text": [
            "100%|██████████| 344/344 [00:00<00:00, 3147.65it/s]"
          ]
        },
        {
          "output_type": "stream",
          "name": "stdout",
          "text": [
            "[MoviePy] Done.\n",
            "Generating file for id id01168\n"
          ]
        },
        {
          "output_type": "stream",
          "name": "stderr",
          "text": [
            "\n"
          ]
        },
        {
          "output_type": "stream",
          "name": "stdout",
          "text": [
            "[MoviePy] Writing audio in /content/drive/MyDrive/DeepFakeDetection/data/FakeAVCeleb_v1.2/real_videos_train/id01168/00016.wav\n"
          ]
        },
        {
          "output_type": "stream",
          "name": "stderr",
          "text": [
            "100%|██████████| 110/110 [00:00<00:00, 3094.66it/s]"
          ]
        },
        {
          "output_type": "stream",
          "name": "stdout",
          "text": [
            "[MoviePy] Done.\n",
            "Generating file for id id01168\n"
          ]
        },
        {
          "output_type": "stream",
          "name": "stderr",
          "text": [
            "\n"
          ]
        },
        {
          "output_type": "stream",
          "name": "stdout",
          "text": [
            "[MoviePy] Writing audio in /content/drive/MyDrive/DeepFakeDetection/data/FakeAVCeleb_v1.2/real_videos_train/id01168/00017.wav\n"
          ]
        },
        {
          "output_type": "stream",
          "name": "stderr",
          "text": [
            "100%|██████████| 246/246 [00:00<00:00, 3208.26it/s]"
          ]
        },
        {
          "output_type": "stream",
          "name": "stdout",
          "text": [
            "[MoviePy] Done.\n",
            "Generating file for id id01168\n"
          ]
        },
        {
          "output_type": "stream",
          "name": "stderr",
          "text": [
            "\n"
          ]
        },
        {
          "output_type": "stream",
          "name": "stdout",
          "text": [
            "[MoviePy] Writing audio in /content/drive/MyDrive/DeepFakeDetection/data/FakeAVCeleb_v1.2/real_videos_train/id01168/00018.wav\n"
          ]
        },
        {
          "output_type": "stream",
          "name": "stderr",
          "text": [
            "100%|██████████| 146/146 [00:00<00:00, 3053.41it/s]"
          ]
        },
        {
          "output_type": "stream",
          "name": "stdout",
          "text": [
            "[MoviePy] Done.\n",
            "Generating file for id id01168\n"
          ]
        },
        {
          "output_type": "stream",
          "name": "stderr",
          "text": [
            "\n"
          ]
        },
        {
          "output_type": "stream",
          "name": "stdout",
          "text": [
            "[MoviePy] Writing audio in /content/drive/MyDrive/DeepFakeDetection/data/FakeAVCeleb_v1.2/real_videos_train/id01168/00019.wav\n"
          ]
        },
        {
          "output_type": "stream",
          "name": "stderr",
          "text": [
            "100%|██████████| 152/152 [00:00<00:00, 3349.98it/s]"
          ]
        },
        {
          "output_type": "stream",
          "name": "stdout",
          "text": [
            "[MoviePy] Done.\n",
            "Generating file for id id01168\n"
          ]
        },
        {
          "output_type": "stream",
          "name": "stderr",
          "text": [
            "\n"
          ]
        },
        {
          "output_type": "stream",
          "name": "stdout",
          "text": [
            "[MoviePy] Writing audio in /content/drive/MyDrive/DeepFakeDetection/data/FakeAVCeleb_v1.2/real_videos_train/id01168/00027.wav\n"
          ]
        },
        {
          "output_type": "stream",
          "name": "stderr",
          "text": [
            "100%|██████████| 296/296 [00:00<00:00, 3203.69it/s]"
          ]
        },
        {
          "output_type": "stream",
          "name": "stdout",
          "text": [
            "[MoviePy] Done.\n",
            "Generating file for id id01168\n"
          ]
        },
        {
          "output_type": "stream",
          "name": "stderr",
          "text": [
            "\n"
          ]
        },
        {
          "output_type": "stream",
          "name": "stdout",
          "text": [
            "[MoviePy] Writing audio in /content/drive/MyDrive/DeepFakeDetection/data/FakeAVCeleb_v1.2/real_videos_train/id01168/00026.wav\n"
          ]
        },
        {
          "output_type": "stream",
          "name": "stderr",
          "text": [
            "100%|██████████| 94/94 [00:00<00:00, 3193.02it/s]"
          ]
        },
        {
          "output_type": "stream",
          "name": "stdout",
          "text": [
            "[MoviePy] Done.\n",
            "Generating file for id id01168\n"
          ]
        },
        {
          "output_type": "stream",
          "name": "stderr",
          "text": [
            "\n"
          ]
        },
        {
          "output_type": "stream",
          "name": "stdout",
          "text": [
            "[MoviePy] Writing audio in /content/drive/MyDrive/DeepFakeDetection/data/FakeAVCeleb_v1.2/real_videos_train/id01168/00028.wav\n"
          ]
        },
        {
          "output_type": "stream",
          "name": "stderr",
          "text": [
            "100%|██████████| 115/115 [00:00<00:00, 1805.18it/s]"
          ]
        },
        {
          "output_type": "stream",
          "name": "stdout",
          "text": [
            "[MoviePy] Done.\n",
            "Generating file for id id01168\n"
          ]
        },
        {
          "output_type": "stream",
          "name": "stderr",
          "text": [
            "\n"
          ]
        },
        {
          "output_type": "stream",
          "name": "stdout",
          "text": [
            "[MoviePy] Writing audio in /content/drive/MyDrive/DeepFakeDetection/data/FakeAVCeleb_v1.2/real_videos_train/id01168/00029.wav\n"
          ]
        },
        {
          "output_type": "stream",
          "name": "stderr",
          "text": [
            "100%|██████████| 282/282 [00:00<00:00, 3246.35it/s]"
          ]
        },
        {
          "output_type": "stream",
          "name": "stdout",
          "text": [
            "[MoviePy] Done.\n",
            "Generating file for id id01168\n"
          ]
        },
        {
          "output_type": "stream",
          "name": "stderr",
          "text": [
            "\n"
          ]
        },
        {
          "output_type": "stream",
          "name": "stdout",
          "text": [
            "[MoviePy] Writing audio in /content/drive/MyDrive/DeepFakeDetection/data/FakeAVCeleb_v1.2/real_videos_train/id01168/00031.wav\n"
          ]
        },
        {
          "output_type": "stream",
          "name": "stderr",
          "text": [
            "100%|██████████| 387/387 [00:00<00:00, 3318.83it/s]"
          ]
        },
        {
          "output_type": "stream",
          "name": "stdout",
          "text": [
            "[MoviePy] Done.\n"
          ]
        },
        {
          "output_type": "stream",
          "name": "stderr",
          "text": [
            "\n"
          ]
        },
        {
          "output_type": "stream",
          "name": "stdout",
          "text": [
            "Generating file for id id01168\n",
            "[MoviePy] Writing audio in /content/drive/MyDrive/DeepFakeDetection/data/FakeAVCeleb_v1.2/real_videos_train/id01168/00030.wav\n"
          ]
        },
        {
          "output_type": "stream",
          "name": "stderr",
          "text": [
            "100%|██████████| 528/528 [00:00<00:00, 3220.15it/s]"
          ]
        },
        {
          "output_type": "stream",
          "name": "stdout",
          "text": [
            "[MoviePy] Done.\n"
          ]
        },
        {
          "output_type": "stream",
          "name": "stderr",
          "text": [
            "\n"
          ]
        },
        {
          "output_type": "stream",
          "name": "stdout",
          "text": [
            "Generating file for id id01168\n",
            "[MoviePy] Writing audio in /content/drive/MyDrive/DeepFakeDetection/data/FakeAVCeleb_v1.2/real_videos_train/id01168/00032.wav\n"
          ]
        },
        {
          "output_type": "stream",
          "name": "stderr",
          "text": [
            "100%|██████████| 534/534 [00:00<00:00, 3346.94it/s]"
          ]
        },
        {
          "output_type": "stream",
          "name": "stdout",
          "text": [
            "[MoviePy] Done.\n"
          ]
        },
        {
          "output_type": "stream",
          "name": "stderr",
          "text": [
            "\n"
          ]
        },
        {
          "output_type": "stream",
          "name": "stdout",
          "text": [
            "Generating file for id id01168\n",
            "[MoviePy] Writing audio in /content/drive/MyDrive/DeepFakeDetection/data/FakeAVCeleb_v1.2/real_videos_train/id01168/00033.wav\n"
          ]
        },
        {
          "output_type": "stream",
          "name": "stderr",
          "text": [
            "100%|██████████| 137/137 [00:00<00:00, 2995.46it/s]"
          ]
        },
        {
          "output_type": "stream",
          "name": "stdout",
          "text": [
            "[MoviePy] Done.\n",
            "Generating file for id id01168\n"
          ]
        },
        {
          "output_type": "stream",
          "name": "stderr",
          "text": [
            "\n"
          ]
        },
        {
          "output_type": "stream",
          "name": "stdout",
          "text": [
            "[MoviePy] Writing audio in /content/drive/MyDrive/DeepFakeDetection/data/FakeAVCeleb_v1.2/real_videos_train/id01168/00035.wav\n"
          ]
        },
        {
          "output_type": "stream",
          "name": "stderr",
          "text": [
            "100%|██████████| 139/139 [00:00<00:00, 3079.73it/s]"
          ]
        },
        {
          "output_type": "stream",
          "name": "stdout",
          "text": [
            "[MoviePy] Done.\n",
            "Generating file for id id01168\n"
          ]
        },
        {
          "output_type": "stream",
          "name": "stderr",
          "text": [
            "\n"
          ]
        },
        {
          "output_type": "stream",
          "name": "stdout",
          "text": [
            "[MoviePy] Writing audio in /content/drive/MyDrive/DeepFakeDetection/data/FakeAVCeleb_v1.2/real_videos_train/id01168/00034.wav\n"
          ]
        },
        {
          "output_type": "stream",
          "name": "stderr",
          "text": [
            "100%|██████████| 262/262 [00:00<00:00, 3261.79it/s]"
          ]
        },
        {
          "output_type": "stream",
          "name": "stdout",
          "text": [
            "[MoviePy] Done.\n",
            "Generating file for id id01168\n"
          ]
        },
        {
          "output_type": "stream",
          "name": "stderr",
          "text": [
            "\n"
          ]
        },
        {
          "output_type": "stream",
          "name": "stdout",
          "text": [
            "[MoviePy] Writing audio in /content/drive/MyDrive/DeepFakeDetection/data/FakeAVCeleb_v1.2/real_videos_train/id01168/00036.wav\n"
          ]
        },
        {
          "output_type": "stream",
          "name": "stderr",
          "text": [
            "100%|██████████| 139/139 [00:00<00:00, 2997.60it/s]"
          ]
        },
        {
          "output_type": "stream",
          "name": "stdout",
          "text": [
            "[MoviePy] Done.\n",
            "Generating file for id id01168\n"
          ]
        },
        {
          "output_type": "stream",
          "name": "stderr",
          "text": [
            "\n"
          ]
        },
        {
          "output_type": "stream",
          "name": "stdout",
          "text": [
            "[MoviePy] Writing audio in /content/drive/MyDrive/DeepFakeDetection/data/FakeAVCeleb_v1.2/real_videos_train/id01168/00037.wav\n"
          ]
        },
        {
          "output_type": "stream",
          "name": "stderr",
          "text": [
            "100%|██████████| 104/104 [00:00<00:00, 3303.35it/s]"
          ]
        },
        {
          "output_type": "stream",
          "name": "stdout",
          "text": [
            "[MoviePy] Done.\n",
            "Generating file for id id01168\n"
          ]
        },
        {
          "output_type": "stream",
          "name": "stderr",
          "text": [
            "\n"
          ]
        },
        {
          "output_type": "stream",
          "name": "stdout",
          "text": [
            "[MoviePy] Writing audio in /content/drive/MyDrive/DeepFakeDetection/data/FakeAVCeleb_v1.2/real_videos_train/id01168/00038.wav\n"
          ]
        },
        {
          "output_type": "stream",
          "name": "stderr",
          "text": [
            "100%|██████████| 191/191 [00:00<00:00, 3146.64it/s]"
          ]
        },
        {
          "output_type": "stream",
          "name": "stdout",
          "text": [
            "[MoviePy] Done.\n",
            "Generating file for id id01168\n"
          ]
        },
        {
          "output_type": "stream",
          "name": "stderr",
          "text": [
            "\n"
          ]
        },
        {
          "output_type": "stream",
          "name": "stdout",
          "text": [
            "[MoviePy] Writing audio in /content/drive/MyDrive/DeepFakeDetection/data/FakeAVCeleb_v1.2/real_videos_train/id01168/00039.wav\n"
          ]
        },
        {
          "output_type": "stream",
          "name": "stderr",
          "text": [
            "100%|██████████| 271/271 [00:00<00:00, 3179.40it/s]"
          ]
        },
        {
          "output_type": "stream",
          "name": "stdout",
          "text": [
            "[MoviePy] Done.\n",
            "Generating file for id id01168\n"
          ]
        },
        {
          "output_type": "stream",
          "name": "stderr",
          "text": [
            "\n"
          ]
        },
        {
          "output_type": "stream",
          "name": "stdout",
          "text": [
            "[MoviePy] Writing audio in /content/drive/MyDrive/DeepFakeDetection/data/FakeAVCeleb_v1.2/real_videos_train/id01168/00040.wav\n"
          ]
        },
        {
          "output_type": "stream",
          "name": "stderr",
          "text": [
            "100%|██████████| 238/238 [00:00<00:00, 3256.51it/s]"
          ]
        },
        {
          "output_type": "stream",
          "name": "stdout",
          "text": [
            "[MoviePy] Done.\n",
            "Generating file for id id01168\n"
          ]
        },
        {
          "output_type": "stream",
          "name": "stderr",
          "text": [
            "\n"
          ]
        },
        {
          "output_type": "stream",
          "name": "stdout",
          "text": [
            "[MoviePy] Writing audio in /content/drive/MyDrive/DeepFakeDetection/data/FakeAVCeleb_v1.2/real_videos_train/id01168/00043.wav\n"
          ]
        },
        {
          "output_type": "stream",
          "name": "stderr",
          "text": [
            "100%|██████████| 275/275 [00:00<00:00, 3229.78it/s]"
          ]
        },
        {
          "output_type": "stream",
          "name": "stdout",
          "text": [
            "[MoviePy] Done.\n",
            "Generating file for id id01168\n"
          ]
        },
        {
          "output_type": "stream",
          "name": "stderr",
          "text": [
            "\n"
          ]
        },
        {
          "output_type": "stream",
          "name": "stdout",
          "text": [
            "[MoviePy] Writing audio in /content/drive/MyDrive/DeepFakeDetection/data/FakeAVCeleb_v1.2/real_videos_train/id01168/00042.wav\n"
          ]
        },
        {
          "output_type": "stream",
          "name": "stderr",
          "text": [
            "100%|██████████| 177/177 [00:00<00:00, 2991.92it/s]"
          ]
        },
        {
          "output_type": "stream",
          "name": "stdout",
          "text": [
            "[MoviePy] Done.\n",
            "Generating file for id id01168\n"
          ]
        },
        {
          "output_type": "stream",
          "name": "stderr",
          "text": [
            "\n"
          ]
        },
        {
          "output_type": "stream",
          "name": "stdout",
          "text": [
            "[MoviePy] Writing audio in /content/drive/MyDrive/DeepFakeDetection/data/FakeAVCeleb_v1.2/real_videos_train/id01168/00046.wav\n"
          ]
        },
        {
          "output_type": "stream",
          "name": "stderr",
          "text": [
            "100%|██████████| 218/218 [00:00<00:00, 2336.06it/s]"
          ]
        },
        {
          "output_type": "stream",
          "name": "stdout",
          "text": [
            "[MoviePy] Done.\n",
            "Generating file for id id01168\n"
          ]
        },
        {
          "output_type": "stream",
          "name": "stderr",
          "text": [
            "\n"
          ]
        },
        {
          "output_type": "stream",
          "name": "stdout",
          "text": [
            "[MoviePy] Writing audio in /content/drive/MyDrive/DeepFakeDetection/data/FakeAVCeleb_v1.2/real_videos_train/id01168/00044.wav\n"
          ]
        },
        {
          "output_type": "stream",
          "name": "stderr",
          "text": [
            "100%|██████████| 118/118 [00:00<00:00, 3064.32it/s]"
          ]
        },
        {
          "output_type": "stream",
          "name": "stdout",
          "text": [
            "[MoviePy] Done.\n",
            "Generating file for id id01168\n"
          ]
        },
        {
          "output_type": "stream",
          "name": "stderr",
          "text": [
            "\n"
          ]
        },
        {
          "output_type": "stream",
          "name": "stdout",
          "text": [
            "[MoviePy] Writing audio in /content/drive/MyDrive/DeepFakeDetection/data/FakeAVCeleb_v1.2/real_videos_train/id01168/00045.wav\n"
          ]
        },
        {
          "output_type": "stream",
          "name": "stderr",
          "text": [
            "100%|██████████| 165/165 [00:00<00:00, 2674.42it/s]"
          ]
        },
        {
          "output_type": "stream",
          "name": "stdout",
          "text": [
            "[MoviePy] Done.\n",
            "Generating file for id id01168\n"
          ]
        },
        {
          "output_type": "stream",
          "name": "stderr",
          "text": [
            "\n"
          ]
        },
        {
          "output_type": "stream",
          "name": "stdout",
          "text": [
            "[MoviePy] Writing audio in /content/drive/MyDrive/DeepFakeDetection/data/FakeAVCeleb_v1.2/real_videos_train/id01168/00048.wav\n"
          ]
        },
        {
          "output_type": "stream",
          "name": "stderr",
          "text": [
            "100%|██████████| 158/158 [00:00<00:00, 2736.26it/s]"
          ]
        },
        {
          "output_type": "stream",
          "name": "stdout",
          "text": [
            "[MoviePy] Done.\n",
            "Generating file for id id01168\n"
          ]
        },
        {
          "output_type": "stream",
          "name": "stderr",
          "text": [
            "\n"
          ]
        },
        {
          "output_type": "stream",
          "name": "stdout",
          "text": [
            "[MoviePy] Writing audio in /content/drive/MyDrive/DeepFakeDetection/data/FakeAVCeleb_v1.2/real_videos_train/id01168/00049.wav\n"
          ]
        },
        {
          "output_type": "stream",
          "name": "stderr",
          "text": [
            "100%|██████████| 127/127 [00:00<00:00, 3038.85it/s]"
          ]
        },
        {
          "output_type": "stream",
          "name": "stdout",
          "text": [
            "[MoviePy] Done.\n",
            "Generating file for id id01168\n"
          ]
        },
        {
          "output_type": "stream",
          "name": "stderr",
          "text": [
            "\n"
          ]
        },
        {
          "output_type": "stream",
          "name": "stdout",
          "text": [
            "[MoviePy] Writing audio in /content/drive/MyDrive/DeepFakeDetection/data/FakeAVCeleb_v1.2/real_videos_train/id01168/00051.wav\n"
          ]
        },
        {
          "output_type": "stream",
          "name": "stderr",
          "text": [
            "100%|██████████| 241/241 [00:00<00:00, 3299.80it/s]"
          ]
        },
        {
          "output_type": "stream",
          "name": "stdout",
          "text": [
            "[MoviePy] Done.\n",
            "Generating file for id id01168\n"
          ]
        },
        {
          "output_type": "stream",
          "name": "stderr",
          "text": [
            "\n"
          ]
        },
        {
          "output_type": "stream",
          "name": "stdout",
          "text": [
            "[MoviePy] Writing audio in /content/drive/MyDrive/DeepFakeDetection/data/FakeAVCeleb_v1.2/real_videos_train/id01168/00050.wav\n"
          ]
        },
        {
          "output_type": "stream",
          "name": "stderr",
          "text": [
            "100%|██████████| 135/135 [00:00<00:00, 2876.78it/s]"
          ]
        },
        {
          "output_type": "stream",
          "name": "stdout",
          "text": [
            "[MoviePy] Done.\n",
            "Generating file for id id01168\n"
          ]
        },
        {
          "output_type": "stream",
          "name": "stderr",
          "text": [
            "\n"
          ]
        },
        {
          "output_type": "stream",
          "name": "stdout",
          "text": [
            "[MoviePy] Writing audio in /content/drive/MyDrive/DeepFakeDetection/data/FakeAVCeleb_v1.2/real_videos_train/id01168/00052.wav\n"
          ]
        },
        {
          "output_type": "stream",
          "name": "stderr",
          "text": [
            "100%|██████████| 438/438 [00:00<00:00, 3383.65it/s]"
          ]
        },
        {
          "output_type": "stream",
          "name": "stdout",
          "text": [
            "[MoviePy] Done.\n"
          ]
        },
        {
          "output_type": "stream",
          "name": "stderr",
          "text": [
            "\n"
          ]
        },
        {
          "output_type": "stream",
          "name": "stdout",
          "text": [
            "Generating file for id id01168\n",
            "[MoviePy] Writing audio in /content/drive/MyDrive/DeepFakeDetection/data/FakeAVCeleb_v1.2/real_videos_train/id01168/00053.wav\n"
          ]
        },
        {
          "output_type": "stream",
          "name": "stderr",
          "text": [
            "100%|██████████| 311/311 [00:00<00:00, 3384.79it/s]"
          ]
        },
        {
          "output_type": "stream",
          "name": "stdout",
          "text": [
            "[MoviePy] Done.\n",
            "Generating file for id id01168\n"
          ]
        },
        {
          "output_type": "stream",
          "name": "stderr",
          "text": [
            "\n"
          ]
        },
        {
          "output_type": "stream",
          "name": "stdout",
          "text": [
            "[MoviePy] Writing audio in /content/drive/MyDrive/DeepFakeDetection/data/FakeAVCeleb_v1.2/real_videos_train/id01168/00054.wav\n"
          ]
        },
        {
          "output_type": "stream",
          "name": "stderr",
          "text": [
            "100%|██████████| 131/131 [00:00<00:00, 3031.29it/s]"
          ]
        },
        {
          "output_type": "stream",
          "name": "stdout",
          "text": [
            "[MoviePy] Done.\n",
            "Generating file for id id02494\n"
          ]
        },
        {
          "output_type": "stream",
          "name": "stderr",
          "text": [
            "\n"
          ]
        },
        {
          "output_type": "stream",
          "name": "stdout",
          "text": [
            "[MoviePy] Writing audio in /content/drive/MyDrive/DeepFakeDetection/data/FakeAVCeleb_v1.2/real_videos_train/id02494/00001.wav\n"
          ]
        },
        {
          "output_type": "stream",
          "name": "stderr",
          "text": [
            "100%|██████████| 195/195 [00:00<00:00, 3103.72it/s]"
          ]
        },
        {
          "output_type": "stream",
          "name": "stdout",
          "text": [
            "[MoviePy] Done.\n",
            "Generating file for id id02494\n"
          ]
        },
        {
          "output_type": "stream",
          "name": "stderr",
          "text": [
            "\n"
          ]
        },
        {
          "output_type": "stream",
          "name": "stdout",
          "text": [
            "[MoviePy] Writing audio in /content/drive/MyDrive/DeepFakeDetection/data/FakeAVCeleb_v1.2/real_videos_train/id02494/00005.wav\n"
          ]
        },
        {
          "output_type": "stream",
          "name": "stderr",
          "text": [
            "100%|██████████| 96/96 [00:00<00:00, 3100.93it/s]"
          ]
        },
        {
          "output_type": "stream",
          "name": "stdout",
          "text": [
            "[MoviePy] Done.\n",
            "Generating file for id id02494\n"
          ]
        },
        {
          "output_type": "stream",
          "name": "stderr",
          "text": [
            "\n"
          ]
        },
        {
          "output_type": "stream",
          "name": "stdout",
          "text": [
            "[MoviePy] Writing audio in /content/drive/MyDrive/DeepFakeDetection/data/FakeAVCeleb_v1.2/real_videos_train/id02494/00006.wav\n"
          ]
        },
        {
          "output_type": "stream",
          "name": "stderr",
          "text": [
            "100%|██████████| 92/92 [00:00<00:00, 3167.46it/s]"
          ]
        },
        {
          "output_type": "stream",
          "name": "stdout",
          "text": [
            "[MoviePy] Done.\n",
            "Generating file for id id02494\n"
          ]
        },
        {
          "output_type": "stream",
          "name": "stderr",
          "text": [
            "\n"
          ]
        },
        {
          "output_type": "stream",
          "name": "stdout",
          "text": [
            "[MoviePy] Writing audio in /content/drive/MyDrive/DeepFakeDetection/data/FakeAVCeleb_v1.2/real_videos_train/id02494/00007.wav\n"
          ]
        },
        {
          "output_type": "stream",
          "name": "stderr",
          "text": [
            "100%|██████████| 103/103 [00:00<00:00, 3119.21it/s]"
          ]
        },
        {
          "output_type": "stream",
          "name": "stdout",
          "text": [
            "[MoviePy] Done.\n",
            "Generating file for id id02494\n"
          ]
        },
        {
          "output_type": "stream",
          "name": "stderr",
          "text": [
            "\n"
          ]
        },
        {
          "output_type": "stream",
          "name": "stdout",
          "text": [
            "[MoviePy] Writing audio in /content/drive/MyDrive/DeepFakeDetection/data/FakeAVCeleb_v1.2/real_videos_train/id02494/00009.wav\n"
          ]
        },
        {
          "output_type": "stream",
          "name": "stderr",
          "text": [
            "100%|██████████| 135/135 [00:00<00:00, 3012.00it/s]"
          ]
        },
        {
          "output_type": "stream",
          "name": "stdout",
          "text": [
            "[MoviePy] Done.\n",
            "Generating file for id id02494\n"
          ]
        },
        {
          "output_type": "stream",
          "name": "stderr",
          "text": [
            "\n"
          ]
        },
        {
          "output_type": "stream",
          "name": "stdout",
          "text": [
            "[MoviePy] Writing audio in /content/drive/MyDrive/DeepFakeDetection/data/FakeAVCeleb_v1.2/real_videos_train/id02494/00008.wav\n"
          ]
        },
        {
          "output_type": "stream",
          "name": "stderr",
          "text": [
            "100%|██████████| 157/157 [00:00<00:00, 2199.67it/s]"
          ]
        },
        {
          "output_type": "stream",
          "name": "stdout",
          "text": [
            "[MoviePy] Done.\n",
            "Generating file for id id02494\n"
          ]
        },
        {
          "output_type": "stream",
          "name": "stderr",
          "text": [
            "\n"
          ]
        },
        {
          "output_type": "stream",
          "name": "stdout",
          "text": [
            "[MoviePy] Writing audio in /content/drive/MyDrive/DeepFakeDetection/data/FakeAVCeleb_v1.2/real_videos_train/id02494/00011.wav\n"
          ]
        },
        {
          "output_type": "stream",
          "name": "stderr",
          "text": [
            "100%|██████████| 183/183 [00:00<00:00, 3137.73it/s]"
          ]
        },
        {
          "output_type": "stream",
          "name": "stdout",
          "text": [
            "[MoviePy] Done.\n",
            "Generating file for id id02494\n"
          ]
        },
        {
          "output_type": "stream",
          "name": "stderr",
          "text": [
            "\n"
          ]
        },
        {
          "output_type": "stream",
          "name": "stdout",
          "text": [
            "[MoviePy] Writing audio in /content/drive/MyDrive/DeepFakeDetection/data/FakeAVCeleb_v1.2/real_videos_train/id02494/00010.wav\n"
          ]
        },
        {
          "output_type": "stream",
          "name": "stderr",
          "text": [
            "100%|██████████| 117/117 [00:00<00:00, 3001.54it/s]"
          ]
        },
        {
          "output_type": "stream",
          "name": "stdout",
          "text": [
            "[MoviePy] Done.\n",
            "Generating file for id id02494\n"
          ]
        },
        {
          "output_type": "stream",
          "name": "stderr",
          "text": [
            "\n"
          ]
        },
        {
          "output_type": "stream",
          "name": "stdout",
          "text": [
            "[MoviePy] Writing audio in /content/drive/MyDrive/DeepFakeDetection/data/FakeAVCeleb_v1.2/real_videos_train/id02494/00013.wav\n"
          ]
        },
        {
          "output_type": "stream",
          "name": "stderr",
          "text": [
            "100%|██████████| 114/114 [00:00<00:00, 2908.81it/s]"
          ]
        },
        {
          "output_type": "stream",
          "name": "stdout",
          "text": [
            "[MoviePy] Done.\n",
            "Generating file for id id02494\n"
          ]
        },
        {
          "output_type": "stream",
          "name": "stderr",
          "text": [
            "\n"
          ]
        },
        {
          "output_type": "stream",
          "name": "stdout",
          "text": [
            "[MoviePy] Writing audio in /content/drive/MyDrive/DeepFakeDetection/data/FakeAVCeleb_v1.2/real_videos_train/id02494/00012.wav\n"
          ]
        },
        {
          "output_type": "stream",
          "name": "stderr",
          "text": [
            "100%|██████████| 124/124 [00:00<00:00, 3073.29it/s]"
          ]
        },
        {
          "output_type": "stream",
          "name": "stdout",
          "text": [
            "[MoviePy] Done.\n",
            "Generating file for id id02494\n"
          ]
        },
        {
          "output_type": "stream",
          "name": "stderr",
          "text": [
            "\n"
          ]
        },
        {
          "output_type": "stream",
          "name": "stdout",
          "text": [
            "[MoviePy] Writing audio in /content/drive/MyDrive/DeepFakeDetection/data/FakeAVCeleb_v1.2/real_videos_train/id02494/00017.wav\n"
          ]
        },
        {
          "output_type": "stream",
          "name": "stderr",
          "text": [
            "100%|██████████| 150/150 [00:00<00:00, 3173.51it/s]"
          ]
        },
        {
          "output_type": "stream",
          "name": "stdout",
          "text": [
            "[MoviePy] Done.\n",
            "Generating file for id id02494\n"
          ]
        },
        {
          "output_type": "stream",
          "name": "stderr",
          "text": [
            "\n"
          ]
        },
        {
          "output_type": "stream",
          "name": "stdout",
          "text": [
            "[MoviePy] Writing audio in /content/drive/MyDrive/DeepFakeDetection/data/FakeAVCeleb_v1.2/real_videos_train/id02494/00018.wav\n"
          ]
        },
        {
          "output_type": "stream",
          "name": "stderr",
          "text": [
            "100%|██████████| 146/146 [00:00<00:00, 2285.54it/s]"
          ]
        },
        {
          "output_type": "stream",
          "name": "stdout",
          "text": [
            "[MoviePy] Done.\n",
            "Generating file for id id02494\n"
          ]
        },
        {
          "output_type": "stream",
          "name": "stderr",
          "text": [
            "\n"
          ]
        },
        {
          "output_type": "stream",
          "name": "stdout",
          "text": [
            "[MoviePy] Writing audio in /content/drive/MyDrive/DeepFakeDetection/data/FakeAVCeleb_v1.2/real_videos_train/id02494/00016.wav\n"
          ]
        },
        {
          "output_type": "stream",
          "name": "stderr",
          "text": [
            "100%|██████████| 97/97 [00:00<00:00, 3427.30it/s]"
          ]
        },
        {
          "output_type": "stream",
          "name": "stdout",
          "text": [
            "[MoviePy] Done.\n",
            "Generating file for id id02494\n"
          ]
        },
        {
          "output_type": "stream",
          "name": "stderr",
          "text": [
            "\n"
          ]
        },
        {
          "output_type": "stream",
          "name": "stdout",
          "text": [
            "[MoviePy] Writing audio in /content/drive/MyDrive/DeepFakeDetection/data/FakeAVCeleb_v1.2/real_videos_train/id02494/00020.wav\n"
          ]
        },
        {
          "output_type": "stream",
          "name": "stderr",
          "text": [
            "100%|██████████| 201/201 [00:00<00:00, 3304.10it/s]"
          ]
        },
        {
          "output_type": "stream",
          "name": "stdout",
          "text": [
            "[MoviePy] Done.\n",
            "Generating file for id id02494\n"
          ]
        },
        {
          "output_type": "stream",
          "name": "stderr",
          "text": [
            "\n"
          ]
        },
        {
          "output_type": "stream",
          "name": "stdout",
          "text": [
            "[MoviePy] Writing audio in /content/drive/MyDrive/DeepFakeDetection/data/FakeAVCeleb_v1.2/real_videos_train/id02494/00019.wav\n"
          ]
        },
        {
          "output_type": "stream",
          "name": "stderr",
          "text": [
            "100%|██████████| 90/90 [00:00<00:00, 2950.94it/s]"
          ]
        },
        {
          "output_type": "stream",
          "name": "stdout",
          "text": [
            "[MoviePy] Done.\n",
            "Generating file for id id02494\n"
          ]
        },
        {
          "output_type": "stream",
          "name": "stderr",
          "text": [
            "\n"
          ]
        },
        {
          "output_type": "stream",
          "name": "stdout",
          "text": [
            "[MoviePy] Writing audio in /content/drive/MyDrive/DeepFakeDetection/data/FakeAVCeleb_v1.2/real_videos_train/id02494/00022.wav\n"
          ]
        },
        {
          "output_type": "stream",
          "name": "stderr",
          "text": [
            "100%|██████████| 92/92 [00:00<00:00, 2955.61it/s]"
          ]
        },
        {
          "output_type": "stream",
          "name": "stdout",
          "text": [
            "[MoviePy] Done.\n",
            "Generating file for id id02494\n"
          ]
        },
        {
          "output_type": "stream",
          "name": "stderr",
          "text": [
            "\n"
          ]
        },
        {
          "output_type": "stream",
          "name": "stdout",
          "text": [
            "[MoviePy] Writing audio in /content/drive/MyDrive/DeepFakeDetection/data/FakeAVCeleb_v1.2/real_videos_train/id02494/00021.wav\n"
          ]
        },
        {
          "output_type": "stream",
          "name": "stderr",
          "text": [
            "100%|██████████| 96/96 [00:00<00:00, 3250.45it/s]"
          ]
        },
        {
          "output_type": "stream",
          "name": "stdout",
          "text": [
            "[MoviePy] Done.\n",
            "Generating file for id id02494\n"
          ]
        },
        {
          "output_type": "stream",
          "name": "stderr",
          "text": [
            "\n"
          ]
        },
        {
          "output_type": "stream",
          "name": "stdout",
          "text": [
            "[MoviePy] Writing audio in /content/drive/MyDrive/DeepFakeDetection/data/FakeAVCeleb_v1.2/real_videos_train/id02494/00023.wav\n"
          ]
        },
        {
          "output_type": "stream",
          "name": "stderr",
          "text": [
            "\r  0%|          | 0/153 [00:00<?, ?it/s]WARNING:py.warnings:/usr/local/lib/python3.7/dist-packages/moviepy/audio/io/readers.py:198: UserWarning: Error in file /content/drive/MyDrive/DeepFakeDetection/data/FakeAVCeleb_v1.2/real_videos_train/id02494/00023.mp4, At time t=6.85-6.90 seconds, indices wanted: 99698-101686, but len(buffer)=99699\n",
            "index 99699 is out of bounds for axis 0 with size 99699\n",
            "  UserWarning)\n",
            "\n",
            "100%|██████████| 153/153 [00:00<00:00, 3135.52it/s]"
          ]
        },
        {
          "output_type": "stream",
          "name": "stdout",
          "text": [
            "[MoviePy] Done.\n",
            "Generating file for id id02494\n"
          ]
        },
        {
          "output_type": "stream",
          "name": "stderr",
          "text": [
            "\n"
          ]
        },
        {
          "output_type": "stream",
          "name": "stdout",
          "text": [
            "[MoviePy] Writing audio in /content/drive/MyDrive/DeepFakeDetection/data/FakeAVCeleb_v1.2/real_videos_train/id02494/00024.wav\n"
          ]
        },
        {
          "output_type": "stream",
          "name": "stderr",
          "text": [
            "100%|██████████| 100/100 [00:00<00:00, 3265.04it/s]"
          ]
        },
        {
          "output_type": "stream",
          "name": "stdout",
          "text": [
            "[MoviePy] Done.\n",
            "Generating file for id id02494\n"
          ]
        },
        {
          "output_type": "stream",
          "name": "stderr",
          "text": [
            "\n"
          ]
        },
        {
          "output_type": "stream",
          "name": "stdout",
          "text": [
            "[MoviePy] Writing audio in /content/drive/MyDrive/DeepFakeDetection/data/FakeAVCeleb_v1.2/real_videos_train/id02494/00026.wav\n"
          ]
        },
        {
          "output_type": "stream",
          "name": "stderr",
          "text": [
            "100%|██████████| 101/101 [00:00<00:00, 2994.68it/s]"
          ]
        },
        {
          "output_type": "stream",
          "name": "stdout",
          "text": [
            "[MoviePy] Done.\n",
            "Generating file for id id02494\n"
          ]
        },
        {
          "output_type": "stream",
          "name": "stderr",
          "text": [
            "\n"
          ]
        },
        {
          "output_type": "stream",
          "name": "stdout",
          "text": [
            "[MoviePy] Writing audio in /content/drive/MyDrive/DeepFakeDetection/data/FakeAVCeleb_v1.2/real_videos_train/id02494/00029.wav\n"
          ]
        },
        {
          "output_type": "stream",
          "name": "stderr",
          "text": [
            "100%|██████████| 108/108 [00:00<00:00, 3202.37it/s]"
          ]
        },
        {
          "output_type": "stream",
          "name": "stdout",
          "text": [
            "[MoviePy] Done.\n",
            "Generating file for id id02494\n"
          ]
        },
        {
          "output_type": "stream",
          "name": "stderr",
          "text": [
            "\n"
          ]
        },
        {
          "output_type": "stream",
          "name": "stdout",
          "text": [
            "[MoviePy] Writing audio in /content/drive/MyDrive/DeepFakeDetection/data/FakeAVCeleb_v1.2/real_videos_train/id02494/00027.wav\n"
          ]
        },
        {
          "output_type": "stream",
          "name": "stderr",
          "text": [
            "100%|██████████| 90/90 [00:00<00:00, 3092.38it/s]"
          ]
        },
        {
          "output_type": "stream",
          "name": "stdout",
          "text": [
            "[MoviePy] Done.\n",
            "Generating file for id id02494\n"
          ]
        },
        {
          "output_type": "stream",
          "name": "stderr",
          "text": [
            "\n"
          ]
        },
        {
          "output_type": "stream",
          "name": "stdout",
          "text": [
            "[MoviePy] Writing audio in /content/drive/MyDrive/DeepFakeDetection/data/FakeAVCeleb_v1.2/real_videos_train/id02494/00028.wav\n"
          ]
        },
        {
          "output_type": "stream",
          "name": "stderr",
          "text": [
            "100%|██████████| 92/92 [00:00<00:00, 1689.46it/s]"
          ]
        },
        {
          "output_type": "stream",
          "name": "stdout",
          "text": [
            "[MoviePy] Done.\n",
            "Generating file for id id02494\n"
          ]
        },
        {
          "output_type": "stream",
          "name": "stderr",
          "text": [
            "\n"
          ]
        },
        {
          "output_type": "stream",
          "name": "stdout",
          "text": [
            "[MoviePy] Writing audio in /content/drive/MyDrive/DeepFakeDetection/data/FakeAVCeleb_v1.2/real_videos_train/id02494/00030.wav\n"
          ]
        },
        {
          "output_type": "stream",
          "name": "stderr",
          "text": [
            "100%|██████████| 99/99 [00:00<00:00, 3314.73it/s]"
          ]
        },
        {
          "output_type": "stream",
          "name": "stdout",
          "text": [
            "[MoviePy] Done.\n",
            "Generating file for id id02494\n"
          ]
        },
        {
          "output_type": "stream",
          "name": "stderr",
          "text": [
            "\n"
          ]
        },
        {
          "output_type": "stream",
          "name": "stdout",
          "text": [
            "[MoviePy] Writing audio in /content/drive/MyDrive/DeepFakeDetection/data/FakeAVCeleb_v1.2/real_videos_train/id02494/00033.wav\n"
          ]
        },
        {
          "output_type": "stream",
          "name": "stderr",
          "text": [
            "100%|██████████| 109/109 [00:00<00:00, 2715.86it/s]"
          ]
        },
        {
          "output_type": "stream",
          "name": "stdout",
          "text": [
            "[MoviePy] Done.\n",
            "Generating file for id id02494\n"
          ]
        },
        {
          "output_type": "stream",
          "name": "stderr",
          "text": [
            "\n"
          ]
        },
        {
          "output_type": "stream",
          "name": "stdout",
          "text": [
            "[MoviePy] Writing audio in /content/drive/MyDrive/DeepFakeDetection/data/FakeAVCeleb_v1.2/real_videos_train/id02494/00032.wav\n"
          ]
        },
        {
          "output_type": "stream",
          "name": "stderr",
          "text": [
            "100%|██████████| 105/105 [00:00<00:00, 3290.02it/s]"
          ]
        },
        {
          "output_type": "stream",
          "name": "stdout",
          "text": [
            "[MoviePy] Done.\n",
            "Generating file for id id02494\n"
          ]
        },
        {
          "output_type": "stream",
          "name": "stderr",
          "text": [
            "\n"
          ]
        },
        {
          "output_type": "stream",
          "name": "stdout",
          "text": [
            "[MoviePy] Writing audio in /content/drive/MyDrive/DeepFakeDetection/data/FakeAVCeleb_v1.2/real_videos_train/id02494/00035.wav\n"
          ]
        },
        {
          "output_type": "stream",
          "name": "stderr",
          "text": [
            "100%|██████████| 129/129 [00:00<00:00, 2851.85it/s]"
          ]
        },
        {
          "output_type": "stream",
          "name": "stdout",
          "text": [
            "[MoviePy] Done.\n",
            "Generating file for id id02494\n"
          ]
        },
        {
          "output_type": "stream",
          "name": "stderr",
          "text": [
            "\n"
          ]
        },
        {
          "output_type": "stream",
          "name": "stdout",
          "text": [
            "[MoviePy] Writing audio in /content/drive/MyDrive/DeepFakeDetection/data/FakeAVCeleb_v1.2/real_videos_train/id02494/00034.wav\n"
          ]
        },
        {
          "output_type": "stream",
          "name": "stderr",
          "text": [
            "100%|██████████| 138/138 [00:00<00:00, 2930.84it/s]"
          ]
        },
        {
          "output_type": "stream",
          "name": "stdout",
          "text": [
            "[MoviePy] Done.\n",
            "Generating file for id id02494\n"
          ]
        },
        {
          "output_type": "stream",
          "name": "stderr",
          "text": [
            "\n"
          ]
        },
        {
          "output_type": "stream",
          "name": "stdout",
          "text": [
            "[MoviePy] Writing audio in /content/drive/MyDrive/DeepFakeDetection/data/FakeAVCeleb_v1.2/real_videos_train/id02494/00036.wav\n"
          ]
        },
        {
          "output_type": "stream",
          "name": "stderr",
          "text": [
            "100%|██████████| 109/109 [00:00<00:00, 2935.00it/s]"
          ]
        },
        {
          "output_type": "stream",
          "name": "stdout",
          "text": [
            "[MoviePy] Done.\n",
            "Generating file for id id02494\n"
          ]
        },
        {
          "output_type": "stream",
          "name": "stderr",
          "text": [
            "\n"
          ]
        },
        {
          "output_type": "stream",
          "name": "stdout",
          "text": [
            "[MoviePy] Writing audio in /content/drive/MyDrive/DeepFakeDetection/data/FakeAVCeleb_v1.2/real_videos_train/id02494/00037.wav\n"
          ]
        },
        {
          "output_type": "stream",
          "name": "stderr",
          "text": [
            "100%|██████████| 89/89 [00:00<00:00, 2771.05it/s]"
          ]
        },
        {
          "output_type": "stream",
          "name": "stdout",
          "text": [
            "[MoviePy] Done.\n",
            "Generating file for id id02494\n"
          ]
        },
        {
          "output_type": "stream",
          "name": "stderr",
          "text": [
            "\n"
          ]
        },
        {
          "output_type": "stream",
          "name": "stdout",
          "text": [
            "[MoviePy] Writing audio in /content/drive/MyDrive/DeepFakeDetection/data/FakeAVCeleb_v1.2/real_videos_train/id02494/00040.wav\n"
          ]
        },
        {
          "output_type": "stream",
          "name": "stderr",
          "text": [
            "100%|██████████| 100/100 [00:00<00:00, 3228.67it/s]"
          ]
        },
        {
          "output_type": "stream",
          "name": "stdout",
          "text": [
            "[MoviePy] Done.\n",
            "Generating file for id id02494\n"
          ]
        },
        {
          "output_type": "stream",
          "name": "stderr",
          "text": [
            "\n"
          ]
        },
        {
          "output_type": "stream",
          "name": "stdout",
          "text": [
            "[MoviePy] Writing audio in /content/drive/MyDrive/DeepFakeDetection/data/FakeAVCeleb_v1.2/real_videos_train/id02494/00039.wav\n"
          ]
        },
        {
          "output_type": "stream",
          "name": "stderr",
          "text": [
            "100%|██████████| 90/90 [00:00<00:00, 2571.63it/s]"
          ]
        },
        {
          "output_type": "stream",
          "name": "stdout",
          "text": [
            "[MoviePy] Done.\n",
            "Generating file for id id02494\n"
          ]
        },
        {
          "output_type": "stream",
          "name": "stderr",
          "text": [
            "\n"
          ]
        },
        {
          "output_type": "stream",
          "name": "stdout",
          "text": [
            "[MoviePy] Writing audio in /content/drive/MyDrive/DeepFakeDetection/data/FakeAVCeleb_v1.2/real_videos_train/id02494/00038.wav\n"
          ]
        },
        {
          "output_type": "stream",
          "name": "stderr",
          "text": [
            "100%|██████████| 89/89 [00:00<00:00, 3042.55it/s]"
          ]
        },
        {
          "output_type": "stream",
          "name": "stdout",
          "text": [
            "[MoviePy] Done.\n",
            "Generating file for id id02494\n"
          ]
        },
        {
          "output_type": "stream",
          "name": "stderr",
          "text": [
            "\n"
          ]
        },
        {
          "output_type": "stream",
          "name": "stdout",
          "text": [
            "[MoviePy] Writing audio in /content/drive/MyDrive/DeepFakeDetection/data/FakeAVCeleb_v1.2/real_videos_train/id02494/00047.wav\n"
          ]
        },
        {
          "output_type": "stream",
          "name": "stderr",
          "text": [
            "100%|██████████| 126/126 [00:00<00:00, 3082.39it/s]"
          ]
        },
        {
          "output_type": "stream",
          "name": "stdout",
          "text": [
            "[MoviePy] Done.\n",
            "Generating file for id id02494\n"
          ]
        },
        {
          "output_type": "stream",
          "name": "stderr",
          "text": [
            "\n"
          ]
        },
        {
          "output_type": "stream",
          "name": "stdout",
          "text": [
            "[MoviePy] Writing audio in /content/drive/MyDrive/DeepFakeDetection/data/FakeAVCeleb_v1.2/real_videos_train/id02494/00048.wav\n"
          ]
        },
        {
          "output_type": "stream",
          "name": "stderr",
          "text": [
            "100%|██████████| 104/104 [00:00<00:00, 2994.53it/s]"
          ]
        },
        {
          "output_type": "stream",
          "name": "stdout",
          "text": [
            "[MoviePy] Done.\n",
            "Generating file for id id02494\n"
          ]
        },
        {
          "output_type": "stream",
          "name": "stderr",
          "text": [
            "\n"
          ]
        },
        {
          "output_type": "stream",
          "name": "stdout",
          "text": [
            "[MoviePy] Writing audio in /content/drive/MyDrive/DeepFakeDetection/data/FakeAVCeleb_v1.2/real_videos_train/id02494/00046.wav\n"
          ]
        },
        {
          "output_type": "stream",
          "name": "stderr",
          "text": [
            "100%|██████████| 114/114 [00:00<00:00, 3112.88it/s]"
          ]
        },
        {
          "output_type": "stream",
          "name": "stdout",
          "text": [
            "[MoviePy] Done.\n",
            "Generating file for id id02494\n"
          ]
        },
        {
          "output_type": "stream",
          "name": "stderr",
          "text": [
            "\n"
          ]
        },
        {
          "output_type": "stream",
          "name": "stdout",
          "text": [
            "[MoviePy] Writing audio in /content/drive/MyDrive/DeepFakeDetection/data/FakeAVCeleb_v1.2/real_videos_train/id02494/00049.wav\n"
          ]
        },
        {
          "output_type": "stream",
          "name": "stderr",
          "text": [
            "100%|██████████| 113/113 [00:00<00:00, 2957.92it/s]"
          ]
        },
        {
          "output_type": "stream",
          "name": "stdout",
          "text": [
            "[MoviePy] Done.\n",
            "Generating file for id id02494\n"
          ]
        },
        {
          "output_type": "stream",
          "name": "stderr",
          "text": [
            "\n"
          ]
        },
        {
          "output_type": "stream",
          "name": "stdout",
          "text": [
            "[MoviePy] Writing audio in /content/drive/MyDrive/DeepFakeDetection/data/FakeAVCeleb_v1.2/real_videos_train/id02494/00050.wav\n"
          ]
        },
        {
          "output_type": "stream",
          "name": "stderr",
          "text": [
            "100%|██████████| 96/96 [00:00<00:00, 1828.26it/s]"
          ]
        },
        {
          "output_type": "stream",
          "name": "stdout",
          "text": [
            "[MoviePy] Done.\n",
            "Generating file for id id02494\n"
          ]
        },
        {
          "output_type": "stream",
          "name": "stderr",
          "text": [
            "\n"
          ]
        },
        {
          "output_type": "stream",
          "name": "stdout",
          "text": [
            "[MoviePy] Writing audio in /content/drive/MyDrive/DeepFakeDetection/data/FakeAVCeleb_v1.2/real_videos_train/id02494/00051.wav\n"
          ]
        },
        {
          "output_type": "stream",
          "name": "stderr",
          "text": [
            "100%|██████████| 135/135 [00:00<00:00, 2855.34it/s]"
          ]
        },
        {
          "output_type": "stream",
          "name": "stdout",
          "text": [
            "[MoviePy] Done.\n",
            "Generating file for id id02494\n"
          ]
        },
        {
          "output_type": "stream",
          "name": "stderr",
          "text": [
            "\n"
          ]
        },
        {
          "output_type": "stream",
          "name": "stdout",
          "text": [
            "[MoviePy] Writing audio in /content/drive/MyDrive/DeepFakeDetection/data/FakeAVCeleb_v1.2/real_videos_train/id02494/00053.wav\n"
          ]
        },
        {
          "output_type": "stream",
          "name": "stderr",
          "text": [
            "100%|██████████| 95/95 [00:00<00:00, 3243.70it/s]"
          ]
        },
        {
          "output_type": "stream",
          "name": "stdout",
          "text": [
            "[MoviePy] Done.\n",
            "Generating file for id id02494\n"
          ]
        },
        {
          "output_type": "stream",
          "name": "stderr",
          "text": [
            "\n"
          ]
        },
        {
          "output_type": "stream",
          "name": "stdout",
          "text": [
            "[MoviePy] Writing audio in /content/drive/MyDrive/DeepFakeDetection/data/FakeAVCeleb_v1.2/real_videos_train/id02494/00052.wav\n"
          ]
        },
        {
          "output_type": "stream",
          "name": "stderr",
          "text": [
            "100%|██████████| 236/236 [00:00<00:00, 3253.14it/s]"
          ]
        },
        {
          "output_type": "stream",
          "name": "stdout",
          "text": [
            "[MoviePy] Done.\n",
            "Generating file for id id02494\n"
          ]
        },
        {
          "output_type": "stream",
          "name": "stderr",
          "text": [
            "\n"
          ]
        },
        {
          "output_type": "stream",
          "name": "stdout",
          "text": [
            "[MoviePy] Writing audio in /content/drive/MyDrive/DeepFakeDetection/data/FakeAVCeleb_v1.2/real_videos_train/id02494/00054.wav\n"
          ]
        },
        {
          "output_type": "stream",
          "name": "stderr",
          "text": [
            "100%|██████████| 185/185 [00:00<00:00, 3040.64it/s]"
          ]
        },
        {
          "output_type": "stream",
          "name": "stdout",
          "text": [
            "[MoviePy] Done.\n",
            "Generating file for id id02494\n"
          ]
        },
        {
          "output_type": "stream",
          "name": "stderr",
          "text": [
            "\n"
          ]
        },
        {
          "output_type": "stream",
          "name": "stdout",
          "text": [
            "[MoviePy] Writing audio in /content/drive/MyDrive/DeepFakeDetection/data/FakeAVCeleb_v1.2/real_videos_train/id02494/00055.wav\n"
          ]
        },
        {
          "output_type": "stream",
          "name": "stderr",
          "text": [
            "100%|██████████| 121/121 [00:00<00:00, 2926.85it/s]"
          ]
        },
        {
          "output_type": "stream",
          "name": "stdout",
          "text": [
            "[MoviePy] Done.\n",
            "Generating file for id id02494\n"
          ]
        },
        {
          "output_type": "stream",
          "name": "stderr",
          "text": [
            "\n"
          ]
        },
        {
          "output_type": "stream",
          "name": "stdout",
          "text": [
            "[MoviePy] Writing audio in /content/drive/MyDrive/DeepFakeDetection/data/FakeAVCeleb_v1.2/real_videos_train/id02494/00056.wav\n"
          ]
        },
        {
          "output_type": "stream",
          "name": "stderr",
          "text": [
            "100%|██████████| 95/95 [00:00<00:00, 3206.91it/s]"
          ]
        },
        {
          "output_type": "stream",
          "name": "stdout",
          "text": [
            "[MoviePy] Done.\n",
            "Generating file for id id02494\n"
          ]
        },
        {
          "output_type": "stream",
          "name": "stderr",
          "text": [
            "\n"
          ]
        },
        {
          "output_type": "stream",
          "name": "stdout",
          "text": [
            "[MoviePy] Writing audio in /content/drive/MyDrive/DeepFakeDetection/data/FakeAVCeleb_v1.2/real_videos_train/id02494/00057.wav\n"
          ]
        },
        {
          "output_type": "stream",
          "name": "stderr",
          "text": [
            "100%|██████████| 104/104 [00:00<00:00, 3181.65it/s]"
          ]
        },
        {
          "output_type": "stream",
          "name": "stdout",
          "text": [
            "[MoviePy] Done.\n",
            "Generating file for id id01171\n"
          ]
        },
        {
          "output_type": "stream",
          "name": "stderr",
          "text": [
            "\n"
          ]
        },
        {
          "output_type": "stream",
          "name": "stdout",
          "text": [
            "[MoviePy] Writing audio in /content/drive/MyDrive/DeepFakeDetection/data/FakeAVCeleb_v1.2/real_videos_train/id01171/00001.wav\n"
          ]
        },
        {
          "output_type": "stream",
          "name": "stderr",
          "text": [
            "100%|██████████| 107/107 [00:00<00:00, 3156.96it/s]"
          ]
        },
        {
          "output_type": "stream",
          "name": "stdout",
          "text": [
            "[MoviePy] Done.\n",
            "Generating file for id id01171\n"
          ]
        },
        {
          "output_type": "stream",
          "name": "stderr",
          "text": [
            "\n"
          ]
        },
        {
          "output_type": "stream",
          "name": "stdout",
          "text": [
            "[MoviePy] Writing audio in /content/drive/MyDrive/DeepFakeDetection/data/FakeAVCeleb_v1.2/real_videos_train/id01171/00003.wav\n"
          ]
        },
        {
          "output_type": "stream",
          "name": "stderr",
          "text": [
            "100%|██████████| 105/105 [00:00<00:00, 3025.32it/s]"
          ]
        },
        {
          "output_type": "stream",
          "name": "stdout",
          "text": [
            "[MoviePy] Done.\n",
            "Generating file for id id01171\n"
          ]
        },
        {
          "output_type": "stream",
          "name": "stderr",
          "text": [
            "\n"
          ]
        },
        {
          "output_type": "stream",
          "name": "stdout",
          "text": [
            "[MoviePy] Writing audio in /content/drive/MyDrive/DeepFakeDetection/data/FakeAVCeleb_v1.2/real_videos_train/id01171/00002.wav\n"
          ]
        },
        {
          "output_type": "stream",
          "name": "stderr",
          "text": [
            "100%|██████████| 224/224 [00:00<00:00, 2861.98it/s]"
          ]
        },
        {
          "output_type": "stream",
          "name": "stdout",
          "text": [
            "[MoviePy] Done.\n",
            "Generating file for id id01171\n"
          ]
        },
        {
          "output_type": "stream",
          "name": "stderr",
          "text": [
            "\n"
          ]
        },
        {
          "output_type": "stream",
          "name": "stdout",
          "text": [
            "[MoviePy] Writing audio in /content/drive/MyDrive/DeepFakeDetection/data/FakeAVCeleb_v1.2/real_videos_train/id01171/00004.wav\n"
          ]
        },
        {
          "output_type": "stream",
          "name": "stderr",
          "text": [
            "100%|██████████| 150/150 [00:00<00:00, 3111.56it/s]"
          ]
        },
        {
          "output_type": "stream",
          "name": "stdout",
          "text": [
            "[MoviePy] Done.\n",
            "Generating file for id id01171\n"
          ]
        },
        {
          "output_type": "stream",
          "name": "stderr",
          "text": [
            "\n"
          ]
        },
        {
          "output_type": "stream",
          "name": "stdout",
          "text": [
            "[MoviePy] Writing audio in /content/drive/MyDrive/DeepFakeDetection/data/FakeAVCeleb_v1.2/real_videos_train/id01171/00005.wav\n"
          ]
        },
        {
          "output_type": "stream",
          "name": "stderr",
          "text": [
            "100%|██████████| 111/111 [00:00<00:00, 3036.10it/s]"
          ]
        },
        {
          "output_type": "stream",
          "name": "stdout",
          "text": [
            "[MoviePy] Done.\n",
            "Generating file for id id01171\n"
          ]
        },
        {
          "output_type": "stream",
          "name": "stderr",
          "text": [
            "\n"
          ]
        },
        {
          "output_type": "stream",
          "name": "stdout",
          "text": [
            "[MoviePy] Writing audio in /content/drive/MyDrive/DeepFakeDetection/data/FakeAVCeleb_v1.2/real_videos_train/id01171/00006.wav\n"
          ]
        },
        {
          "output_type": "stream",
          "name": "stderr",
          "text": [
            "100%|██████████| 96/96 [00:00<00:00, 3191.18it/s]"
          ]
        },
        {
          "output_type": "stream",
          "name": "stdout",
          "text": [
            "[MoviePy] Done.\n",
            "Generating file for id id01171\n"
          ]
        },
        {
          "output_type": "stream",
          "name": "stderr",
          "text": [
            "\n"
          ]
        },
        {
          "output_type": "stream",
          "name": "stdout",
          "text": [
            "[MoviePy] Writing audio in /content/drive/MyDrive/DeepFakeDetection/data/FakeAVCeleb_v1.2/real_videos_train/id01171/00008.wav\n"
          ]
        },
        {
          "output_type": "stream",
          "name": "stderr",
          "text": [
            "100%|██████████| 127/127 [00:00<00:00, 2030.84it/s]"
          ]
        },
        {
          "output_type": "stream",
          "name": "stdout",
          "text": [
            "[MoviePy] Done.\n",
            "Generating file for id id01171\n"
          ]
        },
        {
          "output_type": "stream",
          "name": "stderr",
          "text": [
            "\n"
          ]
        },
        {
          "output_type": "stream",
          "name": "stdout",
          "text": [
            "[MoviePy] Writing audio in /content/drive/MyDrive/DeepFakeDetection/data/FakeAVCeleb_v1.2/real_videos_train/id01171/00011.wav\n"
          ]
        },
        {
          "output_type": "stream",
          "name": "stderr",
          "text": [
            "100%|██████████| 97/97 [00:00<00:00, 3185.02it/s]"
          ]
        },
        {
          "output_type": "stream",
          "name": "stdout",
          "text": [
            "[MoviePy] Done.\n",
            "Generating file for id id01171\n"
          ]
        },
        {
          "output_type": "stream",
          "name": "stderr",
          "text": [
            "\n"
          ]
        },
        {
          "output_type": "stream",
          "name": "stdout",
          "text": [
            "[MoviePy] Writing audio in /content/drive/MyDrive/DeepFakeDetection/data/FakeAVCeleb_v1.2/real_videos_train/id01171/00010.wav\n"
          ]
        },
        {
          "output_type": "stream",
          "name": "stderr",
          "text": [
            "100%|██████████| 112/112 [00:00<00:00, 3020.55it/s]"
          ]
        },
        {
          "output_type": "stream",
          "name": "stdout",
          "text": [
            "[MoviePy] Done.\n",
            "Generating file for id id01171\n"
          ]
        },
        {
          "output_type": "stream",
          "name": "stderr",
          "text": [
            "\n"
          ]
        },
        {
          "output_type": "stream",
          "name": "stdout",
          "text": [
            "[MoviePy] Writing audio in /content/drive/MyDrive/DeepFakeDetection/data/FakeAVCeleb_v1.2/real_videos_train/id01171/00012.wav\n"
          ]
        },
        {
          "output_type": "stream",
          "name": "stderr",
          "text": [
            "100%|██████████| 130/130 [00:00<00:00, 2845.24it/s]"
          ]
        },
        {
          "output_type": "stream",
          "name": "stdout",
          "text": [
            "[MoviePy] Done.\n",
            "Generating file for id id01171\n"
          ]
        },
        {
          "output_type": "stream",
          "name": "stderr",
          "text": [
            "\n"
          ]
        },
        {
          "output_type": "stream",
          "name": "stdout",
          "text": [
            "[MoviePy] Writing audio in /content/drive/MyDrive/DeepFakeDetection/data/FakeAVCeleb_v1.2/real_videos_train/id01171/00013.wav\n"
          ]
        },
        {
          "output_type": "stream",
          "name": "stderr",
          "text": [
            "100%|██████████| 94/94 [00:00<00:00, 3185.77it/s]"
          ]
        },
        {
          "output_type": "stream",
          "name": "stdout",
          "text": [
            "[MoviePy] Done.\n",
            "Generating file for id id01171\n"
          ]
        },
        {
          "output_type": "stream",
          "name": "stderr",
          "text": [
            "\n"
          ]
        },
        {
          "output_type": "stream",
          "name": "stdout",
          "text": [
            "[MoviePy] Writing audio in /content/drive/MyDrive/DeepFakeDetection/data/FakeAVCeleb_v1.2/real_videos_train/id01171/00014.wav\n"
          ]
        },
        {
          "output_type": "stream",
          "name": "stderr",
          "text": [
            "100%|██████████| 135/135 [00:00<00:00, 2843.57it/s]"
          ]
        },
        {
          "output_type": "stream",
          "name": "stdout",
          "text": [
            "[MoviePy] Done.\n",
            "Generating file for id id01171\n"
          ]
        },
        {
          "output_type": "stream",
          "name": "stderr",
          "text": [
            "\n"
          ]
        },
        {
          "output_type": "stream",
          "name": "stdout",
          "text": [
            "[MoviePy] Writing audio in /content/drive/MyDrive/DeepFakeDetection/data/FakeAVCeleb_v1.2/real_videos_train/id01171/00015.wav\n"
          ]
        },
        {
          "output_type": "stream",
          "name": "stderr",
          "text": [
            "\r  0%|          | 0/153 [00:00<?, ?it/s]WARNING:py.warnings:/usr/local/lib/python3.7/dist-packages/moviepy/audio/io/readers.py:198: UserWarning: Error in file /content/drive/MyDrive/DeepFakeDetection/data/FakeAVCeleb_v1.2/real_videos_train/id01171/00015.mp4, At time t=6.85-6.90 seconds, indices wanted: 99698-101686, but len(buffer)=99699\n",
            "index 99699 is out of bounds for axis 0 with size 99699\n",
            "  UserWarning)\n",
            "\n",
            "100%|██████████| 153/153 [00:00<00:00, 3205.90it/s]"
          ]
        },
        {
          "output_type": "stream",
          "name": "stdout",
          "text": [
            "[MoviePy] Done.\n",
            "Generating file for id id01171\n"
          ]
        },
        {
          "output_type": "stream",
          "name": "stderr",
          "text": [
            "\n"
          ]
        },
        {
          "output_type": "stream",
          "name": "stdout",
          "text": [
            "[MoviePy] Writing audio in /content/drive/MyDrive/DeepFakeDetection/data/FakeAVCeleb_v1.2/real_videos_train/id01171/00017.wav\n"
          ]
        },
        {
          "output_type": "stream",
          "name": "stderr",
          "text": [
            "100%|██████████| 99/99 [00:00<00:00, 3301.50it/s]"
          ]
        },
        {
          "output_type": "stream",
          "name": "stdout",
          "text": [
            "[MoviePy] Done.\n",
            "Generating file for id id01171\n"
          ]
        },
        {
          "output_type": "stream",
          "name": "stderr",
          "text": [
            "\n"
          ]
        },
        {
          "output_type": "stream",
          "name": "stdout",
          "text": [
            "[MoviePy] Writing audio in /content/drive/MyDrive/DeepFakeDetection/data/FakeAVCeleb_v1.2/real_videos_train/id01171/00016.wav\n"
          ]
        },
        {
          "output_type": "stream",
          "name": "stderr",
          "text": [
            "100%|██████████| 146/146 [00:00<00:00, 3201.56it/s]"
          ]
        },
        {
          "output_type": "stream",
          "name": "stdout",
          "text": [
            "[MoviePy] Done.\n",
            "Generating file for id id01171\n"
          ]
        },
        {
          "output_type": "stream",
          "name": "stderr",
          "text": [
            "\n"
          ]
        },
        {
          "output_type": "stream",
          "name": "stdout",
          "text": [
            "[MoviePy] Writing audio in /content/drive/MyDrive/DeepFakeDetection/data/FakeAVCeleb_v1.2/real_videos_train/id01171/00018.wav\n"
          ]
        },
        {
          "output_type": "stream",
          "name": "stderr",
          "text": [
            "100%|██████████| 94/94 [00:00<00:00, 3325.89it/s]"
          ]
        },
        {
          "output_type": "stream",
          "name": "stdout",
          "text": [
            "[MoviePy] Done.\n",
            "Generating file for id id01171\n"
          ]
        },
        {
          "output_type": "stream",
          "name": "stderr",
          "text": [
            "\n"
          ]
        },
        {
          "output_type": "stream",
          "name": "stdout",
          "text": [
            "[MoviePy] Writing audio in /content/drive/MyDrive/DeepFakeDetection/data/FakeAVCeleb_v1.2/real_videos_train/id01171/00021.wav\n"
          ]
        },
        {
          "output_type": "stream",
          "name": "stderr",
          "text": [
            "100%|██████████| 97/97 [00:00<00:00, 3443.60it/s]"
          ]
        },
        {
          "output_type": "stream",
          "name": "stdout",
          "text": [
            "[MoviePy] Done.\n",
            "Generating file for id id01171\n"
          ]
        },
        {
          "output_type": "stream",
          "name": "stderr",
          "text": [
            "\n"
          ]
        },
        {
          "output_type": "stream",
          "name": "stdout",
          "text": [
            "[MoviePy] Writing audio in /content/drive/MyDrive/DeepFakeDetection/data/FakeAVCeleb_v1.2/real_videos_train/id01171/00020.wav\n"
          ]
        },
        {
          "output_type": "stream",
          "name": "stderr",
          "text": [
            "100%|██████████| 269/269 [00:00<00:00, 3190.62it/s]"
          ]
        },
        {
          "output_type": "stream",
          "name": "stdout",
          "text": [
            "[MoviePy] Done.\n",
            "Generating file for id id01171\n"
          ]
        },
        {
          "output_type": "stream",
          "name": "stderr",
          "text": [
            "\n"
          ]
        },
        {
          "output_type": "stream",
          "name": "stdout",
          "text": [
            "[MoviePy] Writing audio in /content/drive/MyDrive/DeepFakeDetection/data/FakeAVCeleb_v1.2/real_videos_train/id01171/00023.wav\n"
          ]
        },
        {
          "output_type": "stream",
          "name": "stderr",
          "text": [
            "100%|██████████| 192/192 [00:00<00:00, 3219.13it/s]"
          ]
        },
        {
          "output_type": "stream",
          "name": "stdout",
          "text": [
            "[MoviePy] Done.\n",
            "Generating file for id id01171\n"
          ]
        },
        {
          "output_type": "stream",
          "name": "stderr",
          "text": [
            "\n"
          ]
        },
        {
          "output_type": "stream",
          "name": "stdout",
          "text": [
            "[MoviePy] Writing audio in /content/drive/MyDrive/DeepFakeDetection/data/FakeAVCeleb_v1.2/real_videos_train/id01171/00022.wav\n"
          ]
        },
        {
          "output_type": "stream",
          "name": "stderr",
          "text": [
            "100%|██████████| 220/220 [00:00<00:00, 3235.48it/s]"
          ]
        },
        {
          "output_type": "stream",
          "name": "stdout",
          "text": [
            "[MoviePy] Done.\n",
            "Generating file for id id01171\n"
          ]
        },
        {
          "output_type": "stream",
          "name": "stderr",
          "text": [
            "\n"
          ]
        },
        {
          "output_type": "stream",
          "name": "stdout",
          "text": [
            "[MoviePy] Writing audio in /content/drive/MyDrive/DeepFakeDetection/data/FakeAVCeleb_v1.2/real_videos_train/id01171/00024.wav\n"
          ]
        },
        {
          "output_type": "stream",
          "name": "stderr",
          "text": [
            "100%|██████████| 89/89 [00:00<00:00, 1782.30it/s]"
          ]
        },
        {
          "output_type": "stream",
          "name": "stdout",
          "text": [
            "[MoviePy] Done.\n",
            "Generating file for id id01171\n"
          ]
        },
        {
          "output_type": "stream",
          "name": "stderr",
          "text": [
            "\n"
          ]
        },
        {
          "output_type": "stream",
          "name": "stdout",
          "text": [
            "[MoviePy] Writing audio in /content/drive/MyDrive/DeepFakeDetection/data/FakeAVCeleb_v1.2/real_videos_train/id01171/00026.wav\n"
          ]
        },
        {
          "output_type": "stream",
          "name": "stderr",
          "text": [
            "100%|██████████| 172/172 [00:00<00:00, 3095.95it/s]"
          ]
        },
        {
          "output_type": "stream",
          "name": "stdout",
          "text": [
            "[MoviePy] Done.\n",
            "Generating file for id id01171\n"
          ]
        },
        {
          "output_type": "stream",
          "name": "stderr",
          "text": [
            "\n"
          ]
        },
        {
          "output_type": "stream",
          "name": "stdout",
          "text": [
            "[MoviePy] Writing audio in /content/drive/MyDrive/DeepFakeDetection/data/FakeAVCeleb_v1.2/real_videos_train/id01171/00025.wav\n"
          ]
        },
        {
          "output_type": "stream",
          "name": "stderr",
          "text": [
            "100%|██████████| 190/190 [00:00<00:00, 3278.81it/s]"
          ]
        },
        {
          "output_type": "stream",
          "name": "stdout",
          "text": [
            "[MoviePy] Done.\n",
            "Generating file for id id01171\n"
          ]
        },
        {
          "output_type": "stream",
          "name": "stderr",
          "text": [
            "\n"
          ]
        },
        {
          "output_type": "stream",
          "name": "stdout",
          "text": [
            "[MoviePy] Writing audio in /content/drive/MyDrive/DeepFakeDetection/data/FakeAVCeleb_v1.2/real_videos_train/id01171/00028.wav\n"
          ]
        },
        {
          "output_type": "stream",
          "name": "stderr",
          "text": [
            "100%|██████████| 100/100 [00:00<00:00, 3243.00it/s]"
          ]
        },
        {
          "output_type": "stream",
          "name": "stdout",
          "text": [
            "[MoviePy] Done.\n",
            "Generating file for id id01171\n"
          ]
        },
        {
          "output_type": "stream",
          "name": "stderr",
          "text": [
            "\n"
          ]
        },
        {
          "output_type": "stream",
          "name": "stdout",
          "text": [
            "[MoviePy] Writing audio in /content/drive/MyDrive/DeepFakeDetection/data/FakeAVCeleb_v1.2/real_videos_train/id01171/00027.wav\n"
          ]
        },
        {
          "output_type": "stream",
          "name": "stderr",
          "text": [
            "100%|██████████| 214/214 [00:00<00:00, 3290.92it/s]"
          ]
        },
        {
          "output_type": "stream",
          "name": "stdout",
          "text": [
            "[MoviePy] Done.\n",
            "Generating file for id id01171\n"
          ]
        },
        {
          "output_type": "stream",
          "name": "stderr",
          "text": [
            "\n"
          ]
        },
        {
          "output_type": "stream",
          "name": "stdout",
          "text": [
            "[MoviePy] Writing audio in /content/drive/MyDrive/DeepFakeDetection/data/FakeAVCeleb_v1.2/real_videos_train/id01171/00029.wav\n"
          ]
        },
        {
          "output_type": "stream",
          "name": "stderr",
          "text": [
            "100%|██████████| 92/92 [00:00<00:00, 3096.72it/s]"
          ]
        },
        {
          "output_type": "stream",
          "name": "stdout",
          "text": [
            "[MoviePy] Done.\n",
            "Generating file for id id01171\n"
          ]
        },
        {
          "output_type": "stream",
          "name": "stderr",
          "text": [
            "\n"
          ]
        },
        {
          "output_type": "stream",
          "name": "stdout",
          "text": [
            "[MoviePy] Writing audio in /content/drive/MyDrive/DeepFakeDetection/data/FakeAVCeleb_v1.2/real_videos_train/id01171/00030.wav\n"
          ]
        },
        {
          "output_type": "stream",
          "name": "stderr",
          "text": [
            "100%|██████████| 110/110 [00:00<00:00, 3093.02it/s]"
          ]
        },
        {
          "output_type": "stream",
          "name": "stdout",
          "text": [
            "[MoviePy] Done.\n",
            "Generating file for id id01171\n"
          ]
        },
        {
          "output_type": "stream",
          "name": "stderr",
          "text": [
            "\n"
          ]
        },
        {
          "output_type": "stream",
          "name": "stdout",
          "text": [
            "[MoviePy] Writing audio in /content/drive/MyDrive/DeepFakeDetection/data/FakeAVCeleb_v1.2/real_videos_train/id01171/00031.wav\n"
          ]
        },
        {
          "output_type": "stream",
          "name": "stderr",
          "text": [
            "100%|██████████| 98/98 [00:00<00:00, 3342.29it/s]"
          ]
        },
        {
          "output_type": "stream",
          "name": "stdout",
          "text": [
            "[MoviePy] Done.\n",
            "Generating file for id id01171\n"
          ]
        },
        {
          "output_type": "stream",
          "name": "stderr",
          "text": [
            "\n"
          ]
        },
        {
          "output_type": "stream",
          "name": "stdout",
          "text": [
            "[MoviePy] Writing audio in /content/drive/MyDrive/DeepFakeDetection/data/FakeAVCeleb_v1.2/real_videos_train/id01171/00033.wav\n"
          ]
        },
        {
          "output_type": "stream",
          "name": "stderr",
          "text": [
            "100%|██████████| 209/209 [00:00<00:00, 3352.29it/s]"
          ]
        },
        {
          "output_type": "stream",
          "name": "stdout",
          "text": [
            "[MoviePy] Done.\n",
            "Generating file for id id01171\n"
          ]
        },
        {
          "output_type": "stream",
          "name": "stderr",
          "text": [
            "\n"
          ]
        },
        {
          "output_type": "stream",
          "name": "stdout",
          "text": [
            "[MoviePy] Writing audio in /content/drive/MyDrive/DeepFakeDetection/data/FakeAVCeleb_v1.2/real_videos_train/id01171/00032.wav\n"
          ]
        },
        {
          "output_type": "stream",
          "name": "stderr",
          "text": [
            "100%|██████████| 135/135 [00:00<00:00, 3080.21it/s]"
          ]
        },
        {
          "output_type": "stream",
          "name": "stdout",
          "text": [
            "[MoviePy] Done.\n",
            "Generating file for id id01171\n"
          ]
        },
        {
          "output_type": "stream",
          "name": "stderr",
          "text": [
            "\n"
          ]
        },
        {
          "output_type": "stream",
          "name": "stdout",
          "text": [
            "[MoviePy] Writing audio in /content/drive/MyDrive/DeepFakeDetection/data/FakeAVCeleb_v1.2/real_videos_train/id01171/00035.wav\n"
          ]
        },
        {
          "output_type": "stream",
          "name": "stderr",
          "text": [
            "100%|██████████| 109/109 [00:00<00:00, 3056.68it/s]"
          ]
        },
        {
          "output_type": "stream",
          "name": "stdout",
          "text": [
            "[MoviePy] Done.\n",
            "Generating file for id id01171\n"
          ]
        },
        {
          "output_type": "stream",
          "name": "stderr",
          "text": [
            "\n"
          ]
        },
        {
          "output_type": "stream",
          "name": "stdout",
          "text": [
            "[MoviePy] Writing audio in /content/drive/MyDrive/DeepFakeDetection/data/FakeAVCeleb_v1.2/real_videos_train/id01171/00034.wav\n"
          ]
        },
        {
          "output_type": "stream",
          "name": "stderr",
          "text": [
            "100%|██████████| 188/188 [00:00<00:00, 2975.53it/s]"
          ]
        },
        {
          "output_type": "stream",
          "name": "stdout",
          "text": [
            "[MoviePy] Done.\n",
            "Generating file for id id01171\n"
          ]
        },
        {
          "output_type": "stream",
          "name": "stderr",
          "text": [
            "\n"
          ]
        },
        {
          "output_type": "stream",
          "name": "stdout",
          "text": [
            "[MoviePy] Writing audio in /content/drive/MyDrive/DeepFakeDetection/data/FakeAVCeleb_v1.2/real_videos_train/id01171/00036.wav\n"
          ]
        },
        {
          "output_type": "stream",
          "name": "stderr",
          "text": [
            "100%|██████████| 151/151 [00:00<00:00, 3246.28it/s]"
          ]
        },
        {
          "output_type": "stream",
          "name": "stdout",
          "text": [
            "[MoviePy] Done.\n",
            "Generating file for id id01171\n"
          ]
        },
        {
          "output_type": "stream",
          "name": "stderr",
          "text": [
            "\n"
          ]
        },
        {
          "output_type": "stream",
          "name": "stdout",
          "text": [
            "[MoviePy] Writing audio in /content/drive/MyDrive/DeepFakeDetection/data/FakeAVCeleb_v1.2/real_videos_train/id01171/00037.wav\n"
          ]
        },
        {
          "output_type": "stream",
          "name": "stderr",
          "text": [
            "100%|██████████| 217/217 [00:00<00:00, 3119.61it/s]"
          ]
        },
        {
          "output_type": "stream",
          "name": "stdout",
          "text": [
            "[MoviePy] Done.\n",
            "Generating file for id id01171\n"
          ]
        },
        {
          "output_type": "stream",
          "name": "stderr",
          "text": [
            "\n"
          ]
        },
        {
          "output_type": "stream",
          "name": "stdout",
          "text": [
            "[MoviePy] Writing audio in /content/drive/MyDrive/DeepFakeDetection/data/FakeAVCeleb_v1.2/real_videos_train/id01171/00040.wav\n"
          ]
        },
        {
          "output_type": "stream",
          "name": "stderr",
          "text": [
            "100%|██████████| 90/90 [00:00<00:00, 2947.78it/s]"
          ]
        },
        {
          "output_type": "stream",
          "name": "stdout",
          "text": [
            "[MoviePy] Done.\n",
            "Generating file for id id01171\n"
          ]
        },
        {
          "output_type": "stream",
          "name": "stderr",
          "text": [
            "\n"
          ]
        },
        {
          "output_type": "stream",
          "name": "stdout",
          "text": [
            "[MoviePy] Writing audio in /content/drive/MyDrive/DeepFakeDetection/data/FakeAVCeleb_v1.2/real_videos_train/id01171/00041.wav\n"
          ]
        },
        {
          "output_type": "stream",
          "name": "stderr",
          "text": [
            "100%|██████████| 124/124 [00:00<00:00, 2481.93it/s]"
          ]
        },
        {
          "output_type": "stream",
          "name": "stdout",
          "text": [
            "[MoviePy] Done.\n",
            "Generating file for id id01171\n"
          ]
        },
        {
          "output_type": "stream",
          "name": "stderr",
          "text": [
            "\n"
          ]
        },
        {
          "output_type": "stream",
          "name": "stdout",
          "text": [
            "[MoviePy] Writing audio in /content/drive/MyDrive/DeepFakeDetection/data/FakeAVCeleb_v1.2/real_videos_train/id01171/00044.wav\n"
          ]
        },
        {
          "output_type": "stream",
          "name": "stderr",
          "text": [
            "100%|██████████| 114/114 [00:00<00:00, 2993.14it/s]"
          ]
        },
        {
          "output_type": "stream",
          "name": "stdout",
          "text": [
            "[MoviePy] Done.\n",
            "Generating file for id id01171\n"
          ]
        },
        {
          "output_type": "stream",
          "name": "stderr",
          "text": [
            "\n"
          ]
        },
        {
          "output_type": "stream",
          "name": "stdout",
          "text": [
            "[MoviePy] Writing audio in /content/drive/MyDrive/DeepFakeDetection/data/FakeAVCeleb_v1.2/real_videos_train/id01171/00046.wav\n"
          ]
        },
        {
          "output_type": "stream",
          "name": "stderr",
          "text": [
            "100%|██████████| 108/108 [00:00<00:00, 3265.81it/s]"
          ]
        },
        {
          "output_type": "stream",
          "name": "stdout",
          "text": [
            "[MoviePy] Done.\n",
            "Generating file for id id01171\n"
          ]
        },
        {
          "output_type": "stream",
          "name": "stderr",
          "text": [
            "\n"
          ]
        },
        {
          "output_type": "stream",
          "name": "stdout",
          "text": [
            "[MoviePy] Writing audio in /content/drive/MyDrive/DeepFakeDetection/data/FakeAVCeleb_v1.2/real_videos_train/id01171/00045.wav\n"
          ]
        },
        {
          "output_type": "stream",
          "name": "stderr",
          "text": [
            "100%|██████████| 121/121 [00:00<00:00, 2881.05it/s]"
          ]
        },
        {
          "output_type": "stream",
          "name": "stdout",
          "text": [
            "[MoviePy] Done.\n",
            "Generating file for id id01171\n"
          ]
        },
        {
          "output_type": "stream",
          "name": "stderr",
          "text": [
            "\n"
          ]
        },
        {
          "output_type": "stream",
          "name": "stdout",
          "text": [
            "[MoviePy] Writing audio in /content/drive/MyDrive/DeepFakeDetection/data/FakeAVCeleb_v1.2/real_videos_train/id01171/00047.wav\n"
          ]
        },
        {
          "output_type": "stream",
          "name": "stderr",
          "text": [
            "100%|██████████| 93/93 [00:00<00:00, 3309.19it/s]"
          ]
        },
        {
          "output_type": "stream",
          "name": "stdout",
          "text": [
            "[MoviePy] Done.\n",
            "Generating file for id id01171\n"
          ]
        },
        {
          "output_type": "stream",
          "name": "stderr",
          "text": [
            "\n"
          ]
        },
        {
          "output_type": "stream",
          "name": "stdout",
          "text": [
            "[MoviePy] Writing audio in /content/drive/MyDrive/DeepFakeDetection/data/FakeAVCeleb_v1.2/real_videos_train/id01171/00048.wav\n"
          ]
        },
        {
          "output_type": "stream",
          "name": "stderr",
          "text": [
            "100%|██████████| 161/161 [00:00<00:00, 3115.08it/s]"
          ]
        },
        {
          "output_type": "stream",
          "name": "stdout",
          "text": [
            "[MoviePy] Done.\n",
            "Generating file for id id01171\n"
          ]
        },
        {
          "output_type": "stream",
          "name": "stderr",
          "text": [
            "\n"
          ]
        },
        {
          "output_type": "stream",
          "name": "stdout",
          "text": [
            "[MoviePy] Writing audio in /content/drive/MyDrive/DeepFakeDetection/data/FakeAVCeleb_v1.2/real_videos_train/id01171/00049.wav\n"
          ]
        },
        {
          "output_type": "stream",
          "name": "stderr",
          "text": [
            "100%|██████████| 101/101 [00:00<00:00, 3422.59it/s]"
          ]
        },
        {
          "output_type": "stream",
          "name": "stdout",
          "text": [
            "[MoviePy] Done.\n",
            "Generating file for id id01171\n"
          ]
        },
        {
          "output_type": "stream",
          "name": "stderr",
          "text": [
            "\n"
          ]
        },
        {
          "output_type": "stream",
          "name": "stdout",
          "text": [
            "[MoviePy] Writing audio in /content/drive/MyDrive/DeepFakeDetection/data/FakeAVCeleb_v1.2/real_videos_train/id01171/00051.wav\n"
          ]
        },
        {
          "output_type": "stream",
          "name": "stderr",
          "text": [
            "100%|██████████| 146/146 [00:00<00:00, 3169.07it/s]"
          ]
        },
        {
          "output_type": "stream",
          "name": "stdout",
          "text": [
            "[MoviePy] Done.\n",
            "Generating file for id id01171\n"
          ]
        },
        {
          "output_type": "stream",
          "name": "stderr",
          "text": [
            "\n"
          ]
        },
        {
          "output_type": "stream",
          "name": "stdout",
          "text": [
            "[MoviePy] Writing audio in /content/drive/MyDrive/DeepFakeDetection/data/FakeAVCeleb_v1.2/real_videos_train/id01171/00054.wav\n"
          ]
        },
        {
          "output_type": "stream",
          "name": "stderr",
          "text": [
            "100%|██████████| 99/99 [00:00<00:00, 3186.16it/s]"
          ]
        },
        {
          "output_type": "stream",
          "name": "stdout",
          "text": [
            "[MoviePy] Done.\n",
            "Generating file for id id01171\n"
          ]
        },
        {
          "output_type": "stream",
          "name": "stderr",
          "text": [
            "\n"
          ]
        },
        {
          "output_type": "stream",
          "name": "stdout",
          "text": [
            "[MoviePy] Writing audio in /content/drive/MyDrive/DeepFakeDetection/data/FakeAVCeleb_v1.2/real_videos_train/id01171/00053.wav\n"
          ]
        },
        {
          "output_type": "stream",
          "name": "stderr",
          "text": [
            "100%|██████████| 104/104 [00:00<00:00, 3338.44it/s]"
          ]
        },
        {
          "output_type": "stream",
          "name": "stdout",
          "text": [
            "[MoviePy] Done.\n",
            "Generating file for id id01171\n"
          ]
        },
        {
          "output_type": "stream",
          "name": "stderr",
          "text": [
            "\n"
          ]
        },
        {
          "output_type": "stream",
          "name": "stdout",
          "text": [
            "[MoviePy] Writing audio in /content/drive/MyDrive/DeepFakeDetection/data/FakeAVCeleb_v1.2/real_videos_train/id01171/00056.wav\n"
          ]
        },
        {
          "output_type": "stream",
          "name": "stderr",
          "text": [
            "100%|██████████| 116/116 [00:00<00:00, 3025.50it/s]"
          ]
        },
        {
          "output_type": "stream",
          "name": "stdout",
          "text": [
            "[MoviePy] Done.\n",
            "Generating file for id id01171\n"
          ]
        },
        {
          "output_type": "stream",
          "name": "stderr",
          "text": [
            "\n"
          ]
        },
        {
          "output_type": "stream",
          "name": "stdout",
          "text": [
            "[MoviePy] Writing audio in /content/drive/MyDrive/DeepFakeDetection/data/FakeAVCeleb_v1.2/real_videos_train/id01171/00059.wav\n"
          ]
        },
        {
          "output_type": "stream",
          "name": "stderr",
          "text": [
            "100%|██████████| 99/99 [00:00<00:00, 3388.19it/s]"
          ]
        },
        {
          "output_type": "stream",
          "name": "stdout",
          "text": [
            "[MoviePy] Done.\n",
            "Generating file for id id01171\n"
          ]
        },
        {
          "output_type": "stream",
          "name": "stderr",
          "text": [
            "\n"
          ]
        },
        {
          "output_type": "stream",
          "name": "stdout",
          "text": [
            "[MoviePy] Writing audio in /content/drive/MyDrive/DeepFakeDetection/data/FakeAVCeleb_v1.2/real_videos_train/id01171/00060.wav\n"
          ]
        },
        {
          "output_type": "stream",
          "name": "stderr",
          "text": [
            "100%|██████████| 99/99 [00:00<00:00, 3472.45it/s]"
          ]
        },
        {
          "output_type": "stream",
          "name": "stdout",
          "text": [
            "[MoviePy] Done.\n",
            "Generating file for id id01171\n"
          ]
        },
        {
          "output_type": "stream",
          "name": "stderr",
          "text": [
            "\n"
          ]
        },
        {
          "output_type": "stream",
          "name": "stdout",
          "text": [
            "[MoviePy] Writing audio in /content/drive/MyDrive/DeepFakeDetection/data/FakeAVCeleb_v1.2/real_videos_train/id01171/00061.wav\n"
          ]
        },
        {
          "output_type": "stream",
          "name": "stderr",
          "text": [
            "100%|██████████| 94/94 [00:00<00:00, 3179.76it/s]"
          ]
        },
        {
          "output_type": "stream",
          "name": "stdout",
          "text": [
            "[MoviePy] Done.\n",
            "Generating file for id id01171\n"
          ]
        },
        {
          "output_type": "stream",
          "name": "stderr",
          "text": [
            "\n"
          ]
        },
        {
          "output_type": "stream",
          "name": "stdout",
          "text": [
            "[MoviePy] Writing audio in /content/drive/MyDrive/DeepFakeDetection/data/FakeAVCeleb_v1.2/real_videos_train/id01171/00062.wav\n"
          ]
        },
        {
          "output_type": "stream",
          "name": "stderr",
          "text": [
            "100%|██████████| 135/135 [00:00<00:00, 3049.99it/s]"
          ]
        },
        {
          "output_type": "stream",
          "name": "stdout",
          "text": [
            "[MoviePy] Done.\n",
            "Generating file for id id01171\n"
          ]
        },
        {
          "output_type": "stream",
          "name": "stderr",
          "text": [
            "\n"
          ]
        },
        {
          "output_type": "stream",
          "name": "stdout",
          "text": [
            "[MoviePy] Writing audio in /content/drive/MyDrive/DeepFakeDetection/data/FakeAVCeleb_v1.2/real_videos_train/id01171/00064.wav\n"
          ]
        },
        {
          "output_type": "stream",
          "name": "stderr",
          "text": [
            "100%|██████████| 156/156 [00:00<00:00, 2901.42it/s]"
          ]
        },
        {
          "output_type": "stream",
          "name": "stdout",
          "text": [
            "[MoviePy] Done.\n",
            "Generating file for id id01171\n"
          ]
        },
        {
          "output_type": "stream",
          "name": "stderr",
          "text": [
            "\n"
          ]
        },
        {
          "output_type": "stream",
          "name": "stdout",
          "text": [
            "[MoviePy] Writing audio in /content/drive/MyDrive/DeepFakeDetection/data/FakeAVCeleb_v1.2/real_videos_train/id01171/00063.wav\n"
          ]
        },
        {
          "output_type": "stream",
          "name": "stderr",
          "text": [
            "100%|██████████| 121/121 [00:00<00:00, 2839.11it/s]"
          ]
        },
        {
          "output_type": "stream",
          "name": "stdout",
          "text": [
            "[MoviePy] Done.\n",
            "Generating file for id id01171\n"
          ]
        },
        {
          "output_type": "stream",
          "name": "stderr",
          "text": [
            "\n"
          ]
        },
        {
          "output_type": "stream",
          "name": "stdout",
          "text": [
            "[MoviePy] Writing audio in /content/drive/MyDrive/DeepFakeDetection/data/FakeAVCeleb_v1.2/real_videos_train/id01171/00066.wav\n"
          ]
        },
        {
          "output_type": "stream",
          "name": "stderr",
          "text": [
            "100%|██████████| 112/112 [00:00<00:00, 2929.04it/s]"
          ]
        },
        {
          "output_type": "stream",
          "name": "stdout",
          "text": [
            "[MoviePy] Done.\n",
            "Generating file for id id01171\n"
          ]
        },
        {
          "output_type": "stream",
          "name": "stderr",
          "text": [
            "\n"
          ]
        },
        {
          "output_type": "stream",
          "name": "stdout",
          "text": [
            "[MoviePy] Writing audio in /content/drive/MyDrive/DeepFakeDetection/data/FakeAVCeleb_v1.2/real_videos_train/id01171/00067.wav\n"
          ]
        },
        {
          "output_type": "stream",
          "name": "stderr",
          "text": [
            "100%|██████████| 199/199 [00:00<00:00, 3180.64it/s]"
          ]
        },
        {
          "output_type": "stream",
          "name": "stdout",
          "text": [
            "[MoviePy] Done.\n",
            "Generating file for id id01171\n"
          ]
        },
        {
          "output_type": "stream",
          "name": "stderr",
          "text": [
            "\n"
          ]
        },
        {
          "output_type": "stream",
          "name": "stdout",
          "text": [
            "[MoviePy] Writing audio in /content/drive/MyDrive/DeepFakeDetection/data/FakeAVCeleb_v1.2/real_videos_train/id01171/00069.wav\n"
          ]
        },
        {
          "output_type": "stream",
          "name": "stderr",
          "text": [
            "100%|██████████| 108/108 [00:00<00:00, 3248.81it/s]"
          ]
        },
        {
          "output_type": "stream",
          "name": "stdout",
          "text": [
            "[MoviePy] Done.\n",
            "Generating file for id id01171\n"
          ]
        },
        {
          "output_type": "stream",
          "name": "stderr",
          "text": [
            "\n"
          ]
        },
        {
          "output_type": "stream",
          "name": "stdout",
          "text": [
            "[MoviePy] Writing audio in /content/drive/MyDrive/DeepFakeDetection/data/FakeAVCeleb_v1.2/real_videos_train/id01171/00068.wav\n"
          ]
        },
        {
          "output_type": "stream",
          "name": "stderr",
          "text": [
            "100%|██████████| 103/103 [00:00<00:00, 3249.91it/s]"
          ]
        },
        {
          "output_type": "stream",
          "name": "stdout",
          "text": [
            "[MoviePy] Done.\n",
            "Generating file for id id01171\n"
          ]
        },
        {
          "output_type": "stream",
          "name": "stderr",
          "text": [
            "\n"
          ]
        },
        {
          "output_type": "stream",
          "name": "stdout",
          "text": [
            "[MoviePy] Writing audio in /content/drive/MyDrive/DeepFakeDetection/data/FakeAVCeleb_v1.2/real_videos_train/id01171/00070.wav\n"
          ]
        },
        {
          "output_type": "stream",
          "name": "stderr",
          "text": [
            "100%|██████████| 103/103 [00:00<00:00, 3126.50it/s]"
          ]
        },
        {
          "output_type": "stream",
          "name": "stdout",
          "text": [
            "[MoviePy] Done.\n",
            "Generating file for id id01171\n"
          ]
        },
        {
          "output_type": "stream",
          "name": "stderr",
          "text": [
            "\n"
          ]
        },
        {
          "output_type": "stream",
          "name": "stdout",
          "text": [
            "[MoviePy] Writing audio in /content/drive/MyDrive/DeepFakeDetection/data/FakeAVCeleb_v1.2/real_videos_train/id01171/00071.wav\n"
          ]
        },
        {
          "output_type": "stream",
          "name": "stderr",
          "text": [
            "100%|██████████| 107/107 [00:00<00:00, 3149.16it/s]"
          ]
        },
        {
          "output_type": "stream",
          "name": "stdout",
          "text": [
            "[MoviePy] Done.\n",
            "Generating file for id id01171\n"
          ]
        },
        {
          "output_type": "stream",
          "name": "stderr",
          "text": [
            "\n"
          ]
        },
        {
          "output_type": "stream",
          "name": "stdout",
          "text": [
            "[MoviePy] Writing audio in /content/drive/MyDrive/DeepFakeDetection/data/FakeAVCeleb_v1.2/real_videos_train/id01171/00073.wav\n"
          ]
        },
        {
          "output_type": "stream",
          "name": "stderr",
          "text": [
            "100%|██████████| 91/91 [00:00<00:00, 3241.35it/s]"
          ]
        },
        {
          "output_type": "stream",
          "name": "stdout",
          "text": [
            "[MoviePy] Done.\n",
            "Generating file for id id01171\n"
          ]
        },
        {
          "output_type": "stream",
          "name": "stderr",
          "text": [
            "\n"
          ]
        },
        {
          "output_type": "stream",
          "name": "stdout",
          "text": [
            "[MoviePy] Writing audio in /content/drive/MyDrive/DeepFakeDetection/data/FakeAVCeleb_v1.2/real_videos_train/id01171/00072.wav\n"
          ]
        },
        {
          "output_type": "stream",
          "name": "stderr",
          "text": [
            "100%|██████████| 200/200 [00:00<00:00, 3153.80it/s]"
          ]
        },
        {
          "output_type": "stream",
          "name": "stdout",
          "text": [
            "[MoviePy] Done.\n",
            "Generating file for id id01171\n"
          ]
        },
        {
          "output_type": "stream",
          "name": "stderr",
          "text": [
            "\n"
          ]
        },
        {
          "output_type": "stream",
          "name": "stdout",
          "text": [
            "[MoviePy] Writing audio in /content/drive/MyDrive/DeepFakeDetection/data/FakeAVCeleb_v1.2/real_videos_train/id01171/00074.wav\n"
          ]
        },
        {
          "output_type": "stream",
          "name": "stderr",
          "text": [
            "100%|██████████| 141/141 [00:00<00:00, 3050.83it/s]"
          ]
        },
        {
          "output_type": "stream",
          "name": "stdout",
          "text": [
            "[MoviePy] Done.\n"
          ]
        },
        {
          "output_type": "stream",
          "name": "stderr",
          "text": [
            "\n"
          ]
        }
      ]
    }
  ]
}