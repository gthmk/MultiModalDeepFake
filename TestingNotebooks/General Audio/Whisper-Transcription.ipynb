{
 "cells": [
  {
   "cell_type": "code",
   "execution_count": 2,
   "id": "4cd08572",
   "metadata": {},
   "outputs": [
    {
     "name": "stderr",
     "output_type": "stream",
     "text": [
      "/home/gautham/anaconda3/envs/whisper-openai/lib/python3.9/site-packages/tqdm/auto.py:22: TqdmWarning: IProgress not found. Please update jupyter and ipywidgets. See https://ipywidgets.readthedocs.io/en/stable/user_install.html\n",
      "  from .autonotebook import tqdm as notebook_tqdm\n"
     ]
    }
   ],
   "source": [
    "import whisper\n",
    "import warnings\n",
    "import pandas as pd\n",
    "import numpy as np\n",
    "import os, os.path\n",
    "from tqdm import tqdm\n",
    "warnings.filterwarnings('ignore')"
   ]
  },
  {
   "cell_type": "markdown",
   "id": "889c9059",
   "metadata": {},
   "source": [
    "## Generate Transcription for all Vox Celeb Files"
   ]
  },
  {
   "cell_type": "code",
   "execution_count": 9,
   "id": "bced0ab3",
   "metadata": {},
   "outputs": [],
   "source": [
    "folder = '/home/gautham/deepfake-detection/DeepFakeDetection/data/real_videos_train'"
   ]
  },
  {
   "cell_type": "code",
   "execution_count": 10,
   "id": "4d249fdc",
   "metadata": {},
   "outputs": [],
   "source": [
    "wav_files = []\n",
    "\n",
    "for root, dirs, files in os.walk(folder):\n",
    "    for file in files:\n",
    "        if file.endswith(\".wav\"):\n",
    "             wav_files.append(os.path.join(root, file))"
   ]
  },
  {
   "cell_type": "code",
   "execution_count": 11,
   "id": "43250933",
   "metadata": {},
   "outputs": [
    {
     "data": {
      "text/plain": [
       "855"
      ]
     },
     "execution_count": 11,
     "metadata": {},
     "output_type": "execute_result"
    }
   ],
   "source": [
    "len(wav_files)"
   ]
  },
  {
   "cell_type": "code",
   "execution_count": 12,
   "id": "e275967f",
   "metadata": {},
   "outputs": [],
   "source": [
    "model = whisper.load_model(\"small\")"
   ]
  },
  {
   "cell_type": "code",
   "execution_count": 13,
   "id": "b898ab1a",
   "metadata": {},
   "outputs": [
    {
     "name": "stderr",
     "output_type": "stream",
     "text": [
      "100%|█████████████████████████████████████████████████████████████████████████████████████████████████████████████████████████████████████████████████████████████████| 855/855 [17:14<00:00,  1.21s/it]\n"
     ]
    }
   ],
   "source": [
    "for wav_file in tqdm(wav_files):\n",
    "    \n",
    "    #get the transciption result\n",
    "    try:\n",
    "        result = model.transcribe(wav_file)\n",
    "    except:\n",
    "        print(\"Failed for {}\".format(wav_file))        \n",
    "\n",
    "    #path processing for saving\n",
    "    new_path = wav_file.split('real_videos_train/')[0] + 'real_videos_train/whisper_transcriptions/' + wav_file.split('real_videos_train/')[1]\n",
    "    new_file = new_path.replace('wav','txt')\n",
    "    terms = new_file.split('/')\n",
    "    folder = \"/\".join(terms[:-1])\n",
    "\n",
    "    #save file\n",
    "    if not os.path.exists(folder):\n",
    "        os.makedirs(folder)\n",
    "    with open(new_file, 'w+') as f:\n",
    "        f.write(result[\"text\"])"
   ]
  },
  {
   "cell_type": "code",
   "execution_count": 14,
   "id": "3bbd4ba0",
   "metadata": {},
   "outputs": [],
   "source": [
    "folder = '/home/gautham/deepfake-detection/DeepFakeDetection/data/real_videos_train/whisper_transcriptions'"
   ]
  },
  {
   "cell_type": "code",
   "execution_count": 15,
   "id": "39e12c9b",
   "metadata": {},
   "outputs": [],
   "source": [
    "txt_files = []\n",
    "\n",
    "for root, dirs, files in os.walk(folder):\n",
    "    for file in files:\n",
    "        if file.endswith(\".txt\"):\n",
    "             txt_files.append(os.path.join(root, file))"
   ]
  },
  {
   "cell_type": "code",
   "execution_count": 16,
   "id": "4f3e19b8",
   "metadata": {},
   "outputs": [
    {
     "data": {
      "text/plain": [
       "855"
      ]
     },
     "execution_count": 16,
     "metadata": {},
     "output_type": "execute_result"
    }
   ],
   "source": [
    "len(txt_files)"
   ]
  },
  {
   "cell_type": "markdown",
   "id": "e9045f25",
   "metadata": {},
   "source": [
    "## Generate Transcription for all Fake AV files"
   ]
  },
  {
   "cell_type": "code",
   "execution_count": 17,
   "id": "a11b5604",
   "metadata": {},
   "outputs": [],
   "source": [
    "metadata = '/home/gautham/deepfake-detection/DeepFakeDetection/data/FakeAVCeleb_v1.2/local_wav2lip_metadata.csv'\n",
    "metadata_df = pd.read_csv(metadata)"
   ]
  },
  {
   "cell_type": "code",
   "execution_count": 18,
   "id": "f9f01b4b",
   "metadata": {},
   "outputs": [
    {
     "data": {
      "text/html": [
       "<div>\n",
       "<style scoped>\n",
       "    .dataframe tbody tr th:only-of-type {\n",
       "        vertical-align: middle;\n",
       "    }\n",
       "\n",
       "    .dataframe tbody tr th {\n",
       "        vertical-align: top;\n",
       "    }\n",
       "\n",
       "    .dataframe thead th {\n",
       "        text-align: right;\n",
       "    }\n",
       "</style>\n",
       "<table border=\"1\" class=\"dataframe\">\n",
       "  <thead>\n",
       "    <tr style=\"text-align: right;\">\n",
       "      <th></th>\n",
       "      <th>video_id</th>\n",
       "      <th>source</th>\n",
       "      <th>target1</th>\n",
       "      <th>target2</th>\n",
       "      <th>method</th>\n",
       "      <th>category</th>\n",
       "      <th>type</th>\n",
       "      <th>race</th>\n",
       "      <th>gender</th>\n",
       "      <th>filename</th>\n",
       "      <th>directory_path</th>\n",
       "      <th>mp4_filepath</th>\n",
       "      <th>utterance_file</th>\n",
       "      <th>wav_filepath</th>\n",
       "      <th>audio_length</th>\n",
       "      <th>textgrid_filepath</th>\n",
       "    </tr>\n",
       "  </thead>\n",
       "  <tbody>\n",
       "    <tr>\n",
       "      <th>0</th>\n",
       "      <td>video 1</td>\n",
       "      <td>id00076</td>\n",
       "      <td>-</td>\n",
       "      <td>-</td>\n",
       "      <td>real</td>\n",
       "      <td>A</td>\n",
       "      <td>RealVideo-RealAudio</td>\n",
       "      <td>African</td>\n",
       "      <td>men</td>\n",
       "      <td>00109.mp4</td>\n",
       "      <td>/home/gautham/deepfake-detection/DeepFakeDetec...</td>\n",
       "      <td>/home/gautham/deepfake-detection/DeepFakeDetec...</td>\n",
       "      <td>/home/gautham/deepfake-detection/DeepFakeDetec...</td>\n",
       "      <td>/home/gautham/deepfake-detection/DeepFakeDetec...</td>\n",
       "      <td>10.10</td>\n",
       "      <td>/home/gautham/deepfake-detection/DeepFakeDetec...</td>\n",
       "    </tr>\n",
       "    <tr>\n",
       "      <th>1</th>\n",
       "      <td>video 2</td>\n",
       "      <td>id00166</td>\n",
       "      <td>-</td>\n",
       "      <td>-</td>\n",
       "      <td>real</td>\n",
       "      <td>A</td>\n",
       "      <td>RealVideo-RealAudio</td>\n",
       "      <td>African</td>\n",
       "      <td>men</td>\n",
       "      <td>00010.mp4</td>\n",
       "      <td>/home/gautham/deepfake-detection/DeepFakeDetec...</td>\n",
       "      <td>/home/gautham/deepfake-detection/DeepFakeDetec...</td>\n",
       "      <td>/home/gautham/deepfake-detection/DeepFakeDetec...</td>\n",
       "      <td>/home/gautham/deepfake-detection/DeepFakeDetec...</td>\n",
       "      <td>6.46</td>\n",
       "      <td>/home/gautham/deepfake-detection/DeepFakeDetec...</td>\n",
       "    </tr>\n",
       "    <tr>\n",
       "      <th>2</th>\n",
       "      <td>video 3</td>\n",
       "      <td>id00173</td>\n",
       "      <td>-</td>\n",
       "      <td>-</td>\n",
       "      <td>real</td>\n",
       "      <td>A</td>\n",
       "      <td>RealVideo-RealAudio</td>\n",
       "      <td>African</td>\n",
       "      <td>men</td>\n",
       "      <td>00118.mp4</td>\n",
       "      <td>/home/gautham/deepfake-detection/DeepFakeDetec...</td>\n",
       "      <td>/home/gautham/deepfake-detection/DeepFakeDetec...</td>\n",
       "      <td>/home/gautham/deepfake-detection/DeepFakeDetec...</td>\n",
       "      <td>/home/gautham/deepfake-detection/DeepFakeDetec...</td>\n",
       "      <td>6.02</td>\n",
       "      <td>/home/gautham/deepfake-detection/DeepFakeDetec...</td>\n",
       "    </tr>\n",
       "    <tr>\n",
       "      <th>3</th>\n",
       "      <td>video 4</td>\n",
       "      <td>id00366</td>\n",
       "      <td>-</td>\n",
       "      <td>-</td>\n",
       "      <td>real</td>\n",
       "      <td>A</td>\n",
       "      <td>RealVideo-RealAudio</td>\n",
       "      <td>African</td>\n",
       "      <td>men</td>\n",
       "      <td>00118.mp4</td>\n",
       "      <td>/home/gautham/deepfake-detection/DeepFakeDetec...</td>\n",
       "      <td>/home/gautham/deepfake-detection/DeepFakeDetec...</td>\n",
       "      <td>/home/gautham/deepfake-detection/DeepFakeDetec...</td>\n",
       "      <td>/home/gautham/deepfake-detection/DeepFakeDetec...</td>\n",
       "      <td>9.02</td>\n",
       "      <td>/home/gautham/deepfake-detection/DeepFakeDetec...</td>\n",
       "    </tr>\n",
       "    <tr>\n",
       "      <th>4</th>\n",
       "      <td>video 5</td>\n",
       "      <td>id00391</td>\n",
       "      <td>-</td>\n",
       "      <td>-</td>\n",
       "      <td>real</td>\n",
       "      <td>A</td>\n",
       "      <td>RealVideo-RealAudio</td>\n",
       "      <td>African</td>\n",
       "      <td>men</td>\n",
       "      <td>00052.mp4</td>\n",
       "      <td>/home/gautham/deepfake-detection/DeepFakeDetec...</td>\n",
       "      <td>/home/gautham/deepfake-detection/DeepFakeDetec...</td>\n",
       "      <td>/home/gautham/deepfake-detection/DeepFakeDetec...</td>\n",
       "      <td>/home/gautham/deepfake-detection/DeepFakeDetec...</td>\n",
       "      <td>12.06</td>\n",
       "      <td>/home/gautham/deepfake-detection/DeepFakeDetec...</td>\n",
       "    </tr>\n",
       "  </tbody>\n",
       "</table>\n",
       "</div>"
      ],
      "text/plain": [
       "  video_id   source target1 target2 method category                 type  \\\n",
       "0  video 1  id00076       -       -   real        A  RealVideo-RealAudio   \n",
       "1  video 2  id00166       -       -   real        A  RealVideo-RealAudio   \n",
       "2  video 3  id00173       -       -   real        A  RealVideo-RealAudio   \n",
       "3  video 4  id00366       -       -   real        A  RealVideo-RealAudio   \n",
       "4  video 5  id00391       -       -   real        A  RealVideo-RealAudio   \n",
       "\n",
       "      race gender   filename  \\\n",
       "0  African    men  00109.mp4   \n",
       "1  African    men  00010.mp4   \n",
       "2  African    men  00118.mp4   \n",
       "3  African    men  00118.mp4   \n",
       "4  African    men  00052.mp4   \n",
       "\n",
       "                                      directory_path  \\\n",
       "0  /home/gautham/deepfake-detection/DeepFakeDetec...   \n",
       "1  /home/gautham/deepfake-detection/DeepFakeDetec...   \n",
       "2  /home/gautham/deepfake-detection/DeepFakeDetec...   \n",
       "3  /home/gautham/deepfake-detection/DeepFakeDetec...   \n",
       "4  /home/gautham/deepfake-detection/DeepFakeDetec...   \n",
       "\n",
       "                                        mp4_filepath  \\\n",
       "0  /home/gautham/deepfake-detection/DeepFakeDetec...   \n",
       "1  /home/gautham/deepfake-detection/DeepFakeDetec...   \n",
       "2  /home/gautham/deepfake-detection/DeepFakeDetec...   \n",
       "3  /home/gautham/deepfake-detection/DeepFakeDetec...   \n",
       "4  /home/gautham/deepfake-detection/DeepFakeDetec...   \n",
       "\n",
       "                                      utterance_file  \\\n",
       "0  /home/gautham/deepfake-detection/DeepFakeDetec...   \n",
       "1  /home/gautham/deepfake-detection/DeepFakeDetec...   \n",
       "2  /home/gautham/deepfake-detection/DeepFakeDetec...   \n",
       "3  /home/gautham/deepfake-detection/DeepFakeDetec...   \n",
       "4  /home/gautham/deepfake-detection/DeepFakeDetec...   \n",
       "\n",
       "                                        wav_filepath  audio_length  \\\n",
       "0  /home/gautham/deepfake-detection/DeepFakeDetec...         10.10   \n",
       "1  /home/gautham/deepfake-detection/DeepFakeDetec...          6.46   \n",
       "2  /home/gautham/deepfake-detection/DeepFakeDetec...          6.02   \n",
       "3  /home/gautham/deepfake-detection/DeepFakeDetec...          9.02   \n",
       "4  /home/gautham/deepfake-detection/DeepFakeDetec...         12.06   \n",
       "\n",
       "                                   textgrid_filepath  \n",
       "0  /home/gautham/deepfake-detection/DeepFakeDetec...  \n",
       "1  /home/gautham/deepfake-detection/DeepFakeDetec...  \n",
       "2  /home/gautham/deepfake-detection/DeepFakeDetec...  \n",
       "3  /home/gautham/deepfake-detection/DeepFakeDetec...  \n",
       "4  /home/gautham/deepfake-detection/DeepFakeDetec...  "
      ]
     },
     "execution_count": 18,
     "metadata": {},
     "output_type": "execute_result"
    }
   ],
   "source": [
    "metadata_df.head()"
   ]
  },
  {
   "cell_type": "code",
   "execution_count": 19,
   "id": "793fc505",
   "metadata": {},
   "outputs": [],
   "source": [
    "transcriptions_path = '/home/gautham/deepfake-detection/DeepFakeDetection/data/FakeAVCeleb_v1.2/whisper_transcriptions'"
   ]
  },
  {
   "cell_type": "code",
   "execution_count": 20,
   "id": "6d5103ca",
   "metadata": {},
   "outputs": [],
   "source": [
    "wav_files = metadata_df.wav_filepath.to_list()"
   ]
  },
  {
   "cell_type": "code",
   "execution_count": 21,
   "id": "16b4266f",
   "metadata": {},
   "outputs": [
    {
     "name": "stderr",
     "output_type": "stream",
     "text": [
      " 52%|█████████████████████████████████████████████████████████████████████████████████▋                                                                          | 5291/10102 [1:25:24<40:36,  1.97it/s]"
     ]
    },
    {
     "name": "stdout",
     "output_type": "stream",
     "text": [
      "Failed for /home/gautham/deepfake-detection/DeepFakeDetection/data/FakeAVCeleb_v1.2/FakeVideo-RealAudio/Asian (South)/women/id05478/00135_id06268_wavtolip.wav\n"
     ]
    },
    {
     "name": "stderr",
     "output_type": "stream",
     "text": [
      "100%|███████████████████████████████████████████████████████████████████████████████████████████████████████████████████████████████████████████████████████████| 10102/10102 [2:13:02<00:00,  1.27it/s]\n"
     ]
    }
   ],
   "source": [
    "for wav_file in tqdm(wav_files):\n",
    "    \n",
    "    #get the transciption result\n",
    "    try:\n",
    "        result = model.transcribe(wav_file)\n",
    "    except:\n",
    "        print(\"Failed for {}\".format(wav_file))        \n",
    "\n",
    "    #path processing for saving\n",
    "    new_path = wav_file.split('FakeAVCeleb_v1.2/')[0] + 'FakeAVCeleb_v1.2/whisper_transcriptions/' + wav_file.split('FakeAVCeleb_v1.2/')[1]\n",
    "    new_file = new_path.replace('wav','txt')\n",
    "    terms = new_file.split('/')\n",
    "    folder = \"/\".join(terms[:-1])\n",
    "\n",
    "    #save file\n",
    "    if not os.path.exists(folder):\n",
    "        os.makedirs(folder)\n",
    "    with open(new_file, 'w+') as f:\n",
    "        f.write(result[\"text\"])"
   ]
  },
  {
   "cell_type": "code",
   "execution_count": 22,
   "id": "b9f0213f",
   "metadata": {},
   "outputs": [],
   "source": [
    "folder = '/home/gautham/deepfake-detection/DeepFakeDetection/data/FakeAVCeleb_v1.2/whisper_transcriptions'"
   ]
  },
  {
   "cell_type": "code",
   "execution_count": 26,
   "id": "ed1c2eff",
   "metadata": {},
   "outputs": [],
   "source": [
    "txt_files = []\n",
    "\n",
    "for root, dirs, files in os.walk(folder):\n",
    "    for file in files:\n",
    "        if file.endswith(\".txt\"):\n",
    "             txt_files.append(os.path.join(root, file))"
   ]
  },
  {
   "cell_type": "code",
   "execution_count": 27,
   "id": "b6beaff2",
   "metadata": {},
   "outputs": [
    {
     "data": {
      "text/plain": [
       "10102"
      ]
     },
     "execution_count": 27,
     "metadata": {},
     "output_type": "execute_result"
    }
   ],
   "source": [
    "len(txt_files)"
   ]
  },
  {
   "cell_type": "code",
   "execution_count": null,
   "id": "7d4d0480",
   "metadata": {},
   "outputs": [],
   "source": []
  }
 ],
 "metadata": {
  "kernelspec": {
   "display_name": "Whisper",
   "language": "python",
   "name": "whisper"
  },
  "language_info": {
   "codemirror_mode": {
    "name": "ipython",
    "version": 3
   },
   "file_extension": ".py",
   "mimetype": "text/x-python",
   "name": "python",
   "nbconvert_exporter": "python",
   "pygments_lexer": "ipython3",
   "version": "3.9.9"
  }
 },
 "nbformat": 4,
 "nbformat_minor": 5
}
