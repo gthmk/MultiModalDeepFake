{
  "nbformat": 4,
  "nbformat_minor": 0,
  "metadata": {
    "colab": {
      "provenance": [],
      "machine_shape": "hm",
      "authorship_tag": "ABX9TyNcXi7evK4P1oqGTFpb5yRR",
      "include_colab_link": true
    },
    "kernelspec": {
      "name": "python3",
      "display_name": "Python 3"
    },
    "language_info": {
      "name": "python"
    },
    "accelerator": "TPU",
    "gpuClass": "standard"
  },
  "cells": [
    {
      "cell_type": "markdown",
      "metadata": {
        "id": "view-in-github",
        "colab_type": "text"
      },
      "source": [
        "<a href=\"https://colab.research.google.com/github/romitbarua/MultiModalDeepFake/blob/main/TestingNotebooks/mfa_textgrid_proc.ipynb\" target=\"_parent\"><img src=\"https://colab.research.google.com/assets/colab-badge.svg\" alt=\"Open In Colab\"/></a>"
      ]
    },
    {
      "cell_type": "code",
      "source": [
        "#https://github.com/kylebgorman/textgrid\n",
        "!pip install textgrid"
      ],
      "metadata": {
        "colab": {
          "base_uri": "https://localhost:8080/"
        },
        "id": "sH1mOIUyl6QY",
        "outputId": "82579089-06f7-46b1-eab8-2eddac2b30e9"
      },
      "execution_count": 6,
      "outputs": [
        {
          "output_type": "stream",
          "name": "stdout",
          "text": [
            "Looking in indexes: https://pypi.org/simple, https://us-python.pkg.dev/colab-wheels/public/simple/\n",
            "Collecting textgrid\n",
            "  Downloading TextGrid-1.5-py3-none-any.whl (10.0 kB)\n",
            "Installing collected packages: textgrid\n",
            "Successfully installed textgrid-1.5\n"
          ]
        }
      ]
    },
    {
      "cell_type": "code",
      "execution_count": 1,
      "metadata": {
        "colab": {
          "base_uri": "https://localhost:8080/"
        },
        "id": "aXBkqi2ubgHI",
        "outputId": "5a1e80bd-a6c4-4a71-8104-bf1317a3888e"
      },
      "outputs": [
        {
          "output_type": "stream",
          "name": "stdout",
          "text": [
            "Mounted at /content/drive/\n"
          ]
        }
      ],
      "source": [
        "from google.colab import drive\n",
        "drive.mount('/content/drive/')"
      ]
    },
    {
      "cell_type": "code",
      "source": [
        "import pandas as pd\n",
        "import numpy as np\n",
        "import textgrid"
      ],
      "metadata": {
        "id": "gX0MACSxbw-c"
      },
      "execution_count": 7,
      "outputs": []
    },
    {
      "cell_type": "code",
      "source": [
        "metadata_file = r'/content/drive/MyDrive/DeepFakeDetection/data/FakeAVCeleb_v1.2/wav2lip_metadata_updated.csv'\n",
        "metadata_df = pd.read_csv(metadata_file)"
      ],
      "metadata": {
        "id": "Q8H2ZB03byXt"
      },
      "execution_count": 3,
      "outputs": []
    },
    {
      "cell_type": "code",
      "source": [
        "metadata_df.columns"
      ],
      "metadata": {
        "colab": {
          "base_uri": "https://localhost:8080/"
        },
        "id": "Np2bdzmJb15n",
        "outputId": "e6d27135-7da8-4d35-bffa-7b6d29fc242e"
      },
      "execution_count": 4,
      "outputs": [
        {
          "output_type": "execute_result",
          "data": {
            "text/plain": [
              "Index(['source', 'target1', 'target2', 'method', 'category', 'type', 'race',\n",
              "       'gender', 'filename', 'directory_path', 'mp4_filepath',\n",
              "       'utterance_file', 'wav_filepath', 'audio_length', 'textgrid_filepath'],\n",
              "      dtype='object')"
            ]
          },
          "metadata": {},
          "execution_count": 4
        }
      ]
    },
    {
      "cell_type": "code",
      "source": [
        "tg_test = metadata_df.textgrid_filepath[0]"
      ],
      "metadata": {
        "id": "DFMo3Bxpb4qn"
      },
      "execution_count": 8,
      "outputs": []
    },
    {
      "cell_type": "code",
      "source": [
        "tg = textgrid.TextGrid.fromFile(tg_test)"
      ],
      "metadata": {
        "id": "wLfrFyggmnO1"
      },
      "execution_count": 10,
      "outputs": []
    },
    {
      "cell_type": "code",
      "source": [
        "type(tg[1][:])"
      ],
      "metadata": {
        "colab": {
          "base_uri": "https://localhost:8080/"
        },
        "id": "9LeHoaZmm20R",
        "outputId": "c34ac562-981e-4b51-d335-ee4d1c69ef31"
      },
      "execution_count": 18,
      "outputs": [
        {
          "output_type": "execute_result",
          "data": {
            "text/plain": [
              "list"
            ]
          },
          "metadata": {},
          "execution_count": 18
        }
      ]
    },
    {
      "cell_type": "code",
      "source": [
        "tg[1][:][:3]"
      ],
      "metadata": {
        "colab": {
          "base_uri": "https://localhost:8080/"
        },
        "id": "oGVQjoVwnY_n",
        "outputId": "2a8725aa-4496-443d-b1cd-9af55bdb93f9"
      },
      "execution_count": 26,
      "outputs": [
        {
          "output_type": "execute_result",
          "data": {
            "text/plain": [
              "[Interval(0.0, 0.11, S), Interval(0.11, 0.19, IY1), Interval(0.19, 0.24, DH)]"
            ]
          },
          "metadata": {},
          "execution_count": 26
        }
      ]
    },
    {
      "cell_type": "code",
      "source": [
        "tg[1][:][0].mark"
      ],
      "metadata": {
        "colab": {
          "base_uri": "https://localhost:8080/",
          "height": 57
        },
        "id": "5coSISoEnjUb",
        "outputId": "682b2308-108e-456c-c350-ac3379a10f88"
      },
      "execution_count": 23,
      "outputs": [
        {
          "output_type": "execute_result",
          "data": {
            "text/plain": [
              "'S'"
            ],
            "application/vnd.google.colaboratory.intrinsic+json": {
              "type": "string"
            }
          },
          "metadata": {},
          "execution_count": 23
        }
      ]
    },
    {
      "cell_type": "code",
      "source": [
        "m_phonemes = []\n",
        "b_phonemes = []\n",
        "p_phonemes = []\n",
        "\n",
        "for interval in tg[1][:]:\n",
        "\n",
        "  if interval.mark == 'M':\n",
        "    m_phonemes.append(interval)\n",
        "  if interval.mark == 'B':\n",
        "    b_phonemes.append(interval)\n",
        "  if interval.mark == 'P':\n",
        "    p_phonemes.append(interval)\n"
      ],
      "metadata": {
        "id": "wyb9kJAbnqUg"
      },
      "execution_count": 28,
      "outputs": []
    },
    {
      "cell_type": "code",
      "source": [
        "m_phonemes"
      ],
      "metadata": {
        "colab": {
          "base_uri": "https://localhost:8080/"
        },
        "id": "y30vkLyuoT3I",
        "outputId": "b660387b-cc1f-4463-8db4-8e420ef34ed3"
      },
      "execution_count": 29,
      "outputs": [
        {
          "output_type": "execute_result",
          "data": {
            "text/plain": [
              "[Interval(4.06, 4.1, M),\n",
              " Interval(4.45, 4.48, M),\n",
              " Interval(5.31, 5.37, M),\n",
              " Interval(5.52, 5.59, M),\n",
              " Interval(7.08, 7.16, M),\n",
              " Interval(9.05, 9.12, M)]"
            ]
          },
          "metadata": {},
          "execution_count": 29
        }
      ]
    },
    {
      "cell_type": "code",
      "source": [
        "b_phonemes"
      ],
      "metadata": {
        "colab": {
          "base_uri": "https://localhost:8080/"
        },
        "id": "YJcaL85koW6D",
        "outputId": "7c7710f6-1e7b-469d-a736-d01c4beaba2b"
      },
      "execution_count": 30,
      "outputs": [
        {
          "output_type": "execute_result",
          "data": {
            "text/plain": [
              "[Interval(0.42, 0.45, B)]"
            ]
          },
          "metadata": {},
          "execution_count": 30
        }
      ]
    },
    {
      "cell_type": "code",
      "source": [
        "p_phonemes"
      ],
      "metadata": {
        "colab": {
          "base_uri": "https://localhost:8080/"
        },
        "id": "kA2O-dQ8oXPV",
        "outputId": "8e17aa99-a555-4c2f-80bc-4d4b6026acde"
      },
      "execution_count": 31,
      "outputs": [
        {
          "output_type": "execute_result",
          "data": {
            "text/plain": [
              "[Interval(3.2, 3.29, P),\n",
              " Interval(5.37, 5.45, P),\n",
              " Interval(5.59, 5.67, P),\n",
              " Interval(8.04, 8.16, P)]"
            ]
          },
          "metadata": {},
          "execution_count": 31
        }
      ]
    },
    {
      "cell_type": "code",
      "source": [
        "m_phonemes[0].minTime, m_phonemes[0].maxTime"
      ],
      "metadata": {
        "colab": {
          "base_uri": "https://localhost:8080/"
        },
        "id": "innRSbMsojqR",
        "outputId": "8183e14e-846e-499f-8caa-5bfac3b1f80c"
      },
      "execution_count": 33,
      "outputs": [
        {
          "output_type": "execute_result",
          "data": {
            "text/plain": [
              "(4.06, 4.1)"
            ]
          },
          "metadata": {},
          "execution_count": 33
        }
      ]
    }
  ]
}