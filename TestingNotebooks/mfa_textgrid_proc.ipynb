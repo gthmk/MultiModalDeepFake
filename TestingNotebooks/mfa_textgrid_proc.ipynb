{
  "nbformat": 4,
  "nbformat_minor": 0,
  "metadata": {
    "colab": {
      "provenance": [],
      "machine_shape": "hm",
      "authorship_tag": "ABX9TyNRWy1k0kOMRuUlPhnmKak2"
    },
    "kernelspec": {
      "name": "python3",
      "display_name": "Python 3"
    },
    "language_info": {
      "name": "python"
    },
    "accelerator": "TPU",
    "gpuClass": "standard"
  },
  "cells": [
    {
      "cell_type": "code",
      "source": [
        "#https://github.com/kylebgorman/textgrid\n",
        "!pip install textgrid"
      ],
      "metadata": {
        "colab": {
          "base_uri": "https://localhost:8080/"
        },
        "id": "sH1mOIUyl6QY",
        "outputId": "2314e5c2-0f5a-4ed5-cd18-6518acb672cb"
      },
      "execution_count": 1,
      "outputs": [
        {
          "output_type": "stream",
          "name": "stdout",
          "text": [
            "Looking in indexes: https://pypi.org/simple, https://us-python.pkg.dev/colab-wheels/public/simple/\n",
            "Requirement already satisfied: textgrid in /usr/local/lib/python3.7/dist-packages (1.5)\n"
          ]
        }
      ]
    },
    {
      "cell_type": "code",
      "source": [
        "!pip install moviepy\n",
        "!pip3 install imageio==2.4.1\n",
        "!pip install imageio-ffmpeg"
      ],
      "metadata": {
        "colab": {
          "base_uri": "https://localhost:8080/"
        },
        "id": "AxQVCLNFqTx0",
        "outputId": "213be306-4632-478f-9d7e-a6544e826f6f"
      },
      "execution_count": 2,
      "outputs": [
        {
          "output_type": "stream",
          "name": "stdout",
          "text": [
            "Looking in indexes: https://pypi.org/simple, https://us-python.pkg.dev/colab-wheels/public/simple/\n",
            "Requirement already satisfied: moviepy in /usr/local/lib/python3.7/dist-packages (0.2.3.5)\n",
            "Requirement already satisfied: numpy in /usr/local/lib/python3.7/dist-packages (from moviepy) (1.21.6)\n",
            "Requirement already satisfied: tqdm<5.0,>=4.11.2 in /usr/local/lib/python3.7/dist-packages (from moviepy) (4.64.1)\n",
            "Requirement already satisfied: decorator<5.0,>=4.0.2 in /usr/local/lib/python3.7/dist-packages (from moviepy) (4.4.2)\n",
            "Requirement already satisfied: imageio<3.0,>=2.1.2 in /usr/local/lib/python3.7/dist-packages (from moviepy) (2.4.1)\n",
            "Requirement already satisfied: pillow in /usr/local/lib/python3.7/dist-packages (from imageio<3.0,>=2.1.2->moviepy) (7.1.2)\n",
            "Looking in indexes: https://pypi.org/simple, https://us-python.pkg.dev/colab-wheels/public/simple/\n",
            "Requirement already satisfied: imageio==2.4.1 in /usr/local/lib/python3.7/dist-packages (2.4.1)\n",
            "Requirement already satisfied: pillow in /usr/local/lib/python3.7/dist-packages (from imageio==2.4.1) (7.1.2)\n",
            "Requirement already satisfied: numpy in /usr/local/lib/python3.7/dist-packages (from imageio==2.4.1) (1.21.6)\n",
            "Looking in indexes: https://pypi.org/simple, https://us-python.pkg.dev/colab-wheels/public/simple/\n",
            "Requirement already satisfied: imageio-ffmpeg in /usr/local/lib/python3.7/dist-packages (0.4.7)\n"
          ]
        }
      ]
    },
    {
      "cell_type": "code",
      "execution_count": 3,
      "metadata": {
        "colab": {
          "base_uri": "https://localhost:8080/"
        },
        "id": "aXBkqi2ubgHI",
        "outputId": "f793fabb-b4a2-4ec5-8622-5b1a33fe13ef"
      },
      "outputs": [
        {
          "output_type": "stream",
          "name": "stdout",
          "text": [
            "Drive already mounted at /content/drive/; to attempt to forcibly remount, call drive.mount(\"/content/drive/\", force_remount=True).\n"
          ]
        }
      ],
      "source": [
        "from google.colab import drive\n",
        "drive.mount('/content/drive/')"
      ]
    },
    {
      "cell_type": "code",
      "source": [
        "import pandas as pd\n",
        "import numpy as np\n",
        "import textgrid\n",
        "from moviepy.editor import *"
      ],
      "metadata": {
        "colab": {
          "base_uri": "https://localhost:8080/"
        },
        "id": "gX0MACSxbw-c",
        "outputId": "63c9d8df-bc27-4d84-e6a1-a3de6fa94833"
      },
      "execution_count": 4,
      "outputs": [
        {
          "output_type": "stream",
          "name": "stdout",
          "text": [
            "Imageio: 'ffmpeg-linux64-v3.3.1' was not found on your computer; downloading it now.\n",
            "Try 1. Download from https://github.com/imageio/imageio-binaries/raw/master/ffmpeg/ffmpeg-linux64-v3.3.1 (43.8 MB)\n",
            "Downloading: 8192/45929032 bytes (0.0%)\b\b\b\b\b\b\b\b\b\b\b\b\b\b\b\b\b\b\b\b\b\b\b\b\b\b2809856/45929032 bytes (6.1%)\b\b\b\b\b\b\b\b\b\b\b\b\b\b\b\b\b\b\b\b\b\b\b\b\b\b\b\b\b6455296/45929032 bytes (14.1%)\b\b\b\b\b\b\b\b\b\b\b\b\b\b\b\b\b\b\b\b\b\b\b\b\b\b\b\b\b\b10330112/45929032 bytes (22.5%)\b\b\b\b\b\b\b\b\b\b\b\b\b\b\b\b\b\b\b\b\b\b\b\b\b\b\b\b\b\b\b14245888/45929032 bytes (31.0%)\b\b\b\b\b\b\b\b\b\b\b\b\b\b\b\b\b\b\b\b\b\b\b\b\b\b\b\b\b\b\b17907712/45929032 bytes (39.0%)\b\b\b\b\b\b\b\b\b\b\b\b\b\b\b\b\b\b\b\b\b\b\b\b\b\b\b\b\b\b\b21331968/45929032 bytes (46.4%)\b\b\b\b\b\b\b\b\b\b\b\b\b\b\b\b\b\b\b\b\b\b\b\b\b\b\b\b\b\b\b24961024/45929032 bytes (54.3%)\b\b\b\b\b\b\b\b\b\b\b\b\b\b\b\b\b\b\b\b\b\b\b\b\b\b\b\b\b\b\b28614656/45929032 bytes (62.3%)\b\b\b\b\b\b\b\b\b\b\b\b\b\b\b\b\b\b\b\b\b\b\b\b\b\b\b\b\b\b\b32505856/45929032 bytes (70.8%)\b\b\b\b\b\b\b\b\b\b\b\b\b\b\b\b\b\b\b\b\b\b\b\b\b\b\b\b\b\b\b36331520/45929032 bytes (79.1%)\b\b\b\b\b\b\b\b\b\b\b\b\b\b\b\b\b\b\b\b\b\b\b\b\b\b\b\b\b\b\b40034304/45929032 bytes (87.2%)\b\b\b\b\b\b\b\b\b\b\b\b\b\b\b\b\b\b\b\b\b\b\b\b\b\b\b\b\b\b\b43761664/45929032 bytes (95.3%)\b\b\b\b\b\b\b\b\b\b\b\b\b\b\b\b\b\b\b\b\b\b\b\b\b\b\b\b\b\b\b45929032/45929032 bytes (100.0%)\n",
            "  Done\n",
            "File saved as /root/.imageio/ffmpeg/ffmpeg-linux64-v3.3.1.\n"
          ]
        }
      ]
    },
    {
      "cell_type": "markdown",
      "source": [
        "## Extracting MBP Phonemes"
      ],
      "metadata": {
        "id": "8CAGx4USqX7S"
      }
    },
    {
      "cell_type": "code",
      "source": [
        "metadata_file = r'/content/drive/MyDrive/DeepFakeDetection/data/FakeAVCeleb_v1.2/wav2lip_metadata_updated.csv'\n",
        "metadata_df = pd.read_csv(metadata_file)"
      ],
      "metadata": {
        "id": "Q8H2ZB03byXt"
      },
      "execution_count": 5,
      "outputs": []
    },
    {
      "cell_type": "code",
      "source": [
        "metadata_df.columns"
      ],
      "metadata": {
        "colab": {
          "base_uri": "https://localhost:8080/"
        },
        "id": "Np2bdzmJb15n",
        "outputId": "bff48b82-038e-4fc5-ea4a-3031464bfb59"
      },
      "execution_count": 6,
      "outputs": [
        {
          "output_type": "execute_result",
          "data": {
            "text/plain": [
              "Index(['source', 'target1', 'target2', 'method', 'category', 'type', 'race',\n",
              "       'gender', 'filename', 'directory_path', 'mp4_filepath',\n",
              "       'utterance_file', 'wav_filepath', 'audio_length', 'textgrid_filepath'],\n",
              "      dtype='object')"
            ]
          },
          "metadata": {},
          "execution_count": 6
        }
      ]
    },
    {
      "cell_type": "code",
      "source": [
        "tg_test = metadata_df.textgrid_filepath[0]"
      ],
      "metadata": {
        "id": "DFMo3Bxpb4qn"
      },
      "execution_count": 7,
      "outputs": []
    },
    {
      "cell_type": "code",
      "source": [
        "tg = textgrid.TextGrid.fromFile(tg_test)"
      ],
      "metadata": {
        "id": "wLfrFyggmnO1"
      },
      "execution_count": 8,
      "outputs": []
    },
    {
      "cell_type": "code",
      "source": [
        "type(tg[1][:])"
      ],
      "metadata": {
        "colab": {
          "base_uri": "https://localhost:8080/"
        },
        "id": "9LeHoaZmm20R",
        "outputId": "f848e669-8419-4aa4-d5d7-dd7633db4a6f"
      },
      "execution_count": 9,
      "outputs": [
        {
          "output_type": "execute_result",
          "data": {
            "text/plain": [
              "list"
            ]
          },
          "metadata": {},
          "execution_count": 9
        }
      ]
    },
    {
      "cell_type": "code",
      "source": [
        "tg[1][:][:3]"
      ],
      "metadata": {
        "colab": {
          "base_uri": "https://localhost:8080/"
        },
        "id": "oGVQjoVwnY_n",
        "outputId": "ea8a3f7e-44c6-4532-fee5-9d86f161a290"
      },
      "execution_count": 10,
      "outputs": [
        {
          "output_type": "execute_result",
          "data": {
            "text/plain": [
              "[Interval(0.0, 0.11, S), Interval(0.11, 0.19, IY1), Interval(0.19, 0.24, DH)]"
            ]
          },
          "metadata": {},
          "execution_count": 10
        }
      ]
    },
    {
      "cell_type": "code",
      "source": [
        "tg[1][:][0].mark"
      ],
      "metadata": {
        "colab": {
          "base_uri": "https://localhost:8080/",
          "height": 57
        },
        "id": "5coSISoEnjUb",
        "outputId": "ad9e415b-0d55-45e3-cda9-5d51e4c08e09"
      },
      "execution_count": 11,
      "outputs": [
        {
          "output_type": "execute_result",
          "data": {
            "text/plain": [
              "'S'"
            ],
            "application/vnd.google.colaboratory.intrinsic+json": {
              "type": "string"
            }
          },
          "metadata": {},
          "execution_count": 11
        }
      ]
    },
    {
      "cell_type": "code",
      "source": [
        "m_phonemes = []\n",
        "b_phonemes = []\n",
        "p_phonemes = []\n",
        "\n",
        "for interval in tg[1][:]:\n",
        "\n",
        "  if interval.mark == 'M':\n",
        "    m_phonemes.append(interval)\n",
        "  if interval.mark == 'B':\n",
        "    b_phonemes.append(interval)\n",
        "  if interval.mark == 'P':\n",
        "    p_phonemes.append(interval)\n"
      ],
      "metadata": {
        "id": "wyb9kJAbnqUg"
      },
      "execution_count": 12,
      "outputs": []
    },
    {
      "cell_type": "code",
      "source": [
        "m_phonemes"
      ],
      "metadata": {
        "colab": {
          "base_uri": "https://localhost:8080/"
        },
        "id": "y30vkLyuoT3I",
        "outputId": "93d8ef13-c5da-4e21-dfc0-d03716f44656"
      },
      "execution_count": 13,
      "outputs": [
        {
          "output_type": "execute_result",
          "data": {
            "text/plain": [
              "[Interval(4.06, 4.1, M),\n",
              " Interval(4.45, 4.48, M),\n",
              " Interval(5.31, 5.37, M),\n",
              " Interval(5.52, 5.59, M),\n",
              " Interval(7.08, 7.16, M),\n",
              " Interval(9.05, 9.12, M)]"
            ]
          },
          "metadata": {},
          "execution_count": 13
        }
      ]
    },
    {
      "cell_type": "code",
      "source": [
        "b_phonemes"
      ],
      "metadata": {
        "colab": {
          "base_uri": "https://localhost:8080/"
        },
        "id": "YJcaL85koW6D",
        "outputId": "3e48c256-5503-4c97-b2ce-02c7910412cb"
      },
      "execution_count": 14,
      "outputs": [
        {
          "output_type": "execute_result",
          "data": {
            "text/plain": [
              "[Interval(0.42, 0.45, B)]"
            ]
          },
          "metadata": {},
          "execution_count": 14
        }
      ]
    },
    {
      "cell_type": "code",
      "source": [
        "p_phonemes"
      ],
      "metadata": {
        "colab": {
          "base_uri": "https://localhost:8080/"
        },
        "id": "kA2O-dQ8oXPV",
        "outputId": "70a36339-4785-490a-d46d-226df5cf0167"
      },
      "execution_count": 15,
      "outputs": [
        {
          "output_type": "execute_result",
          "data": {
            "text/plain": [
              "[Interval(3.2, 3.29, P),\n",
              " Interval(5.37, 5.45, P),\n",
              " Interval(5.59, 5.67, P),\n",
              " Interval(8.04, 8.16, P)]"
            ]
          },
          "metadata": {},
          "execution_count": 15
        }
      ]
    },
    {
      "cell_type": "code",
      "source": [
        "m_phonemes[0].minTime, m_phonemes[0].maxTime"
      ],
      "metadata": {
        "colab": {
          "base_uri": "https://localhost:8080/"
        },
        "id": "innRSbMsojqR",
        "outputId": "17554583-b296-42da-d129-fae36c6f2e58"
      },
      "execution_count": 16,
      "outputs": [
        {
          "output_type": "execute_result",
          "data": {
            "text/plain": [
              "(4.06, 4.1)"
            ]
          },
          "metadata": {},
          "execution_count": 16
        }
      ]
    },
    {
      "cell_type": "markdown",
      "source": [
        "## Extracting Relevant Video Segments"
      ],
      "metadata": {
        "id": "AVsams5UrSVr"
      }
    },
    {
      "cell_type": "code",
      "source": [
        "video_test = metadata_df.mp4_filepath[0]\n",
        "clip = VideoFileClip(video_test) "
      ],
      "metadata": {
        "id": "KtSWDHDjrSA8"
      },
      "execution_count": 17,
      "outputs": []
    },
    {
      "cell_type": "code",
      "source": [
        "sub_clip = clip.subclip(m_phonemes[1].minTime, m_phonemes[1].maxTime)"
      ],
      "metadata": {
        "id": "rIi5zhdlrwuP"
      },
      "execution_count": 36,
      "outputs": []
    },
    {
      "cell_type": "code",
      "source": [
        "sub_clip = clip.subclip(m_phonemes[2].minTime, m_phonemes[2].maxTime)"
      ],
      "metadata": {
        "id": "9IL3bIR-txVE"
      },
      "execution_count": 41,
      "outputs": []
    },
    {
      "cell_type": "code",
      "source": [
        "sub_clip = clip.subclip(m_phonemes[3].minTime, m_phonemes[3].maxTime)"
      ],
      "metadata": {
        "id": "f0X9q3pvtykB"
      },
      "execution_count": 43,
      "outputs": []
    },
    {
      "cell_type": "code",
      "source": [
        "sub_clip = clip.subclip(m_phonemes[4].minTime, m_phonemes[4].maxTime)"
      ],
      "metadata": {
        "id": "3Z7DH3GetzWS"
      },
      "execution_count": 44,
      "outputs": []
    },
    {
      "cell_type": "code",
      "source": [
        "sub_clip = clip.subclip(m_phonemes[5].minTime, m_phonemes[5].maxTime)"
      ],
      "metadata": {
        "id": "ACo8WzKOt0qJ"
      },
      "execution_count": 46,
      "outputs": []
    },
    {
      "cell_type": "code",
      "source": [
        "sub_clip = clip.subclip(b_phonemes[1].minTime, b_phonemes[1].maxTime)"
      ],
      "metadata": {
        "id": "3sHsDuTIuCWD"
      },
      "execution_count": null,
      "outputs": []
    },
    {
      "cell_type": "code",
      "source": [
        "sub_clip = clip.subclip(p_phonemes[1].minTime, p_phonemes[1].maxTime)"
      ],
      "metadata": {
        "id": "9BoGA5ywuCq_"
      },
      "execution_count": 48,
      "outputs": []
    },
    {
      "cell_type": "code",
      "source": [
        "sub_clip = clip.subclip(p_phonemes[2].minTime, p_phonemes[2].maxTime)"
      ],
      "metadata": {
        "id": "1CPNOpuwuDBW"
      },
      "execution_count": 50,
      "outputs": []
    },
    {
      "cell_type": "code",
      "source": [
        "sub_clip = clip.subclip(p_phonemes[3].minTime, p_phonemes[3].maxTime)"
      ],
      "metadata": {
        "id": "WmGkDPhsuIj3"
      },
      "execution_count": 52,
      "outputs": []
    },
    {
      "cell_type": "code",
      "source": [
        "sub_clip.ipython_display(width = 360)"
      ],
      "metadata": {
        "colab": {
          "base_uri": "https://localhost:8080/",
          "height": 436
        },
        "id": "qciMJVxUr7yL",
        "outputId": "db3fe245-c18f-42ce-8756-502a4a9a676d"
      },
      "execution_count": 54,
      "outputs": [
        {
          "output_type": "stream",
          "name": "stderr",
          "text": [
            "100%|██████████| 3/3 [00:00<00:00, 1826.26it/s]\n",
            "100%|██████████| 4/4 [00:00<00:00, 61.44it/s]\n"
          ]
        },
        {
          "output_type": "execute_result",
          "data": {
            "text/plain": [
              "<moviepy.video.io.html_tools.HTML2 object>"
            ],
            "text/html": [
              "<div align=middle><video width='360'src='data:video/mp4;base64,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' controls>Sorry, seems like your browser doesn't support HTML5 audio/video</video></div>"
            ]
          },
          "metadata": {},
          "execution_count": 54
        }
      ]
    }
  ]
}