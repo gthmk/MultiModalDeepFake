{
  "nbformat": 4,
  "nbformat_minor": 0,
  "metadata": {
    "colab": {
      "provenance": [],
      "machine_shape": "hm",
      "authorship_tag": "ABX9TyOULCft2CKm24znn80dPuXZ",
      "include_colab_link": true
    },
    "kernelspec": {
      "name": "python3",
      "display_name": "Python 3"
    },
    "language_info": {
      "name": "python"
    },
    "gpuClass": "standard"
  },
  "cells": [
    {
      "cell_type": "markdown",
      "metadata": {
        "id": "view-in-github",
        "colab_type": "text"
      },
      "source": [
        "<a href=\"https://colab.research.google.com/github/romitbarua/MultiModalDeepFake/blob/main/TestingNotebooks/PCAvsMFCC.ipynb\" target=\"_parent\"><img src=\"https://colab.research.google.com/assets/colab-badge.svg\" alt=\"Open In Colab\"/></a>"
      ]
    },
    {
      "cell_type": "code",
      "source": [
        "#### Articles Used to Generate Code\n",
        "#https://towardsdatascience.com/eigenfaces-recovering-humans-from-ghosts-17606c328184\n",
        "#https://machinelearningmastery.com/face-recognition-using-principal-component-analysis/"
      ],
      "metadata": {
        "id": "3j3SyY5-IQbj"
      },
      "execution_count": 55,
      "outputs": []
    },
    {
      "cell_type": "code",
      "execution_count": 56,
      "metadata": {
        "colab": {
          "base_uri": "https://localhost:8080/"
        },
        "id": "-w4DkQeT_CXF",
        "outputId": "42cb03d3-e6b4-4722-8794-0e8745b24df9"
      },
      "outputs": [
        {
          "output_type": "stream",
          "name": "stdout",
          "text": [
            "Drive already mounted at /content/drive/; to attempt to forcibly remount, call drive.mount(\"/content/drive/\", force_remount=True).\n"
          ]
        }
      ],
      "source": [
        "from google.colab import drive\n",
        "drive.mount('/content/drive/')"
      ]
    },
    {
      "cell_type": "code",
      "source": [
        "import os\n",
        "import cv2\n",
        "import dlib\n",
        "from google.colab.patches import cv2_imshow\n",
        "import numpy as np \n",
        "from sklearn.preprocessing import StandardScaler\n",
        "from sklearn.decomposition import PCA\n",
        "import matplotlib.pyplot as plt\n",
        "import librosa\n",
        "from scipy.io import wavfile\n",
        "from sklearn.model_selection import train_test_split\n",
        "from sklearn.linear_model import LinearRegression\n",
        "from sklearn.metrics import mean_squared_error\n",
        "import pandas as pd\n",
        "import seaborn as sns\n",
        "from sklearn.ensemble import RandomForestRegressor"
      ],
      "metadata": {
        "id": "xJclkam8_Ig3"
      },
      "execution_count": 57,
      "outputs": []
    },
    {
      "cell_type": "code",
      "source": [
        "SYM_PATH = '/content/drive/MyDrive/DeepFakeDetection'\n",
        "%cd $SYM_PATH\n",
        "%pip install -e ."
      ],
      "metadata": {
        "colab": {
          "base_uri": "https://localhost:8080/"
        },
        "id": "Uuj3qbKy_Mc2",
        "outputId": "8c7f3791-2745-4112-f67d-a0f638e99934"
      },
      "execution_count": 58,
      "outputs": [
        {
          "output_type": "stream",
          "name": "stdout",
          "text": [
            "/content/drive/MyDrive/DeepFakeDetection\n",
            "Looking in indexes: https://pypi.org/simple, https://us-python.pkg.dev/colab-wheels/public/simple/\n",
            "Obtaining file:///content/drive/MyDrive/DeepFakeDetection\n",
            "Installing collected packages: DeepFake\n",
            "  Attempting uninstall: DeepFake\n",
            "    Found existing installation: DeepFake 0.1.0\n",
            "    Can't uninstall 'DeepFake'. No files were found to uninstall.\n",
            "  Running setup.py develop for DeepFake\n",
            "Successfully installed DeepFake-0.1.0\n"
          ]
        }
      ]
    },
    {
      "cell_type": "code",
      "source": [
        "from packages.DlibManager import DlibManager\n",
        "\n",
        "predictor_path = '/content/drive/MyDrive/DeepFakeDetection/model/shape_predictor_68_face_landmarks.dat'\n",
        "detector = dlib.get_frontal_face_detector()\n",
        "predictor = dlib.shape_predictor(predictor_path)"
      ],
      "metadata": {
        "id": "ba6bhGL4_PFr"
      },
      "execution_count": 59,
      "outputs": []
    },
    {
      "cell_type": "code",
      "source": [
        "#load the metadata\n",
        "metadata = pd.read_csv('/content/drive/MyDrive/DeepFakeDetection/data/FakeAVCeleb_v1.2/meta_data.csv')\n",
        "metadata = metadata[(metadata['method']=='real') | (metadata['method']=='wav2lip')]\n",
        "metadata = metadata.rename(columns={'Unnamed: 9':'full_path'})\n",
        "metadata['full_path'] = metadata['full_path'].str.replace('FakeAVCeleb/', '/content/drive/MyDrive/DeepFakeDetection/data/FakeAVCeleb_v1.2/')\n",
        "metadata['full_path'] = metadata['full_path'] + '/' + metadata['path']\n",
        "metadata = metadata[metadata['gender']=='men']"
      ],
      "metadata": {
        "id": "6KlunNuwBP_5"
      },
      "execution_count": 60,
      "outputs": []
    },
    {
      "cell_type": "code",
      "source": [
        "metadata.head()"
      ],
      "metadata": {
        "colab": {
          "base_uri": "https://localhost:8080/",
          "height": 206
        },
        "id": "pCAPxMjzDrKb",
        "outputId": "8f2f855f-a073-4e93-8323-7487f5ea11a3"
      },
      "execution_count": 61,
      "outputs": [
        {
          "output_type": "execute_result",
          "data": {
            "text/plain": [
              "    source target1 target2 method category                 type     race  \\\n",
              "0  id00076       -       -   real        A  RealVideo-RealAudio  African   \n",
              "1  id00166       -       -   real        A  RealVideo-RealAudio  African   \n",
              "2  id00173       -       -   real        A  RealVideo-RealAudio  African   \n",
              "3  id00366       -       -   real        A  RealVideo-RealAudio  African   \n",
              "4  id00391       -       -   real        A  RealVideo-RealAudio  African   \n",
              "\n",
              "  gender       path                                          full_path  \n",
              "0    men  00109.mp4  /content/drive/MyDrive/DeepFakeDetection/data/...  \n",
              "1    men  00010.mp4  /content/drive/MyDrive/DeepFakeDetection/data/...  \n",
              "2    men  00118.mp4  /content/drive/MyDrive/DeepFakeDetection/data/...  \n",
              "3    men  00118.mp4  /content/drive/MyDrive/DeepFakeDetection/data/...  \n",
              "4    men  00052.mp4  /content/drive/MyDrive/DeepFakeDetection/data/...  "
            ],
            "text/html": [
              "\n",
              "  <div id=\"df-a1de28e6-66bf-400d-9444-14615bd4a528\">\n",
              "    <div class=\"colab-df-container\">\n",
              "      <div>\n",
              "<style scoped>\n",
              "    .dataframe tbody tr th:only-of-type {\n",
              "        vertical-align: middle;\n",
              "    }\n",
              "\n",
              "    .dataframe tbody tr th {\n",
              "        vertical-align: top;\n",
              "    }\n",
              "\n",
              "    .dataframe thead th {\n",
              "        text-align: right;\n",
              "    }\n",
              "</style>\n",
              "<table border=\"1\" class=\"dataframe\">\n",
              "  <thead>\n",
              "    <tr style=\"text-align: right;\">\n",
              "      <th></th>\n",
              "      <th>source</th>\n",
              "      <th>target1</th>\n",
              "      <th>target2</th>\n",
              "      <th>method</th>\n",
              "      <th>category</th>\n",
              "      <th>type</th>\n",
              "      <th>race</th>\n",
              "      <th>gender</th>\n",
              "      <th>path</th>\n",
              "      <th>full_path</th>\n",
              "    </tr>\n",
              "  </thead>\n",
              "  <tbody>\n",
              "    <tr>\n",
              "      <th>0</th>\n",
              "      <td>id00076</td>\n",
              "      <td>-</td>\n",
              "      <td>-</td>\n",
              "      <td>real</td>\n",
              "      <td>A</td>\n",
              "      <td>RealVideo-RealAudio</td>\n",
              "      <td>African</td>\n",
              "      <td>men</td>\n",
              "      <td>00109.mp4</td>\n",
              "      <td>/content/drive/MyDrive/DeepFakeDetection/data/...</td>\n",
              "    </tr>\n",
              "    <tr>\n",
              "      <th>1</th>\n",
              "      <td>id00166</td>\n",
              "      <td>-</td>\n",
              "      <td>-</td>\n",
              "      <td>real</td>\n",
              "      <td>A</td>\n",
              "      <td>RealVideo-RealAudio</td>\n",
              "      <td>African</td>\n",
              "      <td>men</td>\n",
              "      <td>00010.mp4</td>\n",
              "      <td>/content/drive/MyDrive/DeepFakeDetection/data/...</td>\n",
              "    </tr>\n",
              "    <tr>\n",
              "      <th>2</th>\n",
              "      <td>id00173</td>\n",
              "      <td>-</td>\n",
              "      <td>-</td>\n",
              "      <td>real</td>\n",
              "      <td>A</td>\n",
              "      <td>RealVideo-RealAudio</td>\n",
              "      <td>African</td>\n",
              "      <td>men</td>\n",
              "      <td>00118.mp4</td>\n",
              "      <td>/content/drive/MyDrive/DeepFakeDetection/data/...</td>\n",
              "    </tr>\n",
              "    <tr>\n",
              "      <th>3</th>\n",
              "      <td>id00366</td>\n",
              "      <td>-</td>\n",
              "      <td>-</td>\n",
              "      <td>real</td>\n",
              "      <td>A</td>\n",
              "      <td>RealVideo-RealAudio</td>\n",
              "      <td>African</td>\n",
              "      <td>men</td>\n",
              "      <td>00118.mp4</td>\n",
              "      <td>/content/drive/MyDrive/DeepFakeDetection/data/...</td>\n",
              "    </tr>\n",
              "    <tr>\n",
              "      <th>4</th>\n",
              "      <td>id00391</td>\n",
              "      <td>-</td>\n",
              "      <td>-</td>\n",
              "      <td>real</td>\n",
              "      <td>A</td>\n",
              "      <td>RealVideo-RealAudio</td>\n",
              "      <td>African</td>\n",
              "      <td>men</td>\n",
              "      <td>00052.mp4</td>\n",
              "      <td>/content/drive/MyDrive/DeepFakeDetection/data/...</td>\n",
              "    </tr>\n",
              "  </tbody>\n",
              "</table>\n",
              "</div>\n",
              "      <button class=\"colab-df-convert\" onclick=\"convertToInteractive('df-a1de28e6-66bf-400d-9444-14615bd4a528')\"\n",
              "              title=\"Convert this dataframe to an interactive table.\"\n",
              "              style=\"display:none;\">\n",
              "        \n",
              "  <svg xmlns=\"http://www.w3.org/2000/svg\" height=\"24px\"viewBox=\"0 0 24 24\"\n",
              "       width=\"24px\">\n",
              "    <path d=\"M0 0h24v24H0V0z\" fill=\"none\"/>\n",
              "    <path d=\"M18.56 5.44l.94 2.06.94-2.06 2.06-.94-2.06-.94-.94-2.06-.94 2.06-2.06.94zm-11 1L8.5 8.5l.94-2.06 2.06-.94-2.06-.94L8.5 2.5l-.94 2.06-2.06.94zm10 10l.94 2.06.94-2.06 2.06-.94-2.06-.94-.94-2.06-.94 2.06-2.06.94z\"/><path d=\"M17.41 7.96l-1.37-1.37c-.4-.4-.92-.59-1.43-.59-.52 0-1.04.2-1.43.59L10.3 9.45l-7.72 7.72c-.78.78-.78 2.05 0 2.83L4 21.41c.39.39.9.59 1.41.59.51 0 1.02-.2 1.41-.59l7.78-7.78 2.81-2.81c.8-.78.8-2.07 0-2.86zM5.41 20L4 18.59l7.72-7.72 1.47 1.35L5.41 20z\"/>\n",
              "  </svg>\n",
              "      </button>\n",
              "      \n",
              "  <style>\n",
              "    .colab-df-container {\n",
              "      display:flex;\n",
              "      flex-wrap:wrap;\n",
              "      gap: 12px;\n",
              "    }\n",
              "\n",
              "    .colab-df-convert {\n",
              "      background-color: #E8F0FE;\n",
              "      border: none;\n",
              "      border-radius: 50%;\n",
              "      cursor: pointer;\n",
              "      display: none;\n",
              "      fill: #1967D2;\n",
              "      height: 32px;\n",
              "      padding: 0 0 0 0;\n",
              "      width: 32px;\n",
              "    }\n",
              "\n",
              "    .colab-df-convert:hover {\n",
              "      background-color: #E2EBFA;\n",
              "      box-shadow: 0px 1px 2px rgba(60, 64, 67, 0.3), 0px 1px 3px 1px rgba(60, 64, 67, 0.15);\n",
              "      fill: #174EA6;\n",
              "    }\n",
              "\n",
              "    [theme=dark] .colab-df-convert {\n",
              "      background-color: #3B4455;\n",
              "      fill: #D2E3FC;\n",
              "    }\n",
              "\n",
              "    [theme=dark] .colab-df-convert:hover {\n",
              "      background-color: #434B5C;\n",
              "      box-shadow: 0px 1px 3px 1px rgba(0, 0, 0, 0.15);\n",
              "      filter: drop-shadow(0px 1px 2px rgba(0, 0, 0, 0.3));\n",
              "      fill: #FFFFFF;\n",
              "    }\n",
              "  </style>\n",
              "\n",
              "      <script>\n",
              "        const buttonEl =\n",
              "          document.querySelector('#df-a1de28e6-66bf-400d-9444-14615bd4a528 button.colab-df-convert');\n",
              "        buttonEl.style.display =\n",
              "          google.colab.kernel.accessAllowed ? 'block' : 'none';\n",
              "\n",
              "        async function convertToInteractive(key) {\n",
              "          const element = document.querySelector('#df-a1de28e6-66bf-400d-9444-14615bd4a528');\n",
              "          const dataTable =\n",
              "            await google.colab.kernel.invokeFunction('convertToInteractive',\n",
              "                                                     [key], {});\n",
              "          if (!dataTable) return;\n",
              "\n",
              "          const docLinkHtml = 'Like what you see? Visit the ' +\n",
              "            '<a target=\"_blank\" href=https://colab.research.google.com/notebooks/data_table.ipynb>data table notebook</a>'\n",
              "            + ' to learn more about interactive tables.';\n",
              "          element.innerHTML = '';\n",
              "          dataTable['output_type'] = 'display_data';\n",
              "          await google.colab.output.renderOutput(dataTable, element);\n",
              "          const docLink = document.createElement('div');\n",
              "          docLink.innerHTML = docLinkHtml;\n",
              "          element.appendChild(docLink);\n",
              "        }\n",
              "      </script>\n",
              "    </div>\n",
              "  </div>\n",
              "  "
            ]
          },
          "metadata": {},
          "execution_count": 61
        }
      ]
    },
    {
      "cell_type": "code",
      "source": [
        "training_ids = np.random.choice(metadata.source.unique(), int(metadata.source.unique().shape[0]*0.8), replace=False)\n",
        "testing_ids = np.array(metadata[~metadata['source'].isin(training_ids)]['source'].unique())"
      ],
      "metadata": {
        "id": "9PBia28oBoFv"
      },
      "execution_count": 62,
      "outputs": []
    },
    {
      "cell_type": "code",
      "source": [
        "training_videos_details = []\n",
        "failed_training_videos_dlib = []\n",
        "for idx, training_id in enumerate(training_ids):\n",
        "  print(f'Video #{idx+1} out of {len(training_ids)}')\n",
        "\n",
        "  video_path = metadata[(metadata['source'] == training_id) & (metadata['method'] == 'real')]['full_path'].values[0]\n",
        "  video = cv2.VideoCapture(video_path)\n",
        "  audio_path = metadata[(metadata['source'] == training_id) & (metadata['method'] == 'real')]['full_path'].values[0].replace('.mp4', '.wav')\n",
        "  audio, sample_rate = librosa.load(audio_path)\n",
        "\n",
        "  try:\n",
        "    dlib_video = DlibManager(predictor, detector, video)\n",
        "    training_videos_details.append((training_id, dlib_video.lip_frames, audio, sample_rate))\n",
        "\n",
        "  except:\n",
        "    print(f'Failed to Upload: {training_id}')\n",
        "    failed_training_videos_dlib\n",
        "\n",
        "  video.release()\n",
        "\n",
        "\n",
        "  "
      ],
      "metadata": {
        "colab": {
          "base_uri": "https://localhost:8080/"
        },
        "id": "J4WpsJqnNntq",
        "outputId": "c76e3a1d-edda-4ff8-b0c0-f8ce1d2ccc28"
      },
      "execution_count": 63,
      "outputs": [
        {
          "output_type": "stream",
          "name": "stdout",
          "text": [
            "Video #1 out of 200\n",
            "Video #2 out of 200\n",
            "Video #3 out of 200\n",
            "Video #4 out of 200\n",
            "Video #5 out of 200\n",
            "Failed to Upload: id06591\n",
            "Video #6 out of 200\n",
            "Failed to Upload: id02567\n",
            "Video #7 out of 200\n",
            "Video #8 out of 200\n",
            "Video #9 out of 200\n",
            "Video #10 out of 200\n",
            "Failed to Upload: id04691\n",
            "Video #11 out of 200\n",
            "Video #12 out of 200\n",
            "Failed to Upload: id03945\n",
            "Video #13 out of 200\n",
            "Video #14 out of 200\n",
            "Video #15 out of 200\n",
            "Video #16 out of 200\n",
            "Failed to Upload: id01995\n",
            "Video #17 out of 200\n",
            "Video #18 out of 200\n",
            "Video #19 out of 200\n",
            "Video #20 out of 200\n",
            "Video #21 out of 200\n",
            "Video #22 out of 200\n",
            "Video #23 out of 200\n",
            "Video #24 out of 200\n",
            "Video #25 out of 200\n",
            "Video #26 out of 200\n",
            "Video #27 out of 200\n",
            "Video #28 out of 200\n",
            "Video #29 out of 200\n",
            "Video #30 out of 200\n",
            "Failed to Upload: id08313\n",
            "Video #31 out of 200\n",
            "Video #32 out of 200\n",
            "Failed to Upload: id00761\n",
            "Video #33 out of 200\n",
            "Video #34 out of 200\n",
            "Video #35 out of 200\n",
            "Video #36 out of 200\n",
            "Video #37 out of 200\n",
            "Video #38 out of 200\n",
            "Video #39 out of 200\n",
            "Video #40 out of 200\n",
            "Video #41 out of 200\n",
            "Video #42 out of 200\n",
            "Failed to Upload: id01170\n",
            "Video #43 out of 200\n",
            "Failed to Upload: id04928\n",
            "Video #44 out of 200\n",
            "Video #45 out of 200\n",
            "Video #46 out of 200\n",
            "Video #47 out of 200\n",
            "Video #48 out of 200\n",
            "Video #49 out of 200\n",
            "Video #50 out of 200\n",
            "Failed to Upload: id01099\n",
            "Video #51 out of 200\n",
            "Video #52 out of 200\n",
            "Video #53 out of 200\n",
            "Video #54 out of 200\n",
            "Video #55 out of 200\n",
            "Video #56 out of 200\n",
            "Video #57 out of 200\n",
            "Video #58 out of 200\n",
            "Failed to Upload: id06535\n",
            "Video #59 out of 200\n",
            "Failed to Upload: id06354\n",
            "Video #60 out of 200\n",
            "Video #61 out of 200\n",
            "Video #62 out of 200\n",
            "Video #63 out of 200\n",
            "Video #64 out of 200\n",
            "Video #65 out of 200\n",
            "Video #66 out of 200\n",
            "Video #67 out of 200\n",
            "Video #68 out of 200\n",
            "Video #69 out of 200\n",
            "Video #70 out of 200\n",
            "Video #71 out of 200\n",
            "Video #72 out of 200\n",
            "Failed to Upload: id02342\n",
            "Video #73 out of 200\n",
            "Video #74 out of 200\n",
            "Video #75 out of 200\n",
            "Video #76 out of 200\n",
            "Video #77 out of 200\n",
            "Video #78 out of 200\n",
            "Video #79 out of 200\n",
            "Video #80 out of 200\n",
            "Video #81 out of 200\n",
            "Failed to Upload: id00183\n",
            "Video #82 out of 200\n",
            "Video #83 out of 200\n",
            "Video #84 out of 200\n",
            "Video #85 out of 200\n",
            "Failed to Upload: id04599\n",
            "Video #86 out of 200\n",
            "Video #87 out of 200\n",
            "Failed to Upload: id03205\n",
            "Video #88 out of 200\n",
            "Video #89 out of 200\n",
            "Video #90 out of 200\n",
            "Video #91 out of 200\n",
            "Video #92 out of 200\n",
            "Failed to Upload: id04073\n",
            "Video #93 out of 200\n",
            "Video #94 out of 200\n",
            "Video #95 out of 200\n",
            "Video #96 out of 200\n",
            "Video #97 out of 200\n",
            "Video #98 out of 200\n",
            "Video #99 out of 200\n",
            "Video #100 out of 200\n",
            "Video #101 out of 200\n",
            "Video #102 out of 200\n",
            "Video #103 out of 200\n",
            "Video #104 out of 200\n",
            "Video #105 out of 200\n",
            "Video #106 out of 200\n",
            "Video #107 out of 200\n",
            "Video #108 out of 200\n",
            "Video #109 out of 200\n",
            "Video #110 out of 200\n",
            "Failed to Upload: id00366\n",
            "Video #111 out of 200\n",
            "Video #112 out of 200\n",
            "Video #113 out of 200\n",
            "Failed to Upload: id04789\n",
            "Video #114 out of 200\n",
            "Failed to Upload: id00021\n",
            "Video #115 out of 200\n",
            "Video #116 out of 200\n",
            "Video #117 out of 200\n",
            "Video #118 out of 200\n",
            "Video #119 out of 200\n",
            "Video #120 out of 200\n",
            "Video #121 out of 200\n",
            "Video #122 out of 200\n",
            "Failed to Upload: id00185\n",
            "Video #123 out of 200\n",
            "Video #124 out of 200\n",
            "Video #125 out of 200\n",
            "Video #126 out of 200\n",
            "Video #127 out of 200\n",
            "Video #128 out of 200\n",
            "Video #129 out of 200\n",
            "Video #130 out of 200\n",
            "Video #131 out of 200\n",
            "Video #132 out of 200\n",
            "Failed to Upload: id01210\n",
            "Video #133 out of 200\n",
            "Video #134 out of 200\n",
            "Failed to Upload: id01528\n",
            "Video #135 out of 200\n",
            "Video #136 out of 200\n",
            "Video #137 out of 200\n",
            "Video #138 out of 200\n",
            "Video #139 out of 200\n",
            "Video #140 out of 200\n",
            "Failed to Upload: id00126\n",
            "Video #141 out of 200\n",
            "Video #142 out of 200\n",
            "Video #143 out of 200\n",
            "Video #144 out of 200\n",
            "Video #145 out of 200\n",
            "Video #146 out of 200\n",
            "Video #147 out of 200\n",
            "Video #148 out of 200\n",
            "Video #149 out of 200\n",
            "Video #150 out of 200\n",
            "Video #151 out of 200\n",
            "Failed to Upload: id01215\n",
            "Video #152 out of 200\n",
            "Video #153 out of 200\n",
            "Video #154 out of 200\n",
            "Video #155 out of 200\n",
            "Failed to Upload: id00777\n",
            "Video #156 out of 200\n",
            "Video #157 out of 200\n",
            "Video #158 out of 200\n",
            "Failed to Upload: id04222\n",
            "Video #159 out of 200\n",
            "Video #160 out of 200\n",
            "Video #161 out of 200\n",
            "Video #162 out of 200\n",
            "Video #163 out of 200\n",
            "Video #164 out of 200\n",
            "Video #165 out of 200\n",
            "Video #166 out of 200\n",
            "Video #167 out of 200\n",
            "Video #168 out of 200\n",
            "Video #169 out of 200\n",
            "Video #170 out of 200\n",
            "Video #171 out of 200\n",
            "Video #172 out of 200\n",
            "Video #173 out of 200\n",
            "Video #174 out of 200\n",
            "Video #175 out of 200\n",
            "Video #176 out of 200\n",
            "Video #177 out of 200\n",
            "Video #178 out of 200\n",
            "Video #179 out of 200\n",
            "Video #180 out of 200\n",
            "Video #181 out of 200\n",
            "Video #182 out of 200\n",
            "Video #183 out of 200\n",
            "Video #184 out of 200\n",
            "Video #185 out of 200\n",
            "Video #186 out of 200\n",
            "Video #187 out of 200\n",
            "Video #188 out of 200\n",
            "Failed to Upload: id02040\n",
            "Video #189 out of 200\n",
            "Video #190 out of 200\n",
            "Video #191 out of 200\n",
            "Video #192 out of 200\n",
            "Video #193 out of 200\n",
            "Video #194 out of 200\n",
            "Failed to Upload: id01036\n",
            "Video #195 out of 200\n",
            "Failed to Upload: id07463\n",
            "Video #196 out of 200\n",
            "Video #197 out of 200\n",
            "Video #198 out of 200\n",
            "Video #199 out of 200\n",
            "Video #200 out of 200\n"
          ]
        }
      ]
    },
    {
      "cell_type": "code",
      "source": [
        "#video_path = '/content/drive/MyDrive/DeepFakeDetection/data/FakeAVCeleb_v1.2/RealVideo-RealAudio/African/men/id00076/00109.mp4'\n",
        "#video = cv2.VideoCapture(video_path)\n",
        "\n",
        "#predictor_path = '/content/drive/MyDrive/DeepFakeDetection/model/shape_predictor_68_face_landmarks.dat'\n",
        "#detector = dlib.get_frontal_face_detector()\n",
        "#predictor = dlib.shape_predictor(predictor_path)"
      ],
      "metadata": {
        "id": "FFY6AqKG_0Cw"
      },
      "execution_count": 64,
      "outputs": []
    },
    {
      "cell_type": "code",
      "source": [
        "#audio_path = '/content/drive/MyDrive/DeepFakeDetection/data/FakeAVCeleb_v1.2/RealVideo-RealAudio/African/men/id00076/00109.wav'\n",
        "#audio, sample_rate = librosa.load(audio_path)"
      ],
      "metadata": {
        "id": "3ZqUBJjYSsfP"
      },
      "execution_count": 65,
      "outputs": []
    },
    {
      "cell_type": "code",
      "source": [
        "#vid1_dlib = DlibManager(predictor, detector, video)"
      ],
      "metadata": {
        "id": "1yKfJjBb_4Sc"
      },
      "execution_count": 66,
      "outputs": []
    },
    {
      "cell_type": "code",
      "source": [
        "def preprocess_lips(lip_frames, height=90, width=70):\n",
        "\n",
        "  lip_frames_resized = []\n",
        "\n",
        "  for frame in lip_frames:\n",
        "    frame = cv2.cvtColor(frame, cv2.COLOR_BGR2GRAY)\n",
        "    resized_frame = cv2.resize(frame, (height, width))\n",
        "    lip_frames_resized.append(resized_frame)\n",
        "\n",
        "  lip_frames_resized = np.array(lip_frames_resized)\n",
        "  lip_frames_resized = lip_frames_resized.reshape(lip_frames_resized.shape[0], lip_frames_resized.shape[1]*lip_frames_resized.shape[2])\n",
        "\n",
        "  return lip_frames_resized\n"
      ],
      "metadata": {
        "id": "BRq7sHEApa4q"
      },
      "execution_count": 67,
      "outputs": []
    },
    {
      "cell_type": "code",
      "source": [
        "#resize all the lip frames to 70 x 90\n",
        "#lip_frames_resized = []\n",
        "#for frame in vid1_dlib.lip_frames:\n",
        "#  frame = cv2.cvtColor(frame, cv2.COLOR_BGR2GRAY)\n",
        "#  resized_frame = cv2.resize(frame, (90, 70))\n",
        "#  lip_frames_resized.append(resized_frame)\n",
        "#lip_frames_resized = np.array(lip_frames_resized)"
      ],
      "metadata": {
        "id": "l40iR1mk_95A"
      },
      "execution_count": 68,
      "outputs": []
    },
    {
      "cell_type": "code",
      "source": [
        "def normalize(data):\n",
        "  return (data - np.mean(data))/np.std(data)"
      ],
      "metadata": {
        "id": "SvdKSr5ukOKq"
      },
      "execution_count": 69,
      "outputs": []
    },
    {
      "cell_type": "code",
      "source": [
        "def generate_training_data(training_video_details, num_components):\n",
        "  \n",
        "  lips_data = None\n",
        "  X  = None\n",
        "  y = None\n",
        "\n",
        "  for idx, training_video_data in enumerate(training_video_details):\n",
        "    if len(training_video_data) > 4:\n",
        "      for item in training_video_data:\n",
        "        print(item)\n",
        "    id, lip_frames, audio, sample_rate = training_video_data\n",
        "\n",
        "    lip_frames_resized = preprocess_lips(lip_frames)\n",
        "    #lip_frames_resized = lip_frames_resized.reshape(lip_frames_resized.shape[0], lip_frames_resized.shape[1]*lip_frames_resized.shape[2])\n",
        "    \n",
        "    row_count = lip_frames_resized.shape[0]\n",
        "\n",
        "    mfcc_features = librosa.feature.mfcc(y=audio, hop_length=int(sample_rate*librosa.get_duration(audio)/row_count)).T[:row_count, :]\n",
        "    mfcc_features = normalize(mfcc_features)\n",
        "\n",
        "    if isinstance(lips_data, type(None)):\n",
        "      lips_data = lip_frames_resized\n",
        "      y = mfcc_features\n",
        "    else:\n",
        "      lips_data = np.vstack((lips_data, lip_frames_resized))\n",
        "      y = np.vstack((y, mfcc_features))\n",
        "\n",
        "  \n",
        "  lips_data_mean = np.mean(lips_data, axis=0)\n",
        "  lips_data_centered = lips_data - lips_data_mean\n",
        "\n",
        "  pca = PCA()\n",
        "  pca_lip_frames = pca.fit_transform(lips_data_centered)\n",
        "\n",
        "  eigenfaces = pca.components_[:num_components]\n",
        "  weights = np.dot(lips_data_centered, eigenfaces.T)\n",
        "\n",
        "  X = weights\n",
        "\n",
        "  return X, y, lips_data_mean, pca\n"
      ],
      "metadata": {
        "id": "H7h8MfxSr6gG"
      },
      "execution_count": 70,
      "outputs": []
    },
    {
      "cell_type": "code",
      "source": [
        "X, y, lips_data_mean, pca = generate_training_data(training_videos_details, 50)"
      ],
      "metadata": {
        "id": "-C99Ys5Cy7We"
      },
      "execution_count": 71,
      "outputs": []
    },
    {
      "cell_type": "code",
      "source": [
        "#show the eigenfaces\n",
        "eigenfaces = pca.components_[:10]\n",
        " \n",
        "# Show the first 16 eigenfaces\n",
        "fig, axes = plt.subplots(2,5,figsize=(8,10))\n",
        "idx = 0\n",
        "for i in range(5):\n",
        "  for j in range(2):\n",
        "    axes[j][i].imshow(eigenfaces[idx].reshape((70, 90)), cmap=\"gray\")\n",
        "    idx += 1\n",
        "plt.show()"
      ],
      "metadata": {
        "colab": {
          "base_uri": "https://localhost:8080/",
          "height": 408
        },
        "id": "ugRrtJETofJh",
        "outputId": "7bc3ba6e-4c14-4e1e-b417-f3e48314d686"
      },
      "execution_count": 72,
      "outputs": [
        {
          "output_type": "display_data",
          "data": {
            "text/plain": [
              "<Figure size 576x720 with 10 Axes>"
            ],
            "image/png": "[encoded data removed]"
          },
          "metadata": {
            "needs_background": "light"
          }
        }
      ]
    },
    {
      "cell_type": "code",
      "source": [
        "def train_models(X, y, model_type='LinearRegression'):\n",
        "\n",
        "  num_coef = y.shape[1]\n",
        "  models = []\n",
        "  for i in range(num_coef):\n",
        "    assert X.shape[0] == y[:, i].shape[0], 'X and y must have the same number of rows'\n",
        "    \n",
        "    if model_type == 'LinearRegression':\n",
        "      model = LinearRegression()\n",
        "    elif model_type == 'RandomForest':\n",
        "      model = RandomForestRegressor()\n",
        "    model.fit(X, y[:, i])\n",
        "    models.append(model)\n",
        "\n",
        "  return models"
      ],
      "metadata": {
        "id": "PNikq-HRS4cI"
      },
      "execution_count": 73,
      "outputs": []
    },
    {
      "cell_type": "code",
      "source": [
        "models = train_models(X, y, 'RandomForest')"
      ],
      "metadata": {
        "id": "CIzqbjmJTh4d"
      },
      "execution_count": null,
      "outputs": []
    },
    {
      "cell_type": "code",
      "source": [
        "testing_videos_details = []\n",
        "failed_testing_videos_dlib = []\n",
        "for idx, testing_id in enumerate(testing_ids):\n",
        "  print(f'Video #{idx+1} out of {len(testing_ids)}')\n",
        "\n",
        "  real_video_path = metadata[(metadata['source'] == testing_id) & (metadata['method'] == 'real')]['full_path'].values[0]\n",
        "  fake_video_path = metadata[(metadata['source'] == testing_id) & (metadata['method']=='wav2lip')].sample(1)['full_path'].values[0]\n",
        "\n",
        "  real_video = cv2.VideoCapture(real_video_path)\n",
        "  fake_video = cv2.VideoCapture(fake_video_path)\n",
        "\n",
        "  real_audio_path = real_video_path.replace('.mp4', '.wav')\n",
        "  fake_audio_path = fake_video_path.replace('.mp4', '.wav')\n",
        "\n",
        "  real_audio, real_sample_rate = librosa.load(real_audio_path)\n",
        "  fake_audio, fake_sample_rate = librosa.load(fake_audio_path)\n",
        "\n",
        "  try:\n",
        "    real_dlib_video = DlibManager(predictor, detector, real_video)\n",
        "    fake_dlib_video = DlibManager(predictor, detector, fake_video)\n",
        "    testing_videos_details.append((testing_id, real_dlib_video.lip_frames, fake_dlib_video.lip_frames, real_audio, fake_audio, real_sample_rate, fake_sample_rate, real_video_path, fake_video_path))\n",
        "\n",
        "  except:\n",
        "    print(f'Failed to Upload: {testing_id}')\n",
        "    failed_testing_videos_dlib.append((real_video_path, fake_video_path))\n",
        "\n",
        "  real_video.release()\n",
        "  fake_video.release()"
      ],
      "metadata": {
        "id": "mchZU50aNqpk"
      },
      "execution_count": null,
      "outputs": []
    },
    {
      "cell_type": "code",
      "source": [
        "def eval_test_data(testing_video_details, pca, lips_data_mean, models, num_components=10, debug_mode=False):\n",
        "\n",
        "  real_video_error = []\n",
        "  fake_video_error = []\n",
        "\n",
        "  for idx, testing_video in enumerate(testing_video_details):\n",
        "\n",
        "    real_mfcc_errors = []\n",
        "    fake_mfcc_errors = []\n",
        "\n",
        "    testing_id, real_lip_frames, fake_lip_frames, real_audio, fake_audio, real_sample_rate, fake_sample_rate, real_video_path, fake_video_path = testing_video\n",
        "\n",
        "    if debug_mode:\n",
        "      print()\n",
        "      print('RUNNING TESTING FOR: ', testing_id)\n",
        "      print('Real Video Path: ', real_video_path)\n",
        "      print('Fake Video Path: ', fake_video_path)\n",
        "      print('--------------------------------------------')\n",
        "      print('--------------------------------------------')\n",
        "\n",
        "    if debug_mode:\n",
        "      print('Num of Items in Testing Video: ', len(testing_video))\n",
        "      #print('Testing Video Items: ', testing_video)\n",
        "\n",
        "    real_lip_frames_resized = preprocess_lips(real_lip_frames)\n",
        "    fake_lip_frames_resized = preprocess_lips(fake_lip_frames)\n",
        "\n",
        "    if debug_mode:\n",
        "      print('LIP FRAME SHAPES')\n",
        "      print('Real Lip Frames: ', real_lip_frames_resized.shape)\n",
        "      print('Fake Lip Frames: ', fake_lip_frames_resized.shape)\n",
        "      print('--------------------------------------------')\n",
        "\n",
        "    real_row_count = real_lip_frames_resized.shape[0]\n",
        "    fake_row_count = fake_lip_frames_resized.shape[0]\n",
        "\n",
        "    real_duration = librosa.get_duration(real_audio)\n",
        "    fake_duration = librosa.get_duration(fake_audio)\n",
        "\n",
        "    real_mfcc_features = librosa.feature.mfcc(y=real_audio, hop_length=int(real_sample_rate*real_duration/real_row_count)).T[:real_row_count, :]\n",
        "    real_mfcc_features = normalize(real_mfcc_features)\n",
        "    fake_mfcc_features = librosa.feature.mfcc(y=fake_audio, hop_length=int(fake_sample_rate*fake_duration/fake_row_count)).T[:fake_row_count, :]\n",
        "    fake_mfcc_features = normalize(fake_mfcc_features)\n",
        "\n",
        "    if debug_mode:\n",
        "      print('ORIGINAL MFCC FRAME SHAPES')\n",
        "      print('Real MFCC Frames: ', real_mfcc_features.shape)\n",
        "      print('Real Sample Rate:', real_sample_rate)\n",
        "      print('Real Duration: ', real_duration)\n",
        "      print('Real Frame Count: ', real_row_count)\n",
        "      print('Fake MFCC Frames: ', fake_mfcc_features.shape)\n",
        "      print('Fake Sample Rate:', fake_sample_rate)\n",
        "      print('Fake Duration: ', fake_duration)\n",
        "      print('Fake Frame Count: ', fake_row_count)\n",
        "      print('--------------------------------------------')\n",
        "\n",
        "\n",
        "    real_lips_centered = real_lip_frames_resized - lips_data_mean\n",
        "    fake_lips_centered = fake_lip_frames_resized - lips_data_mean\n",
        "\n",
        "    real_pca_lip_frames = pca.transform(real_lips_centered)\n",
        "    fake_pca_lip_frames = pca.transform(fake_lips_centered)\n",
        "\n",
        "\n",
        "    eigenfaces = pca.components_[:num_components]\n",
        "    real_weights = np.dot(real_lips_centered, eigenfaces.T)\n",
        "    fake_weights = np.dot(fake_lips_centered, eigenfaces.T)\n",
        "\n",
        "    X_real = real_weights\n",
        "    X_fake = fake_weights\n",
        "    y_real = real_mfcc_features\n",
        "    y_fake = fake_mfcc_features\n",
        "\n",
        "\n",
        "    if debug_mode:\n",
        "      print('TRAINING DATA SHAPES')\n",
        "      print('X Real Shape:', X_real.shape)\n",
        "      print('X Fake Shape:', X_fake.shape)\n",
        "      print('y Real Shape:', y_real.shape)\n",
        "      print('y Fake Shape:', y_fake.shape)\n",
        "      print('--------------------------------------------')\n",
        "\n",
        "    for idx, model in enumerate(models):\n",
        "      y_real_pred = model.predict(X_real)\n",
        "      y_fake_pred = model.predict(X_fake)\n",
        "\n",
        "      real_err = mean_squared_error(y_true=y_real[:, idx], y_pred=y_real_pred)\n",
        "      fake_err = mean_squared_error(y_true=y_fake[:, idx], y_pred=y_fake_pred)\n",
        "\n",
        "      real_mfcc_errors.append(real_err)\n",
        "      fake_mfcc_errors.append(fake_err)\n",
        "\n",
        "    real_video_error.append(np.mean(real_mfcc_errors))\n",
        "    fake_video_error.append(np.mean(fake_mfcc_errors))\n",
        "\n",
        "\n",
        "  return real_video_error, fake_video_error\n"
      ],
      "metadata": {
        "id": "n1TJqSOszk3e"
      },
      "execution_count": null,
      "outputs": []
    },
    {
      "cell_type": "code",
      "source": [
        "real_video_error, fake_video_error = eval_test_data(testing_videos_details, pca, lips_data_mean, models, 50, False)"
      ],
      "metadata": {
        "id": "2n4T6N3taoSj"
      },
      "execution_count": null,
      "outputs": []
    },
    {
      "cell_type": "code",
      "source": [
        "len(fake_video_error)"
      ],
      "metadata": {
        "id": "-f0MNPZSCYBC"
      },
      "execution_count": null,
      "outputs": []
    },
    {
      "cell_type": "code",
      "source": [
        "sns.histplot(fake_video_error, label='Fake', color='blue')\n",
        "sns.histplot(real_video_error, label='Real', color='red')\n",
        "plt.legend()\n",
        "plt.show()"
      ],
      "metadata": {
        "id": "UrhJ8hPTeebI"
      },
      "execution_count": null,
      "outputs": []
    },
    {
      "cell_type": "code",
      "source": [
        "#reshape_lip_frames = lip_frames_resized.reshape(lip_frames_resized.shape[0], lip_frames_resized.shape[1]*lip_frames_resized.shape[2])\n"
      ],
      "metadata": {
        "id": "7MjQDhGzASQd"
      },
      "execution_count": null,
      "outputs": []
    },
    {
      "cell_type": "code",
      "source": [
        "#scalar = StandardScaler()\n",
        "#centered_lip_frames = scalar.fit_transform(reshape_lip_frames)\n",
        "\n",
        "#avg_lip_frames = np.mean(reshape_lip_frames, axis=0)\n",
        "#centered_lip_frames = reshape_lip_frames - avg_lip_frames"
      ],
      "metadata": {
        "id": "h1aCxyvKCqcI"
      },
      "execution_count": null,
      "outputs": []
    },
    {
      "cell_type": "code",
      "source": [
        "#pca = PCA()\n",
        "#pca_lip_frames = pca.fit_transform(centered_lip_frames)"
      ],
      "metadata": {
        "id": "eHL-cc9IC0NP"
      },
      "execution_count": null,
      "outputs": []
    },
    {
      "cell_type": "code",
      "source": [
        "#random_samples = np.random.choice(np.arange(0, reshape_lip_frames.shape[0]), 5)\n",
        "#random_samples"
      ],
      "metadata": {
        "id": "UFZC6xFpE-zs"
      },
      "execution_count": null,
      "outputs": []
    },
    {
      "cell_type": "code",
      "source": [
        "#def reconstruction(pca, num_components, centered_data, mean, image_idx, height=70, width=90):\n",
        "#  eigenfaces = pca.components_[:num_components]\n",
        "#  samples, features = centered_data.shape\n",
        "#  weights = np.dot(centered_data, eigenfaces.T)\n",
        "#  recovered_image = (np.dot(weights[image_idx,:], eigenfaces)+mean).reshape(height, width)\n",
        "#  return recovered_image\n",
        "\n"
      ],
      "metadata": {
        "id": "cKGxEvy-HP37"
      },
      "execution_count": null,
      "outputs": []
    },
    {
      "cell_type": "code",
      "source": [
        "#fig, axes = plt.subplots(5,2,sharex=True,sharey=True,figsize=(8,10))\n",
        "#fig.suptitle('Eigenface Count: 1', fontsize=16)\n",
        "#for idx, sample in enumerate(random_samples):\n",
        "#  orig = vid1_dlib.lip_frames[sample]\n",
        "#  reconstructed = reconstruction(pca, 1, centered_lip_frames, avg_lip_frames, sample)\n",
        "#  axes[idx, 0].imshow(orig)\n",
        "#  axes[idx, 1].imshow(reconstructed, cmap=\"gray\")\n",
        "#plt.show()\n",
        "  "
      ],
      "metadata": {
        "id": "FBhOBoYTHAX9"
      },
      "execution_count": null,
      "outputs": []
    },
    {
      "cell_type": "code",
      "source": [
        "'''\n",
        "fig, axes = plt.subplots(5,2,sharex=True,sharey=True,figsize=(8,10))\n",
        "fig.suptitle('Eigenface Count: 10', fontsize=16)\n",
        "for idx, sample in enumerate(random_samples):\n",
        "  orig = vid1_dlib.lip_frames[sample]\n",
        "  reconstructed = reconstruction(pca, 10, centered_lip_frames, avg_lip_frames, sample)\n",
        "  axes[idx, 0].imshow(orig)\n",
        "  axes[idx, 1].imshow(reconstructed, cmap=\"gray\")\n",
        "plt.show()\n",
        "'''  "
      ],
      "metadata": {
        "id": "NDX69bvtM7VY"
      },
      "execution_count": null,
      "outputs": []
    },
    {
      "cell_type": "code",
      "source": [
        "'''\n",
        "mfcc_features = librosa.feature.mfcc(y=audio, hop_length=int(sample_rate*librosa.get_duration(audio)/251)).T[:251, :]\n",
        "'''"
      ],
      "metadata": {
        "id": "pUt8FycOOgQf"
      },
      "execution_count": null,
      "outputs": []
    },
    {
      "cell_type": "code",
      "source": [
        "'''\n",
        "coef_one_mfcc = mfcc_features[:, 0].reshape(251, 1)\n",
        "'''"
      ],
      "metadata": {
        "id": "Ka-PktduTNCJ"
      },
      "execution_count": null,
      "outputs": []
    },
    {
      "cell_type": "code",
      "source": [
        "#weights.shape"
      ],
      "metadata": {
        "id": "ePIDL0n9X2SF"
      },
      "execution_count": null,
      "outputs": []
    },
    {
      "cell_type": "code",
      "source": [
        "#coef_one_mfcc.shape\n"
      ],
      "metadata": {
        "id": "de0zdR8VX4K8"
      },
      "execution_count": null,
      "outputs": []
    },
    {
      "cell_type": "code",
      "source": [
        "'''\n",
        "eigenfaces = pca.components_[:10]\n",
        "samples, features = centered_lip_frames.shape\n",
        "weights = np.dot(centered_lip_frames, eigenfaces.T)\n",
        "\n",
        "train_test_data = np.hstack((weights, coef_one_mfcc.reshape(251, 1)))\n",
        "'''"
      ],
      "metadata": {
        "id": "N86oeeA8Ujgi"
      },
      "execution_count": null,
      "outputs": []
    },
    {
      "cell_type": "code",
      "source": [
        "#X_train, X_test, y_train, y_test = train_test_split(weights, coef_one_mfcc, test_size=0.15, random_state=12)"
      ],
      "metadata": {
        "id": "ypEk_8StWCLm"
      },
      "execution_count": null,
      "outputs": []
    },
    {
      "cell_type": "code",
      "source": [
        "'''\n",
        "model = LinearRegression()\n",
        "model.fit(X_train, y_train)\n",
        "\n",
        "pred = model.predict(X_test)\n",
        "err = np.sqrt(mean_squared_error(y_true=y_test, y_pred=pred))/len(pred)\n",
        "print(err)\n",
        "'''"
      ],
      "metadata": {
        "id": "UbhXQwy4WUPB"
      },
      "execution_count": null,
      "outputs": []
    },
    {
      "cell_type": "code",
      "source": [
        "#def train(X, y)"
      ],
      "metadata": {
        "id": "iWffI7VThrRh"
      },
      "execution_count": null,
      "outputs": []
    },
    {
      "cell_type": "markdown",
      "source": [],
      "metadata": {
        "id": "gA_NRYDJfbKn"
      }
    },
    {
      "cell_type": "code",
      "source": [
        "'''\n",
        "def evaluate(X_test, y_):\n",
        "  X_train, X_test, y_train, y_test = train_test_split(X, y, test_size=0.15, random_state=12)\n",
        "\n",
        "  model = LinearRegression()\n",
        "  model.fit(X_train, y_train)\n",
        "\n",
        "  pred = model.predict(X_test)\n",
        "  err = np.sqrt(mean_squared_error(y_true=y_test, y_pred=pred))/len(pred)\n",
        "\n",
        "  return pred, err\n",
        "'''\n"
      ],
      "metadata": {
        "id": "elmNUPsIgH81"
      },
      "execution_count": null,
      "outputs": []
    },
    {
      "cell_type": "code",
      "source": [],
      "metadata": {
        "id": "paM7O2PLaZ2R"
      },
      "execution_count": null,
      "outputs": []
    }
  ]
}