{
  "nbformat": 4,
  "nbformat_minor": 0,
  "metadata": {
    "colab": {
      "provenance": [],
      "authorship_tag": "ABX9TyN55TUqQbJ7zGvRBg1aHvKu",
      "include_colab_link": true
    },
    "kernelspec": {
      "name": "python3",
      "display_name": "Python 3"
    },
    "language_info": {
      "name": "python"
    }
  },
  "cells": [
    {
      "cell_type": "markdown",
      "metadata": {
        "id": "view-in-github",
        "colab_type": "text"
      },
      "source": [
        "<a href=\"https://colab.research.google.com/github/romitbarua/MultiModalDeepFake/blob/main/TestingNotebooks/PhonemeVsDlib.ipynb\" target=\"_parent\"><img src=\"https://colab.research.google.com/assets/colab-badge.svg\" alt=\"Open In Colab\"/></a>"
      ]
    },
    {
      "cell_type": "code",
      "execution_count": 1,
      "metadata": {
        "colab": {
          "base_uri": "https://localhost:8080/"
        },
        "id": "yND_q8bWJeGG",
        "outputId": "5d09a201-553d-4423-f5ae-b5d3445a66cc"
      },
      "outputs": [
        {
          "output_type": "stream",
          "name": "stdout",
          "text": [
            "Mounted at /content/drive/\n"
          ]
        }
      ],
      "source": [
        "#mount the google drive\n",
        "from google.colab import drive\n",
        "drive.mount('/content/drive/')"
      ]
    },
    {
      "cell_type": "code",
      "source": [
        "!pip install moviepy\n",
        "!pip3 install imageio==2.4.1\n",
        "!pip install imageio-ffmpeg\n",
        "!pip install textgrid"
      ],
      "metadata": {
        "colab": {
          "base_uri": "https://localhost:8080/"
        },
        "id": "UaEfi317aZ8J",
        "outputId": "87c91c04-6d24-42f1-e857-54af0df714f0"
      },
      "execution_count": 2,
      "outputs": [
        {
          "output_type": "stream",
          "name": "stdout",
          "text": [
            "Looking in indexes: https://pypi.org/simple, https://us-python.pkg.dev/colab-wheels/public/simple/\n",
            "Requirement already satisfied: moviepy in /usr/local/lib/python3.8/dist-packages (0.2.3.5)\n",
            "Requirement already satisfied: decorator<5.0,>=4.0.2 in /usr/local/lib/python3.8/dist-packages (from moviepy) (4.4.2)\n",
            "Requirement already satisfied: tqdm<5.0,>=4.11.2 in /usr/local/lib/python3.8/dist-packages (from moviepy) (4.64.1)\n",
            "Requirement already satisfied: numpy in /usr/local/lib/python3.8/dist-packages (from moviepy) (1.21.6)\n",
            "Requirement already satisfied: imageio<3.0,>=2.1.2 in /usr/local/lib/python3.8/dist-packages (from moviepy) (2.9.0)\n",
            "Requirement already satisfied: pillow in /usr/local/lib/python3.8/dist-packages (from imageio<3.0,>=2.1.2->moviepy) (7.1.2)\n",
            "Looking in indexes: https://pypi.org/simple, https://us-python.pkg.dev/colab-wheels/public/simple/\n",
            "Collecting imageio==2.4.1\n",
            "  Downloading imageio-2.4.1.tar.gz (3.3 MB)\n",
            "\u001b[K     |████████████████████████████████| 3.3 MB 14.7 MB/s \n",
            "\u001b[?25hRequirement already satisfied: numpy in /usr/local/lib/python3.8/dist-packages (from imageio==2.4.1) (1.21.6)\n",
            "Requirement already satisfied: pillow in /usr/local/lib/python3.8/dist-packages (from imageio==2.4.1) (7.1.2)\n",
            "Building wheels for collected packages: imageio\n",
            "  Building wheel for imageio (setup.py) ... \u001b[?25l\u001b[?25hdone\n",
            "  Created wheel for imageio: filename=imageio-2.4.1-py3-none-any.whl size=3303886 sha256=925c2eb334f88e3e5f68788dc00023bab0135f90c48f3a2480436441260730ea\n",
            "  Stored in directory: /root/.cache/pip/wheels/be/7b/04/4d8d56f1d503e5c404f0de6018c0cfa592c71588a39b49e002\n",
            "Successfully built imageio\n",
            "Installing collected packages: imageio\n",
            "  Attempting uninstall: imageio\n",
            "    Found existing installation: imageio 2.9.0\n",
            "    Uninstalling imageio-2.9.0:\n",
            "      Successfully uninstalled imageio-2.9.0\n",
            "Successfully installed imageio-2.4.1\n",
            "Looking in indexes: https://pypi.org/simple, https://us-python.pkg.dev/colab-wheels/public/simple/\n",
            "Collecting imageio-ffmpeg\n",
            "  Downloading imageio_ffmpeg-0.4.7-py3-none-manylinux2010_x86_64.whl (26.9 MB)\n",
            "\u001b[K     |████████████████████████████████| 26.9 MB 1.6 MB/s \n",
            "\u001b[?25hInstalling collected packages: imageio-ffmpeg\n",
            "Successfully installed imageio-ffmpeg-0.4.7\n",
            "Looking in indexes: https://pypi.org/simple, https://us-python.pkg.dev/colab-wheels/public/simple/\n",
            "Collecting textgrid\n",
            "  Downloading TextGrid-1.5-py3-none-any.whl (10.0 kB)\n",
            "Installing collected packages: textgrid\n",
            "Successfully installed textgrid-1.5\n"
          ]
        }
      ]
    },
    {
      "cell_type": "code",
      "source": [
        "#import appropriate packages\n",
        "import os\n",
        "import cv2\n",
        "import dlib\n",
        "from google.colab.patches import cv2_imshow\n",
        "import numpy as np \n",
        "from sklearn.preprocessing import StandardScaler\n",
        "from sklearn.decomposition import PCA\n",
        "import matplotlib.pyplot as plt\n",
        "import librosa\n",
        "from scipy.io import wavfile\n",
        "from sklearn.model_selection import train_test_split\n",
        "from sklearn.linear_model import LinearRegression, LogisticRegression\n",
        "from sklearn.metrics import mean_squared_error, accuracy_score\n",
        "import pandas as pd\n",
        "import seaborn as sns\n",
        "from sklearn.ensemble import RandomForestRegressor\n",
        "import itertools\n",
        "from moviepy.editor import *\n",
        "import textgrid"
      ],
      "metadata": {
        "colab": {
          "base_uri": "https://localhost:8080/"
        },
        "id": "Hs1kmkS3JuPr",
        "outputId": "f30d8921-2938-44fa-e016-9a540c7d5e47"
      },
      "execution_count": 3,
      "outputs": [
        {
          "output_type": "stream",
          "name": "stdout",
          "text": [
            "Imageio: 'ffmpeg-linux64-v3.3.1' was not found on your computer; downloading it now.\n",
            "Try 1. Download from https://github.com/imageio/imageio-binaries/raw/master/ffmpeg/ffmpeg-linux64-v3.3.1 (43.8 MB)\n",
            "Downloading: 8192/45929032 bytes (0.0%)\b\b\b\b\b\b\b\b\b\b\b\b\b\b\b\b\b\b\b\b\b\b\b\b\b\b2007040/45929032 bytes (4.4%)\b\b\b\b\b\b\b\b\b\b\b\b\b\b\b\b\b\b\b\b\b\b\b\b\b\b\b\b\b4390912/45929032 bytes (9.6%)\b\b\b\b\b\b\b\b\b\b\b\b\b\b\b\b\b\b\b\b\b\b\b\b\b\b\b\b\b7004160/45929032 bytes (15.2%)\b\b\b\b\b\b\b\b\b\b\b\b\b\b\b\b\b\b\b\b\b\b\b\b\b\b\b\b\b\b8511488/45929032 bytes (18.5%)\b\b\b\b\b\b\b\b\b\b\b\b\b\b\b\b\b\b\b\b\b\b\b\b\b\b\b\b\b\b10993664/45929032 bytes (23.9%)\b\b\b\b\b\b\b\b\b\b\b\b\b\b\b\b\b\b\b\b\b\b\b\b\b\b\b\b\b\b\b13115392/45929032 bytes (28.6%)\b\b\b\b\b\b\b\b\b\b\b\b\b\b\b\b\b\b\b\b\b\b\b\b\b\b\b\b\b\b\b14729216/45929032 bytes (32.1%)\b\b\b\b\b\b\b\b\b\b\b\b\b\b\b\b\b\b\b\b\b\b\b\b\b\b\b\b\b\b\b17326080/45929032 bytes (37.7%)\b\b\b\b\b\b\b\b\b\b\b\b\b\b\b\b\b\b\b\b\b\b\b\b\b\b\b\b\b\b\b19398656/45929032 bytes (42.2%)\b\b\b\b\b\b\b\b\b\b\b\b\b\b\b\b\b\b\b\b\b\b\b\b\b\b\b\b\b\b\b21651456/45929032 bytes (47.1%)\b\b\b\b\b\b\b\b\b\b\b\b\b\b\b\b\b\b\b\b\b\b\b\b\b\b\b\b\b\b\b24010752/45929032 bytes (52.3%)\b\b\b\b\b\b\b\b\b\b\b\b\b\b\b\b\b\b\b\b\b\b\b\b\b\b\b\b\b\b\b26574848/45929032 bytes (57.9%)\b\b\b\b\b\b\b\b\b\b\b\b\b\b\b\b\b\b\b\b\b\b\b\b\b\b\b\b\b\b\b29548544/45929032 bytes (64.3%)\b\b\b\b\b\b\b\b\b\b\b\b\b\b\b\b\b\b\b\b\b\b\b\b\b\b\b\b\b\b\b31473664/45929032 bytes (68.5%)\b\b\b\b\b\b\b\b\b\b\b\b\b\b\b\b\b\b\b\b\b\b\b\b\b\b\b\b\b\b\b33366016/45929032 bytes (72.6%)\b\b\b\b\b\b\b\b\b\b\b\b\b\b\b\b\b\b\b\b\b\b\b\b\b\b\b\b\b\b\b36159488/45929032 bytes (78.7%)\b\b\b\b\b\b\b\b\b\b\b\b\b\b\b\b\b\b\b\b\b\b\b\b\b\b\b\b\b\b\b38133760/45929032 bytes (83.0%)\b\b\b\b\b\b\b\b\b\b\b\b\b\b\b\b\b\b\b\b\b\b\b\b\b\b\b\b\b\b\b40665088/45929032 bytes (88.5%)\b\b\b\b\b\b\b\b\b\b\b\b\b\b\b\b\b\b\b\b\b\b\b\b\b\b\b\b\b\b\b42835968/45929032 bytes (93.3%)\b\b\b\b\b\b\b\b\b\b\b\b\b\b\b\b\b\b\b\b\b\b\b\b\b\b\b\b\b\b\b45686784/45929032 bytes (99.5%)\b\b\b\b\b\b\b\b\b\b\b\b\b\b\b\b\b\b\b\b\b\b\b\b\b\b\b\b\b\b\b45929032/45929032 bytes (100.0%)\n",
            "  Done\n",
            "File saved as /root/.imageio/ffmpeg/ffmpeg-linux64-v3.3.1.\n"
          ]
        }
      ]
    },
    {
      "cell_type": "code",
      "source": [
        "SYM_PATH = '/content/drive/MyDrive/DeepFakeDetection'\n",
        "%cd $SYM_PATH\n",
        "%pip install -e ."
      ],
      "metadata": {
        "colab": {
          "base_uri": "https://localhost:8080/"
        },
        "id": "Q14WTGKNJw0X",
        "outputId": "c7ccf1fe-203d-4c6c-b572-9d893962b8ef"
      },
      "execution_count": 4,
      "outputs": [
        {
          "output_type": "stream",
          "name": "stdout",
          "text": [
            "/content/drive/MyDrive/DeepFakeDetection\n",
            "Looking in indexes: https://pypi.org/simple, https://us-python.pkg.dev/colab-wheels/public/simple/\n",
            "Obtaining file:///content/drive/MyDrive/DeepFakeDetection\n",
            "Installing collected packages: DeepFake\n",
            "  Running setup.py develop for DeepFake\n",
            "Successfully installed DeepFake-0.1.0\n"
          ]
        }
      ]
    },
    {
      "cell_type": "code",
      "source": [
        "#import custom packages\n",
        "from packages.DlibManager import DlibManager\n",
        "\n",
        "predictor_path = '/content/drive/MyDrive/DeepFakeDetection/model/shape_predictor_68_face_landmarks.dat'\n",
        "detector = dlib.get_frontal_face_detector()\n",
        "predictor = dlib.shape_predictor(predictor_path)\n",
        "     "
      ],
      "metadata": {
        "id": "zgxb42FZJ0uY"
      },
      "execution_count": 5,
      "outputs": []
    },
    {
      "cell_type": "code",
      "source": [
        "#load the metadata\n",
        "id = 'id01610'\n",
        "\n",
        "metadata = pd.read_csv('/content/drive/MyDrive/DeepFakeDetection/data/full_metadata.csv')\n",
        "metadata = metadata[(metadata['valid_dlib']==True) & (metadata['phoneme_path'].isna() == False)]"
      ],
      "metadata": {
        "id": "nN5d2GY8MeHG"
      },
      "execution_count": 6,
      "outputs": []
    },
    {
      "cell_type": "code",
      "source": [
        "real_videos = metadata[metadata['method'] == 'real'].sample(frac=1, replace=False).reset_index(drop=True)\n",
        "\n",
        "train_perc = 0.8\n",
        "\n",
        "train_real = real_videos[0:int(real_videos.shape[0]*train_perc)]\n",
        "test_real = real_videos[int(real_videos.shape[0]*train_perc):]"
      ],
      "metadata": {
        "id": "BsjSMBekGJKT"
      },
      "execution_count": 7,
      "outputs": []
    },
    {
      "cell_type": "code",
      "source": [
        "def distance(x1, x2):\n",
        "  return np.sqrt(np.sum((x1 - x2)**2))"
      ],
      "metadata": {
        "id": "OgRbUo1p-xPO"
      },
      "execution_count": 9,
      "outputs": []
    },
    {
      "cell_type": "code",
      "source": [
        "def normalize(ar, mean=None, std=None):\n",
        "  if isinstance(mean, type(None)):\n",
        "    mean = np.mean(ar)\n",
        "  if isinstance(std, type(None)):\n",
        "    std = np.std(ar)\n",
        "    \n",
        "  return (ar - mean)/std"
      ],
      "metadata": {
        "id": "xUUBhlwJ_8_Q"
      },
      "execution_count": 10,
      "outputs": []
    },
    {
      "cell_type": "code",
      "source": [
        "def generate_features(dlib_video, phonemes, phoneme_time_adj, dlib_frame_ext, full_path):\n",
        "\n",
        "  top_lip_idx = 52\n",
        "  bottom_lip_idx = 58\n",
        "  left_lip_idx = 49\n",
        "  right_lip_idx = 55\n",
        "  nose_idx = 34\n",
        "  chin_idx = 9\n",
        "\n",
        "  features = []\n",
        "\n",
        "  duration = phonemes[-1].maxTime\n",
        "\n",
        "  dlib_frames = dlib_video.full_frames\n",
        "  landmarks = dlib_video.landmarks\n",
        "\n",
        "  second_per_frame = duration/len(dlib_frames)\n",
        "  dlib_frame_times = np.arange(0, len(dlib_frames), 1)*second_per_frame\n",
        "\n",
        "\n",
        "  full_video_vert_lip_distance = np.array([distance(landmark[top_lip_idx], landmark[bottom_lip_idx]) for landmark in landmarks])\n",
        "  full_video_hor_lip_distance = np.array([distance(landmark[left_lip_idx], landmark[right_lip_idx]) for landmark in landmarks])\n",
        "  full_video_nose_chin_distance = np.array([distance(landmark[nose_idx], landmark[chin_idx]) for landmark in landmarks])\n",
        "  full_video_mouth_ratio = full_video_vert_lip_distance/full_video_hor_lip_distance\n",
        "\n",
        "  full_video_vert_mean = np.mean(full_video_vert_lip_distance)\n",
        "  full_video_vert_std = np.std(full_video_vert_lip_distance)\n",
        "  full_video_hor_mean = np.mean(full_video_hor_lip_distance)\n",
        "  full_video_hor_st = np.std(full_video_hor_lip_distance)\n",
        "  full_video_nose_chin_mean = np.mean(full_video_nose_chin_distance)\n",
        "  full_video_nose_chin_std = np.std(full_video_nose_chin_distance)\n",
        "  full_video_mouth_ratio_mean = np.mean(full_video_mouth_ratio)\n",
        "  full_video_mouth_ratio_std = np.std(full_video_mouth_ratio)\n",
        "\n",
        "  for phoneme in phonemes:\n",
        "\n",
        "    start_time, end_time = phoneme.minTime-phoneme_time_adj, phoneme.maxTime+phoneme_time_adj\n",
        "\n",
        "    start_frame_idx = max(abs(dlib_frame_times - start_time).argmin() - dlib_frame_ext,0)\n",
        "    end_frame_idx = min(abs(dlib_frame_times - end_time).argmin() + dlib_frame_ext, len(dlib_frames))\n",
        "\n",
        "    phoneme_landmark = landmarks[start_frame_idx:end_frame_idx]\n",
        "\n",
        "    vert_lip_distance = np.array([distance(landmark[top_lip_idx], landmark[bottom_lip_idx]) for landmark in phoneme_landmark])\n",
        "    hor_lip_distance = np.array([distance(landmark[left_lip_idx], landmark[right_lip_idx]) for landmark in phoneme_landmark])\n",
        "    nose_chin_distance = np.array([distance(landmark[nose_idx], landmark[chin_idx]) for landmark in phoneme_landmark])\n",
        "    mouth_ratio = vert_lip_distance/hor_lip_distance\n",
        "\n",
        "    vert_lip_distance = normalize(vert_lip_distance, full_video_vert_mean, full_video_vert_std)\n",
        "    hor_lip_distance = normalize(hor_lip_distance, full_video_hor_mean, full_video_hor_st)\n",
        "    nose_chin_distance = normalize(nose_chin_distance, full_video_nose_chin_mean, full_video_nose_chin_std)\n",
        "    mouth_ratio = normalize(mouth_ratio, full_video_mouth_ratio_mean, full_video_mouth_ratio_std)\n",
        "\n",
        "    vert_lip_distance_max = vert_lip_distance.max()\n",
        "    vert_lip_distance_min = vert_lip_distance.min()\n",
        "    vert_lip_distance_diff = vert_lip_distance_max - vert_lip_distance_min\n",
        "    vert_lip_distance_std = vert_lip_distance.std()\n",
        "\n",
        "    hor_lip_distance_max = hor_lip_distance.max()\n",
        "    hor_lip_distance_min = hor_lip_distance.min()\n",
        "    hor_lip_distance_diff = hor_lip_distance_max - hor_lip_distance_min\n",
        "    hor_lip_distance_std = hor_lip_distance.std()\n",
        "\n",
        "    nose_chin_distance_max = nose_chin_distance.max()\n",
        "    nose_chin_distance_min = nose_chin_distance.min()\n",
        "    nose_chin_distance_diff = nose_chin_distance_max - nose_chin_distance_min\n",
        "    nose_chin_distance_std = nose_chin_distance.std()\n",
        "\n",
        "    mouth_ratio_max = mouth_ratio.max()\n",
        "    mouth_ratio_min = mouth_ratio.min()\n",
        "    mouth_ratio_diff = mouth_ratio_max - mouth_ratio_min\n",
        "    mouth_ratio_std = mouth_ratio.std()\n",
        "\n",
        "    features.append([full_path, phoneme.mark, len(phoneme_landmark), start_time, end_time, start_frame_idx, end_frame_idx,\n",
        "                     vert_lip_distance_max, vert_lip_distance_min, vert_lip_distance_diff, vert_lip_distance_std,\n",
        "                     hor_lip_distance_max, hor_lip_distance_min, hor_lip_distance_diff, hor_lip_distance_std, \n",
        "                     nose_chin_distance_max, nose_chin_distance_min, nose_chin_distance_diff, nose_chin_distance_std,\n",
        "                     mouth_ratio_max, mouth_ratio_min, mouth_ratio_diff, mouth_ratio_std])\n",
        "    \n",
        "  return features\n",
        "\n",
        "\n",
        "  \n",
        "\n",
        "\n",
        "\n",
        "\n"
      ],
      "metadata": {
        "id": "0CxQB8eM9wVE"
      },
      "execution_count": 68,
      "outputs": []
    },
    {
      "cell_type": "code",
      "source": [
        "#1 for each video, extract the phoneme\n",
        "#2 for each phoneme, using moviepy, get the frames associated with the phoneme\n",
        "#3 get the landmarks associated with each frame\n",
        "#4 return list of phoneme & landmarks\n",
        "def extract(data, phoneme_time_adj, dlib_frame_ext):\n",
        "\n",
        "  full_results = []\n",
        "\n",
        "  for index, row in data.iterrows():\n",
        "\n",
        "    video_results = []\n",
        "\n",
        "    print(f'\\r Running Video {index+1} of {data.shape[0]}', end='')\n",
        "\n",
        "\n",
        "    phonemes = textgrid.TextGrid.fromFile(row['phoneme_path'])[1]\n",
        "\n",
        "    video = cv2.VideoCapture(row['full_path'])\n",
        "    dlib_video = DlibManager(detector=detector, predictor=predictor, video=video)\n",
        "\n",
        "    full_results.extend(generate_features(dlib_video, phonemes, phoneme_time_adj, dlib_frame_ext, row['full_path']))\n",
        "\n",
        "  return pd.DataFrame(full_results, columns=['full_path', 'phoneme', 'num_frames', 'phoneme_start', 'phoneme_end', 'frame_start', 'frame_end',\n",
        "                                            'vert_lip_max', 'vert_lip_min', 'vert_lip_diff', 'vert_lip_std',\n",
        "                                            'hor_lip_max', 'hor_lip_min', 'hor_lip_diff', 'hor_lip_std',\n",
        "                                            'nose_chin_max', 'nose_chin_min', 'nose_chin_diff', 'nose_chin_std',\n",
        "                                            'mouth_ratio_max', 'mouth_ratio_min', 'mouth_ratio_diff', 'mouth_ratio_std'])\n",
        "\n",
        "    \n",
        "\n"
      ],
      "metadata": {
        "id": "45l8MYi_gimN"
      },
      "execution_count": 75,
      "outputs": []
    },
    {
      "cell_type": "code",
      "source": [
        "train_df = extract(train_real, 0, 1)\n",
        "test__real_df = extract(test_real, 0, 1)"
      ],
      "metadata": {
        "colab": {
          "base_uri": "https://localhost:8080/"
        },
        "id": "ka2f4hZJoHro",
        "outputId": "45b870e8-282e-466d-c52c-4fef13f31820"
      },
      "execution_count": 76,
      "outputs": [
        {
          "output_type": "stream",
          "name": "stdout",
          "text": [
            " Running Video 425 of 85"
          ]
        }
      ]
    },
    {
      "cell_type": "code",
      "source": [
        "train_df.columns"
      ],
      "metadata": {
        "colab": {
          "base_uri": "https://localhost:8080/"
        },
        "id": "Ob5p5rpsIiGk",
        "outputId": "09c4d345-6480-4777-a0dd-c2f25290cb98"
      },
      "execution_count": 79,
      "outputs": [
        {
          "output_type": "execute_result",
          "data": {
            "text/plain": [
              "Index(['full_path', 'phoneme', 'num_frames', 'phoneme_start', 'phoneme_end',\n",
              "       'frame_start', 'frame_end', 'vert_lip_max', 'vert_lip_min',\n",
              "       'vert_lip_diff', 'vert_lip_std', 'hor_lip_max', 'hor_lip_min',\n",
              "       'hor_lip_diff', 'hor_lip_std', 'nose_chin_max', 'nose_chin_min',\n",
              "       'nose_chin_diff', 'nose_chin_std', 'mouth_ratio_max', 'mouth_ratio_min',\n",
              "       'mouth_ratio_diff', 'mouth_ratio_std'],\n",
              "      dtype='object')"
            ]
          },
          "metadata": {},
          "execution_count": 79
        }
      ]
    },
    {
      "cell_type": "code",
      "source": [
        "#get the dlib landmarks\n",
        "\n",
        "real_videos = []\n",
        "\n",
        "\n",
        "for path in fakeAV_real[:2]:\n",
        "\n",
        "  video = cv2.VideoCapture(path)\n",
        "  dlib_video = DlibManager(detector=detector, predictor=predictor, video=video)\n",
        "\n",
        "  phoneme_path = path.replace('/FakeAVCeleb_v1.2/', '/FakeAVCeleb_v1.2/phonetic_alignment_files/').replace('.mp4', '.TextGrid')\n",
        "  phoneme = textgrid.TextGrid.fromFile(phoneme_path)\n",
        "  print(phoneme)\n",
        "\n",
        "\n",
        "\n",
        "\n",
        "  "
      ],
      "metadata": {
        "colab": {
          "base_uri": "https://localhost:8080/",
          "height": 236
        },
        "id": "7IxuYuKyM4aL",
        "outputId": "749f58b5-3a03-4001-e20a-3279aff1fc5d"
      },
      "execution_count": 21,
      "outputs": [
        {
          "output_type": "error",
          "ename": "NameError",
          "evalue": "ignored",
          "traceback": [
            "\u001b[0;31m---------------------------------------------------------------------------\u001b[0m",
            "\u001b[0;31mNameError\u001b[0m                                 Traceback (most recent call last)",
            "\u001b[0;32m<ipython-input-21-4df98aa5452f>\u001b[0m in \u001b[0;36m<module>\u001b[0;34m\u001b[0m\n\u001b[1;32m      4\u001b[0m \u001b[0;34m\u001b[0m\u001b[0m\n\u001b[1;32m      5\u001b[0m \u001b[0;34m\u001b[0m\u001b[0m\n\u001b[0;32m----> 6\u001b[0;31m \u001b[0;32mfor\u001b[0m \u001b[0mpath\u001b[0m \u001b[0;32min\u001b[0m \u001b[0mfakeAV_real\u001b[0m\u001b[0;34m[\u001b[0m\u001b[0;34m:\u001b[0m\u001b[0;36m2\u001b[0m\u001b[0;34m]\u001b[0m\u001b[0;34m:\u001b[0m\u001b[0;34m\u001b[0m\u001b[0;34m\u001b[0m\u001b[0m\n\u001b[0m\u001b[1;32m      7\u001b[0m \u001b[0;34m\u001b[0m\u001b[0m\n\u001b[1;32m      8\u001b[0m   \u001b[0mvideo\u001b[0m \u001b[0;34m=\u001b[0m \u001b[0mcv2\u001b[0m\u001b[0;34m.\u001b[0m\u001b[0mVideoCapture\u001b[0m\u001b[0;34m(\u001b[0m\u001b[0mpath\u001b[0m\u001b[0;34m)\u001b[0m\u001b[0;34m\u001b[0m\u001b[0;34m\u001b[0m\u001b[0m\n",
            "\u001b[0;31mNameError\u001b[0m: name 'fakeAV_real' is not defined"
          ]
        }
      ]
    }
  ]
}