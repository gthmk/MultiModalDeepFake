{
  "nbformat": 4,
  "nbformat_minor": 0,
  "metadata": {
    "colab": {
      "provenance": [],
      "authorship_tag": "ABX9TyMjVPd6Pnqf9oCDwu+R0Hyx",
      "include_colab_link": true
    },
    "kernelspec": {
      "name": "python3",
      "display_name": "Python 3"
    },
    "language_info": {
      "name": "python"
    }
  },
  "cells": [
    {
      "cell_type": "markdown",
      "metadata": {
        "id": "view-in-github",
        "colab_type": "text"
      },
      "source": [
        "<a href=\"https://colab.research.google.com/github/romitbarua/MultiModalDeepFake/blob/main/TestingNotebooks/PhonemeVsDlib.ipynb\" target=\"_parent\"><img src=\"https://colab.research.google.com/assets/colab-badge.svg\" alt=\"Open In Colab\"/></a>"
      ]
    },
    {
      "cell_type": "code",
      "execution_count": 1,
      "metadata": {
        "colab": {
          "base_uri": "https://localhost:8080/"
        },
        "id": "yND_q8bWJeGG",
        "outputId": "3ee6f585-9c8a-40f6-a5e6-b276d9a8a1b0"
      },
      "outputs": [
        {
          "output_type": "stream",
          "name": "stdout",
          "text": [
            "Mounted at /content/drive/\n"
          ]
        }
      ],
      "source": [
        "#mount the google drive\n",
        "from google.colab import drive\n",
        "drive.mount('/content/drive/')"
      ]
    },
    {
      "cell_type": "code",
      "source": [
        "!pip install moviepy\n",
        "!pip3 install imageio==2.4.1\n",
        "!pip install imageio-ffmpeg\n",
        "!pip install textgrid"
      ],
      "metadata": {
        "colab": {
          "base_uri": "https://localhost:8080/"
        },
        "id": "UaEfi317aZ8J",
        "outputId": "71501923-9bff-45f6-934d-59d13d87e163"
      },
      "execution_count": 2,
      "outputs": [
        {
          "output_type": "stream",
          "name": "stdout",
          "text": [
            "Looking in indexes: https://pypi.org/simple, https://us-python.pkg.dev/colab-wheels/public/simple/\n",
            "Requirement already satisfied: moviepy in /usr/local/lib/python3.8/dist-packages (0.2.3.5)\n",
            "Requirement already satisfied: imageio<3.0,>=2.1.2 in /usr/local/lib/python3.8/dist-packages (from moviepy) (2.9.0)\n",
            "Requirement already satisfied: tqdm<5.0,>=4.11.2 in /usr/local/lib/python3.8/dist-packages (from moviepy) (4.64.1)\n",
            "Requirement already satisfied: numpy in /usr/local/lib/python3.8/dist-packages (from moviepy) (1.21.6)\n",
            "Requirement already satisfied: decorator<5.0,>=4.0.2 in /usr/local/lib/python3.8/dist-packages (from moviepy) (4.4.2)\n",
            "Requirement already satisfied: pillow in /usr/local/lib/python3.8/dist-packages (from imageio<3.0,>=2.1.2->moviepy) (7.1.2)\n",
            "Looking in indexes: https://pypi.org/simple, https://us-python.pkg.dev/colab-wheels/public/simple/\n",
            "Collecting imageio==2.4.1\n",
            "  Downloading imageio-2.4.1.tar.gz (3.3 MB)\n",
            "\u001b[K     |████████████████████████████████| 3.3 MB 5.1 MB/s \n",
            "\u001b[?25hRequirement already satisfied: numpy in /usr/local/lib/python3.8/dist-packages (from imageio==2.4.1) (1.21.6)\n",
            "Requirement already satisfied: pillow in /usr/local/lib/python3.8/dist-packages (from imageio==2.4.1) (7.1.2)\n",
            "Building wheels for collected packages: imageio\n",
            "  Building wheel for imageio (setup.py) ... \u001b[?25l\u001b[?25hdone\n",
            "  Created wheel for imageio: filename=imageio-2.4.1-py3-none-any.whl size=3303886 sha256=b302e67b96a27839ab58c9ad3ca9d4a0ad61c781afb234ea389e59605ad1bc13\n",
            "  Stored in directory: /root/.cache/pip/wheels/be/7b/04/4d8d56f1d503e5c404f0de6018c0cfa592c71588a39b49e002\n",
            "Successfully built imageio\n",
            "Installing collected packages: imageio\n",
            "  Attempting uninstall: imageio\n",
            "    Found existing installation: imageio 2.9.0\n",
            "    Uninstalling imageio-2.9.0:\n",
            "      Successfully uninstalled imageio-2.9.0\n",
            "Successfully installed imageio-2.4.1\n",
            "Looking in indexes: https://pypi.org/simple, https://us-python.pkg.dev/colab-wheels/public/simple/\n",
            "Collecting imageio-ffmpeg\n",
            "  Downloading imageio_ffmpeg-0.4.7-py3-none-manylinux2010_x86_64.whl (26.9 MB)\n",
            "\u001b[K     |████████████████████████████████| 26.9 MB 1.4 MB/s \n",
            "\u001b[?25hInstalling collected packages: imageio-ffmpeg\n",
            "Successfully installed imageio-ffmpeg-0.4.7\n",
            "Looking in indexes: https://pypi.org/simple, https://us-python.pkg.dev/colab-wheels/public/simple/\n",
            "Collecting textgrid\n",
            "  Downloading TextGrid-1.5-py3-none-any.whl (10.0 kB)\n",
            "Installing collected packages: textgrid\n",
            "Successfully installed textgrid-1.5\n"
          ]
        }
      ]
    },
    {
      "cell_type": "code",
      "source": [
        "#import appropriate packages\n",
        "import os\n",
        "import cv2\n",
        "import dlib\n",
        "from google.colab.patches import cv2_imshow\n",
        "import numpy as np \n",
        "from sklearn.preprocessing import StandardScaler\n",
        "from sklearn.decomposition import PCA\n",
        "import matplotlib.pyplot as plt\n",
        "import librosa\n",
        "from scipy.io import wavfile\n",
        "from sklearn.model_selection import train_test_split\n",
        "from sklearn.linear_model import LinearRegression, LogisticRegression\n",
        "from sklearn.metrics import mean_squared_error, accuracy_score\n",
        "import pandas as pd\n",
        "import seaborn as sns\n",
        "from sklearn.ensemble import RandomForestRegressor\n",
        "import itertools\n",
        "from moviepy.editor import *\n",
        "import textgrid"
      ],
      "metadata": {
        "colab": {
          "base_uri": "https://localhost:8080/"
        },
        "id": "Hs1kmkS3JuPr",
        "outputId": "3a9b0eb1-4884-45b9-ecdf-b4116d0e9114"
      },
      "execution_count": 3,
      "outputs": [
        {
          "output_type": "stream",
          "name": "stdout",
          "text": [
            "Imageio: 'ffmpeg-linux64-v3.3.1' was not found on your computer; downloading it now.\n",
            "Try 1. Download from https://github.com/imageio/imageio-binaries/raw/master/ffmpeg/ffmpeg-linux64-v3.3.1 (43.8 MB)\n",
            "Downloading: 8192/45929032 bytes (0.0%)\b\b\b\b\b\b\b\b\b\b\b\b\b\b\b\b\b\b\b\b\b\b\b\b\b\b1671168/45929032 bytes (3.6%)\b\b\b\b\b\b\b\b\b\b\b\b\b\b\b\b\b\b\b\b\b\b\b\b\b\b\b\b\b4661248/45929032 bytes (10.1%)\b\b\b\b\b\b\b\b\b\b\b\b\b\b\b\b\b\b\b\b\b\b\b\b\b\b\b\b\b\b7192576/45929032 bytes (15.7%)\b\b\b\b\b\b\b\b\b\b\b\b\b\b\b\b\b\b\b\b\b\b\b\b\b\b\b\b\b\b9551872/45929032 bytes (20.8%)\b\b\b\b\b\b\b\b\b\b\b\b\b\b\b\b\b\b\b\b\b\b\b\b\b\b\b\b\b\b12279808/45929032 bytes (26.7%)\b\b\b\b\b\b\b\b\b\b\b\b\b\b\b\b\b\b\b\b\b\b\b\b\b\b\b\b\b\b\b14802944/45929032 bytes (32.2%)\b\b\b\b\b\b\b\b\b\b\b\b\b\b\b\b\b\b\b\b\b\b\b\b\b\b\b\b\b\b\b17547264/45929032 bytes (38.2%)\b\b\b\b\b\b\b\b\b\b\b\b\b\b\b\b\b\b\b\b\b\b\b\b\b\b\b\b\b\b\b19275776/45929032 bytes (42.0%)\b\b\b\b\b\b\b\b\b\b\b\b\b\b\b\b\b\b\b\b\b\b\b\b\b\b\b\b\b\b\b22421504/45929032 bytes (48.8%)\b\b\b\b\b\b\b\b\b\b\b\b\b\b\b\b\b\b\b\b\b\b\b\b\b\b\b\b\b\b\b24600576/45929032 bytes (53.6%)\b\b\b\b\b\b\b\b\b\b\b\b\b\b\b\b\b\b\b\b\b\b\b\b\b\b\b\b\b\b\b27475968/45929032 bytes (59.8%)\b\b\b\b\b\b\b\b\b\b\b\b\b\b\b\b\b\b\b\b\b\b\b\b\b\b\b\b\b\b\b30105600/45929032 bytes (65.5%)\b\b\b\b\b\b\b\b\b\b\b\b\b\b\b\b\b\b\b\b\b\b\b\b\b\b\b\b\b\b\b32964608/45929032 bytes (71.8%)\b\b\b\b\b\b\b\b\b\b\b\b\b\b\b\b\b\b\b\b\b\b\b\b\b\b\b\b\b\b\b35373056/45929032 bytes (77.0%)\b\b\b\b\b\b\b\b\b\b\b\b\b\b\b\b\b\b\b\b\b\b\b\b\b\b\b\b\b\b\b38117376/45929032 bytes (83.0%)\b\b\b\b\b\b\b\b\b\b\b\b\b\b\b\b\b\b\b\b\b\b\b\b\b\b\b\b\b\b\b41402368/45929032 bytes (90.1%)\b\b\b\b\b\b\b\b\b\b\b\b\b\b\b\b\b\b\b\b\b\b\b\b\b\b\b\b\b\b\b44752896/45929032 bytes (97.4%)\b\b\b\b\b\b\b\b\b\b\b\b\b\b\b\b\b\b\b\b\b\b\b\b\b\b\b\b\b\b\b45929032/45929032 bytes (100.0%)\n",
            "  Done\n",
            "File saved as /root/.imageio/ffmpeg/ffmpeg-linux64-v3.3.1.\n"
          ]
        }
      ]
    },
    {
      "cell_type": "code",
      "source": [
        "SYM_PATH = '/content/drive/MyDrive/DeepFakeDetection'\n",
        "%cd $SYM_PATH\n",
        "%pip install -e ."
      ],
      "metadata": {
        "colab": {
          "base_uri": "https://localhost:8080/"
        },
        "id": "Q14WTGKNJw0X",
        "outputId": "8797b9b1-ef68-4b56-aa92-8f26b5a973ed"
      },
      "execution_count": 4,
      "outputs": [
        {
          "output_type": "stream",
          "name": "stdout",
          "text": [
            "/content/drive/MyDrive/DeepFakeDetection\n",
            "Looking in indexes: https://pypi.org/simple, https://us-python.pkg.dev/colab-wheels/public/simple/\n",
            "Obtaining file:///content/drive/MyDrive/DeepFakeDetection\n",
            "Installing collected packages: DeepFake\n",
            "  Running setup.py develop for DeepFake\n",
            "Successfully installed DeepFake-0.1.0\n"
          ]
        }
      ]
    },
    {
      "cell_type": "code",
      "source": [
        "#import custom packages\n",
        "from packages.DlibManager import DlibManager\n",
        "\n",
        "predictor_path = '/content/drive/MyDrive/DeepFakeDetection/model/shape_predictor_68_face_landmarks.dat'\n",
        "detector = dlib.get_frontal_face_detector()\n",
        "predictor = dlib.shape_predictor(predictor_path)\n",
        "     "
      ],
      "metadata": {
        "id": "zgxb42FZJ0uY"
      },
      "execution_count": 5,
      "outputs": []
    },
    {
      "cell_type": "code",
      "source": [
        "#load the metadata\n",
        "id = 'id01610'\n",
        "\n",
        "metadata = pd.read_csv('/content/drive/MyDrive/DeepFakeDetection/data/full_metadata.csv')\n",
        "#metadata = metadata[(metadata['valid_dlib']==True) & (metadata['phoneme_path'].isna() == False) & (metadata['source'] == id)]"
      ],
      "metadata": {
        "id": "nN5d2GY8MeHG"
      },
      "execution_count": 10,
      "outputs": []
    },
    {
      "cell_type": "code",
      "source": [
        "metadata[(metadata['video_source'] == 'VoxCeleb') & (metadata['source'] == id)]"
      ],
      "metadata": {
        "colab": {
          "base_uri": "https://localhost:8080/",
          "height": 679
        },
        "id": "vhYiaNhlDrDa",
        "outputId": "c5ef20c4-7b3a-4c06-fcc5-18622bdd86b2"
      },
      "execution_count": 15,
      "outputs": [
        {
          "output_type": "execute_result",
          "data": {
            "text/plain": [
              "     Unnamed: 0   source       path         directory  \\\n",
              "694         694  id01610  00134.mp4  VoxCeleb/id01610   \n",
              "695         695  id01610  00135.mp4  VoxCeleb/id01610   \n",
              "696         696  id01610  00136.mp4  VoxCeleb/id01610   \n",
              "697         697  id01610  00133.mp4  VoxCeleb/id01610   \n",
              "698         698  id01610  00127.mp4  VoxCeleb/id01610   \n",
              "..          ...      ...        ...               ...   \n",
              "826         826  id01610  00021.mp4  VoxCeleb/id01610   \n",
              "827         827  id01610  00020.mp4  VoxCeleb/id01610   \n",
              "828         828  id01610  00028.mp4  VoxCeleb/id01610   \n",
              "829         829  id01610  00025.mp4  VoxCeleb/id01610   \n",
              "830         830  id01610  00011.mp4  VoxCeleb/id01610   \n",
              "\n",
              "                                             full_path                 type  \\\n",
              "694  /content/drive/MyDrive/DeepFakeDetection/data/...  RealVideo-RealAudio   \n",
              "695  /content/drive/MyDrive/DeepFakeDetection/data/...  RealVideo-RealAudio   \n",
              "696  /content/drive/MyDrive/DeepFakeDetection/data/...  RealVideo-RealAudio   \n",
              "697  /content/drive/MyDrive/DeepFakeDetection/data/...  RealVideo-RealAudio   \n",
              "698  /content/drive/MyDrive/DeepFakeDetection/data/...  RealVideo-RealAudio   \n",
              "..                                                 ...                  ...   \n",
              "826  /content/drive/MyDrive/DeepFakeDetection/data/...  RealVideo-RealAudio   \n",
              "827  /content/drive/MyDrive/DeepFakeDetection/data/...  RealVideo-RealAudio   \n",
              "828  /content/drive/MyDrive/DeepFakeDetection/data/...  RealVideo-RealAudio   \n",
              "829  /content/drive/MyDrive/DeepFakeDetection/data/...  RealVideo-RealAudio   \n",
              "830  /content/drive/MyDrive/DeepFakeDetection/data/...  RealVideo-RealAudio   \n",
              "\n",
              "    method video_source                                           wav_path  \\\n",
              "694   real     VoxCeleb  /content/drive/MyDrive/DeepFakeDetection/data/...   \n",
              "695   real     VoxCeleb  /content/drive/MyDrive/DeepFakeDetection/data/...   \n",
              "696   real     VoxCeleb                                                NaN   \n",
              "697   real     VoxCeleb  /content/drive/MyDrive/DeepFakeDetection/data/...   \n",
              "698   real     VoxCeleb                                                NaN   \n",
              "..     ...          ...                                                ...   \n",
              "826   real     VoxCeleb  /content/drive/MyDrive/DeepFakeDetection/data/...   \n",
              "827   real     VoxCeleb  /content/drive/MyDrive/DeepFakeDetection/data/...   \n",
              "828   real     VoxCeleb  /content/drive/MyDrive/DeepFakeDetection/data/...   \n",
              "829   real     VoxCeleb  /content/drive/MyDrive/DeepFakeDetection/data/...   \n",
              "830   real     VoxCeleb                                                NaN   \n",
              "\n",
              "    utterance_path                                       phoneme_path  \\\n",
              "694            NaN                                                NaN   \n",
              "695            NaN                                                NaN   \n",
              "696            NaN                                                NaN   \n",
              "697            NaN                                                NaN   \n",
              "698            NaN                                                NaN   \n",
              "..             ...                                                ...   \n",
              "826            NaN  /content/drive/MyDrive/DeepFakeDetection/data/...   \n",
              "827            NaN  /content/drive/MyDrive/DeepFakeDetection/data/...   \n",
              "828            NaN  /content/drive/MyDrive/DeepFakeDetection/data/...   \n",
              "829            NaN  /content/drive/MyDrive/DeepFakeDetection/data/...   \n",
              "830            NaN                                                NaN   \n",
              "\n",
              "     Unnamed: 0.1 valid_dlib target1 target2 category race gender  \n",
              "694           NaN        NaN     NaN     NaN      NaN  NaN    NaN  \n",
              "695           NaN        NaN     NaN     NaN      NaN  NaN    NaN  \n",
              "696           NaN        NaN     NaN     NaN      NaN  NaN    NaN  \n",
              "697           NaN        NaN     NaN     NaN      NaN  NaN    NaN  \n",
              "698           NaN        NaN     NaN     NaN      NaN  NaN    NaN  \n",
              "..            ...        ...     ...     ...      ...  ...    ...  \n",
              "826           NaN        NaN     NaN     NaN      NaN  NaN    NaN  \n",
              "827           NaN        NaN     NaN     NaN      NaN  NaN    NaN  \n",
              "828           NaN        NaN     NaN     NaN      NaN  NaN    NaN  \n",
              "829           NaN        NaN     NaN     NaN      NaN  NaN    NaN  \n",
              "830           NaN        NaN     NaN     NaN      NaN  NaN    NaN  \n",
              "\n",
              "[137 rows x 18 columns]"
            ],
            "text/html": [
              "\n",
              "  <div id=\"df-2d3fa159-77da-4589-86ef-0a4ab35b0abf\">\n",
              "    <div class=\"colab-df-container\">\n",
              "      <div>\n",
              "<style scoped>\n",
              "    .dataframe tbody tr th:only-of-type {\n",
              "        vertical-align: middle;\n",
              "    }\n",
              "\n",
              "    .dataframe tbody tr th {\n",
              "        vertical-align: top;\n",
              "    }\n",
              "\n",
              "    .dataframe thead th {\n",
              "        text-align: right;\n",
              "    }\n",
              "</style>\n",
              "<table border=\"1\" class=\"dataframe\">\n",
              "  <thead>\n",
              "    <tr style=\"text-align: right;\">\n",
              "      <th></th>\n",
              "      <th>Unnamed: 0</th>\n",
              "      <th>source</th>\n",
              "      <th>path</th>\n",
              "      <th>directory</th>\n",
              "      <th>full_path</th>\n",
              "      <th>type</th>\n",
              "      <th>method</th>\n",
              "      <th>video_source</th>\n",
              "      <th>wav_path</th>\n",
              "      <th>utterance_path</th>\n",
              "      <th>phoneme_path</th>\n",
              "      <th>Unnamed: 0.1</th>\n",
              "      <th>valid_dlib</th>\n",
              "      <th>target1</th>\n",
              "      <th>target2</th>\n",
              "      <th>category</th>\n",
              "      <th>race</th>\n",
              "      <th>gender</th>\n",
              "    </tr>\n",
              "  </thead>\n",
              "  <tbody>\n",
              "    <tr>\n",
              "      <th>694</th>\n",
              "      <td>694</td>\n",
              "      <td>id01610</td>\n",
              "      <td>00134.mp4</td>\n",
              "      <td>VoxCeleb/id01610</td>\n",
              "      <td>/content/drive/MyDrive/DeepFakeDetection/data/...</td>\n",
              "      <td>RealVideo-RealAudio</td>\n",
              "      <td>real</td>\n",
              "      <td>VoxCeleb</td>\n",
              "      <td>/content/drive/MyDrive/DeepFakeDetection/data/...</td>\n",
              "      <td>NaN</td>\n",
              "      <td>NaN</td>\n",
              "      <td>NaN</td>\n",
              "      <td>NaN</td>\n",
              "      <td>NaN</td>\n",
              "      <td>NaN</td>\n",
              "      <td>NaN</td>\n",
              "      <td>NaN</td>\n",
              "      <td>NaN</td>\n",
              "    </tr>\n",
              "    <tr>\n",
              "      <th>695</th>\n",
              "      <td>695</td>\n",
              "      <td>id01610</td>\n",
              "      <td>00135.mp4</td>\n",
              "      <td>VoxCeleb/id01610</td>\n",
              "      <td>/content/drive/MyDrive/DeepFakeDetection/data/...</td>\n",
              "      <td>RealVideo-RealAudio</td>\n",
              "      <td>real</td>\n",
              "      <td>VoxCeleb</td>\n",
              "      <td>/content/drive/MyDrive/DeepFakeDetection/data/...</td>\n",
              "      <td>NaN</td>\n",
              "      <td>NaN</td>\n",
              "      <td>NaN</td>\n",
              "      <td>NaN</td>\n",
              "      <td>NaN</td>\n",
              "      <td>NaN</td>\n",
              "      <td>NaN</td>\n",
              "      <td>NaN</td>\n",
              "      <td>NaN</td>\n",
              "    </tr>\n",
              "    <tr>\n",
              "      <th>696</th>\n",
              "      <td>696</td>\n",
              "      <td>id01610</td>\n",
              "      <td>00136.mp4</td>\n",
              "      <td>VoxCeleb/id01610</td>\n",
              "      <td>/content/drive/MyDrive/DeepFakeDetection/data/...</td>\n",
              "      <td>RealVideo-RealAudio</td>\n",
              "      <td>real</td>\n",
              "      <td>VoxCeleb</td>\n",
              "      <td>NaN</td>\n",
              "      <td>NaN</td>\n",
              "      <td>NaN</td>\n",
              "      <td>NaN</td>\n",
              "      <td>NaN</td>\n",
              "      <td>NaN</td>\n",
              "      <td>NaN</td>\n",
              "      <td>NaN</td>\n",
              "      <td>NaN</td>\n",
              "      <td>NaN</td>\n",
              "    </tr>\n",
              "    <tr>\n",
              "      <th>697</th>\n",
              "      <td>697</td>\n",
              "      <td>id01610</td>\n",
              "      <td>00133.mp4</td>\n",
              "      <td>VoxCeleb/id01610</td>\n",
              "      <td>/content/drive/MyDrive/DeepFakeDetection/data/...</td>\n",
              "      <td>RealVideo-RealAudio</td>\n",
              "      <td>real</td>\n",
              "      <td>VoxCeleb</td>\n",
              "      <td>/content/drive/MyDrive/DeepFakeDetection/data/...</td>\n",
              "      <td>NaN</td>\n",
              "      <td>NaN</td>\n",
              "      <td>NaN</td>\n",
              "      <td>NaN</td>\n",
              "      <td>NaN</td>\n",
              "      <td>NaN</td>\n",
              "      <td>NaN</td>\n",
              "      <td>NaN</td>\n",
              "      <td>NaN</td>\n",
              "    </tr>\n",
              "    <tr>\n",
              "      <th>698</th>\n",
              "      <td>698</td>\n",
              "      <td>id01610</td>\n",
              "      <td>00127.mp4</td>\n",
              "      <td>VoxCeleb/id01610</td>\n",
              "      <td>/content/drive/MyDrive/DeepFakeDetection/data/...</td>\n",
              "      <td>RealVideo-RealAudio</td>\n",
              "      <td>real</td>\n",
              "      <td>VoxCeleb</td>\n",
              "      <td>NaN</td>\n",
              "      <td>NaN</td>\n",
              "      <td>NaN</td>\n",
              "      <td>NaN</td>\n",
              "      <td>NaN</td>\n",
              "      <td>NaN</td>\n",
              "      <td>NaN</td>\n",
              "      <td>NaN</td>\n",
              "      <td>NaN</td>\n",
              "      <td>NaN</td>\n",
              "    </tr>\n",
              "    <tr>\n",
              "      <th>...</th>\n",
              "      <td>...</td>\n",
              "      <td>...</td>\n",
              "      <td>...</td>\n",
              "      <td>...</td>\n",
              "      <td>...</td>\n",
              "      <td>...</td>\n",
              "      <td>...</td>\n",
              "      <td>...</td>\n",
              "      <td>...</td>\n",
              "      <td>...</td>\n",
              "      <td>...</td>\n",
              "      <td>...</td>\n",
              "      <td>...</td>\n",
              "      <td>...</td>\n",
              "      <td>...</td>\n",
              "      <td>...</td>\n",
              "      <td>...</td>\n",
              "      <td>...</td>\n",
              "    </tr>\n",
              "    <tr>\n",
              "      <th>826</th>\n",
              "      <td>826</td>\n",
              "      <td>id01610</td>\n",
              "      <td>00021.mp4</td>\n",
              "      <td>VoxCeleb/id01610</td>\n",
              "      <td>/content/drive/MyDrive/DeepFakeDetection/data/...</td>\n",
              "      <td>RealVideo-RealAudio</td>\n",
              "      <td>real</td>\n",
              "      <td>VoxCeleb</td>\n",
              "      <td>/content/drive/MyDrive/DeepFakeDetection/data/...</td>\n",
              "      <td>NaN</td>\n",
              "      <td>/content/drive/MyDrive/DeepFakeDetection/data/...</td>\n",
              "      <td>NaN</td>\n",
              "      <td>NaN</td>\n",
              "      <td>NaN</td>\n",
              "      <td>NaN</td>\n",
              "      <td>NaN</td>\n",
              "      <td>NaN</td>\n",
              "      <td>NaN</td>\n",
              "    </tr>\n",
              "    <tr>\n",
              "      <th>827</th>\n",
              "      <td>827</td>\n",
              "      <td>id01610</td>\n",
              "      <td>00020.mp4</td>\n",
              "      <td>VoxCeleb/id01610</td>\n",
              "      <td>/content/drive/MyDrive/DeepFakeDetection/data/...</td>\n",
              "      <td>RealVideo-RealAudio</td>\n",
              "      <td>real</td>\n",
              "      <td>VoxCeleb</td>\n",
              "      <td>/content/drive/MyDrive/DeepFakeDetection/data/...</td>\n",
              "      <td>NaN</td>\n",
              "      <td>/content/drive/MyDrive/DeepFakeDetection/data/...</td>\n",
              "      <td>NaN</td>\n",
              "      <td>NaN</td>\n",
              "      <td>NaN</td>\n",
              "      <td>NaN</td>\n",
              "      <td>NaN</td>\n",
              "      <td>NaN</td>\n",
              "      <td>NaN</td>\n",
              "    </tr>\n",
              "    <tr>\n",
              "      <th>828</th>\n",
              "      <td>828</td>\n",
              "      <td>id01610</td>\n",
              "      <td>00028.mp4</td>\n",
              "      <td>VoxCeleb/id01610</td>\n",
              "      <td>/content/drive/MyDrive/DeepFakeDetection/data/...</td>\n",
              "      <td>RealVideo-RealAudio</td>\n",
              "      <td>real</td>\n",
              "      <td>VoxCeleb</td>\n",
              "      <td>/content/drive/MyDrive/DeepFakeDetection/data/...</td>\n",
              "      <td>NaN</td>\n",
              "      <td>/content/drive/MyDrive/DeepFakeDetection/data/...</td>\n",
              "      <td>NaN</td>\n",
              "      <td>NaN</td>\n",
              "      <td>NaN</td>\n",
              "      <td>NaN</td>\n",
              "      <td>NaN</td>\n",
              "      <td>NaN</td>\n",
              "      <td>NaN</td>\n",
              "    </tr>\n",
              "    <tr>\n",
              "      <th>829</th>\n",
              "      <td>829</td>\n",
              "      <td>id01610</td>\n",
              "      <td>00025.mp4</td>\n",
              "      <td>VoxCeleb/id01610</td>\n",
              "      <td>/content/drive/MyDrive/DeepFakeDetection/data/...</td>\n",
              "      <td>RealVideo-RealAudio</td>\n",
              "      <td>real</td>\n",
              "      <td>VoxCeleb</td>\n",
              "      <td>/content/drive/MyDrive/DeepFakeDetection/data/...</td>\n",
              "      <td>NaN</td>\n",
              "      <td>/content/drive/MyDrive/DeepFakeDetection/data/...</td>\n",
              "      <td>NaN</td>\n",
              "      <td>NaN</td>\n",
              "      <td>NaN</td>\n",
              "      <td>NaN</td>\n",
              "      <td>NaN</td>\n",
              "      <td>NaN</td>\n",
              "      <td>NaN</td>\n",
              "    </tr>\n",
              "    <tr>\n",
              "      <th>830</th>\n",
              "      <td>830</td>\n",
              "      <td>id01610</td>\n",
              "      <td>00011.mp4</td>\n",
              "      <td>VoxCeleb/id01610</td>\n",
              "      <td>/content/drive/MyDrive/DeepFakeDetection/data/...</td>\n",
              "      <td>RealVideo-RealAudio</td>\n",
              "      <td>real</td>\n",
              "      <td>VoxCeleb</td>\n",
              "      <td>NaN</td>\n",
              "      <td>NaN</td>\n",
              "      <td>NaN</td>\n",
              "      <td>NaN</td>\n",
              "      <td>NaN</td>\n",
              "      <td>NaN</td>\n",
              "      <td>NaN</td>\n",
              "      <td>NaN</td>\n",
              "      <td>NaN</td>\n",
              "      <td>NaN</td>\n",
              "    </tr>\n",
              "  </tbody>\n",
              "</table>\n",
              "<p>137 rows × 18 columns</p>\n",
              "</div>\n",
              "      <button class=\"colab-df-convert\" onclick=\"convertToInteractive('df-2d3fa159-77da-4589-86ef-0a4ab35b0abf')\"\n",
              "              title=\"Convert this dataframe to an interactive table.\"\n",
              "              style=\"display:none;\">\n",
              "        \n",
              "  <svg xmlns=\"http://www.w3.org/2000/svg\" height=\"24px\"viewBox=\"0 0 24 24\"\n",
              "       width=\"24px\">\n",
              "    <path d=\"M0 0h24v24H0V0z\" fill=\"none\"/>\n",
              "    <path d=\"M18.56 5.44l.94 2.06.94-2.06 2.06-.94-2.06-.94-.94-2.06-.94 2.06-2.06.94zm-11 1L8.5 8.5l.94-2.06 2.06-.94-2.06-.94L8.5 2.5l-.94 2.06-2.06.94zm10 10l.94 2.06.94-2.06 2.06-.94-2.06-.94-.94-2.06-.94 2.06-2.06.94z\"/><path d=\"M17.41 7.96l-1.37-1.37c-.4-.4-.92-.59-1.43-.59-.52 0-1.04.2-1.43.59L10.3 9.45l-7.72 7.72c-.78.78-.78 2.05 0 2.83L4 21.41c.39.39.9.59 1.41.59.51 0 1.02-.2 1.41-.59l7.78-7.78 2.81-2.81c.8-.78.8-2.07 0-2.86zM5.41 20L4 18.59l7.72-7.72 1.47 1.35L5.41 20z\"/>\n",
              "  </svg>\n",
              "      </button>\n",
              "      \n",
              "  <style>\n",
              "    .colab-df-container {\n",
              "      display:flex;\n",
              "      flex-wrap:wrap;\n",
              "      gap: 12px;\n",
              "    }\n",
              "\n",
              "    .colab-df-convert {\n",
              "      background-color: #E8F0FE;\n",
              "      border: none;\n",
              "      border-radius: 50%;\n",
              "      cursor: pointer;\n",
              "      display: none;\n",
              "      fill: #1967D2;\n",
              "      height: 32px;\n",
              "      padding: 0 0 0 0;\n",
              "      width: 32px;\n",
              "    }\n",
              "\n",
              "    .colab-df-convert:hover {\n",
              "      background-color: #E2EBFA;\n",
              "      box-shadow: 0px 1px 2px rgba(60, 64, 67, 0.3), 0px 1px 3px 1px rgba(60, 64, 67, 0.15);\n",
              "      fill: #174EA6;\n",
              "    }\n",
              "\n",
              "    [theme=dark] .colab-df-convert {\n",
              "      background-color: #3B4455;\n",
              "      fill: #D2E3FC;\n",
              "    }\n",
              "\n",
              "    [theme=dark] .colab-df-convert:hover {\n",
              "      background-color: #434B5C;\n",
              "      box-shadow: 0px 1px 3px 1px rgba(0, 0, 0, 0.15);\n",
              "      filter: drop-shadow(0px 1px 2px rgba(0, 0, 0, 0.3));\n",
              "      fill: #FFFFFF;\n",
              "    }\n",
              "  </style>\n",
              "\n",
              "      <script>\n",
              "        const buttonEl =\n",
              "          document.querySelector('#df-2d3fa159-77da-4589-86ef-0a4ab35b0abf button.colab-df-convert');\n",
              "        buttonEl.style.display =\n",
              "          google.colab.kernel.accessAllowed ? 'block' : 'none';\n",
              "\n",
              "        async function convertToInteractive(key) {\n",
              "          const element = document.querySelector('#df-2d3fa159-77da-4589-86ef-0a4ab35b0abf');\n",
              "          const dataTable =\n",
              "            await google.colab.kernel.invokeFunction('convertToInteractive',\n",
              "                                                     [key], {});\n",
              "          if (!dataTable) return;\n",
              "\n",
              "          const docLinkHtml = 'Like what you see? Visit the ' +\n",
              "            '<a target=\"_blank\" href=https://colab.research.google.com/notebooks/data_table.ipynb>data table notebook</a>'\n",
              "            + ' to learn more about interactive tables.';\n",
              "          element.innerHTML = '';\n",
              "          dataTable['output_type'] = 'display_data';\n",
              "          await google.colab.output.renderOutput(dataTable, element);\n",
              "          const docLink = document.createElement('div');\n",
              "          docLink.innerHTML = docLinkHtml;\n",
              "          element.appendChild(docLink);\n",
              "        }\n",
              "      </script>\n",
              "    </div>\n",
              "  </div>\n",
              "  "
            ]
          },
          "metadata": {},
          "execution_count": 15
        }
      ]
    },
    {
      "cell_type": "code",
      "source": [
        "real_videos = metadata[metadata['method'] == 'real'].sample(frac=1, replace=False).reset_index(drop=True)\n",
        "fake_videos = metadata[metadata['method'] == 'wav2lip'].sample(frac=1, replace=False).reset_index(drop=True)\n",
        "\n",
        "train_perc = 0.8\n",
        "\n",
        "train_real = real_videos[0:int(real_videos.shape[0]*train_perc)]\n",
        "test_real = real_videos[int(real_videos.shape[0]*train_perc):]\n",
        "test_fake = fake_videos[:test_real.shape[0]]"
      ],
      "metadata": {
        "id": "BsjSMBekGJKT"
      },
      "execution_count": 171,
      "outputs": []
    },
    {
      "cell_type": "code",
      "source": [
        "def distance(x1, x2):\n",
        "  return np.sqrt(np.sum((x1 - x2)**2))"
      ],
      "metadata": {
        "id": "OgRbUo1p-xPO"
      },
      "execution_count": 172,
      "outputs": []
    },
    {
      "cell_type": "code",
      "source": [
        "def normalize(ar, mean=None, std=None):\n",
        "  if isinstance(mean, type(None)):\n",
        "    mean = np.mean(ar)\n",
        "  if isinstance(std, type(None)):\n",
        "    std = np.std(ar)\n",
        "    \n",
        "  return (ar - mean)/std"
      ],
      "metadata": {
        "id": "xUUBhlwJ_8_Q"
      },
      "execution_count": 173,
      "outputs": []
    },
    {
      "cell_type": "code",
      "source": [
        "def generate_features(dlib_video, phonemes, phoneme_time_adj, dlib_frame_ext, full_path):\n",
        "\n",
        "  top_lip_idx = 52\n",
        "  bottom_lip_idx = 58\n",
        "  left_lip_idx = 49\n",
        "  right_lip_idx = 55\n",
        "  nose_idx = 34\n",
        "  chin_idx = 9\n",
        "\n",
        "  features = []\n",
        "\n",
        "  duration = phonemes[-1].maxTime\n",
        "\n",
        "  dlib_frames = dlib_video.full_frames\n",
        "  landmarks = dlib_video.landmarks\n",
        "\n",
        "  second_per_frame = duration/len(dlib_frames)\n",
        "  dlib_frame_times = np.arange(0, len(dlib_frames), 1)*second_per_frame\n",
        "\n",
        "\n",
        "  full_video_vert_lip_distance = np.array([distance(landmark[top_lip_idx], landmark[bottom_lip_idx]) for landmark in landmarks])\n",
        "  full_video_hor_lip_distance = np.array([distance(landmark[left_lip_idx], landmark[right_lip_idx]) for landmark in landmarks])\n",
        "  full_video_nose_chin_distance = np.array([distance(landmark[nose_idx], landmark[chin_idx]) for landmark in landmarks])\n",
        "  full_video_mouth_ratio = full_video_vert_lip_distance/full_video_hor_lip_distance\n",
        "\n",
        "  full_video_vert_mean = np.mean(full_video_vert_lip_distance)\n",
        "  full_video_vert_std = np.std(full_video_vert_lip_distance)\n",
        "  full_video_hor_mean = np.mean(full_video_hor_lip_distance)\n",
        "  full_video_hor_st = np.std(full_video_hor_lip_distance)\n",
        "  full_video_nose_chin_mean = np.mean(full_video_nose_chin_distance)\n",
        "  full_video_nose_chin_std = np.std(full_video_nose_chin_distance)\n",
        "  full_video_mouth_ratio_mean = np.mean(full_video_mouth_ratio)\n",
        "  full_video_mouth_ratio_std = np.std(full_video_mouth_ratio)\n",
        "\n",
        "  for phoneme in phonemes:\n",
        "\n",
        "    start_time, end_time = phoneme.minTime-phoneme_time_adj, phoneme.maxTime+phoneme_time_adj\n",
        "\n",
        "    start_frame_idx = max(abs(dlib_frame_times - start_time).argmin() - dlib_frame_ext,0)\n",
        "    end_frame_idx = min(abs(dlib_frame_times - end_time).argmin() + dlib_frame_ext, len(dlib_frames))\n",
        "\n",
        "    phoneme_landmark = landmarks[start_frame_idx:end_frame_idx]\n",
        "\n",
        "    vert_lip_distance = np.array([distance(landmark[top_lip_idx], landmark[bottom_lip_idx]) for landmark in phoneme_landmark])\n",
        "    hor_lip_distance = np.array([distance(landmark[left_lip_idx], landmark[right_lip_idx]) for landmark in phoneme_landmark])\n",
        "    nose_chin_distance = np.array([distance(landmark[nose_idx], landmark[chin_idx]) for landmark in phoneme_landmark])\n",
        "    mouth_ratio = vert_lip_distance/hor_lip_distance\n",
        "\n",
        "    vert_lip_distance = normalize(vert_lip_distance, full_video_vert_mean, full_video_vert_std)\n",
        "    hor_lip_distance = normalize(hor_lip_distance, full_video_hor_mean, full_video_hor_st)\n",
        "    nose_chin_distance = normalize(nose_chin_distance, full_video_nose_chin_mean, full_video_nose_chin_std)\n",
        "    mouth_ratio = normalize(mouth_ratio, full_video_mouth_ratio_mean, full_video_mouth_ratio_std)\n",
        "\n",
        "    vert_lip_distance_max = vert_lip_distance.max()\n",
        "    vert_lip_distance_min = vert_lip_distance.min()\n",
        "    vert_lip_distance_diff = vert_lip_distance_max - vert_lip_distance_min\n",
        "    vert_lip_distance_std = vert_lip_distance.std()\n",
        "    vert_lip_distance_mean = vert_lip_distance.mean()\n",
        "\n",
        "    hor_lip_distance_max = hor_lip_distance.max()\n",
        "    hor_lip_distance_min = hor_lip_distance.min()\n",
        "    hor_lip_distance_diff = hor_lip_distance_max - hor_lip_distance_min\n",
        "    hor_lip_distance_std = hor_lip_distance.std()\n",
        "    hor_lip_distance_mean = hor_lip_distance.mean()\n",
        "\n",
        "    nose_chin_distance_max = nose_chin_distance.max()\n",
        "    nose_chin_distance_min = nose_chin_distance.min()\n",
        "    nose_chin_distance_diff = nose_chin_distance_max - nose_chin_distance_min\n",
        "    nose_chin_distance_std = nose_chin_distance.std()\n",
        "    nose_chin_distance_mean = nose_chin_distance.mean()\n",
        "\n",
        "    mouth_ratio_max = mouth_ratio.max()\n",
        "    mouth_ratio_min = mouth_ratio.min()\n",
        "    mouth_ratio_diff = mouth_ratio_max - mouth_ratio_min\n",
        "    mouth_ratio_std = mouth_ratio.std()\n",
        "    mouth_ratio_mean = mouth_ratio.mean()\n",
        "\n",
        "    features.append([full_path, phoneme.mark, len(phoneme_landmark), start_time, end_time, start_frame_idx, end_frame_idx,\n",
        "                     vert_lip_distance_max, vert_lip_distance_min, vert_lip_distance_diff, vert_lip_distance_std, vert_lip_distance_mean,\n",
        "                     hor_lip_distance_max, hor_lip_distance_min, hor_lip_distance_diff, hor_lip_distance_std, hor_lip_distance_mean, \n",
        "                     nose_chin_distance_max, nose_chin_distance_min, nose_chin_distance_diff, nose_chin_distance_std, nose_chin_distance_mean,\n",
        "                     mouth_ratio_max, mouth_ratio_min, mouth_ratio_diff, mouth_ratio_std, mouth_ratio_mean ])\n",
        "    \n",
        "  return features\n",
        "\n",
        "\n",
        "  \n",
        "\n",
        "\n",
        "\n",
        "\n"
      ],
      "metadata": {
        "id": "0CxQB8eM9wVE"
      },
      "execution_count": 174,
      "outputs": []
    },
    {
      "cell_type": "code",
      "source": [
        "#1 for each video, extract the phoneme\n",
        "#2 for each phoneme, using moviepy, get the frames associated with the phoneme\n",
        "#3 get the landmarks associated with each frame\n",
        "#4 return list of phoneme & landmarks\n",
        "def extract(data, phoneme_time_adj, dlib_frame_ext):\n",
        "\n",
        "  full_results = []\n",
        "\n",
        "  idx = 0\n",
        "  for index, row in data.iterrows():\n",
        "\n",
        "    video_results = []\n",
        "\n",
        "    print(f'\\r Running Video {idx+1} of {data.shape[0]}', end='')\n",
        "\n",
        "\n",
        "    phonemes = textgrid.TextGrid.fromFile(row['phoneme_path'])[1]\n",
        "\n",
        "    video = cv2.VideoCapture(row['full_path'])\n",
        "    dlib_video = DlibManager(detector=detector, predictor=predictor, video=video)\n",
        "\n",
        "    full_results.extend(generate_features(dlib_video, phonemes, phoneme_time_adj, dlib_frame_ext, row['full_path']))\n",
        "\n",
        "    idx += 1\n",
        "\n",
        "  return pd.DataFrame(full_results, columns=['full_path', 'phoneme', 'num_frames', 'phoneme_start', 'phoneme_end', 'frame_start', 'frame_end',\n",
        "                                            'vert_lip_max', 'vert_lip_min', 'vert_lip_diff', 'vert_lip_std', 'vert_lip_mean',\n",
        "                                            'hor_lip_max', 'hor_lip_min', 'hor_lip_diff', 'hor_lip_std', 'hor_lip_mean',\n",
        "                                            'nose_chin_max', 'nose_chin_min', 'nose_chin_diff', 'nose_chin_std', 'nose_chin_mean',\n",
        "                                            'mouth_ratio_max', 'mouth_ratio_min', 'mouth_ratio_diff', 'mouth_ratio_std', 'mouth_ratio_mean'])\n",
        "\n",
        "    \n",
        "\n"
      ],
      "metadata": {
        "id": "45l8MYi_gimN"
      },
      "execution_count": 175,
      "outputs": []
    },
    {
      "cell_type": "code",
      "source": [
        "train_df = extract(train_real, 0, 1)\n",
        "test__real_df = extract(test_real, 0, 1)\n",
        "test__fake_df = extract(test_fake, 0, 1)"
      ],
      "metadata": {
        "colab": {
          "base_uri": "https://localhost:8080/"
        },
        "id": "ka2f4hZJoHro",
        "outputId": "e7582b0f-7949-4a7c-dfaf-fb0156c2d6a1"
      },
      "execution_count": 176,
      "outputs": [
        {
          "output_type": "stream",
          "name": "stdout",
          "text": [
            " Running Video 1 of 1"
          ]
        }
      ]
    },
    {
      "cell_type": "markdown",
      "source": [
        "## Exploratory Data Analysis"
      ],
      "metadata": {
        "id": "pG3P8N4I8a7B"
      }
    },
    {
      "cell_type": "code",
      "source": [
        "train_df.head()"
      ],
      "metadata": {
        "colab": {
          "base_uri": "https://localhost:8080/",
          "height": 143
        },
        "id": "Ob5p5rpsIiGk",
        "outputId": "d7e207fd-3220-4745-b6f5-4fb3285516d1"
      },
      "execution_count": 177,
      "outputs": [
        {
          "output_type": "execute_result",
          "data": {
            "text/plain": [
              "Empty DataFrame\n",
              "Columns: [full_path, phoneme, num_frames, phoneme_start, phoneme_end, frame_start, frame_end, vert_lip_max, vert_lip_min, vert_lip_diff, vert_lip_std, vert_lip_mean, hor_lip_max, hor_lip_min, hor_lip_diff, hor_lip_std, hor_lip_mean, nose_chin_max, nose_chin_min, nose_chin_diff, nose_chin_std, nose_chin_mean, mouth_ratio_max, mouth_ratio_min, mouth_ratio_diff, mouth_ratio_std, mouth_ratio_mean]\n",
              "Index: []\n",
              "\n",
              "[0 rows x 27 columns]"
            ],
            "text/html": [
              "\n",
              "  <div id=\"df-61fefabe-e502-47c7-adc7-c8994e9a49a8\">\n",
              "    <div class=\"colab-df-container\">\n",
              "      <div>\n",
              "<style scoped>\n",
              "    .dataframe tbody tr th:only-of-type {\n",
              "        vertical-align: middle;\n",
              "    }\n",
              "\n",
              "    .dataframe tbody tr th {\n",
              "        vertical-align: top;\n",
              "    }\n",
              "\n",
              "    .dataframe thead th {\n",
              "        text-align: right;\n",
              "    }\n",
              "</style>\n",
              "<table border=\"1\" class=\"dataframe\">\n",
              "  <thead>\n",
              "    <tr style=\"text-align: right;\">\n",
              "      <th></th>\n",
              "      <th>full_path</th>\n",
              "      <th>phoneme</th>\n",
              "      <th>num_frames</th>\n",
              "      <th>phoneme_start</th>\n",
              "      <th>phoneme_end</th>\n",
              "      <th>frame_start</th>\n",
              "      <th>frame_end</th>\n",
              "      <th>vert_lip_max</th>\n",
              "      <th>vert_lip_min</th>\n",
              "      <th>vert_lip_diff</th>\n",
              "      <th>...</th>\n",
              "      <th>nose_chin_max</th>\n",
              "      <th>nose_chin_min</th>\n",
              "      <th>nose_chin_diff</th>\n",
              "      <th>nose_chin_std</th>\n",
              "      <th>nose_chin_mean</th>\n",
              "      <th>mouth_ratio_max</th>\n",
              "      <th>mouth_ratio_min</th>\n",
              "      <th>mouth_ratio_diff</th>\n",
              "      <th>mouth_ratio_std</th>\n",
              "      <th>mouth_ratio_mean</th>\n",
              "    </tr>\n",
              "  </thead>\n",
              "  <tbody>\n",
              "  </tbody>\n",
              "</table>\n",
              "<p>0 rows × 27 columns</p>\n",
              "</div>\n",
              "      <button class=\"colab-df-convert\" onclick=\"convertToInteractive('df-61fefabe-e502-47c7-adc7-c8994e9a49a8')\"\n",
              "              title=\"Convert this dataframe to an interactive table.\"\n",
              "              style=\"display:none;\">\n",
              "        \n",
              "  <svg xmlns=\"http://www.w3.org/2000/svg\" height=\"24px\"viewBox=\"0 0 24 24\"\n",
              "       width=\"24px\">\n",
              "    <path d=\"M0 0h24v24H0V0z\" fill=\"none\"/>\n",
              "    <path d=\"M18.56 5.44l.94 2.06.94-2.06 2.06-.94-2.06-.94-.94-2.06-.94 2.06-2.06.94zm-11 1L8.5 8.5l.94-2.06 2.06-.94-2.06-.94L8.5 2.5l-.94 2.06-2.06.94zm10 10l.94 2.06.94-2.06 2.06-.94-2.06-.94-.94-2.06-.94 2.06-2.06.94z\"/><path d=\"M17.41 7.96l-1.37-1.37c-.4-.4-.92-.59-1.43-.59-.52 0-1.04.2-1.43.59L10.3 9.45l-7.72 7.72c-.78.78-.78 2.05 0 2.83L4 21.41c.39.39.9.59 1.41.59.51 0 1.02-.2 1.41-.59l7.78-7.78 2.81-2.81c.8-.78.8-2.07 0-2.86zM5.41 20L4 18.59l7.72-7.72 1.47 1.35L5.41 20z\"/>\n",
              "  </svg>\n",
              "      </button>\n",
              "      \n",
              "  <style>\n",
              "    .colab-df-container {\n",
              "      display:flex;\n",
              "      flex-wrap:wrap;\n",
              "      gap: 12px;\n",
              "    }\n",
              "\n",
              "    .colab-df-convert {\n",
              "      background-color: #E8F0FE;\n",
              "      border: none;\n",
              "      border-radius: 50%;\n",
              "      cursor: pointer;\n",
              "      display: none;\n",
              "      fill: #1967D2;\n",
              "      height: 32px;\n",
              "      padding: 0 0 0 0;\n",
              "      width: 32px;\n",
              "    }\n",
              "\n",
              "    .colab-df-convert:hover {\n",
              "      background-color: #E2EBFA;\n",
              "      box-shadow: 0px 1px 2px rgba(60, 64, 67, 0.3), 0px 1px 3px 1px rgba(60, 64, 67, 0.15);\n",
              "      fill: #174EA6;\n",
              "    }\n",
              "\n",
              "    [theme=dark] .colab-df-convert {\n",
              "      background-color: #3B4455;\n",
              "      fill: #D2E3FC;\n",
              "    }\n",
              "\n",
              "    [theme=dark] .colab-df-convert:hover {\n",
              "      background-color: #434B5C;\n",
              "      box-shadow: 0px 1px 3px 1px rgba(0, 0, 0, 0.15);\n",
              "      filter: drop-shadow(0px 1px 2px rgba(0, 0, 0, 0.3));\n",
              "      fill: #FFFFFF;\n",
              "    }\n",
              "  </style>\n",
              "\n",
              "      <script>\n",
              "        const buttonEl =\n",
              "          document.querySelector('#df-61fefabe-e502-47c7-adc7-c8994e9a49a8 button.colab-df-convert');\n",
              "        buttonEl.style.display =\n",
              "          google.colab.kernel.accessAllowed ? 'block' : 'none';\n",
              "\n",
              "        async function convertToInteractive(key) {\n",
              "          const element = document.querySelector('#df-61fefabe-e502-47c7-adc7-c8994e9a49a8');\n",
              "          const dataTable =\n",
              "            await google.colab.kernel.invokeFunction('convertToInteractive',\n",
              "                                                     [key], {});\n",
              "          if (!dataTable) return;\n",
              "\n",
              "          const docLinkHtml = 'Like what you see? Visit the ' +\n",
              "            '<a target=\"_blank\" href=https://colab.research.google.com/notebooks/data_table.ipynb>data table notebook</a>'\n",
              "            + ' to learn more about interactive tables.';\n",
              "          element.innerHTML = '';\n",
              "          dataTable['output_type'] = 'display_data';\n",
              "          await google.colab.output.renderOutput(dataTable, element);\n",
              "          const docLink = document.createElement('div');\n",
              "          docLink.innerHTML = docLinkHtml;\n",
              "          element.appendChild(docLink);\n",
              "        }\n",
              "      </script>\n",
              "    </div>\n",
              "  </div>\n",
              "  "
            ]
          },
          "metadata": {},
          "execution_count": 177
        }
      ]
    },
    {
      "cell_type": "code",
      "source": [
        "phoneme_df = (train_df['phoneme'].value_counts()/train_df.shape[0]).reset_index()\n",
        "phoneme_df"
      ],
      "metadata": {
        "colab": {
          "base_uri": "https://localhost:8080/",
          "height": 49
        },
        "id": "LYbq93wv8anF",
        "outputId": "3b4195f0-9a9e-4b1d-a89e-8b290fccdbc7"
      },
      "execution_count": 178,
      "outputs": [
        {
          "output_type": "execute_result",
          "data": {
            "text/plain": [
              "Empty DataFrame\n",
              "Columns: [index, phoneme]\n",
              "Index: []"
            ],
            "text/html": [
              "\n",
              "  <div id=\"df-6d65461d-bf50-4b39-9916-a1561c849c4d\">\n",
              "    <div class=\"colab-df-container\">\n",
              "      <div>\n",
              "<style scoped>\n",
              "    .dataframe tbody tr th:only-of-type {\n",
              "        vertical-align: middle;\n",
              "    }\n",
              "\n",
              "    .dataframe tbody tr th {\n",
              "        vertical-align: top;\n",
              "    }\n",
              "\n",
              "    .dataframe thead th {\n",
              "        text-align: right;\n",
              "    }\n",
              "</style>\n",
              "<table border=\"1\" class=\"dataframe\">\n",
              "  <thead>\n",
              "    <tr style=\"text-align: right;\">\n",
              "      <th></th>\n",
              "      <th>index</th>\n",
              "      <th>phoneme</th>\n",
              "    </tr>\n",
              "  </thead>\n",
              "  <tbody>\n",
              "  </tbody>\n",
              "</table>\n",
              "</div>\n",
              "      <button class=\"colab-df-convert\" onclick=\"convertToInteractive('df-6d65461d-bf50-4b39-9916-a1561c849c4d')\"\n",
              "              title=\"Convert this dataframe to an interactive table.\"\n",
              "              style=\"display:none;\">\n",
              "        \n",
              "  <svg xmlns=\"http://www.w3.org/2000/svg\" height=\"24px\"viewBox=\"0 0 24 24\"\n",
              "       width=\"24px\">\n",
              "    <path d=\"M0 0h24v24H0V0z\" fill=\"none\"/>\n",
              "    <path d=\"M18.56 5.44l.94 2.06.94-2.06 2.06-.94-2.06-.94-.94-2.06-.94 2.06-2.06.94zm-11 1L8.5 8.5l.94-2.06 2.06-.94-2.06-.94L8.5 2.5l-.94 2.06-2.06.94zm10 10l.94 2.06.94-2.06 2.06-.94-2.06-.94-.94-2.06-.94 2.06-2.06.94z\"/><path d=\"M17.41 7.96l-1.37-1.37c-.4-.4-.92-.59-1.43-.59-.52 0-1.04.2-1.43.59L10.3 9.45l-7.72 7.72c-.78.78-.78 2.05 0 2.83L4 21.41c.39.39.9.59 1.41.59.51 0 1.02-.2 1.41-.59l7.78-7.78 2.81-2.81c.8-.78.8-2.07 0-2.86zM5.41 20L4 18.59l7.72-7.72 1.47 1.35L5.41 20z\"/>\n",
              "  </svg>\n",
              "      </button>\n",
              "      \n",
              "  <style>\n",
              "    .colab-df-container {\n",
              "      display:flex;\n",
              "      flex-wrap:wrap;\n",
              "      gap: 12px;\n",
              "    }\n",
              "\n",
              "    .colab-df-convert {\n",
              "      background-color: #E8F0FE;\n",
              "      border: none;\n",
              "      border-radius: 50%;\n",
              "      cursor: pointer;\n",
              "      display: none;\n",
              "      fill: #1967D2;\n",
              "      height: 32px;\n",
              "      padding: 0 0 0 0;\n",
              "      width: 32px;\n",
              "    }\n",
              "\n",
              "    .colab-df-convert:hover {\n",
              "      background-color: #E2EBFA;\n",
              "      box-shadow: 0px 1px 2px rgba(60, 64, 67, 0.3), 0px 1px 3px 1px rgba(60, 64, 67, 0.15);\n",
              "      fill: #174EA6;\n",
              "    }\n",
              "\n",
              "    [theme=dark] .colab-df-convert {\n",
              "      background-color: #3B4455;\n",
              "      fill: #D2E3FC;\n",
              "    }\n",
              "\n",
              "    [theme=dark] .colab-df-convert:hover {\n",
              "      background-color: #434B5C;\n",
              "      box-shadow: 0px 1px 3px 1px rgba(0, 0, 0, 0.15);\n",
              "      filter: drop-shadow(0px 1px 2px rgba(0, 0, 0, 0.3));\n",
              "      fill: #FFFFFF;\n",
              "    }\n",
              "  </style>\n",
              "\n",
              "      <script>\n",
              "        const buttonEl =\n",
              "          document.querySelector('#df-6d65461d-bf50-4b39-9916-a1561c849c4d button.colab-df-convert');\n",
              "        buttonEl.style.display =\n",
              "          google.colab.kernel.accessAllowed ? 'block' : 'none';\n",
              "\n",
              "        async function convertToInteractive(key) {\n",
              "          const element = document.querySelector('#df-6d65461d-bf50-4b39-9916-a1561c849c4d');\n",
              "          const dataTable =\n",
              "            await google.colab.kernel.invokeFunction('convertToInteractive',\n",
              "                                                     [key], {});\n",
              "          if (!dataTable) return;\n",
              "\n",
              "          const docLinkHtml = 'Like what you see? Visit the ' +\n",
              "            '<a target=\"_blank\" href=https://colab.research.google.com/notebooks/data_table.ipynb>data table notebook</a>'\n",
              "            + ' to learn more about interactive tables.';\n",
              "          element.innerHTML = '';\n",
              "          dataTable['output_type'] = 'display_data';\n",
              "          await google.colab.output.renderOutput(dataTable, element);\n",
              "          const docLink = document.createElement('div');\n",
              "          docLink.innerHTML = docLinkHtml;\n",
              "          element.appendChild(docLink);\n",
              "        }\n",
              "      </script>\n",
              "    </div>\n",
              "  </div>\n",
              "  "
            ]
          },
          "metadata": {},
          "execution_count": 178
        }
      ]
    },
    {
      "cell_type": "code",
      "source": [
        "train_df.columns"
      ],
      "metadata": {
        "colab": {
          "base_uri": "https://localhost:8080/"
        },
        "id": "ivfsqb4s9UDW",
        "outputId": "0fbb8739-2449-4d9b-cc26-2abc796c803f"
      },
      "execution_count": 179,
      "outputs": [
        {
          "output_type": "execute_result",
          "data": {
            "text/plain": [
              "Index(['full_path', 'phoneme', 'num_frames', 'phoneme_start', 'phoneme_end',\n",
              "       'frame_start', 'frame_end', 'vert_lip_max', 'vert_lip_min',\n",
              "       'vert_lip_diff', 'vert_lip_std', 'vert_lip_mean', 'hor_lip_max',\n",
              "       'hor_lip_min', 'hor_lip_diff', 'hor_lip_std', 'hor_lip_mean',\n",
              "       'nose_chin_max', 'nose_chin_min', 'nose_chin_diff', 'nose_chin_std',\n",
              "       'nose_chin_mean', 'mouth_ratio_max', 'mouth_ratio_min',\n",
              "       'mouth_ratio_diff', 'mouth_ratio_std', 'mouth_ratio_mean'],\n",
              "      dtype='object')"
            ]
          },
          "metadata": {},
          "execution_count": 179
        }
      ]
    },
    {
      "cell_type": "code",
      "source": [
        "cols = ['vert_lip_max', 'vert_lip_min',\n",
        "       'vert_lip_diff', 'vert_lip_std', 'vert_lip_mean', 'hor_lip_max',\n",
        "       'hor_lip_min', 'hor_lip_diff', 'hor_lip_std', 'hor_lip_mean',\n",
        "       'nose_chin_max', 'nose_chin_min', 'nose_chin_diff', 'nose_chin_std',\n",
        "       'nose_chin_mean', 'mouth_ratio_max', 'mouth_ratio_min',\n",
        "       'mouth_ratio_diff', 'mouth_ratio_std', 'mouth_ratio_mean']\n",
        "for col in cols:\n",
        "    sns.kdeplot(x=col, hue='phoneme', data=train_df[(train_df['phoneme']=='T') | (train_df['phoneme']=='AH0')])\n",
        "    plt.show()"
      ],
      "metadata": {
        "colab": {
          "base_uri": "https://localhost:8080/",
          "height": 1000
        },
        "id": "ZKIFaFSM88v2",
        "outputId": "35420edb-fa8c-4e4f-cfdd-e45b0193206f"
      },
      "execution_count": 180,
      "outputs": [
        {
          "output_type": "display_data",
          "data": {
            "text/plain": [
              "<Figure size 432x288 with 1 Axes>"
            ],
            "image/png": "[encoded data removed]"
          },
          "metadata": {
            "needs_background": "light"
          }
        },
        {
          "output_type": "display_data",
          "data": {
            "text/plain": [
              "<Figure size 432x288 with 1 Axes>"
            ],
            "image/png": "[encoded data removed]"
          },
          "metadata": {
            "needs_background": "light"
          }
        },
        {
          "output_type": "display_data",
          "data": {
            "text/plain": [
              "<Figure size 432x288 with 1 Axes>"
            ],
            "image/png": "[encoded data removed]"
          },
          "metadata": {
            "needs_background": "light"
          }
        },
        {
          "output_type": "display_data",
          "data": {
            "text/plain": [
              "<Figure size 432x288 with 1 Axes>"
            ],
            "image/png": "[encoded data removed]"
          },
          "metadata": {
            "needs_background": "light"
          }
        },
        {
          "output_type": "display_data",
          "data": {
            "text/plain": [
              "<Figure size 432x288 with 1 Axes>"
            ],
            "image/png": "[encoded data removed]"
          },
          "metadata": {
            "needs_background": "light"
          }
        },
        {
          "output_type": "display_data",
          "data": {
            "text/plain": [
              "<Figure size 432x288 with 1 Axes>"
            ],
            "image/png": "[encoded data removed]"
          },
          "metadata": {
            "needs_background": "light"
          }
        },
        {
          "output_type": "display_data",
          "data": {
            "text/plain": [
              "<Figure size 432x288 with 1 Axes>"
            ],
            "image/png": "[encoded data removed]"
          },
          "metadata": {
            "needs_background": "light"
          }
        },
        {
          "output_type": "display_data",
          "data": {
            "text/plain": [
              "<Figure size 432x288 with 1 Axes>"
            ],
            "image/png": "[encoded data removed]"
          },
          "metadata": {
            "needs_background": "light"
          }
        },
        {
          "output_type": "display_data",
          "data": {
            "text/plain": [
              "<Figure size 432x288 with 1 Axes>"
            ],
            "image/png": "[encoded data removed]"
          },
          "metadata": {
            "needs_background": "light"
          }
        },
        {
          "output_type": "display_data",
          "data": {
            "text/plain": [
              "<Figure size 432x288 with 1 Axes>"
            ],
            "image/png": "[encoded data removed]"
          },
          "metadata": {
            "needs_background": "light"
          }
        },
        {
          "output_type": "display_data",
          "data": {
            "text/plain": [
              "<Figure size 432x288 with 1 Axes>"
            ],
            "image/png": "[encoded data removed]"
          },
          "metadata": {
            "needs_background": "light"
          }
        },
        {
          "output_type": "display_data",
          "data": {
            "text/plain": [
              "<Figure size 432x288 with 1 Axes>"
            ],
            "image/png": "[encoded data removed]"
          },
          "metadata": {
            "needs_background": "light"
          }
        },
        {
          "output_type": "display_data",
          "data": {
            "text/plain": [
              "<Figure size 432x288 with 1 Axes>"
            ],
            "image/png": "[encoded data removed]"
          },
          "metadata": {
            "needs_background": "light"
          }
        },
        {
          "output_type": "display_data",
          "data": {
            "text/plain": [
              "<Figure size 432x288 with 1 Axes>"
            ],
            "image/png": "[encoded data removed]"
          },
          "metadata": {
            "needs_background": "light"
          }
        },
        {
          "output_type": "display_data",
          "data": {
            "text/plain": [
              "<Figure size 432x288 with 1 Axes>"
            ],
            "image/png": "[encoded data removed]"
          },
          "metadata": {
            "needs_background": "light"
          }
        },
        {
          "output_type": "display_data",
          "data": {
            "text/plain": [
              "<Figure size 432x288 with 1 Axes>"
            ],
            "image/png": "[encoded data removed]"
          },
          "metadata": {
            "needs_background": "light"
          }
        },
        {
          "output_type": "display_data",
          "data": {
            "text/plain": [
              "<Figure size 432x288 with 1 Axes>"
            ],
            "image/png": "[encoded data removed]"
          },
          "metadata": {
            "needs_background": "light"
          }
        },
        {
          "output_type": "display_data",
          "data": {
            "text/plain": [
              "<Figure size 432x288 with 1 Axes>"
            ],
            "image/png": "[encoded data removed]"
          },
          "metadata": {
            "needs_background": "light"
          }
        },
        {
          "output_type": "display_data",
          "data": {
            "text/plain": [
              "<Figure size 432x288 with 1 Axes>"
            ],
            "image/png": "[encoded data removed]"
          },
          "metadata": {
            "needs_background": "light"
          }
        },
        {
          "output_type": "display_data",
          "data": {
            "text/plain": [
              "<Figure size 432x288 with 1 Axes>"
            ],
            "image/png": "[encoded data removed]"
          },
          "metadata": {
            "needs_background": "light"
          }
        }
      ]
    },
    {
      "cell_type": "code",
      "source": [
        "#train_df[(train_df['phoneme']=='T') | train_df['phoneme']=='AH0']\n",
        "train_df[(train_df['phoneme']=='T')]"
      ],
      "metadata": {
        "colab": {
          "base_uri": "https://localhost:8080/",
          "height": 143
        },
        "id": "3-ak3hBc9trq",
        "outputId": "6cc336d8-9d19-40e7-e516-66021dd571ad"
      },
      "execution_count": 181,
      "outputs": [
        {
          "output_type": "execute_result",
          "data": {
            "text/plain": [
              "Empty DataFrame\n",
              "Columns: [full_path, phoneme, num_frames, phoneme_start, phoneme_end, frame_start, frame_end, vert_lip_max, vert_lip_min, vert_lip_diff, vert_lip_std, vert_lip_mean, hor_lip_max, hor_lip_min, hor_lip_diff, hor_lip_std, hor_lip_mean, nose_chin_max, nose_chin_min, nose_chin_diff, nose_chin_std, nose_chin_mean, mouth_ratio_max, mouth_ratio_min, mouth_ratio_diff, mouth_ratio_std, mouth_ratio_mean]\n",
              "Index: []\n",
              "\n",
              "[0 rows x 27 columns]"
            ],
            "text/html": [
              "\n",
              "  <div id=\"df-0478627a-760f-46f5-87be-2c9c6a45d19b\">\n",
              "    <div class=\"colab-df-container\">\n",
              "      <div>\n",
              "<style scoped>\n",
              "    .dataframe tbody tr th:only-of-type {\n",
              "        vertical-align: middle;\n",
              "    }\n",
              "\n",
              "    .dataframe tbody tr th {\n",
              "        vertical-align: top;\n",
              "    }\n",
              "\n",
              "    .dataframe thead th {\n",
              "        text-align: right;\n",
              "    }\n",
              "</style>\n",
              "<table border=\"1\" class=\"dataframe\">\n",
              "  <thead>\n",
              "    <tr style=\"text-align: right;\">\n",
              "      <th></th>\n",
              "      <th>full_path</th>\n",
              "      <th>phoneme</th>\n",
              "      <th>num_frames</th>\n",
              "      <th>phoneme_start</th>\n",
              "      <th>phoneme_end</th>\n",
              "      <th>frame_start</th>\n",
              "      <th>frame_end</th>\n",
              "      <th>vert_lip_max</th>\n",
              "      <th>vert_lip_min</th>\n",
              "      <th>vert_lip_diff</th>\n",
              "      <th>...</th>\n",
              "      <th>nose_chin_max</th>\n",
              "      <th>nose_chin_min</th>\n",
              "      <th>nose_chin_diff</th>\n",
              "      <th>nose_chin_std</th>\n",
              "      <th>nose_chin_mean</th>\n",
              "      <th>mouth_ratio_max</th>\n",
              "      <th>mouth_ratio_min</th>\n",
              "      <th>mouth_ratio_diff</th>\n",
              "      <th>mouth_ratio_std</th>\n",
              "      <th>mouth_ratio_mean</th>\n",
              "    </tr>\n",
              "  </thead>\n",
              "  <tbody>\n",
              "  </tbody>\n",
              "</table>\n",
              "<p>0 rows × 27 columns</p>\n",
              "</div>\n",
              "      <button class=\"colab-df-convert\" onclick=\"convertToInteractive('df-0478627a-760f-46f5-87be-2c9c6a45d19b')\"\n",
              "              title=\"Convert this dataframe to an interactive table.\"\n",
              "              style=\"display:none;\">\n",
              "        \n",
              "  <svg xmlns=\"http://www.w3.org/2000/svg\" height=\"24px\"viewBox=\"0 0 24 24\"\n",
              "       width=\"24px\">\n",
              "    <path d=\"M0 0h24v24H0V0z\" fill=\"none\"/>\n",
              "    <path d=\"M18.56 5.44l.94 2.06.94-2.06 2.06-.94-2.06-.94-.94-2.06-.94 2.06-2.06.94zm-11 1L8.5 8.5l.94-2.06 2.06-.94-2.06-.94L8.5 2.5l-.94 2.06-2.06.94zm10 10l.94 2.06.94-2.06 2.06-.94-2.06-.94-.94-2.06-.94 2.06-2.06.94z\"/><path d=\"M17.41 7.96l-1.37-1.37c-.4-.4-.92-.59-1.43-.59-.52 0-1.04.2-1.43.59L10.3 9.45l-7.72 7.72c-.78.78-.78 2.05 0 2.83L4 21.41c.39.39.9.59 1.41.59.51 0 1.02-.2 1.41-.59l7.78-7.78 2.81-2.81c.8-.78.8-2.07 0-2.86zM5.41 20L4 18.59l7.72-7.72 1.47 1.35L5.41 20z\"/>\n",
              "  </svg>\n",
              "      </button>\n",
              "      \n",
              "  <style>\n",
              "    .colab-df-container {\n",
              "      display:flex;\n",
              "      flex-wrap:wrap;\n",
              "      gap: 12px;\n",
              "    }\n",
              "\n",
              "    .colab-df-convert {\n",
              "      background-color: #E8F0FE;\n",
              "      border: none;\n",
              "      border-radius: 50%;\n",
              "      cursor: pointer;\n",
              "      display: none;\n",
              "      fill: #1967D2;\n",
              "      height: 32px;\n",
              "      padding: 0 0 0 0;\n",
              "      width: 32px;\n",
              "    }\n",
              "\n",
              "    .colab-df-convert:hover {\n",
              "      background-color: #E2EBFA;\n",
              "      box-shadow: 0px 1px 2px rgba(60, 64, 67, 0.3), 0px 1px 3px 1px rgba(60, 64, 67, 0.15);\n",
              "      fill: #174EA6;\n",
              "    }\n",
              "\n",
              "    [theme=dark] .colab-df-convert {\n",
              "      background-color: #3B4455;\n",
              "      fill: #D2E3FC;\n",
              "    }\n",
              "\n",
              "    [theme=dark] .colab-df-convert:hover {\n",
              "      background-color: #434B5C;\n",
              "      box-shadow: 0px 1px 3px 1px rgba(0, 0, 0, 0.15);\n",
              "      filter: drop-shadow(0px 1px 2px rgba(0, 0, 0, 0.3));\n",
              "      fill: #FFFFFF;\n",
              "    }\n",
              "  </style>\n",
              "\n",
              "      <script>\n",
              "        const buttonEl =\n",
              "          document.querySelector('#df-0478627a-760f-46f5-87be-2c9c6a45d19b button.colab-df-convert');\n",
              "        buttonEl.style.display =\n",
              "          google.colab.kernel.accessAllowed ? 'block' : 'none';\n",
              "\n",
              "        async function convertToInteractive(key) {\n",
              "          const element = document.querySelector('#df-0478627a-760f-46f5-87be-2c9c6a45d19b');\n",
              "          const dataTable =\n",
              "            await google.colab.kernel.invokeFunction('convertToInteractive',\n",
              "                                                     [key], {});\n",
              "          if (!dataTable) return;\n",
              "\n",
              "          const docLinkHtml = 'Like what you see? Visit the ' +\n",
              "            '<a target=\"_blank\" href=https://colab.research.google.com/notebooks/data_table.ipynb>data table notebook</a>'\n",
              "            + ' to learn more about interactive tables.';\n",
              "          element.innerHTML = '';\n",
              "          dataTable['output_type'] = 'display_data';\n",
              "          await google.colab.output.renderOutput(dataTable, element);\n",
              "          const docLink = document.createElement('div');\n",
              "          docLink.innerHTML = docLinkHtml;\n",
              "          element.appendChild(docLink);\n",
              "        }\n",
              "      </script>\n",
              "    </div>\n",
              "  </div>\n",
              "  "
            ]
          },
          "metadata": {},
          "execution_count": 181
        }
      ]
    }
  ]
}