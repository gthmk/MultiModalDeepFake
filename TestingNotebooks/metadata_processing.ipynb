{
  "nbformat": 4,
  "nbformat_minor": 0,
  "metadata": {
    "colab": {
      "provenance": [],
      "authorship_tag": "ABX9TyN9yFnQxi31n/pSUo9PSu7l",
      "include_colab_link": true
    },
    "kernelspec": {
      "name": "python3",
      "display_name": "Python 3"
    },
    "language_info": {
      "name": "python"
    }
  },
  "cells": [
    {
      "cell_type": "markdown",
      "metadata": {
        "id": "view-in-github",
        "colab_type": "text"
      },
      "source": [
        "<a href=\"https://colab.research.google.com/github/romitbarua/MultiModalDeepFake/blob/main/TestingNotebooks/metadata_processing.ipynb\" target=\"_parent\"><img src=\"https://colab.research.google.com/assets/colab-badge.svg\" alt=\"Open In Colab\"/></a>"
      ]
    },
    {
      "cell_type": "code",
      "execution_count": null,
      "metadata": {
        "colab": {
          "base_uri": "https://localhost:8080/"
        },
        "id": "m8s31f49_zM3",
        "outputId": "83881887-8eb9-4b92-bf02-cfb9a9e40a66"
      },
      "outputs": [
        {
          "output_type": "stream",
          "name": "stdout",
          "text": [
            "Mounted at /content/drive/\n"
          ]
        }
      ],
      "source": [
        "from google.colab import drive\n",
        "drive.mount('/content/drive/')"
      ]
    },
    {
      "cell_type": "code",
      "source": [
        "metadata_file = r'/content/drive/MyDrive/FakeAVCeleb/FakeAVCeleb_v1.2/meta_data.csv'"
      ],
      "metadata": {
        "id": "JSemjnmI__h1"
      },
      "execution_count": null,
      "outputs": []
    },
    {
      "cell_type": "code",
      "source": [
        "import pandas as pd"
      ],
      "metadata": {
        "id": "Pt6Fn4cMAXet"
      },
      "execution_count": null,
      "outputs": []
    },
    {
      "cell_type": "code",
      "source": [
        "metadata_df = pd.read_csv(metadata_file)"
      ],
      "metadata": {
        "id": "yo-4OEJHAbn1"
      },
      "execution_count": null,
      "outputs": []
    },
    {
      "cell_type": "code",
      "source": [
        "relative_path = '/content/drive/MyDrive/FakeAVCeleb/FakeAVCeleb_v1.2/'\n",
        "\n",
        "metadata_df =  metadata_df.rename({'path': 'filename', 'Unnamed: 9': 'path'}, axis='columns')\n",
        "\n",
        "real_df = metadata_df[metadata_df.method.isin(['real'])]\n",
        "wav2lip_df = metadata_df[metadata_df.method.isin(['real', 'wav2lip'])]\n"
      ],
      "metadata": {
        "id": "z2c2pmgeD9UK"
      },
      "execution_count": null,
      "outputs": []
    },
    {
      "cell_type": "code",
      "source": [
        "def generate_file_path(relative_path, paths, filenames):\n",
        "  path_terms_list = [path.split('/') for path in paths]\n",
        "  path_terms_list = [path_terms[1:] for path_terms in path_terms_list]\n",
        "\n",
        "  filepaths_list = []\n",
        "\n",
        "  for filename, path_terms in zip(filenames, path_terms_list):\n",
        "    filepaths_list.append(relative_path + '/'.join(path_terms) + '/' + filename)\n",
        "\n",
        "  return filepaths_list"
      ],
      "metadata": {
        "id": "19bLSFmKMIl5"
      },
      "execution_count": null,
      "outputs": []
    },
    {
      "cell_type": "code",
      "source": [
        "paths = wav2lip_df.path.to_list()\n",
        "filenames = wav2lip_df.filename.to_list()\n",
        "filepaths_list = generate_file_path(relative_path, paths, filenames)"
      ],
      "metadata": {
        "id": "NnPgb3KkM_0v"
      },
      "execution_count": null,
      "outputs": []
    },
    {
      "cell_type": "code",
      "source": [
        "#wav2lip_df['filepath'] = filepaths_list\n",
        "wav2lip_df = wav2lip_df.assign(filepath = filepaths_list)"
      ],
      "metadata": {
        "id": "dSlg78GXUd40"
      },
      "execution_count": null,
      "outputs": []
    },
    {
      "cell_type": "code",
      "source": [
        "print(wav2lip_df.iloc[-1])"
      ],
      "metadata": {
        "colab": {
          "base_uri": "https://localhost:8080/"
        },
        "id": "nCBYnuVtWbd-",
        "outputId": "6ce0412e-91c0-4c8e-854a-619e45760314"
      },
      "execution_count": null,
      "outputs": [
        {
          "output_type": "stream",
          "name": "stdout",
          "text": [
            "source                                                id07689\n",
            "target1                                               id07686\n",
            "target2                                                     -\n",
            "method                                                wav2lip\n",
            "category                                                    D\n",
            "type                                      FakeVideo-FakeAudio\n",
            "race                                            Asian (South)\n",
            "gender                                                  women\n",
            "filename                           00028_id07686_wavtolip.mp4\n",
            "path        FakeAVCeleb/FakeVideo-FakeAudio/Asian (South)/...\n",
            "filepath    /content/drive/MyDrive/FakeAVCeleb/FakeAVCeleb...\n",
            "Name: 21565, dtype: object\n"
          ]
        }
      ]
    },
    {
      "cell_type": "code",
      "source": [
        "#wav2lip_df[['filename','path','filepath']]"
      ],
      "metadata": {
        "id": "QXoxhxVnRtQQ"
      },
      "execution_count": null,
      "outputs": []
    },
    {
      "cell_type": "code",
      "source": [
        "real_df.head()"
      ],
      "metadata": {
        "colab": {
          "base_uri": "https://localhost:8080/",
          "height": 337
        },
        "id": "Zi6mMbE5WyjV",
        "outputId": "4006bda9-2ec0-4378-badf-3519e19cd279"
      },
      "execution_count": null,
      "outputs": [
        {
          "output_type": "execute_result",
          "data": {
            "text/plain": [
              "    source target1 target2 method category                 type     race  \\\n",
              "0  id00076       -       -   real        A  RealVideo-RealAudio  African   \n",
              "1  id00166       -       -   real        A  RealVideo-RealAudio  African   \n",
              "2  id00173       -       -   real        A  RealVideo-RealAudio  African   \n",
              "3  id00366       -       -   real        A  RealVideo-RealAudio  African   \n",
              "4  id00391       -       -   real        A  RealVideo-RealAudio  African   \n",
              "\n",
              "  gender   filename                                               path  \n",
              "0    men  00109.mp4  FakeAVCeleb/RealVideo-RealAudio/African/men/id...  \n",
              "1    men  00010.mp4  FakeAVCeleb/RealVideo-RealAudio/African/men/id...  \n",
              "2    men  00118.mp4  FakeAVCeleb/RealVideo-RealAudio/African/men/id...  \n",
              "3    men  00118.mp4  FakeAVCeleb/RealVideo-RealAudio/African/men/id...  \n",
              "4    men  00052.mp4  FakeAVCeleb/RealVideo-RealAudio/African/men/id...  "
            ],
            "text/html": [
              "\n",
              "  <div id=\"df-c0e08529-262d-4296-ad5b-c15b20814d6d\">\n",
              "    <div class=\"colab-df-container\">\n",
              "      <div>\n",
              "<style scoped>\n",
              "    .dataframe tbody tr th:only-of-type {\n",
              "        vertical-align: middle;\n",
              "    }\n",
              "\n",
              "    .dataframe tbody tr th {\n",
              "        vertical-align: top;\n",
              "    }\n",
              "\n",
              "    .dataframe thead th {\n",
              "        text-align: right;\n",
              "    }\n",
              "</style>\n",
              "<table border=\"1\" class=\"dataframe\">\n",
              "  <thead>\n",
              "    <tr style=\"text-align: right;\">\n",
              "      <th></th>\n",
              "      <th>source</th>\n",
              "      <th>target1</th>\n",
              "      <th>target2</th>\n",
              "      <th>method</th>\n",
              "      <th>category</th>\n",
              "      <th>type</th>\n",
              "      <th>race</th>\n",
              "      <th>gender</th>\n",
              "      <th>filename</th>\n",
              "      <th>path</th>\n",
              "    </tr>\n",
              "  </thead>\n",
              "  <tbody>\n",
              "    <tr>\n",
              "      <th>0</th>\n",
              "      <td>id00076</td>\n",
              "      <td>-</td>\n",
              "      <td>-</td>\n",
              "      <td>real</td>\n",
              "      <td>A</td>\n",
              "      <td>RealVideo-RealAudio</td>\n",
              "      <td>African</td>\n",
              "      <td>men</td>\n",
              "      <td>00109.mp4</td>\n",
              "      <td>FakeAVCeleb/RealVideo-RealAudio/African/men/id...</td>\n",
              "    </tr>\n",
              "    <tr>\n",
              "      <th>1</th>\n",
              "      <td>id00166</td>\n",
              "      <td>-</td>\n",
              "      <td>-</td>\n",
              "      <td>real</td>\n",
              "      <td>A</td>\n",
              "      <td>RealVideo-RealAudio</td>\n",
              "      <td>African</td>\n",
              "      <td>men</td>\n",
              "      <td>00010.mp4</td>\n",
              "      <td>FakeAVCeleb/RealVideo-RealAudio/African/men/id...</td>\n",
              "    </tr>\n",
              "    <tr>\n",
              "      <th>2</th>\n",
              "      <td>id00173</td>\n",
              "      <td>-</td>\n",
              "      <td>-</td>\n",
              "      <td>real</td>\n",
              "      <td>A</td>\n",
              "      <td>RealVideo-RealAudio</td>\n",
              "      <td>African</td>\n",
              "      <td>men</td>\n",
              "      <td>00118.mp4</td>\n",
              "      <td>FakeAVCeleb/RealVideo-RealAudio/African/men/id...</td>\n",
              "    </tr>\n",
              "    <tr>\n",
              "      <th>3</th>\n",
              "      <td>id00366</td>\n",
              "      <td>-</td>\n",
              "      <td>-</td>\n",
              "      <td>real</td>\n",
              "      <td>A</td>\n",
              "      <td>RealVideo-RealAudio</td>\n",
              "      <td>African</td>\n",
              "      <td>men</td>\n",
              "      <td>00118.mp4</td>\n",
              "      <td>FakeAVCeleb/RealVideo-RealAudio/African/men/id...</td>\n",
              "    </tr>\n",
              "    <tr>\n",
              "      <th>4</th>\n",
              "      <td>id00391</td>\n",
              "      <td>-</td>\n",
              "      <td>-</td>\n",
              "      <td>real</td>\n",
              "      <td>A</td>\n",
              "      <td>RealVideo-RealAudio</td>\n",
              "      <td>African</td>\n",
              "      <td>men</td>\n",
              "      <td>00052.mp4</td>\n",
              "      <td>FakeAVCeleb/RealVideo-RealAudio/African/men/id...</td>\n",
              "    </tr>\n",
              "  </tbody>\n",
              "</table>\n",
              "</div>\n",
              "      <button class=\"colab-df-convert\" onclick=\"convertToInteractive('df-c0e08529-262d-4296-ad5b-c15b20814d6d')\"\n",
              "              title=\"Convert this dataframe to an interactive table.\"\n",
              "              style=\"display:none;\">\n",
              "        \n",
              "  <svg xmlns=\"http://www.w3.org/2000/svg\" height=\"24px\"viewBox=\"0 0 24 24\"\n",
              "       width=\"24px\">\n",
              "    <path d=\"M0 0h24v24H0V0z\" fill=\"none\"/>\n",
              "    <path d=\"M18.56 5.44l.94 2.06.94-2.06 2.06-.94-2.06-.94-.94-2.06-.94 2.06-2.06.94zm-11 1L8.5 8.5l.94-2.06 2.06-.94-2.06-.94L8.5 2.5l-.94 2.06-2.06.94zm10 10l.94 2.06.94-2.06 2.06-.94-2.06-.94-.94-2.06-.94 2.06-2.06.94z\"/><path d=\"M17.41 7.96l-1.37-1.37c-.4-.4-.92-.59-1.43-.59-.52 0-1.04.2-1.43.59L10.3 9.45l-7.72 7.72c-.78.78-.78 2.05 0 2.83L4 21.41c.39.39.9.59 1.41.59.51 0 1.02-.2 1.41-.59l7.78-7.78 2.81-2.81c.8-.78.8-2.07 0-2.86zM5.41 20L4 18.59l7.72-7.72 1.47 1.35L5.41 20z\"/>\n",
              "  </svg>\n",
              "      </button>\n",
              "      \n",
              "  <style>\n",
              "    .colab-df-container {\n",
              "      display:flex;\n",
              "      flex-wrap:wrap;\n",
              "      gap: 12px;\n",
              "    }\n",
              "\n",
              "    .colab-df-convert {\n",
              "      background-color: #E8F0FE;\n",
              "      border: none;\n",
              "      border-radius: 50%;\n",
              "      cursor: pointer;\n",
              "      display: none;\n",
              "      fill: #1967D2;\n",
              "      height: 32px;\n",
              "      padding: 0 0 0 0;\n",
              "      width: 32px;\n",
              "    }\n",
              "\n",
              "    .colab-df-convert:hover {\n",
              "      background-color: #E2EBFA;\n",
              "      box-shadow: 0px 1px 2px rgba(60, 64, 67, 0.3), 0px 1px 3px 1px rgba(60, 64, 67, 0.15);\n",
              "      fill: #174EA6;\n",
              "    }\n",
              "\n",
              "    [theme=dark] .colab-df-convert {\n",
              "      background-color: #3B4455;\n",
              "      fill: #D2E3FC;\n",
              "    }\n",
              "\n",
              "    [theme=dark] .colab-df-convert:hover {\n",
              "      background-color: #434B5C;\n",
              "      box-shadow: 0px 1px 3px 1px rgba(0, 0, 0, 0.15);\n",
              "      filter: drop-shadow(0px 1px 2px rgba(0, 0, 0, 0.3));\n",
              "      fill: #FFFFFF;\n",
              "    }\n",
              "  </style>\n",
              "\n",
              "      <script>\n",
              "        const buttonEl =\n",
              "          document.querySelector('#df-c0e08529-262d-4296-ad5b-c15b20814d6d button.colab-df-convert');\n",
              "        buttonEl.style.display =\n",
              "          google.colab.kernel.accessAllowed ? 'block' : 'none';\n",
              "\n",
              "        async function convertToInteractive(key) {\n",
              "          const element = document.querySelector('#df-c0e08529-262d-4296-ad5b-c15b20814d6d');\n",
              "          const dataTable =\n",
              "            await google.colab.kernel.invokeFunction('convertToInteractive',\n",
              "                                                     [key], {});\n",
              "          if (!dataTable) return;\n",
              "\n",
              "          const docLinkHtml = 'Like what you see? Visit the ' +\n",
              "            '<a target=\"_blank\" href=https://colab.research.google.com/notebooks/data_table.ipynb>data table notebook</a>'\n",
              "            + ' to learn more about interactive tables.';\n",
              "          element.innerHTML = '';\n",
              "          dataTable['output_type'] = 'display_data';\n",
              "          await google.colab.output.renderOutput(dataTable, element);\n",
              "          const docLink = document.createElement('div');\n",
              "          docLink.innerHTML = docLinkHtml;\n",
              "          element.appendChild(docLink);\n",
              "        }\n",
              "      </script>\n",
              "    </div>\n",
              "  </div>\n",
              "  "
            ]
          },
          "metadata": {},
          "execution_count": 11
        }
      ]
    },
    {
      "cell_type": "code",
      "source": [
        "wav2lip_df.head()"
      ],
      "metadata": {
        "colab": {
          "base_uri": "https://localhost:8080/",
          "height": 357
        },
        "id": "YCOpkkTBYFlJ",
        "outputId": "0ef81517-9c1c-469e-d94f-0ef4f6b275e1"
      },
      "execution_count": null,
      "outputs": [
        {
          "output_type": "execute_result",
          "data": {
            "text/plain": [
              "    source target1 target2 method category                 type     race  \\\n",
              "0  id00076       -       -   real        A  RealVideo-RealAudio  African   \n",
              "1  id00166       -       -   real        A  RealVideo-RealAudio  African   \n",
              "2  id00173       -       -   real        A  RealVideo-RealAudio  African   \n",
              "3  id00366       -       -   real        A  RealVideo-RealAudio  African   \n",
              "4  id00391       -       -   real        A  RealVideo-RealAudio  African   \n",
              "\n",
              "  gender   filename                                               path  \\\n",
              "0    men  00109.mp4  FakeAVCeleb/RealVideo-RealAudio/African/men/id...   \n",
              "1    men  00010.mp4  FakeAVCeleb/RealVideo-RealAudio/African/men/id...   \n",
              "2    men  00118.mp4  FakeAVCeleb/RealVideo-RealAudio/African/men/id...   \n",
              "3    men  00118.mp4  FakeAVCeleb/RealVideo-RealAudio/African/men/id...   \n",
              "4    men  00052.mp4  FakeAVCeleb/RealVideo-RealAudio/African/men/id...   \n",
              "\n",
              "                                            filepath  \n",
              "0  /content/drive/MyDrive/FakeAVCeleb/FakeAVCeleb...  \n",
              "1  /content/drive/MyDrive/FakeAVCeleb/FakeAVCeleb...  \n",
              "2  /content/drive/MyDrive/FakeAVCeleb/FakeAVCeleb...  \n",
              "3  /content/drive/MyDrive/FakeAVCeleb/FakeAVCeleb...  \n",
              "4  /content/drive/MyDrive/FakeAVCeleb/FakeAVCeleb...  "
            ],
            "text/html": [
              "\n",
              "  <div id=\"df-7dad7a3c-9fdc-44ee-85c1-b7ff82b340f4\">\n",
              "    <div class=\"colab-df-container\">\n",
              "      <div>\n",
              "<style scoped>\n",
              "    .dataframe tbody tr th:only-of-type {\n",
              "        vertical-align: middle;\n",
              "    }\n",
              "\n",
              "    .dataframe tbody tr th {\n",
              "        vertical-align: top;\n",
              "    }\n",
              "\n",
              "    .dataframe thead th {\n",
              "        text-align: right;\n",
              "    }\n",
              "</style>\n",
              "<table border=\"1\" class=\"dataframe\">\n",
              "  <thead>\n",
              "    <tr style=\"text-align: right;\">\n",
              "      <th></th>\n",
              "      <th>source</th>\n",
              "      <th>target1</th>\n",
              "      <th>target2</th>\n",
              "      <th>method</th>\n",
              "      <th>category</th>\n",
              "      <th>type</th>\n",
              "      <th>race</th>\n",
              "      <th>gender</th>\n",
              "      <th>filename</th>\n",
              "      <th>path</th>\n",
              "      <th>filepath</th>\n",
              "    </tr>\n",
              "  </thead>\n",
              "  <tbody>\n",
              "    <tr>\n",
              "      <th>0</th>\n",
              "      <td>id00076</td>\n",
              "      <td>-</td>\n",
              "      <td>-</td>\n",
              "      <td>real</td>\n",
              "      <td>A</td>\n",
              "      <td>RealVideo-RealAudio</td>\n",
              "      <td>African</td>\n",
              "      <td>men</td>\n",
              "      <td>00109.mp4</td>\n",
              "      <td>FakeAVCeleb/RealVideo-RealAudio/African/men/id...</td>\n",
              "      <td>/content/drive/MyDrive/FakeAVCeleb/FakeAVCeleb...</td>\n",
              "    </tr>\n",
              "    <tr>\n",
              "      <th>1</th>\n",
              "      <td>id00166</td>\n",
              "      <td>-</td>\n",
              "      <td>-</td>\n",
              "      <td>real</td>\n",
              "      <td>A</td>\n",
              "      <td>RealVideo-RealAudio</td>\n",
              "      <td>African</td>\n",
              "      <td>men</td>\n",
              "      <td>00010.mp4</td>\n",
              "      <td>FakeAVCeleb/RealVideo-RealAudio/African/men/id...</td>\n",
              "      <td>/content/drive/MyDrive/FakeAVCeleb/FakeAVCeleb...</td>\n",
              "    </tr>\n",
              "    <tr>\n",
              "      <th>2</th>\n",
              "      <td>id00173</td>\n",
              "      <td>-</td>\n",
              "      <td>-</td>\n",
              "      <td>real</td>\n",
              "      <td>A</td>\n",
              "      <td>RealVideo-RealAudio</td>\n",
              "      <td>African</td>\n",
              "      <td>men</td>\n",
              "      <td>00118.mp4</td>\n",
              "      <td>FakeAVCeleb/RealVideo-RealAudio/African/men/id...</td>\n",
              "      <td>/content/drive/MyDrive/FakeAVCeleb/FakeAVCeleb...</td>\n",
              "    </tr>\n",
              "    <tr>\n",
              "      <th>3</th>\n",
              "      <td>id00366</td>\n",
              "      <td>-</td>\n",
              "      <td>-</td>\n",
              "      <td>real</td>\n",
              "      <td>A</td>\n",
              "      <td>RealVideo-RealAudio</td>\n",
              "      <td>African</td>\n",
              "      <td>men</td>\n",
              "      <td>00118.mp4</td>\n",
              "      <td>FakeAVCeleb/RealVideo-RealAudio/African/men/id...</td>\n",
              "      <td>/content/drive/MyDrive/FakeAVCeleb/FakeAVCeleb...</td>\n",
              "    </tr>\n",
              "    <tr>\n",
              "      <th>4</th>\n",
              "      <td>id00391</td>\n",
              "      <td>-</td>\n",
              "      <td>-</td>\n",
              "      <td>real</td>\n",
              "      <td>A</td>\n",
              "      <td>RealVideo-RealAudio</td>\n",
              "      <td>African</td>\n",
              "      <td>men</td>\n",
              "      <td>00052.mp4</td>\n",
              "      <td>FakeAVCeleb/RealVideo-RealAudio/African/men/id...</td>\n",
              "      <td>/content/drive/MyDrive/FakeAVCeleb/FakeAVCeleb...</td>\n",
              "    </tr>\n",
              "  </tbody>\n",
              "</table>\n",
              "</div>\n",
              "      <button class=\"colab-df-convert\" onclick=\"convertToInteractive('df-7dad7a3c-9fdc-44ee-85c1-b7ff82b340f4')\"\n",
              "              title=\"Convert this dataframe to an interactive table.\"\n",
              "              style=\"display:none;\">\n",
              "        \n",
              "  <svg xmlns=\"http://www.w3.org/2000/svg\" height=\"24px\"viewBox=\"0 0 24 24\"\n",
              "       width=\"24px\">\n",
              "    <path d=\"M0 0h24v24H0V0z\" fill=\"none\"/>\n",
              "    <path d=\"M18.56 5.44l.94 2.06.94-2.06 2.06-.94-2.06-.94-.94-2.06-.94 2.06-2.06.94zm-11 1L8.5 8.5l.94-2.06 2.06-.94-2.06-.94L8.5 2.5l-.94 2.06-2.06.94zm10 10l.94 2.06.94-2.06 2.06-.94-2.06-.94-.94-2.06-.94 2.06-2.06.94z\"/><path d=\"M17.41 7.96l-1.37-1.37c-.4-.4-.92-.59-1.43-.59-.52 0-1.04.2-1.43.59L10.3 9.45l-7.72 7.72c-.78.78-.78 2.05 0 2.83L4 21.41c.39.39.9.59 1.41.59.51 0 1.02-.2 1.41-.59l7.78-7.78 2.81-2.81c.8-.78.8-2.07 0-2.86zM5.41 20L4 18.59l7.72-7.72 1.47 1.35L5.41 20z\"/>\n",
              "  </svg>\n",
              "      </button>\n",
              "      \n",
              "  <style>\n",
              "    .colab-df-container {\n",
              "      display:flex;\n",
              "      flex-wrap:wrap;\n",
              "      gap: 12px;\n",
              "    }\n",
              "\n",
              "    .colab-df-convert {\n",
              "      background-color: #E8F0FE;\n",
              "      border: none;\n",
              "      border-radius: 50%;\n",
              "      cursor: pointer;\n",
              "      display: none;\n",
              "      fill: #1967D2;\n",
              "      height: 32px;\n",
              "      padding: 0 0 0 0;\n",
              "      width: 32px;\n",
              "    }\n",
              "\n",
              "    .colab-df-convert:hover {\n",
              "      background-color: #E2EBFA;\n",
              "      box-shadow: 0px 1px 2px rgba(60, 64, 67, 0.3), 0px 1px 3px 1px rgba(60, 64, 67, 0.15);\n",
              "      fill: #174EA6;\n",
              "    }\n",
              "\n",
              "    [theme=dark] .colab-df-convert {\n",
              "      background-color: #3B4455;\n",
              "      fill: #D2E3FC;\n",
              "    }\n",
              "\n",
              "    [theme=dark] .colab-df-convert:hover {\n",
              "      background-color: #434B5C;\n",
              "      box-shadow: 0px 1px 3px 1px rgba(0, 0, 0, 0.15);\n",
              "      filter: drop-shadow(0px 1px 2px rgba(0, 0, 0, 0.3));\n",
              "      fill: #FFFFFF;\n",
              "    }\n",
              "  </style>\n",
              "\n",
              "      <script>\n",
              "        const buttonEl =\n",
              "          document.querySelector('#df-7dad7a3c-9fdc-44ee-85c1-b7ff82b340f4 button.colab-df-convert');\n",
              "        buttonEl.style.display =\n",
              "          google.colab.kernel.accessAllowed ? 'block' : 'none';\n",
              "\n",
              "        async function convertToInteractive(key) {\n",
              "          const element = document.querySelector('#df-7dad7a3c-9fdc-44ee-85c1-b7ff82b340f4');\n",
              "          const dataTable =\n",
              "            await google.colab.kernel.invokeFunction('convertToInteractive',\n",
              "                                                     [key], {});\n",
              "          if (!dataTable) return;\n",
              "\n",
              "          const docLinkHtml = 'Like what you see? Visit the ' +\n",
              "            '<a target=\"_blank\" href=https://colab.research.google.com/notebooks/data_table.ipynb>data table notebook</a>'\n",
              "            + ' to learn more about interactive tables.';\n",
              "          element.innerHTML = '';\n",
              "          dataTable['output_type'] = 'display_data';\n",
              "          await google.colab.output.renderOutput(dataTable, element);\n",
              "          const docLink = document.createElement('div');\n",
              "          docLink.innerHTML = docLinkHtml;\n",
              "          element.appendChild(docLink);\n",
              "        }\n",
              "      </script>\n",
              "    </div>\n",
              "  </div>\n",
              "  "
            ]
          },
          "metadata": {},
          "execution_count": 12
        }
      ]
    },
    {
      "cell_type": "code",
      "source": [
        "#we only need to consider target 1\n",
        "len(wav2lip_df[wav2lip_df['method']=='wav2lip'].target1.unique()), len(wav2lip_df[wav2lip_df['method']=='wav2lip'].target2.unique())"
      ],
      "metadata": {
        "colab": {
          "base_uri": "https://localhost:8080/"
        },
        "id": "m77V2P6HYEkg",
        "outputId": "d7948cc1-94f5-4c59-a0c5-0372993ab9b4"
      },
      "execution_count": null,
      "outputs": [
        {
          "output_type": "execute_result",
          "data": {
            "text/plain": [
              "(500, 1)"
            ]
          },
          "metadata": {},
          "execution_count": 13
        }
      ]
    },
    {
      "cell_type": "code",
      "source": [
        "paths2 = real_df.path.to_list()\n",
        "filenames2 = real_df.filename.to_list()\n",
        "filepaths_list2 = generate_file_path(relative_path, paths2, filenames2)\n",
        "real_df = real_df.assign(filepath = filepaths_list2)"
      ],
      "metadata": {
        "id": "sBf7L0wXYnYk"
      },
      "execution_count": null,
      "outputs": []
    },
    {
      "cell_type": "code",
      "source": [
        "def generate_utternace_path(filepaths):\n",
        "\n",
        "  paths2 = real_df.filepath.to_list()\n",
        "  path_terms_list = [path.split('/') for path in paths2]\n",
        "  utterance_files = [path_terms_list[i][-1].split('.')[0] + '_text.txt' for i in range(len(path_terms_list))]\n",
        "  utterance_file_path = []\n",
        "\n",
        "  for path_terms, utterance_file in zip(path_terms_list, utterance_files):\n",
        "    utterance_file_path.append('/'.join(path_terms[:-1]) + '/' + utterance_file)\n",
        "\n",
        "  return utterance_file_path"
      ],
      "metadata": {
        "id": "ymIMt0pnaSjq"
      },
      "execution_count": null,
      "outputs": []
    },
    {
      "cell_type": "code",
      "source": [
        "filepaths = real_df.filepath.to_list()\n",
        "utterance_list = generate_utternace_path(filepaths)\n",
        "real_df = real_df.assign(utterance_file = utterance_list)"
      ],
      "metadata": {
        "id": "1_ExiPjKcFW4"
      },
      "execution_count": null,
      "outputs": []
    },
    {
      "cell_type": "code",
      "source": [
        "#merged_df = pd.merge(left=wav2lip_df, right=real_df[['source', 'filename', 'method', 'utterance_file']], how='left',\n",
        "                      #left_on=['source', 'filename', 'method'], right_on=['source', 'filename', 'method'])"
      ],
      "metadata": {
        "id": "JvitmLIJg30j"
      },
      "execution_count": null,
      "outputs": []
    },
    {
      "cell_type": "code",
      "source": [
        "real_df.loc[real_df['source'] == 'id07686', 'utterance_file']"
      ],
      "metadata": {
        "colab": {
          "base_uri": "https://localhost:8080/"
        },
        "id": "Lfp7b_y1kr5O",
        "outputId": "f4e48bcd-2073-44e3-b58c-d656a7d34ba4"
      },
      "execution_count": null,
      "outputs": [
        {
          "output_type": "execute_result",
          "data": {
            "text/plain": [
              "498    /content/drive/MyDrive/FakeAVCeleb/FakeAVCeleb...\n",
              "Name: utterance_file, dtype: object"
            ]
          },
          "metadata": {},
          "execution_count": 18
        }
      ]
    },
    {
      "cell_type": "code",
      "source": [
        "merged_df = pd.merge(left=wav2lip_df, right=real_df[['source', 'utterance_file']], how='left',\n",
        "                      left_on=['target1'], right_on=['source'])"
      ],
      "metadata": {
        "id": "LBFx1CnRjSfo"
      },
      "execution_count": null,
      "outputs": []
    },
    {
      "cell_type": "code",
      "source": [
        "metadata_df = merged_df"
      ],
      "metadata": {
        "id": "FJvcQMZBoAh_"
      },
      "execution_count": null,
      "outputs": []
    },
    {
      "cell_type": "code",
      "source": [
        "mp4_filepaths = metadata_df.filepath.to_list()\n",
        "wav_filepaths = [mp4_filepath.replace('mp4','wav') for mp4_filepath in mp4_filepaths]"
      ],
      "metadata": {
        "id": "z1sExJL5niDC"
      },
      "execution_count": null,
      "outputs": []
    },
    {
      "cell_type": "code",
      "source": [
        "metadata_df.columns"
      ],
      "metadata": {
        "id": "2zoWc90Hnhr1",
        "outputId": "45517b9d-a492-4671-9674-f1a01cb56013",
        "colab": {
          "base_uri": "https://localhost:8080/"
        }
      },
      "execution_count": null,
      "outputs": [
        {
          "output_type": "execute_result",
          "data": {
            "text/plain": [
              "Index(['source_x', 'target1', 'target2', 'method', 'category', 'type', 'race',\n",
              "       'gender', 'filename', 'path', 'filepath', 'source_y', 'utterance_file'],\n",
              "      dtype='object')"
            ]
          },
          "metadata": {},
          "execution_count": 24
        }
      ]
    },
    {
      "cell_type": "code",
      "source": [
        "metadata_df = metadata_df.rename(columns={'source_x': 'source', \n",
        "                                          'path': 'directory_path',\n",
        "                                          'filepath': 'mp4_filepath'})\n",
        "metadata_df = metadata_df.assign(wav_filepaths=wav_filepaths)\n",
        "metadata_df = metadata_df.drop(['source_y'], axis=1)"
      ],
      "metadata": {
        "id": "EKOmnscanhXo"
      },
      "execution_count": null,
      "outputs": []
    },
    {
      "cell_type": "code",
      "source": [
        "filename = '/content/drive/MyDrive/FakeAVCeleb/FakeAVCeleb_v1.2/wav2lip_metadata.csv'\n",
        "metadata_df.to_csv(filename)"
      ],
      "metadata": {
        "id": "vNMaIqUVMgk_"
      },
      "execution_count": null,
      "outputs": []
    }
  ]
}