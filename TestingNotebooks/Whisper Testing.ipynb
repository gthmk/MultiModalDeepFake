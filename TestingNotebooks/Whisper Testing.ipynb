{
 "cells": [
  {
   "cell_type": "code",
   "execution_count": 14,
   "id": "774acb1d",
   "metadata": {},
   "outputs": [],
   "source": [
    "import whisper\n",
    "import warnings\n",
    "import pandas as pd\n",
    "import numpy as np\n",
    "warnings.filterwarnings('ignore')"
   ]
  },
  {
   "cell_type": "markdown",
   "id": "1769c92a",
   "metadata": {},
   "source": [
    "## Run a test"
   ]
  },
  {
   "cell_type": "code",
   "execution_count": 23,
   "id": "0dec6305",
   "metadata": {},
   "outputs": [
    {
     "name": "stderr",
     "output_type": "stream",
     "text": [
      "100%|███████████████████████████████████████| 461M/461M [00:15<00:00, 30.5MiB/s]\n"
     ]
    }
   ],
   "source": [
    "model = whisper.load_model(\"small\")"
   ]
  },
  {
   "cell_type": "code",
   "execution_count": 24,
   "id": "1b6a06b7",
   "metadata": {},
   "outputs": [
    {
     "name": "stdout",
     "output_type": "stream",
     "text": [
      " see that in the fall and then you got a little surprise for you at Christmas something very different from Pompeii called Annie a musical and I play a character called Nash very light.\n"
     ]
    }
   ],
   "source": [
    "path = r'/home/gautham/deepfake-detection/DeepFakeDetection/data/FakeAVCeleb_v1.2/RealVideo-RealAudio/African/men/id00076/00109.wav'\n",
    "\n",
    "result = model.transcribe(path)\n",
    "print(result[\"text\"])"
   ]
  },
  {
   "cell_type": "code",
   "execution_count": 4,
   "id": "b0f29534",
   "metadata": {},
   "outputs": [
    {
     "name": "stdout",
     "output_type": "stream",
     "text": [
      "see that before and then you got a little surprise for your Christmas something very different from Pompeii code and a musical and a play a character called mass very light \n"
     ]
    }
   ],
   "source": [
    "print(\"see that before and then you got a little surprise for your Christmas something very different from Pompeii code and a musical and a play a character called mass very light \")"
   ]
  },
  {
   "cell_type": "code",
   "execution_count": 17,
   "id": "cdc0ce29",
   "metadata": {},
   "outputs": [],
   "source": [
    "metadata = '/home/gautham/deepfake-detection/DeepFakeDetection/data/FakeAVCeleb_v1.2/wav2lip_metadata_updated.csv'\n",
    "\n",
    "metadata_df = pd.read_csv(metadata)"
   ]
  },
  {
   "cell_type": "code",
   "execution_count": 18,
   "id": "78f69f39",
   "metadata": {},
   "outputs": [],
   "source": [
    "wav_files = metadata_df.wav_filepath.to_list()"
   ]
  },
  {
   "cell_type": "code",
   "execution_count": 19,
   "id": "ae0e326e",
   "metadata": {},
   "outputs": [
    {
     "data": {
      "text/plain": [
       "'/content/drive/MyDrive/DeepFakeDetection/data/FakeAVCeleb_v1.2/RealVideo-RealAudio/African/men/id00076/00109.wav'"
      ]
     },
     "execution_count": 19,
     "metadata": {},
     "output_type": "execute_result"
    }
   ],
   "source": [
    "wav_files[0]"
   ]
  },
  {
   "cell_type": "code",
   "execution_count": 20,
   "id": "6e53b99f",
   "metadata": {},
   "outputs": [],
   "source": [
    "colab = '/content/drive/MyDrive/DeepFakeDetection/data/'\n",
    "local = '/home/gautham/deepfake-detection/DeepFakeDetection/data/'\n",
    "\n",
    "wav_files = [path.replace(colab,local) for path in wav_files]"
   ]
  },
  {
   "cell_type": "code",
   "execution_count": 21,
   "id": "5c0434ae",
   "metadata": {},
   "outputs": [
    {
     "data": {
      "text/plain": [
       "'/home/gautham/deepfake-detection/DeepFakeDetection/data/FakeAVCeleb_v1.2/RealVideo-RealAudio/African/men/id00166/00010.wav'"
      ]
     },
     "execution_count": 21,
     "metadata": {},
     "output_type": "execute_result"
    }
   ],
   "source": [
    "wav_files[1]"
   ]
  },
  {
   "cell_type": "code",
   "execution_count": 25,
   "id": "7cf0258a",
   "metadata": {},
   "outputs": [
    {
     "name": "stdout",
     "output_type": "stream",
     "text": [
      "<------------------------------------------>\n",
      "Path: /home/gautham/deepfake-detection/DeepFakeDetection/data/FakeAVCeleb_v1.2/FakeVideo-RealAudio/Caucasian (European)/men/id00171/00092_id00909_wavtolip.wav\n",
      "\n",
      "\n",
      "Transcription:\n",
      " Fi fel rhiwn y bod yn tryisedbydd diwrnodd, dyna yn brolynu choалось, yn falch am erbyn nhw, i direction o groes ei dydd yn teimlo mewn.\n",
      "\n",
      "\n",
      "<------------------------------------------>\n",
      "Path: /home/gautham/deepfake-detection/DeepFakeDetection/data/FakeAVCeleb_v1.2/FakeVideo-FakeAudio/Asian (South)/women/id04530/00231_id06428_wavtolip.wav\n",
      "\n",
      "\n",
      "Transcription:\n",
      " Thanks, but I was still very comfortable. And then I used to come to Bangalore nice to be Riley has.\n",
      "\n",
      "\n",
      "<------------------------------------------>\n",
      "Path: /home/gautham/deepfake-detection/DeepFakeDetection/data/FakeAVCeleb_v1.2/FakeVideo-FakeAudio/Caucasian (European)/men/id01154/00118_id00186_wavtolip.wav\n",
      "\n",
      "\n",
      "Transcription:\n",
      " Once I have ever seen from England's tea, and from start to finish from again, we were out...\n",
      "\n",
      "\n",
      "<------------------------------------------>\n",
      "Path: /home/gautham/deepfake-detection/DeepFakeDetection/data/FakeAVCeleb_v1.2/FakeVideo-RealAudio/Asian (South)/men/id00769/00015_id07163_wavtolip.wav\n",
      "\n",
      "\n",
      "Transcription:\n",
      " I'm not able to talk anything before that. 99% of words, so I interview a lawyer for all students and notes, so it leaves me afternoon.\n",
      "\n",
      "\n",
      "<------------------------------------------>\n",
      "Path: /home/gautham/deepfake-detection/DeepFakeDetection/data/FakeAVCeleb_v1.2/FakeVideo-RealAudio/Caucasian (American)/men/id00062/00278_id01201_wavtolip.wav\n",
      "\n",
      "\n",
      "Transcription:\n",
      " See the secret came from my mom who said, she didn't say she just practiced this, which was as you lift up your partner lift up your life.\n",
      "\n",
      "\n",
      "<------------------------------------------>\n",
      "Path: /home/gautham/deepfake-detection/DeepFakeDetection/data/FakeAVCeleb_v1.2/FakeVideo-FakeAudio/Asian (East)/men/id01215/00001_id01683_wavtolip.wav\n",
      "\n",
      "\n",
      "Transcription:\n",
      " cannot have any seer to raid every single plant to revive the party in...\n",
      "\n",
      "\n",
      "<------------------------------------------>\n",
      "Path: /home/gautham/deepfake-detection/DeepFakeDetection/data/FakeAVCeleb_v1.2/FakeVideo-FakeAudio/Caucasian (European)/women/id00232/00025_id00071_wavtolip.wav\n",
      "\n",
      "\n",
      "Transcription:\n",
      " Well, as I may or may not be wearing, I still expect to be treated like a lady.\n",
      "\n",
      "\n",
      "<------------------------------------------>\n",
      "Path: /home/gautham/deepfake-detection/DeepFakeDetection/data/FakeAVCeleb_v1.2/FakeVideo-RealAudio/Asian (East)/men/id03965/00051_id09143_wavtolip.wav\n",
      "\n",
      "\n",
      "Transcription:\n",
      " when I drink, when I drink short, when I drink everything.\n",
      "\n",
      "\n",
      "<------------------------------------------>\n",
      "Path: /home/gautham/deepfake-detection/DeepFakeDetection/data/FakeAVCeleb_v1.2/FakeVideo-RealAudio/Asian (East)/men/id08299/00110_id03028_wavtolip.wav\n",
      "\n",
      "\n",
      "Transcription:\n",
      " the set and give us a pep talk, cheering us on.\n",
      "\n",
      "\n",
      "<------------------------------------------>\n",
      "Path: /home/gautham/deepfake-detection/DeepFakeDetection/data/FakeAVCeleb_v1.2/FakeVideo-RealAudio/African/men/id02342/00191_id00761_wavtolip.wav\n",
      "\n",
      "\n",
      "Transcription:\n",
      " She looks very good. She's not the same Rudy that we know. Recently I saw her at the pool party and I thought she was a good girl.\n",
      "\n",
      "\n"
     ]
    }
   ],
   "source": [
    "for path in np.random.choice(wav_files, 10):\n",
    "    \n",
    "    print(\"<------------------------------------------>\")\n",
    "    print(\"Path: {}\".format(path))\n",
    "    print(\"\\n\")\n",
    "    print(\"Transcription:\")\n",
    "    result = model.transcribe(path)\n",
    "    print(result[\"text\"])\n",
    "    print(\"\\n\")"
   ]
  },
  {
   "cell_type": "code",
   "execution_count": null,
   "id": "c433b90f",
   "metadata": {},
   "outputs": [],
   "source": [
    "colab = '/content/drive/MyDrive/DeepFakeDetection/data/'\n",
    "local = '/home/gautham/deepfake-detection/DeepFakeDetection/data/'"
   ]
  },
  {
   "cell_type": "code",
   "execution_count": null,
   "id": "56da7100",
   "metadata": {},
   "outputs": [],
   "source": [
    "metadata = '/home/gautham/deepfake-detection/DeepFakeDetection/data/FakeAVCeleb_v1.2/wav2lip_metadata_updated.csv'\n",
    "metadata_df = pd.read_csv(metadata)"
   ]
  },
  {
   "cell_type": "code",
   "execution_count": null,
   "id": "6e368815",
   "metadata": {},
   "outputs": [],
   "source": [
    "selected_cols = metadata_df.columns.to_list()[-6:]\n",
    "selected_cols.remove('audio_length')\n",
    "for col in selected_cols:\n",
    "    print(col)\n",
    "    metadata_df[col] = metadata_df[col].str.replace(colab,local)"
   ]
  },
  {
   "cell_type": "code",
   "execution_count": null,
   "id": "a5f1aa15",
   "metadata": {},
   "outputs": [],
   "source": [
    "metadata_new = '/home/gautham/deepfake-detection/DeepFakeDetection/data/FakeAVCeleb_v1.2/local_wav2lip_metadata.csv'\n",
    "metadata_df.to_csv(metadata_new, index=False)"
   ]
  },
  {
   "cell_type": "code",
   "execution_count": null,
   "id": "244e79d5",
   "metadata": {},
   "outputs": [],
   "source": []
  }
 ],
 "metadata": {
  "kernelspec": {
   "display_name": "Whisper",
   "language": "python",
   "name": "whisper"
  },
  "language_info": {
   "codemirror_mode": {
    "name": "ipython",
    "version": 3
   },
   "file_extension": ".py",
   "mimetype": "text/x-python",
   "name": "python",
   "nbconvert_exporter": "python",
   "pygments_lexer": "ipython3",
   "version": "3.9.9"
  }
 },
 "nbformat": 4,
 "nbformat_minor": 5
}
