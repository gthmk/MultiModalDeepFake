{
  "nbformat": 4,
  "nbformat_minor": 0,
  "metadata": {
    "colab": {
      "provenance": [],
      "machine_shape": "hm",
      "authorship_tag": "ABX9TyNC3fqz7Ekl8PsCdOcBuWC8",
      "include_colab_link": true
    },
    "kernelspec": {
      "name": "python3",
      "display_name": "Python 3"
    },
    "language_info": {
      "name": "python"
    },
    "accelerator": "TPU",
    "gpuClass": "standard"
  },
  "cells": [
    {
      "cell_type": "markdown",
      "metadata": {
        "id": "view-in-github",
        "colab_type": "text"
      },
      "source": [
        "<a href=\"https://colab.research.google.com/github/romitbarua/MultiModalDeepFake/blob/main/TestingNotebooks/tSNE_MFCC.ipynb\" target=\"_parent\"><img src=\"https://colab.research.google.com/assets/colab-badge.svg\" alt=\"Open In Colab\"/></a>"
      ]
    },
    {
      "cell_type": "markdown",
      "source": [
        "# t-SNE for MFCC"
      ],
      "metadata": {
        "id": "8_AT74BOteTi"
      }
    },
    {
      "cell_type": "code",
      "execution_count": 44,
      "metadata": {
        "id": "Uf5-eCdjQISa"
      },
      "outputs": [],
      "source": [
        "%matplotlib inline\n",
        "from matplotlib import pyplot as plt\n",
        "import matplotlib.cm as cm\n",
        "import fnmatch\n",
        "import os\n",
        "import numpy as np\n",
        "import librosa\n",
        "import matplotlib.pyplot as plt\n",
        "import librosa.display\n",
        "from sklearn.manifold import TSNE\n",
        "import json\n",
        "# Importing library \n",
        "import csv \n",
        "import sklearn\n",
        "import numpy as np\n",
        "import pandas as pd\n",
        "import matplotlib.pyplot as plt\n",
        "import seaborn as sns\n",
        "import glob\n",
        "import IPython.display as ipd\n",
        "import plotly.express as px"
      ]
    },
    {
      "cell_type": "code",
      "source": [
        "from google.colab import drive\n",
        "drive.mount('/content/drive/')"
      ],
      "metadata": {
        "colab": {
          "base_uri": "https://localhost:8080/"
        },
        "id": "qRoeJGr7RFon",
        "outputId": "953b9e88-3ebc-4de1-b2ef-bd5c4c8b71e0"
      },
      "execution_count": 2,
      "outputs": [
        {
          "output_type": "stream",
          "name": "stdout",
          "text": [
            "Mounted at /content/drive/\n"
          ]
        }
      ]
    },
    {
      "cell_type": "code",
      "source": [
        "filename = '/content/drive/MyDrive/FakeAVCeleb/FakeAVCeleb_v1.2/wav2lip_metadata.csv'\n",
        "metadata_df = pd.read_csv(filename)"
      ],
      "metadata": {
        "id": "KcAcO84kRXW8"
      },
      "execution_count": 3,
      "outputs": []
    },
    {
      "cell_type": "code",
      "source": [
        "id76_df = metadata_df[metadata_df.source=='id00076']"
      ],
      "metadata": {
        "id": "Yie61V0fRa3S"
      },
      "execution_count": 6,
      "outputs": []
    },
    {
      "cell_type": "code",
      "source": [
        "id76_wav_filepaths = id76_df.wav_filepath.to_list()"
      ],
      "metadata": {
        "id": "Tolrd0NfRy7n"
      },
      "execution_count": 9,
      "outputs": []
    },
    {
      "cell_type": "code",
      "source": [
        "def generate_scaled_mfcc_features(audio_file_path, plot=False):\n",
        "  #generate audio time series\n",
        "  audio,sample_rate = librosa.load(audio_file_path)\n",
        "\n",
        "  #truncating feature for now \n",
        "  #may need to consider padding or interpolation\n",
        "  #audio = audio[0:(3*sample_rate)]\n",
        "\n",
        "  #replaced above with taking average across time\n",
        "\n",
        "  #generate mfcc features\n",
        "  mfcc_features = librosa.feature.mfcc(y=audio,sr=sample_rate,n_mfcc=20)\n",
        "  #convert to double to avoid numeric computation issues\n",
        "  mfcc_features = mfcc_features.astype(np.double)\n",
        "  #scale the MFCCs such that each coefficient dimension has zero mean and unit variance\n",
        "  scaled_mfcc_features = sklearn.preprocessing.scale(mfcc_features, axis=1)\n",
        "\n",
        "  if plot==True:\n",
        "    fig, ax = plt.subplots(nrows=1, figsize=(15, 7), sharex=True, sharey=True)\n",
        "    mfcc_plot = display.specshow(mfcc_features, sr=sample_rate, x_axis='time', ax=ax)\n",
        "    ax.set(title='MFCC spectrogram for {}'.format(audio_file_path.split('/')[-2]))\n",
        "    fig.colorbar(mfcc_plot, ax=ax)\n",
        "    return scaled_mfcc_features, mfcc_plot\n",
        "  \n",
        "  return scaled_mfcc_features"
      ],
      "metadata": {
        "id": "Lz9VnyLGTGLP"
      },
      "execution_count": 34,
      "outputs": []
    },
    {
      "cell_type": "code",
      "source": [
        "feature_vectors = []\n",
        "avg_mfccs = []\n",
        "#iterate through all wav files for id\n",
        "for wav_file in id76_wav_filepaths:\n",
        "  #generate mfcc\n",
        "  mfccs = generate_scaled_mfcc_features(wav_file)\n",
        "  #full mfcc feature vector without padding or truncation\n",
        "  feature_vectors.append(mfccs)\n",
        "  #average mfcc feature vector\n",
        "  avg_mfccs.append(np.mean(mfccs,1))"
      ],
      "metadata": {
        "id": "tWAHH1iTTIrS"
      },
      "execution_count": 39,
      "outputs": []
    },
    {
      "cell_type": "code",
      "source": [
        "len(feature_vectors), feature_vectors[0].shape"
      ],
      "metadata": {
        "colab": {
          "base_uri": "https://localhost:8080/"
        },
        "id": "svQyuSISXaFC",
        "outputId": "c4a37501-33b5-4ac8-83e0-58f2978cefd6"
      },
      "execution_count": 40,
      "outputs": [
        {
          "output_type": "execute_result",
          "data": {
            "text/plain": [
              "(21, (20, 435))"
            ]
          },
          "metadata": {},
          "execution_count": 40
        }
      ]
    },
    {
      "cell_type": "code",
      "source": [
        "#averaging for tSNE\n",
        "for vector in feature_vectors:\n",
        "  print(vector.shape)\n",
        "  avg_mfcc = np.mean(vector,1)\n",
        "  print(avg_mfcc.shape)"
      ],
      "metadata": {
        "colab": {
          "base_uri": "https://localhost:8080/"
        },
        "id": "N1sucnP4Yq0F",
        "outputId": "64537789-2b8a-4259-b77c-e8ba2cc4139a"
      },
      "execution_count": 41,
      "outputs": [
        {
          "output_type": "stream",
          "name": "stdout",
          "text": [
            "(20, 435)\n",
            "(20,)\n",
            "(20, 280)\n",
            "(20,)\n",
            "(20, 392)\n",
            "(20,)\n",
            "(20, 340)\n",
            "(20,)\n",
            "(20, 202)\n",
            "(20,)\n",
            "(20, 183)\n",
            "(20,)\n",
            "(20, 247)\n",
            "(20,)\n",
            "(20, 199)\n",
            "(20,)\n",
            "(20, 190)\n",
            "(20,)\n",
            "(20, 221)\n",
            "(20,)\n",
            "(20, 280)\n",
            "(20,)\n",
            "(20, 435)\n",
            "(20,)\n",
            "(20, 359)\n",
            "(20,)\n",
            "(20, 314)\n",
            "(20,)\n",
            "(20, 321)\n",
            "(20,)\n",
            "(20, 185)\n",
            "(20,)\n",
            "(20, 223)\n",
            "(20,)\n",
            "(20, 354)\n",
            "(20,)\n",
            "(20, 255)\n",
            "(20,)\n",
            "(20, 221)\n",
            "(20,)\n",
            "(20, 158)\n",
            "(20,)\n"
          ]
        }
      ]
    },
    {
      "cell_type": "code",
      "source": [
        "len(avg_mfccs), avg_mfccs[0].shape"
      ],
      "metadata": {
        "colab": {
          "base_uri": "https://localhost:8080/"
        },
        "id": "vb6RpL1ne_nS",
        "outputId": "88e41733-731b-4278-9562-f208ac13f4c6"
      },
      "execution_count": 42,
      "outputs": [
        {
          "output_type": "execute_result",
          "data": {
            "text/plain": [
              "(21, (20,))"
            ]
          },
          "metadata": {},
          "execution_count": 42
        }
      ]
    },
    {
      "cell_type": "code",
      "source": [
        "model = TSNE(n_components=2, \n",
        "             learning_rate=200, #default value \n",
        "             perplexity=5, #must be lower than num samples\n",
        "             verbose=2).fit_transform(avg_mfccs)"
      ],
      "metadata": {
        "colab": {
          "base_uri": "https://localhost:8080/"
        },
        "id": "gNDrZzwMXs4n",
        "outputId": "d073c1c7-bfe5-499c-ee6c-d9202f5d1305"
      },
      "execution_count": 43,
      "outputs": [
        {
          "output_type": "stream",
          "name": "stderr",
          "text": [
            "/usr/local/lib/python3.7/dist-packages/sklearn/manifold/_t_sne.py:783: FutureWarning: The default initialization in TSNE will change from 'random' to 'pca' in 1.2.\n",
            "  FutureWarning,\n"
          ]
        },
        {
          "output_type": "stream",
          "name": "stdout",
          "text": [
            "[t-SNE] Computing 16 nearest neighbors...\n",
            "[t-SNE] Indexed 21 samples in 0.000s...\n",
            "[t-SNE] Computed neighbors for 21 samples in 0.003s...\n",
            "[t-SNE] Computed conditional probabilities for sample 21 / 21\n",
            "[t-SNE] Mean sigma: 0.000000\n",
            "[t-SNE] Computed conditional probabilities in 0.010s\n",
            "[t-SNE] Iteration 50: error = 45.4027634, gradient norm = 0.4395739 (50 iterations in 0.020s)\n",
            "[t-SNE] Iteration 100: error = 50.8502464, gradient norm = 0.3700581 (50 iterations in 0.017s)\n",
            "[t-SNE] Iteration 150: error = 47.4991875, gradient norm = 0.5061514 (50 iterations in 0.015s)\n",
            "[t-SNE] Iteration 200: error = 44.1463051, gradient norm = 0.4709113 (50 iterations in 0.018s)\n",
            "[t-SNE] Iteration 250: error = 44.5103683, gradient norm = 0.4816028 (50 iterations in 0.017s)\n",
            "[t-SNE] KL divergence after 250 iterations with early exaggeration: 44.510368\n",
            "[t-SNE] Iteration 300: error = 0.5664833, gradient norm = 0.0009703 (50 iterations in 0.015s)\n",
            "[t-SNE] Iteration 350: error = 0.5042081, gradient norm = 0.0003030 (50 iterations in 0.019s)\n",
            "[t-SNE] Iteration 400: error = 0.4611816, gradient norm = 0.0003612 (50 iterations in 0.016s)\n",
            "[t-SNE] Iteration 450: error = 0.4503014, gradient norm = 0.0001109 (50 iterations in 0.017s)\n",
            "[t-SNE] Iteration 500: error = 0.4449593, gradient norm = 0.0001064 (50 iterations in 0.019s)\n",
            "[t-SNE] Iteration 550: error = 0.4396121, gradient norm = 0.0000509 (50 iterations in 0.023s)\n",
            "[t-SNE] Iteration 600: error = 0.4365485, gradient norm = 0.0001295 (50 iterations in 0.018s)\n",
            "[t-SNE] Iteration 650: error = 0.4271302, gradient norm = 0.0000894 (50 iterations in 0.017s)\n",
            "[t-SNE] Iteration 700: error = 0.4265661, gradient norm = 0.0000429 (50 iterations in 0.017s)\n",
            "[t-SNE] Iteration 750: error = 0.4256260, gradient norm = 0.0000271 (50 iterations in 0.017s)\n",
            "[t-SNE] Iteration 800: error = 0.4254697, gradient norm = 0.0000198 (50 iterations in 0.016s)\n",
            "[t-SNE] Iteration 850: error = 0.4254291, gradient norm = 0.0000194 (50 iterations in 0.016s)\n",
            "[t-SNE] Iteration 900: error = 0.4253973, gradient norm = 0.0000207 (50 iterations in 0.016s)\n",
            "[t-SNE] Iteration 950: error = 0.4257132, gradient norm = 0.0000217 (50 iterations in 0.020s)\n",
            "[t-SNE] Iteration 1000: error = 0.4256002, gradient norm = 0.0000253 (50 iterations in 0.016s)\n",
            "[t-SNE] KL divergence after 1000 iterations: 0.425600\n"
          ]
        }
      ]
    },
    {
      "cell_type": "code",
      "source": [
        "x_axis=model[:,0]\n",
        "y_axis=model[:,1]\n",
        "fig = px.scatter(x=x_axis, y=y_axis)\n",
        "fig.show()"
      ],
      "metadata": {
        "colab": {
          "base_uri": "https://localhost:8080/",
          "height": 563
        },
        "id": "vHkbO1fGggyQ",
        "outputId": "49a75eb6-226e-4572-c7da-5e8e53a1e0d1"
      },
      "execution_count": 45,
      "outputs": [
        {
          "output_type": "display_data",
          "data": {
            "text/html": [
              "<html>\n",
              "<head><meta charset=\"utf-8\" /></head>\n",
              "<body>\n",
              "    <div>            <script src=\"https://cdnjs.cloudflare.com/ajax/libs/mathjax/2.7.5/MathJax.js?config=TeX-AMS-MML_SVG\"></script><script type=\"text/javascript\">if (window.MathJax) {MathJax.Hub.Config({SVG: {font: \"STIX-Web\"}});}</script>                <script type=\"text/javascript\">window.PlotlyConfig = {MathJaxConfig: 'local'};</script>\n",
              "        <script src=\"https://cdn.plot.ly/plotly-2.8.3.min.js\"></script>                <div id=\"8c54197f-c080-4075-b917-f52027f111a4\" class=\"plotly-graph-div\" style=\"height:525px; width:100%;\"></div>            <script type=\"text/javascript\">                                    window.PLOTLYENV=window.PLOTLYENV || {};                                    if (document.getElementById(\"8c54197f-c080-4075-b917-f52027f111a4\")) {                    Plotly.newPlot(                        \"8c54197f-c080-4075-b917-f52027f111a4\",                        [{\"hovertemplate\":\"x=%{x}<br>y=%{y}<extra></extra>\",\"legendgroup\":\"\",\"marker\":{\"color\":\"#636efa\",\"symbol\":\"circle\"},\"mode\":\"markers\",\"name\":\"\",\"orientation\":\"v\",\"showlegend\":false,\"x\":[2.3211746215820312,70.01958465576172,68.83527374267578,36.50450897216797,-99.99463653564453,31.516138076782227,-88.0036849975586,-45.4587516784668,-21.106124877929688,22.266910552978516,1.7819808721542358,-44.31885528564453,9.454724311828613,38.95897674560547,-27.3267879486084,7.477715015411377,-27.785680770874023,-60.65929412841797,-15.976114273071289,-10.302305221557617,-55.76763916015625],\"xaxis\":\"x\",\"y\":[-50.755455017089844,-26.680320739746094,-70.51099395751953,-9.169605255126953,-52.39920425415039,-41.13438415527344,-11.670948028564453,-79.61996459960938,-27.792858123779297,-74.0645980834961,47.52217483520508,-8.020450592041016,11.395179748535156,25.345985412597656,28.304628372192383,-21.012483596801758,-54.21073913574219,18.269445419311523,0.36441996693611145,-84.0419921875,-40.206016540527344],\"yaxis\":\"y\",\"type\":\"scatter\"}],                        {\"template\":{\"data\":{\"bar\":[{\"error_x\":{\"color\":\"#2a3f5f\"},\"error_y\":{\"color\":\"#2a3f5f\"},\"marker\":{\"line\":{\"color\":\"#E5ECF6\",\"width\":0.5},\"pattern\":{\"fillmode\":\"overlay\",\"size\":10,\"solidity\":0.2}},\"type\":\"bar\"}],\"barpolar\":[{\"marker\":{\"line\":{\"color\":\"#E5ECF6\",\"width\":0.5},\"pattern\":{\"fillmode\":\"overlay\",\"size\":10,\"solidity\":0.2}},\"type\":\"barpolar\"}],\"carpet\":[{\"aaxis\":{\"endlinecolor\":\"#2a3f5f\",\"gridcolor\":\"white\",\"linecolor\":\"white\",\"minorgridcolor\":\"white\",\"startlinecolor\":\"#2a3f5f\"},\"baxis\":{\"endlinecolor\":\"#2a3f5f\",\"gridcolor\":\"white\",\"linecolor\":\"white\",\"minorgridcolor\":\"white\",\"startlinecolor\":\"#2a3f5f\"},\"type\":\"carpet\"}],\"choropleth\":[{\"colorbar\":{\"outlinewidth\":0,\"ticks\":\"\"},\"type\":\"choropleth\"}],\"contour\":[{\"colorbar\":{\"outlinewidth\":0,\"ticks\":\"\"},\"colorscale\":[[0.0,\"#0d0887\"],[0.1111111111111111,\"#46039f\"],[0.2222222222222222,\"#7201a8\"],[0.3333333333333333,\"#9c179e\"],[0.4444444444444444,\"#bd3786\"],[0.5555555555555556,\"#d8576b\"],[0.6666666666666666,\"#ed7953\"],[0.7777777777777778,\"#fb9f3a\"],[0.8888888888888888,\"#fdca26\"],[1.0,\"#f0f921\"]],\"type\":\"contour\"}],\"contourcarpet\":[{\"colorbar\":{\"outlinewidth\":0,\"ticks\":\"\"},\"type\":\"contourcarpet\"}],\"heatmap\":[{\"colorbar\":{\"outlinewidth\":0,\"ticks\":\"\"},\"colorscale\":[[0.0,\"#0d0887\"],[0.1111111111111111,\"#46039f\"],[0.2222222222222222,\"#7201a8\"],[0.3333333333333333,\"#9c179e\"],[0.4444444444444444,\"#bd3786\"],[0.5555555555555556,\"#d8576b\"],[0.6666666666666666,\"#ed7953\"],[0.7777777777777778,\"#fb9f3a\"],[0.8888888888888888,\"#fdca26\"],[1.0,\"#f0f921\"]],\"type\":\"heatmap\"}],\"heatmapgl\":[{\"colorbar\":{\"outlinewidth\":0,\"ticks\":\"\"},\"colorscale\":[[0.0,\"#0d0887\"],[0.1111111111111111,\"#46039f\"],[0.2222222222222222,\"#7201a8\"],[0.3333333333333333,\"#9c179e\"],[0.4444444444444444,\"#bd3786\"],[0.5555555555555556,\"#d8576b\"],[0.6666666666666666,\"#ed7953\"],[0.7777777777777778,\"#fb9f3a\"],[0.8888888888888888,\"#fdca26\"],[1.0,\"#f0f921\"]],\"type\":\"heatmapgl\"}],\"histogram\":[{\"marker\":{\"pattern\":{\"fillmode\":\"overlay\",\"size\":10,\"solidity\":0.2}},\"type\":\"histogram\"}],\"histogram2d\":[{\"colorbar\":{\"outlinewidth\":0,\"ticks\":\"\"},\"colorscale\":[[0.0,\"#0d0887\"],[0.1111111111111111,\"#46039f\"],[0.2222222222222222,\"#7201a8\"],[0.3333333333333333,\"#9c179e\"],[0.4444444444444444,\"#bd3786\"],[0.5555555555555556,\"#d8576b\"],[0.6666666666666666,\"#ed7953\"],[0.7777777777777778,\"#fb9f3a\"],[0.8888888888888888,\"#fdca26\"],[1.0,\"#f0f921\"]],\"type\":\"histogram2d\"}],\"histogram2dcontour\":[{\"colorbar\":{\"outlinewidth\":0,\"ticks\":\"\"},\"colorscale\":[[0.0,\"#0d0887\"],[0.1111111111111111,\"#46039f\"],[0.2222222222222222,\"#7201a8\"],[0.3333333333333333,\"#9c179e\"],[0.4444444444444444,\"#bd3786\"],[0.5555555555555556,\"#d8576b\"],[0.6666666666666666,\"#ed7953\"],[0.7777777777777778,\"#fb9f3a\"],[0.8888888888888888,\"#fdca26\"],[1.0,\"#f0f921\"]],\"type\":\"histogram2dcontour\"}],\"mesh3d\":[{\"colorbar\":{\"outlinewidth\":0,\"ticks\":\"\"},\"type\":\"mesh3d\"}],\"parcoords\":[{\"line\":{\"colorbar\":{\"outlinewidth\":0,\"ticks\":\"\"}},\"type\":\"parcoords\"}],\"pie\":[{\"automargin\":true,\"type\":\"pie\"}],\"scatter\":[{\"marker\":{\"colorbar\":{\"outlinewidth\":0,\"ticks\":\"\"}},\"type\":\"scatter\"}],\"scatter3d\":[{\"line\":{\"colorbar\":{\"outlinewidth\":0,\"ticks\":\"\"}},\"marker\":{\"colorbar\":{\"outlinewidth\":0,\"ticks\":\"\"}},\"type\":\"scatter3d\"}],\"scattercarpet\":[{\"marker\":{\"colorbar\":{\"outlinewidth\":0,\"ticks\":\"\"}},\"type\":\"scattercarpet\"}],\"scattergeo\":[{\"marker\":{\"colorbar\":{\"outlinewidth\":0,\"ticks\":\"\"}},\"type\":\"scattergeo\"}],\"scattergl\":[{\"marker\":{\"colorbar\":{\"outlinewidth\":0,\"ticks\":\"\"}},\"type\":\"scattergl\"}],\"scattermapbox\":[{\"marker\":{\"colorbar\":{\"outlinewidth\":0,\"ticks\":\"\"}},\"type\":\"scattermapbox\"}],\"scatterpolar\":[{\"marker\":{\"colorbar\":{\"outlinewidth\":0,\"ticks\":\"\"}},\"type\":\"scatterpolar\"}],\"scatterpolargl\":[{\"marker\":{\"colorbar\":{\"outlinewidth\":0,\"ticks\":\"\"}},\"type\":\"scatterpolargl\"}],\"scatterternary\":[{\"marker\":{\"colorbar\":{\"outlinewidth\":0,\"ticks\":\"\"}},\"type\":\"scatterternary\"}],\"surface\":[{\"colorbar\":{\"outlinewidth\":0,\"ticks\":\"\"},\"colorscale\":[[0.0,\"#0d0887\"],[0.1111111111111111,\"#46039f\"],[0.2222222222222222,\"#7201a8\"],[0.3333333333333333,\"#9c179e\"],[0.4444444444444444,\"#bd3786\"],[0.5555555555555556,\"#d8576b\"],[0.6666666666666666,\"#ed7953\"],[0.7777777777777778,\"#fb9f3a\"],[0.8888888888888888,\"#fdca26\"],[1.0,\"#f0f921\"]],\"type\":\"surface\"}],\"table\":[{\"cells\":{\"fill\":{\"color\":\"#EBF0F8\"},\"line\":{\"color\":\"white\"}},\"header\":{\"fill\":{\"color\":\"#C8D4E3\"},\"line\":{\"color\":\"white\"}},\"type\":\"table\"}]},\"layout\":{\"annotationdefaults\":{\"arrowcolor\":\"#2a3f5f\",\"arrowhead\":0,\"arrowwidth\":1},\"autotypenumbers\":\"strict\",\"coloraxis\":{\"colorbar\":{\"outlinewidth\":0,\"ticks\":\"\"}},\"colorscale\":{\"diverging\":[[0,\"#8e0152\"],[0.1,\"#c51b7d\"],[0.2,\"#de77ae\"],[0.3,\"#f1b6da\"],[0.4,\"#fde0ef\"],[0.5,\"#f7f7f7\"],[0.6,\"#e6f5d0\"],[0.7,\"#b8e186\"],[0.8,\"#7fbc41\"],[0.9,\"#4d9221\"],[1,\"#276419\"]],\"sequential\":[[0.0,\"#0d0887\"],[0.1111111111111111,\"#46039f\"],[0.2222222222222222,\"#7201a8\"],[0.3333333333333333,\"#9c179e\"],[0.4444444444444444,\"#bd3786\"],[0.5555555555555556,\"#d8576b\"],[0.6666666666666666,\"#ed7953\"],[0.7777777777777778,\"#fb9f3a\"],[0.8888888888888888,\"#fdca26\"],[1.0,\"#f0f921\"]],\"sequentialminus\":[[0.0,\"#0d0887\"],[0.1111111111111111,\"#46039f\"],[0.2222222222222222,\"#7201a8\"],[0.3333333333333333,\"#9c179e\"],[0.4444444444444444,\"#bd3786\"],[0.5555555555555556,\"#d8576b\"],[0.6666666666666666,\"#ed7953\"],[0.7777777777777778,\"#fb9f3a\"],[0.8888888888888888,\"#fdca26\"],[1.0,\"#f0f921\"]]},\"colorway\":[\"#636efa\",\"#EF553B\",\"#00cc96\",\"#ab63fa\",\"#FFA15A\",\"#19d3f3\",\"#FF6692\",\"#B6E880\",\"#FF97FF\",\"#FECB52\"],\"font\":{\"color\":\"#2a3f5f\"},\"geo\":{\"bgcolor\":\"white\",\"lakecolor\":\"white\",\"landcolor\":\"#E5ECF6\",\"showlakes\":true,\"showland\":true,\"subunitcolor\":\"white\"},\"hoverlabel\":{\"align\":\"left\"},\"hovermode\":\"closest\",\"mapbox\":{\"style\":\"light\"},\"paper_bgcolor\":\"white\",\"plot_bgcolor\":\"#E5ECF6\",\"polar\":{\"angularaxis\":{\"gridcolor\":\"white\",\"linecolor\":\"white\",\"ticks\":\"\"},\"bgcolor\":\"#E5ECF6\",\"radialaxis\":{\"gridcolor\":\"white\",\"linecolor\":\"white\",\"ticks\":\"\"}},\"scene\":{\"xaxis\":{\"backgroundcolor\":\"#E5ECF6\",\"gridcolor\":\"white\",\"gridwidth\":2,\"linecolor\":\"white\",\"showbackground\":true,\"ticks\":\"\",\"zerolinecolor\":\"white\"},\"yaxis\":{\"backgroundcolor\":\"#E5ECF6\",\"gridcolor\":\"white\",\"gridwidth\":2,\"linecolor\":\"white\",\"showbackground\":true,\"ticks\":\"\",\"zerolinecolor\":\"white\"},\"zaxis\":{\"backgroundcolor\":\"#E5ECF6\",\"gridcolor\":\"white\",\"gridwidth\":2,\"linecolor\":\"white\",\"showbackground\":true,\"ticks\":\"\",\"zerolinecolor\":\"white\"}},\"shapedefaults\":{\"line\":{\"color\":\"#2a3f5f\"}},\"ternary\":{\"aaxis\":{\"gridcolor\":\"white\",\"linecolor\":\"white\",\"ticks\":\"\"},\"baxis\":{\"gridcolor\":\"white\",\"linecolor\":\"white\",\"ticks\":\"\"},\"bgcolor\":\"#E5ECF6\",\"caxis\":{\"gridcolor\":\"white\",\"linecolor\":\"white\",\"ticks\":\"\"}},\"title\":{\"x\":0.05},\"xaxis\":{\"automargin\":true,\"gridcolor\":\"white\",\"linecolor\":\"white\",\"ticks\":\"\",\"title\":{\"standoff\":15},\"zerolinecolor\":\"white\",\"zerolinewidth\":2},\"yaxis\":{\"automargin\":true,\"gridcolor\":\"white\",\"linecolor\":\"white\",\"ticks\":\"\",\"title\":{\"standoff\":15},\"zerolinecolor\":\"white\",\"zerolinewidth\":2}}},\"xaxis\":{\"anchor\":\"y\",\"domain\":[0.0,1.0],\"title\":{\"text\":\"x\"}},\"yaxis\":{\"anchor\":\"x\",\"domain\":[0.0,1.0],\"title\":{\"text\":\"y\"}},\"legend\":{\"tracegroupgap\":0},\"margin\":{\"t\":60}},                        {\"responsive\": true}                    ).then(function(){\n",
              "                            \n",
              "var gd = document.getElementById('8c54197f-c080-4075-b917-f52027f111a4');\n",
              "var x = new MutationObserver(function (mutations, observer) {{\n",
              "        var display = window.getComputedStyle(gd).display;\n",
              "        if (!display || display === 'none') {{\n",
              "            console.log([gd, 'removed!']);\n",
              "            Plotly.purge(gd);\n",
              "            observer.disconnect();\n",
              "        }}\n",
              "}});\n",
              "\n",
              "// Listen for the removal of the full notebook cells\n",
              "var notebookContainer = gd.closest('#notebook-container');\n",
              "if (notebookContainer) {{\n",
              "    x.observe(notebookContainer, {childList: true});\n",
              "}}\n",
              "\n",
              "// Listen for the clearing of the current output cell\n",
              "var outputEl = gd.closest('.output');\n",
              "if (outputEl) {{\n",
              "    x.observe(outputEl, {childList: true});\n",
              "}}\n",
              "\n",
              "                        })                };                            </script>        </div>\n",
              "</body>\n",
              "</html>"
            ]
          },
          "metadata": {}
        }
      ]
    },
    {
      "cell_type": "markdown",
      "source": [
        "## For multiple IDs\n"
      ],
      "metadata": {
        "id": "wFzqNBcqhSP0"
      }
    },
    {
      "cell_type": "code",
      "source": [
        "metadata_df.columns"
      ],
      "metadata": {
        "colab": {
          "base_uri": "https://localhost:8080/"
        },
        "id": "itgp7FJfi_PJ",
        "outputId": "9a354fb0-56fc-43ba-e226-2e0619bc9aab"
      },
      "execution_count": 49,
      "outputs": [
        {
          "output_type": "execute_result",
          "data": {
            "text/plain": [
              "Index(['Unnamed: 0', 'source', 'target1', 'target2', 'method', 'category',\n",
              "       'type', 'race', 'gender', 'filename', 'directory_path', 'mp4_filepath',\n",
              "       'utterance_file', 'wav_filepath'],\n",
              "      dtype='object')"
            ]
          },
          "metadata": {},
          "execution_count": 49
        }
      ]
    },
    {
      "cell_type": "code",
      "source": [
        "all_uniq_ids = metadata_df.source.unique()\n",
        "#select 20\n",
        "analysis_ids = all_uniq_ids[:20]\n",
        "#list for filepaths\n",
        "wav_filepaths = []\n",
        "sources = []\n",
        "color = []\n",
        "targets = []\n",
        "category = []\n",
        "#get data\n",
        "col = 1\n",
        "for id in analysis_ids:\n",
        "  temp_df = metadata_df[metadata_df.source==id]\n",
        "  wav_filepaths.extend(temp_df.wav_filepath.to_list())\n",
        "  sources.extend(temp_df.source.to_list())\n",
        "  targets.extend(temp_df.target1.to_list())\n",
        "  category.extend(temp_df.category.to_list())\n",
        "  color.extend(len(temp_df.source.to_list())*[col])\n",
        "  col += 1"
      ],
      "metadata": {
        "id": "TwPRWY0hhSwg"
      },
      "execution_count": 67,
      "outputs": []
    },
    {
      "cell_type": "code",
      "source": [
        "len(wav_filepaths), len(sources), len(targets), len(category), len(color)"
      ],
      "metadata": {
        "colab": {
          "base_uri": "https://localhost:8080/"
        },
        "id": "Y8NulBw-k1f2",
        "outputId": "0009cb4d-5b13-4846-8bdc-d360d53c6326"
      },
      "execution_count": 65,
      "outputs": [
        {
          "output_type": "execute_result",
          "data": {
            "text/plain": [
              "(427, 427, 427, 427, 427)"
            ]
          },
          "metadata": {},
          "execution_count": 65
        }
      ]
    },
    {
      "cell_type": "code",
      "source": [
        "feature_vectors = []\n",
        "avg_mfccs = []\n",
        "#iterate through all wav files for id\n",
        "for wav_file in wav_filepaths:\n",
        "  #generate mfcc\n",
        "  mfccs = generate_scaled_mfcc_features(wav_file)\n",
        "  #full mfcc feature vector without padding or truncation\n",
        "  feature_vectors.append(mfccs)\n",
        "  #average mfcc feature vector\n",
        "  avg_mfccs.append(np.mean(mfccs,1))"
      ],
      "metadata": {
        "id": "EZS3-FDAlI9l"
      },
      "execution_count": 57,
      "outputs": []
    },
    {
      "cell_type": "code",
      "source": [
        "model = TSNE(n_components=2, \n",
        "             learning_rate=200, #default value \n",
        "             perplexity=5, #must be lower than num samples\n",
        "             verbose=2).fit_transform(avg_mfccs)"
      ],
      "metadata": {
        "colab": {
          "base_uri": "https://localhost:8080/"
        },
        "id": "bqk2nI7vqBAX",
        "outputId": "1f3e1942-2922-4d9a-c96d-925fe4c51227"
      },
      "execution_count": 58,
      "outputs": [
        {
          "output_type": "stream",
          "name": "stderr",
          "text": [
            "/usr/local/lib/python3.7/dist-packages/sklearn/manifold/_t_sne.py:783: FutureWarning:\n",
            "\n",
            "The default initialization in TSNE will change from 'random' to 'pca' in 1.2.\n",
            "\n"
          ]
        },
        {
          "output_type": "stream",
          "name": "stdout",
          "text": [
            "[t-SNE] Computing 16 nearest neighbors...\n",
            "[t-SNE] Indexed 427 samples in 0.000s...\n",
            "[t-SNE] Computed neighbors for 427 samples in 0.011s...\n",
            "[t-SNE] Computed conditional probabilities for sample 427 / 427\n",
            "[t-SNE] Mean sigma: 0.000000\n",
            "[t-SNE] Computed conditional probabilities in 0.024s\n",
            "[t-SNE] Iteration 50: error = 68.7777557, gradient norm = 0.5087144 (50 iterations in 0.135s)\n",
            "[t-SNE] Iteration 100: error = 70.9905701, gradient norm = 0.4987022 (50 iterations in 0.055s)\n",
            "[t-SNE] Iteration 150: error = 72.3117447, gradient norm = 0.4812205 (50 iterations in 0.058s)\n",
            "[t-SNE] Iteration 200: error = 73.7718658, gradient norm = 0.4528584 (50 iterations in 0.054s)\n",
            "[t-SNE] Iteration 250: error = 70.3758087, gradient norm = 0.4980394 (50 iterations in 0.051s)\n",
            "[t-SNE] KL divergence after 250 iterations with early exaggeration: 70.375809\n",
            "[t-SNE] Iteration 300: error = 1.1359257, gradient norm = 0.0022249 (50 iterations in 0.052s)\n",
            "[t-SNE] Iteration 350: error = 1.1298730, gradient norm = 0.0002336 (50 iterations in 0.043s)\n",
            "[t-SNE] Iteration 400: error = 1.1299766, gradient norm = 0.0001179 (50 iterations in 0.086s)\n",
            "[t-SNE] Iteration 450: error = 1.1300091, gradient norm = 0.0001089 (50 iterations in 0.048s)\n",
            "[t-SNE] Iteration 500: error = 1.1291066, gradient norm = 0.0001143 (50 iterations in 0.055s)\n",
            "[t-SNE] Iteration 550: error = 1.1271546, gradient norm = 0.0001023 (50 iterations in 0.051s)\n",
            "[t-SNE] Iteration 600: error = 1.1247244, gradient norm = 0.0000971 (50 iterations in 0.047s)\n",
            "[t-SNE] Iteration 650: error = 1.1236441, gradient norm = 0.0000971 (50 iterations in 0.045s)\n",
            "[t-SNE] Iteration 700: error = 1.1195023, gradient norm = 0.0000876 (50 iterations in 0.048s)\n",
            "[t-SNE] Iteration 750: error = 1.1187953, gradient norm = 0.0000800 (50 iterations in 0.055s)\n",
            "[t-SNE] Iteration 800: error = 1.1140152, gradient norm = 0.0000772 (50 iterations in 0.047s)\n",
            "[t-SNE] Iteration 850: error = 1.1137604, gradient norm = 0.0000671 (50 iterations in 0.045s)\n",
            "[t-SNE] Iteration 900: error = 1.1110158, gradient norm = 0.0000840 (50 iterations in 0.047s)\n",
            "[t-SNE] Iteration 950: error = 1.1121814, gradient norm = 0.0000826 (50 iterations in 0.044s)\n",
            "[t-SNE] Iteration 1000: error = 1.1107793, gradient norm = 0.0000734 (50 iterations in 0.053s)\n",
            "[t-SNE] KL divergence after 1000 iterations: 1.110779\n"
          ]
        }
      ]
    },
    {
      "cell_type": "code",
      "source": [],
      "metadata": {
        "id": "BsncWTiPqZ1w"
      },
      "execution_count": 66,
      "outputs": []
    },
    {
      "cell_type": "code",
      "source": [
        "x_axis=model[:,0]\n",
        "y_axis=model[:,1]\n",
        "fig = px.scatter(x=x_axis, \n",
        "                 y=y_axis,\n",
        "                 symbol=category,\n",
        "                 color=sources)\n",
        "fig.show()"
      ],
      "metadata": {
        "colab": {
          "base_uri": "https://localhost:8080/",
          "height": 563
        },
        "id": "zzfBx8iCqHan",
        "outputId": "b26e5997-f090-40d9-b423-439733ea7d65"
      },
      "execution_count": 70,
      "outputs": [
        {
          "output_type": "display_data",
          "data": {
            "text/html": [
              "<html>\n",
              "<head><meta charset=\"utf-8\" /></head>\n",
              "<body>\n",
              "    <div>            <script src=\"https://cdnjs.cloudflare.com/ajax/libs/mathjax/2.7.5/MathJax.js?config=TeX-AMS-MML_SVG\"></script><script type=\"text/javascript\">if (window.MathJax) {MathJax.Hub.Config({SVG: {font: \"STIX-Web\"}});}</script>                <script type=\"text/javascript\">window.PlotlyConfig = {MathJaxConfig: 'local'};</script>\n",
              "        <script src=\"https://cdn.plot.ly/plotly-2.8.3.min.js\"></script>                <div id=\"4767a1fa-3a1f-40d4-b0dc-f8621e83d6ca\" class=\"plotly-graph-div\" style=\"height:525px; width:100%;\"></div>            <script type=\"text/javascript\">                                    window.PLOTLYENV=window.PLOTLYENV || {};                                    if (document.getElementById(\"4767a1fa-3a1f-40d4-b0dc-f8621e83d6ca\")) {                    Plotly.newPlot(                        \"4767a1fa-3a1f-40d4-b0dc-f8621e83d6ca\",                        [{\"hovertemplate\":\"color=id00076<br>symbol=A<br>x=%{x}<br>y=%{y}<extra></extra>\",\"legendgroup\":\"id00076, A\",\"marker\":{\"color\":\"#636efa\",\"symbol\":\"circle\"},\"mode\":\"markers\",\"name\":\"id00076, A\",\"orientation\":\"v\",\"showlegend\":true,\"x\":[8.623421669006348],\"xaxis\":\"x\",\"y\":[8.630942344665527],\"yaxis\":\"y\",\"type\":\"scatter\"},{\"hovertemplate\":\"color=id00076<br>symbol=C<br>x=%{x}<br>y=%{y}<extra></extra>\",\"legendgroup\":\"id00076, C\",\"marker\":{\"color\":\"#636efa\",\"symbol\":\"diamond\"},\"mode\":\"markers\",\"name\":\"id00076, C\",\"orientation\":\"v\",\"showlegend\":true,\"x\":[-1.0259273052215576,8.210773468017578,-2.28147029876709,-4.214824199676514,8.627095222473145,-7.009800434112549,9.684853553771973,-2.6490957736968994,5.901303291320801,10.927933692932129],\"xaxis\":\"x\",\"y\":[14.945589065551758,12.590288162231445,-3.6471498012542725,15.939918518066406,4.4445037841796875,10.317862510681152,1.649903416633606,2.5900161266326904,-6.366610527038574,0.8913362622261047],\"yaxis\":\"y\",\"type\":\"scatter\"},{\"hovertemplate\":\"color=id00076<br>symbol=D<br>x=%{x}<br>y=%{y}<extra></extra>\",\"legendgroup\":\"id00076, D\",\"marker\":{\"color\":\"#636efa\",\"symbol\":\"square\"},\"mode\":\"markers\",\"name\":\"id00076, D\",\"orientation\":\"v\",\"showlegend\":true,\"x\":[1.2880085706710815,13.210389137268066,-8.703837394714355,5.941970348358154,8.263223648071289,2.820274591445923,-4.5267157554626465,5.082324981689453,2.434464454650879,1.699404001235962],\"xaxis\":\"x\",\"y\":[-13.46204662322998,5.580002307891846,-9.122203826904297,-7.613166332244873,5.850358486175537,7.562326908111572,-5.342709541320801,-3.703094482421875,-10.853865623474121,10.07779312133789],\"yaxis\":\"y\",\"type\":\"scatter\"},{\"hovertemplate\":\"color=id00166<br>symbol=A<br>x=%{x}<br>y=%{y}<extra></extra>\",\"legendgroup\":\"id00166, A\",\"marker\":{\"color\":\"#EF553B\",\"symbol\":\"circle\"},\"mode\":\"markers\",\"name\":\"id00166, A\",\"orientation\":\"v\",\"showlegend\":true,\"x\":[3.762404203414917],\"xaxis\":\"x\",\"y\":[-13.239242553710938],\"yaxis\":\"y\",\"type\":\"scatter\"},{\"hovertemplate\":\"color=id00166<br>symbol=C<br>x=%{x}<br>y=%{y}<extra></extra>\",\"legendgroup\":\"id00166, C\",\"marker\":{\"color\":\"#EF553B\",\"symbol\":\"diamond\"},\"mode\":\"markers\",\"name\":\"id00166, C\",\"orientation\":\"v\",\"showlegend\":true,\"x\":[9.672224998474121,-11.198850631713867,-0.7882340550422668,-4.116812705993652,9.903034210205078,12.19794750213623,-2.5930182933807373,-0.8176944255828857,5.521153450012207,13.824583053588867],\"xaxis\":\"x\",\"y\":[10.161251068115234,-3.7809908390045166,1.0963081121444702,-11.396561622619629,-1.4563803672790527,1.8837966918945312,2.12054705619812,12.586830139160156,-6.262166500091553,9.847756385803223],\"yaxis\":\"y\",\"type\":\"scatter\"},{\"hovertemplate\":\"color=id00166<br>symbol=D<br>x=%{x}<br>y=%{y}<extra></extra>\",\"legendgroup\":\"id00166, D\",\"marker\":{\"color\":\"#EF553B\",\"symbol\":\"square\"},\"mode\":\"markers\",\"name\":\"id00166, D\",\"orientation\":\"v\",\"showlegend\":true,\"x\":[-5.8022966384887695,-1.8351712226867676,-0.271411269903183,0.6469159126281738,-0.3411029875278473,-10.260621070861816,-4.013670444488525,7.715027332305908,2.7532873153686523,16.010639190673828],\"xaxis\":\"x\",\"y\":[-7.614256381988525,-13.725626945495605,0.17609481513500214,-14.123953819274902,-2.9515340328216553,-2.729740619659424,9.006254196166992,5.5969157218933105,-12.184562683105469,4.611935138702393],\"yaxis\":\"y\",\"type\":\"scatter\"},{\"hovertemplate\":\"color=id00173<br>symbol=A<br>x=%{x}<br>y=%{y}<extra></extra>\",\"legendgroup\":\"id00173, A\",\"marker\":{\"color\":\"#00cc96\",\"symbol\":\"circle\"},\"mode\":\"markers\",\"name\":\"id00173, A\",\"orientation\":\"v\",\"showlegend\":true,\"x\":[9.663456916809082],\"xaxis\":\"x\",\"y\":[0.10501962155103683],\"yaxis\":\"y\",\"type\":\"scatter\"},{\"hovertemplate\":\"color=id00173<br>symbol=C<br>x=%{x}<br>y=%{y}<extra></extra>\",\"legendgroup\":\"id00173, C\",\"marker\":{\"color\":\"#00cc96\",\"symbol\":\"diamond\"},\"mode\":\"markers\",\"name\":\"id00173, C\",\"orientation\":\"v\",\"showlegend\":true,\"x\":[-6.153652667999268,10.654778480529785,11.782844543457031,-4.900876045227051,-4.539637565612793,-5.204834938049316,1.7253289222717285,-0.5388666391372681,8.38164234161377,9.386120796203613],\"xaxis\":\"x\",\"y\":[14.276483535766602,11.570104598999023,8.815364837646484,14.18440055847168,-9.520063400268555,-10.616299629211426,-16.169662475585938,10.490493774414062,-0.7849401831626892,11.428572654724121],\"yaxis\":\"y\",\"type\":\"scatter\"},{\"hovertemplate\":\"color=id00173<br>symbol=D<br>x=%{x}<br>y=%{y}<extra></extra>\",\"legendgroup\":\"id00173, D\",\"marker\":{\"color\":\"#00cc96\",\"symbol\":\"square\"},\"mode\":\"markers\",\"name\":\"id00173, D\",\"orientation\":\"v\",\"showlegend\":true,\"x\":[-4.833839416503906,-0.2342667579650879,-0.06026977673172951,8.067496299743652,-4.116023063659668,2.569716453552246,-8.92785358428955,15.770784378051758,1.6386239528656006,0.9896646738052368],\"xaxis\":\"x\",\"y\":[11.489224433898926,-14.025893211364746,-8.946871757507324,6.217616558074951,10.200366973876953,1.9854456186294556,-8.100772857666016,5.195026874542236,10.764863967895508,-9.361207008361816],\"yaxis\":\"y\",\"type\":\"scatter\"},{\"hovertemplate\":\"color=id00366<br>symbol=A<br>x=%{x}<br>y=%{y}<extra></extra>\",\"legendgroup\":\"id00366, A\",\"marker\":{\"color\":\"#ab63fa\",\"symbol\":\"circle\"},\"mode\":\"markers\",\"name\":\"id00366, A\",\"orientation\":\"v\",\"showlegend\":true,\"x\":[-5.069294452667236],\"xaxis\":\"x\",\"y\":[11.861459732055664],\"yaxis\":\"y\",\"type\":\"scatter\"},{\"hovertemplate\":\"color=id00366<br>symbol=C<br>x=%{x}<br>y=%{y}<extra></extra>\",\"legendgroup\":\"id00366, C\",\"marker\":{\"color\":\"#ab63fa\",\"symbol\":\"diamond\"},\"mode\":\"markers\",\"name\":\"id00366, C\",\"orientation\":\"v\",\"showlegend\":true,\"x\":[0.988766074180603,-1.6525784730911255,-5.954160213470459,4.166858673095703,-1.7909135818481445,8.118553161621094,-4.079668998718262,7.428586483001709,13.85654067993164,-0.7604832649230957,2.539031744003296,-7.350346088409424,7.038091659545898,-5.984120845794678,-5.0561628341674805,9.151470184326172,-2.344510793685913,-9.059993743896484,14.179471015930176,-11.445880889892578],\"xaxis\":\"x\",\"y\":[-5.975551605224609,15.091818809509277,13.392945289611816,-15.7366304397583,8.570571899414062,7.463349342346191,16.23943519592285,-11.42216968536377,6.775113582611084,1.5273624658584595,3.74306058883667,-12.220589637756348,-10.869330406188965,12.526451110839844,7.199339866638184,10.740381240844727,2.781358003616333,12.443717956542969,9.784311294555664,-5.256200790405273],\"yaxis\":\"y\",\"type\":\"scatter\"},{\"hovertemplate\":\"color=id00366<br>symbol=D<br>x=%{x}<br>y=%{y}<extra></extra>\",\"legendgroup\":\"id00366, D\",\"marker\":{\"color\":\"#ab63fa\",\"symbol\":\"square\"},\"mode\":\"markers\",\"name\":\"id00366, D\",\"orientation\":\"v\",\"showlegend\":true,\"x\":[-4.106945514678955,-3.4941186904907227,1.0333930253982544,11.193338394165039,7.244471073150635,-8.928573608398438,-3.5314276218414307,-5.877584457397461,2.586337089538574,-4.496076583862305],\"xaxis\":\"x\",\"y\":[-6.134165287017822,-3.65535569190979,-3.047563076019287,8.20417308807373,-3.241539478302002,-8.102519035339355,7.98783016204834,12.10906982421875,-11.116085052490234,-7.867657661437988],\"yaxis\":\"y\",\"type\":\"scatter\"},{\"hovertemplate\":\"color=id00391<br>symbol=A<br>x=%{x}<br>y=%{y}<extra></extra>\",\"legendgroup\":\"id00391, A\",\"marker\":{\"color\":\"#FFA15A\",\"symbol\":\"circle\"},\"mode\":\"markers\",\"name\":\"id00391, A\",\"orientation\":\"v\",\"showlegend\":true,\"x\":[6.772345542907715],\"xaxis\":\"x\",\"y\":[-5.695858478546143],\"yaxis\":\"y\",\"type\":\"scatter\"},{\"hovertemplate\":\"color=id00391<br>symbol=C<br>x=%{x}<br>y=%{y}<extra></extra>\",\"legendgroup\":\"id00391, C\",\"marker\":{\"color\":\"#FFA15A\",\"symbol\":\"diamond\"},\"mode\":\"markers\",\"name\":\"id00391, C\",\"orientation\":\"v\",\"showlegend\":true,\"x\":[4.502889633178711,-3.9346985816955566,8.469344139099121,-7.009800434112549,9.905303001403809,9.159258842468262,-2.5536704063415527,9.236762046813965,-8.76185417175293,14.017816543579102],\"xaxis\":\"x\",\"y\":[6.265463352203369,15.697737693786621,4.734421253204346,10.317862510681152,-1.4684313535690308,1.606643557548523,11.364696502685547,-2.5976145267486572,12.010543823242188,9.690160751342773],\"yaxis\":\"y\",\"type\":\"scatter\"},{\"hovertemplate\":\"color=id00391<br>symbol=D<br>x=%{x}<br>y=%{y}<extra></extra>\",\"legendgroup\":\"id00391, D\",\"marker\":{\"color\":\"#FFA15A\",\"symbol\":\"square\"},\"mode\":\"markers\",\"name\":\"id00391, D\",\"orientation\":\"v\",\"showlegend\":true,\"x\":[9.134305000305176,-0.8747701644897461,12.678143501281738,2.655278444290161,7.072450160980225,6.876452445983887,2.7532870769500732,-1.8786143064498901,1.1591877937316895,-10.8295316696167],\"xaxis\":\"x\",\"y\":[2.9067516326904297,3.2124738693237305,5.877429485321045,-14.523446083068848,-3.081871747970581,6.399566173553467,-12.184563636779785,10.144205093383789,-9.867965698242188,-1.7745022773742676],\"yaxis\":\"y\",\"type\":\"scatter\"},{\"hovertemplate\":\"color=id00475<br>symbol=A<br>x=%{x}<br>y=%{y}<extra></extra>\",\"legendgroup\":\"id00475, A\",\"marker\":{\"color\":\"#19d3f3\",\"symbol\":\"circle\"},\"mode\":\"markers\",\"name\":\"id00475, A\",\"orientation\":\"v\",\"showlegend\":true,\"x\":[-3.374335289001465],\"xaxis\":\"x\",\"y\":[-13.598320007324219],\"yaxis\":\"y\",\"type\":\"scatter\"},{\"hovertemplate\":\"color=id00475<br>symbol=C<br>x=%{x}<br>y=%{y}<extra></extra>\",\"legendgroup\":\"id00475, C\",\"marker\":{\"color\":\"#19d3f3\",\"symbol\":\"diamond\"},\"mode\":\"markers\",\"name\":\"id00475, C\",\"orientation\":\"v\",\"showlegend\":true,\"x\":[12.809300422668457,-2.1456217765808105,-11.786746978759766,-7.136819839477539,2.4699220657348633,10.287373542785645,6.696925163269043,9.612098693847656,-2.3477630615234375,-9.027177810668945],\"xaxis\":\"x\",\"y\":[6.385443210601807,-3.5333411693573,-3.454216480255127,-8.697278022766113,-7.898470878601074,-1.3095711469650269,-11.336071014404297,1.3815171718597412,11.098870277404785,11.954991340637207],\"yaxis\":\"y\",\"type\":\"scatter\"},{\"hovertemplate\":\"color=id00475<br>symbol=D<br>x=%{x}<br>y=%{y}<extra></extra>\",\"legendgroup\":\"id00475, D\",\"marker\":{\"color\":\"#19d3f3\",\"symbol\":\"square\"},\"mode\":\"markers\",\"name\":\"id00475, D\",\"orientation\":\"v\",\"showlegend\":true,\"x\":[2.7268002033233643,5.94196891784668,-0.46179506182670593,-3.4941186904907227,-9.727112770080566,3.7592923641204834,2.2874577045440674,6.860048770904541,15.702500343322754,-1.927479863166809],\"xaxis\":\"x\",\"y\":[-2.88413405418396,-7.6131672859191895,-2.785630702972412,-3.65535569190979,-1.9008417129516602,-3.86647367477417,7.793054580688477,6.61317253112793,4.795979022979736,10.273606300354004],\"yaxis\":\"y\",\"type\":\"scatter\"},{\"hovertemplate\":\"color=id00476<br>symbol=A<br>x=%{x}<br>y=%{y}<extra></extra>\",\"legendgroup\":\"id00476, A\",\"marker\":{\"color\":\"#FF6692\",\"symbol\":\"circle\"},\"mode\":\"markers\",\"name\":\"id00476, A\",\"orientation\":\"v\",\"showlegend\":true,\"x\":[12.228302955627441],\"xaxis\":\"x\",\"y\":[6.867964744567871],\"yaxis\":\"y\",\"type\":\"scatter\"},{\"hovertemplate\":\"color=id00476<br>symbol=C<br>x=%{x}<br>y=%{y}<extra></extra>\",\"legendgroup\":\"id00476, C\",\"marker\":{\"color\":\"#FF6692\",\"symbol\":\"diamond\"},\"mode\":\"markers\",\"name\":\"id00476, C\",\"orientation\":\"v\",\"showlegend\":true,\"x\":[-5.5404276847839355,4.250227451324463,12.647764205932617,2.092710018157959,8.403600692749023,-7.515045642852783,6.742373943328857,-5.094246864318848,5.592922687530518,-4.258814811706543],\"xaxis\":\"x\",\"y\":[13.80946159362793,-11.54243278503418,6.460367679595947,-7.999340534210205,4.154267311096191,10.738822937011719,-10.716923713684082,6.8118743896484375,-6.797544479370117,-10.029936790466309],\"yaxis\":\"y\",\"type\":\"scatter\"},{\"hovertemplate\":\"color=id00476<br>symbol=D<br>x=%{x}<br>y=%{y}<extra></extra>\",\"legendgroup\":\"id00476, D\",\"marker\":{\"color\":\"#FF6692\",\"symbol\":\"square\"},\"mode\":\"markers\",\"name\":\"id00476, D\",\"orientation\":\"v\",\"showlegend\":true,\"x\":[2.7268002033233643,-0.9866124391555786,-8.088093757629395,3.781172037124634,-3.5386908054351807,2.8909449577331543,-2.3849902153015137,1.699404001235962,0.7382705807685852,-10.364537239074707],\"xaxis\":\"x\",\"y\":[-2.88413405418396,3.6916093826293945,-6.860450267791748,-4.106951713562012,7.933218002319336,-11.062305450439453,9.819618225097656,10.07779312133789,-9.85405158996582,-1.687212347984314],\"yaxis\":\"y\",\"type\":\"scatter\"},{\"hovertemplate\":\"color=id00478<br>symbol=A<br>x=%{x}<br>y=%{y}<extra></extra>\",\"legendgroup\":\"id00478, A\",\"marker\":{\"color\":\"#B6E880\",\"symbol\":\"circle\"},\"mode\":\"markers\",\"name\":\"id00478, A\",\"orientation\":\"v\",\"showlegend\":true,\"x\":[12.883231163024902],\"xaxis\":\"x\",\"y\":[8.516125679016113],\"yaxis\":\"y\",\"type\":\"scatter\"},{\"hovertemplate\":\"color=id00478<br>symbol=C<br>x=%{x}<br>y=%{y}<extra></extra>\",\"legendgroup\":\"id00478, C\",\"marker\":{\"color\":\"#B6E880\",\"symbol\":\"diamond\"},\"mode\":\"markers\",\"name\":\"id00478, C\",\"orientation\":\"v\",\"showlegend\":true,\"x\":[-3.7207980155944824,12.178894996643066,8.192041397094727,-7.009800434112549,5.848094463348389,-1.9475265741348267,-1.1859546899795532,-5.44572114944458,-3.8923187255859375,-12.01779556274414],\"xaxis\":\"x\",\"y\":[16.29913330078125,6.298333168029785,4.401850700378418,10.317862510681152,5.979703903198242,2.4504878520965576,12.3454008102417,13.164080619812012,-9.597464561462402,-5.163374900817871],\"yaxis\":\"y\",\"type\":\"scatter\"},{\"hovertemplate\":\"color=id00478<br>symbol=D<br>x=%{x}<br>y=%{y}<extra></extra>\",\"legendgroup\":\"id00478, D\",\"marker\":{\"color\":\"#B6E880\",\"symbol\":\"square\"},\"mode\":\"markers\",\"name\":\"id00478, D\",\"orientation\":\"v\",\"showlegend\":true,\"x\":[9.048371315002441,-4.245921611785889,-8.278595924377441,-0.06026977673172951,-9.7628755569458,11.250781059265137,13.342700958251953,4.9534406661987305,-0.5352124571800232,-10.62552547454834],\"xaxis\":\"x\",\"y\":[3.093705415725708,-3.3431246280670166,-7.015494346618652,-8.946871757507324,-2.2203760147094727,7.964121341705322,2.6229677200317383,1.279325008392334,11.146254539489746,-2.116487503051758],\"yaxis\":\"y\",\"type\":\"scatter\"},{\"hovertemplate\":\"color=id00518<br>symbol=A<br>x=%{x}<br>y=%{y}<extra></extra>\",\"legendgroup\":\"id00518, A\",\"marker\":{\"color\":\"#FF97FF\",\"symbol\":\"circle\"},\"mode\":\"markers\",\"name\":\"id00518, A\",\"orientation\":\"v\",\"showlegend\":true,\"x\":[-1.4177494049072266],\"xaxis\":\"x\",\"y\":[-2.6955738067626953],\"yaxis\":\"y\",\"type\":\"scatter\"},{\"hovertemplate\":\"color=id00518<br>symbol=C<br>x=%{x}<br>y=%{y}<extra></extra>\",\"legendgroup\":\"id00518, C\",\"marker\":{\"color\":\"#FF97FF\",\"symbol\":\"diamond\"},\"mode\":\"markers\",\"name\":\"id00518, C\",\"orientation\":\"v\",\"showlegend\":true,\"x\":[7.580331802368164,-4.936122417449951,8.541421890258789,-6.824294090270996,12.735926628112793,5.001071929931641,-0.09608495980501175,9.159258842468262,4.0779643058776855,-1.9730050563812256],\"xaxis\":\"x\",\"y\":[12.60228157043457,-12.051706314086914,11.810685157775879,-6.114141941070557,8.709582328796387,-15.149884223937988,-14.888731002807617,1.606643557548523,-14.169513702392578,2.540402412414551],\"yaxis\":\"y\",\"type\":\"scatter\"},{\"hovertemplate\":\"color=id00518<br>symbol=D<br>x=%{x}<br>y=%{y}<extra></extra>\",\"legendgroup\":\"id00518, D\",\"marker\":{\"color\":\"#FF97FF\",\"symbol\":\"square\"},\"mode\":\"markers\",\"name\":\"id00518, D\",\"orientation\":\"v\",\"showlegend\":true,\"x\":[-1.4680331945419312,-3.8589460849761963,0.7380383014678955,-5.77722692489624,-1.307623028755188,5.333551406860352,-8.095783233642578,16.04033851623535,-2.786006450653076],\"xaxis\":\"x\",\"y\":[14.026525497436523,-6.115505695343018,11.973365783691406,10.661322593688965,-8.485803604125977,0.8464220762252808,-9.56004524230957,5.444363594055176,14.290314674377441],\"yaxis\":\"y\",\"type\":\"scatter\"},{\"hovertemplate\":\"color=id00701<br>symbol=A<br>x=%{x}<br>y=%{y}<extra></extra>\",\"legendgroup\":\"id00701, A\",\"marker\":{\"color\":\"#FECB52\",\"symbol\":\"circle\"},\"mode\":\"markers\",\"name\":\"id00701, A\",\"orientation\":\"v\",\"showlegend\":true,\"x\":[5.315484523773193],\"xaxis\":\"x\",\"y\":[-5.360856533050537],\"yaxis\":\"y\",\"type\":\"scatter\"},{\"hovertemplate\":\"color=id00701<br>symbol=C<br>x=%{x}<br>y=%{y}<extra></extra>\",\"legendgroup\":\"id00701, C\",\"marker\":{\"color\":\"#FECB52\",\"symbol\":\"diamond\"},\"mode\":\"markers\",\"name\":\"id00701, C\",\"orientation\":\"v\",\"showlegend\":true,\"x\":[0.32988014817237854,3.50715708732605,10.30909252166748,-0.5907841920852661,2.0208868980407715,11.483785629272461,9.159270286560059,9.235248565673828,9.521114349365234,-2.698678493499756],\"xaxis\":\"x\",\"y\":[5.596777439117432,-10.30882740020752,3.0277087688446045,1.6065607070922852,-7.713701248168945,7.958747386932373,1.6067185401916504,-2.5959715843200684,10.848342895507812,2.378689765930176],\"yaxis\":\"y\",\"type\":\"scatter\"},{\"hovertemplate\":\"color=id00701<br>symbol=D<br>x=%{x}<br>y=%{y}<extra></extra>\",\"legendgroup\":\"id00701, D\",\"marker\":{\"color\":\"#FECB52\",\"symbol\":\"square\"},\"mode\":\"markers\",\"name\":\"id00701, D\",\"orientation\":\"v\",\"showlegend\":true,\"x\":[2.7268002033233643,0.5290145874023438,4.623426914215088,1.9615139961242676,-9.723642349243164,2.6942832469940186,-4.308319568634033,6.860048770904541,5.139517784118652,2.0310304164886475],\"xaxis\":\"x\",\"y\":[-2.88413405418396,-13.166889190673828,8.257353782653809,-0.04099094122648239,-2.20744252204895,-13.005671501159668,10.178096771240234,6.61317253112793,-3.3043289184570312,10.400714874267578],\"yaxis\":\"y\",\"type\":\"scatter\"},{\"hovertemplate\":\"color=id00761<br>symbol=A<br>x=%{x}<br>y=%{y}<extra></extra>\",\"legendgroup\":\"id00761, A\",\"marker\":{\"color\":\"#636efa\",\"symbol\":\"circle\"},\"mode\":\"markers\",\"name\":\"id00761, A\",\"orientation\":\"v\",\"showlegend\":true,\"x\":[4.620349407196045],\"xaxis\":\"x\",\"y\":[12.267231941223145],\"yaxis\":\"y\",\"type\":\"scatter\"},{\"hovertemplate\":\"color=id00761<br>symbol=C<br>x=%{x}<br>y=%{y}<extra></extra>\",\"legendgroup\":\"id00761, C\",\"marker\":{\"color\":\"#636efa\",\"symbol\":\"diamond\"},\"mode\":\"markers\",\"name\":\"id00761, C\",\"orientation\":\"v\",\"showlegend\":true,\"x\":[-0.9433233141899109,1.358860969543457,-11.198850631713867,13.85654067993164,-6.967559814453125,-1.0089458227157593,3.016432285308838,-7.350346088409424,9.159232139587402,-1.0838872194290161],\"xaxis\":\"x\",\"y\":[14.920146942138672,6.1744208335876465,-3.7809908390045166,6.775113582611084,-8.511679649353027,1.2885375022888184,3.61842942237854,-12.220589637756348,10.742096900939941,12.814828872680664],\"yaxis\":\"y\",\"type\":\"scatter\"},{\"hovertemplate\":\"color=id00761<br>symbol=D<br>x=%{x}<br>y=%{y}<extra></extra>\",\"legendgroup\":\"id00761, D\",\"marker\":{\"color\":\"#636efa\",\"symbol\":\"square\"},\"mode\":\"markers\",\"name\":\"id00761, D\",\"orientation\":\"v\",\"showlegend\":true,\"x\":[-0.09556945413351059,-4.166466236114502,-8.23962116241455,-0.16310587525367737,4.209615230560303,7.417383193969727,-9.193150520324707,-5.877584457397461,5.455361366271973,1.6704905033111572],\"xaxis\":\"x\",\"y\":[-2.523960828781128,-6.22283935546875,-7.155637741088867,-9.270004272460938,-3.3444085121154785,-3.3037936687469482,-8.17122745513916,12.10906982421875,1.3676100969314575,-14.128707885742188],\"yaxis\":\"y\",\"type\":\"scatter\"},{\"hovertemplate\":\"color=id00781<br>symbol=A<br>x=%{x}<br>y=%{y}<extra></extra>\",\"legendgroup\":\"id00781, A\",\"marker\":{\"color\":\"#EF553B\",\"symbol\":\"circle\"},\"mode\":\"markers\",\"name\":\"id00781, A\",\"orientation\":\"v\",\"showlegend\":true,\"x\":[4.003542423248291],\"xaxis\":\"x\",\"y\":[-12.984258651733398],\"yaxis\":\"y\",\"type\":\"scatter\"},{\"hovertemplate\":\"color=id00781<br>symbol=C<br>x=%{x}<br>y=%{y}<extra></extra>\",\"legendgroup\":\"id00781, C\",\"marker\":{\"color\":\"#EF553B\",\"symbol\":\"diamond\"},\"mode\":\"markers\",\"name\":\"id00781, C\",\"orientation\":\"v\",\"showlegend\":true,\"x\":[-10.099910736083984,-8.953834533691406,-6.907371520996094,-9.19705581665039,-3.1417930126190186,2.6527156829833984,-0.9973266124725342,-2.282752752304077,-0.6640308499336243,-11.70107364654541],\"xaxis\":\"x\",\"y\":[-7.527141571044922,-4.171782493591309,9.416544914245605,-11.09912395477295,6.765212535858154,-16.143444061279297,-1.6751586198806763,2.030073881149292,12.4463472366333,-5.424307823181152],\"yaxis\":\"y\",\"type\":\"scatter\"},{\"hovertemplate\":\"color=id00781<br>symbol=D<br>x=%{x}<br>y=%{y}<extra></extra>\",\"legendgroup\":\"id00781, D\",\"marker\":{\"color\":\"#EF553B\",\"symbol\":\"square\"},\"mode\":\"markers\",\"name\":\"id00781, D\",\"orientation\":\"v\",\"showlegend\":true,\"x\":[-1.5102847814559937,13.276161193847656,-5.468785285949707,-6.6322922706604,0.6772735118865967,0.5030279159545898,3.1504647731781006,1.7708351612091064,-1.09076726436615],\"xaxis\":\"x\",\"y\":[11.457834243774414,6.326785087585449,-8.033947944641113,-6.991984844207764,-2.681884765625,13.481175422668457,4.555890083312988,-11.938360214233398,-4.907570838928223],\"yaxis\":\"y\",\"type\":\"scatter\"},{\"hovertemplate\":\"color=id00830<br>symbol=A<br>x=%{x}<br>y=%{y}<extra></extra>\",\"legendgroup\":\"id00830, A\",\"marker\":{\"color\":\"#00cc96\",\"symbol\":\"circle\"},\"mode\":\"markers\",\"name\":\"id00830, A\",\"orientation\":\"v\",\"showlegend\":true,\"x\":[-7.391519546508789],\"xaxis\":\"x\",\"y\":[-9.366423606872559],\"yaxis\":\"y\",\"type\":\"scatter\"},{\"hovertemplate\":\"color=id00830<br>symbol=C<br>x=%{x}<br>y=%{y}<extra></extra>\",\"legendgroup\":\"id00830, C\",\"marker\":{\"color\":\"#00cc96\",\"symbol\":\"diamond\"},\"mode\":\"markers\",\"name\":\"id00830, C\",\"orientation\":\"v\",\"showlegend\":true,\"x\":[-5.5404276847839355,7.958155155181885,-3.1417930126190186,3.184981107711792,5.525320529937744,8.192041397094727,10.33691120147705,-1.9608006477355957,-3.8272039890289307,13.915962219238281],\"xaxis\":\"x\",\"y\":[13.80946159362793,-1.796446442604065,6.765212535858154,3.806891679763794,12.767139434814453,4.401850700378418,-1.7231396436691284,2.327850580215454,-10.099656105041504,10.081847190856934],\"yaxis\":\"y\",\"type\":\"scatter\"},{\"hovertemplate\":\"color=id00830<br>symbol=D<br>x=%{x}<br>y=%{y}<extra></extra>\",\"legendgroup\":\"id00830, D\",\"marker\":{\"color\":\"#00cc96\",\"symbol\":\"square\"},\"mode\":\"markers\",\"name\":\"id00830, D\",\"orientation\":\"v\",\"showlegend\":true,\"x\":[-1.3364344835281372,8.845788955688477,4.2096147537231445,2.655277729034424,-5.877584457397461,16.365705490112305,-0.36188486218452454,1.6704908609390259,1.1591880321502686,-10.62552547454834],\"xaxis\":\"x\",\"y\":[3.772156238555908,-0.35868504643440247,-3.3444080352783203,-14.523447036743164,12.10906982421875,4.835667133331299,11.258870124816895,-14.128707885742188,-9.867965698242188,-2.116487503051758],\"yaxis\":\"y\",\"type\":\"scatter\"},{\"hovertemplate\":\"color=id00944<br>symbol=A<br>x=%{x}<br>y=%{y}<extra></extra>\",\"legendgroup\":\"id00944, A\",\"marker\":{\"color\":\"#ab63fa\",\"symbol\":\"circle\"},\"mode\":\"markers\",\"name\":\"id00944, A\",\"orientation\":\"v\",\"showlegend\":true,\"x\":[-6.852642059326172],\"xaxis\":\"x\",\"y\":[11.03838062286377],\"yaxis\":\"y\",\"type\":\"scatter\"},{\"hovertemplate\":\"color=id00944<br>symbol=C<br>x=%{x}<br>y=%{y}<extra></extra>\",\"legendgroup\":\"id00944, C\",\"marker\":{\"color\":\"#ab63fa\",\"symbol\":\"diamond\"},\"mode\":\"markers\",\"name\":\"id00944, C\",\"orientation\":\"v\",\"showlegend\":true,\"x\":[-2.9785611629486084,9.048243522644043,-2.0242486000061035,-1.035666584968567,10.654778480529785,14.37275218963623,-2.287991523742676,0.6002442836761475,5.931319236755371,-3.8272039890289307],\"xaxis\":\"x\",\"y\":[-4.767308712005615,6.6206231117248535,12.640335083007812,7.296501159667969,11.570104598999023,8.199642181396484,2.0294079780578613,-15.913169860839844,-6.660299301147461,-10.099656105041504],\"yaxis\":\"y\",\"type\":\"scatter\"},{\"hovertemplate\":\"color=id00944<br>symbol=D<br>x=%{x}<br>y=%{y}<extra></extra>\",\"legendgroup\":\"id00944, D\",\"marker\":{\"color\":\"#ab63fa\",\"symbol\":\"square\"},\"mode\":\"markers\",\"name\":\"id00944, D\",\"orientation\":\"v\",\"showlegend\":true,\"x\":[10.649060249328613,-4.04404878616333,0.9301984310150146,-6.2343573570251465,3.6298794746398926,-5.96562385559082,3.70619797706604,0.8177242875099182,-10.828428268432617],\"xaxis\":\"x\",\"y\":[8.590434074401855,-6.817340850830078,-14.747570037841797,-9.945825576782227,-6.00154447555542,12.274473190307617,-0.9557147026062012,-9.65518856048584,-1.7728968858718872],\"yaxis\":\"y\",\"type\":\"scatter\"},{\"hovertemplate\":\"color=id00987<br>symbol=A<br>x=%{x}<br>y=%{y}<extra></extra>\",\"legendgroup\":\"id00987, A\",\"marker\":{\"color\":\"#FFA15A\",\"symbol\":\"circle\"},\"mode\":\"markers\",\"name\":\"id00987, A\",\"orientation\":\"v\",\"showlegend\":true,\"x\":[-6.591679573059082],\"xaxis\":\"x\",\"y\":[-10.671979904174805],\"yaxis\":\"y\",\"type\":\"scatter\"},{\"hovertemplate\":\"color=id00987<br>symbol=C<br>x=%{x}<br>y=%{y}<extra></extra>\",\"legendgroup\":\"id00987, C\",\"marker\":{\"color\":\"#FFA15A\",\"symbol\":\"diamond\"},\"mode\":\"markers\",\"name\":\"id00987, C\",\"orientation\":\"v\",\"showlegend\":true,\"x\":[2.5758228302001953,-2.1456217765808105,-1.9752216339111328,2.58189058303833,12.545748710632324,-2.3477630615234375,-2.3445112705230713,1.7065160274505615,-5.44572114944458,5.308482646942139],\"xaxis\":\"x\",\"y\":[-1.49650239944458,-3.5333411693573,15.482117652893066,4.0168023109436035,6.725444793701172,11.098870277404785,2.781357765197754,-0.5554224848747253,13.164080619812012,-6.65839958190918],\"yaxis\":\"y\",\"type\":\"scatter\"},{\"hovertemplate\":\"color=id00987<br>symbol=D<br>x=%{x}<br>y=%{y}<extra></extra>\",\"legendgroup\":\"id00987, D\",\"marker\":{\"color\":\"#FFA15A\",\"symbol\":\"square\"},\"mode\":\"markers\",\"name\":\"id00987, D\",\"orientation\":\"v\",\"showlegend\":true,\"x\":[9.134305000305176,-8.547276496887207,8.708880424499512,8.014936447143555,2.8202741146087646,-9.414124488830566,5.039429187774658,-4.61488676071167,1.6704905033111572,-10.364537239074707],\"xaxis\":\"x\",\"y\":[2.9067516326904297,-8.868062019348145,-1.0190107822418213,6.069079875946045,7.562326908111572,-8.640777587890625,-3.7517619132995605,-7.791600227355957,-14.128706932067871,-1.6872122287750244],\"yaxis\":\"y\",\"type\":\"scatter\"},{\"hovertemplate\":\"color=id01036<br>symbol=A<br>x=%{x}<br>y=%{y}<extra></extra>\",\"legendgroup\":\"id01036, A\",\"marker\":{\"color\":\"#19d3f3\",\"symbol\":\"circle\"},\"mode\":\"markers\",\"name\":\"id01036, A\",\"orientation\":\"v\",\"showlegend\":true,\"x\":[8.074003219604492],\"xaxis\":\"x\",\"y\":[7.840626239776611],\"yaxis\":\"y\",\"type\":\"scatter\"},{\"hovertemplate\":\"color=id01036<br>symbol=C<br>x=%{x}<br>y=%{y}<extra></extra>\",\"legendgroup\":\"id01036, C\",\"marker\":{\"color\":\"#19d3f3\",\"symbol\":\"diamond\"},\"mode\":\"markers\",\"name\":\"id01036, C\",\"orientation\":\"v\",\"showlegend\":true,\"x\":[7.837549686431885,5.151381969451904,-3.7196109294891357,13.773091316223145,-3.7520854473114014,12.162614822387695,6.49772310256958,-8.217204093933105,9.5399751663208,-0.9796575307846069],\"xaxis\":\"x\",\"y\":[-1.835054636001587,5.819276809692383,15.727787017822266,6.979907512664795,6.59169864654541,6.129813194274902,-11.047773361206055,-10.16676139831543,10.70467758178711,12.097746849060059],\"yaxis\":\"y\",\"type\":\"scatter\"},{\"hovertemplate\":\"color=id01036<br>symbol=D<br>x=%{x}<br>y=%{y}<extra></extra>\",\"legendgroup\":\"id01036, D\",\"marker\":{\"color\":\"#19d3f3\",\"symbol\":\"square\"},\"mode\":\"markers\",\"name\":\"id01036, D\",\"orientation\":\"v\",\"showlegend\":true,\"x\":[12.678173065185547,13.210391998291016,8.322953224182129,0.9873847365379333,2.8170924186706543,3.941926956176758,7.57133674621582,2.1564741134643555,-4.377455711364746,16.372638702392578],\"xaxis\":\"x\",\"y\":[5.874677658081055,5.580002784729004,6.2942280769348145,-3.0905778408050537,-13.357423782348633,-4.059849262237549,7.53433895111084,7.620807647705078,-5.216993808746338,5.271846294403076],\"yaxis\":\"y\",\"type\":\"scatter\"},{\"hovertemplate\":\"color=id01076<br>symbol=A<br>x=%{x}<br>y=%{y}<extra></extra>\",\"legendgroup\":\"id01076, A\",\"marker\":{\"color\":\"#FF6692\",\"symbol\":\"circle\"},\"mode\":\"markers\",\"name\":\"id01076, A\",\"orientation\":\"v\",\"showlegend\":true,\"x\":[-10.025566101074219],\"xaxis\":\"x\",\"y\":[-5.353224754333496],\"yaxis\":\"y\",\"type\":\"scatter\"},{\"hovertemplate\":\"color=id01076<br>symbol=C<br>x=%{x}<br>y=%{y}<extra></extra>\",\"legendgroup\":\"id01076, C\",\"marker\":{\"color\":\"#FF6692\",\"symbol\":\"diamond\"},\"mode\":\"markers\",\"name\":\"id01076, C\",\"orientation\":\"v\",\"showlegend\":true,\"x\":[-8.08444881439209,0.5328361988067627,11.713303565979004,10.364831924438477,7.553436279296875,-10.56013011932373,9.576997756958008,1.7190121412277222,6.501013278961182,-0.6640303730964661],\"xaxis\":\"x\",\"y\":[12.509888648986816,13.773543357849121,9.947673797607422,5.958174705505371,-9.923429489135742,-8.262491226196289,-2.7795917987823486,14.077413558959961,3.192054271697998,12.446348190307617],\"yaxis\":\"y\",\"type\":\"scatter\"},{\"hovertemplate\":\"color=id01076<br>symbol=D<br>x=%{x}<br>y=%{y}<extra></extra>\",\"legendgroup\":\"id01076, D\",\"marker\":{\"color\":\"#FF6692\",\"symbol\":\"square\"},\"mode\":\"markers\",\"name\":\"id01076, D\",\"orientation\":\"v\",\"showlegend\":true,\"x\":[2.5812268257141113,-4.277774333953857,-6.45890998840332,4.655855178833008,-6.6322922706604,-5.098554611206055,1.0758126974105835,2.655277729034424,-1.2533243894577026,-10.62552547454834],\"xaxis\":\"x\",\"y\":[-3.752749443054199,-1.970338225364685,-12.21104621887207,-8.253190994262695,-6.991984844207764,10.218156814575195,-2.6962594985961914,-14.523447036743164,-4.199209690093994,-2.116487503051758],\"yaxis\":\"y\",\"type\":\"scatter\"},{\"hovertemplate\":\"color=id01170<br>symbol=A<br>x=%{x}<br>y=%{y}<extra></extra>\",\"legendgroup\":\"id01170, A\",\"marker\":{\"color\":\"#B6E880\",\"symbol\":\"circle\"},\"mode\":\"markers\",\"name\":\"id01170, A\",\"orientation\":\"v\",\"showlegend\":true,\"x\":[-7.458486557006836],\"xaxis\":\"x\",\"y\":[9.7764310836792],\"yaxis\":\"y\",\"type\":\"scatter\"},{\"hovertemplate\":\"color=id01170<br>symbol=C<br>x=%{x}<br>y=%{y}<extra></extra>\",\"legendgroup\":\"id01170, C\",\"marker\":{\"color\":\"#B6E880\",\"symbol\":\"diamond\"},\"mode\":\"markers\",\"name\":\"id01170, C\",\"orientation\":\"v\",\"showlegend\":true,\"x\":[-5.5404276847839355,-10.469412803649902,-11.553878784179688,2.476055860519409,12.386608123779297,-7.622550010681152,-3.0073742866516113,-1.103060007095337,5.313079357147217,-4.258814811706543],\"xaxis\":\"x\",\"y\":[13.80946159362793,-1.0711055994033813,-3.635633945465088,-14.098102569580078,10.038358688354492,-12.072199821472168,10.638632774353027,12.0341796875,-6.667923450469971,-10.029936790466309],\"yaxis\":\"y\",\"type\":\"scatter\"},{\"hovertemplate\":\"color=id01170<br>symbol=D<br>x=%{x}<br>y=%{y}<extra></extra>\",\"legendgroup\":\"id01170, D\",\"marker\":{\"color\":\"#B6E880\",\"symbol\":\"square\"},\"mode\":\"markers\",\"name\":\"id01170, D\",\"orientation\":\"v\",\"showlegend\":true,\"x\":[9.134305000305176,0.6704351305961609,-0.3411029875278473,-0.2342667579650879,-3.4982070922851562,4.2096147537231445,13.00551700592041,-1.4269222021102905,7.096181869506836,5.101983070373535],\"xaxis\":\"x\",\"y\":[2.9067513942718506,-14.169634819030762,-2.9515340328216553,-14.025893211364746,9.18970775604248,-3.3444082736968994,2.7583227157592773,-9.206408500671387,6.504801273345947,-3.3453257083892822],\"yaxis\":\"y\",\"type\":\"scatter\"},{\"hovertemplate\":\"color=id01171<br>symbol=A<br>x=%{x}<br>y=%{y}<extra></extra>\",\"legendgroup\":\"id01171, A\",\"marker\":{\"color\":\"#FF97FF\",\"symbol\":\"circle\"},\"mode\":\"markers\",\"name\":\"id01171, A\",\"orientation\":\"v\",\"showlegend\":true,\"x\":[-0.7852605581283569],\"xaxis\":\"x\",\"y\":[13.490235328674316],\"yaxis\":\"y\",\"type\":\"scatter\"},{\"hovertemplate\":\"color=id01171<br>symbol=C<br>x=%{x}<br>y=%{y}<extra></extra>\",\"legendgroup\":\"id01171, C\",\"marker\":{\"color\":\"#FF97FF\",\"symbol\":\"diamond\"},\"mode\":\"markers\",\"name\":\"id01171, C\",\"orientation\":\"v\",\"showlegend\":true,\"x\":[-11.010189056396484,2.5601096153259277,2.078432559967041,-7.350691318511963,-3.6586875915527344,9.685323715209961,-8.376237869262695,5.363919258117676,-3.355806589126587,9.481592178344727],\"xaxis\":\"x\",\"y\":[0.4175242483615875,-9.069316864013672,-13.396273612976074,-5.6499738693237305,6.823451042175293,1.647451400756836,-5.677899360656738,10.133584976196289,16.091644287109375,8.494668960571289],\"yaxis\":\"y\",\"type\":\"scatter\"},{\"hovertemplate\":\"color=id01171<br>symbol=D<br>x=%{x}<br>y=%{y}<extra></extra>\",\"legendgroup\":\"id01171, D\",\"marker\":{\"color\":\"#FF97FF\",\"symbol\":\"square\"},\"mode\":\"markers\",\"name\":\"id01171, D\",\"orientation\":\"v\",\"showlegend\":true,\"x\":[-4.254985809326172,-3.1730422973632812,-0.49686646461486816,4.066066265106201,2.1348726749420166,-9.193150520324707,-8.338229179382324,2.466139793395996,1.3063818216323853,7.415989875793457],\"xaxis\":\"x\",\"y\":[-10.680990219116211,-2.5419669151306152,-3.1754424571990967,-4.1797003746032715,9.132845878601074,-8.17122745513916,-10.804604530334473,6.666176795959473,-13.541341781616211,-0.2507234215736389],\"yaxis\":\"y\",\"type\":\"scatter\"},{\"hovertemplate\":\"color=id01179<br>symbol=A<br>x=%{x}<br>y=%{y}<extra></extra>\",\"legendgroup\":\"id01179, A\",\"marker\":{\"color\":\"#FECB52\",\"symbol\":\"circle\"},\"mode\":\"markers\",\"name\":\"id01179, A\",\"orientation\":\"v\",\"showlegend\":true,\"x\":[1.6250122785568237],\"xaxis\":\"x\",\"y\":[-12.483526229858398],\"yaxis\":\"y\",\"type\":\"scatter\"},{\"hovertemplate\":\"color=id01179<br>symbol=C<br>x=%{x}<br>y=%{y}<extra></extra>\",\"legendgroup\":\"id01179, C\",\"marker\":{\"color\":\"#FECB52\",\"symbol\":\"diamond\"},\"mode\":\"markers\",\"name\":\"id01179, C\",\"orientation\":\"v\",\"showlegend\":true,\"x\":[-1.3952518701553345,1.3687056303024292,-1.6692694425582886,-12.415120124816895,7.160308837890625,-2.9770357608795166,-3.494220733642578,8.469344139099121,11.87280559539795,-8.819547653198242],\"xaxis\":\"x\",\"y\":[-3.7355103492736816,-16.61390495300293,13.571785926818848,-2.3138203620910645,-1.9813964366912842,12.380110740661621,6.371356964111328,4.734421253204346,10.449114799499512,12.60200023651123],\"yaxis\":\"y\",\"type\":\"scatter\"},{\"hovertemplate\":\"color=id01179<br>symbol=D<br>x=%{x}<br>y=%{y}<extra></extra>\",\"legendgroup\":\"id01179, D\",\"marker\":{\"color\":\"#FECB52\",\"symbol\":\"square\"},\"mode\":\"markers\",\"name\":\"id01179, D\",\"orientation\":\"v\",\"showlegend\":true,\"x\":[-9.221348762512207,1.8418678045272827,-0.16310599446296692,8.130026817321777,13.097539901733398,13.03371810913086,-3.7758450508117676,6.510443687438965,-8.928573608398438,3.6440510749816895],\"xaxis\":\"x\",\"y\":[-6.555298328399658,-4.476110935211182,-9.270004272460938,6.037918567657471,7.181202411651611,3.2666409015655518,12.351214408874512,-2.9794929027557373,-8.102519035339355,-15.286195755004883],\"yaxis\":\"y\",\"type\":\"scatter\"}],                        {\"template\":{\"data\":{\"bar\":[{\"error_x\":{\"color\":\"#2a3f5f\"},\"error_y\":{\"color\":\"#2a3f5f\"},\"marker\":{\"line\":{\"color\":\"#E5ECF6\",\"width\":0.5},\"pattern\":{\"fillmode\":\"overlay\",\"size\":10,\"solidity\":0.2}},\"type\":\"bar\"}],\"barpolar\":[{\"marker\":{\"line\":{\"color\":\"#E5ECF6\",\"width\":0.5},\"pattern\":{\"fillmode\":\"overlay\",\"size\":10,\"solidity\":0.2}},\"type\":\"barpolar\"}],\"carpet\":[{\"aaxis\":{\"endlinecolor\":\"#2a3f5f\",\"gridcolor\":\"white\",\"linecolor\":\"white\",\"minorgridcolor\":\"white\",\"startlinecolor\":\"#2a3f5f\"},\"baxis\":{\"endlinecolor\":\"#2a3f5f\",\"gridcolor\":\"white\",\"linecolor\":\"white\",\"minorgridcolor\":\"white\",\"startlinecolor\":\"#2a3f5f\"},\"type\":\"carpet\"}],\"choropleth\":[{\"colorbar\":{\"outlinewidth\":0,\"ticks\":\"\"},\"type\":\"choropleth\"}],\"contour\":[{\"colorbar\":{\"outlinewidth\":0,\"ticks\":\"\"},\"colorscale\":[[0.0,\"#0d0887\"],[0.1111111111111111,\"#46039f\"],[0.2222222222222222,\"#7201a8\"],[0.3333333333333333,\"#9c179e\"],[0.4444444444444444,\"#bd3786\"],[0.5555555555555556,\"#d8576b\"],[0.6666666666666666,\"#ed7953\"],[0.7777777777777778,\"#fb9f3a\"],[0.8888888888888888,\"#fdca26\"],[1.0,\"#f0f921\"]],\"type\":\"contour\"}],\"contourcarpet\":[{\"colorbar\":{\"outlinewidth\":0,\"ticks\":\"\"},\"type\":\"contourcarpet\"}],\"heatmap\":[{\"colorbar\":{\"outlinewidth\":0,\"ticks\":\"\"},\"colorscale\":[[0.0,\"#0d0887\"],[0.1111111111111111,\"#46039f\"],[0.2222222222222222,\"#7201a8\"],[0.3333333333333333,\"#9c179e\"],[0.4444444444444444,\"#bd3786\"],[0.5555555555555556,\"#d8576b\"],[0.6666666666666666,\"#ed7953\"],[0.7777777777777778,\"#fb9f3a\"],[0.8888888888888888,\"#fdca26\"],[1.0,\"#f0f921\"]],\"type\":\"heatmap\"}],\"heatmapgl\":[{\"colorbar\":{\"outlinewidth\":0,\"ticks\":\"\"},\"colorscale\":[[0.0,\"#0d0887\"],[0.1111111111111111,\"#46039f\"],[0.2222222222222222,\"#7201a8\"],[0.3333333333333333,\"#9c179e\"],[0.4444444444444444,\"#bd3786\"],[0.5555555555555556,\"#d8576b\"],[0.6666666666666666,\"#ed7953\"],[0.7777777777777778,\"#fb9f3a\"],[0.8888888888888888,\"#fdca26\"],[1.0,\"#f0f921\"]],\"type\":\"heatmapgl\"}],\"histogram\":[{\"marker\":{\"pattern\":{\"fillmode\":\"overlay\",\"size\":10,\"solidity\":0.2}},\"type\":\"histogram\"}],\"histogram2d\":[{\"colorbar\":{\"outlinewidth\":0,\"ticks\":\"\"},\"colorscale\":[[0.0,\"#0d0887\"],[0.1111111111111111,\"#46039f\"],[0.2222222222222222,\"#7201a8\"],[0.3333333333333333,\"#9c179e\"],[0.4444444444444444,\"#bd3786\"],[0.5555555555555556,\"#d8576b\"],[0.6666666666666666,\"#ed7953\"],[0.7777777777777778,\"#fb9f3a\"],[0.8888888888888888,\"#fdca26\"],[1.0,\"#f0f921\"]],\"type\":\"histogram2d\"}],\"histogram2dcontour\":[{\"colorbar\":{\"outlinewidth\":0,\"ticks\":\"\"},\"colorscale\":[[0.0,\"#0d0887\"],[0.1111111111111111,\"#46039f\"],[0.2222222222222222,\"#7201a8\"],[0.3333333333333333,\"#9c179e\"],[0.4444444444444444,\"#bd3786\"],[0.5555555555555556,\"#d8576b\"],[0.6666666666666666,\"#ed7953\"],[0.7777777777777778,\"#fb9f3a\"],[0.8888888888888888,\"#fdca26\"],[1.0,\"#f0f921\"]],\"type\":\"histogram2dcontour\"}],\"mesh3d\":[{\"colorbar\":{\"outlinewidth\":0,\"ticks\":\"\"},\"type\":\"mesh3d\"}],\"parcoords\":[{\"line\":{\"colorbar\":{\"outlinewidth\":0,\"ticks\":\"\"}},\"type\":\"parcoords\"}],\"pie\":[{\"automargin\":true,\"type\":\"pie\"}],\"scatter\":[{\"marker\":{\"colorbar\":{\"outlinewidth\":0,\"ticks\":\"\"}},\"type\":\"scatter\"}],\"scatter3d\":[{\"line\":{\"colorbar\":{\"outlinewidth\":0,\"ticks\":\"\"}},\"marker\":{\"colorbar\":{\"outlinewidth\":0,\"ticks\":\"\"}},\"type\":\"scatter3d\"}],\"scattercarpet\":[{\"marker\":{\"colorbar\":{\"outlinewidth\":0,\"ticks\":\"\"}},\"type\":\"scattercarpet\"}],\"scattergeo\":[{\"marker\":{\"colorbar\":{\"outlinewidth\":0,\"ticks\":\"\"}},\"type\":\"scattergeo\"}],\"scattergl\":[{\"marker\":{\"colorbar\":{\"outlinewidth\":0,\"ticks\":\"\"}},\"type\":\"scattergl\"}],\"scattermapbox\":[{\"marker\":{\"colorbar\":{\"outlinewidth\":0,\"ticks\":\"\"}},\"type\":\"scattermapbox\"}],\"scatterpolar\":[{\"marker\":{\"colorbar\":{\"outlinewidth\":0,\"ticks\":\"\"}},\"type\":\"scatterpolar\"}],\"scatterpolargl\":[{\"marker\":{\"colorbar\":{\"outlinewidth\":0,\"ticks\":\"\"}},\"type\":\"scatterpolargl\"}],\"scatterternary\":[{\"marker\":{\"colorbar\":{\"outlinewidth\":0,\"ticks\":\"\"}},\"type\":\"scatterternary\"}],\"surface\":[{\"colorbar\":{\"outlinewidth\":0,\"ticks\":\"\"},\"colorscale\":[[0.0,\"#0d0887\"],[0.1111111111111111,\"#46039f\"],[0.2222222222222222,\"#7201a8\"],[0.3333333333333333,\"#9c179e\"],[0.4444444444444444,\"#bd3786\"],[0.5555555555555556,\"#d8576b\"],[0.6666666666666666,\"#ed7953\"],[0.7777777777777778,\"#fb9f3a\"],[0.8888888888888888,\"#fdca26\"],[1.0,\"#f0f921\"]],\"type\":\"surface\"}],\"table\":[{\"cells\":{\"fill\":{\"color\":\"#EBF0F8\"},\"line\":{\"color\":\"white\"}},\"header\":{\"fill\":{\"color\":\"#C8D4E3\"},\"line\":{\"color\":\"white\"}},\"type\":\"table\"}]},\"layout\":{\"annotationdefaults\":{\"arrowcolor\":\"#2a3f5f\",\"arrowhead\":0,\"arrowwidth\":1},\"autotypenumbers\":\"strict\",\"coloraxis\":{\"colorbar\":{\"outlinewidth\":0,\"ticks\":\"\"}},\"colorscale\":{\"diverging\":[[0,\"#8e0152\"],[0.1,\"#c51b7d\"],[0.2,\"#de77ae\"],[0.3,\"#f1b6da\"],[0.4,\"#fde0ef\"],[0.5,\"#f7f7f7\"],[0.6,\"#e6f5d0\"],[0.7,\"#b8e186\"],[0.8,\"#7fbc41\"],[0.9,\"#4d9221\"],[1,\"#276419\"]],\"sequential\":[[0.0,\"#0d0887\"],[0.1111111111111111,\"#46039f\"],[0.2222222222222222,\"#7201a8\"],[0.3333333333333333,\"#9c179e\"],[0.4444444444444444,\"#bd3786\"],[0.5555555555555556,\"#d8576b\"],[0.6666666666666666,\"#ed7953\"],[0.7777777777777778,\"#fb9f3a\"],[0.8888888888888888,\"#fdca26\"],[1.0,\"#f0f921\"]],\"sequentialminus\":[[0.0,\"#0d0887\"],[0.1111111111111111,\"#46039f\"],[0.2222222222222222,\"#7201a8\"],[0.3333333333333333,\"#9c179e\"],[0.4444444444444444,\"#bd3786\"],[0.5555555555555556,\"#d8576b\"],[0.6666666666666666,\"#ed7953\"],[0.7777777777777778,\"#fb9f3a\"],[0.8888888888888888,\"#fdca26\"],[1.0,\"#f0f921\"]]},\"colorway\":[\"#636efa\",\"#EF553B\",\"#00cc96\",\"#ab63fa\",\"#FFA15A\",\"#19d3f3\",\"#FF6692\",\"#B6E880\",\"#FF97FF\",\"#FECB52\"],\"font\":{\"color\":\"#2a3f5f\"},\"geo\":{\"bgcolor\":\"white\",\"lakecolor\":\"white\",\"landcolor\":\"#E5ECF6\",\"showlakes\":true,\"showland\":true,\"subunitcolor\":\"white\"},\"hoverlabel\":{\"align\":\"left\"},\"hovermode\":\"closest\",\"mapbox\":{\"style\":\"light\"},\"paper_bgcolor\":\"white\",\"plot_bgcolor\":\"#E5ECF6\",\"polar\":{\"angularaxis\":{\"gridcolor\":\"white\",\"linecolor\":\"white\",\"ticks\":\"\"},\"bgcolor\":\"#E5ECF6\",\"radialaxis\":{\"gridcolor\":\"white\",\"linecolor\":\"white\",\"ticks\":\"\"}},\"scene\":{\"xaxis\":{\"backgroundcolor\":\"#E5ECF6\",\"gridcolor\":\"white\",\"gridwidth\":2,\"linecolor\":\"white\",\"showbackground\":true,\"ticks\":\"\",\"zerolinecolor\":\"white\"},\"yaxis\":{\"backgroundcolor\":\"#E5ECF6\",\"gridcolor\":\"white\",\"gridwidth\":2,\"linecolor\":\"white\",\"showbackground\":true,\"ticks\":\"\",\"zerolinecolor\":\"white\"},\"zaxis\":{\"backgroundcolor\":\"#E5ECF6\",\"gridcolor\":\"white\",\"gridwidth\":2,\"linecolor\":\"white\",\"showbackground\":true,\"ticks\":\"\",\"zerolinecolor\":\"white\"}},\"shapedefaults\":{\"line\":{\"color\":\"#2a3f5f\"}},\"ternary\":{\"aaxis\":{\"gridcolor\":\"white\",\"linecolor\":\"white\",\"ticks\":\"\"},\"baxis\":{\"gridcolor\":\"white\",\"linecolor\":\"white\",\"ticks\":\"\"},\"bgcolor\":\"#E5ECF6\",\"caxis\":{\"gridcolor\":\"white\",\"linecolor\":\"white\",\"ticks\":\"\"}},\"title\":{\"x\":0.05},\"xaxis\":{\"automargin\":true,\"gridcolor\":\"white\",\"linecolor\":\"white\",\"ticks\":\"\",\"title\":{\"standoff\":15},\"zerolinecolor\":\"white\",\"zerolinewidth\":2},\"yaxis\":{\"automargin\":true,\"gridcolor\":\"white\",\"linecolor\":\"white\",\"ticks\":\"\",\"title\":{\"standoff\":15},\"zerolinecolor\":\"white\",\"zerolinewidth\":2}}},\"xaxis\":{\"anchor\":\"y\",\"domain\":[0.0,1.0],\"title\":{\"text\":\"x\"}},\"yaxis\":{\"anchor\":\"x\",\"domain\":[0.0,1.0],\"title\":{\"text\":\"y\"}},\"legend\":{\"title\":{\"text\":\"color, symbol\"},\"tracegroupgap\":0},\"margin\":{\"t\":60}},                        {\"responsive\": true}                    ).then(function(){\n",
              "                            \n",
              "var gd = document.getElementById('4767a1fa-3a1f-40d4-b0dc-f8621e83d6ca');\n",
              "var x = new MutationObserver(function (mutations, observer) {{\n",
              "        var display = window.getComputedStyle(gd).display;\n",
              "        if (!display || display === 'none') {{\n",
              "            console.log([gd, 'removed!']);\n",
              "            Plotly.purge(gd);\n",
              "            observer.disconnect();\n",
              "        }}\n",
              "}});\n",
              "\n",
              "// Listen for the removal of the full notebook cells\n",
              "var notebookContainer = gd.closest('#notebook-container');\n",
              "if (notebookContainer) {{\n",
              "    x.observe(notebookContainer, {childList: true});\n",
              "}}\n",
              "\n",
              "// Listen for the clearing of the current output cell\n",
              "var outputEl = gd.closest('.output');\n",
              "if (outputEl) {{\n",
              "    x.observe(outputEl, {childList: true});\n",
              "}}\n",
              "\n",
              "                        })                };                            </script>        </div>\n",
              "</body>\n",
              "</html>"
            ]
          },
          "metadata": {}
        }
      ]
    }
  ]
}