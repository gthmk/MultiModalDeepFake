{
 "cells": [
  {
   "cell_type": "code",
   "execution_count": null,
   "id": "77b999bd-c238-4094-9c5a-4561936487cc",
   "metadata": {},
   "outputs": [],
   "source": [
    "print('test')"
   ]
  }
 ],
 "metadata": {
  "kernelspec": {
   "display_name": "Python 3",
   "language": "python",
   "name": "python3"
  },
  "language_info": {
   "name": ""
  }
 },
 "nbformat": 4,
 "nbformat_minor": 5
}
